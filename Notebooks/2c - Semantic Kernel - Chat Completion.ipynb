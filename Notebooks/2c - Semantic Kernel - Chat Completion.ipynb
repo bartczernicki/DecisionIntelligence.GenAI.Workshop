{
 "cells": [
  {
   "cell_type": "markdown",
   "metadata": {},
   "source": [
    "<img style=\"float: left;padding-right: 10px\" width =\"40px\" src=\"https://raw.githubusercontent.com/bartczernicki/DecisionIntelligence.GenAI.Workshop/main/Images/SemanticKernelLogo.png\">\n",
    "\n",
    "## Semantic Kernel - Chat Completion"
   ]
  },
  {
   "cell_type": "markdown",
   "metadata": {},
   "source": [
    "Decision Intelligence applied in this module:  \n",
    "* Listing of various decision-making frameworks and with their descriptions by using Chat Completion  \n",
    "* Decision Scenario: Recommendation of a decision-making framework for specific higher-stakes decisions (purchase of a car)  \n",
    "* Illustrating a domain specific decision-making framework (millitary intelligence)  \n"
   ]
  },
  {
   "cell_type": "markdown",
   "metadata": {},
   "source": [
    "In this module, the Semantic Kernel ability to create a chat experience will be introduced. This is a much richer experience than just sending simple prompts that are stateless and context is forgotten.\n",
    "\n",
    "Semantic Kernel has first-class support for chat scenarios, where the user talks back and forth with the LLM, the arguments get populated with the history of the conversation. During each new run of the kernel, the arguments will be provided to the AI with content. This allows the LLM to know the historical context of the conversation."
   ]
  },
  {
   "cell_type": "markdown",
   "metadata": {},
   "source": [
    "### Step 1 - Initialize Configuration Builder & Build the Semantic Kernel Orchestration\n",
    "\n",
    "Execute the next two cells to:\n",
    "* Use the Configuration Builder to load the API secrets.  \n",
    "* Use the API configuration to build the Semantic Kernel orchestrator."
   ]
  },
  {
   "cell_type": "code",
   "execution_count": 1,
   "metadata": {
    "dotnet_interactive": {
     "language": "csharp"
    },
    "polyglot_notebook": {
     "kernelName": "csharp"
    },
    "vscode": {
     "languageId": "polyglot-notebook"
    }
   },
   "outputs": [
    {
     "data": {
      "text/html": [
       "<div><div></div><div></div><div><strong>Installed Packages</strong><ul><li><span>Microsoft.Extensions.Configuration, 8.0.0</span></li><li><span>Microsoft.Extensions.Configuration.Json, 8.0.0</span></li></ul></div></div>"
      ]
     },
     "metadata": {},
     "output_type": "display_data"
    }
   ],
   "source": [
    "// Import the required NuGet configuration packages\n",
    "#r \"nuget: Microsoft.Extensions.Configuration, 8.0.0\"\n",
    "#r \"nuget: Microsoft.Extensions.Configuration.Json, 8.0.0\"\n",
    "\n",
    "using Microsoft.Extensions.Configuration;\n",
    "using System.IO;\n",
    "\n",
    "// Load the configuration settings from the local.settings.json and secrets.settings.json files\n",
    "// The secrets.settings.json file is used to store sensitive information such as API keys\n",
    "var configurationBuilder = new ConfigurationBuilder()\n",
    "    .SetBasePath(Directory.GetCurrentDirectory())\n",
    "    .AddJsonFile(\"local.settings.json\", optional: true, reloadOnChange: true)\n",
    "    .AddJsonFile(\"secrets.settings.json\", optional: true, reloadOnChange: true);\n",
    "var config = configurationBuilder.Build();\n",
    "\n",
    "// IMPORTANT: You ONLY NEED either Azure OpenAI or OpenAI connectiopn info, not both.\n",
    "// Azure OpenAI Connection Info\n",
    "var azureOpenAIEndpoint = config[\"AzureOpenAI:Endpoint\"];\n",
    "var azureOpenAIAPIKey = config[\"AzureOpenAI:APIKey\"];\n",
    "var azureOpenAIModelDeploymentName = config[\"AzureOpenAI:ModelDeploymentName\"];\n",
    "// OpenAI Connection Info \n",
    "var openAIAPIKey = config[\"OpenAI:APIKey\"];\n",
    "var openAIModelId = config[\"OpenAI:ModelId\"];"
   ]
  },
  {
   "cell_type": "code",
   "execution_count": 2,
   "metadata": {
    "dotnet_interactive": {
     "language": "csharp"
    },
    "polyglot_notebook": {
     "kernelName": "csharp"
    },
    "vscode": {
     "languageId": "polyglot-notebook"
    }
   },
   "outputs": [
    {
     "data": {
      "text/html": [
       "<div><div></div><div></div><div><strong>Installed Packages</strong><ul><li><span>Microsoft.Extensions.DependencyInjection, 8.0.0</span></li><li><span>Microsoft.SemanticKernel, 1.20.0</span></li></ul></div></div>"
      ]
     },
     "metadata": {},
     "output_type": "display_data"
    },
    {
     "name": "stdout",
     "output_type": "stream",
     "text": [
      "Using Azure OpenAI Service\n"
     ]
    }
   ],
   "source": [
    "// Install the required NuGet packages\n",
    "// Note: This also installs the Dependency Injection Package to retrieve the ChatCompletionService\n",
    "#r \"nuget: Microsoft.Extensions.DependencyInjection, 8.0.0\"\n",
    "#r \"nuget: Microsoft.SemanticKernel, 1.20.0\"\n",
    "\n",
    "using Microsoft.Extensions.DependencyInjection;\n",
    "using Microsoft.SemanticKernel;\n",
    "using Microsoft.SemanticKernel.ChatCompletion;\n",
    "using Microsoft.SemanticKernel.Connectors.OpenAI;\n",
    "\n",
    "Kernel semanticKernel;\n",
    "\n",
    "// Set the flag to use Azure OpenAI or OpenAI. False to use OpenAI, True to use Azure OpenAI\n",
    "var useAzureOpenAI = true;\n",
    "\n",
    "// Create a new Semantic Kernel instance\n",
    "if (useAzureOpenAI)\n",
    "{\n",
    "    Console.WriteLine(\"Using Azure OpenAI Service\");\n",
    "    semanticKernel = Kernel.CreateBuilder()\n",
    "        .AddAzureOpenAIChatCompletion(\n",
    "            deploymentName: azureOpenAIModelDeploymentName,\n",
    "            endpoint: azureOpenAIEndpoint,\n",
    "            apiKey: azureOpenAIAPIKey)\n",
    "        .Build();\n",
    "}\n",
    "else\n",
    "{\n",
    "    Console.WriteLine(\"Using OpenAI Service\");\n",
    "    semanticKernel = Kernel.CreateBuilder()\n",
    "        .AddOpenAIChatCompletion(\n",
    "            modelId: openAIModelId,\n",
    "            apiKey: openAIAPIKey)\n",
    "        .Build();\n",
    "}\n",
    "\n",
    "var chatCompletionService = semanticKernel.Services.GetRequiredService<IChatCompletionService>();"
   ]
  },
  {
   "cell_type": "markdown",
   "metadata": {},
   "source": [
    "### Step 2 - Execute Chat Completion with Prompt Execution Settings\n",
    "\n",
    "> \"If you can’t describe what you are doing as a process, you don’t know what you’re doing.\" \n",
    ">\n",
    "> -- <cite>W. Edwards Deming (renowned American engineer, statistician, and management consultant)</cite>  \n",
    "\n",
    "\n",
    "Using the Semantic Kernel ChatCompletion service is very similar to inovoking a prompt for basic LLM interactions. The chat completion service will provide very similar results to invoking the prompt directly."
   ]
  },
  {
   "cell_type": "code",
   "execution_count": 3,
   "metadata": {
    "dotnet_interactive": {
     "language": "csharp"
    },
    "polyglot_notebook": {
     "kernelName": "csharp"
    },
    "vscode": {
     "languageId": "polyglot-notebook"
    }
   },
   "outputs": [
    {
     "name": "stdout",
     "output_type": "stream",
     "text": [
      "Certainly! Here’s a list of decision frameworks that can help improve the quality of decisions:\n",
      "\n",
      "1. **SWOT Analysis**:\n",
      "   - Evaluates Strengths, Weaknesses, Opportunities, and Threats related to a decision or project.\n",
      "\n",
      "2. **Decision Matrix**:\n",
      "   - A grid that helps prioritize options based on specific criteria, allowing for a systematic comparison.\n",
      "\n",
      "3. **Cost-Benefit Analysis**:\n",
      "   - Compares the costs and benefits of different options to determine the most financially viable choice.\n",
      "\n",
      "4. **Pareto Analysis (80/20 Rule)**:\n",
      "   - Focuses on identifying the 20% of causes that lead to 80% of the problems, helping prioritize efforts.\n",
      "\n",
      "5. **Multi-Criteria Decision Analysis (MCDA)**:\n",
      "   - Evaluates multiple conflicting criteria in decision-making, often using weighted scoring.\n",
      "\n",
      "6. **The Eisenhower Matrix**:\n",
      "   - Categorizes tasks based on urgency and importance to prioritize actions effectively.\n",
      "\n",
      "7. **OODA Loop (Observe, Orient, Decide, Act)**:\n",
      "   - A decision-making process that emphasizes agility and adaptability in dynamic environments.\n",
      "\n",
      "8. **The Six Thinking Hats**:\n",
      "   - Encourages looking at decisions from multiple perspectives (e.g., emotional, analytical, creative) to enhance understanding.\n",
      "\n",
      "9. **Root Cause Analysis**:\n",
      "   - Identifies the underlying causes of a problem to ensure that decisions address the root rather than symptoms.\n",
      "\n",
      "10. **Scenario Planning**:\n",
      "    - Involves envisioning different future scenarios to assess how various decisions might play out.\n",
      "\n",
      "11. **The Delphi Method**:\n",
      "    - A structured communication technique that gathers expert opinions to reach a consensus on complex issues.\n",
      "\n",
      "12. **Fuzzy Logic**:\n",
      "    - A method that deals with reasoning that is approximate rather than fixed and exact, useful in uncertain situations.\n",
      "\n",
      "13. **Risk Assessment Matrix**:\n",
      "    - Evaluates the likelihood and impact of risks associated with different decisions to inform choices.\n",
      "\n",
      "14. **Value Proposition Canvas**:\n",
      "    - Helps clarify the value a decision or product brings to customers, aiding in customer-focused decision-making.\n",
      "\n",
      "15. **The 5 Whys**:\n",
      "    - A technique for exploring the cause-and-effect relationships underlying a particular problem by asking \"why\" multiple times.\n",
      "\n",
      "16. **Balanced Scorecard**:\n",
      "    - A strategic planning and management system that aligns business activities to the vision and strategy of the organization.\n",
      "\n",
      "17. **Mind Mapping**:\n",
      "    - A visual tool that helps organize thoughts and ideas, facilitating clearer decision-making processes.\n",
      "\n",
      "18. **Heuristic Evaluation**:\n",
      "    - A method for identifying usability problems in a user interface through expert evaluation, useful in product decisions.\n",
      "\n",
      "19. **Game Theory**:\n",
      "    - Analyzes strategic interactions where the outcome for each participant depends on the actions of others, useful in competitive scenarios.\n",
      "\n",
      "20. **The 10/10/10 Rule**:\n",
      "    - Considers the impact of a decision in 10 minutes, 10 months, and 10 years to evaluate its long-term implications.\n",
      "\n",
      "Using these frameworks can help structure your decision-making process, leading to more informed and effective outcomes.\n"
     ]
    }
   ],
   "source": [
    "// Simple prompt to list some decision frameworks this GenAI LLM is familiar with\n",
    "var simpleDecisionPrompt = \"\"\"\n",
    "Provide a list of decision frameworks that can help improve the quality of decisions.\n",
    "\"\"\";\n",
    "\n",
    "// Create a new OpenAI prompt execution settings object\n",
    "var openAIPromptExecutionSettings = new OpenAIPromptExecutionSettings { \n",
    "    MaxTokens = 2500, \n",
    "    Temperature = 0.1, \n",
    "    TopP = 1.0, \n",
    "    FrequencyPenalty = 0.0, \n",
    "    PresencePenalty = 0.0\n",
    "    };\n",
    "\n",
    "var chatResult = await chatCompletionService.GetChatMessageContentAsync(simpleDecisionPrompt, openAIPromptExecutionSettings);\n",
    "\n",
    "Console.WriteLine(chatResult.Content);"
   ]
  },
  {
   "cell_type": "markdown",
   "metadata": {},
   "source": [
    "### Step 3 - Execute a Semantic Kernel Chat Completion with Streaming\n",
    "\n",
    "Semantic Kernel supports prompt response streaming in the ChatCompletionService. This allows responses to be streamed to the client as soon as they are made available by the LLM and service. Below the same decision prompt is executed. However, notice that chunks are streamed and can be read by the user as soon as they appear. "
   ]
  },
  {
   "cell_type": "code",
   "execution_count": 4,
   "metadata": {
    "dotnet_interactive": {
     "language": "csharp"
    },
    "polyglot_notebook": {
     "kernelName": "csharp"
    },
    "vscode": {
     "languageId": "polyglot-notebook"
    }
   },
   "outputs": [
    {
     "name": "stdout",
     "output_type": "stream",
     "text": [
      "Certainly! Here’s a list of decision frameworks that can enhance the quality of decision-making:\n",
      "\n",
      "1. **SWOT Analysis**: Evaluates the Strengths, Weaknesses, Opportunities, and Threats related to a decision or project, helping to clarify the factors involved.\n",
      "\n",
      "2. **SMART Criteria**: Ensures that objectives set in decision-making are Specific, Measurable, Achievable, Relevant, and Time-bound.\n",
      "\n",
      "3. **Decision Matrix**: A tool that uses a table to evaluate and prioritize different options based on selected criteria, allowing for a structured comparison.\n",
      "\n",
      "4. **Pros and Cons List**: A simple yet effective way to weigh the advantages and disadvantages of each option systematically.\n",
      "\n",
      "5. **Cost-Benefit Analysis**: Quantifies the expected costs and benefits of different choices, facilitating a clearer understanding of the potential return on investment.\n",
      "\n",
      "6. **Pareto Analysis (80/20 Rule)**: Focuses on identifying the 20% of causes that lead to 80% of the problems or results, helping prioritize issues effectively.\n",
      "\n",
      "7. **Six Thinking Hats**: Encourages looking at a situation from multiple perspectives (emotional, logical, creative, etc.), which fosters comprehensive understanding.\n",
      "\n",
      "8. **Fishbone Diagram (Ishikawa)**: A visual tool used to identify potential causes of a problem, aiding in strategic decision-making.\n",
      "\n",
      "9. **The Eisenhower Matrix**: Prioritizes tasks based on their urgency and importance, helping to manage time and focus on critical decisions effectively.\n",
      "\n",
      "10. **Scenario Planning**: Involves considering various future scenarios and developing strategies for each, helping to prepare for uncertainty.\n",
      "\n",
      "11. **Multi-Criteria Decision Analysis (MCDA)**: A framework that evaluates and prioritizes competing options based on multiple criteria.\n",
      "\n",
      "12. **OODA Loop**: Originally developed for military strategy, this framework (Observe, Orient, Decide, Act) helps in rapid decision-making in dynamic situations.\n",
      "\n",
      "13. **Nudge Theory**: Focuses on subtly guiding choices and behavior without restricting options, improving decisions in a predictable manner.\n",
      "\n",
      "14. **Cognitive Bias Checklists**: A series of questions to assess potential biases that could affect decision-making, promoting critical thinking.\n",
      "\n",
      "15. **Monte Carlo Simulation**: A statistical technique used to understand the impact of risk and uncertainty in prediction and forecasting models.\n",
      "\n",
      "Using these frameworks can help ensure that decisions are made thoughtfully, systematically, and with a comprehensive understanding of the factors involved."
     ]
    }
   ],
   "source": [
    "// Stream the chat completion response\n",
    "await foreach (var content in chatCompletionService.GetStreamingChatMessageContentsAsync(simpleDecisionPrompt))\n",
    "{\n",
    "    Console.Write(content);\n",
    "}"
   ]
  },
  {
   "cell_type": "markdown",
   "metadata": {},
   "source": [
    "### Step 4 - Execute a Semantic Kernel with Chat History\n",
    "\n",
    "Semantic Kernel has a ChatHistory object that can be used with the ChatCompletionService to provide historical chat context to the LLM. Notice that the ChatHistory object differentiates between the different types of chat messages:\n",
    "* System Message - System or MetaPrompt\n",
    "* User Message - A message from the user\n",
    "* Assistante Message - A message from the LLM\n",
    "\n",
    "This is a more sophisticated approach than passing chat history in a long dynamic string. ChatHistory objects can be serialized and persisted into databases as well."
   ]
  },
  {
   "cell_type": "code",
   "execution_count": 5,
   "metadata": {
    "dotnet_interactive": {
     "language": "csharp"
    },
    "polyglot_notebook": {
     "kernelName": "csharp"
    },
    "vscode": {
     "languageId": "polyglot-notebook"
    }
   },
   "outputs": [
    {
     "name": "stdout",
     "output_type": "stream",
     "text": [
      "Improving decision quality involves utilizing structured frameworks that enhance clarity, analysis, and evaluation. Here are five effective decision frameworks you can consider:\n",
      "\n",
      "### 1. **SWOT Analysis**\n",
      "   - **Description**: Evaluates Strengths, Weaknesses, Opportunities, and Threats related to a decision or strategy.\n",
      "   - **Application**:\n",
      "     - **Strengths**: What do you do well? What are your advantages?\n",
      "     - **Weaknesses**: What areas could be improved?\n",
      "     - **Opportunities**: What external factors can be leveraged?\n",
      "     - **Threats**: What obstacles or risks do you face?\n",
      "   - **Usefulness**: This framework helps in understanding both internal and external factors influencing decisions.\n",
      "\n",
      "### 2. **Decision Matrix**\n",
      "   - **Description**: A quantitative tool that evaluates multiple options against various criteria to aid in decision-making.\n",
      "   - **Application**:\n",
      "     - List options in rows and criteria in columns.\n",
      "     - Score each option against the criteria, weighting them based on importance.\n",
      "     - Calculate a total score for each option to identify the best choice.\n",
      "   - **Usefulness**: Helps to objectively compare alternatives, especially when dealing with complex decisions.\n",
      "\n",
      "### 3. **Cost-Benefit Analysis**\n",
      "   - **Description**: A financial approach that compares the expected costs of a decision against its benefits to determine the net value.\n",
      "   - **Application**:\n",
      "     - Identify and quantify costs (initial investments, operational costs, etc.).\n",
      "     - Identify and quantify benefits (revenue increase, cost savings, etc.).\n",
      "     - Calculate the net benefit and assess whether the benefits outweigh the costs.\n",
      "   - **Usefulness**: Provides a clear financial insight into the viability of a decision.\n",
      "\n",
      "### 4. **6 Thinking Hats**\n",
      "   - **Description**: A creative thinking technique developed by Edward de Bono, promoting parallel thinking and structured analysis.\n",
      "   - **Application**:\n",
      "     - Each \"hat\" represents a different perspective:\n",
      "       - **White Hat**: Facts and information.\n",
      "       - **Red Hat**: Emotions and feelings.\n",
      "       - **Black Hat**: Cautions and risks.\n",
      "       - **Yellow Hat**: Optimism and benefits.\n",
      "       - **Green Hat**: Creativity and alternatives.\n",
      "       - **Blue Hat**: Process control and organization.\n",
      "   - **Usefulness**: Encourages looking at decisions from multiple angles and fosters collaborative thinking.\n",
      "\n",
      "### 5. **Pareto Analysis (80/20 Rule)**\n",
      "   - **Description**: Identifies the most significant factors contributing to a problem or decision, based on the principle that 80% of effects come from 20% of causes.\n",
      "   - **Application**:\n",
      "     - List potential issues or alternatives.\n",
      "     - Determine the impact of each.\n",
      "     - Focus efforts on the top 20% that will yield 80% of the results.\n",
      "   - **Usefulness**: Helps prioritize actions, ensuring that resources are dedicated to the most impactful factors.\n",
      "\n",
      "### Conclusion\n",
      "Choosing the right framework depends on the context of your decision, the nature of the options available, and the level of complexity involved. Combining frameworks, where appropriate, can also enhance the decision-making process. For instance, starting with a SWOT analysis to explore options and then applying a decision matrix for a detailed comparison may provide comprehensive insights."
     ]
    }
   ],
   "source": [
    "var systemPrompt = \"\"\"\n",
    "You are a decision intelligence assistant. \n",
    "Assist the user in exploring options, reasoning through decisions, problem-solving, and applying systems thinking to various scenarios. \n",
    "Provide structured, logical, and comprehensive advice.\n",
    "\"\"\";\n",
    "// Simple prompt to list 5 decision frameworks this GenAI LLM is familiar with\n",
    "var simpleDecisionPrompt = \"\"\"\n",
    "Provide five decision frameworks that can help improve the quality of decisions.\n",
    "\"\"\";\n",
    "\n",
    "var chatHistory = new ChatHistory();\n",
    "chatHistory.AddSystemMessage(systemPrompt);\n",
    "chatHistory.AddUserMessage(simpleDecisionPrompt);\n",
    "\n",
    "var chatResponse = string.Empty;\n",
    "await foreach (var content in chatCompletionService.GetStreamingChatMessageContentsAsync(chatHistory))\n",
    "{\n",
    "    chatResponse += content;\n",
    "    Console.Write(content);\n",
    "}\n",
    "chatHistory.AddAssistantMessage(chatResponse);"
   ]
  },
  {
   "cell_type": "markdown",
   "metadata": {},
   "source": [
    "### Step 5 - Using Semantic Kernel Chat History in Conversation\n",
    "\n",
    "With Semantic Kernel maintaining state with the ChatHistory object, a user can interact with the LLM in a natural way. Note the interaction below, where the user is asking which of the particular decision frameworks are best suited to purchase a car. Without the ChatHistory being passed along, the LLM would not have had the proper context to answer the question.\n",
    "\n",
    "> \"Price is what you pay. Value is what you get.\"  \n",
    ">\n",
    "> -- <cite>Warren Buffet (one of the most successful investors of all time)</cite>  "
   ]
  },
  {
   "cell_type": "code",
   "execution_count": 6,
   "metadata": {
    "dotnet_interactive": {
     "language": "csharp"
    },
    "polyglot_notebook": {
     "kernelName": "csharp"
    },
    "vscode": {
     "languageId": "polyglot-notebook"
    }
   },
   "outputs": [
    {
     "name": "stdout",
     "output_type": "stream",
     "text": [
      "For the decision to purchase a car, **Cost-Benefit Analysis** would be the best framework to use.\n",
      "\n",
      "### Rationale:\n",
      "1. **Financial Component**: A car purchase involves significant financial investment, including purchase price, financing options, insurance, maintenance, and fuel costs. A cost-benefit analysis allows you to comprehensively assess these costs against the benefits of owning the vehicle, such as convenience, transportation needs, and potential resale value.\n",
      "\n",
      "2. **Comparison of Options**: It enables you to compare various models and features against their costs. By quantifying both ongoing costs and potential savings (like improved fuel efficiency or lower maintenance costs of a specific model), you can make an informed decision.\n",
      "\n",
      "3. **Long-term Perspective**: This framework helps you consider both the short-term expenses (e.g., purchase price, immediate fees) and long-term implications (e.g., depreciation, maintenance costs) of owning a car.\n",
      "\n",
      "### Steps to Apply the Framework:\n",
      "- **Identify Costs**: Include purchase price, financing, insurance, fuel, and maintenance.\n",
      "- **Identify Benefits**: Consider practical benefits like transportation convenience, lifestyle improvement, and any financial benefits (e.g., increased job opportunities due to mobility).\n",
      "- **Calculate Net Benefit**: Assess if the benefits outweigh the costs over the intended ownership duration.\n",
      "\n",
      "Using Cost-Benefit Analysis will provide clarity and structure to the decision, ensuring that all financial aspects of purchasing a car are thoroughly evaluated."
     ]
    }
   ],
   "source": [
    "// Simple prompt that asks a follow-up question about the purchase of a car\n",
    "// Note: No reference is made to what previous frameworks were listed\n",
    "var simpleDecisionPromptFollowup = \"\"\"\n",
    "Which of these 5 decision frameworks would work best for making a decision to purchase a car. \n",
    "Select only the single best one.\n",
    "\"\"\";\n",
    "\n",
    "// Add User message to the chat history\n",
    "chatHistory.AddUserMessage(simpleDecisionPromptFollowup);\n",
    "\n",
    "var chatResponse = string.Empty;\n",
    "await foreach (var content in chatCompletionService.GetStreamingChatMessageContentsAsync(chatHistory))\n",
    "{\n",
    "    chatResponse += content;\n",
    "    Console.Write(content);\n",
    "}\n",
    "\n",
    "// Add Assistant message to the chat history\n",
    "chatHistory.AddAssistantMessage(chatResponse);"
   ]
  },
  {
   "cell_type": "markdown",
   "metadata": {},
   "source": [
    "> \"Take time to deliberate, but when the time for action comes, stop thinking and go in.\"\n",
    ">\n",
    "> -- <cite>Napoleon Bornaparte (French Emporer and brilliant military mind)</cite>  "
   ]
  },
  {
   "cell_type": "code",
   "execution_count": 7,
   "metadata": {
    "dotnet_interactive": {
     "language": "csharp"
    },
    "polyglot_notebook": {
     "kernelName": "csharp"
    },
    "vscode": {
     "languageId": "polyglot-notebook"
    }
   },
   "outputs": [
    {
     "name": "stdout",
     "output_type": "stream",
     "text": [
      "The military intelligence community often employs various decision frameworks for analysis, strategic planning, and operational decisions. Among the five frameworks listed, the following two are particularly relevant:\n",
      "\n",
      "### 1. **SWOT Analysis**\n",
      "   - **Application**: Military planners use SWOT analysis to evaluate strengths, weaknesses, opportunities, and threats related to specific missions, operational strategies, or emerging technologies. This framework aids in assessing both internal capabilities and external environments, which is crucial for strategic decision-making.\n",
      "\n",
      "### 2. **Cost-Benefit Analysis**\n",
      "   - **Application**: Cost-benefit analysis is frequently used to determine the feasibility and resource allocation of military operations and intelligence initiatives. This framework helps to quantify the expected costs (financial, manpower, time) against the anticipated benefits (e.g., mission success, intelligence gain), informing decisions on resource deployment and investment.\n",
      "\n",
      "### Additional Note:\n",
      "Other frameworks, like **Decision Matrix** and **Pareto Analysis**, may also be utilized in certain contexts within military operations for specific evaluations or tactical decisions, but **SWOT Analysis** and **Cost-Benefit Analysis** are more predominant in broader strategic and operational planning within the military intelligence community."
     ]
    }
   ],
   "source": [
    "var simpleDecisionPromptFollowupPartTwo = \"\"\"\n",
    "Which of these 5 decision frameworks listed above are used by the military intelligence community?\n",
    "\"\"\";\n",
    "\n",
    "// Add User message to the chat history\n",
    "chatHistory.AddUserMessage(simpleDecisionPromptFollowupPartTwo);\n",
    "\n",
    "var chatResponse = string.Empty;\n",
    "await foreach (var content in chatCompletionService.GetStreamingChatMessageContentsAsync(chatHistory))\n",
    "{\n",
    "    chatResponse += content;\n",
    "    Console.Write(content);\n",
    "}\n",
    "\n",
    "// Add Assistant message to the chat history\n",
    "chatHistory.AddAssistantMessage(chatResponse);"
   ]
  },
  {
   "cell_type": "markdown",
   "metadata": {},
   "source": [
    "### Step 6 - Semantic Kernel inspecting Chat History \n",
    "\n",
    "The Semantic Kernel Chat History is a transparent object that can be inspected and written out. In fact, the ChatHistory object can be manipulated to replay chats from middle interactions to simulate different outcomes.\n",
    "\n",
    "Execute the cell below to write out the Semantic Kernel Chat History of this chat."
   ]
  },
  {
   "cell_type": "code",
   "execution_count": 9,
   "metadata": {
    "dotnet_interactive": {
     "language": "csharp"
    },
    "polyglot_notebook": {
     "kernelName": "csharp"
    },
    "vscode": {
     "languageId": "polyglot-notebook"
    }
   },
   "outputs": [
    {
     "name": "stdout",
     "output_type": "stream",
     "text": [
      "Number of chat interactions: 7\n",
      "# system: You are a decision intelligence assistant. \n",
      "Assist the user in exploring options, reasoning through decisions, problem-solving, and applying systems thinking to various scenarios. \n",
      "Provide structured, logical, and comprehensive advice.\n",
      "# user: Provide five decision frameworks that can help improve the quality of decisions.\n",
      "# assistant: Improving decision quality involves utilizing structured frameworks that enhance clarity, analysis, and evaluation. Here are five effective decision frameworks you can consider:\n",
      "\n",
      "### 1. **SWOT Analysis**\n",
      "   - **Description**: Evaluates Strengths, Weaknesses, Opportunities, and Threats related to a decision or strategy.\n",
      "   - **Application**:\n",
      "     - **Strengths**: What do you do well? What are your advantages?\n",
      "     - **Weaknesses**: What areas could be improved?\n",
      "     - **Opportunities**: What external factors can be leveraged?\n",
      "     - **Threats**: What obstacles or risks do you face?\n",
      "   - **Usefulness**: This framework helps in understanding both internal and external factors influencing decisions.\n",
      "\n",
      "### 2. **Decision Matrix**\n",
      "   - **Description**: A quantitative tool that evaluates multiple options against various criteria to aid in decision-making.\n",
      "   - **Application**:\n",
      "     - List options in rows and criteria in columns.\n",
      "     - Score each option against the criteria, weighting them based on importance.\n",
      "     - Calculate a total score for each option to identify the best choice.\n",
      "   - **Usefulness**: Helps to objectively compare alternatives, especially when dealing with complex decisions.\n",
      "\n",
      "### 3. **Cost-Benefit Analysis**\n",
      "   - **Description**: A financial approach that compares the expected costs of a decision against its benefits to determine the net value.\n",
      "   - **Application**:\n",
      "     - Identify and quantify costs (initial investments, operational costs, etc.).\n",
      "     - Identify and quantify benefits (revenue increase, cost savings, etc.).\n",
      "     - Calculate the net benefit and assess whether the benefits outweigh the costs.\n",
      "   - **Usefulness**: Provides a clear financial insight into the viability of a decision.\n",
      "\n",
      "### 4. **6 Thinking Hats**\n",
      "   - **Description**: A creative thinking technique developed by Edward de Bono, promoting parallel thinking and structured analysis.\n",
      "   - **Application**:\n",
      "     - Each \"hat\" represents a different perspective:\n",
      "       - **White Hat**: Facts and information.\n",
      "       - **Red Hat**: Emotions and feelings.\n",
      "       - **Black Hat**: Cautions and risks.\n",
      "       - **Yellow Hat**: Optimism and benefits.\n",
      "       - **Green Hat**: Creativity and alternatives.\n",
      "       - **Blue Hat**: Process control and organization.\n",
      "   - **Usefulness**: Encourages looking at decisions from multiple angles and fosters collaborative thinking.\n",
      "\n",
      "### 5. **Pareto Analysis (80/20 Rule)**\n",
      "   - **Description**: Identifies the most significant factors contributing to a problem or decision, based on the principle that 80% of effects come from 20% of causes.\n",
      "   - **Application**:\n",
      "     - List potential issues or alternatives.\n",
      "     - Determine the impact of each.\n",
      "     - Focus efforts on the top 20% that will yield 80% of the results.\n",
      "   - **Usefulness**: Helps prioritize actions, ensuring that resources are dedicated to the most impactful factors.\n",
      "\n",
      "### Conclusion\n",
      "Choosing the right framework depends on the context of your decision, the nature of the options available, and the level of complexity involved. Combining frameworks, where appropriate, can also enhance the decision-making process. For instance, starting with a SWOT analysis to explore options and then applying a decision matrix for a detailed comparison may provide comprehensive insights.\n",
      "# user: Which of these 5 decision frameworks would work best for making a decision to purchase a car. \n",
      "Select only the single best one.\n",
      "# assistant: For the decision to purchase a car, **Cost-Benefit Analysis** would be the best framework to use.\n",
      "\n",
      "### Rationale:\n",
      "1. **Financial Component**: A car purchase involves significant financial investment, including purchase price, financing options, insurance, maintenance, and fuel costs. A cost-benefit analysis allows you to comprehensively assess these costs against the benefits of owning the vehicle, such as convenience, transportation needs, and potential resale value.\n",
      "\n",
      "2. **Comparison of Options**: It enables you to compare various models and features against their costs. By quantifying both ongoing costs and potential savings (like improved fuel efficiency or lower maintenance costs of a specific model), you can make an informed decision.\n",
      "\n",
      "3. **Long-term Perspective**: This framework helps you consider both the short-term expenses (e.g., purchase price, immediate fees) and long-term implications (e.g., depreciation, maintenance costs) of owning a car.\n",
      "\n",
      "### Steps to Apply the Framework:\n",
      "- **Identify Costs**: Include purchase price, financing, insurance, fuel, and maintenance.\n",
      "- **Identify Benefits**: Consider practical benefits like transportation convenience, lifestyle improvement, and any financial benefits (e.g., increased job opportunities due to mobility).\n",
      "- **Calculate Net Benefit**: Assess if the benefits outweigh the costs over the intended ownership duration.\n",
      "\n",
      "Using Cost-Benefit Analysis will provide clarity and structure to the decision, ensuring that all financial aspects of purchasing a car are thoroughly evaluated.\n",
      "# user: Which of these 5 decision frameworks listed above are used by the military intelligence community?\n",
      "# assistant: The military intelligence community often employs various decision frameworks for analysis, strategic planning, and operational decisions. Among the five frameworks listed, the following two are particularly relevant:\n",
      "\n",
      "### 1. **SWOT Analysis**\n",
      "   - **Application**: Military planners use SWOT analysis to evaluate strengths, weaknesses, opportunities, and threats related to specific missions, operational strategies, or emerging technologies. This framework aids in assessing both internal capabilities and external environments, which is crucial for strategic decision-making.\n",
      "\n",
      "### 2. **Cost-Benefit Analysis**\n",
      "   - **Application**: Cost-benefit analysis is frequently used to determine the feasibility and resource allocation of military operations and intelligence initiatives. This framework helps to quantify the expected costs (financial, manpower, time) against the anticipated benefits (e.g., mission success, intelligence gain), informing decisions on resource deployment and investment.\n",
      "\n",
      "### Additional Note:\n",
      "Other frameworks, like **Decision Matrix** and **Pareto Analysis**, may also be utilized in certain contexts within military operations for specific evaluations or tactical decisions, but **SWOT Analysis** and **Cost-Benefit Analysis** are more predominant in broader strategic and operational planning within the military intelligence community.\n"
     ]
    }
   ],
   "source": [
    "// Print the number of chat interactions and the chat history (turns)\n",
    "Console.WriteLine(\"Number of chat interactions: \" + chatHistory.Count());\n",
    "\n",
    "foreach (var message in chatHistory)\n",
    "{\n",
    "    Console.WriteLine($\"# {message.Role}: {message.Content}\");\n",
    "}"
   ]
  }
 ],
 "metadata": {
  "kernelspec": {
   "display_name": ".NET (C#)",
   "language": "C#",
   "name": ".net-csharp"
  },
  "language_info": {
   "name": "csharp"
  },
  "polyglot_notebook": {
   "kernelInfo": {
    "defaultKernelName": "csharp",
    "items": [
     {
      "aliases": [],
      "name": "csharp"
     }
    ]
   }
  }
 },
 "nbformat": 4,
 "nbformat_minor": 2
}
