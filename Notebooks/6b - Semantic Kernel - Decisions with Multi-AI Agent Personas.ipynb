{
 "cells": [
  {
   "cell_type": "markdown",
   "metadata": {},
   "source": [
    "<div style=\"display: flex; align-items: center;\">\n",
    "  <img src=\"https://raw.githubusercontent.com/bartczernicki/DecisionIntelligence.GenAI.Workshop/main/Images/DecisionIntelligenceSemanticKernelLogo.png\" width=\"60px\" style=\"margin-right: 10px;\">\n",
    "  <span style=\"font-size: 1.5em; font-weight: bold;\">Semantic Kernel - Decisions with Multi-AI Agent Personas</span>\n",
    "</div>"
   ]
  },
  {
   "cell_type": "markdown",
   "metadata": {},
   "source": [
    "### Step 1 - Initialize Configuration Builder & Build the Semantic Kernel Orchestration "
   ]
  },
  {
   "cell_type": "markdown",
   "metadata": {},
   "source": [
    "Execute the next two cells to:\n",
    "* Use the Configuration Builder to load the API secrets.  \n",
    "* Use the API configuration to build the Semantic Kernel orchestrator."
   ]
  },
  {
   "cell_type": "code",
   "execution_count": 2,
   "metadata": {
    "polyglot_notebook": {
     "kernelName": "csharp"
    },
    "vscode": {
     "languageId": "polyglot-notebook"
    }
   },
   "outputs": [
    {
     "data": {
      "text/html": [
       "<div><div></div><div></div><div><strong>Installed Packages</strong><ul><li><span>Microsoft.Extensions.Configuration, 9.0.5</span></li><li><span>Microsoft.Extensions.Configuration.Json, 9.0.5</span></li></ul></div></div>"
      ]
     },
     "metadata": {},
     "output_type": "display_data"
    }
   ],
   "source": [
    "// Import the required NuGet configuration packages\n",
    "#r \"nuget: Microsoft.Extensions.Configuration, 9.0.5\"\n",
    "#r \"nuget: Microsoft.Extensions.Configuration.Json, 9.0.5\"\n",
    "\n",
    "//using Microsoft.Extensions.DependencyInjection;\n",
    "using Microsoft.Extensions.Configuration.Json;\n",
    "using Microsoft.Extensions.Configuration;\n",
    "using System.IO;\n",
    "\n",
    "// Load the configuration settings from the local.settings.json and secrets.settings.json files\n",
    "// The secrets.settings.json file is used to store sensitive information such as API keys\n",
    "var configurationBuilder = new ConfigurationBuilder()\n",
    "    .SetBasePath(Directory.GetCurrentDirectory())\n",
    "    .AddJsonFile(\"local.settings.json\", optional: true, reloadOnChange: true)\n",
    "    .AddJsonFile(\"secrets.settings.json\", optional: true, reloadOnChange: true);\n",
    "var config = configurationBuilder.Build();\n",
    "\n",
    "// IMPORTANT: You ONLY NEED either Azure OpenAI or OpenAI connectiopn info, not both.\n",
    "// Azure OpenAI Connection Info\n",
    "var azureOpenAIEndpoint = config[\"AzureOpenAI:Endpoint\"];\n",
    "var azureOpenAIAPIKey = config[\"AzureOpenAI:APIKey\"];\n",
    "var azureOpenAIModelDeploymentName = config[\"AzureOpenAI:ModelDeploymentName\"];\n",
    "// OpenAI Connection Info \n",
    "var openAIAPIKey = config[\"OpenAI:APIKey\"];\n",
    "var openAIModelId = config[\"OpenAI:ModelId\"];"
   ]
  },
  {
   "cell_type": "code",
   "execution_count": 3,
   "metadata": {
    "polyglot_notebook": {
     "kernelName": "csharp"
    },
    "vscode": {
     "languageId": "polyglot-notebook"
    }
   },
   "outputs": [
    {
     "data": {
      "text/html": [
       "<div><div></div><div></div><div><strong>Installed Packages</strong><ul><li><span>Microsoft.SemanticKernel, 1.55.0</span></li><li><span>Microsoft.SemanticKernel.Agents.Abstractions, 1.55.0</span></li><li><span>Microsoft.SemanticKernel.Agents.Core, 1.55.0</span></li></ul></div></div>"
      ]
     },
     "metadata": {},
     "output_type": "display_data"
    }
   ],
   "source": [
    "// Import the Semantic Kernel NuGet package\n",
    "#r \"nuget: Microsoft.SemanticKernel, 1.55\" \n",
    "#r \"nuget: Microsoft.SemanticKernel.Agents.Core, 1.55\"\n",
    "#r \"nuget: Microsoft.SemanticKernel.Agents.Abstractions, 1.55\"\n",
    "\n",
    "using Microsoft.SemanticKernel;\n",
    "using Microsoft.SemanticKernel.Agents;\n",
    "using Microsoft.SemanticKernel.ChatCompletion;\n",
    "using Microsoft.SemanticKernel.Connectors.OpenAI;\n",
    "\n",
    "var semanticKernel = Kernel.CreateBuilder()\n",
    "    .AddAzureOpenAIChatCompletion(\n",
    "        deploymentName: azureOpenAIModelDeploymentName!,\n",
    "        endpoint: azureOpenAIEndpoint!,\n",
    "        apiKey: azureOpenAIAPIKey!)\n",
    "    .Build();"
   ]
  },
  {
   "cell_type": "markdown",
   "metadata": {},
   "source": [
    "### Step 2 - Decisions with Multi-Agent Personas "
   ]
  },
  {
   "cell_type": "markdown",
   "metadata": {},
   "source": [
    "> \"The many are smarter than the few when it comes to solving problems, predicting outcomes, and innovating solutions, as long as there is diversity of opinion, independence, and decentralization.\"  \n",
    ">\n",
    "> -- <cite>James Surowiecki (Author \"The Wisdom of Crowds\")</cite> "
   ]
  },
  {
   "cell_type": "markdown",
   "metadata": {},
   "source": [
    "Single agent personas are effective constructs in Semantic Kernel, but can largely be replicated in other mechanisms with prompts. **Creating multiple personas (experts) that can interact with each other is the true power of the Semantic Kernel Agent functionality. This allows multiple chat agents to interact in various ways.** \n",
    "\n",
    "Execute the cell below to illustrate how two different personas can interact in a decision-making process moderated by a decision intelligence expert that makes the final reasoning conclusiion on the decision task at hand. In the output notice key steps:\n",
    "* Each expert (Dwight and Ben) make their recommendation, based on their decision persona\n",
    "* The final recommendation is made based on the synthesis of the agent recommendations  \n",
    "* This multi-agent interaction to converge on a single decision mimic the self-consistency GenAI pattern \n",
    "\n",
    "Note: The execution below can take the some time. Use GPT-4.1-mini to optimize speed of the execution.  "
   ]
  },
  {
   "cell_type": "code",
   "execution_count": null,
   "metadata": {
    "polyglot_notebook": {
     "kernelName": "csharp"
    },
    "vscode": {
     "languageId": "polyglot-notebook"
    }
   },
   "outputs": [
    {
     "ename": "Error",
     "evalue": "(46,1): error SKEXP0110: 'Microsoft.SemanticKernel.Agents.AgentGroupChat' is for evaluation purposes only and is subject to change or removal in future updates. Suppress this diagnostic to proceed.\n(9,52): error SKEXP0110: 'Microsoft.SemanticKernel.Agents.Chat.TerminationStrategy' is for evaluation purposes only and is subject to change or removal in future updates. Suppress this diagnostic to proceed.",
     "output_type": "error",
     "traceback": [
      "(46,1): error SKEXP0110: 'Microsoft.SemanticKernel.Agents.AgentGroupChat' is for evaluation purposes only and is subject to change or removal in future updates. Suppress this diagnostic to proceed.\n",
      "(9,52): error SKEXP0110: 'Microsoft.SemanticKernel.Agents.Chat.TerminationStrategy' is for evaluation purposes only and is subject to change or removal in future updates. Suppress this diagnostic to proceed."
     ]
    }
   ],
   "source": [
    "using Microsoft.SemanticKernel;\n",
    "using Microsoft.SemanticKernel.Agents;\n",
    "using Microsoft.SemanticKernel.Agents.Chat;\n",
    "using Microsoft.SemanticKernel.ChatCompletion;\n",
    "using System.Threading;\n",
    "\n",
    "#pragma warning disable SKEXP0110\n",
    "// Create a new chat TerminationStrategy that will terminate when the final message contains the term \"final decision\"\n",
    "private sealed class ApprovalTerminationStrategy : TerminationStrategy\n",
    "{\n",
    "    // Terminate when the final message contains the term \"approve\"\n",
    "    protected override Task<bool> ShouldAgentTerminateAsync(Agent agent, IReadOnlyList<ChatMessageContent> history, CancellationToken cancellationToken)\n",
    "        => Task.FromResult(history[history.Count - 1].Content?.Contains(\"final decision\", StringComparison.OrdinalIgnoreCase) ?? false);\n",
    "}\n",
    "\n",
    "var assistantDwightEisenhower = new ChatCompletionAgent\n",
    "{\n",
    "    Kernel = semanticKernel,\n",
    "    Name = \"DwightEisenhower\", // Dwight Eisenhower persona\n",
    "    Description = \"A decision intelligence agent that uses the Eisenhower Decision Priorotization Matrix.\",\n",
    "    Instructions = \"You are a decision intelligence strategist with the knowledge of Dwight Eisenhower's Decision Prioritization Matrix. Assist the user in exploring options, reasoning through decisions, problem-solving, and applying systems thinking to various scenarios. Provide structured, logical, and comprehensive advice.\"\n",
    "};\n",
    "\n",
    "var assistantBenFranklin = new ChatCompletionAgent\n",
    "{\n",
    "    Kernel = semanticKernel,\n",
    "    Name = \"BenFranklin\", // Ben Franklin persona\n",
    "    Description = \"A decision intelligence agent that uses the Ben Franklin Decision Framework.\",\n",
    "    Instructions = \"You are a decision intelligence strategist with the knowledge of Ben Franklin's Decision Framework. Assist the user in exploring options, reasoning through decisions, problem-solving, and applying systems thinking to various scenarios. Provide structured, logical, and comprehensive advice.\"\n",
    "};\n",
    "\n",
    "var assistantDecisionMaker = new ChatCompletionAgent\n",
    "{\n",
    "    Kernel = semanticKernel,\n",
    "    Name = \"DecisionMaker\",\n",
    "    Description = \"A decision intelligence agent that approves the final decision.\",\n",
    "    Instructions = \"\"\"\n",
    "    You are a Decision Intelligence maker. Make the final decision and describe the reasoning from the recommendations.\n",
    "    You're laser focused on the goal at hand. Don't waste time with chit chat.\n",
    "    Consider suggestions when refining an idea. \n",
    "    When ready to approve the final the decision, use the words final decision to approve the final decision.\n",
    "    \"\"\"\n",
    "};\n",
    "\n",
    "// Create a chat for agent interaction.\n",
    "AgentGroupChat chat =\n",
    "    new(assistantDwightEisenhower, assistantBenFranklin, assistantDecisionMaker)\n",
    "    {\n",
    "        ExecutionSettings =\n",
    "            new()\n",
    "            {\n",
    "                // Here a TerminationStrategy subclass is used that will terminate when\n",
    "                // an assistant message contains the term \"approve\".\n",
    "                TerminationStrategy =\n",
    "                    new ApprovalTerminationStrategy()\n",
    "                    {\n",
    "                        // Only the art-director may approve.\n",
    "                        Agents = [assistantDecisionMaker],\n",
    "                        // Limit total number of turns\n",
    "                        MaximumIterations = 10,\n",
    "                    }\n",
    "            }\n",
    "    };\n",
    "\n",
    "// Invoke chat and display messages.\n",
    "ChatMessageContent decisionRecommendation = new(AuthorRole.User, \"\"\"\n",
    "### Decision To Process:  \n",
    "I am thinking of buying a rental property versus investing in Bitcoing. \n",
    "What things should I consider in making this decision?\n",
    "### Decision Constraints:  \n",
    "1) You want to optimize for long-term financial growth, but also mitigate risk. \n",
    "2) You have a budget of $500,000 cash for the investment. \n",
    "3) You are the in early 40s and the breadwinner of your family and need to ensure financial stability.\n",
    "4) You don't have much debt, but have kids going to college in the next 5 years.\n",
    "5) You are not an expert in real estate or cryptocurrency, but have a basic understanding of both.\n",
    "\n",
    "When generating Markdown, do not use any headings higher than ###. \n",
    "Avoid # and ## headers. Use only ###, ####, or lower-level headings if necessary. \n",
    "All top-level section headers should start at ### or lower.  \n",
    "\"\"\");\n",
    "chat.AddChatMessage(decisionRecommendation);\n",
    "decisionRecommendation.Content.DisplayAs(\"text/markdown\");\n",
    "Console.WriteLine();\n",
    "Console.WriteLine();\n",
    "\n",
    "await foreach (ChatMessageContent response in chat.InvokeAsync())\n",
    "{\n",
    "    response.Content.DisplayAs(\"text/markdown\");\n",
    "}"
   ]
  },
  {
   "cell_type": "markdown",
   "metadata": {},
   "source": [
    "### Step 3 - Advanced Multi-Agent Decision Orchestration  "
   ]
  },
  {
   "cell_type": "code",
   "execution_count": null,
   "metadata": {
    "polyglot_notebook": {
     "kernelName": "csharp"
    },
    "vscode": {
     "languageId": "polyglot-notebook"
    }
   },
   "outputs": [
    {
     "data": {
      "text/html": [
       "<div><div></div><div></div><div><strong>Installed Packages</strong><ul><li><span>Microsoft.SemanticKernel.Agents.Magentic, 1.55.0-preview</span></li><li><span>Microsoft.SemanticKernel.Agents.Orchestration, 1.55.0-preview</span></li><li><span>Microsoft.SemanticKernel.Agents.Runtime.InProcess, 1.55.0-preview</span></li></ul></div></div>"
      ]
     },
     "metadata": {},
     "output_type": "display_data"
    },
    {
     "data": {
      "text/markdown": [
       "### Decision To Process:  \n",
       "I am thinking of buying a rental property versus investing in Bitcoing. \n",
       "What things should I consider in making this decision?\n",
       "### Decision Constraints:  \n",
       "1) You want to optimize for long-term financial growth, but also mitigate risk. \n",
       "2) You have a budget of $500,000 cash for the investment. \n",
       "3) You are the in early 40s and the breadwinner of your family and need to ensure financial stability.\n",
       "4) You don't have much debt, but have kids going to college in the next 5 years.\n",
       "5) You are not an expert in real estate or cryptocurrency, but have a basic understanding of both.\n",
       "\n",
       "When generating Markdown, do not use any headings higher than ###. \n",
       "Avoid # and ## headers. Use only ###, ####, or lower-level headings if necessary. \n",
       "All top-level section headers should start at ### or lower.  "
      ]
     },
     "metadata": {},
     "output_type": "display_data"
    },
    {
     "name": "stdout",
     "output_type": "stream",
     "text": [
      "----------------------------------------------------------\n",
      "----------------------------------------------------------\n"
     ]
    },
    {
     "data": {
      "text/markdown": [
       "### FINAL RECOMMENDATION"
      ]
     },
     "metadata": {},
     "output_type": "display_data"
    }
   ],
   "source": [
    "// Import the new Magentic orchestration package and Semantic Kernel InProcessRuntime\n",
    "#r \"nuget: Microsoft.SemanticKernel.Agents.Magentic, 1.55.0-preview\" \n",
    "#r \"nuget: Microsoft.SemanticKernel.Agents.Orchestration, 1.55.0-preview\" \n",
    "#r \"nuget: Microsoft.SemanticKernel.Agents.Runtime.InProcess, 1.55.0-preview\" \n",
    "\n",
    "using Microsoft.SemanticKernel.Agents;\n",
    "using Microsoft.SemanticKernel.Agents.Magentic;\n",
    "using Microsoft.SemanticKernel.Agents.Orchestration;\n",
    "using Microsoft.SemanticKernel.Agents.Runtime.InProcess;\n",
    "\n",
    "// Create a Devil's advocate agent that rigorously tests and challenges recommendations\n",
    "var assistantDevilsAdvocate = new ChatCompletionAgent\n",
    "{\n",
    "    Kernel = semanticKernel,\n",
    "    Name = \"DevilsAdvocate\",\n",
    "    Description = \"A decision intelligence agent that acts as a devil's advocate, rigorously testing and challenging recommendations.\",\n",
    "    Instructions = @\"\n",
    "You are a devil’s advocate decision intelligence strategist. \n",
    "Your job is to critically evaluate any proposed recommendations or decisions by:\n",
    "  1. Identifying hidden assumptions and blind spots  \n",
    "  2. Raising potential risks, unintended consequences, and edge cases  \n",
    "  3. Questioning feasibility, resource constraints, and stakeholder buy-in  \n",
    "  4. Suggesting alternative viewpoints or counter-arguments  \n",
    "  5. Prompting further data, evidence, or analysis where needed  \n",
    "Respond in a structured way: state each challenge clearly, explain why it matters, \n",
    "and recommend how to address or investigate it further.\"\n",
    "};\n",
    "\n",
    "\n",
    "#pragma warning disable SKEXP0110\n",
    "#pragma warning disable SKEXP0001\n",
    "var magenticManager = new StandardMagenticManager(\n",
    "    semanticKernel.GetRequiredService<IChatCompletionService>(),\n",
    "    new OpenAIPromptExecutionSettings())\n",
    "{\n",
    "    MaximumInvocationCount = 10, // Maximum number of invocations per orchestration\n",
    "};\n",
    "\n",
    "\n",
    "// Initalize the ChatHistory to store the messages exchanged during the orchestration\n",
    "ChatHistory history = [];\n",
    "\n",
    "// Define a response callback to handle the responses from the orchestration\n",
    "// All the agent messages will be added in the history\n",
    "ValueTask responseCallback(ChatMessageContent response)\n",
    "{\n",
    "    history.Add(response);\n",
    "    return ValueTask.CompletedTask;\n",
    "}\n",
    "\n",
    "// Create the MagenticOrchestration with the agents and the response callback\n",
    "MagenticOrchestration orchestration = new MagenticOrchestration(\n",
    "    magenticManager,\n",
    "    assistantDevilsAdvocate,\n",
    "    assistantDwightEisenhower,\n",
    "    assistantBenFranklin,\n",
    "    assistantDecisionMaker)\n",
    "{\n",
    "    ResponseCallback = responseCallback,\n",
    "};\n",
    "\n",
    "// Create an Semantic Kernel InProcessRuntime to run the orchestration\n",
    "InProcessRuntime runtime = new InProcessRuntime();\n",
    "await runtime.StartAsync();\n",
    "\n",
    "string decisionToProcess = \"\"\"\n",
    "### Decision To Process:  \n",
    "I am thinking of buying a rental property versus investing in Bitcoing. \n",
    "What things should I consider in making this decision?\n",
    "### Decision Constraints:  \n",
    "1) You want to optimize for long-term financial growth, but also mitigate risk. \n",
    "2) You have a budget of $500,000 cash for the investment. \n",
    "3) You are the in early 40s and the breadwinner of your family and need to ensure financial stability.\n",
    "4) You don't have much debt, but have kids going to college in the next 5 years.\n",
    "5) You are not an expert in real estate or cryptocurrency, but have a basic understanding of both.\n",
    "\n",
    "When generating Markdown, do not use any headings higher than ###. \n",
    "Avoid # and ## headers. Use only ###, ####, or lower-level headings if necessary. \n",
    "All top-level section headers should start at ### or lower.  \n",
    "\"\"\";\n",
    "decisionToProcess.DisplayAs(\"text/markdown\");\n",
    "Console.WriteLine(\"----------------------------------------------------------\");\n",
    "Console.WriteLine(\"----------------------------------------------------------\");\n",
    "\"### FINAL RECOMMENDATION\".DisplayAs(\"text/markdown\");\n",
    "\n",
    "// Invoke the orchestration with the decision to process\n",
    "var orchestrationResult = await orchestration.InvokeAsync(decisionToProcess, runtime);\n",
    "// Display the decision recommendation from the orchestration result with a timeout of 300 seconds\n",
    "string decisionRecommendation = await orchestrationResult.GetValueAsync(TimeSpan.FromSeconds(300));\n",
    "decisionRecommendation.DisplayAs(\"text/markdown\");\n",
    "\n",
    "Console.WriteLine(\"----------------------------------------------------------\");\n",
    "Console.WriteLine(\"----------------------------------------------------------\");\n",
    "\"### ORCHESTRATION HISTORY\".DisplayAs(\"text/markdown\");\n",
    "\n",
    "// Show the history of messages exchanged during the orchestration\n",
    "foreach (ChatMessageContent message in history)\n",
    "{\n",
    "    var messageString = $\"\"\"\n",
    "    ### {message.Role} - {message.AuthorName}: \n",
    "    {message.Content}\n",
    "    \"\"\";\n",
    "    messageString.DisplayAs(\"text/markdown\");\n",
    "}\n",
    "\n",
    "// Wait for the runtime to complete all tasks\n",
    "// Dispose the runtime to clean up resources\n",
    "await runtime.RunUntilIdleAsync();\n",
    "await runtime.DisposeAsync()"
   ]
  }
 ],
 "metadata": {
  "kernelspec": {
   "display_name": ".NET (C#)",
   "language": "C#",
   "name": ".net-csharp"
  },
  "language_info": {
   "name": "python"
  },
  "polyglot_notebook": {
   "kernelInfo": {
    "defaultKernelName": "csharp",
    "items": [
     {
      "aliases": [],
      "name": "csharp"
     }
    ]
   }
  }
 },
 "nbformat": 4,
 "nbformat_minor": 2
}
