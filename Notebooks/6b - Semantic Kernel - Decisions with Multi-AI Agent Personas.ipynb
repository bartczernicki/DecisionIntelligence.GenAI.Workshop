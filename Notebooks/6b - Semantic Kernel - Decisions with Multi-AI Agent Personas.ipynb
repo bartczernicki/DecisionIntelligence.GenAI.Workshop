{
 "cells": [
  {
   "cell_type": "markdown",
   "metadata": {},
   "source": [
    "<div style=\"display: flex; align-items: center;\">\n",
    "  <img src=\"https://raw.githubusercontent.com/bartczernicki/DecisionIntelligence.GenAI.Workshop/main/Images/DecisionIntelligenceSemanticKernelLogo.png\" width=\"60px\" style=\"margin-right: 10px;\">\n",
    "  <span style=\"font-size: 1.5em; font-weight: bold;\">Semantic Kernel - Decisions with Multi-AI Agent Personas</span>\n",
    "</div>"
   ]
  },
  {
   "cell_type": "markdown",
   "metadata": {},
   "source": [
    "### Step 1 - Initialize Configuration Builder & Build the Semantic Kernel Orchestration "
   ]
  },
  {
   "cell_type": "markdown",
   "metadata": {},
   "source": [
    "Execute the next two cells to:\n",
    "* Use the Configuration Builder to load the API secrets.  \n",
    "* Use the API configuration to build the Semantic Kernel orchestrator."
   ]
  },
  {
   "cell_type": "code",
   "execution_count": 2,
   "metadata": {
    "polyglot_notebook": {
     "kernelName": "csharp"
    },
    "vscode": {
     "languageId": "polyglot-notebook"
    }
   },
   "outputs": [
    {
     "data": {
      "text/html": [
       "<div><div></div><div></div><div><strong>Installed Packages</strong><ul><li><span>Microsoft.Extensions.Configuration, 9.0.5</span></li><li><span>Microsoft.Extensions.Configuration.Json, 9.0.5</span></li></ul></div></div>"
      ]
     },
     "metadata": {},
     "output_type": "display_data"
    }
   ],
   "source": [
    "// Import the required NuGet configuration packages\n",
    "#r \"nuget: Microsoft.Extensions.Configuration, 9.0.5\"\n",
    "#r \"nuget: Microsoft.Extensions.Configuration.Json, 9.0.5\"\n",
    "\n",
    "//using Microsoft.Extensions.DependencyInjection;\n",
    "using Microsoft.Extensions.Configuration.Json;\n",
    "using Microsoft.Extensions.Configuration;\n",
    "using System.IO;\n",
    "\n",
    "// Load the configuration settings from the local.settings.json and secrets.settings.json files\n",
    "// The secrets.settings.json file is used to store sensitive information such as API keys\n",
    "var configurationBuilder = new ConfigurationBuilder()\n",
    "    .SetBasePath(Directory.GetCurrentDirectory())\n",
    "    .AddJsonFile(\"local.settings.json\", optional: true, reloadOnChange: true)\n",
    "    .AddJsonFile(\"secrets.settings.json\", optional: true, reloadOnChange: true);\n",
    "var config = configurationBuilder.Build();\n",
    "\n",
    "// IMPORTANT: You ONLY NEED either Azure OpenAI or OpenAI connectiopn info, not both.\n",
    "// Azure OpenAI Connection Info\n",
    "var azureOpenAIEndpoint = config[\"AzureOpenAI:Endpoint\"];\n",
    "var azureOpenAIAPIKey = config[\"AzureOpenAI:APIKey\"];\n",
    "var azureOpenAIModelDeploymentName = config[\"AzureOpenAI:ModelDeploymentName\"];\n",
    "// OpenAI Connection Info \n",
    "var openAIAPIKey = config[\"OpenAI:APIKey\"];\n",
    "var openAIModelId = config[\"OpenAI:ModelId\"];"
   ]
  },
  {
   "cell_type": "code",
   "execution_count": 3,
   "metadata": {
    "polyglot_notebook": {
     "kernelName": "csharp"
    },
    "vscode": {
     "languageId": "polyglot-notebook"
    }
   },
   "outputs": [
    {
     "data": {
      "text/html": [
       "<div><div></div><div></div><div><strong>Installed Packages</strong><ul><li><span>Microsoft.SemanticKernel, 1.55.0</span></li><li><span>Microsoft.SemanticKernel.Agents.Abstractions, 1.55.0</span></li><li><span>Microsoft.SemanticKernel.Agents.Core, 1.55.0</span></li></ul></div></div>"
      ]
     },
     "metadata": {},
     "output_type": "display_data"
    }
   ],
   "source": [
    "// Import the Semantic Kernel NuGet package\n",
    "#r \"nuget: Microsoft.SemanticKernel, 1.55\" \n",
    "#r \"nuget: Microsoft.SemanticKernel.Agents.Core, 1.55\"\n",
    "#r \"nuget: Microsoft.SemanticKernel.Agents.Abstractions, 1.55\"\n",
    "\n",
    "using Microsoft.SemanticKernel;\n",
    "using Microsoft.SemanticKernel.Agents;\n",
    "using Microsoft.SemanticKernel.ChatCompletion;\n",
    "using Microsoft.SemanticKernel.Connectors.OpenAI;\n",
    "\n",
    "var semanticKernel = Kernel.CreateBuilder()\n",
    "    .AddAzureOpenAIChatCompletion(\n",
    "        deploymentName: azureOpenAIModelDeploymentName!,\n",
    "        endpoint: azureOpenAIEndpoint!,\n",
    "        apiKey: azureOpenAIAPIKey!)\n",
    "    .Build();"
   ]
  },
  {
   "cell_type": "markdown",
   "metadata": {},
   "source": [
    "### Step 2 - Decisions with Multi-Agent Personas "
   ]
  },
  {
   "cell_type": "markdown",
   "metadata": {},
   "source": [
    "> \"The many are smarter than the few when it comes to solving problems, predicting outcomes, and innovating solutions, as long as there is diversity of opinion, independence, and decentralization.\"  \n",
    ">\n",
    "> -- <cite>James Surowiecki (Author \"The Wisdom of Crowds\")</cite> "
   ]
  },
  {
   "cell_type": "markdown",
   "metadata": {},
   "source": [
    "Single agent personas are effective constructs in Semantic Kernel, but can largely be replicated in other mechanisms with prompts. **Creating multiple personas (experts) that can interact with each other is the true power of the Semantic Kernel Agent functionality. This allows multiple chat agents to interact in various ways.** \n",
    "\n",
    "Execute the cell below to illustrate how two different personas can interact in a decision-making process moderated by a decision intelligence expert that makes the final reasoning conclusiion on the decision task at hand. In the output notice key steps:\n",
    "* Each expert (Dwight and Ben) make their recommendation, based on their decision persona\n",
    "* The final recommendation is made based on the synthesis of the agent recommendations  \n",
    "* This multi-agent interaction to converge on a single decision mimic the self-consistency GenAI pattern \n",
    "\n",
    "Note: The execution below can take the some time. Use GPT-4.1-mini to optimize speed of the execution.  "
   ]
  },
  {
   "cell_type": "code",
   "execution_count": null,
   "metadata": {
    "polyglot_notebook": {
     "kernelName": "csharp"
    },
    "vscode": {
     "languageId": "polyglot-notebook"
    }
   },
   "outputs": [
    {
     "ename": "Error",
     "evalue": "(46,1): error SKEXP0110: 'Microsoft.SemanticKernel.Agents.AgentGroupChat' is for evaluation purposes only and is subject to change or removal in future updates. Suppress this diagnostic to proceed.\n(9,52): error SKEXP0110: 'Microsoft.SemanticKernel.Agents.Chat.TerminationStrategy' is for evaluation purposes only and is subject to change or removal in future updates. Suppress this diagnostic to proceed.",
     "output_type": "error",
     "traceback": [
      "(46,1): error SKEXP0110: 'Microsoft.SemanticKernel.Agents.AgentGroupChat' is for evaluation purposes only and is subject to change or removal in future updates. Suppress this diagnostic to proceed.\n",
      "(9,52): error SKEXP0110: 'Microsoft.SemanticKernel.Agents.Chat.TerminationStrategy' is for evaluation purposes only and is subject to change or removal in future updates. Suppress this diagnostic to proceed."
     ]
    }
   ],
   "source": [
    "using Microsoft.SemanticKernel;\n",
    "using Microsoft.SemanticKernel.Agents;\n",
    "using Microsoft.SemanticKernel.Agents.Chat;\n",
    "using Microsoft.SemanticKernel.ChatCompletion;\n",
    "using System.Threading;\n",
    "\n",
    "#pragma warning disable SKEXP0110\n",
    "// Create a new chat TerminationStrategy that will terminate when the final message contains the term \"final decision\"\n",
    "private sealed class ApprovalTerminationStrategy : TerminationStrategy\n",
    "{\n",
    "    // Terminate when the final message contains the term \"approve\"\n",
    "    protected override Task<bool> ShouldAgentTerminateAsync(Agent agent, IReadOnlyList<ChatMessageContent> history, CancellationToken cancellationToken)\n",
    "        => Task.FromResult(history[history.Count - 1].Content?.Contains(\"final decision\", StringComparison.OrdinalIgnoreCase) ?? false);\n",
    "}\n",
    "\n",
    "var assistantDwightEisenhower = new ChatCompletionAgent\n",
    "{\n",
    "    Kernel = semanticKernel,\n",
    "    Name = \"DwightEisenhower\", // Dwight Eisenhower persona\n",
    "    Description = \"A decision intelligence agent that uses the Eisenhower Decision Priorotization Matrix.\",\n",
    "    Instructions = \"You are a decision intelligence strategist with the knowledge of Dwight Eisenhower's Decision Prioritization Matrix. Assist the user in exploring options, reasoning through decisions, problem-solving, and applying systems thinking to various scenarios. Provide structured, logical, and comprehensive advice.\"\n",
    "};\n",
    "\n",
    "var assistantBenFranklin = new ChatCompletionAgent\n",
    "{\n",
    "    Kernel = semanticKernel,\n",
    "    Name = \"BenFranklin\", // Ben Franklin persona\n",
    "    Description = \"A decision intelligence agent that uses the Ben Franklin Decision Framework.\",\n",
    "    Instructions = \"You are a decision intelligence strategist with the knowledge of Ben Franklin's Decision Framework. Assist the user in exploring options, reasoning through decisions, problem-solving, and applying systems thinking to various scenarios. Provide structured, logical, and comprehensive advice.\"\n",
    "};\n",
    "\n",
    "var assistantDecisionMaker = new ChatCompletionAgent\n",
    "{\n",
    "    Kernel = semanticKernel,\n",
    "    Name = \"DecisionMaker\",\n",
    "    Description = \"A decision intelligence agent that approves the final decision.\",\n",
    "    Instructions = \"\"\"\n",
    "    You are a Decision Intelligence maker. Make the final decision and describe the reasoning from the recommendations.\n",
    "    You're laser focused on the goal at hand. Don't waste time with chit chat.\n",
    "    Consider suggestions when refining an idea. \n",
    "    When ready to approve the final the decision, use the words final decision to approve the final decision.\n",
    "    \"\"\"\n",
    "};\n",
    "\n",
    "// Create a chat for agent interaction.\n",
    "AgentGroupChat chat =\n",
    "    new(assistantDwightEisenhower, assistantBenFranklin, assistantDecisionMaker)\n",
    "    {\n",
    "        ExecutionSettings =\n",
    "            new()\n",
    "            {\n",
    "                // Here a TerminationStrategy subclass is used that will terminate when\n",
    "                // an assistant message contains the term \"approve\".\n",
    "                TerminationStrategy =\n",
    "                    new ApprovalTerminationStrategy()\n",
    "                    {\n",
    "                        // Only the art-director may approve.\n",
    "                        Agents = [assistantDecisionMaker],\n",
    "                        // Limit total number of turns\n",
    "                        MaximumIterations = 10,\n",
    "                    }\n",
    "            }\n",
    "    };\n",
    "\n",
    "// Invoke chat and display messages.\n",
    "ChatMessageContent decisionRecommendation = new(AuthorRole.User, \"\"\"\n",
    "### Decision To Process:  \n",
    "I am thinking of buying a rental property versus investing in Bitcoing. \n",
    "What things should I consider in making this decision?\n",
    "### Decision Constraints:  \n",
    "1) You want to optimize for long-term financial growth, but also mitigate risk. \n",
    "2) You have a budget of $500,000 cash for the investment. \n",
    "3) You are the in early 40s and the breadwinner of your family and need to ensure financial stability.\n",
    "4) You don't have much debt, but have kids going to college in the next 5 years.\n",
    "5) You are not an expert in real estate or cryptocurrency, but have a basic understanding of both.\n",
    "\n",
    "When generating Markdown, do not use any headings higher than ###. \n",
    "Avoid # and ## headers. Use only ###, ####, or lower-level headings if necessary. \n",
    "All top-level section headers should start at ### or lower.  \n",
    "\"\"\");\n",
    "chat.AddChatMessage(decisionRecommendation);\n",
    "decisionRecommendation.Content.DisplayAs(\"text/markdown\");\n",
    "Console.WriteLine();\n",
    "Console.WriteLine();\n",
    "\n",
    "await foreach (ChatMessageContent response in chat.InvokeAsync())\n",
    "{\n",
    "    response.Content.DisplayAs(\"text/markdown\");\n",
    "}"
   ]
  },
  {
   "cell_type": "markdown",
   "metadata": {},
   "source": [
    "### Step 3 - Decisions with Advanced Multi-Agent Decision Orchestration  "
   ]
  },
  {
   "cell_type": "markdown",
   "metadata": {},
   "source": [
    "The previous example was quite simplistic as it basically put several agents together with a moderator and it completed once the words \"Final Decision\" were emitted. Advanced multi-agent orchestrations can provide much more powerful control around how agents work together. Semantic Kernel supports several orchestration patterns, each designed for different collaboration scenarios. These patterns are available as part of the framework and can be easily extended or customized. \n",
    "\n",
    "One of these patterns is the Magnetic orchestration, which is a powerful multi-agent pattern designed for managing complex, open-ended tasks. The Magentic orchestration in Semantic Kernel is inspired by the \"Magentic-One\" system. It involves a dedicated Magentic manager that coordinates a team of specialized agents to solve intricate problems. This manager is powered by an AI model to perform the coordination. It selects the next agent based on different factors in the process like: task progress, agent capabilities, evolving context etc. "
   ]
  },
  {
   "cell_type": "code",
   "execution_count": 10,
   "metadata": {
    "polyglot_notebook": {
     "kernelName": "csharp"
    },
    "vscode": {
     "languageId": "polyglot-notebook"
    }
   },
   "outputs": [
    {
     "data": {
      "text/html": [
       "<div><div></div><div></div><div><strong>Installed Packages</strong><ul><li><span>Microsoft.SemanticKernel.Agents.Magentic, 1.55.0-preview</span></li><li><span>Microsoft.SemanticKernel.Agents.Orchestration, 1.55.0-preview</span></li><li><span>Microsoft.SemanticKernel.Agents.Runtime.InProcess, 1.55.0-preview</span></li></ul></div></div>"
      ]
     },
     "metadata": {},
     "output_type": "display_data"
    },
    {
     "data": {
      "text/markdown": [
       "### Decision To Process:  \n",
       "I am thinking of buying a rental property versus investing in Bitcoing. \n",
       "What things should I consider in making this decision?\n",
       "### Decision Constraints:  \n",
       "1) You want to optimize for long-term financial growth, but also mitigate risk. \n",
       "2) You have a budget of $500,000 cash for the investment. \n",
       "3) You are the in early 40s and the breadwinner of your family and need to ensure financial stability.\n",
       "4) You don't have much debt, but have kids going to college in the next 5 years.\n",
       "5) You are not an expert in real estate or cryptocurrency, but have a basic understanding of both.\n",
       "\n",
       "When generating Markdown, do not use any headings higher than ###. \n",
       "Avoid # and ## headers. Use only ###, ####, or lower-level headings if necessary. \n",
       "All top-level section headers should start at ### or lower.  "
      ]
     },
     "metadata": {},
     "output_type": "display_data"
    },
    {
     "name": "stdout",
     "output_type": "stream",
     "text": [
      "----------------------------------------------------------\n",
      "----------------------------------------------------------\n"
     ]
    },
    {
     "data": {
      "text/markdown": [
       "### FINAL RECOMMENDATION"
      ]
     },
     "metadata": {},
     "output_type": "display_data"
    },
    {
     "data": {
      "text/markdown": [
       "### Comparing Rental Property vs. Bitcoin for Long-Term Investment\n",
       "\n",
       "If you are considering buying a rental property versus investing in Bitcoin, here is a focused analysis that addresses your specific constraints:\n",
       "\n",
       "- Optimize for long-term growth and risk mitigation.\n",
       "- A budget of $500,000 cash.\n",
       "- In your early 40s, as the breadwinner with kids approaching college.\n",
       "- Little debt, but needing to ensure financial stability.\n",
       "- Basic understanding of both real estate and cryptocurrency.\n",
       "\n",
       "---\n",
       "\n",
       "### Critical Considerations and Risks\n",
       "\n",
       "#### Rental Property\n",
       "\n",
       "**Pros**\n",
       "- Potential for stable rental income, which can offset college or living expenses.\n",
       "- Tangible asset with a historical record of appreciation.\n",
       "- Tax deductions available (depreciation, maintenance, etc.).\n",
       "- Some protection against inflation, as rents and property values may rise.\n",
       "- Established, regulated market with mature legal frameworks.\n",
       "\n",
       "**Cons**\n",
       "- Highly illiquid; selling can be slow or costly, making it harder to quickly access cash for college/emergencies.\n",
       "- Ongoing management demands, even with property managers.\n",
       "- High concentration risk if you put all your capital into one or two properties.\n",
       "- Subject to local market downturns or regulatory shifts (e.g., rent control).\n",
       "- Maintenance, vacancies, or legal issues can erode returns unexpectedly.\n",
       "\n",
       "#### Bitcoin\n",
       "\n",
       "**Pros**\n",
       "- High potential for outsized long-term appreciation.\n",
       "- Can be liquidated quickly (unless exchanges freeze or markets seize).\n",
       "- Portfolio diversification; does not correlate directly with real estate.\n",
       "- No need to manage tenants or property.\n",
       "\n",
       "**Cons**\n",
       "- Extreme volatility; price drops of 30–60% are common, risking family security.\n",
       "- No steady income—returns are based on price speculation alone.\n",
       "- Unclear regulatory future; governments may tax, restrict, or ban.\n",
       "- Taxation can be complex, especially in short-term trades.\n",
       "- Security risks (loss/hack of private keys).\n",
       "\n",
       "---\n",
       "\n",
       "### Priority Decision Factors\n",
       "\n",
       "#### Importance & Urgency\n",
       "\n",
       "- **Do First (Important & Urgent):**\n",
       "  - Secure liquidity for college and emergencies.\n",
       "  - Manage risk to avoid jeopardizing your family's security.\n",
       "- **Plan and Research (Important, Not Urgent):**\n",
       "  - Analyze long-term growth, after-tax returns, and inflation protection.\n",
       "  - Consider ongoing management responsibilities.\n",
       "  - Seek tax or financial advice.\n",
       "- **Avoid (Not Important, Not Urgent):**\n",
       "  - Chasing hype, media fads, or all-in bets on a single asset.\n",
       "\n",
       "---\n",
       "\n",
       "### Synthesis & Recommendation\n",
       "\n",
       "Given your needs for family stability, upcoming college expenses, moderate risk tolerance, and desire for growth:\n",
       "\n",
       "> **Do not allocate your full $500,000 to either a single property or Bitcoin.**  \n",
       ">\n",
       "> - Invest the majority (75–90%) in a stable rental property or a real estate fund, ensuring you retain a sufficient cash reserve for college costs and emergencies.\n",
       "> - If you wish to participate in Bitcoin's potential growth, limit your allocation to a small, defined portion (no more than 5–10%) of your investable assets—amounts you can afford to lose without impacting family needs.\n",
       "> - Always maintain adequate cash or equivalent liquidity outside of both investments to cover known near-term obligations.\n",
       "\n",
       "#### Rationale\n",
       "- A rental property or diversified real estate fund is less volatile, provides some steady income, and aligns with long-term, stable financial growth suitable for a family breadwinner.\n",
       "- Bitcoin’s volatility and regulatory uncertainty make it high-risk for someone in your position; holding a small amount for diversification is acceptable, but it shouldn’t threaten core security goals.\n",
       "- This approach also guards against the illiquidity of real estate and the unpredictability of cryptocurrency.\n",
       "\n",
       "#### Best Practices\n",
       "- Prioritize cash reserves for tuition or emergencies.\n",
       "- Consider indirect real estate investment options (REITs) if you prefer less management or risk.\n",
       "- Consult a professional for tax and financial planning specific to your situation.\n",
       "\n",
       "---\n",
       "\n",
       "> **Final Guidance:**  \n",
       "> Allocate the majority of your resources toward a stable, income-generating asset like a rental property, keep sufficient liquid funds for upcoming obligations, and invest only a minor portion (if any) in Bitcoin. This balanced, risk-mitigated approach is best suited to your current life stage and responsibilities.\n",
       "\n",
       "---\n",
       "\n",
       "_No external images, citations, or references were provided or specified in the conversation._"
      ]
     },
     "metadata": {},
     "output_type": "display_data"
    },
    {
     "name": "stdout",
     "output_type": "stream",
     "text": [
      "----------------------------------------------------------\n",
      "----------------------------------------------------------\n"
     ]
    },
    {
     "data": {
      "text/markdown": [
       "### ORCHESTRATION HISTORY"
      ]
     },
     "metadata": {},
     "output_type": "display_data"
    },
    {
     "data": {
      "text/markdown": [
       "### Assistant - DevilsAdvocate: \n",
       "### Hidden Assumptions and Blind Spots\n",
       "\n",
       "#### 1. Expected Returns & Volatility  \n",
       "- **Assumption:** Both real estate and Bitcoin will appreciate over time.\n",
       "    - **Why it matters:** Both assets have significant volatility and risks—Bitcoin especially, which can see 50% swings in months; real estate can also stagnate or decline.\n",
       "    - **Recommendation:** Analyze historical performance, but do not assume past trends will continue. Model “downside” scenarios for both, considering a multi-year bear market.\n",
       "\n",
       "#### 2. Liquidity Constraints  \n",
       "- **Assumption:** Funds can be accessed when needed.\n",
       "    - **Why it matters:** Rental properties are highly illiquid and can take months to sell. Bitcoin is more liquid but may experience slippage or withdrawal freezes on exchanges during volatility spikes.\n",
       "    - **Recommendation:** Map out how quickly you could access funds in each investment if a college tuition bill or family emergency arises.\n",
       "\n",
       "#### 3. Expertise and Time Requirements  \n",
       "- **Assumption:** Both investments require similar time/skill.\n",
       "    - **Why it matters:** Managing rental property (even with a manager) involves effort—tenant issues, maintenance, legal compliance—versus the largely passive (but risky) “buy and hold” of Bitcoin.\n",
       "    - **Recommendation:** Realistically assess the time and stress you’re willing/able to absorb, and the cost of outsourcing (property managers, tax advisors, etc.).\n",
       "\n",
       "#### 4. Tax Implications  \n",
       "- **Assumption:** Either asset will be taxed similarly when you access value.\n",
       "    - **Why it matters:** Real estate offers depreciation, deductions, and 1031 exchanges; Bitcoin gains are taxed as property—potential for higher short-term capital gains. \n",
       "    - **Recommendation:** Consult with a tax advisor to project after-tax returns for both, especially if you may need to exit within 5–10 years.\n",
       "\n",
       "### Risks, Unintended Consequences, and Edge Cases\n",
       "\n",
       "#### 1. Market Timing  \n",
       "- **Risk:** Both Bitcoin and real estate may be peaking or could crash after your purchase.\n",
       "    - **Why it matters:** Locking in at a high price can take a decade to recover or never result in a positive outcome.\n",
       "    - **Recommendation:** Consider dollar-cost averaging into Bitcoin, or waiting for a real estate correction; or invest some of your cash into lower-risk/diversified assets.\n",
       "\n",
       "#### 2. Concentration Risk  \n",
       "- **Risk:** Placing all $500K in one rental or Bitcoin makes your portfolio vulnerable to a single asset’s fate.\n",
       "    - **Why it matters:** Major unexpected events (new regulations; neighborhood decline; Bitcoin ban) can wipe out value.\n",
       "    - **Recommendation:** Evaluate a split investment, or add more diversified vehicles like index funds or REITs.\n",
       "\n",
       "#### 3. Regulatory & Policy Shifts  \n",
       "- **Risk:** Bitcoin could face adverse regulation; local rental laws can shift, affecting profits or rights.\n",
       "    - **Why it matters:** These are often unpredictable and can have an outsized effect, especially compared to stocks/bonds.\n",
       "    - **Recommendation:** Research local ordinances and global crypto trends; consider consultation with legal experts.\n",
       "\n",
       "### Feasibility, Resource Constraints, and Stakeholder Buy-in\n",
       "\n",
       "#### 1. Ability to Absorb a Loss  \n",
       "- **Issue:** Would a $100-250K drawdown threaten your family's education funding or daily needs?\n",
       "    - **Why it matters:** As the sole breadwinner, loss tolerance must be lower than for a risk-seeking investor.\n",
       "    - **Recommendation:** Create a budget and stress test: what does your net worth and cash flow look like if each asset loses 40–70% value before selling?  \n",
       "    - **Further Data:** Minimum emergency fund and projected college outflows should be set aside separately.\n",
       "\n",
       "#### 2. Stakeholder Comfort  \n",
       "- **Issue:** Family’s comfort with asset classes or personal risk.\n",
       "    - **Why it matters:** Spouse or kids may feel nervous about volatile or illiquid assets, causing stress.\n",
       "    - **Recommendation:** Discuss your choices openly with dependents or partners to gauge support.\n",
       "\n",
       "### Alternative Viewpoints/Counter-Arguments\n",
       "\n",
       "- **You don’t have to choose only between these two.** A blended, diversified portfolio (mix of real estate, equities, fixed-income, and some crypto) would lower risk.\n",
       "- **Don’t overlook opportunity cost or inflation.** Cash on hand with inflation erodes value. There may be other asset classes (such as low-cost index funds or TIPS) that better balance risk/reward with easy liquidity.\n",
       "- **Real estate can be indirect.** Consider REITs or real estate mutual funds as a way to access real estate returns with more liquidity, less hands-on work.\n",
       "\n",
       "### Prompt for Further Analysis\n",
       "\n",
       "- Model multiple scenarios: strong growth, stagnation, and crisis for both asset types.\n",
       "- Calculate worst-case drawdowns and your portfolio's survival (financial and emotional) in each.\n",
       "- Ask a fee-only financial planner to run numbers for college needs under varied investment returns.\n",
       "- Research your target real estate markets' fundamentals and regulatory trends. For Bitcoin, follow regulatory news and consider your security/custody approach.\n",
       "- Consider stress-testing your plan by imagining a sudden need for $100K+ cash within two years.\n",
       "\n",
       "### Conclusion\n",
       "\n",
       "Neither a single rental property nor Bitcoin is optimal for someone with your upcoming obligations and risk profile. Broaden to a more diversified approach, run the numbers carefully, and consult experts before risking large amounts—especially with assets prone to significant volatility or liquidity issues."
      ]
     },
     "metadata": {},
     "output_type": "display_data"
    },
    {
     "data": {
      "text/markdown": [
       "### Assistant - DwightEisenhower: \n",
       "### Eisenhower Matrix: Decision Variables for Rental Property vs. Bitcoin Investment\n",
       "\n",
       "#### *Use this matrix to clarify which factors demand immediate attention and which can be managed or researched further.*\n",
       "\n",
       "|                    | **Important & Urgent**                   | **Important but Not Urgent**          |\n",
       "|--------------------|------------------------------------------|---------------------------------------|\n",
       "| **Do First**       | *Liquidity Needs*                        | *Long-Term Growth Potential*          |\n",
       "|                    | - Upcoming college costs                 | - Capital appreciation trajectory     |\n",
       "|                    | - Possible emergencies                   | - Inflation-hedging ability           |\n",
       "|                    | *Risk Management*                        | *Tax Efficiency*                      |\n",
       "|                    | - Maximum loss tolerance                 | - After-tax outcomes over 5–15 yrs    |\n",
       "|                    | - Volatility (esp. for Bitcoin)          | *Time Commitment / Expertise Building*|\n",
       "|                    | - Regulatory risk (both)                 | - Leveling up knowledge & using advisors |\n",
       "\n",
       "| **Not Important but Urgent**             | **Not Important & Not Urgent**            |\n",
       "|------------------------------------------|-------------------------------------------|\n",
       "| *Current Market Sentiment*               | *Aesthetic appeal/fad value*              |\n",
       "| - Daily price/news shocks                | - Peer pressure; media hypes              |\n",
       "| *Closing/Setup Logistics*                | *Hypothetical windfalls*                  |\n",
       "| - Paperwork deadlines (real estate)      | - “I’ll be rich if...” thinking           |\n",
       "| - Crypto exchange setup                  |                                           |\n",
       "\n",
       "---\n",
       "\n",
       "### Analysis:  \n",
       "**Focus First:**  \n",
       "- **Liquidity Needs:** Ensuring your investment allows you to access funds for college/unexpected events is most urgent & important.\n",
       "- **Risk Management:** Protecting your capital so that big losses won’t threaten family stability.\n",
       "- **Time/Energy Requirements:** Both learning curve and ongoing maintenance—more so with rental property.\n",
       "\n",
       "**Plan and Research:**  \n",
       "- **Long-Term Growth Potential & Tax Efficiency:** Compare after-tax returns and appreciation over a 5–10 year horizon, considering your moderate risk tolerance and lack of time for intense management.\n",
       "- **Level Up Expertise:** Devote time for further learning or hiring trusted advisors (property managers, tax planners, or crypto custodians).\n",
       "\n",
       "**Ignore or Delegate:**  \n",
       "- Ignore flashy headlines or promises of quick riches.\n",
       "- Recognize that closing logistics or exchange setup, though sometimes urgent, do not drive the quality of your long-term decision.\n",
       "\n",
       "---\n",
       "\n",
       "### Takeaway  \n",
       "Prioritize *stability, liquidity, and safety*. Avoid allocating your full $500K to opaque or volatile assets unless you are fully prepared for all downside scenarios and have non-invested funds to cover urgent needs. Set a clear boundary between the “core” safe money and any “exploration” money for higher-risk bets. Consider seeking expert counsel for both tax and risk modeling before acting."
      ]
     },
     "metadata": {},
     "output_type": "display_data"
    },
    {
     "data": {
      "text/markdown": [
       "### Assistant - BenFranklin: \n",
       "### Rental Property Investment: Pros & Cons\n",
       "\n",
       "**Pros**\n",
       "- **Potential for Stable Income**: Rental income is regular and can help offset college or living costs.\n",
       "- **Tangible Asset**: Physical property is less likely to collapse to zero value, providing some security.\n",
       "- **Appreciation Potential**: Historically, real estate has appreciated over time, albeit often slowly and unevenly.\n",
       "- **Tax Advantages**: Depreciation and possible 1031 exchanges can minimize tax liability.\n",
       "- **Leverage Option**: Even with cash, you might use a portion and borrow the rest to split risk/capital.\n",
       "- **Inflation Hedge**: Rents and property values often rise with inflation.\n",
       "\n",
       "**Cons**\n",
       "- **Illiquidity**: It can take months to sell a property if you need cash for college or emergencies.\n",
       "- **Time and Expertise Required**: Managing property (even with a manager) demands attention; unexpected issues will arise.\n",
       "- **High Concentration Risk**: Full $500,000 in one (or maybe two) properties means lack of diversification.\n",
       "- **Market/Regulatory Risks**: Local real estate markets can underperform or be hit with new regulations (rent control, zoning changes).\n",
       "- **Unexpected Costs**: Maintenance, vacancy, legal disputes, or property taxes can impact returns.\n",
       "\n",
       "---\n",
       "\n",
       "### Bitcoin Investment: Pros & Cons\n",
       "\n",
       "**Pros**\n",
       "- **High Potential for Long-Term Growth**: Bitcoin has seen significant appreciation; some analysts believe in its disruptive future.\n",
       "- **High Liquidity**: You can typically sell Bitcoin quickly 24/7 (though with slippage risks in a crash).\n",
       "- **No Management Required**: Passive “buy and hold”—little day-to-day work outside of security/asset management.\n",
       "- **Global Asset**: Not tied to local markets or currencies.\n",
       "- **Portfolio Diversification**: Not directly correlated with real estate or stocks over long periods.\n",
       "\n",
       "**Cons**\n",
       "- **Extreme Volatility**: Bitcoin regularly experiences 30–60% price drops—this could jeopardize funds needed for college or family emergencies.\n",
       "- **Uncertain Regulatory Future**: Governments may restrict, tax, or ban crypto, which could crash the market or make assets inaccessible.\n",
       "- **No Income Stream**: Unlike rent, you won’t get cash flow—returns are 100% capital appreciation/depreciation until you sell.\n",
       "- **Custody/Security Risk**: Hacking, scams, or losing wallet access are real threats for non-experts.\n",
       "- **Tax Complexity**: Tax rules can be less favorable and more complex, especially with short holding periods.\n",
       "\n",
       "---\n",
       "\n",
       "### Comparative Summary\n",
       "\n",
       "**Financial Growth:**  \n",
       "- Higher upside potential with Bitcoin, but also much higher risk of large, rapid losses.\n",
       "- Real estate offers slower, steadier growth and steady cash flow potential.\n",
       "\n",
       "**Risk Mitigation:**  \n",
       "- Real estate is less volatile and has more established legal/tax frameworks—better fits a need for stability and reliability.\n",
       "- Bitcoin’s volatility, regulatory uncertainty, and security risks make it a very high-risk choice for a family breadwinner.\n",
       "\n",
       "**Liquidity:**  \n",
       "- Bitcoin is *more* liquid unless exchanges freeze or markets are seized, but this comes with the trade-off of volatility.\n",
       "- Real estate is highly illiquid; you may not be able to extract cash quickly without selling at a loss.\n",
       "\n",
       "**Family Stability & Upcoming Costs:**  \n",
       "- Rental properties can help with college costs via ongoing cash flow, but beware of illiquidity if large amounts are needed fast.\n",
       "- Bitcoin could potentially provide fast access, but with a serious risk of timing losses that collide with college payment deadlines.\n",
       "\n",
       "**Experience Required:**  \n",
       "- Both have a learning curve. Real estate may require more ongoing management but is a more mature, regulated market.\n",
       "- Bitcoin is technically easier but, as a non-expert, you’re more exposed to fraud or user errors.\n",
       "\n",
       "---\n",
       "\n",
       "### Alignment with Your Needs\n",
       "\n",
       "**Given your constraints:**\n",
       "- *You need stability and access to funds for college soon.*\n",
       "- *You have moderate knowledge and cannot afford a large losing bet.*\n",
       "- *Your profile suggests income/family stability is top priority, with growth as a close second.*\n",
       "\n",
       "**Recommendation:**\n",
       "- Rental property is better aligned, provided you keep adequate cash reserves and understand the illiquidity.\n",
       "- Bitcoin could play a small “satellite” role (a modest % of funds, e.g., 5–10%) for long-term growth potential and diversity, but a large, single bet is not advisable for your needs.\n",
       "\n",
       "**Best Practice:**  \n",
       "Consider a mix: majority to real estate or diversified (REITs, index funds) with modest Bitcoin exposure for growth. Prioritize an emergency fund and dedicated college savings to ensure stability for your family. Seek professional advice for tax and risk planning before moving forward."
      ]
     },
     "metadata": {},
     "output_type": "display_data"
    },
    {
     "data": {
      "text/markdown": [
       "### Assistant - DecisionMaker: \n",
       "### Final Recommendation and Rationale\n",
       "\n",
       "Based on your financial profile, risk tolerance, family stability needs, and upcoming college costs, **investing the full $500,000 in either a single rental property or all in Bitcoin is not optimal**. Instead, allocate the majority to a **diversified, lower-risk investment**—such as a quality rental property or real estate fund—with a smaller allocation (if any) toward Bitcoin.\n",
       "\n",
       "**Action Plan:**\n",
       "1. **Primary Allocation (75–90%):** Invest in a rental property or real estate-focused fund, ensuring you keep a sufficient cash buffer for college and emergencies. This provides steady income, long-term growth potential, and stability, aligning with your need to fund upcoming expenses and your lower risk tolerance as your family’s breadwinner.\n",
       "2. **Secondary Allocation (0–10%):** If desired, allocate a small portion to Bitcoin for diversification and growth, but only what you can afford to lose without impacting your family or college plans. This limits exposure to extreme volatility and regulatory risk while enabling upside participation.\n",
       "3. **Emergency/College Reserve (at least 10–15%):** Hold enough cash or highly liquid assets aside immediately for planned near-term needs to avoid forced selling of any investment.\n",
       "\n",
       "**Rationale:**  \n",
       "- A rental property or stable real estate investment offers income, some inflation protection, and lower volatility, which is sensible for someone with significant family obligations and near-term expenses.\n",
       "- Heavy Bitcoin exposure is not a fit for your stability and liquidity needs; a small allocation is only reasonable if treated as speculative, not core savings.\n",
       "- Maintaining liquidity safeguards you against emergencies and tuition deadlines, preventing the need to sell assets at a loss.\n",
       "\n",
       "**Key Trade-Offs:**  \n",
       "- You sacrifice some upside potential of going “all-in” on Bitcoin but dramatically reduce the chance of severe losses threatening your family’s financial security.\n",
       "- You give up day-to-day liquidity in exchange for stable returns, but mitigate this with planned cash reserves.\n",
       "- You avoid overconcentration risk by not putting your full $500K in a single property or asset.\n",
       "\n",
       "**Final decision:**  \n",
       "**Allocate the majority of your capital to a stable rental property (or real estate fund) and keep adequate cash for college/emergencies. Only consider a small, defined portion in Bitcoin as a speculative growth play, never at the expense of your family’s security or core goals. Seek professional financial and tax guidance to structure your allocations and holdings appropriately.**"
      ]
     },
     "metadata": {},
     "output_type": "display_data"
    }
   ],
   "source": [
    "// Import the new Magentic orchestration package and Semantic Kernel InProcessRuntime\n",
    "#r \"nuget: Microsoft.SemanticKernel.Agents.Magentic, 1.55.0-preview\" \n",
    "#r \"nuget: Microsoft.SemanticKernel.Agents.Orchestration, 1.55.0-preview\" \n",
    "#r \"nuget: Microsoft.SemanticKernel.Agents.Runtime.InProcess, 1.55.0-preview\" \n",
    "\n",
    "using Microsoft.SemanticKernel.Agents;\n",
    "using Microsoft.SemanticKernel.Agents.Magentic;\n",
    "using Microsoft.SemanticKernel.Agents.Orchestration;\n",
    "using Microsoft.SemanticKernel.Agents.Runtime.InProcess;\n",
    "\n",
    "// Create a Devil's advocate agent that rigorously tests and challenges recommendations\n",
    "var assistantDevilsAdvocate = new ChatCompletionAgent\n",
    "{\n",
    "    Kernel = semanticKernel,\n",
    "    Name = \"DevilsAdvocate\",\n",
    "    Description = \"A decision intelligence agent that acts as a devil's advocate, rigorously testing and challenging recommendations.\",\n",
    "    Instructions = @\"\n",
    "You are a devil’s advocate decision intelligence strategist. \n",
    "Your job is to critically evaluate any proposed recommendations or decisions by:\n",
    "  1. Identifying hidden assumptions and blind spots  \n",
    "  2. Raising potential risks, unintended consequences, and edge cases  \n",
    "  3. Questioning feasibility, resource constraints, and stakeholder buy-in  \n",
    "  4. Suggesting alternative viewpoints or counter-arguments  \n",
    "  5. Prompting further data, evidence, or analysis where needed  \n",
    "Respond in a structured way: state each challenge clearly, explain why it matters, \n",
    "and recommend how to address or investigate it further.\"\n",
    "};\n",
    "\n",
    "\n",
    "#pragma warning disable SKEXP0110\n",
    "#pragma warning disable SKEXP0001\n",
    "var magenticManager = new StandardMagenticManager(\n",
    "    semanticKernel.GetRequiredService<IChatCompletionService>(),\n",
    "    new OpenAIPromptExecutionSettings())\n",
    "{\n",
    "    MaximumInvocationCount = 10, // Maximum number of invocations per orchestration\n",
    "};\n",
    "\n",
    "\n",
    "// Initalize the ChatHistory to store the messages exchanged during the orchestration\n",
    "ChatHistory history = [];\n",
    "\n",
    "// Define a response callback to handle the responses from the orchestration\n",
    "// All the agent messages will be added in the history\n",
    "ValueTask responseCallback(ChatMessageContent response)\n",
    "{\n",
    "    history.Add(response);\n",
    "    return ValueTask.CompletedTask;\n",
    "}\n",
    "\n",
    "// Create the MagenticOrchestration with the agents and the response callback\n",
    "MagenticOrchestration orchestration = new MagenticOrchestration(\n",
    "    magenticManager,\n",
    "    assistantDevilsAdvocate,\n",
    "    assistantDwightEisenhower,\n",
    "    assistantBenFranklin,\n",
    "    assistantDecisionMaker)\n",
    "{\n",
    "    ResponseCallback = responseCallback,\n",
    "};\n",
    "\n",
    "// Create an Semantic Kernel InProcessRuntime to run the orchestration\n",
    "InProcessRuntime runtime = new InProcessRuntime();\n",
    "await runtime.StartAsync();\n",
    "\n",
    "string decisionToProcess = \"\"\"\n",
    "### Decision To Process:  \n",
    "I am thinking of buying a rental property versus investing in Bitcoing. \n",
    "What things should I consider in making this decision?\n",
    "### Decision Constraints:  \n",
    "1) You want to optimize for long-term financial growth, but also mitigate risk. \n",
    "2) You have a budget of $500,000 cash for the investment. \n",
    "3) You are the in early 40s and the breadwinner of your family and need to ensure financial stability.\n",
    "4) You don't have much debt, but have kids going to college in the next 5 years.\n",
    "5) You are not an expert in real estate or cryptocurrency, but have a basic understanding of both.\n",
    "\n",
    "When generating Markdown, do not use any headings higher than ###. \n",
    "Avoid # and ## headers. Use only ###, ####, or lower-level headings if necessary. \n",
    "All top-level section headers should start at ### or lower.  \n",
    "\"\"\";\n",
    "decisionToProcess.DisplayAs(\"text/markdown\");\n",
    "Console.WriteLine(\"----------------------------------------------------------\");\n",
    "Console.WriteLine(\"----------------------------------------------------------\");\n",
    "\"### FINAL RECOMMENDATION\".DisplayAs(\"text/markdown\");\n",
    "\n",
    "// Invoke the orchestration with the decision to process\n",
    "var orchestrationResult = await orchestration.InvokeAsync(decisionToProcess, runtime);\n",
    "// Display the decision recommendation from the orchestration result with a timeout of 300 seconds\n",
    "string decisionRecommendation = await orchestrationResult.GetValueAsync(TimeSpan.FromSeconds(300));\n",
    "decisionRecommendation.DisplayAs(\"text/markdown\");\n",
    "\n",
    "Console.WriteLine(\"----------------------------------------------------------\");\n",
    "Console.WriteLine(\"----------------------------------------------------------\");\n",
    "\"### ORCHESTRATION HISTORY\".DisplayAs(\"text/markdown\");\n",
    "\n",
    "// Show the history of messages exchanged during the orchestration\n",
    "foreach (ChatMessageContent message in history)\n",
    "{\n",
    "    var messageString = $\"\"\"\n",
    "    ### {message.Role} - {message.AuthorName}: \n",
    "    {message.Content}\n",
    "    \"\"\";\n",
    "    messageString.DisplayAs(\"text/markdown\");\n",
    "}\n",
    "\n",
    "// Wait for the runtime to complete all tasks\n",
    "// Dispose the runtime to clean up resources\n",
    "await runtime.RunUntilIdleAsync();\n",
    "await runtime.DisposeAsync()"
   ]
  }
 ],
 "metadata": {
  "kernelspec": {
   "display_name": ".NET (C#)",
   "language": "C#",
   "name": ".net-csharp"
  },
  "language_info": {
   "name": "python"
  },
  "polyglot_notebook": {
   "kernelInfo": {
    "defaultKernelName": "csharp",
    "items": [
     {
      "aliases": [],
      "name": "csharp"
     }
    ]
   }
  }
 },
 "nbformat": 4,
 "nbformat_minor": 2
}
