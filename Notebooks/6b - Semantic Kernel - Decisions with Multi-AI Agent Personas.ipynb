{
 "cells": [
  {
   "cell_type": "markdown",
   "metadata": {},
   "source": [
    "<div style=\"display: flex; align-items: center;\">\n",
    "  <img src=\"https://raw.githubusercontent.com/bartczernicki/DecisionIntelligence.GenAI.Workshop/main/Images/DecisionIntelligenceSemanticKernelLogo.png\" width=\"60px\" style=\"margin-right: 10px;\">\n",
    "  <span style=\"font-size: 1.5em; font-weight: bold;\">Semantic Kernel - Decisions with Multi-AI Agent Personas</span>\n",
    "</div>"
   ]
  },
  {
   "cell_type": "markdown",
   "metadata": {},
   "source": [
    "### Step 1 - Initialize Configuration Builder & Build the Semantic Kernel Orchestration "
   ]
  },
  {
   "cell_type": "markdown",
   "metadata": {},
   "source": [
    "Execute the next two cells to:\n",
    "* Use the Configuration Builder to load the API secrets.  \n",
    "* Use the API configuration to build the Semantic Kernel orchestrator."
   ]
  },
  {
   "cell_type": "code",
   "execution_count": 1,
   "metadata": {
    "polyglot_notebook": {
     "kernelName": "csharp"
    }
   },
   "outputs": [
    {
     "data": {
      "text/html": [
       "<div><div></div><div></div><div><strong>Installed Packages</strong><ul><li><span>Microsoft.Extensions.Configuration, 9.0.8</span></li><li><span>Microsoft.Extensions.Configuration.Json, 9.0.8</span></li></ul></div></div>"
      ]
     },
     "metadata": {},
     "output_type": "display_data"
    }
   ],
   "source": [
    "// Import the required NuGet configuration packages\n",
    "#r \"nuget: Microsoft.Extensions.Configuration, 9.0.8\"\n",
    "#r \"nuget: Microsoft.Extensions.Configuration.Json, 9.0.8\"\n",
    "\n",
    "//using Microsoft.Extensions.DependencyInjection;\n",
    "using Microsoft.Extensions.Configuration.Json;\n",
    "using Microsoft.Extensions.Configuration;\n",
    "using System.IO;\n",
    "\n",
    "// Load the configuration settings from the local.settings.json and secrets.settings.json files\n",
    "// The secrets.settings.json file is used to store sensitive information such as API keys\n",
    "var configurationBuilder = new ConfigurationBuilder()\n",
    "    .SetBasePath(Directory.GetCurrentDirectory())\n",
    "    .AddJsonFile(\"local.settings.json\", optional: true, reloadOnChange: true)\n",
    "    .AddJsonFile(\"secrets.settings.json\", optional: true, reloadOnChange: true);\n",
    "var config = configurationBuilder.Build();\n",
    "\n",
    "// IMPORTANT: You ONLY NEED either Azure OpenAI or OpenAI connectiopn info, not both.\n",
    "// Azure OpenAI Connection Info\n",
    "var azureOpenAIEndpoint = config[\"AzureOpenAI:ReasoningEndpoint\"];\n",
    "var azureOpenAIAPIKey = config[\"AzureOpenAI:ReasoningAPIKey\"];\n",
    "var azureOpenAIModelDeploymentName = config[\"AzureOpenAI:ReasoningModelDeploymentName\"];\n",
    "// OpenAI Connection Info \n",
    "var openAIAPIKey = config[\"OpenAI:APIKey\"];\n",
    "var openAIModelId = config[\"OpenAI:ModelId\"];"
   ]
  },
  {
   "cell_type": "code",
   "execution_count": 2,
   "metadata": {
    "polyglot_notebook": {
     "kernelName": "csharp"
    }
   },
   "outputs": [
    {
     "data": {
      "text/html": [
       "<div><div></div><div></div><div><strong>Installed Packages</strong><ul><li><span>Microsoft.SemanticKernel, 1.62.0</span></li><li><span>Microsoft.SemanticKernel.Agents.Abstractions, 1.62.0</span></li><li><span>Microsoft.SemanticKernel.Agents.Core, 1.62.0</span></li></ul></div></div>"
      ]
     },
     "metadata": {},
     "output_type": "display_data"
    }
   ],
   "source": [
    "// Import the Semantic Kernel NuGet package\n",
    "#r \"nuget: Microsoft.SemanticKernel, 1.62.0\" \n",
    "#r \"nuget: Microsoft.SemanticKernel.Agents.Core, 1.62.0\"\n",
    "#r \"nuget: Microsoft.SemanticKernel.Agents.Abstractions, 1.62.0\"\n",
    "\n",
    "using Microsoft.SemanticKernel;\n",
    "using Microsoft.SemanticKernel.Agents;\n",
    "using Microsoft.SemanticKernel.ChatCompletion;\n",
    "using Microsoft.SemanticKernel.Connectors.OpenAI;\n",
    "\n",
    "var semanticKernel = Kernel.CreateBuilder()\n",
    "    .AddAzureOpenAIChatCompletion(\n",
    "        deploymentName: azureOpenAIModelDeploymentName!,\n",
    "        endpoint: azureOpenAIEndpoint!,\n",
    "        apiKey: azureOpenAIAPIKey!)\n",
    "    .Build();"
   ]
  },
  {
   "cell_type": "markdown",
   "metadata": {},
   "source": [
    "### Step 2 - Decisions with Multi-Agent Personas "
   ]
  },
  {
   "cell_type": "markdown",
   "metadata": {},
   "source": [
    "> \"The many are smarter than the few when it comes to solving problems, predicting outcomes, and innovating solutions, as long as there is diversity of opinion, independence, and decentralization.\"  \n",
    ">\n",
    "> -- <cite>James Surowiecki (Author \"The Wisdom of Crowds\")</cite> "
   ]
  },
  {
   "cell_type": "markdown",
   "metadata": {},
   "source": [
    "Single agent personas are effective constructs in Semantic Kernel, but can largely be replicated in other mechanisms with prompts. **Creating multiple personas (experts) that can interact with each other is the true power of the Semantic Kernel Agent functionality. This allows multiple chat agents to interact in various ways.** \n",
    "\n",
    "Execute the cell below to illustrate how two different personas can interact in a decision-making process moderated by a decision intelligence expert that makes the final reasoning conclusiion on the decision task at hand. In the output notice key steps:\n",
    "* Each expert (Dwight and Ben) make their recommendation, based on their decision persona\n",
    "* The final recommendation is made based on the synthesis of the agent recommendations  \n",
    "* This multi-agent interaction to converge on a single decision mimic the self-consistency GenAI pattern \n",
    "\n",
    "Note: The execution below can take the some time. Use GPT-5-mini to optimize speed of the execution.  "
   ]
  },
  {
   "cell_type": "code",
   "execution_count": 3,
   "metadata": {
    "polyglot_notebook": {
     "kernelName": "csharp"
    }
   },
   "outputs": [
    {
     "data": {
      "text/markdown": [
       "### Decision To Process:  \n",
       "I am thinking of buying a rental property versus investing in Bitcoin. \n",
       "What things should I consider in making this decision?\n",
       "### Decision Constraints:  \n",
       "1) You want to optimize for long-term financial growth, but also mitigate risk. \n",
       "2) You have a budget of $500,000 cash for the investment. \n",
       "3) You are the in early 40s and the breadwinner of your family and need to ensure financial stability.\n",
       "4) You don't have much debt, but have kids going to college in the next 5 years.\n",
       "5) You are not an expert in real estate or cryptocurrency, but have a basic understanding of both.\n",
       "\n",
       "Output Format Instructions: \n",
       "When generating Markdown, do not use any headings higher than ###. \n",
       "Avoid # and ## headers. Use only ###, ####, or lower-level headings if necessary. \n",
       "All top-level section headers should start at ### or lower. \n",
       "Never use ---, ***, or ___ for horizontal lines. There should be no horizontal lines in the output.\n",
       "For separation, use extra extra spacing. Do not any render horizontal lines.\n",
       "Format the response using only a Markdown table. Only return a Markdown table. \n",
       "Do not enclose the table in triple backticks."
      ]
     },
     "metadata": {},
     "output_type": "display_data"
    },
    {
     "name": "stdout",
     "output_type": "stream",
     "text": [
      "\n",
      "\n"
     ]
    },
    {
     "data": {
      "text/markdown": [
       "| Factor                                 | Rental Property                                                                                      | Bitcoin                                                                                               |\n",
       "|----------------------------------------|------------------------------------------------------------------------------------------------------|-------------------------------------------------------------------------------------------------------|\n",
       "| Capital & Financing Requirements       | ~\\$100K-125K minimum down per property; rest financed; leverage spreads risk across multiple assets  | \\$500K upfront; fractional purchases possible; leverage via margin increases risk of margin calls    |\n",
       "| Cash Flow & Income Stability           | Predictable rent income; covers mortgage & expenses; provides inflation hedge                        | No periodic income; purely reliant on price appreciation; optional staking yields but adds complexity |\n",
       "| Long-Term Return Potential             | Historically 6-12% net annual returns; benefits from leverage & tax incentives                       | High historical returns but volatile; potential for outsized gains; long-term trajectory uncertain    |\n",
       "| Volatility & Risk Profile              | Moderate volatility; local market downturns; vacancy & tenant risk                                   | Very high volatility; subject to market sentiment swings; regulatory & technological risks            |\n",
       "| Liquidity & Exit Strategy              | 3-6 months typical sale timeline; transaction costs; potential illiquidity during downturns          | 24/7 global markets; near-instant liquidation; low transaction friction                                |\n",
       "| Expertise & Management Effort          | Requires landlord skills or property manager; maintenance & tenant relations                         | Minimal operational effort; need secure custody & understanding of wallet security                    |\n",
       "| Tax Implications                       | Depreciation & mortgage interest deductions; long-term capital gains; 1031 exchanges                | Taxable events on trades; long-term vs short-term capital gains; evolving crypto tax compliance       |\n",
       "| Impact on College Fund & Cash Needs    | Generates ongoing cash flow; can tap equity via HELOC; slower principal access                       | Quick liquidation for cash; timing risk; may force sale at loss if market down                        |\n",
       "| Diversification & Correlation          | Low correlation with equities; geographic concentration risk                                         | Uncorrelated with most asset classes; correlation spikes in risk-off events                           |\n",
       "| Leverage & Risk Mitigation             | Mortgage leverage boosts returns; interest rate and refinancing risk                                 | Margin trading available but increases potential for forced liquidation                              |\n",
       "| Regulatory & Market Risks              | Subject to zoning, landlord-tenant laws, tax code changes                                            | Regulatory uncertainty; potential for bans/restrictions; network security & protocol risks            |\n",
       "| Time Horizon & Suitability             | Best for medium to long term (5+ years); must weather real estate cycles                             | Suitable as a smaller, high-risk allocation; high timing sensitivity; recommended longer hold period  |"
      ]
     },
     "metadata": {},
     "output_type": "display_data"
    },
    {
     "data": {
      "text/markdown": [
       "| Consideration                              | Rental Property                                                                                       | Bitcoin                                                                                                 |\n",
       "|--------------------------------------------|-------------------------------------------------------------------------------------------------------|---------------------------------------------------------------------------------------------------------|\n",
       "| Initial Capital Deployment                 | Requires ~20–25% down ($100K–125K) on a $500K property; mortgage covers remainder                       | Deploy full $500K; fractional purchases; no mortgage needed                                             |\n",
       "| Income Generation                          | Steady monthly rent covers mortgage, expenses; surplus can fund college or savings                     | No periodic income; relies on price appreciation; optional staking yields but less predictable          |\n",
       "| Long-Term Appreciation                     | Historical home price growth ~3–5% annually + rent increases; inflation hedge                          | High historical returns but extremely volatile; future trajectory uncertain                              |\n",
       "| Risk Profile                               | Moderate: vacancy, tenant default, property damage, local market downturns                            | High: price swings, regulatory changes, security breaches, technological risks                           |\n",
       "| Liquidity & Exit Timing                    | 3-6 months to sell; transaction costs ~5–10%; illiquid in downturns                                   | 24/7 global markets; near-instant trades; potential exchange outages or liquidity squeezes               |\n",
       "| Management & Expertise                     | Landlord duties or property manager fees; legal compliance; maintenance                               | Minimal operations; must secure wallets/keys; guard against hacks and phishing                          |\n",
       "| Tax & Regulatory                            | Mortgage interest & depreciation deductions; long-term capital gains; 1031 exchange options            | Capital gains taxed on trade; evolving crypto regulations; rigorous record-keeping required              |\n",
       "| Leverage & Financing                       | Mortgage leverage boosts returns; interest rate and refinancing risk                                  | Margin trading possible but high liquidation risk; generally unleveraged unless taking on extra risk    |\n",
       "| Family Stability & College Funding         | Predictable cash flow supports tuition; can tap equity via HELOC for emergencies                       | Liquidation risk if sold during price dips; timing market to meet tuition deadlines adds stress         |\n",
       "| Diversification & Correlation              | Low correlation with equities; geographic concentration risk                                          | Uncorrelated asset class; correlation spikes in broader market sell-offs                                 |\n",
       "| Time Horizon Suitability                   | Best for 5+ year horizon to smooth cycles and cover transaction costs                                 | More speculative; if allocated, treat as smaller position with long-term holding expectations           |"
      ]
     },
     "metadata": {},
     "output_type": "display_data"
    },
    {
     "data": {
      "text/markdown": [
       "| Consideration                      | Rental Property                                                                                         | Bitcoin                                                                                                  |\n",
       "|------------------------------------|----------------------------------------------------------------------------------------------------------|----------------------------------------------------------------------------------------------------------|\n",
       "| Capital deployment                 | 20–25% down on a \\$500K property (~\\$100–125K); finance remainder; preserves \\$375–400K reserves          | Deploy full \\$500K; fractional purchases; no financing; ties up entire cash                              |\n",
       "| Expected return                    | 6–12% net annual (rent + appreciation); stable growth with leverage and tax benefits                      | High historical returns but extremely volatile; no guaranteed upside                                     |\n",
       "| Cash flow                          | Predictable monthly rent to cover mortgage, expenses and contribute to college fund                       | No periodic income; optional staking yields (~4–10%) with added complexity                                |\n",
       "| Risk profile                       | Moderate: vacancy, tenant issues, local market cycles; can mitigate with insurance & property manager     | High: large price swings, regulatory changes, custody/security risks                                     |\n",
       "| Liquidity & exit                   | 3–6 months to sell; ~5–10% transaction costs; limited in downturns                                       | Near-instant global trading; low fees; risk of exchange outages                                          |\n",
       "| Management & expertise             | Requires landlord skills or property manager fees; maintenance oversight                                | Minimal operations; requires secure wallet management and diligent key storage                          |\n",
       "| Tax & regulatory                   | Mortgage interest and depreciation deductions; stable tax code; 1031 exchange options                   | Taxable events on trades; evolving crypto regulations; meticulous record-keeping                         |\n",
       "| Impact on college funding          | Steady cash flow; can tap equity via HELOC; slower principal access                                      | Quick liquidation possible but timing risk may force sale at loss if market dips                         |\n",
       "| Diversification & correlation      | Low correlation with equities; localized geographic risk                                                 | Uncorrelated with traditional assets; correlation spikes during market stress                            |\n",
       "| Time horizon                       | Best over 5+ years to weather cycles and cover transaction costs                                         | Suitable as a small, high-risk allocation for 5+ years                                                   |\n",
       "| Final Decision                     | Allocate ~\\$450K to purchase one or two rental properties for stable income, diversification and growth (final decision) | Allocate ~\\$50K (10%) to Bitcoin for upside potential and portfolio diversification                      |"
      ]
     },
     "metadata": {},
     "output_type": "display_data"
    }
   ],
   "source": [
    "using Microsoft.SemanticKernel;\n",
    "using Microsoft.SemanticKernel.Agents;\n",
    "using Microsoft.SemanticKernel.Agents.Chat;\n",
    "using Microsoft.SemanticKernel.ChatCompletion;\n",
    "using System.Threading;\n",
    "\n",
    "#pragma warning disable SKEXP0110\n",
    "// Create a new chat TerminationStrategy that will terminate when the final message contains the term \"final decision\"\n",
    "private sealed class ApprovalTerminationStrategy : TerminationStrategy\n",
    "{\n",
    "    // Terminate when the final message contains the term \"approve\"\n",
    "    protected override Task<bool> ShouldAgentTerminateAsync(Agent agent, IReadOnlyList<ChatMessageContent> history, CancellationToken cancellationToken)\n",
    "        => Task.FromResult(history[history.Count - 1].Content?.Contains(\"final decision\", StringComparison.OrdinalIgnoreCase) ?? false);\n",
    "}\n",
    "\n",
    "var assistantDwightEisenhower = new ChatCompletionAgent\n",
    "{\n",
    "    Kernel = semanticKernel,\n",
    "    Name = \"DwightEisenhower\", // Dwight Eisenhower persona\n",
    "    Description = \"A decision intelligence agent that uses the Eisenhower Decision Priorotization Matrix.\",\n",
    "    Instructions = \"You are a decision intelligence strategist with the knowledge of Dwight Eisenhower's Decision Prioritization Matrix. Assist the user in exploring options, reasoning through decisions, problem-solving, and applying systems thinking to various scenarios. Provide structured, logical, and comprehensive advice.\"\n",
    "};\n",
    "\n",
    "var assistantBenFranklin = new ChatCompletionAgent\n",
    "{\n",
    "    Kernel = semanticKernel,\n",
    "    Name = \"BenFranklin\", // Ben Franklin persona\n",
    "    Description = \"A decision intelligence agent that uses the Ben Franklin Decision Framework.\",\n",
    "    Instructions = \"You are a decision intelligence strategist with the knowledge of Ben Franklin's Decision Framework. Assist the user in exploring options, reasoning through decisions, problem-solving, and applying systems thinking to various scenarios. Provide structured, logical, and comprehensive advice.\"\n",
    "};\n",
    "\n",
    "var assistantDecisionMaker = new ChatCompletionAgent\n",
    "{\n",
    "    Kernel = semanticKernel,\n",
    "    Name = \"DecisionMaker\",\n",
    "    Description = \"A decision intelligence agent that approves the final decision.\",\n",
    "    Instructions = \"\"\"\n",
    "    You are a Decision Intelligence maker. Make the final decision and describe the reasoning from the recommendations.\n",
    "    You're laser focused on the goal at hand. Don't waste time with chit chat.\n",
    "    Consider suggestions when refining an idea. \n",
    "    When ready to approve the final the decision, use the words final decision to approve the final decision.\n",
    "    \"\"\"\n",
    "};\n",
    "\n",
    "// Create a chat for agent interaction.\n",
    "AgentGroupChat chat =\n",
    "    new(assistantDwightEisenhower, assistantBenFranklin, assistantDecisionMaker)\n",
    "    {\n",
    "        ExecutionSettings =\n",
    "            new()\n",
    "            {\n",
    "                // Here a TerminationStrategy subclass is used that will terminate when\n",
    "                // an assistant message contains the term \"approve\".\n",
    "                TerminationStrategy =\n",
    "                    new ApprovalTerminationStrategy()\n",
    "                    {\n",
    "                        // Only the art-director may approve.\n",
    "                        Agents = [assistantDecisionMaker],\n",
    "                        // Limit total number of turns\n",
    "                        MaximumIterations = 6,\n",
    "                    }\n",
    "            }\n",
    "    };\n",
    "\n",
    "// Invoke chat and display messages.\n",
    "ChatMessageContent decisionRecommendation = new(AuthorRole.User, \"\"\"\n",
    "### Decision To Process:  \n",
    "I am thinking of buying a rental property versus investing in Bitcoin. \n",
    "What things should I consider in making this decision?\n",
    "### Decision Constraints:  \n",
    "1) You want to optimize for long-term financial growth, but also mitigate risk. \n",
    "2) You have a budget of $500,000 cash for the investment. \n",
    "3) You are the in early 40s and the breadwinner of your family and need to ensure financial stability.\n",
    "4) You don't have much debt, but have kids going to college in the next 5 years.\n",
    "5) You are not an expert in real estate or cryptocurrency, but have a basic understanding of both.\n",
    "\n",
    "Output Format Instructions: \n",
    "When generating Markdown, do not use any headings higher than ###. \n",
    "Avoid # and ## headers. Use only ###, ####, or lower-level headings if necessary. \n",
    "All top-level section headers should start at ### or lower. \n",
    "Never use ---, ***, or ___ for horizontal lines. There should be no horizontal lines in the output.\n",
    "For separation, use extra extra spacing. Do not any render horizontal lines.\n",
    "Format the response using only a Markdown table. Only return a Markdown table. \n",
    "Do not enclose the table in triple backticks.\n",
    "\"\"\");\n",
    "chat.AddChatMessage(decisionRecommendation);\n",
    "decisionRecommendation.Content.DisplayAs(\"text/markdown\");\n",
    "Console.WriteLine();\n",
    "Console.WriteLine();\n",
    "\n",
    "await foreach (ChatMessageContent response in chat.InvokeAsync())\n",
    "{\n",
    "    response.Content.DisplayAs(\"text/markdown\");\n",
    "}"
   ]
  },
  {
   "cell_type": "markdown",
   "metadata": {},
   "source": [
    "### Step 3 - Decisions with Advanced Multi-Agent Decision Orchestration  "
   ]
  },
  {
   "cell_type": "markdown",
   "metadata": {},
   "source": [
    "The previous example was quite simplistic as it basically put several agents together with a moderator and it completed once the words \"Final Decision\" were emitted. Advanced multi-agent orchestrations can provide much more powerful control around how agents work together. Semantic Kernel supports several orchestration patterns, each designed for different collaboration scenarios. These patterns are available as part of the framework and can be easily extended or customized. \n",
    "\n",
    "One of these patterns is the Magnetic orchestration, which is a powerful multi-agent pattern designed for managing complex, open-ended tasks. The Magentic orchestration in Semantic Kernel is inspired by the \"Magentic-One\" system. It involves a dedicated Magentic manager that coordinates a team of specialized agents to solve intricate problems. This manager is powered by an AI model to perform the coordination. It selects the next agent based on different factors in the process like: task progress, agent capabilities, evolving context etc. "
   ]
  },
  {
   "cell_type": "code",
   "execution_count": 4,
   "metadata": {
    "polyglot_notebook": {
     "kernelName": "csharp"
    }
   },
   "outputs": [
    {
     "data": {
      "text/html": [
       "<div><div></div><div></div><div><strong>Installed Packages</strong><ul><li><span>Microsoft.SemanticKernel.Agents.Magentic, 1.62.0-preview</span></li><li><span>Microsoft.SemanticKernel.Agents.Orchestration, 1.62.0-preview</span></li><li><span>Microsoft.SemanticKernel.Agents.Runtime.InProcess, 1.62.0-preview</span></li></ul></div></div>"
      ]
     },
     "metadata": {},
     "output_type": "display_data"
    },
    {
     "data": {
      "text/markdown": [
       "### Decision To Process:  \n",
       "I am thinking of buying a rental property versus investing in Bitcoin. \n",
       "What things should I consider in making this decision?\n",
       "### Decision Constraints:  \n",
       "1) You want to optimize for long-term financial growth, but also mitigate risk. \n",
       "2) You have a budget of $500,000 cash for the investment. \n",
       "3) You are the in early 40s and the breadwinner of your family and need to ensure financial stability.\n",
       "4) You don't have much debt, but have kids going to college in the next 5 years.\n",
       "5) You are not an expert in real estate or cryptocurrency, but have a basic understanding of both.\n",
       "\n",
       "Output Format Instructions: \n",
       "When generating Markdown, do not use any headings higher than ###. \n",
       "Avoid # and ## headers. Use only ###, ####, or lower-level headings if necessary. \n",
       "All top-level section headers should start at ### or lower. \n",
       "Never use ---, ***, or ___ for horizontal lines. There should be no horizontal lines in the output.\n",
       "For separation, use extra extra spacing. Do not any render horizontal lines.\n",
       "Format the response using only a Markdown table. Only return a Markdown table. \n",
       "Do not enclose the table in triple backticks."
      ]
     },
     "metadata": {},
     "output_type": "display_data"
    },
    {
     "name": "stdout",
     "output_type": "stream",
     "text": [
      "----------------------------------------------------------\n",
      "----------------------------------------------------------\n"
     ]
    },
    {
     "data": {
      "text/markdown": [
       "### FINAL RECOMMENDATION"
      ]
     },
     "metadata": {},
     "output_type": "display_data"
    },
    {
     "data": {
      "text/markdown": [
       "| Factor                     | Weight | Rental Rating (1–5) | Rental Weighted | Bitcoin Rating (1–5) | Bitcoin Weighted |\n",
       "|----------------------------|-------:|---------------------:|----------------:|----------------------:|-----------------:|\n",
       "| Risk (volatility)          |   0.25 |                    4 |           1.00  |                     2 |            0.50  |\n",
       "| Liquidity                  |   0.20 |                    2 |           0.40  |                     5 |            1.00  |\n",
       "| Cash Flow Stability        |   0.20 |                    5 |           1.00  |                     2 |            0.40  |\n",
       "| Growth Potential           |   0.15 |                    3 |           0.45  |                     5 |            0.75  |\n",
       "| Tax & College Funding Fit  |   0.10 |                    4 |           0.40  |                     2 |            0.20  |\n",
       "| Expertise & Time Commitment|   0.10 |                    2 |           0.20  |                     4 |            0.40  |\n",
       "| **Total Score**            |   1.00 |                      |           3.45  |                        |            3.25  |"
      ]
     },
     "metadata": {},
     "output_type": "display_data"
    },
    {
     "name": "stdout",
     "output_type": "stream",
     "text": [
      "----------------------------------------------------------\n",
      "----------------------------------------------------------\n"
     ]
    },
    {
     "data": {
      "text/markdown": [
       "### ORCHESTRATION HISTORY"
      ]
     },
     "metadata": {},
     "output_type": "display_data"
    },
    {
     "data": {
      "text/markdown": [
       "### Assistant - DevilsAdvocate: \n",
       "| Challenge                                                         | Why It Matters                                                                                                                               | How to Address or Investigate                                                                                                                   |\n",
       "|-------------------------------------------------------------------|-----------------------------------------------------------------------------------------------------------------------------------------------|-------------------------------------------------------------------------------------------------------------------------------------------------|\n",
       "| Assumption of stable rental income                                | Rental markets can fluctuate with local employment trends, interest rates, and regulation; overestimating stability may harm cash flow       | Analyze historical vacancy rates, rent growth, and landlord regulations in targeted areas; stress‐test income under downturn scenarios            |\n",
       "| Assumption of Bitcoin’s long-term appreciation                    | Crypto markets are highly volatile and influenced by regulatory moves, tech adoption, and market sentiment; past rallies don’t guarantee future gains | Review scenario analyses for crypto under various regulatory and adoption outcomes; monitor on‐chain metrics and institutional flows              |\n",
       "| Liquidity differences                                              | Real estate is illiquid and transaction costs are high; Bitcoin can be liquidated quickly but may face market depth and tax event issues    | Decide on required liquidity buffers for emergencies and college funding; plan exit strategies and timelines for both asset types                |\n",
       "| Management burden and expertise gap                                | Property requires time, skills for tenant screening, maintenance, and legal compliance; crypto needs security management and tax reporting    | Factor in property management fees or partner with agents; implement best practices for digital asset custody (cold storage, audits, insurance) |\n",
       "| Large concentrated investment risk                                 | Allocating $500K to one property or a large crypto position increases exposure to idiosyncratic risk                                           | Consider diversification across multiple properties or a crypto basket; evaluate smaller initial allocations with phased scaling                |\n",
       "| Upcoming college funding needs                                     | Tying too much capital in volatile assets or illiquid real estate may conflict with obligations in 5 years                                     | Project cash flow needs for tuition; maintain a separate college fund or short-term bonds/CDs to ensure availability                              |\n",
       "| Tax and regulatory complexity                                      | Rental income, capital gains, and crypto transactions have different tax treatments and reporting burdens                                      | Consult a tax advisor to compare depreciation, 1031 exchanges, crypto wash-sale rules, and potential state/sales tax impacts                     |\n",
       "| Family risk tolerance and stakeholder buy-in                       | As breadwinner, you need family support for major risk decisions; misalignment can cause stress and conflict                                   | Discuss scenarios with spouse/financial planner; set clear risk limits and contingency plans; use visual tools to illustrate best/worst cases    |"
      ]
     },
     "metadata": {},
     "output_type": "display_data"
    },
    {
     "data": {
      "text/markdown": [
       "### Assistant - DwightEisenhower: \n",
       "| Factor                    | Urgency & Importance Quadrant | Immediate Attention? |\n",
       "|---------------------------|-------------------------------|----------------------|\n",
       "| Liquidity                 | Urgent & Important (Q1)       | Yes                  |\n",
       "| College funding timeline  | Urgent & Important (Q1)       | Yes                  |\n",
       "| Expertise requirements    | Urgent & Important (Q1)       | Yes                  |\n",
       "| Cash flow                 | Not Urgent & Important (Q2)   | No                   |\n",
       "| Tax advantages            | Not Urgent & Important (Q2)   | No                   |\n",
       "| Growth potential          | Not Urgent & Important (Q2)   | No                   |\n",
       "| Risk                      | Not Urgent & Important (Q2)   | No                   |\n",
       "| Time commitment           | Not Urgent & Important (Q2)   | No                   |"
      ]
     },
     "metadata": {},
     "output_type": "display_data"
    },
    {
     "data": {
      "text/markdown": [
       "### Assistant - BenFranklin: \n",
       "| Factor                     | Weight | Rental Rating (1–5) | Rental Weighted | Bitcoin Rating (1–5) | Bitcoin Weighted |\n",
       "|----------------------------|-------:|---------------------:|----------------:|----------------------:|-----------------:|\n",
       "| Risk (volatility)          |   0.25 |                    4 |           1.00  |                     2 |            0.50  |\n",
       "| Liquidity                  |   0.20 |                    2 |           0.40  |                     5 |            1.00  |\n",
       "| Cash Flow Stability        |   0.20 |                    5 |           1.00  |                     2 |            0.40  |\n",
       "| Growth Potential           |   0.15 |                    3 |           0.45  |                     5 |            0.75  |\n",
       "| Tax & College Funding Fit  |   0.10 |                    4 |           0.40  |                     2 |            0.20  |\n",
       "| Expertise & Time Commitment|   0.10 |                    2 |           0.20  |                     4 |            0.40  |\n",
       "| **Total Score**            |   1.00 |                      |           3.45  |                        |            3.25  |"
      ]
     },
     "metadata": {},
     "output_type": "display_data"
    }
   ],
   "source": [
    "// Import the new Magentic orchestration package and Semantic Kernel InProcessRuntime\n",
    "#r \"nuget: Microsoft.SemanticKernel.Agents.Magentic, 1.62.0-preview\" \n",
    "#r \"nuget: Microsoft.SemanticKernel.Agents.Orchestration, 1.62.0-preview\" \n",
    "#r \"nuget: Microsoft.SemanticKernel.Agents.Runtime.InProcess, 1.62.0-preview\" \n",
    "\n",
    "using Microsoft.SemanticKernel.Agents;\n",
    "using Microsoft.SemanticKernel.Agents.Magentic;\n",
    "using Microsoft.SemanticKernel.Agents.Orchestration;\n",
    "using Microsoft.SemanticKernel.Agents.Runtime.InProcess;\n",
    "\n",
    "// Create a Devil's advocate agent that rigorously tests and challenges recommendations\n",
    "var assistantDevilsAdvocate = new ChatCompletionAgent\n",
    "{\n",
    "    Kernel = semanticKernel,\n",
    "    Name = \"DevilsAdvocate\",\n",
    "    Description = \"A decision intelligence agent that acts as a devil's advocate, rigorously testing and challenging recommendations.\",\n",
    "    Instructions = @\"\n",
    "You are a devil's advocate decision intelligence strategist. \n",
    "Your job is to critically evaluate any proposed recommendations or decisions by:\n",
    "  1. Identifying hidden assumptions and blind spots  \n",
    "  2. Raising potential risks, unintended consequences, and edge cases  \n",
    "  3. Questioning feasibility, resource constraints, and stakeholder buy-in  \n",
    "  4. Suggesting alternative viewpoints or counter-arguments  \n",
    "  5. Prompting further data, evidence, or analysis where needed  \n",
    "Respond in a structured way: state each challenge clearly, explain why it matters, \n",
    "and recommend how to address or investigate it further.\"\n",
    "};\n",
    "\n",
    "\n",
    "#pragma warning disable SKEXP0110\n",
    "#pragma warning disable SKEXP0001\n",
    "var magenticManager = new StandardMagenticManager(\n",
    "    semanticKernel.GetRequiredService<IChatCompletionService>(),\n",
    "    new OpenAIPromptExecutionSettings())\n",
    "{\n",
    "    MaximumInvocationCount = 4, // Maximum number of invocations per orchestration\n",
    "};\n",
    "\n",
    "\n",
    "// Initalize the ChatHistory to store the messages exchanged during the orchestration\n",
    "ChatHistory history = [];\n",
    "\n",
    "// Define a response callback to handle the responses from the orchestration\n",
    "// All the agent messages will be added in the history\n",
    "ValueTask responseCallback(ChatMessageContent response)\n",
    "{\n",
    "    history.Add(response);\n",
    "    return ValueTask.CompletedTask;\n",
    "}\n",
    "\n",
    "// Create the MagenticOrchestration with the agents and the response callback\n",
    "MagenticOrchestration orchestration = new MagenticOrchestration(\n",
    "    magenticManager,\n",
    "    assistantDevilsAdvocate,\n",
    "    assistantDwightEisenhower,\n",
    "    assistantBenFranklin,\n",
    "    assistantDecisionMaker)\n",
    "{\n",
    "    ResponseCallback = responseCallback,\n",
    "};\n",
    "\n",
    "// Create an Semantic Kernel InProcessRuntime to run the orchestration\n",
    "InProcessRuntime runtime = new InProcessRuntime();\n",
    "await runtime.StartAsync();\n",
    "\n",
    "string decisionToProcess = \"\"\"\n",
    "### Decision To Process:  \n",
    "I am thinking of buying a rental property versus investing in Bitcoin. \n",
    "What things should I consider in making this decision?\n",
    "### Decision Constraints:  \n",
    "1) You want to optimize for long-term financial growth, but also mitigate risk. \n",
    "2) You have a budget of $500,000 cash for the investment. \n",
    "3) You are the in early 40s and the breadwinner of your family and need to ensure financial stability.\n",
    "4) You don't have much debt, but have kids going to college in the next 5 years.\n",
    "5) You are not an expert in real estate or cryptocurrency, but have a basic understanding of both.\n",
    "\n",
    "Output Format Instructions: \n",
    "When generating Markdown, do not use any headings higher than ###. \n",
    "Avoid # and ## headers. Use only ###, ####, or lower-level headings if necessary. \n",
    "All top-level section headers should start at ### or lower. \n",
    "Never use ---, ***, or ___ for horizontal lines. There should be no horizontal lines in the output.\n",
    "For separation, use extra extra spacing. Do not any render horizontal lines.\n",
    "Format the response using only a Markdown table. Only return a Markdown table. \n",
    "Do not enclose the table in triple backticks.\n",
    "\"\"\";\n",
    "decisionToProcess.DisplayAs(\"text/markdown\");\n",
    "Console.WriteLine(\"----------------------------------------------------------\");\n",
    "Console.WriteLine(\"----------------------------------------------------------\");\n",
    "\"### FINAL RECOMMENDATION\".DisplayAs(\"text/markdown\");\n",
    "\n",
    "// Invoke the orchestration with the decision to process\n",
    "var orchestrationResult = await orchestration.InvokeAsync(decisionToProcess, runtime);\n",
    "// Display the decision recommendation from the orchestration result with a timeout of 300 seconds\n",
    "string decisionRecommendation = await orchestrationResult.GetValueAsync(TimeSpan.FromSeconds(300));\n",
    "decisionRecommendation.DisplayAs(\"text/markdown\");\n",
    "\n",
    "Console.WriteLine(\"----------------------------------------------------------\");\n",
    "Console.WriteLine(\"----------------------------------------------------------\");\n",
    "\"### ORCHESTRATION HISTORY\".DisplayAs(\"text/markdown\");\n",
    "\n",
    "// Show the history of messages exchanged during the orchestration\n",
    "foreach (ChatMessageContent message in history)\n",
    "{\n",
    "    var messageString = $\"\"\"\n",
    "    ### {message.Role} - {message.AuthorName}: \n",
    "    {message.Content}\n",
    "    \"\"\";\n",
    "    messageString.DisplayAs(\"text/markdown\");\n",
    "}\n",
    "\n",
    "// Wait for the runtime to complete all tasks\n",
    "// Dispose the runtime to clean up resources\n",
    "await runtime.RunUntilIdleAsync();\n",
    "await runtime.DisposeAsync()"
   ]
  }
 ],
 "metadata": {
  "kernelspec": {
   "display_name": ".NET (C#)",
   "language": "C#",
   "name": ".net-csharp"
  },
  "language_info": {
   "name": "polyglot-notebook"
  },
  "polyglot_notebook": {
   "kernelInfo": {
    "defaultKernelName": "csharp",
    "items": [
     {
      "aliases": [],
      "name": "csharp"
     }
    ]
   }
  }
 },
 "nbformat": 4,
 "nbformat_minor": 2
}
