{
 "cells": [
  {
   "cell_type": "markdown",
   "metadata": {},
   "source": [
    "<div style=\"display: flex; align-items: center;\">\n",
    "  <img src=\"https://raw.githubusercontent.com/bartczernicki/DecisionIntelligence.GenAI.Workshop/main/Images/DecisionIntelligenceSemanticKernelLogo.png\" width=\"60px\" style=\"margin-right: 10px;\">\n",
    "  <span style=\"font-size: 1.5em; font-weight: bold;\">Semantic Kernel - Decisions with Multi-AI Agent Personas</span>\n",
    "</div>"
   ]
  },
  {
   "cell_type": "markdown",
   "metadata": {},
   "source": [
    "### Step 1 - Initialize Configuration Builder & Build the Semantic Kernel Orchestration "
   ]
  },
  {
   "cell_type": "markdown",
   "metadata": {},
   "source": [
    "Execute the next two cells to:\n",
    "* Use the Configuration Builder to load the API secrets.  \n",
    "* Use the API configuration to build the Semantic Kernel orchestrator."
   ]
  },
  {
   "cell_type": "code",
   "execution_count": 1,
   "metadata": {
    "polyglot_notebook": {
     "kernelName": "csharp"
    }
   },
   "outputs": [
    {
     "data": {
      "text/html": [
       "<div><div></div><div></div><div><strong>Installed Packages</strong><ul><li><span>Microsoft.Extensions.Configuration, 9.0.8</span></li><li><span>Microsoft.Extensions.Configuration.Json, 9.0.8</span></li></ul></div></div>"
      ]
     },
     "metadata": {},
     "output_type": "display_data"
    }
   ],
   "source": [
    "// Import the required NuGet configuration packages\n",
    "#r \"nuget: Microsoft.Extensions.Configuration, 9.0.8\"\n",
    "#r \"nuget: Microsoft.Extensions.Configuration.Json, 9.0.8\"\n",
    "\n",
    "//using Microsoft.Extensions.DependencyInjection;\n",
    "using Microsoft.Extensions.Configuration.Json;\n",
    "using Microsoft.Extensions.Configuration;\n",
    "using System.IO;\n",
    "\n",
    "// Load the configuration settings from the local.settings.json and secrets.settings.json files\n",
    "// The secrets.settings.json file is used to store sensitive information such as API keys\n",
    "var configurationBuilder = new ConfigurationBuilder()\n",
    "    .SetBasePath(Directory.GetCurrentDirectory())\n",
    "    .AddJsonFile(\"local.settings.json\", optional: true, reloadOnChange: true)\n",
    "    .AddJsonFile(\"secrets.settings.json\", optional: true, reloadOnChange: true);\n",
    "var config = configurationBuilder.Build();\n",
    "\n",
    "// IMPORTANT: You ONLY NEED either Azure OpenAI or OpenAI connectiopn info, not both.\n",
    "// Azure OpenAI Connection Info\n",
    "var azureOpenAIEndpoint = config[\"AzureOpenAI:ReasoningEndpoint\"];\n",
    "var azureOpenAIAPIKey = config[\"AzureOpenAI:ReasoningAPIKey\"];\n",
    "var azureOpenAIModelDeploymentName = config[\"AzureOpenAI:ReasoningModelDeploymentName\"];\n",
    "// OpenAI Connection Info \n",
    "var openAIAPIKey = config[\"OpenAI:APIKey\"];\n",
    "var openAIModelId = config[\"OpenAI:ModelId\"];"
   ]
  },
  {
   "cell_type": "code",
   "execution_count": 2,
   "metadata": {
    "polyglot_notebook": {
     "kernelName": "csharp"
    }
   },
   "outputs": [
    {
     "data": {
      "text/html": [
       "<div><div></div><div></div><div><strong>Installed Packages</strong><ul><li><span>Microsoft.SemanticKernel, 1.62.0</span></li><li><span>Microsoft.SemanticKernel.Agents.Abstractions, 1.62.0</span></li><li><span>Microsoft.SemanticKernel.Agents.Core, 1.62.0</span></li></ul></div></div>"
      ]
     },
     "metadata": {},
     "output_type": "display_data"
    }
   ],
   "source": [
    "// Import the Semantic Kernel NuGet package\n",
    "#r \"nuget: Microsoft.SemanticKernel, 1.62.0\" \n",
    "#r \"nuget: Microsoft.SemanticKernel.Agents.Core, 1.62.0\"\n",
    "#r \"nuget: Microsoft.SemanticKernel.Agents.Abstractions, 1.62.0\"\n",
    "\n",
    "using Microsoft.SemanticKernel;\n",
    "using Microsoft.SemanticKernel.Agents;\n",
    "using Microsoft.SemanticKernel.ChatCompletion;\n",
    "using Microsoft.SemanticKernel.Connectors.OpenAI;\n",
    "\n",
    "var semanticKernel = Kernel.CreateBuilder()\n",
    "    .AddAzureOpenAIChatCompletion(\n",
    "        deploymentName: azureOpenAIModelDeploymentName!,\n",
    "        endpoint: azureOpenAIEndpoint!,\n",
    "        apiKey: azureOpenAIAPIKey!)\n",
    "    .Build();"
   ]
  },
  {
   "cell_type": "markdown",
   "metadata": {},
   "source": [
    "### Step 2 - Decisions with Multi-Agent Personas "
   ]
  },
  {
   "cell_type": "markdown",
   "metadata": {},
   "source": [
    "> \"The many are smarter than the few when it comes to solving problems, predicting outcomes, and innovating solutions, as long as there is diversity of opinion, independence, and decentralization.\"  \n",
    ">\n",
    "> -- <cite>James Surowiecki (Author \"The Wisdom of Crowds\")</cite> "
   ]
  },
  {
   "cell_type": "markdown",
   "metadata": {},
   "source": [
    "Single agent personas are effective constructs in Semantic Kernel, but can largely be replicated in other mechanisms with prompts. **Creating multiple personas (experts) that can interact with each other is the true power of the Semantic Kernel Agent functionality. This allows multiple chat agents to interact in various ways.** \n",
    "\n",
    "Execute the cell below to illustrate how two different personas can interact in a decision-making process moderated by a decision intelligence expert that makes the final reasoning conclusiion on the decision task at hand. In the output notice key steps:\n",
    "* Each expert (Dwight and Ben) make their recommendation, based on their decision persona\n",
    "* The final recommendation is made based on the synthesis of the agent recommendations  \n",
    "* This multi-agent interaction to converge on a single decision mimic the self-consistency GenAI pattern \n",
    "\n",
    "Note: The execution below can take the some time. Use GPT-5-mini to optimize speed of the execution.  "
   ]
  },
  {
   "cell_type": "code",
   "execution_count": 3,
   "metadata": {
    "polyglot_notebook": {
     "kernelName": "csharp"
    }
   },
   "outputs": [
    {
     "data": {
      "text/markdown": [
       "### Decision To Process:  \n",
       "I am thinking of buying a rental property versus investing in Bitcoin. \n",
       "What things should I consider in making this decision?\n",
       "### Decision Constraints:  \n",
       "1) You want to optimize for long-term financial growth, but also mitigate risk. \n",
       "2) You have a budget of $500,000 cash for the investment. \n",
       "3) You are the in early 40s and the breadwinner of your family and need to ensure financial stability.\n",
       "4) You don't have much debt, but have kids going to college in the next 5 years.\n",
       "5) You are not an expert in real estate or cryptocurrency, but have a basic understanding of both.\n",
       "\n",
       "Output Format Instructions: \n",
       "When generating Markdown, do not use any headings higher than ###. \n",
       "Avoid # and ## headers. Use only ###, ####, or lower-level headings if necessary. \n",
       "All top-level section headers should start at ### or lower. \n",
       "Never use ---, ***, or ___ for horizontal lines. There should be no horizontal lines in the output.\n",
       "For separation, use extra extra spacing. Do not any render horizontal lines.\n",
       "Format the response using only a Markdown table. Only return a Markdown table. \n",
       "Do not enclose the table in triple backticks."
      ]
     },
     "metadata": {},
     "output_type": "display_data"
    },
    {
     "name": "stdout",
     "output_type": "stream",
     "text": [
      "\n",
      "\n"
     ]
    },
    {
     "data": {
      "text/markdown": [
       "| Decision Factor                     | Rental Property                                                                 | Bitcoin                                                                      | Key Considerations                                                                                                    |\n",
       "|-------------------------------------|---------------------------------------------------------------------------------|------------------------------------------------------------------------------|-----------------------------------------------------------------------------------------------------------------------|\n",
       "| Long-term growth potential          | Moderate appreciation plus rental income; local market–dependent                | High upside potential but uncertain; driven by adoption and market sentiment | Balance steady appreciation with speculative upside; avoid overconcentration                                               |\n",
       "| Risk and volatility                 | Lower price volatility; vacancy and tenant risk                                 | Extremely high price swings; regulatory and market risk                      | Rental risk mitigated by diversification across units; Bitcoin risk by position sizing and risk limits                   |\n",
       "| Liquidity                           | Illiquid (weeks/months to sell)                                                 | Highly liquid (24/7 markets)                                                  | Ensure emergency cash reserves when capital is tied up in property                                                       |\n",
       "| Required expertise                  | Real estate market knowledge; landlord/legal duties                             | Crypto custody, security, exchange use                                        | Factor in learning curve or management fees (property manager vs. crypto advisor)                                       |\n",
       "| Initial capital allocation          | Down payment typically 20–30% on each property; leverage amplifies exposure     | Can invest full budget or small increments                                    | Leverage amplifies both returns and losses in real estate; consider not allocating entire $500K to one asset class      |\n",
       "| Ongoing costs & obligations         | Maintenance, taxes, insurance, property management fees                         | Exchange fees, wallet/security costs                                          | Budget for capex reserves (roof, HVAC) vs. staking/mining or custodial fees                                             |\n",
       "| Cash flow generation                | Predictable monthly rent income (net of expenses)                               | No inherent cash flow unless using DeFi lending or staking                   | Rental income can support college fund; crypto yields are variable and carry counterparty risk                          |\n",
       "| Tax implications                    | Depreciation benefits, capital gains treatment, 1031 exchanges possible         | Short-term & long-term capital gains; varying global regulations             | Consult a tax advisor: property offers deductions, Bitcoin gains taxed on sale                                           |\n",
       "| Diversification & correlation       | Correlated with housing, local economic factors                                 | Low correlation with traditional assets                                        | Combining both can improve portfolio diversification; avoid putting all capital in a single asset                       |\n",
       "| Time commitment & management        | Tenant relations, maintenance oversight, legal compliance                       | Minimal daily management but requires security vigilance                      | Property managers reduce time burden; crypto requires secure key management and monitoring                              |\n",
       "| Impact on family stability          | Steady income can support household expenses; tangible collateral              | Volatility could stress family finances if market crashes                    | Prioritize stability: consider allocating a smaller crypto portion and using rental cash flows for family obligations   |\n",
       "| Timeline to kids’ college           | Rental income could help fund tuition; equity build-up                         | Potential windfall but timing mismatch; no guaranteed cash flow               | Align property cash flows with college expenses; avoid relying on crypto gains for near-term obligations                |"
      ]
     },
     "metadata": {},
     "output_type": "display_data"
    },
    {
     "data": {
      "text/markdown": [
       "| Decision Factor                     | Rental Property                                                                 | Bitcoin                                                                      | Key Considerations                                                                                                    |\n",
       "|-------------------------------------|---------------------------------------------------------------------------------|------------------------------------------------------------------------------|-----------------------------------------------------------------------------------------------------------------------|\n",
       "| Long-term growth potential          | Moderate appreciation plus rental income; local market–dependent                | High upside potential but uncertain; driven by adoption and market sentiment | Balance steady appreciation with speculative upside; avoid overconcentration                                           |\n",
       "| Risk and volatility                 | Lower price volatility; vacancy and tenant risk                                 | Extremely high price swings; regulatory and market risk                      | Rental risk mitigated by diversification across units; Bitcoin risk by position sizing and risk limits                |\n",
       "| Liquidity                           | Illiquid (weeks/months to sell)                                                 | Highly liquid (24/7 markets)                                                  | Ensure emergency cash reserves when capital is tied up in property                                                     |\n",
       "| Required expertise                  | Real estate market knowledge; landlord/legal duties                             | Crypto custody, security, exchange use                                        | Factor in learning curve or management fees (property manager vs. crypto advisor)                                     |\n",
       "| Initial capital allocation          | Down payment typically 20–30% on each property; leverage amplifies exposure     | Can invest full budget or small increments                                    | Leverage amplifies both returns and losses in real estate; consider diversifying allocation                           |\n",
       "| Ongoing costs & obligations         | Maintenance, taxes, insurance, property management fees                         | Exchange fees, wallet/security costs                                          | Budget for capex reserves (roof, HVAC) vs. staking/mining or custodial fees                                           |\n",
       "| Cash flow generation                | Predictable monthly rent income (net of expenses)                               | No inherent cash flow unless using DeFi lending or staking                   | Rental income can support college fund; crypto yields are variable and carry counterparty risk                        |\n",
       "| Tax implications                    | Depreciation benefits, capital gains treatment, 1031 exchanges possible         | Short-term & long-term capital gains; varying global regulations             | Consult a tax advisor: property offers deductions, Bitcoin gains taxed on sale                                         |\n",
       "| Diversification & correlation       | Correlated with housing, local economic factors                                 | Low correlation with traditional assets                                        | Combining both can improve portfolio diversification; avoid putting all capital in a single asset                     |\n",
       "| Time commitment & management        | Tenant relations, maintenance oversight, legal compliance                       | Minimal daily management but requires security vigilance                      | Property managers reduce time burden; crypto requires secure key management and monitoring                            |\n",
       "| Impact on family stability          | Steady income supports household expenses; tangible collateral                 | Volatility could stress finances if market crashes                            | Prioritize stability: allocate smaller crypto portion; use rental cash flows for family obligations                   |\n",
       "| Timeline to kids’ college           | Rental income helps fund tuition; equity build-up                              | Potential windfall but unpredictable timing; no guaranteed cash flow          | Align property cash flows with college expenses; avoid relying on crypto gains for near-term obligations              |"
      ]
     },
     "metadata": {},
     "output_type": "display_data"
    },
    {
     "data": {
      "text/markdown": [
       "| Decision Factor                     | Rental Property                                                                     | Bitcoin                                                                            | Recommendation                                                                      |\n",
       "|-------------------------------------|-------------------------------------------------------------------------------------|------------------------------------------------------------------------------------|-------------------------------------------------------------------------------------|\n",
       "| Long-term growth potential          | Moderate appreciation + rental income; local market–dependent                        | High upside but speculative; driven by adoption and sentiment                        | Blend steady growth with speculative upside                                          |\n",
       "| Risk and volatility                 | Lower price swings; tenant/vacancy risk                                             | Extremely volatile; regulatory and security risks                                   | Mitigate via diversification                                                        |\n",
       "| Liquidity                           | Months to sell                                                                      | 24/7 highly liquid                                                                 | Keep cash reserves                                                                   |\n",
       "| Required expertise                  | Real estate knowledge; legal/landlord duties                                         | Crypto custody and security                                                         | Account for learning curve or advisory fees                                         |\n",
       "| Initial capital allocation          | 20–30% down payment; leverage benefits/risks                                         | Fully investable; can scale in increments                                            | Limit leverage; cap crypto position                                                 |\n",
       "| Ongoing costs & obligations         | Maintenance, taxes, insurance, management fees                                       | Exchange fees, wallet/security costs                                                | Budget for reserves and security measures                                           |\n",
       "| Cash flow generation                | Predictable rental income                                                           | No regular income unless staking/lending                                            | Use rental cash flows for expenses; treat crypto gains as bonus                      |\n",
       "| Tax implications                    | Depreciation, deductions, 1031 exchanges                                             | Capital gains; reporting complexity                                                  | Consult tax advisor                                                                   |\n",
       "| Correlation & diversification       | Correlated with housing market                                                      | Low correlation with traditional assets                                              | Combine to improve diversification                                                   |\n",
       "| Family stability & near-term needs  | Steady income supports college costs                                                 | Uncertain timing; may not align with 5-year horizon                                  | Prioritize property cash flows for college funding                                    |\n",
       "| Overall Allocation (Final decision) | Allocate $350k (70%) to rental property                                              | Allocate $100k (20%) to Bitcoin                                                     | Maintain $50k (10%) cash reserves. Final decision: prioritize rental property for stability, keep a smaller Bitcoin allocation for upside |"
      ]
     },
     "metadata": {},
     "output_type": "display_data"
    }
   ],
   "source": [
    "using Microsoft.SemanticKernel;\n",
    "using Microsoft.SemanticKernel.Agents;\n",
    "using Microsoft.SemanticKernel.Agents.Chat;\n",
    "using Microsoft.SemanticKernel.ChatCompletion;\n",
    "using System.Threading;\n",
    "\n",
    "#pragma warning disable SKEXP0110\n",
    "// Create a new chat TerminationStrategy that will terminate when the final message contains the term \"final decision\"\n",
    "private sealed class ApprovalTerminationStrategy : TerminationStrategy\n",
    "{\n",
    "    // Terminate when the final message contains the term \"approve\"\n",
    "    protected override Task<bool> ShouldAgentTerminateAsync(Agent agent, IReadOnlyList<ChatMessageContent> history, CancellationToken cancellationToken)\n",
    "        => Task.FromResult(history[history.Count - 1].Content?.Contains(\"final decision\", StringComparison.OrdinalIgnoreCase) ?? false);\n",
    "}\n",
    "\n",
    "var assistantDwightEisenhower = new ChatCompletionAgent\n",
    "{\n",
    "    Kernel = semanticKernel,\n",
    "    Name = \"DwightEisenhower\", // Dwight Eisenhower persona\n",
    "    Description = \"A decision intelligence agent that uses the Eisenhower Decision Priorotization Matrix.\",\n",
    "    Instructions = \"You are a decision intelligence strategist with the knowledge of Dwight Eisenhower's Decision Prioritization Matrix. Assist the user in exploring options, reasoning through decisions, problem-solving, and applying systems thinking to various scenarios. Provide structured, logical, and comprehensive advice.\"\n",
    "};\n",
    "\n",
    "var assistantBenFranklin = new ChatCompletionAgent\n",
    "{\n",
    "    Kernel = semanticKernel,\n",
    "    Name = \"BenFranklin\", // Ben Franklin persona\n",
    "    Description = \"A decision intelligence agent that uses the Ben Franklin Decision Framework.\",\n",
    "    Instructions = \"You are a decision intelligence strategist with the knowledge of Ben Franklin's Decision Framework. Assist the user in exploring options, reasoning through decisions, problem-solving, and applying systems thinking to various scenarios. Provide structured, logical, and comprehensive advice.\"\n",
    "};\n",
    "\n",
    "var assistantDecisionMaker = new ChatCompletionAgent\n",
    "{\n",
    "    Kernel = semanticKernel,\n",
    "    Name = \"DecisionMaker\",\n",
    "    Description = \"A decision intelligence agent that approves the final decision.\",\n",
    "    Instructions = \"\"\"\n",
    "    You are a Decision Intelligence maker. Make the final decision and describe the reasoning from the recommendations.\n",
    "    You're laser focused on the goal at hand. Don't waste time with chit chat.\n",
    "    Consider suggestions when refining an idea. \n",
    "    When ready to approve the final the decision, use the words final decision to approve the final decision.\n",
    "    \"\"\"\n",
    "};\n",
    "\n",
    "// Create a chat for agent interaction.\n",
    "AgentGroupChat chat =\n",
    "    new(assistantDwightEisenhower, assistantBenFranklin, assistantDecisionMaker)\n",
    "    {\n",
    "        ExecutionSettings =\n",
    "            new()\n",
    "            {\n",
    "                // Here a TerminationStrategy subclass is used that will terminate when\n",
    "                // an assistant message contains the term \"approve\".\n",
    "                TerminationStrategy =\n",
    "                    new ApprovalTerminationStrategy()\n",
    "                    {\n",
    "                        // Only the art-director may approve.\n",
    "                        Agents = [assistantDecisionMaker],\n",
    "                        // Limit total number of turns\n",
    "                        MaximumIterations = 6,\n",
    "                    }\n",
    "            }\n",
    "    };\n",
    "\n",
    "// Invoke chat and display messages.\n",
    "ChatMessageContent decisionRecommendation = new(AuthorRole.User, \"\"\"\n",
    "### Decision To Process:  \n",
    "I am thinking of buying a rental property versus investing in Bitcoin. \n",
    "What things should I consider in making this decision?\n",
    "### Decision Constraints:  \n",
    "1) You want to optimize for long-term financial growth, but also mitigate risk. \n",
    "2) You have a budget of $500,000 cash for the investment. \n",
    "3) You are the in early 40s and the breadwinner of your family and need to ensure financial stability.\n",
    "4) You don't have much debt, but have kids going to college in the next 5 years.\n",
    "5) You are not an expert in real estate or cryptocurrency, but have a basic understanding of both.\n",
    "\n",
    "Output Format Instructions: \n",
    "When generating Markdown, do not use any headings higher than ###. \n",
    "Avoid # and ## headers. Use only ###, ####, or lower-level headings if necessary. \n",
    "All top-level section headers should start at ### or lower. \n",
    "Never use ---, ***, or ___ for horizontal lines. There should be no horizontal lines in the output.\n",
    "For separation, use extra extra spacing. Do not any render horizontal lines.\n",
    "Format the response using only a Markdown table. Only return a Markdown table. \n",
    "Do not enclose the table in triple backticks.\n",
    "\"\"\");\n",
    "chat.AddChatMessage(decisionRecommendation);\n",
    "decisionRecommendation.Content.DisplayAs(\"text/markdown\");\n",
    "Console.WriteLine();\n",
    "Console.WriteLine();\n",
    "\n",
    "await foreach (ChatMessageContent response in chat.InvokeAsync())\n",
    "{\n",
    "    response.Content.DisplayAs(\"text/markdown\");\n",
    "}"
   ]
  },
  {
   "cell_type": "markdown",
   "metadata": {},
   "source": [
    "### Step 3 - Decisions with Advanced Multi-Agent Decision Orchestration  "
   ]
  },
  {
   "cell_type": "markdown",
   "metadata": {},
   "source": [
    "The previous example was quite simplistic as it basically put several agents together with a moderator and it completed once the words \"Final Decision\" were emitted. Advanced multi-agent orchestrations can provide much more powerful control around how agents work together. Semantic Kernel supports several orchestration patterns, each designed for different collaboration scenarios. These patterns are available as part of the framework and can be easily extended or customized. \n",
    "\n",
    "One of these patterns is the Magnetic orchestration, which is a powerful multi-agent pattern designed for managing complex, open-ended tasks. The Magentic orchestration in Semantic Kernel is inspired by the \"Magentic-One\" system. It involves a dedicated Magentic manager that coordinates a team of specialized agents to solve intricate problems. This manager is powered by an AI model to perform the coordination. It selects the next agent based on different factors in the process like: task progress, agent capabilities, evolving context etc. "
   ]
  },
  {
   "cell_type": "code",
   "execution_count": 4,
   "metadata": {
    "polyglot_notebook": {
     "kernelName": "csharp"
    }
   },
   "outputs": [
    {
     "data": {
      "text/html": [
       "<div><div></div><div></div><div><strong>Installed Packages</strong><ul><li><span>Microsoft.SemanticKernel.Agents.Magentic, 1.62.0-preview</span></li><li><span>Microsoft.SemanticKernel.Agents.Orchestration, 1.62.0-preview</span></li><li><span>Microsoft.SemanticKernel.Agents.Runtime.InProcess, 1.62.0-preview</span></li></ul></div></div>"
      ]
     },
     "metadata": {},
     "output_type": "display_data"
    },
    {
     "data": {
      "text/markdown": [
       "### Decision To Process:  \n",
       "I am thinking of buying a rental property versus investing in Bitcoin. \n",
       "What things should I consider in making this decision?\n",
       "### Decision Constraints:  \n",
       "1) You want to optimize for long-term financial growth, but also mitigate risk. \n",
       "2) You have a budget of $500,000 cash for the investment. \n",
       "3) You are the in early 40s and the breadwinner of your family and need to ensure financial stability.\n",
       "4) You don't have much debt, but have kids going to college in the next 5 years.\n",
       "5) You are not an expert in real estate or cryptocurrency, but have a basic understanding of both.\n",
       "\n",
       "Output Format Instructions: \n",
       "When generating Markdown, do not use any headings higher than ###. \n",
       "Avoid # and ## headers. Use only ###, ####, or lower-level headings if necessary. \n",
       "All top-level section headers should start at ### or lower. \n",
       "Never use ---, ***, or ___ for horizontal lines. There should be no horizontal lines in the output.\n",
       "For separation, use extra extra spacing. Do not any render horizontal lines.\n",
       "Format the response using only a Markdown table. Only return a Markdown table. \n",
       "Do not enclose the table in triple backticks."
      ]
     },
     "metadata": {},
     "output_type": "display_data"
    },
    {
     "name": "stdout",
     "output_type": "stream",
     "text": [
      "----------------------------------------------------------\n",
      "----------------------------------------------------------\n"
     ]
    },
    {
     "data": {
      "text/markdown": [
       "### FINAL RECOMMENDATION"
      ]
     },
     "metadata": {},
     "output_type": "display_data"
    },
    {
     "data": {
      "text/markdown": [
       "| Challenge                                      | Why It Matters                                                                                                                 | How to Address                                                                                                          |\n",
       "|------------------------------------------------|-------------------------------------------------------------------------------------------------------------------------------|-------------------------------------------------------------------------------------------------------------------------|\n",
       "| Overestimating Rental Income Stability         | Assumes full occupancy and predictable rents; vacancies, repairs, and market downturns can erode cash flow                     | Stress-test for 10–20% vacancy, factor in 5–10% annual maintenance reserve, and model downturn scenarios                |\n",
       "| Underestimating Management Burden              | DIY property management demands time, expertise, and can increase liability exposure                                          | Obtain quotes for professional property management fees and legal support; compare net returns after outsourcing costs |\n",
       "| Liquidity Mismatch vs College Funding Horizon  | Real estate sales can take 3–9+ months, crypto markets can freeze; both may be illiquid when funds are needed in ~5 years     | Maintain a dedicated cash or short-term bond buffer equal to 1–2 years of college costs; avoid 100% illiquid allocation |\n",
       "| Crypto Volatility & Margin Risks               | Bitcoin’s ±30–80% swings can trigger forced liquidations if using leverage, threatening family financial stability           | If allocating to crypto, limit exposure to ≤10–15% of portfolio, avoid margin, and set hard stop-loss thresholds         |\n",
       "| Interest Rate & Financing Exposure             | Rising rates can spike mortgage costs or margin costs, squeezing returns on both property and leveraged crypto positions      | Model scenarios with 2–4% higher mortgage rates; compare fixed- vs adjustable-rate mortgages; avoid crypto leverage     |\n",
       "| Regulatory and Tax Uncertainty                 | Property rules (zoning, rent controls) and evolving crypto regulations can change ROI and impose unexpected compliance costs | Consult tax and legal advisers on worst-case regulatory changes; monitor local housing laws and SEC/stablecoin rulings    |\n",
       "| Concentration Risk in a Single Asset Class     | Putting 100% into one property or crypto risks large drawdowns; correlation patterns can shift in crises                      | Diversify across real estate markets or add equities/fixed income; consider a small crypto allocation within a broader mix |\n",
       "| Assumed Expertise and Learning Curve           | Basic understanding may hide gaps in legal, tax, and technical security knowledge for either market, increasing error risk     | Pursue targeted education or mentorship, hire vetted professionals, and budget for consultant fees before investing     |\n",
       "| Hidden Cash Flow Timing Issues                 | Property income may lag expenses (repairs, taxes) and crypto gains are realized on sale, complicating short-term liquidity      | Build a detailed cash-flow calendar, maintain a 6–12 month operating reserve, and align sale timing with expense needs   |\n",
       "| Ignoring Opportunity Cost of Capital           | Locking $500K in one illiquid asset may forgo better risk-adjusted returns or tax-efficient vehicles                          | Compare IRR scenarios for real estate, crypto, index funds, college 529 plans, and other alternatives before finalizing  |"
      ]
     },
     "metadata": {},
     "output_type": "display_data"
    },
    {
     "name": "stdout",
     "output_type": "stream",
     "text": [
      "----------------------------------------------------------\n",
      "----------------------------------------------------------\n"
     ]
    },
    {
     "data": {
      "text/markdown": [
       "### ORCHESTRATION HISTORY"
      ]
     },
     "metadata": {},
     "output_type": "display_data"
    },
    {
     "data": {
      "text/markdown": [
       "### Assistant - DwightEisenhower: \n",
       "| Consideration                              | Rental Property                                                                                             | Bitcoin                                                                                                   |\n",
       "|--------------------------------------------|-------------------------------------------------------------------------------------------------------------|-----------------------------------------------------------------------------------------------------------|\n",
       "| Initial Investment & Financing             | May require down payment (20–25%), closing costs, mortgage qualification                                    | All-cash purchase; can invest any amount up to $500K                                                       |\n",
       "| Liquidity                                  | Lower liquidity – selling can take months; transaction costs and agent fees                                  | High liquidity – 24/7 trading; can convert to cash within minutes to hours                                |\n",
       "| Risk & Volatility                          | Moderate risk – market fluctuations, tenant vacancy, maintenance surprises                                   | High volatility – significant price swings; potential for rapid loss or gain                               |\n",
       "| Expected Return                            | Steady long-term appreciation + rental income; average annual returns ~8–12% depending on market             | Potential for high returns; historical returns vary widely (e.g., 50–100%+ in bull markets, large drawdowns) |\n",
       "| Cash Flow & Income Stability               | Predictable monthly cash flow (rent) after expenses; supports college fund planning                         | No recurring income; relies entirely on price appreciation for returns                                    |\n",
       "| Tax Implications                           | Depreciation deduction, mortgage interest deduction, capital gains on sale, 1031 exchanges                   | Taxable events on sale or conversion; potential capital gains tax, variable by jurisdiction               |\n",
       "| Leverage & Financing Impact                | Leverage amplifies returns and risk; mortgage spreads increase risk if interest rates rise                   | No leverage unless using margin – margin increases risk of liquidation                                    |\n",
       "| Management & Expertise Required            | Active management or property manager; legal, maintenance, tenant screening knowledge                       | Minimal operational effort; requires understanding of wallets, exchanges, security practices              |\n",
       "| Time Horizon & Family Stability            | Supports multi-decade horizon; stable cash flow aids college funding                                         | Best for investors with high risk tolerance and flexible horizon; may conflict with near-term college needs |\n",
       "| Diversification & Portfolio Fit            | Adds real asset to portfolio; low correlation with equities                                                  | Adds digital asset; low correlation but high correlation spikes during risk-on periods                     |\n",
       "| Regulatory & Legal Considerations          | Zoning laws, landlord regulations, insurance, landlord liability                                             | Evolving regulations, security risks, potential for stricter future regulation                             |\n",
       "| Exit Strategy                              | Sell property or refinance; potentially long sale timeline                                                    | Sell on exchange instantly; risk of market liquidity dry-ups                                               |\n",
       "| Complexity & Learning Curve                | Moderate learning curve; many support services available                                                      | Steep learning curve on custody, security, market mechanics                                                |"
      ]
     },
     "metadata": {},
     "output_type": "display_data"
    },
    {
     "data": {
      "text/markdown": [
       "### Assistant - BenFranklin: \n",
       "| Consideration                  | Weight | Rental Property (Score)         | Bitcoin (Score)                 |\n",
       "|--------------------------------|--------|---------------------------------|---------------------------------|\n",
       "| Expected Return Potential      | 8      | 7 (steady 8–12% p.a.)           | 9 (potential 50%+ p.a.)         |\n",
       "| Volatility (Risk)              | 7      | 3 (low to moderate)             | 9 (high swings)                 |\n",
       "| Liquidity                      | 6      | 4 (months to sell)              | 10 (instant)                    |\n",
       "| Tax Efficiency                 | 5      | 8 (depreciation, deductions)    | 6 (capital gains only)          |\n",
       "| Management Overhead            | 4      | 3 (tenant maintenance)          | 8 (minimal operational)         |\n",
       "| Regulatory & Legal Risk        | 3      | 5 (established framework)       | 6 (evolving regulations)        |\n",
       "| Time Horizon Fit               | 5      | 9 (long‐term stability)         | 4 (shorter‐term suited)         |\n",
       "| Diversification Benefit        | 5      | 7 (real asset diversifier)      | 7 (noncorrelated digital asset) |\n",
       "| Total Weighted Score           |        | 248                             | 330                             |"
      ]
     },
     "metadata": {},
     "output_type": "display_data"
    },
    {
     "data": {
      "text/markdown": [
       "### Assistant - DevilsAdvocate: \n",
       "| Challenge                                      | Why It Matters                                                                                                                 | How to Address                                                                                                          |\n",
       "|------------------------------------------------|-------------------------------------------------------------------------------------------------------------------------------|-------------------------------------------------------------------------------------------------------------------------|\n",
       "| Overestimating Rental Income Stability         | Assumes full occupancy and predictable rents; vacancies, repairs, and market downturns can erode cash flow                     | Stress-test for 10–20% vacancy, factor in 5–10% annual maintenance reserve, and model downturn scenarios                |\n",
       "| Underestimating Management Burden              | DIY property management demands time, expertise, and can increase liability exposure                                          | Obtain quotes for professional property management fees and legal support; compare net returns after outsourcing costs |\n",
       "| Liquidity Mismatch vs College Funding Horizon  | Real estate sales can take 3–9+ months, crypto markets can freeze; both may be illiquid when funds are needed in ~5 years     | Maintain a dedicated cash or short-term bond buffer equal to 1–2 years of college costs; avoid 100% illiquid allocation |\n",
       "| Crypto Volatility & Margin Risks               | Bitcoin’s ±30–80% swings can trigger forced liquidations if using leverage, threatening family financial stability           | If allocating to crypto, limit exposure to ≤10–15% of portfolio, avoid margin, and set hard stop-loss thresholds         |\n",
       "| Interest Rate & Financing Exposure             | Rising rates can spike mortgage costs or margin costs, squeezing returns on both property and leveraged crypto positions      | Model scenarios with 2–4% higher mortgage rates; compare fixed- vs adjustable-rate mortgages; avoid crypto leverage     |\n",
       "| Regulatory and Tax Uncertainty                 | Property rules (zoning, rent controls) and evolving crypto regulations can change ROI and impose unexpected compliance costs | Consult tax and legal advisers on worst-case regulatory changes; monitor local housing laws and SEC/stablecoin rulings    |\n",
       "| Concentration Risk in a Single Asset Class     | Putting 100% into one property or crypto risks large drawdowns; correlation patterns can shift in crises                      | Diversify across real estate markets or add equities/fixed income; consider a small crypto allocation within a broader mix |\n",
       "| Assumed Expertise and Learning Curve           | Basic understanding may hide gaps in legal, tax, and technical security knowledge for either market, increasing error risk     | Pursue targeted education or mentorship, hire vetted professionals, and budget for consultant fees before investing     |\n",
       "| Hidden Cash Flow Timing Issues                 | Property income may lag expenses (repairs, taxes) and crypto gains are realized on sale, complicating short-term liquidity      | Build a detailed cash-flow calendar, maintain a 6–12 month operating reserve, and align sale timing with expense needs   |\n",
       "| Ignoring Opportunity Cost of Capital           | Locking $500K in one illiquid asset may forgo better risk-adjusted returns or tax-efficient vehicles                          | Compare IRR scenarios for real estate, crypto, index funds, college 529 plans, and other alternatives before finalizing  |"
      ]
     },
     "metadata": {},
     "output_type": "display_data"
    }
   ],
   "source": [
    "// Import the new Magentic orchestration package and Semantic Kernel InProcessRuntime\n",
    "#r \"nuget: Microsoft.SemanticKernel.Agents.Magentic, 1.62.0-preview\" \n",
    "#r \"nuget: Microsoft.SemanticKernel.Agents.Orchestration, 1.62.0-preview\" \n",
    "#r \"nuget: Microsoft.SemanticKernel.Agents.Runtime.InProcess, 1.62.0-preview\" \n",
    "\n",
    "using Microsoft.SemanticKernel.Agents;\n",
    "using Microsoft.SemanticKernel.Agents.Magentic;\n",
    "using Microsoft.SemanticKernel.Agents.Orchestration;\n",
    "using Microsoft.SemanticKernel.Agents.Runtime.InProcess;\n",
    "\n",
    "// Create a Devil's advocate agent that rigorously tests and challenges recommendations\n",
    "var assistantDevilsAdvocate = new ChatCompletionAgent\n",
    "{\n",
    "    Kernel = semanticKernel,\n",
    "    Name = \"DevilsAdvocate\",\n",
    "    Description = \"A decision intelligence agent that acts as a devil's advocate, rigorously testing and challenging recommendations.\",\n",
    "    Instructions = @\"\n",
    "You are a devil's advocate decision intelligence strategist. \n",
    "Your job is to critically evaluate any proposed recommendations or decisions by:\n",
    "  1. Identifying hidden assumptions and blind spots  \n",
    "  2. Raising potential risks, unintended consequences, and edge cases  \n",
    "  3. Questioning feasibility, resource constraints, and stakeholder buy-in  \n",
    "  4. Suggesting alternative viewpoints or counter-arguments  \n",
    "  5. Prompting further data, evidence, or analysis where needed  \n",
    "Respond in a structured way: state each challenge clearly, explain why it matters, \n",
    "and recommend how to address or investigate it further.\"\n",
    "};\n",
    "\n",
    "\n",
    "#pragma warning disable SKEXP0110\n",
    "#pragma warning disable SKEXP0001\n",
    "var magenticManager = new StandardMagenticManager(\n",
    "    semanticKernel.GetRequiredService<IChatCompletionService>(),\n",
    "    new OpenAIPromptExecutionSettings())\n",
    "{\n",
    "    MaximumInvocationCount = 4, // Maximum number of invocations per orchestration\n",
    "};\n",
    "\n",
    "\n",
    "// Initalize the ChatHistory to store the messages exchanged during the orchestration\n",
    "ChatHistory history = [];\n",
    "\n",
    "// Define a response callback to handle the responses from the orchestration\n",
    "// All the agent messages will be added in the history\n",
    "ValueTask responseCallback(ChatMessageContent response)\n",
    "{\n",
    "    history.Add(response);\n",
    "    return ValueTask.CompletedTask;\n",
    "}\n",
    "\n",
    "// Create the MagenticOrchestration with the agents and the response callback\n",
    "MagenticOrchestration orchestration = new MagenticOrchestration(\n",
    "    magenticManager,\n",
    "    assistantDevilsAdvocate,\n",
    "    assistantDwightEisenhower,\n",
    "    assistantBenFranklin,\n",
    "    assistantDecisionMaker)\n",
    "{\n",
    "    ResponseCallback = responseCallback,\n",
    "};\n",
    "\n",
    "// Create an Semantic Kernel InProcessRuntime to run the orchestration\n",
    "InProcessRuntime runtime = new InProcessRuntime();\n",
    "await runtime.StartAsync();\n",
    "\n",
    "string decisionToProcess = \"\"\"\n",
    "### Decision To Process:  \n",
    "I am thinking of buying a rental property versus investing in Bitcoin. \n",
    "What things should I consider in making this decision?\n",
    "### Decision Constraints:  \n",
    "1) You want to optimize for long-term financial growth, but also mitigate risk. \n",
    "2) You have a budget of $500,000 cash for the investment. \n",
    "3) You are the in early 40s and the breadwinner of your family and need to ensure financial stability.\n",
    "4) You don't have much debt, but have kids going to college in the next 5 years.\n",
    "5) You are not an expert in real estate or cryptocurrency, but have a basic understanding of both.\n",
    "\n",
    "Output Format Instructions: \n",
    "When generating Markdown, do not use any headings higher than ###. \n",
    "Avoid # and ## headers. Use only ###, ####, or lower-level headings if necessary. \n",
    "All top-level section headers should start at ### or lower. \n",
    "Never use ---, ***, or ___ for horizontal lines. There should be no horizontal lines in the output.\n",
    "For separation, use extra extra spacing. Do not any render horizontal lines.\n",
    "Format the response using only a Markdown table. Only return a Markdown table. \n",
    "Do not enclose the table in triple backticks.\n",
    "\"\"\";\n",
    "decisionToProcess.DisplayAs(\"text/markdown\");\n",
    "Console.WriteLine(\"----------------------------------------------------------\");\n",
    "Console.WriteLine(\"----------------------------------------------------------\");\n",
    "\"### FINAL RECOMMENDATION\".DisplayAs(\"text/markdown\");\n",
    "\n",
    "// Invoke the orchestration with the decision to process\n",
    "var orchestrationResult = await orchestration.InvokeAsync(decisionToProcess, runtime);\n",
    "// Display the decision recommendation from the orchestration result with a timeout of 300 seconds\n",
    "string decisionRecommendation = await orchestrationResult.GetValueAsync(TimeSpan.FromSeconds(300));\n",
    "decisionRecommendation.DisplayAs(\"text/markdown\");\n",
    "\n",
    "Console.WriteLine(\"----------------------------------------------------------\");\n",
    "Console.WriteLine(\"----------------------------------------------------------\");\n",
    "\"### ORCHESTRATION HISTORY\".DisplayAs(\"text/markdown\");\n",
    "\n",
    "// Show the history of messages exchanged during the orchestration\n",
    "foreach (ChatMessageContent message in history)\n",
    "{\n",
    "    var messageString = $\"\"\"\n",
    "    ### {message.Role} - {message.AuthorName}: \n",
    "    {message.Content}\n",
    "    \"\"\";\n",
    "    messageString.DisplayAs(\"text/markdown\");\n",
    "}\n",
    "\n",
    "// Wait for the runtime to complete all tasks\n",
    "// Dispose the runtime to clean up resources\n",
    "await runtime.RunUntilIdleAsync();\n",
    "await runtime.DisposeAsync()"
   ]
  }
 ],
 "metadata": {
  "kernelspec": {
   "display_name": ".NET (C#)",
   "language": "C#",
   "name": ".net-csharp"
  },
  "language_info": {
   "name": "polyglot-notebook"
  },
  "polyglot_notebook": {
   "kernelInfo": {
    "defaultKernelName": "csharp",
    "items": [
     {
      "aliases": [],
      "name": "csharp"
     }
    ]
   }
  }
 },
 "nbformat": 4,
 "nbformat_minor": 2
}
