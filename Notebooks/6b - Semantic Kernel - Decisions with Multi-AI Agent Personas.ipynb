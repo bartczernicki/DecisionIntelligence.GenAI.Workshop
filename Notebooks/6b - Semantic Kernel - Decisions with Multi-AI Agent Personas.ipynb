{
 "cells": [
  {
   "cell_type": "markdown",
   "metadata": {},
   "source": [
    "<div style=\"display: flex; align-items: center;\">\n",
    "  <img src=\"https://raw.githubusercontent.com/bartczernicki/DecisionIntelligence.GenAI.Workshop/main/Images/DecisionIntelligenceSemanticKernelLogo.png\" width=\"60px\" style=\"margin-right: 10px;\">\n",
    "  <span style=\"font-size: 1.5em; font-weight: bold;\">Semantic Kernel - Decisions with Multi-AI Agent Personas</span>\n",
    "</div>"
   ]
  },
  {
   "cell_type": "markdown",
   "metadata": {},
   "source": [
    "### Step 1 - Initialize Configuration Builder & Build the Semantic Kernel Orchestration "
   ]
  },
  {
   "cell_type": "markdown",
   "metadata": {},
   "source": [
    "Execute the next two cells to:\n",
    "* Use the Configuration Builder to load the API secrets.  \n",
    "* Use the API configuration to build the Semantic Kernel orchestrator."
   ]
  },
  {
   "cell_type": "code",
   "execution_count": 1,
   "metadata": {
    "polyglot_notebook": {
     "kernelName": "csharp"
    }
   },
   "outputs": [
    {
     "data": {
      "text/html": [
       "<div><div></div><div></div><div><strong>Installed Packages</strong><ul><li><span>Microsoft.Extensions.Configuration, 9.0.6</span></li><li><span>Microsoft.Extensions.Configuration.Json, 9.0.6</span></li></ul></div></div>"
      ]
     },
     "metadata": {},
     "output_type": "display_data"
    }
   ],
   "source": [
    "// Import the required NuGet configuration packages\n",
    "#r \"nuget: Microsoft.Extensions.Configuration, 9.0.6\"\n",
    "#r \"nuget: Microsoft.Extensions.Configuration.Json, 9.0.6\"\n",
    "\n",
    "//using Microsoft.Extensions.DependencyInjection;\n",
    "using Microsoft.Extensions.Configuration.Json;\n",
    "using Microsoft.Extensions.Configuration;\n",
    "using System.IO;\n",
    "\n",
    "// Load the configuration settings from the local.settings.json and secrets.settings.json files\n",
    "// The secrets.settings.json file is used to store sensitive information such as API keys\n",
    "var configurationBuilder = new ConfigurationBuilder()\n",
    "    .SetBasePath(Directory.GetCurrentDirectory())\n",
    "    .AddJsonFile(\"local.settings.json\", optional: true, reloadOnChange: true)\n",
    "    .AddJsonFile(\"secrets.settings.json\", optional: true, reloadOnChange: true);\n",
    "var config = configurationBuilder.Build();\n",
    "\n",
    "// IMPORTANT: You ONLY NEED either Azure OpenAI or OpenAI connectiopn info, not both.\n",
    "// Azure OpenAI Connection Info\n",
    "var azureOpenAIEndpoint = config[\"AzureOpenAI:Endpoint\"];\n",
    "var azureOpenAIAPIKey = config[\"AzureOpenAI:APIKey\"];\n",
    "var azureOpenAIModelDeploymentName = config[\"AzureOpenAI:ModelDeploymentName\"];\n",
    "// OpenAI Connection Info \n",
    "var openAIAPIKey = config[\"OpenAI:APIKey\"];\n",
    "var openAIModelId = config[\"OpenAI:ModelId\"];"
   ]
  },
  {
   "cell_type": "code",
   "execution_count": 2,
   "metadata": {
    "polyglot_notebook": {
     "kernelName": "csharp"
    }
   },
   "outputs": [
    {
     "data": {
      "text/html": [
       "<div><div></div><div></div><div><strong>Installed Packages</strong><ul><li><span>Microsoft.SemanticKernel, 1.60.0</span></li><li><span>Microsoft.SemanticKernel.Agents.Abstractions, 1.60.0</span></li><li><span>Microsoft.SemanticKernel.Agents.Core, 1.60.0</span></li></ul></div></div>"
      ]
     },
     "metadata": {},
     "output_type": "display_data"
    }
   ],
   "source": [
    "// Import the Semantic Kernel NuGet package\n",
    "#r \"nuget: Microsoft.SemanticKernel, 1.60.0\" \n",
    "#r \"nuget: Microsoft.SemanticKernel.Agents.Core, 1.60.0\"\n",
    "#r \"nuget: Microsoft.SemanticKernel.Agents.Abstractions, 1.60.0\"\n",
    "\n",
    "using Microsoft.SemanticKernel;\n",
    "using Microsoft.SemanticKernel.Agents;\n",
    "using Microsoft.SemanticKernel.ChatCompletion;\n",
    "using Microsoft.SemanticKernel.Connectors.OpenAI;\n",
    "\n",
    "var semanticKernel = Kernel.CreateBuilder()\n",
    "    .AddAzureOpenAIChatCompletion(\n",
    "        deploymentName: azureOpenAIModelDeploymentName!,\n",
    "        endpoint: azureOpenAIEndpoint!,\n",
    "        apiKey: azureOpenAIAPIKey!)\n",
    "    .Build();"
   ]
  },
  {
   "cell_type": "markdown",
   "metadata": {},
   "source": [
    "### Step 2 - Decisions with Multi-Agent Personas "
   ]
  },
  {
   "cell_type": "markdown",
   "metadata": {},
   "source": [
    "> \"The many are smarter than the few when it comes to solving problems, predicting outcomes, and innovating solutions, as long as there is diversity of opinion, independence, and decentralization.\"  \n",
    ">\n",
    "> -- <cite>James Surowiecki (Author \"The Wisdom of Crowds\")</cite> "
   ]
  },
  {
   "cell_type": "markdown",
   "metadata": {},
   "source": [
    "Single agent personas are effective constructs in Semantic Kernel, but can largely be replicated in other mechanisms with prompts. **Creating multiple personas (experts) that can interact with each other is the true power of the Semantic Kernel Agent functionality. This allows multiple chat agents to interact in various ways.** \n",
    "\n",
    "Execute the cell below to illustrate how two different personas can interact in a decision-making process moderated by a decision intelligence expert that makes the final reasoning conclusiion on the decision task at hand. In the output notice key steps:\n",
    "* Each expert (Dwight and Ben) make their recommendation, based on their decision persona\n",
    "* The final recommendation is made based on the synthesis of the agent recommendations  \n",
    "* This multi-agent interaction to converge on a single decision mimic the self-consistency GenAI pattern \n",
    "\n",
    "Note: The execution below can take the some time. Use GPT-4.1-mini to optimize speed of the execution.  "
   ]
  },
  {
   "cell_type": "code",
   "execution_count": 3,
   "metadata": {
    "polyglot_notebook": {
     "kernelName": "csharp"
    }
   },
   "outputs": [
    {
     "data": {
      "text/markdown": [
       "### Decision To Process:  \n",
       "I am thinking of buying a rental property versus investing in Bitcoin. \n",
       "What things should I consider in making this decision?\n",
       "### Decision Constraints:  \n",
       "1) You want to optimize for long-term financial growth, but also mitigate risk. \n",
       "2) You have a budget of $500,000 cash for the investment. \n",
       "3) You are the in early 40s and the breadwinner of your family and need to ensure financial stability.\n",
       "4) You don't have much debt, but have kids going to college in the next 5 years.\n",
       "5) You are not an expert in real estate or cryptocurrency, but have a basic understanding of both.\n",
       "\n",
       "Output Format Instructions: \n",
       "When generating Markdown, do not use any headings higher than ###. \n",
       "Avoid # and ## headers. Use only ###, ####, or lower-level headings if necessary. \n",
       "All top-level section headers should start at ### or lower. \n",
       "Never use ---, ***, or ___ for horizontal lines. There should be no horizontal lines in the output.\n",
       "For separation, use extra extra spacing. Do not any render horizontal lines.\n",
       "Format the response using only a Markdown table. Only return a Markdown table. \n",
       "Do not enclose the table in triple backticks."
      ]
     },
     "metadata": {},
     "output_type": "display_data"
    },
    {
     "name": "stdout",
     "output_type": "stream",
     "text": [
      "\n",
      "\n"
     ]
    },
    {
     "data": {
      "text/markdown": [
       "| ### Key Decision Factors                                    | Rental Property                                              | Bitcoin Investment                                           | Eisenhower Matrix Quadrant*           | Strategic Considerations                                                                                                                             |\n",
       "|:------------------------------------------------------------|:------------------------------------------------------------|:------------------------------------------------------------|:--------------------------------------|:-----------------------------------------------------------------------------------------------------------------------------------------------------|\n",
       "| Potential for Long-term Financial Growth                    | Historically steady appreciation and recurring rental income | High potential for capital appreciation; highly volatile     | Q2 - Important but Not Urgent         | Both can contribute, but real estate offers tangible, predictable cash flow. Bitcoin’s track record is short, with no intrinsic yield.                |\n",
       "| Risk Profile                                                | Market downturns, vacancies, maintenance costs               | High volatility, regulatory and security risk                | Q1 - Important and Urgent             | Rental properties offer lower volatility, but require active management. Bitcoin is subject to market swings that can drastically affect your capital. |\n",
       "| Diversification Benefits                                    | Diversifies away from equities and crypto                    | Dependent on performance of crypto markets                   | Q2 - Important but Not Urgent         | Real estate may reduce overall portfolio risk; Bitcoin could increase overall volatility without much risk buffering, given your low debt level.      |\n",
       "| Liquidity                                                   | Relatively illiquid—could take months to sell                | Highly liquid—can buy/sell 24/7 with low transaction costs   | Q2 - Important but Not Urgent         | Liquidity matters with upcoming college expenses. Rental property limits flexibility, Bitcoin adds liquidity if needed quickly.                       |\n",
       "| Income Generation                                           | Generates regular rental income                             | No income stream; speculative appreciation                   | Q1 - Important and Urgent             | Rental property provides steady cash flow, supporting stability amid family obligations. Bitcoin offers no stability or income for expenses.          |\n",
       "| Active Management Requirement                              | Significant—property management, tenant issues, repairs      | Passive—no management after purchase                         | Q3 - Not Important but Urgent         | Real estate can be outsourced but cuts into returns. Bitcoin requires minimal effort, suiting those short on time or expertise.                       |\n",
       "| Tax Implications                                            | Depreciation, deductions, capital gains, property taxes      | Subject to capital gains; limited deductions                 | Q2 - Important but Not Urgent         | Real estate offers multiple tax strategies that can enhance after-tax returns, while Bitcoin offers less flexibility.                                |\n",
       "| Inflation Hedge                                             | Typically outpaces inflation through rent increases          | Possible hedge if adoption grows; not guaranteed             | Q2 - Important but Not Urgent         | Real estate often tracks or beats inflation. Bitcoin’s efficacy as an inflation hedge remains unproven at scale.                                      |\n",
       "| Regulatory/Legal Risk                                       | Changing housing laws, eviction rules, local ordinances      | Global and domestic regulation risk, possible bans           | Q1 - Important and Urgent             | Both exposed, but Bitcoin particularly sensitive to shifting global regulatory landscape.                                                             |\n",
       "| Suitability to Your Expertise                              | Requires learning curve (legal, tenant, finance knowledge)   | Requires basic knowledge for safe storage and transaction    | Q4 - Not Important & Not Urgent      | Both require education, but rental property has more legal/operational hurdles; Bitcoin simpler if kept to basic strategies.                          |\n",
       "| Alignment with Upcoming Expenses (e.g. college for kids)   | May provide ongoing supplemental income                      | Can be accessed as a lump sum as needed (if value is stable) | Q1 - Important and Urgent             | Rental income could help finance college; Bitcoin offers a way to liquidate but is value-unstable.                                                   |\n",
       "\n",
       "*Eisenhower Matrix Quadrant:  \n",
       "Q1 = Urgent & Important, Q2 = Not Urgent & Important, Q3 = Urgent & Not Important, Q4 = Not Urgent & Not Important\n",
       "\n"
      ]
     },
     "metadata": {},
     "output_type": "display_data"
    },
    {
     "data": {
      "text/markdown": [
       "| ### Factor                              | Rental Property                                                                         | Bitcoin Investment                                                                | Decision Intelligence Note                                                                                             |\n",
       "|:-----------------------------------------|:---------------------------------------------------------------------------------------|:----------------------------------------------------------------------------------|:----------------------------------------------------------------------------------------------------------------------|\n",
       "| Expected Return (Long-Term Growth)       | Historically 3-5% annual price appreciation, plus 4-7% in rental yields                 | Historically high volatility; potential for high returns but no reliable expectation| Real estate returns are steadier; Bitcoin shows higher variance and unpredictability over time.                        |\n",
       "| Risk Profile                            | Lower day-to-day volatility, but exposed to market cycles, tenant risk, local shocks    | High market risk, regulatory risk, technological risk                              | If stability is a priority, real estate’s risks are easier to model and mitigate, while Bitcoin risks are less capped. |\n",
       "| Liquidity                               | Illiquid; may take months to years to sell                                             | Highly liquid; can buy/sell quickly                                                | Bitcoin’s liquidity is advantageous if you need rapid access to capital.                                               |\n",
       "| Cash Flow                               | Steady rental income; more predictable                                                  | None—returns all from price appreciation                                           | Rental income can support future expenses for kids’ college and household stability.                                   |\n",
       "| Management Needed                       | High—tenants, repairs, legal, market research                                          | Low—secure storage and periodic monitoring                                         | Consider your willingness to manage tenants versus want for passive investments.                                       |\n",
       "| Inflation Hedge                         | Historically effective, as rents and values often track inflation                       | Unproven, but touted as “digital gold”                                             | Both can potentially outpace inflation, but real estate has longer inflation-hedging track record.                     |\n",
       "| Tax Treatment                           | Depreciation & deductions reduce taxable income; possible capital gains on sale         | Subject to capital gains tax; fewer deductions                                     | Real estate has multiple tax advantages; Bitcoin is currently less tax-advantageous.                                   |\n",
       "| Diversification                         | Tangible asset, less correlated to equity and crypto markets                           | Highly correlated within crypto, weakly so outside                                 | Owning both increases diversification; owning only Bitcoin can concentrate risk.                                       |\n",
       "| Regulatory Risk                         | Changing property, zoning, and rental laws                                              | Government regulation, bans, legal uncertainty                                     | Bitcoin faces more existential regulatory risk in the medium/long term.                                                |\n",
       "| Suitability to Your Situation           | Rental income fits upcoming college expenses; real estate knowledge required            | Value is highly variable at decision points; requires secure custody management     | As breadwinner, predictable income and risk reduction are highly relevant.                                             |\n",
       "| Expertise Required                      | Local market, property management, maintenance                                          | Security and custodial best practices                                              | Both demand ongoing self-education, but risks of error (theft, scams) in crypto are higher per dollar.                 |\n",
       "\n"
      ]
     },
     "metadata": {},
     "output_type": "display_data"
    },
    {
     "data": {
      "text/markdown": [
       "| ### Considerations                              | Rental Property                                                        | Bitcoin Investment                                                    | Strategic Reasoning                                                                                                                                                                         |\n",
       "|--------------------------------------------------|------------------------------------------------------------------------|-----------------------------------------------------------------------|---------------------------------------------------------------------------------------------------------------------------------------------------------------------------------------------|\n",
       "| Historical Performance & Expected Return         | Steady appreciation + rental income (~6-8%/yr)                         | Highly volatile, potential for high growth, no income                  | Real estate offers predictable returns with income; bitcoin offers high upside, but unpredictable.                                                    |\n",
       "| Risk Profile                                     | Lower volatility, market/tenant/property risks                         | High volatility, regulatory/tech/theft risks                          | Real estate risk better understood & managed for your priorities; bitcoin carries existential risk and high volatility.                               |\n",
       "| Liquidity                                        | Illiquid (months to sell, transaction fees)                             | Highly liquid (buy/sell 24/7, low fees)                               | Real estate is a long-term hold; bitcoin can be sold quickly if needed, but may be at a loss.                                                         |\n",
       "| Cash Flow & Income                               | Yes, monthly rental payments possible                                   | No income, only price speculation                                     | Steady rental income supports college and family needs; bitcoin does not.                                                                             |\n",
       "| Time/Effort Requirement                          | Active management or property manager required                          | Passive; requires secure storage/monitoring                           | Real estate is work; bitcoin investment is low-effort but carries different risks.                                                                   |\n",
       "| Inflation Hedge                                  | Typically outpaces inflation with rent/value increases                  | Possible, but not consistently proven                                 | Rental property offers more reliable inflation protection.                                                                                            |\n",
       "| Tax Implications                                 | Depreciation, mortgage interest, expense deductions                     | Capital gains tax, few deductions                                     | Rental property has stronger, more reliable tax advantages.                                                                                           |\n",
       "| Diversification Benefits                         | Diversifies traditional portfolio (equities, bonds)                     | Most effective as a minority allocation                               | Putting all $500k into bitcoin dramatically increases single-asset risk.                                                                              |\n",
       "| Regulatory/Legal Risks                           | Rent control, local ordinances, landlord/tenant laws                    | Bans, regulations, confiscation risk                                  | Real estate’s legal risks are better known; bitcoin faces sudden regulatory or technical disruption.                                                  |\n",
       "| Suitability to Life Situation/Upcoming Needs     | Supplemental income helpful for college/family stability                | May require selling at inopportune times                              | Rental income aligns with need for college payments and family support better than bitcoin sale at unpredictable prices.                              |\n",
       "| Personal Expertise/Comfort                       | Learning curve for property management                                 | Learning curve for digital security                                   | Real estate tasks can be outsourced (reducing returns); bitcoin requires careful storage, subject to hacks/fraud.                                     |\n",
       "\n",
       "Final decision: Invest the majority of funds in a rental property for steady income, lower volatility, better inflation/tax protection, and alignment with family stability goals. Consider allocating a small portion (e.g., $25,000) to bitcoin for speculative upside and liquidity, but do not risk stability with a large allocation to bitcoin. Real estate best meets your long-term growth, risk management, and family needs."
      ]
     },
     "metadata": {},
     "output_type": "display_data"
    }
   ],
   "source": [
    "using Microsoft.SemanticKernel;\n",
    "using Microsoft.SemanticKernel.Agents;\n",
    "using Microsoft.SemanticKernel.Agents.Chat;\n",
    "using Microsoft.SemanticKernel.ChatCompletion;\n",
    "using System.Threading;\n",
    "\n",
    "#pragma warning disable SKEXP0110\n",
    "// Create a new chat TerminationStrategy that will terminate when the final message contains the term \"final decision\"\n",
    "private sealed class ApprovalTerminationStrategy : TerminationStrategy\n",
    "{\n",
    "    // Terminate when the final message contains the term \"approve\"\n",
    "    protected override Task<bool> ShouldAgentTerminateAsync(Agent agent, IReadOnlyList<ChatMessageContent> history, CancellationToken cancellationToken)\n",
    "        => Task.FromResult(history[history.Count - 1].Content?.Contains(\"final decision\", StringComparison.OrdinalIgnoreCase) ?? false);\n",
    "}\n",
    "\n",
    "var assistantDwightEisenhower = new ChatCompletionAgent\n",
    "{\n",
    "    Kernel = semanticKernel,\n",
    "    Name = \"DwightEisenhower\", // Dwight Eisenhower persona\n",
    "    Description = \"A decision intelligence agent that uses the Eisenhower Decision Priorotization Matrix.\",\n",
    "    Instructions = \"You are a decision intelligence strategist with the knowledge of Dwight Eisenhower's Decision Prioritization Matrix. Assist the user in exploring options, reasoning through decisions, problem-solving, and applying systems thinking to various scenarios. Provide structured, logical, and comprehensive advice.\"\n",
    "};\n",
    "\n",
    "var assistantBenFranklin = new ChatCompletionAgent\n",
    "{\n",
    "    Kernel = semanticKernel,\n",
    "    Name = \"BenFranklin\", // Ben Franklin persona\n",
    "    Description = \"A decision intelligence agent that uses the Ben Franklin Decision Framework.\",\n",
    "    Instructions = \"You are a decision intelligence strategist with the knowledge of Ben Franklin's Decision Framework. Assist the user in exploring options, reasoning through decisions, problem-solving, and applying systems thinking to various scenarios. Provide structured, logical, and comprehensive advice.\"\n",
    "};\n",
    "\n",
    "var assistantDecisionMaker = new ChatCompletionAgent\n",
    "{\n",
    "    Kernel = semanticKernel,\n",
    "    Name = \"DecisionMaker\",\n",
    "    Description = \"A decision intelligence agent that approves the final decision.\",\n",
    "    Instructions = \"\"\"\n",
    "    You are a Decision Intelligence maker. Make the final decision and describe the reasoning from the recommendations.\n",
    "    You're laser focused on the goal at hand. Don't waste time with chit chat.\n",
    "    Consider suggestions when refining an idea. \n",
    "    When ready to approve the final the decision, use the words final decision to approve the final decision.\n",
    "    \"\"\"\n",
    "};\n",
    "\n",
    "// Create a chat for agent interaction.\n",
    "AgentGroupChat chat =\n",
    "    new(assistantDwightEisenhower, assistantBenFranklin, assistantDecisionMaker)\n",
    "    {\n",
    "        ExecutionSettings =\n",
    "            new()\n",
    "            {\n",
    "                // Here a TerminationStrategy subclass is used that will terminate when\n",
    "                // an assistant message contains the term \"approve\".\n",
    "                TerminationStrategy =\n",
    "                    new ApprovalTerminationStrategy()\n",
    "                    {\n",
    "                        // Only the art-director may approve.\n",
    "                        Agents = [assistantDecisionMaker],\n",
    "                        // Limit total number of turns\n",
    "                        MaximumIterations = 10,\n",
    "                    }\n",
    "            }\n",
    "    };\n",
    "\n",
    "// Invoke chat and display messages.\n",
    "ChatMessageContent decisionRecommendation = new(AuthorRole.User, \"\"\"\n",
    "### Decision To Process:  \n",
    "I am thinking of buying a rental property versus investing in Bitcoin. \n",
    "What things should I consider in making this decision?\n",
    "### Decision Constraints:  \n",
    "1) You want to optimize for long-term financial growth, but also mitigate risk. \n",
    "2) You have a budget of $500,000 cash for the investment. \n",
    "3) You are the in early 40s and the breadwinner of your family and need to ensure financial stability.\n",
    "4) You don't have much debt, but have kids going to college in the next 5 years.\n",
    "5) You are not an expert in real estate or cryptocurrency, but have a basic understanding of both.\n",
    "\n",
    "Output Format Instructions: \n",
    "When generating Markdown, do not use any headings higher than ###. \n",
    "Avoid # and ## headers. Use only ###, ####, or lower-level headings if necessary. \n",
    "All top-level section headers should start at ### or lower. \n",
    "Never use ---, ***, or ___ for horizontal lines. There should be no horizontal lines in the output.\n",
    "For separation, use extra extra spacing. Do not any render horizontal lines.\n",
    "Format the response using only a Markdown table. Only return a Markdown table. \n",
    "Do not enclose the table in triple backticks.\n",
    "\"\"\");\n",
    "chat.AddChatMessage(decisionRecommendation);\n",
    "decisionRecommendation.Content.DisplayAs(\"text/markdown\");\n",
    "Console.WriteLine();\n",
    "Console.WriteLine();\n",
    "\n",
    "await foreach (ChatMessageContent response in chat.InvokeAsync())\n",
    "{\n",
    "    response.Content.DisplayAs(\"text/markdown\");\n",
    "}"
   ]
  },
  {
   "cell_type": "markdown",
   "metadata": {},
   "source": [
    "### Step 3 - Decisions with Advanced Multi-Agent Decision Orchestration  "
   ]
  },
  {
   "cell_type": "markdown",
   "metadata": {},
   "source": [
    "The previous example was quite simplistic as it basically put several agents together with a moderator and it completed once the words \"Final Decision\" were emitted. Advanced multi-agent orchestrations can provide much more powerful control around how agents work together. Semantic Kernel supports several orchestration patterns, each designed for different collaboration scenarios. These patterns are available as part of the framework and can be easily extended or customized. \n",
    "\n",
    "One of these patterns is the Magnetic orchestration, which is a powerful multi-agent pattern designed for managing complex, open-ended tasks. The Magentic orchestration in Semantic Kernel is inspired by the \"Magentic-One\" system. It involves a dedicated Magentic manager that coordinates a team of specialized agents to solve intricate problems. This manager is powered by an AI model to perform the coordination. It selects the next agent based on different factors in the process like: task progress, agent capabilities, evolving context etc. "
   ]
  },
  {
   "cell_type": "code",
   "execution_count": 4,
   "metadata": {
    "polyglot_notebook": {
     "kernelName": "csharp"
    }
   },
   "outputs": [
    {
     "data": {
      "text/html": [
       "<div><div></div><div></div><div><strong>Installed Packages</strong><ul><li><span>Microsoft.SemanticKernel.Agents.Magentic, 1.60.0-preview</span></li><li><span>Microsoft.SemanticKernel.Agents.Orchestration, 1.60.0-preview</span></li><li><span>Microsoft.SemanticKernel.Agents.Runtime.InProcess, 1.60.0-preview</span></li></ul></div></div>"
      ]
     },
     "metadata": {},
     "output_type": "display_data"
    },
    {
     "data": {
      "text/markdown": [
       "### Decision To Process:  \n",
       "I am thinking of buying a rental property versus investing in Bitcoin. \n",
       "What things should I consider in making this decision?\n",
       "### Decision Constraints:  \n",
       "1) You want to optimize for long-term financial growth, but also mitigate risk. \n",
       "2) You have a budget of $500,000 cash for the investment. \n",
       "3) You are the in early 40s and the breadwinner of your family and need to ensure financial stability.\n",
       "4) You don't have much debt, but have kids going to college in the next 5 years.\n",
       "5) You are not an expert in real estate or cryptocurrency, but have a basic understanding of both.\n",
       "\n",
       "Output Format Instructions: \n",
       "When generating Markdown, do not use any headings higher than ###. \n",
       "Avoid # and ## headers. Use only ###, ####, or lower-level headings if necessary. \n",
       "All top-level section headers should start at ### or lower. \n",
       "Never use ---, ***, or ___ for horizontal lines. There should be no horizontal lines in the output.\n",
       "For separation, use extra extra spacing. Do not any render horizontal lines.\n",
       "Format the response using only a Markdown table. Only return a Markdown table. \n",
       "Do not enclose the table in triple backticks."
      ]
     },
     "metadata": {},
     "output_type": "display_data"
    },
    {
     "name": "stdout",
     "output_type": "stream",
     "text": [
      "----------------------------------------------------------\n",
      "----------------------------------------------------------\n"
     ]
    },
    {
     "data": {
      "text/markdown": [
       "### FINAL RECOMMENDATION"
      ]
     },
     "metadata": {},
     "output_type": "display_data"
    },
    {
     "data": {
      "text/markdown": [
       "| ### Factor / Framework           | Rental Property Analysis                                                                                                                                                                                                                                                                                                                                    | Bitcoin Analysis                                                                                                                                                                                                                                                                                               | Key Takeaways for Your Situation                                                                                      |\n",
       "|----------------------------------|------------------------------------------------------------------------------------------------------------------------------------------------------------------------------------------------------------------------------------------------------------------------------------------------------------------------------------------------------------|---------------------------------------------------------------------------------------------------------------------------------------------------------------------------------------------------------------------------------------------------------------------------------------------------------------|-----------------------------------------------------------------------------------------------------------------------|\n",
       "| **Risks & Pitfalls (DevilsAdvocate)** | - Illiquid: Selling can be slow/costly, problematic if cash needed for college.<br>- High asset concentration.<br>- Requires significant management—time, expertise, or costly management fees.<br>- Income vulnerable to vacancies, repairs, market/local law shifts.<br>- Ongoing costs (maintenance, taxes, insurance) can erode returns.<br>- Requires due diligence and location research.<br>- Family disruption possible if rentals go poorly. | - Extremely volatile: Large swings can lead to major losses.<br>- No regular income stream; relies only on price appreciation.<br>- Regulatory uncertainty (taxes, bans).<br>- Security/custody risks.<br>- Often hard for non-experts to assess value or act rationally.<br>- Highly concentrated exposure if using most of your $500k.<br>- Can cause stress/second-guessing if price drops before college bills are due. | Both paths carry hidden risks: real estate’s illiquidity and management demands vs. Bitcoin’s volatility and complexity.    |\n",
       "| **Eisenhower Matrix**            | - Urgent & Important: Analyze rental cash flow, vacancy potential, and liquidity; model appreciation/downturn scenarios. <br>- Important to schedule: Plan for management, tax, and regulations; confirm location strength. <br>- Delegate: Hire property managers/inspectors. <br>- Not urgent: Avoid unnecessary renovations or obsessing over minor details.                         | - Urgent & Important: Ensure liquidity for college/emergency needs; stress test severe downturns. <br>- Important to schedule: Secure custody plans; follow regulation/tax news. <br>- Delegate: Use reputable exchanges, consider ETFs for simplicity. <br>- Not urgent: Don’t chase altcoins or over-analyze tech details.                      | Liquidity for tuition and stability are most urgent; both investments require time/effort you may need to spread wisely. |\n",
       "| **Ben Franklin Pros & Cons**     | **Pros:**<br>- Tangible, inflation-protected with rent.<br>- Predictable cash flow.<br>- Potential tax benefits.<br>- Lower volatility historically.<br>**Cons:**<br>- Illiquid.<br>- High concentration.<br>- Hands-on management needed.<br>- Market/local law risks.<br>- Ongoing costs.<br>- Could force a sale in a weak market.                                  | **Pros:**<br>- Liquid; easy to sell.<br>- High upside potential.<br>- No landlord work.<br>**Cons:**<br>- Extreme volatility.<br>- No income stream.<br>- Regulation/tax uncertainty.<br>- Security risks.<br>- Poor fit for short/intermediate liquidity needs like college.<br>- Emotional stress may undermine decision-making.                 | Real estate better matches risk-mitigation and income needs, but only if you go in eyes open to time and liquidity costs.  |\n",
       "| **Final Recommendation**         | **Blend your investment:** Place the majority (60–80%) in a well-researched, stable rental property with strong cash flow and sound management. Maintain 20–40% in highly liquid safe assets (cash, high-quality bonds), and limit any Bitcoin to a small speculative share (5–10% MAX) if at all.                                                             | Any direct Bitcoin investment should be a small speculative allocation (if at all); do not use the bulk of funds here.                                                                                                                                                                                          | This strategy optimizes for stable long-term growth AND liquidity for college, balancing your breadwinner obligations, aversion to heavy risk, and need for family financial security. Diversification reduces concentration risk and matches your expertise and upcoming financial needs. |\n",
       "\n",
       "**References:**  \n",
       "- Internal team analysis: DevilsAdvocate, DwightEisenhower, BenFranklin, DecisionMaker  \n",
       "- User-supplied context and fact sheet  \n",
       "\n",
       "**In summary:**  \n",
       "Prioritize investing the bulk of your $500,000 in a stable rental property with thorough due diligence and professional management, while holding a healthy liquid reserve for upcoming college expenses. Limit speculative positions, such as Bitcoin, to a small portion of your investments if desired. This approach supports your priorities: long-term growth, risk mitigation, liquidity, and financial stability for your family."
      ]
     },
     "metadata": {},
     "output_type": "display_data"
    },
    {
     "name": "stdout",
     "output_type": "stream",
     "text": [
      "----------------------------------------------------------\n",
      "----------------------------------------------------------\n"
     ]
    },
    {
     "data": {
      "text/markdown": [
       "### ORCHESTRATION HISTORY"
      ]
     },
     "metadata": {},
     "output_type": "display_data"
    },
    {
     "data": {
      "text/markdown": [
       "### Assistant - DevilsAdvocate: \n",
       "| ### Challenge/Question                                                 | Explanation of Why it Matters                                                                                                                                                                                                                                                                                                                                                                                                             | Recommended Next Steps/Investigation                                                                                  |\n",
       "|-----------------------------------------------------------------------|--------------------------------------------------------------------------------------------------------------------------------------------------------------------------------------------------------------------------------------------------------------------------------------------------------------------------------------------------------------------------------------------------------------------------------------------|----------------------------------------------------------------------------------------------------------------------|\n",
       "| **Hidden Assumption: Both assets will grow equally over the long term** | It isn’t safe to assume either real estate or Bitcoin will offer steady, comparable appreciation. Real estate returns are heavily location- and timing-dependent; Bitcoin’s price is volatile and vulnerable to regulatory shocks. Growth prospects for both could diverge dramatically.                                                                                                                     | Analyze historical returns and volatility for both asset classes over various timeframes. Model upside and downside.   |\n",
       "| **Blind Spot: Liquidity Needs, Especially With College Approaching**   | Rental property is illiquid; selling may take months or more, especially during downturns. Bitcoin can be sold quickly, but price may be volatile at needed moments. Your future college expenses are a time-certain liquidity need in 5 years.                                                                                                                     | Map out likely cash flow needs. Determine if/when the investment needs to be partially liquidated for tuition, etc.   |\n",
       "| **Potential Risk: Concentration vs. Diversification**                  | With $500k in one property or Bitcoin, you’re highly concentrated. Real estate means one asset, one location; Bitcoin could be a single highly volatile asset. Either approach carries significant single-asset risk, conflicting with risk mitigation goals.                                                                                                       | Consider if partial allocation (some in cash, stocks, bonds, REITs, etc.) would improve risk-adjusted returns.        |\n",
       "| **Feasibility: Time, Effort, and Expertise**                           | Rental property ownership often entails dealing with tenants, repairs, local laws, and property managers—possibly overwhelming for a real estate novice. Bitcoin security (private keys, exchanges), taxation, and staying updated on crypto risks require technical savvy. Both may demand more expertise and time than expected.                      | Research required skill sets and time commitments; consider “hands-off” alternatives like REITs or crypto ETFs.       |\n",
       "| **Unintended Consequence: Regulatory and Tax Risks**                   | Rental property is subject to changing property taxes, rent control, and zoning laws. Bitcoin faces shifting regulations, tax reporting rules, or even outright bans in some countries. Either investment could face rising compliance costs or legal uncertainty impacting value.                                                                              | Consult with financial and tax advisors. Stay informed on local real estate and crypto regulatory outlook.             |\n",
       "| **Risks: Ongoing Costs Overlooked**                                    | Rental ownership includes insurance, taxes, vacancies, management, repairs, and possible special assessments. Bitcoin’s “storage” and custodial security costs are lower but risks of hacking or platform failure are not negligible. These costs can erode returns.                                                   | Draft comprehensive pro-forma cash flow projections for property. Research crypto custody and security solutions.      |\n",
       "| **Stakeholder Buy-in: Family Preferences & Risk Appetite**             | The psychological impact of large losses (if property crashes or Bitcoin plummets) may strain family stability, especially when college and future security are at stake. Your risk perception may not match your partner’s or children’s needs.                                                                       | Have open family discussions about acceptable risk, financial tradeoffs, and contingency planning.                    |\n",
       "| **Counter-Argument: Hybrid Approach Overlooked**                       | Focusing on “either/or” between real estate and Bitcoin could be unnecessarily limiting. Diversifying between them, or including bonds, stocks, or cash, might deliver better risk/return alignment with your constraints and responsibilities.                                                                      | Model different portfolio mixes and stress test them against various negative market scenarios.                        |\n",
       "| **Further Data/Evidence Gaps**                                         | Without detailed knowledge of your chosen property’s location or your familiarity with secure crypto management, it’s hard to estimate projected returns or risk exposure. Both asset classes require “due diligence” above and beyond a basic understanding for a $500k decision.                       | Seek advice from local real estate pros and an experienced crypto fiduciary. Consider simulated investing first.       |"
      ]
     },
     "metadata": {},
     "output_type": "display_data"
    },
    {
     "data": {
      "text/markdown": [
       "### Assistant - DwightEisenhower: \n",
       "| ### Eisenhower Matrix Quadrant                               | Key Rental Property Considerations                                                                                                                     | Key Bitcoin Considerations                                                                                                                                    | Notes / Decision Guidance                                                                                                                 |\n",
       "|-------------------------------------------------------------|-------------------------------------------------------------------------------------------------------------------------------------------------------|--------------------------------------------------------------------------------------------------------------------------------------------------------------|------------------------------------------------------------------------------------------------------------------------------------------|\n",
       "| **Urgent & Important (Do First)**                           | - Assess cash flow reliability and potential for vacancies.  <br> - Analyze liquidity (time to sell, costs). <br> - Model impact of property appreciation versus stagnation.   | - Assess ease and speed of liquidation in case college or emergency funds are needed. <br> - Model impact of severe market downturn on family security.         | Critical to address these as they directly relate to college timeline, risk, and stability.                                              |\n",
       "| **Important, Not Urgent (Schedule/Plan)**                   | - Understand and plan for property management demands, regulatory/tax issues, and ongoing maintenance. <br> - Evaluate location long-term outlook.     | - Develop secure custody/cold storage plan. <br> - Stay updated on evolving regulations and tax rules for crypto.                                               | Both require ongoing effort and learning curve, risk of neglecting could be high.                                                        |\n",
       "| **Urgent, Not Important (Delegate or Automate)**            | - Choose, vet, and possibly hire a reliable property manager or real estate advisor.  <br> - Seek professional help with inspections, contracts.       | - Use reputable exchanges; investigate managed crypto portfolios or ETFs if direct management is out of depth.                                                  | Reduces operational burden and risk of error; enables focused attention on “Important” tasks.                                             |\n",
       "| **Not Urgent & Not Important (Eliminate/Postpone)**         | - Cosmetic upgrades/renovations that won’t improve rental yield. <br> - Over-researching minor property features.                                       | - Chasing crypto ‘altcoins’ or timing market for short-term gains. <br> - Deep technical analysis beyond your expertise.                                       | Avoids time sink and risk creep; keeps focus on your financial objectives instead of distractions.                                        |\n",
       "| **Cross-Asset/General Considerations**                      | - Both: Diversification (do not place all $500k into one asset), family buy-in, and contingency planning are urgent and important.                      | - Both: Scenario-modeling major downturns and college cost timelines is urgent and important to safeguard long-term financial stability and goal achievement.   | Diversification can mitigate most single-asset risks given your constraints—strongly consider partial split and risk-adjusted portfolios. |"
      ]
     },
     "metadata": {},
     "output_type": "display_data"
    },
    {
     "data": {
      "text/markdown": [
       "### Assistant - BenFranklin: \n",
       "| ### Option                        | #### Pros                                                                                          | #### Cons                                                                                                                | #### Fit for Long-Term Growth & Risk Profile                                                                                                 |\n",
       "|------------------------------------|----------------------------------------------------------------------------------------------------|-------------------------------------------------------------------------------------------------------------------------|---------------------------------------------------------------------------------------------------------------------------------------------|\n",
       "| **Rental Property**                | - Potential for steady, inflation-linked returns (rent). <br> - Tangible asset, may appreciate. <br> - Potential tax benefits (depreciation, deductions). <br> - Leverage via property value growth; regular cash flow. <br> - Historically less volatile than crypto. | - Illiquid; costly and slow to sell if cash needed. <br> - Subject to market, tenant, repair, and vacancy risks. <br> - Requires management time/expertise or third-party costs.<br> - Local law/tax/regulation shifts can hurt returns.<br> - High asset concentration risk. | - Aligns with growth + risk mitigation **if managed well**, but significant liquidity and operational risks. <br> - Can match 5-year timeline for college with careful planning, but forced sale in a down market is problematic. <br> - More predictable if in a strong market and well researched.    |\n",
       "| **Bitcoin**                        | - Potential for high long-term returns. <br> - Quick liquidity; easy to sell in emergencies. <br> - No direct management or labor. <br> - Decentralized, not tied to a single government/currency. | - Extreme volatility; possible major losses. <br> - Uncertain regulatory/tax future. <br> - No regular income/cash flow. <br> - Storage/security challenges.<br> - Can easily trigger emotional or rash decision-making. <br> - Difficult to fundamentally research for non-experts. | - May fit long-term growth goal only with high risk acceptance. <br> - Volatility a poor match for upcoming tuition/cash needs.<br> - Liquidity helps, but high stress and loss potential can undercut stability and family security in case of downturn near college timeline.   |"
      ]
     },
     "metadata": {},
     "output_type": "display_data"
    },
    {
     "data": {
      "text/markdown": [
       "### Assistant - DecisionMaker: \n",
       "| ### Final Recommendation                                     | ### Rationale                                                                                                                                                                                                                                                                                                                                                                                                                                                                                          |\n",
       "|-------------------------------------------------------------|--------------------------------------------------------------------------------------------------------------------------------------------------------------------------------------------------------------------------------------------------------------------------------------------------------------------------------------------------------------------------------------------------------------------------------------------------------------------------------------------------------|\n",
       "| Prioritize a **blended investment approach**: allocate the majority of the $500,000 (e.g., 60-80%) to a well-chosen, stable rental property in a strong market, and keep the remaining portion (20-40%) highly liquid in cash, high-quality bonds, or a small Bitcoin allocation (max 5-10%) as a speculative long-term growth satellite. | - Rental property, if researched and professionally managed, aligns with stable, inflation-protected long-term growth and provides consistent cash flow, which suits family stability and supports future liquidity needs for college. <br> - Bitcoin, despite its potential high returns, poses too much volatility and risk to the user’s primary stability and near-term obligations; a small allocation only is warranted, if at all. <br> - Complete allocation to either asset fails diversification and risk-mitigation goals.<br> - Keeping a portion in highly liquid safe assets ensures funds are available when needed for college, without forced property or crypto sales in a bad market. <br> - This strategy is most consistent with the user’s risk profile, need for family security, basic expertise, and upcoming liquidity requirements. |\n",
       "| **Final Decision:** Approve a diversified investment plan, with the majority in stable rental property plus liquidity reserve, and only a minor speculative exposure to Bitcoin if desired. |"
      ]
     },
     "metadata": {},
     "output_type": "display_data"
    }
   ],
   "source": [
    "// Import the new Magentic orchestration package and Semantic Kernel InProcessRuntime\n",
    "#r \"nuget: Microsoft.SemanticKernel.Agents.Magentic, 1.60.0-preview\" \n",
    "#r \"nuget: Microsoft.SemanticKernel.Agents.Orchestration, 1.60.0-preview\" \n",
    "#r \"nuget: Microsoft.SemanticKernel.Agents.Runtime.InProcess, 1.60.0-preview\" \n",
    "\n",
    "using Microsoft.SemanticKernel.Agents;\n",
    "using Microsoft.SemanticKernel.Agents.Magentic;\n",
    "using Microsoft.SemanticKernel.Agents.Orchestration;\n",
    "using Microsoft.SemanticKernel.Agents.Runtime.InProcess;\n",
    "\n",
    "// Create a Devil's advocate agent that rigorously tests and challenges recommendations\n",
    "var assistantDevilsAdvocate = new ChatCompletionAgent\n",
    "{\n",
    "    Kernel = semanticKernel,\n",
    "    Name = \"DevilsAdvocate\",\n",
    "    Description = \"A decision intelligence agent that acts as a devil's advocate, rigorously testing and challenging recommendations.\",\n",
    "    Instructions = @\"\n",
    "You are a devil's advocate decision intelligence strategist. \n",
    "Your job is to critically evaluate any proposed recommendations or decisions by:\n",
    "  1. Identifying hidden assumptions and blind spots  \n",
    "  2. Raising potential risks, unintended consequences, and edge cases  \n",
    "  3. Questioning feasibility, resource constraints, and stakeholder buy-in  \n",
    "  4. Suggesting alternative viewpoints or counter-arguments  \n",
    "  5. Prompting further data, evidence, or analysis where needed  \n",
    "Respond in a structured way: state each challenge clearly, explain why it matters, \n",
    "and recommend how to address or investigate it further.\"\n",
    "};\n",
    "\n",
    "\n",
    "#pragma warning disable SKEXP0110\n",
    "#pragma warning disable SKEXP0001\n",
    "var magenticManager = new StandardMagenticManager(\n",
    "    semanticKernel.GetRequiredService<IChatCompletionService>(),\n",
    "    new OpenAIPromptExecutionSettings())\n",
    "{\n",
    "    MaximumInvocationCount = 5, // Maximum number of invocations per orchestration\n",
    "};\n",
    "\n",
    "\n",
    "// Initalize the ChatHistory to store the messages exchanged during the orchestration\n",
    "ChatHistory history = [];\n",
    "\n",
    "// Define a response callback to handle the responses from the orchestration\n",
    "// All the agent messages will be added in the history\n",
    "ValueTask responseCallback(ChatMessageContent response)\n",
    "{\n",
    "    history.Add(response);\n",
    "    return ValueTask.CompletedTask;\n",
    "}\n",
    "\n",
    "// Create the MagenticOrchestration with the agents and the response callback\n",
    "MagenticOrchestration orchestration = new MagenticOrchestration(\n",
    "    magenticManager,\n",
    "    assistantDevilsAdvocate,\n",
    "    assistantDwightEisenhower,\n",
    "    assistantBenFranklin,\n",
    "    assistantDecisionMaker)\n",
    "{\n",
    "    ResponseCallback = responseCallback,\n",
    "};\n",
    "\n",
    "// Create an Semantic Kernel InProcessRuntime to run the orchestration\n",
    "InProcessRuntime runtime = new InProcessRuntime();\n",
    "await runtime.StartAsync();\n",
    "\n",
    "string decisionToProcess = \"\"\"\n",
    "### Decision To Process:  \n",
    "I am thinking of buying a rental property versus investing in Bitcoin. \n",
    "What things should I consider in making this decision?\n",
    "### Decision Constraints:  \n",
    "1) You want to optimize for long-term financial growth, but also mitigate risk. \n",
    "2) You have a budget of $500,000 cash for the investment. \n",
    "3) You are the in early 40s and the breadwinner of your family and need to ensure financial stability.\n",
    "4) You don't have much debt, but have kids going to college in the next 5 years.\n",
    "5) You are not an expert in real estate or cryptocurrency, but have a basic understanding of both.\n",
    "\n",
    "Output Format Instructions: \n",
    "When generating Markdown, do not use any headings higher than ###. \n",
    "Avoid # and ## headers. Use only ###, ####, or lower-level headings if necessary. \n",
    "All top-level section headers should start at ### or lower. \n",
    "Never use ---, ***, or ___ for horizontal lines. There should be no horizontal lines in the output.\n",
    "For separation, use extra extra spacing. Do not any render horizontal lines.\n",
    "Format the response using only a Markdown table. Only return a Markdown table. \n",
    "Do not enclose the table in triple backticks.\n",
    "\"\"\";\n",
    "decisionToProcess.DisplayAs(\"text/markdown\");\n",
    "Console.WriteLine(\"----------------------------------------------------------\");\n",
    "Console.WriteLine(\"----------------------------------------------------------\");\n",
    "\"### FINAL RECOMMENDATION\".DisplayAs(\"text/markdown\");\n",
    "\n",
    "// Invoke the orchestration with the decision to process\n",
    "var orchestrationResult = await orchestration.InvokeAsync(decisionToProcess, runtime);\n",
    "// Display the decision recommendation from the orchestration result with a timeout of 300 seconds\n",
    "string decisionRecommendation = await orchestrationResult.GetValueAsync(TimeSpan.FromSeconds(300));\n",
    "decisionRecommendation.DisplayAs(\"text/markdown\");\n",
    "\n",
    "Console.WriteLine(\"----------------------------------------------------------\");\n",
    "Console.WriteLine(\"----------------------------------------------------------\");\n",
    "\"### ORCHESTRATION HISTORY\".DisplayAs(\"text/markdown\");\n",
    "\n",
    "// Show the history of messages exchanged during the orchestration\n",
    "foreach (ChatMessageContent message in history)\n",
    "{\n",
    "    var messageString = $\"\"\"\n",
    "    ### {message.Role} - {message.AuthorName}: \n",
    "    {message.Content}\n",
    "    \"\"\";\n",
    "    messageString.DisplayAs(\"text/markdown\");\n",
    "}\n",
    "\n",
    "// Wait for the runtime to complete all tasks\n",
    "// Dispose the runtime to clean up resources\n",
    "await runtime.RunUntilIdleAsync();\n",
    "await runtime.DisposeAsync()"
   ]
  }
 ],
 "metadata": {
  "kernelspec": {
   "display_name": ".NET (C#)",
   "language": "C#",
   "name": ".net-csharp"
  },
  "language_info": {
   "name": "polyglot-notebook"
  },
  "polyglot_notebook": {
   "kernelInfo": {
    "defaultKernelName": "csharp",
    "items": [
     {
      "aliases": [],
      "name": "csharp"
     }
    ]
   }
  }
 },
 "nbformat": 4,
 "nbformat_minor": 2
}
