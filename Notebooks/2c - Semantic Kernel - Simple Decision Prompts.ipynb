{
 "cells": [
  {
   "cell_type": "markdown",
   "metadata": {},
   "source": [
    "<img style=\"float: left;padding-right: 10px\" width =\"40px\" src=\"https://raw.githubusercontent.com/bartczernicki/DecisionIntelligence.GenAI.Workshop/main/Images/SemanticKernelLogo.png\">\n",
    "\n",
    "## Semantic Kernel - Simple Decision Prompts"
   ]
  },
  {
   "cell_type": "markdown",
   "metadata": {},
   "source": [
    "Decision Intelligence applied in this module:  \n",
    "* Listing of various decision-making frameworks and with their descriptions by using GenAI prompt engineering   \n",
    "\n",
    "Prompts are the fundemental building block to getting the proper responses from AI models. This module demonstrates how to use common prompt engineering techniques while using Semantic Kernel. If you've ever used ChatGPT or Microsoft Copilot, you're already familiar with prompting. Given a prompt instruction, an LLM will attempt to predict the most likely response. With Semantic Kernel, you can craft applications, services & APIs that execute prompts.  \n",
    "\n",
    "For more information on using prompts with Semantic Kernel, visit: https://learn.microsoft.com/en-us/semantic-kernel/prompts/your-first-prompt  \n",
    "\n",
    "The process of carefully crafting questions or instructions for AI is called **Prompt Engineering**. Prompt Engineering involves designing and refining input prompts—text or questions—so that the AI produces responses that are more relevant, useful, or accurate. The goal of prompt engineering is to \"tune\" the prompt in a way that maximizes the quality and clarity of the AI's response, often using specific wording, context, or examples within the prompt itself.\n",
    "\n",
    "Decision Intelligence and Prompt Engineering techniques can be combined to created \"Generative AI Decision Intellignce\"! This can leverage GenAI models to reason over complex tasks, gather intelligence for decisions, recommend decisions, communicate decisions etc. "
   ]
  },
  {
   "cell_type": "markdown",
   "metadata": {},
   "source": [
    "### Step 1 - Initialize Configuration Builder & Build the Semantic Kernel Orchestration "
   ]
  },
  {
   "cell_type": "markdown",
   "metadata": {},
   "source": [
    "Execute the next two cells to:\n",
    "* Use the Configuration Builder to load the API secrets.  \n",
    "* Use the API configuration to build the Semantic Kernel orchestrator."
   ]
  },
  {
   "cell_type": "code",
   "execution_count": 1,
   "metadata": {
    "dotnet_interactive": {
     "language": "csharp"
    },
    "polyglot_notebook": {
     "kernelName": "csharp"
    },
    "vscode": {
     "languageId": "polyglot-notebook"
    }
   },
   "outputs": [
    {
     "data": {
      "text/html": [
       "<div><div></div><div></div><div><strong>Installed Packages</strong><ul><li><span>Microsoft.Extensions.Configuration, 8.0.0</span></li><li><span>Microsoft.Extensions.Configuration.Json, 8.0.0</span></li></ul></div></div>"
      ]
     },
     "metadata": {},
     "output_type": "display_data"
    }
   ],
   "source": [
    "// Import the required NuGet configuration packages\n",
    "#r \"nuget: Microsoft.Extensions.Configuration, 8.0.0\"\n",
    "#r \"nuget: Microsoft.Extensions.Configuration.Json, 8.0.0\"\n",
    "\n",
    "using Microsoft.Extensions.Configuration;\n",
    "using System.IO;\n",
    "\n",
    "// Load the configuration settings from the local.settings.json and secrets.settings.json files\n",
    "// The secrets.settings.json file is used to store sensitive information such as API keys\n",
    "var configurationBuilder = new ConfigurationBuilder()\n",
    "    .SetBasePath(Directory.GetCurrentDirectory())\n",
    "    .AddJsonFile(\"local.settings.json\", optional: true, reloadOnChange: true)\n",
    "    .AddJsonFile(\"secrets.settings.json\", optional: true, reloadOnChange: true);\n",
    "var config = configurationBuilder.Build();\n",
    "\n",
    "// IMPORTANT: You ONLY NEED either Azure OpenAI or OpenAI connectiopn info, not both.\n",
    "// Azure OpenAI Connection Info\n",
    "var azureOpenAIEndpoint = config[\"AzureOpenAI:Endpoint\"];\n",
    "var azureOpenAIAPIKey = config[\"AzureOpenAI:APIKey\"];\n",
    "var azureOpenAIModelDeploymentName = config[\"AzureOpenAI:ModelDeploymentName\"];\n",
    "// OpenAI Connection Info \n",
    "var openAIAPIKey = config[\"OpenAI:APIKey\"];\n",
    "var openAIModelId = config[\"OpenAI:ModelId\"];"
   ]
  },
  {
   "cell_type": "code",
   "execution_count": 2,
   "metadata": {
    "dotnet_interactive": {
     "language": "csharp"
    },
    "polyglot_notebook": {
     "kernelName": "csharp"
    },
    "vscode": {
     "languageId": "polyglot-notebook"
    }
   },
   "outputs": [
    {
     "data": {
      "text/html": [
       "<div><div></div><div></div><div><strong>Installed Packages</strong><ul><li><span>Microsoft.SemanticKernel, 1.22.0</span></li></ul></div></div>"
      ]
     },
     "metadata": {},
     "output_type": "display_data"
    },
    {
     "name": "stdout",
     "output_type": "stream",
     "text": [
      "Using Azure OpenAI Service\n"
     ]
    }
   ],
   "source": [
    "// Import the Semantic Kernel NuGet package\n",
    "#r \"nuget: Microsoft.SemanticKernel, 1.22.0\"\n",
    "\n",
    "using Microsoft.SemanticKernel;\n",
    "using Microsoft.SemanticKernel.ChatCompletion;\n",
    "using Microsoft.SemanticKernel.Connectors.OpenAI;\n",
    "\n",
    "Kernel semanticKernel;\n",
    "\n",
    "// Set the flag to use Azure OpenAI or OpenAI. False to use OpenAI, True to use Azure OpenAI\n",
    "var useAzureOpenAI = true;\n",
    "\n",
    "// Create a new Semantic Kernel instance\n",
    "if (useAzureOpenAI)\n",
    "{\n",
    "    Console.WriteLine(\"Using Azure OpenAI Service\");\n",
    "    semanticKernel = Kernel.CreateBuilder()\n",
    "        .AddAzureOpenAIChatCompletion(\n",
    "            deploymentName: azureOpenAIModelDeploymentName,\n",
    "            endpoint: azureOpenAIEndpoint,\n",
    "            apiKey: azureOpenAIAPIKey)\n",
    "        .Build();\n",
    "}\n",
    "else\n",
    "{\n",
    "    Console.WriteLine(\"Using OpenAI Service\");\n",
    "    semanticKernel = Kernel.CreateBuilder()\n",
    "        .AddOpenAIChatCompletion(\n",
    "            modelId: openAIModelId,\n",
    "            apiKey: openAIAPIKey)\n",
    "        .Build();\n",
    "}"
   ]
  },
  {
   "cell_type": "markdown",
   "metadata": {},
   "source": [
    "### Step 2 - Execute a Decision Intelligence Prompt "
   ]
  },
  {
   "cell_type": "markdown",
   "metadata": {},
   "source": [
    "Many LLMs and even SLMs have been trained on knowledge that includes decision frameworks & processes. This makes LLMs great assistants to:\n",
    "* Provide proper Decision Frames\n",
    "* Gather the Information & Intelligence in order to make a decision\n",
    "* Recommend Decision Frameworks to make a high-quality decision\n",
    "* Provide feedback to evaluate a Decision\n",
    "\n",
    "Once the Semantic Kernel instance is built, it is ready to intake prompt instructions. In the prompt below, the Semantic Kernel is instructed to provide examples of decision frameworks. "
   ]
  },
  {
   "cell_type": "code",
   "execution_count": 3,
   "metadata": {
    "dotnet_interactive": {
     "language": "csharp"
    },
    "polyglot_notebook": {
     "kernelName": "csharp"
    },
    "vscode": {
     "languageId": "polyglot-notebook"
    }
   },
   "outputs": [
    {
     "name": "stdout",
     "output_type": "stream",
     "text": [
      "Certainly! There are several decision-making frameworks that can enhance the quality of decisions by providing structured approaches to analyze and reason through different scenarios. Here are a few notable ones:\n",
      "\n",
      "### 1. **SWOT Analysis**\n",
      "- **Description**: SWOT stands for Strengths, Weaknesses, Opportunities, and Threats. This framework helps in identifying and analyzing the internal and external factors that can impact a decision.\n",
      "- **Support for Better Analysis**: By categorizing these factors, SWOT helps decision-makers understand the situation thoroughly, recognize potential risks and opportunities, and leverage strengths while mitigating weaknesses.\n",
      "\n",
      "### 2. **Cost-Benefit Analysis (CBA)**\n",
      "- **Description**: CBA involves comparing the total expected costs versus the benefits of one or more actions to determine the best or most profitable option.\n",
      "- **Support for Better Analysis**: This helps ensure that resources are used efficiently and the option with the greatest net benefits is chosen, making it ideal for financial and resource allocation decisions.\n",
      "\n",
      "### 3. **Decision Matrix (or Pugh Matrix)**\n",
      "- **Description**: A decision matrix evaluates and prioritizes a list of options based on a set of weighted criteria.\n",
      "- **Support for Better Analysis**: By objectively scoring each option against standardized criteria, the decision matrix reduces bias and supports more balanced and structured decision-making, particularly useful in selecting between multiple viable options.\n",
      "\n",
      "### 4. **Six Thinking Hats**\n",
      "- **Description**: This approach encourages the exploration of different perspectives by adopting six metaphorical hats, each representing a different mode of thinking (e.g., logical, emotional, optimistic).\n",
      "- **Support for Better Analysis**: By considering a decision from multiple viewpoints, it ensures a comprehensive examination of the problem, encourages creative solutions, and reduces the impact of cognitive biases.\n",
      "\n",
      "### 5. **Pros and Cons List**\n",
      "- **Description**: This simple framework involves listing the advantages and disadvantages of each option.\n",
      "- **Support for Better Analysis**: This method provides a clear visual comparison that can highlight the most impactful factors influencing the decision, suitable for quick, initial assessments.\n",
      "\n",
      "### 6. **Pareto Analysis (80/20 Rule)**\n",
      "- **Description**: This technique focuses on identifying the small number of causes that typically lead to the majority of effects or outcomes.\n",
      "- **Support for Better Analysis**: By prioritizing the most significant factors, Pareto Analysis helps focus efforts on areas that will yield the most substantial improvements or benefits, especially useful for problem-solving and optimizing processes.\n",
      "\n",
      "### 7. **Mind Mapping**\n",
      "- **Description**: A visual tool that organizes information around a central concept, capturing thoughts, facts, and ideas in a non-linear way.\n",
      "- **Support for Better Analysis**: Enhances brainstorming and problem-solving by visually mapping out complex relationships and encouraging creative thinking, ensuring all relevant aspects are considered.\n",
      "\n",
      "### 8. **PDCA Cycle (Plan-Do-Check-Act)**\n",
      "- **Description**: A four-step iterative process used for continuous improvement and solving problems.\n",
      "- **Support for Better Analysis**: By iterating through planning, implementing, checking results, and adjusting actions, PDCA enables incremental improvement and informed decision-making through constant feedback, particularly effective in operational and quality management contexts.\n",
      "\n",
      "### 9. **Rational Decision-Making Model**\n",
      "- **Description**: A structured, linear approach that involves defining a problem, identifying decision criteria, weighing those criteria, generating and evaluating alternatives, and choosing the best alternative.\n",
      "- **Support for Better Analysis**: It ensures a logical and thorough process, minimizing biases and leading to well-reasoned decisions suitable for complex and high-stakes choices.\n",
      "\n",
      "### 10. **OODA Loop (Observe-Orient-Decide-Act)**\n",
      "- **Description**: A cycle used in military strategy which involves observing the current situation, orienting by analyzing this information, deciding on a course of action, and acting on those decisions.\n",
      "- **Support for Better Analysis**: This dynamic, iterative cycle helps make quick, informed decisions in rapidly changing environments, useful in tactical and operational scenarios.\n",
      "\n",
      "### 11. **Delphi Method**\n",
      "- **Description**: A structured communication technique that uses a panel of experts who answer questionnaires in two or more rounds, with a facilitator providing a summary of the forecasts after each round.\n",
      "- **Support for Better Analysis**: It ensures that decisions are informed by expert consensus, tapping into collective intelligence and reducing bias, useful for long-term forecasting and strategic planning.\n",
      "\n",
      "Each of these frameworks can be selected and adapted based on the specific context and needs of the decision-making scenario, enhancing both the quality and confidence in the decisions made.\n"
     ]
    }
   ],
   "source": [
    "// New prompt to help with decision-making frameworks\n",
    "var simpleDecisionPrompt = \"\"\"\n",
    "Identify and list various decision-making frameworks that can enhance the quality of decisions. \n",
    "Briefly describe how each framework supports better analysis and reasoning in different decision-making scenarios.\n",
    "\"\"\";\n",
    "\n",
    "var simplePromptResponse = await semanticKernel.InvokePromptAsync(simpleDecisionPrompt);\n",
    "Console.WriteLine(simplePromptResponse.GetValue<string>());"
   ]
  },
  {
   "cell_type": "markdown",
   "metadata": {},
   "source": []
  },
  {
   "cell_type": "markdown",
   "metadata": {},
   "source": [
    "### Step 3 - Execute a Decision Intelligence Prompt with Streaming"
   ]
  },
  {
   "cell_type": "markdown",
   "metadata": {},
   "source": [
    "Semantic Kernel supports prompt response streaming when invoking the prompt. This allows responses to be streamed to the client as soon as they are made available by the LLM and service. Below the same decision prompt is executed. However, notice that chunks are streamed and can be read by the user as soon as they appear. "
   ]
  },
  {
   "cell_type": "code",
   "execution_count": 5,
   "metadata": {
    "dotnet_interactive": {
     "language": "csharp"
    },
    "polyglot_notebook": {
     "kernelName": "csharp"
    },
    "vscode": {
     "languageId": "polyglot-notebook"
    }
   },
   "outputs": [
    {
     "name": "stdout",
     "output_type": "stream",
     "text": [
      "Certainly! Here are several decision-making frameworks along with brief descriptions of how each supports better analysis and reasoning:\n",
      "\n",
      "1. **SWOT Analysis (Strengths, Weaknesses, Opportunities, Threats)**\n",
      "   - **Description**: SWOT Analysis helps assess internal and external factors that can impact a decision.\n",
      "   - **Support**: It provides a comprehensive view of a situation by identifying strengths and weaknesses within an organization and opportunities and threats in the external environment. This can help formulate strategic decisions that leverage strengths and opportunities while mitigating weaknesses and threats.\n",
      "\n",
      "2. **Pareto Analysis (80/20 Rule)**\n",
      "   - **Description**: Pareto Analysis helps prioritize potential causes of problems to focus efforts where they will have the greatest impact.\n",
      "   - **Support**: By identifying the 20% of causes that are responsible for 80% of the problems or benefits, decision-makers can effectively allocate resources and efforts to the areas that will yield the most significant improvements.\n",
      "\n",
      "3. **Cost-Benefit Analysis (CBA)**\n",
      "   - **Description**: CBA involves comparing the costs and benefits of different courses of action.\n",
      "   - **Support**: It quantifies the financial ramifications of decisions, allowing decision-makers to choose options that provide the greatest net benefit. This framework is particularly useful for financial and economic decision-making.\n",
      "\n",
      "4. **Decision Matrix Analysis**\n",
      "   - **Description**: This technique uses a grid to evaluate and prioritize a list of options against a set of specific criteria.\n",
      "   - **Support**: By scoring and weighting different criteria, decision-makers can objectively compare options and choose the one that best meets the desired outcomes. This is useful for complex decisions requiring the consideration of multiple factors.\n",
      "\n",
      "5. **Six Thinking Hats**\n",
      "   - **Description**: Developed by Edward de Bono, this technique uses six different perspectives (hats) to explore a decision from multiple angles.\n",
      "   - **Support**: By systematically considering emotional, informational, logical, creative, and negative perspectives, this framework broadens the analysis and encourages comprehensive, balanced decision-making.\n",
      "\n",
      "6. **PDCA Cycle (Plan-Do-Check-Act)**\n",
      "   - **Description**: The PDCA Cycle is a continuous loop of planning, implementing, checking results, and acting on those results.\n",
      "   - **Support**: By fostering an iterative approach, this framework helps continuously improve processes and decisions over time. It promotes learning and adaptation, which is vital for quality control and project management decisions.\n",
      "\n",
      "7. **Root Cause Analysis (RCA)**\n",
      "   - **Description**: RCA is used to identify the underlying reasons for a problem.\n",
      "   - **Support**: By focusing on the root causes rather than symptoms, this framework aids in developing long-term solutions and preventing recurring issues, which is essential for operational and technical decision-making.\n",
      "\n",
      "8. **Pros-Cons-Fix (PCF)**\n",
      "   - **Description**: This involves listing the pros and cons of different options and then thinking about ways to fix the cons.\n",
      "   - **Support**: By explicitly addressing the negatives alongside the positives and seeking solutions to the negatives, decision-makers can refine their choices and enhance their feasibility and appeal.\n",
      "\n",
      "9. **OODA Loop (Observe-Orient-Decide-Act)**\n",
      "   - **Description**: Developed by military strategist John Boyd, this framework emphasizes a cyclical process of observing, orienting, deciding, and acting.\n",
      "   - **Support**: This approach helps in adaptive and agile decision-making, especially in dynamic and competitive environments. It emphasizes fast, informed, and flexible responses.\n",
      "\n",
      "10. **Nudge Theory**\n",
      "    - **Description**: Nudge Theory involves designing choices in a way that subtly guides people towards beneficial behaviors without restricting their freedom of choice.\n",
      "    - **Support**: By understanding human psychology and how people typically make decisions, this framework helps design processes and environments that encourage better choices, often used in policy-making and behavioral economics.\n",
      "\n",
      "By applying these frameworks appropriately according to the context of the decision, individuals and organizations can significantly enhance the quality and effectiveness of their decision-making processes."
     ]
    }
   ],
   "source": [
    "await foreach (var streamChunk in semanticKernel.InvokePromptStreamingAsync(simpleDecisionPrompt))\n",
    "{\n",
    "   Console.Write(streamChunk);\n",
    "}"
   ]
  },
  {
   "cell_type": "markdown",
   "metadata": {},
   "source": [
    "### Step 4 - Execute a Decision Intelligence Prompt with a Custom Execution Configuration"
   ]
  },
  {
   "cell_type": "markdown",
   "metadata": {},
   "source": [
    "Semantic Kernel supports the configuration of prompt execution. The typical OpenAI and Azure OpenAI settings are exposed as configuration options that provide a different prompt experience. Try changing the MaxTokens, Tempature or other settings."
   ]
  },
  {
   "cell_type": "code",
   "execution_count": 8,
   "metadata": {
    "dotnet_interactive": {
     "language": "csharp"
    },
    "polyglot_notebook": {
     "kernelName": "csharp"
    },
    "vscode": {
     "languageId": "polyglot-notebook"
    }
   },
   "outputs": [
    {
     "name": "stdout",
     "output_type": "stream",
     "text": [
      "Certainly! Here are several decision-making frameworks that can enhance the quality of decisions, along with brief descriptions of how each framework supports better analysis and reasoning:\n",
      "\n",
      "1. **SWOT Analysis (Strengths, Weaknesses, Opportunities, Threats)**\n",
      "   - **Description:** SWOT analysis helps in identifying internal and external factors that are favorable and unfavorable to achieving an objective.\n",
      "   - **Support:** It provides a structured approach to evaluate the current situation and future potential, helping decision-makers to leverage strengths, address weaknesses, capitalize on opportunities, and mitigate threats.\n",
      "\n",
      "2. **PEST Analysis (Political, Economic, Social, Technological)**\n",
      "   - **Description:** PEST analysis examines the external macro-environmental factors that can impact an organization.\n",
      "   - **Support:** By understanding these external factors, decision-makers can anticipate changes in the environment and adapt their strategies accordingly, ensuring they are proactive rather than reactive.\n",
      "\n",
      "3. **Decision Matrix (Weighted Scoring Model)**\n",
      "   - **Description:** A decision matrix evaluates and prioritizes a list of options based on a set of predefined criteria.\n",
      "   - **Support:** It quantifies the decision-making process, allowing for a more objective comparison of options by assigning weights to different criteria based on their importance.\n",
      "\n",
      "4. **Cost-Benefit Analysis (CBA)**\n",
      "   - **Description:** CBA involves comparing the costs and benefits of a decision or project to determine its feasibility or to choose the best option.\n",
      "   - **Support:** It provides a clear financial perspective, helping decision-makers to understand the economic implications and ensuring that the benefits outweigh the costs.\n",
      "\n",
      "5. **Six Thinking Hats**\n",
      "   - **Description:** This method involves looking at a decision from six different perspectives (logical, emotional, optimistic, pessimistic, creative, and control).\n",
      "   - **Support:** It encourages comprehensive thinking by considering multiple viewpoints, which can lead to more balanced and well-rounded decisions.\n",
      "\n",
      "6. **Pareto Analysis (80/20 Rule)**\n",
      "   - **Description:** Pareto Analysis identifies the most important factors that contribute to an outcome, based on the principle that 80% of effects come from 20% of causes.\n",
      "   - **Support:** It helps prioritize actions by focusing on the most significant factors, ensuring that resources are allocated efficiently to achieve the greatest impact.\n",
      "\n",
      "7. **Root Cause Analysis (RCA)**\n",
      "   - **Description:** RCA is used to identify the underlying causes of a problem rather than just addressing its symptoms.\n",
      "   - **Support:** By understanding the root causes, decision-makers can implement solutions that prevent recurrence, leading to more sustainable and effective outcomes.\n",
      "\n",
      "8. **Pros and Cons List**\n",
      "   - **Description:** This simple method involves listing the positive and negative aspects of each option.\n",
      "   - **Support:** It provides a clear visual comparison, helping to weigh the advantages and disadvantages, which can clarify the decision-making process.\n",
      "\n",
      "9. **OODA Loop (Observe, Orient, Decide, Act)**\n",
      "   - **Description:** The OODA Loop is a cyclical process used for rapid decision-making in dynamic and competitive environments.\n",
      "   - **Support:** It emphasizes agility and adaptability, enabling decision-makers to quickly respond to changes and stay ahead of competitors.\n",
      "\n",
      "10. **Delphi Method**\n",
      "    - **Description:** The Delphi Method involves gathering input from a panel of experts through multiple rounds of questionnaires, with the aim of reaching a consensus.\n",
      "    - **Support:** It leverages collective intelligence and expert opinions, which can lead to more informed and reliable decisions, especially in complex or uncertain scenarios.\n",
      "\n",
      "11. **Scenario Planning**\n",
      "    - **Description:** Scenario planning involves creating detailed and plausible scenarios of the future to explore the potential impact of different decisions.\n",
      "    - **Support:** It helps decision-makers to anticipate and prepare for various possible futures, enhancing strategic planning and risk management.\n",
      "\n",
      "12. **Risk Analysis**\n",
      "    - **Description:** Risk analysis assesses the potential risks associated with a decision, including their likelihood and impact.\n",
      "    - **Support:** It enables decision-makers to identify, evaluate, and mitigate risks, ensuring that decisions are made with a clear understanding of potential downsides.\n",
      "\n",
      "By applying these frameworks, decision-makers can enhance their analysis and reasoning, leading to more effective and informed decisions across various scenarios."
     ]
    }
   ],
   "source": [
    "// Create a new OpenAI prompt execution settings object\n",
    "var openAIPromptExecutionSettings = new OpenAIPromptExecutionSettings { \n",
    "    MaxTokens = 1000, \n",
    "    Temperature = 0.3, \n",
    "    TopP = 1.0, \n",
    "    FrequencyPenalty = 0.0, \n",
    "    PresencePenalty = 0.0\n",
    "    };\n",
    "\n",
    "KernelArguments kernelArguments = new KernelArguments(openAIPromptExecutionSettings);\n",
    "await foreach (var streamChunk in semanticKernel.InvokePromptStreamingAsync(simpleDecisionPrompt, kernelArguments))\n",
    "{\n",
    "   Console.Write(streamChunk);\n",
    "}"
   ]
  },
  {
   "cell_type": "markdown",
   "metadata": {},
   "source": []
  },
  {
   "cell_type": "markdown",
   "metadata": {},
   "source": [
    "### Step 5 - Execute a Decision Instelligence Prompt with a System Prompt (Custom AI Persona)"
   ]
  },
  {
   "cell_type": "markdown",
   "metadata": {},
   "source": [
    "All the typical best practices of prompt engineering apply when using Semantic Kernel.  \n",
    "* Make the prompt more specific\n",
    "* Add structure to the output with formatting\n",
    "* Provide examples with few-shot prompting\n",
    "* Instruct the AI what to do to avoid doing something wrong\n",
    "* Provide context (additional information) to the AI\n",
    "* Using Roles in chat completion prompts\n",
    "* Give your AI words of encouragement  \n",
    "\n",
    "One best practice is to provide a common behaviour across all the LLM interactions in a system prompt. This system prompt is passed in on every single call the LLM with Semantic Kernel. These prompts can be dynamically created with a programming language like C# or Python.  \n",
    "\n",
    "Execute the cell below with a dynamic prompt template. Notice the different behavior of the output for decision frameworks. The decision framework responses are much more robust with decision intelligence information."
   ]
  },
  {
   "cell_type": "code",
   "execution_count": 11,
   "metadata": {
    "dotnet_interactive": {
     "language": "csharp"
    },
    "polyglot_notebook": {
     "kernelName": "csharp"
    },
    "vscode": {
     "languageId": "polyglot-notebook"
    }
   },
   "outputs": [
    {
     "name": "stdout",
     "output_type": "stream",
     "text": [
      "Prompt To Send to the Azure OpenAI Chat Completion Service...\n",
      "System Prompt: You are a Decision Intelligence Assistant. \n",
      "Assist the user in exploring options, reasoning through decisions, problem-solving.\n",
      "Apply systems thinking to various scenarios. \n",
      "Provide structured, logical, and comprehensive advice.\n",
      "\n",
      "Request from the user: Provide some decision frameworks that can help improve the quality of decisions.\n",
      "\n",
      "----------------------------------------\n",
      "\n",
      "Response from the Azure OpenAI Chat Completion Service...\n",
      "Certainly! Decision frameworks are structured approaches that can help improve the quality of decisions by providing a systematic way to evaluate options and outcomes. Here are some widely-used decision frameworks:\n",
      "\n",
      "### 1. **SWOT Analysis**\n",
      "**Strengths, Weaknesses, Opportunities, Threats**\n",
      "- **Purpose:** To evaluate internal and external factors that can impact a decision.\n",
      "- **Steps:**\n",
      "  1. Identify internal strengths and weaknesses.\n",
      "  2. Identify external opportunities and threats.\n",
      "  3. Analyze how to leverage strengths and opportunities while mitigating weaknesses and threats.\n",
      "\n",
      "### 2. **Decision Matrix (Weighted Scoring Model)**\n",
      "- **Purpose:** To quantitatively compare different options based on multiple criteria.\n",
      "- **Steps:**\n",
      "  1. List all options and criteria.\n",
      "  2. Assign a weight to each criterion based on its importance.\n",
      "  3. Score each option against each criterion.\n",
      "  4. Multiply scores by weights and sum them to get a total score for each option.\n",
      "  5. Choose the option with the highest score.\n",
      "\n",
      "### 3. **Cost-Benefit Analysis (CBA)**\n",
      "- **Purpose:** To evaluate the financial implications of different options.\n",
      "- **Steps:**\n",
      "  1. Identify all costs and benefits associated with each option.\n",
      "  2. Quantify costs and benefits in monetary terms.\n",
      "  3. Compare the total costs and benefits to determine the net benefit.\n",
      "  4. Choose the option with the highest net benefit.\n",
      "\n",
      "### 4. **Pareto Analysis (80/20 Rule)**\n",
      "- **Purpose:** To identify the most significant factors in a decision.\n",
      "- **Steps:**\n",
      "  1. List all factors contributing to the problem or decision.\n",
      "  2. Score each factor based on its impact.\n",
      "  3. Focus on the top 20% of factors that contribute to 80% of the impact.\n",
      "\n",
      "### 5. **Six Thinking Hats**\n",
      "- **Purpose:** To look at a decision from multiple perspectives.\n",
      "- **Steps:**\n",
      "  1. **White Hat:** Focus on data and facts.\n",
      "  2. **Red Hat:** Consider emotions and gut feelings.\n",
      "  3. **Black Hat:** Identify potential problems and risks.\n",
      "  4. **Yellow Hat:** Look at the benefits and positives.\n",
      "  5. **Green Hat:** Explore creative solutions and alternatives.\n",
      "  6. **Blue Hat:** Manage the decision-making process.\n",
      "\n",
      "### 6. **OODA Loop**\n",
      "**Observe, Orient, Decide, Act**\n",
      "- **Purpose:** To make quick, effective decisions in dynamic environments.\n",
      "- **Steps:**\n",
      "  1. **Observe:** Gather information.\n",
      "  2. **Orient:** Analyze information and develop a situational understanding.\n",
      "  3. **Decide:** Choose a course of action.\n",
      "  4. **Act:** Implement the decision.\n",
      "  5. Repeat the loop as necessary.\n",
      "\n",
      "### 7. **PDCA Cycle (Deming Cycle)**\n",
      "**Plan, Do, Check, Act**\n",
      "- **Purpose:** To implement continuous improvement.\n",
      "- **Steps:**\n",
      "  1. **Plan:** Identify the problem and develop a plan.\n",
      "  2. **Do:** Implement the plan on a small scale.\n",
      "  3. **Check:** Evaluate the results.\n",
      "  4. **Act:** Standardize the successful plan or iterate if necessary.\n",
      "\n",
      "### 8. **Pros and Cons List**\n",
      "- **Purpose:** To weigh the advantages and disadvantages of different options.\n",
      "- **Steps:**\n",
      "  1. List all options.\n",
      "  2. Write down the pros and cons for each option.\n",
      "  3. Compare the"
     ]
    }
   ],
   "source": [
    "// Create a system prompt instruction to override the default system prompt\n",
    "// Add the System Prompt (Persona) to behave like a decision intelligence assistant\n",
    "var systemPromptForDecisions = \"\"\"\n",
    "You are a Decision Intelligence Assistant. \n",
    "Assist the user in exploring options, reasoning through decisions, problem-solving.\n",
    "Apply systems thinking to various scenarios. \n",
    "Provide structured, logical, and comprehensive advice.\n",
    "\"\"\";\n",
    "var simpleDecisionPrompt = \"Provide some decision frameworks that can help improve the quality of decisions.\";\n",
    "\n",
    "// How the prompt looks like to the LLM\n",
    "var simpleDecisionPromptTemplate = $\"\"\"\n",
    "System Prompt: {systemPromptForDecisions}\n",
    "\n",
    "Request from the user: {simpleDecisionPrompt}\n",
    "\"\"\";\n",
    "\n",
    "// Create a new OpenAI prompt execution settings object\n",
    "var openAIPromptExecutionSettings = new OpenAIPromptExecutionSettings { \n",
    "    ChatSystemPrompt = systemPromptForDecisions,\n",
    "    MaxTokens = 750, \n",
    "    Temperature = 0.3, \n",
    "    TopP = 1.0, \n",
    "    FrequencyPenalty = 0.0, \n",
    "    PresencePenalty = 0.0\n",
    "    };\n",
    "KernelArguments kernelArguments = new KernelArguments(openAIPromptExecutionSettings);\n",
    "\n",
    "Console.WriteLine(\"Prompt To Send to the Azure OpenAI Chat Completion Service...\");\n",
    "Console.WriteLine(simpleDecisionPromptTemplate);\n",
    "Console.WriteLine(string.Empty);\n",
    "Console.WriteLine(\"----------------------------------------\");\n",
    "Console.WriteLine(string.Empty);\n",
    "Console.WriteLine(\"Response from the Azure OpenAI Chat Completion Service...\");\n",
    "\n",
    "\n",
    "await foreach (var streamChunk in semanticKernel.InvokePromptStreamingAsync(simpleDecisionPrompt, kernelArguments))\n",
    "{\n",
    "   Console.Write(streamChunk);\n",
    "}"
   ]
  }
 ],
 "metadata": {
  "kernelspec": {
   "display_name": ".NET (C#)",
   "language": "C#",
   "name": ".net-csharp"
  },
  "language_info": {
   "name": "csharp"
  },
  "polyglot_notebook": {
   "kernelInfo": {
    "defaultKernelName": "csharp",
    "items": [
     {
      "aliases": [],
      "name": "csharp"
     }
    ]
   }
  }
 },
 "nbformat": 4,
 "nbformat_minor": 2
}
