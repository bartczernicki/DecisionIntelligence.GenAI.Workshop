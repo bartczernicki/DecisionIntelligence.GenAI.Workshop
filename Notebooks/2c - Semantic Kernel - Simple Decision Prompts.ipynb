{
 "cells": [
  {
   "cell_type": "markdown",
   "metadata": {},
   "source": [
    "<img style=\"float: left;padding-right: 10px\" width =\"40px\" src=\"https://raw.githubusercontent.com/bartczernicki/DecisionIntelligence.GenAI.Workshop/main/Images/SemanticKernelLogo.png\">\n",
    "\n",
    "## Semantic Kernel - Simple Decision Prompts"
   ]
  },
  {
   "cell_type": "markdown",
   "metadata": {},
   "source": [
    "Decision Intelligence applied in this module:  \n",
    "* Listing of various decision-making frameworks and with their descriptions by using GenAI prompt engineering  \n",
    "* Creating custom AI personas with a system prompt instruction     \n",
    "\n",
    "Prompts are the fundemental building block to getting the proper responses from AI models. This module demonstrates how to use common prompt engineering techniques while using Semantic Kernel. If you've ever used ChatGPT or Microsoft Copilot, you're already familiar with prompting. Given a prompt instruction, an LLM will attempt to predict the most likely response. With Semantic Kernel, you can craft applications, services & APIs that execute prompts.  \n",
    "\n",
    "For more information on using prompts with Semantic Kernel, visit: https://learn.microsoft.com/en-us/semantic-kernel/prompts/your-first-prompt  \n",
    "\n",
    "The process of carefully crafting questions or instructions for AI is called **Prompt Engineering**. Prompt Engineering involves designing and refining input prompts—text or questions—so that the AI produces responses that are more relevant, useful, or accurate. The goal of prompt engineering is to \"tune\" the prompt in a way that maximizes the quality and clarity of the AI's response, often using specific wording, context, or examples within the prompt itself.\n",
    "\n",
    "Decision Intelligence and Prompt Engineering techniques can be combined to created \"Generative AI Decision Intellignce\"! This can leverage GenAI models to reason over complex tasks, gather intelligence for decisions, recommend decisions, communicate decisions etc. "
   ]
  },
  {
   "cell_type": "markdown",
   "metadata": {},
   "source": [
    "### Step 1 - Initialize Configuration Builder & Build the Semantic Kernel Orchestration "
   ]
  },
  {
   "cell_type": "markdown",
   "metadata": {},
   "source": [
    "Execute the next two cells to:\n",
    "* Use the Configuration Builder to load the API secrets.  \n",
    "* Use the API configuration to build the Semantic Kernel orchestrator."
   ]
  },
  {
   "cell_type": "code",
   "execution_count": 1,
   "metadata": {
    "dotnet_interactive": {
     "language": "csharp"
    },
    "polyglot_notebook": {
     "kernelName": "csharp"
    },
    "vscode": {
     "languageId": "polyglot-notebook"
    }
   },
   "outputs": [
    {
     "data": {
      "text/html": [
       "<div><div></div><div></div><div><strong>Installed Packages</strong><ul><li><span>Microsoft.Extensions.Configuration, 8.0.0</span></li><li><span>Microsoft.Extensions.Configuration.Json, 8.0.0</span></li></ul></div></div>"
      ]
     },
     "metadata": {},
     "output_type": "display_data"
    }
   ],
   "source": [
    "// Import the required NuGet configuration packages\n",
    "#r \"nuget: Microsoft.Extensions.Configuration, 8.0.0\"\n",
    "#r \"nuget: Microsoft.Extensions.Configuration.Json, 8.0.0\"\n",
    "\n",
    "using Microsoft.Extensions.Configuration;\n",
    "using System.IO;\n",
    "\n",
    "// Load the configuration settings from the local.settings.json and secrets.settings.json files\n",
    "// The secrets.settings.json file is used to store sensitive information such as API keys\n",
    "var configurationBuilder = new ConfigurationBuilder()\n",
    "    .SetBasePath(Directory.GetCurrentDirectory())\n",
    "    .AddJsonFile(\"local.settings.json\", optional: true, reloadOnChange: true)\n",
    "    .AddJsonFile(\"secrets.settings.json\", optional: true, reloadOnChange: true);\n",
    "var config = configurationBuilder.Build();\n",
    "\n",
    "// IMPORTANT: You ONLY NEED either Azure OpenAI or OpenAI connectiopn info, not both.\n",
    "// Azure OpenAI Connection Info\n",
    "var azureOpenAIEndpoint = config[\"AzureOpenAI:Endpoint\"];\n",
    "var azureOpenAIAPIKey = config[\"AzureOpenAI:APIKey\"];\n",
    "var azureOpenAIModelDeploymentName = config[\"AzureOpenAI:ModelDeploymentName\"];\n",
    "// OpenAI Connection Info \n",
    "var openAIAPIKey = config[\"OpenAI:APIKey\"];\n",
    "var openAIModelId = config[\"OpenAI:ModelId\"];"
   ]
  },
  {
   "cell_type": "code",
   "execution_count": 2,
   "metadata": {
    "dotnet_interactive": {
     "language": "csharp"
    },
    "polyglot_notebook": {
     "kernelName": "csharp"
    },
    "vscode": {
     "languageId": "polyglot-notebook"
    }
   },
   "outputs": [
    {
     "data": {
      "text/html": [
       "<div><div></div><div></div><div><strong>Installed Packages</strong><ul><li><span>Microsoft.SemanticKernel, 1.22.0</span></li></ul></div></div>"
      ]
     },
     "metadata": {},
     "output_type": "display_data"
    },
    {
     "name": "stdout",
     "output_type": "stream",
     "text": [
      "Using Azure OpenAI Service\n"
     ]
    }
   ],
   "source": [
    "// Import the Semantic Kernel NuGet package\n",
    "#r \"nuget: Microsoft.SemanticKernel, 1.22.0\"\n",
    "\n",
    "using Microsoft.SemanticKernel;\n",
    "using Microsoft.SemanticKernel.ChatCompletion;\n",
    "using Microsoft.SemanticKernel.Connectors.OpenAI;\n",
    "\n",
    "Kernel semanticKernel;\n",
    "\n",
    "// Set the flag to use Azure OpenAI or OpenAI. False to use OpenAI, True to use Azure OpenAI\n",
    "var useAzureOpenAI = true;\n",
    "\n",
    "// Create a new Semantic Kernel instance\n",
    "if (useAzureOpenAI)\n",
    "{\n",
    "    Console.WriteLine(\"Using Azure OpenAI Service\");\n",
    "    semanticKernel = Kernel.CreateBuilder()\n",
    "        .AddAzureOpenAIChatCompletion(\n",
    "            deploymentName: azureOpenAIModelDeploymentName,\n",
    "            endpoint: azureOpenAIEndpoint,\n",
    "            apiKey: azureOpenAIAPIKey)\n",
    "        .Build();\n",
    "}\n",
    "else\n",
    "{\n",
    "    Console.WriteLine(\"Using OpenAI Service\");\n",
    "    semanticKernel = Kernel.CreateBuilder()\n",
    "        .AddOpenAIChatCompletion(\n",
    "            modelId: openAIModelId,\n",
    "            apiKey: openAIAPIKey)\n",
    "        .Build();\n",
    "}"
   ]
  },
  {
   "cell_type": "markdown",
   "metadata": {},
   "source": [
    "### Step 2 - Execute a Decision Intelligence Prompt "
   ]
  },
  {
   "cell_type": "markdown",
   "metadata": {},
   "source": [
    "Many LLMs and even SLMs have been trained on knowledge that includes decision frameworks & processes. This makes LLMs great assistants to:\n",
    "* Provide proper Decision Frames\n",
    "* Gather the Information & Intelligence in order to make a decision\n",
    "* Recommend Decision Frameworks to make a high-quality decision\n",
    "* Provide feedback to evaluate a Decision\n",
    "\n",
    "Once the Semantic Kernel instance is built, it is ready to intake prompt instructions. In the prompt below, the Semantic Kernel is instructed to provide examples of decision frameworks. "
   ]
  },
  {
   "cell_type": "code",
   "execution_count": 3,
   "metadata": {
    "dotnet_interactive": {
     "language": "csharp"
    },
    "polyglot_notebook": {
     "kernelName": "csharp"
    },
    "vscode": {
     "languageId": "polyglot-notebook"
    }
   },
   "outputs": [
    {
     "name": "stdout",
     "output_type": "stream",
     "text": [
      "Certainly! Here are several decision-making frameworks that can enhance decision quality, along with brief descriptions of how each supports better analysis and reasoning:\n",
      "\n",
      "1. **SWOT Analysis (Strengths, Weaknesses, Opportunities, Threats):**\n",
      "   - **Description:** This framework helps identify internal strengths and weaknesses, as well as external opportunities and threats.\n",
      "   - **Application:** It is ideal for strategic planning and situational analysis. It helps in understanding your organization's internal capabilities and external environment, guiding you to exploit opportunities and mitigate threats.\n",
      "\n",
      "2. **The Decision Matrix (Weighted Scoring Model):**\n",
      "   - **Description:** This involves listing and weighting the criteria important to the decision, scoring each option against these criteria, and summing the weighted scores.\n",
      "   - **Application:** Useful for decisions involving multiple criteria, such as choosing a vendor or a new employee. It provides a quantitative approach to compare different options rigorously.\n",
      "\n",
      "3. **Cost-Benefit Analysis:**\n",
      "   - **Description:** This involves comparing the expected costs and benefits of each decision option.\n",
      "   - **Application:** Best suited for financial decisions or investments. It helps in determining whether the financial benefits outweigh the costs, hence justifying the decision economically.\n",
      "\n",
      "4. **The Delphi Technique:**\n",
      "   - **Description:** This method seeks to reach a consensus among experts through a series of questionnaires interspersed with feedback.\n",
      "   - **Application:** Useful for forecasting and problem-solving where there is uncertainty. By leveraging expert opinions and refining them through multiple rounds, it reduces biases and converges towards a well-thought-out decision.\n",
      "\n",
      "5. **Pareto Analysis (80/20 Rule):**\n",
      "   - **Description:** This involves identifying the 20% of causes that contribute to 80% of the problems or effects.\n",
      "   - **Application:** Effective for resource allocation and problem prioritization. It ensures focus on the most significant areas that yield the highest impact.\n",
      "\n",
      "6. **The OODA Loop (Observe, Orient, Decide, Act):**\n",
      "   - **Description:** A continuous cycle of observing situational changes, orienting by assessing this information, deciding on a course of action, and then acting on it.\n",
      "   - **Application:** Ideal for dynamic and fast-paced environments, such as military strategy or competitive business scenarios. It emphasizes agility and adaptability in decision-making.\n",
      "\n",
      "7. **Mind Mapping:**\n",
      "   - **Description:** Visual representation of ideas and information branching out from a central concept.\n",
      "   - **Application:** Useful for brainstorming, creative problem-solving, and organizing information hierarchically. It helps in exploring ideas and relationships extensively.\n",
      "\n",
      "8. **Pros and Cons List:**\n",
      "   - **Description:** Simple method of listing all positives (pros) and negatives (cons) of each option.\n",
      "   - **Application:** Basic, but useful for straightforward decisions where weighing the advantages and disadvantages provides clear insights.\n",
      "\n",
      "9. **Six Thinking Hats:**\n",
      "   - **Description:** Developed by Edward de Bono, this technique involves looking at a decision from six distinct perspectives (logic, emotion, caution, optimism, creativity, and control).\n",
      "   - **Application:** Enhances creative and lateral thinking by enforcing the exploration of multiple viewpoints systematically, minimizing biases, and incorporating diverse aspects into the decision.\n",
      "\n",
      "10. **Root Cause Analysis (RCA):**\n",
      "    - **Description:** A problem-solving method focusing on identifying the root causes of faults or problems.\n",
      "    - **Application:** Effective for addressing issues at their source rather than just treating symptoms, ensuring long-term solutions and continuous improvement.\n",
      "\n",
      "Each of these frameworks supports decision-making by providing structured approaches to analyze information, consider multiple facets of a decision, and ultimately reach more informed and thoughtful conclusions. The choice of framework depends on the specific context and nature of the decision at hand, ranging from strategic and financial decisions to creative problem-solving and rapid situational responses.\n"
     ]
    }
   ],
   "source": [
    "// New prompt to help with decision-making frameworks\n",
    "var simpleDecisionPrompt = \"\"\"\n",
    "Identify and list various decision-making frameworks that can enhance the quality of decisions. \n",
    "Briefly describe how each framework supports better analysis and reasoning in different decision-making scenarios.\n",
    "\"\"\";\n",
    "\n",
    "var simplePromptResponse = await semanticKernel.InvokePromptAsync(simpleDecisionPrompt);\n",
    "Console.WriteLine(simplePromptResponse.GetValue<string>());"
   ]
  },
  {
   "cell_type": "markdown",
   "metadata": {},
   "source": [
    "### Step 3 - Execute a Decision Intelligence Prompt with Streaming"
   ]
  },
  {
   "cell_type": "markdown",
   "metadata": {},
   "source": [
    "Semantic Kernel supports prompt response streaming when invoking the prompt. This allows responses to be streamed to the client as soon as they are made available by the LLM and service. Below the same decision prompt is executed. However, notice that chunks are streamed and can be read by the user as soon as they appear. "
   ]
  },
  {
   "cell_type": "code",
   "execution_count": 4,
   "metadata": {
    "dotnet_interactive": {
     "language": "csharp"
    },
    "polyglot_notebook": {
     "kernelName": "csharp"
    },
    "vscode": {
     "languageId": "polyglot-notebook"
    }
   },
   "outputs": [
    {
     "name": "stdout",
     "output_type": "stream",
     "text": [
      "Sure, decision-making frameworks offer structured approaches to enhance the quality of decisions by incorporating systematic analysis and reasoning. Here are a few widely recognized frameworks along with brief descriptions of how they support decision-making:\n",
      "\n",
      "1. **SWOT Analysis (Strengths, Weaknesses, Opportunities, Threats)**:\n",
      "   - **Description**: This framework helps in evaluating internal strengths and weaknesses, as well as external opportunities and threats.\n",
      "   - **Support**: It aids in strategic planning by providing a clear layout of internal capabilities and external possibilities and risks, allowing for more informed and balanced decisions.\n",
      "\n",
      "2. **Pros and Cons List**:\n",
      "   - **Description**: A straightforward method where the positive aspects (pros) and negative aspects (cons) of a decision are listed.\n",
      "   - **Support**: Simplifies the evaluation process by visually comparing the benefits and drawbacks, making it easier to see the potential outcomes and trade-offs of different options.\n",
      "\n",
      "3. **Cost-Benefit Analysis (CBA)**:\n",
      "   - **Description**: A quantitative approach that compares the costs and benefits of a decision, often expressed in monetary terms.\n",
      "   - **Support**: Facilitates decisions where financial considerations are crucial, by balancing the financial gains against the expenses, thus identifying the option with the highest net benefit.\n",
      "\n",
      "4. **PEST Analysis (Political, Economic, Social, Technological)**:\n",
      "   - **Description**: This framework examines the macro-environmental factors that could impact a decision or strategy.\n",
      "   - **Support**: Enhances decision quality by providing insights into the external factors and trends that may affect the outcome, promoting strategic alignment with the broader environment.\n",
      "\n",
      "5. **Decision Matrix Analysis (also known as Grid Analysis or Pugh Matrix)**:\n",
      "   - **Description**: A technique that evaluates and prioritizes a list of options by scoring them against a set of weighted criteria.\n",
      "   - **Support**: Allows for a more objective comparison of options based on multiple criteria, which is particularly useful for complex decisions with various attributes to consider.\n",
      "\n",
      "6. **Six Thinking Hats**:\n",
      "   - **Description**: A method developed by Edward de Bono which involves looking at a decision from six different perspectives (e.g., logical, emotional, optimistic, critical, creative, and process-oriented).\n",
      "   - **Support**: Encourages comprehensive analysis by ensuring that different aspects and viewpoints are considered, reducing biases and enhancing overall decision quality.\n",
      "\n",
      "7. **Kepner-Tregoe Decision Analysis**:\n",
      "   - **Description**: A method that focuses on systematically identifying challenges, evaluating alternatives, and assessing potential problems to make a well-informed decision.\n",
      "   - **Support**: Emphasizes a rational process that includes problem analysis, decision analysis, potential problem analysis, and situation analysis, leading to decisions that are more data-driven and logically sound.\n",
      "\n",
      "8. **Pareto Analysis**:\n",
      "   - **Description**: Also known as the 80/20 rule, it focuses on identifying the factors that will have the most significant impact on an issue.\n",
      "   - **Support**: Helps prioritize actions by focusing on the critical few factors that will lead to the most substantial improvement or impact, thereby optimizing resource allocation.\n",
      "\n",
      "9. **OODA Loop (Observe, Orient, Decide, Act)**:\n",
      "   - **Description**: Developed by military strategist John Boyd, this cyclical model emphasizes rapid decision-making in dynamic environments.\n",
      "   - **Support**: Enhances decision quality in fast-paced scenarios by ensuring continuous adaptation and quick reactions based on real-time analysis and feedback.\n",
      "\n",
      "10. **Nudge Theory**:\n",
      "    - **Description**: A behavioral economics concept that involves subtly guiding decisions by structuring choices in ways that lead to better outcomes without restricting freedom of choice.\n",
      "    - **Support**: Improves decision outcomes by designing environments that encourage desirable behaviors and decisions, leveraging psychological insights to guide choices indirectly.\n",
      "\n",
      "These frameworks offer diverse approaches suitable for different decision-making contexts, from strategic planning to operational problem-solving, ensuring decisions are well-considered, balanced, and aligned with goals."
     ]
    }
   ],
   "source": [
    "await foreach (var streamChunk in semanticKernel.InvokePromptStreamingAsync(simpleDecisionPrompt))\n",
    "{\n",
    "   Console.Write(streamChunk);\n",
    "}"
   ]
  },
  {
   "cell_type": "markdown",
   "metadata": {},
   "source": [
    "### Step 4 - Execute a Decision Intelligence Prompt with a Custom Execution Configuration"
   ]
  },
  {
   "cell_type": "markdown",
   "metadata": {},
   "source": [
    "Semantic Kernel supports the configuration of prompt execution. The typical OpenAI and Azure OpenAI settings are exposed as configuration options that provide a different prompt experience. Try changing the MaxTokens, Tempature or other settings."
   ]
  },
  {
   "cell_type": "code",
   "execution_count": 5,
   "metadata": {
    "dotnet_interactive": {
     "language": "csharp"
    },
    "polyglot_notebook": {
     "kernelName": "csharp"
    },
    "vscode": {
     "languageId": "polyglot-notebook"
    }
   },
   "outputs": [
    {
     "name": "stdout",
     "output_type": "stream",
     "text": [
      "Certainly! Here are several decision-making frameworks that can enhance the quality of decisions, along with brief descriptions of how each supports better analysis and reasoning in different scenarios:\n",
      "\n",
      "1. **SWOT Analysis (Strengths, Weaknesses, Opportunities, Threats)**\n",
      "   - **Description:** This framework helps in identifying internal strengths and weaknesses, as well as external opportunities and threats.\n",
      "   - **Application:** It supports strategic planning and situational analysis by providing a clear picture of the internal and external factors that can impact a decision. This is particularly useful in business strategy, project planning, and competitive analysis.\n",
      "\n",
      "2. **Decision Matrix (Weighted Scoring Model)**\n",
      "   - **Description:** This involves listing options and criteria, assigning weights to each criterion based on importance, and scoring each option against each criterion.\n",
      "   - **Application:** It helps in comparing multiple options quantitatively, making it easier to identify the most favorable choice. This is useful in vendor selection, product development, and prioritizing projects.\n",
      "\n",
      "3. **Cost-Benefit Analysis (CBA)**\n",
      "   - **Description:** This framework involves comparing the costs and benefits of different options to determine which has the highest net benefit.\n",
      "   - **Application:** It supports financial and economic decision-making by quantifying the trade-offs involved. This is commonly used in public policy, business investments, and project management.\n",
      "\n",
      "4. **Pros and Cons List**\n",
      "   - **Description:** This simple framework involves listing the advantages and disadvantages of each option.\n",
      "   - **Application:** It helps in clarifying the positive and negative aspects of a decision, making it easier to weigh them against each other. This is useful for personal decisions, quick assessments, and initial brainstorming.\n",
      "\n",
      "5. **Pareto Analysis (80/20 Rule)**\n",
      "   - **Description:** This technique focuses on identifying the few critical factors that will have the most significant impact on the outcome.\n",
      "   - **Application:** It supports prioritization by highlighting the most important issues to address. This is useful in quality control, problem-solving, and resource allocation.\n",
      "\n",
      "6. **Six Thinking Hats**\n",
      "   - **Description:** Developed by Edward de Bono, this method involves looking at a decision from six different perspectives (logical, emotional, cautious, optimistic, creative, and process-oriented).\n",
      "   - **Application:** It encourages comprehensive analysis by ensuring all aspects of a decision are considered. This is useful in team decision-making, creative problem-solving, and strategic planning.\n",
      "\n",
      "7. **PDCA Cycle (Plan-Do-Check-Act)**\n",
      "   - **Description:** This iterative process involves planning a change, implementing it, checking the results, and acting on what is learned.\n",
      "   - **Application:** It supports continuous improvement and iterative decision-making. This is useful in quality management, process improvement, and project management.\n",
      "\n",
      "8. **OODA Loop (Observe, Orient, Decide, Act)**\n",
      "   - **Description:** This framework involves observing the situation, orienting oneself to the information, deciding on a course of action, and acting on it.\n",
      "   - **Application:** It supports rapid decision-making in dynamic and competitive environments. This is useful in military strategy, crisis management, and competitive business environments.\n",
      "\n",
      "9. **Root Cause Analysis (RCA)**\n",
      "   - **Description:** This method involves identifying the underlying causes of a problem rather than just addressing its symptoms.\n",
      "   - **Application:** It supports effective problem-solving by ensuring that the root causes are addressed. This is useful in troubleshooting, quality control, and process improvement.\n",
      "\n",
      "10. **Delphi Technique**\n",
      "    - **Description:** This method involves gathering input from a panel of experts through multiple rounds of questionnaires, with feedback provided between rounds.\n",
      "    - **Application:** It supports consensus-building and informed decision-making by leveraging expert opinions. This is useful in forecasting, policy-making, and complex problem-solving.\n",
      "\n",
      "11. **Scenario Planning**\n",
      "    - **Description:** This involves creating detailed and plausible scenarios about the future to explore the potential impacts of different decisions.\n",
      "    - **Application:** It supports strategic planning by considering various possible futures and preparing for them. This is useful in long-term planning, risk management, and strategic foresight.\n",
      "\n",
      "Each of these frameworks provides a structured approach to decision-making, helping to ensure that all relevant factors are considered and that decisions are made based on thorough analysis and reasoning."
     ]
    }
   ],
   "source": [
    "// Create a new OpenAI prompt execution settings object\n",
    "var openAIPromptExecutionSettings = new OpenAIPromptExecutionSettings { \n",
    "    MaxTokens = 1000, \n",
    "    Temperature = 0.3, \n",
    "    TopP = 1.0, \n",
    "    FrequencyPenalty = 0.0, \n",
    "    PresencePenalty = 0.0\n",
    "    };\n",
    "\n",
    "KernelArguments kernelArguments = new KernelArguments(openAIPromptExecutionSettings);\n",
    "await foreach (var streamChunk in semanticKernel.InvokePromptStreamingAsync(simpleDecisionPrompt, kernelArguments))\n",
    "{\n",
    "   Console.Write(streamChunk);\n",
    "}"
   ]
  },
  {
   "cell_type": "markdown",
   "metadata": {},
   "source": [
    "### Step 5 - Execute a Decision Instelligence Prompt with a System Prompt (Custom AI Persona)"
   ]
  },
  {
   "cell_type": "markdown",
   "metadata": {},
   "source": [
    "All the typical best practices of prompt engineering apply when using Semantic Kernel.  \n",
    "* Make the prompt more specific\n",
    "* Add structure to the output with formatting\n",
    "* Provide examples with few-shot prompting\n",
    "* Instruct the AI what to do to avoid doing something wrong\n",
    "* Provide context (additional information) to the AI\n",
    "* Using Roles in chat completion prompts\n",
    "* Give your AI words of encouragement  \n",
    "\n",
    "One best practice is to provide a common behaviour across all the LLM interactions in a system prompt. This system prompt is passed in on every single call the LLM with Semantic Kernel. These prompts can be dynamically created with a programming language like C# or Python.  \n",
    "\n",
    "Execute the cell below with a dynamic prompt template. Notice the different behavior of the output for decision frameworks. The decision framework responses are much more robust with decision intelligence information."
   ]
  },
  {
   "cell_type": "code",
   "execution_count": 6,
   "metadata": {
    "dotnet_interactive": {
     "language": "csharp"
    },
    "polyglot_notebook": {
     "kernelName": "csharp"
    },
    "vscode": {
     "languageId": "polyglot-notebook"
    }
   },
   "outputs": [
    {
     "name": "stdout",
     "output_type": "stream",
     "text": [
      "Prompt To Send to the Azure OpenAI Chat Completion Service...\n",
      "System Prompt: You are a Decision Intelligence Assistant. \n",
      "Assist the user in exploring options, reasoning through decisions, problem-solving.\n",
      "Apply systems thinking to various scenarios. \n",
      "Provide structured, logical, and comprehensive advice.\n",
      "\n",
      "Request from the user: Provide some decision frameworks that can help improve the quality of decisions.\n",
      "\n",
      "----------------------------------------\n",
      "\n",
      "Response from the Azure OpenAI Chat Completion Service...\n",
      "Certainly! Here are several decision-making frameworks that can help improve the quality of decisions:\n",
      "\n",
      "### 1. **SWOT Analysis**\n",
      "**Strengths, Weaknesses, Opportunities, Threats**\n",
      "- **Strengths:** Internal attributes that are helpful to achieving the objective.\n",
      "- **Weaknesses:** Internal attributes that are harmful to achieving the objective.\n",
      "- **Opportunities:** External factors the organization can capitalize on or use to its advantage.\n",
      "- **Threats:** External factors that could cause trouble for the organization or project.\n",
      "\n",
      "### 2. **PEST Analysis**\n",
      "**Political, Economic, Social, Technological**\n",
      "- **Political:** Government policies, political stability, tax policies, trade regulations.\n",
      "- **Economic:** Economic growth, exchange rates, inflation rates, interest rates.\n",
      "- **Social:** Cultural aspects, health consciousness, population growth rate, age distribution.\n",
      "- **Technological:** Technological advancements, innovation, automation, R&D activity.\n",
      "\n",
      "### 3. **Cost-Benefit Analysis (CBA)**\n",
      "- **Identify Costs:** Direct, indirect, tangible, and intangible costs.\n",
      "- **Identify Benefits:** Direct, indirect, tangible, and intangible benefits.\n",
      "- **Compare:** Weigh the total expected costs against the total expected benefits to determine the best course of action.\n",
      "\n",
      "### 4. **Decision Matrix (Weighted Scoring Model)**\n",
      "- **Criteria Identification:** List the criteria important for the decision.\n",
      "- **Weight Assignment:** Assign a weight to each criterion based on its importance.\n",
      "- **Scoring:** Score each option against each criterion.\n",
      "- **Calculation:** Multiply the scores by the weights and sum them to get a total score for each option.\n",
      "\n",
      "### 5. **Six Thinking Hats**\n",
      "- **White Hat:** Focus on data, facts, and information.\n",
      "- **Red Hat:** Look at the decision using intuition, gut reaction, and emotion.\n",
      "- **Black Hat:** Consider the potential negative outcomes and risks.\n",
      "- **Yellow Hat:** Focus on the positive aspects and benefits.\n",
      "- **Green Hat:** Think creatively and explore new ideas.\n",
      "- **Blue Hat:** Manage the decision-making process and ensure all perspectives are considered.\n",
      "\n",
      "### 6. **Pareto Analysis (80/20 Rule)**\n",
      "- **Identify Problems:** List all problems or decisions that need to be made.\n",
      "- **Score Problems:** Assign a score based on the impact of each problem.\n",
      "- **Prioritize:** Focus on the problems that have the highest scores, as solving these will have the most significant impact.\n",
      "\n",
      "### 7. **OODA Loop**\n",
      "**Observe, Orient, Decide, Act**\n",
      "- **Observe:** Gather current information from as many sources as possible.\n",
      "- **Orient:** Analyze this information to form a situational awareness.\n",
      "- **Decide:** Determine a course of action based on the information.\n",
      "- **Act:** Implement the decision and then observe the results to start the loop again.\n",
      "\n",
      "### 8. **Pros and Cons List**\n",
      "- **Pros:** List all the advantages or positive outcomes of the decision.\n",
      "- **Cons:** List all the disadvantages or negative outcomes of the decision.\n",
      "- **Compare:** Weigh the pros against the cons to make a balanced decision.\n",
      "\n",
      "### 9. **Root Cause Analysis (RCA)**\n",
      "- **Identify the Problem:** Clearly define the issue.\n",
      "- **Collect Data:** Gather information related to the problem.\n",
      "- **Identify Possible Causes:** Use tools like the 5 Whys or Fishbone Diagram to find the root cause.\n",
      "- **Implement Solutions:** Develop and implement solutions to address the root cause.\n",
      "\n",
      "### 10. **Vroom-Yetton Decision Model**\n",
      "- **Autocratic (A1, A2):** Leader makes the decision alone.\n",
      "- **Consultative ("
     ]
    }
   ],
   "source": [
    "// Create a system prompt instruction to override the default system prompt\n",
    "// Add the System Prompt (Persona) to behave like a decision intelligence assistant\n",
    "var systemPromptForDecisions = \"\"\"\n",
    "You are a Decision Intelligence Assistant. \n",
    "Assist the user in exploring options, reasoning through decisions, problem-solving.\n",
    "Apply systems thinking to various scenarios. \n",
    "Provide structured, logical, and comprehensive advice.\n",
    "\"\"\";\n",
    "var simpleDecisionPrompt = \"Provide some decision frameworks that can help improve the quality of decisions.\";\n",
    "\n",
    "// How the prompt looks like to the LLM\n",
    "var simpleDecisionPromptTemplate = $\"\"\"\n",
    "System Prompt: {systemPromptForDecisions}\n",
    "\n",
    "Request from the user: {simpleDecisionPrompt}\n",
    "\"\"\";\n",
    "\n",
    "// Create a new OpenAI prompt execution settings object\n",
    "var openAIPromptExecutionSettings = new OpenAIPromptExecutionSettings { \n",
    "    ChatSystemPrompt = systemPromptForDecisions,\n",
    "    MaxTokens = 750, \n",
    "    Temperature = 0.3, \n",
    "    TopP = 1.0, \n",
    "    FrequencyPenalty = 0.0, \n",
    "    PresencePenalty = 0.0\n",
    "    };\n",
    "KernelArguments kernelArguments = new KernelArguments(openAIPromptExecutionSettings);\n",
    "\n",
    "Console.WriteLine(\"Prompt To Send to the Azure OpenAI Chat Completion Service...\");\n",
    "Console.WriteLine(simpleDecisionPromptTemplate);\n",
    "Console.WriteLine(string.Empty);\n",
    "Console.WriteLine(\"----------------------------------------\");\n",
    "Console.WriteLine(string.Empty);\n",
    "Console.WriteLine(\"Response from the Azure OpenAI Chat Completion Service...\");\n",
    "\n",
    "\n",
    "await foreach (var streamChunk in semanticKernel.InvokePromptStreamingAsync(simpleDecisionPrompt, kernelArguments))\n",
    "{\n",
    "   Console.Write(streamChunk);\n",
    "}"
   ]
  }
 ],
 "metadata": {
  "kernelspec": {
   "display_name": ".NET (C#)",
   "language": "C#",
   "name": ".net-csharp"
  },
  "language_info": {
   "name": "csharp"
  },
  "polyglot_notebook": {
   "kernelInfo": {
    "defaultKernelName": "csharp",
    "items": [
     {
      "aliases": [],
      "name": "csharp"
     }
    ]
   }
  }
 },
 "nbformat": 4,
 "nbformat_minor": 2
}
