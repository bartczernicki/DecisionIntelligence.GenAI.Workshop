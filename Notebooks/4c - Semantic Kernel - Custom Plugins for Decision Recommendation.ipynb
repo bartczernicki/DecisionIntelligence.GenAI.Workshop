{
 "cells": [
  {
   "cell_type": "markdown",
   "metadata": {},
   "source": [
    "<img style=\"float: left;padding-right: 10px\" width =\"40px\" src=\"https://raw.githubusercontent.com/bartczernicki/DecisionIntelligence.GenAI.Workshop/main/Images/SemanticKernelLogo.png\">\n",
    "\n",
    "## Semantic Kernel - Custom Plugins for Decision Recommendation "
   ]
  },
  {
   "cell_type": "markdown",
   "metadata": {},
   "source": [
    "Decision Intelligence applied in this module:  \n",
    "* Adding current knowledge graph (internet) in order to arrive at conclusions  \n",
    "* Recommending a decision based on the information extracted from the knowledge graph (internet)\n",
    "* Providing citations to back up the decision conclusion  "
   ]
  },
  {
   "cell_type": "markdown",
   "metadata": {},
   "source": [
    "This module will show how to perform a more advanced search using the Bing Search SDK. Any .NET SDK that is used for decision making, business processes, interacts with data etc. can be integrated into AI Orchestration with Semantic Kernel. \n",
    "\n",
    "**What is the difference between this module and the previous?** In the previous examples, the Bing Search plugin that comes part of the Semantic Kernel framework was used. It has limited parameters, thus configurability. This custom plugin will be used to recommend whether to make a decision if a baseball player should be inducted into the Hall of Fame."
   ]
  },
  {
   "cell_type": "markdown",
   "metadata": {},
   "source": [
    "### Step 1 - Initialize Configuration Builder & Build the Semantic Kernel Orchestration\n",
    "\n",
    "Execute the next two cells to:\n",
    "* Use the Configuration Builder to load the API secrets\n",
    "* Use the API configuration to build the Semantic Kernel orchestrator\n",
    "* The configuration builder will retrieve the Bing Search API Key"
   ]
  },
  {
   "cell_type": "code",
   "execution_count": 1,
   "metadata": {
    "dotnet_interactive": {
     "language": "csharp"
    },
    "polyglot_notebook": {
     "kernelName": "csharp"
    },
    "vscode": {
     "languageId": "polyglot-notebook"
    }
   },
   "outputs": [
    {
     "data": {
      "text/html": [
       "<div><div></div><div></div><div><strong>Installed Packages</strong><ul><li><span>Microsoft.Bing.Search.WebSearch, 1.0.0</span></li><li><span>Microsoft.Extensions.Configuration, 9.0.0</span></li><li><span>Microsoft.Extensions.Configuration.Json, 9.0.0</span></li><li><span>Microsoft.SemanticKernel, 1.44.0</span></li><li><span>Microsoft.SemanticKernel.Plugins.Core, 1.44.0-alpha</span></li><li><span>Microsoft.SemanticKernel.Plugins.Web, 1.44.0-alpha</span></li></ul></div></div>"
      ]
     },
     "metadata": {},
     "output_type": "display_data"
    }
   ],
   "source": [
    "#r \"nuget: Microsoft.Extensions.Configuration, 9.0.0\"\n",
    "#r \"nuget: Microsoft.Extensions.Configuration.Json, 9.0.0\"\n",
    "#r \"nuget: Microsoft.SemanticKernel, 1.44\"\n",
    "#r \"nuget: Microsoft.SemanticKernel.Plugins.Core, 1.44-alpha\"\n",
    "#r \"nuget: Microsoft.SemanticKernel.Plugins.Web, 1.44-alpha\"\n",
    "#r \"nuget: Microsoft.Bing.Search.WebSearch, 1.0.0\"\n",
    "\n",
    "using Microsoft.Extensions.Configuration;\n",
    "using Microsoft.SemanticKernel;\n",
    "using Microsoft.SemanticKernel.ChatCompletion;\n",
    "using Microsoft.SemanticKernel.Connectors.OpenAI;\n",
    "using Microsoft.Bing.WebSearch;\n",
    "using System.ComponentModel;\n",
    "using System.IO;\n",
    "\n",
    "var configurationBuilder = new ConfigurationBuilder()\n",
    "    .SetBasePath(Directory.GetCurrentDirectory())\n",
    "    .AddJsonFile(\"local.settings.json\", optional: true, reloadOnChange: true)\n",
    "    .AddJsonFile(\"secrets.settings.json\", optional: true, reloadOnChange: true);\n",
    "var config = configurationBuilder.Build();\n",
    "\n",
    "// IMPORTANT: You ONLY NEED either Azure OpenAI or OpenAI connectiopn info, not both.\n",
    "// Azure OpenAI Connection Info\n",
    "var azureOpenAIEndpoint = config[\"AzureOpenAI:Endpoint\"];\n",
    "var azureOpenAIAPIKey = config[\"AzureOpenAI:APIKey\"];\n",
    "var azureOpenAIModelDeploymentName = config[\"AzureOpenAI:ModelDeploymentName\"];\n",
    "// OpenAI Connection Info \n",
    "var openAIAPIKey = config[\"OpenAI:APIKey\"];\n",
    "var openAIModelId = config[\"OpenAI:ModelId\"];"
   ]
  },
  {
   "cell_type": "code",
   "execution_count": 2,
   "metadata": {
    "dotnet_interactive": {
     "language": "csharp"
    },
    "polyglot_notebook": {
     "kernelName": "csharp"
    },
    "vscode": {
     "languageId": "polyglot-notebook"
    }
   },
   "outputs": [
    {
     "name": "stdout",
     "output_type": "stream",
     "text": [
      "Using Azure OpenAI Service\n"
     ]
    }
   ],
   "source": [
    "Kernel semanticKernel;\n",
    "\n",
    "// Set the flag to use Azure OpenAI or OpenAI. False to use OpenAI, True to use Azure OpenAI\n",
    "var useAzureOpenAI = true;\n",
    "\n",
    "// Create a new Semantic Kernel instance\n",
    "if (useAzureOpenAI)\n",
    "{\n",
    "    Console.WriteLine(\"Using Azure OpenAI Service\");\n",
    "    semanticKernel = Kernel.CreateBuilder()\n",
    "        .AddAzureOpenAIChatCompletion(\n",
    "            deploymentName: azureOpenAIModelDeploymentName,\n",
    "            endpoint: azureOpenAIEndpoint,\n",
    "            apiKey: azureOpenAIAPIKey)\n",
    "        .Build();\n",
    "}\n",
    "else\n",
    "{\n",
    "    Console.WriteLine(\"Using OpenAI Service\");\n",
    "    semanticKernel = Kernel.CreateBuilder()\n",
    "        .AddOpenAIChatCompletion(\n",
    "            modelId: openAIModelId,\n",
    "            apiKey: openAIAPIKey)\n",
    "        .Build();\n",
    "}"
   ]
  },
  {
   "cell_type": "markdown",
   "metadata": {},
   "source": [
    "### Step 2 - Create a custom WebSearch Results Plugin\n",
    "\n",
    "Execute the next two cells to:\n",
    "* Create a custom WebSearchResultsPlugin\n",
    "* The plugin includes a native C# function called GetWebSearchResults\n",
    "* GetWebSearchResults uses the Bing Search SDK to perform an advanced web search\n",
    "* Notice that the GetWebSearchResults method is decorated with the KernelFunction attribute. This lets Semantic Kernel know that this is a kernel function that can be imported  \n",
    "* Both the GetWebSearchResults method and the nameOfBaseballPLayer parameter have descriptions  "
   ]
  },
  {
   "cell_type": "code",
   "execution_count": 3,
   "metadata": {
    "dotnet_interactive": {
     "language": "csharp"
    },
    "polyglot_notebook": {
     "kernelName": "csharp"
    },
    "vscode": {
     "languageId": "polyglot-notebook"
    }
   },
   "outputs": [],
   "source": [
    "// Simple class to hold the web search results\n",
    "public class WebSearchResult\n",
    "{\n",
    "    public int Id { get; set; } = 0;\n",
    "    public string Name { get; set; } = string.Empty;\n",
    "    public string Snippet { get; set; } = string.Empty;\n",
    "    public string Url { get; set; } = string.Empty;\n",
    "}\n",
    "\n",
    "// Custom Web Search Results Plugin\n",
    "// Notice the code has much more functionality than the previous example\n",
    "public class WebSearchResultsPlugin\n",
    "{\n",
    "    [KernelFunction]\n",
    "    [Description(\"Retrieves the web search results with identified URL sources for a given baseball player.\")]\n",
    "    public async Task<string> GetWebSearchResults(\n",
    "        [Description(\"Name of the baseball player to search.\")]\n",
    "        string nameOfBaseballPlayer)\n",
    "    {\n",
    "        // Config is just done to keep things simple for the example\n",
    "        var configurationBuilder = new ConfigurationBuilder()\n",
    "            .SetBasePath(Directory.GetCurrentDirectory())\n",
    "            .AddJsonFile(\"local.settings.json\", optional: true, reloadOnChange: true)\n",
    "            .AddJsonFile(\"secrets.settings.json\", optional: true, reloadOnChange: true);\n",
    "        var config = configurationBuilder.Build();\n",
    "        var bingSearchAPIKey = config[\"BingSearch:APIKey\"];\n",
    "\n",
    "        var webSearchResultsString = \"Web search results:\\r\\n\\r\\n\";\n",
    "        var footNotes = string.Empty;\n",
    "        var bingSearchId = 0;\n",
    "        var webSearchResults = new List<WebSearchResult>();\n",
    "\n",
    "        var bingSearchClient = new WebSearchClient(new ApiKeyServiceClientCredentials(bingSearchAPIKey));\n",
    "        var bingWebData = await bingSearchClient.Web.SearchAsync(query: \"baseball hall of fame \" + nameOfBaseballPlayer, count: 8);\n",
    "\n",
    "        if (bingWebData?.WebPages?.Value?.Count > 0)\n",
    "        {\n",
    "            // Itertate over the Bing Web Pages (Non-Cache Results)\n",
    "            foreach (var bingWebPage in bingWebData.WebPages.Value)\n",
    "            {\n",
    "                bingSearchId++;\n",
    "\n",
    "                webSearchResultsString += string.Format(\"[{0}]: \\\"{1}: {2}\\\"\\r\\nURL: {3}\\r\\n\\r\\n\",\n",
    "                    bingSearchId, bingWebPage.Name, bingWebPage.Snippet, bingWebPage.Url);\n",
    "\n",
    "                footNotes += string.Format(\"[{0}]: {1}: {2}  \\r\\n\",\n",
    "                    bingSearchId, bingWebPage.Name, bingWebPage.Url);\n",
    "\n",
    "                webSearchResults.Add(new WebSearchResult\n",
    "                {\n",
    "                    Id = bingSearchId,\n",
    "                    Name = bingWebPage.Name,\n",
    "                    Snippet = bingWebPage.Snippet,\n",
    "                    Url = bingWebPage.Url\n",
    "                });\n",
    "            }\n",
    "        }\n",
    "\n",
    "        return webSearchResultsString;\n",
    "    }\n",
    "}\n",
    "semanticKernel.ImportPluginFromType<WebSearchResultsPlugin>();"
   ]
  },
  {
   "cell_type": "markdown",
   "metadata": {},
   "source": [
    "### Step 3 - Recommend a Decision using the Internet Knowledge Graph\n",
    "> \"Knowledge is power, but only if you use it to make decisions.\"\n",
    ">\n",
    "> -- <cite>Unknown</cite> \n",
    "\n",
    "The custom plugin above performs an advanced Bing Search query, maintains the sources (sites) that were used for search and keeps the index of each site used. This is important as it not only provides knowledge grounding information but it also provides a framework to create citations as the LLM reasons over the decision recommendation. This allows AI architects to build \"AI Decision explainability\" into their AI orchestration pipelines.\n",
    "\n",
    "Execute the cell below to understand the LLMs reasoning process, it's final decision recommendation on Mike Trout's hall of fame induction and finally the sources (citations) that were used to arrive at that conclusion."
   ]
  },
  {
   "cell_type": "code",
   "execution_count": 4,
   "metadata": {
    "dotnet_interactive": {
     "language": "csharp"
    },
    "polyglot_notebook": {
     "kernelName": "csharp"
    },
    "vscode": {
     "languageId": "polyglot-notebook"
    }
   },
   "outputs": [
    {
     "name": "stdout",
     "output_type": "stream",
     "text": [
      "Mike Trout's candidacy for the Baseball Hall of Fame is highly compelling based on his career achievements, though there are some discussions surrounding his injuries and longevity. Below is an analysis of his qualifications, supported by sources:\n",
      "\n",
      "### Reasons Supporting Hall of Fame Induction\n",
      "1. **Exceptional Career Statistics**: Mike Trout has consistently been one of the best players in Major League Baseball. His career achievements include multiple MVP awards, All-Star selections, and statistical dominance in areas like batting average, on-base percentage, and slugging percentage. According to Fangraphs, Trout's career WAR (Wins Above Replacement) already places him among the elite players in baseball history, making him \"fully qualified\" for the Hall of Fame [5].\n",
      "\n",
      "2. **Historical Comparisons**: Trout has often been compared to legends like Mickey Mantle and Willie Mays due to his combination of power, speed, and defensive ability. His achievements at a young age and his dominance during his prime years make him a generational talent [6].\n",
      "\n",
      "3. **Accolades and Recognition**: Trout has been recognized as one of the best players of his era, and many analysts agree that he is a future Hall of Famer if he continues to play at a high level [7].\n",
      "\n",
      "### Challenges and Concerns\n",
      "1. **Injury History**: Trout's injuries in recent years have raised questions about his longevity and ability to maintain his peak performance. Since 2017, he has struggled to play full seasons, which could impact his cumulative career numbers [8].\n",
      "\n",
      "2. **Missed Opportunities for Postseason Success**: Trout has had limited playoff appearances with the Los Angeles Angels, which could be a minor factor for voters who value postseason performance [3].\n",
      "\n",
      "### Conclusion\n",
      "Mike Trout's career achievements, statistical dominance, and recognition as one of the best players of his generation strongly support his induction into the Hall of Fame. While injuries and limited postseason success are concerns, they do not diminish the historical significance of his contributions to the sport.\n",
      "\n",
      "### Sources\n",
      "1. [CBS Sports](https://www.cbssports.com/mlb/news/baseball-hall-of-fame-mike-trout-mookie-betts-clayton-kershaw-more-active-players-on-track-for-cooperstown)  \n",
      "2. [FanArch](https://fanarch.com/blogs/mlb/why-mike-trout-will-not-make-the-hall-of-fame)  \n",
      "3. [LA Times](https://www.latimes.com/sports/story/2024-08-01/mike-trout-out-for-season-meniscus-tear-hof-chances)  \n",
      "4. [Sports Illustrated](https://www.si.com/fannation/mlb/fastball/history/mike-trout-looking-to-tie-hall-of-famer-in-baseball-history-as-los-angeles-angels-open-season)  \n",
      "5. [Fangraphs](https://blogs.fangraphs.com/mike-trout-is-now-fully-qualified-for-the-hall-of-fame)  \n",
      "6. [Cooperstown Cred](https://www.cooperstowncred.com/mike-trout-now-30-already-a-future-hall-of-famer)  \n",
      "7. [Sports Illustrated](https://www.si.com/mlb/2023/01/19/hall-of-fame-candidates-30-and-older)  \n",
      "8. [CBS Sports](https://www.cbssports.com/mlb/news/mike-trouts-injuries-are-carving-into-hall-of-fame-legacy-where-angels-slugger-stacks-up-against-greats)  "
     ]
    }
   ],
   "source": [
    "// Configure the OpenAI prompt execution settings with Auto Invoking of Kernel Functions\n",
    "var openAIPromptExecutionSettings = new OpenAIPromptExecutionSettings { \n",
    "    MaxTokens = 4000, \n",
    "    Temperature = 0.4, // balance between creativity and relevance\n",
    "    TopP = 1.0, \n",
    "    FrequencyPenalty = 0.0, \n",
    "    PresencePenalty = 0.0,\n",
    "    // Enable Auto Invoking of Kernel Functions\n",
    "    ToolCallBehavior = ToolCallBehavior.AutoInvokeKernelFunctions\n",
    "};\n",
    "\n",
    "var decisionPromptTemplateString = \"\"\"\n",
    "What decision would you recommend in determining if {{$baseBallPlayer}} should make the hall of fame? \n",
    "Provide sources of information and explain your reasoning.\n",
    "Ensure to cite all the sources using [number] notation of each URL after the reference in order.\n",
    "\"\"\";\n",
    "var kernelArguments = new KernelArguments(openAIPromptExecutionSettings)\n",
    "{\n",
    "    [\"baseBallPlayer\"] = \"Mike Trout\"\n",
    "};\n",
    "\n",
    "// Now with Auto Invoking of Kernel Functions, let's invoke the prompt and stream the results\n",
    "await foreach (var streamChunk in semanticKernel.InvokePromptStreamingAsync(decisionPromptTemplateString, kernelArguments))\n",
    "{\n",
    "   Console.Write(streamChunk);\n",
    "}"
   ]
  }
 ],
 "metadata": {
  "kernelspec": {
   "display_name": ".NET (C#)",
   "language": "C#",
   "name": ".net-csharp"
  },
  "language_info": {
   "name": "csharp"
  },
  "polyglot_notebook": {
   "kernelInfo": {
    "defaultKernelName": "csharp",
    "items": [
     {
      "aliases": [],
      "name": "csharp"
     }
    ]
   }
  }
 },
 "nbformat": 4,
 "nbformat_minor": 2
}
