{
 "cells": [
  {
   "cell_type": "markdown",
   "metadata": {},
   "source": [
    "<img style=\"float: left;\" width =\"40px\" src=\"https://raw.githubusercontent.com/bartczernicki/DecisionIntelligence.GenAI.Workshop/main/Images/SemanticKernelLogo.png\">\n",
    "\n",
    "## Semantic Kernel - Chat Completion"
   ]
  },
  {
   "cell_type": "markdown",
   "metadata": {},
   "source": [
    "Decision Intelligence applied in this module:  \n",
    "* Listing of various decision-making frameworks and with their descriptions by using Chat Completion  \n",
    "* Decision Scenario: Recommendation of a decision-making framework for specific higher-stakes decisions (purchase of a car)  \n",
    "* Illustrating a domain specific decision-making framework (millitary intelligence)  \n"
   ]
  },
  {
   "cell_type": "markdown",
   "metadata": {},
   "source": [
    "In this module, the Semantic Kernel ability to create a chat experience will be introduced. This is a much richer experience than just sending simple prompts that are stateless and context is forgotten.\n",
    "\n",
    "Semantic Kernel has first-class support for chat scenarios, where the user talks back and forth with the LLM, the arguments get populated with the history of the conversation. During each new run of the kernel, the arguments will be provided to the AI with content. This allows the LLM to know the historical context of the conversation."
   ]
  },
  {
   "cell_type": "markdown",
   "metadata": {},
   "source": [
    "### Step 1 - Initialize Configuration Builder & Build the Semantic Kernel Orchestration\n",
    "\n",
    "Execute the next two cells to:\n",
    "* Use the Configuration Builder to load the API secrets.  \n",
    "* Use the API configuration to build the Semantic Kernel orchestrator."
   ]
  },
  {
   "cell_type": "code",
   "execution_count": 1,
   "metadata": {
    "dotnet_interactive": {
     "language": "csharp"
    },
    "polyglot_notebook": {
     "kernelName": "csharp"
    },
    "vscode": {
     "languageId": "polyglot-notebook"
    }
   },
   "outputs": [
    {
     "data": {
      "text/html": [
       "<div><div></div><div></div><div><strong>Installed Packages</strong><ul><li><span>Microsoft.Extensions.Configuration, 8.0.0</span></li><li><span>Microsoft.Extensions.Configuration.Json, 8.0.0</span></li></ul></div></div>"
      ]
     },
     "metadata": {},
     "output_type": "display_data"
    }
   ],
   "source": [
    "// Import the required NuGet configuration packages\n",
    "#r \"nuget: Microsoft.Extensions.Configuration, 8.0.0\"\n",
    "#r \"nuget: Microsoft.Extensions.Configuration.Json, 8.0.0\"\n",
    "\n",
    "using Microsoft.Extensions.Configuration;\n",
    "using System.IO;\n",
    "\n",
    "// Load the configuration settings from the local.settings.json and secrets.settings.json files\n",
    "// The secrets.settings.json file is used to store sensitive information such as API keys\n",
    "var configurationBuilder = new ConfigurationBuilder()\n",
    "    .SetBasePath(Directory.GetCurrentDirectory())\n",
    "    .AddJsonFile(\"local.settings.json\", optional: true, reloadOnChange: true)\n",
    "    .AddJsonFile(\"secrets.settings.json\", optional: true, reloadOnChange: true);\n",
    "var config = configurationBuilder.Build();\n",
    "\n",
    "// IMPORTANT: You ONLY NEED either Azure OpenAI or OpenAI connectiopn info, not both.\n",
    "// Azure OpenAI Connection Info\n",
    "var azureOpenAIEndpoint = config[\"AzureOpenAI:Endpoint\"];\n",
    "var azureOpenAIAPIKey = config[\"AzureOpenAI:APIKey\"];\n",
    "var azureOpenAIModelDeploymentName = config[\"AzureOpenAI:ModelDeploymentName\"];\n",
    "// OpenAI Connection Info \n",
    "var openAIAPIKey = config[\"OpenAI:APIKey\"];\n",
    "var openAIModelId = config[\"OpenAI:ModelId\"];"
   ]
  },
  {
   "cell_type": "code",
   "execution_count": 2,
   "metadata": {
    "dotnet_interactive": {
     "language": "csharp"
    },
    "polyglot_notebook": {
     "kernelName": "csharp"
    },
    "vscode": {
     "languageId": "polyglot-notebook"
    }
   },
   "outputs": [
    {
     "data": {
      "text/html": [
       "<div><div></div><div></div><div><strong>Installed Packages</strong><ul><li><span>Microsoft.Extensions.DependencyInjection, 8.0.0</span></li><li><span>Microsoft.SemanticKernel, 1.13.0</span></li></ul></div></div>"
      ]
     },
     "metadata": {},
     "output_type": "display_data"
    },
    {
     "name": "stdout",
     "output_type": "stream",
     "text": [
      "Using Azure OpenAI Service\n"
     ]
    }
   ],
   "source": [
    "// Install the required NuGet packages\n",
    "// Note: This also installs the Dependency Injection Package to retrieve the ChatCompletionService\n",
    "#r \"nuget: Microsoft.Extensions.DependencyInjection, 8.0.0\"\n",
    "#r \"nuget: Microsoft.SemanticKernel, 1.13.0\"\n",
    "\n",
    "using Microsoft.Extensions.DependencyInjection;\n",
    "using Microsoft.SemanticKernel;\n",
    "using Microsoft.SemanticKernel.ChatCompletion;\n",
    "using Microsoft.SemanticKernel.Connectors.OpenAI;\n",
    "\n",
    "Kernel semanticKernel;\n",
    "\n",
    "// Set the flag to use Azure OpenAI or OpenAI. False to use OpenAI, True to use Azure OpenAI\n",
    "var useAzureOpenAI = true;\n",
    "\n",
    "// Create a new Semantic Kernel instance\n",
    "if (useAzureOpenAI)\n",
    "{\n",
    "    Console.WriteLine(\"Using Azure OpenAI Service\");\n",
    "    semanticKernel = Kernel.CreateBuilder()\n",
    "        .AddAzureOpenAIChatCompletion(\n",
    "            deploymentName: azureOpenAIModelDeploymentName,\n",
    "            endpoint: azureOpenAIEndpoint,\n",
    "            apiKey: azureOpenAIAPIKey)\n",
    "        .Build();\n",
    "}\n",
    "else\n",
    "{\n",
    "    Console.WriteLine(\"Using OpenAI Service\");\n",
    "    semanticKernel = Kernel.CreateBuilder()\n",
    "        .AddOpenAIChatCompletion(\n",
    "            modelId: openAIModelId,\n",
    "            apiKey: openAIAPIKey)\n",
    "        .Build();\n",
    "}\n",
    "\n",
    "var chatCompletionService = semanticKernel.Services.GetRequiredService<IChatCompletionService>();"
   ]
  },
  {
   "cell_type": "markdown",
   "metadata": {},
   "source": [
    "### Step 2 - Execute Chat Completion with Prompt Execution Settings\n",
    "\n",
    "> \"If you can’t describe what you are doing as a process, you don’t know what you’re doing.\" \n",
    ">\n",
    "> -- <cite>W. Edwards Deming (renowned American engineer, statistician, and management consultant)</cite>  \n",
    "\n",
    "\n",
    "Using the Semantic Kernel ChatCompletion service is very similar to inovoking a prompt for basic LLM interactions. The chat completion service will provide very similar results to invoking the prompt directly."
   ]
  },
  {
   "cell_type": "code",
   "execution_count": 3,
   "metadata": {
    "dotnet_interactive": {
     "language": "csharp"
    },
    "polyglot_notebook": {
     "kernelName": "csharp"
    },
    "vscode": {
     "languageId": "polyglot-notebook"
    }
   },
   "outputs": [
    {
     "name": "stdout",
     "output_type": "stream",
     "text": [
      "Certainly! Here are several decision frameworks that can help improve the quality of decisions:\n",
      "\n",
      "1. **SWOT Analysis**:\n",
      "   - **Strengths**: Internal attributes that are helpful to achieving the objective.\n",
      "   - **Weaknesses**: Internal attributes that are harmful to achieving the objective.\n",
      "   - **Opportunities**: External factors that the entity can exploit to its advantage.\n",
      "   - **Threats**: External factors that could cause trouble for the entity.\n",
      "\n",
      "2. **PEST Analysis**:\n",
      "   - **Political**: Government policies, political stability, tax policies, trade restrictions.\n",
      "   - **Economic**: Economic growth, exchange rates, inflation rate, interest rates.\n",
      "   - **Social**: Cultural aspects, health consciousness, population growth rate, age distribution.\n",
      "   - **Technological**: Technological advancements, R&D activity, automation, technology incentives.\n",
      "\n",
      "3. **Decision Matrix (Weighted Scoring Model)**:\n",
      "   - List all the options and criteria.\n",
      "   - Assign weights to each criterion based on importance.\n",
      "   - Score each option against each criterion.\n",
      "   - Multiply the scores by the weights and sum them to get a total score for each option.\n",
      "\n",
      "4. **Cost-Benefit Analysis (CBA)**:\n",
      "   - Identify all the costs and benefits associated with each option.\n",
      "   - Quantify them in monetary terms if possible.\n",
      "   - Compare the total costs and benefits to determine the net benefit of each option.\n",
      "\n",
      "5. **Six Thinking Hats** (Edward de Bono):\n",
      "   - **White Hat**: Focus on data and information.\n",
      "   - **Red Hat**: Look at the decision using intuition and emotion.\n",
      "   - **Black Hat**: Consider the potential negative outcomes.\n",
      "   - **Yellow Hat**: Think about the positive aspects and benefits.\n",
      "   - **Green Hat**: Explore creative solutions and alternatives.\n",
      "   - **Blue Hat**: Manage the decision-making process and ensure all perspectives are considered.\n",
      "\n",
      "6. **Pareto Analysis (80/20 Rule)**:\n",
      "   - Identify the key factors that will have the most significant impact.\n",
      "   - Focus on the 20% of causes that will result in 80% of the outcomes.\n",
      "\n",
      "7. **Pros and Cons List**:\n",
      "   - List all the advantages (pros) and disadvantages (cons) of each option.\n",
      "   - Compare the lists to determine which option has more favorable outcomes.\n",
      "\n",
      "8. **Mind Mapping**:\n",
      "   - Create a visual representation of the problem and possible solutions.\n",
      "   - Use branches to explore different aspects and connections.\n",
      "\n",
      "9. **OODA Loop (Boyd's Cycle)**:\n",
      "   - **Observe**: Gather information and data.\n",
      "   - **Orient**: Analyze the information and form a perspective.\n",
      "   - **Decide**: Choose a course of action.\n",
      "   - **Act**: Implement the decision and observe the results.\n",
      "\n",
      "10. **Kepner-Tregoe Decision Analysis**:\n",
      "    - **Situation Analysis**: Clarify the situation, define the problem, and identify objectives.\n",
      "    - **Problem Analysis**: Determine the root cause of the problem.\n",
      "    - **Decision Analysis**: Evaluate alternatives and make a decision.\n",
      "    - **Potential Problem Analysis**: Identify potential problems and plan preventive actions.\n",
      "\n",
      "11. **Rational Decision-Making Model**:\n",
      "    - Define the problem.\n",
      "    - Identify the decision criteria.\n",
      "    - Allocate weights to the criteria.\n",
      "    - Develop alternatives.\n",
      "    - Evaluate the alternatives.\n",
      "    - Select the best alternative.\n",
      "    - Implement the decision.\n",
      "    - Monitor and evaluate the decision.\n",
      "\n",
      "12. **Vroom-Yetton-Jago Decision Model**:\n",
      "    - Determine the level of involvement needed from the team.\n",
      "    - Use a series of questions to decide whether to make the decision alone or involve others.\n",
      "\n",
      "These frameworks can be used individually or in combination, depending on the complexity and nature of the decision to be made.\n"
     ]
    }
   ],
   "source": [
    "// Simple prompt to list some decision frameworks this GenAI LLM is familiar with\n",
    "var simpleDecisionPrompt = \"\"\"\n",
    "Provide a list of decision frameworks that can help improve the quality of decisions.\n",
    "\"\"\";\n",
    "\n",
    "// Create a new OpenAI prompt execution settings object\n",
    "var openAIPromptExecutionSettings = new OpenAIPromptExecutionSettings { \n",
    "    MaxTokens = 2500, \n",
    "    Temperature = 0.1, \n",
    "    TopP = 1.0, \n",
    "    FrequencyPenalty = 0.0, \n",
    "    PresencePenalty = 0.0\n",
    "    };\n",
    "\n",
    "var chatResult = await chatCompletionService.GetChatMessageContentAsync(simpleDecisionPrompt, openAIPromptExecutionSettings);\n",
    "\n",
    "Console.WriteLine(chatResult.Content);"
   ]
  },
  {
   "cell_type": "markdown",
   "metadata": {},
   "source": [
    "### Step 3 - Execute a Semantic Kernel Chat Completion with Streaming\n",
    "\n",
    "Semantic Kernel supports prompt response streaming in the ChatCompletionService. This allows responses to be streamed to the client as soon as they are made available by the LLM and service. Below the same decision prompt is executed. However, notice that chunks are streamed and can be read by the user as soon as they appear. "
   ]
  },
  {
   "cell_type": "code",
   "execution_count": 4,
   "metadata": {
    "dotnet_interactive": {
     "language": "csharp"
    },
    "polyglot_notebook": {
     "kernelName": "csharp"
    },
    "vscode": {
     "languageId": "polyglot-notebook"
    }
   },
   "outputs": [
    {
     "name": "stdout",
     "output_type": "stream",
     "text": [
      "Certainly! Decision-making is a critical skill in both personal and professional settings, and various frameworks can help improve the quality of these decisions by providing structured approaches. Here are some widely recognized decision frameworks:\n",
      "\n",
      "1. **SWOT Analysis:**\n",
      "   - **Strengths:** Identify internal advantages.\n",
      "   - **Weaknesses:** Recognize internal disadvantages.\n",
      "   - **Opportunities:** Consider external chances for success.\n",
      "   - **Threats:** Evaluate external challenges.\n",
      "\n",
      "2. **PEST Analysis:**\n",
      "   - **Political:** Analyze the impact of government policies.\n",
      "   - **Economic:** Examine economic factors like inflation, interest rates.\n",
      "   - **Social:** Look at social trends and behaviors.\n",
      "   - **Technological:** Consider technology advancements and impacts.\n",
      "\n",
      "3. **Decision Matrix (or Prioritization Matrix):**\n",
      "   - A table used to evaluate and prioritize options based on predefined criteria.\n",
      "   - Each option is scored, and weighted to derive a total score for comparison.\n",
      "\n",
      "4. **Cost-Benefit Analysis:**\n",
      "   - Weigh the total expected costs against the total expected benefits of one or more actions to choose the best or most profitable option.\n",
      "\n",
      "5. **Kepner-Tregoe Decision Analysis:**\n",
      "   - Specify decision criteria and classify them into \"Musts\" and \"Wants.\"\n",
      "   - Evaluate alternative actions against these criteria systematically.\n",
      "\n",
      "6. **Six Thinking Hats:**\n",
      "   - A strategy involving six different types of thinking (represented by six colored hats) to explore an issue from multiple perspectives.\n",
      "     - White (Facts), Red (Emotions), Black (Cautious), Yellow (Optimistic), Green (Creative), Blue (Process).\n",
      "\n",
      "7. **OODA Loop:**\n",
      "   - **Observe:** Gather information.\n",
      "   - **Orient:** Analyze the information for context and relevance.\n",
      "   - **Decide:** Make a decision based on observations and orientations.\n",
      "   - **Act:** Implement and observe results.\n",
      "\n",
      "8. **Pareto Analysis (80/20 Rule):**\n",
      "   - Focus on the 20% of causes that are responsible for 80% of the problem or outcome.\n",
      "   - Helps prioritize areas with the highest impact.\n",
      "\n",
      "9. **The Eisenhower Matrix:**\n",
      "   - Categorizes tasks into four quadrants to help prioritize based on urgency and importance:\n",
      "     - Important/Urgent\n",
      "     - Important/Not Urgent\n",
      "     - Not Important/Urgent\n",
      "     - Not Important/Not Urgent\n",
      "\n",
      "10. **Fishbone Diagram (Ishikawa or Cause-and-Effect Diagram):**\n",
      "   - Identifies many possible causes for an effect or problem and sorts ideas into useful categories.\n",
      "\n",
      "11. **Pros and Cons List:**\n",
      "   - Simple but effective framework where you list the advantages and disadvantages of each option to facilitate comparison.\n",
      "\n",
      "12. **VMOST Analysis:**\n",
      "   - **Vision:** Long-term goal.\n",
      "   - **Mission:** Purpose.\n",
      "   - **Objectives:** Specific targets.\n",
      "   - **Strategy:** Plan to meet objectives.\n",
      "   - **Tactics:** Steps to implement the strategy.\n",
      "\n",
      "13. **Impact/Effort Matrix:**\n",
      "   - Plot actions based on their potential impact and the effort required:\n",
      "     - Quick wins (high impact/low effort)\n",
      "     - Major projects (high impact/high effort)\n",
      "     - Fill-ins (low impact/low effort)\n",
      "     - Hard slogs (low impact/high effort)\n",
      "\n",
      "14. **Risk Analysis and Mitigation Framework:**\n",
      "   - Identify risks.\n",
      "   - Assess likelihood and impact.\n",
      "   - Develop strategies to mitigate risks.\n",
      "\n",
      "15. **PDCA Cycle (Plan-Do-Check-Act):**\n",
      "   - **Plan:** Identify objectives and processes.\n",
      "   - **Do:** Implement the plan.\n",
      "   - **Check:** Measure and monitor results.\n",
      "   - **Act:** Adjust processes for continuous improvement.\n",
      "\n",
      "Using these frameworks can enhance decision-making by providing clarity, structure, and systematic approaches to problem-solving."
     ]
    }
   ],
   "source": [
    "// Stream the chat completion response\n",
    "await foreach (var content in chatCompletionService.GetStreamingChatMessageContentsAsync(simpleDecisionPrompt))\n",
    "{\n",
    "    Console.Write(content);\n",
    "}"
   ]
  },
  {
   "cell_type": "markdown",
   "metadata": {},
   "source": [
    "### Step 4 - Execute a Semantic Kernel with Chat History\n",
    "\n",
    "Semantic Kernel has a ChatHistory object that can be used with the ChatCompletionService to provide historical chat context to the LLM. Notice that the ChatHistory object differentiates between the different types of chat messages:\n",
    "* System Message - System or MetaPrompt\n",
    "* User Message - A message from the user\n",
    "* Assistante Message - A message from the LLM\n",
    "\n",
    "This is a more sophisticated approach than passing chat history in a long dynamic string. ChatHistory objects can be serialized and persisted into databases as well."
   ]
  },
  {
   "cell_type": "code",
   "execution_count": 5,
   "metadata": {
    "dotnet_interactive": {
     "language": "csharp"
    },
    "polyglot_notebook": {
     "kernelName": "csharp"
    },
    "vscode": {
     "languageId": "polyglot-notebook"
    }
   },
   "outputs": [
    {
     "name": "stdout",
     "output_type": "stream",
     "text": [
      "Certainly! Decision-making frameworks can greatly enhance the quality and efficiency of decisions by offering structured approaches. Here are five decision frameworks:\n",
      "\n",
      "### 1. SWOT Analysis\n",
      "**Purpose**: Evaluate the Strengths, Weaknesses, Opportunities, and Threats related to a decision or a project.\n",
      "**Steps**:\n",
      "- **Strengths**: Identify internal attributes that are beneficial.\n",
      "- **Weaknesses**: Identify internal attributes that are harmful.\n",
      "- **Opportunities**: Identify external conditions that are beneficial.\n",
      "- **Threats**: Identify external conditions that could cause trouble.\n",
      "**Application**: Use this analysis to identify strategic options and areas requiring improvement.\n",
      "\n",
      "### 2. Decision Matrix (AKA Prioritization Matrix)\n",
      "**Purpose**: Evaluate and prioritize a list of options based on multiple criteria.\n",
      "**Steps**:\n",
      "- **List Options**: Write down all possible choices.\n",
      "- **Determine Criteria**: Identify the important factors for decision-making.\n",
      "- **Score Options**: Assign scores based on how each option meets each criterion.\n",
      "- **Weight Criteria**: Assign weights to each criterion based on importance.\n",
      "- **Calculate Totals**: Multiply the scores by the weights and sum them for each option.\n",
      "**Application**: Use this matrix to quantitatively assess and compare multiple options.\n",
      "\n",
      "### 3. Cost-Benefit Analysis (CBA)\n",
      "**Purpose**: Assess the financial implications by comparing the benefits and costs of a decision.\n",
      "**Steps**:\n",
      "- **Identify Costs and Benefits**: List all potential costs and benefits.\n",
      "- **Quantify**: Assign a monetary value to each cost and benefit as best as possible.\n",
      "- **Compare**: Subtract total costs from total benefits to estimate net gain or loss.\n",
      "- **Assess Feasibility**: Determine if the benefits outweigh the costs.\n",
      "**Application**: Use this analysis for financially driven decisions or projects.\n",
      "\n",
      "### 4. Six Thinking Hats\n",
      "**Purpose**: Evaluate a decision from multiple perspectives to enhance creativity and reduce bias.\n",
      "**Steps**:\n",
      "- **White Hat**: Focus on data and information.\n",
      "- **Red Hat**: Consider intuitions and emotions.\n",
      "- **Black Hat**: Identify potential problems and risks.\n",
      "- **Yellow Hat**: Identify potential benefits and optimistic viewpoints.\n",
      "- **Green Hat**: Think about creative solutions and new ideas.\n",
      "- **Blue Hat**: Manage the thinking process and ensure the use of all hats is structured.\n",
      "**Application**: Use this framework for comprehensive problem-solving and innovation.\n",
      "\n",
      "### 5. The OODA Loop\n",
      "**Purpose**: Make quick, effective decisions in rapidly changing environments.\n",
      "**Steps**:\n",
      "- **Observe**: Gather current data and information.\n",
      "- **Orient**: Analyze the data, considering various factors like culture, experience, and dynamics.\n",
      "- **Decide**: Select the best course of action based on the orientation phase.\n",
      "- **Act**: Implement the decision and review the outcome for the next loop.\n",
      "**Application**: Use this for dynamic and fast-paced situations, such as crisis management or competitive business environments.\n",
      "\n",
      "---\n",
      "\n",
      "**Choosing the Right Framework**:\n",
      "To decide which framework to use, consider the nature of the decision, the complexity of options, the importance of quantitative versus qualitative factors, and the dynamic of the environment you are operating in. Combining elements of multiple frameworks can also be beneficial for more robust decision-making."
     ]
    }
   ],
   "source": [
    "var systemPrompt = \"\"\"\n",
    "You are a decision intelligence assistant. \n",
    "Assist the user in exploring options, reasoning through decisions, problem-solving, and applying systems thinking to various scenarios. \n",
    "Provide structured, logical, and comprehensive advice.\n",
    "\"\"\";\n",
    "// Simple prompt to list 5 decision frameworks this GenAI LLM is familiar with\n",
    "var simpleDecisionPrompt = \"\"\"\n",
    "Provide five decision frameworks that can help improve the quality of decisions.\n",
    "\"\"\";\n",
    "\n",
    "var chatHistory = new ChatHistory();\n",
    "chatHistory.AddSystemMessage(systemPrompt);\n",
    "chatHistory.AddUserMessage(simpleDecisionPrompt);\n",
    "\n",
    "var chatResponse = string.Empty;\n",
    "await foreach (var content in chatCompletionService.GetStreamingChatMessageContentsAsync(chatHistory))\n",
    "{\n",
    "    chatResponse += content;\n",
    "    Console.Write(content);\n",
    "}\n",
    "chatHistory.AddAssistantMessage(chatResponse);"
   ]
  },
  {
   "cell_type": "markdown",
   "metadata": {},
   "source": [
    "### Step 5 - Using Semantic Kernel Chat History in Conversation\n",
    "\n",
    "With Semantic Kernel maintaining state with the ChatHistory object, a user can interact with the LLM in a natural way. Note the interaction below, where the user is asking which of the particular decision frameworks are best suited to purchase a car. Without the ChatHistory being passed along, the LLM would not have had the proper context to answer the question.\n",
    "\n",
    "> \"Price is what you pay. Value is what you get.\"  \n",
    ">\n",
    "> -- <cite>Warren Buffet (one of the most successful investors of all time)</cite>  "
   ]
  },
  {
   "cell_type": "code",
   "execution_count": 6,
   "metadata": {
    "dotnet_interactive": {
     "language": "csharp"
    },
    "polyglot_notebook": {
     "kernelName": "csharp"
    },
    "vscode": {
     "languageId": "polyglot-notebook"
    }
   },
   "outputs": [
    {
     "name": "stdout",
     "output_type": "stream",
     "text": [
      "For making a decision to purchase a car, the **Decision Matrix** (also known as the Prioritization Matrix) would be the most effective decision framework.\n",
      "\n",
      "### Decision Matrix for Car Purchase\n",
      "#### Steps\n",
      "1. **List Options**: Identify all the car models you are considering.\n",
      "2. **Determine Criteria**: Identify key factors that are important for your decision, such as:\n",
      "   - Price\n",
      "   - Fuel efficiency\n",
      "   - Maintenance cost\n",
      "   - Safety features\n",
      "   - Brand reputation\n",
      "   - Resale value\n",
      "   - Comfort and interior features\n",
      "3. **Score Options**: Rate each car based on how well it meets each criterion, typically on a scale (e.g., 1 to 10).\n",
      "4. **Weight Criteria**: Assign weights to each criterion based on how relevant or important each factor is to you (e.g., safety might be more important than minor interior features).\n",
      "5. **Calculate Totals**: Multiply the scores by the weights and sum them up for each car option.\n",
      "\n",
      "This framework offers the following advantages for a car purchase:\n",
      "- **Comprehensive Evaluation**: It allows you to systematically compare different car models based on multiple important factors.\n",
      "- **Quantitative Assessment**: Assigning scores and weights helps in making a more objective decision rather than relying solely on gut feeling.\n",
      "- **Customization**: You can tailor the criteria and weights to match your specific needs and preferences.\n",
      "\n",
      "By using a Decision Matrix, you can more effectively prioritize and make a well-rounded, informed decision on which car to purchase, balancing all important aspects according to your personal priorities."
     ]
    }
   ],
   "source": [
    "// Simple prompt that asks a follow-up question about the purchase of a car\n",
    "// Note: No reference is made to what previous frameworks were listed\n",
    "var simpleDecisionPromptFollowup = \"\"\"\n",
    "Which of these 5 decision frameworks would work best for making a decision to purchase a car. \n",
    "Select only the single best one.\n",
    "\"\"\";\n",
    "\n",
    "// Add User message to the chat history\n",
    "chatHistory.AddUserMessage(simpleDecisionPromptFollowup);\n",
    "\n",
    "var chatResponse = string.Empty;\n",
    "await foreach (var content in chatCompletionService.GetStreamingChatMessageContentsAsync(chatHistory))\n",
    "{\n",
    "    chatResponse += content;\n",
    "    Console.Write(content);\n",
    "}\n",
    "\n",
    "// Add Assistant message to the chat history\n",
    "chatHistory.AddAssistantMessage(chatResponse);"
   ]
  },
  {
   "cell_type": "markdown",
   "metadata": {},
   "source": [
    "> \"Take time to deliberate, but when the time for action comes, stop thinking and go in.\"\n",
    ">\n",
    "> -- <cite>Napoleon Bornaparte (French Emporer and brilliant military mind)</cite>  "
   ]
  },
  {
   "cell_type": "code",
   "execution_count": 7,
   "metadata": {
    "dotnet_interactive": {
     "language": "csharp"
    },
    "polyglot_notebook": {
     "kernelName": "csharp"
    },
    "vscode": {
     "languageId": "polyglot-notebook"
    }
   },
   "outputs": [
    {
     "name": "stdout",
     "output_type": "stream",
     "text": [
      "The **OODA Loop** is the decision framework from the list that is most commonly associated with and used by the military intelligence community. \n",
      "\n",
      "### The OODA Loop\n",
      "#### Overview:\n",
      "- **Developed By**: Colonel John Boyd, a United States Air Force military strategist.\n",
      "- **Purpose**: To make rapid and effective decisions in combat and other dynamic environments by iterating through a cycle of Observing, Orienting, Deciding, and Acting.\n",
      "\n",
      "#### Steps:\n",
      "1. **Observe**: Gather current data and information about the environment, including enemy actions, terrain, and other critical factors.\n",
      "2. **Orient**: Analyze the gathered data to generate situational awareness, taking into account the strategic context, cultural influences, and experience.\n",
      "3. **Decide**: Based on the analysis, select the best course of action from the available options.\n",
      "4. **Act**: Implement the decision and immediately put the plan into action. Evaluate the results and feedback to inform the next cycle.\n",
      "\n",
      "#### Rationale for Military Use:\n",
      "- **Speed and Flexibility**: The OODA Loop helps military units respond quickly and effectively to rapidly changing situations, which is crucial in combat.\n",
      "- **Continuous Improvement**: The loop is iterative, allowing for continuous refinement of strategies based on real-time feedback.\n",
      "- **Competitive Advantage**: By completing the OODA Loop faster than an opponent, military forces can gain and maintain a strategic advantage.\n",
      "\n",
      "#### Applications:\n",
      "- **Combat Situations**: Rapidly adapting to enemy movements and tactics.\n",
      "- **Strategic Planning**: Developing and updating military strategies based on evolving intelligence.\n",
      "- **Crisis Management**: Responding to unexpected events or threats with agility and precision.\n",
      "\n",
      "The OODA Loop's emphasis on adaptability, speed, and iterative feedback makes it particularly suitable for the dynamic and high-stakes environment of military operations and intelligence."
     ]
    }
   ],
   "source": [
    "var simpleDecisionPromptFollowupPartTwo = \"\"\"\n",
    "Which of these 5 decision frameworks listed above are used by the military intelligence community?\n",
    "\"\"\";\n",
    "\n",
    "// Add User message to the chat history\n",
    "chatHistory.AddUserMessage(simpleDecisionPromptFollowupPartTwo);\n",
    "\n",
    "var chatResponse = string.Empty;\n",
    "await foreach (var content in chatCompletionService.GetStreamingChatMessageContentsAsync(chatHistory))\n",
    "{\n",
    "    chatResponse += content;\n",
    "    Console.Write(content);\n",
    "}\n",
    "\n",
    "// Add Assistant message to the chat history\n",
    "chatHistory.AddAssistantMessage(chatResponse);"
   ]
  },
  {
   "cell_type": "markdown",
   "metadata": {},
   "source": [
    "### Step 6 - Semantic Kernel inspecting Chat History \n",
    "\n",
    "The Semantic Kernel Chat History is a transparent object that can be inspected and written out. In fact, the ChatHistory object can be manipulated to replay chats from middle interactions to simulate different outcomes.\n",
    "\n",
    "Execute the cell below to write out the Semantic Kernel Chat History of this chat."
   ]
  },
  {
   "cell_type": "code",
   "execution_count": 8,
   "metadata": {
    "dotnet_interactive": {
     "language": "csharp"
    },
    "polyglot_notebook": {
     "kernelName": "csharp"
    },
    "vscode": {
     "languageId": "polyglot-notebook"
    }
   },
   "outputs": [
    {
     "name": "stdout",
     "output_type": "stream",
     "text": [
      "Number of chat interactions: 7\n",
      "# system: You are a decision intelligence assistant. \n",
      "Assist the user in exploring options, reasoning through decisions, problem-solving, and applying systems thinking to various scenarios. \n",
      "Provide structured, logical, and comprehensive advice.\n",
      "# user: Provide five decision frameworks that can help improve the quality of decisions.\n",
      "# assistant: Certainly! Decision-making frameworks can greatly enhance the quality and efficiency of decisions by offering structured approaches. Here are five decision frameworks:\n",
      "\n",
      "### 1. SWOT Analysis\n",
      "**Purpose**: Evaluate the Strengths, Weaknesses, Opportunities, and Threats related to a decision or a project.\n",
      "**Steps**:\n",
      "- **Strengths**: Identify internal attributes that are beneficial.\n",
      "- **Weaknesses**: Identify internal attributes that are harmful.\n",
      "- **Opportunities**: Identify external conditions that are beneficial.\n",
      "- **Threats**: Identify external conditions that could cause trouble.\n",
      "**Application**: Use this analysis to identify strategic options and areas requiring improvement.\n",
      "\n",
      "### 2. Decision Matrix (AKA Prioritization Matrix)\n",
      "**Purpose**: Evaluate and prioritize a list of options based on multiple criteria.\n",
      "**Steps**:\n",
      "- **List Options**: Write down all possible choices.\n",
      "- **Determine Criteria**: Identify the important factors for decision-making.\n",
      "- **Score Options**: Assign scores based on how each option meets each criterion.\n",
      "- **Weight Criteria**: Assign weights to each criterion based on importance.\n",
      "- **Calculate Totals**: Multiply the scores by the weights and sum them for each option.\n",
      "**Application**: Use this matrix to quantitatively assess and compare multiple options.\n",
      "\n",
      "### 3. Cost-Benefit Analysis (CBA)\n",
      "**Purpose**: Assess the financial implications by comparing the benefits and costs of a decision.\n",
      "**Steps**:\n",
      "- **Identify Costs and Benefits**: List all potential costs and benefits.\n",
      "- **Quantify**: Assign a monetary value to each cost and benefit as best as possible.\n",
      "- **Compare**: Subtract total costs from total benefits to estimate net gain or loss.\n",
      "- **Assess Feasibility**: Determine if the benefits outweigh the costs.\n",
      "**Application**: Use this analysis for financially driven decisions or projects.\n",
      "\n",
      "### 4. Six Thinking Hats\n",
      "**Purpose**: Evaluate a decision from multiple perspectives to enhance creativity and reduce bias.\n",
      "**Steps**:\n",
      "- **White Hat**: Focus on data and information.\n",
      "- **Red Hat**: Consider intuitions and emotions.\n",
      "- **Black Hat**: Identify potential problems and risks.\n",
      "- **Yellow Hat**: Identify potential benefits and optimistic viewpoints.\n",
      "- **Green Hat**: Think about creative solutions and new ideas.\n",
      "- **Blue Hat**: Manage the thinking process and ensure the use of all hats is structured.\n",
      "**Application**: Use this framework for comprehensive problem-solving and innovation.\n",
      "\n",
      "### 5. The OODA Loop\n",
      "**Purpose**: Make quick, effective decisions in rapidly changing environments.\n",
      "**Steps**:\n",
      "- **Observe**: Gather current data and information.\n",
      "- **Orient**: Analyze the data, considering various factors like culture, experience, and dynamics.\n",
      "- **Decide**: Select the best course of action based on the orientation phase.\n",
      "- **Act**: Implement the decision and review the outcome for the next loop.\n",
      "**Application**: Use this for dynamic and fast-paced situations, such as crisis management or competitive business environments.\n",
      "\n",
      "---\n",
      "\n",
      "**Choosing the Right Framework**:\n",
      "To decide which framework to use, consider the nature of the decision, the complexity of options, the importance of quantitative versus qualitative factors, and the dynamic of the environment you are operating in. Combining elements of multiple frameworks can also be beneficial for more robust decision-making.\n",
      "# user: Which of these 5 decision frameworks would work best for making a decision to purchase a car. \n",
      "Select only the single best one.\n",
      "# assistant: For making a decision to purchase a car, the **Decision Matrix** (also known as the Prioritization Matrix) would be the most effective decision framework.\n",
      "\n",
      "### Decision Matrix for Car Purchase\n",
      "#### Steps\n",
      "1. **List Options**: Identify all the car models you are considering.\n",
      "2. **Determine Criteria**: Identify key factors that are important for your decision, such as:\n",
      "   - Price\n",
      "   - Fuel efficiency\n",
      "   - Maintenance cost\n",
      "   - Safety features\n",
      "   - Brand reputation\n",
      "   - Resale value\n",
      "   - Comfort and interior features\n",
      "3. **Score Options**: Rate each car based on how well it meets each criterion, typically on a scale (e.g., 1 to 10).\n",
      "4. **Weight Criteria**: Assign weights to each criterion based on how relevant or important each factor is to you (e.g., safety might be more important than minor interior features).\n",
      "5. **Calculate Totals**: Multiply the scores by the weights and sum them up for each car option.\n",
      "\n",
      "This framework offers the following advantages for a car purchase:\n",
      "- **Comprehensive Evaluation**: It allows you to systematically compare different car models based on multiple important factors.\n",
      "- **Quantitative Assessment**: Assigning scores and weights helps in making a more objective decision rather than relying solely on gut feeling.\n",
      "- **Customization**: You can tailor the criteria and weights to match your specific needs and preferences.\n",
      "\n",
      "By using a Decision Matrix, you can more effectively prioritize and make a well-rounded, informed decision on which car to purchase, balancing all important aspects according to your personal priorities.\n",
      "# user: Which of these 5 decision frameworks listed above are used by the military intelligence community?\n",
      "# assistant: The **OODA Loop** is the decision framework from the list that is most commonly associated with and used by the military intelligence community. \n",
      "\n",
      "### The OODA Loop\n",
      "#### Overview:\n",
      "- **Developed By**: Colonel John Boyd, a United States Air Force military strategist.\n",
      "- **Purpose**: To make rapid and effective decisions in combat and other dynamic environments by iterating through a cycle of Observing, Orienting, Deciding, and Acting.\n",
      "\n",
      "#### Steps:\n",
      "1. **Observe**: Gather current data and information about the environment, including enemy actions, terrain, and other critical factors.\n",
      "2. **Orient**: Analyze the gathered data to generate situational awareness, taking into account the strategic context, cultural influences, and experience.\n",
      "3. **Decide**: Based on the analysis, select the best course of action from the available options.\n",
      "4. **Act**: Implement the decision and immediately put the plan into action. Evaluate the results and feedback to inform the next cycle.\n",
      "\n",
      "#### Rationale for Military Use:\n",
      "- **Speed and Flexibility**: The OODA Loop helps military units respond quickly and effectively to rapidly changing situations, which is crucial in combat.\n",
      "- **Continuous Improvement**: The loop is iterative, allowing for continuous refinement of strategies based on real-time feedback.\n",
      "- **Competitive Advantage**: By completing the OODA Loop faster than an opponent, military forces can gain and maintain a strategic advantage.\n",
      "\n",
      "#### Applications:\n",
      "- **Combat Situations**: Rapidly adapting to enemy movements and tactics.\n",
      "- **Strategic Planning**: Developing and updating military strategies based on evolving intelligence.\n",
      "- **Crisis Management**: Responding to unexpected events or threats with agility and precision.\n",
      "\n",
      "The OODA Loop's emphasis on adaptability, speed, and iterative feedback makes it particularly suitable for the dynamic and high-stakes environment of military operations and intelligence.\n"
     ]
    }
   ],
   "source": [
    "// Print the number of chat interactions and the chat history (turns)\n",
    "Console.WriteLine(\"Number of chat interactions: \" + chatHistory.Count());\n",
    "\n",
    "foreach (var message in chatHistory)\n",
    "{\n",
    "    Console.WriteLine($\"# {message.Role}: {message.Content}\");\n",
    "}"
   ]
  }
 ],
 "metadata": {
  "kernelspec": {
   "display_name": ".NET (C#)",
   "language": "C#",
   "name": ".net-csharp"
  },
  "language_info": {
   "name": "csharp"
  },
  "polyglot_notebook": {
   "kernelInfo": {
    "defaultKernelName": "csharp",
    "items": [
     {
      "aliases": [],
      "name": "csharp"
     }
    ]
   }
  }
 },
 "nbformat": 4,
 "nbformat_minor": 2
}
