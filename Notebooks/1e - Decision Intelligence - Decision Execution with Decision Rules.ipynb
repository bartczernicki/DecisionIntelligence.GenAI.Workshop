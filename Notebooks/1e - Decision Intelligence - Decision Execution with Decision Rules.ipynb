{
 "cells": [
  {
   "cell_type": "markdown",
   "metadata": {},
   "source": [
    "<img style=\"float: left;\" width =\"40px\" src=\"https://raw.githubusercontent.com/bartczernicki/DecisionIntelligence.GenAI.Workshop/main/Images/SemanticKernelLogo.png\">\n",
    "\n",
    "## Decision Intelligence - Decision Execution with Decision Rules  "
   ]
  },
  {
   "cell_type": "markdown",
   "metadata": {},
   "source": [
    "<img style=\"display: block; margin: auto;\" width =\"700px\" src=\"https://raw.githubusercontent.com/bartczernicki/DecisionIntelligence.GenAI.Workshop/main/Images/DecisionIntelligence-DecisionExecution.png\">"
   ]
  },
  {
   "cell_type": "markdown",
   "metadata": {},
   "source": [
    "> \"You have to have models in your head. And you’ve got to array your experience – both vicarious and direct – on this latticework of models. You may have noticed students who just try to remember and pound back what is remembered. Well, they fail in school and in life. You’ve got to hang experience on a latticework of models in your head.\"\n",
    ">\n",
    "> -- <cite>Charlie Munger (American businessman, best known as the vice chairman of Berkshire Hathaway)</cite>  "
   ]
  },
  {
   "cell_type": "markdown",
   "metadata": {},
   "source": [
    "I personally enjoy the quote above from Charlie Munger, as it highlights that intuition (experience) is simply not enough to make decisions. What is really needed is a \"latticework\" of models in your head. What is meant by \"models in your head\"? Charlie Munger is not advocating about performing calculus or linear algebra in your head. Instead he advocates for the use of simple techniques, mental models, and rules of thumb that can be combined to enhance decision-making quality and quantity. By applying these tools, you can develop the ability to tackle and solve a wider range of problems, leading to more effective and efficient decision-making.  \n",
    "\n",
    "In the next sections the following decision rules  with scenarios will be explored:\n",
    "* Generic Decision Rules (apply to any type of problem)  \n",
    "* Domain Specific Rules (apply to specific domains / industries)  \n",
    "* Simple Decision Frameworks for Custom Decisions  "
   ]
  },
  {
   "cell_type": "markdown",
   "metadata": {},
   "source": [
    "### Simple Decision Rules - Generic "
   ]
  },
  {
   "cell_type": "markdown",
   "metadata": {},
   "source": [
    "Below is a list of simple decision rules that can be used for quick decision-making. Notice **these rules are generic and can be applied to many different domains, industries, fields** etc. For example, the generic \"10,000 Hour Rule\" which suggests in order to become a master in any field requires 10,000 hours of study, practice or hands-on experience. This rule essentially can be applied to any practice. If you want to master software development, cooking, basketball, playing the piano etc. this rule provides you a rough time guideline to achieve this goal. Is this rule perfect? Of course not, some people may take a little less time, some might need more than 10,000 hours and some may never achieve \"mastery\" no matter how much they practice. However, it is a great guide of the required time investment that allows you to plan your decisions accordingly to achieve this goal. \n",
    "\n",
    "There are many generic decision rules beyond what is illustrated in the table below. **Generative AI can be instructed with a collection of these decision rules, how to apply them for decision-making. This means the burden of learning and memorizing all of these rules is on the GenAI assistant rather than the human!**   "
   ]
  },
  {
   "cell_type": "markdown",
   "metadata": {},
   "source": [
    "| Generic - Simple Decision Rule | Description |\n",
    "| :--------------------- | :------------- | \n",
    "| 10,000 Hour Rule | A concept popularized by Malcolm Gladwell in his book *\"Outliers: The Story of Success\".* The rule suggests that achieving mastery in any field (industry) requires approximately 10,000 hours of deliberate practice. |  \n",
    "| Ben Franklin's Pro & Con List | Invented by Ben Franklin, this simple decision-making process suggests a user make a list Pro and Con for a binary decision, sort each side by importance, cross off equal important pros vs cons. Whichever side (Pro or Con) has more items, then make that decision. |  \n",
    "| 30 Minute Rule | Described by Ramit Sethi, the 30 minute emphasizes the importance of doing even a small amount of research to gain an advantage. For example, becoming familiar with the benefits of various credit cards, can make a significant difference in the outcome when selecting the right credit card in the long-term.  |  \n",
    "| Price's Law | In any given domain (industry), half of the work is done by the square root of the total number of people who participate in that work. For example, if there are 100 people working on a project, roughly 10 of them will be responsible for half of the results. |  \n",
    "| Rule of Succession | Principle from probability theory, specifically Bayesian probability, that provides a method for predicting the likelihood of future events based on past observations. For example, can solve the question \"What is the probability of the sun rising tomorrow?\" |  \n",
    "| Ludic Fallacy | The term \"ludic\" comes from the Latin word \"ludus,\" which means \"game.\" The fallacy refers to the misguided belief that the structured and simplified probabilities and models used in games and formal settings can be applied directly to understand real-life complexities and uncertainties. |  \n",
    "| 90% Rule | Only persue decision paths that are a \"Hell Yeah!\". If it is immediately apparent that the path forward offers the most chance of success, then this is the decision that should be selected. Can be quantified as the 90% rule, as only select decisions that have a 90% chance of succeedding. |  \n",
    "| Small Bets | This rule was popularized by Nicholas Taleb in his book *\"Antifragile: Things That Gain from Disorder\"*. It suggests to make small, reversible bets to test ideas and strategies. This allows you to learn and adapt without risking catastrophic losses. |  \n",
    "| Sample of One | This decision tactic recommends to consider even the smallest sample sizes, even a sample of one. Applied correctly, the \"sample of one\" rule statistically shows that the first influence or being able to \"peek\" at just one sample can provide a decision-making advantage. |  \n",
    "| Exploration vs Exploitation | Provides a trade-off between two competing strategies. Exploration involves trying new actions to discover potentially better options, while exploitation uses current knowledge to maximize immediate rewards. The key trade-off is between gaining new information (exploration) and optimizing based on known information (exploitation). |  "
   ]
  },
  {
   "cell_type": "markdown",
   "metadata": {},
   "source": [
    "#### Simple Decision Rules - Scenario: Exploration vs Exploitation "
   ]
  },
  {
   "cell_type": "markdown",
   "metadata": {},
   "source": [
    "<img style=\"float: left;padding-right: 25px\" width =\"400px\" width =\"450px\" src=\"https://raw.githubusercontent.com/bartczernicki/DecisionIntelligence.GenAI.Workshop/main/Images/DinnerDecision.webp\">\n",
    "You find yourself at dinner at a nice restaurant that you have dined several times before. The waiter presents the dinner menu and now is the time to decide on what you will select for your meal & drinks. This is a decision scenario that you have lilely come across many times in your life. Furthermore, while looking at the menu you have probably asked yourself this question: \n",
    "\n",
    "\"*Should I try something new, or should I select a meal that I had before and is likely to be great?*\".  \n",
    "  \n",
    "**If you have experienced this, you have inadvertently used the Exploration vs Exploitation simple decision rule!** This specific rule provides a trade-off between two competing strategies. It's trade-offs are summarized in the table below. What is interesting about this rule is that you optimize this decision-rule even further in a couple of ways.\n",
    "1. You can extend this rule by setting a exploration vs exploitation coefficient. What this basically means is that you can quantify how much you woud like to explore versus exploit. Going back to the dinner restaurant scenario; you may make a decision that 75% of the time you will go with a proven dinner option, but you also want to leave some exploitation to try new things and do this 25% of the time. Adding this quantified rigor for a dinner decision is probably overkill. However, for decisions of higher importance, this optimization can be highly beneficial. For example, if you have an important task that you need to give to your team; you may select your proven team members for the task but also give others a career development opportunity to newer employees occasionally.  \n",
    "2. Additional stastical analysis can be applied to this simple rule to track your exploits and your exploration. This allows you to optimize your decisions with actual statistics and math. **For example, you may have decided to \"try something new\" of the menu 5 times and the experience was not as good as the proven items. When should you stop?** This added statistical analysis can provide a probability that exploitation might be sub-optimal and should be curtailed. This optimization of the exploration vs exploitation rule is the foundation of [**Thompson Sampling**](https://en.wikipedia.org/wiki/Thompson_sampling), which can be used to optimize many scenerios like the [**Multi-Armed Bandit Gambling Problem**](https://en.wikipedia.org/wiki/Multi-armed_bandit).  "
   ]
  },
  {
   "cell_type": "markdown",
   "metadata": {},
   "source": [
    "| | **Exploration** | **Exploitation** |\n",
    "| :--------------------- | :---------------- | :------------- | \n",
    "| **Definition** | Exploration involves trying out new actions or strategies to discover their potential benefits. | Exploitation involves choosing the best-known action or strategy to maximize immediate rewards.  | \n",
    "| **Purpose** | The main goal is to gather information about unknown options that could lead to better results. | The main goal is to utilize the current or past knowledge to achieve the best possible decision outcome.  | \n",
    "| **Example** | In a restaurant setting, this would mean trying out different dishes to find the best one. | In a restaurant setting, this would mean always ordering the dish you already know and love.  | \n",
    "| **Pros** | Can lead to discovering superior options. Reduces the risk of missing out on better alternatives. | Maximizes immediate rewards based on known information. Lower risk and more predictable outcomes.  | \n",
    "| **Cons** | Trying new options can be expensive or time-consuming without guaranteed benefits. Unknown actions may lead to unfavorable outcomes, increasing overall risk. Time and resources spent exploring could have been used to exploit known, rewarding options. | Focusing solely on known options can prevent the discovery of potentially superior alternatives. Over-reliance on current knowledge can lead to complacency and lack of innovation. Known options may yield decreasing rewards over time as conditions change or options become suboptimal.  | "
   ]
  },
  {
   "cell_type": "markdown",
   "metadata": {},
   "source": [
    "#### Simple Decision Rules - Scenario: Optimize Sales Performance with Price's Law  "
   ]
  },
  {
   "cell_type": "markdown",
   "metadata": {},
   "source": [
    "<img width =\"700px\" src=\"https://raw.githubusercontent.com/bartczernicki/Articles/main/20230129-MeasuringSalesPerformanceUsingSimpleStatisticalModels/Image-SalesPricesLaw.png\">"
   ]
  },
  {
   "cell_type": "markdown",
   "metadata": {},
   "source": [
    "Measuring sales performance is a crucial aspect of running a successful business. Accurately tracking and analyzing sales data helps companies understand their strengths and weaknesses, perform forecasts, identify trends, and make informed decisions that drive growth. \n",
    "\n",
    "[**Price's Law**](https://salesmetry.com/blog/2021/01/22/prices-law-competence-is-linear-incompetence-is-exponential/) is a statistical principle that describes the distribution of productivity in organizations. It states that a small proportion of employees will produce a disproportionately large amount of output. In the context of sales performance, this law suggests that a small number of salespeople will be responsible for a significant portion of total sales. According to **Price's Law**, approximately 50% of the total output of a sales team will be generated by the square root of the total number of employees in the team. For example, if a sales team has 100 members, approximately 10 of them will generate 50% of the total sales. Conversely, if a sales team is large 10,000 about 100 salespeople will account for 50% of the sales outcomes. This means that **Price's Law** estimates overall top performance drops as the size of the sales team increases! To state this another way:  \n",
    "- In a sales team consisting of 100 sales members, 10 top performers will account for 50% of outcome; 10% of the sale force are top performers.\n",
    "- In a sales team consisting of 1,000 sales members, 32 top performers will account for 50% of outcome; 3.2% of the sale force are top performers.\n",
    "- In a sales team consisting of 10,000 sales members, 100 top performers will account for 50% of outcome; 1% of the sale force are top performers!\n",
    "  \n",
    "  \n",
    "> \"As your company grows, incompetence grows exponentially and competence grows linearly.\"\n",
    ">\n",
    "> -- <cite>Jordan Peterson (Canadian psychologist, professor, and author known for his work in clinical psychology)</cite> \n",
    "\n",
    "Basically, with a larger the sales team structure, less of them (as a percentage) are contributing to the overall sales success. **Price's Law** is one of the core reasons enterprise organizations split up their sales teams into various sales areas. For example, you may have a sales team focused on various technology domains, geographical regions or even industry verticals. This allows multiple top-performing teams to emerge across various sub-sales areas. \n",
    "\n",
    "Another quick way to operationalize **Price's Law** for sales performance is to use it to understand that a sales organization will naturally skew sales outcomes to the top performers. This is attributed to the nature of how sales accounts are allocated, the manifestation of \"luck versus skill\" and other conventions that govern sales. Furthermore, this principle has important implications for sales performance management. By understanding **Price's Law**, sales managers can focus their efforts on identifying and supporting the top-performing salespeople, who are likely to have the greatest impact on sales results. Additionally, **Price's Law** can be used to identify areas for improvement in sales performance. For example, if a large portion of sales are generated by a small number of salespeople, the manager may focus on developing and implementing training programs to improve the performance of the rest of the team.\n",
    "\n",
    "It is important to note that while [**Price's Law**](https://salesmetry.com/blog/2021/01/22/prices-law-competence-is-linear-incompetence-is-exponential/) can provide useful insights into sales performance, it's a statistical principle and should not be used as a rigid rule or the sole measure of sales performance. Other factors, such as market conditions, customer behavior, and product features, can also impact sales results and should be considered in sales performance evaluations. For more information, please consider watching this [**video presentation on Price's Law**](https://www.youtube.com/watch?v=8z3OZ7QuJE0).\n",
    "\n",
    "Full Medium article: https://medium.com/@bartczernicki/measuring-sales-performance-using-simple-statistical-models-6b995f088f99 "
   ]
  },
  {
   "cell_type": "markdown",
   "metadata": {},
   "source": [
    "### Simple Decision Rules - Domain (Industry) Specific"
   ]
  },
  {
   "cell_type": "markdown",
   "metadata": {},
   "source": [
    "There have been hundreds of simple decision rules created that are specific to various domains (industries). These domain rules can be more precise than generic rules as they specifically have been crafted on past domain (industry) historical patterns. Almost every domain (industry) has created \"rules of thumb\" for a variety of reasons to help people arrive at conclusions rapidly with little effort.\n",
    "\n",
    "Some potential concerns you might be thinking rather than applying these rules. \n",
    "* \"Can't one just calculate their calorie defecit instead of using the 10,000 step rule?\" \n",
    "* \"Why not just hire a professional financial advisor rather than look at a simple rule of 4%?\"  \n",
    "\n",
    "Those objects are not looking at the purpose of these simple domain rules. These rules allow for quick guidance, recommendations without having to perform much calculation. For example, a nurtionist may recommend exercises for you that optimize healthy weight management. However, for days that you just want to ensure you are active (decide to take a walk at lunch, decide to take the stairs) a simple domain-specific rule like the 10,000 step rule might be quite handy paired with a fitness tracker.  \n",
    "\n",
    "Notice the variety of domain (industry) specific rules below that encompasses a great variety of domains from fitness, finance, entertainment. Keeping track of all these domain specific rules is unfeasable. However, it is quite possible for a Generative AI system to gather these rules and have them available as tools for decison-making. Furthermore, these rules can easily be applied to decision-making with Generative AI as the GenAI models are either familiar with the rule already or the simple domain specific rule can be described to aid the decision-making process. "
   ]
  },
  {
   "cell_type": "markdown",
   "metadata": {},
   "source": [
    "| Domain (Industry)  | Simple Decision Rule | Description |\n",
    "| :--------------------- | :---------------- | :------------- | \n",
    "| Fitness | 10,000 Step Rule | A fitness rule that recommends 10,000 steps for a goal for a healthy and active day. This rule is popularized with fitness counters and smart watches, where simple step activity goals are recommended to the user.   |  \n",
    "| Entertainment (Movies) | Box Office 2.5x Rule | A general rule that a movie needs to make 2.5x it's movie budget in order to break even. This rule includes estimates of marketing and other production costs. For example, if a movie cost 100 million dollars, in order to break even it would need to bring in 250 million from the box office alone.  |  \n",
    "| Wealth Management | Rule of 4% | The 4% Rule is a guideline used in personal finance and retirement planning to help determine the amount of money one can safely withdraw from their retirement savings each year without running out of money over the course of a typical retirement. For example, a couple retiring with $1 million in savings will have 4% or $40,000/year they can use during their retirement. |  \n",
    "| Car Onwership | 50% Rule | According to this rule, if the cost of repairing your car exceeds 50% of the car's current market value, it might be more practical to replace the car rather than invest in expensive repairs. |  \n",
    "| Economics | Scholte's Revenue Fallacy | A concept in economics that highlights a common misunderstanding about the relationship between revenue and costs in business operations. This fallacy occurs when business owners or managers mistakenly believe that simply increasing revenue will automatically lead to higher profits without considering the associated costs and the impact on overall profitability. |  \n",
    "| Business Strategy | SMART Goals | Optimize the number of corporate goals to a manageable number, such as 3-5 major goals per year. This ensures that the organization can maintain focus and allocate resources effectively without being overwhelmed.   |  \n",
    "| Relationships | 5:1 Ratio | Also known as \"Gottman's Rule of Five\", the rule states for every negative interaction (argument, criticism, etc.) in a marriage, there needs to be at least five positive interactions (loving words, gestures, intimacy, etc.) to maintain a strong and healthy relationship. |  "
   ]
  },
  {
   "cell_type": "markdown",
   "metadata": {},
   "source": [
    "### Simple Decision Rules - Use Custom Data for Customized Frameworks"
   ]
  },
  {
   "cell_type": "markdown",
   "metadata": {},
   "source": [
    "In many cases, a generic decision rule or a simple domain rule may not exist or it may not be a good fit for the decision you are considering. There are simple frameworks that exist that you can work out using simple math processes to arrive at a decision recommendation. Two potential frameworks are listed below that allow a decision-maker to bring a small curated data set and apply the selected process. These frameworks are ideal when you have a small data set that can be processed by a spreadsheet software (Excel) or even in some cases by hand.  "
   ]
  },
  {
   "cell_type": "markdown",
   "metadata": {},
   "source": [
    "| Decision Process | Description |\n",
    "| :--------------------- | :------------- | \n",
    "| Analytical Hierarchy Process (AHP) | The Analytical Hierarchy Process helps making complex decisions by breaking them down into simpler, more manageable parts. AHP involves defining the decision problem and setting a clear goal. The problem is structured into a hierarchy consisting of the overall goal, the criteria for making the decision, and the possible alternatives. |  \n",
    "| Linear Model (Russo) | In the Russo Linear Model, the decision-making process involves identifying the most important criteria relevant to the decision at hand. These criteria are then assigned weights based on their relative importance. Each alternative is evaluated against these criteria, and scores are assigned accordingly. |  \n",
    "| Probabilistic Decision Trees | A graphical representation of a limited amount of decision alternatives with their probabilities can illustrate the optimized payoff or maximum risk with each decision path. | \n",
    "| Hypotheses Testing | Hypothesis testing is a statistical method used to make decisions based on data analysis. It involves formulating a hypothesis, which is a claim or assumption about a population parameter. This can help make decisions by assessing the strength of evidence against the null hypothesis (claim). | "
   ]
  },
  {
   "cell_type": "markdown",
   "metadata": {},
   "source": [
    "There are much more complex statistical and machine learning techniques that can scale to thousands, millions or even billions of data points. In order to create decision rules with machine learning, a technique like supervised learning can be used. Supervised learning is when you have a set of data points/inputs paired with decision outcomes. Those can be sent to a statistical or machine learning algorithm that learns the data to outcome interactions using sophisticed math & statistical algorithms. The output of that learning process is a \"model\". This model (specific to your decision use-case) can take new data points for a decision and output predictions (probabilities) or decision recommendations.  \n",
    "\n",
    "In this workshop you will see examples machine learing models being used as agents that help Generative AI arrive at decision recommendations. This is a powerful technique to take advantage of existing or new investments in Machine Learning and pair them with Generative AI innovations.  "
   ]
  },
  {
   "cell_type": "markdown",
   "metadata": {},
   "source": [
    "### Simple Decision Rules - Materials to Deepen Your Understanding"
   ]
  },
  {
   "cell_type": "markdown",
   "metadata": {},
   "source": [
    "<img style=\"float: right;padding-left: 25px; padding-right: 25px;\" width =\"200px\" src=\"https://m.media-amazon.com/images/I/91lYcUJ8JsL._SL1500_.jpg\">\n",
    "\n",
    "[**\"Outliers: The Story of Success\"**](https://www.amazon.com/Outliers-Story-Success-Malcolm-Gladwell/dp/0316017930/) Malcolm Gladwell explores how success is shaped by a combination of effort, timing, and external factors. The 10,000-hour rule is a key heuristic, suggesting mastery requires around 10,000 hours of focused practice. Gladwell argues that success also depends on timing, cultural context, and opportunities, which play crucial roles in decision-making. Other decision heuristics include recognizing patterns of success influenced by environment and leveraging early advantages, illustrating that success is not solely based on individual effort but on how well one navigates opportunities.  \n",
    "\n",
    "Example decision frameworks introduced in this book:  \n",
    "* 10,000-Hour Rule: Mastery of any skill requires approximately 10,000 hours of dedicated practice. This heuristic highlights the importance of consistent effort over time.  \n",
    "* Timing and Opportunity: Success often hinges on being in the right place at the right time. Decisions can be guided by seizing opportunities that arise from specific historical or social contexts (e.g., Bill Gates and access to early computers).\n",
    "* Cultural Legacy: The influence of cultural background on behavior and decision-making. People often inherit certain decision-making patterns or advantages based on cultural norms (e.g., rice farming cultures fostering hard work and precision.  \n",
    "* Accumulated Advantages (Matthew Effect): Small initial advantages can compound over time, leading to greater opportunities. Decisions early in life, like school placements or sports, can have long-term effects on success.\n",
    "* Threshold Effect: After a certain point, additional talent or effort yields diminishing returns. This heuristic suggests that decisions should prioritize hitting essential thresholds rather than overemphasizing perfection.\n",
    "* Practical Intelligence: This involves knowing how to navigate social situations and make smart, adaptive decisions based on context, which can be as important as raw intellect.  \n"
   ]
  },
  {
   "cell_type": "markdown",
   "metadata": {},
   "source": [
    "<img style=\"float: left;padding-left: 25px; padding-right: 25px;\" width =\"200px\" src=\"https://m.media-amazon.com/images/I/81eUw-Icm4L._SL1500_.jpg\">\n",
    "\n",
    "[**\"Antifragile: Things That Gain from Disorder\"**](https://www.amazon.com/Antifragile-Things-That-Disorder-Incerto/dp/1400067820/) by Nassim Nicholas Taleb introduces the concept of antifragility, which describes systems that not only withstand chaos and stress but actually benefit and grow stronger from them. Taleb contrasts antifragile entities with fragile ones, which are damaged by uncertainty and volatility. He explores how antifragility applies to various domains, including finance, health, and personal development, advocating for embracing uncertainty and learning from it. The book includes various mental models such as the Barbell Strategy (combining extremely safe and extremely risky investments), Hormesis (small doses of stress improve resilience), Via Negativa (improvement by removing negative elements), and the Lindy Effect (the longer something lasts, the longer it is likely to last). Overall, the book promotes a mindset that sees disorder as an opportunity for growth and improvement.  \n",
    "\n",
    "> Note: This is a great read for introducing the power of simple decision heuristics and how they apply to global events and everyday life. "
   ]
  },
  {
   "cell_type": "markdown",
   "metadata": {},
   "source": [
    "<img style=\"float: right;padding-left: 25px; padding-right: 25px;\" width =\"200px\" src=\"https://m.media-amazon.com/images/I/61REPAilNTL._AC_UY436_QL65_.jpg\">\n",
    "\n",
    "[**\"Quit: The Power of Knowing When to Walk Away\"**](https://www.amazon.com/Quit-Power-Knowing-When-Walk/dp/0593422996/) Annie Duke explains that quitting can be a smart and necessary part of making good decisions. She shows that people often keep pursuing goals even when it's not working, because they fear being labeled a quitter or don't want to waste what they've already invested. The book argues that knowing when to walk away is important and can lead to better outcomes. Annie Duke offers simple strategies to help people recognize the right time to quit and overcome the reluctance to do so. "
   ]
  }
 ],
 "metadata": {
  "kernelspec": {
   "display_name": ".NET (C#)",
   "language": "C#",
   "name": ".net-csharp"
  },
  "language_info": {
   "name": "python"
  },
  "polyglot_notebook": {
   "kernelInfo": {
    "defaultKernelName": "csharp",
    "items": [
     {
      "aliases": [],
      "name": "csharp"
     }
    ]
   }
  }
 },
 "nbformat": 4,
 "nbformat_minor": 2
}
