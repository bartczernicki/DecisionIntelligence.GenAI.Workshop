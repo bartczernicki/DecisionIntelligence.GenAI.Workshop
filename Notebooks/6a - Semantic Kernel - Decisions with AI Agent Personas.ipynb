{
 "cells": [
  {
   "cell_type": "markdown",
   "metadata": {},
   "source": [
    "<img style=\"float: left;padding-right: 10px\" width =\"40px\" src=\"https://raw.githubusercontent.com/bartczernicki/DecisionIntelligence.GenAI.Workshop/main/Images/SemanticKernelLogo.png\">\n",
    "\n",
    "## Semantic Kernel - Decisions with AI Agent Personas\n",
    "\n",
    "Empower multi-agent systems where specialists are defined to execute requests they were designed to fulfill.  "
   ]
  },
  {
   "cell_type": "markdown",
   "metadata": {},
   "source": [
    "### Step 1 - Initialize Configuration Builder & Build the Semantic Kernel Orchestration "
   ]
  },
  {
   "cell_type": "markdown",
   "metadata": {},
   "source": [
    "Execute the next two cells to:\n",
    "* Use the Configuration Builder to load the API secrets.  \n",
    "* Use the API configuration to build the Semantic Kernel orchestrator."
   ]
  },
  {
   "cell_type": "code",
   "execution_count": 1,
   "metadata": {
    "dotnet_interactive": {
     "language": "csharp"
    },
    "polyglot_notebook": {
     "kernelName": "csharp"
    },
    "vscode": {
     "languageId": "polyglot-notebook"
    }
   },
   "outputs": [
    {
     "data": {
      "text/html": [
       "<div><div></div><div></div><div><strong>Installed Packages</strong><ul><li><span>Microsoft.Extensions.Configuration, 9.0.0</span></li><li><span>Microsoft.Extensions.Configuration.Json, 9.0.0</span></li></ul></div></div>"
      ]
     },
     "metadata": {},
     "output_type": "display_data"
    }
   ],
   "source": [
    "// Import the required NuGet configuration packages\n",
    "#r \"nuget: Microsoft.Extensions.Configuration, 9.0.0\"\n",
    "#r \"nuget: Microsoft.Extensions.Configuration.Json, 9.0.0\"\n",
    "\n",
    "//using Microsoft.Extensions.DependencyInjection;\n",
    "using Microsoft.Extensions.Configuration.Json;\n",
    "using Microsoft.Extensions.Configuration;\n",
    "using System.IO;\n",
    "\n",
    "// Load the configuration settings from the local.settings.json and secrets.settings.json files\n",
    "// The secrets.settings.json file is used to store sensitive information such as API keys\n",
    "var configurationBuilder = new ConfigurationBuilder()\n",
    "    .SetBasePath(Directory.GetCurrentDirectory())\n",
    "    .AddJsonFile(\"local.settings.json\", optional: true, reloadOnChange: true)\n",
    "    .AddJsonFile(\"secrets.settings.json\", optional: true, reloadOnChange: true);\n",
    "var config = configurationBuilder.Build();\n",
    "\n",
    "// IMPORTANT: You ONLY NEED either Azure OpenAI or OpenAI connectiopn info, not both.\n",
    "// Azure OpenAI Connection Info\n",
    "var azureOpenAIEndpoint = config[\"AzureOpenAI:Endpoint\"];\n",
    "var azureOpenAIAPIKey = config[\"AzureOpenAI:APIKey\"];\n",
    "var azureOpenAIModelDeploymentName = config[\"AzureOpenAI:ModelDeploymentName\"];\n",
    "// OpenAI Connection Info \n",
    "var openAIAPIKey = config[\"OpenAI:APIKey\"];\n",
    "var openAIModelId = config[\"OpenAI:ModelId\"];"
   ]
  },
  {
   "cell_type": "code",
   "execution_count": 2,
   "metadata": {
    "dotnet_interactive": {
     "language": "csharp"
    },
    "polyglot_notebook": {
     "kernelName": "csharp"
    },
    "vscode": {
     "languageId": "polyglot-notebook"
    }
   },
   "outputs": [
    {
     "data": {
      "text/html": [
       "<div><div></div><div></div><div><strong>Installed Packages</strong><ul><li><span>Microsoft.SemanticKernel, 1.44.0</span></li><li><span>Microsoft.SemanticKernel.Agents.Core, 1.44.0-preview</span></li><li><span>Microsoft.SemanticKernel.Agents.OpenAI, 1.44.0-preview</span></li></ul></div></div>"
      ]
     },
     "metadata": {},
     "output_type": "display_data"
    }
   ],
   "source": [
    "// Import the Semantic Kernel NuGet package\n",
    "#r \"nuget: Microsoft.SemanticKernel, 1.44\" \n",
    "#r \"nuget: Microsoft.SemanticKernel.Agents.OpenAI, 1.44-alpha\"\n",
    "#r \"nuget: Microsoft.SemanticKernel.Agents.Core, 1.44-alpha\"\n",
    "\n",
    "//using Microsoft.Extensions.DependencyInjection;\n",
    "using Microsoft.SemanticKernel;\n",
    "using Microsoft.SemanticKernel.Connectors.OpenAI;\n",
    "using Microsoft.SemanticKernel.Agents;\n",
    "using Microsoft.SemanticKernel.Agents.Chat;\n",
    "using Microsoft.SemanticKernel.Agents.OpenAI;\n",
    "using Microsoft.SemanticKernel.ChatCompletion;\n",
    "\n",
    "var semanticKernel = Kernel.CreateBuilder()\n",
    "    .AddAzureOpenAIChatCompletion(\n",
    "        deploymentName: azureOpenAIModelDeploymentName!,\n",
    "        endpoint: azureOpenAIEndpoint!,\n",
    "        apiKey: azureOpenAIAPIKey!)\n",
    "    .Build();"
   ]
  },
  {
   "cell_type": "markdown",
   "metadata": {},
   "source": [
    "### Step 2 - Creating an AI Agent Decision Persona"
   ]
  },
  {
   "cell_type": "markdown",
   "metadata": {},
   "source": [
    "Personas leverage the Chat Completion service from the Semantic Kernel Agents package. Personas are basically prompt instructions on how the GenAI persona should behave, respond, expertise information and the tone it should respond. These personas can be instructed to also use specific decision-making capabilities. In more technical terms, AI Agent personas introduce \"bias\" specificity to the Generative AI model. \n",
    "\n",
    "> Note: The term **bias** in statistics, machine learning and AI is not a \"bad\" word. Instead, it's a technical term that refers to how a model or an estimate might simplify assumptions or alter internal data distributions to make predictions. For example, an AI model may be instructed to approach a problem from a perspective of a football player or be trained with mostly football data. This would be a \"highly biased\" model skewed towards the football perspective.  \n",
    "\n",
    "In this example, the agent will take on the persona of **Dwight Eisenhower**. In addition for being famous as a leader of allied forces in WW2 and a US president, Dwight Eisenhower is famous of the \"Eisenhower Matrix\" decision framework.  \n",
    "\n",
    "<img style=\"display: block; margin: auto;\" width =\"700px\" src=\"https://raw.githubusercontent.com/bartczernicki/DecisionIntelligence.GenAI.Workshop/main/Images/DecisionIntelligenceFramework/DecisionIntelligence-Example-EisenhowerPrioritizationMatrix.png\">  \n",
    "\n",
    "> \"In preparing for battle, I have always found that plans are useless but planning is indispensable.\"\n",
    ">\n",
    "> -- <cite>Dwight Eisenhower (WW2 Allied Leader, US President)</cite> \n",
    "\n",
    "The Eisenhower Matrix Priorotization Framework is almost 80 years old. However, it is still actively used in current software systems. For example, Asana (SaaS project management software) uses the Eisenhower Matrix. https://asana.com/resources/eisenhower-matrix  \n",
    "<img style=\"display: block; margin: auto;\" width =\"700px\" src=\"https://assets.asana.biz/transform/a4725133-d094-48e1-9e6d-f65c36f0cd59/inline-leadership-eisenhower-matrix-1-2x?io=transform:fill,width:2560&format=webp\">  "
   ]
  },
  {
   "cell_type": "markdown",
   "metadata": {},
   "source": [
    "Executing the code below will ask multiple decision intelligence questions to the single agent (persona) of Dwight Eisenhower. The decision recommendations will come from an AI perspective of a Dwight Eisenhower persona. This persona is crafted with two simple instructions:\n",
    "* Approach the problem like Dwight Eisenhower.  \n",
    "* Use a systematic decision-making framework \"Eisenhower Decision Matrix\"\n",
    "* If using the \"Eisenhower Decision Matrix\", output in a nice Markdown table format  "
   ]
  },
  {
   "cell_type": "code",
   "execution_count": 4,
   "metadata": {
    "dotnet_interactive": {
     "language": "csharp"
    },
    "polyglot_notebook": {
     "kernelName": "csharp"
    },
    "vscode": {
     "languageId": "polyglot-notebook"
    }
   },
   "outputs": [
    {
     "name": "stdout",
     "output_type": "stream",
     "text": [
      "How should I prioritize my typical unproductive day?\n",
      "To prioritize an unproductive day, it’s best to introduce structure and assess how you’re spending your time. Often, we feel unproductive because we aren’t clear on what is urgent, important, or rewarding. Dwight Eisenhower's Decision Prioritization Matrix is a great method for categorizing tasks and making quick decisions about how to engage your time most effectively. Here’s a step-by-step framework you can follow:\n",
      "\n",
      "---\n",
      "\n",
      "### **Step 1: Inventory Your Tasks**\n",
      "Take five minutes and write down all the tasks or activities you believe you should tackle today. This can include work-related tasks, errands, or personal commitments. Don’t judge or order them yet—just list everything.\n",
      "\n",
      "---\n",
      "\n",
      "### **Step 2: Clarify Goals**\n",
      "Ask yourself:\n",
      "- What is the main outcome you want by the end of today? (e.g., progress on a work project, organizing your space, or even restful personal time)\n",
      "- What tasks align with this desired outcome? Which don’t?\n",
      "\n",
      "---\n",
      "\n",
      "### **Step 3: Prioritize Using the Eisenhower Matrix**\n",
      "Organize your tasks using the Eisenhower Matrix, which divides them into four quadrants based on urgency and importance:\n",
      "1. **Urgent and Important (Do)** - Tasks that need immediate attention and are critical.\n",
      "2. **Important, but Not Urgent (Plan)** - Tasks that are meaningful but can be scheduled for later.\n",
      "3. **Urgent, but Not Important (Delegate)** - Tasks that require immediate action but don’t contribute significantly to your key goals.\n",
      "4. **Neither Urgent nor Important (Eliminate)** - Low-value activities that waste your time.\n",
      "\n",
      "Let’s build the matrix based on your insights.\n",
      "\n",
      "---\n",
      "\n",
      "### **Step 4: Eisenhower Decision Prioritization Matrix**\n",
      "Here’s what your current task list might look like when categorized:\n",
      "\n",
      "| **Urgent & Important (Do)**      | **Important, Not Urgent (Plan)**  |\n",
      "|-----------------------------------|-----------------------------------|\n",
      "| Complete today’s work deadline    | Exercise or engage in self-care   |\n",
      "| Respond to critical emails        | Strategize long-term goals/projects |\n",
      "| Attend scheduled meeting or call | Practice a hobby or skill         |\n",
      "\n",
      "| **Urgent, Not Important (Delegate)** | **Neither Urgent nor Important (Eliminate)** |\n",
      "|--------------------------------------|----------------------------------------------|\n",
      "| Answer non-essential phone calls     | Excessive social media scrolling             |\n",
      "| Coordinate minor office requests     | Watching random YouTube videos               |\n",
      "| Review overly detailed reports       | Overplanning or procrastinating tasks        |\n",
      "\n",
      "---\n",
      "\n",
      "### **Step 5: Take Action**\n",
      "1. **Start with “Do” Tasks (High ROI Activities)**:\n",
      "   - Focus first on tasks that fit into the *Urgent & Important* category. These ensure you meet immediate priorities while feeling productive.\n",
      "\n",
      "2. **Schedule “Plan” Tasks**:\n",
      "   - Block time on your calendar (even for tomorrow) to address the Important but Not Urgent tasks. These are usually tied to personal growth, well-being, or long-term success.\n",
      "\n",
      "3. **Either Delegate or Timebox “Delegate” Tasks**:\n",
      "   - If something is Urgent but Not Important, either pass it to someone else, or set a strict timebox to address it quickly without spending excessive energy.\n",
      "\n",
      "4. **Eliminate or Postpone Low-Value Tasks**:\n",
      "   - Actively resist spending time in the Neither Urgent nor Important space. These items are likely distractions that provide little return.\n",
      "\n",
      "---\n",
      "\n",
      "### Step 6: Create a Plan for the Day\n",
      "Structure your day around high-energy periods:\n",
      "- **Morning**: Tackle the *Urgent & Important* tasks to get momentum.\n",
      "- **Afternoon**: Dedicate time to *Important but Not Urgent* projects to lay the foundation for sustained productivity.\n",
      "- **Evening**: Wind down with low-effort but purposeful activities (reading, light exercise, etc.).\n",
      "\n",
      "---\n",
      "\n",
      "### **Step 7: Reflect and Adjust**\n",
      "At the end of the day, review:\n",
      "- Which quadrant consumed most of your time?\n",
      "- Did you spend too much time on low-value activities?\n",
      "- What can you do differently to improve tomorrow?\n",
      "\n",
      "By methodically structuring your day, you can regain control, focus on what matters, and avoid the paralyzing feeling of unproductivity.\n",
      "I am looking to buy a new car, what should I consider before making a decision?\n",
      "Purchasing a new car is a significant investment, requiring careful thought and planning to ensure you're making the best decision for your needs, budget, and long-term goals. To help you make the right choice, let’s apply a strategic process inspired by Dwight Eisenhower’s systematic approach to prioritization and problem-solving:\n",
      "\n",
      "---\n",
      "\n",
      "### **Step 1: Define Your Objectives**\n",
      "Start by identifying why you’re buying a car and what purpose it serves:\n",
      "- **Primary Purpose**: Is it for daily commuting, family travel, business needs, leisure, or prestige?  \n",
      "- **Expected Usage**: How often will you use the car? Will you drive in urban areas, highways, or challenging terrains?\n",
      "- **Duration of Ownership**: Are you planning to keep the car long-term, or do you plan to trade it in after a few years?\n",
      "\n",
      "---\n",
      "\n",
      "### **Step 2: Assess Key Factors**\n",
      "Consider these major elements that influence car-buying decisions:\n",
      "\n",
      "1. **Budget**:\n",
      "   - What is your total available budget, including down payment and financing options?\n",
      "   - Have you factored in operating costs (e.g., fuel, maintenance, insurance, registration fees) on top of the purchase price?\n",
      "\n",
      "2. **Lifestyle/Needs**:\n",
      "   - Do you need a specific type of car (e.g., SUV, sedan, truck, EV)?\n",
      "   - How many passengers will you accommodate? Do you need extra cargo space for equipment or luggage?\n",
      "   - Are safety features (e.g., collision avoidance, lane assist, airbags) a priority?\n",
      "\n",
      "3. **Resale Value**:\n",
      "   - Does the car brand/model have strong resale value in case you decide to sell it later?\n",
      "\n",
      "4. **Performance**:\n",
      "   - Consider engine power, fuel efficiency, range (for electric vehicles), and handling reliability. Is performance critical to your driving needs?\n",
      "\n",
      "5. **Technology/Comfort**:\n",
      "   - Do you want advanced tech features like Apple CarPlay, navigation systems, adaptive cruise control, or heated seats?\n",
      "   - How important are creature comforts (e.g., smooth ride quality, premium interiors)?\n",
      "\n",
      "6. **Environmental Impact**:\n",
      "   - Are you considering greener options, like hybrid or electric vehicles?\n",
      "   - Does the car fulfill your expectations regarding energy efficiency?\n",
      "\n",
      "7. **Brand Reputation**:\n",
      "   - Research customer reviews and expert ratings about the brand’s reliability, customer service, and build quality.\n",
      "\n",
      "---\n",
      "\n",
      "### **Step 3: Eisenhower Decision Matrix for Car Selection**\n",
      "To prioritize what matters most, let’s categorize the factors based on urgency and importance:\n",
      "\n",
      "| **Urgent & Important (Do)**           | **Important, Not Urgent (Plan)**         |\n",
      "|----------------------------------------|------------------------------------------|\n",
      "| Determine your budget                  | Research models that align with your needs |\n",
      "| Identify financing options             | Test-drive vehicles                      |\n",
      "| Analyze safety features                | Check manufacturer warranties or service plans |\n",
      "| Understand fuel efficiency/range       | Compare insurance costs among models     |\n",
      "\n",
      "| **Urgent, Not Important (Delegate)**  | **Neither Urgent nor Important (Eliminate)**   |\n",
      "|---------------------------------------|-----------------------------------------------|\n",
      "| Arrange dealer incentives or discounts| Avoid buying solely based on trending appearances |\n",
      "| Review dealership reviews              | Ignore rush offers or upselling tactics        |\n",
      "| Negotiate loan terms                   | Don’t base the decision only on aesthetics     |\n",
      "\n",
      "---\n",
      "\n",
      "### **Step 4: Compare Options Strategically**\n",
      "Once you have narrowed your choices:\n",
      "1. **Create a Comparison Grid:**\n",
      "   Use online review sites like Kelley Blue Book, Edmunds, or Consumer Reports to compare models based on price, features, performance, reliability, and consumer satisfaction.\n",
      "\n",
      "   Example Grid (fictional):\n",
      "   | **Feature**       | **Car A**      | **Car B**       | **Car C**       |\n",
      "   |-------------------|----------------|-----------------|-----------------|\n",
      "   | Fuel Efficiency   | 30 MPG         | 25 MPG          | 35 MPG          |\n",
      "   | Safety Features   | Advanced       | Basic           | Standard        |\n",
      "   | Price (Base)      | $25,000        | $28,000         | $22,000         |\n",
      "   | Resale Value      | High           | Medium          | Low             |\n",
      "   | Warranty          | 7 Years        | 5 Years         | 3 Years         |\n",
      "\n",
      "2. **Prioritize Long-Term Value Over Immediate Price:**\n",
      "   Don’t just look at upfront costs—think about long-term maintenance expenses, reliability, and depreciation.\n",
      "\n",
      "---\n",
      "\n",
      "### **Step 5: Conduct Due Diligence**\n",
      "1. Test-drive multiple car models to experience comfort, handling, and technology.  \n",
      "2. Ask dealers about potential promotions, discounts, and warranty extensions.  \n",
      "3. Look up the car’s Vehicle History Reports (for used cars) or issue recalls (for new ones).  \n",
      "\n",
      "---\n",
      "\n",
      "### **Step 6: Make the Decision**\n",
      "Use systems-thinking principles to map out:\n",
      "- **Financial impact**: Can you afford this car without disrupting your savings goals or accruing avoidable debt?\n",
      "- **Flexibility & adaptability**: Does this car meet your current and future needs?\n",
      "- **Sustainability**: Will this car be a responsible environmental choice (for eco-minded buyers)?\n",
      "\n",
      "---\n",
      "\n",
      "### **Step 7: Post-Purchase Considerations**\n",
      "1. Schedule maintenance and understand service intervals.\n",
      "2. Get insurance that aligns with your budget and driving patterns.\n",
      "3. Monitor the car’s fuel efficiency and monthly costs for adjustments.\n",
      "\n",
      "This framework ensures your decision is thoughtful, financially grounded, and deeply aligned with long-term priorities and values. Would you like assistance in narrowing down specific car options or further analyzing your priorities?\n"
     ]
    }
   ],
   "source": [
    "// Helper method to invoke the chat completion agent with a list of prompts\n",
    "private static async Task InvokeChatCompletionAgentWithTemplateAsync(ChatCompletionAgent agent, string[] prompts)\n",
    "{\n",
    "    ChatHistory chat = [];\n",
    "\n",
    "    foreach (var prompt in prompts)\n",
    "    {\n",
    "        // Add input to chat\n",
    "        ChatMessageContent request = new(AuthorRole.User, prompt);\n",
    "        chat.Add(request);\n",
    "        Console.WriteLine(request);\n",
    "\n",
    "        KernelArguments? arguments = null;\n",
    "\n",
    "        // Process agent response\n",
    "        await foreach (ChatMessageContent message in agent.InvokeAsync(chat, arguments))\n",
    "        {\n",
    "            chat.Add(message);\n",
    "            Console.WriteLine(message);\n",
    "        }\n",
    "    }\n",
    "}\n",
    "\n",
    "// Notice the agent is created with a name, instructions, and description\n",
    "var name = \"Dwight Eisenhower\";\n",
    "var instructions = \"\"\"\n",
    "You are a decision intelligence strategist. Provide structured, logical, and comprehensive advice.\n",
    "Assist the user in exploring options, reasoning through decisions, problem-solving, and applying systems thinking to various scenarios. \n",
    "Approach the problem how Dwight Eisenhower approached strategic problems and \n",
    "when appropriate using the Dwight Eisenhower's Decision Prioritization Matrix.\n",
    "\n",
    "If using the Decision Prioritization Matrix, output it in a Markdown table format.\n",
    "\"\"\";\n",
    "var description = \"A chat bot that replies to the message with recommending the Eisenhower Decision Priorotization Matrix.\";\n",
    "\n",
    "string[] prompts = \n",
    "[\n",
    "\"How should I prioritize my typical unproductive day?\",\n",
    "\"I am looking to buy a new car, what should I consider before making a decision?\",\n",
    "];\n",
    "\n",
    "// Instruction based template always processed by KernelPromptTemplateFactory\n",
    "ChatCompletionAgent agent =\n",
    "    new()\n",
    "    {\n",
    "        Kernel = semanticKernel,\n",
    "        //Name = name,\n",
    "        Description = description,\n",
    "        Instructions = instructions\n",
    "    };\n",
    "\n",
    "await InvokeChatCompletionAgentWithTemplateAsync(agent, prompts);"
   ]
  },
  {
   "cell_type": "markdown",
   "metadata": {},
   "source": [
    "Example table output using the **\"Eisenhower Prioritization Matrix\"** to the question: **\"How should I prioritize my typical unproductive day?\"**: \n",
    "\n",
    "| Urgent/Important         | Important/Not Urgent          | Urgent/Not Important       | Not Urgent/Not Important    |\n",
    "|--------------------------|-------------------------------|----------------------------|-----------------------------|\n",
    "| Prepare for a meeting    | Reading a book                | Answering non-critical emails | Watching TV                  |\n",
    "| Paying bills             | Exercise                      | Responding to non-urgent messages | Browsing social media         |\n",
    "| Fixing a crucial work error| Planning out weekly meals   | Running a non-critical errand | Playing games                |\n"
   ]
  },
  {
   "cell_type": "markdown",
   "metadata": {},
   "source": [
    "Example table output using the **\"Eisenhower Prioritization Matrix\"** to the question: **\"I am looking to buy a new car, what should I consider before making a decision?\"**: \n",
    "\n",
    "| Urgent/Important                           | Important/Not Urgent                     | Urgent/Not Important                | Not Urgent/Not Important           |\n",
    "|--------------------------------------------|------------------------------------------|-------------------------------------|------------------------------------|\n",
    "| **Budgeting and Financing**                | **Long-Term Ownership Costs**            | **Dealership Promotions**           | **Additional Luxury Features**      |\n",
    "| **Primary Usage Requirements**             | **Resale Value and Depreciation**        | **Brand Loyalty Offers**            | **Cosmetic Preferences**            |\n",
    "| **Safety Features**                        | **Warranty and Service**                 | **Short-Term Insurance Discounts**  | **Optional Upgrades**               |\n",
    "| **Test Driving Suitable Models**           | **Environmental Impact Assessment**      | **Accessories Given**               | **Color Choice**                    |\n"
   ]
  },
  {
   "cell_type": "markdown",
   "metadata": {},
   "source": [
    "### Step 3 - Creating a Multi-Agent Decision Personas "
   ]
  },
  {
   "cell_type": "markdown",
   "metadata": {},
   "source": [
    "> \"The many are smarter than the few when it comes to solving problems, predicting outcomes, and innovating solutions, as long as there is diversity of opinion, independence, and decentralization.\"  \n",
    ">\n",
    "> -- <cite>James Surowiecki (Author \"The Wisdom of Crowds\")</cite> "
   ]
  },
  {
   "cell_type": "markdown",
   "metadata": {},
   "source": [
    "Single agent personas are effective constructs in Semantic Kernel, but can largely be replicated in other mechanisms with prompts. **Creating multiple personas (experts) that can interact with each other is the true power of the Semantic Kernel Agent functionality. This allows multiple chat agents to interact in various ways.** \n",
    "\n",
    "Execute the cell below to illustrate how two different personas can interact in a decision-making process moderated by a decision intelligence expert that makes the final reasoning conclusiion on the decision task at hand. In the output notice key steps:\n",
    "* Each expert (Dwight and Ben) make their recommendation, based on their decision persona\n",
    "* The final recommendation is made based on the synthesis of the agent recommendations  \n",
    "* This multi-agent interaction to converge on a single decision mimic the self-consistency GenAI pattern \n",
    "\n",
    "Note: The execution below can take the some time. Use GPT-4o-mini to optimize performance speed of the execution.  "
   ]
  },
  {
   "cell_type": "code",
   "execution_count": 6,
   "metadata": {
    "dotnet_interactive": {
     "language": "csharp"
    },
    "polyglot_notebook": {
     "kernelName": "csharp"
    },
    "vscode": {
     "languageId": "polyglot-notebook"
    }
   },
   "outputs": [
    {
     "name": "stdout",
     "output_type": "stream",
     "text": [
      "Decision: Buy a house for a rental property or invest in Bitcoin? \n",
      "Constraint: You want to optimize for long-term financial growth, but also mitigate risk. \n",
      "\n",
      "This decision to buy a house as a rental property or invest in Bitcoin requires balancing reward, risk, and long-term sustainability. Dwight Eisenhower's Decision Prioritization Matrix can help organize the decision-making process. Let’s break it down:\n",
      "\n",
      "## Applying Eisenhower's Matrix: \n",
      "### 1. Assess Urgency (Time Sensitivity):\n",
      "Neither investment (rental property or Bitcoin) is inherently urgent, but both may have windows of opportunity (e.g., real estate market conditions vs Bitcoin price volatility). The decision could be categorized as \"Important but Not Urgent.\" This gives you the opportunity to analyze thoroughly and plan.\n",
      "\n",
      "### 2. Assess Importance (Alignment with Long-Term Financial Goals):\n",
      "Both options have potential for long-term financial growth. However, importance lies in how they align with mitigating risk alongside building wealth:\n",
      "- **Rental Property**: Typically less volatile and offers both cash flow (through rental income) and potential appreciation. It’s tangible, predictable, and backed by an actual asset.\n",
      "- **Bitcoin**: Offers potentially higher growth but carries significant volatility and risk due to regulatory uncertainties, market unpredictability, and the likelihood of extreme price swings.\n",
      "\n",
      "---\n",
      "\n",
      "## Step-by-Step Systems Thinking Approach to Explore the Options:\n",
      "\n",
      "### Step 1: Define Decision Criteria (Optimize for Growth + Mitigate Risk)\n",
      "- Ways to achieve growth:\n",
      "  - **Rental Property**: Generates monthly cash flow, long-term appreciation, tax benefits, and does not require constant monitoring for price changes.\n",
      "  - **Bitcoin**: Could deliver exponential growth if adoption continues globally, but the lack of government control makes it more speculative.\n",
      "  \n",
      "- Ways to mitigate risk:\n",
      "  - **Rental Property**: Real estate is historically stable during inflation or economic challenges; risk can be reduced through due diligence (e.g., location analysis, tenant type).\n",
      "  - **Bitcoin**: Risk is harder to mitigate due to speculative nature, though dollar cost averaging or diversifying investment portfolios can help reduce exposure.\n",
      "\n",
      "---\n",
      "\n",
      "### Step 2: Quantitative Analysis of Each Option\n",
      "- **Real Estate: Rental Property**\n",
      "   - **Potential ROI**: 5%-12% annual cash-on-cash return, plus property value appreciation (long-term average ~4%-6% per year).\n",
      "   - **Risk Profile**: Fairly low, but impacted by housing market conditions, property management issues, and tenant risks.\n",
      "   - **Liquidity**: Low liquidity; selling a house takes time.\n",
      "   - **Maintenance Costs**: Medium – involves taxes, repairs, and management expenses.\n",
      "   - **Leverage Opportunity**: Can purchase property with mortgage financing, amplifying your ROI while increasing debt risk.\n",
      "  \n",
      "- **Bitcoin: Cryptocurrency Investment**\n",
      "   - **Potential ROI**: Extremely high during bull markets, but returns are inconsistent and speculative (historical performance is no guarantee).\n",
      "   - **Risk Profile**: Very high; prices are prone to massive swings influenced by external factors (e.g., macroeconomic shifts, regulatory actions).\n",
      "   - **Liquidity**: Very high – Bitcoin can be sold 24/7 on exchanges worldwide for immediate cash.\n",
      "   - **Maintenance Costs**: Low – virtually none, aside from trading fees and storage costs (digital wallet security).\n",
      "   - **Leverage Opportunity**: Limited – purchasing Bitcoin often requires upfront capital.\n",
      "\n",
      "---\n",
      "\n",
      "### Step 3: Weigh Opportunity Costs\n",
      "If you invest in Bitcoin, you could miss out on steady cash flow from rental property (passive income). Conversely, if you invest in real estate, you could miss potentially exponential returns in the cryptocurrency bull run.\n",
      "\n",
      "---\n",
      "\n",
      "### Step 4: Consider Risk Mitigation Strategies\n",
      "Use systems thinking to reduce exposure and balance risk:\n",
      "#### Option 1: Diversified Investment Portfolio\n",
      "- Allocate resources between both rental property and Bitcoin. This allows you to capture potential high-growth opportunities while protecting yourself with a stable asset (the house). For example, 70% real estate, 30% cryptocurrency might balance safety and risk.\n",
      "  \n",
      "#### Option 2: Real Estate First, Add Bitcoin Later\n",
      "- Real estate offers a foundation of income and stability. After generating cash flow or refinancing it, you could periodically allocate profits toward speculative investments like Bitcoin.\n",
      "\n",
      "---\n",
      "\n",
      "## Final Recommendation Based on Long-Term Growth + Risk Mitigation:\n",
      "### **Primary Recommendation: Rental Property**\n",
      "Investing in a rental property aligns better with your goal to mitigate risk while building long-term financial growth. Real estate provides steady income, tax advantages, and tangible equity. Market volatility is far lower than Bitcoin, and it carries intrinsic value regardless of economic fluctuations. \n",
      "\n",
      "### **Why NOT Bitcoin Alone?**\n",
      "Bitcoin has the potential for exponential growth, but its volatility and speculative nature make it unsuitable as your primary financial growth strategy if you’re prioritizing risk mitigation. It could complement your portfolio, but it shouldn’t dominate it.\n",
      "\n",
      "---\n",
      "\n",
      "### Next Steps:\n",
      "#### A. For Rental Property Investment:\n",
      "1. Research locations with high rental demand and market growth potential (e.g., population increase, job creation).\n",
      "2. Evaluate property cash flow potential using metrics (cap rate, ROI).\n",
      "3. Consult financial experts, mortgage lenders, and property managers.\n",
      "\n",
      "#### B. For Bitcoin Investment (Complementary Strategy):\n",
      "1. Allocate a small percentage (e.g., 5%-15%) of your portfolio to Bitcoin.\n",
      "2. Use dollar cost averaging (DCA) to reduce risks related to price volatility.\n",
      "3. Store Bitcoin securely using cold wallets.\n",
      "\n",
      "By focusing on foundational stability (real estate) while cautiously engaging in growth opportunities (Bitcoin), you position yourself for financial success.\n",
      "To clarify, the recommended path aligns with a strategic balance between risk mitigation and long-term growth:\n",
      "\n",
      "#### **Primary Focus**: Rental Property \n",
      "Investing in rental property offers tangible stability with rental income, appreciation, and tax advantages. It acts as the cornerstone for financial growth and risk mitigation. Make it the priority investment.\n",
      "\n",
      "#### **Secondary Play**: Bitcoin Investment \n",
      "Once you've secured the foundational stability of real estate, allocate a smaller portion of your portfolio to Bitcoin as a speculative growth strategy. Manage exposure carefully to avoid overextending into high-risk assets. \n",
      "\n",
      "This approach ensures that both your goals—growth and risk moderation—are addressed.\n",
      "### **Final Decision: Invest in a Rental Property**\n",
      "The final decision is to prioritize purchasing a rental property. Real estate provides stable, long-term financial growth through cash flow, appreciation, and tax benefits, while mitigating risk better than Bitcoin's high volatility and speculative nature. Bitcoin may serve as a secondary investment later, but the rental property should be the cornerstone of your investment strategy.\n",
      "\n",
      "[IS COMPLETED: True]\n"
     ]
    }
   ],
   "source": [
    "using System.Threading;\n",
    "\n",
    "#pragma warning disable SKEXP0110\n",
    "// Create a new chat TerminationStrategy that will terminate when the final message contains the term \"final decision\"\n",
    "private sealed class ApprovalTerminationStrategy : TerminationStrategy\n",
    "{\n",
    "    // Terminate when the final message contains the term \"approve\"\n",
    "    protected override Task<bool> ShouldAgentTerminateAsync(Agent agent, IReadOnlyList<ChatMessageContent> history, CancellationToken cancellationToken)\n",
    "        => Task.FromResult(history[history.Count - 1].Content?.Contains(\"final decision\", StringComparison.OrdinalIgnoreCase) ?? false);\n",
    "}\n",
    "\n",
    "var assistantDwightEisenhower = new ChatCompletionAgent\n",
    "{\n",
    "    Kernel = semanticKernel,\n",
    "    //Name = \"Dwight\", // Dwight Eisenhower persona\n",
    "    Description = \"A chat bot that replies to the message with recommending the Eisenhower Decision Priorotization Matrix.\",\n",
    "    Instructions = \"You are a decision intelligence strategist with the knowledge of Dwight Eisenhower's Decision Prioritization Matrix. Assist the user in exploring options, reasoning through decisions, problem-solving, and applying systems thinking to various scenarios. Provide structured, logical, and comprehensive advice.\"\n",
    "};\n",
    "\n",
    "var assistantBenFranklin = new ChatCompletionAgent\n",
    "{\n",
    "    Kernel = semanticKernel,\n",
    "    //Name = \"Ben\", // Ben Franklin persona\n",
    "    Description = \"A chat bot that replies to the message with recommending the Ben Franklin Decision Framework.\",\n",
    "    Instructions = \"You are a decision intelligence strategist with the knowledge of Ben Franklin's Decision Framework. Assist the user in exploring options, reasoning through decisions, problem-solving, and applying systems thinking to various scenarios. Provide structured, logical, and comprehensive advice.\"\n",
    "};\n",
    "\n",
    "var assistantDecisionMaker = new ChatCompletionAgent\n",
    "{\n",
    "    Kernel = semanticKernel,\n",
    "    //Name = \"DecisionMaker\",\n",
    "    Description = \"A chat bot that approves the final decision.\",\n",
    "    Instructions = \"\"\"\n",
    "    You are a Decision Intelligence maker. Make the final decision and describe the reasoning from the recommendations.\n",
    "    You're laser focused on the goal at hand. Don't waste time with chit chat.\n",
    "    Consider suggestions when refining an idea. Use the words final decision to approve the final decision.\n",
    "    \"\"\"\n",
    "};\n",
    "\n",
    "// Create a chat for agent interaction.\n",
    "AgentGroupChat chat =\n",
    "    new(assistantDwightEisenhower, assistantBenFranklin, assistantDecisionMaker)\n",
    "    {\n",
    "        ExecutionSettings =\n",
    "            new()\n",
    "            {\n",
    "                // Here a TerminationStrategy subclass is used that will terminate when\n",
    "                // an assistant message contains the term \"approve\".\n",
    "                TerminationStrategy =\n",
    "                    new ApprovalTerminationStrategy()\n",
    "                    {\n",
    "                        // Only the art-director may approve.\n",
    "                        Agents = [assistantDecisionMaker],\n",
    "                        // Limit total number of turns\n",
    "                        MaximumIterations = 10,\n",
    "                    }\n",
    "            }\n",
    "    };\n",
    "\n",
    "// Invoke chat and display messages.\n",
    "ChatMessageContent input = new(AuthorRole.User, \"\"\"\n",
    "Decision: Buy a house for a rental property or invest in Bitcoin? \n",
    "Constraint: You want to optimize for long-term financial growth, but also mitigate risk. \n",
    "\"\"\");\n",
    "chat.AddChatMessage(input);\n",
    "Console.WriteLine(input);\n",
    "Console.WriteLine();\n",
    "\n",
    "await foreach (ChatMessageContent response in chat.InvokeAsync())\n",
    "{\n",
    "    Console.WriteLine(response);\n",
    "}\n",
    "\n",
    "Console.WriteLine($\"\\n[IS COMPLETED: {chat.IsComplete}]\");"
   ]
  }
 ],
 "metadata": {
  "kernelspec": {
   "display_name": ".NET (C#)",
   "language": "C#",
   "name": ".net-csharp"
  },
  "language_info": {
   "name": "python"
  },
  "polyglot_notebook": {
   "kernelInfo": {
    "defaultKernelName": "csharp",
    "items": [
     {
      "aliases": [],
      "name": "csharp"
     }
    ]
   }
  }
 },
 "nbformat": 4,
 "nbformat_minor": 2
}
