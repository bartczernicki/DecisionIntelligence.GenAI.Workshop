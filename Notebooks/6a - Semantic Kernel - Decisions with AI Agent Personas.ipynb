{
 "cells": [
  {
   "cell_type": "markdown",
   "metadata": {},
   "source": [
    "<img style=\"float: left;padding-right: 10px\" width =\"40px\" src=\"https://raw.githubusercontent.com/bartczernicki/DecisionIntelligence.GenAI.Workshop/main/Images/SemanticKernelLogo.png\">\n",
    "\n",
    "## Semantic Kernel - Decisions with AI Agent Personas\n",
    "\n",
    "Empower multi-agent systems where specialists are defined to execute requests they were designed to fulfill.  "
   ]
  },
  {
   "cell_type": "markdown",
   "metadata": {},
   "source": [
    "### Step 1 - Initialize Configuration Builder & Build the Semantic Kernel Orchestration "
   ]
  },
  {
   "cell_type": "markdown",
   "metadata": {},
   "source": [
    "Execute the next two cells to:\n",
    "* Use the Configuration Builder to load the API secrets.  \n",
    "* Use the API configuration to build the Semantic Kernel orchestrator."
   ]
  },
  {
   "cell_type": "code",
   "execution_count": 1,
   "metadata": {
    "dotnet_interactive": {
     "language": "csharp"
    },
    "polyglot_notebook": {
     "kernelName": "csharp"
    },
    "vscode": {
     "languageId": "polyglot-notebook"
    }
   },
   "outputs": [
    {
     "data": {
      "text/html": [
       "<div><div></div><div></div><div><strong>Installed Packages</strong><ul><li><span>Microsoft.Extensions.Configuration, 9.0.0</span></li><li><span>Microsoft.Extensions.Configuration.Json, 9.0.0</span></li></ul></div></div>"
      ]
     },
     "metadata": {},
     "output_type": "display_data"
    }
   ],
   "source": [
    "// Import the required NuGet configuration packages\n",
    "#r \"nuget: Microsoft.Extensions.Configuration, 9.0.0\"\n",
    "#r \"nuget: Microsoft.Extensions.Configuration.Json, 9.0.0\"\n",
    "\n",
    "//using Microsoft.Extensions.DependencyInjection;\n",
    "using Microsoft.Extensions.Configuration.Json;\n",
    "using Microsoft.Extensions.Configuration;\n",
    "using System.IO;\n",
    "\n",
    "// Load the configuration settings from the local.settings.json and secrets.settings.json files\n",
    "// The secrets.settings.json file is used to store sensitive information such as API keys\n",
    "var configurationBuilder = new ConfigurationBuilder()\n",
    "    .SetBasePath(Directory.GetCurrentDirectory())\n",
    "    .AddJsonFile(\"local.settings.json\", optional: true, reloadOnChange: true)\n",
    "    .AddJsonFile(\"secrets.settings.json\", optional: true, reloadOnChange: true);\n",
    "var config = configurationBuilder.Build();\n",
    "\n",
    "// IMPORTANT: You ONLY NEED either Azure OpenAI or OpenAI connectiopn info, not both.\n",
    "// Azure OpenAI Connection Info\n",
    "var azureOpenAIEndpoint = config[\"AzureOpenAI:Endpoint\"];\n",
    "var azureOpenAIAPIKey = config[\"AzureOpenAI:APIKey\"];\n",
    "var azureOpenAIModelDeploymentName = config[\"AzureOpenAI:ModelDeploymentName\"];\n",
    "// OpenAI Connection Info \n",
    "var openAIAPIKey = config[\"OpenAI:APIKey\"];\n",
    "var openAIModelId = config[\"OpenAI:ModelId\"];"
   ]
  },
  {
   "cell_type": "code",
   "execution_count": null,
   "metadata": {
    "dotnet_interactive": {
     "language": "csharp"
    },
    "polyglot_notebook": {
     "kernelName": "csharp"
    },
    "vscode": {
     "languageId": "polyglot-notebook"
    }
   },
   "outputs": [
    {
     "data": {
      "text/html": [
       "<div><div></div><div></div><div><strong>Installed Packages</strong><ul><li><span>Microsoft.SemanticKernel, 1.45.0</span></li><li><span>Microsoft.SemanticKernel.Agents.Core, 1.45.0</span></li></ul></div></div>"
      ]
     },
     "metadata": {},
     "output_type": "display_data"
    }
   ],
   "source": [
    "// Import the Semantic Kernel NuGet package\n",
    "#r \"nuget: Microsoft.SemanticKernel, 1.45\" \n",
    "#r \"nuget: Microsoft.SemanticKernel.Agents.Core, 1.45\"\n",
    "\n",
    "using Microsoft.SemanticKernel;\n",
    "using Microsoft.SemanticKernel.Agents;\n",
    "using Microsoft.SemanticKernel.ChatCompletion;\n",
    "using Microsoft.SemanticKernel.Connectors.OpenAI;\n",
    "\n",
    "var semanticKernel = Kernel.CreateBuilder()\n",
    "    .AddAzureOpenAIChatCompletion(\n",
    "        deploymentName: azureOpenAIModelDeploymentName!,\n",
    "        endpoint: azureOpenAIEndpoint!,\n",
    "        apiKey: azureOpenAIAPIKey!)\n",
    "    .Build();"
   ]
  },
  {
   "cell_type": "markdown",
   "metadata": {},
   "source": [
    "### Step 2 - Creating an AI Agent Decision Persona"
   ]
  },
  {
   "cell_type": "markdown",
   "metadata": {},
   "source": [
    "Personas leverage the Chat Completion service from the Semantic Kernel Agents package. Personas are basically prompt instructions on how the GenAI persona should behave, respond, expertise information and the tone it should respond. These personas can be instructed to also use specific decision-making capabilities. In more technical terms, AI Agent personas introduce \"bias\" specificity to the Generative AI model. \n",
    "\n",
    "> Note: The term **bias** in statistics, machine learning and AI is not a \"bad\" word. Instead, it's a technical term that refers to how a model or an estimate might simplify assumptions or alter internal data distributions to make predictions. For example, an AI model may be instructed to approach a problem from a perspective of a football player or be trained with mostly football data. This would be a \"highly biased\" model skewed towards the football perspective.  \n",
    "\n",
    "In this example, the agent will take on the persona of **Dwight Eisenhower**. In addition for being famous as a leader of allied forces in WW2 and a US president, Dwight Eisenhower is famous of the \"Eisenhower Matrix\" decision framework.  \n",
    "\n",
    "<img style=\"display: block; margin: auto;\" width =\"700px\" src=\"https://raw.githubusercontent.com/bartczernicki/DecisionIntelligence.GenAI.Workshop/main/Images/DecisionIntelligenceFramework/DecisionIntelligence-Example-EisenhowerPrioritizationMatrix.png\">  \n",
    "\n",
    "> \"In preparing for battle, I have always found that plans are useless but planning is indispensable.\"\n",
    ">\n",
    "> -- <cite>Dwight Eisenhower (WW2 Allied Leader, US President)</cite> \n",
    "\n",
    "The Eisenhower Matrix Priorotization Framework is almost 80 years old. However, it is still actively used in current software systems. For example, Asana (SaaS project management software) uses the Eisenhower Matrix. https://asana.com/resources/eisenhower-matrix  \n",
    "<img style=\"display: block; margin: auto;\" width =\"700px\" src=\"https://assets.asana.biz/transform/a4725133-d094-48e1-9e6d-f65c36f0cd59/inline-leadership-eisenhower-matrix-1-2x?io=transform:fill,width:2560&format=webp\">  "
   ]
  },
  {
   "cell_type": "markdown",
   "metadata": {},
   "source": [
    "Executing the code below will ask multiple decision intelligence questions to the single agent (persona) of Dwight Eisenhower. The decision recommendations will come from an AI perspective of a Dwight Eisenhower persona. This persona is crafted with two simple instructions:\n",
    "* Approach the problem like Dwight Eisenhower.  \n",
    "* Use a systematic decision-making framework \"Eisenhower Decision Matrix\"\n",
    "* If using the \"Eisenhower Decision Matrix\", output in a nice Markdown table format  "
   ]
  },
  {
   "cell_type": "code",
   "execution_count": null,
   "metadata": {
    "dotnet_interactive": {
     "language": "csharp"
    },
    "polyglot_notebook": {
     "kernelName": "csharp"
    },
    "vscode": {
     "languageId": "polyglot-notebook"
    }
   },
   "outputs": [
    {
     "name": "stdout",
     "output_type": "stream",
     "text": [
      "How should I prioritize my typical unproductive day?\n",
      "To help structure your unproductive day, we will take inspiration from Dwight Eisenhower's approach to prioritization and employ the Eisenhower Decision Matrix. This matrix divides tasks into four quadrants based on urgency and importance to help you distinguish between what truly matters and what doesn't. Once tasks are categorized, you can focus on turning your unproductive day into a more effective one.\n",
      "\n",
      "---\n",
      "\n",
      "### Step 1: Brain Dump\n",
      "First, list all the tasks, activities, and goals you have planned or that are competing for your attention today. Examples might include work deadlines, household chores, personal goals, self-care, procrastination activities, and obligations to others.\n",
      "\n",
      "---\n",
      "\n",
      "### Step 2: Categorize Tasks\n",
      "Using the Eisenhower Matrix, we'll classify tasks into the following categories:\n",
      "\n",
      "1. **Urgent and Important**: Do these tasks now.\n",
      "   - These tasks are critical for achieving your goals or meeting deadlines and cannot be delayed. \n",
      "2. **Non-Urgent but Important**: Schedule these tasks.\n",
      "   - These tasks contribute significantly to your long-term goals or well-being but are not time-sensitive.\n",
      "3. **Urgent but Not Important**: Delegate or automate these tasks.\n",
      "   - These tasks require immediate attention but do not directly serve your long-term objectives. \n",
      "4. **Non-Urgent and Not Important**: Eliminate or reschedule these tasks.\n",
      "   - These are distractions or low-value activities. Minimize or remove them to save time and energy.\n",
      "\n",
      "---\n",
      "\n",
      "### Step 3: Apply the Eisenhower Matrix\n",
      "Once tasks are categorized, manage them accordingly. Here's a simplified version for your day:\n",
      "\n",
      "| Task Category                  | Action to Take                     | Examples of Tasks                                          |\n",
      "|---------------------------------|------------------------------------|-----------------------------------------------------------|\n",
      "| **Urgent and Important**        | Do Immediately                    | Work deadlines, urgent health tasks, critical meetings.   |\n",
      "| **Non-Urgent but Important**    | Schedule Time for These            | Exercise, skill development, planning for a project.      |\n",
      "| **Urgent but Not Important**    | Delegate/Automate if Possible      | Responding to certain emails, errand-running, low-priority requests. |\n",
      "| **Non-Urgent and Not Important**| Eliminate/Reduce Time Spent Here   | Social media scrolling, excessive gaming, non-essential TV. |\n",
      "\n",
      "---\n",
      "\n",
      "### Step 4: Your Decision Matrix\n",
      "\n",
      "Fill in your specific tasks using this format. Here's a general example for a typical unproductive day:\n",
      "\n",
      "| **Eisenhower Decision Matrix**            | **Urgent**                                         | **Not Urgent**                                   |\n",
      "|-------------------------------------------|---------------------------------------------------|-------------------------------------------------|\n",
      "| **Important**                             | - Respond to priority client email <br> - Prepare for tomorrow's meeting   <br> - Pay overdue bills | - Exercise <br> - Plan next week's meals <br> - Review personal budget|\n",
      "| **Not Important**                         | - Reply to non-critical emails <br> - Attend a non-essential Zoom call | - Mindlessly scroll social media <br> - Play phone games |\n",
      "\n",
      "Feel free to adapt the categories further.\n",
      "\n",
      "---\n",
      "\n",
      "### Step 5: Add Systems Thinking\n",
      "If you consistently feel unproductive, create systems to minimize inefficiency:\n",
      "1. **Morning Routine**: Dedicate the first hour of your day to important tasks (e.g., exercise or planning).\n",
      "2. **Time Blocking**: Allocate specific times to handle emails, meetings, and breaks.\n",
      "3. **Accountability Partner**: Work with a friend or coach to help commit to your goals and priorities.\n",
      "4. **Break Larger Goals into Smaller, Manageable Steps**: This avoids feeling overwhelmed.\n",
      "\n",
      "---\n",
      "\n",
      "### Step 6: Simple Execution Plan for Today\n",
      "- **First 2 hours**: Knock out urgent and important tasks.\n",
      "- **Midday**: Focus on progress in non-urgent but important tasks.\n",
      "- **Afternoon**: Handle low-priority urgent tasks or delegate them if possible.\n",
      "- **Evening**: Reflect on your progress and eliminate distractions.\n",
      "\n",
      "In short, using the Eisenhower approach, focus on tasks that are both **Important** and **have the potential to move you closer to meaningful goals**. This will help you turn an unproductive day into one filled with purpose and progress.\n",
      "I am looking to buy a new car, what should I consider before making a decision?\n",
      "Buying a new car is a significant investment and requires a structured decision-making process to ensure you make the best choice for your needs, lifestyle, and financial situation. Below, I’ll outline a strategic approach using key principles of decision intelligence, systems thinking, and even the Eisenhower Decision Matrix where applicable.\n",
      "\n",
      "---\n",
      "\n",
      "### Step 1: Define Your Needs and Goals\n",
      "\n",
      "Ask yourself foundational questions to clarify your objectives:\n",
      "1. **Primary Use**: Is this car for commuting, family use, road trips, or business?\n",
      "2. **Capacity**: How many passengers or how much cargo space do you need?\n",
      "3. **Environment**: Will you mainly drive in cities, suburbs, rural areas, or off-road?\n",
      "4. **Longevity**: How long do you plan to keep the car (short-term vs. long-term)?\n",
      "5. **Budget**: \n",
      "   - What is your total budget, including down payment, monthly payments (if financed), insurance, and maintenance?\n",
      "   - Factor in long-term costs like fuel efficiency, repairs, and depreciation.\n",
      "\n",
      "---\n",
      "\n",
      "### Step 2: Determine Non-Negotiables and Preferences\n",
      "\n",
      "Categorize features into \"must-haves\" and \"nice-to-haves.\" This can save you time when comparing options.\n",
      "\n",
      "**Must-Haves**:\n",
      "- Safety features (e.g., airbags, anti-lock brakes, blind-spot monitoring)\n",
      "- Fuel type (e.g., gas, hybrid, electric vehicle)\n",
      "- Affordable price range\n",
      "- Reliability ratings (research brands with high durability)\n",
      "- Condition (new vs. certified pre-owned)\n",
      "\n",
      "**Nice-to-Haves**:\n",
      "- Advanced technology (e.g., touchscreens, adaptive cruise control, heated seats)\n",
      "- Styling and aesthetics\n",
      "- Luxury features (e.g., premium sound system, leather interior)\n",
      "\n",
      "---\n",
      "\n",
      "### Step 3: Conduct Research and Narrow Options\n",
      "\n",
      "1. **Research Models**:\n",
      "   - Use sites like Kelley Blue Book, Edmunds, or Consumer Reports to compare vehicles by your priorities.\n",
      "   - Read reviews for reliability, performance, and customer satisfaction.\n",
      "\n",
      "2. **Compare Total Costs**:\n",
      "   - Include upfront cost, fuel efficiency (MPG/kWh), insurance rates, maintenance, and depreciation.\n",
      "\n",
      "3. **Check Long-Term Factors**: \n",
      "   - Resale Value: Look at the car's expected depreciation over time.\n",
      "   - Brand Reputation: Is the manufacturer known for quality and customer service?\n",
      "\n",
      "---\n",
      "\n",
      "### Step 4: Use the Eisenhower Decision Matrix to Prioritize Focus Areas\n",
      "\n",
      "Analyze the factors in the decision-making process. Here’s how the Eisenhower Matrix can apply when choosing what to prioritize:\n",
      "\n",
      "| **Eisenhower Decision Matrix**            | **Urgent**                                         | **Not Urgent**                                   |\n",
      "|-------------------------------------------|---------------------------------------------------|-------------------------------------------------|\n",
      "| **Important**                             | - Vehicle affordability within budget<br> - Safety features<br> - Fuel efficiency and long-term savings | - Technology preferences<br> - Resale value for later |\n",
      "| **Not Important**                         | - Availability of discounts (e.g., may or may not influence decision) | - Aesthetic designs that don’t impact functionality |\n",
      "\n",
      "---\n",
      "\n",
      "### Step 5: Test Drive and Compare\n",
      "\n",
      "1. **Schedule Test Drives**:\n",
      "   - Feel the car's comfort, handling, and visibility.\n",
      "   - Test the entertainment, navigation, and advanced safety features.\n",
      "   - Check for noise levels, ride quality, and ease of driving in expected environments (highways, city traffic, etc.).\n",
      "\n",
      "2. **Ask Questions**:\n",
      "   - Are there specific maintenance concerns with this model?\n",
      "   - What warranties and service packages are offered?\n",
      "   - How does the after-sales service work?\n",
      "\n",
      "---\n",
      "\n",
      "### Step 6: Financial Analysis and Payment Options\n",
      "\n",
      "1. **Compare Financing Options**:\n",
      "   - Should you lease or buy? For short-term use, leasing might be ideal; for long-term ownership, purchasing is better.\n",
      "   - Review interest rates for loans. Shop around for the best rate.\n",
      "   - Factor in your credit score to qualify for the best financing deals.\n",
      "\n",
      "2. **Plan for Additional Costs**:\n",
      "   - Taxes, registration, and dealership fees.\n",
      "   - Extended warranties or prepaid maintenance packages, if desired.\n",
      "\n",
      "---\n",
      "\n",
      "### Step 7: Consider Sustainability and Future Proofing\n",
      "\n",
      "1. **Environmental Impact**: \n",
      "   - If sustainability matters to you, consider electric vehicles (EVs) or hybrids.\n",
      "   - Evaluate available government rebates, tax benefits, or EV infrastructure in your area.\n",
      "\n",
      "2. **Tech Upgradability**: \n",
      "   - Does the car’s tech system allow over-the-air updates to stay current?\n",
      "   - Are upcoming regulations (e.g., emissions) likely to impact your chosen model?\n",
      "\n",
      "---\n",
      "\n",
      "### Step 8: Final Decision Checklist\n",
      "\n",
      "Here’s a quick checklist to validate your decision:\n",
      "- Does the car meet both your short-term and long-term needs?\n",
      "- Are you within budget, both upfront and ongoing costs?\n",
      "- Are you satisfied with the safety, reliability, and durability of the car?\n",
      "- Have you thoroughly compared alternatives without emotional bias?\n",
      "- Have you prioritized long-term ownership benefits over short-term aesthetics?\n",
      "\n",
      "---\n",
      "\n",
      "### Step 9: Purchase and Execution\n",
      "\n",
      "- Negotiate the Price: Do your homework on the car’s market value and be firm on your budget.\n",
      "- Read Contracts Thoroughly: Check for hidden fees or terms in financing/lease agreements.\n",
      "- Secure Insurance: Arrange the right coverage before driving off the lot.\n",
      "\n",
      "By thinking critically, prioritizing needs, and logically weighing options, you’ll make a car-buying decision you won’t regret. Would you like assistance working through specific car models or financing scenarios?\n"
     ]
    }
   ],
   "source": [
    "// Helper method to invoke the chat completion agent with a list of prompts\n",
    "private static async Task InvokeChatCompletionAgentWithTemplateAsync(ChatCompletionAgent agent, string[] prompts)\n",
    "{\n",
    "    ChatHistory chat = [];\n",
    "\n",
    "    foreach (var prompt in prompts)\n",
    "    {\n",
    "        // Add input to chat\n",
    "        ChatMessageContent request = new(AuthorRole.User, prompt);\n",
    "        chat.Add(request);\n",
    "        Console.WriteLine(request);\n",
    "\n",
    "        KernelArguments? arguments = null;\n",
    "\n",
    "        // Process agent response\n",
    "        await foreach (ChatMessageContent message in agent.InvokeAsync(chat, arguments))\n",
    "        {\n",
    "            chat.Add(message);\n",
    "            Console.WriteLine(message);\n",
    "        }\n",
    "    }\n",
    "}\n",
    "\n",
    "// Notice the agent is created with a name, instructions, and description\n",
    "var name = \"DwightEisenhower\";\n",
    "var instructions = \"\"\"\n",
    "You are a decision intelligence strategist. Provide structured, logical, and comprehensive advice.\n",
    "Assist the user in exploring options, reasoning through decisions, problem-solving, and applying systems thinking to various scenarios. \n",
    "Approach the problem how Dwight Eisenhower approached strategic problems and \n",
    "when appropriate using the Dwight Eisenhower's Decision Prioritization Matrix.\n",
    "\n",
    "If using the Decision Prioritization Matrix, output it in a Markdown table format.\n",
    "\"\"\";\n",
    "var description = \"A chat bot that replies to the message with recommending the Eisenhower Decision Priorotization Matrix.\";\n",
    "\n",
    "string[] prompts = \n",
    "[\n",
    "\"How should I prioritize my typical unproductive day?\",\n",
    "\"I am looking to buy a new car, what should I consider before making a decision?\",\n",
    "];\n",
    "\n",
    "// Instruction based template always processed by KernelPromptTemplateFactory\n",
    "ChatCompletionAgent agent =\n",
    "    new()\n",
    "    {\n",
    "        Kernel = semanticKernel,\n",
    "        Name = name,\n",
    "        Description = description,\n",
    "        Instructions = instructions\n",
    "    };\n",
    "\n",
    "await InvokeChatCompletionAgentWithTemplateAsync(agent, prompts);"
   ]
  },
  {
   "cell_type": "markdown",
   "metadata": {},
   "source": [
    "Example table output using the **\"Eisenhower Prioritization Matrix\"** to the question: **\"How should I prioritize my typical unproductive day?\"**: \n",
    "\n",
    "| Urgent/Important         | Important/Not Urgent          | Urgent/Not Important       | Not Urgent/Not Important    |\n",
    "|--------------------------|-------------------------------|----------------------------|-----------------------------|\n",
    "| Prepare for a meeting    | Reading a book                | Answering non-critical emails | Watching TV                  |\n",
    "| Paying bills             | Exercise                      | Responding to non-urgent messages | Browsing social media         |\n",
    "| Fixing a crucial work error| Planning out weekly meals   | Running a non-critical errand | Playing games                |\n"
   ]
  },
  {
   "cell_type": "markdown",
   "metadata": {},
   "source": [
    "Example table output using the **\"Eisenhower Prioritization Matrix\"** to the question: **\"I am looking to buy a new car, what should I consider before making a decision?\"**: \n",
    "\n",
    "| Urgent/Important                           | Important/Not Urgent                     | Urgent/Not Important                | Not Urgent/Not Important           |\n",
    "|--------------------------------------------|------------------------------------------|-------------------------------------|------------------------------------|\n",
    "| **Budgeting and Financing**                | **Long-Term Ownership Costs**            | **Dealership Promotions**           | **Additional Luxury Features**      |\n",
    "| **Primary Usage Requirements**             | **Resale Value and Depreciation**        | **Brand Loyalty Offers**            | **Cosmetic Preferences**            |\n",
    "| **Safety Features**                        | **Warranty and Service**                 | **Short-Term Insurance Discounts**  | **Optional Upgrades**               |\n",
    "| **Test Driving Suitable Models**           | **Environmental Impact Assessment**      | **Accessories Given**               | **Color Choice**                    |\n"
   ]
  }
 ],
 "metadata": {
  "kernelspec": {
   "display_name": ".NET (C#)",
   "language": "C#",
   "name": ".net-csharp"
  },
  "language_info": {
   "name": "python"
  },
  "polyglot_notebook": {
   "kernelInfo": {
    "defaultKernelName": "csharp",
    "items": [
     {
      "aliases": [],
      "name": "csharp"
     }
    ]
   }
  }
 },
 "nbformat": 4,
 "nbformat_minor": 2
}
