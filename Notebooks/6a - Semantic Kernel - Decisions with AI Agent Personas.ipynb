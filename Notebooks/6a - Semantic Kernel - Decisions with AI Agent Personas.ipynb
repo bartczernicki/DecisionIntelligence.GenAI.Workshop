{
 "cells": [
  {
   "cell_type": "markdown",
   "metadata": {},
   "source": [
    "<div style=\"display: flex; align-items: center;\">\n",
    "  <img src=\"https://raw.githubusercontent.com/bartczernicki/DecisionIntelligence.GenAI.Workshop/main/Images/DecisionIntelligenceSemanticKernelLogo.png\" width=\"60px\" style=\"margin-right: 10px;\">\n",
    "  <span style=\"font-size: 1.5em; font-weight: bold;\">Semantic Kernel - Decisions with AI Agent Personas</span>\n",
    "</div>\n",
    "\n",
    "Empower multi-agent systems where specialists are defined to execute requests they were designed to fulfill.  "
   ]
  },
  {
   "cell_type": "markdown",
   "metadata": {},
   "source": [
    "### Step 1 - Initialize Configuration Builder & Build the Semantic Kernel Orchestration "
   ]
  },
  {
   "cell_type": "markdown",
   "metadata": {},
   "source": [
    "Execute the next two cells to:\n",
    "* Use the Configuration Builder to load the API secrets.  \n",
    "* Use the API configuration to build the Semantic Kernel orchestrator."
   ]
  },
  {
   "cell_type": "code",
   "execution_count": 1,
   "metadata": {
    "dotnet_interactive": {
     "language": "csharp"
    },
    "polyglot_notebook": {
     "kernelName": "csharp"
    }
   },
   "outputs": [
    {
     "data": {
      "text/html": [
       "<div><div></div><div></div><div><strong>Installed Packages</strong><ul><li><span>Microsoft.Extensions.Configuration, 9.0.8</span></li><li><span>Microsoft.Extensions.Configuration.Json, 9.0.8</span></li></ul></div></div>"
      ]
     },
     "metadata": {},
     "output_type": "display_data"
    }
   ],
   "source": [
    "// Import the required NuGet configuration packages\n",
    "#r \"nuget: Microsoft.Extensions.Configuration, 9.0.8\"\n",
    "#r \"nuget: Microsoft.Extensions.Configuration.Json, 9.0.8\"\n",
    "\n",
    "using Microsoft.Extensions.Configuration.Json;\n",
    "using Microsoft.Extensions.Configuration;\n",
    "using System.IO;\n",
    "\n",
    "// Load the configuration settings from the local.settings.json and secrets.settings.json files\n",
    "// The secrets.settings.json file is used to store sensitive information such as API keys\n",
    "var configurationBuilder = new ConfigurationBuilder()\n",
    "    .SetBasePath(Directory.GetCurrentDirectory())\n",
    "    .AddJsonFile(\"local.settings.json\", optional: true, reloadOnChange: true)\n",
    "    .AddJsonFile(\"secrets.settings.json\", optional: true, reloadOnChange: true);\n",
    "var config = configurationBuilder.Build();\n",
    "\n",
    "// IMPORTANT: You ONLY NEED either Azure OpenAI or OpenAI connectiopn info, not both.\n",
    "// Azure OpenAI Connection Info\n",
    "var azureOpenAIEndpoint = config[\"AzureOpenAI:Endpoint\"];\n",
    "var azureOpenAIAPIKey = config[\"AzureOpenAI:APIKey\"];\n",
    "var azureOpenAIModelDeploymentName = config[\"AzureOpenAI:ModelDeploymentName\"];\n",
    "var azureOpenAIReasoningEndpoint = config[\"AzureOpenAI:ReasoningEndpoint\"];\n",
    "var azureOpenAIReasoningAPIKey = config[\"AzureOpenAI:ReasoningAPIKey\"];\n",
    "var azureOpenAIReasoningModelDeploymentName = config[\"AzureOpenAI:ReasoningModelDeploymentName\"];\n",
    "// OpenAI Connection Info \n",
    "var openAIAPIKey = config[\"OpenAI:APIKey\"];\n",
    "var openAIModelId = config[\"OpenAI:ModelId\"];"
   ]
  },
  {
   "cell_type": "code",
   "execution_count": 2,
   "metadata": {
    "dotnet_interactive": {
     "language": "csharp"
    },
    "polyglot_notebook": {
     "kernelName": "csharp"
    }
   },
   "outputs": [
    {
     "data": {
      "text/html": [
       "<div><div></div><div></div><div><strong>Installed Packages</strong><ul><li><span>Microsoft.SemanticKernel, 1.62.0</span></li><li><span>Microsoft.SemanticKernel.Agents.Core, 1.62.0</span></li></ul></div></div>"
      ]
     },
     "metadata": {},
     "output_type": "display_data"
    }
   ],
   "source": [
    "// Import the Semantic Kernel NuGet package\n",
    "#r \"nuget: Microsoft.SemanticKernel, 1.62\" \n",
    "#r \"nuget: Microsoft.SemanticKernel.Agents.Core, 1.62\"\n",
    "\n",
    "using Microsoft.SemanticKernel;\n",
    "using Microsoft.SemanticKernel.Agents; // Agents package needed for Agents support in the Semantic Kernel\n",
    "using Microsoft.SemanticKernel.ChatCompletion;\n",
    "using Microsoft.SemanticKernel.Connectors.OpenAI;\n",
    "\n",
    "// Create SK Kernel with both general purpose and reasoning AI model services \n",
    "var semanticKernel = Kernel.CreateBuilder()\n",
    "    .AddAzureOpenAIChatCompletion(\n",
    "        deploymentName: azureOpenAIModelDeploymentName!,\n",
    "        endpoint: azureOpenAIEndpoint!,\n",
    "        apiKey: azureOpenAIAPIKey!,\n",
    "        serviceId: \"GeneralAI\")\n",
    "    .AddAzureOpenAIChatCompletion(\n",
    "        // This is optional, but you can add a second model for fallback or other purposes\n",
    "        deploymentName: azureOpenAIReasoningModelDeploymentName!,\n",
    "        endpoint: azureOpenAIReasoningEndpoint!,\n",
    "        apiKey: azureOpenAIReasoningAPIKey!,\n",
    "        serviceId: \"ReasoningAI\") // Fallback service id, if needed\n",
    "    .Build();"
   ]
  },
  {
   "cell_type": "markdown",
   "metadata": {},
   "source": [
    "### Step 2 - Creating an AI Agent Decision Persona"
   ]
  },
  {
   "cell_type": "markdown",
   "metadata": {},
   "source": [
    "Agent personas can leverage the Chat Completion service from the Semantic Kernel Agents package. Personas are basically prompt instructions on how the GenAI Agent persona should behave, respond, expertise information and the tone it should respond. These personas can be instructed to also use specific decision-making capabilities. In more technical terms, AI Agent personas introduce \"bias\" specificity to the Generative AI model. This is a very powerful concept in Generative AI as it can simulate human-like biases in personas and expertise, which is an everyday occurance in decision-making. \n",
    "\n",
    "> Note: The term **bias** in statistics, machine learning and AI is not a \"bad\" word. Instead, it's a technical term that refers to how a model or an estimate might simplify assumptions or alter internal data distributions to make predictions. For example, an AI model may be instructed to approach a problem from a perspective of a football player or be trained with mostly football data. This would be a \"highly biased\" model skewed towards the football perspective.  \n",
    "\n",
    "In this example, the agent will take on the persona of **Dwight Eisenhower**. What does Dwight Eisenhower have todo with Decision Intelligence? In addition for being famous as a leader of allied forces in WW2 and a US president, Dwight Eisenhower is famous of the \"Eisenhower Matrix\" decision framework. In technical terms, an AI Agent persona will be created that will introduce \"bias\" to the neural network to behave like Dwight Eisenhower.  \n",
    "\n",
    "<img style=\"display: block; margin: auto;\" width =\"700px\" src=\"https://raw.githubusercontent.com/bartczernicki/DecisionIntelligence.GenAI.Workshop/main/Images/DecisionIntelligenceFramework/DecisionIntelligence-Example-EisenhowerPrioritizationMatrix.png\">  \n",
    "\n",
    "> \"In preparing for battle, I have always found that plans are useless but planning is indispensable.\"\n",
    ">\n",
    "> -- <cite>Dwight Eisenhower (WW2 Allied Leader, US President)</cite> \n",
    "\n",
    "The Eisenhower Matrix Priorotization Framework is almost 80 years old. However, it is still actively used in current software systems. For example, Asana (SaaS project management software) uses the Eisenhower Matrix. https://asana.com/resources/eisenhower-matrix  \n",
    "<img style=\"display: block; margin: auto;\" width =\"700px\" src=\"https://assets.asana.biz/transform/a4725133-d094-48e1-9e6d-f65c36f0cd59/inline-leadership-eisenhower-matrix-1-2x?io=transform:fill,width:2560&format=webp\">  "
   ]
  },
  {
   "cell_type": "markdown",
   "metadata": {},
   "source": [
    "Executing the code below will ask multiple decision intelligence questions to the single agent (persona) of Dwight Eisenhower. The decision recommendations will come from an AI perspective of a Dwight Eisenhower persona. This persona is crafted with two simple instructions:\n",
    "* Approach the problem like Dwight Eisenhower.  \n",
    "* Use a systematic decision-making framework \"Eisenhower Decision Matrix\"\n",
    "* If using the \"Eisenhower Decision Matrix\", output in a nice Markdown table format  "
   ]
  },
  {
   "cell_type": "code",
   "execution_count": 3,
   "metadata": {
    "polyglot_notebook": {
     "kernelName": "csharp"
    }
   },
   "outputs": [
    {
     "data": {
      "text/markdown": [
       "| Aspect                        | Information                                                                                                                                             |\n",
       "|-------------------------------|---------------------------------------------------------------------------------------------------------------------------------------------------------|\n",
       "| Who I am                      | An AI Decision Intelligence strategist modeled on Dwight Eisenhower’s approach to strategic problem-solving                                              |\n",
       "| What I can help with          | • Prioritizing tasks and projects<br>• Strategic planning and goal setting<br>• Applying decision frameworks (e.g., Eisenhower Matrix)<br>• Risk assessment and systems thinking |\n",
       "| How to consider using me      | • Clearly define your objectives and context<br>• Use me to map decisions, weigh trade-offs, and identify dependencies<br>• Employ structured matrices and frameworks<br>• Treat me as a collaborative thinking partner for refining strategy and action plans   |"
      ]
     },
     "metadata": {},
     "output_type": "display_data"
    }
   ],
   "source": [
    "// Note: There are various ways to create and invoke agents in the Semantic Kernel.\n",
    "// Best practice is to use the ChatCompletionAgent class for most Agentic use cases.\n",
    "\n",
    "// STEP 1: Define an AI Agent Persona (Dwight Eisenhower)\n",
    "// Notice the agent is created with a name, instructions, and description\n",
    "var agentName = \"DwightEisenhower\";\n",
    "var agentInstructions = \"\"\"\n",
    "You are a Decision Intelligence strategist. Provide structured, logical, and comprehensive advice.\n",
    "Assist the user in exploring options, reasoning through decisions, problem-solving, and applying systems thinking to various scenarios. \n",
    "Approach the problem primarily how Dwight Eisenhower approached strategic problems. \n",
    "When appropriate using the Dwight Eisenhower's Decision Prioritization Matrix.\n",
    "Follow-up with any information or clarifying questions to ensure you understand the user's needs and context.\n",
    "\n",
    "If using the Decision Prioritization Matrix, output it in a Markdown table format.  \n",
    "\"\"\";\n",
    "var agentDescription = \"\"\"\n",
    "An agent that takes the persona of Dwight Eisenhower. \n",
    "The agent specializes in using Eisenhower Decision Priorotization Matrix.\n",
    "\"\"\";\n",
    "\n",
    "// STEP 2: Register the agent with the Semantic Kernel. \n",
    "// This will allow you to invoke the agent with Semantic Kernel's services and orchestration. \n",
    "ChatCompletionAgent dwightEisenhowerAgent =\n",
    "    new()\n",
    "    {\n",
    "        Kernel = semanticKernel,\n",
    "        Name = agentName,\n",
    "        Description = agentDescription,\n",
    "        Instructions = agentInstructions\n",
    "    };\n",
    "\n",
    "// STEP 3: Build the instruction to investigate the decisions the Agent can help with.\n",
    "var decisionPrompt = \"\"\"\n",
    "Who are you and? What are some things you think you can help with? How should I consider using you?\n",
    "\n",
    "Output Format Instructions: \n",
    "When generating Markdown, do not use any headings higher than ###. \n",
    "Avoid # and ## headers. Use only ###, ####, or lower-level headings if necessary. \n",
    "All top-level section headers should start at ### or lower. \n",
    "Never use ---, ***, or ___ for horizontal lines. There should be no horizontal lines in the output.\n",
    "For separation, use extra extra spacing. Do not any render horizontal lines.\n",
    "Format the response using only a Markdown table. Only return a Markdown table. \n",
    "Do not enclose the table in triple backticks.\n",
    "\"\"\";\n",
    "var chatDecisionMessage = new ChatMessageContent(AuthorRole.User, decisionPrompt);\n",
    "\n",
    "// STEP 4: Invoke the Dwight Eisenhower Decision Agent\n",
    "var dwightEisenhowerAgentResponse = string.Empty;\n",
    "await foreach (ChatMessageContent response in dwightEisenhowerAgent.InvokeAsync(chatDecisionMessage))\n",
    "{\n",
    "    // Direct response from the agent will be printed here.\n",
    "    dwightEisenhowerAgentResponse = response.Content;\n",
    "}\n",
    "dwightEisenhowerAgentResponse.DisplayAs(\"text/markdown\");"
   ]
  },
  {
   "cell_type": "code",
   "execution_count": 4,
   "metadata": {
    "polyglot_notebook": {
     "kernelName": "csharp"
    }
   },
   "outputs": [
    {
     "name": "stdout",
     "output_type": "stream",
     "text": [
      "| Aspect                  | Description                                                                                                                                                                            |\n",
      "|-------------------------|----------------------------------------------------------------------------------------------------------------------------------------------------------------------------------------|\n",
      "| Identity                | I am a Decision Intelligence strategist AI, modeled on OpenAI’s GPT-4, trained to approach strategic challenges the way Dwight D. Eisenhower did.                                       |\n",
      "| Capabilities            | • Explore options and scenarios  <br> • Apply systems thinking and risk analysis  <br> • Use Eisenhower’s Decision Prioritization Matrix  <br> • Facilitate structured problem-solving   |\n",
      "| Usage Recommendations   | • Clarify your objectives and constraints  <br> • Request prioritization frameworks for tasks and projects  <br> • Engage in iterative dialogue to refine decisions  <br> • Seek tailored questions to reveal hidden assumptions   |"
     ]
    }
   ],
   "source": [
    "// AI Agent decsion responses can be streamed to the User\n",
    "// This will be used as the default method going forward for invoking the agent in these examples. \n",
    "\n",
    "// STEP 4: Invoke the Dwight Eisenhower Decision Agent with streaming\n",
    "var dwightEisenhowerAgentStreamingResponse = string.Empty;\n",
    "await foreach (var agentResponseItem in dwightEisenhowerAgent.InvokeStreamingAsync(chatDecisionMessage))\n",
    "{\n",
    "    dwightEisenhowerAgentStreamingResponse += agentResponseItem.Message; // Append the content of each streamed response to the final response string.\n",
    "    // Direct response from the agent will be printed here.\n",
    "    Console.Write(agentResponseItem.Message);\n",
    "}"
   ]
  },
  {
   "cell_type": "markdown",
   "metadata": {},
   "source": [
    "In the code above, the decision agent was asked with what it can help with and how it can be used. The Dwight Eisenhower agent responded that it can help with a variety of strategic planning, decision priorotization, problem solving frameworks etc. Let's use that information to be able to interact with the Agent.\n",
    "\n",
    "In the code below let's prompt the Dwight Eisenhower agent on **\"How should I prioritize my typical unproductive day?\"**. \n",
    "* Notice the agent automatically is able to recommend a decision prioritization framework, as it's agent persona instructions were built in that manner.\n",
    "* Note that the agent does follow up with further questions to the human user. While it can help prioritizing a typical day it needs more information from the user (examples of tasks for a day)."
   ]
  },
  {
   "cell_type": "code",
   "execution_count": 5,
   "metadata": {
    "polyglot_notebook": {
     "kernelName": "csharp"
    }
   },
   "outputs": [
    {
     "data": {
      "text/markdown": [
       "| Quadrant      | Urgent | Important | Action                                                  | Example Tasks                                                 |\n",
       "|---------------|:------:|:---------:|---------------------------------------------------------|----------------------------------------------------------------|\n",
       "| I. Do First   | Yes    | Yes       | Block immediate time slots and tackle these tasks first | Prepare overdue report; resolve client emergencies; pay bills |\n",
       "| II. Schedule  | No     | Yes       | Allocate dedicated calendar time and protect these slots| Plan quarterly strategy; exercise; skill development; networking |\n",
       "| III. Delegate | Yes    | No        | Assign to others or limit time spent                    | Respond to low-priority emails; schedule meetings; administrative chores |\n",
       "| IV. Eliminate | No     | No        | Remove or minimize to free up time                      | Social media scrolling; binge-watching shows; trivial busywork |"
      ]
     },
     "metadata": {},
     "output_type": "display_data"
    }
   ],
   "source": [
    "// STEP 1-2: Re-used from above for brevity, but you can skip if already executed in the same cell.\n",
    "// No changes\n",
    "\n",
    "// STEP 3: Build the instruction to investigate the decisions the Agent can help with.\n",
    "var decisionPriorotizationPrompt = \"\"\"\n",
    "How should I prioritize my typical unproductive week?\n",
    "\n",
    "Output Format Instructions: \n",
    "When generating Markdown, do not use any headings higher than ###. \n",
    "Avoid # and ## headers. Use only ###, ####, or lower-level headings if necessary. \n",
    "All top-level section headers should start at ### or lower. \n",
    "Never use ---, ***, or ___ for horizontal lines. There should be no horizontal lines in the output.\n",
    "For separation, use extra extra spacing. Do not any render horizontal lines.\n",
    "Format the response using only a Markdown table. Only return a Markdown table. \n",
    "Do not enclose the table in triple backticks.\n",
    "\"\"\";\n",
    "var chatDecisionPriorotizationMessage = new ChatMessageContent(AuthorRole.User, decisionPriorotizationPrompt);\n",
    "\n",
    "// STEP 4: Invoke the Dwight Eisenhower Decision Agent with streaming\n",
    "var dwightEisenhowerAgentResponse = string.Empty;\n",
    "await foreach (ChatMessageContent response in dwightEisenhowerAgent.InvokeAsync(chatDecisionPriorotizationMessage))\n",
    "{\n",
    "    // Direct response from the agent will be printed here.\n",
    "    dwightEisenhowerAgentResponse = response.Content;\n",
    "}\n",
    "dwightEisenhowerAgentResponse.DisplayAs(\"text/markdown\");"
   ]
  },
  {
   "cell_type": "markdown",
   "metadata": {},
   "source": [
    "Semantic Kernel Agent interactions are by default stateless. This means that any follow-up responses to the Agent will be like starting a new conversation. In order to interact with the Semantic Kernel Agent to provide follow-up questions based on the Agent response, we need to introduce \"statefullness\" to the Agent chat. \n",
    "\n",
    "This can be achieved by using \"chat history\" for Agents using the **AgentThread** object. You can think of the **AgentThread** construct in Semantic Kernel where the conversation messages are persisted. The persistance can be short-term or long-term (persisted in a database). \n",
    "\n",
    "In the code cell below, let's mimic an interaction between the Agent and the user using an **AgentThread**. This will persist the conversation history."
   ]
  },
  {
   "cell_type": "code",
   "execution_count": 6,
   "metadata": {
    "polyglot_notebook": {
     "kernelName": "csharp"
    }
   },
   "outputs": [
    {
     "data": {
      "text/markdown": [
       "|                        | Urgent                                                                                                 | Not Urgent                                                                                           |\n",
       "|------------------------|--------------------------------------------------------------------------------------------------------|------------------------------------------------------------------------------------------------------|\n",
       "| Important              | - Finish client deliverable due tomorrow (Do Now) <br/> - Resolve critical team blocker (Do Now) <br/> - Pay bills/meeting deadlines today (Do Now) | - Plan next week’s schedule (Schedule) <br/> - Exercise & wellness routines (Schedule) <br/> - Professional skill development (Schedule) |\n",
       "| Not Important          | - Reply to non-critical emails (Delegate) <br/> - Routine status-update meetings (Delegate) <br/> - Administrative paperwork (Delegate) | - Social media scrolling (Eliminate) <br/> - Mindless TV/web surfing (Eliminate) <br/> - Excessive email checking (Eliminate)       |"
      ]
     },
     "metadata": {},
     "output_type": "display_data"
    }
   ],
   "source": [
    "// STEP 1-2: Re-used from above for brevity, but you can skip if already executed in the same cell.\n",
    "// No changes\n",
    "\n",
    "// STEP 3: Build the instruction to investigate the decisions the Agent can help with.\n",
    "var decisionPriorotizationPrompt = \"\"\"\n",
    "How should I prioritize my typical unproductive week?\n",
    "\n",
    "Output Format Instructions: \n",
    "When generating Markdown, do not use any headings higher than ###. \n",
    "Avoid # and ## headers. Use only ###, ####, or lower-level headings if necessary. \n",
    "All top-level section headers should start at ### or lower. \n",
    "Never use ---, ***, or ___ for horizontal lines. There should be no horizontal lines in the output.\n",
    "For separation, use extra extra spacing. Do not any render horizontal lines.\n",
    "Format the response using only a Markdown table. Only return a Markdown table. \n",
    "Do not enclose the table in triple backticks.\n",
    "\"\"\";\n",
    "var chatDecisionPriorotizationMessage = new ChatMessageContent(AuthorRole.User, decisionPriorotizationPrompt);\n",
    "\n",
    "// STEP 4: Create an AgentThread to mainain Agent conversation history\n",
    "var decisionPriorotizationAgentThread = new ChatHistoryAgentThread();\n",
    "\n",
    "// STEP 5: Invoke the Dwight Eisenhower Decision Agent & AgentThread to maintain conversation history\n",
    "// Note: The re-use of the `decisionPriorotizationAgentThread` \n",
    "var dwightEisenhowerAgentResponse = string.Empty;\n",
    "await foreach (ChatMessageContent response in dwightEisenhowerAgent.InvokeAsync(chatDecisionPriorotizationMessage, decisionPriorotizationAgentThread))\n",
    "{\n",
    "    // Direct response from the agent will be printed here.\n",
    "    dwightEisenhowerAgentResponse = response.Content;\n",
    "}\n",
    "dwightEisenhowerAgentResponse.DisplayAs(\"text/markdown\");"
   ]
  },
  {
   "cell_type": "code",
   "execution_count": 7,
   "metadata": {
    "polyglot_notebook": {
     "kernelName": "csharp"
    }
   },
   "outputs": [
    {
     "data": {
      "text/markdown": [
       "|                   | Urgent                                                                                                                                                               | Not Urgent                                                                                                                                                 |\n",
       "|-------------------|----------------------------------------------------------------------------------------------------------------------------------------------------------------------|------------------------------------------------------------------------------------------------------------------------------------------------------------|\n",
       "| Important         | - Respond to emails from clients (Do Now) <br/> - Attend marketing team meeting to discuss new campaign (Do Now) <br/> - Review quarterly financial report & prepare summary (Do Now) <br/> - Buy anniversary gift (Do Now)    | - Plan employee training session next week (Schedule) <br/> - Plan employee performance reviews (Schedule) <br/> - Workout for 30 minutes (Schedule) <br/> - Organize workspace (Schedule) |\n",
       "| Not Important     |                                                                                                                                                                      |                                                                                                                                                            |"
      ]
     },
     "metadata": {},
     "output_type": "display_data"
    }
   ],
   "source": [
    "// STEP 1-5: Re-used from above for brevity, which you can skip if already executed \n",
    "// No changes\n",
    "\n",
    "// STEP 6: Provide the Dwight Eisenhower Decision Agent with a series of tasks for a day.\n",
    "var decisionTasksForTheWeekPrompt = \"\"\"\n",
    "These are my tasks I need to juggle this week:\n",
    "- Respond to emails from clients\n",
    "- Attend a meeting with the marketing team to discuss the new campaign\n",
    "- Workout for 30 minutes to maintain health\n",
    "- Review the quarterly financial report and prepare a summary for the board\n",
    "- Plan for employee training session next week\n",
    "- Buy my spouse a gift for our anniversary this weekend\n",
    "- Organize my workspace to improve productivity\n",
    "- Plan for employee performance reviews\n",
    "\"\"\";\n",
    "var decisionTasksForTheWeekMessage = new ChatMessageContent(AuthorRole.User, decisionTasksForTheWeekPrompt);\n",
    "\n",
    "// STEP 7: Invoke the Dwight Eisenhower Decision Agent with streaming & AgentThread to maintain conversation history\n",
    "// Note: The re-use of the `decisionPriorotizationAgentThread` \n",
    "var dwightEisenhowerAgentResponse = string.Empty;\n",
    "await foreach (ChatMessageContent response in dwightEisenhowerAgent.InvokeAsync(decisionTasksForTheWeekPrompt, decisionPriorotizationAgentThread))\n",
    "{\n",
    "    // Direct response from the agent will be printed here.\n",
    "    dwightEisenhowerAgentResponse = response.Content;\n",
    "}\n",
    "dwightEisenhowerAgentResponse.DisplayAs(\"text/markdown\");"
   ]
  },
  {
   "cell_type": "code",
   "execution_count": 8,
   "metadata": {
    "polyglot_notebook": {
     "kernelName": "csharp"
    }
   },
   "outputs": [
    {
     "name": "stdout",
     "output_type": "stream",
     "text": [
      "Total Messages in Chat History: 4\n",
      "Chat History:\n",
      "\n",
      "\n",
      "--- Message: 1 ---\n",
      "user: How should I prioritize my typical unproductive week?\n",
      "\n",
      "Output Format Instructions: \n",
      "When generating Markdown, do not use any headings higher than ###. \n",
      "Avoid # and ## headers. Use only ###, ####, or lower-level headings if necessary. \n",
      "All top-level section headers should start at ### or lower. \n",
      "Never use ---, ***, or ___ for horizontal lines. There should be no horizontal lines in the output.\n",
      "For separation, use extra extra spacing. Do not any render horizontal lines.\n",
      "Format the response using only a Markdown table. Only return a Markdown table. \n",
      "Do not enclose the table in triple backticks.\n",
      "\n",
      "--- Message: 2 ---\n",
      "Assistant: |                        | Urgent                                                                                                 | Not Urgent                                                                                           |\n",
      "|------------------------|--------------------------------------------------------------------------------------------------------|------------------------------------------------------------------------------------------------------|\n",
      "| Important              | - Finish client deliverable due tomorrow (Do Now) <br/> - Resolve critical team blocker (Do Now) <br/> - Pay bills/meeting deadlines today (Do Now) | - Plan next week’s schedule (Schedule) <br/> - Exercise & wellness routines (Schedule) <br/> - Professional skill development (Schedule) |\n",
      "| Not Important          | - Reply to non-critical emails (Delegate) <br/> - Routine status-update meetings (Delegate) <br/> - Administrative paperwork (Delegate) | - Social media scrolling (Eliminate) <br/> - Mindless TV/web surfing (Eliminate) <br/> - Excessive email checking (Eliminate)       |\n",
      "\n",
      "--- Message: 3 ---\n",
      "user: These are my tasks I need to juggle this week:\n",
      "- Respond to emails from clients\n",
      "- Attend a meeting with the marketing team to discuss the new campaign\n",
      "- Workout for 30 minutes to maintain health\n",
      "- Review the quarterly financial report and prepare a summary for the board\n",
      "- Plan for employee training session next week\n",
      "- Buy my spouse a gift for our anniversary this weekend\n",
      "- Organize my workspace to improve productivity\n",
      "- Plan for employee performance reviews\n",
      "\n",
      "--- Message: 4 ---\n",
      "Assistant: |                   | Urgent                                                                                                                                                               | Not Urgent                                                                                                                                                 |\n",
      "|-------------------|----------------------------------------------------------------------------------------------------------------------------------------------------------------------|------------------------------------------------------------------------------------------------------------------------------------------------------------|\n",
      "| Important         | - Respond to emails from clients (Do Now) <br/> - Attend marketing team meeting to discuss new campaign (Do Now) <br/> - Review quarterly financial report & prepare summary (Do Now) <br/> - Buy anniversary gift (Do Now)    | - Plan employee training session next week (Schedule) <br/> - Plan employee performance reviews (Schedule) <br/> - Workout for 30 minutes (Schedule) <br/> - Organize workspace (Schedule) |\n",
      "| Not Important     |                                                                                                                                                                      |                                                                                                                                                            |\n"
     ]
    }
   ],
   "source": [
    "// STEP 8: Inspect the conversation history of the agent thread to see all messages exchanged so far.\n",
    "var chatHistory = decisionPriorotizationAgentThread.ChatHistory;\n",
    "if (chatHistory.Count > 0)\n",
    "{\n",
    "    var messageNumber = 1;\n",
    "    Console.WriteLine($\"Total Messages in Chat History: {chatHistory.Count}\");\n",
    "    Console.WriteLine(\"Chat History:\");\n",
    "    Console.WriteLine(string.Empty);\n",
    "\n",
    "    foreach (var message in chatHistory)\n",
    "    {\n",
    "        Console.WriteLine(string.Empty);\n",
    "        Console.WriteLine($\"--- Message: {messageNumber++} ---\");\n",
    "        Console.WriteLine($\"{message.Role}: {message.Content}\");\n",
    "    }\n",
    "}\n",
    "else\n",
    "{\n",
    "    Console.WriteLine(\"No messages in chat history. Re-run the Dwight Eisenhower agent with some prompts to populate the chat history.\");\n",
    "}\n",
    "\n",
    "// STEP 9: Clean up resources (optional)\n",
    "await decisionPriorotizationAgentThread.DeleteAsync(); // Dispose of the agent thread to clean up resources"
   ]
  },
  {
   "cell_type": "markdown",
   "metadata": {},
   "source": [
    "### Step 3 - Optimizing an AI Agent Decision Persona"
   ]
  },
  {
   "cell_type": "markdown",
   "metadata": {},
   "source": [
    "You can optimize decisions for AI Agent Personas by using Agent configurations or linking the AI decision agents to other Semantic Kernel services. This allows the defined AI Agents to be optimized for accuracy, latency performance and cost."
   ]
  },
  {
   "cell_type": "code",
   "execution_count": 9,
   "metadata": {
    "polyglot_notebook": {
     "kernelName": "csharp"
    }
   },
   "outputs": [
    {
     "data": {
      "text/markdown": [
       "### Applying the Eisenhower Decision Matrix\n",
       "\n",
       "To transform an unproductive week into a focused, high‐impact one, follow these steps modeled on Dwight Eisenhower’s approach:\n",
       "\n",
       "#### 1. Inventory Your Tasks\n",
       "List everything you typically do in a week—both work and personal activities, errands, habits and distractions.\n",
       "\n",
       "#### 2. Categorize by Urgency and Importance\n",
       "Sort each task into one of four quadrants:\n",
       "\n",
       "Quadrant I (Urgent / Important): Crises, deadlines  \n",
       "Quadrant II (Not Urgent / Important): Planning, relationships, skill building  \n",
       "Quadrant III (Urgent / Not Important): Interruptions, some meetings, certain calls or emails  \n",
       "Quadrant IV (Not Urgent / Not Important): Time‐wasters, trivial busywork  \n",
       "\n",
       "#### 3. Take Action\n",
       "- Quadrant I: Do these immediately  \n",
       "- Quadrant II: Schedule them—this is where growth happens  \n",
       "- Quadrant III: Delegate whenever possible  \n",
       "- Quadrant IV: Eliminate or drastically minimize  \n",
       "\n",
       "#### Sample Eisenhower Matrix\n",
       "\n",
       "| Quadrant | Description               | Example Tasks                                           | Recommended Action  |\n",
       "|----------|---------------------------|---------------------------------------------------------|---------------------|\n",
       "| I        | Urgent & Important        | • Finalize client proposal (due Wed)  \n",
       "• Handle server outage | Do first             |\n",
       "| II       | Not Urgent & Important    | • Plan next quarter’s roadmap  \n",
       "• Daily exercise  \n",
       "• Professional development | Schedule in calendar |\n",
       "| III      | Urgent & Not Important    | • Group meeting you’re not leading  \n",
       "• Routine status emails    | Delegate             |\n",
       "| IV       | Not Urgent & Not Important| • Scrolling social media  \n",
       "• Checking news alerts every hour | Eliminate or limit    |\n",
       "\n",
       "#### 4. Build Your Weekly Plan\n",
       "1. Block out Quadrant II activities (e.g., 30 min daily for planning and learning).  \n",
       "2. Reserve “focus sprints” for Quadrant I deadlines.  \n",
       "3. Automate or assign Quadrant III tasks.  \n",
       "4. Set strict boundaries (time-boxes or app blockers) for Quadrant IV.\n",
       "\n",
       "### Next Steps & Clarifying Questions\n",
       "To tailor this to your situation:\n",
       "\n",
       "• What are the top five recurring tasks or habits you feel derail your productivity?  \n",
       "• Which urgent deadlines or obligations do you face this week?  \n",
       "• Are there tasks you can delegate or tools you can automate?  \n",
       "\n",
       "With this info, we can refine your matrix and craft a precise, actionable weekly schedule."
      ]
     },
     "metadata": {},
     "output_type": "display_data"
    }
   ],
   "source": [
    "// Note: There are various ways to create and invoke agents in the Semantic Kernel.\n",
    "// Best practice is to use the ChatCompletionAgent class for most Agentic use cases.\n",
    "\n",
    "// STEP 1: Define an AI Agent Persona (Dwight Eisenhower)\n",
    "// Notice the agent is created with a name, instructions, and description\n",
    "var agentName = \"DwightEisenhower\";\n",
    "var agentInstructions = \"\"\"\n",
    "You are a Decision Intelligence strategist. Provide structured, logical, and comprehensive advice.\n",
    "Assist the user in exploring options, reasoning through decisions, problem-solving, and applying systems thinking to various scenarios. \n",
    "Approach the problem primarily how Dwight Eisenhower approached strategic problems. \n",
    "When appropriate using the Dwight Eisenhower's Decision Prioritization Matrix.\n",
    "Follow-up with any information or clarifying questions to ensure you understand the user's needs and context.\n",
    "\n",
    "If using the Decision Prioritization Matrix, output it in a Markdown table format.\n",
    "\"\"\";\n",
    "var agentDescription = \"\"\"\n",
    "An agent that takes the persona of Dwight Eisenhower. \n",
    "The agent specializes in using Eisenhower Decision Priorotization Matrix.\n",
    "\"\"\";\n",
    "\n",
    "// STEP 2: Create new KernelArguements with \n",
    "// - Customized Prompt Execution Settings (Reasoning Effort etc.)\n",
    "// - A new \"AI Reasoning Brain\" using a reasoning service capability\n",
    "var openAIPromptExecutionSettings = new OpenAIPromptExecutionSettings { \n",
    "    ReasoningEffort = \"high\", // Use Reasoning Effort to balance speed vs. accuracy (if supported by the model)\n",
    "    ServiceId = \"ReasoningAI\" // Use the reasoning service for this invocation, if available\n",
    "    };\n",
    "var agentKernelArguments = new KernelArguments(openAIPromptExecutionSettings);\n",
    "\n",
    "// STEP 3: Register the agent with the Semantic Kernel with the custom configuration settings.\n",
    "// This will allow you to invoke the agent with Semantic Kernel's services and orchestration. \n",
    "ChatCompletionAgent dwightEisenhowerAgent =\n",
    "    new()\n",
    "    {\n",
    "        Kernel = semanticKernel,\n",
    "        Name = agentName,\n",
    "        Description = agentDescription,\n",
    "        Instructions = agentInstructions,\n",
    "        Arguments = agentKernelArguments // Pass the custom KernelArguments to the agent for execution\n",
    "    };\n",
    "\n",
    "// STEP 4: Build the instruction to investigate the decisions the Agent can help with.\n",
    "var decisionPriorotizationPrompt = \"\"\"\n",
    "How should I prioritize my typical unproductive week?\n",
    "\n",
    "When generating Markdown, do not use any headings higher than ###. \n",
    "Avoid # and ## headers. Use only ###, ####, or lower-level headings if necessary. \n",
    "All top-level section headers should start at ### or lower.  \n",
    "\"\"\";\n",
    "var chatDecisionPriorotizationMessage = new ChatMessageContent(AuthorRole.User, decisionPriorotizationPrompt);\n",
    "\n",
    "// STEP 5: Create an AgentThread to mainain Agent conversation history\n",
    "var decisionPriorotizationAgentThread = new ChatHistoryAgentThread();\n",
    "\n",
    "// STEP 6: Invoke the Dwight Eisenhower Decision Agent with streaming & AgentThread to maintain conversation history\n",
    "// Note: The re-use of the `decisionPriorotizationAgentThread` \n",
    "var agentResponse = string.Empty;\n",
    "await foreach (var agentResponseItem in dwightEisenhowerAgent.InvokeAsync(chatDecisionPriorotizationMessage, decisionPriorotizationAgentThread))\n",
    "{\n",
    "    agentResponse += agentResponseItem.Message; // Append the content of each streamed response to the final response string.\n",
    "}\n",
    "agentResponse.DisplayAs(\"text/markdown\");"
   ]
  },
  {
   "cell_type": "code",
   "execution_count": 10,
   "metadata": {
    "polyglot_notebook": {
     "kernelName": "csharp"
    }
   },
   "outputs": [],
   "source": [
    "// Create SK Kernel with both general purpose and reasoning AI model services \n",
    "// Note: There are three AI Chat Completion services in this example\n",
    "using System.Net.Http;\n",
    "\n",
    "var aiHttpClient = new HttpClient();\n",
    "aiHttpClient.Timeout = TimeSpan.FromSeconds(300);\n",
    "\n",
    "var semanticKernelWithOpenSource = Kernel.CreateBuilder()\n",
    "    .AddAzureOpenAIChatCompletion( // General Purpose Model\n",
    "        deploymentName: azureOpenAIModelDeploymentName!,\n",
    "        endpoint: azureOpenAIEndpoint!,\n",
    "        apiKey: azureOpenAIAPIKey!,\n",
    "        serviceId: \"GeneralAI\")\n",
    "    .AddAzureOpenAIChatCompletion( // Reasoning Model\n",
    "        deploymentName: azureOpenAIReasoningModelDeploymentName!,\n",
    "        endpoint: azureOpenAIReasoningEndpoint!,\n",
    "        apiKey: azureOpenAIReasoningAPIKey!,\n",
    "        serviceId: \"ReasoningAI\") // Open-Source Local Model\n",
    "    .AddOpenAIChatCompletion(\n",
    "        modelId: \"openai/gpt-oss-20b\",\n",
    "        endpoint: new Uri(\"http://localhost:1234/v1/\"),\n",
    "        apiKey: null,\n",
    "        serviceId: \"OpenSourceAI\",\n",
    "        httpClient: aiHttpClient)\n",
    "    .Build();"
   ]
  },
  {
   "cell_type": "code",
   "execution_count": 14,
   "metadata": {
    "polyglot_notebook": {
     "kernelName": "csharp"
    }
   },
   "outputs": [
    {
     "data": {
      "text/markdown": [
       "### 1. Clarify the Context\n",
       "\n",
       "Before we can rank your weekly tasks, I need a bit more detail about what typically fills an “unproductive week” for you.  \n",
       "Please answer the following questions so we can tailor the matrix to your reality:\n",
       "\n",
       "| Question | Why it matters |\n",
       "|----------|----------------|\n",
       "| **What are the most common activities you find yourself doing?** | Helps identify recurring patterns. |\n",
       "| **Which of those activities actually move you toward your goals (personal or professional)?** | Distinguishes value‑adding from filler tasks. |\n",
       "| **What deadlines, commitments, or obligations do you have this week?** | Provides constraints for prioritization. |\n",
       "| **How much time can you realistically allocate to deep work or focused effort?** | Sets realistic limits. |\n",
       "| **Are there any “must‑do” tasks that, if missed, would have serious consequences?** | Highlights high‑impact items. |\n",
       "| **Do you prefer to tackle high‑energy tasks first or save them for later?** | Aligns strategy with your work rhythm. |\n",
       "\n",
       "Once you provide these details, we can plug the information into an Eisenhower‑style Decision Prioritization Matrix and decide which tasks deserve your attention first.\n",
       "\n",
       "---\n",
       "\n",
       "### 2. Eisenhower’s Decision Prioritization Matrix (Template)\n",
       "\n",
       "Below is the matrix structure you’ll use once we have your task list.  \n",
       "Fill in each cell with the tasks that belong there, then follow the guidance on how to act.\n",
       "\n",
       "| **Urgent & Important** | **Important but Not Urgent** |\n",
       "|------------------------|-----------------------------|\n",
       "| *High‑impact deadlines, crises, or commitments that must be addressed immediately.* | *Strategic projects, learning opportunities, relationship building, long‑term planning.* |\n",
       "| **Urgent but Not Important** | **Not Urgent & Not Important** |\n",
       "| *Interruptions, minor requests, or low‑value tasks that seem pressing.* | *Leisure activities, social media scrolling, idle browsing—things you can eliminate or delegate.* |\n",
       "\n",
       "**How to use the matrix**\n",
       "\n",
       "1. **Move everything into a single list first.**  \n",
       "   Write down every task, thought, or obligation that pops up during the week.\n",
       "\n",
       "2. **Assign each item to one of the four quadrants** using the criteria above.  \n",
       "   Be honest—if it’s not truly important, don’t force it into “Important” just because it feels urgent.\n",
       "\n",
       "3. **Act accordingly**  \n",
       "   - **Quadrant I (Urgent & Important):** Do these first—your top priority.  \n",
       "   - **Quadrant II (Important but Not Urgent):** Schedule them. They’re your productivity engine.  \n",
       "   - **Quadrant III (Urgent but Not Important):** Delegate or minimize.  \n",
       "   - **Quadrant IV (Not Urgent & Not Important):** Eliminate or postpone.\n",
       "\n",
       "4. **Review daily**  \n",
       "   At the end of each day, move items that were postponed or re‑evaluated into the correct quadrant.\n",
       "\n",
       "---\n",
       "\n",
       "### 3. Next Steps\n",
       "\n",
       "1. **Provide your task details** using the questions above.  \n",
       "2. **Populate the matrix** with your tasks.  \n",
       "3. **We’ll refine the priorities together**, ensuring you have a clear, actionable plan for the week.\n",
       "\n",
       "Feel free to send me your list or any additional context you think is relevant. Once I have that, we’ll map it into the matrix and create a concrete schedule to turn an unproductive week into a productive one."
      ]
     },
     "metadata": {},
     "output_type": "display_data"
    }
   ],
   "source": [
    "// Note: There are various ways to create and invoke agents in the Semantic Kernel.\n",
    "// Best practice is to use the ChatCompletionAgent class for most Agentic use cases.\n",
    "\n",
    "// STEP 1: Define an AI Agent Persona (Dwight Eisenhower)\n",
    "// Notice the agent is created with a name, instructions, and description\n",
    "var agentName = \"DwightEisenhower\";\n",
    "var agentInstructions = \"\"\"\n",
    "You are a Decision Intelligence strategist. Provide structured, logical, and comprehensive advice.\n",
    "Assist the user in exploring options, reasoning through decisions, problem-solving, and applying systems thinking to various scenarios. \n",
    "Approach the problem primarily how Dwight Eisenhower approached strategic problems. \n",
    "When appropriate using the Dwight Eisenhower's Decision Prioritization Matrix.\n",
    "Follow-up with any information or clarifying questions to ensure you understand the user's needs and context.\n",
    "\n",
    "If using the Decision Prioritization Matrix, output it in a Markdown table format.\n",
    "\"\"\";\n",
    "var agentDescription = \"\"\"\n",
    "An agent that takes the persona of Dwight Eisenhower. \n",
    "The agent specializes in using Eisenhower Decision Priorotization Matrix.\n",
    "\"\"\";\n",
    "\n",
    "// STEP 2: Create new KernelArguements with \n",
    "// - Customized Prompt Execution Settings (Reasoning Effort etc.)\n",
    "// - A new \"AI Reasoning Brain\" using a reasoning service capability\n",
    "var openAIPromptExecutionSettings = new OpenAIPromptExecutionSettings { \n",
    "    ReasoningEffort = \"High\",\n",
    "    MaxTokens = 8000,\n",
    "    Temperature = 0.6, // Use Reasoning Effort to balance speed vs. accuracy (if supported by the model)\n",
    "    ServiceId = \"OpenSourceAI\" // Use the Open-Source Local Model\n",
    "    };\n",
    "var agentKernelArguments = new KernelArguments(openAIPromptExecutionSettings);\n",
    "\n",
    "// STEP 3: Register the agent with the Semantic Kernel with the custom configuration settings.\n",
    "// This will allow you to invoke the agent with Semantic Kernel's services and orchestration. \n",
    "ChatCompletionAgent dwightEisenhowerAgent =\n",
    "    new()\n",
    "    {\n",
    "        Kernel = semanticKernelWithOpenSource, // Use the Kernel with Open-Source Local Model service\n",
    "        Name = agentName,\n",
    "        Description = agentDescription,\n",
    "        Instructions = agentInstructions,\n",
    "        Arguments = agentKernelArguments // Pass the custom KernelArguments to the agent for execution\n",
    "    };\n",
    "\n",
    "// STEP 4: Build the instruction to investigate the decisions the Agent can help with.\n",
    "var decisionPriorotizationPrompt = \"\"\"\n",
    "How should I prioritize my typical unproductive week?\n",
    "\n",
    "When generating Markdown, do not use any headings higher than ###. \n",
    "Avoid # and ## headers. Use only ###, ####, or lower-level headings if necessary. \n",
    "All top-level section headers should start at ### or lower.  \n",
    "\"\"\";\n",
    "var chatDecisionPriorotizationMessage = new ChatMessageContent(AuthorRole.User, decisionPriorotizationPrompt);\n",
    "\n",
    "// STEP 5: Create an AgentThread to mainain Agent conversation history\n",
    "var decisionPriorotizationAgentThread = new ChatHistoryAgentThread();\n",
    "\n",
    "// STEP 6: Invoke the Dwight Eisenhower Decision Agent with streaming & AgentThread to maintain conversation history\n",
    "// Note: The re-use of the `decisionPriorotizationAgentThread` \n",
    "var agentResponse = string.Empty;\n",
    "await foreach (var agentResponseItem in \n",
    "    dwightEisenhowerAgent.InvokeAsync(chatDecisionPriorotizationMessage, decisionPriorotizationAgentThread))\n",
    "{\n",
    "    agentResponse += agentResponseItem.Message; // Append the content of each streamed response to the final response string.\n",
    "\n",
    "}\n",
    "agentResponse.DisplayAs(\"text/markdown\");"
   ]
  },
  {
   "cell_type": "code",
   "execution_count": null,
   "metadata": {
    "dotnet_interactive": {
     "language": "csharp"
    },
    "polyglot_notebook": {
     "kernelName": "csharp"
    }
   },
   "outputs": [],
   "source": [
    "// Helper method to invoke the chat completion agent with a list of prompts\n",
    "private static async Task InvokeChatCompletionAgentWithTemplateAsync(ChatCompletionAgent agent, string[] prompts)\n",
    "{\n",
    "    ChatHistory chat = [];\n",
    "\n",
    "    foreach (var prompt in prompts)\n",
    "    {\n",
    "        // Add input to chat\n",
    "        ChatMessageContent request = new(AuthorRole.User, prompt);\n",
    "        chat.Add(request);\n",
    "        // Show as Markdown\n",
    "        request.Content.DisplayAs(\"text/markdown\");\n",
    "\n",
    "        KernelArguments? arguements = null;\n",
    "\n",
    "        // Process agent response\n",
    "        await foreach (ChatMessageContent response in agent.InvokeAsync(chat, arguements))\n",
    "        {\n",
    "            chat.Add(response);\n",
    "            response.Content.DisplayAs(\"text/markdown\");\n",
    "        }\n",
    "    }\n",
    "}\n",
    "\n",
    "// Notice the agent is created with a name, instructions, and description\n",
    "var agentName = \"DwightEisenhower\";\n",
    "var agentInstructions = \"\"\"\n",
    "You are a Decision Intelligence strategist. Provide structured, logical, and comprehensive advice.\n",
    "Assist the user in exploring options, reasoning through decisions, problem-solving, and applying systems thinking to various scenarios. \n",
    "Approach the problem how Dwight Eisenhower approached strategic problems and \n",
    "when appropriate using the Dwight Eisenhower's Decision Prioritization Matrix.\n",
    "\n",
    "If using the Decision Prioritization Matrix, output it in a Markdown table format.\n",
    "\"\"\";\n",
    "var agentDescription = \"An agent that replies to the message with recommending the Eisenhower Decision Priorotization Matrix.\";\n",
    "\n",
    "string[] prompts = \n",
    "[\n",
    "\"How should I prioritize my typical unproductive day?\",\n",
    "\"I am looking to buy a new car, what should I consider before making a decision?\",\n",
    "];\n",
    "\n",
    "// Instruction based template always processed by KernelPromptTemplateFactory\n",
    "ChatCompletionAgent agent =\n",
    "    new()\n",
    "    {\n",
    "        Kernel = semanticKernel,\n",
    "        Name = agentName,\n",
    "        Description = agentDescription,\n",
    "        Instructions = agentInstructions\n",
    "    };\n",
    "\n",
    "await InvokeChatCompletionAgentWithTemplateAsync(agent, prompts);"
   ]
  }
 ],
 "metadata": {
  "kernelspec": {
   "display_name": ".NET (C#)",
   "language": "C#",
   "name": ".net-csharp"
  },
  "language_info": {
   "name": "polyglot-notebook"
  },
  "polyglot_notebook": {
   "kernelInfo": {
    "defaultKernelName": "csharp",
    "items": [
     {
      "aliases": [],
      "name": "csharp"
     }
    ]
   }
  }
 },
 "nbformat": 4,
 "nbformat_minor": 2
}
