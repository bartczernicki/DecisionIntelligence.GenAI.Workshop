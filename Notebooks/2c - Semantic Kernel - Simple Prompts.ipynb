{
 "cells": [
  {
   "cell_type": "markdown",
   "metadata": {},
   "source": [
    "<img style=\"float: left;padding-right: 10px\" width =\"40px\" src=\"https://raw.githubusercontent.com/bartczernicki/DecisionIntelligence.GenAI.Workshop/main/Images/SemanticKernelLogo.png\">\n",
    "\n",
    "## Semantic Kernel - Simple Decision Prompts"
   ]
  },
  {
   "cell_type": "markdown",
   "metadata": {},
   "source": [
    "Decision Intelligence applied in this module:  \n",
    "* Listing of various decision-making frameworks and with their descriptions by using GenAI prompt engineering   \n",
    "\n",
    "Prompts are the fundemental building block to getting the proper responses from AI models. This module demonstrates how to use common prompt engineering techniques while using Semantic Kernel. If you've ever used ChatGPT or Microsoft Copilot, you're already familiar with prompting. Given a prompt instruction, an LLM will attempt to predict the most likely response. With Semantic Kernel, you can craft applications, services & APIs that execute prompts.  \n",
    "\n",
    "For more information on using prompts with Semantic Kernel, visit: https://learn.microsoft.com/en-us/semantic-kernel/prompts/your-first-prompt  \n",
    "\n",
    "The process of carefully crafting questions or instructions for AI is called **Prompt Engineering**. Prompt Engineering involves designing and refining input prompts—text or questions—so that the AI produces responses that are more relevant, useful, or accurate. The goal of prompt engineering is to \"tune\" the prompt in a way that maximizes the quality and clarity of the AI's response, often using specific wording, context, or examples within the prompt itself.\n",
    "\n",
    "Decision Intelligence and Prompt Engineering techniques can be combined to created \"Generative AI Decision Intellignce\"! This can leverage GenAI models to reason over complex tasks, gather intelligence for decisions, recommend decisions, communicate decisions etc. "
   ]
  },
  {
   "cell_type": "markdown",
   "metadata": {},
   "source": [
    "### Step 1 - Initialize Configuration Builder & Build the Semantic Kernel Orchestration\n",
    "\n",
    "Execute the next two cells to:\n",
    "* Use the Configuration Builder to load the API secrets.  \n",
    "* Use the API configuration to build the Semantic Kernel orchestrator."
   ]
  },
  {
   "cell_type": "code",
   "execution_count": 1,
   "metadata": {
    "dotnet_interactive": {
     "language": "csharp"
    },
    "polyglot_notebook": {
     "kernelName": "csharp"
    },
    "vscode": {
     "languageId": "polyglot-notebook"
    }
   },
   "outputs": [
    {
     "data": {
      "text/html": [
       "<div><div></div><div></div><div><strong>Installed Packages</strong><ul><li><span>Microsoft.Extensions.Configuration, 8.0.0</span></li><li><span>Microsoft.Extensions.Configuration.Json, 8.0.0</span></li></ul></div></div>"
      ]
     },
     "metadata": {},
     "output_type": "display_data"
    }
   ],
   "source": [
    "// Import the required NuGet configuration packages\n",
    "#r \"nuget: Microsoft.Extensions.Configuration, 8.0.0\"\n",
    "#r \"nuget: Microsoft.Extensions.Configuration.Json, 8.0.0\"\n",
    "\n",
    "using Microsoft.Extensions.Configuration;\n",
    "using System.IO;\n",
    "\n",
    "// Load the configuration settings from the local.settings.json and secrets.settings.json files\n",
    "// The secrets.settings.json file is used to store sensitive information such as API keys\n",
    "var configurationBuilder = new ConfigurationBuilder()\n",
    "    .SetBasePath(Directory.GetCurrentDirectory())\n",
    "    .AddJsonFile(\"local.settings.json\", optional: true, reloadOnChange: true)\n",
    "    .AddJsonFile(\"secrets.settings.json\", optional: true, reloadOnChange: true);\n",
    "var config = configurationBuilder.Build();\n",
    "\n",
    "// IMPORTANT: You ONLY NEED either Azure OpenAI or OpenAI connectiopn info, not both.\n",
    "// Azure OpenAI Connection Info\n",
    "var azureOpenAIEndpoint = config[\"AzureOpenAI:Endpoint\"];\n",
    "var azureOpenAIAPIKey = config[\"AzureOpenAI:APIKey\"];\n",
    "var azureOpenAIModelDeploymentName = config[\"AzureOpenAI:ModelDeploymentName\"];\n",
    "// OpenAI Connection Info \n",
    "var openAIAPIKey = config[\"OpenAI:APIKey\"];\n",
    "var openAIModelId = config[\"OpenAI:ModelId\"];"
   ]
  },
  {
   "cell_type": "code",
   "execution_count": 2,
   "metadata": {
    "dotnet_interactive": {
     "language": "csharp"
    },
    "polyglot_notebook": {
     "kernelName": "csharp"
    },
    "vscode": {
     "languageId": "polyglot-notebook"
    }
   },
   "outputs": [
    {
     "data": {
      "text/html": [
       "<div><div></div><div></div><div><strong>Installed Packages</strong><ul><li><span>Microsoft.SemanticKernel, 1.25.0</span></li></ul></div></div>"
      ]
     },
     "metadata": {},
     "output_type": "display_data"
    },
    {
     "name": "stdout",
     "output_type": "stream",
     "text": [
      "Using Azure OpenAI Service\n"
     ]
    }
   ],
   "source": [
    "// Import the Semantic Kernel NuGet package\n",
    "#r \"nuget: Microsoft.SemanticKernel, 1.25.0\"\n",
    "\n",
    "using Microsoft.SemanticKernel;\n",
    "using Microsoft.SemanticKernel.ChatCompletion;\n",
    "using Microsoft.SemanticKernel.Connectors.OpenAI;\n",
    "\n",
    "Kernel semanticKernel;\n",
    "\n",
    "// Set the flag to use Azure OpenAI or OpenAI. False to use OpenAI, True to use Azure OpenAI\n",
    "var useAzureOpenAI = true;\n",
    "\n",
    "// Create a new Semantic Kernel instance\n",
    "if (useAzureOpenAI)\n",
    "{\n",
    "    Console.WriteLine(\"Using Azure OpenAI Service\");\n",
    "    semanticKernel = Kernel.CreateBuilder()\n",
    "        .AddAzureOpenAIChatCompletion(\n",
    "            deploymentName: azureOpenAIModelDeploymentName,\n",
    "            endpoint: azureOpenAIEndpoint,\n",
    "            apiKey: azureOpenAIAPIKey)\n",
    "        .Build();\n",
    "}\n",
    "else\n",
    "{\n",
    "    Console.WriteLine(\"Using OpenAI Service\");\n",
    "    semanticKernel = Kernel.CreateBuilder()\n",
    "        .AddOpenAIChatCompletion(\n",
    "            modelId: openAIModelId,\n",
    "            apiKey: openAIAPIKey)\n",
    "        .Build();\n",
    "}"
   ]
  },
  {
   "cell_type": "markdown",
   "metadata": {},
   "source": [
    "### Step 2 - Execute a Semantic Kernel Prompt\n",
    "\n",
    "Many LLMs and even SLMs have been trained on knowledge that includes decision frameworks & processes. This makes LLMs great assistants to:\n",
    "* Provide proper decision frames\n",
    "* Gather the information & intelligence in order to make a decision\n",
    "* Recommend decision frameworks to make a high-quality decision\n",
    "* Provide feedback to evaluate a decision\n",
    "\n",
    "Once the Semantic Kernel instance is built, it is ready to intake prompt instructions. In the prompt below, the Semantic Kernel is instructed to provide examples of decision frameworks. "
   ]
  },
  {
   "cell_type": "code",
   "execution_count": 3,
   "metadata": {
    "dotnet_interactive": {
     "language": "csharp"
    },
    "polyglot_notebook": {
     "kernelName": "csharp"
    },
    "vscode": {
     "languageId": "polyglot-notebook"
    }
   },
   "outputs": [
    {
     "name": "stdout",
     "output_type": "stream",
     "text": [
      "There are several decision-making frameworks that can significantly enhance the quality of decisions by supporting thorough analysis and logical reasoning. Here’s a list of some prominent frameworks and a brief description of each:\n",
      "\n",
      "1. **SWOT Analysis (Strengths, Weaknesses, Opportunities, Threats)**\n",
      "   - **Description**: A strategic planning tool used to identify the internal and external factors that are favorable and unfavorable for achieving objectives.\n",
      "   - **Support**: Balances both internal capabilities and external possibilities, fostering comprehensive strategic planning.\n",
      "\n",
      "2. **PEST Analysis (Political, Economic, Social, Technological)**\n",
      "   - **Description**: A framework for analyzing the external macro-environmental factors that may impact an organization.\n",
      "   - **Support**: Encourages a broad view of the external influences, helping to anticipate potential impacts on strategic plans.\n",
      "\n",
      "3. **Decision Matrix (Weighted Decision Matrix)**\n",
      "   - **Description**: A tool to compare multiple options based on a set of predetermined criteria, where each criterion is weighted based on its importance.\n",
      "   - **Support**: Facilitates objective comparison and prioritization, reducing bias in decision-making.\n",
      "\n",
      "4. **Cost-Benefit Analysis (CBA)**\n",
      "   - **Description**: A systematic approach to estimate the strengths and weaknesses of alternatives to determine the best option by looking at the benefits and costs.\n",
      "   - **Support**: Quantifies the pros and cons in monetary terms for clear comparison and justification.\n",
      "\n",
      "5. **Monte Carlo Simulation**\n",
      "   - **Description**: A statistical technique that allows for the modeling of the probability of different outcomes in processes that involve uncertainty.\n",
      "   - **Support**: Provides a range of possible outcomes and the probabilities they will occur, which is useful in risk assessment.\n",
      "\n",
      "6. **Six Thinking Hats**\n",
      "   - **Description**: A method developed by Edward de Bono, involving six different types of thinking: White (facts), Red (emotions), Black (cautions), Yellow (positives), Green (creativity), and Blue (process).\n",
      "   - **Support**: Encourages looking at problems from different perspectives and fosters balanced, diverse thinking.\n",
      "\n",
      "7. **Pros and Cons List**\n",
      "   - **Description**: A simple method where the advantages and disadvantages of an option are listed.\n",
      "   - **Support**: Helps in visualizing the positive and negative aspects, facilitating a clearer decision-making process.\n",
      "\n",
      "8. **Pareto Analysis (80/20 Rule)**\n",
      "   - **Description**: Focuses on identifying the most important factors contributing to an overall effect; often 20% of the causes determine 80% of the results.\n",
      "   - **Support**: Prioritizes the key issues that will have the largest impact, leading to more efficient problem-solving.\n",
      "\n",
      "9. **OODA Loop (Observe, Orient, Decide, Act)**\n",
      "   - **Description**: A decision cycle developed by military strategist John Boyd, emphasizing quick, iterative decision-making and action.\n",
      "   - **Support**: Enhances agility and response times, particularly useful in dynamic and fast-paced environments.\n",
      "\n",
      "10. **Ishikawa (Fishbone) Diagram**\n",
      "    - **Description**: A cause-and-effect diagram that helps identify the root causes of a problem.\n",
      "    - **Support**: Promotes thorough investigation of all potential causes, thus enabling effective troubleshooting and problem-solving.\n",
      "\n",
      "11. **Delphi Method**\n",
      "    - **Description**: A structured communication technique involving a panel of experts. It undergoes several rounds of questioning and feedback to reach a consensus.\n",
      "    - **Support**: Aggregates expert opinions to drive informed, consensus-based decisions.\n",
      "\n",
      "12. **Kepner-Tregoe Decision Analysis**\n",
      "    - **Description**: A step-by-step approach for systematically solving problems and making decisions, prioritizing and evaluating options.\n",
      "    - **Support**: Structured, logical process that aids in thorough analysis, reducing biases, and improving clarity.\n",
      "\n",
      "Each framework is suited for different contexts and decision-making needs. Combining these methods can often yield the most robust decisions by leveraging the strengths of different approaches.\n"
     ]
    }
   ],
   "source": [
    "// New prompt to help with decision-making frameworks\n",
    "var simpleDecisionPrompt = \"\"\"\n",
    "Identify and list various decision-making frameworks that can enhance the quality of decisions. \n",
    "Briefly describe how each framework supports better analysis and reasoning in different decision-making scenarios.\n",
    "\"\"\";\n",
    "\n",
    "var simplePromptResponse = await semanticKernel.InvokePromptAsync(simpleDecisionPrompt);\n",
    "Console.WriteLine(simplePromptResponse.GetValue<string>());"
   ]
  },
  {
   "cell_type": "markdown",
   "metadata": {},
   "source": [
    "### Step 3 - Execute a Semantic Kernel Prompt with Streaming\n",
    "\n",
    "Semantic Kernel supports prompt response streaming when invoking the prompt. This allows responses to be streamed to the client as soon as they are made available by the LLM and service. Below the same decision prompt is executed. However, notice that chunks are streamed and can be read by the user as soon as they appear. "
   ]
  },
  {
   "cell_type": "code",
   "execution_count": 4,
   "metadata": {
    "dotnet_interactive": {
     "language": "csharp"
    },
    "polyglot_notebook": {
     "kernelName": "csharp"
    },
    "vscode": {
     "languageId": "polyglot-notebook"
    }
   },
   "outputs": [
    {
     "name": "stdout",
     "output_type": "stream",
     "text": [
      "Certainly! There are several decision-making frameworks that can enhance the quality of decisions by providing structured approaches to analysis and reasoning. Here’s a list of some widely recognized ones, along with brief descriptions of how they support better decision-making in various scenarios:\n",
      "\n",
      "1. **SWOT Analysis**:\n",
      "   - **Description**: Identifies Strengths, Weaknesses, Opportunities, and Threats related to a specific decision or project.\n",
      "   - **Use**: Helps in strategic planning and decision-making by evaluating internal and external factors, making it easier to capitalize on strengths and opportunities while mitigating weaknesses and threats.\n",
      "\n",
      "2. **Cost-Benefit Analysis (CBA)**:\n",
      "   - **Description**: Compares the costs and benefits of a decision by quantifying them in monetary terms.\n",
      "   - **Use**: Useful in financial decision-making, policy-making, and project planning where economic viability and ROI are critical factors.\n",
      "\n",
      "3. **Decision Matrix/Weighted Scoring Model**:\n",
      "   - **Description**: Lists multiple options against a set of criteria, assigning weights to each criterion to calculate scores for comparison.\n",
      "   - **Use**: Ideal for complex decisions with various alternatives and criteria, helping prioritize options based on quantified evaluation.\n",
      "\n",
      "4. **Pareto Analysis (80/20 Rule)**:\n",
      "   - **Description**: Identifies the 20% of causes that contribute to 80% of the problems.\n",
      "   - **Use**: Useful in quality control and problem-solving, focusing efforts on the most influential factors to achieve maximum impact with minimal effort.\n",
      "\n",
      "5. **Six Thinking Hats**:\n",
      "   - **Description**: Encourages examining a decision from six distinct perspectives (logical, emotional, optimistic, pessimistic, creative, and process).\n",
      "   - **Use**: Promotes well-rounded and diverse thinking, especially in team settings, to ensure all facets of a decision are considered.\n",
      "\n",
      "6. **Root Cause Analysis (RCA)**:\n",
      "   - **Description**: Identifies the underlying causes of a problem.\n",
      "   - **Use**: Effective in troubleshooting and continuous improvement, ensuring that solutions address the core issues rather than symptoms.\n",
      "\n",
      "7. **Vroom-Yetton-Jago Decision Model**:\n",
      "   - **Description**: Helps determine the optimal level of team involvement in decision-making based on situational factors.\n",
      "   - **Use**: Useful for managerial and leadership decisions where determining the right approach to engage team members is critical.\n",
      "\n",
      "8. **Analytic Hierarchy Process (AHP)**:\n",
      "   - **Description**: Breaks down complex decision-making into a multi-level hierarchical structure of objectives, criteria, sub-criteria, and alternatives.\n",
      "   - **Use**: Helps prioritize and make decisions based on comprehensive quantitative and qualitative analysis, particularly in risk management and large-scale project planning.\n",
      "\n",
      "9. **Pros and Cons List**:\n",
      "   - **Description**: Lists the advantages and disadvantages of each option.\n",
      "   - **Use**: Simplifies comparisons and clarifies trade-offs in everyday decision-making and personal choices.\n",
      "\n",
      "10. **OODA Loop (Observe, Orient, Decide, Act)**:\n",
      "    - **Description**: A continuous cycle of observing the environment, orienting based on observations, deciding on a course of action, and acting on those decisions.\n",
      "    - **Use**: Widely used in military and fast-paced environments where quick, iterative decision-making is critical.\n",
      "\n",
      "11. **Theory of Constraints (TOC)**:\n",
      "    - **Description**: Focuses on identifying and managing the most significant limiting factor (constraint) that stands in the way of achieving a goal.\n",
      "    - **Use**: Useful in operational optimization, ensuring that efforts are concentrated on the bottlenecks that restrict system performance.\n",
      "\n",
      "12. **Prospective Hindsight (Pre-mortem Analysis)**:\n",
      "    - **Description**: Anticipates potential pitfalls and reasons for failure by imagining a future scenario where a decision has failed.\n",
      "    - **Use**: Enhances risk management and contingency planning by identifying and mitigating potential issues before they occur.\n",
      "\n",
      "Each of these frameworks supports enhanced decision-making by promoting thorough analysis, consideration of multiple perspectives, structured evaluation of alternatives, and anticipation of potential outcomes. They are versatile and can be applied across various industries and scenarios to improve the quality and effectiveness of decisions."
     ]
    }
   ],
   "source": [
    "await foreach (var streamChunk in semanticKernel.InvokePromptStreamingAsync(simpleDecisionPrompt))\n",
    "{\n",
    "   Console.Write(streamChunk);\n",
    "}"
   ]
  },
  {
   "cell_type": "markdown",
   "metadata": {},
   "source": [
    "### Step 4 - Execute a Semantic Kernel Decision Prompt with Improved Formatting\n",
    "\n",
    "Generative AI models have an inherent ability to not only provide decision reasoning analysis, but also format the output in a desired format. This could be as simple as instructing the Generative AI model to format the decision as a single sentence, paragraphs or lists. However more sophisticated output generations can be instructed. For example, the GenAI model can ouput Markdown or even extract information and fill in a desired schema (JSON). Specifically for Decision Intelligence, you can ask the GenAI models to apply decision communication frameworks to the generation as well. \n",
    "\n",
    "Execute the simple decision prompt below with Markdown formatting. This table can now be rendered in a Markdown document for easy comprehension. "
   ]
  },
  {
   "cell_type": "code",
   "execution_count": 1,
   "metadata": {
    "dotnet_interactive": {
     "language": "csharp"
    },
    "polyglot_notebook": {
     "kernelName": "csharp"
    },
    "vscode": {
     "languageId": "polyglot-notebook"
    }
   },
   "outputs": [
    {
     "ename": "Error",
     "evalue": "(9,1): error CS0246: The type or namespace name 'KernelArguments' could not be found (are you missing a using directive or an assembly reference?)\n(9,39): error CS0246: The type or namespace name 'KernelArguments' could not be found (are you missing a using directive or an assembly reference?)\n(9,55): error CS0103: The name 'openAIPromptExecutionSettings' does not exist in the current context\n(10,35): error CS0103: The name 'semanticKernel' does not exist in the current context",
     "output_type": "error",
     "traceback": [
      "(9,1): error CS0246: The type or namespace name 'KernelArguments' could not be found (are you missing a using directive or an assembly reference?)\n",
      "(9,39): error CS0246: The type or namespace name 'KernelArguments' could not be found (are you missing a using directive or an assembly reference?)\n",
      "(9,55): error CS0103: The name 'openAIPromptExecutionSettings' does not exist in the current context\n",
      "(10,35): error CS0103: The name 'semanticKernel' does not exist in the current context"
     ]
    }
   ],
   "source": [
    "// New prompt to help with decision-making frameworks using Markdown formatting.\n",
    "var simpleDecisionPromptWithMarkdownFormat = \"\"\"\n",
    "Identify and list various decision-making frameworks that can enhance the quality of decisions. \n",
    "Briefly describe how each framework supports better analysis and reasoning in different decision-making scenarios.\n",
    "\n",
    "Format the response using a Markdown table. Do not enclose the table in triple backticks.\n",
    "\"\"\";\n",
    "\n",
    "KernelArguments kernelArguments = new KernelArguments(openAIPromptExecutionSettings);\n",
    "await foreach (var streamChunk in semanticKernel.InvokePromptStreamingAsync(simpleDecisionPromptWithMarkdownFormat, kernelArguments))\n",
    "{\n",
    "   Console.Write(streamChunk);\n",
    "}"
   ]
  },
  {
   "cell_type": "markdown",
   "metadata": {},
   "source": [
    "| Framework                  | Description                                                                                       |\n",
    "|----------------------------|---------------------------------------------------------------------------------------------------|\n",
    "| SWOT Analysis              | Evaluates Strengths, Weaknesses, Opportunities, and Threats to understand internal and external factors. Useful for strategic planning and situational analysis. |\n",
    "| Decision Matrix            | Uses a grid to compare multiple options against a set of criteria, scoring each option to identify the best choice. Ideal for complex decisions with multiple variables. |\n",
    "| Cost-Benefit Analysis      | Compares the costs and benefits of different options to determine the most economically advantageous choice. Effective for financial and resource allocation decisions. |\n",
    "| Pareto Analysis            | Focuses on identifying the most significant factors contributing to a problem (80/20 rule). Helps prioritize actions that will have the greatest impact. |\n",
    "| Six Thinking Hats          | Encourages looking at a decision from six different perspectives (logical, emotional, creative, etc.). Promotes comprehensive and balanced thinking. |\n",
    "| Delphi Technique           | Gathers insights from a panel of experts through multiple rounds of questioning and feedback. Useful for forecasting and consensus-building in uncertain situations. |\n",
    "| Root Cause Analysis        | Identifies the underlying causes of a problem rather than just addressing symptoms. Enhances problem-solving by targeting the source of issues. |\n",
    "| Scenario Planning          | Develops multiple plausible future scenarios to understand potential impacts and prepare for various outcomes. Useful for long-term strategic planning. |\n",
    "| Analytic Hierarchy Process (AHP) | Breaks down a decision into a hierarchy of sub-decisions, assigning weights to each element to determine the best overall option. Effective for complex, multi-criteria decisions. |\n",
    "| OODA Loop                  | Stands for Observe, Orient, Decide, Act. A continuous cycle that emphasizes quick, adaptive decision-making. Useful in dynamic and fast-paced environments. |\n",
    "| PDCA Cycle                 | Stands for Plan, Do, Check, Act. A continuous improvement process that helps refine decisions and actions over time. Ideal for iterative problem-solving and quality control. |\n",
    "| Vroom-Yetton Decision Model | Provides a framework for determining the appropriate level of team involvement in decision-making based on situational factors. Enhances leadership and management decisions. |\n",
    "| Eisenhower Matrix          | Prioritizes tasks based on urgency and importance, helping to focus on what matters most. Useful for time management and productivity. |\n",
    "| Fishbone Diagram           | Also known as Ishikawa or Cause-and-Effect Diagram, it helps identify potential causes of a problem. Useful for detailed problem analysis and brainstorming. |\n",
    "| Force Field Analysis       | Identifies and analyzes the forces for and against a change, helping to understand the dynamics and plan strategies to strengthen driving forces or reduce restraining forces. |\n",
    "\n",
    "These frameworks provide structured approaches to decision-making, enhancing clarity, thoroughness, and effectiveness in various scenarios."
   ]
  },
  {
   "cell_type": "markdown",
   "metadata": {},
   "source": [
    "### Step 5 - Execute a Semantic Kernel Prompt with a Custom Prompt Execution Configuration\n",
    "\n",
    "Semantic Kernel supports the configuration of prompt execution. The typical OpenAI and Azure OpenAI settings are exposed as configuration options that provide a different prompt experience.  \n",
    "\n",
    "Try changing the MaxTokens, Tempature or other settings and execute the decision prompt again.  "
   ]
  },
  {
   "cell_type": "code",
   "execution_count": 9,
   "metadata": {
    "dotnet_interactive": {
     "language": "csharp"
    },
    "polyglot_notebook": {
     "kernelName": "csharp"
    },
    "vscode": {
     "languageId": "polyglot-notebook"
    }
   },
   "outputs": [
    {
     "name": "stdout",
     "output_type": "stream",
     "text": [
      "Improving the quality of decisions can be significantly enhanced by employing structured decision-making frameworks. Here are some widely recognized frameworks that can help:\n",
      "\n",
      "### 1. **SWOT Analysis**\n",
      "**Strengths, Weaknesses, Opportunities, Threats**\n",
      "- **Purpose:** To evaluate the internal and external factors that can affect a decision or strategy.\n",
      "- **Steps:**\n",
      "  1. Identify internal strengths and weaknesses.\n",
      "  2. Identify external opportunities and threats.\n",
      "  3. Analyze how to leverage strengths and opportunities while mitigating weaknesses and threats.\n",
      "  \n",
      "### 2. **PEST Analysis**\n",
      "**Political, Economic, Social, and Technological**\n",
      "- **Purpose:** To understand the macro-environmental factors that could impact a decision.\n",
      "- **Steps:**\n",
      "  1. Analyze political factors (e.g., regulations, stability).\n",
      "  2. Assess economic factors (e.g., market trends, economic conditions).\n",
      "  3. Evaluate social factors (e.g., cultural trends, demographics).\n",
      "  4. Consider technological factors (e.g., innovation, automation).\n",
      "\n",
      "### 3. **Pros and Cons List**\n",
      "- **Purpose:** To weigh the benefits and drawbacks of different options.\n",
      "- **Steps:**\n",
      "  1. List all the advantages (pros) of a particular option.\n",
      "  2. List all the disadvantages (cons) of the same option.\n",
      "  3. Compare and analyze the lists to make an informed decision.\n",
      "\n",
      "### 4. **Cost-Benefit Analysis (CBA)**\n",
      "- **Purpose:** To evaluate the financial implications of different choices.\n",
      "- **Steps:**\n",
      "  1. Identify all costs associated with an option.\n",
      "  2. Identify all benefits associated with the same option.\n",
      "  3. Compare the total costs and benefits to determine net value.\n",
      "\n",
      "### 5. **Decision Matrix (Weighted Scoring)**\n",
      "- **Purpose:** To systematically compare multiple options based on a set of criteria.\n",
      "- **Steps:**\n",
      "  1. List options and criteria.\n",
      "  2. Assign weights to each criterion based on importance.\n",
      "  3. Score each option against each criterion.\n",
      "  4. Multiply scores by weights and sum them up for each option.\n",
      "  5. Choose the option with the highest total score.\n",
      "\n",
      "### 6. **Eisenhower Matrix**\n",
      "**Urgent vs. Important**\n",
      "- **Purpose:** To prioritize tasks and decisions based on urgency and importance.\n",
      "- **Steps:**\n",
      "  1. Categorize tasks into four quadrants: Urgent & Important, Not Urgent & Important, Urgent & Not Important, Not Urgent & Not Important.\n",
      "  2. Focus on tasks in the Urgent & Important quadrant first.\n",
      "\n",
      "### 7. **Six Thinking Hats**\n",
      "- **Purpose:** To approach decision-making from multiple perspectives.\n",
      "- **Steps:**\n",
      "  1. White Hat: Focus on data and information.\n",
      "  2. Red Hat: Consider emotions and intuitions.\n",
      "  3. Black Hat: Identify potential problems and risks.\n",
      "  4. Yellow Hat: Look at the positives and benefits.\n",
      "  5. Green Hat: Think creatively and explore alternatives.\n",
      "  6. Blue Hat: Manage the decision-making process itself.\n",
      "\n",
      "### 8. **OODA Loop**\n",
      "**Observe, Orient, Decide, Act**\n",
      "- **Purpose:** To make quick, effective decisions in dynamic situations.\n",
      "- **Steps:**\n",
      "  1. Observe: Gather data and information.\n",
      "  2. Orient: Analyze and synthesize the information.\n",
      "  3. Decide: Choose the best course of action.\n",
      "  4. Act: Implement the decision and observe the results.\n",
      "\n",
      "### 9. **"
     ]
    }
   ],
   "source": [
    "// Create a new OpenAI prompt execution settings object\n",
    "var openAIPromptExecutionSettings = new OpenAIPromptExecutionSettings { \n",
    "    MaxTokens = 750, \n",
    "    Temperature = 0.7, \n",
    "    TopP = 1.0, \n",
    "    FrequencyPenalty = 0.0, \n",
    "    PresencePenalty = 0.0\n",
    "    };\n",
    "\n",
    "KernelArguments kernelArguments = new KernelArguments(openAIPromptExecutionSettings);\n",
    "await foreach (var streamChunk in semanticKernel.InvokePromptStreamingAsync(simpleDecisionPrompt, kernelArguments))\n",
    "{\n",
    "   Console.Write(streamChunk);\n",
    "}"
   ]
  },
  {
   "cell_type": "markdown",
   "metadata": {},
   "source": [
    "### Step 6 - Execute a Semantic Kernel Prompt with a system prompt (persona)\n",
    "\n",
    "All the best practices of prompt engineering apply when using Semantic Kernel.  \n",
    "* Make the prompt more specific\n",
    "* Add structure to the output with formatting\n",
    "* Provide examples with few-shot prompting\n",
    "* Tell the AI what to do to avoid doing something wrong\n",
    "* Provide context to the AI\n",
    "* Using message roles in chat completion prompts\n",
    "* Give your AI words of encouragement  \n",
    "\n",
    "One best practice is to provide a common behaviour across all the LLM interactions in a system prompt. This system prompt is passed in on every single call the LLM with Semantic Kernel. These prompts can be dynamically created with a programming language like C#.\n",
    "\n",
    "Execute the cell below with a dynamic prompt template. Notice the different behavior of the output for decision frameworks. The decision framework responses are much more robust with decision intelligence information."
   ]
  },
  {
   "cell_type": "code",
   "execution_count": 6,
   "metadata": {
    "dotnet_interactive": {
     "language": "csharp"
    },
    "polyglot_notebook": {
     "kernelName": "csharp"
    },
    "vscode": {
     "languageId": "polyglot-notebook"
    }
   },
   "outputs": [
    {
     "name": "stdout",
     "output_type": "stream",
     "text": [
      "Prompt To Send to the Azure OpenAI Chat Completion Service...\n",
      "System Prompt: You are a decision intelligence assistant. \n",
      "Assist the user in exploring options, reasoning through decisions, problem-solving, and applying systems thinking to various scenarios. \n",
      "Provide structured, logical, and comprehensive advice.\n",
      "\n",
      "Request from the user: Provide some decision frameworks that can help improve the quality of decisions.\n",
      "\n",
      "----------------------------------------\n",
      "\n",
      "Response from the Azure OpenAI Chat Completion Service...\n",
      "Certainly! Decision frameworks are structured approaches that help improve the quality of decisions by providing a systematic way to evaluate options and outcomes. Here are some widely used decision frameworks:\n",
      "\n",
      "### 1. **SWOT Analysis**\n",
      "**Strengths, Weaknesses, Opportunities, Threats**\n",
      "- **Purpose:** To evaluate the internal and external factors that can impact a decision.\n",
      "- **Steps:**\n",
      "  1. Identify internal strengths and weaknesses.\n",
      "  2. Identify external opportunities and threats.\n",
      "  3. Analyze how strengths can be leveraged to capitalize on opportunities and mitigate threats.\n",
      "  4. Develop strategies to address weaknesses.\n",
      "\n",
      "### 2. **Decision Matrix (Weighted Scoring Model)**\n",
      "- **Purpose:** To quantitatively compare multiple options based on various criteria.\n",
      "- **Steps:**\n",
      "  1. List all options.\n",
      "  2. Identify criteria important for the decision.\n",
      "  3. Assign weights to each criterion based on importance.\n",
      "  4. Score each option against each criterion.\n",
      "  5. Multiply scores by weights and sum them to get a total score for each option.\n",
      "  6. Choose the option with the highest score.\n",
      "\n",
      "### 3. **Cost-Benefit Analysis (CBA)**\n",
      "- **Purpose:** To evaluate the financial implications of different options.\n",
      "- **Steps:**\n",
      "  1. Identify all costs and benefits associated with each option.\n",
      "  2. Quantify costs and benefits in monetary terms.\n",
      "  3. Compare the total costs and benefits for each option.\n",
      "  4. Choose the option with the highest net benefit (benefits minus costs).\n",
      "\n",
      "### 4. **Pros and Cons List**\n",
      "- **Purpose:** To qualitatively evaluate the advantages and disadvantages of each option.\n",
      "- **Steps:**\n",
      "  1. List all options.\n",
      "  2. For each option, list the pros (advantages) and cons (disadvantages).\n",
      "  3. Compare the lists to see which option has more significant pros and fewer cons.\n",
      "\n",
      "### 5. **Six Thinking Hats**\n",
      "- **Purpose:** To explore different perspectives and thinking styles to make a well-rounded decision.\n",
      "- **Steps:**\n",
      "  1. **White Hat:** Focus on data and information.\n",
      "  2. **Red Hat:** Consider emotions and gut feelings.\n",
      "  3. **Black Hat:** Identify potential problems and risks.\n",
      "  4. **Yellow Hat:** Look for benefits and positive outcomes.\n",
      "  5. **Green Hat:** Think creatively and explore new ideas.\n",
      "  6. **Blue Hat:** Manage the decision-making process and ensure all hats are used.\n",
      "\n",
      "### 6. **Pareto Analysis (80/20 Rule)**\n",
      "- **Purpose:** To identify the most significant factors that will have the greatest impact.\n",
      "- **Steps:**\n",
      "  1. List all problems or options.\n",
      "  2. Score each problem or option based on its impact.\n",
      "  3. Rank the problems or options based on their scores.\n",
      "  4. Focus on the top 20% of problems or options that will solve 80% of the issues.\n",
      "\n",
      "### 7. **PDCA Cycle (Plan-Do-Check-Act)**\n",
      "- **Purpose:** To implement continuous improvement in decision-making.\n",
      "- **Steps:**\n",
      "  1. **Plan:** Identify the problem and develop a plan.\n",
      "  2. **Do:** Implement the plan on a small scale.\n",
      "  3. **Check:** Evaluate the results of the implementation.\n",
      "  4. **Act:** If successful, implement on a larger scale; if not, revise the plan and repeat.\n",
      "\n",
      "### 8. **OODA Loop (Observe-Orient-Decide-Act)**\n"
     ]
    }
   ],
   "source": [
    "// Create a system prompt instruction to override the default system prompt\n",
    "// Add the System Prompt (Persona) to behave like a decision intelligence assistant\n",
    "var systemPromptForDecisions = \"\"\"\n",
    "You are a decision intelligence assistant. \n",
    "Assist the user in exploring options, reasoning through decisions, problem-solving, and applying systems thinking to various scenarios. \n",
    "Provide structured, logical, and comprehensive advice.\n",
    "\"\"\";\n",
    "var simpleDecisionPrompt = \"Provide some decision frameworks that can help improve the quality of decisions.\";\n",
    "\n",
    "// How the prompt looks like to the LLM\n",
    "var simpleDecisionPromptTemplate = $\"\"\"\n",
    "System Prompt: {systemPromptForDecisions}\n",
    "\n",
    "Request from the user: {simpleDecisionPrompt}\n",
    "\"\"\";\n",
    "\n",
    "// Create a new OpenAI prompt execution settings object\n",
    "var openAIPromptExecutionSettings = new OpenAIPromptExecutionSettings { \n",
    "    ChatSystemPrompt = systemPromptForDecisions,\n",
    "    MaxTokens = 750, \n",
    "    Temperature = 0.1, \n",
    "    TopP = 1.0, \n",
    "    FrequencyPenalty = 0.0, \n",
    "    PresencePenalty = 0.0\n",
    "    };\n",
    "KernelArguments kernelArguments = new KernelArguments(openAIPromptExecutionSettings);\n",
    "\n",
    "Console.WriteLine(\"Prompt To Send to the Azure OpenAI Chat Completion Service...\");\n",
    "Console.WriteLine(simpleDecisionPromptTemplate);\n",
    "Console.WriteLine(string.Empty);\n",
    "Console.WriteLine(\"----------------------------------------\");\n",
    "Console.WriteLine(string.Empty);\n",
    "Console.WriteLine(\"Response from the Azure OpenAI Chat Completion Service...\");\n",
    "\n",
    "\n",
    "await foreach (var streamChunk in semanticKernel.InvokePromptStreamingAsync(simpleDecisionPrompt, kernelArguments))\n",
    "{\n",
    "   Console.Write(streamChunk);\n",
    "}"
   ]
  }
 ],
 "metadata": {
  "kernelspec": {
   "display_name": ".NET (C#)",
   "language": "C#",
   "name": ".net-csharp"
  },
  "language_info": {
   "name": "csharp"
  },
  "polyglot_notebook": {
   "kernelInfo": {
    "defaultKernelName": "csharp",
    "items": [
     {
      "aliases": [],
      "name": "csharp"
     }
    ]
   }
  }
 },
 "nbformat": 4,
 "nbformat_minor": 2
}
