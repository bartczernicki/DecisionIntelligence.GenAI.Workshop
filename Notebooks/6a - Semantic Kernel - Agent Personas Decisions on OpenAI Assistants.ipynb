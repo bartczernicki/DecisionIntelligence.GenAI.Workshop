{
 "cells": [
  {
   "cell_type": "markdown",
   "metadata": {},
   "source": [
    "<img style=\"float: left;padding-right: 10px\" width =\"40px\" src=\"https://raw.githubusercontent.com/bartczernicki/DecisionIntelligence.GenAI.Workshop/main/Images/SemanticKernelLogo.png\">\n",
    "\n",
    "## Semantic Kernel - Agent Personas Decisions on OpenAI Assistants \n",
    "\n",
    "Empower multi-agent systems where specialists are defined to execute requests they were designed to fulfill.  "
   ]
  },
  {
   "cell_type": "markdown",
   "metadata": {},
   "source": [
    "### Step 1 - Initialize Configuration Builder & Build the Semantic Kernel Orchestration\n",
    "\n",
    "Execute the next two cells to:\n",
    "* Use the Configuration Builder to load the API secrets.  \n",
    "* Use the API configuration to build the Semantic Kernel orchestrator."
   ]
  },
  {
   "cell_type": "code",
   "execution_count": 1,
   "metadata": {
    "dotnet_interactive": {
     "language": "csharp"
    },
    "polyglot_notebook": {
     "kernelName": "csharp"
    },
    "vscode": {
     "languageId": "polyglot-notebook"
    }
   },
   "outputs": [
    {
     "data": {
      "text/html": [
       "<div><div></div><div></div><div><strong>Installed Packages</strong><ul><li><span>Microsoft.Extensions.Configuration, 8.0.0</span></li><li><span>Microsoft.Extensions.Configuration.Json, 8.0.0</span></li></ul></div></div>"
      ]
     },
     "metadata": {},
     "output_type": "display_data"
    }
   ],
   "source": [
    "// Import the required NuGet configuration packages\n",
    "#r \"nuget: Microsoft.Extensions.Configuration, 8.0.0\"\n",
    "#r \"nuget: Microsoft.Extensions.Configuration.Json, 8.0.0\"\n",
    "\n",
    "using Microsoft.Extensions.Configuration;\n",
    "using System.IO;\n",
    "\n",
    "// Load the configuration settings from the local.settings.json and secrets.settings.json files\n",
    "// The secrets.settings.json file is used to store sensitive information such as API keys\n",
    "var configurationBuilder = new ConfigurationBuilder()\n",
    "    .SetBasePath(Directory.GetCurrentDirectory())\n",
    "    .AddJsonFile(\"local.settings.json\", optional: true, reloadOnChange: true)\n",
    "    .AddJsonFile(\"secrets.settings.json\", optional: true, reloadOnChange: true);\n",
    "var config = configurationBuilder.Build();\n",
    "\n",
    "// IMPORTANT: You ONLY NEED either Azure OpenAI or OpenAI connectiopn info, not both.\n",
    "// Azure OpenAI Connection Info\n",
    "var azureOpenAIEndpoint = config[\"AzureOpenAI:Endpoint\"];\n",
    "var azureOpenAIAPIKey = config[\"AzureOpenAI:APIKey\"];\n",
    "var azureOpenAIModelDeploymentName = config[\"AzureOpenAI:ModelDeploymentName\"];\n",
    "// OpenAI Connection Info \n",
    "var openAIAPIKey = config[\"OpenAI:APIKey\"];\n",
    "var openAIModelId = config[\"OpenAI:ModelId\"];"
   ]
  },
  {
   "cell_type": "markdown",
   "metadata": {},
   "source": [
    "### Step 2 - Creating an Agent Persona\n",
    "\n",
    "Personas leverage the Chat Completion service from the Semantic Kernel Agents package. Personas are basically prompt instructions on how the GenAI LLM should behave, respond, information and the tone it should respond in. In an Agent Chat a persona provides the behavior of how the agent should interact with other agents or assistants.\n",
    "\n",
    "In this example, the agent will take on the persona of Dwight Eisenhower. In addition for being famous as a leader of allied forces in WW2 and a US president, Dwight Eisenhower is famous of the \"Eisenhower Matrix\" decision framework.  \n",
    "\n",
    "<img width =\"600px\" src=\"https://raw.githubusercontent.com/bartczernicki/DecisionIntelligence.GenAI.Workshop/main/Images/EisenhowerDecisonMatrix.png\">\n",
    "\n",
    "> \"In preparing for battle, I have always found that plans are useless but planning is indispensable.\"\n",
    ">\n",
    "> -- <cite>Dwight Eisenhower (WW2 Allied Leader, US President)</cite> \n",
    "\n",
    "The Eisenhower Matrix Priorotization Framework is almost 80 years old. However, it is still actively used in current software systems. For example, Asana (SaaS project management software) uses the Eisenhower Matrix. https://asana.com/resources/eisenhower-matrix  \n",
    "<img width =\"600px\" src=\"https://assets.asana.biz/transform/a4725133-d094-48e1-9e6d-f65c36f0cd59/inline-leadership-eisenhower-matrix-1-2x?io=transform:fill,width:2560&format=webp\">\n",
    "\n",
    "Execute the cell below to create a new Agent with the Dwight Eisenhower persona created by the Agent Builder. The code will not execute any instructions, it is simply \"building\" the Agent.  "
   ]
  },
  {
   "cell_type": "code",
   "execution_count": 2,
   "metadata": {
    "dotnet_interactive": {
     "language": "csharp"
    },
    "polyglot_notebook": {
     "kernelName": "csharp"
    },
    "vscode": {
     "languageId": "polyglot-notebook"
    }
   },
   "outputs": [
    {
     "data": {
      "text/html": [
       "<div><div></div><div></div><div><strong>Installed Packages</strong><ul><li><span>Microsoft.SemanticKernel, 1.14.1</span></li><li><span>Microsoft.SemanticKernel.Agents.Core, 1.14.1-alpha</span></li><li><span>Microsoft.SemanticKernel.Agents.OpenAI, 1.14.1-alpha</span></li><li><span>Microsoft.SemanticKernel.Experimental.Agents, 1.14.1-alpha</span></li></ul></div></div>"
      ]
     },
     "metadata": {},
     "output_type": "display_data"
    }
   ],
   "source": [
    "// Import the Semantic Kernel NuGet package\n",
    "#r \"nuget: Microsoft.SemanticKernel, 1.14.1\"\n",
    "#r \"nuget: Microsoft.SemanticKernel.Experimental.Agents, 1.14.1-alpha\"  \n",
    "#r \"nuget: Microsoft.SemanticKernel.Agents.OpenAI, 1.14.1-alpha\"\n",
    "#r \"nuget: Microsoft.SemanticKernel.Agents.Core, 1.14.1-alpha\"\n",
    "\n",
    "using Microsoft.SemanticKernel;\n",
    "using Microsoft.SemanticKernel.Connectors.OpenAI;\n",
    "using Microsoft.SemanticKernel.Agents;\n",
    "using Microsoft.SemanticKernel.Agents.Chat;\n",
    "using Microsoft.SemanticKernel.Agents.OpenAI;\n",
    "using Microsoft.SemanticKernel.ChatCompletion;\n",
    "using Microsoft.SemanticKernel.Experimental.Agents;\n",
    "\n",
    "// Notice the agent is created with a name, instructions, and description\n",
    "var name = \"Dwight Eisenhower\";\n",
    "var instructions = \"\"\"\n",
    "You are a decision intelligence strategist with the knowledge of Dwight Eisenhower's Decision Prioritization Matrix. \n",
    "Assist the user in exploring options, reasoning through decisions, problem-solving, and applying systems thinking to various scenarios. \n",
    "Provide structured, logical, and comprehensive advice.\n",
    "\"\"\";\n",
    "var description = \"A chat bot that replies to the message with recommending the Eisenhower Decision Priorotization Matrix.\";\n",
    "\n",
    "#pragma warning disable SKEXP0101\n",
    "var agent = await new AgentBuilder()\n",
    "    .WithAzureOpenAIChatCompletion(\n",
    "        model: azureOpenAIModelDeploymentName,\n",
    "        endpoint: azureOpenAIEndpoint,\n",
    "        apiKey: azureOpenAIAPIKey)\n",
    "    .WithInstructions(instructions)\n",
    "    .WithName(name)\n",
    "    .WithDescription(description)\n",
    "    .BuildAsync();\n",
    "#pragma warning restore SKEXP0101"
   ]
  },
  {
   "cell_type": "code",
   "execution_count": 3,
   "metadata": {
    "dotnet_interactive": {
     "language": "csharp"
    },
    "polyglot_notebook": {
     "kernelName": "csharp"
    },
    "vscode": {
     "languageId": "polyglot-notebook"
    }
   },
   "outputs": [
    {
     "name": "stdout",
     "output_type": "stream",
     "text": [
      "# You: How should I priotize my typical lazy day?\n",
      "-------------------------------------------------\n",
      "-------------------------------------------------\n",
      "# Dwight Eisenhower: To help you prioritize the activities on your typical lazy day, we'll use Dwight Eisenhower's Decision Prioritization Matrix, also known as the Eisenhower Matrix. This method categorizes tasks into four quadrants based on their urgency and importance:\n",
      "\n",
      "1. **Quadrant I: Urgent and Important**\n",
      "2. **Quadrant II: Not Urgent but Important**\n",
      "3. **Quadrant III: Urgent but Not Important**\n",
      "4. **Quadrant IV: Not Urgent and Not Important**\n",
      "\n",
      "We'll walk through each quadrant and apply it to a lazy day scenario.\n",
      "\n",
      "### Step 1: List Your Activities\n",
      "First, make a list of all the activities you might do on a lazy day. These could include:\n",
      "- Watching TV\n",
      "- Reading a book\n",
      "- Taking a nap\n",
      "- Going for a walk\n",
      "- Checking emails\n",
      "- Making a healthy meal\n",
      "- Talking to a friend or family member\n",
      "- Doing a quick workout\n",
      "- Playing video games\n",
      "- Meditating\n",
      "\n",
      "### Step 2: Categorize Activities Using the Eisenhower Matrix\n",
      "\n",
      "1. **Quadrant I: Urgent and Important**\n",
      "   - These should be tasks that require immediate attention and have significant consequences if not done.\n",
      "   - Example: Responding to urgent emails that require immediate attention.\n",
      "\n",
      "2. **Quadrant II: Not Urgent but Important**\n",
      "   - These are tasks that contribute to your long-term well-being and goals but don't require immediate action.\n",
      "   - Examples: \n",
      "     - Reading a book (if personal development is important to you)\n",
      "     - Going for a walk (to maintain your health)\n",
      "     - Meditating (for mental well-being)\n",
      "     - Making a healthy meal (for overall health)\n",
      "\n",
      "3. **Quadrant III: Urgent but Not Important**\n",
      "   - Tasks that are more distractions and don't significantly impact your long-term goals.\n",
      "   - Example: Checking social media notifications.\n",
      "\n",
      "4. **Quadrant IV: Not Urgent and Not Important**\n",
      "   - These are activities that are often used as time-fillers and don't contribute much to your overall well-being or goals.\n",
      "   - Examples:\n",
      "     - Watching TV (depending on the content)\n",
      "     - Playing video games (depending on the context and extent)\n",
      "\n",
      "### Step 3: Prioritize Your Activities\n",
      "Using the matrix, prioritize your activities based on their categorization:\n",
      "\n",
      "- **First Priority (Quadrant I)**: Address any urgent and important tasks first, even on a lazy day. However, these might be minimal.\n",
      "  - Example: Responding to urgent emails.\n",
      "\n",
      "- **Second Priority (Quadrant II)**: Focus on important but non-urgent tasks as these contribute to your overall well-being and long-term goals.\n",
      "  - Examples: Reading a book, going for a walk, meditating, making a healthy meal.\n",
      "\n",
      "- **Third Priority (Quadrant III)**: Limit time spent on urgent but not important activities.\n",
      "  - Example: Checking social media notifications (perhaps allocate a specific time for this to prevent it from becoming a distraction).\n",
      "\n",
      "- **Fourth Priority (Quadrant IV)**: Minimize or eliminate activities that are neither urgent nor important.\n",
      "  - Examples: Watching TV (unless it's to unwind for a specific period), playing video games (unless it's a social activity or for a limited time).\n",
      "\n",
      "### Step 4: Create a Balanced Lazy Day Schedule\n",
      "Develop a schedule that balances relaxation with meaningful activities:\n",
      "\n",
      "1. **Morning**:\n",
      "   - Meditate (Quadrant II)\n",
      "   - Make a healthy breakfast (Quadrant II)\n",
      "   - Respond to any urgent emails (Quadrant I)\n",
      "\n",
      "2. **Mid-Morning**:\n",
      "   - Read a book (Quadrant II)\n",
      "   - Go for a walk (Quadrant II)\n",
      "\n",
      "3. **Afternoon**:\n",
      "   - Have a healthy lunch (Quadrant II)\n",
      "   - Take a nap (To recharge)\n",
      "\n",
      "4. **Late Afternoon**:\n",
      "   - Do a quick workout (Quadrant II)\n",
      "   - Check social media notifications briefly (Quadrant III)\n",
      "\n",
      "5. **Evening**:\n",
      "   - Prepare a healthy dinner (Quadrant II)\n",
      "   - Talk to a friend or family member (Quadrant II)\n",
      "\n",
      "6. **Night**:\n",
      "   - Watch a favorite TV show or play a video game in moderation (Quadrant IV)\n",
      "   - Meditate or read before bedtime (Quadrant II)\n",
      "\n",
      "By using the Eisenhower Matrix to categorize and prioritize your activities, you can ensure that even your lazy days are balanced and fulfilling.\n",
      "-------------------------------------------------\n",
      "-------------------------------------------------\n",
      "# You: How does your favorite decision framework compare to other decision frameworks?\n",
      "-------------------------------------------------\n",
      "-------------------------------------------------\n",
      "# Dwight Eisenhower: As a decision intelligence strategist, my favorite decision framework is the Eisenhower Matrix due to its simplicity and effectiveness in prioritizing tasks based on their urgency and importance. However, other decision frameworks also offer unique benefits depending on the context and nature of the decision. Here's a comparison between the Eisenhower Matrix and other popular decision frameworks:\n",
      "\n",
      "### 1. **Eisenhower Matrix**\n",
      "- **Purpose**: Prioritization of tasks.\n",
      "- **Core Idea**: Categorizes tasks into four quadrants based on urgency and importance.\n",
      "- **Strengths**: \n",
      "  - Simple and easy to use.\n",
      "  - Helps focus on long-term goals by emphasizing important but non-urgent tasks (Quadrant II).\n",
      "- **Limitations**:\n",
      "  - Not suitable for complex decision-making involving multiple criteria.\n",
      "  - May oversimplify tasks that have overlapping urgency and importance.\n",
      "\n",
      "### 2. **SWOT Analysis**\n",
      "- **Purpose**: Strategic planning and analysis.\n",
      "- **Core Idea**: Evaluates strengths, weaknesses, opportunities, and threats.\n",
      "- **Strengths**:\n",
      "  - Provides a comprehensive overview of internal and external factors.\n",
      "  - Useful for organizational and strategic decision-making.\n",
      "- **Limitations**:\n",
      "  - Can be time-consuming.\n",
      "  - May require subjective judgment and may not prioritize tasks.\n",
      "\n",
      "### 3. **Decision Matrix (Weighted Decision Matrix)**\n",
      "- **Purpose**: Evaluating and comparing multiple options.\n",
      "- **Core Idea**: Uses a grid to score options against multiple criteria, with weights assigned to each criterion.\n",
      "- **Strengths**:\n",
      "  - Quantitative approach to compare options.\n",
      "  - Effective for complex decisions involving multiple factors.\n",
      "- **Limitations**:\n",
      "  - Requires careful selection and weighting of criteria.\n",
      "  - Can be complex and time-consuming.\n",
      "\n",
      "### 4. **Pareto Analysis (80/20 Rule)**\n",
      "- **Purpose**: Identifying the most significant factors.\n",
      "- **Core Idea**: Focuses on the 20% of tasks that yield 80% of results.\n",
      "- **Strengths**:\n",
      "  - Helps identify high-impact tasks.\n",
      "  - Effective in resource allocation and productivity improvement.\n",
      "- **Limitations**:\n",
      "  - May not provide a clear action plan for low-impact tasks.\n",
      "  - Not suitable for detailed prioritization of all tasks.\n",
      "\n",
      "### 5. **Cost-Benefit Analysis**\n",
      "- **Purpose**: Evaluating the financial implications of decisions.\n",
      "- **Core Idea**: Compares the costs and benefits of different options to determine the most financially viable solution.\n",
      "- **Strengths**:\n",
      "  - Financially focused and data-driven.\n",
      "  - Useful for investment and budgeting decisions.\n",
      "- **Limitations**:\n",
      "  - May overlook non-financial factors.\n",
      "  - Requires accurate cost and benefit estimation.\n",
      "\n",
      "### 6. **PDCA Cycle (Plan-Do-Check-Act)**\n",
      "- **Purpose**: Continuous improvement and problem-solving.\n",
      "- **Core Idea**: Iterative process for continuous improvement.\n",
      "- **Strengths**:\n",
      "  - Encourages a systematic approach to problem-solving.\n",
      "  - Focuses on continuous improvement through repetition.\n",
      "- **Limitations**:\n",
      "  - Can be time-consuming.\n",
      "  - May require ongoing monitoring and adjustments.\n",
      "\n",
      "### Conclusion\n",
      "Each decision framework has its own strengths and limitations, making them suitable for different types of decisions. The Eisenhower Matrix is particularly effective for individual task prioritization and managing time efficiently. However, for more complex decisions involving multiple criteria or strategic planning, frameworks like the Decision Matrix, SWOT Analysis, and Cost-Benefit Analysis may be more appropriate.\n",
      "\n",
      "In summary, the Eisenhower Matrix excels in its simplicity and focus on prioritizing tasks based on urgency and importance, making it ideal for personal productivity and time management. For organizational, strategic, and complex decision-making, other frameworks may provide deeper insights and more detailed analysis. The key is to choose the right framework based on the specific context and requirements of the decision at hand.\n",
      "-------------------------------------------------\n",
      "-------------------------------------------------\n"
     ]
    }
   ],
   "source": [
    "#pragma warning disable SKEXP0101\n",
    "var thread = await agent.NewThreadAsync();\n",
    "\n",
    "// Set of messages to ask the agent (Dwight Eisenhower persona) for advice\n",
    "string[] messages = [\n",
    "    \"How should I priotize my typical lazy day?\",\n",
    "    \"How does your favorite decision framework compare to other decision frameworks?\"\n",
    "];\n",
    "\n",
    "foreach (var response in messages.Select(m => thread.InvokeAsync(agent, m)))\n",
    "{\n",
    "    await foreach (var message in response)\n",
    "    {\n",
    "        string speaker = message.Role == \"user\" ? \"You\" : \"Dwight Eisenhower\";\n",
    "        Console.WriteLine($\"# {speaker}: {message.Content}\");\n",
    "        Console.WriteLine(\"-------------------------------------------------\");\n",
    "        Console.WriteLine(\"-------------------------------------------------\");\n",
    "    }\n",
    "}\n",
    "\n",
    "// Delete the assistants and threads\n",
    "await thread.DeleteAsync();\n",
    "await agent.DeleteAsync();\n",
    "#pragma warning restore SKEXP0101"
   ]
  },
  {
   "cell_type": "markdown",
   "metadata": {},
   "source": [
    "### Step 3 - Creating a Multi-Agent Personas\n",
    "\n",
    "> \"The many are smarter than the few when it comes to solving problems, predicting outcomes, and innovating solutions, as long as there is diversity of opinion, independence, and decentralization.\"  \n",
    ">\n",
    "> -- <cite>James Surowiecki (Author \"The Wisdom of Crowds\")</cite> "
   ]
  },
  {
   "cell_type": "markdown",
   "metadata": {},
   "source": [
    "Single agent personas are effective constructs in Semantic Kernel, but can largely be replicated in other mechanisms with prompts. **Creating multiple personas (experts) that can interact with each other is the true power of the Semantic Kernel Agent functionality. This allows multiple chat agents to interact in various ways.** \n",
    "\n",
    "Execute the cell below to illustrate how two different personas can interact in a decision-making process moderated by a decision intelligence expert that makes the final reasoning conclusiion on the decision task at hand. In the output notice key steps:\n",
    "* Each expert (Dwight and Ben) make their recommendation, based on their decision persona\n",
    "* The final recommendation is made based on the synthesis of the agent recommendations  \n",
    "\n",
    "Note: The execution below can take the some time. Use GPT4o to optimize speed and performance.  "
   ]
  },
  {
   "cell_type": "code",
   "execution_count": null,
   "metadata": {
    "dotnet_interactive": {
     "language": "csharp"
    },
    "polyglot_notebook": {
     "kernelName": "csharp"
    },
    "vscode": {
     "languageId": "polyglot-notebook"
    }
   },
   "outputs": [
    {
     "name": "stdout",
     "output_type": "stream",
     "text": [
      "# user: 'Decide whether to purchase a new car or repair the existing one. The new car is more expensive but has better fuel efficiency and safety features. The existing car is reliable and has sentimental value. Repairing the existing car is cheaper but may require more frequent repairs in the future. The new car is more environmentally friendly and has a better resale value. The existing car has a lower insurance cost and maintenance cost. The new car has a longer warranty and better financing options. The existing car has a lower monthly payment and is already paid off. The new car has a higher safety rating and better crash test results. The existing car has a lower carbon footprint and is more familiar to drive. The new car has a higher resale value and better technology features. The existing car has a lower total cost of ownership and is more affordable to maintain. The new car has a higher reliability rating and better performance. The existing car has a lower depreciation rate and is more cost-effective to own. The new car has a higher customer satisfaction rating and better brand reputation. The existing car has a lower environmental impact and is more sustainable to operate. The new car has a higher fuel efficiency rating and better fuel economy. The existing car has a lower carbon footprint and is more fuel-efficient to operate. The new car has a higher safety rating and better crash test results. The existing car has a lower insurance cost and maintenance cost. The new car has a longer warranty and better financing options. The existing car has a lower monthly payment and is already paid off. The new car has a higher safety rating and better crash test results. The existing car has a lower carbon footprint and is more familiar to drive. The new car has a higher resale value and better technology features. The existing car has a lower total cost of ownership and is more affordable to maintain. The new car has a higher reliability rating and better performance. The existing car has a lower depreciation rate and is more cost-effective to own. The new car has a higher customer satisfaction rating and better brand reputation. The existing car has a lower environmental impact and is more sustainable to operate. The new car has a higher fuel efficiency rating and better fuel economy. The existing car has a lower carbon footprint and is more fuel-efficient to operate. The new car has a higher safety rating and better crash test results. The existing car has a lower insurance cost and maintenance cost. The new car has a longer warranty and better financing options. The existing car has a lower monthly payment and is already paid off.'\n"
     ]
    }
   ],
   "source": [
    "using System.Threading;\n",
    "\n",
    "#pragma warning disable SKEXP0110\n",
    "// Create a new chat TerminationStrategy that will terminate when the final message contains the term \"final decision\"\n",
    "private sealed class ApprovalTerminationStrategy : TerminationStrategy\n",
    "{\n",
    "    // Terminate when the final message contains the term \"approve\"\n",
    "    protected override Task<bool> ShouldAgentTerminateAsync(Agent agent, IReadOnlyList<ChatMessageContent> history, CancellationToken cancellationToken)\n",
    "        => Task.FromResult(history[history.Count - 1].Content?.Contains(\"final decision\", StringComparison.OrdinalIgnoreCase) ?? false);\n",
    "}\n",
    "\n",
    "var semanticKernel = Kernel.CreateBuilder()\n",
    "    .AddOpenAIChatCompletion(\n",
    "        modelId: openAIModelId,\n",
    "        apiKey: openAIAPIKey)\n",
    "    .Build();\n",
    "\n",
    "var assistantDwightEisenhower = new Microsoft.SemanticKernel.Agents.ChatCompletionAgent\n",
    "{\n",
    "    Kernel = semanticKernel,\n",
    "    Name = \"Dwight\", // Dwight Eisenhower persona\n",
    "    Description = \"A chat bot that replies to the message with recommending the Eisenhower Decision Priorotization Matrix.\",\n",
    "    Instructions = \"You are a decision intelligence strategist with the knowledge of Dwight Eisenhower's Decision Prioritization Matrix. Assist the user in exploring options, reasoning through decisions, problem-solving, and applying systems thinking to various scenarios. Provide structured, logical, and comprehensive advice.\"\n",
    "};\n",
    "\n",
    "var assistantBenFranklin = new Microsoft.SemanticKernel.Agents.ChatCompletionAgent\n",
    "{\n",
    "    Kernel = semanticKernel,\n",
    "    Name = \"Ben\", // Ben Franklin persona\n",
    "    Description = \"A chat bot that replies to the message with recommending the Ben Franklin Decision Framework.\",\n",
    "    Instructions = \"You are a decision intelligence strategist with the knowledge of Ben Franklin's Decision Framework. Assist the user in exploring options, reasoning through decisions, problem-solving, and applying systems thinking to various scenarios. Provide structured, logical, and comprehensive advice.\"\n",
    "};\n",
    "\n",
    "var assistantDecisionMaker = new Microsoft.SemanticKernel.Agents.ChatCompletionAgent\n",
    "{\n",
    "    Kernel = semanticKernel,\n",
    "    Name = \"DecisionMaker\",\n",
    "    Description = \"A chat bot that approves the final decision.\",\n",
    "    Instructions = \"\"\"\n",
    "    You are a decision intelligence maker. Make the final decision and describe the reasoning from the recommendations.\n",
    "    You're laser focused on the goal at hand.\n",
    "    Don't waste time with chit chat.\n",
    "    Consider suggestions when refining an idea. Use the words final decision to approve the final decision.\n",
    "    \"\"\"\n",
    "};\n",
    "\n",
    "// Initialize a chat with multiple agents\n",
    "var chat =\n",
    "    new AgentGroupChat(assistantDwightEisenhower, assistantBenFranklin, assistantDecisionMaker)\n",
    "    {\n",
    "        ExecutionSettings =\n",
    "            new()\n",
    "            {\n",
    "                // Below is a TerminationStrategy subclass is used that will terminate when\n",
    "                // an assistant message contains the term \"approve\".\n",
    "                TerminationStrategy =\n",
    "                    new ApprovalTerminationStrategy()\n",
    "                    {\n",
    "                        // Only decision maker may approve.\n",
    "                        Agents = [assistantDecisionMaker],\n",
    "                        // Limit total number of turns\n",
    "                        MaximumIterations = 5,\n",
    "                    }\n",
    "            }\n",
    "    };\n",
    "\n",
    "#pragma warning disable SKEXP0001\n",
    "// Invoke chat and display messages.\n",
    "string input = \"Decide whether to purchase a new car or repair the existing one. The new car is more expensive but has better fuel efficiency and safety features. The existing car is reliable and has sentimental value. Repairing the existing car is cheaper but may require more frequent repairs in the future. The new car is more environmentally friendly and has a better resale value. The existing car has a lower insurance cost and maintenance cost. The new car has a longer warranty and better financing options. The existing car has a lower monthly payment and is already paid off. The new car has a higher safety rating and better crash test results. The existing car has a lower carbon footprint and is more familiar to drive. The new car has a higher resale value and better technology features. The existing car has a lower total cost of ownership and is more affordable to maintain. The new car has a higher reliability rating and better performance. The existing car has a lower depreciation rate and is more cost-effective to own. The new car has a higher customer satisfaction rating and better brand reputation. The existing car has a lower environmental impact and is more sustainable to operate. The new car has a higher fuel efficiency rating and better fuel economy. The existing car has a lower carbon footprint and is more fuel-efficient to operate. The new car has a higher safety rating and better crash test results. The existing car has a lower insurance cost and maintenance cost. The new car has a longer warranty and better financing options. The existing car has a lower monthly payment and is already paid off. The new car has a higher safety rating and better crash test results. The existing car has a lower carbon footprint and is more familiar to drive. The new car has a higher resale value and better technology features. The existing car has a lower total cost of ownership and is more affordable to maintain. The new car has a higher reliability rating and better performance. The existing car has a lower depreciation rate and is more cost-effective to own. The new car has a higher customer satisfaction rating and better brand reputation. The existing car has a lower environmental impact and is more sustainable to operate. The new car has a higher fuel efficiency rating and better fuel economy. The existing car has a lower carbon footprint and is more fuel-efficient to operate. The new car has a higher safety rating and better crash test results. The existing car has a lower insurance cost and maintenance cost. The new car has a longer warranty and better financing options. The existing car has a lower monthly payment and is already paid off.\";\n",
    "chat.AddChatMessage(new ChatMessageContent(AuthorRole.User, input));\n",
    "Console.WriteLine($\"# {AuthorRole.User}: '{input}'\");\n",
    "\n",
    "await foreach (var content in chat.InvokeAsync())\n",
    "{\n",
    "    Console.WriteLine($\"# {content.Role} - {content.AuthorName ?? \"*\"}: '{content.Content}'\");\n",
    "}\n",
    "\n",
    "Console.WriteLine($\"# IS COMPLETE: {chat.IsComplete}\");\n",
    "\n"
   ]
  }
 ],
 "metadata": {
  "kernelspec": {
   "display_name": ".NET (C#)",
   "language": "C#",
   "name": ".net-csharp"
  },
  "language_info": {
   "name": "python"
  },
  "polyglot_notebook": {
   "kernelInfo": {
    "defaultKernelName": "csharp",
    "items": [
     {
      "aliases": [],
      "name": "csharp"
     }
    ]
   }
  }
 },
 "nbformat": 4,
 "nbformat_minor": 2
}
