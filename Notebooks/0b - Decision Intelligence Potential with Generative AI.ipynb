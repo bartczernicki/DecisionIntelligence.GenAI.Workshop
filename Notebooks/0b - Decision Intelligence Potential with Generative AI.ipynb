{
 "cells": [
  {
   "cell_type": "markdown",
   "metadata": {},
   "source": [
    "<img style=\"float: left;\" width =\"40px\" src=\"https://raw.githubusercontent.com/bartczernicki/DecisionIntelligence.GenAI.Workshop/main/Images/SemanticKernelLogo.png\">\n",
    "\n",
    "## Decision Intelligence Potential with Generative AI"
   ]
  },
  {
   "cell_type": "markdown",
   "metadata": {},
   "source": [
    "> \"Whenever you see a successful business, someone once made a courageous decision.\"\n",
    ">\n",
    "> -- <cite>Peter Drucker (father of modern management)</cite>  \n",
    "\n",
    "<img width =\"600px\" src=\"https://raw.githubusercontent.com/bartczernicki/DecisionIntelligence.GenAI.Workshop/main/Images/DdecisionIntelligence2.png\">\n",
    "<br/>  "
   ]
  },
  {
   "cell_type": "markdown",
   "metadata": {},
   "source": [
    "Decision-making ability is regarded by executives as one of the most highly desired business skills! Most people (even business professionals) make decisions using simple intuition. However, when the problem is sufficiently important, the chance of making a mistake is high or the decision outcome stakes are high; it is important to apply Decision Intelligence principles to solve those problems.\n",
    "\n",
    "To most people, making quality systematic decisions can be a daunting task. There is good news though!! It has been shown that in the same way with the training of top-tier athletes, decision-makers can employ techniques, plans, and instruments to improve with practice. This can include:  \n",
    "* Framing the Decision with different perspectives  \n",
    "* Gathering the Information and Intelligence to reason over the decision  \n",
    "* Making the Decision using a systematic framework (decision rules)  \n",
    "* Communicating the Decision & Monitoring the Decision Outcome  \n",
    "* Monitoring the Decision for potential optimization  \n",
    "\n",
    "Decision Intelligence sounds interesting, but what does this have todo with Generative AI? Large Language Models (LLMs) equipped with Generative AI (GenAI) capabilities possess potential for enhancing decision-making processes through advanced reasoning abilities. These GenAI LLMs have been trained on complex data sets with logic, patterns, writing source (programming) code and problem solving in mind. This allows LLMs to simulate human-like reasoning, offering insights and recommendations based on comprehensive data analysis. So what does this all mean? **This means that all of the historical use of decision-making, problem-solving, mental models, decision huersistics can be appllied to LLMs with GenAI and help humans make decisions!** \n",
    "\n",
    "As you can imagine there has been much study, thought and literature written on decision-making. There are examples and resources provided below to immerse yourself into the paradigm. Therefore, this workshop isn't meant to be a full introduction Decision Intelligence or Decision-Making, but will be used as the context for the GenAI exercises seen throughout. It is meant to show how you \"realistically\" can make decisions with AI & GenAI and not just apply simple prompt techniques.  \n",
    "\n",
    "You might be asking *\"Do I need to read a ton of information before getting started with the workshop?\"* Not necessarily. The workshop will introduce specific Decision Intelligence topics and showcase how they can be unlocked with GenAI. In a perfect scenario, this workshop would introduce cognitive behaviour in humans before using GenAI technology. However, in order to make progress, the workshop has to start somewhere pragmatic. The workshop will lightly leverage human intuition, but quickly move onto decision-framing, decision-making and decision communication practices. This is where most of the GenAI workshop content will be applied.  "
   ]
  },
  {
   "cell_type": "markdown",
   "metadata": {},
   "source": [
    "### 1 - Decision Intelligence - Using Intuition for Decision-Making"
   ]
  },
  {
   "cell_type": "markdown",
   "metadata": {},
   "source": [
    "> \"All of my best decisions in business and in life have been made with heart, intuition, guts... not analysis. \n",
    "> When you can make a decision with analysis, you should do so. But it turns out, in life, your most important\n",
    "> decisions are always made with instinct, intuition, taste, heart.\"\n",
    ">\n",
    "> -- <cite>Jeff Bezos (founder of Amazon, Space Entrepreneur)</cite>  "
   ]
  },
  {
   "cell_type": "markdown",
   "metadata": {},
   "source": [
    "The above quote from Jeff Bezos above underscores the balance between data-driven decision-making and the role of intuition and instinct in navigating complex or uncertain situations. Intuition is usually how many people start making decisions. \n",
    "\n",
    "**What is intuition? Intuition is best described as the ability to understand something immediately, without the need for conscious reasoning.** It's based on patterns and experiences that the brain has internalized over time. Intuitive judgments can be rapid and efficient, drawing on a wealth of experience & knowledge. Therefore, intuition can be a highly effective decision-making tool by people who are highly experienced. For example, a basketaball coach for 20 years has probably experienced similar patterns in basketball scenarios allowing the coach to make immediate decisions for his team impacting a game in real-time. Therefore, intuition is a highly effective ability when decision-making needs to be as quick as possible and you have the eperience to recognize patterns very quickly.  \n",
    "\n",
    "When is intuition not great tool? \n",
    "* When one is presented with a great deal of supporting data\n",
    "* There is time to improve the quality of the decision\n",
    "* When the situation is \"new\" and past experience can't be relied on\n",
    "\n",
    "In the cases listed above intuition can be unreliable. Therefore, there are much better decision intelligence options than intuition if you have the time, the data or can't draw on experience.  \n",
    "\n",
    "In the context of this workshop, intuition is basically allowing the Generative AI model make a decision from it's own knowledge & patterns it has learned from the mountains of trained data. You may trust an AI system to recommend a path for your next roadtrip (using GPS and AI), filter spam in your e-mail (using AI security)...but not for making high-stakes decisions without specific instructions, knowledge or guardrails. \n",
    "\n",
    "If you send a basic prompt to a GenAI model you are entrusting the GenAI's intuition (it's knowledge, pattern recognition and experience it has learned). The more basic the prompt and less specific the instruction, the more you are entrusting GenAI's intuition and learned pattern discovery. Therefore, in order to get the most decison-making capability from GenAI LLMs, one needs to apply more decision-making tools.  "
   ]
  },
  {
   "cell_type": "markdown",
   "metadata": {},
   "source": [
    "### 2 - Decision Intelligence - Improving Options with Decision-Framing"
   ]
  },
  {
   "cell_type": "markdown",
   "metadata": {},
   "source": [
    "> \"The framing effect shows that people's decisions can be influenced by the way a problem is presented.\"\n",
    ">\n",
    "> -- <cite>Daniel Kahneman (Nobel laureate, known for psychology of judgment and decision-making)</cite>  "
   ]
  },
  {
   "cell_type": "markdown",
   "metadata": {},
   "source": [
    "**Decision framing is about presenting or thinking about choices when making a decision.** Imagine you are trying to decide whether to take a new job offer. Like any job, this specific job has it's own pros and cons. One of the biggest pros is a high salary. Conversely, the biggest con is the potentially long commute and office work policy. If you focus on the higher salary and exciting new opportunities, you might feel more positive about the move. But if you think about the longer commute and the risk of not liking your new coworkers, you might feel hesitant.\n",
    "\n",
    "The way you \"frame\" the decision can greatly influence what you decide. It's like looking at the same picture through different lenses: each lens highlights different parts and colors, changing your overall view. By being aware of how you're framing a decision, you can create more optimized paths on how to approach a decision. Furthermore, decision-framing can also help you uncover more decision choices. Going back to the example above on taking a high-paying job with a potentially long commute. Considering all the options may allow you to frame your decision conditionally. For example, you may only consider accepting this job if the option presents itself to work a hybrid schedule from home.  \n",
    "\n",
    "There are several decision-framing techniques, processes and frameworks that can be applied to improve decision-framing such as: Pareto Analysis, the 10-10-10 rule, Pascal's Wager, the Six Thinking Hats etc. **The good news is that these decision-framing techniques are either built-in to the GenAI model or the model can be provided (\"grounded\") with new decision-framing techniques.**"
   ]
  },
  {
   "cell_type": "markdown",
   "metadata": {},
   "source": [
    "Below examples of decision-frames and alternate decision-frames are illustrated. Notice how the primary and alternate decision-frames can adjust your initial path for making a decision. For simplicity only one alternate has been shown below for each situation.  \n",
    "\n",
    "| Situation              | Decision-Frame | Alternate Decision-Frame |\n",
    "| :--------------------- | :------------- | :----------------------- |\n",
    "| New required corporate security training | \"Noise\" that prohibits you from your job. Considering watching the videos as 2x speed.        | Opportunity to learn new security innovations. |\n",
    "| You own a stock that recently dropped 20% | Financial risk & consider selling. The stock is in a free-fall and you might lose a more money if you hold onto the stock. | Do more research. Potential opportunity to buy more and lower total ownership costs. |\n",
    "| A competitor comes out with a new solution powered by GenAI         | Opportunity to modernize & innovate on your own company's solution with GenAI.         | Risk to the business that could canibalize your revenue. |\n",
    "| A new powerful laptop has been released. Should you purchase it?     |  Your current laptop is recent and working fine. Need good hardware functionality reasons to upgrade.        | Warranty is expiring on your current laptop. What is the risk of it breaking and being stuck with no laptop? | \n",
    "| The family refrigerator has stopped working |  Minimize cost. (Calling a repaiman will cost at least $250. It may or may not fix the issue with a sunk cost of $250, you may have to replace the appliance anyway.)    | Make the problem go away. (A new similar refridgerator cost ~$1,500. Should you spend that amount of money to guarantee solve the issue?) |  \n"
   ]
  },
  {
   "cell_type": "markdown",
   "metadata": {},
   "source": [
    "Realistically there can be multiple decision-frames in a complex decision. The image below illustrates the **Six Thinking Hats** decision-framing technique, which approaches a decision problem from 6 different perspectives. Each \"thinking hat\" looks at the problem in its own way. For example, the green hat looks at the problem from a \"Creative perspective\". You will see examples in this workshop how this technique can easily be applied to Generative AI decision-making, allowing the GenAI model to recommend a path forward in that specific contextual framing.  \n",
    "\n",
    "For more information, please read the book [Six Thinking Hats](https://www.amazon.com/Six-Thinking-Hats-Edward-Bono/dp/0316178314/ref=sr_1_1?crid=32G641H41WZVB&dib=eyJ2IjoiMSJ9.rzAQvSB2-37dsJkpsXLHX1QbtXtMoy0kFpIyVs36pukSGc7lnKDXUollB6sXGVj3iNxaqTyne5gBl03ey-PyHjxX4jVD-LwraN4wI2_v9opnbVqiXbTX3J-LTRpNyj2NOiSa84ioTs2J_a6cO6E3T-6ATDkRdAq8GtIGi2McV7lYdEtvkPjYxOtNPmu92BfEzWpXx49wa1x9obXoPLN1M7YLmaUKmIdWtcEpBnDcizsYJTeH-RHHkqNpXiXIu2Ztj9IG6BdBGQ2tzAtgcA7xjCA0HByjlwKP-Rprb962JIs.JjvSF7OppHZ9CBo36YsYv_cxCaXVhDXtL1nX-lEcDwU&dib_tag=se&keywords=edward+de+bono&qid=1716921855&sprefix=%5D%5D%5DEdward+de+Bono%2Caps%2C86&sr=8-1) by Edward de Bono.  \n",
    "\n",
    "<img width =\"600px\" src=\"https://raw.githubusercontent.com/bartczernicki/DecisionIntelligence.GenAI.Workshop/main/Images/six-thinking-hats-illustration.png\">"
   ]
  },
  {
   "cell_type": "markdown",
   "metadata": {},
   "source": [
    "### 3 - Decision Intelligence - Optimizing Decision Quality with Simple Decision Rules (Mental Models) & Frameworks  "
   ]
  },
  {
   "cell_type": "markdown",
   "metadata": {},
   "source": [
    "> \"You have to have models in your head. And you’ve got to array your experience – both vicarious and direct – on this latticework of models. You may have noticed students who just try to remember and pound back what is remembered. Well, they fail in school and in life. You’ve got to hang experience on a latticework of models in your head.\"\n",
    ">\n",
    "> -- <cite>Charlie Munger (American businessman, best known as the vice chairman of Berkshire Hathaway)</cite>  "
   ]
  },
  {
   "cell_type": "markdown",
   "metadata": {},
   "source": [
    "I personally enjoy the quote above from Charlie Munger, as it highlights that intuition (experience) is simply not enough to make decisions. What is really needed is a \"latticework\" of models in your head. What is meant by \"models in your head\"? Charlie Munger is not advocating about performing calculus or linear algebra in your head. Instead he advocates for the use of simple techniques, mental models, and rules of thumb that can be combined to enhance decision-making quality and quantity. By applying these tools, you can develop the ability to tackle and solve a wider range of problems, leading to more effective and efficient decision-making.  \n",
    "\n",
    "In the next few sections the following decision rules will be explored:\n",
    "* Generic Decision Rules (apply to any type of problem)  \n",
    "* Domain Specific Rules (apply to specific domains / industries)  \n",
    "* Simple Decision Frameworks for Custom Decisions  "
   ]
  },
  {
   "cell_type": "markdown",
   "metadata": {
    "vscode": {
     "languageId": "polyglot-notebook"
    }
   },
   "source": [
    "#### 3a - Simple Decision Rules - Generic "
   ]
  },
  {
   "cell_type": "markdown",
   "metadata": {},
   "source": [
    "Below is a list of simple decision rules that can be used for quick decision-making. Notice **these rules are generic and can be applied to many different domains, industries, fields** etc. For example, the generic \"10,000 Hour Rule\" which suggests in order to become a master in any field requires 10,000 hours of study, practice or hands-on experience. This rule essentially can be applied to any practice. If you want to master software development, cooking, basketball, playing the piano etc. this rule provides you a rough time guideline to achieve this goal. Is this rule perfect? Of course not, some people may take a little less time, some might need more than 10,000 hours and some may never achieve \"mastery\" no matter how much they practice. However, it is a great guide of the required time investment that allows you to plan your decisions accordingly to achieve this goal. \n",
    "\n",
    "There are many generic decision rules beyond what is illustrated in the table below. **Generative AI can be instructed with a collection of these decision rules, how to apply them for decision-making. This means the burden of learning and memorizing all of these rules is on the GenAI assistant rather than the human!**   "
   ]
  },
  {
   "cell_type": "markdown",
   "metadata": {},
   "source": [
    "| Generic - Simple Decision Rule | Description |\n",
    "| :--------------------- | :------------- | \n",
    "| 10,000 Hour Rule | A concept popularized by Malcolm Gladwell in his book *\"Outliers: The Story of Success\".* The rule suggests that achieving mastery in any field (industry) requires approximately 10,000 hours of deliberate practice. |  \n",
    "| Ben Franklin's Pro & Con List | Invented by Ben Franklin, this simple decision-making process suggests a user make a list Pro and Con for a binary decision, sort each side by importance, cross off equal important pros vs cons. Whichever side (Pro or Con) has more items, then make that decision. |  \n",
    "| Price's Law | In any given domain (industry), half of the work is done by the square root of the total number of people who participate in that work. For example, if there are 100 people working on a project, roughly 10 of them will be responsible for half of the results. |  \n",
    "| Rule of Succession | Principle from probability theory, specifically Bayesian probability, that provides a method for predicting the likelihood of future events based on past observations. For example, can solve the question \"What is the probability of the sun rising tomorrow?\" |  \n",
    "| Ludic Fallacy | The term \"ludic\" comes from the Latin word \"ludus,\" which means \"game.\" The fallacy refers to the misguided belief that the structured and simplified probabilities and models used in games and formal settings can be applied directly to understand real-life complexities and uncertainties. |  \n",
    "| 90% Rule | Only persue decision paths that are a \"Hell Yeah!\". If it is immediately apparent that the path forward offers the most chance of success, then this is the decision that should be selected. Can be quantified as the 90% rule, as only select decisions that have a 90% chance of succeedding. |  \n",
    "| Small Bets | This rule was popularized by Nicholas Taleb in his book *\"Antifragile: Things That Gain from Disorder\"*. It suggests to make small, reversible bets to test ideas and strategies. This allows you to learn and adapt without risking catastrophic losses. |  \n",
    "| Sample of One | This decision tactic recommends to consider even the smallest sample sizes, even a sample of one. Applied correctly, the \"sample of one\" rule statistically shows that the first influence or being able to \"peek\" at just one sample can provide a decision-making advantage. |  \n",
    "\n",
    "\n",
    "<br/>\n",
    "<img width =\"750px\" src=\"https://raw.githubusercontent.com/bartczernicki/Articles/main/20230129-MeasuringSalesPerformanceUsingSimpleStatisticalModels/Image-CoverofSalesTeam.png\">\n",
    "<br/>  \n",
    "<br/>  \n",
    "<br/>  \n",
    "<img width =\"750px\" src=\"https://raw.githubusercontent.com/bartczernicki/Articles/main/20230129-MeasuringSalesPerformanceUsingSimpleStatisticalModels/Image-SalesPricesLaw.png\">\n",
    "\n",
    "\n",
    "Full article: https://medium.com/@bartczernicki/measuring-sales-performance-using-simple-statistical-models-6b995f088f99 "
   ]
  },
  {
   "cell_type": "markdown",
   "metadata": {},
   "source": [
    "#### 3b - Simple Decision Rules - Domain (Industry) Specific"
   ]
  },
  {
   "cell_type": "markdown",
   "metadata": {},
   "source": [
    "There have been hundreds of simple decision rules created that are specific to various domains (industries). These domain rules can be more precise than generic rules as they specifically have been crafted on past domain (industry) historical patterns. Almost every domain (industry) has created \"rules of thumb\" for a variety of reasons to help people arrive at conclusions rapidly with little effort.\n",
    "\n",
    "Some potential concerns you might be thinking rather than applying these rules. \n",
    "* \"Can't one just calculate their calorie defecit instead of using the 10,000 step rule?\" \n",
    "* \"Why not just hire a professional financial advisor rather than look at a simple rule of 4%?\"  \n",
    "\n",
    "Those objects are not looking at the purpose of these simple domain rules. These rules allow for quick guidance, recommendations without having to perform much calculation. For example, a nurtionist may recommend exercises for you that optimize healthy weight management. However, for days that you just want to ensure you are active (decide to take a walk at lunch, decide to take the stairs) a simple domain-specific rule like the 10,000 step rule might be quite handy paired with a fitness tracker.  \n",
    "\n",
    "Notice the variety of domain (industry) specific rules below that encompasses a great variety of domains from fitness, finance, entertainment. Keeping track of all these domain specific rules is unfeasable. However, it is quite possible for a Generative AI system to gather these rules and have them available as tools for decison-making. Furthermore, these rules can easily be applied to decision-making with Generative AI as the GenAI models are either familiar with the rule already or the simple domain specific rule can be described to aid the decision-making process. "
   ]
  },
  {
   "cell_type": "markdown",
   "metadata": {},
   "source": [
    "| Domain (Industry)  | Simple Decision Rule | Description |\n",
    "| :--------------------- | :---------------- | :------------- | \n",
    "| Fitness | 10,000 Step Rule | A fitness rule that recommends 10,000 steps for a goal for a healthy and active day. This rule is popularized with fitness counters and smart watches, where simple step activity goals are recommended to the user.   |  \n",
    "| Entertainment (Movies) | Box Office 2.5x Rule | A general rule that a movie needs to make 2.5x it's movie budget in order to break even. This rule includes estimates of marketing and other production costs. For example, if a movie cost $100 million to make; it needs to gross roughly $250 million in ticket sales (box office) to break even. |  \n",
    "| Wealth Management | Rule of 4% | The 4% Rule is a guideline used in personal finance and retirement planning to help determine the amount of money one can safely withdraw from their retirement savings each year without running out of money over the course of a typical retirement. For example, a couple retiring with $1 million in savings will have 4% or $40,000/year they can use during their retirement. |  \n",
    "| Car Onwership | 50% Rule | According to this rule, if the cost of repairing your car exceeds 50% of the car's current market value, it might be more practical to replace the car rather than invest in expensive repairs. |  \n",
    "| Economics | Scholte's Revenue Fallacy | A concept in economics that highlights a common misunderstanding about the relationship between revenue and costs in business operations. This fallacy occurs when business owners or managers mistakenly believe that simply increasing revenue will automatically lead to higher profits without considering the associated costs and the impact on overall profitability. |  \n",
    "| Business Strategy | SMART Goals | Optimize the number of corporate goals to a manageable number, such as 3-5 major goals per year. This ensures that the organization can maintain focus and allocate resources effectively without being overwhelmed.   |  \n",
    "| Relationships | 5:1 Ratio | Also known as \"Gottman's Rule of Five\", the rule states for every negative interaction (argument, criticism, etc.) in a marriage, there needs to be at least five positive interactions (loving words, gestures, intimacy, etc.) to maintain a strong and healthy relationship. |  "
   ]
  },
  {
   "cell_type": "markdown",
   "metadata": {},
   "source": [
    "#### 3c - Simple Decision Frameworks - Use Custom Data for Customized Decisions"
   ]
  },
  {
   "cell_type": "markdown",
   "metadata": {},
   "source": [
    "In many cases, a generic decision rule or a simple domain rule may not exist or it may not be a good fit for the decision you are considering. There are simple frameworks that exist that you can work out using simple math processes to arrive at a decision recommendation. Two potential frameworks are listed below that allow a decision-maker to bring a small curated data set and apply the selected process. These frameworks are ideal when you have a small data set that can be processed by a spreadsheet software (Excel) or even in some cases by hand.  "
   ]
  },
  {
   "cell_type": "markdown",
   "metadata": {},
   "source": [
    "| Decision Process | Description |\n",
    "| :--------------------- | :------------- | \n",
    "| Analytical Hierarchy Process (AHP) | The Analytical Hierarchy Process helps making complex decisions by breaking them down into simpler, more manageable parts. AHP involves defining the decision problem and setting a clear goal. The problem is structured into a hierarchy consisting of the overall goal, the criteria for making the decision, and the possible alternatives. |  \n",
    "| Linear Model (Russo) | In the Russo Linear Model, the decision-making process involves identifying the most important criteria relevant to the decision at hand. These criteria are then assigned weights based on their relative importance. Each alternative is evaluated against these criteria, and scores are assigned accordingly. |  \n",
    "| Probabilistic Decision Trees | A graphical representation of a limited amount of decision alternatives with their probabilities can illustrate the optimized payoff or maximum risk with each decision path. | "
   ]
  },
  {
   "cell_type": "markdown",
   "metadata": {},
   "source": [
    "There are much more complex statistical and machine learning techniques that can scale to thousands, millions or even billions of data points. In order to create decision rules with machine learning, a technique like supervised learning can be used. Supervised learning is when you have a set of data points/inputs paired with decision outcomes. Those can be sent to a statistical or machine learning algorithm that learns the data to outcome interactions using sophisticed math & statistical algorithms. The output of that learning process is a \"model\". This model (specific to your decision use-case) can take new data points for a decision and output predictions (probabilities) or decision recommendations.  \n",
    "\n",
    "In this workshop you will see examples machine learing models being used as agents that help Generative AI arrive at decision recommendations. This is a powerful technique to take advantage of existing or new investments in Machine Learning and pair them with Generative AI innovations.  "
   ]
  },
  {
   "cell_type": "markdown",
   "metadata": {},
   "source": [
    "#### 3d - Decision Intelligence - Probabilistic Estimates with Statistics & Machine Learning \n",
    "\n",
    "<img width =\"750px\" src=\"https://raw.githubusercontent.com/bartczernicki/Articles/main/DevTo-20221222-my-moms-predictive-dream-about-my-family-before-she-passed/CalculatingProbability-Header.webp\">\n",
    "<br/>  \n",
    "<br/>  \n",
    "<br/>  \n",
    "<img width =\"750px\" src=\"https://raw.githubusercontent.com/bartczernicki/Articles/main/DevTo-20221222-my-moms-predictive-dream-about-my-family-before-she-passed/CalculateProbability-DaughtersAndCensusInfo.png\">\n",
    "\n",
    "\n",
    "Full article: https://github.com/bartczernicki/Articles/tree/main/DevTo-20221222-my-moms-predictive-dream-about-my-family-before-she-passed  "
   ]
  },
  {
   "cell_type": "markdown",
   "metadata": {},
   "source": [
    "### Eisenhower Decision Priorotization Matrix   \n",
    "<img width =\"750px\" src=\"https://raw.githubusercontent.com/bartczernicki/DecisionIntelligence.GenAI.Workshop/main/Images/EisenhowerDecisonMatrix.png\">\n",
    "<br/>  \n",
    "<br/>  \n",
    "Named after U.S. President Dwight D. Eisenhower, this prioritization framework will help you organize your tasks and activities by importance and urgency. It's especially useful when you're very busy but don't feel like what you do has much impact.\n",
    "\n",
    "The Eisenhower Decision Matrix prioritizes tasks into four quadrants:\n",
    "1. Important & Urgent: Do immediately (e.g., crises, deadlines).\n",
    "2. Important & Not Urgent: Schedule time for these (e.g., planning, development).\n",
    "3. Not Important & Urgent: Delegate (e.g., interruptions, some meetings).\n",
    "4. Not Important & Not Urgent: Eliminate (e.g., distractions, trivial activities).\n",
    "\n",
    "\n",
    "Task List:\n",
    "* Complete project report (due tomorrow)\n",
    "* Plan next quarter's strategy\n",
    "* Respond to urgent emails\n",
    "* Organize desk\n",
    "* Attend a non-essential meeting\n",
    "* Exercise\n",
    "Categorization:\n",
    "* Important & Urgent: Complete project report (due tomorrow)\n",
    "* Important & Not Urgent: Plan next quarter's strategy, Exercise\n",
    "* Not Important & Urgent: Respond to urgent emails, Attend a non-essential meeting\n",
    "* Not Important & Not Urgent: Organize desk\n",
    "Actions:\n",
    "* Do Now: Complete project report.\n",
    "* Schedule: Plan next quarter's strategy, Exercise.\n",
    "* Delegate: Respond to urgent emails, Attend a non-essential meeting.\n",
    "* Eliminate: Organize desk."
   ]
  },
  {
   "cell_type": "markdown",
   "metadata": {},
   "source": [
    "## 5 - Decision Intelligence Systems - Decision Support Systems & Decision Management Systems\n",
    "\n",
    "<img width=\"850px\" src=\"https://raw.githubusercontent.com/bartczernicki/DecisionIntelligence.GenAI.Workshop/main/Images/DecisionSystemTypes.png\">\n",
    "<br/>  \n",
    "<br/>  \n",
    "\n"
   ]
  },
  {
   "cell_type": "markdown",
   "metadata": {},
   "source": [
    "## Decision Intelligence Resources\n",
    "\n",
    "Decision & Reasoning Tools: https://untools.co "
   ]
  }
 ],
 "metadata": {
  "kernelspec": {
   "display_name": ".NET (C#)",
   "language": "C#",
   "name": ".net-csharp"
  },
  "language_info": {
   "name": "csharp"
  },
  "polyglot_notebook": {
   "kernelInfo": {
    "defaultKernelName": "csharp",
    "items": [
     {
      "aliases": [],
      "name": "csharp"
     }
    ]
   }
  }
 },
 "nbformat": 4,
 "nbformat_minor": 2
}
