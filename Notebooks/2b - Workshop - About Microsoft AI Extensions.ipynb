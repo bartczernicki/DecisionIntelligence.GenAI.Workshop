{
 "cells": [
  {
   "cell_type": "markdown",
   "metadata": {},
   "source": [
    "<div style=\"display: flex; align-items: center;\">\n",
    "  <img src=\"https://raw.githubusercontent.com/bartczernicki/DecisionIntelligence.GenAI.Workshop/main/Images/DecisionIntelligenceWorkshopLogo.png\" width=\"60px\" style=\"margin-right: 10px;\">\n",
    "  <span style=\"font-size: 1.5em; font-weight: bold;\">Workshop - About Microsoft AI Extensions</span>\n",
    "</div>"
   ]
  },
  {
   "cell_type": "markdown",
   "metadata": {},
   "source": [
    "The Microsoft.Extensions.AI libraries provides core exchange types and abstractions for interacting with AI services, such as small and large language models (SLMs and LLMs). They also provide the ability to register services like logging and caching in your dependency injection (DI) container.  \n",
    "\n",
    "For those already familiar with Semantic Kernel, think of Microsoft.Extensions.AI as the evolution of the Microsoft.SemanticKernel.Abstractions package that you’re currently using to access remote AI services. It is precisely this exciting upgrade that allows AI providers to rapidly adopt and align their services with this new extraction layer.\n",
    "\n",
    "Core benefits:\n",
    "* Unified API: Offers a consistent and standard set of APIs and conventions for integrating AI services into .NET applications.* Flexibility: Allows .NET library authors to use AI services without forcing a specific AI provider, making it parameterizable with any provider.\n",
    "* Ease of Use: Enables .NET application developers to experiment with different packages using the same underlying abstractions and to utilize a single API throughout their application.\n",
    "* Componentization: Facilitates the addition of new capabilities and simplifies the componentization and testing of applications.\n",
    "\n",
    "\n",
    "<img style=\"display: block; margin: auto;\" width =\"700px\" src=\"https://learn.microsoft.com/en-us/dotnet/ai/media/ai-extensions/meai-architecture-diagram.png\">"
   ]
  },
  {
   "cell_type": "markdown",
   "metadata": {},
   "source": [
    "* Introducing Microsoft AI Extensions: https://devblogs.microsoft.com/dotnet/introducing-microsoft-extensions-ai-preview/  \n",
    "* Unified AI Building Blocks: https://learn.microsoft.com/en-us/dotnet/ai/ai-extensions \n",
    "* AI Samples: https://learn.microsoft.com/en-us/samples/dotnet/ai-samples/ai-samples/ \n",
    "* GitHub Repo: https://github.com/dotnet/extensions "
   ]
  }
 ],
 "metadata": {
  "kernelspec": {
   "display_name": ".NET (C#)",
   "language": "C#",
   "name": ".net-csharp"
  },
  "language_info": {
   "name": "python"
  },
  "polyglot_notebook": {
   "kernelInfo": {
    "defaultKernelName": "csharp",
    "items": [
     {
      "aliases": [],
      "name": "csharp"
     }
    ]
   }
  }
 },
 "nbformat": 4,
 "nbformat_minor": 2
}
