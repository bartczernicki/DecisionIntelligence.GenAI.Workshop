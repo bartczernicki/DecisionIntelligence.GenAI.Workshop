{
 "cells": [
  {
   "cell_type": "markdown",
   "metadata": {},
   "source": [
    "<img style=\"float: left;padding-right: 10px\" width =\"40px\" src=\"https://raw.githubusercontent.com/bartczernicki/DecisionIntelligence.GenAI.Workshop/main/Images/SemanticKernelLogo.png\">\n",
    "\n",
    "## Decision Intelligence - Gathering Intelligence "
   ]
  },
  {
   "cell_type": "markdown",
   "metadata": {},
   "source": [
    "Now that framing a decision has been explored, the next step lies in gathering the appropriate intelligence to inform decisions. Traditionally, this step can be overwhelming—sifting through vast amounts of data, battling information overload, and trying to avoid personal biases. \n",
    "\n",
    "Why is gathering intelligence so vital in decision-making? Because the quality of decisions is only as good as the information you base them on. Think about trying to navigate a new city without a map; you might eventually reach your destination, but not without unnecessary detours and delays. Similarly, without thorough quality intelligence, decisions can be misguided, leading to unintended consequences. Gathering comprehensive information reduces uncertainty, uncovers hidden opportunities, and provides a solid foundation for evaluating options. In essence, it transforms guesswork into informed strategy, empowering you to make choices with greater confidence backed by information.\n",
    "\n",
    "Throughout history, humans have gathered intelligence through various means—stories told around campfires, handwritten manuscripts, printed books, and newspapers. Each of these methods represented a leap in how information was shared and preserved. However, access to this intelligence was often limited. For centuries, only the wealthy could afford books or had the literacy skills to read them, while the majority relied on oral traditions or had minimal access to written knowledge. Even as the internet emerged, bridging information gaps, it wasn't until recently that technology became widespread enough to truly democratize access.  \n",
    "\n",
    "<img style=\"float: left;padding-right: 25px\" width =\"250px\" src=\"https://raw.githubusercontent.com/bartczernicki/DecisionIntelligence.GenAI.Workshop/main/Images/GatheringIntelligence-BattleOfEdington.jpeg\">\n",
    "\n",
    "As a historical example, consider the tale of King Alfred the Great of Wessex during the 9th century. Facing the threat of Viking invasions, Alfred's kingdom was teetering on the brink of collapse. Instead of charging into battle uninformed, he chose a cunning approach—disguising himself as a wandering minstrel to infiltrate the Viking camps. Through this daring act, he gathered invaluable intelligence about the enemy's strategies, strengths, and weaknesses. Armed with this insight, Alfred was able to devise a surprise attack that culminated in the decisive Battle of Edington. This victory not only turned the tide against the Vikings but also laid the foundation for the unification of England. Alfred's story illustrates how astute intelligence gathering can empower leaders to make pivotal decisions that alter the course of history.\n",
    "\n"
   ]
  },
  {
   "cell_type": "markdown",
   "metadata": {},
   "source": [
    "<img style=\"float: left;padding-left: 25px; padding-right: 25px;\" width =\"200px\" src=\"https://m.media-amazon.com/images/I/71e8xU-+VAL._SL1500_.jpg\">\n",
    "\n",
    "[**\"Winning Decisions: Getting It Right the First Time\"**](https://www.amazon.com/Winning-Decisions-Getting-Right-First/dp/0385502257) by J. Edward Russo and Paul J.H. Schoemaker explores how to make effective decisions from the outset. The authors emphasize the importance of decision framing, which involves defining the context and boundaries of a decision before making it. Proper framing ensures that the right problems are addressed and helps avoid common decision-making pitfalls. The book outlines techniques for gathering relevant information, considering various options, and using structured processes to arrive at sound conclusions. Russo and Schoemaker use real-world examples to illustrate how clear and precise framing can lead to better outcomes. They stress that good decision-making involves both rational analysis and intuitive judgment, and provide strategies to integrate these aspects effectively. Overall, the book aims to equip readers with the tools to make well-informed decisions that are correct the first time."
   ]
  }
 ],
 "metadata": {
  "kernelspec": {
   "display_name": ".NET (C#)",
   "language": "C#",
   "name": ".net-csharp"
  },
  "language_info": {
   "name": "python"
  },
  "polyglot_notebook": {
   "kernelInfo": {
    "defaultKernelName": "csharp",
    "items": [
     {
      "aliases": [],
      "name": "csharp"
     }
    ]
   }
  }
 },
 "nbformat": 4,
 "nbformat_minor": 2
}
