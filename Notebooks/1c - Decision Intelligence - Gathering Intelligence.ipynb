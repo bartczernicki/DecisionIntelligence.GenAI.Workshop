{
 "cells": [
  {
   "cell_type": "markdown",
   "metadata": {},
   "source": [
    "<div style=\"display: flex; align-items: center;\">\n",
    "  <img src=\"https://raw.githubusercontent.com/bartczernicki/DecisionIntelligence.GenAI.Workshop/main/Images/DecisionIntelligenceLogo.png\" width=\"50px\" style=\"margin-right: 10px;\">\n",
    "  <span style=\"font-size: 1.5em; font-weight: bold;\">Decision Intelligence – Gathering Intelligence</span>\n",
    "</div>"
   ]
  },
  {
   "cell_type": "markdown",
   "metadata": {},
   "source": [
    "<img style=\"display: block; margin: auto;\" width =\"700px\" src=\"https://raw.githubusercontent.com/bartczernicki/DecisionIntelligence.GenAI.Workshop/main/Images/DecisionIntelligence-GatherIntelligence.png\">"
   ]
  },
  {
   "cell_type": "markdown",
   "metadata": {},
   "source": [
    "> 📜 **_\"If we have data, let’s look at data. If all we have are opinions, let’s go with mine..\"_**\n",
    ">\n",
    "> -- <cite>Jim Barksdale (Former CEO of Netscape, Business Executive)</cite>  "
   ]
  },
  {
   "cell_type": "markdown",
   "metadata": {},
   "source": [
    "Now that framing a decision has been explored, the next step lies in gathering the appropriate intelligence to inform decisions. Traditionally, this step can be overwhelming—sifting through vast amounts of data and battling information overload. The **Gathering Intelligence** step is a comprehensive process of not only coalescing raw data but also transforming it into high-value information through analytical methods. It involves evaluating risks, identifying patterns, and interpreting data to extract meaningful insights. By doing so, it helps you understand the situation completely by revealing all relevant factors and their interconnections. This enhanced information is crucial for making informed and effective decisions. \n",
    "\n",
    "Why is gathering intelligence so vital in decision-making? Because the quality of decisions is only as good as the information you base them on. Think about trying to navigate a new city without a map; you might eventually reach your destination, but not without unnecessary detours and delays. Similarly, without thorough quality intelligence, decisions can be non-optimied, leading to unintended consequences. Gathering comprehensive intelligence reduces uncertainty, uncovers hidden opportunities, and provides a solid foundation for evaluating options. In essence, it transforms guesswork into an quantitative strategy, empowering you to make choices with greater confidence backed by information.\n",
    "\n",
    "Let's look at the many ways people have collected and shared information over time. Throughout history, humans have gathered intelligence through various means—stories told around campfires, handwritten manuscripts, printed books, and newspapers. Each of these methods represented a leap in how information was shared and preserved. However, access to this intelligence was often limited. For centuries, only the wealthy could afford books or had the literacy skills to read them, while the majority relied on oral traditions or had minimal access to written knowledge. Even as the internet emerged, bridging information gaps, it wasn't until recently that technology became widespread enough to truly democratize access. Let's take a look at two illustrative examples. "
   ]
  },
  {
   "cell_type": "markdown",
   "metadata": {},
   "source": [
    "#### Historical Example of Gathering Intelligence "
   ]
  },
  {
   "cell_type": "markdown",
   "metadata": {},
   "source": [
    "<img style=\"float: left;padding-right: 25px\" width =\"300px\" src=\"https://raw.githubusercontent.com/bartczernicki/DecisionIntelligence.GenAI.Workshop/main/Images/DecisionIntelligenceFramework/GatheringIntelligence-KingAlfred.png\">\n",
    "\n",
    "As a historical example, consider the tale of King Alfred the Great of Wessex during the 9th century. Facing the threat of Viking invasions, Alfred's kingdom was teetering on the brink of collapse. Instead of charging into battle uninformed, he chose a cunning approach—disguising himself as a wandering minstrel to infiltrate the Viking camps. Through this daring act, he gathered invaluable intelligence about the enemy's strategies, strengths, and weaknesses. Armed with this insight, Alfred was able to devise a surprise attack that culminated in the decisive Battle of Edington. This victory not only turned the tide against the Vikings but also laid the foundation for the unification of England. Alfred's story illustrates how astute intelligence gathering can empower leaders to make pivotal decisions that alter the course of history.\n",
    "\n",
    "This story continued to \"live\" by being passed down through many generations (even perhaps changed and embelished) as folklore, stories and songs to throughout the years. People would \"gather intelligence\" by assembling together and share the wisdom they have gained themselves. This was the way most of our human intelligence has been passed down for thousands of years. Eventually humans devised ways to scale communication primarily through writing and reading. Stories like this were persisted many times in books for many to \"gather intelligence\" from in the future!  "
   ]
  },
  {
   "cell_type": "markdown",
   "metadata": {},
   "source": [
    "#### Access to Information and the Importance of Analysis "
   ]
  },
  {
   "cell_type": "markdown",
   "metadata": {},
   "source": [
    "<img style=\"float: right;padding-left: 25px\" width =\"300px\" src=\"https://raw.githubusercontent.com/bartczernicki/DecisionIntelligence.GenAI.Workshop/main/Images/DecisionIntelligenceFramework/GatheringIntelligence-Vertu.png\">\n",
    "\n",
    "> Note: Pictured on the right is the luxury cell phone brand Vertu. While tools that gathered intelligenced used to be a luxury, it has become much more attainable by most. Even cheap entry-level phones have most of the intelligence gathering capabilities of high-priced phones. \n",
    "\n",
    "Access to information has always been crucial for making good decisions. In the past, only the wealthy had easy access to valuable information. They could afford to build large personal libraries filled with expensive books and encyclopedias or hire researchers and advisors to gather and interpret information for them. Business executives had the privilege of using early cell phones and specialized devices to get real-time data, giving them a significant advantage in decision-making.\n",
    "\n",
    "For most people, accessing timely and relevant information was challenging. They relied on outdated books, limited public resources, or second-hand information. This lack of access made it hard for them to make informed decisions and limited their opportunities for personal and professional growth. The internet changed everything! Suddenly, anyone with an internet connection could access a vast amount of information instantly. Online search engines replaced the need for physical encyclopedias. News that once took days or weeks to reach people could now be accessed immediately from anywhere in the world. \n",
    "\n",
    "The rise of smartphones and mobile devices made this even more impactful. Now, access to real-time information like stock market updates, breaking news, and social media trends is literally in our pockets. Entrepreneurs can conduct market research without large budgets, students can access educational resources beyond their school libraries, and everyday individuals can stay informed about global events as they happen. This has empowered people from all walks of life to gather intelligence that was once pragmatically out of reach. \n",
    "\n",
    "The impact of this shift is significant. With fewer barriers to information, more people can participate in discussions and decision-making processes that were previously inaccessible. This not only enhances individual opportunities but also contributes to a more informed and engaged society.  "
   ]
  },
  {
   "cell_type": "markdown",
   "metadata": {},
   "source": [
    "**Gathering Intelligence** remains a vital step in decision-making, but the methods have evolved. The focus is now on not just accessing information, but also on efficiently navigating and understanding the vast amounts of data available. Skills like data analysis, sourcing quality data, and processing information from multiple platforms are essential. Therefore, the next step is not just about accessing information, but also about how we apply it. As we navigate this information-rich world, the ability to gather and use intelligence effectively—without becoming overwhelmed—is more important than ever. This sets the stage for tools like Generative AI to play a transformative role. "
   ]
  },
  {
   "cell_type": "markdown",
   "metadata": {},
   "source": [
    "### Gathering Intellignece - Using Generative AI  "
   ]
  },
  {
   "cell_type": "markdown",
   "metadata": {},
   "source": [
    "> 📜 **_\"In God we trust. All others must bring data.\"_**\n",
    ">\n",
    "> -- <cite>W. Edwards Deming (Statistician & Quality Guru)</cite>  "
   ]
  },
  {
   "cell_type": "markdown",
   "metadata": {},
   "source": [
    "Before diving into **Gathering Intelligence** using Generative AI, let's define where that intelligence can be sourced from by Generative AI systems. Generative AI systems typically Gather Intelligence from three key areas:  \n",
    "\n",
    "* **Training Data:** This is the curated data that was used to train the LLM (large language model). The larger the model and the more parameters highly correlates to more \"intelligence\" the model poses. This is why larger models with a very large amount of parameters (over ~100 billion) will typically have broader knowledge over small models (under ~10 billion). Generative AI models auto-magically gather intelligence from their internal weights and biases, based on the input prompt and configuration.  \n",
    "* **Knowledge (Grounding) Sources:** When the curated training data is not enough or doesn't provide the specific information required, knowledge stores can be used with a RAG (retrieveal augmented generation) design patterns. This can provide very specific information tailored to faciliate the instructions in a prompt. These knowledge stores can be almost anything: internet search results, indexed documents, analysis frameworks, machine learning models etc. While these knowledge stores can source almost infinite about of data or information, Generative AI systems need to be very specific on what is presented to the Generative AI model to fit into it's operating contenxt window. This is why the concept of \"intelligence\" is so important, as highly specific and high impact intelligence needs to be presented not just vast amounts of data. \n",
    "* **Memory:** While interacting with the Generative AI model; users provide various text, data, key pieces of information etc. Similar to how humans learn and internalize life experiences, Generative AI models can have their own \"memory\". The more interactions users have with a model for a specific task (decision-making) the more memory of those interactions is created between the user and the specific Generative AI system. For example, passing in chat history interactions can help the Generative AI system use that as a short-term or long-term memory for gathering intelligence.  "
   ]
  },
  {
   "cell_type": "markdown",
   "metadata": {},
   "source": [
    "Generative AI is revolutionizing the way we gather intelligence by not only automating the collection process but also enhancing the quality and relevance of the information obtained. Instead of manually sifting through vast amounts of data, Generative AI can quickly scan, retrieve, and organize pertinent information from diverse sources. This automation saves valuable time and reduces the risk of overlooking critical data that could influence a decision.\n",
    "\n",
    "The true power of Generative AI lies in its ability to distill and analyze the gathered information. It doesn't just collect data—it interprets it, identifies patterns, and extracts key insights essential for making informed decisions. For example, Generative AI can summarize lengthy reports, highlight significant trends, and even predict potential outcomes based on historical data. Crucially, it can surface high-impact information that might otherwise be buried within massive datasets, bringing the most critical factors to the forefront.\n",
    "\n",
    "By highlighting these high-impact insights, Generative AI ensures that decision-makers focus on what truly matters. This means they are equipped with concise, actionable intelligence rather than being overwhelmed by raw data. Additionally, Generative AI helps eliminate human biases and errors that can occur during manual processing. It provides a more objective assessment of the information, ensuring that decisions are based on comprehensive analysis and the most influential data points.\n",
    "\n",
    "In essence, Generative AI transforms the intelligence-gathering phase from a time-consuming chore into a strategic advantage. By automating data collection, performing advanced analyses, and surfacing high-impact information, it enables individuals and organizations to make high-quality decisions with greater confidence and efficiency."
   ]
  },
  {
   "cell_type": "markdown",
   "metadata": {},
   "source": [
    "### Gathering Intelligence - Materials to Deepen Your Understanding"
   ]
  },
  {
   "cell_type": "markdown",
   "metadata": {},
   "source": [
    "<img style=\"float: left;padding-left: 25px; padding-right: 25px;\" width =\"200px\" src=\"https://m.media-amazon.com/images/I/71e8xU-+VAL._SL1500_.jpg\">\n",
    "\n",
    "[**\"Winning Decisions: Getting It Right the First Time\"**](https://www.amazon.com/Winning-Decisions-Getting-Right-First/dp/0385502257) by J. Edward Russo and Paul J.H. Schoemaker explores how to make effective decisions from the outset. The authors emphasize the importance of decision framing, which involves defining the context and boundaries of a decision before making it. Proper framing ensures that the right problems are addressed and helps avoid common decision-making pitfalls. The book outlines techniques for gathering relevant information, considering various options, and using structured processes to arrive at sound conclusions. Russo and Schoemaker use real-world examples to illustrate how clear and precise framing can lead to better outcomes. They stress that good decision-making involves both rational analysis and intuitive judgment, and provide strategies to integrate these aspects effectively. Overall, the book aims to equip readers with the tools to make well-informed decisions that are correct the first time.\n",
    "\n",
    "> Note: This book dedicates roughly 50 pages consisting of 2 chatpers and an interlude on **Gathering Intelligence**.  "
   ]
  }
 ],
 "metadata": {
  "kernelspec": {
   "display_name": ".NET (C#)",
   "language": "C#",
   "name": ".net-csharp"
  },
  "language_info": {
   "name": "python"
  },
  "polyglot_notebook": {
   "kernelInfo": {
    "defaultKernelName": "csharp",
    "items": [
     {
      "aliases": [],
      "name": "csharp"
     }
    ]
   }
  }
 },
 "nbformat": 4,
 "nbformat_minor": 2
}
