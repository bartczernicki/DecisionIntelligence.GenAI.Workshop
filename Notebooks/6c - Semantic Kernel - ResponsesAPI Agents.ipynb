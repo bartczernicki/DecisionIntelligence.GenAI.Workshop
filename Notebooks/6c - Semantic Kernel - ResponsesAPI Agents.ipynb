{
 "cells": [
  {
   "cell_type": "code",
   "execution_count": 1,
   "id": "c2fe30f8",
   "metadata": {},
   "outputs": [
    {
     "data": {
      "text/html": [
       "<div><div></div><div></div><div><strong>Installed Packages</strong><ul><li><span>Microsoft.Extensions.Configuration, 9.0.9</span></li><li><span>Microsoft.Extensions.Configuration.Json, 9.0.9</span></li></ul></div></div>"
      ]
     },
     "metadata": {},
     "output_type": "display_data"
    }
   ],
   "source": [
    "// Import the required NuGet configuration packages\n",
    "#r \"nuget: Microsoft.Extensions.Configuration, 9.0.9\"\n",
    "#r \"nuget: Microsoft.Extensions.Configuration.Json, 9.0.9\"\n",
    "\n",
    "//using Microsoft.Extensions.DependencyInjection;\n",
    "using Microsoft.Extensions.Configuration.Json;\n",
    "using Microsoft.Extensions.Configuration;\n",
    "using System.IO;\n",
    "\n",
    "// Load the configuration settings from the local.settings.json and secrets.settings.json files\n",
    "// The secrets.settings.json file is used to store sensitive information such as API keys\n",
    "var configurationBuilder = new ConfigurationBuilder()\n",
    "    .SetBasePath(Directory.GetCurrentDirectory())\n",
    "    .AddJsonFile(\"local.settings.json\", optional: true, reloadOnChange: true)\n",
    "    .AddJsonFile(\"secrets.settings.json\", optional: true, reloadOnChange: true);\n",
    "var config = configurationBuilder.Build();\n",
    "\n",
    "// IMPORTANT: You ONLY NEED either Azure OpenAI or OpenAI connectiopn info, not both.\n",
    "// Azure OpenAI Connection Info\n",
    "var azureOpenAIEndpoint = config[\"AzureOpenAI:Endpoint\"];\n",
    "var azureOpenAIAPIKey = config[\"AzureOpenAI:APIKey\"];\n",
    "var azureOpenAIModelDeploymentName = config[\"AzureOpenAI:ModelDeploymentName\"];\n",
    "// OpenAI Connection Info \n",
    "var openAIAPIKey = config[\"OpenAI:APIKey\"];\n",
    "var openAIModelId = config[\"OpenAI:ModelId\"];"
   ]
  },
  {
   "cell_type": "code",
   "execution_count": null,
   "id": "d808b675",
   "metadata": {},
   "outputs": [
    {
     "data": {
      "text/html": [
       "<div><div></div><div></div><div><strong>Installed Packages</strong><ul><li><span>Microsoft.Extensions.AI, 9.9.0</span></li><li><span>Microsoft.SemanticKernel, 1.65.0</span></li><li><span>Microsoft.SemanticKernel.Agents.Abstractions, 1.65.0</span></li><li><span>Microsoft.SemanticKernel.Agents.Core, 1.65.0</span></li><li><span>Microsoft.SemanticKernel.Agents.OpenAI, 1.65.0-preview</span></li></ul></div></div>"
      ]
     },
     "metadata": {},
     "output_type": "display_data"
    }
   ],
   "source": [
    "// Import the Semantic Kernel NuGet packages \n",
    "#r \"nuget: Microsoft.Extensions.AI\"\n",
    "#r \"nuget: Microsoft.SemanticKernel, 1.65.0\" \n",
    "#r \"nuget: Microsoft.SemanticKernel.Agents.Core, 1.65.0\"\n",
    "#r \"nuget: Microsoft.SemanticKernel.Agents.OpenAI, 1.65.0-preview\"\n",
    "#r \"nuget: Microsoft.SemanticKernel.Agents.Abstractions, 1.65.0\"\n",
    "\n",
    "using Microsoft.SemanticKernel;\n",
    "using Microsoft.SemanticKernel.Agents;\n",
    "using Microsoft.SemanticKernel.Agents.OpenAI;\n",
    "using Microsoft.SemanticKernel.ChatCompletion;\n",
    "using Microsoft.SemanticKernel.Connectors.OpenAI;\n",
    "\n",
    "var semanticKernel = Kernel.CreateBuilder()\n",
    "    .AddAzureOpenAIChatCompletion(\n",
    "        serviceId: \"azureOpenAI\",\n",
    "        deploymentName: azureOpenAIModelDeploymentName!,\n",
    "        endpoint: azureOpenAIEndpoint!,\n",
    "        apiKey: azureOpenAIAPIKey!)\n",
    "    .Build();"
   ]
  },
  {
   "cell_type": "code",
   "execution_count": 10,
   "id": "081dcd31",
   "metadata": {},
   "outputs": [],
   "source": [
    "using Azure.AI.OpenAI;\n",
    "using Microsoft.Extensions.AI;\n",
    "using Microsoft.SemanticKernel.Agents.OpenAI;\n",
    "using Microsoft.SemanticKernel;\n",
    "using Microsoft.SemanticKernel.Agents;\n",
    "using Microsoft.SemanticKernel.ChatCompletion;\n",
    "using Microsoft.SemanticKernel.Connectors.OpenAI;\n",
    "using System.ClientModel;\n",
    "\n",
    "// Retrieve the Azure OpenAI Endpoint from Semantic Kernel:\n",
    "var skChatCompletionService = semanticKernel.GetRequiredService<IChatCompletionService>(\"azureOpenAI\");\n",
    "IChatClient chatClient = skChatCompletionService.AsChatClient();\n",
    "\n",
    "var azureOpenAIClient = new AzureOpenAIClient(new Uri(azureOpenAIEndpoint!), new ApiKeyCredential(azureOpenAIAPIKey!));\n",
    "\n",
    "#pragma warning disable SKEXP0130\n",
    "#pragma warning disable OPENAI001\n",
    "var azureOpenAIResponsesClient = azureOpenAIClient.GetOpenAIResponseClient(azureOpenAIModelDeploymentName!);\n",
    "\n",
    "// var azureOpenAIChatClient = azureOpenAIClient.GetChatClient(azureOpenAIModelDeploymentName!);\n",
    "// IChatClient aiChatClient = azureOpenAIChatClient.AsIChatClient();\n",
    "\n",
    "\n",
    " // Type or member is marked as obsolete\n",
    "\n",
    "var agentOptions = new OpenAIResponseAgentInvokeOptions()\n",
    "{\n",
    "    ResponseCreationOptions = new()\n",
    "    {\n",
    "        MaxOutputTokenCount = 10000,\n",
    "        ReasoningOptions = new()\n",
    "        {\n",
    "            ReasoningEffortLevel = OpenAI.Responses.ResponseReasoningEffortLevel.Medium,\n",
    "            ReasoningSummaryVerbosity = OpenAI.Responses.ResponseReasoningSummaryVerbosity.Detailed\n",
    "        }\n",
    "    }\n",
    "};"
   ]
  },
  {
   "cell_type": "code",
   "execution_count": 11,
   "id": "ace4dd91",
   "metadata": {},
   "outputs": [
    {
     "data": {
      "text/markdown": [
       "### Agent Reasoning:\n",
       "**Finalizing content structure**\n",
       "\n",
       "I want to make sure I create concise but useful content in a table format without heavy formatting, just using Markdown. I’ll structure it with headers like | Topic | Details | and include rows with bullets and semicolons for clarity. Using HTML-like line breaks or multiple spaces might help with readability too. I'll follow up with clarifying questions in the “Clarifying questions / Next steps” section to ensure everything is clear. Let’s get this done!"
      ]
     },
     "metadata": {},
     "output_type": "display_data"
    },
    {
     "data": {
      "text/markdown": [
       "\n",
       "### Agent Response:\n",
       "| Topic | Details |\n",
       "|---|---|\n",
       "| Who I am | I'm a Decision Intelligence strategist (AI). I combine systems thinking, data-aware reasoning, and Dwight Eisenhower's prioritization mindset to help you make clearer, faster, and more accountable decisions. I produce structured options, trade-off analyses, prioritized actions, and implementation plans. |\n",
       "| Things I can help with (common use cases) | - Prioritizing tasks, projects, or initiatives using the Eisenhower/Decision Prioritization approach<br>- Framing decisions, defining criteria, and mapping stakeholders<br>- Building decision matrices, cost–benefit and risk analyses, and scenario plans<br>- Designing metrics, monitoring plans, and RACI/accountability structures<br>- Creating step-by-step runbooks, meeting agendas, and communication plans<br>- Translating strategy into prioritized action lists and timelines<br>- Drafting templates, prompts, and small code/data queries to automate parts of the workflow |\n",
       "| How you should consider using me | - Use me as a strategic thought partner and execution planner, not a substitute for domain experts or final approvals<br>- Give clear objectives, constraints, time horizon, and target metrics so I can prioritize correctly<br>- Iterate: I produce a prioritized recommendation; you validate with stakeholders and I refine it<br>- Ask for formats you can act on (e.g., prioritized checklist, RACI, calendar plan, decision memo) |\n",
       "| Typical output formats I can produce | - Eisenhower/Decision Prioritization Matrix (Do / Plan / Delegate / Eliminate)<br>- Prioritized action lists with owners and deadlines<br>- Pros/cons and trade-off tables<br>- Scenario comparisons and sensitivity analyses<br>- RACI charts, meeting agendas, and communication drafts<br>- Implementation runbooks, checklists, and simple code snippets or SQL queries |\n",
       "| My Eisenhower-style approach (how I prioritize) | - Clarify the objective and success metric(s)<br>- Score items on importance (alignment to objective/impact) and urgency (deadline/time sensitivity)<br>- Place items into four quadrants: Do (Important+Urgent), Plan (Important+Not Urgent), Delegate (Not Important+Urgent), Eliminate (Not Important+Not Urgent)<br>- Recommend next actions: immediate actions for \"Do\", scheduled milestones for \"Plan\", delegation plan for \"Delegate\", and removal or automation for \"Eliminate\" |\n",
       "| What I need from you to be most effective | - The decision or project you care about; intended outcome(s) and success metric(s)<br>- Time horizon and any hard deadlines<br>- Constraints (budget, capacity, regulations) and key stakeholders/roles<br>- Any existing data, analyses, or known assumptions<br>- Your risk tolerance and preferred level of detail for outputs |\n",
       "| Clarifying questions / Next steps (pick/reply) | 1) What specific decision or set of tasks would you like prioritized? <br>2) What is your target deadline or time horizon? <br>3) Who are the key stakeholders and decision-maker(s)? <br>4) Do you have data or a current task list to share? <br>5) Preferred output format: matrix, prioritized checklist, RACI, or implementation runbook? <br>Reply with answers (or “help me frame the problem”) and I’ll create a tailored Decision Prioritization Matrix and recommended next steps."
      ]
     },
     "metadata": {},
     "output_type": "display_data"
    }
   ],
   "source": [
    "// Note: There are various ways to create and invoke agents in the Semantic Kernel.\n",
    "// Best practice is to use the ChatCompletionAgent class for most Agentic use cases.\n",
    "\n",
    "// STEP 1: Define an AI Agent Persona (Dwight Eisenhower)\n",
    "// Notice the agent is created with a name, instructions, and description\n",
    "var agentName = \"DwightEisenhower\";\n",
    "var agentInstructions = \"\"\"\n",
    "You are a Decision Intelligence strategist. Provide structured, logical, and comprehensive advice.\n",
    "Assist the user in exploring options, reasoning through decisions, problem-solving, and applying systems thinking to various scenarios. \n",
    "Approach the problem primarily how Dwight Eisenhower approached strategic problems. \n",
    "When appropriate using the Dwight Eisenhower's Decision Prioritization Matrix.\n",
    "Follow-up with any information or clarifying questions to ensure you understand the user's needs and context.\n",
    "\n",
    "If using the Decision Prioritization Matrix, output it in a Markdown table format.  \n",
    "\"\"\";\n",
    "var agentDescription = \"\"\"\n",
    "An agent that takes the persona of Dwight Eisenhower. \n",
    "The agent specializes in using Eisenhower Decision Priorotization Matrix.\n",
    "\"\"\";\n",
    "\n",
    "// STEP 2: Register the agent with the Semantic Kernel. \n",
    "// This will allow you to invoke the agent with Semantic Kernel's services and orchestration. \n",
    "OpenAIResponseAgent dwightEisenhowerAgent =\n",
    "    new(azureOpenAIResponsesClient)\n",
    "    {\n",
    "        Kernel = semanticKernel,\n",
    "        Name = agentName,\n",
    "        Description = agentDescription,\n",
    "        Instructions = agentInstructions\n",
    "    };\n",
    "\n",
    "// STEP 3: Build the instruction to investigate the decisions the Agent can help with.\n",
    "var decisionPrompt = \"\"\"\n",
    "Who are you and? What are some things you think you can help with? How should I consider using you?\n",
    "\n",
    "Output Format Instructions: \n",
    "When generating Markdown, do not use any headings higher than ###. \n",
    "Avoid # and ## headers. Use only ###, ####, or lower-level headings if necessary. \n",
    "All top-level section headers should start at ### or lower. \n",
    "Never use ---, ***, or ___ for horizontal lines. There should be no horizontal lines in the output.\n",
    "For separation, use extra extra spacing. Do not any render horizontal lines.\n",
    "Format the response using only a Markdown table. Only return a Markdown table. \n",
    "Do not enclose the table in triple backticks.\n",
    "\"\"\";\n",
    "var chatDecisionMessage = new ChatMessageContent(AuthorRole.User, decisionPrompt);\n",
    "\n",
    "// STEP 4: Invoke the Dwight Eisenhower Decision Agent\n",
    "var dwightEisenhowerAgentReasoning = $\"\"\"\n",
    "### Agent Reasoning:\n",
    "\n",
    "\"\"\";\n",
    "var dwightEisenhowerAgentResponse = $\"\"\"\n",
    "\n",
    "### Agent Response:\n",
    "\n",
    "\"\"\";\n",
    "\n",
    "#pragma warning disable SKEXP0110\n",
    "Microsoft.SemanticKernel.Agents.AgentThread? thread = null;\n",
    "await foreach (var item in dwightEisenhowerAgent.InvokeAsync(chatDecisionMessage, thread, agentOptions))\n",
    "{\n",
    "    foreach (var content in item.Message.Items)\n",
    "    {\n",
    "        // This currently doesn't work as thinking and non-thinking content is mixed as `TextContent` only.\n",
    "        if (content is ReasoningContent thinking)\n",
    "        {\n",
    "            dwightEisenhowerAgentReasoning += thinking.Text;\n",
    "        }\n",
    "        else if (content is Microsoft.SemanticKernel.TextContent text)\n",
    "        {\n",
    "            dwightEisenhowerAgentResponse += text.Text;\n",
    "        }\n",
    "    }\n",
    "}\n",
    "// Display the Agent's reasoning and response\n",
    "dwightEisenhowerAgentReasoning.DisplayAs(\"text/markdown\");\n",
    "dwightEisenhowerAgentResponse.DisplayAs(\"text/markdown\");"
   ]
  }
 ],
 "metadata": {
  "kernelspec": {
   "display_name": ".NET (C#)",
   "language": "C#",
   "name": ".net-csharp"
  },
  "language_info": {
   "name": "polyglot-notebook"
  },
  "polyglot_notebook": {
   "kernelInfo": {
    "defaultKernelName": "csharp",
    "items": [
     {
      "aliases": [],
      "name": "csharp"
     }
    ]
   }
  }
 },
 "nbformat": 4,
 "nbformat_minor": 5
}
