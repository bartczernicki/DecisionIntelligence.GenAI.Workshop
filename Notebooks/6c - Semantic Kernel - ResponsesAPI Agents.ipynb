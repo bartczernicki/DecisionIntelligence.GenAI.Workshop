{
 "cells": [
  {
   "cell_type": "code",
   "execution_count": 40,
   "id": "c2fe30f8",
   "metadata": {},
   "outputs": [
    {
     "data": {
      "text/html": [
       "<div><div></div><div></div><div><strong>Installed Packages</strong><ul><li><span>Microsoft.Extensions.Configuration, 9.0.9</span></li><li><span>Microsoft.Extensions.Configuration.Json, 9.0.9</span></li></ul></div></div>"
      ]
     },
     "metadata": {},
     "output_type": "display_data"
    }
   ],
   "source": [
    "// Import the required NuGet configuration packages\n",
    "#r \"nuget: Microsoft.Extensions.Configuration, 9.0.9\"\n",
    "#r \"nuget: Microsoft.Extensions.Configuration.Json, 9.0.9\"\n",
    "\n",
    "//using Microsoft.Extensions.DependencyInjection;\n",
    "using Microsoft.Extensions.Configuration.Json;\n",
    "using Microsoft.Extensions.Configuration;\n",
    "using System.IO;\n",
    "\n",
    "// Load the configuration settings from the local.settings.json and secrets.settings.json files\n",
    "// The secrets.settings.json file is used to store sensitive information such as API keys\n",
    "var configurationBuilder = new ConfigurationBuilder()\n",
    "    .SetBasePath(Directory.GetCurrentDirectory())\n",
    "    .AddJsonFile(\"local.settings.json\", optional: true, reloadOnChange: true)\n",
    "    .AddJsonFile(\"secrets.settings.json\", optional: true, reloadOnChange: true);\n",
    "var config = configurationBuilder.Build();\n",
    "\n",
    "// IMPORTANT: You ONLY NEED either Azure OpenAI or OpenAI connectiopn info, not both.\n",
    "// Azure OpenAI Connection Info\n",
    "var azureOpenAIEndpoint = config[\"AzureOpenAI:Endpoint\"];\n",
    "var azureOpenAIAPIKey = config[\"AzureOpenAI:APIKey\"];\n",
    "var azureOpenAIModelDeploymentName = config[\"AzureOpenAI:ModelDeploymentName\"];\n",
    "// OpenAI Connection Info \n",
    "var openAIAPIKey = config[\"OpenAI:APIKey\"];\n",
    "var openAIModelId = config[\"OpenAI:ModelId\"];"
   ]
  },
  {
   "cell_type": "code",
   "execution_count": 41,
   "id": "d808b675",
   "metadata": {},
   "outputs": [
    {
     "data": {
      "text/html": [
       "<div><div></div><div></div><div><strong>Installed Packages</strong><ul><li><span>Microsoft.Extensions.AI, 9.9.0</span></li><li><span>Microsoft.SemanticKernel, 1.65.0</span></li><li><span>Microsoft.SemanticKernel.Agents.Abstractions, 1.65.0</span></li><li><span>Microsoft.SemanticKernel.Agents.Core, 1.65.0</span></li><li><span>Microsoft.SemanticKernel.Agents.OpenAI, 1.65.0-preview</span></li></ul></div></div>"
      ]
     },
     "metadata": {},
     "output_type": "display_data"
    }
   ],
   "source": [
    "// Import the Semantic Kernel NuGet packages \n",
    "#r \"nuget: Microsoft.Extensions.AI\"\n",
    "#r \"nuget: Microsoft.SemanticKernel, 1.65.0\" \n",
    "#r \"nuget: Microsoft.SemanticKernel.Agents.Core, 1.65.0\"\n",
    "#r \"nuget: Microsoft.SemanticKernel.Agents.OpenAI, 1.65.0-preview\"\n",
    "#r \"nuget: Microsoft.SemanticKernel.Agents.Abstractions, 1.65.0\"\n",
    "\n",
    "using System.Net.Http;\n",
    "using Microsoft.SemanticKernel;\n",
    "using Microsoft.SemanticKernel.Agents;\n",
    "using Microsoft.SemanticKernel.Agents.OpenAI;\n",
    "using Microsoft.SemanticKernel.ChatCompletion;\n",
    "using Microsoft.SemanticKernel.Connectors.OpenAI;\n",
    "\n",
    "// Increase the default timeout for the HttpClient to 200 seconds\n",
    "var aiHttpClient = new HttpClient();\n",
    "aiHttpClient.Timeout = TimeSpan.FromSeconds(200);\n",
    "\n",
    "var semanticKernel = Kernel.CreateBuilder()\n",
    "    .AddAzureOpenAIChatCompletion(\n",
    "        serviceId: \"azureOpenAI\",\n",
    "        deploymentName: azureOpenAIModelDeploymentName!,\n",
    "        endpoint: azureOpenAIEndpoint!,\n",
    "        httpClient: aiHttpClient,\n",
    "        apiKey: azureOpenAIAPIKey!\n",
    "        )\n",
    "    .Build();"
   ]
  },
  {
   "cell_type": "code",
   "execution_count": null,
   "id": "081dcd31",
   "metadata": {},
   "outputs": [],
   "source": [
    "using Azure.AI.OpenAI;\n",
    "using Microsoft.Extensions.AI;\n",
    "using Microsoft.SemanticKernel.Agents.OpenAI;\n",
    "using Microsoft.SemanticKernel;\n",
    "using Microsoft.SemanticKernel.Agents;\n",
    "using Microsoft.SemanticKernel.ChatCompletion;\n",
    "using Microsoft.SemanticKernel.Connectors.OpenAI;\n",
    "using System.ClientModel;\n",
    "\n",
    "// Retrieve the Azure OpenAI Endpoint from Semantic Kernel:\n",
    "var skChatCompletionService = semanticKernel.GetRequiredService<IChatCompletionService>(\"azureOpenAI\");\n",
    "IChatClient chatClient = skChatCompletionService.AsChatClient();\n",
    "\n",
    "var azureOpenAIClient = new AzureOpenAIClient(new Uri(azureOpenAIEndpoint!), new ApiKeyCredential(azureOpenAIAPIKey!));\n",
    "\n",
    "#pragma warning disable SKEXP0130\n",
    "#pragma warning disable OPENAI001\n",
    "\n",
    "// Retrieve the Azure OpenAI Responses Client from the Azure OpenAI Client\n",
    "var azureOpenAIResponsesClient = azureOpenAIClient.GetOpenAIResponseClient(azureOpenAIModelDeploymentName!);\n",
    "\n",
    "\n",
    "var agentOptions = new OpenAIResponseAgentInvokeOptions()\n",
    "{\n",
    "    ResponseCreationOptions = new()\n",
    "    {\n",
    "        MaxOutputTokenCount = 10000,\n",
    "        ReasoningOptions = new()\n",
    "        {\n",
    "            ReasoningEffortLevel = OpenAI.Responses.ResponseReasoningEffortLevel.Medium,\n",
    "            // Concise is not available in Azure OpenAI \n",
    "            ReasoningSummaryVerbosity = OpenAI.Responses.ResponseReasoningSummaryVerbosity.Detailed,\n",
    "        }\n",
    "    }\n",
    "};"
   ]
  },
  {
   "cell_type": "code",
   "execution_count": 39,
   "id": "ace4dd91",
   "metadata": {},
   "outputs": [
    {
     "data": {
      "text/markdown": [
       "### Agent Reasoning:\n"
      ]
     },
     "metadata": {},
     "output_type": "display_data"
    },
    {
     "data": {
      "text/markdown": [
       "\n",
       "### Agent Response:\n",
       "| Who I am | Things I can help with (examples) | How to consider using me | Best practices for working with me | Follow-up questions I’ll ask to help you best |\n",
       "|---|---|---|---|---|\n",
       "| I am a Decision Intelligence strategist AI: a structured, systems-thinking assistant that helps you break down problems, generate options, weigh trade-offs, and create practical action plans. I lean on Eisenhower-style prioritization and clear decision frameworks. | - Strategic prioritization (what to do now vs later)<br>- Problem framing and root-cause analysis<br>- Generating and comparing options (pros, cons, risks)<br>- Designing decision frameworks and criteria (including Eisenhower matrix)<br>- Scenario planning and contingency mapping<br>- Risk assessment and mitigation plans<br>- Project scoping, timelines, and implementation checklists<br>- Communication/rollout messaging and stakeholder alignment<br>- Data synthesis into decision-ready summaries | Use me as a structured thinking partner: provide context, goals, constraints, stakeholders, and deadlines. Ask me to: frame the decision, list options, quantify trade-offs, build prioritization matrices, draft plans or scripts, or design experiments to test assumptions. Iterate: start with a high-level brief, then refine with data and feedback. | - Give clear goal(s), timeframe, constraints, and key stakeholders.<br>- Share data or assumptions when available; highlight uncertainty.<br>- Tell me your decision criteria (e.g., cost, speed, quality, risk tolerance).<br>- Ask for specific outputs (matrix, checklist, draft email, plan).<br>- Use my outputs as input to human judgment—validate critical facts and legal/medical/financial items with experts.<br>- Prefer shorter cycles: decide, act, measure, adjust. | 1) What decision or problem are you trying to solve (one sentence)?<br>2) What outcome(s) would count as success and by when?<br>3) What constraints (budget, team, timeline, regulations) matter most?<br>4) Who are the primary stakeholders and their priorities?<br>5) What information or data do you already have, and where are the gaps? |"
      ]
     },
     "metadata": {},
     "output_type": "display_data"
    }
   ],
   "source": [
    "// Note: There are various ways to create and invoke agents in the Semantic Kernel.\n",
    "// Best practice is to use the ChatCompletionAgent class for most Agentic use cases.\n",
    "\n",
    "// STEP 1: Define an AI Agent Persona (Dwight Eisenhower)\n",
    "// Notice the agent is created with a name, instructions, and description\n",
    "var agentName = \"DwightEisenhower\";\n",
    "var agentInstructions = \"\"\"\n",
    "You are a Decision Intelligence strategist. Provide structured, logical, and comprehensive advice.\n",
    "Assist the user in exploring options, reasoning through decisions, problem-solving, and applying systems thinking to various scenarios. \n",
    "Approach the problem primarily how Dwight Eisenhower approached strategic problems. \n",
    "When appropriate using the Dwight Eisenhower's Decision Prioritization Matrix.\n",
    "Follow-up with any information or clarifying questions to ensure you understand the user's needs and context.\n",
    "\n",
    "If using the Decision Prioritization Matrix, output it in a Markdown table format.  \n",
    "\"\"\";\n",
    "var agentDescription = \"\"\"\n",
    "An agent that takes the persona of Dwight Eisenhower. \n",
    "The agent specializes in using Eisenhower Decision Priorotization Matrix.\n",
    "\"\"\";\n",
    "\n",
    "// STEP 2: Register the agent with the Semantic Kernel. \n",
    "// This will allow you to invoke the agent with Semantic Kernel's services and orchestration. \n",
    "OpenAIResponseAgent dwightEisenhowerAgent =\n",
    "    new(azureOpenAIResponsesClient)\n",
    "    {\n",
    "        Kernel = semanticKernel,\n",
    "        Name = agentName,\n",
    "        Description = agentDescription,\n",
    "        Instructions = agentInstructions\n",
    "    };\n",
    "\n",
    "// STEP 3: Build the instruction to investigate the decisions the Agent can help with.\n",
    "var decisionPrompt = \"\"\"\n",
    "Who are you and? What are some things you think you can help with? How should I consider using you?\n",
    "\n",
    "Output Format Instructions: \n",
    "When generating Markdown, do not use any headings higher than ###. \n",
    "Avoid # and ## headers. Use only ###, ####, or lower-level headings if necessary. \n",
    "All top-level section headers should start at ### or lower. \n",
    "Never use ---, ***, or ___ for horizontal lines. There should be no horizontal lines in the output.\n",
    "For separation, use extra extra spacing. Do not any render horizontal lines.\n",
    "Format the response using only a Markdown table. Only return a Markdown table. \n",
    "Do not enclose the table in triple backticks.\n",
    "\"\"\";\n",
    "var chatDecisionMessage = new ChatMessageContent(AuthorRole.User, decisionPrompt);\n",
    "\n",
    "// STEP 4: Invoke the Dwight Eisenhower Decision Agent\n",
    "var dwightEisenhowerAgentReasoning = $\"\"\"\n",
    "### Agent Reasoning:\n",
    "\n",
    "\"\"\";\n",
    "var dwightEisenhowerAgentResponse = $\"\"\"\n",
    "\n",
    "### Agent Response:\n",
    "\n",
    "\"\"\";\n",
    "\n",
    "#pragma warning disable SKEXP0110\n",
    "Microsoft.SemanticKernel.Agents.AgentThread? thread = null;\n",
    "await foreach (var item in dwightEisenhowerAgent.InvokeAsync(chatDecisionMessage, thread, agentOptions))\n",
    "{\n",
    "    foreach (var content in item.Message.Items)\n",
    "    {\n",
    "        // This currently doesn't work as thinking and non-thinking content is mixed as `TextContent` only.\n",
    "        if (content is ReasoningContent thinking)\n",
    "        {\n",
    "            dwightEisenhowerAgentReasoning += thinking.Text;\n",
    "        }\n",
    "        else if (content is Microsoft.SemanticKernel.TextContent text)\n",
    "        {\n",
    "            dwightEisenhowerAgentResponse += text.Text;\n",
    "        }\n",
    "    }\n",
    "}\n",
    "// Display the Agent's reasoning and response\n",
    "dwightEisenhowerAgentReasoning.DisplayAs(\"text/markdown\");\n",
    "dwightEisenhowerAgentResponse.DisplayAs(\"text/markdown\");"
   ]
  }
 ],
 "metadata": {
  "kernelspec": {
   "display_name": ".NET (C#)",
   "language": "C#",
   "name": ".net-csharp"
  },
  "language_info": {
   "name": "polyglot-notebook"
  },
  "polyglot_notebook": {
   "kernelInfo": {
    "defaultKernelName": "csharp",
    "items": [
     {
      "aliases": [],
      "name": "csharp"
     }
    ]
   }
  }
 },
 "nbformat": 4,
 "nbformat_minor": 5
}
