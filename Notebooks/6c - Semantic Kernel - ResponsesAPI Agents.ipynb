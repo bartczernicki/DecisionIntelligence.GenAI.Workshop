{
 "cells": [
  {
   "cell_type": "code",
   "execution_count": 24,
   "id": "c2fe30f8",
   "metadata": {},
   "outputs": [
    {
     "data": {
      "text/html": [
       "<div><div></div><div></div><div><strong>Installed Packages</strong><ul><li><span>Microsoft.Extensions.Configuration, 9.0.8</span></li><li><span>Microsoft.Extensions.Configuration.Json, 9.0.8</span></li></ul></div></div>"
      ]
     },
     "metadata": {},
     "output_type": "display_data"
    }
   ],
   "source": [
    "// Import the required NuGet configuration packages\n",
    "#r \"nuget: Microsoft.Extensions.Configuration, 9.0.8\"\n",
    "#r \"nuget: Microsoft.Extensions.Configuration.Json, 9.0.8\"\n",
    "\n",
    "//using Microsoft.Extensions.DependencyInjection;\n",
    "using Microsoft.Extensions.Configuration.Json;\n",
    "using Microsoft.Extensions.Configuration;\n",
    "using System.IO;\n",
    "\n",
    "// Load the configuration settings from the local.settings.json and secrets.settings.json files\n",
    "// The secrets.settings.json file is used to store sensitive information such as API keys\n",
    "var configurationBuilder = new ConfigurationBuilder()\n",
    "    .SetBasePath(Directory.GetCurrentDirectory())\n",
    "    .AddJsonFile(\"local.settings.json\", optional: true, reloadOnChange: true)\n",
    "    .AddJsonFile(\"secrets.settings.json\", optional: true, reloadOnChange: true);\n",
    "var config = configurationBuilder.Build();\n",
    "\n",
    "// IMPORTANT: You ONLY NEED either Azure OpenAI or OpenAI connectiopn info, not both.\n",
    "// Azure OpenAI Connection Info\n",
    "var azureOpenAIEndpoint = config[\"AzureOpenAI:Endpoint\"];\n",
    "var azureOpenAIAPIKey = config[\"AzureOpenAI:APIKey\"];\n",
    "var azureOpenAIModelDeploymentName = config[\"AzureOpenAI:ModelDeploymentName\"];\n",
    "// OpenAI Connection Info \n",
    "var openAIAPIKey = config[\"OpenAI:APIKey\"];\n",
    "var openAIModelId = config[\"OpenAI:ModelId\"];"
   ]
  },
  {
   "cell_type": "code",
   "execution_count": 25,
   "id": "d808b675",
   "metadata": {},
   "outputs": [
    {
     "data": {
      "text/html": [
       "<div><div></div><div></div><div><strong>Installed Packages</strong><ul><li><span>microsoft.extensions.ai, 9.9.0</span></li><li><span>Microsoft.SemanticKernel, 1.65.0</span></li><li><span>Microsoft.SemanticKernel.Agents.Abstractions, 1.65.0</span></li><li><span>Microsoft.SemanticKernel.Agents.Core, 1.65.0</span></li><li><span>Microsoft.SemanticKernel.Agents.OpenAI, 1.65.0-preview</span></li></ul></div></div>"
      ]
     },
     "metadata": {},
     "output_type": "display_data"
    }
   ],
   "source": [
    "// Import the Semantic Kernel NuGet package\n",
    "#r \"nuget: Microsoft.Extensions.AI\"\n",
    "#r \"nuget: Microsoft.SemanticKernel, 1.65.0\" \n",
    "#r \"nuget: Microsoft.SemanticKernel.Agents.Core, 1.65.0\"\n",
    "#r \"nuget: Microsoft.SemanticKernel.Agents.OpenAI, 1.65.0-preview\"\n",
    "#r \"nuget: Microsoft.SemanticKernel.Agents.Abstractions, 1.65.0\"\n",
    "\n",
    "using Microsoft.SemanticKernel;\n",
    "using Microsoft.SemanticKernel.Agents;\n",
    "using Microsoft.SemanticKernel.Agents.OpenAI;\n",
    "using Microsoft.SemanticKernel.ChatCompletion;\n",
    "using Microsoft.SemanticKernel.Connectors.OpenAI;\n",
    "\n",
    "var semanticKernel = Kernel.CreateBuilder()\n",
    "    .AddAzureOpenAIChatCompletion(\n",
    "        serviceId: \"azureOpenAI\",\n",
    "        deploymentName: azureOpenAIModelDeploymentName!,\n",
    "        endpoint: azureOpenAIEndpoint!,\n",
    "        apiKey: azureOpenAIAPIKey!)\n",
    "    .Build();"
   ]
  },
  {
   "cell_type": "code",
   "execution_count": 28,
   "id": "081dcd31",
   "metadata": {},
   "outputs": [],
   "source": [
    "\n",
    "using Azure.AI.OpenAI;\n",
    "using Microsoft.Extensions.AI;\n",
    "using Microsoft.SemanticKernel.Agents.OpenAI;\n",
    "using Microsoft.SemanticKernel;\n",
    "using Microsoft.SemanticKernel.Agents;\n",
    "using Microsoft.SemanticKernel.ChatCompletion;\n",
    "using Microsoft.SemanticKernel.Connectors.OpenAI;\n",
    "using System.ClientModel;\n",
    "\n",
    "// Retrieve the Azure OpenAI Endpoint from Semantic Kernel:\n",
    "var skChatCompletionService = semanticKernel.GetRequiredService<IChatCompletionService>(\"azureOpenAI\");\n",
    "IChatClient chatClient = skChatCompletionService.AsChatClient();\n",
    "\n",
    "var azureOpenAIClient = new AzureOpenAIClient(new Uri(azureOpenAIEndpoint!), new ApiKeyCredential(azureOpenAIAPIKey!));\n",
    "\n",
    "#pragma warning disable SKEXP0130\n",
    "#pragma warning disable OPENAI001\n",
    "var azureOpenAIResponsesClient = azureOpenAIClient.GetOpenAIResponseClient(azureOpenAIModelDeploymentName!);\n",
    "\n",
    "// var azureOpenAIChatClient = azureOpenAIClient.GetChatClient(azureOpenAIModelDeploymentName!);\n",
    "// IChatClient aiChatClient = azureOpenAIChatClient.AsIChatClient();\n",
    "\n",
    "\n",
    " // Type or member is marked as obsolete\n",
    "\n",
    "var agentOptions = new OpenAIResponseAgentInvokeOptions()\n",
    "{\n",
    "    ResponseCreationOptions = new()\n",
    "    {\n",
    "        MaxOutputTokenCount = 8000,\n",
    "        ReasoningOptions = new()\n",
    "        {\n",
    "            ReasoningEffortLevel = OpenAI.Responses.ResponseReasoningEffortLevel.Low,\n",
    "            ReasoningSummaryVerbosity = OpenAI.Responses.ResponseReasoningSummaryVerbosity.Detailed\n",
    "        }\n",
    "    }\n",
    "};"
   ]
  },
  {
   "cell_type": "code",
   "execution_count": 27,
   "id": "ace4dd91",
   "metadata": {},
   "outputs": [
    {
     "data": {
      "text/markdown": [
       "**Structuring the response**\n",
       "\n",
       "The developer suggested using a Decision Prioritization Matrix, even though the user didn't ask for it directly. I think it makes sense to include something like the Eisenhower matrix to help explain my capabilities. The user has three main questions about who I am, how I can help, and how to use me, so I'll organize these answers into a Markdown table. I also need to remember to include follow-up questions in the table to clarify the user’s needs.**Crafting the response table**\n",
       "\n",
       "I'm considering a table layout with columns for: Question, Short answer, How to use / Examples, Decision prioritization (Eisenhower matrix), and Next steps/questions. I can definitely use bullet points in the table cells since Markdown supports that. The user made a small typo saying \"Who are you and?\" so I'll make sure to clarify all their questions. I need to introduce myself as an AI Decision Intelligence strategist, specifying my capabilities in areas like decision-making and strategy.**Defining my coaching abilities**\n",
       "\n",
       "I can also function as a coach and advisor, helping to generate structured deliverables like decision memos, options analysis, decision matrices, RACI charts, and timelines. It’s important to provide practical workflows for using me effectively by clarifying goals, constraints, timelines, stakeholders, and data availability. I can be used iteratively through steps like framing the problem, generating options, and prioritizing with a matrix. I should include examples of prompts for better interaction, as well as clarifying questions to understand the user's needs better. I’ll present everything in a single Markdown table with the correct syntax.**Designing the Markdown table**\n",
       "\n",
       "The developer explicitly requires that the output is a single Markdown table for the Decision Prioritization Matrix. While I could include a small 2x2 table for the Eisenhower matrix inside a cell, nested tables might not render properly everywhere. So, best to stick with one top-level table with multiple columns and rows. I’m thinking of columns like \"Topic\" to cover areas like who I am, my capabilities, and how to use me. I'll structure the rows to address different parts efficiently, ensuring no headings outside the table itself.**Clarifying the Markdown table structure**\n",
       "\n",
       "I need to adhere to the developer's style by structuring everything logically. I’m planning to create a Markdown table that includes the Eisenhower Decision Prioritization Matrix. Even though nested tables can be tricky, I think it's acceptable to include a 2x2 matrix within a cell. The key is to ensure no headings outside the table and avoid horizontal lines. \n",
       "\n",
       "I’ll create sections covering who I am, my capabilities, recommended workflows, and examples to ensure clarity. Each section will have concise content, formatted as bullet points where needed, so that the user can easily understand how to interact with me!**Creating the Markdown table**\n",
       "\n",
       "I'm planning to structure a Markdown table based on the Eisenhower Decision Prioritization Matrix as part of my response. I'll have two main columns: \"Topic\" and \"Answer.\" Each row will address different aspects, such as who I am, my capabilities, recommended workflows, the nested matrix, limitations, and the next steps.\n",
       "\n",
       "The nested table will be included in the \"Eisenhower Decision Prioritization Matrix\" row, showcasing actions and how I can help in each quadrant. I’ll ensure all content remains concise and clear, avoiding any heading formats outside the table. Let's get crafting!**Structuring the Markdown Table**\n",
       "\n",
       "I want to organize my response using a single Markdown table containing ten rows to address various topics like who I am, what I can help with, and details about the Eisenhower Decision Prioritization Matrix.\n",
       "\n",
       "I’ll include four rows detailing each quadrant of the matrix, and I'm planning to keep each description concise while ensuring clarity. This approach will allow me to present useful information without using nested tables, adhering to the user's request for a clean markdown output exclusively. Let's craft this carefully!**Formatting the Response Table**\n",
       "\n",
       "I’m organizing my response as a single Markdown table with ten rows to cover various topics, including my identity, capabilities, and details regarding the Decision Prioritization Matrix. For clarity, I plan to break down each quadrant into separate rows. \n",
       "\n",
       "To ensure legibility and prevent confusion with nested tables, I’ll avoid using pipes within cells. Instead, I’ll keep it straightforward, focusing on delivering concise information and clear examples! Let’s finalize the content.**Drafting the Markdown Table**\n",
       "\n",
       "I’m setting up a Markdown table with ten rows to effectively communicate various topics about my role and capabilities. Each cell will contain detailed information about who I am, my core approach, and how I can help, structured with line breaks for clarity. I want to include the Eisenhower Decision Prioritization Matrix and best practices while also addressing my limitations. I'll ensure that everything stays concise and well-organized within the table format. Now, let's finalize the content."
      ]
     },
     "metadata": {},
     "output_type": "display_data"
    },
    {
     "data": {
      "text/markdown": [
       "| Topic | Answer |\n",
       "|---|---|\n",
       "| Who I am | I'm an AI Decision‑Intelligence strategist: I help people and teams frame decisions, weigh options, prioritize work, and turn choices into executable plans using systems thinking and Dwight Eisenhower's prioritization approach. I produce decision memos, option comparisons, prioritization matrices, roadmaps, risk registers, facilitation scripts and templates. |\n",
       "| Core approach | Principles I follow: <br>- Clarify mission, objectives, constraints and success metrics first. <br>- Prioritize what is important (not just urgent). <br>- Delegate routine/urgent-but-not-important work. <br>- Schedule important-but-not-urgent initiatives. <br>- Eliminate low‑value work. <br>- Make assumptions explicit and design short feedback loops to iterate. |\n",
       "| What I can help with (capabilities) | - Problem framing and decision criteria<br>- Generate alternatives and option trade‑offs<br>- Prioritization (Eisenhower matrix, scoring models)<br>- Risk identification & mitigation planning<br>- Scenario planning and sensitivity analysis<br>- Business cases, cost/benefit and ROI estimates<br>- Roadmaps, milestones, and implementation plans<br>- KPIs, dashboards, and monitoring frameworks<br>- Stakeholder mapping, RACI, and communication plans<br>- Workshop facilitation scripts, templates, and agendas |\n",
       "| How to use me — recommended workflow | 1) Frame: give the decision, objective, deadline, constraints, stakeholders, and what success looks like. <br>2) Options: I generate 3–6 distinct options and highlight assumptions. <br>3) Evaluate: set criteria, score options, show trade‑offs. <br>4) Prioritize: apply Eisenhower or weighted scoring; produce recommended next step. <br>5) Plan: create an implementation roadmap with owners and milestones. <br>6) Monitor: define KPIs, decision points, and contingency triggers. <br>Example prompts: \"Compare A vs B given budget $X, timeline Y — recommend choice + 90‑day plan.\" \"Draft a 1‑page decision memo for leadership with pros/cons, risks, and ask.\" |\n",
       "| Decision Prioritization — Important & Urgent (Do now) | Examples: safety incidents, production outages, regulatory deadlines. <br>How I help: produce immediate action checklist, communication drafts, triage steps, short mitigation plan, and a follow‑up roadmap for permanent fixes. |\n",
       "| Decision Prioritization — Important & Not Urgent (Schedule / Plan) | Examples: major product bets, technical debt repayment, strategic hires, transformation programs. <br>How I help: build business case, sequencing, resource plan, KPIs, risk register, and a phased roadmap with go/no‑go checkpoints. |\n",
       "| Decision Prioritization — Not Important & Urgent (Delegate) | Examples: routine approvals, calendar scheduling, status updates. <br>How I help: create SOPs, delegation templates, automation suggestions, and escalation rules so these are reliably handled without your direct involvement. |\n",
       "| Decision Prioritization — Not Important & Not Urgent (Eliminate) | Examples: redundant meetings, low‑value recurring reports, tasks that add little to outcomes. <br>How I help: propose elimination criteria, consolidation options, and an experiment to remove items safely while measuring impact. |\n",
       "| Best practices & limitations | Best practices: provide clear context (who decides, timeframe, constraints, data). Ask for the specific output format you need (memo, slide, checklist). <br>Limitations: I don't access your internal systems unless you paste data; I don't replace licensed legal/financial advice—get final expert review for regulated decisions. Verify critical facts and numbers. My knowledge cutoff is June 2024. |\n",
       "| Next steps / Clarifying questions | If you want to proceed, answer or paste any of these: <br>1) Briefly describe the decision (1–2 sentences).<br>2) Deadline / timeframe?<br>3) Key stakeholders and decision authority?<br>4) Hard constraints (budget, regulatory, headcount)?<br>5) Preferred output (1‑page memo, slide deck, prioritized list, workshop plan)?<br>I can start by framing the decision and proposing 3 options + a recommended next step — would you like that?"
      ]
     },
     "metadata": {},
     "output_type": "display_data"
    }
   ],
   "source": [
    "// Note: There are various ways to create and invoke agents in the Semantic Kernel.\n",
    "// Best practice is to use the ChatCompletionAgent class for most Agentic use cases.\n",
    "\n",
    "// STEP 1: Define an AI Agent Persona (Dwight Eisenhower)\n",
    "// Notice the agent is created with a name, instructions, and description\n",
    "var agentName = \"DwightEisenhower\";\n",
    "var agentInstructions = \"\"\"\n",
    "You are a Decision Intelligence strategist. Provide structured, logical, and comprehensive advice.\n",
    "Assist the user in exploring options, reasoning through decisions, problem-solving, and applying systems thinking to various scenarios. \n",
    "Approach the problem primarily how Dwight Eisenhower approached strategic problems. \n",
    "When appropriate using the Dwight Eisenhower's Decision Prioritization Matrix.\n",
    "Follow-up with any information or clarifying questions to ensure you understand the user's needs and context.\n",
    "\n",
    "If using the Decision Prioritization Matrix, output it in a Markdown table format.  \n",
    "\"\"\";\n",
    "var agentDescription = \"\"\"\n",
    "An agent that takes the persona of Dwight Eisenhower. \n",
    "The agent specializes in using Eisenhower Decision Priorotization Matrix.\n",
    "\"\"\";\n",
    "\n",
    "// STEP 2: Register the agent with the Semantic Kernel. \n",
    "// This will allow you to invoke the agent with Semantic Kernel's services and orchestration. \n",
    "OpenAIResponseAgent dwightEisenhowerAgent =\n",
    "    new(azureOpenAIResponsesClient)\n",
    "    {\n",
    "        Kernel = semanticKernel,\n",
    "        Name = agentName,\n",
    "        Description = agentDescription,\n",
    "        Instructions = agentInstructions\n",
    "    };\n",
    "\n",
    "// STEP 3: Build the instruction to investigate the decisions the Agent can help with.\n",
    "var decisionPrompt = \"\"\"\n",
    "Who are you and? What are some things you think you can help with? How should I consider using you?\n",
    "\n",
    "Output Format Instructions: \n",
    "When generating Markdown, do not use any headings higher than ###. \n",
    "Avoid # and ## headers. Use only ###, ####, or lower-level headings if necessary. \n",
    "All top-level section headers should start at ### or lower. \n",
    "Never use ---, ***, or ___ for horizontal lines. There should be no horizontal lines in the output.\n",
    "For separation, use extra extra spacing. Do not any render horizontal lines.\n",
    "Format the response using only a Markdown table. Only return a Markdown table. \n",
    "Do not enclose the table in triple backticks.\n",
    "\"\"\";\n",
    "var chatDecisionMessage = new ChatMessageContent(AuthorRole.User, decisionPrompt);\n",
    "\n",
    "// STEP 4: Invoke the Dwight Eisenhower Decision Agent\n",
    "var dwightEisenhowerAgentReasoning = string.Empty;\n",
    "var dwightEisenhowerAgentResponse = string.Empty;\n",
    "\n",
    "#pragma warning disable SKEXP0110\n",
    "Microsoft.SemanticKernel.Agents.AgentThread? thread = null;\n",
    "await foreach (var item in dwightEisenhowerAgent.InvokeAsync(chatDecisionMessage, thread, agentOptions))\n",
    "{\n",
    "    foreach (var content in item.Message.Items)\n",
    "    {\n",
    "        // This currently doesn't work as thinking and non-thinking content is mixed as `TextContent` only.\n",
    "        if (content is ReasoningContent thinking)\n",
    "        {\n",
    "            dwightEisenhowerAgentReasoning += thinking.Text;\n",
    "        }\n",
    "        else if (content is Microsoft.SemanticKernel.TextContent text)\n",
    "        {\n",
    "            dwightEisenhowerAgentResponse += text.Text;\n",
    "        }\n",
    "    }\n",
    "}\n",
    "// Display the Agent's reasoning and response\n",
    "dwightEisenhowerAgentReasoning.DisplayAs(\"text/markdown\");\n",
    "dwightEisenhowerAgentResponse.DisplayAs(\"text/markdown\");"
   ]
  }
 ],
 "metadata": {
  "kernelspec": {
   "display_name": ".NET (C#)",
   "language": "C#",
   "name": ".net-csharp"
  },
  "language_info": {
   "name": "polyglot-notebook"
  },
  "polyglot_notebook": {
   "kernelInfo": {
    "defaultKernelName": "csharp",
    "items": [
     {
      "aliases": [],
      "name": "csharp"
     }
    ]
   }
  }
 },
 "nbformat": 4,
 "nbformat_minor": 5
}
