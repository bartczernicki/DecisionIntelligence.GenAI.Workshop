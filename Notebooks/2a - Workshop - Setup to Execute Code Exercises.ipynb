{
 "cells": [
  {
   "cell_type": "markdown",
   "metadata": {},
   "source": [
    "<img style=\"float: left;padding-right: 10px\" width =\"40px\" src=\"https://raw.githubusercontent.com/bartczernicki/DecisionIntelligence.GenAI.Workshop/main/Images/SemanticKernelLogo.png\">\n",
    "\n",
    "## Setup to Execute Code Exercises  "
   ]
  },
  {
   "cell_type": "markdown",
   "metadata": {},
   "source": [
    "> 📝 Note: This configuration setup will be repeated throughout each of the notebook scenarios to ensure they are re-runnable from beginning to end. This allows the user of the Decision Intelligence Workshop to consume as they like, by jumping around between scenarios and not having to start from the beginning each time.  "
   ]
  },
  {
   "cell_type": "markdown",
   "metadata": {},
   "source": [
    "### Step 1 - Configuration Builder"
   ]
  },
  {
   "cell_type": "markdown",
   "metadata": {},
   "source": [
    "In this step Microsoft NuGet packages are installed, so that you can create access to your resources using API keys. These keys should be protected and not checked in. Therefore, the secrets.settings.json is ignored in the .gitignore and is the place you should add the API key information. \n",
    "\n",
    "You will need either:\n",
    "* Azure OpenAI - Model Deployment Name, Endpoint URL and the API Key  \n",
    "* Bing Web Search - API Key (this is used for internet grounding)  \n",
    "or \n",
    "* OpenAI - Model Id, OpenAI API Key  \n",
    "* Bing Web Search - API Key (this is used for internet grounding)  \n",
    "\n",
    "**Recommended model is Azure OpenAI or OpenAI GPT4o (for speed/performance balance). GPT4T-2024-04-09 is an alternative general availability model that is recommended as well. Note: Other open-source models or older OpenAI models may not support some of the advanced features like assistants or function calling.**  \n",
    "\n",
    "\n",
    "Use the local.settings.json template to create the secrets.settings.json\n",
    "```javascript\n",
    "{\n",
    "  \"AzureOpenAI\": {\n",
    "    \"Endpoint\": \"https://YOURENDPOINT.openai.azure.com\",\n",
    "    \"APIKey\": \"AZUREOPENAIAPIKEY\",\n",
    "    \"ModelDeploymentName\": \"MODELDEPLOYMENTNAME\",\n",
    "\n",
    "    \"reasoningEndpoint\": \"https://YOURENDPOINT.openai.azure.com\",\n",
    "    \"reasoningAPIKey\": \"AZUREOPENAIAPIKEY\",\n",
    "    \"reasoningModelDeploymentName\": \"MODELDEPLOYMENTNAME\",\n",
    "\n",
    "  },\n",
    "  \"OpenAI\": {\n",
    "    \"APIKey\": \"OPENAIAPIKEY\",\n",
    "    \"ModelId\": \"MODELID\"\n",
    "  },\n",
    "  \"BingSearch\": {\n",
    "    \"APIKey\": \"BINGSEARCHAPIKEY\" \n",
    "  }\n",
    "}\n",
    "```  "
   ]
  },
  {
   "cell_type": "code",
   "execution_count": 1,
   "metadata": {
    "dotnet_interactive": {
     "language": "csharp"
    },
    "polyglot_notebook": {
     "kernelName": "csharp"
    },
    "vscode": {
     "languageId": "polyglot-notebook"
    }
   },
   "outputs": [
    {
     "data": {
      "text/html": [
       "<div><div></div><div></div><div><strong>Installed Packages</strong><ul><li><span>Markdig, 0.40.0</span></li><li><span>Microsoft.Extensions.Configuration, 9.0.0</span></li><li><span>Microsoft.Extensions.Configuration.Json, 9.0.0</span></li></ul></div></div>"
      ]
     },
     "metadata": {},
     "output_type": "display_data"
    }
   ],
   "source": [
    "// Import the required NuGet configuration packages\n",
    "#r \"nuget: Microsoft.Extensions.Configuration, 9.0.0\"\n",
    "#r \"nuget: Microsoft.Extensions.Configuration.Json, 9.0.0\"\n",
    "#r \"nuget: Markdig, 0.40.0\"\n",
    "\n",
    "using Microsoft.Extensions.Configuration.Json;\n",
    "using Microsoft.Extensions.Configuration;\n",
    "using System.IO;\n",
    "\n",
    "// Load the configuration settings from the local.settings.json and secrets.settings.json files\n",
    "// The secrets.settings.json file is used to store sensitive information such as API keys\n",
    "var configurationBuilder = new ConfigurationBuilder()\n",
    "    .SetBasePath(Directory.GetCurrentDirectory())\n",
    "    .AddJsonFile(\"local.settings.json\", optional: true, reloadOnChange: true)\n",
    "    .AddJsonFile(\"secrets.settings.json\", optional: true, reloadOnChange: true);\n",
    "var config = configurationBuilder.Build();\n",
    "\n",
    "// IMPORTANT: You ONLY NEED either Azure OpenAI or OpenAI connectiopn info, not both.\n",
    "// Azure OpenAI Connection Info\n",
    "var azureOpenAIEndpoint = config[\"AzureOpenAI:Endpoint\"];\n",
    "var azureOpenAIAPIKey = config[\"AzureOpenAI:APIKey\"];\n",
    "var azureOpenAIModelDeploymentName = config[\"AzureOpenAI:ModelDeploymentName\"];\n",
    "// OpenAI Connection Info \n",
    "var openAIAPIKey = config[\"OpenAI:APIKey\"];\n",
    "var openAIModelId = config[\"OpenAI:ModelId\"];"
   ]
  },
  {
   "cell_type": "markdown",
   "metadata": {},
   "source": [
    "### Step 2 - Test Secrets Configuration\n",
    "\n",
    "If the keys were properly entered in the JSON file, they should be available to be loaded. \n",
    "\n",
    "> Note: If you run the cell, ensure to clear out the output not to cache nor persist any API keys in the output."
   ]
  },
  {
   "cell_type": "code",
   "execution_count": 2,
   "metadata": {
    "dotnet_interactive": {
     "language": "csharp"
    },
    "polyglot_notebook": {
     "kernelName": "csharp"
    },
    "vscode": {
     "languageId": "polyglot-notebook"
    }
   },
   "outputs": [],
   "source": [
    "var azureOpenAIEndpoint = config[\"AzureOpenAI:Endpoint\"];\n",
    "var azureOpenAIAPIKey = config[\"AzureOpenAI:APIKey\"];\n",
    "var azureOpenAIModelDeploymentName = config[\"AzureOpenAI:ModelDeploymentName\"];\n",
    "\n",
    "// Test the configuration\n",
    "// Uncomment the relevant lines to view the configuration settings\n",
    "// Console.WriteLine(azureOpenAIEndpoint);\n",
    "// Console.WriteLine(azureOpenAIAPIKey);\n",
    "// Console.WriteLine(azureOpenAIModelDeploymentName);\n",
    "// Console.WriteLine(config[\"OpenAI:APIKey\"]);\n",
    "// Console.WriteLine(config[\"OpenAI:ModelId\"]);"
   ]
  },
  {
   "cell_type": "markdown",
   "metadata": {},
   "source": [
    "### Step 3 - Install & Instantiate Semantic Kernel  \n",
    "\n",
    "This is just a test to show the installation some Semantic Kernel packages. Note that Semantic Kernel includes a variety of packages with different release state lifecycles. Executing the cell below should be error free if the configurations are set up correctly. \n",
    "\n",
    "Note: Some packages are in alpha state or even experimental. These packages may eventually be made available and supported, but should be considered not ready for production. "
   ]
  },
  {
   "cell_type": "code",
   "execution_count": 3,
   "metadata": {
    "dotnet_interactive": {
     "language": "csharp"
    },
    "polyglot_notebook": {
     "kernelName": "csharp"
    },
    "vscode": {
     "languageId": "polyglot-notebook"
    }
   },
   "outputs": [
    {
     "data": {
      "text/html": [
       "<div><div></div><div></div><div><strong>Installed Packages</strong><ul><li><span>Microsoft.SemanticKernel, 1.45.0</span></li></ul></div></div>"
      ]
     },
     "metadata": {},
     "output_type": "display_data"
    },
    {
     "name": "stdout",
     "output_type": "stream",
     "text": [
      "Code execution has made it this far, \r\n",
      "so the Semantic Kernel NuGet package appears to correctly installed.\r\n"
     ]
    }
   ],
   "source": [
    "// Import the Semantic Kernel NuGet package\n",
    "#r \"nuget: Microsoft.SemanticKernel, 1.45\"\n",
    "\n",
    "using Microsoft.Extensions.DependencyInjection.Extensions;\n",
    "using Microsoft.Extensions.DependencyInjection;\n",
    "using Microsoft.SemanticKernel;\n",
    "using Markdig;\n",
    "\n",
    "Kernel semanticKernel;\n",
    "\n",
    "// Sample code to create a semantic kernel builder, checking if the packages installed\n",
    "var semanticKernelBuilder = Kernel.CreateBuilder();\n",
    "\n",
    "semanticKernel = semanticKernelBuilder.Build();\n",
    "\n",
    "Console.WriteLine(\"\"\"\n",
    "Code execution has made it this far, \n",
    "so the Semantic Kernel NuGet package appears to correctly installed.\n",
    "\"\"\"); \n"
   ]
  }
 ],
 "metadata": {
  "kernelspec": {
   "display_name": ".NET (C#)",
   "language": "C#",
   "name": ".net-csharp"
  },
  "language_info": {
   "name": "csharp"
  },
  "polyglot_notebook": {
   "kernelInfo": {
    "defaultKernelName": "csharp",
    "items": [
     {
      "aliases": [],
      "name": "csharp"
     }
    ]
   }
  }
 },
 "nbformat": 4,
 "nbformat_minor": 2
}
