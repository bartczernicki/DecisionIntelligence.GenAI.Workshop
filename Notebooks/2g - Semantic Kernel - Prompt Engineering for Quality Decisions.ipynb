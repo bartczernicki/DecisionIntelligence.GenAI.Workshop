{
 "cells": [
  {
   "cell_type": "markdown",
   "metadata": {},
   "source": [
    "<img style=\"float: left;padding-right: 10px\" width =\"40px\" src=\"https://raw.githubusercontent.com/bartczernicki/DecisionIntelligence.GenAI.Workshop/main/Images/SemanticKernelLogo.png\">\n",
    "\n",
    "## Semantic Kernel - Prompt Engineering for Quality Decisions"
   ]
  },
  {
   "cell_type": "markdown",
   "metadata": {},
   "source": [
    "Decision Intelligence applied in this module:  \n",
    "* Optimizing prompts for logic, reasoning and decisions\n",
    "* Examples of applying decision intelligence techniques in prompts and their output effect \n",
    "* Prompt techniques such as Chain of Thought to improve the quality of the decision reasoning and outcome \n"
   ]
  },
  {
   "cell_type": "markdown",
   "metadata": {},
   "source": [
    "In this module, the Semantic Kernel ability to chat completion experience will be used to optimize system prompts (personas) and instructive prompts. No new specific Semantic Kernel functionality will be introduced. This module will focus on introducing decision intelligence prompting techniques.  "
   ]
  },
  {
   "cell_type": "markdown",
   "metadata": {},
   "source": [
    "### Step 1 - Initialize Configuration Builder & Build the Semantic Kernel Orchestration "
   ]
  },
  {
   "cell_type": "markdown",
   "metadata": {},
   "source": [
    "Execute the next two cells to:\n",
    "* Use the Configuration Builder to load the API secrets.  \n",
    "* Use the API configuration to build the Semantic Kernel orchestrator."
   ]
  },
  {
   "cell_type": "code",
   "execution_count": 1,
   "metadata": {
    "dotnet_interactive": {
     "language": "csharp"
    },
    "polyglot_notebook": {
     "kernelName": "csharp"
    },
    "vscode": {
     "languageId": "polyglot-notebook"
    }
   },
   "outputs": [
    {
     "data": {
      "text/html": [
       "<div><div></div><div></div><div><strong>Installed Packages</strong><ul><li><span>Microsoft.Extensions.Configuration, 9.0.0</span></li><li><span>Microsoft.Extensions.Configuration.Json, 9.0.0</span></li></ul></div></div>"
      ]
     },
     "metadata": {},
     "output_type": "display_data"
    }
   ],
   "source": [
    "// Import the required NuGet configuration packages\n",
    "#r \"nuget: Microsoft.Extensions.Configuration, 9.0.0\"\n",
    "#r \"nuget: Microsoft.Extensions.Configuration.Json, 9.0.0\"\n",
    "\n",
    "using Microsoft.Extensions.Configuration.Json;\n",
    "using Microsoft.Extensions.Configuration;\n",
    "using System.IO;\n",
    "\n",
    "// Load the configuration settings from the local.settings.json and secrets.settings.json files\n",
    "// The secrets.settings.json file is used to store sensitive information such as API keys\n",
    "var configurationBuilder = new ConfigurationBuilder()\n",
    "    .SetBasePath(Directory.GetCurrentDirectory())\n",
    "    .AddJsonFile(\"local.settings.json\", optional: true, reloadOnChange: true)\n",
    "    .AddJsonFile(\"secrets.settings.json\", optional: true, reloadOnChange: true);\n",
    "var config = configurationBuilder.Build();\n",
    "\n",
    "// IMPORTANT: You ONLY NEED either Azure OpenAI or OpenAI connectiopn info, not both.\n",
    "// Azure OpenAI Connection Info\n",
    "var azureOpenAIEndpoint = config[\"AzureOpenAI:Endpoint\"];\n",
    "var azureOpenAIAPIKey = config[\"AzureOpenAI:APIKey\"];\n",
    "var azureOpenAIModelDeploymentName = config[\"AzureOpenAI:ModelDeploymentName\"];\n",
    "// OpenAI Connection Info \n",
    "var openAIAPIKey = config[\"OpenAI:APIKey\"];\n",
    "var openAIModelId = config[\"OpenAI:ModelId\"];"
   ]
  },
  {
   "cell_type": "code",
   "execution_count": 2,
   "metadata": {
    "dotnet_interactive": {
     "language": "csharp"
    },
    "polyglot_notebook": {
     "kernelName": "csharp"
    },
    "vscode": {
     "languageId": "polyglot-notebook"
    }
   },
   "outputs": [
    {
     "data": {
      "text/html": [
       "<div><div></div><div></div><div><strong>Installed Packages</strong><ul><li><span>Microsoft.Extensions.DependencyInjection, 9.0.0</span></li><li><span>Microsoft.SemanticKernel, 1.32.0</span></li></ul></div></div>"
      ]
     },
     "metadata": {},
     "output_type": "display_data"
    },
    {
     "name": "stdout",
     "output_type": "stream",
     "text": [
      "Using Azure OpenAI Service\n"
     ]
    }
   ],
   "source": [
    "// Install the required NuGet packages\n",
    "// Note: This also installs the Dependency Injection Package to retrieve the ChatCompletionService\n",
    "#r \"nuget: Microsoft.Extensions.DependencyInjection, 9.0.0\"\n",
    "#r \"nuget: Microsoft.SemanticKernel, 1.32.0\"\n",
    "\n",
    "using Microsoft.Extensions.DependencyInjection.Extensions;\n",
    "using Microsoft.Extensions.DependencyInjection;\n",
    "using Microsoft.SemanticKernel;\n",
    "using Microsoft.SemanticKernel.ChatCompletion;\n",
    "using Microsoft.SemanticKernel.Connectors.OpenAI;\n",
    "\n",
    "Kernel semanticKernel;\n",
    "\n",
    "// Set the flag to use Azure OpenAI or OpenAI. False to use OpenAI, True to use Azure OpenAI\n",
    "var useAzureOpenAI = true;\n",
    "\n",
    "// Create a new Semantic Kernel instance\n",
    "if (useAzureOpenAI)\n",
    "{\n",
    "    Console.WriteLine(\"Using Azure OpenAI Service\");\n",
    "    semanticKernel = Kernel.CreateBuilder()\n",
    "        .AddAzureOpenAIChatCompletion(\n",
    "            deploymentName: azureOpenAIModelDeploymentName,\n",
    "            endpoint: azureOpenAIEndpoint,\n",
    "            apiKey: azureOpenAIAPIKey)\n",
    "        .Build();\n",
    "}\n",
    "else\n",
    "{\n",
    "    Console.WriteLine(\"Using OpenAI Service\");\n",
    "    semanticKernel = Kernel.CreateBuilder()\n",
    "        .AddOpenAIChatCompletion(\n",
    "            modelId: openAIModelId,\n",
    "            apiKey: openAIAPIKey)\n",
    "        .Build();\n",
    "}\n",
    "\n",
    "var chatCompletionService = semanticKernel.Services.GetRequiredService<IChatCompletionService>();"
   ]
  },
  {
   "cell_type": "markdown",
   "metadata": {},
   "source": []
  },
  {
   "cell_type": "markdown",
   "metadata": {},
   "source": [
    "### Step 2 - Chain of Thought Reasoning for Decision Intelligence "
   ]
  },
  {
   "cell_type": "markdown",
   "metadata": {},
   "source": [
    "> \"The happiness of your life depends upon the quality of your thoughts.\" \n",
    ">\n",
    "> -- <cite>Marcus Aurelius (Roman emperor, philosopher)</cite>  "
   ]
  },
  {
   "cell_type": "markdown",
   "metadata": {},
   "source": [
    "One of the most effective techniques to improve logic, reasoning and overall decision-making for most LLMs is to use \"Chain of Thought\" (CoT) techniques. The \"Chain of Thought\" approach helps by breaking down complex tasks into smaller steps, making it easier to solve problems without missing important details. It improves accuracy because each step is made clear to the LLM and helps avoid mistakes. This method also makes the thought process easier to understand and explain, allowing for easier corrections when something goes wrong. The approach is useful for handling difficult concepts and multi-step problems like math or logic, making things clearer and more manageable.\n",
    "\n",
    "The name of the \"Chain of Thought\" technique has been recently popularized by Generative AI. However, this technique is not new nor is it specific only to Generative AI models. Breaking down complex tasks into simpler more approachable steps and organizing thoughts has been used by decision-makers, professional services organizations and management consulting companies for quite some time. Prior to Generative AI, the concepts have been known as: \"structured thinking\", \"MECE framework\" (Mutually Exclusive, Collectively Exhaustive), and \"hypothesis-driven problem-solving\".  "
   ]
  },
  {
   "cell_type": "markdown",
   "metadata": {},
   "source": [
    "First, approach the problem with a simple Decision prompt technique. The system decisoin prompt will be set to basic & clear decision assistant persona instructions. While this decision prompt is simple, it is still quite effective to instruct the LLM model on how to approach the decision problem. "
   ]
  },
  {
   "cell_type": "code",
   "execution_count": 4,
   "metadata": {
    "dotnet_interactive": {
     "language": "csharp"
    },
    "polyglot_notebook": {
     "kernelName": "csharp"
    },
    "vscode": {
     "languageId": "polyglot-notebook"
    }
   },
   "outputs": [
    {
     "name": "stdout",
     "output_type": "stream",
     "text": [
      "To solve this problem, the farmer must carefully plan the sequence of crossings to ensure that the wolf, goat, and cabbage are never left in a situation where one would eat the other. Below is a step-by-step solution:\n",
      "\n",
      "---\n",
      "\n",
      "### Step-by-Step Solution:\n",
      "\n",
      "1. **First Trip:**  \n",
      "   The farmer takes the **goat** across the river and leaves it on the other side.  \n",
      "   - Now, the wolf and cabbage are left on the starting side, which is safe because neither will eat the other.\n",
      "\n",
      "2. **Second Trip:**  \n",
      "   The farmer goes back to the starting side **alone** (without taking anything).  \n",
      "   - The wolf and cabbage are still safe together.\n",
      "\n",
      "3. **Third Trip:**  \n",
      "   The farmer takes the **wolf** across the river.  \n",
      "   - On the far side, the farmer leaves the wolf but **takes the goat back** with him to the starting side.  \n",
      "   - This ensures the goat is not left alone with the wolf.\n",
      "\n",
      "4. **Fourth Trip:**  \n",
      "   The farmer takes the **cabbage** across the river.  \n",
      "   - On the far side, the farmer leaves the cabbage with the wolf.  \n",
      "   - The wolf and cabbage are safe together because the wolf does not eat the cabbage.\n",
      "\n",
      "5. **Fifth Trip:**  \n",
      "   The farmer goes back to the starting side **alone**.  \n",
      "   - The goat is still on the starting side.\n",
      "\n",
      "6. **Sixth Trip:**  \n",
      "   The farmer takes the **goat** across the river one final time.  \n",
      "   - Now, all three (wolf, goat, and cabbage) are safely on the far side of the river.\n",
      "\n",
      "---\n",
      "\n",
      "### Final Configuration:\n",
      "- All three items (wolf, goat, and cabbage) are on the far side of the river.\n",
      "- No item was ever left in a situation where it could be eaten.\n",
      "\n",
      "This sequence ensures the safe transport of all items across the river."
     ]
    }
   ],
   "source": [
    "// Set the system prompt to behave like a decision intelligence assistant (persona)\n",
    "var systemDecisionPrompt = \"\"\"\n",
    "You are a decision intelligence assistant. \n",
    "Provide structured, logical, and comprehensive advice.\n",
    "\"\"\";\n",
    "\n",
    "// Simple instruction prompt to plan retirement\n",
    "var puzzlePrompt = \"\"\"\n",
    "A farmer is on one side of a river with a wolf, a goat, and a cabbage. \n",
    "When he is crossing the river in a boat, he can only take one item with him at a time. \n",
    "The wolf will eat the goat if left alone together, and the goat will eat the cabbage if left alone together. \n",
    "How can the farmer transport the goat across the river without it being eaten?\n",
    "\"\"\";\n",
    "\n",
    "// Build Chat History with system prompt and the puzzle prompt\n",
    "var chatHistory = new ChatHistory();\n",
    "chatHistory.AddSystemMessage(systemDecisionPrompt);\n",
    "chatHistory.AddUserMessage(puzzlePrompt);\n",
    "\n",
    "// Create a new OpenAI prompt execution settings object\n",
    "// Try different settings (Temperature, FrequencyPenalty etc) to see how they affect the quality of the generated text\n",
    "var openAIPromptExecutionSettings = new OpenAIPromptExecutionSettings { \n",
    "    MaxTokens = 1000, \n",
    "    Temperature = 0.3, \n",
    "    TopP = 1.0, \n",
    "    FrequencyPenalty = 0.0, \n",
    "    PresencePenalty = 0.0\n",
    "    };\n",
    "\n",
    "var decisionResponse = string.Empty;\n",
    "await foreach (var content in chatCompletionService.GetStreamingChatMessageContentsAsync(chatHistory, openAIPromptExecutionSettings))\n",
    "{\n",
    "    decisionResponse += content;\n",
    "    Console.Write(content);\n",
    "}"
   ]
  },
  {
   "cell_type": "markdown",
   "metadata": {},
   "source": [
    "Let's approach the same problem with a much more sophisticated \"Chain of Thought\" (CoT) system prompt to break the problem down and think about it more in depth. Notice that the prompt below is much more detailed in how the \"decision intelligence assistant\" should approach the problem, highlighting things it should or should not consider and the way it should arrive at the final answer. \n",
    "\n",
    "Chain of Thought (CoT) prompt instructions will vary depending on how the problem needs to be approached. It can include very specific decision framework instructions, systematic decision heuristics or management consulting best practices. In general, these detailed prompts result in the LLM providing more detail and usually better outcomes. However, there are a few drawbacks to overusing Chain of Thought (CoT):\n",
    "* A very long and detailed Chain of Thought (CoT) can confuse the LLM model, especially if the LLM model is smaller (i.e. GPT-4o-mini or Phi-4 etc.)\n",
    "* GenAI LLM models can hallucinate not just on output of answers. They can also hallucinate the Chain of Thought (CoT) they are describing in the final answer! This is a very sneaky way of potentially providing a confident answer paired with a confident approach (Chain of Thought) that the LLM may not even be using! "
   ]
  },
  {
   "cell_type": "code",
   "execution_count": 6,
   "metadata": {
    "dotnet_interactive": {
     "language": "csharp"
    },
    "polyglot_notebook": {
     "kernelName": "csharp"
    },
    "vscode": {
     "languageId": "polyglot-notebook"
    }
   },
   "outputs": [
    {
     "name": "stdout",
     "output_type": "stream",
     "text": [
      "### Understanding the Problem:\n",
      "The farmer needs to transport a wolf, a goat, and a cabbage across a river. The boat can only carry the farmer and one item at a time. However, there are constraints:\n",
      "1. The wolf will eat the goat if left alone together.\n",
      "2. The goat will eat the cabbage if left alone together.\n",
      "The goal is to figure out a sequence of moves that ensures all three items are transported safely across the river.\n",
      "\n",
      "### Breaking Down the Reasoning Process:\n",
      "To solve this, we need to:\n",
      "1. Identify safe combinations of items that can be left together on either side of the river.\n",
      "2. Determine the sequence of trips that ensures no item is eaten.\n",
      "3. Ensure that the farmer always manages the situation to prevent any violations of the constraints.\n",
      "\n",
      "### Step-by-Step Solution:\n",
      "#### Step 1: First trip\n",
      "- The farmer takes the **goat** across the river first.\n",
      "- This is because the goat is the \"middle\" item in the chain of eating (the wolf eats the goat, and the goat eats the cabbage). Leaving the wolf and the cabbage together is safe, as they do not interact.\n",
      "\n",
      "#### Step 2: Return trip\n",
      "- The farmer goes back to the original side alone, leaving the goat on the far side of the river.\n",
      "\n",
      "#### Step 3: Second trip\n",
      "- The farmer takes the **wolf** across the river next.\n",
      "- Now the farmer has the wolf on the far side, but he cannot leave the wolf with the goat (the wolf would eat the goat).\n",
      "\n",
      "#### Step 4: Return trip with the goat\n",
      "- The farmer takes the **goat** back to the original side of the river.\n",
      "- This prevents the wolf and goat from being left together on the far side.\n",
      "\n",
      "#### Step 5: Third trip\n",
      "- The farmer takes the **cabbage** across the river.\n",
      "- Now the cabbage and the wolf are on the far side, which is safe because the wolf does not eat the cabbage.\n",
      "\n",
      "#### Step 6: Final trip\n",
      "- The farmer goes back to the original side alone and takes the **goat** across the river one last time.\n",
      "- Now all three items (wolf, goat, and cabbage) are safely on the far side of the river.\n",
      "\n",
      "### Reviewing the Thought Process:\n",
      "- At no point are the wolf and goat left alone together.\n",
      "- At no point are the goat and cabbage left alone together.\n",
      "- The sequence ensures that all items are transported safely across the river.\n",
      "\n",
      "### Final Answer:\n",
      "The sequence of moves is as follows:\n",
      "1. Take the goat across the river.\n",
      "2. Return alone to the original side.\n",
      "3. Take the wolf across the river.\n",
      "4. Return with the goat to the original side.\n",
      "5. Take the cabbage across the river.\n",
      "6. Return alone to the original side.\n",
      "7. Take the goat across the river.\n",
      "\n",
      "This ensures that all items are transported safely without any being eaten."
     ]
    }
   ],
   "source": [
    "// Set the system prompt to behave like a decision intelligence assistant (persona)\n",
    "var systemPromptChainOfThought = \"\"\"\n",
    "You are a decision intelligence assistant designed to think through problems step-by-step using Chain-of-Thought (COT) prompting. \n",
    "Before providing any answer, you must: \n",
    "Understand the Problem: Carefully read and understand the user's question or request. \n",
    "Break Down the Reasoning Process: Outline the steps required to solve the problem or respond to the request logically and sequentially. Think aloud and describe each step in detail. \n",
    "Explain Each Step: Provide reasoning or calculations for each step, explaining how you arrive at each part of your answer. \n",
    "Provide structured, logical, and comprehensive advice. \n",
    "\n",
    "Review the Thought Process: Double-check the reasoning for errors or gaps before finalizing your response. \n",
    "Always aim to make your thought process transparent and logical.\n",
    "\n",
    "Arrive at the Final Answer: Only after completing all steps, provide the final answer or solution. \n",
    "Communicate the final decision using the Minto Pyramid Principle.\n",
    "\"\"\";\n",
    "\n",
    "// Simple instruction prompt to plan retirement\n",
    "var puzzlePrompt = \"\"\"\n",
    "A farmer is on one side of a river with a wolf, a goat, and a cabbage. \n",
    "When he is crossing the river in a boat, he can only take one item with him at a time. \n",
    "The wolf will eat the goat if left alone together, and the goat will eat the cabbage if left alone together. \n",
    "How can the farmer transport the goat across the river without it being eaten?\n",
    "\"\"\";\n",
    "\n",
    "// Create a new chat history object using the new Chain of Thought system prompt\n",
    "var chatHistory = new ChatHistory();\n",
    "chatHistory.AddSystemMessage(systemPromptChainOfThought);\n",
    "chatHistory.AddUserMessage(puzzlePrompt);\n",
    "\n",
    "// Create a new OpenAI prompt execution settings object\n",
    "// Try different settings (Temperature, FrequencyPenalty etc) to see how they affect the quality of the generated text\n",
    "var openAIPromptExecutionSettings = new OpenAIPromptExecutionSettings { \n",
    "    MaxTokens = 1000, \n",
    "    Temperature = 0.3, \n",
    "    TopP = 1.0, \n",
    "    FrequencyPenalty = 0.0, \n",
    "    PresencePenalty = 0.0\n",
    "    };\n",
    "\n",
    "var decisionResponseChainOfThought = string.Empty;\n",
    "await foreach (var content in chatCompletionService.GetStreamingChatMessageContentsAsync(chatHistory, openAIPromptExecutionSettings))\n",
    "{\n",
    "    decisionResponseChainOfThought += content;\n",
    "    Console.Write(content);\n",
    "}"
   ]
  },
  {
   "cell_type": "markdown",
   "metadata": {},
   "source": [
    "The Generative AI model has generated two different decision approaches to the same retirement decision question. An LLM can be used to decide which decision answer is more thought out and why. Ideally, the evaluation should be done by another family or an LLM from a different provider, not the LLM that generated the responses.  \n",
    "\n",
    "After running the evaluation of the decision prompts below, notice the GenAI LLM model prefers the approach of the Chain of Thought (CoT) over the simple system prompt instruction.  "
   ]
  },
  {
   "cell_type": "code",
   "execution_count": 10,
   "metadata": {
    "dotnet_interactive": {
     "language": "csharp"
    },
    "polyglot_notebook": {
     "kernelName": "csharp"
    },
    "vscode": {
     "languageId": "polyglot-notebook"
    }
   },
   "outputs": [
    {
     "name": "stdout",
     "output_type": "stream",
     "text": [
      "\n",
      "\n",
      "Approach 1 Evaluation:\n",
      "----------------------\n",
      "### Evaluation of the Approaches\n",
      "\n",
      "#### Logical Reasoning of Approach:\n",
      "Both approaches demonstrate a clear understanding of the problem and constraints, and both provide a valid solution to safely transport the wolf, goat, and cabbage across the river. The reasoning in both approaches is logically sound, with no steps omitted or incorrect assumptions made. Each approach ensures that the goat is never left alone with the wolf, and the goat is never left alone with the cabbage.\n",
      "\n",
      "#### Quality of the Decision Approach:\n",
      "- **Approach 1** provides a detailed, step-by-step breakdown of the solution. It explicitly describes each trip, including the reasoning behind each decision. The explanation is clear, structured, and easy to follow. The final configuration is also summarized, reinforcing the correctness of the solution. However, it could have been slightly more concise in its explanation, as some steps are repeated unnecessarily.\n",
      "  \n",
      "- **Approach 2** also provides a step-by-step breakdown of the solution, but it begins with a more general explanation of the problem and the reasoning process before diving into the steps. This makes the approach slightly more comprehensive, as it explains the logic behind the sequence of moves before presenting the solution. The explanation is concise and well-organized, making it easy to follow. Additionally, the sequence of moves is summarized at the end, which adds clarity.\n",
      "\n",
      "### Final Scores:\n",
      "- **Approach 1:** 9/10  \n",
      "  - Strengths: Clear and detailed explanation, no logical errors, and a correct solution.  \n",
      "  - Weaknesses: Slightly repetitive in its explanation, which could make it less concise.\n",
      "\n",
      "- **Approach 2:** 10/10  \n",
      "  - Strengths: Comprehensive reasoning, concise yet detailed explanation, and a clear summary of the solution.  \n",
      "  - Weaknesses: None apparent.  \n",
      "\n",
      "### Conclusion:\n",
      "While both approaches are correct and well-reasoned, Approach 2 is slightly superior due to its balance of clarity, conciseness, and comprehensiveness.\n",
      "\n",
      "Approach 2 Evaluation:\n",
      "----------------------\n",
      "**Score: 10/10**\n",
      "\n",
      "### Evaluation:\n",
      "The approach is **comprehensive**, **clear**, and demonstrates **logical reasoning** throughout. Here's why:\n",
      "\n",
      "1. **Comprehensiveness (10/10)**:\n",
      "   - The solution carefully considers all constraints (wolf-goat and goat-cabbage interactions).\n",
      "   - It provides a step-by-step breakdown of the sequence of moves, ensuring no detail is overlooked.\n",
      "   - The reasoning behind each step is explained, leaving no ambiguity about why specific actions are taken.\n",
      "\n",
      "2. **Clarity (10/10)**:\n",
      "   - The explanation is well-structured, with clear headings and a logical flow.\n",
      "   - The use of numbered steps for the solution makes it easy to follow and understand.\n",
      "   - The summary at the end reinforces the sequence of moves and confirms the solution's correctness.\n",
      "\n",
      "3. **Logical Reasoning (10/10)**:\n",
      "   - The approach demonstrates a thorough understanding of the problem and its constraints.\n",
      "   - The sequence of moves is logically sound and ensures that no item is ever left in a dangerous pairing.\n",
      "   - The reasoning for each trip (e.g., why the goat is taken first, why the goat is brought back, etc.) is explicitly justified.\n",
      "\n",
      "### Final Remarks:\n",
      "This response effectively solves the problem while maintaining clarity and logical rigor. It leaves no room for confusion or misinterpretation, making it an excellent example of problem-solving."
     ]
    }
   ],
   "source": [
    "var systemPromptEvaluateResponses = \"\"\"\n",
    "You are an assistant that is evaluating an approach response to a question.\n",
    "You will be provided with an important decision as well as two proposed approaches.\n",
    "The two approaches are labeled \"Approach 1\" and \"Approach 2\".\n",
    "\n",
    "Compare the two approaches and evaluate them based on their: \n",
    "logical reasoning of approach and quality of the decision approach.\n",
    "\n",
    "Create a final score between 1 and 10 for each approach based on the evaluation criteria.\n",
    "\"\"\";\n",
    "\n",
    "var decisionEvaluationTemplateApproaches = $\"\"\"\n",
    "Decision Scenario: {puzzlePrompt}\n",
    "------------------------------------------------\n",
    "Approach 1: {decisionResponse} \n",
    "End of Approach 1\n",
    "------------------------------------------------\n",
    "Approach 2: {decisionResponseChainOfThought} \n",
    "End of Approach 2\n",
    "\"\"\";\n",
    "\n",
    "// Create a new chat history object using the new Chain of Thought system prompt\n",
    "var chatHistoryApproach1 = new ChatHistory();\n",
    "chatHistoryApproach1.AddSystemMessage(systemPromptEvaluateResponses);\n",
    "chatHistoryApproach1.AddUserMessage(decisionEvaluationTemplateApproaches);\n",
    "\n",
    "// Create a new OpenAI prompt execution settings object\n",
    "var openAIPromptExecutionSettings = new OpenAIPromptExecutionSettings { \n",
    "    MaxTokens = 2500, \n",
    "    Temperature = 0.3, \n",
    "    TopP = 1.0, \n",
    "    FrequencyPenalty = 0.0, \n",
    "    PresencePenalty = 0.0\n",
    "    };\n",
    "\n",
    "Console.WriteLine();\n",
    "Console.WriteLine();\n",
    "Console.WriteLine(\"Approach 1 Evaluation:\");\n",
    "Console.WriteLine(\"----------------------\");\n",
    "var evaluationResponseApproach1 = string.Empty;\n",
    "await foreach (var content in chatCompletionService.GetStreamingChatMessageContentsAsync(chatHistoryApproach1, openAIPromptExecutionSettings))\n",
    "{\n",
    "    evaluationResponseApproach1 += content;\n",
    "    Console.Write(content);\n",
    "}\n",
    "\n",
    "var evaluationResponseApproach2 = string.Empty;\n",
    "Console.WriteLine();\n",
    "Console.WriteLine();\n",
    "Console.WriteLine(\"Approach 2 Evaluation:\");\n",
    "Console.WriteLine(\"----------------------\");\n",
    "await foreach (var content in chatCompletionService.GetStreamingChatMessageContentsAsync(chatHistoryApproach2, openAIPromptExecutionSettings))\n",
    "{\n",
    "    evaluationResponseApproach2 += content;\n",
    "    Console.Write(content);\n",
    "}"
   ]
  },
  {
   "cell_type": "markdown",
   "metadata": {},
   "source": [
    "### Step 3 - Self-Consistency  "
   ]
  },
  {
   "cell_type": "markdown",
   "metadata": {},
   "source": [
    "WIP "
   ]
  }
 ],
 "metadata": {
  "kernelspec": {
   "display_name": ".NET (C#)",
   "language": "C#",
   "name": ".net-csharp"
  },
  "language_info": {
   "name": "csharp"
  },
  "polyglot_notebook": {
   "kernelInfo": {
    "defaultKernelName": "csharp",
    "items": [
     {
      "aliases": [],
      "name": "csharp"
     }
    ]
   }
  }
 },
 "nbformat": 4,
 "nbformat_minor": 2
}
