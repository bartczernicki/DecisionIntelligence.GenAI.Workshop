{
 "cells": [
  {
   "cell_type": "markdown",
   "metadata": {},
   "source": [
    "<img style=\"float: left;\" width =\"40px\" src=\"https://raw.githubusercontent.com/bartczernicki/DecisionIntelligence.GenAI.Workshop/main/Images/SemanticKernelLogo.png\">\n",
    "\n",
    "## Semantic Kernel - Open Source AI"
   ]
  },
  {
   "cell_type": "markdown",
   "metadata": {},
   "source": [
    "Decision Intelligence applied in this module:  \n",
    "* Listing factors to consider when making a decision  \n",
    "* Decision Scenario: Use a decision framework (Ben Franklin's Pro & Con List) to create a decision plan  "
   ]
  },
  {
   "cell_type": "markdown",
   "metadata": {},
   "source": [
    "A recommended enterprise pattern is to scale Articial Intelligence strategy with three key areas:\n",
    "* Commercial AI (OpenAI and other proprietary AI providers)\n",
    "* Open-Source AI (open-source AI providers)\n",
    "* Partner (Vendor) AI (i.e. company HR Software, contract software)  \n",
    "\n",
    "These three areas together strategically form AI capability and capacity in what I like to call the \"AI Brain\". This is illustrated below.\n",
    "\n",
    "<img width =\"750px\" src=\"https://raw.githubusercontent.com/bartczernicki/DecisionIntelligence.GenAI.Workshop/main/Images/AIBrainPillars.png\">\n",
    "\n",
    "Semantic Kernel embraces AI orchestration across all the pillars mentioned above. It allows all types of models (commercial or proprietary) and almost any APIs to be orchestrated to faciliate better decision intelligence."
   ]
  },
  {
   "cell_type": "markdown",
   "metadata": {},
   "source": [
    "### Step 1 - Get Started with LMStudio and Microsoft Phi-3\n",
    "\n",
    "This module highlights how to use local AI models (i.e. LLMs) with Semantic Kernel. To illustrate this the Phi-3 model is run locally using LMStudio.\n",
    "\n",
    "Steps to get started:\n",
    "* Install LMStudio: https://lmstudio.ai/ (Windows, Mac or Linux)  \n",
    "* Run the LMStudio studio application\n",
    "* In the LMStudio application, download the Phi-3-Mini model \n",
    "* Start the LMStudio Server with the Phi-3-Mini model loaded. This will start a local REST endpoint with a URI similar to http://localhost:1234 \n",
    "\n",
    "<img width =\"900px\" src=\"https://raw.githubusercontent.com/bartczernicki/DecisionIntelligence.GenAI.Workshop/main/Images/LMStudioServer.png\">"
   ]
  },
  {
   "cell_type": "markdown",
   "metadata": {},
   "source": [
    "### Step 2 - Initialize Configuration Builder & Build the Semantic Kernel Orchestration\n",
    "\n",
    "Execute the next cell to:\n",
    "* Use the Configuration Builder to use the local LMStudio Server  \n",
    "* Use the API configuration to build the Semantic Kernel orchestrator  \n",
    "* Notice there is no security being passed in and it is simply a URL"
   ]
  },
  {
   "cell_type": "code",
   "execution_count": 1,
   "metadata": {
    "dotnet_interactive": {
     "language": "csharp"
    },
    "polyglot_notebook": {
     "kernelName": "csharp"
    },
    "vscode": {
     "languageId": "polyglot-notebook"
    }
   },
   "outputs": [
    {
     "data": {
      "text/html": [
       "<div><div></div><div></div><div><strong>Installed Packages</strong><ul><li><span>Microsoft.SemanticKernel, 1.13.0</span></li></ul></div></div>"
      ]
     },
     "metadata": {},
     "output_type": "display_data"
    }
   ],
   "source": [
    "#r \"nuget: Microsoft.SemanticKernel, 1.13.0\"\n",
    "\n",
    "using Microsoft.SemanticKernel;\n",
    "using Microsoft.SemanticKernel.ChatCompletion;\n",
    "using Microsoft.SemanticKernel.Connectors.OpenAI;\n",
    "\n",
    "#pragma warning disable SKEXP0010 \n",
    "var semanticKernel = Kernel.CreateBuilder()\n",
    "    .AddOpenAIChatCompletion(\n",
    "        modelId: \"Phi-3\",\n",
    "        endpoint: new Uri(\"http://localhost:1234\"),\n",
    "        apiKey: \"LMStudio\")\n",
    "    .Build();\n",
    "#pragma warning restore SKEXP0010"
   ]
  },
  {
   "cell_type": "markdown",
   "metadata": {},
   "source": [
    "### Step 3 - Use Semantic Kernel with Open Source AI Models\n",
    "\n",
    "Semantic Kernel allows one to interact with any API service that adheres to the OpenAI specification. Notice the method to add LMStudio capability was simply enabled via the **AddOpenAIChatCompletion** method.\n",
    "\n",
    "Execute the cell below about decision factors for a investment property. Note:\n",
    "* OpenAI Prompt Execution Settings are the same in LMStudio as they are for OpenAI and Azure OpenAI\n",
    "* Passing in arguents works the same way in Semantic Kernel\n",
    "* Streaming works as well in Semantic Kernel for supported services"
   ]
  },
  {
   "cell_type": "markdown",
   "metadata": {},
   "source": [
    "> \"Don't wait to buy real estate. Buy real estate and wait.\"  \n",
    ">\n",
    "> -- <cite>Will Rodgers (American humorist, actor, and social commentator in the early 20th century)</cite>  "
   ]
  },
  {
   "cell_type": "code",
   "execution_count": 2,
   "metadata": {
    "dotnet_interactive": {
     "language": "csharp"
    },
    "polyglot_notebook": {
     "kernelName": "csharp"
    },
    "vscode": {
     "languageId": "polyglot-notebook"
    }
   },
   "outputs": [
    {
     "name": "stdout",
     "output_type": "stream",
     "text": [
      "When considering purchasing a second home for investment purposes, there are several critical factors that one must evaluate:\n",
      "\n",
      "1. Location and Market Trends: Research local real estate markets to identify areas with high demand or potential growth in property values. Consider proximity to amenities such as schools, shopping centers, transportation hubs, parks, etc., which can increase the appeal of your investment home. Analyze market trends and historical data for long-term stability.\n",
      "\n",
      "2. Budget: Determine how much you are willing or able to spend on purchasing a second property while considering all associated costs such as down payment, closing fees, taxes, insurance premiums, maintenance expenses, utilities, etc. Ensure that the investment aligns with your financial goals and risk tolerance levels.\n",
      "\n",
      "3. Rental Income Potential: Evaluate potential rental income by researching local market rates for similar properties in terms of size, location, amenities, condition, age, etc. Consider factors such as seasonality or vacancy periods that may affect your cash flow and overall return on investment (ROI).\n",
      "\n",
      "4. Property Type: Decide whether you want to purchase a single-family home, condo, townhouse, duplex, multi-unit property, or other types of real estate based on factors such as target market demographics, maintenance requirements, potential for appreciation and rental income generation.\n",
      "\n",
      "5. Legal Considerations: Familiarize yourself with local zoning laws, land use regulations, homeowner association (HOA) rules if applicable, property taxes, insurance policies, lease agreements, etc., to ensure compliance throughout your investment journey and avoid potential legal issues or disputes in the future.\n",
      "\n",
      "6. Property Management: Consider whether you will manage the rental properties yourself or hire a professional management company for tasks such as tenant screening, rent collection, maintenance requests handling, property inspections, etc., to ensure smooth operations of your investment portfolio and maximize returns on time spent managing multiple properties.\n",
      "\n",
      "7. Exit Strategy: Develop an exit strategy that outlines when you plan to sell the second home or hold it as a long-term asset based on factors such as market conditions, personal financial goals, tax implications, etc., while keeping in mind potential risks and opportunities for future growth.\n",
      "\n",
      "8. Financing Options: Explore various financing options available through banks, credit unions, private lenders or real estate investment trusts (REITs) to determine the most suitable option that aligns with your financial situation while minimizing costs such as interest rates and fees associated with borrowing money for property purchase.\n",
      "\n",
      "9. Tax Implications: Consult a tax professional regarding potential deductions, credits or exemptions available when owning an investment property in terms of mortgage interest payments, depreciation expenses, rental income reporting, etc., to optimize your overall financial outcome and minimize any unexpected liabilities during the ownership period.\n",
      "\n",
      "10. Risk Assessment: Evaluate potential risks associated with owning an investment property such as market fluctuations, vacancy periods or tenant issues that may affect cash flow negatively; consider strategies to mitigate these risks and ensure a stable return on your investment over time.\n",
      "\n",
      "By carefully considering the above factors when purchasing a second home for investment purposes, you can"
     ]
    }
   ],
   "source": [
    "// Prompting works in a very similar way to the OpenAI API\n",
    "var simplePrompt = \"\"\"\n",
    "You are planning to pruchase a secondary home as an investment property.\n",
    "What are the key factors you should consider when making this decision?\n",
    "\"\"\";\n",
    "\n",
    "// You can set the typical OpenAI settings with most open-source models\n",
    "var openAIPromptExecutionSettings = new OpenAIPromptExecutionSettings { \n",
    "    MaxTokens = 750, \n",
    "    Temperature = 0.1, \n",
    "    TopP = 1.0, \n",
    "    FrequencyPenalty = 0.0, \n",
    "    PresencePenalty = 0.0\n",
    "    };\n",
    "KernelArguments kernelArguments = new KernelArguments(openAIPromptExecutionSettings);\n",
    "\n",
    "// Most open-source GenAI moodels support streaming as well\n",
    "await foreach (var streamChunk in semanticKernel.InvokePromptStreamingAsync(simplePrompt, kernelArguments))\n",
    "{\n",
    "   Console.Write(streamChunk);\n",
    "}"
   ]
  },
  {
   "cell_type": "markdown",
   "metadata": {},
   "source": [
    "## Step 4 - Using the Ben Franklin Decision Framework to Make Great Decisions\n",
    "\n",
    "> \"By failing to prepare, you are preparing to fail.\" \n",
    ">\n",
    "> -- <cite>Ben Franklin (Founding Father of the United States, inventor, writer)</cite> \n",
    "\n",
    "<img width =\"750px\" src=\"https://raw.githubusercontent.com/bartczernicki/Articles/main/20230326-Make-Great-Decisions-Using-Ben-Franklins-Pros-And-Cons-Method/Image-BenFranklinDecisionMakingMethod.png\">\n",
    "\n",
    "\n",
    "In bullet summary, these are the steps Ben Franklin recommends when making a decision, which he called his \"Decision Making Method of Moral Algebra\":  \n",
    "- Frame a decision that has two options (Yes or a No)\n",
    "- Divide an area into two competing halves: a \"Pro\" side and \"Con\" side\n",
    "- Label the top of one side \"Pro\" (for) and the other \"Con\" (against)\n",
    "- Under each respective side, over a period of time (Ben Franklin recommended days, this could be minutes) write down various reasons/arguments that support (Pro) or are against (Con) the decision\n",
    "- After spending some time thinking exhaustively and writing down the reasons, weight the different Pro and Con reasons/arguments\n",
    "- Determine the relative importance of each reason or argument. This is done by taking reasons/arguments that are of similar value (weight) and crossing them off of the other competing half. Multiple reasons can be combined from one side to form a \"subjective\" value (weight) to balance out the other half. (For example, two medium \"Pro\" reasons might add up to an equal value of a single important \"Con\" reason)\n",
    "- The side with the most remaining reasons is the option one should select for the decision in question\n",
    "\n",
    "Learn more about Ben Franklin's Decision Framework: https://medium.com/@bartczernicki/make-great-decisions-using-ben-franklins-decision-making-method-c7fb8b17905c  "
   ]
  },
  {
   "cell_type": "code",
   "execution_count": 3,
   "metadata": {
    "dotnet_interactive": {
     "language": "csharp"
    },
    "polyglot_notebook": {
     "kernelName": "csharp"
    },
    "vscode": {
     "languageId": "polyglot-notebook"
    }
   },
   "outputs": [
    {
     "name": "stdout",
     "output_type": "stream",
     "text": [
      "To make an informed decision about taking a luxury vacation using the Ben Franklin Decision-Making Model (also known as the ABCDE method), we'll consider five key factors: Advantages, Barriers, Costs and Benefits, Duties, and Alternatives. Let’s explore each factor step by step to evaluate whether taking a luxury vacation with your family is worthwhile for you.\n",
      "\n",
      "1. **Advantages (A)** - Identify the potential benefits of going on this luxurious trip: \n",
      "   * Quality time spent together as a family, strengthening bonds and creating lasting memories;\n",
      "   * Exposure to new cultures or experiences that can broaden your horizons and perspectives;\n",
      "   * Relaxation from work-related stressors for all members of the family. \n",
      "   \n",
      "2. **Barriers (B)** - Recognize potential obstacles in taking this vacation:\n",
      "   * Financial constraints, as luxury trips can be expensive and may require saving or budgeting;\n",
      "   * Time commitments from work/school that could limit the duration of your trip; \n",
      "   * Potential disruption to daily routines during travel.\n",
      "   \n",
      "3. **Costs (C)** - Evaluate both tangible and intangible costs associated with this decision:\n",
      "   * Financial cost, including airfare, accommodation, dining expenses, activities/tours; \n",
      "   * Opportunity cost of time spent on the vacation instead of other responsibilities or leisurely pursuits at home.\n",
      "   \n",
      "4. **Benefits (D)** - Assess both tangible and intangible benefits:\n",
      "   * Enhanced family relationships, improved mental health due to relaxation; \n",
      "   * Potential for personal growth through exposure to new experiences or cultures;\n",
      "   * Increased happiness from creating shared memories.\n",
      "   \n",
      "5. **Duties (E)** - Consider your obligations and responsibilities:\n",
      "   * Work/school commitments that may require you to be away during the vacation period, such as deadlines or exams; \n",
      "   * Family duties like childcare arrangements while on holiday.\n",
      "   \n",
      "6. **Alternatives (A)** - Explore other options:\n",
      "   * A less expensive but still enjoyable family trip to a nearby destination that fits within your budget and schedule constraints, such as camping or staycations; \n",
      "   * Engaging in local activities with the family instead of traveling.\n",
      "   \n",
      "After evaluating these factors using the Ben Franklin Decision-Making Model:\n",
      "* If you find more advantages than barriers (A > B), costs are justifiable by benefits and duties align, then taking a luxury vacation could be worthwhile for your family; \n",
      "* However, if there's an imbalance in favor of the barriers or alternatives seem equally appealing with fewer drawbacks, you may want to reconsider this decision.\n",
      "   \n",
      "Remember that it is essential to weigh each factor carefully and consider all aspects before making a final choice based on what aligns best for your family's needs and circumstances."
     ]
    }
   ],
   "source": [
    "// You can also use a template to provide more context to the model combining system and user prompts\n",
    "var systemPrompt = \"\"\"\n",
    "You are a decision intelligence assistant. \n",
    "Assist the user in exploring options, reasoning through decisions, problem-solving, and applying systems thinking to various scenarios. \n",
    "Provide structured, logical, and comprehensive advice.\n",
    "\"\"\";\n",
    "var simpleDecisionPrompt = \"\"\"\n",
    "Use the Ben Franklin Decision Framework to decide whether to take a luxury vacation with the family.\n",
    "\"\"\";\n",
    "\n",
    "var simpleDecisionPromptTemplate = $\"\"\"\n",
    "{systemPrompt}\n",
    "--------------\n",
    "{simpleDecisionPrompt}\n",
    "\"\"\";\n",
    "\n",
    "await foreach (var streamChunk in semanticKernel.InvokePromptStreamingAsync(simpleDecisionPromptTemplate, kernelArguments))\n",
    "{\n",
    "   Console.Write(streamChunk);\n",
    "}"
   ]
  },
  {
   "cell_type": "markdown",
   "metadata": {},
   "source": [
    "### Step 5 - Multiple Different Service Providers\n",
    "\n",
    "Semantic Kernel can include mutliple AI service providers. This allows for hybrid workflows from a single Semantic Kernel instance like: \n",
    "* Capability Optimization. For example, using SLMs for domain specific tasks and LLMs for complex decision reasoning\n",
    "* Capacity Optimization. Splitting functions, plugins, personas or agents across different AI services\n",
    "* Use AI Service selector dynamically allocate AI service execution resources  "
   ]
  },
  {
   "cell_type": "code",
   "execution_count": 4,
   "metadata": {
    "dotnet_interactive": {
     "language": "csharp"
    },
    "polyglot_notebook": {
     "kernelName": "csharp"
    },
    "vscode": {
     "languageId": "polyglot-notebook"
    }
   },
   "outputs": [
    {
     "data": {
      "text/html": [
       "<div><div></div><div></div><div><strong>Installed Packages</strong><ul><li><span>Microsoft.Extensions.Configuration, 8.0.0</span></li><li><span>Microsoft.Extensions.Configuration.Json, 8.0.0</span></li><li><span>Microsoft.SemanticKernel, 1.13.0</span></li></ul></div></div>"
      ]
     },
     "metadata": {},
     "output_type": "display_data"
    }
   ],
   "source": [
    "// Import the required NuGet configuration packages\n",
    "#r \"nuget: Microsoft.Extensions.Configuration, 8.0.0\"\n",
    "#r \"nuget: Microsoft.Extensions.Configuration.Json, 8.0.0\"\n",
    "#r \"nuget: Microsoft.SemanticKernel, 1.13.0\"\n",
    "\n",
    "using Microsoft.Extensions.Configuration;\n",
    "using System.IO;\n",
    "using Microsoft.SemanticKernel;\n",
    "using Microsoft.SemanticKernel.ChatCompletion;\n",
    "using Microsoft.SemanticKernel.Connectors.OpenAI;\n",
    "\n",
    "// Load the configuration settings from the local.settings.json and secrets.settings.json files\n",
    "// The secrets.settings.json file is used to store sensitive information such as API keys\n",
    "var configurationBuilder = new ConfigurationBuilder()\n",
    "    .SetBasePath(Directory.GetCurrentDirectory())\n",
    "    .AddJsonFile(\"local.settings.json\", optional: true, reloadOnChange: true)\n",
    "    .AddJsonFile(\"secrets.settings.json\", optional: true, reloadOnChange: true);\n",
    "var config = configurationBuilder.Build();\n",
    "\n",
    "// Retrieve the configuration settings for the Azure OpenAI service\n",
    "var azureOpenAIEndpoint = config[\"AzureOpenAI:Endpoint\"];\n",
    "var azureOpenAIAPIKey = config[\"AzureOpenAI:APIKey\"];\n",
    "var azureOpenAIModelDeploymentName = config[\"AzureOpenAI:ModelDeploymentName\"];\n",
    "\n",
    "// Example to build a Kernel with Azure OpenAI and Opensource AI\n",
    "#pragma warning disable SKEXP0010 \n",
    "var semanticKernel = Kernel.CreateBuilder()\n",
    "    .AddAzureOpenAIChatCompletion(\n",
    "        deploymentName: azureOpenAIModelDeploymentName,\n",
    "        endpoint: azureOpenAIEndpoint,\n",
    "        apiKey: azureOpenAIAPIKey)\n",
    "    .AddOpenAIChatCompletion(\n",
    "        modelId: \"Phi-3\",\n",
    "        endpoint: new Uri(\"http://localhost:1234\"),\n",
    "        apiKey: \"LMStudio\")\n",
    "    .Build();\n",
    "#pragma warning restore SKEXP0010"
   ]
  }
 ],
 "metadata": {
  "kernelspec": {
   "display_name": ".NET (C#)",
   "language": "C#",
   "name": ".net-csharp"
  },
  "language_info": {
   "name": "csharp"
  },
  "polyglot_notebook": {
   "kernelInfo": {
    "defaultKernelName": "csharp",
    "items": [
     {
      "aliases": [],
      "name": "csharp"
     }
    ]
   }
  }
 },
 "nbformat": 4,
 "nbformat_minor": 2
}
