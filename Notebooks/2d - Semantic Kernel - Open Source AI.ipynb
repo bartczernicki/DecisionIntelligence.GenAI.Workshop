{
 "cells": [
  {
   "cell_type": "markdown",
   "metadata": {},
   "source": [
    "<img style=\"float: left;padding-right: 10px\" width =\"40px\" src=\"https://raw.githubusercontent.com/bartczernicki/DecisionIntelligence.GenAI.Workshop/main/Images/SemanticKernelLogo.png\">\n",
    "\n",
    "## Semantic Kernel - Open Source AI"
   ]
  },
  {
   "cell_type": "markdown",
   "metadata": {},
   "source": [
    "Decision Intelligence applied in this module:  \n",
    "* Listing factors to consider when making a decision  \n",
    "* Decision Scenario: Use a decision framework (Ben Franklin's Pro & Con List) to create a decision plan  "
   ]
  },
  {
   "cell_type": "markdown",
   "metadata": {},
   "source": [
    "A recommended enterprise pattern is to scale Articial Intelligence strategy with three key areas:\n",
    "* Commercial AI (OpenAI and other proprietary AI providers)\n",
    "* Open-Source AI (open-source AI providers)\n",
    "* Partner (Vendor) AI (i.e. company HR Software, contract software)  \n",
    "\n",
    "These three areas together strategically form AI capability and capacity in what I like to call the \"AI Brain\". This is illustrated below.\n",
    "\n",
    "<img width =\"750px\" src=\"https://raw.githubusercontent.com/bartczernicki/DecisionIntelligence.GenAI.Workshop/main/Images/AIBrainPillars.png\">\n",
    "\n",
    "Semantic Kernel embraces AI orchestration across all the pillars mentioned above. It allows all types of models (commercial or proprietary) and almost any APIs to be orchestrated to faciliate better decision intelligence."
   ]
  },
  {
   "cell_type": "markdown",
   "metadata": {},
   "source": [
    "### Step 1 - Get Started with LMStudio and Microsoft Phi-3\n",
    "\n",
    "This module highlights how to use local AI models (i.e. LLMs) with Semantic Kernel. To illustrate this the Phi-3 model is run locally using LMStudio.\n",
    "\n",
    "Steps to get started:\n",
    "* Install LMStudio: https://lmstudio.ai/ (Windows, Mac or Linux) \n",
    "* Run the LMStudio studio application \n",
    "* In the LMStudio application, download the Phi-3.5-Mini GGUF file. LMStudio will inspect your hardware and let you know which quantized version of the model(s) is optimal for your hardware. Note: Even computers with small graphics cards can run these models well locally. Furthermore, laptops such as the Macbook Pro with Neural Engine can run LMStudio local models as well. \n",
    "* Start the LMStudio Server with the Phi-3.5-Mini model loaded. This will start a local REST endpoint with a URI similar to http://localhost:1234/v1 \n",
    "* The LMStudio local server does not have default security, you can simply check by navigating to this link in any browser to check if a model is loaded: http://localhost:1234/v1/models \n",
    "\n",
    "<img width =\"900px\" src=\"https://raw.githubusercontent.com/bartczernicki/DecisionIntelligence.GenAI.Workshop/main/Images/LMStudioServer.png\">"
   ]
  },
  {
   "cell_type": "markdown",
   "metadata": {},
   "source": [
    "### Step 2 - Initialize Configuration Builder & Build the Semantic Kernel Orchestration\n",
    "\n",
    "Execute the next cell to:\n",
    "* Use the Configuration Builder to use the local LMStudio Server  \n",
    "* Use the API configuration to build the Semantic Kernel orchestrator  \n",
    "* Notice there is no security being passed in and it is simply a URL"
   ]
  },
  {
   "cell_type": "code",
   "execution_count": 1,
   "metadata": {
    "dotnet_interactive": {
     "language": "csharp"
    },
    "polyglot_notebook": {
     "kernelName": "csharp"
    },
    "vscode": {
     "languageId": "polyglot-notebook"
    }
   },
   "outputs": [
    {
     "data": {
      "text/html": [
       "<div><div></div><div></div><div><strong>Installed Packages</strong><ul><li><span>Microsoft.SemanticKernel, 1.20.0</span></li></ul></div></div>"
      ]
     },
     "metadata": {},
     "output_type": "display_data"
    }
   ],
   "source": [
    "#r \"nuget: Microsoft.SemanticKernel, 1.20.0\"\n",
    "\n",
    "using Microsoft.SemanticKernel;\n",
    "using Microsoft.SemanticKernel.ChatCompletion;\n",
    "using Microsoft.SemanticKernel.Connectors.OpenAI;\n",
    "\n",
    "#pragma warning disable SKEXP0010 \n",
    "var semanticKernel = Kernel.CreateBuilder()\n",
    "    .AddOpenAIChatCompletion(\n",
    "        modelId: \"lmstudio-community/Phi-3.5-mini-instruct-GGUF\",\n",
    "        endpoint: new Uri(\"http://localhost:1234/v1/\"),\n",
    "        apiKey: null)\n",
    "    .Build();\n",
    "#pragma warning restore SKEXP0010"
   ]
  },
  {
   "cell_type": "markdown",
   "metadata": {},
   "source": [
    "### Step 3 - Use Semantic Kernel with Open Source AI Models\n",
    "\n",
    "Semantic Kernel allows one to interact with any API service that adheres to the OpenAI specification. Notice the method to add LMStudio capability was simply enabled via the **AddOpenAIChatCompletion** method.\n",
    "\n",
    "Execute the cell below about decision factors for a investment property. Note:\n",
    "* OpenAI Prompt Execution Settings are the same in LMStudio as they are for OpenAI and Azure OpenAI\n",
    "* Passing in arguents works the same way in Semantic Kernel\n",
    "* Streaming works as well in Semantic Kernel for supported services"
   ]
  },
  {
   "cell_type": "markdown",
   "metadata": {},
   "source": [
    "> \"Don't wait to buy real estate. Buy real estate and wait.\"  \n",
    ">\n",
    "> -- <cite>Will Rodgers (American humorist, actor, and social commentator in the early 20th century)</cite>  "
   ]
  },
  {
   "cell_type": "code",
   "execution_count": 2,
   "metadata": {
    "dotnet_interactive": {
     "language": "csharp"
    },
    "polyglot_notebook": {
     "kernelName": "csharp"
    },
    "vscode": {
     "languageId": "polyglot-notebook"
    }
   },
   "outputs": [
    {
     "name": "stdout",
     "output_type": "stream",
     "text": [
      "When considering purchasing a secondary home as an investment property, there are several key factors to evaluate in order to ensure that your decision is sound:\n",
      "\n",
      "1. Location Assessment: The location of the potential rental property plays a crucial role in determining its profitability and long-term value appreciation. Here's what you should consider when assessing different locations: \n",
      "   - Demographics: Research demographic trends, such as population growth or decline, age distribution, income levels, education level, etc., to determine the demand for rental properties in that area.\n",
      "   \n",
      "   - Employment opportunities and economic stability: Look at job availability, industry diversity, average wages, unemployment rates, and overall economic health of a region or city as these factors can impact tenant affordability and vacancy rate over time. \n",
      "    \n",
      "   - Accessibility to amenities such as schools, hospitals, shopping centers, public transportation systems: These features make the property more attractive for potential renters who value convenience in their daily lives.\n",
      "   \n",
      "2. Potential Rental Income Evaluation: To determine if a rental income is profitable and sustainable over time, consider these factors when evaluating properties: \n",
      "   - Market research on comparable property prices to estimate the potential rent price for your investment home based on size, location, amenities offered. Use online resources such as Zillow or Trulia that provide rental estimates by zip code and neighborhoods in real-time data analysis tools like Rentometer\n",
      "   \n",
      "   - Calculate expenses associated with owning the property including mortgage payments (if applicable), insurance, taxes, maintenance costs, utilities, landlord fees or management services. Subtract these from your estimated rental income to determine net operating profit after all necessary deductions have been made\n",
      "   \n",
      "   - Consider vacancy rates in the area and potential for seasonal fluctuations that may affect occupancy levels throughout different times of year \n",
      "    \n",
      "3. Financing Options: When evaluating financing options, consider these factors to ensure you choose a suitable loan structure based on your investment goals:\n",
      "   - Mortgage rates available in the current market and how they compare with historical averages for similar properties or types (e.g., single-family homes vs multi-unit buildings) \n",
      "   \n",
      "   - Loan terms, including down payment requirements, interest rate type (fixed/variable), amortization period length etc.; these factors will impact your monthly payments and overall cost of borrowing over time\n",
      "    \n",
      "4. Long Term Property Value: To assess the potential for long-term property value appreciation or depreciation in a given area consider these criteria when evaluating investment properties: \n",
      "   - Historical trends on home price growth rates within that region/city compared to national averages; this can help you understand whether it's likely your rental income will increase over time due to rising property values.\n",
      "   \n",
      "   - Future development plans for the area such as new infrastructure projects, zoning changes or planned commercial developments which could positively impact demand and drive up prices in that neighborhood \n",
      "    \n",
      "5. Associated Risks: Finally, it's essential not only to consider potential rewards but also associated risks when evaluating an investment property purchase decision such as these factors:  \n",
      "    - Tenant turnover rates which can affect your cash flow and increase vacancy periods"
     ]
    }
   ],
   "source": [
    "// Prompting works in a very similar way to the OpenAI API\n",
    "\n",
    "// Create decision intelligence prompt on the topic of purchasing a secondary home as an investment property\n",
    "// Provide detailed decision-making criteria for evaluating the investment decision\n",
    "var simplePrompt = \"\"\"\n",
    "You are considering purchasing a secondary home as an investment property. \n",
    "\n",
    "What key factors should you evaluate to ensure a sound investment decision, including financial, market, and property-specific considerations? \n",
    "Outline the critical steps and criteria for assessing location, potential rental income, financing options, long-term property value, and associated risks.\n",
    "\"\"\";\n",
    "\n",
    "// You can set the typical OpenAI settings with most open-source models\n",
    "var openAIPromptExecutionSettings = new OpenAIPromptExecutionSettings { \n",
    "    MaxTokens = 750, \n",
    "    Temperature = 0.1, \n",
    "    TopP = 1.0, \n",
    "    FrequencyPenalty = 0.0, \n",
    "    PresencePenalty = 0.0\n",
    "    };\n",
    "KernelArguments kernelArguments = new KernelArguments(openAIPromptExecutionSettings);\n",
    "\n",
    "// Most open-source GenAI moodels support streaming as well\n",
    "await foreach (var streamChunk in semanticKernel.InvokePromptStreamingAsync(simplePrompt, kernelArguments))\n",
    "{\n",
    "   Console.Write(streamChunk);\n",
    "}"
   ]
  },
  {
   "cell_type": "markdown",
   "metadata": {},
   "source": [
    "## Step 4 - Using the Ben Franklin Decision Framework to Make Great Decisions\n",
    "\n",
    "> \"By failing to prepare, you are preparing to fail.\" \n",
    ">\n",
    "> -- <cite>Ben Franklin (Founding Father of the United States, inventor, writer)</cite> \n",
    "\n",
    "<img width =\"750px\" src=\"https://raw.githubusercontent.com/bartczernicki/Articles/main/20230326-Make-Great-Decisions-Using-Ben-Franklins-Pros-And-Cons-Method/Image-BenFranklinDecisionMakingMethod.png\">\n",
    "\n",
    "\n",
    "Below are the steps Ben Franklin recommends when making a decision, which he called his \"Decision Making Method of Moral Algebra\":  \n",
    "- Frame a decision that has two options (Yes or a No)\n",
    "- Divide an area into two competing halves: a \"Pro\" side and \"Con\" side\n",
    "- Label the top of one side \"Pro\" (for) and the other \"Con\" (against)\n",
    "- Under each respective side, over a period of time (Ben Franklin recommended days, this could be minutes) write down various reasons/arguments that support (Pro) or are against (Con) the decision\n",
    "- After spending some time thinking exhaustively and writing down the reasons, weight the different Pro and Con reasons/arguments\n",
    "- Determine the relative importance of each reason or argument. This is done by taking reasons/arguments that are of similar value (weight) and crossing them off of the other competing half. Multiple reasons can be combined from one side to form a \"subjective\" value (weight) to balance out the other half. (For example, two medium \"Pro\" reasons might add up to an equal value of a single important \"Con\" reason)\n",
    "- The side with the most remaining reasons is the option one should select for the decision in question\n",
    "\n",
    "Learn more about Ben Franklin's Decision Framework: https://medium.com/@bartczernicki/make-great-decisions-using-ben-franklins-decision-making-method-c7fb8b17905c  "
   ]
  },
  {
   "cell_type": "code",
   "execution_count": 3,
   "metadata": {
    "dotnet_interactive": {
     "language": "csharp"
    },
    "polyglot_notebook": {
     "kernelName": "csharp"
    },
    "vscode": {
     "languageId": "polyglot-notebook"
    }
   },
   "outputs": [
    {
     "name": "stdout",
     "output_type": "stream",
     "text": [
      "To apply Benjamin Franklin's Decision-Making Framework for evaluating if you should go on a luxury family vacation, we can break down his approach into several steps:\n",
      "\n",
      "1. **Define the Objective**  \n",
      "Firstly, clarify what your ultimate goal is with this decision – Is it to create lasting memories and strengthen bonds within the family? Or perhaps you're aiming for relaxation or personal growth through new experiences? Clear objectives will guide all subsequent steps. \n",
      "\n",
      "2. **Identify Alternatives**  \n",
      "Next, list out potential vacation options that could meet your objective: a luxury cruise in Europe, an exotic island getaway with private villas and spa treatments or perhaps exploring cultural landmarks within the country through guided tours? Consider various factors such as cost, travel time, activities available for all family members (including children), safety concerns etc.\n",
      "\n",
      "3. **Weigh Pros & Cons**  \n",
      "For each alternative: \n",
      "- Luxury cruise in Europe - *Pros* could include diverse destinations within a single trip; cultural exposure and relaxation onboard, while the cons might be high cost (including airfare), potential jet lag from long flights.   \n",
      "- Exotic island getaway with private villas – Pros: privacy for families to enjoy their own space without distractions or crowds; luxurious accommodations that could enhance relaxation and comfort, while cons might include high cost (including airfare), potential travel restrictions due to health concerns.\n",
      "- Guided tours within the country - *Pros* can be lower costs compared with international options, opportunities for educational experiences tailored towards children; however, it may lack variety in terms of scenery and activities that a luxury vacation typically offers (cons). \n",
      "\n",
      "4. **Consider Consequences**  \n",
      "Reflect on the potential outcomes: Will this trip bring you closer as family members? Could there be financial strain or debt accumulation due to high costs, which might affect your long-term goals and stability? Consider also any possible negative consequences such as missing work/school for extended periods. \n",
      "\n",
      "5. **Make a Decision**  \n",
      "Based on the analysis above: if creating lasting memories with family is paramount but budget constraints are tight - perhaps opt for guided tours within your country, which offer educational experiences and bond-building opportunities at lower costs than international luxury vacations; or consider planning multiple shorter trips over time to gradually build up a larger fund.\n",
      "If relaxation/cultural exposure is more important but you have the financial means - then perhaps choose between an exotic island getaway with private villas and a European cruise, weighing factors such as travel restrictions or jet lag concerns against these benefits respectively; remember to consider how each option aligns best with your family's interests.\n",
      "6. **Review & Reflect**  \n",
      "After making the decision: reflect on whether it met expectations - did you create lasting memories, strengthen bonds within the family? Did any unforeseen challenges arise during planning or execution of this vacation that could be addressed in future decisions; use these insights to refine your approach for next time.\n",
      "7. **Iterate**  \n",
      "If necessary - revisit steps 2-6 and adjust alternatives, weigh pros & cons based on new information gathered from the experience (e.g., if you found that"
     ]
    }
   ],
   "source": [
    "// You can also use a template to provide more context to the model combining system and user prompts\n",
    "var systemPrompt = \"\"\"\n",
    "You are a decision intelligence assistant. \n",
    "Your role is to guide users in exploring options, analyzing decisions, solving complex problems, and applying systems thinking to diverse scenarios. \n",
    "Provide structured, logical, and comprehensive advice, ensuring clarity, depth, and actionable insights to support informed decision-making.\n",
    "\"\"\";\n",
    "var simpleDecisionPrompt = \"\"\"\n",
    "Apply the Ben Franklin Decision-Making Framework to evaluate whether or not to take a luxury family vacation. \n",
    "\"\"\";\n",
    "\n",
    "var simpleDecisionPromptTemplate = $\"\"\"\n",
    "{systemPrompt}\n",
    "--------------\n",
    "{simpleDecisionPrompt}\n",
    "\"\"\";\n",
    "\n",
    "await foreach (var streamChunk in semanticKernel.InvokePromptStreamingAsync(simpleDecisionPromptTemplate, kernelArguments))\n",
    "{\n",
    "   Console.Write(streamChunk);\n",
    "}"
   ]
  },
  {
   "cell_type": "markdown",
   "metadata": {},
   "source": [
    "### Step 5 - Multiple Different Service Providers\n",
    "\n",
    "Semantic Kernel can include mutliple AI service providers. This allows for hybrid workflows from a single Semantic Kernel instance like: \n",
    "* Capability Optimization. For example, using SLMs for domain specific tasks and LLMs for complex decision reasoning\n",
    "* Capacity Optimization. Splitting functions, plugins, personas or agents across different AI services\n",
    "* Use AI Service selector dynamically allocate AI service execution resources  "
   ]
  },
  {
   "cell_type": "code",
   "execution_count": 4,
   "metadata": {
    "dotnet_interactive": {
     "language": "csharp"
    },
    "polyglot_notebook": {
     "kernelName": "csharp"
    },
    "vscode": {
     "languageId": "polyglot-notebook"
    }
   },
   "outputs": [
    {
     "data": {
      "text/html": [
       "<div><div></div><div></div><div><strong>Installed Packages</strong><ul><li><span>Microsoft.Extensions.Configuration, 8.0.0</span></li><li><span>Microsoft.Extensions.Configuration.Json, 8.0.0</span></li><li><span>Microsoft.SemanticKernel, 1.20.0</span></li></ul></div></div>"
      ]
     },
     "metadata": {},
     "output_type": "display_data"
    }
   ],
   "source": [
    "// Import the required NuGet configuration packages\n",
    "#r \"nuget: Microsoft.Extensions.Configuration, 8.0.0\"\n",
    "#r \"nuget: Microsoft.Extensions.Configuration.Json, 8.0.0\"\n",
    "#r \"nuget: Microsoft.SemanticKernel, 1.20.0\"\n",
    "\n",
    "using Microsoft.Extensions.Configuration;\n",
    "using System.IO;\n",
    "using Microsoft.SemanticKernel;\n",
    "using Microsoft.SemanticKernel.ChatCompletion;\n",
    "using Microsoft.SemanticKernel.Connectors.OpenAI;\n",
    "\n",
    "// Load the configuration settings from the local.settings.json and secrets.settings.json files\n",
    "// The secrets.settings.json file is used to store sensitive information such as API keys\n",
    "var configurationBuilder = new ConfigurationBuilder()\n",
    "    .SetBasePath(Directory.GetCurrentDirectory())\n",
    "    .AddJsonFile(\"local.settings.json\", optional: true, reloadOnChange: true)\n",
    "    .AddJsonFile(\"secrets.settings.json\", optional: true, reloadOnChange: true);\n",
    "var config = configurationBuilder.Build();\n",
    "\n",
    "// Retrieve the configuration settings for the Azure OpenAI service\n",
    "var azureOpenAIEndpoint = config[\"AzureOpenAI:Endpoint\"];\n",
    "var azureOpenAIAPIKey = config[\"AzureOpenAI:APIKey\"];\n",
    "var azureOpenAIModelDeploymentName = config[\"AzureOpenAI:ModelDeploymentName\"];\n",
    "\n",
    "// Example to build a Kernel with Azure OpenAI and Opensource AI\n",
    "#pragma warning disable SKEXP0010 \n",
    "var semanticKernel = Kernel.CreateBuilder()\n",
    "    .AddAzureOpenAIChatCompletion(\n",
    "        deploymentName: azureOpenAIModelDeploymentName,\n",
    "        endpoint: azureOpenAIEndpoint,\n",
    "        apiKey: azureOpenAIAPIKey)\n",
    "    .AddOpenAIChatCompletion(\n",
    "        modelId: \"Phi-3\",\n",
    "        endpoint: new Uri(\"http://localhost:1234/v1/\"),\n",
    "        apiKey: \"LMStudio\")\n",
    "    .Build();\n",
    "#pragma warning restore SKEXP0010"
   ]
  }
 ],
 "metadata": {
  "kernelspec": {
   "display_name": ".NET (C#)",
   "language": "C#",
   "name": ".net-csharp"
  },
  "language_info": {
   "name": "csharp"
  },
  "polyglot_notebook": {
   "kernelInfo": {
    "defaultKernelName": "csharp",
    "items": [
     {
      "aliases": [],
      "name": "csharp"
     }
    ]
   }
  }
 },
 "nbformat": 4,
 "nbformat_minor": 2
}
