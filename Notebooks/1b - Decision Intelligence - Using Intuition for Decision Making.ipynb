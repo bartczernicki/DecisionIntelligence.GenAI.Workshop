{
 "cells": [
  {
   "cell_type": "markdown",
   "metadata": {},
   "source": [
    "<img style=\"float: left;\" width =\"40px\" src=\"https://raw.githubusercontent.com/bartczernicki/DecisionIntelligence.GenAI.Workshop/main/Images/SemanticKernelLogo.png\">\n",
    "\n",
    "## Decision Intelligence - Using Intuition for Decision Making"
   ]
  },
  {
   "cell_type": "markdown",
   "metadata": {},
   "source": [
    "> \"All of my best decisions in business and in life have been made with heart, intuition, guts... not analysis. \n",
    "> When you can make a decision with analysis, you should do so. But it turns out, in life, your most important\n",
    "> decisions are always made with instinct, intuition, taste, heart.\"\n",
    ">\n",
    "> -- <cite>Jeff Bezos (founder of Amazon, Space Entrepreneur)</cite>  "
   ]
  },
  {
   "cell_type": "markdown",
   "metadata": {},
   "source": [
    "The above quote from Jeff Bezos above underscores the balance between data-driven decision-making and the role of intuition and instinct in navigating complex or uncertain situations. Intuition is usually how many people start making decisions. \n",
    "\n",
    "**What is intuition? Intuition is best described as the ability to understand something immediately, without the need for conscious reasoning.** It's based on patterns and experiences that the brain has internalized over time. Intuitive judgments can be rapid and efficient, drawing on a wealth of experience & knowledge. Therefore, intuition can be a highly effective decision-making tool by people who are highly experienced. For example, a basketaball coach for 20 years has probably experienced similar patterns in basketball scenarios allowing the coach to make immediate decisions for his team impacting a game in real-time. Therefore, intuition is a highly effective ability when decision-making needs to be as quick as possible and you have the eperience to recognize patterns very quickly.  \n",
    "\n",
    "When is intuition not great tool? \n",
    "* When one is presented with a great deal of supporting data\n",
    "* There is time to improve the quality of the decision\n",
    "* When the situation is \"new\" and past experience can't be relied on\n",
    "\n",
    "In the cases listed above intuition can be unreliable. Therefore, there are much better decision intelligence options than intuition if you have the time, the data or can't draw on experience.  \n",
    "\n",
    "In the context of this workshop, intuition is basically allowing the Generative AI model make a decision from it's own knowledge & patterns it has learned from the mountains of trained data. You may trust an AI system to recommend a path for your next roadtrip (using GPS and AI), filter spam in your e-mail (using AI security)...but not for making high-stakes decisions without specific instructions, knowledge or guardrails. \n",
    "\n",
    "If you send a basic prompt to a GenAI model you are entrusting the GenAI's intuition (it's knowledge, pattern recognition and experience it has learned). The more basic the prompt and less specific the instruction, the more you are entrusting GenAI's intuition and learned pattern discovery. Therefore, in order to get the most decison-making capability from GenAI LLMs, one needs to apply more decision-making tools.  "
   ]
  }
 ],
 "metadata": {
  "language_info": {
   "name": "python"
  }
 },
 "nbformat": 4,
 "nbformat_minor": 2
}
