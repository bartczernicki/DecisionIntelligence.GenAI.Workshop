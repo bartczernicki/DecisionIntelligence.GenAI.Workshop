{
 "cells": [
  {
   "cell_type": "markdown",
   "metadata": {},
   "source": [
    "<img style=\"float: left;padding-right: 10px\" width =\"40px\" src=\"https://raw.githubusercontent.com/bartczernicki/DecisionIntelligence.GenAI.Workshop/main/Images/SemanticKernelLogo.png\">\n",
    "\n",
    "## Semantic Kernel - Chat Completion for Decisions "
   ]
  },
  {
   "cell_type": "markdown",
   "metadata": {},
   "source": [
    "Decision Intelligence applied in this module:  \n",
    "* Listing of various decision-making frameworks and with their descriptions by using Chat Completion  \n",
    "* Decision Scenario: Recommendation of a decision-making framework for specific higher-stakes decisions (purchase of a car)  \n",
    "* Illustrating a domain specific decision-making framework (millitary intelligence)  \n"
   ]
  },
  {
   "cell_type": "markdown",
   "metadata": {},
   "source": [
    "In this module, the Semantic Kernel ability to create a chat experience will be introduced. This is a much richer experience than just sending simple prompts that are stateless and context is forgotten.\n",
    "\n",
    "Semantic Kernel has first-class support for chat scenarios, where the user talks back and forth with the LLM, the arguments get populated with the history of the conversation. During each new run of the kernel, the arguments will be provided to the AI with content. This allows the LLM to know the historical context of the conversation."
   ]
  },
  {
   "cell_type": "markdown",
   "metadata": {},
   "source": [
    "### Step 1 - Initialize Configuration Builder & Build the Semantic Kernel Orchestration"
   ]
  },
  {
   "cell_type": "markdown",
   "metadata": {},
   "source": [
    "Execute the next two cells to:\n",
    "* Use the Configuration Builder to load the API secrets.  \n",
    "* Use the API configuration to build the Semantic Kernel orchestrator."
   ]
  },
  {
   "cell_type": "code",
   "execution_count": 1,
   "metadata": {
    "dotnet_interactive": {
     "language": "csharp"
    },
    "polyglot_notebook": {
     "kernelName": "csharp"
    },
    "vscode": {
     "languageId": "polyglot-notebook"
    }
   },
   "outputs": [
    {
     "data": {
      "text/html": [
       "<div><div></div><div></div><div><strong>Installed Packages</strong><ul><li><span>Microsoft.Extensions.Configuration, 8.0.0</span></li><li><span>Microsoft.Extensions.Configuration.Json, 8.0.0</span></li></ul></div></div>"
      ]
     },
     "metadata": {},
     "output_type": "display_data"
    }
   ],
   "source": [
    "// Import the required NuGet configuration packages\n",
    "#r \"nuget: Microsoft.Extensions.Configuration, 8.0.0\"\n",
    "#r \"nuget: Microsoft.Extensions.Configuration.Json, 8.0.0\"\n",
    "\n",
    "using Microsoft.Extensions.Configuration;\n",
    "using System.IO;\n",
    "\n",
    "// Load the configuration settings from the local.settings.json and secrets.settings.json files\n",
    "// The secrets.settings.json file is used to store sensitive information such as API keys\n",
    "var configurationBuilder = new ConfigurationBuilder()\n",
    "    .SetBasePath(Directory.GetCurrentDirectory())\n",
    "    .AddJsonFile(\"local.settings.json\", optional: true, reloadOnChange: true)\n",
    "    .AddJsonFile(\"secrets.settings.json\", optional: true, reloadOnChange: true);\n",
    "var config = configurationBuilder.Build();\n",
    "\n",
    "// IMPORTANT: You ONLY NEED either Azure OpenAI or OpenAI connectiopn info, not both.\n",
    "// Azure OpenAI Connection Info\n",
    "var azureOpenAIEndpoint = config[\"AzureOpenAI:Endpoint\"];\n",
    "var azureOpenAIAPIKey = config[\"AzureOpenAI:APIKey\"];\n",
    "var azureOpenAIModelDeploymentName = config[\"AzureOpenAI:ModelDeploymentName\"];\n",
    "// OpenAI Connection Info \n",
    "var openAIAPIKey = config[\"OpenAI:APIKey\"];\n",
    "var openAIModelId = config[\"OpenAI:ModelId\"];"
   ]
  },
  {
   "cell_type": "code",
   "execution_count": 2,
   "metadata": {
    "dotnet_interactive": {
     "language": "csharp"
    },
    "polyglot_notebook": {
     "kernelName": "csharp"
    },
    "vscode": {
     "languageId": "polyglot-notebook"
    }
   },
   "outputs": [
    {
     "data": {
      "text/html": [
       "<div><div></div><div></div><div><strong>Installed Packages</strong><ul><li><span>Microsoft.Extensions.DependencyInjection, 8.0.0</span></li><li><span>Microsoft.SemanticKernel, 1.20.0</span></li></ul></div></div>"
      ]
     },
     "metadata": {},
     "output_type": "display_data"
    },
    {
     "name": "stdout",
     "output_type": "stream",
     "text": [
      "Using Azure OpenAI Service\n"
     ]
    }
   ],
   "source": [
    "// Install the required NuGet packages\n",
    "// Note: This also installs the Dependency Injection Package to retrieve the ChatCompletionService\n",
    "#r \"nuget: Microsoft.Extensions.DependencyInjection, 8.0.0\"\n",
    "#r \"nuget: Microsoft.SemanticKernel, 1.20.0\"\n",
    "\n",
    "using Microsoft.Extensions.DependencyInjection;\n",
    "using Microsoft.SemanticKernel;\n",
    "using Microsoft.SemanticKernel.ChatCompletion;\n",
    "using Microsoft.SemanticKernel.Connectors.OpenAI;\n",
    "\n",
    "Kernel semanticKernel;\n",
    "\n",
    "// Set the flag to use Azure OpenAI or OpenAI. False to use OpenAI, True to use Azure OpenAI\n",
    "var useAzureOpenAI = true;\n",
    "\n",
    "// Create a new Semantic Kernel instance\n",
    "if (useAzureOpenAI)\n",
    "{\n",
    "    Console.WriteLine(\"Using Azure OpenAI Service\");\n",
    "    semanticKernel = Kernel.CreateBuilder()\n",
    "        .AddAzureOpenAIChatCompletion(\n",
    "            deploymentName: azureOpenAIModelDeploymentName,\n",
    "            endpoint: azureOpenAIEndpoint,\n",
    "            apiKey: azureOpenAIAPIKey)\n",
    "        .Build();\n",
    "}\n",
    "else\n",
    "{\n",
    "    Console.WriteLine(\"Using OpenAI Service\");\n",
    "    semanticKernel = Kernel.CreateBuilder()\n",
    "        .AddOpenAIChatCompletion(\n",
    "            modelId: openAIModelId,\n",
    "            apiKey: openAIAPIKey)\n",
    "        .Build();\n",
    "}\n",
    "\n",
    "var chatCompletionService = semanticKernel.Services.GetRequiredService<IChatCompletionService>();"
   ]
  },
  {
   "cell_type": "markdown",
   "metadata": {},
   "source": [
    "### Step 2 - Execute Chat Completion with Prompt Execution Settings "
   ]
  },
  {
   "cell_type": "markdown",
   "metadata": {},
   "source": [
    "> \"If you can’t describe what you are doing as a process, you don’t know what you’re doing.\" \n",
    ">\n",
    "> -- <cite>W. Edwards Deming (renowned American engineer, statistician, and management consultant)</cite>  \n",
    "\n",
    "\n",
    "Using the Semantic Kernel ChatCompletion service is very similar to inovoking a prompt for basic LLM interactions. The chat completion service will provide very similar results to invoking the prompt directly."
   ]
  },
  {
   "cell_type": "code",
   "execution_count": 4,
   "metadata": {
    "dotnet_interactive": {
     "language": "csharp"
    },
    "polyglot_notebook": {
     "kernelName": "csharp"
    },
    "vscode": {
     "languageId": "polyglot-notebook"
    }
   },
   "outputs": [
    {
     "name": "stdout",
     "output_type": "stream",
     "text": [
      "Certainly! Here is a list of decision frameworks that can help improve the quality of decisions:\n",
      "\n",
      "1. **SWOT Analysis**:\n",
      "   - **Strengths**: Identify internal strengths.\n",
      "   - **Weaknesses**: Identify internal weaknesses.\n",
      "   - **Opportunities**: Identify external opportunities.\n",
      "   - **Threats**: Identify external threats.\n",
      "\n",
      "2. **PEST Analysis**:\n",
      "   - **Political**: Consider political factors.\n",
      "   - **Economic**: Consider economic factors.\n",
      "   - **Social**: Consider social factors.\n",
      "   - **Technological**: Consider technological factors.\n",
      "\n",
      "3. **Decision Matrix (Weighted Scoring Model)**:\n",
      "   - List options and criteria.\n",
      "   - Assign weights to criteria based on importance.\n",
      "   - Score each option against each criterion.\n",
      "   - Calculate weighted scores to determine the best option.\n",
      "\n",
      "4. **Cost-Benefit Analysis**:\n",
      "   - Identify all costs and benefits associated with each option.\n",
      "   - Quantify costs and benefits in monetary terms.\n",
      "   - Compare the total costs and benefits to determine the most advantageous option.\n",
      "\n",
      "5. **Six Thinking Hats** (Edward de Bono):\n",
      "   - **White Hat**: Focus on data and information.\n",
      "   - **Red Hat**: Consider emotions and feelings.\n",
      "   - **Black Hat**: Identify potential problems and risks.\n",
      "   - **Yellow Hat**: Focus on positive aspects and benefits.\n",
      "   - **Green Hat**: Encourage creativity and new ideas.\n",
      "   - **Blue Hat**: Manage the thinking process and ensure all hats are used.\n",
      "\n",
      "6. **Pros and Cons List**:\n",
      "   - List the advantages (pros) and disadvantages (cons) of each option.\n",
      "   - Compare the lists to make a balanced decision.\n",
      "\n",
      "7. **Pareto Analysis (80/20 Rule)**:\n",
      "   - Identify the key factors that will have the most significant impact.\n",
      "   - Focus on the 20% of factors that will produce 80% of the results.\n",
      "\n",
      "8. **OODA Loop (Boyd's Cycle)**:\n",
      "   - **Observe**: Gather information.\n",
      "   - **Orient**: Analyze the information and develop a situational understanding.\n",
      "   - **Decide**: Make a decision based on the analysis.\n",
      "   - **Act**: Implement the decision.\n",
      "\n",
      "9. **Kepner-Tregoe Decision Analysis**:\n",
      "   - Define the decision to be made.\n",
      "   - Identify and prioritize objectives.\n",
      "   - Generate alternatives.\n",
      "   - Evaluate alternatives against objectives.\n",
      "   - Make a decision and develop a plan for implementation.\n",
      "\n",
      "10. **Vroom-Yetton-Jago Decision Model**:\n",
      "    - Determine the level of involvement needed from team members.\n",
      "    - Use a series of questions to decide on the best decision-making approach (autocratic, consultative, group-based).\n",
      "\n",
      "11. **Rational Decision-Making Model**:\n",
      "    - Define the problem.\n",
      "    - Identify decision criteria.\n",
      "    - Weigh the criteria.\n",
      "    - Generate alternatives.\n",
      "    - Evaluate alternatives.\n",
      "    - Choose the best alternative.\n",
      "    - Implement the decision.\n",
      "    - Monitor and evaluate the decision.\n",
      "\n",
      "12. **Analytic Hierarchy Process (AHP)**:\n",
      "    - Break down the decision into a hierarchy of sub-problems.\n",
      "    - Compare elements pairwise to establish priorities.\n",
      "    - Synthesize the results to determine the best option.\n",
      "\n",
      "13. **Monte Carlo Simulation**:\n",
      "    - Use random sampling and statistical modeling to estimate the probability of different outcomes.\n",
      "    - Analyze the impact of risk and uncertainty in decision-making.\n",
      "\n",
      "14. **Scenario Planning**:\n",
      "    - Develop multiple scenarios based on different assumptions about the future.\n",
      "    - Analyze the implications of each scenario.\n",
      "    - Develop strategies that are robust across different scenarios.\n",
      "\n",
      "15. **FMEA (Failure Modes and Effects Analysis)**:\n",
      "    - Identify potential failure modes.\n",
      "    - Assess the impact, likelihood, and detectability of each failure mode.\n",
      "    - Prioritize actions to mitigate the most critical risks.\n",
      "\n",
      "These frameworks can be used individually or in combination to enhance the decision-making process, ensuring that decisions are well-informed, balanced, and aligned with organizational goals.\n"
     ]
    }
   ],
   "source": [
    "// Simple prompt to list some decision frameworks this GenAI LLM is familiar with \n",
    "// LLMs are trained on a diverse range of data and can provide insights on a wide range of topics like decision frameworks\n",
    "// SLMS (smaller LLMs) are trained on a more specific range of data and may not provide insights on all topics\n",
    "var simpleDecisionPrompt = \"\"\"\n",
    "Provide a list of decision frameworks that can help improve the quality of decisions.\n",
    "\"\"\";\n",
    "\n",
    "// Create a new OpenAI prompt execution settings object\n",
    "var openAIPromptExecutionSettings = new OpenAIPromptExecutionSettings { \n",
    "    MaxTokens = 1000, \n",
    "    Temperature = 0.1, \n",
    "    TopP = 1.0, \n",
    "    FrequencyPenalty = 0.0, \n",
    "    PresencePenalty = 0.0\n",
    "    };\n",
    "\n",
    "var chatResult = await chatCompletionService.GetChatMessageContentAsync(simpleDecisionPrompt, openAIPromptExecutionSettings);\n",
    "\n",
    "Console.WriteLine(chatResult.Content);"
   ]
  },
  {
   "cell_type": "markdown",
   "metadata": {},
   "source": [
    "### Step 3 - Execute Chat Completion with Streaming "
   ]
  },
  {
   "cell_type": "markdown",
   "metadata": {},
   "source": [
    "Semantic Kernel supports prompt response streaming in the ChatCompletionService. This allows responses to be streamed to the client as soon as they are made available by the LLM and API services. Below the same decision prompt is executed. However, notice that chunks are streamed and can be read by the user as soon as they appear. "
   ]
  },
  {
   "cell_type": "code",
   "execution_count": 5,
   "metadata": {
    "dotnet_interactive": {
     "language": "csharp"
    },
    "polyglot_notebook": {
     "kernelName": "csharp"
    },
    "vscode": {
     "languageId": "polyglot-notebook"
    }
   },
   "outputs": [
    {
     "name": "stdout",
     "output_type": "stream",
     "text": [
      "Certainly! Decision frameworks provide structured approaches to help improve the quality and consistency of decisions by defining steps, criteria, and methodologies. Below is a list of some widely used decision frameworks:\n",
      "\n",
      "1. **SWOT Analysis (Strengths, Weaknesses, Opportunities, Threats)**\n",
      "   - Helps identify internal and external factors that could impact decision-making.\n",
      "\n",
      "2. **Decision Matrix (Weighted Scoring Model)**\n",
      "   - Assesses multiple options against a set of weighted criteria to determine the best choice.\n",
      "\n",
      "3. **Cost-Benefit Analysis (CBA)**\n",
      "   - Compares the costs and benefits of different options to identify the most beneficial route.\n",
      "\n",
      "4. **Six Thinking Hats**\n",
      "   - Uses six different perspectives (represented by 'hats') to explore a decision comprehensively: factual, emotional, positive, negative, creative, and process-oriented views.\n",
      "\n",
      "5. **Pros and Cons List**\n",
      "   - A straightforward method to evaluate the advantages and disadvantages of each option.\n",
      "\n",
      "6. **Pareto Analysis (80/20 Rule)**\n",
      "   - Focuses on identifying the small number of causes that produce the majority of the effects, helping prioritize actions.\n",
      "\n",
      "7. **Force Field Analysis**\n",
      "   - Evaluates driving and restraining forces that affect a decision, providing insight into factors supporting or challenging the decision.\n",
      "\n",
      "8. **Decision Trees**\n",
      "   - Maps out different decision paths and their possible consequences, helps evaluate outcomes under various scenarios.\n",
      "\n",
      "9. **Monte Carlo Simulation**\n",
      "   - Uses probabilistic modeling to simulate and analyze the impact of risk and uncertainty in decision-making.\n",
      "\n",
      "10. **OODA Loop (Observe, Orient, Decide, Act)**\n",
      "    - A rapid decision-making cycle, particularly useful in dynamic and competitive environments.\n",
      "\n",
      "11. **Rational Decision-Making Model**\n",
      "    - A systematic process that involves defining the problem, identifying decision criteria, weighing those criteria, generating alternatives, evaluating alternatives, and choosing the best option.\n",
      "\n",
      "12. **Vroom-Yetton Decision Model**\n",
      "    - Helps determine the extent of team involvement needed in decision-making based on situational factors.\n",
      "\n",
      "13. **Kepner-Tregoe Decision Analysis**\n",
      "    - A step-by-step approach to complex decision-making that involves defining the problem, generating alternatives, assessing risks, and making a final decision.\n",
      "\n",
      "14. **Analytic Hierarchy Process (AHP)**\n",
      "    - Breaks down a decision into a hierarchy, assesses the relative importance of criteria using pairwise comparisons, and synthesizes the results.\n",
      "\n",
      "15. **SCQA Framework (Situation, Complication, Question, Answer)**\n",
      "    - Structured approach for problem-solving and decision-making by clearly defining the situation, identifying complications, posing key questions, and generating answers.\n",
      "\n",
      "Each of these frameworks can be adapted to various contexts and decision-making scenarios, enhancing the clarity, thoroughness, and effectiveness of the decisions made."
     ]
    }
   ],
   "source": [
    "// Stream the chat completion response\n",
    "await foreach (var content in chatCompletionService.GetStreamingChatMessageContentsAsync(simpleDecisionPrompt))\n",
    "{\n",
    "    Console.Write(content);\n",
    "}"
   ]
  },
  {
   "cell_type": "markdown",
   "metadata": {},
   "source": [
    "### Step 4 - Execute Chat Completion with Chat History "
   ]
  },
  {
   "cell_type": "markdown",
   "metadata": {},
   "source": [
    "Semantic Kernel has a ChatHistory object that can be used with the ChatCompletionService to provide historical chat context to the LLM. Notice that the ChatHistory object differentiates between the different types of chat messages:\n",
    "* System Message - System or MetaPrompt. These are usually global instructions that set the \"overall rules\" for interacting with the LLMs.\n",
    "* User Message - A message from the user\n",
    "* Assistant Message - A message from the LLM. This is a message generated from an assistant or an agent. \n",
    "\n",
    "Identifying the messages from which role (user) it came from can help the LLM improve its own reasoning responses. This is a more sophisticated approach than passing chat history in a long dynamic string. ChatHistory objects can be serialized and persisted into databases as well."
   ]
  },
  {
   "cell_type": "code",
   "execution_count": 6,
   "metadata": {
    "dotnet_interactive": {
     "language": "csharp"
    },
    "polyglot_notebook": {
     "kernelName": "csharp"
    },
    "vscode": {
     "languageId": "polyglot-notebook"
    }
   },
   "outputs": [
    {
     "name": "stdout",
     "output_type": "stream",
     "text": [
      "Certainly! Here's an overview of five decision frameworks that can enhance the quality of decision-making:\n",
      "\n",
      "1. **SWOT Analysis (Strengths, Weaknesses, Opportunities, Threats)**:\n",
      "    - **Purpose**: This framework helps to evaluate the internal and external factors that can impact a decision.\n",
      "    - **How it works**: Create a grid with four quadrants to list strengths, weaknesses, opportunities, and threats.\n",
      "    - **Usefulness**: Provides a strategic perspective on how to leverage strengths and opportunities while mitigating weaknesses and threats.\n",
      "    - **Example Use**: Assessing a new business venture.\n",
      "\n",
      "2. **Cost-Benefit Analysis**:\n",
      "    - **Purpose**: To systematically evaluate the financial and non-financial costs and benefits of a decision.\n",
      "    - **How it works**: List all the costs and benefits associated with the decision, quantify them if possible, and compare the total costs against the total benefits.\n",
      "    - **Usefulness**: Helps in making economically sound decisions by focusing on net gain.\n",
      "    - **Example Use**: Deciding whether to invest in new technology.\n",
      "\n",
      "3. **Decision Tree**:\n",
      "    - **Purpose**: To map out different possible outcomes of a decision and their associated probabilities.\n",
      "    - **How it works**: Start with a main decision node, then branch out into possible actions and their subsequent outcomes, often including probabilities and payoffs to calculate expected values.\n",
      "    - **Usefulness**: Visualizes the decision path and quantifies risks, helping to navigate complex decisions with several variables.\n",
      "    - **Example Use**: Strategic planning in uncertain conditions.\n",
      "\n",
      "4. **Pareto Analysis (80/20 Rule)**:\n",
      "    - **Purpose**: To identify the most critical factors that will have the greatest impact.\n",
      "    - **How it works**: List all issues or tasks, score them based on their impact, and focus on the top 20% that will produce 80% of the results.\n",
      "    - **Usefulness**: Prioritizes efforts and resources on the most significant factors.\n",
      "    - **Example Use**: Improving business processes by targeting the most impactful inefficiencies.\n",
      "\n",
      "5. **Six Thinking Hats**:\n",
      "    - **Purpose**: To approach decision-making from multiple perspectives, fostering comprehensive analysis.\n",
      "    - **How it works**: Utilize six different \"hats\" representing different thinking styles—White (data/facts), Red (emotions/intuition), Black (caution/risks), Yellow (optimism/benefits), Green (creativity/new ideas), and Blue (process/control).\n",
      "    - **Usefulness**: Encourages thorough and balanced consideration of different aspects, reducing bias.\n",
      "    - **Example Use**: Group brainstorming sessions or tackling complex organizational problems.\n",
      "\n",
      "Each framework has its unique strengths and can be applied based on the context of the decision at hand. Using these techniques appropriately can lead to improved, well-rounded, and strategic decision-making."
     ]
    }
   ],
   "source": [
    "// Set the overall system prompt to behave like a decision intelligence assistant (persona)\n",
    "var systemPrompt = \"\"\"\n",
    "You are a decision intelligence assistant. \n",
    "Assist the user in exploring options, reasoning through decisions, problem-solving, and applying systems thinking to various scenarios. \n",
    "Provide structured, logical, and comprehensive advice.\n",
    "\"\"\";\n",
    "\n",
    "// Simple instruction prompt to list 5 (five) decision frameworks this GenAI LLM is familiar with\n",
    "var simpleDecisionPrompt = \"\"\"\n",
    "Provide five Decision Frameworks that can help improve the quality of decisions.\n",
    "\"\"\";\n",
    "\n",
    "// Create a new chat history object with proper system and user message roles\n",
    "var chatHistory = new ChatHistory();\n",
    "chatHistory.AddSystemMessage(systemPrompt);\n",
    "chatHistory.AddUserMessage(simpleDecisionPrompt);\n",
    "\n",
    "var chatResponse = string.Empty;\n",
    "await foreach (var content in chatCompletionService.GetStreamingChatMessageContentsAsync(chatHistory))\n",
    "{\n",
    "    chatResponse += content;\n",
    "    Console.Write(content);\n",
    "}\n",
    "chatHistory.AddAssistantMessage(chatResponse);"
   ]
  },
  {
   "cell_type": "markdown",
   "metadata": {},
   "source": [
    "### Step 5 - Using Chat History in a Decision Conversation "
   ]
  },
  {
   "cell_type": "markdown",
   "metadata": {},
   "source": [
    "With Semantic Kernel maintaining state with the ChatHistory object, a user can interact with the LLM in a natural way. Note the interaction below, where the user is asking which of the particular decision frameworks are best suited to purchase a car. Without the ChatHistory being passed along, the LLM would not have had the proper context to answer the question.\n",
    "\n",
    "> \"Price is what you pay. Value is what you get.\"  \n",
    ">\n",
    "> -- <cite>Warren Buffet (one of the most successful investors of all time)</cite>  "
   ]
  },
  {
   "cell_type": "code",
   "execution_count": 7,
   "metadata": {
    "dotnet_interactive": {
     "language": "csharp"
    },
    "polyglot_notebook": {
     "kernelName": "csharp"
    },
    "vscode": {
     "languageId": "polyglot-notebook"
    }
   },
   "outputs": [
    {
     "name": "stdout",
     "output_type": "stream",
     "text": [
      "For making a decision to purchase a car, the **Decision Matrix Analysis** would be the best choice. \n",
      "\n",
      "### Rationale:\n",
      "1. **Multiple Options**: When purchasing a car, there are often several models, brands, and types (e.g., sedan, SUV, electric, hybrid) to consider.\n",
      "2. **Criteria for Evaluation**: Different criteria can be weighed, such as price, fuel efficiency, safety ratings, maintenance costs, and features (e.g., technology, comfort).\n",
      "3. **Quantitative Approach**: By assigning scores and weights to criteria, you can create a structured approach to objectively evaluate and compare your options, helping to alleviate decision fatigue.\n",
      "\n",
      "### Steps to Implement:\n",
      "1. **List Car Options**: Write down the various car models you are considering.\n",
      "2. **Define Criteria**: Identify important criteria for your decision (e.g., cost, reliability, resale value, insurance rates).\n",
      "3. **Rate Each Option**: Score each car based on how well it meets each criterion.\n",
      "4. **Assign Weights**: Determine which criteria are most important to you and assign weights accordingly.\n",
      "5. **Calculate Scores**: Multiply the ratings by the weights and sum them to see which car has the highest score.\n",
      "\n",
      "By using Decision Matrix Analysis, you can make a clear, rational, and informed decision about the car that best fits your needs and preferences."
     ]
    }
   ],
   "source": [
    "// Simple prompt that asks a follow-up question about the purchase of a car\n",
    "// Note: No reference is made to what previous frameworks were listed.\n",
    "// Note: Previous context is maintained by the Semantic Kernel ChatHistory object \n",
    "var simpleDecisionPromptFollowup = \"\"\"\n",
    "Which of these 5 decision frameworks would work best for making a decision to purchase a car. \n",
    "Select only the single best one.\n",
    "\"\"\";\n",
    "\n",
    "// Add User message to the chat history\n",
    "chatHistory.AddUserMessage(simpleDecisionPromptFollowup);\n",
    "\n",
    "var chatResponse = string.Empty;\n",
    "await foreach (var content in chatCompletionService.GetStreamingChatMessageContentsAsync(chatHistory))\n",
    "{\n",
    "    chatResponse += content;\n",
    "    Console.Write(content);\n",
    "}\n",
    "\n",
    "// Add Assistant message to the chat history\n",
    "chatHistory.AddAssistantMessage(chatResponse);"
   ]
  },
  {
   "cell_type": "markdown",
   "metadata": {},
   "source": [
    "> \"Take time to deliberate, but when the time for action comes, stop thinking and go in.\"\n",
    ">\n",
    "> -- <cite>Napoleon Bornaparte (French Emporer and brilliant military mind)</cite>  "
   ]
  },
  {
   "cell_type": "code",
   "execution_count": 8,
   "metadata": {
    "dotnet_interactive": {
     "language": "csharp"
    },
    "polyglot_notebook": {
     "kernelName": "csharp"
    },
    "vscode": {
     "languageId": "polyglot-notebook"
    }
   },
   "outputs": [
    {
     "name": "stdout",
     "output_type": "stream",
     "text": [
      "The **OODA Loop (Observe, Orient, Decide, Act)** is predominantly used by the military intelligence community. \n",
      "\n",
      "### Rationale:\n",
      "1. **Dynamic Environments**: The OODA Loop is designed for fast-paced and often chaotic situations where quick decision-making is crucial, such as in military operations and intelligence assessments.\n",
      "2. **Iterative Process**: It emphasizes continuous observation and adaptation, allowing military leaders to respond to changing conditions on the battlefield or during intelligence operations.\n",
      "3. **Situational Awareness**: The framework encourages a deep understanding of the operational environment, which is essential for effective strategic planning and decision-making in military contexts.\n",
      "\n",
      "### Application in Military Intelligence:\n",
      "- The OODA Loop helps military strategists analyze enemy actions and intentions, adjust tactics, and improve decision-making processes.\n",
      "- It supports commanders in making timely and informed choices based on real-time intelligence and situational dynamics.\n",
      "\n",
      "Overall, the OODA Loop's focus on agility in decision-making makes it particularly suitable for the military intelligence community."
     ]
    }
   ],
   "source": [
    "// Note: No reference is made to what previous frameworks were listed.\n",
    "// Note: Previous context is maintained by the Semantic Kernel ChatHistory object \n",
    "var simpleDecisionPromptFollowupPartTwo = \"\"\"\n",
    "Which of these 5 decision frameworks listed above are used by the military intelligence community?\n",
    "\"\"\";\n",
    "\n",
    "// Add User message to the chat history\n",
    "chatHistory.AddUserMessage(simpleDecisionPromptFollowupPartTwo);\n",
    "\n",
    "var chatResponse = string.Empty;\n",
    "await foreach (var content in chatCompletionService.GetStreamingChatMessageContentsAsync(chatHistory))\n",
    "{\n",
    "    chatResponse += content;\n",
    "    Console.Write(content);\n",
    "}\n",
    "\n",
    "// Add Assistant message to the chat history\n",
    "chatHistory.AddAssistantMessage(chatResponse);"
   ]
  },
  {
   "cell_type": "markdown",
   "metadata": {},
   "source": [
    "### Step 6 - Semantic Kernel inspecting Chat History "
   ]
  },
  {
   "cell_type": "markdown",
   "metadata": {},
   "source": [
    "The Semantic Kernel Chat History is a transparent object that can be inspected and written out. In fact, the ChatHistory object can be manipulated to replay chats from middle interactions to simulate different outcomes.\n",
    "\n",
    "Execute the cell below to write out the Semantic Kernel Chat History of this chat."
   ]
  },
  {
   "cell_type": "code",
   "execution_count": 9,
   "metadata": {
    "dotnet_interactive": {
     "language": "csharp"
    },
    "polyglot_notebook": {
     "kernelName": "csharp"
    },
    "vscode": {
     "languageId": "polyglot-notebook"
    }
   },
   "outputs": [
    {
     "name": "stdout",
     "output_type": "stream",
     "text": [
      "Number of chat interactions: 7\n",
      "# system: You are a decision intelligence assistant. \n",
      "Assist the user in exploring options, reasoning through decisions, problem-solving, and applying systems thinking to various scenarios. \n",
      "Provide structured, logical, and comprehensive advice.\n",
      "# user: Provide five decision frameworks that can help improve the quality of decisions.\n",
      "# assistant: Certainly! Here are five decision frameworks that can enhance decision-making quality:\n",
      "\n",
      "### 1. **SWOT Analysis**\n",
      "   - **Description**: SWOT (Strengths, Weaknesses, Opportunities, Threats) analysis helps evaluate internal and external factors influencing a decision.\n",
      "   - **How to Use**:\n",
      "     - **Strengths**: Identify what advantages you have.\n",
      "     - **Weaknesses**: Recognize limitations or areas that need improvement.\n",
      "     - **Opportunities**: Explore external chances to grow or improve.\n",
      "     - **Threats**: Acknowledge external challenges that could hinder progress.\n",
      "   - **Application**: Useful for strategic planning and evaluating business initiatives.\n",
      "\n",
      "### 2. **Decision Matrix Analysis**\n",
      "   - **Description**: This framework helps in evaluating and prioritizing multiple options based on various criteria.\n",
      "   - **Steps**:\n",
      "     1. List options on one axis and criteria on the other.\n",
      "     2. Rate each option against the criteria.\n",
      "     3. Assign weights to each criterion based on importance.\n",
      "     4. Calculate a total score for each option to identify the best choice.\n",
      "   - **Application**: Ideal for situations with multiple alternatives and measurable criteria, such as product selection or vendor comparison.\n",
      "\n",
      "### 3. **Vroom-Yetton Decision Model**\n",
      "   - **Description**: This model aids in determining the level of involvement employees should have in the decision-making process.\n",
      "   - **Steps**:\n",
      "     1. Assess the significance of the decision.\n",
      "     2. Evaluate the importance of team input and expertise.\n",
      "     3. Follow a decision tree to choose between autocratic, consultative, or group-based decision-making options.\n",
      "   - **Application**: Appropriate for leadership decisions and fostering teamwork.\n",
      "\n",
      "### 4. **Cost-Benefit Analysis (CBA)**\n",
      "   - **Description**: A systematic approach to estimating the strengths and weaknesses of alternatives.\n",
      "   - **Steps**:\n",
      "     1. Identify the costs and benefits associated with each option.\n",
      "     2. Quantify and compare them.\n",
      "     3. Assess whether benefits outweigh costs and by how much.\n",
      "   - **Application**: Useful in project management, business investments, or public policy decisions.\n",
      "\n",
      "### 5. **OODA Loop (Observe, Orient, Decide, Act)**\n",
      "   - **Description**: A strategic decision-making model developed for fast-paced environments.\n",
      "   - **Steps**:\n",
      "     1. **Observe**: Gather information about the situation.\n",
      "     2. **Orient**: Analyze the information and your position in relation to the environment.\n",
      "     3. **Decide**: Formulate a plan based on the analysis.\n",
      "     4. **Act**: Implement the decision and monitor results.\n",
      "   - **Application**: Effective in crisis management, competitive strategy, and iterative processes.\n",
      "\n",
      "### Conclusion\n",
      "Each framework has unique strengths and fits different contexts. It’s often beneficial to combine aspects of several frameworks to adapt to the specific situation at hand. Consider the nature of the decision, the information available, and the stakeholders involved to select the most appropriate framework for your needs.\n",
      "# user: Which of these 5 decision frameworks would work best for making a decision to purchase a car. \n",
      "Select only the single best one.\n",
      "# assistant: For making a decision to purchase a car, the **Decision Matrix Analysis** would be the best choice. \n",
      "\n",
      "### Rationale:\n",
      "1. **Multiple Options**: When purchasing a car, there are often several models, brands, and types (e.g., sedan, SUV, electric, hybrid) to consider.\n",
      "2. **Criteria for Evaluation**: Different criteria can be weighed, such as price, fuel efficiency, safety ratings, maintenance costs, and features (e.g., technology, comfort).\n",
      "3. **Quantitative Approach**: By assigning scores and weights to criteria, you can create a structured approach to objectively evaluate and compare your options, helping to alleviate decision fatigue.\n",
      "\n",
      "### Steps to Implement:\n",
      "1. **List Car Options**: Write down the various car models you are considering.\n",
      "2. **Define Criteria**: Identify important criteria for your decision (e.g., cost, reliability, resale value, insurance rates).\n",
      "3. **Rate Each Option**: Score each car based on how well it meets each criterion.\n",
      "4. **Assign Weights**: Determine which criteria are most important to you and assign weights accordingly.\n",
      "5. **Calculate Scores**: Multiply the ratings by the weights and sum them to see which car has the highest score.\n",
      "\n",
      "By using Decision Matrix Analysis, you can make a clear, rational, and informed decision about the car that best fits your needs and preferences.\n",
      "# user: Which of these 5 decision frameworks listed above are used by the military intelligence community?\n",
      "# assistant: The **OODA Loop (Observe, Orient, Decide, Act)** is predominantly used by the military intelligence community. \n",
      "\n",
      "### Rationale:\n",
      "1. **Dynamic Environments**: The OODA Loop is designed for fast-paced and often chaotic situations where quick decision-making is crucial, such as in military operations and intelligence assessments.\n",
      "2. **Iterative Process**: It emphasizes continuous observation and adaptation, allowing military leaders to respond to changing conditions on the battlefield or during intelligence operations.\n",
      "3. **Situational Awareness**: The framework encourages a deep understanding of the operational environment, which is essential for effective strategic planning and decision-making in military contexts.\n",
      "\n",
      "### Application in Military Intelligence:\n",
      "- The OODA Loop helps military strategists analyze enemy actions and intentions, adjust tactics, and improve decision-making processes.\n",
      "- It supports commanders in making timely and informed choices based on real-time intelligence and situational dynamics.\n",
      "\n",
      "Overall, the OODA Loop's focus on agility in decision-making makes it particularly suitable for the military intelligence community.\n"
     ]
    }
   ],
   "source": [
    "// Print the number of chat interactions and the chat history (turns)\n",
    "Console.WriteLine(\"Number of chat interactions: \" + chatHistory.Count());\n",
    "\n",
    "foreach (var message in chatHistory)\n",
    "{\n",
    "    Console.WriteLine($\"# {message.Role}: {message.Content}\");\n",
    "}"
   ]
  }
 ],
 "metadata": {
  "kernelspec": {
   "display_name": ".NET (C#)",
   "language": "C#",
   "name": ".net-csharp"
  },
  "language_info": {
   "name": "csharp"
  },
  "polyglot_notebook": {
   "kernelInfo": {
    "defaultKernelName": "csharp",
    "items": [
     {
      "aliases": [],
      "name": "csharp"
     }
    ]
   }
  }
 },
 "nbformat": 4,
 "nbformat_minor": 2
}
