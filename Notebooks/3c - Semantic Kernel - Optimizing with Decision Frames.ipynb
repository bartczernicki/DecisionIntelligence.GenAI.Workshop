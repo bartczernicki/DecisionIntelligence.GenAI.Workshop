{
 "cells": [
  {
   "cell_type": "markdown",
   "metadata": {},
   "source": [
    "<img style=\"float: left;padding-right: 10px\" width =\"40px\" src=\"https://raw.githubusercontent.com/bartczernicki/DecisionIntelligence.GenAI.Workshop/main/Images/SemanticKernelLogo.png\">\n",
    "\n",
    "## Semantic Kernel - Optimizing with Decision Frames  "
   ]
  },
  {
   "cell_type": "markdown",
   "metadata": {},
   "source": [
    "Work in Progress "
   ]
  },
  {
   "cell_type": "markdown",
   "metadata": {},
   "source": [
    "### Step 1 - Initialize Configuration Builder & Build the Semantic Kernel Orchestration "
   ]
  },
  {
   "cell_type": "code",
   "execution_count": 1,
   "metadata": {
    "dotnet_interactive": {
     "language": "csharp"
    },
    "polyglot_notebook": {
     "kernelName": "csharp"
    },
    "vscode": {
     "languageId": "polyglot-notebook"
    }
   },
   "outputs": [
    {
     "data": {
      "text/html": [
       "<div><div></div><div></div><div><strong>Installed Packages</strong><ul><li><span>Microsoft.Extensions.Configuration, 9.0.0</span></li><li><span>Microsoft.Extensions.Configuration.Json, 9.0.0</span></li></ul></div></div>"
      ]
     },
     "metadata": {},
     "output_type": "display_data"
    }
   ],
   "source": [
    "// Import the required NuGet configuration packages\n",
    "#r \"nuget: Microsoft.Extensions.Configuration, 9.0.0\"\n",
    "#r \"nuget: Microsoft.Extensions.Configuration.Json, 9.0.0\"\n",
    "\n",
    "using Microsoft.Extensions.Configuration.Json;\n",
    "using Microsoft.Extensions.Configuration;\n",
    "using System.IO;\n",
    "\n",
    "// Load the configuration settings from the local.settings.json and secrets.settings.json files\n",
    "// The secrets.settings.json file is used to store sensitive information such as API keys\n",
    "var configurationBuilder = new ConfigurationBuilder()\n",
    "    .SetBasePath(Directory.GetCurrentDirectory())\n",
    "    .AddJsonFile(\"local.settings.json\", optional: true, reloadOnChange: true)\n",
    "    .AddJsonFile(\"secrets.settings.json\", optional: true, reloadOnChange: true);\n",
    "var config = configurationBuilder.Build();\n",
    "\n",
    "// IMPORTANT: You ONLY NEED either Azure OpenAI or OpenAI connectiopn info, not both.\n",
    "// Azure OpenAI Connection Info\n",
    "var azureOpenAIEndpoint = config[\"AzureOpenAI:Endpoint\"];\n",
    "var azureOpenAIAPIKey = config[\"AzureOpenAI:APIKey\"];\n",
    "var azureOpenAIModelDeploymentName = config[\"AzureOpenAI:ModelDeploymentName\"];\n",
    "// OpenAI Connection Info \n",
    "var openAIAPIKey = config[\"OpenAI:APIKey\"];\n",
    "var openAIModelId = config[\"OpenAI:ModelId\"];"
   ]
  },
  {
   "cell_type": "code",
   "execution_count": 2,
   "metadata": {
    "dotnet_interactive": {
     "language": "csharp"
    },
    "polyglot_notebook": {
     "kernelName": "csharp"
    },
    "vscode": {
     "languageId": "polyglot-notebook"
    }
   },
   "outputs": [
    {
     "data": {
      "text/html": [
       "<div><div></div><div></div><div><strong>Installed Packages</strong><ul><li><span>Microsoft.Extensions.DependencyInjection, 9.0.0</span></li><li><span>Microsoft.SemanticKernel, 1.44.0</span></li></ul></div></div>"
      ]
     },
     "metadata": {},
     "output_type": "display_data"
    },
    {
     "name": "stdout",
     "output_type": "stream",
     "text": [
      "Using Azure OpenAI Service\n"
     ]
    }
   ],
   "source": [
    "// Install the required NuGet packages\n",
    "// Note: This also installs the Dependency Injection Package to retrieve the ChatCompletionService\n",
    "#r \"nuget: Microsoft.Extensions.DependencyInjection, 9.0.0\"\n",
    "#r \"nuget: Microsoft.SemanticKernel, 1.44\"\n",
    "\n",
    "using Microsoft.Extensions.DependencyInjection.Extensions;\n",
    "using Microsoft.Extensions.DependencyInjection;\n",
    "using Microsoft.SemanticKernel;\n",
    "using Microsoft.SemanticKernel.ChatCompletion;\n",
    "using Microsoft.SemanticKernel.Connectors.OpenAI;\n",
    "\n",
    "Kernel semanticKernel;\n",
    "\n",
    "// Set the flag to use Azure OpenAI or OpenAI. False to use OpenAI, True to use Azure OpenAI\n",
    "var useAzureOpenAI = true;\n",
    "\n",
    "// Create a new Semantic Kernel instance\n",
    "if (useAzureOpenAI)\n",
    "{\n",
    "    Console.WriteLine(\"Using Azure OpenAI Service\");\n",
    "    semanticKernel = Kernel.CreateBuilder()\n",
    "        .AddAzureOpenAIChatCompletion(\n",
    "            deploymentName: azureOpenAIModelDeploymentName,\n",
    "            endpoint: azureOpenAIEndpoint,\n",
    "            apiKey: azureOpenAIAPIKey)\n",
    "        .Build();\n",
    "}\n",
    "else\n",
    "{\n",
    "    Console.WriteLine(\"Using OpenAI Service\");\n",
    "    semanticKernel = Kernel.CreateBuilder()\n",
    "        .AddOpenAIChatCompletion(\n",
    "            modelId: openAIModelId,\n",
    "            apiKey: openAIAPIKey)\n",
    "        .Build();\n",
    "}\n",
    "\n",
    "var chatCompletionService = semanticKernel.Services.GetRequiredService<IChatCompletionService>();"
   ]
  },
  {
   "cell_type": "markdown",
   "metadata": {},
   "source": [
    "### Step 2 - Decision Frames (Thinking Hats) Scenario for a Major Purchase "
   ]
  },
  {
   "cell_type": "markdown",
   "metadata": {},
   "source": [
    "> 📜 \"The mere formulation of a problem is far more essential than its solution, which may be merely a matter of mathematical or experimental skill. To raise new questions, new possibilities, to regard old problems from a new angle requires creative imagination and marks real advances in science.\"\n",
    ">\n",
    "> -- <cite>Albert Einstein (Theoretical Physicist, Best known for developing the theory of relativity)</cite>  "
   ]
  },
  {
   "cell_type": "markdown",
   "metadata": {},
   "source": [
    "The code below will list the potential decision frames (using thinking hats frames) that may be appropriate to form different approaches for purchasing a house. Generative AI can be used to easily \"put on a hat\" (approach a problem with a specific decision frame) much easier than a human decision maker.  "
   ]
  },
  {
   "cell_type": "code",
   "execution_count": 3,
   "metadata": {
    "dotnet_interactive": {
     "language": "csharp"
    },
    "polyglot_notebook": {
     "kernelName": "csharp"
    },
    "vscode": {
     "languageId": "polyglot-notebook"
    }
   },
   "outputs": [
    {
     "name": "stdout",
     "output_type": "stream",
     "text": [
      "Certainly! Using Edward de Bono’s Six Thinking Hats framework is a great way to tackle the complex decision-making process of purchasing a new home. Each hat represents a different mode of thinking that will allow you to approach the decision from multiple perspectives. Here is how you can apply it:\n",
      "\n",
      "---\n",
      "\n",
      "### **1. White Hat: Focus on Facts and Information**\n",
      "Objective thinking rooted in data and evidence.\n",
      "- **Approach**:\n",
      "   - Research housing market trends in your desired areas (pricing, availability, etc.).\n",
      "   - Gather data on property taxes, HOA fees, utility costs, insurance rates, and other financial implications.\n",
      "   - Compile information on neighborhoods, schools, nearby amenities, crime rates, and commute times to work.\n",
      "   - Create a comprehensive list of potential homes along with their specifications (size, number of bedrooms, etc.).\n",
      "   - Get pre-approved for a mortgage to understand what you can realistically afford.\n",
      "\n",
      "---\n",
      "\n",
      "### **2. Red Hat: Consider Emotions and Intuition**\n",
      "Focus on emotional and instinctive responses without justification.\n",
      "- **Approach**:\n",
      "   - Assess how you feel about each home you’re considering. Does any place evoke positive emotions or feel like “home” at first glance?\n",
      "   - Reflect on your emotional priorities—Do you need a serene and quiet space? Are you excited by the idea of living in a vibrant, bustling neighborhood?\n",
      "   - Consider how family members or future guests will feel about the space.\n",
      "   - Trust your gut if something feels “off” or “just right,” even if you can’t explain it logically.\n",
      "\n",
      "---\n",
      "\n",
      "### **3. Black Hat: Identify Risks and Downsides**\n",
      "Focus on critical and cautious thinking to spot problems and challenges.\n",
      "- **Approach**:\n",
      "   - Analyze potential risks of each home: Are there structural issues (e.g., mold, plumbing problems, roofing concerns)? Is it in a flood-prone area?\n",
      "   - Consider financial risks: Are prices in the area inflated? Could the property lose value over time?\n",
      "   - Examine constraints: Will this home meet your needs long term (e.g., room to grow, proximity to work, accessibility)?\n",
      "   - Investigate neighborhood risks: Are there safety concerns or developments that could negatively impact property value?\n",
      "\n",
      "---\n",
      "\n",
      "### **4. Yellow Hat: Highlight Optimism and Opportunities**\n",
      "Focus on the positives and advantages.\n",
      "- **Approach**:\n",
      "   - Think about how the home aligns with your goals, such as lifestyle, aesthetics, and investment value.\n",
      "   - Consider the benefits of the location: Are there parks, schools, shops, and restaurants nearby?\n",
      "   - Identify unique features that add value (e.g., a spacious yard, energy-efficient appliances, or a favorable layout).\n",
      "   - Envision future possibilities: Could the home be renovated or expanded to increase value and meet changing needs?\n",
      "\n",
      "---\n",
      "\n",
      "### **5. Green Hat: Explore Creativity and Alternatives**\n",
      "Focus on brainstorming and generating solutions.\n",
      "- **Approach**:\n",
      "   - Brainstorm creative ways to overcome any negatives (e.g., negotiating price reductions for needed repairs).\n",
      "   - Explore alternatives to your current plan: Maybe a smaller home in a better area, or a fixer-upper that you renovate over time.\n",
      "   - Think about unconventional options, such as purchasing land and building a custom home.\n",
      "   - Consider how you could personalize any potential property to make it truly yours (decor changes, landscaping ideas, room transformations).\n",
      "\n",
      "---\n",
      "\n",
      "### **6. Blue Hat: Set Goals and Manage the Thinking Process**\n",
      "Focus on organizing thoughts and the decision-making structure itself.\n",
      "- **Approach**:\n",
      "   - Define the criteria for your ideal home: What is necessary (must-have) vs. optional (nice-to-have)? Clarify your budget range and desired timeline.\n",
      "   - Structure the decision-making process: Create a checklist or scoring system to compare properties based on your priorities.\n",
      "   - Set a strategy: Decide who will be involved in the process (partner, family, financial advisor), how you’ll conduct viewings, and when you’ll make the final decision.\n",
      "   - Periodically review progress, ensuring all perspectives (hats) are being considered and adjustments are made as new information arises.\n",
      "\n",
      "---\n",
      "\n",
      "### Summary Decision Model:\n",
      "By applying all six thinking hats, you will have explored the home-buying decision from multiple angles: logical facts, emotional judgment, risks, benefits, creative ideas, and structured planning. This holistic thinking process will ensure a well-rounded and confident decision when purchasing your new home."
     ]
    }
   ],
   "source": [
    "// Set the overall system prompt to behave like a decision intelligence assistant (persona)\n",
    "var systemPrompt = \"\"\"\n",
    "You are a decision intelligence assistant. \n",
    "Assist the user in exploring options, reasoning through decisions, problem-solving, and applying systems thinking to various scenarios. \n",
    "Provide structured, logical, and comprehensive advice.\n",
    "\"\"\";\n",
    "\n",
    "// Decision Frames Prompt that lists the six thinking hats approach to purchasing a house \n",
    "var decisionFramesPrompt = \"\"\"\n",
    "You are planning on purchasing a new home. \n",
    "Use Edward de Bono's Six thinking hats on how to approach the decision-making process. \n",
    "\n",
    "Instructions: \n",
    "List an approach for each of the six hats. \n",
    "\"\"\";\n",
    "\n",
    "// Create a new chat history object with proper system and user message roles\n",
    "var chatHistory = new ChatHistory();\n",
    "chatHistory.AddSystemMessage(systemPrompt);\n",
    "chatHistory.AddUserMessage(decisionFramesPrompt);\n",
    "\n",
    "var chatResponse = string.Empty;\n",
    "await foreach (var content in chatCompletionService.GetStreamingChatMessageContentsAsync(chatHistory))\n",
    "{\n",
    "    chatResponse += content;\n",
    "    Console.Write(content);\n",
    "}\n",
    "chatHistory.AddAssistantMessage(chatResponse);"
   ]
  },
  {
   "cell_type": "markdown",
   "metadata": {},
   "source": [
    "This can be enhanced further by having GenAI suggest which of the decision frames might be the most useful for a high-stakes decision. Therefore, the prompt above can be optimized further by listing all the decision frames and then priorotizing which ones will have the most impact and influence on the house purchase decision.  \n",
    "\n",
    "This allows the Artificial Intelligence automation to focus on the optimization of the decision process and the human on the actual decision selection and execution!"
   ]
  },
  {
   "cell_type": "code",
   "execution_count": 4,
   "metadata": {
    "dotnet_interactive": {
     "language": "csharp"
    },
    "polyglot_notebook": {
     "kernelName": "csharp"
    },
    "vscode": {
     "languageId": "polyglot-notebook"
    }
   },
   "outputs": [
    {
     "name": "stdout",
     "output_type": "stream",
     "text": [
      "Edward de Bono's Six Thinking Hats framework offers a structured way to approach decision-making by addressing a problem from different perspectives. Here's a prioritized list exploring the decision to purchase a new home, along with guidance on which \"thinking hats\" to focus on:\n",
      "\n",
      "---\n",
      "\n",
      "### **Prioritized Thinking Hats Approach (Most to Least Impact & Influence)**\n",
      "\n",
      "#### **1. White Hat: Information and Facts (Most Impactful)**\n",
      "* **Approach**: Gather all relevant data and facts about the home purchase. This includes:\n",
      "  - Pricing data for homes in the area\n",
      "  - Property details like size, condition, and location\n",
      "  - Mortgage rates and financial options\n",
      "  - Local amenities (schools, hospitals, parks, transportation)\n",
      "  - Tax implications, future resale value, and neighborhood trends.\n",
      "* **Reason for Priority**: A home is a significant investment, and objective, evidence-based information forms the foundation of the decision-making process.\n",
      "\n",
      "#### **2. Yellow Hat: Optimism and Benefits**\n",
      "* **Approach**: Frame the purchase optimistically to identify the potential positive outcomes:\n",
      "  - Long-term benefits like equity growth and financial stability\n",
      "  - Emotional fulfillment of owning a home\n",
      "  - Lifestyle improvements, such as moving closer to work or schools.\n",
      "* **Reason for Priority**: Highlighting the positives helps you clarify why the home purchase is aligned with future goals, balancing the pragmatic facts with motivation and inspiration.\n",
      "\n",
      "#### **3. Black Hat: Risks and Cautions**\n",
      "* **Approach**: Consider potential pitfalls and risks:\n",
      "  - Hidden costs, such as unforeseen repairs or high property taxes\n",
      "  - Neighborhood issues like crime rates or future declines in property value\n",
      "  - Risks of overextending financially with a large mortgage.\n",
      "* **Reason for Priority**: Evaluating risks helps you account for possible downsides and avoid costly mistakes.\n",
      "\n",
      "#### **4. Blue Hat: Process and Control**\n",
      "* **Approach**: Manage and structure the decision-making process:\n",
      "  - Set clear criteria for the home purchase (e.g., budget, size, location priorities).\n",
      "  - Create a step-by-step plan to conduct research, view homes, and finalize financing.\n",
      "  - Make sure emotional and rational inputs are balanced.\n",
      "* **Reason for Priority**: A structured process ensures that every relevant dimension is considered, reducing impulsive or poorly informed choices.\n",
      "\n",
      "#### **5. Green Hat: Creativity and Alternatives**\n",
      "* **Approach**: Explore unorthodox strategies and options:\n",
      "  - Investigate creative financing methods or grants for first-time buyers.\n",
      "  - Consider different neighborhoods or unconventional property types (e.g., fixer-uppers, condos).\n",
      "  - Brainstorm ways to negotiate or reduce costs (e.g., bargain with the seller, buy in off-peak season).\n",
      "* **Reason for Priority**: Accessing fresh ideas can open up possibilities you may not have considered, but creativity is secondary to ensuring the basics (facts, risks, benefits) are addressed first.\n",
      "\n",
      "#### **6. Red Hat: Intuition and Emotions (Least Impactful, but Still Relevant)**\n",
      "* **Approach**: Reflect on emotional responses:\n",
      "  - How does choosing this home make you feel? Does it align with your family's long-term aspirations?\n",
      "  - Tap into your gut instincts—does this home feel \"right\" for you?\n",
      "* **Reason for Priority**: Emotional responses are highly subjective and variable. They should not drive the decision but play a complementary role to reinforce or challenge practical considerations.\n",
      "\n",
      "---\n",
      "\n",
      "### **Recommended Focus: Combined Hats**\n",
      "Based on the prioritization, focus on **White Hat (Information and Facts)**, **Yellow Hat (Optimism and Benefits)**, and **Black Hat (Risks and Cautions)** as the primary decision-making frames. Here's why:\n",
      "1. **White Hat ensures objectivity** and provides the data you need to make a rational decision.\n",
      "2. **Yellow Hat inspires you** and connects the purchase to your larger goals.\n",
      "3. **Black Hat safeguards against errors** by addressing risks upfront.\n",
      "\n",
      "By focusing on these three hats, you strike an effective balance between rational analysis, positive motivation, and risk management. Blue Hat (Process and Control) can be applied as a meta-layer to organize these perspectives effectively, while Green Hat (Creativity) and Red Hat (Emotions) play supportive, secondary roles."
     ]
    }
   ],
   "source": [
    "// Set the overall system prompt to behave like a decision intelligence assistant (persona)\n",
    "var systemPrompt = \"\"\"\n",
    "You are a decision intelligence assistant. \n",
    "Assist the user in exploring options, reasoning through decisions, problem-solving, and applying systems thinking to various scenarios. \n",
    "Provide structured, logical, and comprehensive advice.\n",
    "\"\"\";\n",
    "\n",
    "// Decision Frames Prompt that lists the six thinking hats approach to purchasing a house \n",
    "var decisionFramesListPrompt = \"\"\"\n",
    "You are planning on purchasing a new home. \n",
    "Use Edward de Bono's Six thinking hats on how to approach the decision-making process. \n",
    "\n",
    "Instructions:\n",
    "List an approach for each of the six hats in the order of impact & influence from most to least. \n",
    "From the priorotized list suggest which thinking hats (decision frames) to focus on. \n",
    "It can be one of the hats or any combination of the thinking hats. \n",
    "\"\"\";\n",
    "\n",
    "// Create a new chat history object with proper system and user message roles\n",
    "var chatHistory = new ChatHistory();\n",
    "chatHistory.AddSystemMessage(systemPrompt);\n",
    "chatHistory.AddUserMessage(decisionFramesListPrompt);\n",
    "\n",
    "var chatResponse = string.Empty;\n",
    "await foreach (var content in chatCompletionService.GetStreamingChatMessageContentsAsync(chatHistory))\n",
    "{\n",
    "    chatResponse += content;\n",
    "    Console.Write(content);\n",
    "}\n",
    "chatHistory.AddAssistantMessage(chatResponse);"
   ]
  },
  {
   "cell_type": "markdown",
   "metadata": {},
   "source": [
    "So far, (given the house purchase decision) Generative AI has helped create decision frames with the six thinking hats framework, rank them from most impact & influence from most to least and select the top 3 decision frames. The next logical step is to leverage Generative AI to apply the selected 3 decision frames for the house purchase decision.  \n",
    "\n",
    "This can be done in two different ways:  \n",
    "1) **Single Decision Prompt:** Instruct (prompt) the GenAI model \"think internally\" on the decision frames, ranking, selecting the top decision frames and then finally output the applied decision frames for the house purchase decision.\n",
    "2) **Workflow Decision Prompts:** This approach uses multiple prompts together to arrive at a decision approach. This breaks the problem down into smaller components and executes each component in sequence. The value is that each step can be optimized individually and each intermediate output is clearly available for analysis. This is ideal for sufficiently important decision problems.  "
   ]
  },
  {
   "cell_type": "markdown",
   "metadata": {},
   "source": [
    "#### Single Decision Prompt "
   ]
  },
  {
   "cell_type": "code",
   "execution_count": 5,
   "metadata": {
    "dotnet_interactive": {
     "language": "csharp"
    },
    "polyglot_notebook": {
     "kernelName": "csharp"
    },
    "vscode": {
     "languageId": "polyglot-notebook"
    }
   },
   "outputs": [
    {
     "name": "stdout",
     "output_type": "stream",
     "text": [
      "Here is an approach for purchasing a house based on the \"selected decision frames\":\n",
      "\n",
      "### 1. **White Hat (Focusing on Facts and Information):**\n",
      "   - **Approach:** Collect all the necessary data required for this decision. Research the housing market, neighborhood statistics (crime rate, schools, proximity to work), property prices, interest rates for mortgage loans, and property tax rates. Make a firm budget and clarify your credit score status. Create a checklist of critical features such as house size, number of rooms, type of property, and amenities. Ensure you have all this factual information to make an informed choice.\n",
      "\n",
      "### 2. **Yellow Hat (Focusing on Positive Aspects):**\n",
      "   - **Approach:** Outline all the potential benefits of investing in a new home. Think about how this home might meet your long-term goals, such as financial security, family comfort, or living in a desired location. Consider how purchasing a home aligns with your dream lifestyle. Imagine the value this house might appreciate over time, the joy it could bring, and the stability it provides. Focus on the positives that will make this decision feel like a rewarding investment.\n",
      "\n",
      "### 3. **Black Hat (Identifying Risks and Downsides):**\n",
      "   - **Approach:** List all the potential risks or challenges. Can you afford the house in the long run if unforeseen financial burdens occur? Are there hidden costs like maintenance, insurance, or renovations? What if property values decline in the area? Are there risks of buying in a flood-prone/earthquake-prone area? Will your lifestyle requirements change (e.g., growing family) such that this property may no longer suit you? Use this frame to mitigate risks by including contingencies in the plan.\n",
      "\n",
      "### 4. **Green Hat (Focusing on Creativity and Alternatives):**\n",
      "   - **Approach:** Think creatively about your options. Could you explore alternatives like renting to own, looking for fixer-uppers to customize, or waiting for better market conditions? Could you consider homes with features that are not currently on your list but might add value later (e.g., an extra room that could be rented out or converted to an office)? This frame allows you to generate ideas beyond just the obvious.\n",
      "\n",
      "### 5. **Red Hat (Considering Emotions and Gut Feelings):**\n",
      "   - **Approach:** Reflect on how you feel during the house tours or when thinking of making this big decision. Are you genuinely excited about a house, or do you have nagging doubts about any? Do you feel any emotional attachment to a particular neighborhood or home? Be honest about your instincts and how the decision aligns with your emotional well-being and values.\n",
      "\n",
      "### 6. **Blue Hat (Focusing on Process and Control):**\n",
      "   - **Approach:** Define the steps for this decision structurally. Decide who will handle specific tasks—will you work with a real estate agent, financial advisor, or legal expert? Set timelines, create a decision matrix, and prioritize clear checkpoints (e.g., identifying top neighborhoods, calculating affordability, finalizing mortgage pre-approval). Use this structured thinking to remain in control of the process and ensure all the elements are aligned as you move toward a final decision."
     ]
    }
   ],
   "source": [
    "// Set the overall system prompt to behave like a Decision Intelligence assistant (persona)\n",
    "var systemPrompt = \"\"\"\n",
    "You are a Decision Intelligence assistant. \n",
    "Assist the user in exploring options, reasoning through decisions, problem-solving, and applying systems thinking to various scenarios. \n",
    "Provide structured, logical, and comprehensive advice.\n",
    "\"\"\";\n",
    "\n",
    "// Decision Frames Prompt that lists the six thinking hats approach to purchasing a house \n",
    "var decisionFramesListPrompt = \"\"\"\n",
    "You are planning on purchasing a new home. \n",
    "Use Edward de Bono's Six thinking hats on how to approach the decision-making process. \n",
    "\n",
    "Instructions:\n",
    "\n",
    "<Do Not Show these steps>\n",
    "INTERNALLY THINK about an approach for each of the six hats in the order of impact & influence from most to least. \n",
    "From the priorotized list INTERNALLY PROCESS which thinking hats (decision frames) to focus on. \n",
    "It can be one of the hats or any combination of the thinking hats. \n",
    "Let's call that internal list \"selected decision frames\"\n",
    "</Do Not Show these steps>\n",
    "\n",
    "Only output these steps to the user: \n",
    "Finally, from the internal \"selected decision frames\", create an approach for each for purchasing a house.  \n",
    "\"\"\";\n",
    "\n",
    "// Create a new chat history object with proper system and user message roles\n",
    "var chatHistory = new ChatHistory();\n",
    "chatHistory.AddSystemMessage(systemPrompt);\n",
    "chatHistory.AddUserMessage(decisionFramesListPrompt);\n",
    "\n",
    "var chatResponse = string.Empty;\n",
    "await foreach (var content in chatCompletionService.GetStreamingChatMessageContentsAsync(chatHistory))\n",
    "{\n",
    "    chatResponse += content;\n",
    "    Console.Write(content);\n",
    "}\n",
    "chatHistory.AddAssistantMessage(chatResponse);"
   ]
  }
 ],
 "metadata": {
  "kernelspec": {
   "display_name": ".NET (C#)",
   "language": "C#",
   "name": ".net-csharp"
  },
  "language_info": {
   "name": "python"
  },
  "polyglot_notebook": {
   "kernelInfo": {
    "defaultKernelName": "csharp",
    "items": [
     {
      "aliases": [],
      "name": "csharp"
     }
    ]
   }
  }
 },
 "nbformat": 4,
 "nbformat_minor": 2
}
