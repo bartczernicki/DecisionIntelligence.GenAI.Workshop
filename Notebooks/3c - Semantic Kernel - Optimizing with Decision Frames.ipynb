{
 "cells": [
  {
   "cell_type": "markdown",
   "metadata": {},
   "source": [
    "<img style=\"float: left;padding-right: 10px\" width =\"40px\" src=\"https://raw.githubusercontent.com/bartczernicki/DecisionIntelligence.GenAI.Workshop/main/Images/SemanticKernelLogo.png\">\n",
    "\n",
    "## Semantic Kernel - Optimizing with Decision Frames  "
   ]
  },
  {
   "cell_type": "markdown",
   "metadata": {},
   "source": [
    "Work in Progress "
   ]
  },
  {
   "cell_type": "markdown",
   "metadata": {},
   "source": [
    "### Step 1 - Initialize Configuration Builder & Build the Semantic Kernel Orchestration "
   ]
  },
  {
   "cell_type": "code",
   "execution_count": 1,
   "metadata": {
    "dotnet_interactive": {
     "language": "csharp"
    },
    "polyglot_notebook": {
     "kernelName": "csharp"
    },
    "vscode": {
     "languageId": "polyglot-notebook"
    }
   },
   "outputs": [
    {
     "data": {
      "text/html": [
       "<div><div></div><div></div><div><strong>Installed Packages</strong><ul><li><span>Microsoft.Extensions.Configuration, 9.0.0</span></li><li><span>Microsoft.Extensions.Configuration.Json, 9.0.0</span></li></ul></div></div>"
      ]
     },
     "metadata": {},
     "output_type": "display_data"
    }
   ],
   "source": [
    "// Import the required NuGet configuration packages\n",
    "#r \"nuget: Microsoft.Extensions.Configuration, 9.0.0\"\n",
    "#r \"nuget: Microsoft.Extensions.Configuration.Json, 9.0.0\"\n",
    "\n",
    "using Microsoft.Extensions.Configuration.Json;\n",
    "using Microsoft.Extensions.Configuration;\n",
    "using System.IO;\n",
    "\n",
    "// Load the configuration settings from the local.settings.json and secrets.settings.json files\n",
    "// The secrets.settings.json file is used to store sensitive information such as API keys\n",
    "var configurationBuilder = new ConfigurationBuilder()\n",
    "    .SetBasePath(Directory.GetCurrentDirectory())\n",
    "    .AddJsonFile(\"local.settings.json\", optional: true, reloadOnChange: true)\n",
    "    .AddJsonFile(\"secrets.settings.json\", optional: true, reloadOnChange: true);\n",
    "var config = configurationBuilder.Build();\n",
    "\n",
    "// IMPORTANT: You ONLY NEED either Azure OpenAI or OpenAI connectiopn info, not both.\n",
    "// Azure OpenAI Connection Info\n",
    "var azureOpenAIEndpoint = config[\"AzureOpenAI:Endpoint\"];\n",
    "var azureOpenAIAPIKey = config[\"AzureOpenAI:APIKey\"];\n",
    "var azureOpenAIModelDeploymentName = config[\"AzureOpenAI:ModelDeploymentName\"];\n",
    "// OpenAI Connection Info \n",
    "var openAIAPIKey = config[\"OpenAI:APIKey\"];\n",
    "var openAIModelId = config[\"OpenAI:ModelId\"];"
   ]
  },
  {
   "cell_type": "code",
   "execution_count": 2,
   "metadata": {
    "dotnet_interactive": {
     "language": "csharp"
    },
    "polyglot_notebook": {
     "kernelName": "csharp"
    },
    "vscode": {
     "languageId": "polyglot-notebook"
    }
   },
   "outputs": [
    {
     "data": {
      "text/html": [
       "<div><div></div><div></div><div><strong>Installed Packages</strong><ul><li><span>Microsoft.Extensions.DependencyInjection, 9.0.0</span></li><li><span>Microsoft.SemanticKernel, 1.37.0</span></li></ul></div></div>"
      ]
     },
     "metadata": {},
     "output_type": "display_data"
    },
    {
     "name": "stdout",
     "output_type": "stream",
     "text": [
      "Using Azure OpenAI Service\r\n"
     ]
    }
   ],
   "source": [
    "// Install the required NuGet packages\n",
    "// Note: This also installs the Dependency Injection Package to retrieve the ChatCompletionService\n",
    "#r \"nuget: Microsoft.Extensions.DependencyInjection, 9.0.0\"\n",
    "#r \"nuget: Microsoft.SemanticKernel, 1.37\"\n",
    "\n",
    "using Microsoft.Extensions.DependencyInjection.Extensions;\n",
    "using Microsoft.Extensions.DependencyInjection;\n",
    "using Microsoft.SemanticKernel;\n",
    "using Microsoft.SemanticKernel.ChatCompletion;\n",
    "using Microsoft.SemanticKernel.Connectors.OpenAI;\n",
    "\n",
    "Kernel semanticKernel;\n",
    "\n",
    "// Set the flag to use Azure OpenAI or OpenAI. False to use OpenAI, True to use Azure OpenAI\n",
    "var useAzureOpenAI = true;\n",
    "\n",
    "// Create a new Semantic Kernel instance\n",
    "if (useAzureOpenAI)\n",
    "{\n",
    "    Console.WriteLine(\"Using Azure OpenAI Service\");\n",
    "    semanticKernel = Kernel.CreateBuilder()\n",
    "        .AddAzureOpenAIChatCompletion(\n",
    "            deploymentName: azureOpenAIModelDeploymentName,\n",
    "            endpoint: azureOpenAIEndpoint,\n",
    "            apiKey: azureOpenAIAPIKey)\n",
    "        .Build();\n",
    "}\n",
    "else\n",
    "{\n",
    "    Console.WriteLine(\"Using OpenAI Service\");\n",
    "    semanticKernel = Kernel.CreateBuilder()\n",
    "        .AddOpenAIChatCompletion(\n",
    "            modelId: openAIModelId,\n",
    "            apiKey: openAIAPIKey)\n",
    "        .Build();\n",
    "}\n",
    "\n",
    "var chatCompletionService = semanticKernel.Services.GetRequiredService<IChatCompletionService>();"
   ]
  },
  {
   "cell_type": "markdown",
   "metadata": {},
   "source": [
    "### Step 2 - Decision Frames (Thinking Hats) Scenario for a Major Purchase "
   ]
  },
  {
   "cell_type": "markdown",
   "metadata": {},
   "source": [
    "The code below will list the potential decision frames (using thinking hats frames) that may be appropriate to form different approaches for purchasing a house. Generative AI can be used to easily \"put on a hat\" (approach a problem with a specific decision frame) much easier than a human decision maker.  "
   ]
  },
  {
   "cell_type": "code",
   "execution_count": 3,
   "metadata": {
    "dotnet_interactive": {
     "language": "csharp"
    },
    "polyglot_notebook": {
     "kernelName": "csharp"
    },
    "vscode": {
     "languageId": "polyglot-notebook"
    }
   },
   "outputs": [
    {
     "name": "stdout",
     "output_type": "stream",
     "text": [
      "Edward de Bono's Six Thinking Hats is a powerful decision-making framework that ensures you evaluate a situation from multiple perspectives. Here's how you can use each of the six hats in the context of purchasing a new home:\n",
      "\n",
      "---\n",
      "\n",
      "### **1. White Hat (Facts and Information)**\n",
      "Focus: Data, facts, and available information. What do you know, and what do you need to know?\n",
      "\n",
      "- **Approach:**  \n",
      "  - Gather information about your budget, mortgage options, and financial standing.  \n",
      "  - Research the housing market, property prices, interest rates, and market trends.  \n",
      "  - Assess the needs of your household: location, size, school proximity, work commute, amenities, etc.  \n",
      "  - List must-have features and nice-to-have features.  \n",
      "  - Identify knowledge gaps: What questions do you need to ask realtors, banks, or home inspectors?  \n",
      "\n",
      "---\n",
      "\n",
      "### **2. Red Hat (Feelings and Intuition)**  \n",
      "Focus: Emotions, hunches, and gut reactions.\n",
      "\n",
      "- **Approach:**  \n",
      "  - Consider how each potential home makes you feel. Does any property immediately feel “right” or “off”?  \n",
      "  - Assess subjective factors, such as how safe you feel about the neighborhood or the emotional connection you have with the house.  \n",
      "  - Reflect on potential stressors or anxieties about the home-buying process. Are you rushing into a decision, or is this decision making you uneasy?  \n",
      "  - Balance practical decision-making with your instinctive feelings.\n",
      "\n",
      "---\n",
      "\n",
      "### **3. Black Hat (Caution and Risks)**  \n",
      "Focus: Challenges, risks, and potential downsides.\n",
      "\n",
      "- **Approach:**  \n",
      "  - Critique the cons of each home: What are the property's drawbacks or limitations (e.g., maintenance costs, bad resale value, or undesirable neighbors)?  \n",
      "  - Evaluate risks like market downturns, unforeseen repairs, or overspending and becoming house-poor.  \n",
      "  - Consider external factors like natural disasters, potential rezoning, or noisy developments nearby.  \n",
      "  - Assess potential difficulties securing financing or challenges with the home inspection process.  \n",
      "\n",
      "---\n",
      "\n",
      "### **4. Yellow Hat (Optimism and Benefits)**  \n",
      "Focus: Positives, opportunities, and the best-case scenario.\n",
      "\n",
      "- **Approach:**  \n",
      "  - Highlight the benefits of each option: Does one home offer proximity to schools, appreciation in value, or low energy costs?  \n",
      "  - Envision your best-case outcome: How might one property provide better family stability, lifestyle improvement, or long-term happiness?  \n",
      "  - Think long-term: How will the home meet your future needs (e.g., growing family or retirement)?  \n",
      "  - Identify any perks (e.g., a big yard, modern kitchen, or access to recreational areas).  \n",
      "\n",
      "---\n",
      "\n",
      "### **5. Green Hat (Creativity and Alternatives)**  \n",
      "Focus: Creative ideas, new possibilities, and thinking outside the box.\n",
      "\n",
      "- **Approach:**  \n",
      "  - Brainstorm alternatives: Could you expand your search area, consider fixer-uppers, or look at new construction?  \n",
      "  - Explore unconventional financing or savings strategies, such as utilizing government programs, negotiating the price, or timing the market better.  \n",
      "  - Consider remodeling potential: Could you update certain features of a less-than-perfect home to match your dreams?  \n",
      "  - Think about alternative housing arrangements like multi-family homes for rental income or co-buying with family.  \n",
      "\n",
      "---\n",
      "\n",
      "### **6. Blue Hat (Process and Decision Coordination)**  \n",
      "Focus: Managing the thinking process, defining objectives, and next steps.\n",
      "\n",
      "- **Approach:**  \n",
      "  - Set a clear action plan. Define your timeline for purchasing the home and outline milestones (e.g., securing pre-approval, viewing properties, making an offer).  \n",
      "  - Organize a pros and cons list or a weighted scoring system to systematically compare properties.  \n",
      "  - Coordinate with stakeholders: Consult your family members, real estate agent, and mortgage advisor.  \n",
      "  - Periodically review your process to ensure you're staying aligned with your goals and financial limits.  \n",
      "  - Use all the other hats systematically to guide you toward a balanced decision.  \n",
      "\n",
      "---\n",
      "\n",
      "### **Summary**  \n",
      "Using the Six Thinking Hats ensures you're making a well-rounded, strategic decision. The **White Hat** ensures you’ve gathered all facts. The **Red Hat** allows you to trust emotions. The **Black Hat** ensures caution, while the **Yellow Hat** highlights potential benefits. The **Green Hat** allows for creative thinking, and the **Blue Hat** provides structure to the overall decision-making process. By combining these perspectives, you'll confidently pursue the best option for your new home."
     ]
    }
   ],
   "source": [
    "// Set the overall system prompt to behave like a decision intelligence assistant (persona)\n",
    "var systemPrompt = \"\"\"\n",
    "You are a decision intelligence assistant. \n",
    "Assist the user in exploring options, reasoning through decisions, problem-solving, and applying systems thinking to various scenarios. \n",
    "Provide structured, logical, and comprehensive advice.\n",
    "\"\"\";\n",
    "\n",
    "// Decision Frames Prompt that lists the six thinking hats approach to purchasing a house \n",
    "var decisionFramesPrompt = \"\"\"\n",
    "You are planning on purchasing a new home. \n",
    "Use Edward de Bono's Six thinking hats on how to approach the decision-making process. \n",
    "\n",
    "Instructions: \n",
    "List an approach for each of the six hats. \n",
    "\"\"\";\n",
    "\n",
    "// Create a new chat history object with proper system and user message roles\n",
    "var chatHistory = new ChatHistory();\n",
    "chatHistory.AddSystemMessage(systemPrompt);\n",
    "chatHistory.AddUserMessage(decisionFramesPrompt);\n",
    "\n",
    "var chatResponse = string.Empty;\n",
    "await foreach (var content in chatCompletionService.GetStreamingChatMessageContentsAsync(chatHistory))\n",
    "{\n",
    "    chatResponse += content;\n",
    "    Console.Write(content);\n",
    "}\n",
    "chatHistory.AddAssistantMessage(chatResponse);"
   ]
  },
  {
   "cell_type": "markdown",
   "metadata": {},
   "source": [
    "This can be enhanced further by having GenAI suggest which of the decision frames might be the most useful for a high-stakes decision. Therefore, the prompt above can be optimized further by listing all the decision frames and then priorotizing which ones will have the most impact and influence on the house purchase decision.  \n",
    "\n",
    "This allows the Artificial Intelligence automation to focus on the optimization of the decision process and the human on the actual decision selection and execution!"
   ]
  },
  {
   "cell_type": "code",
   "execution_count": 4,
   "metadata": {
    "dotnet_interactive": {
     "language": "csharp"
    },
    "polyglot_notebook": {
     "kernelName": "csharp"
    },
    "vscode": {
     "languageId": "polyglot-notebook"
    }
   },
   "outputs": [
    {
     "name": "stdout",
     "output_type": "stream",
     "text": [
      "Certainly! Using Edward de Bono's **Six Thinking Hats** framework, we can systematically approach the decision-making process for purchasing a new home. Let’s start by listing the hats in the **prioritized order based on their impact and influence** on this specific decision. I'll then suggest which hats to focus on for optimal results:\n",
      "\n",
      "---\n",
      "\n",
      "### **1. White Hat (Information and Data Focus)**\n",
      "- **Purpose**: Focuses on gathering all relevant facts, data, and information about the house, neighborhood, finances, and market trends.\n",
      "- **Approach**:\n",
      "  - Understand your budget, mortgage options, and long-term financial implications.\n",
      "  - Review neighborhood amenities, schools, proximity to work, and crime rates.\n",
      "  - Analyze housing market trends: Is it a buyer's or a seller's market? Home appreciation/value trends.\n",
      "  - Check structural conditions of the home: inspections, maintenance costs, and potential repairs.\n",
      "  \n",
      "- **Impact**: This is critical because purchasing a home is a long-term financial and lifestyle commitment. Decisions must be rooted in thorough research and facts.\n",
      "\n",
      "---\n",
      "\n",
      "### **2. Yellow Hat (Optimism and Opportunities)**\n",
      "- **Purpose**: Contemplates the positive possibilities, benefits, and opportunities of buying this house.\n",
      "- **Approach**:\n",
      "  - Envision how the house fits into your life goals: Does it offer growth opportunities (e.g., family, home office, or outdoor space)?\n",
      "  - Assess the emotional satisfaction of living there, such as safety, amenities, and aesthetics.\n",
      "  - Consider appreciation potential or investment opportunities if you choose to sell it in the future.\n",
      "  \n",
      "- **Impact**: This hat ensures you focus on the exciting potential benefits that make the purchase feel worthwhile and fulfilling.\n",
      "\n",
      "---\n",
      "\n",
      "### **3. Black Hat (Risks and Challenges)**\n",
      "- **Purpose**: Focuses on identifying risks, weaknesses, and negative aspects of the decision.\n",
      "- **Approach**: \n",
      "  - Evaluate hidden costs: maintenance, homeowners’ association (HOA) fees, property taxes, insurance, and potential renovations.\n",
      "  - Analyze market risks: Could the property lose value? Could the area decline in desirability?\n",
      "  - Consider personal risks: Is the mortgage manageable? Does buying this house compromise flexibility or finances?\n",
      "  - Assess natural disaster risks (flood zones, fire hazards, etc.) or neighborhood risks.\n",
      "  \n",
      "- **Impact**: This hat is crucial because it prevents impulsive or overly optimistic decisions and prepares you for challenges.\n",
      "\n",
      "---\n",
      "\n",
      "### **4. Green Hat (Creativity and Alternatives)**\n",
      "- **Purpose**: Considers creative solutions, alternatives, and thinking \"outside the box.\"\n",
      "- **Approach**:\n",
      "  - Explore unorthodox housing options (new builds, fixer-uppers, or different neighborhoods).\n",
      "  - Investigate different financing solutions (rent-to-own, first-time buyer programs, or shared equity ownership).\n",
      "  - Consider how you could remodel or upgrade this home to better meet your needs (e.g., adding solar energy, converting spaces, landscaping).\n",
      "  \n",
      "- **Impact**: Applying creativity opens the door to possibilities you might not otherwise consider.\n",
      "\n",
      "---\n",
      "\n",
      "### **5. Red Hat (Emotions and Intuition)**\n",
      "- **Purpose**: Reflects on gut feelings, emotional responses, and instinct about the house.\n",
      "- **Approach**:\n",
      "  - Does the house feel like \"home\" when you walk through it?\n",
      "  - Are you emotionally connected to the neighborhood, space, or design?\n",
      "  - Consider the reactions of family members or people who would live there.\n",
      "  \n",
      "- **Impact**: Emotional resonance matters because a home isn’t just a financial investment—it’s where you live and create memories.\n",
      "\n",
      "---\n",
      "\n",
      "### **6. Blue Hat (Process and Oversight)**\n",
      "- **Purpose**: Sets the decision-making process in motion and ensures all hats are applied systematically.\n",
      "- **Approach**:\n",
      "  - Define your criteria upfront (budget, size, location, needs vs. wants).\n",
      "  - Create action steps: touring houses, arranging inspections, comparing mortgage lenders, and negotiating offers.\n",
      "  - Set a deadline for decision-making to avoid analysis paralysis.\n",
      "  \n",
      "- **Impact**: While essential to the decision-making process, the Blue Hat oversight mostly acts as a guide to ensure all other hats are used effectively.\n",
      "\n",
      "---\n",
      "\n",
      "### **Prioritization Summary**:\n",
      "1. **White Hat (Facts and Information)** – The foundation of the decision.\n",
      "2. **Yellow Hat (Opportunities)** – Motivates you toward a positive outcome.\n",
      "3. **Black Hat (Risks)** – Balances optimistic thinking with prudent caution.\n",
      "4. **Green Hat (Creativity)** – Explores innovative possibilities.\n",
      "5. **Red Hat (Emotions)** – Checks emotional alignment.\n",
      "6. **Blue Hat (Process)** – Directs and organizes the decision-making framework.\n",
      "\n",
      "---\n",
      "\n",
      "### **Recommended Focus**:\n",
      "- **Combination of White Hat + Yellow Hat + Black Hat**:\n",
      "  - **Why?** These three hats collectively balance rationality, optimism, and caution. Start by conducting thorough research (White), envision the best-case scenario and value of the decision (Yellow), then scrutinize risks and potential downsides (Black).\n",
      "  \n",
      "- Once these are clear, introduce elements of the **Green Hat** to explore creative solutions and **Red Hat** to validate your emotional and intuitive connection to the house. Finally, use the **Blue Hat** to maintain structure and ensure you're working through each hat systematically."
     ]
    }
   ],
   "source": [
    "// Set the overall system prompt to behave like a decision intelligence assistant (persona)\n",
    "var systemPrompt = \"\"\"\n",
    "You are a decision intelligence assistant. \n",
    "Assist the user in exploring options, reasoning through decisions, problem-solving, and applying systems thinking to various scenarios. \n",
    "Provide structured, logical, and comprehensive advice.\n",
    "\"\"\";\n",
    "\n",
    "// Decision Frames Prompt that lists the six thinking hats approach to purchasing a house \n",
    "var decisionFramesListPrompt = \"\"\"\n",
    "You are planning on purchasing a new home. \n",
    "Use Edward de Bono's Six thinking hats on how to approach the decision-making process. \n",
    "\n",
    "Instructions:\n",
    "List an approach for each of the six hats in the order of impact & influence from most to least. \n",
    "From the priorotized list suggest which thinking hats (decision frames) to focus on. \n",
    "It can be one of the hats or any combination of the thinking hats. \n",
    "\"\"\";\n",
    "\n",
    "// Create a new chat history object with proper system and user message roles\n",
    "var chatHistory = new ChatHistory();\n",
    "chatHistory.AddSystemMessage(systemPrompt);\n",
    "chatHistory.AddUserMessage(decisionFramesListPrompt);\n",
    "\n",
    "var chatResponse = string.Empty;\n",
    "await foreach (var content in chatCompletionService.GetStreamingChatMessageContentsAsync(chatHistory))\n",
    "{\n",
    "    chatResponse += content;\n",
    "    Console.Write(content);\n",
    "}\n",
    "chatHistory.AddAssistantMessage(chatResponse);"
   ]
  },
  {
   "cell_type": "markdown",
   "metadata": {},
   "source": [
    "So far, (given the house purchase decision) Generative AI has helped create decision frames with the six thinking hats framework, rank them from most impact & influence from most to least and select the top 3 decision frames. The next logical step is to leverage Generative AI to apply the selected 3 decision frames for the house purchase decision.  \n",
    "\n",
    "This can be done in two different ways:  \n",
    "1) **Single Decision Prompt:** Instruct (prompt) the GenAI model \"think internally\" on the decision frames, ranking, selecting the top decision frames and then finally output the applied decision frames for the house purchase decision.\n",
    "2) **Workflow Decision Prompts:** This approach uses multiple prompts together to arrive at a decision approach. This breaks the problem down into smaller components and executes each component in sequence. The value is that each step can be optimized individually and each intermediate output is clearly available for analysis. This is ideal for sufficiently important decision problems.  "
   ]
  },
  {
   "cell_type": "markdown",
   "metadata": {},
   "source": [
    "#### Single Decision Prompt "
   ]
  },
  {
   "cell_type": "code",
   "execution_count": null,
   "metadata": {
    "dotnet_interactive": {
     "language": "csharp"
    },
    "polyglot_notebook": {
     "kernelName": "csharp"
    },
    "vscode": {
     "languageId": "polyglot-notebook"
    }
   },
   "outputs": [
    {
     "name": "stdout",
     "output_type": "stream",
     "text": [
      "Here’s an approach based on the \"selected decision frames\" for purchasing a house:\n",
      "\n",
      "### Selected Decision Frames and Their Approach:\n",
      "\n",
      "#### 1. **White Hat (Facts and Information)**:\n",
      "   - **Gathering Data**: Start by collecting all relevant information about the housing market, including current prices, types of homes within your budget, neighborhoods, schools, commute times, and amenities nearby.\n",
      "   - **Financial Analysis**: Review your finances—calculate your budget, explore mortgage options, and understand additional costs like property taxes, closing costs, and maintenance expenses.\n",
      "   - **Understanding Trends**: Research market trends to assess whether it's a buyer's or seller's market. Analyze home value appreciation rates for potential investment growth.\n",
      "\n",
      "#### 2. **Yellow Hat (Optimism and Opportunities)**: \n",
      "   - **Envisioning Positives**: Imagine how this decision could serve your long-term goals. For example, owning a home could mean building equity, increasing financial stability, and gaining a sense of community.\n",
      "   - **Lifestyle Benefits**: Consider practical benefits like having more space, the potential for customization, or living closer to work or family.\n",
      "   - **Future Growth**: Evaluate the upside, like the possibility of property appreciation, and how the house might accommodate future life changes (e.g., growing a family or creating a home office).\n",
      "\n",
      "#### 3. **Black Hat (Risk Assessment and Challenges)**:\n",
      "   - **Financial Risks**: Assess the risks associated with overextending your budget, changing interest rates, or purchasing at the peak of the market.\n",
      "   - **Property Issues**: Identify potential downsides such as hidden repair costs, poor resale value, or problematic neighbors.\n",
      "   - **Lifestyle Fit**: Think about worst-case scenarios—like a long commute becoming a burden, the neighborhood not being what it seemed, or lifestyle restrictions from owning vs. renting.\n",
      "\n",
      "#### 4. **Green Hat (Creativity and Alternatives)**:\n",
      "   - **Exploring Options**: Look into creative opportunities like fixer-uppers for a lower purchase price or homes in neighborhoods undergoing revitalization.\n",
      "   - **Flexible Solutions**: Think about alternatives to buying immediately, such as waiting for a better market, renting for a while longer, or even considering different geographic areas.\n",
      "   - **Personalization**: Imagine creative ways to make a new home uniquely yours, through remodeling, landscaping, or design upgrades that align with your style.\n",
      "\n",
      "---\n",
      "\n",
      "The selected decision frames focus on blending **facts and analysis (White Hat)** with **optimism (Yellow Hat)** while carefully managing **risks (Black Hat)** and exploring creative alternatives (Green Hat). This will allow for a well-rounded, structured approach to your home-buying decision."
     ]
    }
   ],
   "source": [
    "// Set the overall system prompt to behave like a Decision Intelligence assistant (persona)\n",
    "var systemPrompt = \"\"\"\n",
    "You are a Decision Intelligence assistant. \n",
    "Assist the user in exploring options, reasoning through decisions, problem-solving, and applying systems thinking to various scenarios. \n",
    "Provide structured, logical, and comprehensive advice.\n",
    "\"\"\";\n",
    "\n",
    "// Decision Frames Prompt that lists the six thinking hats approach to purchasing a house \n",
    "var decisionFramesListPrompt = \"\"\"\n",
    "You are planning on purchasing a new home. \n",
    "Use Edward de Bono's Six thinking hats on how to approach the decision-making process. \n",
    "\n",
    "Instructions:\n",
    "\n",
    "<Do Not Show these steps>\n",
    "INTERNALLY THINK about an approach for each of the six hats in the order of impact & influence from most to least. \n",
    "From the priorotized list INTERNALLY PROCESS which thinking hats (decision frames) to focus on. \n",
    "It can be one of the hats or any combination of the thinking hats. \n",
    "Let's call that internal list \"selected decision frames\"\n",
    "</Do Not Show these steps>\n",
    "\n",
    "Only output these steps to the user: \n",
    "Finally, from the internal \"selected decision frames\", create an approach for each for purchasing a house.  \n",
    "\"\"\";\n",
    "\n",
    "// Create a new chat history object with proper system and user message roles\n",
    "var chatHistory = new ChatHistory();\n",
    "chatHistory.AddSystemMessage(systemPrompt);\n",
    "chatHistory.AddUserMessage(decisionFramesListPrompt);\n",
    "\n",
    "var chatResponse = string.Empty;\n",
    "await foreach (var content in chatCompletionService.GetStreamingChatMessageContentsAsync(chatHistory))\n",
    "{\n",
    "    chatResponse += content;\n",
    "    Console.Write(content);\n",
    "}\n",
    "chatHistory.AddAssistantMessage(chatResponse);"
   ]
  }
 ],
 "metadata": {
  "kernelspec": {
   "display_name": ".NET (C#)",
   "language": "C#",
   "name": ".net-csharp"
  },
  "language_info": {
   "name": "python"
  },
  "polyglot_notebook": {
   "kernelInfo": {
    "defaultKernelName": "csharp",
    "items": [
     {
      "aliases": [],
      "name": "csharp"
     }
    ]
   }
  }
 },
 "nbformat": 4,
 "nbformat_minor": 2
}
