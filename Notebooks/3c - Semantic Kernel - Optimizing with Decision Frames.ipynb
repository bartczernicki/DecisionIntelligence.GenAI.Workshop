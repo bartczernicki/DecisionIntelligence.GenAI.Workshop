{
 "cells": [
  {
   "cell_type": "markdown",
   "metadata": {},
   "source": [
    "<img style=\"float: left;padding-right: 10px\" width =\"40px\" src=\"https://raw.githubusercontent.com/bartczernicki/DecisionIntelligence.GenAI.Workshop/main/Images/SemanticKernelLogo.png\">\n",
    "\n",
    "## Semantic Kernel - Optimizing with Decision Frames  "
   ]
  },
  {
   "cell_type": "markdown",
   "metadata": {},
   "source": [
    "Work in Progress "
   ]
  },
  {
   "cell_type": "markdown",
   "metadata": {},
   "source": [
    "### Step 1 - Initialize Configuration Builder & Build the Semantic Kernel Orchestration "
   ]
  },
  {
   "cell_type": "code",
   "execution_count": 1,
   "metadata": {
    "dotnet_interactive": {
     "language": "csharp"
    },
    "polyglot_notebook": {
     "kernelName": "csharp"
    },
    "vscode": {
     "languageId": "polyglot-notebook"
    }
   },
   "outputs": [
    {
     "data": {
      "text/html": [
       "<div><div></div><div></div><div><strong>Installed Packages</strong><ul><li><span>Microsoft.Extensions.Configuration, 9.0.4</span></li><li><span>Microsoft.Extensions.Configuration.Json, 9.0.4</span></li></ul></div></div>"
      ]
     },
     "metadata": {},
     "output_type": "display_data"
    }
   ],
   "source": [
    "// Import the required NuGet configuration packages\n",
    "#r \"nuget: Microsoft.Extensions.Configuration, 9.0.4\"\n",
    "#r \"nuget: Microsoft.Extensions.Configuration.Json, 9.0.4\"\n",
    "\n",
    "using Microsoft.Extensions.Configuration.Json;\n",
    "using Microsoft.Extensions.Configuration;\n",
    "using System.IO;\n",
    "\n",
    "// Load the configuration settings from the local.settings.json and secrets.settings.json files\n",
    "// The secrets.settings.json file is used to store sensitive information such as API keys\n",
    "var configurationBuilder = new ConfigurationBuilder()\n",
    "    .SetBasePath(Directory.GetCurrentDirectory())\n",
    "    .AddJsonFile(\"local.settings.json\", optional: true, reloadOnChange: true)\n",
    "    .AddJsonFile(\"secrets.settings.json\", optional: true, reloadOnChange: true);\n",
    "var config = configurationBuilder.Build();\n",
    "\n",
    "// IMPORTANT: You ONLY NEED either Azure OpenAI or OpenAI connectiopn info, not both.\n",
    "// Azure OpenAI Connection Info\n",
    "var azureOpenAIEndpoint = config[\"AzureOpenAI:Endpoint\"];\n",
    "var azureOpenAIAPIKey = config[\"AzureOpenAI:APIKey\"];\n",
    "var azureOpenAIModelDeploymentName = config[\"AzureOpenAI:ModelDeploymentName\"];\n",
    "// OpenAI Connection Info \n",
    "var openAIAPIKey = config[\"OpenAI:APIKey\"];\n",
    "var openAIModelId = config[\"OpenAI:ModelId\"];"
   ]
  },
  {
   "cell_type": "code",
   "execution_count": 2,
   "metadata": {
    "dotnet_interactive": {
     "language": "csharp"
    },
    "polyglot_notebook": {
     "kernelName": "csharp"
    },
    "vscode": {
     "languageId": "polyglot-notebook"
    }
   },
   "outputs": [
    {
     "data": {
      "text/html": [
       "<div><div></div><div></div><div><strong>Installed Packages</strong><ul><li><span>Microsoft.Extensions.DependencyInjection, 9.0.4</span></li><li><span>Microsoft.SemanticKernel, 1.47.0</span></li></ul></div></div>"
      ]
     },
     "metadata": {},
     "output_type": "display_data"
    },
    {
     "name": "stdout",
     "output_type": "stream",
     "text": [
      "Using Azure OpenAI Service\n"
     ]
    }
   ],
   "source": [
    "// Install the required NuGet packages\n",
    "// Note: This also installs the Dependency Injection Package to retrieve the ChatCompletionService\n",
    "#r \"nuget: Microsoft.Extensions.DependencyInjection, 9.0.4\"\n",
    "#r \"nuget: Microsoft.SemanticKernel, 1.47\"\n",
    "\n",
    "using Microsoft.Extensions.DependencyInjection.Extensions;\n",
    "using Microsoft.Extensions.DependencyInjection;\n",
    "using Microsoft.SemanticKernel;\n",
    "using Microsoft.SemanticKernel.ChatCompletion;\n",
    "using Microsoft.SemanticKernel.Connectors.OpenAI;\n",
    "\n",
    "Kernel semanticKernel;\n",
    "\n",
    "// Set the flag to use Azure OpenAI or OpenAI. False to use OpenAI, True to use Azure OpenAI\n",
    "var useAzureOpenAI = true;\n",
    "\n",
    "// Create a new Semantic Kernel instance\n",
    "if (useAzureOpenAI)\n",
    "{\n",
    "    Console.WriteLine(\"Using Azure OpenAI Service\");\n",
    "    semanticKernel = Kernel.CreateBuilder()\n",
    "        .AddAzureOpenAIChatCompletion(\n",
    "            deploymentName: azureOpenAIModelDeploymentName,\n",
    "            endpoint: azureOpenAIEndpoint,\n",
    "            apiKey: azureOpenAIAPIKey)\n",
    "        .Build();\n",
    "}\n",
    "else\n",
    "{\n",
    "    Console.WriteLine(\"Using OpenAI Service\");\n",
    "    semanticKernel = Kernel.CreateBuilder()\n",
    "        .AddOpenAIChatCompletion(\n",
    "            modelId: openAIModelId,\n",
    "            apiKey: openAIAPIKey)\n",
    "        .Build();\n",
    "}\n",
    "\n",
    "var chatCompletionService = semanticKernel.Services.GetRequiredService<IChatCompletionService>();"
   ]
  },
  {
   "cell_type": "markdown",
   "metadata": {},
   "source": [
    "### Step 2 - Decision Frames (Thinking Hats) Scenario for a Major Purchase "
   ]
  },
  {
   "cell_type": "markdown",
   "metadata": {},
   "source": [
    "> 📜 \"The mere formulation of a problem is far more essential than its solution, which may be merely a matter of mathematical or experimental skill. To raise new questions, new possibilities, to regard old problems from a new angle requires creative imagination and marks real advances in science.\"\n",
    ">\n",
    "> -- <cite>Albert Einstein (Theoretical Physicist, Best known for developing the theory of relativity)</cite>  "
   ]
  },
  {
   "cell_type": "markdown",
   "metadata": {},
   "source": [
    "The code below will list the potential decision frames (using thinking hats frames) that may be appropriate to form different approaches for purchasing a house. Generative AI can be used to easily \"put on a hat\" (approach a problem with a specific decision frame) much easier than a human decision maker.  "
   ]
  },
  {
   "cell_type": "code",
   "execution_count": 3,
   "metadata": {
    "dotnet_interactive": {
     "language": "csharp"
    },
    "polyglot_notebook": {
     "kernelName": "csharp"
    },
    "vscode": {
     "languageId": "polyglot-notebook"
    }
   },
   "outputs": [
    {
     "name": "stdout",
     "output_type": "stream",
     "text": [
      "Edward de Bono's Six Thinking Hats is a structured decision-making tool that looks at a problem from six distinct perspectives. Here’s how you could apply each hat to purchasing a new home:\n",
      "\n",
      "---\n",
      "\n",
      "### 1. **White Hat (Facts and Information)**  \n",
      "Focus: What information do you have? What more do you need to know?  \n",
      "\n",
      "**Approach:**  \n",
      "- Gather essential data: your budget, income, mortgage pre-approval, credit score, etc.  \n",
      "- Research market trends: What are the housing prices in your desired area? Are prices rising or falling?  \n",
      "- Create a checklist of \"must-have\" home features (e.g., number of bedrooms, location, proximity to schools or work).  \n",
      "- Investigate property taxes, HOA fees, utility expenses, and other ongoing costs.  \n",
      "- Consult professionals (a realtor, mortgage lender, financial advisor).  \n",
      "- Research neighborhoods: crime rates, schools, commute times, amenities, future development.  \n",
      "\n",
      "---\n",
      "\n",
      "### 2. **Red Hat (Emotions and Intuition)**  \n",
      "Focus: What are your feelings and instincts telling you?  \n",
      "\n",
      "**Approach:**  \n",
      "- Reflect on how you feel when visiting a potential home—does it feel welcoming, comfortable, or suitable for your lifestyle?  \n",
      "- Identify emotional needs: Do you want a cozy home or something modern and impressive? Does proximity to family or sentimental attachment to a location matter?  \n",
      "- Consider stress levels: Do you feel excited or overwhelmed by the idea of purchasing a particular home?  \n",
      "- Factor in your gut feelings about the neighborhood or property—sometimes intuition can be revealing.  \n",
      "\n",
      "---\n",
      "\n",
      "### 3. **Black Hat (Caution and Risk Assessment)**  \n",
      "Focus: What could go wrong? What challenges or risks might this decision involve?  \n",
      "\n",
      "**Approach:**  \n",
      "- Evaluate possible risks: What if the real estate market declines? What if interest rates rise?  \n",
      "- Assess the home's condition: Are there structural issues, plumbing/electrical concerns, or hidden repair costs?  \n",
      "- Consider resale value: Is this neighborhood likely to retain or increase its desirability in the future?  \n",
      "- Determine financial risks: Are you stretching your budget too much? Do you have sufficient savings for ongoing maintenance?  \n",
      "- Anticipate life changes: Will this home still meet your needs in 5–10 years (e.g., family growth, job relocation)?  \n",
      "- Research zoning laws and potential issues with nearby developments.  \n",
      "\n",
      "---\n",
      "\n",
      "### 4. **Yellow Hat (Optimism and Positivity)**  \n",
      "Focus: What are the potential benefits and opportunities?  \n",
      "\n",
      "**Approach:**  \n",
      "- Highlight the positives: Does the home meet your criteria? Is it in a desirable location?  \n",
      "- Look at long-term potential: Could the home appreciate in value? Could you modify or renovate it to fit your dreams?  \n",
      "- Think about lifestyle improvements: How will this home enhance your quality of life? Will it shorten your commute, provide more space, or offer a great community atmosphere?  \n",
      "- Celebrate the emotional satisfaction: Owning a home is a major milestone and an investment in stability and security.  \n",
      "- Consider financial positives: Owning could save money versus renting over time.  \n",
      "\n",
      "---\n",
      "\n",
      "### 5. **Green Hat (Creativity and Alternatives)**  \n",
      "Focus: What creative solutions or alternatives can you explore?  \n",
      "\n",
      "**Approach:**  \n",
      "- Brainstorm designs or renovations: Could a less expensive “fixer-upper” be remodeled into your dream home?  \n",
      "- Explore different neighborhoods: Are there areas you haven’t considered that might offer better prices or features?  \n",
      "- Look at unconventional options: Tiny homes, multi-family properties, or homes that allow for rental income.  \n",
      "- Consider negotiation strategies: Could you negotiate the price or request the seller cover closing costs or repairs?  \n",
      "- Evaluate timing: Should you rent temporarily while waiting for a more favorable market?  \n",
      "- Think outside the box: Could shared ownership with a partner or family member work for you?  \n",
      "\n",
      "---\n",
      "\n",
      "### 6. **Blue Hat (Process and Management)**  \n",
      "Focus: What is the overall process? How will you organize and manage this decision?  \n",
      "\n",
      "**Approach:**  \n",
      "- Set a clear goal: Define what “success” looks like in buying your new home.  \n",
      "- Create a step-by-step plan for decision-making:  \n",
      "   1. Determine your budget and financing options.  \n",
      "   2. Research and tour potential homes.  \n",
      "   3. Evaluate pros and cons for each property.  \n",
      "   4. Make an offer and secure financing.  \n",
      "   5. Complete inspections and close the deal.  \n",
      "- Establish timelines: Target a closing date to keep the process moving.  \n",
      "- Monitor progress: Regularly review where you are in the process and adjust if needed.  \n",
      "- Assign roles: If working with others (spouse, partner, realtor), clarify responsibilities.  \n",
      "- Be prepared for speed bumps: Have contingency plans for if your offer is rejected or something unexpected arises.  \n",
      "\n",
      "---\n",
      "\n",
      "By systematically using all six hats, you can approach buying a home from multiple angles, ensuring a well-rounded and informed decision."
     ]
    }
   ],
   "source": [
    "// Set the overall system prompt to behave like a decision intelligence assistant (persona)\n",
    "var systemPrompt = \"\"\"\n",
    "You are a decision intelligence assistant. \n",
    "Assist the user in exploring options, reasoning through decisions, problem-solving, and applying systems thinking to various scenarios. \n",
    "Provide structured, logical, and comprehensive advice.\n",
    "\"\"\";\n",
    "\n",
    "// Decision Frames Prompt that lists the six thinking hats approach to purchasing a house \n",
    "var decisionFramesPrompt = \"\"\"\n",
    "You are planning on purchasing a new home. \n",
    "Use Edward de Bono's Six thinking hats on how to approach the decision-making process. \n",
    "\n",
    "Instructions: \n",
    "List an approach for each of the six hats. \n",
    "\"\"\";\n",
    "\n",
    "// Create a new chat history object with proper system and user message roles\n",
    "var chatHistory = new ChatHistory();\n",
    "chatHistory.AddSystemMessage(systemPrompt);\n",
    "chatHistory.AddUserMessage(decisionFramesPrompt);\n",
    "\n",
    "var chatResponse = string.Empty;\n",
    "await foreach (var content in chatCompletionService.GetStreamingChatMessageContentsAsync(chatHistory))\n",
    "{\n",
    "    chatResponse += content;\n",
    "    Console.Write(content);\n",
    "}\n",
    "chatHistory.AddAssistantMessage(chatResponse);"
   ]
  },
  {
   "cell_type": "markdown",
   "metadata": {},
   "source": [
    "This can be enhanced further by having GenAI suggest which of the decision frames might be the most useful for a high-stakes decision. Therefore, the prompt above can be optimized further by listing all the decision frames and then priorotizing which ones will have the most impact and influence on the house purchase decision.  \n",
    "\n",
    "This allows the Artificial Intelligence automation to focus on the optimization of the decision process and the human on the actual decision selection and execution!"
   ]
  },
  {
   "cell_type": "code",
   "execution_count": 4,
   "metadata": {
    "dotnet_interactive": {
     "language": "csharp"
    },
    "polyglot_notebook": {
     "kernelName": "csharp"
    },
    "vscode": {
     "languageId": "polyglot-notebook"
    }
   },
   "outputs": [
    {
     "name": "stdout",
     "output_type": "stream",
     "text": [
      "Edward de Bono's Six Thinking Hats framework is a highly effective approach for structured decision-making. Below is a breakdown of how to apply each hat to purchasing a new home, prioritized based on impact and influence for this scenario.\n",
      "\n",
      "---\n",
      "\n",
      "### **Prioritized List of Hats Approach**\n",
      "\n",
      "#### **1. White Hat: Information and Facts (High Priority)**  \n",
      "**Approach:**  \n",
      "- Gather all relevant facts and data about the properties you're considering: location, price, size, amenities, neighborhood, schools, commute distance, and market trends.  \n",
      "- Research mortgage rates, financing options, property taxes, maintenance costs, and utilities.  \n",
      "- Assess the reliability of your data sources and identify gaps in the information that need to be filled.\n",
      "\n",
      "**Reason for Priority:**  \n",
      "Without accurate and thorough information, other considerations may be misguided or incomplete. Decisions based on incorrect or incomplete data can lead to costly mistakes.  \n",
      "\n",
      "---\n",
      "\n",
      "#### **2. Yellow Hat: Benefits and Optimism (High Priority)**  \n",
      "**Approach:**  \n",
      "- Explore the positive aspects of each property and the opportunities they provide.  \n",
      "- Think about how the homes align with your longer-term goals, such as increased property value, quality of life, community engagement, and comfort.  \n",
      "- Consider any perks that make a particular home an attractive investment.\n",
      "\n",
      "**Reason for Priority:**  \n",
      "This perspective ensures a focus on the potential value and benefits of the home, helping to identify options that stand out as the best choices in terms of happiness and financial growth.  \n",
      "\n",
      "---\n",
      "\n",
      "#### **3. Black Hat: Risks and Caution (Medium Priority)**  \n",
      "**Approach:**  \n",
      "- Analyze the risks associated with each property, including financial burden, potential repairs, neighborhood challenges, or market downturns.  \n",
      "- Consider worst-case scenarios and ways to mitigate risks, such as buying insurance or creating contingency budgets.  \n",
      "- Evaluate whether any compromises are deal-breakers (e.g., poor resale value, noise pollution, bad weather conditions).  \n",
      "\n",
      "**Reason for Priority:**  \n",
      "This helps you avoid a purely optimistic approach by highlighting possible pitfalls, ensuring you're making a cautious and prudent decision.  \n",
      "\n",
      "---\n",
      "\n",
      "#### **4. Red Hat: Feelings and Intuition (Medium Priority)**  \n",
      "**Approach:**  \n",
      "- Reflect on your emotional responses to each property. Does it feel right? Do you feel connected to the space and neighborhood?   \n",
      "- Consider the impact of this emotional perspective on your quality of life and personal fulfillment.  \n",
      "- Weigh the emotional outcomes against the practical and financial concerns.  \n",
      "\n",
      "**Reason for Priority:**  \n",
      "Choosing a home is not just a financial decision—it’s highly personal. Emotional alignment can significantly influence your happiness in the long term, so it should complement logical reasoning.  \n",
      "\n",
      "---\n",
      "\n",
      "#### **5. Green Hat: Creativity and New Ideas (Low Priority)**  \n",
      "**Approach:**  \n",
      "- Brainstorm unique solutions or alternatives, such as renovating a less expensive property, exploring non-traditional mortgage options, or considering neighborhoods outside your original scope.  \n",
      "- Innovate ways to improve your dream home once you purchase it (e.g., adding energy-efficient features or converting unused spaces).  \n",
      "\n",
      "**Reason for Priority:**  \n",
      "While creativity adds value, the scope of decisions in home-buying is typically bounded by practicality. Innovation has a less direct role compared to core considerations like data analysis and risk assessment.  \n",
      "\n",
      "---\n",
      "\n",
      "#### **6. Blue Hat: Process and Organization (Low Priority)**  \n",
      "**Approach:**  \n",
      "- Use a structured decision-making framework to manage the process efficiently. Create a checklist, timeline, and priority list of factors that matter most to you.  \n",
      "- Define clear steps for due diligence, including inspection, negotiations, legal obligations, and financial readiness.  \n",
      "- Regularly review your decision-making progress to stay aligned with your goals.  \n",
      "\n",
      "**Reason for Priority:**  \n",
      "The Blue Hat facilitates others, but it is less focused on delivering insights into the decision itself. The process matters, but the substance of the decision should dominate your effort.  \n",
      "\n",
      "---\n",
      "\n",
      "### **Recommended Thinking Hats Focus**  \n",
      "\n",
      "Given the prioritization above, **you should focus on a combination of the White Hat (Facts and Information), Yellow Hat (Optimism and Benefits)**, and **Black Hat (Caution and Risks)**. These three hats address the critical dimensions of home-buying: rational evaluation, positive opportunities, and risk assessment.\n",
      "\n",
      "1. **White Hat:** Ensures your decision is based on reliable, accurate data.  \n",
      "2. **Yellow Hat:** Helps you see the potential value and benefits of your investment.  \n",
      "3. **Black Hat:** Grounds your optimism with essential risk analysis to avoid pitfalls.  \n",
      "\n",
      "The **Red Hat (Feelings and Intuition)** can play a supplementary role, particularly during site visits or finalizing the choice. Meanwhile, **Green Hat (Creativity)** and **Blue Hat (Process)** are low priority but useful for brainstorming and organizing, respectively.  \n",
      "\n",
      "---\n",
      "\n",
      "### Suggested Decision-Making Plan  \n",
      "\n",
      "1. **Start with White Hat:** Research properties, neighborhoods, and financing options extensively. Organize the facts.  \n",
      "2. **Integrate Yellow and Black Hats:** Assess both benefits and risks to form a balanced evaluation of each option.  \n",
      "3. **Revisit Red Hat as a Tiebreaker:** Reflect on emotional alignment once rational considerations narrow down the options.  \n",
      "\n",
      "By focusing on these critical hats and maintaining a logical balance, you'll ensure a comprehensive and thoughtful decision when choosing your new home."
     ]
    }
   ],
   "source": [
    "// Set the overall system prompt to behave like a decision intelligence assistant (persona)\n",
    "var systemPrompt = \"\"\"\n",
    "You are a decision intelligence assistant. \n",
    "Assist the user in exploring options, reasoning through decisions, problem-solving, and applying systems thinking to various scenarios. \n",
    "Provide structured, logical, and comprehensive advice.\n",
    "\"\"\";\n",
    "\n",
    "// Decision Frames Prompt that lists the six thinking hats approach to purchasing a house \n",
    "var decisionFramesListPrompt = \"\"\"\n",
    "You are planning on purchasing a new home. \n",
    "Use Edward de Bono's Six thinking hats on how to approach the decision-making process. \n",
    "\n",
    "Instructions:\n",
    "List an approach for each of the six hats in the order of impact & influence from most to least. \n",
    "From the priorotized list suggest which thinking hats (decision frames) to focus on. \n",
    "It can be one of the hats or any combination of the thinking hats. \n",
    "\"\"\";\n",
    "\n",
    "// Create a new chat history object with proper system and user message roles\n",
    "var chatHistory = new ChatHistory();\n",
    "chatHistory.AddSystemMessage(systemPrompt);\n",
    "chatHistory.AddUserMessage(decisionFramesListPrompt);\n",
    "\n",
    "var chatResponse = string.Empty;\n",
    "await foreach (var content in chatCompletionService.GetStreamingChatMessageContentsAsync(chatHistory))\n",
    "{\n",
    "    chatResponse += content;\n",
    "    Console.Write(content);\n",
    "}\n",
    "chatHistory.AddAssistantMessage(chatResponse);"
   ]
  },
  {
   "cell_type": "markdown",
   "metadata": {},
   "source": [
    "So far, (given the house purchase decision) Generative AI has helped create decision frames with the six thinking hats framework, rank them from most impact & influence from most to least and select the top 3 decision frames. The next logical step is to leverage Generative AI to apply the selected 3 decision frames for the house purchase decision.  \n",
    "\n",
    "This can be done in two different ways:  \n",
    "1) **Single Decision Prompt:** Instruct (prompt) the GenAI model \"think internally\" on the decision frames, ranking, selecting the top decision frames and then finally output the applied decision frames for the house purchase decision.\n",
    "2) **Workflow Decision Prompts:** This approach uses multiple prompts together to arrive at a decision approach. This breaks the problem down into smaller components and executes each component in sequence. The value is that each step can be optimized individually and each intermediate output is clearly available for analysis. This is ideal for sufficiently important decision problems.  "
   ]
  },
  {
   "cell_type": "markdown",
   "metadata": {},
   "source": [
    "#### Single Decision Prompt "
   ]
  },
  {
   "cell_type": "code",
   "execution_count": 5,
   "metadata": {
    "dotnet_interactive": {
     "language": "csharp"
    },
    "polyglot_notebook": {
     "kernelName": "csharp"
    },
    "vscode": {
     "languageId": "polyglot-notebook"
    }
   },
   "outputs": [
    {
     "name": "stdout",
     "output_type": "stream",
     "text": [
      "Here’s a structured approach for purchasing a house based on the \"selected decision frames\" using Edward de Bono's Six Thinking Hats:\n",
      "\n",
      "---\n",
      "\n",
      "### Practical Thinking (Black Hat & White Hat Combination: Critical + Objective)\n",
      "Focus on risks, facts, and logical considerations:\n",
      "1. **Assess Financial Viability**: Review your budget, credit score, down payment capacity, and mortgage approval potential. Ensure you're comfortable with long-term affordability.\n",
      "2. **Market Analysis**: Research property values, price trends, and the overall stability of the real estate market in your desired area.\n",
      "3. **Inspection and Risks**: Consider the condition of the house (e.g., structural integrity, age, needed repairs) and assess potential risks such as future maintenance, location hazards (e.g., flood zones), or declining neighborhood trends.\n",
      "\n",
      "---\n",
      "\n",
      "### Emotional Thinking (Red Hat)\n",
      "Tap into your intuition and emotional response:\n",
      "1. **Gauge Emotional Connection**: Reflect on how you and your family feel about the house. Does it feel like a home? Can you envision living there long-term?\n",
      "2. **Lifestyle Considerations**: Consider how the home aligns with your lifestyle (commute, proximity to family/friends, hobbies, etc.) and overall happiness.\n",
      "\n",
      "---\n",
      "\n",
      "### Optimistic Thinking (Yellow Hat)\n",
      "Explore positive opportunities and long-term benefits:\n",
      "1. **Investment Potential**: Evaluate the potential for the home to appreciate in value over time and any additional income streams (e.g., renting extra space or rooms).\n",
      "2. **Future Growth**: Think about the house’s suitability for evolving needs, like starting a family or working remotely.\n",
      "3. **Location Advantages**: Consider nearby amenities, schools, parks, or cultural attractions that enhance quality of life.\n",
      "\n",
      "---\n",
      "\n",
      "### Creative Thinking (Green Hat)\n",
      "Generate innovative ideas and alternative solutions:\n",
      "1. **Customization Plans**: Think about how you could improve or personalize the property to better suit your tastes (e.g., renovations or interior design upgrades).\n",
      "2. **Alternative Options**: Explore non-traditional paths, such as fixer-uppers, foreclosures, or building a new home from scratch, which might better fit your goals.\n",
      "\n",
      "---\n",
      "\n",
      "By focusing on these decision frames, you can comprehensively weigh both the logical and emotional aspects of purchasing a home while keeping future opportunities and creative approaches in mind."
     ]
    }
   ],
   "source": [
    "// Set the overall system prompt to behave like a Decision Intelligence assistant (persona)\n",
    "var systemPrompt = \"\"\"\n",
    "You are a Decision Intelligence assistant. \n",
    "Assist the user in exploring options, reasoning through decisions, problem-solving, and applying systems thinking to various scenarios. \n",
    "Provide structured, logical, and comprehensive advice.\n",
    "\"\"\";\n",
    "\n",
    "// Decision Frames Prompt that lists the six thinking hats approach to purchasing a house \n",
    "var decisionFramesListPrompt = \"\"\"\n",
    "You are planning on purchasing a new home. \n",
    "Use Edward de Bono's Six thinking hats on how to approach the decision-making process. \n",
    "\n",
    "Instructions:\n",
    "\n",
    "<Do Not Show these steps>\n",
    "INTERNALLY THINK about an approach for each of the six hats in the order of impact & influence from most to least. \n",
    "From the priorotized list INTERNALLY PROCESS which thinking hats (decision frames) to focus on. \n",
    "It can be one of the hats or any combination of the thinking hats. \n",
    "Let's call that internal list \"selected decision frames\"\n",
    "</Do Not Show these steps>\n",
    "\n",
    "Only output these steps to the user: \n",
    "Finally, from the internal \"selected decision frames\", create an approach for each for purchasing a house.  \n",
    "\"\"\";\n",
    "\n",
    "// Create a new chat history object with proper system and user message roles\n",
    "var chatHistory = new ChatHistory();\n",
    "chatHistory.AddSystemMessage(systemPrompt);\n",
    "chatHistory.AddUserMessage(decisionFramesListPrompt);\n",
    "\n",
    "var chatResponse = string.Empty;\n",
    "await foreach (var content in chatCompletionService.GetStreamingChatMessageContentsAsync(chatHistory))\n",
    "{\n",
    "    chatResponse += content;\n",
    "    Console.Write(content);\n",
    "}\n",
    "chatHistory.AddAssistantMessage(chatResponse);"
   ]
  }
 ],
 "metadata": {
  "kernelspec": {
   "display_name": ".NET (C#)",
   "language": "C#",
   "name": ".net-csharp"
  },
  "language_info": {
   "name": "python"
  },
  "polyglot_notebook": {
   "kernelInfo": {
    "defaultKernelName": "csharp",
    "items": [
     {
      "aliases": [],
      "name": "csharp"
     }
    ]
   }
  }
 },
 "nbformat": 4,
 "nbformat_minor": 2
}
