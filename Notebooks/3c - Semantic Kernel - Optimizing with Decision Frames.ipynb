{
 "cells": [
  {
   "cell_type": "markdown",
   "metadata": {},
   "source": [
    "<img style=\"float: left;padding-right: 10px\" width =\"40px\" src=\"https://raw.githubusercontent.com/bartczernicki/DecisionIntelligence.GenAI.Workshop/main/Images/SemanticKernelLogo.png\">\n",
    "\n",
    "## Semantic Kernel - Optimizing with Decision Frames  "
   ]
  },
  {
   "cell_type": "markdown",
   "metadata": {},
   "source": [
    "Work in Progress "
   ]
  },
  {
   "cell_type": "markdown",
   "metadata": {},
   "source": [
    "### Step 1 - Initialize Configuration Builder & Build the Semantic Kernel Orchestration "
   ]
  },
  {
   "cell_type": "code",
   "execution_count": 1,
   "metadata": {
    "dotnet_interactive": {
     "language": "csharp"
    },
    "polyglot_notebook": {
     "kernelName": "csharp"
    },
    "vscode": {
     "languageId": "polyglot-notebook"
    }
   },
   "outputs": [
    {
     "data": {
      "text/html": [
       "<div><div></div><div></div><div><strong>Installed Packages</strong><ul><li><span>Microsoft.Extensions.Configuration, 9.0.0</span></li><li><span>Microsoft.Extensions.Configuration.Json, 9.0.0</span></li></ul></div></div>"
      ]
     },
     "metadata": {},
     "output_type": "display_data"
    }
   ],
   "source": [
    "// Import the required NuGet configuration packages\n",
    "#r \"nuget: Microsoft.Extensions.Configuration, 9.0.0\"\n",
    "#r \"nuget: Microsoft.Extensions.Configuration.Json, 9.0.0\"\n",
    "\n",
    "using Microsoft.Extensions.Configuration.Json;\n",
    "using Microsoft.Extensions.Configuration;\n",
    "using System.IO;\n",
    "\n",
    "// Load the configuration settings from the local.settings.json and secrets.settings.json files\n",
    "// The secrets.settings.json file is used to store sensitive information such as API keys\n",
    "var configurationBuilder = new ConfigurationBuilder()\n",
    "    .SetBasePath(Directory.GetCurrentDirectory())\n",
    "    .AddJsonFile(\"local.settings.json\", optional: true, reloadOnChange: true)\n",
    "    .AddJsonFile(\"secrets.settings.json\", optional: true, reloadOnChange: true);\n",
    "var config = configurationBuilder.Build();\n",
    "\n",
    "// IMPORTANT: You ONLY NEED either Azure OpenAI or OpenAI connectiopn info, not both.\n",
    "// Azure OpenAI Connection Info\n",
    "var azureOpenAIEndpoint = config[\"AzureOpenAI:Endpoint\"];\n",
    "var azureOpenAIAPIKey = config[\"AzureOpenAI:APIKey\"];\n",
    "var azureOpenAIModelDeploymentName = config[\"AzureOpenAI:ModelDeploymentName\"];\n",
    "// OpenAI Connection Info \n",
    "var openAIAPIKey = config[\"OpenAI:APIKey\"];\n",
    "var openAIModelId = config[\"OpenAI:ModelId\"];"
   ]
  },
  {
   "cell_type": "code",
   "execution_count": 2,
   "metadata": {
    "dotnet_interactive": {
     "language": "csharp"
    },
    "polyglot_notebook": {
     "kernelName": "csharp"
    },
    "vscode": {
     "languageId": "polyglot-notebook"
    }
   },
   "outputs": [
    {
     "data": {
      "text/html": [
       "<div><div></div><div></div><div><strong>Installed Packages</strong><ul><li><span>Microsoft.Extensions.DependencyInjection, 9.0.0</span></li><li><span>Microsoft.SemanticKernel, 1.33.0</span></li></ul></div></div>"
      ]
     },
     "metadata": {},
     "output_type": "display_data"
    },
    {
     "name": "stdout",
     "output_type": "stream",
     "text": [
      "Using Azure OpenAI Service\r\n"
     ]
    }
   ],
   "source": [
    "// Install the required NuGet packages\n",
    "// Note: This also installs the Dependency Injection Package to retrieve the ChatCompletionService\n",
    "#r \"nuget: Microsoft.Extensions.DependencyInjection, 9.0.0\"\n",
    "#r \"nuget: Microsoft.SemanticKernel, 1.33.0\"\n",
    "\n",
    "using Microsoft.Extensions.DependencyInjection.Extensions;\n",
    "using Microsoft.Extensions.DependencyInjection;\n",
    "using Microsoft.SemanticKernel;\n",
    "using Microsoft.SemanticKernel.ChatCompletion;\n",
    "using Microsoft.SemanticKernel.Connectors.OpenAI;\n",
    "\n",
    "Kernel semanticKernel;\n",
    "\n",
    "// Set the flag to use Azure OpenAI or OpenAI. False to use OpenAI, True to use Azure OpenAI\n",
    "var useAzureOpenAI = true;\n",
    "\n",
    "// Create a new Semantic Kernel instance\n",
    "if (useAzureOpenAI)\n",
    "{\n",
    "    Console.WriteLine(\"Using Azure OpenAI Service\");\n",
    "    semanticKernel = Kernel.CreateBuilder()\n",
    "        .AddAzureOpenAIChatCompletion(\n",
    "            deploymentName: azureOpenAIModelDeploymentName,\n",
    "            endpoint: azureOpenAIEndpoint,\n",
    "            apiKey: azureOpenAIAPIKey)\n",
    "        .Build();\n",
    "}\n",
    "else\n",
    "{\n",
    "    Console.WriteLine(\"Using OpenAI Service\");\n",
    "    semanticKernel = Kernel.CreateBuilder()\n",
    "        .AddOpenAIChatCompletion(\n",
    "            modelId: openAIModelId,\n",
    "            apiKey: openAIAPIKey)\n",
    "        .Build();\n",
    "}\n",
    "\n",
    "var chatCompletionService = semanticKernel.Services.GetRequiredService<IChatCompletionService>();"
   ]
  },
  {
   "cell_type": "markdown",
   "metadata": {},
   "source": [
    "### Step 2 - Decision Frames (Thinking Hats) Scenario for a Major Purchase "
   ]
  },
  {
   "cell_type": "markdown",
   "metadata": {},
   "source": [
    "The code below will list the potential decision frames (thinking hats) that may be appropriate to form different approaches for purchasing a house. Generative AI can be used to easily \"put on a hat\" (approach a problem with a specific decision frame) much easier than a human decision maker.  "
   ]
  },
  {
   "cell_type": "code",
   "execution_count": 3,
   "metadata": {
    "dotnet_interactive": {
     "language": "csharp"
    },
    "polyglot_notebook": {
     "kernelName": "csharp"
    },
    "vscode": {
     "languageId": "polyglot-notebook"
    }
   },
   "outputs": [
    {
     "name": "stdout",
     "output_type": "stream",
     "text": [
      "The Six Thinking Hats framework by Edward de Bono offers a structured way to explore a decision from multiple perspectives. Here's how you can apply the six hats to the decision-making process for purchasing a new home:\n",
      "\n",
      "---\n",
      "\n",
      "### 1. **White Hat (Facts and Information)**  \n",
      "Focus on data, factual information, and gaps in knowledge.  \n",
      "\n",
      "- **Approach:**  \n",
      "   - Take inventory of what you know about the housing market, desired locations, current mortgage rates, inspection costs, and average housing prices.  \n",
      "   - Research neighborhoods, schools, commute times, and crime rates if they are relevant to your decision.  \n",
      "   - Identify specific information gaps (e.g., are property taxes higher in one area compared to another?) and seek answers.  \n",
      "   - Assess pre-approval loan possibilities and budgeting details (savings for the down payment, additional closing costs).  \n",
      "   - Create a checklist of the essential criteria for the home you want (size, features, age, etc.).\n",
      "\n",
      "---\n",
      "\n",
      "### 2. **Red Hat (Feelings and Intuition)**  \n",
      "Explore emotions, gut feelings, and instincts.  \n",
      "\n",
      "- **Approach:**  \n",
      "   - Reflect on how the homes you’ve seen make you feel. Does one resonate with you more than others?  \n",
      "   - Consider personal emotional ties—are you moving closer to friends/family, or do you feel attached to a specific neighborhood?  \n",
      "   - Ask yourself how committed you feel to owning a home right now. Are you motivated or hesitant?  \n",
      "   - Explore potential emotional stressors (fear of overextending financially, uncertainty about maintenance demands).  \n",
      "   - Acknowledge any excitement, anxiety, or intuition about moving forward with a property.  \n",
      "\n",
      "---\n",
      "\n",
      "### 3. **Black Hat (Critical Thinking and Risks)**  \n",
      "Identify risks, barriers, and potential negative outcomes.  \n",
      "\n",
      "- **Approach:**  \n",
      "   - Evaluate worst-case scenarios for financial risks, such as unexpected expenses, rising mortgage interest rates, or potential property depreciation.  \n",
      "   - Analyze potential flaws in the property (e.g., structural issues, location disadvantages, poor resale potential).  \n",
      "   - Assess legal issues, such as zoning restrictions or HOA rules, that may limit what you can do with the property.  \n",
      "   - Consider the potential long-term impact of the purchase if your income or personal life circumstances change.  \n",
      "   - Be cautious about overpaying during a hot market and examine whether the neighborhood could decline in desirability.  \n",
      "\n",
      "---\n",
      "\n",
      "### 4. **Yellow Hat (Optimism and Benefits)**  \n",
      "Focus on the positives, opportunities, and value of the decision.  \n",
      "\n",
      "- **Approach:**  \n",
      "   - Highlight potential benefits of homeownership, such as building equity, gaining stability, and the freedom to customize the property to your liking.  \n",
      "   - Consider the happiness and satisfaction you’ll gain from living in a desirable location or achieving a life goal.  \n",
      "   - Think about any financial advantages, like potential market appreciation or tax benefits associated with buying a home.  \n",
      "   - Anticipate improvements in quality of life if the home meets your needs or solves current issues (e.g., space, cleaner environment).  \n",
      "   - Identify potential upside scenarios: What’s the best that could happen?  \n",
      "\n",
      "---\n",
      "\n",
      "### 5. **Green Hat (Creativity and Alternatives)**  \n",
      "Seek creative solutions, new ideas, and alternatives.  \n",
      "\n",
      "- **Approach:**  \n",
      "   - Explore unconventional ways of financing (e.g., co-buying with a friend, using grants for first-time buyers).  \n",
      "   - Consider homes outside your original criteria—could you renovate a fixer-upper to meet your needs?  \n",
      "   - Look into different neighborhoods, housing types (e.g., condos, townhouses), or build-to-own options.  \n",
      "   - Play with layouts—how can a unique floor plan or smaller space still work for your needs?  \n",
      "   - Explore negotiation strategies to get better deals or creative trade-offs like asking the seller to cover closing costs.  \n",
      "\n",
      "---\n",
      "\n",
      "### 6. **Blue Hat (Process and Big Picture)**  \n",
      "Guide the thinking process, structure the decision, and ensure a holistic approach.  \n",
      "\n",
      "- **Approach:**  \n",
      "   - Start by outlining clear objectives: What are your must-haves, nice-to-haves, and dealbreakers?  \n",
      "   - Set a realistic timeline for decision-making, breaking it into key steps: research, budgeting, viewing homes, making offers, and closing.  \n",
      "   - Balance the inputs from all other hats—facts, emotions, risks, benefits, and creativity.  \n",
      "   - Regularly revisit and refine your priorities. Are there trade-offs you’re willing to make as you gather new information?  \n",
      "   - Involve trusted advisors (partners, financial consultants, or real estate agents) to ensure you’re not overlooking critical perspectives.  \n",
      "   - End by defining your criteria for deciding: What will determine whether this is the right home for you?  \n",
      "\n",
      "---\n",
      "\n",
      "By wearing each hat in turn, you ensure that no critical perspective is overlooked. This method fosters a more balanced, informed, and thoughtful home-buying decision."
     ]
    }
   ],
   "source": [
    "// Set the overall system prompt to behave like a decision intelligence assistant (persona)\n",
    "var systemPrompt = \"\"\"\n",
    "You are a decision intelligence assistant. \n",
    "Assist the user in exploring options, reasoning through decisions, problem-solving, and applying systems thinking to various scenarios. \n",
    "Provide structured, logical, and comprehensive advice.\n",
    "\"\"\";\n",
    "\n",
    "// Decision Frames Prompt that lists the six thinking hats approach to purchasing a house \n",
    "var decisionFramesPrompt = \"\"\"\n",
    "You are planning on purchasing a new home. \n",
    "Use Edward de Bono's Six thinking hats on how to approach the decision-making process. \n",
    "\n",
    "Instructions: \n",
    "List an approach for each of the six hats. \n",
    "\"\"\";\n",
    "\n",
    "// Create a new chat history object with proper system and user message roles\n",
    "var chatHistory = new ChatHistory();\n",
    "chatHistory.AddSystemMessage(systemPrompt);\n",
    "chatHistory.AddUserMessage(decisionFramesPrompt);\n",
    "\n",
    "var chatResponse = string.Empty;\n",
    "await foreach (var content in chatCompletionService.GetStreamingChatMessageContentsAsync(chatHistory))\n",
    "{\n",
    "    chatResponse += content;\n",
    "    Console.Write(content);\n",
    "}\n",
    "chatHistory.AddAssistantMessage(chatResponse);"
   ]
  },
  {
   "cell_type": "markdown",
   "metadata": {},
   "source": [
    "This can be enhanced further by having GenAI suggest which of the decision frames might be the most useful for a high-stakes decision. Therefore, the prompt above can be optimized further by listing all the decision frames and then priorotizing which ones will have the most impact and influence on the house purchase decision. "
   ]
  },
  {
   "cell_type": "code",
   "execution_count": 7,
   "metadata": {
    "dotnet_interactive": {
     "language": "csharp"
    },
    "polyglot_notebook": {
     "kernelName": "csharp"
    },
    "vscode": {
     "languageId": "polyglot-notebook"
    }
   },
   "outputs": [
    {
     "name": "stdout",
     "output_type": "stream",
     "text": [
      "When approaching the decision-making process of purchasing a new home, it's valuable to use Edward de Bono's Six Thinking Hats. Each hat represents a different type of thinking that can influence your decision. Let's prioritize the hats based on their impact and influence when making this significant decision:\n",
      "\n",
      "1. **White Hat (Information and Facts)**\n",
      "2. **Yellow Hat (Positive Judgment)**\n",
      "3. **Black Hat (Critical Judgment)**\n",
      "4. **Green Hat (Creativity)**\n",
      "5. **Red Hat (Emotions and Intuition)**\n",
      "6. **Blue Hat (Process and Control)**\n",
      "\n",
      "### Prioritized List with Approaches\n",
      "\n",
      "1. **White Hat (Information and Facts)**\n",
      "   - **Approach:** Gather all available data regarding the property market, specific areas of interest, property prices, interest rates, demographics, local amenities, future development plans, and economic forecasts. Objective information forms the basis for a well-informed decision.\n",
      "\n",
      "2. **Yellow Hat (Positive Judgment)**\n",
      "   - **Approach:** Focus on the benefits and advantages of the potential new home. Consider factors like investment potential, quality of life improvements, convenience, neighborhood safety, and future value appreciation. Balancing benefits is crucial for long-term satisfaction.\n",
      "\n",
      "3. **Black Hat (Critical Judgment)**\n",
      "   - **Approach:** Identify potential downsides and risks associated with the purchase. Assess potential pitfalls like high maintenance costs, possible future market devaluation, issues with the neighborhood, or unexpected regulatory changes. This helps in preparing for and mitigating risks.\n",
      "\n",
      "4. **Green Hat (Creativity)**\n",
      "   - **Approach:** Think creatively about possibilities related to the new home. Consider how you might customize or improve the property, integrate sustainable solutions, or leverage property features in innovative ways. Creative thinking can reveal additional value or usage scenarios for the property.\n",
      "\n",
      "5. **Red Hat (Emotions and Intuition)**\n",
      "   - **Approach:** Take into account your emotional responses and gut feelings about the property. These include initial impressions, the emotional connection to the neighborhood or house, and how the home feels in terms of comfort and potential happiness. Emotions are a valid part of this major life decision.\n",
      "\n",
      "6. **Blue Hat (Process and Control)**\n",
      "   - **Approach:** Oversee the decision-making process. Ensure that you systematically apply each hat's perspective and synthesize all gathered data. Manage timelines, budgeting, and coordination with real estate agents or financial institutions. This ensures a structured and thorough approach.\n",
      "\n",
      "### Suggested Focus\n",
      "\n",
      "Given the prioritized list, the decision frames to focus on would be a combination of **White Hat** (Information and Facts), **Yellow Hat** (Positive Judgment), and **Black Hat** (Critical Judgment). These three hats collectively ensure that you are making a well-informed decision while balancing optimism and caution.\n",
      "\n",
      "- **White Hat:** Construct a solid data foundation to inform your decision comprehensively.\n",
      "- **Yellow Hat:** Highlight the benefits of each option to ensure you're making a decision with positive foresight.\n",
      "- **Black Hat:** Weigh potential risks to prepare for any adverse scenarios effectively.\n",
      "\n",
      "Combining these hats will allow a balanced and thorough examination of potential new homes, ensuring you make a decision that is both informed and cautious, yet optimistic about the future."
     ]
    }
   ],
   "source": [
    "// Set the overall system prompt to behave like a decision intelligence assistant (persona)\n",
    "var systemPrompt = \"\"\"\n",
    "You are a decision intelligence assistant. \n",
    "Assist the user in exploring options, reasoning through decisions, problem-solving, and applying systems thinking to various scenarios. \n",
    "Provide structured, logical, and comprehensive advice.\n",
    "\"\"\";\n",
    "\n",
    "// Decision Frames Prompt that lists the six thinking hats approach to purchasing a house \n",
    "var decisionFramesListPrompt = \"\"\"\n",
    "You are planning on purchasing a new home. \n",
    "Use Edward de Bono's Six thinking hats on how to approach the decision-making process. \n",
    "\n",
    "Instructions:\n",
    "List an approach for each of the six hats in the order of impact & influence from most to least. \n",
    "From the priorotized list suggest which thinking hats (decision frames) to focus on. \n",
    "It can be one of the hats or any combination of the thinking hats. \n",
    "\"\"\";\n",
    "\n",
    "// Create a new chat history object with proper system and user message roles\n",
    "var chatHistory = new ChatHistory();\n",
    "chatHistory.AddSystemMessage(systemPrompt);\n",
    "chatHistory.AddUserMessage(decisionFramesListPrompt);\n",
    "\n",
    "var chatResponse = string.Empty;\n",
    "await foreach (var content in chatCompletionService.GetStreamingChatMessageContentsAsync(chatHistory))\n",
    "{\n",
    "    chatResponse += content;\n",
    "    Console.Write(content);\n",
    "}\n",
    "chatHistory.AddAssistantMessage(chatResponse);"
   ]
  },
  {
   "cell_type": "markdown",
   "metadata": {},
   "source": [
    "So far, (given the house purchase decision) Generative AI has helped create decision frames with the six thinking hats framework, rank them from most impact & influence from most to least and select the top 3 decision frames. The next logical step is to leverage Generative AI to apply the selected 3 decision frames for the house purchase decision.  \n",
    "\n",
    "This can be done in two different ways:  \n",
    "1) **Single Decision Prompt:** Instruct (prompt) the GenAI model \"think internally\" on the decision frames, ranking, selecting the top decision frames and then finally output the applied decision frames for the house purchase decision.\n",
    "2) **Workflow Decision Prompts:** This approach uses multiple prompts together to arrive at a decision approach. This breaks the problem down into smaller components and executes each component in sequence. The value is that each step can be optimized individually and each intermediate output is clearly available for analysis. This is ideal for sufficiently important decision problems.  "
   ]
  },
  {
   "cell_type": "markdown",
   "metadata": {},
   "source": [
    "#### Single Decision Prompt "
   ]
  },
  {
   "cell_type": "code",
   "execution_count": null,
   "metadata": {
    "dotnet_interactive": {
     "language": "csharp"
    },
    "polyglot_notebook": {
     "kernelName": "csharp"
    },
    "vscode": {
     "languageId": "polyglot-notebook"
    }
   },
   "outputs": [
    {
     "name": "stdout",
     "output_type": "stream",
     "text": [
      "### Decision Frameworks for Purchasing a New Home (Based on Selected Decision Frames):\n",
      "\n",
      "**1. White Hat (Focus on Facts and Information):**  \n",
      "- Begin by gathering all available data on potential properties. This includes pricing, neighborhood characteristics, taxes, school districts, crime rates, and proximity to essential services like public transport and healthcare.  \n",
      "- Research housing market trends for the area: Are prices rising, falling, or stable? This helps determine whether it’s an optimal time to buy.  \n",
      "- Understand your financial situation by consulting your credit report, savings, loan pre-approval limits, and monthly budget for mortgage payments, utilities, and maintenance.  \n",
      "\n",
      "**2. Yellow Hat (Optimistic Thinking – Benefits and Opportunities):**  \n",
      "- Evaluate the positive aspects of buying a property. For example, consider the opportunity to build equity, secure a long-term asset, and customize your living space to meet your lifestyle needs.  \n",
      "- Explore the future potential of the neighborhood. Is the area undergoing development or revitalization that could increase property value over time?  \n",
      "- Consider how the home aligns with your life goals (e.g., building a family, downsizing, or investing). Assess its ability to provide long-term security and satisfaction.  \n",
      "\n",
      "**3. Black Hat (Critical Thinking – Risks and Challenges):**  \n",
      "- Identify potential risks or downsides for each property. For example, hidden structural issues, expensive repairs, or declining neighborhood conditions.  \n",
      "- Examine the affordability of the home, factoring in costs beyond the mortgage, such as homeowners insurance, taxes, utilities, and maintenance.  \n",
      "- Think critically about market conditions—are you overpaying due to a seller’s market or personal urgency?  \n",
      "- Prepare for contingencies: What happens if your financial circumstances change after the purchase?  \n",
      "\n",
      "**4. Green Hat (Creative Thinking – Alternatives and Innovations):**  \n",
      "- Consider creative solutions to maximize your options. For instance, could you invest in a fixer-upper and renovate? Or co-purchase with a family member or friend?  \n",
      "- Explore non-traditional options such as tiny homes, energy-efficient builds, or multi-unit properties that generate rental income.  \n",
      "- Brainstorm ways to negotiate with sellers to get added value, such as requesting furniture inclusions, closing-cost aid, or additional inspections.  \n",
      "\n",
      "**5. Red Hat (Intuitive and Emotional Insight):**  \n",
      "- Acknowledge your emotional reactions to properties. Do you feel excited, anxious, or indifferent about a specific home? Trusting your emotional intuition can guide you when stuck between options.  \n",
      "- Consider how the home fits your current emotional needs. Will this purchase make you feel secure, happy, or fulfilled in the long term?  \n",
      "- Be honest about any emotional biases you might have (e.g., choosing a home solely because it’s near family or has an emotional connection).  \n",
      "\n",
      "**6. Blue Hat (Process Control – Thinking About Thinking):**  \n",
      "- Establish a clear decision-making framework. Decide on criteria for assessing properties (e.g., budget, location, size, condition).  \n",
      "- Set a timeline for researching, visiting, negotiating, and closing on properties to ensure everything proceeds efficiently.  \n",
      "- Periodically step back to evaluate your approach to the house hunt. Is your decision-making process rational, balanced, and comprehensive? Adjust your strategy as needed.  \n",
      "\n",
      "By leveraging a combination of these decision frames during the home-buying journey, you’ll create a thorough, balanced, and well-reasoned approach that meets both your logic-driven and emotional needs. "
     ]
    }
   ],
   "source": [
    "// Set the overall system prompt to behave like a decision intelligence assistant (persona)\n",
    "var systemPrompt = \"\"\"\n",
    "You are a Decision Intelligence assistant. \n",
    "Assist the user in exploring options, reasoning through decisions, problem-solving, and applying systems thinking to various scenarios. \n",
    "Provide structured, logical, and comprehensive advice.\n",
    "\"\"\";\n",
    "\n",
    "// Decision Frames Prompt that lists the six thinking hats approach to purchasing a house \n",
    "var decisionFramesListPrompt = \"\"\"\n",
    "You are planning on purchasing a new home. \n",
    "Use Edward de Bono's Six thinking hats on how to approach the decision-making process. \n",
    "\n",
    "Instructions:\n",
    "\n",
    "<Do Not Show these steps>\n",
    "INTERNALLY THINK about an approach for each of the six hats in the order of impact & influence from most to least. \n",
    "From the priorotized list INTERNALLY PROCESS which thinking hats (decision frames) to focus on. \n",
    "It can be one of the hats or any combination of the thinking hats. \n",
    "Let's call that internal list \"selected decision frames\"\n",
    "</Do Not Show these steps>\n",
    "\n",
    "Only output these steps to the user: \n",
    "Finally, from the internal \"selected decision frames\", create an approach for each for purchasing a house.  \n",
    "\"\"\";\n",
    "\n",
    "// Create a new chat history object with proper system and user message roles\n",
    "var chatHistory = new ChatHistory();\n",
    "chatHistory.AddSystemMessage(systemPrompt);\n",
    "chatHistory.AddUserMessage(decisionFramesListPrompt);\n",
    "\n",
    "var chatResponse = string.Empty;\n",
    "await foreach (var content in chatCompletionService.GetStreamingChatMessageContentsAsync(chatHistory))\n",
    "{\n",
    "    chatResponse += content;\n",
    "    Console.Write(content);\n",
    "}\n",
    "chatHistory.AddAssistantMessage(chatResponse);"
   ]
  }
 ],
 "metadata": {
  "kernelspec": {
   "display_name": ".NET (C#)",
   "language": "C#",
   "name": ".net-csharp"
  },
  "language_info": {
   "name": "python"
  },
  "polyglot_notebook": {
   "kernelInfo": {
    "defaultKernelName": "csharp",
    "items": [
     {
      "aliases": [],
      "name": "csharp"
     }
    ]
   }
  }
 },
 "nbformat": 4,
 "nbformat_minor": 2
}
