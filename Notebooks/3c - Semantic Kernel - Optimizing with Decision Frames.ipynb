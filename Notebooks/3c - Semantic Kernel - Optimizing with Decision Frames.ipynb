{
 "cells": [
  {
   "cell_type": "markdown",
   "metadata": {},
   "source": [
    "<img style=\"float: left;padding-right: 10px\" width =\"40px\" src=\"https://raw.githubusercontent.com/bartczernicki/DecisionIntelligence.GenAI.Workshop/main/Images/SemanticKernelLogo.png\">\n",
    "\n",
    "## Semantic Kernel - Optimizing with Decision Frames  "
   ]
  },
  {
   "cell_type": "markdown",
   "metadata": {},
   "source": [
    "Work in Progress "
   ]
  },
  {
   "cell_type": "markdown",
   "metadata": {},
   "source": [
    "### Step 1 - Initialize Configuration Builder & Build the Semantic Kernel Orchestration "
   ]
  },
  {
   "cell_type": "code",
   "execution_count": 1,
   "metadata": {
    "dotnet_interactive": {
     "language": "csharp"
    },
    "polyglot_notebook": {
     "kernelName": "csharp"
    },
    "vscode": {
     "languageId": "polyglot-notebook"
    }
   },
   "outputs": [
    {
     "data": {
      "text/html": [
       "<div><div></div><div></div><div><strong>Installed Packages</strong><ul><li><span>Microsoft.Extensions.Configuration, 9.0.0</span></li><li><span>Microsoft.Extensions.Configuration.Json, 9.0.0</span></li></ul></div></div>"
      ]
     },
     "metadata": {},
     "output_type": "display_data"
    }
   ],
   "source": [
    "// Import the required NuGet configuration packages\n",
    "#r \"nuget: Microsoft.Extensions.Configuration, 9.0.0\"\n",
    "#r \"nuget: Microsoft.Extensions.Configuration.Json, 9.0.0\"\n",
    "\n",
    "using Microsoft.Extensions.Configuration.Json;\n",
    "using Microsoft.Extensions.Configuration;\n",
    "using System.IO;\n",
    "\n",
    "// Load the configuration settings from the local.settings.json and secrets.settings.json files\n",
    "// The secrets.settings.json file is used to store sensitive information such as API keys\n",
    "var configurationBuilder = new ConfigurationBuilder()\n",
    "    .SetBasePath(Directory.GetCurrentDirectory())\n",
    "    .AddJsonFile(\"local.settings.json\", optional: true, reloadOnChange: true)\n",
    "    .AddJsonFile(\"secrets.settings.json\", optional: true, reloadOnChange: true);\n",
    "var config = configurationBuilder.Build();\n",
    "\n",
    "// IMPORTANT: You ONLY NEED either Azure OpenAI or OpenAI connectiopn info, not both.\n",
    "// Azure OpenAI Connection Info\n",
    "var azureOpenAIEndpoint = config[\"AzureOpenAI:Endpoint\"];\n",
    "var azureOpenAIAPIKey = config[\"AzureOpenAI:APIKey\"];\n",
    "var azureOpenAIModelDeploymentName = config[\"AzureOpenAI:ModelDeploymentName\"];\n",
    "// OpenAI Connection Info \n",
    "var openAIAPIKey = config[\"OpenAI:APIKey\"];\n",
    "var openAIModelId = config[\"OpenAI:ModelId\"];"
   ]
  },
  {
   "cell_type": "code",
   "execution_count": 2,
   "metadata": {
    "dotnet_interactive": {
     "language": "csharp"
    },
    "polyglot_notebook": {
     "kernelName": "csharp"
    },
    "vscode": {
     "languageId": "polyglot-notebook"
    }
   },
   "outputs": [
    {
     "data": {
      "text/html": [
       "<div><div></div><div></div><div><strong>Installed Packages</strong><ul><li><span>Microsoft.Extensions.DependencyInjection, 9.0.0</span></li><li><span>Microsoft.SemanticKernel, 1.32.0</span></li></ul></div></div>"
      ]
     },
     "metadata": {},
     "output_type": "display_data"
    },
    {
     "name": "stdout",
     "output_type": "stream",
     "text": [
      "Using Azure OpenAI Service\n"
     ]
    }
   ],
   "source": [
    "// Install the required NuGet packages\n",
    "// Note: This also installs the Dependency Injection Package to retrieve the ChatCompletionService\n",
    "#r \"nuget: Microsoft.Extensions.DependencyInjection, 9.0.0\"\n",
    "#r \"nuget: Microsoft.SemanticKernel, 1.32.0\"\n",
    "\n",
    "using Microsoft.Extensions.DependencyInjection.Extensions;\n",
    "using Microsoft.Extensions.DependencyInjection;\n",
    "using Microsoft.SemanticKernel;\n",
    "using Microsoft.SemanticKernel.ChatCompletion;\n",
    "using Microsoft.SemanticKernel.Connectors.OpenAI;\n",
    "\n",
    "Kernel semanticKernel;\n",
    "\n",
    "// Set the flag to use Azure OpenAI or OpenAI. False to use OpenAI, True to use Azure OpenAI\n",
    "var useAzureOpenAI = true;\n",
    "\n",
    "// Create a new Semantic Kernel instance\n",
    "if (useAzureOpenAI)\n",
    "{\n",
    "    Console.WriteLine(\"Using Azure OpenAI Service\");\n",
    "    semanticKernel = Kernel.CreateBuilder()\n",
    "        .AddAzureOpenAIChatCompletion(\n",
    "            deploymentName: azureOpenAIModelDeploymentName,\n",
    "            endpoint: azureOpenAIEndpoint,\n",
    "            apiKey: azureOpenAIAPIKey)\n",
    "        .Build();\n",
    "}\n",
    "else\n",
    "{\n",
    "    Console.WriteLine(\"Using OpenAI Service\");\n",
    "    semanticKernel = Kernel.CreateBuilder()\n",
    "        .AddOpenAIChatCompletion(\n",
    "            modelId: openAIModelId,\n",
    "            apiKey: openAIAPIKey)\n",
    "        .Build();\n",
    "}\n",
    "\n",
    "var chatCompletionService = semanticKernel.Services.GetRequiredService<IChatCompletionService>();"
   ]
  },
  {
   "cell_type": "markdown",
   "metadata": {},
   "source": [
    "### Step 2 - Decision Frames (Thinking Hats) Scenario for a Major Purchase "
   ]
  },
  {
   "cell_type": "markdown",
   "metadata": {},
   "source": [
    "The code below will list the potential decision frames (thinking hats) that may be appropriate to form different approaches for purchasing a house. Generative AI can be used to easily \"put on a hat\" (approach a problem with a specific decision frame) much easier than a human decision maker.  "
   ]
  },
  {
   "cell_type": "code",
   "execution_count": 3,
   "metadata": {
    "dotnet_interactive": {
     "language": "csharp"
    },
    "polyglot_notebook": {
     "kernelName": "csharp"
    },
    "vscode": {
     "languageId": "polyglot-notebook"
    }
   },
   "outputs": [
    {
     "name": "stdout",
     "output_type": "stream",
     "text": [
      "Certainly, Edward de Bono’s Six Thinking Hats is an excellent method for exploring decision-making from various perspectives. Here's how you can approach the decision-making process of purchasing a new home using each of the six hats:\n",
      "\n",
      "### 1. White Hat - Information\n",
      "- **Objective:** Focus on the data and information available.\n",
      "- **Questions to Consider:**\n",
      "  - What is my budget for purchasing a home?\n",
      "  - What locations am I interested in? What are the property prices in these areas?\n",
      "  - What are the current interest rates for mortgages?\n",
      "  - What are the essential features I need in a home (e.g., number of bedrooms, backyard, proximity to schools)?\n",
      "  - Gather information about the real estate market trends, property taxes, potential for appreciation, etc.\n",
      "  \n",
      "### 2. Red Hat - Emotions\n",
      "- **Objective:** Understand the emotional factors and use intuition.\n",
      "- **Questions to Consider:**\n",
      "  - How do I feel about moving to a new neighborhood?\n",
      "  - Does the idea of purchasing this home excite me, make me happy, or anxious?\n",
      "  - Do I feel comfortable with the real estate agent I’m working with?\n",
      "  - Trust your gut feelings: what do your instincts tell you about each potential home?\n",
      "  \n",
      "### 3. Black Hat - Caution\n",
      "- **Objective:** Assess the risks, drawbacks, and potential problems.\n",
      "- **Questions to Consider:**\n",
      "  - What are the potential risks of buying in this neighborhood (e.g., crime rates, pollution)?\n",
      "  - Are there any structural issues with the house that could turn into costly repairs?\n",
      "  - What if property values decrease in this area in the future?\n",
      "  - Can I afford the maintenance, utilities, and other ongoing costs associated with this home?\n",
      "  \n",
      "### 4. Yellow Hat - Optimism\n",
      "- **Objective:** Consider the benefits and positive outcomes.\n",
      "- **Questions to Consider:**\n",
      "  - What are the long-term benefits of purchasing this home (e.g., investment potential, quality of life)?\n",
      "  - How will this home meet the needs of my family?\n",
      "  - What positive changes will this move bring to my life (e.g., better schools, closer to work)?\n",
      "  - What are the advantages of the features and the location of this home?\n",
      "  \n",
      "### 5. Green Hat - Creativity\n",
      "- **Objective:** Explore creative solutions and alternatives.\n",
      "- **Questions to Consider:**\n",
      "  - Are there creative financing options available to help me afford this home?\n",
      "  - What renovations or improvements could increase the value of this home?\n",
      "  - Can I think of different ways to negotiate a better price?\n",
      "  - What other neighborhoods or types of homes should I consider that I haven’t thought of yet?\n",
      "  \n",
      "### 6. Blue Hat - Process\n",
      "- **Objective:** Manage the thinking process and organize the decision-making.\n",
      "- **Steps to Follow:**\n",
      "  - Define your overall goal and the criteria for your ideal home.\n",
      "  - Create a timeline for the decision-making process, including deadlines for different stages (e.g., searching, viewing, making offers).\n",
      "  - Set up a system for evaluating and comparing different homes (e.g., pros and cons list, scoring system).\n",
      "  - Plan regular check-ins to assess where you are in the process and make adjustments if necessary.\n",
      "  - Ensure you are taking a balanced view by systematically applying the other hats to every potential home considered.\n",
      "\n",
      "By systematically applying these six modes of thinking, you can gain a comprehensive understanding and make a well-informed decision about purchasing your new home."
     ]
    }
   ],
   "source": [
    "// Set the overall system prompt to behave like a decision intelligence assistant (persona)\n",
    "var systemPrompt = \"\"\"\n",
    "You are a decision intelligence assistant. \n",
    "Assist the user in exploring options, reasoning through decisions, problem-solving, and applying systems thinking to various scenarios. \n",
    "Provide structured, logical, and comprehensive advice.\n",
    "\"\"\";\n",
    "\n",
    "// Decision Frames Prompt that lists the six thinking hats approach to purchasing a house \n",
    "var decisionFramesPrompt = \"\"\"\n",
    "You are planning on purchasing a new home. \n",
    "Use Edward de Bono's Six thinking hats on how to approach the decision-making process. \n",
    "\n",
    "Instructions: \n",
    "List an approach for each of the six hats. \n",
    "\"\"\";\n",
    "\n",
    "// Create a new chat history object with proper system and user message roles\n",
    "var chatHistory = new ChatHistory();\n",
    "chatHistory.AddSystemMessage(systemPrompt);\n",
    "chatHistory.AddUserMessage(decisionFramesPrompt);\n",
    "\n",
    "var chatResponse = string.Empty;\n",
    "await foreach (var content in chatCompletionService.GetStreamingChatMessageContentsAsync(chatHistory))\n",
    "{\n",
    "    chatResponse += content;\n",
    "    Console.Write(content);\n",
    "}\n",
    "chatHistory.AddAssistantMessage(chatResponse);"
   ]
  },
  {
   "cell_type": "markdown",
   "metadata": {},
   "source": [
    "This can be enhanced further by having GenAI suggest which of the decision frames might be the most useful for a high-stakes decision. Therefore, the prompt above can be optimized further by listing all the decision frames and then priorotizing which ones will have the most impact and influence on the house purchase decision. "
   ]
  },
  {
   "cell_type": "code",
   "execution_count": 7,
   "metadata": {
    "dotnet_interactive": {
     "language": "csharp"
    },
    "polyglot_notebook": {
     "kernelName": "csharp"
    },
    "vscode": {
     "languageId": "polyglot-notebook"
    }
   },
   "outputs": [
    {
     "name": "stdout",
     "output_type": "stream",
     "text": [
      "When approaching the decision-making process of purchasing a new home, it's valuable to use Edward de Bono's Six Thinking Hats. Each hat represents a different type of thinking that can influence your decision. Let's prioritize the hats based on their impact and influence when making this significant decision:\n",
      "\n",
      "1. **White Hat (Information and Facts)**\n",
      "2. **Yellow Hat (Positive Judgment)**\n",
      "3. **Black Hat (Critical Judgment)**\n",
      "4. **Green Hat (Creativity)**\n",
      "5. **Red Hat (Emotions and Intuition)**\n",
      "6. **Blue Hat (Process and Control)**\n",
      "\n",
      "### Prioritized List with Approaches\n",
      "\n",
      "1. **White Hat (Information and Facts)**\n",
      "   - **Approach:** Gather all available data regarding the property market, specific areas of interest, property prices, interest rates, demographics, local amenities, future development plans, and economic forecasts. Objective information forms the basis for a well-informed decision.\n",
      "\n",
      "2. **Yellow Hat (Positive Judgment)**\n",
      "   - **Approach:** Focus on the benefits and advantages of the potential new home. Consider factors like investment potential, quality of life improvements, convenience, neighborhood safety, and future value appreciation. Balancing benefits is crucial for long-term satisfaction.\n",
      "\n",
      "3. **Black Hat (Critical Judgment)**\n",
      "   - **Approach:** Identify potential downsides and risks associated with the purchase. Assess potential pitfalls like high maintenance costs, possible future market devaluation, issues with the neighborhood, or unexpected regulatory changes. This helps in preparing for and mitigating risks.\n",
      "\n",
      "4. **Green Hat (Creativity)**\n",
      "   - **Approach:** Think creatively about possibilities related to the new home. Consider how you might customize or improve the property, integrate sustainable solutions, or leverage property features in innovative ways. Creative thinking can reveal additional value or usage scenarios for the property.\n",
      "\n",
      "5. **Red Hat (Emotions and Intuition)**\n",
      "   - **Approach:** Take into account your emotional responses and gut feelings about the property. These include initial impressions, the emotional connection to the neighborhood or house, and how the home feels in terms of comfort and potential happiness. Emotions are a valid part of this major life decision.\n",
      "\n",
      "6. **Blue Hat (Process and Control)**\n",
      "   - **Approach:** Oversee the decision-making process. Ensure that you systematically apply each hat's perspective and synthesize all gathered data. Manage timelines, budgeting, and coordination with real estate agents or financial institutions. This ensures a structured and thorough approach.\n",
      "\n",
      "### Suggested Focus\n",
      "\n",
      "Given the prioritized list, the decision frames to focus on would be a combination of **White Hat** (Information and Facts), **Yellow Hat** (Positive Judgment), and **Black Hat** (Critical Judgment). These three hats collectively ensure that you are making a well-informed decision while balancing optimism and caution.\n",
      "\n",
      "- **White Hat:** Construct a solid data foundation to inform your decision comprehensively.\n",
      "- **Yellow Hat:** Highlight the benefits of each option to ensure you're making a decision with positive foresight.\n",
      "- **Black Hat:** Weigh potential risks to prepare for any adverse scenarios effectively.\n",
      "\n",
      "Combining these hats will allow a balanced and thorough examination of potential new homes, ensuring you make a decision that is both informed and cautious, yet optimistic about the future."
     ]
    }
   ],
   "source": [
    "// Set the overall system prompt to behave like a decision intelligence assistant (persona)\n",
    "var systemPrompt = \"\"\"\n",
    "You are a decision intelligence assistant. \n",
    "Assist the user in exploring options, reasoning through decisions, problem-solving, and applying systems thinking to various scenarios. \n",
    "Provide structured, logical, and comprehensive advice.\n",
    "\"\"\";\n",
    "\n",
    "// Decision Frames Prompt that lists the six thinking hats approach to purchasing a house \n",
    "var decisionFramesListPrompt = \"\"\"\n",
    "You are planning on purchasing a new home. \n",
    "Use Edward de Bono's Six thinking hats on how to approach the decision-making process. \n",
    "\n",
    "Instructions:\n",
    "List an approach for each of the six hats in the order of impact & influence from most to least. \n",
    "From the priorotized list suggest which thinking hats (decision frames) to focus on. \n",
    "It can be one of the hats or any combination of the thinking hats. \n",
    "\"\"\";\n",
    "\n",
    "// Create a new chat history object with proper system and user message roles\n",
    "var chatHistory = new ChatHistory();\n",
    "chatHistory.AddSystemMessage(systemPrompt);\n",
    "chatHistory.AddUserMessage(decisionFramesListPrompt);\n",
    "\n",
    "var chatResponse = string.Empty;\n",
    "await foreach (var content in chatCompletionService.GetStreamingChatMessageContentsAsync(chatHistory))\n",
    "{\n",
    "    chatResponse += content;\n",
    "    Console.Write(content);\n",
    "}\n",
    "chatHistory.AddAssistantMessage(chatResponse);"
   ]
  },
  {
   "cell_type": "markdown",
   "metadata": {},
   "source": [
    "So far, (given the house purchase decision) Generative AI has helped create decision frames with the six thinking hats framework, rank them from most impact & influence from most to least and select the top 3 decision frames. The next logical step is to leverage Generative AI to apply the selected 3 decision frames for the house purchase decision.  \n",
    "\n",
    "This can be done in two different ways:  \n",
    "1) **Single Decision Prompt:** Instruct (prompt) the GenAI model \"think internally\" on the decision frames, ranking, selecting the top decision frames and then finally output the applied decision frames for the house purchase decision.\n",
    "2) **Workflow Decision Prompts:** This approach uses multiple prompts together to arrive at a decision approach. This breaks the problem down into smaller components and executes each component in sequence. The value is that each step can be optimized individually and each intermediate output is clearly available for analysis. This is ideal for sufficiently important decision problems.  "
   ]
  },
  {
   "cell_type": "markdown",
   "metadata": {},
   "source": [
    "#### Single Decision Prompt "
   ]
  },
  {
   "cell_type": "code",
   "execution_count": 10,
   "metadata": {
    "dotnet_interactive": {
     "language": "csharp"
    },
    "polyglot_notebook": {
     "kernelName": "csharp"
    },
    "vscode": {
     "languageId": "polyglot-notebook"
    }
   },
   "outputs": [
    {
     "name": "stdout",
     "output_type": "stream",
     "text": [
      "Let's create an approach using the selected decision frames:\n",
      "\n",
      "1. **White Hat (Information and Facts):**\n",
      "   - Research the housing market in your desired location to understand current prices and trends.\n",
      "   - Check mortgage rates and get pre-approved for a loan to know your budget.\n",
      "   - Investigate the neighborhood for amenities, crime rates, school quality, and future development plans.\n",
      "   - Gather information on property taxes, utility costs, and home insurance for the areas you're interested in.\n",
      "\n",
      "2. **Yellow Hat (Optimism and Benefits):**\n",
      "   - Identify what makes this decision a positive one. Consider proximity to work, schools, parks, and other amenities.\n",
      "   - Think about the potential appreciation of the property value over time.\n",
      "   - Consider the lifestyle improvements that a new home will bring, such as more space, better location, or favorable community features.\n",
      "   - Look at the financial benefits of buying versus renting, including building equity and potential tax advantages.\n",
      "\n",
      "3. **Black Hat (Caution and Risks):**\n",
      "   - Identify possible negative aspects such as high costs, risk of property devaluation, or hidden issues like necessary repairs.\n",
      "   - Consider the financial strain and long-term commitment of a mortgage.\n",
      "   - Think about the worst-case scenarios, like job loss or changes in interest rates impacting your ability to pay.\n",
      "   - Evaluate potential lifestyle changes that could pose challenges, such as increased commuting time or adjusting to a new neighborhood.\n",
      "\n",
      "Using these decision frames, you can form a comprehensive approach to purchasing a home:\n",
      "1. **Gather all the necessary information and factual data** to understand all financial and logistical aspects of purchasing the home.\n",
      "2. **Focus on the positive outcomes and benefits** that buying a new home will bring to your life and financial future.\n",
      "3. **Be aware of and prepare for potential risks and downsides** to ensure you are making a well-rounded and informed decision.\n",
      "\n",
      "By balancing these perspectives, you can make a thoughtful and informed decision on purchasing a new home."
     ]
    }
   ],
   "source": [
    "// Set the overall system prompt to behave like a decision intelligence assistant (persona)\n",
    "var systemPrompt = \"\"\"\n",
    "You are a decision intelligence assistant. \n",
    "Assist the user in exploring options, reasoning through decisions, problem-solving, and applying systems thinking to various scenarios. \n",
    "Provide structured, logical, and comprehensive advice.\n",
    "\"\"\";\n",
    "\n",
    "// Decision Frames Prompt that lists the six thinking hats approach to purchasing a house \n",
    "var decisionFramesListPrompt = \"\"\"\n",
    "You are planning on purchasing a new home. \n",
    "Use Edward de Bono's Six thinking hats on how to approach the decision-making process. \n",
    "\n",
    "Instructions:\n",
    "\n",
    "<Do Not Show these steps>\n",
    "INTERNALLY THINK about an approach for each of the six hats in the order of impact & influence from most to least. \n",
    "From the priorotized list INTERNALLY PROCESS which thinking hats (decision frames) to focus on. \n",
    "It can be one of the hats or any combination of the thinking hats. \n",
    "Let's call that internal list \"selected decision frames\"\n",
    "</Do Not Show these steps>\n",
    "\n",
    "Only output these steps to the user: \n",
    "Finally, from the internal \"selected decision frames\", create an approach for each for purchasing a house.  \n",
    "\"\"\";\n",
    "\n",
    "// Create a new chat history object with proper system and user message roles\n",
    "var chatHistory = new ChatHistory();\n",
    "chatHistory.AddSystemMessage(systemPrompt);\n",
    "chatHistory.AddUserMessage(decisionFramesListPrompt);\n",
    "\n",
    "var chatResponse = string.Empty;\n",
    "await foreach (var content in chatCompletionService.GetStreamingChatMessageContentsAsync(chatHistory))\n",
    "{\n",
    "    chatResponse += content;\n",
    "    Console.Write(content);\n",
    "}\n",
    "chatHistory.AddAssistantMessage(chatResponse);"
   ]
  }
 ],
 "metadata": {
  "kernelspec": {
   "display_name": ".NET (C#)",
   "language": "C#",
   "name": ".net-csharp"
  },
  "language_info": {
   "name": "python"
  },
  "polyglot_notebook": {
   "kernelInfo": {
    "defaultKernelName": "csharp",
    "items": [
     {
      "aliases": [],
      "name": "csharp"
     }
    ]
   }
  }
 },
 "nbformat": 4,
 "nbformat_minor": 2
}
