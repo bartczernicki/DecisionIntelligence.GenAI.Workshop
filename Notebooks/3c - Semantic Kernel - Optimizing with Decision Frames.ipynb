{
 "cells": [
  {
   "cell_type": "markdown",
   "metadata": {},
   "source": [
    "<img style=\"float: left;padding-right: 10px\" width =\"40px\" src=\"https://raw.githubusercontent.com/bartczernicki/DecisionIntelligence.GenAI.Workshop/main/Images/SemanticKernelLogo.png\">\n",
    "\n",
    "## Semantic Kernel - Optimizing with Decision Frames  "
   ]
  },
  {
   "cell_type": "markdown",
   "metadata": {},
   "source": [
    "Work in Progress "
   ]
  },
  {
   "cell_type": "markdown",
   "metadata": {},
   "source": [
    "### Step 1 - Initialize Configuration Builder & Build the Semantic Kernel Orchestration "
   ]
  },
  {
   "cell_type": "code",
   "execution_count": 1,
   "metadata": {
    "vscode": {
     "languageId": "polyglot-notebook"
    }
   },
   "outputs": [
    {
     "data": {
      "text/html": [
       "<div><div></div><div></div><div><strong>Installed Packages</strong><ul><li><span>Microsoft.Extensions.Configuration, 8.0.0</span></li><li><span>Microsoft.Extensions.Configuration.Json, 8.0.0</span></li></ul></div></div>"
      ]
     },
     "metadata": {},
     "output_type": "display_data"
    }
   ],
   "source": [
    "// Import the required NuGet configuration packages\n",
    "#r \"nuget: Microsoft.Extensions.Configuration, 8.0.0\"\n",
    "#r \"nuget: Microsoft.Extensions.Configuration.Json, 8.0.0\"\n",
    "\n",
    "using Microsoft.Extensions.Configuration.Json;\n",
    "using Microsoft.Extensions.Configuration;\n",
    "using System.IO;\n",
    "\n",
    "// Load the configuration settings from the local.settings.json and secrets.settings.json files\n",
    "// The secrets.settings.json file is used to store sensitive information such as API keys\n",
    "var configurationBuilder = new ConfigurationBuilder()\n",
    "    .SetBasePath(Directory.GetCurrentDirectory())\n",
    "    .AddJsonFile(\"local.settings.json\", optional: true, reloadOnChange: true)\n",
    "    .AddJsonFile(\"secrets.settings.json\", optional: true, reloadOnChange: true);\n",
    "var config = configurationBuilder.Build();\n",
    "\n",
    "// IMPORTANT: You ONLY NEED either Azure OpenAI or OpenAI connectiopn info, not both.\n",
    "// Azure OpenAI Connection Info\n",
    "var azureOpenAIEndpoint = config[\"AzureOpenAI:Endpoint\"];\n",
    "var azureOpenAIAPIKey = config[\"AzureOpenAI:APIKey\"];\n",
    "var azureOpenAIModelDeploymentName = config[\"AzureOpenAI:ModelDeploymentName\"];\n",
    "// OpenAI Connection Info \n",
    "var openAIAPIKey = config[\"OpenAI:APIKey\"];\n",
    "var openAIModelId = config[\"OpenAI:ModelId\"];"
   ]
  },
  {
   "cell_type": "code",
   "execution_count": 2,
   "metadata": {
    "vscode": {
     "languageId": "polyglot-notebook"
    }
   },
   "outputs": [
    {
     "data": {
      "text/html": [
       "<div><div></div><div></div><div><strong>Installed Packages</strong><ul><li><span>Microsoft.Extensions.DependencyInjection, 8.0.0</span></li><li><span>Microsoft.SemanticKernel, 1.26.0</span></li></ul></div></div>"
      ]
     },
     "metadata": {},
     "output_type": "display_data"
    },
    {
     "name": "stdout",
     "output_type": "stream",
     "text": [
      "Using Azure OpenAI Service\n"
     ]
    }
   ],
   "source": [
    "// Install the required NuGet packages\n",
    "// Note: This also installs the Dependency Injection Package to retrieve the ChatCompletionService\n",
    "#r \"nuget: Microsoft.Extensions.DependencyInjection, 8.0.0\"\n",
    "#r \"nuget: Microsoft.SemanticKernel, 1.26.0\"\n",
    "\n",
    "using Microsoft.Extensions.DependencyInjection.Extensions;\n",
    "using Microsoft.Extensions.DependencyInjection;\n",
    "using Microsoft.SemanticKernel;\n",
    "using Microsoft.SemanticKernel.ChatCompletion;\n",
    "using Microsoft.SemanticKernel.Connectors.OpenAI;\n",
    "\n",
    "Kernel semanticKernel;\n",
    "\n",
    "// Set the flag to use Azure OpenAI or OpenAI. False to use OpenAI, True to use Azure OpenAI\n",
    "var useAzureOpenAI = true;\n",
    "\n",
    "// Create a new Semantic Kernel instance\n",
    "if (useAzureOpenAI)\n",
    "{\n",
    "    Console.WriteLine(\"Using Azure OpenAI Service\");\n",
    "    semanticKernel = Kernel.CreateBuilder()\n",
    "        .AddAzureOpenAIChatCompletion(\n",
    "            deploymentName: azureOpenAIModelDeploymentName,\n",
    "            endpoint: azureOpenAIEndpoint,\n",
    "            apiKey: azureOpenAIAPIKey)\n",
    "        .Build();\n",
    "}\n",
    "else\n",
    "{\n",
    "    Console.WriteLine(\"Using OpenAI Service\");\n",
    "    semanticKernel = Kernel.CreateBuilder()\n",
    "        .AddOpenAIChatCompletion(\n",
    "            modelId: openAIModelId,\n",
    "            apiKey: openAIAPIKey)\n",
    "        .Build();\n",
    "}\n",
    "\n",
    "var chatCompletionService = semanticKernel.Services.GetRequiredService<IChatCompletionService>();"
   ]
  },
  {
   "cell_type": "markdown",
   "metadata": {},
   "source": [
    "### Step 2 - List Potential Decision Frames (Thinking Hats) for a Major Purchase "
   ]
  },
  {
   "cell_type": "markdown",
   "metadata": {},
   "source": [
    "The code below will list the potential decision frames (thinking hats) that may be appropriate to form different approaches for purchasing a house. Generative AI can be used to easily \"put on a hat\" (approach a problem with a specific decision frame) much easier than a human decision maker.  "
   ]
  },
  {
   "cell_type": "code",
   "execution_count": 4,
   "metadata": {
    "vscode": {
     "languageId": "polyglot-notebook"
    }
   },
   "outputs": [
    {
     "name": "stdout",
     "output_type": "stream",
     "text": [
      "Certainly! Edward de Bono's Six Thinking Hats is a powerful decision-making technique that involves looking at a problem from six distinct perspectives. This helps ensure that every aspect of a decision is thoroughly examined. Here's how you can apply the Six Thinking Hats method to the decision of purchasing a new home:\n",
      "\n",
      "### 1. White Hat - Information and Data\n",
      "Focus on the facts and information available.\n",
      "- **Research housing market trends:** Understand current property values, historical trends, and future projections in the areas you are considering.\n",
      "- **Gather financial details:** Know your budget, mortgage options, interest rates, and any additional costs like property taxes, insurance, and maintenance.\n",
      "- **Fact-check property details:** Verify the condition of the house, age, size, and any potential repair needs.\n",
      "\n",
      "### 2. Red Hat - Emotions and Intuition\n",
      "Consider your feelings and gut reactions.\n",
      "- **Emotional response:** Reflect on how you feel about the neighborhoods and properties you are considering. Do you feel excited, comfortable, or anxious?\n",
      "- **Intuition:** Listen to your gut feelings about the houses you visit. Do they feel right for you and your family?\n",
      "- **Family input:** Consider the emotional responses of other family members or anyone else who will share the space.\n",
      "\n",
      "### 3. Black Hat - Caution and Critical Judgment\n",
      "Look for potential problems and risks.\n",
      "- **Risk assessment:** Identify potential risks, such as market downturns, structural issues, or problematic neighbors.\n",
      "- **Financial caution:** Consider the financial risks, such as the possibility of rising interest rates, unexpected expenses, or overextending your budget.\n",
      "- **Long-term viability:** Think critically about the long-term implications and whether the property will meet your needs in the future (e.g., growing family, aging in place).\n",
      "\n",
      "### 4. Yellow Hat - Optimism and Benefits\n",
      "Identify the positives and benefits.\n",
      "- **Investment potential:** Assess the potential for the property to appreciate in value over time.\n",
      "- **Quality of life:** Consider how the new home will improve your daily life, including convenience, safety, and amenities.\n",
      "- **Community benefits:** Evaluate the benefits of the neighborhood, such as good schools, parks, shopping, and community activities.\n",
      "\n",
      "### 5. Green Hat - Creativity and New Ideas\n",
      "Explore creative solutions and alternatives.\n",
      "- **Renovation ideas:** Think about how you could customize or improve the property to better suit your needs.\n",
      "- **Alternative options:** Look into different types of properties, like townhouses, condos, or newly-built homes.\n",
      "- **Broader search areas:** Consider expanding your search to include other neighborhoods or cities you may not have initially considered.\n",
      "\n",
      "### 6. Blue Hat - Process Control and Planning\n",
      "Focus on managing the thinking process itself.\n",
      "- **Plan your strategy:** Develop a clear plan for your house-hunting process, including a timeline, list of priorities, and decision milestones.\n",
      "- **Organize information:** Keep all your research, notes, and evaluations well-organized so you can easily compare properties.\n",
      "- **Decision criteria:** Establish the criteria you will use to make your final decision, ensuring you have a balanced perspective from all the other hats.\n",
      "\n",
      "By systematically applying each of the Six Thinking Hats, you will be able to make a more informed, balanced, and comprehensive decision when purchasing your new home."
     ]
    }
   ],
   "source": [
    "// Set the overall system prompt to behave like a decision intelligence assistant (persona)\n",
    "var systemPrompt = \"\"\"\n",
    "You are a decision intelligence assistant. \n",
    "Assist the user in exploring options, reasoning through decisions, problem-solving, and applying systems thinking to various scenarios. \n",
    "Provide structured, logical, and comprehensive advice.\n",
    "\"\"\";\n",
    "\n",
    "// Decision Frames Prompt that lists the six thinking hats approach to purchasing a house \n",
    "var decisionFramesPrompt = \"\"\"\n",
    "You are planning on purchasing a new home. \n",
    "Use Edward de Bono's Six thinking hats on how to approach the decision-making process. \n",
    "List an approach for each of the six hats. \n",
    "\"\"\";\n",
    "\n",
    "// Create a new chat history object with proper system and user message roles\n",
    "var chatHistory = new ChatHistory();\n",
    "chatHistory.AddSystemMessage(systemPrompt);\n",
    "chatHistory.AddUserMessage(decisionFramesPrompt);\n",
    "\n",
    "var chatResponse = string.Empty;\n",
    "await foreach (var content in chatCompletionService.GetStreamingChatMessageContentsAsync(chatHistory))\n",
    "{\n",
    "    chatResponse += content;\n",
    "    Console.Write(content);\n",
    "}\n",
    "chatHistory.AddAssistantMessage(chatResponse);"
   ]
  },
  {
   "cell_type": "markdown",
   "metadata": {},
   "source": [
    "This can be enhanced further by having GenAI suggest which of the decision frames might be the most useful for a high-stakes decision. Therefore, the prompt above can be optimized further by listing all the decision frames and then priorotizing which ones will have the most impact and influence on the house purchase decision. "
   ]
  },
  {
   "cell_type": "code",
   "execution_count": null,
   "metadata": {
    "vscode": {
     "languageId": "polyglot-notebook"
    }
   },
   "outputs": [
    {
     "name": "stdout",
     "output_type": "stream",
     "text": [
      "The Six Thinking Hats is a powerful decision-making tool developed by Edward de Bono. It encourages looking at a decision from different perspectives, promoting a holistic and well-rounded analysis. Here's how you can approach purchasing a new home using each of the Six Thinking Hats, prioritized from most to least impact:\n",
      "\n",
      "1. **White Hat (Information and Data)**\n",
      "   - Gather all the relevant information about potential homes. This includes pricing, location, size, amenities, school districts, crime rates, and future development plans in the area. \n",
      "   - Evaluate mortgage rates, property taxes, insurance costs, and maintenance expenses.\n",
      "   - Obtain professional inspections and appraisals.\n",
      "\n",
      "2. **Yellow Hat (Optimism and Benefits)**\n",
      "   - Assess the positive aspects of each potential home, such as potential for appreciation, convenience, and suitability for your lifestyle.\n",
      "   - Consider the benefits of the neighborhood, proximity to work, and"
     ]
    }
   ],
   "source": [
    "// Set the overall system prompt to behave like a decision intelligence assistant (persona)\n",
    "var systemPrompt = \"\"\"\n",
    "You are a decision intelligence assistant. \n",
    "Assist the user in exploring options, reasoning through decisions, problem-solving, and applying systems thinking to various scenarios. \n",
    "Provide structured, logical, and comprehensive advice.\n",
    "\"\"\";\n",
    "\n",
    "// Decision Frames Prompt that lists the six thinking hats approach to purchasing a house \n",
    "var decisionFramesListPrompt = \"\"\"\n",
    "You are planning on purchasing a new home. \n",
    "Use Edward de Bono's Six thinking hats on how to approach the decision-making process. \n",
    "List an approach for each of the six hats in the order of impact & influence from most to least. \n",
    "From the priorotized list suggest which thinking hats (decision frames) to focus on. \n",
    "It can be one of the hats or any combination of the thinking hats. \n",
    "\"\"\";\n",
    "\n",
    "// Create a new chat history object with proper system and user message roles\n",
    "var chatHistory = new ChatHistory();\n",
    "chatHistory.AddSystemMessage(systemPrompt);\n",
    "chatHistory.AddUserMessage(decisionFramesListPrompt);\n",
    "\n",
    "var chatResponse = string.Empty;\n",
    "await foreach (var content in chatCompletionService.GetStreamingChatMessageContentsAsync(chatHistory))\n",
    "{\n",
    "    chatResponse += content;\n",
    "    Console.Write(content);\n",
    "}\n",
    "chatHistory.AddAssistantMessage(chatResponse);"
   ]
  }
 ],
 "metadata": {
  "kernelspec": {
   "display_name": ".NET (C#)",
   "language": "C#",
   "name": ".net-csharp"
  },
  "language_info": {
   "name": "python"
  },
  "polyglot_notebook": {
   "kernelInfo": {
    "defaultKernelName": "csharp",
    "items": [
     {
      "aliases": [],
      "name": "csharp"
     }
    ]
   }
  }
 },
 "nbformat": 4,
 "nbformat_minor": 2
}
