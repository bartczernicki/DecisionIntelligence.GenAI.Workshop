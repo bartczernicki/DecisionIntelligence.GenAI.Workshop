{
 "cells": [
  {
   "cell_type": "markdown",
   "metadata": {},
   "source": [
    "<img style=\"float: left;padding-right: 10px\" width =\"40px\" src=\"https://raw.githubusercontent.com/bartczernicki/DecisionIntelligence.GenAI.Workshop/main/Images/SemanticKernelLogo.png\">\n",
    "\n",
    "## Semantic Kernel - Optimizing with Decision Frames  "
   ]
  },
  {
   "cell_type": "markdown",
   "metadata": {},
   "source": [
    "Work in Progress "
   ]
  },
  {
   "cell_type": "markdown",
   "metadata": {},
   "source": [
    "### Step 1 - Initialize Configuration Builder & Build the Semantic Kernel Orchestration "
   ]
  },
  {
   "cell_type": "code",
   "execution_count": 1,
   "metadata": {
    "dotnet_interactive": {
     "language": "csharp"
    },
    "polyglot_notebook": {
     "kernelName": "csharp"
    }
   },
   "outputs": [
    {
     "data": {
      "text/html": [
       "<div><div></div><div></div><div><strong>Installed Packages</strong><ul><li><span>Microsoft.Extensions.Configuration, 9.0.6</span></li><li><span>Microsoft.Extensions.Configuration.Json, 9.0.6</span></li></ul></div></div>"
      ]
     },
     "metadata": {},
     "output_type": "display_data"
    }
   ],
   "source": [
    "// Import the required NuGet configuration packages\n",
    "#r \"nuget: Microsoft.Extensions.Configuration, 9.0.6\"\n",
    "#r \"nuget: Microsoft.Extensions.Configuration.Json, 9.0.6\"\n",
    "\n",
    "using Microsoft.Extensions.Configuration.Json;\n",
    "using Microsoft.Extensions.Configuration;\n",
    "using System.IO;\n",
    "\n",
    "// Load the configuration settings from the local.settings.json and secrets.settings.json files\n",
    "// The secrets.settings.json file is used to store sensitive information such as API keys\n",
    "var configurationBuilder = new ConfigurationBuilder()\n",
    "    .SetBasePath(Directory.GetCurrentDirectory())\n",
    "    .AddJsonFile(\"local.settings.json\", optional: true, reloadOnChange: true)\n",
    "    .AddJsonFile(\"secrets.settings.json\", optional: true, reloadOnChange: true);\n",
    "var config = configurationBuilder.Build();\n",
    "\n",
    "// IMPORTANT: You ONLY NEED either Azure OpenAI or OpenAI connectiopn info, not both.\n",
    "// Azure OpenAI Connection Info\n",
    "var azureOpenAIEndpoint = config[\"AzureOpenAI:Endpoint\"];\n",
    "var azureOpenAIAPIKey = config[\"AzureOpenAI:APIKey\"];\n",
    "var azureOpenAIModelDeploymentName = config[\"AzureOpenAI:ModelDeploymentName\"];\n",
    "// OpenAI Connection Info \n",
    "var openAIAPIKey = config[\"OpenAI:APIKey\"];\n",
    "var openAIModelId = config[\"OpenAI:ModelId\"];"
   ]
  },
  {
   "cell_type": "code",
   "execution_count": 2,
   "metadata": {
    "dotnet_interactive": {
     "language": "csharp"
    },
    "polyglot_notebook": {
     "kernelName": "csharp"
    }
   },
   "outputs": [
    {
     "data": {
      "text/html": [
       "<div><div></div><div></div><div><strong>Installed Packages</strong><ul><li><span>Microsoft.Extensions.DependencyInjection, 9.0.6</span></li><li><span>Microsoft.SemanticKernel, 1.56.0</span></li></ul></div></div>"
      ]
     },
     "metadata": {},
     "output_type": "display_data"
    },
    {
     "name": "stdout",
     "output_type": "stream",
     "text": [
      "Using Azure OpenAI Service\n"
     ]
    }
   ],
   "source": [
    "// Install the required NuGet packages\n",
    "// Note: This also installs the Dependency Injection Package to retrieve the ChatCompletionService\n",
    "#r \"nuget: Microsoft.Extensions.DependencyInjection, 9.0.6\"\n",
    "#r \"nuget: Microsoft.SemanticKernel, 1.56\"\n",
    "\n",
    "using Microsoft.Extensions.DependencyInjection.Extensions;\n",
    "using Microsoft.Extensions.DependencyInjection;\n",
    "using Microsoft.SemanticKernel;\n",
    "using Microsoft.SemanticKernel.ChatCompletion;\n",
    "using Microsoft.SemanticKernel.Connectors.OpenAI;\n",
    "\n",
    "Kernel semanticKernel;\n",
    "\n",
    "// Set the flag to use Azure OpenAI or OpenAI. False to use OpenAI, True to use Azure OpenAI\n",
    "var useAzureOpenAI = true;\n",
    "\n",
    "// Create a new Semantic Kernel instance\n",
    "if (useAzureOpenAI)\n",
    "{\n",
    "    Console.WriteLine(\"Using Azure OpenAI Service\");\n",
    "    semanticKernel = Kernel.CreateBuilder()\n",
    "        .AddAzureOpenAIChatCompletion(\n",
    "            deploymentName: azureOpenAIModelDeploymentName,\n",
    "            endpoint: azureOpenAIEndpoint,\n",
    "            apiKey: azureOpenAIAPIKey)\n",
    "        .Build();\n",
    "}\n",
    "else\n",
    "{\n",
    "    Console.WriteLine(\"Using OpenAI Service\");\n",
    "    semanticKernel = Kernel.CreateBuilder()\n",
    "        .AddOpenAIChatCompletion(\n",
    "            modelId: openAIModelId,\n",
    "            apiKey: openAIAPIKey)\n",
    "        .Build();\n",
    "}\n",
    "\n",
    "var chatCompletionService = semanticKernel.Services.GetRequiredService<IChatCompletionService>();"
   ]
  },
  {
   "cell_type": "markdown",
   "metadata": {},
   "source": [
    "### Step 2 - Decision Frames (Thinking Hats) Scenario for a Major Purchase "
   ]
  },
  {
   "cell_type": "markdown",
   "metadata": {},
   "source": [
    "> 📜 **_\"The mere formulation of a problem is far more essential than its solution, which may be merely a matter of mathematical or experimental skill. To raise new questions, new possibilities, to regard old problems from a new angle requires creative imagination and marks real advances in science.\"_**\n",
    ">\n",
    "> -- <cite>Albert Einstein (Theoretical Physicist, Best known for developing the theory of relativity)</cite>  "
   ]
  },
  {
   "cell_type": "markdown",
   "metadata": {},
   "source": [
    "The code below will list the potential decision frames (using thinking hats frames) that may be appropriate to form different approaches for purchasing a house. Generative AI can be used to easily \"put on a hat\" (approach a problem with a specific decision frame) much easier than a human decision maker.  "
   ]
  },
  {
   "cell_type": "code",
   "execution_count": 3,
   "metadata": {
    "dotnet_interactive": {
     "language": "csharp"
    },
    "polyglot_notebook": {
     "kernelName": "csharp"
    }
   },
   "outputs": [
    {
     "name": "stdout",
     "output_type": "stream",
     "text": [
      "Absolutely! Edward de Bono’s Six Thinking Hats provide a structured framework for thoroughly exploring a complex decision like purchasing a new home. Here’s how you could use each hat in your decision-making process:\n",
      "\n",
      "---\n",
      "\n",
      "**1. White Hat — Information & Facts**  \n",
      "*Approach:*  \n",
      "- Gather objective data: home prices in preferred locations, property taxes, market trends, average time homes stay on market, mortgage rates, school ratings, commute times, and crime statistics.\n",
      "- Identify what information you still need: property history, upcoming development plans in the area.\n",
      "- Avoid speculation—stick to verifiable facts.\n",
      "\n",
      "---\n",
      "\n",
      "**2. Red Hat — Emotions & Intuition**  \n",
      "*Approach:*  \n",
      "- Examine your gut feelings and initial reactions: How do you feel about living in each area or house you visit?\n",
      "- Acknowledge emotional needs: proximity to family, community vibe, sense of safety, pride, or contentment.\n",
      "- Express and respect your partner’s or family’s feelings about particular homes, even if they can’t logically explain them.\n",
      "\n",
      "---\n",
      "\n",
      "**3. Black Hat — Caution & Critical Judgement**  \n",
      "*Approach:*  \n",
      "- Consider what could go wrong: hidden defects, overpaying, resale difficulties, neighborhood decline, unexpected expenses, zoning changes.\n",
      "- Analyze risks in various scenarios (job loss, interest rate increases, neighborhood issues).\n",
      "- Scrutinize contracts and terms carefully—what are the potential downsides or liabilities?\n",
      "\n",
      "---\n",
      "\n",
      "**4. Yellow Hat — Optimism & Benefits**  \n",
      "*Approach:*  \n",
      "- Identify the positive aspects: investment potential, quality of life improvements, potential for appreciation, fitting your needs and aspirations.\n",
      "- Consider how the home could serve you in best-case scenarios (growth of family, entertaining, customization).\n",
      "- Look for value additions: energy efficiency, amenities, excellent school zone.\n",
      "\n",
      "---\n",
      "\n",
      "**5. Green Hat — Creativity & Alternatives**  \n",
      "*Approach:*  \n",
      "- Brainstorm alternative options: different neighborhoods, types of homes, or financing methods.\n",
      "- Consider creative deals: fixer-uppers, joint ownership, rent-to-own, leveraging government programs for buyers.\n",
      "- Imagine how you could adapt or improve less-than-perfect properties to meet your needs.\n",
      "\n",
      "---\n",
      "\n",
      "**6. Blue Hat — Process & Organization**  \n",
      "*Approach:*  \n",
      "- Facilitate and structure your decision process: create a checklist, timeline, and criteria for evaluation.\n",
      "- Organize discussions and ensure each hat is used—schedule time for reflection, property visits, and consultations with experts.\n",
      "- Summarize findings, ensure all perspectives are covered, and guide the final decision.\n",
      "\n",
      "---\n",
      "\n",
      "Using all six hats allows you to examine your options from every angle, leading to a balanced and well-considered home purchase decision."
     ]
    }
   ],
   "source": [
    "// Set the overall system prompt to behave like a decision intelligence assistant (persona)\n",
    "var systemPrompt = \"\"\"\n",
    "You are a decision intelligence assistant. \n",
    "Assist the user in exploring options, reasoning through decisions, problem-solving, and applying systems thinking to various scenarios. \n",
    "Provide structured, logical, and comprehensive advice.\n",
    "\"\"\";\n",
    "\n",
    "// Decision Frames Prompt that lists the six thinking hats approach to purchasing a house \n",
    "var decisionFramesPrompt = \"\"\"\n",
    "You are planning on purchasing a new home. \n",
    "Use Edward de Bono's Six thinking hats on how to approach the decision-making process. \n",
    "\n",
    "Instructions: \n",
    "List an approach for each of the six hats. \n",
    "\"\"\";\n",
    "\n",
    "// Create a new chat history object with proper system and user message roles\n",
    "var chatHistory = new ChatHistory();\n",
    "chatHistory.AddSystemMessage(systemPrompt);\n",
    "chatHistory.AddUserMessage(decisionFramesPrompt);\n",
    "\n",
    "var chatResponse = string.Empty;\n",
    "await foreach (var content in chatCompletionService.GetStreamingChatMessageContentsAsync(chatHistory))\n",
    "{\n",
    "    chatResponse += content;\n",
    "    Console.Write(content);\n",
    "}\n",
    "chatHistory.AddAssistantMessage(chatResponse);"
   ]
  },
  {
   "cell_type": "markdown",
   "metadata": {},
   "source": [
    "This can be enhanced further by having GenAI suggest which of the decision frames might be the most useful for a high-stakes decision. Therefore, the prompt above can be optimized further by listing all the decision frames and then priorotizing which ones will have the most impact and influence on the house purchase decision.  \n",
    "\n",
    "This allows the Artificial Intelligence automation to focus on the optimization of the decision process and the human on the actual decision selection and execution!"
   ]
  },
  {
   "cell_type": "code",
   "execution_count": 4,
   "metadata": {
    "dotnet_interactive": {
     "language": "csharp"
    },
    "polyglot_notebook": {
     "kernelName": "csharp"
    }
   },
   "outputs": [
    {
     "name": "stdout",
     "output_type": "stream",
     "text": [
      "Absolutely! Edward de Bono’s **Six Thinking Hats** method is a powerful framework for comprehensive decision-making. Here’s how to apply each hat to the home-buying process, prioritized by their typical impact and influence on this specific decision:\n",
      "\n",
      "---\n",
      "\n",
      "### 1. **White Hat (Facts & Information)**\n",
      "**Approach:**  \n",
      "Start by gathering all the relevant data: your budget, mortgage interest rates, local market trends, neighborhood statistics, commute times, school quality, home inspection results, and resale value projections. Well-informed decisions minimize risk.\n",
      "\n",
      "---\n",
      "\n",
      "### 2. **Black Hat (Caution & Risk Assessment)**\n",
      "**Approach:**  \n",
      "Analyze potential pitfalls and obstacles: Could there be hidden repair costs? Is there a risk of property value dropping in the area? Are there factors like future developments or zoning changes that could impact your peace or property value? List worst-case scenarios.\n",
      "\n",
      "---\n",
      "\n",
      "### 3. **Red Hat (Feelings, Intuition, and Emotions)**\n",
      "**Approach:**  \n",
      "Reflect on your gut feelings and emotions toward each property: Does this house feel like “home”? Are you excited or anxious about the location or the process? Emotional alignment is crucial for satisfaction.\n",
      "\n",
      "---\n",
      "\n",
      "### 4. **Yellow Hat (Optimism & Benefits)**\n",
      "**Approach:**  \n",
      "Look at the positives: What are the benefits for you and your family? Will the home appreciate in value? Will it improve your lifestyle or work-life balance? Identify upsides and long-term advantages.\n",
      "\n",
      "---\n",
      "\n",
      "### 5. **Green Hat (Creativity & Alternatives)**\n",
      "**Approach:**  \n",
      "Brainstorm alternatives and creative solutions: Could renovating a fixer-upper be better value? Is co-ownership or looking into different neighborhoods an option? Consider ways to maximize your objectives.\n",
      "\n",
      "---\n",
      "\n",
      "### 6. **Blue Hat (Process & Management)**\n",
      "**Approach:**  \n",
      "This hat guides the overall thinking process. Use it to manage your approach: Outline decision criteria, set timelines for each phase, coordinate input from family or advisors, and ensure balance among the other hats.\n",
      "\n",
      "---\n",
      "\n",
      "## Prioritized Order (from Most to Least Impact):\n",
      "\n",
      "1. **White Hat** – Concrete data forms your decision’s foundation.\n",
      "2. **Black Hat** – Risk assessment prevents costly mistakes.\n",
      "3. **Red Hat** – Emotional satisfaction ensures long-term happiness.\n",
      "4. **Yellow Hat** – Benefits and potential drive the motivation to act.\n",
      "5. **Green Hat** – Creativity introduces alternative solutions.\n",
      "6. **Blue Hat** – Manages and orchestrates the decision, but has less direct influence over the specific choice.\n",
      "\n",
      "---\n",
      "\n",
      "## Recommended Focus (Key Hats to Emphasize):\n",
      "\n",
      "Given the magnitude and long-term impact of purchasing a home, focus **primarily** on:\n",
      "\n",
      "- **White Hat (Facts & Information)**\n",
      "- **Black Hat (Caution & Risk Assessment)**\n",
      "- **Red Hat (Feelings, Emotions)**\n",
      "\n",
      "These three frames ensure you are well-informed, aware of risks, and aligned emotionally. **Use the Blue Hat periodically** to check your process, ensuring balance and timely decision-making.\n",
      "\n",
      "**Combination suggestion:**  \n",
      "Begin with White and Black hats to establish a safe and solid foundation, periodically check-in with the Red Hat to ensure emotional alignment, and use the Blue Hat as a guiding tool throughout.\n",
      "\n",
      "---\n",
      "\n",
      "**Summary:**  \n",
      "Prioritize information and risk before feelings, then check optimism and alternatives, all managed with a structured Blue Hat approach. Focus on White, Black, and Red hats for the most balanced, rational, and satisfying home-buying decision."
     ]
    }
   ],
   "source": [
    "// Set the overall system prompt to behave like a decision intelligence assistant (persona)\n",
    "var systemPrompt = \"\"\"\n",
    "You are a decision intelligence assistant. \n",
    "Assist the user in exploring options, reasoning through decisions, problem-solving, and applying systems thinking to various scenarios. \n",
    "Provide structured, logical, and comprehensive advice.\n",
    "\"\"\";\n",
    "\n",
    "// Decision Frames Prompt that lists the six thinking hats approach to purchasing a house \n",
    "var decisionFramesListPrompt = \"\"\"\n",
    "You are planning on purchasing a new home. \n",
    "Use Edward de Bono's Six thinking hats on how to approach the decision-making process. \n",
    "\n",
    "Instructions:\n",
    "List an approach for each of the six hats in the order of impact & influence from most to least. \n",
    "From the priorotized list suggest which thinking hats (decision frames) to focus on. \n",
    "It can be one of the hats or any combination of the thinking hats. \n",
    "\"\"\";\n",
    "\n",
    "// Create a new chat history object with proper system and user message roles\n",
    "var chatHistory = new ChatHistory();\n",
    "chatHistory.AddSystemMessage(systemPrompt);\n",
    "chatHistory.AddUserMessage(decisionFramesListPrompt);\n",
    "\n",
    "var chatResponse = string.Empty;\n",
    "await foreach (var content in chatCompletionService.GetStreamingChatMessageContentsAsync(chatHistory))\n",
    "{\n",
    "    chatResponse += content;\n",
    "    Console.Write(content);\n",
    "}\n",
    "chatHistory.AddAssistantMessage(chatResponse);"
   ]
  },
  {
   "cell_type": "markdown",
   "metadata": {},
   "source": [
    "So far, (given the house purchase decision) Generative AI has helped create decision frames with the six thinking hats framework, rank them from most impact & influence from most to least and select the top 3 decision frames. The next logical step is to leverage Generative AI to apply the selected 3 decision frames for the house purchase decision.  \n",
    "\n",
    "This can be done in two different ways:  \n",
    "1) **Single Decision Prompt:** Instruct (prompt) the GenAI model \"think internally\" on the decision frames, ranking, selecting the top decision frames and then finally output the applied decision frames for the house purchase decision.\n",
    "2) **Workflow Decision Prompts:** This approach uses multiple prompts together to arrive at a decision approach. This breaks the problem down into smaller components and executes each component in sequence. The value is that each step can be optimized individually and each intermediate output is clearly available for analysis. This is ideal for sufficiently important decision problems.  "
   ]
  },
  {
   "cell_type": "markdown",
   "metadata": {},
   "source": [
    "#### Single Decision Prompt "
   ]
  },
  {
   "cell_type": "code",
   "execution_count": 5,
   "metadata": {
    "dotnet_interactive": {
     "language": "csharp"
    },
    "polyglot_notebook": {
     "kernelName": "csharp"
    }
   },
   "outputs": [
    {
     "name": "stdout",
     "output_type": "stream",
     "text": [
      "Certainly! Here’s how you could approach purchasing a new home using the selected decision frames from Edward de Bono’s Six Thinking Hats:\n",
      "\n",
      "**1. Black Hat (Critical Judgment):**  \n",
      "Approach: Carefully assess the risks, drawbacks, and potential issues with each property. Scrutinize factors such as structural problems, neighborhood safety, resale potential, hidden costs (maintenance, taxes, association fees), and market trends. Think about worst-case scenarios to ensure you are not overlooking potential pitfalls.\n",
      "\n",
      "**2. White Hat (Facts & Information):**  \n",
      "Approach: Gather all relevant information and data before making a decision. Research home prices in the area, recent sales, property history, school ratings, local amenities, and future urban development plans. Review financial aspects—loan options, interest rates, your credit score, and your budget. Make an evidence-based shortlist of homes.\n",
      "\n",
      "**3. Yellow Hat (Optimism & Benefits):**  \n",
      "Approach: Explore the positives of each property. Consider what could go well—such as investment appreciation, quality of life improvements, community perks, proximity to work or family, and features that fit your lifestyle. Envision how the new home could meet your needs and aspirations.\n",
      "\n",
      "By thoughtfully applying these approaches—critical judgment, factual analysis, and optimistic evaluation—you can arrive at a balanced, well-informed, and constructive decision about purchasing your new home."
     ]
    }
   ],
   "source": [
    "// Set the overall system prompt to behave like a Decision Intelligence assistant (persona)\n",
    "var systemPrompt = \"\"\"\n",
    "You are a Decision Intelligence assistant. \n",
    "Assist the user in exploring options, reasoning through decisions, problem-solving, and applying systems thinking to various scenarios. \n",
    "Provide structured, logical, and comprehensive advice.\n",
    "\"\"\";\n",
    "\n",
    "// Decision Frames Prompt that lists the six thinking hats approach to purchasing a house \n",
    "var decisionFramesListPrompt = \"\"\"\n",
    "You are planning on purchasing a new home. \n",
    "Use Edward de Bono's Six thinking hats on how to approach the decision-making process. \n",
    "\n",
    "Instructions:\n",
    "\n",
    "<Do Not Show these steps>\n",
    "INTERNALLY THINK about an approach for each of the six hats in the order of impact & influence from most to least. \n",
    "From the priorotized list INTERNALLY PROCESS which thinking hats (decision frames) to focus on. \n",
    "It can be one of the hats or any combination of the thinking hats. \n",
    "Let's call that internal list \"selected decision frames\"\n",
    "</Do Not Show these steps>\n",
    "\n",
    "Only output these steps to the user: \n",
    "Finally, from the internal \"selected decision frames\", create an approach for each for purchasing a house.  \n",
    "\"\"\";\n",
    "\n",
    "// Create a new chat history object with proper system and user message roles\n",
    "var chatHistory = new ChatHistory();\n",
    "chatHistory.AddSystemMessage(systemPrompt);\n",
    "chatHistory.AddUserMessage(decisionFramesListPrompt);\n",
    "\n",
    "var chatResponse = string.Empty;\n",
    "await foreach (var content in chatCompletionService.GetStreamingChatMessageContentsAsync(chatHistory))\n",
    "{\n",
    "    chatResponse += content;\n",
    "    Console.Write(content);\n",
    "}\n",
    "chatHistory.AddAssistantMessage(chatResponse);"
   ]
  }
 ],
 "metadata": {
  "kernelspec": {
   "display_name": ".NET (C#)",
   "language": "C#",
   "name": ".net-csharp"
  },
  "language_info": {
   "name": "polyglot-notebook"
  },
  "polyglot_notebook": {
   "kernelInfo": {
    "defaultKernelName": "csharp",
    "items": [
     {
      "aliases": [],
      "name": "csharp"
     }
    ]
   }
  }
 },
 "nbformat": 4,
 "nbformat_minor": 2
}
