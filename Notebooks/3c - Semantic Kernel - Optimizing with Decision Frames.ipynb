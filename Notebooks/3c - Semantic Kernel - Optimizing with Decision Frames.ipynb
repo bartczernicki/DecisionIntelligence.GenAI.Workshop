{
 "cells": [
  {
   "cell_type": "markdown",
   "metadata": {},
   "source": [
    "<img style=\"float: left;padding-right: 10px\" width =\"40px\" src=\"https://raw.githubusercontent.com/bartczernicki/DecisionIntelligence.GenAI.Workshop/main/Images/SemanticKernelLogo.png\">\n",
    "\n",
    "## Semantic Kernel - Optimizing with Decision Frames  "
   ]
  },
  {
   "cell_type": "markdown",
   "metadata": {},
   "source": [
    "Work in Progress "
   ]
  },
  {
   "cell_type": "markdown",
   "metadata": {},
   "source": [
    "### Step 1 - Initialize Configuration Builder & Build the Semantic Kernel Orchestration "
   ]
  },
  {
   "cell_type": "code",
   "execution_count": 1,
   "metadata": {
    "dotnet_interactive": {
     "language": "csharp"
    },
    "polyglot_notebook": {
     "kernelName": "csharp"
    },
    "vscode": {
     "languageId": "polyglot-notebook"
    }
   },
   "outputs": [
    {
     "data": {
      "text/html": [
       "<div><div></div><div></div><div><strong>Installed Packages</strong><ul><li><span>Microsoft.Extensions.Configuration, 9.0.0</span></li><li><span>Microsoft.Extensions.Configuration.Json, 9.0.0</span></li></ul></div></div>"
      ]
     },
     "metadata": {},
     "output_type": "display_data"
    }
   ],
   "source": [
    "// Import the required NuGet configuration packages\n",
    "#r \"nuget: Microsoft.Extensions.Configuration, 9.0.0\"\n",
    "#r \"nuget: Microsoft.Extensions.Configuration.Json, 9.0.0\"\n",
    "\n",
    "using Microsoft.Extensions.Configuration.Json;\n",
    "using Microsoft.Extensions.Configuration;\n",
    "using System.IO;\n",
    "\n",
    "// Load the configuration settings from the local.settings.json and secrets.settings.json files\n",
    "// The secrets.settings.json file is used to store sensitive information such as API keys\n",
    "var configurationBuilder = new ConfigurationBuilder()\n",
    "    .SetBasePath(Directory.GetCurrentDirectory())\n",
    "    .AddJsonFile(\"local.settings.json\", optional: true, reloadOnChange: true)\n",
    "    .AddJsonFile(\"secrets.settings.json\", optional: true, reloadOnChange: true);\n",
    "var config = configurationBuilder.Build();\n",
    "\n",
    "// IMPORTANT: You ONLY NEED either Azure OpenAI or OpenAI connectiopn info, not both.\n",
    "// Azure OpenAI Connection Info\n",
    "var azureOpenAIEndpoint = config[\"AzureOpenAI:Endpoint\"];\n",
    "var azureOpenAIAPIKey = config[\"AzureOpenAI:APIKey\"];\n",
    "var azureOpenAIModelDeploymentName = config[\"AzureOpenAI:ModelDeploymentName\"];\n",
    "// OpenAI Connection Info \n",
    "var openAIAPIKey = config[\"OpenAI:APIKey\"];\n",
    "var openAIModelId = config[\"OpenAI:ModelId\"];"
   ]
  },
  {
   "cell_type": "code",
   "execution_count": 2,
   "metadata": {
    "dotnet_interactive": {
     "language": "csharp"
    },
    "polyglot_notebook": {
     "kernelName": "csharp"
    },
    "vscode": {
     "languageId": "polyglot-notebook"
    }
   },
   "outputs": [
    {
     "data": {
      "text/html": [
       "<div><div></div><div></div><div><strong>Installed Packages</strong><ul><li><span>Microsoft.Extensions.DependencyInjection, 9.0.0</span></li><li><span>Microsoft.SemanticKernel, 1.39.0</span></li></ul></div></div>"
      ]
     },
     "metadata": {},
     "output_type": "display_data"
    },
    {
     "name": "stdout",
     "output_type": "stream",
     "text": [
      "Using Azure OpenAI Service\r\n"
     ]
    }
   ],
   "source": [
    "// Install the required NuGet packages\n",
    "// Note: This also installs the Dependency Injection Package to retrieve the ChatCompletionService\n",
    "#r \"nuget: Microsoft.Extensions.DependencyInjection, 9.0.0\"\n",
    "#r \"nuget: Microsoft.SemanticKernel, 1.39\"\n",
    "\n",
    "using Microsoft.Extensions.DependencyInjection.Extensions;\n",
    "using Microsoft.Extensions.DependencyInjection;\n",
    "using Microsoft.SemanticKernel;\n",
    "using Microsoft.SemanticKernel.ChatCompletion;\n",
    "using Microsoft.SemanticKernel.Connectors.OpenAI;\n",
    "\n",
    "Kernel semanticKernel;\n",
    "\n",
    "// Set the flag to use Azure OpenAI or OpenAI. False to use OpenAI, True to use Azure OpenAI\n",
    "var useAzureOpenAI = true;\n",
    "\n",
    "// Create a new Semantic Kernel instance\n",
    "if (useAzureOpenAI)\n",
    "{\n",
    "    Console.WriteLine(\"Using Azure OpenAI Service\");\n",
    "    semanticKernel = Kernel.CreateBuilder()\n",
    "        .AddAzureOpenAIChatCompletion(\n",
    "            deploymentName: azureOpenAIModelDeploymentName,\n",
    "            endpoint: azureOpenAIEndpoint,\n",
    "            apiKey: azureOpenAIAPIKey)\n",
    "        .Build();\n",
    "}\n",
    "else\n",
    "{\n",
    "    Console.WriteLine(\"Using OpenAI Service\");\n",
    "    semanticKernel = Kernel.CreateBuilder()\n",
    "        .AddOpenAIChatCompletion(\n",
    "            modelId: openAIModelId,\n",
    "            apiKey: openAIAPIKey)\n",
    "        .Build();\n",
    "}\n",
    "\n",
    "var chatCompletionService = semanticKernel.Services.GetRequiredService<IChatCompletionService>();"
   ]
  },
  {
   "cell_type": "markdown",
   "metadata": {},
   "source": [
    "### Step 2 - Decision Frames (Thinking Hats) Scenario for a Major Purchase "
   ]
  },
  {
   "cell_type": "markdown",
   "metadata": {},
   "source": [
    "The code below will list the potential decision frames (using thinking hats frames) that may be appropriate to form different approaches for purchasing a house. Generative AI can be used to easily \"put on a hat\" (approach a problem with a specific decision frame) much easier than a human decision maker.  "
   ]
  },
  {
   "cell_type": "code",
   "execution_count": 3,
   "metadata": {
    "dotnet_interactive": {
     "language": "csharp"
    },
    "polyglot_notebook": {
     "kernelName": "csharp"
    },
    "vscode": {
     "languageId": "polyglot-notebook"
    }
   },
   "outputs": [
    {
     "name": "stdout",
     "output_type": "stream",
     "text": [
      "Certainly! Edward de Bono's Six Thinking Hats methodology provides a structured approach to decision-making by breaking the process into six perspectives, each represented by a colored hat. Let’s apply the framework to the decision-making process of purchasing a new home:\n",
      "\n",
      "---\n",
      "\n",
      "### 1. **White Hat (Focus on Facts and Information)**  \n",
      "- **Approach**: Gather all available factual information related to buying a new home.  \n",
      "  - Make a list of essential data: preferred location, budget, square footage, property taxes, utility costs, and school districts.  \n",
      "  - Research real estate trends, mortgage interest rates, and financing options.  \n",
      "  - Analyze historical property values in the area to predict the home's future resale potential.  \n",
      "  - Work with a real estate agent for property listings and market insights.  \n",
      "  - Secure pre-approval for a mortgage to establish your purchasing power.  \n",
      "\n",
      "**Key Questions**:  \n",
      "- What is my overall budget for the purchase?  \n",
      "- What specific features (number of bedrooms, amenities, proximity to work) do I need?  \n",
      "- What additional costs (closing fees, maintenance, renovations) should I account for?\n",
      "\n",
      "---\n",
      "\n",
      "### 2. **Red Hat (Focus on Emotions and Intuition)**  \n",
      "- **Approach**: Engage with your emotional responses and gut feelings about the decision.  \n",
      "  - Visit potential homes and visualize yourself living in them. Evaluate how they make you feel.  \n",
      "  - Reflect on whether the location, layout, or atmosphere resonates with your lifestyle preferences.  \n",
      "  - Identify any emotional attachments or gut reactions—positive or negative—when thinking about your choices.  \n",
      "  - Gauge whether the decision aligns with your personal values (e.g., a quiet suburb vs. a bustling city).  \n",
      "\n",
      "**Key Questions**:  \n",
      "- Does this home feel like the right place to live?  \n",
      "- How does the neighborhood make me feel?  \n",
      "- Is this a decision I’ll feel happy and settled with in the long term?\n",
      "\n",
      "---\n",
      "\n",
      "### 3. **Yellow Hat (Focus on Positive Potential and Benefits)**  \n",
      "- **Approach**: Look for the advantages and opportunities of the purchase.  \n",
      "  - Identify the benefits this new home will bring (e.g., more space, better location, improved quality of life).  \n",
      "  - Consider any financial upsides, such as property appreciation potential or energy-efficient features that lower costs.  \n",
      "  - Review how this decision will positively impact your family, career, or personal goals.  \n",
      "  - Contemplate the practical and emotional benefits of homeownership (e.g., stability, security, pride).  \n",
      "\n",
      "**Key Questions**:  \n",
      "- In what ways will buying this home improve my life?  \n",
      "- Are there any long-term benefits that make this choice a strong investment?  \n",
      "- What unique positives does this home offer compared to others?\n",
      "\n",
      "---\n",
      "\n",
      "### 4. **Black Hat (Focus on Risks and Caution)**  \n",
      "- **Approach**: Identify potential pitfalls or challenges associated with the purchase.  \n",
      "  - Assess financial risks: Is the cost manageable, and could market changes impact affordability?  \n",
      "  - Inspect the property for potential issues (e.g., structural problems, outdated HVAC systems).  \n",
      "  - Evaluate the neighborhood for potential drawbacks (e.g., future development that might lower property value).  \n",
      "  - Consider the long-term consequences of being locked into a mortgage if unexpected life events occur.  \n",
      "\n",
      "**Key Questions**:  \n",
      "- Are there any hidden costs or risks associated with this home?  \n",
      "- What if the property value decreases in the future?  \n",
      "- Can I afford this home even if unexpected expenses arise?  \n",
      "\n",
      "---\n",
      "\n",
      "### 5. **Green Hat (Focus on Creativity and Alternatives)**  \n",
      "- **Approach**: Explore alternative options and think creatively about solutions.  \n",
      "  - Brainstorm nontraditional ways to meet your housing needs, such as looking at less-conventional neighborhoods, fixer-uppers, or homes with rental income potential.  \n",
      "  - Consider creative financing or shared ownership if affordability is a concern.  \n",
      "  - Investigate timing—would waiting several months to buy be more advantageous?  \n",
      "  - Explore different ways to customize or renovate a potential property to better meet your needs.  \n",
      "\n",
      "**Key Questions**:  \n",
      "- Are there unconventional neighborhoods that could work for me?  \n",
      "- Could I choose a smaller or less expensive home and expand later?  \n",
      "- How might I improve an otherwise imperfect home to make it ideal?\n",
      "\n",
      "---\n",
      "\n",
      "### 6. **Blue Hat (Focus on Process and Big Picture Thinking)**  \n",
      "- **Approach**: Manage the overall decision-making process and ensure balance between the hats.  \n",
      "  - Step back and set a clear plan for how you’ll decide, including timelines and milestones (e.g., make a decision within three months).  \n",
      "  - Revisit each hat’s perspective periodically to ensure no critical aspect has been overlooked.  \n",
      "  - Synthesize your findings into an actionable list of pros, cons, and priorities.  \n",
      "  - Define your ultimate goal (e.g., financial investment, lifestyle upgrade, community focus) to ensure clarity of purpose.  \n",
      "\n",
      "**Key Questions**:  \n",
      "- Do I have all the information I need to proceed?  \n",
      "- Have I sufficiently balanced emotional impressions with analytical reasoning?  \n",
      "- Does this decision align with my ultimate goals and values?\n",
      "\n",
      "---\n",
      "\n",
      "### Final Note:  \n",
      "By applying every hat systematically, you ensure the decision is robust and well-rounded. Start by gathering facts (White), check your emotions (Red), weigh the benefits (Yellow), assess risks (Black), think outside the box (Green), and use the Blue hat to guide the process and finalize the decision."
     ]
    }
   ],
   "source": [
    "// Set the overall system prompt to behave like a decision intelligence assistant (persona)\n",
    "var systemPrompt = \"\"\"\n",
    "You are a decision intelligence assistant. \n",
    "Assist the user in exploring options, reasoning through decisions, problem-solving, and applying systems thinking to various scenarios. \n",
    "Provide structured, logical, and comprehensive advice.\n",
    "\"\"\";\n",
    "\n",
    "// Decision Frames Prompt that lists the six thinking hats approach to purchasing a house \n",
    "var decisionFramesPrompt = \"\"\"\n",
    "You are planning on purchasing a new home. \n",
    "Use Edward de Bono's Six thinking hats on how to approach the decision-making process. \n",
    "\n",
    "Instructions: \n",
    "List an approach for each of the six hats. \n",
    "\"\"\";\n",
    "\n",
    "// Create a new chat history object with proper system and user message roles\n",
    "var chatHistory = new ChatHistory();\n",
    "chatHistory.AddSystemMessage(systemPrompt);\n",
    "chatHistory.AddUserMessage(decisionFramesPrompt);\n",
    "\n",
    "var chatResponse = string.Empty;\n",
    "await foreach (var content in chatCompletionService.GetStreamingChatMessageContentsAsync(chatHistory))\n",
    "{\n",
    "    chatResponse += content;\n",
    "    Console.Write(content);\n",
    "}\n",
    "chatHistory.AddAssistantMessage(chatResponse);"
   ]
  },
  {
   "cell_type": "markdown",
   "metadata": {},
   "source": [
    "This can be enhanced further by having GenAI suggest which of the decision frames might be the most useful for a high-stakes decision. Therefore, the prompt above can be optimized further by listing all the decision frames and then priorotizing which ones will have the most impact and influence on the house purchase decision.  \n",
    "\n",
    "This allows the Artificial Intelligence automation to focus on the optimization of the decision process and the human on the actual decision selection and execution!"
   ]
  },
  {
   "cell_type": "code",
   "execution_count": 4,
   "metadata": {
    "dotnet_interactive": {
     "language": "csharp"
    },
    "polyglot_notebook": {
     "kernelName": "csharp"
    },
    "vscode": {
     "languageId": "polyglot-notebook"
    }
   },
   "outputs": [
    {
     "name": "stdout",
     "output_type": "stream",
     "text": [
      "Using Edward de Bono's *Six Thinking Hats* method to approach the decision of purchasing a new home will ensure that you consider the decision from multiple perspectives. Here, we'll rank the thinking hats in order of impact and influence specific to this type of decision and recommend which hats to focus on for a balanced and informed choice.\n",
      "\n",
      "---\n",
      "\n",
      "### **Prioritized Order & Approaches**\n",
      "\n",
      "#### 1. **White Hat (Facts and Information)**  \n",
      "   **Impact/Influence:** Highest  \n",
      "   **Approach:**  \n",
      "   - Assess measurable data, such as the budget, mortgage rates, property prices, taxes, neighborhood amenities, school district quality, and commute times.  \n",
      "   - Gather information on resale trends and market growth in the area.  \n",
      "   - Create a list of non-negotiables with objective data (number of bedrooms, square footage, etc.).  \n",
      "   - Review the inspection report for the home to understand its condition and future maintenance costs.  \n",
      "\n",
      "---\n",
      "\n",
      "#### 2. **Yellow Hat (Optimism and Benefits)**  \n",
      "   **Impact/Influence:** High  \n",
      "   **Approach:**  \n",
      "   - Explore why purchasing this home is a good decision and what opportunities it creates.  \n",
      "   - Visualize the lifestyle the new home will enable you to have (space for family growth, better location, proximity to work/community).  \n",
      "   - Identify long-term financial benefits, e.g., equity building, appreciation potential, or rental income prospects for empty units/space.  \n",
      "   - Consider how the home aligns with your life goals and aspirations.\n",
      "\n",
      "---\n",
      "\n",
      "#### 3. **Black Hat (Caution and Risk Assessment)**  \n",
      "   **Impact/Influence:** Moderate to High  \n",
      "   **Approach:**  \n",
      "   - Evaluate risks such as overextending financially, housing market instability, costly repairs/upgrades, or hidden property issues.  \n",
      "   - Think through worst-case scenarios, e.g., job loss impacting mortgage payments or unexpected maintenance challenges.  \n",
      "   - Assess resale risks if you need to sell the home within a few years.  \n",
      "   - Analyze potential downsides of the location (e.g., rising crime rates, local environmental risks, or poor infrastructure).  \n",
      "\n",
      "---\n",
      "\n",
      "#### 4. **Red Hat (Feelings and Intuition)**  \n",
      "   **Impact/Influence:** Moderate  \n",
      "   **Approach:**  \n",
      "   - Reflect on your emotional response to the property. Does it feel like “home”?  \n",
      "   - Pay attention to any gut feelings—are you feeling uneasy or overly attached?  \n",
      "   - Explore how the environment makes you and your family feel (safe, happy, peaceful, inspired, etc.).  \n",
      "   - Involve family or significant others in the decision process and discuss how they feel about the home.  \n",
      "\n",
      "---\n",
      "\n",
      "#### 5. **Green Hat (Creativity and Alternatives)**  \n",
      "   **Impact/Influence:** Moderate to Low  \n",
      "   **Approach:**  \n",
      "   - Brainstorm potential ways to improve this home, such as renovations, extensions, or landscaping.  \n",
      "   - Consider creative financing methods (e.g., co-buying with family or opting for a fixer-upper).  \n",
      "   - Explore alternative properties or neighborhood options if this one has drawbacks.  \n",
      "   - Think of how you can personalize the home to suit your unique needs.  \n",
      "\n",
      "---\n",
      "\n",
      "#### 6. **Blue Hat (Process and Control)**  \n",
      "   **Impact/Influence:** Lowest (but still necessary for organizing your decision process)  \n",
      "   **Approach:**  \n",
      "   - Establish a disciplined approach to decision-making by setting steps (first research, then visit properties, then decision analysis).  \n",
      "   - Set deadlines for action items (e.g., budget planning, mortgage pre-approval).  \n",
      "   - Use the Blue Hat to oversee switching between the other hats, ensuring balance and that no perspective is overlooked.\n",
      "   - Summarize your findings from all hats and decide on the next steps.  \n",
      "\n",
      "---\n",
      "\n",
      "### **Key Thinking Hats to Focus On**  \n",
      "Based on the prioritization above, focus on combining the **White Hat, Yellow Hat,** and **Black Hat** perspectives. Together, these frames provide a balance of **facts**, **optimism**, and **caution**, ensuring that both the practical and emotional aspects are adequately considered.\n",
      "\n",
      "However, do not overlook the other three hats:  \n",
      "- Use the **Red Hat** to validate your emotional connection to the property, which may signal alignment with long-term satisfaction.  \n",
      "- Apply the **Green Hat** if you're considering alternatives or creative solutions to make a property work for you.  \n",
      "- Use the **Blue Hat** at the beginning and end of the process to guide your analysis and create structure in your decision-making.  \n",
      "\n",
      "### **Recommended Combination:**  \n",
      "- **Priority Focus:** **White Hat (information-driven) + Yellow Hat (opportunity-driven) + Black Hat (risk-driven).**\n",
      "\n",
      "These three hats will help you navigate the practical and logical complexities of buying a home while accounting for optimism and caution. Then, validate with the Red Hat and brainstorm with the Green Hat if needed. Use the Blue Hat to manage the process throughout."
     ]
    }
   ],
   "source": [
    "// Set the overall system prompt to behave like a decision intelligence assistant (persona)\n",
    "var systemPrompt = \"\"\"\n",
    "You are a decision intelligence assistant. \n",
    "Assist the user in exploring options, reasoning through decisions, problem-solving, and applying systems thinking to various scenarios. \n",
    "Provide structured, logical, and comprehensive advice.\n",
    "\"\"\";\n",
    "\n",
    "// Decision Frames Prompt that lists the six thinking hats approach to purchasing a house \n",
    "var decisionFramesListPrompt = \"\"\"\n",
    "You are planning on purchasing a new home. \n",
    "Use Edward de Bono's Six thinking hats on how to approach the decision-making process. \n",
    "\n",
    "Instructions:\n",
    "List an approach for each of the six hats in the order of impact & influence from most to least. \n",
    "From the priorotized list suggest which thinking hats (decision frames) to focus on. \n",
    "It can be one of the hats or any combination of the thinking hats. \n",
    "\"\"\";\n",
    "\n",
    "// Create a new chat history object with proper system and user message roles\n",
    "var chatHistory = new ChatHistory();\n",
    "chatHistory.AddSystemMessage(systemPrompt);\n",
    "chatHistory.AddUserMessage(decisionFramesListPrompt);\n",
    "\n",
    "var chatResponse = string.Empty;\n",
    "await foreach (var content in chatCompletionService.GetStreamingChatMessageContentsAsync(chatHistory))\n",
    "{\n",
    "    chatResponse += content;\n",
    "    Console.Write(content);\n",
    "}\n",
    "chatHistory.AddAssistantMessage(chatResponse);"
   ]
  },
  {
   "cell_type": "markdown",
   "metadata": {},
   "source": [
    "So far, (given the house purchase decision) Generative AI has helped create decision frames with the six thinking hats framework, rank them from most impact & influence from most to least and select the top 3 decision frames. The next logical step is to leverage Generative AI to apply the selected 3 decision frames for the house purchase decision.  \n",
    "\n",
    "This can be done in two different ways:  \n",
    "1) **Single Decision Prompt:** Instruct (prompt) the GenAI model \"think internally\" on the decision frames, ranking, selecting the top decision frames and then finally output the applied decision frames for the house purchase decision.\n",
    "2) **Workflow Decision Prompts:** This approach uses multiple prompts together to arrive at a decision approach. This breaks the problem down into smaller components and executes each component in sequence. The value is that each step can be optimized individually and each intermediate output is clearly available for analysis. This is ideal for sufficiently important decision problems.  "
   ]
  },
  {
   "cell_type": "markdown",
   "metadata": {},
   "source": [
    "#### Single Decision Prompt "
   ]
  },
  {
   "cell_type": "code",
   "execution_count": 5,
   "metadata": {
    "dotnet_interactive": {
     "language": "csharp"
    },
    "polyglot_notebook": {
     "kernelName": "csharp"
    },
    "vscode": {
     "languageId": "polyglot-notebook"
    }
   },
   "outputs": [
    {
     "name": "stdout",
     "output_type": "stream",
     "text": [
      "Here is an approach for purchasing a house based on the \"selected decision frames\":\n",
      "\n",
      "### 1. **White Hat (Focusing on Facts and Information):**\n",
      "   - **Approach:** Collect all the necessary data required for this decision. Research the housing market, neighborhood statistics (crime rate, schools, proximity to work), property prices, interest rates for mortgage loans, and property tax rates. Make a firm budget and clarify your credit score status. Create a checklist of critical features such as house size, number of rooms, type of property, and amenities. Ensure you have all this factual information to make an informed choice.\n",
      "\n",
      "### 2. **Yellow Hat (Focusing on Positive Aspects):**\n",
      "   - **Approach:** Outline all the potential benefits of investing in a new home. Think about how this home might meet your long-term goals, such as financial security, family comfort, or living in a desired location. Consider how purchasing a home aligns with your dream lifestyle. Imagine the value this house might appreciate over time, the joy it could bring, and the stability it provides. Focus on the positives that will make this decision feel like a rewarding investment.\n",
      "\n",
      "### 3. **Black Hat (Identifying Risks and Downsides):**\n",
      "   - **Approach:** List all the potential risks or challenges. Can you afford the house in the long run if unforeseen financial burdens occur? Are there hidden costs like maintenance, insurance, or renovations? What if property values decline in the area? Are there risks of buying in a flood-prone/earthquake-prone area? Will your lifestyle requirements change (e.g., growing family) such that this property may no longer suit you? Use this frame to mitigate risks by including contingencies in the plan.\n",
      "\n",
      "### 4. **Green Hat (Focusing on Creativity and Alternatives):**\n",
      "   - **Approach:** Think creatively about your options. Could you explore alternatives like renting to own, looking for fixer-uppers to customize, or waiting for better market conditions? Could you consider homes with features that are not currently on your list but might add value later (e.g., an extra room that could be rented out or converted to an office)? This frame allows you to generate ideas beyond just the obvious.\n",
      "\n",
      "### 5. **Red Hat (Considering Emotions and Gut Feelings):**\n",
      "   - **Approach:** Reflect on how you feel during the house tours or when thinking of making this big decision. Are you genuinely excited about a house, or do you have nagging doubts about any? Do you feel any emotional attachment to a particular neighborhood or home? Be honest about your instincts and how the decision aligns with your emotional well-being and values.\n",
      "\n",
      "### 6. **Blue Hat (Focusing on Process and Control):**\n",
      "   - **Approach:** Define the steps for this decision structurally. Decide who will handle specific tasks—will you work with a real estate agent, financial advisor, or legal expert? Set timelines, create a decision matrix, and prioritize clear checkpoints (e.g., identifying top neighborhoods, calculating affordability, finalizing mortgage pre-approval). Use this structured thinking to remain in control of the process and ensure all the elements are aligned as you move toward a final decision."
     ]
    }
   ],
   "source": [
    "// Set the overall system prompt to behave like a Decision Intelligence assistant (persona)\n",
    "var systemPrompt = \"\"\"\n",
    "You are a Decision Intelligence assistant. \n",
    "Assist the user in exploring options, reasoning through decisions, problem-solving, and applying systems thinking to various scenarios. \n",
    "Provide structured, logical, and comprehensive advice.\n",
    "\"\"\";\n",
    "\n",
    "// Decision Frames Prompt that lists the six thinking hats approach to purchasing a house \n",
    "var decisionFramesListPrompt = \"\"\"\n",
    "You are planning on purchasing a new home. \n",
    "Use Edward de Bono's Six thinking hats on how to approach the decision-making process. \n",
    "\n",
    "Instructions:\n",
    "\n",
    "<Do Not Show these steps>\n",
    "INTERNALLY THINK about an approach for each of the six hats in the order of impact & influence from most to least. \n",
    "From the priorotized list INTERNALLY PROCESS which thinking hats (decision frames) to focus on. \n",
    "It can be one of the hats or any combination of the thinking hats. \n",
    "Let's call that internal list \"selected decision frames\"\n",
    "</Do Not Show these steps>\n",
    "\n",
    "Only output these steps to the user: \n",
    "Finally, from the internal \"selected decision frames\", create an approach for each for purchasing a house.  \n",
    "\"\"\";\n",
    "\n",
    "// Create a new chat history object with proper system and user message roles\n",
    "var chatHistory = new ChatHistory();\n",
    "chatHistory.AddSystemMessage(systemPrompt);\n",
    "chatHistory.AddUserMessage(decisionFramesListPrompt);\n",
    "\n",
    "var chatResponse = string.Empty;\n",
    "await foreach (var content in chatCompletionService.GetStreamingChatMessageContentsAsync(chatHistory))\n",
    "{\n",
    "    chatResponse += content;\n",
    "    Console.Write(content);\n",
    "}\n",
    "chatHistory.AddAssistantMessage(chatResponse);"
   ]
  }
 ],
 "metadata": {
  "kernelspec": {
   "display_name": ".NET (C#)",
   "language": "C#",
   "name": ".net-csharp"
  },
  "language_info": {
   "name": "python"
  },
  "polyglot_notebook": {
   "kernelInfo": {
    "defaultKernelName": "csharp",
    "items": [
     {
      "aliases": [],
      "name": "csharp"
     }
    ]
   }
  }
 },
 "nbformat": 4,
 "nbformat_minor": 2
}
