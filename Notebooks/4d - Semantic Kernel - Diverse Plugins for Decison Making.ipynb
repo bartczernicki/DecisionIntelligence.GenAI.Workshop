{
 "cells": [
  {
   "cell_type": "markdown",
   "metadata": {},
   "source": [
    "<img style=\"float: left;padding-right: 10px\" width =\"40px\" src=\"https://raw.githubusercontent.com/bartczernicki/DecisionIntelligence.GenAI.Workshop/main/Images/SemanticKernelLogo.png\">\n",
    "\n",
    "## Semantic Kernel - Diverse Plugins for Decison Making"
   ]
  },
  {
   "cell_type": "markdown",
   "metadata": {},
   "source": [
    "Decision Intelligence applied in this module:  \n",
    "* Using the power of Collective Intelligence (wisdom & information from multiple experts) \n",
    "* Using data statistics & analytics as source information for a decision   \n",
    "* Using Probability as a quantitative approach to validate decisions with Machine Learning  "
   ]
  },
  {
   "cell_type": "markdown",
   "metadata": {},
   "source": [
    "> \"Probability is the language of uncertainty, and it's the only language we have for communicating what we know and don't know.\"\n",
    ">\n",
    "> -- <cite>Nate Silver (famous statistician and super-forecaster)</cite> "
   ]
  },
  {
   "cell_type": "markdown",
   "metadata": {},
   "source": [
    "### Step 1 - Initialize Configuration Builder & Build the Semantic Kernel Orchestration\n",
    "\n",
    "Execute the next two cells to:\n",
    "* Use the Configuration Builder to load the API secrets\n",
    "* Use the API configuration to build the Semantic Kernel orchestrator\n",
    "* The configuration builder will retrieve the Bing Search API Key"
   ]
  },
  {
   "cell_type": "code",
   "execution_count": 1,
   "metadata": {
    "dotnet_interactive": {
     "language": "csharp"
    },
    "polyglot_notebook": {
     "kernelName": "csharp"
    },
    "vscode": {
     "languageId": "polyglot-notebook"
    }
   },
   "outputs": [
    {
     "data": {
      "text/html": [
       "<div><div></div><div></div><div><strong>Installed Packages</strong><ul><li><span>Microsoft.Bing.Search.WebSearch, 1.0.0</span></li><li><span>Microsoft.Extensions.Configuration, 9.0.0</span></li><li><span>Microsoft.Extensions.Configuration.Json, 9.0.0</span></li><li><span>Microsoft.Extensions.ML, 4.0.0</span></li><li><span>Microsoft.ML, 4.0.0</span></li><li><span>Microsoft.ML.FastTree, 4.0.0</span></li><li><span>Microsoft.SemanticKernel, 1.33.0</span></li><li><span>Microsoft.SemanticKernel.Plugins.Core, 1.33.0-alpha</span></li><li><span>Microsoft.SemanticKernel.Plugins.Web, 1.33.0-alpha</span></li></ul></div></div>"
      ]
     },
     "metadata": {},
     "output_type": "display_data"
    }
   ],
   "source": [
    "#r \"nuget: Microsoft.Extensions.Configuration, 9.0.0\"\n",
    "#r \"nuget: Microsoft.Extensions.Configuration.Json, 9.0.0\"\n",
    "#r \"nuget: Microsoft.SemanticKernel, 1.33.0\"\n",
    "#r \"nuget: Microsoft.SemanticKernel.Plugins.Core, 1.33.0-alpha\"\n",
    "#r \"nuget: Microsoft.SemanticKernel.Plugins.Web, 1.33.0-alpha\"\n",
    "#r \"nuget: Microsoft.Bing.Search.WebSearch, 1.0.0\"\n",
    "#r \"nuget: Microsoft.ML, 4.0.0\"\n",
    "#r \"nuget: Microsoft.ML.FastTree, 4.0.0\"\n",
    "#r \"nuget: Microsoft.Extensions.ML, 4.0.0\"\n",
    "\n",
    "using Microsoft.Extensions.Configuration;\n",
    "using Microsoft.SemanticKernel;\n",
    "using Microsoft.SemanticKernel.ChatCompletion;\n",
    "using Microsoft.SemanticKernel.Connectors.OpenAI;\n",
    "using Microsoft.Bing.WebSearch;\n",
    "using System.ComponentModel;\n",
    "using System.IO;\n",
    "\n",
    "var configurationBuilder = new ConfigurationBuilder()\n",
    "    .SetBasePath(Directory.GetCurrentDirectory())\n",
    "    .AddJsonFile(\"local.settings.json\", optional: true, reloadOnChange: true)\n",
    "    .AddJsonFile(\"secrets.settings.json\", optional: true, reloadOnChange: true);\n",
    "var config = configurationBuilder.Build();\n",
    "\n",
    "// IMPORTANT: You ONLY NEED either Azure OpenAI or OpenAI connectiopn info, not both.\n",
    "// Azure OpenAI Connection Info\n",
    "var azureOpenAIEndpoint = config[\"AzureOpenAI:Endpoint\"];\n",
    "var azureOpenAIAPIKey = config[\"AzureOpenAI:APIKey\"];\n",
    "var azureOpenAIModelDeploymentName = config[\"AzureOpenAI:ModelDeploymentName\"];\n",
    "// OpenAI Connection Info \n",
    "var openAIAPIKey = config[\"OpenAI:APIKey\"];\n",
    "var openAIModelId = config[\"OpenAI:ModelId\"];"
   ]
  },
  {
   "cell_type": "code",
   "execution_count": 2,
   "metadata": {
    "dotnet_interactive": {
     "language": "csharp"
    },
    "polyglot_notebook": {
     "kernelName": "csharp"
    },
    "vscode": {
     "languageId": "polyglot-notebook"
    }
   },
   "outputs": [
    {
     "name": "stdout",
     "output_type": "stream",
     "text": [
      "Using Azure OpenAI Service\r\n"
     ]
    }
   ],
   "source": [
    "Kernel semanticKernel;\n",
    "\n",
    "// Set the flag to use Azure OpenAI or OpenAI. False to use OpenAI, True to use Azure OpenAI\n",
    "var useAzureOpenAI = true;\n",
    "\n",
    "// Create a new Semantic Kernel instance\n",
    "if (useAzureOpenAI)\n",
    "{\n",
    "    Console.WriteLine(\"Using Azure OpenAI Service\");\n",
    "    semanticKernel = Kernel.CreateBuilder()\n",
    "        .AddAzureOpenAIChatCompletion(\n",
    "            deploymentName: azureOpenAIModelDeploymentName,\n",
    "            endpoint: azureOpenAIEndpoint,\n",
    "            apiKey: azureOpenAIAPIKey)\n",
    "        .Build();\n",
    "}\n",
    "else\n",
    "{\n",
    "    Console.WriteLine(\"Using OpenAI Service\");\n",
    "    semanticKernel = Kernel.CreateBuilder()\n",
    "        .AddOpenAIChatCompletion(\n",
    "            modelId: openAIModelId,\n",
    "            apiKey: openAIAPIKey)\n",
    "        .Build();\n",
    "}\n",
    "\n",
    "// Import the BaseballHallOfFamePlugin.cs file\n",
    "#!import ../Classes/BaseballHallOfFamePlugin.cs\n",
    "\n",
    "// Add the native plugin with the three native functions to the semantic kernel\n",
    "semanticKernel.ImportPluginFromType<BaseballHallOfFamePlugin>();"
   ]
  },
  {
   "cell_type": "markdown",
   "metadata": {},
   "source": [
    "### Step 2 - Introduce Sports Decision Scenario \n",
    "\n",
    "<img width =\"1024x\" src=\"https://raw.githubusercontent.com/bartczernicki/DecisionIntelligence.GenAI.Workshop/main/Images/SportsDecisionScenario.png\">"
   ]
  },
  {
   "cell_type": "markdown",
   "metadata": {},
   "source": [
    "### Step 3 - Background Information"
   ]
  },
  {
   "cell_type": "markdown",
   "metadata": {},
   "source": [
    "Execute the cell below to understand what type of collective information will be used to help the GenAI model make the decsion. In addition to the internet (knowledge graph) shown in previous modules, historical baseball statistic and Machine Learning models exposing a quantitative probability are available.  "
   ]
  },
  {
   "cell_type": "code",
   "execution_count": 3,
   "metadata": {
    "dotnet_interactive": {
     "language": "csharp"
    },
    "polyglot_notebook": {
     "kernelName": "csharp"
    },
    "vscode": {
     "languageId": "polyglot-notebook"
    }
   },
   "outputs": [
    {
     "name": "stdout",
     "output_type": "stream",
     "text": [
      "Mike Trout Stats From Historical Data (end of 2023 season):\n",
      "FullPlayerName:Mike Trout, YearPlayed:13, AB:5402\n",
      "        R:1106, H:1624, Doubles:310, Triples:52, HR:368, RBI:940, SB:206,\n",
      "        BattingAvg:0.301, Slg:0.582, AllStar:11,\n",
      "        TB:3142, LastYearPlayed:2023, ID:troutmi01\n",
      "--------------------\n",
      "Mike Trout Probabibitiy of being inducted to Hall Of Fame From ML Model:\n",
      "94.55%\n"
     ]
    }
   ],
   "source": [
    "// Background Information on what is happening & components\n",
    "\n",
    "// 1) Directory of the historical baseball data statistics\n",
    "string filePathMLBBaseballBatters = Directory.GetParent(Directory.GetCurrentDirectory()) + \"/Data/MLBBaseballBattersPositionPlayers.csv\";\n",
    "// Read the batters data from the CSV file\n",
    "var batters = File.ReadAllLines(filePathMLBBaseballBatters)\n",
    "                        .Skip(1)\n",
    "                        .Select(v => MLBBaseballBatter.FromCsv(v))\n",
    "                        .ToList();\n",
    "\n",
    "// 2) A custom decision rules engine crafted by a Machine Learning model\n",
    "// Machine Learing Model and Prediction Engine                       \n",
    "string modelPath = Directory.GetParent(Directory.GetCurrentDirectory()) + \"/Models/InductedToHoF-GeneralizedAdditiveModels.mlnet\";\n",
    "var mlContext = new MLContext(seed: 100);\n",
    "ITransformer loadedModel;\n",
    "DataViewSchema schema;\n",
    "\n",
    "using (var stream = File.OpenRead(modelPath))\n",
    "{\n",
    "    loadedModel = mlContext.Model.Load(stream, out schema);\n",
    "}\n",
    "TransformerChain<ITransformer> transfomerChain = (TransformerChain<ITransformer>)loadedModel;\n",
    "\n",
    "var predEngineInductedToHallOfFame = mlContext.Model.CreatePredictionEngine<MLBBaseballBatter, MLBHOFPrediction>(transfomerChain);\n",
    "\n",
    "// 3) Predict if Mike Trout will be inducted to the Hall of Fame\n",
    "var mikeTroutStats = batters.Where(b => b.FullPlayerName == \"Mike Trout\").FirstOrDefault();\n",
    "Console.WriteLine(\"Mike Trout Stats From Historical Data (end of 2023 season):\");\n",
    "Console.WriteLine(mikeTroutStats.ToString());\n",
    "var prediction = predEngineInductedToHallOfFame.Predict(mikeTroutStats);\n",
    "Console.WriteLine(\"--------------------\");\n",
    "Console.WriteLine(\"Mike Trout Probabibitiy of being inducted to Hall Of Fame From ML Model:\");\n",
    "Console.WriteLine($\"{prediction.Probability:P2}\");"
   ]
  },
  {
   "cell_type": "markdown",
   "metadata": {},
   "source": [
    "### Step 4 - Hall of Fame Decision - Only using Web Search Results "
   ]
  },
  {
   "cell_type": "markdown",
   "metadata": {},
   "source": [
    "Execute the cell below to have GenAI perform a decision recommendation on whether Mike Trout should make the baseball Hall Of Fame using current internet information only.\n",
    "\n",
    "**Notice the instruction in the prompt is to only use the web search results.** While there might be multiple functions available to the GenAI model via the imported plugin, the prompt instruction is to use only the single \"tool\" at it's disposal. Therefore, historical baseball statistics and the Machine Learning model probabilities will not be used.  \n",
    "\n",
    "After executing the code below, notice that the GenAI model has gathered intelligence using Bing. This intelligence about Mike Trout's baseball hall of fame candidacy is provides additional intelligence context. Finally, the LLM provides the information it has gathered, cites its sources and arrives at a decision (conclusion)."
   ]
  },
  {
   "cell_type": "code",
   "execution_count": 4,
   "metadata": {
    "dotnet_interactive": {
     "language": "csharp"
    },
    "polyglot_notebook": {
     "kernelName": "csharp"
    },
    "vscode": {
     "languageId": "polyglot-notebook"
    }
   },
   "outputs": [
    {
     "name": "stdout",
     "output_type": "stream",
     "text": [
      "Based on the web search results, here is an analysis of whether Mike Trout should be inducted into the Baseball Hall of Fame:\n",
      "\n",
      "### Key Considerations for Mike Trout's Hall of Fame Candidacy:\n",
      "\n",
      "1. **Exceptional Career Performance**:\n",
      "   - Mike Trout has consistently been one of the most dominant players in baseball. He has accumulated an impressive Wins Above Replacement (WAR) of 85.7, placing him among the all-time greats. According to MLB.com, Trout is frequently mentioned as a surefire future Hall of Famer due to his remarkable career achievements [1].\n",
      "   - Fangraphs emphasizes that Trout is already \"fully qualified\" for the Hall of Fame, citing his consistent excellence and the legacy he has built in his career so far [2].\n",
      "\n",
      "2. **Injuries and Missed Games**:\n",
      "   - While Trout's career has been extraordinary, injuries in recent years have limited his playing time. For instance, he has failed to play more than 140 games in a season since 2016 (except for one season where he played exactly 140 games). These injuries are a concern when considering his long-term legacy [5][7].\n",
      "   - Despite these issues, Trout's peak performance and overall contribution to the game still outweigh the impact of his injuries [7].\n",
      "\n",
      "3. **Historical Context and Comparisons**:\n",
      "   - Other players with similar or even lesser career accomplishments have been inducted into the Hall of Fame. Trout's achievements, including multiple MVP awards and All-Star appearances, put him in an elite category of players [4][8].\n",
      "\n",
      "4. **Age and Future Contributions**:\n",
      "   - At 30 years old, Trout still has time to add to his already stellar career, provided he can stay healthy. Even if he retired today, his body of work would likely be enough to secure a spot in Cooperstown [4][8].\n",
      "\n",
      "### Conclusion:\n",
      "Mike Trout's career achievements, including his high WAR, MVP awards, and consistent dominance, make him a strong candidate for the Hall of Fame. While injuries have slightly dented his legacy, they are not enough to overshadow his significant contributions to baseball.\n",
      "\n",
      "### Sources:\n",
      "1. [Future Hall of Famers who will play in 2025 - MLB.com](https://www.mlb.com/news/future-hall-of-famers-who-will-play-in-2025)\n",
      "2. [Mike Trout Is Now Fully Qualified for the Hall of Fame - Fangraphs](https://blogs.fangraphs.com/mike-trout-is-now-fully-qualified-for-the-hall-of-fame)\n",
      "3. [Will another lost season for Mike Trout impact Hall of Fame candidacy - LA Times](https://www.latimes.com/sports/story/2024-08-01/mike-trout-out-for-season-meniscus-tear-hof-chances)\n",
      "4. [Mike Trout, now 30, already a future Hall of Famer - Cooperstown Cred](https://www.cooperstowncred.com/mike-trout-now-30-already-a-future-hall-of-famer)\n",
      "5. [Mike Trout's injuries are carving into Hall of Fame legacy - CBS Sports](https://www.cbssports.com/mlb/news/mike-trouts-injuries-are-carving-into-hall-of-fame-legacy-where-angels-slugger-stacks-up-against-greats)\n",
      "6. [Mike Trout among MLB stars age 30 and over with Hall of Fame shot - Sports Illustrated](https://www.si.com/mlb/2023/01/19/hall-of-fame-candidates-30-and-older)\n",
      "\n",
      "Based on the evidence, I would recommend that Mike Trout be inducted into the Hall of Fame."
     ]
    }
   ],
   "source": [
    "// Use WebSearch to find information on Mike Trout\n",
    "\n",
    "var openAIPromptExecutionSettings = new OpenAIPromptExecutionSettings { \n",
    "    MaxTokens = 4000, \n",
    "    Temperature = 0.6, \n",
    "    TopP = 1.0, \n",
    "    FrequencyPenalty = 0.0, \n",
    "    PresencePenalty = 0.0,\n",
    "    // Enable Auto Invoking of Kernel Functions\n",
    "    ToolCallBehavior = ToolCallBehavior.AutoInvokeKernelFunctions\n",
    "};\n",
    "\n",
    "var decisionPromptTemplateString = \"\"\"\n",
    "What decision would you recommend in determining if {{$baseBallPlayer}} should make the hall of fame? \n",
    "Only use web search results to make your decision.\n",
    "Provide sources of information and explain your reasoning.\n",
    "Ensure to cite all the sources using [number] notation of each URL after the reference in order.\n",
    "\"\"\";\n",
    "var kernelArguments = new KernelArguments(openAIPromptExecutionSettings)\n",
    "{\n",
    "    [\"baseBallPlayer\"] = \"Mike Trout\"\n",
    "};\n",
    "\n",
    "// Now with Auto Invoking of Kernel Functions, let the magic happen\n",
    "await foreach (var streamChunk in semanticKernel.InvokePromptStreamingAsync(decisionPromptTemplateString, kernelArguments))\n",
    "{\n",
    "   Console.Write(streamChunk);\n",
    "}"
   ]
  },
  {
   "cell_type": "markdown",
   "metadata": {},
   "source": [
    "### Step 5 - Hall of Fame Decision - Only using Baseball Statistics "
   ]
  },
  {
   "cell_type": "markdown",
   "metadata": {},
   "source": [
    "Execute the cell below to have GenAI perform a decision recommendation on whether Mike Trout should make the baseball Hall Of Fame.  \n",
    "\n",
    "**Notice the instruction in the prompt instruction is to only use the historical baseball statistics.** Running the code below will gather intelligence from the local MLBBaseballBattersPositionPlayers.csv file that has historical batting statistics. Only those statistics should be used to provide further context and influence the GenAI decision whether someone should join the Hall of Fame.  "
   ]
  },
  {
   "cell_type": "code",
   "execution_count": 5,
   "metadata": {
    "dotnet_interactive": {
     "language": "csharp"
    },
    "polyglot_notebook": {
     "kernelName": "csharp"
    },
    "vscode": {
     "languageId": "polyglot-notebook"
    }
   },
   "outputs": [
    {
     "name": "stdout",
     "output_type": "stream",
     "text": [
      "Based on Mike Trout's historical baseball statistics, here are the key points to consider for his Hall of Fame candidacy:\n",
      "\n",
      "1. **Performance Metrics**:\n",
      "   - Batting Average: .301 (excellent, signifies consistent hitting ability).\n",
      "   - Slugging Percentage: .582 (elite power hitter).\n",
      "   - Total Bases: 3,142 (indicative of significant offensive production).\n",
      "\n",
      "2. **Career Totals**:\n",
      "   - Home Runs: 368 (a strong total for his career length).\n",
      "   - Runs Batted In (RBI): 940 (solid contribution to his teams' scoring).\n",
      "   - Stolen Bases: 206 (shows a well-rounded skill set including speed).\n",
      "\n",
      "3. **Awards and Achievements**:\n",
      "   - All-Star Appearances: 11 (demonstrates consistent recognition as one of the best players in the league).\n",
      "   - Total Player Awards: 24 (includes MVPs and other significant accolades).\n",
      "\n",
      "4. **Longevity and Impact**:\n",
      "   - Years Played: 13 (a substantial career, though not yet extremely long).\n",
      "   - Runs Scored: 1,106 (a significant contribution to his teams' success).\n",
      "\n",
      "**Conclusion**:\n",
      "Mike Trout's statistics and accolades strongly support his candidacy for the Hall of Fame. His combination of elite hitting, power, speed, and consistent excellence over 13 years makes him one of the best players of his generation. Based solely on his historical baseball statistics, I would recommend that Mike Trout should be inducted into the Hall of Fame."
     ]
    }
   ],
   "source": [
    "// Use Baseball statistics to determine if Mike Trout should be inducted to the Hall of Fame\n",
    "\n",
    "var openAIPromptExecutionSettings = new OpenAIPromptExecutionSettings { \n",
    "    MaxTokens = 3000, \n",
    "    Temperature = 0.6, \n",
    "    TopP = 1.0, \n",
    "    FrequencyPenalty = 0.0, \n",
    "    PresencePenalty = 0.0,\n",
    "    // Enable Auto Invoking of Kernel Functions\n",
    "    ToolCallBehavior = ToolCallBehavior.AutoInvokeKernelFunctions\n",
    "};\n",
    "\n",
    "var decisionPromptTemplateString = \"\"\"\n",
    "What decision would you recommend in determining if {{$baseBallPlayer}} should make the hall of fame? \n",
    "Only use the historical baseball statistics to make your decision. \n",
    "Do NOT use web search results or machine learning models.\n",
    "\"\"\";\n",
    "var kernelArguments = new KernelArguments(openAIPromptExecutionSettings)\n",
    "{\n",
    "    [\"baseBallPlayer\"] = \"Mike Trout\"\n",
    "};\n",
    "\n",
    "// Now with Auto Invoking of Kernel Functions, let the magic happen\n",
    "await foreach (var streamChunk in semanticKernel.InvokePromptStreamingAsync(decisionPromptTemplateString, kernelArguments))\n",
    "{\n",
    "   Console.Write(streamChunk);\n",
    "}"
   ]
  },
  {
   "cell_type": "markdown",
   "metadata": {},
   "source": [
    "### Step 6 - Hall of Fame Decision - Only using a Machine Learning Model"
   ]
  },
  {
   "cell_type": "markdown",
   "metadata": {},
   "source": [
    "> \"The goal of probability is not to make precise predictions, but to make more accurate predictions than you would by chance.\"\n",
    ">\n",
    "> -- <cite>John Allen Paulos (famous mathmatecian and author)</cite> "
   ]
  },
  {
   "cell_type": "markdown",
   "metadata": {},
   "source": [
    "Execute the cell below to have GenAI perform a decision recommendation on whether Mike Trout should make the baseball Hall Of Fame. \n",
    "\n",
    "**Notice the instruction in the prompt is to only use the Machine Learning probability model.** Executing the code below will use a single probability number from a Machine Learning model to provide the intelligence for the GenAI to make the decision.  "
   ]
  },
  {
   "cell_type": "code",
   "execution_count": 6,
   "metadata": {
    "dotnet_interactive": {
     "language": "csharp"
    },
    "polyglot_notebook": {
     "kernelName": "csharp"
    },
    "vscode": {
     "languageId": "polyglot-notebook"
    }
   },
   "outputs": [
    {
     "name": "stdout",
     "output_type": "stream",
     "text": [
      "Based on the machine learning probability for Hall of Fame induction, Mike Trout has a 94.55% chance of being inducted. This high probability strongly supports the recommendation that Mike Trout should be inducted into the Hall of Fame."
     ]
    }
   ],
   "source": [
    "// Use Machine Learning Prediction to determine if Mike Trout should be inducted to the Hall of Fame\n",
    "\n",
    "var openAIPromptExecutionSettings = new OpenAIPromptExecutionSettings { \n",
    "    MaxTokens = 3000, \n",
    "    Temperature = 0.6, \n",
    "    TopP = 1.0, \n",
    "    FrequencyPenalty = 0.0, \n",
    "    PresencePenalty = 0.0,\n",
    "    // Enable Auto Invoking of Kernel Functions\n",
    "    ToolCallBehavior = ToolCallBehavior.AutoInvokeKernelFunctions\n",
    "};\n",
    "\n",
    "var decisionPromptTemplateString = \"\"\"\n",
    "What decision would you recommend in determining if {{$baseBallPlayer}} should make the Hall of Fame? \n",
    "Only use the machine learning probability for Hall Of Fame Induction to make your decision.\n",
    "\"\"\";\n",
    "var kernelArguments = new KernelArguments(openAIPromptExecutionSettings)\n",
    "{\n",
    "    [\"baseBallPlayer\"] = \"Mike Trout\"\n",
    "};\n",
    "\n",
    "// Now with Auto Invoking of Kernel Functions, let the magic happen\n",
    "await foreach (var streamChunk in semanticKernel.InvokePromptStreamingAsync(decisionPromptTemplateString, kernelArguments))\n",
    "{\n",
    "   Console.Write(streamChunk);\n",
    "}"
   ]
  },
  {
   "cell_type": "markdown",
   "metadata": {},
   "source": [
    "### Step 7 - Hall of Fame Decision - Using all of the Available Tools (functions)"
   ]
  },
  {
   "cell_type": "markdown",
   "metadata": {},
   "source": [
    "Execute the cell below to have GenAI perform a decision recommendation on whether Mike Trout should make the baseball Hall Of Fame. \n",
    "\n",
    "**Notice the instruction in the prompt is to use all of the tools available.** The example below will gather intelligence from: The Internet (Bing Service), Historical Statistics and Machine Learning model. "
   ]
  },
  {
   "cell_type": "code",
   "execution_count": 8,
   "metadata": {
    "dotnet_interactive": {
     "language": "csharp"
    },
    "polyglot_notebook": {
     "kernelName": "csharp"
    },
    "vscode": {
     "languageId": "polyglot-notebook"
    }
   },
   "outputs": [
    {
     "name": "stdout",
     "output_type": "stream",
     "text": [
      "Based on a comprehensive review of Mike Trout's career statistics, machine learning probability of Hall of Fame induction, and expert opinions from web sources, here is the recommendation regarding his Hall of Fame candidacy:\n",
      "\n",
      "### Key Factors Supporting Mike Trout's Hall of Fame Induction:\n",
      "\n",
      "1. **Career Statistics:**\n",
      "   - **Years Played:** 13\n",
      "   - **Batting Average:** .301\n",
      "   - **Home Runs (HR):** 368\n",
      "   - **Runs Batted In (RBI):** 940\n",
      "   - **Stolen Bases (SB):** 206\n",
      "   - **Slugging Percentage:** .582\n",
      "   - **All-Star Appearances:** 11\n",
      "   - **Total Player Awards:** 24\n",
      "   - **Total Bases (TB):** 3,142\n",
      "\n",
      "   These numbers place Trout among the elite players in baseball history, showcasing his consistency and dominance over a decade-plus career.\n",
      "\n",
      "2. **Machine Learning Probability:**\n",
      "   - The probability of Mike Trout being inducted into the Hall of Fame is **94.55%**, which strongly indicates that he is a near-lock for enshrinement.\n",
      "\n",
      "3. **Expert Opinions and Analysis:**\n",
      "   - **MLB.com** lists Trout as one of the active players most likely to make the Hall of Fame, citing his 85.7 career WAR (Wins Above Replacement) as a key metric of his greatness [1].\n",
      "   - **FanGraphs** states that Trout is \"fully qualified\" for the Hall of Fame, emphasizing his legacy as a bona fide Hall of Famer [3].\n",
      "   - **Cooperstown Cred** highlights that Trout, even at age 30, was already considered a future Hall of Famer, thanks to his remarkable achievements and talent [4].\n",
      "   - **Sports Illustrated** includes Trout among MLB stars aged 30 and over with a strong shot at Hall of Fame induction [8].\n",
      "\n",
      "4. **Challenges and Counterpoints:**\n",
      "   - Trout has faced injuries in recent years, which have limited his ability to play full seasons. For example, he has failed to top 140 games played since 2016 [5][7].\n",
      "   - Despite these setbacks, his career averages and peak performance remain exceptional, mitigating the impact of missed games.\n",
      "\n",
      "### Recommendation:\n",
      "Based on the overwhelming evidence from his career statistics, high probability of induction, and expert consensus, **Mike Trout should be inducted into the Baseball Hall of Fame** when he becomes eligible. His combination of individual accolades, statistical dominance, and impact on the game solidifies his place among the all-time greats.\n",
      "\n",
      "### Sources:\n",
      "[1] [MLB.com](https://www.mlb.com/news/future-hall-of-famers-who-will-play-in-2025)  \n",
      "[2] [Los Angeles Times](https://www.latimes.com/sports/story/2024-08-01/mike-trout-out-for-season-meniscus-tear-hof-chances)  \n",
      "[3] [FanGraphs](https://blogs.fangraphs.com/mike-trout-is-now-fully-qualified-for-the-hall-of-fame/)  \n",
      "[4] [Cooperstown Cred](https://www.cooperstowncred.com/mike-trout-now-30-already-a-future-hall-of-famer/)  \n",
      "[5] [CBS Sports](https://www.cbssports.com/mlb/news/mike-trouts-injuries-are-carving-into-hall-of-fame-legacy-where-angels-slugger-stacks-up-against-greats/)  \n",
      "[7] [Esquire](https://www.esquire.com/sports/a60660794/mike-trout-injuries-hall-of-fame/)  \n",
      "[8] [Sports Illustrated](https://www.si.com/mlb/2023/01/19/hall-of-fame-candidates-30-and-older)  "
     ]
    }
   ],
   "source": [
    "// Use all of the available tools (functions) to determine if Mike Trout should be inducted to the Hall of Fame\n",
    "\n",
    "var openAIPromptExecutionSettings = new OpenAIPromptExecutionSettings { \n",
    "    MaxTokens = 3000, \n",
    "    Temperature = 0.4, \n",
    "    TopP = 1.0, \n",
    "    FrequencyPenalty = 0.0, \n",
    "    PresencePenalty = 0.0,\n",
    "    // Enable Auto Invoking of Kernel Functions\n",
    "    ToolCallBehavior = ToolCallBehavior.AutoInvokeKernelFunctions\n",
    "};\n",
    "\n",
    "var decisionPromptTemplateString = \"\"\"\n",
    "What decision would you recommend in determining if {{$baseBallPlayer}} should make the hall of fame? \n",
    "Use all of the tools available at your disposal to arrive at a comprehensive decision.\n",
    "You must cite all the sources using [number] notation of each URL after the reference in order.\n",
    "The sources should appear in order on the bottom of the decision.\n",
    "\"\"\";\n",
    "var kernelArguments = new KernelArguments(openAIPromptExecutionSettings)\n",
    "{\n",
    "    [\"baseBallPlayer\"] = \"Mike Trout\"\n",
    "};\n",
    "\n",
    "// Now with Auto Invoking of Kernel Functions, let the magic happen\n",
    "await foreach (var streamChunk in semanticKernel.InvokePromptStreamingAsync(decisionPromptTemplateString, kernelArguments))\n",
    "{\n",
    "   Console.Write(streamChunk);\n",
    "}"
   ]
  },
  {
   "cell_type": "markdown",
   "metadata": {},
   "source": [
    "### Step 8 - Hall of Fame Decision - Adding Chain Of Thought Advanced Reasoning"
   ]
  },
  {
   "cell_type": "markdown",
   "metadata": {
    "dotnet_interactive": {
     "language": "csharp"
    },
    "polyglot_notebook": {
     "kernelName": "csharp"
    }
   },
   "source": [
    "Execute the cell below to have GenAI perform a decision recommendation on whether Mike Trout should make the baseball Hall of Fame.\n",
    "\n",
    "The Prompt Instructions below include a deep reasoning framework on howto approach this problem, self-reflect and try different approaches. As was shown above the GenAI model has access to all of the tools used above (internet, historical data, historical baseball statistics).  \n",
    "\n",
    "Contrast the execution results below with the previous results in this module. The GenAI model just doesn't gather intelligence and cite it when making a decision; the GenAI model now includes a deep reasoning process on how it has constructed the decision framework to arrive at the final decision.  Notice the outlined steps, the functions the GenAI model intends to call, scores itself etc. as part of the decision framework.  "
   ]
  },
  {
   "cell_type": "code",
   "execution_count": 9,
   "metadata": {
    "dotnet_interactive": {
     "language": "csharp"
    },
    "polyglot_notebook": {
     "kernelName": "csharp"
    },
    "vscode": {
     "languageId": "polyglot-notebook"
    }
   },
   "outputs": [
    {
     "name": "stdout",
     "output_type": "stream",
     "text": [
      "<thinking>  \n",
      "To determine if Mike Trout should make the Hall of Fame, we need to evaluate his career statistics, achievements, and impact on the sport. This decision will involve several steps, including:\n",
      "\n",
      "1. Gathering Mike Trout's complete baseball statistics to understand his performance.\n",
      "2. Evaluating his achievements, such as awards, All-Star selections, and any notable records.\n",
      "3. Comparing his statistics and accomplishments to historical Hall of Fame inductees.\n",
      "4. Using a machine learning model to calculate the probability of his induction based on his statistics.\n",
      "5. Considering additional context, such as his influence on the game, leadership qualities, and intangibles.\n",
      "\n",
      "We will use available tools to gather relevant data and perform the analysis. The tools include retrieving his statistics, web search results, and a machine learning probability model. \n",
      "\n",
      "Potential challenges include:\n",
      "- Ensuring all relevant statistics are included for analysis.\n",
      "- Interpreting the results of the machine learning model in the context of historical trends.\n",
      "- Weighing subjective factors like influence and leadership, which are harder to quantify.\n",
      "\n",
      "The overall goal is to provide a comprehensive, data-driven recommendation.\n",
      "\n",
      "</thinking>\n",
      "\n",
      "<step>  \n",
      "1. Use the BaseballHallOfFamePlugin-GetBaseballPlayerStats tool to retrieve Mike Trout's career statistics.  \n",
      "<count> 19 </count>  \n",
      "</step>\n",
      "\n",
      "<step>  \n",
      "2. Use the BaseballHallOfFamePlugin-GetWebSearchResults tool to gather additional contextual information about Mike Trout's achievements, awards, and influence.  \n",
      "<count> 18 </count>  \n",
      "</step>\n",
      "\n",
      "<step>  \n",
      "3. Use the BaseballHallOfFamePlugin-GetPlayerProbabilityOfHallOfFame tool to calculate the probability of Mike Trout being inducted into the Hall of Fame based on his statistics.  \n",
      "<count> 17 </count>  \n",
      "</step>\n",
      "\n",
      "<step>  \n",
      "4. Reflect on the data gathered and the probability result. Compare Mike Trout's statistics to historical Hall of Fame players to analyze his standing.  \n",
      "<count> 16 </count>  \n",
      "</step>\n",
      "\n",
      "<step>  \n",
      "5. Synthesize the findings and provide a recommendation on whether Mike Trout should make the Hall of Fame.  \n",
      "<count> 15 </count>  \n",
      "</step>\n",
      "\n",
      "<reflection>  \n",
      "This approach ensures that we leverage both objective data (statistics, probability model) and subjective context (achievements, influence). If any step yields incomplete or unclear information, we can backtrack and refine the analysis.  \n",
      "</reflection>\n",
      "\n",
      "<thinking>  \n",
      "Steps 1, 2, and 3 can be executed in parallel since they involve independent data retrieval processes. This will save time and allow us to reflect on all gathered information simultaneously.  \n",
      "</thinking>\n",
      "\n",
      "<multi_tool_use.parallel>  \n",
      "{  \n",
      "  \"tool_uses\": [  \n",
      "    {  \n",
      "      \"recipient_name\": \"functions.BaseballHallOfFamePlugin-GetBaseballPlayerStats\",  \n",
      "      \"parameters\": {  \n",
      "        \"nameOfBaseballPlayer\": \"Mike Trout\"  \n",
      "      }  \n",
      "    },  \n",
      "    {  \n",
      "      \"recipient_name\": \"functions.BaseballHallOfFamePlugin-GetWebSearchResults\",  \n",
      "      \"parameters\": {  \n",
      "        \"nameOfBaseballPlayer\": \"Mike Trout\"  \n",
      "      }  \n",
      "    }  \n",
      "  ]  \n",
      "}  \n",
      "</multi_tool_use.parallel>  "
     ]
    }
   ],
   "source": [
    "// Use all of the available tools (functions) to determine if Mike Trout should be inducted to the Hall of Fame\n",
    "\n",
    "var openAIPromptExecutionSettings = new OpenAIPromptExecutionSettings { \n",
    "    MaxTokens = 3000, \n",
    "    Temperature = 0.6, \n",
    "    TopP = 1.0, \n",
    "    FrequencyPenalty = 0.0, \n",
    "    PresencePenalty = 0.0,\n",
    "    // Enable Auto Invoking of Kernel Functions\n",
    "    ToolCallBehavior = ToolCallBehavior.AutoInvokeKernelFunctions\n",
    "};\n",
    "\n",
    "var decisionPromptTemplateString = \"\"\"\n",
    "You will be provided a question below.  \n",
    "Begin by enclosing all thoughts within <thinking> tags, exploring multiple angles and approaches.\n",
    "Break down the solution into clear steps within <step> tags. Start with a 20-step budget, requesting more for complex problems if needed.\n",
    "Use <count> tags after each step to show the remaining budget. Stop when reaching 0.\n",
    "Continuously adjust your reasoning based on intermediate results and reflections, adapting your strategy as you progress.\n",
    "Regularly evaluate progress using <reflection> tags. Be critical and honest about your reasoning process.\n",
    "Assign a quality score between 0.0 and 1.0 using <reward> tags after each reflection. Use this to guide your approach:\n",
    "\n",
    "0.8+: Continue current approach\n",
    "0.5-0.7: Consider minor adjustments\n",
    "Below 0.5: Seriously consider backtracking and trying a different approach\n",
    "\n",
    "If unsure or if reward score is low, backtrack and try a different approach, explaining your decision within <thinking> tags.\n",
    "For mathematical problems, show all work explicitly using LaTeX for formal notation and provide detailed proofs.\n",
    "Explore multiple solutions individually if possible, comparing approaches in reflections. Use thoughts as a scratchpad, writing out all calculations and reasoning explicitly.\n",
    "Synthesize the final answer within <answer> tags, providing a clear, concise summary.\n",
    "Conclude with a final reflection on the overall solution, discussing effectiveness, challenges, and solutions. Assign a final reward score.\n",
    "\n",
    "Question:\n",
    "What decision would you recommend in determining if {{$baseBallPlayer}} should make the hall of fame? \n",
    "Use all of the tools available at your disposal to arrive at a comprehensive decision.\n",
    "\"\"\";\n",
    "var kernelArguments = new KernelArguments(openAIPromptExecutionSettings)\n",
    "{\n",
    "    [\"baseBallPlayer\"] = \"Mike Trout\"\n",
    "};\n",
    "\n",
    "// Now with Auto Invoking of Kernel Functions, let the magic happen\n",
    "await foreach (var streamChunk in semanticKernel.InvokePromptStreamingAsync(decisionPromptTemplateString, kernelArguments))\n",
    "{\n",
    "   Console.Write(streamChunk);\n",
    "}"
   ]
  },
  {
   "cell_type": "markdown",
   "metadata": {},
   "source": [
    "### Step 9 - Understanding Auto Function Calling Behavior  "
   ]
  },
  {
   "cell_type": "markdown",
   "metadata": {},
   "source": [
    "How does Semantic Kernel and the LLM know to call the function? What if there are multiple functions or plugins, how does LLM signal Semantic Kernel which function to call? \n",
    "\n",
    "Executing the cell below will illustrate that the invocation of the functions is not magic, but guided by the descriptions of the plugin function descriptions and parameter descriptions. Note that the Search function is described as \"Perform a Web Search\". This provides a big clue to Semantic Kernel that this a possible tool (function) to use to extract current information."
   ]
  },
  {
   "cell_type": "code",
   "execution_count": 10,
   "metadata": {
    "dotnet_interactive": {
     "language": "csharp"
    },
    "polyglot_notebook": {
     "kernelName": "csharp"
    },
    "vscode": {
     "languageId": "polyglot-notebook"
    }
   },
   "outputs": [
    {
     "name": "stdout",
     "output_type": "stream",
     "text": [
      "Plugin: BaseballHallOfFamePlugin\n",
      "  Function Name: GetPlayerProbabilityOfHallOfFame\n",
      "  Function Description: Retrieves a Machine Learning probability of a player being Inducted to Hall Of Fame using a the player's baseball statistics.\n",
      "    Function Parameters:\n",
      "      - baseballStatistics: The statistics of the baseball player.\n",
      "        default: ''\n",
      "\n",
      "Plugin: BaseballHallOfFamePlugin\n",
      "  Function Name: GetBaseballPlayerStats\n",
      "  Function Description: Retrieves baseball statistics for a given baseball player from historical data.\n",
      "    Function Parameters:\n",
      "      - nameOfBaseballPlayer: The name of the baseball player to search for.\n",
      "        default: ''\n",
      "\n",
      "Plugin: BaseballHallOfFamePlugin\n",
      "  Function Name: GetWebSearchResults\n",
      "  Function Description: Retrieves the web search results with identified URL sources for a given baseball player.\n",
      "    Function Parameters:\n",
      "      - nameOfBaseballPlayer: The name of the baseball player to search for.\n",
      "        default: ''\n",
      "\n"
     ]
    }
   ],
   "source": [
    "// Method for printing the functions metadata\n",
    "private void PrintFunction(KernelFunctionMetadata func)\n",
    "{\n",
    "    Console.WriteLine($\"Plugin: {func.PluginName}\");\n",
    "    Console.WriteLine($\"  Function Name: {func.Name}\");\n",
    "    Console.WriteLine($\"  Function Description: {func.Description}\");\n",
    "\n",
    "    if (func.Parameters.Count > 0)\n",
    "    {\n",
    "        Console.WriteLine(\"    Function Parameters:\");\n",
    "        foreach (var p in func.Parameters)\n",
    "        {\n",
    "            Console.WriteLine($\"      - {p.Name}: {p.Description}\");\n",
    "            Console.WriteLine($\"        default: '{p.DefaultValue}'\");\n",
    "        }\n",
    "    }\n",
    "\n",
    "    Console.WriteLine();\n",
    "}\n",
    "// Get the functions metadata\n",
    "var functions = semanticKernel.Plugins.GetFunctionsMetadata();\n",
    "\n",
    "foreach (KernelFunctionMetadata func in functions)\n",
    "{\n",
    "    PrintFunction(func);\n",
    "}"
   ]
  }
 ],
 "metadata": {
  "kernelspec": {
   "display_name": ".NET (C#)",
   "language": "C#",
   "name": ".net-csharp"
  },
  "language_info": {
   "name": "csharp"
  },
  "polyglot_notebook": {
   "kernelInfo": {
    "defaultKernelName": "csharp",
    "items": [
     {
      "aliases": [],
      "name": "csharp"
     }
    ]
   }
  }
 },
 "nbformat": 4,
 "nbformat_minor": 2
}
