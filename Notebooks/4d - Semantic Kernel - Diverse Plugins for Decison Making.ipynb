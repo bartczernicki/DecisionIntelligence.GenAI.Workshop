{
 "cells": [
  {
   "cell_type": "markdown",
   "metadata": {},
   "source": [
    "<img style=\"float: left;padding-right: 10px\" width =\"40px\" src=\"https://raw.githubusercontent.com/bartczernicki/DecisionIntelligence.GenAI.Workshop/main/Images/SemanticKernelLogo.png\">\n",
    "\n",
    "## Semantic Kernel - Diverse Plugins for Decison Making"
   ]
  },
  {
   "cell_type": "markdown",
   "metadata": {},
   "source": [
    "Decision Intelligence applied in this module:  \n",
    "* Using the power of Collective Intelligence (wisdom & information from multiple experts) \n",
    "* Using data statistics & analytics as source information for a decision   \n",
    "* Using Probability as a quantitative approach to validate decisions with Machine Learning  "
   ]
  },
  {
   "cell_type": "markdown",
   "metadata": {},
   "source": [
    "> \"Probability is the language of uncertainty, and it's the only language we have for communicating what we know and don't know.\"\n",
    ">\n",
    "> -- <cite>Nate Silver (famous statistician and super-forecaster)</cite> "
   ]
  },
  {
   "cell_type": "markdown",
   "metadata": {},
   "source": [
    "### Step 1 - Initialize Configuration Builder & Build the Semantic Kernel Orchestration\n",
    "\n",
    "Execute the next two cells to:\n",
    "* Use the Configuration Builder to load the API secrets\n",
    "* Use the API configuration to build the Semantic Kernel orchestrator\n",
    "* The configuration builder will retrieve the Bing Search API Key"
   ]
  },
  {
   "cell_type": "code",
   "execution_count": 1,
   "metadata": {
    "dotnet_interactive": {
     "language": "csharp"
    },
    "polyglot_notebook": {
     "kernelName": "csharp"
    },
    "vscode": {
     "languageId": "polyglot-notebook"
    }
   },
   "outputs": [
    {
     "data": {
      "text/html": [
       "<div><div></div><div></div><div><strong>Installed Packages</strong><ul><li><span>Microsoft.Bing.Search.WebSearch, 1.0.0</span></li><li><span>Microsoft.Extensions.Configuration, 9.0.0</span></li><li><span>Microsoft.Extensions.Configuration.Json, 9.0.0</span></li><li><span>Microsoft.Extensions.ML, 4.0.1</span></li><li><span>Microsoft.ML, 4.0.1</span></li><li><span>Microsoft.ML.FastTree, 4.0.1</span></li><li><span>Microsoft.SemanticKernel, 1.39.0</span></li><li><span>Microsoft.SemanticKernel.Plugins.Core, 1.39.0-alpha</span></li><li><span>Microsoft.SemanticKernel.Plugins.Web, 1.39.0-alpha</span></li></ul></div></div>"
      ]
     },
     "metadata": {},
     "output_type": "display_data"
    }
   ],
   "source": [
    "#r \"nuget: Microsoft.Extensions.Configuration, 9.0.0\"\n",
    "#r \"nuget: Microsoft.Extensions.Configuration.Json, 9.0.0\"\n",
    "#r \"nuget: Microsoft.SemanticKernel, 1.39\"\n",
    "#r \"nuget: Microsoft.SemanticKernel.Plugins.Core, 1.39-alpha\"\n",
    "#r \"nuget: Microsoft.SemanticKernel.Plugins.Web, 1.39-alpha\"\n",
    "#r \"nuget: Microsoft.Bing.Search.WebSearch, 1.0.0\"\n",
    "#r \"nuget: Microsoft.ML, 4.0.1\"\n",
    "#r \"nuget: Microsoft.ML.FastTree, 4.0.1\"\n",
    "#r \"nuget: Microsoft.Extensions.ML, 4.0.1\"\n",
    "\n",
    "using Microsoft.Extensions.Configuration;\n",
    "using Microsoft.SemanticKernel;\n",
    "using Microsoft.SemanticKernel.ChatCompletion;\n",
    "using Microsoft.SemanticKernel.Connectors.OpenAI;\n",
    "using Microsoft.Bing.WebSearch;\n",
    "using System.ComponentModel;\n",
    "using System.IO;\n",
    "\n",
    "var configurationBuilder = new ConfigurationBuilder()\n",
    "    .SetBasePath(Directory.GetCurrentDirectory())\n",
    "    .AddJsonFile(\"local.settings.json\", optional: true, reloadOnChange: true)\n",
    "    .AddJsonFile(\"secrets.settings.json\", optional: true, reloadOnChange: true);\n",
    "var config = configurationBuilder.Build();\n",
    "\n",
    "// IMPORTANT: You ONLY NEED either Azure OpenAI or OpenAI connectiopn info, not both.\n",
    "// Azure OpenAI Connection Info\n",
    "var azureOpenAIEndpoint = config[\"AzureOpenAI:Endpoint\"];\n",
    "var azureOpenAIAPIKey = config[\"AzureOpenAI:APIKey\"];\n",
    "var azureOpenAIModelDeploymentName = config[\"AzureOpenAI:ModelDeploymentName\"];\n",
    "// OpenAI Connection Info \n",
    "var openAIAPIKey = config[\"OpenAI:APIKey\"];\n",
    "var openAIModelId = config[\"OpenAI:ModelId\"];"
   ]
  },
  {
   "cell_type": "code",
   "execution_count": 2,
   "metadata": {
    "dotnet_interactive": {
     "language": "csharp"
    },
    "polyglot_notebook": {
     "kernelName": "csharp"
    },
    "vscode": {
     "languageId": "polyglot-notebook"
    }
   },
   "outputs": [
    {
     "name": "stdout",
     "output_type": "stream",
     "text": [
      "Using Azure OpenAI Service\r\n"
     ]
    }
   ],
   "source": [
    "Kernel semanticKernel;\n",
    "\n",
    "// Set the flag to use Azure OpenAI or OpenAI. False to use OpenAI, True to use Azure OpenAI\n",
    "var useAzureOpenAI = true;\n",
    "\n",
    "// Create a new Semantic Kernel instance\n",
    "if (useAzureOpenAI)\n",
    "{\n",
    "    Console.WriteLine(\"Using Azure OpenAI Service\");\n",
    "    semanticKernel = Kernel.CreateBuilder()\n",
    "        .AddAzureOpenAIChatCompletion(\n",
    "            deploymentName: azureOpenAIModelDeploymentName,\n",
    "            endpoint: azureOpenAIEndpoint,\n",
    "            apiKey: azureOpenAIAPIKey)\n",
    "        .Build();\n",
    "}\n",
    "else\n",
    "{\n",
    "    Console.WriteLine(\"Using OpenAI Service\");\n",
    "    semanticKernel = Kernel.CreateBuilder()\n",
    "        .AddOpenAIChatCompletion(\n",
    "            modelId: openAIModelId,\n",
    "            apiKey: openAIAPIKey)\n",
    "        .Build();\n",
    "}\n",
    "\n",
    "// Import the BaseballHallOfFamePlugin.cs file\n",
    "#!import ../Classes/BaseballHallOfFamePlugin.cs\n",
    "\n",
    "// Add the native plugin with the three native functions to the semantic kernel\n",
    "semanticKernel.ImportPluginFromType<BaseballHallOfFamePlugin>();"
   ]
  },
  {
   "cell_type": "markdown",
   "metadata": {},
   "source": [
    "### Step 2 - Introduce Sports Decision Scenario \n",
    "\n",
    "<img width =\"1024x\" src=\"https://raw.githubusercontent.com/bartczernicki/DecisionIntelligence.GenAI.Workshop/main/Images/SportsDecisionScenario.png\">"
   ]
  },
  {
   "cell_type": "markdown",
   "metadata": {},
   "source": [
    "### Step 3 - Background Information"
   ]
  },
  {
   "cell_type": "markdown",
   "metadata": {},
   "source": [
    "Execute the cell below to understand what type of collective information will be used to help the GenAI model make the decsion. In addition to the internet (knowledge graph) shown in previous modules, historical baseball statistic and Machine Learning models exposing a quantitative probability are available.  "
   ]
  },
  {
   "cell_type": "code",
   "execution_count": 3,
   "metadata": {
    "dotnet_interactive": {
     "language": "csharp"
    },
    "polyglot_notebook": {
     "kernelName": "csharp"
    },
    "vscode": {
     "languageId": "polyglot-notebook"
    }
   },
   "outputs": [
    {
     "name": "stdout",
     "output_type": "stream",
     "text": [
      "Mike Trout Stats From Historical Data (end of 2023 season):\n",
      "FullPlayerName:Mike Trout, YearPlayed:13, AB:5402\n",
      "        R:1106, H:1624, Doubles:310, Triples:52, HR:368, RBI:940, SB:206,\n",
      "        BattingAvg:0.301, Slg:0.582, AllStar:11,\n",
      "        TB:3142, LastYearPlayed:2023, ID:troutmi01\n",
      "--------------------\n",
      "Mike Trout Probabibitiy of being inducted to Hall Of Fame From ML Model:\n",
      "94.55%\n"
     ]
    }
   ],
   "source": [
    "// Background Information on what is happening & components\n",
    "\n",
    "// 1) Directory of the historical baseball data statistics\n",
    "string filePathMLBBaseballBatters = Directory.GetParent(Directory.GetCurrentDirectory()) + \"/Data/MLBBaseballBattersPositionPlayers.csv\";\n",
    "// Read the batters data from the CSV file\n",
    "var batters = File.ReadAllLines(filePathMLBBaseballBatters)\n",
    "                        .Skip(1)\n",
    "                        .Select(v => MLBBaseballBatter.FromCsv(v))\n",
    "                        .ToList();\n",
    "\n",
    "// 2) A custom decision rules engine crafted by a Machine Learning model\n",
    "// Machine Learing Model and Prediction Engine                       \n",
    "string modelPath = Directory.GetParent(Directory.GetCurrentDirectory()) + \"/Models/InductedToHoF-GeneralizedAdditiveModels.mlnet\";\n",
    "var mlContext = new MLContext(seed: 100);\n",
    "ITransformer loadedModel;\n",
    "DataViewSchema schema;\n",
    "\n",
    "using (var stream = File.OpenRead(modelPath))\n",
    "{\n",
    "    loadedModel = mlContext.Model.Load(stream, out schema);\n",
    "}\n",
    "TransformerChain<ITransformer> transfomerChain = (TransformerChain<ITransformer>)loadedModel;\n",
    "\n",
    "var predEngineInductedToHallOfFame = mlContext.Model.CreatePredictionEngine<MLBBaseballBatter, MLBHOFPrediction>(transfomerChain);\n",
    "\n",
    "// 3) Predict if Mike Trout will be inducted to the Hall of Fame\n",
    "var mikeTroutStats = batters.Where(b => b.FullPlayerName == \"Mike Trout\").FirstOrDefault();\n",
    "Console.WriteLine(\"Mike Trout Stats From Historical Data (end of 2023 season):\");\n",
    "Console.WriteLine(mikeTroutStats.ToString());\n",
    "var prediction = predEngineInductedToHallOfFame.Predict(mikeTroutStats);\n",
    "Console.WriteLine(\"--------------------\");\n",
    "Console.WriteLine(\"Mike Trout Probabibitiy of being inducted to Hall Of Fame From ML Model:\");\n",
    "Console.WriteLine($\"{prediction.Probability:P2}\");"
   ]
  },
  {
   "cell_type": "markdown",
   "metadata": {},
   "source": [
    "### Step 4 - Hall of Fame Decision - Only using Web Search Results "
   ]
  },
  {
   "cell_type": "markdown",
   "metadata": {},
   "source": [
    "Execute the cell below to have GenAI perform a decision recommendation on whether Mike Trout should make the baseball Hall Of Fame using current internet information only.\n",
    "\n",
    "**Notice the instruction in the prompt is to only use the web search results.** While there might be multiple functions available to the GenAI model via the imported plugin, the prompt instruction is to use only the single \"tool\" at it's disposal. Therefore, historical baseball statistics and the Machine Learning model probabilities will not be used.  \n",
    "\n",
    "After executing the code below, notice that the GenAI model has gathered intelligence using Bing. This intelligence about Mike Trout's baseball hall of fame candidacy is provides additional intelligence context. Finally, the LLM provides the information it has gathered, cites its sources and arrives at a decision (conclusion)."
   ]
  },
  {
   "cell_type": "code",
   "execution_count": 5,
   "metadata": {
    "dotnet_interactive": {
     "language": "csharp"
    },
    "polyglot_notebook": {
     "kernelName": "csharp"
    },
    "vscode": {
     "languageId": "polyglot-notebook"
    }
   },
   "outputs": [
    {
     "name": "stdout",
     "output_type": "stream",
     "text": [
      "Based on the web search results, here's an assessment of Mike Trout's Hall of Fame candidacy:\n",
      "\n",
      "### Analysis of Sources:\n",
      "1. **Los Angeles Times** highlights concerns about Trout's recent injuries and their potential impact on his Hall of Fame candidacy. Despite his dominance earlier in his career, prolonged absences due to injuries may raise questions about his durability and long-term contributions [1].\n",
      "\n",
      "2. **CBS Sports** identifies Mike Trout as one of the active players already on track for Cooperstown. His career achievements, including multiple MVP awards and an impressive WAR (Wins Above Replacement), make him a strong candidate [2].\n",
      "\n",
      "3. **FanArch** presents a contrarian view, arguing that while Trout's early career was extraordinary, declining performance and injuries could jeopardize his Hall of Fame chances [3].\n",
      "\n",
      "4. **Essentially Sports** argues that Trout's Hall of Fame status is already secured, emphasizing his career WAR of 81.4 and his ranking among the elite players in MLB history. The article even suggests he might be a unanimous inductee, which is an exceptional honor [4].\n",
      "\n",
      "5. **FanGraphs** states that Trout is already \"fully qualified\" for the Hall of Fame based on his career accomplishments, such as MVP awards, All-Star appearances, and statistical dominance during his peak years [5].\n",
      "\n",
      "6. **Sports Illustrated** lists Mike Trout as one of the most likely candidates for Hall of Fame induction among players over 30. His career trajectory and accolades make him a standout [6].\n",
      "\n",
      "7. **Baseball Classics** claims that Trout will be a \"first-ballot Hall of Famer,\" citing his career WAR of 85.2 as of 2024, which places him among the greatest players of all time [7].\n",
      "\n",
      "8. **Esquire** discusses how Trout's injuries since 2016 have limited his playing time. While acknowledging his past dominance, the article notes that consistent injuries might diminish his overall legacy [8].\n",
      "\n",
      "### Recommendation:\n",
      "Mike Trout's Hall of Fame candidacy is extremely strong based on his career achievements, including:\n",
      "- A high career WAR (85.2 as of 2024) [7].\n",
      "- Three MVP awards and multiple All-Star appearances [2][5].\n",
      "- Recognition as one of the greatest players of his generation [4][6][7].\n",
      "\n",
      "While injuries in recent years have limited his playing time and raised concerns [1][3][8], his dominance during his peak years and his overall statistical contributions make him a near-certain Hall of Famer. Several sources explicitly state that he is already qualified or destined for the Hall of Fame [4][5][7].\n",
      "\n",
      "### Sources:\n",
      "1. [Los Angeles Times](https://www.latimes.com/sports/story/2024-08-01/mike-trout-out-for-season-meniscus-tear-hof-chances)\n",
      "2. [CBS Sports](https://www.cbssports.com/mlb/news/baseball-hall-of-fame-mike-trout-mookie-betts-clayton-kershaw-more-active-players-on-track-for-cooperstown/)\n",
      "3. [FanArch](https://fanarch.com/blogs/mlb/why-mike-trout-will-not-make-the-hall-of-fame)\n",
      "4. [Essentially Sports](https://www.essentiallysports.com/mlb-baseball-news-is-mike-trout-destined-for-unanimous-hof-fans-rank-him-among-elite-mlb-contenders/)\n",
      "5. [FanGraphs](https://blogs.fangraphs.com/mike-trout-is-now-fully-qualified-for-the-hall-of-fame/)\n",
      "6. [Sports Illustrated](https://www.si.com/mlb/2023/01/19/hall-of-fame-candidates-30-and-older)\n",
      "7. [Baseball Classics](https://play.baseballclassics.com/diamondbuzz/mike-trout-the-meteoric-rise-the-unstoppable-force-and-what-comes-next)\n",
      "8. [Esquire](https://www.esquire.com/sports/a60660794/mike-trout-injuries-hall-of-fame/)"
     ]
    }
   ],
   "source": [
    "// Use WebSearch to find information on Mike Trout\n",
    "\n",
    "var openAIPromptExecutionSettings = new OpenAIPromptExecutionSettings { \n",
    "    MaxTokens = 4000, \n",
    "    Temperature = 0.6, \n",
    "    TopP = 1.0, \n",
    "    FrequencyPenalty = 0.0, \n",
    "    PresencePenalty = 0.0,\n",
    "    // Enable Auto Invoking of Kernel Functions\n",
    "    ToolCallBehavior = ToolCallBehavior.AutoInvokeKernelFunctions\n",
    "};\n",
    "\n",
    "var decisionPromptTemplateString = \"\"\"\n",
    "What decision would you recommend in determining if {{$baseBallPlayer}} should make the hall of fame? \n",
    "Only use web search results to make your decision.\n",
    "Provide sources of information and explain your reasoning.\n",
    "Ensure to cite all the sources using [number] notation of each URL after the reference in order.\n",
    "\"\"\";\n",
    "var kernelArguments = new KernelArguments(openAIPromptExecutionSettings)\n",
    "{\n",
    "    [\"baseBallPlayer\"] = \"Mike Trout\"\n",
    "};\n",
    "\n",
    "// Now with Auto Invoking of Kernel Functions, let the magic happen\n",
    "await foreach (var streamChunk in semanticKernel.InvokePromptStreamingAsync(decisionPromptTemplateString, kernelArguments))\n",
    "{\n",
    "   Console.Write(streamChunk);\n",
    "}"
   ]
  },
  {
   "cell_type": "markdown",
   "metadata": {},
   "source": [
    "### Step 5 - Hall of Fame Decision - Only using Baseball Statistics "
   ]
  },
  {
   "cell_type": "markdown",
   "metadata": {},
   "source": [
    "Execute the cell below to have GenAI perform a decision recommendation on whether Mike Trout should make the baseball Hall Of Fame.  \n",
    "\n",
    "**Notice the instruction in the prompt instruction is to only use the historical baseball statistics.** Running the code below will gather intelligence from the local MLBBaseballBattersPositionPlayers.csv file that has historical batting statistics. Only those statistics should be used to provide further context and influence the GenAI decision whether someone should join the Hall of Fame.  "
   ]
  },
  {
   "cell_type": "code",
   "execution_count": 5,
   "metadata": {
    "dotnet_interactive": {
     "language": "csharp"
    },
    "polyglot_notebook": {
     "kernelName": "csharp"
    },
    "vscode": {
     "languageId": "polyglot-notebook"
    }
   },
   "outputs": [
    {
     "name": "stdout",
     "output_type": "stream",
     "text": [
      "Based on Mike Trout's historical baseball statistics, he has a very strong case for induction into the Hall of Fame. Here are the key reasons:\n",
      "\n",
      "1. **Consistency and Longevity**: Trout has played 13 years and maintained an elite level of performance throughout his career.\n",
      "\n",
      "2. **Offensive Excellence**:\n",
      "   - **Batting Average**: His career batting average of .301 is excellent and indicative of consistent hitting ability.\n",
      "   - **Slugging Percentage**: A slugging percentage of .582 is elite, showcasing his ability to hit for power.\n",
      "   - **Home Runs and RBIs**: With 368 home runs and 940 RBIs, Trout has been a major run producer.\n",
      "   - **Total Bases**: His total of 3,142 bases also reflects his offensive dominance.\n",
      "\n",
      "3. **All-Around Player**:\n",
      "   - Trout has stolen 206 bases, illustrating his speed and baserunning ability.\n",
      "   - His 310 doubles and 52 triples show his ability to hit for extra bases beyond home runs.\n",
      "\n",
      "4. **Awards and Recognition**:\n",
      "   - Trout has been an 11-time All-Star in 13 seasons, underscoring his reputation as one of the best players in the game during his career.\n",
      "   - He has won a total of 24 major player awards, further highlighting his excellence.\n",
      "\n",
      "5. **Context of Era**: Trout has played in an era of high competition and has consistently been one of the best players in the league.\n",
      "\n",
      "**Conclusion**:\n",
      "Based purely on his historical statistics and achievements, Mike Trout is a clear Hall of Fame-caliber player. His combination of hitting, power, speed, and consistency, along with his numerous awards and accolades, make him one of the greatest players of his generation."
     ]
    }
   ],
   "source": [
    "// Use Baseball statistics to determine if Mike Trout should be inducted to the Hall of Fame\n",
    "\n",
    "var openAIPromptExecutionSettings = new OpenAIPromptExecutionSettings { \n",
    "    MaxTokens = 3000, \n",
    "    Temperature = 0.6, \n",
    "    TopP = 1.0, \n",
    "    FrequencyPenalty = 0.0, \n",
    "    PresencePenalty = 0.0,\n",
    "    // Enable Auto Invoking of Kernel Functions\n",
    "    ToolCallBehavior = ToolCallBehavior.AutoInvokeKernelFunctions\n",
    "};\n",
    "\n",
    "var decisionPromptTemplateString = \"\"\"\n",
    "What decision would you recommend in determining if {{$baseBallPlayer}} should make the hall of fame? \n",
    "Only use the historical baseball statistics to make your decision. \n",
    "Do NOT use web search results or machine learning models.\n",
    "\"\"\";\n",
    "var kernelArguments = new KernelArguments(openAIPromptExecutionSettings)\n",
    "{\n",
    "    [\"baseBallPlayer\"] = \"Mike Trout\"\n",
    "};\n",
    "\n",
    "// Now with Auto Invoking of Kernel Functions, let the magic happen\n",
    "await foreach (var streamChunk in semanticKernel.InvokePromptStreamingAsync(decisionPromptTemplateString, kernelArguments))\n",
    "{\n",
    "   Console.Write(streamChunk);\n",
    "}"
   ]
  },
  {
   "cell_type": "markdown",
   "metadata": {},
   "source": [
    "### Step 6 - Hall of Fame Decision - Only using a Machine Learning Model"
   ]
  },
  {
   "cell_type": "markdown",
   "metadata": {},
   "source": [
    "> \"The goal of probability is not to make precise predictions, but to make more accurate predictions than you would by chance.\"\n",
    ">\n",
    "> -- <cite>John Allen Paulos (famous mathmatecian and author)</cite> "
   ]
  },
  {
   "cell_type": "markdown",
   "metadata": {},
   "source": [
    "Execute the cell below to have GenAI perform a decision recommendation on whether Mike Trout should make the baseball Hall Of Fame. \n",
    "\n",
    "**Notice the instruction in the prompt is to only use the Machine Learning probability model.** Executing the code below will use a single probability number from a Machine Learning model to provide the intelligence for the GenAI to make the decision.  "
   ]
  },
  {
   "cell_type": "code",
   "execution_count": 6,
   "metadata": {
    "dotnet_interactive": {
     "language": "csharp"
    },
    "polyglot_notebook": {
     "kernelName": "csharp"
    },
    "vscode": {
     "languageId": "polyglot-notebook"
    }
   },
   "outputs": [
    {
     "name": "stdout",
     "output_type": "stream",
     "text": [
      "Based on the machine learning probability, Mike Trout has a 94.5% chance of being inducted into the Hall of Fame. This high probability strongly supports the decision to induct him into the Hall of Fame."
     ]
    }
   ],
   "source": [
    "// Use Machine Learning Prediction to determine if Mike Trout should be inducted to the Hall of Fame\n",
    "\n",
    "var openAIPromptExecutionSettings = new OpenAIPromptExecutionSettings { \n",
    "    MaxTokens = 3000, \n",
    "    Temperature = 0.6, \n",
    "    TopP = 1.0, \n",
    "    FrequencyPenalty = 0.0, \n",
    "    PresencePenalty = 0.0,\n",
    "    // Enable Auto Invoking of Kernel Functions\n",
    "    ToolCallBehavior = ToolCallBehavior.AutoInvokeKernelFunctions\n",
    "};\n",
    "\n",
    "var decisionPromptTemplateString = \"\"\"\n",
    "What decision would you recommend in determining if {{$baseBallPlayer}} should make the Hall of Fame? \n",
    "Only use the machine learning probability for Hall Of Fame Induction to make your decision.\n",
    "\"\"\";\n",
    "var kernelArguments = new KernelArguments(openAIPromptExecutionSettings)\n",
    "{\n",
    "    [\"baseBallPlayer\"] = \"Mike Trout\"\n",
    "};\n",
    "\n",
    "// Now with Auto Invoking of Kernel Functions, let the magic happen\n",
    "await foreach (var streamChunk in semanticKernel.InvokePromptStreamingAsync(decisionPromptTemplateString, kernelArguments))\n",
    "{\n",
    "   Console.Write(streamChunk);\n",
    "}"
   ]
  },
  {
   "cell_type": "markdown",
   "metadata": {},
   "source": [
    "### Step 7 - Hall of Fame Decision - Using all of the Available Tools (functions)"
   ]
  },
  {
   "cell_type": "markdown",
   "metadata": {},
   "source": [
    "Execute the cell below to have GenAI perform a decision recommendation on whether Mike Trout should make the baseball Hall Of Fame. \n",
    "\n",
    "**Notice the instruction in the prompt is to use all of the tools available.** The example below will gather intelligence from: The Internet (Bing Service), Historical Statistics and Machine Learning model. "
   ]
  },
  {
   "cell_type": "code",
   "execution_count": 7,
   "metadata": {
    "dotnet_interactive": {
     "language": "csharp"
    },
    "polyglot_notebook": {
     "kernelName": "csharp"
    },
    "vscode": {
     "languageId": "polyglot-notebook"
    }
   },
   "outputs": [
    {
     "name": "stdout",
     "output_type": "stream",
     "text": [
      "Based on the available data and analysis, I recommend that Mike Trout should be inducted into the Baseball Hall of Fame. Here's a comprehensive evaluation:\n",
      "\n",
      "### Statistical Achievements\n",
      "Mike Trout has demonstrated exceptional performance over his 13-year career:\n",
      "- **Batting Average**: .301\n",
      "- **Slugging Percentage**: .582\n",
      "- **Home Runs**: 368\n",
      "- **RBIs**: 940\n",
      "- **Runs Scored**: 1106\n",
      "- **Hits**: 1624\n",
      "- **All-Star Appearances**: 11\n",
      "- **Total Player Awards**: 24\n",
      "\n",
      "These statistics place him among the elite players in baseball history. His consistency, power, and ability to contribute across multiple facets of the game are remarkable.\n",
      "\n",
      "### Probability of Hall of Fame Induction\n",
      "Using machine learning analysis, Mike Trout has a **94.55% probability** of being inducted into the Hall of Fame. This high likelihood reflects his extraordinary career achievements and legacy.\n",
      "\n",
      "### External Opinions and Analysis\n",
      "1. **CBS Sports** highlights that Mike Trout is among the active players on track for Cooperstown, emphasizing his generational talent and impact on the game [1].\n",
      "2. **FanGraphs** argues that Trout is already fully qualified for the Hall of Fame, citing his dominance and sustained excellence over the years [2].\n",
      "3. **Cooperstown Cred** notes that even at 30 years old, Trout is considered a future Hall of Famer, despite some injury concerns [4].\n",
      "4. **Esquire** and **Sports Illustrated** discuss how injuries have affected his career but agree that his peak performance and overall contributions still make him a strong candidate [5][8].\n",
      "\n",
      "### Considerations\n",
      "While injuries have limited his playing time in recent seasons, his peak performance and cumulative achievements far outweigh these concerns. Many Hall of Famers have faced similar challenges but were inducted based on their overall contributions to the game.\n",
      "\n",
      "### Conclusion\n",
      "Mike Trout's exceptional career statistics, high probability of induction, and widespread recognition as one of the greatest players of his generation strongly support his candidacy for the Hall of Fame.\n",
      "\n",
      "### Sources\n",
      "1. [CBS Sports](https://www.cbssports.com/mlb/news/baseball-hall-of-fame-mike-trout-mookie-betts-clayton-kershaw-more-active-players-on-track-for-cooperstown/)\n",
      "2. [FanGraphs](https://blogs.fangraphs.com/mike-trout-is-now-fully-qualified-for-the-hall-of-fame/)\n",
      "3. [Cooperstown Cred](https://www.cooperstowncred.com/mike-trout-now-30-already-a-future-hall-of-famer/)\n",
      "4. [Esquire](https://www.esquire.com/sports/a60660794/mike-trout-injuries-hall-of-fame/)\n",
      "5. [Sports Illustrated](https://www.si.com/mlb/angels/angels-news/projecting-mike-trout-s-career-can-the-angels-star-make-the-hall-of-fame-01j4md892bww)"
     ]
    }
   ],
   "source": [
    "// Use all of the available tools (functions) to determine if Mike Trout should be inducted to the Hall of Fame\n",
    "\n",
    "var openAIPromptExecutionSettings = new OpenAIPromptExecutionSettings { \n",
    "    MaxTokens = 3000, \n",
    "    Temperature = 0.4, \n",
    "    TopP = 1.0, \n",
    "    FrequencyPenalty = 0.0, \n",
    "    PresencePenalty = 0.0,\n",
    "    // Enable Auto Invoking of Kernel Functions\n",
    "    ToolCallBehavior = ToolCallBehavior.AutoInvokeKernelFunctions\n",
    "};\n",
    "\n",
    "var decisionPromptTemplateString = \"\"\"\n",
    "What decision would you recommend in determining if {{$baseBallPlayer}} should make the hall of fame? \n",
    "Use all of the tools available at your disposal to arrive at a comprehensive decision.\n",
    "You must cite all the sources using [number] notation of each URL after the reference in order.\n",
    "The sources should appear in order on the bottom of the decision.\n",
    "\"\"\";\n",
    "var kernelArguments = new KernelArguments(openAIPromptExecutionSettings)\n",
    "{\n",
    "    [\"baseBallPlayer\"] = \"Mike Trout\"\n",
    "};\n",
    "\n",
    "// Now with Auto Invoking of Kernel Functions, let the magic happen\n",
    "await foreach (var streamChunk in semanticKernel.InvokePromptStreamingAsync(decisionPromptTemplateString, kernelArguments))\n",
    "{\n",
    "   Console.Write(streamChunk);\n",
    "}"
   ]
  },
  {
   "cell_type": "markdown",
   "metadata": {},
   "source": [
    "### Step 8 - Hall of Fame Decision - Adding Chain Of Thought Advanced Reasoning"
   ]
  },
  {
   "cell_type": "markdown",
   "metadata": {
    "dotnet_interactive": {
     "language": "csharp"
    },
    "polyglot_notebook": {
     "kernelName": "csharp"
    }
   },
   "source": [
    "Execute the cell below to have GenAI perform a decision recommendation on whether Mike Trout should make the baseball Hall of Fame.\n",
    "\n",
    "The Prompt Instructions below include a deep reasoning framework on howto approach this problem, self-reflect and try different approaches. As was shown above the GenAI model has access to all of the tools used above (internet, historical data, historical baseball statistics).  \n",
    "\n",
    "Contrast the execution results below with the previous results in this module. The GenAI model just doesn't gather intelligence and cite it when making a decision; the GenAI model now includes a deep reasoning process on how it has constructed the decision framework to arrive at the final decision.  Notice the outlined steps, the functions the GenAI model intends to call, scores itself etc. as part of the decision framework.  "
   ]
  },
  {
   "cell_type": "code",
   "execution_count": 9,
   "metadata": {
    "dotnet_interactive": {
     "language": "csharp"
    },
    "polyglot_notebook": {
     "kernelName": "csharp"
    },
    "vscode": {
     "languageId": "polyglot-notebook"
    }
   },
   "outputs": [
    {
     "name": "stdout",
     "output_type": "stream",
     "text": [
      "<thinking>  \n",
      "To determine if Mike Trout should make the Hall of Fame, we need to evaluate his career statistics, achievements, and impact on the sport. This decision will involve several steps, including:\n",
      "\n",
      "1. Gathering Mike Trout's complete baseball statistics to understand his performance.\n",
      "2. Evaluating his achievements, such as awards, All-Star selections, and any notable records.\n",
      "3. Comparing his statistics and accomplishments to historical Hall of Fame inductees.\n",
      "4. Using a machine learning model to calculate the probability of his induction based on his statistics.\n",
      "5. Considering additional context, such as his influence on the game, leadership qualities, and intangibles.\n",
      "\n",
      "We will use available tools to gather relevant data and perform the analysis. The tools include retrieving his statistics, web search results, and a machine learning probability model. \n",
      "\n",
      "Potential challenges include:\n",
      "- Ensuring all relevant statistics are included for analysis.\n",
      "- Interpreting the results of the machine learning model in the context of historical trends.\n",
      "- Weighing subjective factors like influence and leadership, which are harder to quantify.\n",
      "\n",
      "The overall goal is to provide a comprehensive, data-driven recommendation.\n",
      "\n",
      "</thinking>\n",
      "\n",
      "<step>  \n",
      "1. Use the BaseballHallOfFamePlugin-GetBaseballPlayerStats tool to retrieve Mike Trout's career statistics.  \n",
      "<count> 19 </count>  \n",
      "</step>\n",
      "\n",
      "<step>  \n",
      "2. Use the BaseballHallOfFamePlugin-GetWebSearchResults tool to gather additional contextual information about Mike Trout's achievements, awards, and influence.  \n",
      "<count> 18 </count>  \n",
      "</step>\n",
      "\n",
      "<step>  \n",
      "3. Use the BaseballHallOfFamePlugin-GetPlayerProbabilityOfHallOfFame tool to calculate the probability of Mike Trout being inducted into the Hall of Fame based on his statistics.  \n",
      "<count> 17 </count>  \n",
      "</step>\n",
      "\n",
      "<step>  \n",
      "4. Reflect on the data gathered and the probability result. Compare Mike Trout's statistics to historical Hall of Fame players to analyze his standing.  \n",
      "<count> 16 </count>  \n",
      "</step>\n",
      "\n",
      "<step>  \n",
      "5. Synthesize the findings and provide a recommendation on whether Mike Trout should make the Hall of Fame.  \n",
      "<count> 15 </count>  \n",
      "</step>\n",
      "\n",
      "<reflection>  \n",
      "This approach ensures that we leverage both objective data (statistics, probability model) and subjective context (achievements, influence). If any step yields incomplete or unclear information, we can backtrack and refine the analysis.  \n",
      "</reflection>\n",
      "\n",
      "<thinking>  \n",
      "Steps 1, 2, and 3 can be executed in parallel since they involve independent data retrieval processes. This will save time and allow us to reflect on all gathered information simultaneously.  \n",
      "</thinking>\n",
      "\n",
      "<multi_tool_use.parallel>  \n",
      "{  \n",
      "  \"tool_uses\": [  \n",
      "    {  \n",
      "      \"recipient_name\": \"functions.BaseballHallOfFamePlugin-GetBaseballPlayerStats\",  \n",
      "      \"parameters\": {  \n",
      "        \"nameOfBaseballPlayer\": \"Mike Trout\"  \n",
      "      }  \n",
      "    },  \n",
      "    {  \n",
      "      \"recipient_name\": \"functions.BaseballHallOfFamePlugin-GetWebSearchResults\",  \n",
      "      \"parameters\": {  \n",
      "        \"nameOfBaseballPlayer\": \"Mike Trout\"  \n",
      "      }  \n",
      "    }  \n",
      "  ]  \n",
      "}  \n",
      "</multi_tool_use.parallel>  "
     ]
    }
   ],
   "source": [
    "// Use all of the available tools (functions) to determine if Mike Trout should be inducted to the Hall of Fame\n",
    "\n",
    "var openAIPromptExecutionSettings = new OpenAIPromptExecutionSettings { \n",
    "    MaxTokens = 3000, \n",
    "    Temperature = 0.6, \n",
    "    TopP = 1.0, \n",
    "    FrequencyPenalty = 0.0, \n",
    "    PresencePenalty = 0.0,\n",
    "    // Enable Auto Invoking of Kernel Functions\n",
    "    ToolCallBehavior = ToolCallBehavior.AutoInvokeKernelFunctions\n",
    "};\n",
    "\n",
    "var decisionPromptTemplateString = \"\"\"\n",
    "You will be provided a question below.  \n",
    "Begin by enclosing all thoughts within <thinking> tags, exploring multiple angles and approaches.\n",
    "Break down the solution into clear steps within <step> tags. Start with a 20-step budget, requesting more for complex problems if needed.\n",
    "Use <count> tags after each step to show the remaining budget. Stop when reaching 0.\n",
    "Continuously adjust your reasoning based on intermediate results and reflections, adapting your strategy as you progress.\n",
    "Regularly evaluate progress using <reflection> tags. Be critical and honest about your reasoning process.\n",
    "Assign a quality score between 0.0 and 1.0 using <reward> tags after each reflection. Use this to guide your approach:\n",
    "\n",
    "0.8+: Continue current approach\n",
    "0.5-0.7: Consider minor adjustments\n",
    "Below 0.5: Seriously consider backtracking and trying a different approach\n",
    "\n",
    "If unsure or if reward score is low, backtrack and try a different approach, explaining your decision within <thinking> tags.\n",
    "For mathematical problems, show all work explicitly using LaTeX for formal notation and provide detailed proofs.\n",
    "Explore multiple solutions individually if possible, comparing approaches in reflections. Use thoughts as a scratchpad, writing out all calculations and reasoning explicitly.\n",
    "Synthesize the final answer within <answer> tags, providing a clear, concise summary.\n",
    "Conclude with a final reflection on the overall solution, discussing effectiveness, challenges, and solutions. Assign a final reward score.\n",
    "\n",
    "Question:\n",
    "What decision would you recommend in determining if {{$baseBallPlayer}} should make the hall of fame? \n",
    "Use all of the tools available at your disposal to arrive at a comprehensive decision.\n",
    "\"\"\";\n",
    "var kernelArguments = new KernelArguments(openAIPromptExecutionSettings)\n",
    "{\n",
    "    [\"baseBallPlayer\"] = \"Mike Trout\"\n",
    "};\n",
    "\n",
    "// Now with Auto Invoking of Kernel Functions, let the magic happen\n",
    "await foreach (var streamChunk in semanticKernel.InvokePromptStreamingAsync(decisionPromptTemplateString, kernelArguments))\n",
    "{\n",
    "   Console.Write(streamChunk);\n",
    "}"
   ]
  },
  {
   "cell_type": "markdown",
   "metadata": {},
   "source": [
    "### Step 9 - Understanding Auto Function Calling Behavior  "
   ]
  },
  {
   "cell_type": "markdown",
   "metadata": {},
   "source": [
    "How does Semantic Kernel and the LLM know to call the function? What if there are multiple functions or plugins, how does LLM signal Semantic Kernel which function to call? \n",
    "\n",
    "Executing the cell below will illustrate that the invocation of the functions is not magic, but guided by the descriptions of the plugin function descriptions and parameter descriptions. Note that the Search function is described as \"Perform a Web Search\". This provides a big clue to Semantic Kernel that this a possible tool (function) to use to extract current information."
   ]
  },
  {
   "cell_type": "code",
   "execution_count": 10,
   "metadata": {
    "dotnet_interactive": {
     "language": "csharp"
    },
    "polyglot_notebook": {
     "kernelName": "csharp"
    },
    "vscode": {
     "languageId": "polyglot-notebook"
    }
   },
   "outputs": [
    {
     "name": "stdout",
     "output_type": "stream",
     "text": [
      "Plugin: BaseballHallOfFamePlugin\n",
      "  Function Name: GetPlayerProbabilityOfHallOfFame\n",
      "  Function Description: Retrieves a Machine Learning probability of a player being Inducted to Hall Of Fame using a the player's baseball statistics.\n",
      "    Function Parameters:\n",
      "      - baseballStatistics: The statistics of the baseball player.\n",
      "        default: ''\n",
      "\n",
      "Plugin: BaseballHallOfFamePlugin\n",
      "  Function Name: GetBaseballPlayerStats\n",
      "  Function Description: Retrieves baseball statistics for a given baseball player from historical data.\n",
      "    Function Parameters:\n",
      "      - nameOfBaseballPlayer: The name of the baseball player to search for.\n",
      "        default: ''\n",
      "\n",
      "Plugin: BaseballHallOfFamePlugin\n",
      "  Function Name: GetWebSearchResults\n",
      "  Function Description: Retrieves the web search results with identified URL sources for a given baseball player.\n",
      "    Function Parameters:\n",
      "      - nameOfBaseballPlayer: The name of the baseball player to search for.\n",
      "        default: ''\n",
      "\n"
     ]
    }
   ],
   "source": [
    "// Method for printing the functions metadata\n",
    "private void PrintFunction(KernelFunctionMetadata func)\n",
    "{\n",
    "    Console.WriteLine($\"Plugin: {func.PluginName}\");\n",
    "    Console.WriteLine($\"  Function Name: {func.Name}\");\n",
    "    Console.WriteLine($\"  Function Description: {func.Description}\");\n",
    "\n",
    "    if (func.Parameters.Count > 0)\n",
    "    {\n",
    "        Console.WriteLine(\"    Function Parameters:\");\n",
    "        foreach (var p in func.Parameters)\n",
    "        {\n",
    "            Console.WriteLine($\"      - {p.Name}: {p.Description}\");\n",
    "            Console.WriteLine($\"        default: '{p.DefaultValue}'\");\n",
    "        }\n",
    "    }\n",
    "\n",
    "    Console.WriteLine();\n",
    "}\n",
    "// Get the functions metadata\n",
    "var functions = semanticKernel.Plugins.GetFunctionsMetadata();\n",
    "\n",
    "foreach (KernelFunctionMetadata func in functions)\n",
    "{\n",
    "    PrintFunction(func);\n",
    "}"
   ]
  }
 ],
 "metadata": {
  "kernelspec": {
   "display_name": ".NET (C#)",
   "language": "C#",
   "name": ".net-csharp"
  },
  "language_info": {
   "name": "csharp"
  },
  "polyglot_notebook": {
   "kernelInfo": {
    "defaultKernelName": "csharp",
    "items": [
     {
      "aliases": [],
      "name": "csharp"
     }
    ]
   }
  }
 },
 "nbformat": 4,
 "nbformat_minor": 2
}
