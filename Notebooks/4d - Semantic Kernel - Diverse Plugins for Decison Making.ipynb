{
 "cells": [
  {
   "cell_type": "markdown",
   "metadata": {},
   "source": [
    "<img style=\"float: left;padding-right: 10px\" width =\"40px\" src=\"https://raw.githubusercontent.com/bartczernicki/DecisionIntelligence.GenAI.Workshop/main/Images/SemanticKernelLogo.png\">\n",
    "\n",
    "## Semantic Kernel - Diverse Plugins for Decison Making"
   ]
  },
  {
   "cell_type": "markdown",
   "metadata": {},
   "source": [
    "Decision Intelligence applied in this module:  \n",
    "* Using the power of Collective Intelligence (wisdom & information from multiple experts) \n",
    "* Using data statistics & analytics as source information for a decision   \n",
    "* Using Probability as a quantitative approach to validate decisions with Machine Learning  "
   ]
  },
  {
   "cell_type": "markdown",
   "metadata": {},
   "source": [
    "> \"Probability is the language of uncertainty, and it's the only language we have for communicating what we know and don't know.\"\n",
    ">\n",
    "> -- <cite>Nate Silver (famous statistician and super-forecaster)</cite> "
   ]
  },
  {
   "cell_type": "markdown",
   "metadata": {},
   "source": [
    "### Step 1 - Initialize Configuration Builder & Build the Semantic Kernel Orchestration\n",
    "\n",
    "Execute the next two cells to:\n",
    "* Use the Configuration Builder to load the API secrets\n",
    "* Use the API configuration to build the Semantic Kernel orchestrator\n",
    "* The configuration builder will retrieve the Bing Search API Key"
   ]
  },
  {
   "cell_type": "code",
   "execution_count": 1,
   "metadata": {
    "dotnet_interactive": {
     "language": "csharp"
    },
    "polyglot_notebook": {
     "kernelName": "csharp"
    },
    "vscode": {
     "languageId": "polyglot-notebook"
    }
   },
   "outputs": [
    {
     "data": {
      "text/html": [
       "<div><div></div><div></div><div><strong>Installed Packages</strong><ul><li><span>Microsoft.Bing.Search.WebSearch, 1.0.0</span></li><li><span>Microsoft.Extensions.Configuration, 9.0.0</span></li><li><span>Microsoft.Extensions.Configuration.Json, 9.0.0</span></li><li><span>Microsoft.Extensions.ML, 4.0.0</span></li><li><span>Microsoft.ML, 4.0.0</span></li><li><span>Microsoft.ML.FastTree, 4.0.0</span></li><li><span>Microsoft.SemanticKernel, 1.32.0</span></li><li><span>Microsoft.SemanticKernel.Plugins.Core, 1.32.0-alpha</span></li><li><span>Microsoft.SemanticKernel.Plugins.Web, 1.32.0-alpha</span></li></ul></div></div>"
      ]
     },
     "metadata": {},
     "output_type": "display_data"
    }
   ],
   "source": [
    "#r \"nuget: Microsoft.Extensions.Configuration, 9.0.0\"\n",
    "#r \"nuget: Microsoft.Extensions.Configuration.Json, 9.0.0\"\n",
    "#r \"nuget: Microsoft.SemanticKernel, 1.32.0\"\n",
    "#r \"nuget: Microsoft.SemanticKernel.Plugins.Core, 1.32.0-alpha\"\n",
    "#r \"nuget: Microsoft.SemanticKernel.Plugins.Web, 1.32.0-alpha\"\n",
    "#r \"nuget: Microsoft.Bing.Search.WebSearch, 1.0.0\"\n",
    "#r \"nuget: Microsoft.ML, 4.0.0\"\n",
    "#r \"nuget: Microsoft.ML.FastTree, 4.0.0\"\n",
    "#r \"nuget: Microsoft.Extensions.ML, 4.0.0\"\n",
    "\n",
    "using Microsoft.Extensions.Configuration;\n",
    "using Microsoft.SemanticKernel;\n",
    "using Microsoft.SemanticKernel.ChatCompletion;\n",
    "using Microsoft.SemanticKernel.Connectors.OpenAI;\n",
    "using Microsoft.Bing.WebSearch;\n",
    "using System.ComponentModel;\n",
    "using System.IO;\n",
    "\n",
    "var configurationBuilder = new ConfigurationBuilder()\n",
    "    .SetBasePath(Directory.GetCurrentDirectory())\n",
    "    .AddJsonFile(\"local.settings.json\", optional: true, reloadOnChange: true)\n",
    "    .AddJsonFile(\"secrets.settings.json\", optional: true, reloadOnChange: true);\n",
    "var config = configurationBuilder.Build();\n",
    "\n",
    "// IMPORTANT: You ONLY NEED either Azure OpenAI or OpenAI connectiopn info, not both.\n",
    "// Azure OpenAI Connection Info\n",
    "var azureOpenAIEndpoint = config[\"AzureOpenAI:Endpoint\"];\n",
    "var azureOpenAIAPIKey = config[\"AzureOpenAI:APIKey\"];\n",
    "var azureOpenAIModelDeploymentName = config[\"AzureOpenAI:ModelDeploymentName\"];\n",
    "// OpenAI Connection Info \n",
    "var openAIAPIKey = config[\"OpenAI:APIKey\"];\n",
    "var openAIModelId = config[\"OpenAI:ModelId\"];"
   ]
  },
  {
   "cell_type": "code",
   "execution_count": 2,
   "metadata": {
    "dotnet_interactive": {
     "language": "csharp"
    },
    "polyglot_notebook": {
     "kernelName": "csharp"
    },
    "vscode": {
     "languageId": "polyglot-notebook"
    }
   },
   "outputs": [
    {
     "name": "stdout",
     "output_type": "stream",
     "text": [
      "Using Azure OpenAI Service\n"
     ]
    }
   ],
   "source": [
    "Kernel semanticKernel;\n",
    "\n",
    "// Set the flag to use Azure OpenAI or OpenAI. False to use OpenAI, True to use Azure OpenAI\n",
    "var useAzureOpenAI = true;\n",
    "\n",
    "// Create a new Semantic Kernel instance\n",
    "if (useAzureOpenAI)\n",
    "{\n",
    "    Console.WriteLine(\"Using Azure OpenAI Service\");\n",
    "    semanticKernel = Kernel.CreateBuilder()\n",
    "        .AddAzureOpenAIChatCompletion(\n",
    "            deploymentName: azureOpenAIModelDeploymentName,\n",
    "            endpoint: azureOpenAIEndpoint,\n",
    "            apiKey: azureOpenAIAPIKey)\n",
    "        .Build();\n",
    "}\n",
    "else\n",
    "{\n",
    "    Console.WriteLine(\"Using OpenAI Service\");\n",
    "    semanticKernel = Kernel.CreateBuilder()\n",
    "        .AddOpenAIChatCompletion(\n",
    "            modelId: openAIModelId,\n",
    "            apiKey: openAIAPIKey)\n",
    "        .Build();\n",
    "}\n",
    "\n",
    "// Import the BaseballHallOfFamePlugin.cs file\n",
    "#!import ../Classes/BaseballHallOfFamePlugin.cs\n",
    "\n",
    "// Add the native plugin with the three native functions to the semantic kernel\n",
    "semanticKernel.ImportPluginFromType<BaseballHallOfFamePlugin>();"
   ]
  },
  {
   "cell_type": "markdown",
   "metadata": {},
   "source": [
    "### Step 2 - Introduce Sports Decision Scenario \n",
    "\n",
    "<img width =\"1024x\" src=\"https://raw.githubusercontent.com/bartczernicki/DecisionIntelligence.GenAI.Workshop/main/Images/SportsDecisionScenario.png\">"
   ]
  },
  {
   "cell_type": "markdown",
   "metadata": {},
   "source": [
    "### Step 3 - Background Information"
   ]
  },
  {
   "cell_type": "markdown",
   "metadata": {},
   "source": [
    "Execute the cell below to understand what type of collective information will be used to help the GenAI model make the decsion. In addition to the internet (knowledge graph) shown in previous modules, historical baseball statistic and Machine Learning models exposing a quantitative probability are available.  "
   ]
  },
  {
   "cell_type": "code",
   "execution_count": 3,
   "metadata": {
    "dotnet_interactive": {
     "language": "csharp"
    },
    "polyglot_notebook": {
     "kernelName": "csharp"
    },
    "vscode": {
     "languageId": "polyglot-notebook"
    }
   },
   "outputs": [
    {
     "name": "stdout",
     "output_type": "stream",
     "text": [
      "Mike Trout Stats From Historical Data (end of 2023 season):\n",
      "FullPlayerName:Mike Trout, YearPlayed:13, AB:5402\n",
      "        R:1106, H:1624, Doubles:310, Triples:52, HR:368, RBI:940, SB:206,\n",
      "        BattingAvg:0.301, Slg:0.582, AllStar:11,\n",
      "        TB:3142, LastYearPlayed:2023, ID:troutmi01\n",
      "--------------------\n",
      "Mike Trout Probabibitiy of being inducted to Hall Of Fame From ML Model:\n",
      "94.55%\n"
     ]
    }
   ],
   "source": [
    "// Background Information on what is happening & components\n",
    "\n",
    "// 1) Directory of the historical baseball data statistics\n",
    "string filePathMLBBaseballBatters = Directory.GetParent(Directory.GetCurrentDirectory()) + \"/Data/MLBBaseballBattersPositionPlayers.csv\";\n",
    "// Read the batters data from the CSV file\n",
    "var batters = File.ReadAllLines(filePathMLBBaseballBatters)\n",
    "                        .Skip(1)\n",
    "                        .Select(v => MLBBaseballBatter.FromCsv(v))\n",
    "                        .ToList();\n",
    "\n",
    "// 2) A custom decision rules engine crafted by a Machine Learning model\n",
    "// Machine Learing Model and Prediction Engine                       \n",
    "string modelPath = Directory.GetParent(Directory.GetCurrentDirectory()) + \"/Models/InductedToHoF-GeneralizedAdditiveModels.mlnet\";\n",
    "var mlContext = new MLContext(seed: 100);\n",
    "ITransformer loadedModel;\n",
    "DataViewSchema schema;\n",
    "\n",
    "using (var stream = File.OpenRead(modelPath))\n",
    "{\n",
    "    loadedModel = mlContext.Model.Load(stream, out schema);\n",
    "}\n",
    "TransformerChain<ITransformer> transfomerChain = (TransformerChain<ITransformer>)loadedModel;\n",
    "\n",
    "var predEngineInductedToHallOfFame = mlContext.Model.CreatePredictionEngine<MLBBaseballBatter, MLBHOFPrediction>(transfomerChain);\n",
    "\n",
    "// 3) Predict if Mike Trout will be inducted to the Hall of Fame\n",
    "var mikeTroutStats = batters.Where(b => b.FullPlayerName == \"Mike Trout\").FirstOrDefault();\n",
    "Console.WriteLine(\"Mike Trout Stats From Historical Data (end of 2023 season):\");\n",
    "Console.WriteLine(mikeTroutStats.ToString());\n",
    "var prediction = predEngineInductedToHallOfFame.Predict(mikeTroutStats);\n",
    "Console.WriteLine(\"--------------------\");\n",
    "Console.WriteLine(\"Mike Trout Probabibitiy of being inducted to Hall Of Fame From ML Model:\");\n",
    "Console.WriteLine($\"{prediction.Probability:P2}\");"
   ]
  },
  {
   "cell_type": "markdown",
   "metadata": {},
   "source": [
    "### Step 4 - Hall of Fame Decision - Only using Web Search Results "
   ]
  },
  {
   "cell_type": "markdown",
   "metadata": {},
   "source": [
    "Execute the cell below to have GenAI perform a decision recommendation on whether Mike Trout should make the baseball Hall Of Fame using current internet information only.\n",
    "\n",
    "**Notice the instruction in the prompt is to only use the web search results.** While there might be multiple functions available to the GenAI model via the imported plugin, the prompt instruction is to use only the single \"tool\" at it's disposal. Therefore, historical baseball statistics and the Machine Learning model probabilities will not be used.  \n",
    "\n",
    "After executing the code below, notice that the GenAI model has gathered intelligence using Bing. This intelligence about Mike Trout's baseball hall of fame candidacy is provides additional intelligence context. Finally, the LLM provides the information it has gathered, cites its sources and arrives at a decision (conclusion)."
   ]
  },
  {
   "cell_type": "code",
   "execution_count": 5,
   "metadata": {
    "dotnet_interactive": {
     "language": "csharp"
    },
    "polyglot_notebook": {
     "kernelName": "csharp"
    },
    "vscode": {
     "languageId": "polyglot-notebook"
    }
   },
   "outputs": [
    {
     "name": "stdout",
     "output_type": "stream",
     "text": [
      "Based on the web search results, here is the recommendation for determining if Mike Trout should be inducted into the Hall of Fame:\n",
      "\n",
      "1. **Eligibility and Qualification**:\n",
      "   - Mike Trout has satisfied the Hall of Fame election eligibility rule 3 (B), which requires a player to have played in each of ten Major League championship seasons. Thus, he is fully qualified to be elected once his career ends and the requisite five-year waiting period has passed [3](https://blogs.fangraphs.com/mike-trout-is-now-fully-qualified-for-the-hall-of-fame/).\n",
      "\n",
      "2. **Performance and Statistics**:\n",
      "   - Trout has had a highly productive career, being considered the best player in baseball for a significant stretch. His performance from 2012-2019 was particularly elite, and he achieved numerous accolades, including multiple MVP awards [6](https://www.baseball-reference.com/players/t/troutmi01.shtml).\n",
      "\n",
      "3. **Impact of Injuries**:\n",
      "   - Despite his impressive career, injuries have affected Trout's playing time in recent years. Since 2016, he has had only one season where he played 140 games, which might impact his legacy [4](https://www.esquire.com/sports/a60660794/mike-trout-injuries-hall-of-fame/). \n",
      "   - However, it is noted that even with these injuries, his prior performance and statistics still make him a strong candidate for the Hall of Fame [7](https://www.cbssports.com/mlb/news/mike-trouts-injuries-are-carving-into-hall-of-fame-legacy-where-angels-slugger-stacks-up-against-greats/).\n",
      "\n",
      "4. **Consensus Among Analysts**:\n",
      "   - There is a general consensus among sports analysts that Mike Trout is a lock for the Hall of Fame due to his extraordinary career achievements and impact on the game, despite recent injury issues [2](https://www.cbssports.com/mlb/news/which-current-mlb-players-will-make-the-hall-of-fame-breaking-down-seven-locks-dozens-of-others-with-a-shot/).\n",
      "\n",
      "In conclusion, based on the web search results, Mike Trout's exceptional career performance, eligibility, and general consensus among analysts support the recommendation that he should be inducted into the Hall of Fame. The injuries he has faced in recent years do not overshadow his significant contributions to the sport."
     ]
    }
   ],
   "source": [
    "// Use WebSearch to find information on Mike Trout\n",
    "\n",
    "var openAIPromptExecutionSettings = new OpenAIPromptExecutionSettings { \n",
    "    MaxTokens = 4000, \n",
    "    Temperature = 0.6, \n",
    "    TopP = 1.0, \n",
    "    FrequencyPenalty = 0.0, \n",
    "    PresencePenalty = 0.0,\n",
    "    // Enable Auto Invoking of Kernel Functions\n",
    "    ToolCallBehavior = ToolCallBehavior.AutoInvokeKernelFunctions\n",
    "};\n",
    "\n",
    "var decisionPromptTemplateString = \"\"\"\n",
    "What decision would you recommend in determining if {{$baseBallPlayer}} should make the hall of fame? \n",
    "Only use web search results to make your decision.\n",
    "Provide sources of information and explain your reasoning.\n",
    "Ensure to cite all the sources using [number] notation of each URL after the reference in order.\n",
    "\"\"\";\n",
    "var kernelArguments = new KernelArguments(openAIPromptExecutionSettings)\n",
    "{\n",
    "    [\"baseBallPlayer\"] = \"Mike Trout\"\n",
    "};\n",
    "\n",
    "// Now with Auto Invoking of Kernel Functions, let the magic happen\n",
    "await foreach (var streamChunk in semanticKernel.InvokePromptStreamingAsync(decisionPromptTemplateString, kernelArguments))\n",
    "{\n",
    "   Console.Write(streamChunk);\n",
    "}"
   ]
  },
  {
   "cell_type": "markdown",
   "metadata": {},
   "source": [
    "### Step 5 - Hall of Fame Decision - Only using Baseball Statistics "
   ]
  },
  {
   "cell_type": "markdown",
   "metadata": {},
   "source": [
    "Execute the cell below to have GenAI perform a decision recommendation on whether Mike Trout should make the baseball Hall Of Fame.  \n",
    "\n",
    "**Notice the instruction in the prompt instruction is to only use the historical baseball statistics.** Running the code below will gather intelligence from the local MLBBaseballBattersPositionPlayers.csv file that has historical batting statistics. Only those statistics should be used to provide further context and influence the GenAI decision whether someone should join the Hall of Fame.  "
   ]
  },
  {
   "cell_type": "code",
   "execution_count": 6,
   "metadata": {
    "dotnet_interactive": {
     "language": "csharp"
    },
    "polyglot_notebook": {
     "kernelName": "csharp"
    },
    "vscode": {
     "languageId": "polyglot-notebook"
    }
   },
   "outputs": [
    {
     "name": "stdout",
     "output_type": "stream",
     "text": [
      "Based on the historical baseball statistics of Mike Trout, here are the key points to consider:\n",
      "\n",
      "- **Years Played:** 13\n",
      "- **At Bats (AB):** 5402\n",
      "- **Runs (R):** 1106\n",
      "- **Hits (H):** 1624\n",
      "- **Doubles:** 310\n",
      "- **Triples:** 52\n",
      "- **Home Runs (HR):** 368\n",
      "- **Runs Batted In (RBI):** 940\n",
      "- **Stolen Bases (SB):** 206\n",
      "- **Batting Average:** .301\n",
      "- **Slugging Percentage:** .582\n",
      "- **Total Bases (TB):** 3142\n",
      "- **All-Star Appearances:** 11\n",
      "- **Total Player Awards:** 24\n",
      "- **Last Year Played:** 2023\n",
      "\n",
      "### Analysis:\n",
      "\n",
      "1. **Batting Average and Slugging Percentage:** A career batting average of .301 and a slugging percentage of .582 are outstanding figures. These suggest that Trout was not only a consistent hitter but also a powerful one.\n",
      "\n",
      "2. **Home Runs and RBI:** With 368 home runs and 940 RBIs, Trout has demonstrated significant power and run-producing ability.\n",
      "\n",
      "3. **All-Star Appearances and Awards:** 11 All-Star appearances and 24 player awards indicate that Trout has been recognized consistently as one of the best players in the league throughout his career.\n",
      "\n",
      "4. **Stolen Bases:** 206 stolen bases show that he was also a threat on the bases, adding to his overall value as a player.\n",
      "\n",
      "5. **Longevity and Consistency:** Playing 13 years at a high level and maintaining a high batting average and slugging percentage over that time is indicative of a Hall of Fame-caliber player.\n",
      "\n",
      "### Recommendation:\n",
      "\n",
      "Based on Mike Trout's impressive career statistics, including his high batting average, slugging percentage, home run total, and numerous awards and All-Star appearances, I would recommend that Mike Trout should be inducted into the Hall of Fame. His performance and consistency over his career clearly demonstrate that he is one of the elite players in baseball history."
     ]
    }
   ],
   "source": [
    "// Use Baseball statistics to determine if Mike Trout should be inducted to the Hall of Fame\n",
    "\n",
    "var openAIPromptExecutionSettings = new OpenAIPromptExecutionSettings { \n",
    "    MaxTokens = 3000, \n",
    "    Temperature = 0.6, \n",
    "    TopP = 1.0, \n",
    "    FrequencyPenalty = 0.0, \n",
    "    PresencePenalty = 0.0,\n",
    "    // Enable Auto Invoking of Kernel Functions\n",
    "    ToolCallBehavior = ToolCallBehavior.AutoInvokeKernelFunctions\n",
    "};\n",
    "\n",
    "var decisionPromptTemplateString = \"\"\"\n",
    "What decision would you recommend in determining if {{$baseBallPlayer}} should make the hall of fame? \n",
    "Only use the historical baseball statistics to make your decision. \n",
    "Do NOT use web search results or machine learning models.\n",
    "\"\"\";\n",
    "var kernelArguments = new KernelArguments(openAIPromptExecutionSettings)\n",
    "{\n",
    "    [\"baseBallPlayer\"] = \"Mike Trout\"\n",
    "};\n",
    "\n",
    "// Now with Auto Invoking of Kernel Functions, let the magic happen\n",
    "await foreach (var streamChunk in semanticKernel.InvokePromptStreamingAsync(decisionPromptTemplateString, kernelArguments))\n",
    "{\n",
    "   Console.Write(streamChunk);\n",
    "}"
   ]
  },
  {
   "cell_type": "markdown",
   "metadata": {},
   "source": [
    "### Step 6 - Hall of Fame Decision - Only using a Machine Learning Model"
   ]
  },
  {
   "cell_type": "markdown",
   "metadata": {},
   "source": [
    "> \"The goal of probability is not to make precise predictions, but to make more accurate predictions than you would by chance.\"\n",
    ">\n",
    "> -- <cite>John Allen Paulos (famous mathmatecian and author)</cite> "
   ]
  },
  {
   "cell_type": "markdown",
   "metadata": {},
   "source": [
    "Execute the cell below to have GenAI perform a decision recommendation on whether Mike Trout should make the baseball Hall Of Fame. \n",
    "\n",
    "**Notice the instruction in the prompt is to only use the Machine Learning probability model.** Executing the code below will use a single probability number from a Machine Learning model to provide the intelligence for the GenAI to make the decision.  "
   ]
  },
  {
   "cell_type": "code",
   "execution_count": 7,
   "metadata": {
    "dotnet_interactive": {
     "language": "csharp"
    },
    "polyglot_notebook": {
     "kernelName": "csharp"
    },
    "vscode": {
     "languageId": "polyglot-notebook"
    }
   },
   "outputs": [
    {
     "name": "stdout",
     "output_type": "stream",
     "text": [
      "Based on the machine learning probability, Mike Trout has a 94.55% chance of being inducted into the Hall of Fame. Given this high probability, I would recommend that Mike Trout should make the Hall of Fame."
     ]
    }
   ],
   "source": [
    "// Use Machine Learning Prediction to determine if Mike Trout should be inducted to the Hall of Fame\n",
    "\n",
    "var openAIPromptExecutionSettings = new OpenAIPromptExecutionSettings { \n",
    "    MaxTokens = 3000, \n",
    "    Temperature = 0.6, \n",
    "    TopP = 1.0, \n",
    "    FrequencyPenalty = 0.0, \n",
    "    PresencePenalty = 0.0,\n",
    "    // Enable Auto Invoking of Kernel Functions\n",
    "    ToolCallBehavior = ToolCallBehavior.AutoInvokeKernelFunctions\n",
    "};\n",
    "\n",
    "var decisionPromptTemplateString = \"\"\"\n",
    "What decision would you recommend in determining if {{$baseBallPlayer}} should make the Hall of Fame? \n",
    "Only use the machine learning probability for Hall Of Fame Induction to make your decision.\n",
    "\"\"\";\n",
    "var kernelArguments = new KernelArguments(openAIPromptExecutionSettings)\n",
    "{\n",
    "    [\"baseBallPlayer\"] = \"Mike Trout\"\n",
    "};\n",
    "\n",
    "// Now with Auto Invoking of Kernel Functions, let the magic happen\n",
    "await foreach (var streamChunk in semanticKernel.InvokePromptStreamingAsync(decisionPromptTemplateString, kernelArguments))\n",
    "{\n",
    "   Console.Write(streamChunk);\n",
    "}"
   ]
  },
  {
   "cell_type": "markdown",
   "metadata": {},
   "source": [
    "### Step 7 - Hall of Fame Decision - Using all of the Available Tools (functions)"
   ]
  },
  {
   "cell_type": "markdown",
   "metadata": {},
   "source": [
    "Execute the cell below to have GenAI perform a decision recommendation on whether Mike Trout should make the baseball Hall Of Fame. \n",
    "\n",
    "**Notice the instruction in the prompt is to use all of the tools available.** The example below will gather intelligence from: The Internet (Bing Service), Historical Statistics and Machine Learning model. "
   ]
  },
  {
   "cell_type": "code",
   "execution_count": 8,
   "metadata": {
    "dotnet_interactive": {
     "language": "csharp"
    },
    "polyglot_notebook": {
     "kernelName": "csharp"
    },
    "vscode": {
     "languageId": "polyglot-notebook"
    }
   },
   "outputs": [
    {
     "name": "stdout",
     "output_type": "stream",
     "text": [
      "Based on the available data and analysis, I recommend that Mike Trout should be considered for induction into the Baseball Hall of Fame. Here are the key points that support this decision:\n",
      "\n",
      "1. **Career Statistics**: Mike Trout has an impressive set of career statistics:\n",
      "   - **Years Played**: 13\n",
      "   - **At Bats (AB)**: 5402\n",
      "   - **Runs (R)**: 1106\n",
      "   - **Hits (H)**: 1624\n",
      "   - **Doubles**: 310\n",
      "   - **Triples**: 52\n",
      "   - **Home Runs (HR)**: 368\n",
      "   - **Runs Batted In (RBI)**: 940\n",
      "   - **Stolen Bases (SB)**: 206\n",
      "   - **Batting Average**: .301\n",
      "   - **Slugging Percentage**: .582\n",
      "   - **Total Bases (TB)**: 3142\n",
      "   - **All-Star Appearances**: 11\n",
      "   - **Total Player Awards**: 24\n",
      "\n",
      "2. **Probability of Hall of Fame Induction**: The machine learning model estimates a 94.55% probability that Mike Trout will be inducted into the Hall of Fame based on his career statistics.\n",
      "\n",
      "3. **Web Search Results**:\n",
      "   - **Health and Performance**: While Mike Trout has faced some injury challenges in recent years, his performance during his healthy periods has been exceptional, which solidifies his case for the Hall of Fame[1][4][7].\n",
      "   - **Eligibility**: Trout has met the eligibility criteria for the Hall of Fame, having played in at least ten Major League championship seasons[3].\n",
      "   - **Expert Opinions**: Multiple sources and experts consider Trout as a strong candidate for the Hall of Fame, often placing him among the top players of his generation[2][5][6][8].\n",
      "\n",
      "Given the combination of his outstanding career statistics, high probability of induction, and strong support from various sources, it is clear that Mike Trout has made a significant impact on the game of baseball and deserves to be inducted into the Hall of Fame.\n",
      "\n",
      "### References\n",
      "1. [LA Times](https://www.latimes.com/sports/story/2024-08-01/mike-trout-out-for-season-meniscus-tear-hof-chances)\n",
      "2. [CBS Sports](https://www.cbssports.com/mlb/news/which-current-mlb-players-will-make-the-hall-of-fame-breaking-down-seven-locks-dozens-of-others-with-a-shot/)\n",
      "3. [FanGraphs](https://blogs.fangraphs.com/mike-trout-is-now-fully-qualified-for-the-hall-of-fame/)\n",
      "4. [Esquire](https://www.esquire.com/sports/a60660794/mike-trout-injuries-hall-of-fame/)\n",
      "5. [The New York Times](https://www.nytimes.com/athletic/5615041/2024/07/05/baseball-hall-of-fame-active-players-hof-case/)\n",
      "6. [Baseball-Reference](https://www.baseball-reference.com/players/t/troutmi01.shtml)\n",
      "7. [CBS Sports](https://www.cbssports.com/mlb/news/mike-trouts-injuries-are-carving-into-hall-of-fame-legacy-where-angels-slugger-stacks-up-against-greats/)\n",
      "8. [Sports Illustrated](https://www.si.com/mlb/2023/01/19/hall-of-fame-candidates-30-and-older)"
     ]
    }
   ],
   "source": [
    "// Use all of the available tools (functions) to determine if Mike Trout should be inducted to the Hall of Fame\n",
    "\n",
    "var openAIPromptExecutionSettings = new OpenAIPromptExecutionSettings { \n",
    "    MaxTokens = 3000, \n",
    "    Temperature = 0.6, \n",
    "    TopP = 1.0, \n",
    "    FrequencyPenalty = 0.0, \n",
    "    PresencePenalty = 0.0,\n",
    "    // Enable Auto Invoking of Kernel Functions\n",
    "    ToolCallBehavior = ToolCallBehavior.AutoInvokeKernelFunctions\n",
    "};\n",
    "\n",
    "var decisionPromptTemplateString = \"\"\"\n",
    "What decision would you recommend in determining if {{$baseBallPlayer}} should make the hall of fame? \n",
    "Use all of the tools available at your disposal to arrive at a comprehensive decision.\n",
    "You must cite all the sources using [number] notation of each URL after the reference in order.\n",
    "The sources should appear in order on the bottom of the decision.\n",
    "\"\"\";\n",
    "var kernelArguments = new KernelArguments(openAIPromptExecutionSettings)\n",
    "{\n",
    "    [\"baseBallPlayer\"] = \"Mike Trout\"\n",
    "};\n",
    "\n",
    "// Now with Auto Invoking of Kernel Functions, let the magic happen\n",
    "await foreach (var streamChunk in semanticKernel.InvokePromptStreamingAsync(decisionPromptTemplateString, kernelArguments))\n",
    "{\n",
    "   Console.Write(streamChunk);\n",
    "}"
   ]
  },
  {
   "cell_type": "markdown",
   "metadata": {},
   "source": [
    "### Step 8 - Hall of Fame Decision - Adding Chain Of Thought Advanced Reasoning"
   ]
  },
  {
   "cell_type": "markdown",
   "metadata": {
    "dotnet_interactive": {
     "language": "csharp"
    },
    "polyglot_notebook": {
     "kernelName": "csharp"
    }
   },
   "source": [
    "Execute the cell below to have GenAI perform a decision recommendation on whether Mike Trout should make the baseball Hall of Fame.\n",
    "\n",
    "The Prompt Instructions below include a deep reasoning framework on howto approach this problem, self-reflect and try different approaches. As was shown above the GenAI model has access to all of the tools used above (internet, historical data, historical baseball statistics).  \n",
    "\n",
    "Contrast the execution results below with the previous results in this module. The GenAI model just doesn't gather intelligence and cite it when making a decision; the GenAI model now includes a deep reasoning process on how it has constructed the decision framework to arrive at the final decision.  Notice the outlined steps, the functions the GenAI model intends to call, scores itself etc. as part of the decision framework.  "
   ]
  },
  {
   "cell_type": "code",
   "execution_count": 9,
   "metadata": {
    "dotnet_interactive": {
     "language": "csharp"
    },
    "polyglot_notebook": {
     "kernelName": "csharp"
    },
    "vscode": {
     "languageId": "polyglot-notebook"
    }
   },
   "outputs": [
    {
     "name": "stdout",
     "output_type": "stream",
     "text": [
      "<thinking> \n",
      "To determine if Mike Trout should make the Hall of Fame, we need to gather comprehensive information about his career and performance. \n",
      "We can use the available tools to:\n",
      "1. Retrieve Mike Trout's baseball statistics.\n",
      "2. Retrieve web search results for additional context and opinions.\n",
      "3. Use a Machine Learning model to get a probability of Mike Trout being inducted into the Hall of Fame based on his statistics.\n",
      "\n",
      "The steps will involve:\n",
      "1. Fetching Mike Trout's baseball statistics.\n",
      "2. Fetching web search results for additional context.\n",
      "3. Using the Machine Learning model to get a probability of Hall of Fame induction based on the statistics.\n",
      "4. Analyzing the gathered data to make a decision.\n",
      "\n",
      "Let's proceed with these steps systematically.\n",
      "</thinking>\n",
      "\n",
      "<step> \n",
      "Fetch Mike Trout's baseball statistics using the available tool.\n",
      "</step> \n",
      "<count>19</count> \n",
      "\n",
      "<step> \n",
      "Fetch web search results for Mike Trout to gather additional context and opinions.\n",
      "</step> \n",
      "<count>18</count> \n",
      "\n",
      "<step> \n",
      "Use the Machine Learning model to get a probability of Mike Trout being inducted into the Hall of Fame based on his statistics.\n",
      "</step> \n",
      "<count>17</count> \n",
      "\n",
      "<step> \n",
      "Analyze the gathered data and summarize the decision based on the findings.\n",
      "</step> \n",
      "<count>16</count> \n",
      "\n",
      "<multi_tool_use.parallel> \n",
      "{\n",
      "  \"tool_uses\": [\n",
      "    {\n",
      "      \"recipient_name\": \"functions.BaseballHallOfFamePlugin-GetBaseballPlayerStats\",\n",
      "      \"parameters\": {\n",
      "        \"nameOfBaseballPlayer\": \"Mike Trout\"\n",
      "      }\n",
      "    },\n",
      "    {\n",
      "      \"recipient_name\": \"functions.BaseballHallOfFamePlugin-GetWebSearchResults\",\n",
      "      \"parameters\": {\n",
      "        \"nameOfBaseballPlayer\": \"Mike Trout\"\n",
      "      }\n",
      "    }\n",
      "  ]\n",
      "}\n",
      "</multi_tool_use.parallel> \n",
      "<thinking> \n",
      "We have requested Mike Trout's baseball statistics and web search results to gather additional context. Once we have these results, we can proceed to use the Machine Learning model to get a probability of Hall of Fame induction and analyze the data.\n",
      "\n",
      "Let's wait for the results of the parallel tool usage to proceed further.\n",
      "</thinking>"
     ]
    }
   ],
   "source": [
    "// Use all of the available tools (functions) to determine if Mike Trout should be inducted to the Hall of Fame\n",
    "\n",
    "var openAIPromptExecutionSettings = new OpenAIPromptExecutionSettings { \n",
    "    MaxTokens = 3000, \n",
    "    Temperature = 0.6, \n",
    "    TopP = 1.0, \n",
    "    FrequencyPenalty = 0.0, \n",
    "    PresencePenalty = 0.0,\n",
    "    // Enable Auto Invoking of Kernel Functions\n",
    "    ToolCallBehavior = ToolCallBehavior.AutoInvokeKernelFunctions\n",
    "};\n",
    "\n",
    "var decisionPromptTemplateString = \"\"\"\n",
    "You will be provided a question below.  \n",
    "Begin by enclosing all thoughts within <thinking> tags, exploring multiple angles and approaches.\n",
    "Break down the solution into clear steps within <step> tags. Start with a 20-step budget, requesting more for complex problems if needed.\n",
    "Use <count> tags after each step to show the remaining budget. Stop when reaching 0.\n",
    "Continuously adjust your reasoning based on intermediate results and reflections, adapting your strategy as you progress.\n",
    "Regularly evaluate progress using <reflection> tags. Be critical and honest about your reasoning process.\n",
    "Assign a quality score between 0.0 and 1.0 using <reward> tags after each reflection. Use this to guide your approach:\n",
    "\n",
    "0.8+: Continue current approach\n",
    "0.5-0.7: Consider minor adjustments\n",
    "Below 0.5: Seriously consider backtracking and trying a different approach\n",
    "\n",
    "If unsure or if reward score is low, backtrack and try a different approach, explaining your decision within <thinking> tags.\n",
    "For mathematical problems, show all work explicitly using LaTeX for formal notation and provide detailed proofs.\n",
    "Explore multiple solutions individually if possible, comparing approaches in reflections. Use thoughts as a scratchpad, writing out all calculations and reasoning explicitly.\n",
    "Synthesize the final answer within <answer> tags, providing a clear, concise summary.\n",
    "Conclude with a final reflection on the overall solution, discussing effectiveness, challenges, and solutions. Assign a final reward score.\n",
    "\n",
    "Question:\n",
    "What decision would you recommend in determining if {{$baseBallPlayer}} should make the hall of fame? \n",
    "Use all of the tools available at your disposal to arrive at a comprehensive decision.\n",
    "\"\"\";\n",
    "var kernelArguments = new KernelArguments(openAIPromptExecutionSettings)\n",
    "{\n",
    "    [\"baseBallPlayer\"] = \"Mike Trout\"\n",
    "};\n",
    "\n",
    "// Now with Auto Invoking of Kernel Functions, let the magic happen\n",
    "await foreach (var streamChunk in semanticKernel.InvokePromptStreamingAsync(decisionPromptTemplateString, kernelArguments))\n",
    "{\n",
    "   Console.Write(streamChunk);\n",
    "}"
   ]
  },
  {
   "cell_type": "markdown",
   "metadata": {},
   "source": [
    "### Step 9 - Understanding Auto Function Calling Behavior  "
   ]
  },
  {
   "cell_type": "markdown",
   "metadata": {},
   "source": [
    "How does Semantic Kernel and the LLM know to call the function? What if there are multiple functions or plugins, how does LLM signal Semantic Kernel which function to call? \n",
    "\n",
    "Executing the cell below will illustrate that the invocation of the functions is not magic, but guided by the descriptions of the plugin function descriptions and parameter descriptions. Note that the Search function is described as \"Perform a Web Search\". This provides a big clue to Semantic Kernel that this a possible tool (function) to use to extract current information."
   ]
  },
  {
   "cell_type": "code",
   "execution_count": 10,
   "metadata": {
    "dotnet_interactive": {
     "language": "csharp"
    },
    "polyglot_notebook": {
     "kernelName": "csharp"
    },
    "vscode": {
     "languageId": "polyglot-notebook"
    }
   },
   "outputs": [
    {
     "name": "stdout",
     "output_type": "stream",
     "text": [
      "Plugin: BaseballHallOfFamePlugin\n",
      "  Function Name: GetPlayerProbabilityOfHallOfFame\n",
      "  Function Description: Retrieves a Machine Learning probability of a player being Inducted to Hall Of Fame using a the player's baseball statistics.\n",
      "    Function Parameters:\n",
      "      - baseballStatistics: The statistics of the baseball player.\n",
      "        default: ''\n",
      "\n",
      "Plugin: BaseballHallOfFamePlugin\n",
      "  Function Name: GetBaseballPlayerStats\n",
      "  Function Description: Retrieves baseball statistics for a given baseball player from historical data.\n",
      "    Function Parameters:\n",
      "      - nameOfBaseballPlayer: The name of the baseball player to search for.\n",
      "        default: ''\n",
      "\n",
      "Plugin: BaseballHallOfFamePlugin\n",
      "  Function Name: GetWebSearchResults\n",
      "  Function Description: Retrieves the web search results with identified URL sources for a given baseball player.\n",
      "    Function Parameters:\n",
      "      - nameOfBaseballPlayer: The name of the baseball player to search for.\n",
      "        default: ''\n",
      "\n"
     ]
    }
   ],
   "source": [
    "// Method for printing the functions metadata\n",
    "private void PrintFunction(KernelFunctionMetadata func)\n",
    "{\n",
    "    Console.WriteLine($\"Plugin: {func.PluginName}\");\n",
    "    Console.WriteLine($\"  Function Name: {func.Name}\");\n",
    "    Console.WriteLine($\"  Function Description: {func.Description}\");\n",
    "\n",
    "    if (func.Parameters.Count > 0)\n",
    "    {\n",
    "        Console.WriteLine(\"    Function Parameters:\");\n",
    "        foreach (var p in func.Parameters)\n",
    "        {\n",
    "            Console.WriteLine($\"      - {p.Name}: {p.Description}\");\n",
    "            Console.WriteLine($\"        default: '{p.DefaultValue}'\");\n",
    "        }\n",
    "    }\n",
    "\n",
    "    Console.WriteLine();\n",
    "}\n",
    "// Get the functions metadata\n",
    "var functions = semanticKernel.Plugins.GetFunctionsMetadata();\n",
    "\n",
    "foreach (KernelFunctionMetadata func in functions)\n",
    "{\n",
    "    PrintFunction(func);\n",
    "}"
   ]
  }
 ],
 "metadata": {
  "kernelspec": {
   "display_name": ".NET (C#)",
   "language": "C#",
   "name": ".net-csharp"
  },
  "language_info": {
   "name": "csharp"
  },
  "polyglot_notebook": {
   "kernelInfo": {
    "defaultKernelName": "csharp",
    "items": [
     {
      "aliases": [],
      "name": "csharp"
     }
    ]
   }
  }
 },
 "nbformat": 4,
 "nbformat_minor": 2
}
