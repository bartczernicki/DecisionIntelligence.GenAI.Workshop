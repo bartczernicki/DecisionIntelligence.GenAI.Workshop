{
 "cells": [
  {
   "cell_type": "markdown",
   "metadata": {},
   "source": [
    "<img style=\"float: left;padding-right: 10px\" width =\"40px\" src=\"https://raw.githubusercontent.com/bartczernicki/DecisionIntelligence.GenAI.Workshop/main/Images/SemanticKernelLogo.png\">\n",
    "\n",
    "## Semantic Kernel - Simple Decision Prompts"
   ]
  },
  {
   "cell_type": "markdown",
   "metadata": {},
   "source": [
    "Decision Intelligence applied in this module:  \n",
    "* Listing of various decision-making frameworks and with their descriptions by using GenAI prompt engineering  \n",
    "* Creating custom AI personas with a system decision prompt  \n",
    "* Generating decision outputs using easier to consume formats (Markdown)     \n",
    "\n",
    "Prompts are the fundemental building block to getting the proper responses from AI models. This module demonstrates how to use common prompt engineering techniques while using Semantic Kernel. If you've ever used ChatGPT or Microsoft Copilot, you're already familiar with prompting. Given a prompt instruction, an LLM will attempt to predict the most likely response. With Semantic Kernel, you can craft applications, services & APIs that execute prompts.  \n",
    "\n",
    "For more information on using prompts with Semantic Kernel, visit: https://learn.microsoft.com/en-us/semantic-kernel/prompts/your-first-prompt  \n",
    "\n",
    "The process of carefully crafting questions or instructions for AI is called **Prompt Engineering**. Prompt Engineering involves designing and refining input prompts—text or questions—so that the AI produces responses that are more relevant, useful, or accurate. The goal of prompt engineering is to \"tune\" the prompt in a way that maximizes the quality and clarity of the AI's response, often using specific wording, context, or examples within the prompt itself.\n",
    "\n",
    "Decision Intelligence and Prompt Engineering techniques can be combined to created \"Generative AI Decision Intellignce\"! This can leverage GenAI models to reason over complex tasks, gather intelligence for decisions, recommend decisions, communicate decisions etc. "
   ]
  },
  {
   "cell_type": "markdown",
   "metadata": {},
   "source": [
    "### Step 1 - Initialize Configuration Builder & Build the Semantic Kernel Orchestration "
   ]
  },
  {
   "cell_type": "markdown",
   "metadata": {},
   "source": [
    "Execute the next two cells to:\n",
    "* Use the Configuration Builder to load the API secrets.  \n",
    "* Use the API configuration to build the Semantic Kernel orchestrator."
   ]
  },
  {
   "cell_type": "code",
   "execution_count": 1,
   "metadata": {
    "dotnet_interactive": {
     "language": "csharp"
    },
    "polyglot_notebook": {
     "kernelName": "csharp"
    },
    "vscode": {
     "languageId": "polyglot-notebook"
    }
   },
   "outputs": [
    {
     "data": {
      "text/html": [
       "<div><div></div><div></div><div><strong>Installed Packages</strong><ul><li><span>Microsoft.Extensions.Configuration, 9.0.0</span></li><li><span>Microsoft.Extensions.Configuration.Json, 9.0.0</span></li></ul></div></div>"
      ]
     },
     "metadata": {},
     "output_type": "display_data"
    }
   ],
   "source": [
    "// Import the required NuGet configuration packages\n",
    "#r \"nuget: Microsoft.Extensions.Configuration, 9.0.0\"\n",
    "#r \"nuget: Microsoft.Extensions.Configuration.Json, 9.0.0\"\n",
    "\n",
    "using Microsoft.Extensions.Configuration.Json;\n",
    "using Microsoft.Extensions.Configuration;\n",
    "using System.IO;\n",
    "\n",
    "// Load the configuration settings from the local.settings.json and secrets.settings.json files\n",
    "// The secrets.settings.json file is used to store sensitive information such as API keys\n",
    "var configurationBuilder = new ConfigurationBuilder()\n",
    "    .SetBasePath(Directory.GetCurrentDirectory())\n",
    "    .AddJsonFile(\"local.settings.json\", optional: true, reloadOnChange: true)\n",
    "    .AddJsonFile(\"secrets.settings.json\", optional: true, reloadOnChange: true);\n",
    "var config = configurationBuilder.Build();\n",
    "\n",
    "// IMPORTANT: You ONLY NEED either Azure OpenAI or OpenAI connectiopn info, not both.\n",
    "// Azure OpenAI Connection Info\n",
    "var azureOpenAIEndpoint = config[\"AzureOpenAI:Endpoint\"];\n",
    "var azureOpenAIAPIKey = config[\"AzureOpenAI:APIKey\"];\n",
    "var azureOpenAIModelDeploymentName = config[\"AzureOpenAI:ModelDeploymentName\"];\n",
    "// OpenAI Connection Info \n",
    "var openAIAPIKey = config[\"OpenAI:APIKey\"];\n",
    "var openAIModelId = config[\"OpenAI:ModelId\"];"
   ]
  },
  {
   "cell_type": "code",
   "execution_count": 2,
   "metadata": {
    "dotnet_interactive": {
     "language": "csharp"
    },
    "polyglot_notebook": {
     "kernelName": "csharp"
    },
    "vscode": {
     "languageId": "polyglot-notebook"
    }
   },
   "outputs": [
    {
     "data": {
      "text/html": [
       "<div><div></div><div></div><div><strong>Installed Packages</strong><ul><li><span>Microsoft.SemanticKernel, 1.37.0</span></li></ul></div></div>"
      ]
     },
     "metadata": {},
     "output_type": "display_data"
    },
    {
     "name": "stdout",
     "output_type": "stream",
     "text": [
      "Using Azure OpenAI Service\r\n"
     ]
    }
   ],
   "source": [
    "// Import the Semantic Kernel NuGet package\n",
    "#r \"nuget: Microsoft.SemanticKernel, 1.37\"\n",
    "\n",
    "using Microsoft.Extensions.DependencyInjection.Extensions;\n",
    "using Microsoft.Extensions.DependencyInjection;\n",
    "using Microsoft.SemanticKernel;\n",
    "using Microsoft.SemanticKernel.ChatCompletion;\n",
    "using Microsoft.SemanticKernel.Connectors.OpenAI;\n",
    "\n",
    "Kernel semanticKernel;\n",
    "\n",
    "// Set the flag to use Azure OpenAI or OpenAI. False to use OpenAI, True to use Azure OpenAI\n",
    "var useAzureOpenAI = true;\n",
    "\n",
    "// Create a new Semantic Kernel instance\n",
    "if (useAzureOpenAI)\n",
    "{\n",
    "    Console.WriteLine(\"Using Azure OpenAI Service\");\n",
    "    semanticKernel = Kernel.CreateBuilder()\n",
    "        .AddAzureOpenAIChatCompletion(\n",
    "            deploymentName: azureOpenAIModelDeploymentName,\n",
    "            endpoint: azureOpenAIEndpoint,\n",
    "            apiKey: azureOpenAIAPIKey)\n",
    "        .Build();\n",
    "}\n",
    "else\n",
    "{\n",
    "    Console.WriteLine(\"Using OpenAI Service\");\n",
    "    semanticKernel = Kernel.CreateBuilder()\n",
    "        .AddOpenAIChatCompletion(\n",
    "            modelId: openAIModelId,\n",
    "            apiKey: openAIAPIKey)\n",
    "        .Build();\n",
    "}"
   ]
  },
  {
   "cell_type": "markdown",
   "metadata": {},
   "source": [
    "### Step 2 - Execute a Decision Prompt "
   ]
  },
  {
   "cell_type": "markdown",
   "metadata": {},
   "source": [
    "Many LLMs and even SLMs have been trained on knowledge that includes decision frameworks & processes. This makes LLMs great assistants to:\n",
    "* Provide proper Decision Frames\n",
    "* Gather Intelligence (information) in order to make a decision\n",
    "* Recommend Decision Frameworks to make a high-quality decision\n",
    "* Provide feedback to evaluate a Decision\n",
    "\n",
    "Once the Semantic Kernel instance is built, it is ready to intake prompt instructions. In the prompt below, the Semantic Kernel is instructed to provide examples of decision frameworks \"trained into\" the knowledge of the configured AI model.  "
   ]
  },
  {
   "cell_type": "code",
   "execution_count": 3,
   "metadata": {
    "dotnet_interactive": {
     "language": "csharp"
    },
    "polyglot_notebook": {
     "kernelName": "csharp"
    },
    "vscode": {
     "languageId": "polyglot-notebook"
    }
   },
   "outputs": [
    {
     "name": "stdout",
     "output_type": "stream",
     "text": [
      "Here are five decision-making frameworks that are widely considered effective in enhancing the quality of decisions:\n",
      "\n",
      "1. **SWOT Analysis (Strengths, Weaknesses, Opportunities, and Threats)**  \n",
      "   - **Description**: SWOT Analysis helps evaluate internal and external factors affecting a decision. Strengths and weaknesses assess internal capabilities, while opportunities and threats examine the external environment.  \n",
      "   - **How It Supports Better Analysis**: By systematically analyzing these four dimensions, this framework ensures a balanced assessment, promotes strategic thinking, and clarifies factors that influence decision outcomes in scenarios like business planning or entering new markets.\n",
      "\n",
      "2. **Cost-Benefit Analysis (CBA)**  \n",
      "   - **Description**: CBA involves comparing the estimated costs and benefits of a decision to determine whether the benefits outweigh the costs.  \n",
      "   - **How It Supports Better Analysis**: This quantitative approach ensures logical evaluation of alternatives, identifies the most efficient use of resources, and helps prioritize initiatives, making it ideal for financial, resource-related, or project-based decisions.\n",
      "\n",
      "3. **The Eisenhower Matrix (Urgent-Important Matrix)**  \n",
      "   - **Description**: This framework categorizes tasks or decisions based on their urgency and importance into four quadrants: Important and Urgent, Important but Not Urgent, Urgent but Not Important, and Not Urgent or Important.  \n",
      "   - **How It Supports Better Analysis**: It enhances time management and prioritization by focusing attention on critical tasks while delegating or eliminating less important ones, aiding productivity in personal or professional settings.\n",
      "\n",
      "4. **Pros and Cons List**  \n",
      "   - **Description**: This simple yet effective method involves listing the advantages (pros) and disadvantages (cons) of a decision to compare trade-offs.  \n",
      "   - **How It Supports Better Analysis**: By organizing opposing arguments or factors, this framework sharpens reasoning, minimizes biases, and clarifies the relative merits of a choice, especially in less complex or personal decision scenarios.\n",
      "\n",
      "5. **The Six Thinking Hats**  \n",
      "   - **Description**: Developed by Edward de Bono, this framework assigns different \"hats\" (perspectives) to explore a decision from multiple angles: facts, emotions, negatives, positives, creativity, and process/control.  \n",
      "   - **How It Supports Better Analysis**: It promotes comprehensive thinking by requiring consideration of diverse viewpoints and dimensions, ensuring holistic analysis and innovative problem-solving for group or individual decisions in complex settings.\n",
      "\n",
      "Each of these frameworks provides a structured methodology to assess options and outcomes, reduce biases, and approach decisions with clarity and purpose. Their adaptability makes them valuable in a variety of personal, business, and strategic contexts.\r\n"
     ]
    }
   ],
   "source": [
    "// A new decision prompt to help with describing decision-making frameworks\n",
    "var simpleDecisionPrompt = \"\"\"\n",
    "Identify and list 5 decision-making frameworks that can enhance the quality of decisions. \n",
    "Briefly describe how each decision-making framework supports better analysis and reasoning in various scenarios.\n",
    "\"\"\";\n",
    "\n",
    "var simplePromptResponse = await semanticKernel.InvokePromptAsync(simpleDecisionPrompt);\n",
    "Console.WriteLine(simplePromptResponse.GetValue<string>());"
   ]
  },
  {
   "cell_type": "markdown",
   "metadata": {},
   "source": [
    "### Step 3 - Execute a Decision Prompt with Streaming"
   ]
  },
  {
   "cell_type": "markdown",
   "metadata": {},
   "source": [
    "Semantic Kernel supports prompt response streaming when invoking the prompt. This allows responses to be streamed to the client as soon as they are made available by the LLM and service. Below the same decision prompt is executed. However, notice that chunks are streamed and can be read by the user as soon as they appear. \n",
    "\n",
    "> Note: An average human can read between 25-40 Tokens / second.  "
   ]
  },
  {
   "cell_type": "code",
   "execution_count": 4,
   "metadata": {
    "dotnet_interactive": {
     "language": "csharp"
    },
    "polyglot_notebook": {
     "kernelName": "csharp"
    },
    "vscode": {
     "languageId": "polyglot-notebook"
    }
   },
   "outputs": [
    {
     "name": "stdout",
     "output_type": "stream",
     "text": [
      "Here are five decision-making frameworks that can enhance the quality of decisions, along with brief descriptions of how they support better analysis and reasoning:\n",
      "\n",
      "---\n",
      "\n",
      "### 1. **Rational Decision-Making Model**\n",
      "   - **Description:** This step-by-step process involves identifying the problem, gathering information, generating alternatives, evaluating options, and selecting the most logical solution.\n",
      "   - **How it helps:** It provides a structured and systematic approach, ensuring that all relevant factors are considered and analyzed objectively. By focusing on logic and evidence, it minimizes bias and emotional influence.\n",
      "\n",
      "---\n",
      "\n",
      "### 2. **SWOT Analysis (Strengths, Weaknesses, Opportunities, Threats)**\n",
      "   - **Description:** This framework evaluates internal and external factors to assess the feasibility or potential outcomes of a decision.\n",
      "   - **How it helps:** By categorizing factors into strengths, weaknesses, opportunities, and threats, it allows decision-makers to weigh the benefits and risks, identify strategic priorities, and anticipate challenges.\n",
      "\n",
      "---\n",
      "\n",
      "### 3. **Cost-Benefit Analysis (CBA)**\n",
      "   - **Description:** This approach involves comparing the costs and benefits of different options to determine which choice provides the greatest value.\n",
      "   - **How it helps:** It encourages a quantitative assessment of trade-offs, ensuring resources are allocated efficiently and aligned with organizational or personal goals.\n",
      "\n",
      "---\n",
      "\n",
      "### 4. **Decision Tree Analysis**\n",
      "   - **Description:** This tool maps out possible outcomes through a tree-like diagram, visualizing decisions, possible consequences, probabilities, and potential payoffs.\n",
      "   - **How it helps:** By providing a clear visualization of decisions and their implications, it simplifies complex scenarios, increases clarity, and aids in probabilistic reasoning and risk assessment.\n",
      "\n",
      "---\n",
      "\n",
      "### 5. **The OODA Loop (Observe, Orient, Decide, Act)**\n",
      "   - **Description:** Originally developed for military strategy, this iterative model involves observing the environment, orienting by interpreting information, deciding on an action, and acting.\n",
      "   - **How it helps:** Its iterative nature allows for continuous adjustment as new information becomes available, making it well-suited for dynamic and rapidly changing environments.\n",
      "\n",
      "---\n",
      "\n",
      "These frameworks can be applied to various contexts, from strategic planning in organizations to personal decision-making, helping ensure decisions are thoughtful, rational, and well-informed."
     ]
    }
   ],
   "source": [
    "// Decision Prompt using Streaming output chunks \n",
    "await foreach (var streamChunk in semanticKernel.InvokePromptStreamingAsync(simpleDecisionPrompt))\n",
    "{\n",
    "   Console.Write(streamChunk);\n",
    "}"
   ]
  },
  {
   "cell_type": "markdown",
   "metadata": {},
   "source": [
    "### Step 4 - Execute a Decision Prompt with Improved Output Formatting  "
   ]
  },
  {
   "cell_type": "markdown",
   "metadata": {},
   "source": [
    "Generative AI models have an inherent ability to not only provide decision reasoning analysis, but also format the output in a desired format. This could be as simple as instructing the Generative AI model to format the decision as a single sentence, paragraphs or lists. However more sophisticated output generations can be instructed. For example, the GenAI model can ouput Markdown or even extract information and fill in a desired schema (JSON). Specifically for Decision Intelligence, you can ask the GenAI models to apply decision communication frameworks to the generation as well. \n",
    "\n",
    "Execute the simple decision prompt below with Markdown formatting ouptut. This table can now be rendered in a Markdown document for easy human comprehension. Markdown tables and other formats can be used on web sites, document, programming code etc. Even Generative AI models understand Markdown format, which can not only be used for output but inside input prompts.  "
   ]
  },
  {
   "cell_type": "code",
   "execution_count": 5,
   "metadata": {
    "dotnet_interactive": {
     "language": "csharp"
    },
    "polyglot_notebook": {
     "kernelName": "csharp"
    },
    "vscode": {
     "languageId": "polyglot-notebook"
    }
   },
   "outputs": [
    {
     "name": "stdout",
     "output_type": "stream",
     "text": [
      "| Decision-Making Framework   | Description                                                                                       |\n",
      "|-----------------------------|---------------------------------------------------------------------------------------------------|\n",
      "| SWOT Analysis              | Helps identify Strengths, Weaknesses, Opportunities, and Threats, providing a structured way to assess internal and external factors. |\n",
      "| Decision Matrix             | Offers a systematic method by assigning weights and scores to criteria, helping prioritize options objectively. |\n",
      "| Cost-Benefit Analysis       | Compares the costs and benefits of a decision quantitatively, aiding in evaluating its feasibility and potential return.         |\n",
      "| Six Thinking Hats           | Encourages examining a decision from multiple perspectives (e.g., facts, emotions, risks), promoting balanced and creative analysis. |\n",
      "| 80/20 Rule (Pareto Analysis)| Focuses on identifying the most impactful 20% of factors that contribute to 80% of outcomes, enhancing efficiency in decision-making.|"
     ]
    }
   ],
   "source": [
    "// A new decision prompt to help with describing decision-making frameworks using Markdown format\n",
    "var simpleDecisionPromptWithMarkdownFormat = \"\"\"\n",
    "Identify and list 5 decision-making frameworks that can enhance the quality of decisions. \n",
    "Briefly describe how each decision-making framework supports better analysis and reasoning in various scenarios.\n",
    "\n",
    "Format the response using only a Markdown table. Do not enclose the table in triple backticks.\n",
    "\"\"\";\n",
    "\n",
    "await foreach (var streamChunk in semanticKernel.InvokePromptStreamingAsync(simpleDecisionPromptWithMarkdownFormat))\n",
    "{\n",
    "   Console.Write(streamChunk);\n",
    "}"
   ]
  },
  {
   "cell_type": "markdown",
   "metadata": {},
   "source": [
    "| Decision-Making Framework   | Description                                                                                       |\n",
    "|-----------------------------|---------------------------------------------------------------------------------------------------|\n",
    "| SWOT Analysis              | Helps identify Strengths, Weaknesses, Opportunities, and Threats, providing a structured way to assess internal and external factors. |\n",
    "| Decision Matrix             | Offers a systematic method by assigning weights and scores to criteria, helping prioritize options objectively. |\n",
    "| Cost-Benefit Analysis       | Compares the costs and benefits of a decision quantitatively, aiding in evaluating its feasibility and potential return.         |\n",
    "| Six Thinking Hats           | Encourages examining a decision from multiple perspectives (e.g., facts, emotions, risks), promoting balanced and creative analysis. |\n",
    "| 80/20 Rule (Pareto Analysis)| Focuses on identifying the most impactful 20% of factors that contribute to 80% of outcomes, enhancing efficiency in decision-making.|"
   ]
  },
  {
   "cell_type": "markdown",
   "metadata": {},
   "source": [
    "### Step 5 - Execute a Decision Prompt with a Custom Prompt Execution Configuration"
   ]
  },
  {
   "cell_type": "markdown",
   "metadata": {},
   "source": [
    "Semantic Kernel supports the configuration of prompt execution. The typical OpenAI and Azure OpenAI settings are exposed as configuration options that provide a different prompt experience. Try changing the MaxTokens, Tempature or other settings.\n",
    "\n",
    "> Note: The supported settings are dependendent on the API plus the specific model version. For example, a model paired with an older API may not expose all the configuration settings available. Conversely, a new preview model may not have all the settings available until it becomes generally available.  "
   ]
  },
  {
   "cell_type": "code",
   "execution_count": 7,
   "metadata": {
    "dotnet_interactive": {
     "language": "csharp"
    },
    "polyglot_notebook": {
     "kernelName": "csharp"
    },
    "vscode": {
     "languageId": "polyglot-notebook"
    }
   },
   "outputs": [
    {
     "name": "stdout",
     "output_type": "stream",
     "text": [
      "Here are five decision-making frameworks that can enhance the quality of decisions, along with a brief description of how each supports better analysis and reasoning in various scenarios:\n",
      "\n",
      "---\n",
      "\n",
      "### 1. **The OODA Loop (Observe, Orient, Decide, Act)**\n",
      "   - **Description**: Developed by military strategist John Boyd, the OODA Loop is a cyclical process that involves observing the situation, orienting yourself to the context, deciding on a course of action, and acting on it.\n",
      "   - **How it supports better decisions**: This framework emphasizes adaptability and speed, helping decision-makers respond effectively in dynamic and uncertain environments. It encourages continuous reassessment and adjustment, making it ideal for scenarios like crisis management or competitive business strategy.\n",
      "\n",
      "---\n",
      "\n",
      "### 2. **The Eisenhower Matrix (Urgent-Important Matrix)**\n",
      "   - **Description**: This framework categorizes tasks or decisions based on their urgency and importance, dividing them into four quadrants: urgent and important, not urgent but important, urgent but not important, and neither urgent nor important.\n",
      "   - **How it supports better decisions**: By prioritizing tasks, this framework helps focus on high-impact activities and avoid wasting time on distractions. It’s particularly useful for time management and resource allocation in both personal and professional contexts.\n",
      "\n",
      "---\n",
      "\n",
      "### 3. **SWOT Analysis (Strengths, Weaknesses, Opportunities, Threats)**\n",
      "   - **Description**: SWOT Analysis is a strategic planning tool that evaluates internal strengths and weaknesses, as well as external opportunities and threats related to a decision or project.\n",
      "   - **How it supports better decisions**: This framework provides a structured way to assess the internal and external factors influencing a decision. It’s effective for strategic planning, risk assessment, and identifying competitive advantages in business or personal projects.\n",
      "\n",
      "---\n",
      "\n",
      "### 4. **The Six Thinking Hats**\n",
      "   - **Description**: Created by Edward de Bono, this framework involves analyzing a decision from six different perspectives, represented by metaphorical \"hats\": logic (white), emotions (red), caution (black), optimism (yellow), creativity (green), and process (blue).\n",
      "   - **How it supports better decisions**: By encouraging diverse viewpoints and structured thinking, this framework helps uncover blind spots, balance emotional and rational considerations, and foster creativity. It’s useful in group decision-making or brainstorming sessions.\n",
      "\n",
      "---\n",
      "\n",
      "### 5. **The Decision Tree**\n",
      "   - **Description**: A decision tree is a visual tool that"
     ]
    }
   ],
   "source": [
    "// Create a new OpenAI prompt execution settings object\n",
    "var openAIPromptExecutionSettings = new OpenAIPromptExecutionSettings { \n",
    "    MaxTokens = 500, \n",
    "    Temperature = 0.3, \n",
    "    TopP = 1.0, \n",
    "    FrequencyPenalty = 0.0, \n",
    "    PresencePenalty = 0.0\n",
    "    };\n",
    "\n",
    "KernelArguments kernelArguments = new KernelArguments(openAIPromptExecutionSettings);\n",
    "await foreach (var streamChunk in semanticKernel.InvokePromptStreamingAsync(simpleDecisionPrompt, kernelArguments))\n",
    "{\n",
    "   Console.Write(streamChunk);\n",
    "}"
   ]
  },
  {
   "cell_type": "markdown",
   "metadata": {},
   "source": [
    "### Step 6 - Execute a Decision Prompt with a System Prompt (Custom AI Persona)"
   ]
  },
  {
   "cell_type": "markdown",
   "metadata": {},
   "source": [
    "When building Decison Intelligence prompts, all the typical best practices of prompt engineering apply when using Semantic Kernel.  Such as: \n",
    "* Make the prompt more specific (i.e. decision intelligence)\n",
    "* Add structure to the output with formatting\n",
    "* Provide examples with few-shot prompting\n",
    "* Instruct the AI what to do to avoid doing something else\n",
    "* Provide context (additional information) to the AI\n",
    "* Using Roles in Chat Completion API prompts\n",
    "* Give your AI words of encouragement  \n",
    "\n",
    "A key best practice is to provide a common behavior across all the LLM interactions in a system prompt. This system prompt is passed in on every single call the LLM with Semantic Kernel. By passing the same (or similar) system prompt with every prompt gives your Generative AI system a common persona. This common persona is the foundational building block of building AI agents; where the desired behavior is to have each agent have a unique persona/behavior every time you interact with that agent.\n",
    "\n",
    "Execute the cell below with a dynamic prompt template. Notice the different behavior of the output for decision frameworks. Based on the new system prompt instructions, the decision framework responses are much more robust with decision intelligence information."
   ]
  },
  {
   "cell_type": "code",
   "execution_count": null,
   "metadata": {
    "dotnet_interactive": {
     "language": "csharp"
    },
    "polyglot_notebook": {
     "kernelName": "csharp"
    },
    "vscode": {
     "languageId": "polyglot-notebook"
    }
   },
   "outputs": [
    {
     "name": "stdout",
     "output_type": "stream",
     "text": [
      "PROMPT TO SEND TO THE CHAT COMPLETION SERVICE...\n",
      "\n",
      "System Prompt: \n",
      "You are a Decision Intelligence Assistant. \n",
      "Assist the user in exploring options, reasoning through decisions, problem-solving.\n",
      "Apply systems thinking to various scenarios. \n",
      "Provide structured, logical, and comprehensive decision advice.\n",
      "\n",
      "Request from the user: \n",
      "Recommend the top 5 decision frameworks that can be used for daily situations to make various decisions.\n",
      "These frameworks should be very easy to understand and apply to various scenarios.\n",
      "\n",
      "----------------------------------------\n",
      "\n",
      "RESPONSE FROM THE CHAT COMPLETION SERVICE...\n",
      "\n",
      "Here are five simple and effective decision-making frameworks that can be applied to a wide range of daily situations. Each framework is easy to understand and implement, making them ideal for quick and practical decision-making:\n",
      "\n",
      "---\n",
      "\n",
      "### 1. **The Eisenhower Matrix (Urgent-Important Matrix)**  \n",
      "**Purpose:** Helps prioritize tasks and decisions based on urgency and importance.  \n",
      "**How It Works:**  \n",
      "- Divide tasks or decisions into four quadrants:  \n",
      "  1. **Urgent & Important**: Do immediately.  \n",
      "  2. **Not Urgent but Important**: Schedule for later.  \n",
      "  3. **Urgent but Not Important**: Delegate or minimize.  \n",
      "  4. **Not Urgent & Not Important**: Eliminate or ignore.  \n",
      "\n",
      "**Example Use Case:** Deciding how to allocate your time during a busy day.  \n",
      "\n",
      "**Why It’s Useful:**  \n",
      "- Encourages focus on high-value activities.  \n",
      "- Prevents wasting time on distractions or low-priority tasks.  \n",
      "\n",
      "---\n",
      "\n",
      "### 2. **The 80/20 Rule (Pareto Principle)**  \n",
      "**Purpose:** Helps identify the most impactful actions or choices.  \n",
      "**How It Works:**  \n",
      "- Recognize that 80% of outcomes often come from 20% of efforts.  \n",
      "- Focus on the small number of actions that yield the greatest results.  \n",
      "\n",
      "**Example Use Case:** Deciding which tasks to focus on at work or which expenses to cut in a budget.  \n",
      "\n",
      "**Why It’s Useful:**  \n",
      "- Simplifies decision-making by focusing on what truly matters.  \n",
      "- Reduces overwhelm by eliminating less impactful activities.  \n",
      "\n",
      "---\n",
      "\n",
      "### 3. **The 10/10/10 Rule**  \n",
      "**Purpose:** Helps evaluate the long-term impact of a decision.  \n",
      "**How It Works:**  \n",
      "- Ask yourself:  \n",
      "  1. How will I feel about this decision in **10 minutes**?  \n",
      "  2. How will I feel about it in **10 months**?  \n",
      "  3. How will I feel about it in **10 years**?  \n",
      "\n",
      "**Example Use Case:** Deciding whether to make an impulsive purchase or take on a new commitment.  \n",
      "\n",
      "**Why It’s Useful:**  \n",
      "- Encourages long-term thinking.  \n",
      "- Helps avoid short-term emotional decisions.  \n",
      "\n",
      "---\n",
      "\n",
      "### 4. **The OODA Loop (Observe, Orient, Decide, Act)**  \n",
      "**Purpose:** A cyclical process for"
     ]
    }
   ],
   "source": [
    "// Create a System Prompt instruction to override the default system prompt\n",
    "// Add the System Prompt (Persona) to behave like a Decision Intelligence assistant\n",
    "var systemPromptForDecisions = \"\"\"\n",
    "You are a Decision Intelligence Assistant. \n",
    "Assist the user in exploring options, reasoning through decisions, problem-solving.\n",
    "Apply systems thinking to various scenarios. \n",
    "Provide structured, logical, and comprehensive decision advice.\n",
    "\"\"\";\n",
    "var simpleDecisionPrompt = \"\"\"\n",
    "Recommend the top 5 decision frameworks that can be used for daily situations to make various decisions.\n",
    "These frameworks should be very easy to understand and apply to various scenarios.\n",
    "\"\"\";\n",
    "\n",
    "// How the prompt looks like to the LLM\n",
    "var simpleDecisionPromptTemplate = $\"\"\"\n",
    "System Prompt: \n",
    "{systemPromptForDecisions}\n",
    "\n",
    "Request from the user: \n",
    "{simpleDecisionPrompt}\n",
    "\"\"\";\n",
    "\n",
    "// Create a new OpenAI prompt execution settings object\n",
    "var openAIPromptExecutionSettings = new OpenAIPromptExecutionSettings { \n",
    "    ChatSystemPrompt = systemPromptForDecisions,\n",
    "    MaxTokens = 500, \n",
    "    Temperature = 0.3, \n",
    "    TopP = 1.0, \n",
    "    FrequencyPenalty = 0.0, \n",
    "    PresencePenalty = 0.0\n",
    "    };\n",
    "KernelArguments kernelArguments = new KernelArguments(openAIPromptExecutionSettings);\n",
    "\n",
    "Console.WriteLine(\"PROMPT TO SEND TO THE CHAT COMPLETION SERVICE...\");\n",
    "Console.WriteLine(string.Empty);\n",
    "Console.WriteLine(simpleDecisionPromptTemplate);\n",
    "Console.WriteLine(string.Empty);\n",
    "Console.WriteLine(\"----------------------------------------\");\n",
    "Console.WriteLine(string.Empty);\n",
    "Console.WriteLine(\"RESPONSE FROM THE CHAT COMPLETION SERVICE...\");\n",
    "Console.WriteLine(string.Empty);\n",
    "\n",
    "// Stream the response asynchronously\n",
    "await foreach (var streamChunk in semanticKernel.InvokePromptStreamingAsync(simpleDecisionPrompt, kernelArguments))\n",
    "{\n",
    "   Console.Write(streamChunk);\n",
    "}"
   ]
  },
  {
   "cell_type": "markdown",
   "metadata": {},
   "source": [
    "### Step 7 - Execute a Decision Scenario with a System Prompt (Custom AI Persona)"
   ]
  },
  {
   "cell_type": "markdown",
   "metadata": {},
   "source": [
    "In this step a decision scenario will be introduced requiring analysis and a recommendation performed by Artificial Intelligence. The full Decision Intelligence framework will not be used, rather a simple request for Artificial Intelligene to recommend a path forward (recommedation) for the human user to ultimately make the final decision.  \n",
    "\n",
    "**Decision Scenario:** Your high school daughter Alex is deciding whether to enroll directly in a four-year university or start at a community college to earn an associate degree first. These are Alex's main decision factors: financial, career uncertainty, academic consistency and future impact. In addition, you have all the decision factor detailed data available to pass to the GenAI model prompt. You are looking for an impartial (non-family) recommendation. Can Artificial Intelligence be that impartial judge to help Alex decide? \n",
    "\n",
    "<img style=\"display: block; margin: auto;\" width =\"700px\" src=\"https://raw.githubusercontent.com/bartczernicki/DecisionIntelligence.GenAI.Workshop/main/Images/Scenarios/Scenario-SimpleDecision-College.png\">"
   ]
  },
  {
   "cell_type": "code",
   "execution_count": null,
   "metadata": {
    "dotnet_interactive": {
     "language": "csharp"
    },
    "polyglot_notebook": {
     "kernelName": "csharp"
    },
    "vscode": {
     "languageId": "polyglot-notebook"
    }
   },
   "outputs": [
    {
     "name": "stdout",
     "output_type": "stream",
     "text": [
      "Here is a structured recommendation based on Alex's decision factors:\n",
      "\n",
      "| **Decision Factor**            | **Four-Year University**                                                                                     | **Community College**                                                                                     | **Recommendation**                                                                                       |\n",
      "|--------------------------------|-------------------------------------------------------------------------------------------------------------|-----------------------------------------------------------------------------------------------------------|----------------------------------------------------------------------------------------------------------|\n",
      "| **Financial Considerations**   | High cost ($50,000-$60,000/year). Family can afford it with loans, but cost is a medium concern.            | Low cost ($3,000-$5,000/year). Significant savings in the first two years, reducing overall student debt. | **Community College**: Allows Alex to save money, reducing financial burden and long-term debt.          |\n",
      "| **Career and Major Uncertainty** | Risk of switching majors could increase time and cost.                                                     | Provides flexibility to explore majors at a lower cost before committing to a bachelor's program.         | **Community College**: Offers a cost-effective way to explore options without risking extra expenses.    |\n",
      "| **Academic Consistency and Networking** | Early access to professors, campus groups, internships, and research opportunities.                     | Delayed access to four-year university resources but still possible after transfer.                       | **Four-Year University**: Better for building early academic and professional connections.               |\n",
      "| **Future Impact**              | Builds a professional network sooner, but at a higher financial cost.                                       | Reduces financial burden, but networking opportunities may be delayed until transfer.                     | **Community College**: Balances financial stability with the ability to build a network post-transfer.   |\n",
      "\n",
      "### **Final Recommendation**\n",
      "Based on the factors provided, **starting at a community college** is the most balanced option for Alex. It allows her to:\n",
      "\n",
      "1. **Save significant money** in the first two years, reducing long-term financial stress and student loan debt.\n",
      "2. **Explore her interests and potential majors** without the pressure of high tuition costs, minimizing the risk of costly changes later.\n",
      "3. Transfer to a four-year university later, where she can still build a professional network, join campus groups, and access internships.\n",
      "\n",
      "While the four-year university offers earlier networking opportunities and a cohesive academic experience, the financial savings and flexibility of community college outweigh these benefits given Alex's uncertainty about her major and concerns about debt."
     ]
    }
   ],
   "source": [
    "// Create a system prompt instruction to override the default system prompt\n",
    "// Add the System Prompt (Persona) to behave like a decision intelligence assistant\n",
    "var systemPromptForDecisions = \"\"\"\n",
    "You are a Decision Intelligence Assistant. \n",
    "Assist the user in exploring options, reasoning through decisions, problem-solving.\n",
    "Apply systems thinking to various scenarios. \n",
    "Provide structured, logical, and comprehensive decision advice.\n",
    "\"\"\";\n",
    "// Provide a description of the decision scenario and the desired output \n",
    "// Provide detailed Decision Scenario considerations and information about Alex (the decision-maker) \n",
    "var scenarioDecisionPrompt = \"\"\"\n",
    "Imagine you are advising a daughter named Alex who is deciding whether to enroll directly in a well-regarded four-year \n",
    "university or start at a community college to earn an associate degree first. \n",
    "\n",
    "Make a single recommendation based on the following decision factor details. \n",
    "Output the recommedation in a Markdown table format. \n",
    "\n",
    "Financial Considerations:\n",
    "Alex's four-year university will cost significantly more in tuition, housing, and related expenses \n",
    "(estimated $50,000-$60,000 per year). A two-year associate program at a local community college could \n",
    "save substantial money (estimated $3,000-$5,000 per year), but Alex may have to transfer to a \n",
    "four-year institution later to complete a bachelor's degree. The family can afford the four-year university, \n",
    "with some loans, but the cost is only a medium concern. \n",
    "\n",
    "Career and Major Uncertainty:\n",
    "Alex is not entirely sure what she wants to major in. She is torn between business, psychology, and \n",
    "possibly something in the arts. She worries that if she starts at the four-year university, \n",
    "she might switch majors and incur extra time and cost. On the other hand, \n",
    "community college might give her space to explore options, \n",
    "but transferring could mean adjusting to a new campus and curriculum midway through.\n",
    "\n",
    "Academic Consistency and Networking:\n",
    "Going straight to the four-year university would allow Alex to build early relationships with professors, \n",
    "join campus groups, and potentially secure internships or research opportunities. Starting at community college might \n",
    "delay those opportunities, but it could also let her explore different fields at a lower cost. \n",
    "She might miss out on the “full campus” experience early on, but transferring later means she could \n",
    "still build connections, just on a different timeline. \n",
    "\n",
    "Future Impact: \n",
    "Alex is unsure of the short-term future impact of her decision that might be hard to remediate. \n",
    "Alex wants a solid professional network and relevant experience when she graduates. \n",
    "Alex is not overly concerned about the social aspect of college, \n",
    "but feels she can build a quality network in a four-year university setting sooner. \n",
    "She is also concerned about taking on significant student loan debt. The decision affects not only her immediate academic path but \n",
    "also her long-term financial stability and career prospects. \n",
    "\"\"\";\n",
    "\n",
    "// How the prompt looks like to the LLM\n",
    "var scenarioDecisionPromptTemplate = $\"\"\"\n",
    "System Prompt: \n",
    "{systemPromptForDecisions}\n",
    "\n",
    "Request from the user: \n",
    "{scenarioDecisionPrompt}\n",
    "\"\"\";\n",
    "\n",
    "// Create a new OpenAI prompt execution settings object\n",
    "var openAIPromptExecutionSettings = new OpenAIPromptExecutionSettings { \n",
    "    ChatSystemPrompt = systemPromptForDecisions,\n",
    "    MaxTokens = 750, \n",
    "    Temperature = 0.3, \n",
    "    TopP = 1.0, \n",
    "    FrequencyPenalty = 0.0, \n",
    "    PresencePenalty = 0.0\n",
    "    };\n",
    "KernelArguments kernelArguments = new KernelArguments(openAIPromptExecutionSettings);\n",
    "\n",
    "await foreach (var streamChunk in semanticKernel.InvokePromptStreamingAsync(scenarioDecisionPromptTemplate, kernelArguments))\n",
    "{\n",
    "   Console.Write(streamChunk);\n",
    "}"
   ]
  }
 ],
 "metadata": {
  "kernelspec": {
   "display_name": ".NET (C#)",
   "language": "C#",
   "name": ".net-csharp"
  },
  "language_info": {
   "name": "csharp"
  },
  "polyglot_notebook": {
   "kernelInfo": {
    "defaultKernelName": "csharp",
    "items": [
     {
      "aliases": [],
      "name": "csharp"
     }
    ]
   }
  }
 },
 "nbformat": 4,
 "nbformat_minor": 2
}
