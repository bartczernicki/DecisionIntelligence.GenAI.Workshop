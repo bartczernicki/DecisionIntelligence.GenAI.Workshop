{
 "cells": [
  {
   "cell_type": "markdown",
   "metadata": {},
   "source": [
    "<img style=\"float: left;padding-right: 10px\" width =\"40px\" src=\"https://raw.githubusercontent.com/bartczernicki/DecisionIntelligence.GenAI.Workshop/main/Images/SemanticKernelLogo.png\">\n",
    "\n",
    "## Semantic Kernel - Simple Decision Prompts"
   ]
  },
  {
   "cell_type": "markdown",
   "metadata": {},
   "source": [
    "Decision Intelligence applied in this module:  \n",
    "* Listing of various decision-making frameworks and with their descriptions by using GenAI prompt engineering  \n",
    "* Creating custom AI personas with a system decision prompt  \n",
    "* Generating decision outputs using easier to consume formats (Markdown)     \n",
    "\n",
    "Prompts are the fundemental building block to getting the proper responses from AI models. This module demonstrates how to use common prompt engineering techniques while using Semantic Kernel. If you've ever used ChatGPT or Microsoft Copilot, you're already familiar with prompting. Given a prompt instruction, an LLM will attempt to predict the most likely response. With Semantic Kernel, you can craft applications, services & APIs that execute prompts.  \n",
    "\n",
    "For more information on using prompts with Semantic Kernel, visit: https://learn.microsoft.com/en-us/semantic-kernel/prompts/your-first-prompt  \n",
    "\n",
    "The process of carefully crafting questions or instructions for AI is called **Prompt Engineering**. Prompt Engineering involves designing and refining input prompts—text or questions—so that the AI produces responses that are more relevant, useful, or accurate. The goal of prompt engineering is to \"tune\" the prompt in a way that maximizes the quality and clarity of the AI's response, often using specific wording, context, or examples within the prompt itself.\n",
    "\n",
    "Decision Intelligence and Prompt Engineering techniques can be combined to created \"Generative AI Decision Intellignce\"! This can leverage GenAI models to reason over complex tasks, gather intelligence for decisions, recommend decisions, communicate decisions etc. "
   ]
  },
  {
   "cell_type": "markdown",
   "metadata": {},
   "source": [
    "### Step 1 - Initialize Configuration Builder & Build the Semantic Kernel Orchestration "
   ]
  },
  {
   "cell_type": "markdown",
   "metadata": {},
   "source": [
    "Execute the next two cells to:\n",
    "* Use the Configuration Builder to load the API secrets.  \n",
    "* Use the API configuration to build the Semantic Kernel orchestrator."
   ]
  },
  {
   "cell_type": "code",
   "execution_count": 1,
   "metadata": {
    "dotnet_interactive": {
     "language": "csharp"
    },
    "polyglot_notebook": {
     "kernelName": "csharp"
    },
    "vscode": {
     "languageId": "polyglot-notebook"
    }
   },
   "outputs": [
    {
     "data": {
      "text/html": [
       "<div><div></div><div></div><div><strong>Installed Packages</strong><ul><li><span>Microsoft.Extensions.Configuration, 9.0.0</span></li><li><span>Microsoft.Extensions.Configuration.Json, 9.0.0</span></li></ul></div></div>"
      ]
     },
     "metadata": {},
     "output_type": "display_data"
    }
   ],
   "source": [
    "// Import the required NuGet configuration packages\n",
    "#r \"nuget: Microsoft.Extensions.Configuration, 9.0.0\"\n",
    "#r \"nuget: Microsoft.Extensions.Configuration.Json, 9.0.0\"\n",
    "\n",
    "using Microsoft.Extensions.Configuration.Json;\n",
    "using Microsoft.Extensions.Configuration;\n",
    "using System.IO;\n",
    "\n",
    "// Load the configuration settings from the local.settings.json and secrets.settings.json files\n",
    "// The secrets.settings.json file is used to store sensitive information such as API keys\n",
    "var configurationBuilder = new ConfigurationBuilder()\n",
    "    .SetBasePath(Directory.GetCurrentDirectory())\n",
    "    .AddJsonFile(\"local.settings.json\", optional: true, reloadOnChange: true)\n",
    "    .AddJsonFile(\"secrets.settings.json\", optional: true, reloadOnChange: true);\n",
    "var config = configurationBuilder.Build();\n",
    "\n",
    "// IMPORTANT: You ONLY NEED either Azure OpenAI or OpenAI connectiopn info, not both.\n",
    "// Azure OpenAI Connection Info\n",
    "var azureOpenAIEndpoint = config[\"AzureOpenAI:Endpoint\"];\n",
    "var azureOpenAIAPIKey = config[\"AzureOpenAI:APIKey\"];\n",
    "var azureOpenAIModelDeploymentName = config[\"AzureOpenAI:ModelDeploymentName\"];\n",
    "// OpenAI Connection Info \n",
    "var openAIAPIKey = config[\"OpenAI:APIKey\"];\n",
    "var openAIModelId = config[\"OpenAI:ModelId\"];"
   ]
  },
  {
   "cell_type": "code",
   "execution_count": 2,
   "metadata": {
    "dotnet_interactive": {
     "language": "csharp"
    },
    "polyglot_notebook": {
     "kernelName": "csharp"
    },
    "vscode": {
     "languageId": "polyglot-notebook"
    }
   },
   "outputs": [
    {
     "data": {
      "text/html": [
       "<div><div></div><div></div><div><strong>Installed Packages</strong><ul><li><span>Microsoft.SemanticKernel, 1.32.0</span></li></ul></div></div>"
      ]
     },
     "metadata": {},
     "output_type": "display_data"
    },
    {
     "name": "stdout",
     "output_type": "stream",
     "text": [
      "Using Azure OpenAI Service\r\n"
     ]
    }
   ],
   "source": [
    "// Import the Semantic Kernel NuGet package\n",
    "#r \"nuget: Microsoft.SemanticKernel, 1.32.0\"\n",
    "\n",
    "using Microsoft.Extensions.DependencyInjection.Extensions;\n",
    "using Microsoft.Extensions.DependencyInjection;\n",
    "using Microsoft.SemanticKernel;\n",
    "using Microsoft.SemanticKernel.ChatCompletion;\n",
    "using Microsoft.SemanticKernel.Connectors.OpenAI;\n",
    "\n",
    "Kernel semanticKernel;\n",
    "\n",
    "// Set the flag to use Azure OpenAI or OpenAI. False to use OpenAI, True to use Azure OpenAI\n",
    "var useAzureOpenAI = true;\n",
    "\n",
    "// Create a new Semantic Kernel instance\n",
    "if (useAzureOpenAI)\n",
    "{\n",
    "    Console.WriteLine(\"Using Azure OpenAI Service\");\n",
    "    semanticKernel = Kernel.CreateBuilder()\n",
    "        .AddAzureOpenAIChatCompletion(\n",
    "            deploymentName: azureOpenAIModelDeploymentName,\n",
    "            endpoint: azureOpenAIEndpoint,\n",
    "            apiKey: azureOpenAIAPIKey)\n",
    "        .Build();\n",
    "}\n",
    "else\n",
    "{\n",
    "    Console.WriteLine(\"Using OpenAI Service\");\n",
    "    semanticKernel = Kernel.CreateBuilder()\n",
    "        .AddOpenAIChatCompletion(\n",
    "            modelId: openAIModelId,\n",
    "            apiKey: openAIAPIKey)\n",
    "        .Build();\n",
    "}"
   ]
  },
  {
   "cell_type": "markdown",
   "metadata": {},
   "source": [
    "### Step 2 - Execute a Decision Prompt "
   ]
  },
  {
   "cell_type": "markdown",
   "metadata": {},
   "source": [
    "Many LLMs and even SLMs have been trained on knowledge that includes decision frameworks & processes. This makes LLMs great assistants to:\n",
    "* Provide proper Decision Frames\n",
    "* Gather Intelligence (information) in order to make a decision\n",
    "* Recommend Decision Frameworks to make a high-quality decision\n",
    "* Provide feedback to evaluate a Decision\n",
    "\n",
    "Once the Semantic Kernel instance is built, it is ready to intake prompt instructions. In the prompt below, the Semantic Kernel is instructed to provide examples of decision frameworks \"trained into\" the knowledge of the configured AI model.  "
   ]
  },
  {
   "cell_type": "code",
   "execution_count": 3,
   "metadata": {
    "dotnet_interactive": {
     "language": "csharp"
    },
    "polyglot_notebook": {
     "kernelName": "csharp"
    },
    "vscode": {
     "languageId": "polyglot-notebook"
    }
   },
   "outputs": [
    {
     "name": "stdout",
     "output_type": "stream",
     "text": [
      "Here are five decision-making frameworks that can enhance the quality of decisions, along with descriptions of how each supports better analysis and reasoning:\n",
      "\n",
      "1. **SWOT Analysis (Strengths, Weaknesses, Opportunities, Threats):**\n",
      "   - **Description:** This framework helps decision-makers evaluate an option or situation by analyzing its internal strengths and weaknesses (factors within control) and external opportunities and threats (factors beyond control).\n",
      "   - **How It Supports Decision-Making:** SWOT provides a structured way to assess risks and benefits, anticipate challenges, and leverage advantages. It's particularly useful in strategic planning and business decisions that require understanding external and internal dynamics.\n",
      "\n",
      "2. **The Eisenhower Matrix (Urgent vs. Important):**\n",
      "   - **Description:** This framework focuses on prioritizing tasks and decisions by categorizing them into four quadrants: urgent and important, important but not urgent, urgent but not important, and neither urgent nor important.\n",
      "   - **How It Supports Decision-Making:** By distinguishing between urgency and importance, the Eisenhower Matrix ensures time and resources are allocated to high-impact decisions, reducing the chances of being distracted by trivial matters.\n",
      "\n",
      "3. **The Decision Tree:**\n",
      "   - **Description:** A visual tool that represents decisions and their potential consequences in a tree-like structure, mapping out different paths and outcomes based on alternative choices.\n",
      "   - **How It Supports Decision-Making:** Decision trees are particularly effective for complex choices with multiple variables. They encourage logical thinking, probabilistic reasoning, and the consideration of long-term impacts, supporting data-driven decisions.\n",
      "\n",
      "4. **The OODA Loop (Observe, Orient, Decide, Act):**\n",
      "   - **Description:** Originally developed for military strategy, this iterative framework focuses on continuously cycling through four stages: observing the environment, orienting based on context and data, deciding on a course of action, and acting accordingly.\n",
      "   - **How It Supports Decision-Making:** The OODA loop enables rapid but thoughtful decisions in fast-changing scenarios, making it popular in environments like crisis management and competitive markets.\n",
      "\n",
      "5. **Cost-Benefit Analysis (CBA):**\n",
      "   - **Description:** This framework evaluates the costs and benefits associated with a decision, assigning monetary values (whenever possible) to weigh the pros and cons.\n",
      "   - **How It Supports Decision-Making:** CBA provides a clear, quantitative basis for comparing options and assessing their net value, especially useful when budgets and financial returns are critical considerations.\n",
      "\n",
      "Each of these frameworks offers tools and perspectives for analyzing scenarios, improving reasoning, and navigating uncertainty in different decision-making contexts, from personal priorities to business strategies and dynamic environments.\r\n"
     ]
    }
   ],
   "source": [
    "// A new prompt to help with decision-making frameworks\n",
    "var simpleDecisionPrompt = \"\"\"\n",
    "Identify and list 5 decision-making frameworks that can enhance the quality of decisions. \n",
    "Briefly describe how each framework supports better analysis and reasoning in different decision-making scenarios.\n",
    "\"\"\";\n",
    "\n",
    "var simplePromptResponse = await semanticKernel.InvokePromptAsync(simpleDecisionPrompt);\n",
    "Console.WriteLine(simplePromptResponse.GetValue<string>());"
   ]
  },
  {
   "cell_type": "markdown",
   "metadata": {},
   "source": [
    "### Step 3 - Execute a Decision Prompt with Streaming"
   ]
  },
  {
   "cell_type": "markdown",
   "metadata": {},
   "source": [
    "Semantic Kernel supports prompt response streaming when invoking the prompt. This allows responses to be streamed to the client as soon as they are made available by the LLM and service. Below the same decision prompt is executed. However, notice that chunks are streamed and can be read by the user as soon as they appear. \n",
    "\n",
    "> Note: An average human can read between 25-40 tokens / second.  "
   ]
  },
  {
   "cell_type": "code",
   "execution_count": 4,
   "metadata": {
    "dotnet_interactive": {
     "language": "csharp"
    },
    "polyglot_notebook": {
     "kernelName": "csharp"
    },
    "vscode": {
     "languageId": "polyglot-notebook"
    }
   },
   "outputs": [
    {
     "name": "stdout",
     "output_type": "stream",
     "text": [
      "Here are **five decision-making frameworks** that can enhance the quality of decisions, alongside brief explanations of how they support better analysis and reasoning:\n",
      "\n",
      "---\n",
      "\n",
      "### 1. **The OODA Loop (Observe, Orient, Decide, Act)**  \n",
      "   - **Description:** This framework, originally developed by military strategist John Boyd, involves a continuous cycle of observation, orientation, decision, and action.\n",
      "   - **How It Helps:**  \n",
      "     - Encourages situational awareness by emphasizing the importance of thoroughly observing and understanding the environment.\n",
      "     - Helps decision-makers adapt quickly in rapidly changing or uncertain scenarios, making it ideal for dynamic industries like business or emergency response.\n",
      "     - Prioritizes iterative learning and improvement, enabling better decisions over time.\n",
      "\n",
      "---\n",
      "\n",
      "### 2. **SWOT Analysis (Strengths, Weaknesses, Opportunities, Threats)**  \n",
      "   - **Description:** A strategic planning tool used to evaluate internal and external factors that impact a decision or organization.\n",
      "   - **How It Helps:**  \n",
      "     - Provides a structured and comprehensive way to assess both positive (strengths and opportunities) and negative (weaknesses and threats) influences.\n",
      "     - Encourages balancing internal capabilities and external market conditions, improving strategic alignment.\n",
      "     - Useful for high-level business decisions, personal growth, and project evaluation.\n",
      "\n",
      "---\n",
      "\n",
      "### 3. **The Eisenhower Matrix (Urgent-Important Matrix)**  \n",
      "   - **Description:** A time-management tool that categorizes tasks or decisions based on their urgency and importance.\n",
      "   - **How It Helps:**  \n",
      "     - Encourages prioritization by focusing on what truly matters, reducing the influence of distractions.\n",
      "     - Guides resource allocation and prevents procrastination or overwhelm in the decision-making process.\n",
      "     - Valuable for individuals and teams needing to prioritize competing objectives in their day-to-day workflows.\n",
      "\n",
      "---\n",
      "\n",
      "### 4. **Cost-Benefit Analysis (CBA)**  \n",
      "   - **Description:** A quantitative framework that weighs the costs and benefits of a decision to determine its financial and strategic viability.\n",
      "   - **How It Helps:**  \n",
      "     - Promotes logical, metrics-driven evaluation, reducing emotional bias in decisions.\n",
      "     - Directly ties decisions to measurable outcomes, enabling effective risk assessment.\n",
      "     - Frequently used in project management, budgeting, and policy-making scenarios.\n",
      "\n",
      "---\n",
      "\n",
      "### 5. **Decision Trees**  \n",
      "   - **Description:** A graphic representation of possible outcomes, decisions, and their potential risks/benefits.\n",
      "   - **How It Helps:**  \n",
      "     - Breaks down complex decisions into manageable steps and visualizes the sequence of choices and their probable consequences.\n",
      "     - Allows for the inclusion of probabilities to assess risks analytically, supporting data-driven decisions.\n",
      "     - Useful in areas like business strategy, investment analysis, and machine learning applications.\n",
      "\n",
      "---\n",
      "\n",
      "These frameworks foster critical thinking, logical assessment, and strategic alignment, which are essential for consistently making well-informed and impactful decisions."
     ]
    }
   ],
   "source": [
    "await foreach (var streamChunk in semanticKernel.InvokePromptStreamingAsync(simpleDecisionPrompt))\n",
    "{\n",
    "   Console.Write(streamChunk);\n",
    "}"
   ]
  },
  {
   "cell_type": "markdown",
   "metadata": {},
   "source": [
    "### Step 4 - Execute a Semantic Kernel Decision Prompt with Improved Formatting  "
   ]
  },
  {
   "cell_type": "markdown",
   "metadata": {},
   "source": [
    "Generative AI models have an inherent ability to not only provide decision reasoning analysis, but also format the output in a desired format. This could be as simple as instructing the Generative AI model to format the decision as a single sentence, paragraphs or lists. However more sophisticated output generations can be instructed. For example, the GenAI model can ouput Markdown or even extract information and fill in a desired schema (JSON). Specifically for Decision Intelligence, you can ask the GenAI models to apply decision communication frameworks to the generation as well. \n",
    "\n",
    "Execute the simple decision prompt below with Markdown formatting ouptut. This table can now be rendered in a Markdown document for easy human comprehension. Markdown tables and other formats can be used on web sites, document, programming code etc. Even Generative AI models understand Markdown format, which can not only be used for output but inside input prompts.  "
   ]
  },
  {
   "cell_type": "code",
   "execution_count": 4,
   "metadata": {
    "dotnet_interactive": {
     "language": "csharp"
    },
    "polyglot_notebook": {
     "kernelName": "csharp"
    },
    "vscode": {
     "languageId": "polyglot-notebook"
    }
   },
   "outputs": [
    {
     "name": "stdout",
     "output_type": "stream",
     "text": [
      "| Framework                | Description                                                                                      |\n",
      "|--------------------------|--------------------------------------------------------------------------------------------------|\n",
      "| **SWOT Analysis**        | Evaluates Strengths, Weaknesses, Opportunities, and Threats. Helps to assess internal and external factors, supporting strategic decision-making. |\n",
      "| **Cost-Benefit Analysis**| Compares the costs and benefits of different options. Encourages decisions based on measurable value and resource efficiency. |\n",
      "| **Decision Tree**        | Maps potential outcomes of choices in a visual, tree-like structure. Aids in considering probabilities and consequences systematically. |\n",
      "| **5 Whys**               | Iteratively asks \"Why?\" to identify root causes of a problem. Enhances clarity and addresses issues at their origin. |\n",
      "| **Pareto Analysis**      | Uses the 80/20 rule to focus on the critical 20% of tasks or issues that drive 80% of outcomes. Prioritizes efforts effectively. | "
     ]
    }
   ],
   "source": [
    "// New prompt to help with decision-making frameworks using Markdown formatting.\n",
    "var simpleDecisionPromptWithMarkdownFormat = \"\"\"\n",
    "Identify and list 5 decision-making frameworks that can enhance the quality of decisions. \n",
    "Briefly describe how each framework supports better analysis and reasoning in different decision-making scenarios.\n",
    "\n",
    "Format the response using only a Markdown table. Do not enclose the table in triple backticks.\n",
    "\"\"\";\n",
    "\n",
    "await foreach (var streamChunk in semanticKernel.InvokePromptStreamingAsync(simpleDecisionPromptWithMarkdownFormat))\n",
    "{\n",
    "   Console.Write(streamChunk);\n",
    "}"
   ]
  },
  {
   "cell_type": "markdown",
   "metadata": {},
   "source": [
    "Example formatted Markdown Table output: \n",
    "\n",
    "| Framework                     | Description                                                                                   |\n",
    "|-------------------------------|-----------------------------------------------------------------------------------------------|\n",
    "| SWOT Analysis                 | Evaluates Strengths, Weaknesses, Opportunities, and Threats to understand internal and external factors affecting a decision. Enhances clarity and strategic thinking. |\n",
    "| Pareto Analysis               | Focuses on the 80/20 principle, identifying the vital few contributors (20%) to the majority of outcomes (80%). Helps prioritize actions for maximum impact. |\n",
    "| Cost-Benefit Analysis (CBA)   | Compares the costs and benefits of various options to determine the most financially or strategically viable choice. Increases rationality in allocating resources. |\n",
    "| Decision Matrix               | Assigns scores and weights to criteria for each option. Provides a structured comparison to identify the most favorable alternative based on multiple factors. |\n",
    "| Six Thinking Hats             | Encourages exploring a decision from various perspectives (logical, emotional, creative, optimistic, etc.). Promotes holistic and balanced reasoning. |"
   ]
  },
  {
   "cell_type": "markdown",
   "metadata": {},
   "source": [
    "### Step 5 - Execute a Decision Prompt with a Custom Execution Configuration"
   ]
  },
  {
   "cell_type": "markdown",
   "metadata": {},
   "source": [
    "Semantic Kernel supports the configuration of prompt execution. The typical OpenAI and Azure OpenAI settings are exposed as configuration options that provide a different prompt experience. Try changing the MaxTokens, Tempature or other settings.\n",
    "\n",
    "> Note: The supported settings are dependendent on the API plus the specific model version. For example, a model paired with an older API may not expose all the configuration settings available. Conversely, a new preview model may not have all the settings available until it becomes generally available.  "
   ]
  },
  {
   "cell_type": "code",
   "execution_count": 5,
   "metadata": {
    "dotnet_interactive": {
     "language": "csharp"
    },
    "polyglot_notebook": {
     "kernelName": "csharp"
    },
    "vscode": {
     "languageId": "polyglot-notebook"
    }
   },
   "outputs": [
    {
     "name": "stdout",
     "output_type": "stream",
     "text": [
      "Here are five decision-making frameworks that can enhance the quality of decisions, along with brief descriptions of how each supports better analysis and reasoning:\n",
      "\n",
      "1. **SWOT Analysis (Strengths, Weaknesses, Opportunities, Threats)**  \n",
      "   - **How it supports decision-making**: SWOT analysis helps individuals or organizations evaluate internal and external factors that affect a decision. By systematically identifying strengths and weaknesses (internal factors) and opportunities and threats (external factors), this framework provides a structured way to assess the current situation and anticipate potential outcomes. It is particularly useful for strategic planning and assessing business opportunities.\n",
      "\n",
      "2. **Cost-Benefit Analysis (CBA)**  \n",
      "   - **How it supports decision-making**: CBA involves comparing the costs and benefits of a decision to determine whether the benefits outweigh the costs. This quantitative approach helps prioritize options based on their net value, making it especially useful for financial, operational, or resource allocation decisions. It ensures that decisions are economically justified and aligned with organizational goals.\n",
      "\n",
      "3. **The Eisenhower Matrix (Urgent-Important Matrix)**  \n",
      "   - **How it supports decision-making**: This framework categorizes tasks or decisions based on their urgency and importance, dividing them into four quadrants: urgent and important, important but not urgent, urgent but not important, and neither urgent nor important. It helps prioritize actions, focus on high-impact activities, and avoid wasting time on low-value tasks. It is particularly effective for time management and prioritization.\n",
      "\n",
      "4. **Decision Trees**  \n",
      "   - **How it supports decision-making**: A decision tree is a graphical representation of possible choices, their potential outcomes, probabilities, and associated costs or benefits. This framework helps visualize complex decisions, evaluate multiple scenarios, and identify the most favorable path. It is especially useful in situations involving uncertainty, risk, or sequential decision-making.\n",
      "\n",
      "5. **Six Thinking Hats (Edward de Bono)**  \n",
      "   - **How it supports decision-making**: This framework encourages decision-makers to view a problem from six distinct perspectives, represented by metaphorical \"hats\": white (facts and information), red (emotions and intuition), black (risks and caution), yellow (optimism and benefits), green (creativity and alternatives), and blue (process and control). By systematically considering different viewpoints, it promotes balanced, creative, and comprehensive analysis, making it ideal for group decision-making and brainstorming sessions.\n",
      "\n",
      "Each of these frameworks provides a structured approach to decision-making, helping to reduce biases"
     ]
    }
   ],
   "source": [
    "// Create a new OpenAI prompt execution settings object\n",
    "var openAIPromptExecutionSettings = new OpenAIPromptExecutionSettings { \n",
    "    MaxTokens = 500, \n",
    "    Temperature = 0.3, \n",
    "    TopP = 1.0, \n",
    "    FrequencyPenalty = 0.0, \n",
    "    PresencePenalty = 0.0\n",
    "    };\n",
    "\n",
    "KernelArguments kernelArguments = new KernelArguments(openAIPromptExecutionSettings);\n",
    "await foreach (var streamChunk in semanticKernel.InvokePromptStreamingAsync(simpleDecisionPrompt, kernelArguments))\n",
    "{\n",
    "   Console.Write(streamChunk);\n",
    "}"
   ]
  },
  {
   "cell_type": "markdown",
   "metadata": {},
   "source": [
    "### Step 6 - Execute a Decision Prompt with a System Prompt (Custom AI Persona)"
   ]
  },
  {
   "cell_type": "markdown",
   "metadata": {},
   "source": [
    "When building Decison Intelligence prompts, all the typical best practices of prompt engineering apply when using Semantic Kernel.  Such as: \n",
    "* Make the prompt more specific (i.e. decision intelligence)\n",
    "* Add structure to the output with formatting\n",
    "* Provide examples with few-shot prompting\n",
    "* Instruct the AI what to do to avoid doing something else\n",
    "* Provide context (additional information) to the AI\n",
    "* Using Roles in Chat Completion API prompts\n",
    "* Give your AI words of encouragement  \n",
    "\n",
    "A key best practice is to provide a common behavior across all the LLM interactions in a system prompt. This system prompt is passed in on every single call the LLM with Semantic Kernel. By passing the same (or similar) system prompt with every prompt gives your Generative AI system a common persona. This common persona is the foundational building block of building AI agents; where the desired behavior is to have each agent have a unique persona/behavior every time you interact with that agent.\n",
    "\n",
    "Execute the cell below with a dynamic prompt template. Notice the different behavior of the output for decision frameworks. Based on the new system prompt instructions, the decision framework responses are much more robust with decision intelligence information."
   ]
  },
  {
   "cell_type": "code",
   "execution_count": 7,
   "metadata": {
    "dotnet_interactive": {
     "language": "csharp"
    },
    "polyglot_notebook": {
     "kernelName": "csharp"
    },
    "vscode": {
     "languageId": "polyglot-notebook"
    }
   },
   "outputs": [
    {
     "name": "stdout",
     "output_type": "stream",
     "text": [
      "PROMPT TO SEND TO THE CHAT COMPLETION SERVICE...\n",
      "\n",
      "System Prompt: \n",
      "You are a Decision Intelligence Assistant. \n",
      "Assist the user in exploring options, reasoning through decisions, problem-solving.\n",
      "Apply systems thinking to various scenarios. \n",
      "Provide structured, logical, and comprehensive decision advice.\n",
      "\n",
      "Request from the user: \n",
      "Recommend the top 5 decision frameworks that can be used for daily situations to make various decisions.\n",
      "These frameworks should be very easy to understand and apply in different scenarios.\n",
      "\n",
      "----------------------------------------\n",
      "\n",
      "RESPONSE FROM THE CHAT COMPLETION SERVICE...\n",
      "\n",
      "Here are five simple and versatile decision-making frameworks that can be applied to a wide range of daily situations. Each framework is easy to understand, practical, and adaptable to different contexts:\n",
      "\n",
      "---\n",
      "\n",
      "### **1. The Eisenhower Matrix (Urgent-Important Matrix)**\n",
      "**Purpose:** Prioritize tasks and decisions based on urgency and importance.\n",
      "\n",
      "**How it works:**\n",
      "- Divide tasks or decisions into four quadrants:\n",
      "  1. **Important & Urgent:** Do it immediately.\n",
      "  2. **Important but Not Urgent:** Schedule it for later.\n",
      "  3. **Not Important but Urgent:** Delegate or minimize time spent.\n",
      "  4. **Not Important & Not Urgent:** Eliminate or ignore.\n",
      "\n",
      "**When to use it:** \n",
      "- Time management, prioritizing tasks, or deciding what to focus on in a busy schedule.\n",
      "\n",
      "**Example:** Deciding whether to respond to an email immediately (urgent but not important) or work on a long-term project (important but not urgent).\n",
      "\n",
      "---\n",
      "\n",
      "### **2. The 80/20 Rule (Pareto Principle)**\n",
      "**Purpose:** Focus on the 20% of actions that yield 80% of the results.\n",
      "\n",
      "**How it works:**\n",
      "- Identify the small set of inputs (tasks, decisions, or actions) that will produce the majority of the desired outcomes.\n",
      "- Prioritize those high-impact actions and minimize time spent on low-impact activities.\n",
      "\n",
      "**When to use it:**\n",
      "- When you feel overwhelmed and need to focus on what matters most.\n",
      "\n",
      "**Example:** If 80% of your satisfaction comes from 20% of your hobbies, focus on those hobbies instead of spreading yourself thin.\n",
      "\n",
      "---\n",
      "\n",
      "### **3. The 10/10/10 Rule**\n",
      "**Purpose:** Evaluate the long-term impact of a decision.\n",
      "\n",
      "**How it works:**\n",
      "- Ask yourself:\n",
      "  1. How will I feel about this decision in **10 minutes**?\n",
      "  2. How will I feel about it in **10 months**?\n",
      "  3. How will I feel about it in **10 years**?\n",
      "- Use the answers to guide your decision-making.\n",
      "\n",
      "**When to use it:**\n",
      "- When faced with emotionally charged or impulsive decisions.\n",
      "\n",
      "**Example:** Deciding whether to buy an expensive gadget. In 10 minutes, you might feel excited, but in 10 months, you might regret the expense.\n",
      "\n",
      "---\n",
      "\n",
      "### **4. The DECIDE Model**\n",
      "**Purpose:** Provide a"
     ]
    }
   ],
   "source": [
    "// Create a system prompt instruction to override the default system prompt\n",
    "// Add the System Prompt (Persona) to behave like a decision intelligence assistant\n",
    "var systemPromptForDecisions = \"\"\"\n",
    "You are a Decision Intelligence Assistant. \n",
    "Assist the user in exploring options, reasoning through decisions, problem-solving.\n",
    "Apply systems thinking to various scenarios. \n",
    "Provide structured, logical, and comprehensive decision advice.\n",
    "\"\"\";\n",
    "var simpleDecisionPrompt = \"\"\"\n",
    "Recommend the top 5 decision frameworks that can be used for daily situations to make various decisions.\n",
    "These frameworks should be very easy to understand and apply in different scenarios.\n",
    "\"\"\";\n",
    "\n",
    "// How the prompt looks like to the LLM\n",
    "var simpleDecisionPromptTemplate = $\"\"\"\n",
    "System Prompt: \n",
    "{systemPromptForDecisions}\n",
    "\n",
    "Request from the user: \n",
    "{simpleDecisionPrompt}\n",
    "\"\"\";\n",
    "\n",
    "// Create a new OpenAI prompt execution settings object\n",
    "var openAIPromptExecutionSettings = new OpenAIPromptExecutionSettings { \n",
    "    ChatSystemPrompt = systemPromptForDecisions,\n",
    "    MaxTokens = 500, \n",
    "    Temperature = 0.3, \n",
    "    TopP = 1.0, \n",
    "    FrequencyPenalty = 0.0, \n",
    "    PresencePenalty = 0.0\n",
    "    };\n",
    "KernelArguments kernelArguments = new KernelArguments(openAIPromptExecutionSettings);\n",
    "\n",
    "Console.WriteLine(\"PROMPT TO SEND TO THE CHAT COMPLETION SERVICE...\");\n",
    "Console.WriteLine(string.Empty);\n",
    "Console.WriteLine(simpleDecisionPromptTemplate);\n",
    "Console.WriteLine(string.Empty);\n",
    "Console.WriteLine(\"----------------------------------------\");\n",
    "Console.WriteLine(string.Empty);\n",
    "Console.WriteLine(\"RESPONSE FROM THE CHAT COMPLETION SERVICE...\");\n",
    "Console.WriteLine(string.Empty);\n",
    "\n",
    "await foreach (var streamChunk in semanticKernel.InvokePromptStreamingAsync(simpleDecisionPrompt, kernelArguments))\n",
    "{\n",
    "   Console.Write(streamChunk);\n",
    "}"
   ]
  },
  {
   "cell_type": "markdown",
   "metadata": {},
   "source": [
    "### Step 7 - Decision Scenario with a System Prompt (Custom AI Persona)"
   ]
  },
  {
   "cell_type": "markdown",
   "metadata": {},
   "source": [
    "In this step a scenario will be introduced requiring analysis and a recommendation performed by Artificial Intelligence. The full Decision Intelligence framework will not be used, rather a simple request for Artificial Intelligene to recommend a path forward (decision recommedation) for the human user to ultimately make the final decision.  \n",
    "\n",
    "**Decision Scenario:** Your high school daughter Alex is deciding whether to enroll directly in a four-year university or start at a community college to earn an associate degree first. These are the main decision factors: financial, career uncertainty, academic consistency and future impact. You have all the decision factor details available to pass to the GenAI model prompt. You are looking for an impartial (non-family) recommendation. Can Artificial Intelligence help Alex decide? \n",
    "\n",
    "<img style=\"display: block; margin: auto;\" width =\"700px\" src=\"https://raw.githubusercontent.com/bartczernicki/DecisionIntelligence.GenAI.Workshop/main/Images/Scenarios/Scenario-SimpleDecision-College.png\">"
   ]
  },
  {
   "cell_type": "code",
   "execution_count": 8,
   "metadata": {
    "dotnet_interactive": {
     "language": "csharp"
    },
    "polyglot_notebook": {
     "kernelName": "csharp"
    },
    "vscode": {
     "languageId": "polyglot-notebook"
    }
   },
   "outputs": [
    {
     "name": "stdout",
     "output_type": "stream",
     "text": [
      "### Recommendation: Start at a Community College\n",
      "\n",
      "Based on the decision factors provided, starting at a community college and later transferring to a four-year university is the most strategic option for Alex. Below is a detailed analysis of the decision in a structured Markdown table format:\n",
      "\n",
      "| **Decision Factor**          | **Four-Year University**                                                                                 | **Community College**                                                                                              | **Recommendation**                                                                                              |\n",
      "|------------------------------|----------------------------------------------------------------------------------------------------------|-------------------------------------------------------------------------------------------------------------------|----------------------------------------------------------------------------------------------------------------|\n",
      "| **Financial Considerations** | High cost ($50,000-$60,000/year). Family can afford it with loans, but cost is a medium concern.          | Significantly lower cost ($3,000-$5,000/year). Saves money upfront, reducing the need for loans.                  | Community college is more cost-effective, especially since Alex is uncertain about her major.                  |\n",
      "| **Career and Major Uncertainty** | Risk of switching majors could lead to extra time and cost. Limited flexibility to explore without financial pressure. | Allows Alex to explore business, psychology, and arts at a lower cost. Transferable credits reduce financial risk. | Community college provides a low-risk environment for exploration and avoids costly delays from switching majors. |\n",
      "| **Academic Consistency and Networking** | Early access to professors, internships, and campus groups. Stronger continuity in academic and social experiences. | Delayed access to four-year university resources, but Alex can still build connections after transferring.         | While four-year universities offer early networking, Alex can still build a strong network post-transfer.       |\n",
      "| **Future Impact**            | Potential for higher student loan debt, which could limit financial flexibility after graduation.         | Lower debt burden increases financial stability and career flexibility post-graduation.                           | Community college minimizes financial risk, allowing Alex to focus on long-term career goals.                  |\n",
      "\n",
      "### Key Reasoning:\n",
      "1. **Financial Prudence**: Starting at a community college saves significant money, which is particularly important given Alex's uncertainty about her major. This approach reduces the financial burden and allows her to explore her interests without the pressure of high tuition costs.\n",
      "   \n",
      "2. **Flexibility for Exploration**: Community college provides a lower-stakes environment for Alex to explore her interests in business, psychology, and the arts. Once she has more clarity, she can transfer to a four-year university with a focused plan, minimizing the risk of extended time in school.\n",
      "\n",
      "3. **Long-Term Financial Stability**: By saving money in the first two years, Alex can reduce the amount of student loan debt she incurs, giving her more financial freedom after graduation.\n",
      "\n",
      "4. **Transfer Opportunities**: Many community colleges have articulation agreements with four-year universities, ensuring that credits transfer seamlessly. This allows Alex to transition smoothly to a bachelor's program without losing time or academic progress.\n",
      "\n",
      "5. **Networking and Professional Growth**: While Alex may delay access to university-level networking opportunities, she can still build strong connections after transferring. The delayed start to networking is outweighed by the financial and exploratory benefits of starting at a community college.\n",
      "\n",
      "### Conclusion:\n",
      "Starting at a community college allows Alex to explore her academic interests at a lower cost, reduces financial risk, and provides a solid foundation for transferring to a four-year university. This path aligns with her goals of minimizing debt while gaining clarity about her career direction."
     ]
    }
   ],
   "source": [
    "// Create a system prompt instruction to override the default system prompt\n",
    "// Add the System Prompt (Persona) to behave like a decision intelligence assistant\n",
    "var systemPromptForDecisions = \"\"\"\n",
    "You are a Decision Intelligence Assistant. \n",
    "Assist the user in exploring options, reasoning through decisions, problem-solving.\n",
    "Apply systems thinking to various scenarios. \n",
    "Provide structured, logical, and comprehensive decision advice.\n",
    "\"\"\";\n",
    "// Provide a description of the decision scenario and the desired output \n",
    "// Provide detailed decision scenario considerations and information about Alex (the decision-maker) \n",
    "var scenarioDecisionPrompt = \"\"\"\n",
    "Imagine you Are advising a daughter named Alex who is deciding whether to enroll directly in a well-regarded four-year \n",
    "university or start at a community college to earn an associate degree first. \n",
    "\n",
    "Make a single recommendation based on the following decision factor details. \n",
    "Output the recommedation in a Markdown table format. \n",
    "\n",
    "Financial Considerations:\n",
    "A four-year university will cost significantly more in tuition, housing, and related expenses \n",
    "(estimated $50,000-$60,000 per year). A two-year associate program at a local community college could \n",
    "save substantial money (estimated $3,000-$5,000 per year), but Alex may have to transfer to a \n",
    "four-year institution later to complete a bachelor's degree. The family can afford the four-year university, \n",
    "with some loans, but the cost is only a medium concern. \n",
    "\n",
    "Career and Major Uncertainty:\n",
    "Alex is not entirely sure what she wants to major in. She is torn between business, psychology, and \n",
    "possibly something in the arts. She worries that if she starts at the four-year university, \n",
    "she might switch majors and incur extra time and cost. On the other hand, \n",
    "community college might give her space to explore options, \n",
    "but transferring could mean adjusting to a new campus and curriculum midway through.\n",
    "\n",
    "Academic Consistency and Networking:\n",
    "Going straight to the four-year university would allow Alex to forge early relationships with professors, \n",
    "join campus groups, and potentially secure internships or research opportunities. Starting at community college might \n",
    "delay those opportunities, but it could also let her explore different fields at a lower cost. \n",
    "She might miss out on the “full campus” experience early on, but transferring later means she could \n",
    "still build connections, just on a different timeline. Alex is not overly concerned about the social aspect of college.\n",
    "\n",
    "Future Impact:\n",
    "Alex wants a solid professional network and relevant experience when she graduates. She is also concerned \n",
    "about taking on significant student loan debt. The decision affects not only her immediate academic path but \n",
    "also her long-term financial stability and career prospects. Given these factors, provide a reasoned analysis of \n",
    "whether Alex should attend the four-year university right away or begin with an associate degree program at a \n",
    "local community college.\n",
    "\"\"\";\n",
    "\n",
    "// How the prompt looks like to the LLM\n",
    "var scenarioDecisionPromptTemplate = $\"\"\"\n",
    "System Prompt: {systemPromptForDecisions}\n",
    "\n",
    "Request from the user: {scenarioDecisionPrompt}\n",
    "\"\"\";\n",
    "\n",
    "// Create a new OpenAI prompt execution settings object\n",
    "var openAIPromptExecutionSettings = new OpenAIPromptExecutionSettings { \n",
    "    ChatSystemPrompt = systemPromptForDecisions,\n",
    "    MaxTokens = 750, \n",
    "    Temperature = 0.3, \n",
    "    TopP = 1.0, \n",
    "    FrequencyPenalty = 0.0, \n",
    "    PresencePenalty = 0.0\n",
    "    };\n",
    "KernelArguments kernelArguments = new KernelArguments(openAIPromptExecutionSettings);\n",
    "\n",
    "await foreach (var streamChunk in semanticKernel.InvokePromptStreamingAsync(scenarioDecisionPromptTemplate, kernelArguments))\n",
    "{\n",
    "   Console.Write(streamChunk);\n",
    "}"
   ]
  }
 ],
 "metadata": {
  "kernelspec": {
   "display_name": ".NET (C#)",
   "language": "C#",
   "name": ".net-csharp"
  },
  "language_info": {
   "name": "csharp"
  },
  "polyglot_notebook": {
   "kernelInfo": {
    "defaultKernelName": "csharp",
    "items": [
     {
      "aliases": [],
      "name": "csharp"
     }
    ]
   }
  }
 },
 "nbformat": 4,
 "nbformat_minor": 2
}
