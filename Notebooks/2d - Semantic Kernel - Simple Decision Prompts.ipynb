{
 "cells": [
  {
   "cell_type": "markdown",
   "metadata": {},
   "source": [
    "<img style=\"float: left;padding-right: 10px\" width =\"40px\" src=\"https://raw.githubusercontent.com/bartczernicki/DecisionIntelligence.GenAI.Workshop/main/Images/SemanticKernelLogo.png\">\n",
    "\n",
    "## Semantic Kernel - Simple Decision Prompts"
   ]
  },
  {
   "cell_type": "markdown",
   "metadata": {},
   "source": [
    "Decision Intelligence applied in this module:  \n",
    "* Listing of various decision-making frameworks and with their descriptions by using GenAI prompt engineering  \n",
    "* Creating custom AI personas with a system decision prompt  \n",
    "* Generating decision outputs using easier to consume formats (Markdown)     \n",
    "\n",
    "Prompts are the fundemental building block to getting the proper responses from AI models. This module demonstrates how to use common prompt engineering techniques while using Semantic Kernel. If you've ever used ChatGPT or Microsoft Copilot, you're already familiar with prompting. Given a prompt instruction, an LLM will attempt to predict the most likely response. With Semantic Kernel, you can craft applications, services & APIs that execute prompts.  \n",
    "\n",
    "For more information on using prompts with Semantic Kernel, visit: https://learn.microsoft.com/en-us/semantic-kernel/prompts/your-first-prompt  \n",
    "\n",
    "The process of carefully crafting questions or instructions for AI is called **Prompt Engineering**. Prompt Engineering involves designing and refining input prompts—text or questions—so that the AI produces responses that are more relevant, useful, or accurate. The goal of prompt engineering is to \"tune\" the prompt in a way that maximizes the quality and clarity of the AI's response, often using specific wording, context, or examples within the prompt itself.\n",
    "\n",
    "Decision Intelligence and Prompt Engineering techniques can be combined to created \"Generative AI Decision Intellignce\"! This can leverage GenAI models to reason over complex tasks, gather intelligence for decisions, recommend decisions, communicate decisions etc. "
   ]
  },
  {
   "cell_type": "markdown",
   "metadata": {},
   "source": [
    "### Step 1 - Initialize Configuration Builder & Build the Semantic Kernel Orchestration "
   ]
  },
  {
   "cell_type": "markdown",
   "metadata": {},
   "source": [
    "Execute the next two cells to:\n",
    "* Use the Configuration Builder to load the API secrets.  \n",
    "* Use the API configuration to build the Semantic Kernel orchestrator."
   ]
  },
  {
   "cell_type": "code",
   "execution_count": 1,
   "metadata": {
    "dotnet_interactive": {
     "language": "csharp"
    },
    "polyglot_notebook": {
     "kernelName": "csharp"
    },
    "vscode": {
     "languageId": "polyglot-notebook"
    }
   },
   "outputs": [
    {
     "data": {
      "text/html": [
       "<div><div></div><div></div><div><strong>Installed Packages</strong><ul><li><span>Microsoft.Extensions.Configuration, 9.0.0</span></li><li><span>Microsoft.Extensions.Configuration.Json, 9.0.0</span></li></ul></div></div>"
      ]
     },
     "metadata": {},
     "output_type": "display_data"
    }
   ],
   "source": [
    "// Import the required NuGet configuration packages\n",
    "#r \"nuget: Microsoft.Extensions.Configuration, 9.0.0\"\n",
    "#r \"nuget: Microsoft.Extensions.Configuration.Json, 9.0.0\"\n",
    "\n",
    "using Microsoft.Extensions.Configuration.Json;\n",
    "using Microsoft.Extensions.Configuration;\n",
    "using System.IO;\n",
    "\n",
    "// Load the configuration settings from the local.settings.json and secrets.settings.json files\n",
    "// The secrets.settings.json file is used to store sensitive information such as API keys\n",
    "var configurationBuilder = new ConfigurationBuilder()\n",
    "    .SetBasePath(Directory.GetCurrentDirectory())\n",
    "    .AddJsonFile(\"local.settings.json\", optional: true, reloadOnChange: true)\n",
    "    .AddJsonFile(\"secrets.settings.json\", optional: true, reloadOnChange: true);\n",
    "var config = configurationBuilder.Build();\n",
    "\n",
    "// IMPORTANT: You ONLY NEED either Azure OpenAI or OpenAI connectiopn info, not both.\n",
    "// Azure OpenAI Connection Info\n",
    "var azureOpenAIEndpoint = config[\"AzureOpenAI:Endpoint\"];\n",
    "var azureOpenAIAPIKey = config[\"AzureOpenAI:APIKey\"];\n",
    "var azureOpenAIModelDeploymentName = config[\"AzureOpenAI:ModelDeploymentName\"];\n",
    "// OpenAI Connection Info \n",
    "var openAIAPIKey = config[\"OpenAI:APIKey\"];\n",
    "var openAIModelId = config[\"OpenAI:ModelId\"];"
   ]
  },
  {
   "cell_type": "code",
   "execution_count": 2,
   "metadata": {
    "dotnet_interactive": {
     "language": "csharp"
    },
    "polyglot_notebook": {
     "kernelName": "csharp"
    },
    "vscode": {
     "languageId": "polyglot-notebook"
    }
   },
   "outputs": [
    {
     "data": {
      "text/html": [
       "<div><div></div><div></div><div><strong>Installed Packages</strong><ul><li><span>Microsoft.SemanticKernel, 1.45.0</span></li></ul></div></div>"
      ]
     },
     "metadata": {},
     "output_type": "display_data"
    },
    {
     "name": "stdout",
     "output_type": "stream",
     "text": [
      "Using Azure OpenAI Service\r\n"
     ]
    }
   ],
   "source": [
    "// Import the Semantic Kernel NuGet package\n",
    "#r \"nuget: Microsoft.SemanticKernel, 1.45\"\n",
    "\n",
    "using Microsoft.Extensions.DependencyInjection.Extensions;\n",
    "using Microsoft.Extensions.DependencyInjection;\n",
    "using Microsoft.SemanticKernel;\n",
    "using Microsoft.SemanticKernel.ChatCompletion;\n",
    "using Microsoft.SemanticKernel.Connectors.OpenAI;\n",
    "\n",
    "Kernel semanticKernel;\n",
    "\n",
    "// Set the flag to use Azure OpenAI or OpenAI. False to use OpenAI, True to use Azure OpenAI\n",
    "var useAzureOpenAI = true;\n",
    "\n",
    "// Create a new Semantic Kernel instance\n",
    "if (useAzureOpenAI)\n",
    "{\n",
    "    Console.WriteLine(\"Using Azure OpenAI Service\");\n",
    "    semanticKernel = Kernel.CreateBuilder()\n",
    "        .AddAzureOpenAIChatCompletion(\n",
    "            deploymentName: azureOpenAIModelDeploymentName,\n",
    "            endpoint: azureOpenAIEndpoint,\n",
    "            apiKey: azureOpenAIAPIKey)\n",
    "        .Build();\n",
    "}\n",
    "else\n",
    "{\n",
    "    Console.WriteLine(\"Using OpenAI Service\");\n",
    "    semanticKernel = Kernel.CreateBuilder()\n",
    "        .AddOpenAIChatCompletion(\n",
    "            modelId: openAIModelId,\n",
    "            apiKey: openAIAPIKey)\n",
    "        .Build();\n",
    "}"
   ]
  },
  {
   "cell_type": "markdown",
   "metadata": {},
   "source": [
    "### Step 2 - Execute a Decision Prompt "
   ]
  },
  {
   "cell_type": "markdown",
   "metadata": {},
   "source": [
    "Many LLMs and even SLMs have been trained on knowledge that includes decision frameworks & processes. This makes LLMs great assistants to:\n",
    "* Provide proper Decision Frames\n",
    "* Gather Intelligence (information) in order to make a decision\n",
    "* Recommend Decision Frameworks to make a high-quality decision\n",
    "* Provide feedback to evaluate a Decision\n",
    "\n",
    "Once the Semantic Kernel instance is built, it is ready to intake prompt instructions. In the prompt below, the Semantic Kernel is instructed to provide examples of decision frameworks \"trained into\" the knowledge of the configured AI model.  "
   ]
  },
  {
   "cell_type": "code",
   "execution_count": 3,
   "metadata": {
    "dotnet_interactive": {
     "language": "csharp"
    },
    "polyglot_notebook": {
     "kernelName": "csharp"
    },
    "vscode": {
     "languageId": "polyglot-notebook"
    }
   },
   "outputs": [
    {
     "name": "stdout",
     "output_type": "stream",
     "text": [
      "Here are five decision-making frameworks, along with brief descriptions of how each supports better analysis and reasoning:\n",
      "\n",
      "---\n",
      "\n",
      "### 1. **The Rational Decision-Making Model**\n",
      "   - **Description**: This framework involves a step-by-step approach to making decisions by systematically identifying the problem, gathering information, evaluating alternatives, selecting the best option, implementing the decision, and assessing its outcome.\n",
      "   - **How It Enhances Decision-Making**:\n",
      "     - Encourages a structured and logical process, minimizing emotional biases.\n",
      "     - Facilitates thorough evaluation of alternatives based on objective criteria.\n",
      "     - Promotes proactive planning and accountability by assessing consequences in advance.\n",
      "\n",
      "---\n",
      "\n",
      "### 2. **The OODA Loop (Observe, Orient, Decide, Act)**\n",
      "   - **Description**: Developed by military strategist John Boyd, this cyclical framework emphasizes rapid, iterative decision-making based on constantly evolving circumstances.\n",
      "   - **How It Enhances Decision-Making**:\n",
      "     - Helps adapt quickly to dynamic situations, making it ideal for scenarios requiring agility and responsiveness.\n",
      "     - Incorporates continuous observation and analysis, ensuring relevant and accurate information guides decisions.\n",
      "     - Encourages flexibility and alignment with real-time feedback.\n",
      "\n",
      "---\n",
      "\n",
      "### 3. **SWOT Analysis (Strengths, Weaknesses, Opportunities, Threats)**\n",
      "   - **Description**: This framework systematically evaluates internal and external factors related to a decision, helping identify strategic advantages and risks.\n",
      "   - **How It Enhances Decision-Making**:\n",
      "     - Provides a clear picture of the situation, emphasizing both capabilities and vulnerabilities.\n",
      "     - Facilitates informed decisions by balancing opportunities against threats.\n",
      "     - Encourages holistic thinking, integrating internal and external perspectives.\n",
      "\n",
      "---\n",
      "\n",
      "### 4. **Cost-Benefit Analysis (CBA)**\n",
      "   - **Description**: A quantitative framework that compares the costs and benefits of various options to determine the most economically efficient choice.\n",
      "   - **How It Enhances Decision-Making**:\n",
      "     - Promotes objective analysis by focusing on measurable outcomes.\n",
      "     - Helps prioritize decisions with the highest return on investment or impact.\n",
      "     - Reduces risk of overspending or inefficient resource allocation by analyzing trade-offs.\n",
      "\n",
      "---\n",
      "\n",
      "### 5. **The Eisenhower Matrix**\n",
      "   - **Description**: A time-management framework that categorizes tasks or decisions based on their urgency and importance, helping prioritize actions effectively.\n",
      "   - **How It Enhances Decision-Making**:\n",
      "     - Clarifies which tasks require immediate attention and which can be delegated or deferred.\n",
      "     - Prevents decision fatigue by eliminating distractions tied to unimportant matters.\n",
      "     - Improves focus by aligning decisions with long-term strategic goals.\n",
      "\n",
      "---\n",
      "\n",
      "Each of these frameworks offers unique advantages depending on the type of decision, available information, and level of complexity involved. By applying the most appropriate framework to a given scenario, decision-makers can build greater confidence in their choices and achieve better outcomes.\r\n"
     ]
    }
   ],
   "source": [
    "// A Decision Intelligence prompt to help with describing decision-making frameworks\n",
    "var simpleDecisionPrompt = \"\"\"\n",
    "Identify and list 5 decision-making frameworks that can enhance the quality of decisions. \n",
    "Briefly describe how each decision-making framework supports better analysis and reasoning in various scenarios.\n",
    "\"\"\";\n",
    "\n",
    "var simplePromptResponse = await semanticKernel.InvokePromptAsync(simpleDecisionPrompt);\n",
    "Console.WriteLine(simplePromptResponse.GetValue<string>());"
   ]
  },
  {
   "cell_type": "markdown",
   "metadata": {},
   "source": [
    "### Step 3 - Execute a Decision Prompt with Streaming"
   ]
  },
  {
   "cell_type": "markdown",
   "metadata": {},
   "source": [
    "Semantic Kernel supports prompt response streaming when invoking the prompt. This allows responses to be streamed to the client as soon as they are made available by the LLM and service. Below the same decision prompt is executed. However, notice that chunks are streamed and can be read by the user as soon as they appear. \n",
    "\n",
    "> 📝 Note: An average human can read between 25-40 Tokens / second. Therefore, wile streaming certainly helps with providing AI output to the user, it begins to lose its effectivness at large token velocity.  "
   ]
  },
  {
   "cell_type": "code",
   "execution_count": 4,
   "metadata": {
    "dotnet_interactive": {
     "language": "csharp"
    },
    "polyglot_notebook": {
     "kernelName": "csharp"
    },
    "vscode": {
     "languageId": "polyglot-notebook"
    }
   },
   "outputs": [
    {
     "name": "stdout",
     "output_type": "stream",
     "text": [
      "Here are five decision-making frameworks that can enhance the quality of decisions, along with brief descriptions of how each framework supports better analysis and reasoning:\n",
      "\n",
      "---\n",
      "\n",
      "### 1. **SWOT Analysis (Strengths, Weaknesses, Opportunities, Threats)**\n",
      "**Description**: SWOT Analysis is a structured approach for evaluating internal and external factors that affect decision-making.  \n",
      "**How it supports better decisions**:  \n",
      "- Encourages comprehensive thinking by assessing both positive (strengths, opportunities) and negative (weaknesses, threats) elements.\n",
      "- Helps prioritize areas of focus and develop strategic responses to opportunities or threats.\n",
      "- Useful for identifying competitive advantages and potential risks.\n",
      "\n",
      "---\n",
      "\n",
      "### 2. **The Eisenhower Matrix (Urgent vs. Important)**\n",
      "**Description**: This framework separates tasks or decisions into four quadrants based on urgency and importance.  \n",
      "**How it supports better decisions**:  \n",
      "- Enables better prioritization by focusing on important tasks, reducing the risk of spending energy on trivial matters.\n",
      "- Prevents decision paralysis by categorizing tasks and aligning focus with long-term goals.\n",
      "- Ideal for enhancing time management and resource allocation in decision-making.\n",
      "\n",
      "---\n",
      "\n",
      "### 3. **PDCA Cycle (Plan-Do-Check-Act)**\n",
      "**Description**: PDCA cycle is a continuous improvement framework that emphasizes iterative problem-solving.  \n",
      "**How it supports better decisions**:  \n",
      "- Promotes methodical planning and experimentation through iterative cycles.\n",
      "- Ensures decisions are evaluated and refined based on feedback and observed outcomes.\n",
      "- Encourages adaptability and continuous improvement, reducing the likelihood of costly errors.\n",
      "\n",
      "---\n",
      "\n",
      "### 4. **Cost-Benefit Analysis (CBA)**\n",
      "**Description**: This framework involves comparing the costs and benefits of each decision option quantitatively or qualitatively to identify the optimal choice.  \n",
      "**How it supports better decisions**:  \n",
      "- Provides a clear understanding of the financial and resource implications of each option.\n",
      "- Helps prioritize decisions that maximize value or positive outcomes while minimizing costs and risks.\n",
      "- Encourages objective evaluation of trade-offs, reducing emotional bias in decision-making.\n",
      "\n",
      "---\n",
      "\n",
      "### 5. **Six Thinking Hats**\n",
      "**Description**: This framework uses six metaphorical \"hats\" to explore decisions from different perspectives – facts (White Hat), emotions (Red Hat), creativity (Green Hat), caution (Black Hat), optimism (Yellow Hat), and process (Blue Hat).  \n",
      "**How it supports better decisions**:  \n",
      "- Encourages diverse modes of thinking to explore a decision holistically and reduce blind spots.\n",
      "- Improves collaboration by allowing individuals to focus on specific angles in structured discussions.\n",
      "- Enhances creative problem-solving while ensuring risks and practicalities are adequately considered.\n",
      "\n",
      "--- \n",
      "\n",
      "These frameworks are adaptable to different scenarios and industries, providing clarity, structure, and a balanced analysis to support effective decision-making."
     ]
    }
   ],
   "source": [
    "// Decision Prompt using Streaming output chunks \n",
    "await foreach (var streamChunk in semanticKernel.InvokePromptStreamingAsync(simpleDecisionPrompt))\n",
    "{\n",
    "   Console.Write(streamChunk);\n",
    "}"
   ]
  },
  {
   "cell_type": "markdown",
   "metadata": {},
   "source": [
    "### Step 4 - Execute a Decision Prompt with Improved Output Formatting  "
   ]
  },
  {
   "cell_type": "markdown",
   "metadata": {},
   "source": [
    "Generative AI models have an inherent ability to not only provide decision reasoning analysis, but also format the output in a desired format. This could be as simple as instructing the Generative AI model to format the decision as a single sentence, paragraphs or lists. However more sophisticated output generations can be instructed. For example, the GenAI model can ouput Markdown or even extract information and fill in a desired schema (JSON). Specifically for Decision Intelligence, you can ask the GenAI models to apply decision communication frameworks to the generation as well. \n",
    "\n",
    "Execute the simple decision prompt below with Markdown formatting ouptut. This table can now be rendered in a Markdown document for easy human comprehension. Markdown tables and other formats can be used on web sites, document, programming code etc. Even Generative AI models understand Markdown format, which can not only be used for output but inside input prompts.  "
   ]
  },
  {
   "cell_type": "code",
   "execution_count": 5,
   "metadata": {
    "dotnet_interactive": {
     "language": "csharp"
    },
    "polyglot_notebook": {
     "kernelName": "csharp"
    },
    "vscode": {
     "languageId": "polyglot-notebook"
    }
   },
   "outputs": [
    {
     "name": "stdout",
     "output_type": "stream",
     "text": [
      "| Decision-Making Framework     | Description                                                                                     |\n",
      "|-------------------------------|-------------------------------------------------------------------------------------------------|\n",
      "| SWOT Analysis                 | Evaluates Strengths, Weaknesses, Opportunities, and Threats to help identify internal and external factors impacting a decision. Organizes information for clear strategic analysis. |\n",
      "| Decision Matrix               | Uses a grid to compare multiple options against set criteria with weighted scores, ensuring consistent and objective evaluation of alternatives.                 |\n",
      "| Cost-Benefit Analysis         | Compares the financial and non-financial costs and benefits of a decision, promoting resource-efficient and pragmatic outcomes.                         |\n",
      "| Six Thinking Hats             | Encourages assessment from different perspectives (logic, emotion, risk, optimism, etc.), fostering comprehensive and balanced reasoning.              |\n",
      "| OODA Loop                     | Focuses on Observe, Orient, Decide, and Act cycles for dynamic decision-making, particularly in fast-changing or uncertain environments.                 |"
     ]
    }
   ],
   "source": [
    "// A new decision prompt to help with describing decision-making frameworks using Markdown format\n",
    "var simpleDecisionPromptWithMarkdownFormat = \"\"\"\n",
    "Identify and list 5 decision-making frameworks that can enhance the quality of decisions. \n",
    "Briefly describe how each decision-making framework supports better analysis and reasoning in various scenarios.\n",
    "\n",
    "Format the response using only a Markdown table. Do not enclose the table in triple backticks.\n",
    "\"\"\";\n",
    "\n",
    "await foreach (var streamChunk in semanticKernel.InvokePromptStreamingAsync(simpleDecisionPromptWithMarkdownFormat))\n",
    "{\n",
    "   Console.Write(streamChunk);\n",
    "}"
   ]
  },
  {
   "cell_type": "markdown",
   "metadata": {},
   "source": [
    "| Decision-Making Framework   | Description                                                                                       |\n",
    "|-----------------------------|---------------------------------------------------------------------------------------------------|\n",
    "| SWOT Analysis              | Helps identify Strengths, Weaknesses, Opportunities, and Threats, providing a structured way to assess internal and external factors. |\n",
    "| Decision Matrix             | Offers a systematic method by assigning weights and scores to criteria, helping prioritize options objectively. |\n",
    "| Cost-Benefit Analysis       | Compares the costs and benefits of a decision quantitatively, aiding in evaluating its feasibility and potential return.         |\n",
    "| Six Thinking Hats           | Encourages examining a decision from multiple perspectives (e.g., facts, emotions, risks), promoting balanced and creative analysis. |\n",
    "| 80/20 Rule (Pareto Analysis)| Focuses on identifying the most impactful 20% of factors that contribute to 80% of outcomes, enhancing efficiency in decision-making.|"
   ]
  },
  {
   "cell_type": "markdown",
   "metadata": {},
   "source": [
    "### Step 5 - Execute a Decision Prompt with a Custom Prompt Execution Configuration"
   ]
  },
  {
   "cell_type": "markdown",
   "metadata": {},
   "source": [
    "Semantic Kernel supports the configuration of prompt execution. The typical OpenAI and Azure OpenAI settings are exposed as configuration options that provide a different prompt experience. Try changing the MaxTokens, Tempature or other settings.\n",
    "\n",
    "> 📝 Note: The supported settings are dependendent on the API plus the specific model version. For example, a model paired with an older API may not expose all the configuration settings available. Conversely, a new preview model may not have all the settings available until it becomes generally available.  "
   ]
  },
  {
   "cell_type": "code",
   "execution_count": 6,
   "metadata": {
    "dotnet_interactive": {
     "language": "csharp"
    },
    "polyglot_notebook": {
     "kernelName": "csharp"
    },
    "vscode": {
     "languageId": "polyglot-notebook"
    }
   },
   "outputs": [
    {
     "name": "stdout",
     "output_type": "stream",
     "text": [
      "Here are five decision-making frameworks that can enhance the quality of decisions, along with brief descriptions of how each supports better analysis and reasoning:\n",
      "\n",
      "---\n",
      "\n",
      "### 1. **SWOT Analysis (Strengths, Weaknesses, Opportunities, Threats)**  \n",
      "**Description:**  \n",
      "SWOT analysis is a structured framework for evaluating internal and external factors that impact a decision. It helps decision-makers identify strengths and weaknesses within their organization or situation, as well as external opportunities and threats.  \n",
      "\n",
      "**How it supports better decision-making:**  \n",
      "- Encourages a balanced evaluation of internal and external factors.  \n",
      "- Helps prioritize actions by focusing on strengths and opportunities while mitigating weaknesses and threats.  \n",
      "- Provides clarity in complex scenarios by breaking down key elements systematically.  \n",
      "\n",
      "---\n",
      "\n",
      "### 2. **Cost-Benefit Analysis (CBA)**  \n",
      "**Description:**  \n",
      "CBA is a quantitative framework that compares the costs and benefits of a decision or action. It involves assigning monetary or qualitative values to outcomes to determine whether the benefits outweigh the costs.  \n",
      "\n",
      "**How it supports better decision-making:**  \n",
      "- Facilitates objective evaluation by quantifying trade-offs.  \n",
      "- Helps identify the most efficient or profitable option among alternatives.  \n",
      "- Reduces emotional bias by focusing on measurable outcomes.  \n",
      "\n",
      "---\n",
      "\n",
      "### 3. **The Eisenhower Matrix (Urgent vs. Important)**  \n",
      "**Description:**  \n",
      "This framework categorizes tasks or decisions based on urgency and importance. It divides actions into four quadrants: urgent and important, important but not urgent, urgent but not important, and neither urgent nor important.  \n",
      "\n",
      "**How it supports better decision-making:**  \n",
      "- Helps prioritize tasks and decisions effectively.  \n",
      "- Encourages focus on long-term goals by emphasizing important but non-urgent activities.  \n",
      "- Reduces stress and inefficiency by avoiding unnecessary focus on unimportant tasks.  \n",
      "\n",
      "---\n",
      "\n",
      "### 4. **The Six Thinking Hats**  \n",
      "**Description:**  \n",
      "Developed by Edward de Bono, this framework encourages decision-makers to adopt six different perspectives (hats): White (facts), Red (emotions), Black (risks), Yellow (benefits), Green (creativity), and Blue (process control).  \n",
      "\n",
      "**How it supports better decision-making:**  \n",
      "- Promotes holistic thinking by considering multiple viewpoints.  \n",
      "- Encourages creativity and innovation while addressing risks and facts.  \n",
      "- Reduces groupthink by ensuring diverse perspectives are explored.  \n",
      "\n",
      "---\n",
      "\n",
      "### 5. **Decision Trees**  \n",
      "**Description:**  \n",
      "A decision tree is"
     ]
    }
   ],
   "source": [
    "// Create a new OpenAI prompt execution settings object\n",
    "var openAIPromptExecutionSettings = new OpenAIPromptExecutionSettings { \n",
    "    MaxTokens = 500, \n",
    "    Temperature = 0.3, \n",
    "    TopP = 1.0, \n",
    "    FrequencyPenalty = 0.0, \n",
    "    PresencePenalty = 0.0\n",
    "    };\n",
    "\n",
    "KernelArguments kernelArguments = new KernelArguments(openAIPromptExecutionSettings);\n",
    "await foreach (var streamChunk in semanticKernel.InvokePromptStreamingAsync(simpleDecisionPrompt, kernelArguments))\n",
    "{\n",
    "   Console.Write(streamChunk);\n",
    "}"
   ]
  },
  {
   "cell_type": "markdown",
   "metadata": {},
   "source": [
    "### Step 6 - Execute a Decision Prompt with a System Prompt (Custom AI Persona)"
   ]
  },
  {
   "cell_type": "markdown",
   "metadata": {},
   "source": [
    "When building Decison Intelligence prompts, all the typical best practices of prompt engineering apply when using Semantic Kernel.  Such as: \n",
    "* Make the prompt more specific (i.e. decision intelligence)\n",
    "* Add structure to the output with formatting\n",
    "* Provide examples with few-shot prompting\n",
    "* Instruct the AI what to do to avoid doing something else\n",
    "* Provide context (additional information) to the AI\n",
    "* Using Roles in Chat Completion API prompts\n",
    "* Give your AI words of encouragement  \n",
    "\n",
    "A key best practice is to provide a common behavior across all the LLM interactions in a system prompt. This system prompt is passed in on every single call the LLM with Semantic Kernel. By passing the same (or similar) system prompt with every prompt gives your Generative AI system a common persona. This common persona is the foundational building block of building AI agents; where the desired behavior is to have each agent have a unique persona/behavior every time you interact with that agent.\n",
    "\n",
    "Execute the cell below with a dynamic prompt template. Notice the different behavior of the output for decision frameworks. Based on the new system prompt instructions, the decision framework responses are much more robust with decision intelligence information."
   ]
  },
  {
   "cell_type": "code",
   "execution_count": 7,
   "metadata": {
    "dotnet_interactive": {
     "language": "csharp"
    },
    "polyglot_notebook": {
     "kernelName": "csharp"
    },
    "vscode": {
     "languageId": "polyglot-notebook"
    }
   },
   "outputs": [
    {
     "name": "stdout",
     "output_type": "stream",
     "text": [
      "PROMPT TO SEND TO THE CHAT COMPLETION SERVICE...\n",
      "\n",
      "System Prompt: \n",
      "You are a Decision Intelligence Assistant. \n",
      "Assist the user in exploring options, reasoning through decisions, problem-solving.\n",
      "Apply systems thinking to various scenarios. \n",
      "Provide structured, logical, and comprehensive decision advice.\n",
      "\n",
      "Request from the user: \n",
      "Recommend the top 5 decision frameworks that can be used for daily situations to make various decisions.\n",
      "These frameworks should be very easy to understand and apply to various scenarios.\n",
      "\n",
      "----------------------------------------\n",
      "\n",
      "RESPONSE FROM THE CHAT COMPLETION SERVICE...\n",
      "\n",
      "Here are five simple and versatile decision-making frameworks that can be applied to daily situations. Each framework is easy to understand and adaptable to a variety of scenarios:\n",
      "\n",
      "---\n",
      "\n",
      "### **1. The Eisenhower Matrix (Urgent-Important Matrix)**  \n",
      "**Purpose:** Helps prioritize tasks and decisions based on urgency and importance.  \n",
      "**How It Works:**  \n",
      "- Divide tasks or decisions into four quadrants:  \n",
      "  1. **Urgent and Important**: Do immediately.  \n",
      "  2. **Important but Not Urgent**: Schedule for later.  \n",
      "  3. **Urgent but Not Important**: Delegate or minimize time spent.  \n",
      "  4. **Neither Urgent nor Important**: Eliminate or ignore.  \n",
      "**Example Use Case:** Deciding how to allocate your time during a busy workday.  \n",
      "\n",
      "---\n",
      "\n",
      "### **2. The 10/10/10 Rule**  \n",
      "**Purpose:** Helps evaluate decisions by considering short-term and long-term consequences.  \n",
      "**How It Works:**  \n",
      "- Ask yourself:  \n",
      "  1. How will I feel about this decision in **10 minutes**?  \n",
      "  2. How will I feel about it in **10 months**?  \n",
      "  3. How will I feel about it in **10 years**?  \n",
      "**Example Use Case:** Choosing whether to spend money on a luxury purchase or save for future goals.  \n",
      "\n",
      "---\n",
      "\n",
      "### **3. The Pros and Cons List**  \n",
      "**Purpose:** Provides a simple way to weigh the advantages and disadvantages of a decision.  \n",
      "**How It Works:**  \n",
      "- Write down all the **pros** (benefits) and **cons** (drawbacks) of a decision.  \n",
      "- Evaluate which side outweighs the other.  \n",
      "**Example Use Case:** Deciding whether to accept a new job offer or stay at your current position.  \n",
      "\n",
      "---\n",
      "\n",
      "### **4. The Rule of Three Options**  \n",
      "**Purpose:** Encourages creative thinking and avoids binary (yes/no) decisions.  \n",
      "**How It Works:**  \n",
      "- For every decision, generate at least **three options**:  \n",
      "  1. The obvious choice.  \n",
      "  2. A creative alternative.  \n",
      "  3. A compromise or hybrid solution.  \n",
      "**Example Use Case:** Deciding how to spend your weekend (e.g., stay home, go out, or combine both).  \n",
      "\n",
      "---\n",
      "\n",
      "### **5. The WOOP Framework (Wish, Outcome, Obstacle, Plan)**"
     ]
    }
   ],
   "source": [
    "// Create a System Prompt instruction to override the default system prompt\n",
    "// Add the System Prompt (Persona) to behave like a Decision Intelligence assistant\n",
    "var systemPromptForDecisions = \"\"\"\n",
    "You are a Decision Intelligence Assistant. \n",
    "Assist the user in exploring options, reasoning through decisions, problem-solving.\n",
    "Apply systems thinking to various scenarios. \n",
    "Provide structured, logical, and comprehensive decision advice.\n",
    "\"\"\";\n",
    "var simpleDecisionPrompt = \"\"\"\n",
    "Recommend the top 5 decision frameworks that can be used for daily situations to make various decisions.\n",
    "These frameworks should be very easy to understand and apply to various scenarios.\n",
    "\"\"\";\n",
    "\n",
    "// How the prompt looks like to the LLM\n",
    "var simpleDecisionPromptTemplate = $\"\"\"\n",
    "System Prompt: \n",
    "{systemPromptForDecisions}\n",
    "\n",
    "Request from the user: \n",
    "{simpleDecisionPrompt}\n",
    "\"\"\";\n",
    "\n",
    "// Create a new OpenAI prompt execution settings object\n",
    "var openAIPromptExecutionSettings = new OpenAIPromptExecutionSettings { \n",
    "    ChatSystemPrompt = systemPromptForDecisions,\n",
    "    MaxTokens = 500, \n",
    "    Temperature = 0.3, \n",
    "    TopP = 1.0, \n",
    "    FrequencyPenalty = 0.0, \n",
    "    PresencePenalty = 0.0\n",
    "    };\n",
    "KernelArguments kernelArguments = new KernelArguments(openAIPromptExecutionSettings);\n",
    "\n",
    "Console.WriteLine(\"PROMPT TO SEND TO THE CHAT COMPLETION SERVICE...\");\n",
    "Console.WriteLine(string.Empty);\n",
    "Console.WriteLine(simpleDecisionPromptTemplate);\n",
    "Console.WriteLine(string.Empty);\n",
    "Console.WriteLine(\"----------------------------------------\");\n",
    "Console.WriteLine(string.Empty);\n",
    "Console.WriteLine(\"RESPONSE FROM THE CHAT COMPLETION SERVICE...\");\n",
    "Console.WriteLine(string.Empty);\n",
    "\n",
    "// Stream the response asynchronously\n",
    "await foreach (var streamChunk in semanticKernel.InvokePromptStreamingAsync(simpleDecisionPrompt, kernelArguments))\n",
    "{\n",
    "   Console.Write(streamChunk);\n",
    "}"
   ]
  },
  {
   "cell_type": "markdown",
   "metadata": {},
   "source": [
    "### Step 7 - Execute a Decision Scenario with a System Prompt (Custom AI Persona)"
   ]
  },
  {
   "cell_type": "markdown",
   "metadata": {},
   "source": [
    "In this step a decision scenario will be introduced requiring analysis and a recommendation performed by Artificial Intelligence. The full Decision Intelligence framework will not be used, rather a simple request for Artificial Intelligene to recommend a path forward (recommedation) for the human user to ultimately make the final decision.  \n",
    "\n",
    "**Decision Scenario:** Your high school daughter Alex is deciding whether to enroll directly in a four-year university or start at a community college to earn an associate degree first. These are Alex's main decision factors: financial, career uncertainty, academic consistency and future impact. In addition, you have all the decision factor detailed data available to pass to the GenAI model prompt. You are looking for an impartial (non-family) recommendation. Can Artificial Intelligence be that impartial judge to help Alex decide? \n",
    "\n",
    "<img style=\"display: block; margin: auto;\" width =\"700px\" src=\"https://raw.githubusercontent.com/bartczernicki/DecisionIntelligence.GenAI.Workshop/main/Images/Scenarios/Scenario-SimpleDecision-College.png\">"
   ]
  },
  {
   "cell_type": "code",
   "execution_count": 8,
   "metadata": {
    "dotnet_interactive": {
     "language": "csharp"
    },
    "polyglot_notebook": {
     "kernelName": "csharp"
    },
    "vscode": {
     "languageId": "polyglot-notebook"
    }
   },
   "outputs": [
    {
     "name": "stdout",
     "output_type": "stream",
     "text": [
      "### Recommendation Table for Alex's Decision\n",
      "\n",
      "| **Decision Factor**                | **Four-Year University**                                                                 | **Community College**                                                                 | **Recommendation**                                                                 |\n",
      "|------------------------------------|-----------------------------------------------------------------------------------------|--------------------------------------------------------------------------------------|-----------------------------------------------------------------------------------|\n",
      "| **Financial Considerations**       | High cost ($50,000-$60,000/year). Family can afford it with loans, but cost is a medium concern. | Low cost ($3,000-$5,000/year). Substantial savings, but transferring later may add costs. | Community college is recommended for cost savings, especially since Alex is undecided on her major. |\n",
      "| **Career and Major Uncertainty**   | Risk of switching majors could extend time and cost. Limited flexibility to explore without financial impact. | Offers flexibility to explore majors at a lower cost. Transferring later may require adjustment. | Community college allows Alex to explore options without the financial pressure of switching majors. |\n",
      "| **Academic Consistency and Networking** | Early access to professors, campus groups, internships, and research opportunities. Strong networking potential. | Networking opportunities delayed, but still possible after transferring. Lower initial academic consistency. | Four-year university has advantages for networking, but the delay at community college is manageable. |\n",
      "| **Future Impact**                  | Builds a professional network sooner and gains relevant experience earlier. May result in significant student loan debt. | Lower debt burden, but professional network-building starts later. Transfer process could impact consistency. | Community college minimizes financial risk, and Alex can still build a network after transferring. |\n",
      "\n",
      "### Final Recommendation:\n",
      "Based on the factors provided, **starting at a community college** is the recommended option. This choice allows Alex to explore her academic interests without incurring significant financial debt, especially since she is uncertain about her major. While networking opportunities and the \"full campus experience\" may be delayed, these can still be developed after transferring to a four-year university. This path balances financial prudence, academic flexibility, and long-term career prospects."
     ]
    }
   ],
   "source": [
    "// Create a system prompt instruction to override the default system prompt\n",
    "// Add the System Prompt (Persona) to behave like a decision intelligence assistant\n",
    "var systemPromptForDecisions = \"\"\"\n",
    "You are a Decision Intelligence Assistant. \n",
    "Assist the user in exploring options, reasoning through decisions, problem-solving.\n",
    "Apply systems thinking to various scenarios. \n",
    "Provide structured, logical, and comprehensive decision advice.\n",
    "\"\"\";\n",
    "// Provide a description of the decision scenario and the desired output \n",
    "// Provide detailed Decision Scenario considerations and information about Alex (the decision-maker) \n",
    "var scenarioDecisionPrompt = \"\"\"\n",
    "Imagine you are advising a daughter named Alex who is deciding whether to enroll directly in a well-regarded four-year \n",
    "university or start at a community college to earn an associate degree first. \n",
    "\n",
    "Make a single recommendation based on the following decision factor details. \n",
    "Output the recommedation in a Markdown table format. \n",
    "\n",
    "Financial Considerations:\n",
    "Alex's four-year university will cost significantly more in tuition, housing, and related expenses \n",
    "(estimated $50,000-$60,000 per year). A two-year associate program at a local community college could \n",
    "save substantial money (estimated $3,000-$5,000 per year), but Alex may have to transfer to a \n",
    "four-year institution later to complete a bachelor's degree. The family can afford the four-year university, \n",
    "with some loans, but the cost is only a medium concern. \n",
    "\n",
    "Career and Major Uncertainty:\n",
    "Alex is not entirely sure what she wants to major in. She is torn between business, psychology, and \n",
    "possibly something in the arts. She worries that if she starts at the four-year university, \n",
    "she might switch majors and incur extra time and cost. On the other hand, \n",
    "community college might give her space to explore options, \n",
    "but transferring could mean adjusting to a new campus and curriculum midway through.\n",
    "\n",
    "Academic Consistency and Networking:\n",
    "Going straight to the four-year university would allow Alex to build early relationships with professors, \n",
    "join campus groups, and potentially secure internships or research opportunities. Starting at community college might \n",
    "delay those opportunities, but it could also let her explore different fields at a lower cost. \n",
    "She might miss out on the “full campus” experience early on, but transferring later means she could \n",
    "still build connections, just on a different timeline. \n",
    "\n",
    "Future Impact: \n",
    "Alex is unsure of the short-term future impact of her decision that might be hard to remediate. \n",
    "Alex wants a solid professional network and relevant experience when she graduates. \n",
    "Alex is not overly concerned about the social aspect of college, \n",
    "but feels she can build a quality network in a four-year university setting sooner. \n",
    "She is also concerned about taking on significant student loan debt. The decision affects not only her immediate academic path but \n",
    "also her long-term financial stability and career prospects. \n",
    "\"\"\";\n",
    "\n",
    "// How the prompt looks like to the LLM\n",
    "var scenarioDecisionPromptTemplate = $\"\"\"\n",
    "System Prompt: \n",
    "{systemPromptForDecisions}\n",
    "\n",
    "Request from the user: \n",
    "{scenarioDecisionPrompt}\n",
    "\"\"\";\n",
    "\n",
    "// Create a new OpenAI prompt execution settings object\n",
    "var openAIPromptExecutionSettings = new OpenAIPromptExecutionSettings { \n",
    "    ChatSystemPrompt = systemPromptForDecisions,\n",
    "    MaxTokens = 1000, // Increase the max tokens to allow for a more detailed response\n",
    "    Temperature = 0.3, \n",
    "    TopP = 1.0, \n",
    "    FrequencyPenalty = 0.0, \n",
    "    PresencePenalty = 0.0\n",
    "    };\n",
    "KernelArguments kernelArguments = new KernelArguments(openAIPromptExecutionSettings);\n",
    "\n",
    "await foreach (var streamChunk in semanticKernel.InvokePromptStreamingAsync(scenarioDecisionPromptTemplate, kernelArguments))\n",
    "{\n",
    "   Console.Write(streamChunk);\n",
    "}"
   ]
  }
 ],
 "metadata": {
  "kernelspec": {
   "display_name": ".NET (C#)",
   "language": "C#",
   "name": ".net-csharp"
  },
  "language_info": {
   "name": "csharp"
  },
  "polyglot_notebook": {
   "kernelInfo": {
    "defaultKernelName": "csharp",
    "items": [
     {
      "aliases": [],
      "name": "csharp"
     }
    ]
   }
  }
 },
 "nbformat": 4,
 "nbformat_minor": 2
}
