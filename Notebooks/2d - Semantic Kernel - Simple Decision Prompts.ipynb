{
 "cells": [
  {
   "cell_type": "markdown",
   "metadata": {},
   "source": [
    "<img style=\"float: left;padding-right: 10px\" width =\"40px\" src=\"https://raw.githubusercontent.com/bartczernicki/DecisionIntelligence.GenAI.Workshop/main/Images/SemanticKernelLogo.png\">\n",
    "\n",
    "## Semantic Kernel - Simple Decision Prompts"
   ]
  },
  {
   "cell_type": "markdown",
   "metadata": {},
   "source": [
    "Decision Intelligence applied in this module:  \n",
    "* Listing of various decision-making frameworks and with their descriptions by using GenAI prompt engineering  \n",
    "* Creating custom AI personas with a system decision prompt  \n",
    "* Generating decision outputs using easier to consume formats (Markdown)     \n",
    "\n",
    "Prompts are the fundemental building block to getting the proper responses from AI models. This module demonstrates how to use common prompt engineering techniques while using Semantic Kernel. If you've ever used ChatGPT or Microsoft Copilot, you're already familiar with prompting. Given a prompt instruction, an LLM will attempt to predict the most likely response. With Semantic Kernel, you can craft applications, services & APIs that execute prompts.  \n",
    "\n",
    "For more information on using prompts with Semantic Kernel, visit: https://learn.microsoft.com/en-us/semantic-kernel/prompts/your-first-prompt  \n",
    "\n",
    "The process of carefully crafting questions or instructions for AI is called **Prompt Engineering**. Prompt Engineering involves designing and refining input prompts—text or questions—so that the AI produces responses that are more relevant, useful, or accurate. The goal of prompt engineering is to \"tune\" the prompt in a way that maximizes the quality and clarity of the AI's response, often using specific wording, context, or examples within the prompt itself.\n",
    "\n",
    "Decision Intelligence and Prompt Engineering techniques can be combined to created \"Generative AI Decision Intellignce\"! This can leverage GenAI models to reason over complex tasks, gather intelligence for decisions, recommend decisions, communicate decisions etc. "
   ]
  },
  {
   "cell_type": "markdown",
   "metadata": {},
   "source": [
    "### Step 1 - Initialize Configuration Builder & Build the Semantic Kernel Orchestration "
   ]
  },
  {
   "cell_type": "markdown",
   "metadata": {},
   "source": [
    "Execute the next two cells to:\n",
    "* Use the Configuration Builder to load the API secrets.  \n",
    "* Use the API configuration to build the Semantic Kernel orchestrator."
   ]
  },
  {
   "cell_type": "code",
   "execution_count": 3,
   "metadata": {
    "dotnet_interactive": {
     "language": "csharp"
    },
    "polyglot_notebook": {
     "kernelName": "csharp"
    },
    "vscode": {
     "languageId": "polyglot-notebook"
    }
   },
   "outputs": [
    {
     "data": {
      "text/html": [
       "<div><div></div><div></div><div><strong>Installed Packages</strong><ul><li><span>Microsoft.Extensions.Configuration, 8.0.0</span></li><li><span>Microsoft.Extensions.Configuration.Json, 8.0.0</span></li></ul></div></div>"
      ]
     },
     "metadata": {},
     "output_type": "display_data"
    }
   ],
   "source": [
    "// Import the required NuGet configuration packages\n",
    "#r \"nuget: Microsoft.Extensions.Configuration, 8.0.0\"\n",
    "#r \"nuget: Microsoft.Extensions.Configuration.Json, 8.0.0\"\n",
    "\n",
    "using Microsoft.Extensions.Configuration;\n",
    "using System.IO;\n",
    "\n",
    "// Load the configuration settings from the local.settings.json and secrets.settings.json files\n",
    "// The secrets.settings.json file is used to store sensitive information such as API keys\n",
    "var configurationBuilder = new ConfigurationBuilder()\n",
    "    .SetBasePath(Directory.GetCurrentDirectory())\n",
    "    .AddJsonFile(\"local.settings.json\", optional: true, reloadOnChange: true)\n",
    "    .AddJsonFile(\"secrets.settings.json\", optional: true, reloadOnChange: true);\n",
    "var config = configurationBuilder.Build();\n",
    "\n",
    "// IMPORTANT: You ONLY NEED either Azure OpenAI or OpenAI connectiopn info, not both.\n",
    "// Azure OpenAI Connection Info\n",
    "var azureOpenAIEndpoint = config[\"AzureOpenAI:Endpoint\"];\n",
    "var azureOpenAIAPIKey = config[\"AzureOpenAI:APIKey\"];\n",
    "var azureOpenAIModelDeploymentName = config[\"AzureOpenAI:ModelDeploymentName\"];\n",
    "// OpenAI Connection Info \n",
    "var openAIAPIKey = config[\"OpenAI:APIKey\"];\n",
    "var openAIModelId = config[\"OpenAI:ModelId\"];"
   ]
  },
  {
   "cell_type": "code",
   "execution_count": 4,
   "metadata": {
    "dotnet_interactive": {
     "language": "csharp"
    },
    "polyglot_notebook": {
     "kernelName": "csharp"
    },
    "vscode": {
     "languageId": "polyglot-notebook"
    }
   },
   "outputs": [
    {
     "data": {
      "text/html": [
       "<div><div></div><div></div><div><strong>Installed Packages</strong><ul><li><span>Microsoft.SemanticKernel, 1.25.0</span></li></ul></div></div>"
      ]
     },
     "metadata": {},
     "output_type": "display_data"
    },
    {
     "name": "stdout",
     "output_type": "stream",
     "text": [
      "Using Azure OpenAI Service\n"
     ]
    }
   ],
   "source": [
    "// Import the Semantic Kernel NuGet package\n",
    "#r \"nuget: Microsoft.SemanticKernel, 1.25.0\"\n",
    "\n",
    "using Microsoft.SemanticKernel;\n",
    "using Microsoft.SemanticKernel.ChatCompletion;\n",
    "using Microsoft.SemanticKernel.Connectors.OpenAI;\n",
    "\n",
    "Kernel semanticKernel;\n",
    "\n",
    "// Set the flag to use Azure OpenAI or OpenAI. False to use OpenAI, True to use Azure OpenAI\n",
    "var useAzureOpenAI = true;\n",
    "\n",
    "// Create a new Semantic Kernel instance\n",
    "if (useAzureOpenAI)\n",
    "{\n",
    "    Console.WriteLine(\"Using Azure OpenAI Service\");\n",
    "    semanticKernel = Kernel.CreateBuilder()\n",
    "        .AddAzureOpenAIChatCompletion(\n",
    "            deploymentName: azureOpenAIModelDeploymentName,\n",
    "            endpoint: azureOpenAIEndpoint,\n",
    "            apiKey: azureOpenAIAPIKey)\n",
    "        .Build();\n",
    "}\n",
    "else\n",
    "{\n",
    "    Console.WriteLine(\"Using OpenAI Service\");\n",
    "    semanticKernel = Kernel.CreateBuilder()\n",
    "        .AddOpenAIChatCompletion(\n",
    "            modelId: openAIModelId,\n",
    "            apiKey: openAIAPIKey)\n",
    "        .Build();\n",
    "}"
   ]
  },
  {
   "cell_type": "markdown",
   "metadata": {},
   "source": [
    "### Step 2 - Execute a Decision Intelligence Prompt "
   ]
  },
  {
   "cell_type": "markdown",
   "metadata": {},
   "source": [
    "Many LLMs and even SLMs have been trained on knowledge that includes decision frameworks & processes. This makes LLMs great assistants to:\n",
    "* Provide proper Decision Frames\n",
    "* Gather the Information & Intelligence in order to make a decision\n",
    "* Recommend Decision Frameworks to make a high-quality decision\n",
    "* Provide feedback to evaluate a Decision\n",
    "\n",
    "Once the Semantic Kernel instance is built, it is ready to intake prompt instructions. In the prompt below, the Semantic Kernel is instructed to provide examples of decision frameworks. "
   ]
  },
  {
   "cell_type": "code",
   "execution_count": 5,
   "metadata": {
    "dotnet_interactive": {
     "language": "csharp"
    },
    "polyglot_notebook": {
     "kernelName": "csharp"
    },
    "vscode": {
     "languageId": "polyglot-notebook"
    }
   },
   "outputs": [
    {
     "name": "stdout",
     "output_type": "stream",
     "text": [
      "Decision-making frameworks are structured approaches that provide step-by-step guidance to help individuals or organizations make informed and rational decisions. Here are several well-known decision-making frameworks and their utility in different scenarios:\n",
      "\n",
      "1. **SWOT Analysis (Strengths, Weaknesses, Opportunities, Threats)**\n",
      "   - **Purpose:** Helps in strategic planning and decision-making.\n",
      "   - **Application:** Suitable for evaluating the internal and external factors affecting a decision.\n",
      "   - **How it Supports Decision-Making:** By categorizing data into strengths, weaknesses, opportunities, and threats, SWOT Analysis enables stakeholders to see both positive and negative potential outcomes, aligning strategic choices with the firm's capabilities and market conditions.\n",
      "\n",
      "2. **Decision Matrix (Weighted Decision Matrix or Pugh Matrix)**\n",
      "   - **Purpose:** Assists in evaluating and prioritizing multiple options.\n",
      "   - **Application:** Used when decisions involve many factors or criteria; often in project selection or vendor evaluation.\n",
      "   - **How it Supports Decision-Making:** By assigning weights to criteria based on importance and scoring each option, the Decision Matrix makes the comparison of choices systematic and objective.\n",
      "\n",
      "3. **Cost-Benefit Analysis (CBA)**\n",
      "   - **Purpose:** Evaluates the financial implications of decisions.\n",
      "   - **Application:** Effective for decisions involving significant financial investment, such as capital expenditure, policy planning, or project approval.\n",
      "   - **How it Supports Decision-Making:** By calculating and comparing the total expected costs and benefits of each option, CBA ensures that decisions are economically justified and beneficial in the long run.\n",
      "\n",
      "4. **Six Thinking Hats**\n",
      "   - **Purpose:** Encourages comprehensive thinking by examining a problem from multiple perspectives.\n",
      "   - **Application:** Useful in creative problem-solving, meetings, and team discussions.\n",
      "   - **How it Supports Decision-Making:** By adopting different \"hats\" (perspectives), such as logical (white hat), emotional (red hat), and creative (green hat), teams can uncover insights, reduce biases, and approach decisions holistically.\n",
      "\n",
      "5. **Pareto Analysis (80/20 Rule)**\n",
      "   - **Purpose:** Identifies the most significant factors in a decision-making process.\n",
      "   - **Application:** Widely used in quality control, productivity improvement, and prioritizing tasks or problems.\n",
      "   - **How it Supports Decision-Making:** By focusing on the 20% of causes that account for 80% of the problems, Pareto Analysis helps prioritize efforts and resources on high-impact areas.\n",
      "\n",
      "6. **Pros and Cons Analysis**\n",
      "   - **Purpose:** Compares advantages and disadvantages to facilitate straightforward decision-making.\n",
      "   - **Application:** Ideal for everyday decision-making and smaller-scale choices.\n",
      "   - **How it Supports Decision-Making:** By listing the pros and cons, individuals can visualize the potential outcomes and make balanced, informed choices.\n",
      "\n",
      "7. **The OODA Loop (Observe, Orient, Decide, Act)**\n",
      "   - **Purpose:** Enhances decision-making speed and agility.\n",
      "   - **Application:** Initially used in military strategy, now applied to business, sports, and high-stakes environments.\n",
      "   - **How it Supports Decision-Making:** By continuously cycling through observing, orienting, deciding, and acting, the OODA Loop enables rapid situational assessment and timely responses to changes.\n",
      "\n",
      "8. **Root Cause Analysis (RCA)**\n",
      "   - **Purpose:** Identifies the root causes of problems.\n",
      "   - **Application:** Critical for troubleshooting, quality improvement, and failure analysis.\n",
      "   - **How it Supports Decision-Making:** By addressing the fundamental cause of a problem rather than its symptoms, RCA helps in making decisions that provide long-term solutions.\n",
      "\n",
      "9. **DECIDE Model (Define, Establish, Consider, Identify, Develop, Evaluate)**\n",
      "   - **Purpose:** Provides a sequential approach to decision-making.\n",
      "   - **Application:** Beneficial in structured decision processes like policy formulation, strategic planning, and clinical decisions.\n",
      "   - **How it Supports Decision-Making:** By following a clear sequence from defining the problem to evaluating the results, the DECIDE Model ensures a thorough and logical approach to making decisions.\n",
      "\n",
      "10. **Vroom-Yetton-Jago Decision Model**\n",
      "    - **Purpose:** Determines the necessary level of team involvement in decision-making.\n",
      "    - **Application:** Applied in management and leadership contexts where input from various stakeholders may be required.\n",
      "    - **How it Supports Decision-Making:** By analyzing factors such as decision quality, team commitment, and time constraints, this model guides leaders on the level of involvement needed for optimal decision outcomes.\n",
      "\n",
      "These frameworks can be selected based on the specific context, type, and scale of the decision to enhance the quality and effectiveness of the decision-making process.\n"
     ]
    }
   ],
   "source": [
    "// New prompt to help with decision-making frameworks\n",
    "var simpleDecisionPrompt = \"\"\"\n",
    "Identify and list various decision-making frameworks that can enhance the quality of decisions. \n",
    "Briefly describe how each framework supports better analysis and reasoning in different decision-making scenarios.\n",
    "\"\"\";\n",
    "\n",
    "var simplePromptResponse = await semanticKernel.InvokePromptAsync(simpleDecisionPrompt);\n",
    "Console.WriteLine(simplePromptResponse.GetValue<string>());"
   ]
  },
  {
   "cell_type": "markdown",
   "metadata": {},
   "source": [
    "### Step 3 - Execute a Decision Intelligence Prompt with Streaming"
   ]
  },
  {
   "cell_type": "markdown",
   "metadata": {},
   "source": [
    "Semantic Kernel supports prompt response streaming when invoking the prompt. This allows responses to be streamed to the client as soon as they are made available by the LLM and service. Below the same decision prompt is executed. However, notice that chunks are streamed and can be read by the user as soon as they appear. "
   ]
  },
  {
   "cell_type": "code",
   "execution_count": 6,
   "metadata": {
    "dotnet_interactive": {
     "language": "csharp"
    },
    "polyglot_notebook": {
     "kernelName": "csharp"
    },
    "vscode": {
     "languageId": "polyglot-notebook"
    }
   },
   "outputs": [
    {
     "name": "stdout",
     "output_type": "stream",
     "text": [
      "Decision-making frameworks are structured approaches designed to enhance the quality, efficiency, and effectiveness of decisions. Here are several widely recognized decision-making frameworks along with a brief description of how each supports better analysis and reasoning in different scenarios:\n",
      "\n",
      "1. **SWOT Analysis**:\n",
      "   - **Description**: SWOT stands for Strengths, Weaknesses, Opportunities, and Threats. It helps in identifying internal and external factors that can affect the success of a decision or project.\n",
      "   - **Use**: Useful for strategic planning, project development, and new business ventures. It helps in understanding both internal and external environments, which can guide better decision-making by highlighting areas of focus and potential pitfalls.\n",
      "\n",
      "2. **Decision Matrix Analysis** (or Pugh Matrix, Grid Analysis):\n",
      "   - **Description**: A quantitative method for comparing multiple options based on a set of criteria. Each option is scored against each criterion, and weighted sums help in ranking the choices.\n",
      "   - **Use**: Helpful in choosing the best option from several alternatives where multiple criteria must be considered, such as selecting a vendor, hiring an employee, or choosing a strategic plan.\n",
      "\n",
      "3. **Cost-Benefit Analysis (CBA)**:\n",
      "   - **Description**: This financial technique involves comparing the total expected costs of each option against their total expected benefits to determine the best option.\n",
      "   - **Use**: Useful in financial decision-making and project feasibility studies, where the goal is to evaluate the economic viability and profitability of different alternatives.\n",
      "\n",
      "4. **The 5 Whys**:\n",
      "   - **Description**: A root cause analysis tool that involves asking \"why\" five times (or as many times as needed) to drill down to the underlying cause of a problem.\n",
      "   - **Use**: Effective for troubleshooting, problem-solving, and process improvement by revealing the underlying issues that need to be addressed to prevent recurring problems.\n",
      "\n",
      "5. **Pros and Cons Lists**:\n",
      "   - **Description**: A simple method that involves listing the advantages (pros) and disadvantages (cons) of each option to facilitate a balanced comparison.\n",
      "   - **Use**: Useful for straightforward decisions where a clear, direct comparison of benefits and drawbacks can illuminate the better choice.\n",
      "\n",
      "6. **Pareto Analysis (80/20 Rule)**:\n",
      "   - **Description**: A decision-making technique that emphasizes focusing on the 20% of activities that will produce 80% of the results.\n",
      "   - **Use**: Effective for prioritizing tasks, decisions, or problems by identifying the most significant factors among a set of possibilities.\n",
      "\n",
      "7. **The Kepner-Tregoe Matrix**:\n",
      "   - **Description**: A structured methodology for evaluating and solving complex problems using several steps: situational analysis, problem analysis, decision analysis, and potential problem analysis.\n",
      "   - **Use**: Useful for complex decision-making scenarios involving multiple factors and potential outcomes, such as project selection or risk management.\n",
      "\n",
      "8. **OODA Loop (Observe, Orient, Decide, Act)**:\n",
      "   - **Description**: A cyclical model that supports quick, iterative decision-making by constantly assessing and adapting to changing circumstances.\n",
      "   - **Use**: Valuable in dynamic environments, such as military operations or emergency responses, where rapid decision-making is crucial.\n",
      "\n",
      "9. **Mind Mapping**:\n",
      "   - **Description**: A visual tool that displays related concepts and ideas branching out from a central theme, helping to organize thoughts and explore connections.\n",
      "   - **Use**: Useful for brainstorming, planning, and analyzing complex issues where visualizing relationships and dependencies can be beneficial.\n",
      "\n",
      "10. **Futures Wheel**:\n",
      "    - **Description**: A method for exploring possible future impacts of a decision by mapping out the direct and indirect consequences in a graphical \"wheel\" format.\n",
      "    - **Use**: Effective for strategic planning and forecasting by visualizing how a decision can create ripple effects in the future.\n",
      "\n",
      "11. **Risk Analysis**:\n",
      "    - **Description**: Involves identifying, assessing, and prioritizing potential risks associated with different decision options.\n",
      "    - **Use**: Crucial for any decision with significant uncertainty or potential adverse outcomes, such as investment decisions, project management, or large-scale strategic planning.\n",
      "\n",
      "12. **Six Thinking Hats**:\n",
      "    - **Description**: A decision-making tool developed by Edward de Bono that involves looking at a problem from six distinct perspectives (facts, emotions, optimism, creativity, logic, and caution).\n",
      "    - **Use**: Helps in understanding a problem from multiple viewpoints, encouraging comprehensive analysis and creative thinking.\n",
      "\n",
      "These frameworks can be adapted and combined depending on the specific context and requirements of the decision-making scenario, enabling decision-makers to approach problems methodically and enhance the quality of their outcomes."
     ]
    }
   ],
   "source": [
    "await foreach (var streamChunk in semanticKernel.InvokePromptStreamingAsync(simpleDecisionPrompt))\n",
    "{\n",
    "   Console.Write(streamChunk);\n",
    "}"
   ]
  },
  {
   "cell_type": "markdown",
   "metadata": {},
   "source": [
    "### Step 4 - Execute a Semantic Kernel Decision Prompt with Improved Formatting  "
   ]
  },
  {
   "cell_type": "markdown",
   "metadata": {},
   "source": [
    "Generative AI models have an inherent ability to not only provide decision reasoning analysis, but also format the output in a desired format. This could be as simple as instructing the Generative AI model to format the decision as a single sentence, paragraphs or lists. However more sophisticated output generations can be instructed. For example, the GenAI model can ouput Markdown or even extract information and fill in a desired schema (JSON). Specifically for Decision Intelligence, you can ask the GenAI models to apply decision communication frameworks to the generation as well. \n",
    "\n",
    "Execute the simple decision prompt below with Markdown formatting. This table can now be rendered in a Markdown document for easy comprehension. "
   ]
  },
  {
   "cell_type": "code",
   "execution_count": 8,
   "metadata": {
    "dotnet_interactive": {
     "language": "csharp"
    },
    "polyglot_notebook": {
     "kernelName": "csharp"
    },
    "vscode": {
     "languageId": "polyglot-notebook"
    }
   },
   "outputs": [
    {
     "name": "stdout",
     "output_type": "stream",
     "text": [
      "| Framework Name             | Description                                                                                              |\n",
      "|----------------------------|----------------------------------------------------------------------------------------------------------|\n",
      "| **SWOT Analysis**          | Evaluates Strengths, Weaknesses, Opportunities, and Threats of a situation. Helps balance internal and external factors. |\n",
      "| **PEST Analysis**          | Analyzes Political, Economic, Social, and Technological environments. Supports strategic planning by understanding external macro-environmental factors. |\n",
      "| **Decision Matrix**        | Uses a grid to compare different options against a set of criteria. Facilitates objective comparisons by quantifying preferences. |\n",
      "| **Cost-Benefit Analysis**  | Compares the anticipated costs and benefits of various choices. Aids in determining the economic viability of decisions. |\n",
      "| **Scenario Planning**      | Envisions multiple future scenarios to prepare for possible outcomes. Enhances preparedness and flexibility in decision-making. |\n",
      "| **Pareto Analysis**        | Uses the 80/20 rule to prioritize actions that will have the greatest impact. Focuses efforts on the most significant factors. |\n",
      "| **Pros and Cons Analysis** | Lists the advantages and disadvantages of each option. Provides a simple yet effective way to weigh different aspects. |\n",
      "| **Six Thinking Hats**      | Encourages looking at decisions from multiple perspectives (emotional, logical, creative, etc.). Promotes comprehensive analysis and creative thinking. |\n",
      "| **Rational Decision-Making Model** | Follows a structured and logical approach: define the problem, identify criteria, weigh criteria, generate alternatives, rate each alternative, and compute the optimal decision. Ensures systematic evaluation. |\n",
      "| **OODA Loop**              | Stands for Observe, Orient, Decide, and Act. A framework for making quick and iterative decisions, especially in dynamic environments. |\n",
      "| **Kepner-Tregoe Analysis** | Distinguishes problem analysis, decision analysis, and potential problem analysis. Clarifies choices by separating different aspects of decision-making. |\n",
      "| **Root Cause Analysis**    | Identifies the underlying causes of a problem rather than fixing symptoms. Enhances long-term solutions by addressing fundamental issues. |\n",
      "| **Multi-Criteria Decision Analysis (MCDA)** | Assesses and integrates multiple criteria in decision-making. Useful for complex decisions requiring consideration of diverse factors. |\n",
      "| **The Analytic Hierarchy Process (AHP)** | Structures decision-making through hierarchy decomposition, pairwise comparisons, and priority setting. Simplifies complex decisions and ensures consistency. |\n",
      "\n",
      "Each of these frameworks offers unique strengths, making them suitable for a variety of decision-making scenarios and ensuring thoughtful, informed, and effective outcomes."
     ]
    }
   ],
   "source": [
    "// New prompt to help with decision-making frameworks using Markdown formatting.\n",
    "var simpleDecisionPromptWithMarkdownFormat = \"\"\"\n",
    "Identify and list various decision-making frameworks that can enhance the quality of decisions. \n",
    "Briefly describe how each framework supports better analysis and reasoning in different decision-making scenarios.\n",
    "\n",
    "Format the response using a Markdown table. Do not enclose the table in triple backticks.\n",
    "\"\"\";\n",
    "\n",
    "await foreach (var streamChunk in semanticKernel.InvokePromptStreamingAsync(simpleDecisionPromptWithMarkdownFormat))\n",
    "{\n",
    "   Console.Write(streamChunk);\n",
    "}"
   ]
  },
  {
   "cell_type": "markdown",
   "metadata": {},
   "source": [
    "| Framework Name             | Description                                                                                              |\n",
    "|----------------------------|----------------------------------------------------------------------------------------------------------|\n",
    "| **SWOT Analysis**          | Evaluates Strengths, Weaknesses, Opportunities, and Threats of a situation. Helps balance internal and external factors. |\n",
    "| **PEST Analysis**          | Analyzes Political, Economic, Social, and Technological environments. Supports strategic planning by understanding external macro-environmental factors. |\n",
    "| **Decision Matrix**        | Uses a grid to compare different options against a set of criteria. Facilitates objective comparisons by quantifying preferences. |\n",
    "| **Cost-Benefit Analysis**  | Compares the anticipated costs and benefits of various choices. Aids in determining the economic viability of decisions. |\n",
    "| **Scenario Planning**      | Envisions multiple future scenarios to prepare for possible outcomes. Enhances preparedness and flexibility in decision-making. |\n",
    "| **Pareto Analysis**        | Uses the 80/20 rule to prioritize actions that will have the greatest impact. Focuses efforts on the most significant factors. |\n",
    "| **Pros and Cons Analysis** | Lists the advantages and disadvantages of each option. Provides a simple yet effective way to weigh different aspects. |\n",
    "| **Six Thinking Hats**      | Encourages looking at decisions from multiple perspectives (emotional, logical, creative, etc.). Promotes comprehensive analysis and creative thinking. |\n",
    "| **Rational Decision-Making Model** | Follows a structured and logical approach: define the problem, identify criteria, weigh criteria, generate alternatives, rate each alternative, and compute the optimal decision. Ensures systematic evaluation. |\n",
    "| **OODA Loop**              | Stands for Observe, Orient, Decide, and Act. A framework for making quick and iterative decisions, especially in dynamic environments. |\n",
    "| **Kepner-Tregoe Analysis** | Distinguishes problem analysis, decision analysis, and potential problem analysis. Clarifies choices by separating different aspects of decision-making. |\n",
    "| **Root Cause Analysis**    | Identifies the underlying causes of a problem rather than fixing symptoms. Enhances long-term solutions by addressing fundamental issues. |\n",
    "| **Multi-Criteria Decision Analysis (MCDA)** | Assesses and integrates multiple criteria in decision-making. Useful for complex decisions requiring consideration of diverse factors. |\n",
    "| **The Analytic Hierarchy Process (AHP)** | Structures decision-making through hierarchy decomposition, pairwise comparisons, and priority setting. Simplifies complex decisions and ensures consistency. |\n",
    "\n",
    "These frameworks provide structured approaches to decision-making, enhancing clarity, thoroughness, and effectiveness in various scenarios."
   ]
  },
  {
   "cell_type": "markdown",
   "metadata": {},
   "source": [
    "### Step 5 - Execute a Decision Intelligence Prompt with a Custom Execution Configuration"
   ]
  },
  {
   "cell_type": "markdown",
   "metadata": {},
   "source": [
    "Semantic Kernel supports the configuration of prompt execution. The typical OpenAI and Azure OpenAI settings are exposed as configuration options that provide a different prompt experience. Try changing the MaxTokens, Tempature or other settings."
   ]
  },
  {
   "cell_type": "code",
   "execution_count": 9,
   "metadata": {
    "dotnet_interactive": {
     "language": "csharp"
    },
    "polyglot_notebook": {
     "kernelName": "csharp"
    },
    "vscode": {
     "languageId": "polyglot-notebook"
    }
   },
   "outputs": [
    {
     "name": "stdout",
     "output_type": "stream",
     "text": [
      "Certainly! Here are several decision-making frameworks that can enhance the quality of decisions, along with brief descriptions of how each framework supports better analysis and reasoning in different scenarios:\n",
      "\n",
      "1. **SWOT Analysis (Strengths, Weaknesses, Opportunities, Threats):**\n",
      "   - **Description:** This framework helps in identifying internal strengths and weaknesses of an organization, as well as external opportunities and threats.\n",
      "   - **Application:** It supports strategic planning and decision-making by providing a comprehensive overview of the factors that could impact the decision. It is particularly useful in business strategy, project planning, and competitive analysis.\n",
      "\n",
      "2. **PEST Analysis (Political, Economic, Social, Technological):**\n",
      "   - **Description:** This framework examines the macro-environmental factors that could affect an organization.\n",
      "   - **Application:** It helps in understanding the broader context in which a decision is made, ensuring that external factors are considered. It is often used in market research, strategic planning, and risk management.\n",
      "\n",
      "3. **Cost-Benefit Analysis (CBA):**\n",
      "   - **Description:** This involves comparing the costs and benefits of a decision to determine its feasibility and profitability.\n",
      "   - **Application:** It supports financial decision-making by quantifying the expected outcomes, making it easier to compare different options. It is widely used in project management, public policy, and business investments.\n",
      "\n",
      "4. **Decision Matrix (or Multi-Criteria Decision Analysis - MCDA):**\n",
      "   - **Description:** This tool evaluates and prioritizes a list of options based on a set of predefined criteria.\n",
      "   - **Application:** It helps in making complex decisions where multiple factors need to be considered. It is useful in vendor selection, product development, and strategic planning.\n",
      "\n",
      "5. **The OODA Loop (Observe, Orient, Decide, Act):**\n",
      "   - **Description:** This iterative decision-making process emphasizes rapid and continuous assessment and action.\n",
      "   - **Application:** It supports dynamic and adaptive decision-making, particularly in fast-paced environments such as military strategy, emergency response, and competitive business scenarios.\n",
      "\n",
      "6. **The Eisenhower Matrix (Urgent-Important Matrix):**\n",
      "   - **Description:** This framework helps prioritize tasks based on their urgency and importance.\n",
      "   - **Application:** It aids in time management and prioritization, ensuring that critical tasks are addressed promptly. It is useful for personal productivity, project management, and organizational planning.\n",
      "\n",
      "7. **Six Thinking Hats:**\n",
      "   - **Description:** This method involves looking at a decision from six different perspectives (logical, emotional, optimistic, pessimistic, creative, and control).\n",
      "   - **Application:** It encourages comprehensive and balanced thinking by considering multiple viewpoints. It is effective in group decision-making, brainstorming sessions, and problem-solving.\n",
      "\n",
      "8. **Pros and Cons List:**\n",
      "   - **Description:** This simple method involves listing the advantages and disadvantages of each option.\n",
      "   - **Application:** It helps in weighing the positive and negative aspects of a decision, facilitating clearer thinking. It is useful for personal decisions, small business choices, and everyday problem-solving.\n",
      "\n",
      "9. **Pareto Analysis (80/20 Rule):**\n",
      "   - **Description:** This principle focuses on identifying the most significant factors that will have the greatest impact.\n",
      "   - **Application:** It supports prioritization by highlighting the key areas that require attention. It is often used in quality control, business improvement, and resource allocation.\n",
      "\n",
      "10. **Scenario Planning:**\n",
      "    - **Description:** This involves creating detailed and plausible scenarios to explore the potential outcomes of different decisions.\n",
      "    - **Application:** It helps in anticipating future uncertainties and preparing for various possibilities. It is useful in strategic planning, risk management, and long-term business planning.\n",
      "\n",
      "11. **Root Cause Analysis (RCA):**\n",
      "    - **Description:** This method identifies the underlying causes of a problem rather than just addressing the symptoms.\n",
      "    - **Application:** It supports effective problem-solving by ensuring that the root issues are addressed. It is commonly used in quality management, process improvement, and troubleshooting.\n",
      "\n",
      "Each of these frameworks provides a structured approach to decision-making, enhancing the quality of analysis and reasoning by ensuring that various factors and perspectives are considered. The choice of framework depends on the specific context and complexity of the decision at hand."
     ]
    }
   ],
   "source": [
    "// Create a new OpenAI prompt execution settings object\n",
    "var openAIPromptExecutionSettings = new OpenAIPromptExecutionSettings { \n",
    "    MaxTokens = 1000, \n",
    "    Temperature = 0.3, \n",
    "    TopP = 1.0, \n",
    "    FrequencyPenalty = 0.0, \n",
    "    PresencePenalty = 0.0\n",
    "    };\n",
    "\n",
    "KernelArguments kernelArguments = new KernelArguments(openAIPromptExecutionSettings);\n",
    "await foreach (var streamChunk in semanticKernel.InvokePromptStreamingAsync(simpleDecisionPrompt, kernelArguments))\n",
    "{\n",
    "   Console.Write(streamChunk);\n",
    "}"
   ]
  },
  {
   "cell_type": "markdown",
   "metadata": {},
   "source": [
    "### Step 6 - Execute a Decision Instelligence Prompt with a System Prompt (Custom AI Persona)"
   ]
  },
  {
   "cell_type": "markdown",
   "metadata": {},
   "source": [
    "All the typical best practices of prompt engineering apply when using Semantic Kernel.  \n",
    "* Make the prompt more specific\n",
    "* Add structure to the output with formatting\n",
    "* Provide examples with few-shot prompting\n",
    "* Instruct the AI what to do to avoid doing something wrong\n",
    "* Provide context (additional information) to the AI\n",
    "* Using Roles in chat completion prompts\n",
    "* Give your AI words of encouragement  \n",
    "\n",
    "One best practice is to provide a common behaviour across all the LLM interactions in a system prompt. This system prompt is passed in on every single call the LLM with Semantic Kernel. These prompts can be dynamically created with a programming language like C# or Python.  \n",
    "\n",
    "Execute the cell below with a dynamic prompt template. Notice the different behavior of the output for decision frameworks. The decision framework responses are much more robust with decision intelligence information."
   ]
  },
  {
   "cell_type": "code",
   "execution_count": 6,
   "metadata": {
    "dotnet_interactive": {
     "language": "csharp"
    },
    "polyglot_notebook": {
     "kernelName": "csharp"
    },
    "vscode": {
     "languageId": "polyglot-notebook"
    }
   },
   "outputs": [
    {
     "name": "stdout",
     "output_type": "stream",
     "text": [
      "Prompt To Send to the Azure OpenAI Chat Completion Service...\n",
      "System Prompt: You are a Decision Intelligence Assistant. \n",
      "Assist the user in exploring options, reasoning through decisions, problem-solving.\n",
      "Apply systems thinking to various scenarios. \n",
      "Provide structured, logical, and comprehensive advice.\n",
      "\n",
      "Request from the user: Provide some decision frameworks that can help improve the quality of decisions.\n",
      "\n",
      "----------------------------------------\n",
      "\n",
      "Response from the Azure OpenAI Chat Completion Service...\n",
      "Certainly! Here are several decision-making frameworks that can help improve the quality of decisions:\n",
      "\n",
      "### 1. **SWOT Analysis**\n",
      "**Strengths, Weaknesses, Opportunities, Threats**\n",
      "- **Strengths:** Internal attributes that are helpful to achieving the objective.\n",
      "- **Weaknesses:** Internal attributes that are harmful to achieving the objective.\n",
      "- **Opportunities:** External factors the organization can capitalize on or use to its advantage.\n",
      "- **Threats:** External factors that could cause trouble for the organization or project.\n",
      "\n",
      "### 2. **PEST Analysis**\n",
      "**Political, Economic, Social, Technological**\n",
      "- **Political:** Government policies, political stability, tax policies, trade regulations.\n",
      "- **Economic:** Economic growth, exchange rates, inflation rates, interest rates.\n",
      "- **Social:** Cultural aspects, health consciousness, population growth rate, age distribution.\n",
      "- **Technological:** Technological advancements, innovation, automation, R&D activity.\n",
      "\n",
      "### 3. **Cost-Benefit Analysis (CBA)**\n",
      "- **Identify Costs:** Direct, indirect, tangible, and intangible costs.\n",
      "- **Identify Benefits:** Direct, indirect, tangible, and intangible benefits.\n",
      "- **Compare:** Weigh the total expected costs against the total expected benefits to determine the best course of action.\n",
      "\n",
      "### 4. **Decision Matrix (Weighted Scoring Model)**\n",
      "- **Criteria Identification:** List the criteria important for the decision.\n",
      "- **Weight Assignment:** Assign a weight to each criterion based on its importance.\n",
      "- **Scoring:** Score each option against each criterion.\n",
      "- **Calculation:** Multiply the scores by the weights and sum them to get a total score for each option.\n",
      "\n",
      "### 5. **Six Thinking Hats**\n",
      "- **White Hat:** Focus on data, facts, and information.\n",
      "- **Red Hat:** Look at the decision using intuition, gut reaction, and emotion.\n",
      "- **Black Hat:** Consider the potential negative outcomes and risks.\n",
      "- **Yellow Hat:** Focus on the positive aspects and benefits.\n",
      "- **Green Hat:** Think creatively and explore new ideas.\n",
      "- **Blue Hat:** Manage the decision-making process and ensure all perspectives are considered.\n",
      "\n",
      "### 6. **Pareto Analysis (80/20 Rule)**\n",
      "- **Identify Problems:** List all problems or decisions that need to be made.\n",
      "- **Score Problems:** Assign a score based on the impact of each problem.\n",
      "- **Prioritize:** Focus on the problems that have the highest scores, as solving these will have the most significant impact.\n",
      "\n",
      "### 7. **OODA Loop**\n",
      "**Observe, Orient, Decide, Act**\n",
      "- **Observe:** Gather current information from as many sources as possible.\n",
      "- **Orient:** Analyze this information to form a situational awareness.\n",
      "- **Decide:** Determine a course of action based on the information.\n",
      "- **Act:** Implement the decision and then observe the results to start the loop again.\n",
      "\n",
      "### 8. **Pros and Cons List**\n",
      "- **Pros:** List all the advantages or positive outcomes of the decision.\n",
      "- **Cons:** List all the disadvantages or negative outcomes of the decision.\n",
      "- **Compare:** Weigh the pros against the cons to make a balanced decision.\n",
      "\n",
      "### 9. **Root Cause Analysis (RCA)**\n",
      "- **Identify the Problem:** Clearly define the issue.\n",
      "- **Collect Data:** Gather information related to the problem.\n",
      "- **Identify Possible Causes:** Use tools like the 5 Whys or Fishbone Diagram to find the root cause.\n",
      "- **Implement Solutions:** Develop and implement solutions to address the root cause.\n",
      "\n",
      "### 10. **Vroom-Yetton Decision Model**\n",
      "- **Autocratic (A1, A2):** Leader makes the decision alone.\n",
      "- **Consultative ("
     ]
    }
   ],
   "source": [
    "// Create a system prompt instruction to override the default system prompt\n",
    "// Add the System Prompt (Persona) to behave like a decision intelligence assistant\n",
    "var systemPromptForDecisions = \"\"\"\n",
    "You are a Decision Intelligence Assistant. \n",
    "Assist the user in exploring options, reasoning through decisions, problem-solving.\n",
    "Apply systems thinking to various scenarios. \n",
    "Provide structured, logical, and comprehensive advice.\n",
    "\"\"\";\n",
    "var simpleDecisionPrompt = \"Provide some decision frameworks that can help improve the quality of decisions.\";\n",
    "\n",
    "// How the prompt looks like to the LLM\n",
    "var simpleDecisionPromptTemplate = $\"\"\"\n",
    "System Prompt: {systemPromptForDecisions}\n",
    "\n",
    "Request from the user: {simpleDecisionPrompt}\n",
    "\"\"\";\n",
    "\n",
    "// Create a new OpenAI prompt execution settings object\n",
    "var openAIPromptExecutionSettings = new OpenAIPromptExecutionSettings { \n",
    "    ChatSystemPrompt = systemPromptForDecisions,\n",
    "    MaxTokens = 750, \n",
    "    Temperature = 0.3, \n",
    "    TopP = 1.0, \n",
    "    FrequencyPenalty = 0.0, \n",
    "    PresencePenalty = 0.0\n",
    "    };\n",
    "KernelArguments kernelArguments = new KernelArguments(openAIPromptExecutionSettings);\n",
    "\n",
    "Console.WriteLine(\"Prompt To Send to the Azure OpenAI Chat Completion Service...\");\n",
    "Console.WriteLine(simpleDecisionPromptTemplate);\n",
    "Console.WriteLine(string.Empty);\n",
    "Console.WriteLine(\"----------------------------------------\");\n",
    "Console.WriteLine(string.Empty);\n",
    "Console.WriteLine(\"Response from the Azure OpenAI Chat Completion Service...\");\n",
    "\n",
    "\n",
    "await foreach (var streamChunk in semanticKernel.InvokePromptStreamingAsync(simpleDecisionPrompt, kernelArguments))\n",
    "{\n",
    "   Console.Write(streamChunk);\n",
    "}"
   ]
  }
 ],
 "metadata": {
  "kernelspec": {
   "display_name": ".NET (C#)",
   "language": "C#",
   "name": ".net-csharp"
  },
  "language_info": {
   "name": "csharp"
  },
  "polyglot_notebook": {
   "kernelInfo": {
    "defaultKernelName": "csharp",
    "items": [
     {
      "aliases": [],
      "name": "csharp"
     }
    ]
   }
  }
 },
 "nbformat": 4,
 "nbformat_minor": 2
}
