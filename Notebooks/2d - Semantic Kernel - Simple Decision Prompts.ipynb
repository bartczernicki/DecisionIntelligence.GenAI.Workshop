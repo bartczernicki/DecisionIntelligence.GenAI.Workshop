{
  "cells": [
    {
      "cell_type": "markdown",
      "metadata": {},
      "source": [
        "<div style=\"display: flex; align-items: center;\">\n",
        "  <img src=\"https://raw.githubusercontent.com/bartczernicki/DecisionIntelligence.GenAI.Workshop/main/Images/SemanticKernelLogo.png\" width=\"40px\" style=\"margin-right: 10px;\">\n",
        "  <span style=\"font-size: 1.5em; font-weight: bold;\">Semantic Kernel - Simple Decision Prompts</span>\n",
        "</div>"
      ]
    },
    {
      "cell_type": "markdown",
      "metadata": {},
      "source": [
        "Decision Intelligence applied in this module:  \n",
        "* Listing of various decision-making frameworks and with their descriptions by using GenAI prompt engineering  \n",
        "* Creating custom AI personas with a system decision prompt  \n",
        "* Generating decision outputs using easier to consume formats (Markdown)     \n",
        "\n",
        "Prompts are the fundamental building blocks for eliciting effective responses from AI models. This module demonstrates how to use common prompt engineering techniques within Semantic Kernel. If you’ve used ChatGPT or Microsoft Copilot, you’re already familiar with prompting: given an instruction, a language model predicts the most likely and relevant response. With Semantic Kernel, you can build applications, services, and APIs that execute these prompts.  \n",
        "\n",
        "For more information on using prompts with Semantic Kernel, visit: https://learn.microsoft.com/en-us/semantic-kernel/prompts/your-first-prompt  \n",
        "\n",
        "The process of carefully crafting questions or instructions for AI is called **Prompt Engineering**. Prompt Engineering involves designing and refining input prompts—text or questions—so that the AI produces responses that are more relevant, useful, or accurate. The goal is to maximize the quality and clarity of the AI’s output, often by using specific wording, added context, or concrete examples within the prompt.\n",
        "\n",
        "By combining Decision Intelligence with Prompt Engineering, you can create “Generative AI Decision Intelligence.” This approach leverages GenAI models to reason through complex tasks, gather intelligence, recommend decisions, and communicate results more effectively."
      ]
    },
    {
      "cell_type": "markdown",
      "metadata": {},
      "source": [
        "-----\n",
        "### Step 1 - Initialize Configuration Builder & Build the Semantic Kernel Orchestration "
      ]
    },
    {
      "cell_type": "markdown",
      "metadata": {},
      "source": [
        "Execute the next two cells to:\n",
        "* Use the Configuration Builder to load the API secrets.  \n",
        "* Use the API configuration to build the Semantic Kernel orchestrator."
      ]
    },
    {
      "cell_type": "code",
      "execution_count": 1,
      "metadata": {
        "dotnet_interactive": {
          "language": "csharp"
        },
        "polyglot_notebook": {
          "kernelName": "csharp"
        }
      },
      "outputs": [
        {
          "data": {
            "text/html": [
              "<div><div></div><div></div><div><strong>Installed Packages</strong><ul><li><span>Microsoft.Extensions.Configuration, 9.0.8</span></li><li><span>Microsoft.Extensions.Configuration.Json, 9.0.8</span></li></ul></div></div>"
            ]
          },
          "metadata": {},
          "output_type": "display_data"
        }
      ],
      "source": [
        "// Import the required NuGet configuration packages\n",
        "#r \"nuget: Microsoft.Extensions.Configuration, 9.0.8\"\n",
        "#r \"nuget: Microsoft.Extensions.Configuration.Json, 9.0.8\"\n",
        "\n",
        "using Microsoft.Extensions.Configuration.Json;\n",
        "using Microsoft.Extensions.Configuration;\n",
        "using System.IO;\n",
        "\n",
        "// Load the configuration settings from the local.settings.json and secrets.settings.json files\n",
        "// The secrets.settings.json file is used to store sensitive information such as API keys\n",
        "var configurationBuilder = new ConfigurationBuilder()\n",
        "    .SetBasePath(Directory.GetCurrentDirectory())\n",
        "    .AddJsonFile(\"local.settings.json\", optional: true, reloadOnChange: true)\n",
        "    .AddJsonFile(\"secrets.settings.json\", optional: true, reloadOnChange: true);\n",
        "var config = configurationBuilder.Build();\n",
        "\n",
        "// IMPORTANT: You ONLY NEED either Azure OpenAI or OpenAI connection info, not both.\n",
        "// Azure OpenAI Connection Info\n",
        "var azureOpenAIEndpoint = config[\"AzureOpenAI:Endpoint\"];\n",
        "var azureOpenAIAPIKey = config[\"AzureOpenAI:APIKey\"];\n",
        "var azureOpenAIModelDeploymentName = config[\"AzureOpenAI:ModelDeploymentName\"];\n",
        "// OpenAI Connection Info \n",
        "var openAIAPIKey = config[\"OpenAI:APIKey\"];\n",
        "var openAIModelId = config[\"OpenAI:ModelId\"];"
      ]
    },
    {
      "cell_type": "code",
      "execution_count": 2,
      "metadata": {
        "dotnet_interactive": {
          "language": "csharp"
        },
        "polyglot_notebook": {
          "kernelName": "csharp"
        }
      },
      "outputs": [
        {
          "data": {
            "text/html": [
              "<div><div></div><div></div><div><strong>Installed Packages</strong><ul><li><span>Microsoft.SemanticKernel, 1.65.0</span></li><li><span>Microsoft.SemanticKernel.Connectors.AzureOpenAI, 1.65.0</span></li></ul></div></div>"
            ]
          },
          "metadata": {},
          "output_type": "display_data"
        },
        {
          "name": "stdout",
          "output_type": "stream",
          "text": [
            "Using Azure OpenAI Service\n"
          ]
        }
      ],
      "source": [
        "// Import the Semantic Kernel NuGet package\n",
        "#r \"nuget: Microsoft.SemanticKernel, 1.65.0\"\n",
        "#r \"nuget: Microsoft.SemanticKernel.Connectors.AzureOpenAI, 1.65.0\"\n",
        "\n",
        "using Microsoft.Extensions.DependencyInjection.Extensions;\n",
        "using Microsoft.Extensions.DependencyInjection;\n",
        "using Microsoft.SemanticKernel;\n",
        "using Microsoft.SemanticKernel.ChatCompletion;\n",
        "using Microsoft.SemanticKernel.Connectors.OpenAI;\n",
        "using Microsoft.SemanticKernel.Connectors.AzureOpenAI;\n",
        "\n",
        "Kernel semanticKernel;\n",
        "\n",
        "// Set the flag to use Azure OpenAI or OpenAI. False to use OpenAI, True to use Azure OpenAI\n",
        "var useAzureOpenAI = true;\n",
        "\n",
        "// Create a new Semantic Kernel instance\n",
        "if (useAzureOpenAI)\n",
        "{\n",
        "    Console.WriteLine(\"Using Azure OpenAI Service\");\n",
        "    semanticKernel = Kernel.CreateBuilder()\n",
        "        .AddAzureOpenAIChatCompletion(\n",
        "            deploymentName: azureOpenAIModelDeploymentName,\n",
        "            endpoint: azureOpenAIEndpoint,\n",
        "            apiKey: azureOpenAIAPIKey)\n",
        "        .Build();\n",
        "}\n",
        "else\n",
        "{\n",
        "    Console.WriteLine(\"Using OpenAI Service\");\n",
        "    semanticKernel = Kernel.CreateBuilder()\n",
        "        .AddOpenAIChatCompletion(\n",
        "            modelId: openAIModelId,\n",
        "            apiKey: openAIAPIKey)\n",
        "        .Build();\n",
        "}"
      ]
    },
    {
      "cell_type": "markdown",
      "metadata": {},
      "source": [
        "-----\n",
        "### Step 2 - Execute a Decision Prompt "
      ]
    },
    {
      "cell_type": "markdown",
      "metadata": {},
      "source": [
        "Many LLMs and even SLMs have been trained on knowledge that includes decision frameworks & processes. This makes LLMs great assistants to:\n",
        "* Provide proper Decision Frames\n",
        "* Gather Intelligence (information) in order to make a decision\n",
        "* Recommend Decision Frameworks to make a high-quality decision\n",
        "* Provide feedback to evaluate a Decision\n",
        "\n",
        "Once the Semantic Kernel instance is built, it is ready to intake prompt instructions. In the prompt below, the Semantic Kernel is instructed to provide examples of decision frameworks \"trained into\" the knowledge of the configured AI model.  "
      ]
    },
    {
      "cell_type": "code",
      "execution_count": 15,
      "metadata": {
        "dotnet_interactive": {
          "language": "csharp"
        },
        "polyglot_notebook": {
          "kernelName": "csharp"
        }
      },
      "outputs": [
        {
          "data": {
            "text/markdown": [
              "### Five decision-making frameworks\n",
              "\n",
              "#### 1) Decision Trees\n",
              "What it is: A graphical/algorithmic model that maps choices, chance events, outcomes, and payoffs into a branching structure.\n",
              "How it helps: Forces you to list alternatives, possible events, and consequences explicitly; lets you incorporate probabilities and expected values to compare options quantitatively; clarifies contingent decisions (what you would do after each event). Useful for investments, project selection, medical decisions, and any sequential decisions under uncertainty.\n",
              "\n",
              "#### 2) Multi‑Criteria Decision Analysis (MCDA) / Analytic Hierarchy Process (AHP)\n",
              "What it is: A family of methods for evaluating options against multiple, often conflicting criteria by scoring and weighting each criterion.\n",
              "How it helps: Makes tradeoffs explicit (weights and scores), reduces implicit bias by forcing numeric comparisons, and supports sensitivity analysis to see how changes in priorities affect the outcome. Good for vendor selection, policy choices, hiring/prioritization, and any complex decision where multiple objectives matter.\n",
              "\n",
              "#### 3) Bayesian Reasoning / Bayesian Decision Theory\n",
              "What it is: A probabilistic framework that updates beliefs based on new evidence and chooses actions that maximize expected utility given current beliefs.\n",
              "How it helps: Encourages quantifying uncertainty and updating estimates as information arrives, which improves calibration and prevents stubborn adherence to prior assumptions; it also supports formal tradeoffs between risks and rewards. Especially helpful in diagnostics, forecasting, A/B testing, and adaptive planning where data accumulates over time.\n",
              "\n",
              "#### 4) OODA Loop (Observe–Orient–Decide–Act)\n",
              "What it is: An iterative cycle emphasizing rapid observation, contextual orientation, decision, and action, followed by re‑observation.\n",
              "How it helps: Prioritizes situational awareness and fast feedback, enabling adaptive decisions in dynamic or adversarial environments; helps avoid analysis paralysis by structuring fast, successive refinements. Best for time‑sensitive operations, crisis management, competitive strategy, or real‑time control systems.\n",
              "\n",
              "#### 5) Premortem / Red‑Teaming\n",
              "What it is: A foresight and critique approach where a team imagines a future failure (premortem) or takes an adversarial view (red team) to surface weaknesses and hidden assumptions.\n",
              "How it helps: Reduces overconfidence and groupthink by eliciting failure modes, missing information, and risky assumptions before committing; improves robustness by generating mitigations and alternative plans. Useful in project launches, high‑stakes strategy, policy rollout, and complex system design where blind spots are costly."
            ]
          },
          "metadata": {},
          "output_type": "display_data"
        }
      ],
      "source": [
        "// A Decision Intelligence prompt to help with describing decision-making frameworks\n",
        "var simpleDecisionPrompt = \"\"\"\n",
        "Identify and list 5 decision-making frameworks that can enhance the quality of decisions. \n",
        "Briefly describe how each decision-making framework supports better analysis and reasoning in various scenarios.\n",
        "\n",
        "General Formatting Instructions:\n",
        "When generating Markdown, do not use any headings higher than ###. \n",
        "Avoid # and ## headers. Use only ###, ####, or lower-level headings if necessary. \n",
        "All top-level section headers should start at ### or lower.  \n",
        "\"\"\";\n",
        "\n",
        "var simplePromptResponse = await semanticKernel.InvokePromptAsync(simpleDecisionPrompt);\n",
        "var response = simplePromptResponse.GetValue<string>(); \n",
        "\n",
        "// Display the response from the Semantic Kernel as Markdown format\n",
        "response.DisplayAs(\"text/markdown\");"
      ]
    },
    {
      "cell_type": "markdown",
      "metadata": {},
      "source": [
        "-----\n",
        "### Step 3 - Execute a Decision Prompt with Streaming"
      ]
    },
    {
      "cell_type": "markdown",
      "metadata": {},
      "source": [
        "Semantic Kernel supports prompt response streaming when invoking the prompt. This allows responses to be streamed to the client as soon as they are made available by the LLM and service. Below the same decision prompt is executed. However, notice that chunks are streamed and can be read by the user as soon as they appear. \n",
        "\n",
        "> 📝 **Note:** An average human can read between 25-40 Tokens / second. Therefore, while streaming certainly helps with providing AI output to the user, it begins to lose its effectiveness at large token velocity. Furthermore, certain intermediate and governance (Responsible AI) outputs can become more complex to integrat with streaming."
      ]
    },
    {
      "cell_type": "code",
      "execution_count": 16,
      "metadata": {
        "dotnet_interactive": {
          "language": "csharp"
        },
        "polyglot_notebook": {
          "kernelName": "csharp"
        }
      },
      "outputs": [
        {
          "name": "stdout",
          "output_type": "stream",
          "text": [
            "Here are five widely useful decision-making frameworks and how each improves analysis and reasoning in different scenarios.\n",
            "\n",
            "### Decision Tree Analysis (with Expected Value and sensitivity)\n",
            "- What it does: Maps choices, chance events, outcomes and payoffs visually; attaches probabilities and values to compute expected values (EV).\n",
            "- How it helps: Forces explicit structuring of options and uncertain events, makes trade-offs and conditional paths clear, and shows where probabilities or payoffs most affect the decision (sensitivity).\n",
            "- Best for: Decisions with discrete options and identifiable outcomes (project choices, investments, go/no‑go decisions).\n",
            "\n",
            "### Multi‑Criteria Decision Analysis (MCDA) / Analytic Hierarchy Process (AHP)\n",
            "- What it does: Breaks a decision into criteria and alternatives, assigns weights to criteria and scores to alternatives, and aggregates to rank options (AHP uses pairwise comparisons).\n",
            "- How it helps: Makes subjective preferences explicit and structured, clarifies trade-offs among conflicting objectives, and supports transparent, repeatable justification of a choice.\n",
            "- Best for: Complex choices with multiple, non‑commensurable goals (vendor selection, policy choices, product feature prioritization).\n",
            "\n",
            "### OODA Loop (Observe‑Orient‑Decide‑Act)\n",
            "- What it does: Iterative cycle emphasizing rapid observation, situational orientation, decision, and action, then loop back to observe consequences.\n",
            "- How it helps: Encourages fast, adaptive decision-making with continuous learning; reduces paralysis by analysis in dynamic environments and prioritizes feedback and course correction.\n",
            "- Best for: Time‑sensitive or fast-changing contexts (Crisis response, competitive business moves, tactical operations).\n",
            "\n",
            "### Premortem Analysis\n",
            "- What it does: Assume the decision failed in the future and work backward to identify reasons for failure; generate risks/causes and mitigation ideas.\n",
            "- How it helps: Counters overconfidence and groupthink, surfaces hidden failure modes, and produces concrete risk controls and contingency plans before committing.\n",
            "- Best for: High‑impact decisions where blind spots are dangerous (launches, large projects, strategic pivots).\n",
            "\n",
            "### Bayesian Updating (Probability Revision)\n",
            "- What it does: Starts with prior beliefs (probabilities) and updates them quantitatively as new evidence arrives using Bayes’ rule.\n",
            "- How it helps: Produces calibrated, consistent probability estimates; integrates new data systematically; reduces anchoring and confirmation bias by requiring explicit priors and likelihoods; supports sequential learning.\n",
            "- Best for: Decisions under uncertainty where evidence accumulates over time (diagnostics, forecasting, A/B testing, intelligence analysis).\n",
            "\n",
            "If you’d like, I can: (a) give a one‑page template for applying any of these, (b) show a short worked example (e.g., a decision tree with EV or an AHP scoring table), or (c) suggest which framework fits a specific decision you have."
          ]
        }
      ],
      "source": [
        "// Decision Prompt using Streaming output chunks \n",
        "await foreach (var streamChunk in semanticKernel.InvokePromptStreamingAsync(simpleDecisionPrompt))\n",
        "{\n",
        "   Console.Write(streamChunk);\n",
        "}"
      ]
    },
    {
      "cell_type": "markdown",
      "metadata": {},
      "source": [
        "-----\n",
        "### Step 4 - Execute a Decision Prompt with Improved Output Formatting  "
      ]
    },
    {
      "cell_type": "markdown",
      "metadata": {},
      "source": [
        "Generative AI models have an inherent ability to not only provide decision reasoning analysis, but also format the output in a desired format. This could be as simple as instructing the Generative AI model to format the decision as a single sentence, paragraphs or lists. However more sophisticated output generations can be instructed. For example, the GenAI model can output Markdown or even extract information and fill in a desired schema (JSON). Specifically for Decision Intelligence, you can ask the GenAI models to apply decision communication frameworks to the generation as well. \n",
        "\n",
        "Execute the simple decision prompt below with Markdown formatting output. This table can now be rendered in a Markdown document for easy human comprehension. Markdown tables and other formats can be used on web sites, document, programming code etc. Even Generative AI models understand Markdown format, which can not only be used for output but inside input prompts.  "
      ]
    },
    {
      "cell_type": "code",
      "execution_count": 4,
      "metadata": {
        "dotnet_interactive": {
          "language": "csharp"
        },
        "polyglot_notebook": {
          "kernelName": "csharp"
        }
      },
      "outputs": [
        {
          "data": {
            "text/markdown": [
              "| Framework | How it supports better analysis and reasoning |\n",
              "|---|---|\n",
              "| Decision Matrix (Weighted Scoring) | Breaks complex choices into criteria, assigns weights and scores to options, produces a quantitative comparison that clarifies trade‑offs, reduces reliance on intuition, and enables sensitivity analysis. |\n",
              "| Cost–Benefit Analysis (CBA) | Converts costs and benefits into common units (often monetary or utility), compares net present value or return on investment, forces explicit accounting for hidden costs, timing, and externalities. |\n",
              "| SWOT Analysis | Structures qualitative assessment into Strengths, Weaknesses (internal) and Opportunities, Threats (external), helping identify strategic levers, surface risks and align decisions with context and capabilities. |\n",
              "| Decision Trees (including probabilistic/expected‑value analysis) | Maps choices, chance events, outcomes and probabilities, enabling explicit modeling of uncertainty, computation of expected values, and visualization of sequential decisions and contingent plans. |\n",
              "| Bayesian Updating / Bayesian Decision Theory | Uses priors and new evidence to update probabilities and choose actions that maximize expected utility; formalizes uncertainty management, reduces anchoring bias, and integrates data with expert judgment. |"
            ]
          },
          "metadata": {},
          "output_type": "display_data"
        }
      ],
      "source": [
        "// A new decision prompt to help with describing decision-making frameworks using Markdown format\n",
        "var simpleDecisionPromptWithMarkdownFormat = \"\"\"\n",
        "Identify and list 5 decision-making frameworks that can enhance the quality of decisions. \n",
        "Briefly describe how each decision-making framework supports better analysis and reasoning in various scenarios.\n",
        "\n",
        "Format the response using only a Markdown table. Only return a Markdown table. \n",
        "Do not enclose the table in triple backticks.\n",
        "\"\"\";\n",
        "\n",
        "var simplePromptResponse = await semanticKernel.InvokePromptAsync(simpleDecisionPromptWithMarkdownFormat);\n",
        "var response = simplePromptResponse.GetValue<string>();\n",
        "\n",
        "// Display the response from the Semantic Kernel as Markdown\n",
        "response.DisplayAs(\"text/markdown\");"
      ]
    },
    {
      "cell_type": "markdown",
      "metadata": {},
      "source": [
        "-----\n",
        "### Step 5 - Execute a Decision Prompt with a Custom Prompt Execution Configuration"
      ]
    },
    {
      "cell_type": "markdown",
      "metadata": {},
      "source": [
        "Semantic Kernel supports the configuration of prompt execution. The typical OpenAI and Azure OpenAI settings are exposed as configuration options that provide a different prompt experience. Try changing the MaxTokens, Temperature or other settings.\n",
        "\n",
        "> **📝 Note:** The supported prompt settings are dependent on the API plus the specific model version. For example, an AI model paired with an older API may not expose all the configuration settings available. Conversely, a new preview model may not have all the settings available until it becomes generally available. Types of model execution (general versus reasoning) will also have different execution setting parameters. "
      ]
    },
    {
      "cell_type": "code",
      "execution_count": 7,
      "metadata": {
        "dotnet_interactive": {
          "language": "csharp"
        },
        "polyglot_notebook": {
          "kernelName": "csharp"
        }
      },
      "outputs": [
        {
          "data": {
            "text/markdown": [
              "| Framework | How it supports better analysis and reasoning |\n",
              "|---|---|\n",
              "| OODA Loop (Observe–Orient–Decide–Act) | Structures fast, iterative cycles of sensing and response; improves situational awareness, enables rapid hypothesis testing and course corrections as conditions change. |\n",
              "| Decision Matrix / Weighted Scoring | Breaks choices into criteria with explicit weights and scores; forces trade-off analysis, reduces bias by making priorities and evaluations transparent and comparable. |\n",
              "| Cost–Benefit Analysis (CBA) | Converts options into comparable monetary (or utility) terms to quantify trade-offs and opportunity costs; clarifies net value and supports rational resource allocation. |\n",
              "| Bayesian Reasoning | Treats beliefs as probabilities and updates them with new evidence; makes uncertainty explicit, improves calibration of expectations, and guides decisions under incomplete information. |\n",
              "| Pre‑mortem Analysis | Imagines future failure to identify hidden assumptions, risks, and failure modes before acting; encourages mitigation planning and reduces overconfidence and blind spots. |"
            ]
          },
          "metadata": {},
          "output_type": "display_data"
        }
      ],
      "source": [
        "PromptExecutionSettings promptExecutionSettings = new();\n",
        "\n",
        "if (useAzureOpenAI)\n",
        "{\n",
        "    // Create a new Azure OpenAI Prompt Execution settings object\n",
        "    #pragma warning disable SKEXP0010\n",
        "    promptExecutionSettings = new AzureOpenAIPromptExecutionSettings { \n",
        "        SetNewMaxCompletionTokensEnabled = true,\n",
        "        MaxTokens = 1500,\n",
        "        // Uncomment if using a model that supports temperature, GPT-5 models do not support temperature (other than GPT-5-Chat)\n",
        "        // Temperature = 0.3,\n",
        "        TopP = 1.0, \n",
        "        FrequencyPenalty = 0.0, \n",
        "        PresencePenalty = 0.0\n",
        "        };\n",
        "}\n",
        "else\n",
        "{\n",
        "    // Create a new OpenAI Prompt Execution settings object\n",
        "    promptExecutionSettings = new OpenAIPromptExecutionSettings { \n",
        "        // Uncomment if using a model that supports temperature, GPT-5 models do not support temperature (other than GPT-5-Chat)\n",
        "        // Temperature = 0.3,\n",
        "        TopP = 1.0, \n",
        "        FrequencyPenalty = 0.0, \n",
        "        PresencePenalty = 0.0\n",
        "        };\n",
        "}\n",
        "\n",
        "// Create a new KernelArguments object with the OpenAI prompt execution settings\n",
        "KernelArguments kernelArguments = new KernelArguments(promptExecutionSettings);\n",
        "\n",
        "var promptResponseWithOpenAI = await semanticKernel.InvokePromptAsync(simpleDecisionPromptWithMarkdownFormat, kernelArguments);\n",
        "var response = promptResponseWithOpenAI.GetValue<string>();\n",
        "\n",
        "// Display the response from the Semantic Kernel as Markdown\n",
        "response.DisplayAs(\"text/markdown\");"
      ]
    },
    {
      "cell_type": "markdown",
      "metadata": {},
      "source": [
        "-----\n",
        "### Step 6 - Execute a Decision Prompt with a System Prompt (Custom AI Persona)"
      ]
    },
    {
      "cell_type": "markdown",
      "metadata": {},
      "source": [
        "When building Decision Intelligence prompts, all the typical best practices of prompt engineering apply when using Semantic Kernel.  Such as: \n",
        "* Make the prompt more specific (i.e. decision intelligence)\n",
        "* Add structure to the output with formatting\n",
        "* Provide examples with few-shot prompting\n",
        "* Instruct the AI what to do to avoid doing something else\n",
        "* Provide context (additional information) to the AI\n",
        "* Using Roles in Chat Completion API prompts\n",
        "* Give your AI words of encouragement  \n",
        "\n",
        "A key best practice is to provide a common behavior across all the LLM interactions in a system prompt. This system prompt is passed in on every single call the LLM with Semantic Kernel. By passing the same (or similar) system prompt with every prompt gives your Generative AI system a common persona. This common persona is the foundational building block of building AI agents; where the desired behavior is to have each agent have a unique persona/behavior every time you interact with that agent.\n",
        "\n",
        "Execute the cell below with a dynamic prompt template. Notice the different behavior of the output for decision frameworks. Based on the new system prompt instructions, the decision framework responses are much more robust with decision intelligence information."
      ]
    },
    {
      "cell_type": "code",
      "execution_count": null,
      "metadata": {
        "dotnet_interactive": {
          "language": "csharp"
        },
        "polyglot_notebook": {
          "kernelName": "csharp"
        }
      },
      "outputs": [
        {
          "data": {
            "text/markdown": []
          },
          "metadata": {},
          "output_type": "display_data"
        }
      ],
      "source": [
        "// Create a System Prompt instruction to override the default system prompt\n",
        "// Add the System Prompt (Persona) to behave like a Decision Intelligence assistant\n",
        "var systemPromptForDecisions = \"\"\"\n",
        "You are a Decision Intelligence Assistant. \n",
        "Assist the user in exploring options, reasoning through decisions, problem-solving.\n",
        "Apply systems thinking to the scenarios. \n",
        "Provide structured, logical, and comprehensive decision advice.\n",
        "\n",
        "Output Format Instructions: \n",
        "When generating Markdown, do not use any headings higher than ###. \n",
        "Avoid # and ## headers. Use only ###, ####, or lower-level headings if necessary. \n",
        "All top-level section headers should start at ### or lower. \n",
        "Never use ---, ***, or ___ for horizontal lines. There should be no horizontal lines in the output.\n",
        "For separation, use extra extra spacing. Do not any render horizontal lines.\n",
        "\n",
        "Format the response using only a Markdown table. Only return a Markdown table. \n",
        "Do not enclose the table in triple backticks.\n",
        "\"\"\";\n",
        "var simpleDecisionPrompt = \"\"\"\n",
        "Recommend the top 5 decision frameworks that can be used for daily situations to make various decisions.\n",
        "These frameworks should be very easy to understand and apply to various scenarios.\n",
        "\"\"\";\n",
        "\n",
        "// How the prompt looks like to the LLM\n",
        "var simpleDecisionPromptTemplate = $\"\"\"\n",
        "System Prompt: \n",
        "{systemPromptForDecisions}\n",
        "\n",
        "Request from the user: \n",
        "{simpleDecisionPrompt}\n",
        "\"\"\";\n",
        "\n",
        "PromptExecutionSettings promptExecutionSettings = new();\n",
        "\n",
        "if (useAzureOpenAI)\n",
        "{\n",
        "    // Create a new Azure OpenAI Prompt Execution settings object\n",
        "    #pragma warning disable SKEXP0010\n",
        "    promptExecutionSettings = new AzureOpenAIPromptExecutionSettings { \n",
        "        SetNewMaxCompletionTokensEnabled = true,\n",
        "        MaxTokens = 1500,\n",
        "        // Uncomment if using a model that supports temperature, GPT-5 models do not support temperature (other than GPT-5-Chat)\n",
        "        // Temperature = 0.3,\n",
        "        TopP = 1.0, \n",
        "        FrequencyPenalty = 0.0, \n",
        "        PresencePenalty = 0.0\n",
        "        };\n",
        "}\n",
        "else\n",
        "{\n",
        "    // Create a new OpenAI Prompt Execution settings object\n",
        "    promptExecutionSettings = new OpenAIPromptExecutionSettings { \n",
        "        // Uncomment if using a model that supports temperature, GPT-5 models do not support temperature (other than GPT-5-Chat)\n",
        "        // Temperature = 0.3,\n",
        "        TopP = 1.0, \n",
        "        FrequencyPenalty = 0.0, \n",
        "        PresencePenalty = 0.0\n",
        "        };\n",
        "}\n",
        "// Create a new KernelArguments object with the AzureOpenAI / OpenAI prompt execution settings\n",
        "KernelArguments kernelArguments = new KernelArguments(promptExecutionSettings);\n",
        "\n",
        "\n",
        "var promptResponseWithTemplate = await semanticKernel.InvokePromptAsync(simpleDecisionPrompt, kernelArguments);\n",
        "var response = promptResponseWithTemplate.GetValue<string>();\n",
        "\n",
        "// Display the response from the Semantic Kernel as Markdown\n",
        "response.DisplayAs(\"text/markdown\");"
      ]
    },
    {
      "cell_type": "markdown",
      "metadata": {},
      "source": [
        "-----\n",
        "### Step 7 - Execute a Decision Scenario with a System Prompt (Custom AI Persona)"
      ]
    },
    {
      "cell_type": "markdown",
      "metadata": {},
      "source": [
        "In this step a decision scenario will be introduced requiring analysis and a recommendation performed by Artificial Intelligence. The full **Decision Intelligence** framework will not be used, rather a simple request for Artificial Intelligence to recommend a path forward (recommendation) for the human user to ultimately make the final decision.  \n",
        "\n",
        "**Decision Scenario:** Your high school daughter Alex is deciding whether to enroll directly in a four-year university or start at a community college to earn an associate degree first. These are Alex's main decision factors: financial, career uncertainty, academic consistency and future impact. In addition, you have all the decision factor detailed data available to pass to the GenAI model prompt. You are looking for an impartial (non-family) recommendation. Can Artificial Intelligence be that impartial judge to help Alex decide? \n",
        "\n",
        "<img style=\"display: block; margin: auto;\" width =\"700px\" src=\"https://raw.githubusercontent.com/bartczernicki/DecisionIntelligence.GenAI.Workshop/main/Images/Scenarios/Scenario-SimpleDecision-College.png\">"
      ]
    },
    {
      "cell_type": "code",
      "execution_count": 10,
      "metadata": {
        "dotnet_interactive": {
          "language": "csharp"
        },
        "polyglot_notebook": {
          "kernelName": "csharp"
        }
      },
      "outputs": [
        {
          "data": {
            "text/markdown": [
              "### Recommendation\n",
              "\n",
              "| Recommendation | Why (concise rationale) | Key trade-offs (most important) | Concrete next steps (first 12 months) | Contingencies / when to change course |\n",
              "|---|---:|---|---|---|\n",
              "| Start at the community college with an intentional, transfer-focused plan to a well-regarded four‑year university after 1–2 years. | Saves substantial money while giving Alex low‑risk space to explore majors (business, psychology, arts) and avoid costly major-switching at the expensive four‑year; preserve ability to transfer later to build the professional network and access internships once she’s more certain. | Pros: Big cost savings (reduces need for large loans); time to clarify major; lower financial risk.  Cons: Delay in full four‑year campus networking and on‑campus internship pipelines; transfer requires planning to avoid credit loss and timeline slip. | 1) Select a target 4‑year (or 2–3) now and obtain articulation/transfer agreement details. 2) Work with CC advisor to choose fully transferable general ed + exploratory courses aligned to possible majors. 3) Aim for a strong GPA (target 3.5+ for competitive transfers) and document coursework. 4) Pursue internships, volunteer, faculty contacts, and CC leadership roles to start building experience and references. 5) Apply for scholarships and external internships; keep family finances and loan needs updated. 6) Visit target campuses in year 1 and meet transfer admissions reps. | If by the end of year 1 Alex is clear about her major and can secure significant scholarships or other funding to offset the 4‑year cost, consider transferring early. If GPA or credits fall behind transfer requirements, extend CC plan to recover (summer courses, tutoring). If a target major is highly competitive, re-evaluate required GPA/portfolio and consider applying to multiple transfer schools or staying an extra semester to strengthen application. |\n",
              "\n"
            ]
          },
          "metadata": {},
          "output_type": "display_data"
        }
      ],
      "source": [
        "// Create a system prompt instruction to override the default system prompt\n",
        "// Add the System Prompt (Persona) to behave like a decision intelligence assistant\n",
        "var systemPromptForDecisions = \"\"\"\n",
        "You are a Decision Intelligence Assistant. \n",
        "Assist the user in exploring options, reasoning through decisions, problem-solving.\n",
        "Apply systems thinking to the scenarios. \n",
        "Provide structured, logical, and comprehensive decision advice.\n",
        "\n",
        "Output Format Instructions:\n",
        "When generating Markdown, do not use any headings higher than ###. \n",
        "Avoid # and ## headers. Use only ###, ####, or lower-level headings if necessary. \n",
        "All top-level section headers should start at ### or lower. \n",
        "Never use ---, ***, or ___ for horizontal lines. There should be no horizontal lines in the output.\n",
        "For separation, use extra extra spacing. Do not any render horizontal lines.\n",
        "\"\"\";\n",
        "// Provide a description of the decision scenario and the desired output \n",
        "// Provide detailed Decision Scenario considerations and information about Alex (the decision-maker) \n",
        "var scenarioDecisionPrompt = \"\"\"\n",
        "Imagine you are advising a daughter named Alex who is deciding whether to enroll directly in a well-regarded four-year \n",
        "university or start at a community college to earn an associate degree first. \n",
        "\n",
        "Make a single recommendation based on the following decision factor details. \n",
        "Output the recommendation in a Markdown table format. \n",
        "\n",
        "Financial Considerations:\n",
        "Alex's four-year university will cost significantly more in tuition, housing, and related expenses \n",
        "(estimated $50,000-$60,000 per year). A two-year associate program at a local community college could \n",
        "save substantial money (estimated $3,000-$5,000 per year), but Alex may have to transfer to a \n",
        "four-year institution later to complete a bachelor's degree. The family can afford the four-year university, \n",
        "with some loans, but the cost is only a medium concern. \n",
        "\n",
        "Career and Major Uncertainty:\n",
        "Alex is not entirely sure what she wants to major in. She is torn between business, psychology, and \n",
        "possibly something in the arts. She worries that if she starts at the four-year university, \n",
        "she might switch majors and incur extra time and cost. On the other hand, \n",
        "community college might give her space to explore options, \n",
        "but transferring could mean adjusting to a new campus and curriculum midway through.\n",
        "\n",
        "Academic Consistency and Networking:\n",
        "Going straight to the four-year university would allow Alex to build early relationships with professors, \n",
        "join campus groups, and potentially secure internships or research opportunities. Starting at community college might \n",
        "delay those opportunities, but it could also let her explore different fields at a lower cost. \n",
        "She might miss out on the “full campus” experience early on, but transferring later means she could \n",
        "still build connections, just on a different timeline. \n",
        "\n",
        "Future Impact: \n",
        "Alex is unsure of the short-term future impact of her decision that might be hard to remediate. \n",
        "Alex wants a solid professional network and relevant experience when she graduates. \n",
        "Alex is not overly concerned about the social aspect of college, \n",
        "but feels she can build a quality network in a four-year university setting sooner. \n",
        "She is also concerned about taking on significant student loan debt. The decision affects not only her immediate academic path but \n",
        "also her long-term financial stability and career prospects. \n",
        "\"\"\";\n",
        "\n",
        "// How the prompt looks like to the LLM\n",
        "var scenarioDecisionPromptTemplate = $\"\"\"\n",
        "System Prompt: \n",
        "{systemPromptForDecisions}\n",
        "\n",
        "Request from the user: \n",
        "{scenarioDecisionPrompt}\n",
        "\"\"\";\n",
        "\n",
        "PromptExecutionSettings promptExecutionSettings = new();\n",
        "\n",
        "if (useAzureOpenAI)\n",
        "{\n",
        "    // Create a new Azure OpenAI Prompt Execution settings object\n",
        "    #pragma warning disable SKEXP0010\n",
        "    promptExecutionSettings = new AzureOpenAIPromptExecutionSettings { \n",
        "        SetNewMaxCompletionTokensEnabled = true,\n",
        "        MaxTokens = 1500,\n",
        "        // Uncomment if using a model that supports temperature, GPT-5 models do not support temperature (other than GPT-5-Chat)\n",
        "        // Temperature = 0.3,\n",
        "        TopP = 1.0, \n",
        "        FrequencyPenalty = 0.0, \n",
        "        PresencePenalty = 0.0\n",
        "        };\n",
        "}\n",
        "else\n",
        "{\n",
        "    // Create a new OpenAI Prompt Execution settings object\n",
        "    promptExecutionSettings = new OpenAIPromptExecutionSettings { \n",
        "        // Uncomment if using a model that supports temperature, GPT-5 models do not support temperature (other than GPT-5-Chat)\n",
        "        // Temperature = 0.3,\n",
        "        TopP = 1.0, \n",
        "        FrequencyPenalty = 0.0, \n",
        "        PresencePenalty = 0.0\n",
        "        };\n",
        "}\n",
        "// Create a new KernelArguments object with the AzureOpenAI / OpenAI prompt execution settings\n",
        "KernelArguments kernelArguments = new KernelArguments(promptExecutionSettings);\n",
        "\n",
        "var promptResponseScenario = await semanticKernel.InvokePromptAsync(scenarioDecisionPromptTemplate, kernelArguments);\n",
        "var response = promptResponseScenario.GetValue<string>();\n",
        "\n",
        "// Display the response from the Semantic Kernel as Markdown\n",
        "response.DisplayAs(\"text/markdown\");"
      ]
    }
  ],
  "metadata": {
    "kernelspec": {
      "display_name": ".NET (C#)",
      "language": "C#",
      "name": ".net-csharp"
    },
    "language_info": {
      "name": "polyglot-notebook"
    },
    "polyglot_notebook": {
      "kernelInfo": {
        "defaultKernelName": "csharp",
        "items": [
          {
            "aliases": [],
            "name": "csharp"
          }
        ]
      }
    }
  },
  "nbformat": 4,
  "nbformat_minor": 2
}
