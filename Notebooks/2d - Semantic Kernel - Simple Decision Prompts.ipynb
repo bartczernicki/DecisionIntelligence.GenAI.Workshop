{
 "cells": [
  {
   "cell_type": "markdown",
   "metadata": {},
   "source": [
    "<img style=\"float: left;padding-right: 10px\" width =\"40px\" src=\"https://raw.githubusercontent.com/bartczernicki/DecisionIntelligence.GenAI.Workshop/main/Images/SemanticKernelLogo.png\">\n",
    "\n",
    "## Semantic Kernel - Simple Decision Prompts"
   ]
  },
  {
   "cell_type": "markdown",
   "metadata": {},
   "source": [
    "Decision Intelligence applied in this module:  \n",
    "* Listing of various decision-making frameworks and with their descriptions by using GenAI prompt engineering  \n",
    "* Creating custom AI personas with a system decision prompt  \n",
    "* Generating decision outputs using easier to consume formats (Markdown)     \n",
    "\n",
    "Prompts are the fundemental building block to getting the proper responses from AI models. This module demonstrates how to use common prompt engineering techniques while using Semantic Kernel. If you've ever used ChatGPT or Microsoft Copilot, you're already familiar with prompting. Given a prompt instruction, an LLM will attempt to predict the most likely response. With Semantic Kernel, you can craft applications, services & APIs that execute prompts.  \n",
    "\n",
    "For more information on using prompts with Semantic Kernel, visit: https://learn.microsoft.com/en-us/semantic-kernel/prompts/your-first-prompt  \n",
    "\n",
    "The process of carefully crafting questions or instructions for AI is called **Prompt Engineering**. Prompt Engineering involves designing and refining input prompts—text or questions—so that the AI produces responses that are more relevant, useful, or accurate. The goal of prompt engineering is to \"tune\" the prompt in a way that maximizes the quality and clarity of the AI's response, often using specific wording, context, or examples within the prompt itself.\n",
    "\n",
    "Decision Intelligence and Prompt Engineering techniques can be combined to created \"Generative AI Decision Intellignce\"! This can leverage GenAI models to reason over complex tasks, gather intelligence for decisions, recommend decisions, communicate decisions etc. "
   ]
  },
  {
   "cell_type": "markdown",
   "metadata": {},
   "source": [
    "### Step 1 - Initialize Configuration Builder & Build the Semantic Kernel Orchestration "
   ]
  },
  {
   "cell_type": "markdown",
   "metadata": {},
   "source": [
    "Execute the next two cells to:\n",
    "* Use the Configuration Builder to load the API secrets.  \n",
    "* Use the API configuration to build the Semantic Kernel orchestrator."
   ]
  },
  {
   "cell_type": "code",
   "execution_count": 1,
   "metadata": {
    "dotnet_interactive": {
     "language": "csharp"
    },
    "polyglot_notebook": {
     "kernelName": "csharp"
    },
    "vscode": {
     "languageId": "polyglot-notebook"
    }
   },
   "outputs": [
    {
     "data": {
      "text/html": [
       "<div><div></div><div></div><div><strong>Installed Packages</strong><ul><li><span>Microsoft.Extensions.Configuration, 9.0.0</span></li><li><span>Microsoft.Extensions.Configuration.Json, 9.0.0</span></li></ul></div></div>"
      ]
     },
     "metadata": {},
     "output_type": "display_data"
    }
   ],
   "source": [
    "// Import the required NuGet configuration packages\n",
    "#r \"nuget: Microsoft.Extensions.Configuration, 9.0.0\"\n",
    "#r \"nuget: Microsoft.Extensions.Configuration.Json, 9.0.0\"\n",
    "\n",
    "using Microsoft.Extensions.Configuration.Json;\n",
    "using Microsoft.Extensions.Configuration;\n",
    "using System.IO;\n",
    "\n",
    "// Load the configuration settings from the local.settings.json and secrets.settings.json files\n",
    "// The secrets.settings.json file is used to store sensitive information such as API keys\n",
    "var configurationBuilder = new ConfigurationBuilder()\n",
    "    .SetBasePath(Directory.GetCurrentDirectory())\n",
    "    .AddJsonFile(\"local.settings.json\", optional: true, reloadOnChange: true)\n",
    "    .AddJsonFile(\"secrets.settings.json\", optional: true, reloadOnChange: true);\n",
    "var config = configurationBuilder.Build();\n",
    "\n",
    "// IMPORTANT: You ONLY NEED either Azure OpenAI or OpenAI connectiopn info, not both.\n",
    "// Azure OpenAI Connection Info\n",
    "var azureOpenAIEndpoint = config[\"AzureOpenAI:Endpoint\"];\n",
    "var azureOpenAIAPIKey = config[\"AzureOpenAI:APIKey\"];\n",
    "var azureOpenAIModelDeploymentName = config[\"AzureOpenAI:ModelDeploymentName\"];\n",
    "// OpenAI Connection Info \n",
    "var openAIAPIKey = config[\"OpenAI:APIKey\"];\n",
    "var openAIModelId = config[\"OpenAI:ModelId\"];"
   ]
  },
  {
   "cell_type": "code",
   "execution_count": 2,
   "metadata": {
    "dotnet_interactive": {
     "language": "csharp"
    },
    "polyglot_notebook": {
     "kernelName": "csharp"
    },
    "vscode": {
     "languageId": "polyglot-notebook"
    }
   },
   "outputs": [
    {
     "data": {
      "text/html": [
       "<div><div></div><div></div><div><strong>Installed Packages</strong><ul><li><span>Microsoft.SemanticKernel, 1.39.0</span></li></ul></div></div>"
      ]
     },
     "metadata": {},
     "output_type": "display_data"
    },
    {
     "name": "stdout",
     "output_type": "stream",
     "text": [
      "Using Azure OpenAI Service\r\n"
     ]
    }
   ],
   "source": [
    "// Import the Semantic Kernel NuGet package\n",
    "#r \"nuget: Microsoft.SemanticKernel, 1.39\"\n",
    "\n",
    "using Microsoft.Extensions.DependencyInjection.Extensions;\n",
    "using Microsoft.Extensions.DependencyInjection;\n",
    "using Microsoft.SemanticKernel;\n",
    "using Microsoft.SemanticKernel.ChatCompletion;\n",
    "using Microsoft.SemanticKernel.Connectors.OpenAI;\n",
    "\n",
    "Kernel semanticKernel;\n",
    "\n",
    "// Set the flag to use Azure OpenAI or OpenAI. False to use OpenAI, True to use Azure OpenAI\n",
    "var useAzureOpenAI = true;\n",
    "\n",
    "// Create a new Semantic Kernel instance\n",
    "if (useAzureOpenAI)\n",
    "{\n",
    "    Console.WriteLine(\"Using Azure OpenAI Service\");\n",
    "    semanticKernel = Kernel.CreateBuilder()\n",
    "        .AddAzureOpenAIChatCompletion(\n",
    "            deploymentName: azureOpenAIModelDeploymentName,\n",
    "            endpoint: azureOpenAIEndpoint,\n",
    "            apiKey: azureOpenAIAPIKey)\n",
    "        .Build();\n",
    "}\n",
    "else\n",
    "{\n",
    "    Console.WriteLine(\"Using OpenAI Service\");\n",
    "    semanticKernel = Kernel.CreateBuilder()\n",
    "        .AddOpenAIChatCompletion(\n",
    "            modelId: openAIModelId,\n",
    "            apiKey: openAIAPIKey)\n",
    "        .Build();\n",
    "}"
   ]
  },
  {
   "cell_type": "markdown",
   "metadata": {},
   "source": [
    "### Step 2 - Execute a Decision Prompt "
   ]
  },
  {
   "cell_type": "markdown",
   "metadata": {},
   "source": [
    "Many LLMs and even SLMs have been trained on knowledge that includes decision frameworks & processes. This makes LLMs great assistants to:\n",
    "* Provide proper Decision Frames\n",
    "* Gather Intelligence (information) in order to make a decision\n",
    "* Recommend Decision Frameworks to make a high-quality decision\n",
    "* Provide feedback to evaluate a Decision\n",
    "\n",
    "Once the Semantic Kernel instance is built, it is ready to intake prompt instructions. In the prompt below, the Semantic Kernel is instructed to provide examples of decision frameworks \"trained into\" the knowledge of the configured AI model.  "
   ]
  },
  {
   "cell_type": "code",
   "execution_count": 3,
   "metadata": {
    "dotnet_interactive": {
     "language": "csharp"
    },
    "polyglot_notebook": {
     "kernelName": "csharp"
    },
    "vscode": {
     "languageId": "polyglot-notebook"
    }
   },
   "outputs": [
    {
     "name": "stdout",
     "output_type": "stream",
     "text": [
      "Here are five decision-making frameworks that help structure thinking, enhance analysis, and promote effective reasoning in various situations:\n",
      "\n",
      "### 1. **SWOT Analysis (Strengths, Weaknesses, Opportunities, Threats)**\n",
      "   - **Description:** This framework involves assessing internal strengths and weaknesses alongside external opportunities and threats.\n",
      "   - **How It Helps:** SWOT provides a structured way to analyze a situation, identify areas of advantage or improvement, and anticipate external challenges. It ensures that decisions consider both internal capabilities and external environmental factors.\n",
      "\n",
      "---\n",
      "\n",
      "### 2. **The Eisenhower Matrix (Urgent vs. Important)**\n",
      "   - **Description:** This matrix organizes tasks into four quadrants based on their urgency and importance.\n",
      "   - **How It Helps:** By distinguishing between what's urgent and what's truly important, this framework aids decision-makers in prioritizing tasks, allocating resources efficiently, and focusing on what aligns with long-term goals rather than being reactive.\n",
      "\n",
      "---\n",
      "\n",
      "### 3. **Cost-Benefit Analysis (CBA)**\n",
      "   - **Description:** CBA compares the costs and benefits of potential actions or decisions to determine their value.\n",
      "   - **How It Helps:** This approach facilitates logical reasoning by quantifying potential gains and losses. It helps in assessing whether the benefits of a decision justify its costs, ensuring that options are evaluated objectively based on their net value.\n",
      "\n",
      "---\n",
      "\n",
      "### 4. **DECIDE Model (Define, Establish, Consider, Identify, Develop, Evaluate)**\n",
      "   - **Description:** A step-by-step process for making structured decisions: Define the problem, Establish criteria, Consider alternatives, Identify the best option, Develop a plan, Evaluate the results.\n",
      "   - **How It Helps:** The DECIDE model fosters clear and thorough thinking by systematically breaking down complex decisions into manageable steps, ensuring that all critical factors and trade-offs are considered.\n",
      "\n",
      "---\n",
      "\n",
      "### 5. **Pareto Analysis (80/20 Rule)**\n",
      "   - **Description:** This method prioritizes the 20% of efforts or inputs that yield 80% of the results.\n",
      "   - **How It Helps:** Pareto Analysis helps focus on high-impact areas, maximizing efficiency and ensuring that limited resources are allocated to the most impactful issues. It is particularly useful for problem-solving and resource optimization.\n",
      "\n",
      "Each of these frameworks supports better analysis and reasoning by offering structured approaches for breaking down complex decisions, considering multiple perspectives, and prioritizing essential factors. This promotes clarity, consistency, and objectivity in decision-making.\r\n"
     ]
    }
   ],
   "source": [
    "// A new decision prompt to help with describing decision-making frameworks\n",
    "var simpleDecisionPrompt = \"\"\"\n",
    "Identify and list 5 decision-making frameworks that can enhance the quality of decisions. \n",
    "Briefly describe how each decision-making framework supports better analysis and reasoning in various scenarios.\n",
    "\"\"\";\n",
    "\n",
    "var simplePromptResponse = await semanticKernel.InvokePromptAsync(simpleDecisionPrompt);\n",
    "Console.WriteLine(simplePromptResponse.GetValue<string>());"
   ]
  },
  {
   "cell_type": "markdown",
   "metadata": {},
   "source": [
    "### Step 3 - Execute a Decision Prompt with Streaming"
   ]
  },
  {
   "cell_type": "markdown",
   "metadata": {},
   "source": [
    "Semantic Kernel supports prompt response streaming when invoking the prompt. This allows responses to be streamed to the client as soon as they are made available by the LLM and service. Below the same decision prompt is executed. However, notice that chunks are streamed and can be read by the user as soon as they appear. \n",
    "\n",
    "> Note: An average human can read between 25-40 Tokens / second.  "
   ]
  },
  {
   "cell_type": "code",
   "execution_count": 4,
   "metadata": {
    "dotnet_interactive": {
     "language": "csharp"
    },
    "polyglot_notebook": {
     "kernelName": "csharp"
    },
    "vscode": {
     "languageId": "polyglot-notebook"
    }
   },
   "outputs": [
    {
     "name": "stdout",
     "output_type": "stream",
     "text": [
      "Here are five decision-making frameworks that can enhance the quality of decisions, along with a brief description of how they support better analysis and reasoning in different scenarios:\n",
      "\n",
      "---\n",
      "\n",
      "### 1. **The OODA Loop (Observe, Orient, Decide, Act)**\n",
      "   - **Description:** Originally developed by military strategist John Boyd, the OODA Loop emphasizes a cyclical process of observing the environment, orienting oneself based on the context, making a decision, and taking action.\n",
      "   - **Use Case:** This framework is highly effective in dynamic, fast-changing environments.\n",
      "   - **How it Helps:** \n",
      "     - Encourages adaptability and continuous reassessment of decisions.\n",
      "     - Promotes quick yet thoughtful reactions to evolving scenarios by focusing on situational awareness.\n",
      "\n",
      "---\n",
      "\n",
      "### 2. **The Eisenhower Matrix**\n",
      "   - **Description:** Also known as the Urgent-Important Matrix, tasks are categorized into four quadrants: urgent/important, not urgent/important, urgent/not important, and not urgent/not important.\n",
      "   - **Use Case:** Ideal for prioritizing tasks and time management in decision-making.\n",
      "   - **How it Helps:**\n",
      "     - Filters out distractions by focusing on what actually matters.\n",
      "     - Prevents decision fatigue by simplifying choices through categorization.\n",
      "\n",
      "---\n",
      "\n",
      "### 3. **Cost-Benefit Analysis (CBA)**\n",
      "   - **Description:** A systematic approach to evaluating the positive and negative consequences (costs and benefits) of a decision.\n",
      "   - **Use Case:** Commonly applied in business, public policy, and resource allocation decisions.\n",
      "   - **How it Helps:**\n",
      "     - Clarifies trade-offs by quantifying potential outcomes.\n",
      "     - Supports rational decision-making by comparing tangible and intangible factors in a structured manner.\n",
      "\n",
      "---\n",
      "\n",
      "### 4. **The Six Thinking Hats**\n",
      "   - **Description:** Developed by Edward de Bono, this framework encourages analyzing decisions from six perspectives (hats): white (facts/data), red (emotions), black (risks), yellow (positives), green (creative ideas), and blue (process/overview).\n",
      "   - **Use Case:** Useful for group decision-making or tackling complex problems with a range of considerations.\n",
      "   - **How it Helps:**\n",
      "     - Encourages critical thinking by ensuring multiple viewpoints are considered.\n",
      "     - Reduces cognitive biases by separating emotions, facts, risks, and creative thinking into distinct \"hats.\"\n",
      "\n",
      "---\n",
      "\n",
      "### 5. **The DECIDE Model**\n",
      "   - **Description:** This sequential framework involves: Define the problem, Establish criteria, Consider alternatives, Identify the best option, Develop and implement a plan, and Evaluate the decision.\n",
      "   - **Use Case:** Useful for structured decision-making in personal or organizational contexts.\n",
      "   - **How it Helps:**\n",
      "     - Provides a clear and logical roadmap for systematically making choices.\n",
      "     - Encourages thorough evaluation and reflection at every step to refine outcomes and decisions over time.\n",
      "\n",
      "---\n",
      "\n",
      "Each of these frameworks enhances decision-making by introducing structure, promoting thorough analysis, and mitigating cognitive biases or emotional influences. By selecting the framework best suited to the specific context, decision-makers can improve the quality and effectiveness of their choices."
     ]
    }
   ],
   "source": [
    "// Decision Prompt using Streaming output chunks \n",
    "await foreach (var streamChunk in semanticKernel.InvokePromptStreamingAsync(simpleDecisionPrompt))\n",
    "{\n",
    "   Console.Write(streamChunk);\n",
    "}"
   ]
  },
  {
   "cell_type": "markdown",
   "metadata": {},
   "source": [
    "### Step 4 - Execute a Decision Prompt with Improved Output Formatting  "
   ]
  },
  {
   "cell_type": "markdown",
   "metadata": {},
   "source": [
    "Generative AI models have an inherent ability to not only provide decision reasoning analysis, but also format the output in a desired format. This could be as simple as instructing the Generative AI model to format the decision as a single sentence, paragraphs or lists. However more sophisticated output generations can be instructed. For example, the GenAI model can ouput Markdown or even extract information and fill in a desired schema (JSON). Specifically for Decision Intelligence, you can ask the GenAI models to apply decision communication frameworks to the generation as well. \n",
    "\n",
    "Execute the simple decision prompt below with Markdown formatting ouptut. This table can now be rendered in a Markdown document for easy human comprehension. Markdown tables and other formats can be used on web sites, document, programming code etc. Even Generative AI models understand Markdown format, which can not only be used for output but inside input prompts.  "
   ]
  },
  {
   "cell_type": "code",
   "execution_count": 5,
   "metadata": {
    "dotnet_interactive": {
     "language": "csharp"
    },
    "polyglot_notebook": {
     "kernelName": "csharp"
    },
    "vscode": {
     "languageId": "polyglot-notebook"
    }
   },
   "outputs": [
    {
     "name": "stdout",
     "output_type": "stream",
     "text": [
      "| Decision-Making Framework   | Description                                                                                       |\n",
      "|-----------------------------|---------------------------------------------------------------------------------------------------|\n",
      "| SWOT Analysis              | Helps identify Strengths, Weaknesses, Opportunities, and Threats, providing a structured way to assess internal and external factors. |\n",
      "| Decision Matrix             | Offers a systematic method by assigning weights and scores to criteria, helping prioritize options objectively. |\n",
      "| Cost-Benefit Analysis       | Compares the costs and benefits of a decision quantitatively, aiding in evaluating its feasibility and potential return.         |\n",
      "| Six Thinking Hats           | Encourages examining a decision from multiple perspectives (e.g., facts, emotions, risks), promoting balanced and creative analysis. |\n",
      "| 80/20 Rule (Pareto Analysis)| Focuses on identifying the most impactful 20% of factors that contribute to 80% of outcomes, enhancing efficiency in decision-making.|"
     ]
    }
   ],
   "source": [
    "// A new decision prompt to help with describing decision-making frameworks using Markdown format\n",
    "var simpleDecisionPromptWithMarkdownFormat = \"\"\"\n",
    "Identify and list 5 decision-making frameworks that can enhance the quality of decisions. \n",
    "Briefly describe how each decision-making framework supports better analysis and reasoning in various scenarios.\n",
    "\n",
    "Format the response using only a Markdown table. Do not enclose the table in triple backticks.\n",
    "\"\"\";\n",
    "\n",
    "await foreach (var streamChunk in semanticKernel.InvokePromptStreamingAsync(simpleDecisionPromptWithMarkdownFormat))\n",
    "{\n",
    "   Console.Write(streamChunk);\n",
    "}"
   ]
  },
  {
   "cell_type": "markdown",
   "metadata": {},
   "source": [
    "| Decision-Making Framework   | Description                                                                                       |\n",
    "|-----------------------------|---------------------------------------------------------------------------------------------------|\n",
    "| SWOT Analysis              | Helps identify Strengths, Weaknesses, Opportunities, and Threats, providing a structured way to assess internal and external factors. |\n",
    "| Decision Matrix             | Offers a systematic method by assigning weights and scores to criteria, helping prioritize options objectively. |\n",
    "| Cost-Benefit Analysis       | Compares the costs and benefits of a decision quantitatively, aiding in evaluating its feasibility and potential return.         |\n",
    "| Six Thinking Hats           | Encourages examining a decision from multiple perspectives (e.g., facts, emotions, risks), promoting balanced and creative analysis. |\n",
    "| 80/20 Rule (Pareto Analysis)| Focuses on identifying the most impactful 20% of factors that contribute to 80% of outcomes, enhancing efficiency in decision-making.|"
   ]
  },
  {
   "cell_type": "markdown",
   "metadata": {},
   "source": [
    "### Step 5 - Execute a Decision Prompt with a Custom Prompt Execution Configuration"
   ]
  },
  {
   "cell_type": "markdown",
   "metadata": {},
   "source": [
    "Semantic Kernel supports the configuration of prompt execution. The typical OpenAI and Azure OpenAI settings are exposed as configuration options that provide a different prompt experience. Try changing the MaxTokens, Tempature or other settings.\n",
    "\n",
    "> Note: The supported settings are dependendent on the API plus the specific model version. For example, a model paired with an older API may not expose all the configuration settings available. Conversely, a new preview model may not have all the settings available until it becomes generally available.  "
   ]
  },
  {
   "cell_type": "code",
   "execution_count": 5,
   "metadata": {
    "dotnet_interactive": {
     "language": "csharp"
    },
    "polyglot_notebook": {
     "kernelName": "csharp"
    },
    "vscode": {
     "languageId": "polyglot-notebook"
    }
   },
   "outputs": [
    {
     "name": "stdout",
     "output_type": "stream",
     "text": [
      "Here are five decision-making frameworks that can enhance the quality of decisions, along with brief descriptions of how each supports better analysis and reasoning:\n",
      "\n",
      "---\n",
      "\n",
      "### 1. **SWOT Analysis (Strengths, Weaknesses, Opportunities, Threats)**\n",
      "   - **Description**: SWOT is a strategic planning tool used to evaluate internal and external factors that can impact a decision or project.\n",
      "   - **How it helps**: It encourages a structured assessment of the current situation by identifying strengths and weaknesses (internal factors) and opportunities and threats (external factors). This holistic view helps decision-makers anticipate challenges, leverage advantages, and align strategies with the environment.\n",
      "\n",
      "---\n",
      "\n",
      "### 2. **Decision Matrix (Weighted Scoring Model)**\n",
      "   - **Description**: A decision matrix involves listing options and evaluating them against a set of weighted criteria to determine the most favorable choice.\n",
      "   - **How it helps**: By quantifying subjective factors and applying weights to criteria, this framework reduces bias and ensures decisions are based on objective comparisons. It is particularly useful for complex decisions with multiple variables.\n",
      "\n",
      "---\n",
      "\n",
      "### 3. **Cost-Benefit Analysis (CBA)**\n",
      "   - **Description**: CBA involves comparing the costs and benefits of different options to determine which provides the greatest net benefit.\n",
      "   - **How it helps**: It provides a clear, numerical basis for evaluating trade-offs, ensuring that resources are allocated efficiently. This framework is especially useful for financial or resource-intensive decisions.\n",
      "\n",
      "---\n",
      "\n",
      "### 4. **The Eisenhower Matrix (Urgent-Important Matrix)**\n",
      "   - **Description**: This framework categorizes tasks or decisions into four quadrants based on their urgency and importance.\n",
      "   - **How it helps**: It helps prioritize actions by focusing on what is truly important rather than what feels urgent. This reduces decision fatigue and ensures time and energy are spent on high-impact activities.\n",
      "\n",
      "---\n",
      "\n",
      "### 5. **OODA Loop (Observe, Orient, Decide, Act)**\n",
      "   - **Description**: Originally developed for military strategy, the OODA Loop is a cyclical process for making decisions in dynamic and fast-changing environments.\n",
      "   - **How it helps**: By emphasizing continuous observation and adaptation, this framework allows decision-makers to respond effectively to changing conditions. It supports agility and iterative improvements in decision-making.\n",
      "\n",
      "---\n",
      "\n",
      "Each of these frameworks provides a structured approach to decision-making, reducing uncertainty, improving clarity, and ensuring that decisions are well-reasoned and aligned with objectives."
     ]
    }
   ],
   "source": [
    "// Create a new OpenAI prompt execution settings object\n",
    "var openAIPromptExecutionSettings = new OpenAIPromptExecutionSettings { \n",
    "    MaxTokens = 500, \n",
    "    Temperature = 0.3, \n",
    "    TopP = 1.0, \n",
    "    FrequencyPenalty = 0.0, \n",
    "    PresencePenalty = 0.0\n",
    "    };\n",
    "\n",
    "KernelArguments kernelArguments = new KernelArguments(openAIPromptExecutionSettings);\n",
    "await foreach (var streamChunk in semanticKernel.InvokePromptStreamingAsync(simpleDecisionPrompt, kernelArguments))\n",
    "{\n",
    "   Console.Write(streamChunk);\n",
    "}"
   ]
  },
  {
   "cell_type": "markdown",
   "metadata": {},
   "source": [
    "### Step 6 - Execute a Decision Prompt with a System Prompt (Custom AI Persona)"
   ]
  },
  {
   "cell_type": "markdown",
   "metadata": {},
   "source": [
    "When building Decison Intelligence prompts, all the typical best practices of prompt engineering apply when using Semantic Kernel.  Such as: \n",
    "* Make the prompt more specific (i.e. decision intelligence)\n",
    "* Add structure to the output with formatting\n",
    "* Provide examples with few-shot prompting\n",
    "* Instruct the AI what to do to avoid doing something else\n",
    "* Provide context (additional information) to the AI\n",
    "* Using Roles in Chat Completion API prompts\n",
    "* Give your AI words of encouragement  \n",
    "\n",
    "A key best practice is to provide a common behavior across all the LLM interactions in a system prompt. This system prompt is passed in on every single call the LLM with Semantic Kernel. By passing the same (or similar) system prompt with every prompt gives your Generative AI system a common persona. This common persona is the foundational building block of building AI agents; where the desired behavior is to have each agent have a unique persona/behavior every time you interact with that agent.\n",
    "\n",
    "Execute the cell below with a dynamic prompt template. Notice the different behavior of the output for decision frameworks. Based on the new system prompt instructions, the decision framework responses are much more robust with decision intelligence information."
   ]
  },
  {
   "cell_type": "code",
   "execution_count": 6,
   "metadata": {
    "dotnet_interactive": {
     "language": "csharp"
    },
    "polyglot_notebook": {
     "kernelName": "csharp"
    },
    "vscode": {
     "languageId": "polyglot-notebook"
    }
   },
   "outputs": [
    {
     "name": "stdout",
     "output_type": "stream",
     "text": [
      "PROMPT TO SEND TO THE CHAT COMPLETION SERVICE...\n",
      "\n",
      "System Prompt: \n",
      "You are a Decision Intelligence Assistant. \n",
      "Assist the user in exploring options, reasoning through decisions, problem-solving.\n",
      "Apply systems thinking to various scenarios. \n",
      "Provide structured, logical, and comprehensive decision advice.\n",
      "\n",
      "Request from the user: \n",
      "Recommend the top 5 decision frameworks that can be used for daily situations to make various decisions.\n",
      "These frameworks should be very easy to understand and apply to various scenarios.\n",
      "\n",
      "----------------------------------------\n",
      "\n",
      "RESPONSE FROM THE CHAT COMPLETION SERVICE...\n",
      "\n",
      "Here are five simple yet effective decision-making frameworks that can be applied to a wide variety of daily situations. These frameworks are easy to understand, practical, and versatile:\n",
      "\n",
      "---\n",
      "\n",
      "### 1. **The Eisenhower Matrix (Urgent-Important Matrix)**  \n",
      "**Best for:** Prioritizing tasks and managing time effectively.  \n",
      "\n",
      "#### How It Works:\n",
      "- Divide tasks into four quadrants based on urgency and importance:\n",
      "  1. **Urgent & Important:** Do it immediately.\n",
      "  2. **Not Urgent & Important:** Schedule it for later.\n",
      "  3. **Urgent & Not Important:** Delegate it if possible.\n",
      "  4. **Not Urgent & Not Important:** Eliminate or ignore it.\n",
      "\n",
      "#### Example Use Case:\n",
      "You’re overwhelmed with a long to-do list. Use the matrix to sort tasks and focus on what truly matters, like preparing for a work presentation (important) instead of scrolling social media (not important).\n",
      "\n",
      "---\n",
      "\n",
      "### 2. **The 80/20 Rule (Pareto Principle)**  \n",
      "**Best for:** Identifying the most impactful actions or decisions.  \n",
      "\n",
      "#### How It Works:\n",
      "- Recognize that 20% of your efforts often produce 80% of the results. Focus on the small number of activities that yield the greatest impact.\n",
      "\n",
      "#### Example Use Case:\n",
      "If you’re trying to improve your health, focus on the 20% of habits (e.g., regular exercise and eating whole foods) that will drive 80% of the results, rather than obsessing over minor details like specific supplements.\n",
      "\n",
      "---\n",
      "\n",
      "### 3. **The 10/10/10 Rule**  \n",
      "**Best for:** Evaluating the long-term impact of decisions.  \n",
      "\n",
      "#### How It Works:\n",
      "- Ask yourself: How will I feel about this decision in:\n",
      "  - 10 minutes?\n",
      "  - 10 months?\n",
      "  - 10 years?  \n",
      "\n",
      "#### Example Use Case:\n",
      "You’re deciding whether to accept an invitation to a social event. In 10 minutes, you might feel pressured to go, but in 10 months or 10 years, you might regret missing out on quality time with your family instead.\n",
      "\n",
      "---\n",
      "\n",
      "### 4. **The OODA Loop (Observe, Orient, Decide, Act)**  \n",
      "**Best for:** Making quick, iterative decisions in dynamic situations.  \n",
      "\n",
      "#### How It Works:\n",
      "1. **Observe:** Gather information about the situation.\n",
      "2. **Orient:** Analyze the data and understand your options.\n",
      "3"
     ]
    }
   ],
   "source": [
    "// Create a System Prompt instruction to override the default system prompt\n",
    "// Add the System Prompt (Persona) to behave like a Decision Intelligence assistant\n",
    "var systemPromptForDecisions = \"\"\"\n",
    "You are a Decision Intelligence Assistant. \n",
    "Assist the user in exploring options, reasoning through decisions, problem-solving.\n",
    "Apply systems thinking to various scenarios. \n",
    "Provide structured, logical, and comprehensive decision advice.\n",
    "\"\"\";\n",
    "var simpleDecisionPrompt = \"\"\"\n",
    "Recommend the top 5 decision frameworks that can be used for daily situations to make various decisions.\n",
    "These frameworks should be very easy to understand and apply to various scenarios.\n",
    "\"\"\";\n",
    "\n",
    "// How the prompt looks like to the LLM\n",
    "var simpleDecisionPromptTemplate = $\"\"\"\n",
    "System Prompt: \n",
    "{systemPromptForDecisions}\n",
    "\n",
    "Request from the user: \n",
    "{simpleDecisionPrompt}\n",
    "\"\"\";\n",
    "\n",
    "// Create a new OpenAI prompt execution settings object\n",
    "var openAIPromptExecutionSettings = new OpenAIPromptExecutionSettings { \n",
    "    ChatSystemPrompt = systemPromptForDecisions,\n",
    "    MaxTokens = 500, \n",
    "    Temperature = 0.3, \n",
    "    TopP = 1.0, \n",
    "    FrequencyPenalty = 0.0, \n",
    "    PresencePenalty = 0.0\n",
    "    };\n",
    "KernelArguments kernelArguments = new KernelArguments(openAIPromptExecutionSettings);\n",
    "\n",
    "Console.WriteLine(\"PROMPT TO SEND TO THE CHAT COMPLETION SERVICE...\");\n",
    "Console.WriteLine(string.Empty);\n",
    "Console.WriteLine(simpleDecisionPromptTemplate);\n",
    "Console.WriteLine(string.Empty);\n",
    "Console.WriteLine(\"----------------------------------------\");\n",
    "Console.WriteLine(string.Empty);\n",
    "Console.WriteLine(\"RESPONSE FROM THE CHAT COMPLETION SERVICE...\");\n",
    "Console.WriteLine(string.Empty);\n",
    "\n",
    "// Stream the response asynchronously\n",
    "await foreach (var streamChunk in semanticKernel.InvokePromptStreamingAsync(simpleDecisionPrompt, kernelArguments))\n",
    "{\n",
    "   Console.Write(streamChunk);\n",
    "}"
   ]
  },
  {
   "cell_type": "markdown",
   "metadata": {},
   "source": [
    "### Step 7 - Execute a Decision Scenario with a System Prompt (Custom AI Persona)"
   ]
  },
  {
   "cell_type": "markdown",
   "metadata": {},
   "source": [
    "In this step a decision scenario will be introduced requiring analysis and a recommendation performed by Artificial Intelligence. The full Decision Intelligence framework will not be used, rather a simple request for Artificial Intelligene to recommend a path forward (recommedation) for the human user to ultimately make the final decision.  \n",
    "\n",
    "**Decision Scenario:** Your high school daughter Alex is deciding whether to enroll directly in a four-year university or start at a community college to earn an associate degree first. These are Alex's main decision factors: financial, career uncertainty, academic consistency and future impact. In addition, you have all the decision factor detailed data available to pass to the GenAI model prompt. You are looking for an impartial (non-family) recommendation. Can Artificial Intelligence be that impartial judge to help Alex decide? \n",
    "\n",
    "<img style=\"display: block; margin: auto;\" width =\"700px\" src=\"https://raw.githubusercontent.com/bartczernicki/DecisionIntelligence.GenAI.Workshop/main/Images/Scenarios/Scenario-SimpleDecision-College.png\">"
   ]
  },
  {
   "cell_type": "code",
   "execution_count": 7,
   "metadata": {
    "dotnet_interactive": {
     "language": "csharp"
    },
    "polyglot_notebook": {
     "kernelName": "csharp"
    },
    "vscode": {
     "languageId": "polyglot-notebook"
    }
   },
   "outputs": [
    {
     "name": "stdout",
     "output_type": "stream",
     "text": [
      "### Recommendation Table for Alex's Decision\n",
      "\n",
      "| **Decision Factor**          | **Four-Year University**                                                                                              | **Community College**                                                                                                 | **Recommendation**                                                                                                   |\n",
      "|-------------------------------|-----------------------------------------------------------------------------------------------------------------------|-----------------------------------------------------------------------------------------------------------------------|---------------------------------------------------------------------------------------------------------------------|\n",
      "| **Financial Considerations**  | High cost ($50,000-$60,000/year). Family can afford it with loans, but cost is a medium concern.                      | Low cost ($3,000-$5,000/year). Significant savings upfront, but transfer may involve additional costs later.          | **Community College**: Starting here offers significant cost savings, reducing financial burden and future debt.    |\n",
      "| **Career and Major Uncertainty** | Risk of incurring extra time and cost if Alex switches majors. Limited flexibility to explore without financial impact. | Greater flexibility to explore interests at a lower cost. Transfer process could be a manageable adjustment.          | **Community College**: Allows Alex to explore majors affordably before committing to a specific path.               |\n",
      "| **Academic Consistency and Networking** | Early access to professors, campus groups, and internships. Stronger continuity in academic and social networks. | Delayed access to four-year university resources, but still possible to build connections after transferring.          | **Four-Year University**: Offers earlier access to networking and academic opportunities, but this is a secondary factor. |\n",
      "| **Future Impact**             | Stronger professional network and experience earlier, but higher debt could affect long-term financial stability.      | Lower debt improves financial stability. Transfer could slightly delay professional networking but is still achievable. | **Community College**: Lower debt improves long-term financial health, and networking can still happen after transfer. |\n",
      "\n",
      "### Final Recommendation: **Start at Community College**\n",
      "\n",
      "#### Reasoning:\n",
      "1. **Financial Stability**: Community college offers significant cost savings, reducing the need for loans and ensuring Alex has a more stable financial foundation post-graduation. This aligns with her concern about long-term financial stability.\n",
      "2. **Flexibility to Explore**: Since Alex is uncertain about her major, community college provides a low-cost opportunity to explore her interests without the pressure of high tuition costs.\n",
      "3. **Transfer Opportunities**: While transferring requires adjustment, many community colleges have strong transfer agreements with four-year universities, ensuring Alex can still graduate with a bachelor’s degree from a reputable institution.\n",
      "4. **Networking and Experience**: Although starting at a four-year university offers earlier access to networking opportunities, Alex can still build a strong professional network and gain relevant experience after transferring.\n",
      "\n",
      "By starting at community college, Alex minimizes financial risk, gains time to clarify her academic and career goals, and still has the opportunity to transfer to a four-year university to complete her degree."
     ]
    }
   ],
   "source": [
    "// Create a system prompt instruction to override the default system prompt\n",
    "// Add the System Prompt (Persona) to behave like a decision intelligence assistant\n",
    "var systemPromptForDecisions = \"\"\"\n",
    "You are a Decision Intelligence Assistant. \n",
    "Assist the user in exploring options, reasoning through decisions, problem-solving.\n",
    "Apply systems thinking to various scenarios. \n",
    "Provide structured, logical, and comprehensive decision advice.\n",
    "\"\"\";\n",
    "// Provide a description of the decision scenario and the desired output \n",
    "// Provide detailed Decision Scenario considerations and information about Alex (the decision-maker) \n",
    "var scenarioDecisionPrompt = \"\"\"\n",
    "Imagine you are advising a daughter named Alex who is deciding whether to enroll directly in a well-regarded four-year \n",
    "university or start at a community college to earn an associate degree first. \n",
    "\n",
    "Make a single recommendation based on the following decision factor details. \n",
    "Output the recommedation in a Markdown table format. \n",
    "\n",
    "Financial Considerations:\n",
    "Alex's four-year university will cost significantly more in tuition, housing, and related expenses \n",
    "(estimated $50,000-$60,000 per year). A two-year associate program at a local community college could \n",
    "save substantial money (estimated $3,000-$5,000 per year), but Alex may have to transfer to a \n",
    "four-year institution later to complete a bachelor's degree. The family can afford the four-year university, \n",
    "with some loans, but the cost is only a medium concern. \n",
    "\n",
    "Career and Major Uncertainty:\n",
    "Alex is not entirely sure what she wants to major in. She is torn between business, psychology, and \n",
    "possibly something in the arts. She worries that if she starts at the four-year university, \n",
    "she might switch majors and incur extra time and cost. On the other hand, \n",
    "community college might give her space to explore options, \n",
    "but transferring could mean adjusting to a new campus and curriculum midway through.\n",
    "\n",
    "Academic Consistency and Networking:\n",
    "Going straight to the four-year university would allow Alex to build early relationships with professors, \n",
    "join campus groups, and potentially secure internships or research opportunities. Starting at community college might \n",
    "delay those opportunities, but it could also let her explore different fields at a lower cost. \n",
    "She might miss out on the “full campus” experience early on, but transferring later means she could \n",
    "still build connections, just on a different timeline. \n",
    "\n",
    "Future Impact: \n",
    "Alex is unsure of the short-term future impact of her decision that might be hard to remediate. \n",
    "Alex wants a solid professional network and relevant experience when she graduates. \n",
    "Alex is not overly concerned about the social aspect of college, \n",
    "but feels she can build a quality network in a four-year university setting sooner. \n",
    "She is also concerned about taking on significant student loan debt. The decision affects not only her immediate academic path but \n",
    "also her long-term financial stability and career prospects. \n",
    "\"\"\";\n",
    "\n",
    "// How the prompt looks like to the LLM\n",
    "var scenarioDecisionPromptTemplate = $\"\"\"\n",
    "System Prompt: \n",
    "{systemPromptForDecisions}\n",
    "\n",
    "Request from the user: \n",
    "{scenarioDecisionPrompt}\n",
    "\"\"\";\n",
    "\n",
    "// Create a new OpenAI prompt execution settings object\n",
    "var openAIPromptExecutionSettings = new OpenAIPromptExecutionSettings { \n",
    "    ChatSystemPrompt = systemPromptForDecisions,\n",
    "    MaxTokens = 750, \n",
    "    Temperature = 0.3, \n",
    "    TopP = 1.0, \n",
    "    FrequencyPenalty = 0.0, \n",
    "    PresencePenalty = 0.0\n",
    "    };\n",
    "KernelArguments kernelArguments = new KernelArguments(openAIPromptExecutionSettings);\n",
    "\n",
    "await foreach (var streamChunk in semanticKernel.InvokePromptStreamingAsync(scenarioDecisionPromptTemplate, kernelArguments))\n",
    "{\n",
    "   Console.Write(streamChunk);\n",
    "}"
   ]
  }
 ],
 "metadata": {
  "kernelspec": {
   "display_name": ".NET (C#)",
   "language": "C#",
   "name": ".net-csharp"
  },
  "language_info": {
   "name": "csharp"
  },
  "polyglot_notebook": {
   "kernelInfo": {
    "defaultKernelName": "csharp",
    "items": [
     {
      "aliases": [],
      "name": "csharp"
     }
    ]
   }
  }
 },
 "nbformat": 4,
 "nbformat_minor": 2
}
