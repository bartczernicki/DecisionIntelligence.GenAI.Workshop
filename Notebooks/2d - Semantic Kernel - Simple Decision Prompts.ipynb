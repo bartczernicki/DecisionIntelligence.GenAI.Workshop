{
 "cells": [
  {
   "cell_type": "markdown",
   "metadata": {},
   "source": [
    "<img style=\"float: left;padding-right: 10px\" width =\"40px\" src=\"https://raw.githubusercontent.com/bartczernicki/DecisionIntelligence.GenAI.Workshop/main/Images/SemanticKernelLogo.png\">\n",
    "\n",
    "## Semantic Kernel - Simple Decision Prompts"
   ]
  },
  {
   "cell_type": "markdown",
   "metadata": {},
   "source": [
    "Decision Intelligence applied in this module:  \n",
    "* Listing of various decision-making frameworks and with their descriptions by using GenAI prompt engineering  \n",
    "* Creating custom AI personas with a system decision prompt  \n",
    "* Generating decision outputs using easier to consume formats (Markdown)     \n",
    "\n",
    "Prompts are the fundemental building block to getting the proper responses from AI models. This module demonstrates how to use common prompt engineering techniques while using Semantic Kernel. If you've ever used ChatGPT or Microsoft Copilot, you're already familiar with prompting. Given a prompt instruction, an LLM will attempt to predict the most likely response. With Semantic Kernel, you can craft applications, services & APIs that execute prompts.  \n",
    "\n",
    "For more information on using prompts with Semantic Kernel, visit: https://learn.microsoft.com/en-us/semantic-kernel/prompts/your-first-prompt  \n",
    "\n",
    "The process of carefully crafting questions or instructions for AI is called **Prompt Engineering**. Prompt Engineering involves designing and refining input prompts—text or questions—so that the AI produces responses that are more relevant, useful, or accurate. The goal of prompt engineering is to \"tune\" the prompt in a way that maximizes the quality and clarity of the AI's response, often using specific wording, context, or examples within the prompt itself.\n",
    "\n",
    "Decision Intelligence and Prompt Engineering techniques can be combined to created \"Generative AI Decision Intellignce\"! This can leverage GenAI models to reason over complex tasks, gather intelligence for decisions, recommend decisions, communicate decisions etc. "
   ]
  },
  {
   "cell_type": "markdown",
   "metadata": {},
   "source": [
    "### Step 1 - Initialize Configuration Builder & Build the Semantic Kernel Orchestration "
   ]
  },
  {
   "cell_type": "markdown",
   "metadata": {},
   "source": [
    "Execute the next two cells to:\n",
    "* Use the Configuration Builder to load the API secrets.  \n",
    "* Use the API configuration to build the Semantic Kernel orchestrator."
   ]
  },
  {
   "cell_type": "code",
   "execution_count": 1,
   "metadata": {
    "dotnet_interactive": {
     "language": "csharp"
    },
    "polyglot_notebook": {
     "kernelName": "csharp"
    },
    "vscode": {
     "languageId": "polyglot-notebook"
    }
   },
   "outputs": [
    {
     "data": {
      "text/html": [
       "<div><div></div><div></div><div><strong>Installed Packages</strong><ul><li><span>Microsoft.Extensions.Configuration, 9.0.0</span></li><li><span>Microsoft.Extensions.Configuration.Json, 9.0.0</span></li></ul></div></div>"
      ]
     },
     "metadata": {},
     "output_type": "display_data"
    }
   ],
   "source": [
    "// Import the required NuGet configuration packages\n",
    "#r \"nuget: Microsoft.Extensions.Configuration, 9.0.0\"\n",
    "#r \"nuget: Microsoft.Extensions.Configuration.Json, 9.0.0\"\n",
    "\n",
    "using Microsoft.Extensions.Configuration.Json;\n",
    "using Microsoft.Extensions.Configuration;\n",
    "using System.IO;\n",
    "\n",
    "// Load the configuration settings from the local.settings.json and secrets.settings.json files\n",
    "// The secrets.settings.json file is used to store sensitive information such as API keys\n",
    "var configurationBuilder = new ConfigurationBuilder()\n",
    "    .SetBasePath(Directory.GetCurrentDirectory())\n",
    "    .AddJsonFile(\"local.settings.json\", optional: true, reloadOnChange: true)\n",
    "    .AddJsonFile(\"secrets.settings.json\", optional: true, reloadOnChange: true);\n",
    "var config = configurationBuilder.Build();\n",
    "\n",
    "// IMPORTANT: You ONLY NEED either Azure OpenAI or OpenAI connectiopn info, not both.\n",
    "// Azure OpenAI Connection Info\n",
    "var azureOpenAIEndpoint = config[\"AzureOpenAI:Endpoint\"];\n",
    "var azureOpenAIAPIKey = config[\"AzureOpenAI:APIKey\"];\n",
    "var azureOpenAIModelDeploymentName = config[\"AzureOpenAI:ModelDeploymentName\"];\n",
    "// OpenAI Connection Info \n",
    "var openAIAPIKey = config[\"OpenAI:APIKey\"];\n",
    "var openAIModelId = config[\"OpenAI:ModelId\"];"
   ]
  },
  {
   "cell_type": "code",
   "execution_count": 2,
   "metadata": {
    "dotnet_interactive": {
     "language": "csharp"
    },
    "polyglot_notebook": {
     "kernelName": "csharp"
    },
    "vscode": {
     "languageId": "polyglot-notebook"
    }
   },
   "outputs": [
    {
     "data": {
      "text/html": [
       "<div><div></div><div></div><div><strong>Installed Packages</strong><ul><li><span>Microsoft.SemanticKernel, 1.32.0</span></li></ul></div></div>"
      ]
     },
     "metadata": {},
     "output_type": "display_data"
    },
    {
     "name": "stdout",
     "output_type": "stream",
     "text": [
      "Using Azure OpenAI Service\n"
     ]
    }
   ],
   "source": [
    "// Import the Semantic Kernel NuGet package\n",
    "#r \"nuget: Microsoft.SemanticKernel, 1.32.0\"\n",
    "\n",
    "using Microsoft.Extensions.DependencyInjection.Extensions;\n",
    "using Microsoft.Extensions.DependencyInjection;\n",
    "using Microsoft.SemanticKernel;\n",
    "using Microsoft.SemanticKernel.ChatCompletion;\n",
    "using Microsoft.SemanticKernel.Connectors.OpenAI;\n",
    "\n",
    "Kernel semanticKernel;\n",
    "\n",
    "// Set the flag to use Azure OpenAI or OpenAI. False to use OpenAI, True to use Azure OpenAI\n",
    "var useAzureOpenAI = true;\n",
    "\n",
    "// Create a new Semantic Kernel instance\n",
    "if (useAzureOpenAI)\n",
    "{\n",
    "    Console.WriteLine(\"Using Azure OpenAI Service\");\n",
    "    semanticKernel = Kernel.CreateBuilder()\n",
    "        .AddAzureOpenAIChatCompletion(\n",
    "            deploymentName: azureOpenAIModelDeploymentName,\n",
    "            endpoint: azureOpenAIEndpoint,\n",
    "            apiKey: azureOpenAIAPIKey)\n",
    "        .Build();\n",
    "}\n",
    "else\n",
    "{\n",
    "    Console.WriteLine(\"Using OpenAI Service\");\n",
    "    semanticKernel = Kernel.CreateBuilder()\n",
    "        .AddOpenAIChatCompletion(\n",
    "            modelId: openAIModelId,\n",
    "            apiKey: openAIAPIKey)\n",
    "        .Build();\n",
    "}"
   ]
  },
  {
   "cell_type": "markdown",
   "metadata": {},
   "source": [
    "### Step 2 - Execute a Decision Prompt "
   ]
  },
  {
   "cell_type": "markdown",
   "metadata": {},
   "source": [
    "Many LLMs and even SLMs have been trained on knowledge that includes decision frameworks & processes. This makes LLMs great assistants to:\n",
    "* Provide proper Decision Frames\n",
    "* Gather Intelligence (information) in order to make a decision\n",
    "* Recommend Decision Frameworks to make a high-quality decision\n",
    "* Provide feedback to evaluate a Decision\n",
    "\n",
    "Once the Semantic Kernel instance is built, it is ready to intake prompt instructions. In the prompt below, the Semantic Kernel is instructed to provide examples of decision frameworks \"trained into\" the knowledge of the configured AI model.  "
   ]
  },
  {
   "cell_type": "code",
   "execution_count": 3,
   "metadata": {
    "dotnet_interactive": {
     "language": "csharp"
    },
    "polyglot_notebook": {
     "kernelName": "csharp"
    },
    "vscode": {
     "languageId": "polyglot-notebook"
    }
   },
   "outputs": [
    {
     "name": "stdout",
     "output_type": "stream",
     "text": [
      "Here are **five decision-making frameworks** that can significantly enhance the quality of decisions, along with descriptions of their roles in improving analysis and reasoning:\n",
      "\n",
      "---\n",
      "\n",
      "### 1. **Kepner-Tregoe Decision Analysis (KTDA)**\n",
      "   - **Purpose**: Focuses on understanding priorities, generating alternatives, and systematically evaluating them.\n",
      "   - **How it Helps**:\n",
      "     - Separates decision-making into four stages: situation analysis, problem analysis, decision analysis, and potential problem analysis.\n",
      "     - Encourages clear prioritization of objectives and criteria, improving the clarity and logic behind decisions.\n",
      "     - Ideal for complex, high-stakes decisions requiring careful trade-offs between options.\n",
      "\n",
      "---\n",
      "\n",
      "### 2. **SWOT Analysis**\n",
      "   - **Purpose**: Evaluates strengths, weaknesses, opportunities, and threats.\n",
      "   - **How it Helps**:\n",
      "     - Provides a structured way to assess internal and external factors impacting a decision.\n",
      "     - Promotes a balanced perspective by recognizing potential risks and leveraging advantages.\n",
      "     - Especially useful in strategic decision-making, like business planning or market entry.\n",
      "\n",
      "---\n",
      "\n",
      "### 3. **OODA Loop (Observe, Orient, Decide, Act)**\n",
      "   - **Purpose**: A dynamic framework for quick and adaptive decision-making.\n",
      "   - **How it Helps**:\n",
      "     - Focuses on continuous situational awareness through observation and orientation.\n",
      "     - Encourages rapid iteration and learning during cycles of decision-making.\n",
      "     - Best suited for fast-changing environments, such as crisis management or competitive scenarios.\n",
      "\n",
      "---\n",
      "\n",
      "### 4. **Six Thinking Hats**\n",
      "   - **Purpose**: Encourages parallel thinking from different perspectives for comprehensive analysis.\n",
      "   - **How it Helps**:\n",
      "     - Each \"hat\" represents a type of thinking (e.g., logical, emotional, creative, critical).\n",
      "     - Fosters collaboration and prevents bias by ensuring all perspectives are considered.\n",
      "     - Effective in group decision-making or brainstorming sessions.\n",
      "\n",
      "---\n",
      "\n",
      "### 5. **Pros and Cons Analysis**\n",
      "   - **Purpose**: A simple framework for systematically weighing advantages and disadvantages.\n",
      "   - **How it Helps**:\n",
      "     - Encourages critical thinking by identifying the potential benefits and drawbacks of a choice.\n",
      "     - Enhances clarity and transparency in personal or professional decision-making.\n",
      "     - Works well for straightforward, binary decisions or for narrowing down options.\n",
      "\n",
      "---\n",
      "\n",
      "Each of these frameworks is suited to different contexts, but all promote a structured approach to decision-making, reducing cognitive biases and improving the quality of outcomes.\n"
     ]
    }
   ],
   "source": [
    "// A new prompt to help with decision-making frameworks\n",
    "var simpleDecisionPrompt = \"\"\"\n",
    "Identify and list 5 decision-making frameworks that can enhance the quality of decisions. \n",
    "Briefly describe how each framework supports better analysis and reasoning in different decision-making scenarios.\n",
    "\"\"\";\n",
    "\n",
    "var simplePromptResponse = await semanticKernel.InvokePromptAsync(simpleDecisionPrompt);\n",
    "Console.WriteLine(simplePromptResponse.GetValue<string>());"
   ]
  },
  {
   "cell_type": "markdown",
   "metadata": {},
   "source": [
    "### Step 3 - Execute a Decision Prompt with Streaming"
   ]
  },
  {
   "cell_type": "markdown",
   "metadata": {},
   "source": [
    "Semantic Kernel supports prompt response streaming when invoking the prompt. This allows responses to be streamed to the client as soon as they are made available by the LLM and service. Below the same decision prompt is executed. However, notice that chunks are streamed and can be read by the user as soon as they appear. \n",
    "\n",
    "> Note: An average human can read between 25-40 tokens / second.  "
   ]
  },
  {
   "cell_type": "code",
   "execution_count": 4,
   "metadata": {
    "dotnet_interactive": {
     "language": "csharp"
    },
    "polyglot_notebook": {
     "kernelName": "csharp"
    },
    "vscode": {
     "languageId": "polyglot-notebook"
    }
   },
   "outputs": [
    {
     "name": "stdout",
     "output_type": "stream",
     "text": [
      "Here are **five decision-making frameworks** that can enhance the quality of decisions, alongside brief explanations of how they support better analysis and reasoning:\n",
      "\n",
      "---\n",
      "\n",
      "### 1. **The OODA Loop (Observe, Orient, Decide, Act)**  \n",
      "   - **Description:** This framework, originally developed by military strategist John Boyd, involves a continuous cycle of observation, orientation, decision, and action.\n",
      "   - **How It Helps:**  \n",
      "     - Encourages situational awareness by emphasizing the importance of thoroughly observing and understanding the environment.\n",
      "     - Helps decision-makers adapt quickly in rapidly changing or uncertain scenarios, making it ideal for dynamic industries like business or emergency response.\n",
      "     - Prioritizes iterative learning and improvement, enabling better decisions over time.\n",
      "\n",
      "---\n",
      "\n",
      "### 2. **SWOT Analysis (Strengths, Weaknesses, Opportunities, Threats)**  \n",
      "   - **Description:** A strategic planning tool used to evaluate internal and external factors that impact a decision or organization.\n",
      "   - **How It Helps:**  \n",
      "     - Provides a structured and comprehensive way to assess both positive (strengths and opportunities) and negative (weaknesses and threats) influences.\n",
      "     - Encourages balancing internal capabilities and external market conditions, improving strategic alignment.\n",
      "     - Useful for high-level business decisions, personal growth, and project evaluation.\n",
      "\n",
      "---\n",
      "\n",
      "### 3. **The Eisenhower Matrix (Urgent-Important Matrix)**  \n",
      "   - **Description:** A time-management tool that categorizes tasks or decisions based on their urgency and importance.\n",
      "   - **How It Helps:**  \n",
      "     - Encourages prioritization by focusing on what truly matters, reducing the influence of distractions.\n",
      "     - Guides resource allocation and prevents procrastination or overwhelm in the decision-making process.\n",
      "     - Valuable for individuals and teams needing to prioritize competing objectives in their day-to-day workflows.\n",
      "\n",
      "---\n",
      "\n",
      "### 4. **Cost-Benefit Analysis (CBA)**  \n",
      "   - **Description:** A quantitative framework that weighs the costs and benefits of a decision to determine its financial and strategic viability.\n",
      "   - **How It Helps:**  \n",
      "     - Promotes logical, metrics-driven evaluation, reducing emotional bias in decisions.\n",
      "     - Directly ties decisions to measurable outcomes, enabling effective risk assessment.\n",
      "     - Frequently used in project management, budgeting, and policy-making scenarios.\n",
      "\n",
      "---\n",
      "\n",
      "### 5. **Decision Trees**  \n",
      "   - **Description:** A graphic representation of possible outcomes, decisions, and their potential risks/benefits.\n",
      "   - **How It Helps:**  \n",
      "     - Breaks down complex decisions into manageable steps and visualizes the sequence of choices and their probable consequences.\n",
      "     - Allows for the inclusion of probabilities to assess risks analytically, supporting data-driven decisions.\n",
      "     - Useful in areas like business strategy, investment analysis, and machine learning applications.\n",
      "\n",
      "---\n",
      "\n",
      "These frameworks foster critical thinking, logical assessment, and strategic alignment, which are essential for consistently making well-informed and impactful decisions."
     ]
    }
   ],
   "source": [
    "await foreach (var streamChunk in semanticKernel.InvokePromptStreamingAsync(simpleDecisionPrompt))\n",
    "{\n",
    "   Console.Write(streamChunk);\n",
    "}"
   ]
  },
  {
   "cell_type": "markdown",
   "metadata": {},
   "source": [
    "### Step 4 - Execute a Semantic Kernel Decision Prompt with Improved Formatting  "
   ]
  },
  {
   "cell_type": "markdown",
   "metadata": {},
   "source": [
    "Generative AI models have an inherent ability to not only provide decision reasoning analysis, but also format the output in a desired format. This could be as simple as instructing the Generative AI model to format the decision as a single sentence, paragraphs or lists. However more sophisticated output generations can be instructed. For example, the GenAI model can ouput Markdown or even extract information and fill in a desired schema (JSON). Specifically for Decision Intelligence, you can ask the GenAI models to apply decision communication frameworks to the generation as well. \n",
    "\n",
    "Execute the simple decision prompt below with Markdown formatting ouptut. This table can now be rendered in a Markdown document for easy human comprehension. Markdown tables and other formats can be used on web sites, document, programming code etc. Even Generative AI models understand Markdown format, which can not only be used for output but inside input prompts.  "
   ]
  },
  {
   "cell_type": "code",
   "execution_count": 5,
   "metadata": {
    "dotnet_interactive": {
     "language": "csharp"
    },
    "polyglot_notebook": {
     "kernelName": "csharp"
    },
    "vscode": {
     "languageId": "polyglot-notebook"
    }
   },
   "outputs": [
    {
     "name": "stdout",
     "output_type": "stream",
     "text": [
      "| Framework                     | Description                                                                                   |\n",
      "|-------------------------------|-----------------------------------------------------------------------------------------------|\n",
      "| SWOT Analysis                 | Evaluates Strengths, Weaknesses, Opportunities, and Threats to understand internal and external factors affecting a decision. Enhances clarity and strategic thinking. |\n",
      "| Pareto Analysis               | Focuses on the 80/20 principle, identifying the vital few contributors (20%) to the majority of outcomes (80%). Helps prioritize actions for maximum impact. |\n",
      "| Cost-Benefit Analysis (CBA)   | Compares the costs and benefits of various options to determine the most financially or strategically viable choice. Increases rationality in allocating resources. |\n",
      "| Decision Matrix               | Assigns scores and weights to criteria for each option. Provides a structured comparison to identify the most favorable alternative based on multiple factors. |\n",
      "| Six Thinking Hats             | Encourages exploring a decision from various perspectives (logical, emotional, creative, optimistic, etc.). Promotes holistic and balanced reasoning. |"
     ]
    }
   ],
   "source": [
    "// New prompt to help with decision-making frameworks using Markdown formatting.\n",
    "var simpleDecisionPromptWithMarkdownFormat = \"\"\"\n",
    "Identify and list 5 decision-making frameworks that can enhance the quality of decisions. \n",
    "Briefly describe how each framework supports better analysis and reasoning in different decision-making scenarios.\n",
    "\n",
    "Format the response using only a Markdown table. Do not enclose the table in triple backticks.\n",
    "\"\"\";\n",
    "\n",
    "await foreach (var streamChunk in semanticKernel.InvokePromptStreamingAsync(simpleDecisionPromptWithMarkdownFormat))\n",
    "{\n",
    "   Console.Write(streamChunk);\n",
    "}"
   ]
  },
  {
   "cell_type": "markdown",
   "metadata": {},
   "source": [
    "Example formatted Markdown Table output: \n",
    "\n",
    "| Framework                     | Description                                                                                   |\n",
    "|-------------------------------|-----------------------------------------------------------------------------------------------|\n",
    "| SWOT Analysis                 | Evaluates Strengths, Weaknesses, Opportunities, and Threats to understand internal and external factors affecting a decision. Enhances clarity and strategic thinking. |\n",
    "| Pareto Analysis               | Focuses on the 80/20 principle, identifying the vital few contributors (20%) to the majority of outcomes (80%). Helps prioritize actions for maximum impact. |\n",
    "| Cost-Benefit Analysis (CBA)   | Compares the costs and benefits of various options to determine the most financially or strategically viable choice. Increases rationality in allocating resources. |\n",
    "| Decision Matrix               | Assigns scores and weights to criteria for each option. Provides a structured comparison to identify the most favorable alternative based on multiple factors. |\n",
    "| Six Thinking Hats             | Encourages exploring a decision from various perspectives (logical, emotional, creative, optimistic, etc.). Promotes holistic and balanced reasoning. |"
   ]
  },
  {
   "cell_type": "markdown",
   "metadata": {},
   "source": [
    "### Step 5 - Execute a Decision Prompt with a Custom Execution Configuration"
   ]
  },
  {
   "cell_type": "markdown",
   "metadata": {},
   "source": [
    "Semantic Kernel supports the configuration of prompt execution. The typical OpenAI and Azure OpenAI settings are exposed as configuration options that provide a different prompt experience. Try changing the MaxTokens, Tempature or other settings.\n",
    "\n",
    "> Note: The supported settings are dependendent on the API plus the specific model version. For example, a model paired with an older API may not expose all the configuration settings available. Conversely, a new preview model may not have all the settings available until it becomes generally available.  "
   ]
  },
  {
   "cell_type": "code",
   "execution_count": 6,
   "metadata": {
    "dotnet_interactive": {
     "language": "csharp"
    },
    "polyglot_notebook": {
     "kernelName": "csharp"
    },
    "vscode": {
     "languageId": "polyglot-notebook"
    }
   },
   "outputs": [
    {
     "name": "stdout",
     "output_type": "stream",
     "text": [
      "Here are five decision-making frameworks that can enhance the quality of decisions, along with a brief description of how each supports better analysis and reasoning in various scenarios:\n",
      "\n",
      "---\n",
      "\n",
      "### 1. **SWOT Analysis (Strengths, Weaknesses, Opportunities, Threats)**\n",
      "   - **Description**: SWOT analysis is a strategic planning tool used to evaluate internal and external factors affecting a decision or project.\n",
      "   - **How it helps**: By systematically identifying strengths and weaknesses (internal factors) and opportunities and threats (external factors), this framework provides a comprehensive picture of the situation. It helps decision-makers assess risks and leverage advantages, making it ideal for strategic planning, business decisions, or personal goal-setting.\n",
      "\n",
      "---\n",
      "\n",
      "### 2. **The Eisenhower Matrix (Urgent-Important Matrix)**\n",
      "   - **Description**: This framework prioritizes tasks by categorizing them into four quadrants based on urgency and importance.\n",
      "   - **How it helps**: By distinguishing between urgent and important tasks, the Eisenhower Matrix helps individuals and teams focus on high-priority activities while delegating or eliminating less critical ones. It’s particularly useful for time management, productivity, and resource allocation decisions.\n",
      "\n",
      "---\n",
      "\n",
      "### 3. **Cost-Benefit Analysis (CBA)**\n",
      "   - **Description**: CBA involves comparing the costs and benefits of a decision to determine its overall value or feasibility.\n",
      "   - **How it helps**: By quantifying the pros and cons of a decision, this framework allows for an objective evaluation of alternatives. It is especially effective in financial, operational, or investment decisions where measurable outcomes are critical.\n",
      "\n",
      "---\n",
      "\n",
      "### 4. **The Six Thinking Hats**\n",
      "   - **Description**: Developed by Edward de Bono, this framework encourages decision-makers to approach a problem from six distinct perspectives, represented by metaphorical \"hats\" (e.g., logical, emotional, creative, etc.).\n",
      "   - **How it helps**: By fostering diverse viewpoints and structured thinking, this method reduces bias and ensures a well-rounded analysis. It’s particularly useful in group decision-making, brainstorming, and problem-solving scenarios.\n",
      "\n",
      "---\n",
      "\n",
      "### 5. **OODA Loop (Observe, Orient, Decide, Act)**\n",
      "   - **Description**: Originally developed for military strategy, the OODA Loop is a cyclical process for making decisions quickly and effectively in dynamic environments.\n",
      "   - **How it helps**: By emphasizing continuous observation and adaptation, the OODA Loop helps decision-makers respond to"
     ]
    }
   ],
   "source": [
    "// Create a new OpenAI prompt execution settings object\n",
    "var openAIPromptExecutionSettings = new OpenAIPromptExecutionSettings { \n",
    "    MaxTokens = 500, \n",
    "    Temperature = 0.3, \n",
    "    TopP = 1.0, \n",
    "    FrequencyPenalty = 0.0, \n",
    "    PresencePenalty = 0.0\n",
    "    };\n",
    "\n",
    "KernelArguments kernelArguments = new KernelArguments(openAIPromptExecutionSettings);\n",
    "await foreach (var streamChunk in semanticKernel.InvokePromptStreamingAsync(simpleDecisionPrompt, kernelArguments))\n",
    "{\n",
    "   Console.Write(streamChunk);\n",
    "}"
   ]
  },
  {
   "cell_type": "markdown",
   "metadata": {},
   "source": [
    "### Step 6 - Execute a Decision Prompt with a System Prompt (Custom AI Persona)"
   ]
  },
  {
   "cell_type": "markdown",
   "metadata": {},
   "source": [
    "When building Decison Intelligence prompts, all the typical best practices of prompt engineering apply when using Semantic Kernel.  Such as: \n",
    "* Make the prompt more specific\n",
    "* Add structure to the output with formatting\n",
    "* Provide examples with few-shot prompting\n",
    "* Instruct the AI what to do to avoid doing something wrong\n",
    "* Provide context (additional information) to the AI\n",
    "* Using Roles in chat completion prompts\n",
    "* Give your AI words of encouragement  \n",
    "\n",
    "A key best practice is to provide a common behavior across all the LLM interactions in a system prompt. This system prompt is passed in on every single call the LLM with Semantic Kernel. By passing the same (or similar) system prompt with every prompt gives your Generative AI system a common persona. This common persona is the foundational building block of building AI agents; where the desired behavior is to have each agent have a desired persona/behavior every time you interact with that agent.\n",
    "\n",
    "Execute the cell below with a dynamic prompt template. Notice the different behavior of the output for decision frameworks. Based on the new system prompt instructions, the decision framework responses are much more robust with decision intelligence information."
   ]
  },
  {
   "cell_type": "code",
   "execution_count": 7,
   "metadata": {
    "dotnet_interactive": {
     "language": "csharp"
    },
    "polyglot_notebook": {
     "kernelName": "csharp"
    },
    "vscode": {
     "languageId": "polyglot-notebook"
    }
   },
   "outputs": [
    {
     "name": "stdout",
     "output_type": "stream",
     "text": [
      "PROMPT TO SEND TO THE CHAT COMPLETION SERVICE...\n",
      "\n",
      "System Prompt: You are a Decision Intelligence Assistant. \n",
      "Assist the user in exploring options, reasoning through decisions, problem-solving.\n",
      "Apply systems thinking to various scenarios. \n",
      "Provide structured, logical, and comprehensive decision advice.\n",
      "\n",
      "Request from the user: Recommend the top 5 decision frameworks that can be used for daily situations to make various decisions.\n",
      "These frameworks should be very easy to understand and apply in different scenarios.\n",
      "\n",
      "----------------------------------------\n",
      "\n",
      "RESPONSE FROM THE CHAT COMPLETION SERVICE...\n",
      "\n",
      "Here are five decision-making frameworks that are simple, versatile, and easy to apply in daily situations. These frameworks are designed to help you think clearly, weigh options, and make confident choices across a variety of scenarios:\n",
      "\n",
      "---\n",
      "\n",
      "### 1. **The Eisenhower Matrix (Urgent-Important Matrix)**  \n",
      "**Best for:** Prioritizing tasks and managing time effectively.  \n",
      "**How it works:**  \n",
      "This framework helps you categorize tasks or decisions into four quadrants based on urgency and importance:  \n",
      "- **Quadrant 1:** Urgent and Important – Do it now.  \n",
      "- **Quadrant 2:** Not Urgent but Important – Schedule it.  \n",
      "- **Quadrant 3:** Urgent but Not Important – Delegate it.  \n",
      "- **Quadrant 4:** Not Urgent and Not Important – Eliminate it.  \n",
      "\n",
      "**Example:** Deciding whether to respond to an email immediately or focus on preparing for a big presentation.  \n",
      "\n",
      "---\n",
      "\n",
      "### 2. **The 80/20 Rule (Pareto Principle)**  \n",
      "**Best for:** Identifying the most impactful actions or decisions.  \n",
      "**How it works:**  \n",
      "Focus on the 20% of actions that will produce 80% of the results. This framework helps you prioritize high-value activities and avoid wasting time on low-impact tasks.  \n",
      "\n",
      "**Steps:**  \n",
      "1. List all possible options or tasks.  \n",
      "2. Identify which ones will have the greatest impact.  \n",
      "3. Focus your energy on those high-impact options.  \n",
      "\n",
      "**Example:** Deciding which 2 out of 10 errands will make the biggest difference to your day.  \n",
      "\n",
      "---\n",
      "\n",
      "### 3. **The OODA Loop (Observe, Orient, Decide, Act)**  \n",
      "**Best for:** Quick, iterative decision-making in dynamic situations.  \n",
      "**How it works:**  \n",
      "This framework emphasizes adaptability and continuous improvement:  \n",
      "1. **Observe:** Gather information about the current situation.  \n",
      "2. **Orient:** Analyze the information and understand your options.  \n",
      "3. **Decide:** Choose the best course of action.  \n",
      "4. **Act:** Implement your decision, then loop back to observe the results.  \n",
      "\n",
      "**Example:** Deciding how to respond to a sudden change in plans, like a canceled meeting or a traffic jam.  \n",
      "\n",
      "---\n",
      "\n",
      "### 4. **The 10/10/10 Rule**  \n",
      "**Best for:** Evaluating the long-term impact of a decision.  \n",
      "**How it works:**  \n",
      "Ask yourself three"
     ]
    }
   ],
   "source": [
    "// Create a system prompt instruction to override the default system prompt\n",
    "// Add the System Prompt (Persona) to behave like a decision intelligence assistant\n",
    "var systemPromptForDecisions = \"\"\"\n",
    "You are a Decision Intelligence Assistant. \n",
    "Assist the user in exploring options, reasoning through decisions, problem-solving.\n",
    "Apply systems thinking to various scenarios. \n",
    "Provide structured, logical, and comprehensive decision advice.\n",
    "\"\"\";\n",
    "var simpleDecisionPrompt = \"\"\"\n",
    "Recommend the top 5 decision frameworks that can be used for daily situations to make various decisions.\n",
    "These frameworks should be very easy to understand and apply in different scenarios.\n",
    "\"\"\";\n",
    "\n",
    "// How the prompt looks like to the LLM\n",
    "var simpleDecisionPromptTemplate = $\"\"\"\n",
    "System Prompt: {systemPromptForDecisions}\n",
    "\n",
    "Request from the user: {simpleDecisionPrompt}\n",
    "\"\"\";\n",
    "\n",
    "// Create a new OpenAI prompt execution settings object\n",
    "var openAIPromptExecutionSettings = new OpenAIPromptExecutionSettings { \n",
    "    ChatSystemPrompt = systemPromptForDecisions,\n",
    "    MaxTokens = 500, \n",
    "    Temperature = 0.3, \n",
    "    TopP = 1.0, \n",
    "    FrequencyPenalty = 0.0, \n",
    "    PresencePenalty = 0.0\n",
    "    };\n",
    "KernelArguments kernelArguments = new KernelArguments(openAIPromptExecutionSettings);\n",
    "\n",
    "Console.WriteLine(\"PROMPT TO SEND TO THE CHAT COMPLETION SERVICE...\");\n",
    "Console.WriteLine(string.Empty);\n",
    "Console.WriteLine(simpleDecisionPromptTemplate);\n",
    "Console.WriteLine(string.Empty);\n",
    "Console.WriteLine(\"----------------------------------------\");\n",
    "Console.WriteLine(string.Empty);\n",
    "Console.WriteLine(\"RESPONSE FROM THE CHAT COMPLETION SERVICE...\");\n",
    "Console.WriteLine(string.Empty);\n",
    "\n",
    "await foreach (var streamChunk in semanticKernel.InvokePromptStreamingAsync(simpleDecisionPrompt, kernelArguments))\n",
    "{\n",
    "   Console.Write(streamChunk);\n",
    "}"
   ]
  },
  {
   "cell_type": "markdown",
   "metadata": {},
   "source": [
    "### Step 7 - Decision Scenario with a System Prompt (Custom AI Persona)"
   ]
  },
  {
   "cell_type": "markdown",
   "metadata": {},
   "source": [
    "In this step a scenario will be introduced requiring analysis and a recommendation performed by Artificial Intelligence. The full Decision Intelligence framework will not be used, rather a simple request for Artificial Intelligene to recommend a path forward (decision recommedation) for the human user to ultimately make the final decision.  \n",
    "\n",
    "**Decision Scenario:** Your high school daughter Alex is deciding whether to enroll directly in a four-year university or start at a community college to earn an associate degree first. These are the main decision factors: financial, career uncertainty, academic consistency and future impact. You have all the decision factor details available to pass to the GenAI model prompt. You are looking for an impartial (non-family) recommendation. Can Artificial Intelligence help Alex decide? \n",
    "\n",
    "<img style=\"display: block; margin: auto;\" width =\"700px\" src=\"https://raw.githubusercontent.com/bartczernicki/DecisionIntelligence.GenAI.Workshop/main/Images/Scenarios/Scenario-SimpleDecision-College.png\">"
   ]
  },
  {
   "cell_type": "code",
   "execution_count": 8,
   "metadata": {
    "dotnet_interactive": {
     "language": "csharp"
    },
    "polyglot_notebook": {
     "kernelName": "csharp"
    },
    "vscode": {
     "languageId": "polyglot-notebook"
    }
   },
   "outputs": [
    {
     "name": "stdout",
     "output_type": "stream",
     "text": [
      "### Recommendation Table: Four-Year University vs. Community College\n",
      "\n",
      "| **Decision Factor**           | **Four-Year University**                                                                 | **Community College**                                                                 |\n",
      "|--------------------------------|-----------------------------------------------------------------------------------------|---------------------------------------------------------------------------------------|\n",
      "| **Financial Considerations**   | Higher cost ($50,000-$60,000/year). Family can afford it with loans, but cost is a medium concern. | Significantly lower cost ($3,000-$5,000/year). Allows for substantial savings, reducing loan burden. |\n",
      "| **Career and Major Uncertainty** | Risk of incurring extra time and cost if Alex switches majors. However, access to diverse programs and advisors may help clarify her path. | Lower financial risk while exploring majors. Provides flexibility to decide before committing to a bachelor's program. |\n",
      "| **Academic Consistency and Networking** | Early access to professors, campus groups, internships, and research opportunities. Builds a professional network sooner. | Delayed access to networking and internships. Adjusting to a new campus after transferring may be challenging. |\n",
      "| **Future Impact**              | Graduating from a well-regarded university could enhance career prospects and networking opportunities. However, higher debt could impact financial stability. | Lower debt improves financial stability. Transferring may limit access to some opportunities, but long-term impact depends on her chosen field and effort. |\n",
      "\n",
      "---\n",
      "\n",
      "### **Recommendation: Start at a Community College**\n",
      "\n",
      "Based on the decision factors, starting at a **community college** is the more prudent choice for Alex. Here's why:\n",
      "\n",
      "1. **Financial Savings**: Community college offers a significant cost advantage, allowing Alex to explore her interests without the pressure of high tuition costs. This reduces the financial burden on her and her family, especially since she is uncertain about her major.\n",
      "\n",
      "2. **Flexibility in Major Exploration**: Community college provides a low-risk environment for Alex to explore business, psychology, and the arts. This flexibility minimizes the risk of incurring additional time and costs if she decides to switch majors.\n",
      "\n",
      "3. **Future Transfer Opportunities**: While transferring to a four-year university may require adjustment, many universities have articulation agreements with community colleges to ensure a smooth transition. Alex can still graduate from a well-regarded institution after transferring.\n",
      "\n",
      "4. **Long-Term Financial Stability**: Starting at a community college reduces the need for significant student loans, which will positively impact Alex's financial stability after graduation.\n",
      "\n",
      "5. **Delayed, Not Missed, Opportunities**: While Alex may delay networking and internships, she can still build strong connections after transferring. The quality of her professional network will depend more on her effort and engagement than on starting at a four-year university immediately.\n",
      "\n",
      "---\n",
      "\n",
      "### **Key Considerations for Success**\n",
      "- Alex should research transfer agreements between her community college and potential four-year universities to ensure a smooth transition.\n",
      "- She should actively engage in academic and extracurricular opportunities at the community college to build a strong foundation.\n",
      "- If she narrows down her major interests early, she can plan her coursework strategically to avoid delays when transferring.\n",
      "\n",
      "By starting at a community college, Alex can explore her options, save money, and minimize financial risk while still achieving her long-term academic and career goals."
     ]
    }
   ],
   "source": [
    "// Create a system prompt instruction to override the default system prompt\n",
    "// Add the System Prompt (Persona) to behave like a decision intelligence assistant\n",
    "var systemPromptForDecisions = \"\"\"\n",
    "You are a Decision Intelligence Assistant. \n",
    "Assist the user in exploring options, reasoning through decisions, problem-solving.\n",
    "Apply systems thinking to various scenarios. \n",
    "Provide structured, logical, and comprehensive decision advice.\n",
    "\"\"\";\n",
    "// Provide a description of the decision scenario and the desired output \n",
    "// Provide detailed decision scenario considerations and information about Alex (the decision-maker) \n",
    "var scenarioDecisionPrompt = \"\"\"\n",
    "Imagine you Are advising a daughter named Alex who is deciding whether to enroll directly in a well-regarded four-year \n",
    "university or start at a community college to earn an associate degree first. \n",
    "\n",
    "Make a single recommendation based on the following decision factor details. \n",
    "Output the recommedation in a Markdown table format. \n",
    "\n",
    "Financial Considerations:\n",
    "A four-year university will cost significantly more in tuition, housing, and related expenses \n",
    "(estimated $50,000-$60,000 per year). A two-year associate program at a local community college could \n",
    "save substantial money (estimated $3,000-$5,000 per year), but Alex may have to transfer to a \n",
    "four-year institution later to complete a bachelor's degree. The family can afford the four-year university, \n",
    "with some loans, but the cost is only a medium concern. \n",
    "\n",
    "Career and Major Uncertainty:\n",
    "Alex is not entirely sure what she wants to major in. She is torn between business, psychology, and \n",
    "possibly something in the arts. She worries that if she starts at the four-year university, \n",
    "she might switch majors and incur extra time and cost. On the other hand, \n",
    "community college might give her space to explore options, \n",
    "but transferring could mean adjusting to a new campus and curriculum midway through.\n",
    "\n",
    "Academic Consistency and Networking:\n",
    "Going straight to the four-year university would allow Alex to forge early relationships with professors, \n",
    "join campus groups, and potentially secure internships or research opportunities. Starting at community college might \n",
    "delay those opportunities, but it could also let her explore different fields at a lower cost. \n",
    "She might miss out on the “full campus” experience early on, but transferring later means she could \n",
    "still build connections, just on a different timeline. Alex is not overly concerned about the social aspect of college.\n",
    "\n",
    "Future Impact:\n",
    "Alex wants a solid professional network and relevant experience when she graduates. She is also concerned \n",
    "about taking on significant student loan debt. The decision affects not only her immediate academic path but \n",
    "also her long-term financial stability and career prospects. Given these factors, provide a reasoned analysis of \n",
    "whether Alex should attend the four-year university right away or begin with an associate degree program at a \n",
    "local community college.\n",
    "\"\"\";\n",
    "\n",
    "// How the prompt looks like to the LLM\n",
    "var scenarioDecisionPromptTemplate = $\"\"\"\n",
    "System Prompt: {systemPromptForDecisions}\n",
    "\n",
    "Request from the user: {scenarioDecisionPrompt}\n",
    "\"\"\";\n",
    "\n",
    "// Create a new OpenAI prompt execution settings object\n",
    "var openAIPromptExecutionSettings = new OpenAIPromptExecutionSettings { \n",
    "    ChatSystemPrompt = systemPromptForDecisions,\n",
    "    MaxTokens = 750, \n",
    "    Temperature = 0.3, \n",
    "    TopP = 1.0, \n",
    "    FrequencyPenalty = 0.0, \n",
    "    PresencePenalty = 0.0\n",
    "    };\n",
    "KernelArguments kernelArguments = new KernelArguments(openAIPromptExecutionSettings);\n",
    "\n",
    "await foreach (var streamChunk in semanticKernel.InvokePromptStreamingAsync(scenarioDecisionPromptTemplate, kernelArguments))\n",
    "{\n",
    "   Console.Write(streamChunk);\n",
    "}"
   ]
  }
 ],
 "metadata": {
  "kernelspec": {
   "display_name": ".NET (C#)",
   "language": "C#",
   "name": ".net-csharp"
  },
  "language_info": {
   "name": "csharp"
  },
  "polyglot_notebook": {
   "kernelInfo": {
    "defaultKernelName": "csharp",
    "items": [
     {
      "aliases": [],
      "name": "csharp"
     }
    ]
   }
  }
 },
 "nbformat": 4,
 "nbformat_minor": 2
}
