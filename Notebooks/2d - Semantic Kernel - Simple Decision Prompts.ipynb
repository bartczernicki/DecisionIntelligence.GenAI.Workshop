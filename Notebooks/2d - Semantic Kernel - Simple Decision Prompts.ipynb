{
 "cells": [
  {
   "cell_type": "markdown",
   "metadata": {},
   "source": [
    "<img style=\"float: left;padding-right: 10px\" width =\"40px\" src=\"https://raw.githubusercontent.com/bartczernicki/DecisionIntelligence.GenAI.Workshop/main/Images/SemanticKernelLogo.png\">\n",
    "\n",
    "## Semantic Kernel - Simple Decision Prompts"
   ]
  },
  {
   "cell_type": "markdown",
   "metadata": {},
   "source": [
    "Decision Intelligence applied in this module:  \n",
    "* Listing of various decision-making frameworks and with their descriptions by using GenAI prompt engineering  \n",
    "* Creating custom AI personas with a system decision prompt  \n",
    "* Generating decision outputs using easier to consume formats (Markdown)     \n",
    "\n",
    "Prompts are the fundemental building block to getting the proper responses from AI models. This module demonstrates how to use common prompt engineering techniques while using Semantic Kernel. If you've ever used ChatGPT or Microsoft Copilot, you're already familiar with prompting. Given a prompt instruction, an LLM will attempt to predict the most likely response. With Semantic Kernel, you can craft applications, services & APIs that execute prompts.  \n",
    "\n",
    "For more information on using prompts with Semantic Kernel, visit: https://learn.microsoft.com/en-us/semantic-kernel/prompts/your-first-prompt  \n",
    "\n",
    "The process of carefully crafting questions or instructions for AI is called **Prompt Engineering**. Prompt Engineering involves designing and refining input prompts—text or questions—so that the AI produces responses that are more relevant, useful, or accurate. The goal of prompt engineering is to \"tune\" the prompt in a way that maximizes the quality and clarity of the AI's response, often using specific wording, context, or examples within the prompt itself.\n",
    "\n",
    "Decision Intelligence and Prompt Engineering techniques can be combined to created \"Generative AI Decision Intellignce\"! This can leverage GenAI models to reason over complex tasks, gather intelligence for decisions, recommend decisions, communicate decisions etc. "
   ]
  },
  {
   "cell_type": "markdown",
   "metadata": {},
   "source": [
    "### Step 1 - Initialize Configuration Builder & Build the Semantic Kernel Orchestration "
   ]
  },
  {
   "cell_type": "markdown",
   "metadata": {},
   "source": [
    "Execute the next two cells to:\n",
    "* Use the Configuration Builder to load the API secrets.  \n",
    "* Use the API configuration to build the Semantic Kernel orchestrator."
   ]
  },
  {
   "cell_type": "code",
   "execution_count": 1,
   "metadata": {
    "dotnet_interactive": {
     "language": "csharp"
    },
    "polyglot_notebook": {
     "kernelName": "csharp"
    },
    "vscode": {
     "languageId": "polyglot-notebook"
    }
   },
   "outputs": [
    {
     "data": {
      "text/html": [
       "<div><div></div><div></div><div><strong>Installed Packages</strong><ul><li><span>Microsoft.Extensions.Configuration, 9.0.5</span></li><li><span>Microsoft.Extensions.Configuration.Json, 9.0.5</span></li></ul></div></div>"
      ]
     },
     "metadata": {},
     "output_type": "display_data"
    }
   ],
   "source": [
    "// Import the required NuGet configuration packages\n",
    "#r \"nuget: Microsoft.Extensions.Configuration, 9.0.5\"\n",
    "#r \"nuget: Microsoft.Extensions.Configuration.Json, 9.0.5\"\n",
    "\n",
    "using Microsoft.Extensions.Configuration.Json;\n",
    "using Microsoft.Extensions.Configuration;\n",
    "using System.IO;\n",
    "\n",
    "// Load the configuration settings from the local.settings.json and secrets.settings.json files\n",
    "// The secrets.settings.json file is used to store sensitive information such as API keys\n",
    "var configurationBuilder = new ConfigurationBuilder()\n",
    "    .SetBasePath(Directory.GetCurrentDirectory())\n",
    "    .AddJsonFile(\"local.settings.json\", optional: true, reloadOnChange: true)\n",
    "    .AddJsonFile(\"secrets.settings.json\", optional: true, reloadOnChange: true);\n",
    "var config = configurationBuilder.Build();\n",
    "\n",
    "// IMPORTANT: You ONLY NEED either Azure OpenAI or OpenAI connectiopn info, not both.\n",
    "// Azure OpenAI Connection Info\n",
    "var azureOpenAIEndpoint = config[\"AzureOpenAI:Endpoint\"];\n",
    "var azureOpenAIAPIKey = config[\"AzureOpenAI:APIKey\"];\n",
    "var azureOpenAIModelDeploymentName = config[\"AzureOpenAI:ModelDeploymentName\"];\n",
    "// OpenAI Connection Info \n",
    "var openAIAPIKey = config[\"OpenAI:APIKey\"];\n",
    "var openAIModelId = config[\"OpenAI:ModelId\"];"
   ]
  },
  {
   "cell_type": "code",
   "execution_count": 2,
   "metadata": {
    "dotnet_interactive": {
     "language": "csharp"
    },
    "polyglot_notebook": {
     "kernelName": "csharp"
    },
    "vscode": {
     "languageId": "polyglot-notebook"
    }
   },
   "outputs": [
    {
     "data": {
      "text/html": [
       "<div><div></div><div></div><div><strong>Installed Packages</strong><ul><li><span>Microsoft.SemanticKernel, 1.53.1</span></li></ul></div></div>"
      ]
     },
     "metadata": {},
     "output_type": "display_data"
    },
    {
     "name": "stdout",
     "output_type": "stream",
     "text": [
      "Using Azure OpenAI Service\n"
     ]
    }
   ],
   "source": [
    "// Import the Semantic Kernel NuGet package\n",
    "#r \"nuget: Microsoft.SemanticKernel, 1.53.1\"\n",
    "\n",
    "using Microsoft.Extensions.DependencyInjection.Extensions;\n",
    "using Microsoft.Extensions.DependencyInjection;\n",
    "using Microsoft.SemanticKernel;\n",
    "using Microsoft.SemanticKernel.ChatCompletion;\n",
    "using Microsoft.SemanticKernel.Connectors.OpenAI;\n",
    "\n",
    "Kernel semanticKernel;\n",
    "\n",
    "// Set the flag to use Azure OpenAI or OpenAI. False to use OpenAI, True to use Azure OpenAI\n",
    "var useAzureOpenAI = true;\n",
    "\n",
    "// Create a new Semantic Kernel instance\n",
    "if (useAzureOpenAI)\n",
    "{\n",
    "    Console.WriteLine(\"Using Azure OpenAI Service\");\n",
    "    semanticKernel = Kernel.CreateBuilder()\n",
    "        .AddAzureOpenAIChatCompletion(\n",
    "            deploymentName: azureOpenAIModelDeploymentName,\n",
    "            endpoint: azureOpenAIEndpoint,\n",
    "            apiKey: azureOpenAIAPIKey)\n",
    "        .Build();\n",
    "}\n",
    "else\n",
    "{\n",
    "    Console.WriteLine(\"Using OpenAI Service\");\n",
    "    semanticKernel = Kernel.CreateBuilder()\n",
    "        .AddOpenAIChatCompletion(\n",
    "            modelId: openAIModelId,\n",
    "            apiKey: openAIAPIKey)\n",
    "        .Build();\n",
    "}"
   ]
  },
  {
   "cell_type": "markdown",
   "metadata": {},
   "source": [
    "### Step 2 - Execute a Decision Prompt "
   ]
  },
  {
   "cell_type": "markdown",
   "metadata": {},
   "source": [
    "Many LLMs and even SLMs have been trained on knowledge that includes decision frameworks & processes. This makes LLMs great assistants to:\n",
    "* Provide proper Decision Frames\n",
    "* Gather Intelligence (information) in order to make a decision\n",
    "* Recommend Decision Frameworks to make a high-quality decision\n",
    "* Provide feedback to evaluate a Decision\n",
    "\n",
    "Once the Semantic Kernel instance is built, it is ready to intake prompt instructions. In the prompt below, the Semantic Kernel is instructed to provide examples of decision frameworks \"trained into\" the knowledge of the configured AI model.  "
   ]
  },
  {
   "cell_type": "code",
   "execution_count": 3,
   "metadata": {
    "dotnet_interactive": {
     "language": "csharp"
    },
    "polyglot_notebook": {
     "kernelName": "csharp"
    },
    "vscode": {
     "languageId": "polyglot-notebook"
    }
   },
   "outputs": [
    {
     "name": "stdout",
     "output_type": "stream",
     "text": [
      "Here are five decision-making frameworks that can enhance the quality of decisions, along with brief descriptions of how each framework supports better analysis and reasoning:\n",
      "\n",
      "---\n",
      "\n",
      "### **1. SWOT Analysis (Strengths, Weaknesses, Opportunities, Threats)**  \n",
      "- **Description**: A structured framework used to evaluate internal and external factors affecting a decision or situation.  \n",
      "- **How It Supports Better Decision Making**:  \n",
      "  By categorizing factors into strengths, weaknesses, opportunities, and threats, decision-makers can identify areas of advantage or risk, enabling them to make informed decisions. SWOT promotes holistic analysis and forces evaluation of both positive potential and challenges in various scenarios.\n",
      "\n",
      "---\n",
      "\n",
      "### **2. Cost-Benefit Analysis (CBA)**  \n",
      "- **Description**: An economic framework that compares the costs and benefits of a given decision or action.  \n",
      "- **How It Supports Better Decision Making**:  \n",
      "  CBA provides a quantitative and systematic approach for understanding whether the benefits outweigh the costs. It helps prioritize options that deliver the most value, ensuring decisions align with resource efficiency and long-term impact.\n",
      "\n",
      "---\n",
      "\n",
      "### **3. Decision Matrix (Weighted Criteria Analysis)**  \n",
      "- **Description**: A structured tool that uses a table to compare options against multiple criteria, with weights assigned to show their importance.  \n",
      "- **How It Supports Better Decision Making**:  \n",
      "  This framework helps simplify complex decisions by breaking them into measurable components. Decision matrices enable objective analysis by evaluating options numerically, fostering accountability and reducing bias in decision-making processes.\n",
      "\n",
      "---\n",
      "\n",
      "### **4. Six Thinking Hats (Edward de Bono)**  \n",
      "- **Description**: A framework that encourages individuals and teams to explore different perspectives (logical, emotional, creative, critical, optimistic, and process-oriented) for decision-making.  \n",
      "- **How It Supports Better Decision Making**:  \n",
      "  By fostering structured, multidimensional thinking, this framework helps mitigate blind spots and biases while balancing emotion, logic, and creativity. It encourages diverse viewpoints, leading to better-rounded and more comprehensive decisions.\n",
      "\n",
      "---\n",
      "\n",
      "### **5. Pareto Analysis (80/20 Rule)**  \n",
      "- **Description**: A decision-making strategy based on the principle that 20% of causes often drive 80% of results.  \n",
      "- **How It Supports Better Decision Making**:  \n",
      "  Pareto analysis helps focus decision-makers on the most impactful areas, optimizing effort and time. It improves prioritization, enabling better resource allocation while addressing the most significant drivers of change or performance.\n",
      "\n",
      "---\n",
      "\n",
      "Each of these frameworks offers a structured, evidence-based approach to analysis and reasoning, enhancing clarity, objectivity, and alignment with overarching goals and resources in diverse decision-making scenarios.\n"
     ]
    }
   ],
   "source": [
    "// A Decision Intelligence prompt to help with describing decision-making frameworks\n",
    "var simpleDecisionPrompt = \"\"\"\n",
    "Identify and list 5 decision-making frameworks that can enhance the quality of decisions. \n",
    "Briefly describe how each decision-making framework supports better analysis and reasoning in various scenarios.\n",
    "\"\"\";\n",
    "\n",
    "var simplePromptResponse = await semanticKernel.InvokePromptAsync(simpleDecisionPrompt);\n",
    "Console.WriteLine(simplePromptResponse.GetValue<string>());"
   ]
  },
  {
   "cell_type": "markdown",
   "metadata": {},
   "source": [
    "### Step 3 - Execute a Decision Prompt with Streaming"
   ]
  },
  {
   "cell_type": "markdown",
   "metadata": {},
   "source": [
    "Semantic Kernel supports prompt response streaming when invoking the prompt. This allows responses to be streamed to the client as soon as they are made available by the LLM and service. Below the same decision prompt is executed. However, notice that chunks are streamed and can be read by the user as soon as they appear. \n",
    "\n",
    "> 📝 Note: An average human can read between 25-40 Tokens / second. Therefore, wile streaming certainly helps with providing AI output to the user, it begins to lose its effectivness at large token velocity.  "
   ]
  },
  {
   "cell_type": "code",
   "execution_count": 4,
   "metadata": {
    "dotnet_interactive": {
     "language": "csharp"
    },
    "polyglot_notebook": {
     "kernelName": "csharp"
    },
    "vscode": {
     "languageId": "polyglot-notebook"
    }
   },
   "outputs": [
    {
     "name": "stdout",
     "output_type": "stream",
     "text": [
      "Here are five decision-making frameworks that can enhance the quality of decisions, along with a brief description of how each one supports better analysis and reasoning:\n",
      "\n",
      "1. **SWOT Analysis (Strengths, Weaknesses, Opportunities, Threats)**  \n",
      "   - **How It Supports Decision-Making**: SWOT is a strategic tool that helps decision-makers assess internal and external factors affecting a situation. By examining strengths and weaknesses (internal) and opportunities and threats (external), it promotes a balanced view of all aspects of a problem or decision. This framework ensures decisions are made with a comprehensive understanding of an organization's capabilities and the external environment.\n",
      "\n",
      "2. **Cost-Benefit Analysis (CBA)**  \n",
      "   - **How It Supports Decision-Making**: CBA quantifies and compares the potential costs and benefits of a decision. By assigning monetary or qualitative values to expected outcomes, it helps decision-makers evaluate whether the benefits outweigh the costs. This structured approach enhances transparency, rationality, and prioritization in resource allocation.\n",
      "\n",
      "3. **The Eisenhower Matrix (Urgent-Important Matrix)**  \n",
      "   - **How It Supports Decision-Making**: The Eisenhower Matrix aids in prioritizing tasks by dividing them into four categories based on urgency and importance. It ensures decisions are focused on high-impact, strategic activities while delegating or eliminating less critical tasks. This framework is particularly effective in time-sensitive and resource-constrained scenarios.\n",
      "\n",
      "4. **Decision Trees**  \n",
      "   - **How It Supports Decision-Making**: Decision trees visually map out possible choices, along with their potential outcomes, costs, and probabilities. By clearly presenting options and their implications, they facilitate structured analysis and reduce ambiguity. Decision trees are especially useful for navigating complex decisions with multiple variables and outcomes.\n",
      "\n",
      "5. **OODA Loop (Observe, Orient, Decide, Act)**  \n",
      "   - **How It Supports Decision-Making**: Developed in a military context, the OODA Loop emphasizes iterative and adaptive decision-making. Decision-makers observe the environment, orient themselves to the situation, make a decision, and act, continuously refining their approach based on feedback. This framework ensures agility and responsiveness in dynamic or rapidly changing scenarios.\n",
      "\n",
      "Each of these frameworks provides a systematic approach to analyzing options, weighing trade-offs, and ensuring decisions are aligned with goals and context-specific factors."
     ]
    }
   ],
   "source": [
    "// Decision Prompt using Streaming output chunks \n",
    "await foreach (var streamChunk in semanticKernel.InvokePromptStreamingAsync(simpleDecisionPrompt))\n",
    "{\n",
    "   Console.Write(streamChunk);\n",
    "}"
   ]
  },
  {
   "cell_type": "markdown",
   "metadata": {},
   "source": [
    "### Step 4 - Execute a Decision Prompt with Improved Output Formatting  "
   ]
  },
  {
   "cell_type": "markdown",
   "metadata": {},
   "source": [
    "Generative AI models have an inherent ability to not only provide decision reasoning analysis, but also format the output in a desired format. This could be as simple as instructing the Generative AI model to format the decision as a single sentence, paragraphs or lists. However more sophisticated output generations can be instructed. For example, the GenAI model can ouput Markdown or even extract information and fill in a desired schema (JSON). Specifically for Decision Intelligence, you can ask the GenAI models to apply decision communication frameworks to the generation as well. \n",
    "\n",
    "Execute the simple decision prompt below with Markdown formatting ouptut. This table can now be rendered in a Markdown document for easy human comprehension. Markdown tables and other formats can be used on web sites, document, programming code etc. Even Generative AI models understand Markdown format, which can not only be used for output but inside input prompts.  "
   ]
  },
  {
   "cell_type": "code",
   "execution_count": 5,
   "metadata": {
    "dotnet_interactive": {
     "language": "csharp"
    },
    "polyglot_notebook": {
     "kernelName": "csharp"
    },
    "vscode": {
     "languageId": "polyglot-notebook"
    }
   },
   "outputs": [
    {
     "name": "stdout",
     "output_type": "stream",
     "text": [
      "| **Decision-Making Framework**       | **Description**                                                                                     |\n",
      "|-------------------------------------|-----------------------------------------------------------------------------------------------------|\n",
      "| **SWOT Analysis**                   | Assesses Strengths, Weaknesses, Opportunities, and Threats to provide a structured view of internal and external factors influencing a decision. |\n",
      "| **Kepner-Tregoe Decision Matrix**   | Breaks down decisions systematically by identifying problems, evaluating alternatives, and weighing risks for logical problem-solving.         |\n",
      "| **Pareto Analysis (80/20 Rule)**    | Focuses on prioritizing decisions or actions by identifying the 20% of causes that drive 80% of the outcomes, which helps allocate resources efficiently. |\n",
      "| **Cost-Benefit Analysis (CBA)**     | Quantifies and compares the costs and benefits of each option to ensure the most economically advantageous option is chosen.                   |\n",
      "| **OODA Loop (Observe-Orient-Decide-Act)** | Enables dynamic, iterative decision-making by encouraging continuous learning and adjustment in rapidly changing environments.                |"
     ]
    }
   ],
   "source": [
    "// A new decision prompt to help with describing decision-making frameworks using Markdown format\n",
    "var simpleDecisionPromptWithMarkdownFormat = \"\"\"\n",
    "Identify and list 5 decision-making frameworks that can enhance the quality of decisions. \n",
    "Briefly describe how each decision-making framework supports better analysis and reasoning in various scenarios.\n",
    "\n",
    "Format the response using only a Markdown table. Do not enclose the table in triple backticks.\n",
    "\"\"\";\n",
    "\n",
    "await foreach (var streamChunk in semanticKernel.InvokePromptStreamingAsync(simpleDecisionPromptWithMarkdownFormat))\n",
    "{\n",
    "   Console.Write(streamChunk);\n",
    "}"
   ]
  },
  {
   "cell_type": "markdown",
   "metadata": {},
   "source": [
    "| Decision-Making Framework   | Description                                                                                       |\n",
    "|-----------------------------|---------------------------------------------------------------------------------------------------|\n",
    "| SWOT Analysis              | Helps identify Strengths, Weaknesses, Opportunities, and Threats, providing a structured way to assess internal and external factors. |\n",
    "| Decision Matrix             | Offers a systematic method by assigning weights and scores to criteria, helping prioritize options objectively. |\n",
    "| Cost-Benefit Analysis       | Compares the costs and benefits of a decision quantitatively, aiding in evaluating its feasibility and potential return.         |\n",
    "| Six Thinking Hats           | Encourages examining a decision from multiple perspectives (e.g., facts, emotions, risks), promoting balanced and creative analysis. |\n",
    "| 80/20 Rule (Pareto Analysis)| Focuses on identifying the most impactful 20% of factors that contribute to 80% of outcomes, enhancing efficiency in decision-making.|"
   ]
  },
  {
   "cell_type": "markdown",
   "metadata": {},
   "source": [
    "### Step 5 - Execute a Decision Prompt with a Custom Prompt Execution Configuration"
   ]
  },
  {
   "cell_type": "markdown",
   "metadata": {},
   "source": [
    "Semantic Kernel supports the configuration of prompt execution. The typical OpenAI and Azure OpenAI settings are exposed as configuration options that provide a different prompt experience. Try changing the MaxTokens, Tempature or other settings.\n",
    "\n",
    "> 📝 Note: The supported settings are dependendent on the API plus the specific model version. For example, a model paired with an older API may not expose all the configuration settings available. Conversely, a new preview model may not have all the settings available until it becomes generally available.  "
   ]
  },
  {
   "cell_type": "code",
   "execution_count": 9,
   "metadata": {
    "dotnet_interactive": {
     "language": "csharp"
    },
    "polyglot_notebook": {
     "kernelName": "csharp"
    },
    "vscode": {
     "languageId": "polyglot-notebook"
    }
   },
   "outputs": [
    {
     "name": "stdout",
     "output_type": "stream",
     "text": [
      "Here are five simple yet effective decision-making frameworks that can be applied to a wide range of daily situations. These frameworks are easy to understand and practical for quick decision-making:\n",
      "\n",
      "---\n",
      "\n",
      "### 1. **The Eisenhower Matrix (Urgent-Important Matrix)**  \n",
      "This framework helps prioritize tasks and decisions based on urgency and importance.\n",
      "\n",
      "- **How it works**:  \n",
      "  Divide tasks into four quadrants:  \n",
      "  - **Quadrant 1**: Urgent and Important (Do it now)  \n",
      "  - **Quadrant 2**: Not Urgent but Important (Schedule it)  \n",
      "  - **Quadrant 3**: Urgent but Not Important (Delegate it)  \n",
      "  - **Quadrant 4**: Not Urgent and Not Important (Eliminate it)  \n",
      "\n",
      "- **When to use**:  \n",
      "  For time management, prioritizing daily tasks, and deciding what to focus on.\n",
      "\n",
      "---\n",
      "\n",
      "### 2. **The 80/20 Rule (Pareto Principle)**  \n",
      "This principle helps identify the 20% of actions that will yield 80% of the results.\n",
      "\n",
      "- **How it works**:  \n",
      "  - Focus on the small number of tasks or decisions that have the biggest impact.  \n",
      "  - Eliminate or minimize time spent on low-impact activities.  \n",
      "\n",
      "- **When to use**:  \n",
      "  For optimizing productivity, simplifying choices, and focusing on what truly matters.\n",
      "\n",
      "---\n",
      "\n",
      "### 3. **The 10/10/10 Rule**  \n",
      "This framework helps assess the long-term impact of a decision.\n",
      "\n",
      "- **How it works**:  \n",
      "  Ask yourself:  \n",
      "  - How will I feel about this decision in 10 minutes?  \n",
      "  - How will I feel about it in 10 months?  \n",
      "  - How will I feel about it in 10 years?  \n",
      "\n",
      "- **When to use**:  \n",
      "  For decisions that involve emotions, trade-offs, or long-term consequences.\n",
      "\n",
      "---\n",
      "\n",
      "### 4. **The OODA Loop (Observe, Orient, Decide, Act)**  \n",
      "This framework is a continuous cycle for making quick and informed decisions.\n",
      "\n",
      "- **How it works**:  \n",
      "  - **Observe**: Gather information about the situation.  \n",
      "  - **Orient**: Analyze the information and your options.  \n",
      "  - **Decide**: Choose the best course of action.  \n",
      "  - **Act**: Implement the decision and repeat the loop as needed.  \n",
      "\n",
      "- **When to use**:  \n",
      "  For dynamic, fast-changing situations where quick decisions are needed.\n",
      "\n",
      "---\n",
      "\n",
      "### 5. **The 2-Minute Rule**  \n",
      "This rule helps decide whether to act on a task immediately or defer it.\n",
      "\n",
      "- **How it works**:  \n",
      "  - If a task or decision will take less than 2 minutes, do it immediately.  \n",
      "  - If it will take longer, schedule it or delegate it.  \n",
      "\n",
      "- **When to use**:  \n",
      "  For managing small tasks, reducing procrastination, and clearing mental clutter.\n",
      "\n",
      "---\n",
      "\n",
      "### Bonus: **The Pros and Cons List**  \n",
      "This classic framework is simple and effective for weighing options.\n",
      "\n",
      "- **How it works**:  \n",
      "  - Write down the pros and cons of each option.  \n",
      "  - Compare the lists to determine which option has the most benefits or least drawbacks.  \n",
      "\n",
      "- **When to use**:  \n",
      "  For straightforward decisions where you need to evaluate trade-offs.\n",
      "\n",
      "---\n",
      "\n",
      "These frameworks are versatile and can be adapted to a variety of personal, professional, or everyday situations. By practicing them regularly, you can make more confident and efficient decisions."
     ]
    }
   ],
   "source": [
    "// Create a new OpenAI prompt execution settings object\n",
    "var openAIPromptExecutionSettings = new OpenAIPromptExecutionSettings { \n",
    "    MaxTokens = 1000, \n",
    "    Temperature = 0.3, \n",
    "    TopP = 1.0, \n",
    "    FrequencyPenalty = 0.0, \n",
    "    PresencePenalty = 0.0\n",
    "    };\n",
    "\n",
    "KernelArguments kernelArguments = new KernelArguments(openAIPromptExecutionSettings);\n",
    "await foreach (var streamChunk in semanticKernel.InvokePromptStreamingAsync(simpleDecisionPrompt, kernelArguments))\n",
    "{\n",
    "   Console.Write(streamChunk);\n",
    "}"
   ]
  },
  {
   "cell_type": "markdown",
   "metadata": {},
   "source": [
    "### Step 6 - Execute a Decision Prompt with a System Prompt (Custom AI Persona)"
   ]
  },
  {
   "cell_type": "markdown",
   "metadata": {},
   "source": [
    "When building Decison Intelligence prompts, all the typical best practices of prompt engineering apply when using Semantic Kernel.  Such as: \n",
    "* Make the prompt more specific (i.e. decision intelligence)\n",
    "* Add structure to the output with formatting\n",
    "* Provide examples with few-shot prompting\n",
    "* Instruct the AI what to do to avoid doing something else\n",
    "* Provide context (additional information) to the AI\n",
    "* Using Roles in Chat Completion API prompts\n",
    "* Give your AI words of encouragement  \n",
    "\n",
    "A key best practice is to provide a common behavior across all the LLM interactions in a system prompt. This system prompt is passed in on every single call the LLM with Semantic Kernel. By passing the same (or similar) system prompt with every prompt gives your Generative AI system a common persona. This common persona is the foundational building block of building AI agents; where the desired behavior is to have each agent have a unique persona/behavior every time you interact with that agent.\n",
    "\n",
    "Execute the cell below with a dynamic prompt template. Notice the different behavior of the output for decision frameworks. Based on the new system prompt instructions, the decision framework responses are much more robust with decision intelligence information."
   ]
  },
  {
   "cell_type": "code",
   "execution_count": 10,
   "metadata": {
    "dotnet_interactive": {
     "language": "csharp"
    },
    "polyglot_notebook": {
     "kernelName": "csharp"
    },
    "vscode": {
     "languageId": "polyglot-notebook"
    }
   },
   "outputs": [
    {
     "name": "stdout",
     "output_type": "stream",
     "text": [
      "PROMPT TO SEND TO THE CHAT COMPLETION SERVICE...\n",
      "\n",
      "System Prompt: \n",
      "You are a Decision Intelligence Assistant. \n",
      "Assist the user in exploring options, reasoning through decisions, problem-solving.\n",
      "Apply systems thinking to various scenarios. \n",
      "Provide structured, logical, and comprehensive decision advice.\n",
      "\n",
      "Request from the user: \n",
      "Recommend the top 5 decision frameworks that can be used for daily situations to make various decisions.\n",
      "These frameworks should be very easy to understand and apply to various scenarios.\n",
      "\n",
      "----------------------------------------\n",
      "\n",
      "RESPONSE FROM THE CHAT COMPLETION SERVICE...\n",
      "\n",
      "Here are five simple and versatile decision-making frameworks that can be applied to daily situations. Each framework is easy to understand and adaptable to various scenarios:\n",
      "\n",
      "---\n",
      "\n",
      "### **1. The Eisenhower Matrix (Urgent-Important Matrix)**  \n",
      "**Purpose:** Helps prioritize tasks and decisions based on urgency and importance.  \n",
      "**How It Works:**  \n",
      "Divide your tasks or decisions into four quadrants:  \n",
      "- **Quadrant 1:** Urgent and Important (Do it now)  \n",
      "- **Quadrant 2:** Not Urgent but Important (Schedule it)  \n",
      "- **Quadrant 3:** Urgent but Not Important (Delegate it)  \n",
      "- **Quadrant 4:** Not Urgent and Not Important (Eliminate it)  \n",
      "\n",
      "**Example Application:**  \n",
      "If you're deciding whether to respond to emails, clean your house, or prepare for a presentation:  \n",
      "- Preparing for the presentation is **Important but Not Urgent** → Schedule time for it.  \n",
      "- Responding to urgent work emails is **Urgent and Important** → Do it now.  \n",
      "- Cleaning the house might be **Not Urgent and Not Important** → Postpone or eliminate.  \n",
      "\n",
      "---\n",
      "\n",
      "### **2. The 10/10/10 Rule**  \n",
      "**Purpose:** Helps evaluate the long-term impact of decisions.  \n",
      "**How It Works:**  \n",
      "Ask yourself:  \n",
      "- How will I feel about this decision in **10 minutes**?  \n",
      "- How will I feel about this decision in **10 months**?  \n",
      "- How will I feel about this decision in **10 years**?  \n",
      "\n",
      "**Example Application:**  \n",
      "If you're deciding whether to skip a workout:  \n",
      "- In 10 minutes, you might feel relieved or guilty.  \n",
      "- In 10 months, skipping workouts might impact your fitness goals.  \n",
      "- In 10 years, you might regret not prioritizing your health.  \n",
      "\n",
      "---\n",
      "\n",
      "### **3. The Pareto Principle (80/20 Rule)**  \n",
      "**Purpose:** Focuses on the most impactful actions or decisions.  \n",
      "**How It Works:**  \n",
      "Identify the 20% of actions that will produce 80% of the results. Prioritize those actions.  \n",
      "\n",
      "**Example Application:**  \n",
      "If you're deciding how to spend your time studying for an exam:  \n",
      "- Focus on the 20% of key topics that are likely to make up 80% of the exam questions.  \n",
      "\n",
      "---\n",
      "\n",
      "### **4. The \"Pros and Cons\" List**  \n",
      "**Purpose:** Provides a straightforward way to weigh the advantages and disadvantages of a decision.  \n",
      "**How It Works:**  \n",
      "- Write down the **Pros** (positive outcomes) and **Cons** (negative outcomes) of each option.  \n",
      "- Evaluate which side has more weight or aligns better with your priorities.  \n",
      "\n",
      "**Example Application:**  \n",
      "If you're deciding whether to buy a new gadget:  \n",
      "- Pros: Improved productivity, better features.  \n",
      "- Cons: High cost, learning curve.  \n",
      "- If the Pros outweigh the Cons and align with your goals, proceed.  \n",
      "\n",
      "---\n",
      "\n",
      "### **5. The \"Five Whys\" Technique**  \n",
      "**Purpose:** Helps uncover the root cause of a problem or decision.  \n",
      "**How It Works:**  \n",
      "Ask \"Why?\" five times (or until you reach the root cause). This helps clarify whether the decision is addressing the real issue.  \n",
      "\n",
      "**Example Application:**  \n",
      "If you're deciding whether to change jobs:  \n",
      "- Why do I want to change jobs? → I feel unfulfilled.  \n",
      "- Why do I feel unfulfilled? → My work lacks meaning.  \n",
      "- Why does my work lack meaning? → I’m not aligned with the company’s mission.  \n",
      "- Why am I not aligned with the mission? → I value creativity, but my role is rigid.  \n",
      "- Why do I value creativity? → It’s important for my personal growth.  \n",
      "This process clarifies that the root issue is a lack of alignment with your values, guiding your decision.  \n",
      "\n",
      "---\n",
      "\n",
      "### Summary Table for Quick Reference:\n",
      "\n",
      "| **Framework**         | **Key Question**                                | **Best For**                           |\n",
      "|------------------------|------------------------------------------------|----------------------------------------|\n",
      "| Eisenhower Matrix      | Is this urgent or important?                   | Task prioritization                    |\n",
      "| 10/10/10 Rule          | How will I feel in 10 minutes, months, years?  | Evaluating long-term impact            |\n",
      "| Pareto Principle       | What 20% of actions yield 80% of results?      | Maximizing efficiency                  |\n",
      "| Pros and Cons List     | What are the advantages and disadvantages?     | Simple decision comparison             |\n",
      "| Five Whys Technique    | Why is this happening? (Repeat 5 times)        | Root cause analysis                    |\n",
      "\n",
      "---\n",
      "\n",
      "These frameworks are simple yet powerful tools for making thoughtful and effective decisions in daily life. Which one would you like to explore further?"
     ]
    }
   ],
   "source": [
    "// Create a System Prompt instruction to override the default system prompt\n",
    "// Add the System Prompt (Persona) to behave like a Decision Intelligence assistant\n",
    "var systemPromptForDecisions = \"\"\"\n",
    "You are a Decision Intelligence Assistant. \n",
    "Assist the user in exploring options, reasoning through decisions, problem-solving.\n",
    "Apply systems thinking to various scenarios. \n",
    "Provide structured, logical, and comprehensive decision advice.\n",
    "\"\"\";\n",
    "var simpleDecisionPrompt = \"\"\"\n",
    "Recommend the top 5 decision frameworks that can be used for daily situations to make various decisions.\n",
    "These frameworks should be very easy to understand and apply to various scenarios.\n",
    "\"\"\";\n",
    "\n",
    "// How the prompt looks like to the LLM\n",
    "var simpleDecisionPromptTemplate = $\"\"\"\n",
    "System Prompt: \n",
    "{systemPromptForDecisions}\n",
    "\n",
    "Request from the user: \n",
    "{simpleDecisionPrompt}\n",
    "\"\"\";\n",
    "\n",
    "// Create a new OpenAI prompt execution settings object\n",
    "var openAIPromptExecutionSettings = new OpenAIPromptExecutionSettings { \n",
    "    ChatSystemPrompt = systemPromptForDecisions,\n",
    "    MaxTokens = 1000, \n",
    "    Temperature = 0.3, \n",
    "    TopP = 1.0, \n",
    "    FrequencyPenalty = 0.0, \n",
    "    PresencePenalty = 0.0\n",
    "    };\n",
    "KernelArguments kernelArguments = new KernelArguments(openAIPromptExecutionSettings);\n",
    "\n",
    "Console.WriteLine(\"PROMPT TO SEND TO THE CHAT COMPLETION SERVICE...\");\n",
    "Console.WriteLine(string.Empty);\n",
    "Console.WriteLine(simpleDecisionPromptTemplate);\n",
    "Console.WriteLine(string.Empty);\n",
    "Console.WriteLine(\"----------------------------------------\");\n",
    "Console.WriteLine(string.Empty);\n",
    "Console.WriteLine(\"RESPONSE FROM THE CHAT COMPLETION SERVICE...\");\n",
    "Console.WriteLine(string.Empty);\n",
    "\n",
    "// Stream the response asynchronously\n",
    "await foreach (var streamChunk in semanticKernel.InvokePromptStreamingAsync(simpleDecisionPrompt, kernelArguments))\n",
    "{\n",
    "   Console.Write(streamChunk);\n",
    "}"
   ]
  },
  {
   "cell_type": "markdown",
   "metadata": {},
   "source": [
    "### Step 7 - Execute a Decision Scenario with a System Prompt (Custom AI Persona)"
   ]
  },
  {
   "cell_type": "markdown",
   "metadata": {},
   "source": [
    "In this step a decision scenario will be introduced requiring analysis and a recommendation performed by Artificial Intelligence. The full Decision Intelligence framework will not be used, rather a simple request for Artificial Intelligene to recommend a path forward (recommedation) for the human user to ultimately make the final decision.  \n",
    "\n",
    "**Decision Scenario:** Your high school daughter Alex is deciding whether to enroll directly in a four-year university or start at a community college to earn an associate degree first. These are Alex's main decision factors: financial, career uncertainty, academic consistency and future impact. In addition, you have all the decision factor detailed data available to pass to the GenAI model prompt. You are looking for an impartial (non-family) recommendation. Can Artificial Intelligence be that impartial judge to help Alex decide? \n",
    "\n",
    "<img style=\"display: block; margin: auto;\" width =\"700px\" src=\"https://raw.githubusercontent.com/bartczernicki/DecisionIntelligence.GenAI.Workshop/main/Images/Scenarios/Scenario-SimpleDecision-College.png\">"
   ]
  },
  {
   "cell_type": "code",
   "execution_count": 11,
   "metadata": {
    "dotnet_interactive": {
     "language": "csharp"
    },
    "polyglot_notebook": {
     "kernelName": "csharp"
    },
    "vscode": {
     "languageId": "polyglot-notebook"
    }
   },
   "outputs": [
    {
     "name": "stdout",
     "output_type": "stream",
     "text": [
      "Here is a structured recommendation for Alex based on the provided decision factors:\n",
      "\n",
      "| **Decision Factor**              | **Four-Year University**                                                                                           | **Community College First**                                                                                     |\n",
      "|-----------------------------------|-------------------------------------------------------------------------------------------------------------------|-----------------------------------------------------------------------------------------------------------------|\n",
      "| **Financial Considerations**      | Higher cost ($50,000-$60,000 per year). Family can afford it with loans, but cost is a medium concern.             | Significantly lower cost ($3,000-$5,000 per year). Allows for substantial savings, reducing student loan debt.  |\n",
      "| **Career and Major Uncertainty**  | Risk of incurring extra time and cost if Alex switches majors. Less flexibility to explore fields affordably.      | Greater flexibility to explore majors at a lower cost. Easier to change direction without significant financial burden. |\n",
      "| **Academic Consistency and Networking** | Early access to professors, campus groups, internships, and research opportunities. Stronger continuity in academics. | Delayed access to four-year university resources, but still possible to build connections after transferring.   |\n",
      "| **Future Impact**                 | Builds professional network earlier, but risks higher debt. May provide a more seamless academic and career path.  | Lower financial burden, but requires adjustment to a new campus and curriculum later. Long-term impact depends on transfer success. |\n",
      "| **Recommendation**                | **Not Recommended**                                                                                              | **Recommended**                                                                                                |\n",
      "\n",
      "### **Recommendation: Start at Community College First**\n",
      "\n",
      "#### **Reasoning:**\n",
      "1. **Financial Prudence:** Starting at a community college allows Alex to save a significant amount of money in the first two years, reducing the need for loans and minimizing long-term financial stress. This is especially important given her concern about student loan debt.\n",
      "   \n",
      "2. **Flexibility for Major Exploration:** Since Alex is uncertain about her major, community college provides a lower-cost environment to explore her interests in business, psychology, and the arts. This reduces the risk of incurring extra costs and time if she decides to switch majors.\n",
      "\n",
      "3. **Transfer Opportunities:** Many community colleges have articulation agreements with four-year universities, making it easier to transfer credits and transition smoothly. While there may be an adjustment period, the financial and academic benefits outweigh this temporary challenge.\n",
      "\n",
      "4. **Long-Term Impact:** Alex can still build a strong professional network and gain relevant experience after transferring to a four-year university. Starting at a community college does not preclude her from achieving her career goals, and the financial savings can provide her with greater stability post-graduation.\n",
      "\n",
      "#### **Key Considerations for Success:**\n",
      "- **Transfer Planning:** Alex should research transfer agreements between the community college and her desired four-year university to ensure a smooth transition and maximize credit transfer.\n",
      "- **Engagement at Community College:** She should actively participate in community college activities, build relationships with professors, and seek internships or part-time work to begin building her professional network early.\n",
      "- **Timely Transfer:** Alex should aim to transfer after completing her associate degree to minimize disruptions and ensure she graduates on time.\n",
      "\n",
      "By starting at a community college, Alex can make a financially sound decision while allowing herself the flexibility to explore her academic and career interests."
     ]
    }
   ],
   "source": [
    "// Create a system prompt instruction to override the default system prompt\n",
    "// Add the System Prompt (Persona) to behave like a decision intelligence assistant\n",
    "var systemPromptForDecisions = \"\"\"\n",
    "You are a Decision Intelligence Assistant. \n",
    "Assist the user in exploring options, reasoning through decisions, problem-solving.\n",
    "Apply systems thinking to various scenarios. \n",
    "Provide structured, logical, and comprehensive decision advice.\n",
    "\"\"\";\n",
    "// Provide a description of the decision scenario and the desired output \n",
    "// Provide detailed Decision Scenario considerations and information about Alex (the decision-maker) \n",
    "var scenarioDecisionPrompt = \"\"\"\n",
    "Imagine you are advising a daughter named Alex who is deciding whether to enroll directly in a well-regarded four-year \n",
    "university or start at a community college to earn an associate degree first. \n",
    "\n",
    "Make a single recommendation based on the following decision factor details. \n",
    "Output the recommedation in a Markdown table format. \n",
    "\n",
    "Financial Considerations:\n",
    "Alex's four-year university will cost significantly more in tuition, housing, and related expenses \n",
    "(estimated $50,000-$60,000 per year). A two-year associate program at a local community college could \n",
    "save substantial money (estimated $3,000-$5,000 per year), but Alex may have to transfer to a \n",
    "four-year institution later to complete a bachelor's degree. The family can afford the four-year university, \n",
    "with some loans, but the cost is only a medium concern. \n",
    "\n",
    "Career and Major Uncertainty:\n",
    "Alex is not entirely sure what she wants to major in. She is torn between business, psychology, and \n",
    "possibly something in the arts. She worries that if she starts at the four-year university, \n",
    "she might switch majors and incur extra time and cost. On the other hand, \n",
    "community college might give her space to explore options, \n",
    "but transferring could mean adjusting to a new campus and curriculum midway through.\n",
    "\n",
    "Academic Consistency and Networking:\n",
    "Going straight to the four-year university would allow Alex to build early relationships with professors, \n",
    "join campus groups, and potentially secure internships or research opportunities. Starting at community college might \n",
    "delay those opportunities, but it could also let her explore different fields at a lower cost. \n",
    "She might miss out on the “full campus” experience early on, but transferring later means she could \n",
    "still build connections, just on a different timeline. \n",
    "\n",
    "Future Impact: \n",
    "Alex is unsure of the short-term future impact of her decision that might be hard to remediate. \n",
    "Alex wants a solid professional network and relevant experience when she graduates. \n",
    "Alex is not overly concerned about the social aspect of college, \n",
    "but feels she can build a quality network in a four-year university setting sooner. \n",
    "She is also concerned about taking on significant student loan debt. The decision affects not only her immediate academic path but \n",
    "also her long-term financial stability and career prospects. \n",
    "\"\"\";\n",
    "\n",
    "// How the prompt looks like to the LLM\n",
    "var scenarioDecisionPromptTemplate = $\"\"\"\n",
    "System Prompt: \n",
    "{systemPromptForDecisions}\n",
    "\n",
    "Request from the user: \n",
    "{scenarioDecisionPrompt}\n",
    "\"\"\";\n",
    "\n",
    "// Create a new OpenAI prompt execution settings object\n",
    "var openAIPromptExecutionSettings = new OpenAIPromptExecutionSettings { \n",
    "    ChatSystemPrompt = systemPromptForDecisions,\n",
    "    MaxTokens = 1000, // Increase the max tokens to allow for a more detailed response\n",
    "    Temperature = 0.3, \n",
    "    TopP = 1.0, \n",
    "    FrequencyPenalty = 0.0, \n",
    "    PresencePenalty = 0.0\n",
    "    };\n",
    "KernelArguments kernelArguments = new KernelArguments(openAIPromptExecutionSettings);\n",
    "\n",
    "await foreach (var streamChunk in semanticKernel.InvokePromptStreamingAsync(scenarioDecisionPromptTemplate, kernelArguments))\n",
    "{\n",
    "   Console.Write(streamChunk);\n",
    "}"
   ]
  }
 ],
 "metadata": {
  "kernelspec": {
   "display_name": ".NET (C#)",
   "language": "C#",
   "name": ".net-csharp"
  },
  "language_info": {
   "name": "csharp"
  },
  "polyglot_notebook": {
   "kernelInfo": {
    "defaultKernelName": "csharp",
    "items": [
     {
      "aliases": [],
      "name": "csharp"
     }
    ]
   }
  }
 },
 "nbformat": 4,
 "nbformat_minor": 2
}
