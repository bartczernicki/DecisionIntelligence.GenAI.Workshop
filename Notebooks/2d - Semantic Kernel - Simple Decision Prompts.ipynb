{
  "cells": [
    {
      "cell_type": "markdown",
      "metadata": {},
      "source": [
        "<div style=\"display: flex; align-items: center;\">\n",
        "  <img src=\"https://raw.githubusercontent.com/bartczernicki/DecisionIntelligence.GenAI.Workshop/main/Images/DecisionIntelligenceSemanticKernelLogo.png\" width=\"60px\" style=\"margin-right: 10px;\">\n",
        "  <span style=\"font-size: 1.5em; font-weight: bold;\">Semantic Kernel - Simple Decision Prompts</span>\n",
        "</div>"
      ]
    },
    {
      "cell_type": "markdown",
      "metadata": {},
      "source": [
        "Decision Intelligence applied in this module:  \n",
        "* Listing of various decision-making frameworks and with their descriptions by using GenAI prompt engineering  \n",
        "* Creating custom AI personas with a system decision prompt  \n",
        "* Generating decision outputs using easier to consume formats (Markdown)     \n",
        "\n",
        "Prompts are the fundamental building blocks for eliciting effective responses from AI models. This module demonstrates how to use common prompt engineering techniques within Semantic Kernel. If you’ve used ChatGPT or Microsoft Copilot, you’re already familiar with prompting: given an instruction, a language model predicts the most likely and relevant response. With Semantic Kernel, you can build applications, services, and APIs that execute these prompts.  \n",
        "\n",
        "For more information on using prompts with Semantic Kernel, visit: https://learn.microsoft.com/en-us/semantic-kernel/prompts/your-first-prompt  \n",
        "\n",
        "The process of carefully crafting questions or instructions for AI is called **Prompt Engineering**. Prompt Engineering involves designing and refining input prompts—text or questions—so that the AI produces responses that are more relevant, useful, or accurate. The goal is to maximize the quality and clarity of the AI’s output, often by using specific wording, added context, or concrete examples within the prompt.\n",
        "\n",
        "By combining Decision Intelligence with Prompt Engineering, you can create “Generative AI Decision Intelligence.” This approach leverages GenAI models to reason through complex tasks, gather intelligence, recommend decisions, and communicate results more effectively."
      ]
    },
    {
      "cell_type": "markdown",
      "metadata": {},
      "source": [
        "### Step 1 - Initialize Configuration Builder & Build the Semantic Kernel Orchestration "
      ]
    },
    {
      "cell_type": "markdown",
      "metadata": {},
      "source": [
        "Execute the next two cells to:\n",
        "* Use the Configuration Builder to load the API secrets.  \n",
        "* Use the API configuration to build the Semantic Kernel orchestrator."
      ]
    },
    {
      "cell_type": "code",
      "execution_count": 1,
      "metadata": {
        "dotnet_interactive": {
          "language": "csharp"
        },
        "polyglot_notebook": {
          "kernelName": "csharp"
        },
        "vscode": {
          "languageId": "polyglot-notebook"
        }
      },
      "outputs": [
        {
          "data": {
            "text/html": [
              "<div><div></div><div></div><div><strong>Installed Packages</strong><ul><li><span>Microsoft.Extensions.Configuration, 9.0.5</span></li><li><span>Microsoft.Extensions.Configuration.Json, 9.0.5</span></li></ul></div></div>"
            ]
          },
          "metadata": {},
          "output_type": "display_data"
        }
      ],
      "source": [
        "// Import the required NuGet configuration packages\n",
        "#r \"nuget: Microsoft.Extensions.Configuration, 9.0.5\"\n",
        "#r \"nuget: Microsoft.Extensions.Configuration.Json, 9.0.5\"\n",
        "\n",
        "using Microsoft.Extensions.Configuration.Json;\n",
        "using Microsoft.Extensions.Configuration;\n",
        "using System.IO;\n",
        "\n",
        "// Load the configuration settings from the local.settings.json and secrets.settings.json files\n",
        "// The secrets.settings.json file is used to store sensitive information such as API keys\n",
        "var configurationBuilder = new ConfigurationBuilder()\n",
        "    .SetBasePath(Directory.GetCurrentDirectory())\n",
        "    .AddJsonFile(\"local.settings.json\", optional: true, reloadOnChange: true)\n",
        "    .AddJsonFile(\"secrets.settings.json\", optional: true, reloadOnChange: true);\n",
        "var config = configurationBuilder.Build();\n",
        "\n",
        "// IMPORTANT: You ONLY NEED either Azure OpenAI or OpenAI connection info, not both.\n",
        "// Azure OpenAI Connection Info\n",
        "var azureOpenAIEndpoint = config[\"AzureOpenAI:Endpoint\"];\n",
        "var azureOpenAIAPIKey = config[\"AzureOpenAI:APIKey\"];\n",
        "var azureOpenAIModelDeploymentName = config[\"AzureOpenAI:ModelDeploymentName\"];\n",
        "// OpenAI Connection Info \n",
        "var openAIAPIKey = config[\"OpenAI:APIKey\"];\n",
        "var openAIModelId = config[\"OpenAI:ModelId\"];"
      ]
    },
    {
      "cell_type": "code",
      "execution_count": 2,
      "metadata": {
        "dotnet_interactive": {
          "language": "csharp"
        },
        "polyglot_notebook": {
          "kernelName": "csharp"
        },
        "vscode": {
          "languageId": "polyglot-notebook"
        }
      },
      "outputs": [
        {
          "data": {
            "text/html": [
              "<div><div></div><div></div><div><strong>Installed Packages</strong><ul><li><span>Microsoft.SemanticKernel, 1.55.0</span></li></ul></div></div>"
            ]
          },
          "metadata": {},
          "output_type": "display_data"
        },
        {
          "name": "stdout",
          "output_type": "stream",
          "text": [
            "Using Azure OpenAI Service\r\n"
          ]
        }
      ],
      "source": [
        "// Import the Semantic Kernel NuGet package\n",
        "#r \"nuget: Microsoft.SemanticKernel, 1.55\"\n",
        "\n",
        "using Microsoft.Extensions.DependencyInjection.Extensions;\n",
        "using Microsoft.Extensions.DependencyInjection;\n",
        "using Microsoft.SemanticKernel;\n",
        "using Microsoft.SemanticKernel.ChatCompletion;\n",
        "using Microsoft.SemanticKernel.Connectors.OpenAI;\n",
        "\n",
        "Kernel semanticKernel;\n",
        "\n",
        "// Set the flag to use Azure OpenAI or OpenAI. False to use OpenAI, True to use Azure OpenAI\n",
        "var useAzureOpenAI = true;\n",
        "\n",
        "// Create a new Semantic Kernel instance\n",
        "if (useAzureOpenAI)\n",
        "{\n",
        "    Console.WriteLine(\"Using Azure OpenAI Service\");\n",
        "    semanticKernel = Kernel.CreateBuilder()\n",
        "        .AddAzureOpenAIChatCompletion(\n",
        "            deploymentName: azureOpenAIModelDeploymentName,\n",
        "            endpoint: azureOpenAIEndpoint,\n",
        "            apiKey: azureOpenAIAPIKey)\n",
        "        .Build();\n",
        "}\n",
        "else\n",
        "{\n",
        "    Console.WriteLine(\"Using OpenAI Service\");\n",
        "    semanticKernel = Kernel.CreateBuilder()\n",
        "        .AddOpenAIChatCompletion(\n",
        "            modelId: openAIModelId,\n",
        "            apiKey: openAIAPIKey)\n",
        "        .Build();\n",
        "}"
      ]
    },
    {
      "cell_type": "markdown",
      "metadata": {},
      "source": [
        "### Step 2 - Execute a Decision Prompt "
      ]
    },
    {
      "cell_type": "markdown",
      "metadata": {},
      "source": [
        "Many LLMs and even SLMs have been trained on knowledge that includes decision frameworks & processes. This makes LLMs great assistants to:\n",
        "* Provide proper Decision Frames\n",
        "* Gather Intelligence (information) in order to make a decision\n",
        "* Recommend Decision Frameworks to make a high-quality decision\n",
        "* Provide feedback to evaluate a Decision\n",
        "\n",
        "Once the Semantic Kernel instance is built, it is ready to intake prompt instructions. In the prompt below, the Semantic Kernel is instructed to provide examples of decision frameworks \"trained into\" the knowledge of the configured AI model.  "
      ]
    },
    {
      "cell_type": "code",
      "execution_count": 3,
      "metadata": {
        "dotnet_interactive": {
          "language": "csharp"
        },
        "polyglot_notebook": {
          "kernelName": "csharp"
        },
        "vscode": {
          "languageId": "polyglot-notebook"
        }
      },
      "outputs": [
        {
          "data": {
            "text/markdown": [
              "### 1. SWOT Analysis  \n",
              "**Description:**  \n",
              "SWOT stands for Strengths, Weaknesses, Opportunities, and Threats. This framework encourages individuals or organizations to systematically evaluate internal and external factors that can influence the outcome of a decision.  \n",
              "**How it Enhances Decisions:**  \n",
              "By clearly mapping out positives and negatives (both internal and external), users can better understand their position, anticipate challenges, and leverage strengths to capitalize on opportunities.\n",
              "\n",
              "### 2. Cost-Benefit Analysis (CBA)  \n",
              "**Description:**  \n",
              "CBA involves identifying and quantifying the costs and expected benefits of various options to determine which choice offers the greatest net benefit.  \n",
              "**How it Enhances Decisions:**  \n",
              "This framework supports logical, objective comparison by translating consequences into concrete values, making it easier to justify and communicate decisions.\n",
              "\n",
              "### 3. The Eisenhower Matrix  \n",
              "**Description:**  \n",
              "This model helps prioritize tasks or choices by categorizing them based on urgency and importance, creating four quadrants: urgent/important, not urgent/important, urgent/not important, and not urgent/not important.  \n",
              "**How it Enhances Decisions:**  \n",
              "By distinguishing between what’s urgent and what’s important, users can focus on high-impact activities and avoid being sidetracked by less significant tasks.\n",
              "\n",
              "### 4. Decision Tree Analysis  \n",
              "**Description:**  \n",
              "A decision tree is a visual map of possible decisions and their potential outcomes, including risks, rewards, and uncertainties.  \n",
              "**How it Enhances Decisions:**  \n",
              "It clarifies complex choices by explicitly laying out possible paths, supporting probabilistic reasoning and identifying optimal courses of action in scenarios with multiple variables.\n",
              "\n",
              "### 5. Six Thinking Hats  \n",
              "**Description:**  \n",
              "This creative framework by Edward de Bono encourages examining a problem from six distinct perspectives (facts, emotions, negatives, positives, creativity, and control) by metaphorically \"wearing\" different colored hats.  \n",
              "**How it Enhances Decisions:**  \n",
              "By deliberately exploring a variety of viewpoints, this method fosters balanced thinking, prevents groupthink, and leads to more comprehensive analyses and innovative solutions."
            ]
          },
          "metadata": {},
          "output_type": "display_data"
        }
      ],
      "source": [
        "// A Decision Intelligence prompt to help with describing decision-making frameworks\n",
        "var simpleDecisionPrompt = \"\"\"\n",
        "Identify and list 5 decision-making frameworks that can enhance the quality of decisions. \n",
        "Briefly describe how each decision-making framework supports better analysis and reasoning in various scenarios.\n",
        "\n",
        "General Formatting Instructions:\n",
        "When generating Markdown, do not use any headings higher than ###. \n",
        "Avoid # and ## headers. Use only ###, ####, or lower-level headings if necessary. \n",
        "All top-level section headers should start at ### or lower.  \n",
        "\"\"\";\n",
        "\n",
        "var simplePromptResponse = await semanticKernel.InvokePromptAsync(simpleDecisionPrompt);\n",
        "var response = simplePromptResponse.GetValue<string>(); \n",
        "\n",
        "// Display the response from the Semantic Kernel as Markdown\n",
        "response.DisplayAs(\"text/markdown\");"
      ]
    },
    {
      "cell_type": "markdown",
      "metadata": {},
      "source": [
        "### Step 3 - Execute a Decision Prompt with Streaming"
      ]
    },
    {
      "cell_type": "markdown",
      "metadata": {},
      "source": [
        "Semantic Kernel supports prompt response streaming when invoking the prompt. This allows responses to be streamed to the client as soon as they are made available by the LLM and service. Below the same decision prompt is executed. However, notice that chunks are streamed and can be read by the user as soon as they appear. \n",
        "\n",
        "> 📝 **Note:** An average human can read between 25-40 Tokens / second. Therefore, while streaming certainly helps with providing AI output to the user, it begins to lose its effectiveness at large token velocity.  "
      ]
    },
    {
      "cell_type": "code",
      "execution_count": 4,
      "metadata": {
        "dotnet_interactive": {
          "language": "csharp"
        },
        "polyglot_notebook": {
          "kernelName": "csharp"
        },
        "vscode": {
          "languageId": "polyglot-notebook"
        }
      },
      "outputs": [
        {
          "name": "stdout",
          "output_type": "stream",
          "text": [
            "### 1. SWOT Analysis\n",
            "\n",
            "**Description:**  \n",
            "SWOT stands for Strengths, Weaknesses, Opportunities, and Threats. This framework encourages users to systematically evaluate internal and external factors affecting a decision or project.  \n",
            "**How it supports better analysis and reasoning:**  \n",
            "By categorizing influences into these four areas, SWOT helps ensure that decisions consider both advantages and risks, from within and outside the organization. It fosters a balanced view and helps to identify strategic actions.\n",
            "\n",
            "---\n",
            "\n",
            "### 2. Decision Matrix (Weighted Scoring Model)\n",
            "\n",
            "**Description:**  \n",
            "A decision matrix helps compare multiple options by listing criteria, assigning weights to each criterion, and scoring each option accordingly.  \n",
            "**How it supports better analysis and reasoning:**  \n",
            "It introduces objectivity and quantifies preferences, making it easier to compare complex options. This method is particularly useful where decisions involve many competing factors.\n",
            "\n",
            "---\n",
            "\n",
            "### 3. Cost-Benefit Analysis\n",
            "\n",
            "**Description:**  \n",
            "This framework involves listing all anticipated costs and benefits of a decision, often attaching monetary values to each. The net result helps determine if the benefits outweigh the costs.  \n",
            "**How it supports better analysis and reasoning:**  \n",
            "It provides a clear structure for weighing outcomes, enabling transparent trade-offs and facilitating justification to stakeholders using data-driven rationale.\n",
            "\n",
            "---\n",
            "\n",
            "### 4. The OODA Loop (Observe–Orient–Decide–Act)\n",
            "\n",
            "**Description:**  \n",
            "Created by military strategist John Boyd, the OODA Loop emphasizes rapid and repeated cycles of observing the environment, orienting to new developments, deciding on a course of action, and executing it.  \n",
            "**How it supports better analysis and reasoning:**  \n",
            "It encourages adaptive and flexible responses, especially in dynamic or competitive situations. The framework helps cut through complexity by fostering quick, iterative improvements to decisions.\n",
            "\n",
            "---\n",
            "\n",
            "### 5. Six Thinking Hats\n",
            "\n",
            "**Description:**  \n",
            "This method, developed by Edward de Bono, urges thinking about a problem from six distinct perspectives: Facts (White), Feelings (Red), Difficulties (Black), Benefits (Yellow), Creativity (Green), and Process (Blue).  \n",
            "**How it supports better analysis and reasoning:**  \n",
            "By explicitly separating modes of thinking, Six Thinking Hats minimizes bias, promotes comprehensive examination, and fosters creativity and balanced judgment in group or individual decisions."
          ]
        }
      ],
      "source": [
        "// Decision Prompt using Streaming output chunks \n",
        "await foreach (var streamChunk in semanticKernel.InvokePromptStreamingAsync(simpleDecisionPrompt))\n",
        "{\n",
        "   Console.Write(streamChunk);\n",
        "}"
      ]
    },
    {
      "cell_type": "markdown",
      "metadata": {},
      "source": [
        "### Step 4 - Execute a Decision Prompt with Improved Output Formatting  "
      ]
    },
    {
      "cell_type": "markdown",
      "metadata": {},
      "source": [
        "Generative AI models have an inherent ability to not only provide decision reasoning analysis, but also format the output in a desired format. This could be as simple as instructing the Generative AI model to format the decision as a single sentence, paragraphs or lists. However more sophisticated output generations can be instructed. For example, the GenAI model can output Markdown or even extract information and fill in a desired schema (JSON). Specifically for Decision Intelligence, you can ask the GenAI models to apply decision communication frameworks to the generation as well. \n",
        "\n",
        "Execute the simple decision prompt below with Markdown formatting output. This table can now be rendered in a Markdown document for easy human comprehension. Markdown tables and other formats can be used on web sites, document, programming code etc. Even Generative AI models understand Markdown format, which can not only be used for output but inside input prompts.  "
      ]
    },
    {
      "cell_type": "code",
      "execution_count": 5,
      "metadata": {
        "dotnet_interactive": {
          "language": "csharp"
        },
        "polyglot_notebook": {
          "kernelName": "csharp"
        },
        "vscode": {
          "languageId": "polyglot-notebook"
        }
      },
      "outputs": [
        {
          "data": {
            "text/markdown": [
              "| Decision-Making Framework      | Description                                                                                      | How It Enhances Analysis & Reasoning                                             |\n",
              "|-------------------------------|--------------------------------------------------------------------------------------------------|----------------------------------------------------------------------------------|\n",
              "| SWOT Analysis                 | Assesses Strengths, Weaknesses, Opportunities, and Threats.                                      | Encourages balanced evaluation of internal and external factors affecting a decision.           |\n",
              "| Cost-Benefit Analysis         | Compares the costs and anticipated benefits of different options.                                | Supports a quantitative approach to weighing alternatives for optimal choices.    |\n",
              "| Decision Matrix (Prioritization Grid) | Rates and compares multiple options using weighted criteria.                                        | Facilitates objective, systematic evaluation when many variables are involved.    |\n",
              "| Six Thinking Hats             | Explores problems from six distinct perspectives (logical, emotional, creative, etc.).           | Improves comprehensive thinking and minimizes cognitive biases.                   |\n",
              "| OODA Loop                     | Stands for Observe, Orient, Decide, Act; a cyclical process for rapid decision-making.           | Promotes continual situational assessment and agile responses in dynamic settings.|"
            ]
          },
          "metadata": {},
          "output_type": "display_data"
        }
      ],
      "source": [
        "// A new decision prompt to help with describing decision-making frameworks using Markdown format\n",
        "var simpleDecisionPromptWithMarkdownFormat = \"\"\"\n",
        "Identify and list 5 decision-making frameworks that can enhance the quality of decisions. \n",
        "Briefly describe how each decision-making framework supports better analysis and reasoning in various scenarios.\n",
        "\n",
        "Format the response using only a Markdown table. Only return a Markdown table. \n",
        "Do not enclose the table in triple backticks.\n",
        "\"\"\";\n",
        "\n",
        "var simplePromptResponse = await semanticKernel.InvokePromptAsync(simpleDecisionPromptWithMarkdownFormat);\n",
        "var response = simplePromptResponse.GetValue<string>();\n",
        "\n",
        "// Display the response from the Semantic Kernel as Markdown\n",
        "response.DisplayAs(\"text/markdown\");"
      ]
    },
    {
      "cell_type": "markdown",
      "metadata": {},
      "source": [
        "### Step 5 - Execute a Decision Prompt with a Custom Prompt Execution Configuration"
      ]
    },
    {
      "cell_type": "markdown",
      "metadata": {},
      "source": [
        "Semantic Kernel supports the configuration of prompt execution. The typical OpenAI and Azure OpenAI settings are exposed as configuration options that provide a different prompt experience. Try changing the MaxTokens, Temperature or other settings.\n",
        "\n",
        "> **📝 Note:** The supported prompt settings are dependent on the API plus the specific model version. For example, an AI model paired with an older API may not expose all the configuration settings available. Conversely, a new preview model may not have all the settings available until it becomes generally available. Types of model execution (general versus reasoning) will also have different execution setting parameters. "
      ]
    },
    {
      "cell_type": "code",
      "execution_count": 7,
      "metadata": {
        "dotnet_interactive": {
          "language": "csharp"
        },
        "polyglot_notebook": {
          "kernelName": "csharp"
        },
        "vscode": {
          "languageId": "polyglot-notebook"
        }
      },
      "outputs": [
        {
          "data": {
            "text/markdown": [
              "| Framework                | Description                                                                                              | How It Enhances Analysis & Reasoning                                                                                 |\n",
              "|--------------------------|----------------------------------------------------------------------------------------------------------|----------------------------------------------------------------------------------------------------------------------|\n",
              "| SWOT Analysis            | Evaluates Strengths, Weaknesses, Opportunities, and Threats related to a decision or project.            | Encourages comprehensive internal and external assessment, ensuring balanced consideration of all relevant factors.   |\n",
              "| Cost-Benefit Analysis    | Compares the costs and benefits of different options quantitatively or qualitatively.                     | Supports objective evaluation by quantifying trade-offs, aiding in rational and economically sound decisions.         |\n",
              "| Decision Matrix          | Ranks options against defined criteria using a scoring system.                                            | Structures complex choices, reduces bias, and clarifies priorities by making criteria and scoring explicit.           |\n",
              "| Six Thinking Hats        | Involves looking at a problem from six distinct perspectives (logic, emotion, caution, optimism, etc.).   | Promotes holistic thinking, creativity, and critical analysis by systematically exploring all angles of a decision.   |\n",
              "| OODA Loop                | Stands for Observe, Orient, Decide, Act; a cyclical process for rapid and adaptive decision-making.       | Enhances situational awareness and adaptability, allowing for iterative improvement and timely responses.             |"
            ]
          },
          "metadata": {},
          "output_type": "display_data"
        }
      ],
      "source": [
        "// Create a new OpenAI Prompt Execution settings object\n",
        "var openAIPromptExecutionSettings = new OpenAIPromptExecutionSettings { \n",
        "    MaxTokens = 1000, \n",
        "    Temperature = 0.3, \n",
        "    TopP = 1.0, \n",
        "    FrequencyPenalty = 0.0, \n",
        "    PresencePenalty = 0.0\n",
        "    };\n",
        "\n",
        "// Create a new KernelArguments object with the OpenAI prompt execution settings\n",
        "KernelArguments kernelArguments = new KernelArguments(openAIPromptExecutionSettings);\n",
        "\n",
        "var promptResponseWithOpenAI = await semanticKernel.InvokePromptAsync(simpleDecisionPromptWithMarkdownFormat, kernelArguments);\n",
        "var response = promptResponseWithOpenAI.GetValue<string>();\n",
        "\n",
        "// Display the response from the Semantic Kernel as Markdown\n",
        "response.DisplayAs(\"text/markdown\");"
      ]
    },
    {
      "cell_type": "markdown",
      "metadata": {},
      "source": [
        "### Step 6 - Execute a Decision Prompt with a System Prompt (Custom AI Persona)"
      ]
    },
    {
      "cell_type": "markdown",
      "metadata": {},
      "source": [
        "When building Decision Intelligence prompts, all the typical best practices of prompt engineering apply when using Semantic Kernel.  Such as: \n",
        "* Make the prompt more specific (i.e. decision intelligence)\n",
        "* Add structure to the output with formatting\n",
        "* Provide examples with few-shot prompting\n",
        "* Instruct the AI what to do to avoid doing something else\n",
        "* Provide context (additional information) to the AI\n",
        "* Using Roles in Chat Completion API prompts\n",
        "* Give your AI words of encouragement  \n",
        "\n",
        "A key best practice is to provide a common behavior across all the LLM interactions in a system prompt. This system prompt is passed in on every single call the LLM with Semantic Kernel. By passing the same (or similar) system prompt with every prompt gives your Generative AI system a common persona. This common persona is the foundational building block of building AI agents; where the desired behavior is to have each agent have a unique persona/behavior every time you interact with that agent.\n",
        "\n",
        "Execute the cell below with a dynamic prompt template. Notice the different behavior of the output for decision frameworks. Based on the new system prompt instructions, the decision framework responses are much more robust with decision intelligence information."
      ]
    },
    {
      "cell_type": "code",
      "execution_count": null,
      "metadata": {
        "dotnet_interactive": {
          "language": "csharp"
        },
        "polyglot_notebook": {
          "kernelName": "csharp"
        },
        "vscode": {
          "languageId": "polyglot-notebook"
        }
      },
      "outputs": [
        {
          "data": {
            "text/markdown": [
              "### 1. Pros and Cons List\n",
              "\n",
              "**Description:**  \n",
              "List the advantages (pros) and disadvantages (cons) of each option. Compare the lists to see which option has more or stronger positives.\n",
              "\n",
              "**How to Use:**  \n",
              "- Write down your options.\n",
              "- For each option, list the pros and cons.\n",
              "- Weigh the importance of each point if needed.\n",
              "- Choose the option with the most compelling pros and least impactful cons.\n",
              "\n",
              "**Best For:**  \n",
              "Simple choices (e.g., what to eat, which route to take, whether to accept an invitation).\n",
              "\n",
              "---\n",
              "\n",
              "### 2. Eisenhower Matrix (Urgent-Important Matrix)\n",
              "\n",
              "**Description:**  \n",
              "Sort tasks or decisions based on their urgency and importance to prioritize what to do next.\n",
              "\n",
              "**How to Use:**  \n",
              "- Draw a 2x2 grid: Urgent/Not Urgent vs. Important/Not Important.\n",
              "- Place each task or decision in the appropriate quadrant.\n",
              "- Focus on Important & Urgent first, then Important & Not Urgent.\n",
              "\n",
              "**Best For:**  \n",
              "Time management, prioritizing daily tasks, handling multiple responsibilities.\n",
              "\n",
              "---\n",
              "\n",
              "### 3. 2-Minute Rule\n",
              "\n",
              "**Description:**  \n",
              "If a decision or task can be completed in two minutes or less, do it immediately. Otherwise, decide whether to schedule, delegate, or drop it.\n",
              "\n",
              "**How to Use:**  \n",
              "- Ask: Can I resolve this in 2 minutes?\n",
              "- If yes, do it now.\n",
              "- If no, decide when/how to handle it.\n",
              "\n",
              "**Best For:**  \n",
              "Quick decisions, handling small tasks, reducing procrastination.\n",
              "\n",
              "---\n",
              "\n",
              "### 4. OODA Loop (Observe, Orient, Decide, Act)\n",
              "\n",
              "**Description:**  \n",
              "A cyclical process for making decisions quickly and effectively, especially in dynamic situations.\n",
              "\n",
              "**How to Use:**  \n",
              "- **Observe:** Gather information about the situation.\n",
              "- **Orient:** Interpret what you’ve observed.\n",
              "- **Decide:** Choose a course of action.\n",
              "- **Act:** Implement your decision.\n",
              "- Repeat as needed.\n",
              "\n",
              "**Best For:**  \n",
              "Situations requiring quick thinking, adapting to new information, everyday problem-solving.\n",
              "\n",
              "---\n",
              "\n",
              "### 5. 10-10-10 Rule\n",
              "\n",
              "**Description:**  \n",
              "Consider the consequences of your decision in three time frames: 10 minutes, 10 months, and 10 years.\n",
              "\n",
              "**How to Use:**  \n",
              "- Ask: How will I feel about this decision in 10 minutes? 10 months? 10 years?\n",
              "- Reflect on the short-, medium-, and long-term impacts.\n",
              "- Choose the option that aligns best with your values and goals over time.\n",
              "\n",
              "**Best For:**  \n",
              "Decisions with emotional weight, long-term consequences, or when you’re tempted by short-term gains.\n",
              "\n",
              "---\n",
              "\n",
              "### Summary Table\n",
              "\n",
              "| Framework           | Best For                                 | Key Steps                                    |\n",
              "|---------------------|------------------------------------------|----------------------------------------------|\n",
              "| Pros and Cons List  | Everyday choices                         | List, weigh, compare                         |\n",
              "| Eisenhower Matrix   | Prioritizing tasks                       | Sort by urgency/importance                   |\n",
              "| 2-Minute Rule       | Quick decisions, small tasks             | Do now if ≤2 min, else plan                  |\n",
              "| OODA Loop           | Dynamic, evolving situations             | Observe, Orient, Decide, Act, repeat         |\n",
              "| 10-10-10 Rule       | Emotional/long-term impact decisions     | Reflect on 10 min, 10 months, 10 years ahead |\n",
              "\n",
              "These frameworks are simple, flexible, and can be applied to a wide range of daily decisions."
            ]
          },
          "metadata": {},
          "output_type": "display_data"
        }
      ],
      "source": [
        "// Create a System Prompt instruction to override the default system prompt\n",
        "// Add the System Prompt (Persona) to behave like a Decision Intelligence assistant\n",
        "var systemPromptForDecisions = \"\"\"\n",
        "You are a Decision Intelligence Assistant. \n",
        "Assist the user in exploring options, reasoning through decisions, problem-solving.\n",
        "Apply systems thinking to the scenarios. \n",
        "Provide structured, logical, and comprehensive decision advice.\n",
        "\n",
        "Output Format Instructions:\n",
        "When generating Markdown, do not use any headings higher than ###. \n",
        "Avoid # and ## headers. Use only ###, ####, or lower-level headings if necessary. \n",
        "All top-level section headers should start at ### or lower. \n",
        "\"\"\";\n",
        "var simpleDecisionPrompt = \"\"\"\n",
        "Recommend the top 5 decision frameworks that can be used for daily situations to make various decisions.\n",
        "These frameworks should be very easy to understand and apply to various scenarios.\n",
        "\"\"\";\n",
        "\n",
        "// How the prompt looks like to the LLM\n",
        "var simpleDecisionPromptTemplate = $\"\"\"\n",
        "System Prompt: \n",
        "{systemPromptForDecisions}\n",
        "\n",
        "Request from the user: \n",
        "{simpleDecisionPrompt}\n",
        "\"\"\";\n",
        "\n",
        "// Create a new OpenAI prompt execution settings object\n",
        "var openAIPromptExecutionSettings = new OpenAIPromptExecutionSettings { \n",
        "    ChatSystemPrompt = systemPromptForDecisions,\n",
        "    MaxTokens = 1000, \n",
        "    Temperature = 0.3, \n",
        "    TopP = 1.0, \n",
        "    FrequencyPenalty = 0.0, \n",
        "    PresencePenalty = 0.0\n",
        "    };\n",
        "KernelArguments kernelArguments = new KernelArguments(openAIPromptExecutionSettings);\n",
        "\n",
        "\n",
        "var promptResponseWithTemplate = await semanticKernel.InvokePromptAsync(simpleDecisionPrompt, kernelArguments);\n",
        "var response = promptResponseWithTemplate.GetValue<string>();\n",
        "\n",
        "// Display the response from the Semantic Kernel as Markdown\n",
        "response.DisplayAs(\"text/markdown\");"
      ]
    },
    {
      "cell_type": "markdown",
      "metadata": {},
      "source": [
        "### Step 7 - Execute a Decision Scenario with a System Prompt (Custom AI Persona)"
      ]
    },
    {
      "cell_type": "markdown",
      "metadata": {},
      "source": [
        "In this step a decision scenario will be introduced requiring analysis and a recommendation performed by Artificial Intelligence. The full **Decision Intelligence** framework will not be used, rather a simple request for Artificial Intelligence to recommend a path forward (recommendation) for the human user to ultimately make the final decision.  \n",
        "\n",
        "**Decision Scenario:** Your high school daughter Alex is deciding whether to enroll directly in a four-year university or start at a community college to earn an associate degree first. These are Alex's main decision factors: financial, career uncertainty, academic consistency and future impact. In addition, you have all the decision factor detailed data available to pass to the GenAI model prompt. You are looking for an impartial (non-family) recommendation. Can Artificial Intelligence be that impartial judge to help Alex decide? \n",
        "\n",
        "<img style=\"display: block; margin: auto;\" width =\"700px\" src=\"https://raw.githubusercontent.com/bartczernicki/DecisionIntelligence.GenAI.Workshop/main/Images/Scenarios/Scenario-SimpleDecision-College.png\">"
      ]
    },
    {
      "cell_type": "code",
      "execution_count": null,
      "metadata": {
        "dotnet_interactive": {
          "language": "csharp"
        },
        "polyglot_notebook": {
          "kernelName": "csharp"
        },
        "vscode": {
          "languageId": "polyglot-notebook"
        }
      },
      "outputs": [
        {
          "data": {
            "text/markdown": [
              "### Recommendation Table: Direct Enrollment in Four-Year University vs. Starting at Community College\n",
              "\n",
              "| Decision Factor                  | Four-Year University (Direct Enrollment)           | Community College (Associate First)               | Analysis & Recommendation                                                                                 |\n",
              "|----------------------------------|---------------------------------------------------|---------------------------------------------------|----------------------------------------------------------------------------------------------------------|\n",
              "| **Financial Considerations**     | High cost ($50k-$60k/year); some loans required   | Low cost ($3k-$5k/year); significant savings      | Community college offers substantial savings, but family can afford university with manageable loans.     |\n",
              "| **Career and Major Uncertainty** | Risk of extra time/cost if switching majors; less flexibility to explore | Greater flexibility to explore majors at lower cost; possible transfer challenges | Community college allows low-cost exploration, reducing risk if Alex changes her mind about her major.    |\n",
              "| **Academic Consistency & Networking** | Early access to campus resources, professors, internships, and networking | Delayed access to four-year opportunities; may need to adjust after transfer | Four-year university provides earlier, deeper networking and professional opportunities.                  |\n",
              "| **Future Impact**                | Builds network and experience sooner; higher debt risk | Lower debt; may delay network-building and experience | Four-year university supports Alex’s long-term career/network goals, but increases financial risk.        |\n",
              "| **Personal Preferences**         | Prefers early professional networking; not focused on social life | Comfortable with delayed campus experience; values flexibility | Alex values professional networking and experience more than immediate cost savings.                      |\n",
              "\n",
              "### Final Recommendation\n",
              "\n",
              "| **Recommended Path**              | **Rationale**                                                                                                      |\n",
              "|-----------------------------------|--------------------------------------------------------------------------------------------------------------------|\n",
              "| **Direct Enrollment in Four-Year University** | While community college offers significant cost savings and flexibility for exploring majors, Alex’s priorities—early professional networking, access to campus resources, and building a strong foundation for her career—are best served by starting at the four-year university. The family can manage the cost with some loans, and the long-term benefits of early integration into her chosen field and network outweigh the medium-level financial concerns. Alex should proactively use campus resources to explore majors in her first two years, minimizing the risk of extended time or extra cost if she changes direction. |"
            ]
          },
          "metadata": {},
          "output_type": "display_data"
        }
      ],
      "source": [
        "// Create a system prompt instruction to override the default system prompt\n",
        "// Add the System Prompt (Persona) to behave like a decision intelligence assistant\n",
        "var systemPromptForDecisions = \"\"\"\n",
        "You are a Decision Intelligence Assistant. \n",
        "Assist the user in exploring options, reasoning through decisions, problem-solving.\n",
        "Apply systems thinking to the scenarios. \n",
        "Provide structured, logical, and comprehensive decision advice.\n",
        "\n",
        "Output Format Instructions:\n",
        "When generating Markdown, do not use any headings higher than ###. \n",
        "Avoid # and ## headers. Use only ###, ####, or lower-level headings if necessary. \n",
        "All top-level section headers should start at ### or lower. \n",
        "\"\"\";\n",
        "// Provide a description of the decision scenario and the desired output \n",
        "// Provide detailed Decision Scenario considerations and information about Alex (the decision-maker) \n",
        "var scenarioDecisionPrompt = \"\"\"\n",
        "Imagine you are advising a daughter named Alex who is deciding whether to enroll directly in a well-regarded four-year \n",
        "university or start at a community college to earn an associate degree first. \n",
        "\n",
        "Make a single recommendation based on the following decision factor details. \n",
        "Output the recommendation in a Markdown table format. \n",
        "\n",
        "Financial Considerations:\n",
        "Alex's four-year university will cost significantly more in tuition, housing, and related expenses \n",
        "(estimated $50,000-$60,000 per year). A two-year associate program at a local community college could \n",
        "save substantial money (estimated $3,000-$5,000 per year), but Alex may have to transfer to a \n",
        "four-year institution later to complete a bachelor's degree. The family can afford the four-year university, \n",
        "with some loans, but the cost is only a medium concern. \n",
        "\n",
        "Career and Major Uncertainty:\n",
        "Alex is not entirely sure what she wants to major in. She is torn between business, psychology, and \n",
        "possibly something in the arts. She worries that if she starts at the four-year university, \n",
        "she might switch majors and incur extra time and cost. On the other hand, \n",
        "community college might give her space to explore options, \n",
        "but transferring could mean adjusting to a new campus and curriculum midway through.\n",
        "\n",
        "Academic Consistency and Networking:\n",
        "Going straight to the four-year university would allow Alex to build early relationships with professors, \n",
        "join campus groups, and potentially secure internships or research opportunities. Starting at community college might \n",
        "delay those opportunities, but it could also let her explore different fields at a lower cost. \n",
        "She might miss out on the “full campus” experience early on, but transferring later means she could \n",
        "still build connections, just on a different timeline. \n",
        "\n",
        "Future Impact: \n",
        "Alex is unsure of the short-term future impact of her decision that might be hard to remediate. \n",
        "Alex wants a solid professional network and relevant experience when she graduates. \n",
        "Alex is not overly concerned about the social aspect of college, \n",
        "but feels she can build a quality network in a four-year university setting sooner. \n",
        "She is also concerned about taking on significant student loan debt. The decision affects not only her immediate academic path but \n",
        "also her long-term financial stability and career prospects. \n",
        "\"\"\";\n",
        "\n",
        "// How the prompt looks like to the LLM\n",
        "var scenarioDecisionPromptTemplate = $\"\"\"\n",
        "System Prompt: \n",
        "{systemPromptForDecisions}\n",
        "\n",
        "Request from the user: \n",
        "{scenarioDecisionPrompt}\n",
        "\"\"\";\n",
        "\n",
        "// Create a new OpenAI prompt execution settings object\n",
        "var openAIPromptExecutionSettings = new OpenAIPromptExecutionSettings { \n",
        "    ChatSystemPrompt = systemPromptForDecisions,\n",
        "    MaxTokens = 1000, // Increase the max tokens to allow for a more detailed response\n",
        "    Temperature = 0.3, \n",
        "    TopP = 1.0, \n",
        "    FrequencyPenalty = 0.0, \n",
        "    PresencePenalty = 0.0\n",
        "    };\n",
        "KernelArguments kernelArguments = new KernelArguments(openAIPromptExecutionSettings);\n",
        "\n",
        "var promptResponseScenario = await semanticKernel.InvokePromptAsync(scenarioDecisionPromptTemplate, kernelArguments);\n",
        "var response = promptResponseScenario.GetValue<string>();\n",
        "\n",
        "// Display the response from the Semantic Kernel as Markdown\n",
        "response.DisplayAs(\"text/markdown\");"
      ]
    }
  ],
  "metadata": {
    "kernelspec": {
      "display_name": ".NET (C#)",
      "language": "C#",
      "name": ".net-csharp"
    },
    "language_info": {
      "name": "csharp"
    },
    "polyglot_notebook": {
      "kernelInfo": {
        "defaultKernelName": "csharp",
        "items": [
          {
            "aliases": [],
            "name": "csharp"
          }
        ]
      }
    }
  },
  "nbformat": 4,
  "nbformat_minor": 2
}
