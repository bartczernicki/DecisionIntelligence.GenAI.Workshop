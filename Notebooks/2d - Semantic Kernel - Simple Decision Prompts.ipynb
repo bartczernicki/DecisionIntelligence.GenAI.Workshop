{
  "cells": [
    {
      "cell_type": "markdown",
      "metadata": {},
      "source": [
        "<div style=\"display: flex; align-items: center;\">\n",
        "  <img src=\"https://raw.githubusercontent.com/bartczernicki/DecisionIntelligence.GenAI.Workshop/main/Images/DecisionIntelligenceSemanticKernelLogo.png\" width=\"60px\" style=\"margin-right: 10px;\">\n",
        "  <span style=\"font-size: 1.5em; font-weight: bold;\">Semantic Kernel - Simple Decision Prompts</span>\n",
        "</div>"
      ]
    },
    {
      "cell_type": "markdown",
      "metadata": {},
      "source": [
        "Decision Intelligence applied in this module:  \n",
        "* Listing of various decision-making frameworks and with their descriptions by using GenAI prompt engineering  \n",
        "* Creating custom AI personas with a system decision prompt  \n",
        "* Generating decision outputs using easier to consume formats (Markdown)     \n",
        "\n",
        "Prompts are the fundamental building blocks for eliciting effective responses from AI models. This module demonstrates how to use common prompt engineering techniques within Semantic Kernel. If you’ve used ChatGPT or Microsoft Copilot, you’re already familiar with prompting: given an instruction, a language model predicts the most likely and relevant response. With Semantic Kernel, you can build applications, services, and APIs that execute these prompts.  \n",
        "\n",
        "For more information on using prompts with Semantic Kernel, visit: https://learn.microsoft.com/en-us/semantic-kernel/prompts/your-first-prompt  \n",
        "\n",
        "The process of carefully crafting questions or instructions for AI is called **Prompt Engineering**. Prompt Engineering involves designing and refining input prompts—text or questions—so that the AI produces responses that are more relevant, useful, or accurate. The goal is to maximize the quality and clarity of the AI’s output, often by using specific wording, added context, or concrete examples within the prompt.\n",
        "\n",
        "By combining Decision Intelligence with Prompt Engineering, you can create “Generative AI Decision Intelligence.” This approach leverages GenAI models to reason through complex tasks, gather intelligence, recommend decisions, and communicate results more effectively."
      ]
    },
    {
      "cell_type": "markdown",
      "metadata": {},
      "source": [
        "### Step 1 - Initialize Configuration Builder & Build the Semantic Kernel Orchestration "
      ]
    },
    {
      "cell_type": "markdown",
      "metadata": {},
      "source": [
        "Execute the next two cells to:\n",
        "* Use the Configuration Builder to load the API secrets.  \n",
        "* Use the API configuration to build the Semantic Kernel orchestrator."
      ]
    },
    {
      "cell_type": "code",
      "execution_count": 1,
      "metadata": {
        "dotnet_interactive": {
          "language": "csharp"
        },
        "polyglot_notebook": {
          "kernelName": "csharp"
        },
        "vscode": {
          "languageId": "polyglot-notebook"
        }
      },
      "outputs": [
        {
          "data": {
            "text/html": [
              "<div><div></div><div></div><div><strong>Installed Packages</strong><ul><li><span>Microsoft.Extensions.Configuration, 9.0.5</span></li><li><span>Microsoft.Extensions.Configuration.Json, 9.0.5</span></li></ul></div></div>"
            ]
          },
          "metadata": {},
          "output_type": "display_data"
        }
      ],
      "source": [
        "// Import the required NuGet configuration packages\n",
        "#r \"nuget: Microsoft.Extensions.Configuration, 9.0.5\"\n",
        "#r \"nuget: Microsoft.Extensions.Configuration.Json, 9.0.5\"\n",
        "\n",
        "using Microsoft.Extensions.Configuration.Json;\n",
        "using Microsoft.Extensions.Configuration;\n",
        "using System.IO;\n",
        "\n",
        "// Load the configuration settings from the local.settings.json and secrets.settings.json files\n",
        "// The secrets.settings.json file is used to store sensitive information such as API keys\n",
        "var configurationBuilder = new ConfigurationBuilder()\n",
        "    .SetBasePath(Directory.GetCurrentDirectory())\n",
        "    .AddJsonFile(\"local.settings.json\", optional: true, reloadOnChange: true)\n",
        "    .AddJsonFile(\"secrets.settings.json\", optional: true, reloadOnChange: true);\n",
        "var config = configurationBuilder.Build();\n",
        "\n",
        "// IMPORTANT: You ONLY NEED either Azure OpenAI or OpenAI connection info, not both.\n",
        "// Azure OpenAI Connection Info\n",
        "var azureOpenAIEndpoint = config[\"AzureOpenAI:Endpoint\"];\n",
        "var azureOpenAIAPIKey = config[\"AzureOpenAI:APIKey\"];\n",
        "var azureOpenAIModelDeploymentName = config[\"AzureOpenAI:ModelDeploymentName\"];\n",
        "// OpenAI Connection Info \n",
        "var openAIAPIKey = config[\"OpenAI:APIKey\"];\n",
        "var openAIModelId = config[\"OpenAI:ModelId\"];"
      ]
    },
    {
      "cell_type": "code",
      "execution_count": 2,
      "metadata": {
        "dotnet_interactive": {
          "language": "csharp"
        },
        "polyglot_notebook": {
          "kernelName": "csharp"
        },
        "vscode": {
          "languageId": "polyglot-notebook"
        }
      },
      "outputs": [
        {
          "data": {
            "text/html": [
              "<div><div></div><div></div><div><strong>Installed Packages</strong><ul><li><span>Microsoft.SemanticKernel, 1.54.0</span></li></ul></div></div>"
            ]
          },
          "metadata": {},
          "output_type": "display_data"
        },
        {
          "name": "stdout",
          "output_type": "stream",
          "text": [
            "Using Azure OpenAI Service\r\n"
          ]
        }
      ],
      "source": [
        "// Import the Semantic Kernel NuGet package\n",
        "#r \"nuget: Microsoft.SemanticKernel, 1.54\"\n",
        "\n",
        "using Microsoft.Extensions.DependencyInjection.Extensions;\n",
        "using Microsoft.Extensions.DependencyInjection;\n",
        "using Microsoft.SemanticKernel;\n",
        "using Microsoft.SemanticKernel.ChatCompletion;\n",
        "using Microsoft.SemanticKernel.Connectors.OpenAI;\n",
        "\n",
        "Kernel semanticKernel;\n",
        "\n",
        "// Set the flag to use Azure OpenAI or OpenAI. False to use OpenAI, True to use Azure OpenAI\n",
        "var useAzureOpenAI = true;\n",
        "\n",
        "// Create a new Semantic Kernel instance\n",
        "if (useAzureOpenAI)\n",
        "{\n",
        "    Console.WriteLine(\"Using Azure OpenAI Service\");\n",
        "    semanticKernel = Kernel.CreateBuilder()\n",
        "        .AddAzureOpenAIChatCompletion(\n",
        "            deploymentName: azureOpenAIModelDeploymentName,\n",
        "            endpoint: azureOpenAIEndpoint,\n",
        "            apiKey: azureOpenAIAPIKey)\n",
        "        .Build();\n",
        "}\n",
        "else\n",
        "{\n",
        "    Console.WriteLine(\"Using OpenAI Service\");\n",
        "    semanticKernel = Kernel.CreateBuilder()\n",
        "        .AddOpenAIChatCompletion(\n",
        "            modelId: openAIModelId,\n",
        "            apiKey: openAIAPIKey)\n",
        "        .Build();\n",
        "}"
      ]
    },
    {
      "cell_type": "markdown",
      "metadata": {},
      "source": [
        "### Step 2 - Execute a Decision Prompt "
      ]
    },
    {
      "cell_type": "markdown",
      "metadata": {},
      "source": [
        "Many LLMs and even SLMs have been trained on knowledge that includes decision frameworks & processes. This makes LLMs great assistants to:\n",
        "* Provide proper Decision Frames\n",
        "* Gather Intelligence (information) in order to make a decision\n",
        "* Recommend Decision Frameworks to make a high-quality decision\n",
        "* Provide feedback to evaluate a Decision\n",
        "\n",
        "Once the Semantic Kernel instance is built, it is ready to intake prompt instructions. In the prompt below, the Semantic Kernel is instructed to provide examples of decision frameworks \"trained into\" the knowledge of the configured AI model.  "
      ]
    },
    {
      "cell_type": "code",
      "execution_count": 3,
      "metadata": {
        "dotnet_interactive": {
          "language": "csharp"
        },
        "polyglot_notebook": {
          "kernelName": "csharp"
        },
        "vscode": {
          "languageId": "polyglot-notebook"
        }
      },
      "outputs": [
        {
          "data": {
            "text/markdown": [
              "Here are five decision-making frameworks that can enhance the quality of decisions, along with brief descriptions of how each supports better analysis and reasoning:\n",
              "\n",
              "---\n",
              "\n",
              "### 1. **The OODA Loop (Observe, Orient, Decide, Act)**  \n",
              "**Overview:** Developed by military strategist John Boyd, this framework emphasizes rapid iteration through four stages:  \n",
              "- **Observe:** Collect data and situational awareness.  \n",
              "- **Orient:** Analyze information and align with context, goals, and mental models.  \n",
              "- **Decide:** Choose the best course of action based on insights.  \n",
              "- **Act:** Implement the decision while preparing for feedback.\n",
              "\n",
              "**How it supports decision-making:**  \n",
              "The OODA Loop facilitates agility in dynamic situations, helping individuals and organizations adapt to changing circumstances by constantly evaluating and refining their approach.\n",
              "\n",
              "---\n",
              "\n",
              "### 2. **Kepner-Tregoe Decision Analysis**  \n",
              "**Overview:** This systematic, structured approach emphasizes the analysis of possible solutions based on objectives, problem identification, and evaluating risks. Key steps include:  \n",
              "- Clarify the decision and objectives.  \n",
              "- Identify and categorize alternatives.  \n",
              "- Assess risks and mitigation strategies.  \n",
              "- Choose the option that best meets criteria.\n",
              "\n",
              "**How it supports decision-making:**  \n",
              "By breaking decisions into objective components and focusing on logic, this method reduces bias, prioritizes goals, and carefully considers trade-offs, making it ideal for high-stakes challenges.\n",
              "\n",
              "---\n",
              "\n",
              "### 3. **Pros and Cons Matrix**  \n",
              "**Overview:** This is a simple but effective method where positive outcomes (pros) and negative outcomes (cons) for each alternative are listed, weighed, and compared.\n",
              "\n",
              "**How it supports decision-making:**  \n",
              "The matrix encourages structured analysis and provides clarity, helping decision-makers visualize the advantages and disadvantages of each option to make more informed choices.\n",
              "\n",
              "---\n",
              "\n",
              "### 4. **Pareto Analysis (80/20 Rule)**  \n",
              "**Overview:** This framework focuses on identifying the decisions or actions that will yield the most significant impact, based on the principle that 80% of results typically stem from 20% of causes.\n",
              "\n",
              "**How it supports decision-making:**  \n",
              "Pareto Analysis helps prioritize tasks or solutions by directing attention toward the most critical factors, thereby maximizing efficiency and impact while avoiding wasted effort.\n",
              "\n",
              "---\n",
              "\n",
              "### 5. **Six Thinking Hats (by Edward de Bono)**  \n",
              "**Overview:** This method involves adopting six distinct perspectives sequentially to evaluate a problem or decision:  \n",
              "- **White Hat:** Focus on facts and data.  \n",
              "- **Red Hat:** Consider emotions and intuition.  \n",
              "- **Black Hat:** Assess risks and potential downsides.  \n",
              "- **Yellow Hat:** Highlight positive aspects.  \n",
              "- **Green Hat:** Explore creativity and alternative solutions.  \n",
              "- **Blue Hat:** Facilitate control and process strategy.\n",
              "\n",
              "**How it supports decision-making:**  \n",
              "By systematically evaluating decisions from multiple perspectives, this framework reduces bias, enhances creativity, and ensures comprehensive analysis.\n",
              "\n",
              "---\n",
              "\n",
              "These frameworks help decision-makers adopt structured, logical, and multi-dimensional approaches, enhancing both the quality and the reliability of their decisions in various scenarios."
            ]
          },
          "metadata": {},
          "output_type": "display_data"
        }
      ],
      "source": [
        "// A Decision Intelligence prompt to help with describing decision-making frameworks\n",
        "var simpleDecisionPrompt = \"\"\"\n",
        "Identify and list 5 decision-making frameworks that can enhance the quality of decisions. \n",
        "Briefly describe how each decision-making framework supports better analysis and reasoning in various scenarios.\n",
        "\"\"\";\n",
        "\n",
        "var simplePromptResponse = await semanticKernel.InvokePromptAsync(simpleDecisionPrompt);\n",
        "var response = simplePromptResponse.GetValue<string>(); \n",
        "\n",
        "// Display the response from the Semantic Kernel as Markdown\n",
        "response.DisplayAs(\"text/markdown\");"
      ]
    },
    {
      "cell_type": "markdown",
      "metadata": {},
      "source": [
        "### Step 3 - Execute a Decision Prompt with Streaming"
      ]
    },
    {
      "cell_type": "markdown",
      "metadata": {},
      "source": [
        "Semantic Kernel supports prompt response streaming when invoking the prompt. This allows responses to be streamed to the client as soon as they are made available by the LLM and service. Below the same decision prompt is executed. However, notice that chunks are streamed and can be read by the user as soon as they appear. \n",
        "\n",
        "> 📝 Note: An average human can read between 25-40 Tokens / second. Therefore, while streaming certainly helps with providing AI output to the user, it begins to lose its effectiveness at large token velocity.  "
      ]
    },
    {
      "cell_type": "code",
      "execution_count": 4,
      "metadata": {
        "dotnet_interactive": {
          "language": "csharp"
        },
        "polyglot_notebook": {
          "kernelName": "csharp"
        },
        "vscode": {
          "languageId": "polyglot-notebook"
        }
      },
      "outputs": [
        {
          "name": "stdout",
          "output_type": "stream",
          "text": [
            "Here are five decision-making frameworks that can enhance the quality of decisions, along with brief explanations of how each supports better analysis and reasoning:\n",
            "\n",
            "---\n",
            "\n",
            "### 1. **SWOT Analysis (Strengths, Weaknesses, Opportunities, Threats)**  \n",
            "**Description:** SWOT analysis is a strategic planning tool used to evaluate internal factors (strengths and weaknesses) and external factors (opportunities and threats).  \n",
            "\n",
            "**How It Enhances Decision Making:**  \n",
            "- **Holistic Evaluation:** Encourages a balanced view of internal capacities and external conditions.  \n",
            "- **Priority Setting:** Helps identify areas for improvement and seize valuable opportunities.  \n",
            "- **Clarity:** Provides structured insights, making complex situations easier to understand.  \n",
            "- **Versatility:** Applicable to both individual and organizational decisions.  \n",
            "\n",
            "---\n",
            "\n",
            "### 2. **Pareto Analysis (80/20 Rule)**  \n",
            "**Description:** Based on the principle that 80% of outcomes often come from 20% of causes, Pareto Analysis focuses on prioritizing high-impact areas.  \n",
            "\n",
            "**How It Enhances Decision Making:**  \n",
            "- **Efficient Focus:** Directs energy toward the small number of inputs that yield the most significant results.  \n",
            "- **Time Management:** Saves effort by focusing on crucial tasks, rather than spreading resources thinly.  \n",
            "- **Simplicity:** Offers actionable insights without requiring excessive data or complex calculations.  \n",
            "\n",
            "---\n",
            "\n",
            "### 3. **Six Thinking Hats**  \n",
            "**Description:** Developed by Edward de Bono, this framework uses six metaphorical hats—representing different modes of thinking (e.g., emotions, logic, creativity)—to explore a decision from multiple perspectives.  \n",
            "\n",
            "**How It Enhances Decision Making:**  \n",
            "- **Diverse Perspectives:** Encourages consideration of emotional, logical, creative, and critical viewpoints.  \n",
            "- **Structured Collaboration:** Aids in group decision-making by organizing varied inputs in a harmonious way.  \n",
            "- **Reduces Bias:** By focusing on specific thinking modes, it minimizes the risk of one-sided judgments.  \n",
            "\n",
            "---\n",
            "\n",
            "### 4. **The Eisenhower Matrix**  \n",
            "**Description:** A time-management and prioritization framework that categorizes tasks and decisions into four quadrants based on urgency and importance.  \n",
            "\n",
            "**How It Enhances Decision Making:**  \n",
            "- **Clear Prioritization:** Differentiates between what needs immediate attention and what can be delayed or delegated.  \n",
            "- **Stress Reduction:** Streamlines decision-making in high-pressure environments.  \n",
            "- **Goal Alignment:** Ensures decisions are aligned with core objectives and long-term priorities.  \n",
            "\n",
            "---\n",
            "\n",
            "### 5. **Cost-Benefit Analysis (CBA)**  \n",
            "**Description:** A quantitative approach that compares the costs and benefits of a decision to assess its overall value or feasibility.  \n",
            "\n",
            "**How It Enhances Decision Making:**  \n",
            "- **Objective Assessment:** Focuses on numerical data to reduce emotional biases.  \n",
            "- **Risk and Reward Analysis:** Highlights potential trade-offs and value generation.  \n",
            "- **Scenario Comparison:** Allows decision-makers to weigh multiple options against measurable criteria.  \n",
            "- **Adaptability:** Useful for financial, operational, and strategic decisions.  \n",
            "\n",
            "---\n",
            "\n",
            "These frameworks provide diverse tools for tackling different types of decisions, empowering individuals and teams to systematically address challenges and improve analysis, reasoning, and outcomes. Each framework has unique strengths tailored to specific decision-making contexts."
          ]
        }
      ],
      "source": [
        "// Decision Prompt using Streaming output chunks \n",
        "await foreach (var streamChunk in semanticKernel.InvokePromptStreamingAsync(simpleDecisionPrompt))\n",
        "{\n",
        "   Console.Write(streamChunk);\n",
        "}"
      ]
    },
    {
      "cell_type": "markdown",
      "metadata": {},
      "source": [
        "### Step 4 - Execute a Decision Prompt with Improved Output Formatting  "
      ]
    },
    {
      "cell_type": "markdown",
      "metadata": {},
      "source": [
        "Generative AI models have an inherent ability to not only provide decision reasoning analysis, but also format the output in a desired format. This could be as simple as instructing the Generative AI model to format the decision as a single sentence, paragraphs or lists. However more sophisticated output generations can be instructed. For example, the GenAI model can output Markdown or even extract information and fill in a desired schema (JSON). Specifically for Decision Intelligence, you can ask the GenAI models to apply decision communication frameworks to the generation as well. \n",
        "\n",
        "Execute the simple decision prompt below with Markdown formatting output. This table can now be rendered in a Markdown document for easy human comprehension. Markdown tables and other formats can be used on web sites, document, programming code etc. Even Generative AI models understand Markdown format, which can not only be used for output but inside input prompts.  "
      ]
    },
    {
      "cell_type": "code",
      "execution_count": 7,
      "metadata": {
        "dotnet_interactive": {
          "language": "csharp"
        },
        "polyglot_notebook": {
          "kernelName": "csharp"
        },
        "vscode": {
          "languageId": "polyglot-notebook"
        }
      },
      "outputs": [
        {
          "data": {
            "text/markdown": [
              "| Decision-Making Framework       | Description                                                                                                      |\n",
              "|---------------------------------|------------------------------------------------------------------------------------------------------------------|\n",
              "| SWOT Analysis                   | Evaluates Strengths, Weaknesses, Opportunities, and Threats, providing a structured overview for strategic choices. |\n",
              "| Decision Matrix                 | Scores and compares options against criteria to quantify preferences, enhancing objectivity in complex scenarios.  |\n",
              "| Six Thinking Hats               | Encourages perspective-taking with distinct 'thinking hats' for emotions, logic, creativity, and more.             |\n",
              "| Pareto Analysis                 | Prioritizes decisions based on the 80/20 rule, focusing on factors that yield the greatest impact.                 |\n",
              "| Cost-Benefit Analysis           | Compares costs and benefits of options quantitatively, ensuring financial and resource efficiency.                 |"
            ]
          },
          "metadata": {},
          "output_type": "display_data"
        }
      ],
      "source": [
        "// A new decision prompt to help with describing decision-making frameworks using Markdown format\n",
        "var simpleDecisionPromptWithMarkdownFormat = \"\"\"\n",
        "Identify and list 5 decision-making frameworks that can enhance the quality of decisions. \n",
        "Briefly describe how each decision-making framework supports better analysis and reasoning in various scenarios.\n",
        "\n",
        "Format the response using only a Markdown table. Only return a Markdown table. \n",
        "Do not enclose the table in triple backticks.\n",
        "\"\"\";\n",
        "\n",
        "var simplePromptResponse = await semanticKernel.InvokePromptAsync(simpleDecisionPromptWithMarkdownFormat);\n",
        "var response = simplePromptResponse.GetValue<string>();\n",
        "\n",
        "// Display the response from the Semantic Kernel as Markdown\n",
        "response.DisplayAs(\"text/markdown\");"
      ]
    },
    {
      "cell_type": "markdown",
      "metadata": {},
      "source": [
        "### Step 5 - Execute a Decision Prompt with a Custom Prompt Execution Configuration"
      ]
    },
    {
      "cell_type": "markdown",
      "metadata": {},
      "source": [
        "Semantic Kernel supports the configuration of prompt execution. The typical OpenAI and Azure OpenAI settings are exposed as configuration options that provide a different prompt experience. Try changing the MaxTokens, Temperature or other settings.\n",
        "\n",
        "> 📝 Note: The supported prompt settings are dependent on the API plus the specific model version. For example, an AI model paired with an older API may not expose all the configuration settings available. Conversely, a new preview model may not have all the settings available until it becomes generally available. Types of model execution (general versus reasoning) will also have different execution setting parameters. "
      ]
    },
    {
      "cell_type": "code",
      "execution_count": 8,
      "metadata": {
        "dotnet_interactive": {
          "language": "csharp"
        },
        "polyglot_notebook": {
          "kernelName": "csharp"
        },
        "vscode": {
          "languageId": "polyglot-notebook"
        }
      },
      "outputs": [
        {
          "data": {
            "text/markdown": [
              "| Decision-Making Framework       | Description                                                                                     |\n",
              "|---------------------------------|-------------------------------------------------------------------------------------------------|\n",
              "| **SWOT Analysis**               | Evaluates Strengths, Weaknesses, Opportunities, and Threats to provide a structured overview of internal and external factors affecting a decision. |\n",
              "| **Cost-Benefit Analysis**       | Compares the costs and benefits of a decision quantitatively or qualitatively to determine the most advantageous option. |\n",
              "| **Pareto Analysis**             | Focuses on identifying the most significant factors (the 20% that cause 80% of the impact) to prioritize efforts effectively. |\n",
              "| **Decision Matrix**             | Uses a grid to compare multiple options against weighted criteria, ensuring a systematic evaluation of alternatives. |\n",
              "| **Six Thinking Hats**           | Encourages exploring decisions from six perspectives (e.g., logic, emotions, creativity) to ensure a balanced and thorough analysis. |"
            ]
          },
          "metadata": {},
          "output_type": "display_data"
        }
      ],
      "source": [
        "// Create a new OpenAI Prompt Execution settings object\n",
        "var openAIPromptExecutionSettings = new OpenAIPromptExecutionSettings { \n",
        "    MaxTokens = 1000, \n",
        "    Temperature = 0.3, \n",
        "    TopP = 1.0, \n",
        "    FrequencyPenalty = 0.0, \n",
        "    PresencePenalty = 0.0\n",
        "    };\n",
        "\n",
        "// Create a new KernelArguments object with the OpenAI prompt execution settings\n",
        "KernelArguments kernelArguments = new KernelArguments(openAIPromptExecutionSettings);\n",
        "\n",
        "var promptResponseWithOpenAI = await semanticKernel.InvokePromptAsync(simpleDecisionPromptWithMarkdownFormat, kernelArguments);\n",
        "var response = promptResponseWithOpenAI.GetValue<string>();\n",
        "\n",
        "// Display the response from the Semantic Kernel as Markdown\n",
        "response.DisplayAs(\"text/markdown\");"
      ]
    },
    {
      "cell_type": "markdown",
      "metadata": {},
      "source": [
        "### Step 6 - Execute a Decision Prompt with a System Prompt (Custom AI Persona)"
      ]
    },
    {
      "cell_type": "markdown",
      "metadata": {},
      "source": [
        "When building Decision Intelligence prompts, all the typical best practices of prompt engineering apply when using Semantic Kernel.  Such as: \n",
        "* Make the prompt more specific (i.e. decision intelligence)\n",
        "* Add structure to the output with formatting\n",
        "* Provide examples with few-shot prompting\n",
        "* Instruct the AI what to do to avoid doing something else\n",
        "* Provide context (additional information) to the AI\n",
        "* Using Roles in Chat Completion API prompts\n",
        "* Give your AI words of encouragement  \n",
        "\n",
        "A key best practice is to provide a common behavior across all the LLM interactions in a system prompt. This system prompt is passed in on every single call the LLM with Semantic Kernel. By passing the same (or similar) system prompt with every prompt gives your Generative AI system a common persona. This common persona is the foundational building block of building AI agents; where the desired behavior is to have each agent have a unique persona/behavior every time you interact with that agent.\n",
        "\n",
        "Execute the cell below with a dynamic prompt template. Notice the different behavior of the output for decision frameworks. Based on the new system prompt instructions, the decision framework responses are much more robust with decision intelligence information."
      ]
    },
    {
      "cell_type": "code",
      "execution_count": 10,
      "metadata": {
        "dotnet_interactive": {
          "language": "csharp"
        },
        "polyglot_notebook": {
          "kernelName": "csharp"
        },
        "vscode": {
          "languageId": "polyglot-notebook"
        }
      },
      "outputs": [
        {
          "data": {
            "text/markdown": [
              "Here are five decision frameworks that are simple, versatile, and effective for daily situations. Each framework is easy to understand and can be applied across a range of scenarios, from personal decisions to professional problem-solving:\n",
              "\n",
              "---\n",
              "\n",
              "### **1. The Eisenhower Matrix (Urgent vs. Important)**\n",
              "#### **Overview:**\n",
              "This framework helps prioritize tasks and decisions based on urgency and importance. It’s particularly useful for time management and deciding what to focus on.\n",
              "\n",
              "#### **How It Works:**\n",
              "- Create a 2x2 matrix with \"Urgent\" and \"Important\" as axes.\n",
              "- Categorize tasks or decisions into one of four quadrants:\n",
              "  - **Quadrant 1:** Urgent & Important (Do immediately)\n",
              "  - **Quadrant 2:** Not Urgent but Important (Schedule for later)\n",
              "  - **Quadrant 3:** Urgent but Not Important (Delegate or minimize)\n",
              "  - **Quadrant 4:** Neither Urgent nor Important (Eliminate or ignore)\n",
              "\n",
              "#### **Example Use Case:**\n",
              "Deciding how to spend your day when you have competing priorities like work deadlines, errands, and leisure activities.\n",
              "\n",
              "---\n",
              "\n",
              "### **2. The 10/10/10 Rule**\n",
              "#### **Overview:**\n",
              "This framework evaluates decisions based on their impact over three time horizons: 10 minutes, 10 months, and 10 years. It’s ideal for gaining perspective on short-term vs. long-term consequences.\n",
              "\n",
              "#### **How It Works:**\n",
              "- When faced with a decision, ask yourself:\n",
              "  - How will I feel about this decision in **10 minutes**?\n",
              "  - How will I feel about this decision in **10 months**?\n",
              "  - How will I feel about this decision in **10 years**?\n",
              "- Use the answers to weigh immediate gratification against long-term benefits.\n",
              "\n",
              "#### **Example Use Case:**\n",
              "Deciding whether to eat junk food or stick to a healthy diet.\n",
              "\n",
              "---\n",
              "\n",
              "### **3. The Pareto Principle (80/20 Rule)**\n",
              "#### **Overview:**\n",
              "This framework helps identify the most impactful actions or choices by focusing on the 20% of efforts that produce 80% of results. It’s great for optimizing decisions and avoiding wasted effort.\n",
              "\n",
              "#### **How It Works:**\n",
              "- List all possible options or tasks related to your decision.\n",
              "- Identify the few key options that will deliver the majority of the desired outcomes.\n",
              "- Focus your energy on those high-impact options.\n",
              "\n",
              "#### **Example Use Case:**\n",
              "Deciding which tasks to prioritize at work to maximize productivity.\n",
              "\n",
              "---\n",
              "\n",
              "### **4. The Pros and Cons List**\n",
              "#### **Overview:**\n",
              "This classic framework is simple and effective for weighing the advantages and disadvantages of a decision. It’s useful for straightforward choices.\n",
              "\n",
              "#### **How It Works:**\n",
              "- Divide a sheet of paper into two columns: \"Pros\" and \"Cons.\"\n",
              "- List all the positive outcomes (Pros) and negative outcomes (Cons) of the decision.\n",
              "- Compare the two lists to make an informed choice.\n",
              "\n",
              "#### **Example Use Case:**\n",
              "Deciding whether to accept a new job offer or stay in your current role.\n",
              "\n",
              "---\n",
              "\n",
              "### **5. The OODA Loop (Observe, Orient, Decide, Act)**\n",
              "#### **Overview:**\n",
              "Originally developed for military strategy, the OODA Loop is a dynamic framework for making decisions in rapidly changing situations. It’s great for iterative decision-making.\n",
              "\n",
              "#### **How It Works:**\n",
              "- **Observe:** Gather information about the situation.\n",
              "- **Orient:** Analyze the information and understand your options.\n",
              "- **Decide:** Choose the best course of action.\n",
              "- **Act:** Implement the decision, then repeat the loop as necessary.\n",
              "\n",
              "#### **Example Use Case:**\n",
              "Deciding how to respond to a sudden change in plans, like a canceled meeting or unexpected opportunity.\n",
              "\n",
              "---\n",
              "\n",
              "### **Comparison and Application:**\n",
              "| Framework         | Best For                              | Complexity | Time Required |\n",
              "|--------------------|---------------------------------------|------------|---------------|\n",
              "| Eisenhower Matrix  | Prioritizing tasks                   | Low        | Quick         |\n",
              "| 10/10/10 Rule      | Evaluating short vs. long-term impact| Low        | Quick         |\n",
              "| Pareto Principle   | Optimizing effort for results        | Low        | Moderate      |\n",
              "| Pros and Cons List | Simple trade-off decisions           | Low        | Quick         |\n",
              "| OODA Loop          | Dynamic, iterative decisions         | Moderate   | Moderate      |\n",
              "\n",
              "---\n",
              "\n",
              "### **Recommendation:**\n",
              "- **For daily prioritization:** Use the Eisenhower Matrix.\n",
              "- **For long-term perspective:** Apply the 10/10/10 Rule.\n",
              "- **For efficiency:** Leverage the Pareto Principle.\n",
              "- **For straightforward choices:** Create a Pros and Cons List.\n",
              "- **For adaptive situations:** Use the OODA Loop.\n",
              "\n",
              "These frameworks can be combined or adapted based on the complexity and nature of your decision-making needs."
            ]
          },
          "metadata": {},
          "output_type": "display_data"
        }
      ],
      "source": [
        "// Create a System Prompt instruction to override the default system prompt\n",
        "// Add the System Prompt (Persona) to behave like a Decision Intelligence assistant\n",
        "var systemPromptForDecisions = \"\"\"\n",
        "You are a Decision Intelligence Assistant. \n",
        "Assist the user in exploring options, reasoning through decisions, problem-solving.\n",
        "Apply systems thinking to the scenarios. \n",
        "Provide structured, logical, and comprehensive decision advice.\n",
        "\"\"\";\n",
        "var simpleDecisionPrompt = \"\"\"\n",
        "Recommend the top 5 decision frameworks that can be used for daily situations to make various decisions.\n",
        "These frameworks should be very easy to understand and apply to various scenarios.\n",
        "\"\"\";\n",
        "\n",
        "// How the prompt looks like to the LLM\n",
        "var simpleDecisionPromptTemplate = $\"\"\"\n",
        "System Prompt: \n",
        "{systemPromptForDecisions}\n",
        "\n",
        "Request from the user: \n",
        "{simpleDecisionPrompt}\n",
        "\"\"\";\n",
        "\n",
        "// Create a new OpenAI prompt execution settings object\n",
        "var openAIPromptExecutionSettings = new OpenAIPromptExecutionSettings { \n",
        "    ChatSystemPrompt = systemPromptForDecisions,\n",
        "    MaxTokens = 1000, \n",
        "    Temperature = 0.3, \n",
        "    TopP = 1.0, \n",
        "    FrequencyPenalty = 0.0, \n",
        "    PresencePenalty = 0.0\n",
        "    };\n",
        "KernelArguments kernelArguments = new KernelArguments(openAIPromptExecutionSettings);\n",
        "\n",
        "\n",
        "var promptResponseWithTemplate = await semanticKernel.InvokePromptAsync(simpleDecisionPrompt, kernelArguments);\n",
        "var response = promptResponseWithTemplate.GetValue<string>();\n",
        "\n",
        "// Display the response from the Semantic Kernel as Markdown\n",
        "response.DisplayAs(\"text/markdown\");"
      ]
    },
    {
      "cell_type": "markdown",
      "metadata": {},
      "source": [
        "### Step 7 - Execute a Decision Scenario with a System Prompt (Custom AI Persona)"
      ]
    },
    {
      "cell_type": "markdown",
      "metadata": {},
      "source": [
        "In this step a decision scenario will be introduced requiring analysis and a recommendation performed by Artificial Intelligence. The full **Decision Intelligence** framework will not be used, rather a simple request for Artificial Intelligence to recommend a path forward (recommendation) for the human user to ultimately make the final decision.  \n",
        "\n",
        "**Decision Scenario:** Your high school daughter Alex is deciding whether to enroll directly in a four-year university or start at a community college to earn an associate degree first. These are Alex's main decision factors: financial, career uncertainty, academic consistency and future impact. In addition, you have all the decision factor detailed data available to pass to the GenAI model prompt. You are looking for an impartial (non-family) recommendation. Can Artificial Intelligence be that impartial judge to help Alex decide? \n",
        "\n",
        "<img style=\"display: block; margin: auto;\" width =\"700px\" src=\"https://raw.githubusercontent.com/bartczernicki/DecisionIntelligence.GenAI.Workshop/main/Images/Scenarios/Scenario-SimpleDecision-College.png\">"
      ]
    },
    {
      "cell_type": "code",
      "execution_count": 11,
      "metadata": {
        "dotnet_interactive": {
          "language": "csharp"
        },
        "polyglot_notebook": {
          "kernelName": "csharp"
        },
        "vscode": {
          "languageId": "polyglot-notebook"
        }
      },
      "outputs": [
        {
          "data": {
            "text/markdown": [
              "### Recommendation Table: Should Alex Enroll Directly in a Four-Year University or Start at a Community College?\n",
              "\n",
              "| **Decision Factor**            | **Four-Year University**                                                                 | **Community College**                                                                 | **Recommendation**                                                                 |\n",
              "|--------------------------------|----------------------------------------------------------------------------------------|--------------------------------------------------------------------------------------|-----------------------------------------------------------------------------------|\n",
              "| **Financial Considerations**   | High cost ($50,000-$60,000/year); family can afford with loans, but debt is a concern.  | Low cost ($3,000-$5,000/year); substantial savings; transferring may add costs later.| Community college offers significant savings, reducing financial stress and long-term debt. |\n",
              "| **Career and Major Uncertainty** | Risk of switching majors could extend time and cost; limited flexibility to explore.    | Greater flexibility to explore interests without significant financial consequences. | Community college allows Alex to explore majors with lower financial risk.        |\n",
              "| **Academic Consistency and Networking** | Early access to professors, internships, and campus groups; stronger continuity.     | Delayed access to networking opportunities; adjusting to a new campus later.         | Four-year university offers earlier access to networking, but community college provides time to focus. |\n",
              "| **Future Impact**              | Builds professional network sooner; potential for higher debt impacting long-term finances. | Lower debt improves financial stability; transferring may require adjustment but is manageable. | Community college minimizes financial risk while still allowing later networking. |\n",
              "\n",
              "### Final Recommendation:\n",
              "Based on the decision factors, **Alex should start at a community college**. This option provides the flexibility to explore her interests at a lower financial cost, reducing the risk of incurring significant student loan debt if she changes her major. While transferring to a four-year university later may require adjustment, Alex can still build a professional network and gain relevant experience during her final two years. This approach balances her academic uncertainty, financial concerns, and long-term career prospects effectively."
            ]
          },
          "metadata": {},
          "output_type": "display_data"
        }
      ],
      "source": [
        "// Create a system prompt instruction to override the default system prompt\n",
        "// Add the System Prompt (Persona) to behave like a decision intelligence assistant\n",
        "var systemPromptForDecisions = \"\"\"\n",
        "You are a Decision Intelligence Assistant. \n",
        "Assist the user in exploring options, reasoning through decisions, problem-solving.\n",
        "Apply systems thinking to the scenarios. \n",
        "Provide structured, logical, and comprehensive decision advice.\n",
        "\"\"\";\n",
        "// Provide a description of the decision scenario and the desired output \n",
        "// Provide detailed Decision Scenario considerations and information about Alex (the decision-maker) \n",
        "var scenarioDecisionPrompt = \"\"\"\n",
        "Imagine you are advising a daughter named Alex who is deciding whether to enroll directly in a well-regarded four-year \n",
        "university or start at a community college to earn an associate degree first. \n",
        "\n",
        "Make a single recommendation based on the following decision factor details. \n",
        "Output the recommendation in a Markdown table format. \n",
        "\n",
        "Financial Considerations:\n",
        "Alex's four-year university will cost significantly more in tuition, housing, and related expenses \n",
        "(estimated $50,000-$60,000 per year). A two-year associate program at a local community college could \n",
        "save substantial money (estimated $3,000-$5,000 per year), but Alex may have to transfer to a \n",
        "four-year institution later to complete a bachelor's degree. The family can afford the four-year university, \n",
        "with some loans, but the cost is only a medium concern. \n",
        "\n",
        "Career and Major Uncertainty:\n",
        "Alex is not entirely sure what she wants to major in. She is torn between business, psychology, and \n",
        "possibly something in the arts. She worries that if she starts at the four-year university, \n",
        "she might switch majors and incur extra time and cost. On the other hand, \n",
        "community college might give her space to explore options, \n",
        "but transferring could mean adjusting to a new campus and curriculum midway through.\n",
        "\n",
        "Academic Consistency and Networking:\n",
        "Going straight to the four-year university would allow Alex to build early relationships with professors, \n",
        "join campus groups, and potentially secure internships or research opportunities. Starting at community college might \n",
        "delay those opportunities, but it could also let her explore different fields at a lower cost. \n",
        "She might miss out on the “full campus” experience early on, but transferring later means she could \n",
        "still build connections, just on a different timeline. \n",
        "\n",
        "Future Impact: \n",
        "Alex is unsure of the short-term future impact of her decision that might be hard to remediate. \n",
        "Alex wants a solid professional network and relevant experience when she graduates. \n",
        "Alex is not overly concerned about the social aspect of college, \n",
        "but feels she can build a quality network in a four-year university setting sooner. \n",
        "She is also concerned about taking on significant student loan debt. The decision affects not only her immediate academic path but \n",
        "also her long-term financial stability and career prospects. \n",
        "\"\"\";\n",
        "\n",
        "// How the prompt looks like to the LLM\n",
        "var scenarioDecisionPromptTemplate = $\"\"\"\n",
        "System Prompt: \n",
        "{systemPromptForDecisions}\n",
        "\n",
        "Request from the user: \n",
        "{scenarioDecisionPrompt}\n",
        "\"\"\";\n",
        "\n",
        "// Create a new OpenAI prompt execution settings object\n",
        "var openAIPromptExecutionSettings = new OpenAIPromptExecutionSettings { \n",
        "    ChatSystemPrompt = systemPromptForDecisions,\n",
        "    MaxTokens = 1000, // Increase the max tokens to allow for a more detailed response\n",
        "    Temperature = 0.3, \n",
        "    TopP = 1.0, \n",
        "    FrequencyPenalty = 0.0, \n",
        "    PresencePenalty = 0.0\n",
        "    };\n",
        "KernelArguments kernelArguments = new KernelArguments(openAIPromptExecutionSettings);\n",
        "\n",
        "var promptResponseScenario = await semanticKernel.InvokePromptAsync(scenarioDecisionPromptTemplate, kernelArguments);\n",
        "var response = promptResponseScenario.GetValue<string>();\n",
        "\n",
        "// Display the response from the Semantic Kernel as Markdown\n",
        "response.DisplayAs(\"text/markdown\");"
      ]
    }
  ],
  "metadata": {
    "kernelspec": {
      "display_name": ".NET (C#)",
      "language": "C#",
      "name": ".net-csharp"
    },
    "language_info": {
      "name": "csharp"
    },
    "polyglot_notebook": {
      "kernelInfo": {
        "defaultKernelName": "csharp",
        "items": [
          {
            "aliases": [],
            "name": "csharp"
          }
        ]
      }
    }
  },
  "nbformat": 4,
  "nbformat_minor": 2
}
