{
  "cells": [
    {
      "cell_type": "markdown",
      "metadata": {},
      "source": [
        "<div style=\"display: flex; align-items: center;\">\n",
        "  <img src=\"https://raw.githubusercontent.com/bartczernicki/DecisionIntelligence.GenAI.Workshop/main/Images/DecisionIntelligenceSemanticKernelLogo.png\" width=\"60px\" style=\"margin-right: 10px;\">\n",
        "  <span style=\"font-size: 1.5em; font-weight: bold;\">Semantic Kernel - Simple Decision Prompts</span>\n",
        "</div>"
      ]
    },
    {
      "cell_type": "markdown",
      "metadata": {},
      "source": [
        "Decision Intelligence applied in this module:  \n",
        "* Listing of various decision-making frameworks and with their descriptions by using GenAI prompt engineering  \n",
        "* Creating custom AI personas with a system decision prompt  \n",
        "* Generating decision outputs using easier to consume formats (Markdown)     \n",
        "\n",
        "Prompts are the fundamental building blocks for eliciting effective responses from AI models. This module demonstrates how to use common prompt engineering techniques within Semantic Kernel. If you’ve used ChatGPT or Microsoft Copilot, you’re already familiar with prompting: given an instruction, a language model predicts the most likely and relevant response. With Semantic Kernel, you can build applications, services, and APIs that execute these prompts.  \n",
        "\n",
        "For more information on using prompts with Semantic Kernel, visit: https://learn.microsoft.com/en-us/semantic-kernel/prompts/your-first-prompt  \n",
        "\n",
        "The process of carefully crafting questions or instructions for AI is called **Prompt Engineering**. Prompt Engineering involves designing and refining input prompts—text or questions—so that the AI produces responses that are more relevant, useful, or accurate. The goal is to maximize the quality and clarity of the AI’s output, often by using specific wording, added context, or concrete examples within the prompt.\n",
        "\n",
        "By combining Decision Intelligence with Prompt Engineering, you can create “Generative AI Decision Intelligence.” This approach leverages GenAI models to reason through complex tasks, gather intelligence, recommend decisions, and communicate results more effectively."
      ]
    },
    {
      "cell_type": "markdown",
      "metadata": {},
      "source": [
        "-----\n",
        "### Step 1 - Initialize Configuration Builder & Build the Semantic Kernel Orchestration "
      ]
    },
    {
      "cell_type": "markdown",
      "metadata": {},
      "source": [
        "Execute the next two cells to:\n",
        "* Use the Configuration Builder to load the API secrets.  \n",
        "* Use the API configuration to build the Semantic Kernel orchestrator."
      ]
    },
    {
      "cell_type": "code",
      "execution_count": 1,
      "metadata": {
        "dotnet_interactive": {
          "language": "csharp"
        },
        "polyglot_notebook": {
          "kernelName": "csharp"
        }
      },
      "outputs": [
        {
          "data": {
            "text/html": [
              "<div><div></div><div></div><div><strong>Installed Packages</strong><ul><li><span>Microsoft.Extensions.Configuration, 9.0.6</span></li><li><span>Microsoft.Extensions.Configuration.Json, 9.0.6</span></li></ul></div></div>"
            ]
          },
          "metadata": {},
          "output_type": "display_data"
        }
      ],
      "source": [
        "// Import the required NuGet configuration packages\n",
        "#r \"nuget: Microsoft.Extensions.Configuration, 9.0.6\"\n",
        "#r \"nuget: Microsoft.Extensions.Configuration.Json, 9.0.6\"\n",
        "\n",
        "using Microsoft.Extensions.Configuration.Json;\n",
        "using Microsoft.Extensions.Configuration;\n",
        "using System.IO;\n",
        "\n",
        "// Load the configuration settings from the local.settings.json and secrets.settings.json files\n",
        "// The secrets.settings.json file is used to store sensitive information such as API keys\n",
        "var configurationBuilder = new ConfigurationBuilder()\n",
        "    .SetBasePath(Directory.GetCurrentDirectory())\n",
        "    .AddJsonFile(\"local.settings.json\", optional: true, reloadOnChange: true)\n",
        "    .AddJsonFile(\"secrets.settings.json\", optional: true, reloadOnChange: true);\n",
        "var config = configurationBuilder.Build();\n",
        "\n",
        "// IMPORTANT: You ONLY NEED either Azure OpenAI or OpenAI connection info, not both.\n",
        "// Azure OpenAI Connection Info\n",
        "var azureOpenAIEndpoint = config[\"AzureOpenAI:Endpoint\"];\n",
        "var azureOpenAIAPIKey = config[\"AzureOpenAI:APIKey\"];\n",
        "var azureOpenAIModelDeploymentName = config[\"AzureOpenAI:ModelDeploymentName\"];\n",
        "// OpenAI Connection Info \n",
        "var openAIAPIKey = config[\"OpenAI:APIKey\"];\n",
        "var openAIModelId = config[\"OpenAI:ModelId\"];"
      ]
    },
    {
      "cell_type": "code",
      "execution_count": 2,
      "metadata": {
        "dotnet_interactive": {
          "language": "csharp"
        },
        "polyglot_notebook": {
          "kernelName": "csharp"
        }
      },
      "outputs": [
        {
          "data": {
            "text/html": [
              "<div><div></div><div></div><div><strong>Installed Packages</strong><ul><li><span>Microsoft.SemanticKernel, 1.60.0</span></li></ul></div></div>"
            ]
          },
          "metadata": {},
          "output_type": "display_data"
        },
        {
          "name": "stdout",
          "output_type": "stream",
          "text": [
            "Using Azure OpenAI Service\n"
          ]
        }
      ],
      "source": [
        "// Import the Semantic Kernel NuGet package\n",
        "#r \"nuget: Microsoft.SemanticKernel, 1.60.0\"\n",
        "\n",
        "using Microsoft.Extensions.DependencyInjection.Extensions;\n",
        "using Microsoft.Extensions.DependencyInjection;\n",
        "using Microsoft.SemanticKernel;\n",
        "using Microsoft.SemanticKernel.ChatCompletion;\n",
        "using Microsoft.SemanticKernel.Connectors.OpenAI;\n",
        "\n",
        "Kernel semanticKernel;\n",
        "\n",
        "// Set the flag to use Azure OpenAI or OpenAI. False to use OpenAI, True to use Azure OpenAI\n",
        "var useAzureOpenAI = true;\n",
        "\n",
        "// Create a new Semantic Kernel instance\n",
        "if (useAzureOpenAI)\n",
        "{\n",
        "    Console.WriteLine(\"Using Azure OpenAI Service\");\n",
        "    semanticKernel = Kernel.CreateBuilder()\n",
        "        .AddAzureOpenAIChatCompletion(\n",
        "            deploymentName: azureOpenAIModelDeploymentName,\n",
        "            endpoint: azureOpenAIEndpoint,\n",
        "            apiKey: azureOpenAIAPIKey)\n",
        "        .Build();\n",
        "}\n",
        "else\n",
        "{\n",
        "    Console.WriteLine(\"Using OpenAI Service\");\n",
        "    semanticKernel = Kernel.CreateBuilder()\n",
        "        .AddOpenAIChatCompletion(\n",
        "            modelId: openAIModelId,\n",
        "            apiKey: openAIAPIKey)\n",
        "        .Build();\n",
        "}"
      ]
    },
    {
      "cell_type": "markdown",
      "metadata": {},
      "source": [
        "-----\n",
        "### Step 2 - Execute a Decision Prompt "
      ]
    },
    {
      "cell_type": "markdown",
      "metadata": {},
      "source": [
        "Many LLMs and even SLMs have been trained on knowledge that includes decision frameworks & processes. This makes LLMs great assistants to:\n",
        "* Provide proper Decision Frames\n",
        "* Gather Intelligence (information) in order to make a decision\n",
        "* Recommend Decision Frameworks to make a high-quality decision\n",
        "* Provide feedback to evaluate a Decision\n",
        "\n",
        "Once the Semantic Kernel instance is built, it is ready to intake prompt instructions. In the prompt below, the Semantic Kernel is instructed to provide examples of decision frameworks \"trained into\" the knowledge of the configured AI model.  "
      ]
    },
    {
      "cell_type": "code",
      "execution_count": 3,
      "metadata": {
        "dotnet_interactive": {
          "language": "csharp"
        },
        "polyglot_notebook": {
          "kernelName": "csharp"
        }
      },
      "outputs": [
        {
          "data": {
            "text/markdown": [
              "### 1. SWOT Analysis  \n",
              "**Description:**  \n",
              "SWOT stands for Strengths, Weaknesses, Opportunities, and Threats. It provides a structured approach to analyzing both internal and external factors affecting a decision. By clearly identifying these aspects, decision-makers can better weigh options, anticipate challenges, and capitalize on advantages in strategic planning, business development, or project management.\n",
              "\n",
              "### 2. Cost-Benefit Analysis (CBA)  \n",
              "**Description:**  \n",
              "CBA involves comparing the total expected costs against the total anticipated benefits of one or more actions to choose the most economically sound option. This framework is especially effective for assessing the value or return on investment in financial, policy, or project-related decisions, supporting rational and evidence-based choices.\n",
              "\n",
              "### 3. The Eisenhower Matrix (Urgent-Important Matrix)  \n",
              "**Description:**  \n",
              "This framework helps prioritize tasks by categorizing them based on urgency and importance. By organizing actions into four quadrants (urgent/important, not urgent/important, urgent/not important, not urgent/not important), individuals and teams can focus on what truly matters, reduce wasted effort, and manage time more effectively.\n",
              "\n",
              "### 4. OODA Loop (Observe, Orient, Decide, Act)  \n",
              "**Description:**  \n",
              "The OODA Loop is a cyclical model that encourages continuous assessment and adaptation. By systematically observing a situation, orienting oneself with available information, deciding on a course of action, and acting, this framework fosters agile and responsive decision-making, particularly useful in dynamic and fast-changing environments such as military operations, crisis management, or competitive business.\n",
              "\n",
              "### 5. Six Thinking Hats  \n",
              "**Description:**  \n",
              "Developed by Edward de Bono, this framework encourages considering a problem from six distinct perspectives: factual (White), emotional (Red), pessimistic (Black), optimistic (Yellow), creative (Green), and process-oriented (Blue). By deliberately examining a decision through these \"hats,\" teams and individuals can avoid groupthink, ensure comprehensive analysis, and stimulate balanced, creative solutions in brainstorming and collaborative scenarios."
            ]
          },
          "metadata": {},
          "output_type": "display_data"
        }
      ],
      "source": [
        "// A Decision Intelligence prompt to help with describing decision-making frameworks\n",
        "var simpleDecisionPrompt = \"\"\"\n",
        "Identify and list 5 decision-making frameworks that can enhance the quality of decisions. \n",
        "Briefly describe how each decision-making framework supports better analysis and reasoning in various scenarios.\n",
        "\n",
        "General Formatting Instructions:\n",
        "When generating Markdown, do not use any headings higher than ###. \n",
        "Avoid # and ## headers. Use only ###, ####, or lower-level headings if necessary. \n",
        "All top-level section headers should start at ### or lower.  \n",
        "\"\"\";\n",
        "\n",
        "var simplePromptResponse = await semanticKernel.InvokePromptAsync(simpleDecisionPrompt);\n",
        "var response = simplePromptResponse.GetValue<string>(); \n",
        "\n",
        "// Display the response from the Semantic Kernel as Markdown format\n",
        "response.DisplayAs(\"text/markdown\");"
      ]
    },
    {
      "cell_type": "markdown",
      "metadata": {},
      "source": [
        "-----\n",
        "### Step 3 - Execute a Decision Prompt with Streaming"
      ]
    },
    {
      "cell_type": "markdown",
      "metadata": {},
      "source": [
        "Semantic Kernel supports prompt response streaming when invoking the prompt. This allows responses to be streamed to the client as soon as they are made available by the LLM and service. Below the same decision prompt is executed. However, notice that chunks are streamed and can be read by the user as soon as they appear. \n",
        "\n",
        "> 📝 **Note:** An average human can read between 25-40 Tokens / second. Therefore, while streaming certainly helps with providing AI output to the user, it begins to lose its effectiveness at large token velocity. Furthermore, certain intermediate and governance (Responsible AI) outputs can become more complex to integrat with streaming."
      ]
    },
    {
      "cell_type": "code",
      "execution_count": 4,
      "metadata": {
        "dotnet_interactive": {
          "language": "csharp"
        },
        "polyglot_notebook": {
          "kernelName": "csharp"
        }
      },
      "outputs": [
        {
          "name": "stdout",
          "output_type": "stream",
          "text": [
            "### 1. SWOT Analysis\n",
            "\n",
            "**Description:**  \n",
            "SWOT stands for Strengths, Weaknesses, Opportunities, and Threats. This framework helps decision-makers systematically analyze internal and external factors affecting a decision.\n",
            "\n",
            "**How it Enhances Decisions:**  \n",
            "By organizing relevant information into four categories, SWOT Analysis clarifies advantages and challenges, ensuring that both positive and negative factors are considered. It aids strategic planning, risk assessment, and prioritization in scenarios ranging from business strategy to personal decisions.\n",
            "\n",
            "---\n",
            "\n",
            "### 2. Cost-Benefit Analysis (CBA)\n",
            "\n",
            "**Description:**  \n",
            "Cost-Benefit Analysis involves listing and quantifying all expected costs and benefits of different alternatives before making a decision.\n",
            "\n",
            "**How it Enhances Decisions:**  \n",
            "CBA supports better reasoning by comparing tangible and intangible outcomes. It allows decision-makers to evaluate the net value of each option, leading to choices that maximize benefits and minimize costs in fields like project planning, investments, and policy-making.\n",
            "\n",
            "---\n",
            "\n",
            "### 3. The OODA Loop\n",
            "\n",
            "**Description:**  \n",
            "OODA stands for Observe, Orient, Decide, Act. This iterative process was first developed for military applications but is widely used in business and emergency management.\n",
            "\n",
            "**How it Enhances Decisions:**  \n",
            "The OODA Loop encourages continuous situational awareness and adaptability. By moving rapidly through observation, analysis, decision, and action, teams can respond effectively to dynamic environments and outpace competitors or challenges.\n",
            "\n",
            "---\n",
            "\n",
            "### 4. Six Thinking Hats\n",
            "\n",
            "**Description:**  \n",
            "Developed by Edward de Bono, the Six Thinking Hats is a role-playing framework where participants adopt different perspectives—such as logic, emotion, caution, optimism, creativity, and management.\n",
            "\n",
            "**How it Enhances Decisions:**  \n",
            "This method ensures a balanced and holistic exploration of each decision by deliberately focusing on different aspects in succession. It helps groups avoid groupthink, uncover blind spots, and generate creative solutions in collaborative settings.\n",
            "\n",
            "---\n",
            "\n",
            "### 5. Decision Matrix (Weighted Scoring Model)\n",
            "\n",
            "**Description:**  \n",
            "The Decision Matrix involves listing decision criteria, assigning weights to each based on importance, and scoring each alternative accordingly.\n",
            "\n",
            "**How it Enhances Decisions:**  \n",
            "This structured approach allows for comprehensive comparison of multiple, complex alternatives. By quantifying subjective judgments and incorporating multiple criteria, it delivers transparent and rational recommendations in scenarios such as vendor selection, product design, and prioritizing initiatives."
          ]
        }
      ],
      "source": [
        "// Decision Prompt using Streaming output chunks \n",
        "await foreach (var streamChunk in semanticKernel.InvokePromptStreamingAsync(simpleDecisionPrompt))\n",
        "{\n",
        "   Console.Write(streamChunk);\n",
        "}"
      ]
    },
    {
      "cell_type": "markdown",
      "metadata": {},
      "source": [
        "-----\n",
        "### Step 4 - Execute a Decision Prompt with Improved Output Formatting  "
      ]
    },
    {
      "cell_type": "markdown",
      "metadata": {},
      "source": [
        "Generative AI models have an inherent ability to not only provide decision reasoning analysis, but also format the output in a desired format. This could be as simple as instructing the Generative AI model to format the decision as a single sentence, paragraphs or lists. However more sophisticated output generations can be instructed. For example, the GenAI model can output Markdown or even extract information and fill in a desired schema (JSON). Specifically for Decision Intelligence, you can ask the GenAI models to apply decision communication frameworks to the generation as well. \n",
        "\n",
        "Execute the simple decision prompt below with Markdown formatting output. This table can now be rendered in a Markdown document for easy human comprehension. Markdown tables and other formats can be used on web sites, document, programming code etc. Even Generative AI models understand Markdown format, which can not only be used for output but inside input prompts.  "
      ]
    },
    {
      "cell_type": "code",
      "execution_count": 8,
      "metadata": {
        "dotnet_interactive": {
          "language": "csharp"
        },
        "polyglot_notebook": {
          "kernelName": "csharp"
        }
      },
      "outputs": [
        {
          "data": {
            "text/markdown": [
              "| Framework              | Description                                                                                                                                      | How It Supports Better Analysis and Reasoning                                                                                       |\n",
              "|------------------------|--------------------------------------------------------------------------------------------------------------------------------------------------|-------------------------------------------------------------------------------------------------------------------------------------|\n",
              "| SWOT Analysis          | Evaluates Strengths, Weaknesses, Opportunities, and Threats related to a decision, project, or organization.                                      | Encourages comprehensive situational understanding, balancing internal and external factors for more informed strategies.            |\n",
              "| Cost-Benefit Analysis  | Compares the costs and benefits of alternative choices to determine their economic viability.                                                     | Provides a quantitative basis for evaluating options, clarifying trade-offs, and supporting rational, value-driven decisions.        |\n",
              "| The Five Whys          | Repeatedly asks \"Why?\" to drill down to the root cause of a problem or decision.                                                                 | Reveals underlying causes, reducing superficial reasoning and promoting solutions that address core issues for better outcomes.      |\n",
              "| Decision Matrix        | Lists options against weighted criteria to objectively score and rank alternatives.                                                               | Structures evaluation, reduces bias, and enables side-by-side comparison, resulting in more objective and transparent decisions.     |\n",
              "| OODA Loop              | Stands for Observe, Orient, Decide, Act—a cyclical process for decision-making in dynamic environments.                                           | Promotes situational awareness, rapid assessment, adaptation, and continuous learning for agile, evidence-based decision-making.     |"
            ]
          },
          "metadata": {},
          "output_type": "display_data"
        }
      ],
      "source": [
        "// A new decision prompt to help with describing decision-making frameworks using Markdown format\n",
        "var simpleDecisionPromptWithMarkdownFormat = \"\"\"\n",
        "Identify and list 5 decision-making frameworks that can enhance the quality of decisions. \n",
        "Briefly describe how each decision-making framework supports better analysis and reasoning in various scenarios.\n",
        "\n",
        "Format the response using only a Markdown table. Only return a Markdown table. \n",
        "Do not enclose the table in triple backticks.\n",
        "\"\"\";\n",
        "\n",
        "var simplePromptResponse = await semanticKernel.InvokePromptAsync(simpleDecisionPromptWithMarkdownFormat);\n",
        "var response = simplePromptResponse.GetValue<string>();\n",
        "\n",
        "// Display the response from the Semantic Kernel as Markdown\n",
        "response.DisplayAs(\"text/markdown\");"
      ]
    },
    {
      "cell_type": "markdown",
      "metadata": {},
      "source": [
        "-----\n",
        "### Step 5 - Execute a Decision Prompt with a Custom Prompt Execution Configuration"
      ]
    },
    {
      "cell_type": "markdown",
      "metadata": {},
      "source": [
        "Semantic Kernel supports the configuration of prompt execution. The typical OpenAI and Azure OpenAI settings are exposed as configuration options that provide a different prompt experience. Try changing the MaxTokens, Temperature or other settings.\n",
        "\n",
        "> **📝 Note:** The supported prompt settings are dependent on the API plus the specific model version. For example, an AI model paired with an older API may not expose all the configuration settings available. Conversely, a new preview model may not have all the settings available until it becomes generally available. Types of model execution (general versus reasoning) will also have different execution setting parameters. "
      ]
    },
    {
      "cell_type": "code",
      "execution_count": 9,
      "metadata": {
        "dotnet_interactive": {
          "language": "csharp"
        },
        "polyglot_notebook": {
          "kernelName": "csharp"
        }
      },
      "outputs": [
        {
          "data": {
            "text/markdown": [
              "| Framework                | Description                                                                                      | How It Enhances Decision Quality                                                         |\n",
              "|--------------------------|--------------------------------------------------------------------------------------------------|------------------------------------------------------------------------------------------|\n",
              "| SWOT Analysis            | Evaluates Strengths, Weaknesses, Opportunities, and Threats related to a decision or project.    | Encourages comprehensive internal and external analysis, clarifying risks and advantages. |\n",
              "| Cost-Benefit Analysis    | Compares the costs and benefits of different options quantitatively or qualitatively.             | Supports rational choices by weighing pros and cons, aiding resource allocation.          |\n",
              "| Decision Matrix          | Ranks options against weighted criteria to identify the most suitable choice.                     | Provides structured, objective comparison, reducing bias and clarifying priorities.       |\n",
              "| Six Thinking Hats        | Uses six distinct perspectives (hats) to examine a problem from multiple angles.                  | Promotes balanced, creative, and critical thinking, reducing blind spots.                |\n",
              "| OODA Loop                | Cycles through Observe, Orient, Decide, and Act for rapid, adaptive decision-making.              | Enhances responsiveness and iterative improvement, especially in dynamic environments.    |"
            ]
          },
          "metadata": {},
          "output_type": "display_data"
        }
      ],
      "source": [
        "// Create a new OpenAI Prompt Execution settings object\n",
        "var openAIPromptExecutionSettings = new OpenAIPromptExecutionSettings { \n",
        "    MaxTokens = 1000, \n",
        "    Temperature = 0.3, \n",
        "    TopP = 1.0, \n",
        "    FrequencyPenalty = 0.0, \n",
        "    PresencePenalty = 0.0\n",
        "    };\n",
        "\n",
        "// Create a new KernelArguments object with the OpenAI prompt execution settings\n",
        "KernelArguments kernelArguments = new KernelArguments(openAIPromptExecutionSettings);\n",
        "\n",
        "var promptResponseWithOpenAI = await semanticKernel.InvokePromptAsync(simpleDecisionPromptWithMarkdownFormat, kernelArguments);\n",
        "var response = promptResponseWithOpenAI.GetValue<string>();\n",
        "\n",
        "// Display the response from the Semantic Kernel as Markdown\n",
        "response.DisplayAs(\"text/markdown\");"
      ]
    },
    {
      "cell_type": "markdown",
      "metadata": {},
      "source": [
        "-----\n",
        "### Step 6 - Execute a Decision Prompt with a System Prompt (Custom AI Persona)"
      ]
    },
    {
      "cell_type": "markdown",
      "metadata": {},
      "source": [
        "When building Decision Intelligence prompts, all the typical best practices of prompt engineering apply when using Semantic Kernel.  Such as: \n",
        "* Make the prompt more specific (i.e. decision intelligence)\n",
        "* Add structure to the output with formatting\n",
        "* Provide examples with few-shot prompting\n",
        "* Instruct the AI what to do to avoid doing something else\n",
        "* Provide context (additional information) to the AI\n",
        "* Using Roles in Chat Completion API prompts\n",
        "* Give your AI words of encouragement  \n",
        "\n",
        "A key best practice is to provide a common behavior across all the LLM interactions in a system prompt. This system prompt is passed in on every single call the LLM with Semantic Kernel. By passing the same (or similar) system prompt with every prompt gives your Generative AI system a common persona. This common persona is the foundational building block of building AI agents; where the desired behavior is to have each agent have a unique persona/behavior every time you interact with that agent.\n",
        "\n",
        "Execute the cell below with a dynamic prompt template. Notice the different behavior of the output for decision frameworks. Based on the new system prompt instructions, the decision framework responses are much more robust with decision intelligence information."
      ]
    },
    {
      "cell_type": "code",
      "execution_count": 25,
      "metadata": {
        "dotnet_interactive": {
          "language": "csharp"
        },
        "polyglot_notebook": {
          "kernelName": "csharp"
        }
      },
      "outputs": [
        {
          "data": {
            "text/markdown": [
              "### 1. Pros and Cons List\n",
              "\n",
              "**How it works:**  \n",
              "List the positive (pros) and negative (cons) aspects of each option. Compare the lists to see which option has more advantages or fewer drawbacks.\n",
              "\n",
              "**Why it’s useful:**  \n",
              "- Simple and intuitive  \n",
              "- Helps clarify trade-offs  \n",
              "- Can be used for almost any decision, big or small\n",
              "\n",
              "**Example:**  \n",
              "Should I cook dinner or order takeout? List pros and cons for each.\n",
              "\n",
              "  \n",
              "\n",
              "### 2. Eisenhower Matrix (Urgent-Important Matrix)\n",
              "\n",
              "**How it works:**  \n",
              "Categorize tasks or decisions into four quadrants:  \n",
              "- Urgent and Important  \n",
              "- Important but Not Urgent  \n",
              "- Urgent but Not Important  \n",
              "- Neither Urgent nor Important\n",
              "\n",
              "**Why it’s useful:**  \n",
              "- Helps prioritize actions  \n",
              "- Reduces overwhelm by focusing on what truly matters\n",
              "\n",
              "**Example:**  \n",
              "Deciding which tasks to do first in a busy day.\n",
              "\n",
              "  \n",
              "\n",
              "### 3. 2x2 Decision Grid\n",
              "\n",
              "**How it works:**  \n",
              "Plot options on a grid with two key criteria (e.g., cost vs. benefit, effort vs. impact). This visualizes which options offer the best trade-off.\n",
              "\n",
              "**Why it’s useful:**  \n",
              "- Quick visual comparison  \n",
              "- Forces you to focus on what matters most\n",
              "\n",
              "**Example:**  \n",
              "Choosing between different weekend activities based on fun and cost.\n",
              "\n",
              "  \n",
              "\n",
              "### 4. The Five Whys\n",
              "\n",
              "**How it works:**  \n",
              "Ask \"Why?\" five times (or as many as needed) to get to the root cause or underlying motivation for a decision.\n",
              "\n",
              "**Why it’s useful:**  \n",
              "- Clarifies the real problem or need  \n",
              "- Prevents superficial decision-making\n",
              "\n",
              "**Example:**  \n",
              "Why am I considering changing jobs? (Keep asking why to uncover true motivations.)\n",
              "\n",
              "  \n",
              "\n",
              "### 5. OODA Loop (Observe, Orient, Decide, Act)\n",
              "\n",
              "**How it works:**  \n",
              "- Observe: Gather information  \n",
              "- Orient: Analyze and interpret  \n",
              "- Decide: Choose an action  \n",
              "- Act: Implement the decision  \n",
              "Repeat as needed.\n",
              "\n",
              "**Why it’s useful:**  \n",
              "- Encourages quick, iterative decision-making  \n",
              "- Adaptable to changing situations\n",
              "\n",
              "**Example:**  \n",
              "Deciding how to respond to an unexpected event during your day.\n",
              "\n",
              "  \n",
              "\n",
              "### Summary Table\n",
              "\n",
              "| Framework           | Best For                       | Key Benefit                |\n",
              "|---------------------|-------------------------------|----------------------------|\n",
              "| Pros and Cons List  | Everyday choices              | Clarity and simplicity     |\n",
              "| Eisenhower Matrix   | Task prioritization           | Focus on importance        |\n",
              "| 2x2 Decision Grid   | Comparing options             | Visual decision support    |\n",
              "| Five Whys           | Understanding motivations     | Root cause analysis        |\n",
              "| OODA Loop           | Dynamic situations            | Fast, adaptive decisions   |\n",
              "\n",
              "These frameworks are easy to learn, flexible, and can be applied to a wide range of daily decisions."
            ]
          },
          "metadata": {},
          "output_type": "display_data"
        }
      ],
      "source": [
        "// Create a System Prompt instruction to override the default system prompt\n",
        "// Add the System Prompt (Persona) to behave like a Decision Intelligence assistant\n",
        "var systemPromptForDecisions = \"\"\"\n",
        "You are a Decision Intelligence Assistant. \n",
        "Assist the user in exploring options, reasoning through decisions, problem-solving.\n",
        "Apply systems thinking to the scenarios. \n",
        "Provide structured, logical, and comprehensive decision advice.\n",
        "\n",
        "Output Format Instructions: \n",
        "When generating Markdown, do not use any headings higher than ###. \n",
        "Avoid # and ## headers. Use only ###, ####, or lower-level headings if necessary. \n",
        "All top-level section headers should start at ### or lower. \n",
        "Never use ---, ***, or ___ for horizontal lines. There should be no horizontal lines in the output.\n",
        "For separation, use extra extra spacing. Do not any render horizontal lines.\n",
        "\"\"\";\n",
        "var simpleDecisionPrompt = \"\"\"\n",
        "Recommend the top 5 decision frameworks that can be used for daily situations to make various decisions.\n",
        "These frameworks should be very easy to understand and apply to various scenarios.\n",
        "\"\"\";\n",
        "\n",
        "// How the prompt looks like to the LLM\n",
        "var simpleDecisionPromptTemplate = $\"\"\"\n",
        "System Prompt: \n",
        "{systemPromptForDecisions}\n",
        "\n",
        "Request from the user: \n",
        "{simpleDecisionPrompt}\n",
        "\"\"\";\n",
        "\n",
        "// Create a new OpenAI prompt execution settings object\n",
        "var openAIPromptExecutionSettings = new OpenAIPromptExecutionSettings { \n",
        "    ChatSystemPrompt = systemPromptForDecisions,\n",
        "    MaxTokens = 1000, \n",
        "    Temperature = 0.3, \n",
        "    TopP = 1.0, \n",
        "    FrequencyPenalty = 0.0, \n",
        "    PresencePenalty = 0.0\n",
        "    };\n",
        "KernelArguments kernelArguments = new KernelArguments(openAIPromptExecutionSettings);\n",
        "\n",
        "\n",
        "var promptResponseWithTemplate = await semanticKernel.InvokePromptAsync(simpleDecisionPrompt, kernelArguments);\n",
        "var response = promptResponseWithTemplate.GetValue<string>();\n",
        "\n",
        "// Display the response from the Semantic Kernel as Markdown\n",
        "response.DisplayAs(\"text/markdown\");"
      ]
    },
    {
      "cell_type": "markdown",
      "metadata": {},
      "source": [
        "-----\n",
        "### Step 7 - Execute a Decision Scenario with a System Prompt (Custom AI Persona)"
      ]
    },
    {
      "cell_type": "markdown",
      "metadata": {},
      "source": [
        "In this step a decision scenario will be introduced requiring analysis and a recommendation performed by Artificial Intelligence. The full **Decision Intelligence** framework will not be used, rather a simple request for Artificial Intelligence to recommend a path forward (recommendation) for the human user to ultimately make the final decision.  \n",
        "\n",
        "**Decision Scenario:** Your high school daughter Alex is deciding whether to enroll directly in a four-year university or start at a community college to earn an associate degree first. These are Alex's main decision factors: financial, career uncertainty, academic consistency and future impact. In addition, you have all the decision factor detailed data available to pass to the GenAI model prompt. You are looking for an impartial (non-family) recommendation. Can Artificial Intelligence be that impartial judge to help Alex decide? \n",
        "\n",
        "<img style=\"display: block; margin: auto;\" width =\"700px\" src=\"https://raw.githubusercontent.com/bartczernicki/DecisionIntelligence.GenAI.Workshop/main/Images/Scenarios/Scenario-SimpleDecision-College.png\">"
      ]
    },
    {
      "cell_type": "code",
      "execution_count": 26,
      "metadata": {
        "dotnet_interactive": {
          "language": "csharp"
        },
        "polyglot_notebook": {
          "kernelName": "csharp"
        }
      },
      "outputs": [
        {
          "data": {
            "text/markdown": [
              "### Recommendation Table for Alex: Community College First, Then Transfer\n",
              "\n",
              "| Decision Factor                | Community College First (Recommended)                                  | Four-Year University Direct Entry                         | Reasoning for Recommendation                                                                                   |\n",
              "|-------------------------------|-----------------------------------------------------------------------|----------------------------------------------------------|----------------------------------------------------------------------------------------------------------------|\n",
              "| Financial Considerations      | Substantial cost savings; lower tuition and living expenses; less debt | Much higher cost; potential for significant student loans | Cost is a medium concern, but saving $90,000+ over two years reduces long-term debt and financial pressure.    |\n",
              "| Career and Major Uncertainty  | Flexibility to explore majors at low cost; easier to change direction  | Risk of extra time/cost if switching majors               | Community college allows academic exploration without high financial risk, ideal given Alex’s uncertainty.      |\n",
              "| Academic Consistency & Networking | Delayed access to university networking, but can join later; smaller classes for first two years | Immediate access to university resources and networks     | While early networking is valuable, Alex can still build connections after transferring, and smaller classes may offer more support during exploration. |\n",
              "| Future Impact                 | Lower debt, more flexibility; may require adjustment when transferring | Stronger early network, but higher debt and risk if major changes | Community college reduces financial risk and allows Alex to clarify her goals before committing to a major investment. |\n",
              "\n",
              "### Summary\n",
              "\n",
              "Starting at a community college is recommended for Alex. This path provides significant financial savings, reduces the risk associated with major uncertainty, and offers flexibility to explore academic interests. Although it may delay some networking opportunities, Alex can still build a strong professional network after transferring to a four-year university. This approach minimizes long-term debt and allows for a more informed decision about her major and career path, supporting both her immediate academic needs and her future financial stability."
            ]
          },
          "metadata": {},
          "output_type": "display_data"
        }
      ],
      "source": [
        "// Create a system prompt instruction to override the default system prompt\n",
        "// Add the System Prompt (Persona) to behave like a decision intelligence assistant\n",
        "var systemPromptForDecisions = \"\"\"\n",
        "You are a Decision Intelligence Assistant. \n",
        "Assist the user in exploring options, reasoning through decisions, problem-solving.\n",
        "Apply systems thinking to the scenarios. \n",
        "Provide structured, logical, and comprehensive decision advice.\n",
        "\n",
        "Output Format Instructions:\n",
        "When generating Markdown, do not use any headings higher than ###. \n",
        "Avoid # and ## headers. Use only ###, ####, or lower-level headings if necessary. \n",
        "All top-level section headers should start at ### or lower. \n",
        "Never use ---, ***, or ___ for horizontal lines. There should be no horizontal lines in the output.\n",
        "For separation, use extra extra spacing. Do not any render horizontal lines.\n",
        "\"\"\";\n",
        "// Provide a description of the decision scenario and the desired output \n",
        "// Provide detailed Decision Scenario considerations and information about Alex (the decision-maker) \n",
        "var scenarioDecisionPrompt = \"\"\"\n",
        "Imagine you are advising a daughter named Alex who is deciding whether to enroll directly in a well-regarded four-year \n",
        "university or start at a community college to earn an associate degree first. \n",
        "\n",
        "Make a single recommendation based on the following decision factor details. \n",
        "Output the recommendation in a Markdown table format. \n",
        "\n",
        "Financial Considerations:\n",
        "Alex's four-year university will cost significantly more in tuition, housing, and related expenses \n",
        "(estimated $50,000-$60,000 per year). A two-year associate program at a local community college could \n",
        "save substantial money (estimated $3,000-$5,000 per year), but Alex may have to transfer to a \n",
        "four-year institution later to complete a bachelor's degree. The family can afford the four-year university, \n",
        "with some loans, but the cost is only a medium concern. \n",
        "\n",
        "Career and Major Uncertainty:\n",
        "Alex is not entirely sure what she wants to major in. She is torn between business, psychology, and \n",
        "possibly something in the arts. She worries that if she starts at the four-year university, \n",
        "she might switch majors and incur extra time and cost. On the other hand, \n",
        "community college might give her space to explore options, \n",
        "but transferring could mean adjusting to a new campus and curriculum midway through.\n",
        "\n",
        "Academic Consistency and Networking:\n",
        "Going straight to the four-year university would allow Alex to build early relationships with professors, \n",
        "join campus groups, and potentially secure internships or research opportunities. Starting at community college might \n",
        "delay those opportunities, but it could also let her explore different fields at a lower cost. \n",
        "She might miss out on the “full campus” experience early on, but transferring later means she could \n",
        "still build connections, just on a different timeline. \n",
        "\n",
        "Future Impact: \n",
        "Alex is unsure of the short-term future impact of her decision that might be hard to remediate. \n",
        "Alex wants a solid professional network and relevant experience when she graduates. \n",
        "Alex is not overly concerned about the social aspect of college, \n",
        "but feels she can build a quality network in a four-year university setting sooner. \n",
        "She is also concerned about taking on significant student loan debt. The decision affects not only her immediate academic path but \n",
        "also her long-term financial stability and career prospects. \n",
        "\"\"\";\n",
        "\n",
        "// How the prompt looks like to the LLM\n",
        "var scenarioDecisionPromptTemplate = $\"\"\"\n",
        "System Prompt: \n",
        "{systemPromptForDecisions}\n",
        "\n",
        "Request from the user: \n",
        "{scenarioDecisionPrompt}\n",
        "\"\"\";\n",
        "\n",
        "// Create a new OpenAI prompt execution settings object\n",
        "var openAIPromptExecutionSettings = new OpenAIPromptExecutionSettings { \n",
        "    ChatSystemPrompt = systemPromptForDecisions,\n",
        "    MaxTokens = 1000, // Increase the max tokens to allow for a more detailed response\n",
        "    Temperature = 0.3, \n",
        "    TopP = 1.0, \n",
        "    FrequencyPenalty = 0.0, \n",
        "    PresencePenalty = 0.0\n",
        "    };\n",
        "KernelArguments kernelArguments = new KernelArguments(openAIPromptExecutionSettings);\n",
        "\n",
        "var promptResponseScenario = await semanticKernel.InvokePromptAsync(scenarioDecisionPromptTemplate, kernelArguments);\n",
        "var response = promptResponseScenario.GetValue<string>();\n",
        "\n",
        "// Display the response from the Semantic Kernel as Markdown\n",
        "response.DisplayAs(\"text/markdown\");"
      ]
    }
  ],
  "metadata": {
    "kernelspec": {
      "display_name": ".NET (C#)",
      "language": "C#",
      "name": ".net-csharp"
    },
    "language_info": {
      "name": "polyglot-notebook"
    },
    "polyglot_notebook": {
      "kernelInfo": {
        "defaultKernelName": "csharp",
        "items": [
          {
            "aliases": [],
            "name": "csharp"
          }
        ]
      }
    }
  },
  "nbformat": 4,
  "nbformat_minor": 2
}
