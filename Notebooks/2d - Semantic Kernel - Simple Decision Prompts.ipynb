{
 "cells": [
  {
   "cell_type": "markdown",
   "metadata": {},
   "source": [
    "<img style=\"float: left;padding-right: 10px\" width =\"40px\" src=\"https://raw.githubusercontent.com/bartczernicki/DecisionIntelligence.GenAI.Workshop/main/Images/SemanticKernelLogo.png\">\n",
    "\n",
    "## Semantic Kernel - Simple Decision Prompts"
   ]
  },
  {
   "cell_type": "markdown",
   "metadata": {},
   "source": [
    "Decision Intelligence applied in this module:  \n",
    "* Listing of various decision-making frameworks and with their descriptions by using GenAI prompt engineering  \n",
    "* Creating custom AI personas with a system decision prompt  \n",
    "* Generating decision outputs using easier to consume formats (Markdown)     \n",
    "\n",
    "Prompts are the fundemental building block to getting the proper responses from AI models. This module demonstrates how to use common prompt engineering techniques while using Semantic Kernel. If you've ever used ChatGPT or Microsoft Copilot, you're already familiar with prompting. Given a prompt instruction, an LLM will attempt to predict the most likely response. With Semantic Kernel, you can craft applications, services & APIs that execute prompts.  \n",
    "\n",
    "For more information on using prompts with Semantic Kernel, visit: https://learn.microsoft.com/en-us/semantic-kernel/prompts/your-first-prompt  \n",
    "\n",
    "The process of carefully crafting questions or instructions for AI is called **Prompt Engineering**. Prompt Engineering involves designing and refining input prompts—text or questions—so that the AI produces responses that are more relevant, useful, or accurate. The goal of prompt engineering is to \"tune\" the prompt in a way that maximizes the quality and clarity of the AI's response, often using specific wording, context, or examples within the prompt itself.\n",
    "\n",
    "Decision Intelligence and Prompt Engineering techniques can be combined to created \"Generative AI Decision Intellignce\"! This can leverage GenAI models to reason over complex tasks, gather intelligence for decisions, recommend decisions, communicate decisions etc. "
   ]
  },
  {
   "cell_type": "markdown",
   "metadata": {},
   "source": [
    "### Step 1 - Initialize Configuration Builder & Build the Semantic Kernel Orchestration "
   ]
  },
  {
   "cell_type": "markdown",
   "metadata": {},
   "source": [
    "Execute the next two cells to:\n",
    "* Use the Configuration Builder to load the API secrets.  \n",
    "* Use the API configuration to build the Semantic Kernel orchestrator."
   ]
  },
  {
   "cell_type": "code",
   "execution_count": 1,
   "metadata": {
    "dotnet_interactive": {
     "language": "csharp"
    },
    "polyglot_notebook": {
     "kernelName": "csharp"
    },
    "vscode": {
     "languageId": "polyglot-notebook"
    }
   },
   "outputs": [
    {
     "data": {
      "text/html": [
       "<div><div></div><div></div><div><strong>Installed Packages</strong><ul><li><span>Microsoft.Extensions.Configuration, 9.0.0</span></li><li><span>Microsoft.Extensions.Configuration.Json, 9.0.0</span></li></ul></div></div>"
      ]
     },
     "metadata": {},
     "output_type": "display_data"
    }
   ],
   "source": [
    "// Import the required NuGet configuration packages\n",
    "#r \"nuget: Microsoft.Extensions.Configuration, 9.0.0\"\n",
    "#r \"nuget: Microsoft.Extensions.Configuration.Json, 9.0.0\"\n",
    "\n",
    "using Microsoft.Extensions.Configuration.Json;\n",
    "using Microsoft.Extensions.Configuration;\n",
    "using System.IO;\n",
    "\n",
    "// Load the configuration settings from the local.settings.json and secrets.settings.json files\n",
    "// The secrets.settings.json file is used to store sensitive information such as API keys\n",
    "var configurationBuilder = new ConfigurationBuilder()\n",
    "    .SetBasePath(Directory.GetCurrentDirectory())\n",
    "    .AddJsonFile(\"local.settings.json\", optional: true, reloadOnChange: true)\n",
    "    .AddJsonFile(\"secrets.settings.json\", optional: true, reloadOnChange: true);\n",
    "var config = configurationBuilder.Build();\n",
    "\n",
    "// IMPORTANT: You ONLY NEED either Azure OpenAI or OpenAI connectiopn info, not both.\n",
    "// Azure OpenAI Connection Info\n",
    "var azureOpenAIEndpoint = config[\"AzureOpenAI:Endpoint\"];\n",
    "var azureOpenAIAPIKey = config[\"AzureOpenAI:APIKey\"];\n",
    "var azureOpenAIModelDeploymentName = config[\"AzureOpenAI:ModelDeploymentName\"];\n",
    "// OpenAI Connection Info \n",
    "var openAIAPIKey = config[\"OpenAI:APIKey\"];\n",
    "var openAIModelId = config[\"OpenAI:ModelId\"];"
   ]
  },
  {
   "cell_type": "code",
   "execution_count": 2,
   "metadata": {
    "dotnet_interactive": {
     "language": "csharp"
    },
    "polyglot_notebook": {
     "kernelName": "csharp"
    },
    "vscode": {
     "languageId": "polyglot-notebook"
    }
   },
   "outputs": [
    {
     "data": {
      "text/html": [
       "<div><div></div><div></div><div><strong>Installed Packages</strong><ul><li><span>Microsoft.SemanticKernel, 1.33.0</span></li></ul></div></div>"
      ]
     },
     "metadata": {},
     "output_type": "display_data"
    },
    {
     "name": "stdout",
     "output_type": "stream",
     "text": [
      "Using Azure OpenAI Service\n"
     ]
    }
   ],
   "source": [
    "// Import the Semantic Kernel NuGet package\n",
    "#r \"nuget: Microsoft.SemanticKernel, 1.33.0\"\n",
    "\n",
    "using Microsoft.Extensions.DependencyInjection.Extensions;\n",
    "using Microsoft.Extensions.DependencyInjection;\n",
    "using Microsoft.SemanticKernel;\n",
    "using Microsoft.SemanticKernel.ChatCompletion;\n",
    "using Microsoft.SemanticKernel.Connectors.OpenAI;\n",
    "\n",
    "Kernel semanticKernel;\n",
    "\n",
    "// Set the flag to use Azure OpenAI or OpenAI. False to use OpenAI, True to use Azure OpenAI\n",
    "var useAzureOpenAI = true;\n",
    "\n",
    "// Create a new Semantic Kernel instance\n",
    "if (useAzureOpenAI)\n",
    "{\n",
    "    Console.WriteLine(\"Using Azure OpenAI Service\");\n",
    "    semanticKernel = Kernel.CreateBuilder()\n",
    "        .AddAzureOpenAIChatCompletion(\n",
    "            deploymentName: azureOpenAIModelDeploymentName,\n",
    "            endpoint: azureOpenAIEndpoint,\n",
    "            apiKey: azureOpenAIAPIKey)\n",
    "        .Build();\n",
    "}\n",
    "else\n",
    "{\n",
    "    Console.WriteLine(\"Using OpenAI Service\");\n",
    "    semanticKernel = Kernel.CreateBuilder()\n",
    "        .AddOpenAIChatCompletion(\n",
    "            modelId: openAIModelId,\n",
    "            apiKey: openAIAPIKey)\n",
    "        .Build();\n",
    "}"
   ]
  },
  {
   "cell_type": "markdown",
   "metadata": {},
   "source": [
    "### Step 2 - Execute a Decision Prompt "
   ]
  },
  {
   "cell_type": "markdown",
   "metadata": {},
   "source": [
    "Many LLMs and even SLMs have been trained on knowledge that includes decision frameworks & processes. This makes LLMs great assistants to:\n",
    "* Provide proper Decision Frames\n",
    "* Gather Intelligence (information) in order to make a decision\n",
    "* Recommend Decision Frameworks to make a high-quality decision\n",
    "* Provide feedback to evaluate a Decision\n",
    "\n",
    "Once the Semantic Kernel instance is built, it is ready to intake prompt instructions. In the prompt below, the Semantic Kernel is instructed to provide examples of decision frameworks \"trained into\" the knowledge of the configured AI model.  "
   ]
  },
  {
   "cell_type": "code",
   "execution_count": null,
   "metadata": {
    "dotnet_interactive": {
     "language": "csharp"
    },
    "polyglot_notebook": {
     "kernelName": "csharp"
    },
    "vscode": {
     "languageId": "polyglot-notebook"
    }
   },
   "outputs": [
    {
     "name": "stdout",
     "output_type": "stream",
     "text": [
      "Here are five decision-making frameworks that can enhance the quality of decisions:\n",
      "\n",
      "---\n",
      "\n",
      "### 1. **SWOT Analysis**\n",
      "   - **Description:** SWOT stands for Strengths, Weaknesses, Opportunities, and Threats. This framework is used to evaluate the internal and external factors influencing a decision.\n",
      "   - **How it supports better decisions:**\n",
      "     - Encourages a structured exploration of both positive and negative factors.\n",
      "     - Helps identify opportunities and risks that may not be immediately obvious.\n",
      "     - Provides a holistic view to better align actions with organizational objectives or personal goals.\n",
      "\n",
      "---\n",
      "\n",
      "### 2. **Cost-Benefit Analysis (CBA)**\n",
      "   - **Description:** CBA involves evaluating all the potential costs and benefits of a decision to determine if the benefits outweigh the costs.\n",
      "   - **How it supports better decisions:**\n",
      "     - Quantifies pros and cons for an objective comparison.\n",
      "     - Encourages a focus on long-term outcomes rather than short-term gains.\n",
      "     - Useful for resource allocation and prioritization in projects or investments.\n",
      "\n",
      "---\n",
      "\n",
      "### 3. **The Eisenhower Matrix (or Urgent-Important Matrix)**\n",
      "   - **Description:** This framework categorizes tasks and decisions based on urgency and importance, helping prioritize actions effectively.\n",
      "   - **How it supports better decisions:**\n",
      "     - Aids in separating critical tasks (important and urgent) from distractions or non-essential items (neither important nor urgent).\n",
      "     - Helps allocate time and energy efficiently for high-impact outcomes.\n",
      "     - Prevents decision paralysis by simplifying complex choices.\n",
      "\n",
      "---\n",
      "\n",
      "### 4. **Six Thinking Hats**\n",
      "   - **Description:** Popularized by Edward de Bono, this framework asks individuals to analyze a decision from six perspectives: logic (White Hat), emotions (Red Hat), optimism (Yellow Hat), pessimism (Black Hat), creativity (Green Hat), and process (Blue Hat).\n",
      "   - **How it supports better decisions:**\n",
      "     - Encourages a balanced approach by integrating logical reasoning, emotional insight, and creative solutions.\n",
      "     - Helps prevent groupthink and ensures different perspectives are considered.\n",
      "     - Promotes critical thinking and collaboration in team settings.\n",
      "\n",
      "---\n",
      "\n",
      "### 5. **OODA Loop (Observe, Orient, Decide, Act)**\n",
      "   - **Description:** Originally developed for military strategy, OODA Loop is a cyclical process for rapid situational analysis and decision-making.\n",
      "   - **How it supports better decisions:**\n",
      "     - Encourages continuous observation and adjustment in response to changing circumstances.\n",
      "     - Supports adaptability and agility in dynamic or high-pressure scenarios.\n",
      "     - Ensures decisions are anchored in real-time information and evolving context.\n",
      "\n",
      "---\n",
      "\n",
      "### Conclusion:\n",
      "Each of these frameworks addresses decision-making from different angles—whether it's prioritizing tasks, weighing costs and benefits, or enhancing creativity—thereby supporting better analysis and reasoning in a wide variety of situations. By selecting the most appropriate framework for a given scenario, decision-makers can significantly improve the quality of their choices.\r\n"
     ]
    }
   ],
   "source": [
    "// A new decision prompt to help with describing decision-making frameworks\n",
    "var simpleDecisionPrompt = \"\"\"\n",
    "Identify and list 5 decision-making frameworks that can enhance the quality of decisions. \n",
    "Briefly describe how each decision-making framework supports better analysis and reasoning in various scenarios.\n",
    "\"\"\";\n",
    "\n",
    "var simplePromptResponse = await semanticKernel.InvokePromptAsync(simpleDecisionPrompt);\n",
    "Console.WriteLine(simplePromptResponse.GetValue<string>());"
   ]
  },
  {
   "cell_type": "markdown",
   "metadata": {},
   "source": [
    "### Step 3 - Execute a Decision Prompt with Streaming"
   ]
  },
  {
   "cell_type": "markdown",
   "metadata": {},
   "source": [
    "Semantic Kernel supports prompt response streaming when invoking the prompt. This allows responses to be streamed to the client as soon as they are made available by the LLM and service. Below the same decision prompt is executed. However, notice that chunks are streamed and can be read by the user as soon as they appear. \n",
    "\n",
    "> Note: An average human can read between 25-40 Tokens / second.  "
   ]
  },
  {
   "cell_type": "code",
   "execution_count": null,
   "metadata": {
    "dotnet_interactive": {
     "language": "csharp"
    },
    "polyglot_notebook": {
     "kernelName": "csharp"
    },
    "vscode": {
     "languageId": "polyglot-notebook"
    }
   },
   "outputs": [
    {
     "name": "stdout",
     "output_type": "stream",
     "text": [
      "Here are five decision-making frameworks, along with brief descriptions of how they enhance analysis and reasoning across various scenarios:\n",
      "\n",
      "### 1. **The OODA Loop (Observe, Orient, Decide, Act)**\n",
      "   - **Description:** Originally designed for military strategy by Col. John Boyd, the OODA loop helps decision-makers quickly assess situations and adapt to changing circumstances.\n",
      "   - **How it helps:**\n",
      "     - **Observe:** Encourages thorough situational awareness by gathering data and identifying key factors.\n",
      "     - **Orient:** Promotes analysis by reconciling new information with existing knowledge and context.\n",
      "     - **Decide:** Emphasizes focused decision-making to choose the best course of action.\n",
      "     - **Act:** Stresses execution and learning from outcomes, making the framework iterative and adaptive.\n",
      "   - **Applications:** Emergency responses, competitive business strategy, and crisis management.\n",
      "\n",
      "---\n",
      "\n",
      "### 2. **SWOT Analysis (Strengths, Weaknesses, Opportunities, Threats)**\n",
      "   - **Description:** A strategic planning tool used to evaluate internal and external factors affecting a decision or organization.\n",
      "   - **How it helps:**\n",
      "     - Breaks down complex scenarios into manageable parts.\n",
      "     - Guides decision-makers to leverage strengths, address weaknesses, capitalize on opportunities, and mitigate threats.\n",
      "     - Ensures that decisions are balanced and informed by both internal capacities and external conditions.\n",
      "   - **Applications:** Business planning, project prioritization, and market entry strategies.\n",
      "\n",
      "---\n",
      "\n",
      "### 3. **The Eisenhower Matrix (Urgent vs. Important Quadrant)**\n",
      "   - **Description:** A time management and prioritization tool attributed to Dwight D. Eisenhower, dividing tasks into four categories based on urgency and importance.\n",
      "   - **How it helps:**\n",
      "     - Encourages a focus on high-value tasks (important but not urgent), reducing susceptibility to \"firefighting.\"\n",
      "     - Improves clarity by sorting distractions from meaningful objectives.\n",
      "     - Supports better allocation of time and effort in decision-making.\n",
      "   - **Applications:** Personal productivity, operational planning, and resource allocation.\n",
      "\n",
      "---\n",
      "\n",
      "### 4. **Cost-Benefit Analysis (CBA)**\n",
      "   - **Description:** A systematic evaluation of the expected costs and benefits of different options to determine the most favorable outcome.\n",
      "   - **How it helps:**\n",
      "     - Quantifies potential trade-offs, making decisions more objective and transparent.\n",
      "     - Encourages critical thinking about short- and long-term implications.\n",
      "     - Helps prioritize initiatives with the greatest net positive value.\n",
      "   - **Applications:** Policy decisions, investment evaluations, and project approvals.\n",
      "\n",
      "---\n",
      "\n",
      "### 5. **The Six Thinking Hats**\n",
      "   - **Description:** Developed by Edward de Bono, this framework promotes parallel thinking by encouraging individuals to consider multiple perspectives using six metaphorical \"hats\" (e.g., logical, emotional, creative).\n",
      "   - **How it helps:**\n",
      "     - Encourages balanced decision-making by systematically evaluating emotional, logical, and creative dimensions.\n",
      "     - Reduces cognitive biases by separating emotions from factual analysis.\n",
      "     - Fosters collaboration and creativity in group decision-making settings.\n",
      "   - **Applications:** Brainstorming, team decision-making, and problem-solving.\n",
      "\n",
      "---\n",
      "\n",
      "These frameworks provide structured approaches to decision-making, tailored to different contexts and objectives, ultimately leading to more thorough and rational choices."
     ]
    }
   ],
   "source": [
    "// Same Decision Prompt but using Streaming Output \n",
    "await foreach (var streamChunk in semanticKernel.InvokePromptStreamingAsync(simpleDecisionPrompt))\n",
    "{\n",
    "   Console.Write(streamChunk);\n",
    "}"
   ]
  },
  {
   "cell_type": "markdown",
   "metadata": {},
   "source": [
    "### Step 4 - Execute a Decision Prompt with Improved Output Formatting  "
   ]
  },
  {
   "cell_type": "markdown",
   "metadata": {},
   "source": [
    "Generative AI models have an inherent ability to not only provide decision reasoning analysis, but also format the output in a desired format. This could be as simple as instructing the Generative AI model to format the decision as a single sentence, paragraphs or lists. However more sophisticated output generations can be instructed. For example, the GenAI model can ouput Markdown or even extract information and fill in a desired schema (JSON). Specifically for Decision Intelligence, you can ask the GenAI models to apply decision communication frameworks to the generation as well. \n",
    "\n",
    "Execute the simple decision prompt below with Markdown formatting ouptut. This table can now be rendered in a Markdown document for easy human comprehension. Markdown tables and other formats can be used on web sites, document, programming code etc. Even Generative AI models understand Markdown format, which can not only be used for output but inside input prompts.  "
   ]
  },
  {
   "cell_type": "code",
   "execution_count": 5,
   "metadata": {
    "dotnet_interactive": {
     "language": "csharp"
    },
    "polyglot_notebook": {
     "kernelName": "csharp"
    },
    "vscode": {
     "languageId": "polyglot-notebook"
    }
   },
   "outputs": [
    {
     "name": "stdout",
     "output_type": "stream",
     "text": [
      "| Decision-Making Framework | Description                                                                                             |\n",
      "|----------------------------|---------------------------------------------------------------------------------------------------------|\n",
      "| SWOT Analysis             | Evaluates Strengths, Weaknesses, Opportunities, and Threats of a situation to improve strategic clarity. |\n",
      "| Cost-Benefit Analysis     | Weighs the pros and cons by quantifying outcomes, enabling data-driven decisions.                       |\n",
      "| Decision Matrix           | Uses weighted criteria to compare multiple options systematically and rank them objectively.            |\n",
      "| Six Thinking Hats         | Encourages analyzing problems from various perspectives (emotional, logical, creative, etc.) to ensure balanced decisions. |\n",
      "| OODA Loop                 | Stands for Observe, Orient, Decide, Act; enables iterative decision-making in dynamic and uncertain environments. |"
     ]
    }
   ],
   "source": [
    "// A new decision prompt to help with describing decision-making frameworks using Markdown format\n",
    "var simpleDecisionPromptWithMarkdownFormat = \"\"\"\n",
    "Identify and list 5 decision-making frameworks that can enhance the quality of decisions. \n",
    "Briefly describe how each decision-making framework supports better analysis and reasoning in various scenarios.\n",
    "\n",
    "Format the response using only a Markdown table. Do not enclose the table in triple backticks.\n",
    "\"\"\";\n",
    "\n",
    "await foreach (var streamChunk in semanticKernel.InvokePromptStreamingAsync(simpleDecisionPromptWithMarkdownFormat))\n",
    "{\n",
    "   Console.Write(streamChunk);\n",
    "}"
   ]
  },
  {
   "cell_type": "markdown",
   "metadata": {},
   "source": [
    "Example formatted Markdown Table output: \n",
    "\n",
    "| Decision-Making Framework           | Description                                                                                   |\n",
    "|-------------------------------------|-----------------------------------------------------------------------------------------------|\n",
    "| **Rational Decision-Making Model** | A step-by-step process focusing on identifying the problem, gathering data, and evaluating alternatives based on logic, ensuring well-informed and objective decisions. |\n",
    "| **SWOT Analysis**                   | Helps systematically assess Strengths, Weaknesses, Opportunities, and Threats, offering a structured way to evaluate strategic options. |\n",
    "| **Decision Tree Analysis**          | Visualizes choices and their possible outcomes using a tree diagram, aiding in weighing different paths based on probabilities and payoffs. |\n",
    "| **Cost-Benefit Analysis (CBA)**     | Quantifies costs and benefits of alternatives, enabling comparison to identify the option with the highest net benefit.                 |\n",
    "| **OODA Loop (Observe-Orient-Decide-Act)** | A dynamic, iterative model aiding in rapid decision-making by continuously assessing and adapting to changing scenarios.              |"
   ]
  },
  {
   "cell_type": "markdown",
   "metadata": {},
   "source": [
    "### Step 5 - Execute a Decision Prompt with a Custom Prompt Execution Configuration"
   ]
  },
  {
   "cell_type": "markdown",
   "metadata": {},
   "source": [
    "Semantic Kernel supports the configuration of prompt execution. The typical OpenAI and Azure OpenAI settings are exposed as configuration options that provide a different prompt experience. Try changing the MaxTokens, Tempature or other settings.\n",
    "\n",
    "> Note: The supported settings are dependendent on the API plus the specific model version. For example, a model paired with an older API may not expose all the configuration settings available. Conversely, a new preview model may not have all the settings available until it becomes generally available.  "
   ]
  },
  {
   "cell_type": "code",
   "execution_count": 6,
   "metadata": {
    "dotnet_interactive": {
     "language": "csharp"
    },
    "polyglot_notebook": {
     "kernelName": "csharp"
    },
    "vscode": {
     "languageId": "polyglot-notebook"
    }
   },
   "outputs": [
    {
     "name": "stdout",
     "output_type": "stream",
     "text": [
      "Here are five decision-making frameworks that can enhance the quality of decisions, along with brief descriptions of how each supports better analysis and reasoning:\n",
      "\n",
      "---\n",
      "\n",
      "### 1. **Rational Decision-Making Model**\n",
      "   - **Description**: This framework involves a structured, step-by-step process to identify the problem, gather information, evaluate alternatives, and choose the best option based on logical reasoning.\n",
      "   - **How it helps**: By emphasizing data collection, objective analysis, and systematic evaluation, this model minimizes biases and ensures decisions are grounded in evidence and logic. It is particularly useful in scenarios requiring detailed analysis, such as business planning or policy development.\n",
      "\n",
      "---\n",
      "\n",
      "### 2. **SWOT Analysis (Strengths, Weaknesses, Opportunities, Threats)**\n",
      "   - **Description**: SWOT analysis is a strategic tool used to evaluate internal and external factors that impact a decision or situation.\n",
      "   - **How it helps**: By categorizing factors into strengths, weaknesses, opportunities, and threats, this framework provides a comprehensive view of the situation, enabling decision-makers to leverage advantages, address vulnerabilities, and anticipate risks. It is widely used in strategic planning and competitive analysis.\n",
      "\n",
      "---\n",
      "\n",
      "### 3. **Cost-Benefit Analysis (CBA)**\n",
      "   - **Description**: CBA involves comparing the costs and benefits of different options to determine which provides the greatest net benefit.\n",
      "   - **How it helps**: This framework quantifies the trade-offs of each alternative, making it easier to prioritize options that maximize value. It is particularly effective in financial decision-making, resource allocation, and project management.\n",
      "\n",
      "---\n",
      "\n",
      "### 4. **The OODA Loop (Observe, Orient, Decide, Act)**\n",
      "   - **Description**: Developed by military strategist John Boyd, the OODA Loop is a cyclical process for making decisions in dynamic and fast-changing environments.\n",
      "   - **How it helps**: By emphasizing rapid observation, contextual understanding, decision-making, and action, this framework supports adaptability and responsiveness. It is especially valuable in high-pressure situations, such as crisis management or competitive business environments.\n",
      "\n",
      "---\n",
      "\n",
      "### 5. **Six Thinking Hats**\n",
      "   - **Description**: Created by Edward de Bono, this framework encourages examining a problem from six distinct perspectives (logical, emotional, creative, cautionary, optimistic, and process-oriented).\n",
      "   - **How it helps**: By fostering diverse viewpoints and structured thinking, this approach reduces groupthink and ensures a balanced analysis of the decision. It"
     ]
    }
   ],
   "source": [
    "// Create a new OpenAI prompt execution settings object\n",
    "var openAIPromptExecutionSettings = new OpenAIPromptExecutionSettings { \n",
    "    MaxTokens = 500, \n",
    "    Temperature = 0.3, \n",
    "    TopP = 1.0, \n",
    "    FrequencyPenalty = 0.0, \n",
    "    PresencePenalty = 0.0\n",
    "    };\n",
    "\n",
    "KernelArguments kernelArguments = new KernelArguments(openAIPromptExecutionSettings);\n",
    "await foreach (var streamChunk in semanticKernel.InvokePromptStreamingAsync(simpleDecisionPrompt, kernelArguments))\n",
    "{\n",
    "   Console.Write(streamChunk);\n",
    "}"
   ]
  },
  {
   "cell_type": "markdown",
   "metadata": {},
   "source": [
    "### Step 6 - Execute a Decision Prompt with a System Prompt (Custom AI Persona)"
   ]
  },
  {
   "cell_type": "markdown",
   "metadata": {},
   "source": [
    "When building Decison Intelligence prompts, all the typical best practices of prompt engineering apply when using Semantic Kernel.  Such as: \n",
    "* Make the prompt more specific (i.e. decision intelligence)\n",
    "* Add structure to the output with formatting\n",
    "* Provide examples with few-shot prompting\n",
    "* Instruct the AI what to do to avoid doing something else\n",
    "* Provide context (additional information) to the AI\n",
    "* Using Roles in Chat Completion API prompts\n",
    "* Give your AI words of encouragement  \n",
    "\n",
    "A key best practice is to provide a common behavior across all the LLM interactions in a system prompt. This system prompt is passed in on every single call the LLM with Semantic Kernel. By passing the same (or similar) system prompt with every prompt gives your Generative AI system a common persona. This common persona is the foundational building block of building AI agents; where the desired behavior is to have each agent have a unique persona/behavior every time you interact with that agent.\n",
    "\n",
    "Execute the cell below with a dynamic prompt template. Notice the different behavior of the output for decision frameworks. Based on the new system prompt instructions, the decision framework responses are much more robust with decision intelligence information."
   ]
  },
  {
   "cell_type": "code",
   "execution_count": null,
   "metadata": {
    "dotnet_interactive": {
     "language": "csharp"
    },
    "polyglot_notebook": {
     "kernelName": "csharp"
    },
    "vscode": {
     "languageId": "polyglot-notebook"
    }
   },
   "outputs": [
    {
     "name": "stdout",
     "output_type": "stream",
     "text": [
      "PROMPT TO SEND TO THE CHAT COMPLETION SERVICE...\n",
      "\n",
      "System Prompt: \n",
      "You are a Decision Intelligence Assistant. \n",
      "Assist the user in exploring options, reasoning through decisions, problem-solving.\n",
      "Apply systems thinking to various scenarios. \n",
      "Provide structured, logical, and comprehensive decision advice.\n",
      "\n",
      "Request from the user: \n",
      "Recommend the top 5 decision frameworks that can be used for daily situations to make various decisions.\n",
      "These frameworks should be very easy to understand and apply to various scenarios.\n",
      "\n",
      "----------------------------------------\n",
      "\n",
      "RESPONSE FROM THE CHAT COMPLETION SERVICE...\n",
      "\n",
      "Here are five simple yet powerful decision-making frameworks that can be applied to a wide range of daily situations. Each is designed to be easy to understand and implement, while still providing structure and clarity to your decision-making process.\n",
      "\n",
      "---\n",
      "\n",
      "### **1. The Eisenhower Matrix (Urgent-Important Matrix)**\n",
      "**Purpose:** Prioritize tasks and decisions based on urgency and importance.\n",
      "\n",
      "**How It Works:**\n",
      "- Divide tasks or decisions into four quadrants:\n",
      "  1. **Urgent and Important:** Do these immediately.\n",
      "  2. **Important but Not Urgent:** Schedule these for later.\n",
      "  3. **Urgent but Not Important:** Delegate or minimize these.\n",
      "  4. **Neither Urgent nor Important:** Eliminate or ignore these.\n",
      "\n",
      "**When to Use:** For time management, prioritizing tasks, or deciding what to focus on first.\n",
      "\n",
      "**Example:** Deciding whether to respond to an email, attend a meeting, or work on a long-term project.\n",
      "\n",
      "---\n",
      "\n",
      "### **2. The 10/10/10 Rule**\n",
      "**Purpose:** Evaluate the long-term impact of a decision.\n",
      "\n",
      "**How It Works:**\n",
      "- Ask yourself:\n",
      "  1. How will I feel about this decision in **10 minutes**?\n",
      "  2. How will I feel about it in **10 months**?\n",
      "  3. How will I feel about it in **10 years**?\n",
      "\n",
      "**When to Use:** For decisions with emotional weight or when you're unsure about short-term vs. long-term trade-offs.\n",
      "\n",
      "**Example:** Deciding whether to splurge on an expensive item or save the money for future needs.\n",
      "\n",
      "---\n",
      "\n",
      "### **3. The Pareto Principle (80/20 Rule)**\n",
      "**Purpose:** Focus on the most impactful actions or decisions.\n",
      "\n",
      "**How It Works:**\n",
      "- Identify the 20% of actions, tasks, or decisions that will produce 80% of the results.\n",
      "- Prioritize these high-impact areas and minimize effort on the less impactful 80%.\n",
      "\n",
      "**When to Use:** For optimizing productivity, solving problems, or deciding where to invest time and energy.\n",
      "\n",
      "**Example:** Deciding which tasks to complete at work to achieve the biggest results.\n",
      "\n",
      "---\n",
      "\n",
      "### **4. The OODA Loop (Observe, Orient, Decide, Act)**\n",
      "**Purpose:** Make quick, iterative decisions in dynamic situations.\n",
      "\n",
      "**How It Works:**\n",
      "1. **Observe:** Gather information about the situation.\n",
      "2. **Orient:** Analyze the information and understand your"
     ]
    }
   ],
   "source": [
    "// Create a System Prompt instruction to override the default system prompt\n",
    "// Add the System Prompt (Persona) to behave like a decision intelligence assistant\n",
    "var systemPromptForDecisions = \"\"\"\n",
    "You are a Decision Intelligence Assistant. \n",
    "Assist the user in exploring options, reasoning through decisions, problem-solving.\n",
    "Apply systems thinking to various scenarios. \n",
    "Provide structured, logical, and comprehensive decision advice.\n",
    "\"\"\";\n",
    "var simpleDecisionPrompt = \"\"\"\n",
    "Recommend the top 5 decision frameworks that can be used for daily situations to make various decisions.\n",
    "These frameworks should be very easy to understand and apply to various scenarios.\n",
    "\"\"\";\n",
    "\n",
    "// How the prompt looks like to the LLM\n",
    "var simpleDecisionPromptTemplate = $\"\"\"\n",
    "System Prompt: \n",
    "{systemPromptForDecisions}\n",
    "\n",
    "Request from the user: \n",
    "{simpleDecisionPrompt}\n",
    "\"\"\";\n",
    "\n",
    "// Create a new OpenAI prompt execution settings object\n",
    "var openAIPromptExecutionSettings = new OpenAIPromptExecutionSettings { \n",
    "    ChatSystemPrompt = systemPromptForDecisions,\n",
    "    MaxTokens = 500, \n",
    "    Temperature = 0.3, \n",
    "    TopP = 1.0, \n",
    "    FrequencyPenalty = 0.0, \n",
    "    PresencePenalty = 0.0\n",
    "    };\n",
    "KernelArguments kernelArguments = new KernelArguments(openAIPromptExecutionSettings);\n",
    "\n",
    "Console.WriteLine(\"PROMPT TO SEND TO THE CHAT COMPLETION SERVICE...\");\n",
    "Console.WriteLine(string.Empty);\n",
    "Console.WriteLine(simpleDecisionPromptTemplate);\n",
    "Console.WriteLine(string.Empty);\n",
    "Console.WriteLine(\"----------------------------------------\");\n",
    "Console.WriteLine(string.Empty);\n",
    "Console.WriteLine(\"RESPONSE FROM THE CHAT COMPLETION SERVICE...\");\n",
    "Console.WriteLine(string.Empty);\n",
    "\n",
    "// Stream the response asynchronously\n",
    "await foreach (var streamChunk in semanticKernel.InvokePromptStreamingAsync(simpleDecisionPrompt, kernelArguments))\n",
    "{\n",
    "   Console.Write(streamChunk);\n",
    "}"
   ]
  },
  {
   "cell_type": "markdown",
   "metadata": {},
   "source": [
    "### Step 7 - Execute a Decision Scenario with a System Prompt (Custom AI Persona)"
   ]
  },
  {
   "cell_type": "markdown",
   "metadata": {},
   "source": [
    "In this step a decision scenario will be introduced requiring analysis and a recommendation performed by Artificial Intelligence. The full Decision Intelligence framework will not be used, rather a simple request for Artificial Intelligene to recommend a path forward (recommedation) for the human user to ultimately make the final decision.  \n",
    "\n",
    "**Decision Scenario:** Your high school daughter Alex is deciding whether to enroll directly in a four-year university or start at a community college to earn an associate degree first. These are Alex's main decision factors: financial, career uncertainty, academic consistency and future impact. In addition, you have all the decision factor detailed data available to pass to the GenAI model prompt. You are looking for an impartial (non-family) recommendation. Can Artificial Intelligence be that impartial judge to help Alex decide? \n",
    "\n",
    "<img style=\"display: block; margin: auto;\" width =\"700px\" src=\"https://raw.githubusercontent.com/bartczernicki/DecisionIntelligence.GenAI.Workshop/main/Images/Scenarios/Scenario-SimpleDecision-College.png\">"
   ]
  },
  {
   "cell_type": "code",
   "execution_count": 8,
   "metadata": {
    "dotnet_interactive": {
     "language": "csharp"
    },
    "polyglot_notebook": {
     "kernelName": "csharp"
    },
    "vscode": {
     "languageId": "polyglot-notebook"
    }
   },
   "outputs": [
    {
     "name": "stdout",
     "output_type": "stream",
     "text": [
      "### Recommendation for Alex: Start at a Community College\n",
      "\n",
      "Based on the provided decision factors, starting at a community college and then transferring to a four-year university is the most balanced and strategic choice for Alex. Below is a structured breakdown of the reasoning:\n",
      "\n",
      "| **Decision Factor**            | **Community College**                                                                                     | **Four-Year University**                                                                                   | **Recommendation**                                                                                          |\n",
      "|--------------------------------|-----------------------------------------------------------------------------------------------------------|-----------------------------------------------------------------------------------------------------------|-------------------------------------------------------------------------------------------------------------|\n",
      "| **Financial Considerations**   | Significantly lower cost ($3,000-$5,000/year). Provides flexibility to explore majors without incurring high expenses. | High cost ($50,000-$60,000/year). Switching majors could extend time and increase debt.                   | Community college minimizes financial risk, especially given Alex’s uncertainty about her major.            |\n",
      "| **Career and Major Uncertainty** | Offers a low-cost opportunity to explore different fields before committing to a major.                  | Higher cost and risk if Alex switches majors, potentially extending her time to graduation.               | Community college provides a safer environment for exploration without the financial pressure of a 4-year school. |\n",
      "| **Academic Consistency and Networking** | Delays access to four-year university resources (e.g., internships, campus groups), but still allows for eventual transfer. | Immediate access to professors, campus groups, and internships, but at a higher cost.                     | While networking is delayed, Alex can still build connections after transferring. Community college is sufficient for the first two years. |\n",
      "| **Future Impact**              | Reduces student loan debt, providing greater financial stability post-graduation. Transfer may require adjustment but is manageable. | Higher debt could limit financial flexibility after graduation, but offers earlier access to career resources. | Community college supports long-term financial stability, which aligns with Alex’s concerns about debt.     |\n",
      "\n",
      "### Summary of Recommendation:\n",
      "Starting at a community college allows Alex to:\n",
      "1. Save significant money while exploring her academic interests.\n",
      "2. Reduce the financial risk associated with switching majors.\n",
      "3. Transfer to a four-year university later, where she can still build a professional network and access career resources.\n",
      "\n",
      "This path provides flexibility, minimizes financial burden, and aligns with Alex’s current uncertainty about her major and career direction."
     ]
    }
   ],
   "source": [
    "// Create a system prompt instruction to override the default system prompt\n",
    "// Add the System Prompt (Persona) to behave like a decision intelligence assistant\n",
    "var systemPromptForDecisions = \"\"\"\n",
    "You are a Decision Intelligence Assistant. \n",
    "Assist the user in exploring options, reasoning through decisions, problem-solving.\n",
    "Apply systems thinking to various scenarios. \n",
    "Provide structured, logical, and comprehensive decision advice.\n",
    "\"\"\";\n",
    "// Provide a description of the decision scenario and the desired output \n",
    "// Provide detailed decision scenario considerations and information about Alex (the decision-maker) \n",
    "var scenarioDecisionPrompt = \"\"\"\n",
    "Imagine you are advising a daughter named Alex who is deciding whether to enroll directly in a well-regarded four-year \n",
    "university or start at a community college to earn an associate degree first. \n",
    "\n",
    "Make a single recommendation based on the following decision factor details. \n",
    "Output the recommedation in a Markdown table format. \n",
    "\n",
    "Financial Considerations:\n",
    "Alex's four-year university will cost significantly more in tuition, housing, and related expenses \n",
    "(estimated $50,000-$60,000 per year). A two-year associate program at a local community college could \n",
    "save substantial money (estimated $3,000-$5,000 per year), but Alex may have to transfer to a \n",
    "four-year institution later to complete a bachelor's degree. The family can afford the four-year university, \n",
    "with some loans, but the cost is only a medium concern. \n",
    "\n",
    "Career and Major Uncertainty:\n",
    "Alex is not entirely sure what she wants to major in. She is torn between business, psychology, and \n",
    "possibly something in the arts. She worries that if she starts at the four-year university, \n",
    "she might switch majors and incur extra time and cost. On the other hand, \n",
    "community college might give her space to explore options, \n",
    "but transferring could mean adjusting to a new campus and curriculum midway through.\n",
    "\n",
    "Academic Consistency and Networking:\n",
    "Going straight to the four-year university would allow Alex to build early relationships with professors, \n",
    "join campus groups, and potentially secure internships or research opportunities. Starting at community college might \n",
    "delay those opportunities, but it could also let her explore different fields at a lower cost. \n",
    "She might miss out on the “full campus” experience early on, but transferring later means she could \n",
    "still build connections, just on a different timeline. \n",
    "\n",
    "Future Impact: \n",
    "Alex is unsure of the short-term future impact of her decision that might be hard to remediate. \n",
    "Alex wants a solid professional network and relevant experience when she graduates. \n",
    "Alex is not overly concerned about the social aspect of college, \n",
    "but feels she can build a quality network in a four-year university setting sooner. \n",
    "She is also concerned about taking on significant student loan debt. The decision affects not only her immediate academic path but \n",
    "also her long-term financial stability and career prospects. \n",
    "\"\"\";\n",
    "\n",
    "// How the prompt looks like to the LLM\n",
    "var scenarioDecisionPromptTemplate = $\"\"\"\n",
    "System Prompt: \n",
    "{systemPromptForDecisions}\n",
    "\n",
    "Request from the user: \n",
    "{scenarioDecisionPrompt}\n",
    "\"\"\";\n",
    "\n",
    "// Create a new OpenAI prompt execution settings object\n",
    "var openAIPromptExecutionSettings = new OpenAIPromptExecutionSettings { \n",
    "    ChatSystemPrompt = systemPromptForDecisions,\n",
    "    MaxTokens = 750, \n",
    "    Temperature = 0.3, \n",
    "    TopP = 1.0, \n",
    "    FrequencyPenalty = 0.0, \n",
    "    PresencePenalty = 0.0\n",
    "    };\n",
    "KernelArguments kernelArguments = new KernelArguments(openAIPromptExecutionSettings);\n",
    "\n",
    "await foreach (var streamChunk in semanticKernel.InvokePromptStreamingAsync(scenarioDecisionPromptTemplate, kernelArguments))\n",
    "{\n",
    "   Console.Write(streamChunk);\n",
    "}"
   ]
  }
 ],
 "metadata": {
  "kernelspec": {
   "display_name": ".NET (C#)",
   "language": "C#",
   "name": ".net-csharp"
  },
  "language_info": {
   "name": "csharp"
  },
  "polyglot_notebook": {
   "kernelInfo": {
    "defaultKernelName": "csharp",
    "items": [
     {
      "aliases": [],
      "name": "csharp"
     }
    ]
   }
  }
 },
 "nbformat": 4,
 "nbformat_minor": 2
}
