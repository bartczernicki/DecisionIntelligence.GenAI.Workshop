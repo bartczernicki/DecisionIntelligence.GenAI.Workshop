{
 "cells": [
  {
   "cell_type": "markdown",
   "metadata": {},
   "source": [
    "<img style=\"float: left;padding-right: 10px\" width =\"40px\" src=\"https://raw.githubusercontent.com/bartczernicki/DecisionIntelligence.GenAI.Workshop/main/Images/SemanticKernelLogo.png\">\n",
    "\n",
    "## Semantic Kernel - Simple Decision Prompts"
   ]
  },
  {
   "cell_type": "markdown",
   "metadata": {},
   "source": [
    "Decision Intelligence applied in this module:  \n",
    "* Listing of various decision-making frameworks and with their descriptions by using GenAI prompt engineering  \n",
    "* Creating custom AI personas with a system decision prompt  \n",
    "* Generating decision outputs using easier to consume formats (Markdown)     \n",
    "\n",
    "Prompts are the fundemental building block to getting the proper responses from AI models. This module demonstrates how to use common prompt engineering techniques while using Semantic Kernel. If you've ever used ChatGPT or Microsoft Copilot, you're already familiar with prompting. Given a prompt instruction, an LLM will attempt to predict the most likely response. With Semantic Kernel, you can craft applications, services & APIs that execute prompts.  \n",
    "\n",
    "For more information on using prompts with Semantic Kernel, visit: https://learn.microsoft.com/en-us/semantic-kernel/prompts/your-first-prompt  \n",
    "\n",
    "The process of carefully crafting questions or instructions for AI is called **Prompt Engineering**. Prompt Engineering involves designing and refining input prompts—text or questions—so that the AI produces responses that are more relevant, useful, or accurate. The goal of prompt engineering is to \"tune\" the prompt in a way that maximizes the quality and clarity of the AI's response, often using specific wording, context, or examples within the prompt itself.\n",
    "\n",
    "Decision Intelligence and Prompt Engineering techniques can be combined to created \"Generative AI Decision Intellignce\"! This can leverage GenAI models to reason over complex tasks, gather intelligence for decisions, recommend decisions, communicate decisions etc. "
   ]
  },
  {
   "cell_type": "markdown",
   "metadata": {},
   "source": [
    "### Step 1 - Initialize Configuration Builder & Build the Semantic Kernel Orchestration "
   ]
  },
  {
   "cell_type": "markdown",
   "metadata": {},
   "source": [
    "Execute the next two cells to:\n",
    "* Use the Configuration Builder to load the API secrets.  \n",
    "* Use the API configuration to build the Semantic Kernel orchestrator."
   ]
  },
  {
   "cell_type": "code",
   "execution_count": 1,
   "metadata": {
    "dotnet_interactive": {
     "language": "csharp"
    },
    "polyglot_notebook": {
     "kernelName": "csharp"
    },
    "vscode": {
     "languageId": "polyglot-notebook"
    }
   },
   "outputs": [
    {
     "data": {
      "text/html": [
       "<div><div></div><div></div><div><strong>Installed Packages</strong><ul><li><span>Microsoft.Extensions.Configuration, 8.0.0</span></li><li><span>Microsoft.Extensions.Configuration.Json, 8.0.0</span></li></ul></div></div>"
      ]
     },
     "metadata": {},
     "output_type": "display_data"
    }
   ],
   "source": [
    "// Import the required NuGet configuration packages\n",
    "#r \"nuget: Microsoft.Extensions.Configuration, 8.0.0\"\n",
    "#r \"nuget: Microsoft.Extensions.Configuration.Json, 8.0.0\"\n",
    "\n",
    "using Microsoft.Extensions.Configuration.Json;\n",
    "using Microsoft.Extensions.Configuration;\n",
    "using System.IO;\n",
    "\n",
    "// Load the configuration settings from the local.settings.json and secrets.settings.json files\n",
    "// The secrets.settings.json file is used to store sensitive information such as API keys\n",
    "var configurationBuilder = new ConfigurationBuilder()\n",
    "    .SetBasePath(Directory.GetCurrentDirectory())\n",
    "    .AddJsonFile(\"local.settings.json\", optional: true, reloadOnChange: true)\n",
    "    .AddJsonFile(\"secrets.settings.json\", optional: true, reloadOnChange: true);\n",
    "var config = configurationBuilder.Build();\n",
    "\n",
    "// IMPORTANT: You ONLY NEED either Azure OpenAI or OpenAI connectiopn info, not both.\n",
    "// Azure OpenAI Connection Info\n",
    "var azureOpenAIEndpoint = config[\"AzureOpenAI:Endpoint\"];\n",
    "var azureOpenAIAPIKey = config[\"AzureOpenAI:APIKey\"];\n",
    "var azureOpenAIModelDeploymentName = config[\"AzureOpenAI:ModelDeploymentName\"];\n",
    "// OpenAI Connection Info \n",
    "var openAIAPIKey = config[\"OpenAI:APIKey\"];\n",
    "var openAIModelId = config[\"OpenAI:ModelId\"];"
   ]
  },
  {
   "cell_type": "code",
   "execution_count": 2,
   "metadata": {
    "dotnet_interactive": {
     "language": "csharp"
    },
    "polyglot_notebook": {
     "kernelName": "csharp"
    },
    "vscode": {
     "languageId": "polyglot-notebook"
    }
   },
   "outputs": [
    {
     "data": {
      "text/html": [
       "<div><div></div><div></div><div><strong>Installed Packages</strong><ul><li><span>Microsoft.SemanticKernel, 1.26.0</span></li></ul></div></div>"
      ]
     },
     "metadata": {},
     "output_type": "display_data"
    },
    {
     "name": "stdout",
     "output_type": "stream",
     "text": [
      "Using Azure OpenAI Service\n"
     ]
    }
   ],
   "source": [
    "// Import the Semantic Kernel NuGet package\n",
    "#r \"nuget: Microsoft.SemanticKernel, 1.26.0\"\n",
    "\n",
    "using Microsoft.Extensions.DependencyInjection.Extensions;\n",
    "using Microsoft.Extensions.DependencyInjection;\n",
    "using Microsoft.SemanticKernel;\n",
    "using Microsoft.SemanticKernel.ChatCompletion;\n",
    "using Microsoft.SemanticKernel.Connectors.OpenAI;\n",
    "\n",
    "Kernel semanticKernel;\n",
    "\n",
    "// Set the flag to use Azure OpenAI or OpenAI. False to use OpenAI, True to use Azure OpenAI\n",
    "var useAzureOpenAI = true;\n",
    "\n",
    "// Create a new Semantic Kernel instance\n",
    "if (useAzureOpenAI)\n",
    "{\n",
    "    Console.WriteLine(\"Using Azure OpenAI Service\");\n",
    "    semanticKernel = Kernel.CreateBuilder()\n",
    "        .AddAzureOpenAIChatCompletion(\n",
    "            deploymentName: azureOpenAIModelDeploymentName,\n",
    "            endpoint: azureOpenAIEndpoint,\n",
    "            apiKey: azureOpenAIAPIKey)\n",
    "        .Build();\n",
    "}\n",
    "else\n",
    "{\n",
    "    Console.WriteLine(\"Using OpenAI Service\");\n",
    "    semanticKernel = Kernel.CreateBuilder()\n",
    "        .AddOpenAIChatCompletion(\n",
    "            modelId: openAIModelId,\n",
    "            apiKey: openAIAPIKey)\n",
    "        .Build();\n",
    "}"
   ]
  },
  {
   "cell_type": "markdown",
   "metadata": {},
   "source": [
    "### Step 2 - Execute a Decision Intelligence Prompt "
   ]
  },
  {
   "cell_type": "markdown",
   "metadata": {},
   "source": [
    "Many LLMs and even SLMs have been trained on knowledge that includes decision frameworks & processes. This makes LLMs great assistants to:\n",
    "* Provide proper Decision Frames\n",
    "* Gather the Information & Intelligence in order to make a decision\n",
    "* Recommend Decision Frameworks to make a high-quality decision\n",
    "* Provide feedback to evaluate a Decision\n",
    "\n",
    "Once the Semantic Kernel instance is built, it is ready to intake prompt instructions. In the prompt below, the Semantic Kernel is instructed to provide examples of decision frameworks. "
   ]
  },
  {
   "cell_type": "code",
   "execution_count": 3,
   "metadata": {
    "dotnet_interactive": {
     "language": "csharp"
    },
    "polyglot_notebook": {
     "kernelName": "csharp"
    },
    "vscode": {
     "languageId": "polyglot-notebook"
    }
   },
   "outputs": [
    {
     "name": "stdout",
     "output_type": "stream",
     "text": [
      "Certainly! Here are several decision-making frameworks that can enhance the quality of decisions, along with brief descriptions of how they support better analysis and reasoning:\n",
      "\n",
      "1. **SWOT Analysis (Strengths, Weaknesses, Opportunities, Threats)**\n",
      "   - **How it helps:** This framework helps in evaluating the internal and external factors that can impact the decision. By analyzing strengths and weaknesses, an organization can leverage its internal capabilities and address areas for improvement. Opportunities and threats analysis helps in understanding the external environment and potential risks and benefits.\n",
      "   - **Suitable for:** Strategic planning, market analysis, organizational development.\n",
      "\n",
      "2. **PEST Analysis (Political, Economic, Social, Technological)**\n",
      "   - **How it helps:** PEST analysis allows decision-makers to understand the macro-environmental factors that could affect their business. This holistic view ensures that all external influences are considered, which can affect the long-term success of a project or business.\n",
      "   - **Suitable for:** Market entry strategies, strategic planning, external environment analysis.\n",
      "\n",
      "3. **Cost-Benefit Analysis (CBA)**\n",
      "   - **How it helps:** This quantitative approach assesses the financial implications of decisions by comparing the expected costs and benefits. It ensures that the potential advantages outweigh the expenses, promoting economic efficiency.\n",
      "   - **Suitable for:** Project evaluation, investment decisions, policy implementation.\n",
      "\n",
      "4. **Decision Matrix (or Rational Decision-Making Model)**\n",
      "   - **How it helps:** A decision matrix evaluates and prioritizes a list of options based on a set of predefined criteria. Each option is scored and weighted, facilitating a systematic comparison.\n",
      "   - **Suitable for:** Complex decision scenarios, options evaluation where multiple factors need to be considered.\n",
      "\n",
      "5. **The Eisenhower Box (Urgent-Important Matrix)**\n",
      "   - **How it helps:** This time-management tool helps in prioritizing tasks by categorizing them based on their urgency and importance. It ensures that critical tasks are addressed promptly and that time is managed efficiently.\n",
      "   - **Suitable for:** Personal productivity, project management, task prioritization.\n",
      "\n",
      "6. **Six Thinking Hats**\n",
      "   - **How it helps:** Developed by Edward de Bono, this framework encourages parallel thinking by assigning different roles (hats) to team members to explore different perspectives (logical, emotional, creative, etc.). It helps in widening the scope of thinking and avoiding groupthink.\n",
      "   - **Suitable for:** Team decision-making, creative problem solving, brainstorming sessions.\n",
      "\n",
      "7. **Pros and Cons Analysis**\n",
      "   - **How it helps:** This simple yet effective framework involves listing the advantages (pros) and disadvantages (cons) of each option. It helps in visualizing the trade-offs and can clarify the likely outcomes.\n",
      "   - **Suitable for:** Personal decisions, quick evaluations, straightforward issues.\n",
      "\n",
      "8. **Fishbone Diagram (Ishikawa or Cause and Effect Diagram)**\n",
      "   - **How it helps:** This visual tool helps in identifying the root causes of a problem. By categorizing potential causes into major categories (e.g., manpower, methods, machinery, materials), it facilitates a thorough causal analysis.\n",
      "   - **Suitable for:** Problem-solving, quality management, process improvement.\n",
      "\n",
      "9. **The OODA Loop (Observe, Orient, Decide, Act)**\n",
      "   - **How it helps:** Derived from military strategy, this cycle emphasizes rapid and continuous reassessment and adaptation. It supports agile and responsive decision-making by encouraging the constant adjustment to changing situations.\n",
      "   - **Suitable for:** Competitive strategy, rapid response scenarios, dynamic environments.\n",
      "\n",
      "10. **The VRIO Framework (Value, Rarity, Imitability, Organization)**\n",
      "    - **How it helps:** This strategic analysis tool helps in assessing an organization's resources and capabilities. It determines if resources provide a competitive advantage by evaluating each on four criteria: value, rarity, imitability, and organization.\n",
      "    - **Suitable for:** Internal resource analysis, competitive advantage assessment, strategic resource allocation.\n",
      "\n",
      "Each of these frameworks offers a structured approach to decision-making, ensuring that various aspects are considered and evaluated, which leads to more informed and effective decisions across different scenarios.\n"
     ]
    }
   ],
   "source": [
    "// New prompt to help with decision-making frameworks\n",
    "var simpleDecisionPrompt = \"\"\"\n",
    "Identify and list various decision-making frameworks that can enhance the quality of decisions. \n",
    "Briefly describe how each framework supports better analysis and reasoning in different decision-making scenarios.\n",
    "\"\"\";\n",
    "\n",
    "var simplePromptResponse = await semanticKernel.InvokePromptAsync(simpleDecisionPrompt);\n",
    "Console.WriteLine(simplePromptResponse.GetValue<string>());"
   ]
  },
  {
   "cell_type": "markdown",
   "metadata": {},
   "source": [
    "### Step 3 - Execute a Decision Intelligence Prompt with Streaming"
   ]
  },
  {
   "cell_type": "markdown",
   "metadata": {},
   "source": [
    "Semantic Kernel supports prompt response streaming when invoking the prompt. This allows responses to be streamed to the client as soon as they are made available by the LLM and service. Below the same decision prompt is executed. However, notice that chunks are streamed and can be read by the user as soon as they appear. "
   ]
  },
  {
   "cell_type": "code",
   "execution_count": 5,
   "metadata": {
    "dotnet_interactive": {
     "language": "csharp"
    },
    "polyglot_notebook": {
     "kernelName": "csharp"
    },
    "vscode": {
     "languageId": "polyglot-notebook"
    }
   },
   "outputs": [
    {
     "name": "stdout",
     "output_type": "stream",
     "text": [
      "Certainly! Various decision-making frameworks can enhance the quality of decisions by providing structured approaches to analyze options, consequences, and uncertainties. Here are some commonly used frameworks:\n",
      "\n",
      "1. **Rational Decision-Making Model**\n",
      "   - **Description**: This model involves a systematic process of defining the problem, identifying the decision criteria, weighting those criteria, creating alternatives, evaluating the alternatives, and choosing the best one.\n",
      "   - **Support**: It promotes thorough analysis and a logical approach, minimizing biases and ensuring that all factors are considered.\n",
      "\n",
      "2. **Pros and Cons Analysis**\n",
      "   - **Description**: This straightforward approach involves listing the advantages (pros) and disadvantages (cons) of each option.\n",
      "   - **Support**: It helps in directly comparing the merits and drawbacks of each choice, making it easier to visualize trade-offs.\n",
      "\n",
      "3. **SWOT Analysis**\n",
      "   - **Description**: Identifies and analyzes the Strengths, Weaknesses, Opportunities, and Threats related to a decision.\n",
      "   - **Support**: It provides a comprehensive view of internal and external factors impacting the decision, helping in strategic planning and risk assessment.\n",
      "\n",
      "4. **Decision Matrix (Weighted Scoring Model)**\n",
      "   - **Description**: A table used to evaluate multiple options against a set of criteria, where each criterion is given a weight.\n",
      "   - **Support**: It quantifies the assessment of options, making the decision-making process more objective and balanced.\n",
      "\n",
      "5. **Cost-Benefit Analysis (CBA)**\n",
      "   - **Description**: Compares the estimated costs and benefits of each option.\n",
      "   - **Support**: It provides a clear financial perspective, which is crucial for decisions involving economic trade-offs.\n",
      "\n",
      "6. **Pareto Analysis**\n",
      "   - **Description**: Also known as the 80/20 rule, it focuses on identifying the small number of causes that typically create the majority of problems.\n",
      "   - **Support**: It helps prioritize the most significant factors, ensuring efforts are concentrated where they can produce the most substantial impact.\n",
      "\n",
      "7. **Six Thinking Hats**\n",
      "   - **Description**: Developed by Edward de Bono, this method encourages looking at a decision from six distinct perspectives (logical, emotional, critical, optimistic, creative, and process-oriented).\n",
      "   - **Support**: It allows for a comprehensive examination of the decision by considering various viewpoints and reducing the impact of individual biases.\n",
      "\n",
      "8. **OODA Loop (Observe, Orient, Decide, Act)**\n",
      "   - **Description**: A cyclical model designed for rapid decision-making and iteration, mainly used in military contexts or fast-paced environments.\n",
      "   - **Support**: It supports quick adjustments and responses to changing conditions, emphasizing situational awareness and flexibility.\n",
      "\n",
      "9. **PDCA Cycle (Plan-Do-Check-Act)**\n",
      "   - **Description**: A continuous improvement model used for decision-making and problem-solving, emphasizing iterative learning and improvement.\n",
      "   - **Support**: It encourages ongoing assessment and refinement of decisions, improving long-term outcomes.\n",
      "\n",
      "10. **Delphi Method**\n",
      "    - **Description**: A structured communication technique using rounds of anonymous surveys to gather experts' opinions and achieve a consensus.\n",
      "    - **Support**: It reduces the influence of dominant individuals and leverages collective intelligence, making it ideal for complex or uncertain scenarios.\n",
      "\n",
      "11. **Fishbone Diagram (Ishikawa)**\n",
      "    - **Description**: A visual tool used to identify potential causes of problems and organize them into categories.\n",
      "    - **Support**: It helps systematically explore root causes, leading to better problem definition and solution-finding.\n",
      "\n",
      "12. **Monte Carlo Simulation**\n",
      "    - **Description**: Uses computational algorithms to model the probability of different outcomes in a decision-making process.\n",
      "    - **Support**: It provides a way to assess the impact of risk and uncertainty, offering insights into potential future scenarios.\n",
      "\n",
      "These frameworks each have specific strengths, making them suitable for different types of decision-making scenarios. By selecting an appropriate framework, decision-makers can enhance their ability to reason systematically, consider all relevant variables, and ultimately make more informed and effective choices."
     ]
    }
   ],
   "source": [
    "await foreach (var streamChunk in semanticKernel.InvokePromptStreamingAsync(simpleDecisionPrompt))\n",
    "{\n",
    "   Console.Write(streamChunk);\n",
    "}"
   ]
  },
  {
   "cell_type": "markdown",
   "metadata": {},
   "source": [
    "### Step 4 - Execute a Semantic Kernel Decision Prompt with Improved Formatting  "
   ]
  },
  {
   "cell_type": "markdown",
   "metadata": {},
   "source": [
    "Generative AI models have an inherent ability to not only provide decision reasoning analysis, but also format the output in a desired format. This could be as simple as instructing the Generative AI model to format the decision as a single sentence, paragraphs or lists. However more sophisticated output generations can be instructed. For example, the GenAI model can ouput Markdown or even extract information and fill in a desired schema (JSON). Specifically for Decision Intelligence, you can ask the GenAI models to apply decision communication frameworks to the generation as well. \n",
    "\n",
    "Execute the simple decision prompt below with Markdown formatting. This table can now be rendered in a Markdown document for easy comprehension. "
   ]
  },
  {
   "cell_type": "code",
   "execution_count": 6,
   "metadata": {
    "dotnet_interactive": {
     "language": "csharp"
    },
    "polyglot_notebook": {
     "kernelName": "csharp"
    },
    "vscode": {
     "languageId": "polyglot-notebook"
    }
   },
   "outputs": [
    {
     "name": "stdout",
     "output_type": "stream",
     "text": [
      "| Decision-Making Framework         | Description                                                                                                                                                     |\n",
      "|-----------------------------------|-----------------------------------------------------------------------------------------------------------------------------------------------------------------|\n",
      "| SWOT Analysis                     | Assesses strengths, weaknesses, opportunities, and threats to provide a comprehensive view of an organization or situation.                                        |\n",
      "| DECIDE Model                      | Stands for Define the problem, Establish criteria, Consider alternatives, Identify the best option, Develop and implement a plan, and Evaluate the results.        |\n",
      "| PDCA Cycle (Deming Cycle)         | Involves four steps: Plan, Do, Check, Act. Encourages continuous improvement based on regular feedback and iterative testing.                                      |\n",
      "| Cost-Benefit Analysis             | Evaluates the economic costs and benefits of different options to determine the best financial decision.                                                          |\n",
      "| Six Thinking Hats                 | Uses six different perspectives (hats) to analyze situations: white (facts), red (emotions), black (caution), yellow (optimism), green (creativity), and blue (process). |\n",
      "| Pareto Analysis                   | Focuses on identifying the most significant factors (the vital few) that contribute to the majority of the problems, based on the 80/20 principle.                  |\n",
      "| The OODA Loop                     | Stands for Observe, Orient, Decide, and Act. A cycle that supports rapid decision-making, especially useful in competitive or fast-changing environments.           |\n",
      "| Multi-Criteria Decision Analysis (MCDA) | Evaluates multiple criteria in decision-making, allowing complex scenarios to be broken down and analyzed systematically.                                        |\n",
      "| Vroom-Yetton Decision Model       | Provides a decision tree to help leaders determine the appropriate level of involvement of others in the decision-making process.                                   |\n",
      "| TRIZ (Theory of Inventive Problem Solving) | Uses a systematic approach for understanding and solving complex problems by drawing on patterns of invention and creativity from other industries and technologies.    |\n"
     ]
    }
   ],
   "source": [
    "// New prompt to help with decision-making frameworks using Markdown formatting.\n",
    "var simpleDecisionPromptWithMarkdownFormat = \"\"\"\n",
    "Identify and list various decision-making frameworks that can enhance the quality of decisions. \n",
    "Briefly describe how each framework supports better analysis and reasoning in different decision-making scenarios.\n",
    "\n",
    "Format the response using a Markdown table. Do not enclose the table in triple backticks.\n",
    "\"\"\";\n",
    "\n",
    "await foreach (var streamChunk in semanticKernel.InvokePromptStreamingAsync(simpleDecisionPromptWithMarkdownFormat))\n",
    "{\n",
    "   Console.Write(streamChunk);\n",
    "}"
   ]
  },
  {
   "cell_type": "markdown",
   "metadata": {},
   "source": [
    "| Framework Name             | Description                                                                                              |\n",
    "|----------------------------|----------------------------------------------------------------------------------------------------------|\n",
    "| **SWOT Analysis**          | Evaluates Strengths, Weaknesses, Opportunities, and Threats of a situation. Helps balance internal and external factors. |\n",
    "| **PEST Analysis**          | Analyzes Political, Economic, Social, and Technological environments. Supports strategic planning by understanding external macro-environmental factors. |\n",
    "| **Decision Matrix**        | Uses a grid to compare different options against a set of criteria. Facilitates objective comparisons by quantifying preferences. |\n",
    "| **Cost-Benefit Analysis**  | Compares the anticipated costs and benefits of various choices. Aids in determining the economic viability of decisions. |\n",
    "| **Scenario Planning**      | Envisions multiple future scenarios to prepare for possible outcomes. Enhances preparedness and flexibility in decision-making. |\n",
    "| **Pareto Analysis**        | Uses the 80/20 rule to prioritize actions that will have the greatest impact. Focuses efforts on the most significant factors. |\n",
    "| **Pros and Cons Analysis** | Lists the advantages and disadvantages of each option. Provides a simple yet effective way to weigh different aspects. |\n",
    "| **Six Thinking Hats**      | Encourages looking at decisions from multiple perspectives (emotional, logical, creative, etc.). Promotes comprehensive analysis and creative thinking. |\n",
    "| **Rational Decision-Making Model** | Follows a structured and logical approach: define the problem, identify criteria, weigh criteria, generate alternatives, rate each alternative, and compute the optimal decision. Ensures systematic evaluation. |\n",
    "| **OODA Loop**              | Stands for Observe, Orient, Decide, and Act. A framework for making quick and iterative decisions, especially in dynamic environments. |\n",
    "| **Kepner-Tregoe Analysis** | Distinguishes problem analysis, decision analysis, and potential problem analysis. Clarifies choices by separating different aspects of decision-making. |\n",
    "| **Root Cause Analysis**    | Identifies the underlying causes of a problem rather than fixing symptoms. Enhances long-term solutions by addressing fundamental issues. |\n",
    "| **Multi-Criteria Decision Analysis (MCDA)** | Assesses and integrates multiple criteria in decision-making. Useful for complex decisions requiring consideration of diverse factors. |\n",
    "| **The Analytic Hierarchy Process (AHP)** | Structures decision-making through hierarchy decomposition, pairwise comparisons, and priority setting. Simplifies complex decisions and ensures consistency. |\n",
    "\n",
    "These frameworks provide structured approaches to decision-making, enhancing clarity, thoroughness, and effectiveness in various scenarios."
   ]
  },
  {
   "cell_type": "markdown",
   "metadata": {},
   "source": [
    "### Step 5 - Execute a Decision Intelligence Prompt with a Custom Execution Configuration"
   ]
  },
  {
   "cell_type": "markdown",
   "metadata": {},
   "source": [
    "Semantic Kernel supports the configuration of prompt execution. The typical OpenAI and Azure OpenAI settings are exposed as configuration options that provide a different prompt experience. Try changing the MaxTokens, Tempature or other settings."
   ]
  },
  {
   "cell_type": "code",
   "execution_count": 7,
   "metadata": {
    "dotnet_interactive": {
     "language": "csharp"
    },
    "polyglot_notebook": {
     "kernelName": "csharp"
    },
    "vscode": {
     "languageId": "polyglot-notebook"
    }
   },
   "outputs": [
    {
     "name": "stdout",
     "output_type": "stream",
     "text": [
      "Certainly! Here are several decision-making frameworks that can enhance the quality of decisions, along with brief descriptions of how each supports better analysis and reasoning:\n",
      "\n",
      "1. **SWOT Analysis (Strengths, Weaknesses, Opportunities, Threats)**\n",
      "   - **Description**: This framework helps in identifying internal strengths and weaknesses, as well as external opportunities and threats.\n",
      "   - **Support**: It provides a structured way to evaluate the internal and external factors that can impact a decision, allowing for a comprehensive understanding of the situation.\n",
      "\n",
      "2. **PEST Analysis (Political, Economic, Social, Technological)**\n",
      "   - **Description**: This framework examines the macro-environmental factors that could influence a decision.\n",
      "   - **Support**: By analyzing these four key areas, decision-makers can anticipate potential impacts from the external environment and make more informed strategic choices.\n",
      "\n",
      "3. **Decision Matrix (Weighted Scoring Model)**\n",
      "   - **Description**: This tool involves listing options and criteria, assigning weights to each criterion, and scoring each option against the criteria.\n",
      "   - **Support**: It helps in quantitatively comparing different options based on multiple criteria, making it easier to identify the best choice objectively.\n",
      "\n",
      "4. **Cost-Benefit Analysis (CBA)**\n",
      "   - **Description**: This method involves comparing the costs and benefits of different options.\n",
      "   - **Support**: It provides a clear financial perspective, helping to determine whether the benefits of a decision outweigh the costs, which is crucial for resource allocation.\n",
      "\n",
      "5. **Six Thinking Hats**\n",
      "   - **Description**: Developed by Edward de Bono, this framework involves looking at a decision from six different perspectives (logical, emotional, cautious, optimistic, creative, and process-oriented).\n",
      "   - **Support**: It encourages comprehensive thinking and helps in exploring all aspects of a decision, reducing the risk of bias and blind spots.\n",
      "\n",
      "6. **Pareto Analysis (80/20 Rule)**\n",
      "   - **Description**: This principle suggests that 80% of effects come from 20% of causes.\n",
      "   - **Support**: It helps in identifying the most significant factors that will have the greatest impact, allowing decision-makers to focus on the most critical issues.\n",
      "\n",
      "7. **Root Cause Analysis (RCA)**\n",
      "   - **Description**: This technique involves identifying the underlying causes of a problem rather than just addressing the symptoms.\n",
      "   - **Support**: By understanding the root causes, decision-makers can develop more effective and sustainable solutions.\n",
      "\n",
      "8. **Scenario Planning**\n",
      "   - **Description**: This involves creating detailed and plausible scenarios for the future and analyzing how different decisions would play out in each scenario.\n",
      "   - **Support**: It prepares decision-makers for a range of possible futures, enhancing flexibility and strategic planning.\n",
      "\n",
      "9. **The OODA Loop (Observe, Orient, Decide, Act)**\n",
      "   - **Description**: Developed by military strategist John Boyd, this loop emphasizes a continuous cycle of observing, orienting, deciding, and acting.\n",
      "   - **Support**: It promotes agility and rapid decision-making, which is particularly useful in dynamic and fast-changing environments.\n",
      "\n",
      "10. **Pros and Cons List**\n",
      "    - **Description**: A simple technique where the positive and negative aspects of each option are listed.\n",
      "    - **Support**: It provides a clear visual comparison of the advantages and disadvantages, aiding in straightforward decision-making.\n",
      "\n",
      "11. **The Eisenhower Matrix (Urgent-Important Matrix)**\n",
      "    - **Description**: This matrix helps prioritize tasks by categorizing them based on their urgency and importance.\n",
      "    - **Support**: It aids in time management and ensures that attention is focused on the most critical tasks, improving productivity and decision quality.\n",
      "\n",
      "12. **Monte Carlo Simulation**\n",
      "    - **Description**: This statistical technique uses random sampling and statistical modeling to estimate the probabilities of different outcomes.\n",
      "    - **Support**: It provides a probabilistic analysis of risk and uncertainty, which is valuable for complex decisions involving multiple variables.\n",
      "\n",
      "Each of these frameworks offers unique strengths and can be chosen based on the specific context and requirements of the decision-making scenario. By applying these frameworks, decision-makers can enhance their analysis, reasoning, and ultimately the quality of their decisions."
     ]
    }
   ],
   "source": [
    "// Create a new OpenAI prompt execution settings object\n",
    "var openAIPromptExecutionSettings = new OpenAIPromptExecutionSettings { \n",
    "    MaxTokens = 1000, \n",
    "    Temperature = 0.3, \n",
    "    TopP = 1.0, \n",
    "    FrequencyPenalty = 0.0, \n",
    "    PresencePenalty = 0.0\n",
    "    };\n",
    "\n",
    "KernelArguments kernelArguments = new KernelArguments(openAIPromptExecutionSettings);\n",
    "await foreach (var streamChunk in semanticKernel.InvokePromptStreamingAsync(simpleDecisionPrompt, kernelArguments))\n",
    "{\n",
    "   Console.Write(streamChunk);\n",
    "}"
   ]
  },
  {
   "cell_type": "markdown",
   "metadata": {},
   "source": [
    "### Step 6 - Execute a Decision Instelligence Prompt with a System Prompt (Custom AI Persona)"
   ]
  },
  {
   "cell_type": "markdown",
   "metadata": {},
   "source": [
    "All the typical best practices of prompt engineering apply when using Semantic Kernel.  \n",
    "* Make the prompt more specific\n",
    "* Add structure to the output with formatting\n",
    "* Provide examples with few-shot prompting\n",
    "* Instruct the AI what to do to avoid doing something wrong\n",
    "* Provide context (additional information) to the AI\n",
    "* Using Roles in chat completion prompts\n",
    "* Give your AI words of encouragement  \n",
    "\n",
    "One best practice is to provide a common behaviour across all the LLM interactions in a system prompt. This system prompt is passed in on every single call the LLM with Semantic Kernel. These prompts can be dynamically created with a programming language like C# or Python.  \n",
    "\n",
    "Execute the cell below with a dynamic prompt template. Notice the different behavior of the output for decision frameworks. The decision framework responses are much more robust with decision intelligence information."
   ]
  },
  {
   "cell_type": "code",
   "execution_count": 8,
   "metadata": {
    "dotnet_interactive": {
     "language": "csharp"
    },
    "polyglot_notebook": {
     "kernelName": "csharp"
    },
    "vscode": {
     "languageId": "polyglot-notebook"
    }
   },
   "outputs": [
    {
     "name": "stdout",
     "output_type": "stream",
     "text": [
      "Prompt To Send to the Azure OpenAI Chat Completion Service...\n",
      "System Prompt: You are a Decision Intelligence Assistant. \n",
      "Assist the user in exploring options, reasoning through decisions, problem-solving.\n",
      "Apply systems thinking to various scenarios. \n",
      "Provide structured, logical, and comprehensive advice.\n",
      "\n",
      "Request from the user: Provide some decision frameworks that can help improve the quality of decisions.\n",
      "\n",
      "----------------------------------------\n",
      "\n",
      "Response from the Azure OpenAI Chat Completion Service...\n",
      "Certainly! Here are several decision-making frameworks that can help improve the quality of decisions:\n",
      "\n",
      "1. **SWOT Analysis (Strengths, Weaknesses, Opportunities, Threats)**:\n",
      "   - **Strengths**: Identify internal strengths of the organization or individual.\n",
      "   - **Weaknesses**: Identify internal weaknesses.\n",
      "   - **Opportunities**: Identify external opportunities.\n",
      "   - **Threats**: Identify external threats.\n",
      "   - **Use Case**: This framework is useful for strategic planning and understanding the internal and external factors affecting a decision.\n",
      "\n",
      "2. **PEST Analysis (Political, Economic, Social, Technological)**:\n",
      "   - **Political**: Consider the impact of political factors.\n",
      "   - **Economic**: Evaluate economic conditions and trends.\n",
      "   - **Social**: Assess social and cultural influences.\n",
      "   - **Technological**: Examine technological advancements and innovations.\n",
      "   - **Use Case**: This framework helps in understanding the macro-environmental factors that could impact the decision.\n",
      "\n",
      "3. **Cost-Benefit Analysis**:\n",
      "   - **Costs**: Identify and quantify all the costs associated with the decision.\n",
      "   - **Benefits**: Identify and quantify all the benefits.\n",
      "   - **Comparison**: Compare the total costs against the total benefits.\n",
      "   - **Use Case**: This is useful for financial decisions and determining the economic feasibility of a project or action.\n",
      "\n",
      "4. **Decision Matrix (Weighted Scoring Model)**:\n",
      "   - **Criteria**: List the criteria important for the decision.\n",
      "   - **Weighting**: Assign weights to each criterion based on their importance.\n",
      "   - **Scoring**: Score each option against each criterion.\n",
      "   - **Calculation**: Multiply the scores by the weights and sum them up for each option.\n",
      "   - **Use Case**: This framework is useful for comparing multiple options based on various weighted criteria.\n",
      "\n",
      "5. **Six Thinking Hats**:\n",
      "   - **White Hat**: Focus on data and information.\n",
      "   - **Red Hat**: Consider emotions and intuition.\n",
      "   - **Black Hat**: Identify potential problems and risks.\n",
      "   - **Yellow Hat**: Look at the positives and benefits.\n",
      "   - **Green Hat**: Explore creativity and new ideas.\n",
      "   - **Blue Hat**: Manage the thinking process and ensure all perspectives are considered.\n",
      "   - **Use Case**: This framework is useful for group decision-making and ensuring a comprehensive view of the problem.\n",
      "\n",
      "6. **OODA Loop (Observe, Orient, Decide, Act)**:\n",
      "   - **Observe**: Gather information and data.\n",
      "   - **Orient**: Analyze the information and understand the context.\n",
      "   - **Decide**: Make a decision based on the analysis.\n",
      "   - **Act**: Implement the decision.\n",
      "   - **Use Case**: This framework is useful in dynamic and fast-paced environments where quick and adaptive decision-making is required.\n",
      "\n",
      "7. **Pros and Cons List**:\n",
      "   - **Pros**: List all the advantages of the decision.\n",
      "   - **Cons**: List all the disadvantages.\n",
      "   - **Comparison**: Weigh the pros against the cons to make a decision.\n",
      "   - **Use Case**: This simple framework is useful for personal decisions and when a quick evaluation is needed.\n",
      "\n",
      "8. **Pareto Analysis (80/20 Rule)**:\n",
      "   - **Identify Problems**: List all the problems or causes of a problem.\n",
      "   - **Score Problems**: Assign a score to each problem based on its impact.\n",
      "   - **Prioritize**: Focus on the problems with the highest scores (typically the top 20% that cause 80% of the issues).\n",
      "   - **Use Case**: This framework"
     ]
    }
   ],
   "source": [
    "// Create a system prompt instruction to override the default system prompt\n",
    "// Add the System Prompt (Persona) to behave like a decision intelligence assistant\n",
    "var systemPromptForDecisions = \"\"\"\n",
    "You are a Decision Intelligence Assistant. \n",
    "Assist the user in exploring options, reasoning through decisions, problem-solving.\n",
    "Apply systems thinking to various scenarios. \n",
    "Provide structured, logical, and comprehensive advice.\n",
    "\"\"\";\n",
    "var simpleDecisionPrompt = \"Provide some decision frameworks that can help improve the quality of decisions.\";\n",
    "\n",
    "// How the prompt looks like to the LLM\n",
    "var simpleDecisionPromptTemplate = $\"\"\"\n",
    "System Prompt: {systemPromptForDecisions}\n",
    "\n",
    "Request from the user: {simpleDecisionPrompt}\n",
    "\"\"\";\n",
    "\n",
    "// Create a new OpenAI prompt execution settings object\n",
    "var openAIPromptExecutionSettings = new OpenAIPromptExecutionSettings { \n",
    "    ChatSystemPrompt = systemPromptForDecisions,\n",
    "    MaxTokens = 750, \n",
    "    Temperature = 0.3, \n",
    "    TopP = 1.0, \n",
    "    FrequencyPenalty = 0.0, \n",
    "    PresencePenalty = 0.0\n",
    "    };\n",
    "KernelArguments kernelArguments = new KernelArguments(openAIPromptExecutionSettings);\n",
    "\n",
    "Console.WriteLine(\"Prompt To Send to the Azure OpenAI Chat Completion Service...\");\n",
    "Console.WriteLine(simpleDecisionPromptTemplate);\n",
    "Console.WriteLine(string.Empty);\n",
    "Console.WriteLine(\"----------------------------------------\");\n",
    "Console.WriteLine(string.Empty);\n",
    "Console.WriteLine(\"Response from the Azure OpenAI Chat Completion Service...\");\n",
    "\n",
    "\n",
    "await foreach (var streamChunk in semanticKernel.InvokePromptStreamingAsync(simpleDecisionPrompt, kernelArguments))\n",
    "{\n",
    "   Console.Write(streamChunk);\n",
    "}"
   ]
  }
 ],
 "metadata": {
  "kernelspec": {
   "display_name": ".NET (C#)",
   "language": "C#",
   "name": ".net-csharp"
  },
  "language_info": {
   "name": "csharp"
  },
  "polyglot_notebook": {
   "kernelInfo": {
    "defaultKernelName": "csharp",
    "items": [
     {
      "aliases": [],
      "name": "csharp"
     }
    ]
   }
  }
 },
 "nbformat": 4,
 "nbformat_minor": 2
}
