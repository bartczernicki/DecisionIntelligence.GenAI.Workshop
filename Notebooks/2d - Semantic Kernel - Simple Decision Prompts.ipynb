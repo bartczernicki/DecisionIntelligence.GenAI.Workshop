{
 "cells": [
  {
   "cell_type": "markdown",
   "metadata": {},
   "source": [
    "<img style=\"float: left;padding-right: 10px\" width =\"40px\" src=\"https://raw.githubusercontent.com/bartczernicki/DecisionIntelligence.GenAI.Workshop/main/Images/SemanticKernelLogo.png\">\n",
    "\n",
    "## Semantic Kernel - Simple Decision Prompts"
   ]
  },
  {
   "cell_type": "markdown",
   "metadata": {},
   "source": [
    "Decision Intelligence applied in this module:  \n",
    "* Listing of various decision-making frameworks and with their descriptions by using GenAI prompt engineering  \n",
    "* Creating custom AI personas with a system decision prompt  \n",
    "* Generating decision outputs using easier to consume formats (Markdown)     \n",
    "\n",
    "Prompts are the fundemental building block to getting the proper responses from AI models. This module demonstrates how to use common prompt engineering techniques while using Semantic Kernel. If you've ever used ChatGPT or Microsoft Copilot, you're already familiar with prompting. Given a prompt instruction, an LLM will attempt to predict the most likely response. With Semantic Kernel, you can craft applications, services & APIs that execute prompts.  \n",
    "\n",
    "For more information on using prompts with Semantic Kernel, visit: https://learn.microsoft.com/en-us/semantic-kernel/prompts/your-first-prompt  \n",
    "\n",
    "The process of carefully crafting questions or instructions for AI is called **Prompt Engineering**. Prompt Engineering involves designing and refining input prompts—text or questions—so that the AI produces responses that are more relevant, useful, or accurate. The goal of prompt engineering is to \"tune\" the prompt in a way that maximizes the quality and clarity of the AI's response, often using specific wording, context, or examples within the prompt itself.\n",
    "\n",
    "Decision Intelligence and Prompt Engineering techniques can be combined to created \"Generative AI Decision Intellignce\"! This can leverage GenAI models to reason over complex tasks, gather intelligence for decisions, recommend decisions, communicate decisions etc. "
   ]
  },
  {
   "cell_type": "markdown",
   "metadata": {},
   "source": [
    "### Step 1 - Initialize Configuration Builder & Build the Semantic Kernel Orchestration "
   ]
  },
  {
   "cell_type": "markdown",
   "metadata": {},
   "source": [
    "Execute the next two cells to:\n",
    "* Use the Configuration Builder to load the API secrets.  \n",
    "* Use the API configuration to build the Semantic Kernel orchestrator."
   ]
  },
  {
   "cell_type": "code",
   "execution_count": 7,
   "metadata": {
    "dotnet_interactive": {
     "language": "csharp"
    },
    "polyglot_notebook": {
     "kernelName": "csharp"
    },
    "vscode": {
     "languageId": "polyglot-notebook"
    }
   },
   "outputs": [
    {
     "data": {
      "text/html": [
       "<div><div></div><div></div><div><strong>Installed Packages</strong><ul><li><span>Microsoft.Extensions.Configuration, 9.0.0</span></li><li><span>Microsoft.Extensions.Configuration.Json, 9.0.0</span></li></ul></div></div>"
      ]
     },
     "metadata": {},
     "output_type": "display_data"
    }
   ],
   "source": [
    "// Import the required NuGet configuration packages\n",
    "#r \"nuget: Microsoft.Extensions.Configuration, 9.0.0\"\n",
    "#r \"nuget: Microsoft.Extensions.Configuration.Json, 9.0.0\"\n",
    "\n",
    "using Microsoft.Extensions.Configuration.Json;\n",
    "using Microsoft.Extensions.Configuration;\n",
    "using System.IO;\n",
    "\n",
    "// Load the configuration settings from the local.settings.json and secrets.settings.json files\n",
    "// The secrets.settings.json file is used to store sensitive information such as API keys\n",
    "var configurationBuilder = new ConfigurationBuilder()\n",
    "    .SetBasePath(Directory.GetCurrentDirectory())\n",
    "    .AddJsonFile(\"local.settings.json\", optional: true, reloadOnChange: true)\n",
    "    .AddJsonFile(\"secrets.settings.json\", optional: true, reloadOnChange: true);\n",
    "var config = configurationBuilder.Build();\n",
    "\n",
    "// IMPORTANT: You ONLY NEED either Azure OpenAI or OpenAI connectiopn info, not both.\n",
    "// Azure OpenAI Connection Info\n",
    "var azureOpenAIEndpoint = config[\"AzureOpenAI:Endpoint\"];\n",
    "var azureOpenAIAPIKey = config[\"AzureOpenAI:APIKey\"];\n",
    "var azureOpenAIModelDeploymentName = config[\"AzureOpenAI:ModelDeploymentName\"];\n",
    "// OpenAI Connection Info \n",
    "var openAIAPIKey = config[\"OpenAI:APIKey\"];\n",
    "var openAIModelId = config[\"OpenAI:ModelId\"];"
   ]
  },
  {
   "cell_type": "code",
   "execution_count": 8,
   "metadata": {
    "dotnet_interactive": {
     "language": "csharp"
    },
    "polyglot_notebook": {
     "kernelName": "csharp"
    },
    "vscode": {
     "languageId": "polyglot-notebook"
    }
   },
   "outputs": [
    {
     "data": {
      "text/html": [
       "<div><div></div><div></div><div><strong>Installed Packages</strong><ul><li><span>Microsoft.SemanticKernel, 1.29.0</span></li></ul></div></div>"
      ]
     },
     "metadata": {},
     "output_type": "display_data"
    },
    {
     "name": "stdout",
     "output_type": "stream",
     "text": [
      "Using Azure OpenAI Service\n"
     ]
    }
   ],
   "source": [
    "// Import the Semantic Kernel NuGet package\n",
    "#r \"nuget: Microsoft.SemanticKernel, 1.29.0\"\n",
    "\n",
    "using Microsoft.Extensions.DependencyInjection.Extensions;\n",
    "using Microsoft.Extensions.DependencyInjection;\n",
    "using Microsoft.SemanticKernel;\n",
    "using Microsoft.SemanticKernel.ChatCompletion;\n",
    "using Microsoft.SemanticKernel.Connectors.OpenAI;\n",
    "\n",
    "Kernel semanticKernel;\n",
    "\n",
    "// Set the flag to use Azure OpenAI or OpenAI. False to use OpenAI, True to use Azure OpenAI\n",
    "var useAzureOpenAI = true;\n",
    "\n",
    "// Create a new Semantic Kernel instance\n",
    "if (useAzureOpenAI)\n",
    "{\n",
    "    Console.WriteLine(\"Using Azure OpenAI Service\");\n",
    "    semanticKernel = Kernel.CreateBuilder()\n",
    "        .AddAzureOpenAIChatCompletion(\n",
    "            deploymentName: azureOpenAIModelDeploymentName,\n",
    "            endpoint: azureOpenAIEndpoint,\n",
    "            apiKey: azureOpenAIAPIKey)\n",
    "        .Build();\n",
    "}\n",
    "else\n",
    "{\n",
    "    Console.WriteLine(\"Using OpenAI Service\");\n",
    "    semanticKernel = Kernel.CreateBuilder()\n",
    "        .AddOpenAIChatCompletion(\n",
    "            modelId: openAIModelId,\n",
    "            apiKey: openAIAPIKey)\n",
    "        .Build();\n",
    "}"
   ]
  },
  {
   "cell_type": "markdown",
   "metadata": {},
   "source": [
    "### Step 2 - Execute a Decision Intelligence Prompt "
   ]
  },
  {
   "cell_type": "markdown",
   "metadata": {},
   "source": [
    "Many LLMs and even SLMs have been trained on knowledge that includes decision frameworks & processes. This makes LLMs great assistants to:\n",
    "* Provide proper Decision Frames\n",
    "* Gather the Information & Intelligence in order to make a decision\n",
    "* Recommend Decision Frameworks to make a high-quality decision\n",
    "* Provide feedback to evaluate a Decision\n",
    "\n",
    "Once the Semantic Kernel instance is built, it is ready to intake prompt instructions. In the prompt below, the Semantic Kernel is instructed to provide examples of decision frameworks. "
   ]
  },
  {
   "cell_type": "code",
   "execution_count": 9,
   "metadata": {
    "dotnet_interactive": {
     "language": "csharp"
    },
    "polyglot_notebook": {
     "kernelName": "csharp"
    },
    "vscode": {
     "languageId": "polyglot-notebook"
    }
   },
   "outputs": [
    {
     "name": "stdout",
     "output_type": "stream",
     "text": [
      "Sure, here are five decision-making frameworks that can enhance the quality of decisions, along with brief descriptions of how each framework supports better analysis and reasoning:\n",
      "\n",
      "1. **SWOT Analysis (Strengths, Weaknesses, Opportunities, Threats)**\n",
      "   - **Description:** SWOT analysis is a strategic planning tool used to identify the internal and external factors that are favorable and unfavorable to achieving an objective.\n",
      "   - **Support for Better Decision-Making:** By categorizing the factors into strengths, weaknesses, opportunities, and threats, this framework helps decision-makers systematically analyze the internal and external environment. This balanced assessment facilitates informed choices by identifying what the organization is good at, where it can improve, what external opportunities to leverage, and what threats to mitigate.\n",
      "\n",
      "2. **Decision Matrix (or Prioritization Matrix)**\n",
      "   - **Description:** A decision matrix is a tool used to evaluate and prioritize a list of options, assigning weights to different criteria and scoring each option against these criteria.\n",
      "   - **Support for Better Decision-Making:** This framework allows for a quantitative comparison of multiple options by assigning numerical values to the criteria considered most important. This method supports a structured and objective evaluation, ensuring that the decision is based on balanced and comprehensive analysis rather than intuition.\n",
      "\n",
      "3. **Cost-Benefit Analysis (CBA)**\n",
      "   - **Description:** CBA involves comparing the total expected costs versus the total expected benefits of one or more actions to choose the best or most profitable option.\n",
      "   - **Support for Better Decision-Making:** By monetizing the costs and benefits, this framework provides a clear view of the potential financial outcomes. It helps decision-makers evaluate whether the benefits of a decision outweigh the costs, thus supporting financially sound choices, particularly in business and policy-making scenarios.\n",
      "\n",
      "4. **Six Thinking Hats**\n",
      "   - **Description:** Developed by Edward de Bono, this method involves looking at a decision from six distinct perspectives (hats): factual, emotional, logistical, creative, positive, and negative.\n",
      "   - **Support for Better Decision-Making:** By deliberately adopting different viewpoints, this framework encourages comprehensive and diversified thinking. It helps in recognizing different aspects of the decision, such as data analysis (white hat), emotions and intuition (red hat), identifying risks (black hat), focusing on benefits (yellow hat), creativity (green hat), and process management (blue hat), leading to more holistic and balanced decisions.\n",
      "\n",
      "5. **Pareto Analysis (80/20 Rule)**\n",
      "   - **Description:** Pareto Analysis is a technique that uses the Pareto Principle, suggesting that 80% of effects come from 20% of causes, to identify the most important factors in a decision.\n",
      "   - **Support for Better Decision-Making:** By focusing on the vital few factors that have the most significant impact, this framework helps prioritize efforts and resources effectively. It aids decision-makers in targeting the areas that will yield the most substantial improvements or benefits, thus enhancing efficiency and effectiveness.\n",
      "\n",
      "These frameworks help structure thinking, reduce bias, and ensure that different aspects of the decision are thoroughly evaluated, leading to more informed and reasoned outcomes.\n"
     ]
    }
   ],
   "source": [
    "// New prompt to help with decision-making frameworks\n",
    "var simpleDecisionPrompt = \"\"\"\n",
    "Identify and list 5 decision-making frameworks that can enhance the quality of decisions. \n",
    "Briefly describe how each framework supports better analysis and reasoning in different decision-making scenarios.\n",
    "\"\"\";\n",
    "\n",
    "var simplePromptResponse = await semanticKernel.InvokePromptAsync(simpleDecisionPrompt);\n",
    "Console.WriteLine(simplePromptResponse.GetValue<string>());"
   ]
  },
  {
   "cell_type": "markdown",
   "metadata": {},
   "source": [
    "### Step 3 - Execute a Decision Intelligence Prompt with Streaming"
   ]
  },
  {
   "cell_type": "markdown",
   "metadata": {},
   "source": [
    "Semantic Kernel supports prompt response streaming when invoking the prompt. This allows responses to be streamed to the client as soon as they are made available by the LLM and service. Below the same decision prompt is executed. However, notice that chunks are streamed and can be read by the user as soon as they appear. "
   ]
  },
  {
   "cell_type": "code",
   "execution_count": 10,
   "metadata": {
    "dotnet_interactive": {
     "language": "csharp"
    },
    "polyglot_notebook": {
     "kernelName": "csharp"
    },
    "vscode": {
     "languageId": "polyglot-notebook"
    }
   },
   "outputs": [
    {
     "name": "stdout",
     "output_type": "stream",
     "text": [
      "Sure, here are five decision-making frameworks that can enhance the quality of decisions, along with brief descriptions of how each supports better analysis and reasoning in different scenarios:\n",
      "\n",
      "1. **SWOT Analysis (Strengths, Weaknesses, Opportunities, Threats):**\n",
      "   - **Application:** Business strategy, project planning, personal development\n",
      "   - **How it Helps:** It systematically assesses internal and external factors that can affect a decision. Strengths and weaknesses focus on internal capabilities, whereas opportunities and threats consider external environment. This holistic view helps in strategic planning and risk management.\n",
      "\n",
      "2. **PDCA Cycle (Plan-Do-Check-Act):**\n",
      "   - **Application:** Continuous improvement, quality control, project management\n",
      "   - **How it Helps:** This iterative, four-step management method provides a structured approach to problem-solving. 'Plan' helps in identifying problems and developing hypotheses. 'Do' is about implementing solutions. 'Check' involves monitoring and evaluating results. 'Act' entails refining and codifying improvements, thus fostering a culture of continuous improvement and learning from outcomes.\n",
      "\n",
      "3. **Cost-Benefit Analysis (CBA):**\n",
      "   - **Application:** Financial decision-making, policy analysis, budgeting\n",
      "   - **How it Helps:** CBA involves comparing the total expected costs of a decision against the total expected benefits. It quantifies in monetary terms the positive and negative impacts of a decision, helping to ensure that resources are allocated efficiently and effectively.\n",
      "\n",
      "4. **The Eisenhower Matrix (Urgent-Important Matrix):**\n",
      "   - **Application:** Time management, prioritization, productivity\n",
      "   - **How it Helps:** This framework divides tasks into four quadrants based on urgency and importance. It assists in identifying the most crucial tasks that require immediate attention (urgent and important) and helps in delegating or postponing less critical activities. This improves efficiency and ensures focus on high-impact activities.\n",
      "\n",
      "5. **Six Thinking Hats:**\n",
      "   - **Application:** Group decision-making, creative thinking, problem-solving\n",
      "   - **How it Helps:** Developed by Edward de Bono, this method involves looking at a problem from six distinct perspectives (hats): logical (White), emotional (Red), critical (Black), optimistic (Yellow), creative (Green), and process (Blue). By considering multiple perspectives, this framework encourages comprehensive and balanced thinking, mitigating biases and fostering innovative solutions.\n",
      "\n",
      "Each of these frameworks is designed to address specific facets of decision-making, from strategic analysis and continuous improvement to effective prioritization and creative problem-solving. By applying the appropriate framework based on the context, decision-makers can enhance the thoroughness and quality of their analysis and reasoning."
     ]
    }
   ],
   "source": [
    "await foreach (var streamChunk in semanticKernel.InvokePromptStreamingAsync(simpleDecisionPrompt))\n",
    "{\n",
    "   Console.Write(streamChunk);\n",
    "}"
   ]
  },
  {
   "cell_type": "markdown",
   "metadata": {},
   "source": [
    "### Step 4 - Execute a Semantic Kernel Decision Prompt with Improved Formatting  "
   ]
  },
  {
   "cell_type": "markdown",
   "metadata": {},
   "source": [
    "Generative AI models have an inherent ability to not only provide decision reasoning analysis, but also format the output in a desired format. This could be as simple as instructing the Generative AI model to format the decision as a single sentence, paragraphs or lists. However more sophisticated output generations can be instructed. For example, the GenAI model can ouput Markdown or even extract information and fill in a desired schema (JSON). Specifically for Decision Intelligence, you can ask the GenAI models to apply decision communication frameworks to the generation as well. \n",
    "\n",
    "Execute the simple decision prompt below with Markdown formatting. This table can now be rendered in a Markdown document for easy comprehension. Markdown tables and other formats can be used on web sites, document, programming code etc. Even Generative AI models understand Markdown format, which can not only be used for output but inside input prompts.  "
   ]
  },
  {
   "cell_type": "code",
   "execution_count": 11,
   "metadata": {
    "dotnet_interactive": {
     "language": "csharp"
    },
    "polyglot_notebook": {
     "kernelName": "csharp"
    },
    "vscode": {
     "languageId": "polyglot-notebook"
    }
   },
   "outputs": [
    {
     "name": "stdout",
     "output_type": "stream",
     "text": [
      "| Framework                  | Description                                                                                                                                                                                                                                                                                                                                |\n",
      "|----------------------------|-----------------------------------------------------------------------------------------------------------------------------------------------------------------------------------------------------------------------------------------------------------------------------------------------------------------------------------------------|\n",
      "| SWOT Analysis              | SWOT (Strengths, Weaknesses, Opportunities, Threats) analysis helps identify internal strengths and weaknesses, as well as external opportunities and threats. This framework is useful for strategic planning and risk management by providing a structured way to think about the pros and cons of different choices.                                         |\n",
      "| Decision Matrix Analysis   | Also known as a prioritization matrix, this framework helps evaluate and prioritize different options by scoring them against a set of criteria. It is particularly useful in situations where many factors are at play, ensuring a comprehensive evaluation of all available options.                                                                    |\n",
      "| Cost-Benefit Analysis      | This quantitative approach assesses the financial impacts of different decisions by comparing the expected costs and benefits. It supports better economic reasoning by making explicit the expected monetary outcomes of various alternatives and helps in choosing the option with the highest net benefit.                                        |\n",
      "| The OODA Loop              | The OODA Loop (Observe, Orient, Decide, Act) is a decision-making process that emphasizes continuous feedback and learning. It is especially effective in rapidly changing environments, such as military strategy or business competition, as it promotes agility and adaptability in decision-making.                                            |\n",
      "| The Delphi Method          | This structured communication technique uses a panel of experts who answer questionnaires in multiple rounds. After each round, a facilitator provides an anonymous summary of the experts' forecasts. This process helps in arriving at a more rounded and unbiased consensus, particularly useful in complex problem-solving and forecasting.            |"
     ]
    }
   ],
   "source": [
    "// New prompt to help with decision-making frameworks using Markdown formatting.\n",
    "var simpleDecisionPromptWithMarkdownFormat = \"\"\"\n",
    "Identify and list 5 decision-making frameworks that can enhance the quality of decisions. \n",
    "Briefly describe how each framework supports better analysis and reasoning in different decision-making scenarios.\n",
    "\n",
    "Format the response using a Markdown table. Do not enclose the table in triple backticks.\n",
    "\"\"\";\n",
    "\n",
    "await foreach (var streamChunk in semanticKernel.InvokePromptStreamingAsync(simpleDecisionPromptWithMarkdownFormat))\n",
    "{\n",
    "   Console.Write(streamChunk);\n",
    "}"
   ]
  },
  {
   "cell_type": "markdown",
   "metadata": {},
   "source": [
    "| Framework                  | Description                                                                                                                                                                                                                                                                                                                                |\n",
    "|----------------------------|-----------------------------------------------------------------------------------------------------------------------------------------------------------------------------------------------------------------------------------------------------------------------------------------------------------------------------------------------|\n",
    "| SWOT Analysis              | SWOT (Strengths, Weaknesses, Opportunities, Threats) analysis helps identify internal strengths and weaknesses, as well as external opportunities and threats. This framework is useful for strategic planning and risk management by providing a structured way to think about the pros and cons of different choices.                                         |\n",
    "| Decision Matrix Analysis   | Also known as a prioritization matrix, this framework helps evaluate and prioritize different options by scoring them against a set of criteria. It is particularly useful in situations where many factors are at play, ensuring a comprehensive evaluation of all available options.                                                                    |\n",
    "| Cost-Benefit Analysis      | This quantitative approach assesses the financial impacts of different decisions by comparing the expected costs and benefits. It supports better economic reasoning by making explicit the expected monetary outcomes of various alternatives and helps in choosing the option with the highest net benefit.                                        |\n",
    "| The OODA Loop              | The OODA Loop (Observe, Orient, Decide, Act) is a decision-making process that emphasizes continuous feedback and learning. It is especially effective in rapidly changing environments, such as military strategy or business competition, as it promotes agility and adaptability in decision-making.                                            |\n",
    "| The Delphi Method          | This structured communication technique uses a panel of experts who answer questionnaires in multiple rounds. After each round, a facilitator provides an anonymous summary of the experts' forecasts. This process helps in arriving at a more rounded and unbiased consensus, particularly useful in complex problem-solving and forecasting.            |"
   ]
  },
  {
   "cell_type": "markdown",
   "metadata": {},
   "source": [
    "### Step 5 - Execute a Decision Intelligence Prompt with a Custom Execution Configuration"
   ]
  },
  {
   "cell_type": "markdown",
   "metadata": {},
   "source": [
    "Semantic Kernel supports the configuration of prompt execution. The typical OpenAI and Azure OpenAI settings are exposed as configuration options that provide a different prompt experience. Try changing the MaxTokens, Tempature or other settings."
   ]
  },
  {
   "cell_type": "code",
   "execution_count": 12,
   "metadata": {
    "dotnet_interactive": {
     "language": "csharp"
    },
    "polyglot_notebook": {
     "kernelName": "csharp"
    },
    "vscode": {
     "languageId": "polyglot-notebook"
    }
   },
   "outputs": [
    {
     "name": "stdout",
     "output_type": "stream",
     "text": [
      "Certainly! Here are five decision-making frameworks that can enhance the quality of decisions, along with brief descriptions of how each supports better analysis and reasoning:\n",
      "\n",
      "1. **SWOT Analysis (Strengths, Weaknesses, Opportunities, Threats)**\n",
      "   - **Description**: SWOT Analysis helps in identifying internal and external factors that are favorable and unfavorable to achieve an objective.\n",
      "   - **Support**: By systematically evaluating strengths, weaknesses, opportunities, and threats, this framework helps decision-makers understand the current situation comprehensively and develop strategies that leverage strengths and opportunities while mitigating weaknesses and threats.\n",
      "\n",
      "2. **Decision Matrix (or Weighted Scoring Model)**\n",
      "   - **Description**: A Decision Matrix involves listing options and criteria, assigning weights to each criterion based on importance, and scoring each option against each criterion.\n",
      "   - **Support**: This framework provides a quantitative approach to comparing multiple options based on different criteria, ensuring a balanced consideration of all relevant factors. It helps in prioritizing options that score highest overall, leading to more objective and transparent decision-making.\n",
      "\n",
      "3. **Cost-Benefit Analysis (CBA)**\n",
      "   - **Description**: CBA involves comparing the total expected costs of a decision against the total expected benefits to determine the best course of action.\n",
      "   - **Support**: By quantifying costs and benefits, this framework helps in evaluating the economic feasibility and potential return on investment of different options. It supports rational decision-making by highlighting the option with the greatest net benefit.\n",
      "\n",
      "4. **The OODA Loop (Observe, Orient, Decide, Act)**\n",
      "   - **Description**: The OODA Loop is a cyclical decision-making process that emphasizes continuous observation, orientation, decision, and action.\n",
      "   - **Support**: This framework is particularly useful in dynamic and fast-changing environments. It encourages rapid iteration and adaptation, ensuring that decisions are based on the most current information and can be adjusted as new data becomes available.\n",
      "\n",
      "5. **Six Thinking Hats**\n",
      "   - **Description**: Developed by Edward de Bono, this framework involves looking at a decision from six different perspectives (hats): White (facts), Red (emotions), Black (caution), Yellow (optimism), Green (creativity), and Blue (process).\n",
      "   - **Support**: By encouraging decision-makers to consider multiple viewpoints systematically, this framework helps in uncovering blind spots, balancing emotional and logical aspects, and fostering creative solutions. It ensures a holistic analysis and reduces the risk of biased or one-dimensional thinking.\n",
      "\n",
      "Each of these frameworks provides a structured approach to decision-making, helping to improve the quality of analysis, reasoning, and ultimately, the decisions made."
     ]
    }
   ],
   "source": [
    "// Create a new OpenAI prompt execution settings object\n",
    "var openAIPromptExecutionSettings = new OpenAIPromptExecutionSettings { \n",
    "    MaxTokens = 1000, \n",
    "    Temperature = 0.3, \n",
    "    TopP = 1.0, \n",
    "    FrequencyPenalty = 0.0, \n",
    "    PresencePenalty = 0.0\n",
    "    };\n",
    "\n",
    "KernelArguments kernelArguments = new KernelArguments(openAIPromptExecutionSettings);\n",
    "await foreach (var streamChunk in semanticKernel.InvokePromptStreamingAsync(simpleDecisionPrompt, kernelArguments))\n",
    "{\n",
    "   Console.Write(streamChunk);\n",
    "}"
   ]
  },
  {
   "cell_type": "markdown",
   "metadata": {},
   "source": [
    "### Step 6 - Execute a Decision Instelligence Prompt with a System Prompt (Custom AI Persona)"
   ]
  },
  {
   "cell_type": "markdown",
   "metadata": {},
   "source": [
    "When building prompts, all the typical best practices of prompt engineering apply when using Semantic Kernel.  Such as: \n",
    "* Make the prompt more specific\n",
    "* Add structure to the output with formatting\n",
    "* Provide examples with few-shot prompting\n",
    "* Instruct the AI what to do to avoid doing something wrong\n",
    "* Provide context (additional information) to the AI\n",
    "* Using Roles in chat completion prompts\n",
    "* Give your AI words of encouragement  \n",
    "\n",
    "One best practice is to provide a common behavior across all the LLM interactions in a system prompt. This system prompt is passed in on every single call the LLM with Semantic Kernel. By passing the same (or similar) system prompt with every prompt gives your Generative AI system a common persona. This common persona is the foundational building block of building AI agents; where the desired behavior is to have each agent have a desired persona/behavior every time you interact with that agent.\n",
    "\n",
    "Execute the cell below with a dynamic prompt template. Notice the different behavior of the output for decision frameworks. Based on the new system prompt instructions, the decision framework responses are much more robust with decision intelligence information."
   ]
  },
  {
   "cell_type": "code",
   "execution_count": 16,
   "metadata": {
    "dotnet_interactive": {
     "language": "csharp"
    },
    "polyglot_notebook": {
     "kernelName": "csharp"
    },
    "vscode": {
     "languageId": "polyglot-notebook"
    }
   },
   "outputs": [
    {
     "name": "stdout",
     "output_type": "stream",
     "text": [
      "Prompt To Send to the Azure OpenAI Chat Completion Service...\n",
      "System Prompt: You are a Decision Intelligence Assistant. \n",
      "Assist the user in exploring options, reasoning through decisions, problem-solving.\n",
      "Apply systems thinking to various scenarios. \n",
      "Provide structured, logical, and comprehensive decision advice.\n",
      "\n",
      "Request from the user: Recommend the top 5 decision frameworks that can be used for daily situations to make various decisions.\n",
      "These frameworks should be very easy to understand and apply in different scenarios.\n",
      "\n",
      "----------------------------------------\n",
      "\n",
      "Response from the Azure OpenAI Chat Completion Service...\n",
      "Sure! Here are five decision-making frameworks that are easy to understand and can be applied to a variety of daily situations:\n",
      "\n",
      "1. **Pros and Cons List**:\n",
      "   - **How it works**: Write down the advantages (pros) and disadvantages (cons) of each option.\n",
      "   - **Application**: This is useful for straightforward decisions where you can clearly see the benefits and drawbacks of each choice.\n",
      "   - **Example**: Deciding whether to take a new job offer. List the pros (higher salary, better location) and cons (longer commute, less job security).\n",
      "\n",
      "2. **Decision Matrix (Weighted Scoring Model)**:\n",
      "   - **How it works**: List your options and the criteria important for the decision. Assign weights to each criterion based on importance, score each option against each criterion, and calculate the weighted scores.\n",
      "   - **Application**: Ideal for decisions with multiple factors to consider.\n",
      "   - **Example**: Choosing a new laptop. Criteria might include price, battery life, performance, and brand reputation.\n",
      "\n",
      "3. **SWOT Analysis**:\n",
      "   - **How it works**: Identify the Strengths, Weaknesses, Opportunities, and Threats related to each option.\n",
      "   - **Application**: Useful for more complex decisions where internal and external factors play a role.\n",
      "   - **Example**: Deciding whether to start a new business. Analyze the strengths (unique skills), weaknesses (limited capital), opportunities (market demand), and threats (competition).\n",
      "\n",
      "4. **The Eisenhower Matrix (Urgent-Important Matrix)**:\n",
      "   - **How it works**: Categorize tasks or decisions based on their urgency and importance into four quadrants: urgent and important, important but not urgent, urgent but not important, and neither urgent nor important.\n",
      "   - **Application**: Great for prioritizing tasks and managing time effectively.\n",
      "   - **Example**: Planning your daily schedule. Tasks like a project deadline (urgent and important) versus reading a book (important but not urgent).\n",
      "\n",
      "5. **The 5 Whys**:\n",
      "   - **How it works**: Ask \"Why?\" five times (or as many times as needed) to drill down to the root cause of a problem or decision.\n",
      "   - **Application**: Effective for problem-solving and understanding the underlying reasons for a decision.\n",
      "   - **Example**: Figuring out why you are consistently late to work. Keep asking \"Why?\" until you identify the root cause, such as poor time management or an unreliable alarm clock.\n",
      "\n",
      "These frameworks can help structure your thinking and provide clarity in various decision-making scenarios, making it easier to choose the best course of action."
     ]
    }
   ],
   "source": [
    "// Create a system prompt instruction to override the default system prompt\n",
    "// Add the System Prompt (Persona) to behave like a decision intelligence assistant\n",
    "var systemPromptForDecisions = \"\"\"\n",
    "You are a Decision Intelligence Assistant. \n",
    "Assist the user in exploring options, reasoning through decisions, problem-solving.\n",
    "Apply systems thinking to various scenarios. \n",
    "Provide structured, logical, and comprehensive decision advice.\n",
    "\"\"\";\n",
    "var simpleDecisionPrompt = \"\"\"\n",
    "Recommend the top 5 decision frameworks that can be used for daily situations to make various decisions.\n",
    "These frameworks should be very easy to understand and apply in different scenarios.\n",
    "\"\"\";\n",
    "\n",
    "// How the prompt looks like to the LLM\n",
    "var simpleDecisionPromptTemplate = $\"\"\"\n",
    "System Prompt: {systemPromptForDecisions}\n",
    "\n",
    "Request from the user: {simpleDecisionPrompt}\n",
    "\"\"\";\n",
    "\n",
    "// Create a new OpenAI prompt execution settings object\n",
    "var openAIPromptExecutionSettings = new OpenAIPromptExecutionSettings { \n",
    "    ChatSystemPrompt = systemPromptForDecisions,\n",
    "    MaxTokens = 750, \n",
    "    Temperature = 0.3, \n",
    "    TopP = 1.0, \n",
    "    FrequencyPenalty = 0.0, \n",
    "    PresencePenalty = 0.0\n",
    "    };\n",
    "KernelArguments kernelArguments = new KernelArguments(openAIPromptExecutionSettings);\n",
    "\n",
    "Console.WriteLine(\"Prompt To Send to the Azure OpenAI Chat Completion Service...\");\n",
    "Console.WriteLine(simpleDecisionPromptTemplate);\n",
    "Console.WriteLine(string.Empty);\n",
    "Console.WriteLine(\"----------------------------------------\");\n",
    "Console.WriteLine(string.Empty);\n",
    "Console.WriteLine(\"Response from the Azure OpenAI Chat Completion Service...\");\n",
    "\n",
    "\n",
    "await foreach (var streamChunk in semanticKernel.InvokePromptStreamingAsync(simpleDecisionPrompt, kernelArguments))\n",
    "{\n",
    "   Console.Write(streamChunk);\n",
    "}"
   ]
  }
 ],
 "metadata": {
  "kernelspec": {
   "display_name": ".NET (C#)",
   "language": "C#",
   "name": ".net-csharp"
  },
  "language_info": {
   "name": "csharp"
  },
  "polyglot_notebook": {
   "kernelInfo": {
    "defaultKernelName": "csharp",
    "items": [
     {
      "aliases": [],
      "name": "csharp"
     }
    ]
   }
  }
 },
 "nbformat": 4,
 "nbformat_minor": 2
}
