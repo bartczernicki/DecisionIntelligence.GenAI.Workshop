{
  "cells": [
    {
      "cell_type": "markdown",
      "metadata": {},
      "source": [
        "<img style=\"float: left;padding-right: 10px\" width =\"40px\" src=\"https://raw.githubusercontent.com/bartczernicki/DecisionIntelligence.GenAI.Workshop/main/Images/SemanticKernelLogo.png\">\n",
        "\n",
        "## Semantic Kernel - Simple Decision Prompts"
      ]
    },
    {
      "cell_type": "markdown",
      "metadata": {},
      "source": [
        "Decision Intelligence applied in this module:  \n",
        "* Listing of various decision-making frameworks and with their descriptions by using GenAI prompt engineering  \n",
        "* Creating custom AI personas with a system decision prompt  \n",
        "* Generating decision outputs using easier to consume formats (Markdown)     \n",
        "\n",
        "Prompts are the fundamental building block to getting the proper responses from AI models. This module demonstrates how to use common prompt engineering techniques while using Semantic Kernel. If you've ever used ChatGPT or Microsoft Copilot, you're already familiar with prompting. Given a prompt instruction, an LLM will attempt to predict the most likely response. With Semantic Kernel, you can craft applications, services & APIs that execute prompts.  \n",
        "\n",
        "For more information on using prompts with Semantic Kernel, visit: https://learn.microsoft.com/en-us/semantic-kernel/prompts/your-first-prompt  \n",
        "\n",
        "The process of carefully crafting questions or instructions for AI is called **Prompt Engineering**. Prompt Engineering involves designing and refining input prompts—text or questions—so that the AI produces responses that are more relevant, useful, or accurate. The goal of prompt engineering is to \"tune\" the prompt in a way that maximizes the quality and clarity of the AI's response, often using specific wording, context, or examples within the prompt itself.\n",
        "\n",
        "Decision Intelligence and Prompt Engineering techniques can be combined to created \"Generative AI Decision Intelligence\"! This can leverage GenAI models to reason over complex tasks, gather intelligence for decisions, recommend decisions, communicate decisions etc. "
      ]
    },
    {
      "cell_type": "markdown",
      "metadata": {},
      "source": [
        "### Step 1 - Initialize Configuration Builder & Build the Semantic Kernel Orchestration "
      ]
    },
    {
      "cell_type": "markdown",
      "metadata": {},
      "source": [
        "Execute the next two cells to:\n",
        "* Use the Configuration Builder to load the API secrets.  \n",
        "* Use the API configuration to build the Semantic Kernel orchestrator."
      ]
    },
    {
      "cell_type": "code",
      "execution_count": 7,
      "metadata": {
        "dotnet_interactive": {
          "language": "csharp"
        },
        "polyglot_notebook": {
          "kernelName": "csharp"
        },
        "vscode": {
          "languageId": "polyglot-notebook"
        }
      },
      "outputs": [
        {
          "data": {
            "text/html": [
              "<div><div></div><div></div><div><strong>Installed Packages</strong><ul><li><span>Microsoft.Extensions.Configuration, 9.0.5</span></li><li><span>Microsoft.Extensions.Configuration.Json, 9.0.5</span></li></ul></div></div>"
            ]
          },
          "metadata": {},
          "output_type": "display_data"
        }
      ],
      "source": [
        "// Import the required NuGet configuration packages\n",
        "#r \"nuget: Microsoft.Extensions.Configuration, 9.0.5\"\n",
        "#r \"nuget: Microsoft.Extensions.Configuration.Json, 9.0.5\"\n",
        "\n",
        "using Microsoft.Extensions.Configuration.Json;\n",
        "using Microsoft.Extensions.Configuration;\n",
        "using System.IO;\n",
        "\n",
        "// Load the configuration settings from the local.settings.json and secrets.settings.json files\n",
        "// The secrets.settings.json file is used to store sensitive information such as API keys\n",
        "var configurationBuilder = new ConfigurationBuilder()\n",
        "    .SetBasePath(Directory.GetCurrentDirectory())\n",
        "    .AddJsonFile(\"local.settings.json\", optional: true, reloadOnChange: true)\n",
        "    .AddJsonFile(\"secrets.settings.json\", optional: true, reloadOnChange: true);\n",
        "var config = configurationBuilder.Build();\n",
        "\n",
        "// IMPORTANT: You ONLY NEED either Azure OpenAI or OpenAI connection info, not both.\n",
        "// Azure OpenAI Connection Info\n",
        "var azureOpenAIEndpoint = config[\"AzureOpenAI:Endpoint\"];\n",
        "var azureOpenAIAPIKey = config[\"AzureOpenAI:APIKey\"];\n",
        "var azureOpenAIModelDeploymentName = config[\"AzureOpenAI:ModelDeploymentName\"];\n",
        "// OpenAI Connection Info \n",
        "var openAIAPIKey = config[\"OpenAI:APIKey\"];\n",
        "var openAIModelId = config[\"OpenAI:ModelId\"];"
      ]
    },
    {
      "cell_type": "code",
      "execution_count": 2,
      "metadata": {
        "dotnet_interactive": {
          "language": "csharp"
        },
        "polyglot_notebook": {
          "kernelName": "csharp"
        },
        "vscode": {
          "languageId": "polyglot-notebook"
        }
      },
      "outputs": [
        {
          "data": {
            "text/html": [
              "<div><div></div><div></div><div><strong>Installed Packages</strong><ul><li><span>Microsoft.SemanticKernel, 1.54.0</span></li></ul></div></div>"
            ]
          },
          "metadata": {},
          "output_type": "display_data"
        },
        {
          "name": "stdout",
          "output_type": "stream",
          "text": [
            "Using Azure OpenAI Service\r\n"
          ]
        }
      ],
      "source": [
        "// Import the Semantic Kernel NuGet package\n",
        "#r \"nuget: Microsoft.SemanticKernel, 1.54\"\n",
        "\n",
        "using Microsoft.Extensions.DependencyInjection.Extensions;\n",
        "using Microsoft.Extensions.DependencyInjection;\n",
        "using Microsoft.SemanticKernel;\n",
        "using Microsoft.SemanticKernel.ChatCompletion;\n",
        "using Microsoft.SemanticKernel.Connectors.OpenAI;\n",
        "\n",
        "Kernel semanticKernel;\n",
        "\n",
        "// Set the flag to use Azure OpenAI or OpenAI. False to use OpenAI, True to use Azure OpenAI\n",
        "var useAzureOpenAI = true;\n",
        "\n",
        "// Create a new Semantic Kernel instance\n",
        "if (useAzureOpenAI)\n",
        "{\n",
        "    Console.WriteLine(\"Using Azure OpenAI Service\");\n",
        "    semanticKernel = Kernel.CreateBuilder()\n",
        "        .AddAzureOpenAIChatCompletion(\n",
        "            deploymentName: azureOpenAIModelDeploymentName,\n",
        "            endpoint: azureOpenAIEndpoint,\n",
        "            apiKey: azureOpenAIAPIKey)\n",
        "        .Build();\n",
        "}\n",
        "else\n",
        "{\n",
        "    Console.WriteLine(\"Using OpenAI Service\");\n",
        "    semanticKernel = Kernel.CreateBuilder()\n",
        "        .AddOpenAIChatCompletion(\n",
        "            modelId: openAIModelId,\n",
        "            apiKey: openAIAPIKey)\n",
        "        .Build();\n",
        "}"
      ]
    },
    {
      "cell_type": "markdown",
      "metadata": {},
      "source": [
        "### Step 2 - Execute a Decision Prompt "
      ]
    },
    {
      "cell_type": "markdown",
      "metadata": {},
      "source": [
        "Many LLMs and even SLMs have been trained on knowledge that includes decision frameworks & processes. This makes LLMs great assistants to:\n",
        "* Provide proper Decision Frames\n",
        "* Gather Intelligence (information) in order to make a decision\n",
        "* Recommend Decision Frameworks to make a high-quality decision\n",
        "* Provide feedback to evaluate a Decision\n",
        "\n",
        "Once the Semantic Kernel instance is built, it is ready to intake prompt instructions. In the prompt below, the Semantic Kernel is instructed to provide examples of decision frameworks \"trained into\" the knowledge of the configured AI model.  "
      ]
    },
    {
      "cell_type": "code",
      "execution_count": null,
      "metadata": {
        "dotnet_interactive": {
          "language": "csharp"
        },
        "polyglot_notebook": {
          "kernelName": "csharp"
        },
        "vscode": {
          "languageId": "polyglot-notebook"
        }
      },
      "outputs": [
        {
          "data": {
            "text/markdown": [
              "Here are five decision-making frameworks that can enhance decision quality, along with descriptions of how they support better analysis and reasoning:\n",
              "\n",
              "---\n",
              "\n",
              "### 1. **SWOT Analysis (Strengths, Weaknesses, Opportunities, Threats)**\n",
              "- **Description**: This framework systematically evaluates internal strengths and weaknesses and external opportunities and threats. It provides a structured lens through which to assess a situation or decision.\n",
              "- **How it supports better analysis**: SWOT helps identify positive and negative factors in both internal and external environments, promoting a balanced approach to decision-making. This ensures that potential risks and advantages are thoughtfully considered before taking action.\n",
              "\n",
              "---\n",
              "\n",
              "### 2. **Pareto Principle (80/20 Rule)**\n",
              "- **Description**: This principle focuses on identifying the critical factors that will yield the most significant impact, emphasizing prioritization of the \"vital few\" over the \"trivial many.\"\n",
              "- **How it supports better analysis**: By helping decision-makers concentrate on the most influential inputs or actions, the Pareto Principle prevents wasted effort on less impactful details, allowing for more focused, effective choices in resource allocation and problem-solving.\n",
              "\n",
              "---\n",
              "\n",
              "### 3. **Decision Matrix**\n",
              "- **Description**: This tool involves creating a grid that evaluates multiple options based on a set of weighted criteria. Each option is scored for each criterion to identify the best choice.\n",
              "- **How it supports better analysis**: A decision matrix ensures that decisions are made based on objective comparisons rather than subjective preferences. By quantifying factors, it reduces bias and aligns choices with defined priorities and goals.\n",
              "\n",
              "---\n",
              "\n",
              "### 4. **Cost-Benefit Analysis**\n",
              "- **Description**: This framework involves comparing the costs of an action or decision with its potential benefits, quantifying value wherever possible.\n",
              "- **How it supports better analysis**: Cost-benefit analysis ensures that the economic and resource implications of a decision are fully understood. It helps decision-makers weigh trade-offs, ensuring optimal allocation of resources based on efficiency and outcomes.\n",
              "\n",
              "---\n",
              "\n",
              "### 5. **Six Thinking Hats**\n",
              "- **Description**: This framework categorizes thinking into six perspectives: facts (White), emotions (Red), caution (Black), optimism (Yellow), creativity (Green), and process oversight (Blue). By role-playing different \"hats,\" participants explore a problem from multiple angles.\n",
              "- **How it supports better analysis**: Six Thinking Hats fosters a balanced and multidimensional approach to decision-making. It ensures diverse viewpoints are considered, reducing blind spots and improving collaborative reasoning by integrating logic, emotions, creativity, and risk assessment.\n",
              "\n",
              "---\n",
              "\n",
              "These frameworks help improve decision-making by providing structured methods to assess options, reduce bias, and anticipate consequences in complex scenarios. Using them ensures that decisions are grounded in logic, evidence, and careful prioritization."
            ]
          },
          "metadata": {},
          "output_type": "display_data"
        }
      ],
      "source": [
        "// A Decision Intelligence prompt to help with describing decision-making frameworks\n",
        "var simpleDecisionPrompt = \"\"\"\n",
        "Identify and list 5 decision-making frameworks that can enhance the quality of decisions. \n",
        "Briefly describe how each decision-making framework supports better analysis and reasoning in various scenarios.\n",
        "\"\"\";\n",
        "\n",
        "var simplePromptResponse = await semanticKernel.InvokePromptAsync(simpleDecisionPrompt);\n",
        "var response = simplePromptResponse.GetValue<string>(); \n",
        "\n",
        "// Display the response from the Semantic Kernel as Markdown\n",
        "response.DisplayAs(\"text/markdown\");"
      ]
    },
    {
      "cell_type": "markdown",
      "metadata": {},
      "source": [
        "### Step 3 - Execute a Decision Prompt with Streaming"
      ]
    },
    {
      "cell_type": "markdown",
      "metadata": {},
      "source": [
        "Semantic Kernel supports prompt response streaming when invoking the prompt. This allows responses to be streamed to the client as soon as they are made available by the LLM and service. Below the same decision prompt is executed. However, notice that chunks are streamed and can be read by the user as soon as they appear. \n",
        "\n",
        "> 📝 Note: An average human can read between 25-40 Tokens / second. Therefore, while streaming certainly helps with providing AI output to the user, it begins to lose its effectiveness at large token velocity.  "
      ]
    },
    {
      "cell_type": "code",
      "execution_count": 5,
      "metadata": {
        "dotnet_interactive": {
          "language": "csharp"
        },
        "polyglot_notebook": {
          "kernelName": "csharp"
        },
        "vscode": {
          "languageId": "polyglot-notebook"
        }
      },
      "outputs": [],
      "source": [
        "// Decision Prompt using Streaming output chunks \n",
        "await foreach (var streamChunk in semanticKernel.InvokePromptStreamingAsync(simpleDecisionPrompt))\n",
        "{\n",
        "   Console.Write(streamChunk);\n",
        "}"
      ]
    },
    {
      "cell_type": "markdown",
      "metadata": {},
      "source": [
        "### Step 4 - Execute a Decision Prompt with Improved Output Formatting  "
      ]
    },
    {
      "cell_type": "markdown",
      "metadata": {},
      "source": [
        "Generative AI models have an inherent ability to not only provide decision reasoning analysis, but also format the output in a desired format. This could be as simple as instructing the Generative AI model to format the decision as a single sentence, paragraphs or lists. However more sophisticated output generations can be instructed. For example, the GenAI model can output Markdown or even extract information and fill in a desired schema (JSON). Specifically for Decision Intelligence, you can ask the GenAI models to apply decision communication frameworks to the generation as well. \n",
        "\n",
        "Execute the simple decision prompt below with Markdown formatting output. This table can now be rendered in a Markdown document for easy human comprehension. Markdown tables and other formats can be used on web sites, document, programming code etc. Even Generative AI models understand Markdown format, which can not only be used for output but inside input prompts.  "
      ]
    },
    {
      "cell_type": "code",
      "execution_count": 4,
      "metadata": {
        "dotnet_interactive": {
          "language": "csharp"
        },
        "polyglot_notebook": {
          "kernelName": "csharp"
        },
        "vscode": {
          "languageId": "polyglot-notebook"
        }
      },
      "outputs": [
        {
          "data": {
            "text/markdown": [
              "| Framework               | Description                                                                                                 |\n",
              "|--------------------------|-------------------------------------------------------------------------------------------------------------|\n",
              "| **SWOT Analysis**        | Examines Strengths, Weaknesses, Opportunities, and Threats to help identify internal capabilities and external factors. Enhances decision quality by providing a balanced view of potential risks and gains. |\n",
              "| **Cost-Benefit Analysis**| Compares the costs and benefits of different options to determine the most financially or operationally viable choice. Encourages logical thinking and resource optimization.           |\n",
              "| **Decision Matrix**      | Utilizes weighted criteria to compare multiple options quantitatively, enabling structured evaluation. Supports logical, justified, and transparent decisions.                    |\n",
              "| **The 5 Whys**           | Iteratively asks \"Why?\" to drill down into the root cause of a problem. Aids in thorough problem-solving and avoids superficial resolutions.                                      |\n",
              "| **Pareto Analysis**      | Focuses on identifying the 20% of causes that lead to 80% of the effects (80/20 rule). Prioritizes high-impact areas to maximize efficiency and outcomes.                         |"
            ]
          },
          "metadata": {},
          "output_type": "display_data"
        }
      ],
      "source": [
        "// A new decision prompt to help with describing decision-making frameworks using Markdown format\n",
        "var simpleDecisionPromptWithMarkdownFormat = \"\"\"\n",
        "Identify and list 5 decision-making frameworks that can enhance the quality of decisions. \n",
        "Briefly describe how each decision-making framework supports better analysis and reasoning in various scenarios.\n",
        "\n",
        "Format the response using only a Markdown table. Do not enclose the table in triple backticks.\n",
        "\"\"\";\n",
        "\n",
        "var simplePromptResponse = await semanticKernel.InvokePromptAsync(simpleDecisionPromptWithMarkdownFormat);\n",
        "var response = simplePromptResponse.GetValue<string>();\n",
        "\n",
        "// Display the response from the Semantic Kernel as Markdown\n",
        "response.DisplayAs(\"text/markdown\");"
      ]
    },
    {
      "cell_type": "markdown",
      "metadata": {},
      "source": [
        "### Step 5 - Execute a Decision Prompt with a Custom Prompt Execution Configuration"
      ]
    },
    {
      "cell_type": "markdown",
      "metadata": {},
      "source": [
        "Semantic Kernel supports the configuration of prompt execution. The typical OpenAI and Azure OpenAI settings are exposed as configuration options that provide a different prompt experience. Try changing the MaxTokens, Temperature or other settings.\n",
        "\n",
        "> 📝 Note: The supported settings are dependent on the API plus the specific model version. For example, a model paired with an older API may not expose all the configuration settings available. Conversely, a new preview model may not have all the settings available until it becomes generally available.  "
      ]
    },
    {
      "cell_type": "code",
      "execution_count": 5,
      "metadata": {
        "dotnet_interactive": {
          "language": "csharp"
        },
        "polyglot_notebook": {
          "kernelName": "csharp"
        },
        "vscode": {
          "languageId": "polyglot-notebook"
        }
      },
      "outputs": [
        {
          "data": {
            "text/markdown": [
              "| Decision-Making Framework | Description |\n",
              "|----------------------------|-------------|\n",
              "| **SWOT Analysis**          | Focuses on identifying Strengths, Weaknesses, Opportunities, and Threats related to a decision. It helps in understanding internal and external factors, enabling balanced and strategic choices. |\n",
              "| **Cost-Benefit Analysis**  | Compares the costs and benefits of different options quantitatively. This framework ensures decisions are economically viable and prioritize options with the highest net benefit. |\n",
              "| **Decision Matrix**        | Uses a grid to evaluate multiple alternatives against various criteria. It supports objective comparison and ranking of options based on weighted factors. |\n",
              "| **Pareto Analysis**        | Focuses on identifying the most impactful factors (80/20 rule). It helps prioritize efforts on areas that yield the greatest benefits, improving efficiency in decision-making. |\n",
              "| **Six Thinking Hats**      | Encourages analyzing decisions from six perspectives: logic, emotion, creativity, optimism, caution, and process. This framework fosters comprehensive reasoning and minimizes bias. |"
            ]
          },
          "metadata": {},
          "output_type": "display_data"
        }
      ],
      "source": [
        "// Create a new OpenAI Prompt Execution settings object\n",
        "var openAIPromptExecutionSettings = new OpenAIPromptExecutionSettings { \n",
        "    MaxTokens = 1000, \n",
        "    Temperature = 0.3, \n",
        "    TopP = 1.0, \n",
        "    FrequencyPenalty = 0.0, \n",
        "    PresencePenalty = 0.0\n",
        "    };\n",
        "\n",
        "// Create a new KernelArguments object with the OpenAI prompt execution settings\n",
        "KernelArguments kernelArguments = new KernelArguments(openAIPromptExecutionSettings);\n",
        "\n",
        "var promptResponseWithOpenAI = await semanticKernel.InvokePromptAsync(simpleDecisionPromptWithMarkdownFormat, kernelArguments);\n",
        "var response = promptResponseWithOpenAI.GetValue<string>();\n",
        "\n",
        "// Display the response from the Semantic Kernel as Markdown\n",
        "response.DisplayAs(\"text/markdown\");"
      ]
    },
    {
      "cell_type": "markdown",
      "metadata": {},
      "source": [
        "### Step 6 - Execute a Decision Prompt with a System Prompt (Custom AI Persona)"
      ]
    },
    {
      "cell_type": "markdown",
      "metadata": {},
      "source": [
        "When building Decision Intelligence prompts, all the typical best practices of prompt engineering apply when using Semantic Kernel.  Such as: \n",
        "* Make the prompt more specific (i.e. decision intelligence)\n",
        "* Add structure to the output with formatting\n",
        "* Provide examples with few-shot prompting\n",
        "* Instruct the AI what to do to avoid doing something else\n",
        "* Provide context (additional information) to the AI\n",
        "* Using Roles in Chat Completion API prompts\n",
        "* Give your AI words of encouragement  \n",
        "\n",
        "A key best practice is to provide a common behavior across all the LLM interactions in a system prompt. This system prompt is passed in on every single call the LLM with Semantic Kernel. By passing the same (or similar) system prompt with every prompt gives your Generative AI system a common persona. This common persona is the foundational building block of building AI agents; where the desired behavior is to have each agent have a unique persona/behavior every time you interact with that agent.\n",
        "\n",
        "Execute the cell below with a dynamic prompt template. Notice the different behavior of the output for decision frameworks. Based on the new system prompt instructions, the decision framework responses are much more robust with decision intelligence information."
      ]
    },
    {
      "cell_type": "code",
      "execution_count": 6,
      "metadata": {
        "dotnet_interactive": {
          "language": "csharp"
        },
        "polyglot_notebook": {
          "kernelName": "csharp"
        },
        "vscode": {
          "languageId": "polyglot-notebook"
        }
      },
      "outputs": [
        {
          "data": {
            "text/markdown": [
              "Here are five simple and versatile decision-making frameworks that can be applied to a wide range of daily situations. Each is easy to understand and implement, making them ideal for quick, practical use:\n",
              "\n",
              "---\n",
              "\n",
              "### 1. **The Eisenhower Matrix (Urgent-Important Matrix)**  \n",
              "**Purpose:** Prioritize tasks and decisions based on urgency and importance.  \n",
              "**How It Works:**  \n",
              "- Divide tasks or decisions into four quadrants:  \n",
              "  1. **Urgent and Important**: Do it immediately.  \n",
              "  2. **Important but Not Urgent**: Schedule it for later.  \n",
              "  3. **Urgent but Not Important**: Delegate it if possible.  \n",
              "  4. **Neither Urgent nor Important**: Eliminate or ignore it.  \n",
              "**Example Use Case:** Deciding how to allocate your time during a busy day.  \n",
              "\n",
              "---\n",
              "\n",
              "### 2. **The 80/20 Rule (Pareto Principle)**  \n",
              "**Purpose:** Focus on the 20% of actions that yield 80% of the results.  \n",
              "**How It Works:**  \n",
              "- Identify the key tasks or decisions that will have the greatest impact.  \n",
              "- Prioritize those and minimize time spent on less impactful activities.  \n",
              "**Example Use Case:** Choosing which work tasks to focus on to maximize productivity.  \n",
              "\n",
              "---\n",
              "\n",
              "### 3. **The 5 Whys Technique**  \n",
              "**Purpose:** Get to the root cause of a problem or decision.  \n",
              "**How It Works:**  \n",
              "- Ask \"Why?\" five times (or as many times as needed) to uncover the underlying cause or motivation.  \n",
              "- Use the insights to make an informed decision.  \n",
              "**Example Use Case:** Deciding how to address recurring issues, like why you're always late to meetings.  \n",
              "\n",
              "---\n",
              "\n",
              "### 4. **The OODA Loop (Observe, Orient, Decide, Act)**  \n",
              "**Purpose:** Make decisions quickly and adapt to changing circumstances.  \n",
              "**How It Works:**  \n",
              "- **Observe:** Gather information about the situation.  \n",
              "- **Orient:** Analyze the information and understand the context.  \n",
              "- **Decide:** Choose the best course of action.  \n",
              "- **Act:** Implement the decision and monitor the outcome.  \n",
              "**Example Use Case:** Deciding how to respond to unexpected challenges, like a last-minute schedule change.  \n",
              "\n",
              "---\n",
              "\n",
              "### 5. **The 10/10/10 Rule**  \n",
              "**Purpose:** Evaluate the long-term impact of a decision.  \n",
              "**How It Works:**  \n",
              "- Ask yourself:  \n",
              "  - How will I feel about this decision in **10 minutes**?  \n",
              "  - How will I feel about it in **10 months**?  \n",
              "  - How will I feel about it in **10 years**?  \n",
              "- Use the answers to weigh short-term vs. long-term consequences.  \n",
              "**Example Use Case:** Deciding whether to make a quick emotional purchase or save money for a future goal.  \n",
              "\n",
              "---\n",
              "\n",
              "### Summary Table for Quick Reference:\n",
              "\n",
              "| Framework         | Key Focus              | Best For                                  |\n",
              "|--------------------|------------------------|-------------------------------------------|\n",
              "| Eisenhower Matrix  | Urgency vs. Importance| Time management and prioritization        |\n",
              "| 80/20 Rule         | High-impact actions   | Maximizing efficiency and results         |\n",
              "| 5 Whys             | Root cause analysis   | Problem-solving and understanding motives |\n",
              "| OODA Loop          | Quick adaptability    | Responding to dynamic or changing situations |\n",
              "| 10/10/10 Rule      | Long-term perspective | Balancing short-term and long-term impacts|\n",
              "\n",
              "---\n",
              "\n",
              "### How to Choose the Right Framework:\n",
              "- **For prioritizing tasks:** Use the Eisenhower Matrix or 80/20 Rule.  \n",
              "- **For solving problems:** Use the 5 Whys.  \n",
              "- **For dynamic situations:** Use the OODA Loop.  \n",
              "- **For weighing long-term impacts:** Use the 10/10/10 Rule.  \n",
              "\n",
              "By keeping these frameworks in your decision-making toolkit, you can approach daily situations with clarity and confidence. Let me know if you'd like help applying any of these to a specific scenario!"
            ]
          },
          "metadata": {},
          "output_type": "display_data"
        }
      ],
      "source": [
        "// Create a System Prompt instruction to override the default system prompt\n",
        "// Add the System Prompt (Persona) to behave like a Decision Intelligence assistant\n",
        "var systemPromptForDecisions = \"\"\"\n",
        "You are a Decision Intelligence Assistant. \n",
        "Assist the user in exploring options, reasoning through decisions, problem-solving.\n",
        "Apply systems thinking to various scenarios. \n",
        "Provide structured, logical, and comprehensive decision advice.\n",
        "\"\"\";\n",
        "var simpleDecisionPrompt = \"\"\"\n",
        "Recommend the top 5 decision frameworks that can be used for daily situations to make various decisions.\n",
        "These frameworks should be very easy to understand and apply to various scenarios.\n",
        "\"\"\";\n",
        "\n",
        "// How the prompt looks like to the LLM\n",
        "var simpleDecisionPromptTemplate = $\"\"\"\n",
        "System Prompt: \n",
        "{systemPromptForDecisions}\n",
        "\n",
        "Request from the user: \n",
        "{simpleDecisionPrompt}\n",
        "\"\"\";\n",
        "\n",
        "// Create a new OpenAI prompt execution settings object\n",
        "var openAIPromptExecutionSettings = new OpenAIPromptExecutionSettings { \n",
        "    ChatSystemPrompt = systemPromptForDecisions,\n",
        "    MaxTokens = 1000, \n",
        "    Temperature = 0.3, \n",
        "    TopP = 1.0, \n",
        "    FrequencyPenalty = 0.0, \n",
        "    PresencePenalty = 0.0\n",
        "    };\n",
        "KernelArguments kernelArguments = new KernelArguments(openAIPromptExecutionSettings);\n",
        "\n",
        "var promptResponseWithTemplate = await semanticKernel.InvokePromptAsync(simpleDecisionPrompt, kernelArguments);\n",
        "var response = promptResponseWithTemplate.GetValue<string>();\n",
        "\n",
        "// Display the response from the Semantic Kernel as Markdown\n",
        "response.DisplayAs(\"text/markdown\");"
      ]
    },
    {
      "cell_type": "markdown",
      "metadata": {},
      "source": [
        "### Step 7 - Execute a Decision Scenario with a System Prompt (Custom AI Persona)"
      ]
    },
    {
      "cell_type": "markdown",
      "metadata": {},
      "source": [
        "In this step a decision scenario will be introduced requiring analysis and a recommendation performed by Artificial Intelligence. The full Decision Intelligence framework will not be used, rather a simple request for Artificial Intelligence to recommend a path forward (recommendation) for the human user to ultimately make the final decision.  \n",
        "\n",
        "**Decision Scenario:** Your high school daughter Alex is deciding whether to enroll directly in a four-year university or start at a community college to earn an associate degree first. These are Alex's main decision factors: financial, career uncertainty, academic consistency and future impact. In addition, you have all the decision factor detailed data available to pass to the GenAI model prompt. You are looking for an impartial (non-family) recommendation. Can Artificial Intelligence be that impartial judge to help Alex decide? \n",
        "\n",
        "<img style=\"display: block; margin: auto;\" width =\"700px\" src=\"https://raw.githubusercontent.com/bartczernicki/DecisionIntelligence.GenAI.Workshop/main/Images/Scenarios/Scenario-SimpleDecision-College.png\">"
      ]
    },
    {
      "cell_type": "code",
      "execution_count": 10,
      "metadata": {
        "dotnet_interactive": {
          "language": "csharp"
        },
        "polyglot_notebook": {
          "kernelName": "csharp"
        },
        "vscode": {
          "languageId": "polyglot-notebook"
        }
      },
      "outputs": [
        {
          "data": {
            "text/markdown": [
              "| **Decision Factor**                | **Four-Year University (Direct Entry)**                                                                 | **Community College (Associate First, Then Transfer)**                                         | **Analysis & Recommendation**                                                                                                                                                                                                                                                                                                                                                     |\n",
              "|------------------------------------|--------------------------------------------------------------------------------------------------------|------------------------------------------------------------------------------------------------|------------------------------------------------------------------------------------------------------------------------------------------------------------------------------------------------------------------------------------------------------------------------------------------------------------------------------------------------------------------------------------|\n",
              "| **Financial Considerations**       | High cost ($50k-$60k/year); family can afford with some loans; medium concern.                         | Low cost ($3k-$5k/year); significant savings; may require loans for later transfer.            | Community college offers substantial savings, reducing future debt and financial pressure. While the family can afford the university, minimizing debt is prudent, especially given Alex’s uncertainty about her major and career path.                                                                                                                                            |\n",
              "| **Career & Major Uncertainty**     | Early commitment to a major; switching majors could increase time/cost; less flexibility to explore.   | More flexibility to explore majors at lower cost; easier to change direction early on.         | Community college provides a low-risk environment for academic exploration, which is ideal given Alex’s uncertainty. This reduces the risk of costly mistakes if she changes majors.                                                                                                                |\n",
              "| **Academic Consistency & Networking** | Immediate access to university resources, professors, and networking; early campus integration.        | Delayed access to university-level networking; possible adjustment challenges when transferring. | While direct entry offers earlier networking, community college students can still build strong networks after transferring. Many universities have robust transfer programs to integrate new students. The initial delay is offset by the financial and academic flexibility benefits.                                                         |\n",
              "| **Future Impact**                  | Potential for stronger early professional network; higher debt load; less flexibility if uncertain.    | Lower debt; more flexibility; may need to work harder to build network after transferring.      | Lower debt improves long-term financial stability. While networking starts later, Alex can still achieve her goals with intentional effort after transferring. The flexibility and reduced financial risk of starting at community college outweigh the benefits of immediate university entry, especially given Alex’s current uncertainty about her major and career path.                       |\n",
              "\n",
              "### **Recommendation**\n",
              "\n",
              "**Based on the factors provided, Alex should start at a community college to earn an associate degree, then transfer to a four-year university to complete her bachelor’s degree.**\n",
              "\n",
              "**Rationale:**  \n",
              "- This path offers significant financial savings and minimizes student loan debt, which is important for long-term stability.\n",
              "- Community college allows Alex to explore different majors at a lower cost, reducing the risk of expensive mistakes if she changes direction.\n",
              "- While there is a delay in building a university network, transfer students can still access campus resources, internships, and professional connections after transferring.\n",
              "- The flexibility and reduced financial risk of starting at community college outweigh the benefits of immediate university entry, especially given Alex’s current uncertainty about her major and career path."
            ]
          },
          "metadata": {},
          "output_type": "display_data"
        }
      ],
      "source": [
        "// Create a system prompt instruction to override the default system prompt\n",
        "// Add the System Prompt (Persona) to behave like a decision intelligence assistant\n",
        "var systemPromptForDecisions = \"\"\"\n",
        "You are a Decision Intelligence Assistant. \n",
        "Assist the user in exploring options, reasoning through decisions, problem-solving.\n",
        "Apply systems thinking to various scenarios. \n",
        "Provide structured, logical, and comprehensive decision advice.\n",
        "\"\"\";\n",
        "// Provide a description of the decision scenario and the desired output \n",
        "// Provide detailed Decision Scenario considerations and information about Alex (the decision-maker) \n",
        "var scenarioDecisionPrompt = \"\"\"\n",
        "Imagine you are advising a daughter named Alex who is deciding whether to enroll directly in a well-regarded four-year \n",
        "university or start at a community college to earn an associate degree first. \n",
        "\n",
        "Make a single recommendation based on the following decision factor details. \n",
        "Output the recommendation in a Markdown table format. \n",
        "\n",
        "Financial Considerations:\n",
        "Alex's four-year university will cost significantly more in tuition, housing, and related expenses \n",
        "(estimated $50,000-$60,000 per year). A two-year associate program at a local community college could \n",
        "save substantial money (estimated $3,000-$5,000 per year), but Alex may have to transfer to a \n",
        "four-year institution later to complete a bachelor's degree. The family can afford the four-year university, \n",
        "with some loans, but the cost is only a medium concern. \n",
        "\n",
        "Career and Major Uncertainty:\n",
        "Alex is not entirely sure what she wants to major in. She is torn between business, psychology, and \n",
        "possibly something in the arts. She worries that if she starts at the four-year university, \n",
        "she might switch majors and incur extra time and cost. On the other hand, \n",
        "community college might give her space to explore options, \n",
        "but transferring could mean adjusting to a new campus and curriculum midway through.\n",
        "\n",
        "Academic Consistency and Networking:\n",
        "Going straight to the four-year university would allow Alex to build early relationships with professors, \n",
        "join campus groups, and potentially secure internships or research opportunities. Starting at community college might \n",
        "delay those opportunities, but it could also let her explore different fields at a lower cost. \n",
        "She might miss out on the “full campus” experience early on, but transferring later means she could \n",
        "still build connections, just on a different timeline. \n",
        "\n",
        "Future Impact: \n",
        "Alex is unsure of the short-term future impact of her decision that might be hard to remediate. \n",
        "Alex wants a solid professional network and relevant experience when she graduates. \n",
        "Alex is not overly concerned about the social aspect of college, \n",
        "but feels she can build a quality network in a four-year university setting sooner. \n",
        "She is also concerned about taking on significant student loan debt. The decision affects not only her immediate academic path but \n",
        "also her long-term financial stability and career prospects. \n",
        "\"\"\";\n",
        "\n",
        "// How the prompt looks like to the LLM\n",
        "var scenarioDecisionPromptTemplate = $\"\"\"\n",
        "System Prompt: \n",
        "{systemPromptForDecisions}\n",
        "\n",
        "Request from the user: \n",
        "{scenarioDecisionPrompt}\n",
        "\"\"\";\n",
        "\n",
        "// Create a new OpenAI prompt execution settings object\n",
        "var openAIPromptExecutionSettings = new OpenAIPromptExecutionSettings { \n",
        "    ChatSystemPrompt = systemPromptForDecisions,\n",
        "    MaxTokens = 1000, // Increase the max tokens to allow for a more detailed response\n",
        "    Temperature = 0.3, \n",
        "    TopP = 1.0, \n",
        "    FrequencyPenalty = 0.0, \n",
        "    PresencePenalty = 0.0\n",
        "    };\n",
        "KernelArguments kernelArguments = new KernelArguments(openAIPromptExecutionSettings);\n",
        "\n",
        "var promptResponseScenario = await semanticKernel.InvokePromptAsync(scenarioDecisionPromptTemplate, kernelArguments);\n",
        "var response = promptResponseScenario.GetValue<string>();\n",
        "\n",
        "// Display the response from the Semantic Kernel as Markdown\n",
        "response.DisplayAs(\"text/markdown\");"
      ]
    }
  ],
  "metadata": {
    "kernelspec": {
      "display_name": ".NET (C#)",
      "language": "C#",
      "name": ".net-csharp"
    },
    "language_info": {
      "name": "csharp"
    },
    "polyglot_notebook": {
      "kernelInfo": {
        "defaultKernelName": "csharp",
        "items": [
          {
            "aliases": [],
            "name": "csharp"
          }
        ]
      }
    }
  },
  "nbformat": 4,
  "nbformat_minor": 2
}
