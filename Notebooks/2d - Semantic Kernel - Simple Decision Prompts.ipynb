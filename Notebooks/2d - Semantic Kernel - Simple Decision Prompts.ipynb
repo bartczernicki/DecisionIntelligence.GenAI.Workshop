{
 "cells": [
  {
   "cell_type": "markdown",
   "metadata": {},
   "source": [
    "<img style=\"float: left;padding-right: 10px\" width =\"40px\" src=\"https://raw.githubusercontent.com/bartczernicki/DecisionIntelligence.GenAI.Workshop/main/Images/SemanticKernelLogo.png\">\n",
    "\n",
    "## Semantic Kernel - Simple Decision Prompts"
   ]
  },
  {
   "cell_type": "markdown",
   "metadata": {},
   "source": [
    "Decision Intelligence applied in this module:  \n",
    "* Listing of various decision-making frameworks and with their descriptions by using GenAI prompt engineering  \n",
    "* Creating custom AI personas with a system decision prompt  \n",
    "* Generating decision outputs using easier to consume formats (Markdown)     \n",
    "\n",
    "Prompts are the fundemental building block to getting the proper responses from AI models. This module demonstrates how to use common prompt engineering techniques while using Semantic Kernel. If you've ever used ChatGPT or Microsoft Copilot, you're already familiar with prompting. Given a prompt instruction, an LLM will attempt to predict the most likely response. With Semantic Kernel, you can craft applications, services & APIs that execute prompts.  \n",
    "\n",
    "For more information on using prompts with Semantic Kernel, visit: https://learn.microsoft.com/en-us/semantic-kernel/prompts/your-first-prompt  \n",
    "\n",
    "The process of carefully crafting questions or instructions for AI is called **Prompt Engineering**. Prompt Engineering involves designing and refining input prompts—text or questions—so that the AI produces responses that are more relevant, useful, or accurate. The goal of prompt engineering is to \"tune\" the prompt in a way that maximizes the quality and clarity of the AI's response, often using specific wording, context, or examples within the prompt itself.\n",
    "\n",
    "Decision Intelligence and Prompt Engineering techniques can be combined to created \"Generative AI Decision Intellignce\"! This can leverage GenAI models to reason over complex tasks, gather intelligence for decisions, recommend decisions, communicate decisions etc. "
   ]
  },
  {
   "cell_type": "markdown",
   "metadata": {},
   "source": [
    "### Step 1 - Initialize Configuration Builder & Build the Semantic Kernel Orchestration "
   ]
  },
  {
   "cell_type": "markdown",
   "metadata": {},
   "source": [
    "Execute the next two cells to:\n",
    "* Use the Configuration Builder to load the API secrets.  \n",
    "* Use the API configuration to build the Semantic Kernel orchestrator."
   ]
  },
  {
   "cell_type": "code",
   "execution_count": 1,
   "metadata": {
    "dotnet_interactive": {
     "language": "csharp"
    },
    "polyglot_notebook": {
     "kernelName": "csharp"
    },
    "vscode": {
     "languageId": "polyglot-notebook"
    }
   },
   "outputs": [
    {
     "data": {
      "text/html": [
       "<div><div></div><div></div><div><strong>Installed Packages</strong><ul><li><span>Microsoft.Extensions.Configuration, 9.0.0</span></li><li><span>Microsoft.Extensions.Configuration.Json, 9.0.0</span></li></ul></div></div>"
      ]
     },
     "metadata": {},
     "output_type": "display_data"
    }
   ],
   "source": [
    "// Import the required NuGet configuration packages\n",
    "#r \"nuget: Microsoft.Extensions.Configuration, 9.0.0\"\n",
    "#r \"nuget: Microsoft.Extensions.Configuration.Json, 9.0.0\"\n",
    "\n",
    "using Microsoft.Extensions.Configuration.Json;\n",
    "using Microsoft.Extensions.Configuration;\n",
    "using System.IO;\n",
    "\n",
    "// Load the configuration settings from the local.settings.json and secrets.settings.json files\n",
    "// The secrets.settings.json file is used to store sensitive information such as API keys\n",
    "var configurationBuilder = new ConfigurationBuilder()\n",
    "    .SetBasePath(Directory.GetCurrentDirectory())\n",
    "    .AddJsonFile(\"local.settings.json\", optional: true, reloadOnChange: true)\n",
    "    .AddJsonFile(\"secrets.settings.json\", optional: true, reloadOnChange: true);\n",
    "var config = configurationBuilder.Build();\n",
    "\n",
    "// IMPORTANT: You ONLY NEED either Azure OpenAI or OpenAI connectiopn info, not both.\n",
    "// Azure OpenAI Connection Info\n",
    "var azureOpenAIEndpoint = config[\"AzureOpenAI:Endpoint\"];\n",
    "var azureOpenAIAPIKey = config[\"AzureOpenAI:APIKey\"];\n",
    "var azureOpenAIModelDeploymentName = config[\"AzureOpenAI:ModelDeploymentName\"];\n",
    "// OpenAI Connection Info \n",
    "var openAIAPIKey = config[\"OpenAI:APIKey\"];\n",
    "var openAIModelId = config[\"OpenAI:ModelId\"];"
   ]
  },
  {
   "cell_type": "code",
   "execution_count": 2,
   "metadata": {
    "dotnet_interactive": {
     "language": "csharp"
    },
    "polyglot_notebook": {
     "kernelName": "csharp"
    },
    "vscode": {
     "languageId": "polyglot-notebook"
    }
   },
   "outputs": [
    {
     "data": {
      "text/html": [
       "<div><div></div><div></div><div><strong>Installed Packages</strong><ul><li><span>Microsoft.SemanticKernel, 1.32.0</span></li></ul></div></div>"
      ]
     },
     "metadata": {},
     "output_type": "display_data"
    },
    {
     "name": "stdout",
     "output_type": "stream",
     "text": [
      "Using Azure OpenAI Service\n"
     ]
    }
   ],
   "source": [
    "// Import the Semantic Kernel NuGet package\n",
    "#r \"nuget: Microsoft.SemanticKernel, 1.32.0\"\n",
    "\n",
    "using Microsoft.Extensions.DependencyInjection.Extensions;\n",
    "using Microsoft.Extensions.DependencyInjection;\n",
    "using Microsoft.SemanticKernel;\n",
    "using Microsoft.SemanticKernel.ChatCompletion;\n",
    "using Microsoft.SemanticKernel.Connectors.OpenAI;\n",
    "\n",
    "Kernel semanticKernel;\n",
    "\n",
    "// Set the flag to use Azure OpenAI or OpenAI. False to use OpenAI, True to use Azure OpenAI\n",
    "var useAzureOpenAI = true;\n",
    "\n",
    "// Create a new Semantic Kernel instance\n",
    "if (useAzureOpenAI)\n",
    "{\n",
    "    Console.WriteLine(\"Using Azure OpenAI Service\");\n",
    "    semanticKernel = Kernel.CreateBuilder()\n",
    "        .AddAzureOpenAIChatCompletion(\n",
    "            deploymentName: azureOpenAIModelDeploymentName,\n",
    "            endpoint: azureOpenAIEndpoint,\n",
    "            apiKey: azureOpenAIAPIKey)\n",
    "        .Build();\n",
    "}\n",
    "else\n",
    "{\n",
    "    Console.WriteLine(\"Using OpenAI Service\");\n",
    "    semanticKernel = Kernel.CreateBuilder()\n",
    "        .AddOpenAIChatCompletion(\n",
    "            modelId: openAIModelId,\n",
    "            apiKey: openAIAPIKey)\n",
    "        .Build();\n",
    "}"
   ]
  },
  {
   "cell_type": "markdown",
   "metadata": {},
   "source": [
    "### Step 2 - Execute a Decision Intelligence Prompt "
   ]
  },
  {
   "cell_type": "markdown",
   "metadata": {},
   "source": [
    "Many LLMs and even SLMs have been trained on knowledge that includes decision frameworks & processes. This makes LLMs great assistants to:\n",
    "* Provide proper Decision Frames\n",
    "* Gather Intelligence (information) in order to make a decision\n",
    "* Recommend Decision Frameworks to make a high-quality decision\n",
    "* Provide feedback to evaluate a Decision\n",
    "\n",
    "Once the Semantic Kernel instance is built, it is ready to intake prompt instructions. In the prompt below, the Semantic Kernel is instructed to provide examples of decision frameworks \"trained into\" the knowledge of the configured AI model.  "
   ]
  },
  {
   "cell_type": "code",
   "execution_count": 3,
   "metadata": {
    "dotnet_interactive": {
     "language": "csharp"
    },
    "polyglot_notebook": {
     "kernelName": "csharp"
    },
    "vscode": {
     "languageId": "polyglot-notebook"
    }
   },
   "outputs": [
    {
     "name": "stdout",
     "output_type": "stream",
     "text": [
      "Certainly! Here are five decision-making frameworks that can enhance the quality of decisions along with brief descriptions of how each supports better analysis and reasoning:\n",
      "\n",
      "1. **SWOT Analysis (Strengths, Weaknesses, Opportunities, Threats)**\n",
      "   - **Description**: SWOT analysis is a strategic planning framework used to identify the internal and external factors that can impact the success of a project or organization.\n",
      "   - **Supportive Elements**:\n",
      "     - **Strengths and Weaknesses**: Highlight internal factors, helping organizations leverage strengths and address weaknesses.\n",
      "     - **Opportunities and Threats**: Focus on external factors that can be exploited or mitigated.\n",
      "   - **Application**: Useful in strategic decision-making, helping to develop a well-rounded understanding of potential pathways and considerations.\n",
      "\n",
      "2. **Cost-Benefit Analysis (CBA)**\n",
      "   - **Description**: This framework involves comparing the costs and benefits associated with a decision to determine its overall value.\n",
      "   - **Supportive Elements**:\n",
      "     - **Quantification**: Converts potential outcomes into monetary terms, facilitating clear comparisons.\n",
      "     - **Net Benefits**: Helps assess the feasibility and attractiveness of different options based on their net positive value.\n",
      "   - **Application**: Commonly used in economic and business decision-making to evaluate investments, projects, and various business scenarios.\n",
      "\n",
      "3. **The 5 Whys**\n",
      "   - **Description**: A problem-solving technique that involves asking \"Why?\" five times in succession to drill down into the root cause of a problem.\n",
      "   - **Supportive Elements**:\n",
      "     - **Root Cause Identification**: Helps uncover the fundamental cause of an issue rather than just addressing symptoms.\n",
      "     - **Preventive Measures**: Facilitates the development of long-term solutions by targeting the underlying problem.\n",
      "   - **Application**: Particularly effective in quality control, operational improvements, and troubleshooting.\n",
      "\n",
      "4. **Decision Trees**\n",
      "   - **Description**: A graphical representation of potential decisions and their possible consequences, including risks, costs, and benefits.\n",
      "   - **Supportive Elements**:\n",
      "     - **Visual Aid**: Provides a clear, structured visual representation of choices and outcomes.\n",
      "     - **Scenario Analysis**: Allows for the comparison of different decision paths and their impacts.\n",
      "   - **Application**: Useful in complex decision-making scenarios where multiple variables and potential outcomes must be considered, such as project management and risk assessment.\n",
      "\n",
      "5. **PDCA Cycle (Plan-Do-Check-Act)**\n",
      "   - **Description**: An iterative four-step process used for continuous improvement and problem-solving.\n",
      "   - **Supportive Elements**:\n",
      "     - **Continuous Improvement**: Encourages iterative refinement and assessment of processes or decisions.\n",
      "     - **Feedback Loop**: Promotes regular review and adjustment based on observed outcomes and feedback.\n",
      "   - **Application**: Effective in quality management, business process optimization, and organizational development.\n",
      "\n",
      "These frameworks cater to various decision-making scenarios, ranging from strategic planning and operational improvements to root cause analysis and continuous quality enhancement. Each framework brings unique strengths to the decision-making process, promoting thorough analysis, clear reasoning, and informed decision outcomes.\n"
     ]
    }
   ],
   "source": [
    "// A new prompt to help with decision-making frameworks\n",
    "var simpleDecisionPrompt = \"\"\"\n",
    "Identify and list 5 decision-making frameworks that can enhance the quality of decisions. \n",
    "Briefly describe how each framework supports better analysis and reasoning in different decision-making scenarios.\n",
    "\"\"\";\n",
    "\n",
    "var simplePromptResponse = await semanticKernel.InvokePromptAsync(simpleDecisionPrompt);\n",
    "Console.WriteLine(simplePromptResponse.GetValue<string>());"
   ]
  },
  {
   "cell_type": "markdown",
   "metadata": {},
   "source": [
    "### Step 3 - Execute a Decision Intelligence Prompt with Streaming"
   ]
  },
  {
   "cell_type": "markdown",
   "metadata": {},
   "source": [
    "Semantic Kernel supports prompt response streaming when invoking the prompt. This allows responses to be streamed to the client as soon as they are made available by the LLM and service. Below the same decision prompt is executed. However, notice that chunks are streamed and can be read by the user as soon as they appear. \n",
    "\n",
    "> Note: An average human can read between 25-40 tokens / second.  "
   ]
  },
  {
   "cell_type": "code",
   "execution_count": 4,
   "metadata": {
    "dotnet_interactive": {
     "language": "csharp"
    },
    "polyglot_notebook": {
     "kernelName": "csharp"
    },
    "vscode": {
     "languageId": "polyglot-notebook"
    }
   },
   "outputs": [
    {
     "name": "stdout",
     "output_type": "stream",
     "text": [
      "Certainly! Here are five decision-making frameworks that can enhance the quality of decisions along with brief descriptions of how each framework supports better analysis and reasoning:\n",
      "\n",
      "1. **SWOT Analysis (Strengths, Weaknesses, Opportunities, Threats)**\n",
      "   - **Description**: This framework helps in understanding both internal and external factors that impact a decision.\n",
      "   - **Support for Better Analysis**: By systematically evaluating the positives (strengths and opportunities) and the negatives (weaknesses and threats), decision-makers can create balanced strategies. It facilitates a thorough analysis of the situational environment before making a decision.\n",
      "\n",
      "2. **The Decision Matrix (Weighted Scoring Model)**\n",
      "   - **Description**: This framework involves listing all possible options and evaluating each against a set of predefined criteria, each weighted according to its importance.\n",
      "   - **Support for Better Analysis**: By quantifying and comparing the different aspects of each option, the decision matrix helps identify the most balanced and advantageous choice. It ensures a more objective and comprehensive comparison of alternatives.\n",
      "\n",
      "3. **Cost-Benefit Analysis (CBA)**\n",
      "   - **Description**: CBA involves comparing the total expected costs of each option with the total expected benefits to determine the best course of action.\n",
      "   - **Support for Better Analysis**: By monetizing both the costs and benefits, decision-makers can evaluate the economic efficiency of different options. This approach helps in making decisions that are financially sound and that maximize net benefits.\n",
      "\n",
      "4. **The OODA Loop (Observe, Orient, Decide, Act)**\n",
      "   - **Description**: This iterative decision-making process begins with observing the situation, orienting oneself by analyzing and synthesizing information, deciding on a course of action, and then acting on that decision.\n",
      "   - **Support for Better Analysis**: The OODA Loop is particularly useful in dynamic and rapidly changing environments. It promotes continuous learning and adaptation, improving the ability to make quick and effective decisions over time.\n",
      "\n",
      "5. **The Pros-Cons and Risks-Opportunities (PCRO)**\n",
      "   - **Description**: This framework involves listing the positives (pros) and negatives (cons) of each option, as well as the potential risks and opportunities associated with them.\n",
      "   - **Support for Better Analysis**: By explicitly considering both the immediate and potential future impacts of each decision, the PCRO framework allows for a more holistic view. It helps in identifying trade-offs and anticipating potential pitfalls and benefits, leading to more resilient decisions.\n",
      "\n",
      "Each of these frameworks is designed to address different aspects and complexities of decision-making, ensuring a more structured, balanced, and thorough approach to choosing the best possible course of action."
     ]
    }
   ],
   "source": [
    "await foreach (var streamChunk in semanticKernel.InvokePromptStreamingAsync(simpleDecisionPrompt))\n",
    "{\n",
    "   Console.Write(streamChunk);\n",
    "}"
   ]
  },
  {
   "cell_type": "markdown",
   "metadata": {},
   "source": [
    "### Step 4 - Execute a Semantic Kernel Decision Prompt with Improved Formatting  "
   ]
  },
  {
   "cell_type": "markdown",
   "metadata": {},
   "source": [
    "Generative AI models have an inherent ability to not only provide decision reasoning analysis, but also format the output in a desired format. This could be as simple as instructing the Generative AI model to format the decision as a single sentence, paragraphs or lists. However more sophisticated output generations can be instructed. For example, the GenAI model can ouput Markdown or even extract information and fill in a desired schema (JSON). Specifically for Decision Intelligence, you can ask the GenAI models to apply decision communication frameworks to the generation as well. \n",
    "\n",
    "Execute the simple decision prompt below with Markdown formatting ouptut. This table can now be rendered in a Markdown document for easy human comprehension. Markdown tables and other formats can be used on web sites, document, programming code etc. Even Generative AI models understand Markdown format, which can not only be used for output but inside input prompts.  "
   ]
  },
  {
   "cell_type": "code",
   "execution_count": 6,
   "metadata": {
    "dotnet_interactive": {
     "language": "csharp"
    },
    "polyglot_notebook": {
     "kernelName": "csharp"
    },
    "vscode": {
     "languageId": "polyglot-notebook"
    }
   },
   "outputs": [
    {
     "name": "stdout",
     "output_type": "stream",
     "text": [
      "| Framework                  | Description                                                                                                                                                                                |\n",
      "|----------------------------|------------------------------------------------------------------------------------------------------------------------------------------------------------------------------------------------|\n",
      "| SWOT Analysis              | Identifies Strengths, Weaknesses, Opportunities, and Threats to evaluate the internal and external factors influencing a decision. Helps in strategic planning by organizing key data visually.     |\n",
      "| Decision Matrix            | A grid that evaluates and prioritizes a list of options against a set of criteria. Weighted scores provide a clear comparison, aiding in choosing the most suitable option based on quantifiable data. |\n",
      "| Cost-Benefit Analysis      | Compares the estimated costs against potential benefits to determine the financial feasibility of a decision. Helps in making economically sound choices by focusing on monetary impacts.             |\n",
      "| Pareto Analysis            | Uses the 80/20 rule to identify the few critical factors that will have the most significant impact. Helps focus efforts on the areas that will yield the most substantial improvements.              |\n",
      "| Kepner-Tregoe Method       | Breaks down decisions into clear steps including situation analysis, problem analysis, decision analysis, and potential problem analysis. Ensures thorough evaluation and minimizes risks.            |"
     ]
    }
   ],
   "source": [
    "// New prompt to help with decision-making frameworks using Markdown formatting.\n",
    "var simpleDecisionPromptWithMarkdownFormat = \"\"\"\n",
    "Identify and list 5 decision-making frameworks that can enhance the quality of decisions. \n",
    "Briefly describe how each framework supports better analysis and reasoning in different decision-making scenarios.\n",
    "\n",
    "Format the response using only a Markdown table. Do not enclose the table in triple backticks.\n",
    "\"\"\";\n",
    "\n",
    "await foreach (var streamChunk in semanticKernel.InvokePromptStreamingAsync(simpleDecisionPromptWithMarkdownFormat))\n",
    "{\n",
    "   Console.Write(streamChunk);\n",
    "}"
   ]
  },
  {
   "cell_type": "markdown",
   "metadata": {},
   "source": [
    "Example formatted Markdown Table output: \n",
    "\n",
    "| Framework                  | Description                                                                                                                                                                                                                                                                                                                                |\n",
    "|----------------------------|-----------------------------------------------------------------------------------------------------------------------------------------------------------------------------------------------------------------------------------------------------------------------------------------------------------------------------------------------|\n",
    "| SWOT Analysis              | SWOT (Strengths, Weaknesses, Opportunities, Threats) analysis helps identify internal strengths and weaknesses, as well as external opportunities and threats. This framework is useful for strategic planning and risk management by providing a structured way to think about the pros and cons of different choices.                                         |\n",
    "| Decision Matrix Analysis   | Also known as a prioritization matrix, this framework helps evaluate and prioritize different options by scoring them against a set of criteria. It is particularly useful in situations where many factors are at play, ensuring a comprehensive evaluation of all available options.                                                                    |\n",
    "| Cost-Benefit Analysis      | This quantitative approach assesses the financial impacts of different decisions by comparing the expected costs and benefits. It supports better economic reasoning by making explicit the expected monetary outcomes of various alternatives and helps in choosing the option with the highest net benefit.                                        |\n",
    "| The OODA Loop              | The OODA Loop (Observe, Orient, Decide, Act) is a decision-making process that emphasizes continuous feedback and learning. It is especially effective in rapidly changing environments, such as military strategy or business competition, as it promotes agility and adaptability in decision-making.                                            |\n",
    "| The Delphi Method          | This structured communication technique uses a panel of experts who answer questionnaires in multiple rounds. After each round, a facilitator provides an anonymous summary of the experts' forecasts. This process helps in arriving at a more rounded and unbiased consensus, particularly useful in complex problem-solving and forecasting.            |"
   ]
  },
  {
   "cell_type": "markdown",
   "metadata": {},
   "source": [
    "### Step 5 - Execute a Decision Intelligence Prompt with a Custom Execution Configuration"
   ]
  },
  {
   "cell_type": "markdown",
   "metadata": {},
   "source": [
    "Semantic Kernel supports the configuration of prompt execution. The typical OpenAI and Azure OpenAI settings are exposed as configuration options that provide a different prompt experience. Try changing the MaxTokens, Tempature or other settings.\n",
    "\n",
    "> Note: The supported settings are dependendent on the API plus the specific model version. For example, a model paired with an older API may not expose all the configuration settings available. Conversely, a new preview model may not have all the settings available until it becomes generally available.  "
   ]
  },
  {
   "cell_type": "code",
   "execution_count": 13,
   "metadata": {
    "dotnet_interactive": {
     "language": "csharp"
    },
    "polyglot_notebook": {
     "kernelName": "csharp"
    },
    "vscode": {
     "languageId": "polyglot-notebook"
    }
   },
   "outputs": [
    {
     "name": "stdout",
     "output_type": "stream",
     "text": [
      "Certainly! Here are five decision-making frameworks that are easy to understand and can be applied to various daily situations:\n",
      "\n",
      "1. **Pros and Cons List**:\n",
      "   - **How it works**: Write down the positive aspects (pros) and negative aspects (cons) of each option.\n",
      "   - **Application**: This framework helps to visually compare the benefits and drawbacks of each choice, making it easier to see which option might be the best overall.\n",
      "   - **Example**: Deciding whether to take a new job offer or stay at your current job.\n",
      "\n",
      "2. **The Eisenhower Matrix**:\n",
      "   - **How it works**: Categorize tasks into four quadrants based on urgency and importance: \n",
      "     1. Urgent and important\n",
      "     2. Important but not urgent\n",
      "     3. Urgent but not important\n",
      "     4. Neither urgent nor important\n",
      "   - **Application**: This helps prioritize tasks and focus on what truly matters.\n",
      "   - **Example**: Managing daily tasks and deciding what to tackle first.\n",
      "\n",
      "3. **SWOT Analysis**:\n",
      "   - **How it works**: Analyze the Strengths, Weaknesses, Opportunities, and Threats related to a decision.\n",
      "   - **Application**: This framework provides a comprehensive view of the internal and external factors that can impact the decision.\n",
      "   - **Example**: Evaluating a new business venture or personal project.\n",
      "\n",
      "4. **The 5 Whys**:\n",
      "   - **How it works**: Ask \"Why?\" five times in succession to drill down to the root cause of a problem or decision.\n",
      "   - **Application**: This helps uncover the underlying reasons behind a situation, leading to more informed decisions.\n",
      "   - **Example**: Understanding why a project failed or why you feel unmotivated.\n",
      "\n",
      "5. **Cost-Benefit Analysis**:\n",
      "   - **How it works**: Compare the costs and benefits of each option, both in quantitative and qualitative terms.\n",
      "   - **Application**: This helps determine whether the benefits outweigh the costs and which option provides the best value.\n",
      "   - **Example**: Deciding whether to invest in a new piece of equipment or service.\n",
      "\n",
      "These frameworks are versatile and can be adapted to a wide range of decisions, from personal choices to professional dilemmas."
     ]
    }
   ],
   "source": [
    "// Create a new OpenAI prompt execution settings object\n",
    "var openAIPromptExecutionSettings = new OpenAIPromptExecutionSettings { \n",
    "    MaxTokens = 500, \n",
    "    Temperature = 0.3, \n",
    "    TopP = 1.0, \n",
    "    FrequencyPenalty = 0.0, \n",
    "    PresencePenalty = 0.0\n",
    "    };\n",
    "\n",
    "KernelArguments kernelArguments = new KernelArguments(openAIPromptExecutionSettings);\n",
    "await foreach (var streamChunk in semanticKernel.InvokePromptStreamingAsync(simpleDecisionPrompt, kernelArguments))\n",
    "{\n",
    "   Console.Write(streamChunk);\n",
    "}"
   ]
  },
  {
   "cell_type": "markdown",
   "metadata": {},
   "source": [
    "### Step 6 - Execute a Decision Intelligence Prompt with a System Prompt (Custom AI Persona)"
   ]
  },
  {
   "cell_type": "markdown",
   "metadata": {},
   "source": [
    "When building Decison Intelligence prompts, all the typical best practices of prompt engineering apply when using Semantic Kernel.  Such as: \n",
    "* Make the prompt more specific\n",
    "* Add structure to the output with formatting\n",
    "* Provide examples with few-shot prompting\n",
    "* Instruct the AI what to do to avoid doing something wrong\n",
    "* Provide context (additional information) to the AI\n",
    "* Using Roles in chat completion prompts\n",
    "* Give your AI words of encouragement  \n",
    "\n",
    "A key best practice is to provide a common behavior across all the LLM interactions in a system prompt. This system prompt is passed in on every single call the LLM with Semantic Kernel. By passing the same (or similar) system prompt with every prompt gives your Generative AI system a common persona. This common persona is the foundational building block of building AI agents; where the desired behavior is to have each agent have a desired persona/behavior every time you interact with that agent.\n",
    "\n",
    "Execute the cell below with a dynamic prompt template. Notice the different behavior of the output for decision frameworks. Based on the new system prompt instructions, the decision framework responses are much more robust with decision intelligence information."
   ]
  },
  {
   "cell_type": "code",
   "execution_count": 14,
   "metadata": {
    "dotnet_interactive": {
     "language": "csharp"
    },
    "polyglot_notebook": {
     "kernelName": "csharp"
    },
    "vscode": {
     "languageId": "polyglot-notebook"
    }
   },
   "outputs": [
    {
     "name": "stdout",
     "output_type": "stream",
     "text": [
      "PROMPT TO SEND TO THE CHAT COMPLETION SERVICE...\n",
      "\n",
      "System Prompt: You are a Decision Intelligence Assistant. \n",
      "Assist the user in exploring options, reasoning through decisions, problem-solving.\n",
      "Apply systems thinking to various scenarios. \n",
      "Provide structured, logical, and comprehensive decision advice.\n",
      "\n",
      "Request from the user: Recommend the top 5 decision frameworks that can be used for daily situations to make various decisions.\n",
      "These frameworks should be very easy to understand and apply in different scenarios.\n",
      "\n",
      "----------------------------------------\n",
      "\n",
      "RESPONSE FROM THE CHAT COMPLETION SERVICE...\n",
      "\n",
      "Certainly! Here are five decision frameworks that are easy to understand and can be applied to various daily situations:\n",
      "\n",
      "### 1. **Pros and Cons List**\n",
      "**Description:** This is one of the simplest and most widely used decision-making frameworks. It involves listing the advantages (pros) and disadvantages (cons) of each option.\n",
      "\n",
      "**Steps:**\n",
      "1. Identify the decision to be made.\n",
      "2. List all possible options.\n",
      "3. For each option, write down the pros and cons.\n",
      "4. Compare the lists to see which option has more pros or fewer cons.\n",
      "5. Make a decision based on the comparison.\n",
      "\n",
      "**Example:** Deciding whether to buy a new phone.\n",
      "- **Pros:** Better camera, faster performance, more storage.\n",
      "- **Cons:** High cost, learning curve with new features.\n",
      "\n",
      "### 2. **The Eisenhower Matrix**\n",
      "**Description:** This framework helps prioritize tasks by urgency and importance, making it easier to decide what to focus on first.\n",
      "\n",
      "**Steps:**\n",
      "1. Create a 2x2 grid.\n",
      "2. Label the quadrants as follows:\n",
      "   - Urgent and Important\n",
      "   - Not Urgent but Important\n",
      "   - Urgent but Not Important\n",
      "   - Not Urgent and Not Important\n",
      "3. Categorize your tasks into these quadrants.\n",
      "4. Focus on tasks in the \"Urgent and Important\" quadrant first, then move to \"Not Urgent but Important.\"\n",
      "\n",
      "**Example:** Managing daily tasks.\n",
      "- **Urgent and Important:** Meeting a project deadline.\n",
      "- **Not Urgent but Important:** Planning a long-term strategy.\n",
      "- **Urgent but Not Important:** Answering non-critical emails.\n",
      "- **Not Urgent and Not Important:** Browsing social media.\n",
      "\n",
      "### 3. **SWOT Analysis**\n",
      "**Description:** This framework helps you evaluate the Strengths, Weaknesses, Opportunities, and Threats related to a decision.\n",
      "\n",
      "**Steps:**\n",
      "1. Identify the decision to be made.\n",
      "2. Create a 2x2 grid.\n",
      "3. Label the quadrants as follows:\n",
      "   - Strengths\n",
      "   - Weaknesses\n",
      "   - Opportunities\n",
      "   - Threats\n",
      "4. Fill in each quadrant with relevant points.\n",
      "5. Analyze the information to make an informed decision.\n",
      "\n",
      "**Example:** Deciding whether to start a new hobby.\n",
      "- **Strengths:** Enjoyment, relaxation.\n",
      "- **Weaknesses:** Time commitment, cost.\n",
      "- **Opportunities:** Learning new skills, meeting"
     ]
    }
   ],
   "source": [
    "// Create a system prompt instruction to override the default system prompt\n",
    "// Add the System Prompt (Persona) to behave like a decision intelligence assistant\n",
    "var systemPromptForDecisions = \"\"\"\n",
    "You are a Decision Intelligence Assistant. \n",
    "Assist the user in exploring options, reasoning through decisions, problem-solving.\n",
    "Apply systems thinking to various scenarios. \n",
    "Provide structured, logical, and comprehensive decision advice.\n",
    "\"\"\";\n",
    "var simpleDecisionPrompt = \"\"\"\n",
    "Recommend the top 5 decision frameworks that can be used for daily situations to make various decisions.\n",
    "These frameworks should be very easy to understand and apply in different scenarios.\n",
    "\"\"\";\n",
    "\n",
    "// How the prompt looks like to the LLM\n",
    "var simpleDecisionPromptTemplate = $\"\"\"\n",
    "System Prompt: {systemPromptForDecisions}\n",
    "\n",
    "Request from the user: {simpleDecisionPrompt}\n",
    "\"\"\";\n",
    "\n",
    "// Create a new OpenAI prompt execution settings object\n",
    "var openAIPromptExecutionSettings = new OpenAIPromptExecutionSettings { \n",
    "    ChatSystemPrompt = systemPromptForDecisions,\n",
    "    MaxTokens = 500, \n",
    "    Temperature = 0.3, \n",
    "    TopP = 1.0, \n",
    "    FrequencyPenalty = 0.0, \n",
    "    PresencePenalty = 0.0\n",
    "    };\n",
    "KernelArguments kernelArguments = new KernelArguments(openAIPromptExecutionSettings);\n",
    "\n",
    "Console.WriteLine(\"PROMPT TO SEND TO THE CHAT COMPLETION SERVICE...\");\n",
    "Console.WriteLine(string.Empty);\n",
    "Console.WriteLine(simpleDecisionPromptTemplate);\n",
    "Console.WriteLine(string.Empty);\n",
    "Console.WriteLine(\"----------------------------------------\");\n",
    "Console.WriteLine(string.Empty);\n",
    "Console.WriteLine(\"RESPONSE FROM THE CHAT COMPLETION SERVICE...\");\n",
    "Console.WriteLine(string.Empty);\n",
    "\n",
    "await foreach (var streamChunk in semanticKernel.InvokePromptStreamingAsync(simpleDecisionPrompt, kernelArguments))\n",
    "{\n",
    "   Console.Write(streamChunk);\n",
    "}"
   ]
  },
  {
   "cell_type": "markdown",
   "metadata": {},
   "source": [
    "### Step 7 - Decision Scenario with a System Prompt (Custom AI Persona)"
   ]
  },
  {
   "cell_type": "markdown",
   "metadata": {},
   "source": [
    "In this step a scenario will be introduced requiring analysis and a recommendation performed by Artificial Intelligence. The full Decision Intelligence framework will not be used, rather a simple request for Artificial Intelligene to recommend a path forward (decision recommedation) for the human user to ultimately make the final decision.  \n",
    "\n",
    "**Decision Scenario:** Your high school daughter Alex is deciding whether to enroll directly in a four-year university or start at a community college to earn an associate degree first. These are the main decision factors: financial, career uncertainty, academic consistency and future impact. You have all the decision factor details available. You are looking for an impartial (non-family) recommendation. Can Artificial Intelligence help Alex decide? \n",
    "\n",
    "<img style=\"display: block; margin: auto;\" width =\"700px\" src=\"https://raw.githubusercontent.com/bartczernicki/DecisionIntelligence.GenAI.Workshop/main/Images/Scenarios/Scenario-SimpleDecision-College.png\">"
   ]
  },
  {
   "cell_type": "code",
   "execution_count": 22,
   "metadata": {
    "vscode": {
     "languageId": "polyglot-notebook"
    }
   },
   "outputs": [
    {
     "name": "stdout",
     "output_type": "stream",
     "text": [
      "Based on the decision factors provided, here is a structured recommendation for Alex:\n",
      "\n",
      "| Decision Factor                | Four-Year University                        | Community College                              | Analysis and Recommendation                                                                 |\n",
      "|--------------------------------|---------------------------------------------|------------------------------------------------|--------------------------------------------------------------------------------------------|\n",
      "| **Financial Considerations**   | $50,000-$60,000 per year, family can afford with loans | $3,000-$5,000 per year, significant savings   | Community college offers substantial cost savings, reducing the need for loans and financial burden. |\n",
      "| **Career and Major Uncertainty**| Risk of extra time and cost if switching majors | Flexibility to explore different fields       | Community college provides a lower-cost environment for exploring majors, reducing the risk of extra costs. |\n",
      "| **Academic Consistency and Networking**| Early relationships with professors, campus groups, internships | Delayed opportunities, adjustment to new campus | While a four-year university offers early networking, community college allows for exploration without immediate pressure. |\n",
      "| **Future Impact**              | Potential for early professional network and experience, but with debt | Lower debt, potential for network building post-transfer | Community college minimizes debt, allowing for a more financially stable future, with networking opportunities still available post-transfer. |\n",
      "\n",
      "### Recommendation:\n",
      "**Alex should begin with an associate degree program at a local community college.**\n",
      "\n",
      "### Reasoning:\n",
      "1. **Financial Considerations**: The significant cost savings at a community college will reduce the financial burden and potential debt, providing Alex with more financial stability in the long term.\n",
      "2. **Career and Major Uncertainty**: Given Alex's uncertainty about her major, starting at a community college allows her to explore different fields without the high costs associated with a four-year university. This reduces the risk of incurring extra time and costs if she decides to switch majors.\n",
      "3. **Academic Consistency and Networking**: While starting at a four-year university offers early networking opportunities, Alex can still build a strong professional network after transferring. The initial focus should be on finding her academic direction without the pressure of high costs.\n",
      "4. **Future Impact**: Minimizing student loan debt by starting at a community college will provide Alex with a more secure financial future. She can still achieve her goal of building a solid professional network and gaining relevant experience after transferring to a four-year institution.\n",
      "\n",
      "By starting at a community college, Alex can explore her academic interests at a lower cost, reduce financial stress, and still have the opportunity to build a strong professional network and gain relevant experience after transferring."
     ]
    }
   ],
   "source": [
    "// Create a system prompt instruction to override the default system prompt\n",
    "// Add the System Prompt (Persona) to behave like a decision intelligence assistant\n",
    "var systemPromptForDecisions = \"\"\"\n",
    "You are a Decision Intelligence Assistant. \n",
    "Assist the user in exploring options, reasoning through decisions, problem-solving.\n",
    "Apply systems thinking to various scenarios. \n",
    "Provide structured, logical, and comprehensive decision advice.\n",
    "\"\"\";\n",
    "// Provide a description of the decision scenario and the desired output \n",
    "// Provide detailed decision scenario considerations and information about Alex (the decision-maker) \n",
    "var scenarioDecisionPrompt = \"\"\"\n",
    "Imagine you Are advising a daughter named Alex who is deciding whether to enroll directly in a well-regarded four-year \n",
    "university or start at a community college to earn an associate degree first. \n",
    "\n",
    "Make a single recommendation based on the following decision factor details. \n",
    "Output the recommedation in a Markdown table format. \n",
    "\n",
    "Financial Considerations:\n",
    "A four-year university will cost significantly more in tuition, housing, and related expenses \n",
    "(estimated $50,000-$60,000 per year). A two-year associate program at a local community college could \n",
    "save substantial money (estimated $3,000-$5,000 per year), but Alex may have to transfer to a \n",
    "four-year institution later to complete a bachelor’s degree. The family can afford the four-year university, \n",
    "with some loans, but the cost is only a medium concern. \n",
    "\n",
    "Career and Major Uncertainty:\n",
    "Alex is not entirely sure what she wants to major in. She is torn between business, psychology, and \n",
    "possibly something in the arts. She worries that if she starts at the four-year university, \n",
    "she might switch majors and incur extra time and cost. On the other hand, \n",
    "community college might give her space to explore options, \n",
    "but transferring could mean adjusting to a new campus and curriculum midway through.\n",
    "\n",
    "Academic Consistency and Networking:\n",
    "Going straight to the four-year university would allow Alex to forge early relationships with professors, \n",
    "join campus groups, and potentially secure internships or research opportunities. Starting at community college might \n",
    "delay those opportunities, but it could also let her explore different fields at a lower cost. \n",
    "She might miss out on the “full campus” experience early on, but transferring later means she could \n",
    "still build connections, just on a different timeline. Alex is not overly concerned about the social aspect of college.\n",
    "\n",
    "Future Impact:\n",
    "Alex wants a solid professional network and relevant experience when she graduates. She is also concerned \n",
    "about taking on significant student loan debt. The decision affects not only her immediate academic path but \n",
    "also her long-term financial stability and career prospects. Given these factors, provide a reasoned analysis of \n",
    "whether Alex should attend the four-year university right away or begin with an associate degree program at a \n",
    "local community college.\n",
    "\"\"\";\n",
    "\n",
    "// How the prompt looks like to the LLM\n",
    "var scenarioDecisionPromptTemplate = $\"\"\"\n",
    "System Prompt: {systemPromptForDecisions}\n",
    "\n",
    "Request from the user: {scenarioDecisionPrompt}\n",
    "\"\"\";\n",
    "\n",
    "// Create a new OpenAI prompt execution settings object\n",
    "var openAIPromptExecutionSettings = new OpenAIPromptExecutionSettings { \n",
    "    ChatSystemPrompt = systemPromptForDecisions,\n",
    "    MaxTokens = 750, \n",
    "    Temperature = 0.3, \n",
    "    TopP = 1.0, \n",
    "    FrequencyPenalty = 0.0, \n",
    "    PresencePenalty = 0.0\n",
    "    };\n",
    "KernelArguments kernelArguments = new KernelArguments(openAIPromptExecutionSettings);\n",
    "\n",
    "await foreach (var streamChunk in semanticKernel.InvokePromptStreamingAsync(scenarioDecisionPromptTemplate, kernelArguments))\n",
    "{\n",
    "   Console.Write(streamChunk);\n",
    "}"
   ]
  }
 ],
 "metadata": {
  "kernelspec": {
   "display_name": ".NET (C#)",
   "language": "C#",
   "name": ".net-csharp"
  },
  "language_info": {
   "name": "csharp"
  },
  "polyglot_notebook": {
   "kernelInfo": {
    "defaultKernelName": "csharp",
    "items": [
     {
      "aliases": [],
      "name": "csharp"
     }
    ]
   }
  }
 },
 "nbformat": 4,
 "nbformat_minor": 2
}
