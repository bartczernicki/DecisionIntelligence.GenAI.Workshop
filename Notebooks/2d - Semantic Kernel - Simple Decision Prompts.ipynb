{
 "cells": [
  {
   "cell_type": "markdown",
   "metadata": {},
   "source": [
    "<img style=\"float: left;padding-right: 10px\" width =\"40px\" src=\"https://raw.githubusercontent.com/bartczernicki/DecisionIntelligence.GenAI.Workshop/main/Images/SemanticKernelLogo.png\">\n",
    "\n",
    "## Semantic Kernel - Simple Decision Prompts"
   ]
  },
  {
   "cell_type": "markdown",
   "metadata": {},
   "source": [
    "Decision Intelligence applied in this module:  \n",
    "* Listing of various decision-making frameworks and with their descriptions by using GenAI prompt engineering  \n",
    "* Creating custom AI personas with a system decision prompt  \n",
    "* Generating decision outputs using easier to consume formats (Markdown)     \n",
    "\n",
    "Prompts are the fundemental building block to getting the proper responses from AI models. This module demonstrates how to use common prompt engineering techniques while using Semantic Kernel. If you've ever used ChatGPT or Microsoft Copilot, you're already familiar with prompting. Given a prompt instruction, an LLM will attempt to predict the most likely response. With Semantic Kernel, you can craft applications, services & APIs that execute prompts.  \n",
    "\n",
    "For more information on using prompts with Semantic Kernel, visit: https://learn.microsoft.com/en-us/semantic-kernel/prompts/your-first-prompt  \n",
    "\n",
    "The process of carefully crafting questions or instructions for AI is called **Prompt Engineering**. Prompt Engineering involves designing and refining input prompts—text or questions—so that the AI produces responses that are more relevant, useful, or accurate. The goal of prompt engineering is to \"tune\" the prompt in a way that maximizes the quality and clarity of the AI's response, often using specific wording, context, or examples within the prompt itself.\n",
    "\n",
    "Decision Intelligence and Prompt Engineering techniques can be combined to created \"Generative AI Decision Intellignce\"! This can leverage GenAI models to reason over complex tasks, gather intelligence for decisions, recommend decisions, communicate decisions etc. "
   ]
  },
  {
   "cell_type": "markdown",
   "metadata": {},
   "source": [
    "### Step 1 - Initialize Configuration Builder & Build the Semantic Kernel Orchestration "
   ]
  },
  {
   "cell_type": "markdown",
   "metadata": {},
   "source": [
    "Execute the next two cells to:\n",
    "* Use the Configuration Builder to load the API secrets.  \n",
    "* Use the API configuration to build the Semantic Kernel orchestrator."
   ]
  },
  {
   "cell_type": "code",
   "execution_count": 9,
   "metadata": {
    "dotnet_interactive": {
     "language": "csharp"
    },
    "polyglot_notebook": {
     "kernelName": "csharp"
    },
    "vscode": {
     "languageId": "polyglot-notebook"
    }
   },
   "outputs": [
    {
     "data": {
      "text/html": [
       "<div><div></div><div></div><div><strong>Installed Packages</strong><ul><li><span>Microsoft.Extensions.Configuration, 9.0.0</span></li><li><span>Microsoft.Extensions.Configuration.Json, 9.0.0</span></li></ul></div></div>"
      ]
     },
     "metadata": {},
     "output_type": "display_data"
    }
   ],
   "source": [
    "// Import the required NuGet configuration packages\n",
    "#r \"nuget: Microsoft.Extensions.Configuration, 9.0.0\"\n",
    "#r \"nuget: Microsoft.Extensions.Configuration.Json, 9.0.0\"\n",
    "\n",
    "using Microsoft.Extensions.Configuration.Json;\n",
    "using Microsoft.Extensions.Configuration;\n",
    "using System.IO;\n",
    "\n",
    "// Load the configuration settings from the local.settings.json and secrets.settings.json files\n",
    "// The secrets.settings.json file is used to store sensitive information such as API keys\n",
    "var configurationBuilder = new ConfigurationBuilder()\n",
    "    .SetBasePath(Directory.GetCurrentDirectory())\n",
    "    .AddJsonFile(\"local.settings.json\", optional: true, reloadOnChange: true)\n",
    "    .AddJsonFile(\"secrets.settings.json\", optional: true, reloadOnChange: true);\n",
    "var config = configurationBuilder.Build();\n",
    "\n",
    "// IMPORTANT: You ONLY NEED either Azure OpenAI or OpenAI connectiopn info, not both.\n",
    "// Azure OpenAI Connection Info\n",
    "var azureOpenAIEndpoint = config[\"AzureOpenAI:Endpoint\"];\n",
    "var azureOpenAIAPIKey = config[\"AzureOpenAI:APIKey\"];\n",
    "var azureOpenAIModelDeploymentName = config[\"AzureOpenAI:ModelDeploymentName\"];\n",
    "// OpenAI Connection Info \n",
    "var openAIAPIKey = config[\"OpenAI:APIKey\"];\n",
    "var openAIModelId = config[\"OpenAI:ModelId\"];"
   ]
  },
  {
   "cell_type": "code",
   "execution_count": 10,
   "metadata": {
    "dotnet_interactive": {
     "language": "csharp"
    },
    "polyglot_notebook": {
     "kernelName": "csharp"
    },
    "vscode": {
     "languageId": "polyglot-notebook"
    }
   },
   "outputs": [
    {
     "data": {
      "text/html": [
       "<div><div></div><div></div><div><strong>Installed Packages</strong><ul><li><span>Microsoft.SemanticKernel, 1.32.0</span></li></ul></div></div>"
      ]
     },
     "metadata": {},
     "output_type": "display_data"
    },
    {
     "name": "stdout",
     "output_type": "stream",
     "text": [
      "Using Azure OpenAI Service\n"
     ]
    }
   ],
   "source": [
    "// Import the Semantic Kernel NuGet package\n",
    "#r \"nuget: Microsoft.SemanticKernel, 1.32.0\"\n",
    "\n",
    "using Microsoft.Extensions.DependencyInjection.Extensions;\n",
    "using Microsoft.Extensions.DependencyInjection;\n",
    "using Microsoft.SemanticKernel;\n",
    "using Microsoft.SemanticKernel.ChatCompletion;\n",
    "using Microsoft.SemanticKernel.Connectors.OpenAI;\n",
    "\n",
    "Kernel semanticKernel;\n",
    "\n",
    "// Set the flag to use Azure OpenAI or OpenAI. False to use OpenAI, True to use Azure OpenAI\n",
    "var useAzureOpenAI = true;\n",
    "\n",
    "// Create a new Semantic Kernel instance\n",
    "if (useAzureOpenAI)\n",
    "{\n",
    "    Console.WriteLine(\"Using Azure OpenAI Service\");\n",
    "    semanticKernel = Kernel.CreateBuilder()\n",
    "        .AddAzureOpenAIChatCompletion(\n",
    "            deploymentName: azureOpenAIModelDeploymentName,\n",
    "            endpoint: azureOpenAIEndpoint,\n",
    "            apiKey: azureOpenAIAPIKey)\n",
    "        .Build();\n",
    "}\n",
    "else\n",
    "{\n",
    "    Console.WriteLine(\"Using OpenAI Service\");\n",
    "    semanticKernel = Kernel.CreateBuilder()\n",
    "        .AddOpenAIChatCompletion(\n",
    "            modelId: openAIModelId,\n",
    "            apiKey: openAIAPIKey)\n",
    "        .Build();\n",
    "}"
   ]
  },
  {
   "cell_type": "markdown",
   "metadata": {},
   "source": [
    "### Step 2 - Execute a Decision Prompt "
   ]
  },
  {
   "cell_type": "markdown",
   "metadata": {},
   "source": [
    "Many LLMs and even SLMs have been trained on knowledge that includes decision frameworks & processes. This makes LLMs great assistants to:\n",
    "* Provide proper Decision Frames\n",
    "* Gather Intelligence (information) in order to make a decision\n",
    "* Recommend Decision Frameworks to make a high-quality decision\n",
    "* Provide feedback to evaluate a Decision\n",
    "\n",
    "Once the Semantic Kernel instance is built, it is ready to intake prompt instructions. In the prompt below, the Semantic Kernel is instructed to provide examples of decision frameworks \"trained into\" the knowledge of the configured AI model.  "
   ]
  },
  {
   "cell_type": "code",
   "execution_count": 12,
   "metadata": {
    "dotnet_interactive": {
     "language": "csharp"
    },
    "polyglot_notebook": {
     "kernelName": "csharp"
    },
    "vscode": {
     "languageId": "polyglot-notebook"
    }
   },
   "outputs": [
    {
     "name": "stdout",
     "output_type": "stream",
     "text": [
      "Here are **five decision-making frameworks** that can enhance the quality of decisions, along with brief descriptions of how each supports better analysis and reasoning:\n",
      "\n",
      "### 1. **The OODA Loop (Observe, Orient, Decide, Act)**  \n",
      "   - **Description**: Originally developed by military strategist John Boyd, this iterative framework involves four steps: observing the situation, orienting around context and information, deciding on an action, and implementing it.  \n",
      "   - **Support**: The OODA Loop encourages decision-makers to continuously reassess situations based on new information, promoting adaptability and rapid responses in dynamic environments, such as business competition or crisis management.\n",
      "\n",
      "---\n",
      "\n",
      "### 2. **Kepner-Tregoe Decision Analysis**  \n",
      "   - **Description**: This framework emphasizes a systematic approach to evaluating options by clarifying objectives, identifying alternatives, and weighing potential risks and impacts.  \n",
      "   - **Support**: It helps decision-makers prioritize alternatives based on logical criteria rather than emotions or biases, making it useful for problem-solving and risk assessment in complex situations.\n",
      "\n",
      "---\n",
      "\n",
      "### 3. **The Eisenhower Matrix (Urgent vs. Important)**  \n",
      "   - **Description**: Tasks or decisions are categorized into four quadrants based on urgency and importance to prioritize actionable items.  \n",
      "   - **Support**: By separating critical tasks from distractions, this framework ensures energy is focused on high-value activities, improving time management and productivity in both personal and professional contexts.\n",
      "\n",
      "---\n",
      "\n",
      "### 4. **SWOT Analysis (Strengths, Weaknesses, Opportunities, Threats)**  \n",
      "   - **Description**: A situational analysis tool that examines internal and external factors influencing a decision or strategy.  \n",
      "   - **Support**: By identifying strengths, weaknesses, opportunities, and threats, this method provides a balanced perspective and helps organizations and individuals uncover strategic priorities, risks, and growth opportunities.\n",
      "\n",
      "---\n",
      "\n",
      "### 5. **The Six Thinking Hats**  \n",
      "   - **Description**: Devised by Edward de Bono, this framework assigns different \"hats\" (perspectives) to decision-making, including logical (White), emotional (Red), creative (Green), process-oriented (Blue), optimistic (Yellow), and cautionary (Black).  \n",
      "   - **Support**: It fosters diversified thinking, encouraging decision-makers to examine a situation from multiple angles and mitigating blind spots, thus enhancing creativity and thoroughness in group decision-making.\n",
      "\n",
      "---\n",
      "\n",
      "Each of these frameworks provides a structured approach to organizing thoughts, reducing biases, and addressing key variables, ultimately leading to better and more reasoned decisions across diverse scenarios.\n"
     ]
    }
   ],
   "source": [
    "// A new prompt to help with decision-making frameworks\n",
    "var simpleDecisionPrompt = \"\"\"\n",
    "Identify and list 5 decision-making frameworks that can enhance the quality of decisions. \n",
    "Briefly describe how each decision-making framework supports better analysis and reasoning in various scenarios.\n",
    "\"\"\";\n",
    "\n",
    "var simplePromptResponse = await semanticKernel.InvokePromptAsync(simpleDecisionPrompt);\n",
    "Console.WriteLine(simplePromptResponse.GetValue<string>());"
   ]
  },
  {
   "cell_type": "markdown",
   "metadata": {},
   "source": [
    "### Step 3 - Execute a Decision Prompt with Streaming"
   ]
  },
  {
   "cell_type": "markdown",
   "metadata": {},
   "source": [
    "Semantic Kernel supports prompt response streaming when invoking the prompt. This allows responses to be streamed to the client as soon as they are made available by the LLM and service. Below the same decision prompt is executed. However, notice that chunks are streamed and can be read by the user as soon as they appear. \n",
    "\n",
    "> Note: An average human can read between 25-40 tokens / second.  "
   ]
  },
  {
   "cell_type": "code",
   "execution_count": 13,
   "metadata": {
    "dotnet_interactive": {
     "language": "csharp"
    },
    "polyglot_notebook": {
     "kernelName": "csharp"
    },
    "vscode": {
     "languageId": "polyglot-notebook"
    }
   },
   "outputs": [
    {
     "name": "stdout",
     "output_type": "stream",
     "text": [
      "Here are 5 decision-making frameworks that can enhance the quality of decisions, along with brief descriptions of how they support better analysis and reasoning:\n",
      "\n",
      "### 1. **Decision Matrix Analysis (Weighted Scoring Model)**\n",
      "   - **Description**: This framework involves creating a matrix to evaluate multiple options against a set of criteria. Each criterion is assigned a weight based on its importance, and options are scored accordingly.\n",
      "   - **How it supports better decisions**: It provides a structured and quantitative way to compare options, ensuring that important factors are prioritized. This method reduces bias and supports well-rounded analysis in scenarios such as choosing between vendors, strategies, or investments.\n",
      "\n",
      "---\n",
      "\n",
      "### 2. **SWOT Analysis**\n",
      "   - **Description**: SWOT stands for Strengths, Weaknesses, Opportunities, and Threats. It is a strategic tool used to evaluate the internal and external factors influencing a decision.\n",
      "   - **How it supports better decisions**: By clearly identifying strengths and opportunities, as well as anticipating weaknesses and threats, decision-makers gain a comprehensive understanding of the landscape, helping them to choose paths that maximize strengths and minimize risks.\n",
      "\n",
      "---\n",
      "\n",
      "### 3. **The OODA Loop (Observe, Orient, Decide, Act)**\n",
      "   - **Description**: This iterative framework is used for rapid decision-making and is particularly useful in dynamic or fast-changing environments. It involves observing the situation, orienting yourself based on available information, making a decision, and acting on it.\n",
      "   - **How it supports better decisions**: Encourages adaptability and continuous feedback, making it ideal for situations that require quick thinking, such as crisis management, competitive business environments, or military operations.\n",
      "\n",
      "---\n",
      "\n",
      "### 4. **Cost-Benefit Analysis (CBA)**\n",
      "   - **Description**: This involves systematic evaluation of the costs and benefits associated with a decision to determine the best course of action.\n",
      "   - **How it supports better decisions**: By quantifying the costs and potential returns, CBA helps decision-makers assess whether the benefits outweigh the risks or investments, making it especially valuable in financial or operational planning scenarios.\n",
      "\n",
      "---\n",
      "\n",
      "### 5. **Six Thinking Hats**\n",
      "   - **Description**: This framework, developed by Edward de Bono, encourages individuals or teams to view decisions from six different perspectives, represented by metaphorical \"hats\": White (facts), Red (emotion), Black (risks), Yellow (benefits), Green (creativity), and Blue (process control).\n",
      "   - **How it supports better decisions**: Promotes holistic thinking by exploring multiple dimensions of a decision. It reduces blind spots and fosters creativity while accounting for logic, emotions, risks, and opportunities, making it useful for brainstorming and complex problem-solving.\n",
      "\n",
      "By applying these frameworks, decision-makers can improve clarity, reduce bias, and systematically explore trade-offs and consequences, thereby enhancing the quality and consistency of their decisions."
     ]
    }
   ],
   "source": [
    "await foreach (var streamChunk in semanticKernel.InvokePromptStreamingAsync(simpleDecisionPrompt))\n",
    "{\n",
    "   Console.Write(streamChunk);\n",
    "}"
   ]
  },
  {
   "cell_type": "markdown",
   "metadata": {},
   "source": [
    "### Step 4 - Execute a Decision Prompt with Improved Output Formatting  "
   ]
  },
  {
   "cell_type": "markdown",
   "metadata": {},
   "source": [
    "Generative AI models have an inherent ability to not only provide decision reasoning analysis, but also format the output in a desired format. This could be as simple as instructing the Generative AI model to format the decision as a single sentence, paragraphs or lists. However more sophisticated output generations can be instructed. For example, the GenAI model can ouput Markdown or even extract information and fill in a desired schema (JSON). Specifically for Decision Intelligence, you can ask the GenAI models to apply decision communication frameworks to the generation as well. \n",
    "\n",
    "Execute the simple decision prompt below with Markdown formatting ouptut. This table can now be rendered in a Markdown document for easy human comprehension. Markdown tables and other formats can be used on web sites, document, programming code etc. Even Generative AI models understand Markdown format, which can not only be used for output but inside input prompts.  "
   ]
  },
  {
   "cell_type": "code",
   "execution_count": 14,
   "metadata": {
    "dotnet_interactive": {
     "language": "csharp"
    },
    "polyglot_notebook": {
     "kernelName": "csharp"
    },
    "vscode": {
     "languageId": "polyglot-notebook"
    }
   },
   "outputs": [
    {
     "name": "stdout",
     "output_type": "stream",
     "text": [
      "| Decision-Making Framework           | Description                                                                                   |\n",
      "|-------------------------------------|-----------------------------------------------------------------------------------------------|\n",
      "| **Rational Decision-Making Model** | A step-by-step process focusing on identifying the problem, gathering data, and evaluating alternatives based on logic, ensuring well-informed and objective decisions. |\n",
      "| **SWOT Analysis**                   | Helps systematically assess Strengths, Weaknesses, Opportunities, and Threats, offering a structured way to evaluate strategic options. |\n",
      "| **Decision Tree Analysis**          | Visualizes choices and their possible outcomes using a tree diagram, aiding in weighing different paths based on probabilities and payoffs. |\n",
      "| **Cost-Benefit Analysis (CBA)**     | Quantifies costs and benefits of alternatives, enabling comparison to identify the option with the highest net benefit.                 |\n",
      "| **OODA Loop (Observe-Orient-Decide-Act)** | A dynamic, iterative model aiding in rapid decision-making by continuously assessing and adapting to changing scenarios.              |"
     ]
    }
   ],
   "source": [
    "// New prompt to help with decision-making frameworks using Markdown formatting.\n",
    "var simpleDecisionPromptWithMarkdownFormat = \"\"\"\n",
    "Identify and list 5 decision-making frameworks that can enhance the quality of decisions. \n",
    "Briefly describe how each decision-making framework supports better analysis and reasoning in various scenarios.\n",
    "\n",
    "Format the response using only a Markdown table. Do not enclose the table in triple backticks.\n",
    "\"\"\";\n",
    "\n",
    "await foreach (var streamChunk in semanticKernel.InvokePromptStreamingAsync(simpleDecisionPromptWithMarkdownFormat))\n",
    "{\n",
    "   Console.Write(streamChunk);\n",
    "}"
   ]
  },
  {
   "cell_type": "markdown",
   "metadata": {},
   "source": [
    "Example formatted Markdown Table output: \n",
    "\n",
    "| Decision-Making Framework           | Description                                                                                   |\n",
    "|-------------------------------------|-----------------------------------------------------------------------------------------------|\n",
    "| **Rational Decision-Making Model** | A step-by-step process focusing on identifying the problem, gathering data, and evaluating alternatives based on logic, ensuring well-informed and objective decisions. |\n",
    "| **SWOT Analysis**                   | Helps systematically assess Strengths, Weaknesses, Opportunities, and Threats, offering a structured way to evaluate strategic options. |\n",
    "| **Decision Tree Analysis**          | Visualizes choices and their possible outcomes using a tree diagram, aiding in weighing different paths based on probabilities and payoffs. |\n",
    "| **Cost-Benefit Analysis (CBA)**     | Quantifies costs and benefits of alternatives, enabling comparison to identify the option with the highest net benefit.                 |\n",
    "| **OODA Loop (Observe-Orient-Decide-Act)** | A dynamic, iterative model aiding in rapid decision-making by continuously assessing and adapting to changing scenarios.              |"
   ]
  },
  {
   "cell_type": "markdown",
   "metadata": {},
   "source": [
    "### Step 5 - Execute a Decision Prompt with a Custom Prompt Execution Configuration"
   ]
  },
  {
   "cell_type": "markdown",
   "metadata": {},
   "source": [
    "Semantic Kernel supports the configuration of prompt execution. The typical OpenAI and Azure OpenAI settings are exposed as configuration options that provide a different prompt experience. Try changing the MaxTokens, Tempature or other settings.\n",
    "\n",
    "> Note: The supported settings are dependendent on the API plus the specific model version. For example, a model paired with an older API may not expose all the configuration settings available. Conversely, a new preview model may not have all the settings available until it becomes generally available.  "
   ]
  },
  {
   "cell_type": "code",
   "execution_count": 15,
   "metadata": {
    "dotnet_interactive": {
     "language": "csharp"
    },
    "polyglot_notebook": {
     "kernelName": "csharp"
    },
    "vscode": {
     "languageId": "polyglot-notebook"
    }
   },
   "outputs": [
    {
     "name": "stdout",
     "output_type": "stream",
     "text": [
      "Here are five decision-making frameworks that can enhance the quality of decisions, along with a brief description of how each supports better analysis and reasoning:\n",
      "\n",
      "1. **The OODA Loop (Observe, Orient, Decide, Act)**  \n",
      "   - **Description**: The OODA Loop is a cyclical framework originally developed for military strategy but widely applicable to decision-making in dynamic environments. It involves observing the situation, orienting by analyzing information and context, deciding on a course of action, and acting on it.  \n",
      "   - **How It Helps**: This framework emphasizes agility and adaptability, enabling decision-makers to respond effectively to rapidly changing circumstances by continuously reassessing and refining their approach.\n",
      "\n",
      "2. **The Eisenhower Matrix (Urgent-Important Matrix)**  \n",
      "   - **Description**: This framework categorizes tasks based on their urgency and importance, dividing them into four quadrants: urgent and important, not urgent but important, urgent but not important, and neither urgent nor important.  \n",
      "   - **How It Helps**: By prioritizing tasks based on their true value and urgency, this framework helps decision-makers focus on what matters most, avoid distractions, and allocate resources effectively.\n",
      "\n",
      "3. **The Six Thinking Hats**  \n",
      "   - **Description**: Developed by Edward de Bono, this framework involves adopting six metaphorical \"hats,\" each representing a different perspective (e.g., logical, emotional, creative, etc.), to analyze a problem comprehensively.  \n",
      "   - **How It Helps**: By encouraging structured exploration of diverse viewpoints, this method reduces bias, fosters creativity, and ensures a well-rounded analysis of the decision at hand.\n",
      "\n",
      "4. **Cost-Benefit Analysis (CBA)**  \n",
      "   - **Description**: CBA involves systematically evaluating the costs and benefits of each potential decision to determine which option provides the greatest net benefit.  \n",
      "   - **How It Helps**: This quantitative approach ensures that decisions are economically sound by weighing the trade-offs and identifying the most efficient use of resources.\n",
      "\n",
      "5. **SWOT Analysis (Strengths, Weaknesses, Opportunities, Threats)**  \n",
      "   - **Description**: SWOT is a strategic planning tool that evaluates internal strengths and weaknesses, as well as external opportunities and threats, to inform decision-making.  \n",
      "   - **How It Helps**: By providing a structured way to assess both internal and external factors, SWOT helps decision-makers identify strategic advantages, mitigate risks, and align actions with organizational goals.\n",
      "\n",
      "Each of these frameworks provides"
     ]
    }
   ],
   "source": [
    "// Create a new OpenAI prompt execution settings object\n",
    "var openAIPromptExecutionSettings = new OpenAIPromptExecutionSettings { \n",
    "    MaxTokens = 500, \n",
    "    Temperature = 0.3, \n",
    "    TopP = 1.0, \n",
    "    FrequencyPenalty = 0.0, \n",
    "    PresencePenalty = 0.0\n",
    "    };\n",
    "\n",
    "KernelArguments kernelArguments = new KernelArguments(openAIPromptExecutionSettings);\n",
    "await foreach (var streamChunk in semanticKernel.InvokePromptStreamingAsync(simpleDecisionPrompt, kernelArguments))\n",
    "{\n",
    "   Console.Write(streamChunk);\n",
    "}"
   ]
  },
  {
   "cell_type": "markdown",
   "metadata": {},
   "source": [
    "### Step 6 - Execute a Decision Prompt with a System Prompt (Custom AI Persona)"
   ]
  },
  {
   "cell_type": "markdown",
   "metadata": {},
   "source": [
    "When building Decison Intelligence prompts, all the typical best practices of prompt engineering apply when using Semantic Kernel.  Such as: \n",
    "* Make the prompt more specific (i.e. decision intelligence)\n",
    "* Add structure to the output with formatting\n",
    "* Provide examples with few-shot prompting\n",
    "* Instruct the AI what to do to avoid doing something else\n",
    "* Provide context (additional information) to the AI\n",
    "* Using Roles in Chat Completion API prompts\n",
    "* Give your AI words of encouragement  \n",
    "\n",
    "A key best practice is to provide a common behavior across all the LLM interactions in a system prompt. This system prompt is passed in on every single call the LLM with Semantic Kernel. By passing the same (or similar) system prompt with every prompt gives your Generative AI system a common persona. This common persona is the foundational building block of building AI agents; where the desired behavior is to have each agent have a unique persona/behavior every time you interact with that agent.\n",
    "\n",
    "Execute the cell below with a dynamic prompt template. Notice the different behavior of the output for decision frameworks. Based on the new system prompt instructions, the decision framework responses are much more robust with decision intelligence information."
   ]
  },
  {
   "cell_type": "code",
   "execution_count": 16,
   "metadata": {
    "dotnet_interactive": {
     "language": "csharp"
    },
    "polyglot_notebook": {
     "kernelName": "csharp"
    },
    "vscode": {
     "languageId": "polyglot-notebook"
    }
   },
   "outputs": [
    {
     "name": "stdout",
     "output_type": "stream",
     "text": [
      "PROMPT TO SEND TO THE CHAT COMPLETION SERVICE...\n",
      "\n",
      "System Prompt: \n",
      "You are a Decision Intelligence Assistant. \n",
      "Assist the user in exploring options, reasoning through decisions, problem-solving.\n",
      "Apply systems thinking to various scenarios. \n",
      "Provide structured, logical, and comprehensive decision advice.\n",
      "\n",
      "Request from the user: \n",
      "Recommend the top 5 decision frameworks that can be used for daily situations to make various decisions.\n",
      "These frameworks should be very easy to understand and apply to various scenarios.\n",
      "\n",
      "----------------------------------------\n",
      "\n",
      "RESPONSE FROM THE CHAT COMPLETION SERVICE...\n",
      "\n",
      "Here are five simple and versatile decision-making frameworks that can be applied to a wide range of daily situations. These frameworks are easy to understand, practical, and adaptable to different contexts:\n",
      "\n",
      "---\n",
      "\n",
      "### **1. The Eisenhower Matrix (Urgent-Important Matrix)**  \n",
      "**Best for:** Prioritizing tasks and managing time effectively.  \n",
      "\n",
      "#### **How it works:**\n",
      "- Divide tasks into four quadrants based on urgency and importance:\n",
      "  1. **Urgent & Important:** Do it immediately.\n",
      "  2. **Important but Not Urgent:** Schedule it for later.\n",
      "  3. **Urgent but Not Important:** Delegate it to someone else.\n",
      "  4. **Neither Urgent nor Important:** Eliminate it.\n",
      "\n",
      "#### **Example:**\n",
      "- Deciding whether to respond to an email immediately or focus on preparing for an important meeting.\n",
      "\n",
      "#### **Why it’s useful:**\n",
      "- Helps you focus on what truly matters and avoid wasting time on distractions.\n",
      "\n",
      "---\n",
      "\n",
      "### **2. The 80/20 Rule (Pareto Principle)**  \n",
      "**Best for:** Identifying the most impactful actions or choices.  \n",
      "\n",
      "#### **How it works:**\n",
      "- Recognize that 80% of outcomes often come from 20% of efforts.\n",
      "- Focus on the small number of tasks, decisions, or actions that yield the greatest results.\n",
      "\n",
      "#### **Example:**\n",
      "- Deciding which 2 out of 10 errands to prioritize because they will save the most time or money.\n",
      "\n",
      "#### **Why it’s useful:**\n",
      "- Encourages efficiency by focusing on high-impact activities.\n",
      "\n",
      "---\n",
      "\n",
      "### **3. The 10/10/10 Rule**  \n",
      "**Best for:** Evaluating the long-term consequences of decisions.  \n",
      "\n",
      "#### **How it works:**\n",
      "- Ask yourself:\n",
      "  1. How will I feel about this decision in **10 minutes**?\n",
      "  2. How will I feel about it in **10 months**?\n",
      "  3. How will I feel about it in **10 years**?\n",
      "\n",
      "#### **Example:**\n",
      "- Deciding whether to stay up late watching TV or go to bed early for a productive morning.\n",
      "\n",
      "#### **Why it’s useful:**\n",
      "- Encourages thinking beyond immediate gratification and considering long-term impacts.\n",
      "\n",
      "---\n",
      "\n",
      "### **4. The OODA Loop (Observe, Orient, Decide, Act)**  \n",
      "**Best for:** Making quick, iterative decisions in dynamic situations.  \n",
      "\n",
      "#### **How it works:**\n",
      "1. **Observe:** Gather information"
     ]
    }
   ],
   "source": [
    "// Create a system prompt instruction to override the default system prompt\n",
    "// Add the System Prompt (Persona) to behave like a decision intelligence assistant\n",
    "var systemPromptForDecisions = \"\"\"\n",
    "You are a Decision Intelligence Assistant. \n",
    "Assist the user in exploring options, reasoning through decisions, problem-solving.\n",
    "Apply systems thinking to various scenarios. \n",
    "Provide structured, logical, and comprehensive decision advice.\n",
    "\"\"\";\n",
    "var simpleDecisionPrompt = \"\"\"\n",
    "Recommend the top 5 decision frameworks that can be used for daily situations to make various decisions.\n",
    "These frameworks should be very easy to understand and apply to various scenarios.\n",
    "\"\"\";\n",
    "\n",
    "// How the prompt looks like to the LLM\n",
    "var simpleDecisionPromptTemplate = $\"\"\"\n",
    "System Prompt: \n",
    "{systemPromptForDecisions}\n",
    "\n",
    "Request from the user: \n",
    "{simpleDecisionPrompt}\n",
    "\"\"\";\n",
    "\n",
    "// Create a new OpenAI prompt execution settings object\n",
    "var openAIPromptExecutionSettings = new OpenAIPromptExecutionSettings { \n",
    "    ChatSystemPrompt = systemPromptForDecisions,\n",
    "    MaxTokens = 500, \n",
    "    Temperature = 0.3, \n",
    "    TopP = 1.0, \n",
    "    FrequencyPenalty = 0.0, \n",
    "    PresencePenalty = 0.0\n",
    "    };\n",
    "KernelArguments kernelArguments = new KernelArguments(openAIPromptExecutionSettings);\n",
    "\n",
    "Console.WriteLine(\"PROMPT TO SEND TO THE CHAT COMPLETION SERVICE...\");\n",
    "Console.WriteLine(string.Empty);\n",
    "Console.WriteLine(simpleDecisionPromptTemplate);\n",
    "Console.WriteLine(string.Empty);\n",
    "Console.WriteLine(\"----------------------------------------\");\n",
    "Console.WriteLine(string.Empty);\n",
    "Console.WriteLine(\"RESPONSE FROM THE CHAT COMPLETION SERVICE...\");\n",
    "Console.WriteLine(string.Empty);\n",
    "\n",
    "await foreach (var streamChunk in semanticKernel.InvokePromptStreamingAsync(simpleDecisionPrompt, kernelArguments))\n",
    "{\n",
    "   Console.Write(streamChunk);\n",
    "}"
   ]
  },
  {
   "cell_type": "markdown",
   "metadata": {},
   "source": [
    "### Step 7 - Execute a Decision Scenario with a System Prompt (Custom AI Persona)"
   ]
  },
  {
   "cell_type": "markdown",
   "metadata": {},
   "source": [
    "In this step a scenario will be introduced requiring analysis and a recommendation performed by Artificial Intelligence. The full Decision Intelligence framework will not be used, rather a simple request for Artificial Intelligene to recommend a path forward (decision recommedation) for the human user to ultimately make the final decision.  \n",
    "\n",
    "**Decision Scenario:** Your high school daughter Alex is deciding whether to enroll directly in a four-year university or start at a community college to earn an associate degree first. These are the main decision factors: financial, career uncertainty, academic consistency and future impact. You have all the decision factor details available to pass to the GenAI model prompt. You are looking for an impartial (non-family) recommendation. Can Artificial Intelligence help Alex decide? \n",
    "\n",
    "<img style=\"display: block; margin: auto;\" width =\"700px\" src=\"https://raw.githubusercontent.com/bartczernicki/DecisionIntelligence.GenAI.Workshop/main/Images/Scenarios/Scenario-SimpleDecision-College.png\">"
   ]
  },
  {
   "cell_type": "code",
   "execution_count": 3,
   "metadata": {
    "dotnet_interactive": {
     "language": "csharp"
    },
    "polyglot_notebook": {
     "kernelName": "csharp"
    },
    "vscode": {
     "languageId": "polyglot-notebook"
    }
   },
   "outputs": [
    {
     "name": "stdout",
     "output_type": "stream",
     "text": [
      "Here is a structured recommendation for Alex based on the decision factors provided:\n",
      "\n",
      "| **Decision Factor**           | **Four-Year University**                                                                 | **Community College**                                                                                  | **Analysis**                                                                                                                                                                                                                  |\n",
      "|--------------------------------|-----------------------------------------------------------------------------------------|--------------------------------------------------------------------------------------------------------|------------------------------------------------------------------------------------------------------------------------------------------------------------------------------------------------------------------------------|\n",
      "| **Financial Considerations**  | High cost ($50,000-$60,000/year). Family can afford it with loans, but cost is a medium concern.               | Low cost ($3,000-$5,000/year). Significant savings upfront, but transferring may incur additional costs later. | Community college offers a more cost-effective option, especially since Alex is uncertain about her major. This could reduce financial pressure and potential debt if she decides to switch majors or extend her education timeline. |\n",
      "| **Career and Major Uncertainty** | Allows Alex to explore majors but at a higher financial risk if she switches and extends her time in school. | Provides a low-cost way to explore fields of interest before committing to a major at a four-year school. | Since Alex is unsure about her major, starting at a community college allows her to explore options without the financial burden of a four-year university. This flexibility can prevent costly delays if she changes her mind.   |\n",
      "| **Academic Consistency and Networking** | Early access to professors, internships, and campus groups. Stronger continuity in academic and social life. | Delayed access to university-level networking, but she can still build connections after transferring. | While starting at a four-year university offers earlier networking opportunities, Alex can still build a professional network after transferring. The trade-off is manageable, especially given her medium concern about social aspects. |\n",
      "| **Future Impact**             | Higher debt, but potentially stronger professional network and earlier access to career resources.             | Lower debt, but requires adjustment to a new campus and curriculum upon transferring.                   | Starting at community college minimizes debt, which aligns with Alex’s concern about long-term financial stability. Transferring later may require adjustment, but the financial savings and flexibility outweigh this drawback.       |\n",
      "\n",
      "### **Recommendation: Start at a Community College**\n",
      "Based on the analysis, Alex should begin her academic journey at a local community college. This option provides her with the financial flexibility to explore her interests without the immediate pressure of high tuition costs. It also allows her to make a more informed decision about her major before transferring to a four-year university, reducing the risk of incurring additional expenses and time delays. While she may need to adjust to a new campus later, the long-term benefits of reduced debt and greater clarity in her academic and career goals outweigh the drawbacks."
     ]
    }
   ],
   "source": [
    "// Create a system prompt instruction to override the default system prompt\n",
    "// Add the System Prompt (Persona) to behave like a decision intelligence assistant\n",
    "var systemPromptForDecisions = \"\"\"\n",
    "You are a Decision Intelligence Assistant. \n",
    "Assist the user in exploring options, reasoning through decisions, problem-solving.\n",
    "Apply systems thinking to various scenarios. \n",
    "Provide structured, logical, and comprehensive decision advice.\n",
    "\"\"\";\n",
    "// Provide a description of the decision scenario and the desired output \n",
    "// Provide detailed decision scenario considerations and information about Alex (the decision-maker) \n",
    "var scenarioDecisionPrompt = \"\"\"\n",
    "Imagine you Are advising a daughter named Alex who is deciding whether to enroll directly in a well-regarded four-year \n",
    "university or start at a community college to earn an associate degree first. \n",
    "\n",
    "Make a single recommendation based on the following decision factor details. \n",
    "Output the recommedation in a Markdown table format. \n",
    "\n",
    "Financial Considerations:\n",
    "A four-year university will cost significantly more in tuition, housing, and related expenses \n",
    "(estimated $50,000-$60,000 per year). A two-year associate program at a local community college could \n",
    "save substantial money (estimated $3,000-$5,000 per year), but Alex may have to transfer to a \n",
    "four-year institution later to complete a bachelor's degree. The family can afford the four-year university, \n",
    "with some loans, but the cost is only a medium concern. \n",
    "\n",
    "Career and Major Uncertainty:\n",
    "Alex is not entirely sure what she wants to major in. She is torn between business, psychology, and \n",
    "possibly something in the arts. She worries that if she starts at the four-year university, \n",
    "she might switch majors and incur extra time and cost. On the other hand, \n",
    "community college might give her space to explore options, \n",
    "but transferring could mean adjusting to a new campus and curriculum midway through.\n",
    "\n",
    "Academic Consistency and Networking:\n",
    "Going straight to the four-year university would allow Alex to forge early relationships with professors, \n",
    "join campus groups, and potentially secure internships or research opportunities. Starting at community college might \n",
    "delay those opportunities, but it could also let her explore different fields at a lower cost. \n",
    "She might miss out on the “full campus” experience early on, but transferring later means she could \n",
    "still build connections, just on a different timeline. Alex is not overly concerned about the social aspect of college.\n",
    "\n",
    "Future Impact:\n",
    "Alex wants a solid professional network and relevant experience when she graduates. She is also concerned \n",
    "about taking on significant student loan debt. The decision affects not only her immediate academic path but \n",
    "also her long-term financial stability and career prospects. Given these factors, provide a reasoned analysis of \n",
    "whether Alex should attend the four-year university right away or begin with an associate degree program at a \n",
    "local community college.\n",
    "\"\"\";\n",
    "\n",
    "// How the prompt looks like to the LLM\n",
    "var scenarioDecisionPromptTemplate = $\"\"\"\n",
    "System Prompt: \n",
    "{systemPromptForDecisions}\n",
    "\n",
    "Request from the user: \n",
    "{scenarioDecisionPrompt}\n",
    "\"\"\";\n",
    "\n",
    "// Create a new OpenAI prompt execution settings object\n",
    "var openAIPromptExecutionSettings = new OpenAIPromptExecutionSettings { \n",
    "    ChatSystemPrompt = systemPromptForDecisions,\n",
    "    MaxTokens = 750, \n",
    "    Temperature = 0.3, \n",
    "    TopP = 1.0, \n",
    "    FrequencyPenalty = 0.0, \n",
    "    PresencePenalty = 0.0\n",
    "    };\n",
    "KernelArguments kernelArguments = new KernelArguments(openAIPromptExecutionSettings);\n",
    "\n",
    "await foreach (var streamChunk in semanticKernel.InvokePromptStreamingAsync(scenarioDecisionPromptTemplate, kernelArguments))\n",
    "{\n",
    "   Console.Write(streamChunk);\n",
    "}"
   ]
  }
 ],
 "metadata": {
  "kernelspec": {
   "display_name": ".NET (C#)",
   "language": "C#",
   "name": ".net-csharp"
  },
  "language_info": {
   "name": "csharp"
  },
  "polyglot_notebook": {
   "kernelInfo": {
    "defaultKernelName": "csharp",
    "items": [
     {
      "aliases": [],
      "name": "csharp"
     }
    ]
   }
  }
 },
 "nbformat": 4,
 "nbformat_minor": 2
}
