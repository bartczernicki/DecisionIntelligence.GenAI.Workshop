{
 "cells": [
  {
   "cell_type": "markdown",
   "metadata": {},
   "source": [
    "<div style=\"display: flex; align-items: center;\">\n",
    "  <img src=\"https://raw.githubusercontent.com/bartczernicki/DecisionIntelligence.GenAI.Workshop/main/Images/DecisionIntelligenceSemanticKernelLogo.png\" width=\"60px\" style=\"margin-right: 10px;\">\n",
    "  <span style=\"font-size: 1.5em; font-weight: bold;\">Semantic Kernel - Chat Completion for Decisions</span>\n",
    "</div>"
   ]
  },
  {
   "cell_type": "markdown",
   "metadata": {},
   "source": [
    "Decision Intelligence applied in this module:  \n",
    "* Listing of various decision-making frameworks and with their descriptions by using Chat Completion  \n",
    "* Decision Scenario: Recommendation of a decision-making framework for specific higher-stakes decisions (purchase of a car)  \n",
    "* Illustrating a domain specific decision-making framework (millitary intelligence)  \n"
   ]
  },
  {
   "cell_type": "markdown",
   "metadata": {},
   "source": [
    "In this module, the Semantic Kernel ability to create a chat experience will be introduced. This is a much richer experience than just sending simple prompts that are stateless and context is forgotten.\n",
    "\n",
    "Semantic Kernel has first-class support for chat scenarios, where the user talks back and forth with the LLM, the arguments get populated with the history of the conversation. During each new run of the kernel, the arguments will be provided to the AI with content. This allows the LLM to know the historical context of the conversation."
   ]
  },
  {
   "cell_type": "markdown",
   "metadata": {},
   "source": [
    "----\n",
    "### Step 1 - Initialize Configuration Builder & Build the Semantic Kernel Orchestration"
   ]
  },
  {
   "cell_type": "markdown",
   "metadata": {},
   "source": [
    "Execute the next two cells to:\n",
    "* Use the Configuration Builder to load the API secrets.  \n",
    "* Use the API configuration to build the Semantic Kernel orchestrator."
   ]
  },
  {
   "cell_type": "code",
   "execution_count": 1,
   "metadata": {
    "dotnet_interactive": {
     "language": "csharp"
    },
    "polyglot_notebook": {
     "kernelName": "csharp"
    }
   },
   "outputs": [
    {
     "data": {
      "text/html": [
       "<div><div></div><div></div><div><strong>Installed Packages</strong><ul><li><span>Microsoft.Extensions.Configuration, 9.0.6</span></li><li><span>Microsoft.Extensions.Configuration.Json, 9.0.6</span></li></ul></div></div>"
      ]
     },
     "metadata": {},
     "output_type": "display_data"
    }
   ],
   "source": [
    "// Import the required NuGet configuration packages\n",
    "#r \"nuget: Microsoft.Extensions.Configuration, 9.0.6\"\n",
    "#r \"nuget: Microsoft.Extensions.Configuration.Json, 9.0.6\"\n",
    "\n",
    "using Microsoft.Extensions.Configuration.Json;\n",
    "using Microsoft.Extensions.Configuration;\n",
    "using System.IO;\n",
    "\n",
    "// Load the configuration settings from the local.settings.json and secrets.settings.json files\n",
    "// The secrets.settings.json file is used to store sensitive information such as API keys\n",
    "var configurationBuilder = new ConfigurationBuilder()\n",
    "    .SetBasePath(Directory.GetCurrentDirectory())\n",
    "    .AddJsonFile(\"local.settings.json\", optional: true, reloadOnChange: true)\n",
    "    .AddJsonFile(\"secrets.settings.json\", optional: true, reloadOnChange: true);\n",
    "var config = configurationBuilder.Build();\n",
    "\n",
    "// IMPORTANT: You ONLY NEED either Azure OpenAI or OpenAI connectiopn info, not both.\n",
    "// Azure OpenAI Connection Info\n",
    "var azureOpenAIEndpoint = config[\"AzureOpenAI:Endpoint\"];\n",
    "var azureOpenAIAPIKey = config[\"AzureOpenAI:APIKey\"];\n",
    "var azureOpenAIModelDeploymentName = config[\"AzureOpenAI:ModelDeploymentName\"];\n",
    "// OpenAI Connection Info \n",
    "var openAIAPIKey = config[\"OpenAI:APIKey\"];\n",
    "var openAIModelId = config[\"OpenAI:ModelId\"];"
   ]
  },
  {
   "cell_type": "code",
   "execution_count": 2,
   "metadata": {
    "dotnet_interactive": {
     "language": "csharp"
    },
    "polyglot_notebook": {
     "kernelName": "csharp"
    }
   },
   "outputs": [
    {
     "data": {
      "text/html": [
       "<div><div></div><div></div><div><strong>Installed Packages</strong><ul><li><span>Microsoft.Extensions.DependencyInjection, 9.0.6</span></li><li><span>Microsoft.SemanticKernel, 1.60.0</span></li></ul></div></div>"
      ]
     },
     "metadata": {},
     "output_type": "display_data"
    },
    {
     "name": "stdout",
     "output_type": "stream",
     "text": [
      "Using Azure OpenAI Service\n"
     ]
    }
   ],
   "source": [
    "// Install the required NuGet packages\n",
    "// Note: This also installs the Dependency Injection Package to retrieve the ChatCompletionService\n",
    "#r \"nuget: Microsoft.Extensions.DependencyInjection, 9.0.6\"\n",
    "#r \"nuget: Microsoft.SemanticKernel, 1.60.0\"\n",
    "\n",
    "using Microsoft.Extensions.DependencyInjection.Extensions;\n",
    "using Microsoft.Extensions.DependencyInjection;\n",
    "using Microsoft.SemanticKernel;\n",
    "using Microsoft.SemanticKernel.ChatCompletion;\n",
    "using Microsoft.SemanticKernel.Connectors.OpenAI;\n",
    "\n",
    "Kernel semanticKernel;\n",
    "\n",
    "// Set the flag to use Azure OpenAI or OpenAI. False to use OpenAI, True to use Azure OpenAI\n",
    "var useAzureOpenAI = true;\n",
    "\n",
    "// Create a new Semantic Kernel instance\n",
    "if (useAzureOpenAI)\n",
    "{\n",
    "    Console.WriteLine(\"Using Azure OpenAI Service\");\n",
    "    semanticKernel = Kernel.CreateBuilder()\n",
    "        .AddAzureOpenAIChatCompletion(\n",
    "            deploymentName: azureOpenAIModelDeploymentName,\n",
    "            endpoint: azureOpenAIEndpoint,\n",
    "            apiKey: azureOpenAIAPIKey)\n",
    "        .Build();\n",
    "}\n",
    "else\n",
    "{\n",
    "    Console.WriteLine(\"Using OpenAI Service\");\n",
    "    semanticKernel = Kernel.CreateBuilder()\n",
    "        .AddOpenAIChatCompletion(\n",
    "            modelId: openAIModelId,\n",
    "            apiKey: openAIAPIKey)\n",
    "        .Build();\n",
    "}\n",
    "\n",
    "var chatCompletionService = semanticKernel.Services.GetRequiredService<IChatCompletionService>();"
   ]
  },
  {
   "cell_type": "markdown",
   "metadata": {},
   "source": [
    "### Step 2 - Execute Decision Chat Completion with Prompt Execution Settings "
   ]
  },
  {
   "cell_type": "markdown",
   "metadata": {},
   "source": [
    "> 📜 **_\"If you can’t describe what you are doing as a process, you don’t know what you’re doing.\"_** \n",
    ">\n",
    "> -- <cite>W. Edwards Deming (renowned American engineer, statistician, and management consultant)</cite>  \n",
    "\n",
    "\n",
    "Using the Semantic Kernel ChatCompletion service is very similar to inovoking a prompt for basic LLM interactions. The chat completion service will provide very similar results to invoking the prompt directly."
   ]
  },
  {
   "cell_type": "code",
   "execution_count": 3,
   "metadata": {
    "dotnet_interactive": {
     "language": "csharp"
    },
    "polyglot_notebook": {
     "kernelName": "csharp"
    }
   },
   "outputs": [
    {
     "data": {
      "text/markdown": [
       "### 1. SWOT Analysis\n",
       "\n",
       "SWOT stands for Strengths, Weaknesses, Opportunities, and Threats. This framework helps individuals or organizations evaluate internal and external factors that can impact a decision, leading to a more comprehensive understanding of the situation.\n",
       "\n",
       "  \n",
       "\n",
       "### 2. Decision Matrix (Weighted Scoring Model)\n",
       "\n",
       "A decision matrix allows you to compare multiple options against a set of criteria. Each criterion is weighted based on importance, and each option is scored, making it easier to identify the best choice objectively.\n",
       "\n",
       "  \n",
       "\n",
       "### 3. Cost-Benefit Analysis\n",
       "\n",
       "This framework involves listing and quantifying all the costs and benefits associated with each option. By comparing the total expected costs against the total expected benefits, decision-makers can determine which option offers the greatest net benefit.\n",
       "\n",
       "  \n",
       "\n",
       "### 4. OODA Loop\n",
       "\n",
       "OODA stands for Observe, Orient, Decide, and Act. This iterative framework is especially useful in fast-changing environments, encouraging continuous assessment and adaptation throughout the decision-making process.\n",
       "\n",
       "  \n",
       "\n",
       "### 5. Six Thinking Hats\n",
       "\n",
       "Developed by Edward de Bono, this framework encourages looking at a decision from six different perspectives (logic, emotion, caution, optimism, creativity, and process), helping to uncover blind spots and improve the overall quality of decisions."
      ]
     },
     "metadata": {},
     "output_type": "display_data"
    }
   ],
   "source": [
    "// Simple prompt to list some decision frameworks this GenAI LLM is familiar with \n",
    "// LLMs are trained on a diverse range of data and can provide insights on a wide range of topics like decision frameworks\n",
    "// SLMS (smaller LLMs) are trained on a more specific range of data and may not provide insights on all topics\n",
    "var simpleDecisionPrompt = \"\"\"\n",
    "Provide a list of 5 decision frameworks that can help improve the quality of decisions.\n",
    "\n",
    "Output Format Instructions:\n",
    "When generating Markdown, do not use any headings higher than ###. \n",
    "Avoid # and ## headers. Use only ###, ####, or lower-level headings if necessary. \n",
    "All top-level section headers should start at ### or lower. \n",
    "Never use ---, ***, or ___ for horizontal lines. There should be no horizontal lines in the output.\n",
    "For separation, use extra extra spacing. Do not any render horizontal lines.\n",
    "\"\"\";\n",
    "\n",
    "// Create a new OpenAI prompt execution settings object\n",
    "var openAIPromptExecutionSettings = new OpenAIPromptExecutionSettings { \n",
    "    MaxTokens = 1000, \n",
    "    Temperature = 0.1, \n",
    "    TopP = 1.0, \n",
    "    FrequencyPenalty = 0.0, \n",
    "    PresencePenalty = 0.0\n",
    "    };\n",
    "\n",
    "// Execute the chat completion request using the prompt and settings defined above\n",
    "var chatResult = await chatCompletionService.GetChatMessageContentAsync(simpleDecisionPrompt, openAIPromptExecutionSettings);\n",
    "\n",
    "// Display the result of the chat completion request as Markdown\n",
    "chatResult.Content.DisplayAs(\"text/markdown\");"
   ]
  },
  {
   "cell_type": "markdown",
   "metadata": {},
   "source": [
    "----\n",
    "### Step 3 - Execute Decision Chat Completion with Streaming "
   ]
  },
  {
   "cell_type": "markdown",
   "metadata": {},
   "source": [
    "Semantic Kernel supports prompt response streaming in the ChatCompletionService. This allows responses to be streamed to the client as soon as they are made available by the LLM and API services. Below the same decision prompt is executed. However, notice that chunks are streamed and can be read by the user as soon as they appear. "
   ]
  },
  {
   "cell_type": "code",
   "execution_count": 4,
   "metadata": {
    "dotnet_interactive": {
     "language": "csharp"
    },
    "polyglot_notebook": {
     "kernelName": "csharp"
    }
   },
   "outputs": [
    {
     "name": "stdout",
     "output_type": "stream",
     "text": [
      "### 1. SWOT Analysis\n",
      "\n",
      "SWOT stands for Strengths, Weaknesses, Opportunities, and Threats. This framework helps individuals or organizations evaluate internal and external factors that can impact a decision, leading to a more comprehensive understanding of the situation.\n",
      "\n",
      "\n",
      "\n",
      "### 2. Decision Matrix (Weighted Scoring Model)\n",
      "\n",
      "A decision matrix allows you to compare multiple options against a set of criteria. Each criterion is weighted based on importance, and each option is scored, helping to objectively identify the best choice.\n",
      "\n",
      "\n",
      "\n",
      "### 3. Cost-Benefit Analysis\n",
      "\n",
      "This framework involves listing all the costs and benefits associated with each option. By quantifying and comparing these, decision-makers can determine which option provides the greatest net benefit.\n",
      "\n",
      "\n",
      "\n",
      "### 4. The OODA Loop\n",
      "\n",
      "OODA stands for Observe, Orient, Decide, and Act. Originally developed for military strategy, this iterative framework helps individuals and teams make quick, adaptive decisions in dynamic environments.\n",
      "\n",
      "\n",
      "\n",
      "### 5. Six Thinking Hats\n",
      "\n",
      "Developed by Edward de Bono, this framework encourages decision-makers to look at a problem from six different perspectives (hats): logical, emotional, creative, positive, negative, and process-oriented. This helps ensure a well-rounded evaluation before making a decision."
     ]
    }
   ],
   "source": [
    "// Stream the chat completion response\n",
    "await foreach (var content in chatCompletionService.GetStreamingChatMessageContentsAsync(simpleDecisionPrompt, openAIPromptExecutionSettings))\n",
    "{\n",
    "    Console.Write(content);\n",
    "}"
   ]
  },
  {
   "cell_type": "markdown",
   "metadata": {},
   "source": [
    "----\n",
    "### Step 4 - Execute Decision Chat Completion with a System Prompt & Chat History "
   ]
  },
  {
   "cell_type": "markdown",
   "metadata": {},
   "source": [
    "Semantic Kernel has a ChatHistory object that can be used with the ChatCompletionService to provide historical chat context to the LLM. Notice that the ChatHistory object differentiates between the different types of chat messages:\n",
    "* System Message - System or MetaPrompt. These are usually global instructions that set the \"overall rules\" for interacting with the LLMs.\n",
    "* User Message - A message from the user\n",
    "* Assistant Message - A message from the LLM. This is a message generated from an assistant or an agent. \n",
    "\n",
    "Identifying the messages from which role (user) it came from can help the LLM improve its own reasoning responses. This is a more sophisticated approach than passing chat history in a long dynamic string. ChatHistory objects can be serialized and persisted into databases as well."
   ]
  },
  {
   "cell_type": "code",
   "execution_count": 5,
   "metadata": {
    "dotnet_interactive": {
     "language": "csharp"
    },
    "polyglot_notebook": {
     "kernelName": "csharp"
    }
   },
   "outputs": [
    {
     "data": {
      "text/markdown": [
       "### 1. Pros and Cons Analysis\n",
       "\n",
       "**Overview:**  \n",
       "Making a list of positive and negative aspects of each option.\n",
       "\n",
       "**How It Helps:**  \n",
       "- Clarifies trade-offs and consequences  \n",
       "- Makes implicit biases explicit  \n",
       "- Supports prioritization and transparent evaluation\n",
       "\n",
       "**Steps:**  \n",
       "1. Define the decision clearly.  \n",
       "2. List the pros of each option.  \n",
       "3. List the cons of each option.  \n",
       "4. Weigh the importance of each factor.  \n",
       "5. Make a balanced decision based on the analysis.\n",
       "\n",
       "  \n",
       "\n",
       "### 2. Cost-Benefit Analysis\n",
       "\n",
       "**Overview:**  \n",
       "Comparing the expected costs and benefits (quantitative or qualitative) of each possible action.\n",
       "\n",
       "**How It Helps:**  \n",
       "- Optimizes resource allocation  \n",
       "- Allows for direct comparison using a common metric  \n",
       "- Supports justification and communication of chosen option\n",
       "\n",
       "**Steps:**  \n",
       "1. Identify all costs and benefits for each option.  \n",
       "2. Quantify costs and benefits where possible.  \n",
       "3. Calculate net value or ratio.  \n",
       "4. Assess risks and uncertainties.  \n",
       "5. Choose the option with the best balance of benefits over costs.\n",
       "\n",
       "  \n",
       "\n",
       "### 3. Six Thinking Hats (Edward de Bono)\n",
       "\n",
       "**Overview:**  \n",
       "A structured framework to look at decisions from multiple perspectives, ensuring holistic thinking.\n",
       "\n",
       "**How It Helps:**  \n",
       "- Reduces groupthink and bias  \n",
       "- Ensures emotional, factual, creative, and critical perspectives are considered\n",
       "\n",
       "**Steps:**  \n",
       "1. White Hat: Focus on data and facts.  \n",
       "2. Red Hat: Explore emotions and feelings.  \n",
       "3. Black Hat: Identify risks, difficulties, and problems.  \n",
       "4. Yellow Hat: Look for value and benefits.  \n",
       "5. Green Hat: Generate creative solutions.  \n",
       "6. Blue Hat: Manage the decision process.\n",
       "\n",
       "  \n",
       "\n",
       "### 4. OODA Loop (Observe, Orient, Decide, Act)\n",
       "\n",
       "**Overview:**  \n",
       "A cycle for rapid, iterative decision-making, especially in fast-changing environments.\n",
       "\n",
       "**How It Helps:**  \n",
       "- Supports adaptation and agility  \n",
       "- Encourages continual learning and improvement\n",
       "\n",
       "**Steps:**  \n",
       "1. Observe: Gather information and data.  \n",
       "2. Orient: Analyze information, set context, and generate insights.  \n",
       "3. Decide: Choose the best course of action.  \n",
       "4. Act: Execute the chosen action and loop back based on results.\n",
       "\n",
       "  \n",
       "\n",
       "### 5. Decision Matrix (Weighted Scoring Model)\n",
       "\n",
       "**Overview:**  \n",
       "A quantitative approach to systematically compare multiple options based on multiple criteria.\n",
       "\n",
       "**How It Helps:**  \n",
       "- Reduces subjectivity  \n",
       "- Clarifies which criteria matter most  \n",
       "- Makes complex decisions more transparent\n",
       "\n",
       "**Steps:**  \n",
       "1. List the decision criteria and options.  \n",
       "2. Assign a weight to each criterion according to importance.  \n",
       "3. Score each option for every criterion.  \n",
       "4. Multiply scores by weights and sum for each option.  \n",
       "5. Select the option with the highest score.\n",
       "\n",
       "  \n",
       "\n",
       "Using one or more of these frameworks can improve the structure, rigor, and clarity of your decision-making processes."
      ]
     },
     "metadata": {},
     "output_type": "display_data"
    }
   ],
   "source": [
    "// Set the overall system prompt to behave like a decision intelligence assistant (persona)\n",
    "var systemPrompt = \"\"\"\n",
    "You are a Decision Intelligence assistant. \n",
    "Assist the user in exploring options, reasoning through decisions, problem-solving, and applying systems thinking to various scenarios. \n",
    "Provide structured, logical, and comprehensive advice.\n",
    "\n",
    "Output Format Instructions:\n",
    "When generating Markdown, do not use any headings higher than ###. \n",
    "Avoid # and ## headers. Use only ###, ####, or lower-level headings if necessary. \n",
    "All top-level section headers should start at ### or lower. \n",
    "Never use ---, ***, or ___ for horizontal lines. There should be no horizontal lines in the output.\n",
    "For separation, use extra extra spacing. Do not any render horizontal lines.\n",
    "\"\"\";\n",
    "\n",
    "// Simple instruction prompt to list 5 (five) decision frameworks this GenAI LLM is familiar with\n",
    "var simpleDecisionPrompt = \"\"\"\n",
    "Provide five Decision Frameworks that can help improve the quality of decisions.\n",
    "\"\"\";\n",
    "\n",
    "// Create a new chat history object with proper system and user message roles\n",
    "var chatHistory = new ChatHistory();\n",
    "chatHistory.AddSystemMessage(systemPrompt);\n",
    "chatHistory.AddUserMessage(simpleDecisionPrompt);\n",
    "\n",
    "// Note: The chat completion service can also be used with a chat history object, which allows for a more conversational context.\n",
    "var chatResponse = string.Empty;\n",
    "\n",
    "// Render Markdown or stream the chat completion response\n",
    "var renderMarkdown = true;\n",
    "if (renderMarkdown)\n",
    "{\n",
    "    // Get the chat completion response as a single content object\n",
    "    var chatContent = await chatCompletionService.GetChatMessageContentAsync(chatHistory);\n",
    "    chatResponse = chatContent.Content;\n",
    "    chatResponse.DisplayAs(\"text/markdown\");\n",
    "}\n",
    "else\n",
    "{\n",
    "    // Stream the chat completion response\n",
    "    await foreach (var content in chatCompletionService.GetStreamingChatMessageContentsAsync(chatHistory))\n",
    "    {\n",
    "        chatResponse += content;\n",
    "        Console.Write(content);\n",
    "    }\n",
    "}\n",
    "\n",
    "// Add the assistant's response to the chat history\n",
    "chatHistory.AddAssistantMessage(chatResponse);"
   ]
  },
  {
   "cell_type": "markdown",
   "metadata": {},
   "source": [
    "In the next step, an additional prompt instruction will be added to the chat history. From the 5 decision frameworks provided in the chat history, Generative AI is asked to recommed a framework best suited for the militaty intelligence community. Notice that the previous chat history is automatically provided to provide additional intelligence context. \n",
    "\n",
    "> 📜 **_\"Take time to deliberate, but when the time for action comes, stop thinking and go in.\"_**\n",
    ">\n",
    "> -- <cite>Napoleon Bornaparte (French Emporer and brilliant military mind)</cite>  "
   ]
  },
  {
   "cell_type": "code",
   "execution_count": 6,
   "metadata": {
    "dotnet_interactive": {
     "language": "csharp"
    },
    "polyglot_notebook": {
     "kernelName": "csharp"
    }
   },
   "outputs": [
    {
     "data": {
      "text/markdown": [
       "### Step-by-Step Reasoning\n",
       "\n",
       "#### 1. Understanding Military Intelligence Decision Needs\n",
       "\n",
       "- **Nature of Decisions:** The military intelligence community routinely faces situations that are high-stakes, time-sensitive, and rapidly evolving.\n",
       "- **Key Requirements:**  \n",
       "  - Rapid information assimilation  \n",
       "  - Adaptation to changing circumstances  \n",
       "  - Timely decision cycles  \n",
       "  - Iterative feedback and adjustment  \n",
       "  - Managing incomplete or ambiguous data\n",
       "\n",
       "#### 2. Evaluating Each Framework\n",
       "\n",
       "**Pros and Cons Analysis:**  \n",
       "- Good for weighing options, but less suited for high-speed, dynamic environments where continual reassessment is needed.\n",
       "\n",
       "**Cost-Benefit Analysis:**  \n",
       "- Useful for longer-term or resource allocation decisions, but not optimized for the rapid tempo and uncertainty typical in military intelligence.\n",
       "\n",
       "**Six Thinking Hats:**  \n",
       "- Encourages holistic analysis and team perspectives, but can be too slow and deliberative in time-critical scenarios.\n",
       "\n",
       "**OODA Loop (Observe, Orient, Decide, Act):**  \n",
       "- Designed for fast, flexible, and iterative decision-making.  \n",
       "- Developed by military strategist John Boyd specifically to help with rapid adaptation and competitive advantage in conflict situations.  \n",
       "- Emphasizes continuous learning, adaptation, and action based on evolving intelligence.  \n",
       "- Matches the military’s need for agility, feedback loops, and responding to fluid adversary actions.\n",
       "\n",
       "**Decision Matrix (Weighted Scoring Model):**  \n",
       "- Great for structured, high-consensus environments with stable criteria; less suited for real-time shifts and ambiguity.\n",
       "\n",
       "#### 3. Conclusion\n",
       "\n",
       "- **Most frameworks are valuable, but the military intelligence community above all requires adaptability, speed, and the ability to act under uncertainty and ambiguity.**\n",
       "- The OODA Loop stands out as specifically designed for these contexts and is widely used in military strategy.\n",
       "\n",
       "### Best-Suited Framework\n",
       "\n",
       "**OODA Loop (Observe, Orient, Decide, Act)**  \n",
       "- It best addresses the unique, high-tempo, and adaptive decision-making needs that define the military intelligence community."
      ]
     },
     "metadata": {},
     "output_type": "display_data"
    }
   ],
   "source": [
    "// Note: No reference is made to what previous frameworks were listed.\n",
    "// Note: Previous context is maintained by the Semantic Kernel ChatHistory object \n",
    "var simpleDecisionPromptFollowupQuestionPartTwo = \"\"\"\n",
    "Which of the 5 decision frameworks listed above is best suited for the military intelligence community?  \n",
    "Think carefully step by step about what decision frameworks are needed to answer the query.  \n",
    "Select only the single best framework. \n",
    "\"\"\";\n",
    "\n",
    "// Add User message to the chat history\n",
    "chatHistory.AddUserMessage(simpleDecisionPromptFollowupQuestionPartTwo);\n",
    "\n",
    "// Render Markdown or stream the chat completion response\n",
    "var renderMarkdown = true;\n",
    "if (renderMarkdown)\n",
    "{\n",
    "    // Get the chat completion response as a single content object\n",
    "    var chatContent = await chatCompletionService.GetChatMessageContentAsync(chatHistory);\n",
    "    chatResponse = chatContent.Content;\n",
    "    chatResponse.DisplayAs(\"text/markdown\");\n",
    "}\n",
    "else\n",
    "{\n",
    "    // Stream the chat completion response\n",
    "    await foreach (var content in chatCompletionService.GetStreamingChatMessageContentsAsync(chatHistory))\n",
    "    {\n",
    "        chatResponse += content;\n",
    "        Console.Write(content);\n",
    "    }\n",
    "}\n",
    "\n",
    "// Add Assistant message to the chat history\n",
    "chatHistory.AddAssistantMessage(chatResponse);"
   ]
  },
  {
   "cell_type": "markdown",
   "metadata": {},
   "source": [
    "### Step 5 - Execute Decision Chat Completion with a Multi-Turn Conversation Scenario "
   ]
  },
  {
   "cell_type": "markdown",
   "metadata": {},
   "source": [
    "> 📜 **_\"Price is what you pay. Value is what you get.\"_**  \n",
    ">\n",
    "> -- <cite>Warren Buffet (one of the most successful investors of all time)</cite>  "
   ]
  },
  {
   "cell_type": "markdown",
   "metadata": {},
   "source": [
    "Semantic Kernel can maintain state with the ChatHistory object. This allows natural converation between the user and AI to be persisted for future use. It can be saved for future reference, it can be replayed, it can be forked in certain spots to try different scenarios, it can be used as a starting point for other conversations etc. \n",
    "\n",
    "In the scenario below, let's build a multi-turn conversation about a decision over a purchase for a fitness tracker. Notice that each turn the appropriate Chat History roles are populated with the appropriate prompts and assistant (AI) responses. This in effect acts as the Gathering Intelligence step of the Decision Intelligence framework as the conversation information has been persisted and can be re-used as context for the decision scenario."
   ]
  },
  {
   "cell_type": "code",
   "execution_count": 7,
   "metadata": {
    "dotnet_interactive": {
     "language": "csharp"
    },
    "polyglot_notebook": {
     "kernelName": "csharp"
    }
   },
   "outputs": [],
   "source": [
    "// Set the overall system prompt to behave like a decision intelligence assistant (persona)\n",
    "var systemPromptDecisionConversation = \"\"\"\n",
    "You are a Decision Intelligence assistant. \n",
    "Assist the user in exploring options, reasoning through decisions, problem-solving, and applying systems thinking to various scenarios. \n",
    "Provide structured, logical, and comprehensive advice.\n",
    "\"\"\";\n",
    "\n",
    "// User prompt to start a decision conversation about buying a fitness tracker\n",
    "var userPromptDecisionConversationTurn1 = \"\"\"\n",
    "I am considering buying a fitness tracker but I am not sure which features really matter. \n",
    "Could you explain the main considerations? \n",
    "\"\"\";\n",
    "\n",
    "var assistantResponseDecisionConversationTurn1 = \"\"\"\n",
    "Absolutely! Key considerations for choosing a fitness tracker often include: \n",
    "- Fitness Features (e.g., step counting, heart-rate monitoring, workout tracking)\n",
    "- Health Monitoring (like sleep tracking or advanced ECG capabilities)\n",
    "- Battery Life\n",
    "- Comfort and Fit\n",
    "- Compatibility with your smartphone's operating system\n",
    "- Price Range\n",
    "- Knowing which of these you value most will help narrow down your options.\n",
    "\"\"\";\n",
    "\n",
    "var userPromptDecisionConversationTurn2 = \"\"\"\n",
    "Got it. Battery life and sleep tracking are both important to me. \n",
    "What's a typical battery life range for trackers, and how good is their sleep tracking?\n",
    "\"\"\";\n",
    "\n",
    "var assistantResponseDecisionConversationTurn2 = \"\"\"\n",
    "Different fitness trackers have varying battery lives, typically anywhere from 2-3 days (for more feature-rich or bright-display devices) \n",
    "up to about 10-14 days (for more minimalist trackers). \n",
    "\n",
    "Regarding sleep tracking:\n",
    "- Many modern devices can track different sleep stages (light, deep, REM).\n",
    "- High-end devices even track breathing rate and oxygen saturation during the night.\n",
    "- Some also offer insights about sleep quality and tips for improvement.\n",
    "\n",
    "If battery life is a priority, you may want to consider trackers with a more conservative display and fewer power-hungry features.\n",
    "\"\"\";\n",
    "\n",
    "var userPromptDecisionConversationTurn3 = \"\"\"\n",
    "Are there any popular models you would recommend for that balance of battery life and sleep tracking?\n",
    "\"\"\";\n",
    "\n",
    "var assistantResponseDecisionConversationTurn3 = \"\"\"\n",
    "Popular options that strike a balance between robust sleep tracking and good battery life include:\n",
    "- Fitbit Inspire 3 or Fitbit Charge 5: Both have solid sleep tracking, multi-day battery, and strong app support.\n",
    "- Garmin Vivosmart 5: Offers decent fitness and sleep insights, plus better-than-average battery life.\n",
    "- Xiaomi Mi Band 7: Budget-friendly, surprisingly robust health metrics, and a long-lasting battery.\n",
    "\n",
    "Each varies in price and features, so consider your budget and the specific metrics you’d like to track.\n",
    "\"\"\";\n",
    "\n",
    "var userPromptDecisionConversationTurn4 = \"\"\"\n",
    "That is great infor. \n",
    "I also have a friend who said I should consider an Apple Watch. \n",
    "Does that have comparable battery life and sleep tracking?\n",
    "\"\"\";\n",
    "\n",
    "var assistantResponseDecisionConversationTurn4 = \"\"\"\n",
    "The Apple Watch is known for its extensive feature set, including advanced health monitoring, \n",
    "but its battery life tends to be shorter—usually around 18-24 hours on a single charge \n",
    "(or possibly a bit more in low-power mode). While its sleep tracking features have improved over time, \n",
    "you might find you need to charge it daily or almost daily, which could conflict with your goal of 24/7 tracking. \n",
    "\"\"\";\n",
    "\n",
    "// Create a new chat history with a multi-turn conversation about buying a fitness tracker\n",
    "// Notice how the conversation flow uses different roles (user and assistant) to simulate a realistic decision-making dialogue\n",
    "var chatHistoryDecisionConversation = new ChatHistory();\n",
    "chatHistoryDecisionConversation.AddSystemMessage(systemPromptDecisionConversation);\n",
    "chatHistoryDecisionConversation.AddUserMessage(userPromptDecisionConversationTurn1);\n",
    "chatHistoryDecisionConversation.AddAssistantMessage(assistantResponseDecisionConversationTurn1);\n",
    "chatHistoryDecisionConversation.AddUserMessage(userPromptDecisionConversationTurn2);\n",
    "chatHistoryDecisionConversation.AddAssistantMessage(assistantResponseDecisionConversationTurn2);\n",
    "chatHistoryDecisionConversation.AddUserMessage(userPromptDecisionConversationTurn3);\n",
    "chatHistoryDecisionConversation.AddAssistantMessage(assistantResponseDecisionConversationTurn3);\n",
    "chatHistoryDecisionConversation.AddUserMessage(userPromptDecisionConversationTurn4);\n",
    "chatHistoryDecisionConversation.AddAssistantMessage(assistantResponseDecisionConversationTurn4);\n"
   ]
  },
  {
   "cell_type": "markdown",
   "metadata": {},
   "source": [
    "Using the above conversation history as the \"Gathered Intelligence\" betweeen the user and the AI assistant, let's make a final decision and ask for final feedback and a decision evaluation. This \"Gathered Intelligence\" for the decision can be persisted, re-loaded, simulated multiple times, applied to different AI systems to optimize decisions further.  "
   ]
  },
  {
   "cell_type": "code",
   "execution_count": 8,
   "metadata": {
    "dotnet_interactive": {
     "language": "csharp"
    },
    "polyglot_notebook": {
     "kernelName": "csharp"
    }
   },
   "outputs": [
    {
     "data": {
      "text/markdown": [
       "Great choice! Here are some quick final insights to support your decision:\n",
       "\n",
       "**Strengths of the Fitbit Inspire 3:**\n",
       "- **Battery Life:** Typically lasts up to 10 days, supporting consistent sleep tracking without frequent recharging.\n",
       "- **Sleep Tracking:** Accurately monitors sleep stages (light, deep, REM), offers sleep scores, and provides actionable insights via the Fitbit app.\n",
       "- **Comfort & Style:** Lightweight, slim, and unobtrusive—ideal for wearing day and night.\n",
       "- **App Ecosystem:** Syncs easily with most smartphones and integrates with other health apps (such as Apple Health and Google Fit).\n",
       "- **Value for Money:** Delivers core features of higher-end models at an affordable price.\n",
       "\n",
       "**Pro Tips:**\n",
       "- Set a reminder to charge it while showering or during low-activity times to keep it ready for sleep.\n",
       "- Regularly check for software updates to benefit from new sleep analysis features.\n",
       "- Explore the Fitbit community for motivation and tips.\n",
       "\n",
       "**Final Thought:**  \n",
       "The Inspire 3 is a reliable companion for tracking both steps and sleep, making it a solid decision based on your stated priorities. Enjoy your new tracker and the insights it’ll bring to your wellness journey!"
      ]
     },
     "metadata": {},
     "output_type": "display_data"
    }
   ],
   "source": [
    "var userPromptDecisionConversationFinalDecision = \"\"\"\n",
    "Thank you for all of that information, I think I'll go with a Fitbit. \n",
    "The Fitbit Inspire 3 seems like a good fit for my budget and needs. \n",
    "\n",
    "Any quick final thoughts or insights on my decision? \n",
    "\"\"\";\n",
    "\n",
    "// Add User message to the chat history\n",
    "chatHistoryDecisionConversation.AddUserMessage(userPromptDecisionConversationFinalDecision);\n",
    "\n",
    "// Render Markdown or stream the chat completion response\n",
    "var renderMarkdown = true;\n",
    "if (renderMarkdown)\n",
    "{\n",
    "    // Get the chat completion response as a single content object\n",
    "    var chatContent = await chatCompletionService.GetChatMessageContentAsync(chatHistoryDecisionConversation);\n",
    "    chatResponse = chatContent.Content;\n",
    "    chatResponse.DisplayAs(\"text/markdown\");\n",
    "}\n",
    "else\n",
    "{\n",
    "    // Stream the chat completion response\n",
    "    await foreach (var content in chatCompletionService.GetStreamingChatMessageContentsAsync(chatHistoryDecisionConversation))\n",
    "    {\n",
    "        chatResponse += content;\n",
    "        Console.Write(content);\n",
    "    }\n",
    "}\n",
    "\n",
    "// Add Assistant message to the chat history\n",
    "chatHistoryDecisionConversation.AddAssistantMessage(chatResponse);"
   ]
  },
  {
   "cell_type": "markdown",
   "metadata": {},
   "source": [
    "----\n",
    "### Step 6 - Inspect & Optimize Gathered Intelligence of Chat History "
   ]
  },
  {
   "cell_type": "markdown",
   "metadata": {},
   "source": [
    "The Semantic Kernel Chat History is a transparent construct that can be inspected and written out. In fact, the ChatHistory object can be manipulated to replay chats from middle interactions to simulate different outcomes.\n",
    "\n",
    "Execute the cell below to write out the Semantic Kernel Chat History of this chat."
   ]
  },
  {
   "cell_type": "markdown",
   "metadata": {},
   "source": [
    "> **📝 Note:** In the Decision Intelligence framework, chat history can serve as a form of gathered intelligence. Interactions among users, AI models, processes, and agents provide valuable context for effective decision-making. It’s highly recommended to persist chat history objects (agent threads), especially during decision optimization, to ensure critical information is retained and accessible.  "
   ]
  },
  {
   "cell_type": "code",
   "execution_count": 9,
   "metadata": {
    "dotnet_interactive": {
     "language": "csharp"
    },
    "polyglot_notebook": {
     "kernelName": "csharp"
    }
   },
   "outputs": [
    {
     "name": "stdout",
     "output_type": "stream",
     "text": [
      "Number of chat interactions: 11\n"
     ]
    },
    {
     "data": {
      "text/markdown": [
       "**SYSTEM**:\n",
       "You are a Decision Intelligence assistant. \n",
       "Assist the user in exploring options, reasoning through decisions, problem-solving, and applying systems thinking to various scenarios. \n",
       "Provide structured, logical, and comprehensive advice.\n",
       "\n",
       "**USER**:\n",
       "I am considering buying a fitness tracker but I am not sure which features really matter. \n",
       "Could you explain the main considerations? \n",
       "\n",
       "**ASSISTANT**:\n",
       "Absolutely! Key considerations for choosing a fitness tracker often include: \n",
       "- Fitness Features (e.g., step counting, heart-rate monitoring, workout tracking)\n",
       "- Health Monitoring (like sleep tracking or advanced ECG capabilities)\n",
       "- Battery Life\n",
       "- Comfort and Fit\n",
       "- Compatibility with your smartphone's operating system\n",
       "- Price Range\n",
       "- Knowing which of these you value most will help narrow down your options.\n",
       "\n",
       "**USER**:\n",
       "Got it. Battery life and sleep tracking are both important to me. \n",
       "What's a typical battery life range for trackers, and how good is their sleep tracking?\n",
       "\n",
       "**ASSISTANT**:\n",
       "Different fitness trackers have varying battery lives, typically anywhere from 2-3 days (for more feature-rich or bright-display devices) \n",
       "up to about 10-14 days (for more minimalist trackers). \n",
       "\n",
       "Regarding sleep tracking:\n",
       "- Many modern devices can track different sleep stages (light, deep, REM).\n",
       "- High-end devices even track breathing rate and oxygen saturation during the night.\n",
       "- Some also offer insights about sleep quality and tips for improvement.\n",
       "\n",
       "If battery life is a priority, you may want to consider trackers with a more conservative display and fewer power-hungry features.\n",
       "\n",
       "**USER**:\n",
       "Are there any popular models you would recommend for that balance of battery life and sleep tracking?\n",
       "\n",
       "**ASSISTANT**:\n",
       "Popular options that strike a balance between robust sleep tracking and good battery life include:\n",
       "- Fitbit Inspire 3 or Fitbit Charge 5: Both have solid sleep tracking, multi-day battery, and strong app support.\n",
       "- Garmin Vivosmart 5: Offers decent fitness and sleep insights, plus better-than-average battery life.\n",
       "- Xiaomi Mi Band 7: Budget-friendly, surprisingly robust health metrics, and a long-lasting battery.\n",
       "\n",
       "Each varies in price and features, so consider your budget and the specific metrics you’d like to track.\n",
       "\n",
       "**USER**:\n",
       "That is great infor. \n",
       "I also have a friend who said I should consider an Apple Watch. \n",
       "Does that have comparable battery life and sleep tracking?\n",
       "\n",
       "**ASSISTANT**:\n",
       "The Apple Watch is known for its extensive feature set, including advanced health monitoring, \n",
       "but its battery life tends to be shorter—usually around 18-24 hours on a single charge \n",
       "(or possibly a bit more in low-power mode). While its sleep tracking features have improved over time, \n",
       "you might find you need to charge it daily or almost daily, which could conflict with your goal of 24/7 tracking. \n",
       "\n",
       "**USER**:\n",
       "Thank you for all of that information, I think I'll go with a Fitbit. \n",
       "The Fitbit Inspire 3 seems like a good fit for my budget and needs. \n",
       "\n",
       "Any quick final thoughts or insights on my decision? \n",
       "\n",
       "**ASSISTANT**:\n",
       "Great choice! Here are some quick final insights to support your decision:\n",
       "\n",
       "**Strengths of the Fitbit Inspire 3:**\n",
       "- **Battery Life:** Typically lasts up to 10 days, supporting consistent sleep tracking without frequent recharging.\n",
       "- **Sleep Tracking:** Accurately monitors sleep stages (light, deep, REM), offers sleep scores, and provides actionable insights via the Fitbit app.\n",
       "- **Comfort & Style:** Lightweight, slim, and unobtrusive—ideal for wearing day and night.\n",
       "- **App Ecosystem:** Syncs easily with most smartphones and integrates with other health apps (such as Apple Health and Google Fit).\n",
       "- **Value for Money:** Delivers core features of higher-end models at an affordable price.\n",
       "\n",
       "**Pro Tips:**\n",
       "- Set a reminder to charge it while showering or during low-activity times to keep it ready for sleep.\n",
       "- Regularly check for software updates to benefit from new sleep analysis features.\n",
       "- Explore the Fitbit community for motivation and tips.\n",
       "\n",
       "**Final Thought:**  \n",
       "The Inspire 3 is a reliable companion for tracking both steps and sleep, making it a solid decision based on your stated priorities. Enjoy your new tracker and the insights it’ll bring to your wellness journey!\n",
       "\n"
      ]
     },
     "metadata": {},
     "output_type": "display_data"
    }
   ],
   "source": [
    "// Print the number of chat interactions and the chat history (turns)\n",
    "Console.WriteLine(\"Number of chat interactions: \" + chatHistoryDecisionConversation.Count());\n",
    "\n",
    "// Change this to a string builder and show as markdown\n",
    "var stringBuilderChatHistory = new StringBuilder();\n",
    "foreach (var message in chatHistoryDecisionConversation)\n",
    "{\n",
    "    // add a new line for each message\n",
    "    stringBuilderChatHistory.AppendLine($\"**{message.Role.ToString().ToUpper()}**:\");\n",
    "    stringBuilderChatHistory.Append($\"{message.Content.Replace(\"#\", string.Empty)}\");\n",
    "    stringBuilderChatHistory.AppendLine(\"\\n\");\n",
    "}\n",
    "\n",
    "// Display the chat history as Markdown\n",
    "stringBuilderChatHistory.ToString().DisplayAs(\"text/markdown\");"
   ]
  },
  {
   "cell_type": "markdown",
   "metadata": {},
   "source": [
    "By persisting the Decision Intelligence chats and making them available for inspection, can further help the decision-making process. For example you can load the Chat History summarize it or even have AI recommend optimizations for it based on the conversation. \n",
    "\n",
    "> **📝 Note:** The process below is simplified to illustrate the power of Gathering Intelligence with user <--> AI interactions. More advanced best practices will be introduced in further sections. "
   ]
  },
  {
   "cell_type": "code",
   "execution_count": 10,
   "metadata": {
    "dotnet_interactive": {
     "language": "csharp"
    },
    "polyglot_notebook": {
     "kernelName": "csharp"
    }
   },
   "outputs": [
    {
     "data": {
      "text/markdown": [
       "Certainly! Here’s a brief summary of your chat conversation:\n",
       "\n",
       "You are considering buying a fitness tracker and wanted guidance on important features. You identified battery life and sleep tracking as your top priorities. We discussed that typical trackers offer battery life ranging from 2 days to 2 weeks, with many modern models providing advanced sleep insights. Popular models balancing these needs include Fitbit Inspire 3, Fitbit Charge 5, Garmin Vivosmart 5, and Xiaomi Mi Band 7. You also asked about the Apple Watch, which has good sleep tracking but shorter battery life, requiring daily charging. Based on the information, you decided the Fitbit Inspire 3 best fits your needs and budget, and received final tips for making the most of your new tracker."
      ]
     },
     "metadata": {},
     "output_type": "display_data"
    },
    {
     "data": {
      "text/markdown": [
       "Certainly! Here’s a summary of the chat conversation and recommendations for enhancing the decision-making process:\n",
       "\n",
       "### Chat Conversation Summary\n",
       "- **User’s Need:** Interested in buying a fitness tracker; uncertain which features matter most.\n",
       "- **Exploration:** User expressed priorities—good battery life and accurate sleep tracking.\n",
       "- **Information Provided:** Battery life and sleep tracking capabilities of trackers explained, including typical ranges and feature quality.\n",
       "- **Recommendations:** Several models suggested (Fitbit Inspire 3, Charge 5, Garmin Vivosmart 5, Xiaomi Mi Band 7) that balance battery life and sleep tracking.\n",
       "- **Comparison:** Brief comparison with the Apple Watch, detailing pros and cons.\n",
       "- **Decision:** User leaned towards Fitbit Inspire 3. Final advice and tips were provided to support their choice.\n",
       "\n",
       "---\n",
       "\n",
       "### Recommendations to Optimize Decision Interactions\n",
       "\n",
       "**1. Clarifying Needs and Priorities**\n",
       "- **Prompt the user to rank or weigh their priorities** (e.g., battery life vs. advanced features vs. budget vs. design).\n",
       "- **Suggest trade-off analyses** early in the conversation, helping users consider what they’re willing to compromise on.\n",
       "\n",
       "**2. Structured Options Comparison**\n",
       "- **Provide a comparison matrix** or table highlighting key models versus prioritized features, making differences and similarities visually clear.\n",
       "- **Include pros, cons, and “best for” scenarios** for each option.\n",
       "\n",
       "**3. Contextual & Personalized Guidance**\n",
       "- **Ask follow-up questions about lifestyle and use cases** (e.g., do they want to wear the tracker for swimming? Are they interested in stress tracking or breathing exercises?).\n",
       "- **Consider integration or compatibility concerns** (other devices/apps they own, ecosystem preferences).\n",
       "\n",
       "**4. Transparency and Uncertainty**\n",
       "- **Highlight feature limitations** (e.g., accuracy differences in sleep tracking by brand, battery life variability with settings).\n",
       "- **Acknowledge information gaps or uncertainties** (e.g., changes due to software updates).\n",
       "\n",
       "**5. Enabling Next Steps**\n",
       "- **Offer sources for in-depth reviews or user testimonials.**\n",
       "- **Suggest “try before you buy” options** or return policies if available.\n",
       "- **Encourage ongoing evaluation** after purchase (e.g., revisit needs if they change).\n",
       "\n",
       "---\n",
       "\n",
       "### AI Considerations for Supporting Better Decisions\n",
       "\n",
       "- **Proactively gather relevant context** (the user’s routine, other health goals, technical comfort level).\n",
       "- **Provide dynamic guidance** that adapts as the user’s stated preferences evolve during the discussion.\n",
       "- **Present a systems view**, showing how the tracker fits into the broader health/wellness or tech ecosystem.\n",
       "- **Encourage reflection** by summarizing trade-offs after each decision point.\n",
       "- **Support unbiased and evidence-based recommendations**, flagging any high-marketing claims vs. proven features.\n",
       "\n",
       "---\n",
       "\n",
       "By applying these recommendations, decision interactions could be even more tailored, thorough, and empowering for users looking to make informed technology purchases."
      ]
     },
     "metadata": {},
     "output_type": "display_data"
    }
   ],
   "source": [
    "var userPromptSummarizeTheDecisionChat = \"\"\"\n",
    "Briefly summarize the chat conversation about buying a fitness tracker.\n",
    "\"\"\";\n",
    "\n",
    "// Add User message to the chat history\n",
    "chatHistoryDecisionConversation.AddUserMessage(userPromptSummarizeTheDecisionChat);\n",
    "\n",
    "var chatContent = await chatCompletionService.GetChatMessageContentAsync(chatHistoryDecisionConversation);\n",
    "chatResponse = chatContent.Content;\n",
    "chatResponse.DisplayAs(\"text/markdown\");\n",
    "\n",
    "// Optimize the chat history for any future decision interactions\n",
    "var userPromptOptimizeTheDecisionChat = \"\"\"\n",
    "Based on the chat conversation so far...\n",
    "Provide some recommendations on how the decision interactions could be optimized for decision-making.\n",
    "What are some considerations for the AI to help the use make even better decisions?\n",
    "\"\"\";\n",
    "\n",
    "// Add User message to the chat history\n",
    "chatHistoryDecisionConversation.AddUserMessage(userPromptOptimizeTheDecisionChat);\n",
    "\n",
    "var chatContentOptimization = await chatCompletionService.GetChatMessageContentAsync(chatHistoryDecisionConversation);\n",
    "var chatResponseOptimization = chatContentOptimization.Content;\n",
    "chatResponseOptimization.DisplayAs(\"text/markdown\");"
   ]
  }
 ],
 "metadata": {
  "kernelspec": {
   "display_name": ".NET (C#)",
   "language": "C#",
   "name": ".net-csharp"
  },
  "language_info": {
   "name": "polyglot-notebook"
  },
  "polyglot_notebook": {
   "kernelInfo": {
    "defaultKernelName": "csharp",
    "items": [
     {
      "aliases": [],
      "name": "csharp"
     }
    ]
   }
  }
 },
 "nbformat": 4,
 "nbformat_minor": 2
}
