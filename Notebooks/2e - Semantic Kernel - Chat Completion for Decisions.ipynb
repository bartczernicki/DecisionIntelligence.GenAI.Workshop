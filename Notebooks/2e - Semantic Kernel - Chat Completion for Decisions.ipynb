{
 "cells": [
  {
   "cell_type": "markdown",
   "metadata": {},
   "source": [
    "<div style=\"display: flex; align-items: center;\">\n",
    "  <img src=\"https://raw.githubusercontent.com/bartczernicki/DecisionIntelligence.GenAI.Workshop/main/Images/DecisionIntelligenceSemanticKernelLogo.png\" width=\"60px\" style=\"margin-right: 10px;\">\n",
    "  <span style=\"font-size: 1.5em; font-weight: bold;\">Semantic Kernel - Chat Completion for Decisions</span>\n",
    "</div>"
   ]
  },
  {
   "cell_type": "markdown",
   "metadata": {},
   "source": [
    "Decision Intelligence applied in this module:  \n",
    "* Listing of various decision-making frameworks and with their descriptions by using Chat Completion  \n",
    "* Decision Scenario: Recommendation of a decision-making framework for specific higher-stakes decisions (purchase of a car)  \n",
    "* Illustrating a domain specific decision-making framework (millitary intelligence)  \n"
   ]
  },
  {
   "cell_type": "markdown",
   "metadata": {},
   "source": [
    "In this module, the Semantic Kernel ability to create a chat experience will be introduced. This is a much richer experience than just sending simple prompts that are stateless and context is forgotten.\n",
    "\n",
    "Semantic Kernel has first-class support for chat scenarios, where the user talks back and forth with the LLM, the arguments get populated with the history of the conversation. During each new run of the kernel, the arguments will be provided to the AI with content. This allows the LLM to know the historical context of the conversation."
   ]
  },
  {
   "cell_type": "markdown",
   "metadata": {},
   "source": [
    "### Step 1 - Initialize Configuration Builder & Build the Semantic Kernel Orchestration"
   ]
  },
  {
   "cell_type": "markdown",
   "metadata": {},
   "source": [
    "Execute the next two cells to:\n",
    "* Use the Configuration Builder to load the API secrets.  \n",
    "* Use the API configuration to build the Semantic Kernel orchestrator."
   ]
  },
  {
   "cell_type": "code",
   "execution_count": 1,
   "metadata": {
    "dotnet_interactive": {
     "language": "csharp"
    },
    "polyglot_notebook": {
     "kernelName": "csharp"
    }
   },
   "outputs": [
    {
     "data": {
      "text/html": [
       "<div><div></div><div></div><div><strong>Installed Packages</strong><ul><li><span>Microsoft.Extensions.Configuration, 9.0.6</span></li><li><span>Microsoft.Extensions.Configuration.Json, 9.0.6</span></li></ul></div></div>"
      ]
     },
     "metadata": {},
     "output_type": "display_data"
    }
   ],
   "source": [
    "// Import the required NuGet configuration packages\n",
    "#r \"nuget: Microsoft.Extensions.Configuration, 9.0.6\"\n",
    "#r \"nuget: Microsoft.Extensions.Configuration.Json, 9.0.6\"\n",
    "\n",
    "using Microsoft.Extensions.Configuration.Json;\n",
    "using Microsoft.Extensions.Configuration;\n",
    "using System.IO;\n",
    "\n",
    "// Load the configuration settings from the local.settings.json and secrets.settings.json files\n",
    "// The secrets.settings.json file is used to store sensitive information such as API keys\n",
    "var configurationBuilder = new ConfigurationBuilder()\n",
    "    .SetBasePath(Directory.GetCurrentDirectory())\n",
    "    .AddJsonFile(\"local.settings.json\", optional: true, reloadOnChange: true)\n",
    "    .AddJsonFile(\"secrets.settings.json\", optional: true, reloadOnChange: true);\n",
    "var config = configurationBuilder.Build();\n",
    "\n",
    "// IMPORTANT: You ONLY NEED either Azure OpenAI or OpenAI connectiopn info, not both.\n",
    "// Azure OpenAI Connection Info\n",
    "var azureOpenAIEndpoint = config[\"AzureOpenAI:Endpoint\"];\n",
    "var azureOpenAIAPIKey = config[\"AzureOpenAI:APIKey\"];\n",
    "var azureOpenAIModelDeploymentName = config[\"AzureOpenAI:ModelDeploymentName\"];\n",
    "// OpenAI Connection Info \n",
    "var openAIAPIKey = config[\"OpenAI:APIKey\"];\n",
    "var openAIModelId = config[\"OpenAI:ModelId\"];"
   ]
  },
  {
   "cell_type": "code",
   "execution_count": 5,
   "metadata": {
    "dotnet_interactive": {
     "language": "csharp"
    },
    "polyglot_notebook": {
     "kernelName": "csharp"
    }
   },
   "outputs": [
    {
     "data": {
      "text/html": [
       "<div><div></div><div></div><div><strong>Installed Packages</strong><ul><li><span>Microsoft.Extensions.DependencyInjection, 9.0.6</span></li><li><span>Microsoft.SemanticKernel, 1.59.0</span></li></ul></div></div>"
      ]
     },
     "metadata": {},
     "output_type": "display_data"
    },
    {
     "name": "stdout",
     "output_type": "stream",
     "text": [
      "Using Azure OpenAI Service\n"
     ]
    }
   ],
   "source": [
    "// Install the required NuGet packages\n",
    "// Note: This also installs the Dependency Injection Package to retrieve the ChatCompletionService\n",
    "#r \"nuget: Microsoft.Extensions.DependencyInjection, 9.0.6\"\n",
    "#r \"nuget: Microsoft.SemanticKernel, 1.59.0\"\n",
    "\n",
    "using Microsoft.Extensions.DependencyInjection.Extensions;\n",
    "using Microsoft.Extensions.DependencyInjection;\n",
    "using Microsoft.SemanticKernel;\n",
    "using Microsoft.SemanticKernel.ChatCompletion;\n",
    "using Microsoft.SemanticKernel.Connectors.OpenAI;\n",
    "\n",
    "Kernel semanticKernel;\n",
    "\n",
    "// Set the flag to use Azure OpenAI or OpenAI. False to use OpenAI, True to use Azure OpenAI\n",
    "var useAzureOpenAI = true;\n",
    "\n",
    "// Create a new Semantic Kernel instance\n",
    "if (useAzureOpenAI)\n",
    "{\n",
    "    Console.WriteLine(\"Using Azure OpenAI Service\");\n",
    "    semanticKernel = Kernel.CreateBuilder()\n",
    "        .AddAzureOpenAIChatCompletion(\n",
    "            deploymentName: azureOpenAIModelDeploymentName,\n",
    "            endpoint: azureOpenAIEndpoint,\n",
    "            apiKey: azureOpenAIAPIKey)\n",
    "        .Build();\n",
    "}\n",
    "else\n",
    "{\n",
    "    Console.WriteLine(\"Using OpenAI Service\");\n",
    "    semanticKernel = Kernel.CreateBuilder()\n",
    "        .AddOpenAIChatCompletion(\n",
    "            modelId: openAIModelId,\n",
    "            apiKey: openAIAPIKey)\n",
    "        .Build();\n",
    "}\n",
    "\n",
    "var chatCompletionService = semanticKernel.Services.GetRequiredService<IChatCompletionService>();"
   ]
  },
  {
   "cell_type": "markdown",
   "metadata": {},
   "source": [
    "### Step 2 - Execute Decision Chat Completion with Prompt Execution Settings "
   ]
  },
  {
   "cell_type": "markdown",
   "metadata": {},
   "source": [
    "> 📜 **_\"If you can’t describe what you are doing as a process, you don’t know what you’re doing.\"_** \n",
    ">\n",
    "> -- <cite>W. Edwards Deming (renowned American engineer, statistician, and management consultant)</cite>  \n",
    "\n",
    "\n",
    "Using the Semantic Kernel ChatCompletion service is very similar to inovoking a prompt for basic LLM interactions. The chat completion service will provide very similar results to invoking the prompt directly."
   ]
  },
  {
   "cell_type": "code",
   "execution_count": 6,
   "metadata": {
    "dotnet_interactive": {
     "language": "csharp"
    },
    "polyglot_notebook": {
     "kernelName": "csharp"
    }
   },
   "outputs": [
    {
     "data": {
      "text/markdown": [
       "### 1. SWOT Analysis  \n",
       "A structured framework for evaluating the Strengths, Weaknesses, Opportunities, and Threats related to a decision or project.\n",
       "\n",
       "### 2. Decision Matrix (Weighted Scoring Model)  \n",
       "A tool that helps compare multiple options by scoring them against defined criteria, often with assigned weights to reflect importance.\n",
       "\n",
       "### 3. Cost-Benefit Analysis  \n",
       "A systematic approach to estimating the strengths and weaknesses of alternatives by comparing the expected costs and benefits.\n",
       "\n",
       "### 4. The OODA Loop  \n",
       "A cyclical process consisting of Observe, Orient, Decide, and Act, designed to enable rapid and adaptive decision-making.\n",
       "\n",
       "### 5. Six Thinking Hats  \n",
       "A method that encourages looking at a decision from multiple perspectives (logic, emotion, caution, optimism, creativity, and process) to ensure a well-rounded evaluation."
      ]
     },
     "metadata": {},
     "output_type": "display_data"
    }
   ],
   "source": [
    "// Simple prompt to list some decision frameworks this GenAI LLM is familiar with \n",
    "// LLMs are trained on a diverse range of data and can provide insights on a wide range of topics like decision frameworks\n",
    "// SLMS (smaller LLMs) are trained on a more specific range of data and may not provide insights on all topics\n",
    "var simpleDecisionPrompt = \"\"\"\n",
    "Provide a list of 5 decision frameworks that can help improve the quality of decisions.\n",
    "\n",
    "Output Format Instructions:\n",
    "When generating Markdown, do not use any headings higher than ###. \n",
    "Avoid # and ## headers. Use only ###, ####, or lower-level headings if necessary. \n",
    "All top-level section headers should start at ### or lower. \n",
    "\"\"\";\n",
    "\n",
    "// Create a new OpenAI prompt execution settings object\n",
    "var openAIPromptExecutionSettings = new OpenAIPromptExecutionSettings { \n",
    "    MaxTokens = 1000, \n",
    "    Temperature = 0.1, \n",
    "    TopP = 1.0, \n",
    "    FrequencyPenalty = 0.0, \n",
    "    PresencePenalty = 0.0\n",
    "    };\n",
    "\n",
    "// Execute the chat completion request using the prompt and settings defined above\n",
    "var chatResult = await chatCompletionService.GetChatMessageContentAsync(simpleDecisionPrompt, openAIPromptExecutionSettings);\n",
    "\n",
    "// Display the result of the chat completion request as Markdown\n",
    "chatResult.Content.DisplayAs(\"text/markdown\");"
   ]
  },
  {
   "cell_type": "markdown",
   "metadata": {},
   "source": [
    "### Step 3 - Execute Decision Chat Completion with Streaming "
   ]
  },
  {
   "cell_type": "markdown",
   "metadata": {},
   "source": [
    "Semantic Kernel supports prompt response streaming in the ChatCompletionService. This allows responses to be streamed to the client as soon as they are made available by the LLM and API services. Below the same decision prompt is executed. However, notice that chunks are streamed and can be read by the user as soon as they appear. "
   ]
  },
  {
   "cell_type": "code",
   "execution_count": 7,
   "metadata": {
    "dotnet_interactive": {
     "language": "csharp"
    },
    "polyglot_notebook": {
     "kernelName": "csharp"
    }
   },
   "outputs": [
    {
     "name": "stdout",
     "output_type": "stream",
     "text": [
      "### 1. SWOT Analysis  \n",
      "A structured planning method that evaluates Strengths, Weaknesses, Opportunities, and Threats related to a decision or project.\n",
      "\n",
      "### 2. Decision Matrix (Weighted Scoring Model)  \n",
      "A tool that helps compare multiple options by scoring them against a set of criteria, often with assigned weights to reflect importance.\n",
      "\n",
      "### 3. Cost-Benefit Analysis  \n",
      "A systematic approach to estimating the strengths and weaknesses of alternatives by comparing the expected costs and benefits.\n",
      "\n",
      "### 4. The OODA Loop  \n",
      "A cyclical process of Observe, Orient, Decide, and Act, designed to enable rapid and adaptive decision-making.\n",
      "\n",
      "### 5. Six Thinking Hats  \n",
      "A framework that encourages looking at a decision from multiple perspectives (logic, emotion, caution, optimism, creativity, and process) to ensure a well-rounded evaluation."
     ]
    }
   ],
   "source": [
    "// Stream the chat completion response\n",
    "await foreach (var content in chatCompletionService.GetStreamingChatMessageContentsAsync(simpleDecisionPrompt, openAIPromptExecutionSettings))\n",
    "{\n",
    "    Console.Write(content);\n",
    "}"
   ]
  },
  {
   "cell_type": "markdown",
   "metadata": {},
   "source": [
    "### Step 4 - Execute Decision Chat Completion with a System Prompt & Chat History "
   ]
  },
  {
   "cell_type": "markdown",
   "metadata": {},
   "source": [
    "Semantic Kernel has a ChatHistory object that can be used with the ChatCompletionService to provide historical chat context to the LLM. Notice that the ChatHistory object differentiates between the different types of chat messages:\n",
    "* System Message - System or MetaPrompt. These are usually global instructions that set the \"overall rules\" for interacting with the LLMs.\n",
    "* User Message - A message from the user\n",
    "* Assistant Message - A message from the LLM. This is a message generated from an assistant or an agent. \n",
    "\n",
    "Identifying the messages from which role (user) it came from can help the LLM improve its own reasoning responses. This is a more sophisticated approach than passing chat history in a long dynamic string. ChatHistory objects can be serialized and persisted into databases as well."
   ]
  },
  {
   "cell_type": "code",
   "execution_count": 8,
   "metadata": {
    "dotnet_interactive": {
     "language": "csharp"
    },
    "polyglot_notebook": {
     "kernelName": "csharp"
    }
   },
   "outputs": [
    {
     "data": {
      "text/markdown": [
       "### 1. SWOT Analysis  \n",
       "**Purpose**: To evaluate the Strengths, Weaknesses, Opportunities, and Threats related to a decision or project.  \n",
       "**How it Helps**: Offers a structured way to identify internal and external factors that can impact your decision quality, and guides resource allocation and risk mitigation.\n",
       "\n",
       "*Example*:  \n",
       "- Strengths: What advantages does the decision offer?  \n",
       "- Weaknesses: Where are the vulnerabilities?  \n",
       "- Opportunities: What external options could improve outcomes?  \n",
       "- Threats: What risks threaten success?\n",
       "\n",
       "---\n",
       "\n",
       "### 2. Cost-Benefit Analysis  \n",
       "**Purpose**: To compare the costs and benefits of different options quantitatively or qualitatively.  \n",
       "**How it Helps**: Promotes objective evaluation, ensuring that benefits outweigh costs and helping prioritize among alternatives.\n",
       "\n",
       "*Example*:\n",
       "- List estimated costs (monetary, time, resources).\n",
       "- Enumerate expected benefits (profit, efficiency, satisfaction).\n",
       "- Calculate net gain/loss for each option.\n",
       "\n",
       "---\n",
       "\n",
       "### 3. Decision Matrix (Weighted Scoring Model)  \n",
       "**Purpose**: To evaluate multiple alternatives against defined criteria, assigning weights to reflect importance.  \n",
       "**How it Helps**: Improves objectivity and transparency, enabling complex decisions to be broken into manageable comparisons.\n",
       "\n",
       "*Example*:\n",
       "- Criteria: Cost (40%), Quality (30%), Speed (30%)\n",
       "- Score each alternative on each criterion.\n",
       "- Multiply by weights, sum scores, and choose the highest.\n",
       "\n",
       "---\n",
       "\n",
       "### 4. Six Thinking Hats  \n",
       "**Purpose**: To systematically explore different perspectives around a decision using six metaphorical “hats” (modes of thinking).  \n",
       "**How it Helps**: Avoids groupthink, surfaces diverse views, and ensures comprehensive analysis.\n",
       "\n",
       "*Example*:\n",
       "- White Hat: Facts & data\n",
       "- Red Hat: Emotions & intuition\n",
       "- Black Hat: Risks & cautions\n",
       "- Yellow Hat: Benefits & optimism\n",
       "- Green Hat: Creativity & alternatives\n",
       "- Blue Hat: Process & organization\n",
       "\n",
       "---\n",
       "\n",
       "### 5. OODA Loop (Observe, Orient, Decide, Act)  \n",
       "**Purpose**: Originally developed for military decisions, this iterative cycle suits fast-changing environments.  \n",
       "**How it Helps**: Encourages rapid feedback, continuous learning, and adaptation as new information arises.\n",
       "\n",
       "*Steps*:\n",
       "1. **Observe** the situation and context.\n",
       "2. **Orient** by analyzing information and contextual factors.\n",
       "3. **Decide** on the best course of action.\n",
       "4. **Act** on the decision, then loop back to observe results.\n",
       "\n",
       "---\n",
       "\n",
       "**Choosing the Right Framework:**  \n",
       "Select based on your decision’s complexity, urgency, and the information available. Combining frameworks (e.g., SWOT with a Decision Matrix) can further strengthen decision quality."
      ]
     },
     "metadata": {},
     "output_type": "display_data"
    }
   ],
   "source": [
    "// Set the overall system prompt to behave like a decision intelligence assistant (persona)\n",
    "var systemPrompt = \"\"\"\n",
    "You are a Decision Intelligence assistant. \n",
    "Assist the user in exploring options, reasoning through decisions, problem-solving, and applying systems thinking to various scenarios. \n",
    "Provide structured, logical, and comprehensive advice.\n",
    "\n",
    "Output Format Instructions:\n",
    "When generating Markdown, do not use any headings higher than ###. \n",
    "Avoid # and ## headers. Use only ###, ####, or lower-level headings if necessary. \n",
    "All top-level section headers should start at ### or lower. \n",
    "\"\"\";\n",
    "\n",
    "// Simple instruction prompt to list 5 (five) decision frameworks this GenAI LLM is familiar with\n",
    "var simpleDecisionPrompt = \"\"\"\n",
    "Provide five Decision Frameworks that can help improve the quality of decisions.\n",
    "\"\"\";\n",
    "\n",
    "// Create a new chat history object with proper system and user message roles\n",
    "var chatHistory = new ChatHistory();\n",
    "chatHistory.AddSystemMessage(systemPrompt);\n",
    "chatHistory.AddUserMessage(simpleDecisionPrompt);\n",
    "\n",
    "// Note: The chat completion service can also be used with a chat history object, which allows for a more conversational context.\n",
    "var chatResponse = string.Empty;\n",
    "\n",
    "// Render Markdown or stream the chat completion response\n",
    "var renderMarkdown = true;\n",
    "if (renderMarkdown)\n",
    "{\n",
    "    // Get the chat completion response as a single content object\n",
    "    var chatContent = await chatCompletionService.GetChatMessageContentAsync(chatHistory);\n",
    "    chatResponse = chatContent.Content;\n",
    "    chatResponse.DisplayAs(\"text/markdown\");\n",
    "}\n",
    "else\n",
    "{\n",
    "    // Stream the chat completion response\n",
    "    await foreach (var content in chatCompletionService.GetStreamingChatMessageContentsAsync(chatHistory))\n",
    "    {\n",
    "        chatResponse += content;\n",
    "        Console.Write(content);\n",
    "    }\n",
    "}\n",
    "\n",
    "// Add the assistant's response to the chat history\n",
    "chatHistory.AddAssistantMessage(chatResponse);"
   ]
  },
  {
   "cell_type": "markdown",
   "metadata": {},
   "source": [
    "In the next step, an additional prompt instruction will be added to the chat history. From the 5 decision frameworks provided in the chat history, Generative AI is asked to recommed a framework best suited for the militaty intelligence community. Notice that the previous chat history is automatically provided to provide additional intelligence context. \n",
    "\n",
    "> 📜 **_\"Take time to deliberate, but when the time for action comes, stop thinking and go in.\"_**\n",
    ">\n",
    "> -- <cite>Napoleon Bornaparte (French Emporer and brilliant military mind)</cite>  "
   ]
  },
  {
   "cell_type": "code",
   "execution_count": 9,
   "metadata": {
    "dotnet_interactive": {
     "language": "csharp"
    },
    "polyglot_notebook": {
     "kernelName": "csharp"
    }
   },
   "outputs": [
    {
     "data": {
      "text/markdown": [
       "### Step-by-Step Reasoning\n",
       "\n",
       "#### 1. **Understand the Military Intelligence Decision Context**\n",
       "- **Characteristics**:\n",
       "  - High-stakes, time-sensitive situations\n",
       "  - Incomplete and evolving information\n",
       "  - Need for rapid response and adaptability\n",
       "  - Potential for adversarial counteractions\n",
       "  - Importance of continuous feedback and learning\n",
       "- **Core Needs**: Agility, adaptability, iterative learning, and speed in decision cycles\n",
       "\n",
       "#### 2. **Assess Each Framework’s Suitability**\n",
       "\n",
       "- **SWOT Analysis**: \n",
       "  - Useful for strategic overviews, but less effective for fast-changing, tactical environments.\n",
       "  - Not inherently iterative or rapid.\n",
       "\n",
       "- **Cost-Benefit Analysis**: \n",
       "  - Focuses on optimizing outcomes using available data.\n",
       "  - Slower, relies on relatively complete information, more applicable for planning than real-time operations.\n",
       "\n",
       "- **Decision Matrix**: \n",
       "  - Structured comparisons, suitable for complex choices where criteria are clear and stable.\n",
       "  - Less agile, not designed for dynamic, rapidly shifting contexts.\n",
       "\n",
       "- **Six Thinking Hats**: \n",
       "  - Fosters comprehensive group analysis.\n",
       "  - Valuable for brainstorming or planning, but not optimized for the speed and iteration needed in operations.\n",
       "\n",
       "- **OODA Loop**: \n",
       "  - Designed for high-pressure, dynamic environments.\n",
       "  - Allows for rapid observation, orientation, agile decision-making, and immediate implementation.\n",
       "  - Iterative; accommodates new intelligence, battles evolving threats, and adjusts in real time.\n",
       "\n",
       "#### 3. **Evaluate Against Military Intelligence Needs**\n",
       "- The military intelligence community often deals with real-time threats, incomplete datasets, and adversarial activity. The ability to observe, analyze, decide, and act quickly — and repeatedly — is crucial.\n",
       "- An iterative and agile cycle is far more important than a one-off, comprehensive analysis or static evaluation.\n",
       "\n",
       "#### 4. **Conclusion**\n",
       "\n",
       "The **OODA Loop** (Observe, Orient, Decide, Act) is the single best decision framework for the military intelligence community. It aligns directly with the community’s operational demands for speed, adaptability, and continuous feedback in a constantly changing environment. \n",
       "\n",
       "**Summary**:  \n",
       "**OODA Loop** best supports the military intelligence community’s need for rapid, iterative, and adaptive decision-making in high-pressure, uncertain, and competitive contexts."
      ]
     },
     "metadata": {},
     "output_type": "display_data"
    }
   ],
   "source": [
    "// Note: No reference is made to what previous frameworks were listed.\n",
    "// Note: Previous context is maintained by the Semantic Kernel ChatHistory object \n",
    "var simpleDecisionPromptFollowupQuestionPartTwo = \"\"\"\n",
    "Which of the 5 decision frameworks listed above is best suited for the military intelligence community?  \n",
    "Think carefully step by step about what decision frameworks are needed to answer the query.  \n",
    "Select only the single best framework. \n",
    "\"\"\";\n",
    "\n",
    "// Add User message to the chat history\n",
    "chatHistory.AddUserMessage(simpleDecisionPromptFollowupQuestionPartTwo);\n",
    "\n",
    "// Render Markdown or stream the chat completion response\n",
    "var renderMarkdown = true;\n",
    "if (renderMarkdown)\n",
    "{\n",
    "    // Get the chat completion response as a single content object\n",
    "    var chatContent = await chatCompletionService.GetChatMessageContentAsync(chatHistory);\n",
    "    chatResponse = chatContent.Content;\n",
    "    chatResponse.DisplayAs(\"text/markdown\");\n",
    "}\n",
    "else\n",
    "{\n",
    "    // Stream the chat completion response\n",
    "    await foreach (var content in chatCompletionService.GetStreamingChatMessageContentsAsync(chatHistory))\n",
    "    {\n",
    "        chatResponse += content;\n",
    "        Console.Write(content);\n",
    "    }\n",
    "}\n",
    "\n",
    "// Add Assistant message to the chat history\n",
    "chatHistory.AddAssistantMessage(chatResponse);"
   ]
  },
  {
   "cell_type": "markdown",
   "metadata": {},
   "source": [
    "### Step 5 - Execute Decision Chat Completion with a Multi-Turn Conversation Scenario "
   ]
  },
  {
   "cell_type": "markdown",
   "metadata": {},
   "source": [
    "> 📜 **_\"Price is what you pay. Value is what you get.\"_**  \n",
    ">\n",
    "> -- <cite>Warren Buffet (one of the most successful investors of all time)</cite>  "
   ]
  },
  {
   "cell_type": "markdown",
   "metadata": {},
   "source": [
    "Semantic Kernel can maintain state with the ChatHistory object. This allows natural converation between the user and AI to be persisted for future use. It can be saved for future reference, it can be replayed, it can be forked in certain spots to try different scenarios, it can be used as a starting point for other conversations etc. \n",
    "\n",
    "In the scenario below, let's build a multi-turn conversation about a decision over a purchase for a fitness tracker. Notice that each turn the appropriate Chat History roles are populated with the appropriate prompts and assistant (AI) responses. This in effect acts as the Gathering Intelligence step of the Decision Intelligence framework as the conversation information has been persisted and can be re-used as context for the decision scenario."
   ]
  },
  {
   "cell_type": "code",
   "execution_count": 10,
   "metadata": {
    "dotnet_interactive": {
     "language": "csharp"
    },
    "polyglot_notebook": {
     "kernelName": "csharp"
    }
   },
   "outputs": [],
   "source": [
    "// Set the overall system prompt to behave like a decision intelligence assistant (persona)\n",
    "var systemPromptDecisionConversation = \"\"\"\n",
    "You are a Decision Intelligence assistant. \n",
    "Assist the user in exploring options, reasoning through decisions, problem-solving, and applying systems thinking to various scenarios. \n",
    "Provide structured, logical, and comprehensive advice.\n",
    "\"\"\";\n",
    "\n",
    "// User prompt to start a decision conversation about buying a fitness tracker\n",
    "var userPromptDecisionConversationTurn1 = \"\"\"\n",
    "I am considering buying a fitness tracker but I am not sure which features really matter. \n",
    "Could you explain the main considerations? \n",
    "\"\"\";\n",
    "\n",
    "var assistantResponseDecisionConversationTurn1 = \"\"\"\n",
    "Absolutely! Key considerations for choosing a fitness tracker often include: \n",
    "- Fitness Features (e.g., step counting, heart-rate monitoring, workout tracking)\n",
    "- Health Monitoring (like sleep tracking or advanced ECG capabilities)\n",
    "- Battery Life\n",
    "- Comfort and Fit\n",
    "- Compatibility with your smartphone's operating system\n",
    "- Price Range\n",
    "- Knowing which of these you value most will help narrow down your options.\n",
    "\"\"\";\n",
    "\n",
    "var userPromptDecisionConversationTurn2 = \"\"\"\n",
    "Got it. Battery life and sleep tracking are both important to me. \n",
    "What's a typical battery life range for trackers, and how good is their sleep tracking?\n",
    "\"\"\";\n",
    "\n",
    "var assistantResponseDecisionConversationTurn2 = \"\"\"\n",
    "Different fitness trackers have varying battery lives, typically anywhere from 2-3 days (for more feature-rich or bright-display devices) \n",
    "up to about 10-14 days (for more minimalist trackers). \n",
    "\n",
    "Regarding sleep tracking:\n",
    "- Many modern devices can track different sleep stages (light, deep, REM).\n",
    "- High-end devices even track breathing rate and oxygen saturation during the night.\n",
    "- Some also offer insights about sleep quality and tips for improvement.\n",
    "\n",
    "If battery life is a priority, you may want to consider trackers with a more conservative display and fewer power-hungry features.\n",
    "\"\"\";\n",
    "\n",
    "var userPromptDecisionConversationTurn3 = \"\"\"\n",
    "Are there any popular models you would recommend for that balance of battery life and sleep tracking?\n",
    "\"\"\";\n",
    "\n",
    "var assistantResponseDecisionConversationTurn3 = \"\"\"\n",
    "Popular options that strike a balance between robust sleep tracking and good battery life include:\n",
    "- Fitbit Inspire 3 or Fitbit Charge 5: Both have solid sleep tracking, multi-day battery, and strong app support.\n",
    "- Garmin Vivosmart 5: Offers decent fitness and sleep insights, plus better-than-average battery life.\n",
    "- Xiaomi Mi Band 7: Budget-friendly, surprisingly robust health metrics, and a long-lasting battery.\n",
    "\n",
    "Each varies in price and features, so consider your budget and the specific metrics you’d like to track.\n",
    "\"\"\";\n",
    "\n",
    "var userPromptDecisionConversationTurn4 = \"\"\"\n",
    "That is great infor. \n",
    "I also have a friend who said I should consider an Apple Watch. \n",
    "Does that have comparable battery life and sleep tracking?\n",
    "\"\"\";\n",
    "\n",
    "var assistantResponseDecisionConversationTurn4 = \"\"\"\n",
    "The Apple Watch is known for its extensive feature set, including advanced health monitoring, \n",
    "but its battery life tends to be shorter—usually around 18-24 hours on a single charge \n",
    "(or possibly a bit more in low-power mode). While its sleep tracking features have improved over time, \n",
    "you might find you need to charge it daily or almost daily, which could conflict with your goal of 24/7 tracking. \n",
    "\"\"\";\n",
    "\n",
    "// Create a new chat history with a multi-turn conversation about buying a fitness tracker\n",
    "// Notice how the conversation flow uses different roles (user and assistant) to simulate a realistic decision-making dialogue\n",
    "var chatHistoryDecisionConversation = new ChatHistory();\n",
    "chatHistoryDecisionConversation.AddSystemMessage(systemPromptDecisionConversation);\n",
    "chatHistoryDecisionConversation.AddUserMessage(userPromptDecisionConversationTurn1);\n",
    "chatHistoryDecisionConversation.AddAssistantMessage(assistantResponseDecisionConversationTurn1);\n",
    "chatHistoryDecisionConversation.AddUserMessage(userPromptDecisionConversationTurn2);\n",
    "chatHistoryDecisionConversation.AddAssistantMessage(assistantResponseDecisionConversationTurn2);\n",
    "chatHistoryDecisionConversation.AddUserMessage(userPromptDecisionConversationTurn3);\n",
    "chatHistoryDecisionConversation.AddAssistantMessage(assistantResponseDecisionConversationTurn3);\n",
    "chatHistoryDecisionConversation.AddUserMessage(userPromptDecisionConversationTurn4);\n",
    "chatHistoryDecisionConversation.AddAssistantMessage(assistantResponseDecisionConversationTurn4);\n"
   ]
  },
  {
   "cell_type": "markdown",
   "metadata": {},
   "source": [
    "Using the above conversation history as the \"Gathered Intelligence\" betweeen the user and the AI assistant, let's make a final decision and ask for final feedback and a decision evaluation. This \"Gathered Intelligence\" for the decision can be persisted, re-loaded, simulated multiple times, applied to different AI systems to optimize decisions further.  "
   ]
  },
  {
   "cell_type": "code",
   "execution_count": 11,
   "metadata": {
    "dotnet_interactive": {
     "language": "csharp"
    },
    "polyglot_notebook": {
     "kernelName": "csharp"
    }
   },
   "outputs": [
    {
     "data": {
      "text/markdown": [
       "Great choice! The **Fitbit Inspire 3** is a widely praised model for those seeking long battery life, solid sleep tracking, and affordability. Here are a few final thoughts and tips to help you get the most out of your decision:\n",
       "\n",
       "### Positives\n",
       "- **Battery Life:** Up to 10 days between charges is realistic, enabling consistent sleep tracking without nightly recharging.\n",
       "- **Sleep Tracking:** Offers detailed breakdowns of your sleep stages, plus an overall sleep score and insights through the Fitbit app.\n",
       "- **Comfort and Design:** Lightweight and slim, comfortable for day and night wear.\n",
       "\n",
       "### Tips for Maximizing Your Experience\n",
       "- **App Ecosystem:** Be sure to explore the Fitbit app’s features—its dashboard offers intuitive data visualizations and actionable sleep tips.\n",
       "- **Firmware Updates:** Check for firmware updates after purchase; these can enhance features and fix bugs.\n",
       "- **Replacement Bands:** Consider a second, softer band for overnight use to maximize comfort.\n",
       "- **Privacy:** Set privacy and data-sharing preferences when setting up the app.\n",
       "\n",
       "### Limitations to Note\n",
       "- **GPS:** The Inspire 3 does not have built-in GPS but will use your phone’s GPS for outdoor activities if desired.\n",
       "- **Advanced Metrics:** While robust for most, if you want even more detailed wellness metrics down the road, you might look at higher-end models or Fitbit’s Premium subscription.\n",
       "\n",
       "**Summary:**  \n",
       "For your emphasis on battery life, robust sleep tracking, and value for money, the Inspire 3 is an excellent and practical choice. Enjoy putting your new tracker to work for your health goals! If you have further questions or want advice on setup/usage, feel free to ask."
      ]
     },
     "metadata": {},
     "output_type": "display_data"
    }
   ],
   "source": [
    "var userPromptDecisionConversationFinalDecision = \"\"\"\n",
    "Thank you for all of that information, I think I'll go with a Fitbit. \n",
    "The Fitbit Inspire 3 seems like a good fit for my budget and needs. \n",
    "\n",
    "Any quick final thoughts or insights on my decision? \n",
    "\"\"\";\n",
    "\n",
    "// Add User message to the chat history\n",
    "chatHistoryDecisionConversation.AddUserMessage(userPromptDecisionConversationFinalDecision);\n",
    "\n",
    "// Render Markdown or stream the chat completion response\n",
    "var renderMarkdown = true;\n",
    "if (renderMarkdown)\n",
    "{\n",
    "    // Get the chat completion response as a single content object\n",
    "    var chatContent = await chatCompletionService.GetChatMessageContentAsync(chatHistoryDecisionConversation);\n",
    "    chatResponse = chatContent.Content;\n",
    "    chatResponse.DisplayAs(\"text/markdown\");\n",
    "}\n",
    "else\n",
    "{\n",
    "    // Stream the chat completion response\n",
    "    await foreach (var content in chatCompletionService.GetStreamingChatMessageContentsAsync(chatHistoryDecisionConversation))\n",
    "    {\n",
    "        chatResponse += content;\n",
    "        Console.Write(content);\n",
    "    }\n",
    "}\n",
    "\n",
    "// Add Assistant message to the chat history\n",
    "chatHistoryDecisionConversation.AddAssistantMessage(chatResponse);"
   ]
  },
  {
   "cell_type": "markdown",
   "metadata": {},
   "source": [
    "### Step 6 - Inspect & Optimize Gathered Intelligence of Chat History "
   ]
  },
  {
   "cell_type": "markdown",
   "metadata": {},
   "source": [
    "The Semantic Kernel Chat History is a transparent construct that can be inspected and written out. In fact, the ChatHistory object can be manipulated to replay chats from middle interactions to simulate different outcomes.\n",
    "\n",
    "Execute the cell below to write out the Semantic Kernel Chat History of this chat."
   ]
  },
  {
   "cell_type": "markdown",
   "metadata": {},
   "source": [
    "> **📝 Note:** In the Decision Intelligence framework, chat history can serve as a form of gathered intelligence. Interactions among users, AI models, processes, and agents provide valuable context for effective decision-making. It’s highly recommended to persist chat history objects (agent threads), especially during decision optimization, to ensure critical information is retained and accessible.  "
   ]
  },
  {
   "cell_type": "code",
   "execution_count": 12,
   "metadata": {
    "dotnet_interactive": {
     "language": "csharp"
    },
    "polyglot_notebook": {
     "kernelName": "csharp"
    }
   },
   "outputs": [
    {
     "name": "stdout",
     "output_type": "stream",
     "text": [
      "Number of chat interactions: 11\n"
     ]
    },
    {
     "data": {
      "text/markdown": [
       "**SYSTEM**:\n",
       "You are a Decision Intelligence assistant. \n",
       "Assist the user in exploring options, reasoning through decisions, problem-solving, and applying systems thinking to various scenarios. \n",
       "Provide structured, logical, and comprehensive advice.\n",
       "\n",
       "**USER**:\n",
       "I am considering buying a fitness tracker but I am not sure which features really matter. \n",
       "Could you explain the main considerations? \n",
       "\n",
       "**ASSISTANT**:\n",
       "Absolutely! Key considerations for choosing a fitness tracker often include: \n",
       "- Fitness Features (e.g., step counting, heart-rate monitoring, workout tracking)\n",
       "- Health Monitoring (like sleep tracking or advanced ECG capabilities)\n",
       "- Battery Life\n",
       "- Comfort and Fit\n",
       "- Compatibility with your smartphone's operating system\n",
       "- Price Range\n",
       "- Knowing which of these you value most will help narrow down your options.\n",
       "\n",
       "**USER**:\n",
       "Got it. Battery life and sleep tracking are both important to me. \n",
       "What's a typical battery life range for trackers, and how good is their sleep tracking?\n",
       "\n",
       "**ASSISTANT**:\n",
       "Different fitness trackers have varying battery lives, typically anywhere from 2-3 days (for more feature-rich or bright-display devices) \n",
       "up to about 10-14 days (for more minimalist trackers). \n",
       "\n",
       "Regarding sleep tracking:\n",
       "- Many modern devices can track different sleep stages (light, deep, REM).\n",
       "- High-end devices even track breathing rate and oxygen saturation during the night.\n",
       "- Some also offer insights about sleep quality and tips for improvement.\n",
       "\n",
       "If battery life is a priority, you may want to consider trackers with a more conservative display and fewer power-hungry features.\n",
       "\n",
       "**USER**:\n",
       "Are there any popular models you would recommend for that balance of battery life and sleep tracking?\n",
       "\n",
       "**ASSISTANT**:\n",
       "Popular options that strike a balance between robust sleep tracking and good battery life include:\n",
       "- Fitbit Inspire 3 or Fitbit Charge 5: Both have solid sleep tracking, multi-day battery, and strong app support.\n",
       "- Garmin Vivosmart 5: Offers decent fitness and sleep insights, plus better-than-average battery life.\n",
       "- Xiaomi Mi Band 7: Budget-friendly, surprisingly robust health metrics, and a long-lasting battery.\n",
       "\n",
       "Each varies in price and features, so consider your budget and the specific metrics you’d like to track.\n",
       "\n",
       "**USER**:\n",
       "That is great infor. \n",
       "I also have a friend who said I should consider an Apple Watch. \n",
       "Does that have comparable battery life and sleep tracking?\n",
       "\n",
       "**ASSISTANT**:\n",
       "The Apple Watch is known for its extensive feature set, including advanced health monitoring, \n",
       "but its battery life tends to be shorter—usually around 18-24 hours on a single charge \n",
       "(or possibly a bit more in low-power mode). While its sleep tracking features have improved over time, \n",
       "you might find you need to charge it daily or almost daily, which could conflict with your goal of 24/7 tracking. \n",
       "\n",
       "**USER**:\n",
       "Thank you for all of that information, I think I'll go with a Fitbit. \n",
       "The Fitbit Inspire 3 seems like a good fit for my budget and needs. \n",
       "\n",
       "Any quick final thoughts or insights on my decision? \n",
       "\n",
       "**ASSISTANT**:\n",
       "Great choice! The **Fitbit Inspire 3** is a widely praised model for those seeking long battery life, solid sleep tracking, and affordability. Here are a few final thoughts and tips to help you get the most out of your decision:\n",
       "\n",
       " Positives\n",
       "- **Battery Life:** Up to 10 days between charges is realistic, enabling consistent sleep tracking without nightly recharging.\n",
       "- **Sleep Tracking:** Offers detailed breakdowns of your sleep stages, plus an overall sleep score and insights through the Fitbit app.\n",
       "- **Comfort and Design:** Lightweight and slim, comfortable for day and night wear.\n",
       "\n",
       " Tips for Maximizing Your Experience\n",
       "- **App Ecosystem:** Be sure to explore the Fitbit app’s features—its dashboard offers intuitive data visualizations and actionable sleep tips.\n",
       "- **Firmware Updates:** Check for firmware updates after purchase; these can enhance features and fix bugs.\n",
       "- **Replacement Bands:** Consider a second, softer band for overnight use to maximize comfort.\n",
       "- **Privacy:** Set privacy and data-sharing preferences when setting up the app.\n",
       "\n",
       " Limitations to Note\n",
       "- **GPS:** The Inspire 3 does not have built-in GPS but will use your phone’s GPS for outdoor activities if desired.\n",
       "- **Advanced Metrics:** While robust for most, if you want even more detailed wellness metrics down the road, you might look at higher-end models or Fitbit’s Premium subscription.\n",
       "\n",
       "**Summary:**  \n",
       "For your emphasis on battery life, robust sleep tracking, and value for money, the Inspire 3 is an excellent and practical choice. Enjoy putting your new tracker to work for your health goals! If you have further questions or want advice on setup/usage, feel free to ask.\n",
       "\n"
      ]
     },
     "metadata": {},
     "output_type": "display_data"
    }
   ],
   "source": [
    "// Print the number of chat interactions and the chat history (turns)\n",
    "Console.WriteLine(\"Number of chat interactions: \" + chatHistoryDecisionConversation.Count());\n",
    "\n",
    "// Change this to a string builder and show as markdown\n",
    "var stringBuilderChatHistory = new StringBuilder();\n",
    "foreach (var message in chatHistoryDecisionConversation)\n",
    "{\n",
    "    // add a new line for each message\n",
    "    stringBuilderChatHistory.AppendLine($\"**{message.Role.ToString().ToUpper()}**:\");\n",
    "    stringBuilderChatHistory.Append($\"{message.Content.Replace(\"#\", string.Empty)}\");\n",
    "    stringBuilderChatHistory.AppendLine(\"\\n\");\n",
    "}\n",
    "\n",
    "// Display the chat history as Markdown\n",
    "stringBuilderChatHistory.ToString().DisplayAs(\"text/markdown\");"
   ]
  },
  {
   "cell_type": "markdown",
   "metadata": {},
   "source": [
    "By persisting the Decision Intelligence chats and making them available for inspection, can further help the decision-making process. For example you can load the Chat History summarize it or even have AI recommend optimizations for it based on the conversation. \n",
    "\n",
    "> **📝 Note:** The process below is simplified to illustrate the power of Gathering Intelligence with user <--> AI interactions. More advanced best practices will be introduced in further sections. "
   ]
  },
  {
   "cell_type": "code",
   "execution_count": 13,
   "metadata": {
    "dotnet_interactive": {
     "language": "csharp"
    },
    "polyglot_notebook": {
     "kernelName": "csharp"
    }
   },
   "outputs": [
    {
     "data": {
      "text/markdown": [
       "You asked for guidance on choosing a fitness tracker, highlighting battery life and sleep tracking as key priorities. We discussed battery life ranges (2–14 days), how well current trackers monitor sleep, and identified several models (Fitbit Inspire 3, Fitbit Charge 5, Garmin Vivosmart 5, Xiaomi Mi Band 7) that balance these needs. You also asked about the Apple Watch, learning that its battery life is shorter and may require daily charging. Based on this information, you decided on the Fitbit Inspire 3, and I confirmed it is a good fit for your needs with a few tips for optimal use."
      ]
     },
     "metadata": {},
     "output_type": "display_data"
    },
    {
     "data": {
      "text/markdown": [
       "**Summary of the Chat Conversation:**\n",
       "You were considering buying a fitness tracker and wanted to understand which features matter most. You highlighted battery life and sleep tracking as important to you. After learning about typical battery life ranges and sleep tracking capabilities, you asked for model recommendations. You were advised on models like the Fitbit Inspire 3, Fitbit Charge 5, Garmin Vivosmart 5, and Xiaomi Mi Band 7. You also inquired about the Apple Watch and learned its battery life may be insufficient for your needs. Ultimately, you chose the Fitbit Inspire 3, and requested final insights before purchase.\n",
       "\n",
       "---\n",
       "\n",
       "**Recommendations to Optimize Decision Interactions:**\n",
       "\n",
       "1. **Structured Decision Frameworks:**\n",
       "   - The AI could use a decision matrix or comparison tables to objectively evaluate different models against your prioritized features, helping clarify trade-offs.\n",
       "\n",
       "2. **Clarifying Priorities and Constraints:**\n",
       "   - The AI could have asked more questions up front to further clarify your must-haves, nice-to-haves, budget, and any style or ecosystem preferences.\n",
       "\n",
       "3. **Personalization:**\n",
       "   - The AI could request information about your specific activity habits, health goals, or preferred brands to further tailor suggestions.\n",
       "\n",
       "4. **Scenario-Based Reasoning:**\n",
       "   - The AI could offer usage scenarios (e.g., how often you exercise, whether you prefer charging overnight, etc.) to help you visualize how features align with your lifestyle.\n",
       "\n",
       "5. **Evidence and User Feedback:**\n",
       "   - Bringing in recent user reviews, satisfaction ratings, or reliability data could add practical context to technical recommendations.\n",
       "\n",
       "6. **Long-Term Use Considerations:**\n",
       "   - Discuss ongoing support (app updates, band replacements), subscription requirements, or resale value—factors that may be significant but are often overlooked.\n",
       "\n",
       "7. **Decision Support Tools:**\n",
       "   - Providing links to reputable comparison websites, or interactive tools/calculators, could empower you to continue your research confidently.\n",
       "\n",
       "---\n",
       "\n",
       "**Considerations for AI to Help Users Make Better Decisions:**\n",
       "\n",
       "- **Active Listening:**  \n",
       "  AI should summarize and confirm user requirements to ensure understanding before suggesting options.\n",
       "\n",
       "- **Transparent Reasoning:**  \n",
       "  Clearly explain why particular options are recommended, including trade-offs, rather than just listing features.\n",
       "\n",
       "- **Iterative Exploration:**  \n",
       "  Encourage users to refine or revisit their preferences as they learn more.\n",
       "\n",
       "- **Bias Avoidance:**  \n",
       "  Remain impartial; avoid over-recommending any one brand or model unless it strongly fits stated needs.\n",
       "\n",
       "- **Future-Proofing:**  \n",
       "  Help users anticipate how needs might evolve (e.g., changing fitness goals or increasing interest in advanced health metrics).\n",
       "\n",
       "By implementing these strategies, AI can support users in making confident, well-informed, and personally relevant decisions."
      ]
     },
     "metadata": {},
     "output_type": "display_data"
    }
   ],
   "source": [
    "var userPromptSummarizeTheDecisionChat = \"\"\"\n",
    "Briefly summarize the chat conversation about buying a fitness tracker.\n",
    "\"\"\";\n",
    "\n",
    "// Add User message to the chat history\n",
    "chatHistoryDecisionConversation.AddUserMessage(userPromptSummarizeTheDecisionChat);\n",
    "\n",
    "var chatContent = await chatCompletionService.GetChatMessageContentAsync(chatHistoryDecisionConversation);\n",
    "chatResponse = chatContent.Content;\n",
    "chatResponse.DisplayAs(\"text/markdown\");\n",
    "\n",
    "// Optimize the chat history for any future decision interactions\n",
    "var userPromptOptimizeTheDecisionChat = \"\"\"\n",
    "Based on the chat conversation so far...\n",
    "Provide some recommendations on how the decision interactions could be optimized for decision-making.\n",
    "What are some considerations for the AI to help the use make even better decisions?\n",
    "\"\"\";\n",
    "\n",
    "// Add User message to the chat history\n",
    "chatHistoryDecisionConversation.AddUserMessage(userPromptOptimizeTheDecisionChat);\n",
    "\n",
    "var chatContentOptimization = await chatCompletionService.GetChatMessageContentAsync(chatHistoryDecisionConversation);\n",
    "var chatResponseOptimization = chatContentOptimization.Content;\n",
    "chatResponseOptimization.DisplayAs(\"text/markdown\");"
   ]
  }
 ],
 "metadata": {
  "kernelspec": {
   "display_name": ".NET (C#)",
   "language": "C#",
   "name": ".net-csharp"
  },
  "language_info": {
   "name": "polyglot-notebook"
  },
  "polyglot_notebook": {
   "kernelInfo": {
    "defaultKernelName": "csharp",
    "items": [
     {
      "aliases": [],
      "name": "csharp"
     }
    ]
   }
  }
 },
 "nbformat": 4,
 "nbformat_minor": 2
}
