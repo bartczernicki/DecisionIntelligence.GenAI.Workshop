{
 "cells": [
  {
   "cell_type": "markdown",
   "metadata": {},
   "source": [
    "<img style=\"float: left;padding-right: 10px\" width =\"40px\" src=\"https://raw.githubusercontent.com/bartczernicki/DecisionIntelligence.GenAI.Workshop/main/Images/SemanticKernelLogo.png\">\n",
    "\n",
    "## Semantic Kernel - Chat Completion for Decisions "
   ]
  },
  {
   "cell_type": "markdown",
   "metadata": {},
   "source": [
    "Decision Intelligence applied in this module:  \n",
    "* Listing of various decision-making frameworks and with their descriptions by using Chat Completion  \n",
    "* Decision Scenario: Recommendation of a decision-making framework for specific higher-stakes decisions (purchase of a car)  \n",
    "* Illustrating a domain specific decision-making framework (millitary intelligence)  \n"
   ]
  },
  {
   "cell_type": "markdown",
   "metadata": {},
   "source": [
    "In this module, the Semantic Kernel ability to create a chat experience will be introduced. This is a much richer experience than just sending simple prompts that are stateless and context is forgotten.\n",
    "\n",
    "Semantic Kernel has first-class support for chat scenarios, where the user talks back and forth with the LLM, the arguments get populated with the history of the conversation. During each new run of the kernel, the arguments will be provided to the AI with content. This allows the LLM to know the historical context of the conversation."
   ]
  },
  {
   "cell_type": "markdown",
   "metadata": {},
   "source": [
    "### Step 1 - Initialize Configuration Builder & Build the Semantic Kernel Orchestration"
   ]
  },
  {
   "cell_type": "markdown",
   "metadata": {},
   "source": [
    "Execute the next two cells to:\n",
    "* Use the Configuration Builder to load the API secrets.  \n",
    "* Use the API configuration to build the Semantic Kernel orchestrator."
   ]
  },
  {
   "cell_type": "code",
   "execution_count": 1,
   "metadata": {
    "dotnet_interactive": {
     "language": "csharp"
    },
    "polyglot_notebook": {
     "kernelName": "csharp"
    },
    "vscode": {
     "languageId": "polyglot-notebook"
    }
   },
   "outputs": [
    {
     "data": {
      "text/html": [
       "<div><div></div><div></div><div><strong>Installed Packages</strong><ul><li><span>Microsoft.Extensions.Configuration, 9.0.0</span></li><li><span>Microsoft.Extensions.Configuration.Json, 9.0.0</span></li></ul></div></div>"
      ]
     },
     "metadata": {},
     "output_type": "display_data"
    }
   ],
   "source": [
    "// Import the required NuGet configuration packages\n",
    "#r \"nuget: Microsoft.Extensions.Configuration, 9.0.0\"\n",
    "#r \"nuget: Microsoft.Extensions.Configuration.Json, 9.0.0\"\n",
    "\n",
    "using Microsoft.Extensions.Configuration.Json;\n",
    "using Microsoft.Extensions.Configuration;\n",
    "using System.IO;\n",
    "\n",
    "// Load the configuration settings from the local.settings.json and secrets.settings.json files\n",
    "// The secrets.settings.json file is used to store sensitive information such as API keys\n",
    "var configurationBuilder = new ConfigurationBuilder()\n",
    "    .SetBasePath(Directory.GetCurrentDirectory())\n",
    "    .AddJsonFile(\"local.settings.json\", optional: true, reloadOnChange: true)\n",
    "    .AddJsonFile(\"secrets.settings.json\", optional: true, reloadOnChange: true);\n",
    "var config = configurationBuilder.Build();\n",
    "\n",
    "// IMPORTANT: You ONLY NEED either Azure OpenAI or OpenAI connectiopn info, not both.\n",
    "// Azure OpenAI Connection Info\n",
    "var azureOpenAIEndpoint = config[\"AzureOpenAI:Endpoint\"];\n",
    "var azureOpenAIAPIKey = config[\"AzureOpenAI:APIKey\"];\n",
    "var azureOpenAIModelDeploymentName = config[\"AzureOpenAI:ModelDeploymentName\"];\n",
    "// OpenAI Connection Info \n",
    "var openAIAPIKey = config[\"OpenAI:APIKey\"];\n",
    "var openAIModelId = config[\"OpenAI:ModelId\"];"
   ]
  },
  {
   "cell_type": "code",
   "execution_count": 2,
   "metadata": {
    "dotnet_interactive": {
     "language": "csharp"
    },
    "polyglot_notebook": {
     "kernelName": "csharp"
    },
    "vscode": {
     "languageId": "polyglot-notebook"
    }
   },
   "outputs": [
    {
     "data": {
      "text/html": [
       "<div><div></div><div></div><div><strong>Installed Packages</strong><ul><li><span>Microsoft.Extensions.DependencyInjection, 9.0.0</span></li><li><span>Microsoft.SemanticKernel, 1.32.0</span></li></ul></div></div>"
      ]
     },
     "metadata": {},
     "output_type": "display_data"
    },
    {
     "name": "stdout",
     "output_type": "stream",
     "text": [
      "Using Azure OpenAI Service\r\n"
     ]
    }
   ],
   "source": [
    "// Install the required NuGet packages\n",
    "// Note: This also installs the Dependency Injection Package to retrieve the ChatCompletionService\n",
    "#r \"nuget: Microsoft.Extensions.DependencyInjection, 9.0.0\"\n",
    "#r \"nuget: Microsoft.SemanticKernel, 1.32.0\"\n",
    "\n",
    "using Microsoft.Extensions.DependencyInjection.Extensions;\n",
    "using Microsoft.Extensions.DependencyInjection;\n",
    "using Microsoft.SemanticKernel;\n",
    "using Microsoft.SemanticKernel.ChatCompletion;\n",
    "using Microsoft.SemanticKernel.Connectors.OpenAI;\n",
    "\n",
    "Kernel semanticKernel;\n",
    "\n",
    "// Set the flag to use Azure OpenAI or OpenAI. False to use OpenAI, True to use Azure OpenAI\n",
    "var useAzureOpenAI = true;\n",
    "\n",
    "// Create a new Semantic Kernel instance\n",
    "if (useAzureOpenAI)\n",
    "{\n",
    "    Console.WriteLine(\"Using Azure OpenAI Service\");\n",
    "    semanticKernel = Kernel.CreateBuilder()\n",
    "        .AddAzureOpenAIChatCompletion(\n",
    "            deploymentName: azureOpenAIModelDeploymentName,\n",
    "            endpoint: azureOpenAIEndpoint,\n",
    "            apiKey: azureOpenAIAPIKey)\n",
    "        .Build();\n",
    "}\n",
    "else\n",
    "{\n",
    "    Console.WriteLine(\"Using OpenAI Service\");\n",
    "    semanticKernel = Kernel.CreateBuilder()\n",
    "        .AddOpenAIChatCompletion(\n",
    "            modelId: openAIModelId,\n",
    "            apiKey: openAIAPIKey)\n",
    "        .Build();\n",
    "}\n",
    "\n",
    "var chatCompletionService = semanticKernel.Services.GetRequiredService<IChatCompletionService>();"
   ]
  },
  {
   "cell_type": "markdown",
   "metadata": {},
   "source": [
    "### Step 2 - Execute Decision Chat Completion with Prompt Execution Settings "
   ]
  },
  {
   "cell_type": "markdown",
   "metadata": {},
   "source": [
    "> \"If you can’t describe what you are doing as a process, you don’t know what you’re doing.\" \n",
    ">\n",
    "> -- <cite>W. Edwards Deming (renowned American engineer, statistician, and management consultant)</cite>  \n",
    "\n",
    "\n",
    "Using the Semantic Kernel ChatCompletion service is very similar to inovoking a prompt for basic LLM interactions. The chat completion service will provide very similar results to invoking the prompt directly."
   ]
  },
  {
   "cell_type": "code",
   "execution_count": 3,
   "metadata": {
    "dotnet_interactive": {
     "language": "csharp"
    },
    "polyglot_notebook": {
     "kernelName": "csharp"
    },
    "vscode": {
     "languageId": "polyglot-notebook"
    }
   },
   "outputs": [
    {
     "name": "stdout",
     "output_type": "stream",
     "text": [
      "Here are five widely recognized decision-making frameworks that can help improve the quality of decisions:\n",
      "\n",
      "---\n",
      "\n",
      "### 1. **OODA Loop (Observe, Orient, Decide, Act)**  \n",
      "- **Description**: Developed by military strategist John Boyd, the OODA Loop is a cyclical process designed to help individuals and organizations make decisions quickly and adapt to changing circumstances.  \n",
      "- **Steps**:  \n",
      "  1. **Observe**: Gather information about the situation.  \n",
      "  2. **Orient**: Analyze the information and understand the context.  \n",
      "  3. **Decide**: Choose the best course of action based on the analysis.  \n",
      "  4. **Act**: Implement the decision and monitor the results.  \n",
      "- **Use Case**: Useful in dynamic, fast-changing environments like business strategy, crisis management, or competitive markets.\n",
      "\n",
      "---\n",
      "\n",
      "### 2. **DECIDE Model**  \n",
      "- **Description**: A structured approach to decision-making that emphasizes clarity and evaluation.  \n",
      "- **Steps**:  \n",
      "  1. **D**efine the problem.  \n",
      "  2. **E**stablish criteria for a successful outcome.  \n",
      "  3. **C**ollect and analyze relevant information.  \n",
      "  4. **I**dentify and evaluate possible solutions.  \n",
      "  5. **D**ecide on the best option.  \n",
      "  6. **E**valuate the decision after implementation.  \n",
      "- **Use Case**: Ideal for systematic problem-solving and ensuring decisions align with goals.\n",
      "\n",
      "---\n",
      "\n",
      "### 3. **Six Thinking Hats**  \n",
      "- **Description**: Created by Edward de Bono, this framework encourages looking at a decision from multiple perspectives to ensure a well-rounded evaluation.  \n",
      "- **Hats**:  \n",
      "  1. **White Hat**: Focus on facts and data.  \n",
      "  2. **Red Hat**: Consider emotions and intuition.  \n",
      "  3. **Black Hat**: Identify risks and potential problems.  \n",
      "  4. **Yellow Hat**: Highlight benefits and opportunities.  \n",
      "  5. **Green Hat**: Explore creative solutions and alternatives.  \n",
      "  6. **Blue Hat**: Manage the decision-making process and ensure focus.  \n",
      "- **Use Case**: Effective for group decision-making and fostering diverse viewpoints.\n",
      "\n",
      "---\n",
      "\n",
      "### 4. **Pros and Cons List**  \n",
      "- **Description**: A simple yet powerful framework for weighing the advantages and disadvantages of a decision.  \n",
      "- **Steps**:  \n",
      "  1. List all the potential benefits (pros).  \n",
      "  2. List all the potential drawbacks (cons).  \n",
      "  3. Compare the lists to determine the best course of action.  \n",
      "- **Use Case**: Best for straightforward decisions or when clarity is needed in weighing trade-offs.\n",
      "\n",
      "---\n",
      "\n",
      "### 5. **Kepner-Tregoe Decision Analysis**  \n",
      "- **Description**: A systematic, rational process for making complex decisions by evaluating alternatives against specific criteria.  \n",
      "- **Steps**:  \n",
      "  1. **Clarify the decision**: Define the problem and decision to be made.  \n",
      "  2. **Identify objectives**: Determine the desired outcomes and criteria.  \n",
      "  3. **Evaluate alternatives**: Score each option against the criteria.  \n",
      "  4. **Assess risks**: Consider potential problems and contingencies.  \n",
      "  5. **Make the decision**: Choose the option that best meets the objectives.  \n",
      "- **Use Case**: Ideal for high-stakes or complex decisions requiring detailed analysis.\n",
      "\n",
      "---\n",
      "\n",
      "Each of these frameworks offers a structured approach to decision-making, helping to reduce bias, improve clarity, and ensure better outcomes. The choice of framework depends on the complexity of the decision, the context, and the desired level of analysis.\r\n"
     ]
    }
   ],
   "source": [
    "// Simple prompt to list some decision frameworks this GenAI LLM is familiar with \n",
    "// LLMs are trained on a diverse range of data and can provide insights on a wide range of topics like decision frameworks\n",
    "// SLMS (smaller LLMs) are trained on a more specific range of data and may not provide insights on all topics\n",
    "var simpleDecisionPrompt = \"\"\"\n",
    "Provide a list of 5 decision frameworks that can help improve the quality of decisions.\n",
    "\"\"\";\n",
    "\n",
    "// Create a new OpenAI prompt execution settings object\n",
    "var openAIPromptExecutionSettings = new OpenAIPromptExecutionSettings { \n",
    "    MaxTokens = 1000, \n",
    "    Temperature = 0.1, \n",
    "    TopP = 1.0, \n",
    "    FrequencyPenalty = 0.0, \n",
    "    PresencePenalty = 0.0\n",
    "    };\n",
    "\n",
    "var chatResult = await chatCompletionService.GetChatMessageContentAsync(simpleDecisionPrompt, openAIPromptExecutionSettings);\n",
    "\n",
    "Console.WriteLine(chatResult.Content);"
   ]
  },
  {
   "cell_type": "markdown",
   "metadata": {},
   "source": [
    "### Step 3 - Execute Decision Chat Completion with Streaming "
   ]
  },
  {
   "cell_type": "markdown",
   "metadata": {},
   "source": [
    "Semantic Kernel supports prompt response streaming in the ChatCompletionService. This allows responses to be streamed to the client as soon as they are made available by the LLM and API services. Below the same decision prompt is executed. However, notice that chunks are streamed and can be read by the user as soon as they appear. "
   ]
  },
  {
   "cell_type": "code",
   "execution_count": 4,
   "metadata": {
    "dotnet_interactive": {
     "language": "csharp"
    },
    "polyglot_notebook": {
     "kernelName": "csharp"
    },
    "vscode": {
     "languageId": "polyglot-notebook"
    }
   },
   "outputs": [
    {
     "name": "stdout",
     "output_type": "stream",
     "text": [
      "Here are five decision-making frameworks that can help enhance the quality of decisions by providing structure, clarity, and a systematic approach:\n",
      "\n",
      "---\n",
      "\n",
      "### 1. **OODA Loop (Observe, Orient, Decide, Act)**\n",
      "- **Description**: Developed by military strategist John Boyd, the OODA loop is a cyclical framework aimed at making quick, informed decisions in dynamic and uncertain environments.\n",
      "- **Steps**:\n",
      "  1. **Observe**: Gather information from the environment.\n",
      "  2. **Orient**: Analyze and process the information, contextualizing it based on prior experiences and current conditions.\n",
      "  3. **Decide**: Choose the best course of action based on the available information.\n",
      "  4. **Act**: Implement the decision rapidly.\n",
      "- **Use Case**: Ideal for time-sensitive decisions where adaptability is critical.\n",
      "\n",
      "---\n",
      "\n",
      "### 2. **Pros-Cons Analysis**\n",
      "- **Description**: A straightforward framework to identify the advantages and disadvantages of each decision option.\n",
      "- **Steps**:\n",
      "  1. List all possible options.\n",
      "  2. Write out the pros (benefits) and cons (costs/risks) for each one.\n",
      "  3. Weigh the relative importance of each pro and con to make an informed choice.\n",
      "- **Use Case**: Simple and effective for personal or professional decisions with well-defined trade-offs.\n",
      "\n",
      "---\n",
      "\n",
      "### 3. **Decision Matrix (Weighted Scoring Model)**\n",
      "- **Description**: A systematic approach for evaluating and prioritizing options by assigning weights to criteria and scoring each option.\n",
      "- **Steps**:\n",
      "  1. Define the decision criteria and assign a weight to each (based on importance).\n",
      "  2. List the options and give each option a score based on how well it meets the criteria.\n",
      "  3. Multiply scores by weights and sum them for each option to identify the optimal choice.\n",
      "- **Use Case**: Ideal for complex decisions involving multiple criteria, such as choosing among job offers or vendors.\n",
      "\n",
      "---\n",
      "\n",
      "### 4. **Six Thinking Hats**\n",
      "- **Description**: A method by Edward de Bono that encourages viewing a decision from multiple perspectives using six metaphorical \"hats.\"\n",
      "- **Steps**:\n",
      "  1. **White Hat**: Focus on facts and information.\n",
      "  2. **Red Hat**: Acknowledge emotions and gut feelings.\n",
      "  3. **Black Hat**: Assess risks and potential problems.\n",
      "  4. **Yellow Hat**: Emphasize optimism and benefits.\n",
      "  5. **Green Hat**: Explore creativity and alternative ideas.\n",
      "  6. **Blue Hat**: Maintain control of the process and big picture.\n",
      "- **Use Case**: Useful for team decision-making to ensure a balanced analysis from diverse perspectives.\n",
      "\n",
      "---\n",
      "\n",
      "### 5. **Cost-Benefit Analysis (CBA)**\n",
      "- **Description**: A classic economic decision-making tool that compares the costs and benefits of different options to determine the most efficient choice.\n",
      "- **Steps**:\n",
      "  1. Identify all potential costs and benefits for each option.\n",
      "  2. Quantify these costs and benefits (in monetary terms if possible).\n",
      "  3. Compare the net benefits (benefits minus costs) for each option.\n",
      "- **Use Case**: Best suited for decisions with measurable financial or resource-based impacts, like project investments or business initiatives.\n",
      "\n",
      "---\n",
      "\n",
      "By applying these frameworks consistently, you can approach decisions more thoughtfully, reduce biases, and achieve better outcomes."
     ]
    }
   ],
   "source": [
    "// Stream the chat completion response\n",
    "await foreach (var content in chatCompletionService.GetStreamingChatMessageContentsAsync(simpleDecisionPrompt))\n",
    "{\n",
    "    Console.Write(content);\n",
    "}"
   ]
  },
  {
   "cell_type": "markdown",
   "metadata": {},
   "source": [
    "### Step 4 - Execute Decision Chat Completion with a System Prompt & Chat History "
   ]
  },
  {
   "cell_type": "markdown",
   "metadata": {},
   "source": [
    "Semantic Kernel has a ChatHistory object that can be used with the ChatCompletionService to provide historical chat context to the LLM. Notice that the ChatHistory object differentiates between the different types of chat messages:\n",
    "* System Message - System or MetaPrompt. These are usually global instructions that set the \"overall rules\" for interacting with the LLMs.\n",
    "* User Message - A message from the user\n",
    "* Assistant Message - A message from the LLM. This is a message generated from an assistant or an agent. \n",
    "\n",
    "Identifying the messages from which role (user) it came from can help the LLM improve its own reasoning responses. This is a more sophisticated approach than passing chat history in a long dynamic string. ChatHistory objects can be serialized and persisted into databases as well."
   ]
  },
  {
   "cell_type": "code",
   "execution_count": null,
   "metadata": {
    "dotnet_interactive": {
     "language": "csharp"
    },
    "polyglot_notebook": {
     "kernelName": "csharp"
    },
    "vscode": {
     "languageId": "polyglot-notebook"
    }
   },
   "outputs": [
    {
     "name": "stdout",
     "output_type": "stream",
     "text": [
      "Below are five powerful decision frameworks that can help improve the quality of decisions by providing structured approaches to evaluate options, understand trade-offs, and account for unintended consequences:\n",
      "\n",
      "---\n",
      "\n",
      "### **1. Decision Matrix or Weighted Scoring Model**\n",
      "#### **Purpose**:\n",
      "To compare multiple options against a set of defined criteria, particularly when there are competing priorities.\n",
      "\n",
      "#### **How It Works**:\n",
      "1. **Define the Criteria**: Identify key factors that will influence the decision (e.g., cost, quality, timeliness, etc.).\n",
      "2. **Weight the Criteria**: Assign a weight to each criterion based on its importance.\n",
      "3. **Rate the Options**: Evaluate each option against the criteria and assign scores (e.g., a scale of 1–10).\n",
      "4. **Calculate the Weighted Scores**: Multiply the rating by the weight for each criterion, then sum the scores for each option.\n",
      "5. **Select the Best Option**: The option with the highest weighted score is the recommended choice.\n",
      "\n",
      "#### **When to Use**:\n",
      "- Comparing job offers, vendors, tools, or investments.\n",
      "- Balancing multiple priorities.\n",
      "\n",
      "---\n",
      "\n",
      "### **2. Cost-Benefit Analysis (CBA)**\n",
      "#### **Purpose**:\n",
      "To systematically evaluate the financial and non-financial costs and benefits of a decision.\n",
      "\n",
      "#### **How It Works**:\n",
      "1. **Identify Costs**: List all potential costs, both short-term and long-term, direct and indirect.\n",
      "2. **Identify Benefits**: List all potential benefits, including financial returns, productivity gains, and intangible rewards.\n",
      "3. **Quantify Costs and Benefits**: Assign a numerical value to both (even for qualitative factors, use an approximate value).\n",
      "4. **Compare and Decide**: Assess whether the benefits outweigh the costs. Rank options if needed.\n",
      "\n",
      "#### **When to Use**:\n",
      "- Deciding on large investments, new product launches, or policy changes.\n",
      "- Evaluating whether an action aligns with strategic objectives.\n",
      "\n",
      "---\n",
      "\n",
      "### **3. The OODA Loop (Observe, Orient, Decide, Act)**\n",
      "#### **Purpose**:\n",
      "To make quick, iterative decisions, especially in dynamic or uncertain environments.\n",
      "\n",
      "#### **How It Works**:\n",
      "1. **Observe**: Gather information from the environment.\n",
      "2. **Orient**: Analyze the data, assess threats/opportunities, and understand your position.\n",
      "3. **Decide**: Determine the best course of action based on available data.\n",
      "4. **Act**: Execute the decision swiftly, then repeat the cycle as conditions change.\n",
      "\n",
      "#### **When to Use**:\n",
      "- Crisis management or high-stakes decision-making (e.g., military, startups, or rapidly evolving markets).\n",
      "- Navigating uncertainty or competitive environments.\n",
      "\n",
      "---\n",
      "\n",
      "### **4. First Principles Thinking**\n",
      "#### **Purpose**:\n",
      "To break down complex problems and decisions by reducing them to their most basic, fundamental truths.\n",
      "\n",
      "#### **How It Works**:\n",
      "1. **Deconstruct**: Break the problem down into its basic elements.\n",
      "   - Ask: “What do we know to be inherently true?”\n",
      "2. **Challenge Assumptions**: Avoid relying on analogies or conventional wisdom.\n",
      "3. **Rebuild**: Use core truths to construct innovative, logical solutions.\n",
      "\n",
      "#### **When to Use**:\n",
      "- Tackling innovative challenges or developing breakthrough ideas.\n",
      "- Engineering or scientific domains where precision is required.\n",
      "- When rethinking entrenched business models or strategies.\n",
      "\n",
      "---\n",
      "\n",
      "### **5. Pros-Cons-Risks-Mitigations (PCRM) Framework**\n",
      "#### **Purpose**:\n",
      "To evaluate decisions based on their potential benefits, downsides, associated risks, and mitigations.\n",
      "\n",
      "#### **How It Works**:\n",
      "1. **List the Pros**: Identify all potential benefits and positive outcomes.\n",
      "2. **List the Cons**: Identify all drawbacks or negative consequences.\n",
      "3. **Assess Risks**: Analyze uncertainties or scenarios where the decision could lead to failure.\n",
      "4. **Define Mitigations**: Identify actions to reduce the likelihood or impact of risks.\n",
      "5. **Decide**: Balance the pros, cons, mitigations, and risk tolerance to reach a conclusion.\n",
      "\n",
      "#### **When to Use**:\n",
      "- Projects with uncertainty or downside risk (e.g., entering new markets, launching high-risk initiatives, product recalls).\n",
      "- Strategic planning or policy decisions.\n",
      "\n",
      "---\n",
      "\n",
      "### **How to Choose the Right Framework?**\n",
      "When choosing among these frameworks, consider:\n",
      "1. **Complexity**: If simplicity is key, the Decision Matrix or PCRM may be helpful. If you're solving deeper problems, First Principles Thinking might be better.\n",
      "2. **Time Sensitivity**: Use the OODA loop for fast-paced situations.\n",
      "3. **Quantification**: If decisions require financial insight or numeric comparisons, use CBA or the Decision Matrix.\n",
      "4. **Nature of Problem**: First Principles Thinking works for problem-solving; the Decision Matrix is best for ranking options.\n",
      "\n",
      "By applying these frameworks appropriately to your scenario, you can systematically enhance the quality of your decisions."
     ]
    }
   ],
   "source": [
    "// Set the overall system prompt to behave like a decision intelligence assistant (persona)\n",
    "var systemPrompt = \"\"\"\n",
    "You are a Decision Intelligence assistant. \n",
    "Assist the user in exploring options, reasoning through decisions, problem-solving, and applying systems thinking to various scenarios. \n",
    "Provide structured, logical, and comprehensive advice.\n",
    "\"\"\";\n",
    "\n",
    "// Simple instruction prompt to list 5 (five) decision frameworks this GenAI LLM is familiar with\n",
    "var simpleDecisionPrompt = \"\"\"\n",
    "Provide five Decision Frameworks that can help improve the quality of decisions.\n",
    "\"\"\";\n",
    "\n",
    "// Create a new chat history object with proper system and user message roles\n",
    "var chatHistory = new ChatHistory();\n",
    "chatHistory.AddSystemMessage(systemPrompt);\n",
    "chatHistory.AddUserMessage(simpleDecisionPrompt);\n",
    "\n",
    "var chatResponse = string.Empty;\n",
    "await foreach (var content in chatCompletionService.GetStreamingChatMessageContentsAsync(chatHistory))\n",
    "{\n",
    "    chatResponse += content;\n",
    "    Console.Write(content);\n",
    "}\n",
    "\n",
    "// Add the assistant's response to the chat history\n",
    "chatHistory.AddAssistantMessage(chatResponse);"
   ]
  },
  {
   "cell_type": "markdown",
   "metadata": {},
   "source": [
    "In the next step, an additional prompt instruction will be added to the chat history. From the 5 decision frameworks provided in the chat history, Generative AI is asked to recommed a framework best suited for the militaty intelligence community. Notice that the previous chat history is automatically provided to provide additional intelligence context. \n",
    "\n",
    "> \"Take time to deliberate, but when the time for action comes, stop thinking and go in.\"\n",
    ">\n",
    "> -- <cite>Napoleon Bornaparte (French Emporer and brilliant military mind)</cite>  "
   ]
  },
  {
   "cell_type": "code",
   "execution_count": 10,
   "metadata": {
    "dotnet_interactive": {
     "language": "csharp"
    },
    "polyglot_notebook": {
     "kernelName": "csharp"
    },
    "vscode": {
     "languageId": "polyglot-notebook"
    }
   },
   "outputs": [
    {
     "name": "stdout",
     "output_type": "stream",
     "text": [
      "The best decision framework for the military intelligence community is **The OODA Loop (Observe, Orient, Decide, Act)**.\n",
      "\n",
      "### **Why the OODA Loop?**\n",
      "1. **Dynamic Environments**:\n",
      "   - The military intelligence domain operates in high-stakes, rapidly changing environments where decisions must often be made with incomplete or evolving information.\n",
      "   - The OODA Loop is designed to handle uncertainty and adapt to fluid circumstances by allowing continuous observation and realignment as new data emerges.\n",
      "\n",
      "2. **Iterative and Strategic**:\n",
      "   - Intelligence work involves constant monitoring of adversaries, reassessing situational awareness, and responding to real-time developments such as troop movements, technological shifts, and geopolitical changes.\n",
      "   - The iterative cycle of OODA ensures decisions remain relevant and adjustable as conditions change.\n",
      "\n",
      "3. **Speed and Agility**:\n",
      "   - Military intelligence often relies on acting faster than an adversary to exploit timing advantages and disrupt their decision-making process (\"getting inside their OODA loop\").\n",
      "   - The OODA Loop emphasizes speed and precision, which are vital in defense operations.\n",
      "\n",
      "4. **Integration with Intelligence Gathering**:\n",
      "   - Intelligence operations require observing patterns (watching the adversary), orienting to context (analyzing risks and opportunities), deciding on the best action (based on trade-offs and predictions), and acting efficiently (e.g., deploying resources or passing actionable intelligence to forces on the ground).\n",
      "   - This mirrors the OODA Loop's process.\n",
      "\n",
      "---\n",
      "\n",
      "### **Limitations and Mitigation**:\n",
      "While the OODA Loop is excellent for agility, it works best when paired with longer-term, more strategic frameworks (e.g., Cost-Benefit Analysis) for decisions that involve long-term planning. However, as an operational framework for real-time intelligence work, it is unmatched in fostering responsiveness and adaptability.\n",
      "\n",
      "### **Conclusion**:\n",
      "For the military intelligence community—where real-time situational awareness, agility, and adaptability are crucial—the **OODA Loop** is the single best-suited decision framework."
     ]
    }
   ],
   "source": [
    "// Note: No reference is made to what previous frameworks were listed.\n",
    "// Note: Previous context is maintained by the Semantic Kernel ChatHistory object \n",
    "var simpleDecisionPromptFollowupQuestionPartTwo = \"\"\"\n",
    "Which of the 5 decision frameworks listed above is best suited for the military intelligence community? \n",
    "Select only the single best one. \n",
    "\"\"\";\n",
    "\n",
    "// Add User message to the chat history\n",
    "chatHistory.AddUserMessage(simpleDecisionPromptFollowupQuestionPartTwo);\n",
    "\n",
    "var chatResponse = string.Empty;\n",
    "await foreach (var content in chatCompletionService.GetStreamingChatMessageContentsAsync(chatHistory))\n",
    "{\n",
    "    chatResponse += content;\n",
    "    Console.Write(content);\n",
    "}\n",
    "\n",
    "// Add Assistant message to the chat history\n",
    "chatHistory.AddAssistantMessage(chatResponse);"
   ]
  },
  {
   "cell_type": "markdown",
   "metadata": {},
   "source": [
    "### Step 5 - Execute Decision Chat History with a Decision Conversation Scenario "
   ]
  },
  {
   "cell_type": "markdown",
   "metadata": {},
   "source": [
    "> \"Price is what you pay. Value is what you get.\"  \n",
    ">\n",
    "> -- <cite>Warren Buffet (one of the most successful investors of all time)</cite>  "
   ]
  },
  {
   "cell_type": "markdown",
   "metadata": {},
   "source": [
    "With Semantic Kernel maintaining state with the ChatHistory object, the natural converation between user and AI can be persisted for future use. It can be saved for future reference, it can be replayed, it can be forked in certain spots to try different scenarios, it can be used as a starting point for other conversations etc. \n",
    "\n",
    "In the scenario below, let's build a multi-turn conversation about a decision over a purchase for a fitness tracker. Notice that each turn the appropriate Chat History roles are populated with the appropriate prompts and assistant (AI) responses. This in effect acts as the Gathering Intelligence step of the Decision Intelligence framework as the conversation information has been persisted and can be re-used as context for the decision scenario."
   ]
  },
  {
   "cell_type": "code",
   "execution_count": 23,
   "metadata": {
    "dotnet_interactive": {
     "language": "csharp"
    },
    "polyglot_notebook": {
     "kernelName": "csharp"
    },
    "vscode": {
     "languageId": "polyglot-notebook"
    }
   },
   "outputs": [],
   "source": [
    "// Set the overall system prompt to behave like a decision intelligence assistant (persona)\n",
    "var systemPromptDecisionConversation = \"\"\"\n",
    "You are a Decision Intelligence assistant. \n",
    "Assist the user in exploring options, reasoning through decisions, problem-solving, and applying systems thinking to various scenarios. \n",
    "Provide structured, logical, and comprehensive advice.\n",
    "\"\"\";\n",
    "\n",
    "// User prompt to start a decision conversation about buying a fitness tracker\n",
    "var userPromptDecisionConversationTurn1 = \"\"\"\n",
    "I am considering buying a fitness tracker but I am not sure which features really matter. \n",
    "Could you explain the main considerations? \n",
    "\"\"\";\n",
    "\n",
    "var assistantResponseDecisionConversationTurn1 = \"\"\"\n",
    "Absolutely! Key considerations for choosing a fitness tracker often include: \n",
    "- Fitness Features (e.g., step counting, heart-rate monitoring, workout tracking)\n",
    "- Health Monitoring (like sleep tracking or advanced ECG capabilities)\n",
    "- Battery Life\n",
    "- Comfort and Fit\n",
    "- Compatibility with your smartphone's operating system\n",
    "- Price Range\n",
    "- Knowing which of these you value most will help narrow down your options.\n",
    "\"\"\";\n",
    "\n",
    "var userPromptDecisionConversationTurn2 = \"\"\"\n",
    "Got it. Battery life and sleep tracking are both important to me. \n",
    "What's a typical battery life range for trackers, and how good is their sleep tracking?\n",
    "\"\"\";\n",
    "\n",
    "var assistantResponseDecisionConversationTurn2 = \"\"\"\n",
    "Different fitness trackers have varying battery lives, typically anywhere from 2-3 days (for more feature-rich or bright-display devices) \n",
    "up to about 10-14 days (for more minimalist trackers). \n",
    "\n",
    "Regarding sleep tracking:\n",
    "- Many modern devices can track different sleep stages (light, deep, REM).\n",
    "- High-end devices even track breathing rate and oxygen saturation during the night.\n",
    "- Some also offer insights about sleep quality and tips for improvement.\n",
    "\n",
    "If battery life is a priority, you may want to consider trackers with a more conservative display and fewer power-hungry features.\n",
    "\"\"\";\n",
    "\n",
    "var userPromptDecisionConversationTurn3 = \"\"\"\n",
    "Are there any popular models you would recommend for that balance of battery life and sleep tracking?\n",
    "\"\"\";\n",
    "\n",
    "var assistantResponseDecisionConversationTurn3 = \"\"\"\n",
    "Popular options that strike a balance between robust sleep tracking and good battery life include:\n",
    "- Fitbit Inspire 3 or Fitbit Charge 5: Both have solid sleep tracking, multi-day battery, and strong app support.\n",
    "- Garmin Vivosmart 5: Offers decent fitness and sleep insights, plus better-than-average battery life.\n",
    "- Xiaomi Mi Band 7: Budget-friendly, surprisingly robust health metrics, and a long-lasting battery.\n",
    "\n",
    "Each varies in price and features, so consider your budget and the specific metrics you’d like to track.\n",
    "\"\"\";\n",
    "\n",
    "var userPromptDecisionConversationTurn4 = \"\"\"\n",
    "That is great infor. \n",
    "I also have a friend who said I should consider an Apple Watch. \n",
    "Does that have comparable battery life and sleep tracking?\n",
    "\"\"\";\n",
    "\n",
    "var assistantResponseDecisionConversationTurn4 = \"\"\"\n",
    "The Apple Watch is known for its extensive feature set, including advanced health monitoring, \n",
    "but its battery life tends to be shorter—usually around 18-24 hours on a single charge \n",
    "(or possibly a bit more in low-power mode). While its sleep tracking features have improved over time, \n",
    "you might find you need to charge it daily or almost daily, which could conflict with your goal of 24/7 tracking. \n",
    "\"\"\";\n",
    "\n",
    "// Create a new chat history with a multi-turn conversation about buying a fitness tracker\n",
    "var chatHistoryDecisionConversation = new ChatHistory();\n",
    "chatHistoryDecisionConversation.AddSystemMessage(systemPromptDecisionConversation);\n",
    "chatHistoryDecisionConversation.AddUserMessage(userPromptDecisionConversationTurn1);\n",
    "chatHistoryDecisionConversation.AddAssistantMessage(assistantResponseDecisionConversationTurn1);\n",
    "chatHistoryDecisionConversation.AddUserMessage(userPromptDecisionConversationTurn2);\n",
    "chatHistoryDecisionConversation.AddAssistantMessage(assistantResponseDecisionConversationTurn2);\n",
    "chatHistoryDecisionConversation.AddUserMessage(userPromptDecisionConversationTurn3);\n",
    "chatHistoryDecisionConversation.AddAssistantMessage(assistantResponseDecisionConversationTurn3);\n",
    "chatHistoryDecisionConversation.AddUserMessage(userPromptDecisionConversationTurn4);\n",
    "chatHistoryDecisionConversation.AddAssistantMessage(assistantResponseDecisionConversationTurn4);\n"
   ]
  },
  {
   "cell_type": "markdown",
   "metadata": {},
   "source": [
    "Using the above conversation as the \"Gathered Intelligence\" betweeen the user and the AI assistant, let's make a final decision and ask for final feedback and a decision evaluation. "
   ]
  },
  {
   "cell_type": "code",
   "execution_count": 24,
   "metadata": {
    "dotnet_interactive": {
     "language": "csharp"
    },
    "polyglot_notebook": {
     "kernelName": "csharp"
    },
    "vscode": {
     "languageId": "polyglot-notebook"
    }
   },
   "outputs": [
    {
     "name": "stdout",
     "output_type": "stream",
     "text": [
      "That sounds like a well-reasoned choice! The Fitbit Inspire 3 should align well with your priorities of battery life and sleep tracking. Here's why your decision makes sense:  \n",
      "\n",
      "1. **Battery Life**: The Inspire 3 offers up to **10 days** of battery life, minimizing the frequency of charging and allowing for consistent 24/7 tracking.  \n",
      "2. **Sleep Tracking**: Fitbit is a leader in sleep tracking, providing insights on sleep stages (light, deep, REM) and a **Sleep Score** to help you monitor and improve your sleep quality.  \n",
      "3. **Budget-Friendliness**: It's one of the more affordable Fitbit devices while still offering great core features.  \n",
      "4. **Comfort & Simplicity**: Slim and lightweight—perfect for all-day wear, whether you're working out or sleeping.\n",
      "\n",
      "### Final Recommendations:\n",
      "- Take advantage of Fitbit’s app: It offers useful data visualizations around your health and sleep trends.  \n",
      "- Explore the **free vs. premium subscription**: Start with the free version to see if you need the additional insights from Fitbit Premium.  \n",
      "- Ensure compatibility: Double-check that your phone’s operating system (iOS or Android) syncs smoothly with the Fitbit app.\n",
      "\n",
      "You’ve applied logical prioritization to your decision—well done! Enjoy your new fitness tracker and the insights it’ll bring into your health journey."
     ]
    }
   ],
   "source": [
    "var userPromptDecisionConversationFinalDecision = \"\"\"\n",
    "Thank you for all of that information, I think I'll go with a Fitbit. \n",
    "The Fitbit Inspire 3 seems like a good fit for my budget and needs. \n",
    "Any quick final thoughts on my decision? \n",
    "\"\"\";\n",
    "\n",
    "// Add User message to the chat history\n",
    "chatHistoryDecisionConversation.AddUserMessage(userPromptDecisionConversationFinalDecision);\n",
    "\n",
    "var chatResponse = string.Empty;\n",
    "await foreach (var content in chatCompletionService.GetStreamingChatMessageContentsAsync(chatHistoryDecisionConversation))\n",
    "{\n",
    "    chatResponse += content;\n",
    "    Console.Write(content);\n",
    "}"
   ]
  },
  {
   "cell_type": "markdown",
   "metadata": {},
   "source": [
    "### Step 6 - Semantic Kernel inspecting Gathered Intelligence of Chat History "
   ]
  },
  {
   "cell_type": "markdown",
   "metadata": {},
   "source": [
    "The Semantic Kernel Chat History is a transparent construct that can be inspected and written out. In fact, the ChatHistory object can be manipulated to replay chats from middle interactions to simulate different outcomes.\n",
    "\n",
    "Execute the cell below to write out the Semantic Kernel Chat History of this chat."
   ]
  },
  {
   "cell_type": "code",
   "execution_count": 27,
   "metadata": {
    "dotnet_interactive": {
     "language": "csharp"
    },
    "polyglot_notebook": {
     "kernelName": "csharp"
    },
    "vscode": {
     "languageId": "polyglot-notebook"
    }
   },
   "outputs": [
    {
     "name": "stdout",
     "output_type": "stream",
     "text": [
      "Number of chat interactions: 10\n",
      "\n",
      "# SYSTEM: You are a Decision Intelligence assistant. \n",
      "Assist the user in exploring options, reasoning through decisions, problem-solving, and applying systems thinking to various scenarios. \n",
      "Provide structured, logical, and comprehensive advice.\n",
      "\n",
      "# USER: I am considering buying a fitness tracker but I am not sure which features really matter. \n",
      "Could you explain the main considerations? \n",
      "\n",
      "# ASSISTANT: Absolutely! Key considerations for choosing a fitness tracker often include: \n",
      "- Fitness Features (e.g., step counting, heart-rate monitoring, workout tracking)\n",
      "- Health Monitoring (like sleep tracking or advanced ECG capabilities)\n",
      "- Battery Life\n",
      "- Comfort and Fit\n",
      "- Compatibility with your smartphone's operating system\n",
      "- Price Range\n",
      "- Knowing which of these you value most will help narrow down your options.\n",
      "\n",
      "# USER: Got it. Battery life and sleep tracking are both important to me. \n",
      "What's a typical battery life range for trackers, and how good is their sleep tracking?\n",
      "\n",
      "# ASSISTANT: Different fitness trackers have varying battery lives, typically anywhere from 2-3 days (for more feature-rich or bright-display devices) \n",
      "up to about 10-14 days (for more minimalist trackers). \n",
      "\n",
      "Regarding sleep tracking:\n",
      "- Many modern devices can track different sleep stages (light, deep, REM).\n",
      "- High-end devices even track breathing rate and oxygen saturation during the night.\n",
      "- Some also offer insights about sleep quality and tips for improvement.\n",
      "\n",
      "If battery life is a priority, you may want to consider trackers with a more conservative display and fewer power-hungry features.\n",
      "\n",
      "# USER: Are there any popular models you would recommend for that balance of battery life and sleep tracking?\n",
      "\n",
      "# ASSISTANT: Popular options that strike a balance between robust sleep tracking and good battery life include:\n",
      "- Fitbit Inspire 3 or Fitbit Charge 5: Both have solid sleep tracking, multi-day battery, and strong app support.\n",
      "- Garmin Vivosmart 5: Offers decent fitness and sleep insights, plus better-than-average battery life.\n",
      "- Xiaomi Mi Band 7: Budget-friendly, surprisingly robust health metrics, and a long-lasting battery.\n",
      "\n",
      "Each varies in price and features, so consider your budget and the specific metrics you’d like to track.\n",
      "\n",
      "# USER: That is great infor. \n",
      "I also have a friend who said I should consider an Apple Watch. \n",
      "Does that have comparable battery life and sleep tracking?\n",
      "\n",
      "# ASSISTANT: The Apple Watch is known for its extensive feature set, including advanced health monitoring, \n",
      "but its battery life tends to be shorter—usually around 18-24 hours on a single charge \n",
      "(or possibly a bit more in low-power mode). While its sleep tracking features have improved over time, \n",
      "you might find you need to charge it daily or almost daily, which could conflict with your goal of 24/7 tracking. \n",
      "\n",
      "# USER: Thank you for all of that information, I think I'll go with a Fitbit. \n",
      "The Fitbit Inspire 3 seems like a good fit for my budget and needs. \n",
      "Any quick final thoughts on my decision? \n"
     ]
    }
   ],
   "source": [
    "// Print the number of chat interactions and the chat history (turns)\n",
    "Console.WriteLine(\"Number of chat interactions: \" + chatHistoryDecisionConversation.Count());\n",
    "\n",
    "foreach (var message in chatHistoryDecisionConversation)\n",
    "{\n",
    "    Console.WriteLine(string.Empty);\n",
    "    Console.WriteLine($\"# {message.Role.ToString().ToUpper()}: {message.Content}\");\n",
    "}"
   ]
  }
 ],
 "metadata": {
  "kernelspec": {
   "display_name": ".NET (C#)",
   "language": "C#",
   "name": ".net-csharp"
  },
  "language_info": {
   "name": "csharp"
  },
  "polyglot_notebook": {
   "kernelInfo": {
    "defaultKernelName": "csharp",
    "items": [
     {
      "aliases": [],
      "name": "csharp"
     }
    ]
   }
  }
 },
 "nbformat": 4,
 "nbformat_minor": 2
}
