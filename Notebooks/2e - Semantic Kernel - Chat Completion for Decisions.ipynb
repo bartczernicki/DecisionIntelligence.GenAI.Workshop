{
 "cells": [
  {
   "cell_type": "markdown",
   "metadata": {},
   "source": [
    "<div style=\"display: flex; align-items: center;\">\n",
    "  <img src=\"https://raw.githubusercontent.com/bartczernicki/DecisionIntelligence.GenAI.Workshop/main/Images/SemanticKernelLogo.png\" width=\"40px\" style=\"margin-right: 10px;\">\n",
    "  <span style=\"font-size: 1.5em; font-weight: bold;\">Semantic Kernel - Chat Completion for Decisions</span>\n",
    "</div>"
   ]
  },
  {
   "cell_type": "markdown",
   "metadata": {},
   "source": [
    "Decision Intelligence applied in this module:  \n",
    "* Listing of various decision-making frameworks and with their descriptions by using Chat Completion  \n",
    "* Decision Scenario: Recommendation of a decision-making framework for specific higher-stakes decisions (purchase of a car)  \n",
    "* Illustrating a domain specific decision-making framework (millitary intelligence)  \n"
   ]
  },
  {
   "cell_type": "markdown",
   "metadata": {},
   "source": [
    "In this module, the Semantic Kernel ability to create a chat experience will be introduced. This is a much richer experience than just sending simple prompts that are stateless and context is forgotten.\n",
    "\n",
    "Semantic Kernel has first-class support for chat scenarios, where the user talks back and forth with the LLM, the arguments get populated with the history of the conversation. During each new run of the kernel, the arguments will be provided to the AI with content. This allows the LLM to know the historical context of the conversation."
   ]
  },
  {
   "cell_type": "markdown",
   "metadata": {},
   "source": [
    "----\n",
    "### Step 1 - Initialize Configuration Builder & Build the Semantic Kernel Orchestration"
   ]
  },
  {
   "cell_type": "markdown",
   "metadata": {},
   "source": [
    "Execute the next two cells to:\n",
    "* Use the Configuration Builder to load the API secrets.  \n",
    "* Use the API configuration to build the Semantic Kernel orchestrator."
   ]
  },
  {
   "cell_type": "code",
   "execution_count": 6,
   "metadata": {
    "dotnet_interactive": {
     "language": "csharp"
    },
    "polyglot_notebook": {
     "kernelName": "csharp"
    }
   },
   "outputs": [
    {
     "data": {
      "text/html": [
       "<div><div></div><div></div><div><strong>Installed Packages</strong><ul><li><span>Microsoft.Extensions.Configuration, 9.0.9</span></li><li><span>Microsoft.Extensions.Configuration.Json, 9.0.9</span></li></ul></div></div>"
      ]
     },
     "metadata": {},
     "output_type": "display_data"
    }
   ],
   "source": [
    "// Import the required NuGet configuration packages\n",
    "#r \"nuget: Microsoft.Extensions.Configuration, 9.0.9\"\n",
    "#r \"nuget: Microsoft.Extensions.Configuration.Json, 9.0.9\"\n",
    "\n",
    "using Microsoft.Extensions.Configuration.Json;\n",
    "using Microsoft.Extensions.Configuration;\n",
    "using System.IO;\n",
    "\n",
    "// Load the configuration settings from the local.settings.json and secrets.settings.json files\n",
    "// The secrets.settings.json file is used to store sensitive information such as API keys\n",
    "var configurationBuilder = new ConfigurationBuilder()\n",
    "    .SetBasePath(Directory.GetCurrentDirectory())\n",
    "    .AddJsonFile(\"local.settings.json\", optional: true, reloadOnChange: true)\n",
    "    .AddJsonFile(\"secrets.settings.json\", optional: true, reloadOnChange: true);\n",
    "var config = configurationBuilder.Build();\n",
    "\n",
    "// IMPORTANT: You ONLY NEED either Azure OpenAI or OpenAI connectiopn info, not both.\n",
    "// Azure OpenAI Connection Info\n",
    "var azureOpenAIEndpoint = config[\"AzureOpenAI:Endpoint\"];\n",
    "var azureOpenAIAPIKey = config[\"AzureOpenAI:APIKey\"];\n",
    "var azureOpenAIModelDeploymentName = config[\"AzureOpenAI:ModelDeploymentName\"];\n",
    "// OpenAI Connection Info \n",
    "var openAIAPIKey = config[\"OpenAI:APIKey\"];\n",
    "var openAIModelId = config[\"OpenAI:ModelId\"];"
   ]
  },
  {
   "cell_type": "code",
   "execution_count": 7,
   "metadata": {
    "dotnet_interactive": {
     "language": "csharp"
    },
    "polyglot_notebook": {
     "kernelName": "csharp"
    }
   },
   "outputs": [
    {
     "data": {
      "text/html": [
       "<div><div></div><div></div><div><strong>Installed Packages</strong><ul><li><span>Microsoft.Extensions.DependencyInjection, 9.0.9</span></li><li><span>Microsoft.SemanticKernel, 1.65.0</span></li></ul></div></div>"
      ]
     },
     "metadata": {},
     "output_type": "display_data"
    },
    {
     "name": "stdout",
     "output_type": "stream",
     "text": [
      "Using Azure OpenAI Service\n"
     ]
    }
   ],
   "source": [
    "// Install the required NuGet packages\n",
    "// Note: This also installs the Dependency Injection Package to retrieve the ChatCompletionService\n",
    "#r \"nuget: Microsoft.Extensions.DependencyInjection, 9.0.9\"\n",
    "#r \"nuget: Microsoft.SemanticKernel, 1.65.0\"\n",
    "\n",
    "using Microsoft.Extensions.DependencyInjection.Extensions;\n",
    "using Microsoft.Extensions.DependencyInjection;\n",
    "using Microsoft.SemanticKernel;\n",
    "using Microsoft.SemanticKernel.ChatCompletion;\n",
    "using Microsoft.SemanticKernel.Connectors.AzureOpenAI;\n",
    "using Microsoft.SemanticKernel.Connectors.OpenAI;\n",
    "\n",
    "\n",
    "Kernel semanticKernel;\n",
    "\n",
    "// Set the flag to use Azure OpenAI or OpenAI. False to use OpenAI, True to use Azure OpenAI\n",
    "var useAzureOpenAI = true;\n",
    "\n",
    "// Create a new Semantic Kernel instance\n",
    "if (useAzureOpenAI)\n",
    "{\n",
    "    Console.WriteLine(\"Using Azure OpenAI Service\");\n",
    "    semanticKernel = Kernel.CreateBuilder()\n",
    "        .AddAzureOpenAIChatCompletion(\n",
    "            deploymentName: azureOpenAIModelDeploymentName,\n",
    "            endpoint: azureOpenAIEndpoint,\n",
    "            apiKey: azureOpenAIAPIKey)\n",
    "        .Build();\n",
    "}\n",
    "else\n",
    "{\n",
    "    Console.WriteLine(\"Using OpenAI Service\");\n",
    "    semanticKernel = Kernel.CreateBuilder()\n",
    "        .AddOpenAIChatCompletion(\n",
    "            modelId: openAIModelId,\n",
    "            apiKey: openAIAPIKey)\n",
    "        .Build();\n",
    "}\n",
    "\n",
    "var chatCompletionService = semanticKernel.Services.GetRequiredService<IChatCompletionService>();"
   ]
  },
  {
   "cell_type": "markdown",
   "metadata": {},
   "source": [
    "### Step 2 - Execute Decision Chat Completion with Prompt Execution Settings "
   ]
  },
  {
   "cell_type": "markdown",
   "metadata": {},
   "source": [
    "> 📜 **_\"If you can’t describe what you are doing as a process, you don’t know what you’re doing.\"_** \n",
    ">\n",
    "> -- <cite>W. Edwards Deming (renowned American engineer, statistician, and management consultant)</cite>  \n",
    "\n",
    "\n",
    "Using the Semantic Kernel ChatCompletion service is very similar to inovoking a prompt for basic LLM interactions. The chat completion service will provide very similar results to invoking the prompt directly."
   ]
  },
  {
   "cell_type": "code",
   "execution_count": 8,
   "metadata": {
    "dotnet_interactive": {
     "language": "csharp"
    },
    "polyglot_notebook": {
     "kernelName": "csharp"
    }
   },
   "outputs": [
    {
     "data": {
      "text/markdown": [
       "### Five decision frameworks to improve decision quality\n",
       "\n",
       "Below are five practical frameworks, each with a short description, when to use it, core steps, and quick pros/cons to help you pick the right one for a situation.\n",
       "\n",
       "\n",
       "#### 1) Weighted Decision Matrix (a.k.a. Multi-criteria Decision Analysis)\n",
       "\n",
       "What it is: A structured way to compare options by scoring them against weighted criteria.\n",
       "\n",
       "When to use: When you must choose between multiple alternatives with several different, measurable criteria.\n",
       "\n",
       "Core steps:\n",
       "- List options and the decision criteria.\n",
       "- Assign weights to criteria by importance.\n",
       "- Score each option on each criterion (e.g., 1–10).\n",
       "- Multiply scores by weights and sum to get weighted totals.\n",
       "- Compare totals and perform sensitivity checks.\n",
       "\n",
       "Pros:\n",
       "- Makes trade-offs explicit and repeatable.\n",
       "- Good for group decisions and prioritization.\n",
       "\n",
       "Limitations:\n",
       "- Scores and weights can be subjective; require calibration.\n",
       "\n",
       "\n",
       "  \n",
       "\n",
       "#### 2) Cost–Benefit Analysis with Expected Value / Probability\n",
       "\n",
       "What it is: Quantifies benefits and costs and uses probabilities to handle uncertainty (expected value).\n",
       "\n",
       "When to use: For choices with measurable costs/benefits and uncertain outcomes, especially investments or policy decisions.\n",
       "\n",
       "Core steps:\n",
       "- Enumerate possible outcomes for each option.\n",
       "- Estimate monetary (or utility) costs and benefits for each outcome.\n",
       "- Assign probabilities to outcomes.\n",
       "- Calculate expected value (sum of value × probability).\n",
       "- Compare expected values and consider decision rules (max EV, risk tolerance).\n",
       "\n",
       "Pros:\n",
       "- Brings uncertainty and scale into the comparison.\n",
       "- Useful for rational, repeatable decisions.\n",
       "\n",
       "Limitations:\n",
       "- Requires reasonable probability and value estimates; sensitive to these inputs.\n",
       "\n",
       "\n",
       "  \n",
       "\n",
       "#### 3) Pre-mortem\n",
       "\n",
       "What it is: A prospective analysis where team members imagine a future failure and generate reasons why it happened.\n",
       "\n",
       "When to use: Before launching a project or major change to uncover hidden risks and fixable flaws.\n",
       "\n",
       "Core steps:\n",
       "- Assemble the decision team before implementation.\n",
       "- Assume the project failed spectacularly; ask “Why?”\n",
       "- Collect many failure causes from participants independently.\n",
       "- Prioritize and create mitigation actions for the most plausible causes.\n",
       "- Reassess decision with mitigations in place.\n",
       "\n",
       "Pros:\n",
       "- Surface issues that optimism and groupthink hide.\n",
       "- Quick, low-cost way to improve resilience.\n",
       "\n",
       "Limitations:\n",
       "- Not a substitute for quantitative analysis; depends on candid participation.\n",
       "\n",
       "\n",
       "  \n",
       "\n",
       "#### 4) OODA Loop (Observe, Orient, Decide, Act)\n",
       "\n",
       "What it is: A rapid decision cycle for situations that require speed and adaptability.\n",
       "\n",
       "When to use: In fast-changing environments (operations, crisis response, competitive moves) where feedback loops matter.\n",
       "\n",
       "Core steps:\n",
       "- Observe: gather current data and changes.\n",
       "- Orient: interpret observations, update mental models.\n",
       "- Decide: pick the best short-term action.\n",
       "- Act: execute and then immediately observe results to iterate.\n",
       "\n",
       "Pros:\n",
       "- Encourages agility and continuous learning.\n",
       "- Helps outpace competitors or adapt to disruptions.\n",
       "\n",
       "Limitations:\n",
       "- Less suited to highly complex decisions requiring deep analysis; can encourage hasty choices if misapplied.\n",
       "\n",
       "\n",
       "  \n",
       "\n",
       "#### 5) Eisenhower Matrix (Urgent vs. Important)\n",
       "\n",
       "What it is: A prioritization grid that separates tasks into four quadrants by urgency and importance.\n",
       "\n",
       "When to use: For personal and team task prioritization and time-management decisions.\n",
       "\n",
       "Core steps:\n",
       "- Classify tasks into: (A) Important & Urgent, (B) Important & Not Urgent, (C) Not Important & Urgent, (D) Not Important & Not Urgent.\n",
       "- Do A immediately; schedule B; delegate C; eliminate D.\n",
       "- Revisit regularly and reclassify as context changes.\n",
       "\n",
       "Pros:\n",
       "- Simple and fast way to focus on high-impact activities.\n",
       "- Reduces firefighting and supports strategic work.\n",
       "\n",
       "Limitations:\n",
       "- Doesn’t address complex trade-offs across projects; subjective classification.\n",
       "\n",
       "\n",
       "  \n",
       "\n",
       "If you want, I can: apply one of these frameworks to a decision you’re facing, provide a template (e.g., a weighted matrix spreadsheet), or suggest when to combine two frameworks for better results. Which would you like?"
      ]
     },
     "metadata": {},
     "output_type": "display_data"
    }
   ],
   "source": [
    "// Simple prompt to list some decision frameworks this GenAI LLM is familiar with \n",
    "// LLMs are trained on a diverse range of data and can provide insights on a wide range of topics like decision frameworks\n",
    "// SLMS (smaller LLMs) are trained on a more specific range of data and may not provide insights on all topics\n",
    "var simpleDecisionPrompt = \"\"\"\n",
    "Provide a list of 5 decision frameworks that can help improve the quality of decisions.\n",
    "\n",
    "Output Format Instructions:\n",
    "When generating Markdown, do not use any headings higher than ###. \n",
    "Avoid # and ## headers. Use only ###, ####, or lower-level headings if necessary. \n",
    "All top-level section headers should start at ### or lower. \n",
    "Never use ---, ***, or ___ for horizontal lines. There should be no horizontal lines in the output.\n",
    "For separation, use extra extra spacing. Do not any render horizontal lines.\n",
    "\"\"\";\n",
    "\n",
    "PromptExecutionSettings promptExecutionSettings = new();\n",
    "\n",
    "if (useAzureOpenAI)\n",
    "{\n",
    "    // Create a new Azure OpenAI Prompt Execution settings object\n",
    "    #pragma warning disable SKEXP0010\n",
    "    promptExecutionSettings = new AzureOpenAIPromptExecutionSettings { \n",
    "        SetNewMaxCompletionTokensEnabled = true,\n",
    "        MaxTokens = 1500,\n",
    "        // Uncomment if using a model that supports temperature, GPT-5 models do not support temperature (other than GPT-5-Chat)\n",
    "        // Temperature = 0.3,\n",
    "        TopP = 1.0, \n",
    "        FrequencyPenalty = 0.0, \n",
    "        PresencePenalty = 0.0\n",
    "        };\n",
    "}\n",
    "else\n",
    "{\n",
    "    // Create a new OpenAI Prompt Execution settings object\n",
    "    promptExecutionSettings = new OpenAIPromptExecutionSettings { \n",
    "        // Uncomment if using a model that supports temperature, GPT-5 models do not support temperature (other than GPT-5-Chat)\n",
    "        // Temperature = 0.3,\n",
    "        TopP = 1.0, \n",
    "        FrequencyPenalty = 0.0, \n",
    "        PresencePenalty = 0.0\n",
    "        };\n",
    "}\n",
    "\n",
    "// Execute the chat completion request using the prompt and settings defined above\n",
    "var chatResult = await chatCompletionService.GetChatMessageContentAsync(simpleDecisionPrompt, promptExecutionSettings);\n",
    "\n",
    "// Display the result of the chat completion request as Markdown\n",
    "chatResult.Content.DisplayAs(\"text/markdown\");"
   ]
  },
  {
   "cell_type": "markdown",
   "metadata": {},
   "source": [
    "----\n",
    "### Step 3 - Execute Decision Chat Completion with Streaming "
   ]
  },
  {
   "cell_type": "markdown",
   "metadata": {},
   "source": [
    "Semantic Kernel supports prompt response streaming in the ChatCompletionService. This allows responses to be streamed to the client as soon as they are made available by the LLM and API services. Below the same decision prompt is executed. However, notice that chunks are streamed and can be read by the user as soon as they appear. "
   ]
  },
  {
   "cell_type": "code",
   "execution_count": 10,
   "metadata": {
    "dotnet_interactive": {
     "language": "csharp"
    },
    "polyglot_notebook": {
     "kernelName": "csharp"
    }
   },
   "outputs": [
    {
     "name": "stdout",
     "output_type": "stream",
     "text": [
      "### Five decision frameworks to improve decision quality\n",
      "\n",
      "\n",
      "#### 1. Weighted scoring model (Multi‑criteria decision analysis)\n",
      "- What it is: List options, define decision criteria, assign weights to criteria by importance, score each option against criteria, compute weighted totals.\n",
      "- Key steps: choose criteria → assign weights (sum = 1) → score options (e.g., 0–10) → multiply & sum → rank.\n",
      "- When to use: comparing multiple alternatives with conflicting objectives (e.g., vendors, product features).\n",
      "- Strengths: transparent, repeatable, helps quantify tradeoffs and document rationale.\n",
      "- Limitations: sensitive to chosen weights/scores; still relies on judgment.\n",
      "\n",
      "  \n",
      "\n",
      "#### 2. Decision trees and expected value\n",
      "- What it is: A graphical model mapping choices, uncertain outcomes, probabilities, and payoffs; compute expected values to choose the best option.\n",
      "- Key steps: draw tree → estimate branches and probabilities → estimate payoffs/costs → compute expected value → consider risk and sensitivity.\n",
      "- When to use: decisions with clear probabilistic outcomes and quantifiable payoffs (investments, project go/no-go).\n",
      "- Strengths: makes uncertainties explicit; supports quantitative comparison and sensitivity analysis.\n",
      "- Limitations: needs reasonable probability/utility estimates; can get complex for many branches.\n",
      "\n",
      "  \n",
      "\n",
      "#### 3. Bayesian updating (belief revision)\n",
      "- What it is: Start with prior beliefs, collect data/observations, update beliefs using Bayes’ rule to form a posterior, make decisions based on updated beliefs and utilities.\n",
      "- Key steps: articulate priors → gather evidence → update numerically or qualitatively → choose action given updated beliefs.\n",
      "- When to use: sequential decisions where new evidence arrives (clinical diagnosis, A/B testing, forecasting).\n",
      "- Strengths: formal way to incorporate new data and reduce bias over time.\n",
      "- Limitations: requires priors and likelihoods (can be subjective); computational complexity for large models.\n",
      "\n",
      "  \n",
      "\n",
      "#### 4. Premortem (prospective hindsight)\n",
      "- What it is: A team imagines a future failure of the chosen plan and works backward to identify causes and mitigations before implementation.\n",
      "- Key steps: decide plan → convene diverse team → assume failure and generate reasons → prioritize weaknesses and assign mitigations.\n",
      "- When to use: before launching important initiatives to surface blind spots (product launches, strategic moves).\n",
      "- Strengths: uncovers risks, reduces optimism bias, encourages candid discussion.\n",
      "- Limitations: qualitative and dependent on team candor; not a substitute for quantitative risk analysis.\n",
      "\n",
      "  \n",
      "\n",
      "#### 5. OODA Loop (Observe–Orient–Decide–Act)\n",
      "- What it is: An iterative cycle for rapid, adaptive decision-making—observe current situation, orient (interpret), decide course, act; then repeat.\n",
      "- Key steps: observe inputs → orient (context, models, biases) → decide quickly → act → sense feedback and loop.\n",
      "- When to use: fast-moving, competitive, or ambiguous environments where speed and adaptation matter.\n",
      "- Strengths: emphasizes speed, feedback, and learning; useful in operations and tactical choices.\n",
      "- Limitations: less appropriate for deliberative, high‑consequence decisions that need deep analysis.\n",
      "\n",
      "  \n",
      "\n",
      "If you want, I can: help you pick the best framework for a specific decision, provide templates (e.g., scoring sheet, decision tree), or run a quick premortem structure for a particular plan."
     ]
    }
   ],
   "source": [
    "// Stream the chat completion response\n",
    "await foreach (var content in chatCompletionService.GetStreamingChatMessageContentsAsync(simpleDecisionPrompt, promptExecutionSettings))\n",
    "{\n",
    "    Console.Write(content);\n",
    "}"
   ]
  },
  {
   "cell_type": "markdown",
   "metadata": {},
   "source": [
    "----\n",
    "### Step 4 - Execute Decision Chat Completion with a System Prompt & Chat History "
   ]
  },
  {
   "cell_type": "markdown",
   "metadata": {},
   "source": [
    "Semantic Kernel has a ChatHistory object that can be used with the ChatCompletionService to provide historical chat context to the LLM. Notice that the ChatHistory object differentiates between the different types of chat messages:\n",
    "* System Message - System or MetaPrompt. These are usually global instructions that set the \"overall rules\" for interacting with the LLMs.\n",
    "* User Message - A message from the user\n",
    "* Assistant Message - A message from the LLM. This is a message generated from an assistant or an agent. \n",
    "\n",
    "Identifying the messages from which role (user) it came from can help the LLM improve its own reasoning responses. This is a more sophisticated approach than passing chat history in a long dynamic string. ChatHistory objects can be serialized and persisted into databases as well."
   ]
  },
  {
   "cell_type": "code",
   "execution_count": 11,
   "metadata": {
    "dotnet_interactive": {
     "language": "csharp"
    },
    "polyglot_notebook": {
     "kernelName": "csharp"
    }
   },
   "outputs": [
    {
     "data": {
      "text/markdown": [
       "| Framework | When to use | Core steps | Inputs needed | Strengths | Limitations |\n",
       "|---|---:|---|---|---|---|\n",
       "| Weighted Scoring / Multi‑Criteria Decision Analysis (MCDA) | Choosing between multiple options that must be compared across several qualitative and quantitative criteria (e.g., vendor selection, project prioritization) | 1) List options and decision criteria 2) Assign weights to criteria (importance) 3) Score each option on each criterion 4) Calculate weighted sums and rank options 5) Run sensitivity checks on weights | Options, relevant criteria, relative weights, scores (from experts/data) | Transparent, easy to communicate, mixes qualitative and quantitative factors, supports sensitivity analysis | Subjective weights and scores can bias results; poor at representing uncertainty or interdependent criteria |\n",
       "| Decision Tree with Expected Value (EV) | Sequential or staged decisions with probabilistic outcomes and clear payoff/costs (e.g., go/no‑go investment, product launch stages) | 1) Draw decision and chance nodes 2) Assign probabilities and payoffs/costs to outcomes 3) Roll back the tree to compute EVs and optimal branches 4) Perform sensitivity analysis on probabilities/payoffs | Possible actions, outcome states, probabilities, payoffs/costs for each branch | Clarifies sequential options, makes assumptions explicit, supports value of information and option‑value analysis | Requires credible probabilities and payoffs; trees grow complex for many stages; may hide model uncertainty |\n",
       "| Probabilistic Simulation (Monte Carlo) | Decisions where inputs are uncertain and you care about distributions, tail risks, and probabilities of meeting targets (e.g., portfolio risk, project cost/time risk) | 1) Build model linking inputs to outcomes 2) Define probability distributions and correlations for uncertain inputs 3) Run many simulations 4) Analyze output distributions, percentiles, and risk metrics | Model structure, probability distributions for uncertain inputs, correlation assumptions, computational tool | Captures uncertainty and variability, shows full outcome distribution and tail risk, supports scenario and sensitivity analysis | Requires good distributional estimates and correlation assumptions; can produce false precision if inputs are poor; needs computational effort |\n",
       "| Pre‑mortem / Red Teaming (Prospective Hindsight) | High‑impact or high‑uncertainty decisions where you need to surface hidden failure modes and reduce overconfidence (e.g., strategic initiatives, major launches) | 1) Assume the decision failed spectacularly 2) Ask teams to list reasons why it failed 3) Aggregate and prioritize failure modes 4) Implement mitigations or rethink the plan | Draft plan/decision, diverse stakeholders, time for structured session | Low cost, reveals blind spots and cognitive biases, builds shared situational awareness and actionable mitigations | Relies on candid participation; qualitative (not quantitative); can generate many items that need prioritization |\n",
       "| PDCA (Plan–Do–Check–Act) / Iterative Learning | Decisions under uncertainty where experimentation and continuous improvement reduce risk (e.g., product development, process changes) | 1) Plan: define hypothesis, success metrics, and small experiment 2) Do: run the experiment/implement pilot 3) Check: measure results against metrics 4) Act: adopt, adapt, or abandon and iterate | Clear hypothesis, measurable metrics, ability to run small tests/experiments, data collection | Encourages small steps, rapid learning, reduces downside risk, adapts to new information | Slower to reach large scale, requires discipline to measure and iterate, may be resisted in non‑experimental cultures |"
      ]
     },
     "metadata": {},
     "output_type": "display_data"
    }
   ],
   "source": [
    "// Set the overall system prompt to behave like a decision intelligence assistant (persona)\n",
    "var systemPrompt = \"\"\"\n",
    "You are a Decision Intelligence assistant. \n",
    "Assist the user in exploring options, reasoning through decisions, problem-solving, and applying systems thinking to various scenarios. \n",
    "Provide structured, logical, and comprehensive advice.\n",
    "\n",
    "Output Format Instructions:\n",
    "When generating Markdown, do not use any headings higher than ###. \n",
    "Avoid # and ## headers. Use only ###, ####, or lower-level headings if necessary. \n",
    "All top-level section headers should start at ### or lower. \n",
    "Never use ---, ***, or ___ for horizontal lines. There should be no horizontal lines in the output.\n",
    "For separation, use extra extra spacing. Do not any render horizontal lines.\n",
    "\n",
    "Format the response using only a Markdown table. Only return a Markdown table. \n",
    "Do not enclose the table in triple backticks.\n",
    "\"\"\";\n",
    "\n",
    "// Simple instruction prompt to list 5 (five) decision frameworks this GenAI LLM is familiar with\n",
    "var simpleDecisionPrompt = \"\"\"\n",
    "Provide five Decision Frameworks that can help improve the quality of decisions.\n",
    "\"\"\";\n",
    "\n",
    "// Create a new chat history object with proper system and user message roles\n",
    "var chatHistory = new ChatHistory();\n",
    "chatHistory.AddSystemMessage(systemPrompt);\n",
    "chatHistory.AddUserMessage(simpleDecisionPrompt);\n",
    "\n",
    "// Note: The chat completion service can also be used with a chat history object, which allows for a more conversational context.\n",
    "var chatResponse = string.Empty;\n",
    "\n",
    "// Render Markdown or stream the chat completion response\n",
    "var renderMarkdown = true;\n",
    "if (renderMarkdown)\n",
    "{\n",
    "    // Get the chat completion response as a single content object\n",
    "    var chatContent = await chatCompletionService.GetChatMessageContentAsync(chatHistory);\n",
    "    chatResponse = chatContent.Content;\n",
    "    chatResponse.DisplayAs(\"text/markdown\");\n",
    "}\n",
    "else\n",
    "{\n",
    "    // Stream the chat completion response\n",
    "    await foreach (var content in chatCompletionService.GetStreamingChatMessageContentsAsync(chatHistory))\n",
    "    {\n",
    "        chatResponse += content;\n",
    "        Console.Write(content);\n",
    "    }\n",
    "}\n",
    "\n",
    "// Add the assistant's response to the chat history\n",
    "chatHistory.AddAssistantMessage(chatResponse);"
   ]
  },
  {
   "cell_type": "markdown",
   "metadata": {},
   "source": [
    "In the next step, an additional prompt instruction will be added to the chat history. From the 5 decision frameworks provided in the chat history, Generative AI is asked to recommed a framework best suited for the militaty intelligence community. Notice that the previous chat history is automatically provided to provide additional intelligence context. \n",
    "\n",
    "> 📜 **_\"Take time to deliberate, but when the time for action comes, stop thinking and go in.\"_**\n",
    ">\n",
    "> -- <cite>Napoleon Bornaparte (French Emporer and brilliant military mind)</cite>  "
   ]
  },
  {
   "cell_type": "code",
   "execution_count": 12,
   "metadata": {
    "dotnet_interactive": {
     "language": "csharp"
    },
    "polyglot_notebook": {
     "kernelName": "csharp"
    }
   },
   "outputs": [
    {
     "data": {
      "text/markdown": [
       "| Step | Key points considered | Evaluation / Evidence | Result |\n",
       "|---|---:|---|---|\n",
       "| 1) Characterize military intelligence decision needs | High uncertainty, adversary deception, high consequences, need for early warning and alternative hypotheses, frequent sparse/ambiguous data, severe cost of surprise | These traits favor methods that surface hidden assumptions, model adversary intent, and work with limited quantitative data | Establish baseline requirements for suitable framework |\n",
       "| 2) Enumerate core capabilities required | 1) Expose cognitive biases and groupthink 2) Generate adversary‑centric scenarios 3) Produce actionable indicators/mitigations 4) Work effectively with qualitative or limited data 5) Be time‑efficient and repeatable | Capability match will determine which framework aligns best with IC operational constraints | Use these capabilities as evaluation criteria |\n",
       "| 3) Quick mapping of the five frameworks to capabilities | MCDA: good for resource/prioritization but needs clear criteria and weights. Decision Tree (EV): good for sequential choices with reliable probabilities. Monte Carlo: excellent for quantifying uncertainty when distributions exist. PDCA: good for iterative learning and experiments. Pre‑mortem/Red Teaming: specifically targets biases, deception, alternative hypotheses, and indicator development with low data needs. | Only Pre‑mortem/Red Teaming directly addresses adversary thinking, deception, and bias mitigation in low‑data, high‑consequence environments typical of military intelligence | Narrow candidates against IC needs |\n",
       "| 4) Trade‑offs and practicality | Quantitative methods (Monte Carlo, Decision Trees) add rigor when data/probabilities are available but can produce false confidence with poor inputs. MCDA helps prioritization but doesn't unmask deception. PDCA requires ability to run experiments/pilots. Pre‑mortem/Red Teaming is low‑cost, rapidly surfaces blind spots and adversary strategies but is qualitative and depends on candid participation. | Given frequent data scarcity and the paramount need to avoid surprise, a framework that reveals failure modes and adversary options is often most impactful operationally | Pre‑mortem/Red Teaming offers the strongest fit for core IC needs |\n",
       "| 5) Single best framework selection | Which single framework best meets IC priorities (bias mitigation, adversary analysis, indicator generation, low‑data operation) | Pre‑mortem / Red Teaming (Prospective Hindsight) — best suited as the primary single framework for the military intelligence community | Selected: Pre‑mortem / Red Teaming |\n",
       "| 6) Caveats and recommended complements | Limitation: qualitative, requires diverse/candid participation, can produce many unprioritized items. Recommendation: pair Red Teaming with probabilistic methods (Monte Carlo or Decision Trees) and MCDA for resource allocation when reliable data exists; use PDCA for iterative collection/validation of indicators. | Use Red Teaming as the central practice but integrate quantitative frameworks where data quality supports them to improve rigor and decision traceability | Balanced approach: Red Teaming primary + targeted quantitative complements |"
      ]
     },
     "metadata": {},
     "output_type": "display_data"
    }
   ],
   "source": [
    "// Note: No reference is made to what previous frameworks were listed.\n",
    "// Note: Previous context is maintained by the Semantic Kernel ChatHistory object \n",
    "var simpleDecisionPromptFollowupQuestionPartTwo = \"\"\"\n",
    "Which of the 5 decision frameworks listed above is best suited for the military intelligence community?  \n",
    "Think carefully step by step about what decision frameworks are needed to answer the query.  \n",
    "Select only the single best framework. \n",
    "\"\"\";\n",
    "\n",
    "// Add User message to the chat history\n",
    "chatHistory.AddUserMessage(simpleDecisionPromptFollowupQuestionPartTwo);\n",
    "\n",
    "// Render Markdown or stream the chat completion response\n",
    "var renderMarkdown = true;\n",
    "if (renderMarkdown)\n",
    "{\n",
    "    // Get the chat completion response as a single content object\n",
    "    var chatContent = await chatCompletionService.GetChatMessageContentAsync(chatHistory);\n",
    "    chatResponse = chatContent.Content;\n",
    "    chatResponse.DisplayAs(\"text/markdown\");\n",
    "}\n",
    "else\n",
    "{\n",
    "    // Stream the chat completion response\n",
    "    await foreach (var content in chatCompletionService.GetStreamingChatMessageContentsAsync(chatHistory))\n",
    "    {\n",
    "        chatResponse += content;\n",
    "        Console.Write(content);\n",
    "    }\n",
    "}\n",
    "\n",
    "// Add Assistant message to the chat history\n",
    "chatHistory.AddAssistantMessage(chatResponse);"
   ]
  },
  {
   "cell_type": "markdown",
   "metadata": {},
   "source": [
    "### Step 5 - Execute Decision Chat Completion with a Multi-Turn Conversation Scenario "
   ]
  },
  {
   "cell_type": "markdown",
   "metadata": {},
   "source": [
    "> 📜 **_\"Price is what you pay. Value is what you get.\"_**  \n",
    ">\n",
    "> -- <cite>Warren Buffet (one of the most successful investors of all time)</cite>  "
   ]
  },
  {
   "cell_type": "markdown",
   "metadata": {},
   "source": [
    "Semantic Kernel can maintain state with the ChatHistory object. This allows natural converation between the user and AI to be persisted for future use. It can be saved for future reference, it can be replayed, it can be forked in certain spots to try different scenarios, it can be used as a starting point for other conversations etc. \n",
    "\n",
    "In the scenario below, let's build a multi-turn conversation about a decision over a purchase for a fitness tracker. Notice that each turn the appropriate Chat History roles are populated with the appropriate prompts and assistant (AI) responses. This in effect acts as the Gathering Intelligence step of the Decision Intelligence framework as the conversation information has been persisted and can be re-used as context for the decision scenario."
   ]
  },
  {
   "cell_type": "code",
   "execution_count": 13,
   "metadata": {
    "dotnet_interactive": {
     "language": "csharp"
    },
    "polyglot_notebook": {
     "kernelName": "csharp"
    }
   },
   "outputs": [],
   "source": [
    "// Set the overall system prompt to behave like a decision intelligence assistant (persona)\n",
    "var systemPromptDecisionConversation = \"\"\"\n",
    "You are a Decision Intelligence assistant. \n",
    "Assist the user in exploring options, reasoning through decisions, problem-solving, and applying systems thinking to various scenarios. \n",
    "Provide structured, logical, and comprehensive advice.\n",
    "\"\"\";\n",
    "\n",
    "// User prompt to start a decision conversation about buying a fitness tracker\n",
    "var userPromptDecisionConversationTurn1 = \"\"\"\n",
    "I am considering buying a fitness tracker but I am not sure which features really matter. \n",
    "Could you explain the main considerations? \n",
    "\"\"\";\n",
    "\n",
    "var assistantResponseDecisionConversationTurn1 = \"\"\"\n",
    "Absolutely! Key considerations for choosing a fitness tracker often include: \n",
    "- Fitness Features (e.g., step counting, heart-rate monitoring, workout tracking)\n",
    "- Health Monitoring (like sleep tracking or advanced ECG capabilities)\n",
    "- Battery Life\n",
    "- Comfort and Fit\n",
    "- Compatibility with your smartphone's operating system\n",
    "- Price Range\n",
    "- Knowing which of these you value most will help narrow down your options.\n",
    "\"\"\";\n",
    "\n",
    "var userPromptDecisionConversationTurn2 = \"\"\"\n",
    "Got it. Battery life and sleep tracking are both important to me. \n",
    "What's a typical battery life range for trackers, and how good is their sleep tracking?\n",
    "\"\"\";\n",
    "\n",
    "var assistantResponseDecisionConversationTurn2 = \"\"\"\n",
    "Different fitness trackers have varying battery lives, typically anywhere from 2-3 days (for more feature-rich or bright-display devices) \n",
    "up to about 10-14 days (for more minimalist trackers). \n",
    "\n",
    "Regarding sleep tracking:\n",
    "- Many modern devices can track different sleep stages (light, deep, REM).\n",
    "- High-end devices even track breathing rate and oxygen saturation during the night.\n",
    "- Some also offer insights about sleep quality and tips for improvement.\n",
    "\n",
    "If battery life is a priority, you may want to consider trackers with a more conservative display and fewer power-hungry features.\n",
    "\"\"\";\n",
    "\n",
    "var userPromptDecisionConversationTurn3 = \"\"\"\n",
    "Are there any popular models you would recommend for that balance of battery life and sleep tracking?\n",
    "\"\"\";\n",
    "\n",
    "var assistantResponseDecisionConversationTurn3 = \"\"\"\n",
    "Popular options that strike a balance between robust sleep tracking and good battery life include:\n",
    "- Fitbit Inspire 3 or Fitbit Charge 5: Both have solid sleep tracking, multi-day battery, and strong app support.\n",
    "- Garmin Vivosmart 5: Offers decent fitness and sleep insights, plus better-than-average battery life.\n",
    "- Xiaomi Mi Band 7: Budget-friendly, surprisingly robust health metrics, and a long-lasting battery.\n",
    "\n",
    "Each varies in price and features, so consider your budget and the specific metrics you’d like to track.\n",
    "\"\"\";\n",
    "\n",
    "var userPromptDecisionConversationTurn4 = \"\"\"\n",
    "That is great infor. \n",
    "I also have a friend who said I should consider an Apple Watch. \n",
    "Does that have comparable battery life and sleep tracking?\n",
    "\"\"\";\n",
    "\n",
    "var assistantResponseDecisionConversationTurn4 = \"\"\"\n",
    "The Apple Watch is known for its extensive feature set, including advanced health monitoring, \n",
    "but its battery life tends to be shorter—usually around 18-24 hours on a single charge \n",
    "(or possibly a bit more in low-power mode). While its sleep tracking features have improved over time, \n",
    "you might find you need to charge it daily or almost daily, which could conflict with your goal of 24/7 tracking. \n",
    "\"\"\";\n",
    "\n",
    "// Create a new chat history with a multi-turn conversation about buying a fitness tracker\n",
    "// Notice how the conversation flow uses different roles (user and assistant) to simulate a realistic decision-making dialogue\n",
    "var chatHistoryDecisionConversation = new ChatHistory();\n",
    "chatHistoryDecisionConversation.AddSystemMessage(systemPromptDecisionConversation);\n",
    "chatHistoryDecisionConversation.AddUserMessage(userPromptDecisionConversationTurn1);\n",
    "chatHistoryDecisionConversation.AddAssistantMessage(assistantResponseDecisionConversationTurn1);\n",
    "chatHistoryDecisionConversation.AddUserMessage(userPromptDecisionConversationTurn2);\n",
    "chatHistoryDecisionConversation.AddAssistantMessage(assistantResponseDecisionConversationTurn2);\n",
    "chatHistoryDecisionConversation.AddUserMessage(userPromptDecisionConversationTurn3);\n",
    "chatHistoryDecisionConversation.AddAssistantMessage(assistantResponseDecisionConversationTurn3);\n",
    "chatHistoryDecisionConversation.AddUserMessage(userPromptDecisionConversationTurn4);\n",
    "chatHistoryDecisionConversation.AddAssistantMessage(assistantResponseDecisionConversationTurn4);\n"
   ]
  },
  {
   "cell_type": "markdown",
   "metadata": {},
   "source": [
    "Using the above conversation history as the \"Gathered Intelligence\" betweeen the user and the AI assistant, let's make a final decision and ask for final feedback and a decision evaluation. This \"Gathered Intelligence\" for the decision can be persisted, re-loaded, simulated multiple times, applied to different AI systems to optimize decisions further.  "
   ]
  },
  {
   "cell_type": "code",
   "execution_count": 14,
   "metadata": {
    "dotnet_interactive": {
     "language": "csharp"
    },
    "polyglot_notebook": {
     "kernelName": "csharp"
    }
   },
   "outputs": [
    {
     "data": {
      "text/markdown": [
       "Nice choice — the Inspire 3 is a solid, budget-friendly pick if battery life and sleep tracking are priorities. Quick, practical final thoughts to get the most out of it:\n",
       "\n",
       "Key strengths\n",
       "- Multi-day battery life: expect around a week to 10 days with typical use (turning on power-hungry features will shorten that).\n",
       "- Good basic sleep tracking: automatic sleep detection, sleep stages (light/deep/REM) and a sleep score through the Fitbit app.\n",
       "- Useful sensors for the price: continuous heart rate and SpO2 estimates that help refine sleep insights.\n",
       "\n",
       "What to expect (realistically)\n",
       "- Sleep data is useful for trends and spotting big changes but isn’t a medical-grade diagnosis.\n",
       "- Accuracy improves when the band fits snugly but comfortably — not too loose and not squeezing your wrist.\n",
       "- You’ll need to charge occasionally (usually weekly); a short daily top-up isn’t necessary unless you prefer it.\n",
       "\n",
       "Quick setup & usage tips\n",
       "- Wear it a bit higher on your wrist (about 1–2 finger widths above the bone) for better heart-rate and SpO2 readings.\n",
       "- Let it sync with the Fitbit app overnight the first few nights so the app can learn your patterns.\n",
       "- Keep firmware updated — Fitbit pushes improvements to tracking and battery behavior via updates.\n",
       "\n",
       "Battery-saving hints\n",
       "- Limit continuous notifications and raise-to-wake brightness if you want longer runtime.\n",
       "- Turn off features you don’t use (e.g., bg heart-rate sampling frequency is often adjustable).\n",
       "- Use a short weekly charging routine (e.g., charge while showering on a chosen day) to keep tracking continuous.\n",
       "\n",
       "App, privacy & subscription\n",
       "- The Fitbit app gives most insights for free; Fitbit Premium (paid) adds deeper analysis and guided programs if you want them.\n",
       "- Review Fitbit’s privacy policy if you’re concerned about how health data is handled or shared.\n",
       "\n",
       "Accessories & practicalities\n",
       "- Check for compatible replacement bands you like for comfort and style.\n",
       "- Note it uses a proprietary charger — keep a spare if you travel.\n",
       "\n",
       "When to reconsider\n",
       "- If you later want advanced athlete metrics (VO2max, advanced run dynamics) or native apps, consider upgrading to Charge/Garmin/Apple options.\n",
       "- If you need medical-grade sleep apnea detection, consult a clinician — trackers can flag issues but not replace diagnosis.\n",
       "\n",
       "If you want, I can:\n",
       "- Walk through an ideal initial setup checklist.\n",
       "- Suggest specific bands or settings to maximize battery and sleep accuracy.\n",
       "- Compare Inspire 3 vs. Charge 5 quickly if you’re curious about small upgrades.\n",
       "\n",
       "Would you like a short setup checklist now?"
      ]
     },
     "metadata": {},
     "output_type": "display_data"
    }
   ],
   "source": [
    "var userPromptDecisionConversationFinalDecision = \"\"\"\n",
    "Thank you for all of that information, I think I'll go with a Fitbit. \n",
    "The Fitbit Inspire 3 seems like a good fit for my budget and needs. \n",
    "\n",
    "Any quick final thoughts or insights on my decision? \n",
    "\"\"\";\n",
    "\n",
    "// Add User message to the chat history\n",
    "chatHistoryDecisionConversation.AddUserMessage(userPromptDecisionConversationFinalDecision);\n",
    "\n",
    "// Render Markdown or stream the chat completion response\n",
    "var renderMarkdown = true;\n",
    "if (renderMarkdown)\n",
    "{\n",
    "    // Get the chat completion response as a single content object\n",
    "    var chatContent = await chatCompletionService.GetChatMessageContentAsync(chatHistoryDecisionConversation);\n",
    "    chatResponse = chatContent.Content;\n",
    "    chatResponse.DisplayAs(\"text/markdown\");\n",
    "}\n",
    "else\n",
    "{\n",
    "    // Stream the chat completion response\n",
    "    await foreach (var content in chatCompletionService.GetStreamingChatMessageContentsAsync(chatHistoryDecisionConversation))\n",
    "    {\n",
    "        chatResponse += content;\n",
    "        Console.Write(content);\n",
    "    }\n",
    "}\n",
    "\n",
    "// Add Assistant message to the chat history\n",
    "chatHistoryDecisionConversation.AddAssistantMessage(chatResponse);"
   ]
  },
  {
   "cell_type": "markdown",
   "metadata": {},
   "source": [
    "----\n",
    "### Step 6 - Inspect & Optimize Gathered Intelligence of Chat History "
   ]
  },
  {
   "cell_type": "markdown",
   "metadata": {},
   "source": [
    "The Semantic Kernel Chat History is a transparent construct that can be inspected and written out. In fact, the ChatHistory object can be manipulated to replay chats from middle interactions to simulate different outcomes.\n",
    "\n",
    "Execute the cell below to write out the Semantic Kernel Chat History of this chat."
   ]
  },
  {
   "cell_type": "markdown",
   "metadata": {},
   "source": [
    "> **📝 Note:** In the Decision Intelligence framework, chat history can serve as a form of gathered intelligence. Interactions among users, AI models, processes, and agents provide valuable context for effective decision-making. It’s highly recommended to persist chat history objects (agent threads), especially during decision optimization, to ensure critical information is retained and accessible.  "
   ]
  },
  {
   "cell_type": "code",
   "execution_count": 15,
   "metadata": {
    "dotnet_interactive": {
     "language": "csharp"
    },
    "polyglot_notebook": {
     "kernelName": "csharp"
    }
   },
   "outputs": [
    {
     "name": "stdout",
     "output_type": "stream",
     "text": [
      "Number of chat interactions: 11\n"
     ]
    },
    {
     "data": {
      "text/markdown": [
       "**SYSTEM**:\n",
       "You are a Decision Intelligence assistant. \n",
       "Assist the user in exploring options, reasoning through decisions, problem-solving, and applying systems thinking to various scenarios. \n",
       "Provide structured, logical, and comprehensive advice.\n",
       "\n",
       "**USER**:\n",
       "I am considering buying a fitness tracker but I am not sure which features really matter. \n",
       "Could you explain the main considerations? \n",
       "\n",
       "**ASSISTANT**:\n",
       "Absolutely! Key considerations for choosing a fitness tracker often include: \n",
       "- Fitness Features (e.g., step counting, heart-rate monitoring, workout tracking)\n",
       "- Health Monitoring (like sleep tracking or advanced ECG capabilities)\n",
       "- Battery Life\n",
       "- Comfort and Fit\n",
       "- Compatibility with your smartphone's operating system\n",
       "- Price Range\n",
       "- Knowing which of these you value most will help narrow down your options.\n",
       "\n",
       "**USER**:\n",
       "Got it. Battery life and sleep tracking are both important to me. \n",
       "What's a typical battery life range for trackers, and how good is their sleep tracking?\n",
       "\n",
       "**ASSISTANT**:\n",
       "Different fitness trackers have varying battery lives, typically anywhere from 2-3 days (for more feature-rich or bright-display devices) \n",
       "up to about 10-14 days (for more minimalist trackers). \n",
       "\n",
       "Regarding sleep tracking:\n",
       "- Many modern devices can track different sleep stages (light, deep, REM).\n",
       "- High-end devices even track breathing rate and oxygen saturation during the night.\n",
       "- Some also offer insights about sleep quality and tips for improvement.\n",
       "\n",
       "If battery life is a priority, you may want to consider trackers with a more conservative display and fewer power-hungry features.\n",
       "\n",
       "**USER**:\n",
       "Are there any popular models you would recommend for that balance of battery life and sleep tracking?\n",
       "\n",
       "**ASSISTANT**:\n",
       "Popular options that strike a balance between robust sleep tracking and good battery life include:\n",
       "- Fitbit Inspire 3 or Fitbit Charge 5: Both have solid sleep tracking, multi-day battery, and strong app support.\n",
       "- Garmin Vivosmart 5: Offers decent fitness and sleep insights, plus better-than-average battery life.\n",
       "- Xiaomi Mi Band 7: Budget-friendly, surprisingly robust health metrics, and a long-lasting battery.\n",
       "\n",
       "Each varies in price and features, so consider your budget and the specific metrics you’d like to track.\n",
       "\n",
       "**USER**:\n",
       "That is great infor. \n",
       "I also have a friend who said I should consider an Apple Watch. \n",
       "Does that have comparable battery life and sleep tracking?\n",
       "\n",
       "**ASSISTANT**:\n",
       "The Apple Watch is known for its extensive feature set, including advanced health monitoring, \n",
       "but its battery life tends to be shorter—usually around 18-24 hours on a single charge \n",
       "(or possibly a bit more in low-power mode). While its sleep tracking features have improved over time, \n",
       "you might find you need to charge it daily or almost daily, which could conflict with your goal of 24/7 tracking. \n",
       "\n",
       "**USER**:\n",
       "Thank you for all of that information, I think I'll go with a Fitbit. \n",
       "The Fitbit Inspire 3 seems like a good fit for my budget and needs. \n",
       "\n",
       "Any quick final thoughts or insights on my decision? \n",
       "\n",
       "**ASSISTANT**:\n",
       "Nice choice — the Inspire 3 is a solid, budget-friendly pick if battery life and sleep tracking are priorities. Quick, practical final thoughts to get the most out of it:\n",
       "\n",
       "Key strengths\n",
       "- Multi-day battery life: expect around a week to 10 days with typical use (turning on power-hungry features will shorten that).\n",
       "- Good basic sleep tracking: automatic sleep detection, sleep stages (light/deep/REM) and a sleep score through the Fitbit app.\n",
       "- Useful sensors for the price: continuous heart rate and SpO2 estimates that help refine sleep insights.\n",
       "\n",
       "What to expect (realistically)\n",
       "- Sleep data is useful for trends and spotting big changes but isn’t a medical-grade diagnosis.\n",
       "- Accuracy improves when the band fits snugly but comfortably — not too loose and not squeezing your wrist.\n",
       "- You’ll need to charge occasionally (usually weekly); a short daily top-up isn’t necessary unless you prefer it.\n",
       "\n",
       "Quick setup & usage tips\n",
       "- Wear it a bit higher on your wrist (about 1–2 finger widths above the bone) for better heart-rate and SpO2 readings.\n",
       "- Let it sync with the Fitbit app overnight the first few nights so the app can learn your patterns.\n",
       "- Keep firmware updated — Fitbit pushes improvements to tracking and battery behavior via updates.\n",
       "\n",
       "Battery-saving hints\n",
       "- Limit continuous notifications and raise-to-wake brightness if you want longer runtime.\n",
       "- Turn off features you don’t use (e.g., bg heart-rate sampling frequency is often adjustable).\n",
       "- Use a short weekly charging routine (e.g., charge while showering on a chosen day) to keep tracking continuous.\n",
       "\n",
       "App, privacy & subscription\n",
       "- The Fitbit app gives most insights for free; Fitbit Premium (paid) adds deeper analysis and guided programs if you want them.\n",
       "- Review Fitbit’s privacy policy if you’re concerned about how health data is handled or shared.\n",
       "\n",
       "Accessories & practicalities\n",
       "- Check for compatible replacement bands you like for comfort and style.\n",
       "- Note it uses a proprietary charger — keep a spare if you travel.\n",
       "\n",
       "When to reconsider\n",
       "- If you later want advanced athlete metrics (VO2max, advanced run dynamics) or native apps, consider upgrading to Charge/Garmin/Apple options.\n",
       "- If you need medical-grade sleep apnea detection, consult a clinician — trackers can flag issues but not replace diagnosis.\n",
       "\n",
       "If you want, I can:\n",
       "- Walk through an ideal initial setup checklist.\n",
       "- Suggest specific bands or settings to maximize battery and sleep accuracy.\n",
       "- Compare Inspire 3 vs. Charge 5 quickly if you’re curious about small upgrades.\n",
       "\n",
       "Would you like a short setup checklist now?\n",
       "\n"
      ]
     },
     "metadata": {},
     "output_type": "display_data"
    }
   ],
   "source": [
    "// Print the number of chat interactions and the chat history (turns)\n",
    "Console.WriteLine(\"Number of chat interactions: \" + chatHistoryDecisionConversation.Count());\n",
    "\n",
    "// Change this to a string builder and show as markdown\n",
    "var stringBuilderChatHistory = new StringBuilder();\n",
    "foreach (var message in chatHistoryDecisionConversation)\n",
    "{\n",
    "    // add a new line for each message\n",
    "    stringBuilderChatHistory.AppendLine($\"**{message.Role.ToString().ToUpper()}**:\");\n",
    "    stringBuilderChatHistory.Append($\"{message.Content.Replace(\"#\", string.Empty)}\");\n",
    "    stringBuilderChatHistory.AppendLine(\"\\n\");\n",
    "}\n",
    "\n",
    "// Display the chat history as Markdown\n",
    "stringBuilderChatHistory.ToString().DisplayAs(\"text/markdown\");"
   ]
  },
  {
   "cell_type": "markdown",
   "metadata": {},
   "source": [
    "By persisting the Decision Intelligence chats and making them available for inspection, can further help the decision-making process. For example you can load the Chat History summarize it or even have AI recommend optimizations for it based on the conversation. \n",
    "\n",
    "> **📝 Note:** The process below is simplified to illustrate the power of Gathering Intelligence with user <--> AI interactions. More advanced best practices will be introduced in further sections. "
   ]
  },
  {
   "cell_type": "code",
   "execution_count": 16,
   "metadata": {
    "dotnet_interactive": {
     "language": "csharp"
    },
    "polyglot_notebook": {
     "kernelName": "csharp"
    }
   },
   "outputs": [
    {
     "data": {
      "text/markdown": [
       "- You asked which fitness-tracker features matter; I listed key considerations (fitness/health features, battery, comfort, compatibility, price).\n",
       "- You prioritized battery life and sleep tracking; I explained typical battery ranges (about 2–3 days for feature-rich watches up to ~10–14 days for minimalist trackers) and noted modern trackers can detect sleep stages and give useful trends but aren’t medical-grade.\n",
       "- I recommended models balancing sleep tracking and battery: Fitbit Inspire 3 and Charge 5, Garmin Vivosmart 5, and Xiaomi Mi Band 7.\n",
       "- We compared the Apple Watch: strong features and health monitoring but much shorter battery (~18–24 hours), so daily charging can disrupt continuous sleep tracking.\n",
       "- You chose the Fitbit Inspire 3. I gave practical tips: expect ~1 week to 10 days battery, wear snugly for better readings, sync and update the app/firmware, use a weekly charging routine, and remember sleep data is for trends not diagnosis.\n",
       "- I also noted Fitbit app/Premium and privacy considerations, replacement bands, and when to consider upgrading (advanced athletic metrics or medical needs)."
      ]
     },
     "metadata": {},
     "output_type": "display_data"
    },
    {
     "data": {
      "text/markdown": [
       "Summary of the conversation (brief)\n",
       "- You asked which fitness-tracker features matter; I listed common considerations (fitness/health features, battery life, comfort, compatibility, price).\n",
       "- You said battery life and sleep tracking are most important; I described typical battery ranges (2–3 days up to 10–14 days) and how modern trackers handle sleep stages and SpO2.\n",
       "- I recommended models that balance battery and sleep tracking (Fitbit Inspire 3, Charge 5, Garmin Vivosmart 5, Xiaomi Mi Band 7).\n",
       "- You asked about the Apple Watch; I explained it has strong features but shorter battery life (~18–24 hr), so daily charging may interfere with continuous sleep tracking.\n",
       "- You decided on the Fitbit Inspire 3 and I gave practical setup, accuracy, battery-saving, and privacy tips, plus offered to provide a setup checklist or comparisons.\n",
       "\n",
       "How to optimize decision interactions (recommendations)\n",
       "1. Start by clarifying and prioritizing goals\n",
       "   - Ask the short list: must-haves, nice-to-haves, deal-breakers (e.g., battery ≥7 days, automatic REM detection, budget ≤ $150).\n",
       "2. Elicit usage context and constraints\n",
       "   - Capture daily routine (sleep schedule, charging habits), primary activities (running, weightlifting), phone OS, wrist size, and aesthetic preferences.\n",
       "3. Use a structured trade-off framework\n",
       "   - Present a compact multi-criteria comparison (rank or score options across battery, sleep accuracy, sensors, price, app, comfort).\n",
       "4. Narrow options with progressive filtering\n",
       "   - Start broad, then filter by constraints (e.g., battery >7 days → show 3–4 best matches) to avoid overload.\n",
       "5. Make trade-offs explicit and quantitative\n",
       "   - Translate features into expected outcomes (e.g., “Expect ~7–10 days battery with moderate use; enabling continuous SpO2 reduces this by ~20%”).\n",
       "6. Recommend small experiments before committing\n",
       "   - Suggest trialing devices (return policies), wearing a temporary band to test comfort, or comparing sleep data side-by-side for a few nights.\n",
       "7. Provide decision checkpoints and action steps\n",
       "   - Offer a short checklist for purchase, setup, and a 2-week evaluation plan to decide whether to keep or return.\n",
       "\n",
       "Considerations for the AI to help make better decisions\n",
       "- Personalization: tailor recommendations by learning preferences (budget, phone OS, activity types) and behavior (charging habits, tolerance for false positives).\n",
       "- Preference elicitation: use simple, guided questions or sliders to quantify trade-offs and produce ranked options automatically.\n",
       "- Transparency & uncertainty: state confidence levels, typical variability (accuracy ranges), and cite sources or manufacturer specs where relevant.\n",
       "- Comparative scoring & sensitivity analysis: show how recommendations change if the user adjusts a priority (e.g., increase importance of sleep accuracy from medium to high).\n",
       "- Scenario simulation: outline likely daily routines (charging schedule, sleep-tracking continuity) for each device to show practical impacts.\n",
       "- Evidence & limitations: flag that trackers are not medical devices, summarize common accuracy limitations (wrist placement, movement, skin tone, arrhythmias), and suggest when to seek clinical evaluation.\n",
       "- Actionable next steps: give an explicit small plan (purchase + 2-week trial + data checks + return deadline) and what metrics to watch (sleep score trends, battery drain).\n",
       "- Privacy & data handling: remind users to review vendor privacy policies and discuss what data syncs to cloud/third parties.\n",
       "- User control & explainability: offer plain-language explanations of how metrics are derived (HR variability → sleep stage inference) and how to interpret them.\n",
       "- Practical supports: propose band-fit tips, charging routines, third-party apps or integrations, and accessories to improve experience.\n",
       "\n",
       "If you want, I can:\n",
       "- Create a short prioritized checklist (must-haves vs nice-to-haves) for you to confirm.\n",
       "- Build a simple scoring table comparing 3–4 specific models (Inspire 3, Charge 5, Vivosmart 5, Mi Band 7) against your priorities."
      ]
     },
     "metadata": {},
     "output_type": "display_data"
    }
   ],
   "source": [
    "var userPromptSummarizeTheDecisionChat = \"\"\"\n",
    "Briefly summarize the chat conversation about buying a fitness tracker.\n",
    "\"\"\";\n",
    "\n",
    "// Add User message to the chat history\n",
    "chatHistoryDecisionConversation.AddUserMessage(userPromptSummarizeTheDecisionChat);\n",
    "\n",
    "var chatContent = await chatCompletionService.GetChatMessageContentAsync(chatHistoryDecisionConversation);\n",
    "chatResponse = chatContent.Content;\n",
    "chatResponse.DisplayAs(\"text/markdown\");\n",
    "\n",
    "// Optimize the chat history for any future decision interactions\n",
    "var userPromptOptimizeTheDecisionChat = \"\"\"\n",
    "Based on the chat conversation so far...\n",
    "Provide some recommendations on how the decision interactions could be optimized for decision-making.\n",
    "What are some considerations for the AI to help the use make even better decisions?\n",
    "\"\"\";\n",
    "\n",
    "// Add User message to the chat history\n",
    "chatHistoryDecisionConversation.AddUserMessage(userPromptOptimizeTheDecisionChat);\n",
    "\n",
    "var chatContentOptimization = await chatCompletionService.GetChatMessageContentAsync(chatHistoryDecisionConversation);\n",
    "var chatResponseOptimization = chatContentOptimization.Content;\n",
    "chatResponseOptimization.DisplayAs(\"text/markdown\");"
   ]
  }
 ],
 "metadata": {
  "kernelspec": {
   "display_name": ".NET (C#)",
   "language": "C#",
   "name": ".net-csharp"
  },
  "language_info": {
   "name": "polyglot-notebook"
  },
  "polyglot_notebook": {
   "kernelInfo": {
    "defaultKernelName": "csharp",
    "items": [
     {
      "aliases": [],
      "name": "csharp"
     }
    ]
   }
  }
 },
 "nbformat": 4,
 "nbformat_minor": 2
}
