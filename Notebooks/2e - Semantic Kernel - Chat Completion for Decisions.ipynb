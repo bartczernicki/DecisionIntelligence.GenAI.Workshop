{
 "cells": [
  {
   "cell_type": "markdown",
   "metadata": {},
   "source": [
    "<img style=\"float: left;padding-right: 10px\" width =\"40px\" src=\"https://raw.githubusercontent.com/bartczernicki/DecisionIntelligence.GenAI.Workshop/main/Images/SemanticKernelLogo.png\">\n",
    "\n",
    "## Semantic Kernel - Chat Completion for Decisions "
   ]
  },
  {
   "cell_type": "markdown",
   "metadata": {},
   "source": [
    "Decision Intelligence applied in this module:  \n",
    "* Listing of various decision-making frameworks and with their descriptions by using Chat Completion  \n",
    "* Decision Scenario: Recommendation of a decision-making framework for specific higher-stakes decisions (purchase of a car)  \n",
    "* Illustrating a domain specific decision-making framework (millitary intelligence)  \n"
   ]
  },
  {
   "cell_type": "markdown",
   "metadata": {},
   "source": [
    "In this module, the Semantic Kernel ability to create a chat experience will be introduced. This is a much richer experience than just sending simple prompts that are stateless and context is forgotten.\n",
    "\n",
    "Semantic Kernel has first-class support for chat scenarios, where the user talks back and forth with the LLM, the arguments get populated with the history of the conversation. During each new run of the kernel, the arguments will be provided to the AI with content. This allows the LLM to know the historical context of the conversation."
   ]
  },
  {
   "cell_type": "markdown",
   "metadata": {},
   "source": [
    "### Step 1 - Initialize Configuration Builder & Build the Semantic Kernel Orchestration"
   ]
  },
  {
   "cell_type": "markdown",
   "metadata": {},
   "source": [
    "Execute the next two cells to:\n",
    "* Use the Configuration Builder to load the API secrets.  \n",
    "* Use the API configuration to build the Semantic Kernel orchestrator."
   ]
  },
  {
   "cell_type": "code",
   "execution_count": 1,
   "metadata": {
    "dotnet_interactive": {
     "language": "csharp"
    },
    "polyglot_notebook": {
     "kernelName": "csharp"
    },
    "vscode": {
     "languageId": "polyglot-notebook"
    }
   },
   "outputs": [
    {
     "data": {
      "text/html": [
       "<div><div></div><div></div><div><strong>Installed Packages</strong><ul><li><span>Microsoft.Extensions.Configuration, 9.0.5</span></li><li><span>Microsoft.Extensions.Configuration.Json, 9.0.5</span></li></ul></div></div>"
      ]
     },
     "metadata": {},
     "output_type": "display_data"
    }
   ],
   "source": [
    "// Import the required NuGet configuration packages\n",
    "#r \"nuget: Microsoft.Extensions.Configuration, 9.0.5\"\n",
    "#r \"nuget: Microsoft.Extensions.Configuration.Json, 9.0.5\"\n",
    "\n",
    "using Microsoft.Extensions.Configuration.Json;\n",
    "using Microsoft.Extensions.Configuration;\n",
    "using System.IO;\n",
    "\n",
    "// Load the configuration settings from the local.settings.json and secrets.settings.json files\n",
    "// The secrets.settings.json file is used to store sensitive information such as API keys\n",
    "var configurationBuilder = new ConfigurationBuilder()\n",
    "    .SetBasePath(Directory.GetCurrentDirectory())\n",
    "    .AddJsonFile(\"local.settings.json\", optional: true, reloadOnChange: true)\n",
    "    .AddJsonFile(\"secrets.settings.json\", optional: true, reloadOnChange: true);\n",
    "var config = configurationBuilder.Build();\n",
    "\n",
    "// IMPORTANT: You ONLY NEED either Azure OpenAI or OpenAI connectiopn info, not both.\n",
    "// Azure OpenAI Connection Info\n",
    "var azureOpenAIEndpoint = config[\"AzureOpenAI:Endpoint\"];\n",
    "var azureOpenAIAPIKey = config[\"AzureOpenAI:APIKey\"];\n",
    "var azureOpenAIModelDeploymentName = config[\"AzureOpenAI:ModelDeploymentName\"];\n",
    "// OpenAI Connection Info \n",
    "var openAIAPIKey = config[\"OpenAI:APIKey\"];\n",
    "var openAIModelId = config[\"OpenAI:ModelId\"];"
   ]
  },
  {
   "cell_type": "code",
   "execution_count": 2,
   "metadata": {
    "dotnet_interactive": {
     "language": "csharp"
    },
    "polyglot_notebook": {
     "kernelName": "csharp"
    },
    "vscode": {
     "languageId": "polyglot-notebook"
    }
   },
   "outputs": [
    {
     "data": {
      "text/html": [
       "<div><div></div><div></div><div><strong>Installed Packages</strong><ul><li><span>Microsoft.Extensions.DependencyInjection, 9.0.5</span></li><li><span>Microsoft.SemanticKernel, 1.54.0</span></li></ul></div></div>"
      ]
     },
     "metadata": {},
     "output_type": "display_data"
    },
    {
     "name": "stdout",
     "output_type": "stream",
     "text": [
      "Using Azure OpenAI Service\n"
     ]
    }
   ],
   "source": [
    "// Install the required NuGet packages\n",
    "// Note: This also installs the Dependency Injection Package to retrieve the ChatCompletionService\n",
    "#r \"nuget: Microsoft.Extensions.DependencyInjection, 9.0.5\"\n",
    "#r \"nuget: Microsoft.SemanticKernel, 1.54\"\n",
    "\n",
    "using Microsoft.Extensions.DependencyInjection.Extensions;\n",
    "using Microsoft.Extensions.DependencyInjection;\n",
    "using Microsoft.SemanticKernel;\n",
    "using Microsoft.SemanticKernel.ChatCompletion;\n",
    "using Microsoft.SemanticKernel.Connectors.OpenAI;\n",
    "\n",
    "Kernel semanticKernel;\n",
    "\n",
    "// Set the flag to use Azure OpenAI or OpenAI. False to use OpenAI, True to use Azure OpenAI\n",
    "var useAzureOpenAI = true;\n",
    "\n",
    "// Create a new Semantic Kernel instance\n",
    "if (useAzureOpenAI)\n",
    "{\n",
    "    Console.WriteLine(\"Using Azure OpenAI Service\");\n",
    "    semanticKernel = Kernel.CreateBuilder()\n",
    "        .AddAzureOpenAIChatCompletion(\n",
    "            deploymentName: azureOpenAIModelDeploymentName,\n",
    "            endpoint: azureOpenAIEndpoint,\n",
    "            apiKey: azureOpenAIAPIKey)\n",
    "        .Build();\n",
    "}\n",
    "else\n",
    "{\n",
    "    Console.WriteLine(\"Using OpenAI Service\");\n",
    "    semanticKernel = Kernel.CreateBuilder()\n",
    "        .AddOpenAIChatCompletion(\n",
    "            modelId: openAIModelId,\n",
    "            apiKey: openAIAPIKey)\n",
    "        .Build();\n",
    "}\n",
    "\n",
    "var chatCompletionService = semanticKernel.Services.GetRequiredService<IChatCompletionService>();"
   ]
  },
  {
   "cell_type": "markdown",
   "metadata": {},
   "source": [
    "### Step 2 - Execute Decision Chat Completion with Prompt Execution Settings "
   ]
  },
  {
   "cell_type": "markdown",
   "metadata": {},
   "source": [
    "> 📜 \"If you can’t describe what you are doing as a process, you don’t know what you’re doing.\" \n",
    ">\n",
    "> -- <cite>W. Edwards Deming (renowned American engineer, statistician, and management consultant)</cite>  \n",
    "\n",
    "\n",
    "Using the Semantic Kernel ChatCompletion service is very similar to inovoking a prompt for basic LLM interactions. The chat completion service will provide very similar results to invoking the prompt directly."
   ]
  },
  {
   "cell_type": "code",
   "execution_count": 13,
   "metadata": {
    "dotnet_interactive": {
     "language": "csharp"
    },
    "polyglot_notebook": {
     "kernelName": "csharp"
    },
    "vscode": {
     "languageId": "polyglot-notebook"
    }
   },
   "outputs": [
    {
     "name": "stdout",
     "output_type": "stream",
     "text": [
      "Certainly! Here are **five decision frameworks** that can help improve the quality of decisions:\n",
      "\n",
      "1. **Pros and Cons List**  \n",
      "   - A simple method of listing the advantages and disadvantages of each option to clarify trade-offs.\n",
      "\n",
      "2. **SWOT Analysis**  \n",
      "   - Evaluates the **Strengths, Weaknesses, Opportunities, and Threats** related to a decision or situation.\n",
      "\n",
      "3. **Cost-Benefit Analysis**  \n",
      "   - Compares the expected costs and benefits of each option to determine which provides the greatest net benefit.\n",
      "\n",
      "4. **Eisenhower Matrix**  \n",
      "   - Prioritizes tasks or decisions based on their **urgency** and **importance**, helping to focus on what matters most.\n",
      "\n",
      "5. **Decision Tree Analysis**  \n",
      "   - Uses a tree-like model of decisions and possible consequences, including chance event outcomes, to map out options and their potential impacts.\n",
      "\n",
      "These frameworks can be adapted to various contexts to enhance clarity, objectivity, and effectiveness in decision-making.\n"
     ]
    }
   ],
   "source": [
    "// Simple prompt to list some decision frameworks this GenAI LLM is familiar with \n",
    "// LLMs are trained on a diverse range of data and can provide insights on a wide range of topics like decision frameworks\n",
    "// SLMS (smaller LLMs) are trained on a more specific range of data and may not provide insights on all topics\n",
    "var simpleDecisionPrompt = \"\"\"\n",
    "Provide a list of 5 decision frameworks that can help improve the quality of decisions.\n",
    "\"\"\";\n",
    "\n",
    "// Create a new OpenAI prompt execution settings object\n",
    "var openAIPromptExecutionSettings = new OpenAIPromptExecutionSettings { \n",
    "    MaxTokens = 1000, \n",
    "    Temperature = 0.1, \n",
    "    TopP = 1.0, \n",
    "    FrequencyPenalty = 0.0, \n",
    "    PresencePenalty = 0.0\n",
    "    };\n",
    "\n",
    "// Execute the chat completion request using the prompt and settings defined above\n",
    "var chatResult = await chatCompletionService.GetChatMessageContentAsync(simpleDecisionPrompt, openAIPromptExecutionSettings);\n",
    "\n",
    "Console.WriteLine(chatResult.Content);"
   ]
  },
  {
   "cell_type": "markdown",
   "metadata": {},
   "source": [
    "### Step 3 - Execute Decision Chat Completion with Streaming "
   ]
  },
  {
   "cell_type": "markdown",
   "metadata": {},
   "source": [
    "Semantic Kernel supports prompt response streaming in the ChatCompletionService. This allows responses to be streamed to the client as soon as they are made available by the LLM and API services. Below the same decision prompt is executed. However, notice that chunks are streamed and can be read by the user as soon as they appear. "
   ]
  },
  {
   "cell_type": "code",
   "execution_count": 14,
   "metadata": {
    "dotnet_interactive": {
     "language": "csharp"
    },
    "polyglot_notebook": {
     "kernelName": "csharp"
    },
    "vscode": {
     "languageId": "polyglot-notebook"
    }
   },
   "outputs": [
    {
     "name": "stdout",
     "output_type": "stream",
     "text": [
      "Certainly! Here are **five decision frameworks** that can help improve the quality of decisions:\n",
      "\n",
      "1. **SWOT Analysis**  \n",
      "   - Assesses Strengths, Weaknesses, Opportunities, and Threats related to a decision or project.\n",
      "\n",
      "2. **Decision Matrix (Weighted Scoring Model)**  \n",
      "   - Compares multiple options against defined criteria, often with weights assigned to each criterion.\n",
      "\n",
      "3. **Pros and Cons List**  \n",
      "   - Enumerates the advantages and disadvantages of each option to clarify the net impact.\n",
      "\n",
      "4. **Cost-Benefit Analysis**  \n",
      "   - Evaluates the financial and non-financial costs versus the expected benefits of each alternative.\n",
      "\n",
      "5. **The Six Thinking Hats**  \n",
      "   - Encourages looking at decisions from six distinct perspectives (logic, emotion, optimism, caution, creativity, and process) to ensure a comprehensive evaluation.\n",
      "\n",
      "These frameworks provide structured approaches to making complex decisions more rational and thorough."
     ]
    }
   ],
   "source": [
    "// Stream the chat completion response\n",
    "await foreach (var content in chatCompletionService.GetStreamingChatMessageContentsAsync(simpleDecisionPrompt))\n",
    "{\n",
    "    Console.Write(content);\n",
    "}"
   ]
  },
  {
   "cell_type": "markdown",
   "metadata": {},
   "source": [
    "### Step 4 - Execute Decision Chat Completion with a System Prompt & Chat History "
   ]
  },
  {
   "cell_type": "markdown",
   "metadata": {},
   "source": [
    "Semantic Kernel has a ChatHistory object that can be used with the ChatCompletionService to provide historical chat context to the LLM. Notice that the ChatHistory object differentiates between the different types of chat messages:\n",
    "* System Message - System or MetaPrompt. These are usually global instructions that set the \"overall rules\" for interacting with the LLMs.\n",
    "* User Message - A message from the user\n",
    "* Assistant Message - A message from the LLM. This is a message generated from an assistant or an agent. \n",
    "\n",
    "Identifying the messages from which role (user) it came from can help the LLM improve its own reasoning responses. This is a more sophisticated approach than passing chat history in a long dynamic string. ChatHistory objects can be serialized and persisted into databases as well."
   ]
  },
  {
   "cell_type": "code",
   "execution_count": 15,
   "metadata": {
    "dotnet_interactive": {
     "language": "csharp"
    },
    "polyglot_notebook": {
     "kernelName": "csharp"
    },
    "vscode": {
     "languageId": "polyglot-notebook"
    }
   },
   "outputs": [
    {
     "name": "stdout",
     "output_type": "stream",
     "text": [
      "Certainly! Here are five decision frameworks that can help improve the quality of decisions, along with a brief description of each:\n",
      "\n",
      "---\n",
      "\n",
      "### 1. **Pros and Cons Analysis**\n",
      "**Description:**  \n",
      "List all the advantages (pros) and disadvantages (cons) of each option.  \n",
      "**Use When:**  \n",
      "You need a straightforward comparison for a few clear alternatives.\n",
      "\n",
      "---\n",
      "\n",
      "### 2. **Cost-Benefit Analysis**\n",
      "**Description:**  \n",
      "Quantitatively compare the costs (monetary, time, effort, risk) versus the expected benefits of each option.  \n",
      "**Use When:**  \n",
      "You need to justify a decision based on tangible trade-offs and resource allocation.\n",
      "\n",
      "---\n",
      "\n",
      "### 3. **SWOT Analysis (Strengths, Weaknesses, Opportunities, Threats)**\n",
      "**Description:**  \n",
      "Assess an option by identifying internal strengths/weaknesses and external opportunities/threats.  \n",
      "**Use When:**  \n",
      "You’re making strategic or organizational decisions, or choosing between complex options.\n",
      "\n",
      "---\n",
      "\n",
      "### 4. **Decision Matrix (Weighted Scoring Model)**\n",
      "**Description:**  \n",
      "Evaluate options by scoring each against a set of criteria, weighting the criteria by importance, and summing the weighted scores.  \n",
      "**Use When:**  \n",
      "You have multiple options and need to balance multiple decision factors systematically.\n",
      "\n",
      "---\n",
      "\n",
      "### 5. **OODA Loop (Observe, Orient, Decide, Act)**\n",
      "**Description:**  \n",
      "A rapid iterative cycle: Observe the situation, Orient yourself with relevant data, Decide on an action, Act, then loop back with new information.  \n",
      "**Use When:**  \n",
      "You’re in a fast-changing environment or need to make decisions quickly and iteratively.\n",
      "\n",
      "---\n",
      "\n",
      "**Tip:**  \n",
      "Choose a framework that fits the complexity, timeframe, and impact of your decision. In critical or high-stakes situations, combining frameworks often yields the most robust results."
     ]
    }
   ],
   "source": [
    "// Set the overall system prompt to behave like a decision intelligence assistant (persona)\n",
    "var systemPrompt = \"\"\"\n",
    "You are a Decision Intelligence assistant. \n",
    "Assist the user in exploring options, reasoning through decisions, problem-solving, and applying systems thinking to various scenarios. \n",
    "Provide structured, logical, and comprehensive advice.\n",
    "\"\"\";\n",
    "\n",
    "// Simple instruction prompt to list 5 (five) decision frameworks this GenAI LLM is familiar with\n",
    "var simpleDecisionPrompt = \"\"\"\n",
    "Provide five Decision Frameworks that can help improve the quality of decisions.\n",
    "\"\"\";\n",
    "\n",
    "// Create a new chat history object with proper system and user message roles\n",
    "var chatHistory = new ChatHistory();\n",
    "chatHistory.AddSystemMessage(systemPrompt);\n",
    "chatHistory.AddUserMessage(simpleDecisionPrompt);\n",
    "\n",
    "// Note: The chat completion service can also be used with a chat history object, which allows for a more conversational context.\n",
    "var chatResponse = string.Empty;\n",
    "await foreach (var content in chatCompletionService.GetStreamingChatMessageContentsAsync(chatHistory))\n",
    "{\n",
    "    chatResponse += content;\n",
    "    Console.Write(content);\n",
    "}\n",
    "\n",
    "// Add the assistant's response to the chat history\n",
    "chatHistory.AddAssistantMessage(chatResponse);"
   ]
  },
  {
   "cell_type": "markdown",
   "metadata": {},
   "source": [
    "In the next step, an additional prompt instruction will be added to the chat history. From the 5 decision frameworks provided in the chat history, Generative AI is asked to recommed a framework best suited for the militaty intelligence community. Notice that the previous chat history is automatically provided to provide additional intelligence context. \n",
    "\n",
    "> 📜 \"Take time to deliberate, but when the time for action comes, stop thinking and go in.\"\n",
    ">\n",
    "> -- <cite>Napoleon Bornaparte (French Emporer and brilliant military mind)</cite>  "
   ]
  },
  {
   "cell_type": "code",
   "execution_count": 16,
   "metadata": {
    "dotnet_interactive": {
     "language": "csharp"
    },
    "polyglot_notebook": {
     "kernelName": "csharp"
    },
    "vscode": {
     "languageId": "polyglot-notebook"
    }
   },
   "outputs": [
    {
     "name": "stdout",
     "output_type": "stream",
     "text": [
      "Certainly! Let's reason step by step to determine which of the five frameworks is best suited for the military intelligence community:\n",
      "\n",
      "---\n",
      "\n",
      "### **Step 1: Define the Decision Context**\n",
      "\n",
      "The military intelligence community operates in:\n",
      "- High-pressure environments\n",
      "- Often incomplete, ambiguous, or rapidly changing information\n",
      "- Situations requiring both rapid responses and adaptability\n",
      "- The need for iterative reassessment as situations evolve\n",
      "\n",
      "---\n",
      "\n",
      "### **Step 2: Evaluate Each Framework Against Context**\n",
      "\n",
      "**1. Pros and Cons Analysis**  \n",
      "- Simple, lacks depth for dynamic/complex military scenarios.\n",
      "\n",
      "**2. Cost-Benefit Analysis**  \n",
      "- Useful for resource decisions, but may fall short under uncertainty and rapid change.\n",
      "\n",
      "**3. SWOT Analysis**  \n",
      "- Good for strategic planning, but often too slow/static for real-time operational intelligence.\n",
      "\n",
      "**4. Decision Matrix (Weighted Scoring Model)**  \n",
      "- Systematic, but may not be flexible or timely enough for fluid environments.\n",
      "\n",
      "**5. OODA Loop (Observe, Orient, Decide, Act)**  \n",
      "- Specifically designed for military decision-making (originating from military strategist John Boyd)\n",
      "- Emphasizes speed, adaptability, and iterative learning in changing and uncertain environments\n",
      "- Well-suited to intelligence cycles, situational awareness, and operational tempo\n",
      "\n",
      "---\n",
      "\n",
      "### **Step 3: Select the Single Best Framework**\n",
      "\n",
      "Given the **need for rapid, adaptive, and iterative decision-making in uncertain and high-stakes environments**—which defines the military intelligence context—\n",
      "\n",
      "**The OODA Loop is the single best framework for the military intelligence community.**\n",
      "\n",
      "---\n",
      "\n",
      "**Summary Table:**\n",
      "\n",
      "| Framework   | Alignment With Military Intelligence Needs                                                                                                     | Best Fit? |\n",
      "|-------------|-----------------------------------------------------------------------------------------------------------------------------------------------|-----------|\n",
      "| Pros/Cons   | Too basic, not iterative/adaptive                                                                                                             | No        |\n",
      "| Cost-Benefit| Good for resources, not for fast-paced ambiguous situations                                                                                   | No        |\n",
      "| SWOT        | Good for strategic view, too static                                                                                                           | No        |\n",
      "| Decision Matrix | Systematic but not suited for rapid/iterative adjustments                                                                               | No        |\n",
      "| OODA Loop   | Built for speed, continuous learning, adjusting to dynamic and uncertain info flows, directly rooted in military doctrine                     | **Yes**   |\n",
      "\n",
      "---\n",
      "\n",
      "**Final Answer:**  \n",
      "**OODA Loop (Observe, Orient, Decide, Act)** is the best-suited decision framework for the military intelligence community."
     ]
    }
   ],
   "source": [
    "// Note: No reference is made to what previous frameworks were listed.\n",
    "// Note: Previous context is maintained by the Semantic Kernel ChatHistory object \n",
    "var simpleDecisionPromptFollowupQuestionPartTwo = \"\"\"\n",
    "Which of the 5 decision frameworks listed above is best suited for the military intelligence community?  \n",
    "Think carefully step by step about what decision frameworks are needed to answer the query.  \n",
    "Select only the single best framework. \n",
    "\"\"\";\n",
    "\n",
    "// Add User message to the chat history\n",
    "chatHistory.AddUserMessage(simpleDecisionPromptFollowupQuestionPartTwo);\n",
    "\n",
    "var chatResponse = string.Empty;\n",
    "await foreach (var content in chatCompletionService.GetStreamingChatMessageContentsAsync(chatHistory))\n",
    "{\n",
    "    chatResponse += content;\n",
    "    Console.Write(content);\n",
    "}\n",
    "\n",
    "// Add Assistant message to the chat history\n",
    "chatHistory.AddAssistantMessage(chatResponse);"
   ]
  },
  {
   "cell_type": "markdown",
   "metadata": {},
   "source": [
    "### Step 5 - Execute Decision Chat Completion with a Multi-Turn Conversation Scenario "
   ]
  },
  {
   "cell_type": "markdown",
   "metadata": {},
   "source": [
    "> 📜 \"Price is what you pay. Value is what you get.\"  \n",
    ">\n",
    "> -- <cite>Warren Buffet (one of the most successful investors of all time)</cite>  "
   ]
  },
  {
   "cell_type": "markdown",
   "metadata": {},
   "source": [
    "With Semantic Kernel maintaining state with the ChatHistory object, the natural converation between user and AI can be persisted for future use. It can be saved for future reference, it can be replayed, it can be forked in certain spots to try different scenarios, it can be used as a starting point for other conversations etc. \n",
    "\n",
    "In the scenario below, let's build a multi-turn conversation about a decision over a purchase for a fitness tracker. Notice that each turn the appropriate Chat History roles are populated with the appropriate prompts and assistant (AI) responses. This in effect acts as the Gathering Intelligence step of the Decision Intelligence framework as the conversation information has been persisted and can be re-used as context for the decision scenario."
   ]
  },
  {
   "cell_type": "code",
   "execution_count": 17,
   "metadata": {
    "dotnet_interactive": {
     "language": "csharp"
    },
    "polyglot_notebook": {
     "kernelName": "csharp"
    },
    "vscode": {
     "languageId": "polyglot-notebook"
    }
   },
   "outputs": [],
   "source": [
    "// Set the overall system prompt to behave like a decision intelligence assistant (persona)\n",
    "var systemPromptDecisionConversation = \"\"\"\n",
    "You are a Decision Intelligence assistant. \n",
    "Assist the user in exploring options, reasoning through decisions, problem-solving, and applying systems thinking to various scenarios. \n",
    "Provide structured, logical, and comprehensive advice.\n",
    "\"\"\";\n",
    "\n",
    "// User prompt to start a decision conversation about buying a fitness tracker\n",
    "var userPromptDecisionConversationTurn1 = \"\"\"\n",
    "I am considering buying a fitness tracker but I am not sure which features really matter. \n",
    "Could you explain the main considerations? \n",
    "\"\"\";\n",
    "\n",
    "var assistantResponseDecisionConversationTurn1 = \"\"\"\n",
    "Absolutely! Key considerations for choosing a fitness tracker often include: \n",
    "- Fitness Features (e.g., step counting, heart-rate monitoring, workout tracking)\n",
    "- Health Monitoring (like sleep tracking or advanced ECG capabilities)\n",
    "- Battery Life\n",
    "- Comfort and Fit\n",
    "- Compatibility with your smartphone's operating system\n",
    "- Price Range\n",
    "- Knowing which of these you value most will help narrow down your options.\n",
    "\"\"\";\n",
    "\n",
    "var userPromptDecisionConversationTurn2 = \"\"\"\n",
    "Got it. Battery life and sleep tracking are both important to me. \n",
    "What's a typical battery life range for trackers, and how good is their sleep tracking?\n",
    "\"\"\";\n",
    "\n",
    "var assistantResponseDecisionConversationTurn2 = \"\"\"\n",
    "Different fitness trackers have varying battery lives, typically anywhere from 2-3 days (for more feature-rich or bright-display devices) \n",
    "up to about 10-14 days (for more minimalist trackers). \n",
    "\n",
    "Regarding sleep tracking:\n",
    "- Many modern devices can track different sleep stages (light, deep, REM).\n",
    "- High-end devices even track breathing rate and oxygen saturation during the night.\n",
    "- Some also offer insights about sleep quality and tips for improvement.\n",
    "\n",
    "If battery life is a priority, you may want to consider trackers with a more conservative display and fewer power-hungry features.\n",
    "\"\"\";\n",
    "\n",
    "var userPromptDecisionConversationTurn3 = \"\"\"\n",
    "Are there any popular models you would recommend for that balance of battery life and sleep tracking?\n",
    "\"\"\";\n",
    "\n",
    "var assistantResponseDecisionConversationTurn3 = \"\"\"\n",
    "Popular options that strike a balance between robust sleep tracking and good battery life include:\n",
    "- Fitbit Inspire 3 or Fitbit Charge 5: Both have solid sleep tracking, multi-day battery, and strong app support.\n",
    "- Garmin Vivosmart 5: Offers decent fitness and sleep insights, plus better-than-average battery life.\n",
    "- Xiaomi Mi Band 7: Budget-friendly, surprisingly robust health metrics, and a long-lasting battery.\n",
    "\n",
    "Each varies in price and features, so consider your budget and the specific metrics you’d like to track.\n",
    "\"\"\";\n",
    "\n",
    "var userPromptDecisionConversationTurn4 = \"\"\"\n",
    "That is great infor. \n",
    "I also have a friend who said I should consider an Apple Watch. \n",
    "Does that have comparable battery life and sleep tracking?\n",
    "\"\"\";\n",
    "\n",
    "var assistantResponseDecisionConversationTurn4 = \"\"\"\n",
    "The Apple Watch is known for its extensive feature set, including advanced health monitoring, \n",
    "but its battery life tends to be shorter—usually around 18-24 hours on a single charge \n",
    "(or possibly a bit more in low-power mode). While its sleep tracking features have improved over time, \n",
    "you might find you need to charge it daily or almost daily, which could conflict with your goal of 24/7 tracking. \n",
    "\"\"\";\n",
    "\n",
    "// Create a new chat history with a multi-turn conversation about buying a fitness tracker\n",
    "var chatHistoryDecisionConversation = new ChatHistory();\n",
    "chatHistoryDecisionConversation.AddSystemMessage(systemPromptDecisionConversation);\n",
    "chatHistoryDecisionConversation.AddUserMessage(userPromptDecisionConversationTurn1);\n",
    "chatHistoryDecisionConversation.AddAssistantMessage(assistantResponseDecisionConversationTurn1);\n",
    "chatHistoryDecisionConversation.AddUserMessage(userPromptDecisionConversationTurn2);\n",
    "chatHistoryDecisionConversation.AddAssistantMessage(assistantResponseDecisionConversationTurn2);\n",
    "chatHistoryDecisionConversation.AddUserMessage(userPromptDecisionConversationTurn3);\n",
    "chatHistoryDecisionConversation.AddAssistantMessage(assistantResponseDecisionConversationTurn3);\n",
    "chatHistoryDecisionConversation.AddUserMessage(userPromptDecisionConversationTurn4);\n",
    "chatHistoryDecisionConversation.AddAssistantMessage(assistantResponseDecisionConversationTurn4);\n"
   ]
  },
  {
   "cell_type": "markdown",
   "metadata": {},
   "source": [
    "Using the above conversation as the \"Gathered Intelligence\" betweeen the user and the AI assistant, let's make a final decision and ask for final feedback and a decision evaluation. "
   ]
  },
  {
   "cell_type": "code",
   "execution_count": 18,
   "metadata": {
    "dotnet_interactive": {
     "language": "csharp"
    },
    "polyglot_notebook": {
     "kernelName": "csharp"
    },
    "vscode": {
     "languageId": "polyglot-notebook"
    }
   },
   "outputs": [
    {
     "name": "stdout",
     "output_type": "stream",
     "text": [
      "That sounds like a thoughtful decision! The **Fitbit Inspire 3** is a strong choice for several reasons:\n",
      "\n",
      "**Strengths:**\n",
      "- **Battery Life:** Typically lasts up to 10 days, so you won’t need to charge it daily—ideal for continuous use, including sleep tracking.\n",
      "- **Sleep Tracking:** Offers detailed insights, including stages (light, deep, REM), sleep score, and trends over time.\n",
      "- **App Support:** The Fitbit app is user-friendly and offers long-term trend analysis, plus a large community if you enjoy social motivation.\n",
      "- **Comfort:** Lightweight and slim, it’s easy to wear day and night.\n",
      "- **Value:** Affordable compared to many premium devices.\n",
      "\n",
      "**Potential Limitations:**\n",
      "- **Screen Size:** Smaller display than smartwatches, so notifications and metrics are less detailed.\n",
      "- **Advanced Health Features:** Lacks ECG or SpO₂ spot-checks found on higher-end Fitbits.\n",
      "- **Smartwatch Features:** Limited compared to smartwatches (e.g., doesn’t support third-party apps or music streaming).\n",
      "\n",
      "**Final Thought:**  \n",
      "For your priorities—battery life, budget-friendliness, and sleep tracking—the Inspire 3 is hard to beat. If you want even more health features in the future, you can always explore other Fitbit models in their lineup.\n",
      "\n",
      "Enjoy using your new fitness tracker! If you have questions about setup or making the most of your data, feel free to ask."
     ]
    }
   ],
   "source": [
    "var userPromptDecisionConversationFinalDecision = \"\"\"\n",
    "Thank you for all of that information, I think I'll go with a Fitbit. \n",
    "The Fitbit Inspire 3 seems like a good fit for my budget and needs. \n",
    "\n",
    "Any quick final thoughts on my decision? \n",
    "\"\"\";\n",
    "\n",
    "// Add User message to the chat history\n",
    "chatHistoryDecisionConversation.AddUserMessage(userPromptDecisionConversationFinalDecision);\n",
    "\n",
    "var chatResponse = string.Empty;\n",
    "await foreach (var content in chatCompletionService.GetStreamingChatMessageContentsAsync(chatHistoryDecisionConversation))\n",
    "{\n",
    "    chatResponse += content;\n",
    "    Console.Write(content);\n",
    "}"
   ]
  },
  {
   "cell_type": "markdown",
   "metadata": {},
   "source": [
    "### Step 6 - Inspect Gathered Intelligence of Chat History "
   ]
  },
  {
   "cell_type": "markdown",
   "metadata": {},
   "source": [
    "The Semantic Kernel Chat History is a transparent construct that can be inspected and written out. In fact, the ChatHistory object can be manipulated to replay chats from middle interactions to simulate different outcomes.\n",
    "\n",
    "Execute the cell below to write out the Semantic Kernel Chat History of this chat."
   ]
  },
  {
   "cell_type": "code",
   "execution_count": 10,
   "metadata": {
    "dotnet_interactive": {
     "language": "csharp"
    },
    "polyglot_notebook": {
     "kernelName": "csharp"
    },
    "vscode": {
     "languageId": "polyglot-notebook"
    }
   },
   "outputs": [
    {
     "name": "stdout",
     "output_type": "stream",
     "text": [
      "Number of chat interactions: 10\n",
      "\n",
      "# SYSTEM: You are a Decision Intelligence assistant. \n",
      "Assist the user in exploring options, reasoning through decisions, problem-solving, and applying systems thinking to various scenarios. \n",
      "Provide structured, logical, and comprehensive advice.\n",
      "\n",
      "# USER: I am considering buying a fitness tracker but I am not sure which features really matter. \n",
      "Could you explain the main considerations? \n",
      "\n",
      "# ASSISTANT: Absolutely! Key considerations for choosing a fitness tracker often include: \n",
      "- Fitness Features (e.g., step counting, heart-rate monitoring, workout tracking)\n",
      "- Health Monitoring (like sleep tracking or advanced ECG capabilities)\n",
      "- Battery Life\n",
      "- Comfort and Fit\n",
      "- Compatibility with your smartphone's operating system\n",
      "- Price Range\n",
      "- Knowing which of these you value most will help narrow down your options.\n",
      "\n",
      "# USER: Got it. Battery life and sleep tracking are both important to me. \n",
      "What's a typical battery life range for trackers, and how good is their sleep tracking?\n",
      "\n",
      "# ASSISTANT: Different fitness trackers have varying battery lives, typically anywhere from 2-3 days (for more feature-rich or bright-display devices) \n",
      "up to about 10-14 days (for more minimalist trackers). \n",
      "\n",
      "Regarding sleep tracking:\n",
      "- Many modern devices can track different sleep stages (light, deep, REM).\n",
      "- High-end devices even track breathing rate and oxygen saturation during the night.\n",
      "- Some also offer insights about sleep quality and tips for improvement.\n",
      "\n",
      "If battery life is a priority, you may want to consider trackers with a more conservative display and fewer power-hungry features.\n",
      "\n",
      "# USER: Are there any popular models you would recommend for that balance of battery life and sleep tracking?\n",
      "\n",
      "# ASSISTANT: Popular options that strike a balance between robust sleep tracking and good battery life include:\n",
      "- Fitbit Inspire 3 or Fitbit Charge 5: Both have solid sleep tracking, multi-day battery, and strong app support.\n",
      "- Garmin Vivosmart 5: Offers decent fitness and sleep insights, plus better-than-average battery life.\n",
      "- Xiaomi Mi Band 7: Budget-friendly, surprisingly robust health metrics, and a long-lasting battery.\n",
      "\n",
      "Each varies in price and features, so consider your budget and the specific metrics you’d like to track.\n",
      "\n",
      "# USER: That is great infor. \n",
      "I also have a friend who said I should consider an Apple Watch. \n",
      "Does that have comparable battery life and sleep tracking?\n",
      "\n",
      "# ASSISTANT: The Apple Watch is known for its extensive feature set, including advanced health monitoring, \n",
      "but its battery life tends to be shorter—usually around 18-24 hours on a single charge \n",
      "(or possibly a bit more in low-power mode). While its sleep tracking features have improved over time, \n",
      "you might find you need to charge it daily or almost daily, which could conflict with your goal of 24/7 tracking. \n",
      "\n",
      "# USER: Thank you for all of that information, I think I'll go with a Fitbit. \n",
      "The Fitbit Inspire 3 seems like a good fit for my budget and needs. \n",
      "\n",
      "Any quick final thoughts on my decision? \n"
     ]
    }
   ],
   "source": [
    "// Print the number of chat interactions and the chat history (turns)\n",
    "Console.WriteLine(\"Number of chat interactions: \" + chatHistoryDecisionConversation.Count());\n",
    "\n",
    "foreach (var message in chatHistoryDecisionConversation)\n",
    "{\n",
    "    Console.WriteLine(string.Empty);\n",
    "    Console.WriteLine($\"# {message.Role.ToString().ToUpper()}: {message.Content}\");\n",
    "}"
   ]
  },
  {
   "cell_type": "markdown",
   "metadata": {},
   "source": [
    "Having the Chat History object available for inspection, this can be used to further help the decision-making process. For example you can load the Chat History and summarize it. "
   ]
  },
  {
   "cell_type": "code",
   "execution_count": 11,
   "metadata": {
    "dotnet_interactive": {
     "language": "csharp"
    },
    "polyglot_notebook": {
     "kernelName": "csharp"
    },
    "vscode": {
     "languageId": "polyglot-notebook"
    }
   },
   "outputs": [
    {
     "name": "stdout",
     "output_type": "stream",
     "text": [
      "The chat conversation focused on recommendations for purchasing a fitness tracker. Key considerations included tracking features like heart rate monitoring, sleep analysis, GPS, and activity tracking. Budget, brand reputation (e.g., Fitbit, Garmin, or Apple), and compatibility with smartphones were also highlighted as important factors in the decision-making process."
     ]
    }
   ],
   "source": [
    "var userPromptSummarizeTheDecisionChat = \"\"\"\n",
    "Briefly summarize the chat conversation about buying a fitness tracker.\n",
    "\"\"\";\n",
    "\n",
    "// Add User message to the chat history\n",
    "chatHistoryDecisionConversation.AddUserMessage(userPromptSummarizeTheDecisionChat);\n",
    "\n",
    "var chatResponse = string.Empty;\n",
    "await foreach (var content in chatCompletionService.GetStreamingChatMessageContentsAsync(userPromptSummarizeTheDecisionChat))\n",
    "{\n",
    "    chatResponse += content;\n",
    "    Console.Write(content);\n",
    "}"
   ]
  }
 ],
 "metadata": {
  "kernelspec": {
   "display_name": ".NET (C#)",
   "language": "C#",
   "name": ".net-csharp"
  },
  "language_info": {
   "name": "csharp"
  },
  "polyglot_notebook": {
   "kernelInfo": {
    "defaultKernelName": "csharp",
    "items": [
     {
      "aliases": [],
      "name": "csharp"
     }
    ]
   }
  }
 },
 "nbformat": 4,
 "nbformat_minor": 2
}
