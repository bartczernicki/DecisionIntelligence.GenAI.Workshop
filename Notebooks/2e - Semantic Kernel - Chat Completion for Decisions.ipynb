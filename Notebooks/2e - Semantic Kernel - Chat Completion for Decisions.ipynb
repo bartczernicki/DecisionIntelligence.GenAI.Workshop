{
 "cells": [
  {
   "cell_type": "markdown",
   "metadata": {},
   "source": [
    "<div style=\"display: flex; align-items: center;\">\n",
    "  <img src=\"https://raw.githubusercontent.com/bartczernicki/DecisionIntelligence.GenAI.Workshop/main/Images/DecisionIntelligenceSemanticKernelLogo.png\" width=\"60px\" style=\"margin-right: 10px;\">\n",
    "  <span style=\"font-size: 1.5em; font-weight: bold;\">Semantic Kernel - Chat Completion for Decisions</span>\n",
    "</div>"
   ]
  },
  {
   "cell_type": "markdown",
   "metadata": {},
   "source": [
    "Decision Intelligence applied in this module:  \n",
    "* Listing of various decision-making frameworks and with their descriptions by using Chat Completion  \n",
    "* Decision Scenario: Recommendation of a decision-making framework for specific higher-stakes decisions (purchase of a car)  \n",
    "* Illustrating a domain specific decision-making framework (millitary intelligence)  \n"
   ]
  },
  {
   "cell_type": "markdown",
   "metadata": {},
   "source": [
    "In this module, the Semantic Kernel ability to create a chat experience will be introduced. This is a much richer experience than just sending simple prompts that are stateless and context is forgotten.\n",
    "\n",
    "Semantic Kernel has first-class support for chat scenarios, where the user talks back and forth with the LLM, the arguments get populated with the history of the conversation. During each new run of the kernel, the arguments will be provided to the AI with content. This allows the LLM to know the historical context of the conversation."
   ]
  },
  {
   "cell_type": "markdown",
   "metadata": {},
   "source": [
    "----\n",
    "### Step 1 - Initialize Configuration Builder & Build the Semantic Kernel Orchestration"
   ]
  },
  {
   "cell_type": "markdown",
   "metadata": {},
   "source": [
    "Execute the next two cells to:\n",
    "* Use the Configuration Builder to load the API secrets.  \n",
    "* Use the API configuration to build the Semantic Kernel orchestrator."
   ]
  },
  {
   "cell_type": "code",
   "execution_count": 1,
   "metadata": {
    "dotnet_interactive": {
     "language": "csharp"
    },
    "polyglot_notebook": {
     "kernelName": "csharp"
    }
   },
   "outputs": [
    {
     "data": {
      "text/html": [
       "<div><div></div><div></div><div><strong>Installed Packages</strong><ul><li><span>Microsoft.Extensions.Configuration, 9.0.6</span></li><li><span>Microsoft.Extensions.Configuration.Json, 9.0.6</span></li></ul></div></div>"
      ]
     },
     "metadata": {},
     "output_type": "display_data"
    }
   ],
   "source": [
    "// Import the required NuGet configuration packages\n",
    "#r \"nuget: Microsoft.Extensions.Configuration, 9.0.6\"\n",
    "#r \"nuget: Microsoft.Extensions.Configuration.Json, 9.0.6\"\n",
    "\n",
    "using Microsoft.Extensions.Configuration.Json;\n",
    "using Microsoft.Extensions.Configuration;\n",
    "using System.IO;\n",
    "\n",
    "// Load the configuration settings from the local.settings.json and secrets.settings.json files\n",
    "// The secrets.settings.json file is used to store sensitive information such as API keys\n",
    "var configurationBuilder = new ConfigurationBuilder()\n",
    "    .SetBasePath(Directory.GetCurrentDirectory())\n",
    "    .AddJsonFile(\"local.settings.json\", optional: true, reloadOnChange: true)\n",
    "    .AddJsonFile(\"secrets.settings.json\", optional: true, reloadOnChange: true);\n",
    "var config = configurationBuilder.Build();\n",
    "\n",
    "// IMPORTANT: You ONLY NEED either Azure OpenAI or OpenAI connectiopn info, not both.\n",
    "// Azure OpenAI Connection Info\n",
    "var azureOpenAIEndpoint = config[\"AzureOpenAI:Endpoint\"];\n",
    "var azureOpenAIAPIKey = config[\"AzureOpenAI:APIKey\"];\n",
    "var azureOpenAIModelDeploymentName = config[\"AzureOpenAI:ModelDeploymentName\"];\n",
    "// OpenAI Connection Info \n",
    "var openAIAPIKey = config[\"OpenAI:APIKey\"];\n",
    "var openAIModelId = config[\"OpenAI:ModelId\"];"
   ]
  },
  {
   "cell_type": "code",
   "execution_count": 2,
   "metadata": {
    "dotnet_interactive": {
     "language": "csharp"
    },
    "polyglot_notebook": {
     "kernelName": "csharp"
    }
   },
   "outputs": [
    {
     "data": {
      "text/html": [
       "<div><div></div><div></div><div><strong>Installed Packages</strong><ul><li><span>Microsoft.Extensions.DependencyInjection, 9.0.6</span></li><li><span>Microsoft.SemanticKernel, 1.6.1</span></li></ul></div></div>"
      ]
     },
     "metadata": {},
     "output_type": "display_data"
    },
    {
     "name": "stdout",
     "output_type": "stream",
     "text": [
      "Using Azure OpenAI Service\n"
     ]
    }
   ],
   "source": [
    "// Install the required NuGet packages\n",
    "// Note: This also installs the Dependency Injection Package to retrieve the ChatCompletionService\n",
    "#r \"nuget: Microsoft.Extensions.DependencyInjection, 9.0.6\"\n",
    "#r \"nuget: Microsoft.SemanticKernel, 1.6.1\"\n",
    "\n",
    "using Microsoft.Extensions.DependencyInjection.Extensions;\n",
    "using Microsoft.Extensions.DependencyInjection;\n",
    "using Microsoft.SemanticKernel;\n",
    "using Microsoft.SemanticKernel.ChatCompletion;\n",
    "using Microsoft.SemanticKernel.Connectors.OpenAI;\n",
    "\n",
    "Kernel semanticKernel;\n",
    "\n",
    "// Set the flag to use Azure OpenAI or OpenAI. False to use OpenAI, True to use Azure OpenAI\n",
    "var useAzureOpenAI = true;\n",
    "\n",
    "// Create a new Semantic Kernel instance\n",
    "if (useAzureOpenAI)\n",
    "{\n",
    "    Console.WriteLine(\"Using Azure OpenAI Service\");\n",
    "    semanticKernel = Kernel.CreateBuilder()\n",
    "        .AddAzureOpenAIChatCompletion(\n",
    "            deploymentName: azureOpenAIModelDeploymentName,\n",
    "            endpoint: azureOpenAIEndpoint,\n",
    "            apiKey: azureOpenAIAPIKey)\n",
    "        .Build();\n",
    "}\n",
    "else\n",
    "{\n",
    "    Console.WriteLine(\"Using OpenAI Service\");\n",
    "    semanticKernel = Kernel.CreateBuilder()\n",
    "        .AddOpenAIChatCompletion(\n",
    "            modelId: openAIModelId,\n",
    "            apiKey: openAIAPIKey)\n",
    "        .Build();\n",
    "}\n",
    "\n",
    "var chatCompletionService = semanticKernel.Services.GetRequiredService<IChatCompletionService>();"
   ]
  },
  {
   "cell_type": "markdown",
   "metadata": {},
   "source": [
    "### Step 2 - Execute Decision Chat Completion with Prompt Execution Settings "
   ]
  },
  {
   "cell_type": "markdown",
   "metadata": {},
   "source": [
    "> 📜 **_\"If you can’t describe what you are doing as a process, you don’t know what you’re doing.\"_** \n",
    ">\n",
    "> -- <cite>W. Edwards Deming (renowned American engineer, statistician, and management consultant)</cite>  \n",
    "\n",
    "\n",
    "Using the Semantic Kernel ChatCompletion service is very similar to inovoking a prompt for basic LLM interactions. The chat completion service will provide very similar results to invoking the prompt directly."
   ]
  },
  {
   "cell_type": "code",
   "execution_count": 3,
   "metadata": {
    "dotnet_interactive": {
     "language": "csharp"
    },
    "polyglot_notebook": {
     "kernelName": "csharp"
    }
   },
   "outputs": [
    {
     "data": {
      "text/markdown": [
       "### 1. SWOT Analysis\n",
       "\n",
       "SWOT stands for Strengths, Weaknesses, Opportunities, and Threats. This framework helps individuals or organizations evaluate internal and external factors that can impact a decision, leading to a more comprehensive understanding of the situation.\n",
       "\n",
       "  \n",
       "\n",
       "### 2. Decision Matrix (Weighted Scoring Model)\n",
       "\n",
       "A decision matrix allows you to compare multiple options against a set of criteria. Each criterion is weighted based on importance, and each option is scored, helping to objectively identify the best choice.\n",
       "\n",
       "  \n",
       "\n",
       "### 3. Cost-Benefit Analysis\n",
       "\n",
       "This framework involves listing and quantifying the costs and benefits of each option. By comparing the total expected costs against the total expected benefits, decision-makers can determine which option offers the greatest net benefit.\n",
       "\n",
       "  \n",
       "\n",
       "### 4. The Eisenhower Matrix\n",
       "\n",
       "Also known as the Urgent-Important Matrix, this tool helps prioritize tasks or decisions by categorizing them based on urgency and importance, ensuring focus on what truly matters.\n",
       "\n",
       "  \n",
       "\n",
       "### 5. Six Thinking Hats\n",
       "\n",
       "Developed by Edward de Bono, this framework encourages looking at a decision from six different perspectives (logic, emotion, caution, optimism, creativity, and control), promoting well-rounded and creative decision-making."
      ]
     },
     "metadata": {},
     "output_type": "display_data"
    }
   ],
   "source": [
    "// Simple prompt to list some decision frameworks this GenAI LLM is familiar with \n",
    "// LLMs are trained on a diverse range of data and can provide insights on a wide range of topics like decision frameworks\n",
    "// SLMS (smaller LLMs) are trained on a more specific range of data and may not provide insights on all topics\n",
    "var simpleDecisionPrompt = \"\"\"\n",
    "Provide a list of 5 decision frameworks that can help improve the quality of decisions.\n",
    "\n",
    "Output Format Instructions:\n",
    "When generating Markdown, do not use any headings higher than ###. \n",
    "Avoid # and ## headers. Use only ###, ####, or lower-level headings if necessary. \n",
    "All top-level section headers should start at ### or lower. \n",
    "Never use ---, ***, or ___ for horizontal lines. There should be no horizontal lines in the output.\n",
    "For separation, use extra extra spacing. Do not any render horizontal lines.\n",
    "\"\"\";\n",
    "\n",
    "// Create a new OpenAI prompt execution settings object\n",
    "var openAIPromptExecutionSettings = new OpenAIPromptExecutionSettings { \n",
    "    MaxTokens = 1000, \n",
    "    Temperature = 0.1, \n",
    "    TopP = 1.0, \n",
    "    FrequencyPenalty = 0.0, \n",
    "    PresencePenalty = 0.0\n",
    "    };\n",
    "\n",
    "// Execute the chat completion request using the prompt and settings defined above\n",
    "var chatResult = await chatCompletionService.GetChatMessageContentAsync(simpleDecisionPrompt, openAIPromptExecutionSettings);\n",
    "\n",
    "// Display the result of the chat completion request as Markdown\n",
    "chatResult.Content.DisplayAs(\"text/markdown\");"
   ]
  },
  {
   "cell_type": "markdown",
   "metadata": {},
   "source": [
    "----\n",
    "### Step 3 - Execute Decision Chat Completion with Streaming "
   ]
  },
  {
   "cell_type": "markdown",
   "metadata": {},
   "source": [
    "Semantic Kernel supports prompt response streaming in the ChatCompletionService. This allows responses to be streamed to the client as soon as they are made available by the LLM and API services. Below the same decision prompt is executed. However, notice that chunks are streamed and can be read by the user as soon as they appear. "
   ]
  },
  {
   "cell_type": "code",
   "execution_count": 4,
   "metadata": {
    "dotnet_interactive": {
     "language": "csharp"
    },
    "polyglot_notebook": {
     "kernelName": "csharp"
    }
   },
   "outputs": [
    {
     "name": "stdout",
     "output_type": "stream",
     "text": [
      "### 1. Eisenhower Matrix\n",
      "\n",
      "The Eisenhower Matrix helps prioritize tasks by urgency and importance, dividing them into four quadrants:  \n",
      "- Urgent and important  \n",
      "- Important but not urgent  \n",
      "- Urgent but not important  \n",
      "- Neither urgent nor important  \n",
      "\n",
      "\n",
      "\n",
      "### 2. SWOT Analysis\n",
      "\n",
      "SWOT stands for Strengths, Weaknesses, Opportunities, and Threats. This framework helps evaluate internal and external factors to inform strategic decisions.  \n",
      "\n",
      "\n",
      "\n",
      "### 3. Cost-Benefit Analysis\n",
      "\n",
      "Cost-Benefit Analysis involves listing and comparing the costs and benefits of each option to determine which provides the greatest net benefit.  \n",
      "\n",
      "\n",
      "\n",
      "### 4. OODA Loop\n",
      "\n",
      "The OODA Loop stands for Observe, Orient, Decide, and Act. It is a cyclical process that helps individuals and organizations make decisions quickly and adaptively in dynamic situations.  \n",
      "\n",
      "\n",
      "\n",
      "### 5. Six Thinking Hats\n",
      "\n",
      "The Six Thinking Hats framework encourages looking at a decision from six distinct perspectives (logic, emotion, caution, optimism, creativity, and process) to ensure a well-rounded evaluation."
     ]
    }
   ],
   "source": [
    "// Stream the chat completion response\n",
    "await foreach (var content in chatCompletionService.GetStreamingChatMessageContentsAsync(simpleDecisionPrompt, openAIPromptExecutionSettings))\n",
    "{\n",
    "    Console.Write(content);\n",
    "}"
   ]
  },
  {
   "cell_type": "markdown",
   "metadata": {},
   "source": [
    "----\n",
    "### Step 4 - Execute Decision Chat Completion with a System Prompt & Chat History "
   ]
  },
  {
   "cell_type": "markdown",
   "metadata": {},
   "source": [
    "Semantic Kernel has a ChatHistory object that can be used with the ChatCompletionService to provide historical chat context to the LLM. Notice that the ChatHistory object differentiates between the different types of chat messages:\n",
    "* System Message - System or MetaPrompt. These are usually global instructions that set the \"overall rules\" for interacting with the LLMs.\n",
    "* User Message - A message from the user\n",
    "* Assistant Message - A message from the LLM. This is a message generated from an assistant or an agent. \n",
    "\n",
    "Identifying the messages from which role (user) it came from can help the LLM improve its own reasoning responses. This is a more sophisticated approach than passing chat history in a long dynamic string. ChatHistory objects can be serialized and persisted into databases as well."
   ]
  },
  {
   "cell_type": "code",
   "execution_count": 5,
   "metadata": {
    "dotnet_interactive": {
     "language": "csharp"
    },
    "polyglot_notebook": {
     "kernelName": "csharp"
    }
   },
   "outputs": [
    {
     "data": {
      "text/markdown": [
       "### 1. SWOT Analysis  \n",
       "**Purpose**: To evaluate the Strengths, Weaknesses, Opportunities, and Threats associated with a decision or strategic direction.  \n",
       "**How it helps**: Encourages comprehensive thinking by considering both internal factors (strengths, weaknesses) and external factors (opportunities, threats), thus promoting balanced decision-making.\n",
       "\n",
       "### 2. Cost-Benefit Analysis  \n",
       "**Purpose**: To systematically compare the costs and benefits of different options.  \n",
       "**How it helps**: Quantifies and weighs trade-offs, helping to determine the net value and potential return of each alternative, which reduces bias toward emotionally-driven choices.\n",
       "\n",
       "### 3. Six Thinking Hats  \n",
       "**Purpose**: To approach a decision from multiple perspectives by assigning different \"hats\" or modes of thinking (facts, emotions, caution, optimism, creativity, process).  \n",
       "**How it helps**: Prevents groupthink by structuring discussions so all aspects—logical, emotional, creative, and critical—are considered.\n",
       "\n",
       "### 4. OODA Loop (Observe–Orient–Decide–Act)  \n",
       "**Purpose**: Designed to facilitate rapid and iterative decision-making, especially in dynamic environments.  \n",
       "**How it helps**: Emphasizes continuous monitoring and adaptation, ensuring decisions respond quickly to changing conditions and new information.\n",
       "\n",
       "### 5. The Eisenhower Matrix  \n",
       "**Purpose**: To prioritize tasks and decisions based on their urgency and importance.  \n",
       "**How it helps**: Helps focus resources and attention on what really matters, reducing the risk of distraction by less significant issues and improving efficiency in decision implementation."
      ]
     },
     "metadata": {},
     "output_type": "display_data"
    }
   ],
   "source": [
    "// Set the overall system prompt to behave like a decision intelligence assistant (persona)\n",
    "var systemPrompt = \"\"\"\n",
    "You are a Decision Intelligence assistant. \n",
    "Assist the user in exploring options, reasoning through decisions, problem-solving, and applying systems thinking to various scenarios. \n",
    "Provide structured, logical, and comprehensive advice.\n",
    "\n",
    "Output Format Instructions:\n",
    "When generating Markdown, do not use any headings higher than ###. \n",
    "Avoid # and ## headers. Use only ###, ####, or lower-level headings if necessary. \n",
    "All top-level section headers should start at ### or lower. \n",
    "Never use ---, ***, or ___ for horizontal lines. There should be no horizontal lines in the output.\n",
    "For separation, use extra extra spacing. Do not any render horizontal lines.\n",
    "\"\"\";\n",
    "\n",
    "// Simple instruction prompt to list 5 (five) decision frameworks this GenAI LLM is familiar with\n",
    "var simpleDecisionPrompt = \"\"\"\n",
    "Provide five Decision Frameworks that can help improve the quality of decisions.\n",
    "\"\"\";\n",
    "\n",
    "// Create a new chat history object with proper system and user message roles\n",
    "var chatHistory = new ChatHistory();\n",
    "chatHistory.AddSystemMessage(systemPrompt);\n",
    "chatHistory.AddUserMessage(simpleDecisionPrompt);\n",
    "\n",
    "// Note: The chat completion service can also be used with a chat history object, which allows for a more conversational context.\n",
    "var chatResponse = string.Empty;\n",
    "\n",
    "// Render Markdown or stream the chat completion response\n",
    "var renderMarkdown = true;\n",
    "if (renderMarkdown)\n",
    "{\n",
    "    // Get the chat completion response as a single content object\n",
    "    var chatContent = await chatCompletionService.GetChatMessageContentAsync(chatHistory);\n",
    "    chatResponse = chatContent.Content;\n",
    "    chatResponse.DisplayAs(\"text/markdown\");\n",
    "}\n",
    "else\n",
    "{\n",
    "    // Stream the chat completion response\n",
    "    await foreach (var content in chatCompletionService.GetStreamingChatMessageContentsAsync(chatHistory))\n",
    "    {\n",
    "        chatResponse += content;\n",
    "        Console.Write(content);\n",
    "    }\n",
    "}\n",
    "\n",
    "// Add the assistant's response to the chat history\n",
    "chatHistory.AddAssistantMessage(chatResponse);"
   ]
  },
  {
   "cell_type": "markdown",
   "metadata": {},
   "source": [
    "In the next step, an additional prompt instruction will be added to the chat history. From the 5 decision frameworks provided in the chat history, Generative AI is asked to recommed a framework best suited for the militaty intelligence community. Notice that the previous chat history is automatically provided to provide additional intelligence context. \n",
    "\n",
    "> 📜 **_\"Take time to deliberate, but when the time for action comes, stop thinking and go in.\"_**\n",
    ">\n",
    "> -- <cite>Napoleon Bornaparte (French Emporer and brilliant military mind)</cite>  "
   ]
  },
  {
   "cell_type": "code",
   "execution_count": 6,
   "metadata": {
    "dotnet_interactive": {
     "language": "csharp"
    },
    "polyglot_notebook": {
     "kernelName": "csharp"
    }
   },
   "outputs": [
    {
     "data": {
      "text/markdown": [
       "### Step 1: Identify the Requirements of Military Intelligence Decisions\n",
       "\n",
       "Military intelligence decisions typically involve:\n",
       "- High-stakes, time-sensitive situations\n",
       "- Incomplete or rapidly changing information\n",
       "- The need for speed, adaptability, and feedback loops\n",
       "- The importance of acting and reassessing in dynamic environments\n",
       "\n",
       "### Step 2: Match Frameworks to Requirements\n",
       "\n",
       "1. **SWOT Analysis**: Useful for strategic assessments, but can be too slow and static for fast-moving military scenarios.\n",
       "\n",
       "2. **Cost-Benefit Analysis**: Important for resource allocation, but less effective in environments characterized by ambiguity and time pressure.\n",
       "\n",
       "3. **Six Thinking Hats**: Supports comprehensive analysis and team collaboration, but is not optimized for speed or rapid iteration.\n",
       "\n",
       "4. **OODA Loop (Observe–Orient–Decide–Act)**: Specifically designed for dynamic, complex, and uncertain situations; emphasizes speed, continual reassessment, and adaptability.\n",
       "\n",
       "5. **Eisenhower Matrix**: Good for task management and prioritization, but does not address the full cycle of rapid intelligence decision-making.\n",
       "\n",
       "### Step 3: Evaluate the Most Suitable Framework\n",
       "\n",
       "Given the military intelligence environment's need for continuous observation, quick orientation to new information, rapid decisions, and taking action—with the ability to iterate as situations evolve—the **OODA Loop** aligns best.\n",
       "\n",
       "### Step 4: Select the Best Framework\n",
       "\n",
       "**OODA Loop (Observe–Orient–Decide–Act)** is the single best-suited framework for the military intelligence community.\n",
       "\n",
       "**Rationale**:  \n",
       "- Enables rapid, responsive decision-making  \n",
       "- Adaptable to evolving threats and incomplete information  \n",
       "- Focuses on agility, which is critical in military operations  \n",
       "- Iterative process mirrors the intelligence cycle found in military contexts"
      ]
     },
     "metadata": {},
     "output_type": "display_data"
    }
   ],
   "source": [
    "// Note: No reference is made to what previous frameworks were listed.\n",
    "// Note: Previous context is maintained by the Semantic Kernel ChatHistory object \n",
    "var simpleDecisionPromptFollowupQuestionPartTwo = \"\"\"\n",
    "Which of the 5 decision frameworks listed above is best suited for the military intelligence community?  \n",
    "Think carefully step by step about what decision frameworks are needed to answer the query.  \n",
    "Select only the single best framework. \n",
    "\"\"\";\n",
    "\n",
    "// Add User message to the chat history\n",
    "chatHistory.AddUserMessage(simpleDecisionPromptFollowupQuestionPartTwo);\n",
    "\n",
    "// Render Markdown or stream the chat completion response\n",
    "var renderMarkdown = true;\n",
    "if (renderMarkdown)\n",
    "{\n",
    "    // Get the chat completion response as a single content object\n",
    "    var chatContent = await chatCompletionService.GetChatMessageContentAsync(chatHistory);\n",
    "    chatResponse = chatContent.Content;\n",
    "    chatResponse.DisplayAs(\"text/markdown\");\n",
    "}\n",
    "else\n",
    "{\n",
    "    // Stream the chat completion response\n",
    "    await foreach (var content in chatCompletionService.GetStreamingChatMessageContentsAsync(chatHistory))\n",
    "    {\n",
    "        chatResponse += content;\n",
    "        Console.Write(content);\n",
    "    }\n",
    "}\n",
    "\n",
    "// Add Assistant message to the chat history\n",
    "chatHistory.AddAssistantMessage(chatResponse);"
   ]
  },
  {
   "cell_type": "markdown",
   "metadata": {},
   "source": [
    "### Step 5 - Execute Decision Chat Completion with a Multi-Turn Conversation Scenario "
   ]
  },
  {
   "cell_type": "markdown",
   "metadata": {},
   "source": [
    "> 📜 **_\"Price is what you pay. Value is what you get.\"_**  \n",
    ">\n",
    "> -- <cite>Warren Buffet (one of the most successful investors of all time)</cite>  "
   ]
  },
  {
   "cell_type": "markdown",
   "metadata": {},
   "source": [
    "Semantic Kernel can maintain state with the ChatHistory object. This allows natural converation between the user and AI to be persisted for future use. It can be saved for future reference, it can be replayed, it can be forked in certain spots to try different scenarios, it can be used as a starting point for other conversations etc. \n",
    "\n",
    "In the scenario below, let's build a multi-turn conversation about a decision over a purchase for a fitness tracker. Notice that each turn the appropriate Chat History roles are populated with the appropriate prompts and assistant (AI) responses. This in effect acts as the Gathering Intelligence step of the Decision Intelligence framework as the conversation information has been persisted and can be re-used as context for the decision scenario."
   ]
  },
  {
   "cell_type": "code",
   "execution_count": 7,
   "metadata": {
    "dotnet_interactive": {
     "language": "csharp"
    },
    "polyglot_notebook": {
     "kernelName": "csharp"
    }
   },
   "outputs": [],
   "source": [
    "// Set the overall system prompt to behave like a decision intelligence assistant (persona)\n",
    "var systemPromptDecisionConversation = \"\"\"\n",
    "You are a Decision Intelligence assistant. \n",
    "Assist the user in exploring options, reasoning through decisions, problem-solving, and applying systems thinking to various scenarios. \n",
    "Provide structured, logical, and comprehensive advice.\n",
    "\"\"\";\n",
    "\n",
    "// User prompt to start a decision conversation about buying a fitness tracker\n",
    "var userPromptDecisionConversationTurn1 = \"\"\"\n",
    "I am considering buying a fitness tracker but I am not sure which features really matter. \n",
    "Could you explain the main considerations? \n",
    "\"\"\";\n",
    "\n",
    "var assistantResponseDecisionConversationTurn1 = \"\"\"\n",
    "Absolutely! Key considerations for choosing a fitness tracker often include: \n",
    "- Fitness Features (e.g., step counting, heart-rate monitoring, workout tracking)\n",
    "- Health Monitoring (like sleep tracking or advanced ECG capabilities)\n",
    "- Battery Life\n",
    "- Comfort and Fit\n",
    "- Compatibility with your smartphone's operating system\n",
    "- Price Range\n",
    "- Knowing which of these you value most will help narrow down your options.\n",
    "\"\"\";\n",
    "\n",
    "var userPromptDecisionConversationTurn2 = \"\"\"\n",
    "Got it. Battery life and sleep tracking are both important to me. \n",
    "What's a typical battery life range for trackers, and how good is their sleep tracking?\n",
    "\"\"\";\n",
    "\n",
    "var assistantResponseDecisionConversationTurn2 = \"\"\"\n",
    "Different fitness trackers have varying battery lives, typically anywhere from 2-3 days (for more feature-rich or bright-display devices) \n",
    "up to about 10-14 days (for more minimalist trackers). \n",
    "\n",
    "Regarding sleep tracking:\n",
    "- Many modern devices can track different sleep stages (light, deep, REM).\n",
    "- High-end devices even track breathing rate and oxygen saturation during the night.\n",
    "- Some also offer insights about sleep quality and tips for improvement.\n",
    "\n",
    "If battery life is a priority, you may want to consider trackers with a more conservative display and fewer power-hungry features.\n",
    "\"\"\";\n",
    "\n",
    "var userPromptDecisionConversationTurn3 = \"\"\"\n",
    "Are there any popular models you would recommend for that balance of battery life and sleep tracking?\n",
    "\"\"\";\n",
    "\n",
    "var assistantResponseDecisionConversationTurn3 = \"\"\"\n",
    "Popular options that strike a balance between robust sleep tracking and good battery life include:\n",
    "- Fitbit Inspire 3 or Fitbit Charge 5: Both have solid sleep tracking, multi-day battery, and strong app support.\n",
    "- Garmin Vivosmart 5: Offers decent fitness and sleep insights, plus better-than-average battery life.\n",
    "- Xiaomi Mi Band 7: Budget-friendly, surprisingly robust health metrics, and a long-lasting battery.\n",
    "\n",
    "Each varies in price and features, so consider your budget and the specific metrics you’d like to track.\n",
    "\"\"\";\n",
    "\n",
    "var userPromptDecisionConversationTurn4 = \"\"\"\n",
    "That is great infor. \n",
    "I also have a friend who said I should consider an Apple Watch. \n",
    "Does that have comparable battery life and sleep tracking?\n",
    "\"\"\";\n",
    "\n",
    "var assistantResponseDecisionConversationTurn4 = \"\"\"\n",
    "The Apple Watch is known for its extensive feature set, including advanced health monitoring, \n",
    "but its battery life tends to be shorter—usually around 18-24 hours on a single charge \n",
    "(or possibly a bit more in low-power mode). While its sleep tracking features have improved over time, \n",
    "you might find you need to charge it daily or almost daily, which could conflict with your goal of 24/7 tracking. \n",
    "\"\"\";\n",
    "\n",
    "// Create a new chat history with a multi-turn conversation about buying a fitness tracker\n",
    "// Notice how the conversation flow uses different roles (user and assistant) to simulate a realistic decision-making dialogue\n",
    "var chatHistoryDecisionConversation = new ChatHistory();\n",
    "chatHistoryDecisionConversation.AddSystemMessage(systemPromptDecisionConversation);\n",
    "chatHistoryDecisionConversation.AddUserMessage(userPromptDecisionConversationTurn1);\n",
    "chatHistoryDecisionConversation.AddAssistantMessage(assistantResponseDecisionConversationTurn1);\n",
    "chatHistoryDecisionConversation.AddUserMessage(userPromptDecisionConversationTurn2);\n",
    "chatHistoryDecisionConversation.AddAssistantMessage(assistantResponseDecisionConversationTurn2);\n",
    "chatHistoryDecisionConversation.AddUserMessage(userPromptDecisionConversationTurn3);\n",
    "chatHistoryDecisionConversation.AddAssistantMessage(assistantResponseDecisionConversationTurn3);\n",
    "chatHistoryDecisionConversation.AddUserMessage(userPromptDecisionConversationTurn4);\n",
    "chatHistoryDecisionConversation.AddAssistantMessage(assistantResponseDecisionConversationTurn4);\n"
   ]
  },
  {
   "cell_type": "markdown",
   "metadata": {},
   "source": [
    "Using the above conversation history as the \"Gathered Intelligence\" betweeen the user and the AI assistant, let's make a final decision and ask for final feedback and a decision evaluation. This \"Gathered Intelligence\" for the decision can be persisted, re-loaded, simulated multiple times, applied to different AI systems to optimize decisions further.  "
   ]
  },
  {
   "cell_type": "code",
   "execution_count": 8,
   "metadata": {
    "dotnet_interactive": {
     "language": "csharp"
    },
    "polyglot_notebook": {
     "kernelName": "csharp"
    }
   },
   "outputs": [
    {
     "data": {
      "text/markdown": [
       "Great choice! The Fitbit Inspire 3 is widely praised for its balance of affordability, long battery life (up to 10 days), and reliable sleep tracking—making it a strong option for your stated needs. Here are a few final insights to maximize your experience:\n",
       "\n",
       "**Final Thoughts & Tips:**\n",
       "\n",
       "1. **Set Up and Sync Regularly:** Make sure to sync your tracker with the Fitbit app to get full access to sleep insights, trends, and health data.\n",
       "2. **Explore Reminders:** Use features like move reminders or silent alarms to gently encourage activity and develop helpful routines.\n",
       "3. **Experiment with Placement:** Some users find sleep tracking more accurate if worn snugly but comfortably on the wrist.\n",
       "4. **App Features:** Take advantage of the sleep score, bedtime reminders, and additional wellness tools in the app.\n",
       "5. **Subscription:** Consider whether you’d benefit from Fitbit Premium, which offers deeper insights into sleep and health metrics (optional).\n",
       "6. **Firmware Updates:** Regularly update the device to ensure you have the latest tracking improvements.\n",
       "\n",
       "**Red Flags to Watch For:**\n",
       "- If you notice major discrepancies in step count or sleep stages, check wearing position or consult support—it can sometimes take a few nights to calibrate.\n",
       "- Charging every 7-10 days should align well with your goals, but remember to plan for brief charging stints (e.g., while showering).\n",
       "\n",
       "Overall, the Inspire 3 is an excellent entry-level tracker that should serve you well. If your needs change in the future—such as wanting built-in GPS or advanced health monitoring—Fitbit’s ecosystem makes it easy to upgrade.\n",
       "\n",
       "Let me know if you’d like tips on setup or using any specific features!"
      ]
     },
     "metadata": {},
     "output_type": "display_data"
    }
   ],
   "source": [
    "var userPromptDecisionConversationFinalDecision = \"\"\"\n",
    "Thank you for all of that information, I think I'll go with a Fitbit. \n",
    "The Fitbit Inspire 3 seems like a good fit for my budget and needs. \n",
    "\n",
    "Any quick final thoughts or insights on my decision? \n",
    "\"\"\";\n",
    "\n",
    "// Add User message to the chat history\n",
    "chatHistoryDecisionConversation.AddUserMessage(userPromptDecisionConversationFinalDecision);\n",
    "\n",
    "// Render Markdown or stream the chat completion response\n",
    "var renderMarkdown = true;\n",
    "if (renderMarkdown)\n",
    "{\n",
    "    // Get the chat completion response as a single content object\n",
    "    var chatContent = await chatCompletionService.GetChatMessageContentAsync(chatHistoryDecisionConversation);\n",
    "    chatResponse = chatContent.Content;\n",
    "    chatResponse.DisplayAs(\"text/markdown\");\n",
    "}\n",
    "else\n",
    "{\n",
    "    // Stream the chat completion response\n",
    "    await foreach (var content in chatCompletionService.GetStreamingChatMessageContentsAsync(chatHistoryDecisionConversation))\n",
    "    {\n",
    "        chatResponse += content;\n",
    "        Console.Write(content);\n",
    "    }\n",
    "}\n",
    "\n",
    "// Add Assistant message to the chat history\n",
    "chatHistoryDecisionConversation.AddAssistantMessage(chatResponse);"
   ]
  },
  {
   "cell_type": "markdown",
   "metadata": {},
   "source": [
    "----\n",
    "### Step 6 - Inspect & Optimize Gathered Intelligence of Chat History "
   ]
  },
  {
   "cell_type": "markdown",
   "metadata": {},
   "source": [
    "The Semantic Kernel Chat History is a transparent construct that can be inspected and written out. In fact, the ChatHistory object can be manipulated to replay chats from middle interactions to simulate different outcomes.\n",
    "\n",
    "Execute the cell below to write out the Semantic Kernel Chat History of this chat."
   ]
  },
  {
   "cell_type": "markdown",
   "metadata": {},
   "source": [
    "> **📝 Note:** In the Decision Intelligence framework, chat history can serve as a form of gathered intelligence. Interactions among users, AI models, processes, and agents provide valuable context for effective decision-making. It’s highly recommended to persist chat history objects (agent threads), especially during decision optimization, to ensure critical information is retained and accessible.  "
   ]
  },
  {
   "cell_type": "code",
   "execution_count": 9,
   "metadata": {
    "dotnet_interactive": {
     "language": "csharp"
    },
    "polyglot_notebook": {
     "kernelName": "csharp"
    }
   },
   "outputs": [
    {
     "name": "stdout",
     "output_type": "stream",
     "text": [
      "Number of chat interactions: 11\n"
     ]
    },
    {
     "data": {
      "text/markdown": [
       "**SYSTEM**:\n",
       "You are a Decision Intelligence assistant. \n",
       "Assist the user in exploring options, reasoning through decisions, problem-solving, and applying systems thinking to various scenarios. \n",
       "Provide structured, logical, and comprehensive advice.\n",
       "\n",
       "**USER**:\n",
       "I am considering buying a fitness tracker but I am not sure which features really matter. \n",
       "Could you explain the main considerations? \n",
       "\n",
       "**ASSISTANT**:\n",
       "Absolutely! Key considerations for choosing a fitness tracker often include: \n",
       "- Fitness Features (e.g., step counting, heart-rate monitoring, workout tracking)\n",
       "- Health Monitoring (like sleep tracking or advanced ECG capabilities)\n",
       "- Battery Life\n",
       "- Comfort and Fit\n",
       "- Compatibility with your smartphone's operating system\n",
       "- Price Range\n",
       "- Knowing which of these you value most will help narrow down your options.\n",
       "\n",
       "**USER**:\n",
       "Got it. Battery life and sleep tracking are both important to me. \n",
       "What's a typical battery life range for trackers, and how good is their sleep tracking?\n",
       "\n",
       "**ASSISTANT**:\n",
       "Different fitness trackers have varying battery lives, typically anywhere from 2-3 days (for more feature-rich or bright-display devices) \n",
       "up to about 10-14 days (for more minimalist trackers). \n",
       "\n",
       "Regarding sleep tracking:\n",
       "- Many modern devices can track different sleep stages (light, deep, REM).\n",
       "- High-end devices even track breathing rate and oxygen saturation during the night.\n",
       "- Some also offer insights about sleep quality and tips for improvement.\n",
       "\n",
       "If battery life is a priority, you may want to consider trackers with a more conservative display and fewer power-hungry features.\n",
       "\n",
       "**USER**:\n",
       "Are there any popular models you would recommend for that balance of battery life and sleep tracking?\n",
       "\n",
       "**ASSISTANT**:\n",
       "Popular options that strike a balance between robust sleep tracking and good battery life include:\n",
       "- Fitbit Inspire 3 or Fitbit Charge 5: Both have solid sleep tracking, multi-day battery, and strong app support.\n",
       "- Garmin Vivosmart 5: Offers decent fitness and sleep insights, plus better-than-average battery life.\n",
       "- Xiaomi Mi Band 7: Budget-friendly, surprisingly robust health metrics, and a long-lasting battery.\n",
       "\n",
       "Each varies in price and features, so consider your budget and the specific metrics you’d like to track.\n",
       "\n",
       "**USER**:\n",
       "That is great infor. \n",
       "I also have a friend who said I should consider an Apple Watch. \n",
       "Does that have comparable battery life and sleep tracking?\n",
       "\n",
       "**ASSISTANT**:\n",
       "The Apple Watch is known for its extensive feature set, including advanced health monitoring, \n",
       "but its battery life tends to be shorter—usually around 18-24 hours on a single charge \n",
       "(or possibly a bit more in low-power mode). While its sleep tracking features have improved over time, \n",
       "you might find you need to charge it daily or almost daily, which could conflict with your goal of 24/7 tracking. \n",
       "\n",
       "**USER**:\n",
       "Thank you for all of that information, I think I'll go with a Fitbit. \n",
       "The Fitbit Inspire 3 seems like a good fit for my budget and needs. \n",
       "\n",
       "Any quick final thoughts or insights on my decision? \n",
       "\n",
       "**ASSISTANT**:\n",
       "Great choice! The Fitbit Inspire 3 is widely praised for its balance of affordability, long battery life (up to 10 days), and reliable sleep tracking—making it a strong option for your stated needs. Here are a few final insights to maximize your experience:\n",
       "\n",
       "**Final Thoughts & Tips:**\n",
       "\n",
       "1. **Set Up and Sync Regularly:** Make sure to sync your tracker with the Fitbit app to get full access to sleep insights, trends, and health data.\n",
       "2. **Explore Reminders:** Use features like move reminders or silent alarms to gently encourage activity and develop helpful routines.\n",
       "3. **Experiment with Placement:** Some users find sleep tracking more accurate if worn snugly but comfortably on the wrist.\n",
       "4. **App Features:** Take advantage of the sleep score, bedtime reminders, and additional wellness tools in the app.\n",
       "5. **Subscription:** Consider whether you’d benefit from Fitbit Premium, which offers deeper insights into sleep and health metrics (optional).\n",
       "6. **Firmware Updates:** Regularly update the device to ensure you have the latest tracking improvements.\n",
       "\n",
       "**Red Flags to Watch For:**\n",
       "- If you notice major discrepancies in step count or sleep stages, check wearing position or consult support—it can sometimes take a few nights to calibrate.\n",
       "- Charging every 7-10 days should align well with your goals, but remember to plan for brief charging stints (e.g., while showering).\n",
       "\n",
       "Overall, the Inspire 3 is an excellent entry-level tracker that should serve you well. If your needs change in the future—such as wanting built-in GPS or advanced health monitoring—Fitbit’s ecosystem makes it easy to upgrade.\n",
       "\n",
       "Let me know if you’d like tips on setup or using any specific features!\n",
       "\n"
      ]
     },
     "metadata": {},
     "output_type": "display_data"
    }
   ],
   "source": [
    "// Print the number of chat interactions and the chat history (turns)\n",
    "Console.WriteLine(\"Number of chat interactions: \" + chatHistoryDecisionConversation.Count());\n",
    "\n",
    "// Change this to a string builder and show as markdown\n",
    "var stringBuilderChatHistory = new StringBuilder();\n",
    "foreach (var message in chatHistoryDecisionConversation)\n",
    "{\n",
    "    // add a new line for each message\n",
    "    stringBuilderChatHistory.AppendLine($\"**{message.Role.ToString().ToUpper()}**:\");\n",
    "    stringBuilderChatHistory.Append($\"{message.Content.Replace(\"#\", string.Empty)}\");\n",
    "    stringBuilderChatHistory.AppendLine(\"\\n\");\n",
    "}\n",
    "\n",
    "// Display the chat history as Markdown\n",
    "stringBuilderChatHistory.ToString().DisplayAs(\"text/markdown\");"
   ]
  },
  {
   "cell_type": "markdown",
   "metadata": {},
   "source": [
    "By persisting the Decision Intelligence chats and making them available for inspection, can further help the decision-making process. For example you can load the Chat History summarize it or even have AI recommend optimizations for it based on the conversation. \n",
    "\n",
    "> **📝 Note:** The process below is simplified to illustrate the power of Gathering Intelligence with user <--> AI interactions. More advanced best practices will be introduced in further sections. "
   ]
  },
  {
   "cell_type": "code",
   "execution_count": 10,
   "metadata": {
    "dotnet_interactive": {
     "language": "csharp"
    },
    "polyglot_notebook": {
     "kernelName": "csharp"
    }
   },
   "outputs": [
    {
     "data": {
      "text/markdown": [
       "You asked about important features to consider when buying a fitness tracker. We discussed key factors like fitness features, health monitoring, battery life, comfort, compatibility, and price. You specified that battery life and sleep tracking are most important to you. I explained typical battery life ranges and the quality of sleep tracking, then recommended a few popular models (Fitbit Inspire 3/Charge 5, Garmin Vivosmart 5, Xiaomi Mi Band 7) that balance both needs. You asked about the Apple Watch, and I noted its advanced features but shorter battery life compared to other trackers. You decided the Fitbit Inspire 3 fits your needs and budget, and I offered closing advice and tips for maximizing your experience with it."
      ]
     },
     "metadata": {},
     "output_type": "display_data"
    },
    {
     "data": {
      "text/markdown": [
       "Certainly! Here’s a summary, followed by recommendations to optimize future decision interactions.\n",
       "\n",
       "**Summary of Chat Conversation:**  \n",
       "You considered buying a fitness tracker and sought advice on which features matter most. Battery life and sleep tracking emerged as your top priorities. You asked about the typical battery life, quality of sleep tracking, and specific models that balance these needs. You then compared the Fitbit Inspire 3 to the Apple Watch, ultimately deciding the Inspire 3 fit your budget and requirements best.\n",
       "\n",
       "---\n",
       "\n",
       "**Recommendations to Optimize AI-Assisted Decision-Making:**\n",
       "\n",
       "1. **Clarify Priorities Upfront:**  \n",
       "   Prompt users to explicitly rank or weigh their priorities (e.g., battery life vs. display, price sensitivity, desired health metrics). This helps tailor recommendations more precisely from the outset.\n",
       "\n",
       "2. **Facilitate Side-by-Side Comparisons:**  \n",
       "   Offer clear, concise comparison tables featuring top choices based on the user’s criteria, highlighting trade-offs—e.g., battery duration versus feature set.\n",
       "\n",
       "3. **Probe for Lifestyle & Contextual Factors:**  \n",
       "   Ask follow-up questions about daily habits, device ecosystem preferences (iOS/Android), and willingness to charge the device frequently. This provides more nuanced guidance.\n",
       "\n",
       "4. **Estimate Total Cost of Ownership:**  \n",
       "   Include information on ongoing costs (e.g., subscriptions like Fitbit Premium) and potential longevity of the device, not just upfront price.\n",
       "\n",
       "5. **Highlight Long-Term Value and Upgrade Paths:**  \n",
       "   Inform users about product ecosystems, compatibility with future devices, and potential for feature upgrades—helping them make decisions with an eye toward the future.\n",
       "\n",
       "6. **Incorporate User Reviews and Satisfaction:**  \n",
       "   Summarize patterns from user reviews about real-world reliability, customer support, and specifically how features like sleep tracking perform over time.\n",
       "\n",
       "7. **Encourage Scenario Analysis:**  \n",
       "   Guide users to visualize how each option would integrate with their daily routine, potentially using sample “day-in-the-life” explanations for each device.\n",
       "\n",
       "8. **Support Decision Confidence:**  \n",
       "   Provide post-choice checklists (e.g., “Have you considered...?”), reassurance about common pitfalls, and readiness to revisit the decision if needs evolve.\n",
       "\n",
       "---\n",
       "\n",
       "**Considerations for the AI in Future Interactions:**  \n",
       "- Dynamically adapt questioning based on user responses to minimize irrelevant information.\n",
       "- Make explicit the reasoning behind recommendations.\n",
       "- Offer “if-then” scenarios—e.g., “If sleep tracking is crucial and you travel often, X might serve you better.”\n",
       "- Transparently address trade-offs and uncertainties.\n",
       "- Empower the user with a summary that lays out the reasoning and next steps.\n",
       "\n",
       "**In Short:**  \n",
       "By eliciting more information, guiding structured comparisons, and grounding advice in user context, AI can facilitate more confident and informed decision-making."
      ]
     },
     "metadata": {},
     "output_type": "display_data"
    }
   ],
   "source": [
    "var userPromptSummarizeTheDecisionChat = \"\"\"\n",
    "Briefly summarize the chat conversation about buying a fitness tracker.\n",
    "\"\"\";\n",
    "\n",
    "// Add User message to the chat history\n",
    "chatHistoryDecisionConversation.AddUserMessage(userPromptSummarizeTheDecisionChat);\n",
    "\n",
    "var chatContent = await chatCompletionService.GetChatMessageContentAsync(chatHistoryDecisionConversation);\n",
    "chatResponse = chatContent.Content;\n",
    "chatResponse.DisplayAs(\"text/markdown\");\n",
    "\n",
    "// Optimize the chat history for any future decision interactions\n",
    "var userPromptOptimizeTheDecisionChat = \"\"\"\n",
    "Based on the chat conversation so far...\n",
    "Provide some recommendations on how the decision interactions could be optimized for decision-making.\n",
    "What are some considerations for the AI to help the use make even better decisions?\n",
    "\"\"\";\n",
    "\n",
    "// Add User message to the chat history\n",
    "chatHistoryDecisionConversation.AddUserMessage(userPromptOptimizeTheDecisionChat);\n",
    "\n",
    "var chatContentOptimization = await chatCompletionService.GetChatMessageContentAsync(chatHistoryDecisionConversation);\n",
    "var chatResponseOptimization = chatContentOptimization.Content;\n",
    "chatResponseOptimization.DisplayAs(\"text/markdown\");"
   ]
  }
 ],
 "metadata": {
  "kernelspec": {
   "display_name": ".NET (C#)",
   "language": "C#",
   "name": ".net-csharp"
  },
  "language_info": {
   "name": "polyglot-notebook"
  },
  "polyglot_notebook": {
   "kernelInfo": {
    "defaultKernelName": "csharp",
    "items": [
     {
      "aliases": [],
      "name": "csharp"
     }
    ]
   }
  }
 },
 "nbformat": 4,
 "nbformat_minor": 2
}
