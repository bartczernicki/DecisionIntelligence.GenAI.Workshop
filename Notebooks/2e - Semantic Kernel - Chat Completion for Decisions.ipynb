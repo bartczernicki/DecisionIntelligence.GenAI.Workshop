{
 "cells": [
  {
   "cell_type": "markdown",
   "metadata": {},
   "source": [
    "<div style=\"display: flex; align-items: center;\">\n",
    "  <img src=\"https://raw.githubusercontent.com/bartczernicki/DecisionIntelligence.GenAI.Workshop/main/Images/DecisionIntelligenceSemanticKernelLogo.png\" width=\"60px\" style=\"margin-right: 10px;\">\n",
    "  <span style=\"font-size: 1.5em; font-weight: bold;\">Semantic Kernel - Chat Completion for Decisions</span>\n",
    "</div>"
   ]
  },
  {
   "cell_type": "markdown",
   "metadata": {},
   "source": [
    "Decision Intelligence applied in this module:  \n",
    "* Listing of various decision-making frameworks and with their descriptions by using Chat Completion  \n",
    "* Decision Scenario: Recommendation of a decision-making framework for specific higher-stakes decisions (purchase of a car)  \n",
    "* Illustrating a domain specific decision-making framework (millitary intelligence)  \n"
   ]
  },
  {
   "cell_type": "markdown",
   "metadata": {},
   "source": [
    "In this module, the Semantic Kernel ability to create a chat experience will be introduced. This is a much richer experience than just sending simple prompts that are stateless and context is forgotten.\n",
    "\n",
    "Semantic Kernel has first-class support for chat scenarios, where the user talks back and forth with the LLM, the arguments get populated with the history of the conversation. During each new run of the kernel, the arguments will be provided to the AI with content. This allows the LLM to know the historical context of the conversation."
   ]
  },
  {
   "cell_type": "markdown",
   "metadata": {},
   "source": [
    "### Step 1 - Initialize Configuration Builder & Build the Semantic Kernel Orchestration"
   ]
  },
  {
   "cell_type": "markdown",
   "metadata": {},
   "source": [
    "Execute the next two cells to:\n",
    "* Use the Configuration Builder to load the API secrets.  \n",
    "* Use the API configuration to build the Semantic Kernel orchestrator."
   ]
  },
  {
   "cell_type": "code",
   "execution_count": 1,
   "metadata": {
    "dotnet_interactive": {
     "language": "csharp"
    },
    "polyglot_notebook": {
     "kernelName": "csharp"
    },
    "vscode": {
     "languageId": "polyglot-notebook"
    }
   },
   "outputs": [
    {
     "data": {
      "text/html": [
       "<div><div></div><div></div><div><strong>Installed Packages</strong><ul><li><span>Microsoft.Extensions.Configuration, 9.0.5</span></li><li><span>Microsoft.Extensions.Configuration.Json, 9.0.5</span></li></ul></div></div>"
      ]
     },
     "metadata": {},
     "output_type": "display_data"
    }
   ],
   "source": [
    "// Import the required NuGet configuration packages\n",
    "#r \"nuget: Microsoft.Extensions.Configuration, 9.0.5\"\n",
    "#r \"nuget: Microsoft.Extensions.Configuration.Json, 9.0.5\"\n",
    "\n",
    "using Microsoft.Extensions.Configuration.Json;\n",
    "using Microsoft.Extensions.Configuration;\n",
    "using System.IO;\n",
    "\n",
    "// Load the configuration settings from the local.settings.json and secrets.settings.json files\n",
    "// The secrets.settings.json file is used to store sensitive information such as API keys\n",
    "var configurationBuilder = new ConfigurationBuilder()\n",
    "    .SetBasePath(Directory.GetCurrentDirectory())\n",
    "    .AddJsonFile(\"local.settings.json\", optional: true, reloadOnChange: true)\n",
    "    .AddJsonFile(\"secrets.settings.json\", optional: true, reloadOnChange: true);\n",
    "var config = configurationBuilder.Build();\n",
    "\n",
    "// IMPORTANT: You ONLY NEED either Azure OpenAI or OpenAI connectiopn info, not both.\n",
    "// Azure OpenAI Connection Info\n",
    "var azureOpenAIEndpoint = config[\"AzureOpenAI:Endpoint\"];\n",
    "var azureOpenAIAPIKey = config[\"AzureOpenAI:APIKey\"];\n",
    "var azureOpenAIModelDeploymentName = config[\"AzureOpenAI:ModelDeploymentName\"];\n",
    "// OpenAI Connection Info \n",
    "var openAIAPIKey = config[\"OpenAI:APIKey\"];\n",
    "var openAIModelId = config[\"OpenAI:ModelId\"];"
   ]
  },
  {
   "cell_type": "code",
   "execution_count": 2,
   "metadata": {
    "dotnet_interactive": {
     "language": "csharp"
    },
    "polyglot_notebook": {
     "kernelName": "csharp"
    },
    "vscode": {
     "languageId": "polyglot-notebook"
    }
   },
   "outputs": [
    {
     "data": {
      "text/html": [
       "<div><div></div><div></div><div><strong>Installed Packages</strong><ul><li><span>Microsoft.Extensions.DependencyInjection, 9.0.5</span></li><li><span>Microsoft.SemanticKernel, 1.55.0</span></li></ul></div></div>"
      ]
     },
     "metadata": {},
     "output_type": "display_data"
    },
    {
     "name": "stdout",
     "output_type": "stream",
     "text": [
      "Using Azure OpenAI Service\r\n"
     ]
    }
   ],
   "source": [
    "// Install the required NuGet packages\n",
    "// Note: This also installs the Dependency Injection Package to retrieve the ChatCompletionService\n",
    "#r \"nuget: Microsoft.Extensions.DependencyInjection, 9.0.5\"\n",
    "#r \"nuget: Microsoft.SemanticKernel, 1.55\"\n",
    "\n",
    "using Microsoft.Extensions.DependencyInjection.Extensions;\n",
    "using Microsoft.Extensions.DependencyInjection;\n",
    "using Microsoft.SemanticKernel;\n",
    "using Microsoft.SemanticKernel.ChatCompletion;\n",
    "using Microsoft.SemanticKernel.Connectors.OpenAI;\n",
    "\n",
    "Kernel semanticKernel;\n",
    "\n",
    "// Set the flag to use Azure OpenAI or OpenAI. False to use OpenAI, True to use Azure OpenAI\n",
    "var useAzureOpenAI = true;\n",
    "\n",
    "// Create a new Semantic Kernel instance\n",
    "if (useAzureOpenAI)\n",
    "{\n",
    "    Console.WriteLine(\"Using Azure OpenAI Service\");\n",
    "    semanticKernel = Kernel.CreateBuilder()\n",
    "        .AddAzureOpenAIChatCompletion(\n",
    "            deploymentName: azureOpenAIModelDeploymentName,\n",
    "            endpoint: azureOpenAIEndpoint,\n",
    "            apiKey: azureOpenAIAPIKey)\n",
    "        .Build();\n",
    "}\n",
    "else\n",
    "{\n",
    "    Console.WriteLine(\"Using OpenAI Service\");\n",
    "    semanticKernel = Kernel.CreateBuilder()\n",
    "        .AddOpenAIChatCompletion(\n",
    "            modelId: openAIModelId,\n",
    "            apiKey: openAIAPIKey)\n",
    "        .Build();\n",
    "}\n",
    "\n",
    "var chatCompletionService = semanticKernel.Services.GetRequiredService<IChatCompletionService>();"
   ]
  },
  {
   "cell_type": "markdown",
   "metadata": {},
   "source": [
    "### Step 2 - Execute Decision Chat Completion with Prompt Execution Settings "
   ]
  },
  {
   "cell_type": "markdown",
   "metadata": {},
   "source": [
    "> 📜 **_\"If you can’t describe what you are doing as a process, you don’t know what you’re doing.\"_** \n",
    ">\n",
    "> -- <cite>W. Edwards Deming (renowned American engineer, statistician, and management consultant)</cite>  \n",
    "\n",
    "\n",
    "Using the Semantic Kernel ChatCompletion service is very similar to inovoking a prompt for basic LLM interactions. The chat completion service will provide very similar results to invoking the prompt directly."
   ]
  },
  {
   "cell_type": "code",
   "execution_count": 3,
   "metadata": {
    "dotnet_interactive": {
     "language": "csharp"
    },
    "polyglot_notebook": {
     "kernelName": "csharp"
    },
    "vscode": {
     "languageId": "polyglot-notebook"
    }
   },
   "outputs": [
    {
     "data": {
      "text/markdown": [
       "### 1. SWOT Analysis  \n",
       "A structured approach for evaluating the Strengths, Weaknesses, Opportunities, and Threats related to a decision or project. It helps identify internal and external factors that can influence outcomes.\n",
       "\n",
       "### 2. Decision Matrix (Weighted Scoring Model)  \n",
       "A tool that allows you to compare multiple options against a set of criteria, assigning weights to each criterion to reflect its importance. This helps in objectively ranking alternatives.\n",
       "\n",
       "### 3. Cost-Benefit Analysis  \n",
       "A quantitative method that compares the expected costs and benefits of different choices, helping to determine which option offers the greatest net benefit.\n",
       "\n",
       "### 4. The OODA Loop  \n",
       "A cyclical process consisting of Observe, Orient, Decide, and Act. It encourages rapid, iterative decision-making and adaptation, especially in dynamic environments.\n",
       "\n",
       "### 5. Six Thinking Hats  \n",
       "A framework developed by Edward de Bono that encourages looking at a decision from six distinct perspectives (logic, emotion, caution, optimism, creativity, and process) to ensure a well-rounded evaluation."
      ]
     },
     "metadata": {},
     "output_type": "display_data"
    }
   ],
   "source": [
    "// Simple prompt to list some decision frameworks this GenAI LLM is familiar with \n",
    "// LLMs are trained on a diverse range of data and can provide insights on a wide range of topics like decision frameworks\n",
    "// SLMS (smaller LLMs) are trained on a more specific range of data and may not provide insights on all topics\n",
    "var simpleDecisionPrompt = \"\"\"\n",
    "Provide a list of 5 decision frameworks that can help improve the quality of decisions.\n",
    "\n",
    "Output Format Instructions:\n",
    "When generating Markdown, do not use any headings higher than ###. \n",
    "Avoid # and ## headers. Use only ###, ####, or lower-level headings if necessary. \n",
    "All top-level section headers should start at ### or lower. \n",
    "\"\"\";\n",
    "\n",
    "// Create a new OpenAI prompt execution settings object\n",
    "var openAIPromptExecutionSettings = new OpenAIPromptExecutionSettings { \n",
    "    MaxTokens = 1000, \n",
    "    Temperature = 0.1, \n",
    "    TopP = 1.0, \n",
    "    FrequencyPenalty = 0.0, \n",
    "    PresencePenalty = 0.0\n",
    "    };\n",
    "\n",
    "// Execute the chat completion request using the prompt and settings defined above\n",
    "var chatResult = await chatCompletionService.GetChatMessageContentAsync(simpleDecisionPrompt, openAIPromptExecutionSettings);\n",
    "\n",
    "// Display the result of the chat completion request as Markdown\n",
    "chatResult.Content.DisplayAs(\"text/markdown\");"
   ]
  },
  {
   "cell_type": "markdown",
   "metadata": {},
   "source": [
    "### Step 3 - Execute Decision Chat Completion with Streaming "
   ]
  },
  {
   "cell_type": "markdown",
   "metadata": {},
   "source": [
    "Semantic Kernel supports prompt response streaming in the ChatCompletionService. This allows responses to be streamed to the client as soon as they are made available by the LLM and API services. Below the same decision prompt is executed. However, notice that chunks are streamed and can be read by the user as soon as they appear. "
   ]
  },
  {
   "cell_type": "code",
   "execution_count": 4,
   "metadata": {
    "dotnet_interactive": {
     "language": "csharp"
    },
    "polyglot_notebook": {
     "kernelName": "csharp"
    },
    "vscode": {
     "languageId": "polyglot-notebook"
    }
   },
   "outputs": [
    {
     "name": "stdout",
     "output_type": "stream",
     "text": [
      "### 1. SWOT Analysis  \n",
      "A framework for evaluating the Strengths, Weaknesses, Opportunities, and Threats related to a decision or project. It helps identify internal and external factors that can influence outcomes.\n",
      "\n",
      "### 2. Decision Matrix (Weighted Scoring Model)  \n",
      "This tool allows you to compare multiple options against a set of criteria, assigning weights to each criterion to reflect its importance. The scores help prioritize the best choice objectively.\n",
      "\n",
      "### 3. Cost-Benefit Analysis  \n",
      "A systematic approach to estimating the strengths and weaknesses of alternatives by comparing the expected costs and benefits. It helps determine if the benefits outweigh the costs.\n",
      "\n",
      "### 4. The Eisenhower Matrix  \n",
      "A time-management and prioritization tool that categorizes tasks or decisions based on urgency and importance, helping focus on what truly matters.\n",
      "\n",
      "### 5. Six Thinking Hats  \n",
      "A creative thinking framework developed by Edward de Bono, where participants look at a decision from six distinct perspectives (logic, emotion, caution, optimism, creativity, and process) to ensure a well-rounded evaluation."
     ]
    }
   ],
   "source": [
    "// Stream the chat completion response\n",
    "await foreach (var content in chatCompletionService.GetStreamingChatMessageContentsAsync(simpleDecisionPrompt, openAIPromptExecutionSettings))\n",
    "{\n",
    "    Console.Write(content);\n",
    "}"
   ]
  },
  {
   "cell_type": "markdown",
   "metadata": {},
   "source": [
    "### Step 4 - Execute Decision Chat Completion with a System Prompt & Chat History "
   ]
  },
  {
   "cell_type": "markdown",
   "metadata": {},
   "source": [
    "Semantic Kernel has a ChatHistory object that can be used with the ChatCompletionService to provide historical chat context to the LLM. Notice that the ChatHistory object differentiates between the different types of chat messages:\n",
    "* System Message - System or MetaPrompt. These are usually global instructions that set the \"overall rules\" for interacting with the LLMs.\n",
    "* User Message - A message from the user\n",
    "* Assistant Message - A message from the LLM. This is a message generated from an assistant or an agent. \n",
    "\n",
    "Identifying the messages from which role (user) it came from can help the LLM improve its own reasoning responses. This is a more sophisticated approach than passing chat history in a long dynamic string. ChatHistory objects can be serialized and persisted into databases as well."
   ]
  },
  {
   "cell_type": "code",
   "execution_count": 5,
   "metadata": {
    "dotnet_interactive": {
     "language": "csharp"
    },
    "polyglot_notebook": {
     "kernelName": "csharp"
    },
    "vscode": {
     "languageId": "polyglot-notebook"
    }
   },
   "outputs": [
    {
     "data": {
      "text/markdown": [
       "### 1. Pros and Cons Analysis  \n",
       "A straightforward framework where all potential benefits (pros) and drawbacks (cons) of each option are listed. This helps clarify trade-offs and often reveals underlying priorities and value judgments.\n",
       "\n",
       "#### Steps:\n",
       "- Define the decision and considered options.\n",
       "- List pros and cons for each option.\n",
       "- Evaluate the relative importance of each item.\n",
       "- Weigh the overall strength of pros versus cons.\n",
       "\n",
       "### 2. Cost-Benefit Analysis (CBA)  \n",
       "This quantitative framework involves listing all anticipated costs and benefits (financial and non-financial), often assigning numeric values or estimates. It focuses on maximizing net positive value.\n",
       "\n",
       "#### Steps:\n",
       "- Identify all possible costs and benefits.\n",
       "- Estimate and assign values (where possible).\n",
       "- Calculate net benefits for each option.\n",
       "- Compare options based on net benefit.\n",
       "\n",
       "### 3. The OODA Loop  \n",
       "Originating from military strategy, the OODA Loop stands for: Observe, Orient, Decide, Act. It emphasizes continuous feedback, adaptability, and learning in dynamic situations.\n",
       "\n",
       "#### Steps:\n",
       "- **Observe:** Gather data and situational awareness.\n",
       "- **Orient:** Analyze information, integrating context, biases, and goals.\n",
       "- **Decide:** Choose a course of action.\n",
       "- **Act:** Implement, then re-enter the loop based on outcomes.\n",
       "\n",
       "### 4. Decision Matrix (Weighted Scoring Model)  \n",
       "Useful for complex decisions with multiple criteria. Options are scored against weighted criteria, helping to prioritize based on what's most important.\n",
       "\n",
       "#### Steps:\n",
       "- List options and criteria.\n",
       "- Assign weights to each criterion based on importance.\n",
       "- Score each option against every criterion.\n",
       "- Multiply scores by weights and sum to get total scores.\n",
       "- Choose the option with the highest total.\n",
       "\n",
       "### 5. Six Thinking Hats  \n",
       "A structured creative thinking and decision process. Each \"hat\" represents a mode of thinking (Facts, Emotions, Negatives, Positives, Creativity, and Process), ensuring a comprehensive exploration of the decision from multiple perspectives.\n",
       "\n",
       "#### Steps:\n",
       "- Allocate time to each hat, encouraging a group or individual to think in a given mode (e.g., only positives).\n",
       "- Rotate through all hats to ensure a balanced viewpoint.\n",
       "- Summarize insights before making a decision.\n",
       "\n",
       "---\n",
       "\n",
       "Each framework has specific strengths and contexts where it excels. Adapting or combining them based on the nature of your decision can help drive more thorough and rational outcomes."
      ]
     },
     "metadata": {},
     "output_type": "display_data"
    }
   ],
   "source": [
    "// Set the overall system prompt to behave like a decision intelligence assistant (persona)\n",
    "var systemPrompt = \"\"\"\n",
    "You are a Decision Intelligence assistant. \n",
    "Assist the user in exploring options, reasoning through decisions, problem-solving, and applying systems thinking to various scenarios. \n",
    "Provide structured, logical, and comprehensive advice.\n",
    "\n",
    "Output Format Instructions:\n",
    "When generating Markdown, do not use any headings higher than ###. \n",
    "Avoid # and ## headers. Use only ###, ####, or lower-level headings if necessary. \n",
    "All top-level section headers should start at ### or lower. \n",
    "\"\"\";\n",
    "\n",
    "// Simple instruction prompt to list 5 (five) decision frameworks this GenAI LLM is familiar with\n",
    "var simpleDecisionPrompt = \"\"\"\n",
    "Provide five Decision Frameworks that can help improve the quality of decisions.\n",
    "\"\"\";\n",
    "\n",
    "// Create a new chat history object with proper system and user message roles\n",
    "var chatHistory = new ChatHistory();\n",
    "chatHistory.AddSystemMessage(systemPrompt);\n",
    "chatHistory.AddUserMessage(simpleDecisionPrompt);\n",
    "\n",
    "// Note: The chat completion service can also be used with a chat history object, which allows for a more conversational context.\n",
    "var chatResponse = string.Empty;\n",
    "\n",
    "// Render Markdown or stream the chat completion response\n",
    "var renderMarkdown = true;\n",
    "if (renderMarkdown)\n",
    "{\n",
    "    // Get the chat completion response as a single content object\n",
    "    var chatContent = await chatCompletionService.GetChatMessageContentAsync(chatHistory);\n",
    "    chatResponse = chatContent.Content;\n",
    "    chatResponse.DisplayAs(\"text/markdown\");\n",
    "}\n",
    "else\n",
    "{\n",
    "    // Stream the chat completion response\n",
    "    await foreach (var content in chatCompletionService.GetStreamingChatMessageContentsAsync(chatHistory))\n",
    "    {\n",
    "        chatResponse += content;\n",
    "        Console.Write(content);\n",
    "    }\n",
    "}\n",
    "\n",
    "// Add the assistant's response to the chat history\n",
    "chatHistory.AddAssistantMessage(chatResponse);"
   ]
  },
  {
   "cell_type": "markdown",
   "metadata": {},
   "source": [
    "In the next step, an additional prompt instruction will be added to the chat history. From the 5 decision frameworks provided in the chat history, Generative AI is asked to recommed a framework best suited for the militaty intelligence community. Notice that the previous chat history is automatically provided to provide additional intelligence context. \n",
    "\n",
    "> 📜 **_\"Take time to deliberate, but when the time for action comes, stop thinking and go in.\"_**\n",
    ">\n",
    "> -- <cite>Napoleon Bornaparte (French Emporer and brilliant military mind)</cite>  "
   ]
  },
  {
   "cell_type": "code",
   "execution_count": 6,
   "metadata": {
    "dotnet_interactive": {
     "language": "csharp"
    },
    "polyglot_notebook": {
     "kernelName": "csharp"
    },
    "vscode": {
     "languageId": "polyglot-notebook"
    }
   },
   "outputs": [
    {
     "data": {
      "text/markdown": [
       "### Step-by-Step Analysis\n",
       "\n",
       "#### 1. Defining the Context  \n",
       "- The military intelligence community operates in highly dynamic, uncertain, and complex environments.  \n",
       "- Decisions must often be made rapidly, sometimes with incomplete information, in a context of adversarial intent and changing circumstances.  \n",
       "- Continuous learning, rapid adaptation, and iterative improvement are highly valued.\n",
       "\n",
       "#### 2. Evaluating the Frameworks\n",
       "\n",
       "**Pros and Cons Analysis:**  \n",
       "- Simple and clear, but not well-suited for fast-paced, dynamic environments where circumstances and information evolve rapidly.\n",
       "\n",
       "**Cost-Benefit Analysis:**  \n",
       "- Useful for rational weighing of quantified information, but often military intelligence decisions must be made before all costs and benefits are fully known or quantifiable.\n",
       "\n",
       "**OODA Loop:**  \n",
       "- Specifically developed for military application (by USAF Colonel John Boyd).\n",
       "- Emphasizes rapid cycling through Observe–Orient–Decide–Act.\n",
       "- Supports continuous adaptation, real-time feedback, and learning, which are critical for intelligence operations.\n",
       "\n",
       "**Decision Matrix:**  \n",
       "- Effective in structured, less time-sensitive situations with stable evaluation criteria.\n",
       "- Less adaptable to fluid, adversarial contexts or when information changes constantly.\n",
       "\n",
       "**Six Thinking Hats:**  \n",
       "- Useful for creative or group decision-making.\n",
       "- While comprehensive, it may not fit well with fast-paced, high-stakes, high-pressure military intelligence scenarios.\n",
       "\n",
       "#### 3. Deliberation  \n",
       "Given the military intelligence community’s needs for speed, adaptability, operational security, and iterative learning, frameworks that prioritize cycle speed, real-time feedback, and rapid adjustment are paramount.\n",
       "\n",
       "#### 4. Conclusion\n",
       "\n",
       "**The OODA Loop is the single best-suited decision framework for the military intelligence community.**  \n",
       "It was specifically designed for, and has been widely adopted by, military operations because it supports continuous assessment and adjustment in fast-evolving environments where adversaries are actively seeking to disrupt and deceive. The cycle of Observe, Orient, Decide, and Act keeps intelligence professionals alert, adaptable, and able to make effective decisions under pressure.\n",
       "\n",
       "---\n",
       "\n",
       "**Recommendation:**  \n",
       "For military intelligence, rely on the OODA Loop as the primary decision framework, supplementing with other frameworks where appropriate for more stable or slower-paced analysis."
      ]
     },
     "metadata": {},
     "output_type": "display_data"
    }
   ],
   "source": [
    "// Note: No reference is made to what previous frameworks were listed.\n",
    "// Note: Previous context is maintained by the Semantic Kernel ChatHistory object \n",
    "var simpleDecisionPromptFollowupQuestionPartTwo = \"\"\"\n",
    "Which of the 5 decision frameworks listed above is best suited for the military intelligence community?  \n",
    "Think carefully step by step about what decision frameworks are needed to answer the query.  \n",
    "Select only the single best framework. \n",
    "\"\"\";\n",
    "\n",
    "// Add User message to the chat history\n",
    "chatHistory.AddUserMessage(simpleDecisionPromptFollowupQuestionPartTwo);\n",
    "\n",
    "// Render Markdown or stream the chat completion response\n",
    "var renderMarkdown = true;\n",
    "if (renderMarkdown)\n",
    "{\n",
    "    // Get the chat completion response as a single content object\n",
    "    var chatContent = await chatCompletionService.GetChatMessageContentAsync(chatHistory);\n",
    "    chatResponse = chatContent.Content;\n",
    "    chatResponse.DisplayAs(\"text/markdown\");\n",
    "}\n",
    "else\n",
    "{\n",
    "    // Stream the chat completion response\n",
    "    await foreach (var content in chatCompletionService.GetStreamingChatMessageContentsAsync(chatHistory))\n",
    "    {\n",
    "        chatResponse += content;\n",
    "        Console.Write(content);\n",
    "    }\n",
    "}\n",
    "\n",
    "// Add Assistant message to the chat history\n",
    "chatHistory.AddAssistantMessage(chatResponse);"
   ]
  },
  {
   "cell_type": "markdown",
   "metadata": {},
   "source": [
    "### Step 5 - Execute Decision Chat Completion with a Multi-Turn Conversation Scenario "
   ]
  },
  {
   "cell_type": "markdown",
   "metadata": {},
   "source": [
    "> 📜 **_\"Price is what you pay. Value is what you get.\"_**  \n",
    ">\n",
    "> -- <cite>Warren Buffet (one of the most successful investors of all time)</cite>  "
   ]
  },
  {
   "cell_type": "markdown",
   "metadata": {},
   "source": [
    "Semantic Kernel can maintain state with the ChatHistory object. This allows natural converation between the user and AI to be persisted for future use. It can be saved for future reference, it can be replayed, it can be forked in certain spots to try different scenarios, it can be used as a starting point for other conversations etc. \n",
    "\n",
    "In the scenario below, let's build a multi-turn conversation about a decision over a purchase for a fitness tracker. Notice that each turn the appropriate Chat History roles are populated with the appropriate prompts and assistant (AI) responses. This in effect acts as the Gathering Intelligence step of the Decision Intelligence framework as the conversation information has been persisted and can be re-used as context for the decision scenario."
   ]
  },
  {
   "cell_type": "code",
   "execution_count": 7,
   "metadata": {
    "dotnet_interactive": {
     "language": "csharp"
    },
    "polyglot_notebook": {
     "kernelName": "csharp"
    },
    "vscode": {
     "languageId": "polyglot-notebook"
    }
   },
   "outputs": [],
   "source": [
    "// Set the overall system prompt to behave like a decision intelligence assistant (persona)\n",
    "var systemPromptDecisionConversation = \"\"\"\n",
    "You are a Decision Intelligence assistant. \n",
    "Assist the user in exploring options, reasoning through decisions, problem-solving, and applying systems thinking to various scenarios. \n",
    "Provide structured, logical, and comprehensive advice.\n",
    "\"\"\";\n",
    "\n",
    "// User prompt to start a decision conversation about buying a fitness tracker\n",
    "var userPromptDecisionConversationTurn1 = \"\"\"\n",
    "I am considering buying a fitness tracker but I am not sure which features really matter. \n",
    "Could you explain the main considerations? \n",
    "\"\"\";\n",
    "\n",
    "var assistantResponseDecisionConversationTurn1 = \"\"\"\n",
    "Absolutely! Key considerations for choosing a fitness tracker often include: \n",
    "- Fitness Features (e.g., step counting, heart-rate monitoring, workout tracking)\n",
    "- Health Monitoring (like sleep tracking or advanced ECG capabilities)\n",
    "- Battery Life\n",
    "- Comfort and Fit\n",
    "- Compatibility with your smartphone's operating system\n",
    "- Price Range\n",
    "- Knowing which of these you value most will help narrow down your options.\n",
    "\"\"\";\n",
    "\n",
    "var userPromptDecisionConversationTurn2 = \"\"\"\n",
    "Got it. Battery life and sleep tracking are both important to me. \n",
    "What's a typical battery life range for trackers, and how good is their sleep tracking?\n",
    "\"\"\";\n",
    "\n",
    "var assistantResponseDecisionConversationTurn2 = \"\"\"\n",
    "Different fitness trackers have varying battery lives, typically anywhere from 2-3 days (for more feature-rich or bright-display devices) \n",
    "up to about 10-14 days (for more minimalist trackers). \n",
    "\n",
    "Regarding sleep tracking:\n",
    "- Many modern devices can track different sleep stages (light, deep, REM).\n",
    "- High-end devices even track breathing rate and oxygen saturation during the night.\n",
    "- Some also offer insights about sleep quality and tips for improvement.\n",
    "\n",
    "If battery life is a priority, you may want to consider trackers with a more conservative display and fewer power-hungry features.\n",
    "\"\"\";\n",
    "\n",
    "var userPromptDecisionConversationTurn3 = \"\"\"\n",
    "Are there any popular models you would recommend for that balance of battery life and sleep tracking?\n",
    "\"\"\";\n",
    "\n",
    "var assistantResponseDecisionConversationTurn3 = \"\"\"\n",
    "Popular options that strike a balance between robust sleep tracking and good battery life include:\n",
    "- Fitbit Inspire 3 or Fitbit Charge 5: Both have solid sleep tracking, multi-day battery, and strong app support.\n",
    "- Garmin Vivosmart 5: Offers decent fitness and sleep insights, plus better-than-average battery life.\n",
    "- Xiaomi Mi Band 7: Budget-friendly, surprisingly robust health metrics, and a long-lasting battery.\n",
    "\n",
    "Each varies in price and features, so consider your budget and the specific metrics you’d like to track.\n",
    "\"\"\";\n",
    "\n",
    "var userPromptDecisionConversationTurn4 = \"\"\"\n",
    "That is great infor. \n",
    "I also have a friend who said I should consider an Apple Watch. \n",
    "Does that have comparable battery life and sleep tracking?\n",
    "\"\"\";\n",
    "\n",
    "var assistantResponseDecisionConversationTurn4 = \"\"\"\n",
    "The Apple Watch is known for its extensive feature set, including advanced health monitoring, \n",
    "but its battery life tends to be shorter—usually around 18-24 hours on a single charge \n",
    "(or possibly a bit more in low-power mode). While its sleep tracking features have improved over time, \n",
    "you might find you need to charge it daily or almost daily, which could conflict with your goal of 24/7 tracking. \n",
    "\"\"\";\n",
    "\n",
    "// Create a new chat history with a multi-turn conversation about buying a fitness tracker\n",
    "// Notice how the conversation flow uses different roles (user and assistant) to simulate a realistic decision-making dialogue\n",
    "var chatHistoryDecisionConversation = new ChatHistory();\n",
    "chatHistoryDecisionConversation.AddSystemMessage(systemPromptDecisionConversation);\n",
    "chatHistoryDecisionConversation.AddUserMessage(userPromptDecisionConversationTurn1);\n",
    "chatHistoryDecisionConversation.AddAssistantMessage(assistantResponseDecisionConversationTurn1);\n",
    "chatHistoryDecisionConversation.AddUserMessage(userPromptDecisionConversationTurn2);\n",
    "chatHistoryDecisionConversation.AddAssistantMessage(assistantResponseDecisionConversationTurn2);\n",
    "chatHistoryDecisionConversation.AddUserMessage(userPromptDecisionConversationTurn3);\n",
    "chatHistoryDecisionConversation.AddAssistantMessage(assistantResponseDecisionConversationTurn3);\n",
    "chatHistoryDecisionConversation.AddUserMessage(userPromptDecisionConversationTurn4);\n",
    "chatHistoryDecisionConversation.AddAssistantMessage(assistantResponseDecisionConversationTurn4);\n"
   ]
  },
  {
   "cell_type": "markdown",
   "metadata": {},
   "source": [
    "Using the above conversation history as the \"Gathered Intelligence\" betweeen the user and the AI assistant, let's make a final decision and ask for final feedback and a decision evaluation. This \"Gathered Intelligence\" for the decision can be persisted, re-loaded, simulated multiple times, applied to different AI systems to optimize decisions further.  "
   ]
  },
  {
   "cell_type": "code",
   "execution_count": 8,
   "metadata": {
    "dotnet_interactive": {
     "language": "csharp"
    },
    "polyglot_notebook": {
     "kernelName": "csharp"
    },
    "vscode": {
     "languageId": "polyglot-notebook"
    }
   },
   "outputs": [
    {
     "data": {
      "text/markdown": [
       "You’ve made a thoughtful choice! The **Fitbit Inspire 3** is known for its:\n",
       "\n",
       "- **Strong battery life** (up to 10 days), so you won’t need to worry about daily charging.\n",
       "- **Reliable sleep tracking** with insights on different sleep stages.\n",
       "- **Slim, comfortable design** that’s easy to wear day and night.\n",
       "- **Intuitive app** for reviewing data and getting health tips.\n",
       "- **Affordable price** compared to higher-end models.\n",
       "\n",
       "**A couple of final tips:**\n",
       "- Make sure it’s compatible with your phone.\n",
       "- Explore the Fitbit app’s features like sleep score, trends, and reminders.\n",
       "- If you want even deeper insights, consider their optional premium service—but the basics are strong without it.\n",
       "\n",
       "Overall, this is a practical, balanced pick for your priorities. If you have any questions about setup or use, feel free to ask!"
      ]
     },
     "metadata": {},
     "output_type": "display_data"
    }
   ],
   "source": [
    "var userPromptDecisionConversationFinalDecision = \"\"\"\n",
    "Thank you for all of that information, I think I'll go with a Fitbit. \n",
    "The Fitbit Inspire 3 seems like a good fit for my budget and needs. \n",
    "\n",
    "Any quick final thoughts on my decision? \n",
    "\"\"\";\n",
    "\n",
    "// Add User message to the chat history\n",
    "chatHistoryDecisionConversation.AddUserMessage(userPromptDecisionConversationFinalDecision);\n",
    "\n",
    "// Render Markdown or stream the chat completion response\n",
    "var renderMarkdown = true;\n",
    "if (renderMarkdown)\n",
    "{\n",
    "    // Get the chat completion response as a single content object\n",
    "    var chatContent = await chatCompletionService.GetChatMessageContentAsync(chatHistoryDecisionConversation);\n",
    "    chatResponse = chatContent.Content;\n",
    "    chatResponse.DisplayAs(\"text/markdown\");\n",
    "}\n",
    "else\n",
    "{\n",
    "    // Stream the chat completion response\n",
    "    await foreach (var content in chatCompletionService.GetStreamingChatMessageContentsAsync(chatHistoryDecisionConversation))\n",
    "    {\n",
    "        chatResponse += content;\n",
    "        Console.Write(content);\n",
    "    }\n",
    "}\n",
    "\n",
    "// Add Assistant message to the chat history\n",
    "chatHistoryDecisionConversation.AddAssistantMessage(chatResponse);"
   ]
  },
  {
   "cell_type": "markdown",
   "metadata": {},
   "source": [
    "### Step 6 - Inspect & Optimize Gathered Intelligence of Chat History "
   ]
  },
  {
   "cell_type": "markdown",
   "metadata": {},
   "source": [
    "The Semantic Kernel Chat History is a transparent construct that can be inspected and written out. In fact, the ChatHistory object can be manipulated to replay chats from middle interactions to simulate different outcomes.\n",
    "\n",
    "Execute the cell below to write out the Semantic Kernel Chat History of this chat."
   ]
  },
  {
   "cell_type": "markdown",
   "metadata": {},
   "source": [
    "> **📝 Note:** In the Decision Intelligence framework, chat history can serve as a form of gathered intelligence. Interactions among users, AI models, processes, and agents provide valuable context for effective decision-making. It’s highly recommended to persist chat history objects (agent threads), especially during decision optimization, to ensure critical information is retained and accessible.  "
   ]
  },
  {
   "cell_type": "code",
   "execution_count": 9,
   "metadata": {
    "dotnet_interactive": {
     "language": "csharp"
    },
    "polyglot_notebook": {
     "kernelName": "csharp"
    },
    "vscode": {
     "languageId": "polyglot-notebook"
    }
   },
   "outputs": [
    {
     "name": "stdout",
     "output_type": "stream",
     "text": [
      "Number of chat interactions: 11\r\n"
     ]
    },
    {
     "data": {
      "text/markdown": [
       "**SYSTEM**:\r\n",
       "You are a Decision Intelligence assistant. \n",
       "Assist the user in exploring options, reasoning through decisions, problem-solving, and applying systems thinking to various scenarios. \n",
       "Provide structured, logical, and comprehensive advice.\n",
       "\r\n",
       "**USER**:\r\n",
       "I am considering buying a fitness tracker but I am not sure which features really matter. \n",
       "Could you explain the main considerations? \n",
       "\r\n",
       "**ASSISTANT**:\r\n",
       "Absolutely! Key considerations for choosing a fitness tracker often include: \n",
       "- Fitness Features (e.g., step counting, heart-rate monitoring, workout tracking)\n",
       "- Health Monitoring (like sleep tracking or advanced ECG capabilities)\n",
       "- Battery Life\n",
       "- Comfort and Fit\n",
       "- Compatibility with your smartphone's operating system\n",
       "- Price Range\n",
       "- Knowing which of these you value most will help narrow down your options.\n",
       "\r\n",
       "**USER**:\r\n",
       "Got it. Battery life and sleep tracking are both important to me. \n",
       "What's a typical battery life range for trackers, and how good is their sleep tracking?\n",
       "\r\n",
       "**ASSISTANT**:\r\n",
       "Different fitness trackers have varying battery lives, typically anywhere from 2-3 days (for more feature-rich or bright-display devices) \n",
       "up to about 10-14 days (for more minimalist trackers). \n",
       "\n",
       "Regarding sleep tracking:\n",
       "- Many modern devices can track different sleep stages (light, deep, REM).\n",
       "- High-end devices even track breathing rate and oxygen saturation during the night.\n",
       "- Some also offer insights about sleep quality and tips for improvement.\n",
       "\n",
       "If battery life is a priority, you may want to consider trackers with a more conservative display and fewer power-hungry features.\n",
       "\r\n",
       "**USER**:\r\n",
       "Are there any popular models you would recommend for that balance of battery life and sleep tracking?\n",
       "\r\n",
       "**ASSISTANT**:\r\n",
       "Popular options that strike a balance between robust sleep tracking and good battery life include:\n",
       "- Fitbit Inspire 3 or Fitbit Charge 5: Both have solid sleep tracking, multi-day battery, and strong app support.\n",
       "- Garmin Vivosmart 5: Offers decent fitness and sleep insights, plus better-than-average battery life.\n",
       "- Xiaomi Mi Band 7: Budget-friendly, surprisingly robust health metrics, and a long-lasting battery.\n",
       "\n",
       "Each varies in price and features, so consider your budget and the specific metrics you’d like to track.\n",
       "\r\n",
       "**USER**:\r\n",
       "That is great infor. \n",
       "I also have a friend who said I should consider an Apple Watch. \n",
       "Does that have comparable battery life and sleep tracking?\n",
       "\r\n",
       "**ASSISTANT**:\r\n",
       "The Apple Watch is known for its extensive feature set, including advanced health monitoring, \n",
       "but its battery life tends to be shorter—usually around 18-24 hours on a single charge \n",
       "(or possibly a bit more in low-power mode). While its sleep tracking features have improved over time, \n",
       "you might find you need to charge it daily or almost daily, which could conflict with your goal of 24/7 tracking. \n",
       "\r\n",
       "**USER**:\r\n",
       "Thank you for all of that information, I think I'll go with a Fitbit. \n",
       "The Fitbit Inspire 3 seems like a good fit for my budget and needs. \n",
       "\n",
       "Any quick final thoughts on my decision? \n",
       "\r\n",
       "**ASSISTANT**:\r\n",
       "You’ve made a thoughtful choice! The **Fitbit Inspire 3** is known for its:\n",
       "\n",
       "- **Strong battery life** (up to 10 days), so you won’t need to worry about daily charging.\n",
       "- **Reliable sleep tracking** with insights on different sleep stages.\n",
       "- **Slim, comfortable design** that’s easy to wear day and night.\n",
       "- **Intuitive app** for reviewing data and getting health tips.\n",
       "- **Affordable price** compared to higher-end models.\n",
       "\n",
       "**A couple of final tips:**\n",
       "- Make sure it’s compatible with your phone.\n",
       "- Explore the Fitbit app’s features like sleep score, trends, and reminders.\n",
       "- If you want even deeper insights, consider their optional premium service—but the basics are strong without it.\n",
       "\n",
       "Overall, this is a practical, balanced pick for your priorities. If you have any questions about setup or use, feel free to ask!\n",
       "\r\n"
      ]
     },
     "metadata": {},
     "output_type": "display_data"
    }
   ],
   "source": [
    "// Print the number of chat interactions and the chat history (turns)\n",
    "Console.WriteLine(\"Number of chat interactions: \" + chatHistoryDecisionConversation.Count());\n",
    "\n",
    "// Change this to a string builder and show as markdown\n",
    "var stringBuilderChatHistory = new StringBuilder();\n",
    "foreach (var message in chatHistoryDecisionConversation)\n",
    "{\n",
    "    // add a new line for each message\n",
    "    stringBuilderChatHistory.AppendLine($\"**{message.Role.ToString().ToUpper()}**:\");\n",
    "    stringBuilderChatHistory.Append($\"{message.Content.Replace(\"#\", string.Empty)}\");\n",
    "    stringBuilderChatHistory.AppendLine(\"\\n\");\n",
    "}\n",
    "\n",
    "// Display the chat history as Markdown\n",
    "stringBuilderChatHistory.ToString().DisplayAs(\"text/markdown\");"
   ]
  },
  {
   "cell_type": "markdown",
   "metadata": {},
   "source": [
    "By persisting the Decision Intelligence chats and making them available for inspection, can further help the decision-making process. For example you can load the Chat History summarize it or even have AI recommend optimizations for it based on the conversation. \n",
    "\n",
    "> **📝 Note:** The process below is simplified to illustrate the power of Gathering Intelligence with user <--> AI interactions. More advanced best practices will be introduced in further sections. "
   ]
  },
  {
   "cell_type": "code",
   "execution_count": 10,
   "metadata": {
    "dotnet_interactive": {
     "language": "csharp"
    },
    "polyglot_notebook": {
     "kernelName": "csharp"
    },
    "vscode": {
     "languageId": "polyglot-notebook"
    }
   },
   "outputs": [
    {
     "data": {
      "text/markdown": [
       "Certainly! Here’s a brief summary of your conversation:\n",
       "\n",
       "You explored key considerations when buying a fitness tracker and identified battery life and sleep tracking as your top priorities. You learned that typical battery life ranges from a couple of days to two weeks, and that many fitness trackers now offer robust sleep monitoring. Recommended models included Fitbit Inspire 3, Fitbit Charge 5, Garmin Vivosmart 5, and Xiaomi Mi Band 7. You also compared the Apple Watch, which has strong features but shorter battery life and requires more frequent charging. Ultimately, you decided that the Fitbit Inspire 3 best fits your needs and budget."
      ]
     },
     "metadata": {},
     "output_type": "display_data"
    },
    {
     "data": {
      "text/markdown": [
       "Certainly! Here’s a brief summary and some recommendations for optimizing decision-making interactions:\n",
       "\n",
       "**Summary of the Chat Conversation:**\n",
       "- You are considering buying a fitness tracker and wanted to understand important features.\n",
       "- Battery life and sleep tracking were identified as your priorities.\n",
       "- You asked about typical battery life and sleep tracking quality.\n",
       "- You requested popular model recommendations that balance your chosen features.\n",
       "- The Apple Watch was discussed as an alternative, but it was noted to have shorter battery life.\n",
       "- You decided on the Fitbit Inspire 3, asking for final thoughts.\n",
       "- You received confirmation that this model is well-aligned with your needs and some tips for use.\n",
       "\n",
       "---\n",
       "\n",
       "**Recommendations to Optimize Decision-Making Interactions:**\n",
       "\n",
       "**1. Clarify Priorities and Goals Early**\n",
       "   - The AI could begin by explicitly encouraging the user to rank or weigh their must-have and nice-to-have features.\n",
       "   - Asking context questions (e.g., “Will you primarily use this for daily health, training, or general motivation?”) helps tailor advice.\n",
       "\n",
       "**2. Present Comparative Information**\n",
       "   - Side-by-side comparisons (features, price, battery, sleep tracking quality) using tables or charts help visualize trade-offs.\n",
       "   - Summaries of pros and cons for each option can guide the user more efficiently.\n",
       "\n",
       "**3. Offer Decision Frameworks**\n",
       "   - Guiding the user through a structured decision-making process (e.g., listing needs, identifying deal-breakers, considering future-proofing) ensures thorough consideration.\n",
       "   - Suggesting a decision matrix can consolidate insights and score options based on user-weighted criteria.\n",
       "\n",
       "**4. Highlight User Experience and Ecosystem Factors**\n",
       "   - Prompt the user to consider compatibility with their phone or preferred health platform.\n",
       "   - Discuss app ecosystems, customer support, and ease of use.\n",
       "\n",
       "**5. Address Unstated Needs or Potential Trade-offs**\n",
       "   - Gently probe for related concerns (allergies to materials, water resistance, style preferences, budget flexibility).\n",
       "   - Warn about common pitfalls (e.g., frequent charging affecting sleep tracking) to set expectations.\n",
       "\n",
       "**6. Incorporate Long-Term Perspective**\n",
       "   - Bring up durability, warranty, and likelihood of continued software updates or integration with emerging tech.\n",
       "\n",
       "**7. Empower the User Post-Decision**\n",
       "   - Provide resources for onboarding, troubleshooting, or maximizing their investment after purchase.\n",
       "\n",
       "**Key Considerations for AI:**\n",
       "- Remain adaptable and responsive to evolving user preferences.\n",
       "- Use clear, jargon-free explanations unless the user prefers technical detail.\n",
       "- Foster confidence in the decision by grounding advice in evidence, reviews, or user experiences.\n",
       "- Encourage reflection on satisfaction after adoption for feedback and continuous learning.\n",
       "\n",
       "By integrating these practices, the AI can guide users to make more confident, personalized, and well-considered decisions."
      ]
     },
     "metadata": {},
     "output_type": "display_data"
    }
   ],
   "source": [
    "var userPromptSummarizeTheDecisionChat = \"\"\"\n",
    "Briefly summarize the chat conversation about buying a fitness tracker.\n",
    "\"\"\";\n",
    "\n",
    "// Add User message to the chat history\n",
    "chatHistoryDecisionConversation.AddUserMessage(userPromptSummarizeTheDecisionChat);\n",
    "\n",
    "var chatContent = await chatCompletionService.GetChatMessageContentAsync(chatHistoryDecisionConversation);\n",
    "chatResponse = chatContent.Content;\n",
    "chatResponse.DisplayAs(\"text/markdown\");\n",
    "\n",
    "// Optimize the chat history for any future decision interactions\n",
    "var userPromptOptimizeTheDecisionChat = \"\"\"\n",
    "Based on the chat conversation so far...\n",
    "Provide some recommendations on how the decision interactions could be optimized for decision-making.\n",
    "What are some considerations for the AI to help the use make even better decisions?\n",
    "\"\"\";\n",
    "\n",
    "// Add User message to the chat history\n",
    "chatHistoryDecisionConversation.AddUserMessage(userPromptOptimizeTheDecisionChat);\n",
    "\n",
    "var chatContentOptimization = await chatCompletionService.GetChatMessageContentAsync(chatHistoryDecisionConversation);\n",
    "var chatResponseOptimization = chatContentOptimization.Content;\n",
    "chatResponseOptimization.DisplayAs(\"text/markdown\");"
   ]
  }
 ],
 "metadata": {
  "kernelspec": {
   "display_name": ".NET (C#)",
   "language": "C#",
   "name": ".net-csharp"
  },
  "language_info": {
   "name": "csharp"
  },
  "polyglot_notebook": {
   "kernelInfo": {
    "defaultKernelName": "csharp",
    "items": [
     {
      "aliases": [],
      "name": "csharp"
     }
    ]
   }
  }
 },
 "nbformat": 4,
 "nbformat_minor": 2
}
