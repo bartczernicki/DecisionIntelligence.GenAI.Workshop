{
 "cells": [
  {
   "cell_type": "markdown",
   "metadata": {},
   "source": [
    "<img style=\"float: left;padding-right: 10px\" width =\"40px\" src=\"https://raw.githubusercontent.com/bartczernicki/DecisionIntelligence.GenAI.Workshop/main/Images/SemanticKernelLogo.png\">\n",
    "\n",
    "## Semantic Kernel - Chat Completion for Decisions "
   ]
  },
  {
   "cell_type": "markdown",
   "metadata": {},
   "source": [
    "Decision Intelligence applied in this module:  \n",
    "* Listing of various decision-making frameworks and with their descriptions by using Chat Completion  \n",
    "* Decision Scenario: Recommendation of a decision-making framework for specific higher-stakes decisions (purchase of a car)  \n",
    "* Illustrating a domain specific decision-making framework (millitary intelligence)  \n"
   ]
  },
  {
   "cell_type": "markdown",
   "metadata": {},
   "source": [
    "In this module, the Semantic Kernel ability to create a chat experience will be introduced. This is a much richer experience than just sending simple prompts that are stateless and context is forgotten.\n",
    "\n",
    "Semantic Kernel has first-class support for chat scenarios, where the user talks back and forth with the LLM, the arguments get populated with the history of the conversation. During each new run of the kernel, the arguments will be provided to the AI with content. This allows the LLM to know the historical context of the conversation."
   ]
  },
  {
   "cell_type": "markdown",
   "metadata": {},
   "source": [
    "### Step 1 - Initialize Configuration Builder & Build the Semantic Kernel Orchestration"
   ]
  },
  {
   "cell_type": "markdown",
   "metadata": {},
   "source": [
    "Execute the next two cells to:\n",
    "* Use the Configuration Builder to load the API secrets.  \n",
    "* Use the API configuration to build the Semantic Kernel orchestrator."
   ]
  },
  {
   "cell_type": "code",
   "execution_count": 1,
   "metadata": {
    "dotnet_interactive": {
     "language": "csharp"
    },
    "polyglot_notebook": {
     "kernelName": "csharp"
    },
    "vscode": {
     "languageId": "polyglot-notebook"
    }
   },
   "outputs": [
    {
     "data": {
      "text/html": [
       "<div><div></div><div></div><div><strong>Installed Packages</strong><ul><li><span>Microsoft.Extensions.Configuration, 9.0.0</span></li><li><span>Microsoft.Extensions.Configuration.Json, 9.0.0</span></li></ul></div></div>"
      ]
     },
     "metadata": {},
     "output_type": "display_data"
    }
   ],
   "source": [
    "// Import the required NuGet configuration packages\n",
    "#r \"nuget: Microsoft.Extensions.Configuration, 9.0.0\"\n",
    "#r \"nuget: Microsoft.Extensions.Configuration.Json, 9.0.0\"\n",
    "\n",
    "using Microsoft.Extensions.Configuration.Json;\n",
    "using Microsoft.Extensions.Configuration;\n",
    "using System.IO;\n",
    "\n",
    "// Load the configuration settings from the local.settings.json and secrets.settings.json files\n",
    "// The secrets.settings.json file is used to store sensitive information such as API keys\n",
    "var configurationBuilder = new ConfigurationBuilder()\n",
    "    .SetBasePath(Directory.GetCurrentDirectory())\n",
    "    .AddJsonFile(\"local.settings.json\", optional: true, reloadOnChange: true)\n",
    "    .AddJsonFile(\"secrets.settings.json\", optional: true, reloadOnChange: true);\n",
    "var config = configurationBuilder.Build();\n",
    "\n",
    "// IMPORTANT: You ONLY NEED either Azure OpenAI or OpenAI connectiopn info, not both.\n",
    "// Azure OpenAI Connection Info\n",
    "var azureOpenAIEndpoint = config[\"AzureOpenAI:Endpoint\"];\n",
    "var azureOpenAIAPIKey = config[\"AzureOpenAI:APIKey\"];\n",
    "var azureOpenAIModelDeploymentName = config[\"AzureOpenAI:ModelDeploymentName\"];\n",
    "// OpenAI Connection Info \n",
    "var openAIAPIKey = config[\"OpenAI:APIKey\"];\n",
    "var openAIModelId = config[\"OpenAI:ModelId\"];"
   ]
  },
  {
   "cell_type": "code",
   "execution_count": 2,
   "metadata": {
    "dotnet_interactive": {
     "language": "csharp"
    },
    "polyglot_notebook": {
     "kernelName": "csharp"
    },
    "vscode": {
     "languageId": "polyglot-notebook"
    }
   },
   "outputs": [
    {
     "data": {
      "text/html": [
       "<div><div></div><div></div><div><strong>Installed Packages</strong><ul><li><span>Microsoft.Extensions.DependencyInjection, 9.0.0</span></li><li><span>Microsoft.SemanticKernel, 1.39.0</span></li></ul></div></div>"
      ]
     },
     "metadata": {},
     "output_type": "display_data"
    },
    {
     "name": "stdout",
     "output_type": "stream",
     "text": [
      "Using Azure OpenAI Service\r\n"
     ]
    }
   ],
   "source": [
    "// Install the required NuGet packages\n",
    "// Note: This also installs the Dependency Injection Package to retrieve the ChatCompletionService\n",
    "#r \"nuget: Microsoft.Extensions.DependencyInjection, 9.0.0\"\n",
    "#r \"nuget: Microsoft.SemanticKernel, 1.39\"\n",
    "\n",
    "using Microsoft.Extensions.DependencyInjection.Extensions;\n",
    "using Microsoft.Extensions.DependencyInjection;\n",
    "using Microsoft.SemanticKernel;\n",
    "using Microsoft.SemanticKernel.ChatCompletion;\n",
    "using Microsoft.SemanticKernel.Connectors.OpenAI;\n",
    "\n",
    "Kernel semanticKernel;\n",
    "\n",
    "// Set the flag to use Azure OpenAI or OpenAI. False to use OpenAI, True to use Azure OpenAI\n",
    "var useAzureOpenAI = true;\n",
    "\n",
    "// Create a new Semantic Kernel instance\n",
    "if (useAzureOpenAI)\n",
    "{\n",
    "    Console.WriteLine(\"Using Azure OpenAI Service\");\n",
    "    semanticKernel = Kernel.CreateBuilder()\n",
    "        .AddAzureOpenAIChatCompletion(\n",
    "            deploymentName: azureOpenAIModelDeploymentName,\n",
    "            endpoint: azureOpenAIEndpoint,\n",
    "            apiKey: azureOpenAIAPIKey)\n",
    "        .Build();\n",
    "}\n",
    "else\n",
    "{\n",
    "    Console.WriteLine(\"Using OpenAI Service\");\n",
    "    semanticKernel = Kernel.CreateBuilder()\n",
    "        .AddOpenAIChatCompletion(\n",
    "            modelId: openAIModelId,\n",
    "            apiKey: openAIAPIKey)\n",
    "        .Build();\n",
    "}\n",
    "\n",
    "var chatCompletionService = semanticKernel.Services.GetRequiredService<IChatCompletionService>();"
   ]
  },
  {
   "cell_type": "markdown",
   "metadata": {},
   "source": [
    "### Step 2 - Execute Decision Chat Completion with Prompt Execution Settings "
   ]
  },
  {
   "cell_type": "markdown",
   "metadata": {},
   "source": [
    "> \"If you can’t describe what you are doing as a process, you don’t know what you’re doing.\" \n",
    ">\n",
    "> -- <cite>W. Edwards Deming (renowned American engineer, statistician, and management consultant)</cite>  \n",
    "\n",
    "\n",
    "Using the Semantic Kernel ChatCompletion service is very similar to inovoking a prompt for basic LLM interactions. The chat completion service will provide very similar results to invoking the prompt directly."
   ]
  },
  {
   "cell_type": "code",
   "execution_count": 3,
   "metadata": {
    "dotnet_interactive": {
     "language": "csharp"
    },
    "polyglot_notebook": {
     "kernelName": "csharp"
    },
    "vscode": {
     "languageId": "polyglot-notebook"
    }
   },
   "outputs": [
    {
     "name": "stdout",
     "output_type": "stream",
     "text": [
      "Here are five decision-making frameworks that can help improve the quality of decisions:\n",
      "\n",
      "---\n",
      "\n",
      "### 1. **OODA Loop (Observe, Orient, Decide, Act)**\n",
      "   - **Purpose**: Designed for rapid decision-making in dynamic and uncertain environments.\n",
      "   - **Steps**:\n",
      "     1. **Observe**: Gather information about the situation.\n",
      "     2. **Orient**: Analyze the information and understand the context.\n",
      "     3. **Decide**: Choose the best course of action based on the analysis.\n",
      "     4. **Act**: Implement the decision and monitor the results.\n",
      "   - **Use Case**: Useful in competitive or fast-changing environments, such as business strategy or crisis management.\n",
      "\n",
      "---\n",
      "\n",
      "### 2. **Six Thinking Hats (Edward de Bono)**\n",
      "   - **Purpose**: Encourages diverse perspectives to improve decision-making.\n",
      "   - **Steps**:\n",
      "     - **White Hat**: Focus on facts and data.\n",
      "     - **Red Hat**: Consider emotions and intuition.\n",
      "     - **Black Hat**: Identify risks and potential problems.\n",
      "     - **Yellow Hat**: Highlight benefits and opportunities.\n",
      "     - **Green Hat**: Explore creative solutions and alternatives.\n",
      "     - **Blue Hat**: Manage the process and ensure focus.\n",
      "   - **Use Case**: Ideal for group decision-making and brainstorming sessions.\n",
      "\n",
      "---\n",
      "\n",
      "### 3. **Pros and Cons List**\n",
      "   - **Purpose**: Simplifies decision-making by weighing the advantages and disadvantages.\n",
      "   - **Steps**:\n",
      "     1. List all the pros (benefits) of a decision.\n",
      "     2. List all the cons (drawbacks) of a decision.\n",
      "     3. Compare the lists to determine the best course of action.\n",
      "   - **Use Case**: Effective for straightforward decisions or when clarity is needed.\n",
      "\n",
      "---\n",
      "\n",
      "### 4. **Decision Matrix (Weighted Scoring Model)**\n",
      "   - **Purpose**: Helps evaluate multiple options based on specific criteria.\n",
      "   - **Steps**:\n",
      "     1. Define the decision criteria and assign weights based on importance.\n",
      "     2. List the options being considered.\n",
      "     3. Score each option against the criteria.\n",
      "     4. Multiply the scores by the weights and sum them up for each option.\n",
      "     5. Choose the option with the highest score.\n",
      "   - **Use Case**: Useful for complex decisions with multiple factors to consider.\n",
      "\n",
      "---\n",
      "\n",
      "### 5. **First Principles Thinking**\n",
      "   - **Purpose**: Breaks down complex problems into fundamental truths to find innovative solutions.\n",
      "   - **Steps**:\n",
      "     1. Identify the problem or decision to be made.\n",
      "     2. Break it down into its most basic components or \"first principles.\"\n",
      "     3. Rebuild the solution from the ground up, challenging assumptions and exploring new possibilities.\n",
      "   - **Use Case**: Ideal for tackling complex or novel problems, especially in innovation and strategy.\n",
      "\n",
      "---\n",
      "\n",
      "Each of these frameworks has its strengths and is suited to different types of decisions. By selecting the right framework for the situation, you can improve the quality and effectiveness of your decision-making process.\r\n"
     ]
    }
   ],
   "source": [
    "// Simple prompt to list some decision frameworks this GenAI LLM is familiar with \n",
    "// LLMs are trained on a diverse range of data and can provide insights on a wide range of topics like decision frameworks\n",
    "// SLMS (smaller LLMs) are trained on a more specific range of data and may not provide insights on all topics\n",
    "var simpleDecisionPrompt = \"\"\"\n",
    "Provide a list of 5 decision frameworks that can help improve the quality of decisions.\n",
    "\"\"\";\n",
    "\n",
    "// Create a new OpenAI prompt execution settings object\n",
    "var openAIPromptExecutionSettings = new OpenAIPromptExecutionSettings { \n",
    "    MaxTokens = 1000, \n",
    "    Temperature = 0.1, \n",
    "    TopP = 1.0, \n",
    "    FrequencyPenalty = 0.0, \n",
    "    PresencePenalty = 0.0\n",
    "    };\n",
    "\n",
    "var chatResult = await chatCompletionService.GetChatMessageContentAsync(simpleDecisionPrompt, openAIPromptExecutionSettings);\n",
    "\n",
    "Console.WriteLine(chatResult.Content);"
   ]
  },
  {
   "cell_type": "markdown",
   "metadata": {},
   "source": [
    "### Step 3 - Execute Decision Chat Completion with Streaming "
   ]
  },
  {
   "cell_type": "markdown",
   "metadata": {},
   "source": [
    "Semantic Kernel supports prompt response streaming in the ChatCompletionService. This allows responses to be streamed to the client as soon as they are made available by the LLM and API services. Below the same decision prompt is executed. However, notice that chunks are streamed and can be read by the user as soon as they appear. "
   ]
  },
  {
   "cell_type": "code",
   "execution_count": 4,
   "metadata": {
    "dotnet_interactive": {
     "language": "csharp"
    },
    "polyglot_notebook": {
     "kernelName": "csharp"
    },
    "vscode": {
     "languageId": "polyglot-notebook"
    }
   },
   "outputs": [
    {
     "name": "stdout",
     "output_type": "stream",
     "text": [
      "Certainly! Here are five effective decision-making frameworks that can improve the quality of your decisions:\n",
      "\n",
      "---\n",
      "\n",
      "### 1. **Decision Matrix (Weighted Scoring Model)**  \n",
      "This framework helps evaluate and prioritize multiple options based on specific criteria. It’s particularly useful when you have to choose from several alternatives.  \n",
      "**Steps:**\n",
      "   - Define decision criteria and assign weights to each based on importance.\n",
      "   - List all options.\n",
      "   - Score each option on each criterion (e.g., on a scale of 1-10).\n",
      "   - Multiply the scores by their respective weights and sum up to compare total scores.\n",
      "\n",
      "**Use Case:** Choosing a vendor, assessing investments, or selecting a product to launch.\n",
      "\n",
      "---\n",
      "\n",
      "### 2. **Kepner-Tregoe Decision Analysis**  \n",
      "A structured and analytical method for making decisions by systematically evaluating potential risks and aligning decisions with objectives.  \n",
      "**Steps:**  \n",
      "   - Define the situation and decision objectives.\n",
      "   - Identify alternatives and clearly assess their pros and cons.\n",
      "   - Evaluate alternatives against potential negative consequences and potential risks.\n",
      "   - Select the option with the least negative impact in critical areas.\n",
      "\n",
      "**Use Case:** Risk-sensitive decisions, project management, or troubleshooting.\n",
      "\n",
      "---\n",
      "\n",
      "### 3. **OODA Loop (Observe, Orient, Decide, Act)**  \n",
      "Developed by military strategist John Boyd, the OODA loop is a cyclical framework for making fast, adaptive decisions in dynamic and uncertain environments.  \n",
      "**Steps:**  \n",
      "   - **Observe:** Gather information about the situation.  \n",
      "   - **Orient:** Analyze the data and understand the context.  \n",
      "   - **Decide:** Choose a course of action.  \n",
      "   - **Act:** Implement the decision and return to observation for feedback.\n",
      "\n",
      "**Use Case:** Real-time or fast-paced decision-making, business strategy, or crisis management.\n",
      "\n",
      "---\n",
      "\n",
      "### 4. **ICE Scoring Model**  \n",
      "The ICE (Impact, Confidence, Ease) framework is commonly used in prioritization and startup environments to rank ideas or projects.  \n",
      "**Steps:**  \n",
      "   - Rate each option on three factors—**Impact** (potential benefit), **Confidence** (likelihood of success), and **Ease** (effort required).  \n",
      "   - Multiply these scores together to get a final score for each option.  \n",
      "   - Prioritize options with higher scores.\n",
      "\n",
      "**Use Case:** Prioritizing experiments, initiatives, or backlog items.\n",
      "\n",
      "---\n",
      "\n",
      "### 5. **Six Thinking Hats**  \n",
      "Developed by Edward de Bono, this creative problem-solving approach improves group decision-making by encouraging different perspectives.  \n",
      "**Steps:**  \n",
      "   - Assign participants different \"hats\" representing different modes of thinking:  \n",
      "        - **White Hat:** Facts and data.  \n",
      "        - **Red Hat:** Emotions and intuition.  \n",
      "        - **Black Hat:** Cautious, critical thinking.  \n",
      "        - **Yellow Hat:** Optimism and opportunities.  \n",
      "        - **Green Hat:** Creativity and alternative ideas.  \n",
      "        - **Blue Hat:** Process control and overall thinking.  \n",
      "   - Rotate through the \"hats\" to explore the decision from all angles before finalizing.\n",
      "\n",
      "**Use Case:** Group decision-making, brainstorming, or overcoming cognitive biases.\n",
      "\n",
      "---\n",
      "\n",
      "By applying these frameworks, you can approach decisions methodically, consider all angles, and reduce the influence of biases or rushed judgments. Choose the framework that best fits the complexity and context of your decision!"
     ]
    }
   ],
   "source": [
    "// Stream the chat completion response\n",
    "await foreach (var content in chatCompletionService.GetStreamingChatMessageContentsAsync(simpleDecisionPrompt))\n",
    "{\n",
    "    Console.Write(content);\n",
    "}"
   ]
  },
  {
   "cell_type": "markdown",
   "metadata": {},
   "source": [
    "### Step 4 - Execute Decision Chat Completion with a System Prompt & Chat History "
   ]
  },
  {
   "cell_type": "markdown",
   "metadata": {},
   "source": [
    "Semantic Kernel has a ChatHistory object that can be used with the ChatCompletionService to provide historical chat context to the LLM. Notice that the ChatHistory object differentiates between the different types of chat messages:\n",
    "* System Message - System or MetaPrompt. These are usually global instructions that set the \"overall rules\" for interacting with the LLMs.\n",
    "* User Message - A message from the user\n",
    "* Assistant Message - A message from the LLM. This is a message generated from an assistant or an agent. \n",
    "\n",
    "Identifying the messages from which role (user) it came from can help the LLM improve its own reasoning responses. This is a more sophisticated approach than passing chat history in a long dynamic string. ChatHistory objects can be serialized and persisted into databases as well."
   ]
  },
  {
   "cell_type": "code",
   "execution_count": 5,
   "metadata": {
    "dotnet_interactive": {
     "language": "csharp"
    },
    "polyglot_notebook": {
     "kernelName": "csharp"
    },
    "vscode": {
     "languageId": "polyglot-notebook"
    }
   },
   "outputs": [
    {
     "name": "stdout",
     "output_type": "stream",
     "text": [
      "Here are **five decision-making frameworks** designed to enhance decision quality in complex, ambiguous, or challenging scenarios. Each is structured to guide thinking, ensure clarity, and identify the most effective actions.\n",
      "\n",
      "---\n",
      "\n",
      "### 1. **Cost-Benefit Analysis**\n",
      "   This framework ensures decisions are optimized by weighing the pros and cons explicitly to determine net value.\n",
      "\n",
      "   **When to Use:** \n",
      "   * For evaluating trade-offs.\n",
      "   * When comparing multiple options with quantifiable outcomes.\n",
      "\n",
      "   **Application Process:**\n",
      "   1. Identify potential options.\n",
      "   2. For each option, list the costs (risks, downsides) and benefits (advantages, gains).\n",
      "   3. Assign monetary, time, or effort values if possible (or qualitative rankings if not quantifiable).\n",
      "   4. Subtract costs from benefits to compute net value.\n",
      "   5. Choose the option with the highest positive net benefit.\n",
      "\n",
      "   **Benefits:**\n",
      "   * Promotes economic efficiency.\n",
      "   * Clarifies opportunity costs.\n",
      "   * Aids in resource allocation.\n",
      "\n",
      "   **Pitfalls:** \n",
      "   * Intangible or subjective factors may be undervalued.\n",
      "   * Overly simplistic for complex, multi-dimensional problems.\n",
      "\n",
      "---\n",
      "\n",
      "### 2. **The Eisenhower Matrix**\n",
      "   Focuses on prioritization by categorizing tasks or decisions into four quadrants based on urgency and importance.\n",
      "\n",
      "   **When to Use:** \n",
      "   * For time or resource management.\n",
      "   * When overwhelmed by competing priorities.\n",
      "\n",
      "   **Quadrants:**\n",
      "   - **Urgent & Important:** Do immediately.\n",
      "   - **Important but Not Urgent:** Schedule or plan.\n",
      "   - **Urgent but Not Important:** Delegate.\n",
      "   - **Neither Urgent Nor Important:** Eliminate.\n",
      "\n",
      "   **Application Process:**\n",
      "   1. Divide decision factors or tasks based on urgency and importance.\n",
      "   2. Focus your effort on Quadrant 1 (critical needs) and Quadrant 2 (strategic improvements).\n",
      "   3. Systematically reduce distractions (Quadrants 3 & 4).\n",
      "\n",
      "   **Benefits:**\n",
      "   * Streamlines focus on impactful activities.\n",
      "   * Combats decision paralysis caused by too many choices.\n",
      "\n",
      "   **Pitfalls:** \n",
      "   * Hard to classify items precisely without clear criteria.\n",
      "   * Context-dependent—long-term opportunities might be neglected if seen as non-urgent.\n",
      "\n",
      "---\n",
      "\n",
      "### 3. **Decision Trees**\n",
      "   A logical, flow-chart approach to mapping out possible actions, their outcomes, and probabilities.\n",
      "\n",
      "   **When to Use:** \n",
      "   * For breaking down sequential or conditional decisions.\n",
      "   * When quantitative probabilities of outcomes are available.\n",
      "\n",
      "   **Application Process:**\n",
      "   1. Start with the main choice at the root.\n",
      "   2. Branch out with potential options and their consequences.\n",
      "   3. Assign probabilities to each outcome and expected rewards/costs.\n",
      "   4. Use expected value (probability × outcome value) to determine the best path.\n",
      "\n",
      "   **Benefits:**\n",
      "   * Visualizes dependencies, contingencies, and uncertainty.\n",
      "   * Considers multiple future scenarios.\n",
      "   * Ideal for team-based decision-making.\n",
      "\n",
      "   **Pitfalls:** \n",
      "   * Becomes unwieldy with too many branches.\n",
      "   * Requires accurate probabilities and outcomes.\n",
      "\n",
      "---\n",
      "\n",
      "### 4. **Six Thinking Hats (by Edward de Bono)**\n",
      "   Encourages examining a decision from six different perspectives to achieve a well-rounded view.\n",
      "\n",
      "   **When to Use:** \n",
      "   * For creative problem-solving or group decision-making.\n",
      "   * When diverse perspectives are needed to reduce bias.\n",
      "\n",
      "   **Six Hats and Their Functions:**\n",
      "   - **White Hat:** Data-focused—Analyze facts and figures.\n",
      "   - **Red Hat:** Emotional perspective—Explore feelings and intuition.\n",
      "   - **Black Hat:** Risk analysis—Identify pitfalls and negative outcomes.\n",
      "   - **Yellow Hat:** Optimism—Highlight potential gains.\n",
      "   - **Green Hat:** Creativity—Suggest alternative ideas and solutions.\n",
      "   - **Blue Hat:** Process control—Guide and structure the discussion.\n",
      "\n",
      "   **Application Process:**\n",
      "   1. Assign \"hats\" to participants or use them iteratively yourself.\n",
      "   2. Rotate through each hat (perspective) systematically to evaluate the decision comprehensively.\n",
      "   3. Integrate learnings to create a balanced, actionable strategy.\n",
      "\n",
      "   **Benefits:**\n",
      "   * Minimizes cognitive biases (e.g., confirmation bias).\n",
      "   * Fosters creative and holistic thinking.\n",
      "   * Effective for group collaboration.\n",
      "\n",
      "   **Pitfalls:** \n",
      "   * Time-intensive.\n",
      "   * Requires a skilled facilitator to ensure balanced participation.\n",
      "\n",
      "---\n",
      "\n",
      "### 5. **OODA Loop (Observe, Orient, Decide, Act)**\n",
      "   A cyclical, iterative process used to develop fast, adaptable, and informed decisions.\n",
      "\n",
      "   **When to Use:** \n",
      "   * For dynamic, fast-moving situations (e.g., market disruptions or crises).\n",
      "   * In competitive environments.\n",
      "\n",
      "   **Steps:**\n",
      "   1. **Observe:** Gather information from the environment (facts, trends, events).\n",
      "   2. **Orient:** Analyze and contextualize the data (identify biases, prioritize threats).\n",
      "   3. **Decide:** Evaluate choices and commit to an optimal action.\n",
      "   4. **Act:** Implement the chosen decision, then re-enter the loop to continuously adapt.\n",
      "\n",
      "   **Benefits:**\n",
      "   * Encourages agility and iteration.\n",
      "   * Aligns with dynamic systems or environments requiring continuous adaptation.\n",
      "\n",
      "   **Pitfalls:** \n",
      "   * Overreaction to short-term signals can lead to instability.\n",
      "   * Requires quality, real-time data for accuracy.\n",
      "\n",
      "---\n",
      "\n",
      "### Summary Table of Use Cases:\n",
      "\n",
      "| **Framework**           | **Best Use Case**                              | **Strength**                        |\n",
      "|--------------------------|-----------------------------------------------|-------------------------------------|\n",
      "| Cost-Benefit Analysis    | Quantified trade-offs                        | Rational prioritization             |\n",
      "| Eisenhower Matrix        | Time management                              | Task prioritization                 |\n",
      "| Decision Trees           | Sequential, conditional decision scenarios   | Visual, structured roadmap          |\n",
      "| Six Thinking Hats        | Holistic group decision-making               | Diverse perspectives                |\n",
      "| OODA Loop                | Fast-moving, uncertain environments          | Iterative, flexible decision-making |\n",
      "\n",
      "By selecting the most suitable framework for your context, you can enhance the quality of decisions and align them effectively with both short-term needs and long-term objectives. If you'd like help applying one of these frameworks to a specific decision, let me know!"
     ]
    }
   ],
   "source": [
    "// Set the overall system prompt to behave like a decision intelligence assistant (persona)\n",
    "var systemPrompt = \"\"\"\n",
    "You are a Decision Intelligence assistant. \n",
    "Assist the user in exploring options, reasoning through decisions, problem-solving, and applying systems thinking to various scenarios. \n",
    "Provide structured, logical, and comprehensive advice.\n",
    "\"\"\";\n",
    "\n",
    "// Simple instruction prompt to list 5 (five) decision frameworks this GenAI LLM is familiar with\n",
    "var simpleDecisionPrompt = \"\"\"\n",
    "Provide five Decision Frameworks that can help improve the quality of decisions.\n",
    "\"\"\";\n",
    "\n",
    "// Create a new chat history object with proper system and user message roles\n",
    "var chatHistory = new ChatHistory();\n",
    "chatHistory.AddSystemMessage(systemPrompt);\n",
    "chatHistory.AddUserMessage(simpleDecisionPrompt);\n",
    "\n",
    "var chatResponse = string.Empty;\n",
    "await foreach (var content in chatCompletionService.GetStreamingChatMessageContentsAsync(chatHistory))\n",
    "{\n",
    "    chatResponse += content;\n",
    "    Console.Write(content);\n",
    "}\n",
    "\n",
    "// Add the assistant's response to the chat history\n",
    "chatHistory.AddAssistantMessage(chatResponse);"
   ]
  },
  {
   "cell_type": "markdown",
   "metadata": {},
   "source": [
    "In the next step, an additional prompt instruction will be added to the chat history. From the 5 decision frameworks provided in the chat history, Generative AI is asked to recommed a framework best suited for the militaty intelligence community. Notice that the previous chat history is automatically provided to provide additional intelligence context. \n",
    "\n",
    "> 📜 \"Take time to deliberate, but when the time for action comes, stop thinking and go in.\"\n",
    ">\n",
    "> -- <cite>Napoleon Bornaparte (French Emporer and brilliant military mind)</cite>  "
   ]
  },
  {
   "cell_type": "code",
   "execution_count": 7,
   "metadata": {
    "dotnet_interactive": {
     "language": "csharp"
    },
    "polyglot_notebook": {
     "kernelName": "csharp"
    },
    "vscode": {
     "languageId": "polyglot-notebook"
    }
   },
   "outputs": [
    {
     "name": "stdout",
     "output_type": "stream",
     "text": [
      "The **OODA Loop (Observe, Orient, Decide, Act)** is the **single best framework** for the military intelligence community. \n",
      "\n",
      "Its agility, iterative nature, and ability to function in high-stakes, rapidly changing environments make it ideal for the demands of intelligence operations that require real-time situational awareness, contextual analysis, swift decision-making, and adaptable actions."
     ]
    }
   ],
   "source": [
    "// Note: No reference is made to what previous frameworks were listed.\n",
    "// Note: Previous context is maintained by the Semantic Kernel ChatHistory object \n",
    "var simpleDecisionPromptFollowupQuestionPartTwo = \"\"\"\n",
    "Which of the 5 decision frameworks listed above is best suited for the military intelligence community? \n",
    "Select only the single best framework. \n",
    "\"\"\";\n",
    "\n",
    "// Add User message to the chat history\n",
    "chatHistory.AddUserMessage(simpleDecisionPromptFollowupQuestionPartTwo);\n",
    "\n",
    "var chatResponse = string.Empty;\n",
    "await foreach (var content in chatCompletionService.GetStreamingChatMessageContentsAsync(chatHistory))\n",
    "{\n",
    "    chatResponse += content;\n",
    "    Console.Write(content);\n",
    "}\n",
    "\n",
    "// Add Assistant message to the chat history\n",
    "chatHistory.AddAssistantMessage(chatResponse);"
   ]
  },
  {
   "cell_type": "markdown",
   "metadata": {},
   "source": [
    "### Step 5 - Execute Decision Chat Completion with a Multi-Turn Conversation Scenario "
   ]
  },
  {
   "cell_type": "markdown",
   "metadata": {},
   "source": [
    "> 📜 \"Price is what you pay. Value is what you get.\"  \n",
    ">\n",
    "> -- <cite>Warren Buffet (one of the most successful investors of all time)</cite>  "
   ]
  },
  {
   "cell_type": "markdown",
   "metadata": {},
   "source": [
    "With Semantic Kernel maintaining state with the ChatHistory object, the natural converation between user and AI can be persisted for future use. It can be saved for future reference, it can be replayed, it can be forked in certain spots to try different scenarios, it can be used as a starting point for other conversations etc. \n",
    "\n",
    "In the scenario below, let's build a multi-turn conversation about a decision over a purchase for a fitness tracker. Notice that each turn the appropriate Chat History roles are populated with the appropriate prompts and assistant (AI) responses. This in effect acts as the Gathering Intelligence step of the Decision Intelligence framework as the conversation information has been persisted and can be re-used as context for the decision scenario."
   ]
  },
  {
   "cell_type": "code",
   "execution_count": 8,
   "metadata": {
    "dotnet_interactive": {
     "language": "csharp"
    },
    "polyglot_notebook": {
     "kernelName": "csharp"
    },
    "vscode": {
     "languageId": "polyglot-notebook"
    }
   },
   "outputs": [],
   "source": [
    "// Set the overall system prompt to behave like a decision intelligence assistant (persona)\n",
    "var systemPromptDecisionConversation = \"\"\"\n",
    "You are a Decision Intelligence assistant. \n",
    "Assist the user in exploring options, reasoning through decisions, problem-solving, and applying systems thinking to various scenarios. \n",
    "Provide structured, logical, and comprehensive advice.\n",
    "\"\"\";\n",
    "\n",
    "// User prompt to start a decision conversation about buying a fitness tracker\n",
    "var userPromptDecisionConversationTurn1 = \"\"\"\n",
    "I am considering buying a fitness tracker but I am not sure which features really matter. \n",
    "Could you explain the main considerations? \n",
    "\"\"\";\n",
    "\n",
    "var assistantResponseDecisionConversationTurn1 = \"\"\"\n",
    "Absolutely! Key considerations for choosing a fitness tracker often include: \n",
    "- Fitness Features (e.g., step counting, heart-rate monitoring, workout tracking)\n",
    "- Health Monitoring (like sleep tracking or advanced ECG capabilities)\n",
    "- Battery Life\n",
    "- Comfort and Fit\n",
    "- Compatibility with your smartphone's operating system\n",
    "- Price Range\n",
    "- Knowing which of these you value most will help narrow down your options.\n",
    "\"\"\";\n",
    "\n",
    "var userPromptDecisionConversationTurn2 = \"\"\"\n",
    "Got it. Battery life and sleep tracking are both important to me. \n",
    "What's a typical battery life range for trackers, and how good is their sleep tracking?\n",
    "\"\"\";\n",
    "\n",
    "var assistantResponseDecisionConversationTurn2 = \"\"\"\n",
    "Different fitness trackers have varying battery lives, typically anywhere from 2-3 days (for more feature-rich or bright-display devices) \n",
    "up to about 10-14 days (for more minimalist trackers). \n",
    "\n",
    "Regarding sleep tracking:\n",
    "- Many modern devices can track different sleep stages (light, deep, REM).\n",
    "- High-end devices even track breathing rate and oxygen saturation during the night.\n",
    "- Some also offer insights about sleep quality and tips for improvement.\n",
    "\n",
    "If battery life is a priority, you may want to consider trackers with a more conservative display and fewer power-hungry features.\n",
    "\"\"\";\n",
    "\n",
    "var userPromptDecisionConversationTurn3 = \"\"\"\n",
    "Are there any popular models you would recommend for that balance of battery life and sleep tracking?\n",
    "\"\"\";\n",
    "\n",
    "var assistantResponseDecisionConversationTurn3 = \"\"\"\n",
    "Popular options that strike a balance between robust sleep tracking and good battery life include:\n",
    "- Fitbit Inspire 3 or Fitbit Charge 5: Both have solid sleep tracking, multi-day battery, and strong app support.\n",
    "- Garmin Vivosmart 5: Offers decent fitness and sleep insights, plus better-than-average battery life.\n",
    "- Xiaomi Mi Band 7: Budget-friendly, surprisingly robust health metrics, and a long-lasting battery.\n",
    "\n",
    "Each varies in price and features, so consider your budget and the specific metrics you’d like to track.\n",
    "\"\"\";\n",
    "\n",
    "var userPromptDecisionConversationTurn4 = \"\"\"\n",
    "That is great infor. \n",
    "I also have a friend who said I should consider an Apple Watch. \n",
    "Does that have comparable battery life and sleep tracking?\n",
    "\"\"\";\n",
    "\n",
    "var assistantResponseDecisionConversationTurn4 = \"\"\"\n",
    "The Apple Watch is known for its extensive feature set, including advanced health monitoring, \n",
    "but its battery life tends to be shorter—usually around 18-24 hours on a single charge \n",
    "(or possibly a bit more in low-power mode). While its sleep tracking features have improved over time, \n",
    "you might find you need to charge it daily or almost daily, which could conflict with your goal of 24/7 tracking. \n",
    "\"\"\";\n",
    "\n",
    "// Create a new chat history with a multi-turn conversation about buying a fitness tracker\n",
    "var chatHistoryDecisionConversation = new ChatHistory();\n",
    "chatHistoryDecisionConversation.AddSystemMessage(systemPromptDecisionConversation);\n",
    "chatHistoryDecisionConversation.AddUserMessage(userPromptDecisionConversationTurn1);\n",
    "chatHistoryDecisionConversation.AddAssistantMessage(assistantResponseDecisionConversationTurn1);\n",
    "chatHistoryDecisionConversation.AddUserMessage(userPromptDecisionConversationTurn2);\n",
    "chatHistoryDecisionConversation.AddAssistantMessage(assistantResponseDecisionConversationTurn2);\n",
    "chatHistoryDecisionConversation.AddUserMessage(userPromptDecisionConversationTurn3);\n",
    "chatHistoryDecisionConversation.AddAssistantMessage(assistantResponseDecisionConversationTurn3);\n",
    "chatHistoryDecisionConversation.AddUserMessage(userPromptDecisionConversationTurn4);\n",
    "chatHistoryDecisionConversation.AddAssistantMessage(assistantResponseDecisionConversationTurn4);\n"
   ]
  },
  {
   "cell_type": "markdown",
   "metadata": {},
   "source": [
    "Using the above conversation as the \"Gathered Intelligence\" betweeen the user and the AI assistant, let's make a final decision and ask for final feedback and a decision evaluation. "
   ]
  },
  {
   "cell_type": "code",
   "execution_count": 9,
   "metadata": {
    "dotnet_interactive": {
     "language": "csharp"
    },
    "polyglot_notebook": {
     "kernelName": "csharp"
    },
    "vscode": {
     "languageId": "polyglot-notebook"
    }
   },
   "outputs": [
    {
     "name": "stdout",
     "output_type": "stream",
     "text": [
      "You're making a great choice with the **Fitbit Inspire 3** if battery life, sleep tracking, and budget are your priorities. It offers:\n",
      "\n",
      "- **10-day battery life**, which aligns perfectly with your need to avoid frequent charging.\n",
      "- **Comprehensive sleep tracking**, including sleep stages and detailed insights via the Fitbit app.\n",
      "- A lightweight, minimalist design for all-day and all-night wear.\n",
      "\n",
      "### A few tips for getting the most out of your tracker:\n",
      "1. **Set realistic goals**: Use the app to customize step, sleep, or activity goals that fit your lifestyle.\n",
      "2. **Check compatibility**: Ensure your smartphone is compatible to maximize features like notifications and syncing.\n",
      "3. **Optimize charging habits**: Pick a time of day (e.g., during a shower or while watching TV) to charge briefly to avoid disrupting sleep tracking.\n",
      "\n",
      "Enjoy your new fitness journey! Would you like insights on how to interpret the data or set health goals once you start using it?"
     ]
    }
   ],
   "source": [
    "var userPromptDecisionConversationFinalDecision = \"\"\"\n",
    "Thank you for all of that information, I think I'll go with a Fitbit. \n",
    "The Fitbit Inspire 3 seems like a good fit for my budget and needs. \n",
    "\n",
    "Any quick final thoughts on my decision? \n",
    "\"\"\";\n",
    "\n",
    "// Add User message to the chat history\n",
    "chatHistoryDecisionConversation.AddUserMessage(userPromptDecisionConversationFinalDecision);\n",
    "\n",
    "var chatResponse = string.Empty;\n",
    "await foreach (var content in chatCompletionService.GetStreamingChatMessageContentsAsync(chatHistoryDecisionConversation))\n",
    "{\n",
    "    chatResponse += content;\n",
    "    Console.Write(content);\n",
    "}"
   ]
  },
  {
   "cell_type": "markdown",
   "metadata": {},
   "source": [
    "### Step 6 - Inspect Gathered Intelligence of Chat History "
   ]
  },
  {
   "cell_type": "markdown",
   "metadata": {},
   "source": [
    "The Semantic Kernel Chat History is a transparent construct that can be inspected and written out. In fact, the ChatHistory object can be manipulated to replay chats from middle interactions to simulate different outcomes.\n",
    "\n",
    "Execute the cell below to write out the Semantic Kernel Chat History of this chat."
   ]
  },
  {
   "cell_type": "code",
   "execution_count": 10,
   "metadata": {
    "dotnet_interactive": {
     "language": "csharp"
    },
    "polyglot_notebook": {
     "kernelName": "csharp"
    },
    "vscode": {
     "languageId": "polyglot-notebook"
    }
   },
   "outputs": [
    {
     "name": "stdout",
     "output_type": "stream",
     "text": [
      "Number of chat interactions: 10\n",
      "\n",
      "# SYSTEM: You are a Decision Intelligence assistant. \n",
      "Assist the user in exploring options, reasoning through decisions, problem-solving, and applying systems thinking to various scenarios. \n",
      "Provide structured, logical, and comprehensive advice.\n",
      "\n",
      "# USER: I am considering buying a fitness tracker but I am not sure which features really matter. \n",
      "Could you explain the main considerations? \n",
      "\n",
      "# ASSISTANT: Absolutely! Key considerations for choosing a fitness tracker often include: \n",
      "- Fitness Features (e.g., step counting, heart-rate monitoring, workout tracking)\n",
      "- Health Monitoring (like sleep tracking or advanced ECG capabilities)\n",
      "- Battery Life\n",
      "- Comfort and Fit\n",
      "- Compatibility with your smartphone's operating system\n",
      "- Price Range\n",
      "- Knowing which of these you value most will help narrow down your options.\n",
      "\n",
      "# USER: Got it. Battery life and sleep tracking are both important to me. \n",
      "What's a typical battery life range for trackers, and how good is their sleep tracking?\n",
      "\n",
      "# ASSISTANT: Different fitness trackers have varying battery lives, typically anywhere from 2-3 days (for more feature-rich or bright-display devices) \n",
      "up to about 10-14 days (for more minimalist trackers). \n",
      "\n",
      "Regarding sleep tracking:\n",
      "- Many modern devices can track different sleep stages (light, deep, REM).\n",
      "- High-end devices even track breathing rate and oxygen saturation during the night.\n",
      "- Some also offer insights about sleep quality and tips for improvement.\n",
      "\n",
      "If battery life is a priority, you may want to consider trackers with a more conservative display and fewer power-hungry features.\n",
      "\n",
      "# USER: Are there any popular models you would recommend for that balance of battery life and sleep tracking?\n",
      "\n",
      "# ASSISTANT: Popular options that strike a balance between robust sleep tracking and good battery life include:\n",
      "- Fitbit Inspire 3 or Fitbit Charge 5: Both have solid sleep tracking, multi-day battery, and strong app support.\n",
      "- Garmin Vivosmart 5: Offers decent fitness and sleep insights, plus better-than-average battery life.\n",
      "- Xiaomi Mi Band 7: Budget-friendly, surprisingly robust health metrics, and a long-lasting battery.\n",
      "\n",
      "Each varies in price and features, so consider your budget and the specific metrics you’d like to track.\n",
      "\n",
      "# USER: That is great infor. \n",
      "I also have a friend who said I should consider an Apple Watch. \n",
      "Does that have comparable battery life and sleep tracking?\n",
      "\n",
      "# ASSISTANT: The Apple Watch is known for its extensive feature set, including advanced health monitoring, \n",
      "but its battery life tends to be shorter—usually around 18-24 hours on a single charge \n",
      "(or possibly a bit more in low-power mode). While its sleep tracking features have improved over time, \n",
      "you might find you need to charge it daily or almost daily, which could conflict with your goal of 24/7 tracking. \n",
      "\n",
      "# USER: Thank you for all of that information, I think I'll go with a Fitbit. \n",
      "The Fitbit Inspire 3 seems like a good fit for my budget and needs. \n",
      "\n",
      "Any quick final thoughts on my decision? \n"
     ]
    }
   ],
   "source": [
    "// Print the number of chat interactions and the chat history (turns)\n",
    "Console.WriteLine(\"Number of chat interactions: \" + chatHistoryDecisionConversation.Count());\n",
    "\n",
    "foreach (var message in chatHistoryDecisionConversation)\n",
    "{\n",
    "    Console.WriteLine(string.Empty);\n",
    "    Console.WriteLine($\"# {message.Role.ToString().ToUpper()}: {message.Content}\");\n",
    "}"
   ]
  },
  {
   "cell_type": "markdown",
   "metadata": {},
   "source": [
    "Having the Chat History object available for inspection, this can be used to further help the decision-making process. For example you can load the Chat History and summarize it. "
   ]
  },
  {
   "cell_type": "code",
   "execution_count": 11,
   "metadata": {
    "dotnet_interactive": {
     "language": "csharp"
    },
    "polyglot_notebook": {
     "kernelName": "csharp"
    },
    "vscode": {
     "languageId": "polyglot-notebook"
    }
   },
   "outputs": [
    {
     "name": "stdout",
     "output_type": "stream",
     "text": [
      "The chat conversation focused on recommendations for purchasing a fitness tracker. Key considerations included tracking features like heart rate monitoring, sleep analysis, GPS, and activity tracking. Budget, brand reputation (e.g., Fitbit, Garmin, or Apple), and compatibility with smartphones were also highlighted as important factors in the decision-making process."
     ]
    }
   ],
   "source": [
    "var userPromptSummarizeTheDecisionChat = \"\"\"\n",
    "Briefly summarize the chat conversation about buying a fitness tracker.\n",
    "\"\"\";\n",
    "\n",
    "// Add User message to the chat history\n",
    "chatHistoryDecisionConversation.AddUserMessage(userPromptSummarizeTheDecisionChat);\n",
    "\n",
    "var chatResponse = string.Empty;\n",
    "await foreach (var content in chatCompletionService.GetStreamingChatMessageContentsAsync(userPromptSummarizeTheDecisionChat))\n",
    "{\n",
    "    chatResponse += content;\n",
    "    Console.Write(content);\n",
    "}"
   ]
  }
 ],
 "metadata": {
  "kernelspec": {
   "display_name": ".NET (C#)",
   "language": "C#",
   "name": ".net-csharp"
  },
  "language_info": {
   "name": "csharp"
  },
  "polyglot_notebook": {
   "kernelInfo": {
    "defaultKernelName": "csharp",
    "items": [
     {
      "aliases": [],
      "name": "csharp"
     }
    ]
   }
  }
 },
 "nbformat": 4,
 "nbformat_minor": 2
}
