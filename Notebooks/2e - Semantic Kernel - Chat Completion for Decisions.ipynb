{
 "cells": [
  {
   "cell_type": "markdown",
   "metadata": {},
   "source": [
    "<img style=\"float: left;padding-right: 10px\" width =\"40px\" src=\"https://raw.githubusercontent.com/bartczernicki/DecisionIntelligence.GenAI.Workshop/main/Images/SemanticKernelLogo.png\">\n",
    "\n",
    "## Semantic Kernel - Chat Completion for Decisions "
   ]
  },
  {
   "cell_type": "markdown",
   "metadata": {},
   "source": [
    "Decision Intelligence applied in this module:  \n",
    "* Listing of various decision-making frameworks and with their descriptions by using Chat Completion  \n",
    "* Decision Scenario: Recommendation of a decision-making framework for specific higher-stakes decisions (purchase of a car)  \n",
    "* Illustrating a domain specific decision-making framework (millitary intelligence)  \n"
   ]
  },
  {
   "cell_type": "markdown",
   "metadata": {},
   "source": [
    "In this module, the Semantic Kernel ability to create a chat experience will be introduced. This is a much richer experience than just sending simple prompts that are stateless and context is forgotten.\n",
    "\n",
    "Semantic Kernel has first-class support for chat scenarios, where the user talks back and forth with the LLM, the arguments get populated with the history of the conversation. During each new run of the kernel, the arguments will be provided to the AI with content. This allows the LLM to know the historical context of the conversation."
   ]
  },
  {
   "cell_type": "markdown",
   "metadata": {},
   "source": [
    "### Step 1 - Initialize Configuration Builder & Build the Semantic Kernel Orchestration"
   ]
  },
  {
   "cell_type": "markdown",
   "metadata": {},
   "source": [
    "Execute the next two cells to:\n",
    "* Use the Configuration Builder to load the API secrets.  \n",
    "* Use the API configuration to build the Semantic Kernel orchestrator."
   ]
  },
  {
   "cell_type": "code",
   "execution_count": 1,
   "metadata": {
    "dotnet_interactive": {
     "language": "csharp"
    },
    "polyglot_notebook": {
     "kernelName": "csharp"
    },
    "vscode": {
     "languageId": "polyglot-notebook"
    }
   },
   "outputs": [
    {
     "data": {
      "text/html": [
       "<div><div></div><div></div><div><strong>Installed Packages</strong><ul><li><span>Microsoft.Extensions.Configuration, 9.0.0</span></li><li><span>Microsoft.Extensions.Configuration.Json, 9.0.0</span></li></ul></div></div>"
      ]
     },
     "metadata": {},
     "output_type": "display_data"
    }
   ],
   "source": [
    "// Import the required NuGet configuration packages\n",
    "#r \"nuget: Microsoft.Extensions.Configuration, 9.0.0\"\n",
    "#r \"nuget: Microsoft.Extensions.Configuration.Json, 9.0.0\"\n",
    "\n",
    "using Microsoft.Extensions.Configuration.Json;\n",
    "using Microsoft.Extensions.Configuration;\n",
    "using System.IO;\n",
    "\n",
    "// Load the configuration settings from the local.settings.json and secrets.settings.json files\n",
    "// The secrets.settings.json file is used to store sensitive information such as API keys\n",
    "var configurationBuilder = new ConfigurationBuilder()\n",
    "    .SetBasePath(Directory.GetCurrentDirectory())\n",
    "    .AddJsonFile(\"local.settings.json\", optional: true, reloadOnChange: true)\n",
    "    .AddJsonFile(\"secrets.settings.json\", optional: true, reloadOnChange: true);\n",
    "var config = configurationBuilder.Build();\n",
    "\n",
    "// IMPORTANT: You ONLY NEED either Azure OpenAI or OpenAI connectiopn info, not both.\n",
    "// Azure OpenAI Connection Info\n",
    "var azureOpenAIEndpoint = config[\"AzureOpenAI:Endpoint\"];\n",
    "var azureOpenAIAPIKey = config[\"AzureOpenAI:APIKey\"];\n",
    "var azureOpenAIModelDeploymentName = config[\"AzureOpenAI:ModelDeploymentName\"];\n",
    "// OpenAI Connection Info \n",
    "var openAIAPIKey = config[\"OpenAI:APIKey\"];\n",
    "var openAIModelId = config[\"OpenAI:ModelId\"];"
   ]
  },
  {
   "cell_type": "code",
   "execution_count": 2,
   "metadata": {
    "dotnet_interactive": {
     "language": "csharp"
    },
    "polyglot_notebook": {
     "kernelName": "csharp"
    },
    "vscode": {
     "languageId": "polyglot-notebook"
    }
   },
   "outputs": [
    {
     "data": {
      "text/html": [
       "<div><div></div><div></div><div><strong>Installed Packages</strong><ul><li><span>Microsoft.Extensions.DependencyInjection, 9.0.0</span></li><li><span>Microsoft.SemanticKernel, 1.37.0</span></li></ul></div></div>"
      ]
     },
     "metadata": {},
     "output_type": "display_data"
    },
    {
     "name": "stdout",
     "output_type": "stream",
     "text": [
      "Using Azure OpenAI Service\r\n"
     ]
    }
   ],
   "source": [
    "// Install the required NuGet packages\n",
    "// Note: This also installs the Dependency Injection Package to retrieve the ChatCompletionService\n",
    "#r \"nuget: Microsoft.Extensions.DependencyInjection, 9.0.0\"\n",
    "#r \"nuget: Microsoft.SemanticKernel, 1.37\"\n",
    "\n",
    "using Microsoft.Extensions.DependencyInjection.Extensions;\n",
    "using Microsoft.Extensions.DependencyInjection;\n",
    "using Microsoft.SemanticKernel;\n",
    "using Microsoft.SemanticKernel.ChatCompletion;\n",
    "using Microsoft.SemanticKernel.Connectors.OpenAI;\n",
    "\n",
    "Kernel semanticKernel;\n",
    "\n",
    "// Set the flag to use Azure OpenAI or OpenAI. False to use OpenAI, True to use Azure OpenAI\n",
    "var useAzureOpenAI = true;\n",
    "\n",
    "// Create a new Semantic Kernel instance\n",
    "if (useAzureOpenAI)\n",
    "{\n",
    "    Console.WriteLine(\"Using Azure OpenAI Service\");\n",
    "    semanticKernel = Kernel.CreateBuilder()\n",
    "        .AddAzureOpenAIChatCompletion(\n",
    "            deploymentName: azureOpenAIModelDeploymentName,\n",
    "            endpoint: azureOpenAIEndpoint,\n",
    "            apiKey: azureOpenAIAPIKey)\n",
    "        .Build();\n",
    "}\n",
    "else\n",
    "{\n",
    "    Console.WriteLine(\"Using OpenAI Service\");\n",
    "    semanticKernel = Kernel.CreateBuilder()\n",
    "        .AddOpenAIChatCompletion(\n",
    "            modelId: openAIModelId,\n",
    "            apiKey: openAIAPIKey)\n",
    "        .Build();\n",
    "}\n",
    "\n",
    "var chatCompletionService = semanticKernel.Services.GetRequiredService<IChatCompletionService>();"
   ]
  },
  {
   "cell_type": "markdown",
   "metadata": {},
   "source": [
    "### Step 2 - Execute Decision Chat Completion with Prompt Execution Settings "
   ]
  },
  {
   "cell_type": "markdown",
   "metadata": {},
   "source": [
    "> \"If you can’t describe what you are doing as a process, you don’t know what you’re doing.\" \n",
    ">\n",
    "> -- <cite>W. Edwards Deming (renowned American engineer, statistician, and management consultant)</cite>  \n",
    "\n",
    "\n",
    "Using the Semantic Kernel ChatCompletion service is very similar to inovoking a prompt for basic LLM interactions. The chat completion service will provide very similar results to invoking the prompt directly."
   ]
  },
  {
   "cell_type": "code",
   "execution_count": 3,
   "metadata": {
    "dotnet_interactive": {
     "language": "csharp"
    },
    "polyglot_notebook": {
     "kernelName": "csharp"
    },
    "vscode": {
     "languageId": "polyglot-notebook"
    }
   },
   "outputs": [
    {
     "name": "stdout",
     "output_type": "stream",
     "text": [
      "Here are five decision-making frameworks that can help improve the quality of decisions:\n",
      "\n",
      "---\n",
      "\n",
      "### 1. **The OODA Loop**\n",
      "   - **Overview**: Developed by military strategist John Boyd, the OODA Loop is a cyclical process for making decisions in dynamic and uncertain environments.\n",
      "   - **Steps**:\n",
      "     1. **Observe**: Gather information and assess the current situation.\n",
      "     2. **Orient**: Analyze the information, identify patterns, and consider options.\n",
      "     3. **Decide**: Choose the best course of action based on the analysis.\n",
      "     4. **Act**: Implement the decision and monitor the results.\n",
      "   - **Use Case**: Effective for situations requiring rapid decision-making, such as crisis management or competitive business environments.\n",
      "\n",
      "---\n",
      "\n",
      "### 2. **The Eisenhower Matrix**\n",
      "   - **Overview**: A time-management and prioritization tool that helps focus on what’s important and urgent.\n",
      "   - **Steps**:\n",
      "     - Categorize tasks into four quadrants:\n",
      "       1. **Urgent and Important**: Do immediately.\n",
      "       2. **Important but Not Urgent**: Schedule for later.\n",
      "       3. **Urgent but Not Important**: Delegate to someone else.\n",
      "       4. **Neither Urgent nor Important**: Eliminate or ignore.\n",
      "   - **Use Case**: Ideal for prioritizing tasks and making decisions about resource allocation.\n",
      "\n",
      "---\n",
      "\n",
      "### 3. **The Six Thinking Hats**\n",
      "   - **Overview**: Created by Edward de Bono, this framework encourages looking at a decision from multiple perspectives to ensure a well-rounded analysis.\n",
      "   - **Steps**:\n",
      "     - Use six metaphorical \"hats\" to explore different aspects of a decision:\n",
      "       1. **White Hat**: Focus on facts and data.\n",
      "       2. **Red Hat**: Consider emotions and intuition.\n",
      "       3. **Black Hat**: Identify risks and potential problems.\n",
      "       4. **Yellow Hat**: Highlight benefits and opportunities.\n",
      "       5. **Green Hat**: Encourage creativity and new ideas.\n",
      "       6. **Blue Hat**: Manage the decision-making process and maintain focus.\n",
      "   - **Use Case**: Useful for group decision-making and creative problem-solving.\n",
      "\n",
      "---\n",
      "\n",
      "### 4. **The DECIDE Model**\n",
      "   - **Overview**: A structured approach to decision-making that emphasizes clarity and evaluation.\n",
      "   - **Steps**:\n",
      "     1. **Define** the problem or decision to be made.\n",
      "     2. **Establish** criteria for a successful outcome.\n",
      "     3. **Consider** all possible options.\n",
      "     4. **Identify** the best option based on the criteria.\n",
      "     5. **Develop** and implement an action plan.\n",
      "     6. **Evaluate** the results and adjust if necessary.\n",
      "   - **Use Case**: Effective for systematic and thorough decision-making in both personal and professional contexts.\n",
      "\n",
      "---\n",
      "\n",
      "### 5. **The Pros and Cons List**\n",
      "   - **Overview**: A simple yet powerful tool for weighing the advantages and disadvantages of a decision.\n",
      "   - **Steps**:\n",
      "     - Create two columns: one for pros (benefits) and one for cons (drawbacks).\n",
      "     - List all relevant factors under each column.\n",
      "     - Evaluate the weight or importance of each factor to make an informed choice.\n",
      "   - **Use Case**: Best for straightforward decisions or when comparing two or more options.\n",
      "\n",
      "---\n",
      "\n",
      "Each of these frameworks can be adapted to suit different types of decisions, from strategic planning to everyday problem-solving. The key is to choose the one that aligns best with the complexity and context of the decision at hand.\r\n"
     ]
    }
   ],
   "source": [
    "// Simple prompt to list some decision frameworks this GenAI LLM is familiar with \n",
    "// LLMs are trained on a diverse range of data and can provide insights on a wide range of topics like decision frameworks\n",
    "// SLMS (smaller LLMs) are trained on a more specific range of data and may not provide insights on all topics\n",
    "var simpleDecisionPrompt = \"\"\"\n",
    "Provide a list of 5 decision frameworks that can help improve the quality of decisions.\n",
    "\"\"\";\n",
    "\n",
    "// Create a new OpenAI prompt execution settings object\n",
    "var openAIPromptExecutionSettings = new OpenAIPromptExecutionSettings { \n",
    "    MaxTokens = 1000, \n",
    "    Temperature = 0.1, \n",
    "    TopP = 1.0, \n",
    "    FrequencyPenalty = 0.0, \n",
    "    PresencePenalty = 0.0\n",
    "    };\n",
    "\n",
    "var chatResult = await chatCompletionService.GetChatMessageContentAsync(simpleDecisionPrompt, openAIPromptExecutionSettings);\n",
    "\n",
    "Console.WriteLine(chatResult.Content);"
   ]
  },
  {
   "cell_type": "markdown",
   "metadata": {},
   "source": [
    "### Step 3 - Execute Decision Chat Completion with Streaming "
   ]
  },
  {
   "cell_type": "markdown",
   "metadata": {},
   "source": [
    "Semantic Kernel supports prompt response streaming in the ChatCompletionService. This allows responses to be streamed to the client as soon as they are made available by the LLM and API services. Below the same decision prompt is executed. However, notice that chunks are streamed and can be read by the user as soon as they appear. "
   ]
  },
  {
   "cell_type": "code",
   "execution_count": 4,
   "metadata": {
    "dotnet_interactive": {
     "language": "csharp"
    },
    "polyglot_notebook": {
     "kernelName": "csharp"
    },
    "vscode": {
     "languageId": "polyglot-notebook"
    }
   },
   "outputs": [
    {
     "name": "stdout",
     "output_type": "stream",
     "text": [
      "Certainly! Here are five decision-making frameworks that can help improve the quality of decisions:\n",
      "\n",
      "---\n",
      "\n",
      "### 1. **Cost-Benefit Analysis (CBA)**\n",
      "   - **Description**: This framework involves listing all potential costs and benefits of a decision and comparing their net impact. It helps assess whether the benefits outweigh the costs.\n",
      "   - **When to Use**: Ideal for financial and resource allocation decisions or when weighing economic trade-offs.\n",
      "   - **Steps**:\n",
      "     1. Identify all costs and benefits.\n",
      "     2. Assign a monetary or qualitative value to each.\n",
      "     3. Compare the total cost to the total benefit.\n",
      "   - **Strength**: Provides a clear, quantitative basis for decision-making.\n",
      "\n",
      "---\n",
      "\n",
      "### 2. **Decision Matrix (or Weighted Scoring Model)**\n",
      "   - **Description**: A structured approach to compare multiple options against a set of weighted criteria.\n",
      "   - **When to Use**: Useful when multiple options need to be evaluated against priorities or key performance indicators (KPIs).\n",
      "   - **Steps**:\n",
      "     1. Define evaluation criteria and assign weights based on importance.\n",
      "     2. Score each option against each criterion.\n",
      "     3. Calculate the weighted score for each option and compare the results.\n",
      "   - **Strength**: Helps make objective, transparent choices based on set priorities.\n",
      "\n",
      "---\n",
      "\n",
      "### 3. **SWOT Analysis (Strengths, Weaknesses, Opportunities, Threats)**\n",
      "   - **Description**: A strategic decision-making tool that evaluates internal and external factors related to a decision.\n",
      "   - **When to Use**: Effective for strategic planning or problem-solving when exploring options in a broader context.\n",
      "   - **Steps**:\n",
      "     1. Identify internal strengths and weaknesses.\n",
      "     2. Identify external opportunities and threats.\n",
      "     3. Analyze how to leverage strengths and opportunities while mitigating weaknesses and threats.\n",
      "   - **Strength**: Encourages a comprehensive evaluation of factors influencing the decision.\n",
      "\n",
      "---\n",
      "\n",
      "### 4. **OODA Loop (Observe, Orient, Decide, Act)**\n",
      "   - **Description**: A dynamic framework that emphasizes iterative, fast-paced decision-making in rapidly changing environments.\n",
      "   - **When to Use**: Best for tactical or operational decisions in real-time or high-stakes scenarios.\n",
      "   - **Steps**:\n",
      "     1. Observe: Gather data and insights.\n",
      "     2. Orient: Analyze context and update mental models.\n",
      "     3. Decide: Choose the best course of action.\n",
      "     4. Act: Implement the decision and loop back to observe the results.\n",
      "   - **Strength**: Enhances agility and adaptability in volatile, uncertain conditions.\n",
      "\n",
      "---\n",
      "\n",
      "### 5. **The Eisenhower Matrix (Urgent-Important Matrix)**\n",
      "   - **Description**: A prioritization framework that focuses on categorizing tasks or decisions based on their urgency and importance.\n",
      "   - **When to Use**: Useful for time management and prioritizing daily or strategic actions.\n",
      "   - **Steps**:\n",
      "     1. Categorize tasks into four quadrants:\n",
      "        - **Important & Urgent**: Do immediately.\n",
      "        - **Important & Not Urgent**: Schedule for later.\n",
      "        - **Not Important & Urgent**: Delegate or address minimally.\n",
      "        - **Not Important & Not Urgent**: Eliminate.\n",
      "     2. Address tasks/actions based on quadrant priorities.\n",
      "   - **Strength**: Improves focus by clarifying what truly matters.\n",
      "\n",
      "---\n",
      "\n",
      "These frameworks can help structure decision-making and reduce biases or uncertainty, ultimately leading to better, more informed decisions!"
     ]
    }
   ],
   "source": [
    "// Stream the chat completion response\n",
    "await foreach (var content in chatCompletionService.GetStreamingChatMessageContentsAsync(simpleDecisionPrompt))\n",
    "{\n",
    "    Console.Write(content);\n",
    "}"
   ]
  },
  {
   "cell_type": "markdown",
   "metadata": {},
   "source": [
    "### Step 4 - Execute Decision Chat Completion with a System Prompt & Chat History "
   ]
  },
  {
   "cell_type": "markdown",
   "metadata": {},
   "source": [
    "Semantic Kernel has a ChatHistory object that can be used with the ChatCompletionService to provide historical chat context to the LLM. Notice that the ChatHistory object differentiates between the different types of chat messages:\n",
    "* System Message - System or MetaPrompt. These are usually global instructions that set the \"overall rules\" for interacting with the LLMs.\n",
    "* User Message - A message from the user\n",
    "* Assistant Message - A message from the LLM. This is a message generated from an assistant or an agent. \n",
    "\n",
    "Identifying the messages from which role (user) it came from can help the LLM improve its own reasoning responses. This is a more sophisticated approach than passing chat history in a long dynamic string. ChatHistory objects can be serialized and persisted into databases as well."
   ]
  },
  {
   "cell_type": "code",
   "execution_count": 5,
   "metadata": {
    "dotnet_interactive": {
     "language": "csharp"
    },
    "polyglot_notebook": {
     "kernelName": "csharp"
    },
    "vscode": {
     "languageId": "polyglot-notebook"
    }
   },
   "outputs": [
    {
     "name": "stdout",
     "output_type": "stream",
     "text": [
      "Here are five structured decision frameworks that can significantly enhance the quality of decision-making:\n",
      "\n",
      "---\n",
      "\n",
      "### **1. The OODA Loop (Observe, Orient, Decide, Act)**\n",
      "The OODA Loop, developed by military strategist John Boyd, emphasizes adaptability and iterative decision-making, particularly in dynamic and fast-changing environments.\n",
      "\n",
      "#### **Steps in the Framework:**\n",
      "1. **Observe**: Gather data and recognize the current situation. This includes external factors (e.g., competitors, stakeholders) and internal factors (e.g., resources, constraints).\n",
      "2. **Orient**: Analyze the data to understand it within context. Apply mental models, biases, and insights to ensure an accurate interpretation.\n",
      "3. **Decide**: Choose the best course of action based on the observed data and situational analysis.\n",
      "4. **Act**: Implement the decision and monitor its effects in real time for feedback.\n",
      "\n",
      "#### **Application**:\n",
      "- When faced with uncertainty (e.g., market shifts, crises).\n",
      "- For rapid prototyping and iterative problem-solving.\n",
      "  \n",
      "---\n",
      "\n",
      "### **2. The Eisenhower Matrix (Urgency-Importance Prioritization)**\n",
      "This time management and decision-making tool helps focus on tasks and choices that align with long-term goals.\n",
      "\n",
      "#### **Steps in the Framework:**\n",
      "1. Divide tasks or decisions into four quadrants based on **urgency** and **importance**:\n",
      "   - **Quadrant I**: Urgent and important (Do immediately).\n",
      "   - **Quadrant II**: Not urgent but important (Plan for later).\n",
      "   - **Quadrant III**: Urgent but not important (Delegate or minimize).\n",
      "   - **Quadrant IV**: Neither urgent nor important (Eliminate).\n",
      "\n",
      "#### **Application**:\n",
      "- Ideal for choosing and prioritizing tasks to improve productivity.\n",
      "- Helps avoid spending excessive time on low-value activities.\n",
      "\n",
      "---\n",
      "\n",
      "### **3. Cost-Benefit Analysis (CBA)**\n",
      "CBA evaluates the trade-offs of a decision by weighing its costs and benefits, both quantitatively and qualitatively.\n",
      "\n",
      "#### **Steps in the Framework:**\n",
      "1. List all potential options.\n",
      "2. Identify the costs and benefits associated with each option (short-term and long-term).\n",
      "3. Assign monetary or qualitative value to each cost and benefit.\n",
      "4. Compare the net benefits for each option (Benefits - Costs).\n",
      "5. Make a decision based on the best cost-to-benefit ratio.\n",
      "\n",
      "#### **Application**:\n",
      "- For evaluating investments, business initiatives, or personal financial decisions.\n",
      "- Suitable when data are accessible and quantifiable.\n",
      "\n",
      "---\n",
      "\n",
      "### **4. The Decision Tree**\n",
      "A visual framework that maps out possible choices and their consequences. It uses branches to represent decisions, uncertainties, and outcomes to help clarify the path forward.\n",
      "\n",
      "#### **Steps in the Framework**:\n",
      "1. Define the decision to be made.\n",
      "2. Identify all possible alternatives and their potential outcomes.\n",
      "3. Assign probabilities to uncertainties.\n",
      "4. Assign values (e.g., revenue, satisfaction) to outcomes.\n",
      "5. Analyze the expected utility of each branch to determine the best path.\n",
      "\n",
      "#### **Application**:\n",
      "- Great for tackling complex problems with multiple alternatives.\n",
      "- Widely used in project planning, strategic decisions, and risk analysis.\n",
      "\n",
      "---\n",
      "\n",
      "### **5. Six Thinking Hats by Edward de Bono**\n",
      "This framework encourages thinking from multiple perspectives to avoid groupthink and one-dimensional decision-making.\n",
      "\n",
      "#### **Steps in the Framework**:\n",
      "1. **White Hat (Facts)**: Focus on objective data, available information, or gaps in knowledge.\n",
      "2. **Red Hat (Emotions)**: Identify instinctive reactions, concerns, or feelings.\n",
      "3. **Black Hat (Caution)**: Consider risks, obstacles, and potential downsides.\n",
      "4. **Yellow Hat (Optimism)**: Emphasize the positive outcomes and opportunities.\n",
      "5. **Green Hat (Creativity)**: Explore innovative or unconventional options and ideas.\n",
      "6. **Blue Hat (Process)**: Reflect on the decision-making approach and ensure structure.\n",
      "\n",
      "#### **Application**:\n",
      "- Ideal for brainstorming sessions, collaborative decision-making, and resolving strategic challenges.\n",
      "- Helps teams explore ideas comprehensively.\n",
      "\n",
      "---\n",
      "\n",
      "### **Key Takeaways**:\n",
      "Each framework is appropriate for particular decision contexts. You can use one or combine multiple frameworks to account for complexity, uncertainty, and trade-offs. Here’s when you might choose a specific one:\n",
      "- **OODA Loop**: In fast-changing or high-stakes situations.\n",
      "- **Eisenhower Matrix**: When prioritization and focus are critical.\n",
      "- **Cost-Benefit Analysis**: For decisions involving quantitative metrics.\n",
      "- **Decision Tree**: For evaluating branching paths with uncertainties.\n",
      "- **Six Thinking Hats**: For group decisions involving creativity and diverse perspectives.\n",
      "\n",
      "Would you like a detailed example of applying one of these? If so, please provide a scenario!"
     ]
    }
   ],
   "source": [
    "// Set the overall system prompt to behave like a decision intelligence assistant (persona)\n",
    "var systemPrompt = \"\"\"\n",
    "You are a Decision Intelligence assistant. \n",
    "Assist the user in exploring options, reasoning through decisions, problem-solving, and applying systems thinking to various scenarios. \n",
    "Provide structured, logical, and comprehensive advice.\n",
    "\"\"\";\n",
    "\n",
    "// Simple instruction prompt to list 5 (five) decision frameworks this GenAI LLM is familiar with\n",
    "var simpleDecisionPrompt = \"\"\"\n",
    "Provide five Decision Frameworks that can help improve the quality of decisions.\n",
    "\"\"\";\n",
    "\n",
    "// Create a new chat history object with proper system and user message roles\n",
    "var chatHistory = new ChatHistory();\n",
    "chatHistory.AddSystemMessage(systemPrompt);\n",
    "chatHistory.AddUserMessage(simpleDecisionPrompt);\n",
    "\n",
    "var chatResponse = string.Empty;\n",
    "await foreach (var content in chatCompletionService.GetStreamingChatMessageContentsAsync(chatHistory))\n",
    "{\n",
    "    chatResponse += content;\n",
    "    Console.Write(content);\n",
    "}\n",
    "\n",
    "// Add the assistant's response to the chat history\n",
    "chatHistory.AddAssistantMessage(chatResponse);"
   ]
  },
  {
   "cell_type": "markdown",
   "metadata": {},
   "source": [
    "In the next step, an additional prompt instruction will be added to the chat history. From the 5 decision frameworks provided in the chat history, Generative AI is asked to recommed a framework best suited for the militaty intelligence community. Notice that the previous chat history is automatically provided to provide additional intelligence context. \n",
    "\n",
    "> \"Take time to deliberate, but when the time for action comes, stop thinking and go in.\"\n",
    ">\n",
    "> -- <cite>Napoleon Bornaparte (French Emporer and brilliant military mind)</cite>  "
   ]
  },
  {
   "cell_type": "code",
   "execution_count": 6,
   "metadata": {
    "dotnet_interactive": {
     "language": "csharp"
    },
    "polyglot_notebook": {
     "kernelName": "csharp"
    },
    "vscode": {
     "languageId": "polyglot-notebook"
    }
   },
   "outputs": [
    {
     "name": "stdout",
     "output_type": "stream",
     "text": [
      "For the **military intelligence community**, the **OODA Loop (Observe, Orient, Decide, Act)** is the **best-suited decision framework** because it is specifically designed for dynamic, high-stakes, and fast-changing environments, which are characteristic of military operations and intelligence activities.\n",
      "\n",
      "---\n",
      "\n",
      "### **Why OODA Loop is Best for Military Intelligence:**\n",
      "\n",
      "1. **Dynamic Situations**: \n",
      "   - Military intelligence often operates in environments where information is incomplete, adversaries are adapting, and decisions must be made in real time. The iterative nature of the OODA Loop allows for continual reassessment as new intelligence becomes available.\n",
      "\n",
      "2. **Focus on Agility**:\n",
      "   - Intelligence is actionable only if delivered in time. The OODA Loop emphasizes quick observation and decision-making to outmaneuver adversaries or respond effectively to threats.\n",
      "\n",
      "3. **Integration of Analysis and Execution**:\n",
      "   - This framework links situational awareness (**Observe and Orient**) with immediate action (**Decide and Act**). Intelligence professionals can transition seamlessly from analyzing raw data to advising on operational actions.\n",
      "\n",
      "4. **Countering Uncertainty and Deception**:\n",
      "   - Adversaries often deploy deceptive tactics, disinformation, or rapidly changing strategies. The OODA Loop's continuous feedback loop helps account for and adapt to these changes.\n",
      "\n",
      "5. **Proven in Military Strategy**:\n",
      "   - The OODA Loop was developed by Col. John Boyd, a military strategist, specifically to provide decision-making superiority in conflict scenarios. It is already embedded in military doctrine and intelligence workflows.\n",
      "\n",
      "---\n",
      "\n",
      "### **Examples of OODA Loop in Military Intelligence:**\n",
      "\n",
      "- **Tactical Targeting**: Using satellite imagery and real-time human intelligence, analysts quickly identify positions, assess enemy intent, and recommend action.\n",
      "   - **Observe**: Enemy movements spotted via drones.\n",
      "   - **Orient**: Analyze patterns and integrate with historical intelligence.\n",
      "   - **Decide**: Determine the most effective target or response.\n",
      "   - **Act**: Issue strike orders or send ground units, then reassess results.\n",
      "\n",
      "- **Cybersecurity in Defense**: Identifying and countering cyberattacks or intrusions.\n",
      "   - **Observe**: Monitor network anomalies.\n",
      "   - **Orient**: Compare against known threats or adversary behaviors.\n",
      "   - **Decide**: Choose the most effective containment strategy.\n",
      "   - **Act**: Execute countermeasures while continuing to reevaluate.\n",
      "\n",
      "---\n",
      "\n",
      "### **Limitations of Other Frameworks for Military Intelligence:**\n",
      "1. **Eisenhower Matrix**: Too slow for real-time decisions and not designed for adversarial environments.\n",
      "2. **Cost-Benefit Analysis**: Useful for resource allocation but inadequate in situations requiring immediate action or high uncertainty.\n",
      "3. **Decision Tree**: Too linear for the chaotic nature of military intelligence; doesn't support iterative decision-making or real-time feedback.\n",
      "4. **Six Thinking Hats**: Effective for brainstorming and collaboration but less practical in high-stakes, time-sensitive scenarios.\n",
      "\n",
      "---\n",
      "\n",
      "### **Conclusion**:\n",
      "The OODA Loop’s iterative, fast-paced, and agility-focused design makes it the most effective decision framework for the military intelligence community. It aligns seamlessly with the demands of intelligence gathering, analysis, and operational execution in uncertain, high-pressure contexts."
     ]
    }
   ],
   "source": [
    "// Note: No reference is made to what previous frameworks were listed.\n",
    "// Note: Previous context is maintained by the Semantic Kernel ChatHistory object \n",
    "var simpleDecisionPromptFollowupQuestionPartTwo = \"\"\"\n",
    "Which of the 5 decision frameworks listed above is best suited for the military intelligence community? \n",
    "Select only the single best framework. \n",
    "\"\"\";\n",
    "\n",
    "// Add User message to the chat history\n",
    "chatHistory.AddUserMessage(simpleDecisionPromptFollowupQuestionPartTwo);\n",
    "\n",
    "var chatResponse = string.Empty;\n",
    "await foreach (var content in chatCompletionService.GetStreamingChatMessageContentsAsync(chatHistory))\n",
    "{\n",
    "    chatResponse += content;\n",
    "    Console.Write(content);\n",
    "}\n",
    "\n",
    "// Add Assistant message to the chat history\n",
    "chatHistory.AddAssistantMessage(chatResponse);"
   ]
  },
  {
   "cell_type": "markdown",
   "metadata": {},
   "source": [
    "### Step 5 - Execute Decision Chat Completion with a Multi-Turn Conversation Scenario "
   ]
  },
  {
   "cell_type": "markdown",
   "metadata": {},
   "source": [
    "> \"Price is what you pay. Value is what you get.\"  \n",
    ">\n",
    "> -- <cite>Warren Buffet (one of the most successful investors of all time)</cite>  "
   ]
  },
  {
   "cell_type": "markdown",
   "metadata": {},
   "source": [
    "With Semantic Kernel maintaining state with the ChatHistory object, the natural converation between user and AI can be persisted for future use. It can be saved for future reference, it can be replayed, it can be forked in certain spots to try different scenarios, it can be used as a starting point for other conversations etc. \n",
    "\n",
    "In the scenario below, let's build a multi-turn conversation about a decision over a purchase for a fitness tracker. Notice that each turn the appropriate Chat History roles are populated with the appropriate prompts and assistant (AI) responses. This in effect acts as the Gathering Intelligence step of the Decision Intelligence framework as the conversation information has been persisted and can be re-used as context for the decision scenario."
   ]
  },
  {
   "cell_type": "code",
   "execution_count": 7,
   "metadata": {
    "dotnet_interactive": {
     "language": "csharp"
    },
    "polyglot_notebook": {
     "kernelName": "csharp"
    },
    "vscode": {
     "languageId": "polyglot-notebook"
    }
   },
   "outputs": [],
   "source": [
    "// Set the overall system prompt to behave like a decision intelligence assistant (persona)\n",
    "var systemPromptDecisionConversation = \"\"\"\n",
    "You are a Decision Intelligence assistant. \n",
    "Assist the user in exploring options, reasoning through decisions, problem-solving, and applying systems thinking to various scenarios. \n",
    "Provide structured, logical, and comprehensive advice.\n",
    "\"\"\";\n",
    "\n",
    "// User prompt to start a decision conversation about buying a fitness tracker\n",
    "var userPromptDecisionConversationTurn1 = \"\"\"\n",
    "I am considering buying a fitness tracker but I am not sure which features really matter. \n",
    "Could you explain the main considerations? \n",
    "\"\"\";\n",
    "\n",
    "var assistantResponseDecisionConversationTurn1 = \"\"\"\n",
    "Absolutely! Key considerations for choosing a fitness tracker often include: \n",
    "- Fitness Features (e.g., step counting, heart-rate monitoring, workout tracking)\n",
    "- Health Monitoring (like sleep tracking or advanced ECG capabilities)\n",
    "- Battery Life\n",
    "- Comfort and Fit\n",
    "- Compatibility with your smartphone's operating system\n",
    "- Price Range\n",
    "- Knowing which of these you value most will help narrow down your options.\n",
    "\"\"\";\n",
    "\n",
    "var userPromptDecisionConversationTurn2 = \"\"\"\n",
    "Got it. Battery life and sleep tracking are both important to me. \n",
    "What's a typical battery life range for trackers, and how good is their sleep tracking?\n",
    "\"\"\";\n",
    "\n",
    "var assistantResponseDecisionConversationTurn2 = \"\"\"\n",
    "Different fitness trackers have varying battery lives, typically anywhere from 2-3 days (for more feature-rich or bright-display devices) \n",
    "up to about 10-14 days (for more minimalist trackers). \n",
    "\n",
    "Regarding sleep tracking:\n",
    "- Many modern devices can track different sleep stages (light, deep, REM).\n",
    "- High-end devices even track breathing rate and oxygen saturation during the night.\n",
    "- Some also offer insights about sleep quality and tips for improvement.\n",
    "\n",
    "If battery life is a priority, you may want to consider trackers with a more conservative display and fewer power-hungry features.\n",
    "\"\"\";\n",
    "\n",
    "var userPromptDecisionConversationTurn3 = \"\"\"\n",
    "Are there any popular models you would recommend for that balance of battery life and sleep tracking?\n",
    "\"\"\";\n",
    "\n",
    "var assistantResponseDecisionConversationTurn3 = \"\"\"\n",
    "Popular options that strike a balance between robust sleep tracking and good battery life include:\n",
    "- Fitbit Inspire 3 or Fitbit Charge 5: Both have solid sleep tracking, multi-day battery, and strong app support.\n",
    "- Garmin Vivosmart 5: Offers decent fitness and sleep insights, plus better-than-average battery life.\n",
    "- Xiaomi Mi Band 7: Budget-friendly, surprisingly robust health metrics, and a long-lasting battery.\n",
    "\n",
    "Each varies in price and features, so consider your budget and the specific metrics you’d like to track.\n",
    "\"\"\";\n",
    "\n",
    "var userPromptDecisionConversationTurn4 = \"\"\"\n",
    "That is great infor. \n",
    "I also have a friend who said I should consider an Apple Watch. \n",
    "Does that have comparable battery life and sleep tracking?\n",
    "\"\"\";\n",
    "\n",
    "var assistantResponseDecisionConversationTurn4 = \"\"\"\n",
    "The Apple Watch is known for its extensive feature set, including advanced health monitoring, \n",
    "but its battery life tends to be shorter—usually around 18-24 hours on a single charge \n",
    "(or possibly a bit more in low-power mode). While its sleep tracking features have improved over time, \n",
    "you might find you need to charge it daily or almost daily, which could conflict with your goal of 24/7 tracking. \n",
    "\"\"\";\n",
    "\n",
    "// Create a new chat history with a multi-turn conversation about buying a fitness tracker\n",
    "var chatHistoryDecisionConversation = new ChatHistory();\n",
    "chatHistoryDecisionConversation.AddSystemMessage(systemPromptDecisionConversation);\n",
    "chatHistoryDecisionConversation.AddUserMessage(userPromptDecisionConversationTurn1);\n",
    "chatHistoryDecisionConversation.AddAssistantMessage(assistantResponseDecisionConversationTurn1);\n",
    "chatHistoryDecisionConversation.AddUserMessage(userPromptDecisionConversationTurn2);\n",
    "chatHistoryDecisionConversation.AddAssistantMessage(assistantResponseDecisionConversationTurn2);\n",
    "chatHistoryDecisionConversation.AddUserMessage(userPromptDecisionConversationTurn3);\n",
    "chatHistoryDecisionConversation.AddAssistantMessage(assistantResponseDecisionConversationTurn3);\n",
    "chatHistoryDecisionConversation.AddUserMessage(userPromptDecisionConversationTurn4);\n",
    "chatHistoryDecisionConversation.AddAssistantMessage(assistantResponseDecisionConversationTurn4);\n"
   ]
  },
  {
   "cell_type": "markdown",
   "metadata": {},
   "source": [
    "Using the above conversation as the \"Gathered Intelligence\" betweeen the user and the AI assistant, let's make a final decision and ask for final feedback and a decision evaluation. "
   ]
  },
  {
   "cell_type": "code",
   "execution_count": 9,
   "metadata": {
    "dotnet_interactive": {
     "language": "csharp"
    },
    "polyglot_notebook": {
     "kernelName": "csharp"
    },
    "vscode": {
     "languageId": "polyglot-notebook"
    }
   },
   "outputs": [
    {
     "name": "stdout",
     "output_type": "stream",
     "text": [
      "Great choice! The **Fitbit Inspire 3** is an excellent entry-level fitness tracker that balances affordability, functionality, and battery life (up to 10 days). Since sleep tracking and battery life are priorities for you, it aligns well with your needs. Here are a few final thoughts:\n",
      "\n",
      "### Strengths of the Fitbit Inspire 3:\n",
      "1. **Sleep Tracking**: Tracks sleep stages (light, deep, and REM) and offers a Sleep Score for quick feedback.\n",
      "2. **Battery Life**: Long battery life means fewer interruptions for charging, ideal for tracking sleep consistently.\n",
      "3. **Lightweight & Comfortable**: A slim, lightweight design makes it wearable 24/7.\n",
      "4. **App Ecosystem**: The Fitbit app is user-friendly and offers detailed insights, including trends and suggestions for improving sleep and activity.\n",
      "\n",
      "### Tips to Get the Most Out of It:\n",
      "- Enable **“Smart Wake”** for your alarms, which uses your sleep data to wake you at an optimal point in your cycle.\n",
      "- Periodically sync it with your phone to access more detailed metrics in the app, like sleep trends over time.\n",
      "- If you find the silicone wristband uncomfortable at night, consider third-party breathable fabric or velcro bands.\n",
      "\n",
      "### Alternatives if You Change Your Mind:\n",
      "If you'd ever like advanced data or premium features in the future, you can consider upgrading to the **Fitbit Charge 5**, which offers built-in GPS and more advanced health features (though at higher cost and slightly shorter battery life).\n",
      "\n",
      "In summary, you're making a solid and thoughtful decision that matches your core priorities. Enjoy your journey to better health and sleep!"
     ]
    }
   ],
   "source": [
    "var userPromptDecisionConversationFinalDecision = \"\"\"\n",
    "Thank you for all of that information, I think I'll go with a Fitbit. \n",
    "The Fitbit Inspire 3 seems like a good fit for my budget and needs. \n",
    "\n",
    "Any quick final thoughts on my decision? \n",
    "\"\"\";\n",
    "\n",
    "// Add User message to the chat history\n",
    "chatHistoryDecisionConversation.AddUserMessage(userPromptDecisionConversationFinalDecision);\n",
    "\n",
    "var chatResponse = string.Empty;\n",
    "await foreach (var content in chatCompletionService.GetStreamingChatMessageContentsAsync(chatHistoryDecisionConversation))\n",
    "{\n",
    "    chatResponse += content;\n",
    "    Console.Write(content);\n",
    "}"
   ]
  },
  {
   "cell_type": "markdown",
   "metadata": {},
   "source": [
    "### Step 6 - Inspect Gathered Intelligence of Chat History "
   ]
  },
  {
   "cell_type": "markdown",
   "metadata": {},
   "source": [
    "The Semantic Kernel Chat History is a transparent construct that can be inspected and written out. In fact, the ChatHistory object can be manipulated to replay chats from middle interactions to simulate different outcomes.\n",
    "\n",
    "Execute the cell below to write out the Semantic Kernel Chat History of this chat."
   ]
  },
  {
   "cell_type": "code",
   "execution_count": 10,
   "metadata": {
    "dotnet_interactive": {
     "language": "csharp"
    },
    "polyglot_notebook": {
     "kernelName": "csharp"
    },
    "vscode": {
     "languageId": "polyglot-notebook"
    }
   },
   "outputs": [
    {
     "name": "stdout",
     "output_type": "stream",
     "text": [
      "Number of chat interactions: 11\n",
      "\n",
      "# SYSTEM: You are a Decision Intelligence assistant. \n",
      "Assist the user in exploring options, reasoning through decisions, problem-solving, and applying systems thinking to various scenarios. \n",
      "Provide structured, logical, and comprehensive advice.\n",
      "\n",
      "# USER: I am considering buying a fitness tracker but I am not sure which features really matter. \n",
      "Could you explain the main considerations? \n",
      "\n",
      "# ASSISTANT: Absolutely! Key considerations for choosing a fitness tracker often include: \n",
      "- Fitness Features (e.g., step counting, heart-rate monitoring, workout tracking)\n",
      "- Health Monitoring (like sleep tracking or advanced ECG capabilities)\n",
      "- Battery Life\n",
      "- Comfort and Fit\n",
      "- Compatibility with your smartphone's operating system\n",
      "- Price Range\n",
      "- Knowing which of these you value most will help narrow down your options.\n",
      "\n",
      "# USER: Got it. Battery life and sleep tracking are both important to me. \n",
      "What's a typical battery life range for trackers, and how good is their sleep tracking?\n",
      "\n",
      "# ASSISTANT: Different fitness trackers have varying battery lives, typically anywhere from 2-3 days (for more feature-rich or bright-display devices) \n",
      "up to about 10-14 days (for more minimalist trackers). \n",
      "\n",
      "Regarding sleep tracking:\n",
      "- Many modern devices can track different sleep stages (light, deep, REM).\n",
      "- High-end devices even track breathing rate and oxygen saturation during the night.\n",
      "- Some also offer insights about sleep quality and tips for improvement.\n",
      "\n",
      "If battery life is a priority, you may want to consider trackers with a more conservative display and fewer power-hungry features.\n",
      "\n",
      "# USER: Are there any popular models you would recommend for that balance of battery life and sleep tracking?\n",
      "\n",
      "# ASSISTANT: Popular options that strike a balance between robust sleep tracking and good battery life include:\n",
      "- Fitbit Inspire 3 or Fitbit Charge 5: Both have solid sleep tracking, multi-day battery, and strong app support.\n",
      "- Garmin Vivosmart 5: Offers decent fitness and sleep insights, plus better-than-average battery life.\n",
      "- Xiaomi Mi Band 7: Budget-friendly, surprisingly robust health metrics, and a long-lasting battery.\n",
      "\n",
      "Each varies in price and features, so consider your budget and the specific metrics you’d like to track.\n",
      "\n",
      "# USER: That is great infor. \n",
      "I also have a friend who said I should consider an Apple Watch. \n",
      "Does that have comparable battery life and sleep tracking?\n",
      "\n",
      "# ASSISTANT: The Apple Watch is known for its extensive feature set, including advanced health monitoring, \n",
      "but its battery life tends to be shorter—usually around 18-24 hours on a single charge \n",
      "(or possibly a bit more in low-power mode). While its sleep tracking features have improved over time, \n",
      "you might find you need to charge it daily or almost daily, which could conflict with your goal of 24/7 tracking. \n",
      "\n",
      "# USER: Thank you for all of that information, I think I'll go with a Fitbit. \n",
      "The Fitbit Inspire 3 seems like a good fit for my budget and needs. \n",
      "Any quick final thoughts on my decision? \n",
      "\n",
      "# USER: Thank you for all of that information, I think I'll go with a Fitbit. \n",
      "The Fitbit Inspire 3 seems like a good fit for my budget and needs. \n",
      "\n",
      "Any quick final thoughts on my decision? \n"
     ]
    }
   ],
   "source": [
    "// Print the number of chat interactions and the chat history (turns)\n",
    "Console.WriteLine(\"Number of chat interactions: \" + chatHistoryDecisionConversation.Count());\n",
    "\n",
    "foreach (var message in chatHistoryDecisionConversation)\n",
    "{\n",
    "    Console.WriteLine(string.Empty);\n",
    "    Console.WriteLine($\"# {message.Role.ToString().ToUpper()}: {message.Content}\");\n",
    "}"
   ]
  },
  {
   "cell_type": "markdown",
   "metadata": {},
   "source": [
    "Having the Chat History object available for inspection, this can be used to further help the decision-making process. For example you can load the Chat History and summarize it. "
   ]
  },
  {
   "cell_type": "code",
   "execution_count": 11,
   "metadata": {
    "dotnet_interactive": {
     "language": "csharp"
    },
    "polyglot_notebook": {
     "kernelName": "csharp"
    },
    "vscode": {
     "languageId": "polyglot-notebook"
    }
   },
   "outputs": [
    {
     "name": "stdout",
     "output_type": "stream",
     "text": [
      "The chat conversation focused on selecting a fitness tracker. Key considerations included budget, desired features (like heart rate monitoring, GPS, sleep tracking), compatibility with devices, and battery life. The user sought recommendations, and factors like brand reliability and design were also discussed to help them make an informed decision."
     ]
    }
   ],
   "source": [
    "var userPromptSummarizeTheDecisionChat = \"\"\"\n",
    "Briefly summarize the chat conversation about buying a fitness tracker.\n",
    "\"\"\";\n",
    "\n",
    "// Add User message to the chat history\n",
    "chatHistoryDecisionConversation.AddUserMessage(userPromptSummarizeTheDecisionChat);\n",
    "\n",
    "var chatResponse = string.Empty;\n",
    "await foreach (var content in chatCompletionService.GetStreamingChatMessageContentsAsync(userPromptSummarizeTheDecisionChat))\n",
    "{\n",
    "    chatResponse += content;\n",
    "    Console.Write(content);\n",
    "}"
   ]
  }
 ],
 "metadata": {
  "kernelspec": {
   "display_name": ".NET (C#)",
   "language": "C#",
   "name": ".net-csharp"
  },
  "language_info": {
   "name": "csharp"
  },
  "polyglot_notebook": {
   "kernelInfo": {
    "defaultKernelName": "csharp",
    "items": [
     {
      "aliases": [],
      "name": "csharp"
     }
    ]
   }
  }
 },
 "nbformat": 4,
 "nbformat_minor": 2
}
