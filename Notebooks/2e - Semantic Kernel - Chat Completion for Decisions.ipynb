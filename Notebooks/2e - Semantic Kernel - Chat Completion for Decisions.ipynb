{
 "cells": [
  {
   "cell_type": "markdown",
   "metadata": {},
   "source": [
    "<div style=\"display: flex; align-items: center;\">\n",
    "  <img src=\"https://raw.githubusercontent.com/bartczernicki/DecisionIntelligence.GenAI.Workshop/main/Images/DecisionIntelligenceSemanticKernelLogo.png\" width=\"60px\" style=\"margin-right: 10px;\">\n",
    "  <span style=\"font-size: 1.5em; font-weight: bold;\">Semantic Kernel - Chat Completion for Decisions</span>\n",
    "</div>"
   ]
  },
  {
   "cell_type": "markdown",
   "metadata": {},
   "source": [
    "Decision Intelligence applied in this module:  \n",
    "* Listing of various decision-making frameworks and with their descriptions by using Chat Completion  \n",
    "* Decision Scenario: Recommendation of a decision-making framework for specific higher-stakes decisions (purchase of a car)  \n",
    "* Illustrating a domain specific decision-making framework (millitary intelligence)  \n"
   ]
  },
  {
   "cell_type": "markdown",
   "metadata": {},
   "source": [
    "In this module, the Semantic Kernel ability to create a chat experience will be introduced. This is a much richer experience than just sending simple prompts that are stateless and context is forgotten.\n",
    "\n",
    "Semantic Kernel has first-class support for chat scenarios, where the user talks back and forth with the LLM, the arguments get populated with the history of the conversation. During each new run of the kernel, the arguments will be provided to the AI with content. This allows the LLM to know the historical context of the conversation."
   ]
  },
  {
   "cell_type": "markdown",
   "metadata": {},
   "source": [
    "### Step 1 - Initialize Configuration Builder & Build the Semantic Kernel Orchestration"
   ]
  },
  {
   "cell_type": "markdown",
   "metadata": {},
   "source": [
    "Execute the next two cells to:\n",
    "* Use the Configuration Builder to load the API secrets.  \n",
    "* Use the API configuration to build the Semantic Kernel orchestrator."
   ]
  },
  {
   "cell_type": "code",
   "execution_count": 1,
   "metadata": {
    "dotnet_interactive": {
     "language": "csharp"
    },
    "polyglot_notebook": {
     "kernelName": "csharp"
    },
    "vscode": {
     "languageId": "polyglot-notebook"
    }
   },
   "outputs": [
    {
     "data": {
      "text/html": [
       "<div><div></div><div></div><div><strong>Installed Packages</strong><ul><li><span>Microsoft.Extensions.Configuration, 9.0.5</span></li><li><span>Microsoft.Extensions.Configuration.Json, 9.0.5</span></li></ul></div></div>"
      ]
     },
     "metadata": {},
     "output_type": "display_data"
    }
   ],
   "source": [
    "// Import the required NuGet configuration packages\n",
    "#r \"nuget: Microsoft.Extensions.Configuration, 9.0.5\"\n",
    "#r \"nuget: Microsoft.Extensions.Configuration.Json, 9.0.5\"\n",
    "\n",
    "using Microsoft.Extensions.Configuration.Json;\n",
    "using Microsoft.Extensions.Configuration;\n",
    "using System.IO;\n",
    "\n",
    "// Load the configuration settings from the local.settings.json and secrets.settings.json files\n",
    "// The secrets.settings.json file is used to store sensitive information such as API keys\n",
    "var configurationBuilder = new ConfigurationBuilder()\n",
    "    .SetBasePath(Directory.GetCurrentDirectory())\n",
    "    .AddJsonFile(\"local.settings.json\", optional: true, reloadOnChange: true)\n",
    "    .AddJsonFile(\"secrets.settings.json\", optional: true, reloadOnChange: true);\n",
    "var config = configurationBuilder.Build();\n",
    "\n",
    "// IMPORTANT: You ONLY NEED either Azure OpenAI or OpenAI connectiopn info, not both.\n",
    "// Azure OpenAI Connection Info\n",
    "var azureOpenAIEndpoint = config[\"AzureOpenAI:Endpoint\"];\n",
    "var azureOpenAIAPIKey = config[\"AzureOpenAI:APIKey\"];\n",
    "var azureOpenAIModelDeploymentName = config[\"AzureOpenAI:ModelDeploymentName\"];\n",
    "// OpenAI Connection Info \n",
    "var openAIAPIKey = config[\"OpenAI:APIKey\"];\n",
    "var openAIModelId = config[\"OpenAI:ModelId\"];"
   ]
  },
  {
   "cell_type": "code",
   "execution_count": 2,
   "metadata": {
    "dotnet_interactive": {
     "language": "csharp"
    },
    "polyglot_notebook": {
     "kernelName": "csharp"
    },
    "vscode": {
     "languageId": "polyglot-notebook"
    }
   },
   "outputs": [
    {
     "data": {
      "text/html": [
       "<div><div></div><div></div><div><strong>Installed Packages</strong><ul><li><span>Microsoft.Extensions.DependencyInjection, 9.0.5</span></li><li><span>Microsoft.SemanticKernel, 1.54.0</span></li></ul></div></div>"
      ]
     },
     "metadata": {},
     "output_type": "display_data"
    },
    {
     "name": "stdout",
     "output_type": "stream",
     "text": [
      "Using Azure OpenAI Service\r\n"
     ]
    }
   ],
   "source": [
    "// Install the required NuGet packages\n",
    "// Note: This also installs the Dependency Injection Package to retrieve the ChatCompletionService\n",
    "#r \"nuget: Microsoft.Extensions.DependencyInjection, 9.0.5\"\n",
    "#r \"nuget: Microsoft.SemanticKernel, 1.54\"\n",
    "\n",
    "using Microsoft.Extensions.DependencyInjection.Extensions;\n",
    "using Microsoft.Extensions.DependencyInjection;\n",
    "using Microsoft.SemanticKernel;\n",
    "using Microsoft.SemanticKernel.ChatCompletion;\n",
    "using Microsoft.SemanticKernel.Connectors.OpenAI;\n",
    "\n",
    "Kernel semanticKernel;\n",
    "\n",
    "// Set the flag to use Azure OpenAI or OpenAI. False to use OpenAI, True to use Azure OpenAI\n",
    "var useAzureOpenAI = true;\n",
    "\n",
    "// Create a new Semantic Kernel instance\n",
    "if (useAzureOpenAI)\n",
    "{\n",
    "    Console.WriteLine(\"Using Azure OpenAI Service\");\n",
    "    semanticKernel = Kernel.CreateBuilder()\n",
    "        .AddAzureOpenAIChatCompletion(\n",
    "            deploymentName: azureOpenAIModelDeploymentName,\n",
    "            endpoint: azureOpenAIEndpoint,\n",
    "            apiKey: azureOpenAIAPIKey)\n",
    "        .Build();\n",
    "}\n",
    "else\n",
    "{\n",
    "    Console.WriteLine(\"Using OpenAI Service\");\n",
    "    semanticKernel = Kernel.CreateBuilder()\n",
    "        .AddOpenAIChatCompletion(\n",
    "            modelId: openAIModelId,\n",
    "            apiKey: openAIAPIKey)\n",
    "        .Build();\n",
    "}\n",
    "\n",
    "var chatCompletionService = semanticKernel.Services.GetRequiredService<IChatCompletionService>();"
   ]
  },
  {
   "cell_type": "markdown",
   "metadata": {},
   "source": [
    "### Step 2 - Execute Decision Chat Completion with Prompt Execution Settings "
   ]
  },
  {
   "cell_type": "markdown",
   "metadata": {},
   "source": [
    "> 📜 \"If you can’t describe what you are doing as a process, you don’t know what you’re doing.\" \n",
    ">\n",
    "> -- <cite>W. Edwards Deming (renowned American engineer, statistician, and management consultant)</cite>  \n",
    "\n",
    "\n",
    "Using the Semantic Kernel ChatCompletion service is very similar to inovoking a prompt for basic LLM interactions. The chat completion service will provide very similar results to invoking the prompt directly."
   ]
  },
  {
   "cell_type": "code",
   "execution_count": 3,
   "metadata": {
    "dotnet_interactive": {
     "language": "csharp"
    },
    "polyglot_notebook": {
     "kernelName": "csharp"
    },
    "vscode": {
     "languageId": "polyglot-notebook"
    }
   },
   "outputs": [
    {
     "data": {
      "text/markdown": [
       "Here are five widely recognized decision frameworks that can help improve the quality of decisions:\n",
       "\n",
       "---\n",
       "\n",
       "### 1. **The OODA Loop (Observe, Orient, Decide, Act)**  \n",
       "Developed by military strategist John Boyd, the OODA Loop is a cyclical framework for making decisions in dynamic and fast-changing environments.  \n",
       "- **Steps**:  \n",
       "  - **Observe**: Gather information about the situation.  \n",
       "  - **Orient**: Analyze the information and contextualize it based on prior knowledge and experience.  \n",
       "  - **Decide**: Choose the best course of action.  \n",
       "  - **Act**: Implement the decision and monitor its outcomes.  \n",
       "- **Use Case**: Effective for situations requiring rapid responses, such as business strategy or crisis management.\n",
       "\n",
       "---\n",
       "\n",
       "### 2. **The Eisenhower Matrix (Urgent vs. Important)**  \n",
       "This framework helps prioritize tasks and decisions based on urgency and importance.  \n",
       "- **Steps**:  \n",
       "  - Divide tasks into four quadrants:  \n",
       "    - **Urgent & Important**: Do immediately.  \n",
       "    - **Important but Not Urgent**: Schedule for later.  \n",
       "    - **Urgent but Not Important**: Delegate.  \n",
       "    - **Neither Urgent nor Important**: Eliminate.  \n",
       "- **Use Case**: Ideal for time management and prioritizing decisions in personal or professional contexts.\n",
       "\n",
       "---\n",
       "\n",
       "### 3. **The DECIDE Model**  \n",
       "A structured approach to decision-making that emphasizes clarity and evaluation.  \n",
       "- **Steps**:  \n",
       "  - **D**efine the problem.  \n",
       "  - **E**stablish criteria for a successful outcome.  \n",
       "  - **C**onsider all possible options.  \n",
       "  - **I**dentify the best option.  \n",
       "  - **D**evelop and implement a plan.  \n",
       "  - **E**valuate the decision and its outcomes.  \n",
       "- **Use Case**: Useful for systematic problem-solving and ensuring decisions align with goals.\n",
       "\n",
       "---\n",
       "\n",
       "### 4. **Cost-Benefit Analysis (CBA)**  \n",
       "A quantitative framework for evaluating the pros and cons of different options.  \n",
       "- **Steps**:  \n",
       "  - Identify all costs and benefits associated with each option.  \n",
       "  - Assign monetary or qualitative values to each cost and benefit.  \n",
       "  - Compare the net benefits of each option to determine the best choice.  \n",
       "- **Use Case**: Effective for financial decisions, resource allocation, or project planning.\n",
       "\n",
       "---\n",
       "\n",
       "### 5. **Six Thinking Hats (Edward de Bono)**  \n",
       "A creative framework for exploring decisions from multiple perspectives.  \n",
       "- **Steps**:  \n",
       "  - Use six metaphorical \"hats\" to analyze the decision:  \n",
       "    - **White Hat**: Focus on facts and data.  \n",
       "    - **Red Hat**: Consider emotions and intuition.  \n",
       "    - **Black Hat**: Identify risks and challenges.  \n",
       "    - **Yellow Hat**: Highlight benefits and optimism.  \n",
       "    - **Green Hat**: Explore creative solutions.  \n",
       "    - **Blue Hat**: Manage the decision-making process.  \n",
       "- **Use Case**: Ideal for group decision-making and brainstorming.\n",
       "\n",
       "---\n",
       "\n",
       "These frameworks can be adapted to suit various contexts, from personal decisions to complex organizational challenges."
      ]
     },
     "metadata": {},
     "output_type": "display_data"
    }
   ],
   "source": [
    "// Simple prompt to list some decision frameworks this GenAI LLM is familiar with \n",
    "// LLMs are trained on a diverse range of data and can provide insights on a wide range of topics like decision frameworks\n",
    "// SLMS (smaller LLMs) are trained on a more specific range of data and may not provide insights on all topics\n",
    "var simpleDecisionPrompt = \"\"\"\n",
    "Provide a list of 5 decision frameworks that can help improve the quality of decisions.\n",
    "\"\"\";\n",
    "\n",
    "// Create a new OpenAI prompt execution settings object\n",
    "var openAIPromptExecutionSettings = new OpenAIPromptExecutionSettings { \n",
    "    MaxTokens = 1000, \n",
    "    Temperature = 0.1, \n",
    "    TopP = 1.0, \n",
    "    FrequencyPenalty = 0.0, \n",
    "    PresencePenalty = 0.0\n",
    "    };\n",
    "\n",
    "// Execute the chat completion request using the prompt and settings defined above\n",
    "var chatResult = await chatCompletionService.GetChatMessageContentAsync(simpleDecisionPrompt, openAIPromptExecutionSettings);\n",
    "\n",
    "// Display the result of the chat completion request as Markdown\n",
    "chatResult.Content.DisplayAs(\"text/markdown\");"
   ]
  },
  {
   "cell_type": "markdown",
   "metadata": {},
   "source": [
    "### Step 3 - Execute Decision Chat Completion with Streaming "
   ]
  },
  {
   "cell_type": "markdown",
   "metadata": {},
   "source": [
    "Semantic Kernel supports prompt response streaming in the ChatCompletionService. This allows responses to be streamed to the client as soon as they are made available by the LLM and API services. Below the same decision prompt is executed. However, notice that chunks are streamed and can be read by the user as soon as they appear. "
   ]
  },
  {
   "cell_type": "code",
   "execution_count": 4,
   "metadata": {
    "dotnet_interactive": {
     "language": "csharp"
    },
    "polyglot_notebook": {
     "kernelName": "csharp"
    },
    "vscode": {
     "languageId": "polyglot-notebook"
    }
   },
   "outputs": [
    {
     "name": "stdout",
     "output_type": "stream",
     "text": [
      "Here are five widely used decision frameworks that can help improve the quality of decisions by providing structured approaches to problem-solving and evaluation:\n",
      "\n",
      "---\n",
      "\n",
      "### 1. **The OODA Loop (Observe, Orient, Decide, Act)**  \n",
      "Developed by military strategist John Boyd, the OODA Loop is a cyclical framework for making decisions in dynamic and fast-changing environments.  \n",
      "- **Steps**:  \n",
      "  - **Observe**: Gather information about the situation.  \n",
      "  - **Orient**: Analyze the information and contextualize it based on prior knowledge and current circumstances.  \n",
      "  - **Decide**: Choose the best course of action.  \n",
      "  - **Act**: Implement the decision and monitor its outcomes.  \n",
      "- **Use Case**: Ideal for situations requiring rapid responses, such as business strategy, crisis management, or competitive environments.\n",
      "\n",
      "---\n",
      "\n",
      "### 2. **The Eisenhower Matrix (Urgent vs. Important)**  \n",
      "This framework helps prioritize tasks and decisions based on urgency and importance.  \n",
      "- **Steps**:  \n",
      "  - Divide tasks into four quadrants:  \n",
      "    1. **Urgent and Important**: Do immediately.  \n",
      "    2. **Important but Not Urgent**: Schedule for later.  \n",
      "    3. **Urgent but Not Important**: Delegate.  \n",
      "    4. **Neither Urgent nor Important**: Eliminate.  \n",
      "- **Use Case**: Effective for time management and prioritizing decisions in personal or professional contexts.\n",
      "\n",
      "---\n",
      "\n",
      "### 3. **The Six Thinking Hats (Edward de Bono)**  \n",
      "This framework encourages exploring decisions from multiple perspectives to ensure balanced and creative thinking.  \n",
      "- **Steps**:  \n",
      "  - Use six metaphorical \"hats,\" each representing a different mode of thinking:  \n",
      "    - **White Hat**: Focus on facts and data.  \n",
      "    - **Red Hat**: Consider emotions and intuition.  \n",
      "    - **Black Hat**: Identify risks and challenges.  \n",
      "    - **Yellow Hat**: Highlight benefits and optimism.  \n",
      "    - **Green Hat**: Encourage creativity and new ideas.  \n",
      "    - **Blue Hat**: Manage the process and ensure structure.  \n",
      "- **Use Case**: Useful for group decision-making and brainstorming sessions.\n",
      "\n",
      "---\n",
      "\n",
      "### 4. **The DECIDE Model**  \n",
      "This structured approach ensures thorough evaluation of options and consequences.  \n",
      "- **Steps**:  \n",
      "  - **D**: Define the problem.  \n",
      "  - **E**: Establish criteria for decision-making.  \n",
      "  - **C**: Consider all possible options.  \n",
      "  - **I**: Identify the best option.  \n",
      "  - **D**: Develop and implement a plan.  \n",
      "  - **E**: Evaluate the decision and its outcomes.  \n",
      "- **Use Case**: Suitable for systematic decision-making in business, healthcare, or personal life.\n",
      "\n",
      "---\n",
      "\n",
      "### 5. **The Pros and Cons List**  \n",
      "A simple yet effective framework for weighing the advantages and disadvantages of a decision.  \n",
      "- **Steps**:  \n",
      "  - Create two columns: one for \"Pros\" and one for \"Cons.\"  \n",
      "  - List all positive aspects in the \"Pros\" column and all negative aspects in the \"Cons\" column.  \n",
      "  - Evaluate the balance between the two to make a decision.  \n",
      "- **Use Case**: Best for straightforward decisions or when clarity is needed in weighing trade-offs.\n",
      "\n",
      "---\n",
      "\n",
      "These frameworks can be adapted to various contexts and decision-making scenarios, helping individuals and teams make more informed, thoughtful, and effective choices."
     ]
    }
   ],
   "source": [
    "// Stream the chat completion response\n",
    "await foreach (var content in chatCompletionService.GetStreamingChatMessageContentsAsync(simpleDecisionPrompt, openAIPromptExecutionSettings))\n",
    "{\n",
    "    Console.Write(content);\n",
    "}"
   ]
  },
  {
   "cell_type": "markdown",
   "metadata": {},
   "source": [
    "### Step 4 - Execute Decision Chat Completion with a System Prompt & Chat History "
   ]
  },
  {
   "cell_type": "markdown",
   "metadata": {},
   "source": [
    "Semantic Kernel has a ChatHistory object that can be used with the ChatCompletionService to provide historical chat context to the LLM. Notice that the ChatHistory object differentiates between the different types of chat messages:\n",
    "* System Message - System or MetaPrompt. These are usually global instructions that set the \"overall rules\" for interacting with the LLMs.\n",
    "* User Message - A message from the user\n",
    "* Assistant Message - A message from the LLM. This is a message generated from an assistant or an agent. \n",
    "\n",
    "Identifying the messages from which role (user) it came from can help the LLM improve its own reasoning responses. This is a more sophisticated approach than passing chat history in a long dynamic string. ChatHistory objects can be serialized and persisted into databases as well."
   ]
  },
  {
   "cell_type": "code",
   "execution_count": 5,
   "metadata": {
    "dotnet_interactive": {
     "language": "csharp"
    },
    "polyglot_notebook": {
     "kernelName": "csharp"
    },
    "vscode": {
     "languageId": "polyglot-notebook"
    }
   },
   "outputs": [
    {
     "data": {
      "text/markdown": [
       "Here are five structured Decision Frameworks that can improve the quality of decision-making across various contexts:\n",
       "\n",
       "---\n",
       "\n",
       "### 1. **Cost-Benefit Analysis Framework**\n",
       "   - **Overview**: Evaluates the benefits versus the costs associated with a decision to ensure the most advantageous option is chosen.\n",
       "   - **Steps**:\n",
       "     1. Identify all possible options.\n",
       "     2. List potential benefits and costs (financial, time, effort, opportunity cost, and intangible impacts).\n",
       "     3. Quantify benefits and costs when possible.\n",
       "     4. Compare net outcomes of each option.\n",
       "     5. Select the option with the highest net positive result.\n",
       "   - **Use Cases**: Business investments, resource allocation, personal financial decisions.\n",
       "   - **Advantages**: Encourages rational thinking and prevents emotional bias.\n",
       "   - **Pitfalls**: Hard-to-quantify intangible costs/benefits might be ignored.\n",
       "\n",
       "---\n",
       "\n",
       "### 2. **The Eisenhower Matrix (Urgent-Important Matrix)**\n",
       "   - **Overview**: Prioritizes tasks and decisions based on urgency and importance, focusing on what truly matters without overreacting to low-priority demands.\n",
       "   - **Steps**:\n",
       "     1. Categorize decisions or tasks into four quadrants:\n",
       "        - **Quadrant 1**: Urgent and Important (Do it now).\n",
       "        - **Quadrant 2**: Important but Not Urgent (Schedule for later).\n",
       "        - **Quadrant 3**: Urgent but Not Important (Delegate).\n",
       "        - **Quadrant 4**: Neither Urgent nor Important (Eliminate).\n",
       "     2. Execute tasks based on prioritization.\n",
       "   - **Use Cases**: Time management, workload prioritization, avoiding procrastination.\n",
       "   - **Advantages**: Helps identify high-value activities and reduce distractions.\n",
       "   - **Pitfalls**: Might oversimplify complex decisions.\n",
       "\n",
       "---\n",
       "\n",
       "### 3. **Pareto Analysis (80/20 Rule)**\n",
       "   - **Overview**: Focuses on the vital few actions or decisions that create the most impact (80% of effects come from 20% of causes).\n",
       "   - **Steps**:\n",
       "     1. List all possible actions/options for solving a problem or achieving a goal.\n",
       "     2. Assess the impact of each option on the desired outcome.\n",
       "     3. Identify the top 20% of actions that contribute 80% of value.\n",
       "     4. Prioritize resources or efforts on those high-impact items.\n",
       "   - **Use Cases**: Business efficiency, problem-solving, workflow optimization.\n",
       "   - **Advantages**: Quickly identifies high-impact decisions/actions.\n",
       "   - **Pitfalls**: Not every scenario fits into a strict 80/20 distribution.\n",
       "\n",
       "---\n",
       "\n",
       "### 4. **Decision Tree Analysis**\n",
       "   - **Overview**: A visual, hierarchical model that maps out various courses of action and their potential outcomes, including risks and rewards.\n",
       "   - **Steps**:\n",
       "     1. Identify the decision you need to make.\n",
       "     2. Define branches for all possible actions.\n",
       "     3. Identify the probabilities of outcomes for each action.\n",
       "     4. Assign values (costs, benefits, or risks) to each path.\n",
       "     5. Evaluate the expected value of each branch based on probability-weighted outcomes.\n",
       "     6. Choose the option with the most favorable expected value.\n",
       "   - **Use Cases**: Risk management, strategic planning, complex decision-making.\n",
       "   - **Advantages**: Provides a clear visualization for decision paths and possible consequences.\n",
       "   - **Pitfalls**: Can grow overly complex with too many factors.\n",
       "\n",
       "---\n",
       "\n",
       "### 5. **Six Thinking Hats Framework (Edward de Bono)**\n",
       "   - **Overview**: Encourages considering a problem from multiple perspectives to uncover biases, creativity, risks, and facts.\n",
       "   - **Steps**:\n",
       "     1. Wear each \"thinking hat\" sequentially:\n",
       "        - **White Hat**: Focus on facts and data.\n",
       "        - **Red Hat**: Explore emotions and intuitions.\n",
       "        - **Black Hat**: Analyze risks and challenges (caution).\n",
       "        - **Yellow Hat**: Focus on benefits and opportunities (optimism).\n",
       "        - **Green Hat**: Think creatively and outside the box.\n",
       "        - **Blue Hat**: Manage the process and overall perspective.\n",
       "     2. Synthesize insights from all perspectives.\n",
       "     3. Make a balanced and comprehensive decision.\n",
       "   - **Use Cases**: Brainstorming, group decision-making, innovation.\n",
       "   - **Advantages**: Prevents tunnel vision and encourages holistic thinking.\n",
       "   - **Pitfalls**: May require facilitator-led practice to master.\n",
       "\n",
       "---\n",
       "\n",
       "### Final Thoughts\n",
       "Each of these frameworks is suitable depending on the decision context. For quick prioritization of tasks, the Eisenhower Matrix works well; for weighing pros and cons, the Cost-Benefit Analysis is ideal; for a creative approach to brainstorming, Six Thinking Hats can encourage holistic thinking. Combining decision frameworks in more complex scenarios may also enhance results systematically."
      ]
     },
     "metadata": {},
     "output_type": "display_data"
    }
   ],
   "source": [
    "// Set the overall system prompt to behave like a decision intelligence assistant (persona)\n",
    "var systemPrompt = \"\"\"\n",
    "You are a Decision Intelligence assistant. \n",
    "Assist the user in exploring options, reasoning through decisions, problem-solving, and applying systems thinking to various scenarios. \n",
    "Provide structured, logical, and comprehensive advice.\n",
    "\"\"\";\n",
    "\n",
    "// Simple instruction prompt to list 5 (five) decision frameworks this GenAI LLM is familiar with\n",
    "var simpleDecisionPrompt = \"\"\"\n",
    "Provide five Decision Frameworks that can help improve the quality of decisions.\n",
    "\"\"\";\n",
    "\n",
    "// Create a new chat history object with proper system and user message roles\n",
    "var chatHistory = new ChatHistory();\n",
    "chatHistory.AddSystemMessage(systemPrompt);\n",
    "chatHistory.AddUserMessage(simpleDecisionPrompt);\n",
    "\n",
    "// Note: The chat completion service can also be used with a chat history object, which allows for a more conversational context.\n",
    "var chatResponse = string.Empty;\n",
    "\n",
    "// Render Markdown or stream the chat completion response\n",
    "var renderMarkdown = true;\n",
    "if (renderMarkdown)\n",
    "{\n",
    "    // Get the chat completion response as a single content object\n",
    "    var chatContent = await chatCompletionService.GetChatMessageContentAsync(chatHistory);\n",
    "    chatResponse = chatContent.Content;\n",
    "    chatResponse.DisplayAs(\"text/markdown\");\n",
    "}\n",
    "else\n",
    "{\n",
    "    // Stream the chat completion response\n",
    "    await foreach (var content in chatCompletionService.GetStreamingChatMessageContentsAsync(chatHistory))\n",
    "    {\n",
    "        chatResponse += content;\n",
    "        Console.Write(content);\n",
    "    }\n",
    "}\n",
    "\n",
    "// Add the assistant's response to the chat history\n",
    "chatHistory.AddAssistantMessage(chatResponse);"
   ]
  },
  {
   "cell_type": "markdown",
   "metadata": {},
   "source": [
    "In the next step, an additional prompt instruction will be added to the chat history. From the 5 decision frameworks provided in the chat history, Generative AI is asked to recommed a framework best suited for the militaty intelligence community. Notice that the previous chat history is automatically provided to provide additional intelligence context. \n",
    "\n",
    "> 📜 \"Take time to deliberate, but when the time for action comes, stop thinking and go in.\"\n",
    ">\n",
    "> -- <cite>Napoleon Bornaparte (French Emporer and brilliant military mind)</cite>  "
   ]
  },
  {
   "cell_type": "code",
   "execution_count": 7,
   "metadata": {
    "dotnet_interactive": {
     "language": "csharp"
    },
    "polyglot_notebook": {
     "kernelName": "csharp"
    },
    "vscode": {
     "languageId": "polyglot-notebook"
    }
   },
   "outputs": [
    {
     "data": {
      "text/markdown": [
       "To determine which decision framework is best suited for the military intelligence community, it’s important to analyze the characteristics of the environment, the expectations of intelligence work, and the qualities of effective decision-making within such contexts. Let’s evaluate step-by-step which framework is most appropriate.\n",
       "\n",
       "---\n",
       "\n",
       "### Step 1: **Understand the Military Intelligence Context**\n",
       "Military intelligence operates in environments that are:\n",
       "- **Dynamic:** Situations can change quickly, often unpredictably.\n",
       "- **Complex:** Decisions involve analyzing large amounts of data, understanding adversary behavior, and assessing risks to national security.\n",
       "- **Uncertain:** There is often incomplete or ambiguous information available.\n",
       "- **Time-sensitive:** Delays can have significant operational consequences and may undermine mission success.\n",
       "- **Iterative:** Continuous analysis and reevaluation of situations are critical as new information becomes available.\n",
       "\n",
       "The decision-making framework will likely need to address **uncertainty**, **agility**, and **iteration**, while minimizing biases and maximizing operational efficiency.\n",
       "\n",
       "---\n",
       "\n",
       "### Step 2: **Evaluate the Five Frameworks**\n",
       "Let’s examine each framework against the criteria established above:\n",
       "\n",
       "#### 1. **Cynefin Framework**\n",
       "The Cynefin Framework recognizes the complexity and dynamic nature of environments by categorizing them into simple, complicated, complex, and chaotic domains. Given the diverse nature of military intelligence situations (e.g., strategy formulation, crisis management, and battlefield tactics), this framework provides a high-level structure for understanding the type of decision-making required. However, it lacks specific procedural guidance for real-time, iterative intelligence analysis.\n",
       "\n",
       "#### 2. **Six Thinking Hats**\n",
       "While the Six Thinking Hats framework encourages diverse perspectives and balances emotions, creativity, and logic, it’s better suited to group deliberations and brainstorming sessions. The intelligence community requires decision-making frameworks that emphasize urgency, agility, and iterative processes—which are less emphasized in the Six Thinking Hats approach.\n",
       "\n",
       "#### 3. **OODA Loop**\n",
       "The OODA Loop (Observe, Orient, Decide, Act) is specifically designed for dynamic, fast-changing environments that require iterative decisions based on evolving information. Intelligence gathering aligns naturally with the **Observe** phase, where data is collected and analyzed. The **Orient** phase allows analysts to contextualize data (e.g., geopolitical factors, adversary motivations). The **Decide** phase enables quick course selection, and the **Act** phase ensures execution of a decision while preparing for the next iteration. This framework is highly effective for military intelligence because it accounts for uncertainty, time sensitivity, and adaptation to new information.\n",
       "\n",
       "#### 4. **Decision Matrix Analysis**\n",
       "The Decision Matrix is ideal for structured, analytical reasoning with multiple criteria. However, military intelligence often involves fluid and uncertain situations that demand adaptation rather than static comparisons. While useful for certain technical evaluations (e.g., selecting equipment, planning logistics), the matrix lacks the agility needed to navigate the fast-paced nature of intelligence work.\n",
       "\n",
       "#### 5. **Eisenhower Matrix**\n",
       "The Eisenhower Matrix is designed for prioritizing tasks (urgent vs. important) rather than making comprehensive operational decisions. Though prioritization is necessary for intelligence, military operations often deal with overlapping urgency and importance, making this framework less suitable for navigating complex, evolving circumstances.\n",
       "\n",
       "---\n",
       "\n",
       "### Step 3: **Reasoning Through Selection**\n",
       "The framework most suited for the military intelligence community must:\n",
       "- Enable real-time adaptation to new data and circumstances.\n",
       "- Function effectively under uncertainty and time pressures.\n",
       "- Support iterative decision-making as intelligence evolves.\n",
       "\n",
       "Among the frameworks, the **OODA Loop** aligns the most closely with these requirements. Its focus on agility, iterative thinking, and rapid response makes it ideal for military intelligence scenarios.\n",
       "\n",
       "---\n",
       "\n",
       "### Final Recommendation: **OODA Loop**\n",
       "\n",
       "The OODA Loop (Observe, Orient, Decide, Act) is the single best framework for use within the military intelligence community. This framework supports critical real-time situational awareness and decision-making in dynamic, high-stakes environments, enabling intelligence professionals to adapt to evolving challenges while maintaining operational effectiveness."
      ]
     },
     "metadata": {},
     "output_type": "display_data"
    }
   ],
   "source": [
    "// Note: No reference is made to what previous frameworks were listed.\n",
    "// Note: Previous context is maintained by the Semantic Kernel ChatHistory object \n",
    "var simpleDecisionPromptFollowupQuestionPartTwo = \"\"\"\n",
    "Which of the 5 decision frameworks listed above is best suited for the military intelligence community?  \n",
    "Think carefully step by step about what decision frameworks are needed to answer the query.  \n",
    "Select only the single best framework. \n",
    "\"\"\";\n",
    "\n",
    "// Add User message to the chat history\n",
    "chatHistory.AddUserMessage(simpleDecisionPromptFollowupQuestionPartTwo);\n",
    "\n",
    "// Render Markdown or stream the chat completion response\n",
    "var renderMarkdown = true;\n",
    "if (renderMarkdown)\n",
    "{\n",
    "    // Get the chat completion response as a single content object\n",
    "    var chatContent = await chatCompletionService.GetChatMessageContentAsync(chatHistory);\n",
    "    chatResponse = chatContent.Content;\n",
    "    chatResponse.DisplayAs(\"text/markdown\");\n",
    "}\n",
    "else\n",
    "{\n",
    "    // Stream the chat completion response\n",
    "    await foreach (var content in chatCompletionService.GetStreamingChatMessageContentsAsync(chatHistory))\n",
    "    {\n",
    "        chatResponse += content;\n",
    "        Console.Write(content);\n",
    "    }\n",
    "}\n",
    "\n",
    "// Add Assistant message to the chat history\n",
    "chatHistory.AddAssistantMessage(chatResponse);"
   ]
  },
  {
   "cell_type": "markdown",
   "metadata": {},
   "source": [
    "### Step 5 - Execute Decision Chat Completion with a Multi-Turn Conversation Scenario "
   ]
  },
  {
   "cell_type": "markdown",
   "metadata": {},
   "source": [
    "> 📜 \"Price is what you pay. Value is what you get.\"  \n",
    ">\n",
    "> -- <cite>Warren Buffet (one of the most successful investors of all time)</cite>  "
   ]
  },
  {
   "cell_type": "markdown",
   "metadata": {},
   "source": [
    "Semantic Kernel can maintain state with the ChatHistory object. This allows natural converation between the user and AI to be persisted for future use. It can be saved for future reference, it can be replayed, it can be forked in certain spots to try different scenarios, it can be used as a starting point for other conversations etc. \n",
    "\n",
    "In the scenario below, let's build a multi-turn conversation about a decision over a purchase for a fitness tracker. Notice that each turn the appropriate Chat History roles are populated with the appropriate prompts and assistant (AI) responses. This in effect acts as the Gathering Intelligence step of the Decision Intelligence framework as the conversation information has been persisted and can be re-used as context for the decision scenario."
   ]
  },
  {
   "cell_type": "code",
   "execution_count": 14,
   "metadata": {
    "dotnet_interactive": {
     "language": "csharp"
    },
    "polyglot_notebook": {
     "kernelName": "csharp"
    },
    "vscode": {
     "languageId": "polyglot-notebook"
    }
   },
   "outputs": [],
   "source": [
    "// Set the overall system prompt to behave like a decision intelligence assistant (persona)\n",
    "var systemPromptDecisionConversation = \"\"\"\n",
    "You are a Decision Intelligence assistant. \n",
    "Assist the user in exploring options, reasoning through decisions, problem-solving, and applying systems thinking to various scenarios. \n",
    "Provide structured, logical, and comprehensive advice.\n",
    "\"\"\";\n",
    "\n",
    "// User prompt to start a decision conversation about buying a fitness tracker\n",
    "var userPromptDecisionConversationTurn1 = \"\"\"\n",
    "I am considering buying a fitness tracker but I am not sure which features really matter. \n",
    "Could you explain the main considerations? \n",
    "\"\"\";\n",
    "\n",
    "var assistantResponseDecisionConversationTurn1 = \"\"\"\n",
    "Absolutely! Key considerations for choosing a fitness tracker often include: \n",
    "- Fitness Features (e.g., step counting, heart-rate monitoring, workout tracking)\n",
    "- Health Monitoring (like sleep tracking or advanced ECG capabilities)\n",
    "- Battery Life\n",
    "- Comfort and Fit\n",
    "- Compatibility with your smartphone's operating system\n",
    "- Price Range\n",
    "- Knowing which of these you value most will help narrow down your options.\n",
    "\"\"\";\n",
    "\n",
    "var userPromptDecisionConversationTurn2 = \"\"\"\n",
    "Got it. Battery life and sleep tracking are both important to me. \n",
    "What's a typical battery life range for trackers, and how good is their sleep tracking?\n",
    "\"\"\";\n",
    "\n",
    "var assistantResponseDecisionConversationTurn2 = \"\"\"\n",
    "Different fitness trackers have varying battery lives, typically anywhere from 2-3 days (for more feature-rich or bright-display devices) \n",
    "up to about 10-14 days (for more minimalist trackers). \n",
    "\n",
    "Regarding sleep tracking:\n",
    "- Many modern devices can track different sleep stages (light, deep, REM).\n",
    "- High-end devices even track breathing rate and oxygen saturation during the night.\n",
    "- Some also offer insights about sleep quality and tips for improvement.\n",
    "\n",
    "If battery life is a priority, you may want to consider trackers with a more conservative display and fewer power-hungry features.\n",
    "\"\"\";\n",
    "\n",
    "var userPromptDecisionConversationTurn3 = \"\"\"\n",
    "Are there any popular models you would recommend for that balance of battery life and sleep tracking?\n",
    "\"\"\";\n",
    "\n",
    "var assistantResponseDecisionConversationTurn3 = \"\"\"\n",
    "Popular options that strike a balance between robust sleep tracking and good battery life include:\n",
    "- Fitbit Inspire 3 or Fitbit Charge 5: Both have solid sleep tracking, multi-day battery, and strong app support.\n",
    "- Garmin Vivosmart 5: Offers decent fitness and sleep insights, plus better-than-average battery life.\n",
    "- Xiaomi Mi Band 7: Budget-friendly, surprisingly robust health metrics, and a long-lasting battery.\n",
    "\n",
    "Each varies in price and features, so consider your budget and the specific metrics you’d like to track.\n",
    "\"\"\";\n",
    "\n",
    "var userPromptDecisionConversationTurn4 = \"\"\"\n",
    "That is great infor. \n",
    "I also have a friend who said I should consider an Apple Watch. \n",
    "Does that have comparable battery life and sleep tracking?\n",
    "\"\"\";\n",
    "\n",
    "var assistantResponseDecisionConversationTurn4 = \"\"\"\n",
    "The Apple Watch is known for its extensive feature set, including advanced health monitoring, \n",
    "but its battery life tends to be shorter—usually around 18-24 hours on a single charge \n",
    "(or possibly a bit more in low-power mode). While its sleep tracking features have improved over time, \n",
    "you might find you need to charge it daily or almost daily, which could conflict with your goal of 24/7 tracking. \n",
    "\"\"\";\n",
    "\n",
    "// Create a new chat history with a multi-turn conversation about buying a fitness tracker\n",
    "// Notice how the conversation flow uses different roles (user and assistant) to simulate a realistic decision-making dialogue\n",
    "var chatHistoryDecisionConversation = new ChatHistory();\n",
    "chatHistoryDecisionConversation.AddSystemMessage(systemPromptDecisionConversation);\n",
    "chatHistoryDecisionConversation.AddUserMessage(userPromptDecisionConversationTurn1);\n",
    "chatHistoryDecisionConversation.AddAssistantMessage(assistantResponseDecisionConversationTurn1);\n",
    "chatHistoryDecisionConversation.AddUserMessage(userPromptDecisionConversationTurn2);\n",
    "chatHistoryDecisionConversation.AddAssistantMessage(assistantResponseDecisionConversationTurn2);\n",
    "chatHistoryDecisionConversation.AddUserMessage(userPromptDecisionConversationTurn3);\n",
    "chatHistoryDecisionConversation.AddAssistantMessage(assistantResponseDecisionConversationTurn3);\n",
    "chatHistoryDecisionConversation.AddUserMessage(userPromptDecisionConversationTurn4);\n",
    "chatHistoryDecisionConversation.AddAssistantMessage(assistantResponseDecisionConversationTurn4);\n"
   ]
  },
  {
   "cell_type": "markdown",
   "metadata": {},
   "source": [
    "Using the above conversation history as the \"Gathered Intelligence\" betweeen the user and the AI assistant, let's make a final decision and ask for final feedback and a decision evaluation. This \"Gathered Intelligence\" for the decision can be persisted, re-loaded, simulated multiple times, applied to different AI systems to optimize decisions further.  "
   ]
  },
  {
   "cell_type": "code",
   "execution_count": 15,
   "metadata": {
    "dotnet_interactive": {
     "language": "csharp"
    },
    "polyglot_notebook": {
     "kernelName": "csharp"
    },
    "vscode": {
     "languageId": "polyglot-notebook"
    }
   },
   "outputs": [
    {
     "data": {
      "text/markdown": [
       "The Fitbit Inspire 3 is an excellent choice! It offers up to 10 days of battery life, reliable sleep tracking (including detailed sleep stages), and an intuitive app for health insights—all at an affordable price point. Plus, it’s lightweight and comfortable for 24/7 wear.\n",
       "\n",
       "**Final considerations:**\n",
       "1. **Compatibility:** Ensure it syncs well with your smartphone (works with both iOS and Android).\n",
       "2. **Extras:** Explore Fitbit Premium for extra insights (often comes with a trial period).\n",
       "3. **Purpose:** Whether you're tracking steps, sleep, or general wellness, revisit how it aligns with your primary goals as you set it up.\n",
       "\n",
       "You seem to have made a well-reasoned decision! Enjoy tracking and optimizing your health journey. 😊"
      ]
     },
     "metadata": {},
     "output_type": "display_data"
    }
   ],
   "source": [
    "var userPromptDecisionConversationFinalDecision = \"\"\"\n",
    "Thank you for all of that information, I think I'll go with a Fitbit. \n",
    "The Fitbit Inspire 3 seems like a good fit for my budget and needs. \n",
    "\n",
    "Any quick final thoughts on my decision? \n",
    "\"\"\";\n",
    "\n",
    "// Add User message to the chat history\n",
    "chatHistoryDecisionConversation.AddUserMessage(userPromptDecisionConversationFinalDecision);\n",
    "\n",
    "// Render Markdown or stream the chat completion response\n",
    "var renderMarkdown = true;\n",
    "if (renderMarkdown)\n",
    "{\n",
    "    // Get the chat completion response as a single content object\n",
    "    var chatContent = await chatCompletionService.GetChatMessageContentAsync(chatHistoryDecisionConversation);\n",
    "    chatResponse = chatContent.Content;\n",
    "    chatResponse.DisplayAs(\"text/markdown\");\n",
    "}\n",
    "else\n",
    "{\n",
    "    // Stream the chat completion response\n",
    "    await foreach (var content in chatCompletionService.GetStreamingChatMessageContentsAsync(chatHistoryDecisionConversation))\n",
    "    {\n",
    "        chatResponse += content;\n",
    "        Console.Write(content);\n",
    "    }\n",
    "}\n",
    "\n",
    "// Add Assistant message to the chat history\n",
    "chatHistoryDecisionConversation.AddAssistantMessage(chatResponse);"
   ]
  },
  {
   "cell_type": "markdown",
   "metadata": {},
   "source": [
    "### Step 6 - Inspect & Optimize Gathered Intelligence of Chat History "
   ]
  },
  {
   "cell_type": "markdown",
   "metadata": {},
   "source": [
    "The Semantic Kernel Chat History is a transparent construct that can be inspected and written out. In fact, the ChatHistory object can be manipulated to replay chats from middle interactions to simulate different outcomes.\n",
    "\n",
    "Execute the cell below to write out the Semantic Kernel Chat History of this chat."
   ]
  },
  {
   "cell_type": "markdown",
   "metadata": {},
   "source": [
    "> 📝 Note: In the Decision Intelligence framework, chat history can serve as a form of gathered intelligence. Interactions among users, AI models, processes, and agents provide valuable context for effective decision-making. It’s highly recommended to persist chat history objects (agent threads), especially during decision optimization, to ensure critical information is retained and accessible.  "
   ]
  },
  {
   "cell_type": "code",
   "execution_count": 16,
   "metadata": {
    "dotnet_interactive": {
     "language": "csharp"
    },
    "polyglot_notebook": {
     "kernelName": "csharp"
    },
    "vscode": {
     "languageId": "polyglot-notebook"
    }
   },
   "outputs": [
    {
     "name": "stdout",
     "output_type": "stream",
     "text": [
      "Number of chat interactions: 11\r\n"
     ]
    },
    {
     "data": {
      "text/markdown": [
       "**SYSTEM**:\r\n",
       "You are a Decision Intelligence assistant. \r\n",
       "Assist the user in exploring options, reasoning through decisions, problem-solving, and applying systems thinking to various scenarios. \r\n",
       "Provide structured, logical, and comprehensive advice.\n",
       "\r\n",
       "**USER**:\r\n",
       "I am considering buying a fitness tracker but I am not sure which features really matter. \r\n",
       "Could you explain the main considerations? \n",
       "\r\n",
       "**ASSISTANT**:\r\n",
       "Absolutely! Key considerations for choosing a fitness tracker often include: \r\n",
       "- Fitness Features (e.g., step counting, heart-rate monitoring, workout tracking)\r\n",
       "- Health Monitoring (like sleep tracking or advanced ECG capabilities)\r\n",
       "- Battery Life\r\n",
       "- Comfort and Fit\r\n",
       "- Compatibility with your smartphone's operating system\r\n",
       "- Price Range\r\n",
       "- Knowing which of these you value most will help narrow down your options.\n",
       "\r\n",
       "**USER**:\r\n",
       "Got it. Battery life and sleep tracking are both important to me. \r\n",
       "What's a typical battery life range for trackers, and how good is their sleep tracking?\n",
       "\r\n",
       "**ASSISTANT**:\r\n",
       "Different fitness trackers have varying battery lives, typically anywhere from 2-3 days (for more feature-rich or bright-display devices) \r\n",
       "up to about 10-14 days (for more minimalist trackers). \r\n",
       "\r\n",
       "Regarding sleep tracking:\r\n",
       "- Many modern devices can track different sleep stages (light, deep, REM).\r\n",
       "- High-end devices even track breathing rate and oxygen saturation during the night.\r\n",
       "- Some also offer insights about sleep quality and tips for improvement.\r\n",
       "\r\n",
       "If battery life is a priority, you may want to consider trackers with a more conservative display and fewer power-hungry features.\n",
       "\r\n",
       "**USER**:\r\n",
       "Are there any popular models you would recommend for that balance of battery life and sleep tracking?\n",
       "\r\n",
       "**ASSISTANT**:\r\n",
       "Popular options that strike a balance between robust sleep tracking and good battery life include:\r\n",
       "- Fitbit Inspire 3 or Fitbit Charge 5: Both have solid sleep tracking, multi-day battery, and strong app support.\r\n",
       "- Garmin Vivosmart 5: Offers decent fitness and sleep insights, plus better-than-average battery life.\r\n",
       "- Xiaomi Mi Band 7: Budget-friendly, surprisingly robust health metrics, and a long-lasting battery.\r\n",
       "\r\n",
       "Each varies in price and features, so consider your budget and the specific metrics you’d like to track.\n",
       "\r\n",
       "**USER**:\r\n",
       "That is great infor. \r\n",
       "I also have a friend who said I should consider an Apple Watch. \r\n",
       "Does that have comparable battery life and sleep tracking?\n",
       "\r\n",
       "**ASSISTANT**:\r\n",
       "The Apple Watch is known for its extensive feature set, including advanced health monitoring, \r\n",
       "but its battery life tends to be shorter—usually around 18-24 hours on a single charge \r\n",
       "(or possibly a bit more in low-power mode). While its sleep tracking features have improved over time, \r\n",
       "you might find you need to charge it daily or almost daily, which could conflict with your goal of 24/7 tracking. \n",
       "\r\n",
       "**USER**:\r\n",
       "Thank you for all of that information, I think I'll go with a Fitbit. \r\n",
       "The Fitbit Inspire 3 seems like a good fit for my budget and needs. \r\n",
       "\r\n",
       "Any quick final thoughts on my decision? \n",
       "\r\n",
       "**ASSISTANT**:\r\n",
       "The Fitbit Inspire 3 is an excellent choice! It offers up to 10 days of battery life, reliable sleep tracking (including detailed sleep stages), and an intuitive app for health insights—all at an affordable price point. Plus, it’s lightweight and comfortable for 24/7 wear.\n",
       "\n",
       "**Final considerations:**\n",
       "1. **Compatibility:** Ensure it syncs well with your smartphone (works with both iOS and Android).\n",
       "2. **Extras:** Explore Fitbit Premium for extra insights (often comes with a trial period).\n",
       "3. **Purpose:** Whether you're tracking steps, sleep, or general wellness, revisit how it aligns with your primary goals as you set it up.\n",
       "\n",
       "You seem to have made a well-reasoned decision! Enjoy tracking and optimizing your health journey. 😊\n",
       "\r\n"
      ]
     },
     "metadata": {},
     "output_type": "display_data"
    }
   ],
   "source": [
    "// Print the number of chat interactions and the chat history (turns)\n",
    "Console.WriteLine(\"Number of chat interactions: \" + chatHistoryDecisionConversation.Count());\n",
    "\n",
    "// Change this to a string builder and show as markdown\n",
    "var stringBuilderChatHistory = new StringBuilder();\n",
    "foreach (var message in chatHistoryDecisionConversation)\n",
    "{\n",
    "    // add a new line for each message\n",
    "    stringBuilderChatHistory.AppendLine($\"**{message.Role.ToString().ToUpper()}**:\");\n",
    "    stringBuilderChatHistory.Append($\"{message.Content.Replace(\"#\", string.Empty)}\");\n",
    "    stringBuilderChatHistory.AppendLine(\"\\n\");\n",
    "}\n",
    "\n",
    "// Display the chat history as Markdown\n",
    "stringBuilderChatHistory.ToString().DisplayAs(\"text/markdown\");"
   ]
  },
  {
   "cell_type": "markdown",
   "metadata": {},
   "source": [
    "By persisting the Decision Intelligence chats and making them available for inspection, can further help the decision-making process. For example you can load the Chat History summarize it or even have AI recommend optimizations for it based on the conversation. \n",
    "\n",
    "> 📝 Note: The process below is simplified to illustrate the power of Gathering Intelligence with user <--> AI interactions. More advanced best practices will be introduced in further sections. "
   ]
  },
  {
   "cell_type": "code",
   "execution_count": 17,
   "metadata": {
    "dotnet_interactive": {
     "language": "csharp"
    },
    "polyglot_notebook": {
     "kernelName": "csharp"
    },
    "vscode": {
     "languageId": "polyglot-notebook"
    }
   },
   "outputs": [
    {
     "data": {
      "text/markdown": [
       "Here’s a summary of our conversation:\n",
       "\n",
       "You expressed interest in buying a fitness tracker and sought advice on key considerations. We discussed features like fitness tracking, health monitoring, battery life, sleep tracking, comfort, and price. You prioritized battery life and sleep tracking, and I shared typical battery life ranges (2-14 days) and the capabilities of modern sleep tracking tools.\n",
       "\n",
       "We reviewed specific models like the Fitbit Inspire 3, Fitbit Charge 5, Garmin Vivosmart 5, Xiaomi Mi Band 7, and the Apple Watch. While the Apple Watch offers advanced features, its shorter battery life (18-24 hours) made it less suitable for your needs.\n",
       "\n",
       "Ultimately, you chose the Fitbit Inspire 3 due to its affordability, long battery life, and robust sleep tracking. We briefly discussed compatibility and Fitbit Premium for added value, concluding that your decision aligns well with your priorities."
      ]
     },
     "metadata": {},
     "output_type": "display_data"
    },
    {
     "data": {
      "text/markdown": [
       "**Summary of the Chat Conversation:**\n",
       "The user explored purchasing a fitness tracker with a focus on battery life and sleep tracking features. Key considerations such as fitness features, health monitoring, and compatibility were discussed. Popular models like Fitbit Inspire 3, Fitbit Charge 5, Garmin Vivosmart 5, and Xiaomi Mi Band 7 were recommended. Apple Watch was evaluated but ruled out due to shorter battery life, despite its robust features. The user decided on the Fitbit Inspire 3 after weighing the pros and cons of various options.\n",
       "\n",
       "---\n",
       "\n",
       "**Recommendations for Optimizing Decision Interactions:**\n",
       "\n",
       "1. **Structured Decision Frameworks:**\n",
       "   - Introduce a decision-making framework, such as pros and cons, weighted criteria, or ranking systems, early in the conversation.\n",
       "   - For example: \"Rank these features (battery life, sleep tracking, price, design, etc.) on a scale of importance to better identify the best option.\"\n",
       "\n",
       "2. **Encourage Exploration of Scenarios:**\n",
       "   - Suggest scenarios for how the user will use the tracker and then match recommendations to those needs (e.g., daily activity tracking vs. specialized metrics for athletes vs. health monitoring for sleep optimization).\n",
       "\n",
       "3. **Cost-Benefit Analysis:**\n",
       "   - Prompt the user to compare/personalize price to value, ensuring the decision stays within their preferred budget and feature priorities while acknowledging tradeoffs.\n",
       "\n",
       "4. **Highlight Hidden Features or Considerations:**\n",
       "   - Suggest lesser-considered aspects, such as ease of app use, durability, third-party integrations, or whether features like community challenges or reminders encourage long-term engagement.\n",
       "\n",
       "5. **Decision Validation or Next Steps:**\n",
       "   - Offer actionable post-decision guidance (e.g., setup tips, how to test the device’s effectiveness for their goals, alternative options if the chosen tracker doesn’t perform as expected).\n",
       "\n",
       "6. **Interactive Tools or Visuals:**\n",
       "   - If possible, supply comparison charts, feature matrices, or links to relevant reviews to help the user make a more informed and confident decision.\n",
       "\n",
       "7. **Manage Long-Term Implications:**\n",
       "   - Encourage foresight by discussing upgrade paths, warranties, and future compatibility considerations (e.g., new fitness features or smartwatch integration).\n",
       "\n",
       "By implementing structured guidance, enriching feature discussions, and validating decisions with follow-up next steps, the AI can enhance decision-making interactions and foster greater confidence in the user's choice."
      ]
     },
     "metadata": {},
     "output_type": "display_data"
    }
   ],
   "source": [
    "var userPromptSummarizeTheDecisionChat = \"\"\"\n",
    "Briefly summarize the chat conversation about buying a fitness tracker.\n",
    "\"\"\";\n",
    "\n",
    "// Add User message to the chat history\n",
    "chatHistoryDecisionConversation.AddUserMessage(userPromptSummarizeTheDecisionChat);\n",
    "\n",
    "var chatContent = await chatCompletionService.GetChatMessageContentAsync(chatHistoryDecisionConversation);\n",
    "chatResponse = chatContent.Content;\n",
    "chatResponse.DisplayAs(\"text/markdown\");\n",
    "\n",
    "// Optimize the chat history for any future decision interactions\n",
    "var userPromptOptimizeTheDecisionChat = \"\"\"\n",
    "Based on the chat conversation so far...\n",
    "Provide some recommendations on how the decision interactions could be optimized for decision-making.\n",
    "What are some considerations for the AI to help the use make even better decisions?\n",
    "\"\"\";\n",
    "\n",
    "// Add User message to the chat history\n",
    "chatHistoryDecisionConversation.AddUserMessage(userPromptOptimizeTheDecisionChat);\n",
    "\n",
    "var chatContentOptimization = await chatCompletionService.GetChatMessageContentAsync(chatHistoryDecisionConversation);\n",
    "var chatResponseOptimization = chatContentOptimization.Content;\n",
    "chatResponseOptimization.DisplayAs(\"text/markdown\");"
   ]
  }
 ],
 "metadata": {
  "kernelspec": {
   "display_name": ".NET (C#)",
   "language": "C#",
   "name": ".net-csharp"
  },
  "language_info": {
   "name": "csharp"
  },
  "polyglot_notebook": {
   "kernelInfo": {
    "defaultKernelName": "csharp",
    "items": [
     {
      "aliases": [],
      "name": "csharp"
     }
    ]
   }
  }
 },
 "nbformat": 4,
 "nbformat_minor": 2
}
