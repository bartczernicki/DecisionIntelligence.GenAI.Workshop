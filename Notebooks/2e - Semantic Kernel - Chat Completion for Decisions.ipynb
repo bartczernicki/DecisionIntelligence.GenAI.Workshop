{
 "cells": [
  {
   "cell_type": "markdown",
   "metadata": {},
   "source": [
    "<img style=\"float: left;padding-right: 10px\" width =\"40px\" src=\"https://raw.githubusercontent.com/bartczernicki/DecisionIntelligence.GenAI.Workshop/main/Images/SemanticKernelLogo.png\">\n",
    "\n",
    "## Semantic Kernel - Chat Completion for Decisions "
   ]
  },
  {
   "cell_type": "markdown",
   "metadata": {},
   "source": [
    "Decision Intelligence applied in this module:  \n",
    "* Listing of various decision-making frameworks and with their descriptions by using Chat Completion  \n",
    "* Decision Scenario: Recommendation of a decision-making framework for specific higher-stakes decisions (purchase of a car)  \n",
    "* Illustrating a domain specific decision-making framework (millitary intelligence)  \n"
   ]
  },
  {
   "cell_type": "markdown",
   "metadata": {},
   "source": [
    "In this module, the Semantic Kernel ability to create a chat experience will be introduced. This is a much richer experience than just sending simple prompts that are stateless and context is forgotten.\n",
    "\n",
    "Semantic Kernel has first-class support for chat scenarios, where the user talks back and forth with the LLM, the arguments get populated with the history of the conversation. During each new run of the kernel, the arguments will be provided to the AI with content. This allows the LLM to know the historical context of the conversation."
   ]
  },
  {
   "cell_type": "markdown",
   "metadata": {},
   "source": [
    "### Step 1 - Initialize Configuration Builder & Build the Semantic Kernel Orchestration"
   ]
  },
  {
   "cell_type": "markdown",
   "metadata": {},
   "source": [
    "Execute the next two cells to:\n",
    "* Use the Configuration Builder to load the API secrets.  \n",
    "* Use the API configuration to build the Semantic Kernel orchestrator."
   ]
  },
  {
   "cell_type": "code",
   "execution_count": 1,
   "metadata": {
    "dotnet_interactive": {
     "language": "csharp"
    },
    "polyglot_notebook": {
     "kernelName": "csharp"
    },
    "vscode": {
     "languageId": "polyglot-notebook"
    }
   },
   "outputs": [
    {
     "data": {
      "text/html": [
       "<div><div></div><div></div><div><strong>Installed Packages</strong><ul><li><span>Microsoft.Extensions.Configuration, 9.0.5</span></li><li><span>Microsoft.Extensions.Configuration.Json, 9.0.5</span></li></ul></div></div>"
      ]
     },
     "metadata": {},
     "output_type": "display_data"
    }
   ],
   "source": [
    "// Import the required NuGet configuration packages\n",
    "#r \"nuget: Microsoft.Extensions.Configuration, 9.0.5\"\n",
    "#r \"nuget: Microsoft.Extensions.Configuration.Json, 9.0.5\"\n",
    "\n",
    "using Microsoft.Extensions.Configuration.Json;\n",
    "using Microsoft.Extensions.Configuration;\n",
    "using System.IO;\n",
    "\n",
    "// Load the configuration settings from the local.settings.json and secrets.settings.json files\n",
    "// The secrets.settings.json file is used to store sensitive information such as API keys\n",
    "var configurationBuilder = new ConfigurationBuilder()\n",
    "    .SetBasePath(Directory.GetCurrentDirectory())\n",
    "    .AddJsonFile(\"local.settings.json\", optional: true, reloadOnChange: true)\n",
    "    .AddJsonFile(\"secrets.settings.json\", optional: true, reloadOnChange: true);\n",
    "var config = configurationBuilder.Build();\n",
    "\n",
    "// IMPORTANT: You ONLY NEED either Azure OpenAI or OpenAI connectiopn info, not both.\n",
    "// Azure OpenAI Connection Info\n",
    "var azureOpenAIEndpoint = config[\"AzureOpenAI:Endpoint\"];\n",
    "var azureOpenAIAPIKey = config[\"AzureOpenAI:APIKey\"];\n",
    "var azureOpenAIModelDeploymentName = config[\"AzureOpenAI:ModelDeploymentName\"];\n",
    "// OpenAI Connection Info \n",
    "var openAIAPIKey = config[\"OpenAI:APIKey\"];\n",
    "var openAIModelId = config[\"OpenAI:ModelId\"];"
   ]
  },
  {
   "cell_type": "code",
   "execution_count": 2,
   "metadata": {
    "dotnet_interactive": {
     "language": "csharp"
    },
    "polyglot_notebook": {
     "kernelName": "csharp"
    },
    "vscode": {
     "languageId": "polyglot-notebook"
    }
   },
   "outputs": [
    {
     "data": {
      "text/html": [
       "<div><div></div><div></div><div><strong>Installed Packages</strong><ul><li><span>Microsoft.Extensions.DependencyInjection, 9.0.5</span></li><li><span>Microsoft.SemanticKernel, 1.54.0</span></li></ul></div></div>"
      ]
     },
     "metadata": {},
     "output_type": "display_data"
    },
    {
     "name": "stdout",
     "output_type": "stream",
     "text": [
      "Using Azure OpenAI Service\r\n"
     ]
    }
   ],
   "source": [
    "// Install the required NuGet packages\n",
    "// Note: This also installs the Dependency Injection Package to retrieve the ChatCompletionService\n",
    "#r \"nuget: Microsoft.Extensions.DependencyInjection, 9.0.5\"\n",
    "#r \"nuget: Microsoft.SemanticKernel, 1.54\"\n",
    "\n",
    "using Microsoft.Extensions.DependencyInjection.Extensions;\n",
    "using Microsoft.Extensions.DependencyInjection;\n",
    "using Microsoft.SemanticKernel;\n",
    "using Microsoft.SemanticKernel.ChatCompletion;\n",
    "using Microsoft.SemanticKernel.Connectors.OpenAI;\n",
    "\n",
    "Kernel semanticKernel;\n",
    "\n",
    "// Set the flag to use Azure OpenAI or OpenAI. False to use OpenAI, True to use Azure OpenAI\n",
    "var useAzureOpenAI = true;\n",
    "\n",
    "// Create a new Semantic Kernel instance\n",
    "if (useAzureOpenAI)\n",
    "{\n",
    "    Console.WriteLine(\"Using Azure OpenAI Service\");\n",
    "    semanticKernel = Kernel.CreateBuilder()\n",
    "        .AddAzureOpenAIChatCompletion(\n",
    "            deploymentName: azureOpenAIModelDeploymentName,\n",
    "            endpoint: azureOpenAIEndpoint,\n",
    "            apiKey: azureOpenAIAPIKey)\n",
    "        .Build();\n",
    "}\n",
    "else\n",
    "{\n",
    "    Console.WriteLine(\"Using OpenAI Service\");\n",
    "    semanticKernel = Kernel.CreateBuilder()\n",
    "        .AddOpenAIChatCompletion(\n",
    "            modelId: openAIModelId,\n",
    "            apiKey: openAIAPIKey)\n",
    "        .Build();\n",
    "}\n",
    "\n",
    "var chatCompletionService = semanticKernel.Services.GetRequiredService<IChatCompletionService>();"
   ]
  },
  {
   "cell_type": "markdown",
   "metadata": {},
   "source": [
    "### Step 2 - Execute Decision Chat Completion with Prompt Execution Settings "
   ]
  },
  {
   "cell_type": "markdown",
   "metadata": {},
   "source": [
    "> 📜 \"If you can’t describe what you are doing as a process, you don’t know what you’re doing.\" \n",
    ">\n",
    "> -- <cite>W. Edwards Deming (renowned American engineer, statistician, and management consultant)</cite>  \n",
    "\n",
    "\n",
    "Using the Semantic Kernel ChatCompletion service is very similar to inovoking a prompt for basic LLM interactions. The chat completion service will provide very similar results to invoking the prompt directly."
   ]
  },
  {
   "cell_type": "code",
   "execution_count": 3,
   "metadata": {
    "dotnet_interactive": {
     "language": "csharp"
    },
    "polyglot_notebook": {
     "kernelName": "csharp"
    },
    "vscode": {
     "languageId": "polyglot-notebook"
    }
   },
   "outputs": [
    {
     "data": {
      "text/markdown": [
       "Here are five widely used decision frameworks that can help improve the quality of decisions:\n",
       "\n",
       "---\n",
       "\n",
       "### 1. **The OODA Loop (Observe, Orient, Decide, Act)**  \n",
       "Developed by military strategist John Boyd, the OODA Loop is a cyclical framework for making decisions in dynamic and fast-changing environments.  \n",
       "- **Steps**:  \n",
       "  - **Observe**: Gather information about the situation.  \n",
       "  - **Orient**: Analyze the information and contextualize it based on prior knowledge and current circumstances.  \n",
       "  - **Decide**: Choose the best course of action.  \n",
       "  - **Act**: Implement the decision and monitor its outcomes.  \n",
       "- **Use Case**: Ideal for situations requiring rapid decision-making, such as business strategy or crisis management.\n",
       "\n",
       "---\n",
       "\n",
       "### 2. **The Eisenhower Matrix (Urgent vs. Important)**  \n",
       "This framework helps prioritize tasks and decisions based on urgency and importance.  \n",
       "- **Steps**:  \n",
       "  - Divide tasks into four quadrants:  \n",
       "    1. **Urgent and Important**: Do immediately.  \n",
       "    2. **Important but Not Urgent**: Schedule for later.  \n",
       "    3. **Urgent but Not Important**: Delegate to others.  \n",
       "    4. **Neither Urgent nor Important**: Eliminate or ignore.  \n",
       "- **Use Case**: Useful for time management and prioritizing decisions in personal or professional contexts.\n",
       "\n",
       "---\n",
       "\n",
       "### 3. **The Six Thinking Hats**  \n",
       "Developed by Edward de Bono, this framework encourages exploring decisions from multiple perspectives to ensure balanced thinking.  \n",
       "- **Steps**:  \n",
       "  - Use six metaphorical \"hats,\" each representing a different mode of thinking:  \n",
       "    - **White Hat**: Focus on facts and data.  \n",
       "    - **Red Hat**: Consider emotions and intuition.  \n",
       "    - **Black Hat**: Identify risks and potential problems.  \n",
       "    - **Yellow Hat**: Highlight benefits and optimism.  \n",
       "    - **Green Hat**: Encourage creativity and new ideas.  \n",
       "    - **Blue Hat**: Manage the decision-making process.  \n",
       "- **Use Case**: Effective for group decision-making and brainstorming sessions.\n",
       "\n",
       "---\n",
       "\n",
       "### 4. **The DECIDE Model**  \n",
       "This structured framework helps systematically evaluate options and make informed decisions.  \n",
       "- **Steps**:  \n",
       "  - **D**efine the problem.  \n",
       "  - **E**stablish criteria for success.  \n",
       "  - **C**onsider all possible alternatives.  \n",
       "  - **I**dentify the best option.  \n",
       "  - **D**evelop and implement a plan.  \n",
       "  - **E**valuate the decision and its outcomes.  \n",
       "- **Use Case**: Useful for complex decisions requiring thorough analysis.\n",
       "\n",
       "---\n",
       "\n",
       "### 5. **The Pros and Cons List**  \n",
       "A simple yet effective framework for weighing the advantages and disadvantages of a decision.  \n",
       "- **Steps**:  \n",
       "  - Create two columns: one for \"Pros\" and one for \"Cons.\"  \n",
       "  - List all potential benefits and drawbacks of each option.  \n",
       "  - Evaluate the relative importance of each item and make a decision based on the balance.  \n",
       "- **Use Case**: Ideal for personal decisions or situations with limited complexity.\n",
       "\n",
       "---\n",
       "\n",
       "Each of these frameworks can be adapted to suit different contexts, helping individuals and teams make more thoughtful, informed, and effective decisions."
      ]
     },
     "metadata": {},
     "output_type": "display_data"
    }
   ],
   "source": [
    "// Simple prompt to list some decision frameworks this GenAI LLM is familiar with \n",
    "// LLMs are trained on a diverse range of data and can provide insights on a wide range of topics like decision frameworks\n",
    "// SLMS (smaller LLMs) are trained on a more specific range of data and may not provide insights on all topics\n",
    "var simpleDecisionPrompt = \"\"\"\n",
    "Provide a list of 5 decision frameworks that can help improve the quality of decisions.\n",
    "\"\"\";\n",
    "\n",
    "// Create a new OpenAI prompt execution settings object\n",
    "var openAIPromptExecutionSettings = new OpenAIPromptExecutionSettings { \n",
    "    MaxTokens = 1000, \n",
    "    Temperature = 0.1, \n",
    "    TopP = 1.0, \n",
    "    FrequencyPenalty = 0.0, \n",
    "    PresencePenalty = 0.0\n",
    "    };\n",
    "\n",
    "// Execute the chat completion request using the prompt and settings defined above\n",
    "var chatResult = await chatCompletionService.GetChatMessageContentAsync(simpleDecisionPrompt, openAIPromptExecutionSettings);\n",
    "\n",
    "// Display the result of the chat completion request as Markdown\n",
    "chatResult.Content.DisplayAs(\"text/markdown\");"
   ]
  },
  {
   "cell_type": "markdown",
   "metadata": {},
   "source": [
    "### Step 3 - Execute Decision Chat Completion with Streaming "
   ]
  },
  {
   "cell_type": "markdown",
   "metadata": {},
   "source": [
    "Semantic Kernel supports prompt response streaming in the ChatCompletionService. This allows responses to be streamed to the client as soon as they are made available by the LLM and API services. Below the same decision prompt is executed. However, notice that chunks are streamed and can be read by the user as soon as they appear. "
   ]
  },
  {
   "cell_type": "code",
   "execution_count": 4,
   "metadata": {
    "dotnet_interactive": {
     "language": "csharp"
    },
    "polyglot_notebook": {
     "kernelName": "csharp"
    },
    "vscode": {
     "languageId": "polyglot-notebook"
    }
   },
   "outputs": [
    {
     "name": "stdout",
     "output_type": "stream",
     "text": [
      "Here are five widely recognized decision frameworks that can help improve the quality of decisions:\n",
      "\n",
      "---\n",
      "\n",
      "### 1. **The OODA Loop (Observe, Orient, Decide, Act)**  \n",
      "Developed by military strategist John Boyd, the OODA Loop is a cyclical framework designed for rapid decision-making in dynamic environments. It emphasizes adaptability and continuous learning.  \n",
      "- **Steps**:  \n",
      "  - **Observe**: Gather information about the situation.  \n",
      "  - **Orient**: Analyze the information and assess your position relative to the environment.  \n",
      "  - **Decide**: Choose the best course of action based on your analysis.  \n",
      "  - **Act**: Implement the decision and monitor the results.  \n",
      "- **Use Case**: Ideal for situations requiring quick responses, such as business strategy, crisis management, or competitive environments.\n",
      "\n",
      "---\n",
      "\n",
      "### 2. **The Eisenhower Matrix (Urgent vs. Important)**  \n",
      "This framework helps prioritize tasks and decisions based on urgency and importance. It is named after President Dwight D. Eisenhower, who emphasized effective time management.  \n",
      "- **Steps**:  \n",
      "  - **Quadrant 1**: Urgent and important (Do immediately).  \n",
      "  - **Quadrant 2**: Not urgent but important (Schedule for later).  \n",
      "  - **Quadrant 3**: Urgent but not important (Delegate).  \n",
      "  - **Quadrant 4**: Neither urgent nor important (Eliminate).  \n",
      "- **Use Case**: Useful for prioritizing tasks and managing time effectively in decision-making.\n",
      "\n",
      "---\n",
      "\n",
      "### 3. **The DECIDE Model**  \n",
      "This structured framework is designed to guide decision-making through a systematic process.  \n",
      "- **Steps**:  \n",
      "  - **D**: Define the problem.  \n",
      "  - **E**: Establish criteria for a successful outcome.  \n",
      "  - **C**: Consider all possible options.  \n",
      "  - **I**: Identify the best option based on criteria.  \n",
      "  - **D**: Develop and implement a plan.  \n",
      "  - **E**: Evaluate the decision and its outcomes.  \n",
      "- **Use Case**: Suitable for complex decisions requiring thorough analysis and planning.\n",
      "\n",
      "---\n",
      "\n",
      "### 4. **Cost-Benefit Analysis (CBA)**  \n",
      "This framework involves comparing the costs and benefits of different options to determine the most advantageous choice.  \n",
      "- **Steps**:  \n",
      "  - Identify all potential options.  \n",
      "  - Quantify the costs (financial, time, resources, etc.) for each option.  \n",
      "  - Quantify the benefits (revenue, efficiency, satisfaction, etc.) for each option.  \n",
      "  - Compare the net benefits of each option and select the one with the highest value.  \n",
      "- **Use Case**: Effective for financial, operational, or resource allocation decisions.\n",
      "\n",
      "---\n",
      "\n",
      "### 5. **The Six Thinking Hats (Edward de Bono)**  \n",
      "This framework encourages decision-makers to approach problems from multiple perspectives by \"wearing different hats\" that represent distinct modes of thinking.  \n",
      "- **Steps**:  \n",
      "  - **White Hat**: Focus on facts and data.  \n",
      "  - **Red Hat**: Consider emotions and intuition.  \n",
      "  - **Black Hat**: Identify risks and potential problems.  \n",
      "  - **Yellow Hat**: Explore benefits and optimistic outcomes.  \n",
      "  - **Green Hat**: Encourage creativity and alternative solutions.  \n",
      "  - **Blue Hat**: Manage the decision-making process and ensure structure.  \n",
      "- **Use Case**: Ideal for group decision-making and brainstorming sessions.\n",
      "\n",
      "---\n",
      "\n",
      "These frameworks can be tailored to fit specific contexts and challenges, helping individuals and teams make more informed, structured, and effective decisions."
     ]
    }
   ],
   "source": [
    "// Stream the chat completion response\n",
    "await foreach (var content in chatCompletionService.GetStreamingChatMessageContentsAsync(simpleDecisionPrompt, openAIPromptExecutionSettings))\n",
    "{\n",
    "    Console.Write(content);\n",
    "}"
   ]
  },
  {
   "cell_type": "markdown",
   "metadata": {},
   "source": [
    "### Step 4 - Execute Decision Chat Completion with a System Prompt & Chat History "
   ]
  },
  {
   "cell_type": "markdown",
   "metadata": {},
   "source": [
    "Semantic Kernel has a ChatHistory object that can be used with the ChatCompletionService to provide historical chat context to the LLM. Notice that the ChatHistory object differentiates between the different types of chat messages:\n",
    "* System Message - System or MetaPrompt. These are usually global instructions that set the \"overall rules\" for interacting with the LLMs.\n",
    "* User Message - A message from the user\n",
    "* Assistant Message - A message from the LLM. This is a message generated from an assistant or an agent. \n",
    "\n",
    "Identifying the messages from which role (user) it came from can help the LLM improve its own reasoning responses. This is a more sophisticated approach than passing chat history in a long dynamic string. ChatHistory objects can be serialized and persisted into databases as well."
   ]
  },
  {
   "cell_type": "code",
   "execution_count": 6,
   "metadata": {
    "dotnet_interactive": {
     "language": "csharp"
    },
    "polyglot_notebook": {
     "kernelName": "csharp"
    },
    "vscode": {
     "languageId": "polyglot-notebook"
    }
   },
   "outputs": [
    {
     "data": {
      "text/markdown": [
       "Here are five decision frameworks that are widely used to improve the quality of decisions. Each framework is structured systematically to help assess options, reduce biases, and promote critical thinking:\n",
       "\n",
       "---\n",
       "\n",
       "### **1. The Cynefin Framework**\n",
       "The Cynefin Framework is a sense-making tool typically used to identify the nature of a decision context and guide decision-making processes accordingly. The framework has five domains:\n",
       "\n",
       "- **Simple (Clear):** Decisions in this domain have clear cause-and-effect relationships. Follow best practices.\n",
       "  * **Action:** Categorize, assess, and act.\n",
       "\n",
       "- **Complicated:** Problems in this domain require expert analysis and multiple options. Cause and effect exist, but they’re not immediately evident.\n",
       "  * **Action:** Analyze options, choose the best one.\n",
       "\n",
       "- **Complex:** In complex situations, outcomes are unpredictable, and cause and effect can only be understood in hindsight.\n",
       "  * **Action:** Experiment and learn through iteration.\n",
       "\n",
       "- **Chaotic:** These situations demand rapid action to stabilize crises.\n",
       "  * **Action:** Act decisively to mitigate chaos, then learn and adapt.\n",
       "\n",
       "- **Disordered:** When true categorization isn’t possible, more analysis is needed to determine the situation type.\n",
       "\n",
       "### **Use Case:** Helps frame situations to determine the appropriate decision-making strategy.\n",
       "\n",
       "---\n",
       "\n",
       "### **2. Six Thinking Hats**\n",
       "Created by Edward de Bono, this framework encourages multi-faceted decision-making by dividing perspectives into six “hats” or modes of thinking:\n",
       "\n",
       "- **White Hat:** Focuses on data and facts.\n",
       "- **Red Hat:** Explores intuition, emotions, and gut feelings.\n",
       "- **Yellow Hat:** Emphasizes optimism, benefits, and the positive outlook of decisions.\n",
       "- **Black Hat:** Looks at risks, potential downsides, and critical thinking.\n",
       "- **Green Hat:** Encourages creativity, innovation, and new ideas.\n",
       "- **Blue Hat:** Oversees the process and ensures structure.\n",
       "\n",
       "### **Use Case:** Useful for group decision-making and encouraging balanced, holistic thinking.\n",
       "\n",
       "---\n",
       "\n",
       "### **3. OODA Loop**\n",
       "The OODA Loop (Observe, Orient, Decide, Act) is a military-inspired framework developed by Colonel John Boyd. It emphasizes agility and iterative decision-making:\n",
       "\n",
       "1. **Observe:** Collect and analyze relevant information about your environment and situation.\n",
       "2. **Orient:** Interpret observations, adjust mental models, and align to contextual realities.\n",
       "3. **Decide:** Choose the best course of action based on your orientation.\n",
       "4. **Act:** Implement the decision, then repeat the loop if needed.\n",
       "\n",
       "### **Use Case:** Particularly beneficial for dynamic scenarios that evolve quickly, such as competitive or uncertain environments.\n",
       "\n",
       "---\n",
       "\n",
       "### **4. Decision Matrix Analysis (Weighted Scoring)**\n",
       "A structured approach for evaluating options with multiple criteria. The framework involves assigning weights to criteria based on their importance and scoring options accordingly.\n",
       "\n",
       "1. Define decision criteria.\n",
       "2. Assign weights to each criterion (e.g., on a scale of 1–10).\n",
       "3. List possible options.\n",
       "4. Score each option for each criterion, then multiply by the weights.\n",
       "5. Select the option with the highest total score.\n",
       "\n",
       "### **Use Case:** Effective for rational, data-driven decision-making, particularly when comparing complex alternatives.\n",
       "\n",
       "---\n",
       "\n",
       "### **5. Eisenhower Matrix**\n",
       "This time-management framework focuses on prioritizing tasks but can be adapted for decision-making in general. It categorizes actions based on urgency and importance:\n",
       "\n",
       "1. **Important and Urgent:** Do immediately.\n",
       "2. **Important but Not Urgent:** Plan these actions.\n",
       "3. **Not Important but Urgent:** Delegate where possible.\n",
       "4. **Not Important and Not Urgent:** Eliminate or deprioritize.\n",
       "\n",
       "### **Use Case:** Useful for prioritizing actions in decision-making contexts, especially under time constraints.\n",
       "\n",
       "---\n",
       "\n",
       "### **Final Thoughts:**\n",
       "Each framework offers different advantages based on the nature of the decision, the complexity of the situation, and the decision-maker's objectives. Picking the right tool depends on whether you need adaptability (OODA Loop), analytical structure (Decision Matrix), empathy and balance (Six Thinking Hats), or contextual awareness (Cynefin Framework). Consider integrating multiple frameworks where possible to account for varied factors."
      ]
     },
     "metadata": {},
     "output_type": "display_data"
    }
   ],
   "source": [
    "// Set the overall system prompt to behave like a decision intelligence assistant (persona)\n",
    "var systemPrompt = \"\"\"\n",
    "You are a Decision Intelligence assistant. \n",
    "Assist the user in exploring options, reasoning through decisions, problem-solving, and applying systems thinking to various scenarios. \n",
    "Provide structured, logical, and comprehensive advice.\n",
    "\"\"\";\n",
    "\n",
    "// Simple instruction prompt to list 5 (five) decision frameworks this GenAI LLM is familiar with\n",
    "var simpleDecisionPrompt = \"\"\"\n",
    "Provide five Decision Frameworks that can help improve the quality of decisions.\n",
    "\"\"\";\n",
    "\n",
    "// Create a new chat history object with proper system and user message roles\n",
    "var chatHistory = new ChatHistory();\n",
    "chatHistory.AddSystemMessage(systemPrompt);\n",
    "chatHistory.AddUserMessage(simpleDecisionPrompt);\n",
    "\n",
    "// Note: The chat completion service can also be used with a chat history object, which allows for a more conversational context.\n",
    "var chatResponse = string.Empty;\n",
    "\n",
    "// Render Markdown or stream the chat completion response\n",
    "var renderMarkdown = true;\n",
    "if (renderMarkdown)\n",
    "{\n",
    "    // Get the chat completion response as a single content object\n",
    "    var chatContent = await chatCompletionService.GetChatMessageContentAsync(chatHistory);\n",
    "    chatResponse = chatContent.Content;\n",
    "    chatResponse.DisplayAs(\"text/markdown\");\n",
    "}\n",
    "else\n",
    "{\n",
    "    // Stream the chat completion response\n",
    "    await foreach (var content in chatCompletionService.GetStreamingChatMessageContentsAsync(chatHistory))\n",
    "    {\n",
    "        chatResponse += content;\n",
    "        Console.Write(content);\n",
    "    }\n",
    "}\n",
    "\n",
    "// Add the assistant's response to the chat history\n",
    "chatHistory.AddAssistantMessage(chatResponse);"
   ]
  },
  {
   "cell_type": "markdown",
   "metadata": {},
   "source": [
    "In the next step, an additional prompt instruction will be added to the chat history. From the 5 decision frameworks provided in the chat history, Generative AI is asked to recommed a framework best suited for the militaty intelligence community. Notice that the previous chat history is automatically provided to provide additional intelligence context. \n",
    "\n",
    "> 📜 \"Take time to deliberate, but when the time for action comes, stop thinking and go in.\"\n",
    ">\n",
    "> -- <cite>Napoleon Bornaparte (French Emporer and brilliant military mind)</cite>  "
   ]
  },
  {
   "cell_type": "code",
   "execution_count": 7,
   "metadata": {
    "dotnet_interactive": {
     "language": "csharp"
    },
    "polyglot_notebook": {
     "kernelName": "csharp"
    },
    "vscode": {
     "languageId": "polyglot-notebook"
    }
   },
   "outputs": [
    {
     "data": {
      "text/markdown": [
       "To determine which decision framework is best suited for the military intelligence community, it’s important to analyze the characteristics of the environment, the expectations of intelligence work, and the qualities of effective decision-making within such contexts. Let’s evaluate step-by-step which framework is most appropriate.\n",
       "\n",
       "---\n",
       "\n",
       "### Step 1: **Understand the Military Intelligence Context**\n",
       "Military intelligence operates in environments that are:\n",
       "- **Dynamic:** Situations can change quickly, often unpredictably.\n",
       "- **Complex:** Decisions involve analyzing large amounts of data, understanding adversary behavior, and assessing risks to national security.\n",
       "- **Uncertain:** There is often incomplete or ambiguous information available.\n",
       "- **Time-sensitive:** Delays can have significant operational consequences and may undermine mission success.\n",
       "- **Iterative:** Continuous analysis and reevaluation of situations are critical as new information becomes available.\n",
       "\n",
       "The decision-making framework will likely need to address **uncertainty**, **agility**, and **iteration**, while minimizing biases and maximizing operational efficiency.\n",
       "\n",
       "---\n",
       "\n",
       "### Step 2: **Evaluate the Five Frameworks**\n",
       "Let’s examine each framework against the criteria established above:\n",
       "\n",
       "#### 1. **Cynefin Framework**\n",
       "The Cynefin Framework recognizes the complexity and dynamic nature of environments by categorizing them into simple, complicated, complex, and chaotic domains. Given the diverse nature of military intelligence situations (e.g., strategy formulation, crisis management, and battlefield tactics), this framework provides a high-level structure for understanding the type of decision-making required. However, it lacks specific procedural guidance for real-time, iterative intelligence analysis.\n",
       "\n",
       "#### 2. **Six Thinking Hats**\n",
       "While the Six Thinking Hats framework encourages diverse perspectives and balances emotions, creativity, and logic, it’s better suited to group deliberations and brainstorming sessions. The intelligence community requires decision-making frameworks that emphasize urgency, agility, and iterative processes—which are less emphasized in the Six Thinking Hats approach.\n",
       "\n",
       "#### 3. **OODA Loop**\n",
       "The OODA Loop (Observe, Orient, Decide, Act) is specifically designed for dynamic, fast-changing environments that require iterative decisions based on evolving information. Intelligence gathering aligns naturally with the **Observe** phase, where data is collected and analyzed. The **Orient** phase allows analysts to contextualize data (e.g., geopolitical factors, adversary motivations). The **Decide** phase enables quick course selection, and the **Act** phase ensures execution of a decision while preparing for the next iteration. This framework is highly effective for military intelligence because it accounts for uncertainty, time sensitivity, and adaptation to new information.\n",
       "\n",
       "#### 4. **Decision Matrix Analysis**\n",
       "The Decision Matrix is ideal for structured, analytical reasoning with multiple criteria. However, military intelligence often involves fluid and uncertain situations that demand adaptation rather than static comparisons. While useful for certain technical evaluations (e.g., selecting equipment, planning logistics), the matrix lacks the agility needed to navigate the fast-paced nature of intelligence work.\n",
       "\n",
       "#### 5. **Eisenhower Matrix**\n",
       "The Eisenhower Matrix is designed for prioritizing tasks (urgent vs. important) rather than making comprehensive operational decisions. Though prioritization is necessary for intelligence, military operations often deal with overlapping urgency and importance, making this framework less suitable for navigating complex, evolving circumstances.\n",
       "\n",
       "---\n",
       "\n",
       "### Step 3: **Reasoning Through Selection**\n",
       "The framework most suited for the military intelligence community must:\n",
       "- Enable real-time adaptation to new data and circumstances.\n",
       "- Function effectively under uncertainty and time pressures.\n",
       "- Support iterative decision-making as intelligence evolves.\n",
       "\n",
       "Among the frameworks, the **OODA Loop** aligns the most closely with these requirements. Its focus on agility, iterative thinking, and rapid response makes it ideal for military intelligence scenarios.\n",
       "\n",
       "---\n",
       "\n",
       "### Final Recommendation: **OODA Loop**\n",
       "\n",
       "The OODA Loop (Observe, Orient, Decide, Act) is the single best framework for use within the military intelligence community. This framework supports critical real-time situational awareness and decision-making in dynamic, high-stakes environments, enabling intelligence professionals to adapt to evolving challenges while maintaining operational effectiveness."
      ]
     },
     "metadata": {},
     "output_type": "display_data"
    }
   ],
   "source": [
    "// Note: No reference is made to what previous frameworks were listed.\n",
    "// Note: Previous context is maintained by the Semantic Kernel ChatHistory object \n",
    "var simpleDecisionPromptFollowupQuestionPartTwo = \"\"\"\n",
    "Which of the 5 decision frameworks listed above is best suited for the military intelligence community?  \n",
    "Think carefully step by step about what decision frameworks are needed to answer the query.  \n",
    "Select only the single best framework. \n",
    "\"\"\";\n",
    "\n",
    "// Add User message to the chat history\n",
    "chatHistory.AddUserMessage(simpleDecisionPromptFollowupQuestionPartTwo);\n",
    "\n",
    "// Render Markdown or stream the chat completion response\n",
    "var renderMarkdown = true;\n",
    "if (renderMarkdown)\n",
    "{\n",
    "    // Get the chat completion response as a single content object\n",
    "    var chatContent = await chatCompletionService.GetChatMessageContentAsync(chatHistory);\n",
    "    chatResponse = chatContent.Content;\n",
    "    chatResponse.DisplayAs(\"text/markdown\");\n",
    "}\n",
    "else\n",
    "{\n",
    "    // Stream the chat completion response\n",
    "    await foreach (var content in chatCompletionService.GetStreamingChatMessageContentsAsync(chatHistory))\n",
    "    {\n",
    "        chatResponse += content;\n",
    "        Console.Write(content);\n",
    "    }\n",
    "}\n",
    "\n",
    "// Add Assistant message to the chat history\n",
    "chatHistory.AddAssistantMessage(chatResponse);"
   ]
  },
  {
   "cell_type": "markdown",
   "metadata": {},
   "source": [
    "### Step 5 - Execute Decision Chat Completion with a Multi-Turn Conversation Scenario "
   ]
  },
  {
   "cell_type": "markdown",
   "metadata": {},
   "source": [
    "> 📜 \"Price is what you pay. Value is what you get.\"  \n",
    ">\n",
    "> -- <cite>Warren Buffet (one of the most successful investors of all time)</cite>  "
   ]
  },
  {
   "cell_type": "markdown",
   "metadata": {},
   "source": [
    "Semantic Kernel can maintain state with the ChatHistory object. This allows natural converation between the user and AI to be persisted for future use. It can be saved for future reference, it can be replayed, it can be forked in certain spots to try different scenarios, it can be used as a starting point for other conversations etc. \n",
    "\n",
    "In the scenario below, let's build a multi-turn conversation about a decision over a purchase for a fitness tracker. Notice that each turn the appropriate Chat History roles are populated with the appropriate prompts and assistant (AI) responses. This in effect acts as the Gathering Intelligence step of the Decision Intelligence framework as the conversation information has been persisted and can be re-used as context for the decision scenario."
   ]
  },
  {
   "cell_type": "code",
   "execution_count": 8,
   "metadata": {
    "dotnet_interactive": {
     "language": "csharp"
    },
    "polyglot_notebook": {
     "kernelName": "csharp"
    },
    "vscode": {
     "languageId": "polyglot-notebook"
    }
   },
   "outputs": [],
   "source": [
    "// Set the overall system prompt to behave like a decision intelligence assistant (persona)\n",
    "var systemPromptDecisionConversation = \"\"\"\n",
    "You are a Decision Intelligence assistant. \n",
    "Assist the user in exploring options, reasoning through decisions, problem-solving, and applying systems thinking to various scenarios. \n",
    "Provide structured, logical, and comprehensive advice.\n",
    "\"\"\";\n",
    "\n",
    "// User prompt to start a decision conversation about buying a fitness tracker\n",
    "var userPromptDecisionConversationTurn1 = \"\"\"\n",
    "I am considering buying a fitness tracker but I am not sure which features really matter. \n",
    "Could you explain the main considerations? \n",
    "\"\"\";\n",
    "\n",
    "var assistantResponseDecisionConversationTurn1 = \"\"\"\n",
    "Absolutely! Key considerations for choosing a fitness tracker often include: \n",
    "- Fitness Features (e.g., step counting, heart-rate monitoring, workout tracking)\n",
    "- Health Monitoring (like sleep tracking or advanced ECG capabilities)\n",
    "- Battery Life\n",
    "- Comfort and Fit\n",
    "- Compatibility with your smartphone's operating system\n",
    "- Price Range\n",
    "- Knowing which of these you value most will help narrow down your options.\n",
    "\"\"\";\n",
    "\n",
    "var userPromptDecisionConversationTurn2 = \"\"\"\n",
    "Got it. Battery life and sleep tracking are both important to me. \n",
    "What's a typical battery life range for trackers, and how good is their sleep tracking?\n",
    "\"\"\";\n",
    "\n",
    "var assistantResponseDecisionConversationTurn2 = \"\"\"\n",
    "Different fitness trackers have varying battery lives, typically anywhere from 2-3 days (for more feature-rich or bright-display devices) \n",
    "up to about 10-14 days (for more minimalist trackers). \n",
    "\n",
    "Regarding sleep tracking:\n",
    "- Many modern devices can track different sleep stages (light, deep, REM).\n",
    "- High-end devices even track breathing rate and oxygen saturation during the night.\n",
    "- Some also offer insights about sleep quality and tips for improvement.\n",
    "\n",
    "If battery life is a priority, you may want to consider trackers with a more conservative display and fewer power-hungry features.\n",
    "\"\"\";\n",
    "\n",
    "var userPromptDecisionConversationTurn3 = \"\"\"\n",
    "Are there any popular models you would recommend for that balance of battery life and sleep tracking?\n",
    "\"\"\";\n",
    "\n",
    "var assistantResponseDecisionConversationTurn3 = \"\"\"\n",
    "Popular options that strike a balance between robust sleep tracking and good battery life include:\n",
    "- Fitbit Inspire 3 or Fitbit Charge 5: Both have solid sleep tracking, multi-day battery, and strong app support.\n",
    "- Garmin Vivosmart 5: Offers decent fitness and sleep insights, plus better-than-average battery life.\n",
    "- Xiaomi Mi Band 7: Budget-friendly, surprisingly robust health metrics, and a long-lasting battery.\n",
    "\n",
    "Each varies in price and features, so consider your budget and the specific metrics you’d like to track.\n",
    "\"\"\";\n",
    "\n",
    "var userPromptDecisionConversationTurn4 = \"\"\"\n",
    "That is great infor. \n",
    "I also have a friend who said I should consider an Apple Watch. \n",
    "Does that have comparable battery life and sleep tracking?\n",
    "\"\"\";\n",
    "\n",
    "var assistantResponseDecisionConversationTurn4 = \"\"\"\n",
    "The Apple Watch is known for its extensive feature set, including advanced health monitoring, \n",
    "but its battery life tends to be shorter—usually around 18-24 hours on a single charge \n",
    "(or possibly a bit more in low-power mode). While its sleep tracking features have improved over time, \n",
    "you might find you need to charge it daily or almost daily, which could conflict with your goal of 24/7 tracking. \n",
    "\"\"\";\n",
    "\n",
    "// Create a new chat history with a multi-turn conversation about buying a fitness tracker\n",
    "var chatHistoryDecisionConversation = new ChatHistory();\n",
    "chatHistoryDecisionConversation.AddSystemMessage(systemPromptDecisionConversation);\n",
    "chatHistoryDecisionConversation.AddUserMessage(userPromptDecisionConversationTurn1);\n",
    "chatHistoryDecisionConversation.AddAssistantMessage(assistantResponseDecisionConversationTurn1);\n",
    "chatHistoryDecisionConversation.AddUserMessage(userPromptDecisionConversationTurn2);\n",
    "chatHistoryDecisionConversation.AddAssistantMessage(assistantResponseDecisionConversationTurn2);\n",
    "chatHistoryDecisionConversation.AddUserMessage(userPromptDecisionConversationTurn3);\n",
    "chatHistoryDecisionConversation.AddAssistantMessage(assistantResponseDecisionConversationTurn3);\n",
    "chatHistoryDecisionConversation.AddUserMessage(userPromptDecisionConversationTurn4);\n",
    "chatHistoryDecisionConversation.AddAssistantMessage(assistantResponseDecisionConversationTurn4);\n"
   ]
  },
  {
   "cell_type": "markdown",
   "metadata": {},
   "source": [
    "Using the above conversation as the \"Gathered Intelligence\" betweeen the user and the AI assistant, let's make a final decision and ask for final feedback and a decision evaluation. "
   ]
  },
  {
   "cell_type": "code",
   "execution_count": 9,
   "metadata": {
    "dotnet_interactive": {
     "language": "csharp"
    },
    "polyglot_notebook": {
     "kernelName": "csharp"
    },
    "vscode": {
     "languageId": "polyglot-notebook"
    }
   },
   "outputs": [
    {
     "data": {
      "text/markdown": [
       "The Fitbit Inspire 3 is an excellent choice for balancing affordability, battery life (up to 10 days), and reliable sleep tracking. It also includes features such as heart rate monitoring, activity tracking, and compatibility with the Fitbit app for deeper insights—all of which should meet your needs well.\n",
       "\n",
       "Final thoughts:\n",
       "1. **Comfort and style**: Make sure the band is comfortable for long-term wear, especially since you'll be using sleep tracking at night.\n",
       "2. **App integration**: Spend a little time exploring the Fitbit app—it has valuable information and tools to maximize your tracker’s benefits for health and fitness.\n",
       "3. **Charging habits**: Since it has a long battery life, consider developing a routine (e.g., charging while you shower) to avoid interruptions.\n",
       "\n",
       "Enjoy your Fitbit! It sounds like a great fit for staying on top of battery life and sleep insights!"
      ]
     },
     "metadata": {},
     "output_type": "display_data"
    }
   ],
   "source": [
    "var userPromptDecisionConversationFinalDecision = \"\"\"\n",
    "Thank you for all of that information, I think I'll go with a Fitbit. \n",
    "The Fitbit Inspire 3 seems like a good fit for my budget and needs. \n",
    "\n",
    "Any quick final thoughts on my decision? \n",
    "\"\"\";\n",
    "\n",
    "// Add User message to the chat history\n",
    "chatHistoryDecisionConversation.AddUserMessage(userPromptDecisionConversationFinalDecision);\n",
    "\n",
    "// Render Markdown or stream the chat completion response\n",
    "var renderMarkdown = true;\n",
    "if (renderMarkdown)\n",
    "{\n",
    "    // Get the chat completion response as a single content object\n",
    "    var chatContent = await chatCompletionService.GetChatMessageContentAsync(chatHistoryDecisionConversation);\n",
    "    chatResponse = chatContent.Content;\n",
    "    chatResponse.DisplayAs(\"text/markdown\");\n",
    "}\n",
    "else\n",
    "{\n",
    "    // Stream the chat completion response\n",
    "    await foreach (var content in chatCompletionService.GetStreamingChatMessageContentsAsync(chatHistoryDecisionConversation))\n",
    "    {\n",
    "        chatResponse += content;\n",
    "        Console.Write(content);\n",
    "    }\n",
    "}"
   ]
  },
  {
   "cell_type": "markdown",
   "metadata": {},
   "source": [
    "### Step 6 - Inspect Gathered Intelligence of Chat History "
   ]
  },
  {
   "cell_type": "markdown",
   "metadata": {},
   "source": [
    "The Semantic Kernel Chat History is a transparent construct that can be inspected and written out. In fact, the ChatHistory object can be manipulated to replay chats from middle interactions to simulate different outcomes.\n",
    "\n",
    "Execute the cell below to write out the Semantic Kernel Chat History of this chat."
   ]
  },
  {
   "cell_type": "markdown",
   "metadata": {},
   "source": [
    "> 📝 Note: You can look at Chat History as a type of gathered intelligence in the Decision Intelligence framework. The interactions between users, AI models, AI processes and AI agents are all critical to use in decision-making processes. It is highly recommended to persist these chat history objects (agent threads) especially during the decision optimization steps.  "
   ]
  },
  {
   "cell_type": "code",
   "execution_count": 30,
   "metadata": {
    "dotnet_interactive": {
     "language": "csharp"
    },
    "polyglot_notebook": {
     "kernelName": "csharp"
    },
    "vscode": {
     "languageId": "polyglot-notebook"
    }
   },
   "outputs": [
    {
     "name": "stdout",
     "output_type": "stream",
     "text": [
      "Number of chat interactions: 10\r\n"
     ]
    },
    {
     "data": {
      "text/markdown": [
       "**SYSTEM**:\r\n",
       "You are a Decision Intelligence assistant. \n",
       "Assist the user in exploring options, reasoning through decisions, problem-solving, and applying systems thinking to various scenarios. \n",
       "Provide structured, logical, and comprehensive advice.\n",
       "\r\n",
       "**USER**:\r\n",
       "I am considering buying a fitness tracker but I am not sure which features really matter. \n",
       "Could you explain the main considerations? \n",
       "\r\n",
       "**ASSISTANT**:\r\n",
       "Absolutely! Key considerations for choosing a fitness tracker often include: \n",
       "- Fitness Features (e.g., step counting, heart-rate monitoring, workout tracking)\n",
       "- Health Monitoring (like sleep tracking or advanced ECG capabilities)\n",
       "- Battery Life\n",
       "- Comfort and Fit\n",
       "- Compatibility with your smartphone's operating system\n",
       "- Price Range\n",
       "- Knowing which of these you value most will help narrow down your options.\n",
       "\r\n",
       "**USER**:\r\n",
       "Got it. Battery life and sleep tracking are both important to me. \n",
       "What's a typical battery life range for trackers, and how good is their sleep tracking?\n",
       "\r\n",
       "**ASSISTANT**:\r\n",
       "Different fitness trackers have varying battery lives, typically anywhere from 2-3 days (for more feature-rich or bright-display devices) \n",
       "up to about 10-14 days (for more minimalist trackers). \n",
       "\n",
       "Regarding sleep tracking:\n",
       "- Many modern devices can track different sleep stages (light, deep, REM).\n",
       "- High-end devices even track breathing rate and oxygen saturation during the night.\n",
       "- Some also offer insights about sleep quality and tips for improvement.\n",
       "\n",
       "If battery life is a priority, you may want to consider trackers with a more conservative display and fewer power-hungry features.\n",
       "\r\n",
       "**USER**:\r\n",
       "Are there any popular models you would recommend for that balance of battery life and sleep tracking?\n",
       "\r\n",
       "**ASSISTANT**:\r\n",
       "Popular options that strike a balance between robust sleep tracking and good battery life include:\n",
       "- Fitbit Inspire 3 or Fitbit Charge 5: Both have solid sleep tracking, multi-day battery, and strong app support.\n",
       "- Garmin Vivosmart 5: Offers decent fitness and sleep insights, plus better-than-average battery life.\n",
       "- Xiaomi Mi Band 7: Budget-friendly, surprisingly robust health metrics, and a long-lasting battery.\n",
       "\n",
       "Each varies in price and features, so consider your budget and the specific metrics you’d like to track.\n",
       "\r\n",
       "**USER**:\r\n",
       "That is great infor. \n",
       "I also have a friend who said I should consider an Apple Watch. \n",
       "Does that have comparable battery life and sleep tracking?\n",
       "\r\n",
       "**ASSISTANT**:\r\n",
       "The Apple Watch is known for its extensive feature set, including advanced health monitoring, \n",
       "but its battery life tends to be shorter—usually around 18-24 hours on a single charge \n",
       "(or possibly a bit more in low-power mode). While its sleep tracking features have improved over time, \n",
       "you might find you need to charge it daily or almost daily, which could conflict with your goal of 24/7 tracking. \n",
       "\r\n",
       "**USER**:\r\n",
       "Thank you for all of that information, I think I'll go with a Fitbit. \r\n",
       "The Fitbit Inspire 3 seems like a good fit for my budget and needs. \r\n",
       "\r\n",
       "Any quick final thoughts on my decision? \n",
       "\r\n"
      ]
     },
     "metadata": {},
     "output_type": "display_data"
    }
   ],
   "source": [
    "// Print the number of chat interactions and the chat history (turns)\n",
    "Console.WriteLine(\"Number of chat interactions: \" + chatHistoryDecisionConversation.Count());\n",
    "\n",
    "// Change this to a string builder and show as markdown\n",
    "var stringBuilderChatHistory = new StringBuilder();\n",
    "foreach (var message in chatHistoryDecisionConversation)\n",
    "{\n",
    "    // add a new line for each message\n",
    "    stringBuilderChatHistory.AppendLine($\"**{message.Role.ToString().ToUpper()}**:\");\n",
    "    stringBuilderChatHistory.Append($\"{message.Content.Replace(\"#\", string.Empty)}\");\n",
    "    stringBuilderChatHistory.AppendLine(\"\\n\");\n",
    "}\n",
    "\n",
    "// Display the chat history as Markdown\n",
    "stringBuilderChatHistory.ToString().DisplayAs(\"text/markdown\");"
   ]
  },
  {
   "cell_type": "markdown",
   "metadata": {},
   "source": [
    "By persisting the Decision Intelligence chats and making them available for inspection, can further help the decision-making process. For example you can load the Chat History summarize it or even have AI recommend optimizations for it based on the conversation. \n",
    "\n",
    "> 📝 Note: The process below is simplified to illustrate the power of Gathering Intelligence with user <--> AI interactions. More advanced best practices will be introduced in further sections. "
   ]
  },
  {
   "cell_type": "code",
   "execution_count": 33,
   "metadata": {
    "dotnet_interactive": {
     "language": "csharp"
    },
    "polyglot_notebook": {
     "kernelName": "csharp"
    },
    "vscode": {
     "languageId": "polyglot-notebook"
    }
   },
   "outputs": [
    {
     "data": {
      "text/markdown": [
       "You considered buying a fitness tracker and identified key priorities like battery life and sleep tracking. After exploring typical battery ranges (2-14 days) and features, I recommended models like the Fitbit Inspire 3, Fitbit Charge 5, Garmin Vivosmart 5, and Xiaomi Mi Band 7 for their balance of these features. You also compared the Apple Watch, which offers advanced features but shorter battery life. Ultimately, you decided that the Fitbit Inspire 3 aligns best with your budget and needs."
      ]
     },
     "metadata": {},
     "output_type": "display_data"
    },
    {
     "data": {
      "text/markdown": [
       "To optimize decision-making in interactions like these, the AI could refine its approach in the following ways:\n",
       "\n",
       "### 1. **Structure the Decision Process More Explicitly**\n",
       "   - Break down the decision into stages (e.g., identifying priorities → exploring options → comparing trade-offs → confirming the decision).\n",
       "   - Use a decision matrix or criteria checklist to help the user assess choices more objectively.\n",
       "\n",
       "### 2. **Provide Tailored Comparisons**\n",
       "   - List pros and cons for each option based purely on the user's stated needs (e.g., battery life and sleep tracking).\n",
       "   - Highlight edge cases or limitations, such as charging constraints or variances in data accuracy.\n",
       "\n",
       "### 3. **Introduce Additional Decision Factors**\n",
       "   - Suggest considering warranty, durability, water resistance, and long-term compatibility with the user's other devices.\n",
       "   - Incorporate the ecosystem of the device (e.g., ease-of-use of the app or long-term software updates).\n",
       "\n",
       "### 4. **Expand Contextual Insights**\n",
       "   - Offer potential future needs the user might not currently anticipate, like stress monitoring or compatibility with new health-tech trends.\n",
       "   - Highlight ongoing benefits (e.g., community features within Fitbit or motivation provided by competitions).\n",
       "\n",
       "### 5. **Guide Post-Decision Planning**\n",
       "   - Provide tips on next steps after choosing the tracker (e.g., explore app tutorials, set fitness goals, or optimize sleep tracking settings).\n",
       "   - Briefly discuss user feedback/reviews to reinforce the choice made.\n",
       "\n",
       "### 6. **Use More Visual Tools**\n",
       "   - Present data visually via tables, charts, or side-by-side comparisons to help the user more clearly evaluate options in one glance.\n",
       "\n",
       "### 7. **Address Cognitive Biases**\n",
       "   - Mitigate decision fatigue by summarizing a few top choices based on stated priorities.\n",
       "   - Help the user question assumptions about brands or features they might value excessively (e.g., pointing out trade-offs of the Apple Watch).\n",
       "\n",
       "By integrating these aspects, decision-making becomes more thorough, systematic, and engaging, enabling the user to confidently choose from options while prioritizing their needs."
      ]
     },
     "metadata": {},
     "output_type": "display_data"
    }
   ],
   "source": [
    "var userPromptSummarizeTheDecisionChat = \"\"\"\n",
    "Briefly summarize the chat conversation about buying a fitness tracker.\n",
    "\"\"\";\n",
    "\n",
    "// Add User message to the chat history\n",
    "chatHistoryDecisionConversation.AddUserMessage(userPromptSummarizeTheDecisionChat);\n",
    "\n",
    "var chatContent = await chatCompletionService.GetChatMessageContentAsync(chatHistoryDecisionConversation);\n",
    "chatResponse = chatContent.Content;\n",
    "chatResponse.DisplayAs(\"text/markdown\");\n",
    "\n",
    "// Optimize the chat history for any future decision interactions\n",
    "var userPromptOptimizeTheDecisionChat = \"\"\"\n",
    "Based on the chat conversation so far...\n",
    "Provide some recommendations on how the decision interactions could be optimized for decision-making.\n",
    "What are some considerations for the AI to help the use make even better decisions?\n",
    "\"\"\";\n",
    "\n",
    "// Add User message to the chat history\n",
    "chatHistoryDecisionConversation.AddUserMessage(userPromptOptimizeTheDecisionChat);\n",
    "\n",
    "var chatContentOptimization = await chatCompletionService.GetChatMessageContentAsync(chatHistoryDecisionConversation);\n",
    "var chatResponseOptimization = chatContentOptimization.Content;\n",
    "chatResponseOptimization.DisplayAs(\"text/markdown\");"
   ]
  }
 ],
 "metadata": {
  "kernelspec": {
   "display_name": ".NET (C#)",
   "language": "C#",
   "name": ".net-csharp"
  },
  "language_info": {
   "name": "csharp"
  },
  "polyglot_notebook": {
   "kernelInfo": {
    "defaultKernelName": "csharp",
    "items": [
     {
      "aliases": [],
      "name": "csharp"
     }
    ]
   }
  }
 },
 "nbformat": 4,
 "nbformat_minor": 2
}
