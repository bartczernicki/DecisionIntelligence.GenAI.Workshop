{
 "cells": [
  {
   "cell_type": "markdown",
   "metadata": {},
   "source": [
    "<img style=\"float: left;padding-right: 10px\" width =\"40px\" src=\"https://raw.githubusercontent.com/bartczernicki/DecisionIntelligence.GenAI.Workshop/main/Images/SemanticKernelLogo.png\">\n",
    "\n",
    "## Semantic Kernel - Chat Completion for Decisions "
   ]
  },
  {
   "cell_type": "markdown",
   "metadata": {},
   "source": [
    "Decision Intelligence applied in this module:  \n",
    "* Listing of various decision-making frameworks and with their descriptions by using Chat Completion  \n",
    "* Decision Scenario: Recommendation of a decision-making framework for specific higher-stakes decisions (purchase of a car)  \n",
    "* Illustrating a domain specific decision-making framework (millitary intelligence)  \n"
   ]
  },
  {
   "cell_type": "markdown",
   "metadata": {},
   "source": [
    "In this module, the Semantic Kernel ability to create a chat experience will be introduced. This is a much richer experience than just sending simple prompts that are stateless and context is forgotten.\n",
    "\n",
    "Semantic Kernel has first-class support for chat scenarios, where the user talks back and forth with the LLM, the arguments get populated with the history of the conversation. During each new run of the kernel, the arguments will be provided to the AI with content. This allows the LLM to know the historical context of the conversation."
   ]
  },
  {
   "cell_type": "markdown",
   "metadata": {},
   "source": [
    "### Step 1 - Initialize Configuration Builder & Build the Semantic Kernel Orchestration"
   ]
  },
  {
   "cell_type": "markdown",
   "metadata": {},
   "source": [
    "Execute the next two cells to:\n",
    "* Use the Configuration Builder to load the API secrets.  \n",
    "* Use the API configuration to build the Semantic Kernel orchestrator."
   ]
  },
  {
   "cell_type": "code",
   "execution_count": 1,
   "metadata": {
    "dotnet_interactive": {
     "language": "csharp"
    },
    "polyglot_notebook": {
     "kernelName": "csharp"
    },
    "vscode": {
     "languageId": "polyglot-notebook"
    }
   },
   "outputs": [
    {
     "data": {
      "text/html": [
       "<div><div></div><div></div><div><strong>Installed Packages</strong><ul><li><span>Microsoft.Extensions.Configuration, 9.0.0</span></li><li><span>Microsoft.Extensions.Configuration.Json, 9.0.0</span></li></ul></div></div>"
      ]
     },
     "metadata": {},
     "output_type": "display_data"
    }
   ],
   "source": [
    "// Import the required NuGet configuration packages\n",
    "#r \"nuget: Microsoft.Extensions.Configuration, 9.0.0\"\n",
    "#r \"nuget: Microsoft.Extensions.Configuration.Json, 9.0.0\"\n",
    "\n",
    "using Microsoft.Extensions.Configuration.Json;\n",
    "using Microsoft.Extensions.Configuration;\n",
    "using System.IO;\n",
    "\n",
    "// Load the configuration settings from the local.settings.json and secrets.settings.json files\n",
    "// The secrets.settings.json file is used to store sensitive information such as API keys\n",
    "var configurationBuilder = new ConfigurationBuilder()\n",
    "    .SetBasePath(Directory.GetCurrentDirectory())\n",
    "    .AddJsonFile(\"local.settings.json\", optional: true, reloadOnChange: true)\n",
    "    .AddJsonFile(\"secrets.settings.json\", optional: true, reloadOnChange: true);\n",
    "var config = configurationBuilder.Build();\n",
    "\n",
    "// IMPORTANT: You ONLY NEED either Azure OpenAI or OpenAI connectiopn info, not both.\n",
    "// Azure OpenAI Connection Info\n",
    "var azureOpenAIEndpoint = config[\"AzureOpenAI:Endpoint\"];\n",
    "var azureOpenAIAPIKey = config[\"AzureOpenAI:APIKey\"];\n",
    "var azureOpenAIModelDeploymentName = config[\"AzureOpenAI:ModelDeploymentName\"];\n",
    "// OpenAI Connection Info \n",
    "var openAIAPIKey = config[\"OpenAI:APIKey\"];\n",
    "var openAIModelId = config[\"OpenAI:ModelId\"];"
   ]
  },
  {
   "cell_type": "code",
   "execution_count": 2,
   "metadata": {
    "dotnet_interactive": {
     "language": "csharp"
    },
    "polyglot_notebook": {
     "kernelName": "csharp"
    },
    "vscode": {
     "languageId": "polyglot-notebook"
    }
   },
   "outputs": [
    {
     "data": {
      "text/html": [
       "<div><div></div><div></div><div><strong>Installed Packages</strong><ul><li><span>Microsoft.Extensions.DependencyInjection, 9.0.0</span></li><li><span>Microsoft.SemanticKernel, 1.32.0</span></li></ul></div></div>"
      ]
     },
     "metadata": {},
     "output_type": "display_data"
    },
    {
     "name": "stdout",
     "output_type": "stream",
     "text": [
      "Using Azure OpenAI Service\n"
     ]
    }
   ],
   "source": [
    "// Install the required NuGet packages\n",
    "// Note: This also installs the Dependency Injection Package to retrieve the ChatCompletionService\n",
    "#r \"nuget: Microsoft.Extensions.DependencyInjection, 9.0.0\"\n",
    "#r \"nuget: Microsoft.SemanticKernel, 1.32.0\"\n",
    "\n",
    "using Microsoft.Extensions.DependencyInjection.Extensions;\n",
    "using Microsoft.Extensions.DependencyInjection;\n",
    "using Microsoft.SemanticKernel;\n",
    "using Microsoft.SemanticKernel.ChatCompletion;\n",
    "using Microsoft.SemanticKernel.Connectors.OpenAI;\n",
    "\n",
    "Kernel semanticKernel;\n",
    "\n",
    "// Set the flag to use Azure OpenAI or OpenAI. False to use OpenAI, True to use Azure OpenAI\n",
    "var useAzureOpenAI = true;\n",
    "\n",
    "// Create a new Semantic Kernel instance\n",
    "if (useAzureOpenAI)\n",
    "{\n",
    "    Console.WriteLine(\"Using Azure OpenAI Service\");\n",
    "    semanticKernel = Kernel.CreateBuilder()\n",
    "        .AddAzureOpenAIChatCompletion(\n",
    "            deploymentName: azureOpenAIModelDeploymentName,\n",
    "            endpoint: azureOpenAIEndpoint,\n",
    "            apiKey: azureOpenAIAPIKey)\n",
    "        .Build();\n",
    "}\n",
    "else\n",
    "{\n",
    "    Console.WriteLine(\"Using OpenAI Service\");\n",
    "    semanticKernel = Kernel.CreateBuilder()\n",
    "        .AddOpenAIChatCompletion(\n",
    "            modelId: openAIModelId,\n",
    "            apiKey: openAIAPIKey)\n",
    "        .Build();\n",
    "}\n",
    "\n",
    "var chatCompletionService = semanticKernel.Services.GetRequiredService<IChatCompletionService>();"
   ]
  },
  {
   "cell_type": "markdown",
   "metadata": {},
   "source": [
    "### Step 2 - Execute Chat Completion with Prompt Execution Settings "
   ]
  },
  {
   "cell_type": "markdown",
   "metadata": {},
   "source": [
    "> \"If you can’t describe what you are doing as a process, you don’t know what you’re doing.\" \n",
    ">\n",
    "> -- <cite>W. Edwards Deming (renowned American engineer, statistician, and management consultant)</cite>  \n",
    "\n",
    "\n",
    "Using the Semantic Kernel ChatCompletion service is very similar to inovoking a prompt for basic LLM interactions. The chat completion service will provide very similar results to invoking the prompt directly."
   ]
  },
  {
   "cell_type": "code",
   "execution_count": 3,
   "metadata": {
    "dotnet_interactive": {
     "language": "csharp"
    },
    "polyglot_notebook": {
     "kernelName": "csharp"
    },
    "vscode": {
     "languageId": "polyglot-notebook"
    }
   },
   "outputs": [
    {
     "name": "stdout",
     "output_type": "stream",
     "text": [
      "Certainly! Here are five decision frameworks that can help improve the quality of decisions:\n",
      "\n",
      "1. **SWOT Analysis (Strengths, Weaknesses, Opportunities, Threats)**:\n",
      "   - This framework helps in understanding the internal and external factors that can impact a decision. By analyzing strengths and weaknesses (internal factors) and opportunities and threats (external factors), decision-makers can develop strategies that leverage strengths and opportunities while mitigating weaknesses and threats.\n",
      "\n",
      "2. **Decision Matrix (Weighted Scoring Model)**:\n",
      "   - This involves listing all the options and criteria important for the decision, assigning weights to each criterion based on its importance, and scoring each option against each criterion. The weighted scores are then summed to determine the best option. This framework helps in making objective and quantifiable comparisons between different choices.\n",
      "\n",
      "3. **Cost-Benefit Analysis (CBA)**:\n",
      "   - This framework involves comparing the costs and benefits of each option. By quantifying the costs and benefits, decision-makers can evaluate which option provides the greatest net benefit. This is particularly useful for financial and economic decisions.\n",
      "\n",
      "4. **Pros and Cons List**:\n",
      "   - A simple yet effective framework where decision-makers list the advantages (pros) and disadvantages (cons) of each option. This helps in visualizing the positive and negative aspects of each choice, facilitating a more balanced decision.\n",
      "\n",
      "5. **The OODA Loop (Observe, Orient, Decide, Act)**:\n",
      "   - Originally developed for military strategy, this framework involves four steps: observing the current situation, orienting by analyzing and synthesizing the information, deciding on a course of action, and acting on that decision. The loop is continuous, allowing for adjustments based on feedback and new information. This framework is particularly useful in dynamic and rapidly changing environments.\n",
      "\n",
      "These frameworks can be used individually or in combination to enhance the decision-making process, ensuring that decisions are well-informed, balanced, and aligned with strategic goals.\n"
     ]
    }
   ],
   "source": [
    "// Simple prompt to list some decision frameworks this GenAI LLM is familiar with \n",
    "// LLMs are trained on a diverse range of data and can provide insights on a wide range of topics like decision frameworks\n",
    "// SLMS (smaller LLMs) are trained on a more specific range of data and may not provide insights on all topics\n",
    "var simpleDecisionPrompt = \"\"\"\n",
    "Provide a list of 5 decision frameworks that can help improve the quality of decisions.\n",
    "\"\"\";\n",
    "\n",
    "// Create a new OpenAI prompt execution settings object\n",
    "var openAIPromptExecutionSettings = new OpenAIPromptExecutionSettings { \n",
    "    MaxTokens = 1000, \n",
    "    Temperature = 0.1, \n",
    "    TopP = 1.0, \n",
    "    FrequencyPenalty = 0.0, \n",
    "    PresencePenalty = 0.0\n",
    "    };\n",
    "\n",
    "var chatResult = await chatCompletionService.GetChatMessageContentAsync(simpleDecisionPrompt, openAIPromptExecutionSettings);\n",
    "\n",
    "Console.WriteLine(chatResult.Content);"
   ]
  },
  {
   "cell_type": "markdown",
   "metadata": {},
   "source": [
    "### Step 3 - Execute Chat Completion with Streaming "
   ]
  },
  {
   "cell_type": "markdown",
   "metadata": {},
   "source": [
    "Semantic Kernel supports prompt response streaming in the ChatCompletionService. This allows responses to be streamed to the client as soon as they are made available by the LLM and API services. Below the same decision prompt is executed. However, notice that chunks are streamed and can be read by the user as soon as they appear. "
   ]
  },
  {
   "cell_type": "code",
   "execution_count": 4,
   "metadata": {
    "dotnet_interactive": {
     "language": "csharp"
    },
    "polyglot_notebook": {
     "kernelName": "csharp"
    },
    "vscode": {
     "languageId": "polyglot-notebook"
    }
   },
   "outputs": [
    {
     "name": "stdout",
     "output_type": "stream",
     "text": [
      "Certainly! Here are five decision frameworks that can help improve the quality of decisions:\n",
      "\n",
      "1. **SWOT Analysis (Strengths, Weaknesses, Opportunities, Threats):**\n",
      "   - **Strengths:** Identifies internal attributes and resources that support a successful outcome.\n",
      "   - **Weaknesses:** Identifies internal attributes and resources that work against a successful outcome.\n",
      "   - **Opportunities:** External factors the project can exploit to its advantage.\n",
      "   - **Threats:** External factors that could cause trouble for the project.\n",
      "\n",
      "2. **Decision Matrix Analysis (or Grid Analysis):**\n",
      "   - A table used to evaluate a list of options by scoring them against a list of criteria. Each criterion is weighted based on its importance, and the options are scored accordingly to help identify the best choice.\n",
      "\n",
      "3. **Cost-Benefit Analysis:**\n",
      "   - Compares the total expected cost of each option against the total expected benefits to determine the best option in terms of financial profitability or resource efficiency.\n",
      "\n",
      "4. **The OODA Loop (Observe, Orient, Decide, Act):**\n",
      "   - A cyclic decision-making process originally developed for military operations, this involves:\n",
      "     - **Observe:** Gathering data and information.\n",
      "     - **Orient:** Analyzing and synthesizing the information.\n",
      "     - **Decide:** Determining a course of action based on that information.\n",
      "     - **Act:** Implementing the chosen course of action.\n",
      "\n",
      "5. **The Six Thinking Hats:**\n",
      "   - Developed by Edward de Bono, this method involves looking at a decision from six distinct perspectives (hats) to uncover different aspects and considerations:\n",
      "     - **White Hat:** Focuses on data, facts, and information.\n",
      "     - **Red Hat:** Looks at decisions using intuition, gut reaction, and emotion.\n",
      "     - **Black Hat:** Considers the negative aspects and potential problems.\n",
      "     - **Yellow Hat:** Explores the positives and benefits.\n",
      "     - **Green Hat:** Looks at creativity and alternatives.\n",
      "     - **Blue Hat:** Manages the decision-making process.\n",
      "\n",
      "Using these frameworks can help structure thinking, ensure a thorough examination of options, and enhance the overall quality of decision-making."
     ]
    }
   ],
   "source": [
    "// Stream the chat completion response\n",
    "await foreach (var content in chatCompletionService.GetStreamingChatMessageContentsAsync(simpleDecisionPrompt))\n",
    "{\n",
    "    Console.Write(content);\n",
    "}"
   ]
  },
  {
   "cell_type": "markdown",
   "metadata": {},
   "source": [
    "### Step 4 - Execute Chat Completion with Chat History "
   ]
  },
  {
   "cell_type": "markdown",
   "metadata": {},
   "source": [
    "Semantic Kernel has a ChatHistory object that can be used with the ChatCompletionService to provide historical chat context to the LLM. Notice that the ChatHistory object differentiates between the different types of chat messages:\n",
    "* System Message - System or MetaPrompt. These are usually global instructions that set the \"overall rules\" for interacting with the LLMs.\n",
    "* User Message - A message from the user\n",
    "* Assistant Message - A message from the LLM. This is a message generated from an assistant or an agent. \n",
    "\n",
    "Identifying the messages from which role (user) it came from can help the LLM improve its own reasoning responses. This is a more sophisticated approach than passing chat history in a long dynamic string. ChatHistory objects can be serialized and persisted into databases as well."
   ]
  },
  {
   "cell_type": "code",
   "execution_count": 5,
   "metadata": {
    "dotnet_interactive": {
     "language": "csharp"
    },
    "polyglot_notebook": {
     "kernelName": "csharp"
    },
    "vscode": {
     "languageId": "polyglot-notebook"
    }
   },
   "outputs": [
    {
     "name": "stdout",
     "output_type": "stream",
     "text": [
      "Sure! Here are five Decision Frameworks that can help improve the quality of decisions:\n",
      "\n",
      "1. **SWOT Analysis (Strengths, Weaknesses, Opportunities, Threats)**\n",
      "   - **Purpose:** To assess internal and external factors related to a decision.\n",
      "   - **How it Works:** \n",
      "     - Identify and list strengths intrinsic to the organization or option.\n",
      "     - Identify and list weaknesses or limitations.\n",
      "     - Identify and evaluate external opportunities that could be advantageous.\n",
      "     - Identify and consider external threats that could pose risks.\n",
      "   - **Application:** Helps in strategic planning, risk management, and choosing between options by understanding a broader context and implications.\n",
      "\n",
      "2. **Decision Matrix (also known as Multi-Criteria Decision Analysis)**\n",
      "   - **Purpose:** To evaluate and prioritize a list of options based on multiple criteria.\n",
      "   - **How it Works:** \n",
      "     - List all the options to be considered.\n",
      "     - Identify relevant criteria for decision-making.\n",
      "     - Assign weights to each criterion based on importance.\n",
      "     - Score each option against each criterion.\n",
      "     - Calculate a weighted sum for each option and compare results.\n",
      "   - **Application:** Useful when there are multiple competing options and complex criteria that need to be balanced.\n",
      "\n",
      "3. **Cost-Benefit Analysis**\n",
      "   - **Purpose:** To quantify the costs and benefits of a decision to understand its net value.\n",
      "   - **How it Works:** \n",
      "     - Identify all costs associated with the decision, both direct and indirect.\n",
      "     - Identify all benefits, both tangible and intangible.\n",
      "     - Assign monetary values to all costs and benefits.\n",
      "     - Compare the total costs against the total benefits to calculate net gain or loss.\n",
      "   - **Application:** Effective in financial and economic decision-making to ensure investments deliver positive returns.\n",
      "\n",
      "4. **Pros and Cons List**\n",
      "   - **Purpose:** To systematically explore the positive and negative aspects of a decision.\n",
      "   - **How it Works:** \n",
      "     - List all the advantages (pros) of taking the decision.\n",
      "     - List all the disadvantages (cons) of taking the decision.\n",
      "     - Evaluate the significance of each pro and con.\n",
      "     - Weigh and compare both sides to arrive at a balanced perspective.\n",
      "   - **Application:** Simple yet powerful for quick, straightforward decision-making where qualitative factors matter significantly.\n",
      "\n",
      "5. **Scenario Analysis**\n",
      "   - **Purpose:** To explore and prepare for possible future conditions based on different scenarios.\n",
      "   - **How it Works:** \n",
      "     - Identify key variables that could impact the decision.\n",
      "     - Develop a range of scenarios by varying these key variables (best-case, worst-case, most likely, etc.).\n",
      "     - Assess the implications of each scenario on the decision.\n",
      "     - Develop strategies to maximize opportunities and mitigate risks for each scenario.\n",
      "   - **Application:** Useful for strategic planning, risk analysis, and preparing for uncertainty by visualizing various future conditions.\n",
      "\n",
      "Each of these frameworks can be adapted and combined depending on the specific context and complexity of the decision to be made. Using a structured approach improves clarity, objectivity, and confidence in the decision-making process."
     ]
    }
   ],
   "source": [
    "// Set the overall system prompt to behave like a decision intelligence assistant (persona)\n",
    "var systemPrompt = \"\"\"\n",
    "You are a decision intelligence assistant. \n",
    "Assist the user in exploring options, reasoning through decisions, problem-solving, and applying systems thinking to various scenarios. \n",
    "Provide structured, logical, and comprehensive advice.\n",
    "\"\"\";\n",
    "\n",
    "// Simple instruction prompt to list 5 (five) decision frameworks this GenAI LLM is familiar with\n",
    "var simpleDecisionPrompt = \"\"\"\n",
    "Provide five Decision Frameworks that can help improve the quality of decisions.\n",
    "\"\"\";\n",
    "\n",
    "// Create a new chat history object with proper system and user message roles\n",
    "var chatHistory = new ChatHistory();\n",
    "chatHistory.AddSystemMessage(systemPrompt);\n",
    "chatHistory.AddUserMessage(simpleDecisionPrompt);\n",
    "\n",
    "var chatResponse = string.Empty;\n",
    "await foreach (var content in chatCompletionService.GetStreamingChatMessageContentsAsync(chatHistory))\n",
    "{\n",
    "    chatResponse += content;\n",
    "    Console.Write(content);\n",
    "}\n",
    "chatHistory.AddAssistantMessage(chatResponse);"
   ]
  },
  {
   "cell_type": "markdown",
   "metadata": {},
   "source": [
    "In the next step, an additional prompt instruction will be added to the chat history. From the 5 decision frameworks provided in the chat history, Generative AI is asked to recommed a framework best suited for the militaty intelligence community. Notice that the previous chat history is automatically provided to provide additional intelligence context. \n",
    "\n",
    "> \"Take time to deliberate, but when the time for action comes, stop thinking and go in.\"\n",
    ">\n",
    "> -- <cite>Napoleon Bornaparte (French Emporer and brilliant military mind)</cite>  "
   ]
  },
  {
   "cell_type": "code",
   "execution_count": 7,
   "metadata": {
    "dotnet_interactive": {
     "language": "csharp"
    },
    "polyglot_notebook": {
     "kernelName": "csharp"
    },
    "vscode": {
     "languageId": "polyglot-notebook"
    }
   },
   "outputs": [
    {
     "name": "stdout",
     "output_type": "stream",
     "text": [
      "For the military intelligence community, the **SWOT Analysis (Strengths, Weaknesses, Opportunities, Threats)** framework is particularly well-suited. Here's why:\n",
      "\n",
      "1. **Comprehensive Assessment**: SWOT Analysis provides a holistic view by examining internal and external factors, which is crucial for strategic military planning and intelligence assessment.\n",
      "\n",
      "2. **Strategic Planning**: Military intelligence often involves planning and decision-making based on both strengths and weaknesses (internal factors) as well as opportunities and threats (external factors).\n",
      "\n",
      "3. **Risk Management**: Identifying weaknesses and threats helps in understanding potential risks and vulnerabilities, allowing for better risk mitigation strategies.\n",
      "\n",
      "4. **Opportunity Identification**: Recognizing opportunities can help identify new tactics, technological advancements, or strategic alliances that could provide an advantage.\n",
      "\n",
      "5. **Actionable Insights**: By thoroughly analyzing these four areas, military intelligence can develop actionable strategies, contingency plans, and resource allocations.\n",
      "\n",
      "**How to Apply SWOT Analysis in the Military Intelligence Community**:\n",
      "\n",
      "1. **Strengths**:\n",
      "   - Identify and list current capabilities, resources, and successful strategies or tactics.\n",
      "   - Consider technological advantages, skilled personnel, and intelligence assets.\n",
      "\n",
      "2. **Weaknesses**:\n",
      "   - Assess and document areas of vulnerability or deficiencies.\n",
      "   - Consider resource limitations, outdated equipment, gaps in intelligence, and training needs.\n",
      "\n",
      "3. **Opportunities**:\n",
      "   - Look for external factors that can be leveraged to advantage.\n",
      "   - Consider geopolitical changes, alliances, technological breakthroughs, and intelligence sharing opportunities.\n",
      "\n",
      "4. **Threats**:\n",
      "   - Identify potential external dangers or adversarial actions.\n",
      "   - Consider enemy capabilities, geopolitical tensions, cybersecurity threats, and other risks.\n",
      "\n",
      "By using SWOT Analysis, the military intelligence community can make well-rounded and informed decisions, develop effective strategies, and ensure preparedness for various scenarios. This methodology allows intelligence professionals to systematically evaluate all aspects of their environment, leading to improved decision-making and strategic planning."
     ]
    }
   ],
   "source": [
    "// Note: No reference is made to what previous frameworks were listed.\n",
    "// Note: Previous context is maintained by the Semantic Kernel ChatHistory object \n",
    "var simpleDecisionPromptFollowupQuestionPartTwo = \"\"\"\n",
    "Which of these 5 decision frameworks listed above is best suited for the military intelligence community?\n",
    "\"\"\";\n",
    "\n",
    "// Add User message to the chat history\n",
    "chatHistory.AddUserMessage(simpleDecisionPromptFollowupQuestionPartTwo);\n",
    "\n",
    "var chatResponse = string.Empty;\n",
    "await foreach (var content in chatCompletionService.GetStreamingChatMessageContentsAsync(chatHistory))\n",
    "{\n",
    "    chatResponse += content;\n",
    "    Console.Write(content);\n",
    "}\n",
    "\n",
    "// Add Assistant message to the chat history\n",
    "chatHistory.AddAssistantMessage(chatResponse);"
   ]
  },
  {
   "cell_type": "markdown",
   "metadata": {},
   "source": [
    "### Step 5 - Using Chat History in a Decision Conversation "
   ]
  },
  {
   "cell_type": "markdown",
   "metadata": {},
   "source": [
    "With Semantic Kernel maintaining state with the ChatHistory object, a user can interact with the LLM in a natural way. Note the interaction below, where the user is asking which of the particular decision frameworks are best suited to purchase a car. Without the ChatHistory being passed along, the LLM would not have had the proper context to answer the question.\n",
    "\n",
    "> \"Price is what you pay. Value is what you get.\"  \n",
    ">\n",
    "> -- <cite>Warren Buffet (one of the most successful investors of all time)</cite>  "
   ]
  },
  {
   "cell_type": "code",
   "execution_count": 6,
   "metadata": {
    "dotnet_interactive": {
     "language": "csharp"
    },
    "polyglot_notebook": {
     "kernelName": "csharp"
    },
    "vscode": {
     "languageId": "polyglot-notebook"
    }
   },
   "outputs": [
    {
     "name": "stdout",
     "output_type": "stream",
     "text": [
      "For making a decision to purchase a car, the **Decision Matrix (also known as Multi-Criteria Decision Analysis)** would likely work best. Here’s why:\n",
      "\n",
      "1. **Multiple Criteria**: Buying a car involves various factors such as cost, fuel efficiency, maintenance costs, safety features, brand reliability, resale value, and more. A decision matrix allows you to consider all these criteria systematically.\n",
      "\n",
      "2. **Weighted Importance**: You might value some factors more than others (e.g., safety might be more important to you than resale value). A decision matrix lets you assign weights to each criterion based on your priorities.\n",
      "\n",
      "3. **Comparative Analysis**: You can compare multiple car models objectively. By scoring each model against the criteria and calculating the weighted sum, you can visualize which car offers the best overall value based on your preferences.\n",
      "\n",
      "**How to Apply the Decision Matrix for Purchasing a Car**:\n",
      "\n",
      "1. **List the Options**: Identify the car models you are considering.\n",
      "2. **Identify Criteria**: Determine the factors important to you (e.g., price, fuel efficiency, safety rating, etc.).\n",
      "3. **Assign Weights**: Assign a weight to each criterion based on its importance to you (e.g., safety 30%, price 20%, fuel efficiency 20%, etc.).\n",
      "4. **Score each Option**: Rate each car model against each criterion on a consistent scale (e.g., 1 to 10).\n",
      "5. **Calculate Weighted Scores**: Multiply each car’s score by the weight of the criterion, and sum these weighted scores for each car.\n",
      "6. **Compare Results**: The car with the highest total weighted score can be considered the most suitable choice based on your criteria.\n",
      "\n",
      "Using the Decision Matrix framework will provide a comprehensive and quantified approach to making a well-informed car purchase decision."
     ]
    }
   ],
   "source": [
    "// Simple prompt that asks a follow-up question about the purchase of a car\n",
    "// Note: No reference is made to what previous frameworks were listed.\n",
    "// Note: Previous context is maintained by the Semantic Kernel ChatHistory object \n",
    "var simpleDecisionPromptFollowupQuestion = \"\"\"\n",
    "Which of these 5 decision frameworks would work best for making a decision to purchase a car. \n",
    "Select only the single best one.\n",
    "\"\"\";\n",
    "\n",
    "// Add User message to the chat history\n",
    "chatHistory.AddUserMessage(simpleDecisionPromptFollowupQuestion);\n",
    "\n",
    "var chatResponse = string.Empty;\n",
    "await foreach (var content in chatCompletionService.GetStreamingChatMessageContentsAsync(chatHistory))\n",
    "{\n",
    "    chatResponse += content;\n",
    "    Console.Write(content);\n",
    "}\n",
    "\n",
    "// Add Assistant message to the chat history\n",
    "chatHistory.AddAssistantMessage(chatResponse);"
   ]
  },
  {
   "cell_type": "markdown",
   "metadata": {},
   "source": [
    "### Step 6 - Semantic Kernel inspecting Decision Chat History "
   ]
  },
  {
   "cell_type": "markdown",
   "metadata": {},
   "source": [
    "The Semantic Kernel Chat History is a transparent construct that can be inspected and written out. In fact, the ChatHistory object can be manipulated to replay chats from middle interactions to simulate different outcomes.\n",
    "\n",
    "Execute the cell below to write out the Semantic Kernel Chat History of this chat."
   ]
  },
  {
   "cell_type": "code",
   "execution_count": 8,
   "metadata": {
    "dotnet_interactive": {
     "language": "csharp"
    },
    "polyglot_notebook": {
     "kernelName": "csharp"
    },
    "vscode": {
     "languageId": "polyglot-notebook"
    }
   },
   "outputs": [
    {
     "name": "stdout",
     "output_type": "stream",
     "text": [
      "Number of chat interactions: 7\n",
      "# system: You are a decision intelligence assistant. \n",
      "Assist the user in exploring options, reasoning through decisions, problem-solving, and applying systems thinking to various scenarios. \n",
      "Provide structured, logical, and comprehensive advice.\n",
      "# user: Provide five Decision Frameworks that can help improve the quality of decisions.\n",
      "# assistant: Certainly! Decision frameworks are structured approaches that help guide thinking and improve the quality of decisions. Here are five widely-used decision frameworks:\n",
      "\n",
      "1. **SWOT Analysis**:\n",
      "   - **Strengths**: Identify internal attributes that are helpful to achieving the objective.\n",
      "   - **Weaknesses**: Identify internal attributes that are harmful to achieving the objective.\n",
      "   - **Opportunities**: Identify external conditions that are helpful to achieving the objective.\n",
      "   - **Threats**: Identify external conditions which could do damage to the objective.\n",
      "   - **Application**: SWOT is useful for strategic planning, evaluating business or project feasibility, and identifying key areas for improvement.\n",
      "\n",
      "2. **Cost-Benefit Analysis (CBA)**:\n",
      "   - **Costs**: List and quantify all costs associated with the decision.\n",
      "   - **Benefits**: List and quantify all benefits associated with the decision.\n",
      "   - **Comparison**: Compare the total costs against the total benefits to determine whether the benefits outweigh the costs.\n",
      "   - **Application**: This framework is particularly useful for economic decisions, business investments, project evaluations, and policy decisions.\n",
      "\n",
      "3. **Decision Matrix (Weighted Scoring Model)**:\n",
      "   - **Criteria Identification**: List the criteria important for making the decision.\n",
      "   - **Weight Assignment**: Assign weights to each criterion based on their importance.\n",
      "   - **Alternative Scoring**: Evaluate each alternative against the criteria and score them.\n",
      "   - **Calculation and Ranking**: Multiply scores by weights, sum them up, and rank the alternatives.\n",
      "   - **Application**: A decision matrix is useful for comparing multiple options when the decision context involves evaluating numerous criteria, such as product selection, vendor evaluation, and site selection.\n",
      "\n",
      "4. **Pareto Analysis (80/20 Rule)**:\n",
      "   - **Problem Identification**: Identify the specific problems or challenges.\n",
      "   - **Data Collection**: Gather relevant data to measure the frequency or impact of each problem.\n",
      "   - **Categorize**: Group problems by category or cause.\n",
      "   - **Quantification**: Quantify the problems to identify which 20% are causing 80% of the impact.\n",
      "   - **Focus**: Focus on the critical few issues that will have the most significant effect.\n",
      "   - **Application**: Pareto Analysis is helpful in quality and process improvement, resource allocation, and prioritizing projects or issues.\n",
      "\n",
      "5. **Six Thinking Hats**:\n",
      "   - **White Hat**: Focus on data and facts.\n",
      "   - **Red Hat**: Consider emotions and gut feelings.\n",
      "   - **Black Hat**: Think about potential problems and risks.\n",
      "   - **Yellow Hat**: Focus on benefits and optimism.\n",
      "   - **Green Hat**: Encourage creativity and new ideas.\n",
      "   - **Blue Hat**: Manage the thinking process.\n",
      "   - **Application**: This framework is beneficial for group decision-making, brainstorming sessions, problem-solving, and encouraging comprehensive analysis of a situation.\n",
      "\n",
      "Each of these frameworks can be customized and adapted to fit specific decision-making contexts, whether they are used individually or in combination.\n",
      "# user: Which of these 5 decision frameworks would work best for making a decision to purchase a car. \n",
      "Select only the single best one.\n",
      "# assistant: For making a decision to purchase a car, the **Decision Matrix (Weighted Scoring Model)** would likely work best. Here’s why:\n",
      "\n",
      "### Decision Matrix (Weighted Scoring Model):\n",
      "\n",
      "1. **Criteria Identification**: When purchasing a car, several criteria may be significant such as cost, fuel efficiency, safety features, brand reputation, maintenance costs, resale value, aesthetics, and additional features (e.g., technology, comfort).\n",
      "\n",
      "2. **Weight Assignment**: Assign weights to each criterion based on their importance to you. For instance, if fuel efficiency is very important, it might get a high weight, while aesthetics might get a lower weight if it's less crucial.\n",
      "\n",
      "3. **Alternative Scoring**: Evaluate each car option against the identified criteria and score them. For example, rate fuel efficiency on a scale from 1 to 10 for each car being considered.\n",
      "\n",
      "4. **Calculation and Ranking**: Multiply each score by its respective weight, sum up the results for each car, and then rank the cars based on these totals.\n",
      "\n",
      "### Application Steps:\n",
      "\n",
      "1. **List Criteria**:\n",
      "   - Cost\n",
      "   - Fuel Efficiency\n",
      "   - Safety Features\n",
      "   - Brand Reputation\n",
      "   - Maintenance Costs\n",
      "   - Resale Value\n",
      "   - Aesthetics\n",
      "   - Additional Features\n",
      "\n",
      "2. **Assign Weights (Example)**:\n",
      "   - Cost: 20%\n",
      "   - Fuel Efficiency: 15%\n",
      "   - Safety Features: 20%\n",
      "   - Brand Reputation: 10%\n",
      "   - Maintenance Costs: 10%\n",
      "   - Resale Value: 10%\n",
      "   - Aesthetics: 5%\n",
      "   - Additional Features: 10%\n",
      "\n",
      "3. **Score Alternatives (Example)**:\n",
      "   - **Car A**: Cost (8), Fuel Efficiency (7), Safety Features (9), etc.\n",
      "   - **Car B**: Cost (6), Fuel Efficiency (8), Safety Features (8), etc.\n",
      "\n",
      "4. **Calculate and Compare**:\n",
      "   - **Car A Total**: (8*0.2) + (7*0.15) + (9*0.2) + ... = Total Score\n",
      "   - **Car B Total**: (6*0.2) + (8*0.15) + (8*0.2) + ... = Total Score\n",
      "\n",
      "This approach ensures you systematically evaluate each car based on all the factors you care about and make an informed decision based on comprehensive scoring.\n",
      "# user: Which of these 5 decision frameworks listed above are used by the military intelligence community?\n",
      "# assistant: The military intelligence community employs a range of decision frameworks to analyze complex situations and make informed decisions. Among the five decision frameworks listed, the following are commonly used or adapted in various forms:\n",
      "\n",
      "1. **SWOT Analysis**:\n",
      "   - **Application**: Military intelligence uses SWOT analysis to evaluate strategic positions and assess the strengths, weaknesses, opportunities, and threats of various courses of action. This can involve analyzing the capabilities of enemy forces, the operational environment, and the potential impacts of different military strategies.\n",
      "\n",
      "2. **Cost-Benefit Analysis (CBA)**:\n",
      "   - **Application**: CBA is used for evaluating the viability and potential outcomes of military operations, investment in new technologies, and logistical decisions. It helps in determining whether the benefits of a particular action outweigh the costs in terms of resources, risks, and potential losses.\n",
      "\n",
      "3. **Pareto Analysis (80/20 Rule)**:\n",
      "   - **Application**: In military settings, Pareto Analysis is employed for prioritizing resources, identifying critical issues affecting operational effectiveness, and focusing intelligence efforts on high-impact areas. It helps in optimizing efforts by identifying the 20% of sources or activities that will yield 80% of the desired outcomes.\n",
      "\n",
      "### Why These Frameworks Are Used:\n",
      "\n",
      "- **SWOT Analysis**:\n",
      "  - Allows for a comprehensive assessment of the operational environment.\n",
      "  - Helps in understanding internal capabilities and external challenges.\n",
      "  - Aids in strategic planning and contingency planning.\n",
      "\n",
      "- **Cost-Benefit Analysis**:\n",
      "  - Enables a quantitative evaluation of potential courses of action.\n",
      "  - Assists in resource allocation and risk management.\n",
      "  - Supports decision-making by clearly delineating potential costs and expected benefits.\n",
      "\n",
      "- **Pareto Analysis**:\n",
      "  - Focuses efforts on the most impactful issues and activities.\n",
      "  - Improves resource utilization and operational efficiency.\n",
      "  - Helps in prioritizing intelligence-gathering and strategic efforts.\n",
      "\n",
      "While the military intelligence community often adapts and customizes these frameworks to fit specific needs and constraints, these frameworks provide a solid foundation for structured decision-making and strategic analysis in complex and high-stakes environments.\n"
     ]
    }
   ],
   "source": [
    "// Print the number of chat interactions and the chat history (turns)\n",
    "Console.WriteLine(\"Number of chat interactions: \" + chatHistory.Count());\n",
    "\n",
    "foreach (var message in chatHistory)\n",
    "{\n",
    "    Console.WriteLine($\"# {message.Role}: {message.Content}\");\n",
    "}"
   ]
  }
 ],
 "metadata": {
  "kernelspec": {
   "display_name": ".NET (C#)",
   "language": "C#",
   "name": ".net-csharp"
  },
  "language_info": {
   "name": "csharp"
  },
  "polyglot_notebook": {
   "kernelInfo": {
    "defaultKernelName": "csharp",
    "items": [
     {
      "aliases": [],
      "name": "csharp"
     }
    ]
   }
  }
 },
 "nbformat": 4,
 "nbformat_minor": 2
}
