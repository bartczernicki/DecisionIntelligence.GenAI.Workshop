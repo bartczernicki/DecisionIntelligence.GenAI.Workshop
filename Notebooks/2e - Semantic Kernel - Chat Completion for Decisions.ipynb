{
 "cells": [
  {
   "cell_type": "markdown",
   "metadata": {},
   "source": [
    "<div style=\"display: flex; align-items: center;\">\n",
    "  <img src=\"https://raw.githubusercontent.com/bartczernicki/DecisionIntelligence.GenAI.Workshop/main/Images/DecisionIntelligenceSemanticKernelLogo.png\" width=\"60px\" style=\"margin-right: 10px;\">\n",
    "  <span style=\"font-size: 1.5em; font-weight: bold;\">Semantic Kernel - Chat Completion for Decisions</span>\n",
    "</div>"
   ]
  },
  {
   "cell_type": "markdown",
   "metadata": {},
   "source": [
    "Decision Intelligence applied in this module:  \n",
    "* Listing of various decision-making frameworks and with their descriptions by using Chat Completion  \n",
    "* Decision Scenario: Recommendation of a decision-making framework for specific higher-stakes decisions (purchase of a car)  \n",
    "* Illustrating a domain specific decision-making framework (millitary intelligence)  \n"
   ]
  },
  {
   "cell_type": "markdown",
   "metadata": {},
   "source": [
    "In this module, the Semantic Kernel ability to create a chat experience will be introduced. This is a much richer experience than just sending simple prompts that are stateless and context is forgotten.\n",
    "\n",
    "Semantic Kernel has first-class support for chat scenarios, where the user talks back and forth with the LLM, the arguments get populated with the history of the conversation. During each new run of the kernel, the arguments will be provided to the AI with content. This allows the LLM to know the historical context of the conversation."
   ]
  },
  {
   "cell_type": "markdown",
   "metadata": {},
   "source": [
    "----\n",
    "### Step 1 - Initialize Configuration Builder & Build the Semantic Kernel Orchestration"
   ]
  },
  {
   "cell_type": "markdown",
   "metadata": {},
   "source": [
    "Execute the next two cells to:\n",
    "* Use the Configuration Builder to load the API secrets.  \n",
    "* Use the API configuration to build the Semantic Kernel orchestrator."
   ]
  },
  {
   "cell_type": "code",
   "execution_count": 11,
   "metadata": {
    "dotnet_interactive": {
     "language": "csharp"
    },
    "polyglot_notebook": {
     "kernelName": "csharp"
    }
   },
   "outputs": [
    {
     "data": {
      "text/html": [
       "<div><div></div><div></div><div><strong>Installed Packages</strong><ul><li><span>Microsoft.Extensions.Configuration, 9.0.6</span></li><li><span>Microsoft.Extensions.Configuration.Json, 9.0.6</span></li></ul></div></div>"
      ]
     },
     "metadata": {},
     "output_type": "display_data"
    }
   ],
   "source": [
    "// Import the required NuGet configuration packages\n",
    "#r \"nuget: Microsoft.Extensions.Configuration, 9.0.6\"\n",
    "#r \"nuget: Microsoft.Extensions.Configuration.Json, 9.0.6\"\n",
    "\n",
    "using Microsoft.Extensions.Configuration.Json;\n",
    "using Microsoft.Extensions.Configuration;\n",
    "using System.IO;\n",
    "\n",
    "// Load the configuration settings from the local.settings.json and secrets.settings.json files\n",
    "// The secrets.settings.json file is used to store sensitive information such as API keys\n",
    "var configurationBuilder = new ConfigurationBuilder()\n",
    "    .SetBasePath(Directory.GetCurrentDirectory())\n",
    "    .AddJsonFile(\"local.settings.json\", optional: true, reloadOnChange: true)\n",
    "    .AddJsonFile(\"secrets.settings.json\", optional: true, reloadOnChange: true);\n",
    "var config = configurationBuilder.Build();\n",
    "\n",
    "// IMPORTANT: You ONLY NEED either Azure OpenAI or OpenAI connectiopn info, not both.\n",
    "// Azure OpenAI Connection Info\n",
    "var azureOpenAIEndpoint = config[\"AzureOpenAI:Endpoint\"];\n",
    "var azureOpenAIAPIKey = config[\"AzureOpenAI:APIKey\"];\n",
    "var azureOpenAIModelDeploymentName = config[\"AzureOpenAI:ModelDeploymentName\"];\n",
    "// OpenAI Connection Info \n",
    "var openAIAPIKey = config[\"OpenAI:APIKey\"];\n",
    "var openAIModelId = config[\"OpenAI:ModelId\"];"
   ]
  },
  {
   "cell_type": "code",
   "execution_count": 12,
   "metadata": {
    "dotnet_interactive": {
     "language": "csharp"
    },
    "polyglot_notebook": {
     "kernelName": "csharp"
    }
   },
   "outputs": [
    {
     "data": {
      "text/html": [
       "<div><div></div><div></div><div><strong>Installed Packages</strong><ul><li><span>Microsoft.Extensions.DependencyInjection, 9.0.6</span></li><li><span>Microsoft.SemanticKernel, 1.60.0</span></li></ul></div></div>"
      ]
     },
     "metadata": {},
     "output_type": "display_data"
    },
    {
     "name": "stdout",
     "output_type": "stream",
     "text": [
      "Using Azure OpenAI Service\n"
     ]
    }
   ],
   "source": [
    "// Install the required NuGet packages\n",
    "// Note: This also installs the Dependency Injection Package to retrieve the ChatCompletionService\n",
    "#r \"nuget: Microsoft.Extensions.DependencyInjection, 9.0.6\"\n",
    "#r \"nuget: Microsoft.SemanticKernel, 1.60.0\"\n",
    "\n",
    "using Microsoft.Extensions.DependencyInjection.Extensions;\n",
    "using Microsoft.Extensions.DependencyInjection;\n",
    "using Microsoft.SemanticKernel;\n",
    "using Microsoft.SemanticKernel.ChatCompletion;\n",
    "using Microsoft.SemanticKernel.Connectors.OpenAI;\n",
    "\n",
    "Kernel semanticKernel;\n",
    "\n",
    "// Set the flag to use Azure OpenAI or OpenAI. False to use OpenAI, True to use Azure OpenAI\n",
    "var useAzureOpenAI = true;\n",
    "\n",
    "// Create a new Semantic Kernel instance\n",
    "if (useAzureOpenAI)\n",
    "{\n",
    "    Console.WriteLine(\"Using Azure OpenAI Service\");\n",
    "    semanticKernel = Kernel.CreateBuilder()\n",
    "        .AddAzureOpenAIChatCompletion(\n",
    "            deploymentName: azureOpenAIModelDeploymentName,\n",
    "            endpoint: azureOpenAIEndpoint,\n",
    "            apiKey: azureOpenAIAPIKey)\n",
    "        .Build();\n",
    "}\n",
    "else\n",
    "{\n",
    "    Console.WriteLine(\"Using OpenAI Service\");\n",
    "    semanticKernel = Kernel.CreateBuilder()\n",
    "        .AddOpenAIChatCompletion(\n",
    "            modelId: openAIModelId,\n",
    "            apiKey: openAIAPIKey)\n",
    "        .Build();\n",
    "}\n",
    "\n",
    "var chatCompletionService = semanticKernel.Services.GetRequiredService<IChatCompletionService>();"
   ]
  },
  {
   "cell_type": "markdown",
   "metadata": {},
   "source": [
    "### Step 2 - Execute Decision Chat Completion with Prompt Execution Settings "
   ]
  },
  {
   "cell_type": "markdown",
   "metadata": {},
   "source": [
    "> 📜 **_\"If you can’t describe what you are doing as a process, you don’t know what you’re doing.\"_** \n",
    ">\n",
    "> -- <cite>W. Edwards Deming (renowned American engineer, statistician, and management consultant)</cite>  \n",
    "\n",
    "\n",
    "Using the Semantic Kernel ChatCompletion service is very similar to inovoking a prompt for basic LLM interactions. The chat completion service will provide very similar results to invoking the prompt directly."
   ]
  },
  {
   "cell_type": "code",
   "execution_count": 15,
   "metadata": {
    "dotnet_interactive": {
     "language": "csharp"
    },
    "polyglot_notebook": {
     "kernelName": "csharp"
    }
   },
   "outputs": [
    {
     "data": {
      "text/markdown": [
       "### 1. SWOT Analysis\n",
       "\n",
       "SWOT stands for Strengths, Weaknesses, Opportunities, and Threats. This framework helps individuals and organizations assess internal and external factors that can impact a decision, leading to a more comprehensive understanding of the situation.\n",
       "\n",
       "\n",
       "\n",
       "### 2. Decision Matrix (Weighted Scoring Model)\n",
       "\n",
       "A decision matrix allows you to evaluate and prioritize different options based on a set of criteria. Each criterion is assigned a weight according to its importance, and each option is scored against these criteria, helping to identify the most suitable choice.\n",
       "\n",
       "\n",
       "\n",
       "### 3. Cost-Benefit Analysis\n",
       "\n",
       "This framework involves listing and comparing the costs and benefits of each option. By quantifying and weighing the pros and cons, decision-makers can determine which choice offers the greatest net benefit.\n",
       "\n",
       "\n",
       "\n",
       "### 4. The OODA Loop\n",
       "\n",
       "OODA stands for Observe, Orient, Decide, and Act. This iterative framework is especially useful in dynamic environments, encouraging continuous assessment and adaptation as new information becomes available.\n",
       "\n",
       "\n",
       "\n",
       "### 5. Six Thinking Hats\n",
       "\n",
       "Developed by Edward de Bono, this framework encourages looking at a decision from six different perspectives (logic, emotion, caution, optimism, creativity, and process). It helps teams and individuals explore all angles and reduce bias in decision-making."
      ]
     },
     "metadata": {},
     "output_type": "display_data"
    }
   ],
   "source": [
    "// Simple prompt to list some decision frameworks this GenAI LLM is familiar with \n",
    "// LLMs are trained on a diverse range of data and can provide insights on a wide range of topics like decision frameworks\n",
    "// SLMS (smaller LLMs) are trained on a more specific range of data and may not provide insights on all topics\n",
    "var simpleDecisionPrompt = \"\"\"\n",
    "Provide a list of 5 decision frameworks that can help improve the quality of decisions.\n",
    "\n",
    "Output Format Instructions:\n",
    "When generating Markdown, do not use any headings higher than ###. \n",
    "Avoid # and ## headers. Use only ###, ####, or lower-level headings if necessary. \n",
    "All top-level section headers should start at ### or lower. \n",
    "Never use ---, ***, or ___ for horizontal lines. There should be no horizontal lines in the output.\n",
    "For separation, use extra extra spacing. Do not any render horizontal lines.\n",
    "\"\"\";\n",
    "\n",
    "// Create a new OpenAI prompt execution settings object\n",
    "var openAIPromptExecutionSettings = new OpenAIPromptExecutionSettings { \n",
    "    MaxTokens = 1000, \n",
    "    Temperature = 0.1, \n",
    "    TopP = 1.0, \n",
    "    FrequencyPenalty = 0.0, \n",
    "    PresencePenalty = 0.0\n",
    "    };\n",
    "\n",
    "// Execute the chat completion request using the prompt and settings defined above\n",
    "var chatResult = await chatCompletionService.GetChatMessageContentAsync(simpleDecisionPrompt, openAIPromptExecutionSettings);\n",
    "\n",
    "// Display the result of the chat completion request as Markdown\n",
    "chatResult.Content.DisplayAs(\"text/markdown\");"
   ]
  },
  {
   "cell_type": "markdown",
   "metadata": {},
   "source": [
    "----\n",
    "### Step 3 - Execute Decision Chat Completion with Streaming "
   ]
  },
  {
   "cell_type": "markdown",
   "metadata": {},
   "source": [
    "Semantic Kernel supports prompt response streaming in the ChatCompletionService. This allows responses to be streamed to the client as soon as they are made available by the LLM and API services. Below the same decision prompt is executed. However, notice that chunks are streamed and can be read by the user as soon as they appear. "
   ]
  },
  {
   "cell_type": "code",
   "execution_count": 16,
   "metadata": {
    "dotnet_interactive": {
     "language": "csharp"
    },
    "polyglot_notebook": {
     "kernelName": "csharp"
    }
   },
   "outputs": [
    {
     "name": "stdout",
     "output_type": "stream",
     "text": [
      "### 1. SWOT Analysis\n",
      "\n",
      "SWOT stands for Strengths, Weaknesses, Opportunities, and Threats. This framework helps individuals and organizations evaluate internal and external factors to make informed decisions by identifying advantages, challenges, and potential risks.\n",
      "\n",
      "\n",
      "\n",
      "### 2. Decision Matrix (Weighted Scoring Model)\n",
      "\n",
      "A decision matrix allows you to compare multiple options against a set of criteria. Each criterion is weighted based on importance, and each option is scored, making it easier to objectively identify the best choice.\n",
      "\n",
      "\n",
      "\n",
      "### 3. Cost-Benefit Analysis\n",
      "\n",
      "This framework involves listing the costs and benefits of each option, quantifying them where possible, and comparing the totals. It helps in determining whether the benefits of a decision outweigh its costs.\n",
      "\n",
      "\n",
      "\n",
      "### 4. The OODA Loop\n",
      "\n",
      "OODA stands for Observe, Orient, Decide, and Act. Originally developed for military strategy, this iterative process helps decision-makers quickly adapt to changing circumstances by continuously cycling through these four steps.\n",
      "\n",
      "\n",
      "\n",
      "### 5. Six Thinking Hats\n",
      "\n",
      "Developed by Edward de Bono, this framework encourages looking at a decision from six different perspectives (logic, emotion, caution, optimism, creativity, and process) to ensure a well-rounded evaluation and minimize bias."
     ]
    }
   ],
   "source": [
    "// Stream the chat completion response\n",
    "await foreach (var content in chatCompletionService.GetStreamingChatMessageContentsAsync(simpleDecisionPrompt, openAIPromptExecutionSettings))\n",
    "{\n",
    "    Console.Write(content);\n",
    "}"
   ]
  },
  {
   "cell_type": "markdown",
   "metadata": {},
   "source": [
    "----\n",
    "### Step 4 - Execute Decision Chat Completion with a System Prompt & Chat History "
   ]
  },
  {
   "cell_type": "markdown",
   "metadata": {},
   "source": [
    "Semantic Kernel has a ChatHistory object that can be used with the ChatCompletionService to provide historical chat context to the LLM. Notice that the ChatHistory object differentiates between the different types of chat messages:\n",
    "* System Message - System or MetaPrompt. These are usually global instructions that set the \"overall rules\" for interacting with the LLMs.\n",
    "* User Message - A message from the user\n",
    "* Assistant Message - A message from the LLM. This is a message generated from an assistant or an agent. \n",
    "\n",
    "Identifying the messages from which role (user) it came from can help the LLM improve its own reasoning responses. This is a more sophisticated approach than passing chat history in a long dynamic string. ChatHistory objects can be serialized and persisted into databases as well."
   ]
  },
  {
   "cell_type": "code",
   "execution_count": 17,
   "metadata": {
    "dotnet_interactive": {
     "language": "csharp"
    },
    "polyglot_notebook": {
     "kernelName": "csharp"
    }
   },
   "outputs": [
    {
     "data": {
      "text/markdown": [
       "| Decision Framework         | Description                                                                                       | Key Components                                                                                      | Best For                                              | Potential Limitations                   |\n",
       "|---------------------------|---------------------------------------------------------------------------------------------------|-----------------------------------------------------------------------------------------------------|-------------------------------------------------------|-----------------------------------------|\n",
       "| Cost-Benefit Analysis     | Evaluates options by comparing potential costs and benefits to determine the most valuable choice. | Identify costs, estimate benefits, assign value, compare totals, consider intangibles.              | Financial decisions, resource allocation              | Hard to quantify intangibles            |\n",
       "| SWOT Analysis             | Assesses Strengths, Weaknesses, Opportunities, and Threats related to a decision or project.       | Internal (S, W), External (O, T), mapping, action planning.                                         | Strategic planning, risk assessment                   | Can be subjective or biased             |\n",
       "| Decision Matrix           | Ranks options by scoring them on multiple weighted criteria.                                       | List options, define criteria, weight criteria, score, calculate totals.                            | Comparing alternatives when many criteria involved    | Weighting/scoring can be arbitrary      |\n",
       "| OODA Loop                 | Iterative cycle for rapid, adaptive decision-making: Observe, Orient, Decide, Act.                 | Observation, Orientation, Decision, Action; feedback adapts process continuously.                   | Fast-changing or competitive environments             | Can oversimplify complex decisions      |\n",
       "| Six Thinking Hats         | Encourages exploring a decision from multiple perspectives using metaphorical \"hats.\"              | White (info), Red (feelings), Black (risks), Yellow (benefits), Green (creativity), Blue (process). | Group decisions, creative or contentious discussions  | May be time-consuming in large groups   |"
      ]
     },
     "metadata": {},
     "output_type": "display_data"
    }
   ],
   "source": [
    "// Set the overall system prompt to behave like a decision intelligence assistant (persona)\n",
    "var systemPrompt = \"\"\"\n",
    "You are a Decision Intelligence assistant. \n",
    "Assist the user in exploring options, reasoning through decisions, problem-solving, and applying systems thinking to various scenarios. \n",
    "Provide structured, logical, and comprehensive advice.\n",
    "\n",
    "Output Format Instructions:\n",
    "When generating Markdown, do not use any headings higher than ###. \n",
    "Avoid # and ## headers. Use only ###, ####, or lower-level headings if necessary. \n",
    "All top-level section headers should start at ### or lower. \n",
    "Never use ---, ***, or ___ for horizontal lines. There should be no horizontal lines in the output.\n",
    "For separation, use extra extra spacing. Do not any render horizontal lines.\n",
    "\n",
    "Format the response using only a Markdown table. Only return a Markdown table. \n",
    "Do not enclose the table in triple backticks.\n",
    "\"\"\";\n",
    "\n",
    "// Simple instruction prompt to list 5 (five) decision frameworks this GenAI LLM is familiar with\n",
    "var simpleDecisionPrompt = \"\"\"\n",
    "Provide five Decision Frameworks that can help improve the quality of decisions.\n",
    "\"\"\";\n",
    "\n",
    "// Create a new chat history object with proper system and user message roles\n",
    "var chatHistory = new ChatHistory();\n",
    "chatHistory.AddSystemMessage(systemPrompt);\n",
    "chatHistory.AddUserMessage(simpleDecisionPrompt);\n",
    "\n",
    "// Note: The chat completion service can also be used with a chat history object, which allows for a more conversational context.\n",
    "var chatResponse = string.Empty;\n",
    "\n",
    "// Render Markdown or stream the chat completion response\n",
    "var renderMarkdown = true;\n",
    "if (renderMarkdown)\n",
    "{\n",
    "    // Get the chat completion response as a single content object\n",
    "    var chatContent = await chatCompletionService.GetChatMessageContentAsync(chatHistory);\n",
    "    chatResponse = chatContent.Content;\n",
    "    chatResponse.DisplayAs(\"text/markdown\");\n",
    "}\n",
    "else\n",
    "{\n",
    "    // Stream the chat completion response\n",
    "    await foreach (var content in chatCompletionService.GetStreamingChatMessageContentsAsync(chatHistory))\n",
    "    {\n",
    "        chatResponse += content;\n",
    "        Console.Write(content);\n",
    "    }\n",
    "}\n",
    "\n",
    "// Add the assistant's response to the chat history\n",
    "chatHistory.AddAssistantMessage(chatResponse);"
   ]
  },
  {
   "cell_type": "markdown",
   "metadata": {},
   "source": [
    "In the next step, an additional prompt instruction will be added to the chat history. From the 5 decision frameworks provided in the chat history, Generative AI is asked to recommed a framework best suited for the militaty intelligence community. Notice that the previous chat history is automatically provided to provide additional intelligence context. \n",
    "\n",
    "> 📜 **_\"Take time to deliberate, but when the time for action comes, stop thinking and go in.\"_**\n",
    ">\n",
    "> -- <cite>Napoleon Bornaparte (French Emporer and brilliant military mind)</cite>  "
   ]
  },
  {
   "cell_type": "code",
   "execution_count": 18,
   "metadata": {
    "dotnet_interactive": {
     "language": "csharp"
    },
    "polyglot_notebook": {
     "kernelName": "csharp"
    }
   },
   "outputs": [
    {
     "data": {
      "text/markdown": [
       "| Step | Consideration                                                                                                  | Analysis/Reasoning                                                                                                               | Conclusion/Decision Point                                                          |\n",
       "|------|---------------------------------------------------------------------------------------------------------------|----------------------------------------------------------------------------------------------------------------------------------|------------------------------------------------------------------------------------|\n",
       "| 1    | Nature of Military Intelligence Decisions                                                                     | Often facing rapidly evolving threats, incomplete information, and need for timely action.                                      | Framework must support fast, adaptive, and iterative decision-making.              |\n",
       "| 2    | Importance of Multiple Perspectives                                                                           | Requires assessing risks, benefits, adversary intent, changing battlefield dynamics.                                             | Framework must allow for ongoing reassessment and adjustment.                      |\n",
       "| 3    | Suitability of Each Framework                                                                                 | Cost-Benefit: Too slow/static; SWOT: Good for planning not for rapid execution; Matrix: Rigid; Six Hats: For group creativity.  | None of these directly meet rapid, adaptive operational needs.                     |\n",
       "| 4    | OODA Loop Features                                                                                            | Designed for fast observation, orientation, decision, and action, with feedback integrated throughout.                          | Matches the needs of military intelligence: speed, adaptability, iterative process.|\n",
       "| 5    | Precedent and Adoption                                                                                        | Widely adopted in military doctrine for tactical and strategic decision cycles.                                                  | Strong track record in intelligence contexts.                                       |\n",
       "| 6    | Final Selection                                                                                               | Must select only one framework that aligns directly with intelligence community requirements.                                   | **OODA Loop** is best suited.                                                      |"
      ]
     },
     "metadata": {},
     "output_type": "display_data"
    }
   ],
   "source": [
    "// Note: No reference is made to what previous frameworks were listed.\n",
    "// Note: Previous context is maintained by the Semantic Kernel ChatHistory object \n",
    "var simpleDecisionPromptFollowupQuestionPartTwo = \"\"\"\n",
    "Which of the 5 decision frameworks listed above is best suited for the military intelligence community?  \n",
    "Think carefully step by step about what decision frameworks are needed to answer the query.  \n",
    "Select only the single best framework. \n",
    "\"\"\";\n",
    "\n",
    "// Add User message to the chat history\n",
    "chatHistory.AddUserMessage(simpleDecisionPromptFollowupQuestionPartTwo);\n",
    "\n",
    "// Render Markdown or stream the chat completion response\n",
    "var renderMarkdown = true;\n",
    "if (renderMarkdown)\n",
    "{\n",
    "    // Get the chat completion response as a single content object\n",
    "    var chatContent = await chatCompletionService.GetChatMessageContentAsync(chatHistory);\n",
    "    chatResponse = chatContent.Content;\n",
    "    chatResponse.DisplayAs(\"text/markdown\");\n",
    "}\n",
    "else\n",
    "{\n",
    "    // Stream the chat completion response\n",
    "    await foreach (var content in chatCompletionService.GetStreamingChatMessageContentsAsync(chatHistory))\n",
    "    {\n",
    "        chatResponse += content;\n",
    "        Console.Write(content);\n",
    "    }\n",
    "}\n",
    "\n",
    "// Add Assistant message to the chat history\n",
    "chatHistory.AddAssistantMessage(chatResponse);"
   ]
  },
  {
   "cell_type": "markdown",
   "metadata": {},
   "source": [
    "### Step 5 - Execute Decision Chat Completion with a Multi-Turn Conversation Scenario "
   ]
  },
  {
   "cell_type": "markdown",
   "metadata": {},
   "source": [
    "> 📜 **_\"Price is what you pay. Value is what you get.\"_**  \n",
    ">\n",
    "> -- <cite>Warren Buffet (one of the most successful investors of all time)</cite>  "
   ]
  },
  {
   "cell_type": "markdown",
   "metadata": {},
   "source": [
    "Semantic Kernel can maintain state with the ChatHistory object. This allows natural converation between the user and AI to be persisted for future use. It can be saved for future reference, it can be replayed, it can be forked in certain spots to try different scenarios, it can be used as a starting point for other conversations etc. \n",
    "\n",
    "In the scenario below, let's build a multi-turn conversation about a decision over a purchase for a fitness tracker. Notice that each turn the appropriate Chat History roles are populated with the appropriate prompts and assistant (AI) responses. This in effect acts as the Gathering Intelligence step of the Decision Intelligence framework as the conversation information has been persisted and can be re-used as context for the decision scenario."
   ]
  },
  {
   "cell_type": "code",
   "execution_count": 19,
   "metadata": {
    "dotnet_interactive": {
     "language": "csharp"
    },
    "polyglot_notebook": {
     "kernelName": "csharp"
    }
   },
   "outputs": [],
   "source": [
    "// Set the overall system prompt to behave like a decision intelligence assistant (persona)\n",
    "var systemPromptDecisionConversation = \"\"\"\n",
    "You are a Decision Intelligence assistant. \n",
    "Assist the user in exploring options, reasoning through decisions, problem-solving, and applying systems thinking to various scenarios. \n",
    "Provide structured, logical, and comprehensive advice.\n",
    "\"\"\";\n",
    "\n",
    "// User prompt to start a decision conversation about buying a fitness tracker\n",
    "var userPromptDecisionConversationTurn1 = \"\"\"\n",
    "I am considering buying a fitness tracker but I am not sure which features really matter. \n",
    "Could you explain the main considerations? \n",
    "\"\"\";\n",
    "\n",
    "var assistantResponseDecisionConversationTurn1 = \"\"\"\n",
    "Absolutely! Key considerations for choosing a fitness tracker often include: \n",
    "- Fitness Features (e.g., step counting, heart-rate monitoring, workout tracking)\n",
    "- Health Monitoring (like sleep tracking or advanced ECG capabilities)\n",
    "- Battery Life\n",
    "- Comfort and Fit\n",
    "- Compatibility with your smartphone's operating system\n",
    "- Price Range\n",
    "- Knowing which of these you value most will help narrow down your options.\n",
    "\"\"\";\n",
    "\n",
    "var userPromptDecisionConversationTurn2 = \"\"\"\n",
    "Got it. Battery life and sleep tracking are both important to me. \n",
    "What's a typical battery life range for trackers, and how good is their sleep tracking?\n",
    "\"\"\";\n",
    "\n",
    "var assistantResponseDecisionConversationTurn2 = \"\"\"\n",
    "Different fitness trackers have varying battery lives, typically anywhere from 2-3 days (for more feature-rich or bright-display devices) \n",
    "up to about 10-14 days (for more minimalist trackers). \n",
    "\n",
    "Regarding sleep tracking:\n",
    "- Many modern devices can track different sleep stages (light, deep, REM).\n",
    "- High-end devices even track breathing rate and oxygen saturation during the night.\n",
    "- Some also offer insights about sleep quality and tips for improvement.\n",
    "\n",
    "If battery life is a priority, you may want to consider trackers with a more conservative display and fewer power-hungry features.\n",
    "\"\"\";\n",
    "\n",
    "var userPromptDecisionConversationTurn3 = \"\"\"\n",
    "Are there any popular models you would recommend for that balance of battery life and sleep tracking?\n",
    "\"\"\";\n",
    "\n",
    "var assistantResponseDecisionConversationTurn3 = \"\"\"\n",
    "Popular options that strike a balance between robust sleep tracking and good battery life include:\n",
    "- Fitbit Inspire 3 or Fitbit Charge 5: Both have solid sleep tracking, multi-day battery, and strong app support.\n",
    "- Garmin Vivosmart 5: Offers decent fitness and sleep insights, plus better-than-average battery life.\n",
    "- Xiaomi Mi Band 7: Budget-friendly, surprisingly robust health metrics, and a long-lasting battery.\n",
    "\n",
    "Each varies in price and features, so consider your budget and the specific metrics you’d like to track.\n",
    "\"\"\";\n",
    "\n",
    "var userPromptDecisionConversationTurn4 = \"\"\"\n",
    "That is great infor. \n",
    "I also have a friend who said I should consider an Apple Watch. \n",
    "Does that have comparable battery life and sleep tracking?\n",
    "\"\"\";\n",
    "\n",
    "var assistantResponseDecisionConversationTurn4 = \"\"\"\n",
    "The Apple Watch is known for its extensive feature set, including advanced health monitoring, \n",
    "but its battery life tends to be shorter—usually around 18-24 hours on a single charge \n",
    "(or possibly a bit more in low-power mode). While its sleep tracking features have improved over time, \n",
    "you might find you need to charge it daily or almost daily, which could conflict with your goal of 24/7 tracking. \n",
    "\"\"\";\n",
    "\n",
    "// Create a new chat history with a multi-turn conversation about buying a fitness tracker\n",
    "// Notice how the conversation flow uses different roles (user and assistant) to simulate a realistic decision-making dialogue\n",
    "var chatHistoryDecisionConversation = new ChatHistory();\n",
    "chatHistoryDecisionConversation.AddSystemMessage(systemPromptDecisionConversation);\n",
    "chatHistoryDecisionConversation.AddUserMessage(userPromptDecisionConversationTurn1);\n",
    "chatHistoryDecisionConversation.AddAssistantMessage(assistantResponseDecisionConversationTurn1);\n",
    "chatHistoryDecisionConversation.AddUserMessage(userPromptDecisionConversationTurn2);\n",
    "chatHistoryDecisionConversation.AddAssistantMessage(assistantResponseDecisionConversationTurn2);\n",
    "chatHistoryDecisionConversation.AddUserMessage(userPromptDecisionConversationTurn3);\n",
    "chatHistoryDecisionConversation.AddAssistantMessage(assistantResponseDecisionConversationTurn3);\n",
    "chatHistoryDecisionConversation.AddUserMessage(userPromptDecisionConversationTurn4);\n",
    "chatHistoryDecisionConversation.AddAssistantMessage(assistantResponseDecisionConversationTurn4);\n"
   ]
  },
  {
   "cell_type": "markdown",
   "metadata": {},
   "source": [
    "Using the above conversation history as the \"Gathered Intelligence\" betweeen the user and the AI assistant, let's make a final decision and ask for final feedback and a decision evaluation. This \"Gathered Intelligence\" for the decision can be persisted, re-loaded, simulated multiple times, applied to different AI systems to optimize decisions further.  "
   ]
  },
  {
   "cell_type": "code",
   "execution_count": 20,
   "metadata": {
    "dotnet_interactive": {
     "language": "csharp"
    },
    "polyglot_notebook": {
     "kernelName": "csharp"
    }
   },
   "outputs": [
    {
     "data": {
      "text/markdown": [
       "Great choice! The **Fitbit Inspire 3** is well-regarded for balancing essential health features, sleep tracking accuracy, and battery life (up to 10 days under typical use). Here are some final thoughts to consider:\n",
       "\n",
       "### Benefits\n",
       "- **Long Battery Life:** You’ll rarely need to remove it for charging, supporting continuous sleep tracking.\n",
       "- **Lightweight & Comfortable:** Ideal for wearing day and night.\n",
       "- **User-Friendly App:** Fitbit’s app is intuitive and provides actionable insights.\n",
       "- **Activity Tracking:** Steps, heart rate, and even basic stress management tools.\n",
       "\n",
       "### Things to Keep in Mind\n",
       "- **Feature Scope:** It has fewer features than pricier models (e.g., no built-in GPS, no NFC for payments).\n",
       "- **Subscription:** Some advanced data and sleep insights require a Fitbit Premium subscription, though basic features are free.\n",
       "- **Smartphone Compatibility:** Double-check that your phone is supported for syncing data.\n",
       "\n",
       "### Tips for Best Experience\n",
       "- **Wear Consistently:** For the most accurate sleep and health tracking.\n",
       "- **Sync Regularly:** To keep your data backed up and see trends.\n",
       "- **Experiment with Settings:** Adjust notifications and display options to suit your lifestyle and maximize battery life.\n",
       "\n",
       "**Summary:**  \n",
       "The Inspire 3 should fit your stated needs well—reliable sleep tracking, long battery life, and value for money. You can always upgrade later if you want more advanced features.\n",
       "\n",
       "Let me know if you want tips on setup or making the most of your new tracker!"
      ]
     },
     "metadata": {},
     "output_type": "display_data"
    }
   ],
   "source": [
    "var userPromptDecisionConversationFinalDecision = \"\"\"\n",
    "Thank you for all of that information, I think I'll go with a Fitbit. \n",
    "The Fitbit Inspire 3 seems like a good fit for my budget and needs. \n",
    "\n",
    "Any quick final thoughts or insights on my decision? \n",
    "\"\"\";\n",
    "\n",
    "// Add User message to the chat history\n",
    "chatHistoryDecisionConversation.AddUserMessage(userPromptDecisionConversationFinalDecision);\n",
    "\n",
    "// Render Markdown or stream the chat completion response\n",
    "var renderMarkdown = true;\n",
    "if (renderMarkdown)\n",
    "{\n",
    "    // Get the chat completion response as a single content object\n",
    "    var chatContent = await chatCompletionService.GetChatMessageContentAsync(chatHistoryDecisionConversation);\n",
    "    chatResponse = chatContent.Content;\n",
    "    chatResponse.DisplayAs(\"text/markdown\");\n",
    "}\n",
    "else\n",
    "{\n",
    "    // Stream the chat completion response\n",
    "    await foreach (var content in chatCompletionService.GetStreamingChatMessageContentsAsync(chatHistoryDecisionConversation))\n",
    "    {\n",
    "        chatResponse += content;\n",
    "        Console.Write(content);\n",
    "    }\n",
    "}\n",
    "\n",
    "// Add Assistant message to the chat history\n",
    "chatHistoryDecisionConversation.AddAssistantMessage(chatResponse);"
   ]
  },
  {
   "cell_type": "markdown",
   "metadata": {},
   "source": [
    "----\n",
    "### Step 6 - Inspect & Optimize Gathered Intelligence of Chat History "
   ]
  },
  {
   "cell_type": "markdown",
   "metadata": {},
   "source": [
    "The Semantic Kernel Chat History is a transparent construct that can be inspected and written out. In fact, the ChatHistory object can be manipulated to replay chats from middle interactions to simulate different outcomes.\n",
    "\n",
    "Execute the cell below to write out the Semantic Kernel Chat History of this chat."
   ]
  },
  {
   "cell_type": "markdown",
   "metadata": {},
   "source": [
    "> **📝 Note:** In the Decision Intelligence framework, chat history can serve as a form of gathered intelligence. Interactions among users, AI models, processes, and agents provide valuable context for effective decision-making. It’s highly recommended to persist chat history objects (agent threads), especially during decision optimization, to ensure critical information is retained and accessible.  "
   ]
  },
  {
   "cell_type": "code",
   "execution_count": 21,
   "metadata": {
    "dotnet_interactive": {
     "language": "csharp"
    },
    "polyglot_notebook": {
     "kernelName": "csharp"
    }
   },
   "outputs": [
    {
     "name": "stdout",
     "output_type": "stream",
     "text": [
      "Number of chat interactions: 11\n"
     ]
    },
    {
     "data": {
      "text/markdown": [
       "**SYSTEM**:\n",
       "You are a Decision Intelligence assistant. \n",
       "Assist the user in exploring options, reasoning through decisions, problem-solving, and applying systems thinking to various scenarios. \n",
       "Provide structured, logical, and comprehensive advice.\n",
       "\n",
       "**USER**:\n",
       "I am considering buying a fitness tracker but I am not sure which features really matter. \n",
       "Could you explain the main considerations? \n",
       "\n",
       "**ASSISTANT**:\n",
       "Absolutely! Key considerations for choosing a fitness tracker often include: \n",
       "- Fitness Features (e.g., step counting, heart-rate monitoring, workout tracking)\n",
       "- Health Monitoring (like sleep tracking or advanced ECG capabilities)\n",
       "- Battery Life\n",
       "- Comfort and Fit\n",
       "- Compatibility with your smartphone's operating system\n",
       "- Price Range\n",
       "- Knowing which of these you value most will help narrow down your options.\n",
       "\n",
       "**USER**:\n",
       "Got it. Battery life and sleep tracking are both important to me. \n",
       "What's a typical battery life range for trackers, and how good is their sleep tracking?\n",
       "\n",
       "**ASSISTANT**:\n",
       "Different fitness trackers have varying battery lives, typically anywhere from 2-3 days (for more feature-rich or bright-display devices) \n",
       "up to about 10-14 days (for more minimalist trackers). \n",
       "\n",
       "Regarding sleep tracking:\n",
       "- Many modern devices can track different sleep stages (light, deep, REM).\n",
       "- High-end devices even track breathing rate and oxygen saturation during the night.\n",
       "- Some also offer insights about sleep quality and tips for improvement.\n",
       "\n",
       "If battery life is a priority, you may want to consider trackers with a more conservative display and fewer power-hungry features.\n",
       "\n",
       "**USER**:\n",
       "Are there any popular models you would recommend for that balance of battery life and sleep tracking?\n",
       "\n",
       "**ASSISTANT**:\n",
       "Popular options that strike a balance between robust sleep tracking and good battery life include:\n",
       "- Fitbit Inspire 3 or Fitbit Charge 5: Both have solid sleep tracking, multi-day battery, and strong app support.\n",
       "- Garmin Vivosmart 5: Offers decent fitness and sleep insights, plus better-than-average battery life.\n",
       "- Xiaomi Mi Band 7: Budget-friendly, surprisingly robust health metrics, and a long-lasting battery.\n",
       "\n",
       "Each varies in price and features, so consider your budget and the specific metrics you’d like to track.\n",
       "\n",
       "**USER**:\n",
       "That is great infor. \n",
       "I also have a friend who said I should consider an Apple Watch. \n",
       "Does that have comparable battery life and sleep tracking?\n",
       "\n",
       "**ASSISTANT**:\n",
       "The Apple Watch is known for its extensive feature set, including advanced health monitoring, \n",
       "but its battery life tends to be shorter—usually around 18-24 hours on a single charge \n",
       "(or possibly a bit more in low-power mode). While its sleep tracking features have improved over time, \n",
       "you might find you need to charge it daily or almost daily, which could conflict with your goal of 24/7 tracking. \n",
       "\n",
       "**USER**:\n",
       "Thank you for all of that information, I think I'll go with a Fitbit. \n",
       "The Fitbit Inspire 3 seems like a good fit for my budget and needs. \n",
       "\n",
       "Any quick final thoughts or insights on my decision? \n",
       "\n",
       "**ASSISTANT**:\n",
       "Great choice! The **Fitbit Inspire 3** is well-regarded for balancing essential health features, sleep tracking accuracy, and battery life (up to 10 days under typical use). Here are some final thoughts to consider:\n",
       "\n",
       " Benefits\n",
       "- **Long Battery Life:** You’ll rarely need to remove it for charging, supporting continuous sleep tracking.\n",
       "- **Lightweight & Comfortable:** Ideal for wearing day and night.\n",
       "- **User-Friendly App:** Fitbit’s app is intuitive and provides actionable insights.\n",
       "- **Activity Tracking:** Steps, heart rate, and even basic stress management tools.\n",
       "\n",
       " Things to Keep in Mind\n",
       "- **Feature Scope:** It has fewer features than pricier models (e.g., no built-in GPS, no NFC for payments).\n",
       "- **Subscription:** Some advanced data and sleep insights require a Fitbit Premium subscription, though basic features are free.\n",
       "- **Smartphone Compatibility:** Double-check that your phone is supported for syncing data.\n",
       "\n",
       " Tips for Best Experience\n",
       "- **Wear Consistently:** For the most accurate sleep and health tracking.\n",
       "- **Sync Regularly:** To keep your data backed up and see trends.\n",
       "- **Experiment with Settings:** Adjust notifications and display options to suit your lifestyle and maximize battery life.\n",
       "\n",
       "**Summary:**  \n",
       "The Inspire 3 should fit your stated needs well—reliable sleep tracking, long battery life, and value for money. You can always upgrade later if you want more advanced features.\n",
       "\n",
       "Let me know if you want tips on setup or making the most of your new tracker!\n",
       "\n"
      ]
     },
     "metadata": {},
     "output_type": "display_data"
    }
   ],
   "source": [
    "// Print the number of chat interactions and the chat history (turns)\n",
    "Console.WriteLine(\"Number of chat interactions: \" + chatHistoryDecisionConversation.Count());\n",
    "\n",
    "// Change this to a string builder and show as markdown\n",
    "var stringBuilderChatHistory = new StringBuilder();\n",
    "foreach (var message in chatHistoryDecisionConversation)\n",
    "{\n",
    "    // add a new line for each message\n",
    "    stringBuilderChatHistory.AppendLine($\"**{message.Role.ToString().ToUpper()}**:\");\n",
    "    stringBuilderChatHistory.Append($\"{message.Content.Replace(\"#\", string.Empty)}\");\n",
    "    stringBuilderChatHistory.AppendLine(\"\\n\");\n",
    "}\n",
    "\n",
    "// Display the chat history as Markdown\n",
    "stringBuilderChatHistory.ToString().DisplayAs(\"text/markdown\");"
   ]
  },
  {
   "cell_type": "markdown",
   "metadata": {},
   "source": [
    "By persisting the Decision Intelligence chats and making them available for inspection, can further help the decision-making process. For example you can load the Chat History summarize it or even have AI recommend optimizations for it based on the conversation. \n",
    "\n",
    "> **📝 Note:** The process below is simplified to illustrate the power of Gathering Intelligence with user <--> AI interactions. More advanced best practices will be introduced in further sections. "
   ]
  },
  {
   "cell_type": "code",
   "execution_count": 22,
   "metadata": {
    "dotnet_interactive": {
     "language": "csharp"
    },
    "polyglot_notebook": {
     "kernelName": "csharp"
    }
   },
   "outputs": [
    {
     "data": {
      "text/markdown": [
       "Certainly! Here’s a brief summary of your fitness tracker decision process:\n",
       "\n",
       "- You asked about important features for fitness trackers; battery life and sleep tracking stood out as your priorities.\n",
       "- We discussed typical battery life ranges (from 2–14 days) and the general quality of sleep tracking in modern devices.\n",
       "- I recommended specific models balancing your needs: Fitbit Inspire 3, Fitbit Charge 5, Garmin Vivosmart 5, and Xiaomi Mi Band 7.\n",
       "- You inquired about the Apple Watch, but learned its battery life is shorter and may not suit your sleep tracking needs as well.\n",
       "- After this information, you decided the Fitbit Inspire 3 fit your requirements and budget.\n",
       "- I provided final tips and considerations for getting the most from your new device.\n",
       "\n",
       "Let me know if you need further advice on setup or using your tracker!"
      ]
     },
     "metadata": {},
     "output_type": "display_data"
    },
    {
     "data": {
      "text/markdown": [
       "**Summary of the Chat Conversation:**\n",
       "- You are considering buying a fitness tracker and wanted to understand which features matter.\n",
       "- Battery life and sleep tracking are your main priorities.\n",
       "- You asked about typical battery life, sleep tracking capabilities, and specific device recommendations.\n",
       "- Popular options like the Fitbit Inspire 3, Fitbit Charge 5, Garmin Vivosmart 5, and Xiaomi Mi Band 7 were suggested based on your needs.\n",
       "- You compared the Apple Watch but learned it has shorter battery life, which may not fit your requirements.\n",
       "- Finally, you decided the Fitbit Inspire 3 fits your budget and goals, and received a summary of its pros, cons, and tips for use.\n",
       "\n",
       "---\n",
       "\n",
       "**Recommendations to Optimize Decision Interactions:**\n",
       "\n",
       "**1. Structure & Clarification**\n",
       "- **Guided Needs Assessment:** Early in the conversation, have the AI use clarifying questions (e.g., “What’s your budget?”, “Is water resistance important?”, “Do you want notifications or GPS?”) to identify all relevant priorities.\n",
       "- **Feature Prioritization:** Help the user explicitly rank their desired features (e.g., “Rate battery life, sleep tracking, price, notifications, etc., from most to least important.”).\n",
       "\n",
       "**2. Comparative Analysis**\n",
       "- **Comparison Tables:** Present a side-by-side table of shortlisted models with scores or ticks for each user-prioritized feature.\n",
       "- **Pros, Cons, and Trade-offs:** Summarize the main trade-offs involved with each option to foster explicit reasoning.\n",
       "\n",
       "**3. Personalization & Context**\n",
       "- **Lifestyle Integration:** Ask questions about the user’s daily routine, exercise habits, and phone ecosystem for better recommendations.\n",
       "- **Scenario Planning:** Offer short “what-if” scenarios (e.g., “If you start training for a race, would you need built-in GPS?”).\n",
       "\n",
       "**4. Transparent Reasoning**\n",
       "- **Rationale Explanation:** Explain why certain models are recommended over others, relating directly to the user’s stated preferences.\n",
       "- **Highlight Limitations:** Proactively mention limitations (such as paywalls for advanced features or potential syncing issues).\n",
       "\n",
       "**5. Decision Confidence**\n",
       "- **Recap & Next Steps:** End with a concise summary of options and clear action steps (e.g., “Would you like setup advice or a guide on using sleep data?”).\n",
       "\n",
       "**6. Continuous Learning**\n",
       "- **Feedback Loop:** Prompt the user for feedback on the advice or follow-up questions to iteratively refine recommendations.\n",
       "\n",
       "---\n",
       "\n",
       "**Key Considerations for Better AI Decision Support:**\n",
       "- **Systematic, user-driven information gathering.**\n",
       "- **Transparent, well-structured comparisons.**\n",
       "- **Contextual, scenario-based advice.**\n",
       "- **Proactive trade-off and limitation disclosure.**\n",
       "- **Encouraging user reflection through recaps and feedback opportunities.**\n",
       "\n",
       "By adopting these strategies, AI can increase user confidence and ensure decisions are well-aligned with individual needs and lifestyle."
      ]
     },
     "metadata": {},
     "output_type": "display_data"
    }
   ],
   "source": [
    "var userPromptSummarizeTheDecisionChat = \"\"\"\n",
    "Briefly summarize the chat conversation about buying a fitness tracker.\n",
    "\"\"\";\n",
    "\n",
    "// Add User message to the chat history\n",
    "chatHistoryDecisionConversation.AddUserMessage(userPromptSummarizeTheDecisionChat);\n",
    "\n",
    "var chatContent = await chatCompletionService.GetChatMessageContentAsync(chatHistoryDecisionConversation);\n",
    "chatResponse = chatContent.Content;\n",
    "chatResponse.DisplayAs(\"text/markdown\");\n",
    "\n",
    "// Optimize the chat history for any future decision interactions\n",
    "var userPromptOptimizeTheDecisionChat = \"\"\"\n",
    "Based on the chat conversation so far...\n",
    "Provide some recommendations on how the decision interactions could be optimized for decision-making.\n",
    "What are some considerations for the AI to help the use make even better decisions?\n",
    "\"\"\";\n",
    "\n",
    "// Add User message to the chat history\n",
    "chatHistoryDecisionConversation.AddUserMessage(userPromptOptimizeTheDecisionChat);\n",
    "\n",
    "var chatContentOptimization = await chatCompletionService.GetChatMessageContentAsync(chatHistoryDecisionConversation);\n",
    "var chatResponseOptimization = chatContentOptimization.Content;\n",
    "chatResponseOptimization.DisplayAs(\"text/markdown\");"
   ]
  }
 ],
 "metadata": {
  "kernelspec": {
   "display_name": ".NET (C#)",
   "language": "C#",
   "name": ".net-csharp"
  },
  "language_info": {
   "name": "polyglot-notebook"
  },
  "polyglot_notebook": {
   "kernelInfo": {
    "defaultKernelName": "csharp",
    "items": [
     {
      "aliases": [],
      "name": "csharp"
     }
    ]
   }
  }
 },
 "nbformat": 4,
 "nbformat_minor": 2
}
