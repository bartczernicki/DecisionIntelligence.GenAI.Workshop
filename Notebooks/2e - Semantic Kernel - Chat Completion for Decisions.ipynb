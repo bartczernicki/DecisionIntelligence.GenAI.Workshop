{
 "cells": [
  {
   "cell_type": "markdown",
   "metadata": {},
   "source": [
    "<img style=\"float: left;padding-right: 10px\" width =\"40px\" src=\"https://raw.githubusercontent.com/bartczernicki/DecisionIntelligence.GenAI.Workshop/main/Images/SemanticKernelLogo.png\">\n",
    "\n",
    "## Semantic Kernel - Chat Completion for Decisions "
   ]
  },
  {
   "cell_type": "markdown",
   "metadata": {},
   "source": [
    "Decision Intelligence applied in this module:  \n",
    "* Listing of various decision-making frameworks and with their descriptions by using Chat Completion  \n",
    "* Decision Scenario: Recommendation of a decision-making framework for specific higher-stakes decisions (purchase of a car)  \n",
    "* Illustrating a domain specific decision-making framework (millitary intelligence)  \n"
   ]
  },
  {
   "cell_type": "markdown",
   "metadata": {},
   "source": [
    "In this module, the Semantic Kernel ability to create a chat experience will be introduced. This is a much richer experience than just sending simple prompts that are stateless and context is forgotten.\n",
    "\n",
    "Semantic Kernel has first-class support for chat scenarios, where the user talks back and forth with the LLM, the arguments get populated with the history of the conversation. During each new run of the kernel, the arguments will be provided to the AI with content. This allows the LLM to know the historical context of the conversation."
   ]
  },
  {
   "cell_type": "markdown",
   "metadata": {},
   "source": [
    "### Step 1 - Initialize Configuration Builder & Build the Semantic Kernel Orchestration"
   ]
  },
  {
   "cell_type": "markdown",
   "metadata": {},
   "source": [
    "Execute the next two cells to:\n",
    "* Use the Configuration Builder to load the API secrets.  \n",
    "* Use the API configuration to build the Semantic Kernel orchestrator."
   ]
  },
  {
   "cell_type": "code",
   "execution_count": 1,
   "metadata": {
    "dotnet_interactive": {
     "language": "csharp"
    },
    "polyglot_notebook": {
     "kernelName": "csharp"
    },
    "vscode": {
     "languageId": "polyglot-notebook"
    }
   },
   "outputs": [
    {
     "data": {
      "text/html": [
       "<div><div></div><div></div><div><strong>Installed Packages</strong><ul><li><span>Microsoft.Extensions.Configuration, 9.0.0</span></li><li><span>Microsoft.Extensions.Configuration.Json, 9.0.0</span></li></ul></div></div>"
      ]
     },
     "metadata": {},
     "output_type": "display_data"
    }
   ],
   "source": [
    "// Import the required NuGet configuration packages\n",
    "#r \"nuget: Microsoft.Extensions.Configuration, 9.0.0\"\n",
    "#r \"nuget: Microsoft.Extensions.Configuration.Json, 9.0.0\"\n",
    "\n",
    "using Microsoft.Extensions.Configuration.Json;\n",
    "using Microsoft.Extensions.Configuration;\n",
    "using System.IO;\n",
    "\n",
    "// Load the configuration settings from the local.settings.json and secrets.settings.json files\n",
    "// The secrets.settings.json file is used to store sensitive information such as API keys\n",
    "var configurationBuilder = new ConfigurationBuilder()\n",
    "    .SetBasePath(Directory.GetCurrentDirectory())\n",
    "    .AddJsonFile(\"local.settings.json\", optional: true, reloadOnChange: true)\n",
    "    .AddJsonFile(\"secrets.settings.json\", optional: true, reloadOnChange: true);\n",
    "var config = configurationBuilder.Build();\n",
    "\n",
    "// IMPORTANT: You ONLY NEED either Azure OpenAI or OpenAI connectiopn info, not both.\n",
    "// Azure OpenAI Connection Info\n",
    "var azureOpenAIEndpoint = config[\"AzureOpenAI:Endpoint\"];\n",
    "var azureOpenAIAPIKey = config[\"AzureOpenAI:APIKey\"];\n",
    "var azureOpenAIModelDeploymentName = config[\"AzureOpenAI:ModelDeploymentName\"];\n",
    "// OpenAI Connection Info \n",
    "var openAIAPIKey = config[\"OpenAI:APIKey\"];\n",
    "var openAIModelId = config[\"OpenAI:ModelId\"];"
   ]
  },
  {
   "cell_type": "code",
   "execution_count": 2,
   "metadata": {
    "dotnet_interactive": {
     "language": "csharp"
    },
    "polyglot_notebook": {
     "kernelName": "csharp"
    },
    "vscode": {
     "languageId": "polyglot-notebook"
    }
   },
   "outputs": [
    {
     "data": {
      "text/html": [
       "<div><div></div><div></div><div><strong>Installed Packages</strong><ul><li><span>Microsoft.Extensions.DependencyInjection, 9.0.0</span></li><li><span>Microsoft.SemanticKernel, 1.33.0</span></li></ul></div></div>"
      ]
     },
     "metadata": {},
     "output_type": "display_data"
    },
    {
     "name": "stdout",
     "output_type": "stream",
     "text": [
      "Using Azure OpenAI Service\r\n"
     ]
    }
   ],
   "source": [
    "// Install the required NuGet packages\n",
    "// Note: This also installs the Dependency Injection Package to retrieve the ChatCompletionService\n",
    "#r \"nuget: Microsoft.Extensions.DependencyInjection, 9.0.0\"\n",
    "#r \"nuget: Microsoft.SemanticKernel, 1.33.0\"\n",
    "\n",
    "using Microsoft.Extensions.DependencyInjection.Extensions;\n",
    "using Microsoft.Extensions.DependencyInjection;\n",
    "using Microsoft.SemanticKernel;\n",
    "using Microsoft.SemanticKernel.ChatCompletion;\n",
    "using Microsoft.SemanticKernel.Connectors.OpenAI;\n",
    "\n",
    "Kernel semanticKernel;\n",
    "\n",
    "// Set the flag to use Azure OpenAI or OpenAI. False to use OpenAI, True to use Azure OpenAI\n",
    "var useAzureOpenAI = true;\n",
    "\n",
    "// Create a new Semantic Kernel instance\n",
    "if (useAzureOpenAI)\n",
    "{\n",
    "    Console.WriteLine(\"Using Azure OpenAI Service\");\n",
    "    semanticKernel = Kernel.CreateBuilder()\n",
    "        .AddAzureOpenAIChatCompletion(\n",
    "            deploymentName: azureOpenAIModelDeploymentName,\n",
    "            endpoint: azureOpenAIEndpoint,\n",
    "            apiKey: azureOpenAIAPIKey)\n",
    "        .Build();\n",
    "}\n",
    "else\n",
    "{\n",
    "    Console.WriteLine(\"Using OpenAI Service\");\n",
    "    semanticKernel = Kernel.CreateBuilder()\n",
    "        .AddOpenAIChatCompletion(\n",
    "            modelId: openAIModelId,\n",
    "            apiKey: openAIAPIKey)\n",
    "        .Build();\n",
    "}\n",
    "\n",
    "var chatCompletionService = semanticKernel.Services.GetRequiredService<IChatCompletionService>();"
   ]
  },
  {
   "cell_type": "markdown",
   "metadata": {},
   "source": [
    "### Step 2 - Execute Decision Chat Completion with Prompt Execution Settings "
   ]
  },
  {
   "cell_type": "markdown",
   "metadata": {},
   "source": [
    "> \"If you can’t describe what you are doing as a process, you don’t know what you’re doing.\" \n",
    ">\n",
    "> -- <cite>W. Edwards Deming (renowned American engineer, statistician, and management consultant)</cite>  \n",
    "\n",
    "\n",
    "Using the Semantic Kernel ChatCompletion service is very similar to inovoking a prompt for basic LLM interactions. The chat completion service will provide very similar results to invoking the prompt directly."
   ]
  },
  {
   "cell_type": "code",
   "execution_count": 3,
   "metadata": {
    "dotnet_interactive": {
     "language": "csharp"
    },
    "polyglot_notebook": {
     "kernelName": "csharp"
    },
    "vscode": {
     "languageId": "polyglot-notebook"
    }
   },
   "outputs": [
    {
     "name": "stdout",
     "output_type": "stream",
     "text": [
      "Here are five widely recognized decision-making frameworks that can help improve the quality of decisions:\n",
      "\n",
      "---\n",
      "\n",
      "### 1. **The OODA Loop (Observe, Orient, Decide, Act)**\n",
      "   - **Description**: Developed by military strategist John Boyd, the OODA Loop is a cyclical process designed to help individuals and organizations make decisions quickly and adapt to changing circumstances.\n",
      "   - **Steps**:\n",
      "     1. **Observe**: Gather information and assess the current situation.\n",
      "     2. **Orient**: Analyze the information, consider options, and align with goals.\n",
      "     3. **Decide**: Choose the best course of action based on the analysis.\n",
      "     4. **Act**: Implement the decision and monitor the results.\n",
      "   - **Use Case**: Effective in dynamic, fast-changing environments like business strategy or crisis management.\n",
      "\n",
      "---\n",
      "\n",
      "### 2. **The Eisenhower Matrix (Urgent-Important Matrix)**\n",
      "   - **Description**: A time-management and prioritization tool that helps focus on what truly matters by categorizing tasks based on urgency and importance.\n",
      "   - **Quadrants**:\n",
      "     1. **Urgent & Important**: Do immediately.\n",
      "     2. **Important but Not Urgent**: Schedule for later.\n",
      "     3. **Urgent but Not Important**: Delegate to others.\n",
      "     4. **Neither Urgent nor Important**: Eliminate or ignore.\n",
      "   - **Use Case**: Useful for prioritizing tasks and making decisions about resource allocation.\n",
      "\n",
      "---\n",
      "\n",
      "### 3. **The Six Thinking Hats**\n",
      "   - **Description**: Developed by Edward de Bono, this framework encourages looking at a decision from multiple perspectives by metaphorically \"wearing\" different hats.\n",
      "   - **Hats**:\n",
      "     1. **White Hat**: Focus on facts and data.\n",
      "     2. **Red Hat**: Consider emotions and intuition.\n",
      "     3. **Black Hat**: Identify risks and potential problems.\n",
      "     4. **Yellow Hat**: Highlight benefits and opportunities.\n",
      "     5. **Green Hat**: Explore creativity and new ideas.\n",
      "     6. **Blue Hat**: Manage the decision-making process.\n",
      "   - **Use Case**: Ideal for group decision-making and fostering balanced perspectives.\n",
      "\n",
      "---\n",
      "\n",
      "### 4. **The DECIDE Model**\n",
      "   - **Description**: A structured, step-by-step approach to making decisions, particularly in complex or high-stakes situations.\n",
      "   - **Steps**:\n",
      "     1. **D**efine the problem.\n",
      "     2. **E**stablish criteria for a successful outcome.\n",
      "     3. **C**ollect and analyze relevant information.\n",
      "     4. **I**dentify possible solutions.\n",
      "     5. **D**ecide on the best option.\n",
      "     6. **E**valuate the decision and its consequences.\n",
      "   - **Use Case**: Useful for systematic and thorough decision-making.\n",
      "\n",
      "---\n",
      "\n",
      "### 5. **The Pros and Cons List**\n",
      "   - **Description**: A simple yet effective framework for weighing the advantages and disadvantages of a decision.\n",
      "   - **Steps**:\n",
      "     1. Create two columns: \"Pros\" and \"Cons.\"\n",
      "     2. List all the positive aspects (pros) and negative aspects (cons) of the decision.\n",
      "     3. Evaluate the list to determine which side carries more weight.\n",
      "   - **Use Case**: Best for straightforward decisions or when clarity is needed.\n",
      "\n",
      "---\n",
      "\n",
      "Each of these frameworks can be adapted to suit different contexts, from personal decisions to complex organizational challenges. Using them thoughtfully can lead to more informed, balanced, and effective outcomes.\r\n"
     ]
    }
   ],
   "source": [
    "// Simple prompt to list some decision frameworks this GenAI LLM is familiar with \n",
    "// LLMs are trained on a diverse range of data and can provide insights on a wide range of topics like decision frameworks\n",
    "// SLMS (smaller LLMs) are trained on a more specific range of data and may not provide insights on all topics\n",
    "var simpleDecisionPrompt = \"\"\"\n",
    "Provide a list of 5 decision frameworks that can help improve the quality of decisions.\n",
    "\"\"\";\n",
    "\n",
    "// Create a new OpenAI prompt execution settings object\n",
    "var openAIPromptExecutionSettings = new OpenAIPromptExecutionSettings { \n",
    "    MaxTokens = 1000, \n",
    "    Temperature = 0.1, \n",
    "    TopP = 1.0, \n",
    "    FrequencyPenalty = 0.0, \n",
    "    PresencePenalty = 0.0\n",
    "    };\n",
    "\n",
    "var chatResult = await chatCompletionService.GetChatMessageContentAsync(simpleDecisionPrompt, openAIPromptExecutionSettings);\n",
    "\n",
    "Console.WriteLine(chatResult.Content);"
   ]
  },
  {
   "cell_type": "markdown",
   "metadata": {},
   "source": [
    "### Step 3 - Execute Decision Chat Completion with Streaming "
   ]
  },
  {
   "cell_type": "markdown",
   "metadata": {},
   "source": [
    "Semantic Kernel supports prompt response streaming in the ChatCompletionService. This allows responses to be streamed to the client as soon as they are made available by the LLM and API services. Below the same decision prompt is executed. However, notice that chunks are streamed and can be read by the user as soon as they appear. "
   ]
  },
  {
   "cell_type": "code",
   "execution_count": 4,
   "metadata": {
    "dotnet_interactive": {
     "language": "csharp"
    },
    "polyglot_notebook": {
     "kernelName": "csharp"
    },
    "vscode": {
     "languageId": "polyglot-notebook"
    }
   },
   "outputs": [
    {
     "name": "stdout",
     "output_type": "stream",
     "text": [
      "Here’s a list of five proven decision-making frameworks that can help improve the quality of your decisions:\n",
      "\n",
      "---\n",
      "\n",
      "### 1. **OODA Loop (Observe, Orient, Decide, Act)**  \n",
      "This framework, developed by military strategist John Boyd, is used to make decisions in dynamic and fast-paced environments.  \n",
      "\n",
      "**Steps:**  \n",
      "- **Observe**: Gather information about the situation.  \n",
      "- **Orient**: Analyze the information and assess context, priorities, and biases.  \n",
      "- **Decide**: Choose the best course of action based on the analysis.  \n",
      "- **Act**: Execute the decision and observe the outcome to repeat the loop if needed.  \n",
      "\n",
      "---\n",
      "\n",
      "### 2. **PEST Analysis (Political, Economic, Social, Technological)**  \n",
      "A strategic tool for assessing external macro-environmental factors affecting a decision or organization.  \n",
      "\n",
      "**Steps:**  \n",
      "- Consider how **Political** trends or policies might impact the decision.  \n",
      "- Evaluate the **Economic** environment, such as market trends or resources.  \n",
      "- Analyze **Social** aspects, including cultural norms and customer preferences.  \n",
      "- Review **Technological** developments and innovations.  \n",
      "\n",
      "---\n",
      "\n",
      "### 3. **Six Thinking Hats** (by Edward de Bono)  \n",
      "This method encourages decision-makers to view a problem from different perspectives using metaphorical \"hats.\"  \n",
      "\n",
      "**Steps:**  \n",
      "- **White Hat**: Focus on data and factual information.  \n",
      "- **Red Hat**: Explore emotions and gut feelings.  \n",
      "- **Black Hat**: Identify risks and potential problems.  \n",
      "- **Yellow Hat**: Consider the positive aspects and benefits.  \n",
      "- **Green Hat**: Encourage creativity and innovation.  \n",
      "- **Blue Hat**: Manage the thinking process and focus on outcomes.  \n",
      "\n",
      "---\n",
      "\n",
      "### 4. **Decision Matrix (or Weighted Scoring Model)**  \n",
      "This is a quantitative framework for ranking multiple options based on predefined criteria.  \n",
      "\n",
      "**Steps:**  \n",
      "- List possible options and decision criteria.  \n",
      "- Assign weights to each criterion based on its importance.  \n",
      "- Score each option for every criterion.  \n",
      "- Multiply the scores by the weights and sum them to calculate total scores.  \n",
      "- Choose the option with the highest score.  \n",
      "\n",
      "---\n",
      "\n",
      "### 5. **First Principles Thinking**  \n",
      "A problem-solving approach that involves breaking down complex problems into their fundamental components. Popularized by thinkers like Elon Musk.  \n",
      "\n",
      "**Steps:**  \n",
      "- Identify fundamental truths or assumptions underlying the problem.  \n",
      "- Deconstruct the problem into its most basic elements.  \n",
      "- Build solutions based on core principles, rather than on existing analogies or conventions.  \n",
      "\n",
      "---\n",
      "\n",
      "Each of these frameworks offers unique strengths tailored for specific contexts, whether strategic planning, creative decision-making, or rapid responses. You can adapt or combine them depending on your decision-making challenges!"
     ]
    }
   ],
   "source": [
    "// Stream the chat completion response\n",
    "await foreach (var content in chatCompletionService.GetStreamingChatMessageContentsAsync(simpleDecisionPrompt))\n",
    "{\n",
    "    Console.Write(content);\n",
    "}"
   ]
  },
  {
   "cell_type": "markdown",
   "metadata": {},
   "source": [
    "### Step 4 - Execute Decision Chat Completion with a System Prompt & Chat History "
   ]
  },
  {
   "cell_type": "markdown",
   "metadata": {},
   "source": [
    "Semantic Kernel has a ChatHistory object that can be used with the ChatCompletionService to provide historical chat context to the LLM. Notice that the ChatHistory object differentiates between the different types of chat messages:\n",
    "* System Message - System or MetaPrompt. These are usually global instructions that set the \"overall rules\" for interacting with the LLMs.\n",
    "* User Message - A message from the user\n",
    "* Assistant Message - A message from the LLM. This is a message generated from an assistant or an agent. \n",
    "\n",
    "Identifying the messages from which role (user) it came from can help the LLM improve its own reasoning responses. This is a more sophisticated approach than passing chat history in a long dynamic string. ChatHistory objects can be serialized and persisted into databases as well."
   ]
  },
  {
   "cell_type": "code",
   "execution_count": 5,
   "metadata": {
    "dotnet_interactive": {
     "language": "csharp"
    },
    "polyglot_notebook": {
     "kernelName": "csharp"
    },
    "vscode": {
     "languageId": "polyglot-notebook"
    }
   },
   "outputs": [
    {
     "name": "stdout",
     "output_type": "stream",
     "text": [
      "Improving decision quality involves systematically organizing your thoughts, analyzing information, and evaluating possible outcomes. Below are five robust decision-making frameworks to help you make better decisions:\n",
      "\n",
      "---\n",
      "\n",
      "### 1. **Decision Matrix Analysis (Weighted Scoring Model)**  \n",
      "This framework helps evaluate and prioritize multiple options based on a set of criteria.\n",
      "\n",
      "#### **How It Works**:\n",
      "1. **List Options and Criteria**: Write down all the possible options and the decision-making criteria.\n",
      "2. **Assign Weights**: Allocate importance (weights) to each criterion based on its relevance.\n",
      "3. **Score Options**: Rate each option against each criterion on a consistent scale (e.g., 1 to 10).\n",
      "4. **Multiply and Add**: Multiply scores by weights and sum them up for each option.\n",
      "5. **Select the Winner**: The option with the highest total score is your best choice.\n",
      "\n",
      "#### **Best For**: Choosing among competing alternatives when criteria are both qualitative (e.g., \"ease of use\") and quantitative (e.g., \"cost\").\n",
      "\n",
      "---\n",
      "\n",
      "### 2. **Cost-Benefit Analysis**  \n",
      "This framework weighs the benefits and costs of a decision to determine whether it creates net value.\n",
      "\n",
      "#### **How It Works**:\n",
      "1. **Identify Costs and Benefits**: List all potential costs (financial, time, risk) and benefits (revenue, convenience, personal growth).\n",
      "2. **Quantify Each**: Where possible, assign monetary values to every cost and benefit. For qualitative factors, you can estimate using scoring or weighting.\n",
      "3. **Calculate Net Value**: Subtract total costs from total benefits (Benefit - Cost = Net Value).\n",
      "4. **Assess Feasibility**: If the net value is positive and risks are manageable, the option is viable.\n",
      "\n",
      "#### **Best For**: Financial decisions, project prioritization, or resource allocation.\n",
      "\n",
      "---\n",
      "\n",
      "### 3. **The OODA Loop**  \n",
      "Developed by military strategist John Boyd, this iterative framework focuses on agility, adaptability, and learning in fast-changing environments.\n",
      "\n",
      "#### **How It Works**:\n",
      "1. **Observe**: Gather information and understand the current situation.\n",
      "2. **Orient**: Analyze this information in the context of goals, potential obstacles, and environmental factors.\n",
      "3. **Decide**: Select the best course of action based on your analysis.\n",
      "4. **Act**: Execute your decision and monitor the results, restarting the loop as necessary.\n",
      "\n",
      "#### **Best For**: Situations requiring rapid decision-making, such as crisis management or dynamic markets.\n",
      "\n",
      "---\n",
      "\n",
      "### 4. **The Six Thinking Hats Framework (Edward de Bono)**  \n",
      "This approach fosters holistic and collaborative decision-making by encouraging you to look at a situation from multiple perspectives.\n",
      "\n",
      "#### **How It Works**:\n",
      "- **White Hat (Facts)**: Focus on data, facts, and objective information.\n",
      "- **Red Hat (Emotions)**: Explore emotional factors like intuition, fears, and desires.\n",
      "- **Black Hat (Risks)**: Identify potential challenges, risks, and negative outcomes.\n",
      "- **Yellow Hat (Positives)**: Consider potential benefits, opportunities, and positive effects.\n",
      "- **Green Hat (Creativity)**: Brainstorm innovative solutions and alternative ideas.\n",
      "- **Blue Hat (Process)**: Manage the decision-making process and ensure focus.\n",
      "\n",
      "#### **Best For**: Teams with diverse perspectives, creative problem-solving, and avoiding bias.\n",
      "\n",
      "---\n",
      "\n",
      "### 5. **Systems Thinking (Causal Loop Diagrams)**  \n",
      "This framework emphasizes understanding the interconnectedness of factors and how decisions will impact the broader system.\n",
      "\n",
      "#### **How It Works**:\n",
      "1. **Define the System**: Identify the problem, the stakeholders involved, and key variables.\n",
      "2. **Map Relationships**: Diagram how different variables impact each other (e.g., \"If marketing budget increases, customer acquisition increases\").\n",
      "3. **Identify Feedback Loops**:\n",
      "   - **Reinforcing Loops**: Actions that amplify impact (e.g., positive customer reviews → increased sales → more positive reviews).\n",
      "   - **Balancing Loops**: Actions that stabilize the system (e.g., increased maintenance costs → less profit → curbed expansion).\n",
      "4. **Simulate Changes**: Test how different interventions might affect the system over time.\n",
      "\n",
      "#### **Best For**: Complex, multi-stakeholder decisions or situations with cascading effects (e.g., environmental policy, organizational change).\n",
      "\n",
      "---\n",
      "\n",
      "### **Key Takeaway**:  \n",
      "Each framework serves a different purpose, so the choice depends on the decision’s nature:\n",
      "- **Highly Analytical Decisions**: Use Decision Matrices or Cost-Benefit Analysis.\n",
      "- **Rapid, Dynamic Decisions**: Use the OODA Loop.\n",
      "- **Collaborative Decisions**: Use the Six Thinking Hats.\n",
      "- **Systemic, Long-Term Decisions**: Use Systems Thinking.\n",
      "\n",
      "By selecting the most fitting framework, you improve not only the quality of decisions but also your confidence in executing them effectively."
     ]
    }
   ],
   "source": [
    "// Set the overall system prompt to behave like a decision intelligence assistant (persona)\n",
    "var systemPrompt = \"\"\"\n",
    "You are a Decision Intelligence assistant. \n",
    "Assist the user in exploring options, reasoning through decisions, problem-solving, and applying systems thinking to various scenarios. \n",
    "Provide structured, logical, and comprehensive advice.\n",
    "\"\"\";\n",
    "\n",
    "// Simple instruction prompt to list 5 (five) decision frameworks this GenAI LLM is familiar with\n",
    "var simpleDecisionPrompt = \"\"\"\n",
    "Provide five Decision Frameworks that can help improve the quality of decisions.\n",
    "\"\"\";\n",
    "\n",
    "// Create a new chat history object with proper system and user message roles\n",
    "var chatHistory = new ChatHistory();\n",
    "chatHistory.AddSystemMessage(systemPrompt);\n",
    "chatHistory.AddUserMessage(simpleDecisionPrompt);\n",
    "\n",
    "var chatResponse = string.Empty;\n",
    "await foreach (var content in chatCompletionService.GetStreamingChatMessageContentsAsync(chatHistory))\n",
    "{\n",
    "    chatResponse += content;\n",
    "    Console.Write(content);\n",
    "}\n",
    "\n",
    "// Add the assistant's response to the chat history\n",
    "chatHistory.AddAssistantMessage(chatResponse);"
   ]
  },
  {
   "cell_type": "markdown",
   "metadata": {},
   "source": [
    "In the next step, an additional prompt instruction will be added to the chat history. From the 5 decision frameworks provided in the chat history, Generative AI is asked to recommed a framework best suited for the militaty intelligence community. Notice that the previous chat history is automatically provided to provide additional intelligence context. \n",
    "\n",
    "> \"Take time to deliberate, but when the time for action comes, stop thinking and go in.\"\n",
    ">\n",
    "> -- <cite>Napoleon Bornaparte (French Emporer and brilliant military mind)</cite>  "
   ]
  },
  {
   "cell_type": "code",
   "execution_count": 6,
   "metadata": {
    "dotnet_interactive": {
     "language": "csharp"
    },
    "polyglot_notebook": {
     "kernelName": "csharp"
    },
    "vscode": {
     "languageId": "polyglot-notebook"
    }
   },
   "outputs": [
    {
     "name": "stdout",
     "output_type": "stream",
     "text": [
      "For the military intelligence community, the **OODA Loop (Observe, Orient, Decide, Act)** is the single best-suited framework.\n",
      "\n",
      "---\n",
      "\n",
      "### **Reasons Why the OODA Loop Is Most Suitable**:\n",
      "\n",
      "1. **Adaptability in Fluid Environments**:\n",
      "   - Military intelligence operates in fast-paced, high-stakes environments where new information (e.g., enemy movements, emerging threats) can rapidly alter the situation.\n",
      "   - The OODA Loop's iterative nature allows analysts and decision-makers to reassess and adjust in real-time, ensuring agility in dynamic scenarios.\n",
      "\n",
      "2. **Focus on Situational Awareness**:\n",
      "   - The \"Observe\" and \"Orient\" stages place a critical emphasis on gathering and interpreting intelligence—key pillars of military decision-making.\n",
      "   - It helps prioritize actionable insights without getting bogged down in uncertainty.\n",
      "\n",
      "3. **Combining Speed and Precision**:\n",
      "   - In military operations, decisions must often be made rapidly, but with a calculated balance of risks and rewards. The OODA Loop provides a framework for swift yet thoughtful decision-making under pressure.\n",
      "\n",
      "4. **Accountability for Execution**:\n",
      "   - The \"Act\" stage ensures that decisions lead to concrete steps while creating a feedback loop for evaluation and improvement. This is vital for the military intelligence community, where execution can have immediate and far-reaching consequences.\n",
      " \n",
      "5. **Multilevel Applicability**:\n",
      "   - The OODA Loop works at both tactical and strategic levels. Whether it's an individual field commander deciding how to respond to real-time intelligence or national-level leaders shaping long-term strategies, the framework adapts across scales.\n",
      "\n",
      "6. **Integration of Technology and Intelligence**:\n",
      "   - Military intelligence increasingly incorporates automated systems, surveillance technologies, and big data. The OODA Loop facilitates integrating these tools into decision cycles, ensuring that information is used effectively to outpace adversaries.\n",
      "\n",
      "---\n",
      "\n",
      "### **Practical Example in Military Intelligence**:\n",
      "- **Observe**: Satellite imagery and intercepted communications indicate enemy troop movements in a specific region.\n",
      "- **Orient**: Analysts assess how this movement aligns with previous patterns, goals, and terrain advantages. This step incorporates data, cultural knowledge, and strategy.\n",
      "- **Decide**: Command identifies the best counteraction based on analysis, such as redeploying forces, initiating a preemptive strike, or boosting defense in critical areas.\n",
      "- **Act**: Orders are executed, and outcomes are monitored, feeding back into the next observe-orient cycle.\n",
      "\n",
      "---\n",
      "\n",
      "### **Why the Others Are Less Suitable**:\n",
      "- **Decision Matrix Analysis**: While helpful for static decision-making, it may not handle the dynamic and unpredictable nature of military intelligence situations.\n",
      "- **Cost-Benefit Analysis**: Useful for long-term strategic planning but often too slow and rigid for rapidly evolving operational needs.\n",
      "- **Six Thinking Hats**: Beneficial for creative problem-solving but less relevant for high-pressure decisions requiring immediate action.\n",
      "- **Systems Thinking**: Ideal for assessing long-term systemic consequences, but its complexity is not always practical in urgent battlefield scenarios.\n",
      "\n",
      "---\n",
      "\n",
      "The OODA Loop aligns with the military intelligence community's need for **situational awareness, adaptability, speed, and precision**, making it the optimal decision framework in this context."
     ]
    }
   ],
   "source": [
    "// Note: No reference is made to what previous frameworks were listed.\n",
    "// Note: Previous context is maintained by the Semantic Kernel ChatHistory object \n",
    "var simpleDecisionPromptFollowupQuestionPartTwo = \"\"\"\n",
    "Which of the 5 decision frameworks listed above is best suited for the military intelligence community? \n",
    "Select only the single best framework. \n",
    "\"\"\";\n",
    "\n",
    "// Add User message to the chat history\n",
    "chatHistory.AddUserMessage(simpleDecisionPromptFollowupQuestionPartTwo);\n",
    "\n",
    "var chatResponse = string.Empty;\n",
    "await foreach (var content in chatCompletionService.GetStreamingChatMessageContentsAsync(chatHistory))\n",
    "{\n",
    "    chatResponse += content;\n",
    "    Console.Write(content);\n",
    "}\n",
    "\n",
    "// Add Assistant message to the chat history\n",
    "chatHistory.AddAssistantMessage(chatResponse);"
   ]
  },
  {
   "cell_type": "markdown",
   "metadata": {},
   "source": [
    "### Step 5 - Execute Decision Chat Completion with a Multi-Turn Conversation Scenario "
   ]
  },
  {
   "cell_type": "markdown",
   "metadata": {},
   "source": [
    "> \"Price is what you pay. Value is what you get.\"  \n",
    ">\n",
    "> -- <cite>Warren Buffet (one of the most successful investors of all time)</cite>  "
   ]
  },
  {
   "cell_type": "markdown",
   "metadata": {},
   "source": [
    "With Semantic Kernel maintaining state with the ChatHistory object, the natural converation between user and AI can be persisted for future use. It can be saved for future reference, it can be replayed, it can be forked in certain spots to try different scenarios, it can be used as a starting point for other conversations etc. \n",
    "\n",
    "In the scenario below, let's build a multi-turn conversation about a decision over a purchase for a fitness tracker. Notice that each turn the appropriate Chat History roles are populated with the appropriate prompts and assistant (AI) responses. This in effect acts as the Gathering Intelligence step of the Decision Intelligence framework as the conversation information has been persisted and can be re-used as context for the decision scenario."
   ]
  },
  {
   "cell_type": "code",
   "execution_count": 7,
   "metadata": {
    "dotnet_interactive": {
     "language": "csharp"
    },
    "polyglot_notebook": {
     "kernelName": "csharp"
    },
    "vscode": {
     "languageId": "polyglot-notebook"
    }
   },
   "outputs": [],
   "source": [
    "// Set the overall system prompt to behave like a decision intelligence assistant (persona)\n",
    "var systemPromptDecisionConversation = \"\"\"\n",
    "You are a Decision Intelligence assistant. \n",
    "Assist the user in exploring options, reasoning through decisions, problem-solving, and applying systems thinking to various scenarios. \n",
    "Provide structured, logical, and comprehensive advice.\n",
    "\"\"\";\n",
    "\n",
    "// User prompt to start a decision conversation about buying a fitness tracker\n",
    "var userPromptDecisionConversationTurn1 = \"\"\"\n",
    "I am considering buying a fitness tracker but I am not sure which features really matter. \n",
    "Could you explain the main considerations? \n",
    "\"\"\";\n",
    "\n",
    "var assistantResponseDecisionConversationTurn1 = \"\"\"\n",
    "Absolutely! Key considerations for choosing a fitness tracker often include: \n",
    "- Fitness Features (e.g., step counting, heart-rate monitoring, workout tracking)\n",
    "- Health Monitoring (like sleep tracking or advanced ECG capabilities)\n",
    "- Battery Life\n",
    "- Comfort and Fit\n",
    "- Compatibility with your smartphone's operating system\n",
    "- Price Range\n",
    "- Knowing which of these you value most will help narrow down your options.\n",
    "\"\"\";\n",
    "\n",
    "var userPromptDecisionConversationTurn2 = \"\"\"\n",
    "Got it. Battery life and sleep tracking are both important to me. \n",
    "What's a typical battery life range for trackers, and how good is their sleep tracking?\n",
    "\"\"\";\n",
    "\n",
    "var assistantResponseDecisionConversationTurn2 = \"\"\"\n",
    "Different fitness trackers have varying battery lives, typically anywhere from 2-3 days (for more feature-rich or bright-display devices) \n",
    "up to about 10-14 days (for more minimalist trackers). \n",
    "\n",
    "Regarding sleep tracking:\n",
    "- Many modern devices can track different sleep stages (light, deep, REM).\n",
    "- High-end devices even track breathing rate and oxygen saturation during the night.\n",
    "- Some also offer insights about sleep quality and tips for improvement.\n",
    "\n",
    "If battery life is a priority, you may want to consider trackers with a more conservative display and fewer power-hungry features.\n",
    "\"\"\";\n",
    "\n",
    "var userPromptDecisionConversationTurn3 = \"\"\"\n",
    "Are there any popular models you would recommend for that balance of battery life and sleep tracking?\n",
    "\"\"\";\n",
    "\n",
    "var assistantResponseDecisionConversationTurn3 = \"\"\"\n",
    "Popular options that strike a balance between robust sleep tracking and good battery life include:\n",
    "- Fitbit Inspire 3 or Fitbit Charge 5: Both have solid sleep tracking, multi-day battery, and strong app support.\n",
    "- Garmin Vivosmart 5: Offers decent fitness and sleep insights, plus better-than-average battery life.\n",
    "- Xiaomi Mi Band 7: Budget-friendly, surprisingly robust health metrics, and a long-lasting battery.\n",
    "\n",
    "Each varies in price and features, so consider your budget and the specific metrics you’d like to track.\n",
    "\"\"\";\n",
    "\n",
    "var userPromptDecisionConversationTurn4 = \"\"\"\n",
    "That is great infor. \n",
    "I also have a friend who said I should consider an Apple Watch. \n",
    "Does that have comparable battery life and sleep tracking?\n",
    "\"\"\";\n",
    "\n",
    "var assistantResponseDecisionConversationTurn4 = \"\"\"\n",
    "The Apple Watch is known for its extensive feature set, including advanced health monitoring, \n",
    "but its battery life tends to be shorter—usually around 18-24 hours on a single charge \n",
    "(or possibly a bit more in low-power mode). While its sleep tracking features have improved over time, \n",
    "you might find you need to charge it daily or almost daily, which could conflict with your goal of 24/7 tracking. \n",
    "\"\"\";\n",
    "\n",
    "// Create a new chat history with a multi-turn conversation about buying a fitness tracker\n",
    "var chatHistoryDecisionConversation = new ChatHistory();\n",
    "chatHistoryDecisionConversation.AddSystemMessage(systemPromptDecisionConversation);\n",
    "chatHistoryDecisionConversation.AddUserMessage(userPromptDecisionConversationTurn1);\n",
    "chatHistoryDecisionConversation.AddAssistantMessage(assistantResponseDecisionConversationTurn1);\n",
    "chatHistoryDecisionConversation.AddUserMessage(userPromptDecisionConversationTurn2);\n",
    "chatHistoryDecisionConversation.AddAssistantMessage(assistantResponseDecisionConversationTurn2);\n",
    "chatHistoryDecisionConversation.AddUserMessage(userPromptDecisionConversationTurn3);\n",
    "chatHistoryDecisionConversation.AddAssistantMessage(assistantResponseDecisionConversationTurn3);\n",
    "chatHistoryDecisionConversation.AddUserMessage(userPromptDecisionConversationTurn4);\n",
    "chatHistoryDecisionConversation.AddAssistantMessage(assistantResponseDecisionConversationTurn4);\n"
   ]
  },
  {
   "cell_type": "markdown",
   "metadata": {},
   "source": [
    "Using the above conversation as the \"Gathered Intelligence\" betweeen the user and the AI assistant, let's make a final decision and ask for final feedback and a decision evaluation. "
   ]
  },
  {
   "cell_type": "code",
   "execution_count": 8,
   "metadata": {
    "dotnet_interactive": {
     "language": "csharp"
    },
    "polyglot_notebook": {
     "kernelName": "csharp"
    },
    "vscode": {
     "languageId": "polyglot-notebook"
    }
   },
   "outputs": [
    {
     "name": "stdout",
     "output_type": "stream",
     "text": [
      "Great choice! The Fitbit Inspire 3 is a solid option for balancing affordability, battery life (up to 10 days), and reliable sleep tracking. It’s lightweight, comfortable for 24/7 wear, and integrates well with the Fitbit app for detailed insights.\n",
      "\n",
      "**Final thoughts:**\n",
      "- Make sure it’s compatible with your phone for syncing data.\n",
      "- Consider any additional Fitbit Premium features (optional subscription) in case you’re interested in deeper health insights or guided programs later.\n",
      "- Check for discounts or bundles since fitness trackers often go on sale!\n",
      "\n",
      "Overall, the Inspire 3 seems aligned with your priorities. Enjoy tracking your health and sleep—it’s a great step toward better wellness! 😊"
     ]
    }
   ],
   "source": [
    "var userPromptDecisionConversationFinalDecision = \"\"\"\n",
    "Thank you for all of that information, I think I'll go with a Fitbit. \n",
    "The Fitbit Inspire 3 seems like a good fit for my budget and needs. \n",
    "Any quick final thoughts on my decision? \n",
    "\"\"\";\n",
    "\n",
    "// Add User message to the chat history\n",
    "chatHistoryDecisionConversation.AddUserMessage(userPromptDecisionConversationFinalDecision);\n",
    "\n",
    "var chatResponse = string.Empty;\n",
    "await foreach (var content in chatCompletionService.GetStreamingChatMessageContentsAsync(chatHistoryDecisionConversation))\n",
    "{\n",
    "    chatResponse += content;\n",
    "    Console.Write(content);\n",
    "}"
   ]
  },
  {
   "cell_type": "markdown",
   "metadata": {},
   "source": [
    "### Step 6 - Inspect Gathered Intelligence of Chat History "
   ]
  },
  {
   "cell_type": "markdown",
   "metadata": {},
   "source": [
    "The Semantic Kernel Chat History is a transparent construct that can be inspected and written out. In fact, the ChatHistory object can be manipulated to replay chats from middle interactions to simulate different outcomes.\n",
    "\n",
    "Execute the cell below to write out the Semantic Kernel Chat History of this chat."
   ]
  },
  {
   "cell_type": "code",
   "execution_count": 9,
   "metadata": {
    "dotnet_interactive": {
     "language": "csharp"
    },
    "polyglot_notebook": {
     "kernelName": "csharp"
    },
    "vscode": {
     "languageId": "polyglot-notebook"
    }
   },
   "outputs": [
    {
     "name": "stdout",
     "output_type": "stream",
     "text": [
      "Number of chat interactions: 10\n",
      "\n",
      "# SYSTEM: You are a Decision Intelligence assistant. \n",
      "Assist the user in exploring options, reasoning through decisions, problem-solving, and applying systems thinking to various scenarios. \n",
      "Provide structured, logical, and comprehensive advice.\n",
      "\n",
      "# USER: I am considering buying a fitness tracker but I am not sure which features really matter. \n",
      "Could you explain the main considerations? \n",
      "\n",
      "# ASSISTANT: Absolutely! Key considerations for choosing a fitness tracker often include: \n",
      "- Fitness Features (e.g., step counting, heart-rate monitoring, workout tracking)\n",
      "- Health Monitoring (like sleep tracking or advanced ECG capabilities)\n",
      "- Battery Life\n",
      "- Comfort and Fit\n",
      "- Compatibility with your smartphone's operating system\n",
      "- Price Range\n",
      "- Knowing which of these you value most will help narrow down your options.\n",
      "\n",
      "# USER: Got it. Battery life and sleep tracking are both important to me. \n",
      "What's a typical battery life range for trackers, and how good is their sleep tracking?\n",
      "\n",
      "# ASSISTANT: Different fitness trackers have varying battery lives, typically anywhere from 2-3 days (for more feature-rich or bright-display devices) \n",
      "up to about 10-14 days (for more minimalist trackers). \n",
      "\n",
      "Regarding sleep tracking:\n",
      "- Many modern devices can track different sleep stages (light, deep, REM).\n",
      "- High-end devices even track breathing rate and oxygen saturation during the night.\n",
      "- Some also offer insights about sleep quality and tips for improvement.\n",
      "\n",
      "If battery life is a priority, you may want to consider trackers with a more conservative display and fewer power-hungry features.\n",
      "\n",
      "# USER: Are there any popular models you would recommend for that balance of battery life and sleep tracking?\n",
      "\n",
      "# ASSISTANT: Popular options that strike a balance between robust sleep tracking and good battery life include:\n",
      "- Fitbit Inspire 3 or Fitbit Charge 5: Both have solid sleep tracking, multi-day battery, and strong app support.\n",
      "- Garmin Vivosmart 5: Offers decent fitness and sleep insights, plus better-than-average battery life.\n",
      "- Xiaomi Mi Band 7: Budget-friendly, surprisingly robust health metrics, and a long-lasting battery.\n",
      "\n",
      "Each varies in price and features, so consider your budget and the specific metrics you’d like to track.\n",
      "\n",
      "# USER: That is great infor. \n",
      "I also have a friend who said I should consider an Apple Watch. \n",
      "Does that have comparable battery life and sleep tracking?\n",
      "\n",
      "# ASSISTANT: The Apple Watch is known for its extensive feature set, including advanced health monitoring, \n",
      "but its battery life tends to be shorter—usually around 18-24 hours on a single charge \n",
      "(or possibly a bit more in low-power mode). While its sleep tracking features have improved over time, \n",
      "you might find you need to charge it daily or almost daily, which could conflict with your goal of 24/7 tracking. \n",
      "\n",
      "# USER: Thank you for all of that information, I think I'll go with a Fitbit. \n",
      "The Fitbit Inspire 3 seems like a good fit for my budget and needs. \n",
      "Any quick final thoughts on my decision? \n"
     ]
    }
   ],
   "source": [
    "// Print the number of chat interactions and the chat history (turns)\n",
    "Console.WriteLine(\"Number of chat interactions: \" + chatHistoryDecisionConversation.Count());\n",
    "\n",
    "foreach (var message in chatHistoryDecisionConversation)\n",
    "{\n",
    "    Console.WriteLine(string.Empty);\n",
    "    Console.WriteLine($\"# {message.Role.ToString().ToUpper()}: {message.Content}\");\n",
    "}"
   ]
  },
  {
   "cell_type": "markdown",
   "metadata": {},
   "source": [
    "Having the Chat History object available for inspection, this can be used to further help the decision-making process. For example you can load the Chat History and summarize it. "
   ]
  },
  {
   "cell_type": "code",
   "execution_count": 10,
   "metadata": {
    "dotnet_interactive": {
     "language": "csharp"
    },
    "polyglot_notebook": {
     "kernelName": "csharp"
    },
    "vscode": {
     "languageId": "polyglot-notebook"
    }
   },
   "outputs": [
    {
     "name": "stdout",
     "output_type": "stream",
     "text": [
      "The chat conversation focused on choosing a fitness tracker, discussing factors like budget, features (such as heart rate monitoring, sleep tracking, and GPS), and compatibility with smartphones. Recommendations included popular brands like Fitbit, Garmin, and Apple Watch, with suggestions based on the user's specific needs and preferences, such as fitness goals and style."
     ]
    }
   ],
   "source": [
    "var userPromptSummarizeTheDecisionChat = \"\"\"\n",
    "Briefly summarize the chat conversation about buying a fitness tracker.\n",
    "\"\"\";\n",
    "\n",
    "// Add User message to the chat history\n",
    "chatHistoryDecisionConversation.AddUserMessage(userPromptSummarizeTheDecisionChat);\n",
    "\n",
    "var chatResponse = string.Empty;\n",
    "await foreach (var content in chatCompletionService.GetStreamingChatMessageContentsAsync(userPromptSummarizeTheDecisionChat))\n",
    "{\n",
    "    chatResponse += content;\n",
    "    Console.Write(content);\n",
    "}"
   ]
  }
 ],
 "metadata": {
  "kernelspec": {
   "display_name": ".NET (C#)",
   "language": "C#",
   "name": ".net-csharp"
  },
  "language_info": {
   "name": "csharp"
  },
  "polyglot_notebook": {
   "kernelInfo": {
    "defaultKernelName": "csharp",
    "items": [
     {
      "aliases": [],
      "name": "csharp"
     }
    ]
   }
  }
 },
 "nbformat": 4,
 "nbformat_minor": 2
}
