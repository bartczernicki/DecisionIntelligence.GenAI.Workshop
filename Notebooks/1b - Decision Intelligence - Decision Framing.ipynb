{
 "cells": [
  {
   "cell_type": "markdown",
   "metadata": {},
   "source": [
    "<img style=\"float: left;padding-right: 10px\" width =\"40px\" src=\"https://raw.githubusercontent.com/bartczernicki/DecisionIntelligence.GenAI.Workshop/main/Images/SemanticKernelLogo.png\">\n",
    "\n",
    "## Decision Intelligence - Decision Framing"
   ]
  },
  {
   "cell_type": "markdown",
   "metadata": {},
   "source": [
    "<img style=\"display: block; margin: auto;\" width =\"700px\" src=\"https://raw.githubusercontent.com/bartczernicki/DecisionIntelligence.GenAI.Workshop/main/Images/DecisionIntelligence-DecisionFraming.png\">"
   ]
  },
  {
   "cell_type": "markdown",
   "metadata": {},
   "source": [
    "> \"The framing effect shows that people's decisions can be influenced by the way a problem is presented.\"\n",
    ">\n",
    "> -- <cite>Daniel Kahneman (Nobel laureate, known for psychology of judgment and decision-making)</cite>  "
   ]
  },
  {
   "cell_type": "markdown",
   "metadata": {},
   "source": [
    "**Decision Framing is about presenting or thinking about reference points to potentially uncover additional choices.** Imagine a situation where you are trying to decide whether to take a new job offer. Like any job, this specific job has it's own long list of important considerations. Typically, one doesn't evaluate every single minor metric of a job in great detail; one usually anchors on a few perspectives. Therefore, before beginning a decision we typically want to simplify the situation. One of these simplifcation techniques might be selecting the biggest pro or biggest con of the situation. In the job example, the biggest pro might be a high salary and the biggest con is a potentially a long commute and office work policy. If you focus on the frame of a higher salary, you might feel much more positive about the new job. But if you think about the longer commute, you might feel more hesitant on considering this new job. These decision frames (reference points) are highly contextual and personal to each of us in that decision situation. Therefore, another person approached with a job search may feel their decision rereference point isn't salary nor commute, it could be the quality of the work, company work culture or potential for career advancement. \n",
    "\n",
    "The way you frame your decision can strongly affect your outcome, much like looking at the same picture through different lenses. Each lens highlights different details, changing how you see the whole scene. By paying attention to how you’re framing the decision, you can find better ways to explore your options and possibly uncover new ones. Going back to the high-salary-but-long-commute job example, you might decide to negotiate a hybrid work arrangement instead of pushing for the highest pay. This is a new option you might not have considered if you only stuck to the original frame of “salary vs. commute.”\n",
    "\n",
    "Framing a decision properly helps you address the core problem, not just a symptom. Many times, we zoom in on a narrow frame and end up solving a smaller issue instead of the bigger one. In the job example, if you label the decision as just a “job offer,” you may ignore how it fits into your long-term goals. But if you rephrase it as a “career choice,” you start to consider whether you should make gradual moves in your field or take this chance to pivot to something more meaningful. Is joining a smaller company for more learning opportunities worth it, or should you chase a higher salary for quick benefits? By widening your perspective, you avoid making a short-term fix that may not support your long-term aspirations. Frames that are too tight can make you miss the core problem, causing you to only patch surface-level issues. On the other hand, good decision framing broadens your viewpoint, opens up fresh solutions, and helps you solve a more meaningful problem in the end."
   ]
  },
  {
   "cell_type": "markdown",
   "metadata": {},
   "source": [
    "<img style=\"float: left;padding-right: 25px\" width =\"400px\" src=\"https://raw.githubusercontent.com/bartczernicki/DecisionIntelligence.GenAI.Workshop/main/Images/context_story_soldier_media-manipulation.jpg\">\n",
    "\n",
    "Decision frames can be easier to understand by looking at it visually. Looking at the picture of **\"one man giving water to another\"** can be cast in very different lights depending on the angle, cropping, and color/contrast. Look at each image slice from left to right, think about the situation each frame illustrates:  \n",
    "* **Left (Threat/Control)**: When the weapon is emphasized and color is absent, the frame can be categorized as fear or suspicion. “Is he being forced? Is this a threat?” \n",
    "* **Middle (Compassionate/Humanitarian)**: Bright color and clear focus on the act of giving water frame the situation as an act of kindness. The perspective is of a soldier helping. \n",
    "* **Right (Vulnerability/Dependency)**: Similar starkness to the left image slice but with more visible caregiving. One might still sense tension (the soldier’s authority) mixed with relief (he’s giving water). The soldier’s protective stance can read as both controlling and supportive. \n",
    "\n",
    "Imagine being presented only that image slice (partial frame) of a situation and attempting to decide on the next steps. You immediately start in a poor position to arrive at a quality decision. \n"
   ]
  },
  {
   "cell_type": "markdown",
   "metadata": {},
   "source": [
    "<img style=\"float: right;padding-left: 25px; padding-right: 25px;\" width =\"500px\" src=\"https://raw.githubusercontent.com/bartczernicki/DecisionIntelligence.GenAI.Workshop/refs/heads/main/Images/PerspectiveBoatvsLand.jpg\">\n",
    "\n",
    "In this simple two-panel cartoon the power of how people in different circumstances can view the same encounter with opposite frames. Understanding the philosophy of why they see it that way is often key to finding the best outcome for everyone involved. This is considered a **superpower** of decision-framing, as it can help you with negotiations, agreements, debates etc. \n",
    "\n",
    "Decision-making is an important concept in Philosophy. You might be asking, \"Why philosophy?!\". Philosophy covers a broad set of concepts including \"critical thinking\", which teaches to think carefully and argue logically. Philosophers look at problems from all angles to test if our beliefs make sense. In fact there are entire philosophy lesson plans for students dedicated to understanding decision-framing and perspectives. For example, the [**\"PLATO - Different Perspectives Game\"**](https://www.plato-philosophy.org/teachertoolkit/different-perspectives-game/) lesson plan helps students see the world in different ways they normally don't. While this lesson plan is geared towards middle school-aged (primary school) students, it applies to all kinds of business situations. "
   ]
  },
  {
   "cell_type": "markdown",
   "metadata": {},
   "source": [
    "### Reframing with Alternative Decision Frames"
   ]
  },
  {
   "cell_type": "markdown",
   "metadata": {},
   "source": [
    "In most decisions (personal, business etc.) there is a well-defined defined decision frame. Typically, this is reflected in our personal experiences or rooted in business culture. For example, when deciding on a family dinner, the typical decision frames may anchor on: feeding everyone efficiently, priorotizing the wishes of the birthday person or a desire for a special one-time experience. This is obviously highly dependent on the situation. If the family is at an amusement park, getting everyone fed to move onto the the next great roller coaster is likely on the top of everyone's mind. However, in some situations exploring alternative decision-frames by reframing perspectives is quite warranted. For example, a longtime insurance business may start to notice that sales techniques that have been working for years are not effective and need to consider new frames to approach selling differently.\n",
    "\n",
    "Steps to order to reframe a decision frame(s):\n",
    "1. Understand the situation and the source of the decision frames \n",
    "2. Generate a list of new alternative decision frames \n",
    "3. Analyze the new set of decision frames including the original set and the new alternatives \n",
    "4. Select a list of decision frames to start a decision \n",
    "\n",
    "> Note: Depending on the decision complexity, framing can be done in a single step or it can break down framing into the listed framing sub-steps. This applies whether it is a human performing the decision-framing or a Generative AI enhanced system.   \n",
    "\n",
    "Below are examples of decision-frames and alternate decision-frames. Notice how the primary and alternate decision-frames can adjust your initial path for making a decision. For simplicity only one alternate has been shown below for each situation, but real-world situations can have many alternatives.  "
   ]
  },
  {
   "cell_type": "markdown",
   "metadata": {},
   "source": [
    "\n",
    "| Situation              | Decision-Frame | Alternate Decision-Frame |\n",
    "| :--------------------- | :------------- | :----------------------- |\n",
    "| New required corporate security training | \"Noise\" that prohibits you from executing your job tasks.  | Opportunity to learn new security innovations. |\n",
    "| You own a stock that recently dropped 20% | Financial risk & consider selling. The stock is in a free-fall and you might lose a more money if you hold onto the stock. | Do more research. Potential opportunity to buy more and lower total ownership costs. |\n",
    "| A competitor comes out with a new solution powered by GenAI         | Opportunity to modernize & innovate on your own company's solution with GenAI.         | Risk to the business that could canibalize your revenue. |\n",
    "| A new powerful laptop has been released. Should you purchase it?     |  Your current laptop is recent and working fine. Need good hardware functionality reasons to upgrade.        | Warranty is expiring on your current laptop. What is the risk of it breaking and being stuck with no laptop? | \n",
    "| The family refrigerator has stopped working |  Minimize cost. (Calling a repaiman will cost at least $250 for them to come out, but it may not fix the issue.)    | Make the problem go away. (A new similar refrigerator cost ~$1,500. Should you spend that amount of money to guarantee solve the issue?) |  "
   ]
  },
  {
   "cell_type": "markdown",
   "metadata": {},
   "source": [
    "### Decision Framing Frameworks   "
   ]
  },
  {
   "cell_type": "markdown",
   "metadata": {},
   "source": [
    "Decision-Framing is more structured than most initially assume. There are several decision-framing techniques, processes and systematic frameworks that can be applied to improve decision-framing such as: Pareto Analysis, the 10-10-10 rule, Pascal's Wager, the Six Thinking Hats etc. There is a great deal of available literature on these techniques and how to apply them for effective decision framing. Therefore, decision-framing can be learned and taught! "
   ]
  },
  {
   "cell_type": "markdown",
   "metadata": {},
   "source": [
    "<img style=\"float: left;padding-right: 25px\" width =\"400px\" src=\"https://raw.githubusercontent.com/bartczernicki/DecisionIntelligence.GenAI.Workshop/main/Images/six-thinking-hats-illustration.png\">\n",
    "\n",
    "Realistically there can be multiple decision-frames in a complex decision. The image on the left illustrates the [**Six Thinking Hats**](https://untools.co/six-thinking-hats/) decision-framing technique, which approaches a decision problem from 6 different perspectives: Positivity, Creativity, Emotions, Data/Rationality, Negativity/Caution and Process/Control. Each **\"thinking hat\"** looks at the problem in its own way. For example, the green hat looks at the situation primarily from a \"Creative perspective\". The challenge for human decision-makers is that we have inherent biases that are difficult to overcome and place ourselves in another state. If you are having a very poor personal week due to many reasons, it is naturally difficult to come into a new situation from a **\"Positive\"** perspective. This is where Generative AI helps immensely. You will see examples in this workshop how this technique can easily be applied to Generative AI decision-making, allowing the GenAI model to recommend a path forward in that specific contextual framing. \n",
    "\n",
    "> For more information on decision-framing using these six perspectives, please read the book [**\"Six Thinking Hats\"**](https://www.amazon.com/Six-Thinking-Hats-Edward-Bono/dp/0316178314/ref=sr_1_1?crid=32G641H41WZVB&dib=eyJ2IjoiMSJ9.rzAQvSB2-37dsJkpsXLHX1QbtXtMoy0kFpIyVs36pukSGc7lnKDXUollB6sXGVj3iNxaqTyne5gBl03ey-PyHjxX4jVD-LwraN4wI2_v9opnbVqiXbTX3J-LTRpNyj2NOiSa84ioTs2J_a6cO6E3T-6ATDkRdAq8GtIGi2McV7lYdEtvkPjYxOtNPmu92BfEzWpXx49wa1x9obXoPLN1M7YLmaUKmIdWtcEpBnDcizsYJTeH-RHHkqNpXiXIu2Ztj9IG6BdBGQ2tzAtgcA7xjCA0HByjlwKP-Rprb962JIs.JjvSF7OppHZ9CBo36YsYv_cxCaXVhDXtL1nX-lEcDwU&dib_tag=se&keywords=edward+de+bono&qid=1716921855&sprefix=%5D%5D%5DEdward+de+Bono%2Caps%2C86&sr=8-1) by Edward de Bono.  "
   ]
  },
  {
   "cell_type": "markdown",
   "metadata": {},
   "source": [
    "### Decision Framing - Using Generative AI  "
   ]
  },
  {
   "cell_type": "markdown",
   "metadata": {},
   "source": [
    "While the topic of Decision Framing is very approachable, one still needs to coalesce this literature, consume it, internalize it and practice applying decision frames. This is where the power of Generative AI decision systems shine. The great news is that these decision-framing techniques are either built-in to the GenAI model knowledge or the model can be provided (\"grounded\") with new decision-framing techniques. This allows someone to quickly find, apply and create decision-framing scenarios very quickly. Furthermore, this allows for creating Generative AI solutions with dynamic and configurable decision-framing processes.  \n",
    "\n",
    "Key areas where Generative AI can enhance Decision-Framing: \n",
    "1. Reduce Human Biases in Decision Framing \n",
    "2. Provide Alternate Decision Frames\n",
    "3. Apply Systematic Decision-Making Frameworks\n",
    "4. Select the most Appropriate Decision-Frames \n",
    "\n",
    "Let's take a look an example of each. "
   ]
  },
  {
   "cell_type": "markdown",
   "metadata": {},
   "source": [
    "#### 1. Reduce Human Biases in Decision Framing "
   ]
  },
  {
   "cell_type": "markdown",
   "metadata": {},
   "source": [
    "#### 2. Provide Alternate Decision Frames"
   ]
  },
  {
   "cell_type": "markdown",
   "metadata": {},
   "source": [
    "#### 3. Apply Systematic Decision-Making Frameworks"
   ]
  },
  {
   "cell_type": "markdown",
   "metadata": {},
   "source": [
    "#### 4. Select the most Appropriate Decision-Frames "
   ]
  },
  {
   "cell_type": "markdown",
   "metadata": {},
   "source": [
    "### Decision Framing - Materials to Deepen Your Understanding"
   ]
  },
  {
   "cell_type": "markdown",
   "metadata": {},
   "source": [
    "<img style=\"float: left;padding-left: 25px; padding-right: 25px;\" width =\"200px\" src=\"https://m.media-amazon.com/images/I/71YnDPoL4CL._SY522_.jpg\">\n",
    "\n",
    "[**\"Six Thinking Hats\"**](https://www.amazon.com/Six-Thinking-Hats-Edward-Bono/dp/0316178314/) by Edward de Bono introduces a method for group discussion and individual thinking involving six distinct perspectives, represented by different colored hats. Each hat symbolizes a different mode of thinking: white for facts and information, red for emotions, black for critical judgment, yellow for optimism, green for creativity, and blue for process control. By mentally wearing one hat at a time, individuals and groups can focus their thinking, leading to more thorough and effective decision-making. This structured approach helps separate emotions from facts, encourages diverse viewpoints, and fosters constructive collaboration.\n",
    "\n",
    "> Note: This book is the gold standard in decision-framing, with all the chapters dedicated to the topic.  "
   ]
  },
  {
   "cell_type": "markdown",
   "metadata": {},
   "source": [
    "<img style=\"float: right;padding-left: 25px; padding-right: 25px;\" width =\"200px\" src=\"https://m.media-amazon.com/images/I/71704XiiwBL._SL1500_.jpg\">\n",
    "\n",
    "[**\"Thinking in Bets: Making Smarter Decisions When You Don't Have All the Facts\"**](https://www.amazon.com/Thinking-in-Bets-Annie-Duke-audiobook/dp/B078SBSBW3/) by Annie Duke explores decision-making through the lens (decision frame) of a professional poker player. Duke argues that life is full of uncertainty and that we should think in terms of probabilities rather than absolutes. She emphasizes the importance of distinguishing between the quality of decisions and their outcomes, promoting a mindset where a decision process is valued more than the decision outcome. By using strategies from poker, Duke provides tools for better decision-making under uncertainty, such as embracing uncertainty, evaluating risks, and learning from past decisions. One key tool is to approach decisions as \"financial bets\", which is another decison framing technique that can calibrate a decision-maker's confidence. Overall, the book encourages a systematic approach to life and decision-making.\n",
    "\n",
    "> Note: This resource covers a very specific type of decision-framing in great detail: \"framing decisions as bets\". This is not the only book that covers the \"thinking in quantitative bets\" as a decision-frame mindset, but it is one of the very few that dedicates an entire book to it.  "
   ]
  }
 ],
 "metadata": {
  "kernelspec": {
   "display_name": ".NET (C#)",
   "language": "C#",
   "name": ".net-csharp"
  },
  "language_info": {
   "name": "python"
  },
  "polyglot_notebook": {
   "kernelInfo": {
    "defaultKernelName": "csharp",
    "items": [
     {
      "aliases": [],
      "name": "csharp"
     }
    ]
   }
  }
 },
 "nbformat": 4,
 "nbformat_minor": 2
}
