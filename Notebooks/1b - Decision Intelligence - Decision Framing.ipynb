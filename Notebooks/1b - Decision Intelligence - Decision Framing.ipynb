{
 "cells": [
  {
   "cell_type": "markdown",
   "metadata": {},
   "source": [
    "<img style=\"float: left;padding-right: 10px\" width =\"40px\" src=\"https://raw.githubusercontent.com/bartczernicki/DecisionIntelligence.GenAI.Workshop/main/Images/SemanticKernelLogo.png\">\n",
    "\n",
    "## Decision Intelligence - Decision Framing"
   ]
  },
  {
   "cell_type": "markdown",
   "metadata": {},
   "source": [
    "> \"The framing effect shows that people's decisions can be influenced by the way a problem is presented.\"\n",
    ">\n",
    "> -- <cite>Daniel Kahneman (Nobel laureate, known for psychology of judgment and decision-making)</cite>  "
   ]
  },
  {
   "cell_type": "markdown",
   "metadata": {},
   "source": [
    "**Decision framing is about presenting or thinking about contextual choices when making a decision.** Imagine you are trying to decide whether to take a new job offer. Like any job, this specific job has it's own pros and cons. One of the biggest pros is a high salary. Conversely, the biggest con is the potentially long commute and office work policy. If you focus on the higher salary and exciting new opportunities, you might feel more positive about the move. But if you think about the longer commute and the risk of not liking your new coworkers, you might feel hesitant. Finally, these choices are highly contextual and personal to you. Therefore, another person approached with a job search may feel their decision context isn't salary nor commute, it could be the quality of the work or potential for career advancement.  \n",
    "\n",
    "The way you \"frame\" the decision can greatly influence what you decide. It's like looking at the same picture through different lenses: each lens highlights different parts and colors, changing your overall view. By being aware of how you're framing a decision, you can create more optimized paths on how to approach a decision. Furthermore, decision-framing can also help you uncover more decision choices. Going back to the example above on taking a high-paying job with a potentially long commute. Considering all the options may allow you to frame your decision conditionally. For example, you may only consider accepting this job if the option presents itself to work a hybrid schedule from home.  \n",
    "\n",
    "There are several decision-framing techniques, processes and frameworks that can be applied to improve decision-framing such as: Pareto Analysis, the 10-10-10 rule, Pascal's Wager, the Six Thinking Hats etc. The good news is that these decision-framing techniques are either built-in to the GenAI model or the model can be provided (\"grounded\") with new decision-framing techniques. This allows for creating Generative AI solutions with dynamic and configurable decision-framing processes.  "
   ]
  },
  {
   "cell_type": "markdown",
   "metadata": {},
   "source": [
    "Below examples of decision-frames and alternate decision-frames are illustrated. Notice how the primary and alternate decision-frames can adjust your initial path for making a decision. For simplicity only one alternate has been shown below for each situation.  \n",
    "\n",
    "| Situation              | Decision-Frame | Alternate Decision-Frame |\n",
    "| :--------------------- | :------------- | :----------------------- |\n",
    "| New required corporate security training | \"Noise\" that prohibits you from your job. Considering watching the videos as 2x speed.        | Opportunity to learn new security innovations. |\n",
    "| You own a stock that recently dropped 20% | Financial risk & consider selling. The stock is in a free-fall and you might lose a more money if you hold onto the stock. | Do more research. Potential opportunity to buy more and lower total ownership costs. |\n",
    "| A competitor comes out with a new solution powered by GenAI         | Opportunity to modernize & innovate on your own company's solution with GenAI.         | Risk to the business that could canibalize your revenue. |\n",
    "| A new powerful laptop has been released. Should you purchase it?     |  Your current laptop is recent and working fine. Need good hardware functionality reasons to upgrade.        | Warranty is expiring on your current laptop. What is the risk of it breaking and being stuck with no laptop? | \n",
    "| The family refrigerator has stopped working |  Minimize cost. (Calling a repaiman will cost at least $250 for them to come out, but it may not fix the issue.)    | Make the problem go away. (A new similar refrigerator cost ~$1,500. Should you spend that amount of money to guarantee solve the issue?) |  \n"
   ]
  },
  {
   "cell_type": "markdown",
   "metadata": {},
   "source": [
    "<img style=\"float: left;padding-right: 25px\" width =\"400px\" src=\"https://raw.githubusercontent.com/bartczernicki/DecisionIntelligence.GenAI.Workshop/main/Images/six-thinking-hats-illustration.png\">\n",
    "\n",
    "Realistically there can be multiple decision-frames in a complex decision. The image on the left illustrates the [**Six Thinking Hats**](https://untools.co/six-thinking-hats/) decision-framing technique, which approaches a decision problem from 6 different perspectives. Each \"thinking hat\" looks at the problem in its own way. For example, the green hat looks at the problem from a \"Creative perspective\". You will see examples in this workshop how this technique can easily be applied to Generative AI decision-making, allowing the GenAI model to recommend a path forward in that specific contextual framing.  \n",
    "\n",
    "For more information, please read the book [**\"Six Thinking Hats\"**](https://www.amazon.com/Six-Thinking-Hats-Edward-Bono/dp/0316178314/ref=sr_1_1?crid=32G641H41WZVB&dib=eyJ2IjoiMSJ9.rzAQvSB2-37dsJkpsXLHX1QbtXtMoy0kFpIyVs36pukSGc7lnKDXUollB6sXGVj3iNxaqTyne5gBl03ey-PyHjxX4jVD-LwraN4wI2_v9opnbVqiXbTX3J-LTRpNyj2NOiSa84ioTs2J_a6cO6E3T-6ATDkRdAq8GtIGi2McV7lYdEtvkPjYxOtNPmu92BfEzWpXx49wa1x9obXoPLN1M7YLmaUKmIdWtcEpBnDcizsYJTeH-RHHkqNpXiXIu2Ztj9IG6BdBGQ2tzAtgcA7xjCA0HByjlwKP-Rprb962JIs.JjvSF7OppHZ9CBo36YsYv_cxCaXVhDXtL1nX-lEcDwU&dib_tag=se&keywords=edward+de+bono&qid=1716921855&sprefix=%5D%5D%5DEdward+de+Bono%2Caps%2C86&sr=8-1) by Edward de Bono.  "
   ]
  },
  {
   "cell_type": "markdown",
   "metadata": {},
   "source": [
    "### Decision Framing - Materials to Deepen Your Understanding"
   ]
  },
  {
   "cell_type": "markdown",
   "metadata": {},
   "source": [
    "<img style=\"float: left;padding-left: 25px; padding-right: 25px;\" width =\"200px\" src=\"https://m.media-amazon.com/images/I/71YnDPoL4CL._SY522_.jpg\">\n",
    "\n",
    "[**\"Six Thinking Hats\"**](https://www.amazon.com/Six-Thinking-Hats-Edward-Bono/dp/0316178314/) by Edward de Bono introduces a method for group discussion and individual thinking involving six distinct perspectives, represented by different colored hats. Each hat symbolizes a different mode of thinking: white for facts and information, red for emotions, black for critical judgment, yellow for optimism, green for creativity, and blue for process control. By mentally wearing one hat at a time, individuals and groups can focus their thinking, leading to more thorough and effective decision-making. This structured approach helps separate emotions from facts, encourages diverse viewpoints, and fosters constructive collaboration.\n",
    "\n",
    "> Note: This book is the gold standard in decision-framing, with all the chapters dedicated to the topic.  "
   ]
  },
  {
   "cell_type": "markdown",
   "metadata": {},
   "source": [
    "<img style=\"float: right;padding-left: 25px; padding-right: 25px;\" width =\"200px\" src=\"https://m.media-amazon.com/images/I/71704XiiwBL._SL1500_.jpg\">\n",
    "\n",
    "[**\"Thinking in Bets: Making Smarter Decisions When You Don't Have All the Facts\"**](https://www.amazon.com/Thinking-in-Bets-Annie-Duke-audiobook/dp/B078SBSBW3/) by Annie Duke explores decision-making through the lens (decision frame) of a professional poker player. Duke argues that life is full of uncertainty and that we should think in terms of probabilities rather than absolutes. She emphasizes the importance of distinguishing between the quality of decisions and their outcomes, promoting a mindset where a decision process is valued more than the decision outcome. By using strategies from poker, Duke provides tools for better decision-making under uncertainty, such as embracing uncertainty, evaluating risks, and learning from past decisions. One key tool is to approach decisions as \"financial bets\", which is another decison framing technique that can calibrate a decision-maker's confidence. Overall, the book encourages a systematic approach to life and decision-making.\n",
    "\n",
    "> Note: This resource covers a very specific type of decision-framing in great detail. This is not the only book that covers the \"thinking in quantitative bets\" as a decision-frame mindset, but it is one of the very few that dedicates an entire book to it.  "
   ]
  }
 ],
 "metadata": {
  "kernelspec": {
   "display_name": ".NET (C#)",
   "language": "C#",
   "name": ".net-csharp"
  },
  "language_info": {
   "name": "python"
  },
  "polyglot_notebook": {
   "kernelInfo": {
    "defaultKernelName": "csharp",
    "items": [
     {
      "aliases": [],
      "name": "csharp"
     }
    ]
   }
  }
 },
 "nbformat": 4,
 "nbformat_minor": 2
}
