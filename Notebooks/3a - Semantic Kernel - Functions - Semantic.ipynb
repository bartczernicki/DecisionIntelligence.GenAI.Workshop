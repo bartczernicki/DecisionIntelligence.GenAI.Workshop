{
 "cells": [
  {
   "cell_type": "markdown",
   "metadata": {},
   "source": [
    "<img style=\"float: left;padding-right: 10px\" width =\"40px\" src=\"https://raw.githubusercontent.com/bartczernicki/DecisionIntelligence.GenAI.Workshop/main/Images/SemanticKernelLogo.png\">\n",
    "\n",
    "## Semantic Kernel - Functions Semantic  "
   ]
  },
  {
   "cell_type": "markdown",
   "metadata": {},
   "source": [
    "Decision Intelligence applied in this module:  \n",
    "* Listing of various decision-making frameworks and what their descriptions  \n",
    "* Listing types of decision-making frameworks dynamically based on the type  "
   ]
  },
  {
   "cell_type": "markdown",
   "metadata": {},
   "source": [
    "Semantic Kernel Functions are the core building blocks of functionality for intelligent AI orchestration. Semantic Kernel functions usually have a single responsibility to perform. For example, a Sementic Kernel function can: send an e-mail, call an API, recommend a reasoning framework for a high-stakes decision etc. \n",
    "\n",
    "What makes Semantic Kernel functions so special? Can't one just produce similar outcomes by using a prompt in an LLM or just writing a software program? In order to answer that, one has to look at what makes GenAI so innovative. The GenAI models have a unique ability to process instructions with reasoning and logic. This allows these models to behave almost like a human decision maker. Even with basic prompts, GenAI models perform reasonably well. However, providing GenAI models with additional functions allows them to gain access to business processes, data and basically anything a GenAI model should consider when performing AI orchestration. \n",
    "\n",
    "For example, imagine you want to prepare a great Thanksgiving dinner and want to get help from a GenAI cooking application to create a new recipe. You enter what you want todo and it comes up with the most delicious looking feast for Thanksgiving. However, there is a problem it used ingredients and recommended using cooking appliances that you do not own! You could enter all of the ingredients and keep prompting until it narrowed down the what you could realistically make. Wouldn't it be better if the GenAI cooking application had access to: your available ingredients, your time availability, kitchen appliances and even your allergic preferences. Now the GenAI model can craft a Thanksgiving feast understanding the parameters and data without having to be guided. This is exactly what Semantic Kernel functions provide.\n",
    "\n",
    "Semantic Kernel functions come in two flavors: \n",
    "* Semantic functions\n",
    "* Native functions\n",
    "\n",
    "Semantic functions are basically **prompt instructions** that help guide GenAI LLMs around the specific guidelines it should adhere to when building the AI orchestration. Therefore, semantic functions are likely the first place most AI architects/engineers start when composing AI orchestration with Semantic Kernel. Semantic functions can also take in parameters for dynamic creaation of instructions.  "
   ]
  },
  {
   "cell_type": "markdown",
   "metadata": {},
   "source": [
    "Below is an example of semantic function that can be used for facilitating decision-making. Note the **{{$decisionToMake}}** input where the parameter can be dynamically passed in to provide additional specificity.\n",
    "\n",
    "```javascript\n",
    "[DECISION FRAMEWORKS TO USE]\n",
    "Price's Law\n",
    "Pareto Principle\n",
    "Laplace Rule of Succession\n",
    "Eisenhower Matrix\n",
    "Median Rule of Five\n",
    "Second Order Thinking\n",
    "\n",
    "[DECISION GUIDANCE]\n",
    "Try to use the best fitting framework.  \n",
    "Prefer using quantitative decision frameworks rather qualitative ones.  \n",
    "Use the code interpreter to validate quantitative reasoning.\n",
    "\n",
    "Use the decision frameworks above to help the user make the following decision:\n",
    "{{$decisionToMake}}\n",
    "```  \n",
    "\n",
    "The image below illustrates the core value of semantic functions. \n",
    "\n",
    "<img width =\"500px\" src=\"https://learn.microsoft.com/en-us/semantic-kernel/media/semantic-function-explainer.png\">"
   ]
  },
  {
   "cell_type": "markdown",
   "metadata": {},
   "source": [
    "### Step 1 - Initialize Configuration Builder & Build the Semantic Kernel Orchestration\n",
    "\n",
    "Execute the next two cells to:\n",
    "* Use the Configuration Builder to load the API secrets.  \n",
    "* Use the API configuration to build the Semantic Kernel orchestrator."
   ]
  },
  {
   "cell_type": "code",
   "execution_count": 1,
   "metadata": {
    "dotnet_interactive": {
     "language": "csharp"
    },
    "polyglot_notebook": {
     "kernelName": "csharp"
    },
    "vscode": {
     "languageId": "polyglot-notebook"
    }
   },
   "outputs": [
    {
     "data": {
      "text/html": [
       "<div><div></div><div></div><div><strong>Installed Packages</strong><ul><li><span>Microsoft.Extensions.Configuration, 8.0.0</span></li><li><span>Microsoft.Extensions.Configuration.Json, 8.0.0</span></li><li><span>Microsoft.SemanticKernel, 1.13.0</span></li><li><span>Microsoft.SemanticKernel.Plugins.Core, 1.13.0-alpha</span></li></ul></div></div>"
      ]
     },
     "metadata": {},
     "output_type": "display_data"
    }
   ],
   "source": [
    "#r \"nuget: Microsoft.Extensions.Configuration, 8.0.0\"\n",
    "#r \"nuget: Microsoft.Extensions.Configuration.Json, 8.0.0\"\n",
    "#r \"nuget: Microsoft.SemanticKernel, 1.13.0\"\n",
    "#r \"nuget: Microsoft.SemanticKernel.Plugins.Core, 1.13.0-alpha\"\n",
    "\n",
    "using Microsoft.Extensions.Configuration;\n",
    "using Microsoft.SemanticKernel;\n",
    "using Microsoft.SemanticKernel.ChatCompletion;\n",
    "using Microsoft.SemanticKernel.Connectors.OpenAI;\n",
    "using System.IO;\n",
    "\n",
    "var configurationBuilder = new ConfigurationBuilder()\n",
    "    .SetBasePath(Directory.GetCurrentDirectory())\n",
    "    .AddJsonFile(\"local.settings.json\", optional: true, reloadOnChange: true)\n",
    "    .AddJsonFile(\"secrets.settings.json\", optional: true, reloadOnChange: true);\n",
    "var config = configurationBuilder.Build();\n",
    "\n",
    "// IMPORTANT: You ONLY NEED either Azure OpenAI or OpenAI connectiopn info, not both.\n",
    "// Azure OpenAI Connection Info\n",
    "var azureOpenAIEndpoint = config[\"AzureOpenAI:Endpoint\"];\n",
    "var azureOpenAIAPIKey = config[\"AzureOpenAI:APIKey\"];\n",
    "var azureOpenAIModelDeploymentName = config[\"AzureOpenAI:ModelDeploymentName\"];\n",
    "// OpenAI Connection Info \n",
    "var openAIAPIKey = config[\"OpenAI:APIKey\"];\n",
    "var openAIModelId = config[\"OpenAI:ModelId\"];"
   ]
  },
  {
   "cell_type": "code",
   "execution_count": 2,
   "metadata": {
    "dotnet_interactive": {
     "language": "csharp"
    },
    "polyglot_notebook": {
     "kernelName": "csharp"
    },
    "vscode": {
     "languageId": "polyglot-notebook"
    }
   },
   "outputs": [
    {
     "name": "stdout",
     "output_type": "stream",
     "text": [
      "Using Azure OpenAI Service\r\n"
     ]
    }
   ],
   "source": [
    "Kernel semanticKernel;\n",
    "\n",
    "// Set the flag to use Azure OpenAI or OpenAI. False to use OpenAI, True to use Azure OpenAI\n",
    "var useAzureOpenAI = true;\n",
    "\n",
    "// Create a new Semantic Kernel instance\n",
    "if (useAzureOpenAI)\n",
    "{\n",
    "    Console.WriteLine(\"Using Azure OpenAI Service\");\n",
    "    semanticKernel = Kernel.CreateBuilder()\n",
    "        .AddAzureOpenAIChatCompletion(\n",
    "            deploymentName: azureOpenAIModelDeploymentName,\n",
    "            endpoint: azureOpenAIEndpoint,\n",
    "            apiKey: azureOpenAIAPIKey)\n",
    "        .Build();\n",
    "}\n",
    "else\n",
    "{\n",
    "    Console.WriteLine(\"Using OpenAI Service\");\n",
    "    semanticKernel = Kernel.CreateBuilder()\n",
    "        .AddOpenAIChatCompletion(\n",
    "            modelId: openAIModelId,\n",
    "            apiKey: openAIAPIKey)\n",
    "        .Build();\n",
    "}"
   ]
  },
  {
   "cell_type": "markdown",
   "metadata": {},
   "source": [
    "### Step 2 - Create a Semantic Kernel - Semantic Function\n",
    "\n",
    "Semantic functions are constructs inside Semantic Kernel that are basically just prompt instructions. What makes the special is that they can be exposed as functions, thus it makes re-usability easy. Furthermore, future modules will show how they can faciliate composability into plugins. "
   ]
  },
  {
   "cell_type": "markdown",
   "metadata": {},
   "source": [
    "> \"Decision frameworks are like maps. Use them to navigate complex decision-making terrain.  \n",
    ">\n",
    "> -- <cite>Unknown</cite> "
   ]
  },
  {
   "cell_type": "code",
   "execution_count": 4,
   "metadata": {
    "dotnet_interactive": {
     "language": "csharp"
    },
    "polyglot_notebook": {
     "kernelName": "csharp"
    },
    "vscode": {
     "languageId": "polyglot-notebook"
    }
   },
   "outputs": [
    {
     "name": "stdout",
     "output_type": "stream",
     "text": [
      "Certainly! Here are several decision frameworks that can significantly enhance the quality of decision-making across various contexts:\n",
      "\n",
      "1. **Pros and Cons Analysis**:\n",
      "   - A straightforward method where you list the advantages and disadvantages of each option to weigh their impact.\n",
      "\n",
      "2. **SWOT Analysis**:\n",
      "   - Examines the Strengths, Weaknesses, Opportunities, and Threats related to a decision or scenario.\n",
      "\n",
      "3. **Decision Matrix (or Grid Analysis)**:\n",
      "   - Involves creating a matrix of options against a set of weighted criteria to score and rank each option.\n",
      "\n",
      "4. **Cost-Benefit Analysis**:\n",
      "   - Compares the total expected costs against the total expected benefits of one or more actions to choose the best option.\n",
      "\n",
      "5. **Pareto Analysis**:\n",
      "   - Focuses on identifying the most significant changes that will produce the greatest overall improvement by leveraging the 80/20 principle.\n",
      "\n",
      "6. **Six Thinking Hats** (by Edward de Bono):\n",
      "   - Encourages looking at a decision from six different perspectives (logical, emotional, optimistic, creative, cautious, process-oriented) to ensure a well-rounded view.\n",
      "\n",
      "7. **Kepner-Tregoe Decision Analysis**:\n",
      "   - A step-by-step approach that involves defining and clarifying the problem, identifying options, and evaluating alternatives based on their feasibility, risk, and key criteria.\n",
      "\n",
      "8. **OODA Loop (Observe-Orient-Decide-Act)**:\n",
      "   - A cyclical process used primarily in the military and strategic planning to make quick, effective decisions.\n",
      "\n",
      "9. **PEST Analysis**:\n",
      "   - Assesses the Political, Economic, Social, and Technological factors that might influence a decision and its outcome.\n",
      "\n",
      "10. **Root Cause Analysis**:\n",
      "    - Identifies the fundamental cause of a problem or decision need before exploring solutions, ensuring the underlying issues are addressed.\n",
      "\n",
      "11. **Multi-Criteria Decision Analysis (MCDA)**:\n",
      "    - Facilitates decisions involving multiple conflicting criteria, often used in complex scenarios like project management and policy-making.\n",
      "\n",
      "12. **Analytic Hierarchy Process (AHP)**:\n",
      "    - A structured technique for organizing and analyzing complex decisions, based on mathematics and psychology.\n",
      "\n",
      "13. **Scenario Planning**:\n",
      "    - Involves constructing detailed and plausible views of how the future might unfold based on different assumptions, to better prepare and select robust decisions.\n",
      "\n",
      "14. **Fishbone Diagram (Ishikawa)**:\n",
      "    - A visual tool used to systematically identify and present possible causes of a problem to find its root causes for better decision-making.\n",
      "\n",
      "15. **Vroom-Yetton-Jago Decision Model**:\n",
      "    - A framework that helps leaders decide how much involvement their teams should have in the decision-making process.\n",
      "\n",
      "16. **Nash Equilibrium (Game Theory)**:\n",
      "    - Addresses competitive decision-making, where the best choice for each participant depends on the choices of others.\n",
      "\n",
      "These frameworks can be applied individually or in combination depending on the complexity and context of the decision at hand. Using such structured methodologies helps ensure that all relevant factors are considered, thereby improving the quality and robustness of the decisions made."
     ]
    }
   ],
   "source": [
    "// Simple prompt to list some decision frameworks this GenAI LLM is familiar with\n",
    "var decisionPromptTemplate = \"\"\"\n",
    "Provide a list of decision frameworks that can help improve the quality of decisions.\n",
    "\"\"\";\n",
    "\n",
    "// Takes a regular prompt and creats a function that can be used to invoke the model\n",
    "var semanticDecisionFunction = semanticKernel.CreateFunctionFromPrompt(decisionPromptTemplate);\n",
    "\n",
    "await foreach (var streamChunk in semanticKernel.InvokeStreamingAsync(semanticDecisionFunction))\n",
    "{\n",
    "   Console.Write(streamChunk);\n",
    "}"
   ]
  },
  {
   "cell_type": "markdown",
   "metadata": {},
   "source": [
    "### Step 3 - Semantic Function Dynamic Execution\n",
    "\n",
    "Semantic functions can be dynamically composed using parameter placeholders, which can then be dynamically rendered using Kernel arguments. This allows the ease of passing in parameters and execution settings into the semantic functions.\n",
    "\n",
    "Execute the cell below to view how the prompt can dynamically instruct the LLM to retrieve different types of decision-making frameworks.  "
   ]
  },
  {
   "cell_type": "markdown",
   "metadata": {},
   "source": [
    "> \"If the only tool you have is a hammer, you tend to see every problem as a nail.\"\n",
    ">\n",
    "> -- <cite>Abraham Maslow (Renowned American psychologist)</cite> "
   ]
  },
  {
   "cell_type": "code",
   "execution_count": 4,
   "metadata": {
    "dotnet_interactive": {
     "language": "csharp"
    },
    "polyglot_notebook": {
     "kernelName": "csharp"
    },
    "vscode": {
     "languageId": "polyglot-notebook"
    }
   },
   "outputs": [
    {
     "name": "stdout",
     "output_type": "stream",
     "text": [
      "Certainly! Here are three frameworks that can help improve the quality of strategic decisions:\n",
      "\n",
      "1. **SWOT Analysis (Strengths, Weaknesses, Opportunities, Threats):**\n",
      "   - **Strengths:** Identify internal attributes and resources that support a successful outcome.\n",
      "   - **Weaknesses:** Recognize internal attributes and resources that could work against a successful outcome.\n",
      "   - **Opportunities:** Identify external factors the organization can capitalize on or use to its advantage.\n",
      "   - **Threats:** Recognize external factors that could cause trouble for the organization or project.\n",
      "\n",
      "   **How it helps:** SWOT Analysis provides a comprehensive overview of the internal and external factors that can impact the decision-making process, helping leaders to make more informed and balanced decisions.\n",
      "\n",
      "2. **PESTEL Analysis (Political, Economic, Social, Technological, Environmental, Legal):**\n",
      "   - **Political:** Examine the impact of government policies, political stability, and regulations.\n",
      "   - **Economic:** Consider economic factors like inflation, exchange rates, and economic growth.\n",
      "   - **Social:** Look at societal trends, demographics, and cultural aspects.\n",
      "   - **Technological:** Assess the impact of new technologies and innovation.\n",
      "   - **Environmental:** Consider environmental issues and regulations.\n",
      "   - **Legal:** Understand the legal environment, including laws and regulations that might affect the decision.\n",
      "\n",
      "   **How it helps:** PESTEL Analysis helps organizations understand the broader macro-environmental factors that could influence their strategic decisions, ensuring that they are not blindsided by external forces.\n",
      "\n",
      "3. **Porter's Five Forces:**\n",
      "   - **Competitive Rivalry:** Analyze the level of competition within the industry.\n",
      "   - **Threat of New Entrants:** Assess how easy or difficult it is for new competitors to enter the market.\n",
      "   - **Bargaining Power of Suppliers:** Evaluate how much power suppliers have over the pricing and quality of materials.\n",
      "   - **Bargaining Power of Buyers:** Determine the power customers have to drive prices down.\n",
      "   - **Threat of Substitutes:** Identify the likelihood of customers finding a different way of doing what you do.\n",
      "\n",
      "   **How it helps:** Porter's Five Forces framework helps organizations understand the competitive dynamics within their industry, allowing them to develop strategies that can improve their market position and profitability.\n",
      "\n",
      "These frameworks can be used individually or in combination to provide a well-rounded approach to strategic decision-making."
     ]
    }
   ],
   "source": [
    "// Takes a prompt with input variables and creates a function that can be used to invoke the model\n",
    "var decisionPromptTemplate = \"\"\"\n",
    "Provide a list of {{$numberOfFrameworks}} frameworks that can help improve the quality of {{$decisionType}} decisions.\n",
    "\"\"\";\n",
    "\n",
    "// Create the OpenAI prompt execution settings\n",
    "var openAIPromptExecutionSettings = new OpenAIPromptExecutionSettings { \n",
    "    MaxTokens = 1500, \n",
    "    Temperature = 0.1, \n",
    "    TopP = 1.0, \n",
    "    FrequencyPenalty = 0.0, \n",
    "    PresencePenalty = 0.0\n",
    "    };\n",
    "\n",
    "var semanticDecisionFunctionWithInput = semanticKernel.CreateFunctionFromPrompt(decisionPromptTemplate, openAIPromptExecutionSettings);\n",
    "\n",
    "// Dynamically set the number of frameworks and decision type -> strategic\n",
    "var kernelArguments = new KernelArguments();\n",
    "kernelArguments.Add(\"numberOfFrameworks\", 3);\n",
    "kernelArguments.Add(\"decisionType\", \"strategic\");\n",
    "\n",
    "// Stream the output of the model\n",
    "await foreach (var streamChunk in semanticKernel.InvokeStreamingAsync(semanticDecisionFunctionWithInput, kernelArguments))\n",
    "{\n",
    "   Console.Write(streamChunk);\n",
    "}"
   ]
  },
  {
   "cell_type": "code",
   "execution_count": 7,
   "metadata": {
    "dotnet_interactive": {
     "language": "csharp"
    },
    "polyglot_notebook": {
     "kernelName": "csharp"
    },
    "vscode": {
     "languageId": "polyglot-notebook"
    }
   },
   "outputs": [
    {
     "name": "stdout",
     "output_type": "stream",
     "text": [
      "Certainly! Here are five frameworks that can help improve the quality of decisions requiring fast action:\n",
      "\n",
      "1. **OODA Loop (Observe, Orient, Decide, Act)**:\n",
      "   - **Observe**: Gather information and data from the environment.\n",
      "   - **Orient**: Analyze the information and understand the context.\n",
      "   - **Decide**: Choose a course of action based on the analysis.\n",
      "   - **Act**: Implement the decision quickly and efficiently.\n",
      "   - This framework is particularly useful in dynamic and rapidly changing situations.\n",
      "\n",
      "2. **PDCA Cycle (Plan-Do-Check-Act)**:\n",
      "   - **Plan**: Identify the problem and develop a plan to address it.\n",
      "   - **Do**: Implement the plan on a small scale to test its effectiveness.\n",
      "   - **Check**: Evaluate the results of the implementation.\n",
      "   - **Act**: If the plan is successful, implement it on a larger scale; if not, refine and adjust the plan.\n",
      "   - This iterative process helps in making informed decisions and continuous improvement.\n",
      "\n",
      "3. **SWOT Analysis (Strengths, Weaknesses, Opportunities, Threats)**:\n",
      "   - **Strengths**: Identify internal strengths that can be leveraged.\n",
      "   - **Weaknesses**: Recognize internal weaknesses that need to be addressed.\n",
      "   - **Opportunities**: Look for external opportunities that can be exploited.\n",
      "   - **Threats**: Identify external threats that could impact the decision.\n",
      "   - This framework helps in quickly assessing the internal and external factors that can influence the decision.\n",
      "\n",
      "4. **Eisenhower Matrix (Urgent-Important Matrix)**:\n",
      "   - **Quadrant 1**: Urgent and Important (Do it now)\n",
      "   - **Quadrant 2**: Not Urgent but Important (Schedule it)\n",
      "   - **Quadrant 3**: Urgent but Not Important (Delegate it)\n",
      "   - **Quadrant 4**: Not Urgent and Not Important (Eliminate it)\n",
      "   - This matrix helps prioritize tasks and decisions based on their urgency and importance, ensuring that critical actions are taken promptly.\n",
      "\n",
      "5. **RAPID Framework (Recommend, Agree, Perform, Input, Decide)**:\n",
      "   - **Recommend**: Identify who will recommend a course of action.\n",
      "   - **Agree**: Determine who needs to agree to the recommendation.\n",
      "   - **Perform**: Assign who will perform the action.\n",
      "   - **Input**: Identify who will provide input to the decision.\n",
      "   - **Decide**: Clarify who will make the final decision.\n",
      "   - This framework clarifies roles and responsibilities, ensuring that decisions are made efficiently and with the necessary input.\n",
      "\n",
      "These frameworks can be adapted to various contexts and help streamline the decision-making process, ensuring that actions are taken swiftly and effectively."
     ]
    }
   ],
   "source": [
    "// Dynamically set the number of frameworks and decision type -> requring fast action\n",
    "var kernelArguments = new KernelArguments(openAIPromptExecutionSettings);\n",
    "kernelArguments.Add(\"numberOfFrameworks\", 5);\n",
    "kernelArguments.Add(\"decisionType\", \"requring fast action\");\n",
    "\n",
    "// Stream the output of the model\n",
    "await foreach (var streamChunk in semanticKernel.InvokeStreamingAsync(semanticDecisionFunctionWithInput, kernelArguments))\n",
    "{\n",
    "   Console.Write(streamChunk);\n",
    "}"
   ]
  }
 ],
 "metadata": {
  "kernelspec": {
   "display_name": ".NET (C#)",
   "language": "C#",
   "name": ".net-csharp"
  },
  "language_info": {
   "name": "csharp"
  },
  "polyglot_notebook": {
   "kernelInfo": {
    "defaultKernelName": "csharp",
    "items": [
     {
      "aliases": [],
      "name": "csharp"
     }
    ]
   }
  }
 },
 "nbformat": 4,
 "nbformat_minor": 2
}
