{
 "cells": [
  {
   "cell_type": "markdown",
   "metadata": {},
   "source": [
    "<img style=\"float: left;padding-right: 10px\" width =\"40px\" src=\"https://raw.githubusercontent.com/bartczernicki/DecisionIntelligence.GenAI.Workshop/main/Images/SemanticKernelLogo.png\">\n",
    "\n",
    "## Semantic Kernel - Functions Semantic  "
   ]
  },
  {
   "cell_type": "markdown",
   "metadata": {},
   "source": [
    "Decision Intelligence applied in this module:  \n",
    "* Listing of various decision-making frameworks and what their descriptions  \n",
    "* Listing types of decision-making frameworks dynamically based on the type  "
   ]
  },
  {
   "cell_type": "markdown",
   "metadata": {},
   "source": [
    "Semantic Kernel Functions are the core building blocks of functionality for intelligent AI orchestration. Semantic Kernel functions usually have a single responsibility to perform. For example, a Sementic Kernel function can: send an e-mail, call an API, recommend a reasoning framework for a high-stakes decision etc. \n",
    "\n",
    "What makes Semantic Kernel functions so special? Can't one just produce similar outcomes by using a prompt in an LLM or just writing a software program? In order to answer that, one has to look at what makes GenAI so innovative. The GenAI models have a unique ability to process instructions with reasoning and logic. This allows these models to behave almost like a human decision maker. Even with basic prompts, GenAI models perform reasonably well. However, providing GenAI models with additional functions allows them to gain access to business processes, data and basically anything a GenAI model should consider when performing AI orchestration. \n",
    "\n",
    "For example, imagine you want to prepare a great Thanksgiving dinner and want to get help from a GenAI cooking application to create a new recipe. You enter what you want todo and it comes up with the most delicious looking feast for Thanksgiving. However, there is a problem it used ingredients and recommended using cooking appliances that you do not own! You could enter all of the ingredients and keep prompting until it narrowed down the what you could realistically make. Wouldn't it be better if the GenAI cooking application had access to: your available ingredients, your time availability, kitchen appliances and even your allergic preferences. Now the GenAI model can craft a Thanksgiving feast understanding the parameters and data without having to be guided. This is exactly what Semantic Kernel functions provide.\n",
    "\n",
    "Semantic Kernel functions come in two flavors: \n",
    "* Semantic functions\n",
    "* Native functions\n",
    "\n",
    "Semantic functions are basically **prompt instructions** that help guide GenAI LLMs around the specific guidelines it should adhere to when building the AI orchestration. Therefore, semantic functions are likely the first place most AI architects/engineers start when composing AI orchestration with Semantic Kernel. Semantic functions can also take in parameters for dynamic creaation of instructions.  "
   ]
  },
  {
   "cell_type": "markdown",
   "metadata": {},
   "source": [
    "Below is an example of semantic function that can be used for facilitating decision-making. Note the **{{$decisionToMake}}** input where the parameter can be dynamically passed in to provide additional specificity.\n",
    "\n",
    "```javascript\n",
    "[DECISION FRAMEWORKS TO USE]\n",
    "Price's Law\n",
    "Pareto Principle\n",
    "Laplace Rule of Succession\n",
    "Eisenhower Matrix\n",
    "Median Rule of Five\n",
    "Second Order Thinking\n",
    "\n",
    "[DECISION GUIDANCE]\n",
    "Try to use the best fitting framework.  \n",
    "Prefer using quantitative decision frameworks rather qualitative ones.  \n",
    "Use the code interpreter to validate quantitative reasoning.\n",
    "\n",
    "Use the decision frameworks above to help the user make the following decision:\n",
    "{{$decisionToMake}}\n",
    "```  \n",
    "\n",
    "The image below illustrates the core value of semantic functions. \n",
    "\n",
    "<img width =\"500px\" src=\"https://learn.microsoft.com/en-us/semantic-kernel/media/semantic-function-explainer.png\">"
   ]
  },
  {
   "cell_type": "markdown",
   "metadata": {},
   "source": [
    "### Step 1 - Initialize Configuration Builder & Build the Semantic Kernel Orchestration\n",
    "\n",
    "Execute the next two cells to:\n",
    "* Use the Configuration Builder to load the API secrets.  \n",
    "* Use the API configuration to build the Semantic Kernel orchestrator."
   ]
  },
  {
   "cell_type": "code",
   "execution_count": 2,
   "metadata": {
    "dotnet_interactive": {
     "language": "csharp"
    },
    "polyglot_notebook": {
     "kernelName": "csharp"
    },
    "vscode": {
     "languageId": "polyglot-notebook"
    }
   },
   "outputs": [
    {
     "data": {
      "text/html": [
       "<div><div></div><div></div><div><strong>Installed Packages</strong><ul><li><span>Microsoft.Extensions.Configuration, 8.0.0</span></li><li><span>Microsoft.Extensions.Configuration.Json, 8.0.0</span></li><li><span>Microsoft.SemanticKernel, 1.20.0</span></li><li><span>Microsoft.SemanticKernel.Plugins.Core, 1.20.0-alpha</span></li></ul></div></div>"
      ]
     },
     "metadata": {},
     "output_type": "display_data"
    }
   ],
   "source": [
    "#r \"nuget: Microsoft.Extensions.Configuration, 8.0.0\"\n",
    "#r \"nuget: Microsoft.Extensions.Configuration.Json, 8.0.0\"\n",
    "#r \"nuget: Microsoft.SemanticKernel, 1.20.0\"\n",
    "#r \"nuget: Microsoft.SemanticKernel.Plugins.Core, 1.20.0-alpha\"\n",
    "\n",
    "using Microsoft.Extensions.Configuration;\n",
    "using Microsoft.SemanticKernel;\n",
    "using Microsoft.SemanticKernel.ChatCompletion;\n",
    "using Microsoft.SemanticKernel.Connectors.OpenAI;\n",
    "using System.IO;\n",
    "\n",
    "var configurationBuilder = new ConfigurationBuilder()\n",
    "    .SetBasePath(Directory.GetCurrentDirectory())\n",
    "    .AddJsonFile(\"local.settings.json\", optional: true, reloadOnChange: true)\n",
    "    .AddJsonFile(\"secrets.settings.json\", optional: true, reloadOnChange: true);\n",
    "var config = configurationBuilder.Build();\n",
    "\n",
    "// IMPORTANT: You ONLY NEED either Azure OpenAI or OpenAI connectiopn info, not both.\n",
    "// Azure OpenAI Connection Info\n",
    "var azureOpenAIEndpoint = config[\"AzureOpenAI:Endpoint\"];\n",
    "var azureOpenAIAPIKey = config[\"AzureOpenAI:APIKey\"];\n",
    "var azureOpenAIModelDeploymentName = config[\"AzureOpenAI:ModelDeploymentName\"];\n",
    "// OpenAI Connection Info \n",
    "var openAIAPIKey = config[\"OpenAI:APIKey\"];\n",
    "var openAIModelId = config[\"OpenAI:ModelId\"];"
   ]
  },
  {
   "cell_type": "code",
   "execution_count": 3,
   "metadata": {
    "dotnet_interactive": {
     "language": "csharp"
    },
    "polyglot_notebook": {
     "kernelName": "csharp"
    },
    "vscode": {
     "languageId": "polyglot-notebook"
    }
   },
   "outputs": [
    {
     "name": "stdout",
     "output_type": "stream",
     "text": [
      "Using Azure OpenAI Service\n"
     ]
    }
   ],
   "source": [
    "Kernel semanticKernel;\n",
    "\n",
    "// Set the flag to use Azure OpenAI or OpenAI. False to use OpenAI, True to use Azure OpenAI\n",
    "var useAzureOpenAI = true;\n",
    "\n",
    "// Create a new Semantic Kernel instance\n",
    "if (useAzureOpenAI)\n",
    "{\n",
    "    Console.WriteLine(\"Using Azure OpenAI Service\");\n",
    "    semanticKernel = Kernel.CreateBuilder()\n",
    "        .AddAzureOpenAIChatCompletion(\n",
    "            deploymentName: azureOpenAIModelDeploymentName,\n",
    "            endpoint: azureOpenAIEndpoint,\n",
    "            apiKey: azureOpenAIAPIKey)\n",
    "        .Build();\n",
    "}\n",
    "else\n",
    "{\n",
    "    Console.WriteLine(\"Using OpenAI Service\");\n",
    "    semanticKernel = Kernel.CreateBuilder()\n",
    "        .AddOpenAIChatCompletion(\n",
    "            modelId: openAIModelId,\n",
    "            apiKey: openAIAPIKey)\n",
    "        .Build();\n",
    "}"
   ]
  },
  {
   "cell_type": "markdown",
   "metadata": {},
   "source": [
    "### Step 2 - Create a Semantic Kernel - Semantic Function\n",
    "\n",
    "Semantic functions are constructs inside Semantic Kernel that are basically just prompt instructions. What makes the special is that they can be exposed as functions, thus it makes re-usability easy. Furthermore, future modules will show how they can faciliate composability into plugins. "
   ]
  },
  {
   "cell_type": "markdown",
   "metadata": {},
   "source": [
    "> \"Decision frameworks are like maps. Use them to navigate complex decision-making terrain.  \n",
    ">\n",
    "> -- <cite>Unknown</cite> "
   ]
  },
  {
   "cell_type": "code",
   "execution_count": 5,
   "metadata": {
    "dotnet_interactive": {
     "language": "csharp"
    },
    "polyglot_notebook": {
     "kernelName": "csharp"
    },
    "vscode": {
     "languageId": "polyglot-notebook"
    }
   },
   "outputs": [
    {
     "name": "stdout",
     "output_type": "stream",
     "text": [
      "Certainly! Here’s a list of various decision-making frameworks that enhance the quality of decisions, along with brief descriptions of how each supports better analysis and reasoning across different scenarios:\n",
      "\n",
      "1. **Analytic Hierarchy Process (AHP)**:\n",
      "   - **Description**: AHP combines qualitative and quantitative analysis to prioritize options based on multiple criteria. It involves breaking down a complex decision into a hierarchy of simpler sub-problems, each of which can be analyzed independently.\n",
      "   - **Support**: AHP encourages rigorous analysis by facilitating comparisons between options, promoting a structured approach that reduces bias and emotion in decision-making.\n",
      "\n",
      "2. **Cost-Benefit Analysis (CBA)**:\n",
      "   - **Description**: This framework evaluates the economic pros and cons of different choices. It quantifies benefits and costs, allowing for a straightforward comparison.\n",
      "   - **Support**: CBA aids in making rational, data-driven decisions and reveals the financial implications of choices, fostering accountability and transparency.\n",
      "\n",
      "3. **Decision Tree Analysis**:\n",
      "   - **Description**: This visual framework helps map out various decision paths and their potential outcomes (including probabilities and impacts), resembling a tree structure.\n",
      "   - **Support**: Decision trees facilitate clarity by allowing decision-makers to visualize choices and probable outcomes, helping in scenarios involving uncertainty and risk assessment.\n",
      "\n",
      "4. **SWOT Analysis**:\n",
      "   - **Description**: SWOT identifies internal (Strengths, Weaknesses) and external (Opportunities, Threats) factors relevant to a decision.\n",
      "   - **Support**: This framework fosters comprehensive evaluation by encouraging consideration of both internal capabilities and external market dynamics, leading to more informed strategic planning.\n",
      "\n",
      "5. **PASTEL/PESTLE Analysis**:\n",
      "   - **Description**: This framework analyzes external factors influencing decisions through Political, Economic, Social, Technological, Environmental, and Legal lenses.\n",
      "   - **Support**: PESTLE promotes awareness of the macro-environment, helping organizations adapt to changes and mitigate risks effectively.\n",
      "\n",
      "6. **Six Thinking Hats**:\n",
      "   - **Description**: Developed by Edward de Bono, this framework involves wearing metaphorical \"hats\" representing different perspectives: factual, emotional, critical, creative, and process-oriented.\n",
      "   - **Support**: By encouraging diverse viewpoints, this approach inspires comprehensive thinking and enhances group collaboration, leading to more rounded decisions.\n",
      "\n",
      "7. **The OODA Loop (Observe, Orient, Decide, Act)**:\n",
      "   - **Description**: Originally conceptualized for military strategy, this iterative process helps in rapid decision-making in dynamic environments.\n",
      "   - **Support**: OODA emphasizes continuous learning and adaptation, making it particularly useful in fast-paced or uncertain contexts.\n",
      "\n",
      "8. **Mind Mapping**:\n",
      "   - **Description**: A visual representation of ideas and concepts related to a central decision.\n",
      "   - **Support**: Mind mapping fosters creativity and clarity by allowing complex information to be organized visually, helping teams to explore all aspects of a problem.\n",
      "\n",
      "9. **Root Cause Analysis (RCA)**:\n",
      "   - **Description**: RCA identifies the fundamental causes of problems to prevent them from recurring.\n",
      "   - **Support**: By focusing on underlying issues rather than symptoms, RCA facilitates thorough analysis and promotes more effective long-term solutions.\n",
      "\n",
      "10. **Nominal Group Technique (NGT)**:\n",
      "    - **Description**: A structured method for group brainstorming that prioritizes individual input followed by collective discussion and ranking of ideas.\n",
      "    - **Support**: NGT encourages equal participation, reducing dominance by vocal team members and allowing diverse ideas to emerge, which can lead to innovative solutions.\n",
      "\n",
      "By employing these frameworks, individuals and organizations can improve their decision-making processes, leading to better outcomes through structured analysis and enhanced reasoning."
     ]
    }
   ],
   "source": [
    "// Simple prompt to list some decision frameworks this GenAI LLM is familiar with\n",
    "var decisionPromptTemplate = \"\"\"\n",
    "Identify and list various decision-making frameworks that can enhance the quality of decisions. \n",
    "Briefly describe how each framework supports better analysis and reasoning in different decision-making scenarios.\n",
    "\"\"\";\n",
    "\n",
    "// Takes a regular prompt and creats a function that can be used to invoke the model\n",
    "var semanticDecisionFunction = semanticKernel.CreateFunctionFromPrompt(decisionPromptTemplate);\n",
    "\n",
    "await foreach (var streamChunk in semanticKernel.InvokeStreamingAsync(semanticDecisionFunction))\n",
    "{\n",
    "   Console.Write(streamChunk);\n",
    "}"
   ]
  },
  {
   "cell_type": "markdown",
   "metadata": {},
   "source": [
    "### Step 3 - Semantic Function Dynamic Execution\n",
    "\n",
    "Semantic functions can be dynamically composed using parameter placeholders, which can then be dynamically rendered using Kernel arguments. This allows the ease of passing in parameters and execution settings into the semantic functions.\n",
    "\n",
    "Execute the cell below to view how the prompt can dynamically instruct the LLM to retrieve different types of decision-making frameworks.  "
   ]
  },
  {
   "cell_type": "markdown",
   "metadata": {},
   "source": [
    "> \"If the only tool you have is a hammer, you tend to see every problem as a nail.\"\n",
    ">\n",
    "> -- <cite>Abraham Maslow (Renowned American psychologist)</cite> "
   ]
  },
  {
   "cell_type": "code",
   "execution_count": 7,
   "metadata": {
    "dotnet_interactive": {
     "language": "csharp"
    },
    "polyglot_notebook": {
     "kernelName": "csharp"
    },
    "vscode": {
     "languageId": "polyglot-notebook"
    }
   },
   "outputs": [
    {
     "name": "stdout",
     "output_type": "stream",
     "text": [
      "Here are three decision-making frameworks that can enhance the quality of decisions, particularly in strategic scenarios:\n",
      "\n",
      "### 1. **SWOT Analysis**\n",
      "**Description:** SWOT stands for Strengths, Weaknesses, Opportunities, and Threats. This framework helps organizations assess internal and external factors that can impact decision-making.\n",
      "\n",
      "**Support for Analysis and Reasoning:**\n",
      "- **Holistic View:** By categorizing factors into strengths and weaknesses (internal) and opportunities and threats (external), decision-makers gain a comprehensive understanding of the situation.\n",
      "- **Strategic Alignment:** It encourages alignment of decisions with organizational capabilities and market conditions, ensuring that strategies leverage strengths and opportunities while mitigating weaknesses and threats.\n",
      "- **Prioritization:** Helps prioritize actions based on the most critical factors, leading to more focused and effective decision-making.\n",
      "\n",
      "### 2. **Decision Matrix Analysis**\n",
      "**Description:** This framework involves listing options and evaluating them against a set of criteria, often using a scoring system to quantify the decision-making process.\n",
      "\n",
      "**Support for Analysis and Reasoning:**\n",
      "- **Objective Evaluation:** By quantifying options against defined criteria, it reduces bias and subjectivity in decision-making.\n",
      "- **Comparative Analysis:** Facilitates side-by-side comparison of alternatives, making it easier to identify the best option based on weighted criteria.\n",
      "- **Transparency:** Provides a clear rationale for decisions, which can be communicated to stakeholders, enhancing buy-in and accountability.\n",
      "\n",
      "### 3. **Cost-Benefit Analysis (CBA)**\n",
      "**Description:** CBA involves comparing the costs and benefits of different options to determine the most economically viable choice.\n",
      "\n",
      "**Support for Analysis and Reasoning:**\n",
      "- **Financial Insight:** It provides a clear financial perspective, helping decision-makers understand the economic implications of their choices.\n",
      "- **Risk Assessment:** By quantifying potential costs and benefits, it allows for better assessment of risks associated with each option.\n",
      "- **Informed Trade-offs:** Helps in making informed trade-offs between competing options, ensuring that decisions are not only strategically sound but also financially viable.\n",
      "\n",
      "These frameworks collectively enhance decision-making by promoting structured analysis, reducing bias, and ensuring that decisions are aligned with organizational goals and market realities."
     ]
    }
   ],
   "source": [
    "// Takes a prompt with input variables and creates a function that can be used to invoke the model\n",
    "var decisionPromptTemplate = \"\"\"\n",
    "Identify and list {{$numberOfFrameworks}} decision-making frameworks that can enhance the quality of decisions. \n",
    "Briefly describe how each framework supports better analysis and reasoning in {{$decisionType}} decision-making scenarios.\n",
    "\"\"\";\n",
    "\n",
    "// Create the OpenAI prompt execution settings\n",
    "var openAIPromptExecutionSettings = new OpenAIPromptExecutionSettings { \n",
    "    MaxTokens = 1500, \n",
    "    Temperature = 0.1, \n",
    "    TopP = 1.0, \n",
    "    FrequencyPenalty = 0.0, \n",
    "    PresencePenalty = 0.0\n",
    "    };\n",
    "\n",
    "var semanticDecisionFunctionWithInput = semanticKernel.CreateFunctionFromPrompt(decisionPromptTemplate, openAIPromptExecutionSettings);\n",
    "\n",
    "// Dynamically set the number of frameworks and decision type -> strategic\n",
    "var kernelArguments = new KernelArguments();\n",
    "kernelArguments.Add(\"numberOfFrameworks\", 3);\n",
    "kernelArguments.Add(\"decisionType\", \"strategic\");\n",
    "\n",
    "// Stream the output of the model\n",
    "await foreach (var streamChunk in semanticKernel.InvokeStreamingAsync(semanticDecisionFunctionWithInput, kernelArguments))\n",
    "{\n",
    "   Console.Write(streamChunk);\n",
    "}"
   ]
  },
  {
   "cell_type": "code",
   "execution_count": 8,
   "metadata": {
    "dotnet_interactive": {
     "language": "csharp"
    },
    "polyglot_notebook": {
     "kernelName": "csharp"
    },
    "vscode": {
     "languageId": "polyglot-notebook"
    }
   },
   "outputs": [
    {
     "name": "stdout",
     "output_type": "stream",
     "text": [
      "Here are five decision-making frameworks that can enhance the quality of decisions, especially in fast-action scenarios:\n",
      "\n",
      "1. **OODA Loop (Observe, Orient, Decide, Act)**:\n",
      "   - **Description**: Developed by military strategist John Boyd, the OODA Loop emphasizes a continuous cycle of observation, orientation, decision-making, and action.\n",
      "   - **Support for Fast Decision-Making**: By breaking down the decision-making process into manageable steps, it allows for rapid assessment of the situation and quick adjustments based on new information. This iterative approach helps in adapting to changing circumstances swiftly.\n",
      "\n",
      "2. **DECIDE Model**:\n",
      "   - **Description**: This model stands for Define the problem, Establish criteria, Consider alternatives, Identify best alternative, Develop and implement a plan, and Evaluate the solution.\n",
      "   - **Support for Fast Decision-Making**: The structured approach helps in quickly identifying the core issue and evaluating options against established criteria, ensuring that decisions are made based on relevant factors even under time constraints.\n",
      "\n",
      "3. **SWOT Analysis (Strengths, Weaknesses, Opportunities, Threats)**:\n",
      "   - **Description**: This framework involves assessing internal strengths and weaknesses alongside external opportunities and threats.\n",
      "   - **Support for Fast Decision-Making**: By providing a clear snapshot of the current situation, SWOT analysis helps decision-makers quickly identify viable options and potential risks, facilitating informed choices even when time is limited.\n",
      "\n",
      "4. **Pareto Analysis (80/20 Rule)**:\n",
      "   - **Description**: This principle suggests that 80% of effects come from 20% of causes, helping prioritize issues based on their impact.\n",
      "   - **Support for Fast Decision-Making**: In urgent scenarios, Pareto Analysis allows decision-makers to focus on the most critical factors that will yield the greatest results, enabling quicker and more effective responses.\n",
      "\n",
      "5. **Decision Matrix Analysis**:\n",
      "   - **Description**: This framework involves listing options and criteria, scoring each option against the criteria, and calculating a weighted score to identify the best choice.\n",
      "   - **Support for Fast Decision-Making**: By quantifying options and criteria, this method provides a clear visual representation of the best alternatives, allowing for rapid comparisons and decisions based on objective data, even when time is of the essence.\n",
      "\n",
      "These frameworks provide structured approaches that enhance clarity, focus, and efficiency in decision-making, particularly in high-pressure situations."
     ]
    }
   ],
   "source": [
    "// Dynamically set the number of frameworks and decision type -> requring fast action\n",
    "var kernelArguments = new KernelArguments(openAIPromptExecutionSettings);\n",
    "kernelArguments.Add(\"numberOfFrameworks\", 5);\n",
    "kernelArguments.Add(\"decisionType\", \"requring fast action\");\n",
    "\n",
    "// Stream the output of the model\n",
    "await foreach (var streamChunk in semanticKernel.InvokeStreamingAsync(semanticDecisionFunctionWithInput, kernelArguments))\n",
    "{\n",
    "   Console.Write(streamChunk);\n",
    "}"
   ]
  }
 ],
 "metadata": {
  "kernelspec": {
   "display_name": ".NET (C#)",
   "language": "C#",
   "name": ".net-csharp"
  },
  "language_info": {
   "name": "csharp"
  },
  "polyglot_notebook": {
   "kernelInfo": {
    "defaultKernelName": "csharp",
    "items": [
     {
      "aliases": [],
      "name": "csharp"
     }
    ]
   }
  }
 },
 "nbformat": 4,
 "nbformat_minor": 2
}
