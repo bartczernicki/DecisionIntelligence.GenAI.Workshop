{
 "cells": [
  {
   "cell_type": "markdown",
   "metadata": {},
   "source": [
    "<img style=\"float: left;\" width =\"40px\" src=\"https://raw.githubusercontent.com/bartczernicki/DecisionIntelligence.GenAI.Workshop/main/Images/SemanticKernelLogo.png\">\n",
    "\n",
    "## Decision Intelligence - Quality Decisions with Simple Decision Rules & Mental Models"
   ]
  },
  {
   "cell_type": "markdown",
   "metadata": {},
   "source": [
    "> \"You have to have models in your head. And you’ve got to array your experience – both vicarious and direct – on this latticework of models. You may have noticed students who just try to remember and pound back what is remembered. Well, they fail in school and in life. You’ve got to hang experience on a latticework of models in your head.\"\n",
    ">\n",
    "> -- <cite>Charlie Munger (American businessman, best known as the vice chairman of Berkshire Hathaway)</cite>  "
   ]
  },
  {
   "cell_type": "markdown",
   "metadata": {},
   "source": [
    "I personally enjoy the quote above from Charlie Munger, as it highlights that intuition (experience) is simply not enough to make decisions. What is really needed is a \"latticework\" of models in your head. What is meant by \"models in your head\"? Charlie Munger is not advocating about performing calculus or linear algebra in your head. Instead he advocates for the use of simple techniques, mental models, and rules of thumb that can be combined to enhance decision-making quality and quantity. By applying these tools, you can develop the ability to tackle and solve a wider range of problems, leading to more effective and efficient decision-making.  \n",
    "\n",
    "In the next few sections the following decision rules will be explored:\n",
    "* Generic Decision Rules (apply to any type of problem)  \n",
    "* Domain Specific Rules (apply to specific domains / industries)  \n",
    "* Simple Decision Frameworks for Custom Decisions  "
   ]
  },
  {
   "cell_type": "markdown",
   "metadata": {},
   "source": [
    "#### Simple Decision Rules - Generic "
   ]
  },
  {
   "cell_type": "markdown",
   "metadata": {},
   "source": [
    "Below is a list of simple decision rules that can be used for quick decision-making. Notice **these rules are generic and can be applied to many different domains, industries, fields** etc. For example, the generic \"10,000 Hour Rule\" which suggests in order to become a master in any field requires 10,000 hours of study, practice or hands-on experience. This rule essentially can be applied to any practice. If you want to master software development, cooking, basketball, playing the piano etc. this rule provides you a rough time guideline to achieve this goal. Is this rule perfect? Of course not, some people may take a little less time, some might need more than 10,000 hours and some may never achieve \"mastery\" no matter how much they practice. However, it is a great guide of the required time investment that allows you to plan your decisions accordingly to achieve this goal. \n",
    "\n",
    "There are many generic decision rules beyond what is illustrated in the table below. **Generative AI can be instructed with a collection of these decision rules, how to apply them for decision-making. This means the burden of learning and memorizing all of these rules is on the GenAI assistant rather than the human!**   "
   ]
  },
  {
   "cell_type": "markdown",
   "metadata": {},
   "source": [
    "| Generic - Simple Decision Rule | Description |\n",
    "| :--------------------- | :------------- | \n",
    "| 10,000 Hour Rule | A concept popularized by Malcolm Gladwell in his book *\"Outliers: The Story of Success\".* The rule suggests that achieving mastery in any field (industry) requires approximately 10,000 hours of deliberate practice. |  \n",
    "| Ben Franklin's Pro & Con List | Invented by Ben Franklin, this simple decision-making process suggests a user make a list Pro and Con for a binary decision, sort each side by importance, cross off equal important pros vs cons. Whichever side (Pro or Con) has more items, then make that decision. |  \n",
    "| Price's Law | In any given domain (industry), half of the work is done by the square root of the total number of people who participate in that work. For example, if there are 100 people working on a project, roughly 10 of them will be responsible for half of the results. |  \n",
    "| Rule of Succession | Principle from probability theory, specifically Bayesian probability, that provides a method for predicting the likelihood of future events based on past observations. For example, can solve the question \"What is the probability of the sun rising tomorrow?\" |  \n",
    "| Ludic Fallacy | The term \"ludic\" comes from the Latin word \"ludus,\" which means \"game.\" The fallacy refers to the misguided belief that the structured and simplified probabilities and models used in games and formal settings can be applied directly to understand real-life complexities and uncertainties. |  \n",
    "| 90% Rule | Only persue decision paths that are a \"Hell Yeah!\". If it is immediately apparent that the path forward offers the most chance of success, then this is the decision that should be selected. Can be quantified as the 90% rule, as only select decisions that have a 90% chance of succeedding. |  \n",
    "| Small Bets | This rule was popularized by Nicholas Taleb in his book *\"Antifragile: Things That Gain from Disorder\"*. It suggests to make small, reversible bets to test ideas and strategies. This allows you to learn and adapt without risking catastrophic losses. |  \n",
    "| Sample of One | This decision tactic recommends to consider even the smallest sample sizes, even a sample of one. Applied correctly, the \"sample of one\" rule statistically shows that the first influence or being able to \"peek\" at just one sample can provide a decision-making advantage. |  \n",
    "| Exploration vs Exploitation | Provides a trade-off between two competing strategies. Exploration involves trying new actions to discover potentially better options, while exploitation uses current knowledge to maximize immediate rewards. The key trade-off is between gaining new information (exploration) and optimizing based on known information (exploitation). |  \n",
    "\n",
    "\n",
    "<br/>\n",
    "<img width =\"750px\" src=\"https://raw.githubusercontent.com/bartczernicki/Articles/main/20230129-MeasuringSalesPerformanceUsingSimpleStatisticalModels/Image-CoverofSalesTeam.png\">\n",
    "<br/>  \n",
    "<br/>  \n",
    "<br/>  \n",
    "<img width =\"750px\" src=\"https://raw.githubusercontent.com/bartczernicki/Articles/main/20230129-MeasuringSalesPerformanceUsingSimpleStatisticalModels/Image-SalesPricesLaw.png\">\n",
    "\n",
    "\n",
    "Full article: https://medium.com/@bartczernicki/measuring-sales-performance-using-simple-statistical-models-6b995f088f99 "
   ]
  },
  {
   "cell_type": "markdown",
   "metadata": {},
   "source": [
    "##### Simple Decision Rules - Scenario: Exploration vs Exploitation "
   ]
  },
  {
   "cell_type": "markdown",
   "metadata": {},
   "source": [
    "#### Simple Decision Rules - Domain (Industry) Specific"
   ]
  },
  {
   "cell_type": "markdown",
   "metadata": {},
   "source": [
    "There have been hundreds of simple decision rules created that are specific to various domains (industries). These domain rules can be more precise than generic rules as they specifically have been crafted on past domain (industry) historical patterns. Almost every domain (industry) has created \"rules of thumb\" for a variety of reasons to help people arrive at conclusions rapidly with little effort.\n",
    "\n",
    "Some potential concerns you might be thinking rather than applying these rules. \n",
    "* \"Can't one just calculate their calorie defecit instead of using the 10,000 step rule?\" \n",
    "* \"Why not just hire a professional financial advisor rather than look at a simple rule of 4%?\"  \n",
    "\n",
    "Those objects are not looking at the purpose of these simple domain rules. These rules allow for quick guidance, recommendations without having to perform much calculation. For example, a nurtionist may recommend exercises for you that optimize healthy weight management. However, for days that you just want to ensure you are active (decide to take a walk at lunch, decide to take the stairs) a simple domain-specific rule like the 10,000 step rule might be quite handy paired with a fitness tracker.  \n",
    "\n",
    "Notice the variety of domain (industry) specific rules below that encompasses a great variety of domains from fitness, finance, entertainment. Keeping track of all these domain specific rules is unfeasable. However, it is quite possible for a Generative AI system to gather these rules and have them available as tools for decison-making. Furthermore, these rules can easily be applied to decision-making with Generative AI as the GenAI models are either familiar with the rule already or the simple domain specific rule can be described to aid the decision-making process. "
   ]
  },
  {
   "cell_type": "markdown",
   "metadata": {},
   "source": [
    "| Domain (Industry)  | Simple Decision Rule | Description |\n",
    "| :--------------------- | :---------------- | :------------- | \n",
    "| Fitness | 10,000 Step Rule | A fitness rule that recommends 10,000 steps for a goal for a healthy and active day. This rule is popularized with fitness counters and smart watches, where simple step activity goals are recommended to the user.   |  \n",
    "| Entertainment (Movies) | Box Office 2.5x Rule | A general rule that a movie needs to make 2.5x it's movie budget in order to break even. This rule includes estimates of marketing and other production costs. For example, if a movie cost 100 million dollars, in order to break even it would need to bring in 250 million from the box office alone.  |  \n",
    "| Wealth Management | Rule of 4% | The 4% Rule is a guideline used in personal finance and retirement planning to help determine the amount of money one can safely withdraw from their retirement savings each year without running out of money over the course of a typical retirement. For example, a couple retiring with $1 million in savings will have 4% or $40,000/year they can use during their retirement. |  \n",
    "| Car Onwership | 50% Rule | According to this rule, if the cost of repairing your car exceeds 50% of the car's current market value, it might be more practical to replace the car rather than invest in expensive repairs. |  \n",
    "| Economics | Scholte's Revenue Fallacy | A concept in economics that highlights a common misunderstanding about the relationship between revenue and costs in business operations. This fallacy occurs when business owners or managers mistakenly believe that simply increasing revenue will automatically lead to higher profits without considering the associated costs and the impact on overall profitability. |  \n",
    "| Business Strategy | SMART Goals | Optimize the number of corporate goals to a manageable number, such as 3-5 major goals per year. This ensures that the organization can maintain focus and allocate resources effectively without being overwhelmed.   |  \n",
    "| Relationships | 5:1 Ratio | Also known as \"Gottman's Rule of Five\", the rule states for every negative interaction (argument, criticism, etc.) in a marriage, there needs to be at least five positive interactions (loving words, gestures, intimacy, etc.) to maintain a strong and healthy relationship. |  "
   ]
  },
  {
   "cell_type": "markdown",
   "metadata": {},
   "source": [
    "#### Simple Decision Rules - Use Custom Data for Customized Frameworks"
   ]
  },
  {
   "cell_type": "markdown",
   "metadata": {},
   "source": [
    "In many cases, a generic decision rule or a simple domain rule may not exist or it may not be a good fit for the decision you are considering. There are simple frameworks that exist that you can work out using simple math processes to arrive at a decision recommendation. Two potential frameworks are listed below that allow a decision-maker to bring a small curated data set and apply the selected process. These frameworks are ideal when you have a small data set that can be processed by a spreadsheet software (Excel) or even in some cases by hand.  "
   ]
  },
  {
   "cell_type": "markdown",
   "metadata": {},
   "source": [
    "| Decision Process | Description |\n",
    "| :--------------------- | :------------- | \n",
    "| Analytical Hierarchy Process (AHP) | The Analytical Hierarchy Process helps making complex decisions by breaking them down into simpler, more manageable parts. AHP involves defining the decision problem and setting a clear goal. The problem is structured into a hierarchy consisting of the overall goal, the criteria for making the decision, and the possible alternatives. |  \n",
    "| Linear Model (Russo) | In the Russo Linear Model, the decision-making process involves identifying the most important criteria relevant to the decision at hand. These criteria are then assigned weights based on their relative importance. Each alternative is evaluated against these criteria, and scores are assigned accordingly. |  \n",
    "| Probabilistic Decision Trees | A graphical representation of a limited amount of decision alternatives with their probabilities can illustrate the optimized payoff or maximum risk with each decision path. | \n",
    "| Hypotheses Testing | Hypothesis testing is a statistical method used to make decisions based on data analysis. It involves formulating a hypothesis, which is a claim or assumption about a population parameter. This can help make decisions by assessing the strength of evidence against the null hypothesis (claim). | "
   ]
  },
  {
   "cell_type": "markdown",
   "metadata": {},
   "source": [
    "There are much more complex statistical and machine learning techniques that can scale to thousands, millions or even billions of data points. In order to create decision rules with machine learning, a technique like supervised learning can be used. Supervised learning is when you have a set of data points/inputs paired with decision outcomes. Those can be sent to a statistical or machine learning algorithm that learns the data to outcome interactions using sophisticed math & statistical algorithms. The output of that learning process is a \"model\". This model (specific to your decision use-case) can take new data points for a decision and output predictions (probabilities) or decision recommendations.  \n",
    "\n",
    "In this workshop you will see examples machine learing models being used as agents that help Generative AI arrive at decision recommendations. This is a powerful technique to take advantage of existing or new investments in Machine Learning and pair them with Generative AI innovations.  "
   ]
  }
 ],
 "metadata": {
  "language_info": {
   "name": "python"
  }
 },
 "nbformat": 4,
 "nbformat_minor": 2
}
