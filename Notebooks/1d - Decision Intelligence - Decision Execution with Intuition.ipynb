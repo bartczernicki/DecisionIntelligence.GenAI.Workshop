{
 "cells": [
  {
   "cell_type": "markdown",
   "metadata": {},
   "source": [
    "<div style=\"display: flex; align-items: center;\">\n",
    "  <img src=\"https://raw.githubusercontent.com/bartczernicki/DecisionIntelligence.GenAI.Workshop/main/Images/DecisionIntelligenceLogo.png\" width=\"50px\" style=\"margin-right: 10px;\">\n",
    "  <span style=\"font-size: 1.5em; font-weight: bold;\">Decision Intelligence – Decision Execution with Intuition</span>\n",
    "</div>"
   ]
  },
  {
   "cell_type": "markdown",
   "metadata": {},
   "source": [
    "<img style=\"display: block; margin: auto;\" width =\"700px\" src=\"https://raw.githubusercontent.com/bartczernicki/DecisionIntelligence.GenAI.Workshop/main/Images/DecisionIntelligence-DecisionExecution.png\">"
   ]
  },
  {
   "cell_type": "markdown",
   "metadata": {},
   "source": [
    "> 📜 **_\"All of my best decisions in business and in life have been made with heart, intuition, guts... not analysis. \n",
    "> When you can make a decision with analysis, you should do so. But it turns out, in life, your most important\n",
    "> decisions are always made with instinct, intuition, taste, heart.\"_**\n",
    ">\n",
    "> -- <cite>Jeff Bezos (founder of Amazon, Space Entrepreneur)</cite>  "
   ]
  },
  {
   "cell_type": "markdown",
   "metadata": {},
   "source": [
    "The above quote from Jeff Bezos above underscores the balance between data-driven decision-making and the role of intuition and instinct in navigating complex or uncertain situations. Intuition is usually how many people start making decisions. \n",
    "\n",
    "**How is intuition defined? Intuition is best described as the ability to understand something immediately, without the need for conscious reasoning.** Others describe it in more simpler terms as a sixth-sense or a \"gut feel\". It's based on patterns and experiences that the brain has internalized over time. Intuitive judgments can be rapid and efficient, drawing on a wealth of experience & knowledge. Therefore, intuition can be a highly effective decision-making tool by people who are highly experienced. For example, a basketaball coach for 20 years has probably experienced similar patterns in basketball game scenarios allowing the coach to make immediate decisions for his team impacting a game in real-time. Therefore, intuition is a highly effective ability when decision-making needs to be as quick as possible and you have the eperience to **recognize patterns** very quickly. To define intuition another way, below are two quotes from Daniel Kahneman:\n",
    "\n",
    "> 📜 **_\"Intuition is thinking that you know without knowing why you do.\"_**\n",
    ">\n",
    "> 📜 **_\"Intuition is nothing more and nothing less than recognition.\"_**\n",
    "> \n",
    "> -- <cite>Daniel Kahneman (Nobel laureate renowned for his groundbreaking work on the psychology of judgment, decision-making, and behavioral economics)</cite>  \n",
    "\n",
    "When is intuition (recognition) NOT a great tool? \n",
    "* When one is presented with a great deal of supporting data\n",
    "* There is time to improve the quality of the decision\n",
    "* When the situation is NOT \"new\" and there are enough historical decision outcomes  \n",
    "* The decision scenario will repeat itself many times in the future  \n",
    "* When the human making a probabilistic decision is not calibrated \n",
    "\n",
    "In the cases listed above intuition can be unreliable. Therefore, there are much better decision intelligence options than intuition if you have the time, the data or can draw on past repeatable decision outcomes.   "
   ]
  },
  {
   "cell_type": "markdown",
   "metadata": {},
   "source": [
    "### Intuition - Scenario: A Firefighter's Split-Second Decision Making"
   ]
  },
  {
   "cell_type": "markdown",
   "metadata": {},
   "source": [
    "<img style=\"float: left;padding-right: 25px\" width =\"400px\" src=\"https://raw.githubusercontent.com/bartczernicki/DecisionIntelligence.GenAI.Workshop/main/Images/DecisionIntelligenceFramework/DecisionExecution-Intuition-Firefighter.png\">\n",
    "\n",
    "Imagine a scenario where a firefighter responds to a 3-alarm fire at a multi-story house. As he arrives on the scene, he sees flames engulfing the top floor and people trapped inside.  He analyzes the situation: The building's layout is unfamiliar. The fire is spreading rapidly, and the stairwell is impassable. There are only two minutes to rescue those trapped before the floor collapses.  \n",
    "\n",
    "In this situation his years of training and intuition takes over. He recalls a similar incident where a hidden entrance was discovered on the opposite side of the building. Trusting his gut feeling, he decides to lead his team around the building to search for an alternate entry point. In this high-pressure situation, the firefighter's intuition proves more valuable than following standard decision models, allowing him to save more lives. \n",
    "\n",
    "Scenarios like this demonstrate the value of Intuition applied Decision Making:  \n",
    "- Time is of the essence  \n",
    "- Information is limited or uncertain (unknown house layout)  \n",
    "- Experience and pattern recognition are essential (training comes out naturally without pauses for reflection)"
   ]
  },
  {
   "cell_type": "markdown",
   "metadata": {},
   "source": [
    "### Intuition - Generative AI "
   ]
  },
  {
   "cell_type": "markdown",
   "metadata": {},
   "source": [
    "> 📜 **_\"I think, therefore I am.\"_**\n",
    ">\n",
    "> -- <cite>Descrates (French philosopher, and scientist, often dubbed the \"Father of Modern Philosophy\")</cite>  "
   ]
  },
  {
   "cell_type": "markdown",
   "metadata": {},
   "source": [
    "What does intuition have todo with Generative AI? Most correlate intuition with human cognitive behavior and currently we don't consider Generative AI LLMs as satient beings. It turns out intuition decision-making techniques can be applied to Generative AI. In the context of Generative AI, intuition is basically allowing the Generative AI model make a decision from it's own knowledge & patterns recognition it has learned from the mountains of training data. In the same way that intuition is a rapid reasoning framework to make the decisions for humans, it is the same for Generative AI. This means that when you ask a logic question, reasoning, recommendation or for Generative AI to make a potential decision it will respond much faster following the straighforward path while activating neurons in its path. You may trust a GenAI's \"intuition\" rapid response system to recommend simple scenarios, but not for making high-stakes decisions without specific instructions, knowledge or other guardrails. \n",
    "\n",
    "<img style=\"float: left;padding-right: 25px\" width =\"400px\" src=\"https://raw.githubusercontent.com/bartczernicki/DecisionIntelligence.GenAI.Workshop/main/Images/DecisionIntelligenceFramework/DecisionExecution-Intuition-BabyLearning.png\">\n",
    "\n",
    "There is an interesting connection in how humans learn from childhood to adulthood and how GenAI models are trained with data to develop their own \"AI intuition\". Each human has their own personal life examples they are presented during their formative period or adult career. These life examples vary in the specificity of the type of examples (data), quality of examples (professional teaching or self-taught), the amount of examples and finally how we as humans internalize them. The same applies for Generative AI! When Generative AI models are trained, they are presented with varying quality and quantity data sets. They are instructed to \"learn\" from the presented data using varying algorthmic and mathematic approaches. Finally, they are trained using varying durations of time. The outcome from this training is a model that recognizes patterns and communicates them back to the user. What is more interesting as you vary the data, type of training, duration or training or size of the model's memory you get vastly different GenAI capabilities. Just like people vary in their expertise, we have trained GenAI models that differ in their pattern recognition and expertise. For example, GenI models can be very good at a specific thing (chess), good all-around knowledge experts (Ken Jennings - Jeopardy) or good at selected  domains (coding, math, finance) etc.\n",
    "\n",
    "If you send a basic prompt to a GenAI model you are entrusting the GenAI's intuition (it's knowledge, pattern recognition and experience it has learned). The more basic the prompt and less specific the decision instructions, the more you are entrusting GenAI's intuition and learned pattern discovery. Therefore, in order to get the most decison-making capability from GenAI LLMs, one needs to apply more decision-making tools. "
   ]
  },
  {
   "cell_type": "markdown",
   "metadata": {},
   "source": [
    "### Intuition - Materials to Deepen Your Understanding"
   ]
  },
  {
   "cell_type": "markdown",
   "metadata": {},
   "source": [
    "The two resources below from Daniel Kahneman are your \"bibles\" to build a foundation on intuiton-base reasoning and decision-making. A great deal of his reasearch with his colleagues spanning 70+ years will be instrumental in how it is applied to Generative Articial Intelligence going forward."
   ]
  },
  {
   "cell_type": "markdown",
   "metadata": {},
   "source": [
    "<img style=\"float: left;padding-right: 25px\" width =\"200px\" src=\"https://m.media-amazon.com/images/I/61fdrEuPJwL._AC_UY436_FMwebp_QL65_.jpg\">\n",
    "\n",
    "[**\"Thinking, Fast and Slow\"**](https://www.amazon.com/Thinking-Fast-Slow-Daniel-Kahneman/dp/0374533555/) by Daniel Kahneman talks about how we think in two different ways. The first way, called System 1, is fast and automatic (using intuition and recognition). It makes quick decisions without us even thinking about it, but it can often make mistakes because it relies on gut feelings. The second way, called System 2, is slow and careful. It takes more effort and time because it involves thinking things through. Kahneman explains how these two systems work together and affect our decisions. He also discusses common thinking mistakes, like being too confident, sticking to first impressions, and fearing losses more than gains. The book shows that understanding these thinking patterns can help us make better choices and highlights that we aren't always as logical as we think. Through examples and research, Kahneman helps us see how our minds work in everyday situations.\n",
    "\n",
    "If you do decide to read this book, some of the key chapters named \"*7 - A Machine For Jumping To Conclusions*\", \"*8 - Taming Intuitive Predictions*\" and \"*21 - Intuitions vs Formulas*\" are immediate must reads that apply to Generative AI application.  Daniel Kahneman is a huge advovate of systematic training for decision making and using decision frameworks.  \n",
    "\n",
    "> 📝 Note: This book is basically the source of the inspiration of Generative AI LRMs (large reasoning models) such as OpenAI's o1 series. Some of the \"thinking slow concepts\" introduced in this book are now incorporated into LRMs. It is a must read to learn how to further optimie reasoning, logic and decisions in Generative AI. Contrast this with the \"thinking fast concepts\", which are the foundation of Generative AI systems that produce optimized output immediately to the user.  "
   ]
  },
  {
   "cell_type": "markdown",
   "metadata": {},
   "source": [
    "<img style=\"float: right;padding-left: 25px; padding-right: 25px;\" width =\"200px\" src=\"https://m.media-amazon.com/images/I/81lM0xsKXFL._AC_UY436_FMwebp_QL65_.jpg\">\n",
    "\n",
    "[**\"Noise\"**](https://www.amazon.com/Noise-Flaw-Human-Judgment/dp/B08LNYM39M/) by Daniel Kahneman is about how random differences mess up our decisions. Noise is when people make different choices even when the situation is the same, like two doctors giving different diagnoses for the same problem or two judges giving different sentences for similar crimes. This random difference is not the same as bias, which is a consistent mistake. Noise is more like static on a radio, causing random errors. Kahneman explains that noise is everywhere, like in medicine, law, and business, and it makes outcomes unfair and inconsistent. The book suggests ways to cut down on noise, like using clear rules and computer programs to make decisions more consistent. Understanding and reducing noise can help make decisions fairer and more accurate.  \n",
    "\n",
    "> 📝 Note: Reading and internalizing the concepts in this book, will help one better understand more advanced decision-making optimiations for Geneartive AI such as: AI self-consitency, ensembling model decisions, uncovering biases with Responsible AI, decision hygiene and decision audits.  "
   ]
  }
 ],
 "metadata": {
  "kernelspec": {
   "display_name": ".NET (C#)",
   "language": "C#",
   "name": ".net-csharp"
  },
  "language_info": {
   "name": "python"
  },
  "polyglot_notebook": {
   "kernelInfo": {
    "defaultKernelName": "csharp",
    "items": [
     {
      "aliases": [],
      "name": "csharp"
     }
    ]
   }
  }
 },
 "nbformat": 4,
 "nbformat_minor": 2
}
