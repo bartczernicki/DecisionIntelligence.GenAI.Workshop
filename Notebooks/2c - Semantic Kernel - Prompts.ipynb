{
 "cells": [
  {
   "cell_type": "markdown",
   "metadata": {},
   "source": [
    "<img style=\"float: left;padding-right: 10px\" width =\"40px\" src=\"https://raw.githubusercontent.com/bartczernicki/DecisionIntelligence.GenAI.Workshop/main/Images/SemanticKernelLogo.png\">\n",
    "\n",
    "## Semantic Kernel - Prompts"
   ]
  },
  {
   "cell_type": "markdown",
   "metadata": {},
   "source": [
    "Decision Intelligence applied in this module:  \n",
    "* Listing of various decision-making frameworks and with their descriptions by using GenAI prompt engineering   \n",
    "\n",
    "Prompts are the fundemental building block to getting the proper responses from AI models. This module demonstrates how to use common prompt engineering techniques while using Semantic Kernel. If you've ever used ChatGPT or Microsoft Copilot, you're already familiar with prompting. Given a prompt instruction, an LLM will attempt to predict the most likely response. With Semantic Kernel, you can craft applications, services & APIs that execute prompts.  \n",
    "\n",
    "For more information on using prompts with Semantic Kernel, visit: https://learn.microsoft.com/en-us/semantic-kernel/prompts/your-first-prompt  "
   ]
  },
  {
   "cell_type": "markdown",
   "metadata": {},
   "source": [
    "### Step 1 - Initialize Configuration Builder & Build the Semantic Kernel Orchestration\n",
    "\n",
    "Execute the next two cells to:\n",
    "* Use the Configuration Builder to load the API secrets.  \n",
    "* Use the API configuration to build the Semantic Kernel orchestrator."
   ]
  },
  {
   "cell_type": "code",
   "execution_count": 1,
   "metadata": {
    "dotnet_interactive": {
     "language": "csharp"
    },
    "polyglot_notebook": {
     "kernelName": "csharp"
    },
    "vscode": {
     "languageId": "polyglot-notebook"
    }
   },
   "outputs": [
    {
     "data": {
      "text/html": [
       "<div><div></div><div></div><div><strong>Installed Packages</strong><ul><li><span>Microsoft.Extensions.Configuration, 8.0.0</span></li><li><span>Microsoft.Extensions.Configuration.Json, 8.0.0</span></li></ul></div></div>"
      ]
     },
     "metadata": {},
     "output_type": "display_data"
    }
   ],
   "source": [
    "// Import the required NuGet configuration packages\n",
    "#r \"nuget: Microsoft.Extensions.Configuration, 8.0.0\"\n",
    "#r \"nuget: Microsoft.Extensions.Configuration.Json, 8.0.0\"\n",
    "\n",
    "using Microsoft.Extensions.Configuration;\n",
    "using System.IO;\n",
    "\n",
    "// Load the configuration settings from the local.settings.json and secrets.settings.json files\n",
    "// The secrets.settings.json file is used to store sensitive information such as API keys\n",
    "var configurationBuilder = new ConfigurationBuilder()\n",
    "    .SetBasePath(Directory.GetCurrentDirectory())\n",
    "    .AddJsonFile(\"local.settings.json\", optional: true, reloadOnChange: true)\n",
    "    .AddJsonFile(\"secrets.settings.json\", optional: true, reloadOnChange: true);\n",
    "var config = configurationBuilder.Build();\n",
    "\n",
    "// IMPORTANT: You ONLY NEED either Azure OpenAI or OpenAI connectiopn info, not both.\n",
    "// Azure OpenAI Connection Info\n",
    "var azureOpenAIEndpoint = config[\"AzureOpenAI:Endpoint\"];\n",
    "var azureOpenAIAPIKey = config[\"AzureOpenAI:APIKey\"];\n",
    "var azureOpenAIModelDeploymentName = config[\"AzureOpenAI:ModelDeploymentName\"];\n",
    "// OpenAI Connection Info \n",
    "var openAIAPIKey = config[\"OpenAI:APIKey\"];\n",
    "var openAIModelId = config[\"OpenAI:ModelId\"];"
   ]
  },
  {
   "cell_type": "code",
   "execution_count": 2,
   "metadata": {
    "dotnet_interactive": {
     "language": "csharp"
    },
    "polyglot_notebook": {
     "kernelName": "csharp"
    },
    "vscode": {
     "languageId": "polyglot-notebook"
    }
   },
   "outputs": [
    {
     "data": {
      "text/html": [
       "<div><div></div><div></div><div><strong>Installed Packages</strong><ul><li><span>Microsoft.SemanticKernel, 1.20.0</span></li></ul></div></div>"
      ]
     },
     "metadata": {},
     "output_type": "display_data"
    },
    {
     "name": "stdout",
     "output_type": "stream",
     "text": [
      "Using Azure OpenAI Service\n"
     ]
    }
   ],
   "source": [
    "// Import the Semantic Kernel NuGet package\n",
    "#r \"nuget: Microsoft.SemanticKernel, 1.20.0\"\n",
    "\n",
    "using Microsoft.SemanticKernel;\n",
    "using Microsoft.SemanticKernel.ChatCompletion;\n",
    "using Microsoft.SemanticKernel.Connectors.OpenAI;\n",
    "\n",
    "Kernel semanticKernel;\n",
    "\n",
    "// Set the flag to use Azure OpenAI or OpenAI. False to use OpenAI, True to use Azure OpenAI\n",
    "var useAzureOpenAI = true;\n",
    "\n",
    "// Create a new Semantic Kernel instance\n",
    "if (useAzureOpenAI)\n",
    "{\n",
    "    Console.WriteLine(\"Using Azure OpenAI Service\");\n",
    "    semanticKernel = Kernel.CreateBuilder()\n",
    "        .AddAzureOpenAIChatCompletion(\n",
    "            deploymentName: azureOpenAIModelDeploymentName,\n",
    "            endpoint: azureOpenAIEndpoint,\n",
    "            apiKey: azureOpenAIAPIKey)\n",
    "        .Build();\n",
    "}\n",
    "else\n",
    "{\n",
    "    Console.WriteLine(\"Using OpenAI Service\");\n",
    "    semanticKernel = Kernel.CreateBuilder()\n",
    "        .AddOpenAIChatCompletion(\n",
    "            modelId: openAIModelId,\n",
    "            apiKey: openAIAPIKey)\n",
    "        .Build();\n",
    "}"
   ]
  },
  {
   "cell_type": "markdown",
   "metadata": {},
   "source": [
    "### Step 2 - Execute a Semantic Kernel Prompt\n",
    "\n",
    "Many LLMs and even SLMs have been trained on knowledge that includes decision frameworks & processes. This makes LLMs great assistants to:\n",
    "* Provide proper decision frames\n",
    "* Gather the information & intelligence in order to make a decision\n",
    "* Recommend decision frameworks to make a high-quality decision\n",
    "* Provide feedback to evaluate a decision\n",
    "\n",
    "Once the Semantic Kernel instance is built, it is ready to intake prompt instructions. In the prompt below, the Semantic Kernel is instructed to provide examples of decision frameworks. "
   ]
  },
  {
   "cell_type": "code",
   "execution_count": 3,
   "metadata": {
    "dotnet_interactive": {
     "language": "csharp"
    },
    "polyglot_notebook": {
     "kernelName": "csharp"
    },
    "vscode": {
     "languageId": "polyglot-notebook"
    }
   },
   "outputs": [
    {
     "name": "stdout",
     "output_type": "stream",
     "text": [
      "Here are several decision-making frameworks that can enhance the quality of decisions, along with brief descriptions of how each supports better analysis and reasoning:\n",
      "\n",
      "1. **Rational Decision-Making Model**:\n",
      "   - **Description**: This model involves a structured four-step process: identifying the problem, generating alternatives, evaluating alternatives, and making the decision.\n",
      "   - **Support**: It encourages thorough analysis by requiring evidence-based evaluation of alternatives, which helps ensure decisions are made systematically rather than impulsively.\n",
      "\n",
      "2. **SWOT Analysis**:\n",
      "   - **Description**: This framework involves assessing an organization's Strengths, Weaknesses, Opportunities, and Threats.\n",
      "   - **Support**: It fosters a holistic view of the internal and external factors affecting a decision, leading to more informed strategic decisions.\n",
      "\n",
      "3. **Decision Matrix Analysis**:\n",
      "   - **Description**: This involves creating a table to evaluate and prioritize various options based on predefined criteria.\n",
      "   - **Support**: It provides a visual representation of options against criteria, making complex decisions more quantifiable and easier to compare.\n",
      "\n",
      "4. **Cost-Benefit Analysis**:\n",
      "   - **Description**: This framework involves comparing the costs and benefits of different options to determine the most financially viable choice.\n",
      "   - **Support**: It facilitates objective decision-making by quantifying potential outcomes, enabling clearer prioritization of options based on economic impact.\n",
      "\n",
      "5. **Pareto Analysis**:\n",
      "   - **Description**: Also known as the 80/20 rule, this framework focuses on identifying the most significant factors influencing a problem or decision.\n",
      "   - **Support**: It helps prioritize actions that will yield the highest benefit, ensuring resources are allocated efficiently towards solving key issues.\n",
      "\n",
      "6. **Multi-Criteria Decision Analysis (MCDA)**:\n",
      "   - **Description**: This framework evaluates options based on multiple criteria, often involving weighted scores for importance.\n",
      "   - **Support**: It allows for a comprehensive evaluation of complex decisions by accommodating multiple factors and values stakeholders’ differing priorities.\n",
      "\n",
      "7. **OODA Loop (Observe, Orient, Decide, Act)**:\n",
      "   - **Description**: This iterative decision-making model is useful in fast-paced environments where quick adaptability is crucial.\n",
      "   - **Support**: It emphasizes continuous observation and learning, enabling quicker, evidence-driven decisions in dynamic settings.\n",
      "\n",
      "8. **Six Thinking Hats**:\n",
      "   - **Description**: Developed by Edward de Bono, this technique involves exploring a decision from six distinct perspectives (e.g., factual, emotional, positive, negative).\n",
      "   - **Support**: It promotes a rounded analysis by encouraging individuals or teams to express diverse viewpoints, enhancing creativity and reducing bias.\n",
      "\n",
      "9. **Root Cause Analysis (RCA)**:\n",
      "   - **Description**: This framework involves identifying the underlying causes of a problem rather than just addressing symptoms.\n",
      "   - **Support**: By focusing on root causes, this approach ensures that decisions lead to long-term solutions, improving overall problem-solving efficacy.\n",
      "\n",
      "10. **The Delphi Method**:\n",
      "    - **Description**: This structured communication technique relies on a panel of experts answering questionnaires in multiple rounds.\n",
      "    - **Support**: It enhances decision-making accuracy by harnessing collective intelligence and reducing the influence of dominant individuals, leading to more democratic and informed choices.\n",
      "\n",
      "Each of these frameworks can be tailored to specific contexts, providing systematic approaches to enhance decision quality through structured analysis and diverse perspectives.\n"
     ]
    }
   ],
   "source": [
    "// New prompt to help with decision-making frameworks\n",
    "var simplePrompt = \"\"\"\n",
    "Identify and list various decision-making frameworks that can enhance the quality of decisions. \n",
    "Briefly describe how each framework supports better analysis and reasoning in different decision-making scenarios.\n",
    "\"\"\";\n",
    "\n",
    "var simplePromptResponse = await semanticKernel.InvokePromptAsync(simplePrompt);\n",
    "Console.WriteLine(simplePromptResponse.GetValue<string>());"
   ]
  },
  {
   "cell_type": "markdown",
   "metadata": {},
   "source": [
    "### Step 3 - Execute a Semantic Kernel Prompt with Streaming\n",
    "\n",
    "Semantic Kernel supports prompt response streaming when invoking the prompt. This allows responses to be streamed to the client as soon as they are made available by the LLM and service. Below the same decision prompt is executed. However, notice that chunks are streamed and can be read by the user as soon as they appear. "
   ]
  },
  {
   "cell_type": "code",
   "execution_count": 6,
   "metadata": {
    "dotnet_interactive": {
     "language": "csharp"
    },
    "polyglot_notebook": {
     "kernelName": "csharp"
    },
    "vscode": {
     "languageId": "polyglot-notebook"
    }
   },
   "outputs": [
    {
     "name": "stdout",
     "output_type": "stream",
     "text": [
      "Certainly! Here are several decision-making frameworks that can enhance the quality of decisions, along with brief descriptions of how each supports better analysis and reasoning:\n",
      "\n",
      "1. **SWOT Analysis (Strengths, Weaknesses, Opportunities, Threats)**:\n",
      "   - **Description**: This framework helps individuals and organizations assess both internal and external factors that can affect decision-making. \n",
      "   - **Support**: By identifying strengths and weaknesses internally, and opportunities and threats externally, decision-makers can develop a comprehensive view of their situation, leading to more informed strategies.\n",
      "\n",
      "2. **Cost-Benefit Analysis (CBA)**:\n",
      "   - **Description**: This method involves comparing the costs and benefits of different options to determine the most advantageous choice.\n",
      "   - **Support**: CBA quantifies potential outcomes, helping decision-makers visualize the trade-offs and prioritize options based on financial impact, promoting more rational financial decisions.\n",
      "\n",
      "3. **Decision Trees**:\n",
      "   - **Description**: A visual representation of possible options, outcomes, and their probabilities.\n",
      "   - **Support**: This framework allows for a clear mapping of available choices and their consequences, facilitating straightforward comparisons and enhancing clarity in complex decisions.\n",
      "\n",
      "4. **The Pareto Principle (80/20 Rule)**:\n",
      "   - **Description**: This principle posits that 80% of consequences come from 20% of causes.\n",
      "   - **Support**: By focusing on the most impactful factors, decision-makers can allocate resources and attention more effectively, ensuring that efforts are concentrated where they will yield the greatest benefit.\n",
      "\n",
      "5. **Multi-Criteria Decision Analysis (MCDA)**:\n",
      "   - **Description**: This process evaluates multiple conflicting criteria in decision-making.\n",
      "   - **Support**: MCDA helps to balance qualitative and quantitative factors, allowing for a more holistic view of options in scenarios where decisions must be made considering various stakeholder needs. \n",
      "\n",
      "6. **The Eisenhower Matrix**:\n",
      "   - **Description**: A simple grid that categorizes tasks based on urgency and importance.\n",
      "   - **Support**: This framework aids in prioritization by helping individuals focus on what truly matters, enhancing productivity and strategic focus.\n",
      "\n",
      "7. **OODA Loop (Observe, Orient, Decide, Act)**:\n",
      "   - **Description**: Developed by military strategist John Boyd, this cyclical process assists in decision-making in dynamic environments.\n",
      "   - **Support**: By emphasizing observation and orientation before acting, the OODA Loop promotes adaptability and quick responses to changing circumstances.\n",
      "\n",
      "8. **Six Thinking Hats**:\n",
      "   - **Description**: This framework involves looking at problems from six different perspectives, represented by colored hats.\n",
      "   - **Support**: By encouraging diverse thinking styles (e.g., emotional, analytical, creative, etc.), this approach helps teams reach more balanced and comprehensive decisions.\n",
      "\n",
      "9. **Risk Analysis**:\n",
      "   - **Description**: Involves identifying, assessing, and managing risks associated with a decision.\n",
      "   - **Support**: By evaluating potential risks and their impacts, decision-makers can develop contingency plans, leading to more robust and less risky choices.\n",
      "\n",
      "10. **Delphi Technique**:\n",
      "    - **Description**: A structured communication method that gathers input from a panel of experts through multiple rounds of Anonymous surveys.\n",
      "    - **Support**: This method helps mitigate bias and fosters consensus, improving the reliability of information on which decisions are based.\n",
      "\n",
      "Each of these frameworks provides unique advantages and methodologies suitable for different contexts, enhancing the analysis and reasoning behind decisions. By applying these frameworks, individuals and organizations can make more informed, strategic, and effective choices."
     ]
    }
   ],
   "source": [
    "await foreach (var streamChunk in semanticKernel.InvokePromptStreamingAsync(simplePrompt))\n",
    "{\n",
    "   Console.Write(streamChunk);\n",
    "}"
   ]
  },
  {
   "cell_type": "markdown",
   "metadata": {},
   "source": [
    "### Step 4 - Execute a Semantic Kernel Prompt with a Custom Prompt Execution Configuration\n",
    "\n",
    "Semantic Kernel supports the configuration of prompt execution. The typical OpenAI and Azure OpenAI settings are exposed as configuration options that provide a different prompt experience. Try changing the MaxTokens, Tempature or other settings."
   ]
  },
  {
   "cell_type": "code",
   "execution_count": 7,
   "metadata": {
    "dotnet_interactive": {
     "language": "csharp"
    },
    "polyglot_notebook": {
     "kernelName": "csharp"
    },
    "vscode": {
     "languageId": "polyglot-notebook"
    }
   },
   "outputs": [
    {
     "name": "stdout",
     "output_type": "stream",
     "text": [
      "Here are several decision-making frameworks that can enhance the quality of decisions, along with brief descriptions of how each supports better analysis and reasoning:\n",
      "\n",
      "1. **Rational Decision-Making Model**:\n",
      "   - **Description**: This model involves a structured, step-by-step approach to decision-making, including problem identification, gathering information, evaluating alternatives, and making a choice.\n",
      "   - **Support**: It promotes thorough analysis and logical reasoning, ensuring that decisions are based on objective data rather than emotions or biases.\n",
      "\n",
      "2. **SWOT Analysis**:\n",
      "   - **Description**: SWOT stands for Strengths, Weaknesses, Opportunities, and Threats. This framework helps in assessing internal and external factors that can impact a decision.\n",
      "   - **Support**: By providing a comprehensive view of the situation, it encourages critical thinking about both positive and negative aspects, leading to more balanced decisions.\n",
      "\n",
      "3. **Cost-Benefit Analysis (CBA)**:\n",
      "   - **Description**: This framework involves comparing the costs and benefits of different options to determine the most economically viable choice.\n",
      "   - **Support**: It quantifies the potential outcomes, allowing decision-makers to weigh financial implications and make informed choices based on value.\n",
      "\n",
      "4. **Decision Matrix Analysis**:\n",
      "   - **Description**: This tool uses a grid to evaluate and prioritize different options based on specific criteria and their respective scores.\n",
      "   - **Support**: It helps in visualizing complex decisions, making it easier to compare alternatives systematically and objectively.\n",
      "\n",
      "5. **Pareto Analysis**:\n",
      "   - **Description**: Based on the 80/20 rule, this framework identifies the most significant factors contributing to a problem, allowing focus on the most impactful areas.\n",
      "   - **Support**: It aids in prioritizing efforts and resources, ensuring that decision-makers concentrate on what will yield the greatest results.\n",
      "\n",
      "6. **Multi-Criteria Decision Analysis (MCDA)**:\n",
      "   - **Description**: This framework evaluates multiple conflicting criteria in decision-making, often using scoring systems to rank options.\n",
      "   - **Support**: It accommodates complex decisions with various factors, helping to clarify trade-offs and align choices with overall goals.\n",
      "\n",
      "7. **The OODA Loop (Observe, Orient, Decide, Act)**:\n",
      "   - **Description**: Originally developed for military strategy, this iterative process emphasizes rapid decision-making in dynamic environments.\n",
      "   - **Support**: It encourages adaptability and continuous learning, allowing decision-makers to respond effectively to changing circumstances.\n",
      "\n",
      "8. **Six Thinking Hats**:\n",
      "   - **Description**: Developed by Edward de Bono, this framework encourages looking at decisions from multiple perspectives (e.g., emotional, analytical, creative).\n",
      "   - **Support**: It fosters comprehensive discussions and reduces groupthink by ensuring that all viewpoints are considered before making a decision.\n",
      "\n",
      "9. **Scenario Planning**:\n",
      "   - **Description**: This approach involves creating detailed narratives about possible future scenarios to explore the implications of different decisions.\n",
      "   - **Support**: It enhances foresight and prepares decision-makers for uncertainty, allowing them to consider long-term impacts and risks.\n",
      "\n",
      "10. **Fishbone Diagram (Ishikawa)**:\n",
      "    - **Description**: This visual tool helps identify the root causes of a problem by categorizing potential factors.\n",
      "    - **Support**: It promotes thorough investigation and analysis, ensuring that decisions address underlying issues rather than just symptoms.\n",
      "\n",
      "Each of these frameworks provides structured approaches to decision-making, enhancing clarity, reducing biases, and improving the overall quality of the decisions made."
     ]
    }
   ],
   "source": [
    "// Create a new OpenAI prompt execution settings object\n",
    "var openAIPromptExecutionSettings = new OpenAIPromptExecutionSettings { \n",
    "    MaxTokens = 750, \n",
    "    Temperature = 0.0, \n",
    "    TopP = 1.0, \n",
    "    FrequencyPenalty = 0.0, \n",
    "    PresencePenalty = 0.0\n",
    "    };\n",
    "\n",
    "KernelArguments kernelArguments = new KernelArguments(openAIPromptExecutionSettings);\n",
    "await foreach (var streamChunk in semanticKernel.InvokePromptStreamingAsync(simplePrompt, kernelArguments))\n",
    "{\n",
    "   Console.Write(streamChunk);\n",
    "}"
   ]
  },
  {
   "cell_type": "markdown",
   "metadata": {},
   "source": [
    "### Step 5 - Execute a Semantic Kernel Prompt with a system prompt (persona)\n",
    "\n",
    "All the best practices of prompt engineering apply when using Semantic Kernel.  \n",
    "* Make the prompt more specific\n",
    "* Add structure to the output with formatting\n",
    "* Provide examples with few-shot prompting\n",
    "* Tell the AI what to do to avoid doing something wrong\n",
    "* Provide context to the AI\n",
    "* Using message roles in chat completion prompts\n",
    "* Give your AI words of encouragement  \n",
    "\n",
    "One best practice is to provide a common behaviour across all the LLM interactions in a system prompt. This system prompt is passed in on every single call the LLM with Semantic Kernel. These prompts can be dynamically created with a programming language like C#.\n",
    "\n",
    "Execute the cell below with a dynamic prompt template. Notice the different behavior of the output for decision frameworks. The decision framework responses are much more robust with decision intelligence information."
   ]
  },
  {
   "cell_type": "code",
   "execution_count": 8,
   "metadata": {
    "dotnet_interactive": {
     "language": "csharp"
    },
    "polyglot_notebook": {
     "kernelName": "csharp"
    },
    "vscode": {
     "languageId": "polyglot-notebook"
    }
   },
   "outputs": [
    {
     "name": "stdout",
     "output_type": "stream",
     "text": [
      "Prompt To Send to the Azure OpenAI Chat Completion Service...\n",
      "System Prompt: You are a decision intelligence assistant. \n",
      "Assist the user in exploring options, reasoning through decisions, problem-solving, and applying systems thinking to various scenarios. \n",
      "Provide structured, logical, and comprehensive advice.\n",
      "\n",
      "Request from the user: Provide some decision frameworks that can help improve the quality of decisions.\n",
      "\n",
      "----------------------------------------\n",
      "\n",
      "Response from the Azure OpenAI Chat Completion Service...\n",
      "Certainly! Here are several decision frameworks that can enhance the quality of your decisions. Each framework has its own strengths and can be applied to various scenarios:\n",
      "\n",
      "### 1. **SWOT Analysis**\n",
      "   - **Strengths**: Identify internal strengths that can be leveraged.\n",
      "   - **Weaknesses**: Recognize internal weaknesses that need to be addressed.\n",
      "   - **Opportunities**: Explore external opportunities that can be capitalized on.\n",
      "   - **Threats**: Assess external threats that could pose challenges.\n",
      "\n",
      "   **Application**: Useful for strategic planning and assessing new projects or initiatives.\n",
      "\n",
      "### 2. **Decision Matrix Analysis**\n",
      "   - **Criteria**: List the criteria that are important for the decision.\n",
      "   - **Options**: Identify the options available.\n",
      "   - **Scoring**: Rate each option against each criterion.\n",
      "   - **Weighting**: Assign weights to each criterion based on importance.\n",
      "   - **Total Score**: Calculate the total score for each option to identify the best choice.\n",
      "\n",
      "   **Application**: Effective for comparing multiple options quantitatively.\n",
      "\n",
      "### 3. **Cost-Benefit Analysis**\n",
      "   - **Identify Costs**: List all costs associated with each option.\n",
      "   - **Identify Benefits**: List all benefits associated with each option.\n",
      "   - **Quantify**: Assign monetary values to costs and benefits where possible.\n",
      "   - **Compare**: Calculate the net benefit (benefits - costs) for each option.\n",
      "\n",
      "   **Application**: Useful for financial decisions and resource allocation.\n",
      "\n",
      "### 4. **Pareto Analysis (80/20 Rule)**\n",
      "   - **Identify Problems**: List problems or causes of issues.\n",
      "   - **Rank**: Rank them based on their impact or frequency.\n",
      "   - **Focus**: Identify the top 20% of causes that are responsible for 80% of the problems.\n",
      "\n",
      "   **Application**: Helps prioritize efforts on the most impactful issues.\n",
      "\n",
      "### 5. **Six Thinking Hats**\n",
      "   - **White Hat**: Focus on data and facts.\n",
      "   - **Red Hat**: Consider emotions and feelings.\n",
      "   - **Black Hat**: Identify potential problems and risks.\n",
      "   - **Yellow Hat**: Explore benefits and positive aspects.\n",
      "   - **Green Hat**: Encourage creativity and new ideas.\n",
      "   - **Blue Hat**: Manage the thinking process and ensure all perspectives are considered.\n",
      "\n",
      "   **Application**: Encourages comprehensive exploration of a decision from multiple perspectives.\n",
      "\n",
      "### 6. **The 5 Whys**\n",
      "   - **Identify the Problem**: Clearly state the problem.\n",
      "   - **Ask Why**: Ask \"Why?\" to identify the root cause.\n",
      "   - **Repeat**: Continue asking \"Why?\" for each answer until the root cause is identified (typically five times).\n",
      "\n",
      "   **Application**: Effective for problem-solving and root cause analysis.\n",
      "\n",
      "### 7. **OODA Loop (Observe, Orient, Decide, Act)**\n",
      "   - **Observe**: Gather information about the situation.\n",
      "   - **Orient**: Analyze the information and your position.\n",
      "   - **Decide**: Make a decision based on the analysis.\n",
      "   - **Act**: Implement the decision and observe the results.\n",
      "\n",
      "   **Application**: Useful in dynamic environments where quick decision-making is crucial.\n",
      "\n",
      "### 8. **Scenario Planning**\n",
      "   - **Identify Drivers**: Determine key factors that could influence the future.\n",
      "   - **Develop Scenarios**: Create multiple plausible future scenarios based on different combinations of these factors.\n",
      "   - **Analyze Implications**: Assess how each scenario would impact your decision.\n",
      "   - **Plan Responses**: Develop strategies for each scenario.\n",
      "\n",
      "   **Application**: Helps in"
     ]
    }
   ],
   "source": [
    "// Create a system prompt instruction to override the default system prompt\n",
    "// Add the System Prompt (Persona) to behave like a decision intelligence assistant\n",
    "var systemPromptForDecisions = \"\"\"\n",
    "You are a decision intelligence assistant. \n",
    "Assist the user in exploring options, reasoning through decisions, problem-solving, and applying systems thinking to various scenarios. \n",
    "Provide structured, logical, and comprehensive advice.\n",
    "\"\"\";\n",
    "var simplePrompt = \"Provide some decision frameworks that can help improve the quality of decisions.\";\n",
    "\n",
    "// How the prompt looks like to the LLM\n",
    "var simpleDecisionPromptTemplate = $\"\"\"\n",
    "System Prompt: {systemPromptForDecisions}\n",
    "\n",
    "Request from the user: {simplePrompt}\n",
    "\"\"\";\n",
    "\n",
    "// Create a new OpenAI prompt execution settings object\n",
    "var openAIPromptExecutionSettings = new OpenAIPromptExecutionSettings { \n",
    "    ChatSystemPrompt = systemPromptForDecisions,\n",
    "    MaxTokens = 750, \n",
    "    Temperature = 0.1, \n",
    "    TopP = 1.0, \n",
    "    FrequencyPenalty = 0.0, \n",
    "    PresencePenalty = 0.0\n",
    "    };\n",
    "KernelArguments kernelArguments = new KernelArguments(openAIPromptExecutionSettings);\n",
    "\n",
    "Console.WriteLine(\"Prompt To Send to the Azure OpenAI Chat Completion Service...\");\n",
    "Console.WriteLine(simpleDecisionPromptTemplate);\n",
    "Console.WriteLine(string.Empty);\n",
    "Console.WriteLine(\"----------------------------------------\");\n",
    "Console.WriteLine(string.Empty);\n",
    "Console.WriteLine(\"Response from the Azure OpenAI Chat Completion Service...\");\n",
    "\n",
    "\n",
    "await foreach (var streamChunk in semanticKernel.InvokePromptStreamingAsync(simplePrompt, kernelArguments))\n",
    "{\n",
    "   Console.Write(streamChunk);\n",
    "}"
   ]
  }
 ],
 "metadata": {
  "kernelspec": {
   "display_name": ".NET (C#)",
   "language": "C#",
   "name": ".net-csharp"
  },
  "language_info": {
   "name": "csharp"
  },
  "polyglot_notebook": {
   "kernelInfo": {
    "defaultKernelName": "csharp",
    "items": [
     {
      "aliases": [],
      "name": "csharp"
     }
    ]
   }
  }
 },
 "nbformat": 4,
 "nbformat_minor": 2
}
