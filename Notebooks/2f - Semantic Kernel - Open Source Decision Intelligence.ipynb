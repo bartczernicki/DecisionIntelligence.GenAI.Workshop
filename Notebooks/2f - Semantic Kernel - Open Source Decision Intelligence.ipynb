{
 "cells": [
  {
   "cell_type": "markdown",
   "metadata": {},
   "source": [
    "<img style=\"float: left;padding-right: 10px\" width =\"40px\" src=\"https://raw.githubusercontent.com/bartczernicki/DecisionIntelligence.GenAI.Workshop/main/Images/SemanticKernelLogo.png\">\n",
    "\n",
    "## Semantic Kernel - Open Source Decision Intelligence"
   ]
  },
  {
   "cell_type": "markdown",
   "metadata": {},
   "source": [
    "Decision Intelligence applied in this module:  \n",
    "* Listing key factors to consider when making a sound decision  \n",
    "* Decision Scenario: Use a decision framework (Ben Franklin's Pro & Con List) to create a decision plan  \n",
    "* Improving Decision Intelligence process by explicitly proving decision frameworks and additional context "
   ]
  },
  {
   "cell_type": "markdown",
   "metadata": {},
   "source": [
    "A recommended enterprise pattern is to scale Articial Intelligence strategy with three key areas:\n",
    "* Commercial AI (OpenAI and other proprietary Generative AI providers)\n",
    "* Open-Source AI (open-source AI providers)\n",
    "* Vendor and Partner AI (i.e. company HR Software, contract software) \n",
    "\n",
    "These three areas together strategically form AI capability and capacity in what I like to refer to as the \"Generative AI Brain\". This is illustrated below with sample providers. For example, an organization may have an existing relationship with Adobe for their graphic design and leverage the built-in Generative AI capabilities rather building their own. \n",
    "\n",
    "<img style=\"display: block; margin: auto;\" width =\"800px\" src=\"https://raw.githubusercontent.com/bartczernicki/DecisionIntelligence.GenAI.Workshop/main/Images/AIBrainPillars.png\">\n",
    "\n",
    "Semantic Kernel embraces AI orchestration across all the pillars mentioned above. It allows all types of models (commercial or proprietary) and almost any APIs to be orchestrated to faciliate enterprise Decision Intelligence."
   ]
  },
  {
   "cell_type": "markdown",
   "metadata": {},
   "source": [
    "### Step 1 - Get Started with LMStudio and Local Open Source AI Models "
   ]
  },
  {
   "cell_type": "markdown",
   "metadata": {},
   "source": [
    "This module highlights how to use local GenAI models (i.e. LLMs) with Semantic Kernel. To illustrate this the Phi-4 model is run locally using LMStudio as a local REST endpoint that will interface with Semantic Kernel orchestration.  \n",
    "\n",
    "Phi-4 is considered an SLM (Small Language Model) with parameters generally below the 27 Billion parameter threshhold. This doesn't mean the model is not capable of performing well. While it certainly may lack the breadth of general knowledge of Large Language Models, Phi-4 makes up for it by providing very capable reasoning capabilities that can rival LLMs. Below is an image illustrating this performance:  \n",
    "<img style=\"display: block; margin: auto;\" width =\"700px\" src=\"https://raw.githubusercontent.com/bartczernicki/DecisionIntelligence.GenAI.Workshop/main/Images/Phi4-Performance.webp\">   \n",
    "\n",
    "Steps to get started:\n",
    "* Download & install LMStudio: https://lmstudio.ai/ (Windows, Mac or Linux) \n",
    "* Run the LMStudio studio application \n",
    "* In the LMStudio application, download the Phi-4 GGUF file. Search for \"Phi-4\" in the \"Discover\" section of LMStudio. A variety of Phi-4 options that are official and unofficial from hobbyists will appear. Typically, selecting the model with the most downloads will provide the best results.  \n",
    "* In the experiment below, the 14B parameter model is being used. LMStudio will inspect your hardware and let you know which quantized version of the model(s) is optimal for your hardware. Note: Even computers with small graphics cards can run these models well locally. Furthermore, laptops such as the Macbook Pro with Neural Engine can run LMStudio local models as well. \n",
    "* Start the LMStudio Server with the Phi-4 model loaded. This will start a local REST endpoint with a URI similar to http://localhost:1234/v1 \n",
    "* The LMStudio local server does not have default security, you can simply check by navigating to this link in any browser to check if a model is loaded: http://localhost:1234/v1/models \n",
    "\n",
    "<img style=\"display: block; margin: auto;\" width =\"700px\" src=\"https://raw.githubusercontent.com/bartczernicki/DecisionIntelligence.GenAI.Workshop/main/Images/LMStudioServer.png\"> "
   ]
  },
  {
   "cell_type": "markdown",
   "metadata": {},
   "source": [
    "### Step 2 - Initialize Configuration Builder & Build the Semantic Kernel Orchestration"
   ]
  },
  {
   "cell_type": "markdown",
   "metadata": {},
   "source": [
    "Execute the next cell to:\n",
    "* Use the Configuration Builder to use the local LMStudio Server  \n",
    "* Use the API configuration to build the Semantic Kernel orchestrator  \n",
    "* Notice there is no security being passed in and it is simply a URL"
   ]
  },
  {
   "cell_type": "code",
   "execution_count": 1,
   "metadata": {
    "dotnet_interactive": {
     "language": "csharp"
    },
    "polyglot_notebook": {
     "kernelName": "csharp"
    },
    "vscode": {
     "languageId": "polyglot-notebook"
    }
   },
   "outputs": [
    {
     "data": {
      "text/html": [
       "<div><div></div><div></div><div><strong>Installed Packages</strong><ul><li><span>Microsoft.SemanticKernel, 1.37.0</span></li></ul></div></div>"
      ]
     },
     "metadata": {},
     "output_type": "display_data"
    }
   ],
   "source": [
    "#r \"nuget: Microsoft.SemanticKernel, 1.37\"\n",
    "\n",
    "using Microsoft.SemanticKernel;\n",
    "using Microsoft.SemanticKernel.ChatCompletion;\n",
    "using Microsoft.SemanticKernel.Connectors.OpenAI;\n",
    "\n",
    "#pragma warning disable SKEXP0010 \n",
    "var semanticKernel = Kernel.CreateBuilder()\n",
    "    .AddOpenAIChatCompletion(\n",
    "        modelId: \"Phi-4\",\n",
    "        endpoint: new Uri(\"http://localhost:1234/v1/\"),\n",
    "        apiKey: null)\n",
    "    .Build();\n",
    "#pragma warning restore SKEXP0010"
   ]
  },
  {
   "cell_type": "markdown",
   "metadata": {},
   "source": [
    "### Step 3 - Open Source AI Models with Decision Intelligence "
   ]
  },
  {
   "cell_type": "markdown",
   "metadata": {},
   "source": [
    "Semantic Kernel allows one to interact with any API service that adheres to the OpenAI specification. Notice the method to add LMStudio capability was simply enabled via the **AddOpenAIChatCompletion** method.\n",
    "\n",
    "Execute the cell below about decision factors for a investment property. Note:\n",
    "* OpenAI Prompt Execution Settings are the same in LMStudio as they are for OpenAI and Azure OpenAI\n",
    "* Passing in arguents works the same way in Semantic Kernel\n",
    "* Streaming works as well in Semantic Kernel for supported services"
   ]
  },
  {
   "cell_type": "markdown",
   "metadata": {},
   "source": [
    "> \"Don't wait to buy real estate. Buy real estate and wait.\"  \n",
    ">\n",
    "> -- <cite>Will Rodgers (American humorist, actor, and social commentator in the early 20th century)</cite>  "
   ]
  },
  {
   "cell_type": "code",
   "execution_count": 4,
   "metadata": {
    "dotnet_interactive": {
     "language": "csharp"
    },
    "polyglot_notebook": {
     "kernelName": "csharp"
    },
    "vscode": {
     "languageId": "polyglot-notebook"
    }
   },
   "outputs": [
    {
     "name": "stdout",
     "output_type": "stream",
     "text": [
      "<think>\n",
      "Okay, so I'm thinking about buying a second home as an investment property. Hmm, where do I even start? I guess first I need to figure out what's important when making this kind of investment. I remember reading somewhere that location is key, but I'm not exactly sure why. Maybe it has something to do with how easy it is to rent the place or maybe the area's growth potential.\n",
      "\n",
      "I should probably look into different neighborhoods and see which ones are up-and-coming. But wait, how do I determine if a neighborhood is going to grow? Maybe I can check local development projects or talk to real estate agents about trends. Also, proximity to amenities like schools, shopping centers, or public transport might make the property more appealing to renters.\n",
      "\n",
      "Another thing is rental income. How much can I expect to earn from renting out my second home? I think it depends on the location and the size of the property. Maybe I should research average rent prices in the area. But then there are expenses too—like maintenance, taxes, insurance, and maybe even landscaping. I need to make sure that after covering all these costs, I still have a positive cash flow.\n",
      "\n",
      "Financing is another big factor. I know that buying a second home might require a different kind of mortgage than my primary residence. Maybe the down payment percentage is higher or the interest rates are different. I should compare different lenders and see what terms they offer for investment properties. Also, can I use any existing equity from my primary home to help finance this?\n",
      "\n",
      "Long-term property value is something I shouldn't overlook. Even if I rent it out, I want the property itself to appreciate over time. So, factors like the condition of the house, its location, and any potential for renovations could affect its future value. Maybe investing in a property that needs some work but has good bones could be a smart move, as long as I can handle the renovation costs.\n",
      "\n",
      "Risks are another consideration. There's always the chance that the rental market might slow down, or unexpected repair costs come up. How do I mitigate those risks? Maybe by having an emergency fund set aside specifically for property-related issues or ensuring that my insurance coverage is adequate.\n",
      "\n",
      "I also need to think about the legal aspects, like zoning laws and tenant regulations. If I'm renting out a multi-unit property, there might be specific rules I have to follow. And what if I can't find tenants? How long-term will I have to hold onto this investment?\n",
      "\n",
      "Maybe I should outline some steps: first, assess my financial situation to see how much I can afford to invest. Then research locations and properties that fit within my budget and offer good rental potential. Get pre-approved for a mortgage so I know what I'm working with financially. Once I find a property, do a thorough inspection and get appraisals or home insurance quotes.\n",
      "\n",
      "I also need to consider the market trends—like whether it's a buyer's or seller's market—and how that might affect my ability to purchase and rent out the property. Maybe talking to a real estate investor group could provide some insights I haven't thought of yet.\n",
      "\n",
      "Overall, it seems like a lot to take in, but breaking it down into these key areas—location, rental income, financing, long-term value, and risks—should help me make a more informed decision.\n",
      "</think>\n",
      "\n",
      "Investing in a second home as an investment property involves several critical considerations. Here's a structured approach based on the thought process:\n",
      "\n",
      "### 1. **Location Analysis**\n",
      "   - **Neighborhood Trends:** Research areas with potential for growth, such as those near upcoming developments or infrastructure projects.\n",
      "   - **Proximity to Amenities:** Consider properties close"
     ]
    }
   ],
   "source": [
    "// Prompt Engineering works in a very similar way to the OpenAI API\n",
    "\n",
    "// Create a Decision Intelligence prompt on the topic of purchasing a secondary home as an investment property\n",
    "// Provide detailed decision-making criteria for evaluating the investment decision\n",
    "var simpleDecisionPrompt = \"\"\"\n",
    "You are considering purchasing a secondary home as an investment property. \n",
    "\n",
    "What key factors should you evaluate to ensure a sound investment decision, including financial, market, and property-specific considerations? \n",
    "Outline the critical steps and criteria for assessing location, potential rental income, financing options, long-term property value, and associated risks.\n",
    "\"\"\";\n",
    "\n",
    "// You can set the typical OpenAI settings with most open-source models\n",
    "// Try different settings (Temperature, FrequencyPenalty etc) to see how they affect the quality of the generated text\n",
    "// Note: The settings below are similar to OpenAI API settings. Most OSS models support these settings  \n",
    "var openAIPromptExecutionSettings = new OpenAIPromptExecutionSettings { \n",
    "    MaxTokens = 750, \n",
    "    Temperature = 0.1, \n",
    "    TopP = 1.0, \n",
    "    FrequencyPenalty = 0.0, \n",
    "    PresencePenalty = 0.0\n",
    "    };\n",
    "KernelArguments kernelArguments = new KernelArguments(openAIPromptExecutionSettings);\n",
    "\n",
    "// Most open-source GenAI moodels support streaming as well\n",
    "await foreach (var streamChunk in semanticKernel.InvokePromptStreamingAsync(simpleDecisionPrompt, kernelArguments))\n",
    "{\n",
    "   Console.Write(streamChunk);\n",
    "}"
   ]
  },
  {
   "cell_type": "markdown",
   "metadata": {},
   "source": [
    "Advanced Prompt Engineering techniques can be applied to OSS (open-source) models as well. In the example below a more advanced reasoning decision prompt will be used to provide additional instructions to the GenAI model."
   ]
  },
  {
   "cell_type": "code",
   "execution_count": 4,
   "metadata": {
    "dotnet_interactive": {
     "language": "csharp"
    },
    "polyglot_notebook": {
     "kernelName": "csharp"
    },
    "vscode": {
     "languageId": "polyglot-notebook"
    }
   },
   "outputs": [
    {
     "name": "stdout",
     "output_type": "stream",
     "text": [
      "To address your consideration of purchasing a secondary home as an investment property, let's follow a structured approach to ensure you have all necessary information and considerations.\n",
      "\n",
      "### Understand the Problem\n",
      "You are contemplating buying a second home for investment purposes. This involves understanding both personal motivations (e.g., vacation use) and financial goals (e.g., rental income or capital appreciation).\n",
      "\n",
      "### Break Down the Reasoning Process\n",
      "\n",
      "1. **Define Objectives:**\n",
      "   - Determine your primary goal: Is it to generate rental income, appreciate in value over time, have a vacation home, or a combination of these?\n",
      "   - Consider how this investment fits into your overall financial plan.\n",
      "\n",
      "2. **Market Research:**\n",
      "   - Identify potential locations based on factors such as market trends, demand for rentals, and personal preferences.\n",
      "   - Analyze the local real estate market to understand pricing, vacancy rates, and rental yields.\n",
      "\n",
      "3. **Financial Analysis:**\n",
      "   - Calculate initial costs including purchase price, closing costs, property taxes, insurance, and any renovation expenses.\n",
      "   - Estimate ongoing expenses such as maintenance, management fees (if using a property manager), utilities, and mortgage payments if applicable.\n",
      "   - Project potential income from renting the property.\n",
      "\n",
      "4. **Risk Assessment:**\n",
      "   - Evaluate risks like market downturns, changes in rental demand, or unexpected repairs.\n",
      "   - Consider how these risks align with your risk tolerance and financial situation.\n",
      "\n",
      "5. **Legal and Tax Implications:**\n",
      "   - Understand tax benefits such as deductions for mortgage interest, depreciation, and property taxes.\n",
      "   - Be aware of any legal requirements for landlords in the area you are considering.\n",
      "\n",
      "6. **Financing Options:**\n",
      "   - Explore different financing options including traditional mortgages, home equity loans, or other investment vehicles.\n",
      "   - Compare interest rates, terms, and conditions to find the best fit for your financial situation.\n",
      "\n",
      "7. **Exit Strategy:**\n",
      "   - Plan for potential scenarios such as selling the property in the future or converting it into a primary residence.\n",
      "   - Consider how long you plan to hold the property and what market conditions might affect this decision.\n",
      "\n",
      "### Explain Each Step\n",
      "\n",
      "- **Objectives:** Clearly defining your goals helps tailor your search and financial planning. For instance, if rental income is a priority, focus on areas with high demand for rentals.\n",
      "  \n",
      "- **Market Research:** This step ensures you choose a location that aligns with both personal enjoyment (if used as a vacation home) and investment potential.\n",
      "\n",
      "- **Financial Analysis:** A detailed cost-benefit analysis helps determine the feasibility of your investment. For example, if rental income covers expenses and provides profit, it may be a sound investment.\n",
      "\n",
      "- **Risk Assessment:** Understanding risks allows you to prepare for adverse scenarios, ensuring that your investment aligns with your risk tolerance.\n",
      "\n",
      "- **Legal and Tax Implications:** Being aware of these factors can significantly impact the profitability of your investment. For example, tax deductions can reduce taxable income from rental profits.\n",
      "\n",
      "- **Financing Options:** Choosing the right financing method affects cash flow and overall cost. Lower interest rates or favorable terms can enhance returns.\n",
      "\n",
      "- **Exit Strategy:** Having a clear plan for selling or repurposing the property ensures you are prepared for future changes in your financial situation or goals.\n",
      "\n",
      "### Arrive at the Final Answer\n",
      "\n",
      "After considering all these factors, you should have a comprehensive understanding of whether purchasing a secondary home as an investment aligns with your objectives and financial situation. \n",
      "\n",
      "### Review the Thought Process\n",
      "\n",
      "- Ensure that each step logically follows from the previous one.\n",
      "- Double-check calculations for accuracy in financial analysis.\n",
      "- Reassess risk tolerance to ensure alignment with potential risks.\n",
      "\n",
      "### Communicate the Final Decision Using the Minto Pyramid Principle\n",
      "\n",
      "1. **Conclusion:** Purchasing a secondary home as an investment can be beneficial if it aligns with your financial goals, market conditions are favorable, and you have accounted for all associated costs and risks.\n",
      "   \n",
      "2. **Reasoning:**\n",
      "   - Define clear objectives to guide your decision-making process.\n",
      "   - Conduct thorough market research to identify promising locations.\n",
      "   - Perform a detailed financial analysis to ensure profitability.\n",
      "   - Assess risks and understand legal/tax implications.\n",
      "   - Explore financing options that suit your financial situation.\n",
      "   - Develop an exit strategy for future flexibility.\n",
      "\n",
      "3. **Supporting Details:**\n",
      "   - Objectives should include both personal enjoyment and financial returns.\n",
      "   - Market research involves analyzing local demand, pricing trends, and rental yields.\n",
      "   - Financial analysis includes calculating initial costs, ongoing expenses, and potential income.\n",
      "   - Risk assessment considers market volatility and unexpected expenses.\n",
      "   - Legal/tax implications can significantly impact net returns.\n",
      "   - Financing options should be evaluated for cost-effectiveness and alignment with cash flow needs.\n",
      "\n",
      "By following this structured approach, you can make an informed decision about purchasing a secondary home as an investment property."
     ]
    }
   ],
   "source": [
    "// Prompting works in a very similar way to the OpenAI API\n",
    "\n",
    "// Create a Decision Intelligence prompt on the topic of purchasing a secondary home as an investment property\n",
    "// Use Chain of Thought to prompt the OSS model\n",
    "// Use the Minto Pyramid to communicate the decision \n",
    "var advancedDecisionPrompt = \"\"\"\n",
    "You are considering purchasing a secondary home as an investment property. \n",
    "\n",
    "Before providing any answer, you must: \n",
    "Understand the Problem: Carefully read and understand the user's question or request. \n",
    "Break Down the Reasoning Process: Outline the steps required to solve the problem or respond to the request logically and sequentially. Think aloud and describe each step in detail. \n",
    "Always aim to make your thought process transparent and logical. \n",
    "Explain Each Step: Provide reasoning or calculations for each step, explaining how you arrive at each part of your answer. \n",
    "Provide structured, logical, and comprehensive advice. \n",
    "Arrive at the Final Answer: Only after completing all steps, provide the final answer or solution. \n",
    "Review the Thought Process: Double-check the reasoning for errors or gaps before finalizing your response. \n",
    "Communicate the final decision using the Minto Pyramid Principle.\n",
    "\"\"\";\n",
    "\n",
    "// You can set the typical OpenAI settings with most open-source models\n",
    "// Try different settings (Temperature, FrequencyPenalty etc) to see how they affect the quality of the generated text\n",
    "var openAIPromptExecutionSettings = new OpenAIPromptExecutionSettings { \n",
    "    MaxTokens = 750, \n",
    "    Temperature = 0.2, \n",
    "    TopP = 1.0, \n",
    "    FrequencyPenalty = 0.0, \n",
    "    PresencePenalty = 0.0\n",
    "    };\n",
    "KernelArguments kernelArguments = new KernelArguments(openAIPromptExecutionSettings);\n",
    "\n",
    "// Most open-source GenAI moodels support streaming as well\n",
    "await foreach (var streamChunk in semanticKernel.InvokePromptStreamingAsync(advancedDecisionPrompt, kernelArguments))\n",
    "{\n",
    "   Console.Write(streamChunk);\n",
    "}"
   ]
  },
  {
   "cell_type": "markdown",
   "metadata": {},
   "source": [
    "### Step 4 - Open Source AI Models with Ben Franklin Decision Framework "
   ]
  },
  {
   "cell_type": "markdown",
   "metadata": {},
   "source": [
    "> \"By failing to prepare, you are preparing to fail.\" \n",
    ">\n",
    "> -- <cite>Ben Franklin (Founding Father of the United States, inventor, godfather of Decision Science)</cite> \n",
    "\n",
    "<img style=\"display: block; margin: auto;\" width =\"700px\" src=\"https://raw.githubusercontent.com/bartczernicki/Articles/main/20230326-Make-Great-Decisions-Using-Ben-Franklins-Pros-And-Cons-Method/Image-BenFranklinDecisionMakingMethod.png\">"
   ]
  },
  {
   "cell_type": "markdown",
   "metadata": {},
   "source": [
    "#### Tom Brady's use of a Decision Framework"
   ]
  },
  {
   "cell_type": "markdown",
   "metadata": {},
   "source": [
    "Tom Brady's decision to join the Tampa Bay Buccaneers in 2020 marked a significant in his legendary NFL career. After 20 seasons and six Super Bowl championships with the New England Patriots, Brady became a free agent and chose to sign with the Bucs. How did he arrive at this decision? On the Fox broadcast on 09.29.2024, while covering the Buccaneers vs Philadelphia Eagles game, Tom Brady described how he arrived at this decision.\n",
    "\n",
    "In the screenshot below, Tom Brady is holding up some small paper cards he is showing the audience of the broadcast. Brady mentioned he wrote down the personal decision criteria that was important and how each team compared in that criteria (salary, weather etc). He used this to select the Tampa Bay Buccaneers as his team, where he went on to win a Super Bowl in his first year there! **After 250 years since it's inception, Tom Brady used the \"Ben Franklin Decision Framework\" to decide where to play NFL quaterback!!**  \n",
    "\n",
    "<img style=\"display: block; margin: auto;\" width =\"700px\" src=\"https://raw.githubusercontent.com/bartczernicki/DecisionIntelligence.GenAI.Workshop/main/Images/Scenarios/OpenSourceDecisionIntelligence-BenFranklinDecisionFramework-TomBrady.png\">"
   ]
  },
  {
   "cell_type": "markdown",
   "metadata": {},
   "source": [
    "#### Steps for Ben Franklin's Decision Framework"
   ]
  },
  {
   "cell_type": "markdown",
   "metadata": {},
   "source": [
    "Below are the steps Ben Franklin recommends when making a decision, which he called his \"Decision Making Method of Moral Algebra\":  \n",
    "- Frame a decision that has two options (Yes or a No)\n",
    "- Divide an area into two competing halves: a \"Pro\" side and \"Con\" side\n",
    "- Label the top of one side \"Pro\" (for) and the other \"Con\" (against)\n",
    "- Under each respective side, over a period of time (Ben Franklin recommended days, this could be minutes) write down various reasons/arguments that support (Pro) or are against (Con) the decision\n",
    "- After spending some time thinking exhaustively and writing down the reasons, weight the different Pro and Con reasons/arguments\n",
    "- Determine the relative importance of each reason or argument. This is done by taking reasons/arguments that are of similar value (weight) and crossing them off of the other competing half. Multiple reasons can be combined from one side to form a \"subjective\" value (weight) to balance out the other half. (For example, two medium \"Pro\" reasons might add up to an equal value of a single important \"Con\" reason)\n",
    "- The side with the most remaining reasons is the option one should select for the decision in question\n",
    "\n",
    "Learn more about Ben Franklin's Decision Framework: https://medium.com/@bartczernicki/make-great-decisions-using-ben-franklins-decision-making-method-c7fb8b17905c  "
   ]
  },
  {
   "cell_type": "markdown",
   "metadata": {},
   "source": [
    "#### Decision Scenario - Should a Family Take a Luxury Vacation"
   ]
  },
  {
   "cell_type": "markdown",
   "metadata": {},
   "source": [
    "Should a family take a luxury family vacation this year? Just like Brady mapped out whether joining the Bucs would satisfy his key personal and professional goals, you can list the factors that matter most for your family—budget, timing, destination climate, activities for the kids—and lay them out on your own “decision cards.” Weigh each component carefully, just as Brady weighed his NFL future. Because if it worked to land Brady in Tampa (where he won yet another Super Bowl), imagine what it can do for a family’s dream getaway.\n",
    "\n",
    "<img style=\"display: block; margin: auto;\" width =\"700px\" src=\"https://raw.githubusercontent.com/bartczernicki/DecisionIntelligence.GenAI.Workshop/main/Images/Scenarios/Scenario-Vacation.png\">"
   ]
  },
  {
   "cell_type": "code",
   "execution_count": null,
   "metadata": {
    "dotnet_interactive": {
     "language": "csharp"
    },
    "polyglot_notebook": {
     "kernelName": "csharp"
    },
    "vscode": {
     "languageId": "polyglot-notebook"
    }
   },
   "outputs": [
    {
     "name": "stdout",
     "output_type": "stream",
     "text": [
      "The Ben Franklin Decision-Making Framework is a classic method for evaluating options by listing their advantages and disadvantages. Here's how you can apply this framework to decide whether or not to take a luxury family vacation:\n",
      "\n",
      "### Pros of Taking a Luxury Family Vacation\n",
      "\n",
      "1. **Quality Time Together**: Provides an opportunity for the family to bond, create memories, and strengthen relationships.\n",
      "2. **Stress Relief**: A break from daily routines can reduce stress and improve mental health for all family members.\n",
      "3. **Cultural Exposure**: Offers exposure to new cultures, languages, and experiences that can be educational and enriching.\n",
      "4. **Adventure and Fun**: Provides excitement and adventure, which can be especially beneficial for children’s development and happiness.\n",
      "5. **Health Benefits**: Relaxation and change of scenery can improve physical health by reducing stress-related ailments.\n",
      "6. **Memorable Experiences**: Creates lasting memories that the family can cherish for years to come.\n",
      "7. **Skill Development**: Encourages learning new skills, such as navigating unfamiliar places or trying new activities.\n",
      "8. **Inspiration and Creativity**: New environments can inspire creativity and offer fresh perspectives on life.\n",
      "9. **Family Tradition**: Establishing a tradition of annual vacations can become a cherished family ritual.\n",
      "10. **Personal Growth**: Experiencing new things can lead to personal growth and increased confidence.\n",
      "\n",
      "### Cons of Taking a Luxury Family Vacation\n",
      "\n",
      "1. **Cost**: Luxury vacations are expensive, which could strain the family budget or savings.\n",
      "2. **Time Away from Work/Family**: Extended time away might disrupt work schedules or responsibilities at home.\n",
      "3. **Travel Stress**: The logistics of planning and traveling can be stressful, especially with children.\n",
      "4. **Health Risks**: Traveling to new places may expose the family to health risks, including illnesses or accidents.\n",
      "5. **Environmental Impact**: Luxury travel often has a higher carbon footprint, contributing to environmental concerns.\n",
      "6. **Potential for Conflict**: Being in close quarters for extended periods can lead to conflicts among family members.\n",
      "7. **Opportunity Cost**: Money spent on vacation could be used for other important expenses like education or home improvements.\n",
      "8. **Unpredictability**: Travel plans can be disrupted by unforeseen events such as weather, political instability, or health issues.\n",
      "9. **Cultural Sensitivity Issues**: There may be challenges in adapting to different cultural norms and expectations.\n",
      "10. **Post-Vacation Adjustment**: Returning from a luxurious experience might make everyday life seem less exciting.\n",
      "\n",
      "### Conclusion\n",
      "\n",
      "To make an informed decision using the Ben Franklin framework, weigh these pros and cons based on your family's values, priorities, and current circumstances. Consider which factors are most important to you and how they align with your long-term goals. This structured approach will help clarify whether a luxury family vacation is the right choice for your situation."
     ]
    }
   ],
   "source": [
    "// You can also use a template to provide more context to the model combining system and user prompts\n",
    "var systemDecisionPrompt = \"\"\"\n",
    "You are a decision intelligence assistant. \n",
    "Your role is to guide users in exploring options, analyzing decisions, solving complex problems, and applying systems thinking to diverse scenarios. \n",
    "Provide structured, logical, and comprehensive advice, ensuring clarity, depth, and actionable insights to support informed decision-making.\n",
    "\"\"\";\n",
    "var benFranklinDecisionPrompt = \"\"\"\n",
    "Apply the Ben Franklin Decision-Making Framework (Pro and Con list) to evaluate whether or not to take a luxury family vacation. \n",
    "List at most 10 pros and at most 10 cons to help the user make an informed decision.\n",
    "\"\"\";\n",
    "\n",
    "var simpleDecisionPromptTemplate = $\"\"\"\n",
    "{systemDecisionPrompt}\n",
    "--------------\n",
    "{benFranklinDecisionPrompt}\n",
    "\"\"\";\n",
    "\n",
    "// You can set the typical OpenAI settings with most open-source models\n",
    "// Try different settings (Temperature, FrequencyPenalty etc) to see how they affect the quality of the generated text\n",
    "var openAIPromptExecutionSettings = new OpenAIPromptExecutionSettings { \n",
    "    MaxTokens = 750, \n",
    "    Temperature = 0.2, \n",
    "    TopP = 1.0, \n",
    "    FrequencyPenalty = 0.0, \n",
    "    PresencePenalty = 0.0\n",
    "    };\n",
    "KernelArguments kernelArguments = new KernelArguments(openAIPromptExecutionSettings);\n",
    "\n",
    "// Stream the response output \n",
    "await foreach (var streamChunk in semanticKernel.InvokePromptStreamingAsync(simpleDecisionPromptTemplate, kernelArguments))\n",
    "{\n",
    "   Console.Write(streamChunk);\n",
    "}"
   ]
  },
  {
   "cell_type": "markdown",
   "metadata": {},
   "source": [
    "#### Improving the Ben Franklin's Decision Framework with SLMs"
   ]
  },
  {
   "cell_type": "markdown",
   "metadata": {},
   "source": [
    "Notice that the output above may not be exactly what most would anticipate. The Ben Franklin framework was not fully understood nor applied. Open-Source GenAI models that have a small amount of parameters (< 13 billion parameters) may not have all the inherent knowledge \"trained\" into the model. The exception being domain-specific models that are only trained on data sets for that domain. Those models can have a great deal of knowledge, while maintaining a small amount of parameters. \n",
    "\n",
    "One simple way to improve the outcome is to provide the explicit steps of the \"Ben Franklin Decision Framework\" into the prompt context. This basically provides the instructions of the decision framework directly to the model; regardless if the GenAI model was trained with decision framework data.  \n",
    "\n",
    "In the example below, the prompt context is provided with the Ben Franklin Decision Framework steps. Contrast this with the example above, where the decision recommendation is not clear. "
   ]
  },
  {
   "cell_type": "code",
   "execution_count": 6,
   "metadata": {
    "dotnet_interactive": {
     "language": "csharp"
    },
    "polyglot_notebook": {
     "kernelName": "csharp"
    },
    "vscode": {
     "languageId": "polyglot-notebook"
    }
   },
   "outputs": [
    {
     "name": "stdout",
     "output_type": "stream",
     "text": [
      "To apply the Ben Franklin Decision Framework to your question about whether you should take a luxury family vacation, let's follow each step systematically.\n",
      "\n",
      "### Frame the Decision\n",
      "**Decision:** Should I take a luxury family vacation?\n",
      "\n",
      "- **Option 1 (Yes):** Take the luxury family vacation.\n",
      "- **Option 2 (No):** Do not take the luxury family vacation.\n",
      "\n",
      "### Divide into Pro and Con Sides\n",
      "\n",
      "#### Pros of Taking the Luxury Family Vacation:\n",
      "1. **Memorable Experience:** Provides lasting memories for the entire family.\n",
      "2. **Stress Relief:** Offers a break from daily routines, reducing stress levels.\n",
      "3. **Quality Time:** Enhances bonding time with family members.\n",
      "4. **Cultural Exposure:** Opportunity to experience new cultures and environments.\n",
      "5. **Health Benefits:** Potential health benefits from relaxation and possibly better nutrition.\n",
      "6. **Adventure and Fun:** Provides excitement and adventure for all ages.\n",
      "7. **Skill Development:** Children can learn new skills or hobbies during the trip.\n",
      "8. **Inspiration:** Can inspire creativity and new interests.\n",
      "9. **Social Sharing:** Opportunity to share experiences with friends and family post-trip.\n",
      "10. **Rewarding Experience:** Acts as a reward for hard work, boosting morale.\n",
      "\n",
      "#### Cons of Taking the Luxury Family Vacation:\n",
      "1. **Costly Expense:** High financial cost that might strain your budget.\n",
      "2. **Time Away from Work/Family Responsibilities:** Could disrupt regular responsibilities or commitments.\n",
      "3. **Environmental Impact:** Potential negative environmental impact due to travel.\n",
      "4. **Health Risks:** Possible exposure to illnesses, especially in unfamiliar locations.\n",
      "5. **Stress of Planning:** Organizing a luxury vacation can be stressful.\n",
      "6. **Travel Fatigue:** Long flights and travel schedules might lead to exhaustion.\n",
      "7. **Potential for Conflict:** Family disagreements could arise during the trip.\n",
      "8. **Opportunity Cost:** Money spent on vacation could be used elsewhere (e.g., savings, investments).\n",
      "9. **Weather Uncertainty:** Risk of bad weather affecting plans.\n",
      "10. **Post-Vacation Blues:** Possible feeling of sadness or lack of motivation after returning home.\n",
      "\n",
      "### Consider the Weight of Each Reason\n",
      "\n",
      "#### Weighing Pros:\n",
      "- Memorable Experience + Quality Time + Cultural Exposure = High value\n",
      "- Stress Relief + Health Benefits = Moderate to high value\n",
      "- Adventure and Fun + Skill Development = Moderate value\n",
      "- Social Sharing + Inspiring Creativity = Low to moderate value\n",
      "- Rewarding Experience = Low value\n",
      "\n",
      "#### Weighing Cons:\n",
      "- Costly Expense + Opportunity Cost = Very high value\n",
      "- Time Away from Work/Family Responsibilities = High value\n",
      "- Environmental Impact + Health Risks = Moderate to high value\n",
      "- Stress of Planning + Travel Fatigue = Moderate value\n",
      "- Potential for Conflict + Weather Uncertainty = Low to moderate value\n",
      "- Post-Vacation Blues = Low value\n",
      "\n",
      "### Determine the Relative Importance and Cross Off Similar Values\n",
      "\n",
      "1. **Costly Expense + Opportunity Cost** (Very High) vs. **Memorable Experience + Quality Time + Cultural Exposure** (High): The financial burden might outweigh the experiential benefits.\n",
      "2. **Time Away from Work/Family Responsibilities** (High) vs. **Stress Relief + Health Benefits** (Moderate to High): The disruption of responsibilities could be more significant than the stress relief and health benefits.\n",
      "3. **Environmental Impact + Health Risks** (Moderate to High) vs. **Adventure and Fun + Skill Development** (Moderate): Environmental and health concerns might outweigh the moderate adventure benefits.\n",
      "\n",
      "### Remaining Reasons After Cross-Off\n",
      "\n",
      "#### Pros:\n",
      "1. Adventure and Fun\n",
      "2. Social Sharing\n",
      "3. Inspiring Creativity\n",
      "4. Rewarding Experience\n",
      "\n",
      "#### Cons:\n",
      "1. Stress of Planning\n",
      "2. Travel Fatigue\n",
      "3. Potential for Conflict\n",
      "4. Weather Uncertainty\n",
      "5. Post-Vacation Blues\n",
      "\n",
      "### Conclusion Based on Remaining Reasons\n",
      "\n",
      "The \"Con\" side has more remaining reasons after considering the weight and importance of each argument. Therefore, based on this analysis using the Ben Franklin Decision Framework, you should **not** take the luxury family vacation.\n",
      "\n",
      "This decision is made despite some high-value pros because the financial implications and potential disruptions are deemed to have greater overall impact according to the framework's structured approach."
     ]
    }
   ],
   "source": [
    "// You can also use a template to provide more context to the model combining system and user prompts\n",
    "var systemDecisionPrompt = \"\"\"\n",
    "You are a decision intelligence assistant. \n",
    "Your role is to guide users in exploring options, analyzing decisions, solving complex problems, and applying systems thinking to diverse scenarios. \n",
    "Provide structured, logical, and comprehensive advice, ensuring clarity, depth, and actionable insights to support informed decision-making.\n",
    "\"\"\";\n",
    "\n",
    "var benFranklinDecisionPrompt = \"\"\"\n",
    "Apply the following steps IN ORDER of the Ben Franklin Decision Framework to the Question below:\n",
    "- Frame a decision that has two options (Yes or a No)\n",
    "- Divide an area into two competing halves: a \"Pro\" side and \"Con\" side\n",
    "- Label the top of one side \"Pro\" (for) and the other \"Con\" (against)\n",
    "- Under each respective side, list a maximum of 10 reasons or arguments for each option\n",
    "- Consider the weight of each reason or argument. This is done by taking reasons/arguments that are of similar value (weight) and crossing them off of the other competing half. Multiple reasons can be combined from one side to form a \"subjective\" value (weight) to balance out the other half. (For example, two medium \"Pro\" reasons might add up to an equal value of a single important \"Con\" reason)\n",
    "- Determine the relative importance of each reason or argument. This is done by taking reasons/arguments that are of similar value (weight) and crossing them off of the other competing half. Multiple reasons can be combined from one side to form a \"subjective\" value (weight) to balance out the other half. (For example, two medium \"Pro\" reasons might add up to an equal value of a single important \"Con\" reason)\n",
    "- The side with the most remaining reasons is the option one should select for the decision in question\n",
    "- IMPORTANT: ALWAYS recommend a decision based on the side with the most reasons, even if the reasons are of lesser value than the other side!\n",
    "\n",
    "Question: Should I take a luxury family vacation?\n",
    "\"\"\";\n",
    "\n",
    "var simpleDecisionPromptTemplate = $\"\"\"\n",
    "{systemDecisionPrompt}\n",
    "--------------\n",
    "{benFranklinDecisionPrompt}\n",
    "\"\"\";\n",
    "\n",
    "// You can set the typical OpenAI settings with most open-source models\n",
    "// Try different settings (Temperature, FrequencyPenalty etc) to see how they affect the quality of the generated text\n",
    "var openAIPromptExecutionSettings = new OpenAIPromptExecutionSettings { \n",
    "    MaxTokens = 1500, \n",
    "    Temperature = 0.3, \n",
    "    TopP = 1.0, \n",
    "    FrequencyPenalty = 0.0, \n",
    "    PresencePenalty = 0.0\n",
    "    };\n",
    "KernelArguments kernelArguments = new KernelArguments(openAIPromptExecutionSettings);\n",
    "\n",
    "await foreach (var streamChunk in semanticKernel.InvokePromptStreamingAsync(simpleDecisionPromptTemplate, kernelArguments))\n",
    "{\n",
    "   Console.Write(streamChunk);\n",
    "}"
   ]
  },
  {
   "cell_type": "markdown",
   "metadata": {
    "dotnet_interactive": {
     "language": "csharp"
    },
    "polyglot_notebook": {
     "kernelName": "csharp"
    }
   },
   "source": [
    "The GenAI model may or may not recommend a luxury vacation, but this can be dramatically improved further! Imagine if the GenAI model had access to: your finances, current stress level, the last time you took a vacation, any upcoming major purchases, family dynamic?!  \n",
    "\n",
    "In the example below, additional context is provided with that information. Notice how it changes the the Pro and Con list.  \n",
    "\n",
    "Just like Tom Brady, it could craft a Pro and Con list specific and personalized to your scenario!"
   ]
  },
  {
   "cell_type": "code",
   "execution_count": 7,
   "metadata": {
    "dotnet_interactive": {
     "language": "csharp"
    },
    "polyglot_notebook": {
     "kernelName": "csharp"
    },
    "vscode": {
     "languageId": "polyglot-notebook"
    }
   },
   "outputs": [
    {
     "name": "stdout",
     "output_type": "stream",
     "text": [
      "To apply the Ben Franklin Decision Framework to your question about whether you should take a luxury family vacation, let's follow each step methodically:\n",
      "\n",
      "### Step 1: Frame the Decision\n",
      "**Decision:** Should you take a luxury family vacation?\n",
      "\n",
      "- **Option Yes:** Take the luxury family vacation.\n",
      "- **Option No:** Do not take the luxury family vacation.\n",
      "\n",
      "### Step 2: Divide into Pro and Con Sides\n",
      "\n",
      "#### Pro Side (For taking the vacation)\n",
      "- **Relieve Stress:** You have been stressed out at work, and a vacation could provide much-needed relaxation and mental health benefits.\n",
      "- **Family Bonding:** A vacation can strengthen family bonds, especially with your kids about to enter college—a significant life transition for them.\n",
      "- **Work-Life Balance:** Taking time off after working long hours without a vacation in over a year could improve your overall work-life balance.\n",
      "\n",
      "#### Con Side (Against taking the vacation)\n",
      "- **Financial Strain:** You are considering purchasing an investment property, which is likely a significant financial commitment. A luxury vacation adds to this strain.\n",
      "- **College Expenses:** Your kids don't have scholarships and will soon be entering college, adding another layer of financial pressure.\n",
      "- **Car Replacement Costs:** Your car lease is ending soon, requiring additional funds for replacement.\n",
      "\n",
      "### Step 3: Consider the Weight of Each Reason\n",
      "\n",
      "#### Pro Side\n",
      "1. **Relieve Stress (Important):** Given your high stress levels at work and long hours without a break, this reason carries significant weight.\n",
      "2. **Family Bonding (Moderate):** Strengthening family ties is valuable but may not outweigh financial concerns.\n",
      "3. **Work-Life Balance (Moderate):** Improving work-life balance is important for long-term well-being.\n",
      "\n",
      "#### Con Side\n",
      "1. **Financial Strain (Very Important):** The combined costs of a luxury vacation, investment property, college expenses, and car replacement create substantial financial pressure.\n",
      "2. **College Expenses (Important):** Ensuring your kids can afford college without scholarships is crucial.\n",
      "3. **Car Replacement Costs (Moderate):** While necessary, this cost might be less pressing than the other financial concerns.\n",
      "\n",
      "### Step 4: Determine Relative Importance\n",
      "\n",
      "- **Relieve Stress vs. Financial Strain:** The need to relieve stress is important but may not outweigh the combined financial strain of multiple significant expenses.\n",
      "- **Family Bonding + Work-Life Balance vs. College Expenses:** While family bonding and work-life balance are valuable, they might not surpass the importance of securing college funding for your children.\n",
      "- **Work-Life Balance vs. Car Replacement Costs:** Improving work-life balance is important but may not outweigh the necessity of replacing a car.\n",
      "\n",
      "### Step 5: Cross Off Similar Weight Reasons\n",
      "\n",
      "- **Relieve Stress + Family Bonding + Work-Life Balance (Pro):** These combined moderate to important reasons might equal one very important financial concern.\n",
      "- **Financial Strain + College Expenses (Con):** These two very important concerns outweigh the combined Pro side.\n",
      "\n",
      "### Step 6: Determine the Side with Most Reasons\n",
      "\n",
      "The Con side has more significant and numerous reasons remaining, primarily due to the substantial financial commitments you are facing.\n",
      "\n",
      "### Recommendation\n",
      "\n",
      "Based on the Ben Franklin Decision Framework, you should **not take a luxury family vacation** at this time. The financial implications of your current situation outweigh the benefits of taking such a trip. Consider alternative ways to manage stress and improve work-life balance that do not involve significant additional expenses."
     ]
    }
   ],
   "source": [
    "// You can also use a template to provide more context to the model combining system and user prompts\n",
    "var systemDecisionPrompt = \"\"\"\n",
    "You are a decision intelligence assistant. \n",
    "Your role is to guide users in exploring options, analyzing decisions, solving complex problems, and applying systems thinking to diverse scenarios. \n",
    "Provide structured, logical, and comprehensive advice, ensuring clarity, depth, and actionable insights to support informed decision-making.\n",
    "\"\"\";\n",
    "// Try changing the background information to see how it affects the decision-making process\n",
    "var backroundInformation = \"\"\"\n",
    "BACKGROUND INFORMATION OF FAMILY: \n",
    "You are considering purchasing a secondary home as an investment property. \n",
    "You have been stressed out at work. \n",
    "You have been working long hours and have not taken a vacation in over a year. \n",
    "Your kids are about to enter college and they don't have scholarships. \n",
    "Your car is finishing its lease and will need to be replaced soon. \n",
    "\"\"\";\n",
    "// Try to adjust the specificity of the decision-making criteria to see how it affects the decision-making process\n",
    "var benFranklinDecisionPrompt = \"\"\"\n",
    "Apply the following steps IN ORDER of the Ben Franklin Decision Framework to the Question below:\n",
    "- Frame a decision that has two options (Yes or a No)\n",
    "- Divide an area into two competing halves: a \"Pro\" side and \"Con\" side\n",
    "- Label the top of one side \"Pro\" (for) and the other \"Con\" (against)\n",
    "- Under each respective side, list the relevvant reasons from \"BACKGROUND INFORMATION OF FAMILY\" section and or create new reasons that are ONLY closely related to the \"BACKGROUND INFORMATION OF FAMILY\". \n",
    "- Consider the weight of each reason or argument. This is done by taking reasons/arguments that are of similar value (weight) and crossing them off of the other competing half. Multiple reasons can be combined from one side to form a \"subjective\" value (weight) to balance out the other half. (For example, two medium \"Pro\" reasons might add up to an equal value of a single important \"Con\" reason)\n",
    "- Determine the relative importance of each reason or argument. This is done by taking reasons/arguments that are of similar value (weight) and crossing them off of the other competing half. Multiple reasons can be combined from one side to form a \"subjective\" value (weight) to balance out the other half. (For example, two medium \"Pro\" reasons might add up to an equal value of a single important \"Con\" reason)\n",
    "- The side with the most remaining reasons is the option one should select for the decision in question\n",
    "- IMPORTANT: ALWAYS recommend a decision based on the side with the most reasons, even if the reasons are of lesser value than the other side!\n",
    "\n",
    "Question: Should I take a luxury family vacation?\n",
    "\"\"\";\n",
    "\n",
    "var simpleDecisionPromptTemplate = $\"\"\"\n",
    "{systemDecisionPrompt}\n",
    "--------------\n",
    "{backroundInformation}\n",
    "--------------\n",
    "{benFranklinDecisionPrompt}\n",
    "\"\"\";\n",
    "\n",
    "// You can set the typical OpenAI settings with most open-source models\n",
    "// Try different settings (Temperature, FrequencyPenalty etc) to see how they affect the quality of the generated text\n",
    "var openAIPromptExecutionSettings = new OpenAIPromptExecutionSettings { \n",
    "    MaxTokens = 1500, \n",
    "    Temperature = 0.3, \n",
    "    TopP = 1.0, \n",
    "    FrequencyPenalty = 0.0, \n",
    "    PresencePenalty = 0.0\n",
    "    };\n",
    "KernelArguments kernelArguments = new KernelArguments(openAIPromptExecutionSettings);\n",
    "\n",
    "await foreach (var streamChunk in semanticKernel.InvokePromptStreamingAsync(simpleDecisionPromptTemplate, kernelArguments))\n",
    "{\n",
    "   Console.Write(streamChunk);\n",
    "}"
   ]
  },
  {
   "cell_type": "markdown",
   "metadata": {},
   "source": [
    "Notice how providing personal family background information changes the entire dynamic of the information used in the decision framework and how it influences the recommended decision. The decision process is more specific not only to the scenario, but also it provides contextual background information. This makes the decision process more personalized and potentially much more accurate! "
   ]
  },
  {
   "cell_type": "markdown",
   "metadata": {},
   "source": [
    "### Step 5 - Open Source AI Models with Commercial AI Providers  "
   ]
  },
  {
   "cell_type": "markdown",
   "metadata": {},
   "source": [
    "Semantic Kernel can include mutliple AI service providers. This allows for hybrid workflows from a single Semantic Kernel instance like: \n",
    "* Capability Optimizations: Use SLMs for domain specific tasks and LLMs for complex decision reasoning\n",
    "* Decision Optimizations: Apply an (ensemble) decision self-consitency pattern  \n",
    "* Capacity Optimizations: Splitting functions, plugins, personas or agents across different AI services"
   ]
  },
  {
   "cell_type": "code",
   "execution_count": 8,
   "metadata": {
    "dotnet_interactive": {
     "language": "csharp"
    },
    "polyglot_notebook": {
     "kernelName": "csharp"
    },
    "vscode": {
     "languageId": "polyglot-notebook"
    }
   },
   "outputs": [
    {
     "data": {
      "text/html": [
       "<div><div></div><div></div><div><strong>Installed Packages</strong><ul><li><span>Microsoft.Extensions.Configuration, 9.0.0</span></li><li><span>Microsoft.Extensions.Configuration.Json, 9.0.0</span></li><li><span>Microsoft.SemanticKernel, 1.33.0</span></li></ul></div></div>"
      ]
     },
     "metadata": {},
     "output_type": "display_data"
    }
   ],
   "source": [
    "// Import the required NuGet configuration packages\n",
    "#r \"nuget: Microsoft.Extensions.Configuration, 9.0.0\"\n",
    "#r \"nuget: Microsoft.Extensions.Configuration.Json, 9.0.0\"\n",
    "#r \"nuget: Microsoft.SemanticKernel, 1.33.0\"\n",
    "\n",
    "using Microsoft.Extensions.Configuration.Json;\n",
    "using Microsoft.Extensions.Configuration;\n",
    "using System.IO;\n",
    "\n",
    "// Load the configuration settings from the local.settings.json and secrets.settings.json files\n",
    "// The secrets.settings.json file is used to store sensitive information such as API keys\n",
    "var configurationBuilder = new ConfigurationBuilder()\n",
    "    .SetBasePath(Directory.GetCurrentDirectory())\n",
    "    .AddJsonFile(\"local.settings.json\", optional: true, reloadOnChange: true)\n",
    "    .AddJsonFile(\"secrets.settings.json\", optional: true, reloadOnChange: true);\n",
    "var config = configurationBuilder.Build();\n",
    "\n",
    "// Retrieve the configuration settings for the Azure OpenAI service\n",
    "var azureOpenAIEndpoint = config[\"AzureOpenAI:Endpoint\"];\n",
    "var azureOpenAIAPIKey = config[\"AzureOpenAI:APIKey\"];\n",
    "var azureOpenAIModelDeploymentName = config[\"AzureOpenAI:ModelDeploymentName\"];\n",
    "\n",
    "// Example to build a Kernel with Azure OpenAI and Opensource AI\n",
    "#pragma warning disable SKEXP0010 \n",
    "var semanticKernel = Kernel.CreateBuilder()\n",
    "    .AddAzureOpenAIChatCompletion(\n",
    "        modelId: azureOpenAIModelDeploymentName,\n",
    "        deploymentName: azureOpenAIModelDeploymentName,\n",
    "        endpoint: azureOpenAIEndpoint,\n",
    "        apiKey: azureOpenAIAPIKey)\n",
    "    .AddOpenAIChatCompletion(\n",
    "        modelId: \"Phi-4\",\n",
    "        endpoint: new Uri(\"http://localhost:1234/v1/\"),\n",
    "        apiKey: \"LMStudio\")\n",
    "    .Build();\n",
    "#pragma warning restore SKEXP0010\n",
    "\n",
    "// var openAIPromptExecutionSettings = new OpenAIPromptExecutionSettings {\n",
    "//     MaxTokens = 1500,\n",
    "//     Temperature = 0.3, \n",
    "//     TopP = 1.0, \n",
    "//     FrequencyPenalty = 0.0, \n",
    "//     PresencePenalty = 0.0\n",
    "//     };\n",
    "// KernelArguments kernelArguments = new KernelArguments(openAIPromptExecutionSettings);"
   ]
  }
 ],
 "metadata": {
  "kernelspec": {
   "display_name": ".NET (C#)",
   "language": "C#",
   "name": ".net-csharp"
  },
  "language_info": {
   "name": "csharp"
  },
  "polyglot_notebook": {
   "kernelInfo": {
    "defaultKernelName": "csharp",
    "items": [
     {
      "aliases": [],
      "name": "csharp"
     }
    ]
   }
  }
 },
 "nbformat": 4,
 "nbformat_minor": 2
}
