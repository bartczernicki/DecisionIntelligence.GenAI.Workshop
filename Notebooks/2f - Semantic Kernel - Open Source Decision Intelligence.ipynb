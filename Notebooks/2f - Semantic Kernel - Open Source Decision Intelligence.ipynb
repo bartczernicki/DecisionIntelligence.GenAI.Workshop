{
 "cells": [
  {
   "cell_type": "markdown",
   "metadata": {},
   "source": [
    "<img style=\"float: left;padding-right: 10px\" width =\"40px\" src=\"https://raw.githubusercontent.com/bartczernicki/DecisionIntelligence.GenAI.Workshop/main/Images/SemanticKernelLogo.png\">\n",
    "\n",
    "## Semantic Kernel - Open Source Decision Intelligence"
   ]
  },
  {
   "cell_type": "markdown",
   "metadata": {},
   "source": [
    "Decision Intelligence applied in this module:  \n",
    "* Listing key factors to consider when making a sound decision  \n",
    "* Decision Scenario: Use a decision framework (Ben Franklin's Pro & Con List) to create a decision plan  \n",
    "* Improving Decision Intelligence process by explicitly proving decision frameworks and additional context "
   ]
  },
  {
   "cell_type": "markdown",
   "metadata": {},
   "source": [
    "A recommended enterprise pattern is to scale Articial Intelligence strategy with three key areas:\n",
    "* Commercial AI (OpenAI and other proprietary Generative AI providers)\n",
    "* Open-Source AI (open-source AI providers)\n",
    "* Vendor and Partner AI (i.e. company HR Software, contract software) \n",
    "\n",
    "These three areas together strategically form AI capability and capacity in what I like to refer to as the \"Generative AI Brain\". This is illustrated below with sample providers. For example, an organization may have an existing relationship with Adobe for their graphic design and leverage the built-in Generative AI capabilities rather building their own. \n",
    "\n",
    "<img style=\"display: block; margin: auto;\" width =\"800px\" src=\"https://raw.githubusercontent.com/bartczernicki/DecisionIntelligence.GenAI.Workshop/main/Images/AIBrainPillars.png\">\n",
    "\n",
    "Semantic Kernel embraces AI orchestration across all the pillars mentioned above. It allows all types of models (commercial or proprietary) and almost any APIs to be orchestrated to faciliate enterprise Decision Intelligence."
   ]
  },
  {
   "cell_type": "markdown",
   "metadata": {},
   "source": [
    "### Step 1 - Get Started with LMStudio and Local Open Source AI Models "
   ]
  },
  {
   "cell_type": "markdown",
   "metadata": {},
   "source": [
    "This module highlights how to use local GenAI models (i.e. LLMs) with Semantic Kernel. To illustrate this the Phi-4 model is run locally using LMStudio as a local REST endpoint that will interface with Semantic Kernel orchestration.  \n",
    "\n",
    "Phi-4 is considered an SLM (Small Language Model) with parameters generally below the 27 Billion parameter threshhold. This doesn't mean the model is not capable of performing well. While it certainly may lack the breadth of general knowledge of Large Language Models, Phi-4 makes up for it by providing very capable reasoning capabilities that can rival LLMs. Below is an image illustrating this performance:  \n",
    "<img style=\"display: block; margin: auto;\" width =\"700px\" src=\"https://raw.githubusercontent.com/bartczernicki/DecisionIntelligence.GenAI.Workshop/main/Images/Phi4-Performance.webp\">   \n",
    "\n",
    "Steps to get started:\n",
    "* Download & install LMStudio: https://lmstudio.ai/ (Windows, Mac or Linux) \n",
    "* Run the LMStudio studio application \n",
    "* In the LMStudio application, download the Phi-4 GGUF file. Search for \"Phi-4\" in the \"Discover\" section of LMStudio. A variety of Phi-4 options that are official and unofficial from hobbyists will appear. Typically, selecting the model with the most downloads will provide the best results.  \n",
    "* In the experiment below, the 14B parameter model is being used. LMStudio will inspect your hardware and let you know which quantized version of the model(s) is optimal for your hardware. Note: Even computers with small graphics cards can run these models well locally. Furthermore, laptops such as the Macbook Pro with Neural Engine can run LMStudio local models as well. \n",
    "* Start the LMStudio Server with the Phi-4 model loaded. This will start a local REST endpoint with a URI similar to http://localhost:1234/v1 \n",
    "* The LMStudio local server does not have default security, you can simply check by navigating to this link in any browser to check if a model is loaded: http://localhost:1234/v1/models \n",
    "\n",
    "<img style=\"display: block; margin: auto;\" width =\"700px\" src=\"https://raw.githubusercontent.com/bartczernicki/DecisionIntelligence.GenAI.Workshop/main/Images/LMStudioServer.png\"> "
   ]
  },
  {
   "cell_type": "markdown",
   "metadata": {},
   "source": [
    "### Step 2 - Initialize Configuration Builder & Build the Semantic Kernel Orchestration"
   ]
  },
  {
   "cell_type": "markdown",
   "metadata": {},
   "source": [
    "Execute the next cell to:\n",
    "* Use the Configuration Builder to use the local LMStudio Server  \n",
    "* Use the API configuration to build the Semantic Kernel orchestrator  \n",
    "* Notice there is no security being passed in and it is simply a URL"
   ]
  },
  {
   "cell_type": "code",
   "execution_count": 1,
   "metadata": {
    "dotnet_interactive": {
     "language": "csharp"
    },
    "polyglot_notebook": {
     "kernelName": "csharp"
    },
    "vscode": {
     "languageId": "polyglot-notebook"
    }
   },
   "outputs": [
    {
     "data": {
      "text/html": [
       "<div><div></div><div></div><div><strong>Installed Packages</strong><ul><li><span>Microsoft.SemanticKernel, 1.38.0</span></li></ul></div></div>"
      ]
     },
     "metadata": {},
     "output_type": "display_data"
    }
   ],
   "source": [
    "#r \"nuget: Microsoft.SemanticKernel, 1.38\"\n",
    "\n",
    "using Microsoft.SemanticKernel;\n",
    "using Microsoft.SemanticKernel.ChatCompletion;\n",
    "using Microsoft.SemanticKernel.Connectors.OpenAI;\n",
    "\n",
    "#pragma warning disable SKEXP0010 \n",
    "var semanticKernel = Kernel.CreateBuilder()\n",
    "    .AddOpenAIChatCompletion(\n",
    "        modelId: \"Phi-4\",\n",
    "        endpoint: new Uri(\"http://localhost:1234/v1/\"),\n",
    "        apiKey: null)\n",
    "    .Build();\n",
    "#pragma warning restore SKEXP0010"
   ]
  },
  {
   "cell_type": "markdown",
   "metadata": {},
   "source": [
    "### Step 3 - Open Source AI Models with Decision Intelligence "
   ]
  },
  {
   "cell_type": "markdown",
   "metadata": {},
   "source": [
    "Semantic Kernel allows one to interact with any API service that adheres to the OpenAI specification. Notice the method to add LMStudio capability was simply enabled via the **AddOpenAIChatCompletion** method.\n",
    "\n",
    "Execute the cell below about decision factors for a investment property. Note:\n",
    "* OpenAI Prompt Execution Settings are the same in LMStudio as they are for OpenAI and Azure OpenAI\n",
    "* Passing in arguents works the same way in Semantic Kernel\n",
    "* Streaming works as well in Semantic Kernel for supported services"
   ]
  },
  {
   "cell_type": "markdown",
   "metadata": {},
   "source": [
    "> \"Don't wait to buy real estate. Buy real estate and wait.\"  \n",
    ">\n",
    "> -- <cite>Will Rodgers (American humorist, actor, and social commentator in the early 20th century)</cite>  "
   ]
  },
  {
   "cell_type": "code",
   "execution_count": 2,
   "metadata": {
    "dotnet_interactive": {
     "language": "csharp"
    },
    "polyglot_notebook": {
     "kernelName": "csharp"
    },
    "vscode": {
     "languageId": "polyglot-notebook"
    }
   },
   "outputs": [
    {
     "name": "stdout",
     "output_type": "stream",
     "text": [
      "As a large language model, I cannot provide specific financial or legal advice. For such matters, it is important to consult with qualified professionals like real estate agents, financial advisors, or attorneys who can offer personalized guidance based on your situation.\n",
      "\n",
      "When considering the purchase of a secondary home as an investment property, there are several key factors and steps you should evaluate to ensure a sound investment decision:\n",
      "\n",
      "### 1. Location Assessment\n",
      "- **Market Demand:** Research the local rental market demand. Look for areas with high occupancy rates or growing populations.\n",
      "- **Economic Indicators:** Consider economic stability, employment opportunities, and growth prospects in the area.\n",
      "- **Amenities and Infrastructure:** Evaluate proximity to schools, hospitals, shopping centers, public transportation, and other amenities that attract renters.\n",
      "\n",
      "### 2. Potential Rental Income\n",
      "- **Comparable Rentals (Comps):** Analyze rental prices of similar properties in the area to estimate potential income.\n",
      "- **Occupancy Rates:** Consider historical occupancy rates to gauge how often you can expect the property to be rented out.\n",
      "- **Rental Yield:** Calculate the gross rental yield by dividing annual rental income by the purchase price. A higher yield indicates better profitability.\n",
      "\n",
      "### 3. Financing Options\n",
      "- **Mortgage Terms:** Explore different mortgage options, interest rates, and loan terms that suit your financial situation.\n",
      "- **Down Payment Requirements:** Understand the down payment requirements for investment properties, which may be higher than primary residences.\n",
      "- **Interest Rates:** Compare fixed vs. variable rate mortgages to determine which aligns with your risk tolerance and financial goals.\n",
      "\n",
      "### 4. Long-term Property Value\n",
      "- **Appreciation Trends:** Research historical property value trends in the area to assess potential appreciation.\n",
      "- **Development Plans:** Investigate any upcoming infrastructure or development projects that could impact property values positively or negatively.\n",
      "- **Property Condition:** Consider the age, condition, and maintenance needs of the property, as these can affect long-term value.\n",
      "\n",
      "### 5. Associated Risks\n",
      "- **Market Volatility:** Be aware of potential market fluctuations that could impact rental income and property value.\n",
      "- **Tenant Risk:** Consider the risk of vacancies or problematic tenants and have a plan for tenant screening and management.\n",
      "- **Regulatory Changes:** Stay informed about local regulations, zoning laws, and tax implications that could affect your investment.\n",
      "\n",
      "### 6. Additional Considerations\n",
      "- **Property Management:** Decide whether you will manage the property yourself or hire a property manager to handle day-to-day operations.\n",
      "- **Insurance and Taxes:** Ensure adequate insurance coverage for the property and understand the tax obligations associated with owning an investment property.\n",
      "- **Exit Strategy:** Have a clear exit strategy in place, considering scenarios such as selling the property or refinancing.\n",
      "\n",
      "By thoroughly evaluating these factors and consulting with professionals, you can make a more informed decision about purchasing a secondary home as an investment property."
     ]
    }
   ],
   "source": [
    "// Prompt Engineering works in a very similar way to the OpenAI API\n",
    "\n",
    "// Create a Decision Intelligence prompt on the topic of purchasing a secondary home as an investment property\n",
    "// Provide detailed decision-making criteria for evaluating the investment decision\n",
    "var simpleDecisionPrompt = \"\"\"\n",
    "You are considering purchasing a secondary home as an investment property. \n",
    "\n",
    "What key factors should you evaluate to ensure a sound investment decision, including financial, market, and property-specific considerations? \n",
    "Outline the critical steps and criteria for assessing location, potential rental income, financing options, long-term property value, and associated risks.\n",
    "\"\"\";\n",
    "\n",
    "// You can set the typical OpenAI settings with most open-source models\n",
    "// Try different settings (Temperature, FrequencyPenalty etc) to see how they affect the quality of the generated text\n",
    "// Note: The settings below are similar to OpenAI API settings. Most OSS models support these settings  \n",
    "var openAIPromptExecutionSettings = new OpenAIPromptExecutionSettings { \n",
    "    MaxTokens = 750, \n",
    "    Temperature = 0.1, \n",
    "    TopP = 1.0, \n",
    "    FrequencyPenalty = 0.0, \n",
    "    PresencePenalty = 0.0\n",
    "    };\n",
    "KernelArguments kernelArguments = new KernelArguments(openAIPromptExecutionSettings);\n",
    "\n",
    "// Most open-source GenAI moodels support streaming as well\n",
    "await foreach (var streamChunk in semanticKernel.InvokePromptStreamingAsync(simpleDecisionPrompt, kernelArguments))\n",
    "{\n",
    "   Console.Write(streamChunk);\n",
    "}"
   ]
  },
  {
   "cell_type": "markdown",
   "metadata": {},
   "source": [
    "Advanced Prompt Engineering techniques can be applied to OSS (open-source) models as well. In the example below a more advanced reasoning decision prompt will be used to provide additional instructions to the GenAI model."
   ]
  },
  {
   "cell_type": "code",
   "execution_count": 3,
   "metadata": {
    "dotnet_interactive": {
     "language": "csharp"
    },
    "polyglot_notebook": {
     "kernelName": "csharp"
    },
    "vscode": {
     "languageId": "polyglot-notebook"
    }
   },
   "outputs": [
    {
     "name": "stdout",
     "output_type": "stream",
     "text": [
      "To address the consideration of purchasing a secondary home as an investment property, let's follow a structured approach to ensure all relevant factors are considered.\n",
      "\n",
      "### Understand the Problem\n",
      "The user is contemplating buying a secondary home for investment purposes. This involves understanding both personal and financial implications, market conditions, potential returns, risks, and long-term goals.\n",
      "\n",
      "### Break Down the Reasoning Process\n",
      "\n",
      "1. **Define Objectives:**\n",
      "   - Determine why you want to purchase this property (e.g., rental income, capital appreciation).\n",
      "   - Assess how it fits into your overall investment strategy.\n",
      "\n",
      "2. **Market Research:**\n",
      "   - Analyze local real estate market trends.\n",
      "   - Evaluate the demand for rental properties in the area.\n",
      "   - Consider economic factors that could affect property values and rental rates.\n",
      "\n",
      "3. **Financial Analysis:**\n",
      "   - Calculate initial costs (purchase price, closing costs, renovations).\n",
      "   - Estimate ongoing expenses (mortgage payments, taxes, insurance, maintenance).\n",
      "   - Project potential income from renting out the property.\n",
      "   - Assess financing options and interest rates.\n",
      "\n",
      "4. **Risk Assessment:**\n",
      "   - Identify risks such as vacancy periods, unexpected repairs, or market downturns.\n",
      "   - Consider legal and regulatory issues related to being a landlord.\n",
      "\n",
      "5. **Tax Implications:**\n",
      "   - Understand tax benefits (e.g., depreciation) and obligations (e.g., rental income reporting).\n",
      "   - Consult with a tax advisor for personalized advice.\n",
      "\n",
      "6. **Long-term Strategy:**\n",
      "   - Determine your exit strategy (e.g., selling after a certain period, holding long-term).\n",
      "   - Consider how this investment aligns with your retirement or financial goals.\n",
      "\n",
      "7. **Personal Considerations:**\n",
      "   - Evaluate the impact on your lifestyle and time commitment.\n",
      "   - Decide if you want to manage the property yourself or hire a property manager.\n",
      "\n",
      "### Explain Each Step\n",
      "\n",
      "1. **Define Objectives:**\n",
      "   - Clarifying objectives helps ensure that the investment aligns with personal financial goals, whether it's generating steady income or long-term appreciation.\n",
      "\n",
      "2. **Market Research:**\n",
      "   - Understanding market conditions is crucial for making an informed decision about where and when to invest. This includes analyzing historical data and future projections.\n",
      "\n",
      "3. **Financial Analysis:**\n",
      "   - A detailed financial analysis helps in understanding the viability of the investment by comparing costs against potential returns, ensuring that it makes sense financially.\n",
      "\n",
      "4. **Risk Assessment:**\n",
      "   - Identifying risks allows for better preparation and mitigation strategies, reducing the likelihood of unexpected losses.\n",
      "\n",
      "5. **Tax Implications:**\n",
      "   - Tax considerations can significantly affect net income from the property, making it essential to understand both benefits and obligations.\n",
      "\n",
      "6. **Long-term Strategy:**\n",
      "   - Having a clear exit strategy ensures that you have a plan for realizing your investment's value when needed.\n",
      "\n",
      "7. **Personal Considerations:**\n",
      "   - Considering personal impact helps in assessing whether the time and effort required align with your lifestyle preferences.\n",
      "\n",
      "### Arrive at the Final Answer\n",
      "\n",
      "After evaluating all these factors, if the analysis shows positive potential returns, manageable risks, and alignment with your financial goals, purchasing a secondary home as an investment property could be a sound decision. However, it's crucial to conduct thorough due diligence and possibly consult with real estate professionals or financial advisors.\n",
      "\n",
      "### Review the Thought Process\n",
      "\n",
      "- Ensure all aspects (financial, market, personal) have been considered.\n",
      "- Double-check calculations for accuracy.\n",
      "- Confirm that risks are well understood and mitigated where possible.\n",
      "\n",
      "### Communicate the Final Decision Using the Minto Pyramid Principle\n",
      "\n",
      "**Conclusion:** Purchasing a secondary home as an investment property can be beneficial if it aligns with your financial goals, market conditions are favorable,"
     ]
    }
   ],
   "source": [
    "// Prompting works in a very similar way to the OpenAI API\n",
    "\n",
    "// Create a Decision Intelligence prompt on the topic of purchasing a secondary home as an investment property\n",
    "// Use Chain of Thought to prompt the OSS model\n",
    "// Use the Minto Pyramid to communicate the decision \n",
    "var advancedDecisionPrompt = \"\"\"\n",
    "You are considering purchasing a secondary home as an investment property. \n",
    "\n",
    "Before providing any answer, you must: \n",
    "Understand the Problem: Carefully read and understand the user's question or request. \n",
    "Break Down the Reasoning Process: Outline the steps required to solve the problem or respond to the request logically and sequentially. Think aloud and describe each step in detail. \n",
    "Always aim to make your thought process transparent and logical. \n",
    "Explain Each Step: Provide reasoning or calculations for each step, explaining how you arrive at each part of your answer. \n",
    "Provide structured, logical, and comprehensive advice. \n",
    "Arrive at the Final Answer: Only after completing all steps, provide the final answer or solution. \n",
    "Review the Thought Process: Double-check the reasoning for errors or gaps before finalizing your response. \n",
    "Communicate the final decision using the Minto Pyramid Principle.\n",
    "\"\"\";\n",
    "\n",
    "// You can set the typical OpenAI settings with most open-source models\n",
    "// Try different settings (Temperature, FrequencyPenalty etc) to see how they affect the quality of the generated text\n",
    "var openAIPromptExecutionSettings = new OpenAIPromptExecutionSettings { \n",
    "    MaxTokens = 750, \n",
    "    Temperature = 0.2, \n",
    "    TopP = 1.0, \n",
    "    FrequencyPenalty = 0.0, \n",
    "    PresencePenalty = 0.0\n",
    "    };\n",
    "KernelArguments kernelArguments = new KernelArguments(openAIPromptExecutionSettings);\n",
    "\n",
    "// Most open-source GenAI moodels support streaming as well\n",
    "await foreach (var streamChunk in semanticKernel.InvokePromptStreamingAsync(advancedDecisionPrompt, kernelArguments))\n",
    "{\n",
    "   Console.Write(streamChunk);\n",
    "}"
   ]
  },
  {
   "cell_type": "markdown",
   "metadata": {},
   "source": [
    "### Step 4 - Open Source AI Models with Ben Franklin Decision Framework "
   ]
  },
  {
   "cell_type": "markdown",
   "metadata": {},
   "source": [
    "> \"By failing to prepare, you are preparing to fail.\" \n",
    ">\n",
    "> -- <cite>Ben Franklin (Founding Father of the United States, inventor, godfather of Decision Science)</cite> \n",
    "\n",
    "<img style=\"display: block; margin: auto;\" width =\"700px\" src=\"https://raw.githubusercontent.com/bartczernicki/Articles/main/20230326-Make-Great-Decisions-Using-Ben-Franklins-Pros-And-Cons-Method/Image-BenFranklinDecisionMakingMethod.png\">"
   ]
  },
  {
   "cell_type": "markdown",
   "metadata": {},
   "source": [
    "#### Tom Brady's use of a Decision Framework"
   ]
  },
  {
   "cell_type": "markdown",
   "metadata": {},
   "source": [
    "Tom Brady's decision to join the Tampa Bay Buccaneers in 2020 marked a significant in his legendary NFL career. After 20 seasons and six Super Bowl championships with the New England Patriots, Brady became a free agent and chose to sign with the Bucs. How did he arrive at this decision? On the Fox broadcast on 09.29.2024, while covering the Buccaneers vs Philadelphia Eagles game, Tom Brady described how he arrived at this decision.\n",
    "\n",
    "In the screenshot below, Tom Brady is holding up some small paper cards he is showing the audience of the broadcast. Brady mentioned he wrote down the personal decision criteria that was important and how each team compared in that criteria (salary, weather etc). He used this to select the Tampa Bay Buccaneers as his team, where he went on to win a Super Bowl in his first year there! **After 250 years since it's inception, Tom Brady used the \"Ben Franklin Decision Framework\" to decide where to play NFL quaterback!!**  \n",
    "\n",
    "<img style=\"display: block; margin: auto;\" width =\"700px\" src=\"https://raw.githubusercontent.com/bartczernicki/DecisionIntelligence.GenAI.Workshop/main/Images/Scenarios/OpenSourceDecisionIntelligence-BenFranklinDecisionFramework-TomBrady.png\">"
   ]
  },
  {
   "cell_type": "markdown",
   "metadata": {},
   "source": [
    "#### Steps for Ben Franklin's Decision Framework"
   ]
  },
  {
   "cell_type": "markdown",
   "metadata": {},
   "source": [
    "Below are the steps Ben Franklin recommends when making a decision, which he called his \"Decision Making Method of Moral Algebra\":  \n",
    "- Frame a decision that has two options (Yes or a No)\n",
    "- Divide an area into two competing halves: a \"Pro\" side and \"Con\" side\n",
    "- Label the top of one side \"Pro\" (for) and the other \"Con\" (against)\n",
    "- Under each respective side, over a period of time (Ben Franklin recommended days, this could be minutes) write down various reasons/arguments that support (Pro) or are against (Con) the decision\n",
    "- After spending some time thinking exhaustively and writing down the reasons, weight the different Pro and Con reasons/arguments\n",
    "- Determine the relative importance of each reason or argument. This is done by taking reasons/arguments that are of similar value (weight) and crossing them off of the other competing half. Multiple reasons can be combined from one side to form a \"subjective\" value (weight) to balance out the other half. (For example, two medium \"Pro\" reasons might add up to an equal value of a single important \"Con\" reason)\n",
    "- The side with the most remaining reasons is the option one should select for the decision in question\n",
    "\n",
    "Learn more about Ben Franklin's Decision Framework: https://medium.com/@bartczernicki/make-great-decisions-using-ben-franklins-decision-making-method-c7fb8b17905c  "
   ]
  },
  {
   "cell_type": "markdown",
   "metadata": {},
   "source": [
    "#### Decision Scenario - Should a Family Take a Luxury Vacation"
   ]
  },
  {
   "cell_type": "markdown",
   "metadata": {},
   "source": [
    "Should a family take a luxury family vacation this year? Just like Brady mapped out whether joining the Bucs would satisfy his key personal and professional goals, you can list the factors that matter most for your family—budget, timing, destination climate, activities for the kids—and lay them out on your own “decision cards.” Weigh each component carefully, just as Brady weighed his NFL future. Because if it worked to land Brady in Tampa (where he won yet another Super Bowl), imagine what it can do for a family’s dream getaway.\n",
    "\n",
    "<img style=\"display: block; margin: auto;\" width =\"700px\" src=\"https://raw.githubusercontent.com/bartczernicki/DecisionIntelligence.GenAI.Workshop/main/Images/Scenarios/Scenario-Vacation.png\">"
   ]
  },
  {
   "cell_type": "code",
   "execution_count": 4,
   "metadata": {
    "dotnet_interactive": {
     "language": "csharp"
    },
    "polyglot_notebook": {
     "kernelName": "csharp"
    },
    "vscode": {
     "languageId": "polyglot-notebook"
    }
   },
   "outputs": [
    {
     "name": "stdout",
     "output_type": "stream",
     "text": [
      "The Ben Franklin Decision-Making Framework is a classic method for evaluating choices by listing their advantages (pros) and disadvantages (cons). This structured approach can be particularly useful when considering significant decisions like taking a luxury family vacation. Here's how you might apply this framework to your situation:\n",
      "\n",
      "### Pros of Taking a Luxury Family Vacation\n",
      "\n",
      "1. **Quality Time Together**: A luxury vacation provides an opportunity for the entire family to spend quality time together, strengthening bonds and creating lasting memories.\n",
      "\n",
      "2. **Relaxation and Stress Relief**: Such vacations can offer relaxation and stress relief from daily routines, benefiting mental health and well-being.\n",
      "\n",
      "3. **Cultural Exposure**: Traveling to new destinations allows exposure to different cultures, cuisines, and experiences that can be educational for both adults and children.\n",
      "\n",
      "4. **Creating Memories**: Unique experiences during a luxury vacation can lead to cherished family memories and stories to share in the future.\n",
      "\n",
      "5. **Health Benefits**: Engaging in physical activities like swimming or hiking during vacations can improve physical health.\n",
      "\n",
      "6. **Personal Growth**: New environments and challenges can foster personal growth, adaptability, and problem-solving skills for both adults and children.\n",
      "\n",
      "7. **Rewarding Experience**: A luxury vacation can serve as a reward for hard work and dedication, boosting morale and motivation.\n",
      "\n",
      "8. **Enhanced Relationships**: Shared experiences in a relaxed setting can improve communication and understanding among family members.\n",
      "\n",
      "9. **Learning Opportunities**: Children can learn about geography, history, and social studies through immersive travel experiences.\n",
      "\n",
      "10. **Break from Routine**: A change of scenery can provide a refreshing break from daily routines, offering new perspectives on life.\n",
      "\n",
      "### Cons of Taking a Luxury Family Vacation\n",
      "\n",
      "1. **High Cost**: Luxury vacations can be expensive, potentially straining the family budget or leading to financial stress.\n",
      "\n",
      "2. **Time Away from Work/Family**: Extended time away might mean missing important work commitments or responsibilities at home.\n",
      "\n",
      "3. **Travel Fatigue**: Long travel times and jet lag can lead to fatigue, reducing enjoyment of the vacation.\n",
      "\n",
      "4. **Potential for Conflict**: Being in close quarters with family members for an extended period can sometimes lead to conflicts or tension.\n",
      "\n",
      "5. **Environmental Impact**: Luxury travel often has a larger carbon footprint, which may conflict with personal values regarding sustainability.\n",
      "\n",
      "6. **Health Risks**: Traveling exposes families to potential health risks, such as illness from unfamiliar environments or food.\n",
      "\n",
      "7. **Unpredictable Events**: Unexpected events like weather disruptions or political instability can affect the vacation experience.\n",
      "\n",
      "8. **Opportunity Cost**: The money spent on a luxury vacation could be used for other purposes, such as savings, investments, or home improvements.\n",
      "\n",
      "9. **Childcare Challenges**: Managing young children in unfamiliar settings can be challenging and stressful.\n",
      "\n",
      "10. **Post-Vacation Blues**: Returning to normal life after an exciting vacation can sometimes lead to feelings of disappointment or sadness.\n",
      "\n",
      "### Conclusion\n",
      "\n",
      "By weighing these pros and cons, you can better assess whether the benefits of a luxury family vacation outweigh the potential drawbacks for your specific situation. Consider factors such as financial readiness, time availability, personal values, and family dynamics when making your decision. This structured approach should help guide you toward an informed choice that aligns with your priorities and goals."
     ]
    }
   ],
   "source": [
    "// You can also use a template to provide more context to the model combining system and user prompts\n",
    "var systemDecisionPrompt = \"\"\"\n",
    "You are a decision intelligence assistant. \n",
    "Your role is to guide users in exploring options, analyzing decisions, solving complex problems, and applying systems thinking to diverse scenarios. \n",
    "Provide structured, logical, and comprehensive advice, ensuring clarity, depth, and actionable insights to support informed decision-making.\n",
    "\"\"\";\n",
    "var benFranklinDecisionPrompt = \"\"\"\n",
    "Apply the Ben Franklin Decision-Making Framework (Pro and Con list) to evaluate whether or not to take a luxury family vacation. \n",
    "List at most 10 pros and at most 10 cons to help the user make an informed decision.\n",
    "\"\"\";\n",
    "\n",
    "var simpleDecisionPromptTemplate = $\"\"\"\n",
    "{systemDecisionPrompt}\n",
    "--------------\n",
    "{benFranklinDecisionPrompt}\n",
    "\"\"\";\n",
    "\n",
    "// You can set the typical OpenAI settings with most open-source models\n",
    "// Try different settings (Temperature, FrequencyPenalty etc) to see how they affect the quality of the generated text\n",
    "var openAIPromptExecutionSettings = new OpenAIPromptExecutionSettings { \n",
    "    MaxTokens = 750, \n",
    "    Temperature = 0.2, \n",
    "    TopP = 1.0, \n",
    "    FrequencyPenalty = 0.0, \n",
    "    PresencePenalty = 0.0\n",
    "    };\n",
    "KernelArguments kernelArguments = new KernelArguments(openAIPromptExecutionSettings);\n",
    "\n",
    "// Stream the response output \n",
    "await foreach (var streamChunk in semanticKernel.InvokePromptStreamingAsync(simpleDecisionPromptTemplate, kernelArguments))\n",
    "{\n",
    "   Console.Write(streamChunk);\n",
    "}"
   ]
  },
  {
   "cell_type": "markdown",
   "metadata": {},
   "source": [
    "#### Improving the Ben Franklin's Decision Framework with SLMs"
   ]
  },
  {
   "cell_type": "markdown",
   "metadata": {},
   "source": [
    "Notice that the output above may not be exactly what most would anticipate. The Ben Franklin framework was not fully understood nor applied. Open-Source GenAI models that have a small amount of parameters (< 13 billion parameters) may not have all the inherent knowledge \"trained\" into the model. The exception being domain-specific models that are only trained on data sets for that domain. Those models can have a great deal of knowledge, while maintaining a small amount of parameters. \n",
    "\n",
    "One simple way to improve the outcome is to provide the explicit steps of the \"Ben Franklin Decision Framework\" into the prompt context. This basically provides the instructions of the decision framework directly to the model; regardless if the GenAI model was trained with decision framework data.  \n",
    "\n",
    "In the example below, the prompt context is provided with the Ben Franklin Decision Framework steps. Contrast this with the example above, where the decision recommendation is not clear. "
   ]
  },
  {
   "cell_type": "code",
   "execution_count": 5,
   "metadata": {
    "dotnet_interactive": {
     "language": "csharp"
    },
    "polyglot_notebook": {
     "kernelName": "csharp"
    },
    "vscode": {
     "languageId": "polyglot-notebook"
    }
   },
   "outputs": [
    {
     "name": "stdout",
     "output_type": "stream",
     "text": [
      "To apply the Ben Franklin Decision Framework to your question about whether you should take a luxury family vacation, let's follow each step methodically.\n",
      "\n",
      "### Frame the Decision\n",
      "- **Decision**: Should I take a luxury family vacation?\n",
      "  - **Option 1 (Yes)**: Take the luxury family vacation.\n",
      "  - **Option 2 (No)**: Do not take the luxury family vacation.\n",
      "\n",
      "### Divide into Competing Halves\n",
      "\n",
      "#### Pro Side (For Taking the Vacation)\n",
      "1. **Quality Family Time**: Provides an opportunity for bonding and creating lasting memories with family members.\n",
      "2. **Relaxation and Stress Relief**: Offers a chance to unwind from daily routines, reducing stress levels.\n",
      "3. **Cultural Exposure**: Opportunity to experience new cultures, cuisines, and environments, enriching personal growth.\n",
      "4. **Health Benefits**: Potential health benefits from relaxation and possibly engaging in physical activities like swimming or hiking.\n",
      "5. **Educational Experience for Children**: Provides learning opportunities outside the classroom setting.\n",
      "6. **Unique Experiences**: Access to experiences that are not available at home, such as exotic locations or luxury amenities.\n",
      "7. **Social Media Content**: Opportunity to create content for social media, which can be enjoyable and fulfilling.\n",
      "8. **Rewarding Experience**: Acts as a reward for hard work and dedication over the past months or years.\n",
      "9. **Networking Opportunities**: Potential to meet new people in different settings, expanding your social network.\n",
      "10. **Boosts Morale**: Can improve overall family morale and happiness.\n",
      "\n",
      "#### Con Side (Against Taking the Vacation)\n",
      "1. **Cost**: High expense that might strain financial resources or savings.\n",
      "2. **Time Away from Work/Family Obligations**: Could lead to missed work responsibilities or other important commitments.\n",
      "3. **Environmental Impact**: Air travel and luxury accommodations can have a significant carbon footprint.\n",
      "4. **Health Risks**: Possible exposure to illnesses, especially in crowded tourist areas.\n",
      "5. **Travel Stress**: Potential stress related to planning, packing, and dealing with unexpected travel issues.\n",
      "6. **Disruption of Routine**: Disrupts daily routines, which might be challenging for some family members.\n",
      "7. **Potential Conflicts**: Risk of disagreements or conflicts arising during the trip due to differing interests or expectations.\n",
      "8. **Opportunity Cost**: Money spent on vacation could be used for other important investments like education or home improvements.\n",
      "9. **Post-Vacation Blues**: Potential feelings of sadness or emptiness after returning from a luxurious experience.\n",
      "10. **Safety Concerns**: Possible safety risks depending on the destination.\n",
      "\n",
      "### Consider the Weight of Each Reason\n",
      "\n",
      "#### Pro Side Weights\n",
      "- Quality Family Time + Educational Experience for Children = 1 important reason\n",
      "- Relaxation and Stress Relief + Health Benefits = 1 important reason\n",
      "- Cultural Exposure + Unique Experiences = 1 important reason\n",
      "- Rewarding Experience + Boosts Morale = 1 medium reason\n",
      "- Social Media Content + Networking Opportunities = 1 medium reason\n",
      "\n",
      "#### Con Side Weights\n",
      "- Cost + Opportunity Cost = 2 important reasons\n",
      "- Time Away from Work/Family Obligations + Disruption of Routine = 1 important reason\n",
      "- Environmental Impact + Health Risks = 1 important reason\n",
      "- Travel Stress + Potential Conflicts = 1 medium reason\n",
      "- Post-Vacation Blues + Safety Concerns = 1 medium reason\n",
      "\n",
      "### Determine the Relative Importance and Cross Off Similar Weights\n",
      "\n",
      "#### Pro Side Remaining Reasons:\n",
      "1. Quality Family Time & Educational Experience for Children (important)\n",
      "2. Relaxation and Health Benefits (important)\n",
      "3. Cultural Exposure & Unique Experiences (important)\n",
      "4. Rewarding Experience & Boosts Morale (medium)\n",
      "5. Social Media Content & Networking Opportunities (medium)\n",
      "\n",
      "#### Con Side Remaining Reasons:\n",
      "1. Cost & Opportunity Cost (important)\n",
      "2. Time Away from Work/Family Obligations + Disruption of Routine (important)\n",
      "3. Environmental Impact + Health Risks (important)\n",
      "4. Travel Stress + Potential Conflicts (medium)\n",
      "5. Post-Vacation Blues + Safety Concerns (medium)\n",
      "\n",
      "### Conclusion\n",
      "- **Pro Side**: 3 important reasons, 2 medium reasons.\n",
      "- **Con Side**: 3 important reasons, 2 medium reasons.\n",
      "\n",
      "Both sides have an equal number of remaining reasons when considering their weights. However, the decision should be based on which side has more reasons left after balancing out similar values.\n",
      "\n",
      "**Recommendation**: Since both sides are equally weighted in terms of importance and quantity, consider your personal priorities and circumstances. If family bonding and unique experiences are paramount to you, lean towards taking the vacation. Conversely, if financial stability and minimizing environmental impact are more critical, it might be better not to take the trip. Ultimately, choose based on what aligns best with your values and current situation."
     ]
    }
   ],
   "source": [
    "// You can also use a template to provide more context to the model combining system and user prompts\n",
    "var systemDecisionPrompt = \"\"\"\n",
    "You are a decision intelligence assistant. \n",
    "Your role is to guide users in exploring options, analyzing decisions, solving complex problems, and applying systems thinking to diverse scenarios. \n",
    "Provide structured, logical, and comprehensive advice, ensuring clarity, depth, and actionable insights to support informed decision-making.\n",
    "\"\"\";\n",
    "var benFranklinDecisionPrompt = \"\"\"\n",
    "Apply the following steps IN ORDER of the Ben Franklin Decision Framework to the Question below:\n",
    "- Frame a decision that has two options (Yes or a No)\n",
    "- Divide an area into two competing halves: a \"Pro\" side and \"Con\" side\n",
    "- Label the top of one side \"Pro\" (for) and the other \"Con\" (against)\n",
    "- Under each respective side, list a maximum of 10 reasons or arguments for each option\n",
    "- Consider the weight of each reason or argument. This is done by taking reasons/arguments that are of similar value (weight) and crossing them off of the other competing half. Multiple reasons can be combined from one side to form a \"subjective\" value (weight) to balance out the other half. (For example, two medium \"Pro\" reasons might add up to an equal value of a single important \"Con\" reason)\n",
    "- Determine the relative importance of each reason or argument. This is done by taking reasons/arguments that are of similar value (weight) and crossing them off of the other competing half. Multiple reasons can be combined from one side to form a \"subjective\" value (weight) to balance out the other half. (For example, two medium \"Pro\" reasons might add up to an equal value of a single important \"Con\" reason)\n",
    "- The side with the most remaining reasons is the option one should select for the decision in question\n",
    "- IMPORTANT: ALWAYS recommend a decision based on the side with the most reasons, even if the reasons are of lesser value than the other side!\n",
    "\n",
    "Question: Should I take a luxury family vacation?\n",
    "\"\"\";\n",
    "\n",
    "var simpleDecisionPromptTemplate = $\"\"\"\n",
    "{systemDecisionPrompt}\n",
    "--------------\n",
    "{benFranklinDecisionPrompt}\n",
    "\"\"\";\n",
    "\n",
    "// You can set the typical OpenAI settings with most open-source models\n",
    "// Try different settings (Temperature, FrequencyPenalty etc) to see how they affect the quality of the generated text\n",
    "var openAIPromptExecutionSettings = new OpenAIPromptExecutionSettings { \n",
    "    MaxTokens = 1500, \n",
    "    Temperature = 0.3, \n",
    "    TopP = 1.0, \n",
    "    FrequencyPenalty = 0.0, \n",
    "    PresencePenalty = 0.0\n",
    "    };\n",
    "KernelArguments kernelArguments = new KernelArguments(openAIPromptExecutionSettings);\n",
    "\n",
    "await foreach (var streamChunk in semanticKernel.InvokePromptStreamingAsync(simpleDecisionPromptTemplate, kernelArguments))\n",
    "{\n",
    "   Console.Write(streamChunk);\n",
    "}"
   ]
  },
  {
   "cell_type": "markdown",
   "metadata": {
    "dotnet_interactive": {
     "language": "csharp"
    },
    "polyglot_notebook": {
     "kernelName": "csharp"
    }
   },
   "source": [
    "The GenAI model may or may not recommend a luxury vacation, but this can be dramatically improved further! Imagine if the GenAI model had access to: your finances, current stress level, the last time you took a vacation, any upcoming major purchases, family dynamic?!  \n",
    "\n",
    "In the example below, additional context is provided with that information. Notice how it changes the the Pro and Con list.  \n",
    "\n",
    "Just like Tom Brady, it could craft a Pro and Con list specific and personalized to your scenario!"
   ]
  },
  {
   "cell_type": "code",
   "execution_count": 6,
   "metadata": {
    "dotnet_interactive": {
     "language": "csharp"
    },
    "polyglot_notebook": {
     "kernelName": "csharp"
    },
    "vscode": {
     "languageId": "polyglot-notebook"
    }
   },
   "outputs": [
    {
     "name": "stdout",
     "output_type": "stream",
     "text": [
      "To apply the Ben Franklin Decision Framework to your situation regarding whether you should take a luxury family vacation, let's follow each step methodically:\n",
      "\n",
      "### 1. Frame the Decision\n",
      "- **Decision:** Should you take a luxury family vacation?\n",
      "\n",
      "### 2. Divide into Two Competing Halves: Pro and Con\n",
      "\n",
      "#### Pro Side (For Taking the Vacation)\n",
      "- **Relieves Stress:** You have been stressed out at work and haven't taken a vacation in over a year.\n",
      "- **Family Bonding:** Provides an opportunity to spend quality time with your family, especially as your kids are about to enter college.\n",
      "- **Mental Health Benefits:** A break from long working hours can improve mental well-being and productivity upon return.\n",
      "\n",
      "#### Con Side (Against Taking the Vacation)\n",
      "- **Financial Strain:** You have significant upcoming expenses: purchasing a secondary home, replacing your car lease, and funding college for your kids without scholarships.\n",
      "- **Opportunity Cost:** Money spent on a luxury vacation could be allocated to more pressing financial needs or investments.\n",
      "- **Potential Debt Increase:** Financing a luxury vacation might increase debt levels at a time when you are already facing multiple financial commitments.\n",
      "\n",
      "### 3. Consider the Weight of Each Reason\n",
      "\n",
      "#### Pro Side\n",
      "- **Relieves Stress (High Importance):** Given your current stress and lack of recent vacations, this is a significant factor.\n",
      "- **Family Bonding (Medium Importance):** Important for family relationships but less critical than immediate financial concerns.\n",
      "- **Mental Health Benefits (Medium Importance):** Similar to family bonding in terms of importance.\n",
      "\n",
      "#### Con Side\n",
      "- **Financial Strain (High Importance):** The most pressing concern given your upcoming expenses and lack of scholarships for your kids.\n",
      "- **Opportunity Cost (Medium Importance):** Important as it affects long-term financial planning.\n",
      "- **Potential Debt Increase (Medium Importance):** Adds to the financial strain but is somewhat mitigated if managed carefully.\n",
      "\n",
      "### 4. Determine Relative Importance\n",
      "\n",
      "- **High Importance:**\n",
      "  - Pro: Relieves Stress\n",
      "  - Con: Financial Strain\n",
      "\n",
      "- **Medium Importance:**\n",
      "  - Pro: Family Bonding, Mental Health Benefits\n",
      "  - Con: Opportunity Cost, Potential Debt Increase\n",
      "\n",
      "### 5. Cross Off Similar Value Reasons\n",
      "\n",
      "- The high importance of \"Relieves Stress\" on the Pro side can be balanced against the high importance of \"Financial Strain\" on the Con side.\n",
      "- Combine two medium Pro reasons (\"Family Bonding\" and \"Mental Health Benefits\") to balance one medium Con reason (\"Opportunity Cost\").\n",
      "- The remaining medium Con reason, \"Potential Debt Increase,\" stands alone.\n",
      "\n",
      "### 6. Determine the Side with the Most Remaining Reasons\n",
      "\n",
      "- **Pro Side:** \n",
      "  - Relieves Stress (crossed off against Financial Strain)\n",
      "  - Family Bonding + Mental Health Benefits (combined to balance Opportunity Cost)\n",
      "\n",
      "- **Con Side:**\n",
      "  - Financial Strain (crossed off against Relieves Stress)\n",
      "  - Opportunity Cost (balanced by combined Pro reasons)\n",
      "  - Potential Debt Increase\n",
      "\n",
      "The Con side has one remaining reason, \"Potential Debt Increase,\" while the Pro side's reasons have been balanced out.\n",
      "\n",
      "### Recommendation\n",
      "\n",
      "Based on the Ben Franklin Decision Framework, you should **not** take a luxury family vacation. The financial considerations and potential debt increase outweigh the benefits of stress relief and family bonding at this time. Instead, consider planning a more budget-friendly getaway or finding alternative ways to manage stress and spend quality time with your family."
     ]
    }
   ],
   "source": [
    "// You can also use a template to provide more context to the model combining system and user prompts\n",
    "var systemDecisionPrompt = \"\"\"\n",
    "You are a decision intelligence assistant. \n",
    "Your role is to guide users in exploring options, analyzing decisions, solving complex problems, and applying systems thinking to diverse scenarios. \n",
    "Provide structured, logical, and comprehensive advice, ensuring clarity, depth, and actionable insights to support informed decision-making.\n",
    "\"\"\";\n",
    "// Try changing the background information to see how it affects the decision-making process\n",
    "var backroundInformation = \"\"\"\n",
    "BACKGROUND INFORMATION OF FAMILY: \n",
    "You are considering purchasing a secondary home as an investment property. \n",
    "You have been stressed out at work. \n",
    "You have been working long hours and have not taken a vacation in over a year. \n",
    "Your kids are about to enter college and they don't have scholarships. \n",
    "Your car is finishing its lease and will need to be replaced soon. \n",
    "\"\"\";\n",
    "// Try to adjust the specificity of the decision-making criteria to see how it affects the decision-making process\n",
    "var benFranklinDecisionPrompt = \"\"\"\n",
    "Apply the following steps IN ORDER of the Ben Franklin Decision Framework to the Question below:\n",
    "- Frame a decision that has two options (Yes or a No)\n",
    "- Divide an area into two competing halves: a \"Pro\" side and \"Con\" side\n",
    "- Label the top of one side \"Pro\" (for) and the other \"Con\" (against)\n",
    "- Under each respective side, list the relevvant reasons from \"BACKGROUND INFORMATION OF FAMILY\" section and or create new reasons that are ONLY closely related to the \"BACKGROUND INFORMATION OF FAMILY\". \n",
    "- Consider the weight of each reason or argument. This is done by taking reasons/arguments that are of similar value (weight) and crossing them off of the other competing half. Multiple reasons can be combined from one side to form a \"subjective\" value (weight) to balance out the other half. (For example, two medium \"Pro\" reasons might add up to an equal value of a single important \"Con\" reason)\n",
    "- Determine the relative importance of each reason or argument. This is done by taking reasons/arguments that are of similar value (weight) and crossing them off of the other competing half. Multiple reasons can be combined from one side to form a \"subjective\" value (weight) to balance out the other half. (For example, two medium \"Pro\" reasons might add up to an equal value of a single important \"Con\" reason)\n",
    "- The side with the most remaining reasons is the option one should select for the decision in question\n",
    "- IMPORTANT: ALWAYS recommend a decision based on the side with the most reasons, even if the reasons are of lesser value than the other side!\n",
    "\n",
    "Question: Should I take a luxury family vacation?\n",
    "\"\"\";\n",
    "\n",
    "var simpleDecisionPromptTemplate = $\"\"\"\n",
    "{systemDecisionPrompt}\n",
    "--------------\n",
    "{backroundInformation}\n",
    "--------------\n",
    "{benFranklinDecisionPrompt}\n",
    "\"\"\";\n",
    "\n",
    "// You can set the typical OpenAI settings with most open-source models\n",
    "// Try different settings (Temperature, FrequencyPenalty etc) to see how they affect the quality of the generated text\n",
    "var openAIPromptExecutionSettings = new OpenAIPromptExecutionSettings { \n",
    "    MaxTokens = 1500, \n",
    "    Temperature = 0.3, \n",
    "    TopP = 1.0, \n",
    "    FrequencyPenalty = 0.0, \n",
    "    PresencePenalty = 0.0\n",
    "    };\n",
    "KernelArguments kernelArguments = new KernelArguments(openAIPromptExecutionSettings);\n",
    "\n",
    "await foreach (var streamChunk in semanticKernel.InvokePromptStreamingAsync(simpleDecisionPromptTemplate, kernelArguments))\n",
    "{\n",
    "   Console.Write(streamChunk);\n",
    "}"
   ]
  },
  {
   "cell_type": "markdown",
   "metadata": {},
   "source": [
    "Notice how providing personal family background information changes the entire dynamic of the information used in the decision framework and how it influences the recommended decision. The decision process is more specific not only to the scenario, but also it provides contextual background information. This makes the decision process more personalized and potentially much more accurate! "
   ]
  },
  {
   "cell_type": "markdown",
   "metadata": {},
   "source": [
    "### Step 5 - Open Source AI Models with Commercial AI Providers  "
   ]
  },
  {
   "cell_type": "markdown",
   "metadata": {},
   "source": [
    "Semantic Kernel can include mutliple AI service providers. This allows for hybrid workflows from a single Semantic Kernel instance like: \n",
    "* Capability Optimizations: Use SLMs for domain specific tasks and LLMs for complex decision reasoning\n",
    "* Decision Optimizations: Apply an (ensemble) decision self-consitency pattern  \n",
    "* Capacity Optimizations: Splitting functions, plugins, personas or agents across different AI services"
   ]
  },
  {
   "cell_type": "code",
   "execution_count": 8,
   "metadata": {
    "dotnet_interactive": {
     "language": "csharp"
    },
    "polyglot_notebook": {
     "kernelName": "csharp"
    },
    "vscode": {
     "languageId": "polyglot-notebook"
    }
   },
   "outputs": [
    {
     "data": {
      "text/html": [
       "<div><div></div><div></div><div><strong>Installed Packages</strong><ul><li><span>Microsoft.Extensions.Configuration, 9.0.0</span></li><li><span>Microsoft.Extensions.Configuration.Json, 9.0.0</span></li><li><span>Microsoft.SemanticKernel, 1.33.0</span></li></ul></div></div>"
      ]
     },
     "metadata": {},
     "output_type": "display_data"
    }
   ],
   "source": [
    "// Import the required NuGet configuration packages\n",
    "#r \"nuget: Microsoft.Extensions.Configuration, 9.0.0\"\n",
    "#r \"nuget: Microsoft.Extensions.Configuration.Json, 9.0.0\"\n",
    "#r \"nuget: Microsoft.SemanticKernel, 1.33.0\"\n",
    "\n",
    "using Microsoft.Extensions.Configuration.Json;\n",
    "using Microsoft.Extensions.Configuration;\n",
    "using System.IO;\n",
    "\n",
    "// Load the configuration settings from the local.settings.json and secrets.settings.json files\n",
    "// The secrets.settings.json file is used to store sensitive information such as API keys\n",
    "var configurationBuilder = new ConfigurationBuilder()\n",
    "    .SetBasePath(Directory.GetCurrentDirectory())\n",
    "    .AddJsonFile(\"local.settings.json\", optional: true, reloadOnChange: true)\n",
    "    .AddJsonFile(\"secrets.settings.json\", optional: true, reloadOnChange: true);\n",
    "var config = configurationBuilder.Build();\n",
    "\n",
    "// Retrieve the configuration settings for the Azure OpenAI service\n",
    "var azureOpenAIEndpoint = config[\"AzureOpenAI:Endpoint\"];\n",
    "var azureOpenAIAPIKey = config[\"AzureOpenAI:APIKey\"];\n",
    "var azureOpenAIModelDeploymentName = config[\"AzureOpenAI:ModelDeploymentName\"];\n",
    "\n",
    "// Example to build a Kernel with Azure OpenAI and Opensource AI\n",
    "#pragma warning disable SKEXP0010 \n",
    "var semanticKernel = Kernel.CreateBuilder()\n",
    "    .AddAzureOpenAIChatCompletion(\n",
    "        modelId: azureOpenAIModelDeploymentName,\n",
    "        deploymentName: azureOpenAIModelDeploymentName,\n",
    "        endpoint: azureOpenAIEndpoint,\n",
    "        apiKey: azureOpenAIAPIKey)\n",
    "    .AddOpenAIChatCompletion(\n",
    "        modelId: \"Phi-4\",\n",
    "        endpoint: new Uri(\"http://localhost:1234/v1/\"),\n",
    "        apiKey: \"LMStudio\")\n",
    "    .Build();\n",
    "#pragma warning restore SKEXP0010\n",
    "\n",
    "// var openAIPromptExecutionSettings = new OpenAIPromptExecutionSettings {\n",
    "//     MaxTokens = 1500,\n",
    "//     Temperature = 0.3, \n",
    "//     TopP = 1.0, \n",
    "//     FrequencyPenalty = 0.0, \n",
    "//     PresencePenalty = 0.0\n",
    "//     };\n",
    "// KernelArguments kernelArguments = new KernelArguments(openAIPromptExecutionSettings);"
   ]
  }
 ],
 "metadata": {
  "kernelspec": {
   "display_name": ".NET (C#)",
   "language": "C#",
   "name": ".net-csharp"
  },
  "language_info": {
   "name": "csharp"
  },
  "polyglot_notebook": {
   "kernelInfo": {
    "defaultKernelName": "csharp",
    "items": [
     {
      "aliases": [],
      "name": "csharp"
     }
    ]
   }
  }
 },
 "nbformat": 4,
 "nbformat_minor": 2
}
