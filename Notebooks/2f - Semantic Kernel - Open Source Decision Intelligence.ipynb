{
 "cells": [
  {
   "cell_type": "markdown",
   "metadata": {},
   "source": [
    "<img style=\"float: left;padding-right: 10px\" width =\"40px\" src=\"https://raw.githubusercontent.com/bartczernicki/DecisionIntelligence.GenAI.Workshop/main/Images/SemanticKernelLogo.png\">\n",
    "\n",
    "## Semantic Kernel - Open Source Decision Intelligence"
   ]
  },
  {
   "cell_type": "markdown",
   "metadata": {},
   "source": [
    "Decision Intelligence applied in this module:  \n",
    "* Listing key factors to consider when making a sound decision  \n",
    "* Decision Scenario: Use a decision framework (Ben Franklin's Pro & Con List) to create a decision plan  "
   ]
  },
  {
   "cell_type": "markdown",
   "metadata": {},
   "source": [
    "A recommended enterprise pattern is to scale Articial Intelligence strategy with three key areas:\n",
    "* Commercial AI (OpenAI and other proprietary AI providers)\n",
    "* Open-Source AI (open-source AI providers)\n",
    "* Partner (Vendor) AI (i.e. company HR Software, contract software)  \n",
    "\n",
    "These three areas together strategically form AI capability and capacity in what I like to call the \"AI Brain\". This is illustrated below.\n",
    "\n",
    "<img width =\"750px\" src=\"https://raw.githubusercontent.com/bartczernicki/DecisionIntelligence.GenAI.Workshop/main/Images/AIBrainPillars.png\">\n",
    "\n",
    "Semantic Kernel embraces AI orchestration across all the pillars mentioned above. It allows all types of models (commercial or proprietary) and almost any APIs to be orchestrated to faciliate better decision intelligence."
   ]
  },
  {
   "cell_type": "markdown",
   "metadata": {},
   "source": [
    "### Step 1 - Get Started with LMStudio and Microsoft Phi-3"
   ]
  },
  {
   "cell_type": "markdown",
   "metadata": {},
   "source": [
    "This module highlights how to use local AI models (i.e. LLMs) with Semantic Kernel. To illustrate this the Phi-3 model is run locally using LMStudio.\n",
    "\n",
    "Steps to get started:\n",
    "* Download & install LMStudio: https://lmstudio.ai/ (Windows, Mac or Linux) \n",
    "* Run the LMStudio studio application \n",
    "* In the LMStudio application, download the Phi-3.5-Mini GGUF file. LMStudio will inspect your hardware and let you know which quantized version of the model(s) is optimal for your hardware. Note: Even computers with small graphics cards can run these models well locally. Furthermore, laptops such as the Macbook Pro with Neural Engine can run LMStudio local models as well. \n",
    "* Start the LMStudio Server with the Phi-3.5-Mini model loaded. This will start a local REST endpoint with a URI similar to http://localhost:1234/v1 \n",
    "* The LMStudio local server does not have default security, you can simply check by navigating to this link in any browser to check if a model is loaded: http://localhost:1234/v1/models \n",
    "\n",
    "<img width =\"900px\" src=\"https://raw.githubusercontent.com/bartczernicki/DecisionIntelligence.GenAI.Workshop/main/Images/LMStudioServer.png\">"
   ]
  },
  {
   "cell_type": "markdown",
   "metadata": {},
   "source": [
    "### Step 2 - Initialize Configuration Builder & Build the Semantic Kernel Orchestration"
   ]
  },
  {
   "cell_type": "markdown",
   "metadata": {},
   "source": [
    "Execute the next cell to:\n",
    "* Use the Configuration Builder to use the local LMStudio Server  \n",
    "* Use the API configuration to build the Semantic Kernel orchestrator  \n",
    "* Notice there is no security being passed in and it is simply a URL"
   ]
  },
  {
   "cell_type": "code",
   "execution_count": 1,
   "metadata": {
    "dotnet_interactive": {
     "language": "csharp"
    },
    "polyglot_notebook": {
     "kernelName": "csharp"
    },
    "vscode": {
     "languageId": "polyglot-notebook"
    }
   },
   "outputs": [
    {
     "data": {
      "text/html": [
       "<div><div></div><div></div><div><strong>Installed Packages</strong><ul><li><span>Microsoft.SemanticKernel, 1.22.0</span></li></ul></div></div>"
      ]
     },
     "metadata": {},
     "output_type": "display_data"
    }
   ],
   "source": [
    "#r \"nuget: Microsoft.SemanticKernel, 1.22.0\"\n",
    "\n",
    "using Microsoft.SemanticKernel;\n",
    "using Microsoft.SemanticKernel.ChatCompletion;\n",
    "using Microsoft.SemanticKernel.Connectors.OpenAI;\n",
    "\n",
    "#pragma warning disable SKEXP0010 \n",
    "var semanticKernel = Kernel.CreateBuilder()\n",
    "    .AddOpenAIChatCompletion(\n",
    "        modelId: \"lmstudio-community/Phi-3.5-mini-instruct-GGUF\",\n",
    "        endpoint: new Uri(\"http://localhost:1234/v1/\"),\n",
    "        apiKey: null)\n",
    "    .Build();\n",
    "#pragma warning restore SKEXP0010"
   ]
  },
  {
   "cell_type": "markdown",
   "metadata": {},
   "source": [
    "### Step 3 - Use Semantic Kernel with Open Source AI Models"
   ]
  },
  {
   "cell_type": "markdown",
   "metadata": {},
   "source": [
    "Semantic Kernel allows one to interact with any API service that adheres to the OpenAI specification. Notice the method to add LMStudio capability was simply enabled via the **AddOpenAIChatCompletion** method.\n",
    "\n",
    "Execute the cell below about decision factors for a investment property. Note:\n",
    "* OpenAI Prompt Execution Settings are the same in LMStudio as they are for OpenAI and Azure OpenAI\n",
    "* Passing in arguents works the same way in Semantic Kernel\n",
    "* Streaming works as well in Semantic Kernel for supported services"
   ]
  },
  {
   "cell_type": "markdown",
   "metadata": {},
   "source": [
    "> \"Don't wait to buy real estate. Buy real estate and wait.\"  \n",
    ">\n",
    "> -- <cite>Will Rodgers (American humorist, actor, and social commentator in the early 20th century)</cite>  "
   ]
  },
  {
   "cell_type": "code",
   "execution_count": 2,
   "metadata": {
    "dotnet_interactive": {
     "language": "csharp"
    },
    "polyglot_notebook": {
     "kernelName": "csharp"
    },
    "vscode": {
     "languageId": "polyglot-notebook"
    }
   },
   "outputs": [
    {
     "name": "stdout",
     "output_type": "stream",
     "text": [
      "When considering purchasing a secondary home as an investment property, there are several key factors to evaluate in order to ensure that your decision is sound:\n",
      "\n",
      "1. Location analysis: The location of the potential rental property plays a significant role in its success as an investment. Here's what you should consider when assessing different locations: \n",
      "- Demographics and population growth trends, including age distribution, income levels, education attainment rates, etc., to determine if there is demand for rentals or potential buyers of the property down the line.\n",
      "- Accessibility factors such as proximity to major highways, public transportation systems, shopping centres, schools and other amenities that make it convenient for tenants. \n",
      "- Crime rates in the area: A safe neighborhood is essential when renting out a home since potential tenants will prioritize safety over everything else. Research crime statistics from local law enforcement agencies to determine if there are any red flags or concerns about security issues within your targeted location(s).\n",
      "2. Potential rental income analysis: Before investing in an additional property, it's crucial that you understand the potential return on investment (ROI) and how much rent can be generated from this particular home over time. Here are some factors to consider when evaluating a secondary residence for its ability to generate revenue as rental income:\n",
      "- Market demand in your chosen location, including vacancy rates or average occupancy levels across similar properties within the area; \n",
      "- Comparable rent prices and property values of nearby homes with comparable features (e.g., size/square footage) that can help you determine a fair market price for potential tenants to pay per month while still generating profitability over time through rental income alone or combined appreciation value when sold later on;\n",
      "- Potential expenses associated with owning and maintaining the property, including but not limited to mortgage interest rates/payments (if applicable), insurance premiums, taxes levied by local authorities such as school districts etc., maintenance costs for repairs or upgrades needed over time due to wear-and-tear;\n",
      "3. Financing options: When considering purchasing a secondary home investment property financing is an essential factor that must be evaluated carefully before making any commitments towards buying the asset itself - here are some key points you should consider when assessing your available financial resources for this venture: \n",
      "- Your current credit score and history, which will determine how much money lenders may offer at favorable interest rates;  \n",
      "- The amount of down payment required by different mortgage providers (e.g., conventional loans vs FHA/VA), as well as any additional fees or closing costs associated with securing financing for a second home purchase - these expenses can add up quickly and should be factored into your overall budget when evaluating whether this investment opportunity is feasible;\n",
      "- The type of mortgage product that best suits both short term (e.g., 10 years) or long-term goals depending on how much time you plan to hold onto the property before selling it off again at some point in future - fixed rate vs adjustable rates, balloon payments etc.;\n",
      "4. Long-term value appreciation: When investing in real estate properties with an eye towards generating wealth over a long period of time (e.g., 10+ years), understanding how much your property's market value might appreciate or depreciate during that same span is critical - here are some factors to consider when evaluating potential appreciation/depreciation trends for secondary homes:\n",
      "- Historical price data from local real estate agents and online databases such as Zillow; \n",
      "- Economic indicators like job growth rates, population changes etc., which can impact demand levels within specific neighborhoods over time - areas with strong economic fundamentals tend to experience higher appreciation values compared those in declining markets where property prices may stagnate or even decrease due lack of buyer interest;\n",
      "- Local zoning laws/regulations that could affect future development potential (e.g., new construction projects) within your chosen location - these factors can significantly impact how much value a particular home might hold over time as well since they influence supply and demand dynamics in the marketplace at large.; \n",
      "5. Associated risks: Finally, it's essential to consider any associated risk(s), including but not limited to tenant turnover rates (which could lead to vacancy periods where no rental income is generated) or unexpected maintenance/repair costs that may arise over time - here are some additional points worth considering when evaluating potential risks:\n",
      "- Tenants' creditworthiness and history of timely rent payments; \n",
      "- Local laws governing landlord responsibilities (e.g., property inspections, maintenance requirements) which could impact your ability to maintain the home in good condition over time without incurring significant expenses yourself - understanding these legal obligations upfront can help mitigate potential risks associated with owning a rental investment;\n",
      "- Market volatility: Real estate markets are subject to fluctuation due various factors such as interest rates, economic conditions etc., which could impact both short and long term property values - being aware of these trends can help you make informed decisions about when it might be best (or least) risky for your investment portfolio.\n",
      "In summary: When considering purchasing a secondary home to rent out as an income-generating asset, there are several key factors that must be evaluated carefully before making any commitments towards buying the property itself - including location analysis and potential rental income generation capabilities; financing options available for securing such investment opportunities while also considering long term value appreciation trends along with associated risks involved in owning a second home as an investor. By taking these factors into account, you can make more informed decisions about whether or not this particular venture aligns well within your overall financial goals and objectives for wealth creation over time!"
     ]
    }
   ],
   "source": [
    "// Prompting works in a very similar way to the OpenAI API\n",
    "\n",
    "// Create a Decision Intelligence prompt on the topic of purchasing a secondary home as an investment property\n",
    "// Provide detailed decision-making criteria for evaluating the investment decision\n",
    "var simpleDecisionPrompt = \"\"\"\n",
    "You are considering purchasing a secondary home as an investment property. \n",
    "\n",
    "What key factors should you evaluate to ensure a sound investment decision, including financial, market, and property-specific considerations? \n",
    "Outline the critical steps and criteria for assessing location, potential rental income, financing options, long-term property value, and associated risks.\n",
    "\"\"\";\n",
    "\n",
    "// You can set the typical OpenAI settings with most open-source models\n",
    "var openAIPromptExecutionSettings = new OpenAIPromptExecutionSettings { \n",
    "    MaxTokens = 750, \n",
    "    Temperature = 0.1, \n",
    "    TopP = 1.0, \n",
    "    FrequencyPenalty = 0.0, \n",
    "    PresencePenalty = 0.0\n",
    "    };\n",
    "KernelArguments kernelArguments = new KernelArguments(openAIPromptExecutionSettings);\n",
    "\n",
    "// Most open-source GenAI moodels support streaming as well\n",
    "await foreach (var streamChunk in semanticKernel.InvokePromptStreamingAsync(simpleDecisionPrompt, kernelArguments))\n",
    "{\n",
    "   Console.Write(streamChunk);\n",
    "}"
   ]
  },
  {
   "cell_type": "markdown",
   "metadata": {},
   "source": [
    "Advanced Prompt Engineering techniques can be applied to OSS (open-source) models as well. In the example below a more advanced reasoning decision prompt will be used to provide additional instructions to the GenAI model."
   ]
  },
  {
   "cell_type": "code",
   "execution_count": 6,
   "metadata": {
    "dotnet_interactive": {
     "language": "csharp"
    },
    "polyglot_notebook": {
     "kernelName": "csharp"
    },
    "vscode": {
     "languageId": "polyglot-notebook"
    }
   },
   "outputs": [
    {
     "name": "stdout",
     "output_type": "stream",
     "text": [
      "Understanding the Problem: The user is considering purchasing a secondary home as an investment property but has not yet made any decisions or provided specific details about their situation, financial capacity, market conditions, and goals for this potential purchase. To provide comprehensive advice, we need to understand these factors better.\n",
      "\n",
      "Break Down the Reasoning Process: \n",
      "1. Assess user's investment objectives - Understand why they want a secondary home (e.g., rental income, capital appreciation).\n",
      "2. Evaluate financial capacity and readiness for purchase – Determine if the user has sufficient funds or financing options available to make this acquisition without overextending their finances. \n",
      "3. Analyze market conditions - Research current real estate trends in potential areas, including property values, rental demand/supply dynamics, and economic factors that could influence investment returns.\n",
      "4. Consider additional costs – Identify all expenses associated with owning a secondary home (e.g., maintenance, taxes, insurance) to ensure they are factored into the overall cost-benefit analysis of this purchase decision. \n",
      "5. Develop an action plan - Based on gathered information and user's objectives/capacity, outline steps for moving forward with or without purchasing a secondary home as an investment property.\n",
      "\n",
      "Explain Each Step:\n",
      "1. Assessing the Investment Objective – Understanding why someone wants to buy real estate is crucial because it helps determine whether this aligns well with their financial goals and risk tolerance level, which will influence how they should approach buying a secondary home as an investment property (e.g., if seeking passive income through rentals or capital appreciation).\n",
      "2. Evaluating Financial Capacity – This step involves assessing the user's current financial situation to determine whether purchasing real estate is feasible without jeopardizing their overall finances, including down payment requirements and ongoing expenses associated with owning a property (e.g., mortgage payments).\n",
      "3. Analyzing Market Conditions – Research local market trends can help identify potential opportunities or risks in the real estate investment landscape by examining factors such as supply/demand dynamics, economic growth prospects, and interest rates that could impact property values over time (e.g., if there is high demand for rental properties but low vacancy rates).\n",
      "4. Considering Additional Costs – Owning a secondary home comes with various expenses beyond the purchase price itself; these include maintenance costs like repairs/renovations, taxes on property and income generated from rentals (if applicable), insurance premiums for both structures & contents within them etc., all of which should be factored into any cost-benefit analysis when considering whether or not to proceed with buying a secondary home as an investment.\n",
      "5. Developing An Action Plan – Based on the information gathered through previous steps, create actionable recommendations tailored specifically for this user's situation (e.g., if they have sufficient funds and market conditions are favorable but additional costs may be prohibitive). This could involve exploring alternative investment options or adjusting their expectations regarding potential returns from owning a secondary home as an income-generating asset versus capital appreciation alone, among other possibilities depending on individual circumstances.\n",
      "\n",
      "Final Answer: After carefully considering the user's objectives and financial capacity alongside market conditions and additional costs associated with purchasing a second property for investment purposes (rental or sale), it is recommended that they proceed cautiously by conducting further research into local real estate trends, consulting professionals such as mortgage brokers/real estate agents who specialize in rental properties if interested and developing an action plan based on their findings. This approach will help ensure a well-informed decision that aligns with both short-term goals (e.g., generating passive income) and long-term financial stability while minimizing potential risks associated with real estate investments in general, including those specific to purchasing secondary homes as an asset class within their portfolio mixes/strategies for diversification purposes if applicable at all times when making such decisions.\n",
      "\n",
      "Review the Thought Process: The reasoning process outlined above follows a logical sequence of steps that consider various factors crucial in determining whether or not purchasing a secondary home as an investment property is suitable and feasible given individual circumstances, preferences/goals for real estate ownership (e.g., passive income vs capital appreciation), financial capacity to afford such acquisition without jeopardizing overall finances due diligence on local market conditions including supply-demand dynamics as well potential risks associated with owning rental properties if applicable, and finally developing an action plan tailored specifically for this user's situation based upon gathered information. This comprehensive approach ensures that all relevant aspects are considered before arriving at a final decision regarding whether or not to proceed further in pursuing such investment opportunity(s).\n",
      "\n",
      "Minto Pyramid Principle: \n",
      "1. Problem Understanding – The need for careful consideration when purchasing secondary homes as an investment property due to various factors involved (e.g., financial capacity, market conditions) that must be assessed before making a decision;  2. Reasoning Process - Steps outlined above aimed at evaluating user's objectives/capacity alongside relevant external variables such as local real estate trends and associated costs to arrive at an informed recommendation for action (e.g., proceed with caution); 3. Final Answer – Based on thorough analysis of individual circumstances, it is recommended that users conduct further research into market conditions while consulting professionals if interested before developing a tailored plan;\n",
      "4. Review Thought Process - Ensures comprehensive evaluation covering all relevant aspects (e.g., financial capacity/market trends) leading to well-informed decision making minimizing potential risks associated with real estate investments in general, including those specific for purchasing secondary homes as an asset class within portfolio mixes;\n",
      "5. Minto Pyramid Principle - Topic (Problem Understanding), Purpose/Goal of Analysis & Recommendation(Final Answer) are clearly defined and logically structured with supporting reasons leading to a well-informed decision making process, ensuring transparency in thought progression for effective communication."
     ]
    }
   ],
   "source": [
    "// Prompting works in a very similar way to the OpenAI API\n",
    "\n",
    "// Create a Decision Intelligence prompt on the topic of purchasing a secondary home as an investment property\n",
    "// Use Chain of Thought to prompt the OSS model\n",
    "// Use the Minto Pyramid to communicate the decision \n",
    "var advancedDecisionPrompt = \"\"\"\n",
    "You are considering purchasing a secondary home as an investment property. \n",
    "\n",
    "Before providing any answer, you must: \n",
    "Understand the Problem: Carefully read and understand the user's question or request. \n",
    "Break Down the Reasoning Process: Outline the steps required to solve the problem or respond to the request logically and sequentially. Think aloud and describe each step in detail. \n",
    "Always aim to make your thought process transparent and logical. \n",
    "Explain Each Step: Provide reasoning or calculations for each step, explaining how you arrive at each part of your answer. \n",
    "Provide structured, logical, and comprehensive advice. \n",
    "Arrive at the Final Answer: Only after completing all steps, provide the final answer or solution. \n",
    "Review the Thought Process: Double-check the reasoning for errors or gaps before finalizing your response. \n",
    "Communicate the final decision using the Minto Pyramid Principle.\n",
    "\"\"\";\n",
    "\n",
    "// You can set the typical OpenAI settings with most open-source models\n",
    "var openAIPromptExecutionSettings = new OpenAIPromptExecutionSettings { \n",
    "    MaxTokens = 750, \n",
    "    Temperature = 0.1, \n",
    "    TopP = 1.0, \n",
    "    FrequencyPenalty = 0.0, \n",
    "    PresencePenalty = 0.0\n",
    "    };\n",
    "KernelArguments kernelArguments = new KernelArguments(openAIPromptExecutionSettings);\n",
    "\n",
    "// Most open-source GenAI moodels support streaming as well\n",
    "await foreach (var streamChunk in semanticKernel.InvokePromptStreamingAsync(advancedDecisionPrompt, kernelArguments))\n",
    "{\n",
    "   Console.Write(streamChunk);\n",
    "}"
   ]
  },
  {
   "cell_type": "markdown",
   "metadata": {},
   "source": [
    "### Step 4 - Using the Ben Franklin Decision Framework to Make Great Decisions"
   ]
  },
  {
   "cell_type": "markdown",
   "metadata": {},
   "source": [
    "> \"By failing to prepare, you are preparing to fail.\" \n",
    ">\n",
    "> -- <cite>Ben Franklin (Founding Father of the United States, inventor, godfather of Decision Science)</cite> \n",
    "\n",
    "<img width =\"750px\" src=\"https://raw.githubusercontent.com/bartczernicki/Articles/main/20230326-Make-Great-Decisions-Using-Ben-Franklins-Pros-And-Cons-Method/Image-BenFranklinDecisionMakingMethod.png\">"
   ]
  },
  {
   "cell_type": "markdown",
   "metadata": {},
   "source": [
    "#### Tom Brady's use of a Decision Framework"
   ]
  },
  {
   "cell_type": "markdown",
   "metadata": {},
   "source": [
    "Tom Brady's decision to join the Tampa Bay Buccaneers in 2020 marked a significant in his legendary NFL career. After 20 seasons and six Super Bowl championships with the New England Patriots, Brady became a free agent and chose to sign with the Bucs. How did he arrive at this decision? On the Fox broadcast on 09.29.2024, while covering the Buccaneers vs Philadelphia Eagles game, Tom Brady described how he arrived at this decision.\n",
    "\n",
    "In the screenshot below, Tom Brady is holding up some small paper cards he is showing the audience of the broadcast. Brady mentioned he wrote down the personal decision criteria that was important and how each team compared in that criteria (salary, weather etc). He used this to select the Tampa Bay Buccaneers as his team, where he went on to win a Super Bowl in his first year there! **Tom Brady used the \"Ben Franklin Decision Framework\", 250 years after it's inception to decide where to play NFL quaterback!**  \n",
    "\n",
    "<img width =\"750px\" src=\"https://raw.githubusercontent.com/bartczernicki/DecisionIntelligence.GenAI.Workshop/main/Images/BenFranklinDecisionFramework-TomBrady.png\">"
   ]
  },
  {
   "cell_type": "markdown",
   "metadata": {},
   "source": [
    "#### Steps for Ben Franklin's Decision Framework"
   ]
  },
  {
   "cell_type": "markdown",
   "metadata": {},
   "source": [
    "Below are the steps Ben Franklin recommends when making a decision, which he called his \"Decision Making Method of Moral Algebra\":  \n",
    "- Frame a decision that has two options (Yes or a No)\n",
    "- Divide an area into two competing halves: a \"Pro\" side and \"Con\" side\n",
    "- Label the top of one side \"Pro\" (for) and the other \"Con\" (against)\n",
    "- Under each respective side, over a period of time (Ben Franklin recommended days, this could be minutes) write down various reasons/arguments that support (Pro) or are against (Con) the decision\n",
    "- After spending some time thinking exhaustively and writing down the reasons, weight the different Pro and Con reasons/arguments\n",
    "- Determine the relative importance of each reason or argument. This is done by taking reasons/arguments that are of similar value (weight) and crossing them off of the other competing half. Multiple reasons can be combined from one side to form a \"subjective\" value (weight) to balance out the other half. (For example, two medium \"Pro\" reasons might add up to an equal value of a single important \"Con\" reason)\n",
    "- The side with the most remaining reasons is the option one should select for the decision in question\n",
    "\n",
    "Learn more about Ben Franklin's Decision Framework: https://medium.com/@bartczernicki/make-great-decisions-using-ben-franklins-decision-making-method-c7fb8b17905c  "
   ]
  },
  {
   "cell_type": "code",
   "execution_count": 9,
   "metadata": {
    "dotnet_interactive": {
     "language": "csharp"
    },
    "polyglot_notebook": {
     "kernelName": "csharp"
    },
    "vscode": {
     "languageId": "polyglot-notebook"
    }
   },
   "outputs": [
    {
     "name": "stdout",
     "output_type": "stream",
     "text": [
      "To apply Benjamin Franklin's Decision-Making Framework, which involves creating lists of pros (\"pros\") and cons (\"cons\"), we can systematically assess the decision to go on a luxury family vacation by considering various factors that impact both sides:\n",
      "\n",
      "**Pros (Benefits) for Taking a Luxury Family Vacation:**\n",
      "1. **Quality Time Spent with Family:** The primary benefit is creating lasting memories and strengthening bonds through shared experiences in an enjoyable setting.\n",
      "2. **Experiences of High Value:** A luxurious vacation often includes unique activities, fine dining, exclusive accommodations, which can be enriching for the family's life experience portfolio.\n",
      "3. **Relaxation and Stress Relief:** Luxury travel typically offers a higher level of comfort with spa services, wellness programs, or serene environments that contribute to mental health benefits by reducing stress levels among all members.\n",
      "4. **Educational Opportunities:** Depending on the destination's attractions and activities (e.g., museum visits, historical sites), there can be educational value for children as well as adult family members interested in learning about new cultures or subjects.\n",
      "5. **Supporting Local Economy:** Choosing a luxury vacation often means staying at high-end resorts and dining establishments that may contribute positively to the local economy, especially if they are eco-friendly or support community projects.\n",
      "6. **Network Expansion:** Luxurious settings can provide opportunities for networking with other affluent individuals who share similar interests in traveling luxury vacations and could lead to future collaborative ventures or friendships.\n",
      "7. **Positive Impact on Self-Esteem & Wellbeing:** The achievement of a well-planned, enjoyable family trip can boost self-esteem for all involved due to the successful execution of an ambitious plan and collective satisfaction from shared experiences.\n",
      "8. **Celebration Milestones or Anniversaries:** If there are significant milestones (e.g., anniversaries, birthdays) being celebrated during this vacation timeframe, it can add a special dimension to the trip that makes memories even more meaningful and cherished in retrospect.\n",
      "9. **Inspiration for Future Travel:** The experience of luxury travel might inspire family members about future trips or aspirations related to lifestyle changes (e.g., adopting a similar standard when planning personal vacations).\n",
      "10. **Potential Health Benefits from Relaxation and Novelty Exposure:** The change of environment, coupled with relaxed activities can have positive effects on physical health by reducing the risk factors associated with sedentary lifestyles or stress-related illnesses.\n",
      "\n",
      "**Cons (Drawbacks) for Taking a Luxury Family Vacation:**\n",
      "1. **Financial Cost:** The most significant drawback is often related to cost, as luxury vacations can be expensive and may require substantial savings that could otherwise go towards other family needs or investments.\n",
      "2. **Time Commitment for Planning & Execution:** Luxurious trips typically demand more time in planning (researching destinations, booking flights/accommodation), which might take away from daily responsibilities and quality of life at home during the vacation period itself or before it.\n",
      "3. **Environmental Impact:** High-end travel can have a larger carbon footprint due to frequent flying (if international) and resource consumption, contributing negatively towards environmental sustainability goals if not managed responsibly by choosing eco-friendly options when possible.\n",
      "4. **Cultural Insensitivity or Disconnect:** There's the risk of experiencing a disconnection from local culture due to being in an isolated bubble within luxury accommodations, which can lead to missed opportunities for authentic cultural exchange and learning experiences that are more common with budget travelers who interact closely with locals.\n",
      "5. **Health Risks:** Depending on the destination's health infrastructure or potential exposure risks (e.g., tropical diseases), there may be increased vulnerability to illnesses, especially if not adequately prepared for such scenarios through vaccinations and precautions.\n",
      "6. **Potential Overindulgence:** Luxury vacation experiences can sometimes lead individuals or family members toward overconsumption of resources (e.g., food waste at high-end restaurants, excessive use of amenities), which is not sustainable in the long term and may conflict with personal values regarding conservationism.\n",
      "7. **Pressure to Meet Expectations:** The desire for a perfect vacation experience can create pressure on all family members (especially children) who might feel compelled to meet high expectations, leading potentially to disappointment or stress if things don't go as planned.\n",
      "8. **Risk of Unforeseen Events/Delays:** Luxury travel often involves complex logistics that can be disrupted by unpredictable events such as weather conditions (e.g., hurricanes, snowstorms), airline delays or issues with accommodations; these risks may cause stress and require contingency planning which could detract from the vacation's enjoyment factor.\n",
      "9. **Limited Flexibility:** High-end travel often comes at a premium for flexibility, as luxury packages are typically nonrefundable or have limited options to change plans without incurring additional costs; this can be problematic if family members fall ill during the trip and need time off.\n",
      "10. **Potential Negative Social Comparisons:** There's a chance that others may view luxury vacations as ostentatious or unnecessary, which could lead to feelings of guilt among those who value modesty in their lifestyle choices; this social pressure can affect the overall enjoyment and satisfaction derived from such trips.\n",
      "\n",
      "In conclusion, when evaluating whether a family should take on a luxury vacation using Franklin's Decision-Making Framework, it is crucial to weigh these pros against cons in light of your specific circumstances: financial capacity (both short term impact & long-term savings), values and priorities as they relate to quality time with the family versus other potential uses for funds or resources. Consider also how this decision aligns with broader life goals, such as sustainability commitments, health objectives, educational aspirations, etc., before making a final choice that will contribute positively towards your collective well-being and happiness."
     ]
    }
   ],
   "source": [
    "// You can also use a template to provide more context to the model combining system and user prompts\n",
    "var systemDecisionPrompt = \"\"\"\n",
    "You are a decision intelligence assistant. \n",
    "Your role is to guide users in exploring options, analyzing decisions, solving complex problems, and applying systems thinking to diverse scenarios. \n",
    "Provide structured, logical, and comprehensive advice, ensuring clarity, depth, and actionable insights to support informed decision-making.\n",
    "\"\"\";\n",
    "var benFranklinDecisionPrompt = \"\"\"\n",
    "Apply the Ben Franklin Decision-Making Framework (Pro and Con list) to evaluate whether or not to take a luxury family vacation. \n",
    "\"\"\";\n",
    "\n",
    "var simpleDecisionPromptTemplate = $\"\"\"\n",
    "{systemDecisionPrompt}\n",
    "--------------\n",
    "{benFranklinDecisionPrompt}\n",
    "\"\"\";\n",
    "\n",
    "await foreach (var streamChunk in semanticKernel.InvokePromptStreamingAsync(simpleDecisionPromptTemplate, kernelArguments))\n",
    "{\n",
    "   Console.Write(streamChunk);\n",
    "}"
   ]
  },
  {
   "cell_type": "markdown",
   "metadata": {},
   "source": [
    "### Step 5 - Multiple Different Service Providers  "
   ]
  },
  {
   "cell_type": "markdown",
   "metadata": {},
   "source": [
    "Semantic Kernel can include mutliple AI service providers. This allows for hybrid workflows from a single Semantic Kernel instance like: \n",
    "* Capability Optimization. For example, using SLMs for domain specific tasks and LLMs for complex decision reasoning\n",
    "* Capacity Optimization. Splitting functions, plugins, personas or agents across different AI services\n",
    "* Use AI Service selector dynamically allocate AI service execution resources  "
   ]
  },
  {
   "cell_type": "code",
   "execution_count": 5,
   "metadata": {
    "dotnet_interactive": {
     "language": "csharp"
    },
    "polyglot_notebook": {
     "kernelName": "csharp"
    },
    "vscode": {
     "languageId": "polyglot-notebook"
    }
   },
   "outputs": [
    {
     "data": {
      "text/html": [
       "<div><div></div><div></div><div><strong>Installed Packages</strong><ul><li><span>Microsoft.Extensions.Configuration, 8.0.0</span></li><li><span>Microsoft.Extensions.Configuration.Json, 8.0.0</span></li><li><span>Microsoft.SemanticKernel, 1.22.0</span></li></ul></div></div>"
      ]
     },
     "metadata": {},
     "output_type": "display_data"
    }
   ],
   "source": [
    "// Import the required NuGet configuration packages\n",
    "#r \"nuget: Microsoft.Extensions.Configuration, 8.0.0\"\n",
    "#r \"nuget: Microsoft.Extensions.Configuration.Json, 8.0.0\"\n",
    "#r \"nuget: Microsoft.SemanticKernel, 1.22.0\"\n",
    "\n",
    "using Microsoft.Extensions.Configuration;\n",
    "using System.IO;\n",
    "using Microsoft.SemanticKernel;\n",
    "using Microsoft.SemanticKernel.ChatCompletion;\n",
    "using Microsoft.SemanticKernel.Connectors.OpenAI;\n",
    "\n",
    "// Load the configuration settings from the local.settings.json and secrets.settings.json files\n",
    "// The secrets.settings.json file is used to store sensitive information such as API keys\n",
    "var configurationBuilder = new ConfigurationBuilder()\n",
    "    .SetBasePath(Directory.GetCurrentDirectory())\n",
    "    .AddJsonFile(\"local.settings.json\", optional: true, reloadOnChange: true)\n",
    "    .AddJsonFile(\"secrets.settings.json\", optional: true, reloadOnChange: true);\n",
    "var config = configurationBuilder.Build();\n",
    "\n",
    "// Retrieve the configuration settings for the Azure OpenAI service\n",
    "var azureOpenAIEndpoint = config[\"AzureOpenAI:Endpoint\"];\n",
    "var azureOpenAIAPIKey = config[\"AzureOpenAI:APIKey\"];\n",
    "var azureOpenAIModelDeploymentName = config[\"AzureOpenAI:ModelDeploymentName\"];\n",
    "\n",
    "// Example to build a Kernel with Azure OpenAI and Opensource AI\n",
    "#pragma warning disable SKEXP0010 \n",
    "var semanticKernel = Kernel.CreateBuilder()\n",
    "    .AddAzureOpenAIChatCompletion(\n",
    "        deploymentName: azureOpenAIModelDeploymentName,\n",
    "        endpoint: azureOpenAIEndpoint,\n",
    "        apiKey: azureOpenAIAPIKey)\n",
    "    .AddOpenAIChatCompletion(\n",
    "        modelId: \"Phi-3\",\n",
    "        endpoint: new Uri(\"http://localhost:1234/v1/\"),\n",
    "        apiKey: \"LMStudio\")\n",
    "    .Build();\n",
    "#pragma warning restore SKEXP0010"
   ]
  }
 ],
 "metadata": {
  "kernelspec": {
   "display_name": ".NET (C#)",
   "language": "C#",
   "name": ".net-csharp"
  },
  "language_info": {
   "name": "csharp"
  },
  "polyglot_notebook": {
   "kernelInfo": {
    "defaultKernelName": "csharp",
    "items": [
     {
      "aliases": [],
      "name": "csharp"
     }
    ]
   }
  }
 },
 "nbformat": 4,
 "nbformat_minor": 2
}
