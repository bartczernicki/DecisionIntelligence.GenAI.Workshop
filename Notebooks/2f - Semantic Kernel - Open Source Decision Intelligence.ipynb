{
 "cells": [
  {
   "cell_type": "markdown",
   "metadata": {},
   "source": [
    "<img style=\"float: left;padding-right: 10px\" width =\"40px\" src=\"https://raw.githubusercontent.com/bartczernicki/DecisionIntelligence.GenAI.Workshop/main/Images/SemanticKernelLogo.png\">\n",
    "\n",
    "## Semantic Kernel - Open Source Decision Intelligence"
   ]
  },
  {
   "cell_type": "markdown",
   "metadata": {},
   "source": [
    "Decision Intelligence applied in this module:  \n",
    "* Listing key factors to consider when making a sound decision  \n",
    "* Decision Scenario: Use a decision framework (Ben Franklin's Pro & Con List) to create a decision plan  \n",
    "* Improving Decision Intelligence process by explicitly proving decision frameworks and additional context "
   ]
  },
  {
   "cell_type": "markdown",
   "metadata": {},
   "source": [
    "A recommended enterprise pattern is to scale Articial Intelligence strategy with three key areas:\n",
    "* Commercial AI (OpenAI and other proprietary Generative AI providers)\n",
    "* Open-Source AI (open-source AI providers)\n",
    "* Vendor and Partner AI (i.e. company HR Software, contract software) \n",
    "\n",
    "These three areas together strategically form AI capability and capacity in what I like to refer to as the \"Generative AI Brain\". This is illustrated below with sample providers. For example, an organization may have an existing relationship with Adobe for their graphic design and leverage the built-in Generative AI capabilities rather building their own. \n",
    "\n",
    "<img style=\"display: block; margin: auto;\" width =\"800px\" src=\"https://raw.githubusercontent.com/bartczernicki/DecisionIntelligence.GenAI.Workshop/main/Images/AIBrainPillars.png\">\n",
    "\n",
    "Semantic Kernel embraces AI orchestration across all the pillars mentioned above. It allows all types of models (commercial or proprietary) and almost any APIs to be orchestrated to faciliate enterprise Decision Intelligence."
   ]
  },
  {
   "cell_type": "markdown",
   "metadata": {},
   "source": [
    "### Step 1 - Get Started with LMStudio and Local Open Source AI Models "
   ]
  },
  {
   "cell_type": "markdown",
   "metadata": {},
   "source": [
    "This module highlights how to use local GenAI models (i.e. LLMs) with Semantic Kernel. To illustrate this the Phi-4 model is run locally using LMStudio as a local REST endpoint that will interface with Semantic Kernel orchestration.  \n",
    "\n",
    "Phi-4 is considered an SLM (Small Language Model) with parameters generally below the 27 Billion parameter threshhold. This doesn't mean the model is not capable of performing well. While it certainly may lack the breadth of general knowledge of Large Language Models, Phi-4 makes up for it by providing very capable reasoning capabilities that can rival LLMs. Below is an image illustrating this performance:  \n",
    "<img style=\"display: block; margin: auto;\" width =\"700px\" src=\"https://raw.githubusercontent.com/bartczernicki/DecisionIntelligence.GenAI.Workshop/main/Images/Phi4-Performance.webp\">   \n",
    "\n",
    "Steps to get started:\n",
    "* Download & install LMStudio: https://lmstudio.ai/ (Windows, Mac or Linux) \n",
    "* Run the LMStudio studio application \n",
    "* In the LMStudio application, download the Phi-4 GGUF file. Search for \"Phi-4\" in the \"Discover\" section of LMStudio. A variety of Phi-4 options that are official and unofficial from hobbyists will appear. Typically, selecting the model with the most downloads will provide the best results.  \n",
    "* In the experiment below, the 14B parameter model is being used. LMStudio will inspect your hardware and let you know which quantized version of the model(s) is optimal for your hardware. Note: Even computers with small graphics cards can run these models well locally. Furthermore, laptops such as the Macbook Pro with Neural Engine can run LMStudio local models as well. \n",
    "* Start the LMStudio Server with the Phi-4 model loaded. This will start a local REST endpoint with a URI similar to http://localhost:1234/v1 \n",
    "* The LMStudio local server does not have default security, you can simply check by navigating to this link in any browser to check if a model is loaded: http://localhost:1234/v1/models \n",
    "\n",
    "<img style=\"display: block; margin: auto;\" width =\"700px\" src=\"https://raw.githubusercontent.com/bartczernicki/DecisionIntelligence.GenAI.Workshop/main/Images/LMStudioServer.png\"> "
   ]
  },
  {
   "cell_type": "markdown",
   "metadata": {},
   "source": [
    "### Step 2 - Initialize Configuration Builder & Build the Semantic Kernel Orchestration"
   ]
  },
  {
   "cell_type": "markdown",
   "metadata": {},
   "source": [
    "Execute the next cell to:\n",
    "* Use the Configuration Builder to use the local LMStudio Server  \n",
    "* Use the API configuration to build the Semantic Kernel orchestrator  \n",
    "* Notice there is no security being passed in and it is simply a URL"
   ]
  },
  {
   "cell_type": "code",
   "execution_count": 1,
   "metadata": {
    "dotnet_interactive": {
     "language": "csharp"
    },
    "polyglot_notebook": {
     "kernelName": "csharp"
    },
    "vscode": {
     "languageId": "polyglot-notebook"
    }
   },
   "outputs": [
    {
     "data": {
      "text/html": [
       "<div><div></div><div></div><div><strong>Installed Packages</strong><ul><li><span>Microsoft.Extensions.DependencyInjection, 9.0.0</span></li><li><span>Microsoft.SemanticKernel, 1.45.0</span></li></ul></div></div>"
      ]
     },
     "metadata": {},
     "output_type": "display_data"
    }
   ],
   "source": [
    "#r \"nuget: Microsoft.Extensions.DependencyInjection, 9.0.0\"\n",
    "#r \"nuget: Microsoft.SemanticKernel, 1.45\"\n",
    "\n",
    "using Microsoft.Extensions.DependencyInjection.Extensions;\n",
    "using Microsoft.Extensions.DependencyInjection;\n",
    "using Microsoft.SemanticKernel;\n",
    "using Microsoft.SemanticKernel.ChatCompletion;\n",
    "using Microsoft.SemanticKernel.Connectors.OpenAI;\n",
    "\n",
    "#pragma warning disable SKEXP0010 \n",
    "var semanticKernel = Kernel.CreateBuilder()\n",
    "    .AddOpenAIChatCompletion(\n",
    "        modelId: \"phi4-14b-thinking\",\n",
    "        endpoint: new Uri(\"http://localhost:1234/v1/\"),\n",
    "        apiKey: null)\n",
    "    .Build();\n",
    "#pragma warning restore SKEXP0010\n",
    "\n",
    "// Retrieve the Chat Completion Service\n",
    "var chatCompletionService = semanticKernel.Services.GetRequiredService<IChatCompletionService>();"
   ]
  },
  {
   "cell_type": "markdown",
   "metadata": {},
   "source": [
    "### Step 3 - Open Source AI Models with Decision Intelligence "
   ]
  },
  {
   "cell_type": "markdown",
   "metadata": {},
   "source": [
    "Semantic Kernel allows one to interact with any API service that adheres to the OpenAI specification. Notice the method to add LMStudio capability was simply enabled via the **AddOpenAIChatCompletion** method.\n",
    "\n",
    "Execute the cell below about decision factors for a investment property. Note:\n",
    "* OpenAI Prompt Execution Settings are the same in LMStudio as they are for OpenAI and Azure OpenAI\n",
    "* Passing in arguents works the same way in Semantic Kernel\n",
    "* Streaming works as well in Semantic Kernel for supported services"
   ]
  },
  {
   "cell_type": "markdown",
   "metadata": {},
   "source": [
    "> 📜 \"Don't wait to buy real estate. Buy real estate and wait.\"  \n",
    ">\n",
    "> -- <cite>Will Rodgers (American humorist, actor, and social commentator in the early 20th century)</cite>  "
   ]
  },
  {
   "cell_type": "code",
   "execution_count": 2,
   "metadata": {
    "dotnet_interactive": {
     "language": "csharp"
    },
    "polyglot_notebook": {
     "kernelName": "csharp"
    },
    "vscode": {
     "languageId": "polyglot-notebook"
    }
   },
   "outputs": [
    {
     "name": "stdout",
     "output_type": "stream",
     "text": [
      "When considering purchasing a secondary home as an investment property, it's crucial to conduct thorough due diligence across several key factors to ensure a sound investment decision. Here’s a structured approach to evaluating the critical aspects:\n",
      "\n",
      "### 1. Location Assessment\n",
      "\n",
      "**Criteria:**\n",
      "- **Market Demand:** Research the demand for rental properties in the area. High demand areas often have lower vacancy rates.\n",
      "- **Economic Indicators:** Look at local employment rates, economic growth, and major employers that could influence property demand.\n",
      "- **Amenities and Infrastructure:** Proximity to schools, hospitals, shopping centers, public transport, and other amenities can enhance rental appeal.\n",
      "- **Neighborhood Trends:** Consider crime rates, community development plans, and overall neighborhood stability.\n",
      "\n",
      "**Steps:**\n",
      "- Conduct online research and visit the area to get a firsthand feel of the location.\n",
      "- Analyze local real estate market reports for trends and forecasts.\n",
      "- Engage with local real estate agents or property managers for insights.\n",
      "\n",
      "### 2. Potential Rental Income\n",
      "\n",
      "**Criteria:**\n",
      "- **Comparable Rentals:** Research rental rates for similar properties in the area (comps) to estimate potential income.\n",
      "- **Occupancy Rates:** Check historical occupancy rates to gauge how often properties are rented out.\n",
      "- **Rental Yield:** Calculate the gross rental yield by dividing annual rental income by property value. Aim for a competitive yield relative to other investment opportunities.\n",
      "\n",
      "**Steps:**\n",
      "- Use online platforms and local real estate listings to gather data on current rental prices.\n",
      "- Consult with local property managers or realtors for insights into market rates and trends.\n",
      "- Consider seasonal variations in rental demand if applicable (e.g., vacation rentals).\n",
      "\n",
      "### 3. Financing Options\n",
      "\n",
      "**Criteria:**\n",
      "- **Interest Rates:** Compare mortgage interest rates from different lenders to find the most favorable terms.\n",
      "- **Loan Terms:** Evaluate loan duration, fees, and any prepayment penalties.\n",
      "- **Down Payment Requirements:** Determine how much you need upfront and assess your ability to meet these requirements.\n",
      "\n",
      "**Steps:**\n",
      "- Get pre-approved for a mortgage to understand your borrowing capacity.\n",
      "- Compare offers from multiple lenders, including banks, credit unions, and online mortgage providers.\n",
      "- Consider consulting with a financial advisor to explore the best financing strategy.\n",
      "\n",
      "### 4. Long-term Property Value\n",
      "\n",
      "**Criteria:**\n",
      "- **Appreciation Trends:** Analyze historical property value trends in the area to predict future appreciation potential.\n",
      "- **Development Plans:** Investigate any planned infrastructure or development projects that could impact property values positively or negatively.\n",
      "- **Property Condition:** Assess the current condition of the property and estimate maintenance costs over time.\n",
      "\n",
      "**Steps:**\n",
      "- Review local government planning documents for upcoming developments.\n",
      "- Consult with real estate appraisers or agents familiar with long-term market trends.\n",
      "- Consider hiring a professional inspector to evaluate the property’s condition and potential repair needs.\n",
      "\n",
      "### 5. Associated Risks\n",
      "\n",
      "**Criteria:**\n",
      "- **Market Volatility:** Understand how economic downturns could affect rental demand and property values.\n",
      "- **Regulatory Changes:** Stay informed about local zoning laws, rent control regulations, or changes in tax policies that might impact your investment.\n",
      "- **Environmental Factors:** Consider risks such as natural disasters, flooding, or other environmental concerns specific to the location.\n",
      "\n",
      "**Steps:**\n",
      "- Conduct a SWOT analysis (Strengths, Weaknesses, Opportunities, Threats) for the property and market.\n",
      "- Stay updated on local news and government announcements affecting real estate.\n",
      "- Obtain insurance that covers potential risks specific to the area.\n",
      "\n",
      "### Conclusion\n",
      "\n",
      "By systematically evaluating these factors, you can make an informed decision about purchasing a secondary home as an investment. Balancing financial considerations with market dynamics and property specifics will help mitigate risks and enhance your investment’s potential for success. Engaging professionals like real estate agents, financial advisors, and legal experts throughout the process is also advisable to ensure comprehensive due diligence."
     ]
    }
   ],
   "source": [
    "// Define the system prompt for the Decision Intelligence assistant\n",
    "var systemDecisionPrompt = \"\"\"\n",
    "You are a Decision Intelligence assistant. \n",
    "Assist the user in exploring options, reasoning through decisions, problem-solving, and applying systems thinking to various scenarios. \n",
    "Provide structured, logical, and comprehensive advice.\n",
    "\"\"\";\n",
    "\n",
    "// Create a Decision Intelligence prompt on the topic of purchasing a secondary home as an investment property\n",
    "// Provide detailed decision-making criteria for evaluating the investment decision\n",
    "var simpleDecisionPrompt = \"\"\"\n",
    "You are considering purchasing a secondary home as an investment property. \n",
    "\n",
    "What key factors should you evaluate to ensure a sound investment decision, including financial, market, and property-specific considerations? \n",
    "Outline the critical steps and criteria for assessing location, potential rental income, financing options, long-term property value, and associated risks.\n",
    "\"\"\";\n",
    "\n",
    "// You can set the typical OpenAI settings with most open-source models\n",
    "// Try different settings (Temperature, FrequencyPenalty etc) to see how they affect the quality of the generated text\n",
    "// Note: The settings below are similar to OpenAI API settings. Most OSS models support these settings  \n",
    "var openAIPromptExecutionSettings = new OpenAIPromptExecutionSettings { \n",
    "    MaxTokens = 1000, \n",
    "    Temperature = 0.3, \n",
    "    TopP = 1.0, \n",
    "    FrequencyPenalty = 0.0, \n",
    "    PresencePenalty = 0.0\n",
    "    };\n",
    "KernelArguments kernelArguments = new KernelArguments(openAIPromptExecutionSettings);\n",
    "\n",
    "// Create a new chat history object with proper system and user message roles\n",
    "var chatHistory = new ChatHistory();\n",
    "chatHistory.AddSystemMessage(systemDecisionPrompt);\n",
    "chatHistory.AddUserMessage(simpleDecisionPrompt);\n",
    "\n",
    "var chatResponse = string.Empty;\n",
    "await foreach (var content in chatCompletionService.GetStreamingChatMessageContentsAsync(chatHistory, openAIPromptExecutionSettings))\n",
    "{\n",
    "    chatResponse += content;\n",
    "    Console.Write(content);\n",
    "}\n",
    "\n",
    "// Add the assistant's response to the chat history\n",
    "// This allows you to maintain the context of the conversation for future messages\n",
    "chatHistory.AddAssistantMessage(chatResponse);"
   ]
  },
  {
   "cell_type": "markdown",
   "metadata": {},
   "source": [
    "Advanced Prompt Engineering techniques can be applied to OSS (open-source) models as well. In the example below a more advanced reasoning decision prompt will be used to provide additional instructions to the GenAI model."
   ]
  },
  {
   "cell_type": "code",
   "execution_count": 3,
   "metadata": {
    "dotnet_interactive": {
     "language": "csharp"
    },
    "polyglot_notebook": {
     "kernelName": "csharp"
    },
    "vscode": {
     "languageId": "polyglot-notebook"
    }
   },
   "outputs": [
    {
     "name": "stdout",
     "output_type": "stream",
     "text": [
      "To assist you in deciding whether to purchase a secondary home as an investment property, we'll follow a structured approach to ensure all relevant factors are considered.\n",
      "\n",
      "### Understand the Problem\n",
      "You're considering purchasing a secondary home for investment purposes. This involves evaluating financial viability, market conditions, potential returns, and personal circumstances.\n",
      "\n",
      "### Break Down the Reasoning Process\n",
      "\n",
      "1. **Define Objectives:**\n",
      "   - Determine your primary goals (e.g., rental income, capital appreciation, tax benefits).\n",
      "   - Assess how this purchase aligns with your overall investment strategy.\n",
      "\n",
      "2. **Market Research:**\n",
      "   - Analyze the real estate market in the desired location.\n",
      "   - Look at trends such as property value growth, rental demand, and vacancy rates.\n",
      "   - Consider economic factors that might impact the market (e.g., employment rates, local development projects).\n",
      "\n",
      "3. **Financial Analysis:**\n",
      "   - Calculate initial costs including purchase price, closing costs, and any renovations needed.\n",
      "   - Estimate ongoing expenses like maintenance, taxes, insurance, and property management fees.\n",
      "   - Project potential rental income based on comparable properties in the area.\n",
      "\n",
      "4. **Risk Assessment:**\n",
      "   - Identify risks such as market downturns, unexpected repairs, or changes in tax laws.\n",
      "   - Consider your risk tolerance and how this investment fits within your portfolio.\n",
      "\n",
      "5. **Legal and Tax Implications:**\n",
      "   - Understand property ownership laws in the location.\n",
      "   - Consult with a tax advisor to understand potential deductions and liabilities.\n",
      "\n",
      "6. **Personal Circumstances:**\n",
      "   - Evaluate your ability to manage a second home, especially if it's not nearby.\n",
      "   - Consider how this investment fits with your lifestyle and long-term plans.\n",
      "\n",
      "7. **Alternative Options:**\n",
      "   - Explore other investment opportunities that might offer similar or better returns with less risk (e.g., REITs, stocks).\n",
      "\n",
      "### Explain Each Step\n",
      "\n",
      "- **Objectives:** Clearly defining your goals helps ensure the property aligns with your financial strategy.\n",
      "  \n",
      "- **Market Research:** Understanding market dynamics is crucial for predicting future performance and ensuring a sound investment.\n",
      "\n",
      "- **Financial Analysis:** A thorough cost-benefit analysis will reveal whether the potential returns justify the investment.\n",
      "\n",
      "- **Risk Assessment:** Identifying risks allows you to prepare contingency plans and decide if the investment aligns with your risk profile.\n",
      "\n",
      "- **Legal and Tax Implications:** Being aware of legal requirements and tax implications helps avoid unexpected costs or compliance issues.\n",
      "\n",
      "- **Personal Circumstances:** Ensuring the property fits into your lifestyle prevents future stress or dissatisfaction.\n",
      "\n",
      "- **Alternative Options:** Considering other investments ensures you're choosing the best option for your financial goals.\n",
      "\n",
      "### Arrive at the Final Answer\n",
      "\n",
      "After evaluating all these factors, if the analysis shows a strong potential for meeting your investment objectives with manageable risks and costs, purchasing the property could be a sound decision. However, if uncertainties or misalignments with your goals are significant, exploring other opportunities might be more prudent.\n",
      "\n",
      "### Review the Thought Process\n",
      "\n",
      "- **Objectives:** Are they clearly defined?\n",
      "- **Market Research:** Is it comprehensive and current?\n",
      "- **Financial Analysis:** Are all costs and potential incomes accounted for?\n",
      "- **Risk Assessment:** Have major risks been identified and considered?\n",
      "- **Legal/Tax Implications:** Are you aware of all legal requirements and tax impacts?\n",
      "- **Personal Circumstances:** Does the investment fit your lifestyle?\n",
      "- **Alternative Options:** Have they been thoroughly evaluated?\n",
      "\n",
      "### Communicate Using the Minto Pyramid Principle\n",
      "\n",
      "1. **Conclusion:**\n",
      "   - Purchase a secondary home as an investment if it aligns with your financial goals, market conditions are favorable, and risks are manageable.\n",
      "\n",
      "2. **Reasoning:**\n",
      "   - Market research indicates potential for rental income and property appreciation.\n",
      "   - Financial analysis shows positive cash flow after accounting for all expenses.\n",
      "   - Risk assessment confirms manageable risks within your tolerance level.\n",
      "   - Legal and tax implications are understood and accounted for.\n",
      "   - Personal circumstances allow for effective management of the property.\n",
      "\n",
      "3. **Supporting Details:**\n",
      "   - Objectives include generating rental income and long-term capital growth.\n",
      "   - Market trends show a stable or growing demand for rentals in the area.\n",
      "   - Financial projections indicate a positive net operating income.\n",
      "   - Risks such as market fluctuations are mitigated by diversification strategies.\n",
      "   - Legal requirements are straightforward, with manageable tax implications.\n",
      "\n",
      "By following this structured approach, you can make an informed decision about purchasing a secondary home as an investment property."
     ]
    }
   ],
   "source": [
    "// Define the system prompt for the Decision Intelligence assistant\n",
    "var systemDecisionPrompt = \"\"\"\n",
    "You are a Decision Intelligence assistant. \n",
    "Assist the user in exploring options, reasoning through decisions, problem-solving, and applying systems thinking to various scenarios. \n",
    "Provide structured, logical, and comprehensive advice.\n",
    "\"\"\";\n",
    "\n",
    "// Create a Decision Intelligence prompt on the topic of purchasing a secondary home as an investment property\n",
    "// Use Chain of Thought to prompt the OSS model\n",
    "// Use the Minto Pyramid to communicate the decision \n",
    "var advancedDecisionPrompt = \"\"\"\n",
    "You are considering purchasing a secondary home as an investment property. \n",
    "\n",
    "Before providing any answer, you must: \n",
    "Understand the Problem: Carefully read and understand the user's question or request. \n",
    "Break Down the Reasoning Process: Outline the steps required to solve the problem or respond to the request logically and sequentially. Think aloud and describe each step in detail. \n",
    "Always aim to make your thought process transparent and logical. \n",
    "Explain Each Step: Provide reasoning or calculations for each step, explaining how you arrive at each part of your answer. \n",
    "Provide structured, logical, and comprehensive advice. \n",
    "Arrive at the Final Answer: Only after completing all steps, provide the final answer or solution. \n",
    "Review the Thought Process: Double-check the reasoning for errors or gaps before finalizing your response. \n",
    "Communicate the final decision using the Minto Pyramid Principle.\n",
    "\"\"\";\n",
    "\n",
    "// You can set the typical OpenAI settings with most open-source models\n",
    "// Try different settings (Temperature, FrequencyPenalty etc) to see how they affect the quality of the generated text\n",
    "// Note: The settings below are similar to OpenAI API settings. Most OSS models support these settings  \n",
    "var openAIPromptExecutionSettings = new OpenAIPromptExecutionSettings { \n",
    "    MaxTokens = 1000, \n",
    "    Temperature = 0.3, \n",
    "    TopP = 1.0, \n",
    "    FrequencyPenalty = 0.0, \n",
    "    PresencePenalty = 0.0\n",
    "    };\n",
    "KernelArguments kernelArguments = new KernelArguments(openAIPromptExecutionSettings);\n",
    "\n",
    "// Create a new chat history object with proper system and user message roles\n",
    "var chatHistoryAdvancedDecisionPrompt = new ChatHistory();\n",
    "chatHistoryAdvancedDecisionPrompt.AddSystemMessage(systemDecisionPrompt);\n",
    "chatHistoryAdvancedDecisionPrompt.AddUserMessage(advancedDecisionPrompt);\n",
    "\n",
    "var chatResponse = string.Empty;\n",
    "await foreach (var content in chatCompletionService.GetStreamingChatMessageContentsAsync(chatHistoryAdvancedDecisionPrompt, openAIPromptExecutionSettings))\n",
    "{\n",
    "    chatResponse += content;\n",
    "    Console.Write(content);\n",
    "}\n",
    "\n",
    "// Add the assistant's response to the chat history\n",
    "// This allows you to maintain the context of the conversation for future messages\n",
    "chatHistoryAdvancedDecisionPrompt.AddAssistantMessage(chatResponse);"
   ]
  },
  {
   "cell_type": "markdown",
   "metadata": {},
   "source": [
    "### Step 4 - Open Source AI Models with Ben Franklin Decision Framework "
   ]
  },
  {
   "cell_type": "markdown",
   "metadata": {},
   "source": [
    "> 📜 \"By failing to prepare, you are preparing to fail.\" \n",
    ">\n",
    "> -- <cite>Ben Franklin (Founding Father of the United States, inventor, godfather of Decision Science)</cite> \n",
    "\n",
    "<img style=\"display: block; margin: auto;\" width =\"700px\" src=\"https://raw.githubusercontent.com/bartczernicki/Articles/main/20230326-Make-Great-Decisions-Using-Ben-Franklins-Pros-And-Cons-Method/Image-BenFranklinDecisionMakingMethod.png\">"
   ]
  },
  {
   "cell_type": "markdown",
   "metadata": {},
   "source": [
    "#### Tom Brady's use of a Decision Framework"
   ]
  },
  {
   "cell_type": "markdown",
   "metadata": {},
   "source": [
    "Tom Brady's decision to join the Tampa Bay Buccaneers in 2020 marked a significant in his legendary NFL career. After 20 seasons and six Super Bowl championships with the New England Patriots, Brady became a free agent and chose to sign with the Bucs. How did he arrive at this decision? On the Fox broadcast on 09.29.2024, while covering the Buccaneers vs Philadelphia Eagles game, Tom Brady described how he arrived at this decision.\n",
    "\n",
    "In the screenshot below, Tom Brady is holding up some small paper cards he is showing the audience of the broadcast. Brady mentioned he wrote down the personal decision criteria that was important and how each team compared in that criteria (salary, weather etc). He used this to select the Tampa Bay Buccaneers as his team, where he went on to win a Super Bowl in his first year there! **After 250 years since it's inception, Tom Brady used the \"Ben Franklin Decision Framework\" to decide where to play NFL quaterback!!**  \n",
    "\n",
    "> 📜 \"There was a lot of reasons to choose Tampa, and I made about 18 criteria why, and there was things all the way from salary, obviously, to the weather to the facilities to how great the players were...\"\n",
    ">\n",
    "> -- <cite>Tom Brady (7-time Super Bowl Champion, Hall of Fame NFL Quaterback)</cite> \n",
    "\n",
    "<img style=\"display: block; margin: auto;\" width =\"700px\" src=\"https://raw.githubusercontent.com/bartczernicki/DecisionIntelligence.GenAI.Workshop/main/Images/Scenarios/OpenSourceDecisionIntelligence-BenFranklinDecisionFramework-TomBrady.png\">"
   ]
  },
  {
   "cell_type": "markdown",
   "metadata": {},
   "source": [
    "#### Steps for Ben Franklin's Decision Framework"
   ]
  },
  {
   "cell_type": "markdown",
   "metadata": {},
   "source": [
    "Below are the steps Ben Franklin recommends when making a decision, which he called his \"Decision Making Method of Moral Algebra\":  \n",
    "- Frame a decision that has two options (Yes or a No)\n",
    "- Divide an area into two competing halves: a \"Pro\" side and \"Con\" side\n",
    "- Label the top of one side \"Pro\" (for) and the other \"Con\" (against)\n",
    "- Under each respective side, over a period of time (Ben Franklin recommended days, this could be minutes) write down various reasons/arguments that support (Pro) or are against (Con) the decision\n",
    "- After spending some time thinking exhaustively and writing down the reasons, weight the different Pro and Con reasons/arguments\n",
    "- Determine the relative importance of each reason or argument. This is done by taking reasons/arguments that are of similar value (weight) and crossing them off of the other competing half. Multiple reasons can be combined from one side to form a \"subjective\" value (weight) to balance out the other half. (For example, two medium \"Pro\" reasons might add up to an equal value of a single important \"Con\" reason)\n",
    "- The side with the most remaining reasons is the option one should select for the decision in question\n",
    "\n",
    "Learn more about Ben Franklin's Decision Framework: https://medium.com/@bartczernicki/make-great-decisions-using-ben-franklins-decision-making-method-c7fb8b17905c  "
   ]
  },
  {
   "cell_type": "markdown",
   "metadata": {},
   "source": [
    "#### Decision Scenario - Should a Family Take a Luxury Vacation"
   ]
  },
  {
   "cell_type": "markdown",
   "metadata": {},
   "source": [
    "Should a family take a luxury family vacation this year? Just like Brady mapped out whether joining the Bucs would satisfy his key personal and professional goals, you can list the factors that matter most for your family—budget, timing, destination climate, activities for the kids—and lay them out on your own “decision cards.” Weigh each component carefully, just as Brady weighed his NFL future. Because if it worked to land Brady in Tampa (where he won yet another Super Bowl), imagine what it can do for a family’s dream getaway.\n",
    "\n",
    "<img style=\"display: block; margin: auto;\" width =\"700px\" src=\"https://raw.githubusercontent.com/bartczernicki/DecisionIntelligence.GenAI.Workshop/main/Images/Scenarios/Scenario-Vacation.png\">"
   ]
  },
  {
   "cell_type": "code",
   "execution_count": 4,
   "metadata": {
    "dotnet_interactive": {
     "language": "csharp"
    },
    "polyglot_notebook": {
     "kernelName": "csharp"
    },
    "vscode": {
     "languageId": "polyglot-notebook"
    }
   },
   "outputs": [
    {
     "name": "stdout",
     "output_type": "stream",
     "text": [
      "The Ben Franklin Decision-Making Framework is a simple yet effective method for evaluating decisions by listing the advantages (pros) and disadvantages (cons). Here's how you can apply this framework to assess whether or not to take a luxury family vacation:\n",
      "\n",
      "### Pros of Taking a Luxury Family Vacation\n",
      "\n",
      "1. **Quality Time Together**: Provides an opportunity for the family to bond, create memories, and strengthen relationships.\n",
      "2. **Stress Relief**: Offers a break from daily routines and responsibilities, allowing everyone to relax and rejuvenate.\n",
      "3. **Cultural Exposure**: Exposes family members, especially children, to new cultures, languages, and experiences, fostering learning and growth.\n",
      "4. **Adventure and Excitement**: Provides unique experiences that can be exciting and enriching for all ages.\n",
      "5. **Health Benefits**: Encourages physical activity through activities like swimming, hiking, or exploring new places.\n",
      "6. **Photographic Memories**: Creates lasting memories captured in photos and videos to cherish for years.\n",
      "7. **Educational Opportunities**: Offers educational experiences such as visiting museums, historical sites, or natural wonders.\n",
      "8. **Celebration**: Can serve as a special occasion celebration (e.g., birthdays, anniversaries) that makes the event more memorable.\n",
      "9. **Improved Mood**: The anticipation and experience of travel can boost overall mood and happiness for family members.\n",
      "10. **Networking Opportunities**: Provides chances to meet new people and expand social networks.\n",
      "\n",
      "### Cons of Taking a Luxury Family Vacation\n",
      "\n",
      "1. **High Cost**: Luxury vacations can be expensive, potentially straining the family budget or leading to financial stress.\n",
      "2. **Time Away from Work/Family**: Requires taking time off work or leaving other responsibilities unattended, which might not be feasible for everyone.\n",
      "3. **Travel Stress**: The logistics of travel (flights, accommodations, transportation) can be stressful and exhausting.\n",
      "4. **Health Risks**: Traveling to certain destinations may pose health risks due to different climates, diseases, or food safety concerns.\n",
      "5. **Environmental Impact**: Luxury vacations often have a higher carbon footprint due to air travel and high consumption of resources.\n",
      "6. **Differences in Interests**: Family members might have differing interests, leading to potential conflicts about activities or destinations.\n",
      "7. **Potential for Conflict**: Close quarters and extended time together can sometimes exacerbate family tensions or disagreements.\n",
      "8. **Safety Concerns**: Depending on the destination, there may be safety concerns related to crime or political instability.\n",
      "9. **Disruption of Routine**: Traveling disrupts daily routines, which might negatively affect children's education or work schedules.\n",
      "10. **Post-Vacation Blues**: Returning from a luxurious vacation can lead to feelings of disappointment or difficulty readjusting to normal life.\n",
      "\n",
      "### Conclusion\n",
      "\n",
      "By weighing these pros and cons, you can better assess whether the benefits of taking a luxury family vacation outweigh the potential drawbacks for your specific situation. Consider factors such as financial stability, time availability, health considerations, and personal preferences when making your decision."
     ]
    }
   ],
   "source": [
    "// Define the system prompt for the Decision Intelligence assistant\n",
    "var systemDecisionPrompt = \"\"\"\n",
    "You are a decision intelligence assistant. \n",
    "Your role is to guide users in exploring options, analyzing decisions, solving complex problems, and applying systems thinking to diverse scenarios. \n",
    "Provide structured, logical, and comprehensive advice, ensuring clarity, depth, and actionable insights to support informed decision-making.\n",
    "\"\"\";\n",
    "var benFranklinLuxuryVacationDecisionPrompt = \"\"\"\n",
    "Apply the Ben Franklin Decision-Making Framework (Pro and Con list) to evaluate whether or not to take a luxury family vacation. \n",
    "List at most 10 pros and at most 10 cons to help the user make an informed decision.\n",
    "\"\"\";\n",
    "\n",
    "var openAIPromptExecutionSettings = new OpenAIPromptExecutionSettings { \n",
    "    MaxTokens = 1000, \n",
    "    Temperature = 0.3, \n",
    "    TopP = 1.0, \n",
    "    FrequencyPenalty = 0.0, \n",
    "    PresencePenalty = 0.0\n",
    "    };\n",
    "KernelArguments kernelArguments = new KernelArguments(openAIPromptExecutionSettings);\n",
    "\n",
    "// Create a new chat history object with proper system and user message roles\n",
    "var chatHistoryLuxuryVacationDecision = new ChatHistory();\n",
    "chatHistoryLuxuryVacationDecision.AddSystemMessage(systemDecisionPrompt);\n",
    "chatHistoryLuxuryVacationDecision.AddUserMessage(benFranklinLuxuryVacationDecisionPrompt);\n",
    "\n",
    "var chatResponse = string.Empty;\n",
    "await foreach (var content in chatCompletionService.GetStreamingChatMessageContentsAsync(chatHistoryLuxuryVacationDecision, openAIPromptExecutionSettings))\n",
    "{\n",
    "    chatResponse += content;\n",
    "    Console.Write(content);\n",
    "}\n",
    "\n",
    "// Add the assistant's response to the chat history\n",
    "// This allows you to maintain the context of the conversation for future messages\n",
    "chatHistoryLuxuryVacationDecision.AddAssistantMessage(chatResponse);"
   ]
  },
  {
   "cell_type": "markdown",
   "metadata": {},
   "source": [
    "#### Improving the Ben Franklin's Decision Framework with SLMs"
   ]
  },
  {
   "cell_type": "markdown",
   "metadata": {},
   "source": [
    "Notice that the output above may not be exactly what most would anticipate. The Ben Franklin framework was not fully understood nor applied. Open-Source GenAI models that have a small amount of parameters (< 13 billion parameters) may not have all the inherent knowledge \"trained\" into the model. The exception being domain-specific models that are only trained on data sets for that domain. Those models can have a great deal of knowledge, while maintaining a small amount of parameters. \n",
    "\n",
    "One simple way to improve the outcome is to provide the explicit steps of the \"Ben Franklin Decision Framework\" into the prompt context. This basically provides the instructions of the decision framework directly to the model; regardless if the GenAI model was trained with decision framework data.  \n",
    "\n",
    "In the example below, the prompt context is provided with the Ben Franklin Decision Framework steps. Contrast this with the example above, where the decision recommendation is not clear. "
   ]
  },
  {
   "cell_type": "code",
   "execution_count": 5,
   "metadata": {
    "dotnet_interactive": {
     "language": "csharp"
    },
    "polyglot_notebook": {
     "kernelName": "csharp"
    },
    "vscode": {
     "languageId": "polyglot-notebook"
    }
   },
   "outputs": [
    {
     "name": "stdout",
     "output_type": "stream",
     "text": [
      "To apply the Ben Franklin Decision Framework to your question about taking a luxury family vacation, let's follow each step systematically:\n",
      "\n",
      "### Frame the Decision\n",
      "- **Decision:** Should I take a luxury family vacation?\n",
      "  - **Option 1 (Yes):** Take the luxury family vacation.\n",
      "  - **Option 2 (No):** Do not take the luxury family vacation.\n",
      "\n",
      "### Divide into Pro and Con Sides\n",
      "\n",
      "#### Pro Side: Reasons for Taking the Luxury Family Vacation\n",
      "1. **Memorable Experience:** Create lasting memories with family.\n",
      "2. **Quality Time Together:** Strengthen family bonds through shared experiences.\n",
      "3. **Relaxation and Stress Relief:** Enjoy a break from daily routines and responsibilities.\n",
      "4. **Cultural Exposure:** Learn about new cultures, cuisines, and traditions.\n",
      "5. **Adventure and Excitement:** Engage in activities that are exciting and unique.\n",
      "6. **Health Benefits:** Physical activity through sightseeing or recreational sports can improve health.\n",
      "7. **Inspiration and Creativity Boost:** New environments can inspire creativity and fresh perspectives.\n",
      "8. **Educational Opportunity for Children:** Educational experiences outside the classroom.\n",
      "9. **Networking Opportunities:** Meet new people and expand social connections.\n",
      "10. **Personal Reward:** Treat yourself and your family to a special experience.\n",
      "\n",
      "#### Con Side: Reasons Against Taking the Luxury Family Vacation\n",
      "1. **Cost:** High expense may strain personal or family finances.\n",
      "2. **Time Away from Work/Responsibilities:** Potential disruption in work commitments or other responsibilities.\n",
      "3. **Environmental Impact:** Air travel and tourism can contribute to carbon footprint.\n",
      "4. **Health Risks:** Possible exposure to illnesses, especially with children.\n",
      "5. **Logistical Challenges:** Planning and coordinating schedules for everyone involved.\n",
      "6. **Potential Conflicts:** Family disagreements may arise during the trip.\n",
      "7. **Opportunity Cost:** Money spent on vacation could be used elsewhere (e.g., savings, investments).\n",
      "8. **Unpredictable Weather or Events:** Potential for travel disruptions due to weather or unforeseen events.\n",
      "9. **Safety Concerns:** Safety risks depending on destination.\n",
      "10. **Post-Vacation Adjustment:** Time needed to readjust after returning home.\n",
      "\n",
      "### Consider the Weight of Each Reason\n",
      "\n",
      "- **Pro Side:**\n",
      "  - Combine \"Memorable Experience\" and \"Quality Time Together\" for significant emotional value.\n",
      "  - Pair \"Relaxation and Stress Relief\" with \"Health Benefits\" as both contribute to well-being.\n",
      "  - Match \"Cultural Exposure\" with \"Educational Opportunity for Children\" due to their educational value.\n",
      "\n",
      "- **Con Side:**\n",
      "  - Combine \"Cost\" and \"Opportunity Cost\" for significant financial impact.\n",
      "  - Pair \"Time Away from Work/Responsibilities\" with \"Logistical Challenges\" as both affect planning and commitments.\n",
      "  - Match \"Environmental Impact\" with \"Safety Concerns\" due to potential long-term consequences.\n",
      "\n",
      "### Determine the Relative Importance\n",
      "\n",
      "- **Pro Side:**\n",
      "  - The combination of emotional, educational, and health benefits holds substantial weight.\n",
      "  - Adventure, inspiration, and personal reward provide unique value that is hard to quantify but significant.\n",
      "\n",
      "- **Con Side:**\n",
      "  - Financial impact (cost and opportunity cost) is a major consideration.\n",
      "  - Health risks and safety concerns are critical factors for family well-being.\n",
      "\n",
      "### Conclusion\n",
      "\n",
      "After weighing the reasons:\n",
      "\n",
      "- **Pro Side Remaining Reasons:** Memorable Experience + Quality Time, Relaxation + Health Benefits, Cultural Exposure + Educational Opportunity, Adventure/Excitement, Inspiration/Creativity, Networking, Personal Reward.\n",
      "- **Con Side Remaining Reasons:** Cost + Opportunity Cost, Time Away from Work + Logistical Challenges, Environmental Impact + Safety Concerns, Health Risks, Potential Conflicts, Unpredictable Events, Post-Vacation Adjustment.\n",
      "\n",
      "The Pro side has more remaining reasons that collectively offer significant emotional and experiential value. Therefore, based on the Ben Franklin Decision Framework, you should **take the luxury family vacation**. This decision is supported by the greater number of compelling reasons favoring the experience and benefits it offers."
     ]
    }
   ],
   "source": [
    "// Define the system prompt for the Decision Intelligence assistant\n",
    "var systemDecisionPrompt = \"\"\"\n",
    "You are a decision intelligence assistant. \n",
    "Your role is to guide users in exploring options, analyzing decisions, solving complex problems, and applying systems thinking to diverse scenarios. \n",
    "Provide structured, logical, and comprehensive advice, ensuring clarity, depth, and actionable insights to support informed decision-making.\n",
    "\"\"\";\n",
    "\n",
    "var explicitBenFranklinDecisionPrompt = \"\"\"\n",
    "Apply the following steps IN ORDER of the Ben Franklin Decision Framework to the Question below:\n",
    "- Frame a decision that has two options (Yes or a No)\n",
    "- Divide an area into two competing halves: a \"Pro\" side and \"Con\" side\n",
    "- Label the top of one side \"Pro\" (for) and the other \"Con\" (against)\n",
    "- Under each respective side, list a maximum of 10 reasons or arguments for each option\n",
    "- Consider the weight of each reason or argument. This is done by taking reasons/arguments that are of similar value (weight) and crossing them off of the other competing half. Multiple reasons can be combined from one side to form a \"subjective\" value (weight) to balance out the other half. (For example, two medium \"Pro\" reasons might add up to an equal value of a single important \"Con\" reason)\n",
    "- Determine the relative importance of each reason or argument. This is done by taking reasons/arguments that are of similar value (weight) and crossing them off of the other competing half. Multiple reasons can be combined from one side to form a \"subjective\" value (weight) to balance out the other half. (For example, two medium \"Pro\" reasons might add up to an equal value of a single important \"Con\" reason)\n",
    "- The side with the most remaining reasons is the option one should select for the decision in question\n",
    "- IMPORTANT: ALWAYS recommend a decision based on the side with the most reasons, even if the reasons are of lesser value than the other side!\n",
    "\n",
    "Question: Should I take a luxury family vacation?\n",
    "\"\"\";\n",
    "\n",
    "var openAIPromptExecutionSettings = new OpenAIPromptExecutionSettings { \n",
    "    MaxTokens = 1000, \n",
    "    Temperature = 0.3, \n",
    "    TopP = 1.0, \n",
    "    FrequencyPenalty = 0.0, \n",
    "    PresencePenalty = 0.0\n",
    "    };\n",
    "KernelArguments kernelArguments = new KernelArguments(openAIPromptExecutionSettings);\n",
    "\n",
    "// Create a new chat history object with proper system and user message roles\n",
    "var chatHistoryLuxuryVacationDecisionUsingBenFranklinFramework = new ChatHistory();\n",
    "chatHistoryLuxuryVacationDecisionUsingBenFranklinFramework.AddSystemMessage(systemDecisionPrompt);\n",
    "chatHistoryLuxuryVacationDecisionUsingBenFranklinFramework.AddUserMessage(explicitBenFranklinDecisionPrompt);\n",
    "\n",
    "var chatResponse = string.Empty;\n",
    "await foreach (var content in chatCompletionService.GetStreamingChatMessageContentsAsync(chatHistoryLuxuryVacationDecisionUsingBenFranklinFramework, openAIPromptExecutionSettings))\n",
    "{\n",
    "    chatResponse += content;\n",
    "    Console.Write(content);\n",
    "}\n",
    "\n",
    "// Add the assistant's response to the chat history\n",
    "// This allows you to maintain the context of the conversation for future messages\n",
    "chatHistoryLuxuryVacationDecisionUsingBenFranklinFramework.AddAssistantMessage(chatResponse);"
   ]
  },
  {
   "cell_type": "markdown",
   "metadata": {
    "dotnet_interactive": {
     "language": "csharp"
    },
    "polyglot_notebook": {
     "kernelName": "csharp"
    }
   },
   "source": [
    "The GenAI model may or may not recommend a luxury vacation, but this can be dramatically improved further! Imagine if the GenAI model had access to: your finances, current stress level, the last time you took a vacation, any upcoming major purchases, family dynamic?!  \n",
    "\n",
    "In the example below, additional context is provided with that information. Notice how it changes the the Pro and Con list.  \n",
    "\n",
    "Just like Tom Brady, it could craft a Pro and Con list specific and personalized to your scenario!"
   ]
  },
  {
   "cell_type": "code",
   "execution_count": 6,
   "metadata": {
    "dotnet_interactive": {
     "language": "csharp"
    },
    "polyglot_notebook": {
     "kernelName": "csharp"
    },
    "vscode": {
     "languageId": "polyglot-notebook"
    }
   },
   "outputs": [
    {
     "name": "stdout",
     "output_type": "stream",
     "text": [
      "To apply the Ben Franklin Decision Framework to your situation regarding whether you should take a luxury family vacation, let's follow each step systematically:\n",
      "\n",
      "### Frame the Decision\n",
      "- **Option 1:** Yes, take a luxury family vacation.\n",
      "- **Option 2:** No, do not take a luxury family vacation.\n",
      "\n",
      "### Divide into Pro and Con Sides\n",
      "\n",
      "#### Pro Side: Reasons for Taking a Luxury Family Vacation\n",
      "1. **Stress Relief:** You have been stressed out at work and need a break to recharge.\n",
      "2. **Family Bonding:** It's an opportunity to spend quality time with your family before your kids enter college.\n",
      "3. **Mental Health:** A vacation can improve mental health, reducing stress from long working hours.\n",
      "\n",
      "#### Con Side: Reasons Against Taking a Luxury Family Vacation\n",
      "1. **Financial Constraints:** Your kids are about to enter college without scholarships, and finances are tight.\n",
      "2. **Investment Considerations:** You're considering purchasing an investment property, which requires financial resources.\n",
      "3. **Car Expenses:** Your car is finishing its lease soon, necessitating another expense for a replacement.\n",
      "\n",
      "### Weigh the Reasons\n",
      "\n",
      "#### Pro Side\n",
      "- Stress Relief + Family Bonding = High importance due to immediate mental health benefits and family time (combined weight).\n",
      "- Mental Health = Moderate importance as it supports long-term well-being.\n",
      "\n",
      "#### Con Side\n",
      "- Financial Constraints (college costs) = Very high importance because of the significant impact on your children's future.\n",
      "- Investment Considerations = High importance, as this could affect long-term financial stability.\n",
      "- Car Expenses = Moderate importance due to upcoming necessity but potentially manageable with budgeting.\n",
      "\n",
      "### Determine Relative Importance\n",
      "\n",
      "1. **Cross Off Similar Weights:**\n",
      "   - Combine Pro reasons (Stress Relief + Family Bonding) against Con reason (Financial Constraints for college).\n",
      "   - Mental Health on the Pro side is of moderate weight and can be balanced by Car Expenses on the Con side.\n",
      "   \n",
      "2. **Remaining Reasons:**\n",
      "   - Pro Side: No remaining strong reasons after balancing with Financial Constraints.\n",
      "   - Con Side: Investment Considerations remains as a significant reason.\n",
      "\n",
      "### Conclusion\n",
      "\n",
      "The \"Con\" side has more substantial reasons left, particularly due to financial constraints related to your children's college expenses and the need for investment in an additional property. Therefore, based on the Ben Franklin Decision Framework, you should **not** take a luxury family vacation at this time. Instead, consider alternative ways to manage stress that are less financially demanding."
     ]
    }
   ],
   "source": [
    "// Define the system prompt for the Decision Intelligence assistant\n",
    "var systemDecisionPrompt = \"\"\"\n",
    "You are a decision intelligence assistant. \n",
    "Your role is to guide users in exploring options, analyzing decisions, solving complex problems, and applying systems thinking to diverse scenarios. \n",
    "Provide structured, logical, and comprehensive advice, ensuring clarity, depth, and actionable insights to support informed decision-making.\n",
    "\"\"\";\n",
    "// Try changing the background information to see how it affects the decision-making process\n",
    "var backroundInformation = \"\"\"\n",
    "BACKGROUND INFORMATION OF FAMILY: \n",
    "You are considering purchasing a secondary home as an investment property. \n",
    "You have been stressed out at work. \n",
    "You have been working long hours and have not taken a vacation in over a year. \n",
    "Your kids are about to enter college and they don't have scholarships. \n",
    "Your car is finishing its lease and will need to be replaced soon. \n",
    "\"\"\";\n",
    "// Try to adjust the specificity of the decision-making criteria to see how it affects the decision-making process\n",
    "var explicitBenFranklinDecisionPrompt = \"\"\"\n",
    "Apply the following steps IN ORDER of the Ben Franklin Decision Framework to the Question below:\n",
    "- Frame a decision that has two options (Yes or a No)\n",
    "- Divide an area into two competing halves: a \"Pro\" side and \"Con\" side\n",
    "- Label the top of one side \"Pro\" (for) and the other \"Con\" (against)\n",
    "- Under each respective side, list the relevvant reasons from \"BACKGROUND INFORMATION OF FAMILY\" section and or create new reasons that are ONLY closely related to the \"BACKGROUND INFORMATION OF FAMILY\". \n",
    "- Consider the weight of each reason or argument. This is done by taking reasons/arguments that are of similar value (weight) and crossing them off of the other competing half. Multiple reasons can be combined from one side to form a \"subjective\" value (weight) to balance out the other half. (For example, two medium \"Pro\" reasons might add up to an equal value of a single important \"Con\" reason)\n",
    "- Determine the relative importance of each reason or argument. This is done by taking reasons/arguments that are of similar value (weight) and crossing them off of the other competing half. Multiple reasons can be combined from one side to form a \"subjective\" value (weight) to balance out the other half. (For example, two medium \"Pro\" reasons might add up to an equal value of a single important \"Con\" reason)\n",
    "- The side with the most remaining reasons is the option one should select for the decision in question\n",
    "- IMPORTANT: ALWAYS recommend a decision based on the side with the most reasons, even if the reasons are of lesser value than the other side!\n",
    "\n",
    "Question: Should I take a luxury family vacation?\n",
    "\"\"\";\n",
    "\n",
    "var openAIPromptExecutionSettings = new OpenAIPromptExecutionSettings { \n",
    "    MaxTokens = 1000, \n",
    "    Temperature = 0.3, \n",
    "    TopP = 1.0, \n",
    "    FrequencyPenalty = 0.0, \n",
    "    PresencePenalty = 0.0\n",
    "    };\n",
    "KernelArguments kernelArguments = new KernelArguments(openAIPromptExecutionSettings);\n",
    "\n",
    "// Create a new chat history object with proper system and user message roles\n",
    "var chatHistoryLuxuryVacationDecisionWithBackground = new ChatHistory();\n",
    "chatHistoryLuxuryVacationDecisionWithBackground.AddSystemMessage(backroundInformation);\n",
    "chatHistoryLuxuryVacationDecisionWithBackground.AddUserMessage(backroundInformation);\n",
    "chatHistoryLuxuryVacationDecisionWithBackground.AddUserMessage(explicitBenFranklinDecisionPrompt);\n",
    "\n",
    "var chatResponse = string.Empty;\n",
    "await foreach (var content in chatCompletionService.GetStreamingChatMessageContentsAsync(chatHistoryLuxuryVacationDecisionWithBackground, openAIPromptExecutionSettings))\n",
    "{\n",
    "    chatResponse += content;\n",
    "    Console.Write(content);\n",
    "}\n",
    "\n",
    "// Add the assistant's response to the chat history\n",
    "// This allows you to maintain the context of the conversation for future messages\n",
    "chatHistoryLuxuryVacationDecisionWithBackground.AddAssistantMessage(chatResponse);"
   ]
  },
  {
   "cell_type": "markdown",
   "metadata": {},
   "source": [
    "Notice how providing personal family background information changes the entire dynamic of the information used in the decision framework and how it influences the recommended decision. The decision process is more specific not only to the scenario, but also it provides contextual background information. This makes the decision process more personalized and potentially much more accurate! "
   ]
  },
  {
   "cell_type": "markdown",
   "metadata": {},
   "source": [
    "### Step 5 - Open Source AI Models with Commercial AI Providers  "
   ]
  },
  {
   "cell_type": "markdown",
   "metadata": {},
   "source": [
    "Semantic Kernel can include mutliple AI service providers. This allows for hybrid workflows from a single Semantic Kernel instance like: \n",
    "* Capability Optimizations: Use SLMs for domain specific tasks and LLMs for complex decision reasoning\n",
    "* Decision Optimizations: Apply an (ensemble) decision self-consitency pattern  \n",
    "* Capacity Optimizations: Splitting functions, plugins, personas or agents across different AI services"
   ]
  },
  {
   "cell_type": "code",
   "execution_count": 7,
   "metadata": {
    "dotnet_interactive": {
     "language": "csharp"
    },
    "polyglot_notebook": {
     "kernelName": "csharp"
    },
    "vscode": {
     "languageId": "polyglot-notebook"
    }
   },
   "outputs": [
    {
     "data": {
      "text/html": [
       "<div><div></div><div></div><div><strong>Installed Packages</strong><ul><li><span>Microsoft.Extensions.Configuration, 9.0.0</span></li><li><span>Microsoft.Extensions.Configuration.Json, 9.0.0</span></li><li><span>Microsoft.SemanticKernel, 1.45.0</span></li></ul></div></div>"
      ]
     },
     "metadata": {},
     "output_type": "display_data"
    }
   ],
   "source": [
    "// Import the required NuGet configuration packages\n",
    "#r \"nuget: Microsoft.Extensions.Configuration, 9.0.0\"\n",
    "#r \"nuget: Microsoft.Extensions.Configuration.Json, 9.0.0\"\n",
    "#r \"nuget: Microsoft.SemanticKernel, 1.45.0\"\n",
    "\n",
    "using Microsoft.Extensions.Configuration.Json;\n",
    "using Microsoft.Extensions.Configuration;\n",
    "using System.IO;\n",
    "\n",
    "// Load the configuration settings from the local.settings.json and secrets.settings.json files\n",
    "// The secrets.settings.json file is used to store sensitive information such as API keys\n",
    "var configurationBuilder = new ConfigurationBuilder()\n",
    "    .SetBasePath(Directory.GetCurrentDirectory())\n",
    "    .AddJsonFile(\"local.settings.json\", optional: true, reloadOnChange: true)\n",
    "    .AddJsonFile(\"secrets.settings.json\", optional: true, reloadOnChange: true);\n",
    "var config = configurationBuilder.Build();\n",
    "\n",
    "// Retrieve the configuration settings for the Azure OpenAI service\n",
    "var azureOpenAIEndpoint = config[\"AzureOpenAI:Endpoint\"];\n",
    "var azureOpenAIAPIKey = config[\"AzureOpenAI:APIKey\"];\n",
    "var azureOpenAIModelDeploymentName = config[\"AzureOpenAI:ModelDeploymentName\"];\n",
    "\n",
    "// Example to build a Kernel with Azure OpenAI and Opensource AI\n",
    "#pragma warning disable SKEXP0010 \n",
    "var semanticKernel = Kernel.CreateBuilder()\n",
    "    .AddAzureOpenAIChatCompletion(\n",
    "        modelId: azureOpenAIModelDeploymentName,\n",
    "        deploymentName: azureOpenAIModelDeploymentName,\n",
    "        endpoint: azureOpenAIEndpoint,\n",
    "        apiKey: azureOpenAIAPIKey)\n",
    "    .AddOpenAIChatCompletion(\n",
    "        modelId: \"Phi-4\",\n",
    "        endpoint: new Uri(\"http://localhost:1234/v1/\"),\n",
    "        apiKey: \"LMStudio\")\n",
    "    .Build();\n",
    "#pragma warning restore SKEXP0010"
   ]
  }
 ],
 "metadata": {
  "kernelspec": {
   "display_name": ".NET (C#)",
   "language": "C#",
   "name": ".net-csharp"
  },
  "language_info": {
   "name": "csharp"
  },
  "polyglot_notebook": {
   "kernelInfo": {
    "defaultKernelName": "csharp",
    "items": [
     {
      "aliases": [],
      "name": "csharp"
     }
    ]
   }
  }
 },
 "nbformat": 4,
 "nbformat_minor": 2
}
