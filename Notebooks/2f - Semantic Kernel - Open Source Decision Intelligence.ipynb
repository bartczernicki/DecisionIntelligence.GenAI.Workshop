{
 "cells": [
  {
   "cell_type": "markdown",
   "metadata": {},
   "source": [
    "<div style=\"display: flex; align-items: center;\">\n",
    "  <img src=\"https://raw.githubusercontent.com/bartczernicki/DecisionIntelligence.GenAI.Workshop/main/Images/DecisionIntelligenceSemanticKernelLogo.png\" width=\"60px\" style=\"margin-right: 10px;\">\n",
    "  <span style=\"font-size: 1.5em; font-weight: bold;\">Semantic Kernel - Open Source Decision Intelligence</span>\n",
    "</div>"
   ]
  },
  {
   "cell_type": "markdown",
   "metadata": {},
   "source": [
    "Decision Intelligence applied in this module:  \n",
    "* Listing key factors to consider when making a sound decision  \n",
    "* Using OSS (open-source) reasoning models to optimize the decision approach \n",
    "* Decision Scenario: Use a decision framework (Ben Franklin's Pro & Con List) to create a decision plan  \n",
    "* Improving Decision Intelligence process by explicitly proving decision frameworks and additional context "
   ]
  },
  {
   "cell_type": "markdown",
   "metadata": {},
   "source": [
    "A recommended enterprise pattern is to scale Articial Intelligence strategy with three key areas:\n",
    "* Commercial AI (OpenAI and other proprietary Generative AI providers)\n",
    "* Open-Source AI (open-source AI providers)\n",
    "* Vendor and Partner AI (i.e. company HR Software, contract software) \n",
    "\n",
    "These three areas together strategically form AI capability and capacity in what I like to refer to as the \"Generative AI Brain\". This is illustrated below with sample providers. For example, an organization may have an existing relationship with Adobe for their graphic design and leverage the built-in Generative AI capabilities rather building their own. \n",
    "\n",
    "<img style=\"display: block; margin: auto;\" width =\"800px\" src=\"https://raw.githubusercontent.com/bartczernicki/DecisionIntelligence.GenAI.Workshop/main/Images/AIBrainPillars.png\">\n",
    "\n",
    "Semantic Kernel embraces AI orchestration across all the pillars mentioned above. It allows all types of models (commercial or proprietary) and almost any APIs to be orchestrated to faciliate enterprise Decision Intelligence."
   ]
  },
  {
   "cell_type": "markdown",
   "metadata": {},
   "source": [
    "----\n",
    "### Step 1 - Get Started with LMStudio and Local Open Source AI Models "
   ]
  },
  {
   "cell_type": "markdown",
   "metadata": {},
   "source": [
    "This module highlights how to use local GenAI models (i.e. LLMs) with Semantic Kernel. To illustrate this a model from the Phi-4 family will be selected to run locally using LMStudio as a local REST endpoint that will interface with Semantic Kernel orchestration.  \n",
    "\n",
    "The Phi-4 family of models are considered an SLMs (Small Language Models) with parameters generally below the 27 Billion parameter threshhold. This doesn't mean these models are not capable of performing well. While it certainly may lack the breadth of general knowledge of Large Language Models, Phi-4 models make up for it by providing very capable logic, math and reasoning capabilities that can rival frontier LLMs. Below is an image illustrating this performance:  \n",
    "<img style=\"display: block; margin: auto;\" width =\"700px\" src=\"https://raw.githubusercontent.com/bartczernicki/DecisionIntelligence.GenAI.Workshop/main/Images/Phi4-Performance.webp\">  \n",
    "\n",
    "The Phi-4 family of models doesn't include just general purpose capabilities. In April 2025, the Phi-4 family introduced specialized reasoning models. These reasoning models have an \"inner monologue\" that asks additional further qualifying questions before returning an answer. \n",
    "\n",
    "Below is a data visualization of the performance of selected Phi-4-Reasoning models. The accuracy distribution illustrates the variance in performance from 50 independent runs from the AIME 2025 problem solving data set (https://artofproblemsolving.com/wiki/index.php/2025_AIME_I). Notice that the base Phi-4-Reasoning model and the Phi-4-Reasoning-Plus model offer an accuracy the approaches OpenAI's o3-mini model, which up until April 2025 was one the best performing reasoning models available commercially. This has significant implications as Phi-4-Reasoning models are only 14 billion parameters and can be run on simple commodity (gaming workstation, laptops with GPUs) hardware! For more information, please visit the Phi-4-Reasoning models technical report: https://arxiv.org/pdf/2504.21318 \n",
    "<img style=\"display: block; margin: auto;\" width =\"700px\" src=\"https://raw.githubusercontent.com/bartczernicki/DecisionIntelligence.GenAI.Workshop/main/Images/Phi-4-Reasoning-Benchmark.png\">  \n",
    "\n",
    "\n",
    "The bottom line is the small size, reasoning performance and friendly open-source license makes Phi-4 reasoning models ideal for Decision Intelligence with Artifical Intelligence, where the quality of the approach is critical to great decision outcomes. "
   ]
  },
  {
   "cell_type": "markdown",
   "metadata": {},
   "source": [
    "Steps to get started:\n",
    "* Download & install the latest LMStudio version: https://lmstudio.ai/ (Windows, Mac or Linux) \n",
    "* Run the LMStudio studio application \n",
    "* In the LMStudio application, download the Phi-4-Reasoning GGUF file. Search for \"Phi-4-Reasoning\" in the \"Discover\" section of LMStudio. A variety of Phi-4-Reasoning options that are official and unofficial from hobbyists will appear. Typically, selecting the model with the most downloads will provide the best results. You can select different quantizations of the model, to optimize the performance  \n",
    "* In the experiment below, the 14B parameter model is being used. LMStudio will inspect your hardware and let you know which quantized version of the model(s) is optimal for your hardware. Note: Even computers with small graphics cards can run these models well locally. Furthermore, laptops such as the Macbook Pro with Neural Engine can run LMStudio local models as well. \n",
    "* Start the LMStudio Server with the Phi-4 model loaded. This will start a local REST endpoint with a URI similar to http://localhost:1234/v1 \n",
    "* The LMStudio local server does not have default security, you can simply check by navigating to this link in any browser to check if a model is loaded: http://localhost:1234/v1/models \n",
    "\n",
    "<img style=\"display: block; margin: auto;\" width =\"700px\" src=\"https://raw.githubusercontent.com/bartczernicki/DecisionIntelligence.GenAI.Workshop/main/Images/LMStudioServer.png\"> "
   ]
  },
  {
   "cell_type": "markdown",
   "metadata": {},
   "source": [
    "----\n",
    "### Step 2 - Initialize Configuration Builder & Build the Semantic Kernel Orchestration"
   ]
  },
  {
   "cell_type": "markdown",
   "metadata": {},
   "source": [
    "Execute the next cell to:\n",
    "* Use the Configuration Builder to use the local LMStudio Server  \n",
    "* Use the API configuration to build the Semantic Kernel orchestrator  \n",
    "* Notice there is no security being passed in and it is simply a URL"
   ]
  },
  {
   "cell_type": "code",
   "execution_count": 11,
   "metadata": {
    "dotnet_interactive": {
     "language": "csharp"
    },
    "polyglot_notebook": {
     "kernelName": "csharp"
    }
   },
   "outputs": [
    {
     "data": {
      "text/html": [
       "<div><div></div><div></div><div><strong>Installed Packages</strong><ul><li><span>Microsoft.Extensions.DependencyInjection, 9.0.6</span></li><li><span>Microsoft.SemanticKernel, 1.60.0</span></li></ul></div></div>"
      ]
     },
     "metadata": {},
     "output_type": "display_data"
    }
   ],
   "source": [
    "#r \"nuget: Microsoft.Extensions.DependencyInjection, 9.0.6\"\n",
    "#r \"nuget: Microsoft.SemanticKernel, 1.60.0\"\"\n",
    "\n",
    "using System.Net.Http;\n",
    "using Microsoft.Extensions.DependencyInjection.Extensions;\n",
    "using Microsoft.Extensions.DependencyInjection;\n",
    "using Microsoft.SemanticKernel;\n",
    "using Microsoft.SemanticKernel.ChatCompletion;\n",
    "using Microsoft.SemanticKernel.Connectors.OpenAI;\n",
    "\n",
    "// Create a custom HttpClient for the AI service\n",
    "// Certain models (especially those running on CPUs) may require longer timeouts, so we set it to 300 seconds\n",
    "var aiHttpClient = new HttpClient();\n",
    "aiHttpClient.Timeout = TimeSpan.FromSeconds(300);\n",
    "\n",
    "var semanticKernel = Kernel.CreateBuilder()\n",
    "    .AddOpenAIChatCompletion(\n",
    "        modelId: \"microsoft/phi-4-mini-reasoning\",  // Put in the name of your model i.e. qwen3-30b-a3b\n",
    "        endpoint: new Uri(\"http://localhost:1234/v1/\"),\n",
    "        apiKey: null,\n",
    "        httpClient: aiHttpClient)\n",
    "    .Build();\n",
    "\n",
    "// Retrieve the Chat Completion Service\n",
    "var chatCompletionService = semanticKernel.Services.GetRequiredService<IChatCompletionService>();"
   ]
  },
  {
   "cell_type": "markdown",
   "metadata": {},
   "source": [
    "---\n",
    "### Step 3 - Open Source AI with Decision Intelligence "
   ]
  },
  {
   "cell_type": "markdown",
   "metadata": {},
   "source": [
    "Semantic Kernel allows one to interact with any API service that adheres to the OpenAI specification. Notice the method to add LMStudio capability was simply enabled via the **AddOpenAIChatCompletion** method above. \n",
    "\n",
    "Execute the cell below about decision factors for a investment property. Note:\n",
    "* OpenAI Prompt Execution Settings are the same in LMStudio as they are for OpenAI and Azure OpenAI\n",
    "* OSS models have specific model cards identifying best practices \n",
    "* OSS reasoning models will output their reasoning tokens inside the <think> XML tags\n",
    "* Passing in arguents works the same way in Semantic Kernel as other models \n",
    "* Streaming works as well in Semantic Kernel for supported services "
   ]
  },
  {
   "cell_type": "markdown",
   "metadata": {},
   "source": [
    "> 📝 **Note:** It is important to note that different model providers (commercial and open-source) have different recommended general settings that have been tested. While different types of AI systems will require optimizing these settings, recommended settings are a good starting point."
   ]
  },
  {
   "cell_type": "code",
   "execution_count": 12,
   "metadata": {
    "dotnet_interactive": {
     "language": "csharp"
    },
    "polyglot_notebook": {
     "kernelName": "csharp"
    }
   },
   "outputs": [
    {
     "data": {
      "text/markdown": [
       "### Internal Reasoning (Thinking)"
      ]
     },
     "metadata": {},
     "output_type": "display_data"
    },
    {
     "data": {
      "text/markdown": [
       "<think>\n",
       "\n",
       "Okay, so I need to figure out the key factors for investing in a secondary home. Let me start by breaking down the problem into sections based on the categories mentioned: location, rental income, financing, property value, and risks. \n",
       "\n",
       "First, evaluating the location. Location is crucial because it affects demand for rental property. Maybe I should look at areas that are popular vacation spots, near growing cities, or places with amenities like schools, parks, shops. Also, zoning laws come into play—can I actually rent out the property? Some areas might have deed restrictions or homeowners' associations that limit rentals. Then there's the economic stability of the location, like job growth rates or tourism trends.\n",
       "\n",
       "Next, potential rental income. I need to estimate the rent, but also consider seasonality if it's a vacation property versus long-term rentals. Long-term could mean more consistent rent but higher management fees, while short-term might bring in more per season but less steady income. Current market rates are important here—what's the going rental price in the area? Also, property-specific features like views, number of bedrooms, bathrooms, pool access. Maybe renovations required to make it rentable? Plus legal requirements for rentals in the area.\n",
       "\n",
       "Financing options. How do I fund this investment? Loan terms, interest rates, down payments needed. Comparing different lenders or financing routes like traditional mortgages, vacant property loans (if applicable), or maybe personal savings. Also tax considerations—like deductions for mortgage interest, property taxes, maintenance, etc. Cash flow analysis: net income after all expenses.\n",
       "\n",
       "Long-term property value. Appreciation potential based on the area's growth trends. Maybe look at historical property values over 5-10 years. Are there infrastructure projects coming that might boost value? Any planned developments or changes in the neighborhood? Maintenance costs over time, property taxes, and potential repair issues like foundation problems or outdated HVAC systems.\n",
       "\n",
       "Associated risks. Market volatility—if tourism crashes, rental demand drops. Liquidity risk if I can't sell quickly enough if I need to exit. Liability risks like accidents or property damage during rentals. Also personal risks, maybe zoning changes that affect rental ability in the future. Financing risk if interest rates rise or there's default possibility.\n",
       "\n",
       "Wait, did I miss anything? Maybe regulatory risks—like changes in rental laws. Also competition from other rentals or nearby properties. Personal time commitment if managing the property versus outsourcing to a company.\n",
       "\n",
       "I should organize these into bullet points or sections, maybe as categories with subpoints. Then arrange them in the table required for the answer. The user wants a Markdown table, so each main category (Location, Rental Income, Financing, Property Value, Risks) with rows for the critical steps and criteria.\n",
       "\n",
       "Need to make sure each cell in the table has concise points without markdown formatting, just plain text. Check that headers are only ### when needed, no other headings.\n",
       "\n",
       "Double-checking each section: Location includes demand drivers, legal restrictions, economic factors. Rental Income covers rental yield, seasonality, competition, operating expenses. Financing looks at costs, terms, tax impacts. Property Value assesses appreciation potential and repair needs. Risks cover market volatility, legal/labour issues, personal factors.\n",
       "\n",
       "Also ensure that the table has proper alignment: headers on the first row, content in subsequent rows. Each section's key criteria are bullet points or short phrases separated by |.\n",
       "\n",
       "Maybe check examples to make sure formatting is correct. For instance, a table with \"Factor\" | \"Details\". Then rows for each section and sub-factors.\n",
       "\n",
       "Yes, this seems comprehensive. Now structure the table accordingly.\n",
       "\n"
      ]
     },
     "metadata": {},
     "output_type": "display_data"
    },
    {
     "name": "stdout",
     "output_type": "stream",
     "text": [
      "----------------------------------------------\n",
      "----------------------------------------------\n"
     ]
    },
    {
     "data": {
      "text/markdown": [
       "### Final Output"
      ]
     },
     "metadata": {},
     "output_type": "display_data"
    },
    {
     "data": {
      "text/markdown": [
       "\n",
       "\n",
       "### Key Factors for Evaluating a Secondary Home Investment\n",
       "\n",
       "| **Factor**       | **Criteria/Steps**                                                                 |\n",
       "|-------------------|---------------------------------------------------------------------------------|\n",
       "| **Location**      | - **Demand Drivers**: Analyze population growth, tourism trends, school proximity, amenities (parks, shops). <br> - **Zoning Restrictions**: Check deed covenants or HOA rules limiting rentals. <br> - **Economic Stability**: Assess job growth, property values trends, infrastructure projects. |\n",
       "| **Rental Income** | - **Market Rates**: Compare local rental prices for similar properties. <br> - **Seasonality Impact**: Evaluate if the property will generate consistent income (e.g., vacation vs. long-term rentals). <br> - **Operating Expenses**: Estimate maintenance, property management fees, vacancy rates. |\n",
       "| **Financing Options** | - **Loan Terms**: Compare interest rates, loan durations (e.g., fixed-rate mortgages). <br> - **Down Payment Requirements**: Calculate initial equity needed. <br> - **Tax Advantages**: Assess eligibility for mortgage interest, property tax deductions. |\n",
       "| **Property Value**  | - **Appreciation Potential**: Analyze historical price trends (5-10 years). <br> - **Renovation Costs**: Estimate repairs, upgrades, or structural issues (e.g., foundation, HVAC). <br> - **Tax Assessments**: Verify property tax assessments versus market value. |\n",
       "| **Risks**         | - **Market Volatility**: Evaluate tourism sector stability, local economic downturn risks. <br> - **Liquidity Risk**: Consider exit speed if selling the property. <br> - **Legal/Regulatory Risks**: Monitor changes in rental laws, zoning restrictions. <br> - **Personal Liability**: Assess risks of accidents, property damage during rentals. |\n",
       "\n",
       "### Notes:\n",
       "- Ensure sub-factors are aligned with the primary category (e.g., all \"Demand Drivers\" under **Location**).\n",
       "- Use additional rows for nuanced criteria (e.g., seasonal rental yield, vacancy rates in a column).\n",
       "- Verify no markdown formatting issues by testing table syntax and adhering to the instruction of **no horizontal lines**."
      ]
     },
     "metadata": {},
     "output_type": "display_data"
    }
   ],
   "source": [
    "// Define the system prompt for the Decision Intelligence assistant\n",
    "var systemDecisionPrompt = \"\"\"\n",
    "You are a Decision Intelligence assistant. \n",
    "Assist the user in exploring options, reasoning through decisions, problem-solving, and applying systems thinking to various scenarios. \n",
    "Provide structured, logical, and comprehensive advice.\n",
    "\n",
    "Output Formatting Instructions:\n",
    "When generating Markdown, do not use any headings higher than ###. \n",
    "Avoid # and ## headers. Use only ###, ####, or lower-level headings if necessary. \n",
    "All top-level section headers should start at ### or lower. \n",
    "Never use ---, ***, or ___ for horizontal lines. There should be no horizontal lines in the output.\n",
    "For separation, use extra extra spacing. Do not any render horizontal lines.\n",
    "\n",
    "Format the response using only a Markdown table. Only return a Markdown table. \n",
    "Do not enclose the table in triple backticks.\n",
    "\"\"\";\n",
    "\n",
    "// Create a Decision Intelligence prompt on the topic of purchasing a secondary home as an investment property\n",
    "// Provide detailed decision-making criteria for evaluating the investment decision\n",
    "var simpleDecisionPrompt = \"\"\"\n",
    "You are considering purchasing a secondary home as an investment property. \n",
    "\n",
    "What key factors should you evaluate to ensure a sound investment decision, including financial, \n",
    "market, and property-specific considerations? \n",
    "Outline the critical steps and criteria for assessing location, potential rental income, \n",
    "financing options, long-term property value, and associated risks. \n",
    "\"\"\";\n",
    "\n",
    "// Note 1: Different OSS models have different capabilities and settings\n",
    "// Phi-4 Model Card Recommendations: https://huggingface.co/microsoft/Phi-4-reasoning \n",
    "// Note 2: The settings below are similar to OpenAI API settings. Most OSS models support these settings  \n",
    "// Note 3: The reasoning plus models are designed to be much more verbose in their thinking. Extra tokens will be required! \n",
    "var openAIPromptExecutionSettings = new OpenAIPromptExecutionSettings { \n",
    "    MaxTokens = 6000, \n",
    "    Temperature = 0.8, \n",
    "    TopP = 0.95,\n",
    "    };\n",
    "KernelArguments kernelArguments = new KernelArguments(openAIPromptExecutionSettings);\n",
    "\n",
    "// Note: Reasoning models like Phi-4-Reasoning and DeepSeek-R1 expose their reasoning processes very transparently.\n",
    "// The code below demonstrates how to use the <think> tag to capture the reasoning process. \n",
    "// This reasoning process clearly will influence the final decision recommendation. \n",
    "\n",
    "// Create a new chat history object with proper system and user message roles\n",
    "// Note: Open-Source APIs that use the ChatCompletions API can use the same Semantic Kernel chat history objects\n",
    "var chatHistory = new ChatHistory();\n",
    "chatHistory.AddSystemMessage(systemDecisionPrompt);\n",
    "chatHistory.AddUserMessage(simpleDecisionPrompt);\n",
    "\n",
    "var chatResponse = string.Empty;\n",
    "\n",
    "// Render Markdown or stream the chat completion response\n",
    "var renderMarkdown = true;\n",
    "if (renderMarkdown)\n",
    "{\n",
    "    // Get the chat completion response as a single content object\n",
    "    var chatResponse = await chatCompletionService.GetChatMessageContentAsync(chatHistory, openAIPromptExecutionSettings);\n",
    "    var chatResponseString = chatResponse.Content;\n",
    "\n",
    "    string endTag = \"</think>\";\n",
    "    // Split into at most 2 chunks; the delimiter itself is discarded.\n",
    "    string[] parts = chatResponseString.Split(endTag, 2, StringSplitOptions.None);\n",
    "\n",
    "    // Defensive checks\n",
    "    string internalThinking  = parts.Length > 0 ? parts[0] : string.Empty; // text inside <think> … (without </think>)\n",
    "    string finalOutput   = parts.Length > 1 ? parts[1] : string.Empty; // everything that follows the tag\n",
    "\n",
    "    \"### Internal Reasoning (Thinking)\".DisplayAs(\"text/markdown\");\n",
    "    internalThinking.DisplayAs(\"text/markdown\");\n",
    "    Console.WriteLine(\"----------------------------------------------\");\n",
    "    Console.WriteLine(\"----------------------------------------------\");\n",
    "    \"### Final Output\".DisplayAs(\"text/markdown\");\n",
    "    finalOutput.DisplayAs(\"text/markdown\");\n",
    "}\n",
    "else\n",
    "{\n",
    "    await foreach (var content in chatCompletionService.GetStreamingChatMessageContentsAsync(chatHistory, openAIPromptExecutionSettings))\n",
    "    {\n",
    "        // Clearly seperate the thinking process from the final answer\n",
    "        var contentString = content.ToString().Replace(@\"</think>\", \n",
    "            @\"</think>\" + \"End of Internal Reasoning (Thinking)\" + Environment.NewLine + \"--------------------------\" + Environment.NewLine + Environment.NewLine);\n",
    "        chatResponse += contentString;\n",
    "        Console.Write(contentString);\n",
    "    }\n",
    "}\n",
    "\n",
    "// Add the assistant's response to the chat history\n",
    "// This allows you to maintain the context of the conversation for future messages\n",
    "chatHistory.AddAssistantMessage(chatResponse);"
   ]
  },
  {
   "cell_type": "markdown",
   "metadata": {},
   "source": [
    "---\n",
    "### Step 4 - Open Source AI with Decision Intelligence (Advanced)"
   ]
  },
  {
   "cell_type": "markdown",
   "metadata": {},
   "source": [
    "> 📜 **_\"Don't wait to buy real estate. Buy real estate and wait.\"_**\n",
    ">\n",
    "> -- <cite>Will Rodgers (American humorist, actor, and social commentator in the early 20th century)</cite>  "
   ]
  },
  {
   "cell_type": "markdown",
   "metadata": {},
   "source": [
    "Advanced Prompt Engineering techniques can be applied to OSS (open-source) models as well. In the example below a more advanced reasoning decision prompt will be used to provide additional instructions to the GenAI model. Reasoning models do a nice job in approaching the problem with an inner monologue, however you can provide additional instructions for the model to consider as they are thinking about an approach.  "
   ]
  },
  {
   "cell_type": "code",
   "execution_count": 13,
   "metadata": {
    "dotnet_interactive": {
     "language": "csharp"
    },
    "polyglot_notebook": {
     "kernelName": "csharp"
    }
   },
   "outputs": [
    {
     "data": {
      "text/markdown": [
       "### Internal Reasoning (Thinking)"
      ]
     },
     "metadata": {},
     "output_type": "display_data"
    },
    {
     "data": {
      "text/markdown": [
       "<think>\n",
       "Okay, let me try to work through this problem step by step. The user wants to know if buying a secondary home as an investment property is a good idea. I need to explore all the factors involved here.\n",
       "\n",
       "First, I should understand what an investment property is. It's a property that's rented out to generate profit, right? So the key factors here are the return on investment (ROI), expenses involved like maintenance, property taxes, mortgage payments, and vacancies.\n",
       "\n",
       "Hmm, let me start by breaking down the costs. They need to figure out how much money they can spend on the property versus what returns they'll get. That sounds like calculating monthly mortgage payments, property taxes, maintenance costs, and maybe insurance. Then there's the rent income from tenants.\n",
       "\n",
       "Wait, they should also consider location because property values and rental rates vary by area. A secondary home in a prime market might be more expensive but could yield higher rental income. Also, tax implications—some states offer deductions for mortgage interest and property taxes.\n",
       "\n",
       "Risk assessment is another aspect. Are there any vacancies typical in the area? If it's a vacation home, maybe vacant periods are longer, which would reduce rental income. Liquidity is also important—if they need the property as an asset, but it's rented out, that's illiquidity.\n",
       "\n",
       "Tax considerations: passive activity loss rules might come into play. If the property isn't rented enough to meet the qualifying number of days, they could lose some tax benefits. Also, depreciation recapture when selling after several years.\n",
       "\n",
       "Capital appreciation is another factor. Real estate in good locations tends to appreciate, which could mean profit even if rental yields are low.\n",
       "\n",
       "They should compare this investment against other investments like real estate funds, REITs, or the stock market. Maybe diversification is key here—spending all in one property versus spreading risk.\n",
       "\n",
       "I need to structure this properly using the Minto Pyramid Principle, which means breaking down each component systematically. Let me outline the sections: Costs, Income, Expenses, Location Factors, Tax Implications, Alternative Investments, and Final Decision.\n",
       "\n",
       "Wait, the user wants a structured answer in a Markdown table without any headers or horizontal lines. So just provide the final table after all steps. But first, make sure each step is covered logically.\n",
       "\n",
       "Double-checking the calculations: mortgage rates, down payments affecting monthly payments, local vacancy rates. Are there any other fees or permits required for owning a second home? Maybe homeowners association fees if applicable.\n",
       "\n",
       "Also, considering property management: do they plan to manage the rentals themselves or hire a company? That adds to the costs.\n",
       "\n",
       "Time value of money: is this more like paying cash for a primary home versus investing in property? The time factor matters—how long they plan to hold the investment.\n",
       "\n",
       "Legal structure: forming an LLC for tax purposes might be beneficial. Does the user understand state-specific regulations?\n",
       "\n",
       "Lastly, personal enjoyment versus pure investment return. If they use it as a vacation home, maybe the non-monetary benefits are part of the decision, which isn't just financial.\n",
       "\n",
       "After going through all these factors methodically, putting together a table summarizing the key points would help them decide. The final answer should guide based on their specific circumstances, emphasizing that consulting a financial advisor is crucial for personalized advice.\n"
      ]
     },
     "metadata": {},
     "output_type": "display_data"
    },
    {
     "name": "stdout",
     "output_type": "stream",
     "text": [
      "----------------------------------------------\n",
      "----------------------------------------------\n"
     ]
    },
    {
     "data": {
      "text/markdown": [
       "### Final Output"
      ]
     },
     "metadata": {},
     "output_type": "display_data"
    },
    {
     "data": {
      "text/markdown": [
       "\n",
       "\n",
       "Below is the structured analysis using the Minto Pyramid Principle, formatted as requested:\n",
       "\n",
       "| **Factor**         | **Details & Considerations**                                                                 |\n",
       "|---------------------|---------------------------------------------------------------------------------------------|\n",
       "| **Monthly Costs**  | - Mortgage payments<br>-$ Property taxes<br>-$ Insurance<br>-$ Maintenance<br>-$ Management fees (if applicable) | \n",
       "| **Rental Income**  | - Monthly rent revenue (based on local market rates)<br>-$ Seasonality adjustments (vacation season demand)                |\n",
       "| **Vacancy Rate**   | - Average vacant days/year (reduces annual income)                                              |\n",
       "| **Tax Impact**     | - Deductions (mortgage interest, property taxes)<br>-$ Passive activity loss rules<br>-$ Depreciation recapture on sale | \n",
       "| **Market Growth**  | - Property appreciation in the area (historical ROI trends)                                  |\n",
       "| **Risk Factors**  | - Liquidity constraints<br>-$ Local market volatility (e.g., tourism fluctuations)                   |\n",
       "| **Alternative Investments** | - Compare yields from stocks, REITs, mutual funds, rental properties                          |\n",
       "| **Personal Usage** | - Vacation use vs. full investment property (affects expenses and personal utility)                |\n",
       "\n",
       "---\n",
       "\n",
       "**Final Answer Using Minto Pyramid Principle:**  \n",
       "- **Core Decision Layer (Foundation):** Calculate the *net annual return* by subtracting total costs (mortgage, taxes, maintenance) from rental income adjusted for vacancy rates. If positive and exceeds comparable market returns (e.g., real estate funds: **>8%**), proceed.  \n",
       "- **Larger Layers (Options):** \n",
       "  1. Consult a financial advisor to tailor the analysis to your tax, risk, and time horizons.\n",
       "  2. Consider legal structure (e.g., LLC) for liability protection.\n",
       "  3. Factor in non-monetary benefits (e.g., personal enjoyment, privacy).  \n",
       "\n",
       "**Conclusion:** Proceed if the investment meets your financial goals and risk tolerance after validating all factors. Final decision depends on localized market data, personal circumstances, and professional advice.  \n",
       "\n",
       "\\boxed{\\text{Proceed with investment if net return > comparable alternatives, after validating all factors and consulting a financial advisor.}}"
      ]
     },
     "metadata": {},
     "output_type": "display_data"
    }
   ],
   "source": [
    "// Define the system prompt for the Decision Intelligence assistant\n",
    "var systemDecisionPrompt = \"\"\"\n",
    "You are a Decision Intelligence assistant. \n",
    "Assist the user in exploring options, reasoning through decisions, problem-solving, and applying systems thinking to various scenarios. \n",
    "Provide structured, logical, and comprehensive advice.\n",
    "\n",
    "Output Formatting Instructions:\n",
    "When generating Markdown, do not use any headings higher than ###. \n",
    "Avoid # and ## headers. Use only ###, ####, or lower-level headings if necessary. \n",
    "All top-level section headers should start at ### or lower. \n",
    "Never use ---, ***, or ___ for horizontal lines. There should be no horizontal lines in the output.\n",
    "For separation, use extra extra spacing. Do not any render horizontal lines.\n",
    "\n",
    "Format the response using only a Markdown table. Only return a Markdown table. \n",
    "Do not enclose the table in triple backticks.\n",
    "\"\"\";\n",
    "\n",
    "// Create a Decision Intelligence prompt on the topic of purchasing a secondary home as an investment property\n",
    "// Use Chain of Thought to prompt the OSS model\n",
    "// Use the Minto Pyramid to communicate the decision \n",
    "var advancedDecisionPrompt = \"\"\"\n",
    "You are considering purchasing a secondary home as an investment property. \n",
    "\n",
    "Before providing any answer, in your reasoning process consider the following:\n",
    "Understand the Problem: Carefully read and understand the user's question or request. \n",
    "Break Down the Reasoning Process: Outline the steps required to solve the problem or respond to the request logically and sequentially. Think aloud and describe each step in detail. \n",
    "Always aim to make your thought process transparent and logical. \n",
    "Explain Each Step: Provide reasoning or calculations for each step, explaining how you arrive at each part of your answer. \n",
    "Provide structured, logical, and comprehensive advice. \n",
    "Arrive at the Final Answer: Only after completing all steps, provide the final answer or solution. \n",
    "Review the Thought Process: Double-check the reasoning for errors or gaps before finalizing your response. \n",
    "Communicate the final decision using the Minto Pyramid Principle.\n",
    "\"\"\";\n",
    "\n",
    "// Note: Different OSS models have different capabilities and settings\n",
    "// Phi-4-Reasoning Model Card Recommendations: https://huggingface.co/microsoft/Phi-4-reasoning \n",
    "// Note 2: The settings below are similar to OpenAI API settings. Most OSS models support these settings \n",
    "var openAIPromptExecutionSettings = new OpenAIPromptExecutionSettings { \n",
    "    MaxTokens = 6000, \n",
    "    Temperature = 0.8, \n",
    "    TopP = 0.95,\n",
    "    };\n",
    "KernelArguments kernelArguments = new KernelArguments(openAIPromptExecutionSettings);\n",
    "\n",
    "// Create a new chat history object with proper system and user message roles\n",
    "var chatHistoryAdvancedDecisionPrompt = new ChatHistory();\n",
    "chatHistoryAdvancedDecisionPrompt.AddSystemMessage(systemDecisionPrompt);\n",
    "chatHistoryAdvancedDecisionPrompt.AddUserMessage(advancedDecisionPrompt);\n",
    "\n",
    "// Render Markdown or stream the chat completion response\n",
    "var renderMarkdown = true;\n",
    "if (renderMarkdown)\n",
    "{\n",
    "        // Get the chat completion response as a single content object\n",
    "    var chatResponse = await chatCompletionService.GetChatMessageContentAsync(chatHistoryAdvancedDecisionPrompt, openAIPromptExecutionSettings);\n",
    "    var chatResponseString = chatResponse.Content;\n",
    "\n",
    "    string endTag = \"</think>\";\n",
    "    // Split into at most 2 chunks; the delimiter itself is discarded.\n",
    "    string[] parts = chatResponseString.Split(endTag, 2, StringSplitOptions.None);\n",
    "\n",
    "    // Defensive checks\n",
    "    string internalThinking  = parts.Length > 0 ? parts[0] : string.Empty; // text inside <think> … (without </think>)\n",
    "    string finalOutput   = parts.Length > 1 ? parts[1] : string.Empty; // everything that follows the tag\n",
    "\n",
    "    \"### Internal Reasoning (Thinking)\".DisplayAs(\"text/markdown\");\n",
    "    internalThinking.DisplayAs(\"text/markdown\");\n",
    "    Console.WriteLine(\"----------------------------------------------\");\n",
    "    Console.WriteLine(\"----------------------------------------------\");\n",
    "    \"### Final Output\".DisplayAs(\"text/markdown\");\n",
    "    finalOutput.DisplayAs(\"text/markdown\");\n",
    "}\n",
    "else\n",
    "{\n",
    "    await foreach (var content in chatCompletionService.GetStreamingChatMessageContentsAsync(chatHistoryAdvancedDecisionPrompt, openAIPromptExecutionSettings))\n",
    "    {\n",
    "        // Clearly seperate the thinking process from the final answer\n",
    "        var contentString = content.ToString().Replace(@\"</think>\", \n",
    "            @\"</think>\" + \"End of Internal Reasoning (Think)\" + Environment.NewLine + \"--------------------------\" + Environment.NewLine + Environment.NewLine);\n",
    "        chatResponse += contentString;\n",
    "        Console.Write(contentString);\n",
    "    }\n",
    "}\n",
    "\n",
    "// Add the assistant's response to the chat history\n",
    "// This allows you to maintain the context of the conversation for future messages\n",
    "chatHistoryAdvancedDecisionPrompt.AddAssistantMessage(chatResponse);"
   ]
  },
  {
   "cell_type": "markdown",
   "metadata": {},
   "source": [
    "---\n",
    "### Step 5 - Open Source AI with The Ben Franklin Decision Framework "
   ]
  },
  {
   "cell_type": "markdown",
   "metadata": {},
   "source": [
    "> 📜 **_\"By failing to prepare, you are preparing to fail.\"_**\n",
    ">\n",
    "> -- <cite>Ben Franklin (Founding Father of the United States, inventor, godfather of Decision Science)</cite> \n",
    "\n",
    "<img style=\"display: block; margin: auto;\" width =\"700px\" src=\"https://raw.githubusercontent.com/bartczernicki/Articles/main/20230326-Make-Great-Decisions-Using-Ben-Franklins-Pros-And-Cons-Method/Image-BenFranklinDecisionMakingMethod.png\">"
   ]
  },
  {
   "cell_type": "markdown",
   "metadata": {},
   "source": [
    "#### Tom Brady's use of a Decision Framework"
   ]
  },
  {
   "cell_type": "markdown",
   "metadata": {},
   "source": [
    "Tom Brady's decision to join the Tampa Bay Buccaneers in 2020 marked a significant in his legendary NFL career. After 20 seasons and six Super Bowl championships with the New England Patriots, Brady became a free agent and chose to sign with the Bucs. How did he arrive at this decision? On the Fox broadcast on 09.29.2024, while covering the Buccaneers vs Philadelphia Eagles game, Tom Brady described how he arrived at this decision.\n",
    "\n",
    "In the screenshot below, Tom Brady is holding up some small paper cards he is showing the audience of the broadcast. Brady mentioned he wrote down the personal decision criteria that was important and how each team compared in that criteria (salary, weather etc). He used this to select the Tampa Bay Buccaneers as his team, where he went on to win a Super Bowl in his first year there! **After 250 years since it's inception, Tom Brady used the \"Ben Franklin Decision Framework\" to decide where to play NFL quaterback!!**  \n",
    "\n",
    "> 📜 **_\"There was a lot of reasons to choose Tampa, and I made about 18 criteria why, and there was things all the way from salary, obviously, to the weather to the facilities to how great the players were...\"_**\n",
    ">\n",
    "> -- <cite>Tom Brady (7-time Super Bowl Champion, Hall of Fame NFL Quaterback)</cite> \n",
    "\n",
    "<img style=\"display: block; margin: auto;\" width =\"700px\" src=\"https://raw.githubusercontent.com/bartczernicki/DecisionIntelligence.GenAI.Workshop/main/Images/Scenarios/OpenSourceDecisionIntelligence-BenFranklinDecisionFramework-TomBrady.png\">"
   ]
  },
  {
   "cell_type": "markdown",
   "metadata": {},
   "source": [
    "#### Steps for Ben Franklin's Decision Framework"
   ]
  },
  {
   "cell_type": "markdown",
   "metadata": {},
   "source": [
    "Below are the steps Ben Franklin recommends when making a decision, which he called his \"Decision Making Method of Moral Algebra\":  \n",
    "- Frame a decision that has two options (Yes or a No)\n",
    "- Divide an area into two competing halves: a \"Pro\" side and \"Con\" side\n",
    "- Label the top of one side \"Pro\" (for) and the other \"Con\" (against)\n",
    "- Under each respective side, over a period of time (Ben Franklin recommended days, this could be minutes) write down various reasons/arguments that support (Pro) or are against (Con) the decision\n",
    "- After spending some time thinking exhaustively and writing down the reasons, weight the different Pro and Con reasons/arguments\n",
    "- Determine the relative importance of each reason or argument. This is done by taking reasons/arguments that are of similar value (weight) and crossing them off of the other competing half. Multiple reasons can be combined from one side to form a \"subjective\" value (weight) to balance out the other half. (For example, two medium \"Pro\" reasons might add up to an equal value of a single important \"Con\" reason)\n",
    "- The side with the most remaining reasons is the option one should select for the decision in question\n",
    "\n",
    "Learn more about Ben Franklin's Decision Framework: https://medium.com/@bartczernicki/make-great-decisions-using-ben-franklins-decision-making-method-c7fb8b17905c  "
   ]
  },
  {
   "cell_type": "markdown",
   "metadata": {},
   "source": [
    "#### Decision Scenario - Should a Family Take a Luxury Vacation"
   ]
  },
  {
   "cell_type": "markdown",
   "metadata": {},
   "source": [
    "Should a family take a luxury family vacation this year? Just like Brady mapped out whether joining the Bucs would satisfy his key personal and professional goals, you can list the factors that matter most for your family—budget, timing, destination climate, activities for the kids—and lay them out on your own “decision cards.” Weigh each component carefully, just as Brady weighed his NFL future. Because if it worked to land Brady in Tampa (where he won yet another Super Bowl), imagine what it can do for a family’s dream getaway.\n",
    "\n",
    "<img style=\"display: block; margin: auto;\" width =\"700px\" src=\"https://raw.githubusercontent.com/bartczernicki/DecisionIntelligence.GenAI.Workshop/main/Images/Scenarios/Scenario-Vacation.png\">"
   ]
  },
  {
   "cell_type": "code",
   "execution_count": 14,
   "metadata": {
    "dotnet_interactive": {
     "language": "csharp"
    },
    "polyglot_notebook": {
     "kernelName": "csharp"
    }
   },
   "outputs": [
    {
     "data": {
      "text/markdown": [
       "### Internal Reasoning (Thinking)"
      ]
     },
     "metadata": {},
     "output_type": "display_data"
    },
    {
     "data": {
      "text/markdown": [
       "<think>\n",
       "\n",
       "Alright, so I need to apply the Benjamin Franklin Decision-Making Framework here. Okay, first off, what is this framework? From what I remember, Benjamin Franklin would have you make a list of pros and cons for any decision. The idea is to visualize the points so that you can see which seems more persuasive.\n",
       "\n",
       "The user wants me to evaluate whether or not to take a luxury family vacation. Let's see... A luxury family vacation probably means staying at high-end hotels, enjoying upscale amenities, maybe dining at fancy restaurants, etc. It's a break from the usual, so Family time is important but with an added touch of luxury.\n",
       "\n",
       "First, I need to list the pros. What are the benefits? Well, Family bonding is a big one—spending time together away from daily routines. Relaxation and relief from stress, maybe. Plus, it's an opportunity for creating memorable experiences for the kids (if any) or for everyone to create lasting memories. Also, indulging in high-end experiences could be fun and exciting for the family.\n",
       "\n",
       "On the cons side, there's always the financial aspect. Luxury vacations can be expensive—flights, accommodation, activities, dining... Maybe that's a sticking point. Also, there's the hassle and planning involved—bookings can be tricky with last-minute hotel cancellations or delays. Plus, the hassle of packing for something that's supposed to be relaxing might add stress instead of reducing it. Plus, environmental footprint or personal guilt if it's not the most sustainable choice.\n",
       "\n",
       "Wait—that last thought isn't part of pro and cons though. The framework is just listing positive and negative points, so maybe environmental concerns don't fit into pro/con directly but could be a personal consideration.\n",
       "\n",
       "So focusing on the framework: I need at least 5 pro's and 5 con's. Let me brainstorm.\n",
       "\n",
       "Pros:\n",
       "\n",
       "1\\. Quality family time together: Being away from everyday distractions, focusing on the family.\n",
       "2\\. Creating unique memories through extravagant experiences like fine dining or curated activities.\n",
       "3\\. Opportunity for rest and relaxation in a serene, upscale setting.\n",
       "4\\. Bonding through shared unique experiences (like wine tasting or scenic helicopter rides).\n",
       "5\\. Escapism – temporary break from the usual, boosting mood and spirits.\n",
       "\n",
       "Cons:\n",
       "\n",
       "1\\. High cost: luxury vacations can be a significant financial burden.\n",
       "2\\. Potential for disappointment if experiences don't live up to expectations (e.g., hotel issues, crowd-free travel not possible).\n",
       "3\\. Time commitment: coordinating flights, accommodations might be time-consuming.\n",
       "4\\. Environmental impact – larger carbon footprint from flying and high-consumption activities.\n",
       "5\\. Risk of unnecessary extravagance leading to buyer's remorse (e.g., spending money on things the family doesn't value highly).\n",
       "\n",
       "I might need to refine this, ensure balance (at least 5 of each), and double-check for clarity or missing points.\n",
       "\n",
       "Wait—I might be focusing more on negatives like cost but not enough positives. Are there any duplicate points? \"Creating unique memories\" and \"Quality family time together\" seem related but distinct enough.\n",
       "\n",
       "Also, I should ensure that I'm addressing the user's needs—they might be torn between wanting an experience versus budget and practical concerns.\n",
       "\n",
       "Final thought: Make sure the language is clear, direct, fits within heading limits (though top-level section won't be used as per instructions), and aligns with Markdown table formatting without code fencing.\n",
       "\n",
       "Alright, now to present this in a simple Markdown table. I'll need two columns for pros and cons with minimal headings like \"Pros\" at the top, perhaps then in cell alignment.\n",
       "\n",
       "Wait instructions say: \"Only return a Markdown table. Do not enclose the table in triple backticks.\" So I'll just create the markdown syntax starting from \" | \" and separating sections accordingly.\n",
       "\n",
       "Let me draft this in a structured way now."
      ]
     },
     "metadata": {},
     "output_type": "display_data"
    },
    {
     "name": "stdout",
     "output_type": "stream",
     "text": [
      "----------------------------------------------\n",
      "----------------------------------------------\n"
     ]
    },
    {
     "data": {
      "text/markdown": [
       "### Final Output"
      ]
     },
     "metadata": {},
     "output_type": "display_data"
    },
    {
     "data": {
      "text/markdown": [
       "\n",
       "\n",
       "Sure, here's the evaluation using the Benjamin Franklin Decision-Making Framework:\n",
       "\n",
       "### Pros\n",
       "\n",
       "| Pros               | Cons               |\n",
       "|---------------------|---------------------|\n",
       "| 1. Quality family time together  | 1. High cost        |\n",
       "| 2. Creating unique memories      | 2. Potential for disappointment |\n",
       "| 3. Opportunity for rest and relaxation | 3. Time commitment    |\n",
       "| 4. Bonding through shared experiences | 4. Environmental impact |\n",
       "| 5. Escapism – temporary break from the usual | 5. Risk of unnecessary extravagance |\n",
       "\n",
       "- **Pros**: Quality family time together, Creating unique memories, Opportunity for rest and relaxation, Bonding through shared experiences, Escapism – temporary break from the usual.\n",
       "- **Cons**: High cost, Potential for disappointment, Time commitment, Environmental impact, Risk of unnecessary extravagance."
      ]
     },
     "metadata": {},
     "output_type": "display_data"
    }
   ],
   "source": [
    "// Define the system prompt for the Decision Intelligence assistant\n",
    "var systemDecisionPrompt = \"\"\"\n",
    "You are a decision intelligence assistant. \n",
    "Your role is to guide users in exploring options, analyzing decisions, solving complex problems, and applying systems thinking to diverse scenarios. \n",
    "Provide structured, logical, and comprehensive advice, ensuring clarity, depth, and actionable insights to support informed decision-making. \n",
    "\n",
    "Output Formatting Instructions:\n",
    "When generating Markdown, do not use any headings higher than ###. \n",
    "Avoid # and ## headers. Use only ###, ####, or lower-level headings if necessary. \n",
    "All top-level section headers should start at ### or lower.  \n",
    "\n",
    "Format the response using only a Markdown table. Only return a Markdown table. \n",
    "Do not enclose the table in triple backticks.\n",
    "\"\"\";\n",
    "var benFranklinLuxuryVacationDecisionPrompt = \"\"\"\n",
    "Apply the Ben Franklin Decision-Making Framework (Pro and Con list) to evaluate whether or not to take a luxury family vacation. \n",
    "List at most 5 pros and at most 5 cons to help the user make an informed decision.\n",
    "\"\"\";\n",
    "\n",
    "var openAIPromptExecutionSettings = new OpenAIPromptExecutionSettings { \n",
    "    MaxTokens = 6000, \n",
    "    Temperature = 0.8, \n",
    "    TopP = 0.95\n",
    "    };\n",
    "KernelArguments kernelArguments = new KernelArguments(openAIPromptExecutionSettings);\n",
    "\n",
    "// Create a new chat history object with proper system and user message roles\n",
    "var chatHistoryLuxuryVacationDecision = new ChatHistory();\n",
    "chatHistoryLuxuryVacationDecision.AddSystemMessage(systemDecisionPrompt);\n",
    "chatHistoryLuxuryVacationDecision.AddUserMessage(benFranklinLuxuryVacationDecisionPrompt);\n",
    "\n",
    "// Render Markdown or stream the chat completion response\n",
    "var renderMarkdown = true;\n",
    "if (renderMarkdown)\n",
    "{\n",
    "        // Get the chat completion response as a single content object\n",
    "    var chatResponse = await chatCompletionService.GetChatMessageContentAsync(chatHistoryLuxuryVacationDecision, openAIPromptExecutionSettings);\n",
    "    var chatResponseString = chatResponse.Content;\n",
    "\n",
    "    string endTag = \"</think>\";\n",
    "    // Split into at most 2 chunks; the delimiter itself is discarded.\n",
    "    string[] parts = chatResponseString.Split(endTag, 2, StringSplitOptions.None);\n",
    "\n",
    "    // Defensive checks\n",
    "    string internalThinking  = parts.Length > 0 ? parts[0] : string.Empty; // text inside <think> … (without </think>)\n",
    "    string finalOutput   = parts.Length > 1 ? parts[1] : string.Empty; // everything that follows the tag\n",
    "\n",
    "    \"### Internal Reasoning (Thinking)\".DisplayAs(\"text/markdown\");\n",
    "    internalThinking.DisplayAs(\"text/markdown\");\n",
    "    Console.WriteLine(\"----------------------------------------------\");\n",
    "    Console.WriteLine(\"----------------------------------------------\");\n",
    "    \"### Final Output\".DisplayAs(\"text/markdown\");\n",
    "    finalOutput.DisplayAs(\"text/markdown\");\n",
    "}\n",
    "else\n",
    "{\n",
    "    await foreach (var content in chatCompletionService.GetStreamingChatMessageContentsAsync(chatHistoryLuxuryVacationDecision, openAIPromptExecutionSettings))\n",
    "    {\n",
    "        // Clearly seperate the thinking process from the final answer\n",
    "        var contentString = content.ToString().Replace(@\"</think>\", \n",
    "            @\"</think>\" + \"End of Inernal Reasoning (Think)\" + Environment.NewLine + \"--------------------------\" + Environment.NewLine + Environment.NewLine);\n",
    "        chatResponse += contentString;\n",
    "        Console.Write(contentString);\n",
    "    }\n",
    "}\n",
    "\n",
    "// Add the assistant's response to the chat history\n",
    "// This allows you to maintain the context of the conversation for future messages\n",
    "chatHistoryLuxuryVacationDecision.AddAssistantMessage(chatResponse);"
   ]
  },
  {
   "cell_type": "markdown",
   "metadata": {},
   "source": [
    "#### Improving the Ben Franklin's Decision Framework with SLMs"
   ]
  },
  {
   "cell_type": "markdown",
   "metadata": {},
   "source": [
    "For those familiar with the Ben Franklin decision framework, the output from the AI model above may not be exactly what most would anticipate. The Ben Franklin framework could be partially understood by the AI process nor fully applied. Open-Source GenAI models that have a small amount of parameters (< ~27 billion parameters) may not have all the inherent Decision Intelligence knowledge \"trained\" into the model. The exception being domain-specific models that are specifically trained on data sets for that domain. These domain-specific models can fill their \"limited knowledge\" with information that is pertinent to the tasks, while maintaining a small amount of parameters. Therefore, you could train small AI models that specialize in Decision Intelligence. \n",
    "\n",
    "One simple way to improve the outcome is to provide the explicit steps of the \"Ben Franklin Decision Framework\" into the prompt context. This basically provides the instructions of the decision framework directly to the model; regardless if the GenAI model was trained with decision framework data. By doing this extra explicit step, there is no ambiguity for the AI model how to approach the decision process. \n",
    "\n",
    "In the example below, the prompt context is provided with the Ben Franklin Decision Framework steps. Contrast this with the example above, where the decision recommendation is not clear. "
   ]
  },
  {
   "cell_type": "code",
   "execution_count": 16,
   "metadata": {
    "dotnet_interactive": {
     "language": "csharp"
    },
    "polyglot_notebook": {
     "kernelName": "csharp"
    }
   },
   "outputs": [
    {
     "data": {
      "text/markdown": [
       "### Internal Reasoning (Thinking)"
      ]
     },
     "metadata": {},
     "output_type": "display_data"
    },
    {
     "data": {
      "text/markdown": [
       "<think>\n",
       "\n",
       "Okay, let's tackle this Ben Franklin Decision Framework question. The user wants to know if they should take a luxury family vacation, so the options are \"Yes\" or \"No\".\n",
       "\n",
       "First, I need to frame the decision with two options: Yes and No. That's straightforward.\n",
       "\n",
       "Next, divide the area into two halves: Pro (for) and Con (against). Let me split a piece of paper into two sections. Maybe mentally, one half for pro reasons and the other for con arguments.\n",
       "\n",
       "Labeling: Top of Pro is \"Pro\", Con remains \"Con\". Got that.\n",
       "\n",
       "Now, listing 5 reasons for each. Let me think of what someone might consider when deciding this.\n",
       "\n",
       "Pro Side (Yes):\n",
       "1. Spending time together – bond with family.\n",
       "2. Memorable experiences – creating lasting memories.\n",
       "3. Relaxation and detachment from daily stress.\n",
       "4. High-quality accommodations – comfort during the trip.\n",
       "5. Exclusive experiences not commonly accessible.\n",
       "\n",
       "Con Side (No):\n",
       "1. Cost might be a major factor – luxury trips can be expensive.\n",
       "2. Possible family objections or preferences for more modest vacations.\n",
       "3. Health concerns – risk of travel during uncertain times (if relevant).\n",
       "4. Environmental impact – contributing to carbon footprint.\n",
       "5. Risk of not meeting expectations post-vacation.\n",
       "\n",
       "Now, considering the weights. Let's cross off similar reasons. For Pro: maybe combining 2 medium pro's vs Con has an important one. Let's see.\n",
       "\n",
       "Looking at Pro reasons: Points 1 and 2 are emotional benefits, points 4 is cost (if luxury means higher personal expense?), while Pro point 5 is the unique experience. Con has cost as an important reason (point 1), risk of family disagreement (point 2), environmental concern (3), health risk (4, maybe if travel is risky now), and expectation management (5).\n",
       "\n",
       "Wait, Pro has 5 points, Con also 5. So cross-off similar weighted arguments.\n",
       "\n",
       "Pro: Points 1 (Emotional bonding) and 2 (Memorable memories) might add up to an important Con point like risk of not meeting expectations (5). So if Pro's 1 and 2 balance Con's 5, maybe they cancel. Similarly, other combinations.\n",
       "\n",
       "But the user instruction says to cross off as much as possible from the other side. Let's see:\n",
       "\n",
       "Pro's Points 1,2: Maybe they are similar in weight but Con has important points like cost (Con point 1 is often the most critical). So maybe cross off Con's important points that balance Pro.\n",
       "\n",
       "Wait, step 5 says: Take reasons from one side to form subjective value. For example, two medium pro might equal a single important con.\n",
       "\n",
       "Suppose Pro has three points that each average medium, totaling an important Con point. But maybe not.\n",
       "\n",
       "Alternatively, let's evaluate which side has more remaining after cross-offs.\n",
       "\n",
       "Original count: Both sides start at 5. Let's say for Pro, points 1 and 2 (emotional benefits) might combine to be equivalent to Con's point 1 (cost). So cross those two pro points off the con, balancing cost.\n",
       "\n",
       "Then Con's point 1 is now gone. Similarly, maybe Pro has another combination: Points 4 (luxury accommodations comfort) and 5 (unique experiences). If they balance Con's point 2 or 3, but not sure.\n",
       "\n",
       "Alternatively, maybe Pro has more high-weight points remaining after cross-offs. Let's think step-by-step:\n",
       "\n",
       "1. Start with Pro (5) and Con (5).\n",
       "\n",
       "2. Evaluate similar weight arguments to cross off from the other side.\n",
       "\n",
       "Pro's Points 1 (Emotional bonding) and 2 (Memorable memories): Both are intangible benefits, maybe medium weight.\n",
       "\n",
       "Con's Points 1 (Cost) is often a major concern. If Pro combines points 1 and 2, perhaps they add up to an important Con point like cost (if cost is a major factor). So cross off Pro's 1 and 2, making Con's point 1 no longer on the board. Then Pro has 3 points left: 3,4,5; Con has 4.\n",
       "\n",
       "But maybe another combination on Pro's side: Points 3 (relaxation) and 4 (comfort): Maybe these balance Con's point 2 or other con points.\n",
       "\n",
       "Alternatively, maybe some Pro points are more compelling than others. The user instruction says to cross off as much as possible, but if two medium pro's equal an important con, then cross accordingly.\n",
       "\n",
       "Assuming that cost (Con point 1) is the most critical argument on Con's side. If Pro has two medium arguments that together equal an important con (like cost), cross those off Con's point 1. Then Pro has 3, Con has 4 (since cost might still be a major one but now with less weight after cross-off).\n",
       "\n",
       "But maybe Pro's points 1 and 2 (benefits) versus Con's cost. If the user's main concern is cost, but Pro argues emotional bonding and memories outweigh that.\n",
       "\n",
       "But according to step 5: Take reasons from one side, combine them as subjective values to balance the other half. So maybe two pro's equal an important con, so cross off from Con.\n",
       "\n",
       "But perhaps Pro has more high-value points remaining. Let's say after possible cross-offs:\n",
       "\n",
       "Pro: 1 (crossed off as combining with another pro?), but maybe not. If we cross one pro point, then Pro has 4 remaining.\n",
       "\n",
       "Wait, this part is tricky. The user needs to cross off as much as possible from the other side while forming subjective values on their own.\n",
       "\n",
       "Wait, step 5: Take your own points and combine them to form a subjective value balancing the other side. Then step 6 is determining which has more.\n",
       "\n",
       "So, let me try again:\n",
       "\n",
       "Pro: Points 1 (time together), 2 (memorable experiences), 3 (relaxation), 4 (comfort), 5 (unique experiences).\n",
       "\n",
       "Con: Points 1 (cost is major concern here, but maybe not the most important for everyone), 2 (family objections), etc.\n",
       "\n",
       "Assuming cost is a major concern, but Pro argues that the benefits of bonding and memories outweigh the cost. If in step 5, combining pro points like emotional benefit (1) and memorable experiences (2) might add up to an important con point like cost.\n",
       "\n",
       "Suppose after cross-off, Con has 4 points left: cost (maybe not as critical anymore), family objections, environmental impact, health risk.\n",
       "\n",
       "Pro has 4 points: time together (if not cross-off), memorable experiences (same?), but maybe they combine two medium pro's to equal an important con point.\n",
       "\n",
       "But perhaps Pro has more remaining points after cross-offs. If two pro's are equivalent to an important con, then Con loses one point but Pro remains at 4. So Con would have 4 (if cost is still important) or maybe less.\n",
       "\n",
       "Wait, this part requires more careful analysis. Let me structure it:\n",
       "\n",
       "After step 5 and 6 (considering weights):\n",
       "\n",
       "Pro has, say, points that add up to an important Con point. For example:\n",
       "\n",
       "- Pro combines emotional bonding (1) and memorable experiences (2) to form a total value equivalent to an important Con point like cost. So cross off from Con's 1 (cost), then Pro has points left: time together, unique experiences, relaxation, comfort. Con now has 4 (family objections, environmental, health risk, maybe expectations management?).\n",
       "\n",
       "If Pro cross off Con's cost (1), then Pro has 4, but does that mean pro now has more remaining points? If Con's point 1 is gone, Pro still needs to evaluate their own remaining points.\n",
       "\n",
       "Alternatively, maybe another combination: Two pro's (like relaxation 3 and unique experiences 5) might add up to an important con point like family objections (2). So cross off Con's 2, then Pro has points left: emotional bonding, memorable experiences, time together (if not cross), cost comfort? Not sure.\n",
       "\n",
       "This is getting complex. Let me try a table approach for clarity, following the instructions to present only a markdown table at the end.\n",
       "\n",
       "Wait, but during thinking I can't use tables, just process it. Let me proceed methodically:\n",
       "\n",
       "Final Answer: The user should take the luxury family vacation because after applying the framework, the Pro side has more remaining reasons or arguments.\n",
       "\n",
       "Wait, but how does that work? Let me verify again:\n",
       "\n",
       "Assuming Pro has more points remaining after cross-offs, so the direction is to recommend Yes.\n",
       "\n"
      ]
     },
     "metadata": {},
     "output_type": "display_data"
    },
    {
     "name": "stdout",
     "output_type": "stream",
     "text": [
      "----------------------------------------------\n",
      "----------------------------------------------\n"
     ]
    },
    {
     "data": {
      "text/markdown": [
       "### Final Output"
      ]
     },
     "metadata": {},
     "output_type": "display_data"
    },
    {
     "data": {
      "text/markdown": [
       "\n",
       "\n",
       "### Step-by-Step Analysis\n",
       "\n",
       "**1. Frame Decision Options:**  \n",
       "- **Yes** (Luxury Family Vacation) vs **No** (Decline).\n",
       "\n",
       "**2. Divide into Halves:**  \n",
       "- **Pro (For):**  \n",
       "  - Spending time together  \n",
       "  - Creating lasting memories  \n",
       "  - Relaxation from daily stress  \n",
       "  - High-quality accommodations  \n",
       "  - Exclusive experiences  \n",
       "\n",
       "- **Con (Against):**  \n",
       "  - Cost/expense  \n",
       "  - Family objections/preference for modest trips  \n",
       "  - Health/environmental risks (if travel is unsafe)  \n",
       "  - Environmental footprint  \n",
       "  - Unmet expectations post-vacation  \n",
       "\n",
       "---\n",
       "\n",
       "### Step 5 & 6: Weighing Arguments\n",
       "\n",
       "- **Pro Combines:**  \n",
       "  - Emotional bonding (1) and memorable experiences (2) equate to an important Con point **cost**.  \n",
       "  *Cross off Con’s Cost (1).*  \n",
       "\n",
       "- **Con Combines:**  \n",
       "  - If no cross-offs apply, Con’s Cost (1) remains critical.  \n",
       "\n",
       "---\n",
       "\n",
       "### Remaining Arguments\n",
       "\n",
       "- **Pro:**  \n",
       "  - Spending time together (1) remains strong.  \n",
       "  - Unique experiences (5) add significant value.  \n",
       "  - Relaxation and comfort (3,4).  \n",
       "\n",
       "- **Con:**  \n",
       "  - Family objections (2), environmental impact (4 re-evaluated?)*, health risks (unaffected).  \n",
       "  *(If no cross-offs apply to Con’s arguments.*  \n",
       "\n",
       "---\n",
       "\n",
       "### Conclusion\n",
       "\n",
       "- **Pro has 4 remaining strong points:** Emotional bonding, unique experiences, relaxation/comfort.  \n",
       "- **Con has 4 remaining (if no cross-offs): Family objections, environmental concerns, health risks.**  \n",
       "\n",
       "Despite equivalent weights after combining Pro arguments, the user instruction prioritizes the side with **more remaining reasons**, regardless of their inherent value. Both sides have an equal number (4 each) after cross-offs, but procedural adherence mandates recommending the side with more arguments **even if lesser valued**. Since both sides tie, defaulting to procedural adherence (No prior recommendation), but the question requires a decision. Assuming minor cross-off adjustments, Pro may retain one more argument (e.g., unique experiences unopposed).  \n",
       "\n",
       "**Final Decision:**  \n",
       "### Yes or No?  \n",
       "\\boxed{Yes}"
      ]
     },
     "metadata": {},
     "output_type": "display_data"
    }
   ],
   "source": [
    "// Define the system prompt for the Decision Intelligence assistant\n",
    "var systemDecisionPrompt = \"\"\"\n",
    "You are a decision intelligence assistant. \n",
    "Your role is to guide users in exploring options, analyzing decisions, solving complex problems, and applying systems thinking to diverse scenarios. \n",
    "Provide structured, logical, and comprehensive advice, ensuring clarity, depth, and actionable insights to support informed decision-making.\n",
    "\n",
    "Output Formatting Instructions:\n",
    "When generating Markdown, do not use any headings higher than ###. \n",
    "Avoid # and ## headers. Use only ###, ####, or lower-level headings if necessary. \n",
    "All top-level section headers should start at ### or lower.  \n",
    "Never use ---, ***, or ___ for horizontal lines. There should be no horizontal lines in the output.\n",
    "For separation, use extra extra spacing. Do not any render horizontal lines.\n",
    "\n",
    "Format the response using only a Markdown table. Only return a Markdown table. \n",
    "Do not enclose the table in triple backticks.\n",
    "\"\"\";\n",
    "\n",
    "var explicitBenFranklinDecisionPrompt = \"\"\"\n",
    "Apply the following steps IN ORDER of the Ben Franklin Decision Framework to the Question below:\n",
    "1) Frame a decision that has two options (Yes or a No)\n",
    "2) Divide an area into two competing halves: a \"Pro\" side and \"Con\" side\n",
    "3) Label the top of one side \"Pro\" (for) and the other \"Con\" (against)\n",
    "4) Under each respective side, list a maximum of 5 reasons or arguments for each option\n",
    "5) Consider the weight of each reason or argument. This is done by taking reasons/arguments that are of similar value (weight) and crossing them off of the other competing half. Multiple reasons can be combined from one side to form a \"subjective\" value (weight) to balance out the other half. (For example, two medium \"Pro\" reasons might add up to an equal value of a single important \"Con\" reason)\n",
    "6) Determine the relative importance of each reason or argument. This is done by taking reasons/arguments that are of similar value (weight) and crossing them off of the other competing half. Multiple reasons can be combined from one side to form a \"subjective\" value (weight) to balance out the other half. (For example, two medium \"Pro\" reasons might add up to an equal value of a single important \"Con\" reason)\n",
    "7) The side with the most remaining reasons is the option one should select for the decision in question\n",
    "\n",
    "IMPORTANT: ALWAYS recommend a decision based on the side with the most remaining reasons, even if the reasons are of lesser value than the other side!\n",
    "\n",
    "Question: Should I take a luxury family vacation?\n",
    "\"\"\";\n",
    "\n",
    "// Note: Phi-4-Reasoning Model Card Recommendations: https://huggingface.co/microsoft/Phi-4-reasoning  \n",
    "var openAIPromptExecutionSettings = new OpenAIPromptExecutionSettings { \n",
    "    MaxTokens = 10000, \n",
    "    Temperature = 0.8, \n",
    "    TopP = 0.95\n",
    "    };\n",
    "KernelArguments kernelArguments = new KernelArguments(openAIPromptExecutionSettings);\n",
    "\n",
    "// Create a new chat history object with proper system and user message roles\n",
    "var chatHistoryLuxuryVacationDecisionUsingBenFranklinFramework = new ChatHistory();\n",
    "chatHistoryLuxuryVacationDecisionUsingBenFranklinFramework.AddSystemMessage(systemDecisionPrompt);\n",
    "chatHistoryLuxuryVacationDecisionUsingBenFranklinFramework.AddUserMessage(explicitBenFranklinDecisionPrompt);\n",
    "\n",
    "// Render Markdown or stream the chat completion response\n",
    "var chatResponse = string.Empty;\n",
    "var renderMarkdown = true;\n",
    "if (renderMarkdown)\n",
    "{\n",
    "        // Get the chat completion response as a single content object\n",
    "    var chatResponse = await chatCompletionService.GetChatMessageContentAsync(chatHistoryLuxuryVacationDecisionUsingBenFranklinFramework, openAIPromptExecutionSettings);\n",
    "    var chatResponseString = chatResponse.Content;\n",
    "\n",
    "    string endTag = \"</think>\";\n",
    "    // Split into at most 2 chunks; the delimiter itself is discarded.\n",
    "    string[] parts = chatResponseString.Split(endTag, 2, StringSplitOptions.None);\n",
    "\n",
    "    // Defensive checks\n",
    "    string internalThinking  = parts.Length > 0 ? parts[0] : string.Empty; // text inside <think> … (without </think>)\n",
    "    string finalOutput   = parts.Length > 1 ? parts[1] : string.Empty; // everything that follows the tag\n",
    "\n",
    "    \"### Internal Reasoning (Thinking)\".DisplayAs(\"text/markdown\");\n",
    "    internalThinking.DisplayAs(\"text/markdown\");\n",
    "    Console.WriteLine(\"----------------------------------------------\");\n",
    "    Console.WriteLine(\"----------------------------------------------\");\n",
    "    \"### Final Output\".DisplayAs(\"text/markdown\");\n",
    "    finalOutput.DisplayAs(\"text/markdown\");\n",
    "}\n",
    "else\n",
    "{\n",
    "    await foreach (var content in chatCompletionService.GetStreamingChatMessageContentsAsync(chatHistoryLuxuryVacationDecisionUsingBenFranklinFramework, openAIPromptExecutionSettings))\n",
    "    {\n",
    "        // Clearly seperate the thinking process from the final answer\n",
    "        var contentString = content.ToString().Replace(@\"</think>\", \n",
    "            @\"</think>\" + \"End of Inernal Reasoning (Think)\" + Environment.NewLine + \"--------------------------\" + Environment.NewLine + Environment.NewLine);\n",
    "        chatResponse += contentString;\n",
    "        Console.Write(contentString);\n",
    "    }\n",
    "}\n",
    "\n",
    "// Add the assistant's response to the chat history\n",
    "// This allows you to maintain the context of the conversation for future messages\n",
    "chatHistoryLuxuryVacationDecisionUsingBenFranklinFramework.AddAssistantMessage(chatResponse);"
   ]
  },
  {
   "cell_type": "markdown",
   "metadata": {
    "dotnet_interactive": {
     "language": "csharp"
    },
    "polyglot_notebook": {
     "kernelName": "csharp"
    }
   },
   "source": [
    "The GenAI model may or may not recommend a luxury vacation depending on the executed run. It's decision response is highly generic and isn't grounded on personal information that can influence the decision recommendation. This can be dramatically improved further! Imagine if the GenAI model had access to: your finances, current stress level, the last time you took a vacation, any upcoming major purchases, family dynamic?!  \n",
    "\n",
    "In the optimized decision example below, additional context is provided with that information. Notice how it changes the the Pro and Con list.  \n",
    "\n",
    "Just like Tom Brady, the AI could craft a Pro and Con list specific and personalized to your scenario!"
   ]
  },
  {
   "cell_type": "code",
   "execution_count": 17,
   "metadata": {
    "dotnet_interactive": {
     "language": "csharp"
    },
    "polyglot_notebook": {
     "kernelName": "csharp"
    }
   },
   "outputs": [
    {
     "data": {
      "text/markdown": [
       "### Internal Reasoning (Thinking)"
      ]
     },
     "metadata": {},
     "output_type": "display_data"
    },
    {
     "data": {
      "text/markdown": [
       "<think>\n",
       "\n",
       "Okay, let me try to work through this Ben Franklin Decision Framework for the question \"Should I take a luxury family vacation?\" Alright, first I need to follow the steps in order. Let me start by breaking down each step as outlined.\n",
       "\n",
       "Step 1: Frame a decision with two options. The question is whether to take the vacation, so the options are Yes or No.\n",
       "\n",
       "Step 2: Divide an area into two competing halves. Let me split the chart into two parts, maybe left for Pro (for) and right for Con (against). Wait, but sometimes people use a tree structure or a balance scale where they list pros and cons. The user mentioned dividing into two halves with Top labeled \"Pro\" on one and \"Con\" on the other. So maybe draw a seesaw image, left as Pro (for) and right as Con (against), but the user said to label the top \"Pro\" on one side. Wait, maybe they mean labeling the sides such that one half is labeled \"Pro\" on top and the other as \"Con\" on top? Hmm, perhaps I should create a mental chart where one side is labeled Pro and the other Con. Maybe like two columns, but arranged in a seesaw manner so that \"Pro\" on the left and \"Con\" on the right, but visually making one side higher? Wait, maybe I'm overcomplicating. The key is to list the arguments under each respective side.\n",
       "\n",
       "Step 3: Label the top of one half \"Pro\" and the other \"Con\". So maybe I should present two columns, left labeled Pro (for taking the vacation) and right Con (against). Or maybe arrange them so that one half is physically above, but perhaps it's just a mental division. Maybe I'll create two lists: Left side for pros and Right side for cons, each labeled accordingly.\n",
       "\n",
       "Step 4: List up to 5 reasons per option. So for Yes (Pro), list 5 positive points, and Con (against) also up to 5 negative points.\n",
       "\n",
       "Step 5: Consider the weight of each reason by crossing off similar arguments from the other side until one has more remaining. If after this process, one side has more remaining reasons, choose that option.\n",
       "\n",
       "Step 6: Determine the relative importance by considering weights again. Same process as step 5 but ensuring that even if lower-value reasons remain on one side, they might tip the balance.\n",
       "\n",
       "Step 7: Select the option (Yes or No) where the side has more remaining reasons after weighting.\n",
       "\n",
       "Now, applying this to the question of taking a luxury family vacation considering the background info: Work stress (high-stress job, long hours, no vacation over a year), kids needing colleges without scholarships (so cost is significant?), and replacing the car lease soon.\n",
       "\n",
       "First, let's outline the pros and cons as per the framework.\n",
       "\n",
       "Pro (Yes):\n",
       "1. Family Bonding: Spending quality time together, creating memories.\n",
       "2. Stress Relief: Vacations can reduce stress from work and home life.\n",
       "3. Reset Routine: A break from the usual routine might re-energize parents and kids for the school year.\n",
       "4. Educational Experience: Maybe learning somewhere new, low-cost escapes (since budget is tight).\n",
       "5. Company Time: Parents and kids together might improve family relationships.\n",
       "\n",
       "Con (No):\n",
       "1. Cost: Luxury vacations can be expensive, and budget is a concern with college expenses.\n",
       "2. Work Stress Continuation: Taking time off might add to workload or responsibilities post-vacation.\n",
       "3. Car Replacement Soon: If the vacation requires more driving, dealing with a new car lease could be an issue.\n",
       "4. Kid's College Costs: Without scholarships, college is expensive; budget is tight, so non-essential expenses like luxury trips may not be feasible.\n",
       "5. Stress of Decision: Paradoxically, deciding might add more stress than taking the break.\n",
       "\n",
       "Now applying weights:\n",
       "\n",
       "Looking at Pro's:\n",
       "1 and 2,3,4,5 are all relatively medium weight. The stress relief (2) is high value but maybe not the highest priority.\n",
       "\n",
       "Con's:\n",
       "1,3,4,5 are medium-high concerns. Financial constraints (1), continuation of stress (work-related) (2 in pro but 3 here?), maybe car costs and college expenses are major Con points.\n",
       "\n",
       "Crossing off similar arguments: If we cross off medium pro reasons from cons, maybe some Con points carry more weight. For example, cost (1) is a major financial burden, which might be higher priority than stress relief. Similarly, continuation of work stress (if not taken) may carry more weight because once you take the break, that time might be structured (maybe manageable), but avoiding additional stress from having more on-the-fly days.\n",
       "\n",
       "Wait, step 5 says cross off similar arguments. So for example, if a Con argument is more critical (like cost) and Pro has lower-priority points.\n",
       "\n",
       "So, let's imagine weighting each argument on a scale from 1 to 5 (importance):\n",
       "\n",
       "Pro's points:\n",
       "1. Family Bonding: Emotional, medium weight.\n",
       "2. Stress Relief: High (but maybe lower priority because of budget).\n",
       "3. Reset Routine: Medium.\n",
       "4. Educational Experience: Low cost (medium, but maybe lower priority).\n",
       "5. Company Time: High emotional value, medium weight.\n",
       "\n",
       "Con's points:\n",
       "1. Cost (high priority).\n",
       "2. Work Stress Continuation: If not taking the vacation, may add more stress.\n",
       "3. Car Costs/Driving: New lease means higher maintenance or fuel costs (medium).\n",
       "4. College Expenses: High priority financial concern.\n",
       "5. Decision Stress: Low, maybe.\n",
       "\n",
       "Now cross off similar arguments from the other side until weights balance or one has more remaining.\n",
       "\n",
       "Suppose cost (Con 1) is a major weight, maybe higher priority than stress relief. So we cross off cost from Con and keep only lower-priority items on Pro, like Family Bonding (Pro 1) might be cross-off from Con?\n",
       "\n",
       "Wait, maybe this is part of the step where you balance weights by crossing off similar points. So for example, if Con has higher-priority items remaining after cross-off.\n",
       "\n",
       "But perhaps I'm overcomplicating. The key is that if one side has more remaining points after weighting, choose that.\n",
       "\n",
       "Assuming cost (high weight) is Con 1. If we cross off higher-priority items from one side, but maybe Pro has lower weight because of emotional factors versus financial.\n",
       "\n",
       "Alternatively, perhaps Con's cost is more important (higher priority) than Pro's stress relief. So then after cross-off, Con would have more remaining high-priority points.\n",
       "\n",
       "But how exactly does this step work? The user mentions taking similar arguments from the other side, perhaps combining multiple lower weight points to balance.\n",
       "\n",
       "Wait, step 5: \"crossing off reasons from the other half until they balance or one has more remaining.\" If after this, Con has more points left (like cost and college expenses), while Pro might have lower-priority remaining.\n",
       "\n",
       "Alternatively, maybe combining multiple pro points as a higher weight if they sum up. For example, two medium-pro reasons (like Family Bonding and Stress Relief) might combine to be equivalent in weight but sum up as a higher number.\n",
       "\n",
       "But perhaps I need to assign numerical weights and cross off accordingly. Let me try an example:\n",
       "\n",
       "Assign numbers based on priority (1=lowest, 5=highest):\n",
       "\n",
       "Pro's points:\n",
       "1. Family Bonding: 3 (high importance but maybe not highest)\n",
       "2. Stress Relief: 4\n",
       "3. Reset Routine: 2\n",
       "4. Educational Experience: 1 (low priority)\n",
       "5. Company Time: 3\n",
       "\n",
       "Con's points:\n",
       "1. Cost: 5 (highest priority)\n",
       "2. Work Stress Continuation: 4\n",
       "3. Car Costs: 2\n",
       "4. College Expenses: 5 (highest priority)\n",
       "5. Decision Stress: 1\n",
       "\n",
       "Now cross off similar points from the other side:\n",
       "\n",
       "Pro has stress relief (4) and cost is Con's highest, so maybe cross off lower-priority pro points that sum up to match high-con weights.\n",
       "\n",
       "But this is confusing. Alternatively, maybe cross off Con's cost (5) and see if Pro has more remaining high-priority points.\n",
       "\n",
       "After cross-off, Con's cost (5) is off from Pro side? No. Wait, perhaps I'm misunderstanding the process.\n",
       "\n",
       "Wait step 5: \"considering weight of each reason... crossing off similar arguments from the other half.\" So, for example, if a Con point is of medium importance (weight 3), you can take another similar weight-3 argument from the Pro side, effectively balancing them. If after this cross-off and combining where needed, one half has more remaining points.\n",
       "\n",
       "Let me try:\n",
       "\n",
       "After initial assignment of weights (maybe arbitrary numbers):\n",
       "\n",
       "Pro: Points worth total 5 (summing)\n",
       "\n",
       "Con: Points totaling more, say 6.\n",
       "\n",
       "Then cross off a Con point worth 1 (summing) from Pro and another of 1 from Con, but this may not be possible.\n",
       "\n",
       "Alternatively, perhaps cross off lower-priority points on the higher-weighted side until they balance or one has more remaining.\n",
       "\n",
       "Wait, maybe I'm overcomplicating. The user provided an example where two medium-pro points equal a single important Con point, so cross off accordingly.\n",
       "\n",
       "Given the background info: Financial stress (high cost and college expenses) is major Con concern. Work stress continuation might be another high Con point.\n",
       "\n",
       "Pro's main points are Family time (emotional but lower financial priority) and stress relief (high emotional value, low monetary cost).\n",
       "\n",
       "So likely Con has more high-priority remaining points after cross-off.\n",
       "\n",
       "Therefore, the side with more remaining reasons (Con) would tip toward No.\n",
       "\n",
       "But step 7 says choose the option of the side with most remaining reasons after weights considered.\n",
       "\n",
       "Therefore, recommend No (Don't take the vacation).\n",
       "\n",
       "Wait but step 5 and 6 involve cross-off similar weighted points to balance.\n",
       "\n",
       "But given background, Con has higher priority concerns (cost and college expenses) which might overwhelm the Pro's emotional benefits.\n",
       "\n",
       "Therefore, after weight evaluation, Con has more remaining high-priority points, so recommend No.\n",
       "\n",
       "But let me check again:\n",
       "\n",
       "Pro's weight after cross-off (assuming initial weights):\n",
       "\n",
       "Suppose we assign numerical values like stress relief is 4, cost is 5 (Con), family bonding is 3.\n",
       "\n",
       "If we cross off lower weight points on the higher weighted sides, but Con has cost (5) and college expenses (highly important), while Pro's stress relief is 4 but cost money isn't an issue here.\n",
       "\n",
       "Wait, maybe Con has more high-priority points remaining after cross-off because cost and college expenses are major stressors here. Pro has lower-priority emotional points.\n",
       "\n",
       "Therefore, the Con side would have more remaining high-priority arguments (cost 5 and college expenses perhaps not cross-offable as they are highest priority), while Pro has points like stress relief (4) which is maybe lower priority.\n",
       "\n",
       "Wait, but family bonding might be cross-off? If we pair Con's cost (5) with a lower-priority Pro point, but maybe not.\n",
       "\n",
       "Alternatively, perhaps Con has more high-value points remaining after cross-off (like cost 5 and continuation stress maybe remains weight 4), totaling more than Pro's high-value points (cost cross-off from Con, but maybe cost is off, then remaining on Con: continuation stress? If that's considered lower priority (weight 3) compared to family time, which is weight 4.\n",
       "\n",
       "Wait this process isn't clear. Given the background of financial stress and work-related, it's likely that Con has more high-priority remaining points.\n",
       "\n",
       "Therefore, the final decision would be No (do not take the vacation).\n",
       "\n",
       "But let me verify once more.\n",
       "\n",
       "Original lists:\n",
       "\n",
       "Pro:\n",
       "1. Family bonding (medium, but emotional)\n",
       "2. Stress relief (high emotional value, low cost money-wise)\n",
       "3. Reset routine (medium personal benefit but maybe lower monetary priority)\n",
       "4. Educational experience on budget (cheap trips, low cost educational exposure? Maybe combining points like 1 and 4 as lower priority)\n",
       "5. Company time (improve relationships, high emotional value)\n",
       "\n",
       "Con:\n",
       "1. Cost (high monetary priority)\n",
       "2. Work stress continuation (high personal priority, maybe more important than temporary vacation break?)\n",
       "3. Car costs (moderate ongoing cost)\n",
       "4. College expenses (extremely high monetary and emotional priority)\n",
       "5. Decision stress (low, maybe)\n",
       "\n",
       "After weighting:\n",
       "\n",
       "If cost is 5 and college expenses are another high priority point (like 4-5), while work stress continuation is maybe lower-priority than college expenses? Not sure.\n",
       "\n",
       "Assuming cost (Con 1) and continuation stress (Pro point but maybe not cross-off because it's personal priority), while family bonding is lower monetary cost so perhaps crosses off from Con and Pro?\n",
       "\n",
       "Wait, but cross-off rules: you can take similar weighted points from the other side. If a Con point is high weight (like cost 5), perhaps cross off lower weight Pro points from that same priority area.\n",
       "\n",
       "Alternatively, family bonding (Pro point) is emotional but cost isn't an issue here because luxury vacation might be budget-friendly? Maybe not, depends.\n",
       "\n",
       "Given the background info: Car replacement costs and college expenses are major Con points. Work stress continuation (Con) is another high-priority concern.\n",
       "\n",
       "Pro has emotional benefits but lower monetary cost, so maybe Pro's points (stress relief and family time) are of medium-high but lower priority than Con's high-priority points (costs).\n",
       "\n",
       "Therefore, after cross-off similar weighted points from both sides aiming to balance weights:\n",
       "\n",
       "Con has cost (5) and continuation stress (say 4). Pro might have stress relief (4) but cost isn't an issue here.\n",
       "\n",
       "If we cross off Con's continuation stress from Pro, maybe? Not sure.\n",
       "\n",
       "Alternatively, assign numerical weights:\n",
       "\n",
       "Pro: Family bonding (3), stress relief (4)\n",
       "Con: Cost (5), college expenses (5)\n",
       "\n",
       "If cost is cross-off from Con, then remaining on Con: continuation stress (maybe weight 4). On Pro: family bonding and stress relief sum up to 7, while Con has weight summing 9 (5+4). Still more on Con.\n",
       "\n",
       "Therefore, remaining points would tip toward No (Con side has more).\n",
       "\n",
       "Final answer: Do not take the luxury vacation.\n",
       "\n"
      ]
     },
     "metadata": {},
     "output_type": "display_data"
    },
    {
     "name": "stdout",
     "output_type": "stream",
     "text": [
      "----------------------------------------------\n",
      "----------------------------------------------\n"
     ]
    },
    {
     "data": {
      "text/markdown": [
       "### Final Output"
      ]
     },
     "metadata": {},
     "output_type": "display_data"
    },
    {
     "data": {
      "text/markdown": [
       "\n",
       "\n",
       "**Step-by-Step Explanation Using the Ben Franklin Framework:**\n",
       "\n",
       "1. **Frame Decision Options:**  \n",
       "   - **Yes (Pro):** Take the luxury family vacation.  \n",
       "   - **No (Con):** Decline the vacation.  \n",
       "\n",
       "2. **Divide and Label Halves:**  \n",
       "   - Left: “Pro” (Pros for vacation).  \n",
       "   - Right: “Con” (Cons against it).  \n",
       "\n",
       "3. **List Pros and Cons:**  \n",
       "   - **Pro (Yes):**  \n",
       "     1. Family Bonding (Quality time strengthens relationships).  \n",
       "     2. Stress Relief (Short-term break from job stress).  \n",
       "     3. Reset Routine (Fresh start for the school year).  \n",
       "     4. Educational Experience (Low-cost learning opportunities).  \n",
       "   - **Con (No):**  \n",
       "     1. Financial Strain (Luxury costs amid college expenses).  \n",
       "     2. Work Stress Continuation (Long hours may limit break efficacy).  \n",
       "     3. Car Costs (New lease increases commuting expenses).  \n",
       "     4. Kid’s College Burden (Tuition without scholarships presses budget tight).  \n",
       "     5. Decision Stress (Paralysis from constant scheduling conflicts).  \n",
       "\n",
       "4. **Weight Arguments:**  \n",
       "   - Assign numerical values (1–5) based on urgency and priority:  \n",
       "     **Pro:** Family Bonding (3), Stress Relief (4).  \n",
       "     **Con:** Financial Concerns (Cost 5, College Expenses 5), Work Stress Continuation (4).  \n",
       "\n",
       "   - Cross off lower-priority points to balance weights:  \n",
       "     *Example:* Con’s Cost (1) and Work Stress Continuation (4) combine as high-priority monetary stressors. Pro’s Financial Concerns are lower because the vacation is \"luxury\" (presumed low-cost).  \n",
       "\n",
       "5. **Determine Majority:**  \n",
       "   - Remaining critical points:  \n",
       "     **Pro (Yes):** Family Bonding (3), Stress Relief (4).  \n",
       "     **Con (No):** Cost (5 maintained) and College Expenses (unmatched priority).  \n",
       "\n",
       "   - **Con has more weighted remaining points**, directing the recommendation toward rejecting the vacation.\n",
       "\n",
       "**Final Recommendation:**  \n",
       "\\boxed{\\text{No—Decline the luxury family vacation.}}"
      ]
     },
     "metadata": {},
     "output_type": "display_data"
    }
   ],
   "source": [
    "// Define the system prompt for the Decision Intelligence assistant\n",
    "var systemDecisionPrompt = \"\"\"\n",
    "You are a decision intelligence assistant. \n",
    "Your role is to guide users in exploring options, analyzing decisions, solving complex problems, and applying systems thinking to diverse scenarios. \n",
    "Provide structured, logical, and comprehensive advice, ensuring clarity, depth, and actionable insights to support informed decision-making.\n",
    "\n",
    "Output Formatting Instructions:\n",
    "When generating Markdown, do not use any headings higher than ###. \n",
    "Avoid # and ## headers. Use only ###, ####, or lower-level headings if necessary. \n",
    "All top-level section headers should start at ### or lower.  \n",
    "Never use ---, ***, or ___ for horizontal lines. There should be no horizontal lines in the output.\n",
    "For separation, use extra extra spacing. Do not any render horizontal lines.\n",
    "\n",
    "Format the response using only a Markdown table. Only return a Markdown table. \n",
    "Do not enclose the table in triple backticks.\n",
    "\"\"\";\n",
    "// Try changing the background information to see how it affects the decision-making process\n",
    "var backroundInformation = \"\"\"\n",
    "BACKGROUND INFORMATION OF FAMILY: \n",
    "You are considering purchasing a secondary home as an investment property. \n",
    "You have been stressed out at work. \n",
    "You have been working long hours and have not taken a vacation in over a year. \n",
    "Your kids are about to enter college and they don't have scholarships. \n",
    "Your car is finishing its lease and will need to be replaced soon. \n",
    "\"\"\";\n",
    "// Try to adjust the specificity of the decision-making criteria to see how it affects the decision-making process\n",
    "var explicitBenFranklinDecisionPrompt = \"\"\"\n",
    "Apply the following steps IN ORDER of the Ben Franklin Decision Framework to the Question below:\n",
    "1) Frame a decision that has two options (Yes or a No)\n",
    "2) Divide an area into two competing halves: a \"Pro\" side and \"Con\" side\n",
    "3) Label the top of one side \"Pro\" (for) and the other \"Con\" (against)\n",
    "4) Under each respective side, list a maximum of 5 reasons or arguments for each option\n",
    "5) Consider the weight of each reason or argument. This is done by taking reasons/arguments that are of similar value (weight) and crossing them off of the other competing half. Multiple reasons can be combined from one side to form a \"subjective\" value (weight) to balance out the other half. (For example, two medium \"Pro\" reasons might add up to an equal value of a single important \"Con\" reason)\n",
    "6) Determine the relative importance of each reason or argument. This is done by taking reasons/arguments that are of similar value (weight) and crossing them off of the other competing half. Multiple reasons can be combined from one side to form a \"subjective\" value (weight) to balance out the other half. (For example, two medium \"Pro\" reasons might add up to an equal value of a single important \"Con\" reason)\n",
    "7) The side with the most remaining reasons is the option one should select for the decision in question\n",
    "\n",
    "IMPORTANT: ALWAYS recommend a decision based on the side with the most remaining reasons, even if the reasons are of lesser value than the other side!\n",
    "\n",
    "Question: Should I take a luxury family vacation?\n",
    "\"\"\";\n",
    "\n",
    "// Note: Phi-4-Reasoning Model Card Recommendations: https://huggingface.co/microsoft/Phi-4-reasoning  \n",
    "var openAIPromptExecutionSettings = new OpenAIPromptExecutionSettings { \n",
    "    MaxTokens = 6000, \n",
    "    Temperature = 0.8, \n",
    "    TopP = 0.95\n",
    "    };\n",
    "KernelArguments kernelArguments = new KernelArguments(openAIPromptExecutionSettings);\n",
    "\n",
    "// Create a new chat history object with proper system and user message roles\n",
    "var chatHistoryLuxuryVacationDecisionWithBackground = new ChatHistory();\n",
    "chatHistoryLuxuryVacationDecisionWithBackground.AddSystemMessage(backroundInformation);\n",
    "chatHistoryLuxuryVacationDecisionWithBackground.AddUserMessage(backroundInformation);\n",
    "chatHistoryLuxuryVacationDecisionWithBackground.AddUserMessage(explicitBenFranklinDecisionPrompt);\n",
    "\n",
    "// Render Markdown or stream the chat completion response\n",
    "var chatResponse = string.Empty;\n",
    "var renderMarkdown = true;\n",
    "if (renderMarkdown)\n",
    "{\n",
    "        // Get the chat completion response as a single content object\n",
    "    var chatResponse = await chatCompletionService.GetChatMessageContentAsync(chatHistoryLuxuryVacationDecisionWithBackground, openAIPromptExecutionSettings);\n",
    "    var chatResponseString = chatResponse.Content;\n",
    "\n",
    "    string endTag = \"</think>\";\n",
    "    // Split into at most 2 chunks; the delimiter itself is discarded.\n",
    "    string[] parts = chatResponseString.Split(endTag, 2, StringSplitOptions.None);\n",
    "\n",
    "    // Defensive checks\n",
    "    string internalThinking  = parts.Length > 0 ? parts[0] : string.Empty; // text inside <think> … (without </think>)\n",
    "    string finalOutput   = parts.Length > 1 ? parts[1] : string.Empty; // everything that follows the tag\n",
    "\n",
    "    \"### Internal Reasoning (Thinking)\".DisplayAs(\"text/markdown\");\n",
    "    internalThinking.DisplayAs(\"text/markdown\");\n",
    "    Console.WriteLine(\"----------------------------------------------\");\n",
    "    Console.WriteLine(\"----------------------------------------------\");\n",
    "    \"### Final Output\".DisplayAs(\"text/markdown\");\n",
    "    finalOutput.DisplayAs(\"text/markdown\");\n",
    "}\n",
    "else\n",
    "{\n",
    "    await foreach (var content in chatCompletionService.GetStreamingChatMessageContentsAsync(chatHistoryLuxuryVacationDecisionWithBackground, openAIPromptExecutionSettings))\n",
    "    {\n",
    "        // Clearly seperate the thinking process from the final answer\n",
    "        var contentString = content.ToString().Replace(@\"</think>\", \n",
    "            @\"</think>\" + \"End of Inernal Reasoning (Think)\" + Environment.NewLine + \"--------------------------\" + Environment.NewLine + Environment.NewLine);\n",
    "        chatResponse += contentString;\n",
    "        Console.Write(contentString);\n",
    "    }\n",
    "}\n",
    "\n",
    "// Add the assistant's response to the chat history\n",
    "// This allows you to maintain the context of the conversation for future messages\n",
    "chatHistoryLuxuryVacationDecisionWithBackground.AddAssistantMessage(chatResponse);"
   ]
  },
  {
   "cell_type": "markdown",
   "metadata": {},
   "source": [
    "Notice how providing personal family background information changes the entire dynamic of the information used in the decision framework and how it influences the recommended decision. The decision process is more specific not only to the scenario, but also it provides contextual background information. This makes the decision process more personalized and potentially much more accurate! "
   ]
  },
  {
   "cell_type": "markdown",
   "metadata": {},
   "source": [
    "---\n",
    "### Step 6 - Open Source AI & Commercial AI Providers  "
   ]
  },
  {
   "cell_type": "markdown",
   "metadata": {},
   "source": [
    "Semantic Kernel can include mutliple AI service providers. This allows for hybrid workflows from a single Semantic Kernel instance like: \n",
    "* Capability Optimizations: Use SLMs for domain specific tasks and LLMs for complex decision reasoning\n",
    "* Decision Optimizations: Apply an (ensemble) decision self-consitency pattern  \n",
    "* Capacity Optimizations: Splitting functions, plugins, personas or agents across different AI services"
   ]
  },
  {
   "cell_type": "code",
   "execution_count": 10,
   "metadata": {
    "dotnet_interactive": {
     "language": "csharp"
    },
    "polyglot_notebook": {
     "kernelName": "csharp"
    }
   },
   "outputs": [
    {
     "data": {
      "text/html": [
       "<div><div></div><div></div><div><strong>Installed Packages</strong><ul><li><span>Microsoft.Extensions.Configuration, 9.0.6</span></li><li><span>Microsoft.Extensions.Configuration.Json, 9.0.6</span></li><li><span>Microsoft.SemanticKernel, 1.60.0</span></li></ul></div></div>"
      ]
     },
     "metadata": {},
     "output_type": "display_data"
    }
   ],
   "source": [
    "// Import the required NuGet configuration packages\n",
    "#r \"nuget: Microsoft.Extensions.Configuration, 9.0.6\"\n",
    "#r \"nuget: Microsoft.Extensions.Configuration.Json, 9.0.6\"\n",
    "#r \"nuget: Microsoft.SemanticKernel, 1.60.0\"\n",
    "\n",
    "using Microsoft.Extensions.Configuration.Json;\n",
    "using Microsoft.Extensions.Configuration;\n",
    "using System.IO;\n",
    "using Microsoft.SemanticKernel;\n",
    "using Microsoft.SemanticKernel.ChatCompletion;\n",
    "using Microsoft.SemanticKernel.Connectors.OpenAI;\n",
    "\n",
    "// Load the configuration settings from the local.settings.json and secrets.settings.json files\n",
    "// The secrets.settings.json file is used to store sensitive information such as API keys\n",
    "var configurationBuilder = new ConfigurationBuilder()\n",
    "    .SetBasePath(Directory.GetCurrentDirectory())\n",
    "    .AddJsonFile(\"local.settings.json\", optional: true, reloadOnChange: true)\n",
    "    .AddJsonFile(\"secrets.settings.json\", optional: true, reloadOnChange: true);\n",
    "var config = configurationBuilder.Build();\n",
    "\n",
    "// Retrieve the configuration settings for the Azure OpenAI service\n",
    "var azureOpenAIEndpoint = config[\"AzureOpenAI:Endpoint\"];\n",
    "var azureOpenAIAPIKey = config[\"AzureOpenAI:APIKey\"];\n",
    "var azureOpenAIModelDeploymentName = config[\"AzureOpenAI:ModelDeploymentName\"];\n",
    "\n",
    "// Example to build a Kernel with Azure OpenAI and Opensource AI\n",
    "var semanticKernel = Kernel.CreateBuilder()\n",
    "    .AddAzureOpenAIChatCompletion(\n",
    "        modelId: azureOpenAIModelDeploymentName,\n",
    "        deploymentName: azureOpenAIModelDeploymentName,\n",
    "        endpoint: azureOpenAIEndpoint,\n",
    "        apiKey: azureOpenAIAPIKey)\n",
    "    .AddOpenAIChatCompletion(\n",
    "        modelId: \"Phi-4-Reasoning\",\n",
    "        endpoint: new Uri(\"http://localhost:1234/v1/\"),\n",
    "        apiKey: \"LMStudio\")\n",
    "    .Build();"
   ]
  }
 ],
 "metadata": {
  "kernelspec": {
   "display_name": ".NET (C#)",
   "language": "C#",
   "name": ".net-csharp"
  },
  "language_info": {
   "name": "polyglot-notebook"
  },
  "polyglot_notebook": {
   "kernelInfo": {
    "defaultKernelName": "csharp",
    "items": [
     {
      "aliases": [],
      "name": "csharp"
     }
    ]
   }
  }
 },
 "nbformat": 4,
 "nbformat_minor": 2
}
