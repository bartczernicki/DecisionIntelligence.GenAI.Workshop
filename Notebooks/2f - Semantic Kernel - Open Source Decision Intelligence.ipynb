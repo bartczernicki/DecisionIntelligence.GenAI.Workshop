{
 "cells": [
  {
   "cell_type": "markdown",
   "metadata": {},
   "source": [
    "<img style=\"float: left;padding-right: 10px\" width =\"40px\" src=\"https://raw.githubusercontent.com/bartczernicki/DecisionIntelligence.GenAI.Workshop/main/Images/SemanticKernelLogo.png\">\n",
    "\n",
    "## Semantic Kernel - Open Source Decision Intelligence"
   ]
  },
  {
   "cell_type": "markdown",
   "metadata": {},
   "source": [
    "Decision Intelligence applied in this module:  \n",
    "* Listing key factors to consider when making a sound decision  \n",
    "* Decision Scenario: Use a decision framework (Ben Franklin's Pro & Con List) to create a decision plan  \n",
    "* Improving Decision Intelligence process by explicitly proving decision frameworks and additional context "
   ]
  },
  {
   "cell_type": "markdown",
   "metadata": {},
   "source": [
    "A recommended enterprise pattern is to scale Articial Intelligence strategy with three key areas:\n",
    "* Commercial AI (OpenAI and other proprietary AI providers)\n",
    "* Open-Source AI (open-source AI providers)\n",
    "* Partner (Vendor) AI (i.e. company HR Software, contract software)  \n",
    "\n",
    "These three areas together strategically form AI capability and capacity in what I like to call the \"AI Brain\". This is illustrated below.\n",
    "\n",
    "<img width =\"750px\" src=\"https://raw.githubusercontent.com/bartczernicki/DecisionIntelligence.GenAI.Workshop/main/Images/AIBrainPillars.png\">\n",
    "\n",
    "Semantic Kernel embraces AI orchestration across all the pillars mentioned above. It allows all types of models (commercial or proprietary) and almost any APIs to be orchestrated to faciliate better decision intelligence."
   ]
  },
  {
   "cell_type": "markdown",
   "metadata": {},
   "source": [
    "### Step 1 - Get Started with LMStudio and Local Open Source AI Models "
   ]
  },
  {
   "cell_type": "markdown",
   "metadata": {},
   "source": [
    "This module highlights how to use local GenAI models (i.e. LLMs) with Semantic Kernel. To illustrate this the Phi-4 model is run locally using LMStudio as a local REST endpoint that will interface with Semantic Kernel orchestration.  \n",
    "\n",
    "Steps to get started:\n",
    "* Download & install LMStudio: https://lmstudio.ai/ (Windows, Mac or Linux) \n",
    "* Run the LMStudio studio application \n",
    "* In the LMStudio application, download the Phi-4 GGUF file. Search for \"Phi-4\" in the \"Discover\" section of LMStudio. A variety of Phi-4 options that are official and unofficial from hobbyists will appear. Typically, selecting the model with the most downloads will provide the best results.  \n",
    "* In the experiment below, the 14B parameter model is being used. LMStudio will inspect your hardware and let you know which quantized version of the model(s) is optimal for your hardware. Note: Even computers with small graphics cards can run these models well locally. Furthermore, laptops such as the Macbook Pro with Neural Engine can run LMStudio local models as well. \n",
    "* Start the LMStudio Server with the Phi-3.5-Mini model loaded. This will start a local REST endpoint with a URI similar to http://localhost:1234/v1 \n",
    "* The LMStudio local server does not have default security, you can simply check by navigating to this link in any browser to check if a model is loaded: http://localhost:1234/v1/models \n",
    "\n",
    "<img width =\"900px\" src=\"https://raw.githubusercontent.com/bartczernicki/DecisionIntelligence.GenAI.Workshop/main/Images/LMStudioServer.png\"> "
   ]
  },
  {
   "cell_type": "markdown",
   "metadata": {},
   "source": [
    "### Step 2 - Initialize Configuration Builder & Build the Semantic Kernel Orchestration"
   ]
  },
  {
   "cell_type": "markdown",
   "metadata": {},
   "source": [
    "Execute the next cell to:\n",
    "* Use the Configuration Builder to use the local LMStudio Server  \n",
    "* Use the API configuration to build the Semantic Kernel orchestrator  \n",
    "* Notice there is no security being passed in and it is simply a URL"
   ]
  },
  {
   "cell_type": "code",
   "execution_count": 1,
   "metadata": {
    "dotnet_interactive": {
     "language": "csharp"
    },
    "polyglot_notebook": {
     "kernelName": "csharp"
    },
    "vscode": {
     "languageId": "polyglot-notebook"
    }
   },
   "outputs": [
    {
     "data": {
      "text/html": [
       "<div><div></div><div></div><div><strong>Installed Packages</strong><ul><li><span>Microsoft.SemanticKernel, 1.32.0</span></li></ul></div></div>"
      ]
     },
     "metadata": {},
     "output_type": "display_data"
    }
   ],
   "source": [
    "#r \"nuget: Microsoft.SemanticKernel, 1.32.0\"\n",
    "\n",
    "using Microsoft.SemanticKernel;\n",
    "using Microsoft.SemanticKernel.ChatCompletion;\n",
    "using Microsoft.SemanticKernel.Connectors.OpenAI;\n",
    "\n",
    "#pragma warning disable SKEXP0010 \n",
    "var semanticKernel = Kernel.CreateBuilder()\n",
    "    .AddOpenAIChatCompletion(\n",
    "        modelId: \"Phi-4\",\n",
    "        endpoint: new Uri(\"http://localhost:1234/v1/\"),\n",
    "        apiKey: null)\n",
    "    .Build();\n",
    "#pragma warning restore SKEXP0010"
   ]
  },
  {
   "cell_type": "markdown",
   "metadata": {},
   "source": [
    "### Step 3 - Open Source AI Models with Decision Intelligence "
   ]
  },
  {
   "cell_type": "markdown",
   "metadata": {},
   "source": [
    "Semantic Kernel allows one to interact with any API service that adheres to the OpenAI specification. Notice the method to add LMStudio capability was simply enabled via the **AddOpenAIChatCompletion** method.\n",
    "\n",
    "Execute the cell below about decision factors for a investment property. Note:\n",
    "* OpenAI Prompt Execution Settings are the same in LMStudio as they are for OpenAI and Azure OpenAI\n",
    "* Passing in arguents works the same way in Semantic Kernel\n",
    "* Streaming works as well in Semantic Kernel for supported services"
   ]
  },
  {
   "cell_type": "markdown",
   "metadata": {},
   "source": [
    "> \"Don't wait to buy real estate. Buy real estate and wait.\"  \n",
    ">\n",
    "> -- <cite>Will Rodgers (American humorist, actor, and social commentator in the early 20th century)</cite>  "
   ]
  },
  {
   "cell_type": "code",
   "execution_count": 3,
   "metadata": {
    "dotnet_interactive": {
     "language": "csharp"
    },
    "polyglot_notebook": {
     "kernelName": "csharp"
    },
    "vscode": {
     "languageId": "polyglot-notebook"
    }
   },
   "outputs": [
    {
     "name": "stdout",
     "output_type": "stream",
     "text": [
      "As a large language model, I cannot provide specific financial or legal advice. For such matters, it is important to consult with qualified professionals like real estate agents, financial advisors, or attorneys. However, I can offer some general guidance on the key factors you should consider when evaluating a secondary home as an investment property.\n",
      "\n",
      "### Key Factors for Evaluating a Secondary Home Investment\n",
      "\n",
      "1. **Location Assessment**\n",
      "   - **Market Demand:** Research the local rental market to understand demand and competition. Look at vacancy rates and average rental prices.\n",
      "   - **Economic Indicators:** Consider factors such as employment rates, population growth, and economic stability in the area.\n",
      "   - **Amenities and Infrastructure:** Evaluate proximity to schools, hospitals, public transportation, shopping centers, and recreational facilities.\n",
      "\n",
      "2. **Potential Rental Income**\n",
      "   - **Comparable Rentals:** Analyze rental prices of similar properties in the area to estimate potential income.\n",
      "   - **Occupancy Rates:** Consider historical occupancy rates to gauge how often you might expect the property to be rented out.\n",
      "   - **Seasonality:** For vacation rentals, assess seasonal demand fluctuations and plan accordingly.\n",
      "\n",
      "3. **Financing Options**\n",
      "   - **Mortgage Terms:** Explore different mortgage options, interest rates, and loan terms that suit your financial situation.\n",
      "   - **Down Payment Requirements:** Understand the down payment requirements for investment properties versus primary residences.\n",
      "   - **Cash Flow Analysis:** Calculate potential cash flow by subtracting expenses (mortgage, taxes, insurance, maintenance) from rental income.\n",
      "\n",
      "4. **Long-term Property Value**\n",
      "   - **Appreciation Trends:** Research historical property value trends in the area to predict future appreciation.\n",
      "   - **Development Plans:** Investigate any planned developments or infrastructure projects that could impact property values.\n",
      "   - **Property Condition and Upgrades:** Consider the current condition of the property and potential costs for necessary upgrades.\n",
      "\n",
      "5. **Associated Risks**\n",
      "   - **Market Volatility:** Be aware of economic factors that could affect real estate markets, such as interest rate changes or economic downturns.\n",
      "   - **Tenant Management:** Consider the challenges of managing tenants, including finding reliable renters and handling maintenance issues.\n",
      "   - **Legal and Regulatory Issues:** Understand local landlord-tenant laws, zoning regulations, and any restrictions on short-term rentals.\n",
      "\n",
      "### Critical Steps for Assessment\n",
      "\n",
      "1. **Conduct Thorough Research:**\n",
      "   - Gather data on market trends, rental rates, and economic indicators in the desired location.\n",
      "\n",
      "2. **Perform Financial Analysis:**\n",
      "   - Calculate potential returns using metrics like cap rate (capitalization rate) and cash-on-cash return.\n",
      "   - Use financial modeling to project future income and expenses.\n",
      "\n",
      "3. **Visit Properties:**\n",
      "   - Inspect properties personally or hire a professional inspector to assess condition and identify any issues.\n",
      "\n",
      "4. **Consult Professionals:**\n",
      "   - Engage with real estate agents, mortgage brokers, and legal advisors to gain insights and ensure compliance with regulations.\n",
      "\n",
      "5. **Evaluate Financing Options:**\n",
      "   - Compare different financing options to find the most favorable terms for your investment strategy.\n",
      "\n",
      "6. **Risk Assessment:**\n",
      "   - Identify potential risks and develop strategies to mitigate them, such as setting aside a maintenance fund or obtaining insurance coverage.\n",
      "\n",
      "By carefully evaluating these factors and following these steps, you can make a more informed decision about purchasing a secondary home as an investment property."
     ]
    }
   ],
   "source": [
    "// Prompting works in a very similar way to the OpenAI API\n",
    "\n",
    "// Create a Decision Intelligence prompt on the topic of purchasing a secondary home as an investment property\n",
    "// Provide detailed decision-making criteria for evaluating the investment decision\n",
    "var simpleDecisionPrompt = \"\"\"\n",
    "You are considering purchasing a secondary home as an investment property. \n",
    "\n",
    "What key factors should you evaluate to ensure a sound investment decision, including financial, market, and property-specific considerations? \n",
    "Outline the critical steps and criteria for assessing location, potential rental income, financing options, long-term property value, and associated risks.\n",
    "\"\"\";\n",
    "\n",
    "// You can set the typical OpenAI settings with most open-source models\n",
    "// Try different settings (Temperature, FrequencyPenalty etc) to see how they affect the quality of the generated text\n",
    "// Note: The settings below are similar to OpenAI API settings. Most OSS models support these settings  \n",
    "var openAIPromptExecutionSettings = new OpenAIPromptExecutionSettings { \n",
    "    MaxTokens = 750, \n",
    "    Temperature = 0.1, \n",
    "    TopP = 1.0, \n",
    "    FrequencyPenalty = 0.0, \n",
    "    PresencePenalty = 0.0\n",
    "    };\n",
    "KernelArguments kernelArguments = new KernelArguments(openAIPromptExecutionSettings);\n",
    "\n",
    "// Most open-source GenAI moodels support streaming as well\n",
    "await foreach (var streamChunk in semanticKernel.InvokePromptStreamingAsync(simpleDecisionPrompt, kernelArguments))\n",
    "{\n",
    "   Console.Write(streamChunk);\n",
    "}"
   ]
  },
  {
   "cell_type": "markdown",
   "metadata": {},
   "source": [
    "Advanced Prompt Engineering techniques can be applied to OSS (open-source) models as well. In the example below a more advanced reasoning decision prompt will be used to provide additional instructions to the GenAI model."
   ]
  },
  {
   "cell_type": "code",
   "execution_count": 4,
   "metadata": {
    "dotnet_interactive": {
     "language": "csharp"
    },
    "polyglot_notebook": {
     "kernelName": "csharp"
    },
    "vscode": {
     "languageId": "polyglot-notebook"
    }
   },
   "outputs": [
    {
     "name": "stdout",
     "output_type": "stream",
     "text": [
      "To address your consideration of purchasing a secondary home as an investment property, let's follow a structured approach to ensure comprehensive advice.\n",
      "\n",
      "### Understand the Problem\n",
      "\n",
      "You are contemplating buying a secondary home with the intention of it being an investment property. This involves understanding both personal and financial implications, market conditions, potential returns, and risks associated with such an investment.\n",
      "\n",
      "### Break Down the Reasoning Process\n",
      "\n",
      "1. **Define Objectives**: Clarify your goals for purchasing this property. Are you looking to generate rental income, benefit from capital appreciation, or use it as a vacation home that can also be rented out?\n",
      "\n",
      "2. **Market Research**: Analyze the real estate market in the area where you plan to buy. Consider factors like location desirability, economic growth, employment rates, and housing demand.\n",
      "\n",
      "3. **Financial Analysis**:\n",
      "   - **Budgeting**: Determine your budget, including down payment, closing costs, property taxes, insurance, maintenance, and potential renovation expenses.\n",
      "   - **Financing Options**: Explore mortgage options, interest rates, and terms that suit your financial situation.\n",
      "   - **Cash Flow Projections**: Estimate rental income versus expenses to determine if the property will generate positive cash flow.\n",
      "\n",
      "4. **Risk Assessment**:\n",
      "   - **Market Risks**: Consider potential downturns in the real estate market or economic conditions affecting property values and rental demand.\n",
      "   - **Property-Specific Risks**: Evaluate risks related to property condition, location issues, or legal complications.\n",
      "\n",
      "5. **Legal and Tax Implications**:\n",
      "   - Understand local laws regarding property ownership, landlord-tenant regulations, and tax implications of owning an investment property.\n",
      "\n",
      "6. **Exit Strategy**: Plan for potential scenarios where you might need to sell the property, including market conditions that could affect resale value.\n",
      "\n",
      "### Explain Each Step\n",
      "\n",
      "1. **Define Objectives**: Clearly defining your objectives helps tailor your search and decision-making process. For example, if rental income is a priority, focus on areas with high rental demand.\n",
      "\n",
      "2. **Market Research**: Conducting thorough research ensures you choose a location with growth potential. Look at historical price trends, vacancy rates, and future development plans in the area.\n",
      "\n",
      "3. **Financial Analysis**:\n",
      "   - **Budgeting**: Accurate budgeting prevents financial strain. Include all possible costs to avoid surprises.\n",
      "   - **Financing Options**: Compare different mortgage products to find one that minimizes interest payments while fitting your cash flow needs.\n",
      "   - **Cash Flow Projections**: Use realistic rental rates and expenses to project net income, ensuring the investment is financially viable.\n",
      "\n",
      "4. **Risk Assessment**: Identifying risks allows you to prepare mitigation strategies, such as setting aside a maintenance fund or choosing properties with strong tenant demand.\n",
      "\n",
      "5. **Legal and Tax Implications**: Consulting with legal and tax professionals ensures compliance and optimizes your financial position regarding deductions and liabilities.\n",
      "\n",
      "6. **Exit Strategy**: Having an exit strategy provides flexibility and peace of mind, allowing you to adapt to changing circumstances without significant losses.\n",
      "\n",
      "### Arrive at the Final Answer\n",
      "\n",
      "Based on the outlined steps, here is a structured approach to purchasing a secondary home as an investment property:\n",
      "\n",
      "1. **Clarify Your Investment Goals**: Determine whether your primary aim is rental income, capital appreciation, or both.\n",
      "2. **Conduct Thorough Market Research**: Focus on areas with strong economic indicators and growth potential.\n",
      "3. **Perform Detailed Financial Analysis**: Ensure you have a clear understanding of all costs involved and project cash flow accurately.\n",
      "4. **Assess Risks**: Identify potential risks and develop strategies to mitigate them.\n",
      "5. **Understand Legal and Tax Implications**: Seek professional advice to navigate legal requirements and tax benefits.\n",
      "6. **Plan an Exit Strategy**: Be prepared for various scenarios that might require you to sell the property.\n",
      "\n",
      "### Review the Thought Process\n",
      "\n",
      "- Ensure all steps are logically connected and cover both personal and financial aspects of the investment.\n",
      "- Double-check calculations and assumptions in your financial analysis.\n",
      "- Verify that risk assessments consider both market-wide and property-specific factors.\n",
      "\n",
      "### Communicate the Final Decision Using the Minto Pyramid Principle\n",
      "\n",
      "**Conclusion**: Purchasing a secondary home as an investment requires careful planning, thorough research, and strategic financial management. By defining clear objectives, conducting comprehensive market and financial analyses, assessing risks, understanding legal implications, and preparing an exit strategy, you can make an informed decision that aligns with your investment goals.\n",
      "\n",
      "**Supporting Points**:\n",
      "- **Objective Clarity**: Align property choice with personal and financial goals.\n",
      "- **Market Research**: Focus on areas with strong growth potential.\n",
      "- **Financial Planning**: Ensure positive cash flow and budget for all costs.\n",
      "- **Risk Management**: Identify and mitigate potential risks.\n",
      "- **Legal and Tax Considerations**: Seek professional advice to optimize your position.\n",
      "- **Exit Strategy**: Plan for flexibility in changing market conditions.\n",
      "\n",
      "By following this structured approach, you can make a well-informed decision about purchasing a secondary home as an investment property."
     ]
    }
   ],
   "source": [
    "// Prompting works in a very similar way to the OpenAI API\n",
    "\n",
    "// Create a Decision Intelligence prompt on the topic of purchasing a secondary home as an investment property\n",
    "// Use Chain of Thought to prompt the OSS model\n",
    "// Use the Minto Pyramid to communicate the decision \n",
    "var advancedDecisionPrompt = \"\"\"\n",
    "You are considering purchasing a secondary home as an investment property. \n",
    "\n",
    "Before providing any answer, you must: \n",
    "Understand the Problem: Carefully read and understand the user's question or request. \n",
    "Break Down the Reasoning Process: Outline the steps required to solve the problem or respond to the request logically and sequentially. Think aloud and describe each step in detail. \n",
    "Always aim to make your thought process transparent and logical. \n",
    "Explain Each Step: Provide reasoning or calculations for each step, explaining how you arrive at each part of your answer. \n",
    "Provide structured, logical, and comprehensive advice. \n",
    "Arrive at the Final Answer: Only after completing all steps, provide the final answer or solution. \n",
    "Review the Thought Process: Double-check the reasoning for errors or gaps before finalizing your response. \n",
    "Communicate the final decision using the Minto Pyramid Principle.\n",
    "\"\"\";\n",
    "\n",
    "// You can set the typical OpenAI settings with most open-source models\n",
    "// Try different settings (Temperature, FrequencyPenalty etc) to see how they affect the quality of the generated text\n",
    "var openAIPromptExecutionSettings = new OpenAIPromptExecutionSettings { \n",
    "    MaxTokens = 750, \n",
    "    Temperature = 0.2, \n",
    "    TopP = 1.0, \n",
    "    FrequencyPenalty = 0.0, \n",
    "    PresencePenalty = 0.0\n",
    "    };\n",
    "KernelArguments kernelArguments = new KernelArguments(openAIPromptExecutionSettings);\n",
    "\n",
    "// Most open-source GenAI moodels support streaming as well\n",
    "await foreach (var streamChunk in semanticKernel.InvokePromptStreamingAsync(advancedDecisionPrompt, kernelArguments))\n",
    "{\n",
    "   Console.Write(streamChunk);\n",
    "}"
   ]
  },
  {
   "cell_type": "markdown",
   "metadata": {},
   "source": [
    "### Step 4 - Using the Ben Franklin Decision Framework to Make Quality Decisions"
   ]
  },
  {
   "cell_type": "markdown",
   "metadata": {},
   "source": [
    "> \"By failing to prepare, you are preparing to fail.\" \n",
    ">\n",
    "> -- <cite>Ben Franklin (Founding Father of the United States, inventor, godfather of Decision Science)</cite> \n",
    "\n",
    "<img width =\"750px\" src=\"https://raw.githubusercontent.com/bartczernicki/Articles/main/20230326-Make-Great-Decisions-Using-Ben-Franklins-Pros-And-Cons-Method/Image-BenFranklinDecisionMakingMethod.png\">"
   ]
  },
  {
   "cell_type": "markdown",
   "metadata": {},
   "source": [
    "#### Tom Brady's use of a Decision Framework"
   ]
  },
  {
   "cell_type": "markdown",
   "metadata": {},
   "source": [
    "Tom Brady's decision to join the Tampa Bay Buccaneers in 2020 marked a significant in his legendary NFL career. After 20 seasons and six Super Bowl championships with the New England Patriots, Brady became a free agent and chose to sign with the Bucs. How did he arrive at this decision? On the Fox broadcast on 09.29.2024, while covering the Buccaneers vs Philadelphia Eagles game, Tom Brady described how he arrived at this decision.\n",
    "\n",
    "In the screenshot below, Tom Brady is holding up some small paper cards he is showing the audience of the broadcast. Brady mentioned he wrote down the personal decision criteria that was important and how each team compared in that criteria (salary, weather etc). He used this to select the Tampa Bay Buccaneers as his team, where he went on to win a Super Bowl in his first year there! **Tom Brady used the \"Ben Franklin Decision Framework\", 250 years after it's inception to decide where to play NFL quaterback!**  \n",
    "\n",
    "<img width =\"750px\" src=\"https://raw.githubusercontent.com/bartczernicki/DecisionIntelligence.GenAI.Workshop/main/Images/BenFranklinDecisionFramework-TomBrady.png\">"
   ]
  },
  {
   "cell_type": "markdown",
   "metadata": {},
   "source": [
    "#### Steps for Ben Franklin's Decision Framework"
   ]
  },
  {
   "cell_type": "markdown",
   "metadata": {},
   "source": [
    "Below are the steps Ben Franklin recommends when making a decision, which he called his \"Decision Making Method of Moral Algebra\":  \n",
    "- Frame a decision that has two options (Yes or a No)\n",
    "- Divide an area into two competing halves: a \"Pro\" side and \"Con\" side\n",
    "- Label the top of one side \"Pro\" (for) and the other \"Con\" (against)\n",
    "- Under each respective side, over a period of time (Ben Franklin recommended days, this could be minutes) write down various reasons/arguments that support (Pro) or are against (Con) the decision\n",
    "- After spending some time thinking exhaustively and writing down the reasons, weight the different Pro and Con reasons/arguments\n",
    "- Determine the relative importance of each reason or argument. This is done by taking reasons/arguments that are of similar value (weight) and crossing them off of the other competing half. Multiple reasons can be combined from one side to form a \"subjective\" value (weight) to balance out the other half. (For example, two medium \"Pro\" reasons might add up to an equal value of a single important \"Con\" reason)\n",
    "- The side with the most remaining reasons is the option one should select for the decision in question\n",
    "\n",
    "Learn more about Ben Franklin's Decision Framework: https://medium.com/@bartczernicki/make-great-decisions-using-ben-franklins-decision-making-method-c7fb8b17905c  "
   ]
  },
  {
   "cell_type": "code",
   "execution_count": 5,
   "metadata": {
    "dotnet_interactive": {
     "language": "csharp"
    },
    "polyglot_notebook": {
     "kernelName": "csharp"
    },
    "vscode": {
     "languageId": "polyglot-notebook"
    }
   },
   "outputs": [
    {
     "name": "stdout",
     "output_type": "stream",
     "text": [
      "The Ben Franklin Decision-Making Framework is a classic method for evaluating decisions by listing their advantages and disadvantages. Here's how you can apply it to decide whether or not to take a luxury family vacation:\n",
      "\n",
      "### Pros of Taking a Luxury Family Vacation\n",
      "\n",
      "1. **Quality Time Together**: Provides an opportunity for the family to bond, create lasting memories, and strengthen relationships.\n",
      "2. **Stress Relief**: Offers a break from daily routines and responsibilities, allowing everyone to relax and recharge.\n",
      "3. **Cultural Exposure**: Exposes family members to new cultures, languages, and experiences that can be educational and enriching.\n",
      "4. **Adventure and Fun**: Provides unique experiences such as exploring exotic locations, trying new activities, or enjoying luxury amenities.\n",
      "5. **Health Benefits**: Can improve mental health by reducing stress and increasing happiness through enjoyable activities and relaxation.\n",
      "6. **Skill Development**: Offers opportunities for learning new skills, whether it's snorkeling, skiing, or navigating a foreign city.\n",
      "7. **Celebration of Milestones**: Perfect way to celebrate special occasions like anniversaries, birthdays, or achievements as a family.\n",
      "8. **Photographic Memories**: Creates lasting memories and photo opportunities that can be cherished for years.\n",
      "9. **Inspiration and Creativity**: New environments can inspire creativity and new perspectives in both adults and children.\n",
      "10. **Networking Opportunities**: Can provide networking opportunities with other travelers or locals, potentially leading to future friendships.\n",
      "\n",
      "### Cons of Taking a Luxury Family Vacation\n",
      "\n",
      "1. **Cost**: Luxury vacations can be expensive, impacting the family's financial situation or savings goals.\n",
      "2. **Time Away from Work/Family**: Requires taking time off work and being away from home responsibilities, which might not always align with schedules.\n",
      "3. **Travel Stress**: Involves planning logistics such as flights, accommodations, and itineraries, which can be stressful.\n",
      "4. **Health Risks**: Potential exposure to health risks like illness or accidents while traveling.\n",
      "5. **Environmental Impact**: Luxury travel often has a higher carbon footprint due to long-distance flights and resource-intensive activities.\n",
      "6. **Cultural Sensitivity Issues**: Risk of unintentionally offending local customs or traditions if not adequately prepared.\n",
      "7. **Differing Interests**: Family members may have different interests, making it challenging to plan activities that satisfy everyone.\n",
      "8. **Potential for Conflict**: Being in close quarters for an extended period can sometimes lead to family tensions or conflicts.\n",
      "9. **Post-Vacation Blues**: The return to routine life might be difficult after the excitement of a vacation ends.\n",
      "10. **Opportunity Cost**: Time and money spent on the vacation could have been invested elsewhere, such as home improvements or educational opportunities.\n",
      "\n",
      "### Conclusion\n",
      "\n",
      "To make an informed decision using this framework, weigh the pros against the cons based on your family's values, priorities, and current circumstances. Consider factors like budget flexibility, time availability, and personal goals. If the benefits align closely with what you value most for your family experience, a luxury vacation might be worth pursuing. Conversely, if financial constraints or potential stressors outweigh the positives, it may be prudent to explore alternative options or postpone the trip."
     ]
    }
   ],
   "source": [
    "// You can also use a template to provide more context to the model combining system and user prompts\n",
    "var systemDecisionPrompt = \"\"\"\n",
    "You are a decision intelligence assistant. \n",
    "Your role is to guide users in exploring options, analyzing decisions, solving complex problems, and applying systems thinking to diverse scenarios. \n",
    "Provide structured, logical, and comprehensive advice, ensuring clarity, depth, and actionable insights to support informed decision-making.\n",
    "\"\"\";\n",
    "var benFranklinDecisionPrompt = \"\"\"\n",
    "Apply the Ben Franklin Decision-Making Framework (Pro and Con list) to evaluate whether or not to take a luxury family vacation. \n",
    "List at most 10 pros and at most 10 cons to help the user make an informed decision.\n",
    "\"\"\";\n",
    "\n",
    "var simpleDecisionPromptTemplate = $\"\"\"\n",
    "{systemDecisionPrompt}\n",
    "--------------\n",
    "{benFranklinDecisionPrompt}\n",
    "\"\"\";\n",
    "\n",
    "// You can set the typical OpenAI settings with most open-source models\n",
    "// Try different settings (Temperature, FrequencyPenalty etc) to see how they affect the quality of the generated text\n",
    "var openAIPromptExecutionSettings = new OpenAIPromptExecutionSettings { \n",
    "    MaxTokens = 750, \n",
    "    Temperature = 0.2, \n",
    "    TopP = 1.0, \n",
    "    FrequencyPenalty = 0.0, \n",
    "    PresencePenalty = 0.0\n",
    "    };\n",
    "KernelArguments kernelArguments = new KernelArguments(openAIPromptExecutionSettings);\n",
    "\n",
    "await foreach (var streamChunk in semanticKernel.InvokePromptStreamingAsync(simpleDecisionPromptTemplate, kernelArguments))\n",
    "{\n",
    "   Console.Write(streamChunk);\n",
    "}"
   ]
  },
  {
   "cell_type": "markdown",
   "metadata": {},
   "source": [
    "#### Improving the Ben Franklin's Decision Framework with SLMs"
   ]
  },
  {
   "cell_type": "markdown",
   "metadata": {},
   "source": [
    "Notice that the output above may not be exactly what most would anticipate. The Ben Franklin framework was not fully understood nor applied. Open-Source GenAI models that have a small amount of parameters (< 13 billion parameters) may not have all the inherent knowledge \"trained\" into the model. The exception being domain-specific models that are only trained on data sets for that domain. Those models can have a great deal of knowledge, while maintaining a small amount of parameters. \n",
    "\n",
    "One simple way to improve the outcome is to provide the explicit steps of the \"Ben Franklin Decision Framework\" into the prompt context. This basically provides the instructions of the decision framework directly to the model; regardless if the GenAI model was trained with decision framework data.  \n",
    "\n",
    "In the example below, the prompt context is provided with the Ben Franklin Decision Framework steps. Contrast this with the example above, where the decision recommendation is not clear. "
   ]
  },
  {
   "cell_type": "code",
   "execution_count": 6,
   "metadata": {
    "dotnet_interactive": {
     "language": "csharp"
    },
    "polyglot_notebook": {
     "kernelName": "csharp"
    },
    "vscode": {
     "languageId": "polyglot-notebook"
    }
   },
   "outputs": [
    {
     "name": "stdout",
     "output_type": "stream",
     "text": [
      "To apply the Ben Franklin Decision Framework to your question about whether you should take a luxury family vacation, we will follow the structured steps outlined in this decision-making process.\n",
      "\n",
      "### Step 1: Frame the Decision\n",
      "**Decision:** Should I take a luxury family vacation?\n",
      "\n",
      "- **Option Yes**: Take the luxury family vacation.\n",
      "- **Option No**: Do not take the luxury family vacation.\n",
      "\n",
      "### Step 2: Divide into Competing Halves\n",
      "\n",
      "#### Pro Side (For taking the vacation)\n",
      "1. **Memorable Experience**: Create lasting memories with your family.\n",
      "2. **Stress Relief**: Provides a break from daily routines and stressors.\n",
      "3. **Quality Time**: Spend quality time together, strengthening family bonds.\n",
      "4. **Exploration and Learning**: Opportunity to explore new places and cultures.\n",
      "5. **Health Benefits**: Potential health benefits from relaxation and change of scenery.\n",
      "6. **Reward**: Acts as a reward for hard work or achievements.\n",
      "7. **Adventure**: Offers excitement and adventure for all ages.\n",
      "8. **Photographic Memories**: Capture beautiful moments through photos.\n",
      "9. **Unique Experiences**: Engage in activities not possible at home.\n",
      "10. **Social Sharing**: Share experiences with friends and family on social media.\n",
      "\n",
      "#### Con Side (Against taking the vacation)\n",
      "1. **Cost**: High financial expense, possibly leading to debt or budget strain.\n",
      "2. **Time Away from Work/Family Responsibilities**: Could disrupt work schedules or other commitments.\n",
      "3. **Environmental Impact**: Air travel and tourism can have a negative environmental impact.\n",
      "4. **Health Risks**: Potential exposure to illnesses in unfamiliar environments.\n",
      "5. **Logistical Challenges**: Planning and coordinating logistics for multiple family members.\n",
      "6. **Unpredictability**: Unforeseen events (e.g., weather, cancellations) could disrupt plans.\n",
      "7. **Opportunity Cost**: Money spent on vacation could be used elsewhere (savings, investments).\n",
      "8. **Stress of Travel**: Traveling itself can sometimes be stressful and exhausting.\n",
      "9. **Cultural Sensitivity**: Risk of unintentionally offending local customs or traditions.\n",
      "10. **Post-Vacation Blues**: Potential for feeling down after the excitement ends.\n",
      "\n",
      "### Step 3: Consider the Weight of Each Reason\n",
      "\n",
      "- **Pro Side Weights**:\n",
      "  - Memorable Experience (High)\n",
      "  - Stress Relief (Medium)\n",
      "  - Quality Time (High)\n",
      "  - Exploration and Learning (Medium)\n",
      "  - Health Benefits (Low)\n",
      "  - Reward (Medium)\n",
      "  - Adventure (Medium)\n",
      "  - Photographic Memories (Low)\n",
      "  - Unique Experiences (Medium)\n",
      "  - Social Sharing (Low)\n",
      "\n",
      "- **Con Side Weights**:\n",
      "  - Cost (Very High)\n",
      "  - Time Away from Work/Family Responsibilities (High)\n",
      "  - Environmental Impact (Medium)\n",
      "  - Health Risks (Medium)\n",
      "  - Logistical Challenges (Medium)\n",
      "  - Unpredictability (Medium)\n",
      "  - Opportunity Cost (High)\n",
      "  - Stress of Travel (Low)\n",
      "  - Cultural Sensitivity (Low)\n",
      "  - Post-Vacation Blues (Low)\n",
      "\n",
      "### Step 4: Determine the Relative Importance\n",
      "\n",
      "- **Pro Side**:\n",
      "  - Memorable Experience + Quality Time = Very High\n",
      "  - Exploration and Learning + Adventure + Unique Experiences = Medium-High\n",
      "  - Stress Relief + Reward = Medium\n",
      "  - Photographic Memories + Social Sharing + Health Benefits = Low\n",
      "\n",
      "- **Con Side**:\n",
      "  - Cost = Very High\n",
      "  - Time Away from Work/Family Responsibilities + Opportunity Cost = High\n",
      "  - Environmental Impact + Health Risks + Logistical Challenges + Unpredictability = Medium-High\n",
      "\n",
      "### Step 5: Cross Off Similar Weights\n",
      "\n",
      "- **Pro Side**: \n",
      "  - Memorable Experience + Quality Time (Very High) vs. Cost (Very High)\n",
      "  - Exploration and Learning + Adventure + Unique Experiences (Medium-High) vs. Time Away from Work/Family Responsibilities + Opportunity Cost (High)\n",
      "\n",
      "- **Con Side**:\n",
      "  - Environmental Impact + Health Risks + Logistical Challenges + Unpredictability (Medium-High) vs. Stress Relief + Reward (Medium)\n",
      "\n",
      "### Step 6: Determine the Remaining Reasons\n",
      "\n",
      "After balancing, we have:\n",
      "\n",
      "- **Pro Side**: \n",
      "  - Memorable Experience + Quality Time\n",
      "  - Exploration and Learning + Adventure + Unique Experiences\n",
      "\n",
      "- **Con Side**:\n",
      "  - Cost\n",
      "  - Time Away from Work/Family Responsibilities + Opportunity Cost\n",
      "  - Environmental Impact + Health Risks + Logistical Challenges + Unpredictability\n",
      "\n",
      "### Step 7: Make the Decision\n",
      "\n",
      "The Con side has more remaining reasons of higher weight compared to the Pro side. Therefore, based on the Ben Franklin Decision Framework:\n",
      "\n",
      "**Recommendation:** Do not take the luxury family vacation.\n",
      "\n",
      "This decision is made considering the financial implications and potential disruptions outweigh the benefits of taking such a trip. However, it's important to reassess your priorities and circumstances regularly, as they may change over time."
     ]
    }
   ],
   "source": [
    "// You can also use a template to provide more context to the model combining system and user prompts\n",
    "var systemDecisionPrompt = \"\"\"\n",
    "You are a decision intelligence assistant. \n",
    "Your role is to guide users in exploring options, analyzing decisions, solving complex problems, and applying systems thinking to diverse scenarios. \n",
    "Provide structured, logical, and comprehensive advice, ensuring clarity, depth, and actionable insights to support informed decision-making.\n",
    "\"\"\";\n",
    "\n",
    "var benFranklinDecisionPrompt = \"\"\"\n",
    "Apply the following steps IN ORDER of the Ben Franklin Decision Framework to the Question below:\n",
    "- Frame a decision that has two options (Yes or a No)\n",
    "- Divide an area into two competing halves: a \"Pro\" side and \"Con\" side\n",
    "- Label the top of one side \"Pro\" (for) and the other \"Con\" (against)\n",
    "- Under each respective side, list a maximum of 10 reasons or arguments for each option\n",
    "- Consider the weight of each reason or argument. This is done by taking reasons/arguments that are of similar value (weight) and crossing them off of the other competing half. Multiple reasons can be combined from one side to form a \"subjective\" value (weight) to balance out the other half. (For example, two medium \"Pro\" reasons might add up to an equal value of a single important \"Con\" reason)\n",
    "- Determine the relative importance of each reason or argument. This is done by taking reasons/arguments that are of similar value (weight) and crossing them off of the other competing half. Multiple reasons can be combined from one side to form a \"subjective\" value (weight) to balance out the other half. (For example, two medium \"Pro\" reasons might add up to an equal value of a single important \"Con\" reason)\n",
    "- The side with the most remaining reasons is the option one should select for the decision in question\n",
    "- IMPORTANT: ALWAYS recommend a decision based on the side with the most reasons, even if the reasons are of lesser value than the other side!\n",
    "\n",
    "Question: Should I take a luxury family vacation?\n",
    "\"\"\";\n",
    "\n",
    "var simpleDecisionPromptTemplate = $\"\"\"\n",
    "{systemDecisionPrompt}\n",
    "--------------\n",
    "{benFranklinDecisionPrompt}\n",
    "\"\"\";\n",
    "\n",
    "// You can set the typical OpenAI settings with most open-source models\n",
    "// Try different settings (Temperature, FrequencyPenalty etc) to see how they affect the quality of the generated text\n",
    "var openAIPromptExecutionSettings = new OpenAIPromptExecutionSettings { \n",
    "    MaxTokens = 1500, \n",
    "    Temperature = 0.3, \n",
    "    TopP = 1.0, \n",
    "    FrequencyPenalty = 0.0, \n",
    "    PresencePenalty = 0.0\n",
    "    };\n",
    "KernelArguments kernelArguments = new KernelArguments(openAIPromptExecutionSettings);\n",
    "\n",
    "await foreach (var streamChunk in semanticKernel.InvokePromptStreamingAsync(simpleDecisionPromptTemplate, kernelArguments))\n",
    "{\n",
    "   Console.Write(streamChunk);\n",
    "}"
   ]
  },
  {
   "cell_type": "markdown",
   "metadata": {
    "dotnet_interactive": {
     "language": "csharp"
    },
    "polyglot_notebook": {
     "kernelName": "csharp"
    }
   },
   "source": [
    "The GenAI model may or may not recommend a luxury vacation, but this can be dramatically improved further! Imagine if the GenAI model had access to: your finances, current stress level, the last time you took a vacation, any upcoming major purchases, family dynamic?!  \n",
    "\n",
    "In the example below, additional context is provided with that information. Notice how it changes the the Pro and Con list.  \n",
    "\n",
    "Just like Tom Brady, it could craft a Pro and Con list specific and personalized to your scenario!"
   ]
  },
  {
   "cell_type": "code",
   "execution_count": 8,
   "metadata": {
    "dotnet_interactive": {
     "language": "csharp"
    },
    "polyglot_notebook": {
     "kernelName": "csharp"
    },
    "vscode": {
     "languageId": "polyglot-notebook"
    }
   },
   "outputs": [
    {
     "name": "stdout",
     "output_type": "stream",
     "text": [
      "To apply the Ben Franklin Decision Framework to your question about whether you should take a luxury family vacation, let's follow each step systematically:\n",
      "\n",
      "### 1. Frame the Decision\n",
      "- **Decision:** Should I take a luxury family vacation?\n",
      "\n",
      "### 2. Divide into \"Pro\" and \"Con\" Sides\n",
      "\n",
      "#### Pro Side (For Taking the Vacation)\n",
      "- **Relieves Stress:** A vacation could provide much-needed relief from work stress, especially since you've been working long hours without taking time off.\n",
      "- **Family Bonding:** It offers an opportunity for quality family time before your kids enter college and face new challenges.\n",
      "- **Mental Health Benefits:** Taking a break can improve mental health and overall well-being.\n",
      "\n",
      "#### Con Side (Against Taking the Vacation)\n",
      "- **Financial Strain:** The cost of a luxury vacation could add financial pressure, especially with upcoming expenses like replacing your car lease and supporting your kids through college without scholarships.\n",
      "- **Opportunity Cost:** Money spent on a vacation might be better invested in other areas, such as saving for college or purchasing an investment property.\n",
      "\n",
      "### 3. Consider the Weight of Each Reason\n",
      "\n",
      "#### Pro Side Weights\n",
      "- **Relieves Stress (High):** Given your current stress levels and lack of recent vacations, this is a significant factor.\n",
      "- **Family Bonding (Medium):** Important but not as immediately pressing as financial concerns.\n",
      "- **Mental Health Benefits (Medium):** Closely related to relieving stress.\n",
      "\n",
      "#### Con Side Weights\n",
      "- **Financial Strain (High):** With multiple upcoming expenses and no scholarships for your kids, this is a major concern.\n",
      "- **Opportunity Cost (Medium):** Investing in an investment property or saving for college could have long-term benefits.\n",
      "\n",
      "### 4. Determine the Relative Importance\n",
      "\n",
      "#### Pro Side Combined Weights\n",
      "- **Relieves Stress + Mental Health Benefits:** These two medium reasons combined can be considered as one high-weight reason, balancing against financial strain.\n",
      "- **Family Bonding (Medium):** Stands alone but is important for family dynamics.\n",
      "\n",
      "#### Con Side Combined Weights\n",
      "- **Financial Strain (High):** Remains a significant concern due to the current financial situation.\n",
      "- **Opportunity Cost + Financial Strain:** These combined can be considered as one high-weight reason, emphasizing the importance of financial prudence.\n",
      "\n",
      "### 5. Determine the Decision\n",
      "\n",
      "After crossing off reasons that are balanced by their counterparts:\n",
      "\n",
      "- **Pro Side Remaining:**\n",
      "  - Relieves Stress + Mental Health Benefits (High)\n",
      "  - Family Bonding (Medium)\n",
      "\n",
      "- **Con Side Remaining:**\n",
      "  - Financial Strain + Opportunity Cost (High)\n",
      "\n",
      "The Con side has a higher combined weight due to the significant financial implications and opportunity costs associated with taking a luxury vacation.\n",
      "\n",
      "### Recommendation\n",
      "\n",
      "Based on the Ben Franklin Decision Framework, you should **not** take a luxury family vacation. The financial strain and opportunity cost outweigh the benefits of stress relief and family bonding in this scenario. Consider alternative ways to manage stress and spend quality time with your family that are more financially sustainable."
     ]
    }
   ],
   "source": [
    "// You can also use a template to provide more context to the model combining system and user prompts\n",
    "var systemDecisionPrompt = \"\"\"\n",
    "You are a decision intelligence assistant. \n",
    "Your role is to guide users in exploring options, analyzing decisions, solving complex problems, and applying systems thinking to diverse scenarios. \n",
    "Provide structured, logical, and comprehensive advice, ensuring clarity, depth, and actionable insights to support informed decision-making.\n",
    "\"\"\";\n",
    "// Try changing the background information to see how it affects the decision-making process\n",
    "var backroundInformation = \"\"\"\n",
    "BACKGROUND INFORMATION OF FAMILY: \n",
    "You are considering purchasing a secondary home as an investment property. \n",
    "You have been stressed out at work. \n",
    "You have been working long hours and have not taken a vacation in over a year. \n",
    "Your kids are about to enter college and they don't have scholarships. \n",
    "Your car is finishing its lease and will need to be replaced soon. \n",
    "\"\"\";\n",
    "// Try to adjust the specificity of the decision-making criteria to see how it affects the decision-making process\n",
    "var benFranklinDecisionPrompt = \"\"\"\n",
    "Apply the following steps IN ORDER of the Ben Franklin Decision Framework to the Question below:\n",
    "- Frame a decision that has two options (Yes or a No)\n",
    "- Divide an area into two competing halves: a \"Pro\" side and \"Con\" side\n",
    "- Label the top of one side \"Pro\" (for) and the other \"Con\" (against)\n",
    "- Under each respective side, list the relevvant reasons from \"BACKGROUND INFORMATION OF FAMILY\" section and or create new reasons that are ONLY closely related to the \"BACKGROUND INFORMATION OF FAMILY\". \n",
    "- Consider the weight of each reason or argument. This is done by taking reasons/arguments that are of similar value (weight) and crossing them off of the other competing half. Multiple reasons can be combined from one side to form a \"subjective\" value (weight) to balance out the other half. (For example, two medium \"Pro\" reasons might add up to an equal value of a single important \"Con\" reason)\n",
    "- Determine the relative importance of each reason or argument. This is done by taking reasons/arguments that are of similar value (weight) and crossing them off of the other competing half. Multiple reasons can be combined from one side to form a \"subjective\" value (weight) to balance out the other half. (For example, two medium \"Pro\" reasons might add up to an equal value of a single important \"Con\" reason)\n",
    "- The side with the most remaining reasons is the option one should select for the decision in question\n",
    "- IMPORTANT: ALWAYS recommend a decision based on the side with the most reasons, even if the reasons are of lesser value than the other side!\n",
    "\n",
    "Question: Should I take a luxury family vacation?\n",
    "\"\"\";\n",
    "\n",
    "var simpleDecisionPromptTemplate = $\"\"\"\n",
    "{systemDecisionPrompt}\n",
    "--------------\n",
    "{backroundInformation}\n",
    "--------------\n",
    "{benFranklinDecisionPrompt}\n",
    "\"\"\";\n",
    "\n",
    "// You can set the typical OpenAI settings with most open-source models\n",
    "// Try different settings (Temperature, FrequencyPenalty etc) to see how they affect the quality of the generated text\n",
    "var openAIPromptExecutionSettings = new OpenAIPromptExecutionSettings { \n",
    "    MaxTokens = 1500, \n",
    "    Temperature = 0.3, \n",
    "    TopP = 1.0, \n",
    "    FrequencyPenalty = 0.0, \n",
    "    PresencePenalty = 0.0\n",
    "    };\n",
    "KernelArguments kernelArguments = new KernelArguments(openAIPromptExecutionSettings);\n",
    "\n",
    "await foreach (var streamChunk in semanticKernel.InvokePromptStreamingAsync(simpleDecisionPromptTemplate, kernelArguments))\n",
    "{\n",
    "   Console.Write(streamChunk);\n",
    "}"
   ]
  },
  {
   "cell_type": "markdown",
   "metadata": {},
   "source": [
    "Notice how providing personal family background information changes the entire dynamic of the information used in the decision framework and how it influences the recommended decision. The decision process is more specific not only to the scenario, but also it provides contextual background information. This makes the decision process more personalized and potentially much more accurate! "
   ]
  },
  {
   "cell_type": "markdown",
   "metadata": {},
   "source": [
    "### Step 5 - Multiple Different Service Providers  "
   ]
  },
  {
   "cell_type": "markdown",
   "metadata": {},
   "source": [
    "Semantic Kernel can include mutliple AI service providers. This allows for hybrid workflows from a single Semantic Kernel instance like: \n",
    "* Capability Optimizations: Use SLMs for domain specific tasks and LLMs for complex decision reasoning\n",
    "* Decision Optimizations: Apply an (ensemble) decision self-consitency pattern  \n",
    "* Capacity Optimizations: Splitting functions, plugins, personas or agents across different AI services"
   ]
  },
  {
   "cell_type": "code",
   "execution_count": 9,
   "metadata": {
    "dotnet_interactive": {
     "language": "csharp"
    },
    "polyglot_notebook": {
     "kernelName": "csharp"
    },
    "vscode": {
     "languageId": "polyglot-notebook"
    }
   },
   "outputs": [
    {
     "data": {
      "text/html": [
       "<div><div></div><div></div><div><strong>Installed Packages</strong><ul><li><span>Microsoft.Extensions.Configuration, 9.0.0</span></li><li><span>Microsoft.Extensions.Configuration.Json, 9.0.0</span></li><li><span>Microsoft.SemanticKernel, 1.32.0</span></li></ul></div></div>"
      ]
     },
     "metadata": {},
     "output_type": "display_data"
    }
   ],
   "source": [
    "// Import the required NuGet configuration packages\n",
    "#r \"nuget: Microsoft.Extensions.Configuration, 9.0.0\"\n",
    "#r \"nuget: Microsoft.Extensions.Configuration.Json, 9.0.0\"\n",
    "#r \"nuget: Microsoft.SemanticKernel, 1.32.0\"\n",
    "\n",
    "using Microsoft.Extensions.Configuration.Json;\n",
    "using Microsoft.Extensions.Configuration;\n",
    "using System.IO;\n",
    "\n",
    "// Load the configuration settings from the local.settings.json and secrets.settings.json files\n",
    "// The secrets.settings.json file is used to store sensitive information such as API keys\n",
    "var configurationBuilder = new ConfigurationBuilder()\n",
    "    .SetBasePath(Directory.GetCurrentDirectory())\n",
    "    .AddJsonFile(\"local.settings.json\", optional: true, reloadOnChange: true)\n",
    "    .AddJsonFile(\"secrets.settings.json\", optional: true, reloadOnChange: true);\n",
    "var config = configurationBuilder.Build();\n",
    "\n",
    "// Retrieve the configuration settings for the Azure OpenAI service\n",
    "var azureOpenAIEndpoint = config[\"AzureOpenAI:Endpoint\"];\n",
    "var azureOpenAIAPIKey = config[\"AzureOpenAI:APIKey\"];\n",
    "var azureOpenAIModelDeploymentName = config[\"AzureOpenAI:ModelDeploymentName\"];\n",
    "\n",
    "// Example to build a Kernel with Azure OpenAI and Opensource AI\n",
    "#pragma warning disable SKEXP0010 \n",
    "var semanticKernel = Kernel.CreateBuilder()\n",
    "    .AddAzureOpenAIChatCompletion(\n",
    "        modelId: azureOpenAIModelDeploymentName,\n",
    "        deploymentName: azureOpenAIModelDeploymentName,\n",
    "        endpoint: azureOpenAIEndpoint,\n",
    "        apiKey: azureOpenAIAPIKey)\n",
    "    .AddOpenAIChatCompletion(\n",
    "        modelId: \"Phi-3\",\n",
    "        endpoint: new Uri(\"http://localhost:1234/v1/\"),\n",
    "        apiKey: \"LMStudio\")\n",
    "    .Build();\n",
    "#pragma warning restore SKEXP0010\n",
    "\n",
    "// var openAIPromptExecutionSettings = new OpenAIPromptExecutionSettings {\n",
    "//     MaxTokens = 1500,\n",
    "//     Temperature = 0.3, \n",
    "//     TopP = 1.0, \n",
    "//     FrequencyPenalty = 0.0, \n",
    "//     PresencePenalty = 0.0\n",
    "//     };\n",
    "// KernelArguments kernelArguments = new KernelArguments(openAIPromptExecutionSettings);"
   ]
  }
 ],
 "metadata": {
  "kernelspec": {
   "display_name": ".NET (C#)",
   "language": "C#",
   "name": ".net-csharp"
  },
  "language_info": {
   "name": "csharp"
  },
  "polyglot_notebook": {
   "kernelInfo": {
    "defaultKernelName": "csharp",
    "items": [
     {
      "aliases": [],
      "name": "csharp"
     }
    ]
   }
  }
 },
 "nbformat": 4,
 "nbformat_minor": 2
}
