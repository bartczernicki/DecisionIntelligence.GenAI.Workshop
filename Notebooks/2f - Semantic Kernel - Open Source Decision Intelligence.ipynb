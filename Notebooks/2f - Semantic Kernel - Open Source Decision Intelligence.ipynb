{
 "cells": [
  {
   "cell_type": "markdown",
   "metadata": {},
   "source": [
    "<img style=\"float: left;padding-right: 10px\" width =\"40px\" src=\"https://raw.githubusercontent.com/bartczernicki/DecisionIntelligence.GenAI.Workshop/main/Images/SemanticKernelLogo.png\">\n",
    "\n",
    "## Semantic Kernel - Open Source Decision Intelligence"
   ]
  },
  {
   "cell_type": "markdown",
   "metadata": {},
   "source": [
    "Decision Intelligence applied in this module:  \n",
    "* Listing key factors to consider when making a sound decision  \n",
    "* Decision Scenario: Use a decision framework (Ben Franklin's Pro & Con List) to create a decision plan  \n",
    "* Improving Decision Intelligence process by explicitly proving decision frameworks and additional context "
   ]
  },
  {
   "cell_type": "markdown",
   "metadata": {},
   "source": [
    "A recommended enterprise pattern is to scale Articial Intelligence strategy with three key areas:\n",
    "* Commercial AI (OpenAI and other proprietary AI providers)\n",
    "* Open-Source AI (open-source AI providers)\n",
    "* Partner (Vendor) AI (i.e. company HR Software, contract software)  \n",
    "\n",
    "These three areas together strategically form AI capability and capacity in what I like to call the \"AI Brain\". This is illustrated below.\n",
    "\n",
    "<img width =\"750px\" src=\"https://raw.githubusercontent.com/bartczernicki/DecisionIntelligence.GenAI.Workshop/main/Images/AIBrainPillars.png\">\n",
    "\n",
    "Semantic Kernel embraces AI orchestration across all the pillars mentioned above. It allows all types of models (commercial or proprietary) and almost any APIs to be orchestrated to faciliate better decision intelligence."
   ]
  },
  {
   "cell_type": "markdown",
   "metadata": {},
   "source": [
    "### Step 1 - Get Started with LMStudio and Local Open Source AI Models "
   ]
  },
  {
   "cell_type": "markdown",
   "metadata": {},
   "source": [
    "This module highlights how to use local GenAI models (i.e. LLMs) with Semantic Kernel. To illustrate this the Phi-3.5 model is run locally using LMStudio as a local REST endpoint that will interface with Semantic Kernel orchestration.  \n",
    "\n",
    "Steps to get started:\n",
    "* Download & install LMStudio: https://lmstudio.ai/ (Windows, Mac or Linux) \n",
    "* Run the LMStudio studio application \n",
    "* In the LMStudio application, download the Phi-3.5-Mini GGUF file. LMStudio will inspect your hardware and let you know which quantized version of the model(s) is optimal for your hardware. Note: Even computers with small graphics cards can run these models well locally. Furthermore, laptops such as the Macbook Pro with Neural Engine can run LMStudio local models as well. \n",
    "* Start the LMStudio Server with the Phi-3.5-Mini model loaded. This will start a local REST endpoint with a URI similar to http://localhost:1234/v1 \n",
    "* The LMStudio local server does not have default security, you can simply check by navigating to this link in any browser to check if a model is loaded: http://localhost:1234/v1/models \n",
    "\n",
    "<img width =\"900px\" src=\"https://raw.githubusercontent.com/bartczernicki/DecisionIntelligence.GenAI.Workshop/main/Images/LMStudioServer.png\">"
   ]
  },
  {
   "cell_type": "markdown",
   "metadata": {},
   "source": [
    "### Step 2 - Initialize Configuration Builder & Build the Semantic Kernel Orchestration"
   ]
  },
  {
   "cell_type": "markdown",
   "metadata": {},
   "source": [
    "Execute the next cell to:\n",
    "* Use the Configuration Builder to use the local LMStudio Server  \n",
    "* Use the API configuration to build the Semantic Kernel orchestrator  \n",
    "* Notice there is no security being passed in and it is simply a URL"
   ]
  },
  {
   "cell_type": "code",
   "execution_count": 1,
   "metadata": {
    "dotnet_interactive": {
     "language": "csharp"
    },
    "polyglot_notebook": {
     "kernelName": "csharp"
    },
    "vscode": {
     "languageId": "polyglot-notebook"
    }
   },
   "outputs": [
    {
     "data": {
      "text/html": [
       "<div><div></div><div></div><div><strong>Installed Packages</strong><ul><li><span>Microsoft.SemanticKernel, 1.29.0</span></li></ul></div></div>"
      ]
     },
     "metadata": {},
     "output_type": "display_data"
    }
   ],
   "source": [
    "#r \"nuget: Microsoft.SemanticKernel, 1.29.0\"\n",
    "\n",
    "using Microsoft.SemanticKernel;\n",
    "using Microsoft.SemanticKernel.ChatCompletion;\n",
    "using Microsoft.SemanticKernel.Connectors.OpenAI;\n",
    "\n",
    "#pragma warning disable SKEXP0010 \n",
    "var semanticKernel = Kernel.CreateBuilder()\n",
    "    .AddOpenAIChatCompletion(\n",
    "        modelId: \"lmstudio-community/Phi-3.5-mini-instruct-GGUF\",\n",
    "        endpoint: new Uri(\"http://localhost:1234/v1/\"),\n",
    "        apiKey: null)\n",
    "    .Build();\n",
    "#pragma warning restore SKEXP0010"
   ]
  },
  {
   "cell_type": "markdown",
   "metadata": {},
   "source": [
    "### Step 3 - Open Source AI Models with Decision Intelligence "
   ]
  },
  {
   "cell_type": "markdown",
   "metadata": {},
   "source": [
    "Semantic Kernel allows one to interact with any API service that adheres to the OpenAI specification. Notice the method to add LMStudio capability was simply enabled via the **AddOpenAIChatCompletion** method.\n",
    "\n",
    "Execute the cell below about decision factors for a investment property. Note:\n",
    "* OpenAI Prompt Execution Settings are the same in LMStudio as they are for OpenAI and Azure OpenAI\n",
    "* Passing in arguents works the same way in Semantic Kernel\n",
    "* Streaming works as well in Semantic Kernel for supported services"
   ]
  },
  {
   "cell_type": "markdown",
   "metadata": {},
   "source": [
    "> \"Don't wait to buy real estate. Buy real estate and wait.\"  \n",
    ">\n",
    "> -- <cite>Will Rodgers (American humorist, actor, and social commentator in the early 20th century)</cite>  "
   ]
  },
  {
   "cell_type": "code",
   "execution_count": 2,
   "metadata": {
    "dotnet_interactive": {
     "language": "csharp"
    },
    "polyglot_notebook": {
     "kernelName": "csharp"
    },
    "vscode": {
     "languageId": "polyglot-notebook"
    }
   },
   "outputs": [
    {
     "name": "stdout",
     "output_type": "stream",
     "text": [
      "When considering purchasing a secondary home as an investment property, there are several key factors to evaluate in order to ensure that your decision is sound:\n",
      "\n",
      "1. Location Assessment: The location of the potential rental property plays a crucial role in determining its profitability and long-term value appreciation. Here's what you should consider when assessing different locations: \n",
      "   - Demographics: Research population trends, age distribution, income levels, education level, employment rates, etc., to determine the demand for rental properties within that area.\n",
      "   \n",
      "   - Neighborhood amenities and attractions: Look at nearby schools, parks, shopping centers, restaurants, entertainment venues, transportation options (public transit or proximity to major highways), etc., as these factors can attract potential tenants. \n",
      "     \n",
      "   - Crime rates: Check the crime statistics of each location and compare them with other areas in your target market. Lower-crime neighborhoods tend to have higher rental demand, which translates into better occupancy rates and potentially lower vacancies for landlords.\n",
      "   \n",
      "2. Potential Rental Income Analysis: To determine the profitability of a potential investment property, you need to evaluate its expected income generation capacity based on several factors such as rent prices in that area, renter demographics (e.g., age group), and vacancy rates. Here's how to assess these aspects:\n",
      "   - Rent comparison analysis: Research the average monthly or annual rent for similar properties within your target market by using online resources like Zillow, Trulia, Apartments.com etc. \n",
      "   \n",
      "   - Tenant demographics and preferences: Understand who would be interested in living at this property (e.g., young professionals looking to start a family or retirees seeking low-maintenance housing). This information can help you set competitive rental rates that attract tenants while maximizing your income potential.\n",
      "   \n",
      "   - Vacancy rate analysis: Analyze the historical vacancy data for similar properties in the area, as high vacancy rates indicate lower demand and potentially reduced profitability due to longer periods of unoccupied time between leases or rental payments from tenants who move out frequently (e.g., college students).\n",
      "   \n",
      "3. Financing Options: Before purchasing a property for investment purposes, it's essential to explore various financing options available and choose the one that best suits your financial situation while minimizing risks associated with borrowing too much money or taking on high-interest rates (e.g., mortgage loans). Here are some critical steps in evaluating different lending sources:\n",
      "   - Compare interest rates, fees, and terms offered by various banks/lenders to find the most favorable option for your investment property purchase price range. \n",
      "   \n",
      "   - Consider using a combination of debt financing (e.g., mortgage loans) with personal savings or other sources like home equity lines if available, as this can help reduce overall borrowing costs and improve cash flow management for your investment property portfolio over time. \n",
      "   \n",
      "   - Evaluate the impact of different loan types (e.g., fixed-rate vs adjustable rate mortgages) on long-term financial stability by analyzing potential changes in interest rates, monthly payments, and overall affordability based on your projected cash flow from rental income generated at that property location over time.\n",
      "   \n",
      "4. Long-Term Property Value Appreciation: When investing in a secondary home as an asset class with the expectation of long-term value appreciation (capital gains), it's crucial to assess factors affecting its potential growth trajectory within your target market and beyond over time, such as economic trends, population shifts, infrastructure developments etc. Here are some steps for evaluating these aspects:\n",
      "   - Research historical property value appreciation rates in the area by analyzing data from sources like Zillow or Redfin to identify patterns that may indicate future growth potential (e.g., steady increases over several years). \n",
      "   \n",
      "   - Consider local economic factors such as job creation, population trends, and infrastructure developments within your target market region/city which can impact property values positively in the long run by attracting more residents or businesses to that area. For example: new schools opening up nearby may increase demand for rental properties due to families moving into those neighborhoods; improved transportation options (e.g., public transit) could make it easier for people commuting from other parts of town/city, thereby increasing property values in the process as well.\n",
      "   \n",
      "   - Evaluate potential risks associated with investing in a secondary home by considering factors such as market volatility or economic downturns that may negatively impact your expected returns on this type of real estate asset class over time (e.g., recessions leading to higher vacancy rates).\n",
      "   \n",
      "5. Associated Risks: Finally, it's essential to evaluate the risks associated with investing in a secondary home as an income-generating property and develop strategies for mitigating them effectively while maximizing potential returns over time (e.g., tenant turnover costs due to frequent vacancies). Here are some critical steps:\n",
      "   - Analyze historical data on rental market trends in your target location, including average rent prices, occupancy rates, and length of lease agreements held by landlords over time (e.g., one-year vs two-year contracts) to understand potential risks associated with tenant turnover costs or vacancies due to changing market conditions/demographics within that area\n",
      "   \n",
      "   - Consider implementing strategies such as offering flexible lease terms, providing incentives for long-term renters (e.g., discounted rates after a certain period), maintaining high property standards through regular maintenance and repairs etc., to minimize tenant turnover costs while maximizing rental income potential over time\n",
      "   \n",
      "   - Develop contingency plans such as having an emergency fund set aside for unexpected expenses (e.g., major repair needs) or considering insurance options that cover losses due to natural disasters, theft/vandalism etc., which can help mitigate financial risks associated with owning a secondary home investment property over time\n",
      "   \n",
      "In summary, when evaluating whether purchasing a second-home as an income-generating asset class is right for you financially and strategically speaking - consider location factors (demographics/amenities), potential rental income analysis based on tenant demographics & vacancy rates; explore various lending sources to find the most favorable option while minimizing borrowing costs, assess long-term property value appreciation by analyzing historical data and local economic trends within your target market region or city along with associated risks (tenant turnover/vacancies) & develop strategies for mitigating them effectively. By following these critical steps carefully - you can make an informed decision about investing in a secondary home as part of your real estate portfolio while maximizing potential returns over time and minimizing financial risk exposure along the way!"
     ]
    }
   ],
   "source": [
    "// Prompting works in a very similar way to the OpenAI API\n",
    "\n",
    "// Create a Decision Intelligence prompt on the topic of purchasing a secondary home as an investment property\n",
    "// Provide detailed decision-making criteria for evaluating the investment decision\n",
    "var simpleDecisionPrompt = \"\"\"\n",
    "You are considering purchasing a secondary home as an investment property. \n",
    "\n",
    "What key factors should you evaluate to ensure a sound investment decision, including financial, market, and property-specific considerations? \n",
    "Outline the critical steps and criteria for assessing location, potential rental income, financing options, long-term property value, and associated risks.\n",
    "\"\"\";\n",
    "\n",
    "// You can set the typical OpenAI settings with most open-source models\n",
    "// Try different settings (Temperature, FrequencyPenalty etc) to see how they affect the quality of the generated text\n",
    "var openAIPromptExecutionSettings = new OpenAIPromptExecutionSettings { \n",
    "    MaxTokens = 750, \n",
    "    Temperature = 0.1, \n",
    "    TopP = 1.0, \n",
    "    FrequencyPenalty = 0.0, \n",
    "    PresencePenalty = 0.0\n",
    "    };\n",
    "KernelArguments kernelArguments = new KernelArguments(openAIPromptExecutionSettings);\n",
    "\n",
    "// Most open-source GenAI moodels support streaming as well\n",
    "await foreach (var streamChunk in semanticKernel.InvokePromptStreamingAsync(simpleDecisionPrompt, kernelArguments))\n",
    "{\n",
    "   Console.Write(streamChunk);\n",
    "}"
   ]
  },
  {
   "cell_type": "markdown",
   "metadata": {},
   "source": [
    "Advanced Prompt Engineering techniques can be applied to OSS (open-source) models as well. In the example below a more advanced reasoning decision prompt will be used to provide additional instructions to the GenAI model."
   ]
  },
  {
   "cell_type": "code",
   "execution_count": 3,
   "metadata": {
    "dotnet_interactive": {
     "language": "csharp"
    },
    "polyglot_notebook": {
     "kernelName": "csharp"
    },
    "vscode": {
     "languageId": "polyglot-notebook"
    }
   },
   "outputs": [
    {
     "name": "stdout",
     "output_type": "stream",
     "text": [
      "Understand the Problem: The user is considering purchasing a secondary home as an investment property and seeks advice on how to proceed with this decision.\n",
      "\n",
      "Break Down the Reasoning Process:\n",
      "1. Assess financial readiness: Determine if the individual has sufficient funds for down payment, closing costs, and potential mortgage payments.\n",
      "2. Evaluate market conditions: Research current real estate trends in desired location to assess property value appreciation or depreciation.\n",
      "3. Analyze rental income potential: Estimate possible rental earnings based on the area's demand for rentals and expected vacancy rates.\n",
      "4. Calculate return on investment (ROI): Compare potential ROI with other investment opportunities to determine if this property is a good choice.\n",
      "5. Consider tax implications: Understand how owning an investment property may affect the individual's taxes, including deductions and depreciation.\n",
      "6. Evaluate ongoing expenses: Estimate maintenance costs, insurance, property management fees (if applicable), and other recurring expenses associated with being a landlord.\n",
      "7. Assess personal goals and lifestyle impacts: Consider how owning an investment property aligns with the individual's long-term financial objectives and daily life.\n",
      "8. Review legal requirements: Understand zoning laws, tenant rights, and other regulations that may affect the ability to rent out the property or make changes to it.\n",
      "9. Make a final decision based on all gathered information.\n",
      "\n",
      "Explain Each Step:\n",
      "1. Financial readiness ensures the individual can afford the investment without compromising their financial stability.\n",
      "2. Market conditions help determine if the property's value will appreciate or depreciate over time, affecting potential profitability.\n",
      "3. Rental income potential estimates how much money could be generated from renting out the property and helps assess its viability as an investment.\n",
      "4. ROI calculation compares the expected return on this investment to other opportunities, helping determine if it's a worthwhile venture.\n",
      "5. Tax implications are crucial for understanding how owning an investment property may affect one's tax liabilities and potential deductions.\n",
      "6. Ongoing expenses must be considered as they can significantly impact the profitability of the investment over time.\n",
      "7. Personal goals and lifestyle impacts ensure that this decision aligns with long-term objectives and doesn't negatively affect daily life.\n",
      "8. Legal requirements are essential to avoid any legal issues or restrictions on renting out the property, making it a profitable investment.\n",
      "9. The final decision should be based on all gathered information, ensuring that this investment aligns with financial goals and personal preferences.\n",
      "\n",
      "Final Answer: Based on the steps above, if you have sufficient funds for down payment and expenses, market conditions are favorable, rental income potential is promising, ROI is competitive compared to other opportunities, tax implications are manageable, ongoing expenses can be covered, personal goals align with this investment, and legal requirements are met, purchasing a secondary home as an investment property could be a viable option. However, it's essential to conduct thorough research and consult professionals before making the final decision.\n",
      "\n",
      "Review the Thought Process: The reasoning process covers all critical aspects of considering an investment property purchase, ensuring that the individual has considered financial readiness, market conditions, rental income potential, ROI, tax implications, ongoing expenses, personal goals, and legal requirements before making a final decision.\n",
      "\n",
      "Communicate using Minto Pyramid Principle:\n",
      "1. Are you considering purchasing a secondary home as an investment property?\n",
      "2. Do you have sufficient funds for down payment, closing costs, and potential mortgage payments?\n",
      "3. Is the real estate market in your desired location favorable for property value appreciation or depreciation?\n",
      "4. Can you estimate possible rental earnings based on demand and vacancy rates?\n",
      "5. Does owning this investment property offer a competitive return on investment compared to other opportunities?\n",
      "6. Are tax implications manageable, considering deductions and depreciation related to the investment property?\n",
      "7. Can you cover recurring expenses associated with being a landlord, such as maintenance costs, insurance, and property management fees (if applicable)?\n",
      "8. Does owning this investment property align with your long-term financial objectives and daily life preferences?\n",
      "9. Are there any legal requirements or restrictions that may affect the profitability of renting out the property in your desired location?\n",
      "10. Based on all gathered information, do you believe purchasing a secondary home as an investment property is a viable option for you?"
     ]
    }
   ],
   "source": [
    "// Prompting works in a very similar way to the OpenAI API\n",
    "\n",
    "// Create a Decision Intelligence prompt on the topic of purchasing a secondary home as an investment property\n",
    "// Use Chain of Thought to prompt the OSS model\n",
    "// Use the Minto Pyramid to communicate the decision \n",
    "var advancedDecisionPrompt = \"\"\"\n",
    "You are considering purchasing a secondary home as an investment property. \n",
    "\n",
    "Before providing any answer, you must: \n",
    "Understand the Problem: Carefully read and understand the user's question or request. \n",
    "Break Down the Reasoning Process: Outline the steps required to solve the problem or respond to the request logically and sequentially. Think aloud and describe each step in detail. \n",
    "Always aim to make your thought process transparent and logical. \n",
    "Explain Each Step: Provide reasoning or calculations for each step, explaining how you arrive at each part of your answer. \n",
    "Provide structured, logical, and comprehensive advice. \n",
    "Arrive at the Final Answer: Only after completing all steps, provide the final answer or solution. \n",
    "Review the Thought Process: Double-check the reasoning for errors or gaps before finalizing your response. \n",
    "Communicate the final decision using the Minto Pyramid Principle.\n",
    "\"\"\";\n",
    "\n",
    "// You can set the typical OpenAI settings with most open-source models\n",
    "// Try different settings (Temperature, FrequencyPenalty etc) to see how they affect the quality of the generated text\n",
    "var openAIPromptExecutionSettings = new OpenAIPromptExecutionSettings { \n",
    "    MaxTokens = 750, \n",
    "    Temperature = 0.2, \n",
    "    TopP = 1.0, \n",
    "    FrequencyPenalty = 0.0, \n",
    "    PresencePenalty = 0.0\n",
    "    };\n",
    "KernelArguments kernelArguments = new KernelArguments(openAIPromptExecutionSettings);\n",
    "\n",
    "// Most open-source GenAI moodels support streaming as well\n",
    "await foreach (var streamChunk in semanticKernel.InvokePromptStreamingAsync(advancedDecisionPrompt, kernelArguments))\n",
    "{\n",
    "   Console.Write(streamChunk);\n",
    "}"
   ]
  },
  {
   "cell_type": "markdown",
   "metadata": {},
   "source": [
    "### Step 4 - Using the Ben Franklin Decision Framework to Make Quality Decisions"
   ]
  },
  {
   "cell_type": "markdown",
   "metadata": {},
   "source": [
    "> \"By failing to prepare, you are preparing to fail.\" \n",
    ">\n",
    "> -- <cite>Ben Franklin (Founding Father of the United States, inventor, godfather of Decision Science)</cite> \n",
    "\n",
    "<img width =\"750px\" src=\"https://raw.githubusercontent.com/bartczernicki/Articles/main/20230326-Make-Great-Decisions-Using-Ben-Franklins-Pros-And-Cons-Method/Image-BenFranklinDecisionMakingMethod.png\">"
   ]
  },
  {
   "cell_type": "markdown",
   "metadata": {},
   "source": [
    "#### Tom Brady's use of a Decision Framework"
   ]
  },
  {
   "cell_type": "markdown",
   "metadata": {},
   "source": [
    "Tom Brady's decision to join the Tampa Bay Buccaneers in 2020 marked a significant in his legendary NFL career. After 20 seasons and six Super Bowl championships with the New England Patriots, Brady became a free agent and chose to sign with the Bucs. How did he arrive at this decision? On the Fox broadcast on 09.29.2024, while covering the Buccaneers vs Philadelphia Eagles game, Tom Brady described how he arrived at this decision.\n",
    "\n",
    "In the screenshot below, Tom Brady is holding up some small paper cards he is showing the audience of the broadcast. Brady mentioned he wrote down the personal decision criteria that was important and how each team compared in that criteria (salary, weather etc). He used this to select the Tampa Bay Buccaneers as his team, where he went on to win a Super Bowl in his first year there! **Tom Brady used the \"Ben Franklin Decision Framework\", 250 years after it's inception to decide where to play NFL quaterback!**  \n",
    "\n",
    "<img width =\"750px\" src=\"https://raw.githubusercontent.com/bartczernicki/DecisionIntelligence.GenAI.Workshop/main/Images/BenFranklinDecisionFramework-TomBrady.png\">"
   ]
  },
  {
   "cell_type": "markdown",
   "metadata": {},
   "source": [
    "#### Steps for Ben Franklin's Decision Framework"
   ]
  },
  {
   "cell_type": "markdown",
   "metadata": {},
   "source": [
    "Below are the steps Ben Franklin recommends when making a decision, which he called his \"Decision Making Method of Moral Algebra\":  \n",
    "- Frame a decision that has two options (Yes or a No)\n",
    "- Divide an area into two competing halves: a \"Pro\" side and \"Con\" side\n",
    "- Label the top of one side \"Pro\" (for) and the other \"Con\" (against)\n",
    "- Under each respective side, over a period of time (Ben Franklin recommended days, this could be minutes) write down various reasons/arguments that support (Pro) or are against (Con) the decision\n",
    "- After spending some time thinking exhaustively and writing down the reasons, weight the different Pro and Con reasons/arguments\n",
    "- Determine the relative importance of each reason or argument. This is done by taking reasons/arguments that are of similar value (weight) and crossing them off of the other competing half. Multiple reasons can be combined from one side to form a \"subjective\" value (weight) to balance out the other half. (For example, two medium \"Pro\" reasons might add up to an equal value of a single important \"Con\" reason)\n",
    "- The side with the most remaining reasons is the option one should select for the decision in question\n",
    "\n",
    "Learn more about Ben Franklin's Decision Framework: https://medium.com/@bartczernicki/make-great-decisions-using-ben-franklins-decision-making-method-c7fb8b17905c  "
   ]
  },
  {
   "cell_type": "code",
   "execution_count": 6,
   "metadata": {
    "dotnet_interactive": {
     "language": "csharp"
    },
    "polyglot_notebook": {
     "kernelName": "csharp"
    },
    "vscode": {
     "languageId": "polyglot-notebook"
    }
   },
   "outputs": [
    {
     "name": "stdout",
     "output_type": "stream",
     "text": [
      "To apply the Benjamin Franklin's Decision-Making Framework, let us create two lists: Pros (advantages) of taking a luxury family vacation and Cons (disadvantages). Here are ten points for each list that can guide you in making your well-informed decision.\n",
      "\n",
      "**Pros of Taking a Luxury Family Vacation:**\n",
      "1. **Quality Time Spent with Family:** A lavish trip provides an opportunity to create lasting memories and strengthen family bonds through shared experiences, away from daily routines.\n",
      "2. **Exclusive Experiences:** Enjoy unique activities like private tours or personalized services that are not available in regular vacations (e.g., a helicopter tour over the city).\n",
      "3. **Comfort and Convenience:** Luxury accommodation often offers superior comfort, with amenities such as spas, gourmet dining options, high-quality linens, private pools or hot tubs, etc.\n",
      "4. **Cultural Enrichment:** Often luxurious vacations include exclusive cultural experiences like fine arts performances and museum tours that can broaden your family's horizons together.\n",
      "5. **Stress Relief for Parents/Guardians:** A well-planned, relaxing trip may provide a much needed break from the stresses of daily life to rejuvenate parents or guardians and improve their overall mood upon return home.\n",
      "6. **Educational Value:** Luxury vacations can offer educational experiences for children through interactive exhibits at museums/aquariums, historical sites visits etc., which may not be available in regular trips due to budget constraints or time limitations. \n",
      "7. **Safety and Security Measures:** High-end accommodation often provides enhanced security measures (e.g., concierge service) that can ensure a safe environment for your family during the trip, especially if traveling internationally.\n",
      "8. **Network Expansion Opportunities:** Luxury vacations may provide opportunities to meet new people through exclusive events or social gatherings which could be beneficial in professional and personal life alike (e.g., networking with other affluent families, business contacts). \n",
      "9. **Improved Family Communication:** The relaxed atmosphere of a luxury vacation can encourage open communication among family members without the distractions or pressures found at home.\n",
      "10. **Positive Impact on Children's Development and Self-Esteem:** Exposure to new environments, cultures, cuisines etc., could positively impact children’s development by broadening their perspectives while also boosting self-esteem through memorable experiences that they can share with peers.\n",
      "\n",
      "**Cons of Taking a Luxury Family Vacation:** \n",
      "1. **Financial Cost:** The most significant downside is the high cost, which could strain your budget or lead to debt if not planned properly (e.g., travel expenses, accommodations fees).\n",
      "2. **Time Commitment and Planning Required:** Luxury vacations often require more planning time than regular trips due to their complexity in terms of booking flights/accommodation with specific dates or arranging exclusive experiences which could be stressful for some families. \n",
      "3. **Environmental Impacts:** High-end travel can have a significant environmental footprint, including carbon emissions from airplanes and excessive waste generated by luxury accommodations (e.g., single use plastics). This may conflict with your family's values or desire to live sustainably.\n",
      "4. **Potential for Unhappiness:** The high expectations associated with a lavish vacation could lead to disappointment if the experience does not meet those standards, especially when considering factors like weather conditions and unforeseen circumstances (e.g., flight delays). \n",
      "5. **Health Risks Associated With Traveling Luxuriously:** High-end travel often involves staying in crowded hotels or resorts where the risk of contracting illnesses may be higher, especially if not taking proper precautions (e.g., hand hygiene).\n",
      "6. **Less Time for Local Exploration and Interaction with Locals:** Luxury vacations often focus on comfort rather than immersion in local culture which could limit your family's exposure to the destination’s authentic experiences, food etc. \n",
      "7. **Potential Social Pressures or Judgments from Others (e.g., peers):** Some people may view luxury vacations as ostentatious and feel judged by others who cannot afford such trips which could lead to feelings of guilt for some families, especially if they are financially constrained but still wishing a relaxed holiday experience with their loved ones.\n",
      "8. **Risk of Over-indulgence:** The abundance of luxury amenities and services may tempt family members (especially children) to overeat or overspend, which could lead to health issues like obesity/diabetes in the long run as well as financial strain due to extra expenses.\n",
      "9. **Less Flexibility:** Luxury vacations often come with less flexibility when it comes to changing plans (e.g., rescheduling flights, modifying accommodation arrangements) which could be inconvenient if unexpected events occur during the trip or family members need time off work/school for emergencies etc.\n",
      "10. **Potential Cultural Insensitivity:** Luxury vacations may expose your children to cultures and customs that they are not familiar with, leading them (and you) potentially making cultural faux pas unintentionally due to lack of understanding or respect towards local traditions/norms which could lead to negative experiences for both parties involved.\n",
      "\n",
      "By weighing these pros and cons carefully using the Ben Franklin Decision-Making Framework, your family can make an informed decision about whether a luxury vacation aligns with its values, priorities, budget constraints, time availability etc., while also considering how it could impact everyone's wellbeing. Remember that there is no right or wrong answer; the goal here is to find what works best for your family given all factors involved in this decision-making process."
     ]
    }
   ],
   "source": [
    "// You can also use a template to provide more context to the model combining system and user prompts\n",
    "var systemDecisionPrompt = \"\"\"\n",
    "You are a decision intelligence assistant. \n",
    "Your role is to guide users in exploring options, analyzing decisions, solving complex problems, and applying systems thinking to diverse scenarios. \n",
    "Provide structured, logical, and comprehensive advice, ensuring clarity, depth, and actionable insights to support informed decision-making.\n",
    "\"\"\";\n",
    "var benFranklinDecisionPrompt = \"\"\"\n",
    "Apply the Ben Franklin Decision-Making Framework (Pro and Con list) to evaluate whether or not to take a luxury family vacation. \n",
    "List at most 10 pros and at most 10 cons to help the user make an informed decision.\n",
    "\"\"\";\n",
    "\n",
    "var simpleDecisionPromptTemplate = $\"\"\"\n",
    "{systemDecisionPrompt}\n",
    "--------------\n",
    "{benFranklinDecisionPrompt}\n",
    "\"\"\";\n",
    "\n",
    "// You can set the typical OpenAI settings with most open-source models\n",
    "// Try different settings (Temperature, FrequencyPenalty etc) to see how they affect the quality of the generated text\n",
    "var openAIPromptExecutionSettings = new OpenAIPromptExecutionSettings { \n",
    "    MaxTokens = 750, \n",
    "    Temperature = 0.2, \n",
    "    TopP = 1.0, \n",
    "    FrequencyPenalty = 0.0, \n",
    "    PresencePenalty = 0.0\n",
    "    };\n",
    "KernelArguments kernelArguments = new KernelArguments(openAIPromptExecutionSettings);\n",
    "\n",
    "await foreach (var streamChunk in semanticKernel.InvokePromptStreamingAsync(simpleDecisionPromptTemplate, kernelArguments))\n",
    "{\n",
    "   Console.Write(streamChunk);\n",
    "}"
   ]
  },
  {
   "cell_type": "markdown",
   "metadata": {},
   "source": [
    "#### Improving the Ben Franklin's Decision Framework with SLMs"
   ]
  },
  {
   "cell_type": "markdown",
   "metadata": {},
   "source": [
    "Notice that the output above may not be exactly what most would anticipate. The Ben Franklin framework was not fully understood nor applied. Open-Source GenAI models that have a small amount of parameters (< 13 billion parameters) may not have all the inherent knowledge \"trained\" into the model. The exception being domain-specific models that are only trained on data sets for that domain. Those models can have a great deal of knowledge, while maintaining a small amount of parameters. \n",
    "\n",
    "One simple way to improve the outcome is to provide the explicit steps of the \"Ben Franklin Decision Framework\" into the prompt context. This basically provides the instructions of the decision framework directly to the model; regardless if the GenAI model was trained with decision framework data.  \n",
    "\n",
    "In the example below, the prompt context is provided with the Ben Franklin Decision Framework steps. Contrast this with the example above, where the decision recommendation is not clear. "
   ]
  },
  {
   "cell_type": "code",
   "execution_count": 7,
   "metadata": {
    "dotnet_interactive": {
     "language": "csharp"
    },
    "polyglot_notebook": {
     "kernelName": "csharp"
    },
    "vscode": {
     "languageId": "polyglot-notebook"
    }
   },
   "outputs": [
    {
     "name": "stdout",
     "output_type": "stream",
     "text": [
      "1. Frame Decision (Yes or No): Yes, should you take a luxury family vacation this year?\n",
      "   \n",
      "2. Divide Area into Pro and Con Sides:\n",
      "   - **Pro** (\"For\" reasons) for taking the luxury family vacation:\n",
      "     - Creating lasting memories with your loved ones (1a).\n",
      "     - Experiencing new cultures or destinations together (1b).\n",
      "     - Boosting mental health and well-being through relaxation (2a, 2b).\n",
      "     - Strengthening family bonds during quality time away from daily stressors (3a, 3b).\n",
      "     - Providing educational opportunities for children about the world around them (4a, 4b).\n",
      "     - Supporting local economies and businesses in vacation destinations (5a, 5b).\n",
      "     - Showcasing generosity by investing family time into a memorable experience (6a, 6b).\n",
      "   \n",
      "   - **Con** (\"Against\" reasons) against taking the luxury family vacation:\n",
      "     - Financial strain or debt incurred from high expenses of such trips (1c, 7a).\n",
      "     - Potential disruption to work/school schedules and responsibilities (2c, 8a).\n",
      "     - Environmental impact due to traveling long distances for a luxury trip (3c, 9a).\n",
      "     - Risk of family conflicts or disagreements during the vacation period (4c, 10a).\n",
      "   \n",
      "   Note: Each reason is given an alphanumeric identifier and can be combined if they hold similar weight. For example, mental health benefits from relaxing on a beach might combine with educational opportunities for children to form one subjective value against the financial strain of luxury travel expenses (1b + 4a = 7a).\n",
      "   \n",
      "3. Weigh Reasons/Arguments: Cross off equivalent reasons between Pro and Con sides based on their weight or importance, combining them if necessary into a single \"subjective\" value to balance out the other side's arguments. For instance, financial strain (1c) might be balanced against creating lasting memories with loved ones by considering cost-effective luxury options that still provide quality experiences but are more budget-friendly:\n",
      "    - Combined subjective weight of 7a = Creation of memorable family moments through moderate, yet enjoyable vacation activities.\n",
      "    \n",
      "4. Determine Relative Importance and Select Option with Most Remaining Reasons (after weighing): After balancing the reasons between Pros and Cons by assigning subjective values to them based on their importance:\n",
      "   - **Pro** side remaining weight after consideration might include creating lasting memories, strengthening family bonds during quality time away from daily stressors, providing educational opportunities for children about different cultures. \n",
      "   \n",
      "   - **Con** side reduced by considering cost-effective luxury options and balancing financial concerns with the value of shared experiences: Financial strain is mitigated when planning a vacation that offers quality within budget constraints; environmental impact can be minimized through eco-friendly travel choices.\n",
      "   \n",
      "5. Decision Recommendation (based on side with most reasons): After evaluating and balancing the weight of each reason, if we assume Pros have more remaining compelling arguments after considering financial balance: \n",
      "   - **Recommended decision**: Yes, you should consider taking a luxury family vacation. However, it's crucial to plan carefully by selecting destinations that offer quality experiences within your budget constraints and are environmentally conscious (e.g., choosing eco-luxurious accommodations or supporting sustainable tourism practices). This approach ensures you maximize the benefits of family bonding and creating lasting memories while responsibly managing financial, environmental, and logistical concerns associated with luxury travels for your loved ones.\n",
      "   \n",
      "Remember that this decision-making process is iterative; it may be necessary to revisit each step as new information or considerations arise during the planning phase of a family vacation."
     ]
    }
   ],
   "source": [
    "// You can also use a template to provide more context to the model combining system and user prompts\n",
    "var systemDecisionPrompt = \"\"\"\n",
    "You are a decision intelligence assistant. \n",
    "Your role is to guide users in exploring options, analyzing decisions, solving complex problems, and applying systems thinking to diverse scenarios. \n",
    "Provide structured, logical, and comprehensive advice, ensuring clarity, depth, and actionable insights to support informed decision-making.\n",
    "\"\"\";\n",
    "var benFranklinDecisionPrompt = \"\"\"\n",
    "Apply the following steps IN ORDER of the Ben Franklin Decision Framework to the Question below:\n",
    "- Frame a decision that has two options (Yes or a No)\n",
    "- Divide an area into two competing halves: a \"Pro\" side and \"Con\" side\n",
    "- Label the top of one side \"Pro\" (for) and the other \"Con\" (against)\n",
    "- Under each respective side, list a maximum of 10 reasons or arguments for each option\n",
    "- Consider the weight of each reason or argument. This is done by taking reasons/arguments that are of similar value (weight) and crossing them off of the other competing half. Multiple reasons can be combined from one side to form a \"subjective\" value (weight) to balance out the other half. (For example, two medium \"Pro\" reasons might add up to an equal value of a single important \"Con\" reason)\n",
    "- Determine the relative importance of each reason or argument. This is done by taking reasons/arguments that are of similar value (weight) and crossing them off of the other competing half. Multiple reasons can be combined from one side to form a \"subjective\" value (weight) to balance out the other half. (For example, two medium \"Pro\" reasons might add up to an equal value of a single important \"Con\" reason)\n",
    "- The side with the most remaining reasons is the option one should select for the decision in question\n",
    "- IMPORTANT: ALWAYS recommend a decision based on the side with the most reasons, even if the reasons are of lesser value than the other side!\n",
    "\n",
    "Question: Should I take a luxury family vacation?\n",
    "\"\"\";\n",
    "\n",
    "var simpleDecisionPromptTemplate = $\"\"\"\n",
    "{systemDecisionPrompt}\n",
    "--------------\n",
    "{benFranklinDecisionPrompt}\n",
    "\"\"\";\n",
    "\n",
    "// You can set the typical OpenAI settings with most open-source models\n",
    "// Try different settings (Temperature, FrequencyPenalty etc) to see how they affect the quality of the generated text\n",
    "var openAIPromptExecutionSettings = new OpenAIPromptExecutionSettings { \n",
    "    MaxTokens = 1500, \n",
    "    Temperature = 0.3, \n",
    "    TopP = 1.0, \n",
    "    FrequencyPenalty = 0.0, \n",
    "    PresencePenalty = 0.0\n",
    "    };\n",
    "KernelArguments kernelArguments = new KernelArguments(openAIPromptExecutionSettings);\n",
    "\n",
    "await foreach (var streamChunk in semanticKernel.InvokePromptStreamingAsync(simpleDecisionPromptTemplate, kernelArguments))\n",
    "{\n",
    "   Console.Write(streamChunk);\n",
    "}"
   ]
  },
  {
   "cell_type": "markdown",
   "metadata": {
    "dotnet_interactive": {
     "language": "csharp"
    },
    "polyglot_notebook": {
     "kernelName": "csharp"
    }
   },
   "source": [
    "The GenAI model may or may not recommend a luxury vacation, but this can be dramatically improved further! Imagine if the GenAI model had access to: your finances, current stress level, the last time you took a vacation, any upcoming major purchases, family dynamic?!  \n",
    "\n",
    "In the example below, additional context is provided with that information. Notice how it changes the the Pro and Con list.  \n",
    "\n",
    "Just like Tom Brady, it could craft a Pro and Con list specific and personalized to your scenario!"
   ]
  },
  {
   "cell_type": "code",
   "execution_count": 9,
   "metadata": {
    "dotnet_interactive": {
     "language": "csharp"
    },
    "polyglot_notebook": {
     "kernelName": "csharp"
    },
    "vscode": {
     "languageId": "polyglot-notebook"
    }
   },
   "outputs": [
    {
     "name": "stdout",
     "output_type": "stream",
     "text": [
      "**Decision Frame:** To decide whether to invest in and go for a luxury family vacation or not.\n",
      "\n",
      "**Pro (For) Side:**\n",
      "1. **Stress Relief from Work Pressure:** A well-deserved break could alleviate stress, improve mental health, and increase productivity upon return. \n",
      "2. **Family Bonding Time:** The opportunity to spend quality time with your family can strengthen relationships before the kids go off for college.\n",
      "3. **Rejuvenation Before College Begins:** With children about to enter college without scholarships or financial aid, a relaxed and happy home environment could provide emotional support during this transition period. \n",
      "4. **Positive Family Memories Created Together:** Luxury vacations often offer unique experiences that create lasting memories for the whole family.\n",
      "5. **Car Replacement Consideration (Temporary Relief):** The time spent planning and purchasing a new car could be used to enjoy this luxurious getaway, providing temporary relief from another pending financial commitment. \n",
      "6. **Positive Impact on Children's College Experience:** A relaxed family might better support their children during college adjustments due to less stress at home and more available emotional resources.  \n",
      "    - Weighting these reasons against each other, the Pro side has a strong value in terms of mental health benefits (Stress Relief from Work Pressure), strengthening familial bonds before significant life changes occur (Family Bonding Time & Rejuvenation Before College Begins) and creating positive memories that could benefit children's college experience.\n",
      "    \n",
      "**Con (Against) Side:** \n",
      "1. **Financial Strain from Investment Property Purchase:** The funds required for a luxury vacation might be better invested in the secondary property, especially considering your kids are about to enter college without financial aid or scholarships and you need another car soon (Car Replacement Consideration).\n",
      "2. **Long Work Hours Not Addressed by Vacation:** While stress relief is a benefit of vacations, it may not fully address the root cause if work-life balance issues persist after returning from your trip due to long working hours continuing as usual. \n",
      "3. **Potential for Financial Opportunity Costs (Secondary Property):** The opportunity cost associated with using funds towards a luxury vacation could be significant, considering the potential returns and stability that an investment property might offer in light of your family's current financial situation.  \n",
      "    - Weighting these reasons against each other shows strong value for long-term financial security (Financial Strain from Investment Property Purchase & Potential Financial Opportunity Costs). \n",
      "4. **Car Replacement Timeline:** The need to replace your car soon could be a more immediate and pressing concern, requiring funds that might otherwise go towards the vacation expenses (Car Replacement Consideration - Temporary Relief vs Immediate Need for Car Replacement).  \n",
      "    - Weighting these reasons against each other shows strong value in terms of addressing an imminent financial obligation. \n",
      "5. **Long-Term Family Financial Stability:** The potential long term benefits to your family's finances from investment property (especially considering the lack of scholarships for college) might outweigh short-term enjoyments and stress relief provided by a luxury vacation, particularly if it means securing financial stability in an uncertain future.\n",
      "    - Weighted against each other, these reasons on the Con side have strong value regarding long term family finances (Financial Strain from Investment Property Purchase & Potential Financial Opportunity Costs). \n",
      "6. **Potential for Work-Life Balance Improvement:** While a vacation may provide temporary stress relief, it does not address the root cause of your work pressure and long hours (Long Work Hours Not Addressed by Vacation - Stress Relief from Work Pressure). \n",
      "    - Weighting these reasons against each other shows strong value in terms of improving overall quality of life through better management or reduction of stressful working conditions.  \n",
      "    \n",
      "**Conclusion:** Considering the weight and long-term implications, while a luxury family vacation offers short term benefits like relief from work pressure (Stress Relief), strengthened familial bonds before college begins for your kids, creation of positive memories together & temporary car replacement consideration. The Con side with strong reasons related to financial stability and addressing immediate needs such as investment property purchase or replacing the soon-to-be leased vehicle outweighs these short term benefits (Financial Strain from Investment Property Purchase, Potential Financial Opportunity Costs & Immediate Need for Car Replacement). Therefore based on Ben Franklin Decision Framework and given weight of reasons in each side:\n",
      "  - **Decision**: It would be more advisable not to take a luxury family vacation at this time. Instead, focus your resources towards investment property purchase or car replacement which have immediate financial implications for the long-term stability & wellbeing of your entire family (Con Side). However, it's essential also consider creating smaller scale budget friendly trips that can provide stress relief and strengthen familial bonds without compromising on significant future commitments.\n",
      "  \n",
      "This decision is based purely upon financial implications in the current context with lesser value reasons like temporary car replacement consideration or short term benefits of vacation being outweighed by long-term family finances & immediate needs (Con Side). Always remember, it's crucial to balance between maintaining mental health and ensuring overall wellbeing through financial stability."
     ]
    }
   ],
   "source": [
    "// You can also use a template to provide more context to the model combining system and user prompts\n",
    "var systemDecisionPrompt = \"\"\"\n",
    "You are a decision intelligence assistant. \n",
    "Your role is to guide users in exploring options, analyzing decisions, solving complex problems, and applying systems thinking to diverse scenarios. \n",
    "Provide structured, logical, and comprehensive advice, ensuring clarity, depth, and actionable insights to support informed decision-making.\n",
    "\"\"\";\n",
    "// Try changing the background information to see how it affects the decision-making process\n",
    "var backroundInformation = \"\"\"\n",
    "BACKGROUND INFORMATION OF FAMILY: \n",
    "You are considering purchasing a secondary home as an investment property. \n",
    "You have been stressed out at work. \n",
    "You have been working long hours and have not taken a vacation in over a year. \n",
    "Your kids are about to enter college and they don't have scholarships. \n",
    "Your car is finishing its lease and will need to be replaced soon. \n",
    "\"\"\";\n",
    "// Try to adjust the specificity of the decision-making criteria to see how it affects the decision-making process\n",
    "var benFranklinDecisionPrompt = \"\"\"\n",
    "Apply the following steps IN ORDER of the Ben Franklin Decision Framework to the Question below:\n",
    "- Frame a decision that has two options (Yes or a No)\n",
    "- Divide an area into two competing halves: a \"Pro\" side and \"Con\" side\n",
    "- Label the top of one side \"Pro\" (for) and the other \"Con\" (against)\n",
    "- Under each respective side, list the relevvant reasons from \"BACKGROUND INFORMATION OF FAMILY\" section and or create new reasons that are ONLY closely related to the \"BACKGROUND INFORMATION OF FAMILY\". \n",
    "- Consider the weight of each reason or argument. This is done by taking reasons/arguments that are of similar value (weight) and crossing them off of the other competing half. Multiple reasons can be combined from one side to form a \"subjective\" value (weight) to balance out the other half. (For example, two medium \"Pro\" reasons might add up to an equal value of a single important \"Con\" reason)\n",
    "- Determine the relative importance of each reason or argument. This is done by taking reasons/arguments that are of similar value (weight) and crossing them off of the other competing half. Multiple reasons can be combined from one side to form a \"subjective\" value (weight) to balance out the other half. (For example, two medium \"Pro\" reasons might add up to an equal value of a single important \"Con\" reason)\n",
    "- The side with the most remaining reasons is the option one should select for the decision in question\n",
    "- IMPORTANT: ALWAYS recommend a decision based on the side with the most reasons, even if the reasons are of lesser value than the other side!\n",
    "\n",
    "Question: Should I take a luxury family vacation?\n",
    "\"\"\";\n",
    "\n",
    "var simpleDecisionPromptTemplate = $\"\"\"\n",
    "{systemDecisionPrompt}\n",
    "--------------\n",
    "{backroundInformation}\n",
    "--------------\n",
    "{benFranklinDecisionPrompt}\n",
    "\"\"\";\n",
    "\n",
    "// You can set the typical OpenAI settings with most open-source models\n",
    "// Try different settings (Temperature, FrequencyPenalty etc) to see how they affect the quality of the generated text\n",
    "var openAIPromptExecutionSettings = new OpenAIPromptExecutionSettings { \n",
    "    MaxTokens = 1500, \n",
    "    Temperature = 0.3, \n",
    "    TopP = 1.0, \n",
    "    FrequencyPenalty = 0.0, \n",
    "    PresencePenalty = 0.0\n",
    "    };\n",
    "KernelArguments kernelArguments = new KernelArguments(openAIPromptExecutionSettings);\n",
    "\n",
    "await foreach (var streamChunk in semanticKernel.InvokePromptStreamingAsync(simpleDecisionPromptTemplate, kernelArguments))\n",
    "{\n",
    "   Console.Write(streamChunk);\n",
    "}"
   ]
  },
  {
   "cell_type": "markdown",
   "metadata": {},
   "source": [
    "Notice how providing personal family background information changes the entire dynamic of the information used in the decision framework and how it influences the recommended decision. The decision process is more specific not only to the scenario, but also it provides contextual background information. This makes the decision process more personalized and potentially much more accurate! "
   ]
  },
  {
   "cell_type": "markdown",
   "metadata": {},
   "source": [
    "### Step 5 - Multiple Different Service Providers  "
   ]
  },
  {
   "cell_type": "markdown",
   "metadata": {},
   "source": [
    "Semantic Kernel can include mutliple AI service providers. This allows for hybrid workflows from a single Semantic Kernel instance like: \n",
    "* Capability Optimization. For example, using SLMs for domain specific tasks and LLMs for complex decision reasoning\n",
    "* Capacity Optimization. Splitting functions, plugins, personas or agents across different AI services\n",
    "* Use AI Service selector dynamically allocate AI service execution resources  "
   ]
  },
  {
   "cell_type": "code",
   "execution_count": 4,
   "metadata": {
    "dotnet_interactive": {
     "language": "csharp"
    },
    "polyglot_notebook": {
     "kernelName": "csharp"
    },
    "vscode": {
     "languageId": "polyglot-notebook"
    }
   },
   "outputs": [
    {
     "data": {
      "text/html": [
       "<div><div></div><div></div><div><strong>Installed Packages</strong><ul><li><span>Microsoft.Extensions.Configuration, 8.0.0</span></li><li><span>Microsoft.Extensions.Configuration.Json, 8.0.0</span></li><li><span>Microsoft.SemanticKernel, 1.25.0</span></li></ul></div></div>"
      ]
     },
     "metadata": {},
     "output_type": "display_data"
    }
   ],
   "source": [
    "// Import the required NuGet configuration packages\n",
    "#r \"nuget: Microsoft.Extensions.Configuration, 8.0.0\"\n",
    "#r \"nuget: Microsoft.Extensions.Configuration.Json, 8.0.0\"\n",
    "#r \"nuget: Microsoft.SemanticKernel, 1.25.0\"\n",
    "\n",
    "using Microsoft.Extensions.Configuration;\n",
    "using System.IO;\n",
    "using Microsoft.SemanticKernel;\n",
    "using Microsoft.SemanticKernel.ChatCompletion;\n",
    "using Microsoft.SemanticKernel.Connectors.OpenAI;\n",
    "\n",
    "// Load the configuration settings from the local.settings.json and secrets.settings.json files\n",
    "// The secrets.settings.json file is used to store sensitive information such as API keys\n",
    "var configurationBuilder = new ConfigurationBuilder()\n",
    "    .SetBasePath(Directory.GetCurrentDirectory())\n",
    "    .AddJsonFile(\"local.settings.json\", optional: true, reloadOnChange: true)\n",
    "    .AddJsonFile(\"secrets.settings.json\", optional: true, reloadOnChange: true);\n",
    "var config = configurationBuilder.Build();\n",
    "\n",
    "// Retrieve the configuration settings for the Azure OpenAI service\n",
    "var azureOpenAIEndpoint = config[\"AzureOpenAI:Endpoint\"];\n",
    "var azureOpenAIAPIKey = config[\"AzureOpenAI:APIKey\"];\n",
    "var azureOpenAIModelDeploymentName = config[\"AzureOpenAI:ModelDeploymentName\"];\n",
    "\n",
    "// Example to build a Kernel with Azure OpenAI and Opensource AI\n",
    "#pragma warning disable SKEXP0010 \n",
    "var semanticKernel = Kernel.CreateBuilder()\n",
    "    .AddAzureOpenAIChatCompletion(\n",
    "        deploymentName: azureOpenAIModelDeploymentName,\n",
    "        endpoint: azureOpenAIEndpoint,\n",
    "        apiKey: azureOpenAIAPIKey)\n",
    "    .AddOpenAIChatCompletion(\n",
    "        modelId: \"Phi-3\",\n",
    "        endpoint: new Uri(\"http://localhost:1234/v1/\"),\n",
    "        apiKey: \"LMStudio\")\n",
    "    .Build();\n",
    "#pragma warning restore SKEXP0010"
   ]
  }
 ],
 "metadata": {
  "kernelspec": {
   "display_name": ".NET (C#)",
   "language": "C#",
   "name": ".net-csharp"
  },
  "language_info": {
   "name": "csharp"
  },
  "polyglot_notebook": {
   "kernelInfo": {
    "defaultKernelName": "csharp",
    "items": [
     {
      "aliases": [],
      "name": "csharp"
     }
    ]
   }
  }
 },
 "nbformat": 4,
 "nbformat_minor": 2
}
