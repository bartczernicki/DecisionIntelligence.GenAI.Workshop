{
 "cells": [
  {
   "cell_type": "markdown",
   "metadata": {},
   "source": [
    "<img style=\"float: left;padding-right: 10px\" width =\"40px\" src=\"https://raw.githubusercontent.com/bartczernicki/DecisionIntelligence.GenAI.Workshop/main/Images/SemanticKernelLogo.png\">\n",
    "\n",
    "## Semantic Kernel - Open Source Decision Intelligence"
   ]
  },
  {
   "cell_type": "markdown",
   "metadata": {},
   "source": [
    "Decision Intelligence applied in this module:  \n",
    "* Listing key factors to consider when making a sound decision  \n",
    "* Decision Scenario: Use a decision framework (Ben Franklin's Pro & Con List) to create a decision plan  "
   ]
  },
  {
   "cell_type": "markdown",
   "metadata": {},
   "source": [
    "A recommended enterprise pattern is to scale Articial Intelligence strategy with three key areas:\n",
    "* Commercial AI (OpenAI and other proprietary AI providers)\n",
    "* Open-Source AI (open-source AI providers)\n",
    "* Partner (Vendor) AI (i.e. company HR Software, contract software)  \n",
    "\n",
    "These three areas together strategically form AI capability and capacity in what I like to call the \"AI Brain\". This is illustrated below.\n",
    "\n",
    "<img width =\"750px\" src=\"https://raw.githubusercontent.com/bartczernicki/DecisionIntelligence.GenAI.Workshop/main/Images/AIBrainPillars.png\">\n",
    "\n",
    "Semantic Kernel embraces AI orchestration across all the pillars mentioned above. It allows all types of models (commercial or proprietary) and almost any APIs to be orchestrated to faciliate better decision intelligence."
   ]
  },
  {
   "cell_type": "markdown",
   "metadata": {},
   "source": [
    "### Step 1 - Get Started with LMStudio and Open Source AI Models "
   ]
  },
  {
   "cell_type": "markdown",
   "metadata": {},
   "source": [
    "This module highlights how to use local AI models (i.e. LLMs) with Semantic Kernel. To illustrate this the Phi-3 model is run locally using LMStudio.\n",
    "\n",
    "Steps to get started:\n",
    "* Download & install LMStudio: https://lmstudio.ai/ (Windows, Mac or Linux) \n",
    "* Run the LMStudio studio application \n",
    "* In the LMStudio application, download the Phi-3.5-Mini GGUF file. LMStudio will inspect your hardware and let you know which quantized version of the model(s) is optimal for your hardware. Note: Even computers with small graphics cards can run these models well locally. Furthermore, laptops such as the Macbook Pro with Neural Engine can run LMStudio local models as well. \n",
    "* Start the LMStudio Server with the Phi-3.5-Mini model loaded. This will start a local REST endpoint with a URI similar to http://localhost:1234/v1 \n",
    "* The LMStudio local server does not have default security, you can simply check by navigating to this link in any browser to check if a model is loaded: http://localhost:1234/v1/models \n",
    "\n",
    "<img width =\"900px\" src=\"https://raw.githubusercontent.com/bartczernicki/DecisionIntelligence.GenAI.Workshop/main/Images/LMStudioServer.png\">"
   ]
  },
  {
   "cell_type": "markdown",
   "metadata": {},
   "source": [
    "### Step 2 - Initialize Configuration Builder & Build the Semantic Kernel Orchestration"
   ]
  },
  {
   "cell_type": "markdown",
   "metadata": {},
   "source": [
    "Execute the next cell to:\n",
    "* Use the Configuration Builder to use the local LMStudio Server  \n",
    "* Use the API configuration to build the Semantic Kernel orchestrator  \n",
    "* Notice there is no security being passed in and it is simply a URL"
   ]
  },
  {
   "cell_type": "code",
   "execution_count": 10,
   "metadata": {
    "dotnet_interactive": {
     "language": "csharp"
    },
    "polyglot_notebook": {
     "kernelName": "csharp"
    },
    "vscode": {
     "languageId": "polyglot-notebook"
    }
   },
   "outputs": [
    {
     "data": {
      "text/html": [
       "<div><div></div><div></div><div><strong>Installed Packages</strong><ul><li><span>Microsoft.SemanticKernel, 1.22.0</span></li></ul></div></div>"
      ]
     },
     "metadata": {},
     "output_type": "display_data"
    }
   ],
   "source": [
    "#r \"nuget: Microsoft.SemanticKernel, 1.22.0\"\n",
    "\n",
    "using Microsoft.SemanticKernel;\n",
    "using Microsoft.SemanticKernel.ChatCompletion;\n",
    "using Microsoft.SemanticKernel.Connectors.OpenAI;\n",
    "\n",
    "#pragma warning disable SKEXP0010 \n",
    "var semanticKernel = Kernel.CreateBuilder()\n",
    "    .AddOpenAIChatCompletion(\n",
    "        modelId: \"lmstudio-community/Phi-3.5-mini-instruct-GGUF\",\n",
    "        endpoint: new Uri(\"http://localhost:1234/v1/\"),\n",
    "        apiKey: null)\n",
    "    .Build();\n",
    "#pragma warning restore SKEXP0010"
   ]
  },
  {
   "cell_type": "markdown",
   "metadata": {},
   "source": [
    "### Step 3 - Open Source AI Models with Decision Intelligence "
   ]
  },
  {
   "cell_type": "markdown",
   "metadata": {},
   "source": [
    "Semantic Kernel allows one to interact with any API service that adheres to the OpenAI specification. Notice the method to add LMStudio capability was simply enabled via the **AddOpenAIChatCompletion** method.\n",
    "\n",
    "Execute the cell below about decision factors for a investment property. Note:\n",
    "* OpenAI Prompt Execution Settings are the same in LMStudio as they are for OpenAI and Azure OpenAI\n",
    "* Passing in arguents works the same way in Semantic Kernel\n",
    "* Streaming works as well in Semantic Kernel for supported services"
   ]
  },
  {
   "cell_type": "markdown",
   "metadata": {},
   "source": [
    "> \"Don't wait to buy real estate. Buy real estate and wait.\"  \n",
    ">\n",
    "> -- <cite>Will Rodgers (American humorist, actor, and social commentator in the early 20th century)</cite>  "
   ]
  },
  {
   "cell_type": "code",
   "execution_count": 11,
   "metadata": {
    "dotnet_interactive": {
     "language": "csharp"
    },
    "polyglot_notebook": {
     "kernelName": "csharp"
    },
    "vscode": {
     "languageId": "polyglot-notebook"
    }
   },
   "outputs": [
    {
     "name": "stdout",
     "output_type": "stream",
     "text": [
      "When considering purchasing a secondary home as an investment property, there are several key factors to evaluate in order to make sound financial decisions:\n",
      "\n",
      "1. Location Assessment: The location of the potential rental property is crucial for its success as it directly impacts demand and rent prices. Here's how you can assess a good location: \n",
      "   - Research neighborhood demographics, including population growth trends, income levels, education attainment rates, employment opportunities in nearby areas, crime rate, proximity to amenities (schools, parks, shopping centers), and transportation options.\n",
      "   \n",
      "2. Rental Income Potential: To determine the potential rental yield of a property, consider these factors: \n",
      "   - Analyze comparable properties in similar neighborhoods with current rent prices to estimate your own home's value based on its size, condition, and features (e.g., number of bedrooms/bathrooms). Use online resources like Zillow or Trulia for this purpose.\n",
      "   \n",
      "   - Calculate the gross rental income by multiplying estimated monthly rent with 12 months per year to get an annual figure. Then, deduct expenses such as property taxes, insurance premiums, maintenance costs (including repairs and upkeep), utilities for tenants if not included in their lease agreement, advertising fees when vacant periods occur due to turnover or other reasons etc., from the gross income figure.\n",
      "   \n",
      "   - Determine net rental yield by dividing annual after-expenses (net rent) with property value and multiplying it by 100% for a percentage result, which will give you an idea of how much return on investment your secondary home can generate annually as compared to other potential properties.\n",
      "   \n",
      "3. Financing Options: When financing the purchase or refinance existing mortgage(s), consider these factors before making any decisions: \n",
      "   - Evaluate different loan types (fixed-rate, adjustable rate) and their interest rates offered by banks/lenders to determine which one suits your investment goals best. Also compare the terms of each option such as closing costs or points paid upfront for a lower monthly payment versus higher long term cost due to accumulated interests over time (e.g., ARM vs FRM).\n",
      "   \n",
      "   - Assess how much you can afford based on your income, expenses and debt-to-income ratio while keeping in mind that investment properties often require a larger down payment than primary residences or may not qualify for certain tax deductions. \n",
      "   \n",
      "4. Long Term Property Value: To assess the potential appreciation of an asset over time consider these factors when evaluating its long term value as part of your overall portfolio strategy:  \n",
      "   - Research historical trends in property values within that specific area and compare them with national averages to get a sense for how well it has performed historically. \n",
      "   \n",
      "   - Analyze local economic indicators such as job growth, population changes or infrastructure developments (e.g., new schools/highways) which could positively impact property values in the future and increase demand among renters seeking affordable housing options near employment centers with good amenities nearby like parks & recreational facilities etc..\n",
      "   \n",
      "   - Consider any planned zoning changes or development projects that may affect your investment's value (e.g., new commercial developments, public transportation improvements). \n",
      "\n",
      "5. Associated Risks: Finally, it is essential to evaluate the risks associated with owning an investment property before making a decision on whether this type of asset fits within your overall financial goals and risk tolerance level by considering these factors:  \n",
      "    - Tenant turnover rates can impact rental income stability as well-maintained properties tend not only attract tenants but also retain them longer. High vacancy periods may lead to lost revenue, increased maintenance costs due to wear & tear from frequent moves or damage caused by previous occupants etc..\n",
      "    - Property taxes and insurance premiums can increase over time depending on local regulations/market conditions which could affect your cash flow negatively if not properly budgeted for. \n",
      "    \n",
      "   - Natural disasters such as floods, hurricanes or earthquakes may cause significant damage to properties located in high-risk areas leading to costly repairs and potential loss of income during recovery periods until the property is back on rent again..\n",
      "   \n",
      "In conclusion, evaluating these key factors will help you make an informed decision about purchasing a secondary home as part of your investment portfolio. By conducting thorough research into location trends, rental yield calculations based on comparable properties in similar neighborhoods and analyzing financing options along with long-term property value appreciation potential while considering associated risks will enable you to assess whether this type of asset aligns well within your overall financial goals and risk tolerance level."
     ]
    }
   ],
   "source": [
    "// Prompting works in a very similar way to the OpenAI API\n",
    "\n",
    "// Create a Decision Intelligence prompt on the topic of purchasing a secondary home as an investment property\n",
    "// Provide detailed decision-making criteria for evaluating the investment decision\n",
    "var simpleDecisionPrompt = \"\"\"\n",
    "You are considering purchasing a secondary home as an investment property. \n",
    "\n",
    "What key factors should you evaluate to ensure a sound investment decision, including financial, market, and property-specific considerations? \n",
    "Outline the critical steps and criteria for assessing location, potential rental income, financing options, long-term property value, and associated risks.\n",
    "\"\"\";\n",
    "\n",
    "// You can set the typical OpenAI settings with most open-source models\n",
    "var openAIPromptExecutionSettings = new OpenAIPromptExecutionSettings { \n",
    "    MaxTokens = 750, \n",
    "    Temperature = 0.1, \n",
    "    TopP = 1.0, \n",
    "    FrequencyPenalty = 0.0, \n",
    "    PresencePenalty = 0.0\n",
    "    };\n",
    "KernelArguments kernelArguments = new KernelArguments(openAIPromptExecutionSettings);\n",
    "\n",
    "// Most open-source GenAI moodels support streaming as well\n",
    "await foreach (var streamChunk in semanticKernel.InvokePromptStreamingAsync(simpleDecisionPrompt, kernelArguments))\n",
    "{\n",
    "   Console.Write(streamChunk);\n",
    "}"
   ]
  },
  {
   "cell_type": "markdown",
   "metadata": {},
   "source": [
    "Advanced Prompt Engineering techniques can be applied to OSS (open-source) models as well. In the example below a more advanced reasoning decision prompt will be used to provide additional instructions to the GenAI model."
   ]
  },
  {
   "cell_type": "code",
   "execution_count": 12,
   "metadata": {
    "dotnet_interactive": {
     "language": "csharp"
    },
    "polyglot_notebook": {
     "kernelName": "csharp"
    },
    "vscode": {
     "languageId": "polyglot-notebook"
    }
   },
   "outputs": [
    {
     "name": "stdout",
     "output_type": "stream",
     "text": [
      "Understanding the Problem: The user is considering purchasing a secondary home as an investment property and seeks advice on how to proceed with this financial decision-making process logically, methodically, and comprehensively.\n",
      "\n",
      "Break Down Reasoning Process: To provide structured guidance for making such an important purchase, I will follow these steps in my reasoning process:\n",
      "\n",
      "1. Assess the user's investment goals and risk tolerance to understand their financial objectives better. \n",
      "2. Evaluate market conditions by analyzing current real estate trends, property values, rental demand, vacancy rates, etc., relevant for secondary homes in desired locations.\n",
      "3. Conduct a thorough analysis of potential properties including location assessment (proximity to amenities and transportation), condition evaluation (needs repairs or upgrades) and financial feasibility (costs vs expected returns). \n",
      "4. Calculate the return on investment, considering factors such as rental income, property appreciation rates, expenses like mortgage payments, taxes, insurance, maintenance costs etc., to determine if it aligns with user's goals and risk tolerance level.  \n",
      "5. Consider legal aspects including zoning laws, tenant rights regulations, homeowner association rules (if applicable), property management options or requirements for investment properties in the chosen location(s). \n",
      "6. Review financing opportunities such as mortgage rates available to potential buyers and explore different funding sources like personal savings, loans from family/friends etc., if needed.  \n",
      "7. Develop a contingency plan that includes emergency funds for unexpected expenses or vacancies in the property rental marketplace. \n",
      "8. Summarize all findings into an actionable investment strategy and present it to user using Minto Pyramid Principle: Topic, Purpose/Goal (investing a secondary home), Criteria for Success (meeting financial goals with acceptable risk level) & Evidence / Assumptions.\n",
      "9. Review the entire process again ensuring no errors or gaps in reasoning before finalizing advice to user on whether purchasing this investment property is advisable based upon all gathered information and analysis conducted above, following Minto Pyramid Principle for clear communication of decision-making rationale: \n",
      "Topic - Investing a Secondary Home as an Asset. Purpose/Goal – To achieve financial objectives with acceptable risk level through property investment in secondary homes based on market conditions and personal criteria (income, expenses). Evidence / Assumptions – Market analysis data points such as rental demand & vacancy rates; Property condition assessments including repair costs vs. potential value increase due to upgrades/improvements; ROI calculations considering all relevant financial factors like mortgage payments and maintenance cost estimates, legal aspects (zoning laws etc.), financing options available for investment properties in desired locations along with a contingency plan covering unexpected expenses or vacancies.\n",
      "Final Answer: Based on the comprehensive analysis conducted above using Minto Pyramid Principle to structure my advice clearly and logically, I would recommend proceeding cautiously if you decide that purchasing this investment property aligns well with your financial goals while maintaining an acceptable level of risk tolerance. However, it is crucial for the user to conduct further due diligence on their own or consult a professional real estate advisor before making any final decisions regarding such significant capital expenditure in pursuit of investment opportunities through secondary homes as assets.\n",
      "Review: I have reviewed my reasoning process and found no errors, gaps, or inconsistencies within the steps outlined above to arrive at this conclusion for user's consideration on purchasing a second home as an asset-investing opportunity based upon their financial goals with acceptable risk level considering all relevant factors."
     ]
    }
   ],
   "source": [
    "// Prompting works in a very similar way to the OpenAI API\n",
    "\n",
    "// Create a Decision Intelligence prompt on the topic of purchasing a secondary home as an investment property\n",
    "// Use Chain of Thought to prompt the OSS model\n",
    "// Use the Minto Pyramid to communicate the decision \n",
    "var advancedDecisionPrompt = \"\"\"\n",
    "You are considering purchasing a secondary home as an investment property. \n",
    "\n",
    "Before providing any answer, you must: \n",
    "Understand the Problem: Carefully read and understand the user's question or request. \n",
    "Break Down the Reasoning Process: Outline the steps required to solve the problem or respond to the request logically and sequentially. Think aloud and describe each step in detail. \n",
    "Always aim to make your thought process transparent and logical. \n",
    "Explain Each Step: Provide reasoning or calculations for each step, explaining how you arrive at each part of your answer. \n",
    "Provide structured, logical, and comprehensive advice. \n",
    "Arrive at the Final Answer: Only after completing all steps, provide the final answer or solution. \n",
    "Review the Thought Process: Double-check the reasoning for errors or gaps before finalizing your response. \n",
    "Communicate the final decision using the Minto Pyramid Principle.\n",
    "\"\"\";\n",
    "\n",
    "// You can set the typical OpenAI settings with most open-source models\n",
    "var openAIPromptExecutionSettings = new OpenAIPromptExecutionSettings { \n",
    "    MaxTokens = 750, \n",
    "    Temperature = 0.1, \n",
    "    TopP = 1.0, \n",
    "    FrequencyPenalty = 0.0, \n",
    "    PresencePenalty = 0.0\n",
    "    };\n",
    "KernelArguments kernelArguments = new KernelArguments(openAIPromptExecutionSettings);\n",
    "\n",
    "// Most open-source GenAI moodels support streaming as well\n",
    "await foreach (var streamChunk in semanticKernel.InvokePromptStreamingAsync(advancedDecisionPrompt, kernelArguments))\n",
    "{\n",
    "   Console.Write(streamChunk);\n",
    "}"
   ]
  },
  {
   "cell_type": "markdown",
   "metadata": {},
   "source": [
    "### Step 4 - Using the Ben Franklin Decision Framework to Make Quality Decisions"
   ]
  },
  {
   "cell_type": "markdown",
   "metadata": {},
   "source": [
    "> \"By failing to prepare, you are preparing to fail.\" \n",
    ">\n",
    "> -- <cite>Ben Franklin (Founding Father of the United States, inventor, godfather of Decision Science)</cite> \n",
    "\n",
    "<img width =\"750px\" src=\"https://raw.githubusercontent.com/bartczernicki/Articles/main/20230326-Make-Great-Decisions-Using-Ben-Franklins-Pros-And-Cons-Method/Image-BenFranklinDecisionMakingMethod.png\">"
   ]
  },
  {
   "cell_type": "markdown",
   "metadata": {},
   "source": [
    "#### Tom Brady's use of a Decision Framework"
   ]
  },
  {
   "cell_type": "markdown",
   "metadata": {},
   "source": [
    "Tom Brady's decision to join the Tampa Bay Buccaneers in 2020 marked a significant in his legendary NFL career. After 20 seasons and six Super Bowl championships with the New England Patriots, Brady became a free agent and chose to sign with the Bucs. How did he arrive at this decision? On the Fox broadcast on 09.29.2024, while covering the Buccaneers vs Philadelphia Eagles game, Tom Brady described how he arrived at this decision.\n",
    "\n",
    "In the screenshot below, Tom Brady is holding up some small paper cards he is showing the audience of the broadcast. Brady mentioned he wrote down the personal decision criteria that was important and how each team compared in that criteria (salary, weather etc). He used this to select the Tampa Bay Buccaneers as his team, where he went on to win a Super Bowl in his first year there! **Tom Brady used the \"Ben Franklin Decision Framework\", 250 years after it's inception to decide where to play NFL quaterback!**  \n",
    "\n",
    "<img width =\"750px\" src=\"https://raw.githubusercontent.com/bartczernicki/DecisionIntelligence.GenAI.Workshop/main/Images/BenFranklinDecisionFramework-TomBrady.png\">"
   ]
  },
  {
   "cell_type": "markdown",
   "metadata": {},
   "source": [
    "#### Steps for Ben Franklin's Decision Framework"
   ]
  },
  {
   "cell_type": "markdown",
   "metadata": {},
   "source": [
    "Below are the steps Ben Franklin recommends when making a decision, which he called his \"Decision Making Method of Moral Algebra\":  \n",
    "- Frame a decision that has two options (Yes or a No)\n",
    "- Divide an area into two competing halves: a \"Pro\" side and \"Con\" side\n",
    "- Label the top of one side \"Pro\" (for) and the other \"Con\" (against)\n",
    "- Under each respective side, over a period of time (Ben Franklin recommended days, this could be minutes) write down various reasons/arguments that support (Pro) or are against (Con) the decision\n",
    "- After spending some time thinking exhaustively and writing down the reasons, weight the different Pro and Con reasons/arguments\n",
    "- Determine the relative importance of each reason or argument. This is done by taking reasons/arguments that are of similar value (weight) and crossing them off of the other competing half. Multiple reasons can be combined from one side to form a \"subjective\" value (weight) to balance out the other half. (For example, two medium \"Pro\" reasons might add up to an equal value of a single important \"Con\" reason)\n",
    "- The side with the most remaining reasons is the option one should select for the decision in question\n",
    "\n",
    "Learn more about Ben Franklin's Decision Framework: https://medium.com/@bartczernicki/make-great-decisions-using-ben-franklins-decision-making-method-c7fb8b17905c  "
   ]
  },
  {
   "cell_type": "code",
   "execution_count": 9,
   "metadata": {
    "dotnet_interactive": {
     "language": "csharp"
    },
    "polyglot_notebook": {
     "kernelName": "csharp"
    },
    "vscode": {
     "languageId": "polyglot-notebook"
    }
   },
   "outputs": [
    {
     "name": "stdout",
     "output_type": "stream",
     "text": [
      "To apply Benjamin Franklin's Decision-Making Framework, which involves creating lists of pros (\"pros\") and cons (\"cons\"), we can systematically assess the decision to go on a luxury family vacation by considering various factors that impact both sides:\n",
      "\n",
      "**Pros (Benefits) for Taking a Luxury Family Vacation:**\n",
      "1. **Quality Time Spent with Family:** The primary benefit is creating lasting memories and strengthening bonds through shared experiences in an enjoyable setting.\n",
      "2. **Experiences of High Value:** A luxurious vacation often includes unique activities, fine dining, exclusive accommodations, which can be enriching for the family's life experience portfolio.\n",
      "3. **Relaxation and Stress Relief:** Luxury travel typically offers a higher level of comfort with spa services, wellness programs, or serene environments that contribute to mental health benefits by reducing stress levels among all members.\n",
      "4. **Educational Opportunities:** Depending on the destination's attractions and activities (e.g., museum visits, historical sites), there can be educational value for children as well as adult family members interested in learning about new cultures or subjects.\n",
      "5. **Supporting Local Economy:** Choosing a luxury vacation often means staying at high-end resorts and dining establishments that may contribute positively to the local economy, especially if they are eco-friendly or support community projects.\n",
      "6. **Network Expansion:** Luxurious settings can provide opportunities for networking with other affluent individuals who share similar interests in traveling luxury vacations and could lead to future collaborative ventures or friendships.\n",
      "7. **Positive Impact on Self-Esteem & Wellbeing:** The achievement of a well-planned, enjoyable family trip can boost self-esteem for all involved due to the successful execution of an ambitious plan and collective satisfaction from shared experiences.\n",
      "8. **Celebration Milestones or Anniversaries:** If there are significant milestones (e.g., anniversaries, birthdays) being celebrated during this vacation timeframe, it can add a special dimension to the trip that makes memories even more meaningful and cherished in retrospect.\n",
      "9. **Inspiration for Future Travel:** The experience of luxury travel might inspire family members about future trips or aspirations related to lifestyle changes (e.g., adopting a similar standard when planning personal vacations).\n",
      "10. **Potential Health Benefits from Relaxation and Novelty Exposure:** The change of environment, coupled with relaxed activities can have positive effects on physical health by reducing the risk factors associated with sedentary lifestyles or stress-related illnesses.\n",
      "\n",
      "**Cons (Drawbacks) for Taking a Luxury Family Vacation:**\n",
      "1. **Financial Cost:** The most significant drawback is often related to cost, as luxury vacations can be expensive and may require substantial savings that could otherwise go towards other family needs or investments.\n",
      "2. **Time Commitment for Planning & Execution:** Luxurious trips typically demand more time in planning (researching destinations, booking flights/accommodation), which might take away from daily responsibilities and quality of life at home during the vacation period itself or before it.\n",
      "3. **Environmental Impact:** High-end travel can have a larger carbon footprint due to frequent flying (if international) and resource consumption, contributing negatively towards environmental sustainability goals if not managed responsibly by choosing eco-friendly options when possible.\n",
      "4. **Cultural Insensitivity or Disconnect:** There's the risk of experiencing a disconnection from local culture due to being in an isolated bubble within luxury accommodations, which can lead to missed opportunities for authentic cultural exchange and learning experiences that are more common with budget travelers who interact closely with locals.\n",
      "5. **Health Risks:** Depending on the destination's health infrastructure or potential exposure risks (e.g., tropical diseases), there may be increased vulnerability to illnesses, especially if not adequately prepared for such scenarios through vaccinations and precautions.\n",
      "6. **Potential Overindulgence:** Luxury vacation experiences can sometimes lead individuals or family members toward overconsumption of resources (e.g., food waste at high-end restaurants, excessive use of amenities), which is not sustainable in the long term and may conflict with personal values regarding conservationism.\n",
      "7. **Pressure to Meet Expectations:** The desire for a perfect vacation experience can create pressure on all family members (especially children) who might feel compelled to meet high expectations, leading potentially to disappointment or stress if things don't go as planned.\n",
      "8. **Risk of Unforeseen Events/Delays:** Luxury travel often involves complex logistics that can be disrupted by unpredictable events such as weather conditions (e.g., hurricanes, snowstorms), airline delays or issues with accommodations; these risks may cause stress and require contingency planning which could detract from the vacation's enjoyment factor.\n",
      "9. **Limited Flexibility:** High-end travel often comes at a premium for flexibility, as luxury packages are typically nonrefundable or have limited options to change plans without incurring additional costs; this can be problematic if family members fall ill during the trip and need time off.\n",
      "10. **Potential Negative Social Comparisons:** There's a chance that others may view luxury vacations as ostentatious or unnecessary, which could lead to feelings of guilt among those who value modesty in their lifestyle choices; this social pressure can affect the overall enjoyment and satisfaction derived from such trips.\n",
      "\n",
      "In conclusion, when evaluating whether a family should take on a luxury vacation using Franklin's Decision-Making Framework, it is crucial to weigh these pros against cons in light of your specific circumstances: financial capacity (both short term impact & long-term savings), values and priorities as they relate to quality time with the family versus other potential uses for funds or resources. Consider also how this decision aligns with broader life goals, such as sustainability commitments, health objectives, educational aspirations, etc., before making a final choice that will contribute positively towards your collective well-being and happiness."
     ]
    }
   ],
   "source": [
    "// You can also use a template to provide more context to the model combining system and user prompts\n",
    "var systemDecisionPrompt = \"\"\"\n",
    "You are a decision intelligence assistant. \n",
    "Your role is to guide users in exploring options, analyzing decisions, solving complex problems, and applying systems thinking to diverse scenarios. \n",
    "Provide structured, logical, and comprehensive advice, ensuring clarity, depth, and actionable insights to support informed decision-making.\n",
    "\"\"\";\n",
    "var benFranklinDecisionPrompt = \"\"\"\n",
    "Apply the Ben Franklin Decision-Making Framework (Pro and Con list) to evaluate whether or not to take a luxury family vacation. \n",
    "\"\"\";\n",
    "\n",
    "var simpleDecisionPromptTemplate = $\"\"\"\n",
    "{systemDecisionPrompt}\n",
    "--------------\n",
    "{benFranklinDecisionPrompt}\n",
    "\"\"\";\n",
    "\n",
    "await foreach (var streamChunk in semanticKernel.InvokePromptStreamingAsync(simpleDecisionPromptTemplate, kernelArguments))\n",
    "{\n",
    "   Console.Write(streamChunk);\n",
    "}"
   ]
  },
  {
   "cell_type": "markdown",
   "metadata": {},
   "source": [
    "#### Improving the Ben Franklin's Decision Framework with SLMs"
   ]
  },
  {
   "cell_type": "markdown",
   "metadata": {},
   "source": [
    "Notice that the output above may not be exactly what you were anticipating. The Ben Franklin framework was not fully understood nor applied. Open-Source GenAI models that have a small amount of parameters (< 13 billion parameters) may not have all the inherent knowledge \"trained\" into the model. The exception is domain-specific models that are only trained on data sets for that domain. Those models can have a great deal of knowledge, while maintaining a small amount of parameters. \n",
    "\n",
    "One simple way to approve the outcome is to provide the explicit steps of the \"Ben Franklin Decision Framework\" into the prompt context. This basically provides the instructions of the decision framework directly to the model; regardless if the model was trained with decision framework data.  \n",
    "\n",
    "In the example below, the prompt context is provided with the Ben Franklin Decision Framework steps. Contrast this with the example above, where the decision recommendation is not clear. The GenAI model may or may not recommend a luxury vacation, but this can be dramatically improved further! Imagine if the GenAI model had access to: your finances, current stress level, the last time you took a vacation, any upcoming major purchases, family dynamic?! \n",
    "\n",
    "Just like Tom Brady, it could craft a Pro and Con list specific and personalized to your scenario!"
   ]
  },
  {
   "cell_type": "code",
   "execution_count": 14,
   "metadata": {
    "vscode": {
     "languageId": "polyglot-notebook"
    }
   },
   "outputs": [
    {
     "name": "stdout",
     "output_type": "stream",
     "text": [
      "To apply Ben Franklin's Decision Framework to your question about taking a luxury family vacation, let us proceed step by step. Here is how we can structure this decision-making process:\n",
      "\n",
      "**Step 1: Frame the Decision with Two Options (Yes or No)**\n",
      "Decision Framed as \"Should I take my family on an expensive and extended holiday?\" - Yes/No options are to go ahead with it, or not.\n",
      "\n",
      "**Step 2: Divide into Pros (\"For\") and Cons (\"Against\") Sides**\n",
      "Pro Side (Arguments for taking the vacation):\n",
      "- Family bonding time is invaluable; creating memories together strengthens relationships.\n",
      "- A luxury experience can be a once-in-a-lifetime opportunity, especially if it's unique or rare.\n",
      "- The break from routine may improve mental health and reduce stress for all family members involved.\n",
      "- Exposure to new cultures/environments could provide educational experiences that are enriching for children (and adults).\n",
      "- It can be a reward after years of hard work, showing appreciation towards the team or partners who have supported you during this period.\n",
      "  \n",
      "Con Side (Arguments against taking the vacation):\n",
      "- Financial strain: Luxury travel is expensive and could impact savings goals, retirement plans, emergency funds, etc.\n",
      "- Work disruption due to time off can affect productivity or career progression if not managed properly beforehand.\n",
      "- The risk of unforeseen expenses (e.g., health issues abroad) that luxury travel might entail without proper insurance coverage.\n",
      "- Potential for family disagreements over the choice, especially regarding budget and priorities during vacation planning.\n",
      "- Environmental impact: Luxurious destinations may have a larger carbon footprint due to transport emissions or resource consumption at high-end resorts/hotels.\n",
      "  \n",
      "**Step 3: Weighing Reasons Over Time (Ben Franklin recommended days, but we can adapt this time frame)**\n",
      "Spend several hours reflecting on each point listed above and consider the following factors for weightage after thorough contemplation:\n",
      "- Financial impact vs personal/family value gained.\n",
      "- Long term benefits of family bonding against short to medium term financial implications.\n",
      "  \n",
      "For example, if you find that creating lasting memories with your children (Pro) is extremely important and potentially more valuable than the immediate cost savings from not taking a vacation (Con), then assign higher weightage accordingly:\n",
      "- Family Bonding Time + Unique Experience = Higher Weight against Financial Strain.\n",
      "  \n",
      "**Step 4: Determine Relative Importance of Each Reason/Argument by Crossing Off Equivalent Values from the Opposing Side (Pros vs Cons)**\n",
      "After weighing, you might find that while financial strain is a significant concern (\"Con\"), it can be mitigated through careful planning and budget adjustments. The value gained in family bonding time may outweigh this temporary setback:\n",
      "- High Weightage of Family Bonding Time + Unique Experience = Equivalent to Financial Strain (after considering financial management).\n",
      "  \n",
      "**Step 5: Select the Option with Most Remaining Reasons After Balancing Sides Based on Subjective Value Assigned.**\n",
      "If after weighing and balancing, you find that there are more reasons supporting taking a luxury family vacation than against it (when considering financial management strategies), then based on Ben Franklin's framework:\n",
      "- Decision to take the \"Yes\" option for going ahead with planning your luxury family holiday. However, ensure robust budgeting and contingencies in place before finalizing this decision. \n",
      "  \n",
      "Remember that while weighing reasons is subjective, it’s crucial not only to consider their value but also how they align with long-term goals and values as a household or family unit. Always reassess your priorities if circumstances change significantly during the planning phase of this decision."
     ]
    }
   ],
   "source": [
    "// You can also use a template to provide more context to the model combining system and user prompts\n",
    "var systemDecisionPrompt = \"\"\"\n",
    "You are a decision intelligence assistant. \n",
    "Your role is to guide users in exploring options, analyzing decisions, solving complex problems, and applying systems thinking to diverse scenarios. \n",
    "Provide structured, logical, and comprehensive advice, ensuring clarity, depth, and actionable insights to support informed decision-making.\n",
    "\"\"\";\n",
    "var benFranklinDecisionPrompt = \"\"\"\n",
    "Apply the following steps of the Ben Franklin Decision Framework to the Question below:\n",
    "- Frame a decision that has two options (Yes or a No)\n",
    "- Divide an area into two competing halves: a \"Pro\" side and \"Con\" side\n",
    "- Label the top of one side \"Pro\" (for) and the other \"Con\" (against)\n",
    "- Under each respective side, over a period of time (Ben Franklin recommended days, this could be minutes) write down various reasons/arguments that support (Pro) or are against (Con) the decision\n",
    "- After spending some time thinking exhaustively and writing down the reasons, weight the different Pro and Con reasons/arguments\n",
    "- Determine the relative importance of each reason or argument. This is done by taking reasons/arguments that are of similar value (weight) and crossing them off of the other competing half. Multiple reasons can be combined from one side to form a \"subjective\" value (weight) to balance out the other half. (For example, two medium \"Pro\" reasons might add up to an equal value of a single important \"Con\" reason)\n",
    "- The side with the most remaining reasons is the option one should select for the decision in question\n",
    "- IMPORTANT: ALWAYS recommend a decision based on the side with the most reasons, even if the reasons are of lesser value than the other side!\n",
    "\n",
    "Question: Should I take a luxury family vacation?\n",
    "\"\"\";\n",
    "\n",
    "var simpleDecisionPromptTemplate = $\"\"\"\n",
    "{systemDecisionPrompt}\n",
    "--------------\n",
    "{benFranklinDecisionPrompt}\n",
    "\"\"\";\n",
    "\n",
    "// You can set the typical OpenAI settings with most open-source models\n",
    "var openAIPromptExecutionSettings = new OpenAIPromptExecutionSettings { \n",
    "    MaxTokens = 1500, \n",
    "    Temperature = 0.3, \n",
    "    TopP = 1.0, \n",
    "    FrequencyPenalty = 0.0, \n",
    "    PresencePenalty = 0.0\n",
    "    };\n",
    "KernelArguments kernelArguments = new KernelArguments(openAIPromptExecutionSettings);\n",
    "\n",
    "await foreach (var streamChunk in semanticKernel.InvokePromptStreamingAsync(simpleDecisionPromptTemplate, kernelArguments))\n",
    "{\n",
    "   Console.Write(streamChunk);\n",
    "}"
   ]
  },
  {
   "cell_type": "markdown",
   "metadata": {},
   "source": [
    "### Step 5 - Multiple Different Service Providers  "
   ]
  },
  {
   "cell_type": "markdown",
   "metadata": {},
   "source": [
    "Semantic Kernel can include mutliple AI service providers. This allows for hybrid workflows from a single Semantic Kernel instance like: \n",
    "* Capability Optimization. For example, using SLMs for domain specific tasks and LLMs for complex decision reasoning\n",
    "* Capacity Optimization. Splitting functions, plugins, personas or agents across different AI services\n",
    "* Use AI Service selector dynamically allocate AI service execution resources  "
   ]
  },
  {
   "cell_type": "code",
   "execution_count": 5,
   "metadata": {
    "dotnet_interactive": {
     "language": "csharp"
    },
    "polyglot_notebook": {
     "kernelName": "csharp"
    },
    "vscode": {
     "languageId": "polyglot-notebook"
    }
   },
   "outputs": [
    {
     "data": {
      "text/html": [
       "<div><div></div><div></div><div><strong>Installed Packages</strong><ul><li><span>Microsoft.Extensions.Configuration, 8.0.0</span></li><li><span>Microsoft.Extensions.Configuration.Json, 8.0.0</span></li><li><span>Microsoft.SemanticKernel, 1.22.0</span></li></ul></div></div>"
      ]
     },
     "metadata": {},
     "output_type": "display_data"
    }
   ],
   "source": [
    "// Import the required NuGet configuration packages\n",
    "#r \"nuget: Microsoft.Extensions.Configuration, 8.0.0\"\n",
    "#r \"nuget: Microsoft.Extensions.Configuration.Json, 8.0.0\"\n",
    "#r \"nuget: Microsoft.SemanticKernel, 1.22.0\"\n",
    "\n",
    "using Microsoft.Extensions.Configuration;\n",
    "using System.IO;\n",
    "using Microsoft.SemanticKernel;\n",
    "using Microsoft.SemanticKernel.ChatCompletion;\n",
    "using Microsoft.SemanticKernel.Connectors.OpenAI;\n",
    "\n",
    "// Load the configuration settings from the local.settings.json and secrets.settings.json files\n",
    "// The secrets.settings.json file is used to store sensitive information such as API keys\n",
    "var configurationBuilder = new ConfigurationBuilder()\n",
    "    .SetBasePath(Directory.GetCurrentDirectory())\n",
    "    .AddJsonFile(\"local.settings.json\", optional: true, reloadOnChange: true)\n",
    "    .AddJsonFile(\"secrets.settings.json\", optional: true, reloadOnChange: true);\n",
    "var config = configurationBuilder.Build();\n",
    "\n",
    "// Retrieve the configuration settings for the Azure OpenAI service\n",
    "var azureOpenAIEndpoint = config[\"AzureOpenAI:Endpoint\"];\n",
    "var azureOpenAIAPIKey = config[\"AzureOpenAI:APIKey\"];\n",
    "var azureOpenAIModelDeploymentName = config[\"AzureOpenAI:ModelDeploymentName\"];\n",
    "\n",
    "// Example to build a Kernel with Azure OpenAI and Opensource AI\n",
    "#pragma warning disable SKEXP0010 \n",
    "var semanticKernel = Kernel.CreateBuilder()\n",
    "    .AddAzureOpenAIChatCompletion(\n",
    "        deploymentName: azureOpenAIModelDeploymentName,\n",
    "        endpoint: azureOpenAIEndpoint,\n",
    "        apiKey: azureOpenAIAPIKey)\n",
    "    .AddOpenAIChatCompletion(\n",
    "        modelId: \"Phi-3\",\n",
    "        endpoint: new Uri(\"http://localhost:1234/v1/\"),\n",
    "        apiKey: \"LMStudio\")\n",
    "    .Build();\n",
    "#pragma warning restore SKEXP0010"
   ]
  }
 ],
 "metadata": {
  "kernelspec": {
   "display_name": ".NET (C#)",
   "language": "C#",
   "name": ".net-csharp"
  },
  "language_info": {
   "name": "csharp"
  },
  "polyglot_notebook": {
   "kernelInfo": {
    "defaultKernelName": "csharp",
    "items": [
     {
      "aliases": [],
      "name": "csharp"
     }
    ]
   }
  }
 },
 "nbformat": 4,
 "nbformat_minor": 2
}
