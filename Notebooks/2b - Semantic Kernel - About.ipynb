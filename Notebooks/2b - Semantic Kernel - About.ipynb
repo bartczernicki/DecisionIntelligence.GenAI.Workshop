{
 "cells": [
  {
   "cell_type": "markdown",
   "metadata": {},
   "source": [
    "<img style=\"float: left;\" width =\"40px\" src=\"https://raw.githubusercontent.com/bartczernicki/DecisionIntelligence.GenAI.Workshop/main/Images/SemanticKernelLogo.png\">\n",
    "\n",
    "## About Semantic Kernel"
   ]
  },
  {
   "cell_type": "markdown",
   "metadata": {},
   "source": [
    "Semantic Kernel is an **open source code-first** framework **maintained by Microsoft** that supports AI orchestration across three core languages: **Python, Java and .NET**. It is often compared to LangChain and offers similar capabilities.\n",
    "\n",
    "<img width =\"750px\" src=\"https://raw.githubusercontent.com/bartczernicki/DecisionIntelligence.GenAI.Workshop/main/Images/SemanticKernelOpenSource.png\">\n",
    "\n",
    "With Semantic Kernel being open source, it allows hands-on AI roles to:\n",
    "* Transparently understand the Semantic Kernel **roadmap, releases, current issues**\n",
    "* Clearly **understand the dependencies** that Semantic Kernel takes as AI evolves\n",
    "* The Semantic Kernel team **publishes core design desicions**\n",
    "* The Semantic Kernel team **maintains office hours several times a months with the community**"
   ]
  },
  {
   "cell_type": "markdown",
   "metadata": {},
   "source": [
    "Semantic Kernel's primary function can be described as an AI Orchestration layer that lies betweeen your user experiences and the AI foundation layer. You can think Semantic Kernel as the software layer that sits between the Generative AI (bare metal and math layer) and the user experiece services (Copilots, UX).  \n",
    "\n",
    "<img width =\"750px\" src=\"https://raw.githubusercontent.com/bartczernicki/DecisionIntelligence.GenAI.Workshop/main/Images/SemanticKernelOrchestration.png\">\n",
    "\n",
    "This means that Semantic Kernel's core value proposition is providing all of the functionality you need to craft sophisticated orchestration processes & interactions between AI foundation (AI models) and the user experience & middle-tier services."
   ]
  },
  {
   "cell_type": "markdown",
   "metadata": {},
   "source": [
    "Semantic Orchestration pipelines can be visualized in the manner below, where key constructs such as: functions, plugins, personas, planners and agents all play a role as foundational building blocks in a Semantic Kernel powered AI architecture.\n",
    "\n",
    "<img width =\"750px\" src=\"https://raw.githubusercontent.com/bartczernicki/DecisionIntelligence.GenAI.Workshop/main/Images/SemanticKernelPipeline.png\">"
   ]
  },
  {
   "cell_type": "markdown",
   "metadata": {},
   "source": [
    "Semantic Kernel Resources\n",
    "* GitHub Repo: https://github.com/microsoft/semantic-kernel \n",
    "* Decisions: https://github.com/microsoft/semantic-kernel/tree/main/docs/decisions \n",
    "* Semantic Kernel Concepts: https://github.com/microsoft/semantic-kernel/tree/main/dotnet/samples/Concepts \n",
    "* DevBlogs on Semantic Kernel: https://devblogs.microsoft.com/semantic-kernel/category/semantic-kernel/ \n",
    "* Semantic Kernel Office Hours: https://devblogs.microsoft.com/semantic-kernel/semantic-kernel-office-hours-recordings/ "
   ]
  }
 ],
 "metadata": {
  "language_info": {
   "name": "python"
  }
 },
 "nbformat": 4,
 "nbformat_minor": 2
}
