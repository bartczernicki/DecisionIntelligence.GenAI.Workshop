{
 "cells": [
  {
   "cell_type": "markdown",
   "metadata": {},
   "source": [
    "<div style=\"display: flex; align-items: center;\">\n",
    "  <img src=\"https://raw.githubusercontent.com/bartczernicki/DecisionIntelligence.GenAI.Workshop/main/Images/DecisionIntelligenceLogo.png\" width=\"50px\" style=\"margin-right: 10px;\">\n",
    "  <span style=\"font-size: 1.5em; font-weight: bold;\">Decision Intelligence – Decision Execution with Quantitative Methods</span>\n",
    "</div>"
   ]
  },
  {
   "cell_type": "markdown",
   "metadata": {},
   "source": [
    "<img style=\"display: block; margin: auto;\" width =\"700px\" src=\"https://raw.githubusercontent.com/bartczernicki/DecisionIntelligence.GenAI.Workshop/main/Images/DecisionIntelligence-DecisionExecution.png\">"
   ]
  },
  {
   "cell_type": "markdown",
   "metadata": {},
   "source": [
    "Work in progress"
   ]
  },
  {
   "cell_type": "markdown",
   "metadata": {},
   "source": [
    "> 📜 **_\"Whenever we can replace human judgement by a formula, we should at least consider it.\"_**\n",
    ">\n",
    "> -- <cite>\"Thinking , Fast and Slow\" (page 233) - Daniel Kahneman</cite> "
   ]
  },
  {
   "cell_type": "markdown",
   "metadata": {},
   "source": [
    "When faced with any decision, it’s often tempting to “go with something simple\" to make the decision. Intuition and simple rules of thumb can serve us well, especially when time is short or we’re in a familiar environment. These instinctive decisions are fast and draw on our experience, but they have limits. Left unchecked, our gut feelings can introduce bias or oversimplify a complex situation​. This is why the quote above from Daniel Kahneman is quite consequential. Basically, Daniel Kahneman is claimining whenever (when we have the time or the decision is sufficiently important) we should consider using a formula (quantitative calculation based on math and statistics).  \n",
    "\n",
    "Quantitative methods offer a powerful complement to intuition and decision rules for decision execution. By bringing math, statistics and data into the decision-making process, we get a structured process to weigh decision options. Instead of relying on instinct or simple rules, we can analyze evidence, attach probabilities to possibilities, and objectively compare alternatives. This structured analysis makes it easier to verify assumptions and measure results, leading to clearer reasoning and better decision quality. While this might sound complex, the core idea is simple: by applying structured reasoning and calculated numbers, we reduce future uncertainty and make more informed choices.\n",
    "\n",
    "Another big advantage of quantitative decision-making is how it handles uncertainty and trade-offs. Real decisions often involve unknowns and future uncertainty, where a lone intuition might misjudge risks or focus on the wrong factors. Many research studies show quantitative methods consistently lead to higher-quality decisions. For example, one recent study found that data-driven organizations are three times more likely to significantly improve their decision making than those that rely on intuition alone​; even besting expert human judgement. Therefore, turning decision information into concrete values and probabilities, we greatly reduce uncertainty and gain confidence in the choices we make.  "
   ]
  },
  {
   "cell_type": "markdown",
   "metadata": {},
   "source": [
    "---\n",
    "**📝 EXPLANATION**\n",
    "\n",
    "You have seen some simple math formulas in the previous *\"Decision Execution with Decision Rules\"* section. What is the difference between the math in this section? The calculations needed to be performed for Decision Rules are quite simple and the formulas have already been defined ready for use. For example, the \"10,000 Step Decision Rule\" is simply implemented by gathering information on the amount of daily steps and comparing it to the 10,000 step threshold. You are just plugging in gather information to a decision rule to execute a decision. Whereas using more advanced quantiative methods you may first use your own body composition to create an optimized formula that is different than 10,000 steps (9,550 steps). Decisions that are less defined require a breadth of more quantiative tools.  \n",
    "\n",
    "---"
   ]
  },
  {
   "cell_type": "markdown",
   "metadata": {},
   "source": [
    "### Math > Humans"
   ]
  },
  {
   "cell_type": "markdown",
   "metadata": {},
   "source": [
    "Humans are naturally bad at math. While we’ve built complex mathematical systems and advanced sciences, our brains simply weren’t designed to handle numbers intuitively. Exceptinonal humans invented all of the mathematical advancements over thousands of years. To name one example, Isaac Newton before turning 26 years old came up with the laws of motion, invented calculus! However, most of us struggle with the basics: large numbers, fail at simple fractions, and often don't use probabilities correctly. Rather than talk about many different background reasons, let's illustrate this with some real examples.\n",
    "\n",
    "The most basic example in mathematics is counting numbers. However, once we get to large numbers interesting things start to happen with being able to grasp the enormity of some extreme numbers. Studies have shown that people can’t truly feel the difference between a million, a billion, and a trillion—leading to major misconceptions and poor decisions. Let's do a simple comparison of a million and a billion dollars. Let's hypothetically say that you have two bank accounts; one with a million dollars and one with a billion dollars. You could withdraw $100,000 each year from each bank account. The bank account with one million dollars would last 10 years before going to $0. Conversely, the bank account with a billion dollars would last 10,000 years! Did framing this comparison make you say \"Wow\"? Most people know a billion is larger than a million and that they would prefer to have a billion dollars over a million dollars. However, this is where doing mathematical comparisons helps us grasp the information needed for decisions. \n",
    "\n",
    "One famous example is A&W’s failed attempt to compete with McDonald’s Quarter Pounder. They introduced a 1/3 pound burger at the same price, thinking customers would see the obvious value in more burger meat for the same cost. But instead, it led to a marketing flop. When A&W conducted a focus group, a a majority of consumers assumed that 1/3 was SMALLER than 1/4 because “4 is bigger than 3,”! This famous example is sometimes hard to imagine is real, so A&W have a dedicated web page confirming it's reality. A&W has videos, case studies and even a dedicated brief about it: https://staging.awrestaurants.com/blog/memories-history/the-truth-about-aws-third-pound-burger-and-the-major-math-mix-up/.  \n",
    "In fact, in later years A&W used poor consumer math to their advantage and introduced a marketing campaign of a 3/9\" burger. In closing of this example, a poor understanding of math fractions led many folks to make the wrong burger decision.  \n",
    "\n",
    "<img style=\"display: block; margin: auto;\" width =\"700px\" src=\"https://raw.githubusercontent.com/bartczernicki/DecisionIntelligence.GenAI.Workshop/main/Images/AWBurgerThreeNinths.png\">\n",
    "\n",
    "Whether it’s understanding interest rates, evaluating risks, or placing a wager on your favorite football team, math plays a key role in daily life. Without a strong grasp of numbers and statistics, people fall for deceptive marketing, misjudge financial risks, and struggle with decision-making under uncertainty. Thankfully, Generative AI can help bridge this gap. While our brains struggle with math, AI excels at crunching numbers, performing complex calculations, and presenting data in easy-to-understand ways. Instead of relying on flawed intuition, we can now use AI tools to analyze probabilities, compare numerical values to make more informed decisions. Whether it’s forecasting investments, optimizing business strategies, or even simplifying grocery shopping math, AI can serve as a powerful decision-making assistant. "
   ]
  },
  {
   "cell_type": "markdown",
   "metadata": {},
   "source": [
    "### Arriving at Quantitative Conclusions using Simulations "
   ]
  },
  {
   "cell_type": "markdown",
   "metadata": {},
   "source": [
    "Imagine you need to climb a ladder to change a lightbulb. Instead of pulling out a calculator to precisely compute the ladder’s weight distribution, friction, or the exact roughness of the floor, you give the ladder a quick shake. If it wobbles dangerously, you adjust it; if it feels steady, you proceed to climb. In effect, each shake is like a mini-simulation of the physical forces that could tip the ladder. You’re sampling a few possible disturbances to see how the ladder holds up. By shaking the ladder, you’re testing how it will behave under slightly different conditions – a bit forward, a bit backward, a gentle nudge or a harder push – without needing to know every detail of physics at play​. If the ladder remains sturdy through these random “what-if” tests, you gain confidence that normal movements (like you climbing up) won’t cause it to slip​. This simple practice replaces complex quantitative calculations with an intuitive experiment, demonstrating how simulation helps us gauge stability with imperfect information."
   ]
  },
  {
   "cell_type": "markdown",
   "metadata": {},
   "source": [
    "<img style=\"display: block; margin: auto;\" width =\"700px\" src=\"https://raw.githubusercontent.com/bartczernicki/DecisionIntelligence.GenAI.Workshop/main/Images/DecisionIntelligenceFramework/DecisionExecution-QuantMethods-LadderSimulation.png\">"
   ]
  },
  {
   "cell_type": "markdown",
   "metadata": {},
   "source": [
    "#### Simulations in Decision Forecasting "
   ]
  },
  {
   "cell_type": "markdown",
   "metadata": {},
   "source": [
    "The ladder example is a microcosm of how mathematical simulations aid decision-making. In real-world decisions we almost never have perfect information. For example, when forecasting the economy, planning a project, or predicting the weather there are too many unknown variables that can impact the outcome. Instead of trusting a single set of assumptions (which is like climbing the ladder without testing it), analysts build a model of the situation and then “shake” that model by trying many different inputs and scenarios. The idea is to see how the outcomes might change if certain factors turn out differently than expected.\n",
    "\n",
    "By using simulations, decision-makers can explore a range of “what-if” scenarios without needing exact data for every variable. For example, a business might simulate how different sales numbers, costs, or market conditions affect its profits, rather than assuming one fixed plan. A weather model might be run multiple times with slight changes in initial conditions to see various possible storm tracks. Each run of the model is like one shake of the ladder – a trial to see what could happen.\n",
    "\n",
    "Simulation methods offer several benefits for making decisions under uncertainty:\n",
    "* **Explore \"What-If\" Decision Scenarios:** Simulations let you experiment with different assumptions (e.g. best case, worst case) to see how each scenario might play out, without committing to a single decision prediction upfront. This reveals how sensitive your outcomes are to changes in uncertain factors.  \n",
    "* **Visualize a Range of Outcomes:** Rather than one definitive result, a simulation produces a spread of possible outcomes and estimates how likely each outcome is​. Basically you get a probability distribution of results. For instance, a simulation may show 80% chance of exceeding a sales target or a 10% chance of a project running very late. This is far more informative than relying on a single guess, and it allows for better decision-making under uncertainty​.  \n",
    "* **Assess Decision Risk and Extremes:** Because simulations consider many random trials, they help identify the risks of extreme outcomes. You can see the “Black Swan”events that might be disastrous (or extraordinarily successful) and gauge their impact. In fact, running many simulated trials effectively allows you to account for risk in your analysis by observing how often bad outcomes occur. Two recent real-world examples of this is the many models that did not account for the 2008 financial crisis or the 2020 disruption caused by the Covid-19 pandemic.  "
   ]
  },
  {
   "cell_type": "markdown",
   "metadata": {},
   "source": [
    "#### Monte Carlo: Running Thousands of \"What-If\" Decision Scenarios"
   ]
  },
  {
   "cell_type": "markdown",
   "metadata": {},
   "source": [
    "One of the most widely used simulation techniques is Monte Carlo simulation. Named after the famous casino town (due to its reliance on random chance), Monte Carlo simulation is essentially a way to model uncertainty by running a scenario over and over with various inputs. Instead of shaking a physical ladder, you let a computer shake your virtual model. For example, if you’re forecasting future sales, a Monte Carlo model would randomly vary key factors (market growth, customer behavior, etc.) within plausible ranges and calculate the outcome thousands of times. By doing so, it builds up a broad view of possible futures.  \n",
    "\n",
    "Monte Carlo methods use repeated random sampling to explore outcomes. Unlike a single-point forecast, which uses fixed inputs, a Monte Carlo simulation runs the model with a variety of values for uncertain factors. Each trial might pick a random value for, say, future inflation rate, within an expected range. Then it computes the result (e.g. company profit) and repeats this process with a new random draw for each uncertain input. Over many iterations, this produces a large number of possible results. In a typical Monte Carlo experiment, the model can be recalculated thousands of times with different random inputs, yielding a wide array of likely outcomes​.  What do we get from these thousands of “what-if” trials? Essentially, we get a distribution of outcomes. Monte Carlo simulation furnishes decision-makers with a range of possible outcomes and the probability of each outcome​. Therefore, instead of saying “We predict next year’s profit will be $1M,” a Monte Carlo result might say, “There is a 50% chance profit will be between $0.9M and $1.1M, a 25% chance it’s higher, and a 25% chance it’s lower.” This is incredibly powerful as it reveals the spectrum of possibilities and extreme cases. \n",
    "\n",
    "> 📜 **_\"All models are wrong, but some are useful.\"_**\n",
    ">\n",
    "> -- <cite>George E.P. Box (Statistician, known for his contributions to quality control and time series analysis)</cite>  \n",
    "\n",
    "It’s important to note that simulation-based decision-making is about getting “good enough” intelligence, not delivering a perfect decision forecast. Obviously no simulation can capture reality in full detail. The ladder shake test, for instance, isn’t a flawless physics calculation. In fact, the pattern in which you shake the ladder with your hands might not exactly match the forces that will occur when you’re standing on it. Yet it’s still a very useful test. In our ladder example, even if your shaking doesn’t perfectly mimic every real force, it can still reveal a loose screw or a slippery foot before you climb. This is insight you’d miss if you demanded perfect information. The same applies for mathematical simulations. The quality of the output depends on the quality of the input assumptions (and we should be as reasonable as possible with those), but we don’t need perfect precision to benefit. By understanding the broad set of possible outcomes, we can make better decisions under uncertainty, which are decisions that are resilient across different scenarios."
   ]
  },
  {
   "cell_type": "markdown",
   "metadata": {},
   "source": [
    "#### Decision Scenario: Monte Carlo to Determine Total Cost of Car Ownership"
   ]
  },
  {
   "cell_type": "markdown",
   "metadata": {},
   "source": [
    "Work In Progress"
   ]
  },
  {
   "cell_type": "markdown",
   "metadata": {},
   "source": [
    "### Doing the Math and Measuring Risk - Materials to Deepen Your Understanding"
   ]
  },
  {
   "cell_type": "markdown",
   "metadata": {},
   "source": [
    "> 📢 This chapter (module) presents only a small sample of the full content found in the companion print book, “Decision Intelligence with Generative AI”, scheduled for release in 2026. In the meantime, the following materials are provided to help you deepen your understanding of the concepts covered here.  "
   ]
  },
  {
   "cell_type": "markdown",
   "metadata": {},
   "source": [
    "<img style=\"float: left;padding-right: 25px; padding-left: 25px;\" width =\"200px\" src=\"https://m.media-amazon.com/images/I/71P6OxVBU4L._SL1500_.jpg\">\n",
    "\n",
    "[**\"How to Measure Anything: Finding the Value of Intangibles in Business\"**](https://www.amazon.com/How-Measure-Anything-Intangibles-Business/dp/1118539273/) Douglas W. Hubbard provides a practical approach to quantifying seemingly immeasurable aspects of business. Hubbard challenges the notion that some things can't be measured and introduces methods to gauge intangibles like customer satisfaction, organizational flexibility, and innovation. The book explains various statistical techniques and tools to estimate and measure these factors effectively. It emphasizes the value of measurements in making informed business decisions and improving risk management. Overall, the book demonstrates that with the right techniques, anything can be measured and quantified."
   ]
  },
  {
   "cell_type": "markdown",
   "metadata": {},
   "source": [
    "<img style=\"float: right;padding-left: 25px; padding-right: 25px;\" width =\"200px\" src=\"https://m.media-amazon.com/images/I/71MB0lkirGL._SL1500_.jpg\">\n",
    "\n",
    "[**\"Innumeracy: Mathematical Illiteracy and Its Consequences\"**](https://www.amazon.com/Innumeracy-Mathematical-Illiteracy-Its-Consequences/dp/0809058405) by John Allen Paulos highlights the widespread lack of basic mathematical understanding in society and its negative impacts. Paulos illustrates how innumeracy affects decision-making, leading to misunderstandings in areas such as probability, statistics, and risk assessment. He uses real-life examples and funny anecdotes to show how mathematical illiteracy can result in poor judgments and susceptibility to pseudoscience. The book advocates for better math education and awareness to improve critical thinking and everyday decision-making. Overall, it emphasizes the importance of mathematical literacy in navigating the decision complexities of modern life."
   ]
  },
  {
   "cell_type": "markdown",
   "metadata": {},
   "source": [
    "<img style=\"float: left;padding-right: 25px; padding-left: 25px;\" width =\"200px\" src=\"https://m.media-amazon.com/images/I/816eXTfnhPL._SL1500_.jpg\">\n",
    "\n",
    "[**\"Analytic Methods in Sports: Using Mathematics and Statistics to Understand Data from Baseball, Football, Basketball, and Other Sports\"**](https://www.amazon.com/Analytic-Methods-Sports-Mathematics-Statistics/dp/0367469383/) by Thomas A. Severini explores how mathematical and statistical techniques can be applied to analyze sports data. The book covers methods to evaluate player performance, team strategies, and game outcomes across various sports. Severini explains concepts such as probability, regression analysis, and hypothesis testing, demonstrating their practical applications in sports analytics. By providing real-world examples and case studies, the book shows how these methods can lead to better decision-making and strategic insights in sports. Overall, it highlights the importance of data analysis in understanding and improving sports performance."
   ]
  }
 ],
 "metadata": {
  "kernelspec": {
   "display_name": ".NET (C#)",
   "language": "C#",
   "name": ".net-csharp"
  },
  "language_info": {
   "name": "python"
  },
  "polyglot_notebook": {
   "kernelInfo": {
    "defaultKernelName": "csharp",
    "items": [
     {
      "aliases": [],
      "name": "csharp"
     }
    ]
   }
  }
 },
 "nbformat": 4,
 "nbformat_minor": 2
}
