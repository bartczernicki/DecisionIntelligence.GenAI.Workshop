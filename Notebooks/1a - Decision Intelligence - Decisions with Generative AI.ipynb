{
 "cells": [
  {
   "cell_type": "markdown",
   "metadata": {},
   "source": [
    "<img style=\"float: left;padding-right: 10px\" width =\"40px\" src=\"https://raw.githubusercontent.com/bartczernicki/DecisionIntelligence.GenAI.Workshop/main/Images/SemanticKernelLogo.png\">\n",
    "\n",
    "## Decision Intelligence - Decisions with Generative AI"
   ]
  },
  {
   "cell_type": "markdown",
   "metadata": {},
   "source": [
    "> \"Whenever you see a successful business, someone once made a courageous decision.\"\n",
    ">\n",
    "> -- <cite>Peter Drucker (father of modern management)</cite>  \n",
    "\n",
    "<img width =\"600px\" src=\"https://raw.githubusercontent.com/bartczernicki/DecisionIntelligence.GenAI.Workshop/main/Images/DdecisionIntelligence2.png\">\n",
    "<br/>  "
   ]
  },
  {
   "cell_type": "markdown",
   "metadata": {},
   "source": [
    "Decision-making is at the core of everything we do in life. It's an activity that happens all the time, whether we realize it or not. This process is deeply embedded in our human biology, guiding us through both conscious choices, like what car to purchase, and unconscious ones, like reflexively pulling our hand away from a hot surface. Every decision we make, big or small, plays a role in helping us navigate the world and stay safe. Without this constant decision-making, our ability to survive and thrive would be greatly diminished.  \n",
    "\n",
    "We make decisions anytime we are presented with a how, why or when. Therefore, decisions can have various forms that aren't clearly apparent. Examples of decision forms are illustrated in the table below:  \n",
    "| Decision Form              | Description |\n",
    "| :--------------------- | :------------- |\n",
    "| Deciding from available Choices | This is what comes to mind when people think of decision-making; there are several choices presented and one makes a selection. Examples can include: selecting an optimal route to work, picking a new car or choosing which job offer to accept, making an offer to a candidate from a pool of applications etc. |\n",
    "| Quitting or Postponing | Stopping or planning when to quit an action is a form of a decision. For example, stopping your exercise routine at exhaustion or partially eating a meal for your diet are essentially stopping decisions. |\n",
    "| Making a Recommendation | Prescribing solutions, suggestions, choices etc. that address a problem or achieve a goal. Recommendations are form of a multiple potential decisions. | \n",
    "| Priorotizing or Escalating | Choosing which decisions to focus on based on their importance or urgency. Referring the decision to a higher authority or level for resolution.  | \n",
    "| Working with Groups | When working in a group setting like negotiating, collaborating or voting are some specific examples of decision forms in the group process. | \n",
    "| Doing Nothing or Mainting the Status Quo | Maintaining the current state is a valid decision that sometimes isn't provided as a choice, but is almost always available as an option or strategy. |\n",
    "| Deciding how you make decisions | Probably the most important set decisions you will ever make is how you approach, make, communicate and monitor sufficiently important decisions! |\n",
    "\n",
    "It is much easier to see decision-making illustrated with real decision persona examples. **Click the image below** to launch an excellent video from FICO to understand vital business decision challenges and how real-time business decisions can help.  \n",
    "<br/>\n",
    "[![FICO 35,000 Decisions](https://img.youtube.com/vi/rtWZtwyV0XA/0.jpg)](https://www.youtube.com/watch?v=rtWZtwyV0XA)  \n",
    "\n",
    "Navigating decisions effectively is clearly important, serving as a key differentiator for successful individuals. **Therefore, decision-making ability is regarded by executives as one of the most highly desired business skills!** However, most people (even seasoned business professionals) make decisions using simple intuition or \"subject matter expertise\". However, when the problem is sufficiently important or the chance of making a mistake is high; it is valuable to apply advanced decision-making principles to solve those problems.  \n",
    "\n",
    "Most individuals are not aware of decision-making techniques. Furthermore, to most, consistently making quality decisions can be a daunting task. There is good news though! It has been shown that in the same way with the training of top-tier athletes, decision-makers can employ techniques, plans, simple math and instruments to improve with practice. This can include learning & practicing:  \n",
    "* Framing a decision from different points of view   \n",
    "* Gathering intelligence and information to reason over a decision  \n",
    "* Executing a decision - using a proven framework, performing calculations  \n",
    "* Making a decision alone or with a group  \n",
    "* Communicating a decision effectively to various stakeholders  \n",
    "* Monitoring a decision for potential optimization  \n",
    "\n",
    "Integrating the above decision best practices into formal processes helps you make smarter decisions, which I refer to as \"Decision Intelligence\".  "
   ]
  },
  {
   "cell_type": "markdown",
   "metadata": {},
   "source": [
    "### Decision Intelligence Framework - Optimize the Quality of Significant Decisions"
   ]
  },
  {
   "cell_type": "markdown",
   "metadata": {},
   "source": [
    "> \"Your **most important decision** is how you make decisions.\"\n",
    ">\n",
    "> -- <cite>Doug Hubbard (Prominent management consultant, speaker, and author specializing in decision science)</cite>  "
   ]
  },
  {
   "cell_type": "markdown",
   "metadata": {},
   "source": [
    "<img width =\"750px\" src=\"https://raw.githubusercontent.com/bartczernicki/DecisionIntelligence.GenAI.Workshop/main/Images/DecisionIntelligenceFramework.png\">\n",
    "<br/>  "
   ]
  },
  {
   "cell_type": "markdown",
   "metadata": {
    "vscode": {
     "languageId": "polyglot-notebook"
    }
   },
   "source": [
    "Work In Progress "
   ]
  },
  {
   "cell_type": "markdown",
   "metadata": {},
   "source": [
    "### Decision Intelligence Framework - Enhanced with Generative AI"
   ]
  },
  {
   "cell_type": "markdown",
   "metadata": {},
   "source": [
    "Decision Intelligence sounds interesting, but what does this have todo with Generative AI? Large Language Models (LLMs) equipped with Generative AI (GenAI) capabilities possess potential for enhancing decision-making processes through advanced reasoning abilities. These GenAI LLMs have been trained on complex data sets with logic, patterns, writing source (programming) code and problem solving in mind. This allows LLMs to simulate human-like reasoning, offering insights and recommendations based on comprehensive data analysis. So how does decision-making and Generative AI come together? **This means that all of the historical use of decision-making, problem-solving, mental models, decision huersistics can be appllied to LLMs with GenAI and help humans make decisions!**  \n",
    "\n",
    "**Decision Intelligence with Generative AI is the digitization of proven decision-making processes Generative AI.** This digital transformation of various historically proven techniques has happened many times before. For example, in the recent past the preferred way to communicate news stories or research was with the radio, tevelevision or newspapers. This way of communication has been digitally transformed with the internet and cell phones. Many examples like this exist. With the recent Generative AI innovations, it is an ideal time for digital transformation of Decision Intelligence!\n",
    "\n",
    "As you can imagine there has been much study, thought and literature written on decision-making. There are examples and resources provided throughout to immerse yourself into the paradigm. You might be asking *\"Do I need to read a ton of decision-making literature before getting started with Decision Intelligence with Generative AI?\"* Not necessarily. The aim of this content is to present Decision Intelligence as an easy way to get comfortable with the techniques and then offer resources to go much deeper.  "
   ]
  },
  {
   "cell_type": "markdown",
   "metadata": {},
   "source": [
    "### Example Decision Intelligence Framework - Eisenhower Decision Priorotization Matrix   "
   ]
  },
  {
   "cell_type": "markdown",
   "metadata": {},
   "source": [
    "<img width =\"600px\" src=\"https://raw.githubusercontent.com/bartczernicki/DecisionIntelligence.GenAI.Workshop/main/Images/EisenhowerDecisonMatrix.png\">\n",
    "<br/>  \n",
    "<br/>  \n",
    "Named after U.S. President Dwight D. Eisenhower, this prioritization framework will help you organize your tasks and activities by importance and urgency. It's especially useful when you're very busy but don't feel like what you do has much impact.\n",
    "\n",
    "**Prioritization Process - The Eisenhower Decision Matrix prioritizes tasks into four quadrants:**\n",
    "1. Important & Urgent: Do immediately (e.g., crises, deadlines).\n",
    "2. Important & Not Urgent: Schedule time for these (e.g., planning, development).\n",
    "3. Not Important & Urgent: Delegate (e.g., interruptions, some meetings).\n",
    "4. Not Important & Not Urgent: Eliminate (e.g., distractions, trivial activities).\n",
    "\n",
    "Let's take a look at how the Eisenhower prioritization framework can be implemented. Below is an example task list that a career professional is challenged with everyday.  \n",
    "\n",
    "**Example Task List:**  \n",
    "* Complete project report (due tomorrow)\n",
    "* Plan next quarter's strategy\n",
    "* Respond to urgent emails\n",
    "* Organize desk\n",
    "* Attend a non-essential meeting\n",
    "* Exercise  "
   ]
  },
  {
   "cell_type": "markdown",
   "metadata": {},
   "source": [
    "Using the task list above and applying the Eisenhower Decision Matrix; first the tasks are categorized into four different categories. From that categorization, then an action list (recommended decisions) is materialized. \n",
    "\n",
    "**Categorization:**  \n",
    "* Important & Urgent: Complete project report (due tomorrow)\n",
    "* Important & Not Urgent: Plan next quarter's strategy, Exercise\n",
    "* Not Important & Urgent: Respond to urgent emails, Attend a non-essential meeting\n",
    "* Not Important & Not Urgent: Organize desk  \n",
    "\n",
    "**Actions (Recommended Decisions):**  \n",
    "* Do Now: Complete project report.  \n",
    "* Schedule: Plan next quarter's strategy, Exercise.\n",
    "* Delegate: Respond to urgent emails, Attend a non-essential meeting.\n",
    "* Eliminate: Organize desk.  \n",
    "\n",
    "This optimization has been around for quite some time and used by people using a paper and pen or it has been programmed into specialized software (project management).  What Generative AI, you don't need either! You can specify your task list and instruct the GenAI model to reason over the tasks, apply the Eisenhower matrix and automatically output a series of actions. Basically, Generative AI can make getting organized much easier.  "
   ]
  },
  {
   "cell_type": "markdown",
   "metadata": {},
   "source": [
    "### Decision Intelligence - Materials to Deepen Your Understanding\n",
    "\n",
    "Decision & Reasoning Tools: https://untools.co "
   ]
  }
 ],
 "metadata": {
  "kernelspec": {
   "display_name": ".NET (C#)",
   "language": "C#",
   "name": ".net-csharp"
  },
  "language_info": {
   "name": "csharp"
  },
  "polyglot_notebook": {
   "kernelInfo": {
    "defaultKernelName": "csharp",
    "items": [
     {
      "aliases": [],
      "name": "csharp"
     }
    ]
   }
  }
 },
 "nbformat": 4,
 "nbformat_minor": 2
}
