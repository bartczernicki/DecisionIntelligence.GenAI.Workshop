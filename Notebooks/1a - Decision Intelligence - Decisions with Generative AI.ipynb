{
 "cells": [
  {
   "cell_type": "markdown",
   "metadata": {},
   "source": [
    "<img style=\"float: left;padding-right: 10px\" width =\"40px\" src=\"https://raw.githubusercontent.com/bartczernicki/DecisionIntelligence.GenAI.Workshop/main/Images/SemanticKernelLogo.png\">\n",
    "\n",
    "## Decision Intelligence - Decisions with Generative AI"
   ]
  },
  {
   "cell_type": "markdown",
   "metadata": {},
   "source": [
    "> \"Whenever you see a successful business, someone once made a courageous decision.\"\n",
    ">\n",
    "> -- <cite>Peter Drucker (father of modern management)</cite>  \n",
    "\n",
    "<img width =\"600px\" src=\"https://raw.githubusercontent.com/bartczernicki/DecisionIntelligence.GenAI.Workshop/main/Images/DdecisionIntelligence2.png\">\n",
    "<br/>  "
   ]
  },
  {
   "cell_type": "markdown",
   "metadata": {},
   "source": [
    "**Decision-making ability is regarded by executives as one of the most highly desired business skills!** Most people (even business professionals) make decisions using simple intuition. However, when the problem is sufficiently important, the chance of making a mistake is high or the decision outcome stakes are high; it is important to apply Decision Intelligence principles to solve those problems.\n",
    "\n",
    "To most people, making quality systematic decisions can be a daunting task. There is good news though!! It has been shown that in the same way with the training of top-tier athletes, decision-makers can employ techniques, plans, and instruments to improve with practice. This can include:  \n",
    "* Framing the Decision with different perspectives  \n",
    "* Gathering the Information and Intelligence to reason over the decision  \n",
    "* Recommending or Making the Decision - Ideally using a systematic framework \n",
    "* Communicating the Decision \n",
    "* Monitoring the Decision for potential optimization  \n",
    "\n",
    "Decision Intelligence sounds interesting, but what does this have todo with Generative AI? Large Language Models (LLMs) equipped with Generative AI (GenAI) capabilities possess potential for enhancing decision-making processes through advanced reasoning abilities. These GenAI LLMs have been trained on complex data sets with logic, patterns, writing source (programming) code and problem solving in mind. This allows LLMs to simulate human-like reasoning, offering insights and recommendations based on comprehensive data analysis. So what does this all mean? **This means that all of the historical use of decision-making, problem-solving, mental models, decision huersistics can be appllied to LLMs with GenAI and help humans make decisions!** \n",
    "\n",
    "As you can imagine there has been much study, thought and literature written on decision-making. There are examples and resources provided below to immerse yourself into the paradigm. Therefore, this workshop isn't meant to be a full introduction Decision Intelligence or Decision-Making, but will be used as the context for the GenAI exercises seen throughout. It is meant to show how you \"realistically\" can make decisions with AI & GenAI and not just apply simple prompt techniques.  \n",
    "\n",
    "You might be asking *\"Do I need to read a ton of information before getting started with the workshop?\"* Not necessarily. The workshop will introduce specific Decision Intelligence topics and showcase how they can be unlocked with GenAI. In a perfect scenario, this workshop would introduce cognitive behaviour in humans before using GenAI technology. However, in order to make progress, the workshop has to start somewhere pragmatic. The workshop will lightly leverage human intuition, but quickly move onto decision-framing, decision-making and decision communication practices. This is where most of the GenAI workshop content will be applied.  "
   ]
  },
  {
   "cell_type": "markdown",
   "metadata": {},
   "source": [
    "### Introducing the Decision Intelligence Framework  "
   ]
  },
  {
   "cell_type": "markdown",
   "metadata": {},
   "source": [
    "<img width =\"600px\" src=\"https://raw.githubusercontent.com/bartczernicki/DecisionIntelligence.GenAI.Workshop/main/Images/DecisionIntelligenceFramework.png\">\n",
    "<br/>  "
   ]
  },
  {
   "cell_type": "markdown",
   "metadata": {},
   "source": [
    "### Example Decision Intelligence Framework - Eisenhower Decision Priorotization Matrix   "
   ]
  },
  {
   "cell_type": "markdown",
   "metadata": {},
   "source": [
    "<img width =\"600px\" src=\"https://raw.githubusercontent.com/bartczernicki/DecisionIntelligence.GenAI.Workshop/main/Images/EisenhowerDecisonMatrix.png\">\n",
    "<br/>  \n",
    "<br/>  \n",
    "Named after U.S. President Dwight D. Eisenhower, this prioritization framework will help you organize your tasks and activities by importance and urgency. It's especially useful when you're very busy but don't feel like what you do has much impact.\n",
    "\n",
    "**Prioritization Process - The Eisenhower Decision Matrix prioritizes tasks into four quadrants:**\n",
    "1. Important & Urgent: Do immediately (e.g., crises, deadlines).\n",
    "2. Important & Not Urgent: Schedule time for these (e.g., planning, development).\n",
    "3. Not Important & Urgent: Delegate (e.g., interruptions, some meetings).\n",
    "4. Not Important & Not Urgent: Eliminate (e.g., distractions, trivial activities).\n",
    "\n",
    "Let's take a look at how the Eisenhower prioritization framework can be implemented. Below is an example task list that a career professional is challenged with everyday.  \n",
    "\n",
    "**Example Task List:**  \n",
    "* Complete project report (due tomorrow)\n",
    "* Plan next quarter's strategy\n",
    "* Respond to urgent emails\n",
    "* Organize desk\n",
    "* Attend a non-essential meeting\n",
    "* Exercise  "
   ]
  },
  {
   "cell_type": "markdown",
   "metadata": {},
   "source": [
    "Using the task list above and applying the Eisenhower Decision Matrix; first the tasks are categorized into four different categories. From that categorization, then an action list (recommended decisions) is materialized. \n",
    "\n",
    "**Categorization:**  \n",
    "* Important & Urgent: Complete project report (due tomorrow)\n",
    "* Important & Not Urgent: Plan next quarter's strategy, Exercise\n",
    "* Not Important & Urgent: Respond to urgent emails, Attend a non-essential meeting\n",
    "* Not Important & Not Urgent: Organize desk  \n",
    "\n",
    "**Actions (Recommended Decisions):**  \n",
    "* Do Now: Complete project report.  \n",
    "* Schedule: Plan next quarter's strategy, Exercise.\n",
    "* Delegate: Respond to urgent emails, Attend a non-essential meeting.\n",
    "* Eliminate: Organize desk.  \n",
    "\n",
    "This optimization has been around for quite some time and used by people using a paper and pen or it has been programmed into specialized software (project management).  What Generative AI, you don't need either! You can specify your task list and instruct the GenAI model to reason over the tasks, apply the Eisenhower matrix and automatically output a series of actions. Basically, Generative AI can make getting organized much easier.  "
   ]
  },
  {
   "cell_type": "markdown",
   "metadata": {},
   "source": [
    "### Decision Intelligence - Materials to Deepen Your Understanding\n",
    "\n",
    "Decision & Reasoning Tools: https://untools.co "
   ]
  }
 ],
 "metadata": {
  "kernelspec": {
   "display_name": ".NET (C#)",
   "language": "C#",
   "name": ".net-csharp"
  },
  "language_info": {
   "name": "csharp"
  },
  "polyglot_notebook": {
   "kernelInfo": {
    "defaultKernelName": "csharp",
    "items": [
     {
      "aliases": [],
      "name": "csharp"
     }
    ]
   }
  }
 },
 "nbformat": 4,
 "nbformat_minor": 2
}
