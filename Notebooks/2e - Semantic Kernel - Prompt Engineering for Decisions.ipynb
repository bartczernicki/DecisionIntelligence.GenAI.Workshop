{
 "cells": [
  {
   "cell_type": "markdown",
   "metadata": {},
   "source": [
    "<img style=\"float: left;padding-right: 10px\" width =\"40px\" src=\"https://raw.githubusercontent.com/bartczernicki/DecisionIntelligence.GenAI.Workshop/main/Images/SemanticKernelLogo.png\">\n",
    "\n",
    "## Semantic Kernel - Prompt Engineering for Decisions"
   ]
  },
  {
   "cell_type": "markdown",
   "metadata": {},
   "source": [
    "Decision Intelligence applied in this module:  \n",
    "* Optimizing prompts for logic, reasoning and decisions\n",
    "* Examples of applying decision intelligence techniques in prompts and their output effect \n",
    "* Prompt techniques such as Chain of Thought to improve the quality of the decision reasoning and outcome \n"
   ]
  },
  {
   "cell_type": "markdown",
   "metadata": {},
   "source": [
    "In this module, the Semantic Kernel ability to chat completion experience will be used to optimize system prompts (personas) and instructive prompts. No new specific Semantic Kernel functionality will be introduced. This module will focus on introducing decision intelligence prompting techniques.  "
   ]
  },
  {
   "cell_type": "markdown",
   "metadata": {},
   "source": [
    "### Step 1 - Initialize Configuration Builder & Build the Semantic Kernel Orchestration\n",
    "\n",
    "Execute the next two cells to:\n",
    "* Use the Configuration Builder to load the API secrets.  \n",
    "* Use the API configuration to build the Semantic Kernel orchestrator."
   ]
  },
  {
   "cell_type": "code",
   "execution_count": 48,
   "metadata": {
    "dotnet_interactive": {
     "language": "csharp"
    },
    "polyglot_notebook": {
     "kernelName": "csharp"
    },
    "vscode": {
     "languageId": "polyglot-notebook"
    }
   },
   "outputs": [
    {
     "data": {
      "text/html": [
       "<div><div></div><div></div><div><strong>Installed Packages</strong><ul><li><span>Microsoft.Extensions.Configuration, 8.0.0</span></li><li><span>Microsoft.Extensions.Configuration.Json, 8.0.0</span></li></ul></div></div>"
      ]
     },
     "metadata": {},
     "output_type": "display_data"
    }
   ],
   "source": [
    "// Import the required NuGet configuration packages\n",
    "#r \"nuget: Microsoft.Extensions.Configuration, 8.0.0\"\n",
    "#r \"nuget: Microsoft.Extensions.Configuration.Json, 8.0.0\"\n",
    "\n",
    "using Microsoft.Extensions.Configuration;\n",
    "using System.IO;\n",
    "\n",
    "// Load the configuration settings from the local.settings.json and secrets.settings.json files\n",
    "// The secrets.settings.json file is used to store sensitive information such as API keys\n",
    "var configurationBuilder = new ConfigurationBuilder()\n",
    "    .SetBasePath(Directory.GetCurrentDirectory())\n",
    "    .AddJsonFile(\"local.settings.json\", optional: true, reloadOnChange: true)\n",
    "    .AddJsonFile(\"secrets.settings.json\", optional: true, reloadOnChange: true);\n",
    "var config = configurationBuilder.Build();\n",
    "\n",
    "// IMPORTANT: You ONLY NEED either Azure OpenAI or OpenAI connectiopn info, not both.\n",
    "// Azure OpenAI Connection Info\n",
    "var azureOpenAIEndpoint = config[\"AzureOpenAI:Endpoint\"];\n",
    "var azureOpenAIAPIKey = config[\"AzureOpenAI:APIKey\"];\n",
    "var azureOpenAIModelDeploymentName = config[\"AzureOpenAI:ModelDeploymentName\"];\n",
    "// OpenAI Connection Info \n",
    "var openAIAPIKey = config[\"OpenAI:APIKey\"];\n",
    "var openAIModelId = config[\"OpenAI:ModelId\"];"
   ]
  },
  {
   "cell_type": "code",
   "execution_count": 49,
   "metadata": {
    "dotnet_interactive": {
     "language": "csharp"
    },
    "polyglot_notebook": {
     "kernelName": "csharp"
    },
    "vscode": {
     "languageId": "polyglot-notebook"
    }
   },
   "outputs": [
    {
     "data": {
      "text/html": [
       "<div><div></div><div></div><div><strong>Installed Packages</strong><ul><li><span>Microsoft.Extensions.DependencyInjection, 8.0.0</span></li><li><span>Microsoft.SemanticKernel, 1.20.0</span></li></ul></div></div>"
      ]
     },
     "metadata": {},
     "output_type": "display_data"
    },
    {
     "name": "stdout",
     "output_type": "stream",
     "text": [
      "Using Azure OpenAI Service\n"
     ]
    }
   ],
   "source": [
    "// Install the required NuGet packages\n",
    "// Note: This also installs the Dependency Injection Package to retrieve the ChatCompletionService\n",
    "#r \"nuget: Microsoft.Extensions.DependencyInjection, 8.0.0\"\n",
    "#r \"nuget: Microsoft.SemanticKernel, 1.20.0\"\n",
    "\n",
    "using Microsoft.Extensions.DependencyInjection;\n",
    "using Microsoft.SemanticKernel;\n",
    "using Microsoft.SemanticKernel.ChatCompletion;\n",
    "using Microsoft.SemanticKernel.Connectors.OpenAI;\n",
    "\n",
    "Kernel semanticKernel;\n",
    "\n",
    "// Set the flag to use Azure OpenAI or OpenAI. False to use OpenAI, True to use Azure OpenAI\n",
    "var useAzureOpenAI = true;\n",
    "\n",
    "// Create a new Semantic Kernel instance\n",
    "if (useAzureOpenAI)\n",
    "{\n",
    "    Console.WriteLine(\"Using Azure OpenAI Service\");\n",
    "    semanticKernel = Kernel.CreateBuilder()\n",
    "        .AddAzureOpenAIChatCompletion(\n",
    "            deploymentName: azureOpenAIModelDeploymentName,\n",
    "            endpoint: azureOpenAIEndpoint,\n",
    "            apiKey: azureOpenAIAPIKey)\n",
    "        .Build();\n",
    "}\n",
    "else\n",
    "{\n",
    "    Console.WriteLine(\"Using OpenAI Service\");\n",
    "    semanticKernel = Kernel.CreateBuilder()\n",
    "        .AddOpenAIChatCompletion(\n",
    "            modelId: openAIModelId,\n",
    "            apiKey: openAIAPIKey)\n",
    "        .Build();\n",
    "}\n",
    "\n",
    "var chatCompletionService = semanticKernel.Services.GetRequiredService<IChatCompletionService>();"
   ]
  },
  {
   "cell_type": "markdown",
   "metadata": {},
   "source": [
    "### Step 2 - Chain of Thought\n",
    "\n",
    "> \"The happiness of your life depends upon the quality of your thoughts.\" \n",
    ">\n",
    "> -- <cite>Marcus Aurelius (Roman emperor, philosopher)</cite>  "
   ]
  },
  {
   "cell_type": "markdown",
   "metadata": {},
   "source": [
    "One of the most effective techniques to improve logic, reasoning and overall decision-making for most LLMs is to use \"Chain of Thought\" (CoT) techniques. The \"Chain of Thought\" approach helps by breaking down complex tasks into smaller steps, making it easier to solve problems without missing important details. It improves accuracy because each step is made clear to the LLM and helps avoid mistakes. This method also makes the thought process easier to understand and explain, allowing for easier corrections when something goes wrong. The approach is useful for handling difficult concepts and multi-step problems like math or logic, making things clearer and more manageable.\n",
    "\n",
    "The name of the \"Chain of Thought\" technique has been recently popularized by Generative AI. However, this technique is not new nor is it specific only to Generative AI models. Breaking down complex tasks into simpler more approachable steps and organizing thoughts has been used by decision-makers, professional services organizations and management consulting companies for quite some time. Prior to Generative AI, the concepts have been known as: \"structured thinking\", \"MECE framework\" (Mutually Exclusive, Collectively Exhaustive), and \"hypothesis-driven problem-solving\".  "
   ]
  },
  {
   "cell_type": "markdown",
   "metadata": {},
   "source": [
    "Approach the problem with a simple prompt techniques. The system prompt will be set to basic & clear decision assistant persona instructions.  "
   ]
  },
  {
   "cell_type": "code",
   "execution_count": 65,
   "metadata": {
    "dotnet_interactive": {
     "language": "csharp"
    },
    "polyglot_notebook": {
     "kernelName": "csharp"
    },
    "vscode": {
     "languageId": "polyglot-notebook"
    }
   },
   "outputs": [
    {
     "name": "stdout",
     "output_type": "stream",
     "text": [
      "To solve this problem, the farmer needs to follow a specific sequence of steps to ensure that neither the goat nor the cabbage gets eaten. Here is a structured plan:\n",
      "\n",
      "1. **First Trip: Take the Goat Across**\n",
      "   - The farmer takes the goat across the river and leaves it on the other side.\n",
      "   - The wolf and the cabbage remain on the original side.\n",
      "\n",
      "2. **Second Trip: Return Alone**\n",
      "   - The farmer returns to the original side alone.\n",
      "\n",
      "3. **Third Trip: Take the Wolf Across**\n",
      "   - The farmer takes the wolf across the river.\n",
      "   - He leaves the wolf on the other side but takes the goat back with him to the original side.\n",
      "\n",
      "4. **Fourth Trip: Take the Cabbage Across**\n",
      "   - The farmer takes the cabbage across the river and leaves it with the wolf.\n",
      "   - The goat remains on the original side.\n",
      "\n",
      "5. **Fifth Trip: Return Alone**\n",
      "   - The farmer returns to the original side alone.\n",
      "\n",
      "6. **Sixth Trip: Take the Goat Across Again**\n",
      "   - The farmer takes the goat across the river one final time.\n",
      "\n",
      "By following these steps, the farmer ensures that the goat is never left alone with the cabbage and the wolf is never left alone with the goat. Here is a summary of the sequence:\n",
      "\n",
      "1. Farmer takes the goat across.\n",
      "2. Farmer returns alone.\n",
      "3. Farmer takes the wolf across.\n",
      "4. Farmer returns with the goat.\n",
      "5. Farmer takes the cabbage across.\n",
      "6. Farmer returns alone.\n",
      "7. Farmer takes the goat across.\n",
      "\n",
      "This way, all three items (the wolf, the goat, and the cabbage) are successfully transported across the river without any of them being eaten."
     ]
    }
   ],
   "source": [
    "// Set the overall system prompt to behave like a decision intelligence assistant (persona)\n",
    "var systemPrompt = \"\"\"\n",
    "You are a decision intelligence assistant. \n",
    "Provide structured, logical, and comprehensive advice.\n",
    "\"\"\";\n",
    "\n",
    "// Simple instruction prompt to plan retirement\n",
    "var puzzlePrompt = \"\"\"\n",
    "A farmer is on one side of a river with a wolf, a goat, and a cabbage. \n",
    "When he is crossing the river in a boat, he can only take one item with him at a time. \n",
    "The wolf will eat the goat if left alone together, and the goat will eat the cabbage if left alone together. \n",
    "How can the farmer transport the goat across the river without it being eaten?\n",
    "\"\"\";\n",
    "\n",
    "var chatHistory = new ChatHistory();\n",
    "chatHistory.AddSystemMessage(systemPrompt);\n",
    "chatHistory.AddUserMessage(puzzlePrompt);\n",
    "\n",
    "// Create a new OpenAI prompt execution settings object\n",
    "var openAIPromptExecutionSettings = new OpenAIPromptExecutionSettings { \n",
    "    MaxTokens = 4000, \n",
    "    Temperature = 0.1, \n",
    "    TopP = 1.0, \n",
    "    FrequencyPenalty = 0.0, \n",
    "    PresencePenalty = 0.0\n",
    "    };\n",
    "\n",
    "var decisionResponse = string.Empty;\n",
    "await foreach (var content in chatCompletionService.GetStreamingChatMessageContentsAsync(chatHistory, openAIPromptExecutionSettings))\n",
    "{\n",
    "    decisionResponse += content;\n",
    "    Console.Write(content);\n",
    "}"
   ]
  },
  {
   "cell_type": "markdown",
   "metadata": {},
   "source": [
    "Approach the same problem with a much more sophisticated \"Chain of Thought\" (CoT) system prompt to break the problem down and think about it more in depth. "
   ]
  },
  {
   "cell_type": "code",
   "execution_count": 66,
   "metadata": {
    "vscode": {
     "languageId": "polyglot-notebook"
    }
   },
   "outputs": [
    {
     "name": "stdout",
     "output_type": "stream",
     "text": [
      "To solve this problem, we need to ensure that at no point are the wolf and goat left alone together, nor the goat and cabbage left alone together. Let's break down the steps logically:\n",
      "\n",
      "1. **Understand the Problem:**\n",
      "   - The farmer can only take one item at a time across the river.\n",
      "   - The wolf cannot be left alone with the goat.\n",
      "   - The goat cannot be left alone with the cabbage.\n",
      "\n",
      "2. **Identify the Constraints:**\n",
      "   - The farmer must always be present to prevent the wolf from eating the goat or the goat from eating the cabbage.\n",
      "\n",
      "3. **Plan the Steps:**\n",
      "   - We need to figure out a sequence of crossings that ensures the safety of all items.\n",
      "\n",
      "4. **Step-by-Step Solution:**\n",
      "   - **Step 1:** The farmer takes the goat across the river first.\n",
      "     - **State:** Wolf and cabbage on the original side, goat on the other side.\n",
      "   - **Step 2:** The farmer returns alone to the original side.\n",
      "     - **State:** Wolf and cabbage on the original side, goat on the other side.\n",
      "   - **Step 3:** The farmer takes the wolf across the river.\n",
      "     - **State:** Cabbage on the original side, goat and wolf on the other side.\n",
      "   - **Step 4:** The farmer leaves the wolf on the other side and takes the goat back to the original side.\n",
      "     - **State:** Goat and cabbage on the original side, wolf on the other side.\n",
      "   - **Step 5:** The farmer takes the cabbage across the river.\n",
      "     - **State:** Goat on the original side, wolf and cabbage on the other side.\n",
      "   - **Step 6:** The farmer returns alone to the original side.\n",
      "     - **State:** Goat on the original side, wolf and cabbage on the other side.\n",
      "   - **Step 7:** The farmer takes the goat across the river again.\n",
      "     - **State:** All items (goat, wolf, and cabbage) are now on the other side.\n",
      "\n",
      "5. **Review the Thought Process:**\n",
      "   - At no point are the wolf and goat left alone together.\n",
      "   - At no point are the goat and cabbage left alone together.\n",
      "   - The farmer successfully transports all items across the river.\n",
      "\n",
      "**Final Answer:**\n",
      "The farmer can transport the goat across the river without it being eaten by following these steps:\n",
      "1. Take the goat across the river.\n",
      "2. Return alone to the original side.\n",
      "3. Take the wolf across the river.\n",
      "4. Return with the goat to the original side.\n",
      "5. Take the cabbage across the river.\n",
      "6. Return alone to the original side.\n",
      "7. Take the goat across the river again.\n",
      "\n",
      "This sequence ensures that all items are safely transported across the river without any being eaten."
     ]
    }
   ],
   "source": [
    "// Set the overall system prompt to behave like a decision intelligence assistant (persona)\n",
    "var systemPromptChainOfThought = \"\"\"\n",
    "You are a decision intelligence assistant designed to think through problems step-by-step using Chain-of-Thought (COT) prompting. \n",
    "Before providing any answer, you must: \n",
    "Understand the Problem: Carefully read and understand the user's question or request. \n",
    "Break Down the Reasoning Process: Outline the steps required to solve the problem or respond to the request logically and sequentially. Think aloud and describe each step in detail. \n",
    "Explain Each Step: Provide reasoning or calculations for each step, explaining how you arrive at each part of your answer. \n",
    "Provide structured, logical, and comprehensive advice. \n",
    "Arrive at the Final Answer: Only after completing all steps, provide the final answer or solution. \n",
    "Review the Thought Process: Double-check the reasoning for errors or gaps before finalizing your response. \n",
    "Always aim to make your thought process transparent and logical. Communicate the final decision using the Minto Pyramid Principle.\n",
    "\"\"\";\n",
    "\n",
    "// Simple instruction prompt to plan retirement\n",
    "var puzzlePrompt = \"\"\"\n",
    "A farmer is on one side of a river with a wolf, a goat, and a cabbage. \n",
    "When he is crossing the river in a boat, he can only take one item with him at a time. \n",
    "The wolf will eat the goat if left alone together, and the goat will eat the cabbage if left alone together. \n",
    "How can the farmer transport the goat across the river without it being eaten?\n",
    "\"\"\";\n",
    "\n",
    "// Create a new chat history object using the new Chain of Thought system prompt\n",
    "var chatHistory = new ChatHistory();\n",
    "chatHistory.AddSystemMessage(systemPromptChainOfThought);\n",
    "chatHistory.AddUserMessage(puzzlePrompt);\n",
    "\n",
    "// Create a new OpenAI prompt execution settings object\n",
    "var openAIPromptExecutionSettings = new OpenAIPromptExecutionSettings { \n",
    "    MaxTokens = 4000, \n",
    "    Temperature = 0.1, \n",
    "    TopP = 1.0, \n",
    "    FrequencyPenalty = 0.0, \n",
    "    PresencePenalty = 0.0\n",
    "    };\n",
    "\n",
    "var decisionResponseChainOfThought = string.Empty;\n",
    "await foreach (var content in chatCompletionService.GetStreamingChatMessageContentsAsync(chatHistory, openAIPromptExecutionSettings))\n",
    "{\n",
    "    decisionResponseChainOfThought += content;\n",
    "    Console.Write(content);\n",
    "}"
   ]
  },
  {
   "cell_type": "markdown",
   "metadata": {},
   "source": [
    "The Generative AI model has generated two different decision approaches to the same retirement decision question. Let's use the LLM to decide which decision answer is more thought out and why. Ideally, the evaluation should be done by another family or an LLM from a different provider, not the LLM that generated the responses.  "
   ]
  },
  {
   "cell_type": "code",
   "execution_count": 67,
   "metadata": {
    "dotnet_interactive": {
     "language": "csharp"
    },
    "polyglot_notebook": {
     "kernelName": "csharp"
    },
    "vscode": {
     "languageId": "polyglot-notebook"
    }
   },
   "outputs": [
    {
     "name": "stdout",
     "output_type": "stream",
     "text": [
      "\n",
      "\n",
      "Approach 1 Evaluation:\n",
      "----------------------\n",
      "Score: 10\n",
      "\n",
      "Reasoning: The approach is well thought out and clearly articulated. It provides a step-by-step solution that ensures the safety of all items (the wolf, the goat, and the cabbage) during the transportation process. Each step is logically explained, and the sequence is summarized at the end for clarity. The approach effectively addresses the constraints of the problem and ensures that neither the goat nor the cabbage gets eaten at any point.\n",
      "\n",
      "Approach 2 Evaluation:\n",
      "----------------------\n",
      "I would rate this approach a 10.\n",
      "\n",
      "The reasoning is thorough and well-structured, addressing each constraint and ensuring that the solution adheres to the rules of the problem. The step-by-step breakdown is clear and logical, ensuring that at no point are the wolf and goat left alone together, nor the goat and cabbage left alone together. The approach also includes a review of the thought process to confirm that the solution is correct. This demonstrates a comprehensive understanding of the problem and a methodical approach to solving it."
     ]
    }
   ],
   "source": [
    "var systemPromptEvaluateResponses = \"\"\"\n",
    "You are an assistant that is evaluating an approach response to a question.\n",
    "You will be provided with an important decision as well as the proposed approach.\n",
    "Score the approach on a scale of 1 to 10 based on its thought out reasoning in approaching the decision.\n",
    "\"\"\";\n",
    "\n",
    "var decisionEvaluationTemplateApproach1 = $\"\"\"\n",
    "Decision: {puzzlePrompt}\n",
    "--------------\n",
    "Approach: {decisionResponse} \n",
    "\"\"\";\n",
    "\n",
    "var decisionEvaluationTemplateApproach2 = $\"\"\"\n",
    "Decision: {puzzlePrompt}\n",
    "--------------\n",
    "Approach: {decisionResponseChainOfThought} \n",
    "\"\"\";\n",
    "\n",
    "// Create a new chat history object using the new Chain of Thought system prompt\n",
    "var chatHistoryApproach1 = new ChatHistory();\n",
    "chatHistoryApproach1.AddSystemMessage(systemPromptEvaluateResponses);\n",
    "chatHistoryApproach1.AddUserMessage(decisionEvaluationTemplateApproach1);\n",
    "\n",
    "var chatHistoryApproach2 = new ChatHistory();\n",
    "chatHistoryApproach2.AddSystemMessage(systemPromptEvaluateResponses);\n",
    "chatHistoryApproach2.AddUserMessage(decisionEvaluationTemplateApproach2);\n",
    "\n",
    "\n",
    "// Create a new OpenAI prompt execution settings object\n",
    "var openAIPromptExecutionSettings = new OpenAIPromptExecutionSettings { \n",
    "    MaxTokens = 4000, \n",
    "    Temperature = 0.1, \n",
    "    TopP = 1.0, \n",
    "    FrequencyPenalty = 0.0, \n",
    "    PresencePenalty = 0.0\n",
    "    };\n",
    "\n",
    "Console.WriteLine();\n",
    "Console.WriteLine();\n",
    "Console.WriteLine(\"Approach 1 Evaluation:\");\n",
    "Console.WriteLine(\"----------------------\");\n",
    "var evaluationResponseApproach1 = string.Empty;\n",
    "await foreach (var content in chatCompletionService.GetStreamingChatMessageContentsAsync(chatHistoryApproach1, openAIPromptExecutionSettings))\n",
    "{\n",
    "    evaluationResponseApproach1 += content;\n",
    "    Console.Write(content);\n",
    "}\n",
    "\n",
    "var evaluationResponseApproach2 = string.Empty;\n",
    "Console.WriteLine();\n",
    "Console.WriteLine();\n",
    "Console.WriteLine(\"Approach 2 Evaluation:\");\n",
    "Console.WriteLine(\"----------------------\");\n",
    "await foreach (var content in chatCompletionService.GetStreamingChatMessageContentsAsync(chatHistoryApproach2, openAIPromptExecutionSettings))\n",
    "{\n",
    "    evaluationResponseApproach2 += content;\n",
    "    Console.Write(content);\n",
    "}"
   ]
  },
  {
   "cell_type": "markdown",
   "metadata": {},
   "source": [
    "### Step 3 - Logic Reasoning\n",
    "\n",
    "WIP"
   ]
  }
 ],
 "metadata": {
  "kernelspec": {
   "display_name": ".NET (C#)",
   "language": "C#",
   "name": ".net-csharp"
  },
  "language_info": {
   "name": "csharp"
  },
  "polyglot_notebook": {
   "kernelInfo": {
    "defaultKernelName": "csharp",
    "items": [
     {
      "aliases": [],
      "name": "csharp"
     }
    ]
   }
  }
 },
 "nbformat": 4,
 "nbformat_minor": 2
}
