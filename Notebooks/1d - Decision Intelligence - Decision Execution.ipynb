{
 "cells": [
  {
   "cell_type": "markdown",
   "metadata": {},
   "source": [
    "<div style=\"display: flex; align-items: center;\">\n",
    "  <img src=\"https://raw.githubusercontent.com/bartczernicki/DecisionIntelligence.GenAI.Workshop/main/Images/DecisionIntelligenceLogo.png\" width=\"60px\" style=\"margin-right: 10px;\">\n",
    "  <span style=\"font-size: 1.5em; font-weight: bold;\">Decision Intelligence – Decision Execution with Intuition</span>\n",
    "</div>"
   ]
  },
  {
   "cell_type": "markdown",
   "metadata": {},
   "source": [
    "### Introducing Decision Execution   "
   ]
  },
  {
   "cell_type": "markdown",
   "metadata": {},
   "source": [
    "<img style=\"display: block; margin: auto;\" width =\"700px\" src=\"https://raw.githubusercontent.com/bartczernicki/DecisionIntelligence.GenAI.Workshop/main/Images/DecisionIntelligence-DecisionExecution.png\">"
   ]
  },
  {
   "cell_type": "markdown",
   "metadata": {},
   "source": [
    "The third step in the Decision Intelligence Framework is **Decision Execution**. This is the critical part of the process where an individual, team or an organization arrive at a conclusion and then proceed to make that conclusion actionable. Basically, the chosen option is converted into concrete actions, resource commitments, and observable outcomes. This sounds very fancy, but Decision Execution can be as simple as walking by a tray of fruit and selecting an apple from varying options. Conversely, in a strategic business scenario, decision execution leaves the boardroom and the stratefic decision is implemented over the course of several years.  \n",
    "\n",
    "> 📝 Note: Decision Execution is greatly simplified for this workshop. Decision Execution can take many niche forms. For example, not doing anything is a form of making a decision actionable. A more sophisticated example of this is \"quitting\" or \"quitting early\". Annie Duke dedicates an entire book to this form of decision execution (linked below).  "
   ]
  },
  {
   "cell_type": "markdown",
   "metadata": {},
   "source": [
    "> 📢 This chapter (module) presents only a small sample of the full content found in the companion print book, “Decision Intelligence with Generative AI”, scheduled for release in 2026. In the meantime, the following materials are provided to help you deepen your understanding of the concepts covered here.  "
   ]
  }
 ],
 "metadata": {
  "kernelspec": {
   "display_name": ".NET (C#)",
   "language": "C#",
   "name": ".net-csharp"
  },
  "language_info": {
   "name": "polyglot-notebook"
  },
  "polyglot_notebook": {
   "kernelInfo": {
    "defaultKernelName": "csharp",
    "items": [
     {
      "aliases": [],
      "name": "csharp"
     }
    ]
   }
  }
 },
 "nbformat": 4,
 "nbformat_minor": 2
}
