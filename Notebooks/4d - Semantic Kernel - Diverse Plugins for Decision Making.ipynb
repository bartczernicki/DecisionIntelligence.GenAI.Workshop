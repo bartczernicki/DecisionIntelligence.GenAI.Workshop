{
 "cells": [
  {
   "cell_type": "markdown",
   "metadata": {},
   "source": [
    "<img style=\"float: left;padding-right: 10px\" width =\"40px\" src=\"https://raw.githubusercontent.com/bartczernicki/DecisionIntelligence.GenAI.Workshop/main/Images/SemanticKernelLogo.png\">\n",
    "\n",
    "## Semantic Kernel - Diverse Plugins for Decision Making"
   ]
  },
  {
   "cell_type": "markdown",
   "metadata": {},
   "source": [
    "Decision Intelligence applied in this module:  \n",
    "* Using the power of Collective Intelligence (wisdom & information from multiple experts) \n",
    "* Using data statistics & analytics as source information for a decision   \n",
    "* Using Probability as a quantitative approach to validate decisions with Machine Learning  "
   ]
  },
  {
   "cell_type": "markdown",
   "metadata": {},
   "source": [
    "> \"Probability is the language of uncertainty, and it's the only language we have for communicating what we know and don't know.\"\n",
    ">\n",
    "> -- <cite>Nate Silver (famous statistician and super-forecaster)</cite> "
   ]
  },
  {
   "cell_type": "markdown",
   "metadata": {},
   "source": [
    "### Step 1 - Initialize Configuration Builder & Build the Semantic Kernel Orchestration\n",
    "\n",
    "Execute the next two cells to:\n",
    "* Use the Configuration Builder to load the API secrets\n",
    "* Use the API configuration to build the Semantic Kernel orchestrator\n",
    "* The configuration builder will retrieve the Bing Search API Key"
   ]
  },
  {
   "cell_type": "code",
   "execution_count": 1,
   "metadata": {
    "dotnet_interactive": {
     "language": "csharp"
    },
    "polyglot_notebook": {
     "kernelName": "csharp"
    }
   },
   "outputs": [
    {
     "data": {
      "text/html": [
       "<div><div></div><div></div><div><strong>Installed Packages</strong><ul><li><span>Microsoft.Bing.Search.WebSearch, 1.0.0</span></li><li><span>Microsoft.Extensions.Configuration, 9.0.5</span></li><li><span>Microsoft.Extensions.Configuration.Json, 9.0.5</span></li><li><span>Microsoft.Extensions.ML, 4.0.2</span></li><li><span>Microsoft.ML, 4.0.2</span></li><li><span>Microsoft.ML.FastTree, 4.0.2</span></li><li><span>Microsoft.SemanticKernel, 1.54.0</span></li><li><span>Microsoft.SemanticKernel.Plugins.Core, 1.54.0-preview</span></li><li><span>Microsoft.SemanticKernel.Plugins.Web, 1.54.0-alpha</span></li></ul></div></div>"
      ]
     },
     "metadata": {},
     "output_type": "display_data"
    }
   ],
   "source": [
    "#r \"nuget: Microsoft.Extensions.Configuration, 9.0.5\"\n",
    "#r \"nuget: Microsoft.Extensions.Configuration.Json, 9.0.5\"\n",
    "#r \"nuget: Microsoft.SemanticKernel, 1.54\"\n",
    "#r \"nuget: Microsoft.SemanticKernel.Plugins.Core, 1.54-preview\"\n",
    "#r \"nuget: Microsoft.SemanticKernel.Plugins.Web, 1.54-alpha\"\n",
    "#r \"nuget: Microsoft.Bing.Search.WebSearch, 1.0.0\"\n",
    "#r \"nuget: Microsoft.ML, 4.0.2\"\n",
    "#r \"nuget: Microsoft.ML.FastTree, 4.0.2\"\n",
    "#r \"nuget: Microsoft.Extensions.ML, 4.0.2\"\n",
    "\n",
    "using Microsoft.Extensions.Configuration;\n",
    "using Microsoft.SemanticKernel;\n",
    "using Microsoft.SemanticKernel.ChatCompletion;\n",
    "using Microsoft.SemanticKernel.Connectors.OpenAI;\n",
    "using Microsoft.Bing.WebSearch;\n",
    "using System.ComponentModel;\n",
    "using System.IO;\n",
    "\n",
    "var configurationBuilder = new ConfigurationBuilder()\n",
    "    .SetBasePath(Directory.GetCurrentDirectory())\n",
    "    .AddJsonFile(\"local.settings.json\", optional: true, reloadOnChange: true)\n",
    "    .AddJsonFile(\"secrets.settings.json\", optional: true, reloadOnChange: true);\n",
    "var config = configurationBuilder.Build();\n",
    "\n",
    "// IMPORTANT: You ONLY NEED either Azure OpenAI or OpenAI connectiopn info, not both.\n",
    "// Azure OpenAI Connection Info\n",
    "var azureOpenAIEndpoint = config[\"AzureOpenAI:Endpoint\"];\n",
    "var azureOpenAIAPIKey = config[\"AzureOpenAI:APIKey\"];\n",
    "var azureOpenAIModelDeploymentName = config[\"AzureOpenAI:ModelDeploymentName\"];\n",
    "// OpenAI Connection Info \n",
    "var openAIAPIKey = config[\"OpenAI:APIKey\"];\n",
    "var openAIModelId = config[\"OpenAI:ModelId\"];"
   ]
  },
  {
   "cell_type": "code",
   "execution_count": 2,
   "metadata": {
    "dotnet_interactive": {
     "language": "csharp"
    },
    "polyglot_notebook": {
     "kernelName": "csharp"
    }
   },
   "outputs": [
    {
     "name": "stdout",
     "output_type": "stream",
     "text": [
      "Using Azure OpenAI Service\n"
     ]
    }
   ],
   "source": [
    "Kernel semanticKernel;\n",
    "\n",
    "// Set the flag to use Azure OpenAI or OpenAI. False to use OpenAI, True to use Azure OpenAI\n",
    "var useAzureOpenAI = true;\n",
    "\n",
    "// Create a new Semantic Kernel instance\n",
    "if (useAzureOpenAI)\n",
    "{\n",
    "    Console.WriteLine(\"Using Azure OpenAI Service\");\n",
    "    semanticKernel = Kernel.CreateBuilder()\n",
    "        .AddAzureOpenAIChatCompletion(\n",
    "            deploymentName: azureOpenAIModelDeploymentName,\n",
    "            endpoint: azureOpenAIEndpoint,\n",
    "            apiKey: azureOpenAIAPIKey)\n",
    "        .Build();\n",
    "}\n",
    "else\n",
    "{\n",
    "    Console.WriteLine(\"Using OpenAI Service\");\n",
    "    semanticKernel = Kernel.CreateBuilder()\n",
    "        .AddOpenAIChatCompletion(\n",
    "            modelId: openAIModelId,\n",
    "            apiKey: openAIAPIKey)\n",
    "        .Build();\n",
    "}\n",
    "\n",
    "// Import the BaseballHallOfFamePlugin.cs file\n",
    "#!import ../Classes/BaseballHallOfFamePlugin.cs\n",
    "\n",
    "// Add the native plugin with the three native functions to the semantic kernel\n",
    "semanticKernel.ImportPluginFromType<BaseballHallOfFamePlugin>();"
   ]
  },
  {
   "cell_type": "markdown",
   "metadata": {},
   "source": [
    "### Step 2 - Introduce Sports Decision Scenario \n",
    "\n",
    "<img width =\"1024x\" src=\"https://raw.githubusercontent.com/bartczernicki/DecisionIntelligence.GenAI.Workshop/main/Images/SportsDecisionScenario.png\">"
   ]
  },
  {
   "cell_type": "markdown",
   "metadata": {},
   "source": [
    "### Step 3 - Background Information"
   ]
  },
  {
   "cell_type": "markdown",
   "metadata": {},
   "source": [
    "Execute the cell below to understand what type of collective information will be used to help the GenAI model make the decsion. In addition to the internet (knowledge graph) shown in previous modules, historical baseball statistic and Machine Learning models exposing a quantitative probability are available.  "
   ]
  },
  {
   "cell_type": "code",
   "execution_count": 3,
   "metadata": {
    "dotnet_interactive": {
     "language": "csharp"
    },
    "polyglot_notebook": {
     "kernelName": "csharp"
    }
   },
   "outputs": [
    {
     "name": "stdout",
     "output_type": "stream",
     "text": [
      "Mike Trout Stats From Historical Data (end of 2023 season):\n",
      "FullPlayerName:Mike Trout, YearPlayed:13, AB:5402\n",
      "        R:1106, H:1624, Doubles:310, Triples:52, HR:368, RBI:940, SB:206,\n",
      "        BattingAvg:0.301, Slg:0.582, AllStar:11,\n",
      "        TB:3142, LastYearPlayed:2023, ID:troutmi01\n",
      "--------------------\n",
      "Mike Trout Probabibitiy of being inducted to Hall Of Fame From ML Model:\n",
      "94.55%\n"
     ]
    }
   ],
   "source": [
    "// Background Information on what is happening & components\n",
    "\n",
    "// 1) Directory of the historical baseball data statistics\n",
    "string filePathMLBBaseballBatters = Directory.GetParent(Directory.GetCurrentDirectory()) + \"/Data/MLBBaseballBattersPositionPlayers.csv\";\n",
    "// Read the batters data from the CSV file\n",
    "var batters = File.ReadAllLines(filePathMLBBaseballBatters)\n",
    "                        .Skip(1)\n",
    "                        .Select(v => MLBBaseballBatter.FromCsv(v))\n",
    "                        .ToList();\n",
    "\n",
    "// 2) A custom decision rules engine crafted by a Machine Learning model\n",
    "// Machine Learing Model and Prediction Engine                       \n",
    "string modelPath = Directory.GetParent(Directory.GetCurrentDirectory()) + \"/Models/InductedToHoF-GeneralizedAdditiveModels.mlnet\";\n",
    "var mlContext = new MLContext(seed: 100);\n",
    "ITransformer loadedModel;\n",
    "DataViewSchema schema;\n",
    "\n",
    "using (var stream = File.OpenRead(modelPath))\n",
    "{\n",
    "    loadedModel = mlContext.Model.Load(stream, out schema);\n",
    "}\n",
    "TransformerChain<ITransformer> transfomerChain = (TransformerChain<ITransformer>)loadedModel;\n",
    "\n",
    "var predEngineInductedToHallOfFame = mlContext.Model.CreatePredictionEngine<MLBBaseballBatter, MLBHOFPrediction>(transfomerChain);\n",
    "\n",
    "// 3) Predict if Mike Trout will be inducted to the Hall of Fame\n",
    "var mikeTroutStats = batters.Where(b => b.FullPlayerName == \"Mike Trout\").FirstOrDefault();\n",
    "Console.WriteLine(\"Mike Trout Stats From Historical Data (end of 2023 season):\");\n",
    "Console.WriteLine(mikeTroutStats.ToString());\n",
    "var prediction = predEngineInductedToHallOfFame.Predict(mikeTroutStats);\n",
    "Console.WriteLine(\"--------------------\");\n",
    "Console.WriteLine(\"Mike Trout Probabibitiy of being inducted to Hall Of Fame From ML Model:\");\n",
    "Console.WriteLine($\"{prediction.Probability:P2}\");"
   ]
  },
  {
   "cell_type": "markdown",
   "metadata": {},
   "source": [
    "### Step 4 - Hall of Fame Decision - Only using Web Search Results "
   ]
  },
  {
   "cell_type": "markdown",
   "metadata": {},
   "source": [
    "Execute the cell below to have GenAI perform a decision recommendation on whether Mike Trout should make the baseball Hall Of Fame using current internet information only.\n",
    "\n",
    "**Notice the instruction in the prompt is to only use the web search results.** While there might be multiple functions available to the GenAI model via the imported plugin, the prompt instruction is to use only the single \"tool\" at it's disposal. Therefore, historical baseball statistics and the Machine Learning model probabilities will not be used.  \n",
    "\n",
    "After executing the code below, notice that the GenAI model has gathered intelligence using Bing. This intelligence about Mike Trout's baseball hall of fame candidacy is provides additional intelligence context. Finally, the LLM provides the information it has gathered, cites its sources and arrives at a decision (conclusion)."
   ]
  },
  {
   "cell_type": "code",
   "execution_count": 4,
   "metadata": {
    "dotnet_interactive": {
     "language": "csharp"
    },
    "polyglot_notebook": {
     "kernelName": "csharp"
    }
   },
   "outputs": [
    {
     "name": "stdout",
     "output_type": "stream",
     "text": [
      "Based on the web search results, I strongly recommend that Mike Trout should be inducted into the Hall of Fame.\n",
      "\n",
      "Multiple reputable sources highlight that Trout is considered a \"virtual lock\" for the Hall of Fame due to his extraordinary career achievements, including three MVP awards and numerous All-Star appearances. His statistical dominance from 2011-2020 is noted as one of the most prolific runs in baseball history, making him one of the greatest players of his generation. The consensus among analysts is not whether he will make the Hall of Fame, but rather when he will be inducted, with many asserting he is already a future Hall of Famer even if his career were to end today [4][7][5].\n",
      "\n",
      "While there are discussions about his recent injuries and whether they might impact his candidacy, the overwhelming view is that his accomplishments already far exceed typical Hall of Fame standards, and his legacy is secure despite setbacks [3][8].\n",
      "\n",
      "In summary, the evidence from multiple sources supports a clear recommendation for Mike Trout's Hall of Fame induction, given his exceptional career achievements and impact on the game [4][7][5][2].\n",
      "\n",
      "Sources:\n",
      "1. https://www.cooperstowncred.com/mike-trout-now-30-already-a-future-hall-of-famer/ [4]\n",
      "2. https://sidelinecoverage.com/mlb/will-mike-trout-be-in-the-hall-of-fame/ [7]\n",
      "3. https://en.wikipedia.org/wiki/Mike_Trout [5]\n",
      "4. https://www.cbssports.com/mlb/news/baseball-hall-of-fame-mike-trout-mookie-betts-clayton-kershaw-more-active-players-on-track-for-cooperstown/ [2]"
     ]
    }
   ],
   "source": [
    "// Use WebSearch to find information on Mike Trout\n",
    "\n",
    "var openAIPromptExecutionSettings = new OpenAIPromptExecutionSettings { \n",
    "    MaxTokens = 4000, \n",
    "    Temperature = 0.6, \n",
    "    TopP = 1.0, \n",
    "    FrequencyPenalty = 0.0, \n",
    "    PresencePenalty = 0.0,\n",
    "    // Enable Auto Invoking of Kernel Functions\n",
    "    ToolCallBehavior = ToolCallBehavior.AutoInvokeKernelFunctions\n",
    "};\n",
    "\n",
    "var decisionPromptTemplateString = \"\"\"\n",
    "What decision would you recommend in determining if {{$baseBallPlayer}} should make the hall of fame? \n",
    "Only use web search results to make your decision.\n",
    "Provide sources of information and explain your reasoning.\n",
    "Ensure to cite all the sources using [number] notation of each URL after the reference in order.\n",
    "\"\"\";\n",
    "var kernelArguments = new KernelArguments(openAIPromptExecutionSettings)\n",
    "{\n",
    "    [\"baseBallPlayer\"] = \"Mike Trout\"\n",
    "};\n",
    "\n",
    "// Now with Auto Invoking of Kernel Functions, let the magic happen\n",
    "await foreach (var streamChunk in semanticKernel.InvokePromptStreamingAsync(decisionPromptTemplateString, kernelArguments))\n",
    "{\n",
    "   Console.Write(streamChunk);\n",
    "}"
   ]
  },
  {
   "cell_type": "markdown",
   "metadata": {},
   "source": [
    "### Step 5 - Hall of Fame Decision - Only using Baseball Statistics "
   ]
  },
  {
   "cell_type": "markdown",
   "metadata": {},
   "source": [
    "Execute the cell below to have GenAI perform a decision recommendation on whether Mike Trout should make the baseball Hall Of Fame.  \n",
    "\n",
    "**Notice the instruction in the prompt instruction is to only use the historical baseball statistics.** Running the code below will gather intelligence from the local MLBBaseballBattersPositionPlayers.csv file that has historical batting statistics. Only those statistics should be used to provide further context and influence the GenAI decision whether someone should join the Hall of Fame.  "
   ]
  },
  {
   "cell_type": "code",
   "execution_count": 5,
   "metadata": {
    "dotnet_interactive": {
     "language": "csharp"
    },
    "polyglot_notebook": {
     "kernelName": "csharp"
    }
   },
   "outputs": [
    {
     "name": "stdout",
     "output_type": "stream",
     "text": [
      "To determine if Mike Trout should make the Hall of Fame based solely on historical baseball statistics, let’s review the traditional benchmarks and compare them to Trout’s career achievements:\n",
      "\n",
      "### Hall of Fame Benchmarks for Position Players\n",
      "- **Batting Average:** Historically, .300+ is elite, but many HOFers are below this.\n",
      "- **Home Runs:** 500 is a famous “automatic” number, but many get in with fewer.\n",
      "- **Hits:** 3,000 is a milestone, but not required.\n",
      "- **RBI:** 1,500+ is typical, but context matters.\n",
      "- **Awards:** MVPs, All-Star selections, and Gold Gloves add to a player’s case.\n",
      "- **Longevity and Peak:** Consistency and dominance over several years are important.\n",
      "- **Other Factors:** OBP, SLG, WAR (Wins Above Replacement) are modern evaluative stats.\n",
      "\n",
      "### Mike Trout’s Career Stats (as of end of 2023)\n",
      "- **Batting Average:** .301\n",
      "- **Home Runs:** 368\n",
      "- **Hits:** 1,624\n",
      "- **RBI:** 940\n",
      "- **Stolen Bases:** 206\n",
      "- **All-Star Appearances:** 11\n",
      "- **MVP Awards:** 3 (plus several top-2 finishes)\n",
      "- **WAR:** 85.2 (Baseball-Reference)\n",
      "\n",
      "### Analysis\n",
      "- **Peak Performance:** Trout has been the best player in baseball for about a decade, consistently finishing at or near the top in MVP voting.\n",
      "- **Rate Stats:** His .301 average, elite OBP, and SLG numbers are all well above Hall of Fame standards.\n",
      "- **WAR:** His career WAR is already higher than many Hall of Famers, even with injuries limiting his counting stats.\n",
      "- **Home Runs and Hits:** While he hasn’t reached “automatic” milestones, his rate of production is elite, and his peak is comparable to inner-circle Hall of Famers.\n",
      "\n",
      "### Conclusion\n",
      "Even if Mike Trout retired today, his historical statistics—especially his peak performance, advanced metrics, and awards—make him a clear Hall of Famer. His combination of rate stats, dominance, and accolades puts him well above the typical Hall of Fame threshold, regardless of missing some traditional counting milestones due to injuries.\n",
      "\n",
      "**Recommendation:** Based solely on historical baseball statistics, Mike Trout should be inducted into the Hall of Fame."
     ]
    }
   ],
   "source": [
    "// Use Baseball statistics to determine if Mike Trout should be inducted to the Hall of Fame\n",
    "\n",
    "var openAIPromptExecutionSettings = new OpenAIPromptExecutionSettings { \n",
    "    MaxTokens = 3000, \n",
    "    Temperature = 0.6, \n",
    "    TopP = 1.0, \n",
    "    FrequencyPenalty = 0.0, \n",
    "    PresencePenalty = 0.0,\n",
    "    // Enable Auto Invoking of Kernel Functions\n",
    "    ToolCallBehavior = ToolCallBehavior.AutoInvokeKernelFunctions\n",
    "};\n",
    "\n",
    "var decisionPromptTemplateString = \"\"\"\n",
    "What decision would you recommend in determining if {{$baseBallPlayer}} should make the hall of fame? \n",
    "Only use the historical baseball statistics to make your decision. \n",
    "Do NOT use web search results or machine learning models.\n",
    "\"\"\";\n",
    "var kernelArguments = new KernelArguments(openAIPromptExecutionSettings)\n",
    "{\n",
    "    [\"baseBallPlayer\"] = \"Mike Trout\"\n",
    "};\n",
    "\n",
    "// Now with Auto Invoking of Kernel Functions, let the magic happen\n",
    "await foreach (var streamChunk in semanticKernel.InvokePromptStreamingAsync(decisionPromptTemplateString, kernelArguments))\n",
    "{\n",
    "   Console.Write(streamChunk);\n",
    "}"
   ]
  },
  {
   "cell_type": "markdown",
   "metadata": {},
   "source": [
    "### Step 6 - Hall of Fame Decision - Only using a Machine Learning Model"
   ]
  },
  {
   "cell_type": "markdown",
   "metadata": {},
   "source": [
    "> \"The goal of probability is not to make precise predictions, but to make more accurate predictions than you would by chance.\"\n",
    ">\n",
    "> -- <cite>John Allen Paulos (famous mathmatecian and author)</cite> "
   ]
  },
  {
   "cell_type": "markdown",
   "metadata": {},
   "source": [
    "Execute the cell below to have GenAI perform a decision recommendation on whether Mike Trout should make the baseball Hall Of Fame. \n",
    "\n",
    "**Notice the instruction in the prompt is to only use the Machine Learning probability model.** Executing the code below will use a single probability number from a Machine Learning model to provide the intelligence for the GenAI to make the decision.  "
   ]
  },
  {
   "cell_type": "code",
   "execution_count": 6,
   "metadata": {
    "dotnet_interactive": {
     "language": "csharp"
    },
    "polyglot_notebook": {
     "kernelName": "csharp"
    }
   },
   "outputs": [
    {
     "name": "stdout",
     "output_type": "stream",
     "text": [
      "Based on the machine learning probability, Mike Trout has a 94.5% chance of being inducted into the Hall of Fame. I recommend that Mike Trout should be inducted into the Hall of Fame."
     ]
    }
   ],
   "source": [
    "// Use Machine Learning Prediction to determine if Mike Trout should be inducted to the Hall of Fame\n",
    "\n",
    "var openAIPromptExecutionSettings = new OpenAIPromptExecutionSettings { \n",
    "    MaxTokens = 3000, \n",
    "    Temperature = 0.6, \n",
    "    TopP = 1.0, \n",
    "    FrequencyPenalty = 0.0, \n",
    "    PresencePenalty = 0.0,\n",
    "    // Enable Auto Invoking of Kernel Functions\n",
    "    ToolCallBehavior = ToolCallBehavior.AutoInvokeKernelFunctions\n",
    "};\n",
    "\n",
    "var decisionPromptTemplateString = \"\"\"\n",
    "What decision would you recommend in determining if {{$baseBallPlayer}} should make the Hall of Fame? \n",
    "Only use the machine learning probability for Hall Of Fame Induction to make your decision.\n",
    "\"\"\";\n",
    "var kernelArguments = new KernelArguments(openAIPromptExecutionSettings)\n",
    "{\n",
    "    [\"baseBallPlayer\"] = \"Mike Trout\"\n",
    "};\n",
    "\n",
    "// Now with Auto Invoking of Kernel Functions, let the magic happen\n",
    "await foreach (var streamChunk in semanticKernel.InvokePromptStreamingAsync(decisionPromptTemplateString, kernelArguments))\n",
    "{\n",
    "   Console.Write(streamChunk);\n",
    "}"
   ]
  },
  {
   "cell_type": "markdown",
   "metadata": {},
   "source": [
    "### Step 7 - Hall of Fame Decision - Using all of the Available Tools (functions)"
   ]
  },
  {
   "cell_type": "markdown",
   "metadata": {},
   "source": [
    "Execute the cell below to have GenAI perform a decision recommendation on whether Mike Trout should make the baseball Hall Of Fame. \n",
    "\n",
    "**Notice the instruction in the prompt is to use all of the tools available.** The example below will gather intelligence from: The Internet (Bing Service), Historical Statistics and Machine Learning model. "
   ]
  },
  {
   "cell_type": "code",
   "execution_count": 7,
   "metadata": {
    "dotnet_interactive": {
     "language": "csharp"
    },
    "polyglot_notebook": {
     "kernelName": "csharp"
    }
   },
   "outputs": [
    {
     "name": "stdout",
     "output_type": "stream",
     "text": [
      "Based on a comprehensive review of Mike Trout’s career statistics, machine learning Hall of Fame probability, and current expert analysis, I strongly recommend that Mike Trout should be inducted into the Baseball Hall of Fame.\n",
      "\n",
      "**Key Points Supporting Induction:**\n",
      "\n",
      "1. **Statistical Excellence:**  \n",
      "   - 13 years played, .301 career batting average, .582 slugging percentage, 368 home runs, 940 RBI, 206 stolen bases, and 1,624 hits as of 2023.\n",
      "   - 11 All-Star appearances and 24 major player awards.\n",
      "   - Trout’s advanced metrics and all-around game are among the most elite of his era, with his WAR (Wins Above Replacement) consistently ranking at the top of MLB[6].\n",
      "\n",
      "2. **Probability of Induction:**  \n",
      "   - According to machine learning models based on Hall of Fame voting trends and player statistics, Trout has a 94.5% probability of being inducted.\n",
      "\n",
      "3. **Expert and Media Consensus:**  \n",
      "   - Most baseball analysts and major publications consider Trout a “lock” for the Hall of Fame, citing his sustained dominance and historical achievements[2][5][7][8].\n",
      "   - Even with recent injuries, his career accomplishments already surpass those of many Hall of Famers[3][5][8].\n",
      "\n",
      "4. **Historical Context:**  \n",
      "   - Trout’s accolades and advanced stats (such as WAR) place him in the company of all-time greats, and his impact on the game is widely acknowledged[6][8].\n",
      "\n",
      "**Counterpoints:**  \n",
      "While some sources raise concerns about injuries or a lack of postseason success, these factors are generally outweighed by his regular season dominance and overall contribution to the sport[1][3].\n",
      "\n",
      "**Conclusion:**  \n",
      "Mike Trout’s combination of elite performance, statistical milestones, and industry consensus make him an overwhelming choice for Hall of Fame induction. He is not only on track, but already possesses a Hall of Fame résumé.\n",
      "\n",
      "---\n",
      "\n",
      "**Sources:**  \n",
      "[1] https://fanarch.com/blogs/mlb/why-mike-trout-will-not-make-the-hall-of-fame  \n",
      "[2] https://www.cbssports.com/mlb/news/baseball-hall-of-fame-mike-trout-mookie-betts-clayton-kershaw-more-active-players-on-track-for-cooperstown/  \n",
      "[3] https://www.latimes.com/sports/story/2024-08-01/mike-trout-out-for-season-meniscus-tear-hof-chances  \n",
      "[5] https://www.cooperstowncred.com/mike-trout-now-30-already-a-future-hall-of-famer/  \n",
      "[6] https://www.baseball-reference.com/players/t/troutmi01.shtml  \n",
      "[7] https://sidelinecoverage.com/mlb/will-mike-trout-be-in-the-hall-of-fame/  \n",
      "[8] https://www.essentiallysports.com/mlb-baseball-news-is-mike-trout-destined-for-unanimous-hof-fans-rank-him-among-elite-mlb-contenders/"
     ]
    }
   ],
   "source": [
    "// Use all of the available tools (functions) to determine if Mike Trout should be inducted to the Hall of Fame\n",
    "\n",
    "var openAIPromptExecutionSettings = new OpenAIPromptExecutionSettings { \n",
    "    MaxTokens = 3000, \n",
    "    Temperature = 0.4, \n",
    "    TopP = 1.0, \n",
    "    FrequencyPenalty = 0.0, \n",
    "    PresencePenalty = 0.0,\n",
    "    // Enable Auto Invoking of Kernel Functions\n",
    "    ToolCallBehavior = ToolCallBehavior.AutoInvokeKernelFunctions\n",
    "};\n",
    "\n",
    "var decisionPromptTemplateString = \"\"\"\n",
    "What decision would you recommend in determining if {{$baseBallPlayer}} should make the hall of fame? \n",
    "Use all of the tools available at your disposal to arrive at a comprehensive decision.\n",
    "You must cite all the sources using [number] notation of each URL after the reference in order.\n",
    "The sources should appear in order on the bottom of the decision.\n",
    "\"\"\";\n",
    "var kernelArguments = new KernelArguments(openAIPromptExecutionSettings)\n",
    "{\n",
    "    [\"baseBallPlayer\"] = \"Mike Trout\"\n",
    "};\n",
    "\n",
    "// Now with Auto Invoking of Kernel Functions, let the magic happen\n",
    "await foreach (var streamChunk in semanticKernel.InvokePromptStreamingAsync(decisionPromptTemplateString, kernelArguments))\n",
    "{\n",
    "   Console.Write(streamChunk);\n",
    "}"
   ]
  },
  {
   "cell_type": "markdown",
   "metadata": {},
   "source": [
    "### Step 8 - Hall of Fame Decision - Adding Chain Of Thought Advanced Reasoning"
   ]
  },
  {
   "cell_type": "markdown",
   "metadata": {
    "dotnet_interactive": {
     "language": "csharp"
    },
    "polyglot_notebook": {
     "kernelName": "csharp"
    }
   },
   "source": [
    "Execute the cell below to have GenAI perform a decision recommendation on whether Mike Trout should make the baseball Hall of Fame.\n",
    "\n",
    "The Prompt Instructions below include a deep reasoning framework on howto approach this problem, self-reflect and try different approaches. As was shown above the GenAI model has access to all of the tools used above (internet, historical data, historical baseball statistics).  \n",
    "\n",
    "Contrast the execution results below with the previous results in this module. The GenAI model just doesn't gather intelligence and cite it when making a decision; the GenAI model now includes a deep reasoning process on how it has constructed the decision framework to arrive at the final decision.  Notice the outlined steps, the functions the GenAI model intends to call, scores itself etc. as part of the decision framework.  "
   ]
  },
  {
   "cell_type": "code",
   "execution_count": 8,
   "metadata": {
    "dotnet_interactive": {
     "language": "csharp"
    },
    "polyglot_notebook": {
     "kernelName": "csharp"
    }
   },
   "outputs": [
    {
     "name": "stdout",
     "output_type": "stream",
     "text": [
      "<thinking>\n",
      "To determine if Mike Trout should make the Hall of Fame, I need to comprehensively evaluate his career achievements, statistics, awards, and historical context. I will:\n",
      "- Retrieve his up-to-date baseball statistics and accolades.\n",
      "- Assess how these compare to typical Hall of Fame inductees.\n",
      "- Use available predictive tools to estimate his induction probability.\n",
      "- Weigh qualitative factors (e.g., impact, legacy).\n",
      "- Synthesize all information for a recommendation.\n",
      "\n",
      "I will use the BaseballHallOfFamePlugin to gather his stats and get a machine learning-based probability of induction. Throughout, I’ll critically reflect, adjust if needed, and ensure transparency in reasoning.\n",
      "</thinking>\n",
      "\n",
      "<step>\n",
      "Step 1: Retrieve Mike Trout's comprehensive career statistics and accolades using the plugin.\n",
      "</step>\n",
      "<count>19</count>\n",
      "\n",
      "<step>\n",
      "Step 2: Obtain a machine learning-based probability of Mike Trout being inducted based on his statistics.\n",
      "</step>\n",
      "<count>18</count>\n",
      "\n",
      "<step>\n",
      "Step 3: Search for web-based commentary or expert opinions on Mike Trout's Hall of Fame candidacy for additional qualitative insights.\n",
      "</step>\n",
      "<count>17</count>\n",
      "\n",
      "<multi_tool_use.parallel>\n",
      "{\n",
      "  \"tool_uses\": [\n",
      "    {\n",
      "      \"recipient_name\": \"functions.BaseballHallOfFamePlugin-GetBaseballPlayerStats\",\n",
      "      \"parameters\": {\n",
      "        \"nameOfBaseballPlayer\": \"Mike Trout\"\n",
      "      }\n",
      "    },\n",
      "    {\n",
      "      \"recipient_name\": \"functions.BaseballHallOfFamePlugin-GetWebSearchResults\",\n",
      "      \"parameters\": {\n",
      "        \"nameOfBaseballPlayer\": \"Mike Trout\"\n",
      "      }\n",
      "    }\n",
      "  ]\n",
      "}\n",
      "</multi_tool_use.parallel>"
     ]
    }
   ],
   "source": [
    "// Use all of the available tools (functions) to determine if Mike Trout should be inducted to the Hall of Fame\n",
    "\n",
    "var openAIPromptExecutionSettings = new OpenAIPromptExecutionSettings { \n",
    "    MaxTokens = 3000, \n",
    "    Temperature = 0.6, \n",
    "    TopP = 1.0, \n",
    "    FrequencyPenalty = 0.0, \n",
    "    PresencePenalty = 0.0,\n",
    "    // Enable Auto Invoking of Kernel Functions\n",
    "    ToolCallBehavior = ToolCallBehavior.AutoInvokeKernelFunctions\n",
    "};\n",
    "\n",
    "var decisionPromptTemplateString = \"\"\"\n",
    "You will be provided a question below.  \n",
    "Begin by enclosing all thoughts within <thinking> tags, exploring multiple angles and approaches.\n",
    "Break down the solution into clear steps within <step> tags. Start with a 20-step budget, requesting more for complex problems if needed.\n",
    "Use <count> tags after each step to show the remaining budget. Stop when reaching 0.\n",
    "Continuously adjust your reasoning based on intermediate results and reflections, adapting your strategy as you progress.\n",
    "Regularly evaluate progress using <reflection> tags. Be critical and honest about your reasoning process.\n",
    "Assign a quality score between 0.0 and 1.0 using <reward> tags after each reflection. Use this to guide your approach:\n",
    "\n",
    "0.8+: Continue current approach\n",
    "0.5-0.7: Consider minor adjustments\n",
    "Below 0.5: Seriously consider backtracking and trying a different approach\n",
    "\n",
    "If unsure or if reward score is low, backtrack and try a different approach, explaining your decision within <thinking> tags.\n",
    "For mathematical problems, show all work explicitly using LaTeX for formal notation and provide detailed proofs.\n",
    "Explore multiple solutions individually if possible, comparing approaches in reflections. Use thoughts as a scratchpad, writing out all calculations and reasoning explicitly.\n",
    "Synthesize the final answer within <answer> tags, providing a clear, concise summary.\n",
    "Conclude with a final reflection on the overall solution, discussing effectiveness, challenges, and solutions. Assign a final reward score.\n",
    "\n",
    "Question:\n",
    "What decision would you recommend in determining if {{$baseBallPlayer}} should make the hall of fame? \n",
    "Use all of the tools available at your disposal to arrive at a comprehensive decision.\n",
    "\"\"\";\n",
    "var kernelArguments = new KernelArguments(openAIPromptExecutionSettings)\n",
    "{\n",
    "    [\"baseBallPlayer\"] = \"Mike Trout\"\n",
    "};\n",
    "\n",
    "// Now with Auto Invoking of Kernel Functions, let the magic happen\n",
    "await foreach (var streamChunk in semanticKernel.InvokePromptStreamingAsync(decisionPromptTemplateString, kernelArguments))\n",
    "{\n",
    "   Console.Write(streamChunk);\n",
    "}"
   ]
  },
  {
   "cell_type": "markdown",
   "metadata": {},
   "source": [
    "### Step 9 - Understanding Auto Function Calling Behavior  "
   ]
  },
  {
   "cell_type": "markdown",
   "metadata": {},
   "source": [
    "How does Semantic Kernel and the LLM know to call the function? What if there are multiple functions or plugins, how does LLM signal Semantic Kernel which function to call? \n",
    "\n",
    "Executing the cell below will illustrate that the invocation of the functions is not magic, but guided by the descriptions of the plugin function descriptions and parameter descriptions. Note that the Search function is described as \"Perform a Web Search\". This provides a big clue to Semantic Kernel that this a possible tool (function) to use to extract current information."
   ]
  },
  {
   "cell_type": "code",
   "execution_count": 9,
   "metadata": {
    "dotnet_interactive": {
     "language": "csharp"
    },
    "polyglot_notebook": {
     "kernelName": "csharp"
    }
   },
   "outputs": [
    {
     "name": "stdout",
     "output_type": "stream",
     "text": [
      "Plugin: BaseballHallOfFamePlugin\n",
      "  Function Name: GetPlayerProbabilityOfHallOfFame\n",
      "  Function Description: Retrieves a Machine Learning probability of a player being Inducted to Hall Of Fame using a the player's baseball statistics.\n",
      "    Function Parameters:\n",
      "      - baseballStatistics: The statistics of the baseball player.\n",
      "        default: ''\n",
      "\n",
      "Plugin: BaseballHallOfFamePlugin\n",
      "  Function Name: GetBaseballPlayerStats\n",
      "  Function Description: Retrieves baseball statistics for a given baseball player from historical data.\n",
      "    Function Parameters:\n",
      "      - nameOfBaseballPlayer: The name of the baseball player to search for.\n",
      "        default: ''\n",
      "\n",
      "Plugin: BaseballHallOfFamePlugin\n",
      "  Function Name: GetWebSearchResults\n",
      "  Function Description: Retrieves the web search results with identified URL sources for a given baseball player.\n",
      "    Function Parameters:\n",
      "      - nameOfBaseballPlayer: The name of the baseball player to search for.\n",
      "        default: ''\n",
      "\n"
     ]
    }
   ],
   "source": [
    "// Method for printing the functions metadata\n",
    "private void PrintFunction(KernelFunctionMetadata func)\n",
    "{\n",
    "    Console.WriteLine($\"Plugin: {func.PluginName}\");\n",
    "    Console.WriteLine($\"  Function Name: {func.Name}\");\n",
    "    Console.WriteLine($\"  Function Description: {func.Description}\");\n",
    "\n",
    "    if (func.Parameters.Count > 0)\n",
    "    {\n",
    "        Console.WriteLine(\"    Function Parameters:\");\n",
    "        foreach (var p in func.Parameters)\n",
    "        {\n",
    "            Console.WriteLine($\"      - {p.Name}: {p.Description}\");\n",
    "            Console.WriteLine($\"        default: '{p.DefaultValue}'\");\n",
    "        }\n",
    "    }\n",
    "\n",
    "    Console.WriteLine();\n",
    "}\n",
    "// Get the functions metadata\n",
    "var functions = semanticKernel.Plugins.GetFunctionsMetadata();\n",
    "\n",
    "foreach (KernelFunctionMetadata func in functions)\n",
    "{\n",
    "    PrintFunction(func);\n",
    "}"
   ]
  }
 ],
 "metadata": {
  "kernelspec": {
   "display_name": ".NET (C#)",
   "language": "C#",
   "name": ".net-csharp"
  },
  "language_info": {
   "name": "polyglot-notebook"
  },
  "polyglot_notebook": {
   "kernelInfo": {
    "defaultKernelName": "csharp",
    "items": [
     {
      "aliases": [],
      "name": "csharp"
     }
    ]
   }
  }
 },
 "nbformat": 4,
 "nbformat_minor": 2
}
