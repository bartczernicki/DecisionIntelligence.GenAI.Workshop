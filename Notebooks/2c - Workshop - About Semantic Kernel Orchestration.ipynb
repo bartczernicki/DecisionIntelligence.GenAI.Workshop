{
 "cells": [
  {
   "cell_type": "markdown",
   "metadata": {},
   "source": [
    "<div style=\"display: flex; align-items: center;\">\n",
    "  <img src=\"https://raw.githubusercontent.com/bartczernicki/DecisionIntelligence.GenAI.Workshop/main/Images/DecisionIntelligenceWorkshopLogo.png\" width=\"60px\" style=\"margin-right: 10px;\">\n",
    "  <span style=\"font-size: 1.5em; font-weight: bold;\">Workshop - About Semantic Kernel Orchestration</span>\n",
    "</div>"
   ]
  },
  {
   "cell_type": "markdown",
   "metadata": {},
   "source": [
    "Semantic Kernel is an **open source, code-first** framework **maintained by Microsoft** that supports AI orchestration across three core languages: **Python, Java and .NET**. It is often compared to the LangChain framework and offers similar capabilities with an enterprise focus. \n",
    "\n",
    "<img style=\"display: block; margin: auto;\" width =\"700px\" src=\"https://raw.githubusercontent.com/bartczernicki/DecisionIntelligence.GenAI.Workshop/main/Images/SemanticKernelOpenSource.png\">\n",
    "\n",
    "While Semantic Kernel is open source, it is a supported project by Microsoft. This is a key distinction from some open source projects. This means that by choosing Semantic Kernel, the AI orchestration framework: \n",
    "* **Supported** by Microsoft Engineering \n",
    "* Microsoft Semantic Kernel engineering **engages with the broader community with monthly community hours**  \n",
    "* Has a **public roadmap, releases, issues** all documented on GitHub \n",
    "* **Design Considerations** and features are clearly documented  \n",
    "* **Does not \"fail fast\" and introduce breaking changes rapidly**. Implements \"potential future functionality\" as clearly marked experimental packages  \n",
    "* **Recommended AI Agents orchestrator** for Enterprise AI Agents by Microsoft "
   ]
  },
  {
   "cell_type": "markdown",
   "metadata": {},
   "source": [
    "Semantic Kernel's primary function can be described as an AI Orchestration layer that lies betweeen your user experiences and the AI foundation layer. Another way to think about Semantic Kernel as the software layer that sits between the Generative AI (bare metal and math layer) and the user experiece services (Copilots, UX).  \n",
    "\n",
    "<img style=\"display: block; margin: auto;\" width =\"700px\" src=\"https://raw.githubusercontent.com/bartczernicki/DecisionIntelligence.GenAI.Workshop/main/Images/SemanticKernelOrchestration.png\">\n",
    "\n",
    "This means that Semantic Kernel's core value proposition is providing all of the functionality you need to craft sophisticated orchestration processes & interactions between AI foundation (AI models) and the user experience & middle-tier services."
   ]
  },
  {
   "cell_type": "markdown",
   "metadata": {},
   "source": [
    "Semantic Orchestration pipelines can be visualized in the manner below, where key components such as: agents, functions, plugins, personas, planners and agents all play a role as foundational building blocks in a Semantic Kernel powered AI architecture.\n",
    "\n",
    "<img style=\"display: block; margin: auto;\" width =\"700px\" src=\"https://raw.githubusercontent.com/bartczernicki/DecisionIntelligence.GenAI.Workshop/main/Images/SemanticKernelPipeline.png\">"
   ]
  },
  {
   "cell_type": "markdown",
   "metadata": {},
   "source": [
    "### Semantic Kernel Resources"
   ]
  },
  {
   "cell_type": "markdown",
   "metadata": {},
   "source": [
    "* GitHub Repo: https://github.com/microsoft/semantic-kernel (.NET, Python, Java)  \n",
    "* Semantic Kernel Architecture Decisions: https://github.com/microsoft/semantic-kernel/tree/main/docs/decisions \n",
    "* Semantic Kernel Concepts: https://github.com/microsoft/semantic-kernel/tree/main/dotnet/samples/Concepts \n",
    "* Microsoft Dev Blogs on Semantic Kernel: https://devblogs.microsoft.com/semantic-kernel/category/semantic-kernel/ \n",
    "* Semantic Kernel Office Hours: https://devblogs.microsoft.com/semantic-kernel/semantic-kernel-office-hours-recordings/ "
   ]
  }
 ],
 "metadata": {
  "kernelspec": {
   "display_name": ".NET (C#)",
   "language": "C#",
   "name": ".net-csharp"
  },
  "language_info": {
   "name": "python"
  },
  "polyglot_notebook": {
   "kernelInfo": {
    "defaultKernelName": "csharp",
    "items": [
     {
      "aliases": [],
      "name": "csharp"
     }
    ]
   }
  }
 },
 "nbformat": 4,
 "nbformat_minor": 2
}
