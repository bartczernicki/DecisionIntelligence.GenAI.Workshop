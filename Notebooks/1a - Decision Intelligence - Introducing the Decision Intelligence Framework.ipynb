{
 "cells": [
  {
   "cell_type": "markdown",
   "metadata": {},
   "source": [
    "<img style=\"float: left;padding-right: 10px\" width =\"40px\" src=\"https://raw.githubusercontent.com/bartczernicki/DecisionIntelligence.GenAI.Workshop/main/Images/SemanticKernelLogo.png\">\n",
    "\n",
    "## Decision Intelligence - Introducing the Decision Intelligence Framework  "
   ]
  },
  {
   "cell_type": "markdown",
   "metadata": {},
   "source": [
    "### Introducing Decisions "
   ]
  },
  {
   "cell_type": "markdown",
   "metadata": {},
   "source": [
    "> 📜 \"Whenever you see a successful business, someone once made a courageous decision.\"\n",
    ">\n",
    "> -- <cite>Peter Drucker (father of modern management)</cite>  \n",
    "\n",
    "<img style=\"display: block; margin: auto;\" width =\"700px\" src=\"https://raw.githubusercontent.com/bartczernicki/DecisionIntelligence.GenAI.Workshop/main/Images/DecisionIntelligenceFramework/DecisionIntelligence.png\">\n",
    "<br/>  "
   ]
  },
  {
   "cell_type": "markdown",
   "metadata": {},
   "source": [
    "Decision-making is at the core of everything we do in life. It's an activity that happens all the time, whether we realize it or not. This process is deeply embedded in our human biology, guiding us through both conscious choices, like what car to purchase, and unconscious ones, like reflexively pulling our hand away from a hot surface. Every decision we make, big or small, plays a role in helping us navigate the world and stay safe. Without this constant decision-making, our ability to survive and thrive would be greatly diminished.  \n",
    "\n",
    "We make decisions anytime we are presented with a how, why or when. Therefore, decisions can have various forms that aren't clearly apparent. Examples of decision forms are illustrated in the table below:  \n",
    "| Decision Form              | Description |\n",
    "| :--------------------- | :------------- |\n",
    "| Deciding from Available Choices | This is what comes to mind when people think of decision-making; there are several choices presented and one makes a selection. Examples can include: selecting an optimal route to work, picking a new car or choosing which job offer to accept, making an offer to a candidate from a pool of applications etc. |\n",
    "| Quitting or Postponing | Stopping or planning when to quit an action is a form of a decision. For example, stopping your exercise routine at exhaustion or partially eating a meal for your diet are essentially stopping decisions. |\n",
    "| Making a Recommendation | Prescribing solutions, suggestions, choices etc. that address a problem or achieve a goal. Recommendations are form of a multiple potential decisions. | \n",
    "| Priorotizing or Escalating | Choosing which decisions to focus on based on their importance or urgency. Referring the decision to a higher authority or level for resolution.  | \n",
    "| Working with Groups | When working in a group setting like negotiating, collaborating or voting are some specific examples of decision forms when people come together as a group. | \n",
    "| Doing Nothing or Mainting the Status Quo | Maintaining the current state is a valid decision that sometimes isn't provided as a choice, but is almost always available as an option or strategy. |\n",
    "| Deciding How you make Decisions | Probably the most important set decisions you will ever make is how you approach, make, communicate and monitor sufficiently important decisions! |\n",
    "\n",
    "It is much easier to see decision-making illustrated with real decision persona examples. **Click the image below** to launch an excellent video from FICO to understand vital business decision challenges and how real-time business decisions can help.  "
   ]
  },
  {
   "cell_type": "markdown",
   "metadata": {},
   "source": [
    "[![FICO 35,000 Decisions](https://img.youtube.com/vi/rtWZtwyV0XA/0.jpg)](https://www.youtube.com/watch?v=rtWZtwyV0XA)"
   ]
  },
  {
   "cell_type": "markdown",
   "metadata": {},
   "source": [
    "### Importance of Quality Decisions "
   ]
  },
  {
   "cell_type": "markdown",
   "metadata": {},
   "source": [
    "Navigating decisions effectively is clearly important, serving as a key differentiator for successful individuals. **Therefore, decision-making ability is regarded by executives as one of the most highly desired business skills!** Most people (even seasoned business professionals) make decisions using simple intuition, \"subject matter expertise\" or no decision processes at all! However, when the problem is sufficiently important or the chance of making a mistake is high; it is valuable to apply advanced decision-making principles to solve those important problems.  \n",
    "\n",
    "A vast majority of individuals are not aware of decision-making techniques. Furthermore, to most, consistently making quality decisions can be a daunting task. There is good news though! It has been shown that in the same way with the training of top-tier athletes, decision-makers can employ techniques, plans, simple math and instruments to improve with practice. This can include learning & practicing:  \n",
    "* Framing a Decision from different points of view   \n",
    "* Gathering Intelligence and information to reason over a decision  \n",
    "* Executing a Decision - using a proven framework, using Machine Learning or statistics   \n",
    "* Making a Decision alone or with the Collective Intelligence of a group \n",
    "* Communicating a Decision effectively to various stakeholders  \n",
    "* Monitoring a Decision for potential optimizations\n",
    "\n",
    "Integrating the above decision best practices into formal processes helps you make smarter decisions, which I refer to as **\"Decision Intelligence Framework\"**.  "
   ]
  },
  {
   "cell_type": "markdown",
   "metadata": {},
   "source": [
    "### Total Addressable Market of Quality Decision Making "
   ]
  },
  {
   "cell_type": "markdown",
   "metadata": {},
   "source": [
    "The total addressable market for making higher-quality decisions is staggeringly vast, easily reaching into the tens trillions of dollars! Consider just one facet of this market: consumer debt in the United States, which exceeds $18 trillion in 2025. Mortgages alone account for $13 trillion, while auto loans stand at $1.8 trillion, student loans at $1.7 trillion, and credit cards at $1.2 trillion! Imagine being able to help people make quality decisions to improve each of these critical debt categories. For example, a car that won’t end up saddling owners with negative equity, selecting a home that fits the family needs, or choosing an education path that maximizes long-term return. Even small single-digit percentage improvements in how individuals make these decisions can generate colossal gains for society, lenders, and the world economy at large. \n",
    "\n",
    "Decision-making quality also impacts sectors beyond consumer finance, such as corporate strategies, government policies, and healthcare choices, multiplying the potential influence of better decisions. By refining how these important daily decisions are made, we not only reduce systemic inefficiencies, such as high interest costs or underutilized assets, but also unlock greater well-being and prosperity. It is here that Decision Intelligence, especially when powered by Generative AI, can be transformative by digitizing and scaling proven methods to help individuals, businesses, and entire institutions optimize outcomes in ways that were once unimaginable."
   ]
  },
  {
   "cell_type": "markdown",
   "metadata": {},
   "source": [
    "### Decision Intelligence Framework - Optimize the Quality of Important Decisions"
   ]
  },
  {
   "cell_type": "markdown",
   "metadata": {},
   "source": [
    "> 📜 \"Your **most important decision** is how you make decisions.\"\n",
    ">\n",
    "> -- <cite>Doug Hubbard (Prominent management consultant, speaker, and author specializing in decision science)</cite>  "
   ]
  },
  {
   "cell_type": "markdown",
   "metadata": {},
   "source": [
    "<img style=\"display: block; margin: auto;\" width =\"700px\" src=\"https://raw.githubusercontent.com/bartczernicki/DecisionIntelligence.GenAI.Workshop/main/Images/DecisionIntelligenceFramework.png\">"
   ]
  },
  {
   "cell_type": "markdown",
   "metadata": {
    "vscode": {
     "languageId": "polyglot-notebook"
    }
   },
   "source": [
    "| Decision Intelligence Step     | Description |\n",
    "| :----------------------------- | :-------------------------- |\n",
    "| 1. Decision Framing       | The manner in which a decision is approached has enormous importance on the overall quality of that decision. Poor framing can snowball into additional issues in subsequent decision-making tiers. Humans often struggle to frame decisions well, largely due to personal cognitive biases. This step ensures that multiple viewpoints are considered, reducing bias and leading to a more holistic decision. |\n",
    "| 2. Gathering Intelligence  | In this step, relevant data and context are gathered from various sources (e.g., historical records, user inputs, expert opinions, or knowledge bases). This robust intelligence-gathering process helps ensure decisions are made on solid, up-to-date information. Semantic techniques and advanced analytics can help uncover deeper patterns and meaning, yielding a more accurate picture of the situation.                              |\n",
    "| 3. Decision Execution      | Decision execution involves selecting and applying the best course of action based on collected data, defined objectives, and available resources. It often includes performing calculations, aligning with existing frameworks, or collaborating with others to refine how the decision is carried out. This practical application step ensures decisions are implemented in a consistent and effective manner. |\n",
    "| 4. Decision Communication  | This stage focuses on communicating decisions clearly and effectively. It includes articulating the reasoning process, expected outcomes, and any relevant supporting data to stakeholders. By explaining the rationale behind a decision, team members and stakeholders can provide feedback, ask questions, and adjust the plan if needed, fostering transparency and trust. |\n",
    "| 5. Decision Monitoring     | Decision monitoring is the process of continuously evaluating outcomes and comparing them against expected results. Feedback is gathered, performance is tracked, and any necessary adjustments are made over time. This ensures that decisions remain aligned with changing conditions and continue to deliver optimal results. |\n"
   ]
  },
  {
   "cell_type": "markdown",
   "metadata": {},
   "source": [
    "### Decision Intelligence Framework - Enhanced with Generative AI"
   ]
  },
  {
   "cell_type": "markdown",
   "metadata": {},
   "source": [
    "Decision Intelligence transformation may sound potentially interesting, but what does this have todo with Generative AI? Large Language Models (LLMs) equipped with Generative AI (GenAI) capabilities possess potential for enhancing decision-making processes through advanced reasoning abilities. These GenAI LLMs have been trained on complex data sets with logic, patterns, writing source (programming) code and problem solving in mind. This allows LLMs to simulate human-like reasoning, offering insights and recommendations based on comprehensive data analysis. So how does decision-making and Generative AI come together? **This means that the proven historical use of decision-making, problem-solving, mental models, decision huersistics can be appllied to LLMs with GenAI and help humans make decisions!**  \n",
    "\n",
    "**Decision Intelligence with Generative AI is the digitization of proven decision-making processes Generative AI.** This digital transformation of various historically proven techniques has happened many times before. For example, in the recent past the preferred way to communicate news stories or research was with the radio, tevelevision or newspapers. These past ways of communication have been digitally transformed with the internet and cell phones. Many examples like this exist. With recent Generative AI innovations that can help with decision-making, it is an ideal time for digital transformation of Decision Intelligence!\n",
    "\n",
    "Where is a good place to start learning Decision Intelligence? As you can imagine there has been much thought, published studies and literature written on decision-making. There are examples and resources provided throughout to immerse yourself into the paradigm. You might be asking *\"Do I need to read a ton of decision-making literature before getting started with Decision Intelligence with Generative AI?\"* Not necessarily. This content is designed to introduce Decision Intelligence in an easy-to-understand manner, along with additional resources for further exploration.  "
   ]
  },
  {
   "cell_type": "markdown",
   "metadata": {},
   "source": [
    "#### Decision Intelligence Framework - How Each Step is Enhanced with Generative AI "
   ]
  },
  {
   "cell_type": "markdown",
   "metadata": {},
   "source": [
    "The table below illustrates how each step of the Decision Intelligence Framework can be enhanced with Generative AI innovations. Notice the Generative AI can be applied anywhere in the process. Therefore, Generative AI doesn't have to be applied holistically to improve decision-making potential. It can be applied in some or all of the steps based on the potential value.  "
   ]
  },
  {
   "cell_type": "markdown",
   "metadata": {},
   "source": [
    "| Decision Intelligence Step     | Enhanced with Generative AI |\n",
    "| :----------------------------- | :-------------------------- |\n",
    "| 1. Decision Framing | The manner a decision is approached has enormous importance on the quality of the decision. Poor decision framing has a snowball effect on subsquent decision-making tiers. It doesn't help that humans are poor at framing decisions. It is hard for humans to try different perspectives without personal cognitive biases getting in the way. While not perfect, Generative AI models can be instructed to approach various decisions from different perspectives, greatly adjusting bias. With Generative AI framing decisions, many perspectives can be effectively simulated for both individual and group decisions. For example, it is much easier for a Generative AI model to approach a problem from a positive perspective than a human who may be having a terrible personal time and can't put themselves into a positive decision frame. |  \n",
    "| 2. Gathering Intelligence | Generative AI model innovations can gather intelligence in two key ways. The first is from the internal knowledge the models have learned from the source data during the training process. Secondly, Generative AI can enhance the process of providing the proper contextual information using a process called Retrieval Augmented Generation (RAG) and Semantic Search techniques. Traditional search systems (Google, Bing) have been based on keyword search algorithms. However, semantic techniques can understand the \"meaning\" of the context and pair it with data in a knowledge graph.  These new semantic search techniques have shown large improvements in accuracy and can provide more relevant data to a decision system. |\n",
    "| 3. Decision Execution | Generative AI models provide many enhancements in the decision reasoning and execution steps. Gen AI models can perform calculations, execute software code, apply decision frameworks, make recommendations etc. Simply, components of the Generative AI can act as your \"pair decision-maker\". This is further extended with the advent of agents, where multiple AI decision-makers can collaborate to execute decision task(s). Providers of Generative AI, like OpenAI, have created a new set of models that can output their \"internal thought process\" as they arrive a decision. | \n",
    "| 4. Decision Communication | If you have use a Generative AI chatbot (ChatGPT), you have seen how Generative AI systems can effectively communicate decisions to the user; by writing or speaking in cohesive sentences and even comprehensive reports. This can include describing the decision, explaining the reasoning process and applying specific communication techniques. This is truly revolutionary over past AI & Machine Learning techniques, where models generally returned only a single probability percentage (i.e. 80%) or confidence score. In the past, it was up to the data scientist to translate complexity to additional communication framework. | \n",
    "| 5. Decision Monitoring | Generative AI innovations include ways where decisions can be evaluated, contrasted and compared. Furthermore, paired with business data, GenAI systems can continuously monitor the performance of existing decisions. |"
   ]
  },
  {
   "cell_type": "markdown",
   "metadata": {},
   "source": [
    "### Decision Intelligence Framework - Personalized Decision Execution using Eisenhower Decision Priorotization    "
   ]
  },
  {
   "cell_type": "markdown",
   "metadata": {},
   "source": [
    "#### Intro to Eisenhower Decision Priorotization"
   ]
  },
  {
   "cell_type": "markdown",
   "metadata": {},
   "source": [
    "<img style=\"display: block; margin: auto;\" width =\"700px\" src=\"https://raw.githubusercontent.com/bartczernicki/DecisionIntelligence.GenAI.Workshop/main/Images/DecisionIntelligenceFramework/DecisionIntelligence-Example-EisenhowerPrioritizationMatrix.png\">"
   ]
  },
  {
   "cell_type": "markdown",
   "metadata": {},
   "source": [
    "> 📜 \"I have two kinds of problems, the urgent and the important. The urgent are not important, and the important are never urgent.\"\n",
    ">\n",
    "> -- <cite>Dwight Eisenhower (34th President of the United States, military leader, and strategist)</cite>"
   ]
  }
 ],
 "metadata": {
  "kernelspec": {
   "display_name": ".NET (C#)",
   "language": "C#",
   "name": ".net-csharp"
  },
  "language_info": {
   "name": "csharp"
  },
  "polyglot_notebook": {
   "kernelInfo": {
    "defaultKernelName": "csharp",
    "items": [
     {
      "aliases": [],
      "name": "csharp"
     }
    ]
   }
  }
 },
 "nbformat": 4,
 "nbformat_minor": 2
}
