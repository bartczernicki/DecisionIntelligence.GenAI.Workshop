{
 "cells": [
  {
   "cell_type": "markdown",
   "metadata": {},
   "source": [
    "<img style=\"float: left;\" width =\"40px\" src=\"https://raw.githubusercontent.com/bartczernicki/DecisionIntelligence.GenAI.Workshop/main/Images/SemanticKernelLogo.png\">\n",
    "\n",
    "## Semantic Kernel - Plugins - Decision Communication   "
   ]
  },
  {
   "cell_type": "markdown",
   "metadata": {},
   "source": [
    "Decision Intelligence applied in this module:  \n",
    "* Decision Scenario: Apply the Minto Pyramid framework to make Decision Communication systematic, efficient and clear.  \n",
    "* Decision Scenario: Apply the Situation-Behavior-Impact-Recommendation (SBIR) framework to communicate decisions with potential negative feedback minimizing judgement.    "
   ]
  },
  {
   "cell_type": "markdown",
   "metadata": {
    "vscode": {
     "languageId": "plaintext"
    }
   },
   "source": [
    "### Step 1 - Initialize Configuration Builder & Build the Semantic Kernel Orchestration\n",
    "\n",
    "Execute the next two cells to:\n",
    "* Use the Configuration Builder to load the API secrets\n",
    "* Use the API configuration to build the Semantic Kernel orchestrator\n",
    "* The configuration builder will retrieve the Bing Search API Key"
   ]
  },
  {
   "cell_type": "code",
   "execution_count": 11,
   "metadata": {
    "dotnet_interactive": {
     "language": "csharp"
    },
    "polyglot_notebook": {
     "kernelName": "csharp"
    },
    "vscode": {
     "languageId": "polyglot-notebook"
    }
   },
   "outputs": [
    {
     "data": {
      "text/html": [
       "<div><div></div><div></div><div><strong>Installed Packages</strong><ul><li><span>Microsoft.Bing.Search.WebSearch, 1.0.0</span></li><li><span>Microsoft.Extensions.Configuration, 8.0.0</span></li><li><span>Microsoft.Extensions.Configuration.Json, 8.0.0</span></li><li><span>Microsoft.SemanticKernel, 1.13.0</span></li><li><span>Microsoft.SemanticKernel.Plugins.Core, 1.13.0-alpha</span></li><li><span>Microsoft.SemanticKernel.Plugins.Web, 1.13.0-alpha</span></li></ul></div></div>"
      ]
     },
     "metadata": {},
     "output_type": "display_data"
    }
   ],
   "source": [
    "#r \"nuget: Microsoft.Extensions.Configuration, 8.0.0\"\n",
    "#r \"nuget: Microsoft.Extensions.Configuration.Json, 8.0.0\"\n",
    "#r \"nuget: Microsoft.SemanticKernel, 1.13.0\"\n",
    "#r \"nuget: Microsoft.SemanticKernel.Plugins.Core, 1.13.0-alpha\"\n",
    "#r \"nuget: Microsoft.SemanticKernel.Plugins.Web, 1.13.0-alpha\"\n",
    "#r \"nuget: Microsoft.Bing.Search.WebSearch, 1.0.0\"\n",
    "\n",
    "using Microsoft.Extensions.Configuration;\n",
    "using Microsoft.SemanticKernel;\n",
    "using Microsoft.SemanticKernel.ChatCompletion;\n",
    "using Microsoft.SemanticKernel.Connectors.OpenAI;\n",
    "using Microsoft.Bing.WebSearch;\n",
    "using System.ComponentModel;\n",
    "using System.IO;\n",
    "\n",
    "var configurationBuilder = new ConfigurationBuilder()\n",
    "    .SetBasePath(Directory.GetCurrentDirectory())\n",
    "    .AddJsonFile(\"local.settings.json\", optional: true, reloadOnChange: true)\n",
    "    .AddJsonFile(\"secrets.settings.json\", optional: true, reloadOnChange: true);\n",
    "var config = configurationBuilder.Build();\n",
    "\n",
    "// IMPORTANT: You ONLY NEED either Azure OpenAI or OpenAI connectiopn info, not both.\n",
    "// Azure OpenAI Connection Info\n",
    "var azureOpenAIEndpoint = config[\"AzureOpenAI:Endpoint\"];\n",
    "var azureOpenAIAPIKey = config[\"AzureOpenAI:APIKey\"];\n",
    "var azureOpenAIModelDeploymentName = config[\"AzureOpenAI:ModelDeploymentName\"];\n",
    "var bingSearchAPIKey = config[\"BingSearch:APIKey\"];\n",
    "// OpenAI Connection Info \n",
    "var openAIAPIKey = config[\"OpenAI:APIKey\"];\n",
    "var openAIModelId = config[\"OpenAI:ModelId\"];"
   ]
  },
  {
   "cell_type": "code",
   "execution_count": 12,
   "metadata": {
    "vscode": {
     "languageId": "polyglot-notebook"
    }
   },
   "outputs": [
    {
     "name": "stdout",
     "output_type": "stream",
     "text": [
      "Using Azure OpenAI Service\n"
     ]
    }
   ],
   "source": [
    "Kernel semanticKernel;\n",
    "\n",
    "// Set the flag to use Azure OpenAI or OpenAI. False to use OpenAI, True to use Azure OpenAI\n",
    "var useAzureOpenAI = true;\n",
    "\n",
    "// Create a new Semantic Kernel instance\n",
    "if (useAzureOpenAI)\n",
    "{\n",
    "    Console.WriteLine(\"Using Azure OpenAI Service\");\n",
    "    semanticKernel = Kernel.CreateBuilder()\n",
    "        .AddAzureOpenAIChatCompletion(\n",
    "            deploymentName: azureOpenAIModelDeploymentName,\n",
    "            endpoint: azureOpenAIEndpoint,\n",
    "            apiKey: azureOpenAIAPIKey)\n",
    "        .Build();\n",
    "}\n",
    "else\n",
    "{\n",
    "    Console.WriteLine(\"Using OpenAI Service\");\n",
    "    semanticKernel = Kernel.CreateBuilder()\n",
    "        .AddOpenAIChatCompletion(\n",
    "            modelId: openAIModelId,\n",
    "            apiKey: openAIAPIKey)\n",
    "        .Build();\n",
    "}"
   ]
  },
  {
   "cell_type": "markdown",
   "metadata": {},
   "source": [
    "### Step 2 - Understanding & Explaining the Reasoning\n",
    "> \"The key to good decision making is not knowledge. It is understanding. We are swimming in the former. We are desperately lacking in the latter.\"\n",
    ">\n",
    "> -- <cite>Malcolm Gladwell (journalist, author, and public speaker known for his thought-provoking books)</cite> "
   ]
  },
  {
   "cell_type": "markdown",
   "metadata": {},
   "source": [
    "In the previous modules, Semantic Kernel with the Bing plugin and Auto Functions turned on where able to provide a seemingly \"updated\" answer. However, this answer can be improved further. In this next step, we will extract the understanging component from the GenAI LLM. Understanding refers to the ability to interpret, connect, and make sense of that knowledge. It's the ability to see the relationships between pieces of information, to recognize patterns, and to apply knowledge in context.\n",
    "\n",
    "How can understanding be extracted from GenAI? **Instructing the GenAI system to communicate the decision or recommendation with a framework like the Minto Pyramid can provide an clear way illustrate the reasoning process to the user.** More information about the Minto Pyramid communication framework can be found on the Untools.co website: https://untools.co/minto-pyramid/    \n",
    "\n",
    "<img width =\"500px\" src=\"https://assets-us-01.kc-usercontent.com/c6e42f10-0ed4-0062-585c-b740aa1ad46c/b3bbf2af-f6b2-4679-8a3a-837e37250990/minto-pyramid.png\">\n",
    "\n",
    "Execute the cell below to apply the Minto Pyramid Principle as guide for the GenAI model to structure the answer. Notice in the output the investigation of the decision is communicated in a clear & simple manner.  "
   ]
  },
  {
   "cell_type": "code",
   "execution_count": 13,
   "metadata": {
    "vscode": {
     "languageId": "polyglot-notebook"
    }
   },
   "outputs": [
    {
     "name": "stdout",
     "output_type": "stream",
     "text": [
      "**Conclusion:**\n",
      "The Phoenix Suns decided to fire head coach Frank Vogel after the 2024 playoffs.\n",
      "\n",
      "**Key Arguments:**\n",
      "1. **Performance Issues:** The Suns were swept in the first round of the playoffs by the Minnesota Timberwolves.\n",
      "2. **Expectations vs. Reality:** Despite a 49-win regular season, the team's performance in the playoffs was disappointing.\n",
      "3. **Health and Consistency:** The season was marred by struggles with health and consistency, which contributed to the team's underperformance.\n",
      "\n",
      "**Supporting Details:**\n",
      "- Frank Vogel was fired after just one season with the Phoenix Suns.\n",
      "- The decision came less than two weeks after the Suns' first-round playoff exit.\n",
      "- The team owner, Mat Ishbia, had indicated that a thorough evaluation of the team, including the coaching staff, would take place following the disappointing playoff performance."
     ]
    }
   ],
   "source": [
    "using Microsoft.SemanticKernel.Plugins.Web;\n",
    "using Microsoft.SemanticKernel.Plugins.Web.Bing;\n",
    "\n",
    "#pragma warning disable SKEXP0050\n",
    "var bingConnector = new BingConnector(bingSearchAPIKey);\n",
    "var bingSearchPlugin = new WebSearchEnginePlugin(bingConnector);\n",
    "\n",
    "semanticKernel.ImportPluginFromObject(bingSearchPlugin, \"bing\");\n",
    "#pragma warning restore SKEXP0050\n",
    "\n",
    "var openAIPromptExecutionSettings = new OpenAIPromptExecutionSettings { \n",
    "    MaxTokens = 2000, \n",
    "    Temperature = 0.1, \n",
    "    TopP = 1.0, \n",
    "    FrequencyPenalty = 0.0, \n",
    "    PresencePenalty = 0.0,\n",
    "    // Enable Auto Invoking of Kernel Functions\n",
    "    // Allows it to call the available Bing Plugin\n",
    "    ToolCallBehavior = ToolCallBehavior.AutoInvokeKernelFunctions\n",
    "};\n",
    "\n",
    "// Prompt Template for Decision Iquiry\n",
    "// Note the additional instruction to use the Minto Pyramid Principle\n",
    "var promptTemplateString = \"\"\"\n",
    "What coaching decision did {{$basketBallTeam}} make after the 2024 playoffs? \n",
    "Only answer if you know the answer.\n",
    "Use the Minto Pyramid Principle to structure your answer by \n",
    "starting with the conclusion, then provide key arguements and finally provide supporting details.\n",
    "\"\"\";\n",
    "var kernelArguments = new KernelArguments(openAIPromptExecutionSettings)\n",
    "{\n",
    "    [\"basketBallTeam\"] = \"Phoenix Suns\"\n",
    "};\n",
    "\n",
    "// Now with Auto Invoking of Kernel Functions, let the magic happen\n",
    "await foreach (var streamChunk in semanticKernel.InvokePromptStreamingAsync(promptTemplateString, kernelArguments))\n",
    "{\n",
    "   Console.Write(streamChunk);\n",
    "}"
   ]
  },
  {
   "cell_type": "markdown",
   "metadata": {},
   "source": [
    "### Step 3 - Using a Communication Framework with minimal Judgement\n",
    "\n",
    "There are many different communication frameworks that are avaialble for the Generative AI models to use. When communicating negative results and when that communication needs to be judgement-free, the \"Situation-Behavior-Impact-Recommendation (SBIR)\" framework is a great option. More information can be found on the Untool.co website: https://untools.co/situation-behavior-impact/.  \n",
    "\n",
    "In this scenario, the decision of firing a coach is being investigated. It is a decision that has negative impact for various parties. Therefore, the SBIR framework is a great candidate for communicating this decision investigation. \n",
    "\n",
    "Execute the cell below to instruct the GenAI model to communicate the decision using SBIR. Contrast the output below with the Minto Pyramid output. From the two different outputs, one can see that the SBIR is feedback-oriented and action-driven, the Minto Pyramid Principle is designed for organizing and presenting complex information coherently."
   ]
  },
  {
   "cell_type": "code",
   "execution_count": 14,
   "metadata": {
    "vscode": {
     "languageId": "polyglot-notebook"
    }
   },
   "outputs": [
    {
     "name": "stdout",
     "output_type": "stream",
     "text": [
      "**Situation:** After the 2024 NBA playoffs, the Phoenix Suns faced a disappointing outcome as they were swept in the first round by the Minnesota Timberwolves. This marked the end of a season filled with struggles related to health and consistency.\n",
      "\n",
      "**Behavior:** In response to the early playoff exit and the overall performance of the team, the Phoenix Suns decided to fire head coach Frank Vogel. This decision came after a thorough review of the season by the franchise.\n",
      "\n",
      "**Impact:** The firing of Frank Vogel, who had only been with the team for one season, left the Phoenix Suns with a head-coaching vacancy. This move signaled the team's intent to make significant changes in their coaching staff in hopes of better performance in future seasons.\n",
      "\n",
      "**Recommendation:** It is recommended that the Phoenix Suns carefully evaluate potential candidates for the head coach position, focusing on individuals with a proven track record of success in the playoffs and the ability to manage team health and consistency effectively. Additionally, involving key players in the decision-making process could ensure better alignment and team cohesion moving forward."
     ]
    }
   ],
   "source": [
    "// Prompt Template for Decision Iquiry\n",
    "// Note the additional instruction to use the Minto Pyramid Principle\n",
    "var promptTemplateString = \"\"\"\n",
    "What coaching decision did {{$basketBallTeam}} make after the 2024 playoffs? \n",
    "Only answer if you know the answer.\n",
    "Use the Situation-Behavior-Impact-Recommendation (SBIR) framework to structure your answer.\n",
    "\"\"\";\n",
    "var kernelArguments = new KernelArguments(openAIPromptExecutionSettings)\n",
    "{\n",
    "    [\"basketBallTeam\"] = \"Phoenix Suns\"\n",
    "};\n",
    "\n",
    "// Now with Auto Invoking of Kernel Functions, let the magic happen\n",
    "await foreach (var streamChunk in semanticKernel.InvokePromptStreamingAsync(promptTemplateString, kernelArguments))\n",
    "{\n",
    "   Console.Write(streamChunk);\n",
    "}"
   ]
  }
 ],
 "metadata": {
  "kernelspec": {
   "display_name": ".NET (C#)",
   "language": "C#",
   "name": ".net-csharp"
  },
  "language_info": {
   "name": "python"
  },
  "polyglot_notebook": {
   "kernelInfo": {
    "defaultKernelName": "csharp",
    "items": [
     {
      "aliases": [],
      "name": "csharp"
     }
    ]
   }
  }
 },
 "nbformat": 4,
 "nbformat_minor": 2
}
