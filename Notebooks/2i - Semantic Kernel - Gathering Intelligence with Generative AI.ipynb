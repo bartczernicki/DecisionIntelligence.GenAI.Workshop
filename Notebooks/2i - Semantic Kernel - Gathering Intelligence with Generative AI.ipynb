{
 "cells": [
  {
   "cell_type": "markdown",
   "metadata": {},
   "source": [
    "<img style=\"float: left;padding-right: 10px\" width =\"40px\" src=\"https://raw.githubusercontent.com/bartczernicki/DecisionIntelligence.GenAI.Workshop/main/Images/SemanticKernelLogo.png\">\n",
    "\n",
    "## Semantic Kernel - Gathering Intelligence with Generative AI   "
   ]
  },
  {
   "cell_type": "markdown",
   "metadata": {},
   "source": [
    "### Step 1 - Initialize Configuration Builder & Build the Semantic Kernel Orchestration "
   ]
  },
  {
   "cell_type": "code",
   "execution_count": 1,
   "metadata": {
    "dotnet_interactive": {
     "language": "csharp"
    },
    "polyglot_notebook": {
     "kernelName": "csharp"
    },
    "vscode": {
     "languageId": "polyglot-notebook"
    }
   },
   "outputs": [
    {
     "data": {
      "text/html": [
       "<div><div></div><div></div><div><strong>Installed Packages</strong><ul><li><span>Microsoft.Extensions.Configuration, 9.0.0</span></li><li><span>Microsoft.Extensions.Configuration.Json, 9.0.0</span></li><li><span>Microsoft.SemanticKernel, 1.39.0</span></li><li><span>Microsoft.SemanticKernel.Plugins.Core, 1.39.0-alpha</span></li></ul></div></div>"
      ]
     },
     "metadata": {},
     "output_type": "display_data"
    }
   ],
   "source": [
    "#r \"nuget: Microsoft.Extensions.Configuration, 9.0.0\"\n",
    "#r \"nuget: Microsoft.Extensions.Configuration.Json, 9.0.0\"\n",
    "#r \"nuget: Microsoft.SemanticKernel, 1.39\"\n",
    "#r \"nuget: Microsoft.SemanticKernel.Plugins.Core, 1.39-alpha\"\n",
    "\n",
    "using Microsoft.Extensions.Configuration.Json;\n",
    "using Microsoft.Extensions.Configuration;\n",
    "using Microsoft.SemanticKernel;\n",
    "using Microsoft.SemanticKernel.ChatCompletion;\n",
    "using Microsoft.SemanticKernel.Connectors.OpenAI;\n",
    "using System.IO;\n",
    "\n",
    "var configurationBuilder = new ConfigurationBuilder()\n",
    "    .SetBasePath(Directory.GetCurrentDirectory())\n",
    "    .AddJsonFile(\"local.settings.json\", optional: true, reloadOnChange: true)\n",
    "    .AddJsonFile(\"secrets.settings.json\", optional: true, reloadOnChange: true);\n",
    "var config = configurationBuilder.Build();\n",
    "\n",
    "// IMPORTANT: You ONLY NEED either Azure OpenAI or OpenAI connectiopn info, not both.\n",
    "// Azure OpenAI Connection Info using REASONING o-series of models\n",
    "var azureOpenAIEndpoint = config[\"AzureOpenAI:reasoningEndpoint\"];\n",
    "var azureOpenAIAPIKey = config[\"AzureOpenAI:reasoningAPIKey\"];\n",
    "var azureOpenAIModelDeploymentName = config[\"AzureOpenAI:reasoningModelDeploymentName\"];\n",
    "// OpenAI Connection Info \n",
    "var openAIAPIKey = config[\"OpenAI:APIKey\"];\n",
    "var openAIModelId = config[\"OpenAI:ModelId\"];"
   ]
  },
  {
   "cell_type": "code",
   "execution_count": 2,
   "metadata": {
    "dotnet_interactive": {
     "language": "csharp"
    },
    "polyglot_notebook": {
     "kernelName": "csharp"
    },
    "vscode": {
     "languageId": "polyglot-notebook"
    }
   },
   "outputs": [
    {
     "name": "stdout",
     "output_type": "stream",
     "text": [
      "Using Azure OpenAI Service\r\n"
     ]
    }
   ],
   "source": [
    "using Microsoft.Extensions.DependencyInjection.Extensions;\n",
    "using Microsoft.Extensions.DependencyInjection;\n",
    "using Microsoft.SemanticKernel;\n",
    "using Microsoft.SemanticKernel.ChatCompletion;\n",
    "using Microsoft.SemanticKernel.Connectors.OpenAI;\n",
    "\n",
    "Kernel semanticKernel;\n",
    "\n",
    "// Set the flag to use Azure OpenAI or OpenAI. False to use OpenAI, True to use Azure OpenAI\n",
    "var useAzureOpenAI = true;\n",
    "\n",
    "// Create a new Semantic Kernel instance\n",
    "if (useAzureOpenAI)\n",
    "{\n",
    "    Console.WriteLine(\"Using Azure OpenAI Service\");\n",
    "    semanticKernel = Kernel.CreateBuilder()\n",
    "        .AddAzureOpenAIChatCompletion(\n",
    "            deploymentName: azureOpenAIModelDeploymentName,\n",
    "            endpoint: azureOpenAIEndpoint,\n",
    "            apiKey: azureOpenAIAPIKey)\n",
    "        .Build();\n",
    "}\n",
    "else\n",
    "{\n",
    "    Console.WriteLine(\"Using OpenAI Service\");\n",
    "    semanticKernel = Kernel.CreateBuilder()\n",
    "        .AddOpenAIChatCompletion(\n",
    "            modelId: openAIModelId,\n",
    "            apiKey: openAIAPIKey)\n",
    "        .Build();\n",
    "}\n",
    "\n",
    "var chatCompletionService = semanticKernel.Services.GetRequiredService<IChatCompletionService>();"
   ]
  },
  {
   "cell_type": "markdown",
   "metadata": {},
   "source": [
    "### Step 2 - Gathering Intelligence with Built-In Generative AI Knowledge "
   ]
  },
  {
   "cell_type": "markdown",
   "metadata": {},
   "source": [
    "Generative AI models are trained on very large amounts of data. This data includes decision-making techniques, decision frameworks, reasoning techniques, decision best practices and other adjacent decision data that can help make decisions. Therefore, an obvious step in gathering Decision Intelligence that built-into the GenAI model is important to understand.  \n",
    "\n",
    "Certain models (typically those that have more parameters) have more \"intelligence built-in\". Furthermore, models that specialize in certain tasks or a fine-tuned for a specific domain can also have more intelligence built-in. A great example of model specialization is the OpenAI o-series of models. The o-series of models are advanced reasoning models that are a great fit for decision-making. Therefore, it is a good hypotheses to test if these reasoning models have additional Decision Intelligence data built-in.  \n",
    "\n",
    "Execute the cell below to view the prompt output asking for a \"complete\" list of Decision Frameworks built-into the o1 series of models."
   ]
  },
  {
   "cell_type": "code",
   "execution_count": 4,
   "metadata": {
    "dotnet_interactive": {
     "language": "csharp"
    },
    "polyglot_notebook": {
     "kernelName": "csharp"
    },
    "vscode": {
     "languageId": "polyglot-notebook"
    }
   },
   "outputs": [
    {
     "name": "stdout",
     "output_type": "stream",
     "text": [
      "| Number | Framework Name | Description |\n",
      "| --- | --- | --- |\n",
      "| 1 | SWOT Analysis | Analyzes internal strengths and weaknesses alongside external opportunities and threats, helping to clarify strategic directions. |\n",
      "| 2 | PEST Analysis | Examines Political, Economic, Social, and Technological factors to assess external influences that affect decision outcomes. |\n",
      "| 3 | Decision Matrix Analysis | Uses weighted criteria to systematically compare alternatives, ensuring a clear and objective evaluation of options. |\n",
      "| 4 | Cost-Benefit Analysis | Weighs the expected costs against the potential benefits to identify the most economically advantageous option. |\n",
      "| 5 | Risk Analysis | Identifies potential risks and their impacts, enabling decision-makers to manage uncertainties effectively. |\n",
      "| 6 | Force Field Analysis | Maps driving and restraining forces in a situation, aiding in the development of strategies to overcome resistance. |\n",
      "| 7 | Analytical Hierarchy Process (AHP) | Breaks complex decisions into a hierarchy of criteria and sub-criteria, employing pairwise comparisons to set priorities. |\n",
      "| 8 | Monte Carlo Simulation | Uses probabilistic modeling to simulate various scenarios under uncertainty, offering insights into potential outcomes. |\n",
      "| 9 | Decision Tree Analysis | Visualizes decision paths, associated probabilities, and payoffs, enabling a clear understanding of potential consequences. |\n",
      "| 10 | Scenario Planning | Develops multiple future scenarios to test strategies against different potential environments, enhancing strategic flexibility. |\n",
      "| 11 | Six Thinking Hats | Encourages thinking from diverse perspectives (e.g., emotional, analytical, creative) to ensure a holistic evaluation of issues. |\n",
      "| 12 | Delphi Method | Gathers iterative expert insights to achieve consensus, reducing bias and enhancing decision quality in complex situations. |\n",
      "| 13 | OODA Loop (Observe, Orient, Decide, Act) | Promotes rapid, iterative decision cycles to adapt quickly in dynamic, competitive, or high-pressure environments. |\n",
      "| 14 | Vroom-Yetton Decision Model | Aligns decision-making processes with situational factors by balancing autocratic and participative approaches for optimal leadership decisions. |\n",
      "| 15 | Eisenhower Matrix | Prioritizes tasks based on urgency and importance, guiding individuals to focus on high-impact activities. |\n",
      "| 16 | Pareto Analysis | Identifies the critical few factors that yield the majority of results, streamlining focus and resource allocation. |\n",
      "| 17 | PDCA Cycle (Plan-Do-Check-Act) | Implements continuous improvement through an iterative cycle of planning, execution, evaluation, and refinement. |\n",
      "| 18 | Game Theory | Analyzes strategic interactions where outcomes depend on the actions of multiple agents, enhancing competitive decision-making. |\n",
      "| 19 | Sensitivity Analysis | Tests how variations in key variables affect outcomes, ensuring decisions remain robust under different scenarios. |\n",
      "| 20 | Failure Mode and Effects Analysis (FMEA) | Identifies and prioritizes potential failure points within a process to proactively mitigate risks and enhance reliability. |\r\n"
     ]
    }
   ],
   "source": [
    "// Create a system prompt instruction to override the default system prompt\n",
    "// Add the System Prompt (Persona) to behave like a decision intelligence assistant\n",
    "var systemPromptForDecisions = \"\"\"\n",
    "You are a Decision Intelligence Assistant. \n",
    "Assist the user in exploring options, reasoning through decisions, problem-solving.\n",
    "Apply systems thinking to various scenarios. \n",
    "Provide structured, logical, and comprehensive advice.\n",
    "\"\"\";\n",
    "var decisionAnalysisPrompt = \"\"\"\n",
    "Identify and a very complete list of decision-making frameworks that can enhance the quality of decisions. \n",
    "Briefly describe how each framework supports better analysis and reasoning in different decision-making scenarios.\n",
    "\n",
    "Create a column for the Number (in ascending order), framework name and decsription.\n",
    "Surface the gathered frameworks in a Markdown table format. Do not surround the markdown with triple backticks.\n",
    "Only return the Markdown table no other text.\n",
    "\"\"\";\n",
    "\n",
    "// How the prompt looks like to the LLM\n",
    "var simpleDecisionPromptTemplate = $\"\"\"\n",
    "System Prompt: {systemPromptForDecisions}\n",
    "\n",
    "Request from the user: {decisionAnalysisPrompt}\n",
    "\"\"\";\n",
    "\n",
    "#pragma warning disable SKEXP0010\n",
    "var openAIPromptExecutionSettings = new OpenAIPromptExecutionSettings { \n",
    "    ReasoningEffort = \"high\"\n",
    "};\n",
    "\n",
    "KernelArguments kernelArguments = new KernelArguments(openAIPromptExecutionSettings);\n",
    "var simplePromptResponse = await semanticKernel.InvokePromptAsync(decisionAnalysisPrompt, kernelArguments);\n",
    "Console.WriteLine(simplePromptResponse.GetValue<string>());"
   ]
  },
  {
   "cell_type": "markdown",
   "metadata": {},
   "source": [
    "| Number | Framework Name | Description |\n",
    "| --- | --- | --- |\n",
    "| 1 | SWOT Analysis | Analyzes internal strengths and weaknesses alongside external opportunities and threats, helping to clarify strategic directions. |\n",
    "| 2 | PEST Analysis | Examines Political, Economic, Social, and Technological factors to assess external influences that affect decision outcomes. |\n",
    "| 3 | Decision Matrix Analysis | Uses weighted criteria to systematically compare alternatives, ensuring a clear and objective evaluation of options. |\n",
    "| 4 | Cost-Benefit Analysis | Weighs the expected costs against the potential benefits to identify the most economically advantageous option. |\n",
    "| 5 | Risk Analysis | Identifies potential risks and their impacts, enabling decision-makers to manage uncertainties effectively. |\n",
    "| 6 | Force Field Analysis | Maps driving and restraining forces in a situation, aiding in the development of strategies to overcome resistance. |\n",
    "| 7 | Analytical Hierarchy Process (AHP) | Breaks complex decisions into a hierarchy of criteria and sub-criteria, employing pairwise comparisons to set priorities. |\n",
    "| 8 | Monte Carlo Simulation | Uses probabilistic modeling to simulate various scenarios under uncertainty, offering insights into potential outcomes. |\n",
    "| 9 | Decision Tree Analysis | Visualizes decision paths, associated probabilities, and payoffs, enabling a clear understanding of potential consequences. |\n",
    "| 10 | Scenario Planning | Develops multiple future scenarios to test strategies against different potential environments, enhancing strategic flexibility. |\n",
    "| 11 | Six Thinking Hats | Encourages thinking from diverse perspectives (e.g., emotional, analytical, creative) to ensure a holistic evaluation of issues. |\n",
    "| 12 | Delphi Method | Gathers iterative expert insights to achieve consensus, reducing bias and enhancing decision quality in complex situations. |\n",
    "| 13 | OODA Loop (Observe, Orient, Decide, Act) | Promotes rapid, iterative decision cycles to adapt quickly in dynamic, competitive, or high-pressure environments. |\n",
    "| 14 | Vroom-Yetton Decision Model | Aligns decision-making processes with situational factors by balancing autocratic and participative approaches for optimal leadership decisions. |\n",
    "| 15 | Eisenhower Matrix | Prioritizes tasks based on urgency and importance, guiding individuals to focus on high-impact activities. |\n",
    "| 16 | Pareto Analysis | Identifies the critical few factors that yield the majority of results, streamlining focus and resource allocation. |\n",
    "| 17 | PDCA Cycle (Plan-Do-Check-Act) | Implements continuous improvement through an iterative cycle of planning, execution, evaluation, and refinement. |\n",
    "| 18 | Game Theory | Analyzes strategic interactions where outcomes depend on the actions of multiple agents, enhancing competitive decision-making. |\n",
    "| 19 | Sensitivity Analysis | Tests how variations in key variables affect outcomes, ensuring decisions remain robust under different scenarios. |\n",
    "| 20 | Failure Mode and Effects Analysis (FMEA) | Identifies and prioritizes potential failure points within a process to proactively mitigate risks and enhance reliability. |"
   ]
  },
  {
   "cell_type": "markdown",
   "metadata": {},
   "source": [
    "The prompt paired with the reasoning model above likely returned a list of ~20 (depending on randomness) Decision Frameworks it is aware of. Presumably, because it described these decision frameworks, it should be able to operate on them to make decisions. This highlights just some of decision-making capability of the reasoning series of model. What if there are more decision frameworks that are available? This is potentially just a list of the top frameworks (and certainly not complete) of frameworks the model has identified. There could be a great deal more!\n",
    "\n",
    "The code below will iterate several times (5x) and continue to prompt the GenAI model with the same instruction until a more comprehensive list is built. Notice the output below can have well over 100 decision-frameworks that the o1 series model is aware of."
   ]
  },
  {
   "cell_type": "code",
   "execution_count": 5,
   "metadata": {
    "dotnet_interactive": {
     "language": "csharp"
    },
    "polyglot_notebook": {
     "kernelName": "csharp"
    },
    "vscode": {
     "languageId": "polyglot-notebook"
    }
   },
   "outputs": [
    {
     "name": "stdout",
     "output_type": "stream",
     "text": [
      "Finished Gethering Intelligence Iteration: 1\n",
      "Finished Gethering Intelligence Iteration: 2\n",
      "Finished Gethering Intelligence Iteration: 3\n",
      "Finished Gethering Intelligence Iteration: 4\n",
      "Finished Gethering Intelligence Iteration: 5\n",
      "\n",
      "Filtering for RISK ANALYSIS frameworks...\n",
      "| Number | Decision-Framework Name                                | Value | Description                                                                                                                                                                             |\n",
      "|--------|--------------------------------------------------------|-------|-----------------------------------------------------------------------------------------------------------------------------------------------------------------------------------------|\n",
      "| 1      | Rational Decision-Making Model                         | 9     | Follows logical steps to identify, evaluate, and choose the best alternative based on systematic criteria.                                                                               |\n",
      "| 2      | Multi-Criteria Decision Analysis (MCDA)                | 9     | Evaluates options against multiple weighted criteria, ideal for complex decisions with varied performance measures.                                                                      |\n",
      "| 3      | Analytic Hierarchy Process (AHP)                       | 9     | Breaks down complex decisions into a hierarchy of simpler sub-decisions and applies pairwise comparisons to quantify their relative importance, enhancing structured analysis.      |\n",
      "| 4      | Bayesian Decision Theory                               | 9     | Integrates prior knowledge with new evidence using Bayes' theorem, enabling probabilistic updates and adaptive decision-making under uncertainty.                                        |\n",
      "| 5      | Systems Thinking                                       | 9     | Emphasizes understanding and addressing interdependencies within a whole system, facilitating holistic, long-term solutions over isolated fixes.                                        |\n",
      "| 6      | Real Options Analysis                                  | 9     | Uses financial option theory to evaluate strategic investments by quantifying the value of flexibility under uncertainty, making it ideal for incremental decision-making.           |\n",
      "| 7      | Expected Utility Theory                                | 9     | Maximizes decision quality under uncertainty by calculating the expected outcomes weighted by their utilities, providing a rigorous quantitative basis for choice.                   |\n",
      "| 8      | Cost-Benefit Analysis                                  | 8     | Quantifies and compares the costs and benefits of different options to determine the net value of decisions.                                                                             |\n",
      "| 9      | Decision Trees                                         | 8     | Visual maps that outline decision paths, including possible outcomes, probabilities, and consequences for complex decision processes.                                                    |\n",
      "| 10     | OODA Loop                                              | 8     | A dynamic cyclical framework (Observe, Orient, Decide, Act) that accelerates decision-making in rapidly changing environments.                                                           |\n",
      "| 11     | Six Thinking Hats                                      | 8     | Encourages parallel thinking with distinct perspectives (rational, emotional, creative, etc.) to ensure balanced evaluation of options.                                                  |\n",
      "| 12     | Scenario Planning                                      | 8     | Explores diverse future scenarios to prepare strategies that are robust against uncertainty and external disruptions.                                                                     |\n",
      "| 13     | Failure Modes and Effects Analysis (FMEA)              | 8     | Identifies potential failure points and assesses their impact to proactively mitigate risks and improve decision quality.                                                                  |\n",
      "| 14     | PDCA Cycle                                             | 8     | Implements an iterative loop of planning, doing, checking, and acting for continuous improvement in processes and decisions.                                                              |\n",
      "| 15     | Root Cause Analysis (Five Whys)                        | 8     | Uses iterative questioning to trace a problem back to its underlying cause, ensuring more effective problem-solving.                                                                      |\n",
      "| 16     | Delphi Method                                          | 8     | Aggregates expert opinions through iterative surveys to reach consensus, particularly useful for decisions in uncertain or complex fields.                                               |\n",
      "| 17     | PESTLE Analysis                                        | 8     | Examines Political, Economic, Social, Technological, Legal, and Environmental factors to offer a comprehensive view of the external influences on a decision.                         |\n",
      "| 18     | Cynefin Framework                                      | 8     | Provides a sense-making model that categorizes problems into simple, complicated, complex, and chaotic domains to select the most appropriate decision-making approach.                |\n",
      "| 19     | Game Theory Analysis                                   | 8     | Applies strategic interaction principles to assess and predict the behavior of competing decision-makers, crucial in negotiating and competitive environments.                        |\n",
      "| 20     | Premortem Analysis                                     | 8     | Anticipates potential failures by imagining a decision's failure in advance and then working backward to identify possible causes, enhancing risk mitigation strategies.             |\n"
     ]
    }
   ],
   "source": [
    "// Create a system prompt instruction to override the default system prompt\n",
    "// Add the System Prompt (Persona) to behave like a decision intelligence assistant\n",
    "var markDownTaleOfDecisionFrameworks = string.Empty;\n",
    "\n",
    "// This can quite a long time. View the output results below to see the final markdown table\n",
    "// Note: This is done for illustrative purposes. \n",
    "// Ideally, the markdown formatting and combining of tables should be done in seperate steps for optimal results.\n",
    "for (int i = 0; i != 5; i++)\n",
    "{\n",
    "    var systemPromptForDecisions = $\"\"\"\n",
    "    You are a Decision Intelligence Assistant. \n",
    "    Assist the user in exploring options, reasoning through decisions, problem-solving.\n",
    "    Apply systems thinking to various scenarios. \n",
    "    Provide structured, logical, and comprehensive advice.\n",
    "    \"\"\";\n",
    "    var decisionAnalysisPrompt = $\"\"\"\n",
    "    Identify and a very comprehensive list of decision-making frameworks that can enhance the quality of decisions. \n",
    "    Briefly describe how each framework supports better analysis and reasoning in different decision-making scenarios.\n",
    "\n",
    "    Surface the gathered frameworks in a Markdown table format. Do not surround the markdown with triple backticks.\n",
    "    The FOUR table columns should be: \n",
    "    Number (in ascending order), Decision-Framework Name, \n",
    "    Value (a number between 1 to 10, how valueable the framework is) and Description.\n",
    "    Only return the Markdown table no other text.\n",
    "\n",
    "    This prompt is going to be called several times to gather a full list of decision-making frameworks. \n",
    "    The previous Markdown table is located in the area surrounded by <DecisionMakingFrameworks> tags.\n",
    "    Make sure to copy the table found in the previous responses and append new unique frameworks to the table. \n",
    "    DO NOT discard the previous Markdown table found in the <DecisionMakingFrameworks> tags.\n",
    "    Add new unique frameworks by appending to the previous Markdown table. Do not recreate the table header.\n",
    "    The final Markdown table output should include both:\n",
    "    The previous markdown table (found in the <DecisionMakingFrameworks> Tags) combined with new unique frameworks output in a single table.\n",
    "\n",
    "    <DecisionMakingFrameworks>\n",
    "    {markDownTaleOfDecisionFrameworks}\n",
    "    </DecisionMakingFrameworks>.\n",
    "    \"\"\";\n",
    "\n",
    "    // How the prompt looks like to the LLM\n",
    "    var simpleDecisionPromptTemplate = $\"\"\"\n",
    "    System Prompt: {systemPromptForDecisions}\n",
    "\n",
    "    Request from the user: {decisionAnalysisPrompt}\n",
    "    \"\"\";\n",
    "\n",
    "    // Uncomment this line to view the debugging \n",
    "    // Console.WriteLine(decisionAnalysisPrompt);\n",
    "\n",
    "    var simplePromptResponse = await semanticKernel.InvokePromptAsync(decisionAnalysisPrompt);\n",
    "    // This will append the new markdown table to the previous markdown tables\n",
    "    markDownTaleOfDecisionFrameworks = simplePromptResponse.GetValue<string>();\n",
    "    Console.WriteLine($\"Finished Gethering Intelligence Iteration: {i + 1}\");\n",
    "}\n",
    "\n",
    "Console.WriteLine(string.Empty);\n",
    "Console.WriteLine(\"Filtering for RISK ANALYSIS frameworks...\");\n",
    "\n",
    "// Create a system prompt instruction to filter the markdown table for RISK ANALYSIS frameworks\n",
    "var riskAnalysisFrameworksPrompt = $\"\"\"\n",
    "You have the following Markdown table of decision-making frameworks.\n",
    "The table is located in the area surrounded by <DecisionMakingFrameworks> tags.\n",
    "\n",
    "<DecisionMakingFrameworks>\n",
    "{markDownTaleOfDecisionFrameworks}\n",
    "</DecisionMakingFrameworks>.\n",
    "\n",
    "Select the top 20 frameworks with the highest value (1-10) for RISK ANALYSIS and \n",
    "return them in a Markdown table format in descending order.\n",
    "\n",
    "Dot not provide any other text or explanation.  \n",
    "Return the Markdown table with the top 20 RISK ANALYSIS frameworks without any tick marks (```) or other text.\n",
    "Re-number the frameworks in the table in ascending order starting from 1.\n",
    "\"\"\";\n",
    "\n",
    "var riskAnalysisFrameworksPromptResponse = await semanticKernel.InvokePromptAsync(riskAnalysisFrameworksPrompt);\n",
    "// This will append the new markdown table to the previous markdown tables\n",
    "var riskAnalysisFrameworks = riskAnalysisFrameworksPromptResponse.GetValue<string>();\n",
    "\n",
    "// Write the final count and markdown table to the Console\n",
    "Console.WriteLine(riskAnalysisFrameworks);"
   ]
  },
  {
   "cell_type": "markdown",
   "metadata": {},
   "source": [
    "| Number | Decision-Framework Name                                | Value | Description                                                                                                                                                                             |\n",
    "|--------|--------------------------------------------------------|-------|-----------------------------------------------------------------------------------------------------------------------------------------------------------------------------------------|\n",
    "| 1      | Rational Decision-Making Model                         | 9     | Follows logical steps to identify, evaluate, and choose the best alternative based on systematic criteria.                                                                               |\n",
    "| 2      | Multi-Criteria Decision Analysis (MCDA)                | 9     | Evaluates options against multiple weighted criteria, ideal for complex decisions with varied performance measures.                                                                      |\n",
    "| 3      | Analytic Hierarchy Process (AHP)                       | 9     | Breaks down complex decisions into a hierarchy of simpler sub-decisions and applies pairwise comparisons to quantify their relative importance, enhancing structured analysis.      |\n",
    "| 4      | Bayesian Decision Theory                               | 9     | Integrates prior knowledge with new evidence using Bayes' theorem, enabling probabilistic updates and adaptive decision-making under uncertainty.                                        |\n",
    "| 5      | Systems Thinking                                       | 9     | Emphasizes understanding and addressing interdependencies within a whole system, facilitating holistic, long-term solutions over isolated fixes.                                        |\n",
    "| 6      | Real Options Analysis                                  | 9     | Uses financial option theory to evaluate strategic investments by quantifying the value of flexibility under uncertainty, making it ideal for incremental decision-making.           |\n",
    "| 7      | Expected Utility Theory                                | 9     | Maximizes decision quality under uncertainty by calculating the expected outcomes weighted by their utilities, providing a rigorous quantitative basis for choice.                   |\n",
    "| 8      | Cost-Benefit Analysis                                  | 8     | Quantifies and compares the costs and benefits of different options to determine the net value of decisions.                                                                             |\n",
    "| 9      | Decision Trees                                         | 8     | Visual maps that outline decision paths, including possible outcomes, probabilities, and consequences for complex decision processes.                                                    |\n",
    "| 10     | OODA Loop                                              | 8     | A dynamic cyclical framework (Observe, Orient, Decide, Act) that accelerates decision-making in rapidly changing environments.                                                           |\n",
    "| 11     | Six Thinking Hats                                      | 8     | Encourages parallel thinking with distinct perspectives (rational, emotional, creative, etc.) to ensure balanced evaluation of options.                                                  |\n",
    "| 12     | Scenario Planning                                      | 8     | Explores diverse future scenarios to prepare strategies that are robust against uncertainty and external disruptions.                                                                     |\n",
    "| 13     | Failure Modes and Effects Analysis (FMEA)              | 8     | Identifies potential failure points and assesses their impact to proactively mitigate risks and improve decision quality.                                                                  |\n",
    "| 14     | PDCA Cycle                                             | 8     | Implements an iterative loop of planning, doing, checking, and acting for continuous improvement in processes and decisions.                                                              |\n",
    "| 15     | Root Cause Analysis (Five Whys)                        | 8     | Uses iterative questioning to trace a problem back to its underlying cause, ensuring more effective problem-solving.                                                                      |\n",
    "| 16     | Delphi Method                                          | 8     | Aggregates expert opinions through iterative surveys to reach consensus, particularly useful for decisions in uncertain or complex fields.                                               |\n",
    "| 17     | PESTLE Analysis                                        | 8     | Examines Political, Economic, Social, Technological, Legal, and Environmental factors to offer a comprehensive view of the external influences on a decision.                         |\n",
    "| 18     | Cynefin Framework                                      | 8     | Provides a sense-making model that categorizes problems into simple, complicated, complex, and chaotic domains to select the most appropriate decision-making approach.                |\n",
    "| 19     | Game Theory Analysis                                   | 8     | Applies strategic interaction principles to assess and predict the behavior of competing decision-makers, crucial in negotiating and competitive environments.                        |\n",
    "| 20     | Premortem Analysis                                     | 8     | Anticipates potential failures by imagining a decision's failure in advance and then working backward to identify possible causes, enhancing risk mitigation strategies.             |"
   ]
  },
  {
   "cell_type": "markdown",
   "metadata": {},
   "source": [
    "### Step 3 - Gathering Intelligence with External Knowledge Stores"
   ]
  }
 ],
 "metadata": {
  "kernelspec": {
   "display_name": ".NET (C#)",
   "language": "C#",
   "name": ".net-csharp"
  },
  "language_info": {
   "name": "python"
  },
  "polyglot_notebook": {
   "kernelInfo": {
    "defaultKernelName": "csharp",
    "items": [
     {
      "aliases": [],
      "name": "csharp"
     }
    ]
   }
  }
 },
 "nbformat": 4,
 "nbformat_minor": 2
}
