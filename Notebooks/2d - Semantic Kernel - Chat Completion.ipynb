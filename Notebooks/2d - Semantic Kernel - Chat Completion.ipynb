{
 "cells": [
  {
   "cell_type": "markdown",
   "metadata": {},
   "source": [
    "<img style=\"float: left;padding-right: 10px\" width =\"40px\" src=\"https://raw.githubusercontent.com/bartczernicki/DecisionIntelligence.GenAI.Workshop/main/Images/SemanticKernelLogo.png\">\n",
    "\n",
    "## Semantic Kernel - Chat Completion"
   ]
  },
  {
   "cell_type": "markdown",
   "metadata": {},
   "source": [
    "Decision Intelligence applied in this module:  \n",
    "* Listing of various decision-making frameworks and with their descriptions by using Chat Completion  \n",
    "* Decision Scenario: Recommendation of a decision-making framework for specific higher-stakes decisions (purchase of a car)  \n",
    "* Illustrating a domain specific decision-making framework (millitary intelligence)  \n"
   ]
  },
  {
   "cell_type": "markdown",
   "metadata": {},
   "source": [
    "In this module, the Semantic Kernel ability to create a chat experience will be introduced. This is a much richer experience than just sending simple prompts that are stateless and context is forgotten.\n",
    "\n",
    "Semantic Kernel has first-class support for chat scenarios, where the user talks back and forth with the LLM, the arguments get populated with the history of the conversation. During each new run of the kernel, the arguments will be provided to the AI with content. This allows the LLM to know the historical context of the conversation."
   ]
  },
  {
   "cell_type": "markdown",
   "metadata": {},
   "source": [
    "### Step 1 - Initialize Configuration Builder & Build the Semantic Kernel Orchestration\n",
    "\n",
    "Execute the next two cells to:\n",
    "* Use the Configuration Builder to load the API secrets.  \n",
    "* Use the API configuration to build the Semantic Kernel orchestrator."
   ]
  },
  {
   "cell_type": "code",
   "execution_count": 1,
   "metadata": {
    "dotnet_interactive": {
     "language": "csharp"
    },
    "polyglot_notebook": {
     "kernelName": "csharp"
    },
    "vscode": {
     "languageId": "polyglot-notebook"
    }
   },
   "outputs": [
    {
     "data": {
      "text/html": [
       "<div><div></div><div></div><div><strong>Installed Packages</strong><ul><li><span>Microsoft.Extensions.Configuration, 8.0.0</span></li><li><span>Microsoft.Extensions.Configuration.Json, 8.0.0</span></li></ul></div></div>"
      ]
     },
     "metadata": {},
     "output_type": "display_data"
    }
   ],
   "source": [
    "// Import the required NuGet configuration packages\n",
    "#r \"nuget: Microsoft.Extensions.Configuration, 8.0.0\"\n",
    "#r \"nuget: Microsoft.Extensions.Configuration.Json, 8.0.0\"\n",
    "\n",
    "using Microsoft.Extensions.Configuration;\n",
    "using System.IO;\n",
    "\n",
    "// Load the configuration settings from the local.settings.json and secrets.settings.json files\n",
    "// The secrets.settings.json file is used to store sensitive information such as API keys\n",
    "var configurationBuilder = new ConfigurationBuilder()\n",
    "    .SetBasePath(Directory.GetCurrentDirectory())\n",
    "    .AddJsonFile(\"local.settings.json\", optional: true, reloadOnChange: true)\n",
    "    .AddJsonFile(\"secrets.settings.json\", optional: true, reloadOnChange: true);\n",
    "var config = configurationBuilder.Build();\n",
    "\n",
    "// IMPORTANT: You ONLY NEED either Azure OpenAI or OpenAI connectiopn info, not both.\n",
    "// Azure OpenAI Connection Info\n",
    "var azureOpenAIEndpoint = config[\"AzureOpenAI:Endpoint\"];\n",
    "var azureOpenAIAPIKey = config[\"AzureOpenAI:APIKey\"];\n",
    "var azureOpenAIModelDeploymentName = config[\"AzureOpenAI:ModelDeploymentName\"];\n",
    "// OpenAI Connection Info \n",
    "var openAIAPIKey = config[\"OpenAI:APIKey\"];\n",
    "var openAIModelId = config[\"OpenAI:ModelId\"];"
   ]
  },
  {
   "cell_type": "code",
   "execution_count": 2,
   "metadata": {
    "dotnet_interactive": {
     "language": "csharp"
    },
    "polyglot_notebook": {
     "kernelName": "csharp"
    },
    "vscode": {
     "languageId": "polyglot-notebook"
    }
   },
   "outputs": [
    {
     "data": {
      "text/html": [
       "<div><div></div><div></div><div><strong>Installed Packages</strong><ul><li><span>Microsoft.Extensions.DependencyInjection, 8.0.0</span></li><li><span>Microsoft.SemanticKernel, 1.20.0</span></li></ul></div></div>"
      ]
     },
     "metadata": {},
     "output_type": "display_data"
    },
    {
     "name": "stdout",
     "output_type": "stream",
     "text": [
      "Using Azure OpenAI Service\n"
     ]
    }
   ],
   "source": [
    "// Install the required NuGet packages\n",
    "// Note: This also installs the Dependency Injection Package to retrieve the ChatCompletionService\n",
    "#r \"nuget: Microsoft.Extensions.DependencyInjection, 8.0.0\"\n",
    "#r \"nuget: Microsoft.SemanticKernel, 1.20.0\"\n",
    "\n",
    "using Microsoft.Extensions.DependencyInjection;\n",
    "using Microsoft.SemanticKernel;\n",
    "using Microsoft.SemanticKernel.ChatCompletion;\n",
    "using Microsoft.SemanticKernel.Connectors.OpenAI;\n",
    "\n",
    "Kernel semanticKernel;\n",
    "\n",
    "// Set the flag to use Azure OpenAI or OpenAI. False to use OpenAI, True to use Azure OpenAI\n",
    "var useAzureOpenAI = true;\n",
    "\n",
    "// Create a new Semantic Kernel instance\n",
    "if (useAzureOpenAI)\n",
    "{\n",
    "    Console.WriteLine(\"Using Azure OpenAI Service\");\n",
    "    semanticKernel = Kernel.CreateBuilder()\n",
    "        .AddAzureOpenAIChatCompletion(\n",
    "            deploymentName: azureOpenAIModelDeploymentName,\n",
    "            endpoint: azureOpenAIEndpoint,\n",
    "            apiKey: azureOpenAIAPIKey)\n",
    "        .Build();\n",
    "}\n",
    "else\n",
    "{\n",
    "    Console.WriteLine(\"Using OpenAI Service\");\n",
    "    semanticKernel = Kernel.CreateBuilder()\n",
    "        .AddOpenAIChatCompletion(\n",
    "            modelId: openAIModelId,\n",
    "            apiKey: openAIAPIKey)\n",
    "        .Build();\n",
    "}\n",
    "\n",
    "var chatCompletionService = semanticKernel.Services.GetRequiredService<IChatCompletionService>();"
   ]
  },
  {
   "cell_type": "markdown",
   "metadata": {},
   "source": [
    "### Step 2 - Execute Chat Completion with Prompt Execution Settings\n",
    "\n",
    "> \"If you can’t describe what you are doing as a process, you don’t know what you’re doing.\" \n",
    ">\n",
    "> -- <cite>W. Edwards Deming (renowned American engineer, statistician, and management consultant)</cite>  \n",
    "\n",
    "\n",
    "Using the Semantic Kernel ChatCompletion service is very similar to inovoking a prompt for basic LLM interactions. The chat completion service will provide very similar results to invoking the prompt directly."
   ]
  },
  {
   "cell_type": "code",
   "execution_count": 3,
   "metadata": {
    "dotnet_interactive": {
     "language": "csharp"
    },
    "polyglot_notebook": {
     "kernelName": "csharp"
    },
    "vscode": {
     "languageId": "polyglot-notebook"
    }
   },
   "outputs": [
    {
     "name": "stdout",
     "output_type": "stream",
     "text": [
      "Certainly! Here’s a list of decision frameworks that can help improve the quality of decisions:\n",
      "\n",
      "1. **SWOT Analysis**:\n",
      "   - Evaluates Strengths, Weaknesses, Opportunities, and Threats related to a decision or project.\n",
      "\n",
      "2. **Decision Matrix**:\n",
      "   - A grid that helps prioritize options based on specific criteria, allowing for a systematic comparison.\n",
      "\n",
      "3. **Cost-Benefit Analysis**:\n",
      "   - Compares the costs and benefits of different options to determine the most economically viable choice.\n",
      "\n",
      "4. **Pareto Analysis**:\n",
      "   - Focuses on identifying the most significant factors contributing to a problem, based on the 80/20 rule.\n",
      "\n",
      "5. **Multi-Criteria Decision Analysis (MCDA)**:\n",
      "   - Evaluates multiple conflicting criteria in decision-making, often using weighted scoring.\n",
      "\n",
      "6. **The Eisenhower Matrix**:\n",
      "   - Prioritizes tasks based on urgency and importance, helping to focus on what truly matters.\n",
      "\n",
      "7. **OODA Loop (Observe, Orient, Decide, Act)**:\n",
      "   - A decision-making process that emphasizes agility and adaptability in dynamic environments.\n",
      "\n",
      "8. **Six Thinking Hats**:\n",
      "   - Encourages looking at decisions from multiple perspectives (e.g., emotional, analytical, creative) to foster comprehensive thinking.\n",
      "\n",
      "9. **Scenario Planning**:\n",
      "   - Involves creating and analyzing different future scenarios to understand potential impacts and prepare for uncertainties.\n",
      "\n",
      "10. **Root Cause Analysis**:\n",
      "    - Identifies the underlying causes of a problem to ensure that decisions address the root issues rather than symptoms.\n",
      "\n",
      "11. **FMEA (Failure Mode and Effects Analysis)**:\n",
      "    - A systematic approach to identifying potential failure modes and their impacts, helping to prioritize risks.\n",
      "\n",
      "12. **The Delphi Method**:\n",
      "    - A structured communication technique that gathers expert opinions through rounds of questionnaires, aiming for consensus.\n",
      "\n",
      "13. **Value Proposition Canvas**:\n",
      "    - Helps clarify the value offered to customers, ensuring decisions align with customer needs and preferences.\n",
      "\n",
      "14. **Risk Assessment Matrix**:\n",
      "    - Evaluates the likelihood and impact of risks associated with different options, aiding in informed decision-making.\n",
      "\n",
      "15. **Balanced Scorecard**:\n",
      "    - A strategic planning and management system that aligns business activities to the vision and strategy of the organization.\n",
      "\n",
      "16. **The 5 Whys**:\n",
      "    - A simple technique for exploring the cause-and-effect relationships underlying a particular problem.\n",
      "\n",
      "17. **Mind Mapping**:\n",
      "    - A visual tool that helps organize thoughts and ideas, facilitating a clearer understanding of complex decisions.\n",
      "\n",
      "18. **Cognitive Bias Mitigation Techniques**:\n",
      "    - Strategies to recognize and counteract cognitive biases that can distort decision-making.\n",
      "\n",
      "Using these frameworks can enhance clarity, structure, and effectiveness in decision-making processes, leading to better outcomes.\n"
     ]
    }
   ],
   "source": [
    "// Simple prompt to list some decision frameworks this GenAI LLM is familiar with \n",
    "// LLMs are trained on a diverse range of data and can provide insights on a wide range of topics like decision frameworks\n",
    "// SLMS (smaller LLMs) are trained on a more specific range of data and may not provide insights on all topics\n",
    "var simpleDecisionPrompt = \"\"\"\n",
    "Provide a list of decision frameworks that can help improve the quality of decisions.\n",
    "\"\"\";\n",
    "\n",
    "// Create a new OpenAI prompt execution settings object\n",
    "var openAIPromptExecutionSettings = new OpenAIPromptExecutionSettings { \n",
    "    MaxTokens = 2500, \n",
    "    Temperature = 0.1, \n",
    "    TopP = 1.0, \n",
    "    FrequencyPenalty = 0.0, \n",
    "    PresencePenalty = 0.0\n",
    "    };\n",
    "\n",
    "var chatResult = await chatCompletionService.GetChatMessageContentAsync(simpleDecisionPrompt, openAIPromptExecutionSettings);\n",
    "\n",
    "Console.WriteLine(chatResult.Content);"
   ]
  },
  {
   "cell_type": "markdown",
   "metadata": {},
   "source": [
    "### Step 3 - Execute a Semantic Kernel Chat Completion with Streaming\n",
    "\n",
    "Semantic Kernel supports prompt response streaming in the ChatCompletionService. This allows responses to be streamed to the client as soon as they are made available by the LLM and API services. Below the same decision prompt is executed. However, notice that chunks are streamed and can be read by the user as soon as they appear. "
   ]
  },
  {
   "cell_type": "code",
   "execution_count": 4,
   "metadata": {
    "dotnet_interactive": {
     "language": "csharp"
    },
    "polyglot_notebook": {
     "kernelName": "csharp"
    },
    "vscode": {
     "languageId": "polyglot-notebook"
    }
   },
   "outputs": [
    {
     "name": "stdout",
     "output_type": "stream",
     "text": [
      "Here are several decision frameworks that can enhance the quality of decision-making:\n",
      "\n",
      "1. **SWOT Analysis**: Evaluates Strengths, Weaknesses, Opportunities, and Threats related to a decision or strategic initiative.\n",
      "\n",
      "2. **DECIDE Model**: A structured approach including Define the problem, Establish criteria, Consider alternatives, Identify the best alternative, Develop and implement a plan, and Evaluate the decision.\n",
      "\n",
      "3. **Cost-Benefit Analysis (CBA)**: Compares the costs and benefits of different options to determine the most economically advantageous choice.\n",
      "\n",
      "4. **Decision Matrix (Pugh Matrix)**: A grid that evaluates and prioritizes options based on multiple criteria, helping to visually represent trade-offs.\n",
      "\n",
      "5. **Pareto Analysis**: Focuses on identifying the most impactful factors in a decision, often summarized by the 80/20 rule, which suggests that 80% of effects come from 20% of the causes.\n",
      "\n",
      "6. **Risk Assessment Framework**: Analyzes potential risks associated with different decisions, including likelihood and impact, allowing for more informed risk management.\n",
      "\n",
      "7. **Six Thinking Hats**: Encourages individuals to look at a decision from multiple perspectives (emotional, analytical, creative, etc.) to ensure a well-rounded approach.\n",
      "\n",
      "8. **OODA Loop (Observe, Orient, Decide, Act)**: A cyclical process for making decisions based on rapid observation and adaptation, often used in military strategy.\n",
      "\n",
      "9. **Weighted Decision Matrix**: Similar to a decision matrix but assigns weights to various criteria based on their relative importance, making it easier to see how different options stack up.\n",
      "\n",
      "10. **Scenario Planning**: Involves imagining and analyzing various future scenarios to prepare for uncertainties and understand potential impacts of decisions.\n",
      "\n",
      "11. **Feedback Loops**: Incorporating a systematic approach to gather feedback post-decision to assess effectiveness and make adjustments in future decision-making.\n",
      "\n",
      "12. **Multi-Criteria Decision Analysis (MCDA)**: A formalized approach to evaluating multiple conflicting criteria in decision-making, useful for complex decisions.\n",
      "\n",
      "13. **The 5 Whys**: A root cause analysis technique that involves asking \"why\" repeatedly to drill down to the fundamental issue behind a decision.\n",
      "\n",
      "14. **Ishikawa (Fishbone) Diagram**: Visually maps out causes and effects to systematically explore potential factors influencing a decision.\n",
      "\n",
      "15. **FMEA (Failure Mode and Effects Analysis)**: A proactive approach to identify potential failure modes and their impact in advance, helping to prioritize actions for risk mitigation.\n",
      "\n",
      "These frameworks can be used individually or in combination to enhance clarity, reduce biases, and improve the overall quality of decisions."
     ]
    }
   ],
   "source": [
    "// Stream the chat completion response\n",
    "await foreach (var content in chatCompletionService.GetStreamingChatMessageContentsAsync(simpleDecisionPrompt))\n",
    "{\n",
    "    Console.Write(content);\n",
    "}"
   ]
  },
  {
   "cell_type": "markdown",
   "metadata": {},
   "source": [
    "### Step 4 - Execute a Semantic Kernel with Chat History\n",
    "\n",
    "Semantic Kernel has a ChatHistory object that can be used with the ChatCompletionService to provide historical chat context to the LLM. Notice that the ChatHistory object differentiates between the different types of chat messages:\n",
    "* System Message - System or MetaPrompt. These are usually global instructions that set the \"overall rules\" for interacting with the LLMs.\n",
    "* User Message - A message from the user\n",
    "* Assistant Message - A message from the LLM. This is a message generated from an assistant or an agent. \n",
    "\n",
    "Identifying the messages from which role (user) it came from can help the LLM improve its own reasoning responses. This is a more sophisticated approach than passing chat history in a long dynamic string. ChatHistory objects can be serialized and persisted into databases as well."
   ]
  },
  {
   "cell_type": "code",
   "execution_count": 6,
   "metadata": {
    "dotnet_interactive": {
     "language": "csharp"
    },
    "polyglot_notebook": {
     "kernelName": "csharp"
    },
    "vscode": {
     "languageId": "polyglot-notebook"
    }
   },
   "outputs": [
    {
     "name": "stdout",
     "output_type": "stream",
     "text": [
      "Certainly! Here are five decision frameworks that can enhance decision-making quality:\n",
      "\n",
      "### 1. **SWOT Analysis**\n",
      "   - **Description**: SWOT (Strengths, Weaknesses, Opportunities, Threats) analysis helps evaluate internal and external factors influencing a decision.\n",
      "   - **How to Use**:\n",
      "     - **Strengths**: Identify what advantages you have.\n",
      "     - **Weaknesses**: Recognize limitations or areas that need improvement.\n",
      "     - **Opportunities**: Explore external chances to grow or improve.\n",
      "     - **Threats**: Acknowledge external challenges that could hinder progress.\n",
      "   - **Application**: Useful for strategic planning and evaluating business initiatives.\n",
      "\n",
      "### 2. **Decision Matrix Analysis**\n",
      "   - **Description**: This framework helps in evaluating and prioritizing multiple options based on various criteria.\n",
      "   - **Steps**:\n",
      "     1. List options on one axis and criteria on the other.\n",
      "     2. Rate each option against the criteria.\n",
      "     3. Assign weights to each criterion based on importance.\n",
      "     4. Calculate a total score for each option to identify the best choice.\n",
      "   - **Application**: Ideal for situations with multiple alternatives and measurable criteria, such as product selection or vendor comparison.\n",
      "\n",
      "### 3. **Vroom-Yetton Decision Model**\n",
      "   - **Description**: This model aids in determining the level of involvement employees should have in the decision-making process.\n",
      "   - **Steps**:\n",
      "     1. Assess the significance of the decision.\n",
      "     2. Evaluate the importance of team input and expertise.\n",
      "     3. Follow a decision tree to choose between autocratic, consultative, or group-based decision-making options.\n",
      "   - **Application**: Appropriate for leadership decisions and fostering teamwork.\n",
      "\n",
      "### 4. **Cost-Benefit Analysis (CBA)**\n",
      "   - **Description**: A systematic approach to estimating the strengths and weaknesses of alternatives.\n",
      "   - **Steps**:\n",
      "     1. Identify the costs and benefits associated with each option.\n",
      "     2. Quantify and compare them.\n",
      "     3. Assess whether benefits outweigh costs and by how much.\n",
      "   - **Application**: Useful in project management, business investments, or public policy decisions.\n",
      "\n",
      "### 5. **OODA Loop (Observe, Orient, Decide, Act)**\n",
      "   - **Description**: A strategic decision-making model developed for fast-paced environments.\n",
      "   - **Steps**:\n",
      "     1. **Observe**: Gather information about the situation.\n",
      "     2. **Orient**: Analyze the information and your position in relation to the environment.\n",
      "     3. **Decide**: Formulate a plan based on the analysis.\n",
      "     4. **Act**: Implement the decision and monitor results.\n",
      "   - **Application**: Effective in crisis management, competitive strategy, and iterative processes.\n",
      "\n",
      "### Conclusion\n",
      "Each framework has unique strengths and fits different contexts. It’s often beneficial to combine aspects of several frameworks to adapt to the specific situation at hand. Consider the nature of the decision, the information available, and the stakeholders involved to select the most appropriate framework for your needs."
     ]
    }
   ],
   "source": [
    "// Set the overall system prompt to behave like a decision intelligence assistant (persona)\n",
    "var systemPrompt = \"\"\"\n",
    "You are a decision intelligence assistant. \n",
    "Assist the user in exploring options, reasoning through decisions, problem-solving, and applying systems thinking to various scenarios. \n",
    "Provide structured, logical, and comprehensive advice.\n",
    "\"\"\";\n",
    "\n",
    "// Simple instruction prompt to list 5 (five) decision frameworks this GenAI LLM is familiar with\n",
    "var simpleDecisionPrompt = \"\"\"\n",
    "Provide five decision frameworks that can help improve the quality of decisions.\n",
    "\"\"\";\n",
    "\n",
    "var chatHistory = new ChatHistory();\n",
    "chatHistory.AddSystemMessage(systemPrompt);\n",
    "chatHistory.AddUserMessage(simpleDecisionPrompt);\n",
    "\n",
    "var chatResponse = string.Empty;\n",
    "await foreach (var content in chatCompletionService.GetStreamingChatMessageContentsAsync(chatHistory))\n",
    "{\n",
    "    chatResponse += content;\n",
    "    Console.Write(content);\n",
    "}\n",
    "chatHistory.AddAssistantMessage(chatResponse);"
   ]
  },
  {
   "cell_type": "markdown",
   "metadata": {},
   "source": [
    "### Step 5 - Using Semantic Kernel Chat History in Conversation\n",
    "\n",
    "With Semantic Kernel maintaining state with the ChatHistory object, a user can interact with the LLM in a natural way. Note the interaction below, where the user is asking which of the particular decision frameworks are best suited to purchase a car. Without the ChatHistory being passed along, the LLM would not have had the proper context to answer the question.\n",
    "\n",
    "> \"Price is what you pay. Value is what you get.\"  \n",
    ">\n",
    "> -- <cite>Warren Buffet (one of the most successful investors of all time)</cite>  "
   ]
  },
  {
   "cell_type": "code",
   "execution_count": 7,
   "metadata": {
    "dotnet_interactive": {
     "language": "csharp"
    },
    "polyglot_notebook": {
     "kernelName": "csharp"
    },
    "vscode": {
     "languageId": "polyglot-notebook"
    }
   },
   "outputs": [
    {
     "name": "stdout",
     "output_type": "stream",
     "text": [
      "For making a decision to purchase a car, the **Decision Matrix Analysis** would be the best choice. \n",
      "\n",
      "### Rationale:\n",
      "1. **Multiple Options**: When purchasing a car, there are often several models, brands, and types (e.g., sedan, SUV, electric, hybrid) to consider.\n",
      "2. **Criteria for Evaluation**: Different criteria can be weighed, such as price, fuel efficiency, safety ratings, maintenance costs, and features (e.g., technology, comfort).\n",
      "3. **Quantitative Approach**: By assigning scores and weights to criteria, you can create a structured approach to objectively evaluate and compare your options, helping to alleviate decision fatigue.\n",
      "\n",
      "### Steps to Implement:\n",
      "1. **List Car Options**: Write down the various car models you are considering.\n",
      "2. **Define Criteria**: Identify important criteria for your decision (e.g., cost, reliability, resale value, insurance rates).\n",
      "3. **Rate Each Option**: Score each car based on how well it meets each criterion.\n",
      "4. **Assign Weights**: Determine which criteria are most important to you and assign weights accordingly.\n",
      "5. **Calculate Scores**: Multiply the ratings by the weights and sum them to see which car has the highest score.\n",
      "\n",
      "By using Decision Matrix Analysis, you can make a clear, rational, and informed decision about the car that best fits your needs and preferences."
     ]
    }
   ],
   "source": [
    "// Simple prompt that asks a follow-up question about the purchase of a car\n",
    "// Note: No reference is made to what previous frameworks were listed.\n",
    "// Note: Previous context is maintained by the Semantic Kernel ChatHistory object \n",
    "var simpleDecisionPromptFollowup = \"\"\"\n",
    "Which of these 5 decision frameworks would work best for making a decision to purchase a car. \n",
    "Select only the single best one.\n",
    "\"\"\";\n",
    "\n",
    "// Add User message to the chat history\n",
    "chatHistory.AddUserMessage(simpleDecisionPromptFollowup);\n",
    "\n",
    "var chatResponse = string.Empty;\n",
    "await foreach (var content in chatCompletionService.GetStreamingChatMessageContentsAsync(chatHistory))\n",
    "{\n",
    "    chatResponse += content;\n",
    "    Console.Write(content);\n",
    "}\n",
    "\n",
    "// Add Assistant message to the chat history\n",
    "chatHistory.AddAssistantMessage(chatResponse);"
   ]
  },
  {
   "cell_type": "markdown",
   "metadata": {},
   "source": [
    "> \"Take time to deliberate, but when the time for action comes, stop thinking and go in.\"\n",
    ">\n",
    "> -- <cite>Napoleon Bornaparte (French Emporer and brilliant military mind)</cite>  "
   ]
  },
  {
   "cell_type": "code",
   "execution_count": 8,
   "metadata": {
    "dotnet_interactive": {
     "language": "csharp"
    },
    "polyglot_notebook": {
     "kernelName": "csharp"
    },
    "vscode": {
     "languageId": "polyglot-notebook"
    }
   },
   "outputs": [
    {
     "name": "stdout",
     "output_type": "stream",
     "text": [
      "The **OODA Loop (Observe, Orient, Decide, Act)** is predominantly used by the military intelligence community. \n",
      "\n",
      "### Rationale:\n",
      "1. **Dynamic Environments**: The OODA Loop is designed for fast-paced and often chaotic situations where quick decision-making is crucial, such as in military operations and intelligence assessments.\n",
      "2. **Iterative Process**: It emphasizes continuous observation and adaptation, allowing military leaders to respond to changing conditions on the battlefield or during intelligence operations.\n",
      "3. **Situational Awareness**: The framework encourages a deep understanding of the operational environment, which is essential for effective strategic planning and decision-making in military contexts.\n",
      "\n",
      "### Application in Military Intelligence:\n",
      "- The OODA Loop helps military strategists analyze enemy actions and intentions, adjust tactics, and improve decision-making processes.\n",
      "- It supports commanders in making timely and informed choices based on real-time intelligence and situational dynamics.\n",
      "\n",
      "Overall, the OODA Loop's focus on agility in decision-making makes it particularly suitable for the military intelligence community."
     ]
    }
   ],
   "source": [
    "// Note: No reference is made to what previous frameworks were listed.\n",
    "// Note: Previous context is maintained by the Semantic Kernel ChatHistory object \n",
    "var simpleDecisionPromptFollowupPartTwo = \"\"\"\n",
    "Which of these 5 decision frameworks listed above are used by the military intelligence community?\n",
    "\"\"\";\n",
    "\n",
    "// Add User message to the chat history\n",
    "chatHistory.AddUserMessage(simpleDecisionPromptFollowupPartTwo);\n",
    "\n",
    "var chatResponse = string.Empty;\n",
    "await foreach (var content in chatCompletionService.GetStreamingChatMessageContentsAsync(chatHistory))\n",
    "{\n",
    "    chatResponse += content;\n",
    "    Console.Write(content);\n",
    "}\n",
    "\n",
    "// Add Assistant message to the chat history\n",
    "chatHistory.AddAssistantMessage(chatResponse);"
   ]
  },
  {
   "cell_type": "markdown",
   "metadata": {},
   "source": [
    "### Step 6 - Semantic Kernel inspecting Chat History \n",
    "\n",
    "The Semantic Kernel Chat History is a transparent object that can be inspected and written out. In fact, the ChatHistory object can be manipulated to replay chats from middle interactions to simulate different outcomes.\n",
    "\n",
    "Execute the cell below to write out the Semantic Kernel Chat History of this chat."
   ]
  },
  {
   "cell_type": "code",
   "execution_count": 9,
   "metadata": {
    "dotnet_interactive": {
     "language": "csharp"
    },
    "polyglot_notebook": {
     "kernelName": "csharp"
    },
    "vscode": {
     "languageId": "polyglot-notebook"
    }
   },
   "outputs": [
    {
     "name": "stdout",
     "output_type": "stream",
     "text": [
      "Number of chat interactions: 7\n",
      "# system: You are a decision intelligence assistant. \n",
      "Assist the user in exploring options, reasoning through decisions, problem-solving, and applying systems thinking to various scenarios. \n",
      "Provide structured, logical, and comprehensive advice.\n",
      "# user: Provide five decision frameworks that can help improve the quality of decisions.\n",
      "# assistant: Certainly! Here are five decision frameworks that can enhance decision-making quality:\n",
      "\n",
      "### 1. **SWOT Analysis**\n",
      "   - **Description**: SWOT (Strengths, Weaknesses, Opportunities, Threats) analysis helps evaluate internal and external factors influencing a decision.\n",
      "   - **How to Use**:\n",
      "     - **Strengths**: Identify what advantages you have.\n",
      "     - **Weaknesses**: Recognize limitations or areas that need improvement.\n",
      "     - **Opportunities**: Explore external chances to grow or improve.\n",
      "     - **Threats**: Acknowledge external challenges that could hinder progress.\n",
      "   - **Application**: Useful for strategic planning and evaluating business initiatives.\n",
      "\n",
      "### 2. **Decision Matrix Analysis**\n",
      "   - **Description**: This framework helps in evaluating and prioritizing multiple options based on various criteria.\n",
      "   - **Steps**:\n",
      "     1. List options on one axis and criteria on the other.\n",
      "     2. Rate each option against the criteria.\n",
      "     3. Assign weights to each criterion based on importance.\n",
      "     4. Calculate a total score for each option to identify the best choice.\n",
      "   - **Application**: Ideal for situations with multiple alternatives and measurable criteria, such as product selection or vendor comparison.\n",
      "\n",
      "### 3. **Vroom-Yetton Decision Model**\n",
      "   - **Description**: This model aids in determining the level of involvement employees should have in the decision-making process.\n",
      "   - **Steps**:\n",
      "     1. Assess the significance of the decision.\n",
      "     2. Evaluate the importance of team input and expertise.\n",
      "     3. Follow a decision tree to choose between autocratic, consultative, or group-based decision-making options.\n",
      "   - **Application**: Appropriate for leadership decisions and fostering teamwork.\n",
      "\n",
      "### 4. **Cost-Benefit Analysis (CBA)**\n",
      "   - **Description**: A systematic approach to estimating the strengths and weaknesses of alternatives.\n",
      "   - **Steps**:\n",
      "     1. Identify the costs and benefits associated with each option.\n",
      "     2. Quantify and compare them.\n",
      "     3. Assess whether benefits outweigh costs and by how much.\n",
      "   - **Application**: Useful in project management, business investments, or public policy decisions.\n",
      "\n",
      "### 5. **OODA Loop (Observe, Orient, Decide, Act)**\n",
      "   - **Description**: A strategic decision-making model developed for fast-paced environments.\n",
      "   - **Steps**:\n",
      "     1. **Observe**: Gather information about the situation.\n",
      "     2. **Orient**: Analyze the information and your position in relation to the environment.\n",
      "     3. **Decide**: Formulate a plan based on the analysis.\n",
      "     4. **Act**: Implement the decision and monitor results.\n",
      "   - **Application**: Effective in crisis management, competitive strategy, and iterative processes.\n",
      "\n",
      "### Conclusion\n",
      "Each framework has unique strengths and fits different contexts. It’s often beneficial to combine aspects of several frameworks to adapt to the specific situation at hand. Consider the nature of the decision, the information available, and the stakeholders involved to select the most appropriate framework for your needs.\n",
      "# user: Which of these 5 decision frameworks would work best for making a decision to purchase a car. \n",
      "Select only the single best one.\n",
      "# assistant: For making a decision to purchase a car, the **Decision Matrix Analysis** would be the best choice. \n",
      "\n",
      "### Rationale:\n",
      "1. **Multiple Options**: When purchasing a car, there are often several models, brands, and types (e.g., sedan, SUV, electric, hybrid) to consider.\n",
      "2. **Criteria for Evaluation**: Different criteria can be weighed, such as price, fuel efficiency, safety ratings, maintenance costs, and features (e.g., technology, comfort).\n",
      "3. **Quantitative Approach**: By assigning scores and weights to criteria, you can create a structured approach to objectively evaluate and compare your options, helping to alleviate decision fatigue.\n",
      "\n",
      "### Steps to Implement:\n",
      "1. **List Car Options**: Write down the various car models you are considering.\n",
      "2. **Define Criteria**: Identify important criteria for your decision (e.g., cost, reliability, resale value, insurance rates).\n",
      "3. **Rate Each Option**: Score each car based on how well it meets each criterion.\n",
      "4. **Assign Weights**: Determine which criteria are most important to you and assign weights accordingly.\n",
      "5. **Calculate Scores**: Multiply the ratings by the weights and sum them to see which car has the highest score.\n",
      "\n",
      "By using Decision Matrix Analysis, you can make a clear, rational, and informed decision about the car that best fits your needs and preferences.\n",
      "# user: Which of these 5 decision frameworks listed above are used by the military intelligence community?\n",
      "# assistant: The **OODA Loop (Observe, Orient, Decide, Act)** is predominantly used by the military intelligence community. \n",
      "\n",
      "### Rationale:\n",
      "1. **Dynamic Environments**: The OODA Loop is designed for fast-paced and often chaotic situations where quick decision-making is crucial, such as in military operations and intelligence assessments.\n",
      "2. **Iterative Process**: It emphasizes continuous observation and adaptation, allowing military leaders to respond to changing conditions on the battlefield or during intelligence operations.\n",
      "3. **Situational Awareness**: The framework encourages a deep understanding of the operational environment, which is essential for effective strategic planning and decision-making in military contexts.\n",
      "\n",
      "### Application in Military Intelligence:\n",
      "- The OODA Loop helps military strategists analyze enemy actions and intentions, adjust tactics, and improve decision-making processes.\n",
      "- It supports commanders in making timely and informed choices based on real-time intelligence and situational dynamics.\n",
      "\n",
      "Overall, the OODA Loop's focus on agility in decision-making makes it particularly suitable for the military intelligence community.\n"
     ]
    }
   ],
   "source": [
    "// Print the number of chat interactions and the chat history (turns)\n",
    "Console.WriteLine(\"Number of chat interactions: \" + chatHistory.Count());\n",
    "\n",
    "foreach (var message in chatHistory)\n",
    "{\n",
    "    Console.WriteLine($\"# {message.Role}: {message.Content}\");\n",
    "}"
   ]
  }
 ],
 "metadata": {
  "kernelspec": {
   "display_name": ".NET (C#)",
   "language": "C#",
   "name": ".net-csharp"
  },
  "language_info": {
   "name": "csharp"
  },
  "polyglot_notebook": {
   "kernelInfo": {
    "defaultKernelName": "csharp",
    "items": [
     {
      "aliases": [],
      "name": "csharp"
     }
    ]
   }
  }
 },
 "nbformat": 4,
 "nbformat_minor": 2
}
