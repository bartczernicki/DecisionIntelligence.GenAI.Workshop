{
 "cells": [
  {
   "cell_type": "markdown",
   "metadata": {},
   "source": [
    "<div style=\"display: flex; align-items: center;\">\n",
    "  <img src=\"https://raw.githubusercontent.com/bartczernicki/DecisionIntelligence.GenAI.Workshop/main/Images/SemanticKernelLogo.png\" width=\"40px\" style=\"margin-right: 10px;\">\n",
    "  <span style=\"font-size: 1.5em; font-weight: bold;\">Semantic Kernel - Decisions with Semantic Functions</span>\n",
    "</div>"
   ]
  },
  {
   "cell_type": "markdown",
   "metadata": {},
   "source": [
    "Decision Intelligence applied in this module:  \n",
    "* Listing of various decision-making frameworks with their descriptions \n",
    "* Listing types of decision-making frameworks dynamically based on the type  "
   ]
  },
  {
   "cell_type": "markdown",
   "metadata": {},
   "source": [
    "Semantic Kernel Functions are the core building blocks of functionality for intelligent AI orchestration. Semantic Kernel functions usually have a single responsibility to perform. For example, a Sementic Kernel function can: send an e-mail, call an API, recommend a reasoning framework for a high-stakes decision etc. \n",
    "\n",
    "What makes Semantic Kernel functions so special? Can't one just produce similar outcomes by using a prompt in an LLM or just writing a software program? In order to answer that, one has to look at what makes GenAI so innovative. The GenAI models have a unique ability to process instructions with reasoning and logic. This allows these models to behave almost like a human decision maker. Even with basic prompts, GenAI models perform reasonably well. However, providing GenAI models with additional functions allows them to gain access to business processes, data and basically anything a GenAI model should consider when performing AI orchestration. \n",
    "\n",
    "For example, imagine you want to prepare a great Thanksgiving dinner and want to get help from a GenAI cooking application to create a new recipe. You enter what you want todo and it comes up with the most delicious looking feast for Thanksgiving. However, there is a problem it used ingredients and recommended using cooking appliances that you do not own! You could enter all of the ingredients and keep prompting until it narrowed down the what you could realistically make. Wouldn't it be better if the GenAI cooking application had access to: your available ingredients, your time availability, kitchen appliances and even your allergic preferences. Now the GenAI model can craft a Thanksgiving feast understanding the parameters and data without having to be guided. This is exactly what Semantic Kernel functions provide.\n",
    "\n",
    "Semantic Kernel functions come in two flavors: \n",
    "* Semantic functions\n",
    "* Native functions\n",
    "\n",
    "Semantic functions are basically **prompt instructions** that help guide GenAI LLMs around the specific guidelines it should adhere to when building the AI orchestration. Therefore, semantic functions are likely the first place most AI architects/engineers start when composing AI orchestration with Semantic Kernel. Semantic functions can also take in parameters for dynamic creaation of instructions.  "
   ]
  },
  {
   "cell_type": "markdown",
   "metadata": {},
   "source": [
    "Below is an example of semantic function that can be used for facilitating decision-making. Note the **{{$decisionToMake}}** input where the parameter can be dynamically passed in to provide additional specificity.\n",
    "\n",
    "```javascript\n",
    "[DECISION FRAMEWORKS TO USE]\n",
    "Price's Law\n",
    "Pareto Principle\n",
    "Laplace Rule of Succession\n",
    "Eisenhower Matrix\n",
    "Median Rule of Five\n",
    "Second Order Thinking\n",
    "\n",
    "[DECISION GUIDANCE]\n",
    "Try to use the best fitting framework.  \n",
    "Prefer using quantitative decision frameworks rather qualitative ones.  \n",
    "Use the code interpreter to validate quantitative reasoning.\n",
    "\n",
    "Use the decision frameworks above to help the user make the following decision:\n",
    "{{$decisionToMake}}\n",
    "```  \n",
    "\n",
    "The image below illustrates the core value of semantic functions. \n",
    "\n",
    "<img style=\"display: block; margin: auto;\" width =\"500px\" src=\"https://learn.microsoft.com/en-us/semantic-kernel/media/semantic-function-explainer.png\">"
   ]
  },
  {
   "cell_type": "markdown",
   "metadata": {},
   "source": [
    "----\n",
    "### Step 1 - Initialize Configuration Builder & Build the Semantic Kernel Orchestration "
   ]
  },
  {
   "cell_type": "markdown",
   "metadata": {},
   "source": [
    "Execute the next two cells to:\n",
    "* Use the Configuration Builder to load the API secrets.  \n",
    "* Use the API configuration to build the Semantic Kernel orchestrator."
   ]
  },
  {
   "cell_type": "code",
   "execution_count": 1,
   "metadata": {
    "dotnet_interactive": {
     "language": "csharp"
    },
    "polyglot_notebook": {
     "kernelName": "csharp"
    }
   },
   "outputs": [
    {
     "data": {
      "text/html": [
       "<div><div></div><div></div><div><strong>Installed Packages</strong><ul><li><span>Microsoft.Extensions.Configuration, 9.0.6</span></li><li><span>Microsoft.Extensions.Configuration.Json, 9.0.6</span></li><li><span>Microsoft.SemanticKernel, 1.60.0</span></li><li><span>Microsoft.SemanticKernel.Plugins.Core, 1.60.0-preview</span></li></ul></div></div>"
      ]
     },
     "metadata": {},
     "output_type": "display_data"
    }
   ],
   "source": [
    "#r \"nuget: Microsoft.Extensions.Configuration, 9.0.6\"\n",
    "#r \"nuget: Microsoft.Extensions.Configuration.Json, 9.0.6\"\n",
    "#r \"nuget: Microsoft.SemanticKernel, 1.60.0\"\n",
    "#r \"nuget: Microsoft.SemanticKernel.Plugins.Core, 1.60.0-preview\"\n",
    "\n",
    "using Microsoft.Extensions.Configuration;\n",
    "using Microsoft.SemanticKernel;\n",
    "using Microsoft.SemanticKernel.ChatCompletion;\n",
    "using Microsoft.SemanticKernel.Connectors.OpenAI;\n",
    "using System.IO;\n",
    "\n",
    "var configurationBuilder = new ConfigurationBuilder()\n",
    "    .SetBasePath(Directory.GetCurrentDirectory())\n",
    "    .AddJsonFile(\"local.settings.json\", optional: true, reloadOnChange: true)\n",
    "    .AddJsonFile(\"secrets.settings.json\", optional: true, reloadOnChange: true);\n",
    "var config = configurationBuilder.Build();\n",
    "\n",
    "// IMPORTANT: You ONLY NEED either Azure OpenAI or OpenAI connectiopn info, not both.\n",
    "// Azure OpenAI Connection Info\n",
    "var azureOpenAIEndpoint = config[\"AzureOpenAI:Endpoint\"];\n",
    "var azureOpenAIAPIKey = config[\"AzureOpenAI:APIKey\"];\n",
    "var azureOpenAIModelDeploymentName = config[\"AzureOpenAI:ModelDeploymentName\"];\n",
    "// OpenAI Connection Info \n",
    "var openAIAPIKey = config[\"OpenAI:APIKey\"];\n",
    "var openAIModelId = config[\"OpenAI:ModelId\"];"
   ]
  },
  {
   "cell_type": "code",
   "execution_count": 2,
   "metadata": {
    "dotnet_interactive": {
     "language": "csharp"
    },
    "polyglot_notebook": {
     "kernelName": "csharp"
    }
   },
   "outputs": [
    {
     "name": "stdout",
     "output_type": "stream",
     "text": [
      "Using Azure OpenAI Service\n"
     ]
    }
   ],
   "source": [
    "Kernel semanticKernel;\n",
    "\n",
    "// Set the flag to use Azure OpenAI or OpenAI. False to use OpenAI, True to use Azure OpenAI\n",
    "var useAzureOpenAI = true;\n",
    "\n",
    "// Create a new Semantic Kernel instance\n",
    "if (useAzureOpenAI)\n",
    "{\n",
    "    Console.WriteLine(\"Using Azure OpenAI Service\");\n",
    "    semanticKernel = Kernel.CreateBuilder()\n",
    "        .AddAzureOpenAIChatCompletion(\n",
    "            deploymentName: azureOpenAIModelDeploymentName,\n",
    "            endpoint: azureOpenAIEndpoint,\n",
    "            apiKey: azureOpenAIAPIKey)\n",
    "        .Build();\n",
    "}\n",
    "else\n",
    "{\n",
    "    Console.WriteLine(\"Using OpenAI Service\");\n",
    "    semanticKernel = Kernel.CreateBuilder()\n",
    "        .AddOpenAIChatCompletion(\n",
    "            modelId: openAIModelId,\n",
    "            apiKey: openAIAPIKey)\n",
    "        .Build();\n",
    "}"
   ]
  },
  {
   "cell_type": "markdown",
   "metadata": {},
   "source": [
    "----\n",
    "### Step 2 - Create a Semantic Kernel - Semantic Function "
   ]
  },
  {
   "cell_type": "markdown",
   "metadata": {},
   "source": [
    "> 📜 **_\"Decision frameworks are like maps. Use them to navigate complex decision-making terrain._** \n",
    ">\n",
    "> -- <cite>Unknown</cite> "
   ]
  },
  {
   "cell_type": "markdown",
   "metadata": {},
   "source": [
    "Semantic functions are constructs inside Semantic Kernel that are basically just prompt instructions. What makes the special is that they can be exposed as functions, thus it makes re-usability easy. Furthermore, future modules will show how they can faciliate composability into plugins. "
   ]
  },
  {
   "cell_type": "code",
   "execution_count": 10,
   "metadata": {
    "dotnet_interactive": {
     "language": "csharp"
    },
    "polyglot_notebook": {
     "kernelName": "csharp"
    }
   },
   "outputs": [
    {
     "data": {
      "text/markdown": [
       "| ### Framework Name          | ### Description & Usage Scenario                                                                                                    |\n",
       "|----------------------------|---------------------------------------------------------------------------------------------------------------------------------------|\n",
       "| Rational Decision-Making Model | Breaks down decisions into logical steps: define problem, identify criteria, weigh options, evaluate alternatives, choose solution. Ideal for complex, high-stakes decisions where data is available.                |\n",
       "| SWOT Analysis              | Assesses Strengths, Weaknesses, Opportunities, and Threats to an option or organization, promoting a balanced view for strategic planning and risk assessment.                  |\n",
       "| Cost-Benefit Analysis      | Weighs costs and benefits (quantitative and qualitative) of alternatives, supporting choices where efficiency and value are primary concerns (e.g., project selection).          |\n",
       "| Pros and Cons List         | Lists positive and negative aspects, making reasoning explicit and helping clarify preferences for personal or group decisions under moderate complexity.                      |\n",
       "| Pareto Analysis            | Focuses on identifying a small number of causes that lead to a majority of problems (80/20 rule), guiding teams to prioritize impactful solutions.                            |\n",
       "| Six Thinking Hats          | Encourages looking at problems from multiple perspectives (logic, emotion, caution, optimism, creativity, overview), improving creativity and reducing groupthink.            |\n",
       "| OODA Loop                  | Stands for Observe, Orient, Decide, Act. Emphasizes adapting quickly to changing situations, useful for fast-paced or competitive environments.                                |\n",
       "| Decision Matrix (Grid Analysis)| Ranks options against weighted criteria, supporting objective analysis in multi-factor decisions (e.g., hiring, vendor selection).                                           |\n",
       "| Delphi Technique           | Iterative aggregation of expert opinions, reducing bias and encouraging consensus, ideal for forecasting or future-oriented group decisions.                                   |\n",
       "| The Eisenhower Matrix      | Categorizes tasks by urgency and importance (four quadrants) to support prioritization decisions in time management and resource allocation.                                    |\n",
       "| Nudge Theory               | Designs decision environments to encourage better choices without restricting options, beneficial in behavioral economics and policy settings.                                 |\n",
       "| 5 Whys Analysis            | Repeatedly asks \"why\" to drill down to the root cause of a problem, enhancing problem-solving decisions by addressing underlying issues.                                       |\n",
       "| Pre-mortem Analysis        | Instructs teams to imagine a future failure and work backwards, proactively identifying risks and weaknesses in a proposed plan for better risk mitigation.                    |"
      ]
     },
     "metadata": {},
     "output_type": "display_data"
    }
   ],
   "source": [
    "// Simple prompt to list some decision frameworks this GenAI LLM is familiar with\n",
    "var decisionPromptTemplate = \"\"\"\n",
    "Identify and list various decision-making frameworks that can enhance the quality of decisions. \n",
    "Briefly describe how each framework supports better analysis and reasoning in different decision-making scenarios.\n",
    "\n",
    "Output Format Instructions: \n",
    "When generating Markdown, do not use any headings higher than ###. \n",
    "Avoid # and ## headers. Use only ###, ####, or lower-level headings if necessary. \n",
    "All top-level section headers should start at ### or lower. \n",
    "Never use ---, ***, or ___ for horizontal lines. There should be no horizontal lines in the output.\n",
    "For separation, use extra extra spacing. Do not any render horizontal lines.\n",
    "Format the response using only a Markdown table. Only return a Markdown table. \n",
    "Do not enclose the table in triple backticks.\n",
    "\"\"\";\n",
    "\n",
    "// Takes a regular prompt and creats a Semantick Kernel function that can be used to invoke the model\n",
    "// The prompt is now a Semantic Kernel Function, which can be treated as a first-class object\n",
    "var semanticDecisionFunction = semanticKernel.CreateFunctionFromPrompt(decisionPromptTemplate);\n",
    "\n",
    "// Directly invoke the Semantic Kerenel Function with the decision prompt built-in\n",
    "var decisionFunctionResponse = await semanticKernel.InvokeAsync(semanticDecisionFunction);\n",
    "\n",
    "var decisionFunctionResponseString = decisionFunctionResponse.GetValue<string>(); \n",
    "decisionFunctionResponseString.DisplayAs(\"text/markdown\");"
   ]
  },
  {
   "cell_type": "markdown",
   "metadata": {},
   "source": [
    "----\n",
    "### Step 3 - Semantic Function Dynamic Decision Intelligence  "
   ]
  },
  {
   "cell_type": "markdown",
   "metadata": {},
   "source": [
    "> 📜 **_\"If the only tool you have is a hammer, you tend to see every problem as a nail.\"_**\n",
    ">\n",
    "> -- <cite>Abraham Maslow (Renowned American psychologist)</cite> "
   ]
  },
  {
   "cell_type": "markdown",
   "metadata": {},
   "source": [
    "Semantic functions can be dynamically composed using parameter placeholders, which can then be dynamically rendered using Kernel arguments. This allows the ease of passing in parameters and execution settings into the semantic functions. This is not groundbreaking, but it does allow you to dynamically compose AI prompts (context-engineering, prompt-engineering dynamically).\n",
    "\n",
    "Execute the cell below to view how the prompt can dynamically instruct the LLM to retrieve different types of decision-making frameworks. "
   ]
  },
  {
   "cell_type": "code",
   "execution_count": null,
   "metadata": {
    "dotnet_interactive": {
     "language": "csharp"
    },
    "polyglot_notebook": {
     "kernelName": "csharp"
    }
   },
   "outputs": [
    {
     "data": {
      "text/markdown": [
       "| Framework Name                | Description of Framework                                                                 | How it Enhances Long-Term, Probabilistic Strategic Decision-Making                          |\n",
       "|-------------------------------|----------------------------------------------------------------------------------------|--------------------------------------------------------------------------------------------|\n",
       "| Decision Tree Analysis        | A graphical representation of possible choices, chance events, outcomes, and payoffs.  | Helps visualize and quantify complex, multi-stage decisions with uncertain outcomes, allowing for explicit calculation of expected values and identification of optimal strategies over time. |\n",
       "| Monte Carlo Simulation        | Uses computational algorithms to simulate a wide range of possible outcomes based on probability distributions. | Enables robust analysis of uncertainty by modeling thousands of scenarios, providing insights into the range and likelihood of long-term strategic results.           |\n",
       "| Real Options Analysis         | Treats strategic decisions as financial options, valuing flexibility and future choices under uncertainty. | Supports better reasoning by quantifying the value of waiting, expanding, or abandoning projects as new information emerges, aligning with dynamic, probabilistic environments. |"
      ]
     },
     "metadata": {},
     "output_type": "display_data"
    }
   ],
   "source": [
    "// Takes a prompt with input variables and creates a function that can be used to invoke the GenAI model\n",
    "var decisionPromptTemplate = \"\"\"\n",
    "Identify and list {{$numberOfFrameworks}} decision-making frameworks that can enhance the quality of decisions. \n",
    "Briefly describe how each framework supports better analysis and reasoning in {{$decisionType}} decision-making scenarios.\n",
    "\n",
    "Output Format Instructions: \n",
    "When generating Markdown, do not use any headings higher than ###. \n",
    "Avoid # and ## headers. Use only ###, ####, or lower-level headings if necessary. \n",
    "All top-level section headers should start at ### or lower. \n",
    "Never use ---, ***, or ___ for horizontal lines. There should be no horizontal lines in the output.\n",
    "For separation, use extra extra spacing. Do not any render horizontal lines.\n",
    "Format the response using only a Markdown table. Only return a Markdown table. \n",
    "Do not enclose the table in triple backticks.\n",
    "\"\"\";\n",
    "\n",
    "// Create the OpenAI prompt execution settings, try changing the settings to see how the output changes\n",
    "// Try different settings (Temperature, FrequencyPenalty etc) to see how they affect the quality of the generated text\n",
    "var openAIPromptExecutionSettings = new OpenAIPromptExecutionSettings { \n",
    "    MaxTokens = 1000, \n",
    "    Temperature = 0.3, \n",
    "    TopP = 1.0, \n",
    "    FrequencyPenalty = 0.0, \n",
    "    PresencePenalty = 0.0\n",
    "    };\n",
    "\n",
    "var semanticDecisionFunctionWithInput = semanticKernel.CreateFunctionFromPrompt(decisionPromptTemplate, openAIPromptExecutionSettings);\n",
    "\n",
    "// Dynamically set the number of frameworks and decision type -> strategic\n",
    "var kernelArguments = new KernelArguments();\n",
    "kernelArguments.Add(\"numberOfFrameworks\", 3);\n",
    "kernelArguments.Add(\"decisionType\", \"Long-Term strategic with probabilistic outcomes\");\n",
    "\n",
    "// Invoke the Semantic Kernel Function with the decision prompt built-in and the dynamic arguments\n",
    "var decisionDynamicFunctionResponse = await semanticKernel.InvokeAsync(semanticDecisionFunctionWithInput, kernelArguments);\n",
    "\n",
    "var decisionDynamicFunctionResponseString = decisionDynamicFunctionResponse.GetValue<string>(); \n",
    "decisionDynamicFunctionResponseString.DisplayAs(\"text/markdown\");"
   ]
  },
  {
   "cell_type": "markdown",
   "metadata": {},
   "source": [
    "In the example below, the number of frameworks to return has been changed as well as the type has been changed to **Quick to Implement for rapid Dicision-Making\"**.  "
   ]
  },
  {
   "cell_type": "code",
   "execution_count": 14,
   "metadata": {
    "dotnet_interactive": {
     "language": "csharp"
    },
    "polyglot_notebook": {
     "kernelName": "csharp"
    }
   },
   "outputs": [
    {
     "data": {
      "text/markdown": [
       "| Framework Name         | Description & Support for Rapid Decision-Making                                                                                                                                         |\n",
       "|------------------------|----------------------------------------------------------------------------------------------------------------------------------------------------------------------------------------|\n",
       "| OODA Loop              | Stands for Observe, Orient, Decide, Act. This iterative cycle enables quick assessment of the situation, rapid orientation to context, fast decision, and immediate action—ideal for dynamic scenarios. |\n",
       "| Eisenhower Matrix      | Prioritizes tasks by urgency and importance, helping decision-makers quickly focus on what matters most and avoid wasting time on less critical issues.                                   |\n",
       "| 2x2 Decision Matrix    | Plots options on two axes (e.g., impact vs. effort), allowing for swift visual comparison and selection of the most favorable option in time-sensitive situations.                        |\n",
       "| Pareto Analysis (80/20)| Identifies the vital few causes that contribute to the majority of results, enabling rapid focus on high-impact actions and efficient allocation of limited resources.                   |\n",
       "| RAPID Framework        | Clarifies roles in decision-making (Recommend, Agree, Perform, Input, Decide), streamlining the process and reducing delays by ensuring everyone knows their responsibility.              |"
      ]
     },
     "metadata": {},
     "output_type": "display_data"
    }
   ],
   "source": [
    "// Dynamically set the number of frameworks and decision type -> requring fast action\n",
    "var kernelArguments = new KernelArguments(openAIPromptExecutionSettings);\n",
    "kernelArguments.Add(\"numberOfFrameworks\", 5);\n",
    "kernelArguments.Add(\"decisionType\", \"Quick to Implement for rapid Dicision-Making\");\n",
    "\n",
    "// Invoke the Semantic Kernel Function with the decision prompt built-in and the dynamic arguments\n",
    "// Note: The invocation has NOT changed, only the Kernel arguments have changed\n",
    "var decisionDynamicFunctionResponse = await semanticKernel.InvokeAsync(semanticDecisionFunctionWithInput, kernelArguments);\n",
    "\n",
    "var decisionDynamicFunctionResponseString = decisionDynamicFunctionResponse.GetValue<string>(); \n",
    "decisionDynamicFunctionResponseString.DisplayAs(\"text/markdown\");"
   ]
  },
  {
   "cell_type": "markdown",
   "metadata": {},
   "source": [
    "----\n",
    "### Step 4 - Decision Scenario with Dynamic Decision Intelligence"
   ]
  },
  {
   "cell_type": "markdown",
   "metadata": {},
   "source": [
    "In the below code a decsion-analysis scenario is introduced that uses dynamic inputs to personalize the decision recommendation dynamically. The more specific information that provides contextual information to the Generative AI model can great improve the specific recommendations. \n",
    "\n",
    "**Decision Scenario:** Michael is a 35-year-old professional chef who is considering opening his own restaurant. This is a significant life decision that could greatly impact his career and personal life. Michael is looking for a recommendation for an approach (decision) for this potentially life-changing decision. \n",
    "\n",
    "<img style=\"display: block; margin: auto;\" width =\"700px\" src=\"https://raw.githubusercontent.com/bartczernicki/DecisionIntelligence.GenAI.Workshop/main/Images/Scenarios/Scenario-RestaurantDecision.png\">\n",
    "\n",
    "Three factors will be considered for this decision scenario that the user will be prompted for: \n",
    "1) Michael's Total Net Worth in dollars (enter number)\n",
    "2) Level of competition with other restaurants (low, medium, high) \n",
    "3) Level of support from Michael's friends and family (low, medium, high) \n",
    "\n",
    "**Various Decision Inputs:** You can simulate different What-If scenarios by varying the input of net worth, restaurant competition and level of family support. Note the different decision recommendations based on this provided by Artificial Intelligence. The recommendations in this example are quite simple, but even on the extreme inputs Generative AI has a conecept of understanding the quality of inputs. "
   ]
  },
  {
   "cell_type": "code",
   "execution_count": 18,
   "metadata": {
    "dotnet_interactive": {
     "language": "csharp"
    },
    "polyglot_notebook": {
     "kernelName": "csharp"
    }
   },
   "outputs": [
    {
     "name": "stdout",
     "output_type": "stream",
     "text": [
      "Michael's Net Worth: 10000\n",
      "Level of Restaurant Competition: Low\n",
      "Michael's level of Family Support: Low\n",
      "\n"
     ]
    },
    {
     "data": {
      "text/markdown": [
       "| Factor                          | Details                                                                 | Impact on Decision                         |\n",
       "|----------------------------------|-------------------------------------------------------------------------|--------------------------------------------|\n",
       "| Financial Resources              | Net worth: $10,000                                                      | Very limited capital; high risk            |\n",
       "| Market Competition               | Low competition                                                          | Positive; more opportunity                 |\n",
       "| Support System                   | Low support from friends and family                                      | Negative; may face emotional challenges    |\n",
       "| Industry Experience              | Professional chef                                                        | Positive; relevant skills                  |\n",
       "| Business Risk                    | High (due to low capital and support)                                    | Significant risk of failure                |\n",
       "| Alternative Options              | Could consider partnerships, investors, or smaller-scale ventures first  | May reduce risk and increase support       |\n",
       "\n",
       "  \n",
       "Decision Summary:  \n",
       "Given Michael’s limited financial resources and low personal support, opening a full-scale restaurant at this time is very risky, despite the favorable market conditions and his professional experience. It is recommended that Michael consider alternative approaches such as seeking investors, starting with a smaller venture (e.g., pop-up, food truck), or building a stronger support network before committing to a full restaurant launch."
      ]
     },
     "metadata": {},
     "output_type": "display_data"
    }
   ],
   "source": [
    "// Import the Microsoft.DotNet.Interactive namespace for user input\n",
    "using Microsoft.DotNet.Interactive;\n",
    "\n",
    "var totalNetWorth = await Microsoft.DotNet.Interactive.Kernel.GetInputAsync(\"Micheal's total net worth in dollars: \");\n",
    "var levelOfCompetition = await Microsoft.DotNet.Interactive.Kernel.GetInputAsync(\"Level of competition with other restaurants (Low, Medium, High): \");\n",
    "var levelOfFamilySupport = await Microsoft.DotNet.Interactive.Kernel.GetInputAsync(\"Level of support from Michael's friends and family (Low, Medium, High): \");\n",
    "\n",
    "Console.WriteLine($\"Michael's Net Worth: {totalNetWorth}\");\n",
    "Console.WriteLine($\"Level of Restaurant Competition: {levelOfCompetition}\");\n",
    "Console.WriteLine($\"Michael's level of Family Support: {levelOfFamilySupport}\");\n",
    "Console.WriteLine();\n",
    "\n",
    "// Takes a prompt with input variables and creates a function that can be used to invoke the model\n",
    "var restaurantDecisionRecommendation = \"\"\"\n",
    "Michael is a 35-year-old professional chef who is considering opening his own restaurant. \n",
    "This is a significant life decision that could greatly impact his career and personal life. \n",
    "Michael is looking for a recommendation on how to approach this.\n",
    "Some key information about Michael:\n",
    "- Michael's total net worth is (in US dollars) ${{$totalNetWorth}}.\n",
    "- The level of competition with other restaurants is {{$levelOfCompetition}}.\n",
    "- The level of support from Michael's friends and family is {{$levelOfFamilySupport}}.\n",
    "\n",
    "Based on this information, what recommendation would you give to Michael regarding opening his own restaurant?\n",
    "\n",
    "Output Format Instructions: \n",
    "When generating Markdown, do not use any headings higher than ###. \n",
    "Avoid # and ## headers. Use only ###, ####, or lower-level headings if necessary. \n",
    "All top-level section headers should start at ### or lower. \n",
    "Never use ---, ***, or ___ for horizontal lines. There should be no horizontal lines in the output.\n",
    "For separation, use extra extra spacing. Do not any render horizontal lines.\n",
    "Format the response using only a Markdown table. Only return a Markdown table. \n",
    "Do not enclose the table in triple backticks.\n",
    "Provide a small Decision Summary of the recommendation below the table.\n",
    "\"\"\";\n",
    "\n",
    "// Create the OpenAI prompt execution settings, try changing the settings to see how the output changes\n",
    "// Try different settings (Temperature, FrequencyPenalty etc) to see how they affect the quality of the generated text\n",
    "var openAIPromptExecutionSettings = new OpenAIPromptExecutionSettings { \n",
    "    MaxTokens = 1500, \n",
    "    Temperature = 0.3, \n",
    "    TopP = 1.0, \n",
    "    FrequencyPenalty = 0.0, \n",
    "    PresencePenalty = 0.0\n",
    "    };\n",
    "\n",
    "var semanticRestaurantDecisionRecommendation = semanticKernel.CreateFunctionFromPrompt(restaurantDecisionRecommendation, openAIPromptExecutionSettings);\n",
    "\n",
    "// Dynamically set the number of frameworks and decision type -> strategic\n",
    "var kernelArgumentsRestaurantDecisionRecommendation = new KernelArguments();\n",
    "kernelArgumentsRestaurantDecisionRecommendation.Add(\"totalNetWorth\", totalNetWorth);\n",
    "kernelArgumentsRestaurantDecisionRecommendation.Add(\"levelOfCompetition\", levelOfCompetition);\n",
    "kernelArgumentsRestaurantDecisionRecommendation.Add(\"levelOfFamilySupport\", levelOfFamilySupport);\n",
    "\n",
    "var decisionRestaurantDecisionRecommendationResponse = await semanticKernel.InvokeAsync(semanticRestaurantDecisionRecommendation, kernelArgumentsRestaurantDecisionRecommendation);\n",
    "\n",
    "var decisionRestaurantDecisionRecommendationResponseString = decisionRestaurantDecisionRecommendationResponse.GetValue<string>(); \n",
    "decisionRestaurantDecisionRecommendationResponseString.DisplayAs(\"text/markdown\");\n"
   ]
  }
 ],
 "metadata": {
  "kernelspec": {
   "display_name": ".NET (C#)",
   "language": "C#",
   "name": ".net-csharp"
  },
  "language_info": {
   "name": "polyglot-notebook"
  },
  "polyglot_notebook": {
   "kernelInfo": {
    "defaultKernelName": "csharp",
    "items": [
     {
      "aliases": [],
      "name": "csharp"
     }
    ]
   }
  }
 },
 "nbformat": 4,
 "nbformat_minor": 2
}
