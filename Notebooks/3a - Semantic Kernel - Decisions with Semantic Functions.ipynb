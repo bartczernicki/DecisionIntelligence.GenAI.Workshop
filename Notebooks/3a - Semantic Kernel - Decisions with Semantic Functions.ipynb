{
 "cells": [
  {
   "cell_type": "markdown",
   "metadata": {},
   "source": [
    "<img style=\"float: left;padding-right: 10px\" width =\"40px\" src=\"https://raw.githubusercontent.com/bartczernicki/DecisionIntelligence.GenAI.Workshop/main/Images/SemanticKernelLogo.png\">\n",
    "\n",
    "## Semantic Kernel - Decisions with Semantic Functions "
   ]
  },
  {
   "cell_type": "markdown",
   "metadata": {},
   "source": [
    "Decision Intelligence applied in this module:  \n",
    "* Listing of various decision-making frameworks with their descriptions \n",
    "* Listing types of decision-making frameworks dynamically based on the type  "
   ]
  },
  {
   "cell_type": "markdown",
   "metadata": {},
   "source": [
    "Semantic Kernel Functions are the core building blocks of functionality for intelligent AI orchestration. Semantic Kernel functions usually have a single responsibility to perform. For example, a Sementic Kernel function can: send an e-mail, call an API, recommend a reasoning framework for a high-stakes decision etc. \n",
    "\n",
    "What makes Semantic Kernel functions so special? Can't one just produce similar outcomes by using a prompt in an LLM or just writing a software program? In order to answer that, one has to look at what makes GenAI so innovative. The GenAI models have a unique ability to process instructions with reasoning and logic. This allows these models to behave almost like a human decision maker. Even with basic prompts, GenAI models perform reasonably well. However, providing GenAI models with additional functions allows them to gain access to business processes, data and basically anything a GenAI model should consider when performing AI orchestration. \n",
    "\n",
    "For example, imagine you want to prepare a great Thanksgiving dinner and want to get help from a GenAI cooking application to create a new recipe. You enter what you want todo and it comes up with the most delicious looking feast for Thanksgiving. However, there is a problem it used ingredients and recommended using cooking appliances that you do not own! You could enter all of the ingredients and keep prompting until it narrowed down the what you could realistically make. Wouldn't it be better if the GenAI cooking application had access to: your available ingredients, your time availability, kitchen appliances and even your allergic preferences. Now the GenAI model can craft a Thanksgiving feast understanding the parameters and data without having to be guided. This is exactly what Semantic Kernel functions provide.\n",
    "\n",
    "Semantic Kernel functions come in two flavors: \n",
    "* Semantic functions\n",
    "* Native functions\n",
    "\n",
    "Semantic functions are basically **prompt instructions** that help guide GenAI LLMs around the specific guidelines it should adhere to when building the AI orchestration. Therefore, semantic functions are likely the first place most AI architects/engineers start when composing AI orchestration with Semantic Kernel. Semantic functions can also take in parameters for dynamic creaation of instructions.  "
   ]
  },
  {
   "cell_type": "markdown",
   "metadata": {},
   "source": [
    "Below is an example of semantic function that can be used for facilitating decision-making. Note the **{{$decisionToMake}}** input where the parameter can be dynamically passed in to provide additional specificity.\n",
    "\n",
    "```javascript\n",
    "[DECISION FRAMEWORKS TO USE]\n",
    "Price's Law\n",
    "Pareto Principle\n",
    "Laplace Rule of Succession\n",
    "Eisenhower Matrix\n",
    "Median Rule of Five\n",
    "Second Order Thinking\n",
    "\n",
    "[DECISION GUIDANCE]\n",
    "Try to use the best fitting framework.  \n",
    "Prefer using quantitative decision frameworks rather qualitative ones.  \n",
    "Use the code interpreter to validate quantitative reasoning.\n",
    "\n",
    "Use the decision frameworks above to help the user make the following decision:\n",
    "{{$decisionToMake}}\n",
    "```  \n",
    "\n",
    "The image below illustrates the core value of semantic functions. \n",
    "\n",
    "<img style=\"display: block; margin: auto;\" width =\"500px\" src=\"https://learn.microsoft.com/en-us/semantic-kernel/media/semantic-function-explainer.png\">"
   ]
  },
  {
   "cell_type": "markdown",
   "metadata": {},
   "source": [
    "### Step 1 - Initialize Configuration Builder & Build the Semantic Kernel Orchestration "
   ]
  },
  {
   "cell_type": "markdown",
   "metadata": {},
   "source": [
    "Execute the next two cells to:\n",
    "* Use the Configuration Builder to load the API secrets.  \n",
    "* Use the API configuration to build the Semantic Kernel orchestrator."
   ]
  },
  {
   "cell_type": "code",
   "execution_count": 1,
   "metadata": {
    "dotnet_interactive": {
     "language": "csharp"
    },
    "polyglot_notebook": {
     "kernelName": "csharp"
    },
    "vscode": {
     "languageId": "polyglot-notebook"
    }
   },
   "outputs": [
    {
     "data": {
      "text/html": [
       "<div><div></div><div></div><div><strong>Installed Packages</strong><ul><li><span>Microsoft.Extensions.Configuration, 9.0.0</span></li><li><span>Microsoft.Extensions.Configuration.Json, 9.0.0</span></li><li><span>Microsoft.SemanticKernel, 1.33.0</span></li><li><span>Microsoft.SemanticKernel.Plugins.Core, 1.33.0-alpha</span></li></ul></div></div>"
      ]
     },
     "metadata": {},
     "output_type": "display_data"
    }
   ],
   "source": [
    "#r \"nuget: Microsoft.Extensions.Configuration, 9.0.0\"\n",
    "#r \"nuget: Microsoft.Extensions.Configuration.Json, 9.0.0\"\n",
    "#r \"nuget: Microsoft.SemanticKernel, 1.33.0\"\n",
    "#r \"nuget: Microsoft.SemanticKernel.Plugins.Core, 1.33.0-alpha\"\n",
    "\n",
    "using Microsoft.Extensions.Configuration;\n",
    "using Microsoft.SemanticKernel;\n",
    "using Microsoft.SemanticKernel.ChatCompletion;\n",
    "using Microsoft.SemanticKernel.Connectors.OpenAI;\n",
    "using System.IO;\n",
    "\n",
    "var configurationBuilder = new ConfigurationBuilder()\n",
    "    .SetBasePath(Directory.GetCurrentDirectory())\n",
    "    .AddJsonFile(\"local.settings.json\", optional: true, reloadOnChange: true)\n",
    "    .AddJsonFile(\"secrets.settings.json\", optional: true, reloadOnChange: true);\n",
    "var config = configurationBuilder.Build();\n",
    "\n",
    "// IMPORTANT: You ONLY NEED either Azure OpenAI or OpenAI connectiopn info, not both.\n",
    "// Azure OpenAI Connection Info\n",
    "var azureOpenAIEndpoint = config[\"AzureOpenAI:Endpoint\"];\n",
    "var azureOpenAIAPIKey = config[\"AzureOpenAI:APIKey\"];\n",
    "var azureOpenAIModelDeploymentName = config[\"AzureOpenAI:ModelDeploymentName\"];\n",
    "// OpenAI Connection Info \n",
    "var openAIAPIKey = config[\"OpenAI:APIKey\"];\n",
    "var openAIModelId = config[\"OpenAI:ModelId\"];"
   ]
  },
  {
   "cell_type": "code",
   "execution_count": 2,
   "metadata": {
    "dotnet_interactive": {
     "language": "csharp"
    },
    "polyglot_notebook": {
     "kernelName": "csharp"
    },
    "vscode": {
     "languageId": "polyglot-notebook"
    }
   },
   "outputs": [
    {
     "name": "stdout",
     "output_type": "stream",
     "text": [
      "Using Azure OpenAI Service\r\n"
     ]
    }
   ],
   "source": [
    "Kernel semanticKernel;\n",
    "\n",
    "// Set the flag to use Azure OpenAI or OpenAI. False to use OpenAI, True to use Azure OpenAI\n",
    "var useAzureOpenAI = true;\n",
    "\n",
    "// Create a new Semantic Kernel instance\n",
    "if (useAzureOpenAI)\n",
    "{\n",
    "    Console.WriteLine(\"Using Azure OpenAI Service\");\n",
    "    semanticKernel = Kernel.CreateBuilder()\n",
    "        .AddAzureOpenAIChatCompletion(\n",
    "            deploymentName: azureOpenAIModelDeploymentName,\n",
    "            endpoint: azureOpenAIEndpoint,\n",
    "            apiKey: azureOpenAIAPIKey)\n",
    "        .Build();\n",
    "}\n",
    "else\n",
    "{\n",
    "    Console.WriteLine(\"Using OpenAI Service\");\n",
    "    semanticKernel = Kernel.CreateBuilder()\n",
    "        .AddOpenAIChatCompletion(\n",
    "            modelId: openAIModelId,\n",
    "            apiKey: openAIAPIKey)\n",
    "        .Build();\n",
    "}"
   ]
  },
  {
   "cell_type": "markdown",
   "metadata": {},
   "source": [
    "### Step 2 - Create a Semantic Kernel - Semantic Function "
   ]
  },
  {
   "cell_type": "markdown",
   "metadata": {},
   "source": [
    "> \"Decision frameworks are like maps. Use them to navigate complex decision-making terrain.  \n",
    ">\n",
    "> -- <cite>Unknown</cite> "
   ]
  },
  {
   "cell_type": "markdown",
   "metadata": {},
   "source": [
    "Semantic functions are constructs inside Semantic Kernel that are basically just prompt instructions. What makes the special is that they can be exposed as functions, thus it makes re-usability easy. Furthermore, future modules will show how they can faciliate composability into plugins. "
   ]
  },
  {
   "cell_type": "code",
   "execution_count": 3,
   "metadata": {
    "dotnet_interactive": {
     "language": "csharp"
    },
    "polyglot_notebook": {
     "kernelName": "csharp"
    },
    "vscode": {
     "languageId": "polyglot-notebook"
    }
   },
   "outputs": [
    {
     "name": "stdout",
     "output_type": "stream",
     "text": [
      "Here is a list of various decision-making frameworks accompanied by brief descriptions of how each can support better analysis and reasoning in different scenarios:\n",
      "\n",
      "---\n",
      "\n",
      "### 1. **SWOT Analysis (Strengths, Weaknesses, Opportunities, Threats)**  \n",
      "   - **How it Supports Decisions**: Helps individuals or organizations evaluate their internal capabilities (strengths and weaknesses) and external environment (opportunities and threats). Promotes strategic thinking for decisions like entering new markets or launching a product.  \n",
      "   - **Use Case**: Strategic planning, business growth, personal career decisions.\n",
      "\n",
      "---\n",
      "\n",
      "### 2. **Cost-Benefit Analysis (CBA)**  \n",
      "   - **How it Supports Decisions**: Involves comparing the costs and benefits of a decision in monetary terms to determine if an action is worth taking. Encourages rational allocation of resources.  \n",
      "   - **Use Case**: Financial decisions, resource allocation, project feasibility analysis.\n",
      "\n",
      "---\n",
      "\n",
      "### 3. **The Eisenhower Matrix (Urgent-Important Matrix)**  \n",
      "   - **How it Supports Decisions**: Helps prioritize tasks by categorizing them based on urgency and importance. Prevents wasting time on non-critical activities and focuses decision-making on high-impact tasks.  \n",
      "   - **Use Case**: Time management, productivity improvement.\n",
      "\n",
      "---\n",
      "\n",
      "### 4. **Pareto Analysis (80/20 Rule)**  \n",
      "   - **How it Supports Decisions**: Identifies the small number of causes (20%) that are responsible for the majority (80%) of effects. Focuses attention on the most impactful factors.  \n",
      "   - **Use Case**: Problem-solving, improving efficiency, resource optimization.\n",
      "\n",
      "---\n",
      "\n",
      "### 5. **Pros and Cons List**  \n",
      "   - **How it Supports Decisions**: A straightforward way to weigh the advantages and disadvantages of a decision. Provides clarity and organizes thoughts.  \n",
      "   - **Use Case**: Simple personal or professional decisions.\n",
      "\n",
      "---\n",
      "\n",
      "### 6. **Decision Trees**  \n",
      "   - **How it Supports Decisions**: A visual representation of decisions and their potential outcomes. Encourages structured thinking by mapping possible choices and consequences.  \n",
      "   - **Use Case**: Risk analysis, investment decisions, complex decision-making.\n",
      "\n",
      "---\n",
      "\n",
      "### 7. **Six Thinking Hats**  \n",
      "   - **How it Supports Decisions**: Encourages exploring decisions from six different perspectives — emotions, logic, optimism, caution, creativity, and process control. Fosters a balanced view and reduces bias.  \n",
      "   - **Use Case**: Brainstorming, team decision-making, innovation.\n",
      "\n",
      "---\n",
      "\n",
      "### 8. **OODA Loop (Observe, Orient, Decide, Act)**  \n",
      "   - **How it Supports Decisions**: A cyclical framework that emphasizes quick and iterative decision-making. Adaptable for scenarios requiring rapid responses.  \n",
      "   - **Use Case**: Crisis management, competitive strategy, military planning.\n",
      "\n",
      "---\n",
      "\n",
      "### 9. **RACI Matrix (Responsible, Accountable, Consulted, Informed)**  \n",
      "   - **How it Supports Decisions**: Clarifies roles and responsibilities in decision-making processes, ensuring accountability and avoiding confusion.  \n",
      "   - **Use Case**: Team projects, organizational workflows.\n",
      "\n",
      "---\n",
      "\n",
      "### 10. **PDCA Cycle (Plan, Do, Check, Act)**  \n",
      "   - **How it Supports Decisions**: Supports continuous improvement by emphasizing iterative testing, learning, and refinement. Promotes incremental change rather than large risks.  \n",
      "   - **Use Case**: Process optimization, quality control.\n",
      "\n",
      "---\n",
      "\n",
      "### 11. **Value-Based Decision-Making**  \n",
      "   - **How it Supports Decisions**: Focuses on personal or organizational values to guide choices. Ensures decisions align with long-term principles and priorities.  \n",
      "   - **Use Case**: Ethical dilemmas, mission-critical decisions.\n",
      "\n",
      "---\n",
      "\n",
      "### 12. **Weighted Scoring Model**  \n",
      "   - **How it Supports Decisions**: Assigns weights and scores to various factors influencing a decision. Provides a quantitative approach to select the best option.  \n",
      "   - **Use Case**: Vendor selection, product evaluation, hiring decisions.\n",
      "\n",
      "---\n",
      "\n",
      "### 13. **The 5 Whys**  \n",
      "   - **How it Supports Decisions**: A root-cause analysis tool that involves asking \"why\" five times (or more) to identify the core issue behind a problem. Leads to targeted solutions.  \n",
      "   - **Use Case**: Problem-solving, troubleshooting.\n",
      "\n",
      "---\n",
      "\n",
      "### 14. **The STAR Method (Situation, Task, Action, Result)**  \n",
      "   - **How it Supports Decisions**: Encourages structured analysis of past experiences to guide current decision-making. Highlights relevant skills or past successes for informed choices.  \n",
      "   - **Use Case**: Interview preparation, performance evaluations, leadership decisions.\n",
      "\n",
      "---\n",
      "\n",
      "### 15. **Scenario Analysis**  \n",
      "   - **How it Supports Decisions**: Explores multiple possible future scenarios and their outcomes. Prepares decision-makers for uncertainty by evaluating options in diverse contexts.  \n",
      "   - **Use Case**: Strategic foresight, risk management, financial planning.\n",
      "\n",
      "---\n",
      "\n",
      "### 16. **The Delphi Technique**  \n",
      "   - **How it Supports Decisions**: Uses expert opinions, gathered iteratively and anonymously, to converge on the best course of action. Reduces groupthink and leverages diverse expertise.  \n",
      "   - **Use Case**: Expert consensus-building, policy-making, large-scale strategy.\n",
      "\n",
      "---\n",
      "\n",
      "### 17. **FMEA (Failure Modes and Effects Analysis)**  \n",
      "   - **How it Supports Decisions**: Identifies potential failures in a system, their causes, and impacts, allowing decision-makers to prioritize preventive measures.  \n",
      "   - **Use Case**: Risk management, engineering processes, safety protocols.\n",
      "\n",
      "---\n",
      "\n",
      "By selecting the appropriate framework for the given decision-making scenario, individuals and organizations can enhance clarity, minimize risks, and achieve better outcomes."
     ]
    }
   ],
   "source": [
    "// Simple prompt to list some decision frameworks this GenAI LLM is familiar with\n",
    "var decisionPromptTemplate = \"\"\"\n",
    "Identify and list various decision-making frameworks that can enhance the quality of decisions. \n",
    "Briefly describe how each framework supports better analysis and reasoning in different decision-making scenarios.\n",
    "\"\"\";\n",
    "\n",
    "// Takes a regular prompt and creats a function that can be used to invoke the model\n",
    "var semanticDecisionFunction = semanticKernel.CreateFunctionFromPrompt(decisionPromptTemplate);\n",
    "\n",
    "await foreach (var streamChunk in semanticKernel.InvokeStreamingAsync(semanticDecisionFunction))\n",
    "{\n",
    "   Console.Write(streamChunk);\n",
    "}"
   ]
  },
  {
   "cell_type": "markdown",
   "metadata": {},
   "source": [
    "### Step 3 - Semantic Function Dynamic Decision Intelligence  "
   ]
  },
  {
   "cell_type": "markdown",
   "metadata": {},
   "source": [
    "> \"If the only tool you have is a hammer, you tend to see every problem as a nail.\"\n",
    ">\n",
    "> -- <cite>Abraham Maslow (Renowned American psychologist)</cite> "
   ]
  },
  {
   "cell_type": "markdown",
   "metadata": {},
   "source": [
    "Semantic functions can be dynamically composed using parameter placeholders, which can then be dynamically rendered using Kernel arguments. This allows the ease of passing in parameters and execution settings into the semantic functions.\n",
    "\n",
    "Execute the cell below to view how the prompt can dynamically instruct the LLM to retrieve different types of decision-making frameworks. "
   ]
  },
  {
   "cell_type": "code",
   "execution_count": 4,
   "metadata": {
    "dotnet_interactive": {
     "language": "csharp"
    },
    "polyglot_notebook": {
     "kernelName": "csharp"
    },
    "vscode": {
     "languageId": "polyglot-notebook"
    }
   },
   "outputs": [
    {
     "name": "stdout",
     "output_type": "stream",
     "text": [
      "Here are three decision-making frameworks that can enhance the quality of decisions, particularly in long-term strategic scenarios with probabilistic outcomes:\n",
      "\n",
      "---\n",
      "\n",
      "### 1. **Expected Utility Theory (EUT)**  \n",
      "**Description:**  \n",
      "Expected Utility Theory is a mathematical framework used to evaluate and compare decisions under uncertainty by assigning probabilities to potential outcomes and weighing them by their utility (value or benefit).  \n",
      "\n",
      "**How it supports better analysis and reasoning:**  \n",
      "- **Quantifies Uncertainty:** Helps decision-makers systematically account for the likelihood of various outcomes by assigning probabilities.  \n",
      "- **Focuses on Value:** Encourages prioritizing decisions that maximize long-term utility rather than short-term gains.  \n",
      "- **Balances Risk and Reward:** Provides a structured way to evaluate trade-offs between high-risk, high-reward options versus safer, lower-reward ones.  \n",
      "This framework is particularly useful for long-term strategic decisions where outcomes are uncertain but can be probabilistically modeled.\n",
      "\n",
      "---\n",
      "\n",
      "### 2. **Scenario Planning**  \n",
      "**Description:**  \n",
      "Scenario planning involves constructing multiple plausible future scenarios based on key uncertainties and then analyzing how different strategies perform under each scenario.  \n",
      "\n",
      "**How it supports better analysis and reasoning:**  \n",
      "- **Explores Uncertainty:** Encourages thinking about a range of possible futures rather than relying on a single forecast.  \n",
      "- **Stress-Tests Strategies:** Helps identify robust strategies that perform well across multiple scenarios, reducing vulnerability to unexpected changes.  \n",
      "- **Encourages Flexibility:** Promotes adaptive thinking by preparing for contingencies and recognizing early warning signs of emerging scenarios.  \n",
      "This framework is ideal for long-term strategic decisions where the future is highly uncertain and dependent on complex, interrelated factors.\n",
      "\n",
      "---\n",
      "\n",
      "### 3. **Bayesian Decision Analysis**  \n",
      "**Description:**  \n",
      "Bayesian Decision Analysis applies Bayes' theorem to update probabilities as new evidence becomes available, enabling dynamic decision-making under uncertainty.  \n",
      "\n",
      "**How it supports better analysis and reasoning:**  \n",
      "- **Incorporates New Information:** Allows decision-makers to refine their understanding of probabilities as new data emerges, improving decision accuracy over time.  \n",
      "- **Encourages Probabilistic Thinking:** Promotes a mindset of continuous learning and adjustment rather than static decision-making.  \n",
      "- **Supports Long-Term Optimization:** Enables iterative decision-making, which is critical for long-term strategies where conditions and information evolve.  \n",
      "This framework is particularly effective for probabilistic outcomes that require ongoing evaluation and adaptation.\n",
      "\n",
      "---\n",
      "\n",
      "By leveraging these frameworks, decision-makers can systematically address uncertainty, evaluate trade-offs, and optimize strategies for long-term success in complex, probabilistic scenarios."
     ]
    }
   ],
   "source": [
    "// Takes a prompt with input variables and creates a function that can be used to invoke the model\n",
    "var decisionPromptTemplate = \"\"\"\n",
    "Identify and list {{$numberOfFrameworks}} decision-making frameworks that can enhance the quality of decisions. \n",
    "Briefly describe how each framework supports better analysis and reasoning in {{$decisionType}} decision-making scenarios.\n",
    "\"\"\";\n",
    "\n",
    "// Create the OpenAI prompt execution settings, try changing the settings to see how the output changes\n",
    "// Try different settings (Temperature, FrequencyPenalty etc) to see how they affect the quality of the generated text\n",
    "var openAIPromptExecutionSettings = new OpenAIPromptExecutionSettings { \n",
    "    MaxTokens = 750, \n",
    "    Temperature = 0.3, \n",
    "    TopP = 1.0, \n",
    "    FrequencyPenalty = 0.0, \n",
    "    PresencePenalty = 0.0\n",
    "    };\n",
    "\n",
    "var semanticDecisionFunctionWithInput = semanticKernel.CreateFunctionFromPrompt(decisionPromptTemplate, openAIPromptExecutionSettings);\n",
    "\n",
    "// Dynamically set the number of frameworks and decision type -> strategic\n",
    "var kernelArguments = new KernelArguments();\n",
    "kernelArguments.Add(\"numberOfFrameworks\", 3);\n",
    "kernelArguments.Add(\"decisionType\", \"Long-Term strategic with probabilistic outcomes\");\n",
    "\n",
    "// Stream the output of the model\n",
    "await foreach (var streamChunk in semanticKernel.InvokeStreamingAsync(semanticDecisionFunctionWithInput, kernelArguments))\n",
    "{\n",
    "   Console.Write(streamChunk);\n",
    "}"
   ]
  },
  {
   "cell_type": "markdown",
   "metadata": {},
   "source": [
    "In the example below, the number of frameworks to return has been changed as well as the type has been changed to **Quick to Implement for rapid Dicision-Making\"**.  "
   ]
  },
  {
   "cell_type": "code",
   "execution_count": 5,
   "metadata": {
    "dotnet_interactive": {
     "language": "csharp"
    },
    "polyglot_notebook": {
     "kernelName": "csharp"
    },
    "vscode": {
     "languageId": "polyglot-notebook"
    }
   },
   "outputs": [
    {
     "name": "stdout",
     "output_type": "stream",
     "text": [
      "Here are five decision-making frameworks that can enhance the quality of decisions, particularly in scenarios requiring rapid implementation:\n",
      "\n",
      "---\n",
      "\n",
      "### 1. **OODA Loop (Observe, Orient, Decide, Act)**  \n",
      "   - **Description**: The OODA Loop is a cyclical framework designed for rapid decision-making in dynamic environments. It involves observing the situation, orienting by analyzing the context, deciding on a course of action, and acting quickly.  \n",
      "   - **How it supports better analysis**:  \n",
      "     - Encourages situational awareness by focusing on real-time observation.  \n",
      "     - Promotes adaptability by continuously revisiting and refining decisions.  \n",
      "     - Enables quick action without overanalyzing, making it ideal for fast-paced scenarios.  \n",
      "\n",
      "---\n",
      "\n",
      "### 2. **Pareto Analysis (80/20 Rule)**  \n",
      "   - **Description**: This framework focuses on identifying the 20% of inputs or factors that result in 80% of the outcomes. It prioritizes high-impact actions for maximum efficiency.  \n",
      "   - **How it supports better analysis**:  \n",
      "     - Helps prioritize critical factors when time and resources are limited.  \n",
      "     - Reduces complexity by focusing on the most significant drivers of success.  \n",
      "     - Enables rapid identification of key leverage points for decision-making.  \n",
      "\n",
      "---\n",
      "\n",
      "### 3. **Eisenhower Matrix (Urgent-Important Matrix)**  \n",
      "   - **Description**: This framework categorizes tasks or decisions into four quadrants based on urgency and importance, helping prioritize actions effectively.  \n",
      "   - **How it supports better analysis**:  \n",
      "     - Clarifies priorities by distinguishing between what is urgent and what is truly important.  \n",
      "     - Prevents wasted effort on low-priority tasks, enabling faster decision-making.  \n",
      "     - Encourages delegation or elimination of non-critical tasks to focus on high-impact actions.  \n",
      "\n",
      "---\n",
      "\n",
      "### 4. **SWOT Analysis (Strengths, Weaknesses, Opportunities, Threats)**  \n",
      "   - **Description**: SWOT is a structured framework for evaluating internal and external factors that impact a decision or situation.  \n",
      "   - **How it supports better analysis**:  \n",
      "     - Provides a quick snapshot of the current situation, highlighting critical factors.  \n",
      "     - Encourages balanced thinking by considering both positive and negative aspects.  \n",
      "     - Facilitates rapid identification of opportunities and risks for informed decision-making.  \n",
      "\n",
      "---\n",
      "\n",
      "### 5. **Rapid Decision-Making and Synchronization Process (RDSP)**  \n",
      "   - **Description**: RDSP is a military-inspired framework designed for making quick decisions under pressure. It involves gathering key information, identifying options, and synchronizing actions with available resources.  \n",
      "   - **How it supports better analysis**:  \n",
      "     - Focuses on gathering only essential information to avoid analysis paralysis.  \n",
      "     - Encourages collaboration and synchronization across teams for cohesive action.  \n",
      "     - Balances speed with accuracy by streamlining the decision-making process.  \n",
      "\n",
      "---\n",
      "\n",
      "These frameworks are particularly effective in rapid decision-making scenarios because they emphasize clarity, prioritization, and adaptability, enabling decision-makers to act quickly without sacrificing quality."
     ]
    }
   ],
   "source": [
    "// Dynamically set the number of frameworks and decision type -> requring fast action\n",
    "var kernelArguments = new KernelArguments(openAIPromptExecutionSettings);\n",
    "kernelArguments.Add(\"numberOfFrameworks\", 5);\n",
    "kernelArguments.Add(\"decisionType\", \"Quick to Implement for rapid Dicision-Making\");\n",
    "\n",
    "// Stream the output of the model\n",
    "await foreach (var streamChunk in semanticKernel.InvokeStreamingAsync(semanticDecisionFunctionWithInput, kernelArguments))\n",
    "{\n",
    "   Console.Write(streamChunk);\n",
    "}"
   ]
  },
  {
   "cell_type": "markdown",
   "metadata": {},
   "source": [
    "#### Recommendation Decision Scenario with Dynamic Decision Intelligence"
   ]
  },
  {
   "cell_type": "markdown",
   "metadata": {},
   "source": [
    "In the below code a decsion-analysis scenario is introduced that uses dynamic inputs to personalize the decision recommendation dynamically. The more specific information that provides contextual information to the Generative AI model can great improve the specific recommendations. \n",
    "\n",
    "**Decision Scenario:** Michael is a 35-year-old professional chef who is considering opening his own restaurant. This is a significant life decision that could greatly impact his career and personal life. Michael is looking for a recommendation for an approach (decision) for this potentially life-changing decision. \n",
    "\n",
    "<img style=\"display: block; margin: auto;\" width =\"700px\" src=\"https://raw.githubusercontent.com/bartczernicki/DecisionIntelligence.GenAI.Workshop/main/Images/Scenarios/Scenario-RestaurantDecision.png\">\n",
    "\n",
    "Three factors will be considered for this scenario that the user will be prompted for: \n",
    "1) Michael's Total Net Worth in dollars (enter number)\n",
    "2) Level of competition with other restaurants (low, medium, high) \n",
    "3) Level of support from Michael's friends and family (low, medium, high) \n",
    "\n",
    "**Various Inputs:** Vary the input of net worth, restaurant competition and level of family support to note the various outcomes.  "
   ]
  },
  {
   "cell_type": "code",
   "execution_count": 6,
   "metadata": {
    "dotnet_interactive": {
     "language": "csharp"
    },
    "polyglot_notebook": {
     "kernelName": "csharp"
    },
    "vscode": {
     "languageId": "polyglot-notebook"
    }
   },
   "outputs": [
    {
     "name": "stdout",
     "output_type": "stream",
     "text": [
      "Michael's Net Worth: 500000\n",
      "Level of Restaurant Competition: medium\n",
      "Michael's level of Family Support: high\n",
      "\n",
      "Opening a restaurant is a major decision that requires careful planning and consideration of both personal and financial factors. Based on the information provided, here’s a structured recommendation for Michael:\n",
      "\n",
      "### 1. **Evaluate Financial Feasibility**\n",
      "   - **Startup Costs**: Opening a restaurant typically requires significant upfront investment, including leasing a space, renovations, equipment, licenses, and initial inventory. Michael should research estimated startup costs in his desired location and compare them to his $500,000 net worth.\n",
      "   - **Emergency Fund**: Michael should ensure he retains a financial safety net. A general rule of thumb is to keep at least 6–12 months' worth of living expenses separate from business funds in case the restaurant takes time to become profitable.\n",
      "   - **Funding Options**: If the startup costs exceed what Michael is comfortable investing, he can explore options like business loans, investors, or partnerships.\n",
      "\n",
      "### 2. **Conduct Market Research**\n",
      "   - **Understand the Competition**: Since the competition level is medium, Michael should identify gaps in the market that he can fill. For example, offering a unique cuisine, exceptional service, or a distinctive dining experience could set his restaurant apart.\n",
      "   - **Target Audience**: Define the ideal customer base and ensure the concept aligns with their preferences and spending habits.\n",
      "   - **Location**: Choose a location with good foot traffic, visibility, and accessibility for the target audience.\n",
      "\n",
      "### 3. **Leverage Support System**\n",
      "   - **Friends and Family**: Since Michael has high support from friends and family, he can involve them in brainstorming ideas, seeking honest feedback, and even helping with initial marketing efforts.\n",
      "   - **Networking**: Michael should also connect with other restaurant owners, chefs, and industry professionals to gain insights and advice.\n",
      "\n",
      "### 4. **Start Small or Test the Concept**\n",
      "   - Before committing to a full-scale restaurant, Michael could consider testing his concept through:\n",
      "     - **Pop-Up Restaurants**: Temporary dining experiences to gauge interest and gather feedback.\n",
      "     - **Catering or Private Events**: Building a customer base and refining his menu.\n",
      "     - **Food Trucks**: A lower-cost entry point to establish his brand and test the market.\n",
      "\n",
      "### 5. **Develop a Business Plan**\n",
      "   - A detailed business plan is essential for success. It should include:\n",
      "     - Concept and vision\n",
      "     - Market analysis\n",
      "     - Financial projections (startup costs, revenue, and profit margins)\n",
      "     - Marketing strategy\n",
      "     - Operational plan (staffing, suppliers, and daily operations)\n",
      "   - This plan will also be crucial if Michael seeks external funding.\n",
      "\n",
      "### 6. **Prepare for Challenges**\n",
      "   - **Time Commitment**: Running a restaurant is demanding and may impact Michael’s personal life. He should ensure he’s prepared for the long hours and stress involved.\n",
      "   - **Risk Management**: Restaurants can have high failure rates. Michael should plan for contingencies, such as slower-than-expected growth or unexpected expenses.\n",
      "\n",
      "### 7. **Seek Professional Advice**\n",
      "   - Consult with professionals, such as:\n",
      "     - A financial advisor to assess his investment capacity.\n",
      "     - A business consultant to refine his strategy.\n",
      "     - A lawyer to navigate leases, permits, and contracts.\n",
      "\n",
      "### 8. **Follow His Passion**\n",
      "   - If opening a restaurant aligns with Michael’s long-term career goals and personal aspirations, and he has a clear plan to mitigate risks, it could be a fulfilling endeavor. His passion for cooking and support from loved ones are strong foundations for success.\n",
      "\n",
      "### Final Recommendation:\n",
      "Michael should proceed cautiously and strategically. Start by conducting thorough research, testing his concept on a smaller scale, and ensuring he has a solid financial and operational"
     ]
    }
   ],
   "source": [
    "// Import the Microsoft.DotNet.Interactive namespace for user input\n",
    "using Microsoft.DotNet.Interactive;\n",
    "\n",
    "var totalNetWorth = await Microsoft.DotNet.Interactive.Kernel.GetInputAsync(\"Micheal's total net worth in dollars: \");\n",
    "var levelOfCompetition = await Microsoft.DotNet.Interactive.Kernel.GetInputAsync(\"Level of competition with other restaurants (Low, Medium, High): \");\n",
    "var levelOfFamilySupport = await Microsoft.DotNet.Interactive.Kernel.GetInputAsync(\"Level of support from Michael's friends and family (Low, Medium, High): \");\n",
    "\n",
    "Console.WriteLine($\"Michael's Net Worth: {totalNetWorth}\");\n",
    "Console.WriteLine($\"Level of Restaurant Competition: {levelOfCompetition}\");\n",
    "Console.WriteLine($\"Michael's level of Family Support: {levelOfFamilySupport}\");\n",
    "Console.WriteLine();\n",
    "\n",
    "// Takes a prompt with input variables and creates a function that can be used to invoke the model\n",
    "var restaurantDecisionRecommendation = \"\"\"\n",
    "Michael is a 35-year-old professional chef who is considering opening his own restaurant. \n",
    "This is a significant life decision that could greatly impact his career and personal life. \n",
    "Michael is looking for a recommendation on how to approach this.\n",
    "Some key information about Michael:\n",
    "- Michael's total net worth is (in US dollars) ${{$totalNetWorth}}.\n",
    "- The level of competition with other restaurants is {{$levelOfCompetition}}.\n",
    "- The level of support from Michael's friends and family is {{$levelOfFamilySupport}}.\n",
    "\n",
    "Based on this information, what recommendation would you give to Michael regarding opening his own restaurant?\n",
    "\"\"\";\n",
    "\n",
    "// Create the OpenAI prompt execution settings, try changing the settings to see how the output changes\n",
    "// Try different settings (Temperature, FrequencyPenalty etc) to see how they affect the quality of the generated text\n",
    "var openAIPromptExecutionSettings = new OpenAIPromptExecutionSettings { \n",
    "    MaxTokens = 750, \n",
    "    Temperature = 0.3, \n",
    "    TopP = 1.0, \n",
    "    FrequencyPenalty = 0.0, \n",
    "    PresencePenalty = 0.0\n",
    "    };\n",
    "\n",
    "var semanticRestaurantDecisionRecommendation = semanticKernel.CreateFunctionFromPrompt(restaurantDecisionRecommendation, openAIPromptExecutionSettings);\n",
    "\n",
    "// Dynamically set the number of frameworks and decision type -> strategic\n",
    "var kernelArgumentsRestaurantDecisionRecommendation = new KernelArguments();\n",
    "kernelArgumentsRestaurantDecisionRecommendation.Add(\"totalNetWorth\", totalNetWorth);\n",
    "kernelArgumentsRestaurantDecisionRecommendation.Add(\"levelOfCompetition\", levelOfCompetition);\n",
    "kernelArgumentsRestaurantDecisionRecommendation.Add(\"levelOfFamilySupport\", levelOfFamilySupport);\n",
    "\n",
    "// Stream the output of the model\n",
    "await foreach (var streamChunk in semanticKernel.InvokeStreamingAsync(semanticRestaurantDecisionRecommendation, kernelArgumentsRestaurantDecisionRecommendation))\n",
    "{\n",
    "   Console.Write(streamChunk);\n",
    "}\n"
   ]
  }
 ],
 "metadata": {
  "kernelspec": {
   "display_name": ".NET (C#)",
   "language": "C#",
   "name": ".net-csharp"
  },
  "language_info": {
   "name": "csharp"
  },
  "polyglot_notebook": {
   "kernelInfo": {
    "defaultKernelName": "csharp",
    "items": [
     {
      "aliases": [],
      "name": "csharp"
     }
    ]
   }
  }
 },
 "nbformat": 4,
 "nbformat_minor": 2
}
