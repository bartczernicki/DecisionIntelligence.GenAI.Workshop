{
 "cells": [
  {
   "cell_type": "markdown",
   "metadata": {},
   "source": [
    "<img style=\"float: left;padding-right: 10px\" width =\"40px\" src=\"https://raw.githubusercontent.com/bartczernicki/DecisionIntelligence.GenAI.Workshop/main/Images/SemanticKernelLogo.png\">\n",
    "\n",
    "## Semantic Kernel - Decisions with Semantic Functions "
   ]
  },
  {
   "cell_type": "markdown",
   "metadata": {},
   "source": [
    "Decision Intelligence applied in this module:  \n",
    "* Listing of various decision-making frameworks with their descriptions \n",
    "* Listing types of decision-making frameworks dynamically based on the type  "
   ]
  },
  {
   "cell_type": "markdown",
   "metadata": {},
   "source": [
    "Semantic Kernel Functions are the core building blocks of functionality for intelligent AI orchestration. Semantic Kernel functions usually have a single responsibility to perform. For example, a Sementic Kernel function can: send an e-mail, call an API, recommend a reasoning framework for a high-stakes decision etc. \n",
    "\n",
    "What makes Semantic Kernel functions so special? Can't one just produce similar outcomes by using a prompt in an LLM or just writing a software program? In order to answer that, one has to look at what makes GenAI so innovative. The GenAI models have a unique ability to process instructions with reasoning and logic. This allows these models to behave almost like a human decision maker. Even with basic prompts, GenAI models perform reasonably well. However, providing GenAI models with additional functions allows them to gain access to business processes, data and basically anything a GenAI model should consider when performing AI orchestration. \n",
    "\n",
    "For example, imagine you want to prepare a great Thanksgiving dinner and want to get help from a GenAI cooking application to create a new recipe. You enter what you want todo and it comes up with the most delicious looking feast for Thanksgiving. However, there is a problem it used ingredients and recommended using cooking appliances that you do not own! You could enter all of the ingredients and keep prompting until it narrowed down the what you could realistically make. Wouldn't it be better if the GenAI cooking application had access to: your available ingredients, your time availability, kitchen appliances and even your allergic preferences. Now the GenAI model can craft a Thanksgiving feast understanding the parameters and data without having to be guided. This is exactly what Semantic Kernel functions provide.\n",
    "\n",
    "Semantic Kernel functions come in two flavors: \n",
    "* Semantic functions\n",
    "* Native functions\n",
    "\n",
    "Semantic functions are basically **prompt instructions** that help guide GenAI LLMs around the specific guidelines it should adhere to when building the AI orchestration. Therefore, semantic functions are likely the first place most AI architects/engineers start when composing AI orchestration with Semantic Kernel. Semantic functions can also take in parameters for dynamic creaation of instructions.  "
   ]
  },
  {
   "cell_type": "markdown",
   "metadata": {},
   "source": [
    "Below is an example of semantic function that can be used for facilitating decision-making. Note the **{{$decisionToMake}}** input where the parameter can be dynamically passed in to provide additional specificity.\n",
    "\n",
    "```javascript\n",
    "[DECISION FRAMEWORKS TO USE]\n",
    "Price's Law\n",
    "Pareto Principle\n",
    "Laplace Rule of Succession\n",
    "Eisenhower Matrix\n",
    "Median Rule of Five\n",
    "Second Order Thinking\n",
    "\n",
    "[DECISION GUIDANCE]\n",
    "Try to use the best fitting framework.  \n",
    "Prefer using quantitative decision frameworks rather qualitative ones.  \n",
    "Use the code interpreter to validate quantitative reasoning.\n",
    "\n",
    "Use the decision frameworks above to help the user make the following decision:\n",
    "{{$decisionToMake}}\n",
    "```  \n",
    "\n",
    "The image below illustrates the core value of semantic functions. \n",
    "\n",
    "<img style=\"display: block; margin: auto;\" width =\"500px\" src=\"https://learn.microsoft.com/en-us/semantic-kernel/media/semantic-function-explainer.png\">"
   ]
  },
  {
   "cell_type": "markdown",
   "metadata": {},
   "source": [
    "### Step 1 - Initialize Configuration Builder & Build the Semantic Kernel Orchestration "
   ]
  },
  {
   "cell_type": "markdown",
   "metadata": {},
   "source": [
    "Execute the next two cells to:\n",
    "* Use the Configuration Builder to load the API secrets.  \n",
    "* Use the API configuration to build the Semantic Kernel orchestrator."
   ]
  },
  {
   "cell_type": "code",
   "execution_count": 1,
   "metadata": {
    "dotnet_interactive": {
     "language": "csharp"
    },
    "polyglot_notebook": {
     "kernelName": "csharp"
    },
    "vscode": {
     "languageId": "polyglot-notebook"
    }
   },
   "outputs": [
    {
     "data": {
      "text/html": [
       "<div><div></div><div></div><div><strong>Installed Packages</strong><ul><li><span>Microsoft.Extensions.Configuration, 9.0.0</span></li><li><span>Microsoft.Extensions.Configuration.Json, 9.0.0</span></li><li><span>Microsoft.SemanticKernel, 1.36.1</span></li><li><span>Microsoft.SemanticKernel.Plugins.Core, 1.36.1-alpha</span></li></ul></div></div>"
      ]
     },
     "metadata": {},
     "output_type": "display_data"
    }
   ],
   "source": [
    "#r \"nuget: Microsoft.Extensions.Configuration, 9.0.0\"\n",
    "#r \"nuget: Microsoft.Extensions.Configuration.Json, 9.0.0\"\n",
    "#r \"nuget: Microsoft.SemanticKernel, 1.36.1\"\n",
    "#r \"nuget: Microsoft.SemanticKernel.Plugins.Core, 1.36.1-alpha\"\n",
    "\n",
    "using Microsoft.Extensions.Configuration;\n",
    "using Microsoft.SemanticKernel;\n",
    "using Microsoft.SemanticKernel.ChatCompletion;\n",
    "using Microsoft.SemanticKernel.Connectors.OpenAI;\n",
    "using System.IO;\n",
    "\n",
    "var configurationBuilder = new ConfigurationBuilder()\n",
    "    .SetBasePath(Directory.GetCurrentDirectory())\n",
    "    .AddJsonFile(\"local.settings.json\", optional: true, reloadOnChange: true)\n",
    "    .AddJsonFile(\"secrets.settings.json\", optional: true, reloadOnChange: true);\n",
    "var config = configurationBuilder.Build();\n",
    "\n",
    "// IMPORTANT: You ONLY NEED either Azure OpenAI or OpenAI connectiopn info, not both.\n",
    "// Azure OpenAI Connection Info\n",
    "var azureOpenAIEndpoint = config[\"AzureOpenAI:Endpoint\"];\n",
    "var azureOpenAIAPIKey = config[\"AzureOpenAI:APIKey\"];\n",
    "var azureOpenAIModelDeploymentName = config[\"AzureOpenAI:ModelDeploymentName\"];\n",
    "// OpenAI Connection Info \n",
    "var openAIAPIKey = config[\"OpenAI:APIKey\"];\n",
    "var openAIModelId = config[\"OpenAI:ModelId\"];"
   ]
  },
  {
   "cell_type": "code",
   "execution_count": 2,
   "metadata": {
    "dotnet_interactive": {
     "language": "csharp"
    },
    "polyglot_notebook": {
     "kernelName": "csharp"
    },
    "vscode": {
     "languageId": "polyglot-notebook"
    }
   },
   "outputs": [
    {
     "name": "stdout",
     "output_type": "stream",
     "text": [
      "Using Azure OpenAI Service\r\n"
     ]
    }
   ],
   "source": [
    "Kernel semanticKernel;\n",
    "\n",
    "// Set the flag to use Azure OpenAI or OpenAI. False to use OpenAI, True to use Azure OpenAI\n",
    "var useAzureOpenAI = true;\n",
    "\n",
    "// Create a new Semantic Kernel instance\n",
    "if (useAzureOpenAI)\n",
    "{\n",
    "    Console.WriteLine(\"Using Azure OpenAI Service\");\n",
    "    semanticKernel = Kernel.CreateBuilder()\n",
    "        .AddAzureOpenAIChatCompletion(\n",
    "            deploymentName: azureOpenAIModelDeploymentName,\n",
    "            endpoint: azureOpenAIEndpoint,\n",
    "            apiKey: azureOpenAIAPIKey)\n",
    "        .Build();\n",
    "}\n",
    "else\n",
    "{\n",
    "    Console.WriteLine(\"Using OpenAI Service\");\n",
    "    semanticKernel = Kernel.CreateBuilder()\n",
    "        .AddOpenAIChatCompletion(\n",
    "            modelId: openAIModelId,\n",
    "            apiKey: openAIAPIKey)\n",
    "        .Build();\n",
    "}"
   ]
  },
  {
   "cell_type": "markdown",
   "metadata": {},
   "source": [
    "### Step 2 - Create a Semantic Kernel - Semantic Function "
   ]
  },
  {
   "cell_type": "markdown",
   "metadata": {},
   "source": [
    "> \"Decision frameworks are like maps. Use them to navigate complex decision-making terrain.  \n",
    ">\n",
    "> -- <cite>Unknown</cite> "
   ]
  },
  {
   "cell_type": "markdown",
   "metadata": {},
   "source": [
    "Semantic functions are constructs inside Semantic Kernel that are basically just prompt instructions. What makes the special is that they can be exposed as functions, thus it makes re-usability easy. Furthermore, future modules will show how they can faciliate composability into plugins. "
   ]
  },
  {
   "cell_type": "code",
   "execution_count": 3,
   "metadata": {
    "dotnet_interactive": {
     "language": "csharp"
    },
    "polyglot_notebook": {
     "kernelName": "csharp"
    },
    "vscode": {
     "languageId": "polyglot-notebook"
    }
   },
   "outputs": [
    {
     "name": "stdout",
     "output_type": "stream",
     "text": [
      "Here are several decision-making frameworks, each designed to improve analysis, reasoning, and overall decision quality across various scenarios:\n",
      "\n",
      "### 1. **The OODA Loop (Observe, Orient, Decide, Act)**\n",
      "   - **Description**: Developed by military strategist John Boyd, this iterative framework emphasizes rapid, adaptive decision-making in dynamic environments.\n",
      "   - **Application**: Encourages continuous situational awareness (observe), context analysis (orient), reasoned choices (decide), and execution (act).\n",
      "   - **Benefit**: Highly effective in fast-changing environments, such as business strategy or crisis management, due to its emphasis on flexibility and speed.\n",
      "\n",
      "---\n",
      "\n",
      "### 2. **SWOT Analysis (Strengths, Weaknesses, Opportunities, Threats)**\n",
      "   - **Description**: A framework for assessing internal and external factors that can impact a decision.\n",
      "   - **Application**: Useful for strategic decisions in business, project planning, or personal goal-setting.\n",
      "   - **Benefit**: Provides a structured way to evaluate risks and opportunities while leveraging strengths and mitigating weaknesses.\n",
      "\n",
      "---\n",
      "\n",
      "### 3. **DECIDE Model (Define, Establish, Consider, Identify, Develop, Evaluate)**\n",
      "   - **Description**: A sequential approach to methodical problem-solving and decision-making.\n",
      "   - **Application**: Best suited for situations requiring comprehensive analysis, such as business planning and healthcare decision-making.\n",
      "   - **Benefit**: Ensures all critical aspects of a problem are thoroughly examined before reaching a conclusion.\n",
      "\n",
      "---\n",
      "\n",
      "### 4. **Rational Decision-Making Model**\n",
      "   - **Description**: Focuses on a structured, step-by-step approach that includes problem identification, generating options, evaluating alternatives, and selecting the best choice.\n",
      "   - **Application**: Ideal for logical, data-heavy decisions, such as policy development or resource allocation.\n",
      "   - **Benefit**: Reduces bias by relying on data and a clear, systematic process for decision-making.\n",
      "\n",
      "---\n",
      "\n",
      "### 5. **Cost-Benefit Analysis (CBA)**\n",
      "   - **Description**: A quantitative approach that evaluates the costs and benefits of various options to determine the most economically advantageous decision.\n",
      "   - **Application**: Common in business investments, government policy, and resource prioritization.\n",
      "   - **Benefit**: Simplifies complex trade-offs by converting qualitative and quantitative factors into comparable metrics.\n",
      "\n",
      "---\n",
      "\n",
      "### 6. **Kepner-Tregoe Matrix**\n",
      "   - **Description**: Emphasizes systematically evaluating alternatives based on objectives, needs, and constraints.\n",
      "   - **Application**: Used in operations management, product development, and troubleshooting complex problems.\n",
      "   - **Benefit**: Offers a logical framework for prioritizing solutions and minimizing risks.\n",
      "\n",
      "---\n",
      "\n",
      "### 7. **Six Thinking Hats**\n",
      "   - **Description**: Developed by Edward de Bono, this method assigns specific thinking styles (e.g., objective, emotional, critical, creative) to improve group decision-making.\n",
      "   - **Application**: Ideal for brainstorming sessions, team problem-solving, and creative decision-making.\n",
      "   - **Benefit**: Encourages diverse perspectives and balanced thinking by avoiding groupthink and fostering creativity.\n",
      "\n",
      "---\n",
      "\n",
      "### 8. **Decision Trees**\n",
      "   - **Description**: A graphical tool that maps out decisions and possible consequences, allowing for systematic comparison of alternatives.\n",
      "   - **Application**: Often used in risk assessment, financial forecasting, and machine learning.\n",
      "   - **Benefit**: Visualizes potential outcomes and paths, making probabilistic reasoning more accessible.\n",
      "\n",
      "---\n",
      "\n",
      "### 9. **Pareto Analysis (80/20 Rule)**\n",
      "   - **Description**: Considers that 80% of outcomes stem from 20% of causes, helping prioritize the most impactful solutions.\n",
      "   - **Application**: Useful in quality control, time management, and business strategy optimization.\n",
      "   - **Benefit**: Focuses efforts on the most significant factors for efficient resource use.\n",
      "\n",
      "---\n",
      "\n",
      "### 10. **Pros and Cons Lists**\n",
      "   - **Description**: A simple method of weighing the advantages and disadvantages of each decision option.\n",
      "   - **Application**: Suitable for personal decisions or preliminary reviews of alternatives.\n",
      "   - **Benefit**: Quick and intuitive approach to clarify preferences.\n",
      "\n",
      "---\n",
      "\n",
      "### 11. **Nudge Theory**\n",
      "   - **Description**: Focuses on subtly guiding decisions by designing environments (choice architecture) that encourage desirable behavior.\n",
      "   - **Application**: Effective in policymaking, marketing, and influencing consumer behavior.\n",
      "   - **Benefit**: Reduces decision fatigue and unconscious biases by making subtle, beneficial options more prominent.\n",
      "\n",
      "---\n",
      "\n",
      "### 12. **SOAR Framework (Strengths, Opportunities, Aspirations, Results)**\n",
      "   - **Description**: A strengths-based alternative to SWOT, focusing on positive potential and desired outcomes.\n",
      "   - **Application**: Often employed in leadership, organizational strategy, or personal development.\n",
      "   - **Benefit**: Encourages visionary and optimistic decision-making that promotes innovation and growth.\n",
      "\n",
      "---\n",
      "\n",
      "### 13. **The Eisenhower Matrix**\n",
      "   - **Description**: A prioritization tool that categorizes tasks into four quadrants based on urgency and importance.\n",
      "   - **Application**: Effective for time management, prioritizing actions in crisis situations, or resource allocation.\n",
      "   - **Benefit**: Helps focus efforts on what truly matters while minimizing distractions.\n",
      "\n",
      "---\n",
      "\n",
      "### 14. **VUCA Framework (Volatility, Uncertainty, Complexity, Ambiguity)**\n",
      "   - **Description**: A strategic framework that guides decision-making in unstable and unpredictable environments.\n",
      "   - **Application**: Ideal for high-stakes situations in leadership, risk management, or market entry strategy.\n",
      "   - **Benefit**: Prepares organizations to navigate uncertainty and adapt quickly to changing conditions.\n",
      "\n",
      "---\n",
      "\n",
      "### 15. **Scenario Planning**\n",
      "   - **Description**: Involves creating multiple plausible future scenarios and analyzing decisions in each context.\n",
      "   - **Application**: Frequently used in strategic planning, corporate growth, and risk management.\n",
      "   - **Benefit**: Enhances strategic preparedness by considering a range of possibilities and identifying key success factors.\n",
      "\n",
      "Each framework offers unique strengths tailored to particular types of decisions. Choosing the right one depends on the complexity and context of the decision at hand."
     ]
    }
   ],
   "source": [
    "// Simple prompt to list some decision frameworks this GenAI LLM is familiar with\n",
    "var decisionPromptTemplate = \"\"\"\n",
    "Identify and list various decision-making frameworks that can enhance the quality of decisions. \n",
    "Briefly describe how each framework supports better analysis and reasoning in different decision-making scenarios.\n",
    "\"\"\";\n",
    "\n",
    "// Takes a regular prompt and creats a function that can be used to invoke the model\n",
    "var semanticDecisionFunction = semanticKernel.CreateFunctionFromPrompt(decisionPromptTemplate);\n",
    "\n",
    "await foreach (var streamChunk in semanticKernel.InvokeStreamingAsync(semanticDecisionFunction))\n",
    "{\n",
    "   Console.Write(streamChunk);\n",
    "}"
   ]
  },
  {
   "cell_type": "markdown",
   "metadata": {},
   "source": [
    "### Step 3 - Semantic Function Dynamic Decision Intelligence  "
   ]
  },
  {
   "cell_type": "markdown",
   "metadata": {},
   "source": [
    "> \"If the only tool you have is a hammer, you tend to see every problem as a nail.\"\n",
    ">\n",
    "> -- <cite>Abraham Maslow (Renowned American psychologist)</cite> "
   ]
  },
  {
   "cell_type": "markdown",
   "metadata": {},
   "source": [
    "Semantic functions can be dynamically composed using parameter placeholders, which can then be dynamically rendered using Kernel arguments. This allows the ease of passing in parameters and execution settings into the semantic functions.\n",
    "\n",
    "Execute the cell below to view how the prompt can dynamically instruct the LLM to retrieve different types of decision-making frameworks. "
   ]
  },
  {
   "cell_type": "code",
   "execution_count": 4,
   "metadata": {
    "dotnet_interactive": {
     "language": "csharp"
    },
    "polyglot_notebook": {
     "kernelName": "csharp"
    },
    "vscode": {
     "languageId": "polyglot-notebook"
    }
   },
   "outputs": [
    {
     "name": "stdout",
     "output_type": "stream",
     "text": [
      "Here are three decision-making frameworks that can enhance the quality of decisions, particularly in long-term strategic scenarios with probabilistic outcomes:\n",
      "\n",
      "---\n",
      "\n",
      "### 1. **Expected Utility Theory (EUT)**\n",
      "   **Description**: This framework involves evaluating decisions by calculating the expected utility (a measure of value or benefit) of each possible outcome, weighted by its probability. Decision-makers choose the option with the highest expected utility.\n",
      "\n",
      "   **How it supports better analysis and reasoning**:\n",
      "   - **Quantifies Uncertainty**: By incorporating probabilities, EUT helps decision-makers systematically account for uncertainty in long-term scenarios.\n",
      "   - **Focuses on Value**: It ensures decisions are aligned with organizational or personal objectives by focusing on maximizing utility rather than just outcomes.\n",
      "   - **Comparative Analysis**: Provides a structured way to compare multiple options, even when outcomes are uncertain or complex.\n",
      "\n",
      "---\n",
      "\n",
      "### 2. **Scenario Planning**\n",
      "   **Description**: Scenario planning involves creating and analyzing multiple plausible future scenarios to understand potential risks, opportunities, and outcomes. Decision-makers then develop strategies that are robust across these scenarios.\n",
      "\n",
      "   **How it supports better analysis and reasoning**:\n",
      "   - **Explores Multiple Futures**: Encourages thinking beyond a single forecast, helping to identify a range of possible outcomes and their implications.\n",
      "   - **Mitigates Bias**: Reduces overconfidence and anchoring biases by considering diverse possibilities.\n",
      "   - **Strategic Flexibility**: Helps in crafting adaptive strategies that perform well under various future conditions, improving resilience in long-term planning.\n",
      "\n",
      "---\n",
      "\n",
      "### 3. **Bayesian Decision Analysis**\n",
      "   **Description**: This framework uses Bayesian probability to update beliefs and probabilities as new information becomes available. It combines prior knowledge with new evidence to make more informed decisions.\n",
      "\n",
      "   **How it supports better analysis and reasoning**:\n",
      "   - **Dynamic Updating**: Allows decision-makers to refine their understanding of probabilities over time as new data emerges, which is critical in long-term strategic decisions.\n",
      "   - **Incorporates Uncertainty**: Provides a formal mechanism for integrating uncertainty and learning into the decision-making process.\n",
      "   - **Improves Predictions**: By continuously updating probabilities, it enhances the accuracy of forecasts and the quality of decisions based on probabilistic outcomes.\n",
      "\n",
      "---\n",
      "\n",
      "These frameworks provide structured approaches to decision-making, enabling better analysis, reasoning, and adaptability in complex, uncertain, and long-term strategic scenarios."
     ]
    }
   ],
   "source": [
    "// Takes a prompt with input variables and creates a function that can be used to invoke the GenAI model\n",
    "var decisionPromptTemplate = \"\"\"\n",
    "Identify and list {{$numberOfFrameworks}} decision-making frameworks that can enhance the quality of decisions. \n",
    "Briefly describe how each framework supports better analysis and reasoning in {{$decisionType}} decision-making scenarios.\n",
    "\"\"\";\n",
    "\n",
    "// Create the OpenAI prompt execution settings, try changing the settings to see how the output changes\n",
    "// Try different settings (Temperature, FrequencyPenalty etc) to see how they affect the quality of the generated text\n",
    "var openAIPromptExecutionSettings = new OpenAIPromptExecutionSettings { \n",
    "    MaxTokens = 750, \n",
    "    Temperature = 0.3, \n",
    "    TopP = 1.0, \n",
    "    FrequencyPenalty = 0.0, \n",
    "    PresencePenalty = 0.0\n",
    "    };\n",
    "\n",
    "var semanticDecisionFunctionWithInput = semanticKernel.CreateFunctionFromPrompt(decisionPromptTemplate, openAIPromptExecutionSettings);\n",
    "\n",
    "// Dynamically set the number of frameworks and decision type -> strategic\n",
    "var kernelArguments = new KernelArguments();\n",
    "kernelArguments.Add(\"numberOfFrameworks\", 3);\n",
    "kernelArguments.Add(\"decisionType\", \"Long-Term strategic with probabilistic outcomes\");\n",
    "\n",
    "// Stream the output of the model\n",
    "await foreach (var streamChunk in semanticKernel.InvokeStreamingAsync(semanticDecisionFunctionWithInput, kernelArguments))\n",
    "{\n",
    "   Console.Write(streamChunk);\n",
    "}"
   ]
  },
  {
   "cell_type": "markdown",
   "metadata": {},
   "source": [
    "In the example below, the number of frameworks to return has been changed as well as the type has been changed to **Quick to Implement for rapid Dicision-Making\"**.  "
   ]
  },
  {
   "cell_type": "code",
   "execution_count": 5,
   "metadata": {
    "dotnet_interactive": {
     "language": "csharp"
    },
    "polyglot_notebook": {
     "kernelName": "csharp"
    },
    "vscode": {
     "languageId": "polyglot-notebook"
    }
   },
   "outputs": [
    {
     "name": "stdout",
     "output_type": "stream",
     "text": [
      "Here are five decision-making frameworks that can enhance the quality of decisions, particularly in rapid decision-making scenarios:\n",
      "\n",
      "---\n",
      "\n",
      "### 1. **OODA Loop (Observe-Orient-Decide-Act)**  \n",
      "**Description:**  \n",
      "The OODA Loop is a cyclical framework designed for quick decision-making in dynamic and fast-changing environments. It involves four steps:  \n",
      "- **Observe:** Gather relevant information about the situation.  \n",
      "- **Orient:** Analyze the data and assess the context.  \n",
      "- **Decide:** Choose the best course of action.  \n",
      "- **Act:** Implement the decision immediately.  \n",
      "\n",
      "**How It Supports Rapid Decision-Making:**  \n",
      "The OODA Loop emphasizes speed and adaptability, allowing decision-makers to quickly process information, adjust to new developments, and act decisively. It prevents overanalysis and fosters iterative improvement.\n",
      "\n",
      "---\n",
      "\n",
      "### 2. **Pareto Analysis (80/20 Rule)**  \n",
      "**Description:**  \n",
      "This framework focuses on identifying the 20% of factors that contribute to 80% of the outcomes. It helps prioritize the most impactful actions.  \n",
      "\n",
      "**How It Supports Rapid Decision-Making:**  \n",
      "By narrowing focus to the most critical issues, Pareto Analysis eliminates distractions and ensures that time and resources are allocated to areas with the highest impact, enabling faster and more effective decisions.\n",
      "\n",
      "---\n",
      "\n",
      "### 3. **Decision Matrix (Weighted Scoring Model)**  \n",
      "**Description:**  \n",
      "A decision matrix involves listing options and evaluating them against a set of criteria, assigning weights to each criterion based on its importance. Scores are calculated to identify the best option.  \n",
      "\n",
      "**How It Supports Rapid Decision-Making:**  \n",
      "The structured approach ensures that decisions are based on objective criteria rather than intuition alone. It allows for quick comparison of options and helps avoid biases in high-pressure situations.\n",
      "\n",
      "---\n",
      "\n",
      "### 4. **Eisenhower Matrix (Urgent-Important Matrix)**  \n",
      "**Description:**  \n",
      "This framework categorizes tasks or decisions into four quadrants based on urgency and importance:  \n",
      "- **Urgent & Important:** Do immediately.  \n",
      "- **Not Urgent but Important:** Schedule for later.  \n",
      "- **Urgent but Not Important:** Delegate.  \n",
      "- **Neither Urgent nor Important:** Eliminate.  \n",
      "\n",
      "**How It Supports Rapid Decision-Making:**  \n",
      "The Eisenhower Matrix helps prioritize tasks and decisions by focusing on what truly matters, reducing overwhelm and enabling quick, effective action on high-priority items.\n",
      "\n",
      "---\n",
      "\n",
      "### 5. **SWOT Analysis (Strengths, Weaknesses, Opportunities, Threats)**  \n",
      "**Description:**  \n",
      "SWOT Analysis is a strategic tool that evaluates internal strengths and weaknesses alongside external opportunities and threats.  \n",
      "\n",
      "**How It Supports Rapid Decision-Making:**  \n",
      "By providing a clear snapshot of the situation, SWOT Analysis helps decision-makers quickly assess risks and opportunities, enabling informed and balanced decisions even under time constraints.\n",
      "\n",
      "---\n",
      "\n",
      "These frameworks are designed to streamline decision-making processes, reduce cognitive overload, and ensure that decisions are both timely and well-reasoned. They are particularly effective in scenarios where speed and clarity are critical."
     ]
    }
   ],
   "source": [
    "// Dynamically set the number of frameworks and decision type -> requring fast action\n",
    "var kernelArguments = new KernelArguments(openAIPromptExecutionSettings);\n",
    "kernelArguments.Add(\"numberOfFrameworks\", 5);\n",
    "kernelArguments.Add(\"decisionType\", \"Quick to Implement for rapid Dicision-Making\");\n",
    "\n",
    "// Stream the output of the model\n",
    "await foreach (var streamChunk in semanticKernel.InvokeStreamingAsync(semanticDecisionFunctionWithInput, kernelArguments))\n",
    "{\n",
    "   Console.Write(streamChunk);\n",
    "}"
   ]
  },
  {
   "cell_type": "markdown",
   "metadata": {},
   "source": [
    "#### Recommendation Decision Scenario with Dynamic Decision Intelligence"
   ]
  },
  {
   "cell_type": "markdown",
   "metadata": {},
   "source": [
    "In the below code a decsion-analysis scenario is introduced that uses dynamic inputs to personalize the decision recommendation dynamically. The more specific information that provides contextual information to the Generative AI model can great improve the specific recommendations. \n",
    "\n",
    "**Decision Scenario:** Michael is a 35-year-old professional chef who is considering opening his own restaurant. This is a significant life decision that could greatly impact his career and personal life. Michael is looking for a recommendation for an approach (decision) for this potentially life-changing decision. \n",
    "\n",
    "<img style=\"display: block; margin: auto;\" width =\"700px\" src=\"https://raw.githubusercontent.com/bartczernicki/DecisionIntelligence.GenAI.Workshop/main/Images/Scenarios/Scenario-RestaurantDecision.png\">\n",
    "\n",
    "Three factors will be considered for this scenario that the user will be prompted for: \n",
    "1) Michael's Total Net Worth in dollars (enter number)\n",
    "2) Level of competition with other restaurants (low, medium, high) \n",
    "3) Level of support from Michael's friends and family (low, medium, high) \n",
    "\n",
    "**Various Inputs:** Vary the input of net worth, restaurant competition and level of family support to note the various outcomes.  "
   ]
  },
  {
   "cell_type": "code",
   "execution_count": 6,
   "metadata": {
    "dotnet_interactive": {
     "language": "csharp"
    },
    "polyglot_notebook": {
     "kernelName": "csharp"
    },
    "vscode": {
     "languageId": "polyglot-notebook"
    }
   },
   "outputs": [
    {
     "name": "stdout",
     "output_type": "stream",
     "text": [
      "Michael's Net Worth: 500000\n",
      "Level of Restaurant Competition: low\n",
      "Michael's level of Family Support: low\n",
      "\n",
      "Opening a restaurant is a significant decision that requires careful consideration of financial, emotional, and logistical factors. Based on the information provided, here is a recommendation for Michael:\n",
      "\n",
      "### 1. **Evaluate Financial Feasibility**\n",
      "   - **Net Worth Consideration**: Michael's net worth of $500,000 provides a solid foundation, but opening a restaurant can be a costly venture. Initial startup costs (e.g., leasing a space, equipment, permits, staff, and marketing) can range from $250,000 to $1,000,000 depending on the location and concept. Michael should assess whether he can comfortably allocate a portion of his net worth to this venture without jeopardizing his financial stability.\n",
      "   - **Cash Flow Planning**: Restaurants often take time to become profitable. Michael should ensure he has enough savings or access to capital to cover at least 6-12 months of operating expenses, including personal living costs, in case the restaurant takes time to gain traction.\n",
      "\n",
      "### 2. **Leverage the Low Competition**\n",
      "   - The low level of competition is a promising factor, as it suggests there may be an unmet demand in the market. Michael should conduct thorough market research to identify the specific needs and preferences of the target audience in the area. A unique and well-researched concept could give him a strong competitive edge.\n",
      "\n",
      "### 3. **Address the Lack of Support**\n",
      "   - The low level of support from friends and family is a potential challenge. Opening and running a restaurant is a demanding endeavor that often requires long hours, emotional resilience, and a strong support system. Michael should consider:\n",
      "     - Building a network of mentors or industry professionals who can provide guidance and encouragement.\n",
      "     - Hiring a reliable and experienced team to share the workload and reduce stress.\n",
      "     - Seeking emotional support from a therapist or coach to help navigate the pressures of entrepreneurship.\n",
      "\n",
      "### 4. **Start Small or Test the Concept**\n",
      "   - To minimize risk, Michael could consider starting small, such as:\n",
      "     - Launching a pop-up restaurant or food truck to test his concept and build a customer base.\n",
      "     - Partnering with an existing restaurant to host special events or menu takeovers.\n",
      "     - Offering catering services or meal delivery to gauge demand and refine his offerings.\n",
      "   - These approaches allow Michael to validate his idea and gain experience as a business owner without committing to the full financial and operational burden of a brick-and-mortar restaurant.\n",
      "\n",
      "### 5. **Develop a Comprehensive Business Plan**\n",
      "   - A well-thought-out business plan is essential for success. Michael should include:\n",
      "     - A clear vision and concept for the restaurant.\n",
      "     - Detailed financial projections, including startup costs, operating expenses, and revenue forecasts.\n",
      "     - A marketing strategy to attract and retain customers.\n",
      "     - Contingency plans for potential challenges, such as staffing shortages or economic downturns.\n",
      "\n",
      "### 6. **Consider Personal Goals and Lifestyle**\n",
      "   - Michael should reflect on how opening a restaurant aligns with his long-term career goals and personal life. Running a restaurant can be all-consuming, so he should ensure he is prepared for the lifestyle changes it may bring.\n",
      "\n",
      "### Recommendation:\n",
      "If Michael is passionate about this venture and willing to take on the challenges, he should proceed cautiously by starting small, conducting thorough research, and creating a solid business plan. However, if he feels uncertain about the lack of support or the financial risk, he may want to explore alternative ways to pursue his culinary ambitions, such as consulting, teaching, or collaborating with existing establishments."
     ]
    }
   ],
   "source": [
    "// Import the Microsoft.DotNet.Interactive namespace for user input\n",
    "using Microsoft.DotNet.Interactive;\n",
    "\n",
    "var totalNetWorth = await Microsoft.DotNet.Interactive.Kernel.GetInputAsync(\"Micheal's total net worth in dollars: \");\n",
    "var levelOfCompetition = await Microsoft.DotNet.Interactive.Kernel.GetInputAsync(\"Level of competition with other restaurants (Low, Medium, High): \");\n",
    "var levelOfFamilySupport = await Microsoft.DotNet.Interactive.Kernel.GetInputAsync(\"Level of support from Michael's friends and family (Low, Medium, High): \");\n",
    "\n",
    "Console.WriteLine($\"Michael's Net Worth: {totalNetWorth}\");\n",
    "Console.WriteLine($\"Level of Restaurant Competition: {levelOfCompetition}\");\n",
    "Console.WriteLine($\"Michael's level of Family Support: {levelOfFamilySupport}\");\n",
    "Console.WriteLine();\n",
    "\n",
    "// Takes a prompt with input variables and creates a function that can be used to invoke the model\n",
    "var restaurantDecisionRecommendation = \"\"\"\n",
    "Michael is a 35-year-old professional chef who is considering opening his own restaurant. \n",
    "This is a significant life decision that could greatly impact his career and personal life. \n",
    "Michael is looking for a recommendation on how to approach this.\n",
    "Some key information about Michael:\n",
    "- Michael's total net worth is (in US dollars) ${{$totalNetWorth}}.\n",
    "- The level of competition with other restaurants is {{$levelOfCompetition}}.\n",
    "- The level of support from Michael's friends and family is {{$levelOfFamilySupport}}.\n",
    "\n",
    "Based on this information, what recommendation would you give to Michael regarding opening his own restaurant?\n",
    "\"\"\";\n",
    "\n",
    "// Create the OpenAI prompt execution settings, try changing the settings to see how the output changes\n",
    "// Try different settings (Temperature, FrequencyPenalty etc) to see how they affect the quality of the generated text\n",
    "var openAIPromptExecutionSettings = new OpenAIPromptExecutionSettings { \n",
    "    MaxTokens = 750, \n",
    "    Temperature = 0.3, \n",
    "    TopP = 1.0, \n",
    "    FrequencyPenalty = 0.0, \n",
    "    PresencePenalty = 0.0\n",
    "    };\n",
    "\n",
    "var semanticRestaurantDecisionRecommendation = semanticKernel.CreateFunctionFromPrompt(restaurantDecisionRecommendation, openAIPromptExecutionSettings);\n",
    "\n",
    "// Dynamically set the number of frameworks and decision type -> strategic\n",
    "var kernelArgumentsRestaurantDecisionRecommendation = new KernelArguments();\n",
    "kernelArgumentsRestaurantDecisionRecommendation.Add(\"totalNetWorth\", totalNetWorth);\n",
    "kernelArgumentsRestaurantDecisionRecommendation.Add(\"levelOfCompetition\", levelOfCompetition);\n",
    "kernelArgumentsRestaurantDecisionRecommendation.Add(\"levelOfFamilySupport\", levelOfFamilySupport);\n",
    "\n",
    "// Stream the output of the model\n",
    "await foreach (var streamChunk in semanticKernel.InvokeStreamingAsync(semanticRestaurantDecisionRecommendation, kernelArgumentsRestaurantDecisionRecommendation))\n",
    "{\n",
    "   Console.Write(streamChunk);\n",
    "}\n"
   ]
  }
 ],
 "metadata": {
  "kernelspec": {
   "display_name": ".NET (C#)",
   "language": "C#",
   "name": ".net-csharp"
  },
  "language_info": {
   "name": "csharp"
  },
  "polyglot_notebook": {
   "kernelInfo": {
    "defaultKernelName": "csharp",
    "items": [
     {
      "aliases": [],
      "name": "csharp"
     }
    ]
   }
  }
 },
 "nbformat": 4,
 "nbformat_minor": 2
}
