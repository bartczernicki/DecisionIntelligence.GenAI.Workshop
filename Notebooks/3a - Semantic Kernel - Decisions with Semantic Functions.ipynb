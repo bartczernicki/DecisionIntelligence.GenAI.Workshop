{
 "cells": [
  {
   "cell_type": "markdown",
   "metadata": {},
   "source": [
    "<img style=\"float: left;padding-right: 10px\" width =\"40px\" src=\"https://raw.githubusercontent.com/bartczernicki/DecisionIntelligence.GenAI.Workshop/main/Images/SemanticKernelLogo.png\">\n",
    "\n",
    "## Semantic Kernel - Decisions with Semantic Functions "
   ]
  },
  {
   "cell_type": "markdown",
   "metadata": {},
   "source": [
    "Decision Intelligence applied in this module:  \n",
    "* Listing of various decision-making frameworks with their descriptions \n",
    "* Listing types of decision-making frameworks dynamically based on the type  "
   ]
  },
  {
   "cell_type": "markdown",
   "metadata": {},
   "source": [
    "Semantic Kernel Functions are the core building blocks of functionality for intelligent AI orchestration. Semantic Kernel functions usually have a single responsibility to perform. For example, a Sementic Kernel function can: send an e-mail, call an API, recommend a reasoning framework for a high-stakes decision etc. \n",
    "\n",
    "What makes Semantic Kernel functions so special? Can't one just produce similar outcomes by using a prompt in an LLM or just writing a software program? In order to answer that, one has to look at what makes GenAI so innovative. The GenAI models have a unique ability to process instructions with reasoning and logic. This allows these models to behave almost like a human decision maker. Even with basic prompts, GenAI models perform reasonably well. However, providing GenAI models with additional functions allows them to gain access to business processes, data and basically anything a GenAI model should consider when performing AI orchestration. \n",
    "\n",
    "For example, imagine you want to prepare a great Thanksgiving dinner and want to get help from a GenAI cooking application to create a new recipe. You enter what you want todo and it comes up with the most delicious looking feast for Thanksgiving. However, there is a problem it used ingredients and recommended using cooking appliances that you do not own! You could enter all of the ingredients and keep prompting until it narrowed down the what you could realistically make. Wouldn't it be better if the GenAI cooking application had access to: your available ingredients, your time availability, kitchen appliances and even your allergic preferences. Now the GenAI model can craft a Thanksgiving feast understanding the parameters and data without having to be guided. This is exactly what Semantic Kernel functions provide.\n",
    "\n",
    "Semantic Kernel functions come in two flavors: \n",
    "* Semantic functions\n",
    "* Native functions\n",
    "\n",
    "Semantic functions are basically **prompt instructions** that help guide GenAI LLMs around the specific guidelines it should adhere to when building the AI orchestration. Therefore, semantic functions are likely the first place most AI architects/engineers start when composing AI orchestration with Semantic Kernel. Semantic functions can also take in parameters for dynamic creaation of instructions.  "
   ]
  },
  {
   "cell_type": "markdown",
   "metadata": {},
   "source": [
    "Below is an example of semantic function that can be used for facilitating decision-making. Note the **{{$decisionToMake}}** input where the parameter can be dynamically passed in to provide additional specificity.\n",
    "\n",
    "```javascript\n",
    "[DECISION FRAMEWORKS TO USE]\n",
    "Price's Law\n",
    "Pareto Principle\n",
    "Laplace Rule of Succession\n",
    "Eisenhower Matrix\n",
    "Median Rule of Five\n",
    "Second Order Thinking\n",
    "\n",
    "[DECISION GUIDANCE]\n",
    "Try to use the best fitting framework.  \n",
    "Prefer using quantitative decision frameworks rather qualitative ones.  \n",
    "Use the code interpreter to validate quantitative reasoning.\n",
    "\n",
    "Use the decision frameworks above to help the user make the following decision:\n",
    "{{$decisionToMake}}\n",
    "```  \n",
    "\n",
    "The image below illustrates the core value of semantic functions. \n",
    "\n",
    "<img style=\"display: block; margin: auto;\" width =\"500px\" src=\"https://learn.microsoft.com/en-us/semantic-kernel/media/semantic-function-explainer.png\">"
   ]
  },
  {
   "cell_type": "markdown",
   "metadata": {},
   "source": [
    "### Step 1 - Initialize Configuration Builder & Build the Semantic Kernel Orchestration "
   ]
  },
  {
   "cell_type": "markdown",
   "metadata": {},
   "source": [
    "Execute the next two cells to:\n",
    "* Use the Configuration Builder to load the API secrets.  \n",
    "* Use the API configuration to build the Semantic Kernel orchestrator."
   ]
  },
  {
   "cell_type": "code",
   "execution_count": 1,
   "metadata": {
    "dotnet_interactive": {
     "language": "csharp"
    },
    "polyglot_notebook": {
     "kernelName": "csharp"
    },
    "vscode": {
     "languageId": "polyglot-notebook"
    }
   },
   "outputs": [
    {
     "data": {
      "text/html": [
       "<div><div></div><div></div><div><strong>Installed Packages</strong><ul><li><span>Microsoft.Extensions.Configuration, 9.0.4</span></li><li><span>Microsoft.Extensions.Configuration.Json, 9.0.4</span></li><li><span>Microsoft.SemanticKernel, 1.47.0</span></li><li><span>Microsoft.SemanticKernel.Plugins.Core, 1.47.0-alpha</span></li></ul></div></div>"
      ]
     },
     "metadata": {},
     "output_type": "display_data"
    }
   ],
   "source": [
    "#r \"nuget: Microsoft.Extensions.Configuration, 9.0.4\"\n",
    "#r \"nuget: Microsoft.Extensions.Configuration.Json, 9.0.4\"\n",
    "#r \"nuget: Microsoft.SemanticKernel, 1.47\"\n",
    "#r \"nuget: Microsoft.SemanticKernel.Plugins.Core, 1.47-alpha\"\n",
    "\n",
    "using Microsoft.Extensions.Configuration;\n",
    "using Microsoft.SemanticKernel;\n",
    "using Microsoft.SemanticKernel.ChatCompletion;\n",
    "using Microsoft.SemanticKernel.Connectors.OpenAI;\n",
    "using System.IO;\n",
    "\n",
    "var configurationBuilder = new ConfigurationBuilder()\n",
    "    .SetBasePath(Directory.GetCurrentDirectory())\n",
    "    .AddJsonFile(\"local.settings.json\", optional: true, reloadOnChange: true)\n",
    "    .AddJsonFile(\"secrets.settings.json\", optional: true, reloadOnChange: true);\n",
    "var config = configurationBuilder.Build();\n",
    "\n",
    "// IMPORTANT: You ONLY NEED either Azure OpenAI or OpenAI connectiopn info, not both.\n",
    "// Azure OpenAI Connection Info\n",
    "var azureOpenAIEndpoint = config[\"AzureOpenAI:Endpoint\"];\n",
    "var azureOpenAIAPIKey = config[\"AzureOpenAI:APIKey\"];\n",
    "var azureOpenAIModelDeploymentName = config[\"AzureOpenAI:ModelDeploymentName\"];\n",
    "// OpenAI Connection Info \n",
    "var openAIAPIKey = config[\"OpenAI:APIKey\"];\n",
    "var openAIModelId = config[\"OpenAI:ModelId\"];"
   ]
  },
  {
   "cell_type": "code",
   "execution_count": 2,
   "metadata": {
    "dotnet_interactive": {
     "language": "csharp"
    },
    "polyglot_notebook": {
     "kernelName": "csharp"
    },
    "vscode": {
     "languageId": "polyglot-notebook"
    }
   },
   "outputs": [
    {
     "name": "stdout",
     "output_type": "stream",
     "text": [
      "Using Azure OpenAI Service\n"
     ]
    }
   ],
   "source": [
    "Kernel semanticKernel;\n",
    "\n",
    "// Set the flag to use Azure OpenAI or OpenAI. False to use OpenAI, True to use Azure OpenAI\n",
    "var useAzureOpenAI = true;\n",
    "\n",
    "// Create a new Semantic Kernel instance\n",
    "if (useAzureOpenAI)\n",
    "{\n",
    "    Console.WriteLine(\"Using Azure OpenAI Service\");\n",
    "    semanticKernel = Kernel.CreateBuilder()\n",
    "        .AddAzureOpenAIChatCompletion(\n",
    "            deploymentName: azureOpenAIModelDeploymentName,\n",
    "            endpoint: azureOpenAIEndpoint,\n",
    "            apiKey: azureOpenAIAPIKey)\n",
    "        .Build();\n",
    "}\n",
    "else\n",
    "{\n",
    "    Console.WriteLine(\"Using OpenAI Service\");\n",
    "    semanticKernel = Kernel.CreateBuilder()\n",
    "        .AddOpenAIChatCompletion(\n",
    "            modelId: openAIModelId,\n",
    "            apiKey: openAIAPIKey)\n",
    "        .Build();\n",
    "}"
   ]
  },
  {
   "cell_type": "markdown",
   "metadata": {},
   "source": [
    "### Step 2 - Create a Semantic Kernel - Semantic Function "
   ]
  },
  {
   "cell_type": "markdown",
   "metadata": {},
   "source": [
    "> 📜 \"Decision frameworks are like maps. Use them to navigate complex decision-making terrain.  \n",
    ">\n",
    "> -- <cite>Unknown</cite> "
   ]
  },
  {
   "cell_type": "markdown",
   "metadata": {},
   "source": [
    "Semantic functions are constructs inside Semantic Kernel that are basically just prompt instructions. What makes the special is that they can be exposed as functions, thus it makes re-usability easy. Furthermore, future modules will show how they can faciliate composability into plugins. "
   ]
  },
  {
   "cell_type": "code",
   "execution_count": 3,
   "metadata": {
    "dotnet_interactive": {
     "language": "csharp"
    },
    "polyglot_notebook": {
     "kernelName": "csharp"
    },
    "vscode": {
     "languageId": "polyglot-notebook"
    }
   },
   "outputs": [
    {
     "name": "stdout",
     "output_type": "stream",
     "text": [
      "Here’s a comprehensive list of decision-making frameworks along with descriptions of how each supports enhanced analysis and reasoning, tailored to various decision-making scenarios:\n",
      "\n",
      "---\n",
      "\n",
      "### 1. **Rational Decision-Making Model**\n",
      "- **Description**: A structured and logical process for making decisions that involves identifying the problem, gathering information, generating alternatives, evaluating options, and choosing the best solution.\n",
      "- **Strengths**: Promotes thorough analysis, reduces cognitive bias, and ensures clarity in decision-making, particularly useful for high-stakes, complex decisions with reliable data.\n",
      "\n",
      "---\n",
      "\n",
      "### 2. **Pros and Cons Analysis**\n",
      "- **Description**: A straightforward framework that involves listing positive (pros) and negative (cons) aspects of each option.\n",
      "- **Strengths**: Encourages clear reasoning, simplifies comparisons between options, and can be used for quick decisions in personal or professional scenarios.\n",
      "\n",
      "---\n",
      "\n",
      "### 3. **Kepner-Tregoe Decision Analysis**\n",
      "- **Description**: A systematic process that focuses on evaluating options against weighted criteria. It involves separating “musts” (non-negotiables) from “wants” (preferences), scoring options, and prioritizing the best fit.\n",
      "- **Strengths**: Helps teams objectively assess alternatives, avoids emotional bias, and supports prioritization of key factors in complex organizational decisions.\n",
      "\n",
      "---\n",
      "\n",
      "### 4. **SWOT Analysis (Strengths, Weaknesses, Opportunities, Threats)**\n",
      "- **Description**: A strategic framework for assessing internal and external factors related to a decision.\n",
      "- **Strengths**: Encourages a holistic approach by considering risks and opportunities, making it ideal for business strategies, project planning, or competitive assessments.\n",
      "\n",
      "---\n",
      "\n",
      "### 5. **Pugh Matrix (Decision Matrix Method)**\n",
      "- **Description**: A comparison tool that rates multiple options against a set of criteria and assigns scores to each option.\n",
      "- **Strengths**: Simplifies comparisons, reduces subjective bias, and provides a quantitative way to identify the most advantageous option. Excellent for engineering, product development, or purchasing decisions.\n",
      "\n",
      "---\n",
      "\n",
      "### 6. **Cost-Benefit Analysis**\n",
      "- **Description**: Compares the costs and benefits (monetary or otherwise) of each option to determine the net outcome.\n",
      "- **Strengths**: Ensures resource allocation is efficient and decisions are financially sound, making it ideal for economic, investment, or policy-related decisions.\n",
      "\n",
      "---\n",
      "\n",
      "### 7. **The Eisenhower Matrix**\n",
      "- **Description**: Organizes tasks or decisions based on urgency and importance, dividing them into four quadrants: urgent/important, important/not urgent, urgent/not important, not urgent/not important.\n",
      "- **Strengths**: Prioritizes effectively, reduces time-wasting, and focuses on high-impact actions, ideal for personal productivity and project management.\n",
      "\n",
      "---\n",
      "\n",
      "### 8. **Delphi Technique**\n",
      "- **Description**: A group decision-making process in which experts provide feedback individually, anonymously, and iteratively to reach a consensus.\n",
      "- **Strengths**: Reduces groupthink, leverages diverse expertise, and produces refined insights in complex, uncertain scenarios like forecasting or policy-making.\n",
      "\n",
      "---\n",
      "\n",
      "### 9. **OODA Loop (Observe, Orient, Decide, Act)**\n",
      "- **Description**: A rapid decision-making framework emphasizing iterative cycles of observing information, orienting to context, deciding, and acting.\n",
      "- **Strengths**: Enhances agility, responsiveness, and adaptability in dynamic, fast-changing environments such as military operations or crisis management.\n",
      "\n",
      "---\n",
      "\n",
      "### 10. **Six Thinking Hats**\n",
      "- **Description**: A lateral thinking framework developed by Edward de Bono, where participants adopt six metaphorical “hats” representing different perspectives (facts, emotions, creativity, caution, process, and optimism).\n",
      "- **Strengths**: Encourages balanced evaluations by addressing emotions, risks, logic, and creativity, useful for team brainstorming or innovation-focused decisions.\n",
      "\n",
      "---\n",
      "\n",
      "### 11. **Decision Tree Analysis**\n",
      "- **Description**: Visualizes possible outcomes of a decision by mapping sequential choices and their consequences.\n",
      "- **Strengths**: Clarifies complex choices, helps anticipate consequences, and supports probabilistic risk assessment, often used in business or investment planning.\n",
      "\n",
      "---\n",
      "\n",
      "### 12. **Pareto Analysis (80/20 Rule)**\n",
      "- **Description**: Focuses on identifying the decisions or actions that yield the highest impact with minimal effort (approximately 20% of inputs lead to 80% of results).\n",
      "- **Strengths**: Highlights areas for maximum efficiency, ideal for problem-solving or prioritizing resource allocation.\n",
      "\n",
      "---\n",
      "\n",
      "### 13. **Futures Wheel**\n",
      "- **Description**: A visual brainstorming technique that maps possible ripple effects of a decision or event through interconnected “future consequences.”\n",
      "- **Strengths**: Enhances foresight, uncovers unintended effects, and supports long-term strategic thinking.\n",
      "\n",
      "---\n",
      "\n",
      "### 14. **The Ladder of Inference**\n",
      "- **Description**: Identifies the cognitive steps in reasoning—from observing data to making assumptions, drawing conclusions, and taking action—by challenging biases and assumptions.\n",
      "- **Strengths**: Promotes critical thinking, reduces cognitive errors, and improves communication, valuable for resolving conflicts or evaluating subjective decisions.\n",
      "\n",
      "---\n",
      "\n",
      "### 15. **Regret Minimization Framework**\n",
      "- **Description**: Developed by Jeff Bezos, this framework evaluates decisions based on minimizing future regret rather than optimizing immediate outcomes.\n",
      "- **Strengths**: Guides long-term, impactful decisions such as career changes, entrepreneurial risks, or life-altering choices.\n",
      "\n",
      "---\n",
      "\n",
      "### 16. **Influence Diagram**\n",
      "- **Description**: A graphical representation tool that maps relationships between decisions, uncertainties, and objectives visually.\n",
      "- **Strengths**: Clarifies dependencies, reduces complexity in decision-making, and supports probabilistic analysis in strategic decisions.\n",
      "\n",
      "---\n",
      "\n",
      "### 17. **Game Theory**\n",
      "- **Description**: An analytical framework for understanding strategies and outcomes in situations involving competition, cooperation, or negotiation.\n",
      "- **Strengths**: Assists with predicting behaviors, optimizing strategies, and analyzing interdependent decisions, useful for business competition or market strategy.\n",
      "\n",
      "---\n",
      "\n",
      "### 18. **Pre-Mortem Technique**\n",
      "- **Description**: A proactive approach where teams identify potential failure points before implementing a decision or project.\n",
      "- **Strengths**: Reduces overconfidence, improves risk mitigation strategies, and increases resilience in project planning or innovation.\n",
      "\n",
      "---\n",
      "\n",
      "By leveraging these frameworks, individuals and teams can adapt their analysis and reasoning to fit the specific decision context, whether it involves short-term problem-solving, strategic forecasting, or high-stakes organizational choices."
     ]
    }
   ],
   "source": [
    "// Simple prompt to list some decision frameworks this GenAI LLM is familiar with\n",
    "var decisionPromptTemplate = \"\"\"\n",
    "Identify and list various decision-making frameworks that can enhance the quality of decisions. \n",
    "Briefly describe how each framework supports better analysis and reasoning in different decision-making scenarios.\n",
    "\"\"\";\n",
    "\n",
    "// Takes a regular prompt and creats a function that can be used to invoke the model\n",
    "var semanticDecisionFunction = semanticKernel.CreateFunctionFromPrompt(decisionPromptTemplate);\n",
    "\n",
    "await foreach (var streamChunk in semanticKernel.InvokeStreamingAsync(semanticDecisionFunction))\n",
    "{\n",
    "   Console.Write(streamChunk);\n",
    "}"
   ]
  },
  {
   "cell_type": "markdown",
   "metadata": {},
   "source": [
    "### Step 3 - Semantic Function Dynamic Decision Intelligence  "
   ]
  },
  {
   "cell_type": "markdown",
   "metadata": {},
   "source": [
    "> 📜 \"If the only tool you have is a hammer, you tend to see every problem as a nail.\"\n",
    ">\n",
    "> -- <cite>Abraham Maslow (Renowned American psychologist)</cite> "
   ]
  },
  {
   "cell_type": "markdown",
   "metadata": {},
   "source": [
    "Semantic functions can be dynamically composed using parameter placeholders, which can then be dynamically rendered using Kernel arguments. This allows the ease of passing in parameters and execution settings into the semantic functions.\n",
    "\n",
    "Execute the cell below to view how the prompt can dynamically instruct the LLM to retrieve different types of decision-making frameworks. "
   ]
  },
  {
   "cell_type": "code",
   "execution_count": 5,
   "metadata": {
    "dotnet_interactive": {
     "language": "csharp"
    },
    "polyglot_notebook": {
     "kernelName": "csharp"
    },
    "vscode": {
     "languageId": "polyglot-notebook"
    }
   },
   "outputs": [
    {
     "name": "stdout",
     "output_type": "stream",
     "text": [
      "Here are three decision-making frameworks that can enhance the quality of decisions, particularly in long-term strategic scenarios with probabilistic outcomes:\n",
      "\n",
      "---\n",
      "\n",
      "### 1. **Expected Utility Theory (EUT)**  \n",
      "**Description:**  \n",
      "Expected Utility Theory is a mathematical framework used to make decisions under uncertainty by evaluating the potential outcomes of different choices based on their probabilities and the decision-maker's preferences (or utility).  \n",
      "\n",
      "**How it supports better analysis and reasoning:**  \n",
      "- **Quantifies trade-offs:** EUT helps decision-makers weigh the benefits and risks of various options by assigning numerical values to outcomes and their probabilities.  \n",
      "- **Incorporates uncertainty:** By explicitly considering probabilistic outcomes, it ensures that decisions are not based solely on the most likely scenario but also account for less likely but impactful events.  \n",
      "- **Aligns with long-term goals:** The utility function can be tailored to reflect long-term strategic objectives, ensuring decisions align with overarching priorities.\n",
      "\n",
      "---\n",
      "\n",
      "### 2. **Scenario Planning**  \n",
      "**Description:**  \n",
      "Scenario Planning involves creating multiple detailed and plausible future scenarios to explore how different factors and uncertainties might evolve over time and impact strategic decisions.  \n",
      "\n",
      "**How it supports better analysis and reasoning:**  \n",
      "- **Encourages foresight:** It helps decision-makers anticipate a range of possible futures rather than relying on a single forecast, improving preparedness for uncertainty.  \n",
      "- **Identifies key drivers:** The process highlights critical uncertainties and variables that could influence outcomes, enabling better focus on what matters most.  \n",
      "- **Stress-tests strategies:** By evaluating how strategies perform across different scenarios, decision-makers can identify robust options that are resilient to a variety of future conditions.\n",
      "\n",
      "---\n",
      "\n",
      "### 3. **Bayesian Decision Analysis**  \n",
      "**Description:**  \n",
      "Bayesian Decision Analysis applies Bayes' Theorem to update probabilities as new information becomes available, enabling dynamic and evidence-based decision-making.  \n",
      "\n",
      "**How it supports better analysis and reasoning:**  \n",
      "- **Incorporates new evidence:** It allows decision-makers to refine their understanding of uncertainties over time, improving the accuracy of probabilistic assessments.  \n",
      "- **Supports adaptive strategies:** By continuously updating probabilities, it facilitates adjustments to strategies as conditions change or new data emerges.  \n",
      "- **Balances prior knowledge and new data:** The framework combines prior beliefs with observed evidence, ensuring decisions are grounded in both historical insights and current realities.\n",
      "\n",
      "---\n",
      "\n",
      "These frameworks provide structured approaches to handle uncertainty, evaluate trade-offs, and align decisions with long-term goals, making them particularly valuable in complex strategic contexts with probabilistic outcomes."
     ]
    }
   ],
   "source": [
    "// Takes a prompt with input variables and creates a function that can be used to invoke the GenAI model\n",
    "var decisionPromptTemplate = \"\"\"\n",
    "Identify and list {{$numberOfFrameworks}} decision-making frameworks that can enhance the quality of decisions. \n",
    "Briefly describe how each framework supports better analysis and reasoning in {{$decisionType}} decision-making scenarios.\n",
    "\"\"\";\n",
    "\n",
    "// Create the OpenAI prompt execution settings, try changing the settings to see how the output changes\n",
    "// Try different settings (Temperature, FrequencyPenalty etc) to see how they affect the quality of the generated text\n",
    "var openAIPromptExecutionSettings = new OpenAIPromptExecutionSettings { \n",
    "    MaxTokens = 750, \n",
    "    Temperature = 0.3, \n",
    "    TopP = 1.0, \n",
    "    FrequencyPenalty = 0.0, \n",
    "    PresencePenalty = 0.0\n",
    "    };\n",
    "\n",
    "var semanticDecisionFunctionWithInput = semanticKernel.CreateFunctionFromPrompt(decisionPromptTemplate, openAIPromptExecutionSettings);\n",
    "\n",
    "// Dynamically set the number of frameworks and decision type -> strategic\n",
    "var kernelArguments = new KernelArguments();\n",
    "kernelArguments.Add(\"numberOfFrameworks\", 3);\n",
    "kernelArguments.Add(\"decisionType\", \"Long-Term strategic with probabilistic outcomes\");\n",
    "\n",
    "// Stream the output of the model\n",
    "await foreach (var streamChunk in semanticKernel.InvokeStreamingAsync(semanticDecisionFunctionWithInput, kernelArguments))\n",
    "{\n",
    "   Console.Write(streamChunk);\n",
    "}"
   ]
  },
  {
   "cell_type": "markdown",
   "metadata": {},
   "source": [
    "In the example below, the number of frameworks to return has been changed as well as the type has been changed to **Quick to Implement for rapid Dicision-Making\"**.  "
   ]
  },
  {
   "cell_type": "code",
   "execution_count": 6,
   "metadata": {
    "dotnet_interactive": {
     "language": "csharp"
    },
    "polyglot_notebook": {
     "kernelName": "csharp"
    },
    "vscode": {
     "languageId": "polyglot-notebook"
    }
   },
   "outputs": [
    {
     "name": "stdout",
     "output_type": "stream",
     "text": [
      "Here are five decision-making frameworks that can enhance the quality of decisions, particularly in rapid decision-making scenarios:\n",
      "\n",
      "---\n",
      "\n",
      "### 1. **OODA Loop (Observe, Orient, Decide, Act)**  \n",
      "**Description:**  \n",
      "The OODA Loop is a cyclical process designed for rapid decision-making, originally developed for military strategy. It involves four steps:  \n",
      "- **Observe:** Gather relevant information about the situation.  \n",
      "- **Orient:** Analyze the information and understand the context.  \n",
      "- **Decide:** Choose the best course of action based on the analysis.  \n",
      "- **Act:** Implement the decision quickly.  \n",
      "\n",
      "**How it supports better analysis and reasoning:**  \n",
      "The OODA Loop emphasizes agility and adaptability, enabling decision-makers to respond quickly to changing circumstances. It ensures that decisions are informed by real-time data and situational awareness, reducing the risk of delays.\n",
      "\n",
      "---\n",
      "\n",
      "### 2. **Eisenhower Matrix (Urgent-Important Matrix)**  \n",
      "**Description:**  \n",
      "This framework helps prioritize tasks by categorizing them into four quadrants based on urgency and importance:  \n",
      "- Urgent & Important: Do immediately.  \n",
      "- Important but Not Urgent: Schedule for later.  \n",
      "- Urgent but Not Important: Delegate.  \n",
      "- Neither Urgent nor Important: Eliminate.  \n",
      "\n",
      "**How it supports better analysis and reasoning:**  \n",
      "The Eisenhower Matrix enables rapid prioritization by focusing on what truly matters, preventing decision-makers from wasting time on low-priority tasks. It simplifies complex scenarios into actionable steps.\n",
      "\n",
      "---\n",
      "\n",
      "### 3. **Pareto Analysis (80/20 Rule)**  \n",
      "**Description:**  \n",
      "Pareto Analysis focuses on identifying the 20% of factors that contribute to 80% of the outcomes. It helps prioritize efforts on high-impact areas.  \n",
      "\n",
      "**How it supports better analysis and reasoning:**  \n",
      "In rapid decision-making, Pareto Analysis narrows the focus to the most critical elements, ensuring that limited time and resources are allocated to areas with the greatest potential impact.\n",
      "\n",
      "---\n",
      "\n",
      "### 4. **SWOT Analysis (Strengths, Weaknesses, Opportunities, Threats)**  \n",
      "**Description:**  \n",
      "SWOT Analysis evaluates internal and external factors affecting a decision by categorizing them into strengths, weaknesses, opportunities, and threats.  \n",
      "\n",
      "**How it supports better analysis and reasoning:**  \n",
      "This framework provides a structured way to quickly assess the pros and cons of a situation, helping decision-makers weigh risks and benefits effectively. It ensures a balanced perspective in time-sensitive scenarios.\n",
      "\n",
      "---\n",
      "\n",
      "### 5. **DECIDE Model (Define, Establish, Consider, Identify, Develop, Evaluate)**  \n",
      "**Description:**  \n",
      "The DECIDE Model is a step-by-step framework for structured decision-making:  \n",
      "- **Define** the problem.  \n",
      "- **Establish** criteria for success.  \n",
      "- **Consider** alternatives.  \n",
      "- **Identify** the best option.  \n",
      "- **Develop** a plan of action.  \n",
      "- **Evaluate** the decision after implementation.  \n",
      "\n",
      "**How it supports better analysis and reasoning:**  \n",
      "The DECIDE Model ensures that all critical aspects of a decision are addressed systematically, even under time pressure. It balances speed with thoroughness, minimizing the likelihood of overlooking key factors.\n",
      "\n",
      "---\n",
      "\n",
      "These frameworks are particularly useful in rapid decision-making scenarios because they provide clear, structured approaches to breaking down complex problems, prioritizing actions, and ensuring that decisions are both timely and effective."
     ]
    }
   ],
   "source": [
    "// Dynamically set the number of frameworks and decision type -> requring fast action\n",
    "var kernelArguments = new KernelArguments(openAIPromptExecutionSettings);\n",
    "kernelArguments.Add(\"numberOfFrameworks\", 5);\n",
    "kernelArguments.Add(\"decisionType\", \"Quick to Implement for rapid Dicision-Making\");\n",
    "\n",
    "// Stream the output of the model\n",
    "await foreach (var streamChunk in semanticKernel.InvokeStreamingAsync(semanticDecisionFunctionWithInput, kernelArguments))\n",
    "{\n",
    "   Console.Write(streamChunk);\n",
    "}"
   ]
  },
  {
   "cell_type": "markdown",
   "metadata": {},
   "source": [
    "#### Recommendation Decision Scenario with Dynamic Decision Intelligence"
   ]
  },
  {
   "cell_type": "markdown",
   "metadata": {},
   "source": [
    "In the below code a decsion-analysis scenario is introduced that uses dynamic inputs to personalize the decision recommendation dynamically. The more specific information that provides contextual information to the Generative AI model can great improve the specific recommendations. \n",
    "\n",
    "**Decision Scenario:** Michael is a 35-year-old professional chef who is considering opening his own restaurant. This is a significant life decision that could greatly impact his career and personal life. Michael is looking for a recommendation for an approach (decision) for this potentially life-changing decision. \n",
    "\n",
    "<img style=\"display: block; margin: auto;\" width =\"700px\" src=\"https://raw.githubusercontent.com/bartczernicki/DecisionIntelligence.GenAI.Workshop/main/Images/Scenarios/Scenario-RestaurantDecision.png\">\n",
    "\n",
    "Three factors will be considered for this scenario that the user will be prompted for: \n",
    "1) Michael's Total Net Worth in dollars (enter number)\n",
    "2) Level of competition with other restaurants (low, medium, high) \n",
    "3) Level of support from Michael's friends and family (low, medium, high) \n",
    "\n",
    "**Various Inputs:** Vary the input of net worth, restaurant competition and level of family support to note the various outcomes.  "
   ]
  },
  {
   "cell_type": "code",
   "execution_count": 7,
   "metadata": {
    "dotnet_interactive": {
     "language": "csharp"
    },
    "polyglot_notebook": {
     "kernelName": "csharp"
    },
    "vscode": {
     "languageId": "polyglot-notebook"
    }
   },
   "outputs": [
    {
     "name": "stdout",
     "output_type": "stream",
     "text": [
      "Michael's Net Worth: 500000\n",
      "Level of Restaurant Competition: high\n",
      "Michael's level of Family Support: high\n",
      "\n",
      "Opening a restaurant is a significant and complex decision that requires careful consideration of financial, personal, and market factors. Based on the information provided, here is a structured recommendation for Michael:\n",
      "\n",
      "### 1. **Evaluate Financial Readiness**\n",
      "   - **Net Worth:** With a net worth of $500,000, Michael has a solid financial foundation. However, opening a restaurant can be expensive, with costs for leasing, equipment, staffing, inventory, marketing, and more. He should:\n",
      "     - Determine how much of his net worth he is willing to invest without jeopardizing his financial stability.\n",
      "     - Consider securing additional funding (e.g., loans, investors) to reduce personal financial risk.\n",
      "     - Create a detailed budget and financial plan, including a contingency fund for unexpected expenses.\n",
      "\n",
      "### 2. **Conduct Market Research**\n",
      "   - **Competition:** The high level of competition suggests that Michael needs to identify a unique value proposition to stand out. He should:\n",
      "     - Research the local market to identify gaps or underserved niches (e.g., cuisine type, dining experience, price point).\n",
      "     - Analyze competitors to understand their strengths, weaknesses, and customer base.\n",
      "     - Test his concept with pop-up events, catering, or collaborations before committing to a full-scale restaurant.\n",
      "\n",
      "### 3. **Leverage Support Network**\n",
      "   - **Friends and Family Support:** High support from friends and family is a significant advantage. Michael can:\n",
      "     - Seek advice, feedback, and potential partnerships from his network.\n",
      "     - Involve them in the process, such as taste-testing menus or helping with marketing through word-of-mouth and social media.\n",
      "     - Consider whether any friends or family members have skills (e.g., business management, marketing) that could complement his culinary expertise.\n",
      "\n",
      "### 4. **Develop a Business Plan**\n",
      "   - A comprehensive business plan is essential for success. It should include:\n",
      "     - A clear vision and mission for the restaurant.\n",
      "     - Target audience and marketing strategy.\n",
      "     - Menu development and pricing strategy.\n",
      "     - Location analysis (foot traffic, demographics, lease costs).\n",
      "     - Staffing plan and operational workflow.\n",
      "     - Financial projections and break-even analysis.\n",
      "\n",
      "### 5. **Start Small and Test the Waters**\n",
      "   - Given the high competition, Michael might consider starting with a lower-risk approach, such as:\n",
      "     - A food truck or pop-up restaurant to test his concept and build a customer base.\n",
      "     - A partnership with an existing restaurant or shared kitchen space.\n",
      "     - Catering or private dining services to generate income and refine his offerings.\n",
      "\n",
      "### 6. **Assess Personal Readiness**\n",
      "   - Opening a restaurant is demanding and can impact personal life. Michael should:\n",
      "     - Reflect on his willingness to commit to long hours, financial risk, and the stress of running a business.\n",
      "     - Ensure he has a support system in place to help him manage the challenges.\n",
      "\n",
      "### 7. **Seek Professional Advice**\n",
      "   - Michael should consult with professionals, such as:\n",
      "     - A business mentor or advisor with experience in the restaurant industry.\n",
      "     - An accountant to help with financial planning and tax considerations.\n",
      "     - A lawyer to review leases, permits, and contracts.\n",
      "\n",
      "### 8. **Plan for Long-Term Sustainability**\n",
      "   - To thrive in a competitive market, Michael should focus on:\n",
      "     - Building a strong brand and customer loyalty.\n",
      "     - Continuously innovating and adapting to market trends.\n",
      "     - Prioritizing quality and consistency in food and service.\n",
      "\n",
      "### Final Recommendation:\n",
      "Michael should proceed cautiously and strategically. Starting small with a test concept (e.g., pop-up, food truck) can help him validate his idea, minimize financial risk, and gain valuable experience as a business owner. If the test"
     ]
    }
   ],
   "source": [
    "// Import the Microsoft.DotNet.Interactive namespace for user input\n",
    "using Microsoft.DotNet.Interactive;\n",
    "\n",
    "var totalNetWorth = await Microsoft.DotNet.Interactive.Kernel.GetInputAsync(\"Micheal's total net worth in dollars: \");\n",
    "var levelOfCompetition = await Microsoft.DotNet.Interactive.Kernel.GetInputAsync(\"Level of competition with other restaurants (Low, Medium, High): \");\n",
    "var levelOfFamilySupport = await Microsoft.DotNet.Interactive.Kernel.GetInputAsync(\"Level of support from Michael's friends and family (Low, Medium, High): \");\n",
    "\n",
    "Console.WriteLine($\"Michael's Net Worth: {totalNetWorth}\");\n",
    "Console.WriteLine($\"Level of Restaurant Competition: {levelOfCompetition}\");\n",
    "Console.WriteLine($\"Michael's level of Family Support: {levelOfFamilySupport}\");\n",
    "Console.WriteLine();\n",
    "\n",
    "// Takes a prompt with input variables and creates a function that can be used to invoke the model\n",
    "var restaurantDecisionRecommendation = \"\"\"\n",
    "Michael is a 35-year-old professional chef who is considering opening his own restaurant. \n",
    "This is a significant life decision that could greatly impact his career and personal life. \n",
    "Michael is looking for a recommendation on how to approach this.\n",
    "Some key information about Michael:\n",
    "- Michael's total net worth is (in US dollars) ${{$totalNetWorth}}.\n",
    "- The level of competition with other restaurants is {{$levelOfCompetition}}.\n",
    "- The level of support from Michael's friends and family is {{$levelOfFamilySupport}}.\n",
    "\n",
    "Based on this information, what recommendation would you give to Michael regarding opening his own restaurant?\n",
    "\"\"\";\n",
    "\n",
    "// Create the OpenAI prompt execution settings, try changing the settings to see how the output changes\n",
    "// Try different settings (Temperature, FrequencyPenalty etc) to see how they affect the quality of the generated text\n",
    "var openAIPromptExecutionSettings = new OpenAIPromptExecutionSettings { \n",
    "    MaxTokens = 750, \n",
    "    Temperature = 0.3, \n",
    "    TopP = 1.0, \n",
    "    FrequencyPenalty = 0.0, \n",
    "    PresencePenalty = 0.0\n",
    "    };\n",
    "\n",
    "var semanticRestaurantDecisionRecommendation = semanticKernel.CreateFunctionFromPrompt(restaurantDecisionRecommendation, openAIPromptExecutionSettings);\n",
    "\n",
    "// Dynamically set the number of frameworks and decision type -> strategic\n",
    "var kernelArgumentsRestaurantDecisionRecommendation = new KernelArguments();\n",
    "kernelArgumentsRestaurantDecisionRecommendation.Add(\"totalNetWorth\", totalNetWorth);\n",
    "kernelArgumentsRestaurantDecisionRecommendation.Add(\"levelOfCompetition\", levelOfCompetition);\n",
    "kernelArgumentsRestaurantDecisionRecommendation.Add(\"levelOfFamilySupport\", levelOfFamilySupport);\n",
    "\n",
    "// Stream the output of the model\n",
    "await foreach (var streamChunk in semanticKernel.InvokeStreamingAsync(semanticRestaurantDecisionRecommendation, kernelArgumentsRestaurantDecisionRecommendation))\n",
    "{\n",
    "   Console.Write(streamChunk);\n",
    "}\n"
   ]
  }
 ],
 "metadata": {
  "kernelspec": {
   "display_name": ".NET (C#)",
   "language": "C#",
   "name": ".net-csharp"
  },
  "language_info": {
   "name": "csharp"
  },
  "polyglot_notebook": {
   "kernelInfo": {
    "defaultKernelName": "csharp",
    "items": [
     {
      "aliases": [],
      "name": "csharp"
     }
    ]
   }
  }
 },
 "nbformat": 4,
 "nbformat_minor": 2
}
