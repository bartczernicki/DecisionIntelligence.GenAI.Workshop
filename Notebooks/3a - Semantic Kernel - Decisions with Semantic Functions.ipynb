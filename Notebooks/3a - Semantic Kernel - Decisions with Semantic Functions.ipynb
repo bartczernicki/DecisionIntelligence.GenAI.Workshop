{
 "cells": [
  {
   "cell_type": "markdown",
   "metadata": {},
   "source": [
    "<img style=\"float: left;padding-right: 10px\" width =\"40px\" src=\"https://raw.githubusercontent.com/bartczernicki/DecisionIntelligence.GenAI.Workshop/main/Images/SemanticKernelLogo.png\">\n",
    "\n",
    "## Semantic Kernel - Decisions with Semantic Functions "
   ]
  },
  {
   "cell_type": "markdown",
   "metadata": {},
   "source": [
    "Decision Intelligence applied in this module:  \n",
    "* Listing of various decision-making frameworks with their descriptions \n",
    "* Listing types of decision-making frameworks dynamically based on the type  "
   ]
  },
  {
   "cell_type": "markdown",
   "metadata": {},
   "source": [
    "Semantic Kernel Functions are the core building blocks of functionality for intelligent AI orchestration. Semantic Kernel functions usually have a single responsibility to perform. For example, a Sementic Kernel function can: send an e-mail, call an API, recommend a reasoning framework for a high-stakes decision etc. \n",
    "\n",
    "What makes Semantic Kernel functions so special? Can't one just produce similar outcomes by using a prompt in an LLM or just writing a software program? In order to answer that, one has to look at what makes GenAI so innovative. The GenAI models have a unique ability to process instructions with reasoning and logic. This allows these models to behave almost like a human decision maker. Even with basic prompts, GenAI models perform reasonably well. However, providing GenAI models with additional functions allows them to gain access to business processes, data and basically anything a GenAI model should consider when performing AI orchestration. \n",
    "\n",
    "For example, imagine you want to prepare a great Thanksgiving dinner and want to get help from a GenAI cooking application to create a new recipe. You enter what you want todo and it comes up with the most delicious looking feast for Thanksgiving. However, there is a problem it used ingredients and recommended using cooking appliances that you do not own! You could enter all of the ingredients and keep prompting until it narrowed down the what you could realistically make. Wouldn't it be better if the GenAI cooking application had access to: your available ingredients, your time availability, kitchen appliances and even your allergic preferences. Now the GenAI model can craft a Thanksgiving feast understanding the parameters and data without having to be guided. This is exactly what Semantic Kernel functions provide.\n",
    "\n",
    "Semantic Kernel functions come in two flavors: \n",
    "* Semantic functions\n",
    "* Native functions\n",
    "\n",
    "Semantic functions are basically **prompt instructions** that help guide GenAI LLMs around the specific guidelines it should adhere to when building the AI orchestration. Therefore, semantic functions are likely the first place most AI architects/engineers start when composing AI orchestration with Semantic Kernel. Semantic functions can also take in parameters for dynamic creaation of instructions.  "
   ]
  },
  {
   "cell_type": "markdown",
   "metadata": {},
   "source": [
    "Below is an example of semantic function that can be used for facilitating decision-making. Note the **{{$decisionToMake}}** input where the parameter can be dynamically passed in to provide additional specificity.\n",
    "\n",
    "```javascript\n",
    "[DECISION FRAMEWORKS TO USE]\n",
    "Price's Law\n",
    "Pareto Principle\n",
    "Laplace Rule of Succession\n",
    "Eisenhower Matrix\n",
    "Median Rule of Five\n",
    "Second Order Thinking\n",
    "\n",
    "[DECISION GUIDANCE]\n",
    "Try to use the best fitting framework.  \n",
    "Prefer using quantitative decision frameworks rather qualitative ones.  \n",
    "Use the code interpreter to validate quantitative reasoning.\n",
    "\n",
    "Use the decision frameworks above to help the user make the following decision:\n",
    "{{$decisionToMake}}\n",
    "```  \n",
    "\n",
    "The image below illustrates the core value of semantic functions. \n",
    "\n",
    "<img style=\"display: block; margin: auto;\" width =\"500px\" src=\"https://learn.microsoft.com/en-us/semantic-kernel/media/semantic-function-explainer.png\">"
   ]
  },
  {
   "cell_type": "markdown",
   "metadata": {},
   "source": [
    "### Step 1 - Initialize Configuration Builder & Build the Semantic Kernel Orchestration "
   ]
  },
  {
   "cell_type": "markdown",
   "metadata": {},
   "source": [
    "Execute the next two cells to:\n",
    "* Use the Configuration Builder to load the API secrets.  \n",
    "* Use the API configuration to build the Semantic Kernel orchestrator."
   ]
  },
  {
   "cell_type": "code",
   "execution_count": 1,
   "metadata": {
    "dotnet_interactive": {
     "language": "csharp"
    },
    "polyglot_notebook": {
     "kernelName": "csharp"
    },
    "vscode": {
     "languageId": "polyglot-notebook"
    }
   },
   "outputs": [
    {
     "data": {
      "text/html": [
       "<div><div></div><div></div><div><strong>Installed Packages</strong><ul><li><span>Microsoft.Extensions.Configuration, 9.0.0</span></li><li><span>Microsoft.Extensions.Configuration.Json, 9.0.0</span></li><li><span>Microsoft.SemanticKernel, 1.45.0</span></li><li><span>Microsoft.SemanticKernel.Plugins.Core, 1.45.0-alpha</span></li></ul></div></div>"
      ]
     },
     "metadata": {},
     "output_type": "display_data"
    }
   ],
   "source": [
    "#r \"nuget: Microsoft.Extensions.Configuration, 9.0.0\"\n",
    "#r \"nuget: Microsoft.Extensions.Configuration.Json, 9.0.0\"\n",
    "#r \"nuget: Microsoft.SemanticKernel, 1.45\"\n",
    "#r \"nuget: Microsoft.SemanticKernel.Plugins.Core, 1.45-alpha\"\n",
    "\n",
    "using Microsoft.Extensions.Configuration;\n",
    "using Microsoft.SemanticKernel;\n",
    "using Microsoft.SemanticKernel.ChatCompletion;\n",
    "using Microsoft.SemanticKernel.Connectors.OpenAI;\n",
    "using System.IO;\n",
    "\n",
    "var configurationBuilder = new ConfigurationBuilder()\n",
    "    .SetBasePath(Directory.GetCurrentDirectory())\n",
    "    .AddJsonFile(\"local.settings.json\", optional: true, reloadOnChange: true)\n",
    "    .AddJsonFile(\"secrets.settings.json\", optional: true, reloadOnChange: true);\n",
    "var config = configurationBuilder.Build();\n",
    "\n",
    "// IMPORTANT: You ONLY NEED either Azure OpenAI or OpenAI connectiopn info, not both.\n",
    "// Azure OpenAI Connection Info\n",
    "var azureOpenAIEndpoint = config[\"AzureOpenAI:Endpoint\"];\n",
    "var azureOpenAIAPIKey = config[\"AzureOpenAI:APIKey\"];\n",
    "var azureOpenAIModelDeploymentName = config[\"AzureOpenAI:ModelDeploymentName\"];\n",
    "// OpenAI Connection Info \n",
    "var openAIAPIKey = config[\"OpenAI:APIKey\"];\n",
    "var openAIModelId = config[\"OpenAI:ModelId\"];"
   ]
  },
  {
   "cell_type": "code",
   "execution_count": 2,
   "metadata": {
    "dotnet_interactive": {
     "language": "csharp"
    },
    "polyglot_notebook": {
     "kernelName": "csharp"
    },
    "vscode": {
     "languageId": "polyglot-notebook"
    }
   },
   "outputs": [
    {
     "name": "stdout",
     "output_type": "stream",
     "text": [
      "Using Azure OpenAI Service\r\n"
     ]
    }
   ],
   "source": [
    "Kernel semanticKernel;\n",
    "\n",
    "// Set the flag to use Azure OpenAI or OpenAI. False to use OpenAI, True to use Azure OpenAI\n",
    "var useAzureOpenAI = true;\n",
    "\n",
    "// Create a new Semantic Kernel instance\n",
    "if (useAzureOpenAI)\n",
    "{\n",
    "    Console.WriteLine(\"Using Azure OpenAI Service\");\n",
    "    semanticKernel = Kernel.CreateBuilder()\n",
    "        .AddAzureOpenAIChatCompletion(\n",
    "            deploymentName: azureOpenAIModelDeploymentName,\n",
    "            endpoint: azureOpenAIEndpoint,\n",
    "            apiKey: azureOpenAIAPIKey)\n",
    "        .Build();\n",
    "}\n",
    "else\n",
    "{\n",
    "    Console.WriteLine(\"Using OpenAI Service\");\n",
    "    semanticKernel = Kernel.CreateBuilder()\n",
    "        .AddOpenAIChatCompletion(\n",
    "            modelId: openAIModelId,\n",
    "            apiKey: openAIAPIKey)\n",
    "        .Build();\n",
    "}"
   ]
  },
  {
   "cell_type": "markdown",
   "metadata": {},
   "source": [
    "### Step 2 - Create a Semantic Kernel - Semantic Function "
   ]
  },
  {
   "cell_type": "markdown",
   "metadata": {},
   "source": [
    "> 📜 \"Decision frameworks are like maps. Use them to navigate complex decision-making terrain.  \n",
    ">\n",
    "> -- <cite>Unknown</cite> "
   ]
  },
  {
   "cell_type": "markdown",
   "metadata": {},
   "source": [
    "Semantic functions are constructs inside Semantic Kernel that are basically just prompt instructions. What makes the special is that they can be exposed as functions, thus it makes re-usability easy. Furthermore, future modules will show how they can faciliate composability into plugins. "
   ]
  },
  {
   "cell_type": "code",
   "execution_count": 3,
   "metadata": {
    "dotnet_interactive": {
     "language": "csharp"
    },
    "polyglot_notebook": {
     "kernelName": "csharp"
    },
    "vscode": {
     "languageId": "polyglot-notebook"
    }
   },
   "outputs": [
    {
     "name": "stdout",
     "output_type": "stream",
     "text": [
      "Here’s a list of various decision-making frameworks along with brief descriptions of how they enhance analysis and reasoning in different scenarios:\n",
      "\n",
      "---\n",
      "\n",
      "### **1. Decision Tree Analysis**\n",
      "- **Description**: A visual framework that maps out possible decisions and their potential outcomes, including probabilities and payoffs.\n",
      "- **How It Supports Better Decisions**: Helps to break down complex decisions into manageable components, allowing for structured evaluation of options and outcomes, especially under uncertainty.\n",
      "\n",
      "---\n",
      "\n",
      "### **2. SWOT Analysis (Strengths, Weaknesses, Opportunities, Threats)**\n",
      "- **Description**: A structured approach to evaluating internal capabilities (strengths, weaknesses) and external factors (opportunities, threats).\n",
      "- **How It Supports Better Decisions**: Encourages holistic assessment of a situation to ensure all relevant internal and external factors are considered, especially for strategic planning.\n",
      "\n",
      "---\n",
      "\n",
      "### **3. Cost-Benefit Analysis**\n",
      "- **Description**: A systematic evaluation of the costs and benefits associated with a decision or project.\n",
      "- **How It Supports Better Decisions**: Provides a clear comparison between potential gains and losses, ensuring that decisions are economically justified and resources are allocated efficiently.\n",
      "\n",
      "---\n",
      "\n",
      "### **4. Six Thinking Hats**\n",
      "- **Description**: A framework developed by Edward de Bono that assigns six different \"thinking styles\" (objective, creative, emotional, etc.) to different stages of decision-making.\n",
      "- **How It Supports Better Decisions**: Encourages diversity in perspectives and balances rational analysis with creative and emotional considerations, leading to more well-rounded decisions.\n",
      "\n",
      "---\n",
      "\n",
      "### **5. The OODA Loop (Observe, Orient, Decide, Act)**\n",
      "- **Description**: Originally developed for military decision-making, this iterative framework emphasizes observation, orientation, decision, and action.\n",
      "- **How It Supports Better Decisions**: Enhances adaptability and responsiveness, making it highly useful in fast-paced environments where conditions change rapidly.\n",
      "\n",
      "---\n",
      "\n",
      "### **6. The Eisenhower Matrix**\n",
      "- **Description**: A prioritization framework that divides tasks into four quadrants based on urgency and importance.\n",
      "- **How It Supports Better Decisions**: Helps clarify priorities and focus on activities that align with strategic goals, while avoiding distractions from non-essential tasks.\n",
      "\n",
      "---\n",
      "\n",
      "### **7. Prospect Theory**\n",
      "- **Description**: A behavioral framework that accounts for how people perceive probabilities and potential losses versus gains.\n",
      "- **How It Supports Better Decisions**: Improves decision-making by recognizing cognitive biases, particularly under risk and uncertainty, ensuring rational evaluations of options.\n",
      "\n",
      "---\n",
      "\n",
      "### **8. Pareto Analysis (80/20 Rule)**\n",
      "- **Description**: Focuses on identifying the 20% of factors that drive 80% of the results.\n",
      "- **How It Supports Better Decisions**: Helps prioritize actions and resources to focus on high-impact areas, improving efficiency and results.\n",
      "\n",
      "---\n",
      "\n",
      "### **9. PEST Analysis (Political, Economic, Social, Technological)**\n",
      "- **Description**: A strategic framework for analyzing external macro-environmental factors affecting a decision.\n",
      "- **How It Supports Better Decisions**: Provides insights into external influences, ensuring that decision-making aligns with broader environmental trends and risks.\n",
      "\n",
      "---\n",
      "\n",
      "### **10. Monte Carlo Simulation**\n",
      "- **Description**: A quantitative method that uses random sampling to model probabilities and project possible outcomes.\n",
      "- **How It Supports Better Decisions**: Enhances risk management by providing probabilistic insights into the range of potential outcomes, especially useful for financial and operational decisions.\n",
      "\n",
      "---\n",
      "\n",
      "### **11. Bayesian Decision Theory**\n",
      "- **Description**: An evidence-based approach that incorporates probabilities and prior knowledge to guide decision-making.\n",
      "- **How It Supports Better Decisions**: Encourages integration of new information and revisits previous assumptions, making decisions more dynamic and evidence-driven.\n",
      "\n",
      "---\n",
      "\n",
      "### **12. The Delphi Method**\n",
      "- **Description**: A forecasting technique that involves a panel of experts providing insights anonymously in iterative rounds to converge on a decision or prediction.\n",
      "- **How It Supports Better Decisions**: Harnesses collective intelligence and reduces bias, leading to more informed consensus-based decisions.\n",
      "\n",
      "---\n",
      "\n",
      "### **13. The Rational Decision-Making Model**\n",
      "- **Description**: A sequential process that includes identifying the problem, generating alternatives, assessing options, and selecting an optimal solution.\n",
      "- **How It Supports Better Decisions**: Ensures thorough analysis and logical reasoning, reducing emotion-driven or impulsive choices.\n",
      "\n",
      "---\n",
      "\n",
      "### **14. The Appreciative Inquiry Framework**\n",
      "- **Description**: Focuses on identifying strengths, successes, and opportunities by asking constructive \"what works\" questions.\n",
      "- **How It Supports Better Decisions**: Encourages positive, forward-looking thinking, which is useful for organizational change and innovation.\n",
      "\n",
      "---\n",
      "\n",
      "### **15. The Cynefin Framework**\n",
      "- **Description**: Categorizes situations into five domains – clear, complicated, complex, chaotic, and disorder – to guide appropriate responses.\n",
      "- **How It Supports Better Decisions**: Helps decision-makers tailor their approach based on the nature of the problem, improving effectiveness in varied contexts.\n",
      "\n",
      "---\n",
      "\n",
      "### **16. SCQA Framework (Situation, Complication, Question, Answer)**\n",
      "- **Description**: A storytelling framework to present a problem by defining the context, identifying conflicts, and proposing solutions.\n",
      "- **How It Supports Better Decisions**: Clarifies the problem-solution narrative, streamlining communication and encouraging actionable insights.\n",
      "\n",
      "---\n",
      "\n",
      "### **17. Weighted Scoring Model**\n",
      "- **Description**: Assigns weighted scores to decision criteria based on importance to evaluate and compare options.\n",
      "- **How It Supports Better Decisions**: Ensures objectivity by focusing on quantifiable criteria, making it ideal for selecting between competing alternatives.\n",
      "\n",
      "---\n",
      "\n",
      "### **18. FMEA (Failure Mode and Effects Analysis)**\n",
      "- **Description**: Identifies potential failure modes, their causes, and effects, and prioritizes mitigation efforts.\n",
      "- **How It Supports Better Decisions**: Enhances risk management and preventive strategies by identifying weaknesses before implementation.\n",
      "\n",
      "---\n",
      "\n",
      "These frameworks cater to diverse scenarios, such as strategic planning, operational problem-solving, financial analysis, risk assessment, innovation, and crisis management. By providing structured methods for analyzing options, they facilitate sound reasoning and reduce cognitive biases in decision-making processes."
     ]
    }
   ],
   "source": [
    "// Simple prompt to list some decision frameworks this GenAI LLM is familiar with\n",
    "var decisionPromptTemplate = \"\"\"\n",
    "Identify and list various decision-making frameworks that can enhance the quality of decisions. \n",
    "Briefly describe how each framework supports better analysis and reasoning in different decision-making scenarios.\n",
    "\"\"\";\n",
    "\n",
    "// Takes a regular prompt and creats a function that can be used to invoke the model\n",
    "var semanticDecisionFunction = semanticKernel.CreateFunctionFromPrompt(decisionPromptTemplate);\n",
    "\n",
    "await foreach (var streamChunk in semanticKernel.InvokeStreamingAsync(semanticDecisionFunction))\n",
    "{\n",
    "   Console.Write(streamChunk);\n",
    "}"
   ]
  },
  {
   "cell_type": "markdown",
   "metadata": {},
   "source": [
    "### Step 3 - Semantic Function Dynamic Decision Intelligence  "
   ]
  },
  {
   "cell_type": "markdown",
   "metadata": {},
   "source": [
    "> 📜 \"If the only tool you have is a hammer, you tend to see every problem as a nail.\"\n",
    ">\n",
    "> -- <cite>Abraham Maslow (Renowned American psychologist)</cite> "
   ]
  },
  {
   "cell_type": "markdown",
   "metadata": {},
   "source": [
    "Semantic functions can be dynamically composed using parameter placeholders, which can then be dynamically rendered using Kernel arguments. This allows the ease of passing in parameters and execution settings into the semantic functions.\n",
    "\n",
    "Execute the cell below to view how the prompt can dynamically instruct the LLM to retrieve different types of decision-making frameworks. "
   ]
  },
  {
   "cell_type": "code",
   "execution_count": 5,
   "metadata": {
    "dotnet_interactive": {
     "language": "csharp"
    },
    "polyglot_notebook": {
     "kernelName": "csharp"
    },
    "vscode": {
     "languageId": "polyglot-notebook"
    }
   },
   "outputs": [
    {
     "name": "stdout",
     "output_type": "stream",
     "text": [
      "Here are three decision-making frameworks that can enhance the quality of decisions, particularly in long-term strategic scenarios with probabilistic outcomes:\n",
      "\n",
      "---\n",
      "\n",
      "### 1. **Expected Utility Theory (EUT)**  \n",
      "**Description:**  \n",
      "Expected Utility Theory is a mathematical framework used to make decisions under uncertainty by evaluating the potential outcomes of different choices based on their probabilities and the decision-maker's preferences (or utility).  \n",
      "\n",
      "**How it supports better analysis and reasoning:**  \n",
      "- **Quantifies trade-offs:** EUT helps decision-makers weigh the benefits and risks of various options by assigning numerical values to outcomes and their probabilities.  \n",
      "- **Incorporates uncertainty:** By explicitly considering probabilistic outcomes, it ensures that decisions are not based solely on the most likely scenario but also account for less likely but impactful events.  \n",
      "- **Aligns with long-term goals:** The utility function can be tailored to reflect long-term strategic objectives, ensuring decisions align with overarching priorities.\n",
      "\n",
      "---\n",
      "\n",
      "### 2. **Scenario Planning**  \n",
      "**Description:**  \n",
      "Scenario Planning involves creating multiple detailed and plausible future scenarios to explore how different factors and uncertainties might evolve over time and impact strategic decisions.  \n",
      "\n",
      "**How it supports better analysis and reasoning:**  \n",
      "- **Encourages foresight:** It helps decision-makers anticipate a range of possible futures rather than relying on a single forecast, improving preparedness for uncertainty.  \n",
      "- **Identifies key drivers:** The process highlights critical uncertainties and variables that could influence outcomes, enabling better focus on what matters most.  \n",
      "- **Stress-tests strategies:** By evaluating how strategies perform across different scenarios, decision-makers can identify robust options that are resilient to a variety of future conditions.\n",
      "\n",
      "---\n",
      "\n",
      "### 3. **Bayesian Decision Analysis**  \n",
      "**Description:**  \n",
      "Bayesian Decision Analysis applies Bayes' Theorem to update probabilities as new information becomes available, enabling dynamic and evidence-based decision-making.  \n",
      "\n",
      "**How it supports better analysis and reasoning:**  \n",
      "- **Incorporates new evidence:** It allows decision-makers to refine their understanding of uncertainties over time, improving the accuracy of probabilistic assessments.  \n",
      "- **Supports adaptive strategies:** By continuously updating probabilities, it facilitates adjustments to strategies as conditions change or new data emerges.  \n",
      "- **Balances prior knowledge and new data:** The framework combines prior beliefs with observed evidence, ensuring decisions are grounded in both historical insights and current realities.\n",
      "\n",
      "---\n",
      "\n",
      "These frameworks provide structured approaches to handle uncertainty, evaluate trade-offs, and align decisions with long-term goals, making them particularly valuable in complex strategic contexts with probabilistic outcomes."
     ]
    }
   ],
   "source": [
    "// Takes a prompt with input variables and creates a function that can be used to invoke the GenAI model\n",
    "var decisionPromptTemplate = \"\"\"\n",
    "Identify and list {{$numberOfFrameworks}} decision-making frameworks that can enhance the quality of decisions. \n",
    "Briefly describe how each framework supports better analysis and reasoning in {{$decisionType}} decision-making scenarios.\n",
    "\"\"\";\n",
    "\n",
    "// Create the OpenAI prompt execution settings, try changing the settings to see how the output changes\n",
    "// Try different settings (Temperature, FrequencyPenalty etc) to see how they affect the quality of the generated text\n",
    "var openAIPromptExecutionSettings = new OpenAIPromptExecutionSettings { \n",
    "    MaxTokens = 750, \n",
    "    Temperature = 0.3, \n",
    "    TopP = 1.0, \n",
    "    FrequencyPenalty = 0.0, \n",
    "    PresencePenalty = 0.0\n",
    "    };\n",
    "\n",
    "var semanticDecisionFunctionWithInput = semanticKernel.CreateFunctionFromPrompt(decisionPromptTemplate, openAIPromptExecutionSettings);\n",
    "\n",
    "// Dynamically set the number of frameworks and decision type -> strategic\n",
    "var kernelArguments = new KernelArguments();\n",
    "kernelArguments.Add(\"numberOfFrameworks\", 3);\n",
    "kernelArguments.Add(\"decisionType\", \"Long-Term strategic with probabilistic outcomes\");\n",
    "\n",
    "// Stream the output of the model\n",
    "await foreach (var streamChunk in semanticKernel.InvokeStreamingAsync(semanticDecisionFunctionWithInput, kernelArguments))\n",
    "{\n",
    "   Console.Write(streamChunk);\n",
    "}"
   ]
  },
  {
   "cell_type": "markdown",
   "metadata": {},
   "source": [
    "In the example below, the number of frameworks to return has been changed as well as the type has been changed to **Quick to Implement for rapid Dicision-Making\"**.  "
   ]
  },
  {
   "cell_type": "code",
   "execution_count": 6,
   "metadata": {
    "dotnet_interactive": {
     "language": "csharp"
    },
    "polyglot_notebook": {
     "kernelName": "csharp"
    },
    "vscode": {
     "languageId": "polyglot-notebook"
    }
   },
   "outputs": [
    {
     "name": "stdout",
     "output_type": "stream",
     "text": [
      "Here are five decision-making frameworks that can enhance the quality of decisions, particularly in rapid decision-making scenarios:\n",
      "\n",
      "---\n",
      "\n",
      "### 1. **OODA Loop (Observe, Orient, Decide, Act)**  \n",
      "**Description:**  \n",
      "The OODA Loop is a cyclical process designed for rapid decision-making, originally developed for military strategy. It involves four steps:  \n",
      "- **Observe:** Gather relevant information about the situation.  \n",
      "- **Orient:** Analyze the information and understand the context.  \n",
      "- **Decide:** Choose the best course of action based on the analysis.  \n",
      "- **Act:** Implement the decision quickly.  \n",
      "\n",
      "**How it supports better analysis and reasoning:**  \n",
      "The OODA Loop emphasizes agility and adaptability, enabling decision-makers to respond quickly to changing circumstances. It ensures that decisions are informed by real-time data and situational awareness, reducing the risk of delays.\n",
      "\n",
      "---\n",
      "\n",
      "### 2. **Eisenhower Matrix (Urgent-Important Matrix)**  \n",
      "**Description:**  \n",
      "This framework helps prioritize tasks by categorizing them into four quadrants based on urgency and importance:  \n",
      "- Urgent & Important: Do immediately.  \n",
      "- Important but Not Urgent: Schedule for later.  \n",
      "- Urgent but Not Important: Delegate.  \n",
      "- Neither Urgent nor Important: Eliminate.  \n",
      "\n",
      "**How it supports better analysis and reasoning:**  \n",
      "The Eisenhower Matrix enables rapid prioritization by focusing on what truly matters, preventing decision-makers from wasting time on low-priority tasks. It simplifies complex scenarios into actionable steps.\n",
      "\n",
      "---\n",
      "\n",
      "### 3. **Pareto Analysis (80/20 Rule)**  \n",
      "**Description:**  \n",
      "Pareto Analysis focuses on identifying the 20% of factors that contribute to 80% of the outcomes. It helps prioritize efforts on high-impact areas.  \n",
      "\n",
      "**How it supports better analysis and reasoning:**  \n",
      "In rapid decision-making, Pareto Analysis narrows the focus to the most critical elements, ensuring that limited time and resources are allocated to areas with the greatest potential impact.\n",
      "\n",
      "---\n",
      "\n",
      "### 4. **SWOT Analysis (Strengths, Weaknesses, Opportunities, Threats)**  \n",
      "**Description:**  \n",
      "SWOT Analysis evaluates internal and external factors affecting a decision by categorizing them into strengths, weaknesses, opportunities, and threats.  \n",
      "\n",
      "**How it supports better analysis and reasoning:**  \n",
      "This framework provides a structured way to quickly assess the pros and cons of a situation, helping decision-makers weigh risks and benefits effectively. It ensures a balanced perspective in time-sensitive scenarios.\n",
      "\n",
      "---\n",
      "\n",
      "### 5. **DECIDE Model (Define, Establish, Consider, Identify, Develop, Evaluate)**  \n",
      "**Description:**  \n",
      "The DECIDE Model is a step-by-step framework for structured decision-making:  \n",
      "- **Define** the problem.  \n",
      "- **Establish** criteria for success.  \n",
      "- **Consider** alternatives.  \n",
      "- **Identify** the best option.  \n",
      "- **Develop** a plan of action.  \n",
      "- **Evaluate** the decision after implementation.  \n",
      "\n",
      "**How it supports better analysis and reasoning:**  \n",
      "The DECIDE Model ensures that all critical aspects of a decision are addressed systematically, even under time pressure. It balances speed with thoroughness, minimizing the likelihood of overlooking key factors.\n",
      "\n",
      "---\n",
      "\n",
      "These frameworks are particularly useful in rapid decision-making scenarios because they provide clear, structured approaches to breaking down complex problems, prioritizing actions, and ensuring that decisions are both timely and effective."
     ]
    }
   ],
   "source": [
    "// Dynamically set the number of frameworks and decision type -> requring fast action\n",
    "var kernelArguments = new KernelArguments(openAIPromptExecutionSettings);\n",
    "kernelArguments.Add(\"numberOfFrameworks\", 5);\n",
    "kernelArguments.Add(\"decisionType\", \"Quick to Implement for rapid Dicision-Making\");\n",
    "\n",
    "// Stream the output of the model\n",
    "await foreach (var streamChunk in semanticKernel.InvokeStreamingAsync(semanticDecisionFunctionWithInput, kernelArguments))\n",
    "{\n",
    "   Console.Write(streamChunk);\n",
    "}"
   ]
  },
  {
   "cell_type": "markdown",
   "metadata": {},
   "source": [
    "#### Recommendation Decision Scenario with Dynamic Decision Intelligence"
   ]
  },
  {
   "cell_type": "markdown",
   "metadata": {},
   "source": [
    "In the below code a decsion-analysis scenario is introduced that uses dynamic inputs to personalize the decision recommendation dynamically. The more specific information that provides contextual information to the Generative AI model can great improve the specific recommendations. \n",
    "\n",
    "**Decision Scenario:** Michael is a 35-year-old professional chef who is considering opening his own restaurant. This is a significant life decision that could greatly impact his career and personal life. Michael is looking for a recommendation for an approach (decision) for this potentially life-changing decision. \n",
    "\n",
    "<img style=\"display: block; margin: auto;\" width =\"700px\" src=\"https://raw.githubusercontent.com/bartczernicki/DecisionIntelligence.GenAI.Workshop/main/Images/Scenarios/Scenario-RestaurantDecision.png\">\n",
    "\n",
    "Three factors will be considered for this scenario that the user will be prompted for: \n",
    "1) Michael's Total Net Worth in dollars (enter number)\n",
    "2) Level of competition with other restaurants (low, medium, high) \n",
    "3) Level of support from Michael's friends and family (low, medium, high) \n",
    "\n",
    "**Various Inputs:** Vary the input of net worth, restaurant competition and level of family support to note the various outcomes.  "
   ]
  },
  {
   "cell_type": "code",
   "execution_count": 7,
   "metadata": {
    "dotnet_interactive": {
     "language": "csharp"
    },
    "polyglot_notebook": {
     "kernelName": "csharp"
    },
    "vscode": {
     "languageId": "polyglot-notebook"
    }
   },
   "outputs": [
    {
     "name": "stdout",
     "output_type": "stream",
     "text": [
      "Michael's Net Worth: 500000\n",
      "Level of Restaurant Competition: high\n",
      "Michael's level of Family Support: high\n",
      "\n",
      "Opening a restaurant is a significant and complex decision that requires careful consideration of financial, personal, and market factors. Based on the information provided, here is a structured recommendation for Michael:\n",
      "\n",
      "### 1. **Evaluate Financial Readiness**\n",
      "   - **Net Worth:** With a net worth of $500,000, Michael has a solid financial foundation. However, opening a restaurant can be expensive, with costs for leasing, equipment, staffing, inventory, marketing, and more. He should:\n",
      "     - Determine how much of his net worth he is willing to invest without jeopardizing his financial stability.\n",
      "     - Consider securing additional funding (e.g., loans, investors) to reduce personal financial risk.\n",
      "     - Create a detailed budget and financial plan, including a contingency fund for unexpected expenses.\n",
      "\n",
      "### 2. **Conduct Market Research**\n",
      "   - **Competition:** The high level of competition suggests that Michael needs to identify a unique value proposition to stand out. He should:\n",
      "     - Research the local market to identify gaps or underserved niches (e.g., cuisine type, dining experience, price point).\n",
      "     - Analyze competitors to understand their strengths, weaknesses, and customer base.\n",
      "     - Test his concept with pop-up events, catering, or collaborations before committing to a full-scale restaurant.\n",
      "\n",
      "### 3. **Leverage Support Network**\n",
      "   - **Friends and Family Support:** High support from friends and family is a significant advantage. Michael can:\n",
      "     - Seek advice, feedback, and potential partnerships from his network.\n",
      "     - Involve them in the process, such as taste-testing menus or helping with marketing through word-of-mouth and social media.\n",
      "     - Consider whether any friends or family members have skills (e.g., business management, marketing) that could complement his culinary expertise.\n",
      "\n",
      "### 4. **Develop a Business Plan**\n",
      "   - A comprehensive business plan is essential for success. It should include:\n",
      "     - A clear vision and mission for the restaurant.\n",
      "     - Target audience and marketing strategy.\n",
      "     - Menu development and pricing strategy.\n",
      "     - Location analysis (foot traffic, demographics, lease costs).\n",
      "     - Staffing plan and operational workflow.\n",
      "     - Financial projections and break-even analysis.\n",
      "\n",
      "### 5. **Start Small and Test the Waters**\n",
      "   - Given the high competition, Michael might consider starting with a lower-risk approach, such as:\n",
      "     - A food truck or pop-up restaurant to test his concept and build a customer base.\n",
      "     - A partnership with an existing restaurant or shared kitchen space.\n",
      "     - Catering or private dining services to generate income and refine his offerings.\n",
      "\n",
      "### 6. **Assess Personal Readiness**\n",
      "   - Opening a restaurant is demanding and can impact personal life. Michael should:\n",
      "     - Reflect on his willingness to commit to long hours, financial risk, and the stress of running a business.\n",
      "     - Ensure he has a support system in place to help him manage the challenges.\n",
      "\n",
      "### 7. **Seek Professional Advice**\n",
      "   - Michael should consult with professionals, such as:\n",
      "     - A business mentor or advisor with experience in the restaurant industry.\n",
      "     - An accountant to help with financial planning and tax considerations.\n",
      "     - A lawyer to review leases, permits, and contracts.\n",
      "\n",
      "### 8. **Plan for Long-Term Sustainability**\n",
      "   - To thrive in a competitive market, Michael should focus on:\n",
      "     - Building a strong brand and customer loyalty.\n",
      "     - Continuously innovating and adapting to market trends.\n",
      "     - Prioritizing quality and consistency in food and service.\n",
      "\n",
      "### Final Recommendation:\n",
      "Michael should proceed cautiously and strategically. Starting small with a test concept (e.g., pop-up, food truck) can help him validate his idea, minimize financial risk, and gain valuable experience as a business owner. If the test"
     ]
    }
   ],
   "source": [
    "// Import the Microsoft.DotNet.Interactive namespace for user input\n",
    "using Microsoft.DotNet.Interactive;\n",
    "\n",
    "var totalNetWorth = await Microsoft.DotNet.Interactive.Kernel.GetInputAsync(\"Micheal's total net worth in dollars: \");\n",
    "var levelOfCompetition = await Microsoft.DotNet.Interactive.Kernel.GetInputAsync(\"Level of competition with other restaurants (Low, Medium, High): \");\n",
    "var levelOfFamilySupport = await Microsoft.DotNet.Interactive.Kernel.GetInputAsync(\"Level of support from Michael's friends and family (Low, Medium, High): \");\n",
    "\n",
    "Console.WriteLine($\"Michael's Net Worth: {totalNetWorth}\");\n",
    "Console.WriteLine($\"Level of Restaurant Competition: {levelOfCompetition}\");\n",
    "Console.WriteLine($\"Michael's level of Family Support: {levelOfFamilySupport}\");\n",
    "Console.WriteLine();\n",
    "\n",
    "// Takes a prompt with input variables and creates a function that can be used to invoke the model\n",
    "var restaurantDecisionRecommendation = \"\"\"\n",
    "Michael is a 35-year-old professional chef who is considering opening his own restaurant. \n",
    "This is a significant life decision that could greatly impact his career and personal life. \n",
    "Michael is looking for a recommendation on how to approach this.\n",
    "Some key information about Michael:\n",
    "- Michael's total net worth is (in US dollars) ${{$totalNetWorth}}.\n",
    "- The level of competition with other restaurants is {{$levelOfCompetition}}.\n",
    "- The level of support from Michael's friends and family is {{$levelOfFamilySupport}}.\n",
    "\n",
    "Based on this information, what recommendation would you give to Michael regarding opening his own restaurant?\n",
    "\"\"\";\n",
    "\n",
    "// Create the OpenAI prompt execution settings, try changing the settings to see how the output changes\n",
    "// Try different settings (Temperature, FrequencyPenalty etc) to see how they affect the quality of the generated text\n",
    "var openAIPromptExecutionSettings = new OpenAIPromptExecutionSettings { \n",
    "    MaxTokens = 750, \n",
    "    Temperature = 0.3, \n",
    "    TopP = 1.0, \n",
    "    FrequencyPenalty = 0.0, \n",
    "    PresencePenalty = 0.0\n",
    "    };\n",
    "\n",
    "var semanticRestaurantDecisionRecommendation = semanticKernel.CreateFunctionFromPrompt(restaurantDecisionRecommendation, openAIPromptExecutionSettings);\n",
    "\n",
    "// Dynamically set the number of frameworks and decision type -> strategic\n",
    "var kernelArgumentsRestaurantDecisionRecommendation = new KernelArguments();\n",
    "kernelArgumentsRestaurantDecisionRecommendation.Add(\"totalNetWorth\", totalNetWorth);\n",
    "kernelArgumentsRestaurantDecisionRecommendation.Add(\"levelOfCompetition\", levelOfCompetition);\n",
    "kernelArgumentsRestaurantDecisionRecommendation.Add(\"levelOfFamilySupport\", levelOfFamilySupport);\n",
    "\n",
    "// Stream the output of the model\n",
    "await foreach (var streamChunk in semanticKernel.InvokeStreamingAsync(semanticRestaurantDecisionRecommendation, kernelArgumentsRestaurantDecisionRecommendation))\n",
    "{\n",
    "   Console.Write(streamChunk);\n",
    "}\n"
   ]
  }
 ],
 "metadata": {
  "kernelspec": {
   "display_name": ".NET (C#)",
   "language": "C#",
   "name": ".net-csharp"
  },
  "language_info": {
   "name": "csharp"
  },
  "polyglot_notebook": {
   "kernelInfo": {
    "defaultKernelName": "csharp",
    "items": [
     {
      "aliases": [],
      "name": "csharp"
     }
    ]
   }
  }
 },
 "nbformat": 4,
 "nbformat_minor": 2
}
