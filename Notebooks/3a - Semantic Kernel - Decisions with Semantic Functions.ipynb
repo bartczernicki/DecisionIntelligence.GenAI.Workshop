{
 "cells": [
  {
   "cell_type": "markdown",
   "metadata": {},
   "source": [
    "<img style=\"float: left;padding-right: 10px\" width =\"40px\" src=\"https://raw.githubusercontent.com/bartczernicki/DecisionIntelligence.GenAI.Workshop/main/Images/SemanticKernelLogo.png\">\n",
    "\n",
    "## Semantic Kernel - Decisions with Semantic Functions "
   ]
  },
  {
   "cell_type": "markdown",
   "metadata": {},
   "source": [
    "Decision Intelligence applied in this module:  \n",
    "* Listing of various decision-making frameworks with their descriptions \n",
    "* Listing types of decision-making frameworks dynamically based on the type  "
   ]
  },
  {
   "cell_type": "markdown",
   "metadata": {},
   "source": [
    "Semantic Kernel Functions are the core building blocks of functionality for intelligent AI orchestration. Semantic Kernel functions usually have a single responsibility to perform. For example, a Sementic Kernel function can: send an e-mail, call an API, recommend a reasoning framework for a high-stakes decision etc. \n",
    "\n",
    "What makes Semantic Kernel functions so special? Can't one just produce similar outcomes by using a prompt in an LLM or just writing a software program? In order to answer that, one has to look at what makes GenAI so innovative. The GenAI models have a unique ability to process instructions with reasoning and logic. This allows these models to behave almost like a human decision maker. Even with basic prompts, GenAI models perform reasonably well. However, providing GenAI models with additional functions allows them to gain access to business processes, data and basically anything a GenAI model should consider when performing AI orchestration. \n",
    "\n",
    "For example, imagine you want to prepare a great Thanksgiving dinner and want to get help from a GenAI cooking application to create a new recipe. You enter what you want todo and it comes up with the most delicious looking feast for Thanksgiving. However, there is a problem it used ingredients and recommended using cooking appliances that you do not own! You could enter all of the ingredients and keep prompting until it narrowed down the what you could realistically make. Wouldn't it be better if the GenAI cooking application had access to: your available ingredients, your time availability, kitchen appliances and even your allergic preferences. Now the GenAI model can craft a Thanksgiving feast understanding the parameters and data without having to be guided. This is exactly what Semantic Kernel functions provide.\n",
    "\n",
    "Semantic Kernel functions come in two flavors: \n",
    "* Semantic functions\n",
    "* Native functions\n",
    "\n",
    "Semantic functions are basically **prompt instructions** that help guide GenAI LLMs around the specific guidelines it should adhere to when building the AI orchestration. Therefore, semantic functions are likely the first place most AI architects/engineers start when composing AI orchestration with Semantic Kernel. Semantic functions can also take in parameters for dynamic creaation of instructions.  "
   ]
  },
  {
   "cell_type": "markdown",
   "metadata": {},
   "source": [
    "Below is an example of semantic function that can be used for facilitating decision-making. Note the **{{$decisionToMake}}** input where the parameter can be dynamically passed in to provide additional specificity.\n",
    "\n",
    "```javascript\n",
    "[DECISION FRAMEWORKS TO USE]\n",
    "Price's Law\n",
    "Pareto Principle\n",
    "Laplace Rule of Succession\n",
    "Eisenhower Matrix\n",
    "Median Rule of Five\n",
    "Second Order Thinking\n",
    "\n",
    "[DECISION GUIDANCE]\n",
    "Try to use the best fitting framework.  \n",
    "Prefer using quantitative decision frameworks rather qualitative ones.  \n",
    "Use the code interpreter to validate quantitative reasoning.\n",
    "\n",
    "Use the decision frameworks above to help the user make the following decision:\n",
    "{{$decisionToMake}}\n",
    "```  \n",
    "\n",
    "The image below illustrates the core value of semantic functions. \n",
    "\n",
    "<img width =\"500px\" src=\"https://learn.microsoft.com/en-us/semantic-kernel/media/semantic-function-explainer.png\">"
   ]
  },
  {
   "cell_type": "markdown",
   "metadata": {},
   "source": [
    "### Step 1 - Initialize Configuration Builder & Build the Semantic Kernel Orchestration "
   ]
  },
  {
   "cell_type": "markdown",
   "metadata": {},
   "source": [
    "Execute the next two cells to:\n",
    "* Use the Configuration Builder to load the API secrets.  \n",
    "* Use the API configuration to build the Semantic Kernel orchestrator."
   ]
  },
  {
   "cell_type": "code",
   "execution_count": 6,
   "metadata": {
    "dotnet_interactive": {
     "language": "csharp"
    },
    "polyglot_notebook": {
     "kernelName": "csharp"
    },
    "vscode": {
     "languageId": "polyglot-notebook"
    }
   },
   "outputs": [
    {
     "data": {
      "text/html": [
       "<div><div></div><div></div><div><strong>Installed Packages</strong><ul><li><span>Microsoft.Extensions.Configuration, 8.0.0</span></li><li><span>Microsoft.Extensions.Configuration.Json, 8.0.0</span></li><li><span>Microsoft.SemanticKernel, 1.25.0</span></li><li><span>Microsoft.SemanticKernel.Plugins.Core, 1.25.0-alpha</span></li></ul></div></div>"
      ]
     },
     "metadata": {},
     "output_type": "display_data"
    }
   ],
   "source": [
    "#r \"nuget: Microsoft.Extensions.Configuration, 8.0.0\"\n",
    "#r \"nuget: Microsoft.Extensions.Configuration.Json, 8.0.0\"\n",
    "#r \"nuget: Microsoft.SemanticKernel, 1.25.0\"\n",
    "#r \"nuget: Microsoft.SemanticKernel.Plugins.Core, 1.25.0-alpha\"\n",
    "\n",
    "using Microsoft.Extensions.Configuration;\n",
    "using Microsoft.SemanticKernel;\n",
    "using Microsoft.SemanticKernel.ChatCompletion;\n",
    "using Microsoft.SemanticKernel.Connectors.OpenAI;\n",
    "using System.IO;\n",
    "\n",
    "var configurationBuilder = new ConfigurationBuilder()\n",
    "    .SetBasePath(Directory.GetCurrentDirectory())\n",
    "    .AddJsonFile(\"local.settings.json\", optional: true, reloadOnChange: true)\n",
    "    .AddJsonFile(\"secrets.settings.json\", optional: true, reloadOnChange: true);\n",
    "var config = configurationBuilder.Build();\n",
    "\n",
    "// IMPORTANT: You ONLY NEED either Azure OpenAI or OpenAI connectiopn info, not both.\n",
    "// Azure OpenAI Connection Info\n",
    "var azureOpenAIEndpoint = config[\"AzureOpenAI:Endpoint\"];\n",
    "var azureOpenAIAPIKey = config[\"AzureOpenAI:APIKey\"];\n",
    "var azureOpenAIModelDeploymentName = config[\"AzureOpenAI:ModelDeploymentName\"];\n",
    "// OpenAI Connection Info \n",
    "var openAIAPIKey = config[\"OpenAI:APIKey\"];\n",
    "var openAIModelId = config[\"OpenAI:ModelId\"];"
   ]
  },
  {
   "cell_type": "code",
   "execution_count": 7,
   "metadata": {
    "dotnet_interactive": {
     "language": "csharp"
    },
    "polyglot_notebook": {
     "kernelName": "csharp"
    },
    "vscode": {
     "languageId": "polyglot-notebook"
    }
   },
   "outputs": [
    {
     "name": "stdout",
     "output_type": "stream",
     "text": [
      "Using Azure OpenAI Service\n"
     ]
    }
   ],
   "source": [
    "Kernel semanticKernel;\n",
    "\n",
    "// Set the flag to use Azure OpenAI or OpenAI. False to use OpenAI, True to use Azure OpenAI\n",
    "var useAzureOpenAI = true;\n",
    "\n",
    "// Create a new Semantic Kernel instance\n",
    "if (useAzureOpenAI)\n",
    "{\n",
    "    Console.WriteLine(\"Using Azure OpenAI Service\");\n",
    "    semanticKernel = Kernel.CreateBuilder()\n",
    "        .AddAzureOpenAIChatCompletion(\n",
    "            deploymentName: azureOpenAIModelDeploymentName,\n",
    "            endpoint: azureOpenAIEndpoint,\n",
    "            apiKey: azureOpenAIAPIKey)\n",
    "        .Build();\n",
    "}\n",
    "else\n",
    "{\n",
    "    Console.WriteLine(\"Using OpenAI Service\");\n",
    "    semanticKernel = Kernel.CreateBuilder()\n",
    "        .AddOpenAIChatCompletion(\n",
    "            modelId: openAIModelId,\n",
    "            apiKey: openAIAPIKey)\n",
    "        .Build();\n",
    "}"
   ]
  },
  {
   "cell_type": "markdown",
   "metadata": {},
   "source": [
    "### Step 2 - Create a Semantic Kernel - Semantic Function "
   ]
  },
  {
   "cell_type": "markdown",
   "metadata": {},
   "source": [
    "> \"Decision frameworks are like maps. Use them to navigate complex decision-making terrain.  \n",
    ">\n",
    "> -- <cite>Unknown</cite> "
   ]
  },
  {
   "cell_type": "markdown",
   "metadata": {},
   "source": [
    "Semantic functions are constructs inside Semantic Kernel that are basically just prompt instructions. What makes the special is that they can be exposed as functions, thus it makes re-usability easy. Furthermore, future modules will show how they can faciliate composability into plugins. "
   ]
  },
  {
   "cell_type": "code",
   "execution_count": 3,
   "metadata": {
    "dotnet_interactive": {
     "language": "csharp"
    },
    "polyglot_notebook": {
     "kernelName": "csharp"
    },
    "vscode": {
     "languageId": "polyglot-notebook"
    }
   },
   "outputs": [
    {
     "name": "stdout",
     "output_type": "stream",
     "text": [
      "Sure! Here are several decision-making frameworks along with brief descriptions of how each supports better analysis and reasoning in various scenarios:\n",
      "\n",
      "1. **SWOT Analysis (Strengths, Weaknesses, Opportunities, Threats):**\n",
      "   - *Description:* SWOT analysis helps identify internal strengths and weaknesses, as well as external opportunities and threats faced by an organization or individual.\n",
      "   - *Support:* By systematically evaluating positive and negative factors, this framework guides strategic planning and prioritizes actions based on situational analysis.\n",
      "\n",
      "2. **Decision Matrix (Weighted Decision Matrix):**\n",
      "   - *Description:* This involves listing options and criteria, then scoring each option against each criterion. Scores are weighted based on the importance of each criterion.\n",
      "   - *Support:* It quantifies the decision-making process, allowing for a more objective comparison of options based on multiple factors.\n",
      "\n",
      "3. **Cost-Benefit Analysis (CBA):**\n",
      "   - *Description:* CBA involves comparing the costs and benefits of each option, typically in monetary terms.\n",
      "   - *Support:* By analyzing the financial implications, it helps determine the most economically viable option, making it particularly useful for financial and business decisions.\n",
      "\n",
      "4. **Pros and Cons List:**\n",
      "   - *Description:* A straightforward approach where the advantages and disadvantages of each option are listed.\n",
      "   - *Support:* This helps visualize the positive and negative aspects and facilitates a balanced perspective on potential outcomes.\n",
      "\n",
      "5. **PEST Analysis (Political, Economic, Social, Technological):**\n",
      "   - *Description:* PEST analysis examines the external macro-environmental factors that could affect a decision.\n",
      "   - *Support:* It aids in understanding the broader context and long-term implications, ensuring decisions are aligned with external conditions.\n",
      "\n",
      "6. **Six Thinking Hats:**\n",
      "   - *Description:* Developed by Edward de Bono, this method involves looking at a decision from six different perspectives (logical, emotional, critical, optimistic, creative, and process-oriented).\n",
      "   - *Support:* Encourages comprehensive examination of an issue from multiple angles, enhancing creativity and mitigating bias.\n",
      "\n",
      "7. **Rational Decision-Making Model:**\n",
      "   - *Description:* This model involves defining the problem, identifying decision criteria, weighting those criteria, generating alternatives, evaluating the alternatives, and selecting the best option.\n",
      "   - *Support:* It ensures a structured and logical approach, reducing the influence of emotional and cognitive biases.\n",
      "\n",
      "8. **OODA Loop (Observe, Orient, Decide, Act):**\n",
      "   - *Description:* Common in military strategy, the OODA Loop is a cyclical process that involves observing the situation, orienting based on information, deciding on a course of action, and acting.\n",
      "   - *Support:* This adaptive approach allows for quick and iterative decision-making in dynamic environments, promoting quick adjustments in response to changes.\n",
      "\n",
      "9. **Boundary Setting:**\n",
      "   - *Description:* This framework involves defining clear boundaries or constraints within which decisions must be made.\n",
      "   - *Support:* It narrows focus on feasible options and ensures decisions are realistic and aligned with limitations and requirements.\n",
      "\n",
      "10. **Fishbone Diagram (Ishikawa, Cause-and-Effect):**\n",
      "   - *Description:* This visual tool maps out possible causes of a problem to identify root causes.\n",
      "   - *Support:* Helps in comprehensively analyzing factors contributing to a problem, thus facilitating effective problem-solving decisions.\n",
      "\n",
      "11. **Scenario Analysis:**\n",
      "   - *Description:* Scenario analysis involves envisioning a variety of possible futures and evaluating how decisions would play out in each hypothetical scenario.\n",
      "   - *Support:* Prepares decision-makers for uncertainty by exploring multiple outcomes and contingencies, thereby enhancing strategic flexibility.\n",
      "\n",
      "12. **Prospective Hindsight (Premortem Analysis):**\n",
      "   - *Description:* This framework involves imagining that a decision has failed and then working backward to determine the possible reasons for the failure.\n",
      "   - *Support:* By identifying weaknesses preemptively, it mitigates risks and strengthens the decision-making process.\n",
      "\n",
      "Each framework offers unique advantages and can be selected based on the specific context and requirements of the decision-making scenario at hand."
     ]
    }
   ],
   "source": [
    "// Simple prompt to list some decision frameworks this GenAI LLM is familiar with\n",
    "var decisionPromptTemplate = \"\"\"\n",
    "Identify and list various decision-making frameworks that can enhance the quality of decisions. \n",
    "Briefly describe how each framework supports better analysis and reasoning in different decision-making scenarios.\n",
    "\"\"\";\n",
    "\n",
    "// Takes a regular prompt and creats a function that can be used to invoke the model\n",
    "var semanticDecisionFunction = semanticKernel.CreateFunctionFromPrompt(decisionPromptTemplate);\n",
    "\n",
    "await foreach (var streamChunk in semanticKernel.InvokeStreamingAsync(semanticDecisionFunction))\n",
    "{\n",
    "   Console.Write(streamChunk);\n",
    "}"
   ]
  },
  {
   "cell_type": "markdown",
   "metadata": {},
   "source": [
    "### Step 3 - Semantic Function Dynamic Decision Intelligence  "
   ]
  },
  {
   "cell_type": "markdown",
   "metadata": {},
   "source": [
    "> \"If the only tool you have is a hammer, you tend to see every problem as a nail.\"\n",
    ">\n",
    "> -- <cite>Abraham Maslow (Renowned American psychologist)</cite> "
   ]
  },
  {
   "cell_type": "markdown",
   "metadata": {},
   "source": [
    "Semantic functions can be dynamically composed using parameter placeholders, which can then be dynamically rendered using Kernel arguments. This allows the ease of passing in parameters and execution settings into the semantic functions.\n",
    "\n",
    "Execute the cell below to view how the prompt can dynamically instruct the LLM to retrieve different types of decision-making frameworks. "
   ]
  },
  {
   "cell_type": "code",
   "execution_count": 4,
   "metadata": {
    "dotnet_interactive": {
     "language": "csharp"
    },
    "polyglot_notebook": {
     "kernelName": "csharp"
    },
    "vscode": {
     "languageId": "polyglot-notebook"
    }
   },
   "outputs": [
    {
     "name": "stdout",
     "output_type": "stream",
     "text": [
      "Certainly! Here are three decision-making frameworks that can enhance the quality of decisions, particularly in long-term strategic scenarios with probabilistic outcomes:\n",
      "\n",
      "1. **Decision Trees:**\n",
      "   - **Description:** Decision trees are graphical representations of possible solutions to a decision based on different conditions. They map out each possible outcome of a decision and the subsequent decisions that could follow.\n",
      "   - **Support for Better Analysis and Reasoning:** Decision trees help in visualizing the various paths and outcomes of a decision, including the probabilities and potential payoffs of each path. This structured approach allows decision-makers to systematically evaluate the potential impacts of their choices, consider the likelihood of different scenarios, and make more informed decisions by comparing the expected values of different strategies.\n",
      "\n",
      "2. **Scenario Planning:**\n",
      "   - **Description:** Scenario planning involves creating detailed and plausible views of how the future might unfold based on different assumptions and variables. It typically involves developing multiple scenarios that represent a range of possible futures.\n",
      "   - **Support for Better Analysis and Reasoning:** By considering a variety of potential futures, scenario planning helps decision-makers to anticipate and prepare for different possibilities. This approach encourages thinking beyond linear projections and considering a wider array of factors and uncertainties. It also helps in identifying strategic options that are robust across multiple scenarios, thus enhancing resilience and flexibility in long-term planning.\n",
      "\n",
      "3. **Monte Carlo Simulation:**\n",
      "   - **Description:** Monte Carlo simulation is a computational technique that uses random sampling and statistical modeling to estimate the probability distributions of different outcomes in a process that involves uncertainty.\n",
      "   - **Support for Better Analysis and Reasoning:** Monte Carlo simulations allow decision-makers to model the probability of different outcomes based on a range of input variables and their associated uncertainties. By running numerous simulations, it provides a comprehensive view of the potential variability and risk associated with different decisions. This helps in understanding the range of possible outcomes, identifying the most likely scenarios, and making decisions that optimize the expected value while managing risk.\n",
      "\n",
      "Each of these frameworks offers a structured approach to dealing with uncertainty and complexity, enabling more rigorous analysis and more informed decision-making in long-term strategic contexts."
     ]
    }
   ],
   "source": [
    "// Takes a prompt with input variables and creates a function that can be used to invoke the model\n",
    "var decisionPromptTemplate = \"\"\"\n",
    "Identify and list {{$numberOfFrameworks}} decision-making frameworks that can enhance the quality of decisions. \n",
    "Briefly describe how each framework supports better analysis and reasoning in {{$decisionType}} decision-making scenarios.\n",
    "\"\"\";\n",
    "\n",
    "// Create the OpenAI prompt execution settings, try changing the settings to see how the output changes\n",
    "// Try different settings (Temperature, FrequencyPenalty etc) to see how they affect the quality of the generated text\n",
    "var openAIPromptExecutionSettings = new OpenAIPromptExecutionSettings { \n",
    "    MaxTokens = 750, \n",
    "    Temperature = 0.3, \n",
    "    TopP = 1.0, \n",
    "    FrequencyPenalty = 0.0, \n",
    "    PresencePenalty = 0.0\n",
    "    };\n",
    "\n",
    "var semanticDecisionFunctionWithInput = semanticKernel.CreateFunctionFromPrompt(decisionPromptTemplate, openAIPromptExecutionSettings);\n",
    "\n",
    "// Dynamically set the number of frameworks and decision type -> strategic\n",
    "var kernelArguments = new KernelArguments();\n",
    "kernelArguments.Add(\"numberOfFrameworks\", 3);\n",
    "kernelArguments.Add(\"decisionType\", \"Long-Term strategic with probabilistic outcomes\");\n",
    "\n",
    "// Stream the output of the model\n",
    "await foreach (var streamChunk in semanticKernel.InvokeStreamingAsync(semanticDecisionFunctionWithInput, kernelArguments))\n",
    "{\n",
    "   Console.Write(streamChunk);\n",
    "}"
   ]
  },
  {
   "cell_type": "markdown",
   "metadata": {},
   "source": [
    "In the example below, the number of frameworks to return has been changed as well as the type has been changed to **Quick to Implement for rapid Dicision-Making\"**.  "
   ]
  },
  {
   "cell_type": "code",
   "execution_count": 10,
   "metadata": {
    "dotnet_interactive": {
     "language": "csharp"
    },
    "polyglot_notebook": {
     "kernelName": "csharp"
    },
    "vscode": {
     "languageId": "polyglot-notebook"
    }
   },
   "outputs": [
    {
     "name": "stdout",
     "output_type": "stream",
     "text": [
      "Certainly! Here are five decision-making frameworks that can enhance the quality of decisions, particularly in scenarios requiring rapid decision-making:\n",
      "\n",
      "1. **OODA Loop (Observe, Orient, Decide, Act):**\n",
      "   - **Description:** The OODA Loop is a cyclical process that involves four stages: Observing the current situation, Orienting by analyzing and synthesizing information, Deciding on a course of action, and Acting on that decision.\n",
      "   - **Support for Rapid Decision-Making:** This framework is designed for quick adaptation and response. It helps decision-makers rapidly process information, adjust to new data, and take swift, informed actions. It’s particularly useful in dynamic environments where conditions change rapidly.\n",
      "\n",
      "2. **SWOT Analysis (Strengths, Weaknesses, Opportunities, Threats):**\n",
      "   - **Description:** SWOT Analysis involves identifying internal strengths and weaknesses, as well as external opportunities and threats related to a decision or situation.\n",
      "   - **Support for Rapid Decision-Making:** By quickly categorizing these four elements, decision-makers can gain a clear, concise overview of the situation. This helps in making informed decisions by leveraging strengths, addressing weaknesses, capitalizing on opportunities, and mitigating threats.\n",
      "\n",
      "3. **Pareto Analysis (80/20 Rule):**\n",
      "   - **Description:** Pareto Analysis is based on the principle that 80% of effects come from 20% of causes. It involves identifying the most significant factors that will have the greatest impact.\n",
      "   - **Support for Rapid Decision-Making:** This framework helps prioritize actions by focusing on the critical few factors that will yield the most significant results. It streamlines decision-making by directing attention to the most impactful areas, thus saving time and resources.\n",
      "\n",
      "4. **PDCA Cycle (Plan, Do, Check, Act):**\n",
      "   - **Description:** The PDCA Cycle is an iterative process for continuous improvement. It involves planning a change, implementing the change, checking the results, and acting on what is learned.\n",
      "   - **Support for Rapid Decision-Making:** This framework allows for quick implementation and iterative refinement. It supports rapid decision-making by encouraging small, incremental changes and continuous feedback, enabling quick adjustments and improvements.\n",
      "\n",
      "5. **Eisenhower Matrix (Urgent-Important Matrix):**\n",
      "   - **Description:** The Eisenhower Matrix categorizes tasks based on their urgency and importance, dividing them into four quadrants: urgent and important, important but not urgent, urgent but not important, and neither urgent nor important.\n",
      "   - **Support for Rapid Decision-Making:** This framework helps prioritize tasks and decisions by clearly distinguishing between what needs immediate attention and what can be scheduled or delegated. It aids in focusing on high-priority actions, thus enhancing efficiency and effectiveness in decision-making.\n",
      "\n",
      "Each of these frameworks provides a structured approach to decision-making, enabling quicker, more informed, and more effective decisions in fast-paced environments."
     ]
    }
   ],
   "source": [
    "// Dynamically set the number of frameworks and decision type -> requring fast action\n",
    "var kernelArguments = new KernelArguments(openAIPromptExecutionSettings);\n",
    "kernelArguments.Add(\"numberOfFrameworks\", 5);\n",
    "kernelArguments.Add(\"decisionType\", \"Quick to Implement for rapid Dicision-Making\");\n",
    "\n",
    "// Stream the output of the model\n",
    "await foreach (var streamChunk in semanticKernel.InvokeStreamingAsync(semanticDecisionFunctionWithInput, kernelArguments))\n",
    "{\n",
    "   Console.Write(streamChunk);\n",
    "}"
   ]
  }
 ],
 "metadata": {
  "kernelspec": {
   "display_name": ".NET (C#)",
   "language": "C#",
   "name": ".net-csharp"
  },
  "language_info": {
   "name": "csharp"
  },
  "polyglot_notebook": {
   "kernelInfo": {
    "defaultKernelName": "csharp",
    "items": [
     {
      "aliases": [],
      "name": "csharp"
     }
    ]
   }
  }
 },
 "nbformat": 4,
 "nbformat_minor": 2
}
