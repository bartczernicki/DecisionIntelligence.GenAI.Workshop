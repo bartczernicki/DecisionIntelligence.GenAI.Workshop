{
 "cells": [
  {
   "cell_type": "markdown",
   "metadata": {},
   "source": [
    "<img style=\"float: left;padding-right: 10px\" width =\"40px\" src=\"https://raw.githubusercontent.com/bartczernicki/DecisionIntelligence.GenAI.Workshop/main/Images/SemanticKernelLogo.png\">\n",
    "\n",
    "## Semantic Kernel - Decisions with Semantic Functions "
   ]
  },
  {
   "cell_type": "markdown",
   "metadata": {},
   "source": [
    "Decision Intelligence applied in this module:  \n",
    "* Listing of various decision-making frameworks with their descriptions \n",
    "* Listing types of decision-making frameworks dynamically based on the type  "
   ]
  },
  {
   "cell_type": "markdown",
   "metadata": {},
   "source": [
    "Semantic Kernel Functions are the core building blocks of functionality for intelligent AI orchestration. Semantic Kernel functions usually have a single responsibility to perform. For example, a Sementic Kernel function can: send an e-mail, call an API, recommend a reasoning framework for a high-stakes decision etc. \n",
    "\n",
    "What makes Semantic Kernel functions so special? Can't one just produce similar outcomes by using a prompt in an LLM or just writing a software program? In order to answer that, one has to look at what makes GenAI so innovative. The GenAI models have a unique ability to process instructions with reasoning and logic. This allows these models to behave almost like a human decision maker. Even with basic prompts, GenAI models perform reasonably well. However, providing GenAI models with additional functions allows them to gain access to business processes, data and basically anything a GenAI model should consider when performing AI orchestration. \n",
    "\n",
    "For example, imagine you want to prepare a great Thanksgiving dinner and want to get help from a GenAI cooking application to create a new recipe. You enter what you want todo and it comes up with the most delicious looking feast for Thanksgiving. However, there is a problem it used ingredients and recommended using cooking appliances that you do not own! You could enter all of the ingredients and keep prompting until it narrowed down the what you could realistically make. Wouldn't it be better if the GenAI cooking application had access to: your available ingredients, your time availability, kitchen appliances and even your allergic preferences. Now the GenAI model can craft a Thanksgiving feast understanding the parameters and data without having to be guided. This is exactly what Semantic Kernel functions provide.\n",
    "\n",
    "Semantic Kernel functions come in two flavors: \n",
    "* Semantic functions\n",
    "* Native functions\n",
    "\n",
    "Semantic functions are basically **prompt instructions** that help guide GenAI LLMs around the specific guidelines it should adhere to when building the AI orchestration. Therefore, semantic functions are likely the first place most AI architects/engineers start when composing AI orchestration with Semantic Kernel. Semantic functions can also take in parameters for dynamic creaation of instructions.  "
   ]
  },
  {
   "cell_type": "markdown",
   "metadata": {},
   "source": [
    "Below is an example of semantic function that can be used for facilitating decision-making. Note the **{{$decisionToMake}}** input where the parameter can be dynamically passed in to provide additional specificity.\n",
    "\n",
    "```javascript\n",
    "[DECISION FRAMEWORKS TO USE]\n",
    "Price's Law\n",
    "Pareto Principle\n",
    "Laplace Rule of Succession\n",
    "Eisenhower Matrix\n",
    "Median Rule of Five\n",
    "Second Order Thinking\n",
    "\n",
    "[DECISION GUIDANCE]\n",
    "Try to use the best fitting framework.  \n",
    "Prefer using quantitative decision frameworks rather qualitative ones.  \n",
    "Use the code interpreter to validate quantitative reasoning.\n",
    "\n",
    "Use the decision frameworks above to help the user make the following decision:\n",
    "{{$decisionToMake}}\n",
    "```  \n",
    "\n",
    "The image below illustrates the core value of semantic functions. \n",
    "\n",
    "<img style=\"display: block; margin: auto;\" width =\"500px\" src=\"https://learn.microsoft.com/en-us/semantic-kernel/media/semantic-function-explainer.png\">"
   ]
  },
  {
   "cell_type": "markdown",
   "metadata": {},
   "source": [
    "### Step 1 - Initialize Configuration Builder & Build the Semantic Kernel Orchestration "
   ]
  },
  {
   "cell_type": "markdown",
   "metadata": {},
   "source": [
    "Execute the next two cells to:\n",
    "* Use the Configuration Builder to load the API secrets.  \n",
    "* Use the API configuration to build the Semantic Kernel orchestrator."
   ]
  },
  {
   "cell_type": "code",
   "execution_count": 1,
   "metadata": {
    "dotnet_interactive": {
     "language": "csharp"
    },
    "polyglot_notebook": {
     "kernelName": "csharp"
    },
    "vscode": {
     "languageId": "polyglot-notebook"
    }
   },
   "outputs": [
    {
     "data": {
      "text/html": [
       "<div><div></div><div></div><div><strong>Installed Packages</strong><ul><li><span>Microsoft.Extensions.Configuration, 9.0.6</span></li><li><span>Microsoft.Extensions.Configuration.Json, 9.0.6</span></li><li><span>Microsoft.SemanticKernel, 1.56.0</span></li><li><span>Microsoft.SemanticKernel.Plugins.Core, 1.56.0-preview</span></li></ul></div></div>"
      ]
     },
     "metadata": {},
     "output_type": "display_data"
    }
   ],
   "source": [
    "#r \"nuget: Microsoft.Extensions.Configuration, 9.0.6\"\n",
    "#r \"nuget: Microsoft.Extensions.Configuration.Json, 9.0.6\"\n",
    "#r \"nuget: Microsoft.SemanticKernel, 1.56\"\n",
    "#r \"nuget: Microsoft.SemanticKernel.Plugins.Core, 1.56-preview\"\n",
    "\n",
    "using Microsoft.Extensions.Configuration;\n",
    "using Microsoft.SemanticKernel;\n",
    "using Microsoft.SemanticKernel.ChatCompletion;\n",
    "using Microsoft.SemanticKernel.Connectors.OpenAI;\n",
    "using System.IO;\n",
    "\n",
    "var configurationBuilder = new ConfigurationBuilder()\n",
    "    .SetBasePath(Directory.GetCurrentDirectory())\n",
    "    .AddJsonFile(\"local.settings.json\", optional: true, reloadOnChange: true)\n",
    "    .AddJsonFile(\"secrets.settings.json\", optional: true, reloadOnChange: true);\n",
    "var config = configurationBuilder.Build();\n",
    "\n",
    "// IMPORTANT: You ONLY NEED either Azure OpenAI or OpenAI connectiopn info, not both.\n",
    "// Azure OpenAI Connection Info\n",
    "var azureOpenAIEndpoint = config[\"AzureOpenAI:Endpoint\"];\n",
    "var azureOpenAIAPIKey = config[\"AzureOpenAI:APIKey\"];\n",
    "var azureOpenAIModelDeploymentName = config[\"AzureOpenAI:ModelDeploymentName\"];\n",
    "// OpenAI Connection Info \n",
    "var openAIAPIKey = config[\"OpenAI:APIKey\"];\n",
    "var openAIModelId = config[\"OpenAI:ModelId\"];"
   ]
  },
  {
   "cell_type": "code",
   "execution_count": 2,
   "metadata": {
    "dotnet_interactive": {
     "language": "csharp"
    },
    "polyglot_notebook": {
     "kernelName": "csharp"
    },
    "vscode": {
     "languageId": "polyglot-notebook"
    }
   },
   "outputs": [
    {
     "name": "stdout",
     "output_type": "stream",
     "text": [
      "Using Azure OpenAI Service\n"
     ]
    }
   ],
   "source": [
    "Kernel semanticKernel;\n",
    "\n",
    "// Set the flag to use Azure OpenAI or OpenAI. False to use OpenAI, True to use Azure OpenAI\n",
    "var useAzureOpenAI = true;\n",
    "\n",
    "// Create a new Semantic Kernel instance\n",
    "if (useAzureOpenAI)\n",
    "{\n",
    "    Console.WriteLine(\"Using Azure OpenAI Service\");\n",
    "    semanticKernel = Kernel.CreateBuilder()\n",
    "        .AddAzureOpenAIChatCompletion(\n",
    "            deploymentName: azureOpenAIModelDeploymentName,\n",
    "            endpoint: azureOpenAIEndpoint,\n",
    "            apiKey: azureOpenAIAPIKey)\n",
    "        .Build();\n",
    "}\n",
    "else\n",
    "{\n",
    "    Console.WriteLine(\"Using OpenAI Service\");\n",
    "    semanticKernel = Kernel.CreateBuilder()\n",
    "        .AddOpenAIChatCompletion(\n",
    "            modelId: openAIModelId,\n",
    "            apiKey: openAIAPIKey)\n",
    "        .Build();\n",
    "}"
   ]
  },
  {
   "cell_type": "markdown",
   "metadata": {},
   "source": [
    "### Step 2 - Create a Semantic Kernel - Semantic Function "
   ]
  },
  {
   "cell_type": "markdown",
   "metadata": {},
   "source": [
    "> 📜 **_\"Decision frameworks are like maps. Use them to navigate complex decision-making terrain._** \n",
    ">\n",
    "> -- <cite>Unknown</cite> "
   ]
  },
  {
   "cell_type": "markdown",
   "metadata": {},
   "source": [
    "Semantic functions are constructs inside Semantic Kernel that are basically just prompt instructions. What makes the special is that they can be exposed as functions, thus it makes re-usability easy. Furthermore, future modules will show how they can faciliate composability into plugins. "
   ]
  },
  {
   "cell_type": "code",
   "execution_count": 3,
   "metadata": {
    "dotnet_interactive": {
     "language": "csharp"
    },
    "polyglot_notebook": {
     "kernelName": "csharp"
    },
    "vscode": {
     "languageId": "polyglot-notebook"
    }
   },
   "outputs": [
    {
     "name": "stdout",
     "output_type": "stream",
     "text": [
      "Certainly! Here are several widely used **decision-making frameworks** along with brief descriptions of how each enhances analysis and reasoning across different scenarios:\n",
      "\n",
      "---\n",
      "\n",
      "### 1. **SWOT Analysis (Strengths, Weaknesses, Opportunities, Threats)**\n",
      "**Description:**  \n",
      "SWOT helps identify internal strengths/weaknesses and external opportunities/threats related to a decision.\n",
      "**Uses:**  \n",
      "Fosters comprehensive situational analysis in strategic planning, project evaluation, or personal choices.\n",
      "\n",
      "---\n",
      "\n",
      "### 2. **Decision Matrix (Weighted Scoring Model)**\n",
      "**Description:**  \n",
      "Lists alternatives and evaluates them against defined criteria, often with assigned weights.\n",
      "**Uses:**  \n",
      "Aids objective comparison when facing multiple options; prevents bias by quantifying factors’ importance.\n",
      "\n",
      "---\n",
      "\n",
      "### 3. **Cost-Benefit Analysis (CBA)**\n",
      "**Description:**  \n",
      "Compares expected costs and benefits (both quantitative and qualitative) for each choice.\n",
      "**Uses:**  \n",
      "Ensures that decisions are justified economically and helps prioritize resource allocation.\n",
      "\n",
      "---\n",
      "\n",
      "### 4. **Pros and Cons List**\n",
      "**Description:**  \n",
      "Lists positive and negative aspects for each option.\n",
      "**Uses:**  \n",
      "Simple but effective for clarifying trade-offs, especially in personal or smaller-scale decisions.\n",
      "\n",
      "---\n",
      "\n",
      "### 5. **Six Thinking Hats (Edward de Bono)**\n",
      "**Description:**  \n",
      "Encourages analysis from six different perspectives: facts, emotions, risks, benefits, creativity, and process.\n",
      "**Uses:**  \n",
      "Improves collaborative problem-solving and encourages thorough exploration of diverse viewpoints.\n",
      "\n",
      "---\n",
      "\n",
      "### 6. **OODA Loop (Observe, Orient, Decide, Act)**\n",
      "**Description:**  \n",
      "A rapid, iterative process of observing the environment, orienting to shift perspectives, deciding, and acting.\n",
      "**Uses:**  \n",
      "Effective in dynamic, competitive, or crisis situations where speed and adaptability matter.\n",
      "\n",
      "---\n",
      "\n",
      "### 7. **PDCA Cycle (Plan-Do-Check-Act)**\n",
      "**Description:**  \n",
      "A continuous improvement cycle: plan a change, implement, evaluate results, standardize or adjust.\n",
      "**Uses:**  \n",
      "Empowers iterative refinement for ongoing processes or problem-solving.\n",
      "\n",
      "---\n",
      "\n",
      "### 8. **Pareto Analysis (80/20 Rule)**\n",
      "**Description:**  \n",
      "Focuses on identifying the 20% of causes producing 80% of the effect to prioritize action.\n",
      "**Uses:**  \n",
      "Supports prioritization in resource-constrained environments.\n",
      "\n",
      "---\n",
      "\n",
      "### 9. **Root Cause Analysis (e.g., The Five Whys, Fishbone Diagram)**\n",
      "**Description:**  \n",
      "Examines underlying causes of problems, not just symptoms.\n",
      "**Uses:**  \n",
      "Helps in troubleshooting, ensuring solutions address core issues.\n",
      "\n",
      "---\n",
      "\n",
      "### 10. **Rapid Decision-Making and Synchronization Process (RDSP)**\n",
      "**Description:**  \n",
      "Combines collaboration and structured steps to quickly align teams on complex issues.\n",
      "**Uses:**  \n",
      "Balances speed and group consensus, useful in high-stakes or emergency situations.\n",
      "\n",
      "---\n",
      "\n",
      "### 11. **Value-Based Decision Making**\n",
      "**Description:**  \n",
      "Aligns choices with core values, mission, or ethics.\n",
      "**Uses:**  \n",
      "Strengthens congruence with personal or organizational principles—good for dilemmas without clear objective criteria.\n",
      "\n",
      "---\n",
      "\n",
      "**Summary:**  \n",
      "These frameworks support better decisions by clarifying factors, making comparisons objective, uncovering blind spots, and aligning actions with goals and values. The framework you choose depends on the complexity, urgency, and context of your decision."
     ]
    }
   ],
   "source": [
    "// Simple prompt to list some decision frameworks this GenAI LLM is familiar with\n",
    "var decisionPromptTemplate = \"\"\"\n",
    "Identify and list various decision-making frameworks that can enhance the quality of decisions. \n",
    "Briefly describe how each framework supports better analysis and reasoning in different decision-making scenarios.\n",
    "\"\"\";\n",
    "\n",
    "// Takes a regular prompt and creats a function that can be used to invoke the model\n",
    "var semanticDecisionFunction = semanticKernel.CreateFunctionFromPrompt(decisionPromptTemplate);\n",
    "\n",
    "await foreach (var streamChunk in semanticKernel.InvokeStreamingAsync(semanticDecisionFunction))\n",
    "{\n",
    "   Console.Write(streamChunk);\n",
    "}"
   ]
  },
  {
   "cell_type": "markdown",
   "metadata": {},
   "source": [
    "### Step 3 - Semantic Function Dynamic Decision Intelligence  "
   ]
  },
  {
   "cell_type": "markdown",
   "metadata": {},
   "source": [
    "> 📜 **_\"If the only tool you have is a hammer, you tend to see every problem as a nail.\"_**\n",
    ">\n",
    "> -- <cite>Abraham Maslow (Renowned American psychologist)</cite> "
   ]
  },
  {
   "cell_type": "markdown",
   "metadata": {},
   "source": [
    "Semantic functions can be dynamically composed using parameter placeholders, which can then be dynamically rendered using Kernel arguments. This allows the ease of passing in parameters and execution settings into the semantic functions.\n",
    "\n",
    "Execute the cell below to view how the prompt can dynamically instruct the LLM to retrieve different types of decision-making frameworks. "
   ]
  },
  {
   "cell_type": "code",
   "execution_count": 4,
   "metadata": {
    "dotnet_interactive": {
     "language": "csharp"
    },
    "polyglot_notebook": {
     "kernelName": "csharp"
    },
    "vscode": {
     "languageId": "polyglot-notebook"
    }
   },
   "outputs": [
    {
     "name": "stdout",
     "output_type": "stream",
     "text": [
      "Certainly! Here are three decision-making frameworks that enhance the quality of decisions, especially in long-term strategic scenarios with probabilistic outcomes:\n",
      "\n",
      "---\n",
      "\n",
      "**1. Decision Tree Analysis**\n",
      "\n",
      "**Description:**  \n",
      "A decision tree is a graphical tool that maps out possible decisions and their potential consequences, including chance event outcomes, resource costs, and utility.\n",
      "\n",
      "**Support for Better Analysis:**  \n",
      "- **Visualizes Complex Choices:** It breaks down complex, multi-stage decisions into manageable parts.\n",
      "- **Incorporates Probabilities:** By assigning probabilities to different branches, it helps quantify uncertainty.\n",
      "- **Calculates Expected Value:** Enables decision-makers to compare options based on expected outcomes, supporting rational long-term planning.\n",
      "\n",
      "---\n",
      "\n",
      "**2. Monte Carlo Simulation**\n",
      "\n",
      "**Description:**  \n",
      "Monte Carlo simulation uses random sampling and statistical modeling to estimate the probability distributions of different outcomes in a process that cannot easily be predicted due to the intervention of random variables.\n",
      "\n",
      "**Support for Better Analysis:**  \n",
      "- **Models Uncertainty:** Simulates thousands of possible scenarios, capturing a wide range of probabilistic outcomes.\n",
      "- **Quantifies Risk:** Provides insights into the likelihood and impact of various risks, supporting robust long-term strategies.\n",
      "- **Supports Sensitivity Analysis:** Helps identify which variables most influence outcomes, guiding resource allocation and risk mitigation.\n",
      "\n",
      "---\n",
      "\n",
      "**3. Real Options Analysis**\n",
      "\n",
      "**Description:**  \n",
      "Real options analysis applies financial options theory to real-life investment decisions, valuing the flexibility to adapt or defer decisions as uncertainty resolves over time.\n",
      "\n",
      "**Support for Better Analysis:**  \n",
      "- **Values Flexibility:** Recognizes the value of waiting, expanding, or abandoning projects as new information emerges.\n",
      "- **Incorporates Uncertainty Over Time:** Explicitly models how uncertainty evolves and how decisions can be staged.\n",
      "- **Improves Strategic Agility:** Encourages decision-makers to design strategies that are adaptable to changing circumstances, optimizing long-term value under uncertainty.\n",
      "\n",
      "---\n",
      "\n",
      "These frameworks help decision-makers systematically analyze complex, uncertain scenarios, leading to more informed, rational, and resilient long-term strategic choices."
     ]
    }
   ],
   "source": [
    "// Takes a prompt with input variables and creates a function that can be used to invoke the GenAI model\n",
    "var decisionPromptTemplate = \"\"\"\n",
    "Identify and list {{$numberOfFrameworks}} decision-making frameworks that can enhance the quality of decisions. \n",
    "Briefly describe how each framework supports better analysis and reasoning in {{$decisionType}} decision-making scenarios.\n",
    "\"\"\";\n",
    "\n",
    "// Create the OpenAI prompt execution settings, try changing the settings to see how the output changes\n",
    "// Try different settings (Temperature, FrequencyPenalty etc) to see how they affect the quality of the generated text\n",
    "var openAIPromptExecutionSettings = new OpenAIPromptExecutionSettings { \n",
    "    MaxTokens = 1000, \n",
    "    Temperature = 0.3, \n",
    "    TopP = 1.0, \n",
    "    FrequencyPenalty = 0.0, \n",
    "    PresencePenalty = 0.0\n",
    "    };\n",
    "\n",
    "var semanticDecisionFunctionWithInput = semanticKernel.CreateFunctionFromPrompt(decisionPromptTemplate, openAIPromptExecutionSettings);\n",
    "\n",
    "// Dynamically set the number of frameworks and decision type -> strategic\n",
    "var kernelArguments = new KernelArguments();\n",
    "kernelArguments.Add(\"numberOfFrameworks\", 3);\n",
    "kernelArguments.Add(\"decisionType\", \"Long-Term strategic with probabilistic outcomes\");\n",
    "\n",
    "// Stream the output of the model\n",
    "await foreach (var streamChunk in semanticKernel.InvokeStreamingAsync(semanticDecisionFunctionWithInput, kernelArguments))\n",
    "{\n",
    "   Console.Write(streamChunk);\n",
    "}"
   ]
  },
  {
   "cell_type": "markdown",
   "metadata": {},
   "source": [
    "In the example below, the number of frameworks to return has been changed as well as the type has been changed to **Quick to Implement for rapid Dicision-Making\"**.  "
   ]
  },
  {
   "cell_type": "code",
   "execution_count": 5,
   "metadata": {
    "dotnet_interactive": {
     "language": "csharp"
    },
    "polyglot_notebook": {
     "kernelName": "csharp"
    },
    "vscode": {
     "languageId": "polyglot-notebook"
    }
   },
   "outputs": [
    {
     "name": "stdout",
     "output_type": "stream",
     "text": [
      "Certainly! Here are **five decision-making frameworks** that can enhance decision quality, each described with a focus on **quick implementation for rapid decision-making**:\n",
      "\n",
      "---\n",
      "\n",
      "### 1. **OODA Loop (Observe, Orient, Decide, Act)**\n",
      "**Description:**  \n",
      "The OODA Loop is a cyclical process that encourages rapid situational assessment and action.  \n",
      "**How it helps:**  \n",
      "- **Quickly gathers information (Observe)**\n",
      "- **Rapidly interprets context (Orient)**\n",
      "- **Makes a decision (Decide)**\n",
      "- **Implements immediately (Act)**\n",
      "- The loop can be repeated, allowing for fast adaptation as new information arises.\n",
      "\n",
      "---\n",
      "\n",
      "### 2. **SWOT Analysis (Strengths, Weaknesses, Opportunities, Threats)**\n",
      "**Description:**  \n",
      "A simple grid to quickly assess internal and external factors affecting a decision.  \n",
      "**How it helps:**  \n",
      "- **Clarifies key factors at a glance**\n",
      "- **Helps prioritize actions based on strengths and opportunities**\n",
      "- **Identifies urgent threats or weaknesses**\n",
      "- Can be completed in minutes for rapid clarity.\n",
      "\n",
      "---\n",
      "\n",
      "### 3. **Eisenhower Matrix (Urgent-Important Matrix)**\n",
      "**Description:**  \n",
      "A 2x2 matrix for prioritizing tasks by urgency and importance.  \n",
      "**How it helps:**  \n",
      "- **Quickly sorts options into four categories**\n",
      "- **Focuses attention on what matters most**\n",
      "- **Enables immediate action on high-priority items**\n",
      "- Simple to implement for fast triage.\n",
      "\n",
      "---\n",
      "\n",
      "### 4. **Pros and Cons List**\n",
      "**Description:**  \n",
      "A straightforward listing of positive and negative aspects of each option.  \n",
      "**How it helps:**  \n",
      "- **Visualizes trade-offs instantly**\n",
      "- **Encourages objective comparison**\n",
      "- **Can be done solo or with a team in minutes**\n",
      "- Supports quick, reasoned choices.\n",
      "\n",
      "---\n",
      "\n",
      "### 5. **5 Whys**\n",
      "**Description:**  \n",
      "A root cause analysis tool that involves asking “Why?” five times to drill down to the core issue.  \n",
      "**How it helps:**  \n",
      "- **Rapidly uncovers underlying causes**\n",
      "- **Prevents superficial or knee-jerk decisions**\n",
      "- **Leads to more effective, targeted actions**\n",
      "- Can be applied in a few minutes for quick clarity.\n",
      "\n",
      "---\n",
      "\n",
      "**Summary Table:**\n",
      "\n",
      "| Framework         | How it Supports Rapid Decision-Making           |\n",
      "|-------------------|------------------------------------------------|\n",
      "| OODA Loop         | Fast, iterative action and adaptation          |\n",
      "| SWOT Analysis     | Quick, holistic situational assessment         |\n",
      "| Eisenhower Matrix | Immediate prioritization of tasks              |\n",
      "| Pros & Cons List  | Simple, objective comparison                   |\n",
      "| 5 Whys            | Rapid root cause identification                |\n",
      "\n",
      "Each framework is **quick to implement** and enhances analysis and reasoning for better, faster decisions."
     ]
    }
   ],
   "source": [
    "// Dynamically set the number of frameworks and decision type -> requring fast action\n",
    "var kernelArguments = new KernelArguments(openAIPromptExecutionSettings);\n",
    "kernelArguments.Add(\"numberOfFrameworks\", 5);\n",
    "kernelArguments.Add(\"decisionType\", \"Quick to Implement for rapid Dicision-Making\");\n",
    "\n",
    "// Stream the output of the model\n",
    "await foreach (var streamChunk in semanticKernel.InvokeStreamingAsync(semanticDecisionFunctionWithInput, kernelArguments))\n",
    "{\n",
    "   Console.Write(streamChunk);\n",
    "}"
   ]
  },
  {
   "cell_type": "markdown",
   "metadata": {},
   "source": [
    "#### Recommendation Decision Scenario with Dynamic Decision Intelligence"
   ]
  },
  {
   "cell_type": "markdown",
   "metadata": {},
   "source": [
    "In the below code a decsion-analysis scenario is introduced that uses dynamic inputs to personalize the decision recommendation dynamically. The more specific information that provides contextual information to the Generative AI model can great improve the specific recommendations. \n",
    "\n",
    "**Decision Scenario:** Michael is a 35-year-old professional chef who is considering opening his own restaurant. This is a significant life decision that could greatly impact his career and personal life. Michael is looking for a recommendation for an approach (decision) for this potentially life-changing decision. \n",
    "\n",
    "<img style=\"display: block; margin: auto;\" width =\"700px\" src=\"https://raw.githubusercontent.com/bartczernicki/DecisionIntelligence.GenAI.Workshop/main/Images/Scenarios/Scenario-RestaurantDecision.png\">\n",
    "\n",
    "Three factors will be considered for this scenario that the user will be prompted for: \n",
    "1) Michael's Total Net Worth in dollars (enter number)\n",
    "2) Level of competition with other restaurants (low, medium, high) \n",
    "3) Level of support from Michael's friends and family (low, medium, high) \n",
    "\n",
    "**Various Inputs:** Vary the input of net worth, restaurant competition and level of family support to note the various outcomes.  "
   ]
  },
  {
   "cell_type": "code",
   "execution_count": 7,
   "metadata": {
    "dotnet_interactive": {
     "language": "csharp"
    },
    "polyglot_notebook": {
     "kernelName": "csharp"
    },
    "vscode": {
     "languageId": "polyglot-notebook"
    }
   },
   "outputs": [
    {
     "name": "stdout",
     "output_type": "stream",
     "text": [
      "Michael's Net Worth: 500000\n",
      "Level of Restaurant Competition: high\n",
      "Michael's level of Family Support: high\n",
      "\n",
      "Opening a restaurant is a significant and complex decision that requires careful consideration of financial, personal, and market factors. Based on the information provided, here is a structured recommendation for Michael:\n",
      "\n",
      "### 1. **Evaluate Financial Readiness**\n",
      "   - **Net Worth:** With a net worth of $500,000, Michael has a solid financial foundation. However, opening a restaurant can be expensive, with costs for leasing, equipment, staffing, inventory, marketing, and more. He should:\n",
      "     - Determine how much of his net worth he is willing to invest without jeopardizing his financial stability.\n",
      "     - Consider securing additional funding (e.g., loans, investors) to reduce personal financial risk.\n",
      "     - Create a detailed budget and financial plan, including a contingency fund for unexpected expenses.\n",
      "\n",
      "### 2. **Conduct Market Research**\n",
      "   - **Competition:** The high level of competition suggests that Michael needs to identify a unique value proposition to stand out. He should:\n",
      "     - Research the local market to identify gaps or underserved niches (e.g., cuisine type, dining experience, price point).\n",
      "     - Analyze competitors to understand their strengths, weaknesses, and customer base.\n",
      "     - Test his concept with pop-up events, catering, or collaborations before committing to a full-scale restaurant.\n",
      "\n",
      "### 3. **Leverage Support Network**\n",
      "   - **Friends and Family Support:** High support from friends and family is a significant advantage. Michael can:\n",
      "     - Seek advice, feedback, and potential partnerships from his network.\n",
      "     - Involve them in the process, such as taste-testing menus or helping with marketing through word-of-mouth and social media.\n",
      "     - Consider whether any friends or family members have skills (e.g., business management, marketing) that could complement his culinary expertise.\n",
      "\n",
      "### 4. **Develop a Business Plan**\n",
      "   - A comprehensive business plan is essential for success. It should include:\n",
      "     - A clear vision and mission for the restaurant.\n",
      "     - Target audience and marketing strategy.\n",
      "     - Menu development and pricing strategy.\n",
      "     - Location analysis (foot traffic, demographics, lease costs).\n",
      "     - Staffing plan and operational workflow.\n",
      "     - Financial projections and break-even analysis.\n",
      "\n",
      "### 5. **Start Small and Test the Waters**\n",
      "   - Given the high competition, Michael might consider starting with a lower-risk approach, such as:\n",
      "     - A food truck or pop-up restaurant to test his concept and build a customer base.\n",
      "     - A partnership with an existing restaurant or shared kitchen space.\n",
      "     - Catering or private dining services to generate income and refine his offerings.\n",
      "\n",
      "### 6. **Assess Personal Readiness**\n",
      "   - Opening a restaurant is demanding and can impact personal life. Michael should:\n",
      "     - Reflect on his willingness to commit to long hours, financial risk, and the stress of running a business.\n",
      "     - Ensure he has a support system in place to help him manage the challenges.\n",
      "\n",
      "### 7. **Seek Professional Advice**\n",
      "   - Michael should consult with professionals, such as:\n",
      "     - A business mentor or advisor with experience in the restaurant industry.\n",
      "     - An accountant to help with financial planning and tax considerations.\n",
      "     - A lawyer to review leases, permits, and contracts.\n",
      "\n",
      "### 8. **Plan for Long-Term Sustainability**\n",
      "   - To thrive in a competitive market, Michael should focus on:\n",
      "     - Building a strong brand and customer loyalty.\n",
      "     - Continuously innovating and adapting to market trends.\n",
      "     - Prioritizing quality and consistency in food and service.\n",
      "\n",
      "### Final Recommendation:\n",
      "Michael should proceed cautiously and strategically. Starting small with a test concept (e.g., pop-up, food truck) can help him validate his idea, minimize financial risk, and gain valuable experience as a business owner. If the test"
     ]
    }
   ],
   "source": [
    "// Import the Microsoft.DotNet.Interactive namespace for user input\n",
    "using Microsoft.DotNet.Interactive;\n",
    "\n",
    "var totalNetWorth = await Microsoft.DotNet.Interactive.Kernel.GetInputAsync(\"Micheal's total net worth in dollars: \");\n",
    "var levelOfCompetition = await Microsoft.DotNet.Interactive.Kernel.GetInputAsync(\"Level of competition with other restaurants (Low, Medium, High): \");\n",
    "var levelOfFamilySupport = await Microsoft.DotNet.Interactive.Kernel.GetInputAsync(\"Level of support from Michael's friends and family (Low, Medium, High): \");\n",
    "\n",
    "Console.WriteLine($\"Michael's Net Worth: {totalNetWorth}\");\n",
    "Console.WriteLine($\"Level of Restaurant Competition: {levelOfCompetition}\");\n",
    "Console.WriteLine($\"Michael's level of Family Support: {levelOfFamilySupport}\");\n",
    "Console.WriteLine();\n",
    "\n",
    "// Takes a prompt with input variables and creates a function that can be used to invoke the model\n",
    "var restaurantDecisionRecommendation = \"\"\"\n",
    "Michael is a 35-year-old professional chef who is considering opening his own restaurant. \n",
    "This is a significant life decision that could greatly impact his career and personal life. \n",
    "Michael is looking for a recommendation on how to approach this.\n",
    "Some key information about Michael:\n",
    "- Michael's total net worth is (in US dollars) ${{$totalNetWorth}}.\n",
    "- The level of competition with other restaurants is {{$levelOfCompetition}}.\n",
    "- The level of support from Michael's friends and family is {{$levelOfFamilySupport}}.\n",
    "\n",
    "Based on this information, what recommendation would you give to Michael regarding opening his own restaurant?\n",
    "\"\"\";\n",
    "\n",
    "// Create the OpenAI prompt execution settings, try changing the settings to see how the output changes\n",
    "// Try different settings (Temperature, FrequencyPenalty etc) to see how they affect the quality of the generated text\n",
    "var openAIPromptExecutionSettings = new OpenAIPromptExecutionSettings { \n",
    "    MaxTokens = 750, \n",
    "    Temperature = 0.3, \n",
    "    TopP = 1.0, \n",
    "    FrequencyPenalty = 0.0, \n",
    "    PresencePenalty = 0.0\n",
    "    };\n",
    "\n",
    "var semanticRestaurantDecisionRecommendation = semanticKernel.CreateFunctionFromPrompt(restaurantDecisionRecommendation, openAIPromptExecutionSettings);\n",
    "\n",
    "// Dynamically set the number of frameworks and decision type -> strategic\n",
    "var kernelArgumentsRestaurantDecisionRecommendation = new KernelArguments();\n",
    "kernelArgumentsRestaurantDecisionRecommendation.Add(\"totalNetWorth\", totalNetWorth);\n",
    "kernelArgumentsRestaurantDecisionRecommendation.Add(\"levelOfCompetition\", levelOfCompetition);\n",
    "kernelArgumentsRestaurantDecisionRecommendation.Add(\"levelOfFamilySupport\", levelOfFamilySupport);\n",
    "\n",
    "// Stream the output of the model\n",
    "await foreach (var streamChunk in semanticKernel.InvokeStreamingAsync(semanticRestaurantDecisionRecommendation, kernelArgumentsRestaurantDecisionRecommendation))\n",
    "{\n",
    "   Console.Write(streamChunk);\n",
    "}\n"
   ]
  }
 ],
 "metadata": {
  "kernelspec": {
   "display_name": ".NET (C#)",
   "language": "C#",
   "name": ".net-csharp"
  },
  "language_info": {
   "name": "csharp"
  },
  "polyglot_notebook": {
   "kernelInfo": {
    "defaultKernelName": "csharp",
    "items": [
     {
      "aliases": [],
      "name": "csharp"
     }
    ]
   }
  }
 },
 "nbformat": 4,
 "nbformat_minor": 2
}
