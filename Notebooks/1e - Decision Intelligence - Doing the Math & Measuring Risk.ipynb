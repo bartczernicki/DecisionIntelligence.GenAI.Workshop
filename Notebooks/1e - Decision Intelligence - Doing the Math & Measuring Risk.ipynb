{
 "cells": [
  {
   "cell_type": "markdown",
   "metadata": {},
   "source": [
    "<img style=\"float: left;padding-right: 10px\" width =\"40px\" src=\"https://raw.githubusercontent.com/bartczernicki/DecisionIntelligence.GenAI.Workshop/main/Images/SemanticKernelLogo.png\">\n",
    "\n",
    "## Decision Intelligence - Doing the Math and Measuring Risk"
   ]
  },
  {
   "cell_type": "markdown",
   "metadata": {},
   "source": [
    "Work in progress"
   ]
  },
  {
   "cell_type": "markdown",
   "metadata": {},
   "source": [
    "### Doing the Math and Measuring Risk - Materials to Deepen Your Understanding"
   ]
  },
  {
   "cell_type": "markdown",
   "metadata": {},
   "source": [
    "<img style=\"float: left;padding-right: 25px; padding-left: 25px;\" width =\"200px\" src=\"https://m.media-amazon.com/images/I/71P6OxVBU4L._SL1500_.jpg\">\n",
    "\n",
    "[**\"How to Measure Anything: Finding the Value of Intangibles in Business\"**](https://www.amazon.com/How-Measure-Anything-Intangibles-Business/dp/1118539273/) Douglas W. Hubbard provides a practical approach to quantifying seemingly immeasurable aspects of business. Hubbard challenges the notion that some things can't be measured and introduces methods to gauge intangibles like customer satisfaction, organizational flexibility, and innovation. The book explains various statistical techniques and tools to estimate and measure these factors effectively. It emphasizes the value of measurements in making informed business decisions and improving risk management. Overall, the book demonstrates that with the right techniques, anything can be measured and quantified."
   ]
  },
  {
   "cell_type": "markdown",
   "metadata": {},
   "source": [
    "<img style=\"float: right;padding-left: 25px; padding-right: 25px;\" width =\"200px\" src=\"https://m.media-amazon.com/images/I/71MB0lkirGL._SL1500_.jpg\">\n",
    "\n",
    "[**\"Innumeracy: Mathematical Illiteracy and Its Consequences\"**](https://www.amazon.com/Innumeracy-Mathematical-Illiteracy-Its-Consequences/dp/0809058405) by John Allen Paulos highlights the widespread lack of basic mathematical understanding in society and its negative impacts. Paulos illustrates how innumeracy affects decision-making, leading to misunderstandings in areas such as probability, statistics, and risk assessment. He uses real-life examples and funny anecdotes to show how mathematical illiteracy can result in poor judgments and susceptibility to pseudoscience. The book advocates for better math education and awareness to improve critical thinking and everyday decision-making. Overall, it emphasizes the importance of mathematical literacy in navigating the decision complexities of modern life."
   ]
  }
 ],
 "metadata": {
  "kernelspec": {
   "display_name": ".NET (C#)",
   "language": "C#",
   "name": ".net-csharp"
  },
  "language_info": {
   "name": "python"
  },
  "polyglot_notebook": {
   "kernelInfo": {
    "defaultKernelName": "csharp",
    "items": [
     {
      "aliases": [],
      "name": "csharp"
     }
    ]
   }
  }
 },
 "nbformat": 4,
 "nbformat_minor": 2
}
