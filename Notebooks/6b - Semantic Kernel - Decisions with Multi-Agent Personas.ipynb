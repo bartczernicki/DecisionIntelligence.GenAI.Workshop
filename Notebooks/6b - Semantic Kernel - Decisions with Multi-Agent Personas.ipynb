{
 "cells": [
  {
   "cell_type": "markdown",
   "metadata": {},
   "source": [
    "<img style=\"float: left;padding-right: 10px\" width =\"40px\" src=\"https://raw.githubusercontent.com/bartczernicki/DecisionIntelligence.GenAI.Workshop/main/Images/SemanticKernelLogo.png\">\n",
    "\n",
    "## Semantic Kernel - Decisions with Multi-Agent Personas"
   ]
  },
  {
   "cell_type": "markdown",
   "metadata": {},
   "source": [
    "### Step 1 - Initialize Configuration Builder & Build the Semantic Kernel Orchestration "
   ]
  },
  {
   "cell_type": "markdown",
   "metadata": {},
   "source": [
    "Execute the next two cells to:\n",
    "* Use the Configuration Builder to load the API secrets.  \n",
    "* Use the API configuration to build the Semantic Kernel orchestrator."
   ]
  },
  {
   "cell_type": "code",
   "execution_count": 1,
   "metadata": {
    "polyglot_notebook": {
     "kernelName": "csharp"
    },
    "vscode": {
     "languageId": "polyglot-notebook"
    }
   },
   "outputs": [
    {
     "data": {
      "text/html": [
       "<div><div></div><div></div><div><strong>Installed Packages</strong><ul><li><span>Microsoft.Extensions.Configuration, 9.0.4</span></li><li><span>Microsoft.Extensions.Configuration.Json, 9.0.4</span></li></ul></div></div>"
      ]
     },
     "metadata": {},
     "output_type": "display_data"
    }
   ],
   "source": [
    "// Import the required NuGet configuration packages\n",
    "#r \"nuget: Microsoft.Extensions.Configuration, 9.0.4\"\n",
    "#r \"nuget: Microsoft.Extensions.Configuration.Json, 9.0.4\"\n",
    "\n",
    "//using Microsoft.Extensions.DependencyInjection;\n",
    "using Microsoft.Extensions.Configuration.Json;\n",
    "using Microsoft.Extensions.Configuration;\n",
    "using System.IO;\n",
    "\n",
    "// Load the configuration settings from the local.settings.json and secrets.settings.json files\n",
    "// The secrets.settings.json file is used to store sensitive information such as API keys\n",
    "var configurationBuilder = new ConfigurationBuilder()\n",
    "    .SetBasePath(Directory.GetCurrentDirectory())\n",
    "    .AddJsonFile(\"local.settings.json\", optional: true, reloadOnChange: true)\n",
    "    .AddJsonFile(\"secrets.settings.json\", optional: true, reloadOnChange: true);\n",
    "var config = configurationBuilder.Build();\n",
    "\n",
    "// IMPORTANT: You ONLY NEED either Azure OpenAI or OpenAI connectiopn info, not both.\n",
    "// Azure OpenAI Connection Info\n",
    "var azureOpenAIEndpoint = config[\"AzureOpenAI:Endpoint\"];\n",
    "var azureOpenAIAPIKey = config[\"AzureOpenAI:APIKey\"];\n",
    "var azureOpenAIModelDeploymentName = config[\"AzureOpenAI:ModelDeploymentName\"];\n",
    "// OpenAI Connection Info \n",
    "var openAIAPIKey = config[\"OpenAI:APIKey\"];\n",
    "var openAIModelId = config[\"OpenAI:ModelId\"];"
   ]
  },
  {
   "cell_type": "code",
   "execution_count": 2,
   "metadata": {
    "polyglot_notebook": {
     "kernelName": "csharp"
    },
    "vscode": {
     "languageId": "polyglot-notebook"
    }
   },
   "outputs": [
    {
     "data": {
      "text/html": [
       "<div><div></div><div></div><div><strong>Installed Packages</strong><ul><li><span>Microsoft.SemanticKernel, 1.47.0</span></li><li><span>Microsoft.SemanticKernel.Agents.Core, 1.47.0</span></li></ul></div></div>"
      ]
     },
     "metadata": {},
     "output_type": "display_data"
    }
   ],
   "source": [
    "// Import the Semantic Kernel NuGet package\n",
    "#r \"nuget: Microsoft.SemanticKernel, 1.47\" \n",
    "#r \"nuget: Microsoft.SemanticKernel.Agents.Core, 1.47\"\n",
    "\n",
    "using Microsoft.SemanticKernel;\n",
    "using Microsoft.SemanticKernel.Agents;\n",
    "using Microsoft.SemanticKernel.ChatCompletion;\n",
    "using Microsoft.SemanticKernel.Connectors.OpenAI;\n",
    "\n",
    "var semanticKernel = Kernel.CreateBuilder()\n",
    "    .AddAzureOpenAIChatCompletion(\n",
    "        deploymentName: azureOpenAIModelDeploymentName!,\n",
    "        endpoint: azureOpenAIEndpoint!,\n",
    "        apiKey: azureOpenAIAPIKey!)\n",
    "    .Build();"
   ]
  },
  {
   "cell_type": "markdown",
   "metadata": {},
   "source": [
    "### Step 2 - Creating a Multi-Agent Decision Personas "
   ]
  },
  {
   "cell_type": "markdown",
   "metadata": {},
   "source": [
    "> \"The many are smarter than the few when it comes to solving problems, predicting outcomes, and innovating solutions, as long as there is diversity of opinion, independence, and decentralization.\"  \n",
    ">\n",
    "> -- <cite>James Surowiecki (Author \"The Wisdom of Crowds\")</cite> "
   ]
  },
  {
   "cell_type": "markdown",
   "metadata": {},
   "source": [
    "Single agent personas are effective constructs in Semantic Kernel, but can largely be replicated in other mechanisms with prompts. **Creating multiple personas (experts) that can interact with each other is the true power of the Semantic Kernel Agent functionality. This allows multiple chat agents to interact in various ways.** \n",
    "\n",
    "Execute the cell below to illustrate how two different personas can interact in a decision-making process moderated by a decision intelligence expert that makes the final reasoning conclusiion on the decision task at hand. In the output notice key steps:\n",
    "* Each expert (Dwight and Ben) make their recommendation, based on their decision persona\n",
    "* The final recommendation is made based on the synthesis of the agent recommendations  \n",
    "* This multi-agent interaction to converge on a single decision mimic the self-consistency GenAI pattern \n",
    "\n",
    "Note: The execution below can take the some time. Use GPT-4o-mini to optimize performance speed of the execution.  "
   ]
  },
  {
   "cell_type": "code",
   "execution_count": 4,
   "metadata": {
    "polyglot_notebook": {
     "kernelName": "csharp"
    },
    "vscode": {
     "languageId": "polyglot-notebook"
    }
   },
   "outputs": [
    {
     "name": "stdout",
     "output_type": "stream",
     "text": [
      "Decision: Buy a house for a rental property or invest in Bitcoin? \n",
      "Constraint: You want to optimize for long-term financial growth, but also mitigate risk. \n",
      "\n",
      "This decision revolves around two distinct investment options: real estate and cryptocurrency, each with unique characteristics in terms of financial growth, risk, and long-term viability. To systematically evaluate your decision, we can apply the Eisenhower Matrix, which organizes priorities by urgency and importance, along with principles of systems thinking.\n",
      "\n",
      "### Step 1: Define Criteria for Evaluation\n",
      "To optimize for long-term financial growth while mitigating risk, we'll assess these two options using the following criteria:\n",
      "1. **Long-term growth potential**: How much value the asset is likely to accumulate over time.\n",
      "2. **Risk mitigation**: The level of volatility or uncertainty associated with the investment.\n",
      "3. **Liquidity**: How easily the asset can be converted into cash if needed.\n",
      "4. **Effort required**: How much time and energy is required to manage the investment.\n",
      "5. **Diversification**: Contribution to a balanced portfolio.\n",
      "\n",
      "### Step 2: Compare Options\n",
      "Let’s explore the pros and cons of each option using these criteria:\n",
      "\n",
      "#### Option 1: Buy a House for Rental Property\n",
      "**Pros**:\n",
      "1. **Long-term growth potential**: Historically, real estate appreciates over time, especially in areas with population growth and strong economies. Rental income also provides a steady revenue stream.\n",
      "2. **Risk mitigation**: Real estate is considered relatively stable, with less volatility compared to Bitcoin. Physical assets hold intrinsic value.\n",
      "3. **Tax advantages**: You can deduct property taxes, mortgage interest, and depreciation from rental income, optimizing long-term returns.\n",
      "4. **Diversification**: Real estate provides diversification compared to financial market investments.\n",
      "\n",
      "**Cons**:\n",
      "1. **Liquidity**: Real estate is not easily liquidated. Selling property takes time, and market conditions can impact sale value.\n",
      "2. **Effort required**: Property management requires significant effort, including tenant screening, maintenance, and legal compliance.\n",
      "3. **Market dependency**: Returns depend on local market conditions (e.g., job market, infrastructure, housing demand).\n",
      "\n",
      "#### Option 2: Invest in Bitcoin\n",
      "**Pros**:\n",
      "1. **High growth potential**: Bitcoin has exhibited exponential price increases in certain periods, offering the possibility of substantial returns.\n",
      "2. **Liquidity**: Bitcoin is highly liquid and can be sold quickly on multiple exchanges.\n",
      "3. **Low effort**: Bitcoin does not require ongoing management or maintenance.\n",
      "4. **Global exposure**: Cryptocurrency investments diversify your portfolio geographically and technologically.\n",
      "\n",
      "**Cons**:\n",
      "1. **Extreme volatility**: Bitcoin is highly unpredictable, with significant price fluctuations that could lead to financial losses.\n",
      "2. **Regulatory risk**: Governments may impose restrictions on cryptocurrency trading in the future, which could impact its value.\n",
      "3. **Uncertain long-term viability**: While Bitcoin is widely accepted now, its long-term use and adoption are uncertain and tied to technological advances.\n",
      "\n",
      "---\n",
      "\n",
      "### Step 3: Apply Eisenhower Matrix for Risk Assessment\n",
      "Use the Eisenhower framework to categorize the decision based on importance (long-term financial growth) and urgency (risk mitigation):\n",
      "\n",
      "1. **Important & Not Urgent**: Buying a rental property fits this category. While it involves upfront costs and effort, it aligns well with long-term stability and growth. It's not highly urgent but strategically important.\n",
      "   \n",
      "2. **Important & Urgent**: Investing in Bitcoin could be considered urgent due to its market activity and potential for rapid gains. However, it adds significant risk to your portfolio.\n",
      "\n",
      "3. **Not Important & Not Urgent**: Ignoring risk entirely and putting all your funds into Bitcoin is not a prudent strategy for long-term growth.\n",
      "\n",
      "4. **Not Important but Urgent**: Focusing solely on timing Bitcoin market fluctuations would fall into this category. Attempting to “time the market” may be distractedly urgent but not important for sustainable growth.\n",
      "\n",
      "---\n",
      "\n",
      "### Step 4: Systems Thinking\n",
      "1. **Interconnectedness**: Consider how your decision could influence other parts of your financial ecosystem. Buying a rental property adds passive income but requires ongoing management. Bitcoin adds liquidity and high-risk/high-reward dynamism to your portfolio.\n",
      "2. **Leverage Points**: Rental properties allow you to use leverage (mortgages) to amplify returns. Bitcoin doesn't offer this same advantage but allows for diversification in rapidly-changing market environments.\n",
      "3. **Feedback Loops**: Rental property generates stable feedback through predictable rental income. Bitcoin involves speculative feedback loops tied to market sentiment and global adoption rates, which can amplify risk.\n",
      "\n",
      "---\n",
      "\n",
      "### Step 5: Final Decision Framework\n",
      "- **Balanced Strategy**: To optimize long-term financial growth while mitigating risk, consider allocating resources to both options:\n",
      "   - Invest in a rental property for stability and steady returns.\n",
      "   - Allocate a smaller percentage of your capital to Bitcoin to take advantage of potential growth, maintaining diversification and liquidity.\n",
      "\n",
      "For example:\n",
      "- **80% Property, 20% Bitcoin**: This balance provides exposure to high-growth potential while grounding your portfolio with stable real estate returns.\n",
      "- Use excess rental income or savings to incrementally invest in Bitcoin, avoiding emotional overcommitment to its speculative cycles.\n",
      "\n",
      "---\n",
      "\n",
      "### Step 6: Action Plan\n",
      "1. Research the housing market in your area to identify promising rental markets. Focus on locations with good infrastructure, job growth, and low vacancy rates.\n",
      "2. Diversify into Bitcoin cautiously, setting a defined portion of your portfolio (e.g., 10-20%) that you can afford to lose without jeopardizing financial stability.\n",
      "3. Regularly evaluate your investments, adjusting based on real estate market trends, Bitcoin regulations, and financial goals.\n",
      "\n",
      "This approach balances risk mitigation with long-term growth, leveraging the strengths of each investment while minimizing the downsides.\n",
      "To systematically evaluate whether to buy a house for a rental property or invest in Bitcoin while prioritizing long-term financial growth and risk mitigation, let’s use Ben Franklin’s Decision-Making Framework, often referred to as the \"Pros and Cons Method.\" This approach involves listing all advantages (pros) and disadvantages (cons), assigning weights to them based on importance, and applying systems thinking principles for clarity.\n",
      "\n",
      "---\n",
      "\n",
      "### Step 1: Define the Goal \n",
      "Your goal is **long-term financial growth** with an emphasis on **mitigating risk**. You’ll need to weigh stability against potential volatility and account for liquidity and diversification.\n",
      "\n",
      "---\n",
      "\n",
      "### Step 2: Generate and Compare Options\n",
      "#### A) Option 1: Buy a House for a Rental Property\n",
      "**Pros**:\n",
      "1. **Stable long-term appreciation**: Real estate tends to grow in value over the years. Housing demand increases with population growth.\n",
      "2. **Passive income stream**: Rental payments can provide consistent cash flow.\n",
      "3. **Inflation hedge**: Housing values and rents often rise with inflation.\n",
      "4. **Tax benefits**: Depreciation, mortgage interest deductions, and property-related expenses can reduce taxable income.\n",
      "5. **Leverage potential**: By using a mortgage, you can control a large asset with a relatively small upfront investment.\n",
      "6. **Tangible asset**: Real estate is a physical investment that isn’t subject to complete devaluation like speculative investments.\n",
      "\n",
      "**Cons**:\n",
      "1. **Illiquidity**: Selling real estate takes time and incurs transaction costs.\n",
      "2. **Management effort**: Property ownership involves maintenance, tenant management, and potential vacancy risks.\n",
      "3. **Market dependency**: Local housing demand, economic shifts, or zoning changes can impact returns.\n",
      "4. **High upfront costs**: Down payments, closing costs, and repair/renovations require significant capital upfront.\n",
      "5. **Fixed geographical exposure**: A single rental property ties you to the economic conditions of one location.\n",
      "\n",
      "#### B) Option 2: Invest in Bitcoin\n",
      "**Pros**:\n",
      "1. **High growth potential**: Bitcoin has historically delivered exponential returns during certain periods.\n",
      "2. **Global diversification**: Cryptocurrency operates outside traditional financial markets and geographic economies.\n",
      "3. **Liquidity**: Bitcoin can be bought and sold with ease compared to real estate.\n",
      "4. **Low overhead**: No physical upkeep is required compared to managing a property.\n",
      "5. **Technological innovation exposure**: Investing in Bitcoin aligns you with the digital economy and decentralized finance trends.\n",
      "\n",
      "**Cons**:\n",
      "1. **Volatility risk**: Bitcoin's value can drop dramatically over short periods, causing potential losses.\n",
      "2. **Regulatory uncertainty**: Governments could impose restrictions or higher taxes on cryptocurrency trading.\n",
      "3. **Short adoption horizon**: While widely accepted now, Bitcoin’s future depends on market adoption, competition, and technology.\n",
      "4. **No intrinsic value**: Unlike a tangible asset like a house, Bitcoin’s value is based on speculation and demand.\n",
      "5. **Lack of passive income stream**: Bitcoin appreciates only through price action and doesn’t generate income.\n",
      "\n",
      "---\n",
      "\n",
      "### Step 3: Systems Thinking Analysis\n",
      "#### Interconnections:\n",
      "- **Real estate affects your portfolio’s overall stability**, offering steady returns despite local market risks.\n",
      "- **Bitcoin provides diversification** into high-growth, high-risk territory, balancing income-producing investments like rental properties.\n",
      "\n",
      "#### Feedback Loops:\n",
      "- **Real estate offers predictable feedback loops**: Rental income provides ongoing returns, and property value grows in response to demand and local improvement.\n",
      "- **Bitcoin relies on speculative feedback loops**, which amplify both gains and risks based on technology adoption, market sentiment, and global events.\n",
      "\n",
      "#### Leverage:\n",
      "- You can **leverage mortgage debt to multiply your real estate gains** (if the rental property appreciates or generates income).\n",
      "- Bitcoin requires all-cash investment, so there is no ability to enhance returns using financial leverage.\n",
      "\n",
      "---\n",
      "\n",
      "### Step 4: Weighted Pros and Cons Analysis\n",
      "Assign weights to each pro and con based on importance to your financial goals. Let’s assume long-term growth = 10 points, risk reduction = 9 points, liquidity = 7 points, diversification = 6 points, and effort/time required = 4 points.\n",
      "\n",
      "| Criteria                  | Buy Real Estate                                       | Invest in Bitcoin                                       |\n",
      "|---------------------------|-------------------------------------------------------|--------------------------------------------------------|\n",
      "| **Long-term growth**      | Stable appreciation (+10)                             | Volatile but high potential (+9)                       |\n",
      "| **Risk mitigation**       | Stable asset (+9), inflation hedge (+5) – risk of management (-2) | Highly volatile (-8), regulatory uncertainty (-3)     |\n",
      "| **Liquidity**             | Illiquid (-7)                                         | Highly liquid (+7)                                      |\n",
      "| **Diversification**       | Single-location risk (-3)                             | Exposure to global financial trends (+6)               |\n",
      "| **Effort**                | Time/energy needed for management (-4)                | Minimal effort (+4)                                     |\n",
      "| **Weighted Score**        | **+12 points**                                        | **+15 points**                                         |\n",
      "\n",
      "On a pure weighted score basis, Bitcoin appears favorable due to its growth potential and liquidity, but its high volatility means it should complement (not replace) a stable investment like rental property.\n",
      "\n",
      "---\n",
      "\n",
      "### Step 5: Recommendations\n",
      "#### Balanced Approach:\n",
      "1. **Primary Investment**: Buy a rental property to anchor your financial portfolio with stable, long-term returns.\n",
      "   - Prioritize areas with strong economic indicators (e.g., job growth, infrastructure, renter demand). A single dependable property solidifies your financial foundation.\n",
      "2. **Secondary Investment**: Allocate a smaller percentage (e.g., 10-20%) of your capital to Bitcoin. This provides exposure to high-growth potential while limiting crypto’s volatility impact on your total portfolio.\n",
      "\n",
      "#### Execution Steps:\n",
      "1. Research local housing markets and secure financing to purchase a rental property. Use mortgage debt strategically to retain cash for diversification.\n",
      "2. Set boundaries for cryptocurrency investment:\n",
      "   - Invest a fixed percentage (no emotionally-driven increases).\n",
      "   - Choose long-term holding strategies; avoid excessive trading.\n",
      "   - Store Bitcoin securely, using cold wallets for additional protection.\n",
      "3. Revisit your portfolio regularly (e.g., annually) to rebalance based on changes in both real estate and cryptocurrency markets.\n",
      "\n",
      "---\n",
      "\n",
      "### Step 6: Optimize for Risk & Growth\n",
      "1. **Risk Reduction Strategy**:\n",
      "   - Invest only what you can afford to lose in Bitcoin.\n",
      "   - Protect your rental asset with insurance, property management, and tenant screening.\n",
      "2. **Growth Optimization**:\n",
      "   - Reinvest rental income or appreciation gains into additional properties or diversified assets.\n",
      "   - Consider additional cryptocurrency exposure slowly after assessing Bitcoin’s performance and regulatory developments.\n",
      "\n",
      "By combining real estate and Bitcoin, you can hedge against risk while capitalizing on both stable growth and innovative financial opportunities.\n",
      "### Final Decision: \n",
      "Invest in a rental property as your primary asset for stable, long-term financial growth, while allocating a smaller portion (10-20%) of your portfolio to Bitcoin for high-growth potential and liquidity. This approach optimally balances stability, risk mitigation, and diversification.\n",
      "\n",
      "The rental property anchors your portfolio with predictable returns and tax benefits, while Bitcoin adds exposure to innovation and high-return possibilities within a controlled, limited-risk framework. Regular portfolio reviews will ensure alignment with your financial goals over time.\n",
      "\n",
      "[IS COMPLETED: True]\n"
     ]
    }
   ],
   "source": [
    "using Microsoft.SemanticKernel;\n",
    "using Microsoft.SemanticKernel.Agents;\n",
    "using Microsoft.SemanticKernel.Agents.Chat;\n",
    "using Microsoft.SemanticKernel.ChatCompletion;\n",
    "using System.Threading;\n",
    "\n",
    "#pragma warning disable SKEXP0110\n",
    "// Create a new chat TerminationStrategy that will terminate when the final message contains the term \"final decision\"\n",
    "private sealed class ApprovalTerminationStrategy : TerminationStrategy\n",
    "{\n",
    "    // Terminate when the final message contains the term \"approve\"\n",
    "    protected override Task<bool> ShouldAgentTerminateAsync(Agent agent, IReadOnlyList<ChatMessageContent> history, CancellationToken cancellationToken)\n",
    "        => Task.FromResult(history[history.Count - 1].Content?.Contains(\"final decision\", StringComparison.OrdinalIgnoreCase) ?? false);\n",
    "}\n",
    "\n",
    "var assistantDwightEisenhower = new ChatCompletionAgent\n",
    "{\n",
    "    Kernel = semanticKernel,\n",
    "    Name = \"DwightEisenhower\", // Dwight Eisenhower persona\n",
    "    Description = \"A chat bot that replies to the message with recommending the Eisenhower Decision Priorotization Matrix.\",\n",
    "    Instructions = \"You are a decision intelligence strategist with the knowledge of Dwight Eisenhower's Decision Prioritization Matrix. Assist the user in exploring options, reasoning through decisions, problem-solving, and applying systems thinking to various scenarios. Provide structured, logical, and comprehensive advice.\"\n",
    "};\n",
    "\n",
    "var assistantBenFranklin = new ChatCompletionAgent\n",
    "{\n",
    "    Kernel = semanticKernel,\n",
    "    Name = \"BenFranklin\", // Ben Franklin persona\n",
    "    Description = \"A chat bot that replies to the message with recommending the Ben Franklin Decision Framework.\",\n",
    "    Instructions = \"You are a decision intelligence strategist with the knowledge of Ben Franklin's Decision Framework. Assist the user in exploring options, reasoning through decisions, problem-solving, and applying systems thinking to various scenarios. Provide structured, logical, and comprehensive advice.\"\n",
    "};\n",
    "\n",
    "var assistantDecisionMaker = new ChatCompletionAgent\n",
    "{\n",
    "    Kernel = semanticKernel,\n",
    "    Name = \"DecisionMaker\",\n",
    "    Description = \"A chat bot that approves the final decision.\",\n",
    "    Instructions = \"\"\"\n",
    "    You are a Decision Intelligence maker. Make the final decision and describe the reasoning from the recommendations.\n",
    "    You're laser focused on the goal at hand. Don't waste time with chit chat.\n",
    "    Consider suggestions when refining an idea. Use the words final decision to approve the final decision.\n",
    "    \"\"\"\n",
    "};\n",
    "\n",
    "// Create a chat for agent interaction.\n",
    "AgentGroupChat chat =\n",
    "    new(assistantDwightEisenhower, assistantBenFranklin, assistantDecisionMaker)\n",
    "    {\n",
    "        ExecutionSettings =\n",
    "            new()\n",
    "            {\n",
    "                // Here a TerminationStrategy subclass is used that will terminate when\n",
    "                // an assistant message contains the term \"approve\".\n",
    "                TerminationStrategy =\n",
    "                    new ApprovalTerminationStrategy()\n",
    "                    {\n",
    "                        // Only the art-director may approve.\n",
    "                        Agents = [assistantDecisionMaker],\n",
    "                        // Limit total number of turns\n",
    "                        MaximumIterations = 10,\n",
    "                    }\n",
    "            }\n",
    "    };\n",
    "\n",
    "// Invoke chat and display messages.\n",
    "ChatMessageContent input = new(AuthorRole.User, \"\"\"\n",
    "Decision: Buy a house for a rental property or invest in Bitcoin? \n",
    "Constraint: You want to optimize for long-term financial growth, but also mitigate risk. \n",
    "\"\"\");\n",
    "chat.AddChatMessage(input);\n",
    "Console.WriteLine(input);\n",
    "Console.WriteLine();\n",
    "\n",
    "await foreach (ChatMessageContent response in chat.InvokeAsync())\n",
    "{\n",
    "    Console.WriteLine(response);\n",
    "}\n",
    "\n",
    "Console.WriteLine($\"\\n[IS COMPLETED: {chat.IsComplete}]\");"
   ]
  }
 ],
 "metadata": {
  "kernelspec": {
   "display_name": ".NET (C#)",
   "language": "C#",
   "name": ".net-csharp"
  },
  "language_info": {
   "name": "python"
  },
  "polyglot_notebook": {
   "kernelInfo": {
    "defaultKernelName": "csharp",
    "items": [
     {
      "aliases": [],
      "name": "csharp"
     }
    ]
   }
  }
 },
 "nbformat": 4,
 "nbformat_minor": 2
}
