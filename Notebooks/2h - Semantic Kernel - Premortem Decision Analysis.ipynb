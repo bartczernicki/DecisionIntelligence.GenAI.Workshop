{
 "cells": [
  {
   "cell_type": "markdown",
   "metadata": {},
   "source": [
    "<img style=\"float: left;padding-right: 10px\" width =\"40px\" src=\"https://raw.githubusercontent.com/bartczernicki/DecisionIntelligence.GenAI.Workshop/main/Images/SemanticKernelLogo.png\">\n",
    "\n",
    "## Semantic Kernel - Premortem Decision Analysis  "
   ]
  },
  {
   "cell_type": "markdown",
   "metadata": {},
   "source": [
    "Decision Intelligence applied in this module:  \n",
    "* Using Premortem Decision Analysis to improve decision quality & outcomes  \n",
    "* Using a Premortem decision output for improving of Gathering Intelligence \n",
    "* Attain different perspectives using mutliple decision frames  \n",
    "* Apply a Decision Framework to Premortem Decision Analysis \n"
   ]
  },
  {
   "cell_type": "markdown",
   "metadata": {},
   "source": [
    "### What is a Premortem (Pre-Mortem)  "
   ]
  },
  {
   "cell_type": "markdown",
   "metadata": {},
   "source": [
    "You have probably heard of a **postmortem (post-mortem)**, which is a look back at an actual failure (or success) to understand why it happened and learn from it. In the context of decision making, after the decision outcome is clear you can analyze why the result occured. \n",
    "\n",
    "In a **premortem (pre-mortem)** the outcome is \"imagined\" and then it is figured out why that potential \"imagined\" outcome happened. In a premortem a planning exercise where a team imagines that a project or decision has already succeeded or failed. The team then works backward, brainstorming what might have caused things to go wrong. This approach allows everyone to spot potential problems and fix them before starting the project. Therefore, it’s a bit like predicting the future and using that prediction to make the project stronger.  "
   ]
  },
  {
   "cell_type": "markdown",
   "metadata": {},
   "source": [
    "### Example Premortem Scenario  "
   ]
  },
  {
   "cell_type": "markdown",
   "metadata": {},
   "source": [
    "Imagine you're about to buy a new car. Let's \"imagine\" how the purchase results in either two scenarios a **disaster** or a **successful** decision. "
   ]
  },
  {
   "cell_type": "markdown",
   "metadata": {},
   "source": [
    "#### Disaster Decision Premortem  "
   ]
  },
  {
   "cell_type": "markdown",
   "metadata": {},
   "source": [
    "In a **premortem (pre-mortem)**, you pretend the purchase turned out to be a disaster. Now, ask yourself: What went wrong?\n",
    "\n",
    "Here are some potential reasons:  \n",
    "\n",
    "* **Financial issues:** You realize later you can’t comfortably afford the monthly payments or maintenance costs.  \n",
    "* **Unexpected repairs:** The car has hidden mechanical problems, leading to costly repairs.  \n",
    "* **Insurance costs:** Insurance is much higher than expected, impacting your budget.\n",
    "* **Poor fuel efficiency:** The car uses more gas than you thought, making it expensive to drive.\n",
    "Resale value drop: The car’s value plummets quickly, leaving you with less if you want to sell or trade it.  "
   ]
  },
  {
   "cell_type": "markdown",
   "metadata": {},
   "source": [
    "#### Successful Decision Premortem"
   ]
  },
  {
   "cell_type": "markdown",
   "metadata": {},
   "source": [
    "In a premortem for a successful car purchase, imagine you bought the car, and it turned out to be a fantastic decision. Now, ask yourself: What went right?\n",
    "\n",
    "Here are some potential reasons:\n",
    "\n",
    "* **Affordable and realistic budget:** You set a budget that allowed for comfortable monthly payments and covered insurance, fuel, and maintenance without straining your finances.  \n",
    "* **Thorough inspection:** You got a detailed inspection before buying, which confirmed the car was in excellent condition and minimized the risk of future repairs.\n",
    "* **Reliable model choice:** You researched models with a reputation for reliability, so you experience fewer repairs and smooth performance.\n",
    "* **Fuel efficiency matches needs:** You chose a car that meets your fuel efficiency needs, saving money on gas and fitting well with your daily driving habits.   \n",
    "* **High resale value:** You picked a make and model that holds its value well, giving you confidence that it’s a good long-term investment.\n",
    "\n",
    "Imagining these successful outcomes helps you focus on these actions—like sticking to budget, getting a full inspection, and choosing a reliable model—so you’re more likely to make a purchase you’ll be happy with."
   ]
  },
  {
   "cell_type": "markdown",
   "metadata": {},
   "source": [
    "By imagining these issues in advance, you could decide to thoroughly check maintenance records, test drive more carefully, or reassess your budget to avoid these potential problems.\n",
    "\n",
    "How can Generative AI help? Using Generative AI, the LLM models can be used to \"imagine\" outcomes and also brainstorm potential reasons why that certain outcome occured. "
   ]
  },
  {
   "cell_type": "markdown",
   "metadata": {},
   "source": [
    "### Step 1 - Initialize Configuration Builder & Build the Semantic Kernel Orchestration "
   ]
  },
  {
   "cell_type": "code",
   "execution_count": 5,
   "metadata": {
    "dotnet_interactive": {
     "language": "csharp"
    },
    "polyglot_notebook": {
     "kernelName": "csharp"
    },
    "vscode": {
     "languageId": "polyglot-notebook"
    }
   },
   "outputs": [
    {
     "data": {
      "text/html": [
       "<div><div></div><div></div><div><strong>Installed Packages</strong><ul><li><span>Microsoft.Extensions.Configuration, 9.0.0</span></li><li><span>Microsoft.Extensions.Configuration.Json, 9.0.0</span></li><li><span>Microsoft.SemanticKernel, 1.29.0</span></li><li><span>Microsoft.SemanticKernel.Plugins.Core, 1.29.0-alpha</span></li></ul></div></div>"
      ]
     },
     "metadata": {},
     "output_type": "display_data"
    }
   ],
   "source": [
    "#r \"nuget: Microsoft.Extensions.Configuration, 9.0.0\"\n",
    "#r \"nuget: Microsoft.Extensions.Configuration.Json, 9.0.0\"\n",
    "#r \"nuget: Microsoft.SemanticKernel, 1.29.0\"\n",
    "#r \"nuget: Microsoft.SemanticKernel.Plugins.Core, 1.29.0-alpha\"\n",
    "\n",
    "using Microsoft.Extensions.Configuration.Json;\n",
    "using Microsoft.Extensions.Configuration;\n",
    "using Microsoft.SemanticKernel;\n",
    "using Microsoft.SemanticKernel.ChatCompletion;\n",
    "using Microsoft.SemanticKernel.Connectors.OpenAI;\n",
    "using System.IO;\n",
    "\n",
    "var configurationBuilder = new ConfigurationBuilder()\n",
    "    .SetBasePath(Directory.GetCurrentDirectory())\n",
    "    .AddJsonFile(\"local.settings.json\", optional: true, reloadOnChange: true)\n",
    "    .AddJsonFile(\"secrets.settings.json\", optional: true, reloadOnChange: true);\n",
    "var config = configurationBuilder.Build();\n",
    "\n",
    "// IMPORTANT: You ONLY NEED either Azure OpenAI or OpenAI connectiopn info, not both.\n",
    "// Azure OpenAI Connection Info\n",
    "var azureOpenAIEndpoint = config[\"AzureOpenAI:o1Endpoint\"];\n",
    "var azureOpenAIAPIKey = config[\"AzureOpenAI:o1APIKey\"];\n",
    "var azureOpenAIModelDeploymentName = config[\"AzureOpenAI:o1ModelDeploymentName\"];\n",
    "// OpenAI Connection Info \n",
    "var openAIAPIKey = config[\"OpenAI:APIKey\"];\n",
    "var openAIModelId = config[\"OpenAI:ModelId\"];"
   ]
  },
  {
   "cell_type": "code",
   "execution_count": 6,
   "metadata": {
    "dotnet_interactive": {
     "language": "csharp"
    },
    "polyglot_notebook": {
     "kernelName": "csharp"
    },
    "vscode": {
     "languageId": "polyglot-notebook"
    }
   },
   "outputs": [
    {
     "name": "stdout",
     "output_type": "stream",
     "text": [
      "Using Azure OpenAI Service\n"
     ]
    }
   ],
   "source": [
    "// Install the required NuGet packages\n",
    "// Note: This also installs the Dependency Injection Package to retrieve the ChatCompletionService\n",
    "// #r \"nuget: Microsoft.Extensions.DependencyInjection, 9.0.0\"\n",
    "// #r \"nuget: Microsoft.SemanticKernel, 1.29.0\"\n",
    "\n",
    "using Microsoft.Extensions.DependencyInjection.Extensions;\n",
    "using Microsoft.Extensions.DependencyInjection;\n",
    "using Microsoft.SemanticKernel;\n",
    "using Microsoft.SemanticKernel.ChatCompletion;\n",
    "using Microsoft.SemanticKernel.Connectors.OpenAI;\n",
    "\n",
    "Kernel semanticKernel;\n",
    "\n",
    "// Set the flag to use Azure OpenAI or OpenAI. False to use OpenAI, True to use Azure OpenAI\n",
    "var useAzureOpenAI = true;\n",
    "\n",
    "// Create a new Semantic Kernel instance\n",
    "if (useAzureOpenAI)\n",
    "{\n",
    "    Console.WriteLine(\"Using Azure OpenAI Service\");\n",
    "    semanticKernel = Kernel.CreateBuilder()\n",
    "        .AddAzureOpenAIChatCompletion(\n",
    "            deploymentName: azureOpenAIModelDeploymentName,\n",
    "            endpoint: azureOpenAIEndpoint,\n",
    "            apiKey: azureOpenAIAPIKey)\n",
    "        .Build();\n",
    "}\n",
    "else\n",
    "{\n",
    "    Console.WriteLine(\"Using OpenAI Service\");\n",
    "    semanticKernel = Kernel.CreateBuilder()\n",
    "        .AddOpenAIChatCompletion(\n",
    "            modelId: openAIModelId,\n",
    "            apiKey: openAIAPIKey)\n",
    "        .Build();\n",
    "}\n",
    "\n",
    "var chatCompletionService = semanticKernel.Services.GetRequiredService<IChatCompletionService>();"
   ]
  },
  {
   "cell_type": "markdown",
   "metadata": {},
   "source": [
    "### Step 2 - Premortem Risk Analysis with o1 Reasoning Models"
   ]
  },
  {
   "cell_type": "code",
   "execution_count": 7,
   "metadata": {
    "dotnet_interactive": {
     "language": "csharp"
    },
    "polyglot_notebook": {
     "kernelName": "csharp"
    },
    "vscode": {
     "languageId": "polyglot-notebook"
    }
   },
   "outputs": [
    {
     "name": "stdout",
     "output_type": "stream",
     "text": [
      "**Advanced Premortem Analysis: Purchasing a New Car vs. Leasing a Car**\n",
      "\n",
      "---\n",
      "\n",
      "**Introduction**\n",
      "\n",
      "A premortem analysis is a strategic planning technique in which an individual or team envisions that a project or decision has failed, and then works backward to determine what potentially could lead to that failure. By anticipating possible problems before they occur, one can implement preventative measures to mitigate risks and improve the likelihood of success.\n",
      "\n",
      "In the context of deciding between purchasing a new car and leasing a car, conducting a premortem analysis can help identify potential pitfalls associated with each option. This analysis aims to uncover hidden risks, financial implications, lifestyle mismatches, and other factors that could lead to regret or failure after the decision has been made.\n",
      "\n",
      "---\n",
      "\n",
      "**Scenario Overview**\n",
      "\n",
      "You're at a crossroads: should you purchase a new car or lease one? To ensure you make the best decision, you conduct a premortem analysis imagining that, a few years down the line, you deeply regret your choice. By exploring the reasons behind this hypothetical failure, you can identify strategies to prevent them.\n",
      "\n",
      "---\n",
      "\n",
      "### **Option 1: Purchasing a New Car**\n",
      "\n",
      "**Imagined Failure Scenario**\n",
      "\n",
      "*Two years after purchasing a new car, you find yourself in a difficult financial situation. The car's value has depreciated significantly, you're facing unexpected maintenance costs, and your circumstances have changed, making the car unsuitable for your needs. Selling the car is challenging due to negative equity, and you're burdened by high monthly payments for a vehicle that no longer serves you.*\n",
      "\n",
      "**Potential Reasons for Failure**\n",
      "\n",
      "1. **Rapid Depreciation and Negative Equity**\n",
      "   - New cars depreciate quickly, especially in the first few years.\n",
      "   - You might owe more on the loan than the car's market value, making it difficult to sell or trade in without incurring a loss.\n",
      "\n",
      "2. **Underestimating Total Ownership Costs**\n",
      "   - High monthly payments strain your budget.\n",
      "   - Insurance premiums, taxes, registration fees, and maintenance costs add up.\n",
      "   - Unanticipated repairs occur after the warranty expires.\n",
      "\n",
      "3. **Change in Personal Circumstances**\n",
      "   - Loss of income due to job loss or decreased earnings.\n",
      "   - Family expansion requires a larger vehicle.\n",
      "   - Relocation to an area where a car is unnecessary or parking is expensive.\n",
      "\n",
      "4. **Lifestyle and Usage Changes**\n",
      "   - Increased commuting distances lead to higher fuel costs.\n",
      "   - Reduced need for a car due to remote work or lifestyle changes.\n",
      "\n",
      "5. **Interest Rate Fluctuations**\n",
      "   - Choosing a variable interest rate loan leads to higher payments over time.\n",
      "\n",
      "6. **Technological Obsolescence**\n",
      "   - New models with advanced technology make your car feel outdated.\n",
      "   - Desire for better fuel efficiency or eco-friendly options like electric vehicles.\n",
      "\n",
      "7. **Emotional Decision-Making**\n",
      "   - Purchased a car based on wants rather than needs.\n",
      "   - Opted for expensive add-ons and upgrades that weren't necessary.\n",
      "\n",
      "**Mitigation Strategies**\n",
      "\n",
      "- **Conduct Thorough Research**\n",
      "  - Understand the depreciation rates of the car models you're considering.\n",
      "  - Choose a car with strong resale value.\n",
      "\n",
      "- **Financial Planning**\n",
      "  - Create a detailed budget including all costs: purchase price, interest, insurance, taxes, maintenance, fuel.\n",
      "  - Opt for a shorter loan term to build equity faster.\n",
      "\n",
      "- **Assess Needs vs. Wants**\n",
      "  - Prioritize features that are essential for your needs.\n",
      "  - Avoid unnecessary upgrades that inflate the price.\n",
      "\n",
      "- **Consider Certified Pre-Owned Vehicles**\n",
      "  - Benefits of lower purchase price and slower depreciation.\n",
      "  - Warranty coverage similar to new cars.\n",
      "\n",
      "- **Fixed Interest Rates**\n",
      "  - Choose fixed-rate financing to avoid payment fluctuations.\n",
      "\n",
      "- **Future-Proofing**\n",
      "  - Anticipate life changes and select a vehicle that can accommodate potential future needs.\n",
      "\n",
      "---\n",
      "\n",
      "### **Option 2: Leasing a Car**\n",
      "\n",
      "**Imagined Failure Scenario**\n",
      "\n",
      "*Eighteen months into a three-year lease, you regret leasing the car. You've exceeded the mileage limit, resulting in hefty fees. The lease terms are inflexible, and an unexpected move or job change makes it impractical to keep the car. Early termination fees are steep, and you're left without a vehicle or equity at the end of the lease term.*\n",
      "\n",
      "**Potential Reasons for Failure**\n",
      "\n",
      "1. **Exceeding Mileage Limits**\n",
      "   - Underestimated annual mileage.\n",
      "   - Excess mileage fees accumulate, making the lease costly.\n",
      "\n",
      "2. **Wear and Tear Charges**\n",
      "   - Unexpected charges for minor damages or excessive wear at lease end.\n",
      "\n",
      "3. **Inflexible Lease Terms**\n",
      "   - Life changes require you to relocate or need a different type of vehicle.\n",
      "   - Early termination results in significant penalties.\n",
      "\n",
      "4. **Lack of Equity**\n",
      "   - Monthly payments contribute to depreciation but don't build ownership.\n",
      "   - No asset at the end of the lease term.\n",
      "\n",
      "5. **Higher Long-Term Costs**\n",
      "   - Continuous leasing results in perpetual car payments.\n",
      "   - Potentially more expensive than purchasing over an extended period.\n",
      "\n",
      "6. **Insurance and Maintenance Requirements**\n",
      "   - Lease agreements may require higher levels of insurance coverage.\n",
      "   - Obligations to follow strict maintenance schedules.\n",
      "\n",
      "7. **Limited Customization**\n",
      "   - Restrictions on making modifications or personalizing the vehicle.\n",
      "\n",
      "**Mitigation Strategies**\n",
      "\n",
      "- **Accurate Mileage Assessment**\n",
      "  - Evaluate your driving habits honestly.\n",
      "  - Negotiate higher mileage limits if necessary.\n",
      "\n",
      "- **Understand Lease Terms Thoroughly**\n",
      "  - Read the fine print regarding wear and tear, early termination, and end-of-lease options.\n",
      "\n",
      "- **Consider Lease Protection Plans**\n",
      "  - Some leases offer protection against excessive wear or mileage overages.\n",
      "\n",
      "- **Flexibility Planning**\n",
      "  - Choose a lease with flexible terms or shorter duration if there's potential for life changes.\n",
      "\n",
      "- **Compare Long-Term Costs**\n",
      "  - Calculate the total cost of leasing over several terms versus purchasing.\n",
      "\n",
      "- **Customization Needs**\n",
      "  - If vehicle personalization is important, leasing may not be the best option.\n",
      "\n",
      "---\n",
      "\n",
      "**Comparative Analysis**\n",
      "\n",
      "**Financial Implications**\n",
      "\n",
      "- **Purchasing Pros**\n",
      "  - Building equity towards ownership.\n",
      "  - No mileage restrictions.\n",
      "  - Potential tax benefits (e.g., if used for business).\n",
      "\n",
      "- **Purchasing Cons**\n",
      "  - Higher monthly payments.\n",
      "  - Depreciation risk.\n",
      "  - Long-term commitment.\n",
      "\n",
      "- **Leasing Pros**\n",
      "  - Lower monthly payments.\n",
      "  - Ability to drive a new car every few years.\n",
      "  - Warranty coverage typically lasts the lease term.\n",
      "\n",
      "- **Leasing Cons**\n",
      "  - No ownership equity.\n",
      "  - Mileage and wear restrictions.\n",
      "  - Potential for higher long-term costs.\n",
      "\n",
      "**Lifestyle Considerations**\n",
      "\n",
      "- **Purchasing**\n",
      "  - Suited for those wanting long-term use of a car.\n",
      "  - Better for high-mileage drivers.\n",
      "\n",
      "- **Leasing**\n",
      "  - Ideal for those preferring new vehicles frequently.\n",
      "  - Better for stable lifestyles with predictable driving habits.\n",
      "\n",
      "---\n",
      "\n",
      "**Conclusion**\n",
      "\n",
      "By visualizing potential regrets and failures associated with both purchasing and leasing a car, the premortem analysis highlights crucial factors to consider before making a decision. Both options carry risks that can lead to financial strain, dissatisfaction, and inconvenience if not carefully planned.\n",
      "\n",
      "**Recommendations for Decision-Making**\n",
      "\n",
      "1. **Self-Assessment**\n",
      "   - Evaluate your financial stability, credit score, and budget.\n",
      "   - Consider your lifestyle, driving habits, and potential life changes.\n",
      "\n",
      "2. **Research and Planning**\n",
      "   - Investigate car models for reliability, depreciation, and resale value.\n",
      "   - Obtain multiple quotes for both purchasing and leasing options.\n",
      "\n",
      "3. **Consult Financial Advisors**\n",
      "   - Discuss the long-term financial implications with a trusted advisor.\n",
      "   - Explore tax implications or benefits related to each option.\n",
      "\n",
      "4. **Read Contracts Carefully**\n",
      "   - Understand all terms, conditions, and fine print.\n",
      "   - Don't hesitate to ask questions or seek clarifications.\n",
      "\n",
      "5. **Prepare for the Unexpected**\n",
      "   - Consider gap insurance or lease protection plans.\n",
      "   - Build an emergency fund to handle unforeseen expenses.\n",
      "\n",
      "6. **Emotional Detachment**\n",
      "   - Avoid making decisions based on impulse or emotional attachment to a vehicle.\n",
      "   - Focus on practicality and necessity.\n",
      "\n",
      "---\n",
      "\n",
      "**Final Thoughts**\n",
      "\n",
      "Making an informed decision between purchasing and leasing a car requires careful consideration of your personal circumstances, financial situation, and future expectations. By anticipating potential failures through a premortem analysis, you can proactively address risks, align your choice with your long-term goals, and increase the likelihood of satisfaction with your decision.\n"
     ]
    }
   ],
   "source": [
    "// Create a system prompt instruction to override the default system prompt\n",
    "// Add the System Prompt (Persona) to behave like a decision intelligence assistant\n",
    "var systemPromptForDecisions = \"\"\"\n",
    "You are a Decision Intelligence Assistant. \n",
    "Assist the user in exploring options, reasoning through decisions, problem-solving.\n",
    "Apply systems thinking to various scenarios. \n",
    "Provide structured, logical, and comprehensive advice.\n",
    "\"\"\";\n",
    "var decisionAnalysisPrompt = \"\"\"\n",
    "Perform an advanced premortem analysis on the following scenario:\n",
    "You are deciding to purchase a new car versus leasing a car.\n",
    "\"\"\";\n",
    "\n",
    "// How the prompt looks like to the LLM\n",
    "var simpleDecisionPromptTemplate = $\"\"\"\n",
    "System Prompt: {systemPromptForDecisions}\n",
    "\n",
    "Request from the user: {decisionAnalysisPrompt}\n",
    "\"\"\";\n",
    "\n",
    "var simplePromptResponse = await semanticKernel.InvokePromptAsync(decisionAnalysisPrompt);\n",
    "Console.WriteLine(simplePromptResponse.GetValue<string>());"
   ]
  },
  {
   "cell_type": "code",
   "execution_count": 10,
   "metadata": {
    "dotnet_interactive": {
     "language": "csharp"
    },
    "polyglot_notebook": {
     "kernelName": "csharp"
    },
    "vscode": {
     "languageId": "polyglot-notebook"
    }
   },
   "outputs": [
    {
     "name": "stdout",
     "output_type": "stream",
     "text": [
      "| Risk Factor / Uncertainty / Potential Outcome | Purchase                                                                                                | Lease                                                                                                    |\n",
      "|-----------------------------------------------|-----------------------------------------------------------------------------------------------------------|----------------------------------------------------------------------------------------------------------|\n",
      "| High Upfront Cost                             | High initial payment required for down payment and taxes                                                  | Lower initial payment; typically only first month's payment and fees                                     |\n",
      "| Depreciation of Vehicle Value                 | Owner bears the full depreciation cost over time                                                          | Depreciation is factored into lease payments; less concern for lessee                                     |\n",
      "| Maintenance Costs After Warranty              | Owner responsible for all maintenance and repair costs after warranty expiration                          | Maintenance may be covered under lease terms; newer cars less likely to need repairs                      |\n",
      "| Resale Value Uncertainty                      | Uncertain future resale value can affect total cost of ownership                                          | Not applicable; no need to resell the vehicle at end of lease                                             |\n",
      "| Financing Costs (Interest Rates)              | Interest rates on auto loan affect total purchase cost                                                    | Interest rates affect lease payments; money factor (lease equivalent of interest rate) applies            |\n",
      "| Changes in Personal Circumstances             | Financial hardship could lead to loan default or need to sell the car                                     | Financial hardship could lead to lease default with possible penalties                                    |\n",
      "| Technological Obsolescence                    | Owner may be stuck with outdated technology or features                                                   | Ability to upgrade to newer model with latest technology at end of lease term                             |\n",
      "| Opportunity Cost of Capital                   | Capital tied up in vehicle ownership could be used elsewhere                                              | Less capital required upfront; frees up funds for other investments                                       |\n",
      "| Mileage Limits and Penalties                  | No mileage restrictions; can drive unlimited miles                                                        | Mileage limits apply; excess mileage results in additional fees                                           |\n",
      "| Wear and Tear Charges                         | Owner bears cost of excessive wear but has control over repairs                                           | Excess wear and tear charges may apply at lease end                                                       |\n",
      "| No Equity Built in Vehicle                    | Equity builds over time; potential asset at end of loan                                                   | No equity or ownership; payments do not contribute to ownership                                           |\n",
      "| Early Termination Fees                        | Can sell the car at any time, though may incur loss if loan balance exceeds car value                     | Early lease termination can result in substantial fees and penalties                                      |\n",
      "| Insurance Gap Coverage Needed                 | May be optional; depreciation could result in owing more than car's value                                 | Often required; protects against owing the difference between insurance payout and lease balance          |\n",
      "| Flexibility to Modify Car                     | Full freedom to customize or modify the vehicle                                                           | Modifications typically prohibited; must return car in original condition                                 |\n",
      "| Total Cost Over Time                          | Potentially lower total cost if kept long-term and maintenance costs are manageable                       | Potentially higher total cost over similar period due to continuous lease payments                        |\n",
      "| Obligation Period                             | Commitment until loan is paid off or car is sold                                                          | Fixed lease term commitment; less flexibility to exit agreement early                                     |\n",
      "| Impact of Market Conditions                   | Changes in used car market affect resale value and total cost of ownership                                | Lessee is insulated from market fluctuations; residual value risk is on the lessor                        |\n",
      "| Tax Considerations                            | Possible tax deductions for interest paid (subject to tax laws)                                           | Lease payments may be tax-deductible if car is used for business purposes                                 |\n",
      "| Credit Score Impact                           | Loan default negatively impacts credit score                                                              | Lease default negatively impacts credit score                                                             |\n",
      "| End of Term Options                           | Own the car outright, sell, or trade in for a new vehicle                                                 | Options to return the car, purchase it at residual value, or lease a new vehicle                          |\n",
      "| Flexibility of Use                            | Unlimited personal use; ownership allows for any usage                                                    | Use is limited by lease terms; restrictions on commercial use or ride-sharing services may apply          |\n"
     ]
    }
   ],
   "source": [
    "// Create a system prompt instruction to override the default system prompt\n",
    "// Add the System Prompt (Persona) to behave like a decision intelligence assistant\n",
    "var systemPromptForDecisions = \"\"\"\n",
    "You are a Decision Intelligence Assistant. \n",
    "Assist the user in exploring options, reasoning through decisions, problem-solving.\n",
    "Apply systems thinking to various scenarios. \n",
    "Provide structured, logical, and comprehensive advice.\n",
    "\"\"\";\n",
    "var decisionAnalysisPrompt = \"\"\"\n",
    "Perform an advanced premortem analysis on the following scenario:\n",
    "You are deciding to purchase a new car versus leasing a car.\n",
    "\n",
    "Output the risk factors, uncertainties, and potential outcomes ONLY in a Markdown table.\n",
    "Create a column for each option (Purchase, Lease) and which risk factor or uncertainty applies to each option.\n",
    "Do not surround the markdown with triple backticks.\n",
    "\"\"\";\n",
    "\n",
    "// How the prompt looks like to the LLM\n",
    "var simpleDecisionPromptTemplate = $\"\"\"\n",
    "System Prompt: {systemPromptForDecisions}\n",
    "\n",
    "Request from the user: {decisionAnalysisPrompt}\n",
    "\"\"\";\n",
    "\n",
    "var simplePromptResponse = await semanticKernel.InvokePromptAsync(decisionAnalysisPrompt);\n",
    "Console.WriteLine(simplePromptResponse.GetValue<string>());"
   ]
  },
  {
   "cell_type": "markdown",
   "metadata": {},
   "source": [
    "| Risk Factor / Uncertainty / Potential Outcome | Purchase                                                                                                | Lease                                                                                                    |\n",
    "|-----------------------------------------------|-----------------------------------------------------------------------------------------------------------|----------------------------------------------------------------------------------------------------------|\n",
    "| High Upfront Cost                             | High initial payment required for down payment and taxes                                                  | Lower initial payment; typically only first month's payment and fees                                     |\n",
    "| Depreciation of Vehicle Value                 | Owner bears the full depreciation cost over time                                                          | Depreciation is factored into lease payments; less concern for lessee                                     |\n",
    "| Maintenance Costs After Warranty              | Owner responsible for all maintenance and repair costs after warranty expiration                          | Maintenance may be covered under lease terms; newer cars less likely to need repairs                      |\n",
    "| Resale Value Uncertainty                      | Uncertain future resale value can affect total cost of ownership                                          | Not applicable; no need to resell the vehicle at end of lease                                             |\n",
    "| Financing Costs (Interest Rates)              | Interest rates on auto loan affect total purchase cost                                                    | Interest rates affect lease payments; money factor (lease equivalent of interest rate) applies            |\n",
    "| Changes in Personal Circumstances             | Financial hardship could lead to loan default or need to sell the car                                     | Financial hardship could lead to lease default with possible penalties                                    |\n",
    "| Technological Obsolescence                    | Owner may be stuck with outdated technology or features                                                   | Ability to upgrade to newer model with latest technology at end of lease term                             |\n",
    "| Opportunity Cost of Capital                   | Capital tied up in vehicle ownership could be used elsewhere                                              | Less capital required upfront; frees up funds for other investments                                       |\n",
    "| Mileage Limits and Penalties                  | No mileage restrictions; can drive unlimited miles                                                        | Mileage limits apply; excess mileage results in additional fees                                           |\n",
    "| Wear and Tear Charges                         | Owner bears cost of excessive wear but has control over repairs                                           | Excess wear and tear charges may apply at lease end                                                       |\n",
    "| No Equity Built in Vehicle                    | Equity builds over time; potential asset at end of loan                                                   | No equity or ownership; payments do not contribute to ownership                                           |\n",
    "| Early Termination Fees                        | Can sell the car at any time, though may incur loss if loan balance exceeds car value                     | Early lease termination can result in substantial fees and penalties                                      |\n",
    "| Insurance Gap Coverage Needed                 | May be optional; depreciation could result in owing more than car's value                                 | Often required; protects against owing the difference between insurance payout and lease balance          |\n",
    "| Flexibility to Modify Car                     | Full freedom to customize or modify the vehicle                                                           | Modifications typically prohibited; must return car in original condition                                 |\n",
    "| Total Cost Over Time                          | Potentially lower total cost if kept long-term and maintenance costs are manageable                       | Potentially higher total cost over similar period due to continuous lease payments                        |\n",
    "| Obligation Period                             | Commitment until loan is paid off or car is sold                                                          | Fixed lease term commitment; less flexibility to exit agreement early                                     |\n",
    "| Impact of Market Conditions                   | Changes in used car market affect resale value and total cost of ownership                                | Lessee is insulated from market fluctuations; residual value risk is on the lessor                        |\n",
    "| Tax Considerations                            | Possible tax deductions for interest paid (subject to tax laws)                                           | Lease payments may be tax-deductible if car is used for business purposes                                 |\n",
    "| Credit Score Impact                           | Loan default negatively impacts credit score                                                              | Lease default negatively impacts credit score                                                             |\n",
    "| End of Term Options                           | Own the car outright, sell, or trade in for a new vehicle                                                 | Options to return the car, purchase it at residual value, or lease a new vehicle                          |\n",
    "| Flexibility of Use                            | Unlimited personal use; ownership allows for any usage                                                    | Use is limited by lease terms; restrictions on commercial use or ride-sharing services may apply          |"
   ]
  },
  {
   "cell_type": "markdown",
   "metadata": {},
   "source": [
    "This Markdown table can be further simplified by highlighting which risk factor is more favorable when comparing a Purchase versus a Lease.\n",
    "\n",
    "| Risk Factor / Uncertainty / Potential Outcome | Purchase | Lease |\n",
    "|-----------------------------------------------|----------|-------|\n",
    "| High Upfront Cost                             |          | ☑️    |\n",
    "| Depreciation of Vehicle Value                 |          | ☑️    |\n",
    "| Maintenance Costs After Warranty              |          | ☑️    |\n",
    "| Resale Value Uncertainty                      |          | ☑️    |\n",
    "| Financing Costs (Interest Rates)              |          |       |\n",
    "| Changes in Personal Circumstances             | ☑️       |       |\n",
    "| Technological Obsolescence                    |          | ☑️    |\n",
    "| Opportunity Cost of Capital                   |          | ☑️    |\n",
    "| Mileage Limits and Penalties                  | ☑️       |       |\n",
    "| Wear and Tear Charges                         | ☑️       |       |\n",
    "| No Equity Built in Vehicle                    | ☑️       |       |\n",
    "| Early Termination Fees                        | ☑️       |       |\n",
    "| Insurance Gap Coverage Needed                 | ☑️       |       |\n",
    "| Flexibility to Modify Car                     | ☑️       |       |\n",
    "| Total Cost Over Time                          | ☑️       |       |\n",
    "| Obligation Period                             | ☑️       |       |\n",
    "| Impact of Market Conditions                   |          | ☑️    |\n",
    "| Tax Considerations                            |          | ☑️    |\n",
    "| Credit Score Impact                           |          |       |\n",
    "| End of Term Options                           |          | ☑️    |\n",
    "| Flexibility of Use                            | ☑️       |       |\n"
   ]
  }
 ],
 "metadata": {
  "kernelspec": {
   "display_name": ".NET (C#)",
   "language": "C#",
   "name": ".net-csharp"
  },
  "language_info": {
   "name": "python"
  },
  "polyglot_notebook": {
   "kernelInfo": {
    "defaultKernelName": "csharp",
    "items": [
     {
      "aliases": [],
      "name": "csharp"
     }
    ]
   }
  }
 },
 "nbformat": 4,
 "nbformat_minor": 2
}
