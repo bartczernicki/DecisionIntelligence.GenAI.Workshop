{
 "cells": [
  {
   "cell_type": "markdown",
   "metadata": {},
   "source": [
    "<img style=\"float: left;padding-right: 10px\" width =\"40px\" src=\"https://raw.githubusercontent.com/bartczernicki/DecisionIntelligence.GenAI.Workshop/main/Images/SemanticKernelLogo.png\">\n",
    "\n",
    "## Semantic Kernel - Premortem Decision Analysis  "
   ]
  },
  {
   "cell_type": "markdown",
   "metadata": {},
   "source": [
    "Decision Intelligence applied in this module:  \n",
    "* Using Premortem Decision Analysis to improve decision quality & outcomes  \n",
    "* Using a Premortem decision output for improving of Gathering Intelligence \n",
    "* Attain different perspectives using mutliple decision frames  \n",
    "* Apply a Decision Framework to Premortem Decision Analysis \n"
   ]
  },
  {
   "cell_type": "markdown",
   "metadata": {},
   "source": [
    "### What is a Premortem (Pre-Mortem)  "
   ]
  },
  {
   "cell_type": "markdown",
   "metadata": {},
   "source": [
    "You have probably heard of a **postmortem (post-mortem)**, which is a look back at an actual failure (or success) to understand why it happened and learn from it. In the context of decision making, after the decision outcome is clear you can analyze why the result occured. \n",
    "\n",
    "In a **premortem (pre-mortem)** the outcome is \"imagined\" and then it is figured out why that potential \"imagined\" outcome happened. In a premortem a planning exercise where a team imagines that a project or decision has already succeeded or failed. The team then works backward, brainstorming what might have caused things to go wrong. This approach allows everyone to spot potential problems and fix them before starting the project. Therefore, it’s a bit like predicting the future and using that prediction to make the project stronger.  "
   ]
  },
  {
   "cell_type": "markdown",
   "metadata": {},
   "source": [
    "### Example Premortem Scenario  "
   ]
  },
  {
   "cell_type": "markdown",
   "metadata": {},
   "source": [
    "Imagine you're about to buy a new car. Let's \"imagine\" how the purchase results in either two scenarios a **disaster** or a **successful** decision. "
   ]
  },
  {
   "cell_type": "markdown",
   "metadata": {},
   "source": [
    "#### Disaster Decision Premortem  "
   ]
  },
  {
   "cell_type": "markdown",
   "metadata": {},
   "source": [
    "In a **premortem (pre-mortem)**, you pretend the purchase turned out to be a disaster. Now, ask yourself: What went wrong?\n",
    "\n",
    "Here are some potential reasons:  \n",
    "\n",
    "* **Financial issues:** You realize later you can’t comfortably afford the monthly payments or maintenance costs.  \n",
    "* **Unexpected repairs:** The car has hidden mechanical problems, leading to costly repairs.  \n",
    "* **Insurance costs:** Insurance is much higher than expected, impacting your budget.\n",
    "* **Poor fuel efficiency:** The car uses more gas than you thought, making it expensive to drive.\n",
    "Resale value drop: The car’s value plummets quickly, leaving you with less if you want to sell or trade it.  "
   ]
  },
  {
   "cell_type": "markdown",
   "metadata": {},
   "source": [
    "#### Successful Decision Premortem"
   ]
  },
  {
   "cell_type": "markdown",
   "metadata": {},
   "source": [
    "In a premortem for a successful car purchase, imagine you bought the car, and it turned out to be a fantastic decision. Now, ask yourself: What went right?\n",
    "\n",
    "Here are some potential reasons:\n",
    "\n",
    "* **Affordable and realistic budget:** You set a budget that allowed for comfortable monthly payments and covered insurance, fuel, and maintenance without straining your finances.  \n",
    "* **Thorough inspection:** You got a detailed inspection before buying, which confirmed the car was in excellent condition and minimized the risk of future repairs.\n",
    "* **Reliable model choice:** You researched models with a reputation for reliability, so you experience fewer repairs and smooth performance.\n",
    "* **Fuel efficiency matches needs:** You chose a car that meets your fuel efficiency needs, saving money on gas and fitting well with your daily driving habits.   \n",
    "* **High resale value:** You picked a make and model that holds its value well, giving you confidence that it’s a good long-term investment.\n",
    "\n",
    "Imagining these successful outcomes helps you focus on these actions—like sticking to budget, getting a full inspection, and choosing a reliable model—so you’re more likely to make a purchase you’ll be happy with."
   ]
  },
  {
   "cell_type": "markdown",
   "metadata": {},
   "source": [
    "By imagining these issues in advance, you could decide to thoroughly check maintenance records, test drive more carefully, or reassess your budget to avoid these potential problems.\n",
    "\n",
    "How can Generative AI help? Using Generative AI, the LLM models can be used to \"imagine\" outcomes and also brainstorm potential reasons why that certain outcome occured. "
   ]
  },
  {
   "cell_type": "markdown",
   "metadata": {},
   "source": [
    "### Step 1 - Initialize Configuration Builder & Build the Semantic Kernel Orchestration "
   ]
  },
  {
   "cell_type": "code",
   "execution_count": 8,
   "metadata": {
    "dotnet_interactive": {
     "language": "csharp"
    },
    "polyglot_notebook": {
     "kernelName": "csharp"
    },
    "vscode": {
     "languageId": "polyglot-notebook"
    }
   },
   "outputs": [
    {
     "data": {
      "text/html": [
       "<div><div></div><div></div><div><strong>Installed Packages</strong><ul><li><span>Microsoft.Extensions.Configuration, 9.0.0</span></li><li><span>Microsoft.Extensions.Configuration.Json, 9.0.0</span></li><li><span>Microsoft.SemanticKernel, 1.29.0</span></li><li><span>Microsoft.SemanticKernel.Plugins.Core, 1.29.0-alpha</span></li></ul></div></div>"
      ]
     },
     "metadata": {},
     "output_type": "display_data"
    }
   ],
   "source": [
    "#r \"nuget: Microsoft.Extensions.Configuration, 9.0.0\"\n",
    "#r \"nuget: Microsoft.Extensions.Configuration.Json, 9.0.0\"\n",
    "#r \"nuget: Microsoft.SemanticKernel, 1.29.0\"\n",
    "#r \"nuget: Microsoft.SemanticKernel.Plugins.Core, 1.29.0-alpha\"\n",
    "\n",
    "using Microsoft.Extensions.Configuration.Json;\n",
    "using Microsoft.Extensions.Configuration;\n",
    "using Microsoft.SemanticKernel;\n",
    "using Microsoft.SemanticKernel.ChatCompletion;\n",
    "using Microsoft.SemanticKernel.Connectors.OpenAI;\n",
    "using System.IO;\n",
    "\n",
    "var configurationBuilder = new ConfigurationBuilder()\n",
    "    .SetBasePath(Directory.GetCurrentDirectory())\n",
    "    .AddJsonFile(\"local.settings.json\", optional: true, reloadOnChange: true)\n",
    "    .AddJsonFile(\"secrets.settings.json\", optional: true, reloadOnChange: true);\n",
    "var config = configurationBuilder.Build();\n",
    "\n",
    "// IMPORTANT: You ONLY NEED either Azure OpenAI or OpenAI connectiopn info, not both.\n",
    "// Azure OpenAI Connection Info using o1 series of models\n",
    "var azureOpenAIEndpoint = config[\"AzureOpenAI:o1Endpoint\"];\n",
    "var azureOpenAIAPIKey = config[\"AzureOpenAI:o1APIKey\"];\n",
    "var azureOpenAIModelDeploymentName = config[\"AzureOpenAI:o1ModelDeploymentName\"];\n",
    "// OpenAI Connection Info \n",
    "var openAIAPIKey = config[\"OpenAI:APIKey\"];\n",
    "var openAIModelId = config[\"OpenAI:ModelId\"];"
   ]
  },
  {
   "cell_type": "code",
   "execution_count": null,
   "metadata": {
    "dotnet_interactive": {
     "language": "csharp"
    },
    "polyglot_notebook": {
     "kernelName": "csharp"
    },
    "vscode": {
     "languageId": "polyglot-notebook"
    }
   },
   "outputs": [
    {
     "name": "stdout",
     "output_type": "stream",
     "text": [
      "Using Azure OpenAI Service\n"
     ]
    }
   ],
   "source": [
    "using Microsoft.Extensions.DependencyInjection.Extensions;\n",
    "using Microsoft.Extensions.DependencyInjection;\n",
    "using Microsoft.SemanticKernel;\n",
    "using Microsoft.SemanticKernel.ChatCompletion;\n",
    "using Microsoft.SemanticKernel.Connectors.OpenAI;\n",
    "\n",
    "Kernel semanticKernel;\n",
    "\n",
    "// Set the flag to use Azure OpenAI or OpenAI. False to use OpenAI, True to use Azure OpenAI\n",
    "var useAzureOpenAI = true;\n",
    "\n",
    "// Create a new Semantic Kernel instance\n",
    "if (useAzureOpenAI)\n",
    "{\n",
    "    Console.WriteLine(\"Using Azure OpenAI Service\");\n",
    "    semanticKernel = Kernel.CreateBuilder()\n",
    "        .AddAzureOpenAIChatCompletion(\n",
    "            deploymentName: azureOpenAIModelDeploymentName,\n",
    "            endpoint: azureOpenAIEndpoint,\n",
    "            apiKey: azureOpenAIAPIKey)\n",
    "        .Build();\n",
    "}\n",
    "else\n",
    "{\n",
    "    Console.WriteLine(\"Using OpenAI Service\");\n",
    "    semanticKernel = Kernel.CreateBuilder()\n",
    "        .AddOpenAIChatCompletion(\n",
    "            modelId: openAIModelId,\n",
    "            apiKey: openAIAPIKey)\n",
    "        .Build();\n",
    "}\n",
    "\n",
    "var chatCompletionService = semanticKernel.Services.GetRequiredService<IChatCompletionService>();"
   ]
  },
  {
   "cell_type": "markdown",
   "metadata": {},
   "source": [
    "### Step 2 - Premortem Risk Analysis with o1 Reasoning Models"
   ]
  },
  {
   "cell_type": "code",
   "execution_count": 10,
   "metadata": {
    "dotnet_interactive": {
     "language": "csharp"
    },
    "polyglot_notebook": {
     "kernelName": "csharp"
    },
    "vscode": {
     "languageId": "polyglot-notebook"
    }
   },
   "outputs": [
    {
     "name": "stdout",
     "output_type": "stream",
     "text": [
      "**Premortem Analysis: Choosing Between Purchasing and Leasing a New Car**\n",
      "\n",
      "*Objective:* To anticipate and identify potential reasons why the decision to purchase versus lease a new car might fail, allowing for better-informed choices and mitigation strategies.\n",
      "\n",
      "---\n",
      "\n",
      "### **Scenario Overview**\n",
      "\n",
      "You're at a crossroads deciding whether to purchase a new car outright or enter into a leasing agreement. To ensure the best outcome, we'll conduct a premortem analysis by imagining that, one year into the future, the decision has led to unfavorable results. Our goal is to uncover possible pitfalls associated with each option to make a more informed decision today.\n",
      "\n",
      "---\n",
      "\n",
      "### **Part 1: Envisioning Failure**\n",
      "\n",
      "Imagine that you've made your choice—either purchasing or leasing—and it's now clear that the decision has not worked out as hoped. What went wrong? We'll explore potential failures associated with both options.\n",
      "\n",
      "---\n",
      "\n",
      "### **Part 2: Potential Failures When Purchasing a New Car**\n",
      "\n",
      "1. **Depreciation Miscalculation**\n",
      "   - *Issue:* The car's resale value plummeted faster than anticipated.\n",
      "   - *Impact:* Higher financial loss upon selling or trading in the vehicle.\n",
      "\n",
      "2. **Financial Strain**\n",
      "   - *Issue:* The monthly loan payments are higher than budgeted, leading to cash flow problems.\n",
      "   - *Impact:* Stress on personal finances, potentially affecting credit scores.\n",
      "\n",
      "3. **Maintenance Costs**\n",
      "   - *Issue:* Unexpected mechanical issues arose after the warranty period ended.\n",
      "   - *Impact:* High out-of-pocket expenses for repairs and maintenance.\n",
      "\n",
      "4. **Lifestyle Changes**\n",
      "   - *Issue:* A change in personal circumstances (e.g., job relocation, family expansion) made the car unsuitable.\n",
      "   - *Impact:* Need to sell the car prematurely, possibly at a loss.\n",
      "\n",
      "5. **Technological Obsolescence**\n",
      "   - *Issue:* New car models with advanced technology were released shortly after purchase.\n",
      "   - *Impact:* The purchased car feels outdated, reducing satisfaction and resale value.\n",
      "\n",
      "6. **Insurance and Tax Costs**\n",
      "   - *Issue:* Higher than expected insurance premiums and vehicle taxes.\n",
      "   - *Impact:* Increased total cost of ownership beyond initial calculations.\n",
      "\n",
      "7. **Opportunity Cost**\n",
      "   - *Issue:* Capital tied up in the car purchase could have been invested elsewhere with better returns.\n",
      "   - *Impact:* Missed financial opportunities leading to regret over the allocation of funds.\n",
      "\n",
      "---\n",
      "\n",
      "### **Part 3: Potential Failures When Leasing a New Car**\n",
      "\n",
      "1. **Mileage Overages**\n",
      "   - *Issue:* Exceeded the annual mileage limit specified in the lease agreement.\n",
      "   - *Impact:* Incurred significant penalties at lease end.\n",
      "\n",
      "2. **Wear and Tear Charges**\n",
      "   - *Issue:* The car sustained damage beyond \"normal wear and tear.\"\n",
      "   - *Impact:* Additional fees required upon returning the vehicle.\n",
      "\n",
      "3. **Lease Contract Restrictions**\n",
      "   - *Issue:* Restrictions on customizing or modifying the car hindered personal preferences.\n",
      "   - *Impact:* Reduced enjoyment and utility of the vehicle.\n",
      "\n",
      "4. **Financial Changes**\n",
      "   - *Issue:* Changes in income made monthly lease payments burdensome.\n",
      "   - *Impact:* Difficulty keeping up with payments, risking penalties or credit impact.\n",
      "\n",
      "5. **Early Termination Fees**\n",
      "   - *Issue:* Needed to end the lease early due to unforeseen circumstances.\n",
      "   - *Impact:* Faced steep early termination penalties.\n",
      "\n",
      "6. **No Equity Building**\n",
      "   - *Issue:* At the end of the lease term, no ownership stake in the vehicle.\n",
      "   - *Impact:* Continuous cycle of payments without accumulating an asset.\n",
      "\n",
      "7. **Residual Value Discrepancy**\n",
      "   - *Issue:* The car's market value at lease end is less than the residual value.\n",
      "   - *Impact:* Purchasing the car at lease end is not economically viable, limiting options.\n",
      "\n",
      "---\n",
      "\n",
      "### **Part 4: Analysis and Mitigation Strategies**\n",
      "\n",
      "#### **For Purchasing a New Car**\n",
      "\n",
      "- **Depreciation Mitigation**\n",
      "  - Research models with strong resale values.\n",
      "  - Consider certified pre-owned vehicles to avoid initial depreciation hit.\n",
      "\n",
      "- **Financial Planning**\n",
      "  - Re-evaluate the budget to ensure affordability.\n",
      "  - Opt for a larger down payment to reduce monthly payments.\n",
      "\n",
      "- **Maintenance Considerations**\n",
      "  - Purchase extended warranties or maintenance plans.\n",
      "  - Choose models known for reliability.\n",
      "\n",
      "- **Flexibility Planning**\n",
      "  - Anticipate potential lifestyle changes.\n",
      "  - Consider the car's versatility to accommodate future needs.\n",
      "\n",
      "- **Staying Current with Technology**\n",
      "  - Select models with upgradable software or modular technology.\n",
      "  - Assess the importance of having the latest features.\n",
      "\n",
      "- **Cost Analysis**\n",
      "  - Get insurance quotes beforehand.\n",
      "  - Factor in taxes, fees, and other ownership costs into the total cost of ownership.\n",
      "\n",
      "- **Opportunity Cost Management**\n",
      "  - Balance how much capital is used for the car versus other investments.\n",
      "  - Explore financing options with lower interest rates.\n",
      "\n",
      "#### **For Leasing a New Car**\n",
      "\n",
      "- **Mileage Management**\n",
      "  - Accurately estimate annual mileage before signing.\n",
      "  - Negotiate higher mileage limits if needed.\n",
      "\n",
      "- **Protecting Against Wear and Tear**\n",
      "  - Invest in protective measures (e.g., regular servicing, interior protections).\n",
      "  - Understand what constitutes \"normal wear and tear\" in the contract.\n",
      "\n",
      "- **Understanding Lease Terms**\n",
      "  - Read the fine print regarding modifications and restrictions.\n",
      "  - Choose lease agreements with terms that suit personal preferences.\n",
      "\n",
      "- **Financial Readiness**\n",
      "  - Ensure stable income projected over the lease term.\n",
      "  - Consider gap insurance to protect against unforeseen loss.\n",
      "\n",
      "- **Flexibility for Early Termination**\n",
      "  - Inquire about lease transfer options.\n",
      "  - Look for leases with favorable early termination clauses.\n",
      "\n",
      "- **Building Equity Alternatives**\n",
      "  - Set aside savings that would have gone into purchasing to build assets elsewhere.\n",
      "  - Plan for future purchases post-lease if ownership is a goal.\n",
      "\n",
      "- **Residual Value Awareness**\n",
      "  - Research vehicle depreciation trends.\n",
      "  - Negotiate the residual value if possible, or choose a model that holds value well.\n",
      "\n",
      "---\n",
      "\n",
      "### **Part 5: Decision-Making Considerations**\n",
      "\n",
      "- **Time Horizon**\n",
      "  - Determine how long you intend to keep the vehicle.\n",
      "  - Short-term use may favor leasing; long-term use may favor purchasing.\n",
      "\n",
      "- **Financial Health**\n",
      "  - Assess your credit score, debt-to-income ratio, and overall financial stability.\n",
      "  - Factor in how each option affects financial goals.\n",
      "\n",
      "- **Personal Preferences**\n",
      "  - Consider the value placed on owning versus having the latest model.\n",
      "  - Evaluate the importance of flexibility versus commitment.\n",
      "\n",
      "- **Market Conditions**\n",
      "  - Analyze current interest rates, manufacturer incentives, and market trends.\n",
      "  - Timing your decision can lead to better deals.\n",
      "\n",
      "- **Tax Implications**\n",
      "  - Consult a tax professional to understand any deductions or benefits.\n",
      "  - Business use may offer different advantages for leasing or purchasing.\n",
      "\n",
      "---\n",
      "\n",
      "### **Conclusion**\n",
      "\n",
      "By envisioning potential failures associated with both purchasing and leasing a new car, we've highlighted critical areas that require careful consideration. Mitigating these risks involves thorough research, honest self-assessment of needs and habits, and strategic financial planning. Armed with this analysis, you can make a more informed decision that aligns with your financial goals and personal circumstances, increasing the likelihood of satisfaction with your choice.\n",
      "\n",
      "---\n",
      "\n",
      "**Next Steps:**\n",
      "\n",
      "- **Gather Data**\n",
      "  - Obtain detailed pricing, leasing terms, and financing options for desired car models.\n",
      "  \n",
      "- **Consult Professionals**\n",
      "  - Speak with financial advisors, tax professionals, and automotive experts.\n",
      "\n",
      "- **Reflect on Personal Needs**\n",
      "  - Reassess your lifestyle, commuting patterns, and long-term plans.\n",
      "\n",
      "- **Make an Informed Decision**\n",
      "  - Weigh the pros and cons in the context of this analysis to choose the option that best suits you.\n"
     ]
    }
   ],
   "source": [
    "// Create a system prompt instruction to override the default system prompt\n",
    "// Add the System Prompt (Persona) to behave like a decision intelligence assistant\n",
    "var systemPromptForDecisions = \"\"\"\n",
    "You are a Decision Intelligence Assistant. \n",
    "Assist the user in exploring options, reasoning through decisions, problem-solving.\n",
    "Apply systems thinking to various scenarios. \n",
    "Provide structured, logical, and comprehensive advice.\n",
    "\"\"\";\n",
    "var decisionAnalysisPrompt = \"\"\"\n",
    "Perform an advanced premortem analysis on the following scenario:\n",
    "You are deciding to purchase a new car versus leasing a car.\n",
    "\"\"\";\n",
    "\n",
    "// How the prompt looks like to the LLM\n",
    "var simpleDecisionPromptTemplate = $\"\"\"\n",
    "System Prompt: {systemPromptForDecisions}\n",
    "\n",
    "Request from the user: {decisionAnalysisPrompt}\n",
    "\"\"\";\n",
    "\n",
    "var simplePromptResponse = await semanticKernel.InvokePromptAsync(decisionAnalysisPrompt);\n",
    "Console.WriteLine(simplePromptResponse.GetValue<string>());"
   ]
  },
  {
   "cell_type": "code",
   "execution_count": 10,
   "metadata": {
    "dotnet_interactive": {
     "language": "csharp"
    },
    "polyglot_notebook": {
     "kernelName": "csharp"
    },
    "vscode": {
     "languageId": "polyglot-notebook"
    }
   },
   "outputs": [
    {
     "name": "stdout",
     "output_type": "stream",
     "text": [
      "| Risk Factor / Uncertainty / Potential Outcome | Purchase                                                                                                | Lease                                                                                                    |\n",
      "|-----------------------------------------------|-----------------------------------------------------------------------------------------------------------|----------------------------------------------------------------------------------------------------------|\n",
      "| High Upfront Cost                             | High initial payment required for down payment and taxes                                                  | Lower initial payment; typically only first month's payment and fees                                     |\n",
      "| Depreciation of Vehicle Value                 | Owner bears the full depreciation cost over time                                                          | Depreciation is factored into lease payments; less concern for lessee                                     |\n",
      "| Maintenance Costs After Warranty              | Owner responsible for all maintenance and repair costs after warranty expiration                          | Maintenance may be covered under lease terms; newer cars less likely to need repairs                      |\n",
      "| Resale Value Uncertainty                      | Uncertain future resale value can affect total cost of ownership                                          | Not applicable; no need to resell the vehicle at end of lease                                             |\n",
      "| Financing Costs (Interest Rates)              | Interest rates on auto loan affect total purchase cost                                                    | Interest rates affect lease payments; money factor (lease equivalent of interest rate) applies            |\n",
      "| Changes in Personal Circumstances             | Financial hardship could lead to loan default or need to sell the car                                     | Financial hardship could lead to lease default with possible penalties                                    |\n",
      "| Technological Obsolescence                    | Owner may be stuck with outdated technology or features                                                   | Ability to upgrade to newer model with latest technology at end of lease term                             |\n",
      "| Opportunity Cost of Capital                   | Capital tied up in vehicle ownership could be used elsewhere                                              | Less capital required upfront; frees up funds for other investments                                       |\n",
      "| Mileage Limits and Penalties                  | No mileage restrictions; can drive unlimited miles                                                        | Mileage limits apply; excess mileage results in additional fees                                           |\n",
      "| Wear and Tear Charges                         | Owner bears cost of excessive wear but has control over repairs                                           | Excess wear and tear charges may apply at lease end                                                       |\n",
      "| No Equity Built in Vehicle                    | Equity builds over time; potential asset at end of loan                                                   | No equity or ownership; payments do not contribute to ownership                                           |\n",
      "| Early Termination Fees                        | Can sell the car at any time, though may incur loss if loan balance exceeds car value                     | Early lease termination can result in substantial fees and penalties                                      |\n",
      "| Insurance Gap Coverage Needed                 | May be optional; depreciation could result in owing more than car's value                                 | Often required; protects against owing the difference between insurance payout and lease balance          |\n",
      "| Flexibility to Modify Car                     | Full freedom to customize or modify the vehicle                                                           | Modifications typically prohibited; must return car in original condition                                 |\n",
      "| Total Cost Over Time                          | Potentially lower total cost if kept long-term and maintenance costs are manageable                       | Potentially higher total cost over similar period due to continuous lease payments                        |\n",
      "| Obligation Period                             | Commitment until loan is paid off or car is sold                                                          | Fixed lease term commitment; less flexibility to exit agreement early                                     |\n",
      "| Impact of Market Conditions                   | Changes in used car market affect resale value and total cost of ownership                                | Lessee is insulated from market fluctuations; residual value risk is on the lessor                        |\n",
      "| Tax Considerations                            | Possible tax deductions for interest paid (subject to tax laws)                                           | Lease payments may be tax-deductible if car is used for business purposes                                 |\n",
      "| Credit Score Impact                           | Loan default negatively impacts credit score                                                              | Lease default negatively impacts credit score                                                             |\n",
      "| End of Term Options                           | Own the car outright, sell, or trade in for a new vehicle                                                 | Options to return the car, purchase it at residual value, or lease a new vehicle                          |\n",
      "| Flexibility of Use                            | Unlimited personal use; ownership allows for any usage                                                    | Use is limited by lease terms; restrictions on commercial use or ride-sharing services may apply          |\n"
     ]
    }
   ],
   "source": [
    "// Create a system prompt instruction to override the default system prompt\n",
    "// Add the System Prompt (Persona) to behave like a decision intelligence assistant\n",
    "var systemPromptForDecisions = \"\"\"\n",
    "You are a Decision Intelligence Assistant. \n",
    "Assist the user in exploring options, reasoning through decisions, problem-solving.\n",
    "Apply systems thinking to various scenarios. \n",
    "Provide structured, logical, and comprehensive advice.\n",
    "\"\"\";\n",
    "var decisionAnalysisPrompt = \"\"\"\n",
    "Perform an advanced premortem analysis on the following scenario:\n",
    "You are deciding to purchase a new car versus leasing a car.\n",
    "\n",
    "Output the risk factors, uncertainties, and potential outcomes ONLY in a Markdown table.\n",
    "Create a column for each option (Purchase, Lease) and which risk factor or uncertainty applies to each option.\n",
    "Do not surround the markdown with triple backticks.\n",
    "\"\"\";\n",
    "\n",
    "// How the prompt looks like to the LLM\n",
    "var simpleDecisionPromptTemplate = $\"\"\"\n",
    "System Prompt: {systemPromptForDecisions}\n",
    "\n",
    "Request from the user: {decisionAnalysisPrompt}\n",
    "\"\"\";\n",
    "\n",
    "var simplePromptResponse = await semanticKernel.InvokePromptAsync(decisionAnalysisPrompt);\n",
    "Console.WriteLine(simplePromptResponse.GetValue<string>());"
   ]
  },
  {
   "cell_type": "markdown",
   "metadata": {},
   "source": [
    "| Risk Factor / Uncertainty / Potential Outcome | Purchase                                                                                                | Lease                                                                                                    |\n",
    "|-----------------------------------------------|-----------------------------------------------------------------------------------------------------------|----------------------------------------------------------------------------------------------------------|\n",
    "| High Upfront Cost                             | High initial payment required for down payment and taxes                                                  | Lower initial payment; typically only first month's payment and fees                                     |\n",
    "| Depreciation of Vehicle Value                 | Owner bears the full depreciation cost over time                                                          | Depreciation is factored into lease payments; less concern for lessee                                     |\n",
    "| Maintenance Costs After Warranty              | Owner responsible for all maintenance and repair costs after warranty expiration                          | Maintenance may be covered under lease terms; newer cars less likely to need repairs                      |\n",
    "| Resale Value Uncertainty                      | Uncertain future resale value can affect total cost of ownership                                          | Not applicable; no need to resell the vehicle at end of lease                                             |\n",
    "| Financing Costs (Interest Rates)              | Interest rates on auto loan affect total purchase cost                                                    | Interest rates affect lease payments; money factor (lease equivalent of interest rate) applies            |\n",
    "| Changes in Personal Circumstances             | Financial hardship could lead to loan default or need to sell the car                                     | Financial hardship could lead to lease default with possible penalties                                    |\n",
    "| Technological Obsolescence                    | Owner may be stuck with outdated technology or features                                                   | Ability to upgrade to newer model with latest technology at end of lease term                             |\n",
    "| Opportunity Cost of Capital                   | Capital tied up in vehicle ownership could be used elsewhere                                              | Less capital required upfront; frees up funds for other investments                                       |\n",
    "| Mileage Limits and Penalties                  | No mileage restrictions; can drive unlimited miles                                                        | Mileage limits apply; excess mileage results in additional fees                                           |\n",
    "| Wear and Tear Charges                         | Owner bears cost of excessive wear but has control over repairs                                           | Excess wear and tear charges may apply at lease end                                                       |\n",
    "| No Equity Built in Vehicle                    | Equity builds over time; potential asset at end of loan                                                   | No equity or ownership; payments do not contribute to ownership                                           |\n",
    "| Early Termination Fees                        | Can sell the car at any time, though may incur loss if loan balance exceeds car value                     | Early lease termination can result in substantial fees and penalties                                      |\n",
    "| Insurance Gap Coverage Needed                 | May be optional; depreciation could result in owing more than car's value                                 | Often required; protects against owing the difference between insurance payout and lease balance          |\n",
    "| Flexibility to Modify Car                     | Full freedom to customize or modify the vehicle                                                           | Modifications typically prohibited; must return car in original condition                                 |\n",
    "| Total Cost Over Time                          | Potentially lower total cost if kept long-term and maintenance costs are manageable                       | Potentially higher total cost over similar period due to continuous lease payments                        |\n",
    "| Obligation Period                             | Commitment until loan is paid off or car is sold                                                          | Fixed lease term commitment; less flexibility to exit agreement early                                     |\n",
    "| Impact of Market Conditions                   | Changes in used car market affect resale value and total cost of ownership                                | Lessee is insulated from market fluctuations; residual value risk is on the lessor                        |\n",
    "| Tax Considerations                            | Possible tax deductions for interest paid (subject to tax laws)                                           | Lease payments may be tax-deductible if car is used for business purposes                                 |\n",
    "| Credit Score Impact                           | Loan default negatively impacts credit score                                                              | Lease default negatively impacts credit score                                                             |\n",
    "| End of Term Options                           | Own the car outright, sell, or trade in for a new vehicle                                                 | Options to return the car, purchase it at residual value, or lease a new vehicle                          |\n",
    "| Flexibility of Use                            | Unlimited personal use; ownership allows for any usage                                                    | Use is limited by lease terms; restrictions on commercial use or ride-sharing services may apply          |"
   ]
  },
  {
   "cell_type": "markdown",
   "metadata": {},
   "source": [
    "This Markdown table can be further simplified by highlighting which risk factor is more favorable when comparing a Purchase versus a Lease.\n",
    "\n",
    "| Risk Factor / Uncertainty / Potential Outcome | Purchase | Lease |\n",
    "|-----------------------------------------------|----------|-------|\n",
    "| High Upfront Cost                             |          | ☑️    |\n",
    "| Depreciation of Vehicle Value                 |          | ☑️    |\n",
    "| Maintenance Costs After Warranty              |          | ☑️    |\n",
    "| Resale Value Uncertainty                      |          | ☑️    |\n",
    "| Financing Costs (Interest Rates)              |          |       |\n",
    "| Changes in Personal Circumstances             | ☑️       |       |\n",
    "| Technological Obsolescence                    |          | ☑️    |\n",
    "| Opportunity Cost of Capital                   |          | ☑️    |\n",
    "| Mileage Limits and Penalties                  | ☑️       |       |\n",
    "| Wear and Tear Charges                         | ☑️       |       |\n",
    "| No Equity Built in Vehicle                    | ☑️       |       |\n",
    "| Early Termination Fees                        | ☑️       |       |\n",
    "| Insurance Gap Coverage Needed                 | ☑️       |       |\n",
    "| Flexibility to Modify Car                     | ☑️       |       |\n",
    "| Total Cost Over Time                          | ☑️       |       |\n",
    "| Obligation Period                             | ☑️       |       |\n",
    "| Impact of Market Conditions                   |          | ☑️    |\n",
    "| Tax Considerations                            |          | ☑️    |\n",
    "| Credit Score Impact                           |          |       |\n",
    "| End of Term Options                           |          | ☑️    |\n",
    "| Flexibility of Use                            | ☑️       |       |\n"
   ]
  }
 ],
 "metadata": {
  "kernelspec": {
   "display_name": ".NET (C#)",
   "language": "C#",
   "name": ".net-csharp"
  },
  "language_info": {
   "name": "python"
  },
  "polyglot_notebook": {
   "kernelInfo": {
    "defaultKernelName": "csharp",
    "items": [
     {
      "aliases": [],
      "name": "csharp"
     }
    ]
   }
  }
 },
 "nbformat": 4,
 "nbformat_minor": 2
}
