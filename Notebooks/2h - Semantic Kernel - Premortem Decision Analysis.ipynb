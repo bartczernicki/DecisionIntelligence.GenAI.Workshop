{
 "cells": [
  {
   "cell_type": "markdown",
   "metadata": {},
   "source": [
    "<img style=\"float: left;padding-right: 10px\" width =\"40px\" src=\"https://raw.githubusercontent.com/bartczernicki/DecisionIntelligence.GenAI.Workshop/main/Images/SemanticKernelLogo.png\">\n",
    "\n",
    "## Semantic Kernel - Premortem Decision Analysis  "
   ]
  },
  {
   "cell_type": "markdown",
   "metadata": {},
   "source": [
    "Decision Intelligence applied in this module:  \n",
    "* Using Premortem Decision Analysis to improve decision quality & outcomes  \n",
    "* Using a Premortem decision output for improving of Gathering Intelligence \n",
    "* Attain different perspectives using mutliple decision frames  \n",
    "* Apply a Decision Framework to Premortem Decision Analysis \n"
   ]
  },
  {
   "cell_type": "markdown",
   "metadata": {},
   "source": [
    "### What is a Premortem (Pre-Mortem)  "
   ]
  },
  {
   "cell_type": "markdown",
   "metadata": {},
   "source": [
    "You have probably heard of a **postmortem (post-mortem)**, which is a look back at an actual failure (or success) to understand why it happened and learn from it. In the context of decision making, after the decision outcome is clear you can analyze why the result occured. \n",
    "\n",
    "In a **premortem (pre-mortem)** the outcome is \"imagined\" and then it is figured out why that potential \"imagined\" outcome happened. In a premortem a planning exercise where a team imagines that a project or decision has already succeeded or failed. The team then works backward, brainstorming what might have caused things to go wrong. This approach allows everyone to spot potential problems and fix them before starting the project. Therefore, it’s a bit like predicting the future and using that prediction to make the project stronger.  "
   ]
  },
  {
   "cell_type": "markdown",
   "metadata": {},
   "source": [
    "### Example Premortem Scenario  "
   ]
  },
  {
   "cell_type": "markdown",
   "metadata": {},
   "source": [
    "Imagine you're about to buy a new car. Let's \"imagine\" how the purchase results in either two scenarios a **disaster** or a **successful** decision. "
   ]
  },
  {
   "cell_type": "markdown",
   "metadata": {},
   "source": [
    "#### Disaster Decision Premortem  "
   ]
  },
  {
   "cell_type": "markdown",
   "metadata": {},
   "source": [
    "In a **premortem (pre-mortem)**, you pretend the purchase turned out to be a disaster. Now, ask yourself: What went wrong?\n",
    "\n",
    "Here are some potential reasons:  \n",
    "\n",
    "* **Financial issues:** You realize later you can’t comfortably afford the monthly payments or maintenance costs.  \n",
    "* **Unexpected repairs:** The car has hidden mechanical problems, leading to costly repairs.  \n",
    "* **Insurance costs:** Insurance is much higher than expected, impacting your budget.\n",
    "* **Poor fuel efficiency:** The car uses more gas than you thought, making it expensive to drive.\n",
    "Resale value drop: The car’s value plummets quickly, leaving you with less if you want to sell or trade it.  "
   ]
  },
  {
   "cell_type": "markdown",
   "metadata": {},
   "source": [
    "#### Successful Decision Premortem"
   ]
  },
  {
   "cell_type": "markdown",
   "metadata": {},
   "source": [
    "In a premortem for a successful car purchase, imagine you bought the car, and it turned out to be a fantastic decision. Now, ask yourself: What went right?\n",
    "\n",
    "Here are some potential reasons:\n",
    "\n",
    "* **Affordable and realistic budget:** You set a budget that allowed for comfortable monthly payments and covered insurance, fuel, and maintenance without straining your finances.  \n",
    "* **Thorough inspection:** You got a detailed inspection before buying, which confirmed the car was in excellent condition and minimized the risk of future repairs.\n",
    "* **Reliable model choice:** You researched models with a reputation for reliability, so you experience fewer repairs and smooth performance.\n",
    "* **Fuel efficiency matches needs:** You chose a car that meets your fuel efficiency needs, saving money on gas and fitting well with your daily driving habits.   \n",
    "* **High resale value:** You picked a make and model that holds its value well, giving you confidence that it’s a good long-term investment.\n",
    "\n",
    "Imagining these successful outcomes helps you focus on these actions—like sticking to budget, getting a full inspection, and choosing a reliable model—so you’re more likely to make a purchase you’ll be happy with."
   ]
  },
  {
   "cell_type": "markdown",
   "metadata": {},
   "source": [
    "By imagining these issues in advance, you could decide to thoroughly check maintenance records, test drive more carefully, or reassess your budget to avoid these potential problems.\n",
    "\n",
    "How can Generative AI help? Using Generative AI, the LLM models can be used to \"imagine\" outcomes and also brainstorm potential reasons why that certain outcome occured. "
   ]
  },
  {
   "cell_type": "markdown",
   "metadata": {},
   "source": [
    "### 1 - Premortem Example with o1 Reasoning Models"
   ]
  },
  {
   "cell_type": "code",
   "execution_count": 7,
   "metadata": {
    "dotnet_interactive": {
     "language": "csharp"
    },
    "polyglot_notebook": {
     "kernelName": "csharp"
    },
    "vscode": {
     "languageId": "polyglot-notebook"
    }
   },
   "outputs": [
    {
     "data": {
      "text/html": [
       "<div><div></div><div></div><div><strong>Installed Packages</strong><ul><li><span>Microsoft.Extensions.Configuration, 8.0.0</span></li><li><span>Microsoft.Extensions.Configuration.Json, 8.0.0</span></li><li><span>Microsoft.SemanticKernel, 1.25.0</span></li><li><span>Microsoft.SemanticKernel.Plugins.Core, 1.25.0-alpha</span></li></ul></div></div>"
      ]
     },
     "metadata": {},
     "output_type": "display_data"
    }
   ],
   "source": [
    "#r \"nuget: Microsoft.Extensions.Configuration, 8.0.0\"\n",
    "#r \"nuget: Microsoft.Extensions.Configuration.Json, 8.0.0\"\n",
    "#r \"nuget: Microsoft.SemanticKernel, 1.25.0\"\n",
    "#r \"nuget: Microsoft.SemanticKernel.Plugins.Core, 1.25.0-alpha\"\n",
    "\n",
    "using Microsoft.Extensions.Configuration.Json;\n",
    "using Microsoft.Extensions.Configuration;\n",
    "using Microsoft.SemanticKernel;\n",
    "using Microsoft.SemanticKernel.ChatCompletion;\n",
    "using Microsoft.SemanticKernel.Connectors.OpenAI;\n",
    "using System.IO;\n",
    "\n",
    "var configurationBuilder = new ConfigurationBuilder()\n",
    "    .SetBasePath(Directory.GetCurrentDirectory())\n",
    "    .AddJsonFile(\"local.settings.json\", optional: true, reloadOnChange: true)\n",
    "    .AddJsonFile(\"secrets.settings.json\", optional: true, reloadOnChange: true);\n",
    "var config = configurationBuilder.Build();\n",
    "\n",
    "// IMPORTANT: You ONLY NEED either Azure OpenAI or OpenAI connectiopn info, not both.\n",
    "// Azure OpenAI Connection Info\n",
    "var azureOpenAIEndpoint = config[\"AzureOpenAI:o1Endpoint\"];\n",
    "var azureOpenAIAPIKey = config[\"AzureOpenAI:o1APIKey\"];\n",
    "var azureOpenAIModelDeploymentName = config[\"AzureOpenAI:o1ModelDeploymentName\"];\n",
    "// OpenAI Connection Info \n",
    "var openAIAPIKey = config[\"OpenAI:APIKey\"];\n",
    "var openAIModelId = config[\"OpenAI:ModelId\"];"
   ]
  },
  {
   "cell_type": "code",
   "execution_count": 8,
   "metadata": {
    "dotnet_interactive": {
     "language": "csharp"
    },
    "polyglot_notebook": {
     "kernelName": "csharp"
    },
    "vscode": {
     "languageId": "polyglot-notebook"
    }
   },
   "outputs": [
    {
     "data": {
      "text/html": [
       "<div><div></div><div></div><div><strong>Installed Packages</strong><ul><li><span>microsoft.extensions.dependencyinjection, 8.0.0</span></li><li><span>Microsoft.SemanticKernel, 1.25.0</span></li></ul></div></div>"
      ]
     },
     "metadata": {},
     "output_type": "display_data"
    },
    {
     "name": "stdout",
     "output_type": "stream",
     "text": [
      "Using Azure OpenAI Service\n"
     ]
    }
   ],
   "source": [
    "// Install the required NuGet packages\n",
    "// Note: This also installs the Dependency Injection Package to retrieve the ChatCompletionService\n",
    "#r \"nuget: Microsoft.Extensions.DependencyInjection, 8.0.0\"\n",
    "#r \"nuget: Microsoft.SemanticKernel, 1.25.0\"\n",
    "\n",
    "using Microsoft.Extensions.DependencyInjection.Extensions;\n",
    "using Microsoft.Extensions.DependencyInjection;\n",
    "using Microsoft.SemanticKernel;\n",
    "using Microsoft.SemanticKernel.ChatCompletion;\n",
    "using Microsoft.SemanticKernel.Connectors.OpenAI;\n",
    "\n",
    "Kernel semanticKernel;\n",
    "\n",
    "// Set the flag to use Azure OpenAI or OpenAI. False to use OpenAI, True to use Azure OpenAI\n",
    "var useAzureOpenAI = true;\n",
    "\n",
    "// Create a new Semantic Kernel instance\n",
    "if (useAzureOpenAI)\n",
    "{\n",
    "    Console.WriteLine(\"Using Azure OpenAI Service\");\n",
    "    semanticKernel = Kernel.CreateBuilder()\n",
    "        .AddAzureOpenAIChatCompletion(\n",
    "            deploymentName: azureOpenAIModelDeploymentName,\n",
    "            endpoint: azureOpenAIEndpoint,\n",
    "            apiKey: azureOpenAIAPIKey)\n",
    "        .Build();\n",
    "}\n",
    "else\n",
    "{\n",
    "    Console.WriteLine(\"Using OpenAI Service\");\n",
    "    semanticKernel = Kernel.CreateBuilder()\n",
    "        .AddOpenAIChatCompletion(\n",
    "            modelId: openAIModelId,\n",
    "            apiKey: openAIAPIKey)\n",
    "        .Build();\n",
    "}\n",
    "\n",
    "var chatCompletionService = semanticKernel.Services.GetRequiredService<IChatCompletionService>();"
   ]
  },
  {
   "cell_type": "code",
   "execution_count": 9,
   "metadata": {
    "dotnet_interactive": {
     "language": "csharp"
    },
    "polyglot_notebook": {
     "kernelName": "csharp"
    },
    "vscode": {
     "languageId": "polyglot-notebook"
    }
   },
   "outputs": [
    {
     "name": "stdout",
     "output_type": "stream",
     "text": [
      "**Advanced Premortem Analysis: Evaluating the Decision to Purchase vs. Lease a New Car**\n",
      "\n",
      "---\n",
      "\n",
      "**Scenario Overview:**\n",
      "\n",
      "Imagine that three years after deciding to either purchase or lease a new car, the decision has resulted in significant negative consequences. Your financial stability, personal satisfaction, and overall well-being have been adversely affected. The goal of this premortem analysis is to identify the potential reasons for this failure, understand the risks inherent in each option, and develop strategies to mitigate these risks before making the decision.\n",
      "\n",
      "---\n",
      "\n",
      "### **Potential Failures and Risks Associated with Purchasing a New Car**\n",
      "\n",
      "1. **Financial Overextension:**\n",
      "   - **Underestimating Total Costs:** You failed to account for all the expenses associated with owning the car, including taxes, fees, insurance, maintenance, and repairs.\n",
      "   - **High Monthly Payments:** The loan payments are higher than comfortably affordable, leading to strain on your monthly budget.\n",
      "   - **Depreciation:** The car's value depreciated faster than expected, leaving you with negative equity if you need to sell or trade-in.\n",
      "\n",
      "2. **Unexpected Life Changes:**\n",
      "   - **Job Loss or Reduced Income:** An unforeseen change in employment status has made it difficult to keep up with payments.\n",
      "   - **Relocation:** Moving to a city with excellent public transportation rendered car ownership unnecessary, but selling the car resulted in a significant financial loss.\n",
      "   - **Family Growth:** Changes in family size require a different type of vehicle, but selling the current car involves financial penalties.\n",
      "\n",
      "3. **Maintenance and Reliability Issues:**\n",
      "   - **Unexpected Repairs:** The car required major repairs not covered by warranty, leading to substantial out-of-pocket expenses.\n",
      "   - **Reliability Problems:** Frequent issues with the car caused inconvenience and additional costs.\n",
      "\n",
      "4. **Insurance and Liability:**\n",
      "   - **Increased Insurance Costs:** The insurance premiums were higher than anticipated, adding to the overall cost of ownership.\n",
      "   - **Accidents:** Involvement in an accident led to increased insurance rates and repair costs.\n",
      "\n",
      "5. **Technological Obsolescence:**\n",
      "   - **Rapid Technological Advancements:** The emergence of new technologies (e.g., electric vehicles, autonomous driving features) made the car outdated, impacting its resale value and desirability.\n",
      "\n",
      "6. **Opportunity Cost:**\n",
      "   - **Alternative Investments:** The capital used for the down payment and loan could have been invested elsewhere with better returns.\n",
      "   - **Financial Goals Delayed:** Owning the car hindered your ability to save for other priorities, such as a home or retirement.\n",
      "\n",
      "---\n",
      "\n",
      "### **Potential Failures and Risks Associated with Leasing a Car**\n",
      "\n",
      "1. **Contractual Limitations:**\n",
      "   - **Mileage Overages:** Exceeding the annual mileage limit resulted in significant penalties at the end of the lease term.\n",
      "   - **Wear and Tear Charges:** The car incurred wear and tear deemed excessive by the leasing company, leading to additional fees.\n",
      "   - **Strict Terms:** The lease agreement lacked flexibility, making it difficult to adapt to life changes.\n",
      "\n",
      "2. **Financial Burden:**\n",
      "   - **Continuous Payments:** The necessity to lease another car after the term ended resulted in perpetual monthly payments without ever owning an asset.\n",
      "   - **Higher Long-Term Cost:** Over time, leasing proved more expensive than purchasing due to ongoing payments and fees.\n",
      "\n",
      "3. **Unexpected Life Changes:**\n",
      "   - **Early Termination Fees:** Needing to end the lease early due to relocation or financial hardship led to substantial penalties.\n",
      "   - **Changes in Vehicle Needs:** Lifestyle changes necessitated a different type of vehicle, but the lease terms made it costly to switch.\n",
      "\n",
      "4. **Insurance Requirements:**\n",
      "   - **Higher Coverage Mandates:** The leasing company required higher insurance coverage levels, increasing monthly expenses.\n",
      "   - **Gap Insurance Needs:** Additional insurance was necessary to cover the difference between the car's value and the lease payout if totaled.\n",
      "\n",
      "5. **Residual Value Miscalculations:**\n",
      "   - **Overestimating Residual Value:** The car's market value at lease end was lower than anticipated, affecting the option to purchase.\n",
      "   - **Market Fluctuations:** Economic downturns or shifts in demand decreased the car's value, impacting lease-end decisions.\n",
      "\n",
      "6. **Lack of Equity Building:**\n",
      "   - **No Ownership:** After years of payments, there is no asset ownership, and any equity benefits are unavailable.\n",
      "\n",
      "---\n",
      "\n",
      "### **Mitigation Strategies Before Making the Decision**\n",
      "\n",
      "1. **Comprehensive Financial Assessment:**\n",
      "   - **Budget Analysis:** Evaluate your current and projected financial situation to determine affordability.\n",
      "   - **Total Cost of Ownership (TCO):** Calculate all costs associated with purchasing and owning the car, including depreciation, maintenance, insurance, and taxes.\n",
      "   - **Comparison of Options:** Financially model both purchasing and leasing scenarios over the same period.\n",
      "\n",
      "2. **Lifestyle and Needs Evaluation:**\n",
      "   - **Current and Future Needs:** Consider how your vehicle needs may change due to personal or professional circumstances.\n",
      "   - **Flexibility Requirements:** Assess how important flexibility is in your vehicle arrangement.\n",
      "\n",
      "3. **Understanding Contract Details:**\n",
      "   - **Lease Terms Scrutiny:** Carefully read and understand all aspects of the lease agreement, including mileage limits, wear and tear definitions, early termination clauses, and end-of-lease options.\n",
      "   - **Loan Terms Examination:** If purchasing, review loan terms, interest rates, and any penalties for early repayment.\n",
      "\n",
      "4. **Negotiation and Customization:**\n",
      "   - **Tailored Agreements:** Negotiate terms that better fit your needs, such as higher mileage limits or maintenance packages.\n",
      "   - **Competitive Shopping:** Obtain multiple quotes from dealers and lenders to secure the best terms.\n",
      "\n",
      "5. **Insurance Planning:**\n",
      "   - **Insurance Quotes:** Get insurance estimates for both purchasing and leasing scenarios to understand the cost implications.\n",
      "   - **Gap Insurance Consideration:** Determine if gap insurance is necessary and factor it into the total cost.\n",
      "\n",
      "6. **Future-Proofing:**\n",
      "   - **Technological Trends Awareness:** Stay informed about automotive trends that might affect the car's value or desirability.\n",
      "   - **Resale Value Research:** Choose a make and model known for retaining value to mitigate depreciation risks.\n",
      "\n",
      "7. **Emergency Fund Allocation:**\n",
      "   - **Financial Cushion:** Set aside funds to cover unexpected expenses, such as repairs or job loss, to prevent financial strain.\n",
      "\n",
      "8. **Professional Advice:**\n",
      "   - **Consult Financial Advisors:** Seek input from professionals who can provide personalized advice based on your financial situation.\n",
      "\n",
      "---\n",
      "\n",
      "### **Decision-Making Considerations**\n",
      "\n",
      "- **Purchasing Might Be Better If:**\n",
      "  - You drive more miles than a lease allows without penalties.\n",
      "  - You prefer owning an asset and potentially benefiting from resale value.\n",
      "  - You plan to keep the car for a long time, spreading out the costs.\n",
      "\n",
      "- **Leasing Might Be Better If:**\n",
      "  - You prefer lower monthly payments.\n",
      "  - You enjoy driving new cars every few years and desire the latest features.\n",
      "  - You want to avoid the hassles of selling or trading in a car.\n",
      "\n",
      "---\n",
      "\n",
      "**Final Thoughts:**\n",
      "\n",
      "By conducting this advanced premortem analysis, you proactively identify the potential pitfalls associated with both purchasing and leasing a car. This comprehensive approach allows you to:\n",
      "\n",
      "- Make an informed decision aligned with your financial capabilities and lifestyle.\n",
      "- Develop strategies to mitigate identified risks.\n",
      "- Enhance your readiness for unforeseen changes.\n",
      "\n",
      "Careful planning and consideration of all factors will increase the likelihood of a positive outcome, ensuring that your decision supports your long-term financial health and personal satisfaction.\n"
     ]
    }
   ],
   "source": [
    "// Create a system prompt instruction to override the default system prompt\n",
    "// Add the System Prompt (Persona) to behave like a decision intelligence assistant\n",
    "var systemPromptForDecisions = \"\"\"\n",
    "You are a Decision Intelligence Assistant. \n",
    "Assist the user in exploring options, reasoning through decisions, problem-solving.\n",
    "Apply systems thinking to various scenarios. \n",
    "Provide structured, logical, and comprehensive advice.\n",
    "\"\"\";\n",
    "var decisionAnalysisPrompt = \"\"\"\n",
    "Perform an advanced premortem analysis on the following scenario:\n",
    "You are deciding to purchase a new car versus leasing a car.\n",
    "\"\"\";\n",
    "\n",
    "// How the prompt looks like to the LLM\n",
    "var simpleDecisionPromptTemplate = $\"\"\"\n",
    "System Prompt: {systemPromptForDecisions}\n",
    "\n",
    "Request from the user: {decisionAnalysisPrompt}\n",
    "\"\"\";\n",
    "\n",
    "var simplePromptResponse = await semanticKernel.InvokePromptAsync(decisionAnalysisPrompt);\n",
    "Console.WriteLine(simplePromptResponse.GetValue<string>());"
   ]
  },
  {
   "cell_type": "code",
   "execution_count": 10,
   "metadata": {
    "dotnet_interactive": {
     "language": "csharp"
    },
    "polyglot_notebook": {
     "kernelName": "csharp"
    },
    "vscode": {
     "languageId": "polyglot-notebook"
    }
   },
   "outputs": [
    {
     "name": "stdout",
     "output_type": "stream",
     "text": [
      "| Risk Factor / Uncertainty / Potential Outcome | Purchase                                                                                                | Lease                                                                                                    |\n",
      "|-----------------------------------------------|-----------------------------------------------------------------------------------------------------------|----------------------------------------------------------------------------------------------------------|\n",
      "| High Upfront Cost                             | High initial payment required for down payment and taxes                                                  | Lower initial payment; typically only first month's payment and fees                                     |\n",
      "| Depreciation of Vehicle Value                 | Owner bears the full depreciation cost over time                                                          | Depreciation is factored into lease payments; less concern for lessee                                     |\n",
      "| Maintenance Costs After Warranty              | Owner responsible for all maintenance and repair costs after warranty expiration                          | Maintenance may be covered under lease terms; newer cars less likely to need repairs                      |\n",
      "| Resale Value Uncertainty                      | Uncertain future resale value can affect total cost of ownership                                          | Not applicable; no need to resell the vehicle at end of lease                                             |\n",
      "| Financing Costs (Interest Rates)              | Interest rates on auto loan affect total purchase cost                                                    | Interest rates affect lease payments; money factor (lease equivalent of interest rate) applies            |\n",
      "| Changes in Personal Circumstances             | Financial hardship could lead to loan default or need to sell the car                                     | Financial hardship could lead to lease default with possible penalties                                    |\n",
      "| Technological Obsolescence                    | Owner may be stuck with outdated technology or features                                                   | Ability to upgrade to newer model with latest technology at end of lease term                             |\n",
      "| Opportunity Cost of Capital                   | Capital tied up in vehicle ownership could be used elsewhere                                              | Less capital required upfront; frees up funds for other investments                                       |\n",
      "| Mileage Limits and Penalties                  | No mileage restrictions; can drive unlimited miles                                                        | Mileage limits apply; excess mileage results in additional fees                                           |\n",
      "| Wear and Tear Charges                         | Owner bears cost of excessive wear but has control over repairs                                           | Excess wear and tear charges may apply at lease end                                                       |\n",
      "| No Equity Built in Vehicle                    | Equity builds over time; potential asset at end of loan                                                   | No equity or ownership; payments do not contribute to ownership                                           |\n",
      "| Early Termination Fees                        | Can sell the car at any time, though may incur loss if loan balance exceeds car value                     | Early lease termination can result in substantial fees and penalties                                      |\n",
      "| Insurance Gap Coverage Needed                 | May be optional; depreciation could result in owing more than car's value                                 | Often required; protects against owing the difference between insurance payout and lease balance          |\n",
      "| Flexibility to Modify Car                     | Full freedom to customize or modify the vehicle                                                           | Modifications typically prohibited; must return car in original condition                                 |\n",
      "| Total Cost Over Time                          | Potentially lower total cost if kept long-term and maintenance costs are manageable                       | Potentially higher total cost over similar period due to continuous lease payments                        |\n",
      "| Obligation Period                             | Commitment until loan is paid off or car is sold                                                          | Fixed lease term commitment; less flexibility to exit agreement early                                     |\n",
      "| Impact of Market Conditions                   | Changes in used car market affect resale value and total cost of ownership                                | Lessee is insulated from market fluctuations; residual value risk is on the lessor                        |\n",
      "| Tax Considerations                            | Possible tax deductions for interest paid (subject to tax laws)                                           | Lease payments may be tax-deductible if car is used for business purposes                                 |\n",
      "| Credit Score Impact                           | Loan default negatively impacts credit score                                                              | Lease default negatively impacts credit score                                                             |\n",
      "| End of Term Options                           | Own the car outright, sell, or trade in for a new vehicle                                                 | Options to return the car, purchase it at residual value, or lease a new vehicle                          |\n",
      "| Flexibility of Use                            | Unlimited personal use; ownership allows for any usage                                                    | Use is limited by lease terms; restrictions on commercial use or ride-sharing services may apply          |\n"
     ]
    }
   ],
   "source": [
    "// Create a system prompt instruction to override the default system prompt\n",
    "// Add the System Prompt (Persona) to behave like a decision intelligence assistant\n",
    "var systemPromptForDecisions = \"\"\"\n",
    "You are a Decision Intelligence Assistant. \n",
    "Assist the user in exploring options, reasoning through decisions, problem-solving.\n",
    "Apply systems thinking to various scenarios. \n",
    "Provide structured, logical, and comprehensive advice.\n",
    "\"\"\";\n",
    "var decisionAnalysisPrompt = \"\"\"\n",
    "Perform an advanced premortem analysis on the following scenario:\n",
    "You are deciding to purchase a new car versus leasing a car.\n",
    "\n",
    "Output the risk factors, uncertainties, and potential outcomes ONLY in a Markdown table.\n",
    "Create a column for each option (Purchase, Lease) and which risk factor or uncertainty applies to each option.\n",
    "Do not surround the markdown with triple backticks.\n",
    "\"\"\";\n",
    "\n",
    "// How the prompt looks like to the LLM\n",
    "var simpleDecisionPromptTemplate = $\"\"\"\n",
    "System Prompt: {systemPromptForDecisions}\n",
    "\n",
    "Request from the user: {decisionAnalysisPrompt}\n",
    "\"\"\";\n",
    "\n",
    "var simplePromptResponse = await semanticKernel.InvokePromptAsync(decisionAnalysisPrompt);\n",
    "Console.WriteLine(simplePromptResponse.GetValue<string>());"
   ]
  },
  {
   "cell_type": "markdown",
   "metadata": {},
   "source": [
    "| Risk Factor / Uncertainty / Potential Outcome | Purchase                                                                                                | Lease                                                                                                    |\n",
    "|-----------------------------------------------|-----------------------------------------------------------------------------------------------------------|----------------------------------------------------------------------------------------------------------|\n",
    "| High Upfront Cost                             | High initial payment required for down payment and taxes                                                  | Lower initial payment; typically only first month's payment and fees                                     |\n",
    "| Depreciation of Vehicle Value                 | Owner bears the full depreciation cost over time                                                          | Depreciation is factored into lease payments; less concern for lessee                                     |\n",
    "| Maintenance Costs After Warranty              | Owner responsible for all maintenance and repair costs after warranty expiration                          | Maintenance may be covered under lease terms; newer cars less likely to need repairs                      |\n",
    "| Resale Value Uncertainty                      | Uncertain future resale value can affect total cost of ownership                                          | Not applicable; no need to resell the vehicle at end of lease                                             |\n",
    "| Financing Costs (Interest Rates)              | Interest rates on auto loan affect total purchase cost                                                    | Interest rates affect lease payments; money factor (lease equivalent of interest rate) applies            |\n",
    "| Changes in Personal Circumstances             | Financial hardship could lead to loan default or need to sell the car                                     | Financial hardship could lead to lease default with possible penalties                                    |\n",
    "| Technological Obsolescence                    | Owner may be stuck with outdated technology or features                                                   | Ability to upgrade to newer model with latest technology at end of lease term                             |\n",
    "| Opportunity Cost of Capital                   | Capital tied up in vehicle ownership could be used elsewhere                                              | Less capital required upfront; frees up funds for other investments                                       |\n",
    "| Mileage Limits and Penalties                  | No mileage restrictions; can drive unlimited miles                                                        | Mileage limits apply; excess mileage results in additional fees                                           |\n",
    "| Wear and Tear Charges                         | Owner bears cost of excessive wear but has control over repairs                                           | Excess wear and tear charges may apply at lease end                                                       |\n",
    "| No Equity Built in Vehicle                    | Equity builds over time; potential asset at end of loan                                                   | No equity or ownership; payments do not contribute to ownership                                           |\n",
    "| Early Termination Fees                        | Can sell the car at any time, though may incur loss if loan balance exceeds car value                     | Early lease termination can result in substantial fees and penalties                                      |\n",
    "| Insurance Gap Coverage Needed                 | May be optional; depreciation could result in owing more than car's value                                 | Often required; protects against owing the difference between insurance payout and lease balance          |\n",
    "| Flexibility to Modify Car                     | Full freedom to customize or modify the vehicle                                                           | Modifications typically prohibited; must return car in original condition                                 |\n",
    "| Total Cost Over Time                          | Potentially lower total cost if kept long-term and maintenance costs are manageable                       | Potentially higher total cost over similar period due to continuous lease payments                        |\n",
    "| Obligation Period                             | Commitment until loan is paid off or car is sold                                                          | Fixed lease term commitment; less flexibility to exit agreement early                                     |\n",
    "| Impact of Market Conditions                   | Changes in used car market affect resale value and total cost of ownership                                | Lessee is insulated from market fluctuations; residual value risk is on the lessor                        |\n",
    "| Tax Considerations                            | Possible tax deductions for interest paid (subject to tax laws)                                           | Lease payments may be tax-deductible if car is used for business purposes                                 |\n",
    "| Credit Score Impact                           | Loan default negatively impacts credit score                                                              | Lease default negatively impacts credit score                                                             |\n",
    "| End of Term Options                           | Own the car outright, sell, or trade in for a new vehicle                                                 | Options to return the car, purchase it at residual value, or lease a new vehicle                          |\n",
    "| Flexibility of Use                            | Unlimited personal use; ownership allows for any usage                                                    | Use is limited by lease terms; restrictions on commercial use or ride-sharing services may apply          |"
   ]
  }
 ],
 "metadata": {
  "kernelspec": {
   "display_name": ".NET (C#)",
   "language": "C#",
   "name": ".net-csharp"
  },
  "language_info": {
   "name": "python"
  },
  "polyglot_notebook": {
   "kernelInfo": {
    "defaultKernelName": "csharp",
    "items": [
     {
      "aliases": [],
      "name": "csharp"
     }
    ]
   }
  }
 },
 "nbformat": 4,
 "nbformat_minor": 2
}
