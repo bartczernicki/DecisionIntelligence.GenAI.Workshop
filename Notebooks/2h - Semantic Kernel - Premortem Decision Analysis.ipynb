{
 "cells": [
  {
   "cell_type": "markdown",
   "metadata": {},
   "source": [
    "<img style=\"float: left;padding-right: 10px\" width =\"40px\" src=\"https://raw.githubusercontent.com/bartczernicki/DecisionIntelligence.GenAI.Workshop/main/Images/SemanticKernelLogo.png\">\n",
    "\n",
    "## Semantic Kernel - Premortem Decision Analysis  "
   ]
  },
  {
   "cell_type": "markdown",
   "metadata": {},
   "source": [
    "Decision Intelligence applied in this module:  \n",
    "* Using Premortem Decision Analysis to improve decision quality & outcomes  \n",
    "* Using a Premortem decision output for improving of Gathering Intelligence \n",
    "* Apply a Decision Framework to Premortem Decision Analysis \n"
   ]
  },
  {
   "cell_type": "markdown",
   "metadata": {},
   "source": [
    "### What is a Premortem (Pre-Mortem)  "
   ]
  },
  {
   "cell_type": "markdown",
   "metadata": {},
   "source": [
    "You have probably heard of a **postmortem (post-mortem)**, which is a look back at an actual failure (or success) to understand why it happened and learn from it. In the context of decision making, after the decision outcome is clear you can analyze why the result occured. \n",
    "\n",
    "In a **premortem (pre-mortem)** the outcome is \"imagined\" and then it is figured out why that potential \"imagined\" outcome happened. In a premortem a planning exercise where a team imagines that a project or decision has already succeeded or failed. The team then works backward, brainstorming what might have caused things to go wrong. This approach allows everyone to spot potential problems and fix them before starting the project. Therefore, it’s a bit like predicting the future and using that prediction to make the project stronger.  "
   ]
  },
  {
   "cell_type": "markdown",
   "metadata": {},
   "source": [
    "### Example Premortem Scenario  "
   ]
  },
  {
   "cell_type": "markdown",
   "metadata": {},
   "source": [
    "Imagine you're about to buy a car. In a pre-mortem, you pretend the purchase turned out to be a disaster. Now, ask yourself: What went wrong?\n",
    "\n",
    "Here are some potential reasons:  \n",
    "\n",
    "* **Financial issues:** You realize later you can’t comfortably afford the monthly payments or maintenance costs.  \n",
    "* **Unexpected repairs:** The car has hidden mechanical problems, leading to costly repairs.  \n",
    "* **Insurance costs:** Insurance is much higher than expected, impacting your budget.\n",
    "* **Poor fuel efficiency:** The car uses more gas than you thought, making it expensive to drive.\n",
    "Resale value drop: The car’s value plummets quickly, leaving you with less if you want to sell or trade it.  \n",
    "\n",
    "By imagining these issues in advance, you could decide to thoroughly check maintenance records, test drive more carefully, or reassess your budget to avoid these potential problems.\n",
    "\n",
    "How can Generative AI help? Using Generative AI, the LLM models can be used to \"imagine\" outcomes and also brainstorm potential reasons why that certain outcome occured. "
   ]
  }
 ],
 "metadata": {
  "language_info": {
   "name": "python"
  }
 },
 "nbformat": 4,
 "nbformat_minor": 2
}
