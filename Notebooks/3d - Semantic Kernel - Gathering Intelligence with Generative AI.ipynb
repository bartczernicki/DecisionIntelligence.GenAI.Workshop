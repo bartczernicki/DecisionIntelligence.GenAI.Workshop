{
 "cells": [
  {
   "cell_type": "markdown",
   "metadata": {},
   "source": [
    "<img style=\"float: left;padding-right: 10px\" width =\"40px\" src=\"https://raw.githubusercontent.com/bartczernicki/DecisionIntelligence.GenAI.Workshop/main/Images/SemanticKernelLogo.png\">\n",
    "\n",
    "## Semantic Kernel - Gathering Intelligence with Generative AI   "
   ]
  },
  {
   "cell_type": "markdown",
   "metadata": {},
   "source": [
    "### Step 1 - Initialize Configuration Builder & Build the Semantic Kernel Orchestration "
   ]
  },
  {
   "cell_type": "code",
   "execution_count": 1,
   "metadata": {
    "dotnet_interactive": {
     "language": "csharp"
    },
    "polyglot_notebook": {
     "kernelName": "csharp"
    },
    "vscode": {
     "languageId": "polyglot-notebook"
    }
   },
   "outputs": [
    {
     "data": {
      "text/html": [
       "<div><div></div><div></div><div><strong>Installed Packages</strong><ul><li><span>Microsoft.Extensions.Configuration, 9.0.4</span></li><li><span>Microsoft.Extensions.Configuration.Json, 9.0.4</span></li><li><span>Microsoft.SemanticKernel, 1.47.0</span></li><li><span>Microsoft.SemanticKernel.Plugins.Core, 1.47.0-alpha</span></li></ul></div></div>"
      ]
     },
     "metadata": {},
     "output_type": "display_data"
    }
   ],
   "source": [
    "#r \"nuget: Microsoft.Extensions.Configuration, 9.0.4\"\n",
    "#r \"nuget: Microsoft.Extensions.Configuration.Json, 9.0.4\"\n",
    "#r \"nuget: Microsoft.SemanticKernel, 1.47\"\n",
    "#r \"nuget: Microsoft.SemanticKernel.Plugins.Core, 1.47-alpha\"\n",
    "\n",
    "using Microsoft.Extensions.Configuration.Json;\n",
    "using Microsoft.Extensions.Configuration;\n",
    "using Microsoft.SemanticKernel;\n",
    "using Microsoft.SemanticKernel.ChatCompletion;\n",
    "using Microsoft.SemanticKernel.Connectors.OpenAI;\n",
    "using System.IO;\n",
    "\n",
    "var configurationBuilder = new ConfigurationBuilder()\n",
    "    .SetBasePath(Directory.GetCurrentDirectory())\n",
    "    .AddJsonFile(\"local.settings.json\", optional: true, reloadOnChange: true)\n",
    "    .AddJsonFile(\"secrets.settings.json\", optional: true, reloadOnChange: true);\n",
    "var config = configurationBuilder.Build();\n",
    "\n",
    "// IMPORTANT: You ONLY NEED either Azure OpenAI or OpenAI connectiopn info, not both.\n",
    "// Azure OpenAI Connection Info using REASONING o-series of models\n",
    "var azureOpenAIEndpoint = config[\"AzureOpenAI:reasoningEndpoint\"];\n",
    "var azureOpenAIAPIKey = config[\"AzureOpenAI:reasoningAPIKey\"];\n",
    "var azureOpenAIModelDeploymentName = config[\"AzureOpenAI:reasoningModelDeploymentName\"];\n",
    "// OpenAI Connection Info \n",
    "var openAIAPIKey = config[\"OpenAI:APIKey\"];\n",
    "var openAIModelId = config[\"OpenAI:ModelId\"];"
   ]
  },
  {
   "cell_type": "code",
   "execution_count": 2,
   "metadata": {
    "dotnet_interactive": {
     "language": "csharp"
    },
    "polyglot_notebook": {
     "kernelName": "csharp"
    },
    "vscode": {
     "languageId": "polyglot-notebook"
    }
   },
   "outputs": [
    {
     "name": "stdout",
     "output_type": "stream",
     "text": [
      "Using Azure OpenAI Service\n"
     ]
    }
   ],
   "source": [
    "using Microsoft.Extensions.DependencyInjection.Extensions;\n",
    "using Microsoft.Extensions.DependencyInjection;\n",
    "using Microsoft.SemanticKernel;\n",
    "using Microsoft.SemanticKernel.ChatCompletion;\n",
    "using Microsoft.SemanticKernel.Connectors.OpenAI;\n",
    "\n",
    "Kernel semanticKernel;\n",
    "\n",
    "// Set the flag to use Azure OpenAI or OpenAI. False to use OpenAI, True to use Azure OpenAI\n",
    "var useAzureOpenAI = true;\n",
    "\n",
    "// Create a new Semantic Kernel instance\n",
    "if (useAzureOpenAI)\n",
    "{\n",
    "    Console.WriteLine(\"Using Azure OpenAI Service\");\n",
    "    semanticKernel = Kernel.CreateBuilder()\n",
    "        .AddAzureOpenAIChatCompletion(\n",
    "            deploymentName: azureOpenAIModelDeploymentName,\n",
    "            endpoint: azureOpenAIEndpoint,\n",
    "            apiKey: azureOpenAIAPIKey)\n",
    "        .Build();\n",
    "}\n",
    "else\n",
    "{\n",
    "    Console.WriteLine(\"Using OpenAI Service\");\n",
    "    semanticKernel = Kernel.CreateBuilder()\n",
    "        .AddOpenAIChatCompletion(\n",
    "            modelId: openAIModelId,\n",
    "            apiKey: openAIAPIKey)\n",
    "        .Build();\n",
    "}\n",
    "\n",
    "var chatCompletionService = semanticKernel.Services.GetRequiredService<IChatCompletionService>();"
   ]
  },
  {
   "cell_type": "markdown",
   "metadata": {},
   "source": [
    "### Step 2 - Gathering Intelligence with Built-In Generative AI Knowledge "
   ]
  },
  {
   "cell_type": "markdown",
   "metadata": {},
   "source": [
    "Generative AI models are trained on very large amounts of data. This data includes decision-making techniques, decision frameworks, reasoning techniques, decision best practices and other adjacent decision data that can help make decisions. Therefore, an obvious step in gathering Decision Intelligence that built-into the GenAI model is important to understand.  \n",
    "\n",
    "Certain models (typically those that have more parameters) have more \"intelligence built-in\". Furthermore, models that specialize in certain tasks or a fine-tuned for a specific domain can also have more intelligence built-in. A great example of model specialization is the OpenAI o-series of models. The o-series of models are advanced reasoning models that are a great fit for decision-making. Therefore, it is a good hypotheses to test if these reasoning models have additional Decision Intelligence data built-in.  \n",
    "\n",
    "Execute the cell below to view the prompt output asking for a \"complete\" list of Decision Frameworks built-into the o1 series of models."
   ]
  },
  {
   "cell_type": "code",
   "execution_count": 3,
   "metadata": {
    "dotnet_interactive": {
     "language": "csharp"
    },
    "polyglot_notebook": {
     "kernelName": "csharp"
    },
    "vscode": {
     "languageId": "polyglot-notebook"
    }
   },
   "outputs": [
    {
     "name": "stdout",
     "output_type": "stream",
     "text": [
      "| Number | Framework Name                           | Description                                                                                                                                                                                                                                                                                       |\n",
      "|--------|------------------------------------------|---------------------------------------------------------------------------------------------------------------------------------------------------------------------------------------------------------------------------------------------------------------------------------------------------|\n",
      "| 1      | Rational Decision-Making Model           | A logical, step-by-step process to define problems, identify alternatives, evaluate options, and choose the optimal solution based on consistent criteria.                                                                                                                                      |\n",
      "| 2      | Bounded Rationality                      | Recognizes human cognitive and informational limits, guiding decisions toward satisfactory solutions rather than optimal ones, making the process more realistic and efficient.                                                                                                               |\n",
      "| 3      | Cost-Benefit Analysis                    | Compares the costs and benefits of each option, providing a financial and value-based perspective that aids in evaluating the overall feasibility of alternatives.                                                                                                                              |\n",
      "| 4      | Multi-Criteria Decision Analysis (MCDA)  | Evaluates alternatives using multiple weighted criteria, ensuring a balanced assessment of complex decisions by quantifying diverse factors.                                                                                                                                                     |\n",
      "| 5      | Analytic Hierarchy Process (AHP)         | Structures complex decisions into a hierarchy of sub-problems and uses pairwise comparisons to assign priorities, enhancing clarity and objectivity in decision-making.                                                                                                                         |\n",
      "| 6      | Decision Tree Analysis                   | Graphically maps decisions with their possible outcomes and associated probabilities, helping visualize risks and benefits to make informed choices.                                                                                                                                              |\n",
      "| 7      | SWOT Analysis                            | Assesses internal strengths and weaknesses along with external opportunities and threats, providing a strategic framework for evaluating a situation holistically.                                                                                                                           |\n",
      "| 8      | PEST/PESTLE Analysis                     | Examines external macro-environmental factors (Political, Economic, Social, Technological, Legal, Environmental) to contextualize decisions in a broader environment.                                                                                                                        |\n",
      "| 9      | OODA Loop                                | Uses a cyclical process (Observe, Orient, Decide, Act) to enable rapid and adaptive decision-making, ideal for fast-paced or competitive scenarios.                                                                                                                                           |\n",
      "| 10     | PDCA Cycle                               | Emphasizes continuous improvement through an iterative cycle (Plan, Do, Check, Act), encouraging ongoing evaluation and refinement of decisions.                                                                                                                                              |\n",
      "| 11     | Delphi Method                            | Gathers expert opinions iteratively to build consensus and reduce uncertainty, particularly useful for complex or forecast-based decisions.                                                                                                                                                     |\n",
      "| 12     | Six Thinking Hats                        | Separates the decision process into distinct perspectives (e.g., factual, emotional, creative), promoting comprehensive analysis by considering multiple viewpoints.                                                                                                                         |\n",
      "| 13     | Scenario Planning                        | Develops and evaluates multiple future scenarios to anticipate potential challenges and opportunities, enhancing strategic resilience in decision-making.                                                                                                                                      |\n",
      "| 14     | Risk Analysis / FMEA                     | Identifies potential failures and assesses their impacts, prioritizing risks and supporting proactive measures to mitigate negative outcomes.                                                                                                                                                   |\n",
      "| 15     | Bayesian Decision Theory                 | Uses probabilistic reasoning and evidence updating to continuously refine decisions under uncertainty, leading to more informed outcomes as new information emerges.                                                                                                                      |\n",
      "| 16     | Monte Carlo Simulation                   | Applies statistical modeling and random sampling to simulate a range of outcomes, quantifying uncertainties and helping assess risks in complex decisions.                                                                                                                                     |\n",
      "| 17     | Game Theory                              | Analyzes strategic interactions among stakeholders, offering insights into competitive and cooperative behavior to determine optimal strategies in interdependent situations.                                                                                                              |\n",
      "| 18     | Value-Focused Thinking                   | Shifts the focus from selecting among preset alternatives to identifying and creating options that maximize underlying values and objectives.                                                                                                                                                  |\n",
      "| 19     | Eisenhower Matrix                        | Prioritizes tasks and decisions based on urgency and importance, enhancing time management and ensuring focus on what truly matters.                                                                                                                                                           |\n",
      "| 20     | Force Field Analysis                     | Evaluates the driving and restraining forces influencing a decision, enabling targeted strategies to amplify positive influences and mitigate obstacles.                                                                                                                                     |\n",
      "| 21     | Kepner-Tregoe Decision Analysis          | Employs a systematic approach to problem identification and risk evaluation, breaking down complex decisions into manageable components for clearer analysis.                                                                                                                               |\n",
      "| 22     | DMAIC (Define, Measure, Analyze, Improve, Control) | A Six Sigma framework that guides decision-making through data-driven process improvement, emphasizing a structured, iterative approach to identifying and solving problems.                                                                                                      |\n"
     ]
    }
   ],
   "source": [
    "// Create a system prompt instruction to override the default system prompt\n",
    "// Add the System Prompt (Persona) to behave like a decision intelligence assistant\n",
    "var systemPromptForDecisions = \"\"\"\n",
    "You are a Decision Intelligence Assistant. \n",
    "Assist the user in exploring options, reasoning through decisions, problem-solving.\n",
    "Apply systems thinking to various scenarios. \n",
    "Provide structured, logical, and comprehensive advice.\n",
    "\"\"\";\n",
    "var decisionAnalysisPrompt = \"\"\"\n",
    "Identify and a very complete list of decision-making frameworks that can enhance the quality of decisions. \n",
    "Briefly describe how each framework supports better analysis and reasoning in different decision-making scenarios.\n",
    "\n",
    "Create a column for the Number (in ascending order), framework name and decsription.\n",
    "Surface the gathered frameworks in a Markdown table format. Do not surround the markdown with triple backticks.\n",
    "Only return the Markdown table no other text.\n",
    "\"\"\";\n",
    "\n",
    "// How the prompt looks like to the LLM\n",
    "var simpleDecisionPromptTemplate = $\"\"\"\n",
    "System Prompt: {systemPromptForDecisions}\n",
    "\n",
    "Request from the user: {decisionAnalysisPrompt}\n",
    "\"\"\";\n",
    "\n",
    "#pragma warning disable SKEXP0010\n",
    "var openAIPromptExecutionSettings = new OpenAIPromptExecutionSettings { \n",
    "    ReasoningEffort = \"high\"\n",
    "};\n",
    "\n",
    "KernelArguments kernelArguments = new KernelArguments(openAIPromptExecutionSettings);\n",
    "var simplePromptResponse = await semanticKernel.InvokePromptAsync(decisionAnalysisPrompt, kernelArguments);\n",
    "Console.WriteLine(simplePromptResponse.GetValue<string>());"
   ]
  },
  {
   "cell_type": "markdown",
   "metadata": {},
   "source": [
    "| Number | Framework Name | Description |\n",
    "| --- | --- | --- |\n",
    "| 1 | SWOT Analysis | Analyzes internal strengths and weaknesses alongside external opportunities and threats, helping to clarify strategic directions. |\n",
    "| 2 | PEST Analysis | Examines Political, Economic, Social, and Technological factors to assess external influences that affect decision outcomes. |\n",
    "| 3 | Decision Matrix Analysis | Uses weighted criteria to systematically compare alternatives, ensuring a clear and objective evaluation of options. |\n",
    "| 4 | Cost-Benefit Analysis | Weighs the expected costs against the potential benefits to identify the most economically advantageous option. |\n",
    "| 5 | Risk Analysis | Identifies potential risks and their impacts, enabling decision-makers to manage uncertainties effectively. |\n",
    "| 6 | Force Field Analysis | Maps driving and restraining forces in a situation, aiding in the development of strategies to overcome resistance. |\n",
    "| 7 | Analytical Hierarchy Process (AHP) | Breaks complex decisions into a hierarchy of criteria and sub-criteria, employing pairwise comparisons to set priorities. |\n",
    "| 8 | Monte Carlo Simulation | Uses probabilistic modeling to simulate various scenarios under uncertainty, offering insights into potential outcomes. |\n",
    "| 9 | Decision Tree Analysis | Visualizes decision paths, associated probabilities, and payoffs, enabling a clear understanding of potential consequences. |\n",
    "| 10 | Scenario Planning | Develops multiple future scenarios to test strategies against different potential environments, enhancing strategic flexibility. |\n",
    "| 11 | Six Thinking Hats | Encourages thinking from diverse perspectives (e.g., emotional, analytical, creative) to ensure a holistic evaluation of issues. |\n",
    "| 12 | Delphi Method | Gathers iterative expert insights to achieve consensus, reducing bias and enhancing decision quality in complex situations. |\n",
    "| 13 | OODA Loop (Observe, Orient, Decide, Act) | Promotes rapid, iterative decision cycles to adapt quickly in dynamic, competitive, or high-pressure environments. |\n",
    "| 14 | Vroom-Yetton Decision Model | Aligns decision-making processes with situational factors by balancing autocratic and participative approaches for optimal leadership decisions. |\n",
    "| 15 | Eisenhower Matrix | Prioritizes tasks based on urgency and importance, guiding individuals to focus on high-impact activities. |\n",
    "| 16 | Pareto Analysis | Identifies the critical few factors that yield the majority of results, streamlining focus and resource allocation. |\n",
    "| 17 | PDCA Cycle (Plan-Do-Check-Act) | Implements continuous improvement through an iterative cycle of planning, execution, evaluation, and refinement. |\n",
    "| 18 | Game Theory | Analyzes strategic interactions where outcomes depend on the actions of multiple agents, enhancing competitive decision-making. |\n",
    "| 19 | Sensitivity Analysis | Tests how variations in key variables affect outcomes, ensuring decisions remain robust under different scenarios. |\n",
    "| 20 | Failure Mode and Effects Analysis (FMEA) | Identifies and prioritizes potential failure points within a process to proactively mitigate risks and enhance reliability. |"
   ]
  },
  {
   "cell_type": "markdown",
   "metadata": {},
   "source": [
    "The prompt paired with the reasoning model above likely returned a list of ~20 (depending on randomness) Decision Frameworks it is aware of. Presumably, because it described these decision frameworks, it should be able to operate on them to make decisions. This highlights just some of decision-making capability of the reasoning series of model. What if there are more decision frameworks that are available? This is potentially just a list of the top frameworks (and certainly not complete) of frameworks the model has identified. There could be a great deal more!\n",
    "\n",
    "The code below will iterate several times (5x) and continue to prompt the GenAI model with the same instruction until a more comprehensive list is built. Notice the output below can have well over 100 decision-frameworks that the o1 series model is aware of."
   ]
  },
  {
   "cell_type": "code",
   "execution_count": 4,
   "metadata": {
    "dotnet_interactive": {
     "language": "csharp"
    },
    "polyglot_notebook": {
     "kernelName": "csharp"
    },
    "vscode": {
     "languageId": "polyglot-notebook"
    }
   },
   "outputs": [
    {
     "name": "stdout",
     "output_type": "stream",
     "text": [
      "Finished Gethering Intelligence Iteration: 1\n",
      "Finished Gethering Intelligence Iteration: 2\n",
      "Finished Gethering Intelligence Iteration: 3\n",
      "Finished Gethering Intelligence Iteration: 4\n",
      "Finished Gethering Intelligence Iteration: 5\n",
      "\n",
      "Filtering for RISK ANALYSIS frameworks...\n",
      "| Number | Decision-Framework Name                                             | Value | Description                                                                                                                                                              |\n",
      "|--------|---------------------------------------------------------------------|-------|--------------------------------------------------------------------------------------------------------------------------------------------------------------------------|\n",
      "| 1      | Cost-Benefit Analysis                                               | 9     | Analyzes the pros and cons by quantifying costs and benefits, essential for financial and strategic decisions.                                                           |\n",
      "| 2      | Multi-Criteria Decision Analysis (MCDA)                             | 9     | Evaluates alternatives based on multiple conflicting criteria, facilitating structured decision-making in complex scenarios.                                               |\n",
      "| 3      | Analytical Hierarchy Process (AHP)                                  | 9     | Uses pairwise comparisons to rank decision alternatives, breaking down complex problems into more manageable elements and reducing subjectivity.                        |\n",
      "| 4      | Monte Carlo Simulation                                              | 9     | Uses random sampling techniques to model uncertainties and assess risk, highly effective for complex systems where variability impacts outcomes.                         |\n",
      "| 5      | Scenario Planning                                                   | 9     | Explores multiple future possibilities through structured scenarios, enabling organizations to prepare for various strategic outcomes.                                   |\n",
      "| 6      | Game Theory                                                         | 9     | Analyzes strategic interactions among rational agents, helping decision-makers understand competitive behaviors and optimize outcomes in adversarial environments.     |\n",
      "| 7      | Regret Minimization Framework                                       | 9     | Focuses on minimizing future regret by evaluating potential long-term consequences, encouraging decisions that align with personal or organizational values.            |\n",
      "| 8      | Robust Decision Making (RDM)                                          | 9     | Focuses on creating strategies that remain effective across a wide range of uncertain future conditions, ideal for long-term planning under deep uncertainty.         |\n",
      "| 9      | Strategic Foresight                                                 | 9     | Integrates trend analysis and scenario planning to anticipate long-term developments, supporting proactive strategies in an evolving landscape.                        |\n",
      "| 10     | Systems Thinking                                                    | 9     | Emphasizes understanding the interconnections within complex systems, promoting holistic solutions and improved decision-making across interdependent factors.        |\n",
      "| 11     | Decision Trees                                                      | 8     | Visualizes choices and potential outcomes using a tree-like structure, ideal for mapping sequential decisions with probabilistic risks.                                   |\n",
      "| 12     | Bayesian Decision Theory                                            | 8     | Incorporates probabilistic reasoning and evidence updating, ideal for making rational decisions under uncertainty.                                                         |\n",
      "| 13     | Failure Mode and Effects Analysis (FMEA)                            | 8     | Systematically examines potential failure points, assesses their impacts, and prioritizes corrective actions, aiding in risk reduction and reliability improvement.   |\n",
      "| 14     | Sensitivity Analysis                                                | 8     | Assesses how variations in input variables impact the overall outcome, providing insight into which factors most influence the decision under uncertainty.             |\n",
      "| 15     | Root Cause Analysis (RCA)                                             | 8     | Investigates underlying causes of problems rather than superficial symptoms, enabling effective identification of issues to support sustainable corrective actions. |\n",
      "| 16     | Real Options Analysis                                               | 8     | Evaluates the value of flexibility and future decision-making opportunities under uncertainty, particularly useful in strategic investments and dynamic markets.       |\n",
      "| 17     | Influence Diagrams                                                  | 8     | Graphically represents the relationships among decisions, uncertainties, and objectives, simplifying complex problems through visual reasoning and dependency mapping. |\n",
      "| 18     | Pre-Mortem Analysis                                                 | 8     | Uses prospective hindsight to anticipate potential failure points before implementation, enhancing risk management and corrective planning.                            |\n",
      "| 19     | Expected Utility Theory                                             | 8     | Uses probability-weighted outcomes to determine the most beneficial decision, integrating risk and reward considerations under uncertainty.                             |\n",
      "| 20     | Value of Information Analysis                                       | 8     | Determines the benefit of obtaining additional information before making a decision, helping to weigh the cost of research against potential improvements in accuracy. |\n"
     ]
    }
   ],
   "source": [
    "// Create a system prompt instruction to override the default system prompt\n",
    "// Add the System Prompt (Persona) to behave like a decision intelligence assistant\n",
    "var markDownTaleOfDecisionFrameworks = string.Empty;\n",
    "\n",
    "// This can quite a long time. View the output results below to see the final markdown table\n",
    "// Note: This is done for illustrative purposes. \n",
    "// Ideally, the markdown formatting and combining of tables should be done in seperate steps for optimal results.\n",
    "for (int i = 0; i != 5; i++)\n",
    "{\n",
    "    var systemPromptForDecisions = $\"\"\"\n",
    "    You are a Decision Intelligence Assistant. \n",
    "    Assist the user in exploring options, reasoning through decisions, problem-solving.\n",
    "    Apply systems thinking to various scenarios. \n",
    "    Provide structured, logical, and comprehensive advice.\n",
    "    \"\"\";\n",
    "    var decisionAnalysisPrompt = $\"\"\"\n",
    "    Identify and a very comprehensive list of decision-making frameworks that can enhance the quality of decisions. \n",
    "    Briefly describe how each framework supports better analysis and reasoning in different decision-making scenarios.\n",
    "\n",
    "    Surface the gathered frameworks in a Markdown table format. Do not surround the markdown with triple backticks.\n",
    "    The FOUR table columns should be: \n",
    "    Number (in ascending order), Decision-Framework Name, \n",
    "    Value (a number between 1 to 10, how valueable the framework is) and Description.\n",
    "    Only return the Markdown table no other text.\n",
    "\n",
    "    This prompt is going to be called several times to gather a full list of decision-making frameworks. \n",
    "    The previous Markdown table is located in the area surrounded by <DecisionMakingFrameworks> tags.\n",
    "    Make sure to copy the table found in the previous responses and append new unique frameworks to the table. \n",
    "    DO NOT discard the previous Markdown table found in the <DecisionMakingFrameworks> tags.\n",
    "    Add new unique frameworks by appending to the previous Markdown table. Do not recreate the table header.\n",
    "    The final Markdown table output should include both:\n",
    "    The previous markdown table (found in the <DecisionMakingFrameworks> Tags) combined with new unique frameworks output in a single table.\n",
    "\n",
    "    <DecisionMakingFrameworks>\n",
    "    {markDownTaleOfDecisionFrameworks}\n",
    "    </DecisionMakingFrameworks>.\n",
    "    \"\"\";\n",
    "\n",
    "    // How the prompt looks like to the LLM\n",
    "    var simpleDecisionPromptTemplate = $\"\"\"\n",
    "    System Prompt: {systemPromptForDecisions}\n",
    "\n",
    "    Request from the user: {decisionAnalysisPrompt}\n",
    "    \"\"\";\n",
    "\n",
    "    // Uncomment this line to view the debugging \n",
    "    // Console.WriteLine(decisionAnalysisPrompt);\n",
    "\n",
    "    var simplePromptResponse = await semanticKernel.InvokePromptAsync(decisionAnalysisPrompt);\n",
    "    // This will append the new markdown table to the previous markdown tables\n",
    "    markDownTaleOfDecisionFrameworks = simplePromptResponse.GetValue<string>();\n",
    "    Console.WriteLine($\"Finished Gethering Intelligence Iteration: {i + 1}\");\n",
    "}\n",
    "\n",
    "Console.WriteLine(string.Empty);\n",
    "Console.WriteLine(\"Filtering for RISK ANALYSIS frameworks...\");\n",
    "\n",
    "// Create a system prompt instruction to filter the markdown table for RISK ANALYSIS frameworks\n",
    "var riskAnalysisFrameworksPrompt = $\"\"\"\n",
    "You have the following Markdown table of decision-making frameworks.\n",
    "The table is located in the area surrounded by <DecisionMakingFrameworks> tags.\n",
    "\n",
    "<DecisionMakingFrameworks>\n",
    "{markDownTaleOfDecisionFrameworks}\n",
    "</DecisionMakingFrameworks>.\n",
    "\n",
    "Select the top 20 frameworks with the highest value (1-10) for RISK ANALYSIS and \n",
    "return them in a Markdown table format in descending order.\n",
    "\n",
    "Dot not provide any other text or explanation.  \n",
    "Return the Markdown table with the top 20 RISK ANALYSIS frameworks without any tick marks (```) or other text.\n",
    "Re-number the frameworks in the table in ascending order starting from 1.\n",
    "\"\"\";\n",
    "\n",
    "var riskAnalysisFrameworksPromptResponse = await semanticKernel.InvokePromptAsync(riskAnalysisFrameworksPrompt);\n",
    "// This will append the new markdown table to the previous markdown tables\n",
    "var riskAnalysisFrameworks = riskAnalysisFrameworksPromptResponse.GetValue<string>();\n",
    "\n",
    "// Write the final count and markdown table to the Console\n",
    "Console.WriteLine(riskAnalysisFrameworks);"
   ]
  },
  {
   "cell_type": "markdown",
   "metadata": {},
   "source": [
    "| Number | Decision-Framework Name                                | Value | Description                                                                                                                                                                             |\n",
    "|--------|--------------------------------------------------------|-------|-----------------------------------------------------------------------------------------------------------------------------------------------------------------------------------------|\n",
    "| 1      | Rational Decision-Making Model                         | 9     | Follows logical steps to identify, evaluate, and choose the best alternative based on systematic criteria.                                                                               |\n",
    "| 2      | Multi-Criteria Decision Analysis (MCDA)                | 9     | Evaluates options against multiple weighted criteria, ideal for complex decisions with varied performance measures.                                                                      |\n",
    "| 3      | Analytic Hierarchy Process (AHP)                       | 9     | Breaks down complex decisions into a hierarchy of simpler sub-decisions and applies pairwise comparisons to quantify their relative importance, enhancing structured analysis.      |\n",
    "| 4      | Bayesian Decision Theory                               | 9     | Integrates prior knowledge with new evidence using Bayes' theorem, enabling probabilistic updates and adaptive decision-making under uncertainty.                                        |\n",
    "| 5      | Systems Thinking                                       | 9     | Emphasizes understanding and addressing interdependencies within a whole system, facilitating holistic, long-term solutions over isolated fixes.                                        |\n",
    "| 6      | Real Options Analysis                                  | 9     | Uses financial option theory to evaluate strategic investments by quantifying the value of flexibility under uncertainty, making it ideal for incremental decision-making.           |\n",
    "| 7      | Expected Utility Theory                                | 9     | Maximizes decision quality under uncertainty by calculating the expected outcomes weighted by their utilities, providing a rigorous quantitative basis for choice.                   |\n",
    "| 8      | Cost-Benefit Analysis                                  | 8     | Quantifies and compares the costs and benefits of different options to determine the net value of decisions.                                                                             |\n",
    "| 9      | Decision Trees                                         | 8     | Visual maps that outline decision paths, including possible outcomes, probabilities, and consequences for complex decision processes.                                                    |\n",
    "| 10     | OODA Loop                                              | 8     | A dynamic cyclical framework (Observe, Orient, Decide, Act) that accelerates decision-making in rapidly changing environments.                                                           |\n",
    "| 11     | Six Thinking Hats                                      | 8     | Encourages parallel thinking with distinct perspectives (rational, emotional, creative, etc.) to ensure balanced evaluation of options.                                                  |\n",
    "| 12     | Scenario Planning                                      | 8     | Explores diverse future scenarios to prepare strategies that are robust against uncertainty and external disruptions.                                                                     |\n",
    "| 13     | Failure Modes and Effects Analysis (FMEA)              | 8     | Identifies potential failure points and assesses their impact to proactively mitigate risks and improve decision quality.                                                                  |\n",
    "| 14     | PDCA Cycle                                             | 8     | Implements an iterative loop of planning, doing, checking, and acting for continuous improvement in processes and decisions.                                                              |\n",
    "| 15     | Root Cause Analysis (Five Whys)                        | 8     | Uses iterative questioning to trace a problem back to its underlying cause, ensuring more effective problem-solving.                                                                      |\n",
    "| 16     | Delphi Method                                          | 8     | Aggregates expert opinions through iterative surveys to reach consensus, particularly useful for decisions in uncertain or complex fields.                                               |\n",
    "| 17     | PESTLE Analysis                                        | 8     | Examines Political, Economic, Social, Technological, Legal, and Environmental factors to offer a comprehensive view of the external influences on a decision.                         |\n",
    "| 18     | Cynefin Framework                                      | 8     | Provides a sense-making model that categorizes problems into simple, complicated, complex, and chaotic domains to select the most appropriate decision-making approach.                |\n",
    "| 19     | Game Theory Analysis                                   | 8     | Applies strategic interaction principles to assess and predict the behavior of competing decision-makers, crucial in negotiating and competitive environments.                        |\n",
    "| 20     | Premortem Analysis                                     | 8     | Anticipates potential failures by imagining a decision's failure in advance and then working backward to identify possible causes, enhancing risk mitigation strategies.             |"
   ]
  },
  {
   "cell_type": "markdown",
   "metadata": {},
   "source": [
    "### Step 3 - Gathering Intelligence with External Knowledge Stores"
   ]
  }
 ],
 "metadata": {
  "kernelspec": {
   "display_name": ".NET (C#)",
   "language": "C#",
   "name": ".net-csharp"
  },
  "language_info": {
   "name": "python"
  },
  "polyglot_notebook": {
   "kernelInfo": {
    "defaultKernelName": "csharp",
    "items": [
     {
      "aliases": [],
      "name": "csharp"
     }
    ]
   }
  }
 },
 "nbformat": 4,
 "nbformat_minor": 2
}
