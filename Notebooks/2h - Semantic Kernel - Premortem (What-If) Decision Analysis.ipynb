{
 "cells": [
  {
   "cell_type": "markdown",
   "metadata": {},
   "source": [
    "<img style=\"float: left;padding-right: 10px\" width =\"40px\" src=\"https://raw.githubusercontent.com/bartczernicki/DecisionIntelligence.GenAI.Workshop/main/Images/SemanticKernelLogo.png\">\n",
    "\n",
    "## Semantic Kernel - Premortem (What-If) Decision Analysis  "
   ]
  },
  {
   "cell_type": "markdown",
   "metadata": {},
   "source": [
    "Decision Intelligence applied in this module:  \n",
    "* Using Premortem Decision Analysis to improve decision quality & outcomes  \n",
    "* Using a Premortem decision output for improving of Gathering Intelligence \n",
    "* Attain different perspectives using mutliple decision frames  \n",
    "* Apply a Decision Framework to Premortem Decision Analysis \n"
   ]
  },
  {
   "cell_type": "markdown",
   "metadata": {},
   "source": [
    "### What is a Premortem (Pre-Mortem)  "
   ]
  },
  {
   "cell_type": "markdown",
   "metadata": {},
   "source": [
    "You have probably heard of a **postmortem (post-mortem)**, which is a look back at an actual failure (or success) to understand why it happened and learn from it. In the context of decision making, after the decision outcome is clear you can analyze why the result occured. For example, a hedge fund may host a postmortem meeting after analyzing an unsuccesful move on a tech stock that didn't materialize the return on investment as was planned. \n",
    "\n",
    "In a **premortem (pre-mortem)** the outcome is \"imagined\" and then it is figured out why that potential \"imagined\" outcome happened. In a premortem, a planning exercise is held where a team imagines that a project or decision has already succeeded or failed. The team then works backward, brainstorming what might have caused things to go wrong. This approach allows everyone to spot potential risks and address them before starting the project. Therefore, it’s a bit like predicting the future and using that prediction to make the forecast stronger. "
   ]
  },
  {
   "cell_type": "markdown",
   "metadata": {},
   "source": [
    "### Example Premortem Scenario  "
   ]
  },
  {
   "cell_type": "markdown",
   "metadata": {},
   "source": [
    "Imagine you're about to buy a new car. Let's \"imagine\" that the purchase decision results in either two outcomes a: **disaster** or a **successful** outcome. "
   ]
  },
  {
   "cell_type": "markdown",
   "metadata": {},
   "source": [
    "#### Disaster Outcome Premortem  "
   ]
  },
  {
   "cell_type": "markdown",
   "metadata": {},
   "source": [
    "<img style=\"display: block; margin: auto;\" width =\"700px\" src=\"https://raw.githubusercontent.com/bartczernicki/DecisionIntelligence.GenAI.Workshop/main/Images/Scenarios/Scenario-DecisionPremortem.png\">"
   ]
  },
  {
   "cell_type": "markdown",
   "metadata": {},
   "source": [
    "In a **premortem (pre-mortem)**, you pretend the car purchase turned out to be a disaster. Now, you ask yourself:  \n",
    "**What went wrong with the decision to buy a new car?**\n",
    "\n",
    "Here are some potential reasons:  \n",
    "\n",
    "* **Financial issues:** You realize later you can’t comfortably afford the monthly payments or maintenance costs.  \n",
    "* **Unexpected repairs:** The car has hidden mechanical problems, leading to costly repairs.  \n",
    "* **Insurance costs:** Insurance is much higher than expected, impacting your budget.\n",
    "* **Poor fuel efficiency:** The car uses more gas than you thought, making it expensive to drive.\n",
    "Resale value drop: The car’s value plummets quickly, leaving you with less if you want to sell or trade it.  "
   ]
  },
  {
   "cell_type": "markdown",
   "metadata": {},
   "source": [
    "#### Successful Outcome Premortem"
   ]
  },
  {
   "cell_type": "markdown",
   "metadata": {},
   "source": [
    "In a premortem for a successful car purchase, imagine you bought the car, and it turned out to be a succssful decision. Now, you ask yourself:  \n",
    "**What went right with the decision to buy a new car?**  \n",
    "\n",
    "Here are some potential reasons:\n",
    "\n",
    "* **Affordable and realistic budget:** You set a budget that allowed for comfortable monthly payments and covered insurance, fuel, and maintenance without straining your finances.  \n",
    "* **Thorough inspection:** You got a detailed inspection before buying, which confirmed the car was in excellent condition and minimized the risk of future repairs.\n",
    "* **Reliable model choice:** You researched models with a reputation for reliability, so you experience fewer repairs and smooth performance.\n",
    "* **Fuel efficiency matches needs:** You chose a car that meets your fuel efficiency needs, saving money on gas and fitting well with your daily driving habits.   \n",
    "* **High resale value:** You picked a make and model that holds its value well, giving you confidence that it’s a good long-term investment.  "
   ]
  },
  {
   "cell_type": "markdown",
   "metadata": {},
   "source": [
    "#### Premortem Analysis "
   ]
  },
  {
   "cell_type": "markdown",
   "metadata": {},
   "source": [
    "Imagining these successful outcomes helps you focus on these actions—like sticking to budget, getting a full inspection, and choosing a reliable model—so you’re more likely to make a purchase you’ll be happy with. \n",
    "\n",
    "By imagining these issues in advance, you could consider to thoroughly check maintenance records, buy additional warranty, test drive with similar terrain in your area, or reassess your budget to avoid these potential problems.\n",
    "\n",
    "How can Generative AI help? Using Generative AI, the LLM models can be used to \"imagine\" premortem outcomes and  brainstorm potential factors why that certain outcome occured. Generative AI agents can act as your \"premortem\" team. This can lead to additional questions, gathering of intelligence, checklists, negotiation leverage etc. you didn't consider initially. "
   ]
  },
  {
   "cell_type": "markdown",
   "metadata": {},
   "source": [
    "### Step 1 - Initialize Configuration Builder & Build the Semantic Kernel Orchestration "
   ]
  },
  {
   "cell_type": "code",
   "execution_count": 1,
   "metadata": {
    "dotnet_interactive": {
     "language": "csharp"
    },
    "polyglot_notebook": {
     "kernelName": "csharp"
    },
    "vscode": {
     "languageId": "polyglot-notebook"
    }
   },
   "outputs": [
    {
     "data": {
      "text/html": [
       "<div><div></div><div></div><div><strong>Installed Packages</strong><ul><li><span>Microsoft.Extensions.Configuration, 9.0.0</span></li><li><span>Microsoft.Extensions.Configuration.Json, 9.0.0</span></li><li><span>Microsoft.SemanticKernel, 1.33.0</span></li><li><span>Microsoft.SemanticKernel.Plugins.Core, 1.33.0-alpha</span></li></ul></div></div>"
      ]
     },
     "metadata": {},
     "output_type": "display_data"
    }
   ],
   "source": [
    "#r \"nuget: Microsoft.Extensions.Configuration, 9.0.0\"\n",
    "#r \"nuget: Microsoft.Extensions.Configuration.Json, 9.0.0\"\n",
    "#r \"nuget: Microsoft.SemanticKernel, 1.33.0\"\n",
    "#r \"nuget: Microsoft.SemanticKernel.Plugins.Core, 1.33.0-alpha\"\n",
    "\n",
    "using Microsoft.Extensions.Configuration.Json;\n",
    "using Microsoft.Extensions.Configuration;\n",
    "using Microsoft.SemanticKernel;\n",
    "using Microsoft.SemanticKernel.ChatCompletion;\n",
    "using Microsoft.SemanticKernel.Connectors.OpenAI;\n",
    "using System.IO;\n",
    "\n",
    "var configurationBuilder = new ConfigurationBuilder()\n",
    "    .SetBasePath(Directory.GetCurrentDirectory())\n",
    "    .AddJsonFile(\"local.settings.json\", optional: true, reloadOnChange: true)\n",
    "    .AddJsonFile(\"secrets.settings.json\", optional: true, reloadOnChange: true);\n",
    "var config = configurationBuilder.Build();\n",
    "\n",
    "// IMPORTANT: You ONLY NEED either Azure OpenAI or OpenAI connectiopn info, not both.\n",
    "// Azure OpenAI Connection Info using o1 series of models\n",
    "var azureOpenAIEndpoint = config[\"AzureOpenAI:o1Endpoint\"];\n",
    "var azureOpenAIAPIKey = config[\"AzureOpenAI:o1APIKey\"];\n",
    "var azureOpenAIModelDeploymentName = config[\"AzureOpenAI:o1ModelDeploymentName\"];\n",
    "// OpenAI Connection Info \n",
    "var openAIAPIKey = config[\"OpenAI:APIKey\"];\n",
    "var openAIModelId = config[\"OpenAI:ModelId\"];"
   ]
  },
  {
   "cell_type": "code",
   "execution_count": 2,
   "metadata": {
    "dotnet_interactive": {
     "language": "csharp"
    },
    "polyglot_notebook": {
     "kernelName": "csharp"
    },
    "vscode": {
     "languageId": "polyglot-notebook"
    }
   },
   "outputs": [
    {
     "name": "stdout",
     "output_type": "stream",
     "text": [
      "Using Azure OpenAI Service\r\n"
     ]
    }
   ],
   "source": [
    "using Microsoft.Extensions.DependencyInjection.Extensions;\n",
    "using Microsoft.Extensions.DependencyInjection;\n",
    "using Microsoft.SemanticKernel;\n",
    "using Microsoft.SemanticKernel.ChatCompletion;\n",
    "using Microsoft.SemanticKernel.Connectors.OpenAI;\n",
    "\n",
    "Kernel semanticKernel;\n",
    "\n",
    "// Set the flag to use Azure OpenAI or OpenAI. False to use OpenAI, True to use Azure OpenAI\n",
    "var useAzureOpenAI = true;\n",
    "\n",
    "// Create a new Semantic Kernel instance\n",
    "if (useAzureOpenAI)\n",
    "{\n",
    "    Console.WriteLine(\"Using Azure OpenAI Service\");\n",
    "    semanticKernel = Kernel.CreateBuilder()\n",
    "        .AddAzureOpenAIChatCompletion(\n",
    "            deploymentName: azureOpenAIModelDeploymentName,\n",
    "            endpoint: azureOpenAIEndpoint,\n",
    "            apiKey: azureOpenAIAPIKey)\n",
    "        .Build();\n",
    "}\n",
    "else\n",
    "{\n",
    "    Console.WriteLine(\"Using OpenAI Service\");\n",
    "    semanticKernel = Kernel.CreateBuilder()\n",
    "        .AddOpenAIChatCompletion(\n",
    "            modelId: openAIModelId,\n",
    "            apiKey: openAIAPIKey)\n",
    "        .Build();\n",
    "}\n",
    "\n",
    "var chatCompletionService = semanticKernel.Services.GetRequiredService<IChatCompletionService>();"
   ]
  },
  {
   "cell_type": "markdown",
   "metadata": {},
   "source": [
    "### Step 2 - Premortem Risk Analysis with o1 Reasoning Models"
   ]
  },
  {
   "cell_type": "code",
   "execution_count": 3,
   "metadata": {
    "dotnet_interactive": {
     "language": "csharp"
    },
    "polyglot_notebook": {
     "kernelName": "csharp"
    },
    "vscode": {
     "languageId": "polyglot-notebook"
    }
   },
   "outputs": [
    {
     "name": "stdout",
     "output_type": "stream",
     "text": [
      "**Premortem Analysis on Purchasing vs. Leasing a New Car**\n",
      "\n",
      "A premortem analysis is a strategic approach where we envision that a decision has resulted in failure and then work backward to determine what could have led to that outcome. This method helps identify potential pitfalls and allows for proactive planning to mitigate risks.\n",
      "\n",
      "In the context of deciding between purchasing a new car and leasing one, let's conduct an advanced premortem analysis to uncover possible reasons why each option might lead to unfavorable results. By doing so, we can better prepare ourselves for potential challenges and make a more informed decision.\n",
      "\n",
      "---\n",
      "\n",
      "### **Scenario 1: Purchasing a New Car**\n",
      "\n",
      "**Imagined Outcome:** After purchasing a new car, you find yourself facing unexpected difficulties that make the decision seem regrettable.\n",
      "\n",
      "#### **Potential Reasons for Failure:**\n",
      "\n",
      "1. **Rapid Depreciation:**\n",
      "   - **Issue:** The car's value has depreciated significantly faster than anticipated, leading to a substantial loss when attempting to resell or trade-in.\n",
      "   - **Consequence:** You may owe more on the loan than the car is worth (negative equity), limiting your financial flexibility.\n",
      "\n",
      "2. **Financial Strain from Upfront Costs:**\n",
      "   - **Issue:** The substantial down payment and higher monthly loan payments have strained your budget.\n",
      "   - **Consequence:** This financial stress may affect your ability to cover other essential expenses or achieve savings goals.\n",
      "\n",
      "3. **Unexpected Maintenance and Repair Costs:**\n",
      "   - **Issue:** The car requires more maintenance than expected, and warranty coverage is insufficient or has expired.\n",
      "   - **Consequence:** Out-of-pocket expenses for repairs reduce the overall value proposition of owning the car.\n",
      "\n",
      "4. **Change in Personal Circumstances:**\n",
      "   - **Issue:** Changes in your personal life (e.g., job relocation, family expansion) make the car less suitable.\n",
      "   - **Consequence:** You may need to sell the car earlier than planned, potentially at a loss due to depreciation.\n",
      "\n",
      "5. **Higher Insurance and Tax Expenses:**\n",
      "   - **Issue:** Insurance premiums and property taxes for the new car are higher than estimated.\n",
      "   - **Consequence:** Increased recurring costs further strain your budget.\n",
      "\n",
      "6. **Opportunity Cost:**\n",
      "   - **Issue:** The capital tied up in the car purchase could have been invested elsewhere with better returns.\n",
      "   - **Consequence:** You miss out on potential investment growth or other financial opportunities.\n",
      "\n",
      "7. **Technological Obsolescence:**\n",
      "   - **Issue:** Rapid advancements in automotive technology make your car outdated sooner than expected.\n",
      "   - **Consequence:** Reduced satisfaction with the vehicle and lower resale value.\n",
      "\n",
      "8. **Overestimating Vehicle Usage:**\n",
      "   - **Issue:** You use the car less than anticipated.\n",
      "   - **Consequence:** The cost per use is higher, diminishing the value of the investment.\n",
      "\n",
      "---\n",
      "\n",
      "### **Scenario 2: Leasing a New Car**\n",
      "\n",
      "**Imagined Outcome:** After entering into a lease agreement, you encounter unforeseen issues that make leasing seem like a poor decision.\n",
      "\n",
      "#### **Potential Reasons for Failure:**\n",
      "\n",
      "1. **Exceeding Mileage Limits:**\n",
      "   - **Issue:** You drive more than the lease's mileage allowance.\n",
      "   - **Consequence:** You incur significant excess mileage fees at the end of the lease term.\n",
      "\n",
      "2. **Excess Wear and Tear Charges:**\n",
      "   - **Issue:** The car sustains more wear and tear than what is considered normal usage.\n",
      "   - **Consequence:** Additional fees are charged upon lease return, increasing the total cost.\n",
      "\n",
      "3. **Early Termination Penalties:**\n",
      "   - **Issue:** You need to end the lease early due to unforeseen circumstances.\n",
      "   - **Consequence:** Early termination fees are substantial, leading to financial loss.\n",
      "\n",
      "4. **Continuous Payment Cycle:**\n",
      "   - **Issue:** Leasing creates an ongoing cycle of payments without ever owning an asset.\n",
      "   - **Consequence:** Over time, you may pay more than if you had purchased, with no equity to show for it.\n",
      "\n",
      "5. **Limited Customization:**\n",
      "   - **Issue:** Restrictions on modifying the vehicle prevent you from personalizing it to your preferences.\n",
      "   - **Consequence:** Reduced satisfaction with the vehicle throughout the lease term.\n",
      "\n",
      "6. **Insurance Requirements:**\n",
      "   - **Issue:** Lease agreements often require higher levels of insurance coverage.\n",
      "   - **Consequence:** Increased insurance premiums add to the overall cost of leasing.\n",
      "\n",
      "7. **Residual Value Miscalculations:**\n",
      "   - **Issue:** The estimated residual value of the car at lease end is inaccurate.\n",
      "   - **Consequence:** If the residual value is lower, you might have overpaid during the lease term.\n",
      "\n",
      "8. **Lifestyle Changes Not Aligned with Lease Terms:**\n",
      "   - **Issue:** Changes in your driving needs or lifestyle occur (e.g., longer commute, need for a different type of vehicle).\n",
      "   - **Consequence:** The leased car no longer suits your needs, but you're locked into the agreement.\n",
      "\n",
      "9. **Market Changes:**\n",
      "   - **Issue:** Decline in car prices or introduction of new models makes your lease less advantageous.\n",
      "   - **Consequence:** You're paying a premium for an older model when newer, better options are available.\n",
      "\n",
      "---\n",
      "\n",
      "### **Conclusion**\n",
      "\n",
      "By envisioning these potential pitfalls associated with both purchasing and leasing a new car, we can proactively identify areas of concern and consider strategies to mitigate them. This advanced premortem analysis highlights the importance of:\n",
      "\n",
      "- **Thorough Financial Planning:** Assessing your budget, accounting for all costs (including hidden ones), and considering long-term financial implications.\n",
      "- **Assessing Personal Needs and Lifestyle:** Reflecting on how stable your circumstances are and how they might change in the near future.\n",
      "- **Understanding Contract Terms:** Carefully reviewing purchase agreements or lease contracts to fully grasp the obligations and restrictions involved.\n",
      "- **Future-Proofing Your Decision:** Considering how technological advancements or market shifts might impact the value and satisfaction derived from the vehicle.\n",
      "\n",
      "By taking these factors into account, you can make a more informed decision that aligns with your financial situation, personal needs, and long-term goals.\r\n"
     ]
    }
   ],
   "source": [
    "// Create a system prompt instruction to override the default system prompt\n",
    "// Add the System Prompt (Persona) to behave like a decision intelligence assistant\n",
    "var systemPromptForDecisions = \"\"\"\n",
    "You are a Decision Intelligence Assistant. \n",
    "Assist the user in exploring options, reasoning through decisions, problem-solving.\n",
    "Apply systems thinking to various scenarios. Provide structured, logical, and comprehensive advice.\n",
    "\"\"\";\n",
    "var decisionAnalysisPrompt = \"\"\"\n",
    "Perform an advanced premortem analysis on the following scenario:\n",
    "You are deciding to purchase a new car versus leasing a car.\n",
    "\"\"\";\n",
    "\n",
    "// How the prompt looks like to the LLM\n",
    "var simpleDecisionPromptTemplate = $\"\"\"\n",
    "System Prompt: {systemPromptForDecisions}\n",
    "\n",
    "Request from the user: {decisionAnalysisPrompt}\n",
    "\"\"\";\n",
    "\n",
    "var simplePromptResponse = await semanticKernel.InvokePromptAsync(decisionAnalysisPrompt);\n",
    "Console.WriteLine(simplePromptResponse.GetValue<string>());"
   ]
  },
  {
   "cell_type": "code",
   "execution_count": 5,
   "metadata": {
    "dotnet_interactive": {
     "language": "csharp"
    },
    "polyglot_notebook": {
     "kernelName": "csharp"
    },
    "vscode": {
     "languageId": "polyglot-notebook"
    }
   },
   "outputs": [
    {
     "name": "stdout",
     "output_type": "stream",
     "text": [
      "| Risk Factor / Uncertainty    | Purchase                                                                 | Lease                                                                     |\n",
      "|------------------------------|--------------------------------------------------------------------------|---------------------------------------------------------------------------|\n",
      "| Depreciation                 | High impact on resale value; risk of lower resale price                   | Depreciation factored into payments; leasing company bears depreciation risk |\n",
      "| Mileage Limits               | No mileage restrictions                                                   | Mileage limits apply; exceeding limits incurs fees                        |\n",
      "| Maintenance Costs            | Owner responsible for maintenance after warranty expires                  | Typically under warranty; less maintenance responsibility                 |\n",
      "| Upfront Costs                | Higher down payment, taxes, fees                                          | Lower upfront costs; minimal down payment                                 |\n",
      "| Monthly Payments             | Higher monthly payments                                                   | Lower monthly payments                                                    |\n",
      "| Ownership                    | Own the car at the end; asset acquisition                                 | No ownership; must return the car                                         |\n",
      "| Flexibility                  | Can sell or trade the car anytime                                         | Locked into lease term; penalties for early termination                   |\n",
      "| Financial Changes            | Can sell car if unable to make payments                                   | Difficult to exit lease; penalties apply                                  |\n",
      "| Technology Obsolescence      | Risk of owning outdated technology                                        | Can upgrade to newer model at lease end                                   |\n",
      "| Residual Value Uncertainty   | Uncertain future resale value                                             | Residual value predetermined                                              |\n",
      "| Insurance Costs              | Can choose coverage levels                                                | May require higher coverage limits                                        |\n",
      "| Wear and Tear Fees           | N/A                                                                       | Charged for excessive wear and tear at lease end                          |\n",
      "| Total Cost Over Time         | Potentially lower over long term if car is kept                           | Potentially higher over long term; continuous payments                    |\n",
      "| Customization                | Can personalize or modify the car                                         | Limited or no ability to customize                                        |\n",
      "| Equity                       | Builds equity over time                                                   | Does not build equity                                                     |\n",
      "| Tax Implications             | Sales tax on full purchase price                                          | Sales tax only on leased portion in some regions                          |\n",
      "| Credit Impact                | Shows as debt; affects credit utilization                                 | Lease obligations may affect credit differently                           |\n",
      "| Early Termination Fees       | Can sell car without penalty                                              | Significant penalties for early lease termination                         |\n",
      "| End-of-Term Options          | Can keep, sell, or trade-in the car                                       | May have option to buy, but at a predetermined price                      |\n",
      "| Lifestyle Changes            | Car may not fit future needs                                              | Can choose different type of car at next lease                            |\n",
      "| Repossession Risk            | Risk of repossession if default on payments                               | Risk of repossession and credit impact if default on lease                |\n",
      "| Interest Rates               | Subject to financing rates; total cost affected by interest               | Money factor affects lease payments; may be less transparent              |\r\n"
     ]
    }
   ],
   "source": [
    "// Create a system prompt instruction to override the default system prompt\n",
    "// Add the System Prompt (Persona) to behave like a decision intelligence assistant\n",
    "var systemPromptForDecisions = \"\"\"\n",
    "You are a Decision Intelligence Assistant. \n",
    "Assist the user in exploring options, reasoning through decisions, problem-solving.\n",
    "Apply systems thinking to various scenarios. Provide structured, logical, and comprehensive advice.\n",
    "\"\"\";\n",
    "var decisionAnalysisPrompt = \"\"\"\n",
    "Perform an advanced premortem analysis on the following scenario:\n",
    "You are deciding to purchase a new car versus leasing a car.\n",
    "\n",
    "Output the risk factors, uncertainties, and potential outcomes ONLY in a Markdown table.\n",
    "Create a column for each option (Purchase, Lease) and which risk factor or uncertainty applies to each option.\n",
    "Do not surround the markdown with triple backticks.\n",
    "\"\"\";\n",
    "\n",
    "// Illustrate how the prompt appears to the LLM\n",
    "var simpleDecisionPromptTemplate = $\"\"\"\n",
    "System Prompt: {systemPromptForDecisions}\n",
    "\n",
    "Request from the user: {decisionAnalysisPrompt}\n",
    "\"\"\";\n",
    "\n",
    "var simplePromptResponse = await semanticKernel.InvokePromptAsync(decisionAnalysisPrompt);\n",
    "Console.WriteLine(simplePromptResponse.GetValue<string>());"
   ]
  },
  {
   "cell_type": "markdown",
   "metadata": {},
   "source": [
    "| Risk Factor / Uncertainty / Potential Outcome | Purchase                                                                                                | Lease                                                                                                    |\n",
    "|-----------------------------------------------|-----------------------------------------------------------------------------------------------------------|----------------------------------------------------------------------------------------------------------|\n",
    "| High Upfront Cost                             | High initial payment required for down payment and taxes                                                  | Lower initial payment; typically only first month's payment and fees                                     |\n",
    "| Depreciation of Vehicle Value                 | Owner bears the full depreciation cost over time                                                          | Depreciation is factored into lease payments; less concern for lessee                                     |\n",
    "| Maintenance Costs After Warranty              | Owner responsible for all maintenance and repair costs after warranty expiration                          | Maintenance may be covered under lease terms; newer cars less likely to need repairs                      |\n",
    "| Resale Value Uncertainty                      | Uncertain future resale value can affect total cost of ownership                                          | Not applicable; no need to resell the vehicle at end of lease                                             |\n",
    "| Financing Costs (Interest Rates)              | Interest rates on auto loan affect total purchase cost                                                    | Interest rates affect lease payments; money factor (lease equivalent of interest rate) applies            |\n",
    "| Changes in Personal Circumstances             | Financial hardship could lead to loan default or need to sell the car                                     | Financial hardship could lead to lease default with possible penalties                                    |\n",
    "| Technological Obsolescence                    | Owner may be stuck with outdated technology or features                                                   | Ability to upgrade to newer model with latest technology at end of lease term                             |\n",
    "| Opportunity Cost of Capital                   | Capital tied up in vehicle ownership could be used elsewhere                                              | Less capital required upfront; frees up funds for other investments                                       |\n",
    "| Mileage Limits and Penalties                  | No mileage restrictions; can drive unlimited miles                                                        | Mileage limits apply; excess mileage results in additional fees                                           |\n",
    "| Wear and Tear Charges                         | Owner bears cost of excessive wear but has control over repairs                                           | Excess wear and tear charges may apply at lease end                                                       |\n",
    "| No Equity Built in Vehicle                    | Equity builds over time; potential asset at end of loan                                                   | No equity or ownership; payments do not contribute to ownership                                           |\n",
    "| Early Termination Fees                        | Can sell the car at any time, though may incur loss if loan balance exceeds car value                     | Early lease termination can result in substantial fees and penalties                                      |\n",
    "| Insurance Gap Coverage Needed                 | May be optional; depreciation could result in owing more than car's value                                 | Often required; protects against owing the difference between insurance payout and lease balance          |\n",
    "| Flexibility to Modify Car                     | Full freedom to customize or modify the vehicle                                                           | Modifications typically prohibited; must return car in original condition                                 |\n",
    "| Total Cost Over Time                          | Potentially lower total cost if kept long-term and maintenance costs are manageable                       | Potentially higher total cost over similar period due to continuous lease payments                        |\n",
    "| Obligation Period                             | Commitment until loan is paid off or car is sold                                                          | Fixed lease term commitment; less flexibility to exit agreement early                                     |\n",
    "| Impact of Market Conditions                   | Changes in used car market affect resale value and total cost of ownership                                | Lessee is insulated from market fluctuations; residual value risk is on the lessor                        |\n",
    "| Tax Considerations                            | Possible tax deductions for interest paid (subject to tax laws)                                           | Lease payments may be tax-deductible if car is used for business purposes                                 |\n",
    "| Credit Score Impact                           | Loan default negatively impacts credit score                                                              | Lease default negatively impacts credit score                                                             |\n",
    "| End of Term Options                           | Own the car outright, sell, or trade in for a new vehicle                                                 | Options to return the car, purchase it at residual value, or lease a new vehicle                          |\n",
    "| Flexibility of Use                            | Unlimited personal use; ownership allows for any usage                                                    | Use is limited by lease terms; restrictions on commercial use or ride-sharing services may apply          |"
   ]
  },
  {
   "cell_type": "markdown",
   "metadata": {},
   "source": [
    "This Markdown table can be further simplified by highlighting which risk factor is more favorable when comparing a Purchase versus a Lease.\n",
    "\n",
    "| Risk Factor / Uncertainty / Potential Outcome | Purchase | Lease |\n",
    "|-----------------------------------------------|----------|-------|\n",
    "| High Upfront Cost                             |          | ☑️    |\n",
    "| Depreciation of Vehicle Value                 |          | ☑️    |\n",
    "| Maintenance Costs After Warranty              |          | ☑️    |\n",
    "| Resale Value Uncertainty                      |          | ☑️    |\n",
    "| Financing Costs (Interest Rates)              |          |       |\n",
    "| Changes in Personal Circumstances             | ☑️       |       |\n",
    "| Technological Obsolescence                    |          | ☑️    |\n",
    "| Opportunity Cost of Capital                   |          | ☑️    |\n",
    "| Mileage Limits and Penalties                  | ☑️       |       |\n",
    "| Wear and Tear Charges                         | ☑️       |       |\n",
    "| No Equity Built in Vehicle                    | ☑️       |       |\n",
    "| Early Termination Fees                        | ☑️       |       |\n",
    "| Insurance Gap Coverage Needed                 | ☑️       |       |\n",
    "| Flexibility to Modify Car                     | ☑️       |       |\n",
    "| Total Cost Over Time                          | ☑️       |       |\n",
    "| Obligation Period                             | ☑️       |       |\n",
    "| Impact of Market Conditions                   |          | ☑️    |\n",
    "| Tax Considerations                            |          | ☑️    |\n",
    "| Credit Score Impact                           |          |       |\n",
    "| End of Term Options                           |          | ☑️    |\n",
    "| Flexibility of Use                            | ☑️       |       |\n"
   ]
  }
 ],
 "metadata": {
  "kernelspec": {
   "display_name": ".NET (C#)",
   "language": "C#",
   "name": ".net-csharp"
  },
  "language_info": {
   "name": "python"
  },
  "polyglot_notebook": {
   "kernelInfo": {
    "defaultKernelName": "csharp",
    "items": [
     {
      "aliases": [],
      "name": "csharp"
     }
    ]
   }
  }
 },
 "nbformat": 4,
 "nbformat_minor": 2
}
