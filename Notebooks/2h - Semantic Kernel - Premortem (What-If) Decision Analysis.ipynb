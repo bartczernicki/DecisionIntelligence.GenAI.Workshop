{
 "cells": [
  {
   "cell_type": "markdown",
   "metadata": {},
   "source": [
    "<img style=\"float: left;padding-right: 10px\" width =\"40px\" src=\"https://raw.githubusercontent.com/bartczernicki/DecisionIntelligence.GenAI.Workshop/main/Images/SemanticKernelLogo.png\">\n",
    "\n",
    "## Semantic Kernel - Premortem (What-If) Decision Analysis  "
   ]
  },
  {
   "cell_type": "markdown",
   "metadata": {},
   "source": [
    "Decision Intelligence applied in this module:  \n",
    "* Using Premortem Decision Analysis to improve decision quality & outcomes  \n",
    "* Using a Premortem decision output for improving of Gathering Intelligence \n",
    "* Attain different perspectives using mutliple decision frames  \n",
    "* Apply a Decision Framework to Premortem Decision Analysis \n"
   ]
  },
  {
   "cell_type": "markdown",
   "metadata": {},
   "source": [
    "### What is a Premortem (What-If Analysis)  "
   ]
  },
  {
   "cell_type": "markdown",
   "metadata": {},
   "source": [
    "You have probably heard of a **postmortem (post-mortem)**, which is a look back at an actual failure (or success) to understand why it happened and learn from it. In the context of decision making, after the decision outcome is clear you can analyze why the result occured. For example, a hedge fund may host a postmortem meeting after analyzing an unsuccesful move on a tech stock that didn't materialize the return on investment as was planned. \n",
    "\n",
    "In a **premortem (pre-mortem)** the outcome is \"imagined\" and then it is figured out why that potential \"imagined\" outcome happened. In a premortem, a planning exercise is held where a team imagines that a project or decision has already succeeded or failed. The team then works backward, brainstorming what might have caused things to go wrong. This approach allows everyone to spot potential risks and address them before starting the project. Therefore, it’s a bit like predicting the future and using that prediction to make the forecast stronger. "
   ]
  },
  {
   "cell_type": "markdown",
   "metadata": {},
   "source": [
    "### Example Premortem Decision Scenario - Purchasing a Car   "
   ]
  },
  {
   "cell_type": "markdown",
   "metadata": {},
   "source": [
    "Imagine you're about to buy a new car. Let's play a game of \"What-If\" that the purchase decision results in either two outcomes a: **disaster** or a **successful** outcome. "
   ]
  },
  {
   "cell_type": "markdown",
   "metadata": {},
   "source": [
    "#### Disaster Outcome Premortem  "
   ]
  },
  {
   "cell_type": "markdown",
   "metadata": {},
   "source": [
    "<img style=\"display: block; margin: auto;\" width =\"700px\" src=\"https://raw.githubusercontent.com/bartczernicki/DecisionIntelligence.GenAI.Workshop/main/Images/Scenarios/Scenario-DecisionPremortem.png\">"
   ]
  },
  {
   "cell_type": "markdown",
   "metadata": {},
   "source": [
    "In a **premortem (pre-mortem)**, you pretend the car purchase turned out to be a disaster. Now, you ask yourself:  \n",
    "**What went wrong with the decision to buy a new car?**\n",
    "\n",
    "Here are some potential reasons:  \n",
    "\n",
    "* **Financial issues:** You realize later you can’t comfortably afford the monthly payments or maintenance costs.  \n",
    "* **Unexpected repairs:** The car has hidden mechanical problems, leading to costly repairs.  \n",
    "* **Insurance costs:** Insurance is much higher than expected, impacting your budget.\n",
    "* **Poor fuel efficiency:** The car uses more gas than you thought, making it expensive to drive.\n",
    "Resale value drop: The car’s value plummets quickly, leaving you with less if you want to sell or trade it.  "
   ]
  },
  {
   "cell_type": "markdown",
   "metadata": {},
   "source": [
    "#### Successful Outcome Premortem"
   ]
  },
  {
   "cell_type": "markdown",
   "metadata": {},
   "source": [
    "In a premortem for a successful car purchase, imagine you bought the car, and it turned out to be a succssful decision. Now, you ask yourself:  \n",
    "**What went right with the decision to buy a new car?**  \n",
    "\n",
    "Here are some potential reasons:\n",
    "\n",
    "* **Affordable and realistic budget:** You set a budget that allowed for comfortable monthly payments and covered insurance, fuel, and maintenance without straining your finances.  \n",
    "* **Thorough inspection:** You got a detailed inspection before buying, which confirmed the car was in excellent condition and minimized the risk of future repairs.\n",
    "* **Reliable model choice:** You researched models with a reputation for reliability, so you experience fewer repairs and smooth performance.\n",
    "* **Fuel efficiency matches needs:** You chose a car that meets your fuel efficiency needs, saving money on gas and fitting well with your daily driving habits.   \n",
    "* **High resale value:** You picked a make and model that holds its value well, giving you confidence that it’s a good long-term investment.  "
   ]
  },
  {
   "cell_type": "markdown",
   "metadata": {},
   "source": [
    "#### Premortem (What-If) Analysis "
   ]
  },
  {
   "cell_type": "markdown",
   "metadata": {},
   "source": [
    "Imagining these successful outcomes helps you focus on these actions—like sticking to budget, getting a full inspection, and choosing a reliable model—so you’re more likely to make a purchase you’ll be happy with. \n",
    "\n",
    "By imagining these issues in advance, you could consider to thoroughly check maintenance records, buy additional warranty, test drive with similar terrain in your area, or reassess your budget to avoid these potential problems.\n",
    "\n",
    "How can Generative AI help? Using Generative AI, the LLM models can be used to \"imagine\" premortem outcomes and  brainstorm potential factors why that certain outcome occured. Generative AI agents can act as your \"premortem\" team. This can lead to additional questions, gathering of intelligence, checklists, negotiation leverage etc. you didn't consider initially. "
   ]
  },
  {
   "cell_type": "markdown",
   "metadata": {},
   "source": [
    "### Step 1 - Initialize Configuration Builder & Build the Semantic Kernel Orchestration "
   ]
  },
  {
   "cell_type": "code",
   "execution_count": 1,
   "metadata": {
    "dotnet_interactive": {
     "language": "csharp"
    },
    "polyglot_notebook": {
     "kernelName": "csharp"
    },
    "vscode": {
     "languageId": "polyglot-notebook"
    }
   },
   "outputs": [
    {
     "data": {
      "text/html": [
       "<div><div></div><div></div><div><strong>Installed Packages</strong><ul><li><span>Microsoft.Extensions.Configuration, 9.0.0</span></li><li><span>Microsoft.Extensions.Configuration.Json, 9.0.0</span></li><li><span>Microsoft.SemanticKernel, 1.33.0</span></li><li><span>Microsoft.SemanticKernel.Plugins.Core, 1.33.0-alpha</span></li></ul></div></div>"
      ]
     },
     "metadata": {},
     "output_type": "display_data"
    }
   ],
   "source": [
    "#r \"nuget: Microsoft.Extensions.Configuration, 9.0.0\"\n",
    "#r \"nuget: Microsoft.Extensions.Configuration.Json, 9.0.0\"\n",
    "#r \"nuget: Microsoft.SemanticKernel, 1.33.0\"\n",
    "#r \"nuget: Microsoft.SemanticKernel.Plugins.Core, 1.33.0-alpha\"\n",
    "\n",
    "using Microsoft.Extensions.Configuration.Json;\n",
    "using Microsoft.Extensions.Configuration;\n",
    "using Microsoft.SemanticKernel;\n",
    "using Microsoft.SemanticKernel.ChatCompletion;\n",
    "using Microsoft.SemanticKernel.Connectors.OpenAI;\n",
    "using System.IO;\n",
    "\n",
    "var configurationBuilder = new ConfigurationBuilder()\n",
    "    .SetBasePath(Directory.GetCurrentDirectory())\n",
    "    .AddJsonFile(\"local.settings.json\", optional: true, reloadOnChange: true)\n",
    "    .AddJsonFile(\"secrets.settings.json\", optional: true, reloadOnChange: true);\n",
    "var config = configurationBuilder.Build();\n",
    "\n",
    "// IMPORTANT: You ONLY NEED either Azure OpenAI or OpenAI connectiopn info, not both.\n",
    "// Azure OpenAI Connection Info using o1 series of models\n",
    "var azureOpenAIEndpoint = config[\"AzureOpenAI:o1Endpoint\"];\n",
    "var azureOpenAIAPIKey = config[\"AzureOpenAI:o1APIKey\"];\n",
    "var azureOpenAIModelDeploymentName = config[\"AzureOpenAI:o1ModelDeploymentName\"];\n",
    "// OpenAI Connection Info \n",
    "var openAIAPIKey = config[\"OpenAI:APIKey\"];\n",
    "var openAIModelId = config[\"OpenAI:ModelId\"];"
   ]
  },
  {
   "cell_type": "code",
   "execution_count": 2,
   "metadata": {
    "dotnet_interactive": {
     "language": "csharp"
    },
    "polyglot_notebook": {
     "kernelName": "csharp"
    },
    "vscode": {
     "languageId": "polyglot-notebook"
    }
   },
   "outputs": [
    {
     "name": "stdout",
     "output_type": "stream",
     "text": [
      "Using Azure OpenAI Service\r\n"
     ]
    }
   ],
   "source": [
    "using Microsoft.Extensions.DependencyInjection.Extensions;\n",
    "using Microsoft.Extensions.DependencyInjection;\n",
    "using Microsoft.SemanticKernel;\n",
    "using Microsoft.SemanticKernel.ChatCompletion;\n",
    "using Microsoft.SemanticKernel.Connectors.OpenAI;\n",
    "\n",
    "Kernel semanticKernel;\n",
    "\n",
    "// Set the flag to use Azure OpenAI or OpenAI. False to use OpenAI, True to use Azure OpenAI\n",
    "var useAzureOpenAI = true;\n",
    "\n",
    "// Create a new Semantic Kernel instance\n",
    "if (useAzureOpenAI)\n",
    "{\n",
    "    Console.WriteLine(\"Using Azure OpenAI Service\");\n",
    "    semanticKernel = Kernel.CreateBuilder()\n",
    "        .AddAzureOpenAIChatCompletion(\n",
    "            deploymentName: azureOpenAIModelDeploymentName,\n",
    "            endpoint: azureOpenAIEndpoint,\n",
    "            apiKey: azureOpenAIAPIKey)\n",
    "        .Build();\n",
    "}\n",
    "else\n",
    "{\n",
    "    Console.WriteLine(\"Using OpenAI Service\");\n",
    "    semanticKernel = Kernel.CreateBuilder()\n",
    "        .AddOpenAIChatCompletion(\n",
    "            modelId: openAIModelId,\n",
    "            apiKey: openAIAPIKey)\n",
    "        .Build();\n",
    "}\n",
    "\n",
    "var chatCompletionService = semanticKernel.Services.GetRequiredService<IChatCompletionService>();"
   ]
  },
  {
   "cell_type": "markdown",
   "metadata": {},
   "source": [
    "### Step 2 - Premortem Risk Analysis with o1 Reasoning Models"
   ]
  },
  {
   "cell_type": "code",
   "execution_count": 6,
   "metadata": {
    "dotnet_interactive": {
     "language": "csharp"
    },
    "polyglot_notebook": {
     "kernelName": "csharp"
    },
    "vscode": {
     "languageId": "polyglot-notebook"
    }
   },
   "outputs": [
    {
     "name": "stdout",
     "output_type": "stream",
     "text": [
      "**Advanced Premortem (What-If) Analysis: Purchasing vs. Leasing a New Car**\n",
      "\n",
      "---\n",
      "\n",
      "A premortem analysis involves envisioning potential failures or negative outcomes before making a decision, allowing you to proactively address risks and enhance the likelihood of success. By anticipating what could go wrong, you can implement strategies to mitigate those risks.\n",
      "\n",
      "In the context of deciding between purchasing a new car and leasing one, we'll conduct an advanced premortem analysis to explore potential pitfalls, financial implications, and long-term consequences of each option.\n",
      "\n",
      "---\n",
      "\n",
      "### **1. Objectives and Priorities**\n",
      "\n",
      "Before delving into the analysis, it's essential to clarify your objectives and priorities:\n",
      "\n",
      "- **Financial Considerations**: Total cost of ownership, monthly payments, down payments, interest rates.\n",
      "- **Usage Needs**: Annual mileage, driving habits, vehicle usage duration.\n",
      "- **Flexibility**: Desire to have the latest model, adaptability to changing needs.\n",
      "- **Ownership**: Preference for owning assets versus having short-term access.\n",
      "- **Maintenance and Care**: Responsibility for maintenance costs and vehicle condition.\n",
      "\n",
      "---\n",
      "\n",
      "### **2. Purchasing a New Car**\n",
      "\n",
      "#### **Potential Risks and Negative Outcomes**\n",
      "\n",
      "1. **Depreciation Loss**:\n",
      "   - *What if the car's value depreciates faster than anticipated?*\n",
      "     - New cars can lose a significant portion of their value within the first few years.\n",
      "     - If you decide to sell the car earlier than planned, you might owe more than the car is worth.\n",
      "\n",
      "2. **Financial Strain**:\n",
      "   - *What if the monthly payments are higher than comfortable?*\n",
      "     - Higher monthly payments compared to leasing may strain your budget.\n",
      "     - Unexpected expenses could make it challenging to keep up with payments.\n",
      "\n",
      "3. **Maintenance Costs**:\n",
      "   - *What if maintenance and repair costs increase over time?*\n",
      "     - As the car ages beyond warranty, repair costs may rise.\n",
      "     - Unexpected major repairs could be financially burdensome.\n",
      "\n",
      "4. **Changed Personal Circumstances**:\n",
      "   - *What if your lifestyle or transportation needs change?*\n",
      "     - Life events (e.g., family expansion, job relocation) might make the car less suitable.\n",
      "     - Selling or trading in the car early could result in financial loss.\n",
      "\n",
      "5. **Interest Rates Fluctuation**:\n",
      "   - *What if interest rates decrease after purchase?*\n",
      "     - Locked into a higher rate loan could mean paying more over time.\n",
      "     - Refinancing might not always be feasible or cost-effective.\n",
      "\n",
      "#### **Mitigation Strategies**\n",
      "\n",
      "- **Depreciation Awareness**: Choose a car model with better resale value.\n",
      "- **Financial Planning**: Ensure monthly payments fit comfortably within your budget.\n",
      "- **Extended Warranties**: Consider purchasing extended warranties for long-term coverage.\n",
      "- **Resale Research**: Stay informed about the car's market value if considering selling.\n",
      "- **Flexible Loan Terms**: Look for loans without penalties for early repayment.\n",
      "\n",
      "---\n",
      "\n",
      "### **3. Leasing a Car**\n",
      "\n",
      "#### **Potential Risks and Negative Outcomes**\n",
      "\n",
      "1. **Mileage Restrictions**:\n",
      "   - *What if you exceed the mileage limit?*\n",
      "     - Excess mileage charges can be steep.\n",
      "     - Restricts spontaneous or increased driving needs.\n",
      "\n",
      "2. **Wear and Tear Charges**:\n",
      "   - *What if the car incurs damage beyond normal wear and tear?*\n",
      "     - Additional fees at lease end for scratches, dents, or interior damage.\n",
      "     - Stress over maintaining the car's condition.\n",
      "\n",
      "3. **Long-Term Cost**:\n",
      "   - *What if leasing ends up costing more over time without building equity?*\n",
      "     - Continuous payments without owning the asset.\n",
      "     - The cumulative cost of leasing multiple cars could exceed purchasing.\n",
      "\n",
      "4. **Early Termination Penalties**:\n",
      "   - *What if you need to end the lease early?*\n",
      "     - Early termination fees can be substantial.\n",
      "     - Limited flexibility in changing vehicles mid-lease.\n",
      "\n",
      "5. **Residual Value Risk**:\n",
      "   - *What if the residual value is set inaccurately?*\n",
      "     - A high residual value lowers payments but may not reflect market reality.\n",
      "     - If you decide to buy the car, you might pay more than it's worth.\n",
      "\n",
      "6. **Changing Financial Circumstances**:\n",
      "   - *What if your income decreases?*\n",
      "     - Lease agreements are legally binding with less flexibility for modification.\n",
      "     - Difficulty in adjusting payments or terms.\n",
      "\n",
      "#### **Mitigation Strategies**\n",
      "\n",
      "- **Accurate Mileage Estimation**: Choose a lease with mileage limits that suit your driving habits.\n",
      "- **Insurance Coverage**: Opt for wear and tear protection plans if available.\n",
      "- **Flexible Lease Terms**: Negotiate terms that allow for early termination under certain conditions.\n",
      "- **Market Research**: Understand the car's projected residual value and market trends.\n",
      "- **Financial Cushion**: Ensure you have savings to cover potential extra costs.\n",
      "\n",
      "---\n",
      "\n",
      "### **4. Comparative Financial Analysis**\n",
      "\n",
      "#### **Purchasing**\n",
      "\n",
      "- **Upfront Costs**:\n",
      "  - Higher down payment.\n",
      "  - Taxes and fees paid upfront.\n",
      "\n",
      "- **Monthly Payments**:\n",
      "  - Typically higher but contribute to ownership.\n",
      "  - Interest payments decrease over time.\n",
      "\n",
      "- **Long-Term Costs**:\n",
      "  - After loan repayment, no further monthly payments.\n",
      "  - Potential for equity if reselling the car.\n",
      "\n",
      "#### **Leasing**\n",
      "\n",
      "- **Upfront Costs**:\n",
      "  - Lower or no down payment.\n",
      "  - Initial fees (acquisition fee, first month's payment).\n",
      "\n",
      "- **Monthly Payments**:\n",
      "  - Generally lower since you're paying for depreciation.\n",
      "  - Payments continue as long as you lease.\n",
      "\n",
      "- **Long-Term Costs**:\n",
      "  - Continuous payments with no ownership.\n",
      "  - Potentially higher cost over multiple lease periods.\n",
      "\n",
      "---\n",
      "\n",
      "### **5. Lifestyle and Personal Preference Considerations**\n",
      "\n",
      "#### **Purchasing**\n",
      "\n",
      "- **Ownership Benefits**:\n",
      "  - Freedom to customize or modify the car.\n",
      "  - No restrictions on mileage or vehicle use.\n",
      "\n",
      "- **Long-Term Commitment**:\n",
      "  - Suitable if planning to keep the car for many years.\n",
      "  - Asset that could be sold or traded in.\n",
      "\n",
      "#### **Leasing**\n",
      "\n",
      "- **Latest Models**:\n",
      "  - Access to new cars every few years.\n",
      "  - Beneficial if you prefer having the latest technology and safety features.\n",
      "\n",
      "- **Lower Commitment**:\n",
      "  - Ideal if you anticipate your needs changing in the near future.\n",
      "  - Less hassle in disposing of the car.\n",
      "\n",
      "---\n",
      "\n",
      "### **6. Potential External Factors**\n",
      "\n",
      "1. **Economic Downturn**:\n",
      "   - *What if the economy weakens?*\n",
      "     - Resale values may drop, affecting car equity.\n",
      "     - Personal financial strain could make payments challenging.\n",
      "\n",
      "2. **Technological Advances**:\n",
      "   - *What if new technology renders current cars outdated?*\n",
      "     - Electric or autonomous vehicles may decrease demand for traditional cars.\n",
      "     - Leasing might offer better adaptability.\n",
      "\n",
      "3. **Regulatory Changes**:\n",
      "   - *What if new laws impact car ownership costs?*\n",
      "     - Increases in taxes, insurance, or fees could affect total ownership cost.\n",
      "\n",
      "#### **Mitigation Strategies**\n",
      "\n",
      "- **Stay Informed**: Keep abreast of market trends and economic indicators.\n",
      "- **Flexible Financial Planning**: Maintain an emergency fund to cover unforeseen expenses.\n",
      "- **Consider Future-Proof Vehicles**: Opt for models with upgradable features or better technology integration.\n",
      "\n",
      "---\n",
      "\n",
      "### **7. Summary and Recommendations**\n",
      "\n",
      "**Purchasing a New Car** may be advantageous if:\n",
      "\n",
      "- You plan to keep the car for a long time (typically over 5 years).\n",
      "- You prefer ownership and the freedom it provides.\n",
      "- You drive high mileage or have unpredictable driving needs.\n",
      "- You want to build equity in the vehicle.\n",
      "\n",
      "**Potential Risks**:\n",
      "\n",
      "- Higher initial and monthly costs.\n",
      "- Depreciation leading to potential loss in value.\n",
      "- Responsibility for maintenance after warranties expire.\n",
      "\n",
      "**Leasing a Car** might be suitable if:\n",
      "\n",
      "- You enjoy driving new cars with the latest features.\n",
      "- You prefer lower monthly payments.\n",
      "- You have predictable, lower annual mileage.\n",
      "- You want to avoid the hassle of selling a used car.\n",
      "\n",
      "**Potential Risks**:\n",
      "\n",
      "- Mileage and usage restrictions.\n",
      "- Long-term cost without asset ownership.\n",
      "- Fees for excessive wear or early termination.\n",
      "\n",
      "---\n",
      "\n",
      "### **Final Thoughts**\n",
      "\n",
      "Carefully assess your financial situation, lifestyle, and future plans. Consider running detailed cost analyses over the period you expect to use the car. It may also be helpful to consult with a financial advisor to understand the tax implications and how each option fits into your overall financial strategy.\n",
      "\n",
      "By anticipating potential challenges and planning accordingly, you can make a well-informed decision that aligns with your needs and minimizes unforeseen complications.\r\n"
     ]
    }
   ],
   "source": [
    "// Create a system prompt instruction to override the default system prompt\n",
    "// Add the System Prompt (Persona) to behave like a decision intelligence assistant\n",
    "var systemPromptForDecisions = \"\"\"\n",
    "You are a Decision Intelligence Assistant. \n",
    "Assist the user in exploring options, reasoning through decisions, problem-solving.\n",
    "Apply systems thinking to various scenarios. Provide structured, logical, and comprehensive advice.\n",
    "\"\"\";\n",
    "var decisionAnalysisPrompt = \"\"\"\n",
    "Perform an advanced premortem (What-If) analysis on the following decision scenario:\n",
    "You are deciding to purchase a new car versus leasing a car.\n",
    "\"\"\";\n",
    "\n",
    "// How the prompt looks like to the LLM\n",
    "var simpleDecisionPromptTemplate = $\"\"\"\n",
    "System Prompt: {systemPromptForDecisions}\n",
    "\n",
    "Request from the user: {decisionAnalysisPrompt}\n",
    "\"\"\";\n",
    "\n",
    "var simplePromptResponse = await semanticKernel.InvokePromptAsync(decisionAnalysisPrompt);\n",
    "Console.WriteLine(simplePromptResponse.GetValue<string>());"
   ]
  },
  {
   "cell_type": "code",
   "execution_count": 7,
   "metadata": {
    "dotnet_interactive": {
     "language": "csharp"
    },
    "polyglot_notebook": {
     "kernelName": "csharp"
    },
    "vscode": {
     "languageId": "polyglot-notebook"
    }
   },
   "outputs": [
    {
     "name": "stdout",
     "output_type": "stream",
     "text": [
      "| Risk Factor / Uncertainty        | Purchase                                                                                                                                  | Lease                                                                                                                                           |\n",
      "|----------------------------------|-------------------------------------------------------------------------------------------------------------------------------------------|-------------------------------------------------------------------------------------------------------------------------------------------------|\n",
      "| **Depreciation**                 | Owner bears depreciation costs; resale value uncertain                                                                                    | Lease payments account for depreciation; residual value risk lies with leasing company                                                          |\n",
      "| **Maintenance and Repair Costs** | Owner responsible for maintenance and repairs; costs may increase over time                                                              | Often covered under warranty; may have included maintenance plan                                                                                |\n",
      "| **Mileage Limitations**          | No mileage restrictions                                                                                                                  | Mileage limits in lease agreement; excess mileage fees apply                                                                                    |\n",
      "| **Upfront Costs**                | Higher initial costs (down payment, taxes, fees)                                                                                         | Lower initial costs (security deposit, fees)                                                                                                    |\n",
      "| **Monthly Payments**             | Generally higher monthly payments                                                                                                        | Generally lower monthly payments                                                                                                                |\n",
      "| **Ownership Benefits**           | Build equity in the car; can sell or trade-in                                                                                            | No ownership; must return car at lease end                                                                                                      |\n",
      "| **End-of-Term Costs**            | Potential costs for selling or trading in car                                                                                            | Possible fees for excess wear, damage; disposition fee                                                                                          |\n",
      "| **Resale Value Uncertainty**     | Owner responsible for selling car; market conditions affect resale value                                                                 | Not responsible for resale; residual value predetermined                                                                                        |\n",
      "| **Flexibility to Change Vehicle**| Less flexibility; selling/trading may be time-consuming and costly                                                                       | Can switch to a new car at end of lease term; options to upgrade regularly                                                                      |\n",
      "| **Early Termination Penalties**  | May have negative equity if selling early; possible loss if market value is less than owed amount                                        | Significant penalties for early termination; remaining payments and fees may be due                                                             |\n",
      "| **Technology Obsolescence**      | Owner bears risk of car becoming outdated; may need to invest in new technology separately                                               | Can lease newer models regularly to keep up with latest technology and features                                                                 |\n",
      "| **Interest Rates**               | Loan interest rates affect total purchase cost; subject to market fluctuations                                                           | Money factor (lease's version of interest rate) affects payments; may be less transparent than loan interest rates                              |\n",
      "| **Usage Needs**                  | Better for long-term ownership and high-mileage usage; no penalties for extensive use                                                    | Suited for predictable, lower-mileage use; excess mileage can result in significant fees                                                        |\n",
      "| **Insurance Costs**              | May have flexibility in choosing coverage levels; insurance costs depend on financing and vehicle value                                  | May require higher insurance coverage levels as mandated by leasing company; could increase insurance premiums                                  |\n",
      "| **Credit Score Impact**          | Loan impacts credit utilization ratio; regular payments can build credit history                                                         | Lease obligations affect debt-to-income ratio; missed payments can negatively impact credit score                                               |\n",
      "| **Tax Implications**             | Sales tax on full purchase price; potential tax deductions if used for business                                                          | Sales tax typically applied to monthly payments; potential tax benefits if used for business                                                    |\n",
      "| **Customization Options**        | Full freedom to customize or modify the vehicle                                                                                          | Limited or prohibited modifications; vehicle must be returned in original condition                                                             |\n",
      "| **Total Cost of Ownership**      | Potentially lower long-term cost if the vehicle is kept for many years; costs spread over longer period                                  | Potentially higher long-term cost due to continuous lease payments; may cost more over multiple lease terms compared to owning one vehicle long-term |\r\n"
     ]
    }
   ],
   "source": [
    "// Create a system prompt instruction to override the default system prompt\n",
    "// Add the System Prompt (Persona) to behave like a decision intelligence assistant\n",
    "var systemPromptForDecisions = \"\"\"\n",
    "You are a Decision Intelligence Assistant. \n",
    "Assist the user in exploring options, reasoning through decisions, problem-solving.\n",
    "Apply systems thinking to various scenarios. Provide structured, logical, and comprehensive advice.\n",
    "\"\"\";\n",
    "var decisionAnalysisPrompt = \"\"\"\n",
    "Perform an advanced premortem (What-If) analysis on the following scenario:\n",
    "You are deciding to purchase a new car versus leasing a car.\n",
    "\n",
    "Output the risk factors, uncertainties, and potential outcomes ONLY in a Markdown table.\n",
    "Create a column for each option (Purchase, Lease) and which risk factor or uncertainty applies to each option.\n",
    "Do not surround the markdown with triple backticks.\n",
    "\"\"\";\n",
    "\n",
    "// Illustrate how the prompt appears to the LLM\n",
    "var simpleDecisionPromptTemplate = $\"\"\"\n",
    "System Prompt: {systemPromptForDecisions}\n",
    "\n",
    "Request from the user: {decisionAnalysisPrompt}\n",
    "\"\"\";\n",
    "\n",
    "var simplePromptResponse = await semanticKernel.InvokePromptAsync(decisionAnalysisPrompt);\n",
    "Console.WriteLine(simplePromptResponse.GetValue<string>());"
   ]
  },
  {
   "cell_type": "markdown",
   "metadata": {},
   "source": [
    "| Risk Factor / Uncertainty / Potential Outcome | Purchase                                                                                                | Lease                                                                                                    |\n",
    "|-----------------------------------------------|-----------------------------------------------------------------------------------------------------------|----------------------------------------------------------------------------------------------------------|\n",
    "| High Upfront Cost                             | High initial payment required for down payment and taxes                                                  | Lower initial payment; typically only first month's payment and fees                                     |\n",
    "| Depreciation of Vehicle Value                 | Owner bears the full depreciation cost over time                                                          | Depreciation is factored into lease payments; less concern for lessee                                     |\n",
    "| Maintenance Costs After Warranty              | Owner responsible for all maintenance and repair costs after warranty expiration                          | Maintenance may be covered under lease terms; newer cars less likely to need repairs                      |\n",
    "| Resale Value Uncertainty                      | Uncertain future resale value can affect total cost of ownership                                          | Not applicable; no need to resell the vehicle at end of lease                                             |\n",
    "| Financing Costs (Interest Rates)              | Interest rates on auto loan affect total purchase cost                                                    | Interest rates affect lease payments; money factor (lease equivalent of interest rate) applies            |\n",
    "| Changes in Personal Circumstances             | Financial hardship could lead to loan default or need to sell the car                                     | Financial hardship could lead to lease default with possible penalties                                    |\n",
    "| Technological Obsolescence                    | Owner may be stuck with outdated technology or features                                                   | Ability to upgrade to newer model with latest technology at end of lease term                             |\n",
    "| Opportunity Cost of Capital                   | Capital tied up in vehicle ownership could be used elsewhere                                              | Less capital required upfront; frees up funds for other investments                                       |\n",
    "| Mileage Limits and Penalties                  | No mileage restrictions; can drive unlimited miles                                                        | Mileage limits apply; excess mileage results in additional fees                                           |\n",
    "| Wear and Tear Charges                         | Owner bears cost of excessive wear but has control over repairs                                           | Excess wear and tear charges may apply at lease end                                                       |\n",
    "| No Equity Built in Vehicle                    | Equity builds over time; potential asset at end of loan                                                   | No equity or ownership; payments do not contribute to ownership                                           |\n",
    "| Early Termination Fees                        | Can sell the car at any time, though may incur loss if loan balance exceeds car value                     | Early lease termination can result in substantial fees and penalties                                      |\n",
    "| Insurance Gap Coverage Needed                 | May be optional; depreciation could result in owing more than car's value                                 | Often required; protects against owing the difference between insurance payout and lease balance          |\n",
    "| Flexibility to Modify Car                     | Full freedom to customize or modify the vehicle                                                           | Modifications typically prohibited; must return car in original condition                                 |\n",
    "| Total Cost Over Time                          | Potentially lower total cost if kept long-term and maintenance costs are manageable                       | Potentially higher total cost over similar period due to continuous lease payments                        |\n",
    "| Obligation Period                             | Commitment until loan is paid off or car is sold                                                          | Fixed lease term commitment; less flexibility to exit agreement early                                     |\n",
    "| Impact of Market Conditions                   | Changes in used car market affect resale value and total cost of ownership                                | Lessee is insulated from market fluctuations; residual value risk is on the lessor                        |\n",
    "| Tax Considerations                            | Possible tax deductions for interest paid (subject to tax laws)                                           | Lease payments may be tax-deductible if car is used for business purposes                                 |\n",
    "| Credit Score Impact                           | Loan default negatively impacts credit score                                                              | Lease default negatively impacts credit score                                                             |\n",
    "| End of Term Options                           | Own the car outright, sell, or trade in for a new vehicle                                                 | Options to return the car, purchase it at residual value, or lease a new vehicle                          |\n",
    "| Flexibility of Use                            | Unlimited personal use; ownership allows for any usage                                                    | Use is limited by lease terms; restrictions on commercial use or ride-sharing services may apply          |"
   ]
  },
  {
   "cell_type": "markdown",
   "metadata": {},
   "source": [
    "This Markdown table can be further simplified by highlighting which risk factor is more favorable when comparing a Purchase versus a Lease.\n",
    "\n",
    "| Risk Factor / Uncertainty / Potential Outcome | Purchase | Lease |\n",
    "|-----------------------------------------------|----------|-------|\n",
    "| High Upfront Cost                             |          | ☑️    |\n",
    "| Depreciation of Vehicle Value                 |          | ☑️    |\n",
    "| Maintenance Costs After Warranty              |          | ☑️    |\n",
    "| Resale Value Uncertainty                      |          | ☑️    |\n",
    "| Financing Costs (Interest Rates)              |          |       |\n",
    "| Changes in Personal Circumstances             | ☑️       |       |\n",
    "| Technological Obsolescence                    |          | ☑️    |\n",
    "| Opportunity Cost of Capital                   |          | ☑️    |\n",
    "| Mileage Limits and Penalties                  | ☑️       |       |\n",
    "| Wear and Tear Charges                         | ☑️       |       |\n",
    "| No Equity Built in Vehicle                    | ☑️       |       |\n",
    "| Early Termination Fees                        | ☑️       |       |\n",
    "| Insurance Gap Coverage Needed                 | ☑️       |       |\n",
    "| Flexibility to Modify Car                     | ☑️       |       |\n",
    "| Total Cost Over Time                          | ☑️       |       |\n",
    "| Obligation Period                             | ☑️       |       |\n",
    "| Impact of Market Conditions                   |          | ☑️    |\n",
    "| Tax Considerations                            |          | ☑️    |\n",
    "| Credit Score Impact                           |          |       |\n",
    "| End of Term Options                           |          | ☑️    |\n",
    "| Flexibility of Use                            | ☑️       |       |\n"
   ]
  }
 ],
 "metadata": {
  "kernelspec": {
   "display_name": ".NET (C#)",
   "language": "C#",
   "name": ".net-csharp"
  },
  "language_info": {
   "name": "python"
  },
  "polyglot_notebook": {
   "kernelInfo": {
    "defaultKernelName": "csharp",
    "items": [
     {
      "aliases": [],
      "name": "csharp"
     }
    ]
   }
  }
 },
 "nbformat": 4,
 "nbformat_minor": 2
}
