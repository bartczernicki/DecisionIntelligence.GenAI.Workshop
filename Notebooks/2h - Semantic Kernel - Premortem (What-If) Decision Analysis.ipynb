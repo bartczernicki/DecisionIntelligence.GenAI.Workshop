{
 "cells": [
  {
   "cell_type": "markdown",
   "metadata": {},
   "source": [
    "<img style=\"float: left;padding-right: 10px\" width =\"40px\" src=\"https://raw.githubusercontent.com/bartczernicki/DecisionIntelligence.GenAI.Workshop/main/Images/SemanticKernelLogo.png\">\n",
    "\n",
    "## Semantic Kernel - Premortem (What-If) Decision Analysis  "
   ]
  },
  {
   "cell_type": "markdown",
   "metadata": {},
   "source": [
    "> 📜 \"The pre-mortem method has a number of benefits besides identifying trouble spots in a plan – reducing overconfidence and promoting discoveries. The method can strengthen members’ mental models… And it can help create a culture of candor and trust.\"\n",
    ">\n",
    "> -- <cite>Gary Klein (Psychologist, creator of the Pre-mortem method)</cite>  "
   ]
  },
  {
   "cell_type": "markdown",
   "metadata": {},
   "source": [
    "Decision Intelligence applied in this module:  \n",
    "* Using Premortem Decision Analysis to improve decision quality & outcomes  \n",
    "* Using a Premortem decision output for improving of Gathering Intelligence \n",
    "* Attain different perspectives using mutliple decision frames  \n",
    "* Apply a Decision Framework to Premortem Decision Analysis \n"
   ]
  },
  {
   "cell_type": "markdown",
   "metadata": {},
   "source": [
    "### What is a Premortem (What-If Analysis)  "
   ]
  },
  {
   "cell_type": "markdown",
   "metadata": {},
   "source": [
    "You have probably heard of a **postmortem (post-mortem)**, which is a look back at an actual failure (or success) to understand why it happened and learn from it. In the context of decision making, after the decision outcome is clear you can analyze why the result occured. For example, a hedge fund may host a postmortem meeting after analyzing an unsuccesful move on a tech stock that didn't materialize the return on investment as was planned. \n",
    "\n",
    "In a **premortem (pre-mortem)** the outcome is \"imagined\" and then it is figured out why that potential \"imagined\" outcome happened. In a premortem, a planning exercise is held where a team imagines that a project or decision has already succeeded or failed. The team then works backward, brainstorming what might have caused things to go wrong. This approach allows everyone to spot potential risks and address them before starting the project. Therefore, it’s a bit like predicting the future and using that prediction to make the forecast stronger. "
   ]
  },
  {
   "cell_type": "markdown",
   "metadata": {},
   "source": [
    "### Example Decision Scenario - Purchasing a Car   "
   ]
  },
  {
   "cell_type": "markdown",
   "metadata": {},
   "source": [
    "Imagine you're about to buy a new car. Let's play a game of \"What-If\" that the purchase decision results in either two outcomes a: **disaster** or a **successful** outcome. "
   ]
  },
  {
   "cell_type": "markdown",
   "metadata": {},
   "source": [
    "#### Premortem Outcome - Disaster  "
   ]
  },
  {
   "cell_type": "markdown",
   "metadata": {},
   "source": [
    "<img style=\"display: block; margin: auto;\" width =\"700px\" src=\"https://raw.githubusercontent.com/bartczernicki/DecisionIntelligence.GenAI.Workshop/main/Images/Scenarios/Scenario-DecisionPremortem.png\">"
   ]
  },
  {
   "cell_type": "markdown",
   "metadata": {},
   "source": [
    "In a **premortem (pre-mortem)**, you pretend the car purchase turned out to be a disaster. Now, you ask yourself:  \n",
    "**What went wrong with the decision to buy a new car?**\n",
    "\n",
    "Here are some potential reasons the car purchase had a poor outcome:  \n",
    "\n",
    "* **Financial issues:** You realize later you can’t comfortably afford the monthly payments or maintenance costs.  \n",
    "* **Unexpected repairs:** The car has hidden mechanical problems, leading to costly repairs.  \n",
    "* **Insurance costs:** Insurance is much higher than expected, impacting your budget.\n",
    "* **Poor fuel efficiency:** The car uses more gas than you thought, making it expensive to drive.\n",
    "Resale value drop: The car’s value plummets quickly, leaving you with less if you want to sell or trade it.  "
   ]
  },
  {
   "cell_type": "markdown",
   "metadata": {},
   "source": [
    "#### Premortem Outcome - Success"
   ]
  },
  {
   "cell_type": "markdown",
   "metadata": {},
   "source": [
    "In a premortem for a successful car purchase, imagine you bought the car, and it turned out to be a succssful decision. Now, you ask yourself:  \n",
    "**What went right with the decision to buy a new car?**  \n",
    "\n",
    "Here are some potential reasons the car purchase had a good outcome: \n",
    "\n",
    "* **Affordable and realistic budget:** You set a budget that allowed for comfortable monthly payments and covered insurance, fuel, and maintenance without straining your finances.  \n",
    "* **Thorough inspection:** You got a detailed inspection before buying, which confirmed the car was in excellent condition and minimized the risk of future repairs.\n",
    "* **Reliable model choice:** You researched models with a reputation for reliability, so you experience fewer repairs and smooth performance.\n",
    "* **Fuel efficiency matches needs:** You chose a car that meets your fuel efficiency needs, saving money on gas and fitting well with your daily driving habits.   \n",
    "* **High resale value:** You picked a make and model that holds its value well, giving you confidence that it’s a good long-term investment.  "
   ]
  },
  {
   "cell_type": "markdown",
   "metadata": {},
   "source": [
    "#### Premortem (What-If) Decision Analysis "
   ]
  },
  {
   "cell_type": "markdown",
   "metadata": {},
   "source": [
    "Imagining successful outcomes helps you focus on actions like sticking to a car budget, getting a full inspection, and choosing a reliable model. You will be more likely to make a purchase you’ll be happy with. By plyaing a \"game\" of What-If with decision criteria in advance, you could adapt your strategy. For example, you could consider to thoroughly check maintenance records, buy additional warranty, test drive with similar terrain in your area, or reassess your budget to avoid these potential problems.\n",
    "\n",
    "How can Generative AI help? Using Generative AI, the LLM models can be used to \"imagine\" premortem outcomes and  brainstorm potential factors why that certain outcome occured. Generative AI agents can act as your \"premortem\" team. This can lead to additional questions, gathering of intelligence, checklists, negotiation leverage etc. you didn't consider initially. "
   ]
  },
  {
   "cell_type": "markdown",
   "metadata": {},
   "source": [
    "### Step 1 - Initialize Configuration Builder & Build the Semantic Kernel Orchestration "
   ]
  },
  {
   "cell_type": "code",
   "execution_count": 3,
   "metadata": {
    "dotnet_interactive": {
     "language": "csharp"
    },
    "polyglot_notebook": {
     "kernelName": "csharp"
    },
    "vscode": {
     "languageId": "polyglot-notebook"
    }
   },
   "outputs": [
    {
     "data": {
      "text/html": [
       "<div><div></div><div></div><div><strong>Installed Packages</strong><ul><li><span>Microsoft.Extensions.Configuration, 9.0.4</span></li><li><span>Microsoft.Extensions.Configuration.Json, 9.0.4</span></li><li><span>Microsoft.SemanticKernel, 1.47.0</span></li><li><span>Microsoft.SemanticKernel.Plugins.Core, 1.47.0-alpha</span></li></ul></div></div>"
      ]
     },
     "metadata": {},
     "output_type": "display_data"
    }
   ],
   "source": [
    "#r \"nuget: Microsoft.Extensions.Configuration, 9.0.4\"\n",
    "#r \"nuget: Microsoft.Extensions.Configuration.Json, 9.0.4\"\n",
    "#r \"nuget: Microsoft.SemanticKernel, 1.47\"\n",
    "#r \"nuget: Microsoft.SemanticKernel.Plugins.Core, 1.47-alpha\"\n",
    "\n",
    "using Microsoft.Extensions.Configuration.Json;\n",
    "using Microsoft.Extensions.Configuration;\n",
    "using Microsoft.SemanticKernel;\n",
    "using Microsoft.SemanticKernel.ChatCompletion;\n",
    "using Microsoft.SemanticKernel.Connectors.OpenAI;\n",
    "using System.IO;\n",
    "\n",
    "var configurationBuilder = new ConfigurationBuilder()\n",
    "    .SetBasePath(Directory.GetCurrentDirectory())\n",
    "    .AddJsonFile(\"local.settings.json\", optional: true, reloadOnChange: true)\n",
    "    .AddJsonFile(\"secrets.settings.json\", optional: true, reloadOnChange: true);\n",
    "var config = configurationBuilder.Build();\n",
    "\n",
    "// IMPORTANT: You ONLY NEED either Azure OpenAI or OpenAI connectiopn info, not both.\n",
    "// Azure OpenAI Connection Info using o1 series of models\n",
    "var azureOpenAIEndpoint = config[\"AzureOpenAI:Endpoint\"];\n",
    "var azureOpenAIAPIKey = config[\"AzureOpenAI:APIKey\"];\n",
    "var azureOpenAIModelDeploymentName = config[\"AzureOpenAI:ModelDeploymentName\"];\n",
    "// OpenAI Connection Info \n",
    "var openAIAPIKey = config[\"OpenAI:APIKey\"];\n",
    "var openAIModelId = config[\"OpenAI:ModelId\"];"
   ]
  },
  {
   "cell_type": "code",
   "execution_count": 4,
   "metadata": {
    "dotnet_interactive": {
     "language": "csharp"
    },
    "polyglot_notebook": {
     "kernelName": "csharp"
    },
    "vscode": {
     "languageId": "polyglot-notebook"
    }
   },
   "outputs": [
    {
     "name": "stdout",
     "output_type": "stream",
     "text": [
      "Using Azure OpenAI Service\n"
     ]
    }
   ],
   "source": [
    "using Microsoft.Extensions.DependencyInjection.Extensions;\n",
    "using Microsoft.Extensions.DependencyInjection;\n",
    "using Microsoft.SemanticKernel;\n",
    "using Microsoft.SemanticKernel.ChatCompletion;\n",
    "using Microsoft.SemanticKernel.Connectors.OpenAI;\n",
    "\n",
    "Kernel semanticKernel;\n",
    "\n",
    "// Set the flag to use Azure OpenAI or OpenAI. False to use OpenAI, True to use Azure OpenAI\n",
    "var useAzureOpenAI = true;\n",
    "\n",
    "// Create a new Semantic Kernel instance\n",
    "if (useAzureOpenAI)\n",
    "{\n",
    "    Console.WriteLine(\"Using Azure OpenAI Service\");\n",
    "    semanticKernel = Kernel.CreateBuilder()\n",
    "        .AddAzureOpenAIChatCompletion(\n",
    "            deploymentName: azureOpenAIModelDeploymentName,\n",
    "            endpoint: azureOpenAIEndpoint,\n",
    "            apiKey: azureOpenAIAPIKey)\n",
    "        .Build();\n",
    "}\n",
    "else\n",
    "{\n",
    "    Console.WriteLine(\"Using OpenAI Service\");\n",
    "    semanticKernel = Kernel.CreateBuilder()\n",
    "        .AddOpenAIChatCompletion(\n",
    "            modelId: openAIModelId,\n",
    "            apiKey: openAIAPIKey)\n",
    "        .Build();\n",
    "}\n",
    "\n",
    "var chatCompletionService = semanticKernel.Services.GetRequiredService<IChatCompletionService>();"
   ]
  },
  {
   "cell_type": "markdown",
   "metadata": {},
   "source": [
    "### Step 2 - Premortem Risk Analysis with AI Reasoning Models"
   ]
  },
  {
   "cell_type": "markdown",
   "metadata": {},
   "source": [
    "> 📜 \"Success is a lousy teacher. It seduces smart people into thinking they can’t lose.\"\n",
    ">\n",
    "> -- <cite>Bill Gates (Co-Founder of Microsoft, Philantropist)</cite>  "
   ]
  },
  {
   "cell_type": "markdown",
   "metadata": {},
   "source": [
    "In the decision scenario below, an AI model will perform a premortem (What-If) analysis on the decision whether to purchase or lease a car. The AI model will provide risks and items to consider for each of the decision options: purchasing a car or leasing a car. "
   ]
  },
  {
   "cell_type": "code",
   "execution_count": 5,
   "metadata": {
    "dotnet_interactive": {
     "language": "csharp"
    },
    "polyglot_notebook": {
     "kernelName": "csharp"
    },
    "vscode": {
     "languageId": "polyglot-notebook"
    }
   },
   "outputs": [
    {
     "name": "stdout",
     "output_type": "stream",
     "text": [
      "A premortem analysis is a proactive decision-making tool that involves imagining a decision has failed and then working backward to identify potential risks, pitfalls, and challenges that could lead to that failure. This exercise helps uncover blind spots and improve decision outcomes. Below is an advanced premortem analysis for the decision scenario of purchasing a new car versus leasing a car.\n",
      "\n",
      "---\n",
      "\n",
      "### **Decision Scenario: Purchase vs. Lease a Car**\n",
      "\n",
      "#### **Step 1: Define the Decision**\n",
      "You are deciding whether to purchase a new car outright (or with financing) or lease a car. The goal is to make the most financially sound and practical choice while considering long-term needs, lifestyle, and preferences.\n",
      "\n",
      "---\n",
      "\n",
      "### **Step 2: Imagine Failure**\n",
      "Imagine that you made the decision to purchase or lease a car, and it turned out to be a poor decision. What could have gone wrong? Below are potential failure scenarios for each option:\n",
      "\n",
      "#### **Failure Scenarios for Purchasing a Car**\n",
      "1. **Financial Strain**: The upfront cost or monthly loan payments exceeded your budget, leading to financial stress or inability to cover other expenses.\n",
      "2. **Depreciation Loss**: The car’s value depreciated faster than expected, leaving you with a low resale value if you decide to sell it.\n",
      "3. **Maintenance Costs**: Unexpected repair and maintenance costs accumulated over time, making ownership more expensive than anticipated.\n",
      "4. **Lifestyle Changes**: Your circumstances changed (e.g., relocation, new job, family growth), and the car no longer fits your needs.\n",
      "5. **Technology Obsolescence**: The car’s features became outdated quickly, especially with advancements in electric vehicles (EVs) or autonomous driving technology.\n",
      "6. **Missed Opportunities**: You tied up capital in the purchase, limiting your ability to invest in other opportunities (e.g., savings, investments, or experiences).\n",
      "\n",
      "#### **Failure Scenarios for Leasing a Car**\n",
      "1. **Exceeding Mileage Limits**: You exceeded the mileage limits specified in the lease agreement, resulting in costly penalties.\n",
      "2. **Wear-and-Tear Fees**: The car incurred excessive wear and tear, leading to additional charges at the end of the lease.\n",
      "3. **Lack of Ownership**: At the end of the lease, you have no equity in the car, and you must start over with another lease or purchase.\n",
      "4. **Long-Term Costs**: Leasing turned out to be more expensive over time compared to purchasing, especially if you leased multiple cars consecutively.\n",
      "5. **Lifestyle Incompatibility**: The lease terms (e.g., mileage limits, contract length) didn’t align with your lifestyle or driving habits.\n",
      "6. **Early Termination Fees**: You needed to end the lease early due to unforeseen circumstances, incurring significant penalties.\n",
      "\n",
      "---\n",
      "\n",
      "### **Step 3: Identify Root Causes**\n",
      "For each failure scenario, identify the root causes that could lead to these outcomes:\n",
      "\n",
      "#### **Root Causes for Purchasing Failure**\n",
      "- **Budget Miscalculation**: Underestimating total costs (e.g., loan interest, insurance, taxes, maintenance).\n",
      "- **Resale Value Misjudgment**: Poor understanding of depreciation rates for the car model.\n",
      "- **Maintenance Neglect**: Lack of research on reliability and repair costs for the car.\n",
      "- **Lifestyle Forecasting Errors**: Failing to anticipate future changes in personal or professional circumstances.\n",
      "- **Technology Trends Ignored**: Not considering the pace of innovation in the automotive industry.\n",
      "\n",
      "#### **Root Causes for Leasing Failure**\n",
      "- **Contract Misunderstanding**: Not fully understanding the lease terms and penalties.\n",
      "- **Driving Habits Misalignment**: Underestimating mileage or wear-and-tear based on your driving patterns.\n",
      "- **Cost Comparison Oversight**: Inadequate analysis of long-term costs versus purchasing.\n",
      "- **Flexibility Needs Overlooked**: Failing to account for potential changes in your transportation needs during the lease term.\n",
      "\n",
      "---\n",
      "\n",
      "### **Step 4: Mitigation Strategies**\n",
      "Develop strategies to prevent or minimize the likelihood of these failures.\n",
      "\n",
      "#### **Mitigation Strategies for Purchasing**\n",
      "1. **Budget Planning**: Create a detailed budget that includes all costs (loan payments, insurance, taxes, maintenance, fuel).\n",
      "2. **Research Depreciation**: Choose a car model with strong resale value and low depreciation rates.\n",
      "3. **Reliability Assessment**: Research the car’s reliability ratings and estimated maintenance costs.\n",
      "4. **Future-Proofing**: Consider how the car will fit your needs over the next 5–10 years (e.g., family size, commuting distance).\n",
      "5. **Technology Consideration**: Evaluate whether the car’s technology features will remain relevant in the near future.\n",
      "\n",
      "#### **Mitigation Strategies for Leasing**\n",
      "1. **Contract Review**: Carefully review lease terms, including mileage limits, wear-and-tear policies, and early termination fees.\n",
      "2. **Driving Habits Analysis**"
     ]
    }
   ],
   "source": [
    "// Create a system prompt instruction to override the default system prompt\n",
    "// Add the System Prompt (Persona) to behave like a decision intelligence assistant\n",
    "var systemPromptForDecisions = \"\"\"\n",
    "You are a Decision Intelligence Assistant. \n",
    "Assist the user in exploring options, reasoning through decisions, problem-solving.\n",
    "Apply systems thinking to various scenarios. Provide structured, logical, and comprehensive advice.\n",
    "\"\"\";\n",
    "var decisionPreMortemAnalysisPrompt = \"\"\"\n",
    "Perform an advanced premortem (What-If) analysis on the following decision scenario:\n",
    "You are deciding to purchase a new car versus leasing a car.\n",
    "\"\"\";\n",
    "\n",
    "// Create a new chat history with pre-mortem analysis prompt\n",
    "var chatHistoryPreMortemAnalysis = new ChatHistory();\n",
    "chatHistoryPreMortemAnalysis.AddSystemMessage(systemPromptForDecisions);\n",
    "chatHistoryPreMortemAnalysis.AddUserMessage(decisionPreMortemAnalysisPrompt);\n",
    "\n",
    "// Create a new OpenAI prompt execution settings object\n",
    "// Try different settings (Temperature, FrequencyPenalty etc) to see how they affect the quality of the generated text\n",
    "var openAIPromptExecutionSettings = new OpenAIPromptExecutionSettings { \n",
    "    MaxTokens = 1000, \n",
    "    Temperature = 0.3, \n",
    "    TopP = 1.0, \n",
    "    FrequencyPenalty = 0.0, \n",
    "    PresencePenalty = 0.0\n",
    "    };\n",
    "\n",
    "var decisionResponseChainOfThought = string.Empty;\n",
    "// Include both the chat history and the prompt execution settings in the call to GetStreamingChatMessageContentsAsync\n",
    "await foreach (var content in chatCompletionService.GetStreamingChatMessageContentsAsync(chatHistoryPreMortemAnalysis, openAIPromptExecutionSettings))\n",
    "{\n",
    "    decisionResponseChainOfThought += content;\n",
    "    Console.Write(content);\n",
    "}"
   ]
  },
  {
   "cell_type": "markdown",
   "metadata": {},
   "source": [
    "The large reasoning model provided a comprehensive set of criteria, risks, mitigation strategy and approaches for the two decisions. This is a great option, but it might be more ideal to provide this in an easy to consume table (checklist) for the user that is easy to compare and contrast. This What-If analysis is easy to consume on a mobile device or even print out and annotate. "
   ]
  },
  {
   "cell_type": "code",
   "execution_count": 6,
   "metadata": {
    "dotnet_interactive": {
     "language": "csharp"
    },
    "polyglot_notebook": {
     "kernelName": "csharp"
    },
    "vscode": {
     "languageId": "polyglot-notebook"
    }
   },
   "outputs": [
    {
     "name": "stdout",
     "output_type": "stream",
     "text": [
      "| **Risk Factor/Uncertainty**                  | **Purchase**                                                                 | **Lease**                                                                 |\n",
      "|---------------------------------------------|-----------------------------------------------------------------------------|---------------------------------------------------------------------------|\n",
      "| **Upfront Costs**                           | High initial cost due to down payment and taxes.                           | Lower upfront costs, typically just a smaller down payment or fees.       |\n",
      "| **Monthly Payments**                        | Higher monthly payments if financing the car.                              | Lower monthly payments compared to purchasing.                            |\n",
      "| **Depreciation**                            | Risk of rapid depreciation reducing resale value.                          | Not a concern, as the car is returned at the end of the lease.            |\n",
      "| **Ownership**                               | Full ownership after payments are complete, with potential long-term value.| No ownership; must return the car at the end of the lease term.           |\n",
      "| **Mileage Restrictions**                    | No restrictions; freedom to drive as much as needed.                       | Mileage limits may incur costly penalties if exceeded.                    |\n",
      "| **Maintenance Costs**                       | Responsible for all maintenance and repair costs after warranty expires.   | Typically covered under warranty during the lease term.                   |\n",
      "| **Flexibility**                             | Less flexibility; harder to switch vehicles without selling or trading in. | Easier to switch to a new car at the end of the lease term.               |\n",
      "| **Customization**                           | Can modify or customize the car as desired.                                | Limited or no ability to customize the car.                               |\n",
      "| **Long-Term Financial Impact**              | Potential for better financial value if the car is kept long-term.         | May cost more over time if leasing repeatedly without purchasing.         |\n",
      "| **Residual Value Risk**                     | Risk of lower resale value than expected.                                  | No residual value risk; the leasing company assumes this risk.            |\n",
      "| **Technology Obsolescence**                 | Risk of owning a car that becomes outdated quickly.                        | Easier to upgrade to newer models with the latest technology.             |\n",
      "| **Contractual Obligations**                 | No contractual restrictions after purchase.                                | Bound by lease terms with penalties for early termination.                |\n",
      "| **Insurance Costs**                         | May have slightly lower insurance requirements.                            | May require higher insurance coverage as per lease agreement.             |\n",
      "| **Tax Implications**                        | May qualify for tax deductions (e.g., business use).                       | Lease payments may be partially deductible for business use.              |\n",
      "| **End-of-Term Options**                     | Can sell, trade-in, or keep the car indefinitely.                          | Must return the car or purchase it at residual value.                     |\n",
      "| **Market Conditions**                       | Resale value depends on used car market conditions.                        | Lease terms are fixed, unaffected by market fluctuations.                 |\n",
      "| **Emotional Attachment**                    | Higher likelihood of attachment to the car due to ownership.               | Less emotional attachment as the car is temporary.                        |"
     ]
    }
   ],
   "source": [
    "// Create a system prompt instruction to override the default system prompt\n",
    "// Add the System Prompt (Persona) to behave like a Decision Intelligence assistant\n",
    "var systemPromptForDecisions = \"\"\"\n",
    "You are a Decision Intelligence Assistant. \n",
    "Assist the user in exploring options, reasoning through decisions, problem-solving.\n",
    "Apply systems thinking to various scenarios. Provide structured, logical, and comprehensive advice.\n",
    "\"\"\";\n",
    "var decisionPreMortemAnalysisChecklistPrompt = \"\"\"\n",
    "Perform an advanced premortem (What-If) analysis on the following scenario:\n",
    "You are deciding to purchase a new car versus leasing a car.\n",
    "\n",
    "Output the risk factors, uncertainties, and potential outcomes ONLY in a Markdown table.\n",
    "Create a column for each option (Purchase, Lease) and which risk factor or uncertainty applies to each option.\n",
    "Do not surround the markdown with triple backticks.\n",
    "\"\"\";\n",
    "\n",
    "// Create a new chat history with pre-mortem analysis prompt\n",
    "var chatHistoryPreMortemAnalysisChecklist = new ChatHistory();\n",
    "chatHistoryPreMortemAnalysisChecklist.AddSystemMessage(systemPromptForDecisions);\n",
    "chatHistoryPreMortemAnalysisChecklist.AddUserMessage(decisionPreMortemAnalysisChecklistPrompt);\n",
    "\n",
    "// Create a new OpenAI prompt execution settings object\n",
    "// Try different settings (Temperature, FrequencyPenalty etc) to see how they affect the quality of the generated text\n",
    "var openAIPromptExecutionSettings = new OpenAIPromptExecutionSettings { \n",
    "    MaxTokens = 1000, \n",
    "    Temperature = 0.3, \n",
    "    TopP = 1.0, \n",
    "    FrequencyPenalty = 0.0, \n",
    "    PresencePenalty = 0.0\n",
    "    };\n",
    "\n",
    "var preMortemAnalysisResponse = string.Empty;\n",
    "// Include both the chat history and the prompt execution settings in the call to GetStreamingChatMessageContentsAsync\n",
    "await foreach (var content in chatCompletionService.GetStreamingChatMessageContentsAsync(chatHistoryPreMortemAnalysisChecklist, openAIPromptExecutionSettings))\n",
    "{\n",
    "    preMortemAnalysisResponse += content;\n",
    "    Console.Write(content);\n",
    "}\n",
    "\n",
    "// Add the final response to the chat history for the pre-mortem analysis checklist history\n",
    "chatHistoryPreMortemAnalysisChecklist.AddAssistantMessage(preMortemAnalysisResponse);"
   ]
  },
  {
   "cell_type": "markdown",
   "metadata": {},
   "source": [
    "| **Risk Factor/Uncertainty**                  | **Purchase**                                                                 | **Lease**                                                                 |\n",
    "|---------------------------------------------|-----------------------------------------------------------------------------|---------------------------------------------------------------------------|\n",
    "| **Upfront Costs**                           | High initial cost due to down payment and taxes.                           | Lower upfront costs, typically just a smaller down payment or fees.       |\n",
    "| **Monthly Payments**                        | Higher monthly payments if financing the car.                              | Lower monthly payments compared to purchasing.                            |\n",
    "| **Depreciation**                            | Risk of rapid depreciation reducing resale value.                          | Not a concern, as the car is returned at the end of the lease.            |\n",
    "| **Ownership**                               | Full ownership after payments are complete, with potential long-term value.| No ownership; must return the car at the end of the lease term.           |\n",
    "| **Mileage Restrictions**                    | No restrictions; freedom to drive as much as needed.                       | Mileage limits may incur costly penalties if exceeded.                    |\n",
    "| **Maintenance Costs**                       | Responsible for all maintenance and repair costs after warranty expires.   | Typically covered under warranty during the lease term.                   |\n",
    "| **Flexibility**                             | Less flexibility; harder to switch vehicles without selling or trading in. | Easier to switch to a new car at the end of the lease term.               |\n",
    "| **Customization**                           | Can modify or customize the car as desired.                                | Limited or no ability to customize the car.                               |\n",
    "| **Long-Term Financial Impact**              | Potential for better financial value if the car is kept long-term.         | May cost more over time if leasing repeatedly without purchasing.         |\n",
    "| **Residual Value Risk**                     | Risk of lower resale value than expected.                                  | No residual value risk; the leasing company assumes this risk.            |\n",
    "| **Technology Obsolescence**                 | Risk of owning a car that becomes outdated quickly.                        | Easier to upgrade to newer models with the latest technology.             |\n",
    "| **Contractual Obligations**                 | No contractual restrictions after purchase.                                | Bound by lease terms with penalties for early termination.                |\n",
    "| **Insurance Costs**                         | May have slightly lower insurance requirements.                            | May require higher insurance coverage as per lease agreement.             |\n",
    "| **Tax Implications**                        | May qualify for tax deductions (e.g., business use).                       | Lease payments may be partially deductible for business use.              |\n",
    "| **End-of-Term Options**                     | Can sell, trade-in, or keep the car indefinitely.                          | Must return the car or purchase it at residual value.                     |\n",
    "| **Market Conditions**                       | Resale value depends on used car market conditions.                        | Lease terms are fixed, unaffected by market fluctuations.                 |\n",
    "| **Emotional Attachment**                    | Higher likelihood of attachment to the car due to ownership.               | Less emotional attachment as the car is temporary.                        |"
   ]
  },
  {
   "cell_type": "markdown",
   "metadata": {},
   "source": [
    "This Markdown table can be further simplified by highlighting which risk factor is more favorable when comparing a car purchase versus a car lease. This can make the decision process much easier to the user, as at a glance they can see overwhelming evidence that favors once decision option over the other.  "
   ]
  },
  {
   "cell_type": "code",
   "execution_count": 7,
   "metadata": {
    "polyglot_notebook": {
     "kernelName": "csharp"
    },
    "vscode": {
     "languageId": "polyglot-notebook"
    }
   },
   "outputs": [
    {
     "name": "stdout",
     "output_type": "stream",
     "text": [
      "| **Risk Factor / Uncertainty / Potential Outcome** | **Purchase** | **Lease** |\n",
      "|---------------------------------------------------|--------------|-----------|\n",
      "| **Upfront Costs**                                 |              | ☑️        |\n",
      "| **Monthly Payments**                              |              | ☑️        |\n",
      "| **Depreciation**                                  |              | ☑️        |\n",
      "| **Ownership**                                     | ☑️           |           |\n",
      "| **Mileage Restrictions**                          | ☑️           |           |\n",
      "| **Maintenance Costs**                             |              | ☑️        |\n",
      "| **Flexibility**                                   |              | ☑️        |\n",
      "| **Customization**                                 | ☑️           |           |\n",
      "| **Long-Term Financial Impact**                    | ☑️           |           |\n",
      "| **Residual Value Risk**                           |              | ☑️        |\n",
      "| **Technology Obsolescence**                       |              | ☑️        |\n",
      "| **Contractual Obligations**                       | ☑️           |           |\n",
      "| **Insurance Costs**                               | ☑️           |           |\n",
      "| **Tax Implications**                              | ☑️           | ☑️        |\n",
      "| **End-of-Term Options**                           | ☑️           |           |\n",
      "| **Market Conditions**                             |              | ☑️        |\n",
      "| **Emotional Attachment**                          | ☑️           |           |"
     ]
    }
   ],
   "source": [
    "var simplifyRiskAnalysisPrompt = \"\"\"\n",
    "You are provided a detailed markdown table in the above chat history that \n",
    "compares Purchase and Lease options across various risk factors and uncertainties. \n",
    "Your task is to convert this table into a simplified markdown table that uses check marks (☑️) \n",
    "to indicate which option is less risky or more ideal for each risk factor. \n",
    "The output table should have three columns: \"Risk Factor / Uncertainty / Potential Outcome\", \"Purchase\", and \"Lease\". \n",
    "For each risk factor, decide based on the detailed descriptions which option (Purchase or Lease) \n",
    "is preferable (i.e., less risky or more advantageous) and place a check mark (☑️) in that column. \n",
    "If an option is not the ideal choice for a given risk factor, leave its cell blank. \n",
    "Make sure the simplified table closely reflects the key insights from the detailed table. \n",
    "\"\"\";\n",
    "\n",
    "chatHistoryPreMortemAnalysisChecklist.AddUserMessage(simplifyRiskAnalysisPrompt);\n",
    "\n",
    "var preMortemAnalysisSimplifiedChecklistResponse = string.Empty;\n",
    "// Include both the chat history and the prompt execution settings in the call to GetStreamingChatMessageContentsAsync\n",
    "await foreach (var content in chatCompletionService.GetStreamingChatMessageContentsAsync(chatHistoryPreMortemAnalysisChecklist, openAIPromptExecutionSettings))\n",
    "{\n",
    "    preMortemAnalysisSimplifiedChecklistResponse += content;\n",
    "    Console.Write(content);\n",
    "}"
   ]
  },
  {
   "cell_type": "markdown",
   "metadata": {},
   "source": [
    "| **Risk Factor / Uncertainty / Potential Outcome** | **Purchase** | **Lease** |\n",
    "|---------------------------------------------------|--------------|-----------|\n",
    "| **Upfront Costs**                                 |              | ☑️        |\n",
    "| **Monthly Payments**                              |              | ☑️        |\n",
    "| **Depreciation**                                  |              | ☑️        |\n",
    "| **Ownership**                                     | ☑️           |           |\n",
    "| **Mileage Restrictions**                          | ☑️           |           |\n",
    "| **Maintenance Costs**                             |              | ☑️        |\n",
    "| **Flexibility**                                   |              | ☑️        |\n",
    "| **Customization**                                 | ☑️           |           |\n",
    "| **Long-Term Financial Impact**                    | ☑️           |           |\n",
    "| **Residual Value Risk**                           |              | ☑️        |\n",
    "| **Technology Obsolescence**                       |              | ☑️        |\n",
    "| **Contractual Obligations**                       | ☑️           |           |\n",
    "| **Insurance Costs**                               | ☑️           |           |\n",
    "| **Tax Implications**                              | ☑️           | ☑️        |\n",
    "| **End-of-Term Options**                           | ☑️           |           |\n",
    "| **Market Conditions**                             |              | ☑️        |\n",
    "| **Emotional Attachment**                          | ☑️           |           |"
   ]
  },
  {
   "cell_type": "markdown",
   "metadata": {},
   "source": [
    "### Step 3 - Premortem Analysis for Radio Telescope Operations "
   ]
  },
  {
   "cell_type": "markdown",
   "metadata": {},
   "source": [
    "Exploring space with telescopes is a time consuming investment. Current telescope designs are limited to exploring small areas of space in a certain time frame. Without going into details, the process is much more complex than snapping a picture with a mobile device. Telescopes can be pointed at a specific space area for days, weeks or even more than months! If a telescope is exploring a certain area of space it isn't collecting data on other areas. Scientists and researchers compete for valuable access to telescope resources by providing observatories what space area they want to explore, any cellestial contraints, timeframes, calibration costs, data collection transfer etc. This presents a very interesting Decision Intelligence constraints problem that observatories must manage. \n",
    "\n",
    "<img style=\"display: block; margin: auto;\" width =\"700px\" src=\"https://raw.githubusercontent.com/bartczernicki/DecisionIntelligence.GenAI.Workshop/main/Images/Scenarios/Scenario-RadioTelescope.png\">"
   ]
  },
  {
   "cell_type": "markdown",
   "metadata": {},
   "source": [
    "#### Decision Scenario - Premortem for Radio Telescope Operations "
   ]
  },
  {
   "cell_type": "markdown",
   "metadata": {},
   "source": [
    "> 📜 \"We choose to go to the Moon in this decade and do the other things, not because they are easy, but because they are hard.\" \n",
    ">\n",
    "> -- <cite>John F. Kennedy (35th President of the United States)</cite>  "
   ]
  },
  {
   "cell_type": "markdown",
   "metadata": {},
   "source": [
    "A newly commissioned radio telescope stands on the verge of unveiling the proof of alien life, but it is still far from fully calibrated. Despite limited data processing capacity and a software suite that remains untested, an unexpected cosmic event has just begun, hinting at signals that could reveal alien life. Faced with the risk of hardware damage or data corruption from running the telescope prematurely, scientists debate whether to switch it on now or wait until everything is fully operational—knowing they could lose a once-in-a-generation opportunity. Determined not to squander this brief cosmic window, the team conducts a premortem analysis to predict what might go wrong. Armed with these insights, they can better prepare for potential pitfalls and strengthen their chances of catching historic signals from across the galaxy.\n",
    "\n",
    "Let's assume the scientists decide to rush the radio telescope to operate early to find alien life. Furthermore, assume a that this decision has led to a disaster with hardware failure to the telescope. Even though the (What-If) decision was made to rush the radio telescope operationally, formal scientific telescope operations have been followed. The goal of this premortem (What-If analysis) is to illuminate any risk mitigation strategies and craft a risk mitigation approach that may have been uncovered based on the premortem. \n",
    "\n",
    "Techinques like this a very powerful in a variety of business scenarios, where existing operational frameworks exist but simulating an outcome can uncover gaps, emerging risks and other opportunities to optimize. "
   ]
  },
  {
   "cell_type": "code",
   "execution_count": 9,
   "metadata": {
    "dotnet_interactive": {
     "language": "csharp"
    },
    "polyglot_notebook": {
     "kernelName": "csharp"
    },
    "vscode": {
     "languageId": "polyglot-notebook"
    }
   },
   "outputs": [
    {
     "name": "stdout",
     "output_type": "stream",
     "text": [
      "### Post-Failure Analysis: Identifying Causes of the Grim Scenario\n",
      "\n",
      "#### 1. **Compromised or Unusable Data**\n",
      "   - **Signal Interference:** The telescope's uncalibrated state led to misaligned antennas, causing signal distortion or overlap.\n",
      "   - **Data Corruption:** The untested software suite failed to handle the high data throughput, resulting in corrupted files or incomplete datasets.\n",
      "   - **Noise Misclassification:** Without proper calibration, the system misclassified cosmic noise or Earth-origin interference as potential signals, rendering the data unreliable.\n",
      "   - **Insufficient Storage Management:** The team underestimated the storage requirements, leading to overwriting or loss of critical data.\n",
      "   - **Inadequate Signal Filtering:** Algorithms designed to isolate alien signals were either incomplete or malfunctioning, leading to false positives or missed detections.\n",
      "\n",
      "#### 2. **Errors from Incomplete Software Testing and Rushed Calibration**\n",
      "   - **Software Bugs:** Unvetted code caused crashes, data loss, or misinterpretation of signals.\n",
      "   - **Algorithmic Errors:** Signal-processing algorithms were not optimized, leading to incorrect conclusions or wasted computational resources.\n",
      "   - **Calibration Drift:** The rushed calibration process introduced systematic errors, such as incorrect frequency tuning or beam misalignment.\n",
      "   - **Incompatibility Issues:** Integration between hardware and software was incomplete, causing synchronization failures or delays in data processing.\n",
      "\n",
      "#### 3. **Overlooked Safety Protocols and Hardware Precautions**\n",
      "   - **Overheating or Overloading:** Running the telescope at full capacity without proper stress testing caused hardware components to overheat or fail.\n",
      "   - **Power Surges:** Insufficient safeguards against power fluctuations damaged sensitive equipment.\n",
      "   - **Mechanical Wear:** Antenna motors or moving parts were overused without proper lubrication or testing, leading to breakdowns.\n",
      "   - **Environmental Factors:** The team failed to account for weather conditions, electromagnetic interference, or other external risks.\n",
      "\n",
      "#### 4. **Team Dynamics and Communication Failures**\n",
      "   - **Rushed Decisions:** Under time pressure, the team bypassed critical review steps, leading to errors in judgment.\n",
      "   - **Poor Coordination:** Lack of clear roles and responsibilities caused duplication of effort or critical tasks being overlooked.\n",
      "   - **Insufficient Training:** Team members were not fully trained on the new software or hardware, leading to operational mistakes.\n",
      "   - **Missed Warnings:** Early signs of hardware strain or software glitches were ignored or deprioritized in the rush to collect data.\n",
      "\n",
      "#### 5. **Amplification of Errors Under Time Pressure**\n",
      "   - **Cascading Failures:** Small issues, such as a minor software bug, snowballed into larger problems due to the high-stakes environment.\n",
      "   - **Compromised Decision-Making:** The urgency of the rare cosmic event led to emotional, rather than rational, decisions.\n",
      "   - **Resource Overstretch:** The team lacked the bandwidth to address multiple issues simultaneously, leading to prioritization errors.\n",
      "\n",
      "---\n",
      "\n",
      "### Preventive Measures and Fail-Safes for Early Activation\n",
      "\n",
      "#### **Technical Safeguards**\n",
      "1. **Stress Testing:** Conduct a rapid but thorough stress test of the hardware and software to identify weak points before activation.\n",
      "2. **Incremental Activation:** Gradually ramp up the telescope's capacity to avoid overloading systems.\n",
      "3. **Backup Systems:** Implement redundant data storage and processing systems to prevent data loss or corruption.\n",
      "4. **Signal Validation:** Use a secondary, independent system to cross-check signals for accuracy and reduce false positives.\n",
      "5. **Environmental Monitoring:** Install sensors to monitor temperature, power fluctuations, and other environmental factors in real-time.\n",
      "\n",
      "#### **Software and Calibration Improvements**\n",
      "6. **Critical Path Testing:** Focus on testing the most essential software functions (e.g., data capture, storage, and signal filtering) before activation.\n",
      "7. **Calibration Simulations:** Use historical data or simulations to refine calibration settings without requiring full telescope operation.\n",
      "8. **Error Logging:** Ensure the software logs all errors in real-time for rapid troubleshooting.\n",
      "9. **Algorithm Prioritization:** Deploy only the most reliable signal-processing algorithms, deferring experimental features for later.\n",
      "\n",
      "#### **Operational and Procedural Changes**\n",
      "10. **Decision Framework:** Establish a clear decision-making protocol that balances risks and rewards, with input from all stakeholders.\n",
      "11. **Pre-Event Drills:** Conduct a \"dry run\" of the telescope's activation process to identify potential bottlenecks.\n",
      "12. **Emergency Shutdown Protocol:** Develop a fail-safe mechanism to power down the telescope safely in case of hardware strain or software failure.\n",
      "13. **Data Triage:** Prioritize capturing raw data over real-time processing to ensure nothing is lost, even if analysis must occur later.\n",
      "\n",
      "#### **Team and Communication Enhancements**\n",
      "14. **Role Clarity:** Assign clear responsibilities to each team member to avoid duplication or oversight.\n",
      "15. **Real-Time Communication:** Use a centralized communication platform to ensure all team members are updated on"
     ]
    }
   ],
   "source": [
    "// Create a system prompt instruction to override the default system prompt\n",
    "// Add the System Prompt (Persona) to behave like a decision intelligence assistant\n",
    "var systemPromptForPremortemRadioTelescope = \"\"\"\n",
    "You are a Decision Intelligence Assistant. \n",
    "Assist the user in exploring options, reasoning through decisions, problem-solving.\n",
    "Apply systems thinking to various scenarios. Provide structured, logical, and comprehensive advice.\n",
    "\"\"\";\n",
    "var decisionAnalysisPromptForPremortemRadioTelescope = \"\"\"\n",
    "You are a project manager at a new radio telescope facility looking for alien life.  \n",
    "It is still far from fully calibrated. Despite limited data processing capacity and a software suite that remains untested, \n",
    "an unexpected cosmic event has just begun, hinting at signals that could reveal alien life. \n",
    "Faced with the risk of hardware damage or data corruption from running the telescope prematurely, \n",
    "scientists debate whether to switch it on now or wait until everything is fully operational—knowing \n",
    "they could lose a once-in-a-generation opportunity. \n",
    "\n",
    "Imagine it is six months from now and the project to detect potential alien signals from the sudden cosmic event has failed. \n",
    "The radio telescope was likely activated prematurely, software remained untested, and the team rushed to capture transmissions. \n",
    "Despite the urgency, the outcome was disastrous: hardware suffered damage under the increased load, \n",
    "data came out corrupted, or no meaningful signals were confirmed. \n",
    "\n",
    "Now, step into that moment of failure—what specific issues, oversights, or cascading errors caused this grim scenario?\n",
    "\n",
    "1) Envision every possible way the radio telescope's early deployment could have led to compromised or unusable data.\n",
    "2) Identify how incomplete software testing and rushed calibration might have \n",
    "contributed to errors in processing or storing signals. \n",
    "3) Consider any overlooked safety protocols or hardware precautions that might have led to damage or malfunctions.\n",
    "4) Examine the roles and responsibilities of the team and think about communication breakdowns, \n",
    "rushed decisions, and missed signals or deadlines.\n",
    "5) Assess how time pressure from the rare cosmic event might have amplified smaller mistakes and \n",
    "turned them into systemic failures.\n",
    "\n",
    "Use the outcomes of this “what if” vision to create a detailed list of preventive measures. \n",
    "Then, propose fail-safes, additional resources, or procedural changes to ensure that, \n",
    "should you choose to activate the telescope early, you can still capture the event safely and \n",
    "effectively—maximizing the chance to detect historic signals without jeopardizing the entire operation.\n",
    "\"\"\";\n",
    "\n",
    "// Create a new chat history with pre-mortem analysis prompt\n",
    "var chatHistoryPreMortemTelescopeAnalysis = new ChatHistory();\n",
    "chatHistoryPreMortemTelescopeAnalysis.AddSystemMessage(systemPromptForPremortemRadioTelescope);\n",
    "chatHistoryPreMortemTelescopeAnalysis.AddUserMessage(decisionAnalysisPromptForPremortemRadioTelescope);\n",
    "\n",
    "// Create a new OpenAI prompt execution settings object\n",
    "// Try different settings (Temperature, FrequencyPenalty etc) to see how they affect the quality of the generated text\n",
    "var openAIPromptExecutionSettings = new OpenAIPromptExecutionSettings { \n",
    "    MaxTokens = 1000, \n",
    "    Temperature = 0.3, \n",
    "    TopP = 1.0, \n",
    "    FrequencyPenalty = 0.0, \n",
    "    PresencePenalty = 0.0\n",
    "    };\n",
    "\n",
    "var preMortemTelescopeAnalysisResponse = string.Empty;\n",
    "// Include both the chat history and the prompt execution settings in the call to GetStreamingChatMessageContentsAsync\n",
    "await foreach (var content in chatCompletionService.GetStreamingChatMessageContentsAsync(chatHistoryPreMortemTelescopeAnalysis, openAIPromptExecutionSettings))\n",
    "{\n",
    "    preMortemTelescopeAnalysisResponse += content;\n",
    "    Console.Write(content);\n",
    "}"
   ]
  }
 ],
 "metadata": {
  "kernelspec": {
   "display_name": ".NET (C#)",
   "language": "C#",
   "name": ".net-csharp"
  },
  "language_info": {
   "name": "python"
  },
  "polyglot_notebook": {
   "kernelInfo": {
    "defaultKernelName": "csharp",
    "items": [
     {
      "aliases": [],
      "name": "csharp"
     }
    ]
   }
  }
 },
 "nbformat": 4,
 "nbformat_minor": 2
}
