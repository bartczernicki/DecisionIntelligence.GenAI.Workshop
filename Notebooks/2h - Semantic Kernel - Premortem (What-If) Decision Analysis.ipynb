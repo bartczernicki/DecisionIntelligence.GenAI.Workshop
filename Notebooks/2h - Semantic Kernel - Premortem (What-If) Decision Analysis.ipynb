{
 "cells": [
  {
   "cell_type": "markdown",
   "metadata": {},
   "source": [
    "<img style=\"float: left;padding-right: 10px\" width =\"40px\" src=\"https://raw.githubusercontent.com/bartczernicki/DecisionIntelligence.GenAI.Workshop/main/Images/SemanticKernelLogo.png\">\n",
    "\n",
    "## Semantic Kernel - Premortem (What-If) Decision Analysis  "
   ]
  },
  {
   "cell_type": "markdown",
   "metadata": {},
   "source": [
    "Decision Intelligence applied in this module:  \n",
    "* Using Premortem Decision Analysis to improve decision quality & outcomes  \n",
    "* Using a Premortem decision output for improving of Gathering Intelligence \n",
    "* Attain different perspectives using mutliple decision frames  \n",
    "* Apply a Decision Framework to Premortem Decision Analysis \n"
   ]
  },
  {
   "cell_type": "markdown",
   "metadata": {},
   "source": [
    "### What is a Premortem (What-If Analysis)  "
   ]
  },
  {
   "cell_type": "markdown",
   "metadata": {},
   "source": [
    "You have probably heard of a **postmortem (post-mortem)**, which is a look back at an actual failure (or success) to understand why it happened and learn from it. In the context of decision making, after the decision outcome is clear you can analyze why the result occured. For example, a hedge fund may host a postmortem meeting after analyzing an unsuccesful move on a tech stock that didn't materialize the return on investment as was planned. \n",
    "\n",
    "In a **premortem (pre-mortem)** the outcome is \"imagined\" and then it is figured out why that potential \"imagined\" outcome happened. In a premortem, a planning exercise is held where a team imagines that a project or decision has already succeeded or failed. The team then works backward, brainstorming what might have caused things to go wrong. This approach allows everyone to spot potential risks and address them before starting the project. Therefore, it’s a bit like predicting the future and using that prediction to make the forecast stronger. "
   ]
  },
  {
   "cell_type": "markdown",
   "metadata": {},
   "source": [
    "### Example Decision Scenario - Purchasing a Car   "
   ]
  },
  {
   "cell_type": "markdown",
   "metadata": {},
   "source": [
    "Imagine you're about to buy a new car. Let's play a game of \"What-If\" that the purchase decision results in either two outcomes a: **disaster** or a **successful** outcome. "
   ]
  },
  {
   "cell_type": "markdown",
   "metadata": {},
   "source": [
    "#### Premortem Outcome - Disaster  "
   ]
  },
  {
   "cell_type": "markdown",
   "metadata": {},
   "source": [
    "<img style=\"display: block; margin: auto;\" width =\"700px\" src=\"https://raw.githubusercontent.com/bartczernicki/DecisionIntelligence.GenAI.Workshop/main/Images/Scenarios/Scenario-DecisionPremortem.png\">"
   ]
  },
  {
   "cell_type": "markdown",
   "metadata": {},
   "source": [
    "In a **premortem (pre-mortem)**, you pretend the car purchase turned out to be a disaster. Now, you ask yourself:  \n",
    "**What went wrong with the decision to buy a new car?**\n",
    "\n",
    "Here are some potential reasons:  \n",
    "\n",
    "* **Financial issues:** You realize later you can’t comfortably afford the monthly payments or maintenance costs.  \n",
    "* **Unexpected repairs:** The car has hidden mechanical problems, leading to costly repairs.  \n",
    "* **Insurance costs:** Insurance is much higher than expected, impacting your budget.\n",
    "* **Poor fuel efficiency:** The car uses more gas than you thought, making it expensive to drive.\n",
    "Resale value drop: The car’s value plummets quickly, leaving you with less if you want to sell or trade it.  "
   ]
  },
  {
   "cell_type": "markdown",
   "metadata": {},
   "source": [
    "#### Premortem Outcome - Success"
   ]
  },
  {
   "cell_type": "markdown",
   "metadata": {},
   "source": [
    "In a premortem for a successful car purchase, imagine you bought the car, and it turned out to be a succssful decision. Now, you ask yourself:  \n",
    "**What went right with the decision to buy a new car?**  \n",
    "\n",
    "Here are some potential reasons:\n",
    "\n",
    "* **Affordable and realistic budget:** You set a budget that allowed for comfortable monthly payments and covered insurance, fuel, and maintenance without straining your finances.  \n",
    "* **Thorough inspection:** You got a detailed inspection before buying, which confirmed the car was in excellent condition and minimized the risk of future repairs.\n",
    "* **Reliable model choice:** You researched models with a reputation for reliability, so you experience fewer repairs and smooth performance.\n",
    "* **Fuel efficiency matches needs:** You chose a car that meets your fuel efficiency needs, saving money on gas and fitting well with your daily driving habits.   \n",
    "* **High resale value:** You picked a make and model that holds its value well, giving you confidence that it’s a good long-term investment.  "
   ]
  },
  {
   "cell_type": "markdown",
   "metadata": {},
   "source": [
    "#### Premortem (What-If) Analysis "
   ]
  },
  {
   "cell_type": "markdown",
   "metadata": {},
   "source": [
    "Imagining these successful outcomes helps you focus on these actions—like sticking to budget, getting a full inspection, and choosing a reliable model—so you’re more likely to make a purchase you’ll be happy with. \n",
    "\n",
    "By plyaing a \"game\" of What-If with these issues in advance, you could consider to thoroughly check maintenance records, buy additional warranty, test drive with similar terrain in your area, or reassess your budget to avoid these potential problems.\n",
    "\n",
    "How can Generative AI help? Using Generative AI, the LLM models can be used to \"imagine\" premortem outcomes and  brainstorm potential factors why that certain outcome occured. Generative AI agents can act as your \"premortem\" team. This can lead to additional questions, gathering of intelligence, checklists, negotiation leverage etc. you didn't consider initially. "
   ]
  },
  {
   "cell_type": "markdown",
   "metadata": {},
   "source": [
    "### Step 1 - Initialize Configuration Builder & Build the Semantic Kernel Orchestration "
   ]
  },
  {
   "cell_type": "code",
   "execution_count": 1,
   "metadata": {
    "dotnet_interactive": {
     "language": "csharp"
    },
    "polyglot_notebook": {
     "kernelName": "csharp"
    },
    "vscode": {
     "languageId": "polyglot-notebook"
    }
   },
   "outputs": [
    {
     "data": {
      "text/html": [
       "<div><div></div><div></div><div><strong>Installed Packages</strong><ul><li><span>Microsoft.Extensions.Configuration, 9.0.0</span></li><li><span>Microsoft.Extensions.Configuration.Json, 9.0.0</span></li><li><span>Microsoft.SemanticKernel, 1.38.0</span></li><li><span>Microsoft.SemanticKernel.Plugins.Core, 1.38.0-alpha</span></li></ul></div></div>"
      ]
     },
     "metadata": {},
     "output_type": "display_data"
    }
   ],
   "source": [
    "#r \"nuget: Microsoft.Extensions.Configuration, 9.0.0\"\n",
    "#r \"nuget: Microsoft.Extensions.Configuration.Json, 9.0.0\"\n",
    "#r \"nuget: Microsoft.SemanticKernel, 1.38\"\n",
    "#r \"nuget: Microsoft.SemanticKernel.Plugins.Core, 1.38-alpha\"\n",
    "\n",
    "using Microsoft.Extensions.Configuration.Json;\n",
    "using Microsoft.Extensions.Configuration;\n",
    "using Microsoft.SemanticKernel;\n",
    "using Microsoft.SemanticKernel.ChatCompletion;\n",
    "using Microsoft.SemanticKernel.Connectors.OpenAI;\n",
    "using System.IO;\n",
    "\n",
    "var configurationBuilder = new ConfigurationBuilder()\n",
    "    .SetBasePath(Directory.GetCurrentDirectory())\n",
    "    .AddJsonFile(\"local.settings.json\", optional: true, reloadOnChange: true)\n",
    "    .AddJsonFile(\"secrets.settings.json\", optional: true, reloadOnChange: true);\n",
    "var config = configurationBuilder.Build();\n",
    "\n",
    "// IMPORTANT: You ONLY NEED either Azure OpenAI or OpenAI connectiopn info, not both.\n",
    "// Azure OpenAI Connection Info using o1 series of models\n",
    "var azureOpenAIEndpoint = config[\"AzureOpenAI:Endpoint\"];\n",
    "var azureOpenAIAPIKey = config[\"AzureOpenAI:APIKey\"];\n",
    "var azureOpenAIModelDeploymentName = config[\"AzureOpenAI:ModelDeploymentName\"];\n",
    "// OpenAI Connection Info \n",
    "var openAIAPIKey = config[\"OpenAI:APIKey\"];\n",
    "var openAIModelId = config[\"OpenAI:ModelId\"];"
   ]
  },
  {
   "cell_type": "code",
   "execution_count": 2,
   "metadata": {
    "dotnet_interactive": {
     "language": "csharp"
    },
    "polyglot_notebook": {
     "kernelName": "csharp"
    },
    "vscode": {
     "languageId": "polyglot-notebook"
    }
   },
   "outputs": [
    {
     "name": "stdout",
     "output_type": "stream",
     "text": [
      "Using Azure OpenAI Service\r\n"
     ]
    }
   ],
   "source": [
    "using Microsoft.Extensions.DependencyInjection.Extensions;\n",
    "using Microsoft.Extensions.DependencyInjection;\n",
    "using Microsoft.SemanticKernel;\n",
    "using Microsoft.SemanticKernel.ChatCompletion;\n",
    "using Microsoft.SemanticKernel.Connectors.OpenAI;\n",
    "\n",
    "Kernel semanticKernel;\n",
    "\n",
    "// Set the flag to use Azure OpenAI or OpenAI. False to use OpenAI, True to use Azure OpenAI\n",
    "var useAzureOpenAI = true;\n",
    "\n",
    "// Create a new Semantic Kernel instance\n",
    "if (useAzureOpenAI)\n",
    "{\n",
    "    Console.WriteLine(\"Using Azure OpenAI Service\");\n",
    "    semanticKernel = Kernel.CreateBuilder()\n",
    "        .AddAzureOpenAIChatCompletion(\n",
    "            deploymentName: azureOpenAIModelDeploymentName,\n",
    "            endpoint: azureOpenAIEndpoint,\n",
    "            apiKey: azureOpenAIAPIKey)\n",
    "        .Build();\n",
    "}\n",
    "else\n",
    "{\n",
    "    Console.WriteLine(\"Using OpenAI Service\");\n",
    "    semanticKernel = Kernel.CreateBuilder()\n",
    "        .AddOpenAIChatCompletion(\n",
    "            modelId: openAIModelId,\n",
    "            apiKey: openAIAPIKey)\n",
    "        .Build();\n",
    "}\n",
    "\n",
    "var chatCompletionService = semanticKernel.Services.GetRequiredService<IChatCompletionService>();"
   ]
  },
  {
   "cell_type": "markdown",
   "metadata": {},
   "source": [
    "### Step 2 - Premortem Risk Analysis with AI Reasoning Models"
   ]
  },
  {
   "cell_type": "markdown",
   "metadata": {},
   "source": [
    "In the decision scenario below, an AI model will perform a premortem (What-If) analysis on the decision whether to purchase or lease a car. The AI model will provide risks and items to consider for each of the decision options: purchasing a car or leasing a car. "
   ]
  },
  {
   "cell_type": "code",
   "execution_count": 3,
   "metadata": {
    "dotnet_interactive": {
     "language": "csharp"
    },
    "polyglot_notebook": {
     "kernelName": "csharp"
    },
    "vscode": {
     "languageId": "polyglot-notebook"
    }
   },
   "outputs": [
    {
     "name": "stdout",
     "output_type": "stream",
     "text": [
      "Certainly! Conducting an advanced **premortem analysis** is a strategic exercise to anticipate what could go wrong with a decision and proactively plan for contingencies. Below, I will perform a detailed analysis on the decision scenario of purchasing versus leasing a car, considering financial, emotional, logistical, and long-term implications.\n",
      "\n",
      "---\n",
      "\n",
      "### **Scenario Overview**\n",
      "You’re considering whether to **buy a new car outright** (or finance it) versus **leasing** a car. This decision involves financial commitments, lifestyle preferences, and assumptions about future circumstances.\n",
      "\n",
      "### **Premortem Objective**\n",
      "Fast forward 3 years into the future. Assume things did not work out as expected, and the decision was a mistake. What went wrong? By identifying these risks now, we can take steps to mitigate them or adjust the decision strategy.\n",
      "\n",
      "---\n",
      "\n",
      "## **Option 1: Purchasing a New Car**\n",
      "\n",
      "**Potential Reasons Why This Could Go Wrong**\n",
      "1. **Financial Overextension (Unforeseen Expenses):**\n",
      "   - Your financial situation changes due to job loss, health issues, or other emergencies, making the car loan unaffordable.\n",
      "   - Unexpected shocks such as increased insurance costs, maintenance, or repairs.\n",
      "\n",
      "2. **Depreciation and Resale Value Miscalculation:**\n",
      "   - The car’s value plummets faster than anticipated due to market changes, making it worth far less than the loan balance (if financed) or your expected resale value.\n",
      "   - You didn’t consider a model refresh or industry innovation (e.g., electric vehicles) which made your car less desirable and outdated.\n",
      "\n",
      "3. **Lifestyle Changes and Lack of Flexibility:**\n",
      "   - Your driving habits, commute, or family size changes, and the car no longer suits your needs.\n",
      "   - You need or want to relocate internationally, making it costly or impractical to sell or transport your vehicle.\n",
      "\n",
      "4. **Overconfidence in Longevity:**\n",
      "   - You assumed the car would last trouble-free for many years, but unforeseen mechanical problems arise after the warranty ends, resulting in expensive repairs.\n",
      "\n",
      "5. **Missed Opportunity Costs:**\n",
      "   - The money you spent upfront (or on monthly payments) for the purchased car could have been invested elsewhere with greater returns or used for other priorities.\n",
      "\n",
      "6. **Market/Technological Shifts:**\n",
      "   - Electric and automated vehicles become the norm, rendering your internal combustion engine car less practical, environmentally unfriendly, or lower in resale demand.\n",
      "\n",
      "---\n",
      "\n",
      "## **Option 2: Leasing a Car**\n",
      "\n",
      "**Potential Reasons Why This Could Go Wrong**\n",
      "1. **Higher Long-Term Cost:**\n",
      "   - You underestimated how leasing would cost more over time compared to purchasing (e.g., perpetual monthly payments for leases versus owning outright with no payments after a loan is paid off).\n",
      "\n",
      "2. **Mileage Restrictions and Fees:**\n",
      "   - You exceed your annual mileage allowance, resulting in significant penalties at the end of the lease term.\n",
      "   - Your lifestyle or work changes, requiring extended road trips or higher-than-expected driving, making the lease restrictive and costly.\n",
      "\n",
      "3. **Wear and Tear Penalties:**\n",
      "   - The leased car incurs more wear and tear than anticipated, leading to expensive end-of-lease penalties that you didn’t budget for.\n",
      "\n",
      "4. **Lack of Ownership and Equity:**\n",
      "   - After years of leasing, you realize you have no equity in the vehicle and feel stuck in a cycle of renting cars without building value.\n",
      "\n",
      "5. **Opportunity Cost of Losing Control:**\n",
      "   - You feel constrained by the lease’s terms, such as restrictions on customizations, limited ability to use the car freely, and the inability to sell it or trade it in at will.\n",
      "\n",
      "6. **Changing Automotive Needs:**\n",
      "   - Your needs change drastically during the lease period (e.g., new family member, job relocation) but exiting the lease early incurs substantial penalties.\n",
      "\n",
      "7. **Hidden Costs:**\n",
      "   - You fail to account for added leasing charges, such as acquisition fees, early termination fees, or higher insurance premiums compared to owning.\n",
      "\n",
      "8. **Financial Instability During the Lease:**\n",
      "   - Your financial situation worsens, and you struggle to make lease payments. Leasing offers you no recourse for relief compared to selling an owned car.\n",
      "\n",
      "9. **Missed Ownership Benefits:**\n",
      "   - You eventually regret not owning because the car was reliable and would have been cost-effective to keep for longer-term use.\n",
      "\n",
      "---\n",
      "\n",
      "### **Decision-Making Framework: Mitigation Strategies**\n",
      "\n",
      "To reduce the risks identified in this premortem analysis, consider the following mitigation strategies before making a final decision:\n",
      "\n",
      "1. **For Purchasing:**\n",
      "   - Calculate a realistic total cost of ownership including insurance, taxes, maintenance, and repair costs.\n",
      "   - Leave a margin in your budget to account for unforeseen expenses or depreciation.\n",
      "   - Opt for a car with strong resale value or consider purchasing a certified pre-owned vehicle to reduce upfront costs.\n",
      "   - Factor in the possibility of changing commuting needs or lifestyle over the long term.\n",
      "   - Reserve emergency funds to cover unexpected financial hardships.\n",
      "\n",
      "2. **For Leasing:**\n",
      "   - Assess your driving patterns to ensure mileage restrictions align with your actual use.\n",
      "   - Shop around for lease terms with lenient mileage or wear-and-tear policies if flexibility is essential.\n",
      "   - Factor in additional costs (e.g., acquisition fees, higher insurance for leased vehicles).\n",
      "   - Use financial forecasting to evaluate whether leasing will generate better cash flow for other priorities.\n",
      "   - Plan for potential life changes during the lease period and ensure you’re comfortable with penalties or risks.\n",
      "\n",
      "3. **General Mitigation Options for Both:**\n",
      "   - Explore alternative ownership models such as certified pre-owned purchases, ride-sharing subscriptions, or car-sharing services if your vehicle use is light or irregular.\n",
      "   - Evaluate whether waiting is an option—new electric vehicles or technological advancements might make better options available for leasing or purchasing in the near future.\n",
      "   - Seek advice from a financial planner or car consultant to evaluate the long-term cash flow and opportunity cost implications of each option.\n",
      "\n",
      "---\n",
      "\n",
      "### **Final Decision Framework: Key Questions to Ask Yourself**\n",
      "- What does my financial forecast look like for the next 3, 5, and 10 years? Can I realistically absorb unexpected shocks?\n",
      "- How stable are my lifestyle and automotive needs? Are major changes (e.g., family, job, or relocation) likely in the near future?\n",
      "- Am I more comfortable with the stability and equity of ownership or the flexibility and lower upfront costs of leasing?\n",
      "- How important is cash flow now versus long-term financial outcomes?\n",
      "- Am I factoring in hidden costs (maintenance, penalties, fees) for both options?\n",
      "\n",
      "---\n",
      "\n",
      "### **Closing Thoughts**\n",
      "Each option carries inherent risks and trade-offs. By conducting a premortem analysis like this, you can identify the points of failure that are most relevant to your individual circumstances and design safeguards to minimize regret. The right decision ultimately depends on your financial stability, driving needs, and emotional preferences for vehicle ownership.\r\n"
     ]
    }
   ],
   "source": [
    "// Create a system prompt instruction to override the default system prompt\n",
    "// Add the System Prompt (Persona) to behave like a decision intelligence assistant\n",
    "var systemPromptForDecisions = \"\"\"\n",
    "You are a Decision Intelligence Assistant. \n",
    "Assist the user in exploring options, reasoning through decisions, problem-solving.\n",
    "Apply systems thinking to various scenarios. Provide structured, logical, and comprehensive advice.\n",
    "\"\"\";\n",
    "var decisionAnalysisPrompt = \"\"\"\n",
    "Perform an advanced premortem (What-If) analysis on the following decision scenario:\n",
    "You are deciding to purchase a new car versus leasing a car.\n",
    "\"\"\";\n",
    "\n",
    "// How the prompt looks like to the LLM\n",
    "var simpleDecisionPromptTemplate = $\"\"\"\n",
    "System Prompt: {systemPromptForDecisions}\n",
    "\n",
    "Request from the user: {decisionAnalysisPrompt}\n",
    "\"\"\";\n",
    "\n",
    "var simplePromptResponse = await semanticKernel.InvokePromptAsync(decisionAnalysisPrompt);\n",
    "Console.WriteLine(simplePromptResponse.GetValue<string>());"
   ]
  },
  {
   "cell_type": "markdown",
   "metadata": {},
   "source": [
    "The large reasoning model provided a comprehensive set of criteria, risks, mitigation strategy and approaches for the two decisions. This is a great option, but it might be more ideal to provide this in an easy to consume table (checklist) for the user that is easy to compare and contrast. This What-If analysis is easy to consume on a mobile device or even print out and annotate. "
   ]
  },
  {
   "cell_type": "code",
   "execution_count": 4,
   "metadata": {
    "dotnet_interactive": {
     "language": "csharp"
    },
    "polyglot_notebook": {
     "kernelName": "csharp"
    },
    "vscode": {
     "languageId": "polyglot-notebook"
    }
   },
   "outputs": [
    {
     "name": "stdout",
     "output_type": "stream",
     "text": [
      "| **Risk Factor/Uncertainty**               | **Purchase**                                     | **Lease**                                       |\n",
      "|-------------------------------------------|-------------------------------------------------|------------------------------------------------|\n",
      "| **Depreciation**                          | High upfront cost with potential steep value loss over time. | Risk of overpaying residual value if buyout option is exercised. |\n",
      "| **Monthly Payments**                      | Higher monthly payments (unless a large down payment is made). | Typically lower monthly payments compared to purchase.           |\n",
      "| **Mileage Limitations**                   | No restrictions on mileage.                    | Mileage overage fees if limits are exceeded.                      |\n",
      "| **Maintenance Costs**                     | Out-of-pocket repair costs after the warranty expires.        | Maintenance often covered during the lease term with potential fees for excess wear & tear. |\n",
      "| **Ownership Value (Equity)**              | Builds asset equity over time (though value decreases).       | No ownership or equity built—payments only cover usage.           |\n",
      "| **Flexibility**                           | Less flexible—requires selling/trading in the car if needs change. | Flexible—can switch cars at the lease's end with minimal hassle.  |\n",
      "| **Long-Term Costs**                       | Lower long-term costs if the car is kept for many years.     | Higher long-term costs due to continuous lease payments.          |\n",
      "| **Down Payment**                          | Significant upfront cost or loan required.                    | Usually lower or no down payment required.                        |\n",
      "| **Market Fluctuations**                   | Loss in value if car demand drops or market prices dip.       | Protected from market value drop as lease residual value is predetermined. |\n",
      "| **Usage Customization**                   | Can modify and customize the car as desired.                  | Limited ability to modify the vehicle without penalties.          |\n",
      "| **End-of-Term Disposal**                  | Responsible for selling or trading in the car.                | Simply return the car unless opting for purchase.                 |\n",
      "| **Early Termination Risk**                | Financial penalty if loan repayment is incomplete or car is sold early. | Significant fees for breaking the lease agreement early.          |\n",
      "| **Tax Implications**                      | Potential tax deductions for business use of depreciation.    | Potential tax benefits on lease payments for business purposes.   |\n",
      "| **Economic Downturn**                     | Risk of negative equity due to declining car value.           | Potential to walk away unaffected by market downturn at lease end.|\n",
      "| **Lifestyle/Job Changes**                 | Long-term ownership may not align with changing needs.        | Easier to adjust to changes by leasing a different car.           |\r\n"
     ]
    }
   ],
   "source": [
    "// Create a system prompt instruction to override the default system prompt\n",
    "// Add the System Prompt (Persona) to behave like a Decision Intelligence assistant\n",
    "var systemPromptForDecisions = \"\"\"\n",
    "You are a Decision Intelligence Assistant. \n",
    "Assist the user in exploring options, reasoning through decisions, problem-solving.\n",
    "Apply systems thinking to various scenarios. Provide structured, logical, and comprehensive advice.\n",
    "\"\"\";\n",
    "var decisionAnalysisPrompt = \"\"\"\n",
    "Perform an advanced premortem (What-If) analysis on the following scenario:\n",
    "You are deciding to purchase a new car versus leasing a car.\n",
    "\n",
    "Output the risk factors, uncertainties, and potential outcomes ONLY in a Markdown table.\n",
    "Create a column for each option (Purchase, Lease) and which risk factor or uncertainty applies to each option.\n",
    "Do not surround the markdown with triple backticks.\n",
    "\"\"\";\n",
    "\n",
    "// Illustrate how the prompt appears to the LLM\n",
    "var simpleDecisionPromptTemplate = $\"\"\"\n",
    "System Prompt: {systemPromptForDecisions}\n",
    "\n",
    "Request from the user: {decisionAnalysisPrompt}\n",
    "\"\"\";\n",
    "\n",
    "var simplePromptResponse = await semanticKernel.InvokePromptAsync(decisionAnalysisPrompt);\n",
    "Console.WriteLine(simplePromptResponse.GetValue<string>());"
   ]
  },
  {
   "cell_type": "markdown",
   "metadata": {},
   "source": [
    "| **Risk Factor / Uncertainty / Potential Outcome** | **Purchase** | **Lease** |\n",
    "|---------------------------------------------------|--------------|------------|\n",
    "| **Depreciation of Vehicle Value**                 | Yes          | No         |\n",
    "| **Residual Value Risk**                           | Yes          | No         |\n",
    "| **Potential Negative Equity**                     | Yes          | No         |\n",
    "| **Mileage Limitations**                           | No           | Yes        |\n",
    "| **Wear and Tear Charges**                         | No           | Yes        |\n",
    "| **Early Termination Penalties**                   | No           | Yes        |\n",
    "| **Upfront Costs**                                 | Higher       | Lower      |\n",
    "| **Monthly Payments**                              | Generally Higher | Generally Lower |\n",
    "| **Maintenance Costs**                             | Yes (after warranty expires) | May be included |\n",
    "| **Ownership at End of Term**                      | Yes          | No         |\n",
    "| **Flexibility to Upgrade Vehicle**                | Less Flexible | More Flexible |\n",
    "| **Risk of Obsolescence**                          | Yes          | No         |\n",
    "| **Total Cost Over Term**                          | Potentially Higher | Potentially Lower |\n",
    "| **Ability to Build Equity**                       | Yes          | No         |\n",
    "| **Risk of High Repair Costs**                     | Yes          | Less Risk (covered by warranty) |\n",
    "| **Resale Value Uncertainty**                      | Yes          | No         |\n",
    "| **Over-Mileage Charges**                          | No           | Yes        |\n",
    "| **Ability to Customize Vehicle**                  | Yes          | Restricted |\n",
    "| **Changes in Personal Circumstances**             | May require selling the car | Early termination fees |\n",
    "| **Interest Rate Fluctuations**                    | Yes          | Yes        |\n",
    "| **Tax Implications**                              | Sales tax on full price | Sales tax on monthly payments |\n",
    "| **Insurance Costs**                               | Standard     | May require higher coverage |\n",
    "| **Credit Score Impact**                           | Yes          | Yes        |\n",
    "| **Financial Flexibility**                         | Less         | More       |\n",
    "| **Opportunity Cost of Capital**                   | Higher (capital tied up) | Lower (more capital available) |\n",
    "| **End-of-Term Options**                           | Keep or sell the car | Buyout or return the car |"
   ]
  },
  {
   "cell_type": "markdown",
   "metadata": {},
   "source": [
    "This Markdown table can be further simplified by highlighting which risk factor is more favorable when comparing a car purchase versus a car lease.\n",
    "\n",
    "| Risk Factor / Uncertainty / Potential Outcome | Purchase | Lease |\n",
    "|-----------------------------------------------|----------|-------|\n",
    "| High Upfront Cost                             |          | ☑️    |\n",
    "| Depreciation of Vehicle Value                 |          | ☑️    |\n",
    "| Maintenance Costs After Warranty              |          | ☑️    |\n",
    "| Resale Value Uncertainty                      |          | ☑️    |\n",
    "| Financing Costs (Interest Rates)              |          |       |\n",
    "| Changes in Personal Circumstances             | ☑️       |       |\n",
    "| Technological Obsolescence                    |          | ☑️    |\n",
    "| Opportunity Cost of Capital                   |          | ☑️    |\n",
    "| Mileage Limits and Penalties                  | ☑️       |       |\n",
    "| Wear and Tear Charges                         | ☑️       |       |\n",
    "| No Equity Built in Vehicle                    | ☑️       |       |\n",
    "| Early Termination Fees                        | ☑️       |       |\n",
    "| Insurance Gap Coverage Needed                 | ☑️       |       |\n",
    "| Flexibility to Modify Car                     | ☑️       |       |\n",
    "| Total Cost Over Time                          | ☑️       |       |\n",
    "| Obligation Period                             | ☑️       |       |\n",
    "| Impact of Market Conditions                   |          | ☑️    |\n",
    "| Tax Considerations                            |          | ☑️    |\n",
    "| Credit Score Impact                           |          |       |\n",
    "| End of Term Options                           |          | ☑️    |\n",
    "| Flexibility of Use                            | ☑️       |       |\n"
   ]
  },
  {
   "cell_type": "markdown",
   "metadata": {},
   "source": [
    "### Step 3 - Premortem Analysis for Radio Telescope Operations "
   ]
  },
  {
   "cell_type": "markdown",
   "metadata": {},
   "source": [
    "Exploring space with telescopes is a time consuming investment. Current telescope designs are limited to exploring small areas of space in a certain time frame. Without going into details, the process is much more complex than snapping a picture with a mobile device. Telescopes can be pointed at a specific space area for days, weeks or even more than months! If a telescope is exploring a certain area of space it isn't collecting data on other areas. Scientists and researchers compete for valuable access to telescope resources by providing observatories what space area they want to explore, any cellestial contraints, timeframes, calibration costs, data collection transfer etc. This presents a very interesting Decision Intelligence constraints problem that observatories must manage. \n",
    "\n",
    "<img style=\"display: block; margin: auto;\" width =\"700px\" src=\"https://raw.githubusercontent.com/bartczernicki/DecisionIntelligence.GenAI.Workshop/main/Images/Scenarios/Scenario-RadioTelescope.png\">"
   ]
  },
  {
   "cell_type": "markdown",
   "metadata": {},
   "source": [
    "#### Decision Scenario - Premortem for Radio Telescope Operations "
   ]
  },
  {
   "cell_type": "markdown",
   "metadata": {},
   "source": [
    "A newly commissioned radio telescope stands on the verge of unveiling the proof of alien life, but it is still far from fully calibrated. Despite limited data processing capacity and a software suite that remains untested, an unexpected cosmic event has just begun, hinting at signals that could reveal alien life. Faced with the risk of hardware damage or data corruption from running the telescope prematurely, scientists debate whether to switch it on now or wait until everything is fully operational—knowing they could lose a once-in-a-generation opportunity. Determined not to squander this brief cosmic window, the team conducts a premortem analysis to predict what might go wrong. Armed with these insights, they can better prepare for potential pitfalls and strengthen their chances of catching historic signals from across the galaxy.\n",
    "\n",
    "Let's assume the scientists decide to rush the radio telescope to operate early to find alien life. Furthermore, assume a that this decision has led to a disaster with hardware failure to the telescope. Even though the (What-If) decision was made to rush the radio telescope operationally, formal scientific telescope operations have been followed. The goal of this premortem (What-If analysis) is to illuminate any risk mitigation strategies and craft a risk mitigation approach that may have been uncovered based on the premortem. \n",
    "\n",
    "Techinques like this a very powerful in a variety of business scenarios, where existing operational frameworks exist but simulating an outcome can uncover gaps, emerging risks and other opportunities to optimize. "
   ]
  },
  {
   "cell_type": "code",
   "execution_count": 5,
   "metadata": {
    "dotnet_interactive": {
     "language": "csharp"
    },
    "polyglot_notebook": {
     "kernelName": "csharp"
    },
    "vscode": {
     "languageId": "polyglot-notebook"
    }
   },
   "outputs": [
    {
     "name": "stdout",
     "output_type": "stream",
     "text": [
      "### Retrospective Analysis: The Factors Contributing to Failure\n",
      "\n",
      "##### 1. **Compromised or Unsable Data**\n",
      "   - Miscalibrated instrumentation caused erratic signal reception, mixing potential alien signals with noise.\n",
      "   - Premature data analysis software failed to distinguish genuine cosmic signals from background interference or system artifacts.\n",
      "   - Corrupted data occurred due to overloaded or improperly configured storage systems.\n",
      "   - Environmental or system conditions (e.g., thermal imbalances, signal attenuation) were not accounted for, leading to invalid readings.\n",
      "\n",
      "##### 2. **Impact of Incomplete Software Testing**\n",
      "   - Algorithms designed to filter or interpret signals were buggy, missing key patterns or mislabeling noise as potential evidence.\n",
      "   - The signal processing pipeline experienced glitches under real-world load and failed to store or process data in the correct formats.\n",
      "   - Faulty communication between data streams led to synchronization errors, fragmenting incomplete observations.\n",
      "   - Limited cybersecurity testing made the system vulnerable to accidental data overwrites or external interference.\n",
      "\n",
      "##### 3. **Hardware Issues**\n",
      "   - Overheating occurred due to high operational load, damaging critical components.\n",
      "   - Improper voltage regulation affected antennae performance, reducing sensitivity or rendering them inactive.\n",
      "   - Lack of stress testing under real conditions led to mechanical wear or component fractures during the event.\n",
      "   - RF sensors were overwhelmed by strong cosmic signals for which they weren’t tempered, degrading their sensitivity for future use.\n",
      "\n",
      "##### 4. **Team Dynamics & Communication Breakdowns**\n",
      "   - Pressure to act quickly caused scientists and engineers to bypass standard review procedures for their respective systems.\n",
      "   - Rushed decisions led to a lack of cross-team coordination and redundant risk assessments.\n",
      "   - Critical warnings flagged by junior team members or subsystems were ignored, dismissed, or never escalated to leadership.\n",
      "   - Knowledge silos within the team delayed troubleshooting during anomalies.\n",
      "\n",
      "##### 5. **Amplification of Errors Due to Time Pressure**\n",
      "   - Small calibration inconsistencies compounded under the urgency, resulting in data misalignment.\n",
      "   - Lack of contingency plans for handling unexpected hardware or software failures slowed the recovery process.\n",
      "   - Inadequate training for emergency scenarios meant operators were unprepared to respond to cascading failures.\n",
      "\n",
      "---\n",
      "\n",
      "### Preventive Measures and Revised Operational Framework\n",
      "\n",
      "To avoid such catastrophic outcomes, the following measures should be implemented before deciding whether to activate the telescope early:\n",
      "\n",
      "---\n",
      "\n",
      "#### **1. Risk Mitigation Strategies for Signal Capture**\n",
      "   - Develop a dual-mode operating system:\n",
      "     - **Safe Mode:** Operate the hardware at reduced capacity to minimize strain while collecting lower-fidelity data.\n",
      "     - **Full Capture Mode:** Only activated under controlled, verified conditions.\n",
      "   - Use existing, well-tested external resources (such as partner facilities or commercial satellite arrays) to record signals in parallel as a backup.\n",
      "   - Develop a modular observation plan where only specific subsystems are activated for critical portions of the event.\n",
      "\n",
      "---\n",
      "\n",
      "#### **2. Software Testing and Data Processing Safeguards**\n",
      "   - Allocate emergency resources to conduct a focused test blitz on signal processing software, prioritizing:\n",
      "     - Accuracy in filtering genuine signals.\n",
      "     - Stress testing under simulated high-load real-time data conditions.\n",
      "   - Implement incremental scaling:\n",
      "     - Process raw data on secure offline servers to minimize risk of immediate corruption.\n",
      "     - Limit automated interpretation until manual validation confirms outputs.\n",
      "   - Create redundant logging systems to preserve raw data in multiple formats for post-event reanalysis.\n",
      "\n",
      "---\n",
      "\n",
      "#### **3. Hardware Protection Measures**\n",
      "   - Conduct a hardware durability assessment under simulated extreme event scenarios.\n",
      "   - Deploy fail-safes, such as:\n",
      "     - Load-balancing mechanisms that automatically throttle input signals to avoid overload.\n",
      "     - Thermal sensors and automated shutdown protocols to prevent overheating.\n",
      "   - Purchase or lease backup components (e.g., antennae, amplifiers) in case of failures.\n",
      "   - Shield the equipment from environmental risks like power surges or adverse weather conditions during the event.\n",
      "\n",
      "---\n",
      "\n",
      "#### **4. Team Preparedness and Decision-Making Frameworks**\n",
      "   - Enforce a clear chain of command for critical decisions, with a single authoritative figure or committee empowered to make activation-related calls.\n",
      "   - Conduct a pre-event drill to simulate failures in hardware, software, and communication systems.\n",
      "   - Ensure open communication channels across all project teams to prevent important data from being siloed.\n",
      "   - Document and circulate a decision matrix explicitly weighing risks against benefits:\n",
      "     - e.g., **“What is the partial success value of low-fidelity data vs. catastrophic failure if hardware is damaged?”**\n",
      "\n",
      "---\n",
      "\n",
      "#### **5. Contingency and Time Pressure Resilience**\n",
      "   - Prepare a deferred calibration strategy, where limited calibration is tested before the event with plans to refine and reanalyze post-event.\n",
      "   - Develop a phased activation timeline:\n",
      "     - Start with basic, low-risk functionality upon event onset.\n",
      "     - Gradually increase telescope capabilities only after confirming stability.\n",
      "   - Assign a “rapid response panel” to address anomalies in real-time, drawing from key engineers and scientists.\n",
      "   - Establish a data triage protocol to:\n",
      "     - Quickly prioritize data streams with the highest likelihood of containing meaningful signals.\n",
      "     - Safeguard lower-priority data for detailed post-processing later.\n",
      "\n",
      "---\n",
      "\n",
      "#### **6. Additional Resources**\n",
      "   - Temporarily recruit additional software testers and radio telescope experts from partner institutions to expedite calibration and software reviews.\n",
      "   - Secure short-term funding for emergency rentals of supplementary cooling units, power stabilizers, or other supportive hardware.\n",
      "   - Seek external data validation by sharing signals with other observatories for independent analysis.\n",
      "   - Begin data collection now with a precursor system (if feasible) to establish a baseline for incoming signals during the event.\n",
      "\n",
      "---\n",
      "\n",
      "### Decision Intelligence Framework\n",
      "\n",
      "To decide whether to proceed with activation or delay until the telescope is fully operational, apply the following **risk-reward assessment**:\n",
      "\n",
      "| **Event Variable**                  | **Premature Activation Risk**              | **Strategic Mitigation**                           |\n",
      "|-------------------------------------|--------------------------------------------|---------------------------------------------------|\n",
      "| **Severity of Potential Signal Loss** | High—signals may never be replicated       | Activate in Safe Mode with redundant backups      |\n",
      "| **Risk to Hardware Integrity**      | Medium to High—damage could be permanent   | Use load-throttling, thermal controls, and shielding options |\n",
      "| **Data Corruption Likelihood**      | High—untested systems                      | Prioritize raw data preservation & external validation tools   |\n",
      "| **Team and System Readiness**       | Insufficient                              | Conduct targeted simulations and build fail-safes before engaging full capacity |\n",
      "\n",
      "By systematically implementing these measures and frameworks, you can minimize risks while retaining the possibility of groundbreaking discoveries.\r\n"
     ]
    }
   ],
   "source": [
    "// Create a system prompt instruction to override the default system prompt\n",
    "// Add the System Prompt (Persona) to behave like a decision intelligence assistant\n",
    "var systemPromptForPremortemRadioTelescope = \"\"\"\n",
    "You are a Decision Intelligence Assistant. \n",
    "Assist the user in exploring options, reasoning through decisions, problem-solving.\n",
    "Apply systems thinking to various scenarios. Provide structured, logical, and comprehensive advice.\n",
    "\"\"\";\n",
    "var decisionAnalysisPromptForPremortemRadioTelescope = \"\"\"\n",
    "You are a project manager at a new radio telescope facility looking for alien life.  \n",
    "It is still far from fully calibrated. Despite limited data processing capacity and a software suite that remains untested, \n",
    "an unexpected cosmic event has just begun, hinting at signals that could reveal alien life. \n",
    "Faced with the risk of hardware damage or data corruption from running the telescope prematurely, \n",
    "scientists debate whether to switch it on now or wait until everything is fully operational—knowing \n",
    "they could lose a once-in-a-generation opportunity. \n",
    "\n",
    "Imagine it is six months from now and the project to detect potential alien signals from the sudden cosmic event has failed. \n",
    "The radio telescope was likely activated prematurely, software remained untested, and the team rushed to capture transmissions. \n",
    "Despite the urgency, the outcome was disastrous: hardware suffered damage under the increased load, \n",
    "data came out corrupted, or no meaningful signals were confirmed. \n",
    "\n",
    "Now, step into that moment of failure—what specific issues, oversights, or cascading errors caused this grim scenario?\n",
    "\n",
    "1) Envision every possible way the radio telescope's early deployment could have led to compromised or unusable data.\n",
    "2) Identify how incomplete software testing and rushed calibration might have \n",
    "contributed to errors in processing or storing signals. \n",
    "3) Consider any overlooked safety protocols or hardware precautions that might have led to damage or malfunctions.\n",
    "4) Examine the roles and responsibilities of the team and think about communication breakdowns, \n",
    "rushed decisions, and missed signals or deadlines.\n",
    "5) Assess how time pressure from the rare cosmic event might have amplified smaller mistakes and \n",
    "turned them into systemic failures.\n",
    "\n",
    "Use the outcomes of this “what if” vision to create a detailed list of preventive measures. \n",
    "Then, propose fail-safes, additional resources, or procedural changes to ensure that, \n",
    "should you choose to activate the telescope early, you can still capture the event safely and \n",
    "effectively—maximizing the chance to detect historic signals without jeopardizing the entire operation.\n",
    "\"\"\";\n",
    "\n",
    "// How the prompt looks like to the LLM\n",
    "var fullPromptForPremortemRadioTelescope = $\"\"\"\n",
    "System Prompt: {systemPromptForPremortemRadioTelescope}\n",
    "\n",
    "Request from the user: {decisionAnalysisPromptForPremortemRadioTelescope}\n",
    "\"\"\";\n",
    "\n",
    "var simplePromptResponse = await semanticKernel.InvokePromptAsync(fullPromptForPremortemRadioTelescope);\n",
    "Console.WriteLine(simplePromptResponse.GetValue<string>());"
   ]
  }
 ],
 "metadata": {
  "kernelspec": {
   "display_name": ".NET (C#)",
   "language": "C#",
   "name": ".net-csharp"
  },
  "language_info": {
   "name": "python"
  },
  "polyglot_notebook": {
   "kernelInfo": {
    "defaultKernelName": "csharp",
    "items": [
     {
      "aliases": [],
      "name": "csharp"
     }
    ]
   }
  }
 },
 "nbformat": 4,
 "nbformat_minor": 2
}
