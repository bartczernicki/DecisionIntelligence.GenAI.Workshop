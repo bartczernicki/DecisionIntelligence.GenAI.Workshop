{
 "cells": [
  {
   "cell_type": "markdown",
   "metadata": {},
   "source": [
    "<img style=\"float: left;padding-right: 10px\" width =\"40px\" src=\"https://raw.githubusercontent.com/bartczernicki/DecisionIntelligence.GenAI.Workshop/main/Images/SemanticKernelLogo.png\">\n",
    "\n",
    "## Semantic Kernel - Premortem (What-If) Decision Analysis  "
   ]
  },
  {
   "cell_type": "markdown",
   "metadata": {},
   "source": [
    "Decision Intelligence applied in this module:  \n",
    "* Using Premortem Decision Analysis to improve decision quality & outcomes  \n",
    "* Using a Premortem decision output for improving of Gathering Intelligence \n",
    "* Attain different perspectives using mutliple decision frames  \n",
    "* Apply a Decision Framework to Premortem Decision Analysis \n"
   ]
  },
  {
   "cell_type": "markdown",
   "metadata": {},
   "source": [
    "### What is a Premortem (What-If Analysis)  "
   ]
  },
  {
   "cell_type": "markdown",
   "metadata": {},
   "source": [
    "You have probably heard of a **postmortem (post-mortem)**, which is a look back at an actual failure (or success) to understand why it happened and learn from it. In the context of decision making, after the decision outcome is clear you can analyze why the result occured. For example, a hedge fund may host a postmortem meeting after analyzing an unsuccesful move on a tech stock that didn't materialize the return on investment as was planned. \n",
    "\n",
    "In a **premortem (pre-mortem)** the outcome is \"imagined\" and then it is figured out why that potential \"imagined\" outcome happened. In a premortem, a planning exercise is held where a team imagines that a project or decision has already succeeded or failed. The team then works backward, brainstorming what might have caused things to go wrong. This approach allows everyone to spot potential risks and address them before starting the project. Therefore, it’s a bit like predicting the future and using that prediction to make the forecast stronger. "
   ]
  },
  {
   "cell_type": "markdown",
   "metadata": {},
   "source": [
    "### Example Decision Scenario - Purchasing a Car   "
   ]
  },
  {
   "cell_type": "markdown",
   "metadata": {},
   "source": [
    "Imagine you're about to buy a new car. Let's play a game of \"What-If\" that the purchase decision results in either two outcomes a: **disaster** or a **successful** outcome. "
   ]
  },
  {
   "cell_type": "markdown",
   "metadata": {},
   "source": [
    "#### Premortem Outcome - Disaster  "
   ]
  },
  {
   "cell_type": "markdown",
   "metadata": {},
   "source": [
    "<img style=\"display: block; margin: auto;\" width =\"700px\" src=\"https://raw.githubusercontent.com/bartczernicki/DecisionIntelligence.GenAI.Workshop/main/Images/Scenarios/Scenario-DecisionPremortem.png\">"
   ]
  },
  {
   "cell_type": "markdown",
   "metadata": {},
   "source": [
    "In a **premortem (pre-mortem)**, you pretend the car purchase turned out to be a disaster. Now, you ask yourself:  \n",
    "**What went wrong with the decision to buy a new car?**\n",
    "\n",
    "Here are some potential reasons:  \n",
    "\n",
    "* **Financial issues:** You realize later you can’t comfortably afford the monthly payments or maintenance costs.  \n",
    "* **Unexpected repairs:** The car has hidden mechanical problems, leading to costly repairs.  \n",
    "* **Insurance costs:** Insurance is much higher than expected, impacting your budget.\n",
    "* **Poor fuel efficiency:** The car uses more gas than you thought, making it expensive to drive.\n",
    "Resale value drop: The car’s value plummets quickly, leaving you with less if you want to sell or trade it.  "
   ]
  },
  {
   "cell_type": "markdown",
   "metadata": {},
   "source": [
    "#### Premortem Outcome - Success"
   ]
  },
  {
   "cell_type": "markdown",
   "metadata": {},
   "source": [
    "In a premortem for a successful car purchase, imagine you bought the car, and it turned out to be a succssful decision. Now, you ask yourself:  \n",
    "**What went right with the decision to buy a new car?**  \n",
    "\n",
    "Here are some potential reasons:\n",
    "\n",
    "* **Affordable and realistic budget:** You set a budget that allowed for comfortable monthly payments and covered insurance, fuel, and maintenance without straining your finances.  \n",
    "* **Thorough inspection:** You got a detailed inspection before buying, which confirmed the car was in excellent condition and minimized the risk of future repairs.\n",
    "* **Reliable model choice:** You researched models with a reputation for reliability, so you experience fewer repairs and smooth performance.\n",
    "* **Fuel efficiency matches needs:** You chose a car that meets your fuel efficiency needs, saving money on gas and fitting well with your daily driving habits.   \n",
    "* **High resale value:** You picked a make and model that holds its value well, giving you confidence that it’s a good long-term investment.  "
   ]
  },
  {
   "cell_type": "markdown",
   "metadata": {},
   "source": [
    "#### Premortem (What-If) Analysis "
   ]
  },
  {
   "cell_type": "markdown",
   "metadata": {},
   "source": [
    "Imagining these successful outcomes helps you focus on these actions—like sticking to budget, getting a full inspection, and choosing a reliable model—so you’re more likely to make a purchase you’ll be happy with. \n",
    "\n",
    "By plyaing a \"game\" of What-If with these issues in advance, you could consider to thoroughly check maintenance records, buy additional warranty, test drive with similar terrain in your area, or reassess your budget to avoid these potential problems.\n",
    "\n",
    "How can Generative AI help? Using Generative AI, the LLM models can be used to \"imagine\" premortem outcomes and  brainstorm potential factors why that certain outcome occured. Generative AI agents can act as your \"premortem\" team. This can lead to additional questions, gathering of intelligence, checklists, negotiation leverage etc. you didn't consider initially. "
   ]
  },
  {
   "cell_type": "markdown",
   "metadata": {},
   "source": [
    "### Step 1 - Initialize Configuration Builder & Build the Semantic Kernel Orchestration "
   ]
  },
  {
   "cell_type": "code",
   "execution_count": 4,
   "metadata": {
    "dotnet_interactive": {
     "language": "csharp"
    },
    "polyglot_notebook": {
     "kernelName": "csharp"
    },
    "vscode": {
     "languageId": "polyglot-notebook"
    }
   },
   "outputs": [
    {
     "ename": "Error",
     "evalue": "Microsoft.SemanticKernel version 1.37 cannot be added because version 1.37.0 was added previously.",
     "output_type": "error",
     "traceback": [
      "Microsoft.SemanticKernel version 1.37 cannot be added because version 1.37.0 was added previously."
     ]
    }
   ],
   "source": [
    "#r \"nuget: Microsoft.Extensions.Configuration, 9.0.0\"\n",
    "#r \"nuget: Microsoft.Extensions.Configuration.Json, 9.0.0\"\n",
    "#r \"nuget: Microsoft.SemanticKernel, 1.37\"\n",
    "#r \"nuget: Microsoft.SemanticKernel.Plugins.Core, 1.37-alpha\"\n",
    "\n",
    "using Microsoft.Extensions.Configuration.Json;\n",
    "using Microsoft.Extensions.Configuration;\n",
    "using Microsoft.SemanticKernel;\n",
    "using Microsoft.SemanticKernel.ChatCompletion;\n",
    "using Microsoft.SemanticKernel.Connectors.OpenAI;\n",
    "using System.IO;\n",
    "\n",
    "var configurationBuilder = new ConfigurationBuilder()\n",
    "    .SetBasePath(Directory.GetCurrentDirectory())\n",
    "    .AddJsonFile(\"local.settings.json\", optional: true, reloadOnChange: true)\n",
    "    .AddJsonFile(\"secrets.settings.json\", optional: true, reloadOnChange: true);\n",
    "var config = configurationBuilder.Build();\n",
    "\n",
    "// IMPORTANT: You ONLY NEED either Azure OpenAI or OpenAI connectiopn info, not both.\n",
    "// Azure OpenAI Connection Info using o1 series of models\n",
    "var azureOpenAIEndpoint = config[\"AzureOpenAI:Endpoint\"];\n",
    "var azureOpenAIAPIKey = config[\"AzureOpenAI:APIKey\"];\n",
    "var azureOpenAIModelDeploymentName = config[\"AzureOpenAI:ModelDeploymentName\"];\n",
    "// OpenAI Connection Info \n",
    "var openAIAPIKey = config[\"OpenAI:APIKey\"];\n",
    "var openAIModelId = config[\"OpenAI:ModelId\"];"
   ]
  },
  {
   "cell_type": "code",
   "execution_count": 2,
   "metadata": {
    "dotnet_interactive": {
     "language": "csharp"
    },
    "polyglot_notebook": {
     "kernelName": "csharp"
    },
    "vscode": {
     "languageId": "polyglot-notebook"
    }
   },
   "outputs": [
    {
     "name": "stdout",
     "output_type": "stream",
     "text": [
      "Using Azure OpenAI Service\r\n"
     ]
    }
   ],
   "source": [
    "using Microsoft.Extensions.DependencyInjection.Extensions;\n",
    "using Microsoft.Extensions.DependencyInjection;\n",
    "using Microsoft.SemanticKernel;\n",
    "using Microsoft.SemanticKernel.ChatCompletion;\n",
    "using Microsoft.SemanticKernel.Connectors.OpenAI;\n",
    "\n",
    "Kernel semanticKernel;\n",
    "\n",
    "// Set the flag to use Azure OpenAI or OpenAI. False to use OpenAI, True to use Azure OpenAI\n",
    "var useAzureOpenAI = true;\n",
    "\n",
    "// Create a new Semantic Kernel instance\n",
    "if (useAzureOpenAI)\n",
    "{\n",
    "    Console.WriteLine(\"Using Azure OpenAI Service\");\n",
    "    semanticKernel = Kernel.CreateBuilder()\n",
    "        .AddAzureOpenAIChatCompletion(\n",
    "            deploymentName: azureOpenAIModelDeploymentName,\n",
    "            endpoint: azureOpenAIEndpoint,\n",
    "            apiKey: azureOpenAIAPIKey)\n",
    "        .Build();\n",
    "}\n",
    "else\n",
    "{\n",
    "    Console.WriteLine(\"Using OpenAI Service\");\n",
    "    semanticKernel = Kernel.CreateBuilder()\n",
    "        .AddOpenAIChatCompletion(\n",
    "            modelId: openAIModelId,\n",
    "            apiKey: openAIAPIKey)\n",
    "        .Build();\n",
    "}\n",
    "\n",
    "var chatCompletionService = semanticKernel.Services.GetRequiredService<IChatCompletionService>();"
   ]
  },
  {
   "cell_type": "markdown",
   "metadata": {},
   "source": [
    "### Step 2 - Premortem Risk Analysis with AI Reasoning Models"
   ]
  },
  {
   "cell_type": "markdown",
   "metadata": {},
   "source": [
    "In the decision scenario below, an AI model will perform a premortem (What-If) analysis on the decision whether to purchase or lease a car. The AI model will provide risks and items to consider for each of the decision options: purchasing a car or leasing a car. "
   ]
  },
  {
   "cell_type": "code",
   "execution_count": 3,
   "metadata": {
    "dotnet_interactive": {
     "language": "csharp"
    },
    "polyglot_notebook": {
     "kernelName": "csharp"
    },
    "vscode": {
     "languageId": "polyglot-notebook"
    }
   },
   "outputs": [
    {
     "ename": "Error",
     "evalue": "Microsoft.SemanticKernel.HttpOperationException: No such host is known. (gbb-ea-openai-eastus2-o1-shared.openai.azure.com:443)\r\n ---> System.ClientModel.ClientResultException: No such host is known. (gbb-ea-openai-eastus2-o1-shared.openai.azure.com:443)\r\n ---> System.Net.Http.HttpRequestException: No such host is known. (gbb-ea-openai-eastus2-o1-shared.openai.azure.com:443)\r\n ---> System.Net.Sockets.SocketException (11001): No such host is known.\r\n   at System.Net.Sockets.Socket.AwaitableSocketAsyncEventArgs.ThrowException(SocketError error, CancellationToken cancellationToken)\r\n   at System.Net.Sockets.Socket.AwaitableSocketAsyncEventArgs.System.Threading.Tasks.Sources.IValueTaskSource.GetResult(Int16 token)\r\n   at System.Net.Sockets.Socket.<ConnectAsync>g__WaitForConnectWithCancellation|285_0(AwaitableSocketAsyncEventArgs saea, ValueTask connectTask, CancellationToken cancellationToken)\r\n   at System.Net.Http.HttpConnectionPool.ConnectToTcpHostAsync(String host, Int32 port, HttpRequestMessage initialRequest, Boolean async, CancellationToken cancellationToken)\r\n   --- End of inner exception stack trace ---\r\n   at System.Net.Http.HttpConnectionPool.ConnectToTcpHostAsync(String host, Int32 port, HttpRequestMessage initialRequest, Boolean async, CancellationToken cancellationToken)\r\n   at System.Net.Http.HttpConnectionPool.ConnectAsync(HttpRequestMessage request, Boolean async, CancellationToken cancellationToken)\r\n   at System.Net.Http.HttpConnectionPool.CreateHttp11ConnectionAsync(HttpRequestMessage request, Boolean async, CancellationToken cancellationToken)\r\n   at System.Net.Http.HttpConnectionPool.InjectNewHttp11ConnectionAsync(QueueItem queueItem)\r\n   at System.Threading.Tasks.TaskCompletionSourceWithCancellation`1.WaitWithCancellationAsync(CancellationToken cancellationToken)\r\n   at System.Net.Http.HttpConnectionPool.SendWithVersionDetectionAndRetryAsync(HttpRequestMessage request, Boolean async, Boolean doRequestAuth, CancellationToken cancellationToken)\r\n   at System.Net.Http.DiagnosticsHandler.SendAsyncCore(HttpRequestMessage request, Boolean async, CancellationToken cancellationToken)\r\n   at System.Net.Http.RedirectHandler.SendAsync(HttpRequestMessage request, Boolean async, CancellationToken cancellationToken)\r\n   at System.Net.Http.HttpClient.<SendAsync>g__Core|83_0(HttpRequestMessage request, HttpCompletionOption completionOption, CancellationTokenSource cts, Boolean disposeCts, CancellationTokenSource pendingRequestsCts, CancellationToken originalCancellationToken)\r\n   at System.ClientModel.Primitives.HttpClientPipelineTransport.ProcessSyncOrAsync(PipelineMessage message, Boolean async)\r\n   --- End of inner exception stack trace ---\r\n   at System.ClientModel.Primitives.HttpClientPipelineTransport.ProcessSyncOrAsync(PipelineMessage message, Boolean async)\r\n   at System.ClientModel.Primitives.HttpClientPipelineTransport.ProcessCoreAsync(PipelineMessage message)\r\n   at System.ClientModel.Primitives.PipelineTransport.ProcessSyncOrAsync(PipelineMessage message, Boolean async)\r\n   at System.ClientModel.Primitives.PipelineTransport.ProcessAsync(PipelineMessage message)\r\n   at System.ClientModel.Primitives.PipelineTransport.ProcessAsync(PipelineMessage message, IReadOnlyList`1 pipeline, Int32 currentIndex)\r\n   at System.ClientModel.Primitives.PipelinePolicy.ProcessNextAsync(PipelineMessage message, IReadOnlyList`1 pipeline, Int32 currentIndex)\r\n   at SemanticKernel.Connectors.AzureOpenAI.Core.SingleAuthorizationHeaderPolicy.ProcessAsync(PipelineMessage message, IReadOnlyList`1 pipeline, Int32 currentIndex)\r\n   at System.ClientModel.Primitives.PipelinePolicy.ProcessNextAsync(PipelineMessage message, IReadOnlyList`1 pipeline, Int32 currentIndex)\r\n   at System.ClientModel.Primitives.ApiKeyAuthenticationPolicy.ProcessAsync(PipelineMessage message, IReadOnlyList`1 pipeline, Int32 currentIndex)\r\n   at System.ClientModel.Primitives.PipelinePolicy.ProcessNextAsync(PipelineMessage message, IReadOnlyList`1 pipeline, Int32 currentIndex)\r\n   at System.ClientModel.Primitives.ClientRetryPolicy.ProcessSyncOrAsync(PipelineMessage message, IReadOnlyList`1 pipeline, Int32 currentIndex, Boolean async)\r\n   at System.ClientModel.Primitives.ClientRetryPolicy.ProcessSyncOrAsync(PipelineMessage message, IReadOnlyList`1 pipeline, Int32 currentIndex, Boolean async)\r\n   at System.ClientModel.Primitives.ClientRetryPolicy.ProcessAsync(PipelineMessage message, IReadOnlyList`1 pipeline, Int32 currentIndex)\r\n   at GenericActionPipelinePolicy.ProcessAsync(PipelineMessage message, IReadOnlyList`1 pipeline, Int32 currentIndex)\r\n   at System.ClientModel.Primitives.PipelinePolicy.ProcessNextAsync(PipelineMessage message, IReadOnlyList`1 pipeline, Int32 currentIndex)\r\n   at Azure.AI.OpenAI.GenericActionPipelinePolicy.ProcessAsync(PipelineMessage message, IReadOnlyList`1 pipeline, Int32 currentIndex)\r\n   at System.ClientModel.Primitives.PipelinePolicy.ProcessNextAsync(PipelineMessage message, IReadOnlyList`1 pipeline, Int32 currentIndex)\r\n   at Azure.AI.OpenAI.GenericActionPipelinePolicy.ProcessAsync(PipelineMessage message, IReadOnlyList`1 pipeline, Int32 currentIndex)\r\n   at System.ClientModel.Primitives.ClientPipeline.SendAsync(PipelineMessage message)\r\n   at Azure.AI.OpenAI.ClientPipelineExtensions.ProcessMessageAsync(ClientPipeline pipeline, PipelineMessage message, RequestOptions options)\r\n   at Azure.AI.OpenAI.Chat.AzureChatClient.CompleteChatAsync(BinaryContent content, RequestOptions options)\r\n   at OpenAI.Chat.ChatClient.CompleteChatAsync(IEnumerable`1 messages, ChatCompletionOptions options, CancellationToken cancellationToken)\r\n   at Microsoft.SemanticKernel.Connectors.OpenAI.ClientCore.RunRequestAsync[T](Func`1 request)\r\n   --- End of inner exception stack trace ---\r\n   at Microsoft.SemanticKernel.Connectors.OpenAI.ClientCore.RunRequestAsync[T](Func`1 request)\r\n   at Microsoft.SemanticKernel.Connectors.OpenAI.ClientCore.GetChatMessageContentsAsync(String targetModel, ChatHistory chatHistory, PromptExecutionSettings executionSettings, Kernel kernel, CancellationToken cancellationToken)\r\n   at Microsoft.SemanticKernel.KernelFunctionFromPrompt.GetChatCompletionResultAsync(IChatCompletionService chatCompletion, Kernel kernel, PromptRenderingResult promptRenderingResult, CancellationToken cancellationToken)\r\n   at Microsoft.SemanticKernel.KernelFunctionFromPrompt.InvokeCoreAsync(Kernel kernel, KernelArguments arguments, CancellationToken cancellationToken)\r\n   at Microsoft.SemanticKernel.KernelFunction.<>c__DisplayClass27_0.<<InvokeAsync>b__0>d.MoveNext()\r\n--- End of stack trace from previous location ---\r\n   at Microsoft.SemanticKernel.Kernel.InvokeFilterOrFunctionAsync(NonNullCollection`1 functionFilters, Func`2 functionCallback, FunctionInvocationContext context, Int32 index)\r\n   at Microsoft.SemanticKernel.Kernel.OnFunctionInvocationAsync(KernelFunction function, KernelArguments arguments, FunctionResult functionResult, Boolean isStreaming, Func`2 functionCallback, CancellationToken cancellationToken)\r\n   at Microsoft.SemanticKernel.KernelFunction.InvokeAsync(Kernel kernel, KernelArguments arguments, CancellationToken cancellationToken)\r\n   at Submission#3.<<Initialize>>d__0.MoveNext()\r\n--- End of stack trace from previous location ---\r\n   at Microsoft.CodeAnalysis.Scripting.ScriptExecutionState.RunSubmissionsAsync[TResult](ImmutableArray`1 precedingExecutors, Func`2 currentExecutor, StrongBox`1 exceptionHolderOpt, Func`2 catchExceptionOpt, CancellationToken cancellationToken)",
     "output_type": "error",
     "traceback": [
      "Microsoft.SemanticKernel.HttpOperationException: No such host is known. (gbb-ea-openai-eastus2-o1-shared.openai.azure.com:443)\r\n",
      " ---> System.ClientModel.ClientResultException: No such host is known. (gbb-ea-openai-eastus2-o1-shared.openai.azure.com:443)\r\n",
      " ---> System.Net.Http.HttpRequestException: No such host is known. (gbb-ea-openai-eastus2-o1-shared.openai.azure.com:443)\r\n",
      " ---> System.Net.Sockets.SocketException (11001): No such host is known.\r\n",
      "   at System.Net.Sockets.Socket.AwaitableSocketAsyncEventArgs.ThrowException(SocketError error, CancellationToken cancellationToken)\r\n",
      "   at System.Net.Sockets.Socket.AwaitableSocketAsyncEventArgs.System.Threading.Tasks.Sources.IValueTaskSource.GetResult(Int16 token)\r\n",
      "   at System.Net.Sockets.Socket.<ConnectAsync>g__WaitForConnectWithCancellation|285_0(AwaitableSocketAsyncEventArgs saea, ValueTask connectTask, CancellationToken cancellationToken)\r\n",
      "   at System.Net.Http.HttpConnectionPool.ConnectToTcpHostAsync(String host, Int32 port, HttpRequestMessage initialRequest, Boolean async, CancellationToken cancellationToken)\r\n",
      "   --- End of inner exception stack trace ---\r\n",
      "   at System.Net.Http.HttpConnectionPool.ConnectToTcpHostAsync(String host, Int32 port, HttpRequestMessage initialRequest, Boolean async, CancellationToken cancellationToken)\r\n",
      "   at System.Net.Http.HttpConnectionPool.ConnectAsync(HttpRequestMessage request, Boolean async, CancellationToken cancellationToken)\r\n",
      "   at System.Net.Http.HttpConnectionPool.CreateHttp11ConnectionAsync(HttpRequestMessage request, Boolean async, CancellationToken cancellationToken)\r\n",
      "   at System.Net.Http.HttpConnectionPool.InjectNewHttp11ConnectionAsync(QueueItem queueItem)\r\n",
      "   at System.Threading.Tasks.TaskCompletionSourceWithCancellation`1.WaitWithCancellationAsync(CancellationToken cancellationToken)\r\n",
      "   at System.Net.Http.HttpConnectionPool.SendWithVersionDetectionAndRetryAsync(HttpRequestMessage request, Boolean async, Boolean doRequestAuth, CancellationToken cancellationToken)\r\n",
      "   at System.Net.Http.DiagnosticsHandler.SendAsyncCore(HttpRequestMessage request, Boolean async, CancellationToken cancellationToken)\r\n",
      "   at System.Net.Http.RedirectHandler.SendAsync(HttpRequestMessage request, Boolean async, CancellationToken cancellationToken)\r\n",
      "   at System.Net.Http.HttpClient.<SendAsync>g__Core|83_0(HttpRequestMessage request, HttpCompletionOption completionOption, CancellationTokenSource cts, Boolean disposeCts, CancellationTokenSource pendingRequestsCts, CancellationToken originalCancellationToken)\r\n",
      "   at System.ClientModel.Primitives.HttpClientPipelineTransport.ProcessSyncOrAsync(PipelineMessage message, Boolean async)\r\n",
      "   --- End of inner exception stack trace ---\r\n",
      "   at System.ClientModel.Primitives.HttpClientPipelineTransport.ProcessSyncOrAsync(PipelineMessage message, Boolean async)\r\n",
      "   at System.ClientModel.Primitives.HttpClientPipelineTransport.ProcessCoreAsync(PipelineMessage message)\r\n",
      "   at System.ClientModel.Primitives.PipelineTransport.ProcessSyncOrAsync(PipelineMessage message, Boolean async)\r\n",
      "   at System.ClientModel.Primitives.PipelineTransport.ProcessAsync(PipelineMessage message)\r\n",
      "   at System.ClientModel.Primitives.PipelineTransport.ProcessAsync(PipelineMessage message, IReadOnlyList`1 pipeline, Int32 currentIndex)\r\n",
      "   at System.ClientModel.Primitives.PipelinePolicy.ProcessNextAsync(PipelineMessage message, IReadOnlyList`1 pipeline, Int32 currentIndex)\r\n",
      "   at SemanticKernel.Connectors.AzureOpenAI.Core.SingleAuthorizationHeaderPolicy.ProcessAsync(PipelineMessage message, IReadOnlyList`1 pipeline, Int32 currentIndex)\r\n",
      "   at System.ClientModel.Primitives.PipelinePolicy.ProcessNextAsync(PipelineMessage message, IReadOnlyList`1 pipeline, Int32 currentIndex)\r\n",
      "   at System.ClientModel.Primitives.ApiKeyAuthenticationPolicy.ProcessAsync(PipelineMessage message, IReadOnlyList`1 pipeline, Int32 currentIndex)\r\n",
      "   at System.ClientModel.Primitives.PipelinePolicy.ProcessNextAsync(PipelineMessage message, IReadOnlyList`1 pipeline, Int32 currentIndex)\r\n",
      "   at System.ClientModel.Primitives.ClientRetryPolicy.ProcessSyncOrAsync(PipelineMessage message, IReadOnlyList`1 pipeline, Int32 currentIndex, Boolean async)\r\n",
      "   at System.ClientModel.Primitives.ClientRetryPolicy.ProcessSyncOrAsync(PipelineMessage message, IReadOnlyList`1 pipeline, Int32 currentIndex, Boolean async)\r\n",
      "   at System.ClientModel.Primitives.ClientRetryPolicy.ProcessAsync(PipelineMessage message, IReadOnlyList`1 pipeline, Int32 currentIndex)\r\n",
      "   at GenericActionPipelinePolicy.ProcessAsync(PipelineMessage message, IReadOnlyList`1 pipeline, Int32 currentIndex)\r\n",
      "   at System.ClientModel.Primitives.PipelinePolicy.ProcessNextAsync(PipelineMessage message, IReadOnlyList`1 pipeline, Int32 currentIndex)\r\n",
      "   at Azure.AI.OpenAI.GenericActionPipelinePolicy.ProcessAsync(PipelineMessage message, IReadOnlyList`1 pipeline, Int32 currentIndex)\r\n",
      "   at System.ClientModel.Primitives.PipelinePolicy.ProcessNextAsync(PipelineMessage message, IReadOnlyList`1 pipeline, Int32 currentIndex)\r\n",
      "   at Azure.AI.OpenAI.GenericActionPipelinePolicy.ProcessAsync(PipelineMessage message, IReadOnlyList`1 pipeline, Int32 currentIndex)\r\n",
      "   at System.ClientModel.Primitives.ClientPipeline.SendAsync(PipelineMessage message)\r\n",
      "   at Azure.AI.OpenAI.ClientPipelineExtensions.ProcessMessageAsync(ClientPipeline pipeline, PipelineMessage message, RequestOptions options)\r\n",
      "   at Azure.AI.OpenAI.Chat.AzureChatClient.CompleteChatAsync(BinaryContent content, RequestOptions options)\r\n",
      "   at OpenAI.Chat.ChatClient.CompleteChatAsync(IEnumerable`1 messages, ChatCompletionOptions options, CancellationToken cancellationToken)\r\n",
      "   at Microsoft.SemanticKernel.Connectors.OpenAI.ClientCore.RunRequestAsync[T](Func`1 request)\r\n",
      "   --- End of inner exception stack trace ---\r\n",
      "   at Microsoft.SemanticKernel.Connectors.OpenAI.ClientCore.RunRequestAsync[T](Func`1 request)\r\n",
      "   at Microsoft.SemanticKernel.Connectors.OpenAI.ClientCore.GetChatMessageContentsAsync(String targetModel, ChatHistory chatHistory, PromptExecutionSettings executionSettings, Kernel kernel, CancellationToken cancellationToken)\r\n",
      "   at Microsoft.SemanticKernel.KernelFunctionFromPrompt.GetChatCompletionResultAsync(IChatCompletionService chatCompletion, Kernel kernel, PromptRenderingResult promptRenderingResult, CancellationToken cancellationToken)\r\n",
      "   at Microsoft.SemanticKernel.KernelFunctionFromPrompt.InvokeCoreAsync(Kernel kernel, KernelArguments arguments, CancellationToken cancellationToken)\r\n",
      "   at Microsoft.SemanticKernel.KernelFunction.<>c__DisplayClass27_0.<<InvokeAsync>b__0>d.MoveNext()\r\n",
      "--- End of stack trace from previous location ---\r\n",
      "   at Microsoft.SemanticKernel.Kernel.InvokeFilterOrFunctionAsync(NonNullCollection`1 functionFilters, Func`2 functionCallback, FunctionInvocationContext context, Int32 index)\r\n",
      "   at Microsoft.SemanticKernel.Kernel.OnFunctionInvocationAsync(KernelFunction function, KernelArguments arguments, FunctionResult functionResult, Boolean isStreaming, Func`2 functionCallback, CancellationToken cancellationToken)\r\n",
      "   at Microsoft.SemanticKernel.KernelFunction.InvokeAsync(Kernel kernel, KernelArguments arguments, CancellationToken cancellationToken)\r\n",
      "   at Submission#3.<<Initialize>>d__0.MoveNext()\r\n",
      "--- End of stack trace from previous location ---\r\n",
      "   at Microsoft.CodeAnalysis.Scripting.ScriptExecutionState.RunSubmissionsAsync[TResult](ImmutableArray`1 precedingExecutors, Func`2 currentExecutor, StrongBox`1 exceptionHolderOpt, Func`2 catchExceptionOpt, CancellationToken cancellationToken)"
     ]
    }
   ],
   "source": [
    "// Create a system prompt instruction to override the default system prompt\n",
    "// Add the System Prompt (Persona) to behave like a decision intelligence assistant\n",
    "var systemPromptForDecisions = \"\"\"\n",
    "You are a Decision Intelligence Assistant. \n",
    "Assist the user in exploring options, reasoning through decisions, problem-solving.\n",
    "Apply systems thinking to various scenarios. Provide structured, logical, and comprehensive advice.\n",
    "\"\"\";\n",
    "var decisionAnalysisPrompt = \"\"\"\n",
    "Perform an advanced premortem (What-If) analysis on the following decision scenario:\n",
    "You are deciding to purchase a new car versus leasing a car.\n",
    "\"\"\";\n",
    "\n",
    "// How the prompt looks like to the LLM\n",
    "var simpleDecisionPromptTemplate = $\"\"\"\n",
    "System Prompt: {systemPromptForDecisions}\n",
    "\n",
    "Request from the user: {decisionAnalysisPrompt}\n",
    "\"\"\";\n",
    "\n",
    "var simplePromptResponse = await semanticKernel.InvokePromptAsync(decisionAnalysisPrompt);\n",
    "Console.WriteLine(simplePromptResponse.GetValue<string>());"
   ]
  },
  {
   "cell_type": "markdown",
   "metadata": {},
   "source": [
    "The large reasoning model provided a comprehensive set of criteria, risks, mitigation strategy and approaches for the two decisions. This is a great option, but it might be more ideal to provide this in an easy to consume table (checklist) for the user that is easy to compare and contrast. This What-If analysis is easy to consume on a mobile device or even print out and annotate. "
   ]
  },
  {
   "cell_type": "code",
   "execution_count": 4,
   "metadata": {
    "dotnet_interactive": {
     "language": "csharp"
    },
    "polyglot_notebook": {
     "kernelName": "csharp"
    },
    "vscode": {
     "languageId": "polyglot-notebook"
    }
   },
   "outputs": [
    {
     "name": "stdout",
     "output_type": "stream",
     "text": [
      "| **Risk Factor / Uncertainty / Potential Outcome** | **Purchase** | **Lease** |\n",
      "|---------------------------------------------------|--------------|------------|\n",
      "| **Depreciation of Vehicle Value**                 | Yes          | No         |\n",
      "| **Residual Value Risk**                           | Yes          | No         |\n",
      "| **Potential Negative Equity**                     | Yes          | No         |\n",
      "| **Mileage Limitations**                           | No           | Yes        |\n",
      "| **Wear and Tear Charges**                         | No           | Yes        |\n",
      "| **Early Termination Penalties**                   | No           | Yes        |\n",
      "| **Upfront Costs**                                 | Higher       | Lower      |\n",
      "| **Monthly Payments**                              | Generally Higher | Generally Lower |\n",
      "| **Maintenance Costs**                             | Yes (after warranty expires) | May be included |\n",
      "| **Ownership at End of Term**                      | Yes          | No         |\n",
      "| **Flexibility to Upgrade Vehicle**                | Less Flexible | More Flexible |\n",
      "| **Risk of Obsolescence**                          | Yes          | No         |\n",
      "| **Total Cost Over Term**                          | Potentially Higher | Potentially Lower |\n",
      "| **Ability to Build Equity**                       | Yes          | No         |\n",
      "| **Risk of High Repair Costs**                     | Yes          | Less Risk (covered by warranty) |\n",
      "| **Resale Value Uncertainty**                      | Yes          | No         |\n",
      "| **Over-Mileage Charges**                          | No           | Yes        |\n",
      "| **Ability to Customize Vehicle**                  | Yes          | Restricted |\n",
      "| **Changes in Personal Circumstances**             | May require selling the car | Early termination fees |\n",
      "| **Interest Rate Fluctuations**                    | Yes          | Yes        |\n",
      "| **Tax Implications**                              | Sales tax on full price | Sales tax on monthly payments |\n",
      "| **Insurance Costs**                               | Standard     | May require higher coverage |\n",
      "| **Credit Score Impact**                           | Yes          | Yes        |\n",
      "| **Financial Flexibility**                         | Less         | More       |\n",
      "| **Opportunity Cost of Capital**                   | Higher (capital tied up) | Lower (more capital available) |\n",
      "| **End-of-Term Options**                           | Keep or sell the car | Buyout or return the car |\r\n"
     ]
    }
   ],
   "source": [
    "// Create a system prompt instruction to override the default system prompt\n",
    "// Add the System Prompt (Persona) to behave like a Decision Intelligence assistant\n",
    "var systemPromptForDecisions = \"\"\"\n",
    "You are a Decision Intelligence Assistant. \n",
    "Assist the user in exploring options, reasoning through decisions, problem-solving.\n",
    "Apply systems thinking to various scenarios. Provide structured, logical, and comprehensive advice.\n",
    "\"\"\";\n",
    "var decisionAnalysisPrompt = \"\"\"\n",
    "Perform an advanced premortem (What-If) analysis on the following scenario:\n",
    "You are deciding to purchase a new car versus leasing a car.\n",
    "\n",
    "Output the risk factors, uncertainties, and potential outcomes ONLY in a Markdown table.\n",
    "Create a column for each option (Purchase, Lease) and which risk factor or uncertainty applies to each option.\n",
    "Do not surround the markdown with triple backticks.\n",
    "\"\"\";\n",
    "\n",
    "// Illustrate how the prompt appears to the LLM\n",
    "var simpleDecisionPromptTemplate = $\"\"\"\n",
    "System Prompt: {systemPromptForDecisions}\n",
    "\n",
    "Request from the user: {decisionAnalysisPrompt}\n",
    "\"\"\";\n",
    "\n",
    "var simplePromptResponse = await semanticKernel.InvokePromptAsync(decisionAnalysisPrompt);\n",
    "Console.WriteLine(simplePromptResponse.GetValue<string>());"
   ]
  },
  {
   "cell_type": "markdown",
   "metadata": {},
   "source": [
    "| **Risk Factor / Uncertainty / Potential Outcome** | **Purchase** | **Lease** |\n",
    "|---------------------------------------------------|--------------|------------|\n",
    "| **Depreciation of Vehicle Value**                 | Yes          | No         |\n",
    "| **Residual Value Risk**                           | Yes          | No         |\n",
    "| **Potential Negative Equity**                     | Yes          | No         |\n",
    "| **Mileage Limitations**                           | No           | Yes        |\n",
    "| **Wear and Tear Charges**                         | No           | Yes        |\n",
    "| **Early Termination Penalties**                   | No           | Yes        |\n",
    "| **Upfront Costs**                                 | Higher       | Lower      |\n",
    "| **Monthly Payments**                              | Generally Higher | Generally Lower |\n",
    "| **Maintenance Costs**                             | Yes (after warranty expires) | May be included |\n",
    "| **Ownership at End of Term**                      | Yes          | No         |\n",
    "| **Flexibility to Upgrade Vehicle**                | Less Flexible | More Flexible |\n",
    "| **Risk of Obsolescence**                          | Yes          | No         |\n",
    "| **Total Cost Over Term**                          | Potentially Higher | Potentially Lower |\n",
    "| **Ability to Build Equity**                       | Yes          | No         |\n",
    "| **Risk of High Repair Costs**                     | Yes          | Less Risk (covered by warranty) |\n",
    "| **Resale Value Uncertainty**                      | Yes          | No         |\n",
    "| **Over-Mileage Charges**                          | No           | Yes        |\n",
    "| **Ability to Customize Vehicle**                  | Yes          | Restricted |\n",
    "| **Changes in Personal Circumstances**             | May require selling the car | Early termination fees |\n",
    "| **Interest Rate Fluctuations**                    | Yes          | Yes        |\n",
    "| **Tax Implications**                              | Sales tax on full price | Sales tax on monthly payments |\n",
    "| **Insurance Costs**                               | Standard     | May require higher coverage |\n",
    "| **Credit Score Impact**                           | Yes          | Yes        |\n",
    "| **Financial Flexibility**                         | Less         | More       |\n",
    "| **Opportunity Cost of Capital**                   | Higher (capital tied up) | Lower (more capital available) |\n",
    "| **End-of-Term Options**                           | Keep or sell the car | Buyout or return the car |"
   ]
  },
  {
   "cell_type": "markdown",
   "metadata": {},
   "source": [
    "This Markdown table can be further simplified by highlighting which risk factor is more favorable when comparing a car purchase versus a car lease.\n",
    "\n",
    "| Risk Factor / Uncertainty / Potential Outcome | Purchase | Lease |\n",
    "|-----------------------------------------------|----------|-------|\n",
    "| High Upfront Cost                             |          | ☑️    |\n",
    "| Depreciation of Vehicle Value                 |          | ☑️    |\n",
    "| Maintenance Costs After Warranty              |          | ☑️    |\n",
    "| Resale Value Uncertainty                      |          | ☑️    |\n",
    "| Financing Costs (Interest Rates)              |          |       |\n",
    "| Changes in Personal Circumstances             | ☑️       |       |\n",
    "| Technological Obsolescence                    |          | ☑️    |\n",
    "| Opportunity Cost of Capital                   |          | ☑️    |\n",
    "| Mileage Limits and Penalties                  | ☑️       |       |\n",
    "| Wear and Tear Charges                         | ☑️       |       |\n",
    "| No Equity Built in Vehicle                    | ☑️       |       |\n",
    "| Early Termination Fees                        | ☑️       |       |\n",
    "| Insurance Gap Coverage Needed                 | ☑️       |       |\n",
    "| Flexibility to Modify Car                     | ☑️       |       |\n",
    "| Total Cost Over Time                          | ☑️       |       |\n",
    "| Obligation Period                             | ☑️       |       |\n",
    "| Impact of Market Conditions                   |          | ☑️    |\n",
    "| Tax Considerations                            |          | ☑️    |\n",
    "| Credit Score Impact                           |          |       |\n",
    "| End of Term Options                           |          | ☑️    |\n",
    "| Flexibility of Use                            | ☑️       |       |\n"
   ]
  },
  {
   "cell_type": "markdown",
   "metadata": {},
   "source": [
    "### Step 3 - Premortem Analysis for Radio Telescope Operations "
   ]
  },
  {
   "cell_type": "markdown",
   "metadata": {},
   "source": [
    "Exploring space with telescopes is a time consuming investment. Current telescope designs are limited to exploring small areas of space in a certain time frame. Without going into details, the process is much more complex than snapping a picture with a mobile device. Telescopes can be pointed at a specific space area for days, weeks or even more than months! If a telescope is exploring a certain area of space it isn't collecting data on other areas. Scientists and researchers compete for valuable access to telescope resources by providing observatories what space area they want to explore, any cellestial contraints, timeframes, calibration costs, data collection transfer etc. This presents a very interesting Decision Intelligence constraints problem that observatories must manage. \n",
    "\n",
    "<img style=\"display: block; margin: auto;\" width =\"700px\" src=\"https://raw.githubusercontent.com/bartczernicki/DecisionIntelligence.GenAI.Workshop/main/Images/Scenarios/Scenario-RadioTelescope.png\">"
   ]
  },
  {
   "cell_type": "markdown",
   "metadata": {},
   "source": [
    "#### Decision Scenario - Premortem for Radio Telescope Operations "
   ]
  },
  {
   "cell_type": "markdown",
   "metadata": {},
   "source": [
    "A newly commissioned radio telescope stands on the verge of unveiling the proof of alien life, but it is still far from fully calibrated. Despite limited data processing capacity and a software suite that remains untested, an unexpected cosmic event has just begun, hinting at signals that could reveal alien life. Faced with the risk of hardware damage or data corruption from running the telescope prematurely, scientists debate whether to switch it on now or wait until everything is fully operational—knowing they could lose a once-in-a-generation opportunity. Determined not to squander this brief cosmic window, the team conducts a premortem analysis to predict what might go wrong. Armed with these insights, they can better prepare for potential pitfalls and strengthen their chances of catching historic signals from across the galaxy.\n",
    "\n",
    "Let's assume the scientists decide to rush the radio telescope to operate early to find alien life. Furthermore, assume a that this decision has led to a disaster with hardware failure to the telescope. Even though the (What-If) decision was made to rush the radio telescope operationally, formal scientific telescope operations have been followed. The goal of this premortem (What-If analysis) is to illuminate any risk mitigation strategies and craft a risk mitigation approach that may have been uncovered based on the premortem. \n",
    "\n",
    "Techinques like this a very powerful in a variety of business scenarios, where existing operational frameworks exist but simulating an outcome can uncover gaps, emerging risks and other opportunities to optimize. "
   ]
  },
  {
   "cell_type": "code",
   "execution_count": 5,
   "metadata": {
    "dotnet_interactive": {
     "language": "csharp"
    },
    "polyglot_notebook": {
     "kernelName": "csharp"
    },
    "vscode": {
     "languageId": "polyglot-notebook"
    }
   },
   "outputs": [
    {
     "name": "stdout",
     "output_type": "stream",
     "text": [
      "**Introduction**\n",
      "\n",
      "Faced with the immense pressure of a once-in-a-generation cosmic event, it's crucial to carefully analyze the potential pitfalls that could lead to failure if the radio telescope is activated prematurely. By stepping into the scenario where the project has failed, we can identify specific issues and develop robust preventive measures. This approach ensures that, should you decide to proceed, the risks are mitigated, and the chances of success are maximized.\n",
      "\n",
      "---\n",
      "\n",
      "### **Part 1: Analysis of Failures**\n",
      "\n",
      "#### **1) Early Deployment Leading to Compromised or Unusable Data**\n",
      "\n",
      "- **Incomplete Calibration Results in Inaccurate Data Collection:**\n",
      "  - The telescope's sensors and antennas were not fully calibrated, leading to misalignment and incorrect pointing. This resulted in capturing irrelevant or distorted signals.\n",
      "  \n",
      "- **Data Corruption Due to Unstable Systems:**\n",
      "  - The untested data storage and transmission systems failed under operational stress, causing data loss or corruption.\n",
      "  \n",
      "- **Insufficient Data Processing Capacity:**\n",
      "  - Limited processing capabilities led to bottlenecks. Critical data wasn't processed in real-time, leading to backlogs and eventual data loss.\n",
      "  \n",
      "- **High Noise Levels and Interference:**\n",
      "  - Without proper calibration, the system couldn't effectively filter out background noise and interference, rendering the collected data unusable.\n",
      "  \n",
      "- **Software-Hardware Integration Issues:**\n",
      "  - Premature deployment exposed incompatibilities between software and hardware components, causing system crashes and data acquisition failures.\n",
      "\n",
      "#### **2) Impact of Incomplete Software Testing and Rushed Calibration**\n",
      "\n",
      "- **Software Bugs and Glitches:**\n",
      "  - Untested software contained critical bugs that caused erroneous data processing, misinterpretation of signals, or software crashes during data capture.\n",
      "  \n",
      "- **Incorrect Data Processing Algorithms:**\n",
      "  - Algorithms weren't fine-tuned or validated, leading to misclassification of signals or failure to detect meaningful patterns.\n",
      "  \n",
      "- **Faulty Data Storage Protocols:**\n",
      "  - Without thorough testing, data storage systems didn't properly save or backup data, resulting in irreversible data loss.\n",
      "  \n",
      "- **Calibration Errors Leading to Misalignment:**\n",
      "  - Rushed calibration overlooked key parameters, causing sensors to be out of sync and collect inaccurate data.\n",
      "  \n",
      "- **Inadequate User Interface and Controls:**\n",
      "  - The software interfaces were not user-friendly or had hidden defects, leading to operator errors during critical moments.\n",
      "\n",
      "#### **3) Overlooked Safety Protocols and Hardware Precautions**\n",
      "\n",
      "- **Hardware Overload and Component Failure:**\n",
      "  - Systems were pushed beyond their designed capacity without proper safeguards, leading to overheating and hardware damage.\n",
      "  \n",
      "- **Insufficient Cooling Systems:**\n",
      "  - Cooling mechanisms weren't fully operational or tested, resulting in thermal issues that damaged sensitive equipment.\n",
      "  \n",
      "- **Electromagnetic Interference (EMI) Problems:**\n",
      "  - Lack of proper shielding and grounding allowed EMI to affect operations, causing malfunctions and data corruption.\n",
      "  \n",
      "- **Power Supply Fluctuations:**\n",
      "  - Voltage spikes or drops weren't properly managed due to unimplemented power regulation protocols, harming equipment.\n",
      "  \n",
      "- **Ignored Maintenance Procedures:**\n",
      "  - Preventive maintenance schedules were neglected in the rush, leading to mechanical failures.\n",
      "\n",
      "#### **4) Team Dynamics and Communication Breakdowns**\n",
      "\n",
      "- **Unclear Roles and Responsibilities:**\n",
      "  - Rapid changes and lack of updated documentation caused confusion over who was responsible for critical tasks.\n",
      "  \n",
      "- **Ineffective Communication Channels:**\n",
      "  - Vital information about system statuses and errors wasn't relayed promptly among team members.\n",
      "  \n",
      "- **Rushed Decision-Making Processes:**\n",
      "  - Decisions were made without sufficient data or stakeholder input, leading to suboptimal choices.\n",
      "  \n",
      "- **Insufficient Training and Preparation:**\n",
      "  - Team members weren't fully trained on new systems or emergency protocols, increasing the likelihood of human error.\n",
      "  \n",
      "- **Overlooked Feedback and Warnings:**\n",
      "  - Internal alerts and concerns raised by team members were dismissed due to time constraints.\n",
      "\n",
      "#### **5) Amplification of Mistakes Due to Time Pressure**\n",
      "\n",
      "- **Bypassing Standard Operating Procedures:**\n",
      "  - In the haste to go live, critical procedures were skipped, removing essential safety nets.\n",
      "  \n",
      "- **Increased Stress and Fatigue:**\n",
      "  - Extended working hours and high stress impaired judgment and performance among the team.\n",
      "  \n",
      "- **Neglected Contingency Planning:**\n",
      "  - Without backup plans, small issues escalated into major failures when things went wrong.\n",
      "  \n",
      "- **Resource Allocation Issues:**\n",
      "  - Key resources were misallocated or stretched too thin, leading to gaps in critical areas.\n",
      "  \n",
      "- **Compromised Quality Assurance:**\n",
      "  - Testing and verification steps were abbreviated or omitted, allowing undetected errors to propagate.\n",
      "\n",
      "---\n",
      "\n",
      "### **Part 2: Preventive Measures and Recommendations**\n",
      "\n",
      "To avert the failure scenario, the following preventive measures and procedural changes are recommended:\n",
      "\n",
      "#### **A) System Calibration and Testing**\n",
      "\n",
      "- **Prioritize Critical Calibration:**\n",
      "  - Identify and complete essential calibration tasks that have the most significant impact on data quality.\n",
      "  \n",
      "- **Incremental Testing Procedures:**\n",
      "  - Implement quick, iterative testing phases to validate software and hardware functionality in stages.\n",
      "  \n",
      "- **Simulate Operational Conditions:**\n",
      "  - Use simulations to test how systems perform under expected operational loads to uncover hidden issues.\n",
      "  \n",
      "- **Develop a Calibration Contingency Plan:**\n",
      "  - Prepare alternative calibration methods that can be executed quickly if primary plans cannot be completed in time.\n",
      "\n",
      "#### **B) Software Validation and Data Integrity**\n",
      "\n",
      "- **Conduct Targeted Software Testing:**\n",
      "  - Focus on testing critical software components, especially those related to data acquisition and storage.\n",
      "  \n",
      "- **Implement Robust Data Backup Systems:**\n",
      "  - Ensure that all data is redundantly stored in real-time to prevent loss in case of system failures.\n",
      "  \n",
      "- **Deploy Monitoring and Error-Detection Tools:**\n",
      "  - Use software tools that can detect and alert the team to anomalies or errors immediately.\n",
      "  \n",
      "- **Simplify Data Processing Pipelines:**\n",
      "  - Streamline processes to reduce complexity, lowering the risk of errors in data handling.\n",
      "\n",
      "#### **C) Hardware Protection and Safety Protocols**\n",
      "\n",
      "- **Enforce Operational Limits:**\n",
      "  - Set and adhere to safe operational thresholds for all hardware components to prevent overload.\n",
      "  \n",
      "- **Complete Critical Safety Checks:**\n",
      "  - Prioritize safety protocols that prevent the most severe risks, such as overheating and power surges.\n",
      "  \n",
      "- **Enhance Cooling and Ventilation Systems:**\n",
      "  - Verify that cooling systems are fully functional and have backup options if needed.\n",
      "  \n",
      "- **Improve EMI Shielding:**\n",
      "  - Install necessary shielding and grounding to minimize electromagnetic interference.\n",
      "\n",
      "#### **D) Team Coordination and Communication**\n",
      "\n",
      "- **Clarify Roles and Responsibilities:**\n",
      "  - Update and communicate an organizational chart detailing each team member's specific duties.\n",
      "  \n",
      "- **Establish Clear Communication Channels:**\n",
      "  - Use dedicated communication platforms for real-time updates and issue reporting.\n",
      "  \n",
      "- **Implement Decision-Making Protocols:**\n",
      "  - Develop a rapid yet inclusive decision-making process that considers input from key stakeholders.\n",
      "  \n",
      "- **Provide Essential Training:**\n",
      "  - Hold brief, focused training sessions on critical systems and emergency procedures.\n",
      "  \n",
      "- **Encourage a Culture of Vigilance:**\n",
      "  - Foster an environment where team members feel comfortable reporting concerns and potential issues.\n",
      "\n",
      "#### **E) Managing Time Pressure and Stress**\n",
      "\n",
      "- **Set Realistic Deadlines and Milestones:**\n",
      "  - Break down tasks into manageable segments with achievable deadlines to maintain progress without undue haste.\n",
      "  \n",
      "- **Allocate Resources Effectively:**\n",
      "  - Assess and distribute resources, including personnel and equipment, to where they are most needed.\n",
      "  \n",
      "- **Institute Shift Work to Prevent Fatigue:**\n",
      "  - Organize team shifts to ensure continuous operation while preventing burnout.\n",
      "  \n",
      "- **Develop Contingency Plans:**\n",
      "  - Prepare backup plans for critical components and operations, so the team is prepared for unexpected issues.\n",
      "  \n",
      "- **Conduct Risk Assessments:**\n",
      "  - Regularly evaluate potential risks and adjust plans accordingly to mitigate them.\n",
      "\n",
      "#### **F) Implement Fail-Safes and Redundancies**\n",
      "\n",
      "- **Design Redundant Systems:**\n",
      "  - Where possible, have backup hardware and software systems that can take over if the primary ones fail.\n",
      "  \n",
      "- **Automate Critical Processes:**\n",
      "  - Use automation to handle vital tasks, reducing the chance of human error under pressure.\n",
      "  \n",
      "- **Perform Pre-Activation Dry Runs:**\n",
      "  - Conduct full-system rehearsals without actual activation to identify and rectify potential problems.\n",
      "  \n",
      "- **Install Real-Time Monitoring Dashboards:**\n",
      "  - Provide the team with comprehensive overviews of system statuses to quickly detect and address issues.\n",
      "\n",
      "#### **G) Secure Additional Resources**\n",
      "\n",
      "- **Seek Emergency Funding or Support:**\n",
      "  - Approach stakeholders for additional resources needed to safely expedite activation.\n",
      "  \n",
      "- **Collaborate with Other Institutions:**\n",
      "  - Partner with other facilities or experts who can provide assistance or share data processing loads.\n",
      "  \n",
      "- **Engage Consultants or Specialists:**\n",
      "  - Bring in external experts to assist with calibration, testing, or other critical areas.\n",
      "\n",
      "---\n",
      "\n",
      "**Conclusion**\n",
      "\n",
      "Balancing the urgency of capturing the rare cosmic event with the necessity of ensuring operational integrity is a complex challenge. By proactively addressing the potential failures identified and implementing these preventive measures, you can significantly reduce the risks associated with early activation. This strategic approach maximizes the opportunity to make historic discoveries while safeguarding the project's long-term success.\r\n"
     ]
    }
   ],
   "source": [
    "// Create a system prompt instruction to override the default system prompt\n",
    "// Add the System Prompt (Persona) to behave like a decision intelligence assistant\n",
    "var systemPromptForPremortemRadioTelescope = \"\"\"\n",
    "You are a Decision Intelligence Assistant. \n",
    "Assist the user in exploring options, reasoning through decisions, problem-solving.\n",
    "Apply systems thinking to various scenarios. Provide structured, logical, and comprehensive advice.\n",
    "\"\"\";\n",
    "var decisionAnalysisPromptForPremortemRadioTelescope = \"\"\"\n",
    "You are a project manager at a new radio telescope facility looking for alien life.  \n",
    "It is still far from fully calibrated. Despite limited data processing capacity and a software suite that remains untested, \n",
    "an unexpected cosmic event has just begun, hinting at signals that could reveal alien life. \n",
    "Faced with the risk of hardware damage or data corruption from running the telescope prematurely, \n",
    "scientists debate whether to switch it on now or wait until everything is fully operational—knowing \n",
    "they could lose a once-in-a-generation opportunity. \n",
    "\n",
    "Imagine it is six months from now and the project to detect potential alien signals from the sudden cosmic event has failed. \n",
    "The radio telescope was likely activated prematurely, software remained untested, and the team rushed to capture transmissions. \n",
    "Despite the urgency, the outcome was disastrous: hardware suffered damage under the increased load, \n",
    "data came out corrupted, or no meaningful signals were confirmed. \n",
    "\n",
    "Now, step into that moment of failure—what specific issues, oversights, or cascading errors caused this grim scenario?\n",
    "\n",
    "1) Envision every possible way the radio telescope's early deployment could have led to compromised or unusable data.\n",
    "2) Identify how incomplete software testing and rushed calibration might have \n",
    "contributed to errors in processing or storing signals. \n",
    "3) Consider any overlooked safety protocols or hardware precautions that might have led to damage or malfunctions.\n",
    "4) Examine the roles and responsibilities of the team and think about communication breakdowns, \n",
    "rushed decisions, and missed signals or deadlines.\n",
    "5) Assess how time pressure from the rare cosmic event might have amplified smaller mistakes and \n",
    "turned them into systemic failures.\n",
    "\n",
    "Use the outcomes of this “what if” vision to create a detailed list of preventive measures. \n",
    "Then, propose fail-safes, additional resources, or procedural changes to ensure that, \n",
    "should you choose to activate the telescope early, you can still capture the event safely and \n",
    "effectively—maximizing the chance to detect historic signals without jeopardizing the entire operation.\n",
    "\"\"\";\n",
    "\n",
    "// How the prompt looks like to the LLM\n",
    "var fullPromptForPremortemRadioTelescope = $\"\"\"\n",
    "System Prompt: {systemPromptForPremortemRadioTelescope}\n",
    "\n",
    "Request from the user: {decisionAnalysisPromptForPremortemRadioTelescope}\n",
    "\"\"\";\n",
    "\n",
    "var simplePromptResponse = await semanticKernel.InvokePromptAsync(fullPromptForPremortemRadioTelescope);\n",
    "Console.WriteLine(simplePromptResponse.GetValue<string>());"
   ]
  }
 ],
 "metadata": {
  "kernelspec": {
   "display_name": ".NET (C#)",
   "language": "C#",
   "name": ".net-csharp"
  },
  "language_info": {
   "name": "python"
  },
  "polyglot_notebook": {
   "kernelInfo": {
    "defaultKernelName": "csharp",
    "items": [
     {
      "aliases": [],
      "name": "csharp"
     }
    ]
   }
  }
 },
 "nbformat": 4,
 "nbformat_minor": 2
}
