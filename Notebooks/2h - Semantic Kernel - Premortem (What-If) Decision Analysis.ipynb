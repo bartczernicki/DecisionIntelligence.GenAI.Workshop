{
 "cells": [
  {
   "cell_type": "markdown",
   "metadata": {},
   "source": [
    "<img style=\"float: left;padding-right: 10px\" width =\"40px\" src=\"https://raw.githubusercontent.com/bartczernicki/DecisionIntelligence.GenAI.Workshop/main/Images/SemanticKernelLogo.png\">\n",
    "\n",
    "## Semantic Kernel - Premortem (What-If) Decision Analysis  "
   ]
  },
  {
   "cell_type": "markdown",
   "metadata": {},
   "source": [
    "Decision Intelligence applied in this module:  \n",
    "* Using Premortem Decision Analysis to improve decision quality & outcomes  \n",
    "* Using a Premortem decision output for improving of Gathering Intelligence \n",
    "* Attain different perspectives using mutliple decision frames  \n",
    "* Apply a Decision Framework to Premortem Decision Analysis \n"
   ]
  },
  {
   "cell_type": "markdown",
   "metadata": {},
   "source": [
    "### What is a Premortem (What-If Analysis)  "
   ]
  },
  {
   "cell_type": "markdown",
   "metadata": {},
   "source": [
    "You have probably heard of a **postmortem (post-mortem)**, which is a look back at an actual failure (or success) to understand why it happened and learn from it. In the context of decision making, after the decision outcome is clear you can analyze why the result occured. For example, a hedge fund may host a postmortem meeting after analyzing an unsuccesful move on a tech stock that didn't materialize the return on investment as was planned. \n",
    "\n",
    "In a **premortem (pre-mortem)** the outcome is \"imagined\" and then it is figured out why that potential \"imagined\" outcome happened. In a premortem, a planning exercise is held where a team imagines that a project or decision has already succeeded or failed. The team then works backward, brainstorming what might have caused things to go wrong. This approach allows everyone to spot potential risks and address them before starting the project. Therefore, it’s a bit like predicting the future and using that prediction to make the forecast stronger. "
   ]
  },
  {
   "cell_type": "markdown",
   "metadata": {},
   "source": [
    "### Example Decision Scenario - Purchasing a Car   "
   ]
  },
  {
   "cell_type": "markdown",
   "metadata": {},
   "source": [
    "Imagine you're about to buy a new car. Let's play a game of \"What-If\" that the purchase decision results in either two outcomes a: **disaster** or a **successful** outcome. "
   ]
  },
  {
   "cell_type": "markdown",
   "metadata": {},
   "source": [
    "#### Premortem Outcome - Disaster  "
   ]
  },
  {
   "cell_type": "markdown",
   "metadata": {},
   "source": [
    "<img style=\"display: block; margin: auto;\" width =\"700px\" src=\"https://raw.githubusercontent.com/bartczernicki/DecisionIntelligence.GenAI.Workshop/main/Images/Scenarios/Scenario-DecisionPremortem.png\">"
   ]
  },
  {
   "cell_type": "markdown",
   "metadata": {},
   "source": [
    "In a **premortem (pre-mortem)**, you pretend the car purchase turned out to be a disaster. Now, you ask yourself:  \n",
    "**What went wrong with the decision to buy a new car?**\n",
    "\n",
    "Here are some potential reasons:  \n",
    "\n",
    "* **Financial issues:** You realize later you can’t comfortably afford the monthly payments or maintenance costs.  \n",
    "* **Unexpected repairs:** The car has hidden mechanical problems, leading to costly repairs.  \n",
    "* **Insurance costs:** Insurance is much higher than expected, impacting your budget.\n",
    "* **Poor fuel efficiency:** The car uses more gas than you thought, making it expensive to drive.\n",
    "Resale value drop: The car’s value plummets quickly, leaving you with less if you want to sell or trade it.  "
   ]
  },
  {
   "cell_type": "markdown",
   "metadata": {},
   "source": [
    "#### Premortem Outcome - Success"
   ]
  },
  {
   "cell_type": "markdown",
   "metadata": {},
   "source": [
    "In a premortem for a successful car purchase, imagine you bought the car, and it turned out to be a succssful decision. Now, you ask yourself:  \n",
    "**What went right with the decision to buy a new car?**  \n",
    "\n",
    "Here are some potential reasons:\n",
    "\n",
    "* **Affordable and realistic budget:** You set a budget that allowed for comfortable monthly payments and covered insurance, fuel, and maintenance without straining your finances.  \n",
    "* **Thorough inspection:** You got a detailed inspection before buying, which confirmed the car was in excellent condition and minimized the risk of future repairs.\n",
    "* **Reliable model choice:** You researched models with a reputation for reliability, so you experience fewer repairs and smooth performance.\n",
    "* **Fuel efficiency matches needs:** You chose a car that meets your fuel efficiency needs, saving money on gas and fitting well with your daily driving habits.   \n",
    "* **High resale value:** You picked a make and model that holds its value well, giving you confidence that it’s a good long-term investment.  "
   ]
  },
  {
   "cell_type": "markdown",
   "metadata": {},
   "source": [
    "#### Premortem (What-If) Analysis "
   ]
  },
  {
   "cell_type": "markdown",
   "metadata": {},
   "source": [
    "Imagining these successful outcomes helps you focus on these actions—like sticking to budget, getting a full inspection, and choosing a reliable model—so you’re more likely to make a purchase you’ll be happy with. \n",
    "\n",
    "By plyaing a \"game\" of What-If with these issues in advance, you could consider to thoroughly check maintenance records, buy additional warranty, test drive with similar terrain in your area, or reassess your budget to avoid these potential problems.\n",
    "\n",
    "How can Generative AI help? Using Generative AI, the LLM models can be used to \"imagine\" premortem outcomes and  brainstorm potential factors why that certain outcome occured. Generative AI agents can act as your \"premortem\" team. This can lead to additional questions, gathering of intelligence, checklists, negotiation leverage etc. you didn't consider initially. "
   ]
  },
  {
   "cell_type": "markdown",
   "metadata": {},
   "source": [
    "### Step 1 - Initialize Configuration Builder & Build the Semantic Kernel Orchestration "
   ]
  },
  {
   "cell_type": "code",
   "execution_count": 1,
   "metadata": {
    "dotnet_interactive": {
     "language": "csharp"
    },
    "polyglot_notebook": {
     "kernelName": "csharp"
    },
    "vscode": {
     "languageId": "polyglot-notebook"
    }
   },
   "outputs": [
    {
     "data": {
      "text/html": [
       "<div><div></div><div></div><div><strong>Installed Packages</strong><ul><li><span>Microsoft.Extensions.Configuration, 9.0.0</span></li><li><span>Microsoft.Extensions.Configuration.Json, 9.0.0</span></li><li><span>Microsoft.SemanticKernel, 1.33.0</span></li><li><span>Microsoft.SemanticKernel.Plugins.Core, 1.33.0-alpha</span></li></ul></div></div>"
      ]
     },
     "metadata": {},
     "output_type": "display_data"
    }
   ],
   "source": [
    "#r \"nuget: Microsoft.Extensions.Configuration, 9.0.0\"\n",
    "#r \"nuget: Microsoft.Extensions.Configuration.Json, 9.0.0\"\n",
    "#r \"nuget: Microsoft.SemanticKernel, 1.33.0\"\n",
    "#r \"nuget: Microsoft.SemanticKernel.Plugins.Core, 1.33.0-alpha\"\n",
    "\n",
    "using Microsoft.Extensions.Configuration.Json;\n",
    "using Microsoft.Extensions.Configuration;\n",
    "using Microsoft.SemanticKernel;\n",
    "using Microsoft.SemanticKernel.ChatCompletion;\n",
    "using Microsoft.SemanticKernel.Connectors.OpenAI;\n",
    "using System.IO;\n",
    "\n",
    "var configurationBuilder = new ConfigurationBuilder()\n",
    "    .SetBasePath(Directory.GetCurrentDirectory())\n",
    "    .AddJsonFile(\"local.settings.json\", optional: true, reloadOnChange: true)\n",
    "    .AddJsonFile(\"secrets.settings.json\", optional: true, reloadOnChange: true);\n",
    "var config = configurationBuilder.Build();\n",
    "\n",
    "// IMPORTANT: You ONLY NEED either Azure OpenAI or OpenAI connectiopn info, not both.\n",
    "// Azure OpenAI Connection Info using o1 series of models\n",
    "var azureOpenAIEndpoint = config[\"AzureOpenAI:o1Endpoint\"];\n",
    "var azureOpenAIAPIKey = config[\"AzureOpenAI:o1APIKey\"];\n",
    "var azureOpenAIModelDeploymentName = config[\"AzureOpenAI:o1ModelDeploymentName\"];\n",
    "// OpenAI Connection Info \n",
    "var openAIAPIKey = config[\"OpenAI:APIKey\"];\n",
    "var openAIModelId = config[\"OpenAI:ModelId\"];"
   ]
  },
  {
   "cell_type": "code",
   "execution_count": 2,
   "metadata": {
    "dotnet_interactive": {
     "language": "csharp"
    },
    "polyglot_notebook": {
     "kernelName": "csharp"
    },
    "vscode": {
     "languageId": "polyglot-notebook"
    }
   },
   "outputs": [
    {
     "name": "stdout",
     "output_type": "stream",
     "text": [
      "Using Azure OpenAI Service\n"
     ]
    }
   ],
   "source": [
    "using Microsoft.Extensions.DependencyInjection.Extensions;\n",
    "using Microsoft.Extensions.DependencyInjection;\n",
    "using Microsoft.SemanticKernel;\n",
    "using Microsoft.SemanticKernel.ChatCompletion;\n",
    "using Microsoft.SemanticKernel.Connectors.OpenAI;\n",
    "\n",
    "Kernel semanticKernel;\n",
    "\n",
    "// Set the flag to use Azure OpenAI or OpenAI. False to use OpenAI, True to use Azure OpenAI\n",
    "var useAzureOpenAI = true;\n",
    "\n",
    "// Create a new Semantic Kernel instance\n",
    "if (useAzureOpenAI)\n",
    "{\n",
    "    Console.WriteLine(\"Using Azure OpenAI Service\");\n",
    "    semanticKernel = Kernel.CreateBuilder()\n",
    "        .AddAzureOpenAIChatCompletion(\n",
    "            deploymentName: azureOpenAIModelDeploymentName,\n",
    "            endpoint: azureOpenAIEndpoint,\n",
    "            apiKey: azureOpenAIAPIKey)\n",
    "        .Build();\n",
    "}\n",
    "else\n",
    "{\n",
    "    Console.WriteLine(\"Using OpenAI Service\");\n",
    "    semanticKernel = Kernel.CreateBuilder()\n",
    "        .AddOpenAIChatCompletion(\n",
    "            modelId: openAIModelId,\n",
    "            apiKey: openAIAPIKey)\n",
    "        .Build();\n",
    "}\n",
    "\n",
    "var chatCompletionService = semanticKernel.Services.GetRequiredService<IChatCompletionService>();"
   ]
  },
  {
   "cell_type": "markdown",
   "metadata": {},
   "source": [
    "### Step 2 - Premortem Risk Analysis with AI Reasoning Models"
   ]
  },
  {
   "cell_type": "markdown",
   "metadata": {},
   "source": [
    "In the decision scenario below, an AI model will perform a premortem (What-If) analysis on the decision whether to purchase or lease a car. The AI model will provide risks and items to consider for each of the decision options: purchasing a car or leasing a car. "
   ]
  },
  {
   "cell_type": "code",
   "execution_count": 3,
   "metadata": {
    "dotnet_interactive": {
     "language": "csharp"
    },
    "polyglot_notebook": {
     "kernelName": "csharp"
    },
    "vscode": {
     "languageId": "polyglot-notebook"
    }
   },
   "outputs": [
    {
     "name": "stdout",
     "output_type": "stream",
     "text": [
      "**Advanced Premortem (What-If) Analysis: Purchasing a New Car vs. Leasing a Car**\n",
      "\n",
      "_**Decision Scenario:**_\n",
      "You are deciding whether to **purchase a new car** or **lease a car**. To make an informed decision, you conduct a premortem analysis to anticipate potential problems, risks, and negative outcomes associated with each option. This analysis helps you identify strategies to mitigate these risks before making your decision.\n",
      "\n",
      "---\n",
      "\n",
      "### **Option A: Purchasing a New Car**\n",
      "\n",
      "**Premortem Imagined Outcome:**\n",
      "Several years after purchasing the new car, you find yourself regretting the decision. The ownership has become a significant burden, and the anticipated benefits did not materialize.\n",
      "\n",
      "**Potential Negative Outcomes and Causes:**\n",
      "\n",
      "1. **Rapid Depreciation and Low Resale Value:**\n",
      "   - The car's value depreciated faster than expected due to market changes or model updates.\n",
      "   - Newer models with advanced technology made your car less desirable, impacting trade-in or resale value.\n",
      "\n",
      "2. **Unexpected Financial Hardships:**\n",
      "   - Job loss, medical emergencies, or other financial crises made it difficult to keep up with loan payments.\n",
      "   - High monthly payments strained your budget, leading to financial stress or loan default.\n",
      "\n",
      "3. **High Maintenance and Repair Costs:**\n",
      "   - The car required expensive repairs after the warranty expired.\n",
      "   - Recurring mechanical issues (possibly owning a \"lemon\") led to unexpected out-of-pocket expenses.\n",
      "\n",
      "4. **Lifestyle Changes Rendering the Car Unsuitable:**\n",
      "   - Family growth required a larger vehicle, making the current car impractical.\n",
      "   - Relocation to an area with different transportation needs (e.g., urban environment where a smaller car or no car is preferable).\n",
      "\n",
      "5. **Increased Ownership Costs:**\n",
      "   - Insurance premiums rose significantly due to changes in policy rates or personal driving record.\n",
      "   - Increases in property taxes, registration fees, or fuel costs added to the overall expense.\n",
      "\n",
      "6. **Negative Equity Situation:**\n",
      "   - Owing more on the car loan than the car's market value, making it difficult to sell or trade-in without incurring a loss.\n",
      "\n",
      "**Mitigation Strategies:**\n",
      "\n",
      "- **Research and Select a Car with Strong Resale Value:**\n",
      "  - Choose makes and models known for retaining value over time.\n",
      "  - Consider purchasing a certified pre-owned car to minimize depreciation impact.\n",
      "\n",
      "- **Financial Planning:**\n",
      "  - Set a realistic budget, ensuring monthly payments are affordable even if circumstances change.\n",
      "  - Build an emergency fund to cover unexpected expenses or income loss.\n",
      "\n",
      "- **Extended Warranties and Maintenance Plans:**\n",
      "  - Invest in extended warranty coverage to protect against major repair costs after the manufacturer's warranty expires.\n",
      "  - Regularly maintain the car to prevent mechanical issues and preserve its condition.\n",
      "\n",
      "- **Anticipate Future Needs:**\n",
      "  - Choose a versatile vehicle that can accommodate potential lifestyle changes.\n",
      "  - Consider the potential for technological obsolescence and opt for models with upgradable features.\n",
      "\n",
      "---\n",
      "\n",
      "### **Option B: Leasing a Car**\n",
      "\n",
      "**Premortem Imagined Outcome:**\n",
      "At the end of the lease term, you realize that leasing was not the optimal choice. You face unexpected costs and limitations that outweigh the benefits you initially anticipated.\n",
      "\n",
      "**Potential Negative Outcomes and Causes:**\n",
      "\n",
      "1. **Excess Mileage Charges:**\n",
      "   - Underestimated annual mileage, resulting in significant fees for exceeding the mileage limit stipulated in the lease agreement.\n",
      "\n",
      "2. **Wear-and-Tear Penalties:**\n",
      "   - The car sustained damages beyond normal wear and tear, leading to costly charges upon lease return.\n",
      "   - Unavoidable incidents (e.g., minor accidents, environmental damage) increased these penalties.\n",
      "\n",
      "3. **Lack of Equity and Continuous Payments:**\n",
      "   - After years of payments, you have no ownership stake in the vehicle.\n",
      "   - The need to enter a new lease or purchase results in perpetual car payments.\n",
      "\n",
      "4. **Inflexibility due to Lease Terms:**\n",
      "   - Early termination of the lease due to lifestyle changes incurred substantial fees.\n",
      "   - Restrictions prevented modifications or personalization of the vehicle.\n",
      "\n",
      "5. **Unexpected Financial Constraints:**\n",
      "   - Economic downturns or personal financial hardships made lease payments challenging, with limited options to alleviate the burden.\n",
      "\n",
      "6. **Market Changes Affecting Future Costs:**\n",
      "   - At lease end, increased car prices or interest rates made leasing or buying a replacement vehicle more expensive than anticipated.\n",
      "\n",
      "**Mitigation Strategies:**\n",
      "\n",
      "- **Accurate Assessment of Driving Habits:**\n",
      "  - Realistically estimate annual mileage and negotiate a lease that accommodates your driving patterns, even if it increases monthly payments slightly.\n",
      "\n",
      "- **Lease Protection Plans:**\n",
      "  - Consider wear-and-tear protection plans offered by the leasing company to mitigate potential end-of-lease charges.\n",
      "\n",
      "- **Flexible Lease Terms:**\n",
      "  - Opt for lease agreements with favorable terms regarding early termination or transfers.\n",
      "  - Explore \"lease swap\" options that allow transferring the lease to another party if needed.\n",
      "\n",
      "- **Financial Cushion and Planning:**\n",
      "  - Ensure stable income projections to cover lease payments throughout the term.\n",
      "  - Budget for potential additional costs at lease end or unforeseen expenses during the lease.\n",
      "\n",
      "- **Future Needs Consideration:**\n",
      "  - Choose a vehicle that is likely to meet your needs throughout the lease term.\n",
      "  - Stay informed about market trends to anticipate potential increases in future vehicle costs.\n",
      "\n",
      "---\n",
      "\n",
      "### **Comparative Analysis and Decision Factors**\n",
      "\n",
      "**Ownership vs. Leasing Costs:**\n",
      "- **Purchasing:**\n",
      "  - Higher upfront costs but potential for long-term savings if the car is kept beyond the loan term.\n",
      "  - Possibility of recouping some costs through resale or trade-in value.\n",
      "- **Leasing:**\n",
      "  - Lower initial costs and monthly payments but no equity gained.\n",
      "  - Continuous cycle of payments if leasing repeatedly.\n",
      "\n",
      "**Flexibility and Control:**\n",
      "- **Purchasing:**\n",
      "  - Full ownership allows modifications and unlimited mileage.\n",
      "  - Greater flexibility to sell or trade-in the car at any time.\n",
      "- **Leasing:**\n",
      "  - Restrictions on mileage, modifications, and early termination.\n",
      "  - Less flexibility in adapting to changing circumstances.\n",
      "\n",
      "**Risk Exposure:**\n",
      "- **Purchasing:**\n",
      "  - Risks associated with depreciation, maintenance costs, and market changes.\n",
      "  - Potential financial burden during economic hardship.\n",
      "- **Leasing:**\n",
      "  - Risks of additional fees and penalties.\n",
      "  - Committed payments with limited options for adjustment.\n",
      "\n",
      "---\n",
      "\n",
      "**Conclusion:**\n",
      "\n",
      "By conducting this premortem analysis, you have identified potential pitfalls associated with both purchasing and leasing a car. This foresight allows you to:\n",
      "\n",
      "- **For Purchasing:**\n",
      "  - Make a well-informed choice of vehicle with consideration for resale value and future needs.\n",
      "  - Plan financially to handle payments and unexpected expenses.\n",
      "  - Protect your investment through warranties and proper maintenance.\n",
      "\n",
      "- **For Leasing:**\n",
      "  - Structure a lease agreement that aligns with your usage and flexibility requirements.\n",
      "  - Prepare for potential additional costs and ensure they fit within your budget.\n",
      "  - Decide if the lack of ownership aligns with your long-term financial goals.\n",
      "\n",
      "**Decision Recommendation:**\n",
      "\n",
      "Based on the analysis, choose the option that best aligns with your financial situation, lifestyle, and risk tolerance. Ensure that whichever path you take, proactive measures are in place to mitigate the identified risks. This approach maximizes the likelihood of a positive outcome and satisfaction with your vehicle acquisition decision.\n"
     ]
    }
   ],
   "source": [
    "// Create a system prompt instruction to override the default system prompt\n",
    "// Add the System Prompt (Persona) to behave like a decision intelligence assistant\n",
    "var systemPromptForDecisions = \"\"\"\n",
    "You are a Decision Intelligence Assistant. \n",
    "Assist the user in exploring options, reasoning through decisions, problem-solving.\n",
    "Apply systems thinking to various scenarios. Provide structured, logical, and comprehensive advice.\n",
    "\"\"\";\n",
    "var decisionAnalysisPrompt = \"\"\"\n",
    "Perform an advanced premortem (What-If) analysis on the following decision scenario:\n",
    "You are deciding to purchase a new car versus leasing a car.\n",
    "\"\"\";\n",
    "\n",
    "// How the prompt looks like to the LLM\n",
    "var simpleDecisionPromptTemplate = $\"\"\"\n",
    "System Prompt: {systemPromptForDecisions}\n",
    "\n",
    "Request from the user: {decisionAnalysisPrompt}\n",
    "\"\"\";\n",
    "\n",
    "var simplePromptResponse = await semanticKernel.InvokePromptAsync(decisionAnalysisPrompt);\n",
    "Console.WriteLine(simplePromptResponse.GetValue<string>());"
   ]
  },
  {
   "cell_type": "markdown",
   "metadata": {},
   "source": [
    "The large reasoning model provided a comprehensive set of criteria, risks, mitigation strategy and approaches for the two decisions. This is a great option, but it might be more ideal to provide this in an easy to consume table (checklist) for the user that is easy to compare and contrast. This What-If analysis is easy to consume on a mobile device or even print out and annotate. "
   ]
  },
  {
   "cell_type": "code",
   "execution_count": 7,
   "metadata": {
    "dotnet_interactive": {
     "language": "csharp"
    },
    "polyglot_notebook": {
     "kernelName": "csharp"
    },
    "vscode": {
     "languageId": "polyglot-notebook"
    }
   },
   "outputs": [
    {
     "name": "stdout",
     "output_type": "stream",
     "text": [
      "| Risk Factor / Uncertainty        | Purchase                                                                                                                                  | Lease                                                                                                                                           |\n",
      "|----------------------------------|-------------------------------------------------------------------------------------------------------------------------------------------|-------------------------------------------------------------------------------------------------------------------------------------------------|\n",
      "| **Depreciation**                 | Owner bears depreciation costs; resale value uncertain                                                                                    | Lease payments account for depreciation; residual value risk lies with leasing company                                                          |\n",
      "| **Maintenance and Repair Costs** | Owner responsible for maintenance and repairs; costs may increase over time                                                              | Often covered under warranty; may have included maintenance plan                                                                                |\n",
      "| **Mileage Limitations**          | No mileage restrictions                                                                                                                  | Mileage limits in lease agreement; excess mileage fees apply                                                                                    |\n",
      "| **Upfront Costs**                | Higher initial costs (down payment, taxes, fees)                                                                                         | Lower initial costs (security deposit, fees)                                                                                                    |\n",
      "| **Monthly Payments**             | Generally higher monthly payments                                                                                                        | Generally lower monthly payments                                                                                                                |\n",
      "| **Ownership Benefits**           | Build equity in the car; can sell or trade-in                                                                                            | No ownership; must return car at lease end                                                                                                      |\n",
      "| **End-of-Term Costs**            | Potential costs for selling or trading in car                                                                                            | Possible fees for excess wear, damage; disposition fee                                                                                          |\n",
      "| **Resale Value Uncertainty**     | Owner responsible for selling car; market conditions affect resale value                                                                 | Not responsible for resale; residual value predetermined                                                                                        |\n",
      "| **Flexibility to Change Vehicle**| Less flexibility; selling/trading may be time-consuming and costly                                                                       | Can switch to a new car at end of lease term; options to upgrade regularly                                                                      |\n",
      "| **Early Termination Penalties**  | May have negative equity if selling early; possible loss if market value is less than owed amount                                        | Significant penalties for early termination; remaining payments and fees may be due                                                             |\n",
      "| **Technology Obsolescence**      | Owner bears risk of car becoming outdated; may need to invest in new technology separately                                               | Can lease newer models regularly to keep up with latest technology and features                                                                 |\n",
      "| **Interest Rates**               | Loan interest rates affect total purchase cost; subject to market fluctuations                                                           | Money factor (lease's version of interest rate) affects payments; may be less transparent than loan interest rates                              |\n",
      "| **Usage Needs**                  | Better for long-term ownership and high-mileage usage; no penalties for extensive use                                                    | Suited for predictable, lower-mileage use; excess mileage can result in significant fees                                                        |\n",
      "| **Insurance Costs**              | May have flexibility in choosing coverage levels; insurance costs depend on financing and vehicle value                                  | May require higher insurance coverage levels as mandated by leasing company; could increase insurance premiums                                  |\n",
      "| **Credit Score Impact**          | Loan impacts credit utilization ratio; regular payments can build credit history                                                         | Lease obligations affect debt-to-income ratio; missed payments can negatively impact credit score                                               |\n",
      "| **Tax Implications**             | Sales tax on full purchase price; potential tax deductions if used for business                                                          | Sales tax typically applied to monthly payments; potential tax benefits if used for business                                                    |\n",
      "| **Customization Options**        | Full freedom to customize or modify the vehicle                                                                                          | Limited or prohibited modifications; vehicle must be returned in original condition                                                             |\n",
      "| **Total Cost of Ownership**      | Potentially lower long-term cost if the vehicle is kept for many years; costs spread over longer period                                  | Potentially higher long-term cost due to continuous lease payments; may cost more over multiple lease terms compared to owning one vehicle long-term |\r\n"
     ]
    }
   ],
   "source": [
    "// Create a system prompt instruction to override the default system prompt\n",
    "// Add the System Prompt (Persona) to behave like a decision intelligence assistant\n",
    "var systemPromptForDecisions = \"\"\"\n",
    "You are a Decision Intelligence Assistant. \n",
    "Assist the user in exploring options, reasoning through decisions, problem-solving.\n",
    "Apply systems thinking to various scenarios. Provide structured, logical, and comprehensive advice.\n",
    "\"\"\";\n",
    "var decisionAnalysisPrompt = \"\"\"\n",
    "Perform an advanced premortem (What-If) analysis on the following scenario:\n",
    "You are deciding to purchase a new car versus leasing a car.\n",
    "\n",
    "Output the risk factors, uncertainties, and potential outcomes ONLY in a Markdown table.\n",
    "Create a column for each option (Purchase, Lease) and which risk factor or uncertainty applies to each option.\n",
    "Do not surround the markdown with triple backticks.\n",
    "\"\"\";\n",
    "\n",
    "// Illustrate how the prompt appears to the LLM\n",
    "var simpleDecisionPromptTemplate = $\"\"\"\n",
    "System Prompt: {systemPromptForDecisions}\n",
    "\n",
    "Request from the user: {decisionAnalysisPrompt}\n",
    "\"\"\";\n",
    "\n",
    "var simplePromptResponse = await semanticKernel.InvokePromptAsync(decisionAnalysisPrompt);\n",
    "Console.WriteLine(simplePromptResponse.GetValue<string>());"
   ]
  },
  {
   "cell_type": "markdown",
   "metadata": {},
   "source": [
    "| Risk Factor / Uncertainty / Potential Outcome | Purchase                                                                                                | Lease                                                                                                    |\n",
    "|-----------------------------------------------|-----------------------------------------------------------------------------------------------------------|----------------------------------------------------------------------------------------------------------|\n",
    "| High Upfront Cost                             | High initial payment required for down payment and taxes                                                  | Lower initial payment; typically only first month's payment and fees                                     |\n",
    "| Depreciation of Vehicle Value                 | Owner bears the full depreciation cost over time                                                          | Depreciation is factored into lease payments; less concern for lessee                                     |\n",
    "| Maintenance Costs After Warranty              | Owner responsible for all maintenance and repair costs after warranty expiration                          | Maintenance may be covered under lease terms; newer cars less likely to need repairs                      |\n",
    "| Resale Value Uncertainty                      | Uncertain future resale value can affect total cost of ownership                                          | Not applicable; no need to resell the vehicle at end of lease                                             |\n",
    "| Financing Costs (Interest Rates)              | Interest rates on auto loan affect total purchase cost                                                    | Interest rates affect lease payments; money factor (lease equivalent of interest rate) applies            |\n",
    "| Changes in Personal Circumstances             | Financial hardship could lead to loan default or need to sell the car                                     | Financial hardship could lead to lease default with possible penalties                                    |\n",
    "| Technological Obsolescence                    | Owner may be stuck with outdated technology or features                                                   | Ability to upgrade to newer model with latest technology at end of lease term                             |\n",
    "| Opportunity Cost of Capital                   | Capital tied up in vehicle ownership could be used elsewhere                                              | Less capital required upfront; frees up funds for other investments                                       |\n",
    "| Mileage Limits and Penalties                  | No mileage restrictions; can drive unlimited miles                                                        | Mileage limits apply; excess mileage results in additional fees                                           |\n",
    "| Wear and Tear Charges                         | Owner bears cost of excessive wear but has control over repairs                                           | Excess wear and tear charges may apply at lease end                                                       |\n",
    "| No Equity Built in Vehicle                    | Equity builds over time; potential asset at end of loan                                                   | No equity or ownership; payments do not contribute to ownership                                           |\n",
    "| Early Termination Fees                        | Can sell the car at any time, though may incur loss if loan balance exceeds car value                     | Early lease termination can result in substantial fees and penalties                                      |\n",
    "| Insurance Gap Coverage Needed                 | May be optional; depreciation could result in owing more than car's value                                 | Often required; protects against owing the difference between insurance payout and lease balance          |\n",
    "| Flexibility to Modify Car                     | Full freedom to customize or modify the vehicle                                                           | Modifications typically prohibited; must return car in original condition                                 |\n",
    "| Total Cost Over Time                          | Potentially lower total cost if kept long-term and maintenance costs are manageable                       | Potentially higher total cost over similar period due to continuous lease payments                        |\n",
    "| Obligation Period                             | Commitment until loan is paid off or car is sold                                                          | Fixed lease term commitment; less flexibility to exit agreement early                                     |\n",
    "| Impact of Market Conditions                   | Changes in used car market affect resale value and total cost of ownership                                | Lessee is insulated from market fluctuations; residual value risk is on the lessor                        |\n",
    "| Tax Considerations                            | Possible tax deductions for interest paid (subject to tax laws)                                           | Lease payments may be tax-deductible if car is used for business purposes                                 |\n",
    "| Credit Score Impact                           | Loan default negatively impacts credit score                                                              | Lease default negatively impacts credit score                                                             |\n",
    "| End of Term Options                           | Own the car outright, sell, or trade in for a new vehicle                                                 | Options to return the car, purchase it at residual value, or lease a new vehicle                          |\n",
    "| Flexibility of Use                            | Unlimited personal use; ownership allows for any usage                                                    | Use is limited by lease terms; restrictions on commercial use or ride-sharing services may apply          |"
   ]
  },
  {
   "cell_type": "markdown",
   "metadata": {},
   "source": [
    "This Markdown table can be further simplified by highlighting which risk factor is more favorable when comparing a car purchase versus a car lease.\n",
    "\n",
    "| Risk Factor / Uncertainty / Potential Outcome | Purchase | Lease |\n",
    "|-----------------------------------------------|----------|-------|\n",
    "| High Upfront Cost                             |          | ☑️    |\n",
    "| Depreciation of Vehicle Value                 |          | ☑️    |\n",
    "| Maintenance Costs After Warranty              |          | ☑️    |\n",
    "| Resale Value Uncertainty                      |          | ☑️    |\n",
    "| Financing Costs (Interest Rates)              |          |       |\n",
    "| Changes in Personal Circumstances             | ☑️       |       |\n",
    "| Technological Obsolescence                    |          | ☑️    |\n",
    "| Opportunity Cost of Capital                   |          | ☑️    |\n",
    "| Mileage Limits and Penalties                  | ☑️       |       |\n",
    "| Wear and Tear Charges                         | ☑️       |       |\n",
    "| No Equity Built in Vehicle                    | ☑️       |       |\n",
    "| Early Termination Fees                        | ☑️       |       |\n",
    "| Insurance Gap Coverage Needed                 | ☑️       |       |\n",
    "| Flexibility to Modify Car                     | ☑️       |       |\n",
    "| Total Cost Over Time                          | ☑️       |       |\n",
    "| Obligation Period                             | ☑️       |       |\n",
    "| Impact of Market Conditions                   |          | ☑️    |\n",
    "| Tax Considerations                            |          | ☑️    |\n",
    "| Credit Score Impact                           |          |       |\n",
    "| End of Term Options                           |          | ☑️    |\n",
    "| Flexibility of Use                            | ☑️       |       |\n"
   ]
  },
  {
   "cell_type": "markdown",
   "metadata": {},
   "source": [
    "### Step 3 - Premortem Analysis for Radio Telescope Operations "
   ]
  },
  {
   "cell_type": "markdown",
   "metadata": {},
   "source": [
    "Exploring space with telescopes is a time consuming investment. Current telescope designs are limited to exploring small areas of space in a certain time frame. Without going into details, the process is much more complex than snapping a picture with a mobile device. Telescopes can be pointed at a specific space area for days, weeks or even more than months! If a telescope is exploring a certain area of space it isn't collecting data on other areas. Scientists and researchers compete for valuable access to telescope resources by providing observatories what space area they want to explore, any cellestial contraints, timeframes, calibration costs, data collection transfer etc. This presents a very interesting Decision Intelligence constraints problem that observatories must manage. \n",
    "\n",
    "<img style=\"display: block; margin: auto;\" width =\"700px\" src=\"https://raw.githubusercontent.com/bartczernicki/DecisionIntelligence.GenAI.Workshop/main/Images/Scenarios/Scenario-RadioTelescope.png\">"
   ]
  },
  {
   "cell_type": "markdown",
   "metadata": {},
   "source": [
    "#### Decision Scenario - Premortem for Radio Telescope Operations "
   ]
  },
  {
   "cell_type": "markdown",
   "metadata": {},
   "source": [
    "A newly commissioned radio telescope stands on the verge of unveiling the proof of alien life, but it is still far from fully calibrated. Despite limited data processing capacity and a software suite that remains untested, an unexpected cosmic event has just begun, hinting at signals that could reveal alien life. Faced with the risk of hardware damage or data corruption from running the telescope prematurely, scientists debate whether to switch it on now or wait until everything is fully operational—knowing they could lose a once-in-a-generation opportunity. Determined not to squander this brief cosmic window, the team conducts a premortem analysis to predict what might go wrong. Armed with these insights, they can better prepare for potential pitfalls and strengthen their chances of catching historic signals from across the galaxy.\n",
    "\n",
    "Let's assume the scientists decide to rush the radio telescope to operate early to find alien life. Furthermore, assume a that this decision has led to a disaster with hardware failure to the telescope. Even though the (What-If) decision was made to rush the radio telescope operationally, formal scientific telescope operations have been followed. The goal of this premortem (What-If analysis) is to illuminate any risk mitigation strategies and craft a risk mitigation approach that may have been uncovered based on the premortem. \n",
    "\n",
    "Techinques like this a very powerful in a variety of business scenarios, where existing operational frameworks exist but simulating an outcome can uncover gaps, emerging risks and other opportunities to optimize. "
   ]
  },
  {
   "cell_type": "code",
   "execution_count": 4,
   "metadata": {
    "dotnet_interactive": {
     "language": "csharp"
    },
    "polyglot_notebook": {
     "kernelName": "csharp"
    },
    "vscode": {
     "languageId": "polyglot-notebook"
    }
   },
   "outputs": [
    {
     "name": "stdout",
     "output_type": "stream",
     "text": [
      "**Moment of Failure Analysis**\n",
      "\n",
      "In reflecting upon the failed attempt to detect potential alien signals from the sudden cosmic event, several specific issues, oversights, and cascading errors contributed to this grim scenario:\n",
      "\n",
      "1. **Compromised or Unusable Data from Early Deployment**\n",
      "   - **Hardware Overload**: Activating the telescope prematurely without fully tested capacity led to hardware components being subjected to loads beyond their design limits, resulting in failures.\n",
      "   - **Calibration Errors**: Incomplete calibration caused misalignment of the telescope's sensors, capturing inaccurate or irrelevant data.\n",
      "   - **Signal Interference**: Without proper shielding and tuning, background noise and interference contaminated the signals, rendering data unusable.\n",
      "   - **Data Loss**: Inadequate data handling protocols led to corruption or loss during transmission and storage.\n",
      "\n",
      "2. **Impact of Incomplete Software Testing and Rushed Calibration**\n",
      "   - **Software Bugs**: Unidentified bugs in the untested software caused errors in data collection, processing, and storage.\n",
      "   - **Algorithmic Errors**: Faulty signal processing algorithms misinterpreted noise as potential signals or missed actual signals.\n",
      "   - **Data Processing Bottlenecks**: Inefficient code led to delays and backlogs in data analysis, causing critical information to be overlooked.\n",
      "   - **Integration Failures**: Poor integration between software modules resulted in system crashes and inconsistent data outputs.\n",
      "\n",
      "3. **Overlooked Safety Protocols and Hardware Precautions**\n",
      "   - **Cooling System Failures**: Overheating due to inadequate cooling led to hardware damage.\n",
      "   - **Power Surges**: Lack of surge protection caused electrical components to short circuit under fluctuating loads.\n",
      "   - **Mechanical Stress**: Rapid deployment without mechanical stress testing led to structural failures in moving parts.\n",
      "   - **Absence of Redundancies**: Critical systems lacked backup, so failures could not be mitigated.\n",
      "\n",
      "4. **Team Roles, Communication Breakdowns, and Rushed Decisions**\n",
      "   - **Unclear Responsibilities**: Team members were unsure of their roles, leading to duplication of efforts or neglected tasks.\n",
      "   - **Ineffective Communication**: Crucial information about system limitations and errors was not promptly shared among team members.\n",
      "   - **Hasty Decision-Making**: Decisions were made without comprehensive risk assessments due to time pressure.\n",
      "   - **Missed Deadlines and Signals**: Overlooked critical deadlines for system checks, and potential signals were missed due to mismanaged priorities.\n",
      "\n",
      "5. **Amplification of Mistakes Due to Time Pressure**\n",
      "   - **Compromised Quality Assurance**: Skipped essential testing phases to save time, allowing undetected errors to persist.\n",
      "   - **Stress-Induced Errors**: High-pressure environment led to human errors in system operation and data analysis.\n",
      "   - **Resource Misallocation**: Focused on immediate goals without considering long-term implications, neglecting essential maintenance.\n",
      "   - **Systemic Failures**: Small mistakes cascaded due to interconnected systems, resulting in widespread failures.\n",
      "\n",
      "---\n",
      "\n",
      "**Preventive Measures and Recommendations**\n",
      "\n",
      "To prevent such failures and ensure safe, effective early activation of the telescope, the following measures are proposed:\n",
      "\n",
      "1. **Conduct a Comprehensive Risk Assessment**\n",
      "   - **Identify Critical Systems**: Determine which components are essential for minimal viable operation during early activation.\n",
      "   - **Assess Potential Failure Points**: Analyze where systems are most vulnerable under premature use.\n",
      "\n",
      "2. **Prioritize and Execute Essential Calibration and Testing**\n",
      "   - **Calibrate Core Sensors**: Focus on aligning the most critical sensors necessary for detecting signals.\n",
      "   - **Perform Basic Software Testing**: Test fundamental software functionalities to ensure data can be accurately collected and processed.\n",
      "   - **Implement Quick Verification Protocols**: Use rapid testing techniques to verify system performance under expected conditions.\n",
      "\n",
      "3. **Enhance Software Reliability**\n",
      "   - **Deploy Software Patches**: Address known bugs and vulnerabilities before activation.\n",
      "   - **Simplify Software Operations**: Utilize only necessary software modules to reduce potential errors.\n",
      "   - **Establish Monitoring Tools**: Implement real-time monitoring to detect and address software issues promptly.\n",
      "\n",
      "4. **Strengthen Hardware Protection and Safety Protocols**\n",
      "   - **Ensure Adequate Cooling**: Verify that cooling systems are fully operational and capable of handling increased loads.\n",
      "   - **Install Power Protection Devices**: Use surge protectors and uninterruptible power supplies (UPS) to safeguard against electrical issues.\n",
      "   - **Conduct Stress Tests on Critical Components**: Test hardware under simulated operational loads to identify and mitigate weaknesses.\n",
      "\n",
      "5. **Improve Team Coordination and Communication**\n",
      "   - **Define Roles and Responsibilities**: Clearly assign tasks to team members to prevent overlaps and gaps.\n",
      "   - **Establish Clear Communication Channels**: Implement structured communication protocols for timely information sharing.\n",
      "   - **Schedule Regular Briefings**: Hold frequent meetings to update the team on progress, issues, and decisions.\n",
      "\n",
      "6. **Implement Decision-Making Frameworks Under Time Pressure**\n",
      "   - **Develop Standard Operating Procedures (SOPs)**: Create guidelines for making expedited decisions without sacrificing thoroughness.\n",
      "   - **Use Checklists for Critical Actions**: Ensure all critical steps are followed, even when rushed.\n",
      "   - **Empower Rapid Response Teams**: Assign a dedicated team to handle urgent issues as they arise.\n",
      "\n",
      "7. **Allocate Additional Resources**\n",
      "   - **Supplement Staffing**: Bring in experienced personnel or consultants to assist with critical tasks.\n",
      "   - **Invest in Training**: Provide quick, focused training sessions on emergency protocols and essential operations.\n",
      "   - **Increase Support Infrastructure**: Enhance data storage and processing capabilities to handle increased loads.\n",
      "\n",
      "8. **Establish Redundancies and Fail-safes**\n",
      "   - **Backup Systems**: Implement parallel systems that can take over in case of primary system failures.\n",
      "   - **Data Integrity Measures**: Use redundant data recording and verification methods to prevent corruption.\n",
      "   - **Emergency Shutdown Protocols**: Define procedures to safely power down systems to prevent damage.\n",
      "\n",
      "9. **Plan for Contingencies**\n",
      "   - **Develop Emergency Response Plans**: Prepare for potential failures with predefined action steps.\n",
      "   - **Maintain Supplier and Expert Contacts**: Keep lines open with equipment suppliers and experts for rapid troubleshooting.\n",
      "   - **Secure Spare Parts Inventory**: Stock critical spare parts to enable quick replacements if needed.\n",
      "\n",
      "10. **Balance Urgency with Caution**\n",
      "    - **Set Realistic Timelines**: While acting swiftly, avoid unrealistic deadlines that force corner-cutting.\n",
      "    - **Monitor Team Workloads**: Ensure team members are not overburdened to reduce stress-induced errors.\n",
      "    - **Encourage a Culture of Safety**: Reinforce the importance of following protocols, even under pressure.\n",
      "\n",
      "---\n",
      "\n",
      "**Procedural Changes and Additional Resources**\n",
      "\n",
      "- **Implement Phased Activation**\n",
      "  - **Stage 1**: Activate only essential systems required for data capture.\n",
      "  - **Stage 2**: Gradually bring other systems online as they are tested and calibrated.\n",
      "\n",
      "- **Optimize Data Handling**\n",
      "  - **Use Cloud Storage Solutions**: Employ scalable storage to handle unexpected data volumes.\n",
      "  - **Real-Time Data Analysis**: Leverage high-performance computing resources to process data as it is received.\n",
      "\n",
      "- **Enhance Oversight and Governance**\n",
      "  - **Establish a Crisis Management Team**: Dedicated to making informed decisions during high-pressure situations.\n",
      "  - **Conduct Regular Audits**: Frequent checks on systems and processes to ensure compliance with safety standards.\n",
      "\n",
      "- **Leverage External Partnerships**\n",
      "  - **Collaborate with Other Facilities**: Share data and resources to mitigate risks.\n",
      "  - **Engage with Academic Institutions**: Utilize expertise from researchers and engineers to support operations.\n",
      "\n",
      "- **Invest in Long-Term Resilience**\n",
      "  - **Upgrade Infrastructure**: Use this event as a catalyst to improve overall system robustness.\n",
      "  - **Implement Continuous Improvement Processes**: Learn from this experience to enhance future readiness.\n",
      "\n",
      "---\n",
      "\n",
      "**Conclusion**\n",
      "\n",
      "By applying these preventive measures and procedural enhancements, the team can seize the rare opportunity presented by the sudden cosmic event while minimizing risks. Early activation becomes a calculated decision supported by robust planning, ensuring that the pursuit of historic signals does not jeopardize the telescope's integrity or the project's long-term success. Balancing urgency with meticulous preparation maximizes the chances of a successful outcome, turning a potential disaster into a triumph of coordination and adaptability.\n"
     ]
    }
   ],
   "source": [
    "// Create a system prompt instruction to override the default system prompt\n",
    "// Add the System Prompt (Persona) to behave like a decision intelligence assistant\n",
    "var systemPromptForPremortemRadioTelescope = \"\"\"\n",
    "You are a Decision Intelligence Assistant. \n",
    "Assist the user in exploring options, reasoning through decisions, problem-solving.\n",
    "Apply systems thinking to various scenarios. Provide structured, logical, and comprehensive advice.\n",
    "\"\"\";\n",
    "var decisionAnalysisPromptForPremortemRadioTelescope = \"\"\"\n",
    "You are a project manager at a new radio telescope facility looking for alien life.  \n",
    "It is still far from fully calibrated. Despite limited data processing capacity and a software suite that remains untested, \n",
    "an unexpected cosmic event has just begun, hinting at signals that could reveal alien life. \n",
    "Faced with the risk of hardware damage or data corruption from running the telescope prematurely, \n",
    "scientists debate whether to switch it on now or wait until everything is fully operational—knowing \n",
    "they could lose a once-in-a-generation opportunity. \n",
    "\n",
    "Imagine it is six months from now and the project to detect potential alien signals from the sudden cosmic event has failed. \n",
    "The radio telescope was likely activated prematurely, software remained untested, and the team rushed to capture transmissions. \n",
    "Despite the urgency, the outcome was disastrous: hardware suffered damage under the increased load, \n",
    "data came out corrupted, or no meaningful signals were confirmed. \n",
    "\n",
    "Now, step into that moment of failure—what specific issues, oversights, or cascading errors caused this grim scenario?\n",
    "\n",
    "1) Envision every possible way the radio telescope's early deployment could have led to compromised or unusable data.\n",
    "2) Identify how incomplete software testing and rushed calibration might have \n",
    "contributed to errors in processing or storing signals. \n",
    "3) Consider any overlooked safety protocols or hardware precautions that might have led to damage or malfunctions.\n",
    "4) Examine the roles and responsibilities of the team and think about communication breakdowns, \n",
    "rushed decisions, and missed signals or deadlines.\n",
    "5) Assess how time pressure from the rare cosmic event might have amplified smaller mistakes and \n",
    "turned them into systemic failures.\n",
    "\n",
    "Use the outcomes of this “what if” vision to create a detailed list of preventive measures. \n",
    "Then, propose fail-safes, additional resources, or procedural changes to ensure that, \n",
    "should you choose to activate the telescope early, you can still capture the event safely and \n",
    "effectively—maximizing the chance to detect historic signals without jeopardizing the entire operation.\n",
    "\"\"\";\n",
    "\n",
    "// How the prompt looks like to the LLM\n",
    "var fullPromptForPremortemRadioTelescope = $\"\"\"\n",
    "System Prompt: {systemPromptForPremortemRadioTelescope}\n",
    "\n",
    "Request from the user: {decisionAnalysisPromptForPremortemRadioTelescope}\n",
    "\"\"\";\n",
    "\n",
    "var simplePromptResponse = await semanticKernel.InvokePromptAsync(fullPromptForPremortemRadioTelescope);\n",
    "Console.WriteLine(simplePromptResponse.GetValue<string>());"
   ]
  }
 ],
 "metadata": {
  "kernelspec": {
   "display_name": ".NET (C#)",
   "language": "C#",
   "name": ".net-csharp"
  },
  "language_info": {
   "name": "python"
  },
  "polyglot_notebook": {
   "kernelInfo": {
    "defaultKernelName": "csharp",
    "items": [
     {
      "aliases": [],
      "name": "csharp"
     }
    ]
   }
  }
 },
 "nbformat": 4,
 "nbformat_minor": 2
}
