{
 "cells": [
  {
   "cell_type": "markdown",
   "metadata": {},
   "source": [
    "<img style=\"float: left;padding-right: 10px\" width =\"40px\" src=\"https://raw.githubusercontent.com/bartczernicki/DecisionIntelligence.GenAI.Workshop/main/Images/SemanticKernelLogo.png\">\n",
    "\n",
    "## Semantic Kernel - Premortem (What-If) Decision Analysis  "
   ]
  },
  {
   "cell_type": "markdown",
   "metadata": {},
   "source": [
    "> 📜 \"The pre-mortem method has a number of benefits besides identifying trouble spots in a plan – reducing overconfidence and promoting discoveries. The method can strengthen members’ mental models… And it can help create a culture of candor and trust.\"\n",
    ">\n",
    "> -- <cite>Gary Klein (Psychologist, creator of the Pre-mortem method)</cite>  "
   ]
  },
  {
   "cell_type": "markdown",
   "metadata": {},
   "source": [
    "Decision Intelligence applied in this module:  \n",
    "* Using Premortem Decision Analysis to improve decision quality & outcomes  \n",
    "* Using a Premortem decision output for improving of Gathering Intelligence \n",
    "* Attain different perspectives using mutliple decision frames  \n",
    "* Apply a Decision Framework to Premortem Decision Analysis \n"
   ]
  },
  {
   "cell_type": "markdown",
   "metadata": {},
   "source": [
    "### What is a Premortem (What-If Analysis)  "
   ]
  },
  {
   "cell_type": "markdown",
   "metadata": {},
   "source": [
    "You have probably heard of a **postmortem (post-mortem)**, which is a look back at an actual failure (or success) to understand why it happened and learn from it. In the context of decision making, after the decision outcome is clear you can analyze why the result occured. For example, a hedge fund may host a postmortem meeting after analyzing an unsuccesful move on a tech stock that didn't materialize the return on investment as was planned. \n",
    "\n",
    "In a **premortem (pre-mortem)** the outcome is \"imagined\" and then it is figured out why that potential \"imagined\" outcome happened. In a premortem, a planning exercise is held where a team imagines that a project or decision has already succeeded or failed. The team then works backward, brainstorming what might have caused things to go wrong. This approach allows everyone to spot potential risks and address them before starting the project. Therefore, it’s a bit like predicting the future and using that prediction to make the forecast stronger. "
   ]
  },
  {
   "cell_type": "markdown",
   "metadata": {},
   "source": [
    "### Example Decision Scenario - Purchasing a Car   "
   ]
  },
  {
   "cell_type": "markdown",
   "metadata": {},
   "source": [
    "Imagine you're about to buy a new car. Let's play a game of \"What-If\" that the purchase decision results in either two outcomes a: **disaster** or a **successful** outcome. "
   ]
  },
  {
   "cell_type": "markdown",
   "metadata": {},
   "source": [
    "#### Premortem Outcome - Disaster  "
   ]
  },
  {
   "cell_type": "markdown",
   "metadata": {},
   "source": [
    "<img style=\"display: block; margin: auto;\" width =\"700px\" src=\"https://raw.githubusercontent.com/bartczernicki/DecisionIntelligence.GenAI.Workshop/main/Images/Scenarios/Scenario-DecisionPremortem.png\">"
   ]
  },
  {
   "cell_type": "markdown",
   "metadata": {},
   "source": [
    "In a **premortem (pre-mortem)**, you pretend the car purchase turned out to be a disaster. Now, you ask yourself:  \n",
    "**What went wrong with the decision to buy a new car?**\n",
    "\n",
    "Here are some potential reasons:  \n",
    "\n",
    "* **Financial issues:** You realize later you can’t comfortably afford the monthly payments or maintenance costs.  \n",
    "* **Unexpected repairs:** The car has hidden mechanical problems, leading to costly repairs.  \n",
    "* **Insurance costs:** Insurance is much higher than expected, impacting your budget.\n",
    "* **Poor fuel efficiency:** The car uses more gas than you thought, making it expensive to drive.\n",
    "Resale value drop: The car’s value plummets quickly, leaving you with less if you want to sell or trade it.  "
   ]
  },
  {
   "cell_type": "markdown",
   "metadata": {},
   "source": [
    "#### Premortem Outcome - Success"
   ]
  },
  {
   "cell_type": "markdown",
   "metadata": {},
   "source": [
    "In a premortem for a successful car purchase, imagine you bought the car, and it turned out to be a succssful decision. Now, you ask yourself:  \n",
    "**What went right with the decision to buy a new car?**  \n",
    "\n",
    "Here are some potential reasons:\n",
    "\n",
    "* **Affordable and realistic budget:** You set a budget that allowed for comfortable monthly payments and covered insurance, fuel, and maintenance without straining your finances.  \n",
    "* **Thorough inspection:** You got a detailed inspection before buying, which confirmed the car was in excellent condition and minimized the risk of future repairs.\n",
    "* **Reliable model choice:** You researched models with a reputation for reliability, so you experience fewer repairs and smooth performance.\n",
    "* **Fuel efficiency matches needs:** You chose a car that meets your fuel efficiency needs, saving money on gas and fitting well with your daily driving habits.   \n",
    "* **High resale value:** You picked a make and model that holds its value well, giving you confidence that it’s a good long-term investment.  "
   ]
  },
  {
   "cell_type": "markdown",
   "metadata": {},
   "source": [
    "#### Premortem (What-If) Decision Analysis "
   ]
  },
  {
   "cell_type": "markdown",
   "metadata": {},
   "source": [
    "Imagining successful outcomes helps you focus on actions like sticking to a car budget, getting a full inspection, and choosing a reliable model. You will be more likely to make a purchase you’ll be happy with. By plyaing a \"game\" of What-If with decision criteria in advance, you could adapt your strategy. For example, you could consider to thoroughly check maintenance records, buy additional warranty, test drive with similar terrain in your area, or reassess your budget to avoid these potential problems.\n",
    "\n",
    "How can Generative AI help? Using Generative AI, the LLM models can be used to \"imagine\" premortem outcomes and  brainstorm potential factors why that certain outcome occured. Generative AI agents can act as your \"premortem\" team. This can lead to additional questions, gathering of intelligence, checklists, negotiation leverage etc. you didn't consider initially. "
   ]
  },
  {
   "cell_type": "markdown",
   "metadata": {},
   "source": [
    "### Step 1 - Initialize Configuration Builder & Build the Semantic Kernel Orchestration "
   ]
  },
  {
   "cell_type": "code",
   "execution_count": 1,
   "metadata": {
    "dotnet_interactive": {
     "language": "csharp"
    },
    "polyglot_notebook": {
     "kernelName": "csharp"
    },
    "vscode": {
     "languageId": "polyglot-notebook"
    }
   },
   "outputs": [
    {
     "data": {
      "text/html": [
       "<div><div></div><div></div><div><strong>Installed Packages</strong><ul><li><span>Microsoft.Extensions.Configuration, 9.0.0</span></li><li><span>Microsoft.Extensions.Configuration.Json, 9.0.0</span></li><li><span>Microsoft.SemanticKernel, 1.45.0</span></li><li><span>Microsoft.SemanticKernel.Plugins.Core, 1.45.0-alpha</span></li></ul></div></div>"
      ]
     },
     "metadata": {},
     "output_type": "display_data"
    }
   ],
   "source": [
    "#r \"nuget: Microsoft.Extensions.Configuration, 9.0.0\"\n",
    "#r \"nuget: Microsoft.Extensions.Configuration.Json, 9.0.0\"\n",
    "#r \"nuget: Microsoft.SemanticKernel, 1.45\"\n",
    "#r \"nuget: Microsoft.SemanticKernel.Plugins.Core, 1.45-alpha\"\n",
    "\n",
    "using Microsoft.Extensions.Configuration.Json;\n",
    "using Microsoft.Extensions.Configuration;\n",
    "using Microsoft.SemanticKernel;\n",
    "using Microsoft.SemanticKernel.ChatCompletion;\n",
    "using Microsoft.SemanticKernel.Connectors.OpenAI;\n",
    "using System.IO;\n",
    "\n",
    "var configurationBuilder = new ConfigurationBuilder()\n",
    "    .SetBasePath(Directory.GetCurrentDirectory())\n",
    "    .AddJsonFile(\"local.settings.json\", optional: true, reloadOnChange: true)\n",
    "    .AddJsonFile(\"secrets.settings.json\", optional: true, reloadOnChange: true);\n",
    "var config = configurationBuilder.Build();\n",
    "\n",
    "// IMPORTANT: You ONLY NEED either Azure OpenAI or OpenAI connectiopn info, not both.\n",
    "// Azure OpenAI Connection Info using o1 series of models\n",
    "var azureOpenAIEndpoint = config[\"AzureOpenAI:Endpoint\"];\n",
    "var azureOpenAIAPIKey = config[\"AzureOpenAI:APIKey\"];\n",
    "var azureOpenAIModelDeploymentName = config[\"AzureOpenAI:ModelDeploymentName\"];\n",
    "// OpenAI Connection Info \n",
    "var openAIAPIKey = config[\"OpenAI:APIKey\"];\n",
    "var openAIModelId = config[\"OpenAI:ModelId\"];"
   ]
  },
  {
   "cell_type": "code",
   "execution_count": 2,
   "metadata": {
    "dotnet_interactive": {
     "language": "csharp"
    },
    "polyglot_notebook": {
     "kernelName": "csharp"
    },
    "vscode": {
     "languageId": "polyglot-notebook"
    }
   },
   "outputs": [
    {
     "name": "stdout",
     "output_type": "stream",
     "text": [
      "Using Azure OpenAI Service\r\n"
     ]
    }
   ],
   "source": [
    "using Microsoft.Extensions.DependencyInjection.Extensions;\n",
    "using Microsoft.Extensions.DependencyInjection;\n",
    "using Microsoft.SemanticKernel;\n",
    "using Microsoft.SemanticKernel.ChatCompletion;\n",
    "using Microsoft.SemanticKernel.Connectors.OpenAI;\n",
    "\n",
    "Kernel semanticKernel;\n",
    "\n",
    "// Set the flag to use Azure OpenAI or OpenAI. False to use OpenAI, True to use Azure OpenAI\n",
    "var useAzureOpenAI = true;\n",
    "\n",
    "// Create a new Semantic Kernel instance\n",
    "if (useAzureOpenAI)\n",
    "{\n",
    "    Console.WriteLine(\"Using Azure OpenAI Service\");\n",
    "    semanticKernel = Kernel.CreateBuilder()\n",
    "        .AddAzureOpenAIChatCompletion(\n",
    "            deploymentName: azureOpenAIModelDeploymentName,\n",
    "            endpoint: azureOpenAIEndpoint,\n",
    "            apiKey: azureOpenAIAPIKey)\n",
    "        .Build();\n",
    "}\n",
    "else\n",
    "{\n",
    "    Console.WriteLine(\"Using OpenAI Service\");\n",
    "    semanticKernel = Kernel.CreateBuilder()\n",
    "        .AddOpenAIChatCompletion(\n",
    "            modelId: openAIModelId,\n",
    "            apiKey: openAIAPIKey)\n",
    "        .Build();\n",
    "}\n",
    "\n",
    "var chatCompletionService = semanticKernel.Services.GetRequiredService<IChatCompletionService>();"
   ]
  },
  {
   "cell_type": "markdown",
   "metadata": {},
   "source": [
    "### Step 2 - Premortem Risk Analysis with AI Reasoning Models"
   ]
  },
  {
   "cell_type": "markdown",
   "metadata": {},
   "source": [
    "> 📜 \"Success is a lousy teacher. It seduces smart people into thinking they can’t lose.\"\n",
    ">\n",
    "> -- <cite>Bill Gates (Co-Founder of Microsoft, Philantropist)</cite>  "
   ]
  },
  {
   "cell_type": "markdown",
   "metadata": {},
   "source": [
    "In the decision scenario below, an AI model will perform a premortem (What-If) analysis on the decision whether to purchase or lease a car. The AI model will provide risks and items to consider for each of the decision options: purchasing a car or leasing a car. "
   ]
  },
  {
   "cell_type": "code",
   "execution_count": 3,
   "metadata": {
    "dotnet_interactive": {
     "language": "csharp"
    },
    "polyglot_notebook": {
     "kernelName": "csharp"
    },
    "vscode": {
     "languageId": "polyglot-notebook"
    }
   },
   "outputs": [
    {
     "name": "stdout",
     "output_type": "stream",
     "text": [
      "### Advanced Premortem (What-If) Analysis for Purchasing vs Leasing a Car\n",
      "\n",
      "A premortem analysis is a structured process to assess potential risks and downsides before committing to a decision. In this exercise, we'll evaluate the possible scenarios under which the decision to purchase or lease a car could fail or lead to undesirable outcomes. By identifying vulnerabilities early, we can take steps to mitigate them or optimize our decision.\n",
      "\n",
      "---\n",
      "\n",
      "### Decision Scenario\n",
      "You are deciding between **purchasing** a new car or **leasing** a car. The goal is to make the most financially sound, practical, and long-term decision. Factors such as cost, flexibility, maintenance, depreciation, lifestyle, and financial goals are being considered.\n",
      "\n",
      "---\n",
      "\n",
      "### Premortem: **What Could Go Wrong?**\n",
      "\n",
      "Below is an analysis of worst-case scenarios for each option.\n",
      "\n",
      "---\n",
      "\n",
      "#### **Option 1: Purchasing a Car**\n",
      "___\"What If purchasing the car turns out to be a major mistake?\"___\n",
      "\n",
      "1. **What If You Overestimated Your Budget?**\n",
      "   - Worst-case scenario: You cannot comfortably afford monthly payments (if financed) or the upfront cost (if purchased outright), leading to financial stress or debt accumulation.\n",
      "   - Mitigation: Reassess your financial health, use conservative budget assumptions, and ensure emergency savings are intact before committing.\n",
      "\n",
      "2. **What If Maintenance Costs Spiral?**\n",
      "   - Worst-case scenario: The car requires unexpected repairs that exceed your estimates, resulting in additional expenses (e.g., major mechanical failures or accidents).\n",
      "   - Mitigation: Research reliability ratings for the car model and purchase extended warranties or service plans. Set aside a maintenance fund.\n",
      "\n",
      "3. **What If Depreciation Is Worse Than You Expected?**\n",
      "   - Worst-case scenario: The car’s resale value drops significantly due to market trends, lower demand for your specific model, or accelerated wear-and-tear.\n",
      "   - Mitigation: Choose a car model with historically strong resale value. Understand the total cost of ownership, including depreciation projections.\n",
      "\n",
      "4. **What If Your Lifestyle Changes?**\n",
      "   - Worst-case scenario: You move to a city where public transportation is more practical, or your job changes and reduces the need for a car.\n",
      "   - Mitigation: Consider whether a car aligns with long-term life plans and opt for flexibility (leasing or shared mobility services) if your lifestyle or location is unstable.\n",
      "\n",
      "5. **What If Interest Rates Rise?**\n",
      "   - Worst-case scenario: If you’re financing the car, an increase in interest rates makes monthly payments significantly more expensive or refinancing difficult.\n",
      "   - Mitigation: Lock in favorable loan terms and compare financing offers. If possible, save up more to reduce dependency on loans.\n",
      "\n",
      "---\n",
      "\n",
      "#### **Option 2: Leasing a Car**\n",
      "___\"What If leasing the car turns out to be a major mistake?\"___\n",
      "\n",
      "1. **What If You Exceed Mileage Limits?**\n",
      "   - Worst-case scenario: You drive more than the mileage allowance in your lease agreement, resulting in costly fees (e.g., $0.15–$0.30 per additional mile).\n",
      "   - Mitigation: Accurately estimate your driving habits. Negotiate higher mileage limits upfront if needed.\n",
      "\n",
      "2. **What If You Have to Terminate the Lease Early?**\n",
      "   - Worst-case scenario: Life changes (e.g., job relocation, financial difficulties) require you to end the lease prematurely, leading to hefty early termination fees.\n",
      "   - Mitigation: Evaluate lease terms for flexibility (e.g., transferability, penalty rules). If uncertainty exists, consider alternatives to leasing.\n",
      "\n",
      "3. **What If You Don’t Own the Car at the End of the Lease?**\n",
      "   - Worst-case scenario: You feel regret about leasing because you don’t accumulate equity in the car and face the same decision (lease vs buy) in 2–3 years.\n",
      "   - Mitigation: Compare long-term costs and weigh the trade-offs of flexibility versus ownership. If equity is a priority, buying may be the better option.\n",
      "\n",
      "4. **What If Hidden Fees Add Up?**\n",
      "   - Worst-case scenario: You incur additional costs during the lease, such as wear-and-tear penalties, paperwork fees, and service charges.\n",
      "   - Mitigation: Thoroughly read the lease agreement and negotiate terms. Maintain the car well to avoid penalties.\n",
      "\n",
      "5. **What If Leasing is Less Financially Advantageous in the Long Term?**\n",
      "   - Worst-case scenario: Leasing over several years costs more than buying when cumulative monthly payments, mileage fees, and lack of ownership are factored in.\n",
      "   - Mitigation: Perform the total cost analysis over 5–10 years to compare purchase costs versus leasing. Consider leasing only if flexibility outweighs long-term financial savings.\n",
      "\n",
      "---\n",
      "\n",
      "### Additional Considerations\n",
      "#### **External Risks**\n",
      "1. **What If Gas Prices Spike or Insurance Costs Rise?**\n",
      "   - Both purchasing and leasing scenarios are vulnerable to rising fuel and insurance costs. Ensure the car model is fuel-efficient and research insurance rates.\n",
      "\n",
      "2. **What If Vehicle Technology Evolves Quickly?**\n",
      "   - Rapid changes in vehicle technology (e.g., EV adoption, autonomous driving) could make your car model obsolete quickly, reducing resale value (if owning) or desirability (if leasing).\n",
      "\n",
      "#### **Behavioral Risks**\n",
      "1. **What If You Underestimate Emotional Factors?**\n",
      "   - You might prioritize short-term convenience (leasing) or pride of ownership (purchasing) without adequately considering the financial implications. To mitigate, ask: \"Am I being objective about this decision?\"\n",
      "\n",
      "---\n",
      "\n",
      "### Final Checklist: Decision Optimization\n",
      "To make the best decision:\n",
      "1. **Perform a Side-by-Side Cost Analysis:** Use tools or spreadsheets to compare total ownership costs versus leasing costs (including fees, interest, depreciation, etc.) over 5–10 years.\n",
      "2. **Understand Your Lifestyle Needs:** Is flexibility critical? How much will owning or leasing affect your day-to-day life? Could subscription models or ride-sharing alternatives fit better?\n",
      "3. **Account for Uncertainties:** Budget conservatively, factor in unexpected changes (e.g., job relocation, income fluctuation), and have a contingency plan.\n",
      "4. **Negotiate Terms and Ask Questions:** Whether buying or leasing, negotiate aggressively to minimize costs or maximize value.\n",
      "\n",
      "By proactively addressing these “what-if” scenarios, you can confidently choose an option that aligns with your finances, priorities, and lifestyle.\n"
     ]
    }
   ],
   "source": [
    "// Create a system prompt instruction to override the default system prompt\n",
    "// Add the System Prompt (Persona) to behave like a decision intelligence assistant\n",
    "var systemPromptForDecisions = \"\"\"\n",
    "You are a Decision Intelligence Assistant. \n",
    "Assist the user in exploring options, reasoning through decisions, problem-solving.\n",
    "Apply systems thinking to various scenarios. Provide structured, logical, and comprehensive advice.\n",
    "\"\"\";\n",
    "var decisionAnalysisPrompt = \"\"\"\n",
    "Perform an advanced premortem (What-If) analysis on the following decision scenario:\n",
    "You are deciding to purchase a new car versus leasing a car.\n",
    "\"\"\";\n",
    "\n",
    "// How the prompt looks like to the LLM\n",
    "var simpleDecisionPromptTemplate = $\"\"\"\n",
    "System Prompt: {systemPromptForDecisions}\n",
    "\n",
    "Request from the user: {decisionAnalysisPrompt}\n",
    "\"\"\";\n",
    "\n",
    "var simplePromptResponse = await semanticKernel.InvokePromptAsync(decisionAnalysisPrompt);\n",
    "Console.WriteLine(simplePromptResponse.GetValue<string>());"
   ]
  },
  {
   "cell_type": "markdown",
   "metadata": {},
   "source": [
    "The large reasoning model provided a comprehensive set of criteria, risks, mitigation strategy and approaches for the two decisions. This is a great option, but it might be more ideal to provide this in an easy to consume table (checklist) for the user that is easy to compare and contrast. This What-If analysis is easy to consume on a mobile device or even print out and annotate. "
   ]
  },
  {
   "cell_type": "code",
   "execution_count": 4,
   "metadata": {
    "dotnet_interactive": {
     "language": "csharp"
    },
    "polyglot_notebook": {
     "kernelName": "csharp"
    },
    "vscode": {
     "languageId": "polyglot-notebook"
    }
   },
   "outputs": [
    {
     "name": "stdout",
     "output_type": "stream",
     "text": [
      "| **Risk Factor/Uncertainty**               | **Purchase**                                     | **Lease**                                       |\n",
      "|-------------------------------------------|-------------------------------------------------|------------------------------------------------|\n",
      "| **Depreciation**                          | High upfront cost with potential steep value loss over time. | Risk of overpaying residual value if buyout option is exercised. |\n",
      "| **Monthly Payments**                      | Higher monthly payments (unless a large down payment is made). | Typically lower monthly payments compared to purchase.           |\n",
      "| **Mileage Limitations**                   | No restrictions on mileage.                    | Mileage overage fees if limits are exceeded.                      |\n",
      "| **Maintenance Costs**                     | Out-of-pocket repair costs after the warranty expires.        | Maintenance often covered during the lease term with potential fees for excess wear & tear. |\n",
      "| **Ownership Value (Equity)**              | Builds asset equity over time (though value decreases).       | No ownership or equity built—payments only cover usage.           |\n",
      "| **Flexibility**                           | Less flexible—requires selling/trading in the car if needs change. | Flexible—can switch cars at the lease's end with minimal hassle.  |\n",
      "| **Long-Term Costs**                       | Lower long-term costs if the car is kept for many years.     | Higher long-term costs due to continuous lease payments.          |\n",
      "| **Down Payment**                          | Significant upfront cost or loan required.                    | Usually lower or no down payment required.                        |\n",
      "| **Market Fluctuations**                   | Loss in value if car demand drops or market prices dip.       | Protected from market value drop as lease residual value is predetermined. |\n",
      "| **Usage Customization**                   | Can modify and customize the car as desired.                  | Limited ability to modify the vehicle without penalties.          |\n",
      "| **End-of-Term Disposal**                  | Responsible for selling or trading in the car.                | Simply return the car unless opting for purchase.                 |\n",
      "| **Early Termination Risk**                | Financial penalty if loan repayment is incomplete or car is sold early. | Significant fees for breaking the lease agreement early.          |\n",
      "| **Tax Implications**                      | Potential tax deductions for business use of depreciation.    | Potential tax benefits on lease payments for business purposes.   |\n",
      "| **Economic Downturn**                     | Risk of negative equity due to declining car value.           | Potential to walk away unaffected by market downturn at lease end.|\n",
      "| **Lifestyle/Job Changes**                 | Long-term ownership may not align with changing needs.        | Easier to adjust to changes by leasing a different car.           |\r\n"
     ]
    }
   ],
   "source": [
    "// Create a system prompt instruction to override the default system prompt\n",
    "// Add the System Prompt (Persona) to behave like a Decision Intelligence assistant\n",
    "var systemPromptForDecisions = \"\"\"\n",
    "You are a Decision Intelligence Assistant. \n",
    "Assist the user in exploring options, reasoning through decisions, problem-solving.\n",
    "Apply systems thinking to various scenarios. Provide structured, logical, and comprehensive advice.\n",
    "\"\"\";\n",
    "var decisionAnalysisPrompt = \"\"\"\n",
    "Perform an advanced premortem (What-If) analysis on the following scenario:\n",
    "You are deciding to purchase a new car versus leasing a car.\n",
    "\n",
    "Output the risk factors, uncertainties, and potential outcomes ONLY in a Markdown table.\n",
    "Create a column for each option (Purchase, Lease) and which risk factor or uncertainty applies to each option.\n",
    "Do not surround the markdown with triple backticks.\n",
    "\"\"\";\n",
    "\n",
    "// Illustrate how the prompt appears to the LLM\n",
    "var simpleDecisionPromptTemplate = $\"\"\"\n",
    "System Prompt: {systemPromptForDecisions}\n",
    "\n",
    "Request from the user: {decisionAnalysisPrompt}\n",
    "\"\"\";\n",
    "\n",
    "var simplePromptResponse = await semanticKernel.InvokePromptAsync(decisionAnalysisPrompt);\n",
    "Console.WriteLine(simplePromptResponse.GetValue<string>());"
   ]
  },
  {
   "cell_type": "markdown",
   "metadata": {},
   "source": [
    "| **Risk Factor / Uncertainty / Potential Outcome** | **Purchase** | **Lease** |\n",
    "|---------------------------------------------------|--------------|------------|\n",
    "| **Depreciation of Vehicle Value**                 | Yes          | No         |\n",
    "| **Residual Value Risk**                           | Yes          | No         |\n",
    "| **Potential Negative Equity**                     | Yes          | No         |\n",
    "| **Mileage Limitations**                           | No           | Yes        |\n",
    "| **Wear and Tear Charges**                         | No           | Yes        |\n",
    "| **Early Termination Penalties**                   | No           | Yes        |\n",
    "| **Upfront Costs**                                 | Higher       | Lower      |\n",
    "| **Monthly Payments**                              | Generally Higher | Generally Lower |\n",
    "| **Maintenance Costs**                             | Yes (after warranty expires) | May be included |\n",
    "| **Ownership at End of Term**                      | Yes          | No         |\n",
    "| **Flexibility to Upgrade Vehicle**                | Less Flexible | More Flexible |\n",
    "| **Risk of Obsolescence**                          | Yes          | No         |\n",
    "| **Total Cost Over Term**                          | Potentially Higher | Potentially Lower |\n",
    "| **Ability to Build Equity**                       | Yes          | No         |\n",
    "| **Risk of High Repair Costs**                     | Yes          | Less Risk (covered by warranty) |\n",
    "| **Resale Value Uncertainty**                      | Yes          | No         |\n",
    "| **Over-Mileage Charges**                          | No           | Yes        |\n",
    "| **Ability to Customize Vehicle**                  | Yes          | Restricted |\n",
    "| **Changes in Personal Circumstances**             | May require selling the car | Early termination fees |\n",
    "| **Interest Rate Fluctuations**                    | Yes          | Yes        |\n",
    "| **Tax Implications**                              | Sales tax on full price | Sales tax on monthly payments |\n",
    "| **Insurance Costs**                               | Standard     | May require higher coverage |\n",
    "| **Credit Score Impact**                           | Yes          | Yes        |\n",
    "| **Financial Flexibility**                         | Less         | More       |\n",
    "| **Opportunity Cost of Capital**                   | Higher (capital tied up) | Lower (more capital available) |\n",
    "| **End-of-Term Options**                           | Keep or sell the car | Buyout or return the car |"
   ]
  },
  {
   "cell_type": "markdown",
   "metadata": {},
   "source": [
    "This Markdown table can be further simplified by highlighting which risk factor is more favorable when comparing a car purchase versus a car lease.\n",
    "\n",
    "| Risk Factor / Uncertainty / Potential Outcome | Purchase | Lease |\n",
    "|-----------------------------------------------|----------|-------|\n",
    "| High Upfront Cost                             |          | ☑️    |\n",
    "| Depreciation of Vehicle Value                 |          | ☑️    |\n",
    "| Maintenance Costs After Warranty              |          | ☑️    |\n",
    "| Resale Value Uncertainty                      |          | ☑️    |\n",
    "| Financing Costs (Interest Rates)              |          |       |\n",
    "| Changes in Personal Circumstances             | ☑️       |       |\n",
    "| Technological Obsolescence                    |          | ☑️    |\n",
    "| Opportunity Cost of Capital                   |          | ☑️    |\n",
    "| Mileage Limits and Penalties                  | ☑️       |       |\n",
    "| Wear and Tear Charges                         | ☑️       |       |\n",
    "| No Equity Built in Vehicle                    | ☑️       |       |\n",
    "| Early Termination Fees                        | ☑️       |       |\n",
    "| Insurance Gap Coverage Needed                 | ☑️       |       |\n",
    "| Flexibility to Modify Car                     | ☑️       |       |\n",
    "| Total Cost Over Time                          | ☑️       |       |\n",
    "| Obligation Period                             | ☑️       |       |\n",
    "| Impact of Market Conditions                   |          | ☑️    |\n",
    "| Tax Considerations                            |          | ☑️    |\n",
    "| Credit Score Impact                           |          |       |\n",
    "| End of Term Options                           |          | ☑️    |\n",
    "| Flexibility of Use                            | ☑️       |       |\n"
   ]
  },
  {
   "cell_type": "markdown",
   "metadata": {},
   "source": [
    "### Step 3 - Premortem Analysis for Radio Telescope Operations "
   ]
  },
  {
   "cell_type": "markdown",
   "metadata": {},
   "source": [
    "Exploring space with telescopes is a time consuming investment. Current telescope designs are limited to exploring small areas of space in a certain time frame. Without going into details, the process is much more complex than snapping a picture with a mobile device. Telescopes can be pointed at a specific space area for days, weeks or even more than months! If a telescope is exploring a certain area of space it isn't collecting data on other areas. Scientists and researchers compete for valuable access to telescope resources by providing observatories what space area they want to explore, any cellestial contraints, timeframes, calibration costs, data collection transfer etc. This presents a very interesting Decision Intelligence constraints problem that observatories must manage. \n",
    "\n",
    "<img style=\"display: block; margin: auto;\" width =\"700px\" src=\"https://raw.githubusercontent.com/bartczernicki/DecisionIntelligence.GenAI.Workshop/main/Images/Scenarios/Scenario-RadioTelescope.png\">"
   ]
  },
  {
   "cell_type": "markdown",
   "metadata": {},
   "source": [
    "#### Decision Scenario - Premortem for Radio Telescope Operations "
   ]
  },
  {
   "cell_type": "markdown",
   "metadata": {},
   "source": [
    "> 📜 \"We choose to go to the Moon in this decade and do the other things, not because they are easy, but because they are hard.\" \n",
    ">\n",
    "> -- <cite>John F. Kennedy (35th President of the United States)</cite>  "
   ]
  },
  {
   "cell_type": "markdown",
   "metadata": {},
   "source": [
    "A newly commissioned radio telescope stands on the verge of unveiling the proof of alien life, but it is still far from fully calibrated. Despite limited data processing capacity and a software suite that remains untested, an unexpected cosmic event has just begun, hinting at signals that could reveal alien life. Faced with the risk of hardware damage or data corruption from running the telescope prematurely, scientists debate whether to switch it on now or wait until everything is fully operational—knowing they could lose a once-in-a-generation opportunity. Determined not to squander this brief cosmic window, the team conducts a premortem analysis to predict what might go wrong. Armed with these insights, they can better prepare for potential pitfalls and strengthen their chances of catching historic signals from across the galaxy.\n",
    "\n",
    "Let's assume the scientists decide to rush the radio telescope to operate early to find alien life. Furthermore, assume a that this decision has led to a disaster with hardware failure to the telescope. Even though the (What-If) decision was made to rush the radio telescope operationally, formal scientific telescope operations have been followed. The goal of this premortem (What-If analysis) is to illuminate any risk mitigation strategies and craft a risk mitigation approach that may have been uncovered based on the premortem. \n",
    "\n",
    "Techinques like this a very powerful in a variety of business scenarios, where existing operational frameworks exist but simulating an outcome can uncover gaps, emerging risks and other opportunities to optimize. "
   ]
  },
  {
   "cell_type": "code",
   "execution_count": 5,
   "metadata": {
    "dotnet_interactive": {
     "language": "csharp"
    },
    "polyglot_notebook": {
     "kernelName": "csharp"
    },
    "vscode": {
     "languageId": "polyglot-notebook"
    }
   },
   "outputs": [
    {
     "name": "stdout",
     "output_type": "stream",
     "text": [
      "### Retrospective Analysis: The Factors Contributing to Failure\n",
      "\n",
      "##### 1. **Compromised or Unsable Data**\n",
      "   - Miscalibrated instrumentation caused erratic signal reception, mixing potential alien signals with noise.\n",
      "   - Premature data analysis software failed to distinguish genuine cosmic signals from background interference or system artifacts.\n",
      "   - Corrupted data occurred due to overloaded or improperly configured storage systems.\n",
      "   - Environmental or system conditions (e.g., thermal imbalances, signal attenuation) were not accounted for, leading to invalid readings.\n",
      "\n",
      "##### 2. **Impact of Incomplete Software Testing**\n",
      "   - Algorithms designed to filter or interpret signals were buggy, missing key patterns or mislabeling noise as potential evidence.\n",
      "   - The signal processing pipeline experienced glitches under real-world load and failed to store or process data in the correct formats.\n",
      "   - Faulty communication between data streams led to synchronization errors, fragmenting incomplete observations.\n",
      "   - Limited cybersecurity testing made the system vulnerable to accidental data overwrites or external interference.\n",
      "\n",
      "##### 3. **Hardware Issues**\n",
      "   - Overheating occurred due to high operational load, damaging critical components.\n",
      "   - Improper voltage regulation affected antennae performance, reducing sensitivity or rendering them inactive.\n",
      "   - Lack of stress testing under real conditions led to mechanical wear or component fractures during the event.\n",
      "   - RF sensors were overwhelmed by strong cosmic signals for which they weren’t tempered, degrading their sensitivity for future use.\n",
      "\n",
      "##### 4. **Team Dynamics & Communication Breakdowns**\n",
      "   - Pressure to act quickly caused scientists and engineers to bypass standard review procedures for their respective systems.\n",
      "   - Rushed decisions led to a lack of cross-team coordination and redundant risk assessments.\n",
      "   - Critical warnings flagged by junior team members or subsystems were ignored, dismissed, or never escalated to leadership.\n",
      "   - Knowledge silos within the team delayed troubleshooting during anomalies.\n",
      "\n",
      "##### 5. **Amplification of Errors Due to Time Pressure**\n",
      "   - Small calibration inconsistencies compounded under the urgency, resulting in data misalignment.\n",
      "   - Lack of contingency plans for handling unexpected hardware or software failures slowed the recovery process.\n",
      "   - Inadequate training for emergency scenarios meant operators were unprepared to respond to cascading failures.\n",
      "\n",
      "---\n",
      "\n",
      "### Preventive Measures and Revised Operational Framework\n",
      "\n",
      "To avoid such catastrophic outcomes, the following measures should be implemented before deciding whether to activate the telescope early:\n",
      "\n",
      "---\n",
      "\n",
      "#### **1. Risk Mitigation Strategies for Signal Capture**\n",
      "   - Develop a dual-mode operating system:\n",
      "     - **Safe Mode:** Operate the hardware at reduced capacity to minimize strain while collecting lower-fidelity data.\n",
      "     - **Full Capture Mode:** Only activated under controlled, verified conditions.\n",
      "   - Use existing, well-tested external resources (such as partner facilities or commercial satellite arrays) to record signals in parallel as a backup.\n",
      "   - Develop a modular observation plan where only specific subsystems are activated for critical portions of the event.\n",
      "\n",
      "---\n",
      "\n",
      "#### **2. Software Testing and Data Processing Safeguards**\n",
      "   - Allocate emergency resources to conduct a focused test blitz on signal processing software, prioritizing:\n",
      "     - Accuracy in filtering genuine signals.\n",
      "     - Stress testing under simulated high-load real-time data conditions.\n",
      "   - Implement incremental scaling:\n",
      "     - Process raw data on secure offline servers to minimize risk of immediate corruption.\n",
      "     - Limit automated interpretation until manual validation confirms outputs.\n",
      "   - Create redundant logging systems to preserve raw data in multiple formats for post-event reanalysis.\n",
      "\n",
      "---\n",
      "\n",
      "#### **3. Hardware Protection Measures**\n",
      "   - Conduct a hardware durability assessment under simulated extreme event scenarios.\n",
      "   - Deploy fail-safes, such as:\n",
      "     - Load-balancing mechanisms that automatically throttle input signals to avoid overload.\n",
      "     - Thermal sensors and automated shutdown protocols to prevent overheating.\n",
      "   - Purchase or lease backup components (e.g., antennae, amplifiers) in case of failures.\n",
      "   - Shield the equipment from environmental risks like power surges or adverse weather conditions during the event.\n",
      "\n",
      "---\n",
      "\n",
      "#### **4. Team Preparedness and Decision-Making Frameworks**\n",
      "   - Enforce a clear chain of command for critical decisions, with a single authoritative figure or committee empowered to make activation-related calls.\n",
      "   - Conduct a pre-event drill to simulate failures in hardware, software, and communication systems.\n",
      "   - Ensure open communication channels across all project teams to prevent important data from being siloed.\n",
      "   - Document and circulate a decision matrix explicitly weighing risks against benefits:\n",
      "     - e.g., **“What is the partial success value of low-fidelity data vs. catastrophic failure if hardware is damaged?”**\n",
      "\n",
      "---\n",
      "\n",
      "#### **5. Contingency and Time Pressure Resilience**\n",
      "   - Prepare a deferred calibration strategy, where limited calibration is tested before the event with plans to refine and reanalyze post-event.\n",
      "   - Develop a phased activation timeline:\n",
      "     - Start with basic, low-risk functionality upon event onset.\n",
      "     - Gradually increase telescope capabilities only after confirming stability.\n",
      "   - Assign a “rapid response panel” to address anomalies in real-time, drawing from key engineers and scientists.\n",
      "   - Establish a data triage protocol to:\n",
      "     - Quickly prioritize data streams with the highest likelihood of containing meaningful signals.\n",
      "     - Safeguard lower-priority data for detailed post-processing later.\n",
      "\n",
      "---\n",
      "\n",
      "#### **6. Additional Resources**\n",
      "   - Temporarily recruit additional software testers and radio telescope experts from partner institutions to expedite calibration and software reviews.\n",
      "   - Secure short-term funding for emergency rentals of supplementary cooling units, power stabilizers, or other supportive hardware.\n",
      "   - Seek external data validation by sharing signals with other observatories for independent analysis.\n",
      "   - Begin data collection now with a precursor system (if feasible) to establish a baseline for incoming signals during the event.\n",
      "\n",
      "---\n",
      "\n",
      "### Decision Intelligence Framework\n",
      "\n",
      "To decide whether to proceed with activation or delay until the telescope is fully operational, apply the following **risk-reward assessment**:\n",
      "\n",
      "| **Event Variable**                  | **Premature Activation Risk**              | **Strategic Mitigation**                           |\n",
      "|-------------------------------------|--------------------------------------------|---------------------------------------------------|\n",
      "| **Severity of Potential Signal Loss** | High—signals may never be replicated       | Activate in Safe Mode with redundant backups      |\n",
      "| **Risk to Hardware Integrity**      | Medium to High—damage could be permanent   | Use load-throttling, thermal controls, and shielding options |\n",
      "| **Data Corruption Likelihood**      | High—untested systems                      | Prioritize raw data preservation & external validation tools   |\n",
      "| **Team and System Readiness**       | Insufficient                              | Conduct targeted simulations and build fail-safes before engaging full capacity |\n",
      "\n",
      "By systematically implementing these measures and frameworks, you can minimize risks while retaining the possibility of groundbreaking discoveries.\r\n"
     ]
    }
   ],
   "source": [
    "// Create a system prompt instruction to override the default system prompt\n",
    "// Add the System Prompt (Persona) to behave like a decision intelligence assistant\n",
    "var systemPromptForPremortemRadioTelescope = \"\"\"\n",
    "You are a Decision Intelligence Assistant. \n",
    "Assist the user in exploring options, reasoning through decisions, problem-solving.\n",
    "Apply systems thinking to various scenarios. Provide structured, logical, and comprehensive advice.\n",
    "\"\"\";\n",
    "var decisionAnalysisPromptForPremortemRadioTelescope = \"\"\"\n",
    "You are a project manager at a new radio telescope facility looking for alien life.  \n",
    "It is still far from fully calibrated. Despite limited data processing capacity and a software suite that remains untested, \n",
    "an unexpected cosmic event has just begun, hinting at signals that could reveal alien life. \n",
    "Faced with the risk of hardware damage or data corruption from running the telescope prematurely, \n",
    "scientists debate whether to switch it on now or wait until everything is fully operational—knowing \n",
    "they could lose a once-in-a-generation opportunity. \n",
    "\n",
    "Imagine it is six months from now and the project to detect potential alien signals from the sudden cosmic event has failed. \n",
    "The radio telescope was likely activated prematurely, software remained untested, and the team rushed to capture transmissions. \n",
    "Despite the urgency, the outcome was disastrous: hardware suffered damage under the increased load, \n",
    "data came out corrupted, or no meaningful signals were confirmed. \n",
    "\n",
    "Now, step into that moment of failure—what specific issues, oversights, or cascading errors caused this grim scenario?\n",
    "\n",
    "1) Envision every possible way the radio telescope's early deployment could have led to compromised or unusable data.\n",
    "2) Identify how incomplete software testing and rushed calibration might have \n",
    "contributed to errors in processing or storing signals. \n",
    "3) Consider any overlooked safety protocols or hardware precautions that might have led to damage or malfunctions.\n",
    "4) Examine the roles and responsibilities of the team and think about communication breakdowns, \n",
    "rushed decisions, and missed signals or deadlines.\n",
    "5) Assess how time pressure from the rare cosmic event might have amplified smaller mistakes and \n",
    "turned them into systemic failures.\n",
    "\n",
    "Use the outcomes of this “what if” vision to create a detailed list of preventive measures. \n",
    "Then, propose fail-safes, additional resources, or procedural changes to ensure that, \n",
    "should you choose to activate the telescope early, you can still capture the event safely and \n",
    "effectively—maximizing the chance to detect historic signals without jeopardizing the entire operation.\n",
    "\"\"\";\n",
    "\n",
    "// How the prompt looks like to the LLM\n",
    "var fullPromptForPremortemRadioTelescope = $\"\"\"\n",
    "System Prompt: {systemPromptForPremortemRadioTelescope}\n",
    "\n",
    "Request from the user: {decisionAnalysisPromptForPremortemRadioTelescope}\n",
    "\"\"\";\n",
    "\n",
    "var simplePromptResponse = await semanticKernel.InvokePromptAsync(fullPromptForPremortemRadioTelescope);\n",
    "Console.WriteLine(simplePromptResponse.GetValue<string>());"
   ]
  }
 ],
 "metadata": {
  "kernelspec": {
   "display_name": ".NET (C#)",
   "language": "C#",
   "name": ".net-csharp"
  },
  "language_info": {
   "name": "python"
  },
  "polyglot_notebook": {
   "kernelInfo": {
    "defaultKernelName": "csharp",
    "items": [
     {
      "aliases": [],
      "name": "csharp"
     }
    ]
   }
  }
 },
 "nbformat": 4,
 "nbformat_minor": 2
}
