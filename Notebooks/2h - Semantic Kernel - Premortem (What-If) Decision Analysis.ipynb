{
 "cells": [
  {
   "cell_type": "markdown",
   "metadata": {},
   "source": [
    "<img style=\"float: left;padding-right: 10px\" width =\"40px\" src=\"https://raw.githubusercontent.com/bartczernicki/DecisionIntelligence.GenAI.Workshop/main/Images/SemanticKernelLogo.png\">\n",
    "\n",
    "## Semantic Kernel - Premortem (What-If) Decision Analysis  "
   ]
  },
  {
   "cell_type": "markdown",
   "metadata": {},
   "source": [
    "Decision Intelligence applied in this module:  \n",
    "* Using Premortem Decision Analysis to improve decision quality & outcomes  \n",
    "* Using a Premortem decision output for improving of Gathering Intelligence \n",
    "* Attain different perspectives using mutliple decision frames  \n",
    "* Apply a Decision Framework to Premortem Decision Analysis \n"
   ]
  },
  {
   "cell_type": "markdown",
   "metadata": {},
   "source": [
    "### What is a Premortem (Pre-Mortem)  "
   ]
  },
  {
   "cell_type": "markdown",
   "metadata": {},
   "source": [
    "You have probably heard of a **postmortem (post-mortem)**, which is a look back at an actual failure (or success) to understand why it happened and learn from it. In the context of decision making, after the decision outcome is clear you can analyze why the result occured. For example, a hedge fund may host a postmortem meeting after analyzing an unsuccesful move on a tech stock that didn't materialize the return on investment as was planned. \n",
    "\n",
    "In a **premortem (pre-mortem)** the outcome is \"imagined\" and then it is figured out why that potential \"imagined\" outcome happened. In a premortem, a planning exercise is held where a team imagines that a project or decision has already succeeded or failed. The team then works backward, brainstorming what might have caused things to go wrong. This approach allows everyone to spot potential risks and address them before starting the project. Therefore, it’s a bit like predicting the future and using that prediction to make the forecast stronger. "
   ]
  },
  {
   "cell_type": "markdown",
   "metadata": {},
   "source": [
    "### Example Premortem Scenario  "
   ]
  },
  {
   "cell_type": "markdown",
   "metadata": {},
   "source": [
    "Imagine you're about to buy a new car. Let's \"imagine\" that the purchase decision results in either two outcomes a: **disaster** or a **successful** outcome. "
   ]
  },
  {
   "cell_type": "markdown",
   "metadata": {},
   "source": [
    "#### Disaster Outcome Premortem  "
   ]
  },
  {
   "cell_type": "markdown",
   "metadata": {},
   "source": [
    "<img style=\"display: block; margin: auto;\" width =\"700px\" src=\"https://raw.githubusercontent.com/bartczernicki/DecisionIntelligence.GenAI.Workshop/main/Images/Scenarios/Scenario-DecisionPremortem.png\">"
   ]
  },
  {
   "cell_type": "markdown",
   "metadata": {},
   "source": [
    "In a **premortem (pre-mortem)**, you pretend the car purchase turned out to be a disaster. Now, you ask yourself:  \n",
    "**What went wrong with the decision to buy a new car?**\n",
    "\n",
    "Here are some potential reasons:  \n",
    "\n",
    "* **Financial issues:** You realize later you can’t comfortably afford the monthly payments or maintenance costs.  \n",
    "* **Unexpected repairs:** The car has hidden mechanical problems, leading to costly repairs.  \n",
    "* **Insurance costs:** Insurance is much higher than expected, impacting your budget.\n",
    "* **Poor fuel efficiency:** The car uses more gas than you thought, making it expensive to drive.\n",
    "Resale value drop: The car’s value plummets quickly, leaving you with less if you want to sell or trade it.  "
   ]
  },
  {
   "cell_type": "markdown",
   "metadata": {},
   "source": [
    "#### Successful Outcome Premortem"
   ]
  },
  {
   "cell_type": "markdown",
   "metadata": {},
   "source": [
    "In a premortem for a successful car purchase, imagine you bought the car, and it turned out to be a succssful decision. Now, you ask yourself:  \n",
    "**What went right with the decision to buy a new car?**  \n",
    "\n",
    "Here are some potential reasons:\n",
    "\n",
    "* **Affordable and realistic budget:** You set a budget that allowed for comfortable monthly payments and covered insurance, fuel, and maintenance without straining your finances.  \n",
    "* **Thorough inspection:** You got a detailed inspection before buying, which confirmed the car was in excellent condition and minimized the risk of future repairs.\n",
    "* **Reliable model choice:** You researched models with a reputation for reliability, so you experience fewer repairs and smooth performance.\n",
    "* **Fuel efficiency matches needs:** You chose a car that meets your fuel efficiency needs, saving money on gas and fitting well with your daily driving habits.   \n",
    "* **High resale value:** You picked a make and model that holds its value well, giving you confidence that it’s a good long-term investment.  "
   ]
  },
  {
   "cell_type": "markdown",
   "metadata": {},
   "source": [
    "#### Premortem Analysis "
   ]
  },
  {
   "cell_type": "markdown",
   "metadata": {},
   "source": [
    "Imagining these successful outcomes helps you focus on these actions—like sticking to budget, getting a full inspection, and choosing a reliable model—so you’re more likely to make a purchase you’ll be happy with. \n",
    "\n",
    "By imagining these issues in advance, you could consider to thoroughly check maintenance records, buy additional warranty, test drive with similar terrain in your area, or reassess your budget to avoid these potential problems.\n",
    "\n",
    "How can Generative AI help? Using Generative AI, the LLM models can be used to \"imagine\" premortem outcomes and  brainstorm potential factors why that certain outcome occured. Generative AI agents can act as your \"premortem\" team. This can lead to additional questions, gathering of intelligence, checklists, negotiation leverage etc. you didn't consider initially. "
   ]
  },
  {
   "cell_type": "markdown",
   "metadata": {},
   "source": [
    "### Step 1 - Initialize Configuration Builder & Build the Semantic Kernel Orchestration "
   ]
  },
  {
   "cell_type": "code",
   "execution_count": 1,
   "metadata": {
    "dotnet_interactive": {
     "language": "csharp"
    },
    "polyglot_notebook": {
     "kernelName": "csharp"
    },
    "vscode": {
     "languageId": "polyglot-notebook"
    }
   },
   "outputs": [
    {
     "data": {
      "text/html": [
       "<div><div></div><div></div><div><strong>Installed Packages</strong><ul><li><span>Microsoft.Extensions.Configuration, 9.0.0</span></li><li><span>Microsoft.Extensions.Configuration.Json, 9.0.0</span></li><li><span>Microsoft.SemanticKernel, 1.32.0</span></li><li><span>Microsoft.SemanticKernel.Plugins.Core, 1.32.0-alpha</span></li></ul></div></div>"
      ]
     },
     "metadata": {},
     "output_type": "display_data"
    }
   ],
   "source": [
    "#r \"nuget: Microsoft.Extensions.Configuration, 9.0.0\"\n",
    "#r \"nuget: Microsoft.Extensions.Configuration.Json, 9.0.0\"\n",
    "#r \"nuget: Microsoft.SemanticKernel, 1.32.0\"\n",
    "#r \"nuget: Microsoft.SemanticKernel.Plugins.Core, 1.32.0-alpha\"\n",
    "\n",
    "using Microsoft.Extensions.Configuration.Json;\n",
    "using Microsoft.Extensions.Configuration;\n",
    "using Microsoft.SemanticKernel;\n",
    "using Microsoft.SemanticKernel.ChatCompletion;\n",
    "using Microsoft.SemanticKernel.Connectors.OpenAI;\n",
    "using System.IO;\n",
    "\n",
    "var configurationBuilder = new ConfigurationBuilder()\n",
    "    .SetBasePath(Directory.GetCurrentDirectory())\n",
    "    .AddJsonFile(\"local.settings.json\", optional: true, reloadOnChange: true)\n",
    "    .AddJsonFile(\"secrets.settings.json\", optional: true, reloadOnChange: true);\n",
    "var config = configurationBuilder.Build();\n",
    "\n",
    "// IMPORTANT: You ONLY NEED either Azure OpenAI or OpenAI connectiopn info, not both.\n",
    "// Azure OpenAI Connection Info using o1 series of models\n",
    "var azureOpenAIEndpoint = config[\"AzureOpenAI:o1Endpoint\"];\n",
    "var azureOpenAIAPIKey = config[\"AzureOpenAI:o1APIKey\"];\n",
    "var azureOpenAIModelDeploymentName = config[\"AzureOpenAI:o1ModelDeploymentName\"];\n",
    "// OpenAI Connection Info \n",
    "var openAIAPIKey = config[\"OpenAI:APIKey\"];\n",
    "var openAIModelId = config[\"OpenAI:ModelId\"];"
   ]
  },
  {
   "cell_type": "code",
   "execution_count": 2,
   "metadata": {
    "dotnet_interactive": {
     "language": "csharp"
    },
    "polyglot_notebook": {
     "kernelName": "csharp"
    },
    "vscode": {
     "languageId": "polyglot-notebook"
    }
   },
   "outputs": [
    {
     "name": "stdout",
     "output_type": "stream",
     "text": [
      "Using Azure OpenAI Service\n"
     ]
    }
   ],
   "source": [
    "using Microsoft.Extensions.DependencyInjection.Extensions;\n",
    "using Microsoft.Extensions.DependencyInjection;\n",
    "using Microsoft.SemanticKernel;\n",
    "using Microsoft.SemanticKernel.ChatCompletion;\n",
    "using Microsoft.SemanticKernel.Connectors.OpenAI;\n",
    "\n",
    "Kernel semanticKernel;\n",
    "\n",
    "// Set the flag to use Azure OpenAI or OpenAI. False to use OpenAI, True to use Azure OpenAI\n",
    "var useAzureOpenAI = true;\n",
    "\n",
    "// Create a new Semantic Kernel instance\n",
    "if (useAzureOpenAI)\n",
    "{\n",
    "    Console.WriteLine(\"Using Azure OpenAI Service\");\n",
    "    semanticKernel = Kernel.CreateBuilder()\n",
    "        .AddAzureOpenAIChatCompletion(\n",
    "            deploymentName: azureOpenAIModelDeploymentName,\n",
    "            endpoint: azureOpenAIEndpoint,\n",
    "            apiKey: azureOpenAIAPIKey)\n",
    "        .Build();\n",
    "}\n",
    "else\n",
    "{\n",
    "    Console.WriteLine(\"Using OpenAI Service\");\n",
    "    semanticKernel = Kernel.CreateBuilder()\n",
    "        .AddOpenAIChatCompletion(\n",
    "            modelId: openAIModelId,\n",
    "            apiKey: openAIAPIKey)\n",
    "        .Build();\n",
    "}\n",
    "\n",
    "var chatCompletionService = semanticKernel.Services.GetRequiredService<IChatCompletionService>();"
   ]
  },
  {
   "cell_type": "markdown",
   "metadata": {},
   "source": [
    "### Step 2 - Premortem Risk Analysis with o1 Reasoning Models"
   ]
  },
  {
   "cell_type": "code",
   "execution_count": null,
   "metadata": {
    "dotnet_interactive": {
     "language": "csharp"
    },
    "polyglot_notebook": {
     "kernelName": "csharp"
    },
    "vscode": {
     "languageId": "polyglot-notebook"
    }
   },
   "outputs": [
    {
     "name": "stdout",
     "output_type": "stream",
     "text": [
      "**Advanced Premortem Analysis: Choosing Between Purchasing and Leasing a New Car**\n",
      "\n",
      "---\n",
      "\n",
      "**Introduction**\n",
      "\n",
      "Making the decision to purchase or lease a new car is significant, involving substantial financial commitments and lifestyle considerations. To ensure the best outcome, it's essential to anticipate potential pitfalls before they occur. A premortem analysis helps in this regard by envisioning possible failures that could result from the decision and identifying ways to prevent them.\n",
      "\n",
      "---\n",
      "\n",
      "**Assumption of Failure**\n",
      "\n",
      "*Imagine that one year after deciding to purchase or lease a new car, you find yourself regretting the decision. The choice has led to unexpected financial strain, dissatisfaction with the vehicle, or other adverse outcomes that have significantly impacted your quality of life.*\n",
      "\n",
      "---\n",
      "\n",
      "**Potential Failure Scenarios**\n",
      "\n",
      "### **A. Purchasing a New Car**\n",
      "\n",
      "1. **Financial Overextension**\n",
      "\n",
      "   - **Cause:** Underestimating the total cost of ownership, including the monthly loan payments, insurance premiums, taxes, maintenance, and unforeseen expenses.\n",
      "   - **Failure Outcome:** Struggling to keep up with payments, leading to debt accumulation or compromised financial stability.\n",
      "\n",
      "2. **Rapid Depreciation**\n",
      "\n",
      "   - **Cause:** The new car loses value faster than anticipated, especially in the first few years.\n",
      "   - **Failure Outcome:** Owing more on the loan than the car's market value (negative equity), making it difficult to sell or trade-in without incurring a loss.\n",
      "\n",
      "3. **Inaccurate Budgeting for Maintenance and Repairs**\n",
      "\n",
      "   - **Cause:** Assuming that a new car will require minimal maintenance and not setting aside funds for unexpected repairs.\n",
      "   - **Failure Outcome:** Facing high repair costs due to unforeseen mechanical issues not covered by warranty, impacting finances.\n",
      "\n",
      "4. **Interest Rate Increases**\n",
      "\n",
      "   - **Cause:** Opting for a variable interest rate loan that increases over time or not securing the most competitive financing terms.\n",
      "   - **Failure Outcome:** Monthly payments become higher than initially planned, straining the budget.\n",
      "\n",
      "5. **Lifestyle Changes Affecting Vehicle Suitability**\n",
      "\n",
      "   - **Cause:** Life events such as a new job with a longer commute, expanding family, or relocation to an area with different transportation needs.\n",
      "   - **Failure Outcome:** The purchased car no longer meets your needs, but selling it involves financial loss due to depreciation.\n",
      "\n",
      "6. **Insurance Costs Higher Than Expected**\n",
      "\n",
      "   - **Cause:** Failing to obtain insurance quotes beforehand and being unaware that new cars often come with higher insurance premiums.\n",
      "   - **Failure Outcome:** Increased financial burden from insurance costs, affecting overall affordability.\n",
      "\n",
      "7. **Economic Downturn or Job Loss**\n",
      "\n",
      "   - **Cause:** Unforeseen economic changes leading to reduced income or unemployment.\n",
      "   - **Failure Outcome:** Difficulty making car payments, risking repossession and damage to credit score.\n",
      "\n",
      "### **B. Leasing a New Car**\n",
      "\n",
      "1. **Exceeding Mileage Limits**\n",
      "\n",
      "   - **Cause:** Underestimating annual mileage or experiencing changes that require more driving.\n",
      "   - **Failure Outcome:** Incurring costly overage fees at the end of the lease term, increasing total expenses.\n",
      "\n",
      "2. **Excess Wear and Tear Charges**\n",
      "\n",
      "   - **Cause:** Not maintaining the car adequately or facing unavoidable incidents that damage the vehicle.\n",
      "   - **Failure Outcome:** Facing significant charges when returning the car, straining finances.\n",
      "\n",
      "3. **Needing to Terminate Lease Early**\n",
      "\n",
      "   - **Cause:** Life changes such as relocation, job loss, or needing a different type of vehicle.\n",
      "   - **Failure Outcome:** Paying hefty early termination fees, which can be as much as all remaining lease payments.\n",
      "\n",
      "4. **Underestimating Total Lease Costs**\n",
      "\n",
      "   - **Cause:** Focusing on low monthly payments without accounting for down payments, fees, insurance, and end-of-lease charges.\n",
      "   - **Failure Outcome:** Total cost of leasing exceeds the cost of purchasing in the long run, negating perceived savings.\n",
      "\n",
      "5. **No Equity Built**\n",
      "\n",
      "   - **Cause:** Leasing inherently does not result in ownership of the vehicle.\n",
      "   - **Failure Outcome:** At the end of the lease, you have no asset to show for the payments made, necessitating another lease or purchase.\n",
      "\n",
      "6. **Market Changes Affecting Residual Value**\n",
      "\n",
      "   - **Cause:** Economic factors reducing the car's value more than expected.\n",
      "   - **Failure Outcome:** If the lease includes an option to buy, the purchase price is higher than the market value, dissuading you from buying and starting the cycle anew.\n",
      "\n",
      "7. **Unexpected Fees Due to Misunderstood Terms**\n",
      "\n",
      "   - **Cause:** Not thoroughly reviewing the lease agreement and missing clauses about fees, maintenance requirements, or penalties.\n",
      "   - **Failure Outcome:** Incurring unexpected costs that escalate the overall expenditure beyond what was budgeted.\n",
      "\n",
      "---\n",
      "\n",
      "**Analysis of Failure Scenarios**\n",
      "\n",
      "Upon examining these potential failures, several common themes emerge:\n",
      "\n",
      "1. **Financial Risks and Budgeting Errors**\n",
      "\n",
      "   - Both options involve significant financial commitments that can strain your budget if not accurately projected.\n",
      "   - Underestimating costs such as insurance, maintenance, taxes, and fees is a prevalent risk.\n",
      "\n",
      "2. **Flexibility Limitations**\n",
      "\n",
      "   - Purchasing ties you to a depreciating asset, potentially limiting your ability to adapt to changing needs without financial loss.\n",
      "   - Leasing imposes contractual obligations that can be costly to alter or exit.\n",
      "\n",
      "3. **Lifestyle and Circumstantial Changes**\n",
      "\n",
      "   - Personal circumstances can change rapidly, affecting your transportation needs and financial capacity.\n",
      "   - Locking into a long-term agreement (purchase loan or lease) without considering potential life changes increases risk.\n",
      "\n",
      "4. **Lack of Asset Ownership vs. Depreciation**\n",
      "\n",
      "   - Leasing offers no equity buildup, whereas purchasing leads to ownership but with the burden of depreciation.\n",
      "   - The decision hinges on whether the long-term value of ownership outweighs the convenience and lower initial costs of leasing.\n",
      "\n",
      "5. **Contractual Complexities and Misunderstandings**\n",
      "\n",
      "   - Lease agreements can contain complex terms that, if misunderstood, lead to unexpected consequences.\n",
      "   - Purchasing agreements may also include terms that affect interest rates, payment schedules, and penalties.\n",
      "\n",
      "---\n",
      "\n",
      "**Preventative Measures and Recommendations**\n",
      "\n",
      "To mitigate these risks and avoid the failure scenarios outlined, consider the following strategies:\n",
      "\n",
      "1. **Conduct a Comprehensive Financial Analysis**\n",
      "\n",
      "   - **Budgeting:** Create a detailed budget that includes all possible costs associated with purchasing or leasing, including a buffer for unexpected expenses.\n",
      "   - **Affordability Assessment:** Ensure that the chosen option fits comfortably within your financial means without compromising other financial goals or necessities.\n",
      "   - **Total Cost of Ownership (TCO):** For purchasing, calculate the TCO over the intended ownership period, factoring in depreciation, maintenance, insurance, and taxes.\n",
      "   - **Total Lease Cost:** For leasing, calculate the total cost over the lease term, including down payments, monthly payments, fees, insurance, and potential end-of-lease charges.\n",
      "\n",
      "2. **Thoroughly Research and Compare Options**\n",
      "\n",
      "   - **Vehicle Selection:** Choose a vehicle that fits not only your current needs but also anticipates possible future requirements.\n",
      "   - **Depreciation Rates:** Research vehicles with better resale values to minimize depreciation losses if purchasing.\n",
      "   - **Lease vs. Purchase Analysis:** Use comparison tools or consult financial advisors to determine which option offers better value over your planned time frame.\n",
      "\n",
      "3. **Understand Contract Terms in Detail**\n",
      "\n",
      "   - **Lease Agreements:** Read the lease contract carefully, paying attention to mileage limits, wear and tear definitions, fees, and the conditions for early termination.\n",
      "   - **Loan Agreements:** For purchases, understand the interest rates (fixed vs. variable), loan term, penalties for early repayment, and any additional fees.\n",
      "   - **Negotiation:** Don't hesitate to negotiate terms to better suit your needs, such as higher mileage limits or lower interest rates.\n",
      "\n",
      "4. **Plan for Flexibility**\n",
      "\n",
      "   - **Shorter Lease Terms:** If leasing, consider shorter terms to reduce the risk of life changes affecting the agreement.\n",
      "   - **Resale Strategy:** If purchasing, maintain the car well to preserve its value in case you need to sell sooner than planned.\n",
      "   - **Exit Options:** Understand the penalties and processes for terminating leases or selling purchased vehicles early.\n",
      "\n",
      "5. **Anticipate Lifestyle Changes**\n",
      "\n",
      "   - **Future-Proofing:** Choose a vehicle that can accommodate foreseeable changes, like a growing family or longer commutes.\n",
      "   - **Emergency Fund:** Build an emergency fund to cover unexpected expenses or income changes that could impact your ability to make payments.\n",
      "\n",
      "6. **Insurance and Maintenance Planning**\n",
      "\n",
      "   - **Insurance Quotes:** Get insurance estimates for the specific make and model before deciding, and include this in your budget.\n",
      "   - **Maintenance Packages:** Consider purchasing maintenance plans or warranties that can offset unforeseen repair costs.\n",
      "\n",
      "7. **Consult Professionals**\n",
      "\n",
      "   - **Financial Advisors:** Seek advice from financial professionals who can provide personalized recommendations based on your financial situation and goals.\n",
      "   - **Legal Review:** Have lease or loan agreements reviewed by a legal expert to ensure you fully understand the obligations and implications.\n",
      "\n",
      "8. **Consider Alternatives**\n",
      "\n",
      "   - **Certified Pre-Owned Vehicles:** If depreciation is a major concern, purchasing a certified pre-owned car can offer the benefits of ownership with less initial depreciation.\n",
      "   - **Ride-Sharing or Public Transportation:** Analyze whether alternative transportation methods could meet your needs more cost-effectively.\n",
      "\n",
      "---\n",
      "\n",
      "**Conclusion**\n",
      "\n",
      "By proactively identifying and analyzing potential failure scenarios associated with purchasing or leasing a new car, you can make a more informed decision that aligns with your financial situation and lifestyle needs. Taking preventative measures helps mitigate risks, ensuring that whether you choose to buy or lease, the outcome supports your long-term goals and provides peace of mind.\n",
      "\n",
      "Remember, the key to avoiding regret is thorough preparation, realistic assessment of your needs and capabilities, and seeking professional guidance when necessary. Making a well-informed decision now can save you from significant headaches and financial strain in the future.\n"
     ]
    }
   ],
   "source": [
    "// Create a system prompt instruction to override the default system prompt\n",
    "// Add the System Prompt (Persona) to behave like a decision intelligence assistant\n",
    "var systemPromptForDecisions = \"\"\"\n",
    "You are a Decision Intelligence Assistant. \n",
    "Assist the user in exploring options, reasoning through decisions, problem-solving.\n",
    "Apply systems thinking to various scenarios. Provide structured, logical, and comprehensive advice.\n",
    "\"\"\";\n",
    "var decisionAnalysisPrompt = \"\"\"\n",
    "Perform an advanced premortem analysis on the following scenario:\n",
    "You are deciding to purchase a new car versus leasing a car.\n",
    "\"\"\";\n",
    "\n",
    "// How the prompt looks like to the LLM\n",
    "var simpleDecisionPromptTemplate = $\"\"\"\n",
    "System Prompt: {systemPromptForDecisions}\n",
    "\n",
    "Request from the user: {decisionAnalysisPrompt}\n",
    "\"\"\";\n",
    "\n",
    "var simplePromptResponse = await semanticKernel.InvokePromptAsync(decisionAnalysisPrompt);\n",
    "Console.WriteLine(simplePromptResponse.GetValue<string>());"
   ]
  },
  {
   "cell_type": "code",
   "execution_count": null,
   "metadata": {
    "dotnet_interactive": {
     "language": "csharp"
    },
    "polyglot_notebook": {
     "kernelName": "csharp"
    },
    "vscode": {
     "languageId": "polyglot-notebook"
    }
   },
   "outputs": [
    {
     "name": "stdout",
     "output_type": "stream",
     "text": [
      "| Risk Factor / Uncertainty / Potential Outcome | Purchase                                                                                                | Lease                                                                                                    |\n",
      "|-----------------------------------------------|-----------------------------------------------------------------------------------------------------------|----------------------------------------------------------------------------------------------------------|\n",
      "| High Upfront Cost                             | High initial payment required for down payment and taxes                                                  | Lower initial payment; typically only first month's payment and fees                                     |\n",
      "| Depreciation of Vehicle Value                 | Owner bears the full depreciation cost over time                                                          | Depreciation is factored into lease payments; less concern for lessee                                     |\n",
      "| Maintenance Costs After Warranty              | Owner responsible for all maintenance and repair costs after warranty expiration                          | Maintenance may be covered under lease terms; newer cars less likely to need repairs                      |\n",
      "| Resale Value Uncertainty                      | Uncertain future resale value can affect total cost of ownership                                          | Not applicable; no need to resell the vehicle at end of lease                                             |\n",
      "| Financing Costs (Interest Rates)              | Interest rates on auto loan affect total purchase cost                                                    | Interest rates affect lease payments; money factor (lease equivalent of interest rate) applies            |\n",
      "| Changes in Personal Circumstances             | Financial hardship could lead to loan default or need to sell the car                                     | Financial hardship could lead to lease default with possible penalties                                    |\n",
      "| Technological Obsolescence                    | Owner may be stuck with outdated technology or features                                                   | Ability to upgrade to newer model with latest technology at end of lease term                             |\n",
      "| Opportunity Cost of Capital                   | Capital tied up in vehicle ownership could be used elsewhere                                              | Less capital required upfront; frees up funds for other investments                                       |\n",
      "| Mileage Limits and Penalties                  | No mileage restrictions; can drive unlimited miles                                                        | Mileage limits apply; excess mileage results in additional fees                                           |\n",
      "| Wear and Tear Charges                         | Owner bears cost of excessive wear but has control over repairs                                           | Excess wear and tear charges may apply at lease end                                                       |\n",
      "| No Equity Built in Vehicle                    | Equity builds over time; potential asset at end of loan                                                   | No equity or ownership; payments do not contribute to ownership                                           |\n",
      "| Early Termination Fees                        | Can sell the car at any time, though may incur loss if loan balance exceeds car value                     | Early lease termination can result in substantial fees and penalties                                      |\n",
      "| Insurance Gap Coverage Needed                 | May be optional; depreciation could result in owing more than car's value                                 | Often required; protects against owing the difference between insurance payout and lease balance          |\n",
      "| Flexibility to Modify Car                     | Full freedom to customize or modify the vehicle                                                           | Modifications typically prohibited; must return car in original condition                                 |\n",
      "| Total Cost Over Time                          | Potentially lower total cost if kept long-term and maintenance costs are manageable                       | Potentially higher total cost over similar period due to continuous lease payments                        |\n",
      "| Obligation Period                             | Commitment until loan is paid off or car is sold                                                          | Fixed lease term commitment; less flexibility to exit agreement early                                     |\n",
      "| Impact of Market Conditions                   | Changes in used car market affect resale value and total cost of ownership                                | Lessee is insulated from market fluctuations; residual value risk is on the lessor                        |\n",
      "| Tax Considerations                            | Possible tax deductions for interest paid (subject to tax laws)                                           | Lease payments may be tax-deductible if car is used for business purposes                                 |\n",
      "| Credit Score Impact                           | Loan default negatively impacts credit score                                                              | Lease default negatively impacts credit score                                                             |\n",
      "| End of Term Options                           | Own the car outright, sell, or trade in for a new vehicle                                                 | Options to return the car, purchase it at residual value, or lease a new vehicle                          |\n",
      "| Flexibility of Use                            | Unlimited personal use; ownership allows for any usage                                                    | Use is limited by lease terms; restrictions on commercial use or ride-sharing services may apply          |\n"
     ]
    }
   ],
   "source": [
    "// Create a system prompt instruction to override the default system prompt\n",
    "// Add the System Prompt (Persona) to behave like a decision intelligence assistant\n",
    "var systemPromptForDecisions = \"\"\"\n",
    "You are a Decision Intelligence Assistant. \n",
    "Assist the user in exploring options, reasoning through decisions, problem-solving.\n",
    "Apply systems thinking to various scenarios. Provide structured, logical, and comprehensive advice.\n",
    "\"\"\";\n",
    "var decisionAnalysisPrompt = \"\"\"\n",
    "Perform an advanced premortem analysis on the following scenario:\n",
    "You are deciding to purchase a new car versus leasing a car.\n",
    "\n",
    "Output the risk factors, uncertainties, and potential outcomes ONLY in a Markdown table.\n",
    "Create a column for each option (Purchase, Lease) and which risk factor or uncertainty applies to each option.\n",
    "Do not surround the markdown with triple backticks.\n",
    "\"\"\";\n",
    "\n",
    "// How the prompt looks like to the LLM\n",
    "var simpleDecisionPromptTemplate = $\"\"\"\n",
    "System Prompt: {systemPromptForDecisions}\n",
    "\n",
    "Request from the user: {decisionAnalysisPrompt}\n",
    "\"\"\";\n",
    "\n",
    "var simplePromptResponse = await semanticKernel.InvokePromptAsync(decisionAnalysisPrompt);\n",
    "Console.WriteLine(simplePromptResponse.GetValue<string>());"
   ]
  },
  {
   "cell_type": "markdown",
   "metadata": {},
   "source": [
    "| Risk Factor / Uncertainty / Potential Outcome | Purchase                                                                                                | Lease                                                                                                    |\n",
    "|-----------------------------------------------|-----------------------------------------------------------------------------------------------------------|----------------------------------------------------------------------------------------------------------|\n",
    "| High Upfront Cost                             | High initial payment required for down payment and taxes                                                  | Lower initial payment; typically only first month's payment and fees                                     |\n",
    "| Depreciation of Vehicle Value                 | Owner bears the full depreciation cost over time                                                          | Depreciation is factored into lease payments; less concern for lessee                                     |\n",
    "| Maintenance Costs After Warranty              | Owner responsible for all maintenance and repair costs after warranty expiration                          | Maintenance may be covered under lease terms; newer cars less likely to need repairs                      |\n",
    "| Resale Value Uncertainty                      | Uncertain future resale value can affect total cost of ownership                                          | Not applicable; no need to resell the vehicle at end of lease                                             |\n",
    "| Financing Costs (Interest Rates)              | Interest rates on auto loan affect total purchase cost                                                    | Interest rates affect lease payments; money factor (lease equivalent of interest rate) applies            |\n",
    "| Changes in Personal Circumstances             | Financial hardship could lead to loan default or need to sell the car                                     | Financial hardship could lead to lease default with possible penalties                                    |\n",
    "| Technological Obsolescence                    | Owner may be stuck with outdated technology or features                                                   | Ability to upgrade to newer model with latest technology at end of lease term                             |\n",
    "| Opportunity Cost of Capital                   | Capital tied up in vehicle ownership could be used elsewhere                                              | Less capital required upfront; frees up funds for other investments                                       |\n",
    "| Mileage Limits and Penalties                  | No mileage restrictions; can drive unlimited miles                                                        | Mileage limits apply; excess mileage results in additional fees                                           |\n",
    "| Wear and Tear Charges                         | Owner bears cost of excessive wear but has control over repairs                                           | Excess wear and tear charges may apply at lease end                                                       |\n",
    "| No Equity Built in Vehicle                    | Equity builds over time; potential asset at end of loan                                                   | No equity or ownership; payments do not contribute to ownership                                           |\n",
    "| Early Termination Fees                        | Can sell the car at any time, though may incur loss if loan balance exceeds car value                     | Early lease termination can result in substantial fees and penalties                                      |\n",
    "| Insurance Gap Coverage Needed                 | May be optional; depreciation could result in owing more than car's value                                 | Often required; protects against owing the difference between insurance payout and lease balance          |\n",
    "| Flexibility to Modify Car                     | Full freedom to customize or modify the vehicle                                                           | Modifications typically prohibited; must return car in original condition                                 |\n",
    "| Total Cost Over Time                          | Potentially lower total cost if kept long-term and maintenance costs are manageable                       | Potentially higher total cost over similar period due to continuous lease payments                        |\n",
    "| Obligation Period                             | Commitment until loan is paid off or car is sold                                                          | Fixed lease term commitment; less flexibility to exit agreement early                                     |\n",
    "| Impact of Market Conditions                   | Changes in used car market affect resale value and total cost of ownership                                | Lessee is insulated from market fluctuations; residual value risk is on the lessor                        |\n",
    "| Tax Considerations                            | Possible tax deductions for interest paid (subject to tax laws)                                           | Lease payments may be tax-deductible if car is used for business purposes                                 |\n",
    "| Credit Score Impact                           | Loan default negatively impacts credit score                                                              | Lease default negatively impacts credit score                                                             |\n",
    "| End of Term Options                           | Own the car outright, sell, or trade in for a new vehicle                                                 | Options to return the car, purchase it at residual value, or lease a new vehicle                          |\n",
    "| Flexibility of Use                            | Unlimited personal use; ownership allows for any usage                                                    | Use is limited by lease terms; restrictions on commercial use or ride-sharing services may apply          |"
   ]
  },
  {
   "cell_type": "markdown",
   "metadata": {},
   "source": [
    "This Markdown table can be further simplified by highlighting which risk factor is more favorable when comparing a Purchase versus a Lease.\n",
    "\n",
    "| Risk Factor / Uncertainty / Potential Outcome | Purchase | Lease |\n",
    "|-----------------------------------------------|----------|-------|\n",
    "| High Upfront Cost                             |          | ☑️    |\n",
    "| Depreciation of Vehicle Value                 |          | ☑️    |\n",
    "| Maintenance Costs After Warranty              |          | ☑️    |\n",
    "| Resale Value Uncertainty                      |          | ☑️    |\n",
    "| Financing Costs (Interest Rates)              |          |       |\n",
    "| Changes in Personal Circumstances             | ☑️       |       |\n",
    "| Technological Obsolescence                    |          | ☑️    |\n",
    "| Opportunity Cost of Capital                   |          | ☑️    |\n",
    "| Mileage Limits and Penalties                  | ☑️       |       |\n",
    "| Wear and Tear Charges                         | ☑️       |       |\n",
    "| No Equity Built in Vehicle                    | ☑️       |       |\n",
    "| Early Termination Fees                        | ☑️       |       |\n",
    "| Insurance Gap Coverage Needed                 | ☑️       |       |\n",
    "| Flexibility to Modify Car                     | ☑️       |       |\n",
    "| Total Cost Over Time                          | ☑️       |       |\n",
    "| Obligation Period                             | ☑️       |       |\n",
    "| Impact of Market Conditions                   |          | ☑️    |\n",
    "| Tax Considerations                            |          | ☑️    |\n",
    "| Credit Score Impact                           |          |       |\n",
    "| End of Term Options                           |          | ☑️    |\n",
    "| Flexibility of Use                            | ☑️       |       |\n"
   ]
  }
 ],
 "metadata": {
  "kernelspec": {
   "display_name": ".NET (C#)",
   "language": "C#",
   "name": ".net-csharp"
  },
  "language_info": {
   "name": "python"
  },
  "polyglot_notebook": {
   "kernelInfo": {
    "defaultKernelName": "csharp",
    "items": [
     {
      "aliases": [],
      "name": "csharp"
     }
    ]
   }
  }
 },
 "nbformat": 4,
 "nbformat_minor": 2
}
