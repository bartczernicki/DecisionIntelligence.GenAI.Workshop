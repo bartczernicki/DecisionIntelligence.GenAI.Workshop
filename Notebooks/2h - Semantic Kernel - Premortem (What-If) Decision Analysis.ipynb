{
 "cells": [
  {
   "cell_type": "markdown",
   "metadata": {},
   "source": [
    "<div style=\"display: flex; align-items: center;\">\n",
    "  <img src=\"https://raw.githubusercontent.com/bartczernicki/DecisionIntelligence.GenAI.Workshop/main/Images/DecisionIntelligenceSemanticKernelLogo.png\" width=\"60px\" style=\"margin-right: 10px;\">\n",
    "  <span style=\"font-size: 1.5em; font-weight: bold;\">Semantic Kernel - Premortem (What-If) Decision Analysis  </span>\n",
    "</div>"
   ]
  },
  {
   "cell_type": "markdown",
   "metadata": {},
   "source": [
    "> 📜 **_\"The pre-mortem method has a number of benefits besides identifying trouble spots in a plan – reducing overconfidence and promoting discoveries. The method can strengthen members’ mental models… And it can help create a culture of candor and trust.\"_**\n",
    ">\n",
    "> -- <cite>Gary Klein (Psychologist, creator of the Pre-mortem method)</cite>  "
   ]
  },
  {
   "cell_type": "markdown",
   "metadata": {},
   "source": [
    "Decision Intelligence applied in this module:  \n",
    "* Using Premortem Decision Analysis to improve decision quality & outcomes  \n",
    "* Using a Premortem decision output for improving of Gathering Intelligence \n",
    "* Attain different perspectives using mutliple decision frames  \n",
    "* Apply a Decision Framework to Premortem Decision Analysis \n"
   ]
  },
  {
   "cell_type": "markdown",
   "metadata": {},
   "source": [
    "### What is a Premortem (What-If Analysis)  "
   ]
  },
  {
   "cell_type": "markdown",
   "metadata": {},
   "source": [
    "You have probably heard of a **postmortem (post-mortem)**, which is a look back at an actual failure (or success) to understand why it happened and learn from it. In the context of decision making, after the decision outcome is clear you can analyze why the result occured. For example, a hedge fund may host a postmortem meeting after analyzing an unsuccesful move on a tech stock that didn't materialize the return on investment as was planned. \n",
    "\n",
    "In a **premortem (pre-mortem)** the outcome is \"imagined\" and then it is figured out why that potential \"imagined\" outcome happened. In a premortem, a planning exercise is held where a team imagines that a project or decision has already succeeded or failed. The team then works backward, brainstorming what might have caused things to go wrong. This approach allows everyone to spot potential risks and address them before starting the project. Therefore, it’s a bit like predicting the future and using that prediction to make the forecast stronger. "
   ]
  },
  {
   "cell_type": "markdown",
   "metadata": {},
   "source": [
    "### Example Decision Scenario - Purchasing a Car   "
   ]
  },
  {
   "cell_type": "markdown",
   "metadata": {},
   "source": [
    "Imagine you're about to buy a new car. Let's play a game of \"What-If\" that the purchase decision results in either two outcomes a: **disaster** or a **successful** outcome. "
   ]
  },
  {
   "cell_type": "markdown",
   "metadata": {},
   "source": [
    "#### Premortem Outcome - Disaster  "
   ]
  },
  {
   "cell_type": "markdown",
   "metadata": {},
   "source": [
    "<img style=\"display: block; margin: auto;\" width =\"700px\" src=\"https://raw.githubusercontent.com/bartczernicki/DecisionIntelligence.GenAI.Workshop/main/Images/Scenarios/Scenario-DecisionPremortem.png\">"
   ]
  },
  {
   "cell_type": "markdown",
   "metadata": {},
   "source": [
    "In a **premortem (pre-mortem)**, you pretend the car purchase turned out to be a disaster. Now, you ask yourself:  \n",
    "**What went wrong with the decision to buy a new car?**\n",
    "\n",
    "Here are some potential reasons the car purchase had a poor outcome:  \n",
    "\n",
    "* **Financial issues:** You realize later you can’t comfortably afford the monthly payments or maintenance costs.  \n",
    "* **Unexpected repairs:** The car has hidden mechanical problems, leading to costly repairs.  \n",
    "* **Insurance costs:** Insurance is much higher than expected, impacting your budget.\n",
    "* **Poor fuel efficiency:** The car uses more gas than you thought, making it expensive to drive.\n",
    "Resale value drop: The car’s value plummets quickly, leaving you with less if you want to sell or trade it.  "
   ]
  },
  {
   "cell_type": "markdown",
   "metadata": {},
   "source": [
    "#### Premortem Outcome - Success"
   ]
  },
  {
   "cell_type": "markdown",
   "metadata": {},
   "source": [
    "In a premortem for a successful car purchase, imagine you bought the car, and it turned out to be a succssful decision. Now, you ask yourself:  \n",
    "**What went right with the decision to buy a new car?**  \n",
    "\n",
    "Here are some potential reasons the car purchase had a good outcome: \n",
    "\n",
    "* **Affordable and realistic budget:** You set a budget that allowed for comfortable monthly payments and covered insurance, fuel, and maintenance without straining your finances.  \n",
    "* **Thorough inspection:** You got a detailed inspection before buying, which confirmed the car was in excellent condition and minimized the risk of future repairs.\n",
    "* **Reliable model choice:** You researched models with a reputation for reliability, so you experience fewer repairs and smooth performance.\n",
    "* **Fuel efficiency matches needs:** You chose a car that meets your fuel efficiency needs, saving money on gas and fitting well with your daily driving habits.   \n",
    "* **High resale value:** You picked a make and model that holds its value well, giving you confidence that it’s a good long-term investment.  "
   ]
  },
  {
   "cell_type": "markdown",
   "metadata": {},
   "source": [
    "#### Premortem (What-If) Decision Analysis "
   ]
  },
  {
   "cell_type": "markdown",
   "metadata": {},
   "source": [
    "Imagining successful outcomes helps you focus on actions like sticking to a car budget, getting a full inspection, and choosing a reliable model. You will be more likely to make a purchase you’ll be happy with. By plyaing a \"game\" of What-If with decision criteria in advance, you could adapt your strategy. For example, you could consider to thoroughly check maintenance records, buy additional warranty, test drive with similar terrain in your area, or reassess your budget to avoid these potential problems.\n",
    "\n",
    "How can Generative AI help? Using Generative AI, the LLM models can be used to \"imagine\" premortem outcomes and  brainstorm potential factors why that certain outcome occured. Generative AI agents can act as your \"premortem\" team. This can lead to additional questions, gathering of intelligence, checklists, negotiation leverage etc. you didn't consider initially. "
   ]
  },
  {
   "cell_type": "markdown",
   "metadata": {},
   "source": [
    "---\n",
    "### Step 1 - Initialize Configuration Builder & Build the Semantic Kernel Orchestration "
   ]
  },
  {
   "cell_type": "code",
   "execution_count": 16,
   "metadata": {
    "dotnet_interactive": {
     "language": "csharp"
    },
    "polyglot_notebook": {
     "kernelName": "csharp"
    }
   },
   "outputs": [
    {
     "data": {
      "text/html": [
       "<div><div></div><div></div><div><strong>Installed Packages</strong><ul><li><span>Microsoft.Extensions.Configuration, 9.0.6</span></li><li><span>Microsoft.Extensions.Configuration.Json, 9.0.6</span></li><li><span>Microsoft.SemanticKernel, 1.60.0</span></li><li><span>Microsoft.SemanticKernel.Plugins.Core, 1.60.0-preview</span></li></ul></div></div>"
      ]
     },
     "metadata": {},
     "output_type": "display_data"
    }
   ],
   "source": [
    "#r \"nuget: Microsoft.Extensions.Configuration, 9.0.6\"\n",
    "#r \"nuget: Microsoft.Extensions.Configuration.Json, 9.0.6\"\n",
    "#r \"nuget: Microsoft.SemanticKernel, 1.60.0\"\n",
    "#r \"nuget: Microsoft.SemanticKernel.Plugins.Core, 1.60.0-preview\"\n",
    "\n",
    "using Microsoft.Extensions.Configuration.Json;\n",
    "using Microsoft.Extensions.Configuration;\n",
    "using Microsoft.SemanticKernel;\n",
    "using Microsoft.SemanticKernel.ChatCompletion;\n",
    "using Microsoft.SemanticKernel.Connectors.OpenAI;\n",
    "using System.IO;\n",
    "\n",
    "var configurationBuilder = new ConfigurationBuilder()\n",
    "    .SetBasePath(Directory.GetCurrentDirectory())\n",
    "    .AddJsonFile(\"local.settings.json\", optional: true, reloadOnChange: true)\n",
    "    .AddJsonFile(\"secrets.settings.json\", optional: true, reloadOnChange: true);\n",
    "var config = configurationBuilder.Build();\n",
    "\n",
    "// IMPORTANT: You ONLY NEED either Azure OpenAI or OpenAI connectiopn info, not both.\n",
    "// Azure OpenAI Connection Info using o1 series of models\n",
    "var azureOpenAIEndpoint = config[\"AzureOpenAI:Endpoint\"];\n",
    "var azureOpenAIAPIKey = config[\"AzureOpenAI:APIKey\"];\n",
    "var azureOpenAIModelDeploymentName = config[\"AzureOpenAI:ModelDeploymentName\"];\n",
    "// OpenAI Connection Info \n",
    "var openAIAPIKey = config[\"OpenAI:APIKey\"];\n",
    "var openAIModelId = config[\"OpenAI:ModelId\"];"
   ]
  },
  {
   "cell_type": "code",
   "execution_count": 17,
   "metadata": {
    "dotnet_interactive": {
     "language": "csharp"
    },
    "polyglot_notebook": {
     "kernelName": "csharp"
    }
   },
   "outputs": [
    {
     "name": "stdout",
     "output_type": "stream",
     "text": [
      "Using Azure OpenAI Service\n"
     ]
    }
   ],
   "source": [
    "using Microsoft.Extensions.DependencyInjection.Extensions;\n",
    "using Microsoft.Extensions.DependencyInjection;\n",
    "using Microsoft.SemanticKernel;\n",
    "using Microsoft.SemanticKernel.ChatCompletion;\n",
    "using Microsoft.SemanticKernel.Connectors.OpenAI;\n",
    "\n",
    "Kernel semanticKernel;\n",
    "\n",
    "// Set the flag to use Azure OpenAI or OpenAI. False to use OpenAI, True to use Azure OpenAI\n",
    "var useAzureOpenAI = true;\n",
    "\n",
    "// Create a new Semantic Kernel instance\n",
    "if (useAzureOpenAI)\n",
    "{\n",
    "    Console.WriteLine(\"Using Azure OpenAI Service\");\n",
    "    semanticKernel = Kernel.CreateBuilder()\n",
    "        .AddAzureOpenAIChatCompletion(\n",
    "            deploymentName: azureOpenAIModelDeploymentName,\n",
    "            endpoint: azureOpenAIEndpoint,\n",
    "            apiKey: azureOpenAIAPIKey)\n",
    "        .Build();\n",
    "}\n",
    "else\n",
    "{\n",
    "    Console.WriteLine(\"Using OpenAI Service\");\n",
    "    semanticKernel = Kernel.CreateBuilder()\n",
    "        .AddOpenAIChatCompletion(\n",
    "            modelId: openAIModelId,\n",
    "            apiKey: openAIAPIKey)\n",
    "        .Build();\n",
    "}\n",
    "\n",
    "var chatCompletionService = semanticKernel.Services.GetRequiredService<IChatCompletionService>();"
   ]
  },
  {
   "cell_type": "markdown",
   "metadata": {},
   "source": [
    "----\n",
    "### Step 2 - Premortem Risk Analysis with AI Reasoning Models"
   ]
  },
  {
   "cell_type": "markdown",
   "metadata": {},
   "source": [
    "> 📜 **_\"Success is a lousy teacher. It seduces smart people into thinking they can’t lose.\"_**\n",
    ">\n",
    "> -- <cite>Bill Gates (Co-Founder of Microsoft, Philantropist)</cite>  "
   ]
  },
  {
   "cell_type": "markdown",
   "metadata": {},
   "source": [
    "In the decision scenario below, an AI model will perform a premortem (What-If) analysis on the decision whether to purchase or lease a car. The AI model will provide risks and items to consider for each of the decision options: purchasing a car or leasing a car. "
   ]
  },
  {
   "cell_type": "code",
   "execution_count": 18,
   "metadata": {
    "dotnet_interactive": {
     "language": "csharp"
    },
    "polyglot_notebook": {
     "kernelName": "csharp"
    }
   },
   "outputs": [
    {
     "data": {
      "text/markdown": [
       "| Step/Aspect                          | Purchase a New Car                                                                                     | Lease a Car                                                                                           |\n",
       "|---------------------------------------|-------------------------------------------------------------------------------------------------------|-------------------------------------------------------------------------------------------------------|\n",
       "| **Objective/Goal**                    | Own a reliable vehicle with long-term value and flexibility.                                           | Access a new car with lower upfront costs and regular upgrades.                                       |\n",
       "| **Key Assumptions**                   | Stable income, plan to keep car for several years, can handle maintenance/repairs.                     | Stable income, prefer new cars every few years, drive within mileage limits, minimal maintenance.      |\n",
       "| **Success Criteria**                  | Cost-effective over 5+ years, high resale value, meets lifestyle needs.                                | Lower monthly payments, minimal hassle, access to latest features, predictable costs.                  |\n",
       "| **What-If: Unexpected Job Loss**      | May struggle with loan payments, but can sell the car to recover equity or reduce debt.                | Lease payments still required; early termination fees can be high; no asset to sell.                   |\n",
       "| **What-If: Major Life Change (move, family growth)** | Car ownership allows flexibility to sell or trade for a different vehicle as needs change.              | Lease may restrict ability to change vehicles; early termination penalties; possible transfer options. |\n",
       "| **What-If: High Annual Mileage**      | No penalty for high mileage, but higher depreciation and maintenance costs.                             | Significant extra charges for exceeding mileage limits.                                                |\n",
       "| **What-If: Vehicle Depreciation Accelerates** | Lower resale value, higher total cost of ownership, but still own the asset.                            | Not your concern; residual value risk is on the leasing company.                                       |\n",
       "| **What-If: Unexpected Repairs**       | Responsible for all repairs after warranty expires; can be costly.                                      | Most repairs covered under warranty due to short lease term; less risk of major repair costs.          |\n",
       "| **What-If: Desire to Customize**      | Full freedom to modify or personalize the car.                                                         | Customization usually not allowed; must return car in original condition.                              |\n",
       "| **What-If: Interest Rate Increases**  | Higher financing costs if not locked in; may affect affordability.                                     | Lease rates may also rise, but typically less sensitive than loans.                                    |\n",
       "| **What-If: Market Value Drops Sharply** | Owner absorbs loss in value; higher depreciation.                                                       | Leasing company absorbs risk; your payments remain the same.                                           |\n",
       "| **What-If: Want to Exit Early**       | Can sell or trade in the car, possibly at a loss; more flexibility.                                    | Early termination fees can be substantial; less flexibility.                                           |\n",
       "| **What-If: Financial Windfall**       | Can pay off car early or upgrade; asset can be sold for cash.                                          | May not be able to buy out lease easily; less financial flexibility.                                   |\n",
       "| **What-If: Environmental Concerns**   | Can choose fuel-efficient or electric vehicle and keep it long-term.                                   | Can upgrade to latest eco-friendly models more frequently.                                             |\n",
       "| **Long-Term Cost Uncertainty**        | Maintenance, repairs, and depreciation can be unpredictable.                                           | Predictable monthly payments, but possible end-of-lease charges.                                       |\n",
       "| **End-of-Term Options**               | Keep, sell, or trade in the car; full control.                                                        | Return car, buy it at residual value, or lease a new one.                                              |\n",
       "| **Potential Hidden Costs**            | Taxes, insurance, maintenance, unexpected repairs.                                                     | Excess mileage, wear-and-tear charges, disposition fees, insurance.                                    |\n",
       "| **Emotional/Intangible Factors**      | Pride of ownership, emotional attachment, stability.                                                   | Enjoyment of driving new cars, less attachment, less hassle.                                           |\n",
       "| **Summary of Main Risks**             | Depreciation, repair costs, inflexibility if needs change, financial risk if unable to pay.            | Mileage overages, early termination fees, lack of equity, limited customization.                       |\n",
       "| **Summary of Main Opportunities**     | Build equity, long-term savings, full control, flexibility.                                            | Lower upfront costs, regular upgrades, lower maintenance risk, predictable expenses.                   |"
      ]
     },
     "metadata": {},
     "output_type": "display_data"
    }
   ],
   "source": [
    "// Create a system prompt instruction to override the default system prompt\n",
    "// Add the System Prompt (Persona) to behave like a decision intelligence assistant\n",
    "var systemPromptForDecisions = \"\"\"\n",
    "You are a Decision Intelligence Assistant. \n",
    "Assist the user in exploring options, reasoning through decisions, problem-solving.\n",
    "Apply systems thinking to various scenarios. Provide structured, logical, and comprehensive advice.\n",
    "\n",
    "Output Format Instructions: \n",
    "When generating Markdown, do not use any headings higher than ###. \n",
    "Avoid # and ## headers. Use only ###, ####, or lower-level headings if necessary. \n",
    "All top-level section headers should start at ### or lower. \n",
    "Never use ---, ***, or ___ for horizontal lines. There should be no horizontal lines in the output.\n",
    "For separation, use extra extra spacing. Do not any render horizontal lines.\n",
    "Format the response using only a Markdown table. Only return a Markdown table. \n",
    "Do not enclose the table in triple backticks.\n",
    "\"\"\";\n",
    "var decisionPreMortemAnalysisPrompt = \"\"\"\n",
    "Perform an advanced premortem (What-If) analysis on the following decision scenario:\n",
    "You are deciding to purchase a new car versus leasing a car.\n",
    "\"\"\";\n",
    "\n",
    "// Create a new chat history with pre-mortem analysis prompt\n",
    "var chatHistoryPreMortemAnalysis = new ChatHistory();\n",
    "chatHistoryPreMortemAnalysis.AddSystemMessage(systemPromptForDecisions);\n",
    "chatHistoryPreMortemAnalysis.AddUserMessage(decisionPreMortemAnalysisPrompt);\n",
    "\n",
    "// Create a new OpenAI prompt execution settings object\n",
    "// Try different settings (Temperature, FrequencyPenalty etc) to see how they affect the quality of the generated text\n",
    "var openAIPromptExecutionSettings = new OpenAIPromptExecutionSettings { \n",
    "    MaxTokens = 2000, \n",
    "    Temperature = 0.3, \n",
    "    TopP = 1.0, \n",
    "    FrequencyPenalty = 0.0, \n",
    "    PresencePenalty = 0.0\n",
    "    };\n",
    "\n",
    "// Include both the chat history and the prompt execution settings in the call to GetStreamingChatMessageContentsAsync\n",
    "var decisionResponseChainOfThought = await chatCompletionService.GetChatMessageContentAsync(chatHistoryPreMortemAnalysis, openAIPromptExecutionSettings);\n",
    "decisionResponseChainOfThought.Content.DisplayAs(\"text/markdown\");\n",
    "\n",
    "// Add the AI response to the chat history\n",
    "chatHistoryPreMortemAnalysis.AddAssistantMessage(decisionResponseChainOfThought.Content);\n"
   ]
  },
  {
   "cell_type": "markdown",
   "metadata": {},
   "source": [
    "The large reasoning model provided a comprehensive set of criteria, risks, mitigation strategy and approaches for the two decisions. This is a great option, but it might be more ideal to provide this in an easy to consume table (checklist) for the user that is easy to compare and contrast. This What-If analysis is easy to consume on a mobile device or even print out and annotate. "
   ]
  },
  {
   "cell_type": "markdown",
   "metadata": {},
   "source": [
    "This Markdown table can be further simplified by highlighting which risk factor is more favorable when comparing a car purchase versus a car lease. This can make the decision process much easier to the user, as at a glance they can see overwhelming evidence that favors once decision option over the other.  "
   ]
  },
  {
   "cell_type": "code",
   "execution_count": 19,
   "metadata": {
    "polyglot_notebook": {
     "kernelName": "csharp"
    }
   },
   "outputs": [
    {
     "data": {
      "text/markdown": [
       "The detailed analysis shows that purchasing a car is generally more advantageous for those seeking long-term flexibility, equity, and control, especially if they expect high mileage, want to customize, or may need to change vehicles due to life changes. Leasing, on the other hand, is preferable for those prioritizing lower upfront costs, predictable payments, minimal maintenance risk, and frequent access to newer vehicles. Leasing also protects against depreciation and unexpected repair costs during the lease term, but can be restrictive if your needs change or if you exceed mileage limits.\n",
       "\n",
       "| Risk Factor / Uncertainty / Potential Outcome      | Purchase | Lease |\n",
       "|---------------------------------------------------|----------|-------|\n",
       "| Unexpected Job Loss                               | ☑️       |       |\n",
       "| Major Life Change (move, family growth)           | ☑️       |       |\n",
       "| High Annual Mileage                               | ☑️       |       |\n",
       "| Vehicle Depreciation Accelerates                  |          | ☑️    |\n",
       "| Unexpected Repairs                                |          | ☑️    |\n",
       "| Desire to Customize                               | ☑️       |       |\n",
       "| Interest Rate Increases                           |          | ☑️    |\n",
       "| Market Value Drops Sharply                        |          | ☑️    |\n",
       "| Want to Exit Early                               | ☑️       |       |\n",
       "| Financial Windfall                                | ☑️       |       |\n",
       "| Environmental Concerns                            |          | ☑️    |\n",
       "| Long-Term Cost Uncertainty                        |          | ☑️    |\n",
       "| End-of-Term Options                               | ☑️       |       |\n",
       "| Potential Hidden Costs                            |          | ☑️    |\n",
       "| Emotional/Intangible Factors                      | ☑️       |       |"
      ]
     },
     "metadata": {},
     "output_type": "display_data"
    }
   ],
   "source": [
    "var simplifyRiskAnalysisPrompt = \"\"\"\n",
    "You are provided a detailed markdown table in the above chat history that \n",
    "compares Purchase and Lease options across various risk factors and uncertainties. \n",
    "Your task is to convert this table into a simplified markdown table that uses check marks (☑️) \n",
    "to indicate which option is less risky or more ideal for each risk factor. \n",
    "The output table should have three columns: \"Risk Factor / Uncertainty / Potential Outcome\", \"Purchase\", and \"Lease\". \n",
    "For each risk factor, decide based on the detailed descriptions which option (Purchase or Lease) \n",
    "is preferable (i.e., less risky or more advantageous) and place a check mark (☑️) in that column. \n",
    "If an option is not the ideal choice for a given risk factor, leave its cell blank. \n",
    "Make sure the simplified table closely reflects the key insights from the detailed table. \n",
    "\n",
    "Provide a small summary below the table of the key insights \n",
    "from the detailed table in a single paragraph before the simplified table.\n",
    "\"\"\";\n",
    "\n",
    "chatHistoryPreMortemAnalysis.AddUserMessage(simplifyRiskAnalysisPrompt);\n",
    "\n",
    "var preMortemAnalysisSimplifiedChecklistResponse = await chatCompletionService.GetChatMessageContentAsync(chatHistoryPreMortemAnalysis, openAIPromptExecutionSettings);\n",
    "preMortemAnalysisSimplifiedChecklistResponse.Content.DisplayAs(\"text/markdown\");\n"
   ]
  },
  {
   "cell_type": "markdown",
   "metadata": {},
   "source": [
    "### Step 3 - Premortem Analysis for Radio Telescope Operations "
   ]
  },
  {
   "cell_type": "markdown",
   "metadata": {},
   "source": [
    "Exploring space with telescopes is a time consuming investment. Current telescope designs are limited to exploring small areas of space in a certain time frame. Without going into details, the process is much more complex than snapping a picture with a mobile device. Telescopes can be pointed at a specific space area for days, weeks or even more than months! If a telescope is exploring a certain area of space it isn't collecting data on other areas. Scientists and researchers compete for valuable access to telescope resources by providing observatories what space area they want to explore, any cellestial contraints, timeframes, calibration costs, data collection transfer etc. This presents a very interesting Decision Intelligence constraints problem that observatories must manage. \n",
    "\n",
    "<img style=\"display: block; margin: auto;\" width =\"700px\" src=\"https://raw.githubusercontent.com/bartczernicki/DecisionIntelligence.GenAI.Workshop/main/Images/Scenarios/Scenario-RadioTelescope.png\">"
   ]
  },
  {
   "cell_type": "markdown",
   "metadata": {},
   "source": [
    "#### Decision Scenario - Premortem for Radio Telescope Operations "
   ]
  },
  {
   "cell_type": "markdown",
   "metadata": {},
   "source": [
    "> 📜 \"We choose to go to the Moon in this decade and do the other things, not because they are easy, but because they are hard.\" \n",
    ">\n",
    "> -- <cite>John F. Kennedy (35th President of the United States)</cite>  "
   ]
  },
  {
   "cell_type": "markdown",
   "metadata": {},
   "source": [
    "A newly commissioned radio telescope stands on the verge of unveiling the proof of alien life, but it is still far from fully calibrated. Despite limited data processing capacity and a software suite that remains untested, an unexpected cosmic event has just begun, hinting at signals that could reveal alien life. Faced with the risk of hardware damage or data corruption from running the telescope prematurely, scientists debate whether to switch it on now or wait until everything is fully operational—knowing they could lose a once-in-a-generation opportunity. Determined not to squander this brief cosmic window, the team conducts a premortem analysis to predict what might go wrong. Armed with these insights, they can better prepare for potential pitfalls and strengthen their chances of catching historic signals from across the galaxy.\n",
    "\n",
    "Let's assume the scientists decide to rush the radio telescope to operate early to find alien life. Furthermore, assume a that this decision has led to a disaster with hardware failure to the telescope. Even though the (What-If) decision was made to rush the radio telescope operationally, formal scientific telescope operations have been followed. The goal of this premortem (What-If analysis) is to illuminate any risk mitigation strategies and craft a risk mitigation approach that may have been uncovered based on the premortem. \n",
    "\n",
    "Techinques like this a very powerful in a variety of business scenarios, where existing operational frameworks exist but simulating an outcome can uncover gaps, emerging risks and other opportunities to optimize. "
   ]
  },
  {
   "cell_type": "code",
   "execution_count": 20,
   "metadata": {
    "dotnet_interactive": {
     "language": "csharp"
    },
    "polyglot_notebook": {
     "kernelName": "csharp"
    }
   },
   "outputs": [
    {
     "data": {
      "text/markdown": [
       "| Category | Failure Scenario (Six Months Later) | Root Causes & Contributing Factors | Preventive Measures | Fail-safes, Resources, & Procedural Changes |\n",
       "|----------|-------------------------------------|------------------------------------|---------------------|--------------------------------------------|\n",
       "| **Data Integrity & Usability** | Data from the cosmic event is corrupted, incomplete, or unusable for analysis. | - Uncalibrated sensors led to inaccurate readings.<br>- Data pipelines not validated, causing loss or mislabeling of signals.<br>- Storage systems not stress-tested, resulting in dropped packets or overwrites.<br>- Lack of redundancy in data capture.<br>- No real-time data quality monitoring. | - Conduct partial calibration on critical subsystems.<br>- Implement minimum viable data validation checks.<br>- Prioritize redundancy in data storage.<br>- Schedule parallel dry runs using simulated data.<br>- Develop a data integrity checklist for early activation. | - Set up real-time data integrity dashboards.<br>- Use cloud-based backup for raw data.<br>- Assign a rapid-response data triage team.<br>- Predefine a protocol for immediate data review and triage. |\n",
       "| **Software Functionality** | Software crashes, fails to process signals, or introduces errors during analysis and storage. | - Core modules untested under real-world loads.<br>- Incomplete error handling.<br>- Incompatibility between software and hardware.<br>- No rollback plan for failed updates.<br>- Lack of automated monitoring or alerting. | - Prioritize end-to-end testing of critical software paths.<br>- Run stress tests with simulated high-load events.<br>- Develop a rollback plan for software failures.<br>- Implement automated error logging and alerts.<br>- Document known bugs and workarounds. | - Deploy a sandbox environment for live patching.<br>- Assign dedicated software engineers on-call during event.<br>- Use containerization to isolate unstable modules.<br>- Establish clear escalation paths for software issues. |\n",
       "| **Hardware Safety & Reliability** | Telescope components overheat, fail, or suffer irreversible damage. | - Safety interlocks bypassed or not fully configured.<br>- Cooling systems not tested under sustained load.<br>- Power surges or overloads not anticipated.<br>- Lack of real-time hardware health monitoring.<br>- No emergency shutdown protocol. | - Verify all critical safety interlocks.<br>- Conduct limited-duration load tests.<br>- Pre-inspect cooling and power systems.<br>- Install hardware health sensors.<br>- Develop and rehearse emergency shutdown procedures. | - Set up automated shutdown triggers for abnormal readings.<br>- Keep spare parts and repair kits on-site.<br>- Assign a hardware safety officer for the event.<br>- Maintain a hotline to hardware vendors for rapid support. |\n",
       "| **Team Coordination & Communication** | Confusion, duplicated efforts, or missed critical tasks; slow response to emerging issues. | - Roles and responsibilities unclear during crisis.<br>- Incomplete shift handovers.<br>- Poor documentation of decisions.<br>- Critical information not disseminated in real time.<br>- No central incident log or command structure. | - Define and communicate clear roles for all team members.<br>- Establish a command center for the event.<br>- Use checklists for task tracking.<br>- Schedule regular briefings and debriefings.<br>- Maintain a shared incident log accessible to all. | - Implement a “single point of truth” dashboard.<br>- Assign incident commanders for each subsystem.<br>- Use radio or instant messaging for rapid updates.<br>- Conduct pre-event drills to test communication flow. |\n",
       "| **Decision-Making Under Pressure** | Rushed or poorly considered decisions amplify minor errors into systemic failures. | - Inadequate risk assessment.<br>- Pressure to act overrides caution.<br>- No structured process for go/no-go decisions.<br>- Insufficient time allocated for contingency planning.<br>- Overreliance on optimistic assumptions. | - Develop a decision matrix for early activation scenarios.<br>- Require sign-off from technical leads for critical steps.<br>- Schedule “red team” reviews to challenge assumptions.<br>- Allocate time for scenario planning and risk assessment.<br>- Document all decisions and rationales. | - Establish a “pause and review” protocol for high-risk actions.<br>- Empower any team member to call for a halt if safety/data integrity is at risk.<br>- Bring in external advisors for independent review.<br>- Use decision logs for post-event analysis and learning. |\n",
       "\n"
      ]
     },
     "metadata": {},
     "output_type": "display_data"
    }
   ],
   "source": [
    "// Create a system prompt instruction to override the default system prompt\n",
    "// Add the System Prompt (Persona) to behave like a decision intelligence assistant\n",
    "var systemPromptForPremortemRadioTelescope = \"\"\"\n",
    "You are a Decision Intelligence Assistant. \n",
    "Assist the user in exploring options, reasoning through decisions, problem-solving.\n",
    "Apply systems thinking to various scenarios. Provide structured, logical, and comprehensive advice.\n",
    "\n",
    "Output Format Instructions: \n",
    "When generating Markdown, do not use any headings higher than ###. \n",
    "Avoid # and ## headers. Use only ###, ####, or lower-level headings if necessary. \n",
    "All top-level section headers should start at ### or lower. \n",
    "Never use ---, ***, or ___ for horizontal lines. There should be no horizontal lines in the output.\n",
    "For separation, use extra extra spacing. Do not any render horizontal lines.\n",
    "Format the response using only a Markdown table. Only return a Markdown table. \n",
    "Do not enclose the table in triple backticks.\n",
    "\"\"\";\n",
    "var decisionAnalysisPromptForPremortemRadioTelescope = \"\"\"\n",
    "You are a project manager at a new radio telescope facility looking for alien life.  \n",
    "It is still far from fully calibrated. Despite limited data processing capacity and a software suite that remains untested, \n",
    "an unexpected cosmic event has just begun, hinting at signals that could reveal alien life. \n",
    "Faced with the risk of hardware damage or data corruption from running the telescope prematurely, \n",
    "scientists debate whether to switch it on now or wait until everything is fully operational—knowing \n",
    "they could lose a once-in-a-generation opportunity. \n",
    "\n",
    "Imagine it is six months from now and the project to detect potential alien signals from the sudden cosmic event has failed. \n",
    "The radio telescope was likely activated prematurely, software remained untested, and the team rushed to capture transmissions. \n",
    "Despite the urgency, the outcome was disastrous: hardware suffered damage under the increased load, \n",
    "data came out corrupted, or no meaningful signals were confirmed. \n",
    "\n",
    "Now, step into that moment of failure—what specific issues, oversights, or cascading errors caused this grim scenario?\n",
    "\n",
    "1) Envision every possible way the radio telescope's early deployment could have led to compromised or unusable data.\n",
    "2) Identify how incomplete software testing and rushed calibration might have \n",
    "contributed to errors in processing or storing signals. \n",
    "3) Consider any overlooked safety protocols or hardware precautions that might have led to damage or malfunctions.\n",
    "4) Examine the roles and responsibilities of the team and think about communication breakdowns, \n",
    "rushed decisions, and missed signals or deadlines.\n",
    "5) Assess how time pressure from the rare cosmic event might have amplified smaller mistakes and \n",
    "turned them into systemic failures.\n",
    "\n",
    "Use the outcomes of this “what if” vision to create a detailed list of preventive measures. \n",
    "Then, propose fail-safes, additional resources, or procedural changes to ensure that, \n",
    "should you choose to activate the telescope early, you can still capture the event safely and \n",
    "effectively—maximizing the chance to detect historic signals without jeopardizing the entire operation.\n",
    "\"\"\";\n",
    "\n",
    "// Create a new chat history with pre-mortem analysis prompt\n",
    "var chatHistoryPreMortemTelescopeAnalysis = new ChatHistory();\n",
    "chatHistoryPreMortemTelescopeAnalysis.AddSystemMessage(systemPromptForPremortemRadioTelescope);\n",
    "chatHistoryPreMortemTelescopeAnalysis.AddUserMessage(decisionAnalysisPromptForPremortemRadioTelescope);\n",
    "\n",
    "// Create a new OpenAI prompt execution settings object\n",
    "// Try different settings (Temperature, FrequencyPenalty etc) to see how they affect the quality of the generated text\n",
    "var openAIPromptExecutionSettings = new OpenAIPromptExecutionSettings { \n",
    "    MaxTokens = 8000, \n",
    "    Temperature = 0.3, \n",
    "    TopP = 1.0, \n",
    "    FrequencyPenalty = 0.0, \n",
    "    PresencePenalty = 0.0\n",
    "    };\n",
    "\n",
    "var preMortemTelescopeAnalysisResponse = await chatCompletionService.GetChatMessageContentAsync(chatHistoryPreMortemTelescopeAnalysis, openAIPromptExecutionSettings);\n",
    "preMortemTelescopeAnalysisResponse.Content.DisplayAs(\"text/markdown\");"
   ]
  }
 ],
 "metadata": {
  "kernelspec": {
   "display_name": ".NET (C#)",
   "language": "C#",
   "name": ".net-csharp"
  },
  "language_info": {
   "name": "polyglot-notebook"
  },
  "polyglot_notebook": {
   "kernelInfo": {
    "defaultKernelName": "csharp",
    "items": [
     {
      "aliases": [],
      "name": "csharp"
     }
    ]
   }
  }
 },
 "nbformat": 4,
 "nbformat_minor": 2
}
