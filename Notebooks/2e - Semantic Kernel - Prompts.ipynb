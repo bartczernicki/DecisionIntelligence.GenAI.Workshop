{
 "cells": [
  {
   "cell_type": "markdown",
   "metadata": {},
   "source": [
    "<img style=\"float: left;padding-right: 10px\" width =\"40px\" src=\"https://raw.githubusercontent.com/bartczernicki/DecisionIntelligence.GenAI.Workshop/main/Images/SemanticKernelLogo.png\">\n",
    "\n",
    "## Semantic Kernel - Prompts"
   ]
  },
  {
   "cell_type": "markdown",
   "metadata": {},
   "source": [
    "Decision Intelligence applied in this module:  \n",
    "* Listing of various decision-making frameworks and with their descriptions by using GenAI prompt engineering   \n",
    "\n",
    "Prompts are the fundemental building block to getting the proper responses from AI models. This module demonstrates how to use common prompt engineering techniques while using Semantic Kernel. If you've ever used ChatGPT or Microsoft Copilot, you're already familiar with prompting. Given a prompt instruction, an LLM will attempt to predict the most likely response. With Semantic Kernel, you can craft applications, services & APIs that execute prompts.  \n",
    "\n",
    "For more information on using prompts with Semantic Kernel, visit: https://learn.microsoft.com/en-us/semantic-kernel/prompts/your-first-prompt  "
   ]
  },
  {
   "cell_type": "markdown",
   "metadata": {},
   "source": [
    "### Step 1 - Initialize Configuration Builder & Build the Semantic Kernel Orchestration\n",
    "\n",
    "Execute the next two cells to:\n",
    "* Use the Configuration Builder to load the API secrets.  \n",
    "* Use the API configuration to build the Semantic Kernel orchestrator."
   ]
  },
  {
   "cell_type": "code",
   "execution_count": 1,
   "metadata": {
    "dotnet_interactive": {
     "language": "csharp"
    },
    "polyglot_notebook": {
     "kernelName": "csharp"
    },
    "vscode": {
     "languageId": "polyglot-notebook"
    }
   },
   "outputs": [
    {
     "data": {
      "text/html": [
       "<div><div></div><div></div><div><strong>Installed Packages</strong><ul><li><span>Microsoft.Extensions.Configuration, 8.0.0</span></li><li><span>Microsoft.Extensions.Configuration.Json, 8.0.0</span></li></ul></div></div>"
      ]
     },
     "metadata": {},
     "output_type": "display_data"
    }
   ],
   "source": [
    "// Import the required NuGet configuration packages\n",
    "#r \"nuget: Microsoft.Extensions.Configuration, 8.0.0\"\n",
    "#r \"nuget: Microsoft.Extensions.Configuration.Json, 8.0.0\"\n",
    "\n",
    "using Microsoft.Extensions.Configuration;\n",
    "using System.IO;\n",
    "\n",
    "// Load the configuration settings from the local.settings.json and secrets.settings.json files\n",
    "// The secrets.settings.json file is used to store sensitive information such as API keys\n",
    "var configurationBuilder = new ConfigurationBuilder()\n",
    "    .SetBasePath(Directory.GetCurrentDirectory())\n",
    "    .AddJsonFile(\"local.settings.json\", optional: true, reloadOnChange: true)\n",
    "    .AddJsonFile(\"secrets.settings.json\", optional: true, reloadOnChange: true);\n",
    "var config = configurationBuilder.Build();\n",
    "\n",
    "// IMPORTANT: You ONLY NEED either Azure OpenAI or OpenAI connectiopn info, not both.\n",
    "// Azure OpenAI Connection Info\n",
    "var azureOpenAIEndpoint = config[\"AzureOpenAI:Endpoint\"];\n",
    "var azureOpenAIAPIKey = config[\"AzureOpenAI:APIKey\"];\n",
    "var azureOpenAIModelDeploymentName = config[\"AzureOpenAI:ModelDeploymentName\"];\n",
    "// OpenAI Connection Info \n",
    "var openAIAPIKey = config[\"OpenAI:APIKey\"];\n",
    "var openAIModelId = config[\"OpenAI:ModelId\"];"
   ]
  },
  {
   "cell_type": "code",
   "execution_count": 2,
   "metadata": {
    "dotnet_interactive": {
     "language": "csharp"
    },
    "polyglot_notebook": {
     "kernelName": "csharp"
    },
    "vscode": {
     "languageId": "polyglot-notebook"
    }
   },
   "outputs": [
    {
     "data": {
      "text/html": [
       "<div><div></div><div></div><div><strong>Installed Packages</strong><ul><li><span>Microsoft.SemanticKernel, 1.14.1</span></li></ul></div></div>"
      ]
     },
     "metadata": {},
     "output_type": "display_data"
    },
    {
     "name": "stdout",
     "output_type": "stream",
     "text": [
      "Using Azure OpenAI Service\n"
     ]
    }
   ],
   "source": [
    "// Import the Semantic Kernel NuGet package\n",
    "#r \"nuget: Microsoft.SemanticKernel, 1.14.1\"\n",
    "\n",
    "using Microsoft.SemanticKernel;\n",
    "using Microsoft.SemanticKernel.ChatCompletion;\n",
    "using Microsoft.SemanticKernel.Connectors.OpenAI;\n",
    "\n",
    "Kernel semanticKernel;\n",
    "\n",
    "// Set the flag to use Azure OpenAI or OpenAI. False to use OpenAI, True to use Azure OpenAI\n",
    "var useAzureOpenAI = true;\n",
    "\n",
    "// Create a new Semantic Kernel instance\n",
    "if (useAzureOpenAI)\n",
    "{\n",
    "    Console.WriteLine(\"Using Azure OpenAI Service\");\n",
    "    semanticKernel = Kernel.CreateBuilder()\n",
    "        .AddAzureOpenAIChatCompletion(\n",
    "            deploymentName: azureOpenAIModelDeploymentName,\n",
    "            endpoint: azureOpenAIEndpoint,\n",
    "            apiKey: azureOpenAIAPIKey)\n",
    "        .Build();\n",
    "}\n",
    "else\n",
    "{\n",
    "    Console.WriteLine(\"Using OpenAI Service\");\n",
    "    semanticKernel = Kernel.CreateBuilder()\n",
    "        .AddOpenAIChatCompletion(\n",
    "            modelId: openAIModelId,\n",
    "            apiKey: openAIAPIKey)\n",
    "        .Build();\n",
    "}"
   ]
  },
  {
   "cell_type": "markdown",
   "metadata": {},
   "source": [
    "### Step 2 - Execute a Semantic Kernel Prompt\n",
    "\n",
    "Many LLMs and even SLMs have been trained on knowledge that includes decision frameworks & processes. This makes LLMs great assistants to:\n",
    "* Provide proper decision frames\n",
    "* Gather the information & intelligence in order to make a decision\n",
    "* Recommend decision frameworks to make a high-quality decision\n",
    "* Provide feedback to evaluate a decision\n",
    "\n",
    "Once the Semantic Kernel instance is built, it is ready to intake prompt instructions. In the prompt below, the Semantic Kernel is instructed to provide examples of decision frameworks. "
   ]
  },
  {
   "cell_type": "code",
   "execution_count": 3,
   "metadata": {
    "dotnet_interactive": {
     "language": "csharp"
    },
    "polyglot_notebook": {
     "kernelName": "csharp"
    },
    "vscode": {
     "languageId": "polyglot-notebook"
    }
   },
   "outputs": [
    {
     "name": "stdout",
     "output_type": "stream",
     "text": [
      "Certainly! Here are some decision-making frameworks that can enhance the quality of decisions:\n",
      "\n",
      "### SWOT Analysis (Strengths, Weaknesses, Opportunities, Threats)\n",
      "#### Purpose:\n",
      "- Evaluating the internal and external factors that are favorable and unfavorable to achieve a goal.\n",
      "\n",
      "#### How to Use:\n",
      "1. **Strengths**: Identify internal attributes and resources that support a successful outcome.\n",
      "2. **Weaknesses**: Identify internal attributes and deficiencies that could impede performance.\n",
      "3. **Opportunities**: Identify external factors that the entity could exploit to its advantage.\n",
      "4. **Threats**: Identify external factors that could cause trouble for the entity.\n",
      "\n",
      "#### Applications:\n",
      "- Strategic planning, risk assessment, personal development\n",
      "\n",
      "---\n",
      "\n",
      "### Decision Matrix Analysis (aka Grid Analysis, Pugh Matrix)\n",
      "#### Purpose:\n",
      "- Comparing options against a set of predefined criteria.\n",
      "\n",
      "#### How to Use:\n",
      "1. List all options.\n",
      "2. Identify and list key criteria for decision-making.\n",
      "3. Assign a weight to each criterion based on its importance.\n",
      "4. Score each option based on how well it meets each criterion.\n",
      "5. Multiply the scores by the weights and sum them for each option.\n",
      "6. The option with the highest total score is usually the best decision.\n",
      "\n",
      "#### Applications:\n",
      "- Product selection, employee evaluations, vendor comparisons\n",
      "\n",
      "---\n",
      "\n",
      "### Cost-Benefit Analysis (CBA)\n",
      "#### Purpose:\n",
      "- Evaluating the financial implications of decisions.\n",
      "\n",
      "#### How to Use:\n",
      "1. Identify all costs and benefits associated with each option.\n",
      "2. Quantify costs and benefits in monetary terms.\n",
      "3. Compare the total costs and benefits.\n",
      "4. Choose the option where benefits most outweigh costs or where the net benefit is highest.\n",
      "\n",
      "#### Applications:\n",
      "- Project management, policy decisions, investment choices\n",
      "\n",
      "---\n",
      "\n",
      "### The OODA Loop (Observe, Orient, Decide, Act)\n",
      "#### Purpose:\n",
      "- Making agile, iterative decisions in dynamic environments.\n",
      "\n",
      "#### How to Use:\n",
      "1. **Observe**: Gather current information from the environment.\n",
      "2. **Orient**: Analyze this information, interpret its implications.\n",
      "3. **Decide**: Determine a course of action based on gathered information.\n",
      "4. **Act**: Implement the decision.\n",
      "5. Repeat the cycle.\n",
      "\n",
      "#### Applications:\n",
      "- Military strategy, emergency response, rapid business decisions\n",
      "\n",
      "---\n",
      "\n",
      "### Six Thinking Hats\n",
      "#### Purpose:\n",
      "- Facilitating group thinking and decision-making by exploring different perspectives.\n",
      "\n",
      "#### How to Use:\n",
      "People involved wear \"different hats\":\n",
      "1. **White Hat**: Focus on data, facts, and information.\n",
      "2. **Red Hat**: Focus on emotions and feelings.\n",
      "3. **Black Hat**: Focus on cautions, difficulties, and potential problems.\n",
      "4. **Yellow Hat**: Focus on benefits, values, and positivity.\n",
      "5. **Green Hat**: Focus on creativity, alternatives, and new ideas.\n",
      "6. **Blue Hat**: Focus on managing the thinking process and overview.\n",
      "\n",
      "#### Applications:\n",
      "- Problem-solving, team meetings, brainstorming sessions\n",
      "\n",
      "---\n",
      "\n",
      "### The Eisenhower Matrix (aka Urgent-Important Matrix)\n",
      "#### Purpose:\n",
      "- Prioritizing tasks and managing time effectively.\n",
      "\n",
      "#### How to Use:\n",
      "1. Draw a matrix with four quadrants.\n",
      "2. Label quadrants based on urgency and importance:\n",
      "    - **Q1**: Urgent and Important (Do immediately)\n",
      "    - **Q2**: Not Urgent but Important (Schedule time)\n",
      "    - **Q3**: Urgent but Not Important (Delegate)\n",
      "    - **Q4**: Not Urgent and Not Important (Eliminate)\n",
      "3. Categorize tasks accordingly and act based on the prioritization.\n",
      "\n",
      "#### Applications:\n",
      "- Time management, task prioritization, productivity improvements\n",
      "\n",
      "---\n",
      "\n",
      "### The Vroom-Yetton-Jago Decision Model\n",
      "#### Purpose:\n",
      "- Determine the level of involvement others should have in decision-making.\n",
      "\n",
      "#### How to Use:\n",
      "1. Answer a series of diagnostic questions relating to the decision context.\n",
      "2. Determine the most appropriate decision style based on responses:\n",
      "    - Autocratic I (AI)\n",
      "    - Autocratic II (AII)\n",
      "    - Consultative I (CI)\n",
      "    - Consultative II (CII)\n",
      "    - Group II (GII)\n",
      "3. Apply the appropriate style to the decision-making process.\n",
      "\n",
      "#### Applications:\n",
      "- Leadership, team management, organizational decision-making\n",
      "\n",
      "---\n",
      "\n",
      "These frameworks support structured thinking and help ensure that various aspects are considered in the decision-making process, leading to more reliable and effective outcomes.\n"
     ]
    }
   ],
   "source": [
    "var simplePrompt = \"Provide some decision frameworks that can help improve the quality of decisions.\";\n",
    "\n",
    "var simplePromptResponse = await semanticKernel.InvokePromptAsync(simplePrompt);\n",
    "Console.WriteLine(simplePromptResponse.GetValue<string>());"
   ]
  },
  {
   "cell_type": "markdown",
   "metadata": {},
   "source": [
    "### Step 3 - Execute a Semantic Kernel Prompt with Streaming\n",
    "\n",
    "Semantic Kernel supports prompt response streaming when invoking the prompt. This allows responses to be streamed to the client as soon as they are made available by the LLM and service. Below the same decision prompt is executed. However, notice that chunks are streamed and can be read by the user as soon as they appear. "
   ]
  },
  {
   "cell_type": "code",
   "execution_count": 4,
   "metadata": {
    "dotnet_interactive": {
     "language": "csharp"
    },
    "polyglot_notebook": {
     "kernelName": "csharp"
    },
    "vscode": {
     "languageId": "polyglot-notebook"
    }
   },
   "outputs": [
    {
     "name": "stdout",
     "output_type": "stream",
     "text": [
      "Certainly! Here are some decision-making frameworks that can help improve the quality of decisions:\n",
      "\n",
      "1. **SWOT Analysis (Strengths, Weaknesses, Opportunities, Threats):**\n",
      "   - Identify internal strengths and weaknesses.\n",
      "   - Recognize external opportunities and threats.\n",
      "   - Helps in understanding the internal and external environment to make better strategic decisions.\n",
      "\n",
      "2. **Decision Matrix Analysis (Weighted Scoring):**\n",
      "   - List all options and criteria.\n",
      "   - Assign weights to each criterion based on importance.\n",
      "   - Score each option on each criterion.\n",
      "   - Multiply scores by weights and sum them up to compare overall scores for each option.\n",
      "\n",
      "3. **Cost-Benefit Analysis:**\n",
      "   - List all costs and benefits associated with each option.\n",
      "   - Assign a monetary value to each cost and benefit.\n",
      "   - Compare the total costs to the total benefits to determine the net value of each option.\n",
      "   - Helps in making economically viable decisions.\n",
      "\n",
      "4. **Pros and Cons List:**\n",
      "   - Create a list of pros and cons for each option.\n",
      "   - Evaluate the significance of each point.\n",
      "   - Helps in visualizing the positive and negative aspects of each alternative.\n",
      "\n",
      "5. **PEST Analysis (Political, Economic, Social, Technological):**\n",
      "   - Examine the macro-environmental factors that could affect the decision.\n",
      "   - Helps in understanding the broader context and external factors influencing the decision.\n",
      "\n",
      "6. **Six Thinking Hats (Edward de Bono):**\n",
      "   - Use six different perspectives (“hats”) to analyze a decision:\n",
      "     - White Hat: Facts and Information\n",
      "     - Red Hat: Emotions and Intuitions\n",
      "     - Black Hat: Caution and Critical thinking\n",
      "     - Yellow Hat: Optimism and Benefits\n",
      "     - Green Hat: Creativity and Alternatives\n",
      "     - Blue Hat: Process and Control\n",
      "   - Encourages comprehensive and balanced thinking.\n",
      "\n",
      "7. **Root Cause Analysis (5 Whys):**\n",
      "   - Ask “Why” five times to delve deeper into the root cause of the problem.\n",
      "   - Helps in identifying the fundamental issue to address rather than just symptoms.\n",
      "\n",
      "8. **Pareto Analysis (80/20 Rule):**\n",
      "   - Identify the top 20% of causes that contribute to 80% of the problem.\n",
      "   - Focus efforts on addressing the most significant factors.\n",
      "   - Helps in prioritizing the key issues that have the highest impact.\n",
      "\n",
      "9. **OODA Loop (Observe, Orient, Decide, Act):**\n",
      "   - Observe the situation to gather information.\n",
      "   - Orient by analyzing and synthesizing the information.\n",
      "   - Decide on a course of action.\n",
      "   - Act to implement the decision.\n",
      "   - Iterate the loop to continuously make improvements.\n",
      "\n",
      "10. **Mind Mapping:**\n",
      "    - Create a visual diagram that represents ideas, tasks, and concepts around a central theme.\n",
      "    - Helps in organizing thoughts and exploring relationships between different aspects of the decision.\n",
      "\n",
      "11. **Risk Analysis:**\n",
      "    - Identify potential risks associated with each option.\n",
      "    - Assess the likelihood and impact of each risk.\n",
      "    - Develop strategies to mitigate risks.\n",
      "    - Helps in making informed decisions by understanding and planning for potential pitfalls.\n",
      "\n",
      "Using these frameworks can provide structured approaches to decision-making, ensuring that various factors are considered, and the best possible decisions are made."
     ]
    }
   ],
   "source": [
    "await foreach (var streamChunk in semanticKernel.InvokePromptStreamingAsync(simplePrompt))\n",
    "{\n",
    "   Console.Write(streamChunk);\n",
    "}"
   ]
  },
  {
   "cell_type": "markdown",
   "metadata": {},
   "source": [
    "### Step 4 - Execute a Semantic Kernel Prompt with a Custom Prompt Execution Configuration\n",
    "\n",
    "Semantic Kernel supports the configuration of prompt execution. The typical OpenAI and Azure OpenAI settings are exposed as configuration options that provide a different prompt experience. Try changing the MaxTokens, Tempature or other settings."
   ]
  },
  {
   "cell_type": "code",
   "execution_count": 5,
   "metadata": {
    "dotnet_interactive": {
     "language": "csharp"
    },
    "polyglot_notebook": {
     "kernelName": "csharp"
    },
    "vscode": {
     "languageId": "polyglot-notebook"
    }
   },
   "outputs": [
    {
     "name": "stdout",
     "output_type": "stream",
     "text": [
      "Certainly! Decision-making frameworks are structured approaches that help individuals and organizations make more informed and effective choices. Here are some widely recognized frameworks that can improve the quality of decisions:\n",
      "\n",
      "1. **SWOT Analysis**:\n",
      "   - **Strengths**: Identify internal strengths.\n",
      "   - **Weaknesses**: Identify internal weaknesses.\n",
      "   - **Opportunities**: Identify external opportunities.\n",
      "   - **Threats**: Identify external threats.\n",
      "   - **Usage**: Helps in strategic planning by understanding internal and external factors.\n",
      "\n",
      "2. **PEST Analysis**:\n",
      "   - **Political**: Consider political factors.\n",
      "   - **Economic**: Consider economic factors.\n",
      "   - **Social**: Consider social factors.\n",
      "   - **Technological**: Consider technological factors.\n",
      "   - **Usage**: Useful for understanding the macro-environmental factors that could impact a decision.\n",
      "\n",
      "3. **Decision Matrix (Weighted Scoring Model)**:\n",
      "   - List all options and criteria.\n",
      "   - Assign weights to each criterion based on importance.\n",
      "   - Score each option against each criterion.\n",
      "   - Multiply scores by weights and sum them up for each option.\n",
      "   - **Usage**: Helps in comparing multiple options quantitatively.\n",
      "\n",
      "4. **Cost-Benefit Analysis (CBA)**:\n",
      "   - Identify all costs and benefits associated with each option.\n",
      "   - Quantify them in monetary terms if possible.\n",
      "   - Compare the total costs and benefits.\n",
      "   - **Usage**: Useful for financial and economic decisions.\n",
      "\n",
      "5. **Pros and Cons List**:\n",
      "   - List all the advantages (pros) and disadvantages (cons) of each option.\n",
      "   - Compare the lists to make a decision.\n",
      "   - **Usage**: Simple and quick method for weighing options.\n",
      "\n",
      "6. **Six Thinking Hats** (by Edward de Bono):\n",
      "   - **White Hat**: Focus on data and information.\n",
      "   - **Red Hat**: Focus on emotions and feelings.\n",
      "   - **Black Hat**: Focus on potential problems and risks.\n",
      "   - **Yellow Hat**: Focus on benefits and optimism.\n",
      "   - **Green Hat**: Focus on creativity and new ideas.\n",
      "   - **Blue Hat**: Focus on process control and organization.\n",
      "   - **Usage**: Encourages looking at a decision from multiple perspectives.\n",
      "\n",
      "7. **OODA Loop (by John Boyd)**:\n",
      "   - **Observe**: Gather information.\n",
      "   - **Orient**: Analyze and synthesize information.\n",
      "   - **Decide**: Make a decision based on the analysis.\n",
      "   - **Act**: Implement the decision.\n",
      "   - **Usage**: Useful in dynamic and fast-paced environments.\n",
      "\n",
      "8. **Kepner-Tregoe Decision Analysis**:\n",
      "   - **Situation Analysis**: Clarify the situation and define the problem.\n",
      "   - **Problem Analysis**: Identify the root cause of the problem.\n",
      "   - **Decision Analysis**: Evaluate alternatives and make a decision.\n",
      "   - **Potential Problem Analysis**: Identify potential problems and plan for contingencies.\n",
      "   - **Usage**: Structured approach for complex decision-making.\n",
      "\n",
      "9. **Pareto Analysis (80/20 Rule)**:\n",
      "   - Identify the key factors that will have the most significant impact.\n",
      "   - Focus on the 20% of causes that will result in 80% of the outcomes.\n",
      "   - **Usage**: Helps prioritize actions and resources.\n",
      "\n",
      "10. **Rational Decision-Making Model**:\n",
      "    - Define the problem.\n",
      "    - Identify decision criteria.\n",
      "    - Weigh the criteria.\n",
      "    - Generate alternatives.\n",
      "    - Evaluate the alternatives.\n",
      "    - Choose the best alternative.\n",
      "    - Implement the decision.\n",
      "    - Monitor and evaluate the decision.\n",
      "    - **Usage**: Step"
     ]
    }
   ],
   "source": [
    "// Create a new OpenAI prompt execution settings object\n",
    "var openAIPromptExecutionSettings = new OpenAIPromptExecutionSettings { \n",
    "    MaxTokens = 750, \n",
    "    Temperature = 0.0, \n",
    "    TopP = 1.0, \n",
    "    FrequencyPenalty = 0.0, \n",
    "    PresencePenalty = 0.0\n",
    "    };\n",
    "\n",
    "KernelArguments kernelArguments = new KernelArguments(openAIPromptExecutionSettings);\n",
    "await foreach (var streamChunk in semanticKernel.InvokePromptStreamingAsync(simplePrompt, kernelArguments))\n",
    "{\n",
    "   Console.Write(streamChunk);\n",
    "}"
   ]
  },
  {
   "cell_type": "markdown",
   "metadata": {},
   "source": [
    "### Step 5 - Execute a Semantic Kernel Prompt with a system prompt (persona)\n",
    "\n",
    "All the best practices of prompt engineering apply when using Semantic Kernel.  \n",
    "* Make the prompt more specific\n",
    "* Add structure to the output with formatting\n",
    "* Provide examples with few-shot prompting\n",
    "* Tell the AI what to do to avoid doing something wrong\n",
    "* Provide context to the AI\n",
    "* Using message roles in chat completion prompts\n",
    "* Give your AI words of encouragement  \n",
    "\n",
    "One best practice is to provide a common behaviour across all the LLM interactions in a system prompt. This system prompt is passed in on every single call the LLM with Semantic Kernel. These prompts can be dynamically created with a programming language like C#.\n",
    "\n",
    "Execute the cell below with a dynamic prompt template. Notice the different behavior of the output for decision frameworks. The decision framework responses are much more robust with decision intelligence information."
   ]
  },
  {
   "cell_type": "code",
   "execution_count": 8,
   "metadata": {
    "dotnet_interactive": {
     "language": "csharp"
    },
    "polyglot_notebook": {
     "kernelName": "csharp"
    },
    "vscode": {
     "languageId": "polyglot-notebook"
    }
   },
   "outputs": [
    {
     "name": "stdout",
     "output_type": "stream",
     "text": [
      "Prompt To Send to the Azure OpenAI Chat Completion Service...\n",
      "System Prompt: You are a decision intelligence assistant. \n",
      "Assist the user in exploring options, reasoning through decisions, problem-solving, and applying systems thinking to various scenarios. \n",
      "Provide structured, logical, and comprehensive advice.\n",
      "\n",
      "Request from the user: Provide some decision frameworks that can help improve the quality of decisions.\n",
      "\n",
      "----------------------------------------\n",
      "\n",
      "Response from the Azure OpenAI Chat Completion Service...\n",
      "Certainly! Here are several decision frameworks that can help improve the quality of decisions:\n",
      "\n",
      "### 1. **SWOT Analysis**\n",
      "**Strengths, Weaknesses, Opportunities, Threats**\n",
      "\n",
      "- **Strengths:** Identify internal attributes that are helpful to achieving the objective.\n",
      "- **Weaknesses:** Identify internal attributes that are harmful to achieving the objective.\n",
      "- **Opportunities:** Identify external conditions that are helpful to achieving the objective.\n",
      "- **Threats:** Identify external conditions that could do damage to the objective.\n",
      "\n",
      "**Use Case:** Strategic planning, business development, personal career planning.\n",
      "\n",
      "### 2. **Decision Matrix (Weighted Scoring)**\n",
      "**Criteria-based evaluation**\n",
      "\n",
      "- List all the options.\n",
      "- Identify the criteria important for the decision.\n",
      "- Assign weights to each criterion based on importance.\n",
      "- Score each option against each criterion.\n",
      "- Multiply the scores by the weights and sum them up for each option.\n",
      "- The option with the highest total score is the preferred choice.\n",
      "\n",
      "**Use Case:** Choosing between multiple alternatives, product selection, vendor selection.\n",
      "\n",
      "### 3. **Cost-Benefit Analysis (CBA)**\n",
      "**Financial evaluation**\n",
      "\n",
      "- List all the costs associated with each option.\n",
      "- List all the benefits associated with each option.\n",
      "- Assign a monetary value to both costs and benefits.\n",
      "- Subtract the total costs from the total benefits to get the net benefit.\n",
      "- Compare the net benefits of all options.\n",
      "\n",
      "**Use Case:** Financial decisions, project evaluation, investment decisions.\n",
      "\n",
      "### 4. **Pareto Analysis (80/20 Rule)**\n",
      "**Focus on the most impactful factors**\n",
      "\n",
      "- Identify and list problems or causes.\n",
      "- Score each problem or cause based on its impact.\n",
      "- Rank the problems or causes in descending order of impact.\n",
      "- Focus on the top 20% of causes that are responsible for 80% of the problems.\n",
      "\n",
      "**Use Case:** Problem-solving, quality control, resource allocation.\n",
      "\n",
      "### 5. **Six Thinking Hats**\n",
      "**Perspective-based evaluation**\n",
      "\n",
      "- **White Hat:** Focus on data and information.\n",
      "- **Red Hat:** Focus on emotions and feelings.\n",
      "- **Black Hat:** Focus on potential problems and risks.\n",
      "- **Yellow Hat:** Focus on benefits and optimism.\n",
      "- **Green Hat:** Focus on creativity and new ideas.\n",
      "- **Blue Hat:** Focus on process control and organization.\n",
      "\n",
      "**Use Case:** Group decision-making, brainstorming sessions, creative problem-solving.\n",
      "\n",
      "### 6. **OODA Loop**\n",
      "**Observe, Orient, Decide, Act**\n",
      "\n",
      "- **Observe:** Gather current information from as many sources as possible.\n",
      "- **Orient:** Analyze this information, and use it to update your current reality.\n",
      "- **Decide:** Determine a course of action.\n",
      "- **Act:** Implement the decision.\n",
      "\n",
      "**Use Case:** Rapid decision-making, military strategy, crisis management.\n",
      "\n",
      "### 7. **Pros and Cons List**\n",
      "**Simple comparative evaluation**\n",
      "\n",
      "- List all the pros (advantages) of each option.\n",
      "- List all the cons (disadvantages) of each option.\n",
      "- Compare the lists to make an informed decision.\n",
      "\n",
      "**Use Case:** Everyday decisions, personal choices, simple business decisions.\n",
      "\n",
      "### 8. **The Eisenhower Matrix**\n",
      "**Urgency and importance evaluation**\n",
      "\n",
      "- **Quadrant I:** Urgent and Important (Do first)\n",
      "- **Quadrant II:** Not Urgent but Important (Schedule)\n",
      "- **Quadrant III:** Urgent but Not Important (Delegate)\n",
      "- **Quadrant IV:** Not Urgent and Not Important (Eliminate)\n",
      "\n",
      "**Use Case:** Time management, prioritization of tasks, productivity improvement.\n",
      "\n",
      "### 9. **Root Cause Analysis (RCA)**\n",
      "**Problem-solving**\n",
      "\n",
      "- Identify the problem.\n",
      "- Collect data related to the problem"
     ]
    }
   ],
   "source": [
    "// Create a system prompt instruction to override the default system prompt\n",
    "// Add the System Prompt\n",
    "var systemPromptForDecisions = \"\"\"\n",
    "You are a decision intelligence assistant. \n",
    "Assist the user in exploring options, reasoning through decisions, problem-solving, and applying systems thinking to various scenarios. \n",
    "Provide structured, logical, and comprehensive advice.\n",
    "\"\"\";\n",
    "var simplePrompt = \"Provide some decision frameworks that can help improve the quality of decisions.\";\n",
    "\n",
    "// How the prompt looks like to the LLM\n",
    "var simpleDecisionPromptTemplate = $\"\"\"\n",
    "System Prompt: {systemPromptForDecisions}\n",
    "\n",
    "Request from the user: {simplePrompt}\n",
    "\"\"\";\n",
    "\n",
    "// Create a new OpenAI prompt execution settings object\n",
    "var openAIPromptExecutionSettings = new OpenAIPromptExecutionSettings { \n",
    "    ChatSystemPrompt = systemPromptForDecisions,\n",
    "    MaxTokens = 750, \n",
    "    Temperature = 0.1, \n",
    "    TopP = 1.0, \n",
    "    FrequencyPenalty = 0.0, \n",
    "    PresencePenalty = 0.0\n",
    "    };\n",
    "KernelArguments kernelArguments = new KernelArguments(openAIPromptExecutionSettings);\n",
    "\n",
    "Console.WriteLine(\"Prompt To Send to the Azure OpenAI Chat Completion Service...\");\n",
    "Console.WriteLine(simpleDecisionPromptTemplate);\n",
    "Console.WriteLine(string.Empty);\n",
    "Console.WriteLine(\"----------------------------------------\");\n",
    "Console.WriteLine(string.Empty);\n",
    "Console.WriteLine(\"Response from the Azure OpenAI Chat Completion Service...\");\n",
    "\n",
    "\n",
    "await foreach (var streamChunk in semanticKernel.InvokePromptStreamingAsync(simplePrompt, kernelArguments))\n",
    "{\n",
    "   Console.Write(streamChunk);\n",
    "}"
   ]
  }
 ],
 "metadata": {
  "kernelspec": {
   "display_name": ".NET (C#)",
   "language": "C#",
   "name": ".net-csharp"
  },
  "language_info": {
   "name": "csharp"
  },
  "polyglot_notebook": {
   "kernelInfo": {
    "defaultKernelName": "csharp",
    "items": [
     {
      "aliases": [],
      "name": "csharp"
     }
    ]
   }
  }
 },
 "nbformat": 4,
 "nbformat_minor": 2
}
