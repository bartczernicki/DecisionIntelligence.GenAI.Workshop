{
 "cells": [
  {
   "cell_type": "markdown",
   "metadata": {},
   "source": [
    "<img style=\"float: left;padding-right: 10px\" width =\"40px\" src=\"https://raw.githubusercontent.com/bartczernicki/DecisionIntelligence.GenAI.Workshop/main/Images/SemanticKernelLogo.png\">\n",
    "\n",
    "## Semantic Kernel - Prompts"
   ]
  },
  {
   "cell_type": "markdown",
   "metadata": {},
   "source": [
    "Decision Intelligence applied in this module:  \n",
    "* Listing of various decision-making frameworks and with their descriptions by using GenAI prompt engineering   \n",
    "\n",
    "Prompts are the fundemental building block to getting the proper responses from AI models. This module demonstrates how to use common prompt engineering techniques while using Semantic Kernel. If you've ever used ChatGPT or Microsoft Copilot, you're already familiar with prompting. Given a prompt instruction, an LLM will attempt to predict the most likely response. With Semantic Kernel, you can craft applications, services & APIs that execute prompts.  \n",
    "\n",
    "For more information on using prompts with Semantic Kernel, visit: https://learn.microsoft.com/en-us/semantic-kernel/prompts/your-first-prompt  "
   ]
  },
  {
   "cell_type": "markdown",
   "metadata": {},
   "source": [
    "### Step 1 - Initialize Configuration Builder & Build the Semantic Kernel Orchestration\n",
    "\n",
    "Execute the next two cells to:\n",
    "* Use the Configuration Builder to load the API secrets.  \n",
    "* Use the API configuration to build the Semantic Kernel orchestrator."
   ]
  },
  {
   "cell_type": "code",
   "execution_count": 1,
   "metadata": {
    "dotnet_interactive": {
     "language": "csharp"
    },
    "polyglot_notebook": {
     "kernelName": "csharp"
    },
    "vscode": {
     "languageId": "polyglot-notebook"
    }
   },
   "outputs": [
    {
     "data": {
      "text/html": [
       "<div><div></div><div></div><div><strong>Installed Packages</strong><ul><li><span>Microsoft.Extensions.Configuration, 8.0.0</span></li><li><span>Microsoft.Extensions.Configuration.Json, 8.0.0</span></li></ul></div></div>"
      ]
     },
     "metadata": {},
     "output_type": "display_data"
    }
   ],
   "source": [
    "// Import the required NuGet configuration packages\n",
    "#r \"nuget: Microsoft.Extensions.Configuration, 8.0.0\"\n",
    "#r \"nuget: Microsoft.Extensions.Configuration.Json, 8.0.0\"\n",
    "\n",
    "using Microsoft.Extensions.Configuration;\n",
    "using System.IO;\n",
    "\n",
    "// Load the configuration settings from the local.settings.json and secrets.settings.json files\n",
    "// The secrets.settings.json file is used to store sensitive information such as API keys\n",
    "var configurationBuilder = new ConfigurationBuilder()\n",
    "    .SetBasePath(Directory.GetCurrentDirectory())\n",
    "    .AddJsonFile(\"local.settings.json\", optional: true, reloadOnChange: true)\n",
    "    .AddJsonFile(\"secrets.settings.json\", optional: true, reloadOnChange: true);\n",
    "var config = configurationBuilder.Build();\n",
    "\n",
    "// IMPORTANT: You ONLY NEED either Azure OpenAI or OpenAI connectiopn info, not both.\n",
    "// Azure OpenAI Connection Info\n",
    "var azureOpenAIEndpoint = config[\"AzureOpenAI:Endpoint\"];\n",
    "var azureOpenAIAPIKey = config[\"AzureOpenAI:APIKey\"];\n",
    "var azureOpenAIModelDeploymentName = config[\"AzureOpenAI:ModelDeploymentName\"];\n",
    "// OpenAI Connection Info \n",
    "var openAIAPIKey = config[\"OpenAI:APIKey\"];\n",
    "var openAIModelId = config[\"OpenAI:ModelId\"];"
   ]
  },
  {
   "cell_type": "code",
   "execution_count": 9,
   "metadata": {
    "dotnet_interactive": {
     "language": "csharp"
    },
    "polyglot_notebook": {
     "kernelName": "csharp"
    },
    "vscode": {
     "languageId": "polyglot-notebook"
    }
   },
   "outputs": [
    {
     "data": {
      "text/html": [
       "<div><div></div><div></div><div><strong>Installed Packages</strong><ul><li><span>Microsoft.SemanticKernel, 1.13.0</span></li></ul></div></div>"
      ]
     },
     "metadata": {},
     "output_type": "display_data"
    },
    {
     "name": "stdout",
     "output_type": "stream",
     "text": [
      "Using Azure OpenAI Service\r\n"
     ]
    }
   ],
   "source": [
    "// Import the Semantic Kernel NuGet package\n",
    "#r \"nuget: Microsoft.SemanticKernel, 1.13.0\"\n",
    "\n",
    "using Microsoft.SemanticKernel;\n",
    "using Microsoft.SemanticKernel.ChatCompletion;\n",
    "using Microsoft.SemanticKernel.Connectors.OpenAI;\n",
    "\n",
    "Kernel semanticKernel;\n",
    "\n",
    "// Set the flag to use Azure OpenAI or OpenAI. False to use OpenAI, True to use Azure OpenAI\n",
    "var useAzureOpenAI = true;\n",
    "\n",
    "// Create a new Semantic Kernel instance\n",
    "if (useAzureOpenAI)\n",
    "{\n",
    "    Console.WriteLine(\"Using Azure OpenAI Service\");\n",
    "    semanticKernel = Kernel.CreateBuilder()\n",
    "        .AddAzureOpenAIChatCompletion(\n",
    "            deploymentName: azureOpenAIModelDeploymentName,\n",
    "            endpoint: azureOpenAIEndpoint,\n",
    "            apiKey: azureOpenAIAPIKey)\n",
    "        .Build();\n",
    "}\n",
    "else\n",
    "{\n",
    "    Console.WriteLine(\"Using OpenAI Service\");\n",
    "    semanticKernel = Kernel.CreateBuilder()\n",
    "        .AddOpenAIChatCompletion(\n",
    "            modelId: openAIModelId,\n",
    "            apiKey: openAIAPIKey)\n",
    "        .Build();\n",
    "}"
   ]
  },
  {
   "cell_type": "markdown",
   "metadata": {},
   "source": [
    "### Step 2 - Execute a Semantic Kernel Prompt\n",
    "\n",
    "Many LLMs and even SLMs have been trained on knowledge that includes decision frameworks & processes. This makes LLMs great assistants to:\n",
    "* Provide proper decision frames\n",
    "* Gather the information & intelligence in order to make a decision\n",
    "* Recommend decision frameworks to make a high-quality decision\n",
    "* Provide feedback to evaluate a decision\n",
    "\n",
    "Once the Semantic Kernel instance is built, it is ready to intake prompt instructions. In the prompt below, the Semantic Kernel is instructed to provide examples of decision frameworks. "
   ]
  },
  {
   "cell_type": "code",
   "execution_count": 5,
   "metadata": {
    "dotnet_interactive": {
     "language": "csharp"
    },
    "polyglot_notebook": {
     "kernelName": "csharp"
    },
    "vscode": {
     "languageId": "polyglot-notebook"
    }
   },
   "outputs": [
    {
     "name": "stdout",
     "output_type": "stream",
     "text": [
      "Improving the quality of decisions can be achieved through various structured decision frameworks. Here are some widely recognized ones:\n",
      "\n",
      "1. **SWOT Analysis**:\n",
      "    - **S**trengths: Identify internal strengths that can be leveraged.\n",
      "    - **W**eaknesses: Acknowledge internal weaknesses that need to be addressed.\n",
      "    - **O**pportunities: Look for external opportunities that can be taken advantage of.\n",
      "    - **T**hreats: Recognize external threats that could pose risks.\n",
      "\n",
      "2. **PEST Analysis**:\n",
      "    - **P**olitical: Evaluate the influence of political factors.\n",
      "    - **E**conomic: Consider economic conditions and trends.\n",
      "    - **S**ocial: Understand societal and cultural factors.\n",
      "    - **T**echnological: Assess the impact of technological changes and advancements.\n",
      "\n",
      "3. **Five Whys**:\n",
      "    - Start with a problem statement and ask \"Why?\" five times to drill down to the root cause. Each answer forms the basis of the next question.\n",
      "    \n",
      "4. **Decision Matrix (Weighted Scoring Model)**:\n",
      "    - List all options and criteria.\n",
      "    - Assign weights to each criterion based on importance.\n",
      "    - Score each option against each criterion.\n",
      "    - Multiply scores by weights and sum them to find the most favorable option.\n",
      "\n",
      "5. **Pareto Analysis (80/20 Rule)**:\n",
      "    - Identify the 20% of actions that will account for 80% of the impacts.\n",
      "    - Focus efforts on these key areas for maximum impact.\n",
      "\n",
      "6. **Cost-Benefit Analysis (CBA)**:\n",
      "    - List all costs and benefits associated with the decision.\n",
      "    - Quantify them in monetary terms if possible.\n",
      "    - Compare the total benefits to the total costs.\n",
      "\n",
      "7. **Pros and Cons List**:\n",
      "    - Write down the advantages and disadvantages of each option.\n",
      "    - Analyze the list to decide which option has the most benefits and least drawbacks.\n",
      "\n",
      "8. **Force Field Analysis**:\n",
      "    - Identify driving forces (positive factors) that support the decision.\n",
      "    - Identify restraining forces (negative factors) that might hinder the decision.\n",
      "    - Develop strategies to strengthen driving forces and reduce restraining forces.\n",
      "\n",
      "9. **Six Thinking Hats by Edward de Bono**:\n",
      "    - **White Hat**: Focus on data and facts.\n",
      "    - **Red Hat**: Consider intuitions and feelings.\n",
      "    - **Black Hat**: Analyze potential negatives and risks.\n",
      "    - **Yellow Hat**: Look for positive outcomes and benefits.\n",
      "    - **Green Hat**: Explore creative ideas and alternatives.\n",
      "    - **Blue Hat**: Manage the decision-making process.\n",
      "\n",
      "10. **OODA Loop** (Observe-Orient-Decide-Act):\n",
      "    - **Observe**: Gather current information and data.\n",
      "    - **Orient**: Analyze the context and understand what it means.\n",
      "    - **Decide**: Make a decision based on the observation and orientation.\n",
      "    - **Act**: Implement the decision and then observe the outcome, repeating the cycle as necessary.\n",
      "\n",
      "11. **RAPID® Decision-Making Model by Bain & Company**:\n",
      "    - **R**ecommend: Propose actions to be taken.\n",
      "    - **A**gree: Have the final decision-maker agree with the recommendation.\n",
      "    - **P**erform: Implement the decision.\n",
      "    - **I**nput: Provide necessary input to support the decision process.\n",
      "    - **D**ecide: The person who makes the final decision.\n",
      "\n",
      "12. **Decision Tree**:\n",
      "    - Map out each possible decision and its possible consequences.\n",
      "    - Use the tree to visualize and compare different pathways.\n",
      "\n",
      "Using these frameworks can help structure thought processes, ensure that important aspects are considered, and ultimately lead to more informed and higher-quality decisions.\r\n"
     ]
    }
   ],
   "source": [
    "var simplePrompt = \"Provide some decision frameworks that can help improve the quality of decisions.\";\n",
    "\n",
    "var simplePromptResponse = await semanticKernel.InvokePromptAsync(simplePrompt);\n",
    "Console.WriteLine(simplePromptResponse.GetValue<string>());"
   ]
  },
  {
   "cell_type": "markdown",
   "metadata": {},
   "source": [
    "### Step 3 - Execute a Semantic Kernel Prompt with Streaming\n",
    "\n",
    "Semantic Kernel supports prompt response streaming when invoking the prompt. This allows responses to be streamed to the client as soon as they are made available by the LLM and service. Below the same decision prompt is executed. However, notice that chunks are streamed and can be read by the user as soon as they appear. "
   ]
  },
  {
   "cell_type": "code",
   "execution_count": 6,
   "metadata": {
    "dotnet_interactive": {
     "language": "csharp"
    },
    "polyglot_notebook": {
     "kernelName": "csharp"
    },
    "vscode": {
     "languageId": "polyglot-notebook"
    }
   },
   "outputs": [
    {
     "name": "stdout",
     "output_type": "stream",
     "text": [
      "Certainly! Decision-making frameworks can significantly enhance the quality and consistency of decisions by providing structured approaches. Here are a few well-regarded decision frameworks:\n",
      "\n",
      "### 1. **SWOT Analysis:**\n",
      "This framework helps in identifying the internal and external factors that could impact the decision.\n",
      "\n",
      "- **Strengths:** What are the internal advantages?\n",
      "- **Weaknesses:** What are the internal disadvantages?\n",
      "- **Opportunities:** What external opportunities can we exploit?\n",
      "- **Threats:** What external threats could harm us?\n",
      "\n",
      "### 2. **Pros and Cons List:**\n",
      "A simple yet effective method that involves listing the advantages (pros) and disadvantages (cons) of each option to weigh their merits.\n",
      "\n",
      "### 3. **Decision Matrix Analysis (Grid Analysis):**\n",
      "This tool helps to evaluate and prioritize a list of options. It involves:\n",
      "\n",
      "- Listing options as rows.\n",
      "- Setting criteria as columns.\n",
      "- Scoring each option against each criterion.\n",
      "- Weighting criteria based on importance.\n",
      "- Calculating the weighted total for each option.\n",
      "\n",
      "### 4. **Cost-Benefit Analysis:**\n",
      "This involves comparing the total expected costs against the total expected benefits of one or multiple courses of action, to choose the best or most profitable.\n",
      "\n",
      "### 5. **Pareto Analysis (80/20 Rule):**\n",
      "This framework helps to identify the most significant factors by focusing on the 20% of causes that will produce 80% of the results.\n",
      "\n",
      "### 6. **Six Thinking Hats:**\n",
      "Developed by Edward de Bono, this methodology assigns different perspectives to different \"hats\" to explore a decision from multiple angles:\n",
      "\n",
      "- **White Hat:** Information and data.\n",
      "- **Red Hat:** Emotions and intuition.\n",
      "- **Black Hat:** Criticisms and risks.\n",
      "- **Yellow Hat:** Benefits and value.\n",
      "- **Green Hat:** Creativity and new ideas.\n",
      "- **Blue Hat:** Process control and overview.\n",
      "\n",
      "### 7. **The OODA Loop:**\n",
      "Originally developed by military strategist John Boyd, it stands for:\n",
      "\n",
      "- **Observe:** Gather information.\n",
      "- **Orient:** Analyze and interpret the information.\n",
      "- **Decide:** Choose a course of action.\n",
      "- **Act:** Implement the decision and observe the outcome.\n",
      "\n",
      "### 8. **PDCA Cycle (Plan-Do-Check-Act):**\n",
      "A continuous improvement process used for optimizing and solving problems: \n",
      "\n",
      "- **Plan:** Identify a goal or purpose, formulate a theory, and define success metrics.\n",
      "- **Do:** Implement the plan on a small scale.\n",
      "- **Check:** Evaluate the results.\n",
      "- **Act:** If successful, implement on a larger scale; if not, refine the process and try again.\n",
      "\n",
      "### 9. **Force Field Analysis:**\n",
      "Used to identify forces that either support or work against a proposed change. Assign weights to the forces to determine the strength of each.\n",
      "\n",
      "### 10. **DECIDE Model:**\n",
      "Especially useful in complex decision-making scenarios:\n",
      "\n",
      "- **D**efine the problem.\n",
      "- **E**numerate the decision criteria.\n",
      "- **C**onsider all relevant alternatives.\n",
      "- **I**dentify the best alternative.\n",
      "- **D**evelop an action plan.\n",
      "- **E**valuate the implementation.\n",
      "\n",
      "### 11. **Rational Decision-Making Model:**\n",
      "A step-by-step process for making logically sound decisions:\n",
      "\n",
      "1. Define the problem.\n",
      "2. Identify the decision criteria.\n",
      "3. Allocate weights to the criteria.\n",
      "4. Develop alternatives.\n",
      "5. Evaluate the alternatives.\n",
      "6. Select the best alternative.\n",
      "7. Implement the decision.\n",
      "8. Monitor and evaluate the decision.\n",
      "\n",
      "Using these frameworks can provide structure to decision-making processes, leading to more rational, balanced, and well-thought-out outcomes. Each framework may have its own strengths depending on the context and type of decision being faced."
     ]
    }
   ],
   "source": [
    "await foreach (var streamChunk in semanticKernel.InvokePromptStreamingAsync(simplePrompt))\n",
    "{\n",
    "   Console.Write(streamChunk);\n",
    "}"
   ]
  },
  {
   "cell_type": "markdown",
   "metadata": {},
   "source": [
    "### Step 4 - Execute a Semantic Kernel Prompt with a Custom Prompt Execution Configuration\n",
    "\n",
    "Semantic Kernel supports the configuration of prompt execution. The typical OpenAI and Azure OpenAI settings are exposed as configuration options that provide a different prompt experience. Try changing the MaxTokens, Tempature or other settings."
   ]
  },
  {
   "cell_type": "code",
   "execution_count": 7,
   "metadata": {
    "dotnet_interactive": {
     "language": "csharp"
    },
    "polyglot_notebook": {
     "kernelName": "csharp"
    },
    "vscode": {
     "languageId": "polyglot-notebook"
    }
   },
   "outputs": [
    {
     "name": "stdout",
     "output_type": "stream",
     "text": [
      "Certainly! Decision-making frameworks are structured approaches that help individuals and organizations make more informed and effective choices. Here are some widely recognized frameworks that can improve the quality of decisions:\n",
      "\n",
      "### 1. **SWOT Analysis**\n",
      "- **Strengths:** Identify internal strengths.\n",
      "- **Weaknesses:** Identify internal weaknesses.\n",
      "- **Opportunities:** Identify external opportunities.\n",
      "- **Threats:** Identify external threats.\n",
      "\n",
      "### 2. **PEST Analysis**\n",
      "- **Political:** Consider political factors.\n",
      "- **Economic:** Consider economic factors.\n",
      "- **Social:** Consider social factors.\n",
      "- **Technological:** Consider technological factors.\n",
      "\n",
      "### 3. **Decision Matrix (Weighted Scoring Model)**\n",
      "- List all options.\n",
      "- Identify criteria important for the decision.\n",
      "- Assign weights to each criterion based on importance.\n",
      "- Score each option against each criterion.\n",
      "- Multiply scores by weights and sum them to get a total score for each option.\n",
      "\n",
      "### 4. **Cost-Benefit Analysis**\n",
      "- List all costs associated with each option.\n",
      "- List all benefits associated with each option.\n",
      "- Quantify costs and benefits in monetary terms if possible.\n",
      "- Compare the total costs and benefits to determine the best option.\n",
      "\n",
      "### 5. **Six Thinking Hats (Edward de Bono)**\n",
      "- **White Hat:** Focus on data and information.\n",
      "- **Red Hat:** Focus on emotions and feelings.\n",
      "- **Black Hat:** Focus on potential problems and risks.\n",
      "- **Yellow Hat:** Focus on benefits and optimism.\n",
      "- **Green Hat:** Focus on creativity and new ideas.\n",
      "- **Blue Hat:** Focus on process control and organization.\n",
      "\n",
      "### 6. **Pros and Cons List**\n",
      "- List all the pros (advantages) of each option.\n",
      "- List all the cons (disadvantages) of each option.\n",
      "- Compare the lists to make a more balanced decision.\n",
      "\n",
      "### 7. **Pareto Analysis (80/20 Rule)**\n",
      "- Identify and list problems or options.\n",
      "- Score each problem or option based on impact.\n",
      "- Focus on the top 20% of problems or options that will yield 80% of the benefits.\n",
      "\n",
      "### 8. **OODA Loop (John Boyd)**\n",
      "- **Observe:** Gather data and information.\n",
      "- **Orient:** Analyze the data and form a perspective.\n",
      "- **Decide:** Choose a course of action.\n",
      "- **Act:** Implement the decision.\n",
      "\n",
      "### 9. **Kepner-Tregoe Decision Analysis**\n",
      "- **Situation Analysis:** Identify the problem and its context.\n",
      "- **Problem Analysis:** Determine the root cause.\n",
      "- **Decision Analysis:** Evaluate alternatives and make a decision.\n",
      "- **Potential Problem Analysis:** Identify potential risks and mitigation strategies.\n",
      "\n",
      "### 10. **Vroom-Yetton-Jago Decision Model**\n",
      "- Determine the level of involvement of team members in the decision-making process.\n",
      "- Use a series of questions to decide whether to make the decision autocratically, consultatively, or collaboratively.\n",
      "\n",
      "### 11. **Eisenhower Matrix**\n",
      "- **Urgent and Important:** Do these tasks immediately.\n",
      "- **Important but Not Urgent:** Schedule these tasks.\n",
      "- **Urgent but Not Important:** Delegate these tasks.\n",
      "- **Not Urgent and Not Important:** Eliminate these tasks.\n",
      "\n",
      "### 12. **Fishbone Diagram (Ishikawa)**\n",
      "- Identify the problem.\n",
      "- Draw the main bone (problem) and the sub-bones (causes).\n",
      "- Categorize causes into major categories (e.g., People, Process, Equipment, Materials).\n",
      "- Analyze to find the root cause.\n",
      "\n",
      "### 13. **Monte Carlo Simulation**\n",
      "- Use statistical modeling to understand the impact of risk and uncertainty in decision-making.\n",
      "- Run simulations to predict outcomes based on different variables and scenarios"
     ]
    }
   ],
   "source": [
    "// Create a new OpenAI prompt execution settings object\n",
    "var openAIPromptExecutionSettings = new OpenAIPromptExecutionSettings { \n",
    "    MaxTokens = 750, \n",
    "    Temperature = 0.0, \n",
    "    TopP = 1.0, \n",
    "    FrequencyPenalty = 0.0, \n",
    "    PresencePenalty = 0.0\n",
    "    };\n",
    "\n",
    "KernelArguments kernelArguments = new KernelArguments(openAIPromptExecutionSettings);\n",
    "await foreach (var streamChunk in semanticKernel.InvokePromptStreamingAsync(simplePrompt, kernelArguments))\n",
    "{\n",
    "   Console.Write(streamChunk);\n",
    "}"
   ]
  },
  {
   "cell_type": "markdown",
   "metadata": {},
   "source": [
    "### Step 5 - Execute a Semantic Kernel Prompt with a system prompt (persona)\n",
    "\n",
    "All the best practices of prompt engineering apply when using Semantic Kernel.  \n",
    "* Make the prompt more specific\n",
    "* Add structure to the output with formatting\n",
    "* Provide examples with few-shot prompting\n",
    "* Tell the AI what to do to avoid doing something wrong\n",
    "* Provide context to the AI\n",
    "* Using message roles in chat completion prompts\n",
    "* Give your AI words of encouragement  \n",
    "\n",
    "One best practice is to provide a common behaviour across all the LLM interactions in a system prompt. This system prompt is passed in on every single call the LLM with Semantic Kernel. These prompts can be dynamically created with a programming language like C#.\n",
    "\n",
    "Execute the cell below with a dynamic prompt template. Notice the different behavior of the output for decision frameworks. The decision framework responses are much more robust with decision intelligence information."
   ]
  },
  {
   "cell_type": "code",
   "execution_count": 8,
   "metadata": {
    "dotnet_interactive": {
     "language": "csharp"
    },
    "polyglot_notebook": {
     "kernelName": "csharp"
    },
    "vscode": {
     "languageId": "polyglot-notebook"
    }
   },
   "outputs": [
    {
     "name": "stdout",
     "output_type": "stream",
     "text": [
      "Prompt To Send to the Azure OpenAI Chat Completion Service...\n",
      "System Prompt: You are a decision intelligence assistant. \n",
      "Assist the user in exploring options, reasoning through decisions, problem-solving, and applying systems thinking to various scenarios. \n",
      "Provide structured, logical, and comprehensive advice.\n",
      "\n",
      "Request from the user: Provide some decision frameworks that can help improve the quality of decisions.\n",
      "\n",
      "----------------------------------------\n",
      "\n",
      "Response from the Azure OpenAI Chat Completion Service...\n",
      "Certainly! Here are several decision frameworks that can help improve the quality of decisions:\n",
      "\n",
      "### 1. **SWOT Analysis**\n",
      "**Strengths, Weaknesses, Opportunities, Threats**\n",
      "\n",
      "- **Strengths:** Identify internal attributes that are helpful to achieving the objective.\n",
      "- **Weaknesses:** Identify internal attributes that are harmful to achieving the objective.\n",
      "- **Opportunities:** Identify external conditions that are helpful to achieving the objective.\n",
      "- **Threats:** Identify external conditions that could do damage to the objective.\n",
      "\n",
      "**Use Case:** Strategic planning, business development, personal career planning.\n",
      "\n",
      "### 2. **Decision Matrix (Weighted Scoring)**\n",
      "**Criteria-based evaluation**\n",
      "\n",
      "- List all the options.\n",
      "- Identify the criteria important for the decision.\n",
      "- Assign weights to each criterion based on importance.\n",
      "- Score each option against each criterion.\n",
      "- Multiply the scores by the weights and sum them up for each option.\n",
      "- The option with the highest total score is the preferred choice.\n",
      "\n",
      "**Use Case:** Choosing between multiple alternatives, product selection, vendor selection.\n",
      "\n",
      "### 3. **Cost-Benefit Analysis (CBA)**\n",
      "**Financial evaluation**\n",
      "\n",
      "- List all the costs associated with each option.\n",
      "- List all the benefits associated with each option.\n",
      "- Assign a monetary value to both costs and benefits.\n",
      "- Subtract the total costs from the total benefits to get the net benefit.\n",
      "- Compare the net benefits of all options.\n",
      "\n",
      "**Use Case:** Financial decisions, project evaluation, investment decisions.\n",
      "\n",
      "### 4. **Pareto Analysis (80/20 Rule)**\n",
      "**Focus on the most impactful factors**\n",
      "\n",
      "- Identify and list problems or causes.\n",
      "- Score each problem or cause based on its impact.\n",
      "- Rank the problems or causes in descending order of impact.\n",
      "- Focus on the top 20% of causes that are responsible for 80% of the problems.\n",
      "\n",
      "**Use Case:** Problem-solving, quality control, resource allocation.\n",
      "\n",
      "### 5. **Six Thinking Hats**\n",
      "**Perspective-based evaluation**\n",
      "\n",
      "- **White Hat:** Focus on data and information.\n",
      "- **Red Hat:** Focus on emotions and feelings.\n",
      "- **Black Hat:** Focus on potential problems and risks.\n",
      "- **Yellow Hat:** Focus on benefits and optimism.\n",
      "- **Green Hat:** Focus on creativity and new ideas.\n",
      "- **Blue Hat:** Focus on process control and organization.\n",
      "\n",
      "**Use Case:** Group decision-making, brainstorming sessions, creative problem-solving.\n",
      "\n",
      "### 6. **OODA Loop**\n",
      "**Observe, Orient, Decide, Act**\n",
      "\n",
      "- **Observe:** Gather current information from as many sources as possible.\n",
      "- **Orient:** Analyze this information, and use it to update your current reality.\n",
      "- **Decide:** Determine a course of action.\n",
      "- **Act:** Implement the decision.\n",
      "\n",
      "**Use Case:** Rapid decision-making, military strategy, crisis management.\n",
      "\n",
      "### 7. **Pros and Cons List**\n",
      "**Simple comparative evaluation**\n",
      "\n",
      "- List all the pros (advantages) of each option.\n",
      "- List all the cons (disadvantages) of each option.\n",
      "- Compare the lists to make an informed decision.\n",
      "\n",
      "**Use Case:** Everyday decisions, personal choices, simple business decisions.\n",
      "\n",
      "### 8. **The Eisenhower Matrix**\n",
      "**Urgency and importance evaluation**\n",
      "\n",
      "- **Quadrant I:** Urgent and Important (Do first)\n",
      "- **Quadrant II:** Not Urgent but Important (Schedule)\n",
      "- **Quadrant III:** Urgent but Not Important (Delegate)\n",
      "- **Quadrant IV:** Not Urgent and Not Important (Eliminate)\n",
      "\n",
      "**Use Case:** Time management, prioritization of tasks, productivity improvement.\n",
      "\n",
      "### 9. **Root Cause Analysis (RCA)**\n",
      "**Problem-solving**\n",
      "\n",
      "- Identify the problem.\n",
      "- Collect data related to the problem"
     ]
    }
   ],
   "source": [
    "// Create a system prompt instruction to override the default system prompt\n",
    "// Add the System Prompt\n",
    "var systemPromptForDecisions = \"\"\"\n",
    "You are a decision intelligence assistant. \n",
    "Assist the user in exploring options, reasoning through decisions, problem-solving, and applying systems thinking to various scenarios. \n",
    "Provide structured, logical, and comprehensive advice.\n",
    "\"\"\";\n",
    "var simplePrompt = \"Provide some decision frameworks that can help improve the quality of decisions.\";\n",
    "\n",
    "// How the prompt looks like to the LLM\n",
    "var simpleDecisionPromptTemplate = $\"\"\"\n",
    "System Prompt: {systemPromptForDecisions}\n",
    "\n",
    "Request from the user: {simplePrompt}\n",
    "\"\"\";\n",
    "\n",
    "// Create a new OpenAI prompt execution settings object\n",
    "var openAIPromptExecutionSettings = new OpenAIPromptExecutionSettings { \n",
    "    ChatSystemPrompt = systemPromptForDecisions,\n",
    "    MaxTokens = 750, \n",
    "    Temperature = 0.1, \n",
    "    TopP = 1.0, \n",
    "    FrequencyPenalty = 0.0, \n",
    "    PresencePenalty = 0.0\n",
    "    };\n",
    "KernelArguments kernelArguments = new KernelArguments(openAIPromptExecutionSettings);\n",
    "\n",
    "Console.WriteLine(\"Prompt To Send to the Azure OpenAI Chat Completion Service...\");\n",
    "Console.WriteLine(simpleDecisionPromptTemplate);\n",
    "Console.WriteLine(string.Empty);\n",
    "Console.WriteLine(\"----------------------------------------\");\n",
    "Console.WriteLine(string.Empty);\n",
    "Console.WriteLine(\"Response from the Azure OpenAI Chat Completion Service...\");\n",
    "\n",
    "\n",
    "await foreach (var streamChunk in semanticKernel.InvokePromptStreamingAsync(simplePrompt, kernelArguments))\n",
    "{\n",
    "   Console.Write(streamChunk);\n",
    "}"
   ]
  }
 ],
 "metadata": {
  "kernelspec": {
   "display_name": ".NET (C#)",
   "language": "C#",
   "name": ".net-csharp"
  },
  "language_info": {
   "name": "csharp"
  },
  "polyglot_notebook": {
   "kernelInfo": {
    "defaultKernelName": "csharp",
    "items": [
     {
      "aliases": [],
      "name": "csharp"
     }
    ]
   }
  }
 },
 "nbformat": 4,
 "nbformat_minor": 2
}
